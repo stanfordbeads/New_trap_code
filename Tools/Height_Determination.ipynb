{
 "cells": [
  {
   "cell_type": "code",
   "execution_count": 2,
   "metadata": {},
   "outputs": [
    {
     "ename": "ModuleNotFoundError",
     "evalue": "No module named 'cv2'",
     "output_type": "error",
     "traceback": [
      "\u001b[0;31m---------------------------------------------------------------------------\u001b[0m",
      "\u001b[0;31mModuleNotFoundError\u001b[0m                       Traceback (most recent call last)",
      "\u001b[0;32m<ipython-input-2-704719e408ea>\u001b[0m in \u001b[0;36m<module>\u001b[0;34m()\u001b[0m\n\u001b[0;32m----> 1\u001b[0;31m \u001b[0;32mimport\u001b[0m \u001b[0mcv2\u001b[0m\u001b[0;34m\u001b[0m\u001b[0;34m\u001b[0m\u001b[0m\n\u001b[0m\u001b[1;32m      2\u001b[0m \u001b[0;32mimport\u001b[0m \u001b[0mmatplotlib\u001b[0m\u001b[0;34m.\u001b[0m\u001b[0mpyplot\u001b[0m \u001b[0;32mas\u001b[0m \u001b[0mplt\u001b[0m\u001b[0;34m\u001b[0m\u001b[0;34m\u001b[0m\u001b[0m\n\u001b[1;32m      3\u001b[0m \u001b[0;32mimport\u001b[0m \u001b[0mnumpy\u001b[0m \u001b[0;32mas\u001b[0m \u001b[0mnp\u001b[0m\u001b[0;34m\u001b[0m\u001b[0;34m\u001b[0m\u001b[0m\n\u001b[1;32m      4\u001b[0m \u001b[0;32mimport\u001b[0m \u001b[0mglob\u001b[0m\u001b[0;34m\u001b[0m\u001b[0;34m\u001b[0m\u001b[0m\n\u001b[1;32m      5\u001b[0m \u001b[0;32mfrom\u001b[0m \u001b[0mmatplotlib\u001b[0m \u001b[0;32mimport\u001b[0m \u001b[0mmlab\u001b[0m \u001b[0;32mas\u001b[0m \u001b[0mmlab\u001b[0m\u001b[0;34m\u001b[0m\u001b[0;34m\u001b[0m\u001b[0m\n",
      "\u001b[0;31mModuleNotFoundError\u001b[0m: No module named 'cv2'"
     ]
    }
   ],
   "source": [
    "#!/usr/bin/env python\n",
    "# coding: utf-8\n",
    "\n",
    "# In[39]:\n",
    "\n",
    "from pymba import*\n",
    "import numpy as np\n",
    "import cv2\n",
    "from typing import Optional\n",
    "import matplotlib.pyplot as plt\n",
    "from pathlib import Path\n",
    "import sys\n",
    "\n",
    "# todo add more colours\n",
    "#PIXEL_FORMATS_CONVERSIONS = {\n",
    "#    'BayerRG8': cv2.COLOR_BAYER_RG2RGB,\n",
    "#}\n",
    "\n",
    "\n",
    "path_var = \"test.npy\" #sys.argv[1] + sys.argv[2] + \".npy\"\n",
    "filename = Path(path_var)\n",
    "\n",
    "def display_frame(frame: Frame, delay: Optional[int] = 1):\n",
    "    \"\"\"\n",
    "    Displays the acquired frame.\n",
    "    :param frame: The frame object to display.\n",
    "    :param delay: Display delay in milliseconds, use 0 for indefinite.\n",
    "    \"\"\"\n",
    "    print(f'frame {frame.data.frameID}')\n",
    "\n",
    "    # get a copy of the frame data\n",
    "    image = frame.buffer_data_numpy()\n",
    "\n",
    "    # convert colour space if desired\n",
    "    #try:\n",
    "    #    image = cv2.cvtColor(image, PIXEL_FORMATS_CONVERSIONS[frame.pixel_format])\n",
    "    #except KeyError:\n",
    "    #    pass\n",
    "\n",
    "    # display image\n",
    "    cv2.imshow('Image', image)\n",
    "    cv2.waitKey(delay)\n",
    "    \n",
    "if __name__ == '__main__':\n",
    "\n",
    "    with Vimba() as vimba:\n",
    "        camera = vimba.camera(0)\n",
    "        camera.open()\n",
    "\n",
    "        camera.arm('SingleFrame')\n",
    "        # capture a single frame, more than once if desired\n",
    "        frame = camera.acquire_frame()\n",
    "        img = frame.buffer_data_numpy()\n",
    "        #display_frame(frame, 0)\n",
    "\n",
    "      \n",
    "        if not filename.exists(): np.save(\"height.npy\",img)\n",
    "        #else: np.save(sys.argv[1], img)\n",
    "\n",
    "        camera.disarm()\n",
    "\n",
    "        camera.close()\n",
    "return path\n",
    "\n",
    "def pixel_to_um(pixel):\n",
    "    total_pixel = 1024 # pixel\n",
    "    pixel_resolution = 4.6 # um\n",
    "    magnification = 10 # have to check, whether this is the correct one\n",
    "    pixel_per_um = total_pixel*pixel_resolution/magnification\n",
    "    um = pixel_per_um*pixel/total_pixel # total_pixel cancels out, but for educational purpose\n",
    "    return um\n",
    "\n",
    "### goal ###\n",
    "\n",
    "\n",
    "def automatic_height_analysis(path):\n",
    "    \n",
    "    \n",
    "    return height"
   ]
  },
  {
   "cell_type": "code",
   "execution_count": null,
   "metadata": {},
   "outputs": [],
   "source": [
    "pixel_to_um(np.argmax(np.mean(img_files[j], axis=1)))"
   ]
  }
 ],
 "metadata": {
  "kernelspec": {
   "display_name": "Python 3",
   "language": "python",
   "name": "python3"
  },
  "language_info": {
   "codemirror_mode": {
    "name": "ipython",
    "version": 3
   },
   "file_extension": ".py",
   "mimetype": "text/x-python",
   "name": "python",
   "nbconvert_exporter": "python",
   "pygments_lexer": "ipython3",
   "version": "3.6.8"
  }
 },
 "nbformat": 4,
 "nbformat_minor": 2
}
