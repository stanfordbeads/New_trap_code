{
 "cells": [
  {
   "cell_type": "code",
   "execution_count": 1,
   "metadata": {},
   "outputs": [],
   "source": [
    "import numpy as np\n",
    "import matplotlib.pyplot as plt\n",
    "import matplotlib\n",
    "from matplotlib import mlab\n",
    "from scipy import signal\n",
    "import h5py, time\n",
    "import sys\n",
    "import glob\n",
    "sys.path.append('/home/analysis_user/New_trap_code/Tools/')\n",
    "import BeadDataFile\n",
    "from discharge_tools import load_dir\n",
    "from iminuit import Minuit, describe\n",
    "from pprint import pprint # we use this to pretty print some stuff later\n",
    "from tqdm import tqdm\n",
    "import probfit\n"
   ]
  },
  {
   "cell_type": "code",
   "execution_count": 53,
   "metadata": {},
   "outputs": [],
   "source": [
    "mean = [2, 4]\n",
    "cov = [[12, 2], [21, 54]]  # diagonal covariance"
   ]
  },
  {
   "cell_type": "code",
   "execution_count": 54,
   "metadata": {},
   "outputs": [
    {
     "name": "stderr",
     "output_type": "stream",
     "text": [
      "/usr/lib/python3/dist-packages/ipykernel_launcher.py:1: RuntimeWarning: covariance is not symmetric positive-semidefinite.\n",
      "  \"\"\"Entry point for launching an IPython kernel.\n"
     ]
    }
   ],
   "source": [
    "x, y = np.random.multivariate_normal(mean, cov, 1000).T\n",
    "z, xedges,yedges = np.histogram2d(x,y, bins= (10,10))"
   ]
  },
  {
   "cell_type": "code",
   "execution_count": 55,
   "metadata": {},
   "outputs": [],
   "source": [
    "x_bin_center = 0.5*(xedges[1:]+xedges[:-1])\n",
    "y_bin_center = 0.5*(yedges[1:]+yedges[:-1])\n",
    "\n",
    "x_mesh, y_mesh = np.meshgrid(x_bin_center, y_bin_center)\n",
    "x_mesh_ravel = x_mesh.ravel()\n",
    "y_mesh_ravel = y_mesh.ravel()\n",
    "\n",
    "data_z_ravel = z.ravel()\n",
    "z_error = np.sqrt(data_z_ravel)"
   ]
  },
  {
   "cell_type": "code",
   "execution_count": 56,
   "metadata": {},
   "outputs": [
    {
     "name": "stderr",
     "output_type": "stream",
     "text": [
      "No handles with labels found to put in legend.\n"
     ]
    },
    {
     "data": {
      "text/plain": [
       "<matplotlib.legend.Legend at 0x7f3a1103e3c8>"
      ]
     },
     "execution_count": 56,
     "metadata": {},
     "output_type": "execute_result"
    },
    {
     "data": {
      "image/png": "[encoded data removed]",
      "text/plain": [
       "<Figure size 432x288 with 2 Axes>"
      ]
     },
     "metadata": {},
     "output_type": "display_data"
    }
   ],
   "source": [
    "plot_bins = 256\n",
    "xplot = np.linspace(x[0],x[-1],plot_bins)\n",
    "yplot= np.linspace(y[0],y[-1],plot_bins)\n",
    "\n",
    "xplot,yplot = np.meshgrid(xplot,yplot)\n",
    "\n",
    "\n",
    "fig, ax = plt.subplots(1, 1)\n",
    "\n",
    "plt.pcolormesh(xedges, yedges, z, norm = matplotlib.colors.LogNorm())\n",
    "\n",
    "plt.colorbar(label = \"Events/bin\")\n",
    "#plt.xlabel('$cs1$ [pe]')\n",
    "#plt.ylabel('$cs2_b/100$ [pe]')\n",
    "\n",
    "\n",
    "plt.legend(fancybox=True, fontsize = 15)"
   ]
  },
  {
   "cell_type": "code",
   "execution_count": 63,
   "metadata": {},
   "outputs": [],
   "source": [
    "def two_dimensional_gaussian_XENONStyle(data_x,data_y,params=list):\n",
    "    g1 = np.power((((data_x-params[1])*np.cos(params[3])-(data_y-params[2])*np.sin(params[3]))/params[4]),2)\n",
    "    g2 = np.power((((data_x-params[1])*np.sin(params[3])+(data_y-params[2])*np.cos(params[3]))/params[5]),2)\n",
    "    #g2 = ((data_x-params[2])/params[4]);   \n",
    "    return params[0]*np.exp(-0.5*(g1+g2))+params[6]\n",
    " \n",
    "    \n",
    "def two_dimensional_gaussian_Akiostyle(data_x,data_y,params=list):\n",
    "    g1 = ((data_x-params[1])/params[2])\n",
    "    g2 = ((data_x-params[3])/params[4])\n",
    "    return params[0]*np.exp(-0.5*(g1**2+g2**2))\n",
    "\n",
    "# checked both, equivalent, but akios are formulated in a convolved parameter way"
   ]
  },
  {
   "cell_type": "code",
   "execution_count": 68,
   "metadata": {},
   "outputs": [],
   "source": [
    "def chisquare_2d(function, data_x, data_y,data_z,data_z_error, functionparams=list):\n",
    "    chisquarevaluex=np.sum(np.power(np.divide(np.subtract(function(data_x,data_y,functionparams),data_z),data_z_error),2))\n",
    "    ndf = len(data_y)-len(functionparams)\n",
    "    #print(ndf)\n",
    "    return (chisquarevaluex, ndf)\n",
    "\n",
    "def chisquare_2d_gaus_xenon(amp,x0,y0,theta,a,b,const):\n",
    "    return chisquare_2d(function=two_dimensional_gaussian_XENONStyle,functionparams=[amp,x0,y0,theta,a,b,const],data_x=data_x,data_y=data_y,data_z=data_z,data_z_error=data_z_error)[0]\n",
    "\n",
    "def chisquare_2d_gaus_Akio(a,b,c,d,e,f):\n",
    "    return chisquare_2d(function=two_dimensional_gaussian_Akiostyle,functionparams=[a,b,c,d,e,f],data_x=data_x,data_y=data_y,data_z=data_z,data_z_error=data_z_error)[0]\n"
   ]
  },
  {
   "cell_type": "code",
   "execution_count": 76,
   "metadata": {},
   "outputs": [
    {
     "name": "stdout",
     "output_type": "stream",
     "text": [
      "------------------------------------------------------------------\n",
      "| FCN = 685.1                   |      Ncalls=78 (78 total)      |\n",
      "| EDM = 8.41E-08 (Goal: 1E-05)  |            up = 1.0            |\n",
      "------------------------------------------------------------------\n",
      "|  Valid Min.   | Valid Param.  | Above EDM | Reached call limit |\n",
      "------------------------------------------------------------------\n",
      "|     False     |     True      |   False   |       False        |\n",
      "------------------------------------------------------------------\n",
      "| Hesse failed  |   Has cov.    | Accurate  | Pos. def. | Forced |\n",
      "------------------------------------------------------------------\n",
      "|     True      |     True      |   False   |   False   | False  |\n",
      "------------------------------------------------------------------\n",
      "5.279788075316258 0.10437110098763702 -0.10251926873321321 0.1280226175630747 0.5374766588505103 0.1\n",
      "\n"
     ]
    },
    {
     "name": "stderr",
     "output_type": "stream",
     "text": [
      "/usr/lib/python3/dist-packages/ipykernel_launcher.py:5: InitialParamWarning: Parameter d is floating but does not have initial step size. Assume 1.\n",
      "  \"\"\"\n",
      "/usr/lib/python3/dist-packages/ipykernel_launcher.py:5: InitialParamWarning: Parameter e is floating but does not have initial step size. Assume 1.\n",
      "  \"\"\"\n",
      "/usr/lib/python3/dist-packages/ipykernel_launcher.py:5: InitialParamWarning: Parameter f is floating but does not have initial step size. Assume 1.\n",
      "  \"\"\"\n"
     ]
    }
   ],
   "source": [
    "data_x = x_mesh_ravel\n",
    "data_y = y_mesh_ravel\n",
    "data_z = data_z_ravel\n",
    "data_z_error = np.sqrt(data_z) + 1\n",
    "m2=Minuit(chisquare_2d_gaus_Akio,a=5,fix_a=False,b=0.1,fix_b=False,c=-0.1,fix_c=False,d=0.1,e=0.5,f=0.1,errordef = 1,print_level=1)\n",
    "m2.migrad(ncall=500000)\n",
    "print(m2.values[\"a\"],m2.values[\"b\"],m2.values[\"c\"],m2.values[\"d\"],m2.values[\"e\"],m2.values[\"f\"])\n",
    "print()\n",
    "#plt.title(\"%s\" %i)\n",
    "#plt.plot(FreqTF,transfer_function1(data_x,params=[m2.values[\"a\"],m2.values[\"b\"],m2.values[\"c\"],m2.values[\"d\"]]))\n",
    "#plt.plot(FreqTF,TF[i][i])\n",
    "#plt.yscale(\"log\")\n",
    "#plt.show()"
   ]
  },
  {
   "cell_type": "code",
   "execution_count": 66,
   "metadata": {},
   "outputs": [
    {
     "name": "stdout",
     "output_type": "stream",
     "text": [
      "------------------------------------------------------------------\n",
      "| FCN = 37.12                   |     Ncalls=415 (415 total)     |\n",
      "| EDM = 2.98E-06 (Goal: 1E-05)  |            up = 1.0            |\n",
      "------------------------------------------------------------------\n",
      "|  Valid Min.   | Valid Param.  | Above EDM | Reached call limit |\n",
      "------------------------------------------------------------------\n",
      "|     True      |     True      |   False   |       False        |\n",
      "------------------------------------------------------------------\n",
      "| Hesse failed  |   Has cov.    | Accurate  | Pos. def. | Forced |\n",
      "------------------------------------------------------------------\n",
      "|     False     |     True      |   True    |   True    | False  |\n",
      "------------------------------------------------------------------\n",
      "71.88813904314844 1.0955123753426879 5.051655311461395 0.2956865682825365 2.954193134366988 7.4703575020070625 -0.07587778054881908\n",
      "\n"
     ]
    },
    {
     "name": "stderr",
     "output_type": "stream",
     "text": [
      "/usr/lib/python3/dist-packages/ipykernel_launcher.py:5: InitialParamWarning: Parameter theta is floating but does not have initial step size. Assume 1.\n",
      "  \"\"\"\n",
      "/usr/lib/python3/dist-packages/ipykernel_launcher.py:5: InitialParamWarning: Parameter a is floating but does not have initial step size. Assume 1.\n",
      "  \"\"\"\n",
      "/usr/lib/python3/dist-packages/ipykernel_launcher.py:5: InitialParamWarning: Parameter b is floating but does not have initial step size. Assume 1.\n",
      "  \"\"\"\n",
      "/usr/lib/python3/dist-packages/ipykernel_launcher.py:5: InitialParamWarning: Parameter const is floating but does not have initial step size. Assume 1.\n",
      "  \"\"\"\n"
     ]
    }
   ],
   "source": [
    "data_x = x_mesh_ravel\n",
    "data_y = y_mesh_ravel\n",
    "data_z = data_z_ravel\n",
    "data_z_error = np.sqrt(data_z) + 1\n",
    "m2=Minuit(chisquare_2d_gaus_xenon,amp=70,fix_amp=False,x0=0,fix_x0=False,y0=0,fix_y0=False,theta=0.1,a=1,b=1,const=0,errordef = 1,print_level=1)\n",
    "m2.migrad(ncall=500000)\n",
    "print(m2.values[\"amp\"],m2.values[\"x0\"],m2.values[\"y0\"],m2.values[\"theta\"],m2.values[\"a\"],m2.values[\"b\"],m2.values[\"const\"])\n",
    "print()\n",
    "#plt.title(\"%s\" %i)\n",
    "#plt.plot(FreqTF,transfer_function1(data_x,params=[m2.values[\"a\"],m2.values[\"b\"],m2.values[\"c\"],m2.values[\"d\"]]))\n",
    "#plt.plot(FreqTF,TF[i][i])\n",
    "#plt.yscale(\"log\")\n",
    "#plt.show()"
   ]
  },
  {
   "cell_type": "code",
   "execution_count": 93,
   "metadata": {},
   "outputs": [],
   "source": [
    "#arg_list = [m2.values[\"amp\"],m2.values[\"x0\"],m2.values[\"y0\"],m2.values[\"theta\"],m2.values[\"a\"],m2.values[\"b\"],m2.values[\"const\"]]\n",
    "arg_list = [4,0.1,1,1.5,5,3]"
   ]
  },
  {
   "cell_type": "code",
   "execution_count": 94,
   "metadata": {},
   "outputs": [
    {
     "name": "stderr",
     "output_type": "stream",
     "text": [
      "No handles with labels found to put in legend.\n"
     ]
    },
    {
     "ename": "IndexError",
     "evalue": "list index out of range",
     "output_type": "error",
     "traceback": [
      "\u001b[0;31m---------------------------------------------------------------------------\u001b[0m",
      "\u001b[0;31mIndexError\u001b[0m                                Traceback (most recent call last)",
      "\u001b[0;32m<ipython-input-94-4dbbea7e8d07>\u001b[0m in \u001b[0;36m<module>\u001b[0;34m()\u001b[0m\n\u001b[1;32m     11\u001b[0m \u001b[0mplt\u001b[0m\u001b[0;34m.\u001b[0m\u001b[0mlegend\u001b[0m\u001b[0;34m(\u001b[0m\u001b[0mfancybox\u001b[0m\u001b[0;34m=\u001b[0m\u001b[0;32mTrue\u001b[0m\u001b[0;34m,\u001b[0m \u001b[0mfontsize\u001b[0m \u001b[0;34m=\u001b[0m \u001b[0;36m15\u001b[0m\u001b[0;34m)\u001b[0m\u001b[0;34m\u001b[0m\u001b[0;34m\u001b[0m\u001b[0m\n\u001b[1;32m     12\u001b[0m \u001b[0;34m\u001b[0m\u001b[0m\n\u001b[0;32m---> 13\u001b[0;31m \u001b[0mlines\u001b[0m \u001b[0;34m=\u001b[0m \u001b[0mnp\u001b[0m\u001b[0;34m.\u001b[0m\u001b[0mlinspace\u001b[0m\u001b[0;34m(\u001b[0m\u001b[0;36m1\u001b[0m\u001b[0;34m,\u001b[0m \u001b[0mnp\u001b[0m\u001b[0;34m.\u001b[0m\u001b[0mmax\u001b[0m\u001b[0;34m(\u001b[0m\u001b[0mtwo_dimensional_gaussian_XENONStyle\u001b[0m\u001b[0;34m(\u001b[0m\u001b[0mxplot\u001b[0m\u001b[0;34m,\u001b[0m \u001b[0myplot\u001b[0m\u001b[0;34m,\u001b[0m \u001b[0marg_list\u001b[0m\u001b[0;34m)\u001b[0m\u001b[0;34m)\u001b[0m\u001b[0;34m,\u001b[0m\u001b[0;36m5\u001b[0m\u001b[0;34m)\u001b[0m\u001b[0;34m\u001b[0m\u001b[0;34m\u001b[0m\u001b[0m\n\u001b[0m\u001b[1;32m     14\u001b[0m \u001b[0;34m\u001b[0m\u001b[0m\n\u001b[1;32m     15\u001b[0m \u001b[0max\u001b[0m\u001b[0;34m.\u001b[0m\u001b[0mcontour\u001b[0m\u001b[0;34m(\u001b[0m\u001b[0mxplot\u001b[0m\u001b[0;34m,\u001b[0m \u001b[0myplot\u001b[0m\u001b[0;34m,\u001b[0m \u001b[0mtwo_dimensional_gaussian_XENONStyle\u001b[0m\u001b[0;34m(\u001b[0m\u001b[0mxplot\u001b[0m\u001b[0;34m,\u001b[0m \u001b[0myplot\u001b[0m\u001b[0;34m,\u001b[0m \u001b[0marg_list\u001b[0m\u001b[0;34m)\u001b[0m\u001b[0;34m,\u001b[0m \u001b[0mlines\u001b[0m\u001b[0;34m,\u001b[0m \u001b[0mcolors\u001b[0m\u001b[0;34m=\u001b[0m\u001b[0;34m'r'\u001b[0m\u001b[0;34m,\u001b[0m \u001b[0mlabel\u001b[0m\u001b[0;34m=\u001b[0m\u001b[0;34m\"Fit\"\u001b[0m\u001b[0;34m)\u001b[0m\u001b[0;34m\u001b[0m\u001b[0;34m\u001b[0m\u001b[0m\n",
      "\u001b[0;32m<ipython-input-63-93fc7f1439e0>\u001b[0m in \u001b[0;36mtwo_dimensional_gaussian_XENONStyle\u001b[0;34m(data_x, data_y, params)\u001b[0m\n\u001b[1;32m      3\u001b[0m     \u001b[0mg2\u001b[0m \u001b[0;34m=\u001b[0m \u001b[0mnp\u001b[0m\u001b[0;34m.\u001b[0m\u001b[0mpower\u001b[0m\u001b[0;34m(\u001b[0m\u001b[0;34m(\u001b[0m\u001b[0;34m(\u001b[0m\u001b[0;34m(\u001b[0m\u001b[0mdata_x\u001b[0m\u001b[0;34m-\u001b[0m\u001b[0mparams\u001b[0m\u001b[0;34m[\u001b[0m\u001b[0;36m1\u001b[0m\u001b[0;34m]\u001b[0m\u001b[0;34m)\u001b[0m\u001b[0;34m*\u001b[0m\u001b[0mnp\u001b[0m\u001b[0;34m.\u001b[0m\u001b[0msin\u001b[0m\u001b[0;34m(\u001b[0m\u001b[0mparams\u001b[0m\u001b[0;34m[\u001b[0m\u001b[0;36m3\u001b[0m\u001b[0;34m]\u001b[0m\u001b[0;34m)\u001b[0m\u001b[0;34m+\u001b[0m\u001b[0;34m(\u001b[0m\u001b[0mdata_y\u001b[0m\u001b[0;34m-\u001b[0m\u001b[0mparams\u001b[0m\u001b[0;34m[\u001b[0m\u001b[0;36m2\u001b[0m\u001b[0;34m]\u001b[0m\u001b[0;34m)\u001b[0m\u001b[0;34m*\u001b[0m\u001b[0mnp\u001b[0m\u001b[0;34m.\u001b[0m\u001b[0mcos\u001b[0m\u001b[0;34m(\u001b[0m\u001b[0mparams\u001b[0m\u001b[0;34m[\u001b[0m\u001b[0;36m3\u001b[0m\u001b[0;34m]\u001b[0m\u001b[0;34m)\u001b[0m\u001b[0;34m)\u001b[0m\u001b[0;34m/\u001b[0m\u001b[0mparams\u001b[0m\u001b[0;34m[\u001b[0m\u001b[0;36m5\u001b[0m\u001b[0;34m]\u001b[0m\u001b[0;34m)\u001b[0m\u001b[0;34m,\u001b[0m\u001b[0;36m2\u001b[0m\u001b[0;34m)\u001b[0m\u001b[0;34m\u001b[0m\u001b[0;34m\u001b[0m\u001b[0m\n\u001b[1;32m      4\u001b[0m     \u001b[0;31m#g2 = ((data_x-params[2])/params[4]);\u001b[0m\u001b[0;34m\u001b[0m\u001b[0;34m\u001b[0m\u001b[0;34m\u001b[0m\u001b[0m\n\u001b[0;32m----> 5\u001b[0;31m     \u001b[0;32mreturn\u001b[0m \u001b[0mparams\u001b[0m\u001b[0;34m[\u001b[0m\u001b[0;36m0\u001b[0m\u001b[0;34m]\u001b[0m\u001b[0;34m*\u001b[0m\u001b[0mnp\u001b[0m\u001b[0;34m.\u001b[0m\u001b[0mexp\u001b[0m\u001b[0;34m(\u001b[0m\u001b[0;34m-\u001b[0m\u001b[0;36m0.5\u001b[0m\u001b[0;34m*\u001b[0m\u001b[0;34m(\u001b[0m\u001b[0mg1\u001b[0m\u001b[0;34m+\u001b[0m\u001b[0mg2\u001b[0m\u001b[0;34m)\u001b[0m\u001b[0;34m)\u001b[0m\u001b[0;34m+\u001b[0m\u001b[0mparams\u001b[0m\u001b[0;34m[\u001b[0m\u001b[0;36m6\u001b[0m\u001b[0;34m]\u001b[0m\u001b[0;34m\u001b[0m\u001b[0;34m\u001b[0m\u001b[0m\n\u001b[0m\u001b[1;32m      6\u001b[0m \u001b[0;34m\u001b[0m\u001b[0m\n\u001b[1;32m      7\u001b[0m \u001b[0;34m\u001b[0m\u001b[0m\n",
      "\u001b[0;31mIndexError\u001b[0m: list index out of range"
     ]
    },
    {
     "data": {
      "image/png": "[encoded data removed]",
      "text/plain": [
       "<Figure size 432x288 with 2 Axes>"
      ]
     },
     "metadata": {},
     "output_type": "display_data"
    }
   ],
   "source": [
    "plot_bins = 256\n",
    "xplot = np.linspace(-20,20,plot_bins)\n",
    "yplot= np.linspace(-20,20,plot_bins)\n",
    "\n",
    "xplot,yplot = np.meshgrid(xplot,yplot)\n",
    "\n",
    "fig, ax = plt.subplots(1, 1)\n",
    "\n",
    "plt.pcolormesh(xedges, yedges, z, norm = matplotlib.colors.LogNorm(), cmap=\"viridis\")\n",
    "plt.colorbar(label = \"Events/bin\")\n",
    "plt.legend(fancybox=True, fontsize = 15)\n",
    "\n",
    "lines = np.linspace(1, np.max(two_dimensional_gaussian_XENONStyle(xplot, yplot, arg_list)),5)\n",
    "        \n",
    "ax.contour(xplot, yplot, two_dimensional_gaussian_XENONStyle(xplot, yplot, arg_list), lines, colors='r', label=\"Fit\")\n",
    "plt.show()"
   ]
  },
  {
   "cell_type": "code",
   "execution_count": 119,
   "metadata": {},
   "outputs": [
    {
     "name": "stderr",
     "output_type": "stream",
     "text": [
      "No handles with labels found to put in legend.\n",
      "/usr/lib/python3/dist-packages/ipykernel_launcher.py:17: UserWarning: The following kwargs were not used by contour: 'label'\n"
     ]
    },
    {
     "data": {
      "image/png": "[encoded data removed]",
      "text/plain": [
       "<Figure size 432x288 with 1 Axes>"
      ]
     },
     "metadata": {},
     "output_type": "display_data"
    }
   ],
   "source": [
    "#arg_list = [m2.values[\"amp\"],m2.values[\"x0\"],m2.values[\"y0\"],m2.values[\"theta\"],m2.values[\"a\"],m2.values[\"b\"],m2.values[\"const\"]]\n",
    "arg_list = [21,4,12,-.12,-12,-1.0]\n",
    "plot_bins = 256\n",
    "xplot = np.linspace(-20,20,plot_bins)\n",
    "yplot= np.linspace(-20,20,plot_bins)\n",
    "\n",
    "xplot,yplot = np.meshgrid(xplot,yplot)\n",
    "\n",
    "fig, ax = plt.subplots(1, 1)\n",
    "\n",
    "#plt.pcolormesh(xedges, yedges, z, norm = matplotlib.colors.LogNorm(), cmap=\"viridis\")\n",
    "#plt.colorbar(label = \"Events/bin\")\n",
    "plt.legend(fancybox=True, fontsize = 15)\n",
    "\n",
    "lines = np.linspace(1, np.max(two_dimensional_gaussian_Akiostyle(xplot, yplot, arg_list)),5)\n",
    "        \n",
    "ax.contour(xplot, yplot, two_dimensional_gaussian_Akiostyle(xplot, yplot, arg_list), lines, colors='r', label=\"Fit\")\n",
    "plt.show()"
   ]
  },
  {
   "cell_type": "code",
   "execution_count": 95,
   "metadata": {},
   "outputs": [
    {
     "data": {
      "text/plain": [
       "3.840661475554793"
      ]
     },
     "execution_count": 95,
     "metadata": {},
     "output_type": "execute_result"
    }
   ],
   "source": [
    "np.max(two_dimensional_gaussian_Akiostyle(xplot, yplot, arg_list))"
   ]
  },
  {
   "cell_type": "code",
   "execution_count": null,
   "metadata": {},
   "outputs": [],
   "source": []
  }
 ],
 "metadata": {
  "kernelspec": {
   "display_name": "Python 3",
   "language": "python",
   "name": "python3"
  },
  "language_info": {
   "codemirror_mode": {
    "name": "ipython",
    "version": 3
   },
   "file_extension": ".py",
   "mimetype": "text/x-python",
   "name": "python",
   "nbconvert_exporter": "python",
   "pygments_lexer": "ipython3",
   "version": "3.6.8"
  }
 },
 "nbformat": 4,
 "nbformat_minor": 2
}
