{
 "cells": [
  {
   "cell_type": "code",
   "execution_count": 1,
   "metadata": {},
   "outputs": [],
   "source": [
    "import numpy as np\n",
    "import matplotlib.pyplot as plt\n",
    "import matplotlib\n",
    "from matplotlib import mlab\n",
    "from scipy import signal\n",
    "import h5py, time\n",
    "import sys\n",
    "import glob\n",
    "sys.path.append('/home/analysis_user/New_trap_code/Tools/')\n",
    "import BeadDataFile\n",
    "from discharge_tools import load_dir\n",
    "from iminuit import Minuit, describe\n",
    "from pprint import pprint # we use this to pretty print some stuff later\n",
    "from tqdm import tqdm\n",
    "import probfit\n"
   ]
  },
  {
   "cell_type": "code",
   "execution_count": 23,
   "metadata": {},
   "outputs": [],
   "source": [
    "mean = [0, 0]\n",
    "cov = [[12, 2], [21, 54]]  # diagonal covariance"
   ]
  },
  {
   "cell_type": "code",
   "execution_count": 33,
   "metadata": {},
   "outputs": [
    {
     "name": "stderr",
     "output_type": "stream",
     "text": [
      "/usr/lib/python3/dist-packages/ipykernel_launcher.py:1: RuntimeWarning: covariance is not symmetric positive-semidefinite.\n",
      "  \"\"\"Entry point for launching an IPython kernel.\n"
     ]
    }
   ],
   "source": [
    "x, y = np.random.multivariate_normal(mean, cov, 500).T\n",
    "z, xedges,yedges = np.histogram2d(x,y, bins= (10,10))"
   ]
  },
  {
   "cell_type": "code",
   "execution_count": 34,
   "metadata": {},
   "outputs": [],
   "source": [
    "x_bin_center = 0.5*(xedges[1:]+xedges[:-1])\n",
    "y_bin_center = 0.5*(yedges[1:]+yedges[:-1])\n",
    "\n",
    "x_mesh, y_mesh = np.meshgrid(x_bin_center, y_bin_center)\n",
    "x_mesh_ravel = x_mesh.ravel()\n",
    "y_mesh_ravel = y_mesh.ravel()\n",
    "\n",
    "data_z_ravel = z.ravel()\n",
    "z_error = np.sqrt(data_z_ravel)"
   ]
  },
  {
   "cell_type": "code",
   "execution_count": 35,
   "metadata": {},
   "outputs": [
    {
     "name": "stderr",
     "output_type": "stream",
     "text": [
      "No handles with labels found to put in legend.\n"
     ]
    },
    {
     "data": {
      "text/plain": [
       "<matplotlib.legend.Legend at 0x7f3a11777f60>"
      ]
     },
     "execution_count": 35,
     "metadata": {},
     "output_type": "execute_result"
    },
    {
     "data": {
      "image/png": "[encoded data removed]",
      "text/plain": [
       "<Figure size 432x288 with 2 Axes>"
      ]
     },
     "metadata": {},
     "output_type": "display_data"
    }
   ],
   "source": [
    "plot_bins = 256\n",
    "xplot = np.linspace(x[0],x[-1],plot_bins)\n",
    "yplot= np.linspace(y[0],y[-1],plot_bins)\n",
    "\n",
    "xplot,yplot = np.meshgrid(xplot,yplot)\n",
    "\n",
    "\n",
    "fig, ax = plt.subplots(1, 1)\n",
    "\n",
    "plt.pcolormesh(xedges, yedges, z, norm = matplotlib.colors.LogNorm())\n",
    "\n",
    "plt.colorbar(label = \"Events/bin\")\n",
    "#plt.xlabel('$cs1$ [pe]')\n",
    "#plt.ylabel('$cs2_b/100$ [pe]')\n",
    "\n",
    "\n",
    "plt.legend(fancybox=True, fontsize = 15)"
   ]
  },
  {
   "cell_type": "code",
   "execution_count": 36,
   "metadata": {},
   "outputs": [],
   "source": [
    "def two_dimensional_gaussian_XENONStyle(data_x,data_y,params=list):\n",
    "    g1 = np.power((((data_x-params[1])*np.cos(params[3])-(data_y-params[2])*np.sin(params[3]))/params[4]),2)\n",
    "    g2 = np.power((((data_x-params[1])*np.sin(params[3])+(data_y-params[2])*np.cos(params[3]))/params[5]),2)\n",
    "    #g2 = ((data_x-params[2])/params[4]);   \n",
    "    return params[0]*np.exp(-0.5*(g1+g2))+params[6]\n",
    " \n",
    "    \n",
    "def two_dimensional_gaussian_Akiostyle(data_x,data_y,params=list):\n",
    "    g1 = ((data_x-params[1])/params[2])\n",
    "    g2 = ((data_x-params[2])/params[4])\n",
    "    return params[0]*np.exp(-0.5*(g1**2+g2**2))\n",
    "\n",
    "# checked both, equivalent, but akios are formulated in a convolved parameter way"
   ]
  },
  {
   "cell_type": "code",
   "execution_count": 37,
   "metadata": {},
   "outputs": [],
   "source": [
    "def chisquare_2d(function, data_x, data_y,data_z,data_z_error, functionparams=list):\n",
    "    chisquarevaluex=np.sum(np.power(np.divide(np.subtract(function(data_x,data_y,functionparams),data_z),data_z_error),2))\n",
    "    ndf = len(data_y)-len(functionparams)\n",
    "    #print(ndf)\n",
    "    return (chisquarevaluex, ndf)\n",
    "\n",
    "def chisquare_2d_gaus_xenon(amp,x0,y0,theta,a,b,const):\n",
    "    return chisquare_2d(function=two_dimensional_gaussian_XENONStyle,functionparams=[amp,x0,y0,theta,a,b,const],data_x=data_x,data_y=data_y,data_z=data_z,data_z_error=data_z_error)[0]\n"
   ]
  },
  {
   "cell_type": "code",
   "execution_count": 38,
   "metadata": {},
   "outputs": [
    {
     "name": "stdout",
     "output_type": "stream",
     "text": [
      "------------------------------------------------------------------\n",
      "| FCN = 25.56                   |     Ncalls=805 (805 total)     |\n",
      "| EDM = 2.37E-05 (Goal: 1E-05)  |            up = 1.0            |\n",
      "------------------------------------------------------------------\n",
      "|  Valid Min.   | Valid Param.  | Above EDM | Reached call limit |\n",
      "------------------------------------------------------------------\n",
      "|     True      |     True      |   False   |       False        |\n",
      "------------------------------------------------------------------\n",
      "| Hesse failed  |   Has cov.    | Accurate  | Pos. def. | Forced |\n",
      "------------------------------------------------------------------\n",
      "|     False     |     True      |   True    |   True    | False  |\n",
      "------------------------------------------------------------------\n",
      "34.37198403330778 3.06223863596984 -3.76096526224739 -0.8213711874327075 6.740197338277839 3.3020566249239374 -0.01787150394827876\n",
      "\n"
     ]
    },
    {
     "name": "stderr",
     "output_type": "stream",
     "text": [
      "/usr/lib/python3/dist-packages/ipykernel_launcher.py:5: InitialParamWarning: Parameter theta is floating but does not have initial step size. Assume 1.\n",
      "  \"\"\"\n",
      "/usr/lib/python3/dist-packages/ipykernel_launcher.py:5: InitialParamWarning: Parameter a is floating but does not have initial step size. Assume 1.\n",
      "  \"\"\"\n",
      "/usr/lib/python3/dist-packages/ipykernel_launcher.py:5: InitialParamWarning: Parameter b is floating but does not have initial step size. Assume 1.\n",
      "  \"\"\"\n",
      "/usr/lib/python3/dist-packages/ipykernel_launcher.py:5: InitialParamWarning: Parameter const is floating but does not have initial step size. Assume 1.\n",
      "  \"\"\"\n"
     ]
    }
   ],
   "source": [
    "data_x = x_mesh_ravel\n",
    "data_y = y_mesh_ravel\n",
    "data_z = data_z_ravel\n",
    "data_z_error = np.sqrt(data_z) + 1\n",
    "m2=Minuit(chisquare_2d_gaus_xenon,amp=70,fix_amp=False,x0=0,fix_x0=False,y0=0,fix_y0=False,theta=0.1,a=1,b=1,const=0,errordef = 1,print_level=1)\n",
    "m2.migrad(ncall=500000)\n",
    "print(m2.values[\"amp\"],m2.values[\"x0\"],m2.values[\"y0\"],m2.values[\"theta\"],m2.values[\"a\"],m2.values[\"b\"],m2.values[\"const\"])\n",
    "print()\n",
    "#plt.title(\"%s\" %i)\n",
    "#plt.plot(FreqTF,transfer_function1(data_x,params=[m2.values[\"a\"],m2.values[\"b\"],m2.values[\"c\"],m2.values[\"d\"]]))\n",
    "#plt.plot(FreqTF,TF[i][i])\n",
    "#plt.yscale(\"log\")\n",
    "#plt.show()"
   ]
  },
  {
   "cell_type": "code",
   "execution_count": 39,
   "metadata": {},
   "outputs": [],
   "source": [
    "arg_list = [m2.values[\"amp\"],m2.values[\"x0\"],m2.values[\"y0\"],m2.values[\"theta\"],m2.values[\"a\"],m2.values[\"b\"],m2.values[\"const\"]]\n",
    "#arg_list = [10,0,0,0.5,5,3,0]"
   ]
  },
  {
   "cell_type": "code",
   "execution_count": 46,
   "metadata": {},
   "outputs": [
    {
     "name": "stderr",
     "output_type": "stream",
     "text": [
      "No handles with labels found to put in legend.\n",
      "/usr/lib/python3/dist-packages/ipykernel_launcher.py:15: UserWarning: The following kwargs were not used by contour: 'label'\n",
      "  from ipykernel import kernelapp as app\n"
     ]
    },
    {
     "data": {
      "image/png": "[encoded data removed]",
      "text/plain": [
       "<Figure size 432x288 with 2 Axes>"
      ]
     },
     "metadata": {},
     "output_type": "display_data"
    }
   ],
   "source": [
    "plot_bins = 256\n",
    "xplot = np.linspace(-20,20,plot_bins)\n",
    "yplot= np.linspace(-20,20,plot_bins)\n",
    "\n",
    "xplot,yplot = np.meshgrid(xplot,yplot)\n",
    "\n",
    "fig, ax = plt.subplots(1, 1)\n",
    "\n",
    "plt.pcolormesh(xedges, yedges, z, norm = matplotlib.colors.LogNorm(), cmap=\"viridis\")\n",
    "plt.colorbar(label = \"Events/bin\")\n",
    "plt.legend(fancybox=True, fontsize = 15)\n",
    "\n",
    "lines = np.linspace(1, np.max(two_dimensional_gaussian_XENONStyle(xplot, yplot, arg_list)),5)\n",
    "        \n",
    "ax.contour(xplot, yplot, two_dimensional_gaussian_XENONStyle(xplot, yplot, arg_list), lines, colors='r', label=\"Fit\")\n",
    "plt.show()"
   ]
  },
  {
   "cell_type": "code",
   "execution_count": null,
   "metadata": {},
   "outputs": [],
   "source": []
  },
  {
   "cell_type": "code",
   "execution_count": null,
   "metadata": {},
   "outputs": [],
   "source": []
  },
  {
   "cell_type": "code",
   "execution_count": null,
   "metadata": {},
   "outputs": [],
   "source": []
  }
 ],
 "metadata": {
  "kernelspec": {
   "display_name": "Python 3",
   "language": "python",
   "name": "python3"
  },
  "language_info": {
   "codemirror_mode": {
    "name": "ipython",
    "version": 3
   },
   "file_extension": ".py",
   "mimetype": "text/x-python",
   "name": "python",
   "nbconvert_exporter": "python",
   "pygments_lexer": "ipython3",
   "version": "3.6.8"
  }
 },
 "nbformat": 4,
 "nbformat_minor": 2
}
