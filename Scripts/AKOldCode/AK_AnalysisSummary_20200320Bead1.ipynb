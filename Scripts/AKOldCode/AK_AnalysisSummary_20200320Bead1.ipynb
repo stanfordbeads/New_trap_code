{
 "cells": [
  {
   "cell_type": "code",
   "execution_count": 1,
   "metadata": {},
   "outputs": [],
   "source": [
    "import numpy as np\n",
    "import matplotlib.pyplot as plt\n",
    "import matplotlib\n",
    "from matplotlib import mlab\n",
    "\n",
    "from scipy import signal\n",
    "import h5py, time\n"
   ]
  },
  {
   "cell_type": "code",
   "execution_count": 2,
   "metadata": {},
   "outputs": [],
   "source": [
    "%matplotlib widget"
   ]
  },
  {
   "cell_type": "code",
   "execution_count": 3,
   "metadata": {},
   "outputs": [],
   "source": [
    "import sys\n",
    "sys.path.append('/home/analysis_user/New_trap_code/Tools/')\n",
    "import BeadDataFile"
   ]
  },
  {
   "cell_type": "code",
   "execution_count": 4,
   "metadata": {},
   "outputs": [],
   "source": [
    "##Force Calibration with single freq, with xyz2"
   ]
  },
  {
   "cell_type": "code",
   "execution_count": 5,
   "metadata": {},
   "outputs": [],
   "source": [
    "Year = \"2020\"\n",
    "Month = \"03\"\n",
    "Day = \"20\"\n",
    "BeadNumber =1\n",
    "#folder = r\"/data/new_trap/\"+ Year + Month + Day\n",
    "folder = r\"/home/analysis_user/data_from_windows/\"+ Year + Month + Day"
   ]
  },
  {
   "cell_type": "code",
   "execution_count": null,
   "metadata": {},
   "outputs": [],
   "source": [
    "#force calibration. \n",
    "#Comparison with Nadav's-file number and location is the same one as what he provided. "
   ]
  },
  {
   "cell_type": "code",
   "execution_count": 6,
   "metadata": {},
   "outputs": [
    {
     "name": "stdout",
     "output_type": "stream",
     "text": [
      "No laser power data\n",
      "0.0002710659109235403\n",
      "No laser power data\n",
      "0.0002754358247428201\n",
      "No laser power data\n",
      "0.00027374295606173607\n",
      "No laser power data\n",
      "0.00026931560399147365\n",
      "No laser power data\n",
      "0.0002774851026748514\n"
     ]
    }
   ],
   "source": [
    "#response in x\n",
    "ResX=np.arange(0, 0.5, 0.1)\n",
    "for i in range(0,5):\n",
    "    Ndata=5+i\n",
    "    SigFreq=71\n",
    "#load data\n",
    "    fname = folder+\"/Bead\"+str(BeadNumber)+\"/Discharge/New_Discharge\"+\"/Discharge_%d.h5\" % Ndata\n",
    "    BDF = BeadDataFile.BeadDataFile(fname)\n",
    "    data = BDF.xyz2\n",
    "    fsamp=5000\n",
    "    res=50000\n",
    "#detrend the data\n",
    "    data_det=signal.detrend(data)\n",
    "#Extract the PSD by matplotlib.mlab.psd\n",
    "    xpsd, freqs = matplotlib.mlab.psd(data_det[0], Fs = fsamp, NFFT = res,window=mlab.window_none)\n",
    "#Calculate NSD\n",
    "    ResX[i]=np.sqrt(xpsd[SigFreq*10])\n",
    "    print(np.sqrt(xpsd[SigFreq*10]))"
   ]
  },
  {
   "cell_type": "code",
   "execution_count": 7,
   "metadata": {},
   "outputs": [
    {
     "name": "stdout",
     "output_type": "stream",
     "text": [
      "No laser power data\n",
      "0.0003283005068077278\n",
      "No laser power data\n",
      "0.00033345278668207574\n",
      "No laser power data\n",
      "0.0003315063385773604\n",
      "No laser power data\n",
      "0.0003276605922930189\n",
      "No laser power data\n",
      "0.0003268623871889636\n"
     ]
    }
   ],
   "source": [
    "#response in y; calculation is the same as x\n",
    "ResY=np.arange(0, 0.5, 0.1)\n",
    "for i in range(0,5):\n",
    "    Ndata=10+i\n",
    "    SigFreq=71\n",
    "    fname = folder+\"/Bead\"+str(BeadNumber)+\"/Discharge/New_Discharge\"+\"/Discharge_%d.h5\" % Ndata\n",
    "    BDF = BeadDataFile.BeadDataFile(fname)\n",
    "    data = BDF.xyz2\n",
    "    fsamp=5000\n",
    "    res=50000\n",
    "    data_det=signal.detrend(data)\n",
    "\n",
    "    xpsd, freqs = matplotlib.mlab.psd(data_det[0], Fs = fsamp, NFFT = res,window=mlab.window_none)\n",
    "    ypsd, freqs = matplotlib.mlab.psd(data_det[1], Fs = fsamp, NFFT = res,window=mlab.window_none)\n",
    "    zpsd, freqs = matplotlib.mlab.psd(data_det[2], Fs = fsamp, NFFT = res,window=mlab.window_none)\n",
    "    ResY[i]=np.sqrt(ypsd[SigFreq*10])    \n",
    "    print(np.sqrt(ypsd[SigFreq*10]))"
   ]
  },
  {
   "cell_type": "code",
   "execution_count": 8,
   "metadata": {},
   "outputs": [
    {
     "name": "stdout",
     "output_type": "stream",
     "text": [
      "No laser power data\n",
      "757.3256996396474\n",
      "No laser power data\n",
      "743.4378086531398\n",
      "No laser power data\n",
      "755.8859297272302\n",
      "No laser power data\n",
      "736.3401685816547\n",
      "No laser power data\n",
      "754.2909795107544\n"
     ]
    }
   ],
   "source": [
    "#response in z; calculation is the same as x\n",
    "\n",
    "ResZ=np.arange(0, 0.5, 0.1)\n",
    "for i in range(0,5):\n",
    "    Ndata=0+i\n",
    "    fname = folder+\"/Bead\"+str(BeadNumber)+\"/Discharge/New_Discharge\"+\"/Discharge_%d.h5\" % Ndata\n",
    "    BDF = BeadDataFile.BeadDataFile(fname)\n",
    "    data = BDF.xyz2\n",
    "    fsamp=5000\n",
    "    res=50000\n",
    "    data_det=signal.detrend(data)\n",
    "\n",
    "    xpsd, freqs = matplotlib.mlab.psd(data_det[0], Fs = fsamp, NFFT = res,window=mlab.window_none)\n",
    "    ypsd, freqs = matplotlib.mlab.psd(data_det[1], Fs = fsamp, NFFT = res,window=mlab.window_none)\n",
    "    zpsd, freqs = matplotlib.mlab.psd(data_det[2], Fs = fsamp, NFFT = res,window=mlab.window_none)\n",
    "    ResZ[i]=np.sqrt(zpsd[SigFreq*10])    \n",
    "    print(np.sqrt(zpsd[SigFreq*10]))\n",
    "    "
   ]
  },
  {
   "cell_type": "code",
   "execution_count": 9,
   "metadata": {},
   "outputs": [
    {
     "name": "stdout",
     "output_type": "stream",
     "text": [
      "3.7904472313473764e-15\n"
     ]
    }
   ],
   "source": [
    "#Calculate force \n",
    "#charge is assumed to be 7e. \n",
    "q=7\n",
    "V=10\n",
    "F=(q*1.602e-19)*(V*2/8.6e-3*0.65)*np.sqrt(5) #this sqrt(5) is the factor to convert the force [N] to NSD [N/sqrt(Hz)] \n",
    "print(F)"
   ]
  },
  {
   "cell_type": "code",
   "execution_count": 10,
   "metadata": {},
   "outputs": [
    {
     "name": "stdout",
     "output_type": "stream",
     "text": [
      "1.3863647965894956e-11\n",
      "1.1501660488405763e-11\n",
      "5.0575972952157985e-18\n"
     ]
    }
   ],
   "source": [
    "#Calculate the conversion factor from bit to N/sqrt(Hz)\n",
    "AveX=np.average(ResX)\n",
    "AveY=np.average(ResY)\n",
    "AveZ=np.average(ResZ)\n",
    "BtoFx=F/AveX\n",
    "BtoFy=F/AveY\n",
    "BtoFz=F/AveZ\n",
    "print(BtoFx)\n",
    "print(BtoFy)\n",
    "print(BtoFz)"
   ]
  },
  {
   "cell_type": "code",
   "execution_count": 11,
   "metadata": {},
   "outputs": [],
   "source": [
    "##code for Transfer Function- 7Hz\n",
    "#following is the code to generate transfer function with FFT"
   ]
  },
  {
   "cell_type": "code",
   "execution_count": 36,
   "metadata": {},
   "outputs": [
    {
     "name": "stdout",
     "output_type": "stream",
     "text": [
      "No height data\n",
      "No cantilever data\n",
      "Error loading spinning data\n",
      "No laser power data\n"
     ]
    }
   ],
   "source": [
    "##X preparation\n",
    "#Load file, and define relevant parameters\n",
    "Ndata=11\n",
    "fname = folder+\"/Bead\"+str(BeadNumber)+\"/TransFunc\"+\"/TransFunc_X_m800k_150s_7hz.h5\" #% Ndata\n",
    "BDF = BeadDataFile.BeadDataFile(fname)\n",
    "data = BDF.xyz2\n",
    "tInt=150\n",
    "fsamp=5000\n",
    "res=Tmeas*fsamp\n",
    "fBase=7\n",
    "\n",
    "#detrend data\n",
    "data_det=signal.detrend(data)\n",
    "x_1000=data_det[0]\n",
    "y_1000=data_det[1]\n",
    "z_1000=data_det[2]\n",
    "freqs=np.linspace(0,2500,(25000)+1)\n",
    "    \n",
    "#FFT    \n",
    "xFFT=np.fft.rfft(x_1000)\n",
    "yFFT=np.fft.rfft(y_1000)\n",
    "zFFT=np.fft.rfft(z_1000)\n",
    "#Normalization\n",
    "norm = np.sqrt(2 / (res* fsamp))\n",
    "\n",
    "#Calculate PSD from FFT\n",
    "xpsd = norm**2 * (xFFT * xFFT.conj()).real\n",
    "ypsd = norm**2 * (yFFT * yFFT.conj()).real\n",
    "zpsd = norm**2 * (zFFT * zFFT.conj()).real\n",
    "\n",
    "#extract phase of the transfer function\n",
    "XphaseX=np.angle(xFFT)\n",
    "XphaseY=np.angle(yFFT)\n",
    "XphaseZ=np.angle(zFFT)\n",
    "\n",
    "#Extract the amplitude of the transfer function\n",
    "XnoiseX=np.sqrt(xpsd)\n",
    "XnoiseY=np.sqrt(ypsd)\n",
    "XnoiseZ=np.sqrt(zpsd)\n"
   ]
  },
  {
   "cell_type": "code",
   "execution_count": 37,
   "metadata": {},
   "outputs": [
    {
     "name": "stdout",
     "output_type": "stream",
     "text": [
      "No height data\n",
      "No cantilever data\n",
      "Error loading spinning data\n",
      "No laser power data\n"
     ]
    }
   ],
   "source": [
    "##Y preparataion\n",
    "#same calculation as x\n",
    "fname = folder+\"/Bead\"+str(BeadNumber)+\"/TransFunc\"+\"/TransFunc_Y_m800k_150s_7hz.h5\" #% Ndata\n",
    "BDF = BeadDataFile.BeadDataFile(fname)\n",
    "data = BDF.xyz2 \n",
    "data_det=signal.detrend(data)\n",
    "x_1000=data_det[0]\n",
    "y_1000=data_det[1]\n",
    "z_1000=data_det[2]\n",
    "freqs=np.linspace(0,2500,(25000)+1)\n",
    "    \n",
    "xFFT=np.fft.rfft(x_1000)\n",
    "yFFT=np.fft.rfft(y_1000)\n",
    "zFFT=np.fft.rfft(z_1000)\n",
    "norm = np.sqrt(2 / (res* fsamp))\n",
    "xpsd = norm**2 * (xFFT * xFFT.conj()).real\n",
    "ypsd = norm**2 * (yFFT * yFFT.conj()).real\n",
    "zpsd = norm**2 * (zFFT * zFFT.conj()).real\n",
    "YphaseX=np.angle(xFFT)\n",
    "YphaseY=np.angle(yFFT)\n",
    "YphaseZ=np.angle(zFFT)\n",
    "\n",
    "YnoiseX=np.sqrt(xpsd)\n",
    "YnoiseY=np.sqrt(ypsd)\n",
    "YnoiseZ=np.sqrt(zpsd)\n"
   ]
  },
  {
   "cell_type": "code",
   "execution_count": 38,
   "metadata": {},
   "outputs": [
    {
     "name": "stdout",
     "output_type": "stream",
     "text": [
      "No height data\n",
      "No cantilever data\n",
      "Error loading spinning data\n",
      "No laser power data\n"
     ]
    }
   ],
   "source": [
    "##Z preparataion\n",
    "#same calculation as x\n",
    "fname = folder+\"/Bead\"+str(BeadNumber)+\"/TransFunc\"+\"/TransFunc_Z_m800k_150s_7hz.h5\" #% Ndata\n",
    "BDF = BeadDataFile.BeadDataFile(fname)\n",
    "data = BDF.xyz2 \n",
    "data_det=signal.detrend(data)\n",
    "x_1000=data_det[0]\n",
    "y_1000=data_det[1]\n",
    "z_1000=data_det[2]\n",
    "freqs=np.linspace(0,2500,(25000)+1)\n",
    "    \n",
    "xFFT=np.fft.rfft(x_1000)\n",
    "yFFT=np.fft.rfft(y_1000)\n",
    "zFFT=np.fft.rfft(z_1000)\n",
    "norm = np.sqrt(2 / (res* fsamp))\n",
    "xpsd = norm**2 * (xFFT * xFFT.conj()).real\n",
    "ypsd = norm**2 * (yFFT * yFFT.conj()).real\n",
    "zpsd = norm**2 * (zFFT * zFFT.conj()).real\n",
    "ZphaseX=np.angle(xFFT)\n",
    "ZphaseY=np.angle(yFFT)\n",
    "ZphaseZ=np.angle(zFFT)\n",
    "\n",
    "ZnoiseX=np.sqrt(xpsd)\n",
    "ZnoiseY=np.sqrt(ypsd)\n",
    "ZnoiseZ=np.sqrt(zpsd)\n",
    "\n"
   ]
  },
  {
   "cell_type": "code",
   "execution_count": 15,
   "metadata": {},
   "outputs": [],
   "source": [
    "#Define array for saving purpose\n",
    "xPha=np.zeros(100)\n",
    "yPha=np.zeros(100)\n",
    "zPha=np.zeros(100)\n",
    "xAmp=np.zeros(100)\n",
    "yAmp=np.zeros(100)\n",
    "zAmp=np.zeros(100)\n"
   ]
  },
  {
   "cell_type": "code",
   "execution_count": 72,
   "metadata": {},
   "outputs": [],
   "source": [
    "#Remove 2pi jump in phase. \n",
    "for i in range(0,100):\n",
    "    xPha[i]=XphaseX[(i+1)*tInt*fBase]-(i*i/100-round(i*i/100))*2*3.14159265+np.pi*0.5\n",
    "    if(xPha[i]>3):\n",
    "        xPha[i]-=2*np.pi\n",
    "    yPha[i]=YphaseY[(i+1)*tInt*fBase]-(i*i/100-round(i*i/100))*2*3.14159265-np.pi*0.5\n",
    "    zPha[i]=ZphaseZ[(i+1)*tInt*fBase]-(i*i/100-round(i*i/100))*2*3.14159265+np.pi*0.5\n",
    "\n",
    "for i in range(0,99):  \n",
    "    if((yPha[i+1]-yPha[i])>4):\n",
    "        yPha[i+1]-=2*np.pi\n",
    "    elif((yPha[i+1]-yPha[i])<-4):\n",
    "        yPha[i+1]+=2*np.pi\n",
    "for i in range(0,99):  \n",
    "    if((yPha[i+1]-yPha[i])>4):\n",
    "        yPha[i+1]-=2*np.pi\n",
    "    elif((yPha[i+1]-yPha[i])<-4):\n",
    "        yPha[i+1]+=2*np.pi\n",
    "        \n",
    "for i in range(0,99):  \n",
    "    if((zPha[i+1]-zPha[i])>3):\n",
    "        zPha[i+1]-=2*np.pi\n",
    "    elif((zPha[i+1]-zPha[i])<-3):\n",
    "        zPha[i+1]+=2*np.pi\n",
    "for i in range(0,99):  \n",
    "    if((zPha[i+1]-zPha[i])>4):\n",
    "        zPha[i+1]-=2*np.pi\n",
    "    elif((zPha[i+1]-zPha[i])<-4):\n",
    "        zPha[i+1]+=2*np.pi"
   ]
  },
  {
   "cell_type": "code",
   "execution_count": 73,
   "metadata": {
    "scrolled": true
   },
   "outputs": [
    {
     "data": {
      "application/vnd.jupyter.widget-view+json": {
       "model_id": "613701c738fc4f78b6c264db26d2d5d1",
       "version_major": 2,
       "version_minor": 0
      },
      "text/plain": [
       "Canvas(toolbar=Toolbar(toolitems=[('Home', 'Reset original view', 'home', 'home'), ('Back', 'Back to previous …"
      ]
     },
     "metadata": {},
     "output_type": "display_data"
    }
   ],
   "source": [
    "#Plot transfer function, in this case phase\n",
    "freqs=np.linspace(0,2500,(375000)+1)\n",
    "\n",
    "_,ax = plt.subplots()\n",
    "plt.subplots_adjust(left=0.18, right=0.96, top=0.96, bottom=0.14)\n",
    "\n",
    "ax.plot(np.linspace(7,700,100),xPha, '.-', label=\"x\",markersize=1,linewidth=1)\n",
    "ax.plot(np.linspace(7,700,100),yPha, '.-', label=\"y\",markersize=1,linewidth=1)\n",
    "ax.plot(np.linspace(7,700,100),zPha, '.-', label=\"z\",markersize=1,linewidth=1)\n",
    "ax.legend(fontsize=16)\n",
    "ax.set_xlabel('Frequency [Hz]', fontsize=18)\n",
    "ax.set_ylabel('Force NSD [N/√Hz]',fontsize=18)\n",
    "\n",
    "ax.tick_params(axis='x', labelsize=18)\n",
    "ax.tick_params(axis='y', labelsize=18)\n",
    "#plt.xlim(0.1,500)\n",
    "#plt.ylim(1e-7,1e-2)\n",
    "plt.grid(True)"
   ]
  },
  {
   "cell_type": "code",
   "execution_count": 50,
   "metadata": {},
   "outputs": [],
   "source": [
    "#Save phase of the transfer function\n",
    "ofname = folder+\"/Bead\"+str(BeadNumber)+\"/TransFunc\"+\"/TransFuncPhase_XYZ_m800k_150s_7hz.txt\" \n",
    "f1 = open(ofname,\"a\")\n",
    "for k in range(0,100):\n",
    "    f1.write('%d %f %f %f\\n' % (k+1, xPha[k], yPha[k], zPha[k]))\n",
    "f1.close()"
   ]
  },
  {
   "cell_type": "code",
   "execution_count": 51,
   "metadata": {},
   "outputs": [],
   "source": [
    "#phase data with 1 Hz trans func data"
   ]
  },
  {
   "cell_type": "code",
   "execution_count": 20,
   "metadata": {},
   "outputs": [
    {
     "name": "stdout",
     "output_type": "stream",
     "text": [
      "No height data\n",
      "No cantilever data\n",
      "Error loading spinning data\n",
      "No laser power data\n"
     ]
    }
   ],
   "source": [
    "##X preparation\n",
    "#Load file, and define relevant parameters\n",
    "Ndata=11\n",
    "fname = folder+\"/Bead\"+str(BeadNumber)+\"/TransFunc\"+\"/Repeat_TransFunc_20200104/TransFunc_Z_m300k_250s_1hz.h5\" #% Ndata\n",
    "BDF = BeadDataFile.BeadDataFile(fname)\n",
    "data = BDF.xyz2\n",
    "tInt=250\n",
    "fsamp=5000\n",
    "res=tInt*fsamp\n",
    "fBase=1\n",
    "\n",
    "#detrend data\n",
    "data_det=signal.detrend(data)\n",
    "x_1000=data_det[0]\n",
    "y_1000=data_det[1]\n",
    "z_1000=data_det[2]\n",
    "freqs=np.linspace(0,2500,(25000)+1)\n",
    "    \n",
    "#FFT\n",
    "xFFT=np.fft.rfft(x_1000)\n",
    "yFFT=np.fft.rfft(y_1000)\n",
    "zFFT=np.fft.rfft(z_1000)\n",
    "#Normalization\n",
    "norm = np.sqrt(2 / (res* fsamp))\n",
    "\n",
    "#Calculate PSF from FFT\n",
    "xpsd = norm**2 * (xFFT * xFFT.conj()).real\n",
    "ypsd = norm**2 * (yFFT * yFFT.conj()).real\n",
    "zpsd = norm**2 * (zFFT * zFFT.conj()).real\n",
    "\n",
    "#extract phase of the transfer function\n",
    "XphaseX=np.angle(xFFT)\n",
    "XphaseY=np.angle(yFFT)\n",
    "XphaseZ=np.angle(zFFT)\n",
    "\n",
    "#Extract the amplitude of the transfer function\n",
    "XnoiseX=np.sqrt(xpsd)\n",
    "XnoiseY=np.sqrt(ypsd)\n",
    "XnoiseZ=np.sqrt(zpsd)"
   ]
  },
  {
   "cell_type": "code",
   "execution_count": 21,
   "metadata": {},
   "outputs": [
    {
     "name": "stdout",
     "output_type": "stream",
     "text": [
      "No height data\n",
      "No cantilever data\n",
      "Error loading spinning data\n",
      "No laser power data\n"
     ]
    }
   ],
   "source": [
    "##Y preparataion\n",
    "#same calculation as x\n",
    "fname = folder+\"/Bead\"+str(BeadNumber)+\"/TransFunc\"+\"/Repeat_TransFunc_20200104/TransFunc_Z_m300k_250s_1hz.h5\" #% Ndata\n",
    "BDF = BeadDataFile.BeadDataFile(fname)\n",
    "data = BDF.xyz2 \n",
    "data_det=signal.detrend(data)\n",
    "x_1000=data_det[0]\n",
    "y_1000=data_det[1]\n",
    "z_1000=data_det[2]\n",
    "freqs=np.linspace(0,2500,(25000)+1)\n",
    "    \n",
    "xFFT=np.fft.rfft(x_1000)\n",
    "yFFT=np.fft.rfft(y_1000)\n",
    "zFFT=np.fft.rfft(z_1000)\n",
    "norm = np.sqrt(2 / (res* fsamp))\n",
    "xpsd = norm**2 * (xFFT * xFFT.conj()).real\n",
    "ypsd = norm**2 * (yFFT * yFFT.conj()).real\n",
    "zpsd = norm**2 * (zFFT * zFFT.conj()).real\n",
    "YphaseX=np.angle(xFFT)\n",
    "YphaseY=np.angle(yFFT)\n",
    "YphaseZ=np.angle(zFFT)\n",
    "\n",
    "YnoiseX=np.sqrt(xpsd)\n",
    "YnoiseY=np.sqrt(ypsd)\n",
    "YnoiseZ=np.sqrt(zpsd)\n"
   ]
  },
  {
   "cell_type": "code",
   "execution_count": 22,
   "metadata": {},
   "outputs": [
    {
     "name": "stdout",
     "output_type": "stream",
     "text": [
      "No height data\n",
      "No cantilever data\n",
      "Error loading spinning data\n",
      "No laser power data\n"
     ]
    }
   ],
   "source": [
    "##Z preparataion\n",
    "#same calculation as x\n",
    "fname = folder+\"/Bead\"+str(BeadNumber)+\"/TransFunc\"+\"/Repeat_TransFunc_20200104/TransFunc_Z_m300k_250s_1hz.h5\" #% Ndata\n",
    "BDF = BeadDataFile.BeadDataFile(fname)\n",
    "data = BDF.xyz2 \n",
    "data_det=signal.detrend(data)\n",
    "x_1000=data_det[0]\n",
    "y_1000=data_det[1]\n",
    "z_1000=data_det[2]\n",
    "freqs=np.linspace(0,2500,(25000)+1)\n",
    "    \n",
    "xFFT=np.fft.rfft(x_1000)\n",
    "yFFT=np.fft.rfft(y_1000)\n",
    "zFFT=np.fft.rfft(z_1000)\n",
    "norm = np.sqrt(2 / (res* fsamp))\n",
    "xpsd = norm**2 * (xFFT * xFFT.conj()).real\n",
    "ypsd = norm**2 * (yFFT * yFFT.conj()).real\n",
    "zpsd = norm**2 * (zFFT * zFFT.conj()).real\n",
    "ZphaseX=np.angle(xFFT)\n",
    "ZphaseY=np.angle(yFFT)\n",
    "ZphaseZ=np.angle(zFFT)\n",
    "\n",
    "ZnoiseX=np.sqrt(xpsd)\n",
    "ZnoiseY=np.sqrt(ypsd)\n",
    "ZnoiseZ=np.sqrt(zpsd)"
   ]
  },
  {
   "cell_type": "code",
   "execution_count": 25,
   "metadata": {},
   "outputs": [],
   "source": [
    "#Remove 2pi jump in phase. \n",
    "for i in range(0,100):\n",
    "    xPha[i]=XphaseX[(i+1)*tInt*fBase]-(i*i/100-round(i*i/100))*2*3.14159265-np.pi*0.5\n",
    "    xAmp[i]=XnoiseX[i]\n",
    "    if(xPha[i]<-3):\n",
    "        xPha[i]+=2*np.pi\n",
    "    yPha[i]=YphaseY[(i+1)*tInt*fBase]-(i*i/100-round(i*i/100))*2*3.14159265+np.pi*0.5\n",
    "    yAmp[i]=YnoiseY[i]\n",
    "    if(yPha[i]>3):\n",
    "        yPha[i]-=2*np.pi\n",
    "    zPha[i]=ZphaseZ[(i+1)*tInt*fBase]-(i*i/100-round(i*i/100))*2*3.14159265+np.pi*0.5\n",
    "    zAmp[i]=ZnoiseZ[i]\n",
    "\n",
    "    \n",
    "        \n",
    "for i in range(0,99):  \n",
    "    if((zPha[i+1]-zPha[i])>4):\n",
    "        zPha[i+1]-=2*np.pi\n",
    "    elif((zPha[i+1]-zPha[i])<-4):\n",
    "        zPha[i+1]+=2*np.pi\n",
    "for i in range(0,99):  \n",
    "    if((zPha[i+1]-zPha[i])>4):\n",
    "        zPha[i+1]-=2*np.pi\n",
    "    elif((zPha[i+1]-zPha[i])<-4):\n",
    "        zPha[i+1]+=2*np.pi"
   ]
  },
  {
   "cell_type": "code",
   "execution_count": 26,
   "metadata": {},
   "outputs": [
    {
     "data": {
      "application/vnd.jupyter.widget-view+json": {
       "model_id": "e6e2105a39cb4be4bace7e5e6e965d5e",
       "version_major": 2,
       "version_minor": 0
      },
      "text/plain": [
       "Canvas(toolbar=Toolbar(toolitems=[('Home', 'Reset original view', 'home', 'home'), ('Back', 'Back to previous …"
      ]
     },
     "metadata": {},
     "output_type": "display_data"
    }
   ],
   "source": [
    "#Plot transfer function phase\n",
    "freqs=np.linspace(0,2500,(375000)+1)\n",
    "\n",
    "_,ax = plt.subplots()\n",
    "plt.subplots_adjust(left=0.18, right=0.96, top=0.96, bottom=0.14)\n",
    "\n",
    "ax.semilogx(np.linspace(1,100,100),xPha, '.-', label=\"x\",markersize=1,linewidth=1)\n",
    "ax.semilogx(np.linspace(1,100,100),yPha, '.-', label=\"y\",markersize=1,linewidth=1)\n",
    "ax.semilogx(np.linspace(1,100,100),zPha, '.-', label=\"z\",markersize=1,linewidth=1)\n",
    "ax.legend(fontsize=16)\n",
    "ax.set_xlabel('Phase [rad]', fontsize=18)\n",
    "ax.set_ylabel('Force NSD [N/√Hz]',fontsize=18)\n",
    "\n",
    "ax.tick_params(axis='x', labelsize=18)\n",
    "ax.tick_params(axis='y', labelsize=18)\n",
    "#plt.xlim(0.1,500)\n",
    "#plt.ylim(1e-7,1e-2)\n",
    "plt.grid(True)"
   ]
  },
  {
   "cell_type": "code",
   "execution_count": 43,
   "metadata": {},
   "outputs": [
    {
     "data": {
      "application/vnd.jupyter.widget-view+json": {
       "model_id": "c7485d360f9442398d421924b52006c3",
       "version_major": 2,
       "version_minor": 0
      },
      "text/plain": [
       "Canvas(toolbar=Toolbar(toolitems=[('Home', 'Reset original view', 'home', 'home'), ('Back', 'Back to previous …"
      ]
     },
     "metadata": {},
     "output_type": "display_data"
    }
   ],
   "source": [
    "#Plot transfer function amplitude\n",
    "freqs=np.linspace(0,2500,(375000)+1)\n",
    "\n",
    "_,ax = plt.subplots()\n",
    "plt.subplots_adjust(left=0.18, right=0.96, top=0.96, bottom=0.14)\n",
    "\n",
    "#ax.plot(np.linspace(1,100,100),xAmp, '.-', label=\"x\",markersize=1,linewidth=1)\n",
    "#ax.plot(np.linspace(1,100,100),yAmp, '.-', label=\"y\",markersize=1,linewidth=1)\n",
    "ax.plot(np.linspace(1,100,100),zAmp, '.-', label=\"z\",markersize=1,linewidth=1)\n",
    "ax.legend(fontsize=16)\n",
    "ax.set_xlabel('Frequency [Hz]', fontsize=18)\n",
    "ax.set_ylabel('Force NSD [N/√Hz]',fontsize=18)\n",
    "\n",
    "ax.tick_params(axis='x', labelsize=18)\n",
    "ax.tick_params(axis='y', labelsize=18)\n",
    "#plt.xlim(0.1,500)\n",
    "#plt.ylim(1e-7,1e-2)\n",
    "plt.grid(True)"
   ]
  },
  {
   "cell_type": "code",
   "execution_count": 34,
   "metadata": {},
   "outputs": [],
   "source": [
    "#save transfer function, in this case phase\n",
    "ofname = folder+\"/Bead\"+str(BeadNumber)+\"/TransFunc\"+\"/RepeatTransFuncPhase_XYZ_m300k_250s_1hz_2.txt\"\n",
    "f1 = open(ofname,\"a\")\n",
    "for k in range(0,100):\n",
    "    f1.write('%d %f %f %f\\n' % (k+1, xPha[k], yPha[k], zPha[k]))\n",
    "f1.close()"
   ]
  },
  {
   "cell_type": "code",
   "execution_count": 16,
   "metadata": {},
   "outputs": [],
   "source": [
    "#preparation to save full amplitude information\n",
    "#Here, there is no conversion factor\n",
    "q=20\n",
    "V=0.65\n",
    "F=(q*1.602e-19)*(V*2/8.6e-3*0.65)\n",
    "Nharm=100\n",
    "\n",
    "\n",
    "FnoiseXX=XnoiseX\n",
    "FnoiseXY=XnoiseY\n",
    "FnoiseXZ=XnoiseZ\n",
    "FnoiseYX=YnoiseX\n",
    "FnoiseYY=YnoiseY\n",
    "FnoiseYZ=YnoiseZ\n",
    "FnoiseZX=ZnoiseX\n",
    "FnoiseZY=ZnoiseY\n",
    "FnoiseZZ=ZnoiseZ\n",
    "\n",
    "TFXX=np.zeros(Nharm)\n",
    "TFXY=np.zeros(Nharm)\n",
    "TFXZ=np.zeros(Nharm)\n",
    "TFYX=np.zeros(Nharm)\n",
    "TFYY=np.zeros(Nharm)\n",
    "TFYZ=np.zeros(Nharm)\n",
    "TFZX=np.zeros(Nharm)\n",
    "TFZY=np.zeros(Nharm)\n",
    "TFZZ=np.zeros(Nharm)\n",
    "\n",
    "FreqTF=np.zeros(Nharm)\n",
    "for i in range(Nharm):\n",
    "    FreqTF[i]=fbase*(i+1)\n",
    "    TFXX[i]=FnoiseXX[fbase*Tmeas*(i+1)]\n",
    "    TFXY[i]=FnoiseXY[fbase*Tmeas*(i+1)]\n",
    "    TFXZ[i]=FnoiseXZ[fbase*Tmeas*(i+1)]\n",
    "    TFYX[i]=FnoiseYX[fbase*Tmeas*(i+1)]\n",
    "    TFYY[i]=FnoiseYY[fbase*Tmeas*(i+1)]\n",
    "    TFYZ[i]=FnoiseYZ[fbase*Tmeas*(i+1)]\n",
    "    TFZX[i]=FnoiseZX[fbase*Tmeas*(i+1)]\n",
    "    TFZY[i]=FnoiseZY[fbase*Tmeas*(i+1)]\n",
    "    TFZZ[i]=FnoiseZZ[fbase*Tmeas*(i+1)]"
   ]
  },
  {
   "cell_type": "code",
   "execution_count": 23,
   "metadata": {},
   "outputs": [],
   "source": [
    "#save full amplitude information\n",
    "ofname = folder+\"/Bead\"+str(BeadNumber)+\"/TransFunc\"+\"/TFBead%d_Bit.txt\" % (Ndata)\n",
    "\n",
    "f1 = open(ofname,\"a\")\n",
    "for i in range(Nharm):\n",
    "    f1.write('%f %e %e %e %e %e %e %e %e %e\\n' % (FreqTF[i],TFXX[i],TFXY[i],TFXZ[i],\n",
    "                                                  TFYX[i],TFYY[i],TFYZ[i],TFZX[i],TFZY[i],TFZZ[i]))\n",
    "f1.close()"
   ]
  },
  {
   "cell_type": "code",
   "execution_count": 26,
   "metadata": {},
   "outputs": [],
   "source": [
    "##combining the \"#analyzing multiple data in single number,\"  \n",
    "##\"##for Noise only analysis for sensitivity. Used bin of 3*n+0.7 Hz, Nint=0\", and SortDataTo Harmonics"
   ]
  },
  {
   "cell_type": "code",
   "execution_count": 37,
   "metadata": {},
   "outputs": [],
   "source": [
    "import scipy, sys, time"
   ]
  },
  {
   "cell_type": "code",
   "execution_count": 38,
   "metadata": {},
   "outputs": [],
   "source": [
    "#Gravity Measurement"
   ]
  },
  {
   "cell_type": "code",
   "execution_count": 41,
   "metadata": {
    "scrolled": true
   },
   "outputs": [
    {
     "name": "stdout",
     "output_type": "stream",
     "text": [
      "0\n",
      "100\n",
      "200\n",
      "300\n",
      "400\n",
      "500\n",
      "600\n",
      "700\n",
      "800\n",
      "900\n",
      "1000\n",
      "1100\n",
      "1200\n",
      "1300\n",
      "1400\n",
      "1500\n",
      "1600\n",
      "1700\n",
      "1800\n",
      "1900\n",
      "2000\n",
      "2100\n",
      "2200\n",
      "2300\n",
      "2400\n",
      "Total run time is  41.755202293395996  s\n"
     ]
    }
   ],
   "source": [
    "#Harmonics data extraction for the gravity data\n",
    "#FIle name is somehow different from the data we use for analysis, but the way it is analyzed is the same. \n",
    "import time\n",
    "start_time = time.time()\n",
    "\n",
    "#DefineParameters\n",
    "Ndata=1\n",
    "Dx=340\n",
    "Fshake=3\n",
    "DataN=2500\n",
    "HarmN=20\n",
    "Noff=3\n",
    "ArraySize=(DataN,HarmN)\n",
    "DataSpaceXSigAmp=np.zeros(ArraySize)\n",
    "DataSpaceYSigAmp=np.zeros(ArraySize)\n",
    "DataSpaceZSigAmp=np.zeros(ArraySize)\n",
    "DataSpaceXSigPha=np.zeros(ArraySize)\n",
    "DataSpaceYSigPha=np.zeros(ArraySize)\n",
    "DataSpaceZSigPha=np.zeros(ArraySize)\n",
    "\n",
    "DataSpaceXNoiAmp=np.zeros(ArraySize)\n",
    "DataSpaceYNoiAmp=np.zeros(ArraySize)\n",
    "DataSpaceZNoiAmp=np.zeros(ArraySize)\n",
    "DataSpaceXNoiPha=np.zeros(ArraySize)\n",
    "DataSpaceYNoiPha=np.zeros(ArraySize)\n",
    "DataSpaceZNoiPha=np.zeros(ArraySize)\n",
    "\n",
    "for k in range(0,DataN):\n",
    "##load the data\n",
    "    NSubData=k\n",
    "    fname = folder+\"/Bead\"+str(BeadNumber)+\"/Shaking\"+\"/Shaking%d/NoSpinShaking%d_%d.h5\" % (Dx,Ndata,NSubData)\n",
    "    BDF = BeadDataFile.BeadDataFile(fname)\n",
    "    data = BDF.xyz2\n",
    "    fsamp=5000\n",
    "    res=50000\n",
    "\n",
    "#detrend data\n",
    "    data_det=signal.detrend(data)\n",
    "    x_1000=data_det[0]\n",
    "    y_1000=data_det[1]\n",
    "    z_1000=data_det[2]\n",
    "    freqs=np.linspace(0,2500,(25000)+1)\n",
    "    \n",
    "    \n",
    "#FFT   \n",
    "    xFFT=np.fft.rfft(x_1000)\n",
    "    yFFT=np.fft.rfft(y_1000)\n",
    "    zFFT=np.fft.rfft(z_1000)\n",
    "#normalization\n",
    "    norm = np.sqrt(2 / (res* fsamp))\n",
    "#PSD calculation from FFT\n",
    "    xpsd = norm**2 * (xFFT * xFFT.conj()).real\n",
    "    ypsd = norm**2 * (yFFT * yFFT.conj()).real\n",
    "    zpsd = norm**2 * (zFFT * zFFT.conj()).real\n",
    "  \n",
    "    f0=71\n",
    "#NSD calculation, together with bit to N/sqrt(Hz) conversion. Ignore the commented out part. \n",
    "    xnsd=np.sqrt(xpsd)*BtoFx#*F0x*np.sqrt((freqs*freqs-w0x*w0x)*(freqs*freqs-w0x*w0x)+gx*gx*freqs*freqs)\n",
    "    ynsd=np.sqrt(ypsd)*BtoFy#*F0y*np.sqrt((freqs*freqs-w0y*w0y)*(freqs*freqs-w0y*w0y)+gy*gy*freqs*freqs)\n",
    "    znsd=np.sqrt(zpsd)*BtoFz#*F0z*np.sqrt((f0*f0-w0z*w0z)*(f0*f0-w0z*w0z)+gz*gz*f0*f0)\n",
    "\n",
    "#implement the effect of transfer function to the amplitude, and extract phase (here phase does have trans. func)\n",
    "#The effect of the trans. func. of the phase is implemented in the signal model. \n",
    "for i in range(1,(HarmN+1)):\n",
    "        DataSpaceXSigAmp[k][i-1]=xnsd[Fshake*10*i]/XtfX[Fshake*10*i-10]*XtfX[f0*10-10]\n",
    "        DataSpaceXSigPha[k][i-1]=np.angle(xFFT[Fshake*10*i]) \n",
    "        DataSpaceYSigAmp[k][i-1]=ynsd[Fshake*10*i]/YtfY[Fshake*10*i-10]*YtfY[f0*10-10]\n",
    "        DataSpaceYSigPha[k][i-1]=np.angle(yFFT[Fshake*10*i]) \n",
    "        DataSpaceZSigAmp[k][i-1]=znsd[Fshake*10*i]/ZtfZ[Fshake*10*i-10]*ZtfZ[f0*10-10]\n",
    "        DataSpaceZSigPha[k][i-1]=np.angle(zFFT[Fshake*10*i]) \n",
    "        \n",
    "##save noise bin data to the array\n",
    "    for i in range(1,(HarmN+1)):\n",
    "        DataSpaceXNoiAmp[k][i-1]=xnsd[Fshake*10*i-Noff]/XtfX[Fshake*10*i-10]*XtfX[f0*10-10]\n",
    "        DataSpaceXNoiPha[k][i-1]=np.angle(xFFT[Fshake*10*i-Noff]) \n",
    "        DataSpaceYNoiAmp[k][i-1]=ynsd[Fshake*10*i-Noff]/YtfY[Fshake*10*i-10]*YtfY[f0*10-10]\n",
    "        DataSpaceYNoiPha[k][i-1]=np.angle(yFFT[Fshake*10*i-Noff]) \n",
    "        DataSpaceZNoiAmp[k][i-1]=znsd[Fshake*10*i-Noff]/ZtfZ[Fshake*10*i-10]*ZtfZ[f0*10-10]\n",
    "        DataSpaceZNoiPha[k][i-1]=np.angle(zFFT[Fshake*10*i-Noff]) \n",
    "  \n",
    "    if (k%100)==0:\n",
    "        print(k)\n",
    "        \n",
    "##write the harmonics data\n",
    "for i in range(1,(HarmN+1)):\n",
    "    ofname = folder+\"/Bead\"+str(BeadNumber)+\"/Shaking\"+\"/Shaking%d/SignalNoSpinShaking%d_%dthHarm.txt\" % (Dx,Ndata,i)\n",
    "    f1 = open(ofname,\"a\")\n",
    "    for k in range(0,DataN):\n",
    "        f1.write('%d %e %e %e %f %f %f\\n' % (k, DataSpaceXSigAmp[k][i-1], DataSpaceYSigAmp[k][i-1], DataSpaceZSigAmp[k][i-1], \n",
    "                                            DataSpaceXSigPha[k][i-1], DataSpaceYSigPha[k][i-1], DataSpaceZSigPha[k][i-1]))\n",
    "    f1.close()\n",
    "    ofname = folder+\"/Bead\"+str(BeadNumber)+\"/Shaking\"+\"/Shaking%d/NoiseNoSpinShaking%d_%dthHarm.txt\" % (Dx,Ndata,i)\n",
    "    f1 = open(ofname,\"a\")\n",
    "    for k in range(0,DataN):\n",
    "        f1.write('%d %e %e %e %f %f %f\\n' % (k, DataSpaceXNoiAmp[k][i-1], DataSpaceYNoiAmp[k][i-1], DataSpaceZNoiAmp[k][i-1], \n",
    "                                            DataSpaceXNoiPha[k][i-1], DataSpaceYNoiPha[k][i-1], DataSpaceZNoiPha[k][i-1]))\n",
    "    f1.close()\n",
    "    \n",
    "print (\"Total run time is \", time.time() - start_time, \" s\")"
   ]
  },
  {
   "cell_type": "code",
   "execution_count": null,
   "metadata": {},
   "outputs": [],
   "source": []
  },
  {
   "cell_type": "code",
   "execution_count": null,
   "metadata": {},
   "outputs": [],
   "source": [
    "##########Following is the signal model generation##########"
   ]
  },
  {
   "cell_type": "code",
   "execution_count": null,
   "metadata": {},
   "outputs": [],
   "source": [
    "##this is derived from Signal_Model_Usage_Example_20191127.ipynb\n",
    "#Loading necessary files for signal model calculation\n",
    "\n",
    "import numpy as np\n",
    "import pickle as pkl\n",
    "import scipy.interpolate as interp\n",
    "import scipy, sys, time\n",
    "from bisect import bisect_left\n",
    "import matplotlib.pyplot as plt\n",
    "sys.path.append('/home/analysis_user/New_trap_code/Tools/')\n",
    "import BeadDataFile\n",
    "from discharge_tools import load_dir\n",
    "sys.path.append('/home/analysis_user/New_trap_code/SensitivityFramework/')\n",
    "from signal_model_utilities_v3 import *\n",
    "\n"
   ]
  },
  {
   "cell_type": "code",
   "execution_count": null,
   "metadata": {},
   "outputs": [],
   "source": [
    "#for z force, 3/20 Bead1, Shaking378_3\n",
    "#preparation of parameters. Here, I calculate signal model for 70 different lambdas. \n",
    "for i in range(0,70):\n",
    "    L=pow(10,i/30.0-0.3)\n",
    "    D=10.39+3.8 #this becomes14.19\n",
    "    H=-15.7\n",
    "    Fshake=3\n",
    "#calculate 1 second lont sitnal data\n",
    "    test = force_vs_time(D,H,200,Fshake,\"z\",L,yuk_or_grav=\"yuk\",alpha=1e10,offset_y=4.9,bead_size=7.6)\n",
    "\n",
    "#define output file and some other parameters. \n",
    "    ofname = \"/data/new_trap/Results/AkioK/2020_11_18_Analysis0320Bead1/SignalZD%dumH%dumL%.02f.txt\" % (D,H,L)\n",
    "    fsamp=5000\n",
    "    res=50000\n",
    "\n",
    "#normalization for FFT    \n",
    "    norm = np.sqrt(2 / (res* fsamp))\n",
    "\n",
    "#definition of an array to store the signal in time domain.     \n",
    "    s = np.arange(0, 5, 0.0001)\n",
    "\n",
    "#by repeating 1 s data for 10 times, 10 s long data is generated, so that it can be FFTed in the same way as the \n",
    "#experimental data. \n",
    "    for i in range(0,10):\n",
    "        for j in range(0,5000):\n",
    "            s[j+i*5000]=test[1][j]\n",
    "    \n",
    "#FFT-> PSD calculation->normalization->NSD calculation    \n",
    "    sFFT=np.fft.rfft(s)\n",
    "    spsd = (sFFT * sFFT.conj()).real\n",
    "    spsd = norm**2 * (sFFT * sFFT.conj()).real\n",
    "    snsd=np.sqrt(spsd)\n",
    "    \n",
    "#save signal model    \n",
    "    f1 = open(ofname,\"a\")\n",
    "    \n",
    "    for i in range(1,101):\n",
    "        Ints=sFFT[Fshake*10*i]\n",
    "        IntNSDs=snsd[Fshake*10*i]\n",
    "     \n",
    "        SigAmpX=IntNSDs\n",
    "        SigPhaX=np.angle(Ints)         \n",
    "        f1.write('%f %e %e %e %e %e %e\\n' % (Fshake*i, SigAmpX, 0,0, SigPhaX, 0,0))\n",
    "    f1.close()"
   ]
  },
  {
   "cell_type": "code",
   "execution_count": null,
   "metadata": {},
   "outputs": [],
   "source": []
  },
  {
   "cell_type": "code",
   "execution_count": null,
   "metadata": {},
   "outputs": [],
   "source": []
  }
 ],
 "metadata": {
  "kernelspec": {
   "display_name": "Python 3",
   "language": "python",
   "name": "python3"
  },
  "language_info": {
   "codemirror_mode": {
    "name": "ipython",
    "version": 3
   },
   "file_extension": ".py",
   "mimetype": "text/x-python",
   "name": "python",
   "nbconvert_exporter": "python",
   "pygments_lexer": "ipython3",
   "version": "3.6.9"
  }
 },
 "nbformat": 4,
 "nbformat_minor": 2
}
