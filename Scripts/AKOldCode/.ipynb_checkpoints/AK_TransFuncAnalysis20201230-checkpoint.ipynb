{
 "cells": [
  {
   "cell_type": "code",
   "execution_count": 9,
   "metadata": {},
   "outputs": [],
   "source": [
    "import numpy as np\n",
    "import matplotlib.pyplot as plt\n",
    "import matplotlib\n",
    "from matplotlib import mlab\n",
    "\n",
    "from scipy import signal\n",
    "import h5py, time\n"
   ]
  },
  {
   "cell_type": "code",
   "execution_count": 10,
   "metadata": {},
   "outputs": [],
   "source": [
    "%matplotlib widget"
   ]
  },
  {
   "cell_type": "code",
   "execution_count": 11,
   "metadata": {},
   "outputs": [],
   "source": [
    "import sys\n",
    "sys.path.append('/home/analysis_user/New_trap_code/Tools/')\n",
    "import BeadDataFile"
   ]
  },
  {
   "cell_type": "code",
   "execution_count": 12,
   "metadata": {},
   "outputs": [],
   "source": [
    "##Force Calibration with single freq, with xyz2"
   ]
  },
  {
   "cell_type": "code",
   "execution_count": 72,
   "metadata": {},
   "outputs": [],
   "source": [
    "Year = \"2020\"\n",
    "Month = \"12\"\n",
    "Day = \"18\"\n",
    "BeadNumber =1\n",
    "folder = r\"/data/new_trap/\"+ Year + Month + Day\n",
    "#folder = r\"/home/analysis_user/data_from_windows/\"+ Year + Month + Day"
   ]
  },
  {
   "cell_type": "code",
   "execution_count": 51,
   "metadata": {},
   "outputs": [],
   "source": [
    "##code for Transfer Function- 7Hz\n",
    "#following is the code to generate transfer function with FFT"
   ]
  },
  {
   "cell_type": "code",
   "execution_count": 52,
   "metadata": {},
   "outputs": [
    {
     "name": "stdout",
     "output_type": "stream",
     "text": [
      "/data/new_trap/20201218/Bead1/TransFunc/TransFunc_4_X_z-1e5_10s_1Hz.h5\n",
      "No seismometer data\n",
      "No z_set data\n",
      "No height data\n",
      "No cantilever data\n",
      "Error loading spinning data\n",
      "No laser power data\n"
     ]
    }
   ],
   "source": [
    "##X preparation\n",
    "Ndata=4\n",
    "tInt=10\n",
    "fsamp=5000\n",
    "res=tInt*fsamp\n",
    "fBase=1\n",
    "Zset=-1\n",
    "\n",
    "fname = folder+\"/Bead\"+str(BeadNumber)+\"/TransFunc\"+\"/TransFunc_%d_X_z%de5_%ds_%dHz.h5\" % (Ndata,Zset,tInt,fBase)\n",
    "print(fname)\n",
    "BDF = BeadDataFile.BeadDataFile(fname)\n",
    "data = BDF.xyz2\n",
    "\n",
    "\n",
    "data_det=signal.detrend(data)\n",
    "x_1000=data_det[0]\n",
    "y_1000=data_det[1]\n",
    "z_1000=data_det[2]\n",
    "freqs=np.linspace(0,2500,(25000)+1)\n",
    "    \n",
    "xFFT=np.fft.rfft(x_1000)\n",
    "yFFT=np.fft.rfft(y_1000)\n",
    "zFFT=np.fft.rfft(z_1000)\n",
    "norm = np.sqrt(2 / (res* fsamp))\n",
    "xpsd = norm**2 * (xFFT * xFFT.conj()).real\n",
    "ypsd = norm**2 * (yFFT * yFFT.conj()).real\n",
    "zpsd = norm**2 * (zFFT * zFFT.conj()).real\n",
    "XphaseX=np.angle(xFFT)\n",
    "XphaseY=np.angle(yFFT)\n",
    "XphaseZ=np.angle(zFFT)\n",
    "\n",
    "XnoiseX=np.sqrt(xpsd)\n",
    "XnoiseY=np.sqrt(ypsd)\n",
    "XnoiseZ=np.sqrt(zpsd)\n"
   ]
  },
  {
   "cell_type": "code",
   "execution_count": 53,
   "metadata": {},
   "outputs": [
    {
     "name": "stdout",
     "output_type": "stream",
     "text": [
      "No seismometer data\n",
      "No z_set data\n",
      "No height data\n",
      "No cantilever data\n",
      "Error loading spinning data\n",
      "No laser power data\n"
     ]
    }
   ],
   "source": [
    "##Y preparataion\n",
    "fname = folder+\"/Bead\"+str(BeadNumber)+\"/TransFunc\"+\"/TransFunc_%d_Y_z%de5_%ds_%dHz.h5\" %(Ndata,Zset,tInt,fBase)\n",
    "BDF = BeadDataFile.BeadDataFile(fname)\n",
    "data = BDF.xyz2 \n",
    "data_det=signal.detrend(data)\n",
    "x_1000=data_det[0]\n",
    "y_1000=data_det[1]\n",
    "z_1000=data_det[2]\n",
    "freqs=np.linspace(0,2500,(25000)+1)\n",
    "    \n",
    "xFFT=np.fft.rfft(x_1000)\n",
    "yFFT=np.fft.rfft(y_1000)\n",
    "zFFT=np.fft.rfft(z_1000)\n",
    "norm = np.sqrt(2 / (res* fsamp))\n",
    "xpsd = norm**2 * (xFFT * xFFT.conj()).real\n",
    "ypsd = norm**2 * (yFFT * yFFT.conj()).real\n",
    "zpsd = norm**2 * (zFFT * zFFT.conj()).real\n",
    "YphaseX=np.angle(xFFT)\n",
    "YphaseY=np.angle(yFFT)\n",
    "YphaseZ=np.angle(zFFT)\n",
    "\n",
    "YnoiseX=np.sqrt(xpsd)\n",
    "YnoiseY=np.sqrt(ypsd)\n",
    "YnoiseZ=np.sqrt(zpsd)\n"
   ]
  },
  {
   "cell_type": "code",
   "execution_count": 54,
   "metadata": {},
   "outputs": [
    {
     "name": "stdout",
     "output_type": "stream",
     "text": [
      "No seismometer data\n",
      "No z_set data\n",
      "No height data\n",
      "No cantilever data\n",
      "Error loading spinning data\n",
      "No laser power data\n"
     ]
    }
   ],
   "source": [
    "##Z preparataion\n",
    "fname = folder+\"/Bead\"+str(BeadNumber)+\"/TransFunc\"+\"/TransFunc_%d_Z_z%de5_%ds_%dHz.h5\" %(Ndata,Zset,tInt,fBase)\n",
    "BDF = BeadDataFile.BeadDataFile(fname)\n",
    "data = BDF.xyz2 \n",
    "data_det=signal.detrend(data)\n",
    "x_1000=data_det[0]\n",
    "y_1000=data_det[1]\n",
    "z_1000=data_det[2]\n",
    "freqs=np.linspace(0,2500,(25000)+1)\n",
    "    \n",
    "xFFT=np.fft.rfft(x_1000)\n",
    "yFFT=np.fft.rfft(y_1000)\n",
    "zFFT=np.fft.rfft(z_1000)\n",
    "norm = np.sqrt(2 / (res* fsamp))\n",
    "xpsd = norm**2 * (xFFT * xFFT.conj()).real\n",
    "ypsd = norm**2 * (yFFT * yFFT.conj()).real\n",
    "zpsd = norm**2 * (zFFT * zFFT.conj()).real\n",
    "ZphaseX=np.angle(xFFT)\n",
    "ZphaseY=np.angle(yFFT)\n",
    "ZphaseZ=np.angle(zFFT)\n",
    "\n",
    "ZnoiseX=np.sqrt(xpsd)\n",
    "ZnoiseY=np.sqrt(ypsd)\n",
    "ZnoiseZ=np.sqrt(zpsd)\n",
    "\n"
   ]
  },
  {
   "cell_type": "code",
   "execution_count": 55,
   "metadata": {},
   "outputs": [
    {
     "name": "stdout",
     "output_type": "stream",
     "text": [
      "[3.28504055e-10 2.88919523e+02 2.15106571e+02 ... 5.69953487e+00\n",
      " 4.08746975e+00 8.83017096e+00]\n"
     ]
    }
   ],
   "source": [
    "print(ZnoiseZ)\n"
   ]
  },
  {
   "cell_type": "code",
   "execution_count": 20,
   "metadata": {},
   "outputs": [],
   "source": [
    "xPha=np.zeros(100)\n",
    "yPha=np.zeros(100)\n",
    "zPha=np.zeros(100)\n",
    "xAmp=np.zeros(100)\n",
    "yAmp=np.zeros(100)\n",
    "zAmp=np.zeros(100)\n"
   ]
  },
  {
   "cell_type": "code",
   "execution_count": 57,
   "metadata": {},
   "outputs": [],
   "source": [
    "for i in range(0,100):\n",
    "    xPha[i]=XphaseX[(i+1)*tInt*fBase]-(i*i/100-round(i*i/100))*2*3.14159265-np.pi*0.5\n",
    "    xAmp[i]=XnoiseX[(i+1)*tInt*fBase]\n",
    "    if(xPha[i]<-3):\n",
    "        xPha[i]+=2*np.pi\n",
    "    yPha[i]=YphaseY[(i+1)*tInt*fBase]-(i*i/100-round(i*i/100))*2*3.14159265+np.pi*0.5\n",
    "    yAmp[i]=YnoiseY[(i+1)*tInt*fBase]\n",
    "    if(yPha[i]>3):\n",
    "        yPha[i]-=2*np.pi\n",
    "    zPha[i]=ZphaseZ[(i+1)*tInt*fBase]-(i*i/100-round(i*i/100))*2*3.14159265-np.pi*0.5\n",
    "    zAmp[i]=ZnoiseZ[(i+1)*tInt*fBase]\n",
    "\n",
    "    \n",
    "        \n",
    "for i in range(0,99):  \n",
    "    if((zPha[i+1]-zPha[i])>4):\n",
    "        zPha[i+1]-=2*np.pi\n",
    "    elif((zPha[i+1]-zPha[i])<-4):\n",
    "        zPha[i+1]+=2*np.pi\n",
    "for i in range(0,99):  \n",
    "    if((zPha[i+1]-zPha[i])>4):\n",
    "        zPha[i+1]-=2*np.pi\n",
    "    elif((zPha[i+1]-zPha[i])<-4):\n",
    "        zPha[i+1]+=2*np.pi"
   ]
  },
  {
   "cell_type": "code",
   "execution_count": 23,
   "metadata": {
    "scrolled": true
   },
   "outputs": [
    {
     "data": {
      "application/vnd.jupyter.widget-view+json": {
       "model_id": "5b2c3f3075ee4d8984c93924f9f2a6cd",
       "version_major": 2,
       "version_minor": 0
      },
      "text/plain": [
       "Canvas(toolbar=Toolbar(toolitems=[('Home', 'Reset original view', 'home', 'home'), ('Back', 'Back to previous …"
      ]
     },
     "metadata": {},
     "output_type": "display_data"
    }
   ],
   "source": [
    "freqs=np.linspace(0,2500,(375000)+1)\n",
    "\n",
    "_,ax = plt.subplots()\n",
    "plt.subplots_adjust(left=0.18, right=0.96, top=0.96, bottom=0.14)\n",
    "\n",
    "ax.plot(np.linspace(1,100,100),xPha, '.-', label=\"x\",markersize=1,linewidth=1)\n",
    "ax.plot(np.linspace(1,100,100),yPha, '.-', label=\"y\",markersize=1,linewidth=1)\n",
    "ax.plot(np.linspace(1,100,100),zPha, '.-', label=\"z\",markersize=1,linewidth=1)\n",
    "ax.legend(fontsize=16)\n",
    "ax.set_xlabel('Frequency [Hz]', fontsize=18)\n",
    "ax.set_ylabel('Phase [rad]',fontsize=18)\n",
    "\n",
    "ax.tick_params(axis='x', labelsize=18)\n",
    "ax.tick_params(axis='y', labelsize=18)\n",
    "#plt.xlim(0.1,500)\n",
    "#plt.ylim(1e-7,1e-2)\n",
    "plt.grid(True)"
   ]
  },
  {
   "cell_type": "code",
   "execution_count": 24,
   "metadata": {},
   "outputs": [],
   "source": [
    "ofname = folder+\"/Bead\"+str(BeadNumber)+\"/TransFunc\"+\"/TransFuncDiag_%d_XYZ_z%de5_%ds_%dHz.h5\" %(Ndata,Zset,tInt,fBase)\n",
    "f1 = open(ofname,\"a\")\n",
    "for k in range(0,100):\n",
    "    f1.write('%d %f %f %f %f %f %f\\n' % (k+1, xAmp[k], yAmp[k], zAmp[k],xPha[k], yPha[k], zPha[k]))\n",
    "f1.close()"
   ]
  },
  {
   "cell_type": "code",
   "execution_count": null,
   "metadata": {},
   "outputs": [],
   "source": [
    "## analysis for the manual transfer function"
   ]
  },
  {
   "cell_type": "code",
   "execution_count": 46,
   "metadata": {},
   "outputs": [
    {
     "name": "stdout",
     "output_type": "stream",
     "text": [
      "3 28983.67309486545 2.7908199179102318\n",
      "6 52362.27207978563 2.463607727051459\n",
      "9 66753.30380073815 2.1793850667981323\n",
      "12 73262.0470584981 1.9498695438311933\n",
      "15 74036.81918985692 1.7647038219977593\n",
      "18 71334.54326448709 1.6198118613423362\n",
      "21 66736.6674118557 1.5467402519143925\n",
      "24 61786.49380298616 1.4912567628798026\n",
      "27 57473.978602384595 1.4708720397932735\n",
      "30 54294.54320567188 1.5012324506054753\n",
      "33 52495.971991841456 1.5454555795648655\n",
      "36 52038.809266764714 1.6090684651740879\n",
      "39 52405.987985674896 1.6265814017064637\n",
      "42 53901.60754119095 1.6441834576459262\n",
      "45 56005.206028069326 1.7113615415010095\n",
      "48 58611.47839471012 1.678192586618364\n",
      "51 61166.43324165406 1.7194173640533068\n",
      "54 63325.3249080302 1.7129044089795404\n",
      "57 65368.64673731666 1.6863216568125228\n",
      "60 67512.83089606931 1.6619522720167161\n",
      "63 68815.08833186016 1.6695314299702853\n",
      "66 70547.79217992975 1.6518266195793325\n",
      "69 72399.06536040975 1.6428573563319817\n",
      "72 55.756276484448655 -0.018729607849353916\n"
     ]
    }
   ],
   "source": [
    "ResX=np.arange(0, 2.4, 0.1)\n",
    "ManPha=np.arange(0, 2.4, 0.1)\n",
    "\n",
    "for i in range(0,24):\n",
    "    Ndata=i*3+2\n",
    "    SigFreq=(i+1)*3\n",
    "    fname = folder+\"/Bead\"+str(BeadNumber)+\"/ManualTransFunc\"+\"/Discharge_%d.h5\" % Ndata\n",
    "    BDF = BeadDataFile.BeadDataFile(fname)\n",
    "    data = BDF.xyz2\n",
    "    fsamp=5000\n",
    "    res=50000\n",
    "    data_det=signal.detrend(data)\n",
    "    z_1000=data_det[2]\n",
    "    freqs=np.linspace(0,2500,(25000)+1)\n",
    "    \n",
    "    zFFT=np.fft.rfft(z_1000)\n",
    "    norm = np.sqrt(2 / (res* fsamp))\n",
    "    zpsd = norm**2 * (zFFT * zFFT.conj()).real\n",
    "    ZphaseZ=np.angle(zFFT)\n",
    "    ZnoiseZ=np.sqrt(zpsd)\n",
    "    \n",
    "    \n",
    "\n",
    "    ResX[i]=np.sqrt(zpsd[SigFreq*10])\n",
    "    ManPha[i]=ZphaseZ[SigFreq*10]\n",
    "    print(SigFreq,np.sqrt(zpsd[SigFreq*10]), ZphaseZ[SigFreq*10])\n",
    "    #print(np.sqrt(ypsd[SigFreq*10]))\n",
    "    #print(np.sqrt(zpsd[SigFreq*10]))"
   ]
  },
  {
   "cell_type": "code",
   "execution_count": 47,
   "metadata": {},
   "outputs": [
    {
     "name": "stdout",
     "output_type": "stream",
     "text": [
      "71 73281.61170688477 1.561130115499258\n"
     ]
    }
   ],
   "source": [
    "Ndata=i*3+2\n",
    "SigFreq=(i+1)*3\n",
    "fname = folder+\"/Bead\"+str(BeadNumber)+\"/ManualTransFunc\"+\"/Discharge_%d.h5\" % Ndata\n",
    "BDF = BeadDataFile.BeadDataFile(fname)\n",
    "data = BDF.xyz2\n",
    "fsamp=5000\n",
    "res=50000\n",
    "data_det=signal.detrend(data)\n",
    "z_1000=data_det[2]\n",
    "freqs=np.linspace(0,2500,(25000)+1)\n",
    "\n",
    "zFFT=np.fft.rfft(z_1000)\n",
    "norm = np.sqrt(2 / (res* fsamp))\n",
    "zpsd = norm**2 * (zFFT * zFFT.conj()).real\n",
    "ZphaseZ=np.angle(zFFT)\n",
    "ZnoiseZ=np.sqrt(zpsd)\n",
    "\n",
    "SigFreq=71\n",
    "\n",
    "ResX[i]=np.sqrt(zpsd[SigFreq*10])\n",
    "ManPha[i]=ZphaseZ[SigFreq*10]\n",
    "print(SigFreq,np.sqrt(zpsd[SigFreq*10]), ZphaseZ[SigFreq*10])\n",
    "#print(np.sqrt(ypsd[SigFreq*10]))\n",
    "#print(np.sqrt(zpsd[SigFreq*10]))"
   ]
  },
  {
   "cell_type": "code",
   "execution_count": 60,
   "metadata": {},
   "outputs": [
    {
     "data": {
      "application/vnd.jupyter.widget-view+json": {
       "model_id": "3efdee2a33e5411f8a2f15ce7e52fb7e",
       "version_major": 2,
       "version_minor": 0
      },
      "text/plain": [
       "Canvas(toolbar=Toolbar(toolitems=[('Home', 'Reset original view', 'home', 'home'), ('Back', 'Back to previous …"
      ]
     },
     "metadata": {},
     "output_type": "display_data"
    }
   ],
   "source": [
    "freqs=np.linspace(3,72,24)\n",
    "freqs[23]=71\n",
    "\n",
    "_,ax = plt.subplots()\n",
    "plt.subplots_adjust(left=0.18, right=0.96, top=0.96, bottom=0.14)\n",
    "\n",
    "#ax.plot(np.linspace(1,100,100),xAmp, '.-', label=\"x\",markersize=1,linewidth=1)\n",
    "ax.plot(freqs,ResX*0.065, '.-', label=\"manual\",markersize=1,linewidth=1)\n",
    "ax.plot(np.linspace(1,100,100),zAmp, '.-', label=\"Comb\",markersize=1,linewidth=1)\n",
    "#ax.semilogy(ZnoiseZ, '.-', label=\"z\",markersize=1,linewidth=1)\n",
    "ax.legend(fontsize=16)\n",
    "ax.set_xlabel('Frequency [Hz]', fontsize=18)\n",
    "ax.set_ylabel('Response [bit]',fontsize=18)\n",
    "\n",
    "ax.tick_params(axis='x', labelsize=18)\n",
    "ax.tick_params(axis='y', labelsize=18)\n",
    "plt.xlim(0,100)\n",
    "#plt.ylim(1e-7,1e-2)\n",
    "plt.grid(True)"
   ]
  },
  {
   "cell_type": "code",
   "execution_count": 62,
   "metadata": {},
   "outputs": [
    {
     "name": "stderr",
     "output_type": "stream",
     "text": [
      "/home/analysis_user/.local/lib/python3.6/site-packages/ipykernel_launcher.py:4: RuntimeWarning: More than 20 figures have been opened. Figures created through the pyplot interface (`matplotlib.pyplot.figure`) are retained until explicitly closed and may consume too much memory. (To control this warning, see the rcParam `figure.max_open_warning`).\n",
      "  after removing the cwd from sys.path.\n"
     ]
    },
    {
     "data": {
      "application/vnd.jupyter.widget-view+json": {
       "model_id": "f961554ae6b2499e9db4b5681bee4145",
       "version_major": 2,
       "version_minor": 0
      },
      "text/plain": [
       "Canvas(toolbar=Toolbar(toolitems=[('Home', 'Reset original view', 'home', 'home'), ('Back', 'Back to previous …"
      ]
     },
     "metadata": {},
     "output_type": "display_data"
    }
   ],
   "source": [
    "freqs=np.linspace(3,72,24)\n",
    "freqs[23]=71\n",
    "\n",
    "_,ax = plt.subplots()\n",
    "plt.subplots_adjust(left=0.18, right=0.96, top=0.96, bottom=0.14)\n",
    "\n",
    "#ax.plot(np.linspace(1,100,100),xAmp, '.-', label=\"x\",markersize=1,linewidth=1)\n",
    "ax.plot(freqs,ManPha-np.pi/2, '.-', label=\"manual\",markersize=1,linewidth=1)\n",
    "ax.plot(np.linspace(1,100,100),zPha, '.-', label=\"Comb\",markersize=1,linewidth=1)\n",
    "#ax.semilogy(ZnoiseZ, '.-', label=\"z\",markersize=1,linewidth=1)\n",
    "ax.legend(fontsize=16)\n",
    "ax.set_xlabel('Frequency [Hz]', fontsize=18)\n",
    "ax.set_ylabel('Phase [rad]]',fontsize=18)\n",
    "\n",
    "ax.tick_params(axis='x', labelsize=18)\n",
    "ax.tick_params(axis='y', labelsize=18)\n",
    "plt.xlim(0,100)\n",
    "plt.ylim(-0.5,1.5)\n",
    "plt.grid(True)"
   ]
  },
  {
   "cell_type": "code",
   "execution_count": 70,
   "metadata": {},
   "outputs": [],
   "source": [
    "#low charge analysis. "
   ]
  },
  {
   "cell_type": "code",
   "execution_count": 73,
   "metadata": {},
   "outputs": [
    {
     "name": "stdout",
     "output_type": "stream",
     "text": [
      "/data/new_trap/20201218/Bead1/TransFunc/TransFunc_9_X_z-2e5_250s_1Hz.h5\n",
      "No seismometer data\n",
      "No z_set data\n",
      "No height data\n",
      "No cantilever data\n",
      "Error loading spinning data\n",
      "No laser power data\n"
     ]
    }
   ],
   "source": [
    "##X preparation\n",
    "Ndata=9\n",
    "tInt=250\n",
    "fsamp=5000\n",
    "res=tInt*fsamp\n",
    "fBase=1\n",
    "Zset=-2\n",
    "\n",
    "fname = folder+\"/Bead\"+str(BeadNumber)+\"/TransFunc\"+\"/TransFunc_%d_X_z%de5_%ds_%dHz.h5\" % (Ndata,Zset,tInt,fBase)\n",
    "print(fname)\n",
    "BDF = BeadDataFile.BeadDataFile(fname)\n",
    "data = BDF.xyz2\n",
    "\n",
    "\n",
    "data_det=signal.detrend(data)\n",
    "x_1000=data_det[0]\n",
    "y_1000=data_det[1]\n",
    "z_1000=data_det[2]\n",
    "freqs=np.linspace(0,2500,(25000)+1)\n",
    "    \n",
    "xFFT=np.fft.rfft(x_1000)\n",
    "yFFT=np.fft.rfft(y_1000)\n",
    "zFFT=np.fft.rfft(z_1000)\n",
    "norm = np.sqrt(2 / (res* fsamp))\n",
    "xpsd = norm**2 * (xFFT * xFFT.conj()).real\n",
    "ypsd = norm**2 * (yFFT * yFFT.conj()).real\n",
    "zpsd = norm**2 * (zFFT * zFFT.conj()).real\n",
    "XphaseX=np.angle(xFFT)\n",
    "XphaseY=np.angle(yFFT)\n",
    "XphaseZ=np.angle(zFFT)\n",
    "\n",
    "XnoiseX=np.sqrt(xpsd)\n",
    "XnoiseY=np.sqrt(ypsd)\n",
    "XnoiseZ=np.sqrt(zpsd)\n",
    "\n"
   ]
  },
  {
   "cell_type": "code",
   "execution_count": 74,
   "metadata": {},
   "outputs": [
    {
     "name": "stdout",
     "output_type": "stream",
     "text": [
      "No seismometer data\n",
      "No z_set data\n",
      "No height data\n",
      "No cantilever data\n",
      "Error loading spinning data\n",
      "No laser power data\n"
     ]
    }
   ],
   "source": [
    "##Y preparataion\n",
    "fname = folder+\"/Bead\"+str(BeadNumber)+\"/TransFunc\"+\"/TransFunc_%d_Y_z%de5_%ds_%dHz.h5\" %(Ndata,Zset,tInt,fBase)\n",
    "BDF = BeadDataFile.BeadDataFile(fname)\n",
    "data = BDF.xyz2 \n",
    "data_det=signal.detrend(data)\n",
    "x_1000=data_det[0]\n",
    "y_1000=data_det[1]\n",
    "z_1000=data_det[2]\n",
    "freqs=np.linspace(0,2500,(25000)+1)\n",
    "    \n",
    "xFFT=np.fft.rfft(x_1000)\n",
    "yFFT=np.fft.rfft(y_1000)\n",
    "zFFT=np.fft.rfft(z_1000)\n",
    "norm = np.sqrt(2 / (res* fsamp))\n",
    "xpsd = norm**2 * (xFFT * xFFT.conj()).real\n",
    "ypsd = norm**2 * (yFFT * yFFT.conj()).real\n",
    "zpsd = norm**2 * (zFFT * zFFT.conj()).real\n",
    "YphaseX=np.angle(xFFT)\n",
    "YphaseY=np.angle(yFFT)\n",
    "YphaseZ=np.angle(zFFT)\n",
    "\n",
    "YnoiseX=np.sqrt(xpsd)\n",
    "YnoiseY=np.sqrt(ypsd)\n",
    "YnoiseZ=np.sqrt(zpsd)\n",
    "\n"
   ]
  },
  {
   "cell_type": "code",
   "execution_count": 75,
   "metadata": {},
   "outputs": [
    {
     "name": "stdout",
     "output_type": "stream",
     "text": [
      "No seismometer data\n",
      "No z_set data\n",
      "No height data\n",
      "No cantilever data\n",
      "Error loading spinning data\n",
      "No laser power data\n"
     ]
    }
   ],
   "source": [
    "##Z preparataion\n",
    "fname = folder+\"/Bead\"+str(BeadNumber)+\"/TransFunc\"+\"/TransFunc_%d_Z_z%de5_%ds_%dHz.h5\" %(Ndata,Zset,tInt,fBase)\n",
    "BDF = BeadDataFile.BeadDataFile(fname)\n",
    "data = BDF.xyz2 \n",
    "data_det=signal.detrend(data)\n",
    "x_1000=data_det[0]\n",
    "y_1000=data_det[1]\n",
    "z_1000=data_det[2]\n",
    "freqs=np.linspace(0,2500,(25000)+1)\n",
    "    \n",
    "xFFT=np.fft.rfft(x_1000)\n",
    "yFFT=np.fft.rfft(y_1000)\n",
    "zFFT=np.fft.rfft(z_1000)\n",
    "norm = np.sqrt(2 / (res* fsamp))\n",
    "xpsd = norm**2 * (xFFT * xFFT.conj()).real\n",
    "ypsd = norm**2 * (yFFT * yFFT.conj()).real\n",
    "zpsd = norm**2 * (zFFT * zFFT.conj()).real\n",
    "ZphaseX=np.angle(xFFT)\n",
    "ZphaseY=np.angle(yFFT)\n",
    "ZphaseZ=np.angle(zFFT)\n",
    "\n",
    "ZnoiseX=np.sqrt(xpsd)\n",
    "ZnoiseY=np.sqrt(ypsd)\n",
    "ZnoiseZ=np.sqrt(zpsd)\n",
    "\n",
    "\n"
   ]
  },
  {
   "cell_type": "code",
   "execution_count": 76,
   "metadata": {},
   "outputs": [],
   "source": [
    "for i in range(0,100):\n",
    "    xPha[i]=XphaseX[(i+1)*tInt*fBase]-(i*i/100-round(i*i/100))*2*3.14159265-np.pi*0.5\n",
    "    xAmp[i]=XnoiseX[(i+1)*tInt*fBase]\n",
    "    if(xPha[i]<-3):\n",
    "        xPha[i]+=2*np.pi\n",
    "    yPha[i]=YphaseY[(i+1)*tInt*fBase]-(i*i/100-round(i*i/100))*2*3.14159265+np.pi*0.5\n",
    "    yAmp[i]=YnoiseY[(i+1)*tInt*fBase]\n",
    "    if(yPha[i]>3):\n",
    "        yPha[i]-=2*np.pi\n",
    "    zPha[i]=ZphaseZ[(i+1)*tInt*fBase]-(i*i/100-round(i*i/100))*2*3.14159265-np.pi*0.5\n",
    "    zAmp[i]=ZnoiseZ[(i+1)*tInt*fBase]\n",
    "\n",
    "    \n",
    "        \n",
    "for i in range(0,99):  \n",
    "    if((zPha[i+1]-zPha[i])>4):\n",
    "        zPha[i+1]-=2*np.pi\n",
    "    elif((zPha[i+1]-zPha[i])<-4):\n",
    "        zPha[i+1]+=2*np.pi\n",
    "for i in range(0,99):  \n",
    "    if((zPha[i+1]-zPha[i])>4):\n",
    "        zPha[i+1]-=2*np.pi\n",
    "    elif((zPha[i+1]-zPha[i])<-4):\n",
    "        zPha[i+1]+=2*np.pi"
   ]
  },
  {
   "cell_type": "code",
   "execution_count": 77,
   "metadata": {},
   "outputs": [
    {
     "data": {
      "application/vnd.jupyter.widget-view+json": {
       "model_id": "f6856b6ab373425fa2ac0265f6b01301",
       "version_major": 2,
       "version_minor": 0
      },
      "text/plain": [
       "Canvas(toolbar=Toolbar(toolitems=[('Home', 'Reset original view', 'home', 'home'), ('Back', 'Back to previous …"
      ]
     },
     "metadata": {},
     "output_type": "display_data"
    }
   ],
   "source": [
    "freqs=np.linspace(0,2500,(375000)+1)\n",
    "\n",
    "_,ax = plt.subplots()\n",
    "plt.subplots_adjust(left=0.18, right=0.96, top=0.96, bottom=0.14)\n",
    "\n",
    "ax.plot(np.linspace(1,100,100),xPha, '.-', label=\"x\",markersize=1,linewidth=1)\n",
    "ax.plot(np.linspace(1,100,100),yPha, '.-', label=\"y\",markersize=1,linewidth=1)\n",
    "ax.plot(np.linspace(1,100,100),zPha, '.-', label=\"z\",markersize=1,linewidth=1)\n",
    "ax.legend(fontsize=16)\n",
    "ax.set_xlabel('Frequency [Hz]', fontsize=18)\n",
    "ax.set_ylabel('Phase [rad]',fontsize=18)\n",
    "\n",
    "ax.tick_params(axis='x', labelsize=18)\n",
    "ax.tick_params(axis='y', labelsize=18)\n",
    "#plt.xlim(0.1,500)\n",
    "#plt.ylim(1e-7,1e-2)\n",
    "plt.grid(True)\n"
   ]
  },
  {
   "cell_type": "code",
   "execution_count": 78,
   "metadata": {},
   "outputs": [
    {
     "name": "stdout",
     "output_type": "stream",
     "text": [
      "3 1886.3591287417694 2.7654730754945653\n",
      "6 3586.529604380005 2.4825329261936475\n",
      "9 4564.628953221706 2.1842542350291807\n",
      "12 5000.579595109917 1.967334863562475\n",
      "15 5140.047876161027 1.765851098468934\n",
      "18 4852.132746878177 1.6401503110004108\n",
      "21 4593.369876947755 1.5525844796933592\n",
      "24 4213.188055474511 1.486504986495108\n",
      "27 3959.55192544184 1.5138562466385779\n",
      "30 3842.1955641241316 1.5125067745049883\n",
      "33 3641.4064979048517 1.5807147691960444\n",
      "36 3650.0609984726166 1.630876855123481\n",
      "39 3520.912222346676 1.6205383059353473\n",
      "42 3836.5132223759433 1.6739807724150118\n",
      "45 4056.722997880888 1.6351598278414698\n",
      "48 3944.790737458388 1.696989786582664\n",
      "51 4404.476450563596 1.738512787998581\n",
      "54 4200.40724817856 1.6389298480232755\n",
      "57 4516.950017349228 1.6818452182189465\n",
      "60 5454.022730147393 1.6382396534260595\n",
      "63 4723.922329160086 1.6304076666128504\n",
      "66 4758.9572816946265 1.6254675665287202\n",
      "69 4902.578711787248 1.6101209019460607\n",
      "72 49.123561243755944 2.5381382095850116\n"
     ]
    }
   ],
   "source": [
    "ResX=np.arange(0, 2.4, 0.1)\n",
    "ManPha=np.arange(0, 2.4, 0.1)\n",
    "\n",
    "for i in range(0,24):\n",
    "    Ndata=i*3+2\n",
    "    SigFreq=(i+1)*3\n",
    "    fname = folder+\"/Bead\"+str(BeadNumber)+\"/ManualTransFuncLowCharge\"+\"/Discharge_%d.h5\" % Ndata\n",
    "    BDF = BeadDataFile.BeadDataFile(fname)\n",
    "    data = BDF.xyz2\n",
    "    fsamp=5000\n",
    "    res=50000\n",
    "    data_det=signal.detrend(data)\n",
    "    z_1000=data_det[2]\n",
    "    freqs=np.linspace(0,2500,(25000)+1)\n",
    "    \n",
    "    zFFT=np.fft.rfft(z_1000)\n",
    "    norm = np.sqrt(2 / (res* fsamp))\n",
    "    zpsd = norm**2 * (zFFT * zFFT.conj()).real\n",
    "    ZphaseZ=np.angle(zFFT)\n",
    "    ZnoiseZ=np.sqrt(zpsd)\n",
    "    \n",
    "    \n",
    "\n",
    "    ResX[i]=np.sqrt(zpsd[SigFreq*10])\n",
    "    ManPha[i]=ZphaseZ[SigFreq*10]\n",
    "    print(SigFreq,np.sqrt(zpsd[SigFreq*10]), ZphaseZ[SigFreq*10])\n",
    "    #print(np.sqrt(ypsd[SigFreq*10]))\n",
    "    #print(np.sqrt(zpsd[SigFreq*10]))"
   ]
  },
  {
   "cell_type": "code",
   "execution_count": 95,
   "metadata": {},
   "outputs": [
    {
     "name": "stdout",
     "output_type": "stream",
     "text": [
      "70 70.52844234164291 -1.3742289269678005\n"
     ]
    }
   ],
   "source": [
    "Ndata=i*3+2\n",
    "SigFreq=(i+1)*3\n",
    "fname = folder+\"/Bead\"+str(BeadNumber)+\"/ManualTransFunc\"+\"/Discharge_%d.h5\" % Ndata\n",
    "BDF = BeadDataFile.BeadDataFile(fname)\n",
    "data = BDF.xyz2\n",
    "fsamp=5000\n",
    "res=50000\n",
    "data_det=signal.detrend(data)\n",
    "z_1000=data_det[2]\n",
    "\n",
    "zFFT=np.fft.rfft(z_1000)\n",
    "norm = np.sqrt(2 / (res* fsamp))\n",
    "zpsd = norm**2 * (zFFT * zFFT.conj()).real\n",
    "ZphaseZ=np.angle(zFFT)\n",
    "ZnoiseZ=np.sqrt(zpsd)\n",
    "\n",
    "SigFreq=70\n",
    "\n",
    "ResX[i]=np.sqrt(zpsd[SigFreq*10])\n",
    "ManPha[i]=ZphaseZ[SigFreq*10]\n",
    "print(SigFreq,np.sqrt(zpsd[SigFreq*10]), ZphaseZ[SigFreq*10])\n",
    "#print(np.sqrt(ypsd[SigFreq*10]))\n",
    "#print(np.sqrt(zpsd[SigFreq*10]))"
   ]
  },
  {
   "cell_type": "code",
   "execution_count": 101,
   "metadata": {},
   "outputs": [
    {
     "data": {
      "application/vnd.jupyter.widget-view+json": {
       "model_id": "14cbf4b897134a68b45b8acf1bebde24",
       "version_major": 2,
       "version_minor": 0
      },
      "text/plain": [
       "Canvas(toolbar=Toolbar(toolitems=[('Home', 'Reset original view', 'home', 'home'), ('Back', 'Back to previous …"
      ]
     },
     "metadata": {},
     "output_type": "display_data"
    }
   ],
   "source": [
    "freqs=np.linspace(3,72,24)\n",
    "freqs[23]=71\n",
    "\n",
    "_,ax = plt.subplots()\n",
    "plt.subplots_adjust(left=0.18, right=0.96, top=0.96, bottom=0.14)\n",
    "\n",
    "#ax.plot(np.linspace(1,100,100),xAmp, '.-', label=\"x\",markersize=1,linewidth=1)\n",
    "ax.plot(freqs,ResX*0.065, '.-', label=\"manual\",markersize=1,linewidth=1)\n",
    "ax.plot(np.linspace(1,100,100),zAmp/5, '.-', label=\"Comb\",markersize=1,linewidth=1)\n",
    "#ax.semilogy(ZnoiseZ, '.-', label=\"z\",markersize=1,linewidth=1)\n",
    "ax.legend(fontsize=16)\n",
    "ax.set_xlabel('Frequency [Hz]', fontsize=18)\n",
    "ax.set_ylabel('Response [bit]',fontsize=18)\n",
    "\n",
    "ax.tick_params(axis='x', labelsize=18)\n",
    "ax.tick_params(axis='y', labelsize=18)\n",
    "plt.xlim(0,100)\n",
    "plt.ylim(0,400)\n",
    "plt.grid(True)"
   ]
  },
  {
   "cell_type": "code",
   "execution_count": 99,
   "metadata": {},
   "outputs": [
    {
     "data": {
      "application/vnd.jupyter.widget-view+json": {
       "model_id": "7e6faeff870044dda1eb690dcde50c1b",
       "version_major": 2,
       "version_minor": 0
      },
      "text/plain": [
       "Canvas(toolbar=Toolbar(toolitems=[('Home', 'Reset original view', 'home', 'home'), ('Back', 'Back to previous …"
      ]
     },
     "metadata": {},
     "output_type": "display_data"
    }
   ],
   "source": [
    "freqs=np.linspace(3,72,24)\n",
    "freqs[23]=71\n",
    "\n",
    "\n",
    "_,ax = plt.subplots()\n",
    "plt.subplots_adjust(left=0.18, right=0.96, top=0.96, bottom=0.14)\n",
    "\n",
    "#ax.plot(np.linspace(1,100,100),xAmp, '.-', label=\"x\",markersize=1,linewidth=1)\n",
    "ax.plot(np.linspace(3,72,24),ManPha-np.pi/2, '.-', label=\"manual\",markersize=1,linewidth=1)\n",
    "ax.plot(np.linspace(1,100,100),zPha, '.-', label=\"Comb\",markersize=1,linewidth=1)\n",
    "#ax.semilogy(ZnoiseZ, '.-', label=\"z\",markersize=1,linewidth=1)\n",
    "ax.legend(fontsize=16)\n",
    "ax.set_xlabel('Frequency [Hz]', fontsize=18)\n",
    "ax.set_ylabel('Phase [rad]]',fontsize=18)\n",
    "\n",
    "ax.tick_params(axis='x', labelsize=18)\n",
    "ax.tick_params(axis='y', labelsize=18)\n",
    "plt.xlim(0,100)\n",
    "plt.ylim(-1,1.5)\n",
    "plt.grid(True)"
   ]
  },
  {
   "cell_type": "code",
   "execution_count": 98,
   "metadata": {},
   "outputs": [
    {
     "data": {
      "application/vnd.jupyter.widget-view+json": {
       "model_id": "61da45bfe81141fbb97952a7b8512c7a",
       "version_major": 2,
       "version_minor": 0
      },
      "text/plain": [
       "Canvas(toolbar=Toolbar(toolitems=[('Home', 'Reset original view', 'home', 'home'), ('Back', 'Back to previous …"
      ]
     },
     "metadata": {},
     "output_type": "display_data"
    }
   ],
   "source": [
    "_,ax = plt.subplots()\n",
    "plt.subplots_adjust(left=0.18, right=0.96, top=0.96, bottom=0.14)\n",
    "\n",
    "#ax.plot(np.linspace(1,100,100),xAmp, '.-', label=\"x\",markersize=1,linewidth=1)\n",
    "#ax.plot(freqs,ResX*0.065, '.-', label=\"manual\",markersize=1,linewidth=1)\n",
    "#ax.plot(np.linspace(1,100,100),zAmp/5, '.-', label=\"Comb\",markersize=1,linewidth=1)\n",
    "ax.semilogy(zpsd, '.-', label=\"z\",markersize=1,linewidth=1)\n",
    "ax.legend(fontsize=16)\n",
    "ax.set_xlabel('Frequency [Hz]', fontsize=18)\n",
    "ax.set_ylabel('Response [bit]',fontsize=18)\n",
    "\n",
    "ax.tick_params(axis='x', labelsize=18)\n",
    "ax.tick_params(axis='y', labelsize=18)\n",
    "#plt.xlim(0,100)\n",
    "#plt.ylim(1e-7,1e-2)\n",
    "plt.grid(True)"
   ]
  },
  {
   "cell_type": "code",
   "execution_count": 102,
   "metadata": {},
   "outputs": [],
   "source": [
    "##########\n",
    "#following is the check of the fluctuation of the response with Wilson data\n",
    "##########Year = \"2020\"\n",
    "Month = \"03\"\n",
    "Day = \"20\"\n",
    "BeadNumber =1\n",
    "folder = r\"/data/new_trap/\"+ Year + Month + Day"
   ]
  },
  {
   "cell_type": "code",
   "execution_count": 103,
   "metadata": {},
   "outputs": [],
   "source": [
    "Year = \"2020\"\n",
    "Month = \"03\"\n",
    "Day = \"20\"\n",
    "BeadNumber =1\n",
    "folder = r\"/data/new_trap/\"+ Year + Month + Day"
   ]
  },
  {
   "cell_type": "code",
   "execution_count": 118,
   "metadata": {},
   "outputs": [
    {
     "name": "stdout",
     "output_type": "stream",
     "text": [
      "No seismometer data\n",
      "No z_set data\n",
      "No height data\n",
      "No cantilever data\n",
      "Error loading spinning data\n",
      "No laser power data\n"
     ]
    }
   ],
   "source": [
    "##X preparation\n",
    "Ndata=11\n",
    "fname = folder+\"/Bead\"+str(BeadNumber)+\"/TransFunc\"+\"/Repeat_TransFunc_20200104/TransFunc_X_m300k_250s_1hz.h5\" #% Ndata\n",
    "BDF = BeadDataFile.BeadDataFile(fname)\n",
    "data = BDF.xyz2\n",
    "tInt=250\n",
    "fsamp=5000\n",
    "res=tInt*fsamp\n",
    "fBase=1\n",
    "Nharm=100\n",
    "\n",
    "data_det=signal.detrend(data)\n",
    "x_1000=data_det[0]\n",
    "y_1000=data_det[1]\n",
    "z_1000=data_det[2]\n",
    "freqs=np.linspace(0,2500,625001)\n",
    "    \n",
    "xFFT=np.fft.rfft(x_1000)\n",
    "yFFT=np.fft.rfft(y_1000)\n",
    "zFFT=np.fft.rfft(z_1000)\n",
    "norm = np.sqrt(2 / (res* fsamp))\n",
    "xpsd = norm**2 * (xFFT * xFFT.conj()).real\n",
    "ypsd = norm**2 * (yFFT * yFFT.conj()).real\n",
    "zpsd = norm**2 * (zFFT * zFFT.conj()).real\n",
    "XphaseX=np.angle(xFFT)\n",
    "XphaseY=np.angle(yFFT)\n",
    "XphaseZ=np.angle(zFFT)\n",
    "\n",
    "XnoiseX=np.sqrt(xpsd)\n",
    "XnoiseY=np.sqrt(ypsd)\n",
    "XnoiseZ=np.sqrt(zpsd)\n",
    "\n",
    "\n",
    "XrespX=np.zeros(Nharm)\n",
    "XrespY=np.zeros(Nharm)\n",
    "XrespZ=np.zeros(Nharm)\n",
    "for i in range (Nharm):\n",
    "    XrespX[i]=XnoiseX[tInt*(i+1)]\n",
    "    XrespY[i]=XnoiseY[tInt*(i+1)]\n",
    "    XrespZ[i]=XnoiseZ[tInt*(i+1)]\n",
    "    \n",
    "XtfX=np.zeros(991)\n",
    "XtfY=np.zeros(991)\n",
    "XtfZ=np.zeros(991)\n",
    "\n",
    "for i in range (99):\n",
    "    for j in range(10):\n",
    "        XtfX[i*10+j]=0.1*XrespX[i]*(10-j)+0.1*XrespX[i+1]*j\n",
    "        XtfY[i*10+j]=0.1*XrespY[i]*(10-j)+0.1*XrespY[i+1]*j\n",
    "        XtfZ[i*10+j]=0.1*XrespZ[i]*(10-j)+0.1*XrespZ[i+1]*j\n",
    "XtfX[990]=XrespX[99]\n",
    "XtfY[990]=XrespY[99]\n",
    "XtfZ[990]=XrespZ[99]"
   ]
  },
  {
   "cell_type": "code",
   "execution_count": 119,
   "metadata": {},
   "outputs": [
    {
     "name": "stdout",
     "output_type": "stream",
     "text": [
      "No seismometer data\n",
      "No z_set data\n",
      "No height data\n",
      "No cantilever data\n",
      "Error loading spinning data\n",
      "No laser power data\n"
     ]
    }
   ],
   "source": [
    "##Y preparataion\n",
    "fname = folder+\"/Bead\"+str(BeadNumber)+\"/TransFunc\"+\"/Repeat_TransFunc_20200104/TransFunc_Y_m300k_250s_1hz.h5\" #% Ndata\n",
    "BDF = BeadDataFile.BeadDataFile(fname)\n",
    "data = BDF.xyz2 \n",
    "data_det=signal.detrend(data)\n",
    "x_1000=data_det[0]\n",
    "y_1000=data_det[1]\n",
    "z_1000=data_det[2]\n",
    "    \n",
    "xFFT=np.fft.rfft(x_1000)\n",
    "yFFT=np.fft.rfft(y_1000)\n",
    "zFFT=np.fft.rfft(z_1000)\n",
    "norm = np.sqrt(2 / (res* fsamp))\n",
    "xpsd = norm**2 * (xFFT * xFFT.conj()).real\n",
    "ypsd = norm**2 * (yFFT * yFFT.conj()).real\n",
    "zpsd = norm**2 * (zFFT * zFFT.conj()).real\n",
    "YphaseX=np.angle(xFFT)\n",
    "YphaseY=np.angle(yFFT)\n",
    "YphaseZ=np.angle(zFFT)\n",
    "\n",
    "YnoiseX=np.sqrt(xpsd)\n",
    "YnoiseY=np.sqrt(ypsd)\n",
    "YnoiseZ=np.sqrt(zpsd)\n",
    "\n",
    "\n",
    "YrespX=np.zeros(Nharm)\n",
    "YrespY=np.zeros(Nharm)\n",
    "YrespZ=np.zeros(Nharm)\n",
    "for i in range (Nharm):\n",
    "    YrespX[i]=YnoiseX[tInt*(i+1)]\n",
    "    YrespY[i]=YnoiseY[tInt*(i+1)]\n",
    "    YrespZ[i]=YnoiseZ[tInt*(i+1)]\n",
    "    \n",
    "YtfX=np.zeros(991)\n",
    "YtfY=np.zeros(991)\n",
    "YtfZ=np.zeros(991)\n",
    "\n",
    "for i in range (99):\n",
    "    for j in range(10):\n",
    "        YtfX[i*10+j]=0.1*YrespX[i]*(10-j)+0.1*YrespX[i+1]*j\n",
    "        YtfY[i*10+j]=0.1*YrespY[i]*(10-j)+0.1*YrespY[i+1]*j\n",
    "        YtfZ[i*10+j]=0.1*YrespZ[i]*(10-j)+0.1*YrespZ[i+1]*j\n",
    "YtfX[990]=YrespX[99]\n",
    "YtfY[990]=YrespY[99]\n",
    "YtfZ[990]=YrespZ[99]"
   ]
  },
  {
   "cell_type": "code",
   "execution_count": 120,
   "metadata": {},
   "outputs": [
    {
     "name": "stdout",
     "output_type": "stream",
     "text": [
      "No seismometer data\n",
      "No z_set data\n",
      "No height data\n",
      "No cantilever data\n",
      "Error loading spinning data\n",
      "No laser power data\n"
     ]
    }
   ],
   "source": [
    "##Z preparataion\n",
    "fname = folder+\"/Bead\"+str(BeadNumber)+\"/TransFunc\"+\"/Repeat_TransFunc_20200104/TransFunc_Z_m300k_250s_1hz.h5\" #% Ndata\n",
    "BDF = BeadDataFile.BeadDataFile(fname)\n",
    "data = BDF.xyz2 \n",
    "data_det=signal.detrend(data)\n",
    "x_1000=data_det[0]\n",
    "y_1000=data_det[1]\n",
    "z_1000=data_det[2]\n",
    "    \n",
    "xFFT=np.fft.rfft(x_1000)\n",
    "yFFT=np.fft.rfft(y_1000)\n",
    "zFFT=np.fft.rfft(z_1000)\n",
    "norm = np.sqrt(2 / (res* fsamp))\n",
    "xpsd = norm**2 * (xFFT * xFFT.conj()).real\n",
    "ypsd = norm**2 * (yFFT * yFFT.conj()).real\n",
    "zpsd = norm**2 * (zFFT * zFFT.conj()).real\n",
    "ZphaseX=np.angle(xFFT)\n",
    "ZphaseY=np.angle(yFFT)\n",
    "ZphaseZ=np.angle(zFFT)\n",
    "\n",
    "ZnoiseX=np.sqrt(xpsd)\n",
    "ZnoiseY=np.sqrt(ypsd)\n",
    "ZnoiseZ=np.sqrt(zpsd)\n",
    "\n",
    "ZrespX=np.zeros(Nharm)\n",
    "ZrespY=np.zeros(Nharm)\n",
    "ZrespZ=np.zeros(Nharm)\n",
    "for i in range (Nharm):\n",
    "    ZrespX[i]=ZnoiseX[tInt*(i+1)]\n",
    "    ZrespY[i]=ZnoiseY[tInt*(i+1)]\n",
    "    ZrespZ[i]=ZnoiseZ[tInt*(i+1)]\n",
    "    \n",
    "ZtfX=np.zeros(991)\n",
    "ZtfY=np.zeros(991)\n",
    "ZtfZ=np.zeros(991)\n",
    "\n",
    "for i in range (99):\n",
    "    for j in range(10):\n",
    "        ZtfX[i*10+j]=0.1*ZrespX[i]*(10-j)+0.1*ZrespX[i+1]*j\n",
    "        ZtfY[i*10+j]=0.1*ZrespY[i]*(10-j)+0.1*ZrespY[i+1]*j\n",
    "        ZtfZ[i*10+j]=0.1*ZrespZ[i]*(10-j)+0.1*ZrespZ[i+1]*j\n",
    "ZtfX[990]=ZrespX[99]\n",
    "ZtfY[990]=ZrespY[99]\n",
    "ZtfZ[990]=ZrespZ[99]"
   ]
  },
  {
   "cell_type": "code",
   "execution_count": 123,
   "metadata": {},
   "outputs": [
    {
     "data": {
      "application/vnd.jupyter.widget-view+json": {
       "model_id": "1173d04681094769a570666ab643ba13",
       "version_major": 2,
       "version_minor": 0
      },
      "text/plain": [
       "Canvas(toolbar=Toolbar(toolitems=[('Home', 'Reset original view', 'home', 'home'), ('Back', 'Back to previous …"
      ]
     },
     "metadata": {},
     "output_type": "display_data"
    }
   ],
   "source": [
    "_,ax = plt.subplots()\n",
    "plt.subplots_adjust(left=0.18, right=0.96, top=0.96, bottom=0.14)\n",
    "\n",
    "ax.semilogy(freqs,ZnoiseZ, '.-', label=\"z\",markersize=1,linewidth=1)\n",
    "ax.legend(fontsize=16)\n",
    "ax.set_xlabel('Frequency [Hz]', fontsize=18)\n",
    "ax.set_ylabel('Response [bit]',fontsize=18)\n",
    "\n",
    "ax.tick_params(axis='x', labelsize=18)\n",
    "ax.tick_params(axis='y', labelsize=18)\n",
    "plt.xlim(0,100)\n",
    "plt.ylim(1,1000)\n",
    "plt.grid(True)"
   ]
  },
  {
   "cell_type": "code",
   "execution_count": 129,
   "metadata": {},
   "outputs": [],
   "source": [
    "Z_25=z_1000[0:125000]\n",
    "zFFT_25=np.fft.rfft(Z_25)\n",
    "norm_25 = np.sqrt(2 / (res/10* fsamp))\n",
    "zpsd_25 = norm**2 * (zFFT_25 * zFFT_25.conj()).real\n",
    "ZphaseZ_25=np.angle(zFFT_25)\n",
    "ZnoiseZ_25=np.sqrt(zpsd_25)"
   ]
  },
  {
   "cell_type": "code",
   "execution_count": 131,
   "metadata": {},
   "outputs": [
    {
     "data": {
      "application/vnd.jupyter.widget-view+json": {
       "model_id": "38250680f50d4081b494a8fd9017a37f",
       "version_major": 2,
       "version_minor": 0
      },
      "text/plain": [
       "Canvas(toolbar=Toolbar(toolitems=[('Home', 'Reset original view', 'home', 'home'), ('Back', 'Back to previous …"
      ]
     },
     "metadata": {},
     "output_type": "display_data"
    }
   ],
   "source": [
    "freqs_25=freqs=np.linspace(0,2500,62501)\n",
    "\n",
    "_,ax = plt.subplots()\n",
    "plt.subplots_adjust(left=0.18, right=0.96, top=0.96, bottom=0.14)\n",
    "\n",
    "ax.semilogy(freqs,ZnoiseZ_25, '.-', label=\"z\",markersize=1,linewidth=1)\n",
    "ax.legend(fontsize=16)\n",
    "ax.set_xlabel('Frequency [Hz]', fontsize=18)\n",
    "ax.set_ylabel('Response [bit]',fontsize=18)\n",
    "\n",
    "ax.tick_params(axis='x', labelsize=18)\n",
    "ax.tick_params(axis='y', labelsize=18)\n",
    "plt.xlim(0,100)\n",
    "plt.ylim(1,1000)\n",
    "plt.grid(True)"
   ]
  },
  {
   "cell_type": "code",
   "execution_count": 137,
   "metadata": {},
   "outputs": [],
   "source": [
    "tInt=25\n",
    "for i in range(0,100):\n",
    "    zPha[i]=ZphaseZ_25[(i+1)*tInt*fBase]-(i*i/100-round(i*i/100))*2*3.14159265+np.pi*0.5\n",
    "    zAmp[i]=ZnoiseZ_25[(i+1)*tInt*fBase]\n",
    "        \n",
    "for i in range(0,99):  \n",
    "    if((zPha[i+1]-zPha[i])>4):\n",
    "        zPha[i+1]-=2*np.pi\n",
    "    elif((zPha[i+1]-zPha[i])<-4):\n",
    "        zPha[i+1]+=2*np.pi\n",
    "for i in range(0,99):  \n",
    "    if((zPha[i+1]-zPha[i])>4):\n",
    "        zPha[i+1]-=2*np.pi\n",
    "    elif((zPha[i+1]-zPha[i])<-4):\n",
    "        zPha[i+1]+=2*np.pi"
   ]
  },
  {
   "cell_type": "code",
   "execution_count": 138,
   "metadata": {},
   "outputs": [
    {
     "data": {
      "application/vnd.jupyter.widget-view+json": {
       "model_id": "e3600cd48916489e9d95dd864a7288be",
       "version_major": 2,
       "version_minor": 0
      },
      "text/plain": [
       "Canvas(toolbar=Toolbar(toolitems=[('Home', 'Reset original view', 'home', 'home'), ('Back', 'Back to previous …"
      ]
     },
     "metadata": {},
     "output_type": "display_data"
    }
   ],
   "source": [
    "freqs_25=freqs=np.linspace(0,2500,62501)\n",
    "\n",
    "_,ax = plt.subplots()\n",
    "plt.subplots_adjust(left=0.18, right=0.96, top=0.96, bottom=0.14)\n",
    "\n",
    "ax.plot(np.linspace(1,100,100),zPha, '.-', label=\"z\",markersize=1,linewidth=1)\n",
    "ax.legend(fontsize=16)\n",
    "ax.set_xlabel('Frequency [Hz]', fontsize=18)\n",
    "ax.set_ylabel('Phase [rad]',fontsize=18)\n",
    "\n",
    "ax.tick_params(axis='x', labelsize=18)\n",
    "ax.tick_params(axis='y', labelsize=18)\n",
    "plt.xlim(0,100)\n",
    "#plt.ylim(1,1000)\n",
    "plt.grid(True)"
   ]
  },
  {
   "cell_type": "code",
   "execution_count": 147,
   "metadata": {},
   "outputs": [],
   "source": [
    "for i in range(0,10):\n",
    "    Z_25=z_1000[(125000*i):(125000*(i+1))]\n",
    "    zFFT_25=np.fft.rfft(Z_25)\n",
    "    norm_25 = np.sqrt(2 / (res/10* fsamp))\n",
    "    zpsd_25 = norm**2 * (zFFT_25 * zFFT_25.conj()).real\n",
    "    ZphaseZ_25=np.angle(zFFT_25)\n",
    "    ZnoiseZ_25=np.sqrt(zpsd_25)\n",
    "    tInt=25\n",
    "    for k in range(0,100):\n",
    "        zPha[k]=ZphaseZ_25[(k+1)*tInt*fBase]-(k*k/100-round(k*k/100))*2*3.14159265+np.pi*0.5\n",
    "        zAmp[k]=ZnoiseZ_25[(k+1)*tInt*fBase]\n",
    "\n",
    "    for k in range(0,99):  \n",
    "        if((zPha[k+1]-zPha[k])>4):\n",
    "            zPha[k+1]-=2*np.pi\n",
    "        elif((zPha[k+1]-zPha[k])<-4):\n",
    "            zPha[k+1]+=2*np.pi\n",
    "    for k in range(0,99):  \n",
    "        if((zPha[k+1]-zPha[k])>4):\n",
    "            zPha[k+1]-=2*np.pi\n",
    "        elif((zPha[k+1]-zPha[k])<-4):\n",
    "            zPha[k+1]+=2*np.pi\n",
    "        \n",
    "    ofname = folder+\"/Bead\"+str(BeadNumber)+\"/TransFunc\"+\"/Repeat_TransFunc_20200104/TFZAmpPha_m300k_250s_1hz_%d.txt\" %(i)\n",
    "    f1 = open(ofname,\"a\")\n",
    "    for k in range(0,99):\n",
    "        f1.write('%d %f %f\\n' % (k, zAmp[k], zPha[k]))\n",
    "    f1.close()"
   ]
  },
  {
   "cell_type": "code",
   "execution_count": null,
   "metadata": {},
   "outputs": [],
   "source": []
  },
  {
   "cell_type": "code",
   "execution_count": 148,
   "metadata": {},
   "outputs": [],
   "source": [
    "for i in range(0,10):\n",
    "    Z_25=z_1000[(125000*i):(125000*(i+1))]\n",
    "    zFFT_25=np.fft.rfft(signal.detrend(Z_25))\n",
    "    norm_25 = np.sqrt(2 / (res/10* fsamp))\n",
    "    zpsd_25 = norm**2 * (zFFT_25 * zFFT_25.conj()).real\n",
    "    ZphaseZ_25=np.angle(zFFT_25)\n",
    "    ZnoiseZ_25=np.sqrt(zpsd_25)\n",
    "    tInt=25\n",
    "    for k in range(0,100):\n",
    "        zPha[k]=ZphaseZ_25[(k+1)*tInt*fBase]-(k*k/100-round(k*k/100))*2*3.14159265+np.pi*0.5\n",
    "        zAmp[k]=ZnoiseZ_25[(k+1)*tInt*fBase]\n",
    "\n",
    "    for k in range(0,99):  \n",
    "        if((zPha[k+1]-zPha[k])>4):\n",
    "            zPha[k+1]-=2*np.pi\n",
    "        elif((zPha[k+1]-zPha[k])<-4):\n",
    "            zPha[k+1]+=2*np.pi\n",
    "    for k in range(0,99):  \n",
    "        if((zPha[k+1]-zPha[k])>4):\n",
    "            zPha[k+1]-=2*np.pi\n",
    "        elif((zPha[k+1]-zPha[k])<-4):\n",
    "            zPha[k+1]+=2*np.pi\n",
    "        \n",
    "    ofname = folder+\"/Bead\"+str(BeadNumber)+\"/TransFunc\"+\"/Repeat_TransFunc_20200104/TFZAmpPhaDet_m300k_250s_1hz_%d.txt\" %(i)\n",
    "    f1 = open(ofname,\"a\")\n",
    "    for k in range(0,99):\n",
    "        f1.write('%d %f %f\\n' % (k, zAmp[k], zPha[k]))\n",
    "    f1.close()"
   ]
  },
  {
   "cell_type": "code",
   "execution_count": 149,
   "metadata": {},
   "outputs": [
    {
     "name": "stdout",
     "output_type": "stream",
     "text": [
      "No seismometer data\n",
      "No z_set data\n",
      "No height data\n",
      "No cantilever data\n",
      "Error loading spinning data\n",
      "No laser power data\n"
     ]
    }
   ],
   "source": [
    "##Z preparataion\n",
    "fname = folder+\"/Bead\"+str(BeadNumber)+\"/TransFunc\"+\"/Repeat_TransFunc_20200104/TransFunc_Z_m300k_250s_1hz.h5\" #% Ndata\n",
    "BDF = BeadDataFile.BeadDataFile(fname)\n",
    "data = BDF.xyz2 \n",
    "x_1000=data_det[0]\n",
    "y_1000=data_det[1]\n",
    "z_1000=data[2]"
   ]
  },
  {
   "cell_type": "code",
   "execution_count": 151,
   "metadata": {},
   "outputs": [],
   "source": [
    "for i in range(0,10):\n",
    "    Z_25=z_1000[(125000*i):(125000*(i+1))]\n",
    "    zFFT_25=np.fft.rfft(signal.detrend(Z_25))\n",
    "    norm_25 = np.sqrt(2 / (res/10* fsamp))\n",
    "    zpsd_25 = norm**2 * (zFFT_25 * zFFT_25.conj()).real\n",
    "    ZphaseZ_25=np.angle(zFFT_25)\n",
    "    ZnoiseZ_25=np.sqrt(zpsd_25)\n",
    "    tInt=25\n",
    "    for k in range(0,100):\n",
    "        zPha[k]=ZphaseZ_25[(k+1)*tInt*fBase]-(k*k/100-round(k*k/100))*2*3.14159265+np.pi*0.5\n",
    "        zAmp[k]=ZnoiseZ_25[(k+1)*tInt*fBase]\n",
    "\n",
    "    for k in range(0,99):  \n",
    "        if((zPha[k+1]-zPha[k])>4):\n",
    "            zPha[k+1]-=2*np.pi\n",
    "        elif((zPha[k+1]-zPha[k])<-4):\n",
    "            zPha[k+1]+=2*np.pi\n",
    "    for k in range(0,99):  \n",
    "        if((zPha[k+1]-zPha[k])>4):\n",
    "            zPha[k+1]-=2*np.pi\n",
    "        elif((zPha[k+1]-zPha[k])<-4):\n",
    "            zPha[k+1]+=2*np.pi\n",
    "        \n",
    "    ofname = folder+\"/Bead\"+str(BeadNumber)+\"/TransFunc\"+\"/Repeat_TransFunc_20200104/TFZAmpPhaDet2_m300k_250s_1hz_%d.txt\" %(i)\n",
    "    f1 = open(ofname,\"a\")\n",
    "    for k in range(0,99):\n",
    "        f1.write('%d\\t%f\\t%f\\n' % (k, zAmp[k], zPha[k]))\n",
    "    f1.close()"
   ]
  },
  {
   "cell_type": "code",
   "execution_count": 152,
   "metadata": {},
   "outputs": [
    {
     "name": "stdout",
     "output_type": "stream",
     "text": [
      "No seismometer data\n",
      "No z_set data\n",
      "No height data\n",
      "No cantilever data\n",
      "Error loading spinning data\n",
      "No laser power data\n"
     ]
    }
   ],
   "source": [
    "##Z preparataion\n",
    "fname = folder+\"/Bead\"+str(BeadNumber)+\"/TransFunc\"+\"/TransFunc_Z_m800k_150s.h5\" #% Ndata\n",
    "BDF = BeadDataFile.BeadDataFile(fname)\n",
    "data = BDF.xyz2 \n",
    "x_1000=data_det[0]\n",
    "y_1000=data_det[1]\n",
    "z_1000=data[2]"
   ]
  },
  {
   "cell_type": "code",
   "execution_count": 153,
   "metadata": {},
   "outputs": [],
   "source": [
    "for i in range(0,6):\n",
    "    Z_25=z_1000[(125000*i):(125000*(i+1))]\n",
    "    zFFT_25=np.fft.rfft(signal.detrend(Z_25))\n",
    "    norm_25 = np.sqrt(2 / (res/10* fsamp))\n",
    "    zpsd_25 = norm**2 * (zFFT_25 * zFFT_25.conj()).real\n",
    "    ZphaseZ_25=np.angle(zFFT_25)\n",
    "    ZnoiseZ_25=np.sqrt(zpsd_25)\n",
    "    tInt=25\n",
    "    for k in range(0,100):\n",
    "        zPha[k]=ZphaseZ_25[(k+1)*tInt*fBase]-(k*k/100-round(k*k/100))*2*3.14159265+np.pi*0.5\n",
    "        zAmp[k]=ZnoiseZ_25[(k+1)*tInt*fBase]\n",
    "\n",
    "    for k in range(0,99):  \n",
    "        if((zPha[k+1]-zPha[k])>4):\n",
    "            zPha[k+1]-=2*np.pi\n",
    "        elif((zPha[k+1]-zPha[k])<-4):\n",
    "            zPha[k+1]+=2*np.pi\n",
    "    for k in range(0,99):  \n",
    "        if((zPha[k+1]-zPha[k])>4):\n",
    "            zPha[k+1]-=2*np.pi\n",
    "        elif((zPha[k+1]-zPha[k])<-4):\n",
    "            zPha[k+1]+=2*np.pi\n",
    "        \n",
    "    ofname = folder+\"/Bead\"+str(BeadNumber)+\"/TransFunc\"+\"/TFZAmpPha_m800k_150s_1hz_%d.txt\" %(i)\n",
    "    f1 = open(ofname,\"a\")\n",
    "    for k in range(0,99):\n",
    "        f1.write('%d\\t%f\\t%f\\n' % (k, zAmp[k], zPha[k]))\n",
    "    f1.close()"
   ]
  },
  {
   "cell_type": "code",
   "execution_count": null,
   "metadata": {},
   "outputs": [],
   "source": []
  }
 ],
 "metadata": {
  "kernelspec": {
   "display_name": "Python 3",
   "language": "python",
   "name": "python3"
  },
  "language_info": {
   "codemirror_mode": {
    "name": "ipython",
    "version": 3
   },
   "file_extension": ".py",
   "mimetype": "text/x-python",
   "name": "python",
   "nbconvert_exporter": "python",
   "pygments_lexer": "ipython3",
   "version": "3.6.9"
  }
 },
 "nbformat": 4,
 "nbformat_minor": 2
}
