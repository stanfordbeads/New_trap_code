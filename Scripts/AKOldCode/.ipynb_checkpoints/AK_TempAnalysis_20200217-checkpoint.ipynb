{
 "cells": [
  {
   "cell_type": "code",
   "execution_count": 1,
   "metadata": {},
   "outputs": [],
   "source": [
    "import numpy as np\n",
    "import matplotlib.pyplot as plt\n",
    "import matplotlib\n",
    "from matplotlib import mlab\n",
    "\n",
    "from scipy import signal\n",
    "import h5py, time\n"
   ]
  },
  {
   "cell_type": "code",
   "execution_count": 2,
   "metadata": {},
   "outputs": [],
   "source": [
    "%matplotlib notebook"
   ]
  },
  {
   "cell_type": "code",
   "execution_count": 3,
   "metadata": {},
   "outputs": [],
   "source": [
    "import sys\n",
    "sys.path.append('/home/analysis_user/New_trap_code/Tools/')\n",
    "import BeadDataFile"
   ]
  },
  {
   "cell_type": "code",
   "execution_count": 45,
   "metadata": {},
   "outputs": [],
   "source": [
    "##Following is for extracting temperature data"
   ]
  },
  {
   "cell_type": "code",
   "execution_count": 14,
   "metadata": {},
   "outputs": [
    {
     "name": "stdout",
     "output_type": "stream",
     "text": [
      "0 2020-02-11 15:24:56.083199\n",
      "100 2020-02-11 15:42:13.847617\n",
      "200 2020-02-11 15:59:28.499372\n",
      "300 2020-02-11 16:16:24.613344\n",
      "400 2020-02-11 16:33:20.356108\n",
      "447 file /data/SC_data/TemperatureAndPressure25540721/TempAndPressure25540721_13.hdf5 does not exist\n",
      "500 2020-02-11 16:50:17.261096\n",
      "600 2020-02-11 17:07:13.678075\n",
      "672 file /data/SC_data/TemperatureAndPressure25540721/TempAndPressure25540721_13.hdf5 does not exist\n",
      "700 2020-02-11 17:24:11.177075\n",
      "800 2020-02-11 17:41:08.925881\n",
      "897 file /data/SC_data/TemperatureAndPressure25540721/TempAndPressure25540721_13.hdf5 does not exist\n",
      "900 2020-02-11 17:58:05.685266\n",
      "913 file /data/SC_data/TemperatureAndPressure25540721/TempAndPressure25540721_13.hdf5 does not exist\n",
      "1000 2020-02-11 18:15:01.977242\n",
      "1100 2020-02-11 18:31:58.048413\n",
      "1200 2020-02-11 18:48:54.462991\n",
      "1239 file /data/SC_data/TemperatureAndPressure25540721/TempAndPressure25540721_13.hdf5 does not exist\n",
      "1300 2020-02-11 19:05:51.993593\n",
      "1400 2020-02-11 19:22:48.751578\n",
      "1500 2020-02-11 19:39:46.217578\n",
      "1600 2020-02-11 19:56:42.805359\n",
      "1700 2020-02-11 20:13:39.222538\n",
      "1800 2020-02-11 20:30:35.880721\n",
      "1900 2020-02-11 20:47:32.192297\n",
      "2000 2020-02-11 21:04:29.246689\n",
      "2100 2020-02-11 21:21:26.690488\n",
      "2200 2020-02-11 21:38:23.214068\n",
      "2300 2020-02-11 21:55:20.690068\n",
      "2400 2020-02-11 22:12:17.556656\n",
      "2404 file /data/SC_data/TemperatureAndPressure25540721/TempAndPressure25540721_13.hdf5 does not exist\n",
      "2418 file /data/SC_data/TemperatureAndPressure25540721/TempAndPressure25540721_13.hdf5 does not exist\n",
      "2421 file /data/SC_data/TemperatureAndPressure25540721/TempAndPressure25540721_13.hdf5 does not exist\n",
      "2500 2020-02-11 22:29:16.923095\n",
      "2600 2020-02-11 22:46:13.687881\n",
      "2669 file /data/SC_data/TemperatureAndPressure25540721/TempAndPressure25540721_13.hdf5 does not exist\n",
      "2700 2020-02-11 23:03:11.327084\n",
      "2800 2020-02-11 23:20:07.878065\n",
      "2867 file /data/SC_data/TemperatureAndPressure25540721/TempAndPressure25540721_13.hdf5 does not exist\n",
      "2900 2020-02-11 23:37:06.564690\n",
      "2958 file /data/SC_data/TemperatureAndPressure25540721/TempAndPressure25540721_13.hdf5 does not exist\n",
      "3000 2020-02-11 23:54:04.605702\n",
      "3100 2020-02-12 00:11:01.877498\n",
      "3200 2020-02-12 00:27:58.779286\n",
      "3300 2020-02-12 00:44:57.162905\n",
      "3400 2020-02-12 01:01:54.682706\n",
      "3500 2020-02-12 01:18:52.095305\n",
      "3600 2020-02-12 01:35:49.185297\n",
      "3700 2020-02-12 01:52:45.863680\n",
      "3800 2020-02-12 02:09:44.031295\n",
      "3900 2020-02-12 02:26:40.889682\n",
      "3931 file /data/SC_data/TemperatureAndPressure25540721/TempAndPressure25540721_13.hdf5 does not exist\n",
      "4000 2020-02-12 02:43:38.662889\n",
      "4100 2020-02-12 03:00:35.185269\n",
      "4200 2020-02-12 03:17:31.993855\n",
      "4300 2020-02-12 03:34:28.711040\n",
      "4400 2020-02-12 03:51:25.200019\n",
      "4500 2020-02-12 04:08:22.371613\n",
      "4600 2020-02-12 04:25:20.147619\n",
      "4639 file /data/SC_data/TemperatureAndPressure25540721/TempAndPressure25540721_13.hdf5 does not exist\n",
      "4700 2020-02-12 04:42:18.374635\n",
      "4800 2020-02-12 04:59:15.215422\n",
      "4846 file /data/SC_data/TemperatureAndPressure25540721/TempAndPressure25540721_13.hdf5 does not exist\n",
      "4900 2020-02-12 05:16:12.511818\n",
      "Total run time is  218.79724144935608  s\n"
     ]
    }
   ],
   "source": [
    "import time\n",
    "import datetime as dt\n",
    "import os\n",
    "start_time = time.time()\n",
    "\n",
    "yrS=2020\n",
    "moS=2\n",
    "dyS=10\n",
    "hrS=0\n",
    "mnS=0\n",
    "scS=0\n",
    "yrE=2020\n",
    "moE=2\n",
    "dyE=10\n",
    "hrE=0\n",
    "mnE=0\n",
    "scE=0\n",
    "\n",
    "#DefineParameters\n",
    "\n",
    "\n",
    "\n",
    "#    print(yr, mo, day, hr, mn, sec)\n",
    "    SCfname= \"/data/SC_data/TemperatureAndPressure%d%02d%02d/TempAndPressure%d%02d%02d_%02d.hdf5\" %(yr,mo,day,yr,mo,day,hr)\n",
    "    if os.path.exists(SCfname):\n",
    "        SCf=h5py.File(SCfname,'r')\n",
    "        f1.write('%d %d %f %f %f\\n' % (k, BDF.time[49999], SCf['Pressure/Pressures'][(mn*60+sec)], SCf['AirTemperature/AirTemperatures'][(mn*60+sec)], SCf['SurfaceTemperature/SurfaceTemperatures'][(mn*60+sec)]))\n",
    "        SCf.close()\n",
    "    else:\n",
    "        print(k,\"file\", SCfname, \"does not exist\")\n",
    "f1.close()    \n",
    "print (\"Total run time is \", time.time() - start_time, \" s\")\n"
   ]
  },
  {
   "cell_type": "code",
   "execution_count": 150,
   "metadata": {},
   "outputs": [
    {
     "name": "stdout",
     "output_type": "stream",
     "text": [
      "0 2020-02-11 15:24:46.083392\n"
     ]
    },
    {
     "ename": "KeyError",
     "evalue": "'Unable to open object (component not found)'",
     "output_type": "error",
     "traceback": [
      "\u001b[0;31m---------------------------------------------------------------------------\u001b[0m",
      "\u001b[0;31mKeyError\u001b[0m                                  Traceback (most recent call last)",
      "\u001b[0;32m<ipython-input-150-3adaddb1eb07>\u001b[0m in \u001b[0;36m<module>\u001b[0;34m()\u001b[0m\n\u001b[1;32m     45\u001b[0m     \u001b[0;32mif\u001b[0m \u001b[0mos\u001b[0m\u001b[0;34m.\u001b[0m\u001b[0mpath\u001b[0m\u001b[0;34m.\u001b[0m\u001b[0mexists\u001b[0m\u001b[0;34m(\u001b[0m\u001b[0mSCfname\u001b[0m\u001b[0;34m)\u001b[0m\u001b[0;34m:\u001b[0m\u001b[0;34m\u001b[0m\u001b[0;34m\u001b[0m\u001b[0m\n\u001b[1;32m     46\u001b[0m         \u001b[0mSCf\u001b[0m\u001b[0;34m=\u001b[0m\u001b[0mh5py\u001b[0m\u001b[0;34m.\u001b[0m\u001b[0mFile\u001b[0m\u001b[0;34m(\u001b[0m\u001b[0mSCfname\u001b[0m\u001b[0;34m,\u001b[0m\u001b[0;34m'r'\u001b[0m\u001b[0;34m)\u001b[0m\u001b[0;34m\u001b[0m\u001b[0;34m\u001b[0m\u001b[0m\n\u001b[0;32m---> 47\u001b[0;31m         \u001b[0maveP\u001b[0m\u001b[0;34m=\u001b[0m\u001b[0mnp\u001b[0m\u001b[0;34m.\u001b[0m\u001b[0maverage\u001b[0m\u001b[0;34m(\u001b[0m\u001b[0mf\u001b[0m\u001b[0;34m[\u001b[0m\u001b[0;34m'Pressure/Pressures'\u001b[0m\u001b[0;34m]\u001b[0m\u001b[0;34m[\u001b[0m\u001b[0;34m(\u001b[0m\u001b[0mmn\u001b[0m\u001b[0;34m*\u001b[0m\u001b[0;36m60\u001b[0m\u001b[0;34m+\u001b[0m\u001b[0msec\u001b[0m\u001b[0;34m)\u001b[0m\u001b[0;34m:\u001b[0m\u001b[0;34m(\u001b[0m\u001b[0mmn\u001b[0m\u001b[0;34m*\u001b[0m\u001b[0;36m60\u001b[0m\u001b[0;34m+\u001b[0m\u001b[0msec\u001b[0m\u001b[0;34m+\u001b[0m\u001b[0;36m2\u001b[0m\u001b[0;34m)\u001b[0m\u001b[0;34m]\u001b[0m\u001b[0;34m)\u001b[0m\u001b[0;34m\u001b[0m\u001b[0;34m\u001b[0m\u001b[0m\n\u001b[0m\u001b[1;32m     48\u001b[0m         \u001b[0maveTa\u001b[0m\u001b[0;34m=\u001b[0m\u001b[0mnp\u001b[0m\u001b[0;34m.\u001b[0m\u001b[0maverage\u001b[0m\u001b[0;34m(\u001b[0m\u001b[0mf\u001b[0m\u001b[0;34m[\u001b[0m\u001b[0;34m'AirTemperature/AirTemperatures'\u001b[0m\u001b[0;34m]\u001b[0m\u001b[0;34m[\u001b[0m\u001b[0;34m(\u001b[0m\u001b[0mmn\u001b[0m\u001b[0;34m*\u001b[0m\u001b[0;36m60\u001b[0m\u001b[0;34m+\u001b[0m\u001b[0msec\u001b[0m\u001b[0;34m)\u001b[0m\u001b[0;34m:\u001b[0m\u001b[0;34m(\u001b[0m\u001b[0mmn\u001b[0m\u001b[0;34m*\u001b[0m\u001b[0;36m60\u001b[0m\u001b[0;34m+\u001b[0m\u001b[0msec\u001b[0m\u001b[0;34m+\u001b[0m\u001b[0;36m2\u001b[0m\u001b[0;34m)\u001b[0m\u001b[0;34m]\u001b[0m\u001b[0;34m)\u001b[0m\u001b[0;34m\u001b[0m\u001b[0;34m\u001b[0m\u001b[0m\n\u001b[1;32m     49\u001b[0m         \u001b[0maveTs\u001b[0m\u001b[0;34m=\u001b[0m\u001b[0mnp\u001b[0m\u001b[0;34m.\u001b[0m\u001b[0maverage\u001b[0m\u001b[0;34m(\u001b[0m\u001b[0mf\u001b[0m\u001b[0;34m[\u001b[0m\u001b[0;34m'SurfaceTemperature/SurfaceTemperatures'\u001b[0m\u001b[0;34m]\u001b[0m\u001b[0;34m[\u001b[0m\u001b[0;34m(\u001b[0m\u001b[0mmn\u001b[0m\u001b[0;34m*\u001b[0m\u001b[0;36m60\u001b[0m\u001b[0;34m+\u001b[0m\u001b[0msec\u001b[0m\u001b[0;34m)\u001b[0m\u001b[0;34m:\u001b[0m\u001b[0;34m(\u001b[0m\u001b[0mmn\u001b[0m\u001b[0;34m*\u001b[0m\u001b[0;36m60\u001b[0m\u001b[0;34m+\u001b[0m\u001b[0msec\u001b[0m\u001b[0;34m+\u001b[0m\u001b[0;36m2\u001b[0m\u001b[0;34m)\u001b[0m\u001b[0;34m]\u001b[0m\u001b[0;34m)\u001b[0m\u001b[0;34m\u001b[0m\u001b[0;34m\u001b[0m\u001b[0m\n",
      "\u001b[0;32mh5py/_objects.pyx\u001b[0m in \u001b[0;36mh5py._objects.with_phil.wrapper\u001b[0;34m()\u001b[0m\n",
      "\u001b[0;32mh5py/_objects.pyx\u001b[0m in \u001b[0;36mh5py._objects.with_phil.wrapper\u001b[0;34m()\u001b[0m\n",
      "\u001b[0;32m/home/analysis_user/.local/lib/python3.6/site-packages/h5py/_hl/group.py\u001b[0m in \u001b[0;36m__getitem__\u001b[0;34m(self, name)\u001b[0m\n\u001b[1;32m    260\u001b[0m                 \u001b[0;32mraise\u001b[0m \u001b[0mValueError\u001b[0m\u001b[0;34m(\u001b[0m\u001b[0;34m\"Invalid HDF5 object reference\"\u001b[0m\u001b[0;34m)\u001b[0m\u001b[0;34m\u001b[0m\u001b[0;34m\u001b[0m\u001b[0m\n\u001b[1;32m    261\u001b[0m         \u001b[0;32melse\u001b[0m\u001b[0;34m:\u001b[0m\u001b[0;34m\u001b[0m\u001b[0;34m\u001b[0m\u001b[0m\n\u001b[0;32m--> 262\u001b[0;31m             \u001b[0moid\u001b[0m \u001b[0;34m=\u001b[0m \u001b[0mh5o\u001b[0m\u001b[0;34m.\u001b[0m\u001b[0mopen\u001b[0m\u001b[0;34m(\u001b[0m\u001b[0mself\u001b[0m\u001b[0;34m.\u001b[0m\u001b[0mid\u001b[0m\u001b[0;34m,\u001b[0m \u001b[0mself\u001b[0m\u001b[0;34m.\u001b[0m\u001b[0m_e\u001b[0m\u001b[0;34m(\u001b[0m\u001b[0mname\u001b[0m\u001b[0;34m)\u001b[0m\u001b[0;34m,\u001b[0m \u001b[0mlapl\u001b[0m\u001b[0;34m=\u001b[0m\u001b[0mself\u001b[0m\u001b[0;34m.\u001b[0m\u001b[0m_lapl\u001b[0m\u001b[0;34m)\u001b[0m\u001b[0;34m\u001b[0m\u001b[0;34m\u001b[0m\u001b[0m\n\u001b[0m\u001b[1;32m    263\u001b[0m \u001b[0;34m\u001b[0m\u001b[0m\n\u001b[1;32m    264\u001b[0m         \u001b[0motype\u001b[0m \u001b[0;34m=\u001b[0m \u001b[0mh5i\u001b[0m\u001b[0;34m.\u001b[0m\u001b[0mget_type\u001b[0m\u001b[0;34m(\u001b[0m\u001b[0moid\u001b[0m\u001b[0;34m)\u001b[0m\u001b[0;34m\u001b[0m\u001b[0;34m\u001b[0m\u001b[0m\n",
      "\u001b[0;32mh5py/_objects.pyx\u001b[0m in \u001b[0;36mh5py._objects.with_phil.wrapper\u001b[0;34m()\u001b[0m\n",
      "\u001b[0;32mh5py/_objects.pyx\u001b[0m in \u001b[0;36mh5py._objects.with_phil.wrapper\u001b[0;34m()\u001b[0m\n",
      "\u001b[0;32mh5py/h5o.pyx\u001b[0m in \u001b[0;36mh5py.h5o.open\u001b[0;34m()\u001b[0m\n",
      "\u001b[0;31mKeyError\u001b[0m: 'Unable to open object (component not found)'"
     ]
    }
   ],
   "source": [
    "import time\n",
    "import os\n",
    "start_time = time.time()\n",
    "\n",
    "#DefineParameters\n",
    "Nint=0\n",
    "Ndata=0\n",
    "Dx=383\n",
    "Fshake=3\n",
    "DataN=5000\n",
    "HarmN=20\n",
    "Noff=7\n",
    "ArraySize=(DataN,HarmN)\n",
    "DataSpaceXSigAmp=np.zeros(ArraySize)\n",
    "DataSpaceYSigAmp=np.zeros(ArraySize)\n",
    "DataSpaceZSigAmp=np.zeros(ArraySize)\n",
    "DataSpaceXSigPha=np.zeros(ArraySize)\n",
    "DataSpaceYSigPha=np.zeros(ArraySize)\n",
    "DataSpaceZSigPha=np.zeros(ArraySize)\n",
    "\n",
    "DataSpaceXNoiAmp=np.zeros(ArraySize)\n",
    "DataSpaceYNoiAmp=np.zeros(ArraySize)\n",
    "DataSpaceZNoiAmp=np.zeros(ArraySize)\n",
    "DataSpaceXNoiPha=np.zeros(ArraySize)\n",
    "DataSpaceYNoiPha=np.zeros(ArraySize)\n",
    "DataSpaceZNoiPha=np.zeros(ArraySize)\n",
    "\n",
    "\n",
    "ofname = folder+\"/Bead\"+str(BeadNumber)+\"/Shaking\"+\"/Shaking%d/TempDataTest%d_%d.txt\" % (Dx,Dx,Ndata)\n",
    "f1 = open(ofname,\"a\")\n",
    "for k in range(0,DataN):\n",
    "##FFT the data\n",
    "    NSubData=k\n",
    "    fname = folder+\"/Bead\"+str(BeadNumber)+\"/Shaking\"+\"/Shaking%d/Shaking%d_%d.h5\" % (Dx,Ndata,NSubData)\n",
    "    BDF = BeadDataFile.BeadDataFile(fname)\n",
    "    DataTime=dt.datetime.fromtimestamp(BDF.time[0]/1e9)\n",
    "    print(k,DataTime)\n",
    "    yr=DataTime.year\n",
    "    mo=DataTime.month\n",
    "    day=DataTime.day\n",
    "    hr=DataTime.hour\n",
    "    mn=DataTime.minute\n",
    "    sec=DataTime.second\n",
    "    SCfname= \"/data/SC_data/TemperatureAndPressure%d%02d%02d/TempAndPressure%d%02d%02d_%02d.hdf5\" %(yr,mo,day,yr,mo,day,hr)\n",
    "    if os.path.exists(SCfname):\n",
    "        SCf=h5py.File(SCfname,'r')\n",
    "        aveP=np.average(f['Pressure/Pressures'][(mn*60+sec):(mn*60+sec+2)])\n",
    "        aveTa=np.average(f['AirTemperature/AirTemperatures'][(mn*60+sec):(mn*60+sec+2)])\n",
    "        aveTs=np.average(f['SurfaceTemperature/SurfaceTemperatures'][(mn*60+sec):(mn*60+sec+2)])\n",
    "        f1.write('%d %d %f %f %f\\n' % (k, BDF.time[0],aveP, aveTa, aveTs))\n",
    "        SCf.close()\n",
    "f1.close()    \n",
    "print (\"Total run time is \", time.time() - start_time, \" s\")\n"
   ]
  },
  {
   "cell_type": "code",
   "execution_count": 169,
   "metadata": {},
   "outputs": [],
   "source": [
    "SCfname= \"/data/SC_data/TemperatureAndPressure%d%02d%02d/TempAndPressure%d%02d%02d_%02d.hdf5\" %(yr,mo,day,yr,mo,day,hr)\n"
   ]
  },
  {
   "cell_type": "code",
   "execution_count": 170,
   "metadata": {},
   "outputs": [
    {
     "name": "stdout",
     "output_type": "stream",
     "text": [
      "/data/SC_data/TemperatureAndPressure20200210/TempAndPressure20200210_18.hdf5\n"
     ]
    }
   ],
   "source": [
    "print(SCfname)"
   ]
  },
  {
   "cell_type": "code",
   "execution_count": 171,
   "metadata": {},
   "outputs": [],
   "source": [
    "SCf=h5py.File(SCfname,'r')"
   ]
  },
  {
   "cell_type": "code",
   "execution_count": 172,
   "metadata": {},
   "outputs": [
    {
     "data": {
      "text/plain": [
       "1011.505559131123"
      ]
     },
     "execution_count": 172,
     "metadata": {},
     "output_type": "execute_result"
    }
   ],
   "source": [
    "SCf['Pressure/Pressures'][3]"
   ]
  },
  {
   "cell_type": "code",
   "execution_count": 50,
   "metadata": {},
   "outputs": [],
   "source": [
    "res=50000"
   ]
  },
  {
   "cell_type": "code",
   "execution_count": 53,
   "metadata": {},
   "outputs": [],
   "source": [
    " freqs=np.linspace(0,2500,25000+1)"
   ]
  },
  {
   "cell_type": "code",
   "execution_count": 48,
   "metadata": {},
   "outputs": [
    {
     "data": {
      "text/plain": [
       "array([0.0000e+00, 1.0000e-01, 2.0000e-01, ..., 2.4998e+03, 2.4999e+03,\n",
       "       2.5000e+03])"
      ]
     },
     "execution_count": 48,
     "metadata": {},
     "output_type": "execute_result"
    }
   ],
   "source": [
    "freqs"
   ]
  },
  {
   "cell_type": "code",
   "execution_count": null,
   "metadata": {},
   "outputs": [],
   "source": []
  }
 ],
 "metadata": {
  "kernelspec": {
   "display_name": "Python 3",
   "language": "python",
   "name": "python3"
  },
  "language_info": {
   "codemirror_mode": {
    "name": "ipython",
    "version": 3
   },
   "file_extension": ".py",
   "mimetype": "text/x-python",
   "name": "python",
   "nbconvert_exporter": "python",
   "pygments_lexer": "ipython3",
   "version": "3.6.9"
  }
 },
 "nbformat": 4,
 "nbformat_minor": 2
}
