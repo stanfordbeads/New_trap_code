{
 "cells": [
  {
   "cell_type": "code",
   "execution_count": 1,
   "metadata": {},
   "outputs": [],
   "source": [
    "import numpy as np\n",
    "import matplotlib.pyplot as plt\n",
    "import matplotlib\n",
    "from matplotlib import mlab\n",
    "from scipy import signal\n",
    "import h5py, time\n",
    "import sys\n",
    "import glob\n",
    "sys.path.append('/home/analysis_user/New_trap_code/Tools/')\n",
    "import BeadDataFile\n",
    "from discharge_tools import *\n",
    "from iminuit import Minuit, describe\n",
    "from pprint import pprint # we use this to pretty print some stuff later\n",
    "from tqdm import tqdm\n",
    "from matplotlib.ticker import MaxNLocator\n",
    "\n",
    "\n",
    "plt.rcParams[\"figure.figsize\"] = (12,9)\n",
    "plt.rcParams[\"font.size\"] = 24\n",
    "plt.rcParams['xtick.labelsize'] = \"small\"\n",
    "plt.rcParams['ytick.labelsize'] = 36"
   ]
  },
  {
   "cell_type": "code",
   "execution_count": 4,
   "metadata": {},
   "outputs": [],
   "source": [
    "# specify the folder\n",
    "#foldername = r'/data/new_trap/20200720/Bead1/Discharge/Discharge0721/'\n",
    "foldername = r'/home/data_transfer/data_from_windows/20200930/Bead1/Discharge/FineDischarge/'\n"
   ]
  },
  {
   "cell_type": "code",
   "execution_count": 5,
   "metadata": {},
   "outputs": [],
   "source": [
    "# set the drive and settings for the correlation\n",
    "fdrive=71\n",
    "nsamp = 50000\n",
    "fsamp = 5000\n",
    "sigamp = 1\n",
    "tarr = np.arange(0, nsamp/fsamp, 1.0/fsamp)\n",
    "sig = sigamp * np.sin(2.0 * np.pi * fdrive * tarr)\n"
   ]
  },
  {
   "cell_type": "code",
   "execution_count": 23,
   "metadata": {
    "scrolled": true
   },
   "outputs": [
    {
     "name": "stderr",
     "output_type": "stream",
     "text": [
      "100%|██████████| 35/35 [00:44<00:00,  1.23s/it]"
     ]
    },
    {
     "name": "stdout",
     "output_type": "stream",
     "text": [
      "185  files in folder\n",
      "35  files loaded\n"
     ]
    },
    {
     "name": "stderr",
     "output_type": "stream",
     "text": [
      "\n"
     ]
    }
   ],
   "source": [
    "# load the files\n",
    "files_discharge = load_dir(dirname=foldername, start_file=150, max_file=200)\n",
    "\n",
    "# get the in-phase response\n",
    "corrs = [correlation(drive=sig, response=files.z2, fsamp=fsamp, fdrive=fdrive, filt=True, band_width=1) for files in files_discharge]\n",
    "indices = [np.argmax(cc) for cc in corrs]\n",
    "in_phase = []\n",
    "\n",
    "#RtoQ=49 #this is the coefficient to convert response to charge. \n",
    "RtoQ=25 #this is the coefficient to convert response to charge. |\n",
    "for cc in corrs:\n",
    "    in_phase.append(cc[2]/82.5)"
   ]
  },
  {
   "cell_type": "code",
   "execution_count": 24,
   "metadata": {
    "scrolled": false
   },
   "outputs": [
    {
     "data": {
      "image/png": "[encoded data removed]",
      "text/plain": [
       "<Figure size 864x648 with 1 Axes>"
      ]
     },
     "metadata": {
      "needs_background": "light"
     },
     "output_type": "display_data"
    }
   ],
   "source": [
    "# plot the in-phase response\n",
    "plt.plot(range(len(indices)),np.divide(in_phase,1),linestyle=\"\",marker=\"o\")\n",
    "plt.ylim(-10,1)\n",
    "#plt.xlim(180,270)\n",
    "plt.grid(True)\n",
    "plt.show()"
   ]
  },
  {
   "cell_type": "code",
   "execution_count": null,
   "metadata": {},
   "outputs": [],
   "source": []
  },
  {
   "cell_type": "code",
   "execution_count": null,
   "metadata": {},
   "outputs": [],
   "source": []
  },
  {
   "cell_type": "code",
   "execution_count": null,
   "metadata": {},
   "outputs": [],
   "source": []
  },
  {
   "cell_type": "code",
   "execution_count": null,
   "metadata": {},
   "outputs": [],
   "source": []
  }
 ],
 "metadata": {
  "kernelspec": {
   "display_name": "Python 3",
   "language": "python",
   "name": "python3"
  },
  "language_info": {
   "codemirror_mode": {
    "name": "ipython",
    "version": 3
   },
   "file_extension": ".py",
   "mimetype": "text/x-python",
   "name": "python",
   "nbconvert_exporter": "python",
   "pygments_lexer": "ipython3",
   "version": "3.6.9"
  }
 },
 "nbformat": 4,
 "nbformat_minor": 2
}
