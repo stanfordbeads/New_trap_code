{
 "cells": [
  {
   "cell_type": "code",
   "execution_count": 1,
   "metadata": {},
   "outputs": [],
   "source": [
    "import numpy as np\n",
    "import matplotlib.pyplot as plt\n",
    "import matplotlib\n",
    "from matplotlib import mlab\n",
    "\n",
    "from scipy import signal\n",
    "import h5py, time\n"
   ]
  },
  {
   "cell_type": "code",
   "execution_count": 2,
   "metadata": {},
   "outputs": [],
   "source": [
    "%matplotlib widget"
   ]
  },
  {
   "cell_type": "code",
   "execution_count": 3,
   "metadata": {},
   "outputs": [],
   "source": [
    "import sys\n",
    "sys.path.append('/home/analysis_user/New_trap_code/Tools/')\n",
    "import BeadDataFile"
   ]
  },
  {
   "cell_type": "code",
   "execution_count": 4,
   "metadata": {},
   "outputs": [],
   "source": [
    "##Force Calibration with single freq, with xyz2"
   ]
  },
  {
   "cell_type": "code",
   "execution_count": 5,
   "metadata": {},
   "outputs": [],
   "source": [
    "Year = \"2020\"\n",
    "Month = \"03\"\n",
    "Day = \"20\"\n",
    "BeadNumber =1\n",
    "folder = r\"/data/new_trap/\"+ Year + Month + Day\n",
    "#folder = r\"/home/analysis_user/data_from_windows/\"+ Year + Month + Day"
   ]
  },
  {
   "cell_type": "code",
   "execution_count": 7,
   "metadata": {},
   "outputs": [],
   "source": [
    "##7 Hz in the sub folder. "
   ]
  },
  {
   "cell_type": "code",
   "execution_count": 14,
   "metadata": {},
   "outputs": [],
   "source": [
    "##X preparation\n",
    "Ndata=6\n",
    "tInt=50\n",
    "fsamp=5000\n",
    "res=tInt*fsamp\n",
    "fBase=7\n",
    "Zset=1\n",
    "zPha=np.zeros(100)\n",
    "zAmp=np.zeros(100)\n",
    "\n",
    "\n"
   ]
  },
  {
   "cell_type": "code",
   "execution_count": 18,
   "metadata": {},
   "outputs": [
    {
     "name": "stdout",
     "output_type": "stream",
     "text": [
      "/data/new_trap/20200320/Bead1/TransFunc/Repeat_TransFunc_20200104/TransFunc_Z_m900k_50s_7hz.h5\n",
      "No seismometer data\n",
      "No z_set data\n",
      "No height data\n",
      "No cantilever data\n",
      "Error loading spinning data\n",
      "No laser power data\n"
     ]
    }
   ],
   "source": [
    "##Z preparataion\n",
    "for Ndata in range(1,10):\n",
    "    fname = folder+\"/Bead\"+str(BeadNumber)+\"/TransFunc\"+\"/Repeat_TransFunc_20200104/TransFunc_Z_m%d00k_50s_7hz.h5\" %(Ndata)\n",
    "    print(fname)\n",
    "    BDF = BeadDataFile.BeadDataFile(fname)\n",
    "    data = BDF.xyz2 \n",
    "    data_det=signal.detrend(data)\n",
    "    z_1000=data_det[2]\n",
    "    freqs=np.linspace(0,2500,(25000)+1)\n",
    "\n",
    "    zFFT=np.fft.rfft(z_1000)\n",
    "    norm = np.sqrt(2 / (res* fsamp))\n",
    "    zpsd = norm**2 * (zFFT * zFFT.conj()).real\n",
    "    ZphaseZ=np.angle(zFFT)\n",
    "    ZnoiseZ=np.sqrt(zpsd)\n",
    "\n",
    "    for i in range(0,100):\n",
    "        zPha[i]=ZphaseZ[(i+1)*tInt*fBase]-(i*i/100-round(i*i/100))*2*3.14159265-np.pi*0.5\n",
    "        zAmp[i]=ZnoiseZ[(i+1)*tInt*fBase]  \n",
    "\n",
    "    for i in range(0,99):  \n",
    "        if((zPha[i+1]-zPha[i])>4):\n",
    "            zPha[i+1]-=2*np.pi\n",
    "        elif((zPha[i+1]-zPha[i])<-4):\n",
    "            zPha[i+1]+=2*np.pi\n",
    "    for i in range(0,99):  \n",
    "        if((zPha[i+1]-zPha[i])>4):\n",
    "            zPha[i+1]-=2*np.pi\n",
    "        elif((zPha[i+1]-zPha[i])<-4):\n",
    "            zPha[i+1]+=2*np.pi\n",
    "\n",
    "    ofname = folder+\"/Bead\"+str(BeadNumber)+\"/TransFunc\"+\"/Repeat_TransFunc_20200104/TransFuncZ_m%d00k_50s_7Hz_Full.txt\" %(Ndata)\n",
    "    f1 = open(ofname,\"a\")\n",
    "    for k in range(0,100):\n",
    "        f1.write('%d %f %f\\n' % ((k+1)*7, zAmp[k],zPha[k]))\n",
    "    f1.close()\n"
   ]
  },
  {
   "cell_type": "code",
   "execution_count": 19,
   "metadata": {},
   "outputs": [],
   "source": [
    "#25s subsets, part1"
   ]
  },
  {
   "cell_type": "code",
   "execution_count": 55,
   "metadata": {},
   "outputs": [
    {
     "name": "stdout",
     "output_type": "stream",
     "text": [
      "/data/new_trap/20200320/Bead1/TransFunc/Repeat_TransFunc_20200104/TransFunc_Z_m100k_50s_7hz.h5\n",
      "No seismometer data\n",
      "No z_set data\n",
      "No height data\n",
      "No cantilever data\n",
      "Error loading spinning data\n",
      "No laser power data\n",
      "/data/new_trap/20200320/Bead1/TransFunc/Repeat_TransFunc_20200104/TransFunc_Z_m200k_50s_7hz.h5\n",
      "No seismometer data\n",
      "No z_set data\n",
      "No height data\n",
      "No cantilever data\n",
      "Error loading spinning data\n",
      "No laser power data\n",
      "/data/new_trap/20200320/Bead1/TransFunc/Repeat_TransFunc_20200104/TransFunc_Z_m300k_50s_7hz.h5\n",
      "No seismometer data\n",
      "No z_set data\n",
      "No height data\n",
      "No cantilever data\n",
      "Error loading spinning data\n",
      "No laser power data\n",
      "/data/new_trap/20200320/Bead1/TransFunc/Repeat_TransFunc_20200104/TransFunc_Z_m400k_50s_7hz.h5\n",
      "No seismometer data\n",
      "No z_set data\n",
      "No height data\n",
      "No cantilever data\n",
      "Error loading spinning data\n",
      "No laser power data\n",
      "/data/new_trap/20200320/Bead1/TransFunc/Repeat_TransFunc_20200104/TransFunc_Z_m500k_50s_7hz.h5\n",
      "No seismometer data\n",
      "No z_set data\n",
      "No height data\n",
      "No cantilever data\n",
      "Error loading spinning data\n",
      "No laser power data\n",
      "/data/new_trap/20200320/Bead1/TransFunc/Repeat_TransFunc_20200104/TransFunc_Z_m600k_50s_7hz.h5\n",
      "No seismometer data\n",
      "No z_set data\n",
      "No height data\n",
      "No cantilever data\n",
      "Error loading spinning data\n",
      "No laser power data\n",
      "/data/new_trap/20200320/Bead1/TransFunc/Repeat_TransFunc_20200104/TransFunc_Z_m700k_50s_7hz.h5\n",
      "No seismometer data\n",
      "No z_set data\n",
      "No height data\n",
      "No cantilever data\n",
      "Error loading spinning data\n",
      "No laser power data\n",
      "/data/new_trap/20200320/Bead1/TransFunc/Repeat_TransFunc_20200104/TransFunc_Z_m800k_50s_7hz.h5\n",
      "No seismometer data\n",
      "No z_set data\n",
      "No height data\n",
      "No cantilever data\n",
      "Error loading spinning data\n",
      "No laser power data\n",
      "/data/new_trap/20200320/Bead1/TransFunc/Repeat_TransFunc_20200104/TransFunc_Z_m900k_50s_7hz.h5\n",
      "No seismometer data\n",
      "No z_set data\n",
      "No height data\n",
      "No cantilever data\n",
      "Error loading spinning data\n",
      "No laser power data\n"
     ]
    }
   ],
   "source": [
    "##X preparation\n",
    "Ndata=6\n",
    "tInt=25\n",
    "fsamp=5000\n",
    "res=tInt*fsamp\n",
    "fBase=7\n",
    "Zset=1\n",
    "zPha=np.zeros(100)\n",
    "zAmp=np.zeros(100)\n",
    "\n",
    "##Z preparataion\n",
    "for Ndata in range(1,10):\n",
    "    fname = folder+\"/Bead\"+str(BeadNumber)+\"/TransFunc\"+\"/Repeat_TransFunc_20200104/TransFunc_Z_m%d00k_50s_7hz.h5\" %(Ndata)\n",
    "    print(fname)\n",
    "    BDF = BeadDataFile.BeadDataFile(fname)\n",
    "    data = BDF.xyz2 \n",
    "    data_det=signal.detrend(data)\n",
    "    z_1000=data_det[2][0:125000]\n",
    "\n",
    "    zFFT=np.fft.rfft(z_1000)\n",
    "    norm = np.sqrt(2 / (res* fsamp))\n",
    "    zpsd = norm**2 * (zFFT * zFFT.conj()).real\n",
    "    ZphaseZ=np.angle(zFFT)\n",
    "    ZnoiseZ=np.sqrt(zpsd)\n",
    "\n",
    "    for i in range(0,100):\n",
    "        zPha[i]=ZphaseZ[(i+1)*tInt*fBase]-(i*i/100-round(i*i/100))*2*3.14159265-np.pi*0.5\n",
    "        zAmp[i]=ZnoiseZ[(i+1)*tInt*fBase]  \n",
    "\n",
    "    for i in range(0,99):  \n",
    "        if((zPha[i+1]-zPha[i])>4):\n",
    "            zPha[i+1]-=2*np.pi\n",
    "        elif((zPha[i+1]-zPha[i])<-4):\n",
    "            zPha[i+1]+=2*np.pi\n",
    "    for i in range(0,99):  \n",
    "        if((zPha[i+1]-zPha[i])>4):\n",
    "            zPha[i+1]-=2*np.pi\n",
    "        elif((zPha[i+1]-zPha[i])<-4):\n",
    "            zPha[i+1]+=2*np.pi\n",
    "\n",
    "    ofname = folder+\"/Bead\"+str(BeadNumber)+\"/TransFunc\"+\"/Repeat_TransFunc_20200104/TransFuncZ_m%d00k_50s_7Hz_sub1.txt\" %(Ndata)\n",
    "    f1 = open(ofname,\"a\")\n",
    "    for k in range(0,100):\n",
    "        f1.write('%d %f %f\\n' % ((k+1)*7, zAmp[k],zPha[k]))\n",
    "    f1.close()\n",
    "\n"
   ]
  },
  {
   "cell_type": "code",
   "execution_count": null,
   "metadata": {},
   "outputs": [],
   "source": [
    "#25s subset part2"
   ]
  },
  {
   "cell_type": "code",
   "execution_count": 56,
   "metadata": {},
   "outputs": [
    {
     "name": "stdout",
     "output_type": "stream",
     "text": [
      "/data/new_trap/20200320/Bead1/TransFunc/Repeat_TransFunc_20200104/TransFunc_Z_m100k_50s_7hz.h5\n",
      "No seismometer data\n",
      "No z_set data\n",
      "No height data\n",
      "No cantilever data\n",
      "Error loading spinning data\n",
      "No laser power data\n",
      "/data/new_trap/20200320/Bead1/TransFunc/Repeat_TransFunc_20200104/TransFunc_Z_m200k_50s_7hz.h5\n",
      "No seismometer data\n",
      "No z_set data\n",
      "No height data\n",
      "No cantilever data\n",
      "Error loading spinning data\n",
      "No laser power data\n",
      "/data/new_trap/20200320/Bead1/TransFunc/Repeat_TransFunc_20200104/TransFunc_Z_m300k_50s_7hz.h5\n",
      "No seismometer data\n",
      "No z_set data\n",
      "No height data\n",
      "No cantilever data\n",
      "Error loading spinning data\n",
      "No laser power data\n",
      "/data/new_trap/20200320/Bead1/TransFunc/Repeat_TransFunc_20200104/TransFunc_Z_m400k_50s_7hz.h5\n",
      "No seismometer data\n",
      "No z_set data\n",
      "No height data\n",
      "No cantilever data\n",
      "Error loading spinning data\n",
      "No laser power data\n",
      "/data/new_trap/20200320/Bead1/TransFunc/Repeat_TransFunc_20200104/TransFunc_Z_m500k_50s_7hz.h5\n",
      "No seismometer data\n",
      "No z_set data\n",
      "No height data\n",
      "No cantilever data\n",
      "Error loading spinning data\n",
      "No laser power data\n",
      "/data/new_trap/20200320/Bead1/TransFunc/Repeat_TransFunc_20200104/TransFunc_Z_m600k_50s_7hz.h5\n",
      "No seismometer data\n",
      "No z_set data\n",
      "No height data\n",
      "No cantilever data\n",
      "Error loading spinning data\n",
      "No laser power data\n",
      "/data/new_trap/20200320/Bead1/TransFunc/Repeat_TransFunc_20200104/TransFunc_Z_m700k_50s_7hz.h5\n",
      "No seismometer data\n",
      "No z_set data\n",
      "No height data\n",
      "No cantilever data\n",
      "Error loading spinning data\n",
      "No laser power data\n",
      "/data/new_trap/20200320/Bead1/TransFunc/Repeat_TransFunc_20200104/TransFunc_Z_m800k_50s_7hz.h5\n",
      "No seismometer data\n",
      "No z_set data\n",
      "No height data\n",
      "No cantilever data\n",
      "Error loading spinning data\n",
      "No laser power data\n",
      "/data/new_trap/20200320/Bead1/TransFunc/Repeat_TransFunc_20200104/TransFunc_Z_m900k_50s_7hz.h5\n",
      "No seismometer data\n",
      "No z_set data\n",
      "No height data\n",
      "No cantilever data\n",
      "Error loading spinning data\n",
      "No laser power data\n"
     ]
    }
   ],
   "source": [
    "##Z preparataion\n",
    "for Ndata in range(1,10):\n",
    "    fname = folder+\"/Bead\"+str(BeadNumber)+\"/TransFunc\"+\"/Repeat_TransFunc_20200104/TransFunc_Z_m%d00k_50s_7hz.h5\" %(Ndata)\n",
    "    print(fname)\n",
    "    BDF = BeadDataFile.BeadDataFile(fname)\n",
    "    data = BDF.xyz2 \n",
    "    data_det=signal.detrend(data)\n",
    "    z_1000=data_det[2][125000:250000]\n",
    "\n",
    "    zFFT=np.fft.rfft(z_1000)\n",
    "    norm = np.sqrt(2 / (res* fsamp))\n",
    "    zpsd = norm**2 * (zFFT * zFFT.conj()).real\n",
    "    ZphaseZ=np.angle(zFFT)\n",
    "    ZnoiseZ=np.sqrt(zpsd)\n",
    "\n",
    "    for i in range(0,100):\n",
    "        zPha[i]=ZphaseZ[(i+1)*tInt*fBase]-(i*i/100-round(i*i/100))*2*3.14159265-np.pi*0.5\n",
    "        zAmp[i]=ZnoiseZ[(i+1)*tInt*fBase]  \n",
    "\n",
    "    for i in range(0,99):  \n",
    "        if((zPha[i+1]-zPha[i])>4):\n",
    "            zPha[i+1]-=2*np.pi\n",
    "        elif((zPha[i+1]-zPha[i])<-4):\n",
    "            zPha[i+1]+=2*np.pi\n",
    "    for i in range(0,99):  \n",
    "        if((zPha[i+1]-zPha[i])>4):\n",
    "            zPha[i+1]-=2*np.pi\n",
    "        elif((zPha[i+1]-zPha[i])<-4):\n",
    "            zPha[i+1]+=2*np.pi\n",
    "\n",
    "    ofname = folder+\"/Bead\"+str(BeadNumber)+\"/TransFunc\"+\"/Repeat_TransFunc_20200104/TransFuncZ_m%d00k_50s_7Hz_sub2.txt\" %(Ndata)\n",
    "    f1 = open(ofname,\"a\")\n",
    "    for k in range(0,100):\n",
    "        f1.write('%d %f %f\\n' % ((k+1)*7, zAmp[k],zPha[k]))\n",
    "    f1.close()\n",
    "\n"
   ]
  },
  {
   "cell_type": "code",
   "execution_count": 13,
   "metadata": {},
   "outputs": [],
   "source": [
    "for i in range(0,100):\n",
    "    zPha[i]=ZphaseZ[(i+1)*tInt*fBase]-(i*i/100-round(i*i/100))*2*3.14159265-np.pi*0.5\n",
    "    zAmp[i]=ZnoiseZ[(i+1)*tInt*fBase]\n",
    "\n",
    "    \n",
    "        \n",
    "for i in range(0,99):  \n",
    "    if((zPha[i+1]-zPha[i])>4):\n",
    "        zPha[i+1]-=2*np.pi\n",
    "    elif((zPha[i+1]-zPha[i])<-4):\n",
    "        zPha[i+1]+=2*np.pi\n",
    "for i in range(0,99):  \n",
    "    if((zPha[i+1]-zPha[i])>4):\n",
    "        zPha[i+1]-=2*np.pi\n",
    "    elif((zPha[i+1]-zPha[i])<-4):\n",
    "        zPha[i+1]+=2*np.pi"
   ]
  },
  {
   "cell_type": "code",
   "execution_count": 14,
   "metadata": {
    "scrolled": true
   },
   "outputs": [
    {
     "data": {
      "application/vnd.jupyter.widget-view+json": {
       "model_id": "f4b85e921ee049aca9f7d9d1e8c57d03",
       "version_major": 2,
       "version_minor": 0
      },
      "text/plain": [
       "Canvas(toolbar=Toolbar(toolitems=[('Home', 'Reset original view', 'home', 'home'), ('Back', 'Back to previous …"
      ]
     },
     "metadata": {},
     "output_type": "display_data"
    }
   ],
   "source": [
    "freqs=np.linspace(0,2500,(375000)+1)\n",
    "\n",
    "_,ax = plt.subplots()\n",
    "plt.subplots_adjust(left=0.18, right=0.96, top=0.96, bottom=0.14)\n",
    "ax.plot(np.linspace(1,100,100),zPha, '.-', label=\"z\",markersize=1,linewidth=1)\n",
    "ax.legend(fontsize=16)\n",
    "ax.set_xlabel('Frequency [Hz]', fontsize=18)\n",
    "ax.set_ylabel('Phase [rad]',fontsize=18)\n",
    "\n",
    "ax.tick_params(axis='x', labelsize=18)\n",
    "ax.tick_params(axis='y', labelsize=18)\n",
    "#plt.xlim(0.1,500)\n",
    "#plt.ylim(1e-7,1e-2)\n",
    "plt.grid(True)"
   ]
  },
  {
   "cell_type": "code",
   "execution_count": 24,
   "metadata": {},
   "outputs": [],
   "source": [
    "ofname = folder+\"/Bead\"+str(BeadNumber)+\"/TransFunc\"+\"/TransFuncDiag_%d_XYZ_z%de5_%ds_%dHz.h5\" %(Ndata,Zset,tInt,fBase)\n",
    "f1 = open(ofname,\"a\")\n",
    "for k in range(0,100):\n",
    "    f1.write('%d %f %f %f %f %f %f\\n' % (k+1, xAmp[k], yAmp[k], zAmp[k],xPha[k], yPha[k], zPha[k]))\n",
    "f1.close()"
   ]
  },
  {
   "cell_type": "code",
   "execution_count": 22,
   "metadata": {},
   "outputs": [],
   "source": [
    "## in the main folder"
   ]
  },
  {
   "cell_type": "code",
   "execution_count": 58,
   "metadata": {},
   "outputs": [],
   "source": [
    "##X preparation\n",
    "Ndata=6\n",
    "tInt=100\n",
    "fsamp=5000\n",
    "res=tInt*fsamp\n",
    "fBase=1\n",
    "Zset=1\n",
    "zPha=np.zeros(100)\n",
    "zAmp=np.zeros(100)"
   ]
  },
  {
   "cell_type": "code",
   "execution_count": 63,
   "metadata": {},
   "outputs": [
    {
     "name": "stdout",
     "output_type": "stream",
     "text": [
      "/data/new_trap/20200320/Bead1/TransFunc/TransFunc_Z_m800k_100s_1Hz_2.h5\n",
      "No seismometer data\n",
      "No z_set data\n",
      "No height data\n",
      "No cantilever data\n",
      "Error loading spinning data\n",
      "No laser power data\n"
     ]
    }
   ],
   "source": [
    "##Z preparataion\n",
    "fname = folder+\"/Bead\"+str(BeadNumber)+\"/TransFunc\"+\"/TransFunc_Z_m800k_100s_1Hz_2.h5\" \n",
    "print(fname)\n",
    "BDF = BeadDataFile.BeadDataFile(fname)\n",
    "data = BDF.xyz2 \n",
    "data_det=signal.detrend(data)\n",
    "z_1000=data_det[2]\n",
    "freqs=np.linspace(0,2500,(25000)+1)\n",
    "\n",
    "zFFT=np.fft.rfft(z_1000)\n",
    "norm = np.sqrt(2 / (res* fsamp))\n",
    "zpsd = norm**2 * (zFFT * zFFT.conj()).real\n",
    "ZphaseZ=np.angle(zFFT)\n",
    "ZnoiseZ=np.sqrt(zpsd)\n",
    "\n",
    "for i in range(0,100):\n",
    "    zPha[i]=ZphaseZ[(i+1)*tInt*fBase]-(i*i/100-round(i*i/100))*2*3.14159265+np.pi*0.5\n",
    "    zAmp[i]=ZnoiseZ[(i+1)*tInt*fBase]  \n",
    "\n",
    "for i in range(0,99):  \n",
    "    if((zPha[i+1]-zPha[i])>4):\n",
    "        zPha[i+1]-=2*np.pi\n",
    "    elif((zPha[i+1]-zPha[i])<-4):\n",
    "        zPha[i+1]+=2*np.pi\n",
    "for i in range(0,99):  \n",
    "    if((zPha[i+1]-zPha[i])>4):\n",
    "        zPha[i+1]-=2*np.pi\n",
    "    elif((zPha[i+1]-zPha[i])<-4):\n",
    "        zPha[i+1]+=2*np.pi\n",
    "\n",
    "ofname = folder+\"/Bead\"+str(BeadNumber)+\"/TransFunc\"+\"/TransFunc_Z_m800k_100s_1Hz_2_Full.txt\" \n",
    "f1 = open(ofname,\"a\")\n",
    "for k in range(0,100):\n",
    "    f1.write('%d %f %f\\n' % ((k+1)*7, zAmp[k],zPha[k]))\n",
    "f1.close()\n",
    "\n"
   ]
  },
  {
   "cell_type": "code",
   "execution_count": 64,
   "metadata": {},
   "outputs": [
    {
     "data": {
      "application/vnd.jupyter.widget-view+json": {
       "model_id": "50faf538cdb3475d9ee32253b6f4190a",
       "version_major": 2,
       "version_minor": 0
      },
      "text/plain": [
       "Canvas(toolbar=Toolbar(toolitems=[('Home', 'Reset original view', 'home', 'home'), ('Back', 'Back to previous …"
      ]
     },
     "metadata": {},
     "output_type": "display_data"
    }
   ],
   "source": [
    "freqs=np.linspace(0,2500,(375000)+1)\n",
    "\n",
    "_,ax = plt.subplots()\n",
    "plt.subplots_adjust(left=0.18, right=0.96, top=0.96, bottom=0.14)\n",
    "\n",
    "ax.plot(np.linspace(1,100,100),zPha, '.-', label=\"z\",markersize=1,linewidth=1)\n",
    "ax.legend(fontsize=16)\n",
    "ax.set_xlabel('Frequency [Hz]', fontsize=18)\n",
    "ax.set_ylabel('Force NSD [N/√Hz]',fontsize=18)\n",
    "\n",
    "ax.tick_params(axis='x', labelsize=18)\n",
    "ax.tick_params(axis='y', labelsize=18)\n",
    "#plt.xlim(0.1,500)\n",
    "#plt.ylim(1e-7,1e-2)\n",
    "plt.grid(True)"
   ]
  },
  {
   "cell_type": "code",
   "execution_count": 81,
   "metadata": {
    "scrolled": true
   },
   "outputs": [
    {
     "name": "stdout",
     "output_type": "stream",
     "text": [
      "/data/new_trap/20200320/Bead1/TransFunc/TransFunc_Z_m800k_100s_1Hz_2.h5\n",
      "No seismometer data\n",
      "No z_set data\n",
      "No height data\n",
      "No cantilever data\n",
      "Error loading spinning data\n",
      "No laser power data\n",
      "/data/new_trap/20200320/Bead1/TransFunc/TransFunc_Z_m800k_100s_1Hz_2.h5\n",
      "No seismometer data\n",
      "No z_set data\n",
      "No height data\n",
      "No cantilever data\n",
      "Error loading spinning data\n",
      "No laser power data\n",
      "/data/new_trap/20200320/Bead1/TransFunc/TransFunc_Z_m800k_100s_1Hz_2.h5\n",
      "No seismometer data\n",
      "No z_set data\n",
      "No height data\n",
      "No cantilever data\n",
      "Error loading spinning data\n",
      "No laser power data\n",
      "/data/new_trap/20200320/Bead1/TransFunc/TransFunc_Z_m800k_100s_1Hz_2.h5\n",
      "No seismometer data\n",
      "No z_set data\n",
      "No height data\n",
      "No cantilever data\n",
      "Error loading spinning data\n",
      "No laser power data\n"
     ]
    }
   ],
   "source": [
    "tInt=25\n",
    "fBase=1\n",
    "\n",
    "for Ndata in range(0,4):\n",
    "    ##Z preparataion\n",
    "    fname = folder+\"/Bead\"+str(BeadNumber)+\"/TransFunc\"+\"/TransFunc_Z_m800k_100s_1Hz_2.h5\" \n",
    "    print(fname)\n",
    "    BDF = BeadDataFile.BeadDataFile(fname)\n",
    "    data = BDF.xyz2 \n",
    "    data_det=signal.detrend(data)\n",
    "    z_1000=data_det[2][Ndata*125000:(Ndata+1)*125000]\n",
    "    freqs=np.linspace(0,2500,(25000)+1)\n",
    "\n",
    "    zFFT=np.fft.rfft(z_1000)\n",
    "    norm = np.sqrt(2 / (res* fsamp))\n",
    "    zpsd = norm**2 * (zFFT * zFFT.conj()).real\n",
    "    ZphaseZ=np.angle(zFFT)\n",
    "    ZnoiseZ=np.sqrt(zpsd)\n",
    "\n",
    "    for i in range(0,100):\n",
    "        zPha[i]=ZphaseZ[(i+1)*tInt*fBase]-(i*i/100-round(i*i/100))*2*3.14159265+np.pi*0.5\n",
    "        zAmp[i]=ZnoiseZ[(i+1)*tInt*fBase]  \n",
    "\n",
    "    for i in range(0,99):  \n",
    "        if((zPha[i+1]-zPha[i])>4):\n",
    "            zPha[i+1]-=2*np.pi\n",
    "        elif((zPha[i+1]-zPha[i])<-4):\n",
    "            zPha[i+1]+=2*np.pi\n",
    "    for i in range(0,99):  \n",
    "        if((zPha[i+1]-zPha[i])>4):\n",
    "            zPha[i+1]-=2*np.pi\n",
    "        elif((zPha[i+1]-zPha[i])<-4):\n",
    "            zPha[i+1]+=2*np.pi\n",
    "\n",
    "    ofname = folder+\"/Bead\"+str(BeadNumber)+\"/TransFunc\"+\"/TransFunc_Z_m800k_100s_1Hz_2_sub%dCorrect.txt\" %(Ndata)\n",
    "    f1 = open(ofname,\"a\")\n",
    "    for k in range(0,100):\n",
    "        f1.write('%d %f %f\\n' % ((k+1)*7, zAmp[k],zPha[k]))\n",
    "    f1.close()"
   ]
  },
  {
   "cell_type": "code",
   "execution_count": 80,
   "metadata": {},
   "outputs": [
    {
     "data": {
      "application/vnd.jupyter.widget-view+json": {
       "model_id": "85b6af19b9134a45a897dc17baa26d34",
       "version_major": 2,
       "version_minor": 0
      },
      "text/plain": [
       "Canvas(toolbar=Toolbar(toolitems=[('Home', 'Reset original view', 'home', 'home'), ('Back', 'Back to previous …"
      ]
     },
     "metadata": {},
     "output_type": "display_data"
    }
   ],
   "source": [
    "freqs=np.linspace(0,2500,(375000)+1)\n",
    "\n",
    "_,ax = plt.subplots()\n",
    "plt.subplots_adjust(left=0.18, right=0.96, top=0.96, bottom=0.14)\n",
    "\n",
    "ax.plot(zPha, '.-', label=\"z\",markersize=1,linewidth=1)\n",
    "ax.legend(fontsize=16)\n",
    "ax.set_xlabel('Frequency [Hz]', fontsize=18)\n",
    "ax.set_ylabel('Force NSD [N/√Hz]',fontsize=18)\n",
    "\n",
    "ax.tick_params(axis='x', labelsize=18)\n",
    "ax.tick_params(axis='y', labelsize=18)\n",
    "#plt.xlim(0.1,500)\n",
    "#plt.ylim(1e-7,1e-2)\n",
    "plt.grid(True)"
   ]
  },
  {
   "cell_type": "code",
   "execution_count": null,
   "metadata": {},
   "outputs": [],
   "source": [
    "#TransFunc_Z_m800k_30s.h5"
   ]
  },
  {
   "cell_type": "code",
   "execution_count": 66,
   "metadata": {},
   "outputs": [
    {
     "name": "stdout",
     "output_type": "stream",
     "text": [
      "/data/new_trap/20200320/Bead1/TransFunc/TransFunc_Z_m800k_30s.h5\n",
      "No seismometer data\n",
      "No z_set data\n",
      "No height data\n",
      "No cantilever data\n",
      "Error loading spinning data\n",
      "No laser power data\n"
     ]
    }
   ],
   "source": [
    "for Ndata in range(0,1):\n",
    "    ##Z preparataion\n",
    "    fname = folder+\"/Bead\"+str(BeadNumber)+\"/TransFunc\"+\"/TransFunc_Z_m800k_30s.h5\" \n",
    "    print(fname)\n",
    "    BDF = BeadDataFile.BeadDataFile(fname)\n",
    "    data = BDF.xyz2 \n",
    "    data_det=signal.detrend(data)\n",
    "    z_1000=data_det[2][0*Ndata:(Ndata+1)*125000]\n",
    "    freqs=np.linspace(0,2500,(25000)+1)\n",
    "\n",
    "    zFFT=np.fft.rfft(z_1000)\n",
    "    norm = np.sqrt(2 / (res* fsamp))\n",
    "    zpsd = norm**2 * (zFFT * zFFT.conj()).real\n",
    "    ZphaseZ=np.angle(zFFT)\n",
    "    ZnoiseZ=np.sqrt(zpsd)\n",
    "\n",
    "    for i in range(0,100):\n",
    "        zPha[i]=ZphaseZ[(i+1)*tInt*fBase]-(i*i/100-round(i*i/100))*2*3.14159265+np.pi*0.5\n",
    "        zAmp[i]=ZnoiseZ[(i+1)*tInt*fBase]  \n",
    "\n",
    "    for i in range(0,99):  \n",
    "        if((zPha[i+1]-zPha[i])>4):\n",
    "            zPha[i+1]-=2*np.pi\n",
    "        elif((zPha[i+1]-zPha[i])<-4):\n",
    "            zPha[i+1]+=2*np.pi\n",
    "    for i in range(0,99):  \n",
    "        if((zPha[i+1]-zPha[i])>4):\n",
    "            zPha[i+1]-=2*np.pi\n",
    "        elif((zPha[i+1]-zPha[i])<-4):\n",
    "            zPha[i+1]+=2*np.pi\n",
    "\n",
    "    ofname = folder+\"/Bead\"+str(BeadNumber)+\"/TransFunc\"+\"/TransFunc_Z_m800k_30s_sub1.txt\" \n",
    "    f1 = open(ofname,\"a\")\n",
    "    for k in range(0,100):\n",
    "        f1.write('%d %f %f\\n' % ((k+1)*7, zAmp[k],zPha[k]))\n",
    "    f1.close()"
   ]
  },
  {
   "cell_type": "code",
   "execution_count": 33,
   "metadata": {},
   "outputs": [],
   "source": [
    "##more careful analysis"
   ]
  },
  {
   "cell_type": "code",
   "execution_count": 53,
   "metadata": {},
   "outputs": [
    {
     "name": "stdout",
     "output_type": "stream",
     "text": [
      "/data/new_trap/20200320/Bead1/TransFunc/Repeat_TransFunc_20200104/TransFunc_Z_m100k_50s_7hz.h5\n",
      "No seismometer data\n",
      "No z_set data\n",
      "No height data\n",
      "No cantilever data\n",
      "Error loading spinning data\n",
      "No laser power data\n"
     ]
    }
   ],
   "source": [
    "##Z preparataion\n",
    "#for Ndata in range(1,10):\n",
    "tInt=50\n",
    "fBase=7\n",
    "Ndata=1\n",
    "fname = folder+\"/Bead\"+str(BeadNumber)+\"/TransFunc\"+\"/Repeat_TransFunc_20200104/TransFunc_Z_m%d00k_50s_7hz.h5\" %(Ndata)\n",
    "print(fname)\n",
    "BDF = BeadDataFile.BeadDataFile(fname)\n",
    "data = BDF.xyz2 \n",
    "data_det=signal.detrend(data)\n",
    "z_1000=data_det[2]\n",
    "\n",
    "zFFT=np.fft.rfft(z_1000)\n",
    "norm = np.sqrt(2 / (res* fsamp))\n",
    "zpsd = norm**2 * (zFFT * zFFT.conj()).real\n",
    "ZphaseZ=np.angle(zFFT)\n",
    "ZnoiseZ=np.sqrt(zpsd)\n",
    "\n",
    "for i in range(0,100):\n",
    "    zPha[i]=ZphaseZ[(i+1)*tInt*fBase]-(i*i/100-round(i*i/100))*2*3.14159265+np.pi*0.5\n",
    "    zAmp[i]=ZnoiseZ[(i+1)*tInt*fBase]  \n",
    "\n",
    "for i in range(0,99):  \n",
    "    if((zPha[i+1]-zPha[i])>4):\n",
    "        zPha[i+1]-=2*np.pi\n",
    "    elif((zPha[i+1]-zPha[i])<-4):\n",
    "        zPha[i+1]+=2*np.pi\n",
    "for i in range(0,99):  \n",
    "    if((zPha[i+1]-zPha[i])>4):\n",
    "        zPha[i+1]-=2*np.pi\n",
    "    elif((zPha[i+1]-zPha[i])<-4):\n",
    "        zPha[i+1]+=2*np.pi\n",
    "\n",
    "ofname = folder+\"/Bead\"+str(BeadNumber)+\"/TransFunc\"+\"/Repeat_TransFunc_20200104/TransFuncZ_m%d00k_50s_7Hz_sub1.txt\" %(Ndata)\n",
    "f1 = open(ofname,\"a\")\n",
    "#for k in range(0,100):\n",
    "#    f1.write('%d %f %f\\n' % ((k+1)*7, zAmp[k],zPha[k]))\n",
    "#f1.close()\n",
    "\n"
   ]
  },
  {
   "cell_type": "code",
   "execution_count": 54,
   "metadata": {},
   "outputs": [
    {
     "data": {
      "application/vnd.jupyter.widget-view+json": {
       "model_id": "d1dd262bc6254c808f6d64c3fdd3286a",
       "version_major": 2,
       "version_minor": 0
      },
      "text/plain": [
       "Canvas(toolbar=Toolbar(toolitems=[('Home', 'Reset original view', 'home', 'home'), ('Back', 'Back to previous …"
      ]
     },
     "metadata": {},
     "output_type": "display_data"
    }
   ],
   "source": [
    "#freqs=np.linspace(0,2500,(125000)+1)\n",
    "freqs=np.linspace(7,700,100)\n",
    "\n",
    "_,ax = plt.subplots()\n",
    "plt.subplots_adjust(left=0.18, right=0.96, top=0.96, bottom=0.14)\n",
    "ax.plot(freqs,zPha, '.-', label=\"z\",markersize=1,linewidth=1)\n",
    "#ax.semilogy(freqs,zPha, '.-', label=\"z\",markersize=1,linewidth=1)\n",
    "ax.legend(fontsize=16)\n",
    "ax.set_xlabel('Frequency [Hz]', fontsize=18)\n",
    "ax.set_ylabel('Phase [rad]',fontsize=18)\n",
    "\n",
    "ax.tick_params(axis='x', labelsize=18)\n",
    "ax.tick_params(axis='y', labelsize=18)\n",
    "#plt.xlim(0.1,500)\n",
    "#plt.ylim(1e-7,1e-2)\n",
    "plt.grid(True)"
   ]
  },
  {
   "cell_type": "code",
   "execution_count": null,
   "metadata": {},
   "outputs": [],
   "source": []
  }
 ],
 "metadata": {
  "kernelspec": {
   "display_name": "Python 3",
   "language": "python",
   "name": "python3"
  },
  "language_info": {
   "codemirror_mode": {
    "name": "ipython",
    "version": 3
   },
   "file_extension": ".py",
   "mimetype": "text/x-python",
   "name": "python",
   "nbconvert_exporter": "python",
   "pygments_lexer": "ipython3",
   "version": "3.6.9"
  }
 },
 "nbformat": 4,
 "nbformat_minor": 2
}
