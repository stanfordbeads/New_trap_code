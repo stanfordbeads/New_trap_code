{
 "cells": [
  {
   "cell_type": "code",
   "execution_count": 1,
   "metadata": {},
   "outputs": [],
   "source": [
    "import numpy as np\n",
    "import matplotlib.pyplot as plt\n",
    "import matplotlib\n",
    "from matplotlib import mlab\n",
    "\n",
    "from scipy import signal\n",
    "import h5py, time"
   ]
  },
  {
   "cell_type": "code",
   "execution_count": 2,
   "metadata": {},
   "outputs": [],
   "source": [
    "%matplotlib widget"
   ]
  },
  {
   "cell_type": "code",
   "execution_count": 3,
   "metadata": {},
   "outputs": [],
   "source": [
    "import sys\n",
    "sys.path.append('/home/analysis_user/New_trap_code/Tools/')\n",
    "import BeadDataFile"
   ]
  },
  {
   "cell_type": "code",
   "execution_count": 4,
   "metadata": {},
   "outputs": [],
   "source": [
    "##Force Calibration with single freq, with xyz2"
   ]
  },
  {
   "cell_type": "code",
   "execution_count": 95,
   "metadata": {},
   "outputs": [],
   "source": [
    "Year = \"2021\"\n",
    "Month = \"01\"\n",
    "Day = \"25\"\n",
    "BeadNumber =1\n",
    "#folder = r\"/data/new_trap/\"+ Year + Month + Day\n",
    "folder = r\"/home/analysis_user/data_from_windows/\"+ Year + Month + Day"
   ]
  },
  {
   "cell_type": "code",
   "execution_count": 11,
   "metadata": {},
   "outputs": [],
   "source": [
    "##code for Transfer Function- 7Hz\n",
    "#following is the code to generate transfer function with FFT"
   ]
  },
  {
   "cell_type": "code",
   "execution_count": 124,
   "metadata": {},
   "outputs": [
    {
     "name": "stdout",
     "output_type": "stream",
     "text": [
      "No seismometer data\n",
      "No z_set data\n",
      "No height data\n",
      "No cantilever data\n",
      "Error loading spinning data\n",
      "No laser power data\n"
     ]
    }
   ],
   "source": [
    "Ndata=1\n",
    "##Z preparataion\n",
    "#fname = folder+\"/Bead\"+str(BeadNumber)+\"/TransFunc\"+\"/TransFunc_%d_Z_z%de5_%ds_%dHz.h5\" %(Ndata,Zset,tInt,fBase)\n",
    "fname = folder+\"/NoBead\"+\"/TransFunc\"+\"/Test%d.h5\" %(Ndata)\n",
    "BDF = BeadDataFile.BeadDataFile(fname)\n",
    "data = BDF.xyz2 "
   ]
  },
  {
   "cell_type": "code",
   "execution_count": 125,
   "metadata": {},
   "outputs": [],
   "source": [
    "Velp=BDF.electrode_data[0]\n",
    "Veln=BDF.electrode_data[1]"
   ]
  },
  {
   "cell_type": "code",
   "execution_count": 17,
   "metadata": {},
   "outputs": [
    {
     "data": {
      "application/vnd.jupyter.widget-view+json": {
       "model_id": "4bd7ab70e2e6493089f1d4bb9f0ac22a",
       "version_major": 2,
       "version_minor": 0
      },
      "text/plain": [
       "Canvas(toolbar=Toolbar(toolitems=[('Home', 'Reset original view', 'home', 'home'), ('Back', 'Back to previous …"
      ]
     },
     "metadata": {},
     "output_type": "display_data"
    }
   ],
   "source": [
    "_,ax = plt.subplots()\n",
    "plt.subplots_adjust(left=0.18, right=0.99, top=0.96, bottom=0.14)\n",
    "ax.plot(Velp, '.-', label=\"x\",markersize=1,linewidth=1)\n",
    "ax.legend(fontsize=16)\n",
    "ax.set_xlabel('Time', fontsize=18)\n",
    "ax.set_ylabel('Vlotage',fontsize=18)\n",
    "ax.tick_params(axis='x', labelsize=18)\n",
    "ax.tick_params(axis='y', labelsize=18)\n",
    "#plt.xlim(1,2500)\n",
    "#plt.ylim(1e-18,1e-15)\n",
    "plt.grid(True)"
   ]
  },
  {
   "cell_type": "code",
   "execution_count": 19,
   "metadata": {},
   "outputs": [
    {
     "data": {
      "text/plain": [
       "6.492477719822236"
      ]
     },
     "execution_count": 19,
     "metadata": {},
     "output_type": "execute_result"
    }
   ],
   "source": [
    "Velp[249999]"
   ]
  },
  {
   "cell_type": "code",
   "execution_count": 20,
   "metadata": {},
   "outputs": [],
   "source": [
    "tInt=1\n",
    "fsamp=250000\n",
    "res=tInt*fsamp\n",
    "fBase=1\n",
    "Nharm=100"
   ]
  },
  {
   "cell_type": "code",
   "execution_count": 50,
   "metadata": {},
   "outputs": [],
   "source": [
    "z_1000=Velp\n",
    "freqs=np.linspace(0,125000,(125000)+1)\n",
    "    \n",
    "zFFT=np.fft.rfft(z_1000)\n",
    "norm = np.sqrt(2 / (res* fsamp))\n",
    "zpsd = norm**2 * (zFFT * zFFT.conj()).real\n",
    "ZphaseZ=np.angle(zFFT)"
   ]
  },
  {
   "cell_type": "code",
   "execution_count": 51,
   "metadata": {},
   "outputs": [
    {
     "data": {
      "application/vnd.jupyter.widget-view+json": {
       "model_id": "ec3269ae48d24c6c91f70f63ddc7f6e8",
       "version_major": 2,
       "version_minor": 0
      },
      "text/plain": [
       "Canvas(toolbar=Toolbar(toolitems=[('Home', 'Reset original view', 'home', 'home'), ('Back', 'Back to previous …"
      ]
     },
     "metadata": {},
     "output_type": "display_data"
    }
   ],
   "source": [
    "_,ax = plt.subplots()\n",
    "plt.subplots_adjust(left=0.18, right=0.99, top=0.96, bottom=0.14)\n",
    "ax.semilogy(freqs,zpsd, '.-', label=\"+\",markersize=1,linewidth=1)\n",
    "ax.semilogy(freqs,zpsd2, '.-', label=\"-\",markersize=1,linewidth=1)\n",
    "ax.legend(fontsize=16)\n",
    "ax.set_xlabel('frequency [Hz]', fontsize=18)\n",
    "ax.set_ylabel('PSD [a.u.]',fontsize=18)\n",
    "ax.tick_params(axis='x', labelsize=18)\n",
    "ax.tick_params(axis='y', labelsize=18)\n",
    "#plt.xlim(1,2500)\n",
    "#plt.ylim(1e-18,1e-15)\n",
    "plt.grid(True)"
   ]
  },
  {
   "cell_type": "code",
   "execution_count": 53,
   "metadata": {},
   "outputs": [
    {
     "data": {
      "application/vnd.jupyter.widget-view+json": {
       "model_id": "5794369c85f040bcb3385064c885ca86",
       "version_major": 2,
       "version_minor": 0
      },
      "text/plain": [
       "Canvas(toolbar=Toolbar(toolitems=[('Home', 'Reset original view', 'home', 'home'), ('Back', 'Back to previous …"
      ]
     },
     "metadata": {},
     "output_type": "display_data"
    }
   ],
   "source": [
    "_,ax = plt.subplots()\n",
    "plt.subplots_adjust(left=0.18, right=0.99, top=0.96, bottom=0.14)\n",
    "ax.plot(freqs,ZphaseZ, '.-', label=\"+\",markersize=1,linewidth=1)\n",
    "ax.plot(freqs,ZphaseZ2, '.-', label=\"-\",markersize=1,linewidth=1)\n",
    "ax.legend(fontsize=16)\n",
    "ax.set_xlabel('frequency [Hz]', fontsize=18)\n",
    "ax.set_ylabel('PSD [a.u.]',fontsize=18)\n",
    "ax.tick_params(axis='x', labelsize=18)\n",
    "ax.tick_params(axis='y', labelsize=18)\n",
    "plt.xlim(0,120)\n",
    "#plt.ylim(1e-18,1e-15)\n",
    "plt.grid(True)"
   ]
  },
  {
   "cell_type": "code",
   "execution_count": 85,
   "metadata": {},
   "outputs": [],
   "source": [
    "time=np.linspace(0,1,250000, endpoint = False)"
   ]
  },
  {
   "cell_type": "code",
   "execution_count": 79,
   "metadata": {},
   "outputs": [],
   "source": [
    "Vcomb=np.zeros(250000)\n",
    "for i in range (0,100):\n",
    "    sine=0.65*np.sin(2*np.pi*(i+1)*time+2*i*i/100*np.pi)\n",
    "    Vcomb+=sine"
   ]
  },
  {
   "cell_type": "code",
   "execution_count": 80,
   "metadata": {},
   "outputs": [
    {
     "data": {
      "application/vnd.jupyter.widget-view+json": {
       "model_id": "cc98337ab7b349fd84e56dee2525f546",
       "version_major": 2,
       "version_minor": 0
      },
      "text/plain": [
       "Canvas(toolbar=Toolbar(toolitems=[('Home', 'Reset original view', 'home', 'home'), ('Back', 'Back to previous …"
      ]
     },
     "metadata": {},
     "output_type": "display_data"
    }
   ],
   "source": [
    "_,ax = plt.subplots()\n",
    "plt.subplots_adjust(left=0.18, right=0.99, top=0.96, bottom=0.14)\n",
    "ax.plot(time,Vcomb, '.-', label=\"Python\",markersize=1,linewidth=1)\n",
    "ax.plot(time,Velp, '.-', label=\"LabVIEW\",markersize=1,linewidth=1)\n",
    "ax.legend(fontsize=16)\n",
    "ax.set_xlabel('Time', fontsize=18)\n",
    "ax.set_ylabel('Vlotage',fontsize=18)\n",
    "ax.tick_params(axis='x', labelsize=18)\n",
    "ax.tick_params(axis='y', labelsize=18)\n",
    "#plt.xlim(1,2500)\n",
    "#plt.ylim(1e-18,1e-15)\n",
    "plt.grid(True)"
   ]
  },
  {
   "cell_type": "code",
   "execution_count": 64,
   "metadata": {},
   "outputs": [
    {
     "name": "stdout",
     "output_type": "stream",
     "text": [
      "6.5000000000000675\n",
      "6.50000000000004\n",
      "6.507507089741102\n",
      "6.50750708974105\n",
      "6.514998961071501\n",
      "6.514998961071534\n",
      "6.522475586086242\n",
      "6.522475586086099\n",
      "6.529936936947913\n",
      "6.529936936947875\n",
      "6.537382985888565\n",
      "6.537382985888625\n",
      "6.544813705208964\n",
      "6.544813705208918\n",
      "6.55222906727829\n",
      "6.552229067278269\n",
      "6.55962904453528\n",
      "6.5596290445352645\n",
      "6.5670136094879314\n",
      "6.5670136094877325\n"
     ]
    }
   ],
   "source": [
    "for i in range (0,10):\n",
    "    print(Vcomb[i])\n",
    "\n",
    "    print(Velp[i])"
   ]
  },
  {
   "cell_type": "code",
   "execution_count": 75,
   "metadata": {},
   "outputs": [
    {
     "name": "stdout",
     "output_type": "stream",
     "text": [
      "0\n",
      "1\n",
      "3\n",
      "9\n",
      "290\n",
      "362\n",
      "414\n",
      "720\n",
      "755\n",
      "791\n",
      "1072\n",
      "16286\n",
      "21336\n",
      "23623\n",
      "23632\n",
      "26398\n",
      "26446\n",
      "34111\n",
      "34286\n",
      "37088\n",
      "44811\n",
      "44823\n",
      "61811\n",
      "97017\n",
      "97035\n",
      "99888\n",
      "112615\n",
      "189812\n",
      "190069\n",
      "190093\n",
      "227724\n",
      "237378\n",
      "237659\n"
     ]
    }
   ],
   "source": [
    "max=0\n",
    "for i in range (0,250000):\n",
    "    temp=(Vcomb[i]-Velp[i])\n",
    "    if(temp>max):\n",
    "        max=temp\n",
    "        print(i)"
   ]
  },
  {
   "cell_type": "code",
   "execution_count": 76,
   "metadata": {},
   "outputs": [
    {
     "name": "stdout",
     "output_type": "stream",
     "text": [
      "1.08124620368244e-12\n"
     ]
    }
   ],
   "source": [
    "print(max)"
   ]
  },
  {
   "cell_type": "code",
   "execution_count": 74,
   "metadata": {},
   "outputs": [
    {
     "name": "stdout",
     "output_type": "stream",
     "text": [
      "-1.0347208981944489e-13\n",
      "1.251776460264864e-14\n"
     ]
    }
   ],
   "source": [
    "print(Velp[112500])\n",
    "print(Vcomb[112500])"
   ]
  },
  {
   "cell_type": "code",
   "execution_count": 132,
   "metadata": {},
   "outputs": [],
   "source": [
    "Ndata=3\n",
    "##Z preparataion\n",
    "#fname = folder+\"/Bead\"+str(BeadNumber)+\"/TransFunc\"+\"/TransFunc_%d_Z_z%de5_%ds_%dHz.h5\" %(Ndata,Zset,tInt,fBase)\n",
    "fname = folder+\"/NoBead\"+\"/TransFunc\"+\"/Test%d.h5\" %(Ndata)\n",
    "BDF = BeadDataFile.BeadDataFile(fname)\n",
    "data = BDF.xyz2 "
   ]
  },
  {
   "cell_type": "code",
   "execution_count": 133,
   "metadata": {},
   "outputs": [],
   "source": [
    "Velp=BDF.electrode_data[0]\n",
    "Veln=BDF.electrode_data[1]"
   ]
  },
  {
   "cell_type": "code",
   "execution_count": 134,
   "metadata": {},
   "outputs": [
    {
     "data": {
      "application/vnd.jupyter.widget-view+json": {
       "model_id": "baea682548244d60bd2a98343e6db3b1",
       "version_major": 2,
       "version_minor": 0
      },
      "text/plain": [
       "Canvas(toolbar=Toolbar(toolitems=[('Home', 'Reset original view', 'home', 'home'), ('Back', 'Back to previous …"
      ]
     },
     "metadata": {},
     "output_type": "display_data"
    }
   ],
   "source": [
    "time2=np.linspace(0,1,5000, endpoint = False)\n",
    "_,ax = plt.subplots()\n",
    "plt.subplots_adjust(left=0.18, right=0.99, top=0.96, bottom=0.14)\n",
    "ax.plot(time,Vcomb, '.-', label=\"Python\",markersize=1,linewidth=1)\n",
    "ax.plot(time2,Velp, '.-', label=\"LabVIEW\",markersize=1,linewidth=1)\n",
    "ax.legend(fontsize=16)\n",
    "ax.set_xlabel('Time', fontsize=18)\n",
    "ax.set_ylabel('Vlotage',fontsize=18)\n",
    "ax.tick_params(axis='x', labelsize=18)\n",
    "ax.tick_params(axis='y', labelsize=18)\n",
    "#plt.xlim(1,2500)\n",
    "#plt.ylim(1e-18,1e-15)\n",
    "plt.grid(True)"
   ]
  },
  {
   "cell_type": "code",
   "execution_count": 135,
   "metadata": {},
   "outputs": [
    {
     "name": "stdout",
     "output_type": "stream",
     "text": [
      "6.236221939651201\n",
      "6.105878335825607\n"
     ]
    }
   ],
   "source": [
    "print(Velp[4999])\n",
    "print(Vcomb[4999*50])"
   ]
  },
  {
   "cell_type": "code",
   "execution_count": 136,
   "metadata": {},
   "outputs": [],
   "source": [
    "z_1000=Velp\n",
    "freqs=np.linspace(0,125000,(125000)+1)\n",
    "tInt=1\n",
    "fsamp=5000\n",
    "res=tInt*fsamp\n",
    "fBase=1\n",
    "Nharm=100\n",
    "    \n",
    "zFFT=np.fft.rfft(z_1000)\n",
    "norm = np.sqrt(2 / (res* fsamp))\n",
    "zpsd = norm**2 * (zFFT * zFFT.conj()).real\n",
    "ZphaseZ=np.angle(zFFT)"
   ]
  },
  {
   "cell_type": "code",
   "execution_count": 137,
   "metadata": {},
   "outputs": [],
   "source": [
    "z_1000=Vcomb\n",
    "freqs=np.linspace(0,125000,(125000)+1)\n",
    "tInt=1\n",
    "fsamp=250000\n",
    "res=tInt*fsamp\n",
    "fBase=1\n",
    "Nharm=100\n",
    "    \n",
    "zFFT=np.fft.rfft(z_1000)\n",
    "norm = np.sqrt(2 / (res* fsamp))\n",
    "zpsd = norm**2 * (zFFT * zFFT.conj()).real\n",
    "ZphaseZ2=np.angle(zFFT)"
   ]
  },
  {
   "cell_type": "code",
   "execution_count": 138,
   "metadata": {},
   "outputs": [],
   "source": [
    "PhaMeas=np.zeros(100)\n",
    "PhaCalc=np.zeros(100)\n",
    "\n",
    "for i in range(0,100):\n",
    "    PhaMeas[i]=ZphaseZ[i+1]-((i)*(i)/100-round((i)*(i)/100))*2*3.14159265+np.pi*.5\n",
    "    PhaCalc[i]=ZphaseZ2[i+1]-((i)*(i)/100-round((i)*(i)/100))*2*3.14159265+np.pi*.5\n",
    "    \n",
    "for i in range(0,100):\n",
    "    if(PhaMeas[i]>6):\n",
    "        PhaMeas[i]-=2*np.pi\n",
    "    if(PhaCalc[i]>6):\n",
    "        PhaCalc[i]-=2*np.pi"
   ]
  },
  {
   "cell_type": "code",
   "execution_count": 139,
   "metadata": {},
   "outputs": [
    {
     "data": {
      "application/vnd.jupyter.widget-view+json": {
       "model_id": "e2c0f72d18af43918f3f24ed07658ef8",
       "version_major": 2,
       "version_minor": 0
      },
      "text/plain": [
       "Canvas(toolbar=Toolbar(toolitems=[('Home', 'Reset original view', 'home', 'home'), ('Back', 'Back to previous …"
      ]
     },
     "metadata": {},
     "output_type": "display_data"
    }
   ],
   "source": [
    "freq=np.linspace(1,100,100)\n",
    "_,ax = plt.subplots()\n",
    "plt.subplots_adjust(left=0.18, right=0.99, top=0.96, bottom=0.14)\n",
    "ax.plot(freq,PhaMeas, '.-', label=\"LabVIEW\",markersize=1,linewidth=1)\n",
    "ax.plot(freq,PhaCalc, '.-', label=\"Python\",markersize=1,linewidth=1)\n",
    "ax.legend(fontsize=16)\n",
    "ax.set_xlabel('frequency [Hz]', fontsize=18)\n",
    "ax.set_ylabel('Phase [rad]',fontsize=18)\n",
    "ax.tick_params(axis='x', labelsize=18)\n",
    "ax.tick_params(axis='y', labelsize=18)\n",
    "plt.xlim(0,120)\n",
    "#plt.ylim(1e-18,1e-15)\n",
    "plt.grid(True)"
   ]
  },
  {
   "cell_type": "code",
   "execution_count": null,
   "metadata": {},
   "outputs": [],
   "source": [
    "#Test4"
   ]
  },
  {
   "cell_type": "code",
   "execution_count": 150,
   "metadata": {},
   "outputs": [],
   "source": [
    "Ndata=4\n",
    "##Z preparataion\n",
    "#fname = folder+\"/Bead\"+str(BeadNumber)+\"/TransFunc\"+\"/TransFunc_%d_Z_z%de5_%ds_%dHz.h5\" %(Ndata,Zset,tInt,fBase)\n",
    "fname = folder+\"/NoBead\"+\"/TransFunc\"+\"/Test%d.h5\" %(Ndata)\n",
    "BDF = BeadDataFile.BeadDataFile(fname)\n",
    "data = BDF.xyz2 "
   ]
  },
  {
   "cell_type": "code",
   "execution_count": 151,
   "metadata": {},
   "outputs": [],
   "source": [
    "Velp=BDF.electrode_data[0]\n",
    "Veln=BDF.electrode_data[1]"
   ]
  },
  {
   "cell_type": "code",
   "execution_count": 142,
   "metadata": {},
   "outputs": [
    {
     "data": {
      "application/vnd.jupyter.widget-view+json": {
       "model_id": "4d45b77e5d0547be8f32c9639125a29f",
       "version_major": 2,
       "version_minor": 0
      },
      "text/plain": [
       "Canvas(toolbar=Toolbar(toolitems=[('Home', 'Reset original view', 'home', 'home'), ('Back', 'Back to previous …"
      ]
     },
     "metadata": {},
     "output_type": "display_data"
    }
   ],
   "source": [
    "time2=np.linspace(0,1,5000, endpoint = False)\n",
    "_,ax = plt.subplots()\n",
    "plt.subplots_adjust(left=0.18, right=0.99, top=0.96, bottom=0.14)\n",
    "ax.plot(time,Vcomb, '.-', label=\"Python\",markersize=1,linewidth=1)\n",
    "ax.plot(time2,Velp, '.-', label=\"LabVIEW\",markersize=1,linewidth=1)\n",
    "ax.legend(fontsize=16)\n",
    "ax.set_xlabel('Time', fontsize=18)\n",
    "ax.set_ylabel('Vlotage',fontsize=18)\n",
    "ax.tick_params(axis='x', labelsize=18)\n",
    "ax.tick_params(axis='y', labelsize=18)\n",
    "#plt.xlim(1,2500)\n",
    "#plt.ylim(1e-18,1e-15)\n",
    "plt.grid(True)"
   ]
  },
  {
   "cell_type": "code",
   "execution_count": 143,
   "metadata": {},
   "outputs": [],
   "source": [
    "#test6"
   ]
  },
  {
   "cell_type": "code",
   "execution_count": 152,
   "metadata": {},
   "outputs": [],
   "source": [
    "Ndata=12\n",
    "##Z preparataion\n",
    "#fname = folder+\"/Bead\"+str(BeadNumber)+\"/TransFunc\"+\"/TransFunc_%d_Z_z%de5_%ds_%dHz.h5\" %(Ndata,Zset,tInt,fBase)\n",
    "fname = folder+\"/NoBead\"+\"/TransFunc\"+\"/Test%d.h5\" %(Ndata)\n",
    "BDF = BeadDataFile.BeadDataFile(fname)\n",
    "data = BDF.xyz2 \n",
    "Velp=BDF.electrode_data[0]\n",
    "Veln=BDF.electrode_data[1]"
   ]
  },
  {
   "cell_type": "code",
   "execution_count": 154,
   "metadata": {},
   "outputs": [
    {
     "data": {
      "application/vnd.jupyter.widget-view+json": {
       "model_id": "002d6ca52dc446bc94e112e84a2adc1e",
       "version_major": 2,
       "version_minor": 0
      },
      "text/plain": [
       "Canvas(toolbar=Toolbar(toolitems=[('Home', 'Reset original view', 'home', 'home'), ('Back', 'Back to previous …"
      ]
     },
     "metadata": {},
     "output_type": "display_data"
    }
   ],
   "source": [
    "time2=np.linspace(0,0.02,5000, endpoint = False)\n",
    "_,ax = plt.subplots()\n",
    "plt.subplots_adjust(left=0.18, right=0.99, top=0.96, bottom=0.14)\n",
    "ax.plot(time,Vcomb, '.-', label=\"Python\",markersize=1,linewidth=1)\n",
    "ax.plot(time2,Velp, '.-', label=\"LabVIEW\",markersize=1,linewidth=1)\n",
    "ax.legend(fontsize=16)\n",
    "ax.set_xlabel('Time', fontsize=18)\n",
    "ax.set_ylabel('Vlotage',fontsize=18)\n",
    "ax.tick_params(axis='x', labelsize=18)\n",
    "ax.tick_params(axis='y', labelsize=18)\n",
    "#plt.xlim(1,2500)\n",
    "#plt.ylim(1e-18,1e-15)\n",
    "plt.grid(True)"
   ]
  },
  {
   "cell_type": "code",
   "execution_count": 155,
   "metadata": {},
   "outputs": [],
   "source": [
    "#13"
   ]
  },
  {
   "cell_type": "code",
   "execution_count": 157,
   "metadata": {},
   "outputs": [],
   "source": [
    "Ndata=13\n",
    "##Z preparataion\n",
    "#fname = folder+\"/Bead\"+str(BeadNumber)+\"/TransFunc\"+\"/TransFunc_%d_Z_z%de5_%ds_%dHz.h5\" %(Ndata,Zset,tInt,fBase)\n",
    "fname = folder+\"/NoBead\"+\"/TransFunc\"+\"/Test%d.h5\" %(Ndata)\n",
    "BDF = BeadDataFile.BeadDataFile(fname)\n",
    "data = BDF.xyz2 \n",
    "Velp=BDF.electrode_data[0]\n",
    "Veln=BDF.electrode_data[1]"
   ]
  },
  {
   "cell_type": "code",
   "execution_count": 158,
   "metadata": {},
   "outputs": [
    {
     "data": {
      "application/vnd.jupyter.widget-view+json": {
       "model_id": "1e9619ab406c4b9f9d770227f7430365",
       "version_major": 2,
       "version_minor": 0
      },
      "text/plain": [
       "Canvas(toolbar=Toolbar(toolitems=[('Home', 'Reset original view', 'home', 'home'), ('Back', 'Back to previous …"
      ]
     },
     "metadata": {},
     "output_type": "display_data"
    }
   ],
   "source": [
    "time2=np.linspace(0,1,250000, endpoint = False)\n",
    "_,ax = plt.subplots()\n",
    "plt.subplots_adjust(left=0.18, right=0.99, top=0.96, bottom=0.14)\n",
    "ax.plot(time,Vcomb, '.-', label=\"Python\",markersize=1,linewidth=1)\n",
    "ax.plot(time2,Velp, '.-', label=\"LabVIEW\",markersize=1,linewidth=1)\n",
    "ax.legend(fontsize=16)\n",
    "ax.set_xlabel('Time', fontsize=18)\n",
    "ax.set_ylabel('Vlotage',fontsize=18)\n",
    "ax.tick_params(axis='x', labelsize=18)\n",
    "ax.tick_params(axis='y', labelsize=18)\n",
    "#plt.xlim(1,2500)\n",
    "#plt.ylim(1e-18,1e-15)\n",
    "plt.grid(True)"
   ]
  },
  {
   "cell_type": "code",
   "execution_count": 160,
   "metadata": {},
   "outputs": [],
   "source": [
    "z_1000=Velp\n",
    "freqs=np.linspace(0,125000,(125000)+1)\n",
    "tInt=1\n",
    "fsamp=250000\n",
    "res=tInt*fsamp\n",
    "fBase=1\n",
    "Nharm=100\n",
    "    \n",
    "zFFT=np.fft.rfft(z_1000)\n",
    "norm = np.sqrt(2 / (res* fsamp))\n",
    "zpsd = norm**2 * (zFFT * zFFT.conj()).real\n",
    "ZphaseZ=np.angle(zFFT)"
   ]
  },
  {
   "cell_type": "code",
   "execution_count": 161,
   "metadata": {},
   "outputs": [],
   "source": [
    "z_1000=Vcomb\n",
    "freqs=np.linspace(0,125000,(125000)+1)\n",
    "tInt=1\n",
    "fsamp=250000\n",
    "res=tInt*fsamp\n",
    "fBase=1\n",
    "Nharm=100\n",
    "    \n",
    "zFFT=np.fft.rfft(z_1000)\n",
    "norm = np.sqrt(2 / (res* fsamp))\n",
    "zpsd = norm**2 * (zFFT * zFFT.conj()).real\n",
    "ZphaseZ2=np.angle(zFFT)"
   ]
  },
  {
   "cell_type": "code",
   "execution_count": 163,
   "metadata": {},
   "outputs": [],
   "source": [
    "PhaMeas=np.zeros(100)\n",
    "PhaCalc=np.zeros(100)\n",
    "\n",
    "for i in range(0,100):\n",
    "    PhaMeas[i]=ZphaseZ[i+1]-((i)*(i)/100-round((i)*(i)/100))*2*3.14159265+np.pi*.5\n",
    "    PhaCalc[i]=ZphaseZ2[i+1]-((i)*(i)/100-round((i)*(i)/100))*2*3.14159265+np.pi*.5\n",
    "    \n",
    "for i in range(0,100):\n",
    "    if(PhaMeas[i]>6):\n",
    "        PhaMeas[i]-=2*np.pi\n",
    "    if(PhaCalc[i]>6):\n",
    "        PhaCalc[i]-=2*np.pi"
   ]
  },
  {
   "cell_type": "code",
   "execution_count": 164,
   "metadata": {},
   "outputs": [
    {
     "data": {
      "application/vnd.jupyter.widget-view+json": {
       "model_id": "8ae9ed55d5e8434ea84914f3a3e55128",
       "version_major": 2,
       "version_minor": 0
      },
      "text/plain": [
       "Canvas(toolbar=Toolbar(toolitems=[('Home', 'Reset original view', 'home', 'home'), ('Back', 'Back to previous …"
      ]
     },
     "metadata": {},
     "output_type": "display_data"
    }
   ],
   "source": [
    "freq=np.linspace(1,100,100)\n",
    "_,ax = plt.subplots()\n",
    "plt.subplots_adjust(left=0.18, right=0.99, top=0.96, bottom=0.14)\n",
    "ax.plot(freq,PhaMeas, '.-', label=\"LabVIEW\",markersize=1,linewidth=1)\n",
    "ax.plot(freq,PhaCalc, '.-', label=\"Python\",markersize=1,linewidth=1)\n",
    "ax.legend(fontsize=16)\n",
    "ax.set_xlabel('frequency [Hz]', fontsize=18)\n",
    "ax.set_ylabel('Phase [rad]',fontsize=18)\n",
    "ax.tick_params(axis='x', labelsize=18)\n",
    "ax.tick_params(axis='y', labelsize=18)\n",
    "plt.xlim(0,120)\n",
    "#plt.ylim(1e-18,1e-15)\n",
    "plt.grid(True)"
   ]
  },
  {
   "cell_type": "code",
   "execution_count": 165,
   "metadata": {},
   "outputs": [],
   "source": [
    "#14"
   ]
  },
  {
   "cell_type": "code",
   "execution_count": 166,
   "metadata": {},
   "outputs": [],
   "source": [
    "Ndata=14\n",
    "##Z preparataion\n",
    "#fname = folder+\"/Bead\"+str(BeadNumber)+\"/TransFunc\"+\"/TransFunc_%d_Z_z%de5_%ds_%dHz.h5\" %(Ndata,Zset,tInt,fBase)\n",
    "fname = folder+\"/NoBead\"+\"/TransFunc\"+\"/Test%d.h5\" %(Ndata)\n",
    "BDF = BeadDataFile.BeadDataFile(fname)\n",
    "data = BDF.xyz2 \n",
    "Velp=BDF.electrode_data[0]\n",
    "Veln=BDF.electrode_data[1]"
   ]
  },
  {
   "cell_type": "code",
   "execution_count": 168,
   "metadata": {},
   "outputs": [
    {
     "data": {
      "application/vnd.jupyter.widget-view+json": {
       "model_id": "e50eddbfbda847d282d27b91f3f40e03",
       "version_major": 2,
       "version_minor": 0
      },
      "text/plain": [
       "Canvas(toolbar=Toolbar(toolitems=[('Home', 'Reset original view', 'home', 'home'), ('Back', 'Back to previous …"
      ]
     },
     "metadata": {},
     "output_type": "display_data"
    }
   ],
   "source": [
    "time2=np.linspace(0,1,250000, endpoint = False)\n",
    "_,ax = plt.subplots()\n",
    "plt.subplots_adjust(left=0.18, right=0.99, top=0.96, bottom=0.14)\n",
    "ax.plot(time,Vcomb, '.-', label=\"Python\",markersize=1,linewidth=1)\n",
    "ax.plot(time2,Velp[750000:1000000], '.-', label=\"LabVIEW\",markersize=1,linewidth=1)\n",
    "ax.legend(fontsize=16)\n",
    "ax.set_xlabel('Time', fontsize=18)\n",
    "ax.set_ylabel('Vlotage',fontsize=18)\n",
    "ax.tick_params(axis='x', labelsize=18)\n",
    "ax.tick_params(axis='y', labelsize=18)\n",
    "#plt.xlim(1,2500)\n",
    "#plt.ylim(1e-18,1e-15)\n",
    "plt.grid(True)"
   ]
  },
  {
   "cell_type": "code",
   "execution_count": 169,
   "metadata": {},
   "outputs": [],
   "source": [
    "z_1000=Velp\n",
    "freqs=np.linspace(0,125000,(125000)+1)\n",
    "tInt=4\n",
    "fsamp=250000\n",
    "res=tInt*fsamp\n",
    "fBase=1\n",
    "Nharm=100\n",
    "    \n",
    "zFFT=np.fft.rfft(z_1000)\n",
    "norm = np.sqrt(2 / (res* fsamp))\n",
    "zpsd = norm**2 * (zFFT * zFFT.conj()).real\n",
    "ZphaseZ=np.angle(zFFT)"
   ]
  },
  {
   "cell_type": "code",
   "execution_count": 172,
   "metadata": {},
   "outputs": [],
   "source": [
    "z_1000=Vcomb\n",
    "freqs=np.linspace(0,125000,(125000)+1)\n",
    "tInt=1\n",
    "fsamp=250000\n",
    "res=tInt*fsamp\n",
    "fBase=1\n",
    "Nharm=100\n",
    "    \n",
    "zFFT=np.fft.rfft(z_1000)\n",
    "norm = np.sqrt(2 / (res* fsamp))\n",
    "zpsd = norm**2 * (zFFT * zFFT.conj()).real\n",
    "ZphaseZ2=np.angle(zFFT)"
   ]
  },
  {
   "cell_type": "code",
   "execution_count": 175,
   "metadata": {},
   "outputs": [],
   "source": [
    "PhaMeas=np.zeros(100)\n",
    "PhaCalc=np.zeros(100)\n",
    "\n",
    "for i in range(0,100):\n",
    "    PhaMeas[i]=ZphaseZ[4*(i+1)]-((i)*(i)/100-round((i)*(i)/100))*2*3.14159265+np.pi*.5\n",
    "    PhaCalc[i]=ZphaseZ2[i+1]-((i)*(i)/100-round((i)*(i)/100))*2*3.14159265+np.pi*.5\n",
    "    \n",
    "for i in range(0,100):\n",
    "    if(PhaMeas[i]>6):\n",
    "        PhaMeas[i]-=2*np.pi\n",
    "    if(PhaCalc[i]>6):\n",
    "        PhaCalc[i]-=2*np.pi"
   ]
  },
  {
   "cell_type": "code",
   "execution_count": 176,
   "metadata": {},
   "outputs": [
    {
     "data": {
      "application/vnd.jupyter.widget-view+json": {
       "model_id": "680471bf49bd4aa08d565624549aee63",
       "version_major": 2,
       "version_minor": 0
      },
      "text/plain": [
       "Canvas(toolbar=Toolbar(toolitems=[('Home', 'Reset original view', 'home', 'home'), ('Back', 'Back to previous …"
      ]
     },
     "metadata": {},
     "output_type": "display_data"
    }
   ],
   "source": [
    "freq=np.linspace(1,100,100)\n",
    "_,ax = plt.subplots()\n",
    "plt.subplots_adjust(left=0.18, right=0.99, top=0.96, bottom=0.14)\n",
    "ax.plot(freq,PhaMeas, '.-', label=\"LabVIEW\",markersize=1,linewidth=1)\n",
    "ax.plot(freq,PhaCalc, '.-', label=\"Python\",markersize=1,linewidth=1)\n",
    "ax.legend(fontsize=16)\n",
    "ax.set_xlabel('frequency [Hz]', fontsize=18)\n",
    "ax.set_ylabel('Phase [rad]',fontsize=18)\n",
    "ax.tick_params(axis='x', labelsize=18)\n",
    "ax.tick_params(axis='y', labelsize=18)\n",
    "plt.xlim(0,120)\n",
    "#plt.ylim(1e-18,1e-15)\n",
    "plt.grid(True)"
   ]
  },
  {
   "cell_type": "code",
   "execution_count": 177,
   "metadata": {},
   "outputs": [
    {
     "data": {
      "application/vnd.jupyter.widget-view+json": {
       "model_id": "1bde56f44ff34da493a55b866fbe9472",
       "version_major": 2,
       "version_minor": 0
      },
      "text/plain": [
       "Canvas(toolbar=Toolbar(toolitems=[('Home', 'Reset original view', 'home', 'home'), ('Back', 'Back to previous …"
      ]
     },
     "metadata": {},
     "output_type": "display_data"
    }
   ],
   "source": [
    "time2=np.linspace(0,1,250000, endpoint = False)\n",
    "_,ax = plt.subplots()\n",
    "plt.subplots_adjust(left=0.18, right=0.99, top=0.96, bottom=0.14)\n",
    "ax.plot(time2,Velp[0:250000], '.-', label=\"0 s\",markersize=1,linewidth=1)\n",
    "ax.plot(time2,Velp[250000:500000], '.-', label=\"1 s\",markersize=1,linewidth=1)\n",
    "ax.plot(time2,Velp[500000:750000], '.-', label=\"2 s\",markersize=1,linewidth=1)\n",
    "ax.plot(time2,Velp[750000:1000000], '.-', label=\"3 s\",markersize=1,linewidth=1)\n",
    "ax.legend(fontsize=16)\n",
    "ax.set_xlabel('Time', fontsize=18)\n",
    "ax.set_ylabel('Vlotage',fontsize=18)\n",
    "ax.tick_params(axis='x', labelsize=18)\n",
    "ax.tick_params(axis='y', labelsize=18)\n",
    "#plt.xlim(1,2500)\n",
    "#plt.ylim(1e-18,1e-15)\n",
    "plt.grid(True)"
   ]
  },
  {
   "cell_type": "code",
   "execution_count": 178,
   "metadata": {},
   "outputs": [],
   "source": [
    "#17"
   ]
  },
  {
   "cell_type": "code",
   "execution_count": 183,
   "metadata": {},
   "outputs": [],
   "source": [
    "Ndata=17\n",
    "##Z preparataion\n",
    "#fname = folder+\"/Bead\"+str(BeadNumber)+\"/TransFunc\"+\"/TransFunc_%d_Z_z%de5_%ds_%dHz.h5\" %(Ndata,Zset,tInt,fBase)\n",
    "fname = folder+\"/NoBead\"+\"/TransFunc\"+\"/Test%d.h5\" %(Ndata)\n",
    "BDF = BeadDataFile.BeadDataFile(fname)\n",
    "data = BDF.xyz2 \n",
    "Velp=BDF.electrode_data[0]\n",
    "Veln=BDF.electrode_data[1]"
   ]
  },
  {
   "cell_type": "code",
   "execution_count": 187,
   "metadata": {},
   "outputs": [
    {
     "data": {
      "application/vnd.jupyter.widget-view+json": {
       "model_id": "e6eaf672fa2740d384d407de40412a2e",
       "version_major": 2,
       "version_minor": 0
      },
      "text/plain": [
       "Canvas(toolbar=Toolbar(toolitems=[('Home', 'Reset original view', 'home', 'home'), ('Back', 'Back to previous …"
      ]
     },
     "metadata": {},
     "output_type": "display_data"
    }
   ],
   "source": [
    "time2=np.linspace(0,1,5000, endpoint = False)\n",
    "_,ax = plt.subplots()\n",
    "plt.subplots_adjust(left=0.18, right=0.99, top=0.96, bottom=0.14)\n",
    "ax.plot(time2,Velp[0:5000], '.-', label=\"LabVIEW\",markersize=1,linewidth=1)\n",
    "ax.legend(fontsize=16)\n",
    "ax.set_xlabel('Time', fontsize=18)\n",
    "ax.set_ylabel('Vlotage',fontsize=18)\n",
    "ax.tick_params(axis='x', labelsize=18)\n",
    "ax.tick_params(axis='y', labelsize=18)\n",
    "#plt.xlim(1,2500)\n",
    "#plt.ylim(1e-18,1e-15)\n",
    "plt.grid(True)"
   ]
  },
  {
   "cell_type": "code",
   "execution_count": 188,
   "metadata": {},
   "outputs": [],
   "source": [
    "#19"
   ]
  },
  {
   "cell_type": "code",
   "execution_count": 189,
   "metadata": {},
   "outputs": [],
   "source": [
    "Ndata=19\n",
    "##Z preparataion\n",
    "#fname = folder+\"/Bead\"+str(BeadNumber)+\"/TransFunc\"+\"/TransFunc_%d_Z_z%de5_%ds_%dHz.h5\" %(Ndata,Zset,tInt,fBase)\n",
    "fname = folder+\"/NoBead\"+\"/TransFunc\"+\"/Test%d.h5\" %(Ndata)\n",
    "BDF = BeadDataFile.BeadDataFile(fname)\n",
    "data = BDF.xyz2 \n",
    "Velp=BDF.electrode_data[0]\n",
    "Veln=BDF.electrode_data[1]"
   ]
  },
  {
   "cell_type": "code",
   "execution_count": 192,
   "metadata": {},
   "outputs": [
    {
     "data": {
      "application/vnd.jupyter.widget-view+json": {
       "model_id": "e72932d441ef471abc09ed1b6420926c",
       "version_major": 2,
       "version_minor": 0
      },
      "text/plain": [
       "Canvas(toolbar=Toolbar(toolitems=[('Home', 'Reset original view', 'home', 'home'), ('Back', 'Back to previous …"
      ]
     },
     "metadata": {},
     "output_type": "display_data"
    }
   ],
   "source": [
    "time2=np.linspace(0,10,50000, endpoint = False)\n",
    "_,ax = plt.subplots()\n",
    "plt.subplots_adjust(left=0.18, right=0.99, top=0.96, bottom=0.14)\n",
    "ax.plot(time2,Velp[0:50000], '.-', label=\"0 s\",markersize=1,linewidth=1)\n",
    "ax.plot(time2,Velp[50000:100000], '.-', label=\"10 s\",markersize=1,linewidth=1)\n",
    "ax.plot(time2,Velp[100000:150000], '.-', label=\"20 s\",markersize=1,linewidth=1)\n",
    "ax.plot(time2,Velp[150000:200000], '.-', label=\"30 s\",markersize=1,linewidth=1)\n",
    "ax.plot(time2,Velp[200000:250000], '.-', label=\"40 s\",markersize=1,linewidth=1)\n",
    "\n",
    "\n",
    "ax.legend(fontsize=16)\n",
    "ax.set_xlabel('Time', fontsize=18)\n",
    "ax.set_ylabel('Vlotage',fontsize=18)\n",
    "ax.tick_params(axis='x', labelsize=18)\n",
    "ax.tick_params(axis='y', labelsize=18)\n",
    "#plt.xlim(1,2500)\n",
    "#plt.ylim(1e-18,1e-15)\n",
    "plt.grid(True)"
   ]
  },
  {
   "cell_type": "code",
   "execution_count": null,
   "metadata": {},
   "outputs": [],
   "source": []
  }
 ],
 "metadata": {
  "kernelspec": {
   "display_name": "Python 3",
   "language": "python",
   "name": "python3"
  },
  "language_info": {
   "codemirror_mode": {
    "name": "ipython",
    "version": 3
   },
   "file_extension": ".py",
   "mimetype": "text/x-python",
   "name": "python",
   "nbconvert_exporter": "python",
   "pygments_lexer": "ipython3",
   "version": "3.6.9"
  }
 },
 "nbformat": 4,
 "nbformat_minor": 2
}
