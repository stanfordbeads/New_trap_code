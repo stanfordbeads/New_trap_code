{
 "cells": [
  {
   "cell_type": "code",
   "execution_count": 1,
   "metadata": {},
   "outputs": [],
   "source": [
    "import numpy as np\n",
    "import matplotlib.pyplot as plt\n",
    "import matplotlib\n",
    "from matplotlib import mlab\n",
    "\n",
    "from scipy import signal\n",
    "import h5py, time"
   ]
  },
  {
   "cell_type": "code",
   "execution_count": 2,
   "metadata": {},
   "outputs": [],
   "source": [
    "%matplotlib widget"
   ]
  },
  {
   "cell_type": "code",
   "execution_count": 3,
   "metadata": {},
   "outputs": [],
   "source": [
    "import sys\n",
    "sys.path.append('/home/analysis_user/New_trap_code/Tools/')\n",
    "import BeadDataFile"
   ]
  },
  {
   "cell_type": "code",
   "execution_count": 38,
   "metadata": {},
   "outputs": [],
   "source": [
    "##Force Calibration with single freq, with xyz2"
   ]
  },
  {
   "cell_type": "code",
   "execution_count": 90,
   "metadata": {},
   "outputs": [],
   "source": [
    "Year = \"2021\"\n",
    "Month = \"02\"\n",
    "Day = \"02\"\n",
    "BeadNumber =1\n",
    "#folder = r\"/data/new_trap/\"+ Year + Month + Day\n",
    "folder = r\"/home/analysis_user/data_from_windows/\"+ Year + Month + Day"
   ]
  },
  {
   "cell_type": "code",
   "execution_count": 91,
   "metadata": {},
   "outputs": [],
   "source": [
    "##Z preparation\n",
    "Ndata=1\n",
    "fname = folder+\"/Bead\"+str(BeadNumber)+\"/TransFunc\"+\"/TransFunc_1_Z_z-10e5_10s_1hz.h5\" #% Ndata\n",
    "BDF = BeadDataFile.BeadDataFile(fname)\n",
    "data = BDF.xyz2\n",
    "tInt=10\n",
    "fsamp=5000\n",
    "res=tInt*fsamp\n",
    "fBase=1"
   ]
  },
  {
   "cell_type": "code",
   "execution_count": 92,
   "metadata": {},
   "outputs": [],
   "source": [
    "##Z preparataion\n",
    "data = BDF.xyz2 \n",
    "data_det=signal.detrend(data)\n",
    "x_1000=data_det[0]\n",
    "y_1000=data_det[1]\n",
    "z_1000=data_det[2]\n",
    "freqs=np.linspace(0,2500,(25000)+1)\n",
    "    \n",
    "xFFT=np.fft.rfft(x_1000)\n",
    "yFFT=np.fft.rfft(y_1000)\n",
    "zFFT=np.fft.rfft(z_1000)\n",
    "norm = np.sqrt(2 / (res* fsamp))\n",
    "xpsd = norm**2 * (xFFT * xFFT.conj()).real\n",
    "ypsd = norm**2 * (yFFT * yFFT.conj()).real\n",
    "zpsd = norm**2 * (zFFT * zFFT.conj()).real\n",
    "ZphaseX=np.angle(xFFT)\n",
    "ZphaseY=np.angle(yFFT)\n",
    "ZphaseZ=np.angle(zFFT)\n",
    "\n",
    "ZnoiseX=np.sqrt(xpsd)\n",
    "ZnoiseY=np.sqrt(ypsd)\n",
    "ZnoiseZ=np.sqrt(zpsd)"
   ]
  },
  {
   "cell_type": "code",
   "execution_count": 93,
   "metadata": {},
   "outputs": [],
   "source": [
    "xPha=np.zeros(100)\n",
    "yPha=np.zeros(100)\n",
    "zPha=np.zeros(100)\n",
    "xAmp=np.zeros(100)\n",
    "yAmp=np.zeros(100)\n",
    "zAmp=np.zeros(100)"
   ]
  },
  {
   "cell_type": "code",
   "execution_count": 94,
   "metadata": {},
   "outputs": [],
   "source": [
    "for i in range(0,100):\n",
    "    zPha[i]=ZphaseZ[(i+1)*tInt*fBase]-(i*i/100-round(i*i/100))*2*3.14159265+np.pi*0.5\n",
    "\n",
    "\n",
    "for i in range(0,99):  \n",
    "    if((zPha[i+1]-zPha[i])>3):\n",
    "        zPha[i+1]-=2*np.pi\n",
    "    elif((zPha[i+1]-zPha[i])<-3):\n",
    "        zPha[i+1]+=2*np.pi\n",
    "for i in range(0,99):  \n",
    "    if((zPha[i+1]-zPha[i])>4):\n",
    "        zPha[i+1]-=2*np.pi\n",
    "    elif((zPha[i+1]-zPha[i])<-4):\n",
    "        zPha[i+1]+=2*np.pi"
   ]
  },
  {
   "cell_type": "code",
   "execution_count": 95,
   "metadata": {},
   "outputs": [
    {
     "data": {
      "application/vnd.jupyter.widget-view+json": {
       "model_id": "ae05a26a506a431fabf1886da2f15d42",
       "version_major": 2,
       "version_minor": 0
      },
      "text/plain": [
       "Canvas(toolbar=Toolbar(toolitems=[('Home', 'Reset original view', 'home', 'home'), ('Back', 'Back to previous …"
      ]
     },
     "metadata": {},
     "output_type": "display_data"
    }
   ],
   "source": [
    "freqs=np.linspace(0,2500,(375000)+1)\n",
    "\n",
    "_,ax = plt.subplots()\n",
    "plt.subplots_adjust(left=0.18, right=0.96, top=0.96, bottom=0.14)\n",
    "\n",
    "ax.plot(np.linspace(1,100,100),zPha, '.-', label=\"z\",markersize=1,linewidth=1)\n",
    "ax.legend(fontsize=16)\n",
    "ax.set_xlabel('Frequency [Hz]', fontsize=18)\n",
    "ax.set_ylabel('Force NSD [N/√Hz]',fontsize=18)\n",
    "\n",
    "ax.tick_params(axis='x', labelsize=18)\n",
    "ax.tick_params(axis='y', labelsize=18)\n",
    "#plt.xlim(0.1,500)\n",
    "#plt.ylim(1e-7,1e-2)\n",
    "plt.grid(True)"
   ]
  },
  {
   "cell_type": "code",
   "execution_count": 96,
   "metadata": {},
   "outputs": [],
   "source": [
    "#Analysis with 1s chunk"
   ]
  },
  {
   "cell_type": "code",
   "execution_count": 97,
   "metadata": {},
   "outputs": [],
   "source": [
    "z1s=[]\n",
    "temp=np.zeros(5000)"
   ]
  },
  {
   "cell_type": "code",
   "execution_count": 98,
   "metadata": {},
   "outputs": [],
   "source": [
    "for i in range(10):\n",
    "    temp=z_1000[5000*i:5000*(i+1)]\n",
    "    z1s.append(temp)"
   ]
  },
  {
   "cell_type": "code",
   "execution_count": 99,
   "metadata": {},
   "outputs": [
    {
     "name": "stdout",
     "output_type": "stream",
     "text": [
      "-511.9229627586901\n",
      "-511.9229627586901\n"
     ]
    }
   ],
   "source": [
    "print(z1s[1][0])\n",
    "print(z_1000[5000])"
   ]
  },
  {
   "cell_type": "code",
   "execution_count": 100,
   "metadata": {
    "scrolled": true
   },
   "outputs": [
    {
     "data": {
      "application/vnd.jupyter.widget-view+json": {
       "model_id": "fd64d1e27f38456d97de113e22184492",
       "version_major": 2,
       "version_minor": 0
      },
      "text/plain": [
       "Canvas(toolbar=Toolbar(toolitems=[('Home', 'Reset original view', 'home', 'home'), ('Back', 'Back to previous …"
      ]
     },
     "metadata": {},
     "output_type": "display_data"
    }
   ],
   "source": [
    "_,ax = plt.subplots()\n",
    "plt.subplots_adjust(left=0.18, right=0.96, top=0.96, bottom=0.14)\n",
    "\n",
    "ax.plot(z1s[0], '.-', label=\"z\",markersize=1,linewidth=1)\n",
    "ax.plot(z1s[1], '.-', label=\"z\",markersize=1,linewidth=1)\n",
    "ax.legend(fontsize=16)\n",
    "ax.set_xlabel('Frequency [Hz]', fontsize=18)\n",
    "ax.set_ylabel('Force NSD [N/√Hz]',fontsize=18)\n",
    "\n",
    "ax.tick_params(axis='x', labelsize=18)\n",
    "ax.tick_params(axis='y', labelsize=18)\n",
    "#plt.xlim(0.1,500)\n",
    "#plt.ylim(1e-7,1e-2)\n",
    "plt.grid(True)"
   ]
  },
  {
   "cell_type": "code",
   "execution_count": 101,
   "metadata": {},
   "outputs": [],
   "source": [
    "zP1s=[]"
   ]
  },
  {
   "cell_type": "code",
   "execution_count": 102,
   "metadata": {},
   "outputs": [],
   "source": [
    "tInt=1\n",
    "fsamp=5000\n",
    "res=tInt*fsamp\n",
    "norm = np.sqrt(2 / (res* fsamp))\n",
    "\n",
    "for j in range(10):\n",
    "    zPha=np.zeros(100)\n",
    "    zFFT=np.fft.rfft(z1s[j])\n",
    "    ZphaseZ=np.angle(zFFT)\n",
    "#    print(ZphaseZ[0])\n",
    "    for i in range(0,100):\n",
    "        zPha[i]=ZphaseZ[(i+1)*tInt*fBase]-(i*i/100-round(i*i/100))*2*3.14159265+np.pi*0.5\n",
    "#        print(zPha[i])\n",
    "    for i in range(0,99):  \n",
    "        if((zPha[i+1]-zPha[i])>3):\n",
    "            zPha[i+1]-=2*np.pi\n",
    "        elif((zPha[i+1]-zPha[i])<-3):\n",
    "            zPha[i+1]+=2*np.pi\n",
    "    for i in range(0,99):  \n",
    "        if((zPha[i+1]-zPha[i])>4):\n",
    "            zPha[i+1]-=2*np.pi\n",
    "        elif((zPha[i+1]-zPha[i])<-4):\n",
    "            zPha[i+1]+=2*np.pi\n",
    "    zP1s.append(zPha)"
   ]
  },
  {
   "cell_type": "code",
   "execution_count": 103,
   "metadata": {},
   "outputs": [
    {
     "data": {
      "application/vnd.jupyter.widget-view+json": {
       "model_id": "95639ed3ddac4330a74a115046a2423f",
       "version_major": 2,
       "version_minor": 0
      },
      "text/plain": [
       "Canvas(toolbar=Toolbar(toolitems=[('Home', 'Reset original view', 'home', 'home'), ('Back', 'Back to previous …"
      ]
     },
     "metadata": {},
     "output_type": "display_data"
    },
    {
     "name": "stdout",
     "output_type": "stream",
     "text": [
      "0.5365023708012022\n",
      "0.49457908956872765\n",
      "0.4346586345855028\n",
      "0.4348238288967414\n",
      "0.45260273751974234\n",
      "0.40145230797045994\n",
      "0.43368336572903377\n",
      "0.47498917357301274\n",
      "0.48148049496857204\n",
      "0.47198899134920347\n"
     ]
    }
   ],
   "source": [
    "_,ax = plt.subplots()\n",
    "plt.subplots_adjust(left=0.18, right=0.96, top=0.96, bottom=0.14)\n",
    "for i in range(10):\n",
    "    print(zP1s[i][10])\n",
    "\n",
    "ax.plot(zP1s[0], '.-', label=\"0\",markersize=1,linewidth=1)\n",
    "ax.plot(zP1s[1], '.-', label=\"1\",markersize=1,linewidth=1)\n",
    "ax.plot(zP1s[2], '.-', label=\"2\",markersize=1,linewidth=1)\n",
    "ax.plot(zP1s[3], '.-', label=\"3\",markersize=1,linewidth=1)\n",
    "ax.plot(zP1s[4], '.-', label=\"4\",markersize=1,linewidth=1)\n",
    "ax.plot(zP1s[5], '.-', label=\"5\",markersize=1,linewidth=1)\n",
    "ax.plot(zP1s[6], '.-', label=\"6\",markersize=1,linewidth=1)\n",
    "ax.plot(zP1s[7], '.-', label=\"7\",markersize=1,linewidth=1)\n",
    "ax.plot(zP1s[8], '.-', label=\"8\",markersize=1,linewidth=1)\n",
    "ax.plot(zP1s[9], '.-', label=\"9\",markersize=1,linewidth=1)\n",
    "\n",
    "ax.legend(fontsize=16)\n",
    "ax.set_xlabel('Frequency [Hz]', fontsize=18)\n",
    "ax.set_ylabel('Force NSD [N/√Hz]',fontsize=18)\n",
    "\n",
    "ax.tick_params(axis='x', labelsize=18)\n",
    "ax.tick_params(axis='y', labelsize=18)\n",
    "#plt.xlim(0.1,500)\n",
    "plt.ylim(-0.5,2)\n",
    "plt.grid(True)"
   ]
  },
  {
   "cell_type": "code",
   "execution_count": 104,
   "metadata": {
    "scrolled": true
   },
   "outputs": [
    {
     "data": {
      "application/vnd.jupyter.widget-view+json": {
       "model_id": "3ecff579900d49e0a62699102d612389",
       "version_major": 2,
       "version_minor": 0
      },
      "text/plain": [
       "Canvas(toolbar=Toolbar(toolitems=[('Home', 'Reset original view', 'home', 'home'), ('Back', 'Back to previous …"
      ]
     },
     "metadata": {},
     "output_type": "display_data"
    },
    {
     "name": "stdout",
     "output_type": "stream",
     "text": [
      "0.5365023708012022\n",
      "0.49457908956872765\n",
      "0.4346586345855028\n",
      "0.4348238288967414\n",
      "0.45260273751974234\n",
      "0.40145230797045994\n",
      "0.43368336572903377\n",
      "0.47498917357301274\n",
      "0.48148049496857204\n",
      "0.47198899134920347\n"
     ]
    }
   ],
   "source": [
    "_,ax = plt.subplots()\n",
    "plt.subplots_adjust(left=0.18, right=0.96, top=0.96, bottom=0.14)\n",
    "for i in range(10):\n",
    "    print(zP1s[i][10])\n",
    "\n",
    "ax.plot(zP1s[0], '.-', label=\"0\",markersize=1,linewidth=1)\n",
    "ax.plot(zP1s[3], '.-', label=\"3\",markersize=1,linewidth=1)\n",
    "ax.plot(zP1s[6], '.-', label=\"6\",markersize=1,linewidth=1)\n",
    "ax.plot(zP1s[9], '.-', label=\"9\",markersize=1,linewidth=1)\n",
    "\n",
    "ax.legend(fontsize=16)\n",
    "ax.set_xlabel('Frequency [Hz]', fontsize=18)\n",
    "ax.set_ylabel('Force NSD [N/√Hz]',fontsize=18)\n",
    "\n",
    "ax.tick_params(axis='x', labelsize=18)\n",
    "ax.tick_params(axis='y', labelsize=18)\n",
    "#plt.xlim(0.1,500)\n",
    "plt.ylim(-0.5,2)\n",
    "plt.grid(True)"
   ]
  },
  {
   "cell_type": "code",
   "execution_count": 105,
   "metadata": {},
   "outputs": [
    {
     "name": "stdout",
     "output_type": "stream",
     "text": [
      "/home/analysis_user/data_from_windows/20210113/Bead1/TransFunc/TransFunc_10_Z_z-1e5_250s_1Hz.h5\n"
     ]
    }
   ],
   "source": [
    "#Wilson comparison\n",
    "Year = \"2021\"\n",
    "Month = \"01\"\n",
    "Day = \"13\"\n",
    "BeadNumber =1\n",
    "#folder = r\"/data/new_trap/\"+ Year + Month + Day\n",
    "folder = r\"/home/analysis_user/data_from_windows/\"+ Year + Month + Day\n",
    "##Z preparataion\n",
    "fname = folder+\"/Bead\"+str(BeadNumber)+\"/TransFunc\"+\"/TransFunc_10_Z_z-1e5_250s_1Hz.h5\" #% Ndata\n",
    "BDF = BeadDataFile.BeadDataFile(fname)\n",
    "data = BDF.xyz2 \n",
    "data_det=signal.detrend(data)\n",
    "x_1000=data_det[0]\n",
    "y_1000=data_det[1]\n",
    "z_1000=data_det[2]\n",
    "print(fname)"
   ]
  },
  {
   "cell_type": "code",
   "execution_count": 106,
   "metadata": {},
   "outputs": [],
   "source": [
    "z1s=[]\n",
    "temp=np.zeros(5000)\n",
    "for i in range(10):\n",
    "    temp=z_1000[5000*i:5000*(i+1)]\n",
    "    z1s.append(temp)\n",
    "    \n",
    "zP1s=[]\n",
    "tInt=1\n",
    "fsamp=5000\n",
    "res=tInt*fsamp\n",
    "norm = np.sqrt(2 / (res* fsamp))\n",
    "\n",
    "for j in range(10):\n",
    "    zPha=np.zeros(100)\n",
    "    zFFT=np.fft.rfft(z1s[j])\n",
    "    ZphaseZ=np.angle(zFFT)\n",
    "#    print(ZphaseZ[0])\n",
    "    for i in range(0,100):\n",
    "        zPha[i]=ZphaseZ[(i+1)*tInt*fBase]-(i*i/100-round(i*i/100))*2*3.14159265+np.pi*0.5\n",
    "#        print(zPha[i])\n",
    "    for i in range(0,99):  \n",
    "        if((zPha[i+1]-zPha[i])>3):\n",
    "            zPha[i+1]-=2*np.pi\n",
    "        elif((zPha[i+1]-zPha[i])<-3):\n",
    "            zPha[i+1]+=2*np.pi\n",
    "    for i in range(0,99):  \n",
    "        if((zPha[i+1]-zPha[i])>4):\n",
    "            zPha[i+1]-=2*np.pi\n",
    "        elif((zPha[i+1]-zPha[i])<-4):\n",
    "            zPha[i+1]+=2*np.pi\n",
    "    zP1s.append(zPha)"
   ]
  },
  {
   "cell_type": "code",
   "execution_count": 109,
   "metadata": {},
   "outputs": [
    {
     "data": {
      "application/vnd.jupyter.widget-view+json": {
       "model_id": "be5968ee87ce41eea021fe7fc4879dba",
       "version_major": 2,
       "version_minor": 0
      },
      "text/plain": [
       "Canvas(toolbar=Toolbar(toolitems=[('Home', 'Reset original view', 'home', 'home'), ('Back', 'Back to previous …"
      ]
     },
     "metadata": {},
     "output_type": "display_data"
    },
    {
     "name": "stdout",
     "output_type": "stream",
     "text": [
      "0.4261113009329496\n",
      "0.45733066910833875\n",
      "0.44604417023722864\n",
      "0.5007020883142943\n",
      "0.4912691168294734\n",
      "0.4645898311398817\n",
      "0.48733596180975103\n",
      "0.4410155588517666\n",
      "0.47632307754425396\n",
      "0.464076706196364\n"
     ]
    }
   ],
   "source": [
    "_,ax = plt.subplots()\n",
    "plt.subplots_adjust(left=0.18, right=0.96, top=0.96, bottom=0.14)\n",
    "for i in range(10):\n",
    "    print(zP1s[i][10])\n",
    "\n",
    "ax.plot(zP1s[0], '.-', label=\"0\",markersize=1,linewidth=1)\n",
    "ax.plot(zP1s[3], '.-', label=\"3\",markersize=1,linewidth=1)\n",
    "ax.plot(zP1s[6], '.-', label=\"6\",markersize=1,linewidth=1)\n",
    "ax.plot(zP1s[9], '.-', label=\"9\",markersize=1,linewidth=1)\n",
    "\n",
    "ax.legend(fontsize=16)\n",
    "ax.set_xlabel('Frequency [Hz]', fontsize=18)\n",
    "ax.set_ylabel('Force NSD [N/√Hz]',fontsize=18)\n",
    "\n",
    "ax.tick_params(axis='x', labelsize=18)\n",
    "ax.tick_params(axis='y', labelsize=18)\n",
    "#plt.xlim(0.1,500)\n",
    "plt.ylim(-0.5,2)\n",
    "plt.grid(True)"
   ]
  },
  {
   "cell_type": "code",
   "execution_count": null,
   "metadata": {},
   "outputs": [],
   "source": []
  },
  {
   "cell_type": "code",
   "execution_count": null,
   "metadata": {},
   "outputs": [],
   "source": []
  },
  {
   "cell_type": "code",
   "execution_count": null,
   "metadata": {},
   "outputs": [],
   "source": []
  },
  {
   "cell_type": "code",
   "execution_count": null,
   "metadata": {},
   "outputs": [],
   "source": [
    "table = []\n",
    "counter = 1\n",
    "\n",
    "for r in range(2):\n",
    "  row = []\n",
    "  for c in range(3):\n",
    "    row.append(counter)\n",
    "    counter += 1\n",
    "  table.append(row)\n",
    "\n",
    "print(table)\n",
    "OUTPUT\n",
    "[[1, 2, 3], [4, 5, 6]]"
   ]
  }
 ],
 "metadata": {
  "kernelspec": {
   "display_name": "Python 3",
   "language": "python",
   "name": "python3"
  },
  "language_info": {
   "codemirror_mode": {
    "name": "ipython",
    "version": 3
   },
   "file_extension": ".py",
   "mimetype": "text/x-python",
   "name": "python",
   "nbconvert_exporter": "python",
   "pygments_lexer": "ipython3",
   "version": "3.6.9"
  }
 },
 "nbformat": 4,
 "nbformat_minor": 2
}
