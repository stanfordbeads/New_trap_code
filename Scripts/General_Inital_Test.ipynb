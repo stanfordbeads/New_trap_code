{
 "cells": [
  {
   "cell_type": "code",
   "execution_count": 232,
   "metadata": {},
   "outputs": [],
   "source": [
    "%run /home/analysis_user/New_trap_code/Tools/basic_packages.py\n"
   ]
  },
  {
   "cell_type": "code",
   "execution_count": 233,
   "metadata": {},
   "outputs": [],
   "source": [
    "\n",
    "#plt.rcParams[\"figure.figsize\"] = (16,12)\n",
    "#plt.rcParams[\"font.size\"] = 24\n",
    "#plt.rcParams['xtick.labelsize'] = \"small\"\n",
    "#plt.rcParams['ytick.labelsize'] = 36"
   ]
  },
  {
   "cell_type": "code",
   "execution_count": 234,
   "metadata": {},
   "outputs": [],
   "source": [
    "%matplotlib widget"
   ]
  },
  {
   "cell_type": "code",
   "execution_count": 235,
   "metadata": {},
   "outputs": [],
   "source": [
    "import sys\n",
    "sys.path.append('/home/analysis_user/New_trap_code/Tools/')\n",
    "import BeadDataFile"
   ]
  },
  {
   "cell_type": "code",
   "execution_count": 236,
   "metadata": {},
   "outputs": [],
   "source": [
    "Year = \"2020\"\n",
    "Month = \"09\"\n",
    "Day = \"30\"\n",
    "BeadNumber =1\n",
    "folder = r\"/home/data_transfer/data_from_windows/\"+ Year + Month + Day"
   ]
  },
  {
   "cell_type": "code",
   "execution_count": 265,
   "metadata": {},
   "outputs": [
    {
     "name": "stdout",
     "output_type": "stream",
     "text": [
      "/home/data_transfer/data_from_windows/20200930/Bead1/InitialTest/Data39.h5\n",
      "No height data\n",
      "No electrodes data\n",
      "No cantilever data\n",
      "No laser power data\n"
     ]
    }
   ],
   "source": [
    "Data_File_Number=39\n",
    "fname = folder+\"/Bead\"+str(BeadNumber)+\"/InitialTest\"+\"/Data%d.h5\" % Data_File_Number\n",
    "#fname = folder+\"/Bead\"+str(BeadNumber)+\"/Discharge\"+\"/Discharge_%d.h5\" % Data_File_Number\n",
    "\n",
    "#fname=r\"/home/data_transfer/data_from_windows/Testdata/20200915/Data0.h5\"\n",
    "#fname= \"/data/new_trap/20200614/Bead1/Discharge/Discharge3/ForceCalibration/Z4.h5\"\n",
    "#fname = folder+\"/NoBead\"+\"/InitialTest\"+\"/Data%d.h5\" % Data_File_Number\n",
    "#fname = folder + \"/Bead\" + str(BeadNumber)+\"/Discharge\"+\"/Recharge\"+\"/Discharge_%d.h5\" %Data_File_Number\n",
    "#fname=\"/data/new_trap/20200618/Bead1/TransFunc/TransFunc_Y_m3e5_250s_7Hz.h5\"\n",
    "\n",
    "print(fname)\n",
    "BDF = BeadDataFile.BeadDataFile(fname)\n",
    "fsamp=5000\n",
    "res = 5000\n",
    "\n",
    "data=BDF.xyz\n",
    "trigger = BDF.trigger\n",
    "data_det=signal.detrend(data)\n",
    "y_1000=1*data_det[1]\n",
    "z_1000=100*data_det[2]\n",
    "\n",
    "xpsd, freqs = matplotlib.mlab.psd(data_det[0][225:], Fs = fsamp, NFFT = res)\n",
    "ypsd, freqs = matplotlib.mlab.psd(y_1000[225:], Fs = fsamp, NFFT = res)\n",
    "zpsd, freqs = matplotlib.mlab.psd(z_1000[225:], Fs = fsamp, NFFT = res)"
   ]
  },
  {
   "cell_type": "code",
   "execution_count": 266,
   "metadata": {},
   "outputs": [
    {
     "data": {
      "application/vnd.jupyter.widget-view+json": {
       "model_id": "03b4d2be5eff4349921f0d767aaefd0d",
       "version_major": 2,
       "version_minor": 0
      },
      "text/plain": [
       "Canvas(toolbar=Toolbar(toolitems=[('Home', 'Reset original view', 'home', 'home'), ('Back', 'Back to previous …"
      ]
     },
     "metadata": {},
     "output_type": "display_data"
    },
    {
     "name": "stdout",
     "output_type": "stream",
     "text": [
      "540.0 maximum x\n",
      "540.0 maximum y\n",
      "3688475.5901351087 minimum x\n",
      "897595.090218819 minimum y\n",
      "/home/data_transfer/data_from_windows/20200930/Bead1/InitialTest/Data39_2.png\n"
     ]
    }
   ],
   "source": [
    "_,ax = plt.subplots()\n",
    "ax.loglog(freqs, xpsd, '.-', label=\"x\",markersize=1,linewidth=0.5)\n",
    "ax.loglog(freqs, ypsd, '.-', label=\"y*1\",markersize=1,linewidth=0.5)\n",
    "ax.loglog(freqs, zpsd, '.-', label=\"z*100\",markersize=1,linewidth=0.5)\n",
    "ax.legend()\n",
    "ax.set_xlabel('Frequency [Hz]')\n",
    "ax.set_ylabel('PSD [a.u.]')\n",
    "#plt.xlim(1,2500)\n",
    "#plt.ylim(1e6,1e10)\n",
    "plt.grid(True)\n",
    "print(freqs[np.argmax(xpsd)], \"maximum x\")\n",
    "print(freqs[np.argmax(ypsd)], \"maximum y\")\n",
    "print(np.min(xpsd), \"minimum x\")\n",
    "print(np.min(ypsd), \"minimum y\")\n",
    "\n",
    "ofname=folder+\"/Bead\"+str(BeadNumber)+\"/InitialTest\"+\"/Data%d_2.png\" % Data_File_Number\n",
    "#ofname=\"picture.png\"\n",
    "#ofname=folder+\"/NoBead\"+\"/InitialTest\"+\"/Data%d.png\" % Data_File_Number\n",
    "\n",
    "print(ofname)\n",
    "#plt.savefig(ofname, dpi =300)"
   ]
  },
  {
   "cell_type": "code",
   "execution_count": 271,
   "metadata": {},
   "outputs": [
    {
     "name": "stdout",
     "output_type": "stream",
     "text": [
      "No height data\n",
      "No electrodes data\n",
      "No cantilever data\n",
      "No laser power data\n",
      "No height data\n",
      "No electrodes data\n",
      "No cantilever data\n",
      "No laser power data\n"
     ]
    }
   ],
   "source": [
    "Compare_File_1 = 40\n",
    "Compare_File_2 = 39\n",
    "\n",
    "fname_1 = folder+\"/Bead\"+str(BeadNumber)+\"/InitialTest\"+\"/Data%d.h5\" % Compare_File_1\n",
    "fname_2 = folder+\"/Bead\"+str(BeadNumber)+\"/InitialTest\"+\"/Data%d.h5\" % Compare_File_2\n",
    "\n",
    "#fname_1 = folder+\"/Bead\"+str(BeadNumber)+\"/Discharge/Recharge_20200925/\"+\"/Discharge_%d.h5\" % Compare_File_1\n",
    "#fname_2 = folder+\"/Bead\"+str(BeadNumber)+\"/Discharge/FineDischarge/\"+\"/Discharge_%d.h5\" % Compare_File_2\n",
    "\n",
    "#fname_1 = \"/home/data_transfer/data_from_windows/20200930/Bead1/TransFunc/TransFunc_X0_zset_m700k_7hz_10s.h5\"\n",
    "#fname_2 = \"/home/data_transfer/data_from_windows/20200930/Bead1/TransFunc/TransFunc_X0_zset_m600k_7hz_10s.h5\"\n",
    "\n",
    "\n",
    "#fname_1 = folder+\"/Bead\"+str(BeadNumber)+\"/Discharge/HeightControl1\"+\"/Discharge_%d.h5\" % Compare_File_1\n",
    "#fname_2 = folder+\"/Bead\"+str(BeadNumber)+\"/TransFunc\"+\"/TransFuncY%d_7Hz_10s.h5\" % Compare_File_2\n",
    "\n",
    "\n",
    "res = 5000\n",
    "\n",
    "BDF = BeadDataFile.BeadDataFile(fname_1)\n",
    "data1 = BDF.xyz\n",
    "data_det1=signal.detrend(data1)\n",
    "xpsd1, freqs1 = matplotlib.mlab.psd(data_det1[0], Fs = fsamp, NFFT = res)\n",
    "ypsd1, freqs1 = matplotlib.mlab.psd(data_det1[1], Fs = fsamp, NFFT = res)\n",
    "zpsd1, freqs1 = matplotlib.mlab.psd(data_det1[2], Fs = fsamp, NFFT = res)\n",
    "\n",
    "BDF = BeadDataFile.BeadDataFile(fname_2)\n",
    "data2 = BDF.xyz\n",
    "data_det2=signal.detrend(data2)\n",
    "xpsd2, freqs2 = matplotlib.mlab.psd(data_det2[0], Fs = fsamp, NFFT = res)\n",
    "ypsd2, freqs2 = matplotlib.mlab.psd(data_det2[1], Fs = fsamp, NFFT = res)\n",
    "zpsd2, freqs2 = matplotlib.mlab.psd(data_det2[2], Fs = fsamp, NFFT = res)\n"
   ]
  },
  {
   "cell_type": "code",
   "execution_count": 272,
   "metadata": {},
   "outputs": [
    {
     "data": {
      "application/vnd.jupyter.widget-view+json": {
       "model_id": "894a37dae9334650a6434525566dad39",
       "version_major": 2,
       "version_minor": 0
      },
      "text/plain": [
       "Canvas(toolbar=Toolbar(toolitems=[('Home', 'Reset original view', 'home', 'home'), ('Back', 'Back to previous …"
      ]
     },
     "metadata": {},
     "output_type": "display_data"
    }
   ],
   "source": [
    "_,ax = plt.subplots()\n",
    "label1='Data%d,x' % Compare_File_1\n",
    "label2='Data%d,x' % Compare_File_2\n",
    "ax.loglog(freqs1, xpsd1/xpsd1.mean(), '.-', label=label1,markersize=2,linewidth=1)\n",
    "ax.loglog(freqs2, xpsd2/xpsd2.mean(), '.-', label=label2,markersize=2,linewidth=1,alpha=0.5)\n",
    "\n",
    "ax.legend()\n",
    "ax.set_xlabel('Frequency [Hz]')\n",
    "ax.set_ylabel('PSD [a.u.]')\n",
    "plt.xlim(1,2500)\n",
    "#plt.ylim(1e5,1e10)\n",
    "plt.grid(True)\n",
    "\n",
    "#ofname='../Documents/AkioK/Data%d.png' % Ndata\n",
    "#ofname='../Documents/AkioK/Discharge%d.png' % Ndata\n",
    "#ofname='../Documents/AkioK/TransFunc%d.png' % Ndata\n",
    "#ofname='../Documents/AkioK/Shaking%d.png' % Ndata\n",
    "#ofname=folder+\"/Bead\"+str(BeadNumber)+\"/InitialTest\"+\"/DataX%d_%d.png\" % (Compare_File_1,Compare_File_2)\n",
    "#plt.savefig(\"Temporary_Plots/Anderson/\"+\"/DataX%d_%d.png\" % (Compare_File_1,Compare_File_2))"
   ]
  },
  {
   "cell_type": "code",
   "execution_count": 273,
   "metadata": {},
   "outputs": [
    {
     "data": {
      "application/vnd.jupyter.widget-view+json": {
       "model_id": "6a5dcfcabd9742a99a059cfc763b34ab",
       "version_major": 2,
       "version_minor": 0
      },
      "text/plain": [
       "Canvas(toolbar=Toolbar(toolitems=[('Home', 'Reset original view', 'home', 'home'), ('Back', 'Back to previous …"
      ]
     },
     "metadata": {},
     "output_type": "display_data"
    }
   ],
   "source": [
    "_,ax = plt.subplots()\n",
    "label1='Data%d,y' % Compare_File_1\n",
    "label2='Data%d,y' % Compare_File_2\n",
    "ax.loglog(freqs1, ypsd1, '.-', label=label1,markersize=2,linewidth=1)\n",
    "ax.loglog(freqs2, ypsd2, '.-', label=label2,markersize=2,linewidth=1,alpha=0.5)\n",
    "\n",
    "ax.legend()\n",
    "ax.set_xlabel('Frequency [Hz]')\n",
    "ax.set_ylabel('PSD [a.u.]')\n",
    "plt.xlim(1,2500)\n",
    "#plt.ylim(1e5,1e10)\n",
    "plt.grid(True)\n",
    "#ofname='/home/analysis_user/Results/Plots/20190724/NoBead/NoiseTest/PlotDataX%d_%d.png' %(Ndata1, Ndata2)\n",
    "ofname=folder+\"/Bead\"+str(BeadNumber)+\"/InitialTest\"+\"/DataY%d_%d.png\" % (Compare_File_1,Compare_File_2)\n",
    "#plt.savefig(ofname)plt.savefig(\"Temporary_Plots/Anderson/\"+\"/DatYX%d_%d.png\" % (Compare_File_1,Compare_File_2))"
   ]
  },
  {
   "cell_type": "code",
   "execution_count": 274,
   "metadata": {},
   "outputs": [
    {
     "data": {
      "application/vnd.jupyter.widget-view+json": {
       "model_id": "e0b6081327c04651866fec5d97c5259d",
       "version_major": 2,
       "version_minor": 0
      },
      "text/plain": [
       "Canvas(toolbar=Toolbar(toolitems=[('Home', 'Reset original view', 'home', 'home'), ('Back', 'Back to previous …"
      ]
     },
     "metadata": {},
     "output_type": "display_data"
    }
   ],
   "source": [
    "_,ax = plt.subplots()\n",
    "label1='Data%d,z' % Compare_File_1\n",
    "label2='Data%d,z' % Compare_File_2\n",
    "ax.loglog(freqs1, zpsd1, '.-', label=label1,markersize=2,linewidth=1)\n",
    "ax.loglog(freqs2, zpsd2, '.-', label=label2,markersize=2,linewidth=1,alpha=0.5)\n",
    "\n",
    "ax.legend()\n",
    "ax.set_xlabel('Frequency [Hz]')\n",
    "ax.set_ylabel('PSD [a.u.]')#plt.xlim(100,175)\n",
    "#plt.ylim(1e5,1e10)\n",
    "plt.grid(True)\n",
    "ofname=folder+\"/Bead\"+str(BeadNumber)+\"/InitialTest\"+\"/DataZ%d_%d.png\" % (Compare_File_1,Compare_File_2)\n",
    "#ofname='/home/analysis_user/Results/Plots/20190724/NoBead/NoiseTest/PlotDataX%d_%d.png' %(Ndata1, Ndata2)\n",
    "#plt.savefig(ofname)\n",
    "#plt.savefig(\"Temporary_Plots/Anderson/\"+\"/DataZ%d_%d.png\" % (Compare_File_1,Compare_File_2))"
   ]
  },
  {
   "cell_type": "code",
   "execution_count": 152,
   "metadata": {},
   "outputs": [],
   "source": [
    "Year = \"2020\"\n",
    "Month = \"09\"\n",
    "Day = \"24\"\n",
    "BeadNumber =1\n",
    "folder = r\"/home/data_transfer/data_from_windows/\"+ Year + Month + Day"
   ]
  },
  {
   "cell_type": "code",
   "execution_count": 121,
   "metadata": {},
   "outputs": [
    {
     "name": "stdout",
     "output_type": "stream",
     "text": [
      "No height data\n",
      "No electrodes data\n",
      "No cantilever data\n",
      "No laser power data\n"
     ]
    }
   ],
   "source": [
    "Compare_File_1 = 52\n",
    "\n",
    "fname_1 = folder+\"/Bead\"+str(BeadNumber)+\"/InitialTest\"+\"/Data%d.h5\" % Compare_File_1\n",
    "res = 5000\n",
    "#fname_2 = folder+\"/Bead\"+str(BeadNumber)+\"/InitialTest\"+\"/Data%d.h5\" % Compare_File_2\n",
    "\n",
    "BDF = BeadDataFile.BeadDataFile(fname_1)\n",
    "data1 = BDF.xyz\n",
    "data_det1=signal.detrend(data1)\n",
    "xpsd1, freqs1 = matplotlib.mlab.psd(data_det1[0], Fs = fsamp, NFFT = res)\n",
    "ypsd1, freqs1 = matplotlib.mlab.psd(data_det1[1], Fs = fsamp, NFFT = res)\n",
    "zpsd1, freqs1 = matplotlib.mlab.psd(data_det1[2], Fs = fsamp, NFFT = res)\n",
    "\n",
    "\n",
    "\n",
    "#BDF = BeadDataFile.BeadDataFile(fname_2)\n",
    "#data2 = BDF.xyz2\n",
    "#data_det2=signal.detrend(data2)\n",
    "#xpsd2, freqs2 = matplotlib.mlab.psd(data_det2[0], Fs = fsamp, NFFT = res)\n",
    "#ypsd2, freqs2 = matplotlib.mlab.psd(data_det2[1], Fs = fsamp, NFFT = res)\n",
    "#zpsd2, freqs2 = matplotlib.mlab.psd(data_det2[2], Fs = fsamp, NFFT = res)\n"
   ]
  },
  {
   "cell_type": "code",
   "execution_count": 122,
   "metadata": {},
   "outputs": [
    {
     "data": {
      "application/vnd.jupyter.widget-view+json": {
       "model_id": "350671d0ce2c4a828d927bcf3bcb37bd",
       "version_major": 2,
       "version_minor": 0
      },
      "text/plain": [
       "Canvas(toolbar=Toolbar(toolitems=[('Home', 'Reset original view', 'home', 'home'), ('Back', 'Back to previous …"
      ]
     },
     "metadata": {},
     "output_type": "display_data"
    }
   ],
   "source": [
    "_,ax = plt.subplots()\n",
    "label1='Data%d,x' % Compare_File_1\n",
    "label2='Data%d,x' % Compare_File_2\n",
    "ax.loglog(freqs1, xpsd1, '.-', label=label1,markersize=2,linewidth=1)\n",
    "ax.loglog(freqs2, xpsd2, '.-', label=label2,markersize=2,linewidth=1,alpha=0.5)\n",
    "\n",
    "ax.legend()\n",
    "ax.set_xlabel('Frequency [Hz]')\n",
    "ax.set_ylabel('PSD [a.u.]')\n",
    "plt.xlim(1,2500)\n",
    "#plt.ylim(1e5,1e10)\n",
    "plt.grid(True)\n",
    "\n",
    "#ofname='../Documents/AkioK/Data%d.png' % Ndata\n",
    "#ofname='../Documents/AkioK/Discharge%d.png' % Ndata\n",
    "#ofname='../Documents/AkioK/TransFunc%d.png' % Ndata\n",
    "#ofname='../Documents/AkioK/Shaking%d.png' % Ndata\n",
    "ofname=folder+\"/Bead\"+str(BeadNumber)+\"/InitialTest\"+\"/DataX%d_%d.png\" % (Compare_File_1,Compare_File_2)\n",
    "#plt.savefig(ofname)"
   ]
  },
  {
   "cell_type": "code",
   "execution_count": 123,
   "metadata": {},
   "outputs": [
    {
     "data": {
      "application/vnd.jupyter.widget-view+json": {
       "model_id": "d95ee1103a044a90be34114a711b94b8",
       "version_major": 2,
       "version_minor": 0
      },
      "text/plain": [
       "Canvas(toolbar=Toolbar(toolitems=[('Home', 'Reset original view', 'home', 'home'), ('Back', 'Back to previous …"
      ]
     },
     "metadata": {},
     "output_type": "display_data"
    }
   ],
   "source": [
    "_,ax = plt.subplots()\n",
    "label1='Data%d,y' % Compare_File_1\n",
    "label2='Data%d,y' % Compare_File_2\n",
    "ax.loglog(freqs1, ypsd1, '.-', label=label1,markersize=2,linewidth=1)\n",
    "ax.loglog(freqs2, ypsd2, '.-', label=label2,markersize=2,linewidth=1,alpha=0.5)\n",
    "\n",
    "ax.legend()\n",
    "ax.set_xlabel('Frequency [Hz]')\n",
    "ax.set_ylabel('PSD [a.u.]')\n",
    "plt.xlim(1,2500)\n",
    "#plt.ylim(1e5,1e10)\n",
    "plt.grid(True)\n",
    "#ofname='/home/analysis_user/Results/Plots/20190724/NoBead/NoiseTest/PlotDataX%d_%d.png' %(Ndata1, Ndata2)\n",
    "ofname=folder+\"/Bead\"+str(BeadNumber)+\"/InitialTest\"+\"/DataY%d_%d.png\" % (Compare_File_1,Compare_File_2)\n",
    "#plt.savefig(ofname)"
   ]
  },
  {
   "cell_type": "code",
   "execution_count": 124,
   "metadata": {},
   "outputs": [
    {
     "data": {
      "application/vnd.jupyter.widget-view+json": {
       "model_id": "98037394f287491db04a38424d3b4bb4",
       "version_major": 2,
       "version_minor": 0
      },
      "text/plain": [
       "Canvas(toolbar=Toolbar(toolitems=[('Home', 'Reset original view', 'home', 'home'), ('Back', 'Back to previous …"
      ]
     },
     "metadata": {},
     "output_type": "display_data"
    }
   ],
   "source": [
    "_,ax = plt.subplots()\n",
    "label1='Data%d,z' % Compare_File_1\n",
    "label2='Data%d,z' % Compare_File_2\n",
    "ax.loglog(freqs1, zpsd1, '.-', label=label1,markersize=2,linewidth=1)\n",
    "ax.loglog(freqs2, zpsd2, '.-', label=label2,markersize=2,linewidth=1,alpha=0.5)\n",
    "\n",
    "ax.legend()\n",
    "ax.set_xlabel('Frequency [Hz]')\n",
    "ax.set_ylabel('PSD [a.u.]')#plt.xlim(100,175)\n",
    "#plt.ylim(1e5,1e10)\n",
    "plt.grid(True)\n",
    "ofname=folder+\"/Bead\"+str(BeadNumber)+\"/InitialTest\"+\"/DataZ%d_%d.png\" % (Compare_File_1,Compare_File_2)\n",
    "#ofname='/home/analysis_user/Results/Plots/20190724/NoBead/NoiseTest/PlotDataX%d_%d.png' %(Ndata1, Ndata2)\n",
    "#plt.savefig(\"Temporary_Plots/wilson_1406\")"
   ]
  },
  {
   "cell_type": "code",
   "execution_count": null,
   "metadata": {},
   "outputs": [],
   "source": []
  },
  {
   "cell_type": "code",
   "execution_count": null,
   "metadata": {},
   "outputs": [],
   "source": [
    "fname=\"/home/data_transfer/data_from_windows//Testdata/20200806/Discharge_6.h5\"\n",
    "# fname = r'/home/data_transfer/data_from_windows/Testdata/20200805/Discharge_4.h5'"
   ]
  },
  {
   "cell_type": "code",
   "execution_count": null,
   "metadata": {},
   "outputs": [],
   "source": [
    "BDF = BeadDataFile.BeadDataFile(fname)"
   ]
  },
  {
   "cell_type": "code",
   "execution_count": null,
   "metadata": {},
   "outputs": [],
   "source": [
    "data1=BDF.z2\n",
    "data2=BDF.Iz\n",
    "data3=BDF.xyz\n",
    "data4=BDF.feedback\n",
    "t = BDF.trigger\n",
    "index_ = np.nonzero(t)[0][0]"
   ]
  },
  {
   "cell_type": "code",
   "execution_count": null,
   "metadata": {},
   "outputs": [],
   "source": [
    "plt.plot(data1/data1.mean())\n",
    "# plt.plot(data2/data2.mean(),label=\"Iz\")\n",
    "plt.plot(data3[2][index_/data3[2].mean())\n",
    "# plt.plot(data4[2][index_:]/data4[2].mean(),label=\"z_fb \"+str(index_)+\" shift\")\n",
    "#plt.plot(data4[2]/data4[2].mean(),label=\"z_fb\")\n",
    "\n",
    "#plt.plot(t/50,label=\"trigger\")\n",
    "plt.xlim(0,12380)\n",
    "plt.legend()\n",
    "plt.show()"
   ]
  },
  {
   "cell_type": "code",
   "execution_count": null,
   "metadata": {},
   "outputs": [],
   "source": [
    "plt.plot(t)"
   ]
  },
  {
   "cell_type": "code",
   "execution_count": null,
   "metadata": {},
   "outputs": [],
   "source": [
    "t[224:315]"
   ]
  },
  {
   "cell_type": "code",
   "execution_count": null,
   "metadata": {},
   "outputs": [],
   "source": [
    "Compare_File_1 = 1\n",
    "Compare_File_2 = 2\n",
    "\n",
    "fname_1 = fname #folder+\"/Bead\"+str(BeadNumber)+\"/InitialTest\"+\"/Data%d.h5\" % Compare_File_1\n",
    "fname_2 = fname #folder+\"/Bead\"+str(BeadNumber)+\"/InitialTest\"+\"/Data%d.h5\" % Compare_File_2\n",
    "\n",
    "\n",
    "res = 5000\n",
    "\n",
    "BDF = BeadDataFile.BeadDataFile(fname_1)\n",
    "data1 = BDF.xyz\n",
    "data_det1=signal.detrend(data1)\n",
    "xpsd1, freqs1 = matplotlib.mlab.psd(data_det1[0], Fs = fsamp, NFFT = res)\n",
    "ypsd1, freqs1 = matplotlib.mlab.psd(data_det1[1], Fs = fsamp, NFFT = res)\n",
    "zpsd1, freqs1 = matplotlib.mlab.psd(data_det1[2], Fs = fsamp, NFFT = res)\n",
    "\n",
    "BDF = BeadDataFile.BeadDataFile(fname_2)\n",
    "data2 = BDF.xyz2\n",
    "data_det2=signal.detrend(data2)\n",
    "xpsd2, freqs2 = matplotlib.mlab.psd(data_det2[0], Fs = fsamp, NFFT = res)\n",
    "ypsd2, freqs2 = matplotlib.mlab.psd(data_det2[1], Fs = fsamp, NFFT = res)\n",
    "zpsd2, freqs2 = matplotlib.mlab.psd(data_det2[2], Fs = fsamp, NFFT = res)\n",
    "\n",
    "\n",
    "\n",
    "xpsd3, freqs1 = matplotlib.mlab.psd(data_det1[0][225:], Fs = fsamp, NFFT = res)\n",
    "ypsd3, freqs1 = matplotlib.mlab.psd(data_det1[1][225:], Fs = fsamp, NFFT = res)\n",
    "zpsd3, freqs1 = matplotlib.mlab.psd(data_det1[2][225:], Fs = fsamp, NFFT = res)\n",
    "\n",
    "BDF = BeadDataFile.BeadDataFile(fname_2)\n",
    "data_det2=signal.detrend(data2)\n",
    "xpsd4, freqs4 = matplotlib.mlab.psd(data_det2[0][225:], Fs = fsamp, NFFT = res)\n",
    "ypsd4, freqs4 = matplotlib.mlab.psd(data_det2[1][225:], Fs = fsamp, NFFT = res)\n",
    "zpsd4, freqs4 = matplotlib.mlab.psd(data_det2[2][225:], Fs = fsamp, NFFT = res)"
   ]
  },
  {
   "cell_type": "code",
   "execution_count": null,
   "metadata": {},
   "outputs": [],
   "source": [
    "_,ax = plt.subplots()\n",
    "label1='Data%d,x' % Compare_File_1\n",
    "label2='Data%d,x' % Compare_File_2\n",
    "ax.loglog(freqs1, xpsd1/xpsd1.mean(), '.-', label=\"xyz\",markersize=2,linewidth=1)\n",
    "ax.loglog(freqs2, xpsd2/xpsd2.mean(), '.-', label=\"xyz2\",markersize=2,linewidth=1,alpha=0.5)\n",
    "ax.loglog(freqs4, xpsd3/xpsd3.mean(), '.-', label=\"xyz shifted\",markersize=2,linewidth=1,alpha=0.5)\n",
    "ax.loglog(freqs4, xpsd4/xpsd4.mean(), '.-', label=\"xyz2 shifted\",markersize=2,linewidth=1,alpha=0.5)\n",
    "\n",
    "\n",
    "ax.legend()\n",
    "ax.set_xlabel('Frequency [Hz]')\n",
    "ax.set_ylabel('PSD [a.u.]')\n",
    "plt.xlim(1,2500)\n",
    "#plt.ylim(1e5,1e10)\n",
    "plt.grid(True)\n",
    "\n",
    "#ofname='../Documents/AkioK/Data%d.png' % Ndata\n",
    "#ofname='../Documents/AkioK/Discharge%d.png' % Ndata\n",
    "#ofname='../Documents/AkioK/TransFunc%d.png' % Ndata\n",
    "#ofname='../Documents/AkioK/Shaking%d.png' % Ndata\n",
    "#ofname=folder+\"/Bead\"+str(BeadNumber)+\"/InitialTest\"+\"/DataX%d_%d.png\" % (Compare_File_1,Compare_File_2)\n",
    "#plt.savefig(\"Temporary_Plots/Anderson/\"+\"/DataX%d_%d.png\" % (Compare_File_1,Compare_File_2))"
   ]
  },
  {
   "cell_type": "code",
   "execution_count": null,
   "metadata": {},
   "outputs": [],
   "source": []
  }
 ],
 "metadata": {
  "kernelspec": {
   "display_name": "Python 3",
   "language": "python",
   "name": "python3"
  },
  "language_info": {
   "codemirror_mode": {
    "name": "ipython",
    "version": 3
   },
   "file_extension": ".py",
   "mimetype": "text/x-python",
   "name": "python",
   "nbconvert_exporter": "python",
   "pygments_lexer": "ipython3",
   "version": "3.6.9"
  },
  "widgets": {
   "application/vnd.jupyter.widget-state+json": {
    "state": {
     "1f635c90567a4166bda49bbc557a28e4": {
      "model_module": "jupyter-matplotlib",
      "model_module_version": "^0.7.3",
      "model_name": "MPLCanvasModel",
      "state": {
       "_cursor": "default",
       "_figure_label": "Figure 1",
       "_height": 480,
       "_image_mode": "diff",
       "_message": "zoom rect",
       "_rubberband_y": 480,
       "_width": 640,
       "layout": "IPY_MODEL_c46ecd7274014080aa1b02c2a9005705",
       "toolbar": "IPY_MODEL_278648b1cb9d46049ad358d8f0ff821a",
       "toolbar_position": "left"
      }
     },
     "278648b1cb9d46049ad358d8f0ff821a": {
      "model_module": "jupyter-matplotlib",
      "model_module_version": "^0.7.3",
      "model_name": "ToolbarModel",
      "state": {
       "_current_action": "zoom",
       "layout": "IPY_MODEL_6e74667842f94cd3890501f51e3295de",
       "toolitems": [
        [
         "Home",
         "Reset original view",
         "home",
         "home"
        ],
        [
         "Back",
         "Back to previous view",
         "arrow-left",
         "back"
        ],
        [
         "Forward",
         "Forward to next view",
         "arrow-right",
         "forward"
        ],
        [
         "Pan",
         "Left button pans, Right button zooms\nx/y fixes axis, CTRL fixes aspect",
         "arrows",
         "pan"
        ],
        [
         "Zoom",
         "Zoom to rectangle\nx/y fixes axis, CTRL fixes aspect",
         "square-o",
         "zoom"
        ],
        [
         "Download",
         "Download plot",
         "floppy-o",
         "save_figure"
        ]
       ]
      }
     },
     "6e74667842f94cd3890501f51e3295de": {
      "model_module": "@jupyter-widgets/base",
      "model_module_version": "1.2.0",
      "model_name": "LayoutModel",
      "state": {}
     },
     "c46ecd7274014080aa1b02c2a9005705": {
      "model_module": "@jupyter-widgets/base",
      "model_module_version": "1.2.0",
      "model_name": "LayoutModel",
      "state": {}
     }
    },
    "version_major": 2,
    "version_minor": 0
   }
  }
 },
 "nbformat": 4,
 "nbformat_minor": 4
}
