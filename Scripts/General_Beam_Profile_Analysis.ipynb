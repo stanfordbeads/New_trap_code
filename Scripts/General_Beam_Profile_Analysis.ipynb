{
 "cells": [
  {
   "cell_type": "code",
   "execution_count": 1,
   "metadata": {},
   "outputs": [],
   "source": [
    "# import stuff\n",
    "import numpy as np\n",
    "import matplotlib.pyplot as plt\n",
    "import matplotlib\n",
    "import scipy\n",
    "from scipy import signal\n",
    "import h5py, time\n",
    "from iminuit import Minuit, describe\n",
    "from pprint import pprint # we use this to pretty print some stuff later\n",
    "\n",
    "import sys\n",
    "sys.path.append('/home/analysis_user/New_trap_code/Tools/')\n",
    "import BeadDataFile\n",
    "from discharge_tools import load_dir"
   ]
  },
  {
   "cell_type": "code",
   "execution_count": 2,
   "metadata": {},
   "outputs": [],
   "source": [
    "def shift_correct(input_pos,idx):\n",
    "    output_pos = np.insert(input_pos,0,np.linspace(0,0,idx))\n",
    "    return output_pos\n",
    "\n",
    "def gaussian(data_x,params=list):\n",
    "    norm = (1/((1/2*params[2])*np.sqrt(np.pi * 2)))\n",
    "    return params[0] * norm * np.exp(-(np.subtract(data_x,params[1])**2/(2*params[2]**2)))+params[3]\n",
    "\n",
    "def gaussian_cdf(data_x,params=list):\n",
    "    # for normalization a 1/sigma could be needed\n",
    "    return params[0]*0.5*(1+scipy.special.erf((data_x-params[1])/(np.sqrt(2)*params[2])))+params[3]\n",
    "\n",
    "def linear(data_x,params=list):\n",
    "    return params[0]*data_x+params[1]\n",
    "\n",
    "def chisquare_1d(function, functionparams, data_x, data_y,data_y_error):\n",
    "    chisquarevalue=np.sum(np.power(np.divide(np.subtract(function(data_x,functionparams),data_y),data_y_error),2))\n",
    "    ndf = len(data_y)-len(functionparams)\n",
    "    #print(ndf)\n",
    "    return (chisquarevalue, ndf)\n",
    "\n",
    "def chisquare_linear(a,b):\n",
    "    return chisquare_1d(function=linear,functionparams=[a,b],data_x=data_x,data_y=data_y,data_y_error=data_y_error)[0]\n",
    "\n",
    "def chisquare_gaussian(area,mean,sigma,constant):\n",
    "    return chisquare_1d(function=gaussian,functionparams=[area,mean,sigma,constant],data_x=data_x,data_y=data_y,data_y_error=data_y_error)[0]\n",
    "\n",
    "def chisquare_gaussian_cdf(amp,mean,sigma,constant):\n",
    "    return chisquare_1d(function=gaussian_cdf,functionparams=[amp,mean,sigma,constant],data_x=data_x,data_y=data_y,data_y_error=data_y_error)[0]"
   ]
  },
  {
   "cell_type": "code",
   "execution_count": 3,
   "metadata": {},
   "outputs": [
    {
     "name": "stdout",
     "output_type": "stream",
     "text": [
      "------------------------------------------------------------------\n",
      "| FCN = 1.815                   |      Ncalls=35 (35 total)      |\n",
      "| EDM = 1.22E-11 (Goal: 1E-05)  |            up = 1.0            |\n",
      "------------------------------------------------------------------\n",
      "|  Valid Min.   | Valid Param.  | Above EDM | Reached call limit |\n",
      "------------------------------------------------------------------\n",
      "|     True      |     True      |   False   |       False        |\n",
      "------------------------------------------------------------------\n",
      "| Hesse failed  |   Has cov.    | Accurate  | Pos. def. | Forced |\n",
      "------------------------------------------------------------------\n",
      "|     False     |     True      |   True    |   True    | False  |\n",
      "------------------------------------------------------------------\n",
      "0.019834000085488412 -0.0015000315197539749\n"
     ]
    },
    {
     "name": "stderr",
     "output_type": "stream",
     "text": [
      "/usr/lib/python3/dist-packages/ipykernel_launcher.py:11: InitialParamWarning: Parameter a is floating but does not have initial step size. Assume 1.\n",
      "  # This is added back by InteractiveShellApp.init_path()\n",
      "/usr/lib/python3/dist-packages/ipykernel_launcher.py:11: InitialParamWarning: Parameter b is floating but does not have initial step size. Assume 1.\n",
      "  # This is added back by InteractiveShellApp.init_path()\n"
     ]
    },
    {
     "data": {
      "text/plain": [
       "[<matplotlib.lines.Line2D at 0x7fc41f8931d0>]"
      ]
     },
     "execution_count": 3,
     "metadata": {},
     "output_type": "execute_result"
    },
    {
     "data": {
      "image/png": "[encoded data removed]",
      "text/plain": [
       "<Figure size 432x288 with 1 Axes>"
      ]
     },
     "metadata": {},
     "output_type": "display_data"
    }
   ],
   "source": [
    "pos_list=np.asarray([-0.007,4.968,9.91])\n",
    "y_err=np.asarray([0.01,0.01,0.01])\n",
    "val = np.asarray([0,250,500])\n",
    "data_x=val\n",
    "data_y=pos_list\n",
    "data_y_error=y_err\n",
    "m2=Minuit(chisquare_linear, \n",
    "     a = 100,\n",
    "     b=0,\n",
    "     errordef = 1,\n",
    "     print_level=1)\n",
    "\n",
    "m2.migrad()\n",
    "\n",
    "print(m2.values[\"a\"],m2.values[\"b\"])\n",
    "plt.plot(val,pos_list)\n",
    "plt.plot(val,m2.values[\"a\"]*val+m2.values[\"b\"])"
   ]
  },
  {
   "cell_type": "code",
   "execution_count": 4,
   "metadata": {},
   "outputs": [],
   "source": [
    "# calibration of the voltage - position conversion\n",
    "\n",
    "def voltage_to_position(voltage,slope=0.019834000085488412,offset=-0.0015000315197539749,redo=False):\n",
    "    if(redo==True):\n",
    "        pos_list=np.asarray([-0.007,4.968,9.91])\n",
    "        y_err=np.asarray([0.01,0.01,0.01])\n",
    "        val = np.asarray([0,250,500])\n",
    "        data_x=val\n",
    "        data_y=pos_list\n",
    "        data_y_error=y_err\n",
    "        m2=Minuit(chisquare_linear, \n",
    "             a = 100,\n",
    "             b=0,\n",
    "             errordef = 1,\n",
    "             print_level=1)\n",
    "        m2.migrad()\n",
    "        print(m2.values[\"a\"],m2.values[\"b\"])\n",
    "        plt.plot(val,pos_list,marker=\"*\")\n",
    "        plt.plot(val,m2.values[\"a\"]*val+m2.values[\"b\"])\n",
    "        slope = m2.values[\"a\"]\n",
    "        offset = m2.values[\"b\"]\n",
    "    position=(voltage-offset)/slope\n",
    "    return position"
   ]
  },
  {
   "cell_type": "code",
   "execution_count": 9,
   "metadata": {},
   "outputs": [
    {
     "name": "stdout",
     "output_type": "stream",
     "text": [
      "3  files in folder\n",
      "3  files loaded\n"
     ]
    }
   ],
   "source": [
    "# load the data\n",
    "Day = \"24\"\n",
    "Month = \"10\"\n",
    "Year = \"2019\"\n",
    "BeadNumber = 1\n",
    "#RunNumber = 144\n",
    "folder =  r\"/home/data_transfer/data_from_windows/\" + Year + Month + Day +\"/Bead\"+str(BeadNumber)+\"/Shaking/\"\n",
    "#folder =  r\"/home/data_transfer/data_from_windows/\" + Year + Month + Day +\"/NoBead\"+\"/Shaking/\"\n",
    "files = load_dir(folder, file_prefix = 'BeamProfile', max_file=500)\n",
    "pos_x = files[0].cant_pos[0]\n",
    "pos_y = files[0].cant_pos[1]\n",
    "pos_z = files[0].cant_pos[2]\n",
    "quad_sum = files[0].quad_sum\n"
   ]
  },
  {
   "cell_type": "code",
   "execution_count": 10,
   "metadata": {},
   "outputs": [
    {
     "data": {
      "text/plain": [
       "50000"
      ]
     },
     "execution_count": 10,
     "metadata": {},
     "output_type": "execute_result"
    }
   ],
   "source": [
    "len(quad_sum)"
   ]
  },
  {
   "cell_type": "code",
   "execution_count": 27,
   "metadata": {},
   "outputs": [],
   "source": [
    "def get_average_mean_position(file_list):\n",
    "    position_list = []\n",
    "    \n",
    "    def chisquare_gaussian_cdf(amp,mean,sigma,constant):\n",
    "        return chisquare_1d(function=gaussian_cdf,functionparams=[amp,mean,sigma,constant],data_x=data_x,data_y=data_y,data_y_error=data_y_error)[0]\n",
    "    \n",
    "    for i in np.arange(0,len(file_list),1):#len(file_list),1):\n",
    "        print(i)\n",
    "        data_x = file_list[i].cant_pos[0] # give x data\n",
    "        data_y = file_list[i].quad_sum# give y data \n",
    "        data_y_error = np.sqrt(np.abs(data_y)) # give y uncertainty  \n",
    "        m=Minuit(chisquare_gaussian_cdf, \n",
    "         amp = -1.6e9, # set start parameter\n",
    "         #limit_area= (limit_lower,limit_upper) # if you want to limit things\n",
    "         #limit_amp = (-3e-9,-1.5e-9), # you can also fix it\n",
    "         mean = 7.9,\n",
    "         #fix_mean = \"True\",\n",
    "         #limit_mean = (3500,4500),\n",
    "         sigma = 0.3e-1,\n",
    "         constant = 1.0e9,\n",
    "         #fix_constant=\"True\",\n",
    "         errordef = 1,\n",
    "         print_level=0,pedantic=False)\n",
    "         #print('Now proceed with the fit.')\n",
    "        m.migrad(ncall=500000)\n",
    "        print(m.values[\"amp\"])\n",
    "        position_list.append(voltage_to_position(m.values[\"mean\"]))\n",
    "        plt.plot(voltage_to_position(data_x),data_y)\n",
    "        plt.plot(voltage_to_position(data_x),gaussian_cdf(data_x,params=[m.values[\"amp\"],(m.values[\"mean\"]),m.values[\"sigma\"],m.values[\"constant\"]]))\n",
    "        plt.show() \n",
    "    return position_list,np.mean(position_list),np.std(position_list)\n"
   ]
  },
  {
   "cell_type": "code",
   "execution_count": 28,
   "metadata": {},
   "outputs": [
    {
     "name": "stdout",
     "output_type": "stream",
     "text": [
      "0\n",
      "-1600000000.0\n"
     ]
    },
    {
     "data": {
      "image/png": "[encoded data removed]",
      "text/plain": [
       "<Figure size 432x288 with 1 Axes>"
      ]
     },
     "metadata": {},
     "output_type": "display_data"
    },
    {
     "name": "stdout",
     "output_type": "stream",
     "text": [
      "1\n",
      "-1639256480.4090414\n"
     ]
    },
    {
     "data": {
      "image/png": "[encoded data removed]",
      "text/plain": [
       "<Figure size 432x288 with 1 Axes>"
      ]
     },
     "metadata": {},
     "output_type": "display_data"
    },
    {
     "name": "stdout",
     "output_type": "stream",
     "text": [
      "2\n",
      "-1603735810.7811334\n"
     ]
    },
    {
     "data": {
      "image/png": "[encoded data removed]",
      "text/plain": [
       "<Figure size 432x288 with 1 Axes>"
      ]
     },
     "metadata": {},
     "output_type": "display_data"
    },
    {
     "data": {
      "text/plain": [
       "([398.38156687822664, 416.4573244709749, 416.5387424359873],\n",
       " 410.45921126172954,\n",
       " 8.540248927364566)"
      ]
     },
     "execution_count": 28,
     "metadata": {},
     "output_type": "execute_result"
    }
   ],
   "source": [
    "get_average_mean_position(files[0:3])"
   ]
  },
  {
   "cell_type": "code",
   "execution_count": 24,
   "metadata": {},
   "outputs": [
    {
     "ename": "NameError",
     "evalue": "name 'm' is not defined",
     "output_type": "error",
     "traceback": [
      "\u001b[0;31m---------------------------------------------------------------------------\u001b[0m",
      "\u001b[0;31mNameError\u001b[0m                                 Traceback (most recent call last)",
      "\u001b[0;32m<ipython-input-24-e35250d6415e>\u001b[0m in \u001b[0;36m<module>\u001b[0;34m()\u001b[0m\n\u001b[0;32m----> 1\u001b[0;31m \u001b[0mprint\u001b[0m\u001b[0;34m(\u001b[0m\u001b[0mm\u001b[0m\u001b[0;34m.\u001b[0m\u001b[0mvalues\u001b[0m\u001b[0;34m[\u001b[0m\u001b[0;36m2\u001b[0m\u001b[0;34m:\u001b[0m\u001b[0;36m3\u001b[0m\u001b[0;34m]\u001b[0m\u001b[0;34m)\u001b[0m\u001b[0;34m\u001b[0m\u001b[0;34m\u001b[0m\u001b[0m\n\u001b[0m",
      "\u001b[0;31mNameError\u001b[0m: name 'm' is not defined"
     ]
    }
   ],
   "source": [
    "print(m.values[2:3])"
   ]
  },
  {
   "cell_type": "code",
   "execution_count": 25,
   "metadata": {},
   "outputs": [],
   "source": [
    "# to do\n",
    "# chi2 criterion to use or not use a fit\n",
    "# linear fit to all of them? \n",
    "# proper uncertainties"
   ]
  },
  {
   "cell_type": "code",
   "execution_count": null,
   "metadata": {},
   "outputs": [],
   "source": []
  }
 ],
 "metadata": {
  "kernelspec": {
   "display_name": "Python 3",
   "language": "python",
   "name": "python3"
  },
  "language_info": {
   "codemirror_mode": {
    "name": "ipython",
    "version": 3
   },
   "file_extension": ".py",
   "mimetype": "text/x-python",
   "name": "python",
   "nbconvert_exporter": "python",
   "pygments_lexer": "ipython3",
   "version": "3.6.8"
  }
 },
 "nbformat": 4,
 "nbformat_minor": 2
}
