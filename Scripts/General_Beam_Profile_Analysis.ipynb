{
 "cells": [
  {
   "cell_type": "code",
   "execution_count": 45,
   "metadata": {},
   "outputs": [],
   "source": [
    "# import stuff\n",
    "import numpy as np\n",
    "import matplotlib.pyplot as plt\n",
    "import matplotlib\n",
    "import scipy\n",
    "from scipy import signal\n",
    "import h5py, time\n",
    "from iminuit import Minuit, describe\n",
    "from pprint import pprint # we use this to pretty print some stuff later\n",
    "\n",
    "import sys\n",
    "sys.path.append('/home/analysis_user/New_trap_code/Tools/')\n",
    "import BeadDataFile\n",
    "from discharge_tools import load_dir"
   ]
  },
  {
   "cell_type": "code",
   "execution_count": 46,
   "metadata": {},
   "outputs": [],
   "source": [
    "def shift_correct(input_pos,idx):\n",
    "    output_pos = np.insert(input_pos,0,np.linspace(0,0,idx))\n",
    "    return output_pos\n",
    "\n",
    "def gaussian(data_x,params=list):\n",
    "    norm = (1/((1/2*params[2])*np.sqrt(np.pi * 2)))\n",
    "    return params[0] * norm * np.exp(-(np.subtract(data_x,params[1])**2/(2*params[2]**2)))+params[3]\n",
    "\n",
    "def gaussian_cdf(data_x,params=list):\n",
    "    # for normalization a 1/sigma could be needed\n",
    "    return params[0]*0.5*(1+scipy.special.erf((data_x-params[1])/(np.sqrt(2)*params[2])))+params[3]\n",
    "\n",
    "def linear(data_x,params=list):\n",
    "    return params[0]*data_x+params[1]\n",
    "\n",
    "def chisquare_1d(function, functionparams, data_x, data_y,data_y_error):\n",
    "    chisquarevalue=np.sum(np.power(np.divide(np.subtract(function(data_x,functionparams),data_y),data_y_error),2))\n",
    "    ndf = len(data_y)-len(functionparams)\n",
    "    #print(ndf)\n",
    "    return (chisquarevalue, ndf)\n",
    "\n",
    "def chisquare_linear(a,b):\n",
    "    return chisquare_1d(function=linear,functionparams=[a,b],data_x=data_x,data_y=data_y,data_y_error=data_y_error)[0]\n",
    "\n",
    "def chisquare_gaussian(area,mean,sigma,constant):\n",
    "    return chisquare_1d(function=gaussian,functionparams=[area,mean,sigma,constant],data_x=data_x,data_y=data_y,data_y_error=data_y_error)[0]\n",
    "\n",
    "def chisquare_gaussian_cdf(amp,mean,sigma,constant):\n",
    "    return chisquare_1d(function=gaussian_cdf,functionparams=[amp,mean,sigma,constant],data_x=data_x,data_y=data_y,data_y_error=data_y_error)[0]"
   ]
  },
  {
   "cell_type": "code",
   "execution_count": 47,
   "metadata": {
    "scrolled": true
   },
   "outputs": [
    {
     "name": "stdout",
     "output_type": "stream",
     "text": [
      "------------------------------------------------------------------\n",
      "| FCN = 1.815                   |      Ncalls=35 (35 total)      |\n",
      "| EDM = 1.22E-11 (Goal: 1E-05)  |            up = 1.0            |\n",
      "------------------------------------------------------------------\n",
      "|  Valid Min.   | Valid Param.  | Above EDM | Reached call limit |\n",
      "------------------------------------------------------------------\n",
      "|     True      |     True      |   False   |       False        |\n",
      "------------------------------------------------------------------\n",
      "| Hesse failed  |   Has cov.    | Accurate  | Pos. def. | Forced |\n",
      "------------------------------------------------------------------\n",
      "|     False     |     True      |   True    |   True    | False  |\n",
      "------------------------------------------------------------------\n",
      "0.019834000085488412 -0.0015000315197539749\n"
     ]
    },
    {
     "name": "stderr",
     "output_type": "stream",
     "text": [
      "/usr/local/lib/python3.6/dist-packages/ipykernel_launcher.py:11: InitialParamWarning: Parameter a is floating but does not have initial step size. Assume 1.\n",
      "  # This is added back by InteractiveShellApp.init_path()\n",
      "/usr/local/lib/python3.6/dist-packages/ipykernel_launcher.py:11: InitialParamWarning: Parameter b is floating but does not have initial step size. Assume 1.\n",
      "  # This is added back by InteractiveShellApp.init_path()\n"
     ]
    },
    {
     "data": {
      "text/plain": [
       "[<matplotlib.lines.Line2D at 0x7f5173d405c0>]"
      ]
     },
     "execution_count": 47,
     "metadata": {},
     "output_type": "execute_result"
    },
    {
     "data": {
      "image/png": "[encoded data removed]",
      "text/plain": [
       "<Figure size 432x288 with 1 Axes>"
      ]
     },
     "metadata": {
      "needs_background": "light"
     },
     "output_type": "display_data"
    }
   ],
   "source": [
    "pos_list=np.asarray([-0.007,4.968,9.91])\n",
    "y_err=np.asarray([0.01,0.01,0.01])\n",
    "val = np.asarray([0,250,500])\n",
    "data_x=val\n",
    "data_y=pos_list\n",
    "data_y_error=y_err\n",
    "m2=Minuit(chisquare_linear, \n",
    "     a = 100,\n",
    "     b=0,\n",
    "     errordef = 1,\n",
    "     print_level=1)\n",
    "\n",
    "m2.migrad()\n",
    "\n",
    "print(m2.values[\"a\"],m2.values[\"b\"])\n",
    "plt.plot(val,pos_list)\n",
    "plt.plot(val,m2.values[\"a\"]*val+m2.values[\"b\"])"
   ]
  },
  {
   "cell_type": "code",
   "execution_count": 48,
   "metadata": {},
   "outputs": [],
   "source": [
    "# calibration of the voltage - position conversion\n",
    "\n",
    "def voltage_to_position(voltage,slope=0.019834000085488412,offset=-0.0015000315197539749,redo=False):\n",
    "    if(redo==True):\n",
    "        pos_list=np.asarray([-0.007,4.968,9.91])\n",
    "        y_err=np.asarray([0.01,0.01,0.01])\n",
    "        val = np.asarray([0,250,500])\n",
    "        data_x=val\n",
    "        data_y=pos_list\n",
    "        data_y_error=y_err\n",
    "        m2=Minuit(chisquare_linear, \n",
    "             a = 100,\n",
    "             b=0,\n",
    "             errordef = 1,\n",
    "             print_level=1)\n",
    "        m2.migrad()\n",
    "        print(m2.values[\"a\"],m2.values[\"b\"])\n",
    "        plt.plot(val,pos_list,marker=\"*\")\n",
    "        plt.plot(val,m2.values[\"a\"]*val+m2.values[\"b\"])\n",
    "        slope = m2.values[\"a\"]\n",
    "        offset = m2.values[\"b\"]\n",
    "    position=(voltage-offset)/slope\n",
    "    return position"
   ]
  },
  {
   "cell_type": "code",
   "execution_count": 114,
   "metadata": {},
   "outputs": [
    {
     "name": "stdout",
     "output_type": "stream",
     "text": [
      "1  files in folder\n",
      "1  files loaded\n"
     ]
    }
   ],
   "source": [
    "# load the data\n",
    "Day = \"25\"\n",
    "Month = \"05\"\n",
    "Year = \"2020\"\n",
    "BeadNumber = 2\n",
    "#RunNumber = 144\n",
    "folder =  r\"/home/data_transfer/data_from_windows/\" + Year + Month + Day +\"/Bead\"+str(BeadNumber)+\"/Shaking/\"\n",
    "#folder =  r\"/home/data_transfer/data_from_windows/\" + Year + Month + Day +\"/NoBead\"+\"/Shaking/\"\n",
    "#folder =  r\"/home/data_transfer/data_from_windows/\" + Year + Month + Day + \"/BeamProfile/\"\n",
    "files = load_dir(folder, file_prefix = 'BeamProfile2_', max_file=500)\n",
    "pos_x = files[0].cant_pos[0]\n",
    "pos_y = files[0].cant_pos[1]\n",
    "pos_z = files[0].cant_pos[2]\n",
    "quad_sum = files[0].quad_sum\n"
   ]
  },
  {
   "cell_type": "code",
   "execution_count": 115,
   "metadata": {},
   "outputs": [],
   "source": [
    "#Beam Profile for X with QPD\n",
    "def get_average_mean_position(file_list):\n",
    "    position_list = []\n",
    "    sigma_list=[]\n",
    "    def chisquare_gaussian_cdf(amp,mean,sigma,constant):\n",
    "        return chisquare_1d(function=gaussian_cdf,functionparams=[amp,mean,sigma,constant],data_x=data_x,data_y=data_y,data_y_error=data_y_error)[0]\n",
    "    \n",
    "    for i in np.arange(0,len(file_list),1):#len(file_list),1):\n",
    "        print(i)\n",
    "        data_x = file_list[i].cant_pos[1] # give x data\n",
    "        data_y = file_list[i].quad_sum# give y data \n",
    "        data_y_error = np.sqrt(np.abs(data_y)) # give y uncertainty  \n",
    "        m=Minuit(chisquare_gaussian_cdf, \n",
    "         amp = 1.9e9, # set start parameter\n",
    "         #limit_area= (limit_lower,limit_upper) # if you want to limit things\n",
    "         #limit_amp = (-3e-9,-1.5e-9), # you can also fix it\n",
    "         mean = 7.9,\n",
    "         #fix_mean = \"True\",\n",
    "         #limit_mean = (3500,4500),\n",
    "         sigma = 0.3e-1,\n",
    "         limit_sigma=(0,1),        \n",
    "         constant = 739889080,\n",
    "         #fix_constant=\"True\",\n",
    "         errordef = 1,\n",
    "         print_level=0,pedantic=False)\n",
    "         #print('Now proceed with the fit.')\n",
    "        m.migrad(ncall=500000)\n",
    "        print(m.values[\"amp\"])\n",
    "        position_list.append(voltage_to_position(m.values[\"mean\"]))\n",
    "        sigma_list.append(m.values[\"sigma\"])\n",
    "        plt.plot(voltage_to_position(data_x),data_y)\n",
    "        #plt.yscale(\"log\")\n",
    "        plt.plot(voltage_to_position(data_x),gaussian_cdf(data_x,params=[m.values[\"amp\"],(m.values[\"mean\"]),m.values[\"sigma\"],m.values[\"constant\"]]),alpha=1)\n",
    "        plt.show() \n",
    "    return position_list,np.mean(position_list),np.std(position_list),sigma_list\n"
   ]
  },
  {
   "cell_type": "code",
   "execution_count": 116,
   "metadata": {
    "scrolled": true
   },
   "outputs": [
    {
     "name": "stdout",
     "output_type": "stream",
     "text": [
      "0\n",
      "2036899795.0856628\n"
     ]
    },
    {
     "data": {
      "image/png": "[encoded data removed]",
      "text/plain": [
       "<Figure size 432x288 with 1 Axes>"
      ]
     },
     "metadata": {
      "needs_background": "light"
     },
     "output_type": "display_data"
    }
   ],
   "source": [
    "fit = get_average_mean_position(files)"
   ]
  },
  {
   "cell_type": "code",
   "execution_count": 117,
   "metadata": {},
   "outputs": [
    {
     "data": {
      "text/plain": [
       "[443.0339337022685]"
      ]
     },
     "execution_count": 117,
     "metadata": {},
     "output_type": "execute_result"
    }
   ],
   "source": [
    "fit[0]"
   ]
  },
  {
   "cell_type": "code",
   "execution_count": 118,
   "metadata": {},
   "outputs": [
    {
     "name": "stdout",
     "output_type": "stream",
     "text": [
      "([443.0339337022685], 443.0339337022685, 0.0, [0.043868579918482364])\n"
     ]
    }
   ],
   "source": [
    "print(fit)"
   ]
  },
  {
   "cell_type": "code",
   "execution_count": 142,
   "metadata": {},
   "outputs": [
    {
     "name": "stdout",
     "output_type": "stream",
     "text": [
      "1  files in folder\n",
      "1  files loaded\n"
     ]
    }
   ],
   "source": [
    "# load the data\n",
    "Day = \"25\"\n",
    "Month = \"05\"\n",
    "Year = \"2020\"\n",
    "BeadNumber = 2\n",
    "#RunNumber = 144\n",
    "folder =  r\"/home/data_transfer/data_from_windows/\" + Year + Month + Day +\"/Bead\"+str(BeadNumber)+\"/Shaking/\"\n",
    "#folder =  r\"/home/data_transfer/data_from_windows/\" + Year + Month + Day +\"/NoBead\"+\"/Shaking/\"\n",
    "#folder =  r\"/home/data_transfer/data_from_windows/\" + Year + Month + Day + \"/BeamProfile/\"\n",
    "files = load_dir(folder, file_prefix = 'BeamProfile2_', max_file=500)\n",
    "pos_x = files[0].cant_pos[0]\n",
    "pos_y = files[0].cant_pos[1]\n",
    "pos_z = files[0].cant_pos[2]\n",
    "quad_sum = files[0].spin_data\n"
   ]
  },
  {
   "cell_type": "code",
   "execution_count": 147,
   "metadata": {},
   "outputs": [],
   "source": [
    "#Beam Profile for X with spin\n",
    "def get_average_mean_position(file_list):\n",
    "    position_list = []\n",
    "    sigma_list=[]\n",
    "    def chisquare_gaussian_cdf(amp,mean,sigma,constant):\n",
    "        return chisquare_1d(function=gaussian_cdf,functionparams=[amp,mean,sigma,constant],data_x=data_x,data_y=data_y,data_y_error=data_y_error)[0]\n",
    "    \n",
    "    for i in np.arange(0,len(file_list),1):#len(file_list),1):\n",
    "        print(i)\n",
    "        data_x = file_list[i].cant_pos[1] # give x data\n",
    "        data_y = file_list[i].spin_data # give y data \n",
    "        data_y_error = np.sqrt(np.abs(data_y)) # give y uncertainty  \n",
    "        m=Minuit(chisquare_gaussian_cdf, \n",
    "         amp = -1, # set start parameter\n",
    "         #limit_area= (limit_lower,limit_upper) # if you want to limit things\n",
    "         #limit_amp = (-3e-9,-1.5e-9), # you can also fix it\n",
    "         mean = 7.9,\n",
    "         #fix_mean = \"True\",\n",
    "         #limit_mean = (3500,4500),\n",
    "         sigma = 0.3e-1,\n",
    "         limit_sigma=(0,1),        \n",
    "         constant = 0,\n",
    "         #fix_constant=\"True\",\n",
    "         errordef = 1,\n",
    "         print_level=0,pedantic=False)\n",
    "         #print('Now proceed with the fit.')\n",
    "        m.migrad(ncall=500000)\n",
    "        print(m.values[\"amp\"])\n",
    "        position_list.append(voltage_to_position(m.values[\"mean\"]))\n",
    "        sigma_list.append(m.values[\"sigma\"])\n",
    "        plt.plot(voltage_to_position(data_x),data_y)\n",
    "        #plt.yscale(\"log\")\n",
    "        plt.plot(voltage_to_position(data_x),gaussian_cdf(data_x,params=[m.values[\"amp\"],(m.values[\"mean\"]),m.values[\"sigma\"],m.values[\"constant\"]]),alpha=1)\n",
    "        plt.show() \n",
    "    return position_list,np.mean(position_list),np.std(position_list),sigma_list\n"
   ]
  },
  {
   "cell_type": "code",
   "execution_count": 148,
   "metadata": {
    "scrolled": false
   },
   "outputs": [
    {
     "name": "stdout",
     "output_type": "stream",
     "text": [
      "0\n",
      "-1.0291624402211583\n"
     ]
    },
    {
     "data": {
      "image/png": "[encoded data removed]",
      "text/plain": [
       "<Figure size 432x288 with 1 Axes>"
      ]
     },
     "metadata": {
      "needs_background": "light"
     },
     "output_type": "display_data"
    }
   ],
   "source": [
    "fit = get_average_mean_position(files)"
   ]
  },
  {
   "cell_type": "code",
   "execution_count": 149,
   "metadata": {},
   "outputs": [
    {
     "data": {
      "text/plain": [
       "[442.618849066527]"
      ]
     },
     "execution_count": 149,
     "metadata": {},
     "output_type": "execute_result"
    }
   ],
   "source": [
    "fit[0]"
   ]
  },
  {
   "cell_type": "code",
   "execution_count": null,
   "metadata": {},
   "outputs": [],
   "source": []
  },
  {
   "cell_type": "code",
   "execution_count": null,
   "metadata": {},
   "outputs": [],
   "source": []
  },
  {
   "cell_type": "code",
   "execution_count": null,
   "metadata": {},
   "outputs": [],
   "source": []
  },
  {
   "cell_type": "code",
   "execution_count": 42,
   "metadata": {},
   "outputs": [],
   "source": [
    "a = [voltage_to_position(fit[3][i]) for i in np.arange(0,len(fit[3]),1)]"
   ]
  },
  {
   "cell_type": "code",
   "execution_count": 43,
   "metadata": {},
   "outputs": [
    {
     "data": {
      "image/png": "[encoded data removed]",
      "text/plain": [
       "<Figure size 432x288 with 1 Axes>"
      ]
     },
     "metadata": {
      "needs_background": "light"
     },
     "output_type": "display_data"
    }
   ],
   "source": [
    "x=np.arange(0,len(a),1)\n",
    "plt.plot(x,np.multiply(2,a), linestyle=\"\",marker=\"o\")\n",
    "plt.ylim(4,9)\n",
    "plt.xlabel(\"Z pos [um]\")\n",
    "plt.ylabel(\"w [um]\")\n",
    "plt.savefig(\"waist_20200225X2.png\",dpi=300,bbox_inches=\"tight\")"
   ]
  },
  {
   "cell_type": "code",
   "execution_count": 24,
   "metadata": {},
   "outputs": [],
   "source": [
    "#Beam Profile for y\n",
    "def get_average_mean_position(file_list):\n",
    "    position_list = []\n",
    "    sigma_list=[]\n",
    "    def chisquare_gaussian_cdf(amp,mean,sigma,constant):\n",
    "        return chisquare_1d(function=gaussian_cdf,functionparams=[amp,mean,sigma,constant],data_x=data_x,data_y=data_y,data_y_error=data_y_error)[0]\n",
    "    \n",
    "    for i in np.arange(0,len(file_list),1):#len(file_list),1):\n",
    "        print(i)\n",
    "        data_x = file_list[i].cant_pos[1] # give x data\n",
    "        data_y = file_list[i].quad_sum# give y data \n",
    "        data_y_error = np.sqrt(np.abs(data_y)) # give y uncertainty  \n",
    "        m=Minuit(chisquare_gaussian_cdf, \n",
    "         amp = 2.6e9, # set start parameter\n",
    "         #limit_area= (limit_lower,limit_upper) # if you want to limit things\n",
    "         #limit_amp = (-3e-9,-1.5e-9), # you can also fix it\n",
    "         mean = 7.8,\n",
    "         #fix_mean = \"True\",\n",
    "         #limit_mean = (3500,4500),\n",
    "         sigma = 0.3e-1,\n",
    "         constant = 0.5e9,\n",
    "         #fix_constant=\"True\",\n",
    "         errordef = 1,\n",
    "         print_level=0,pedantic=False)\n",
    "         #print('Now proceed with the fit.')\n",
    "        m.migrad(ncall=500000)\n",
    "        print(m.values[\"amp\"])\n",
    "        position_list.append(voltage_to_position(m.values[\"mean\"]))\n",
    "        sigma_list.append(m.values[\"sigma\"])\n",
    "        plt.plot(voltage_to_position(data_x),data_y)\n",
    "        plt.plot(voltage_to_position(data_x),gaussian_cdf(data_x,params=[m.values[\"amp\"],(m.values[\"mean\"]),m.values[\"sigma\"],m.values[\"constant\"]]),alpha=1)\n",
    "        plt.show() \n",
    "    return position_list,np.mean(position_list),np.std(position_list),sigma_list\n"
   ]
  },
  {
   "cell_type": "code",
   "execution_count": 25,
   "metadata": {
    "scrolled": true
   },
   "outputs": [
    {
     "name": "stderr",
     "output_type": "stream",
     "text": [
      "/home/analysis_user/.local/lib/python3.6/site-packages/numpy/core/fromnumeric.py:3335: RuntimeWarning: Mean of empty slice.\n",
      "  out=out, **kwargs)\n",
      "/home/analysis_user/.local/lib/python3.6/site-packages/numpy/core/_methods.py:161: RuntimeWarning: invalid value encountered in double_scalars\n",
      "  ret = ret.dtype.type(ret / rcount)\n",
      "/home/analysis_user/.local/lib/python3.6/site-packages/numpy/core/_methods.py:217: RuntimeWarning: Degrees of freedom <= 0 for slice\n",
      "  keepdims=keepdims)\n",
      "/home/analysis_user/.local/lib/python3.6/site-packages/numpy/core/_methods.py:186: RuntimeWarning: invalid value encountered in true_divide\n",
      "  arrmean, rcount, out=arrmean, casting='unsafe', subok=False)\n",
      "/home/analysis_user/.local/lib/python3.6/site-packages/numpy/core/_methods.py:209: RuntimeWarning: invalid value encountered in double_scalars\n",
      "  ret = ret.dtype.type(ret / rcount)\n"
     ]
    },
    {
     "data": {
      "text/plain": [
       "([], nan, nan, [])"
      ]
     },
     "execution_count": 25,
     "metadata": {},
     "output_type": "execute_result"
    }
   ],
   "source": [
    "get_average_mean_position(files[4:])"
   ]
  },
  {
   "cell_type": "code",
   "execution_count": null,
   "metadata": {},
   "outputs": [],
   "source": []
  },
  {
   "cell_type": "code",
   "execution_count": 135,
   "metadata": {},
   "outputs": [],
   "source": [
    "a = [voltage_to_position(fit[3][i]) for i in np.arange(0,len(fit[3]),1)]"
   ]
  },
  {
   "cell_type": "code",
   "execution_count": 140,
   "metadata": {},
   "outputs": [
    {
     "data": {
      "image/png": "[encoded data removed]",
      "text/plain": [
       "<Figure size 432x288 with 1 Axes>"
      ]
     },
     "metadata": {},
     "output_type": "display_data"
    }
   ],
   "source": [
    "x=np.arange(0,len(a),1)\n",
    "plt.plot(x,np.multiply(2,a), linestyle=\"\",marker=\"o\")\n",
    "plt.ylim(4,9)\n",
    "plt.xlabel(\"Z pos [um]\")\n",
    "plt.ylabel(\"w [um]\")\n",
    "plt.savefig(\"waist_20200225Y2.png\",dpi=300,bbox_inches=\"tight\")"
   ]
  },
  {
   "cell_type": "code",
   "execution_count": 139,
   "metadata": {},
   "outputs": [
    {
     "data": {
      "text/plain": [
       "[6.229764403312514,\n",
       " 6.172484570051346,\n",
       " 6.109673148369922,\n",
       " 6.040274364563224,\n",
       " 5.967754731887021,\n",
       " 5.88985006488405,\n",
       " 75.14896298106888,\n",
       " 0.5777545222774089,\n",
       " 5.698320507858847,\n",
       " 5.634590407701169,\n",
       " 5.572100711289958,\n",
       " 5.523991184006082,\n",
       " 5.465681386473252,\n",
       " 43.64787335951288,\n",
       " 5.335331423639843,\n",
       " 5.270645485178977,\n",
       " 5.201152142679089,\n",
       " 5.130095655561299,\n",
       " 5.0547798380623945,\n",
       " 29.16432583120394,\n",
       " 4.906158508121886,\n",
       " 32.3624167369887,\n",
       " 4.754517727759273,\n",
       " 4.715283300313966,\n",
       " 4.6676946338027445,\n",
       " 4.605733613969445,\n",
       " 31.579325843458857,\n",
       " 4.517277622479776,\n",
       " 4.479719730803449,\n",
       " 4.448503967086432,\n",
       " 4.448698068975776,\n",
       " 4.453070457214191,\n",
       " 48.500422938331155,\n",
       " 4.450705234524679,\n",
       " 4.484094324459994,\n",
       " 4.506686709822351,\n",
       " 4.520173862159061,\n",
       " 4.543643235498541,\n",
       " 30.43226891566806,\n",
       " 4.547373759964121,\n",
       " 0.17349557930700849,\n",
       " 1.2519675675496234,\n",
       " 4.616275983807846,\n",
       " 36.28375832867172,\n",
       " 0.15815071246550957,\n",
       " 4.699791971414087,\n",
       " 4.721309937724405,\n",
       " 4.720960493150219,\n",
       " 4.76527908415997,\n",
       " 4.800760454195179,\n",
       " 4.830744618250873,\n",
       " 4.840200653736999,\n",
       " 4.863300163960421,\n",
       " 4.903006490545666,\n",
       " 4.961281954566493,\n",
       " 5.024724983517427,\n",
       " 5.06465296396044,\n",
       " 5.114598211447642,\n",
       " 5.200131267952583,\n",
       " 5.23838823077679,\n",
       " 19.798747903585202,\n",
       " 5.3722812727869345,\n",
       " 5.430018287774262,\n",
       " 5.49202329043019,\n",
       " 5.577914856742555,\n",
       " 5.664232076247915,\n",
       " 5.72394443818252,\n",
       " 5.791888657382247,\n",
       " 5.872671408919172,\n",
       " 5.948889485025148,\n",
       " 6.021162821069766,\n",
       " 6.085362037890121,\n",
       " 6.183708900673777,\n",
       " 3.7262943311671015,\n",
       " 6.306065796579275,\n",
       " 18.370750925402735,\n",
       " 6.43839574212995,\n",
       " 6.483581543198086,\n",
       " 25.542382099918,\n",
       " 6.636252897175993,\n",
       " 6.673884055764866,\n",
       " 6.762577069768725,\n",
       " 43.03866797902402,\n",
       " 6.898128579918599,\n",
       " 7.002803109423555,\n",
       " 7.061418739798207,\n",
       " 7.114015992560176,\n",
       " 7.197119079375846,\n",
       " 7.242326915056036,\n",
       " 7.336317371298759,\n",
       " 7.384809777371146,\n",
       " 7.439883994973036,\n",
       " 7.546279033532682,\n",
       " 7.589782710438723,\n",
       " 7.675792830923588,\n",
       " 7.743811167124145,\n",
       " 7.83724258322,\n",
       " 7.918059423226935,\n",
       " 7.993637083819434,\n",
       " 8.099496573879927]"
      ]
     },
     "execution_count": 139,
     "metadata": {},
     "output_type": "execute_result"
    }
   ],
   "source": [
    "[2*voltage_to_position(fit[3][i]) for i in np.arange(0,len(fit[3]),1)]"
   ]
  },
  {
   "cell_type": "code",
   "execution_count": null,
   "metadata": {},
   "outputs": [],
   "source": []
  },
  {
   "cell_type": "code",
   "execution_count": 117,
   "metadata": {},
   "outputs": [
    {
     "data": {
      "text/plain": [
       "[<matplotlib.lines.Line2D at 0x7fbdaa889860>]"
      ]
     },
     "execution_count": 117,
     "metadata": {},
     "output_type": "execute_result"
    },
    {
     "data": {
      "image/png": "[encoded data removed]",
      "text/plain": [
       "<Figure size 432x288 with 1 Axes>"
      ]
     },
     "metadata": {},
     "output_type": "display_data"
    }
   ],
   "source": [
    "_,ax = plt.subplots()\n",
    "plt.subplots_adjust(left=0.18, right=0.99, top=0.96, bottom=0.14)\n",
    "ax.plot(pos_x,quad_sum, '-', label=\"x\",markersize=1,linewidth=1)\n"
   ]
  },
  {
   "cell_type": "code",
   "execution_count": null,
   "metadata": {},
   "outputs": [],
   "source": [
    "print(pos_x)"
   ]
  },
  {
   "cell_type": "code",
   "execution_count": null,
   "metadata": {},
   "outputs": [],
   "source": []
  },
  {
   "cell_type": "code",
   "execution_count": 90,
   "metadata": {},
   "outputs": [
    {
     "data": {
      "text/plain": [
       "[<matplotlib.lines.Line2D at 0x7fbdaaa29c18>]"
      ]
     },
     "execution_count": 90,
     "metadata": {},
     "output_type": "execute_result"
    },
    {
     "data": {
      "image/png": "[encoded data removed]",
      "text/plain": [
       "<Figure size 432x288 with 1 Axes>"
      ]
     },
     "metadata": {},
     "output_type": "display_data"
    }
   ],
   "source": [
    "plt.plot(quad_sum)"
   ]
  }
 ],
 "metadata": {
  "kernelspec": {
   "display_name": "Python 3",
   "language": "python",
   "name": "python3"
  },
  "language_info": {
   "codemirror_mode": {
    "name": "ipython",
    "version": 3
   },
   "file_extension": ".py",
   "mimetype": "text/x-python",
   "name": "python",
   "nbconvert_exporter": "python",
   "pygments_lexer": "ipython3",
   "version": "3.6.9"
  }
 },
 "nbformat": 4,
 "nbformat_minor": 4
}
