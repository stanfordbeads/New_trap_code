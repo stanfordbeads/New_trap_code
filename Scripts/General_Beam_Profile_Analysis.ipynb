{
 "cells": [
  {
   "cell_type": "code",
   "execution_count": 197,
   "metadata": {},
   "outputs": [],
   "source": [
    "# import stuff\n",
    "import numpy as np\n",
    "import matplotlib.pyplot as plt\n",
    "import matplotlib\n",
    "import scipy\n",
    "from scipy import signal\n",
    "import h5py, time\n",
    "from iminuit import Minuit, describe\n",
    "from pprint import pprint # we use this to pretty print some stuff later\n",
    "\n",
    "import sys\n",
    "sys.path.append('/home/analysis_user/New_trap_code/Tools/')\n",
    "import BeadDataFile\n",
    "from discharge_tools import load_dir"
   ]
  },
  {
   "cell_type": "code",
   "execution_count": 198,
   "metadata": {},
   "outputs": [],
   "source": [
    "def shift_correct(input_pos,idx):\n",
    "    output_pos = np.insert(input_pos,0,np.linspace(0,0,idx))\n",
    "    return output_pos\n",
    "\n",
    "def gaussian(data_x,params=list):\n",
    "    norm = (1/((1/2*params[2])*np.sqrt(np.pi * 2)))\n",
    "    return params[0] * norm * np.exp(-(np.subtract(data_x,params[1])**2/(2*params[2]**2)))+params[3]\n",
    "\n",
    "def gaussian_cdf(data_x,params=list):\n",
    "    # for normalization a 1/sigma could be needed\n",
    "    return params[0]*0.5*(1+scipy.special.erf((data_x-params[1])/(np.sqrt(2)*params[2])))+params[3]\n",
    "\n",
    "def linear(data_x,params=list):\n",
    "    return params[0]*data_x+params[1]\n",
    "\n",
    "def chisquare_1d(function, functionparams, data_x, data_y,data_y_error):\n",
    "    chisquarevalue=np.sum(np.power(np.divide(np.subtract(function(data_x,functionparams),data_y),data_y_error),2))\n",
    "    ndf = len(data_y)-len(functionparams)\n",
    "    #print(ndf)\n",
    "    return (chisquarevalue, ndf)\n",
    "\n",
    "def chisquare_linear(a,b):\n",
    "    return chisquare_1d(function=linear,functionparams=[a,b],data_x=data_x,data_y=data_y,data_y_error=data_y_error)[0]\n",
    "\n",
    "def chisquare_gaussian(area,mean,sigma,constant):\n",
    "    return chisquare_1d(function=gaussian,functionparams=[area,mean,sigma,constant],data_x=data_x,data_y=data_y,data_y_error=data_y_error)[0]\n",
    "\n",
    "def chisquare_gaussian_cdf(amp,mean,sigma,constant):\n",
    "    return chisquare_1d(function=gaussian_cdf,functionparams=[amp,mean,sigma,constant],data_x=data_x,data_y=data_y,data_y_error=data_y_error)[0]"
   ]
  },
  {
   "cell_type": "code",
   "execution_count": 199,
   "metadata": {
    "scrolled": true
   },
   "outputs": [
    {
     "name": "stdout",
     "output_type": "stream",
     "text": [
      "------------------------------------------------------------------\n",
      "| FCN = 1.815                   |      Ncalls=35 (35 total)      |\n",
      "| EDM = 1.22E-11 (Goal: 1E-05)  |            up = 1.0            |\n",
      "------------------------------------------------------------------\n",
      "|  Valid Min.   | Valid Param.  | Above EDM | Reached call limit |\n",
      "------------------------------------------------------------------\n",
      "|     True      |     True      |   False   |       False        |\n",
      "------------------------------------------------------------------\n",
      "| Hesse failed  |   Has cov.    | Accurate  | Pos. def. | Forced |\n",
      "------------------------------------------------------------------\n",
      "|     False     |     True      |   True    |   True    | False  |\n",
      "------------------------------------------------------------------\n",
      "0.019834000085488412 -0.0015000315197539749\n"
     ]
    },
    {
     "name": "stderr",
     "output_type": "stream",
     "text": [
      "/usr/lib/python3/dist-packages/ipykernel_launcher.py:11: InitialParamWarning: Parameter a is floating but does not have initial step size. Assume 1.\n",
      "  # This is added back by InteractiveShellApp.init_path()\n",
      "/usr/lib/python3/dist-packages/ipykernel_launcher.py:11: InitialParamWarning: Parameter b is floating but does not have initial step size. Assume 1.\n",
      "  # This is added back by InteractiveShellApp.init_path()\n"
     ]
    },
    {
     "data": {
      "text/plain": [
       "[<matplotlib.lines.Line2D at 0x7f1d9aba4c50>]"
      ]
     },
     "execution_count": 199,
     "metadata": {},
     "output_type": "execute_result"
    },
    {
     "data": {
      "image/png": "[encoded data removed]",
      "text/plain": [
       "<Figure size 432x288 with 1 Axes>"
      ]
     },
     "metadata": {},
     "output_type": "display_data"
    }
   ],
   "source": [
    "pos_list=np.asarray([-0.007,4.968,9.91])\n",
    "y_err=np.asarray([0.01,0.01,0.01])\n",
    "val = np.asarray([0,250,500])\n",
    "data_x=val\n",
    "data_y=pos_list\n",
    "data_y_error=y_err\n",
    "m2=Minuit(chisquare_linear, \n",
    "     a = 100,\n",
    "     b=0,\n",
    "     errordef = 1,\n",
    "     print_level=1)\n",
    "\n",
    "m2.migrad()\n",
    "\n",
    "print(m2.values[\"a\"],m2.values[\"b\"])\n",
    "plt.plot(val,pos_list)\n",
    "plt.plot(val,m2.values[\"a\"]*val+m2.values[\"b\"])"
   ]
  },
  {
   "cell_type": "code",
   "execution_count": 200,
   "metadata": {},
   "outputs": [],
   "source": [
    "# calibration of the voltage - position conversion\n",
    "\n",
    "def voltage_to_position(voltage,slope=0.019834000085488412,offset=-0.0015000315197539749,redo=False):\n",
    "    if(redo==True):\n",
    "        pos_list=np.asarray([-0.007,4.968,9.91])\n",
    "        y_err=np.asarray([0.01,0.01,0.01])\n",
    "        val = np.asarray([0,250,500])\n",
    "        data_x=val\n",
    "        data_y=pos_list\n",
    "        data_y_error=y_err\n",
    "        m2=Minuit(chisquare_linear, \n",
    "             a = 100,\n",
    "             b=0,\n",
    "             errordef = 1,\n",
    "             print_level=1)\n",
    "        m2.migrad()\n",
    "        print(m2.values[\"a\"],m2.values[\"b\"])\n",
    "        plt.plot(val,pos_list,marker=\"*\")\n",
    "        plt.plot(val,m2.values[\"a\"]*val+m2.values[\"b\"])\n",
    "        slope = m2.values[\"a\"]\n",
    "        offset = m2.values[\"b\"]\n",
    "    position=(voltage-offset)/slope\n",
    "    return position"
   ]
  },
  {
   "cell_type": "code",
   "execution_count": 221,
   "metadata": {},
   "outputs": [
    {
     "name": "stdout",
     "output_type": "stream",
     "text": [
      "3  files in folder\n",
      "3  files loaded\n"
     ]
    }
   ],
   "source": [
    "# load the data\n",
    "Day = \"30\"\n",
    "Month = \"01\"\n",
    "Year = \"2020\"\n",
    "BeadNumber = 1\n",
    "#RunNumber = 144\n",
    "folder =  r\"/home/data_transfer/data_from_windows/\" + Year + Month + Day +\"/Bead\"+str(BeadNumber)+\"/Shaking/\"\n",
    "#folder =  r\"/home/data_transfer/data_from_windows/\" + Year + Month + Day +\"/NoBead\"+\"/Shaking/\"\n",
    "files = load_dir(folder, file_prefix = 'BeamProfiling', max_file=500)\n",
    "pos_x = files[0].cant_pos[0]\n",
    "pos_y = files[0].cant_pos[1]\n",
    "pos_z = files[0].cant_pos[2]\n",
    "quad_sum = files[0].quad_sum\n"
   ]
  },
  {
   "cell_type": "code",
   "execution_count": 222,
   "metadata": {},
   "outputs": [
    {
     "name": "stdout",
     "output_type": "stream",
     "text": [
      "/home/data_transfer/data_from_windows/20200130/Bead1/Shaking/BeamProfiling0_0.h5\n",
      "/home/data_transfer/data_from_windows/20200130/Bead1/Shaking/BeamProfiling1_0.h5\n",
      "/home/data_transfer/data_from_windows/20200130/Bead1/Shaking/BeamProfiling2_0.h5\n"
     ]
    }
   ],
   "source": [
    "for i in np.arange(0,len(files),1):\n",
    "    print(files[i].fname)"
   ]
  },
  {
   "cell_type": "code",
   "execution_count": 223,
   "metadata": {},
   "outputs": [
    {
     "data": {
      "text/plain": [
       "50000"
      ]
     },
     "execution_count": 223,
     "metadata": {},
     "output_type": "execute_result"
    }
   ],
   "source": [
    "len(quad_sum)"
   ]
  },
  {
   "cell_type": "code",
   "execution_count": 224,
   "metadata": {},
   "outputs": [],
   "source": [
    "#Beam Profile for X\n",
    "def get_average_mean_position(file_list):\n",
    "    position_list = []\n",
    "    sigma_list=[]\n",
    "    def chisquare_gaussian_cdf(amp,mean,sigma,constant):\n",
    "        return chisquare_1d(function=gaussian_cdf,functionparams=[amp,mean,sigma,constant],data_x=data_x,data_y=data_y,data_y_error=data_y_error)[0]\n",
    "    \n",
    "    for i in np.arange(0,len(file_list),1):#len(file_list),1):\n",
    "        print(i)\n",
    "        data_x = file_list[i].cant_pos[0] # give x data\n",
    "        data_y = file_list[i].quad_sum# give y data \n",
    "        data_y_error = np.sqrt(np.abs(data_y)) # give y uncertainty  \n",
    "        m=Minuit(chisquare_gaussian_cdf, \n",
    "         amp = -1.5e9, # set start parameter\n",
    "         #limit_area= (limit_lower,limit_upper) # if you want to limit things\n",
    "         #limit_amp = (-3e-9,-1.5e-9), # you can also fix it\n",
    "         mean = 7.95,\n",
    "         #fix_mean = \"True\",\n",
    "         #limit_mean = (3500,4500),\n",
    "         sigma = 0.3e-1,\n",
    "         constant = 0.9e9,\n",
    "         #fix_constant=\"True\",\n",
    "         errordef = 1,\n",
    "         print_level=0,pedantic=False)\n",
    "         #print('Now proceed with the fit.')\n",
    "        m.migrad(ncall=500000)\n",
    "        print(m.values[\"amp\"])\n",
    "        position_list.append(voltage_to_position(m.values[\"mean\"]))\n",
    "        sigma_list.append(m.values[\"sigma\"])\n",
    "        plt.plot(voltage_to_position(data_x),data_y)\n",
    "        plt.plot(voltage_to_position(data_x),gaussian_cdf(data_x,params=[m.values[\"amp\"],(m.values[\"mean\"]),m.values[\"sigma\"],m.values[\"constant\"]]),alpha=1)\n",
    "        plt.show() \n",
    "    return position_list,np.mean(position_list),np.std(position_list),sigma_list\n"
   ]
  },
  {
   "cell_type": "code",
   "execution_count": 225,
   "metadata": {},
   "outputs": [
    {
     "name": "stdout",
     "output_type": "stream",
     "text": [
      "0\n",
      "-999493540.9535451\n"
     ]
    },
    {
     "data": {
      "image/png": "[encoded data removed]",
      "text/plain": [
       "<Figure size 432x288 with 1 Axes>"
      ]
     },
     "metadata": {},
     "output_type": "display_data"
    },
    {
     "name": "stdout",
     "output_type": "stream",
     "text": [
      "1\n",
      "-1014938991.8168705\n"
     ]
    },
    {
     "data": {
      "image/png": "[encoded data removed]",
      "text/plain": [
       "<Figure size 432x288 with 1 Axes>"
      ]
     },
     "metadata": {},
     "output_type": "display_data"
    },
    {
     "name": "stdout",
     "output_type": "stream",
     "text": [
      "2\n",
      "-1019563820.0504462\n"
     ]
    },
    {
     "data": {
      "image/png": "[encoded data removed]",
      "text/plain": [
       "<Figure size 432x288 with 1 Axes>"
      ]
     },
     "metadata": {},
     "output_type": "display_data"
    }
   ],
   "source": [
    "fit = get_average_mean_position(files[0:200])"
   ]
  },
  {
   "cell_type": "code",
   "execution_count": 226,
   "metadata": {},
   "outputs": [
    {
     "data": {
      "text/plain": [
       "[399.23861261698664, 399.24609624314706, 397.46132522750366]"
      ]
     },
     "execution_count": 226,
     "metadata": {},
     "output_type": "execute_result"
    }
   ],
   "source": [
    "fit[0]"
   ]
  },
  {
   "cell_type": "code",
   "execution_count": 135,
   "metadata": {},
   "outputs": [],
   "source": [
    "#Beam Profile for X\n",
    "def get_average_mean_position(file_list):\n",
    "    position_list = []\n",
    "    sigma_list=[]\n",
    "    def chisquare_gaussian_cdf(amp,mean,sigma,constant):\n",
    "        return chisquare_1d(function=gaussian_cdf,functionparams=[amp,mean,sigma,constant],data_x=data_x,data_y=data_y,data_y_error=data_y_error)[0]\n",
    "    \n",
    "    for i in np.arange(0,len(file_list),1):#len(file_list),1):\n",
    "        print(i)\n",
    "        data_x = file_list[i].cant_pos[1] # give x data\n",
    "        data_y = file_list[i].quad_sum# give y data \n",
    "        data_y_error = np.sqrt(np.abs(data_y)) # give y uncertainty  \n",
    "        m=Minuit(chisquare_gaussian_cdf, \n",
    "         amp = 1.8e9, # set start parameter\n",
    "         #limit_area= (limit_lower,limit_upper) # if you want to limit things\n",
    "         #limit_amp = (-3e-9,-1.5e-9), # you can also fix it\n",
    "         mean = 7.9,\n",
    "         #fix_mean = \"True\",\n",
    "         #limit_mean = (3500,4500),\n",
    "         sigma = 0.3e-1,\n",
    "         constant = 0.9e9,\n",
    "         #fix_constant=\"True\",\n",
    "         errordef = 1,\n",
    "         print_level=0,pedantic=False)\n",
    "         #print('Now proceed with the fit.')\n",
    "        m.migrad(ncall=500000)\n",
    "        print(m.values[\"amp\"])\n",
    "        position_list.append(voltage_to_position(m.values[\"mean\"]))\n",
    "        sigma_list.append(m.values[\"sigma\"])\n",
    "        plt.plot(voltage_to_position(data_x),data_y)\n",
    "        plt.plot(voltage_to_position(data_x),gaussian_cdf(data_x,params=[m.values[\"amp\"],(m.values[\"mean\"]),m.values[\"sigma\"],m.values[\"constant\"]]),alpha=1)\n",
    "        plt.show() \n",
    "    return position_list,np.mean(position_list),np.std(position_list),sigma_list\n"
   ]
  },
  {
   "cell_type": "code",
   "execution_count": 136,
   "metadata": {},
   "outputs": [
    {
     "name": "stdout",
     "output_type": "stream",
     "text": [
      "0\n",
      "1800000000.0\n"
     ]
    },
    {
     "data": {
      "image/png": "[encoded data removed]",
      "text/plain": [
       "<Figure size 432x288 with 1 Axes>"
      ]
     },
     "metadata": {},
     "output_type": "display_data"
    },
    {
     "name": "stdout",
     "output_type": "stream",
     "text": [
      "1\n",
      "1764294287.4253175\n"
     ]
    },
    {
     "data": {
      "image/png": "[encoded data removed]",
      "text/plain": [
       "<Figure size 432x288 with 1 Axes>"
      ]
     },
     "metadata": {},
     "output_type": "display_data"
    },
    {
     "data": {
      "text/plain": [
       "([398.38156687822664, 384.4647237753359],\n",
       " 391.4231453267813,\n",
       " 6.958421551445355,\n",
       " [0.03, 0.04924146825675776])"
      ]
     },
     "execution_count": 136,
     "metadata": {},
     "output_type": "execute_result"
    }
   ],
   "source": [
    "get_average_mean_position(files[0:200])"
   ]
  },
  {
   "cell_type": "code",
   "execution_count": 138,
   "metadata": {},
   "outputs": [
    {
     "data": {
      "text/plain": [
       "[387.2065311715853, -340635.0816702821]"
      ]
     },
     "execution_count": 138,
     "metadata": {},
     "output_type": "execute_result"
    }
   ],
   "source": [
    "fit[0]"
   ]
  },
  {
   "cell_type": "code",
   "execution_count": 20,
   "metadata": {},
   "outputs": [
    {
     "data": {
      "text/plain": [
       "[<matplotlib.lines.Line2D at 0x7fe74c568978>]"
      ]
     },
     "execution_count": 20,
     "metadata": {},
     "output_type": "execute_result"
    },
    {
     "data": {
      "image/png": "[encoded data removed]",
      "text/plain": [
       "<Figure size 432x288 with 1 Axes>"
      ]
     },
     "metadata": {},
     "output_type": "display_data"
    }
   ],
   "source": [
    "_,ax = plt.subplots()\n",
    "plt.subplots_adjust(left=0.18, right=0.99, top=0.96, bottom=0.14)\n",
    "ax.plot(pos_x,quad_sum, '-', label=\"x\",markersize=1,linewidth=1)\n"
   ]
  },
  {
   "cell_type": "code",
   "execution_count": 18,
   "metadata": {},
   "outputs": [
    {
     "name": "stdout",
     "output_type": "stream",
     "text": [
      "[2.98754468 2.98930561 2.99123855 ... 2.98272226 2.98474852 2.98666704]\n"
     ]
    }
   ],
   "source": [
    "print(pos_x)"
   ]
  },
  {
   "cell_type": "code",
   "execution_count": null,
   "metadata": {},
   "outputs": [],
   "source": []
  }
 ],
 "metadata": {
  "kernelspec": {
   "display_name": "Python 3",
   "language": "python",
   "name": "python3"
  },
  "language_info": {
   "codemirror_mode": {
    "name": "ipython",
    "version": 3
   },
   "file_extension": ".py",
   "mimetype": "text/x-python",
   "name": "python",
   "nbconvert_exporter": "python",
   "pygments_lexer": "ipython3",
   "version": "3.6.8"
  }
 },
 "nbformat": 4,
 "nbformat_minor": 2
}
