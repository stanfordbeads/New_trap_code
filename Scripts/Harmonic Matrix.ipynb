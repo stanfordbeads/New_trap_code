{
 "cells": [
  {
   "cell_type": "code",
   "execution_count": 150,
   "metadata": {},
   "outputs": [],
   "source": [
    "import numpy as np\n",
    "import sympy as sp\n",
    "import matplotlib.pyplot as plt\n",
    "import matplotlib\n",
    "from scipy import signal\n",
    "from scipy import optimize\n",
    "import inspect\n",
    "import h5py"
   ]
  },
  {
   "cell_type": "code",
   "execution_count": 64,
   "metadata": {},
   "outputs": [],
   "source": [
    "%matplotlib notebook"
   ]
  },
  {
   "cell_type": "code",
   "execution_count": 65,
   "metadata": {},
   "outputs": [],
   "source": [
    "import sys\n",
    "sys.path.append('/home/analysis_user/New_trap_code/Tools/')\n",
    "import BeadDataFile\n",
    "from discharge_tools import *"
   ]
  },
  {
   "cell_type": "code",
   "execution_count": 66,
   "metadata": {},
   "outputs": [],
   "source": [
    "def extract_fft_peaks(data,axis,fsamp = 0, harm_freq = 0):\n",
    "    freq,psd = data.psd2(axis)\n",
    "    fft = np.sqrt(psd)\n",
    "    \n",
    "    unfiltered_peaks = signal.find_peaks(np.log(fft))[0]\n",
    "    harmonics_0 = [peak for peak in unfiltered_peaks if freq[peak]%harm_freq == 0]\n",
    "    harmonics_index = np.asarray([harm for harm in harmonics_0 if harmonics_0.index(harm)<50 ])\n",
    "    \n",
    "    return freq[harmonics_index],fft[harmonics_index]"
   ]
  },
  {
   "cell_type": "code",
   "execution_count": 67,
   "metadata": {},
   "outputs": [],
   "source": [
    "def trans_func(data, axis, fit_type = 1, fsamp = 0, harm_freq = 0, w0_guess= 1, g_guess = 1, a_guess = 1, b_guess = 1):\n",
    "    \n",
    "    freq,psd = data.psd2(axis)\n",
    "    fft = np.sqrt(psd)\n",
    "    \n",
    "    unfiltered_peaks = signal.find_peaks(np.log(fft))[0]\n",
    "    harmonics_0 = [peak for peak in unfiltered_peaks if freq[peak]%harm_freq == 0]\n",
    "    harmonics_index = np.asarray([harm for harm in harmonics_0 if harmonics_0.index(harm)<50 ])\n",
    "    \n",
    "    def fit_2(x,a,w,g,b):\n",
    "        x_ang = 2*np.pi*x\n",
    "        return a*w/np.sqrt(((w**2-x_ang**2)**2 + (g*x_ang-(b**3)/x_ang)**2))\n",
    "    \n",
    "    def fit_1(x,a,w,g):\n",
    "        x_ang = 2*np.pi*x\n",
    "        return a*w/np.sqrt(((w**2-x_ang**2)**2 + (g*x_ang)**2))\n",
    "    \n",
    "    if fit_type==1:\n",
    "        curve = optimize.curve_fit(fit_1,freq[harmonics_index],fft[harmonics_index],p0 = [a_guess, w0_guess,g_guess])\n",
    "        pars = curve[0]\n",
    "        var = np.asarray([curve[1][0][0], curve[1][1][1], curve[1][2][2]])\n",
    "    elif fit_type ==2:\n",
    "        curve = optimize.curve_fit(fit_2,freq[harmonics_index],fft[harmonics_index],p0 = [a_guess, w0_guess,g_guess,b_guess])\n",
    "        pars = curve[0]\n",
    "        var = np.asarray([curve[1][0][0], curve[1][1][1], curve[1][2][2], curve[1][3][3]])\n",
    "    \n",
    "    return freq[harmonics_index],fft[harmonics_index],pars,var"
   ]
  },
  {
   "cell_type": "code",
   "execution_count": 68,
   "metadata": {},
   "outputs": [],
   "source": [
    "def trans_func_3d(data, axis, fit_type=1, fsamp = 0, harm_freq = 0 , A = 1, B = 1, C = 1, D = 1, E = 1, F = 1, S = 1):\n",
    "    freq,psd = data.psd2(axis)\n",
    "    fft = np.sqrt(psd)\n",
    "    \n",
    "    unfiltered_peaks = signal.find_peaks(np.log(fft))[0]\n",
    "    harmonics_0 = [peak for peak in unfiltered_peaks if freq[peak]%harm_freq == 0]\n",
    "    harmonics_index = np.asarray([harm for harm in harmonics_0 if harmonics_0.index(harm)<50 ])\n",
    "    \n",
    "    def fit_1(x,s,a,b,c,d,e,f):\n",
    "        w = 2*np.pi*x\n",
    "        return s*np.sqrt((a-w**2)**2 + b*w**2)/np.sqrt((w**4 + c*w**2 + d)**2 + (e*w**3 + f*w)**2)\n",
    "    \n",
    "    def fit_2(x,s,a,b,c,d,e,f):\n",
    "        w = 2*np.pi*x\n",
    "        return s*np.sqrt((a + b*w**2))/np.sqrt((w**4 + c*w**2 + d)**2 + (e*w**3 + f*w)**2)\n",
    "    \n",
    "    \n",
    "    if fit_type==1:\n",
    "        curve = optimize.curve_fit(fit_1,freq[harmonics_index],fft[harmonics_index],p0 = [S,A,B,C,D,E,F])\n",
    "        pars = curve[0]\n",
    "    elif fit_type ==2:\n",
    "        curve = optimize.curve_fit(fit_2,freq[harmonics_index],fft[harmonics_index],p0 = [S,A,B,C,D,E,F])\n",
    "        pars = curve[0]\n",
    "        \n",
    "    return freq[harmonics_index],fft[harmonics_index],pars"
   ]
  },
  {
   "cell_type": "code",
   "execution_count": null,
   "metadata": {},
   "outputs": [],
   "source": [
    "Kxx,Kyy,Kxy,Lxx,Lyy,Lxy,Axx,Ayy,Axy,Ayx = parameters('Kxx,Kyy,Kxy,Lxx,Lyy,Lxy,Axx,Ayy,Axy,Ayx')\n",
    "fxx,fyy,fxy,fyx,Oxx,Oyy,Oxy,Oyx = variables('fxx,fyy,fxy,fyx,Oxx,Oyy,Oxy,Oyx')\n",
    "\n",
    "Kxx.min,Kxx.max = 1e2,1e4\n",
    "Kxx.value = 1e3\n",
    "\n",
    "Kyy.min,Kyy.max = 1e2,1e4\n",
    "Kyy.value = 1e3\n",
    "\n",
    "Kxy.min,Kxy.max = 1,1e4\n",
    "Kxy.value = 1\n",
    "\n",
    "\n",
    "Lxx.min,Lxx.max = 1e1,1e3\n",
    "Lxx.value = 1e2\n",
    "\n",
    "Lyy.min,Lyy.max = 1e1,1e3\n",
    "Lyy.value = 1e2\n",
    "\n",
    "Lxy.min,Lxy.max = 1,1e4\n",
    "Lxy.value = 1 \n",
    "\n",
    "Axx.min,Axx.max = 0,1\n",
    "Axx.value = 1\n",
    "\n",
    "Ayy.min,Ayy.max = 0,1\n",
    "Ayy.value = 1\n",
    "\n",
    "Axy.min,Axy.max = 0,1\n",
    "Axy.value = 1\n",
    "\n",
    "Ayx.min,Ayx.max = 0,1\n",
    "Ayx.value = 1"
   ]
  },
  {
   "cell_type": "code",
   "execution_count": null,
   "metadata": {},
   "outputs": [],
   "source": [
    "def Xmodel_x(params,fxx):\n",
    "    Axx,Ayy,Axy,Ayx,Kxx,Kyy,Kxy,Lxx,Lyy,Lxy = params\n",
    "    numerator = \n",
    "    denominator = "
   ]
  },
  {
   "cell_type": "code",
   "execution_count": 70,
   "metadata": {},
   "outputs": [],
   "source": [
    "model = Model({\n",
    "    Oxx:Axx*sp.sqrt((Kyy-(2*np.pi*fxx)**2)**2+(Lyy**2)*(2*np.pi*fxx)**2)/sp.sqrt(((2*np.pi*fxx)**4+(Lxy**2-Lxx*Lyy-Kxx-Kyy)*(2*np.pi*fxx)**2 + (Kxx*Kyy - Kxy**2))**2 + ((-Lxx-Lyy)*(2*np.pi*fxx)**3 + (Kxx*Lyy + Kyy*Lxx - 2*Kxy*Lxy)*(2*np.pi*fxx))**2),\n",
    "    Oxy:Axy*sp.sqrt(Kxy**2+(Lxy**2)*(2*np.pi*fxy))/sp.sqrt(((2*np.pi*fxy)**4+(Lxy**2-Lxx*Lyy-Kxx-Kyy)*(2*np.pi*fxy)**2+(Kxx*Kyy- Kxy**2))**2 + ((-Lxx-Lyy)*(2*np.pi*fxy)**3 + (Kxx*Lyy + Kyy*Lxx - 2*Kxy*Lxy)*(2*np.pi*fxy))**2),\n",
    "    Oyx:Ayx*sp.sqrt(Kxy**2+(Lxy**2)*(2*np.pi*fyx))/sp.sqrt(((2*np.pi*fyx)**4+(Lxy**2-Lxx*Lyy-Kxx-Kyy)*(2*np.pi*fyx)**2+(Kxx*Kyy - Kxy**2))**2 + ((-Lxx-Lyy)*(2*np.pi*fyx)**3 + (Kxx*Lyy + Kyy*Lxx - 2*Kxy*Lxy)*(2*np.pi*fyx))**2),\n",
    "    Oyy:Ayy*sp.sqrt((Kxx-(2*np.pi*fyy)**2)**2+(Lxx**2)*(2*np.pi*fyy)**2)/sp.sqrt(((2*np.pi*fyy)**4+(Lxy**2-Lxx*Lyy-Kxx-Kyy)*(2*np.pi*fyy)**2 + (Kxx*Kyy - Kxy**2))**2 + ((-Lxx-Lyy)*(2*np.pi*fyy)**3 + (Kxx*Lyy + Kyy*Lxx - 2*Kxy*Lxy)*(2*np.pi*fyy))**2)\n",
    "    \n",
    "})\n"
   ]
  },
  {
   "cell_type": "code",
   "execution_count": 89,
   "metadata": {},
   "outputs": [],
   "source": [
    "fname_x = r'/data/new_trap/20190708/Bead2/TransFunc/TransFuncX_14.h5'\n",
    "bd_x= BeadDataFile.BeadDataFile(fname_x)\n",
    "fname_y = r'/data/new_trap/20190708/Bead2/TransFunc/TransFuncY_16.h5'\n",
    "bd_y = BeadDataFile.BeadDataFile(fname_y)\n",
    "Xfreq_x,Xfft_x = extract_fft_peaks(bd_x,'x',fsamp = bd_x.fsamp, harm_freq = 23)\n",
    "Xfreq_y,Xfft_y = extract_fft_peaks(bd_x,'y',fsamp= bd_x.fsamp, harm_freq = 23)\n",
    "Yfreq_y,Yfft_y = extract_fft_peaks(bd_y,'y',fsamp = bd_y.fsamp,harm_freq = 23)\n",
    "Yfreq_x,Yfft_x = extract_fft_peaks(bd_y,'x',fsamp = bd_y.fsamp,harm_freq = 23)"
   ]
  },
  {
   "cell_type": "code",
   "execution_count": null,
   "metadata": {},
   "outputs": [],
   "source": []
  }
 ],
 "metadata": {
  "kernelspec": {
   "display_name": "Python 3",
   "language": "python",
   "name": "python3"
  },
  "language_info": {
   "codemirror_mode": {
    "name": "ipython",
    "version": 3
   },
   "file_extension": ".py",
   "mimetype": "text/x-python",
   "name": "python",
   "nbconvert_exporter": "python",
   "pygments_lexer": "ipython3",
   "version": "3.6.7"
  }
 },
 "nbformat": 4,
 "nbformat_minor": 2
}
