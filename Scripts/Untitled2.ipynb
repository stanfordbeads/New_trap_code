{
 "cells": [
  {
   "cell_type": "code",
   "execution_count": 1,
   "metadata": {},
   "outputs": [],
   "source": [
    "import nptdms\n",
    "import numpy as np\n",
    "import matplotlib.pyplot as plt"
   ]
  },
  {
   "cell_type": "code",
   "execution_count": 2,
   "metadata": {},
   "outputs": [],
   "source": [
    "fil0 = nptdms.TdmsFile('/home/data_transfer/data_from_windows/Misc/trapBeamScans/data0.tdms')\n",
    "fil1 = nptdms.TdmsFile('/home/data_transfer/data_from_windows/Misc/trapBeamScans/data1.tdms')\n",
    "fil2 = nptdms.TdmsFile('/home/data_transfer/data_from_windows/Misc/trapBeamScans/data2.tdms')"
   ]
  },
  {
   "cell_type": "code",
   "execution_count": 3,
   "metadata": {},
   "outputs": [],
   "source": [
    "nPts = len(fil0['z']['pd0'].data)\n",
    "fs=1000\n",
    "dT = 1/fs\n",
    "t = np.linspace(0, dT*(nPts-1), nPts)\n",
    "x0 = t * 500*(16/1000) # microns\n",
    "p0 = fil0['z']['pd0'].data / fil0['z']['pd1'].data"
   ]
  },
  {
   "cell_type": "code",
   "execution_count": 4,
   "metadata": {},
   "outputs": [],
   "source": [
    "nPts = len(fil1['z']['pd0'].data)\n",
    "fs=1000\n",
    "dT = 1/fs\n",
    "t = np.linspace(0, dT*(nPts-1), nPts)\n",
    "x1 = t * 500*(16/1000) # microns\n",
    "p1 = fil1['z']['pd0'].data / fil1['z']['pd1'].data"
   ]
  },
  {
   "cell_type": "code",
   "execution_count": 7,
   "metadata": {},
   "outputs": [],
   "source": [
    "nPts = len(fil2['z']['pd0'].data)\n",
    "fs=1000\n",
    "dT = 1/fs\n",
    "t = np.linspace(0, dT*(nPts-1), nPts)\n",
    "x2 = t * 500*(16/1000) # microns\n",
    "p2 = fil2['z']['pd0'].data / fil2['z']['pd1'].data"
   ]
  },
  {
   "cell_type": "code",
   "execution_count": 9,
   "metadata": {},
   "outputs": [
    {
     "data": {
      "text/plain": [
       "[<matplotlib.lines.Line2D at 0x7f837df78550>]"
      ]
     },
     "execution_count": 9,
     "metadata": {},
     "output_type": "execute_result"
    },
    {
     "data": {
      "image/png": "[encoded data removed]",
      "text/plain": [
       "<Figure size 432x288 with 1 Axes>"
      ]
     },
     "metadata": {
      "needs_background": "light"
     },
     "output_type": "display_data"
    }
   ],
   "source": [
    "plt.plot(x0, p0)\n",
    "plt.plot(x1, p1)\n",
    "plt.plot(np.flip(x2), p2)"
   ]
  },
  {
   "cell_type": "code",
   "execution_count": null,
   "metadata": {},
   "outputs": [],
   "source": []
  }
 ],
 "metadata": {
  "kernelspec": {
   "display_name": "Python 3",
   "language": "python",
   "name": "python3"
  },
  "language_info": {
   "codemirror_mode": {
    "name": "ipython",
    "version": 3
   },
   "file_extension": ".py",
   "mimetype": "text/x-python",
   "name": "python",
   "nbconvert_exporter": "python",
   "pygments_lexer": "ipython3",
   "version": "3.6.9"
  }
 },
 "nbformat": 4,
 "nbformat_minor": 4
}
