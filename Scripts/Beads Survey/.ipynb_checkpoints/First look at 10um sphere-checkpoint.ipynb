{
 "cells": [
  {
   "cell_type": "code",
   "execution_count": 134,
   "metadata": {},
   "outputs": [],
   "source": [
    "import numpy as np\n",
    "import matplotlib.pyplot as plt\n",
    "import matplotlib\n",
    "from scipy import signal\n",
    "from scipy.optimize import minimize\n",
    "\n",
    "import random\n",
    "\n",
    "import h5py\n",
    "from IPython.utils import io\n",
    "\n",
    "from joblib import Parallel, delayed\n",
    "from tqdm import tqdm\n",
    "import sys"
   ]
  },
  {
   "cell_type": "code",
   "execution_count": 135,
   "metadata": {},
   "outputs": [],
   "source": [
    "%matplotlib widget\n",
    "\n",
    "%reload_ext autoreload\n",
    "%autoreload 2"
   ]
  },
  {
   "cell_type": "code",
   "execution_count": 136,
   "metadata": {},
   "outputs": [],
   "source": [
    "sys.path.append('../../../../nadavp/new_trap/Tools/')\n",
    "sys.path.append('../../../../nadavp/new_trap/Tools/StatFramework/')\n",
    "sys.path.append('../../../../nadavp/opt_lev_analysis/lib/')\n",
    "import BeadDataFile\n",
    "from discharge_tools import *"
   ]
  },
  {
   "cell_type": "code",
   "execution_count": 137,
   "metadata": {},
   "outputs": [],
   "source": [
    "import bead_util as bu\n",
    "# import calib_util as cal\n",
    "import transfer_func_util as tf\n",
    "import configuration as config"
   ]
  },
  {
   "cell_type": "code",
   "execution_count": 161,
   "metadata": {},
   "outputs": [
    {
     "name": "stdout",
     "output_type": "stream",
     "text": [
      "Can't find/open HDF5 file : /data/old_trap/20220309/bead1/0_05mbar_xyzcool_3_8.h5\n"
     ]
    },
    {
     "name": "stderr",
     "output_type": "stream",
     "text": [
      "Traceback (most recent call last):\n",
      "  File \"../../../../nadavp/opt_lev_analysis/lib/bead_data_funcs.py\", line 45, in getdata\n",
      "    f = h5py.File(fname,'r')\n",
      "  File \"/home/analysis_user/.local/lib/python3.6/site-packages/h5py/_hl/files.py\", line 394, in __init__\n",
      "    swmr=swmr)\n",
      "  File \"/home/analysis_user/.local/lib/python3.6/site-packages/h5py/_hl/files.py\", line 170, in make_fid\n",
      "    fid = h5f.open(name, flags, fapl=fapl)\n",
      "  File \"h5py/_objects.pyx\", line 54, in h5py._objects.with_phil.wrapper\n",
      "  File \"h5py/_objects.pyx\", line 55, in h5py._objects.with_phil.wrapper\n",
      "  File \"h5py/h5f.pyx\", line 85, in h5py.h5f.open\n",
      "OSError: Unable to open file (unable to open file: name = '/data/old_trap/20220309/bead1/0_05mbar_xyzcool_3_8.h5', errno = 2, error message = 'No such file or directory', flags = 0, o_flags = 0)\n",
      "Traceback (most recent call last):\n",
      "  File \"../../../../nadavp/opt_lev_analysis/lib/bead_data_funcs.py\", line 45, in getdata\n",
      "    f = h5py.File(fname,'r')\n",
      "  File \"/home/analysis_user/.local/lib/python3.6/site-packages/h5py/_hl/files.py\", line 394, in __init__\n",
      "    swmr=swmr)\n",
      "  File \"/home/analysis_user/.local/lib/python3.6/site-packages/h5py/_hl/files.py\", line 170, in make_fid\n",
      "    fid = h5f.open(name, flags, fapl=fapl)\n",
      "  File \"h5py/_objects.pyx\", line 54, in h5py._objects.with_phil.wrapper\n",
      "  File \"h5py/_objects.pyx\", line 55, in h5py._objects.with_phil.wrapper\n",
      "  File \"h5py/h5f.pyx\", line 85, in h5py.h5f.open\n",
      "OSError: Unable to open file (unable to open file: name = '/data/old_trap/20220309/bead1/0_05mbar_xyzcool_3_8.h5', errno = 2, error message = 'No such file or directory', flags = 0, o_flags = 0)\n"
     ]
    },
    {
     "ename": "KeyError",
     "evalue": "'Time'",
     "output_type": "error",
     "traceback": [
      "\u001b[0;31m---------------------------------------------------------------------------\u001b[0m",
      "\u001b[0;31mKeyError\u001b[0m                                  Traceback (most recent call last)",
      "\u001b[0;32m/home/nadavp/opt_lev_analysis/lib/bead_util.py\u001b[0m in \u001b[0;36mload\u001b[0;34m(self, fname, plot_raw_dat, plot_sync, load_other, skip_mon, load_all_pos, verbose, skip_fpga)\u001b[0m\n\u001b[1;32m    173\u001b[0m         \u001b[0;32mtry\u001b[0m\u001b[0;34m:\u001b[0m\u001b[0;34m\u001b[0m\u001b[0;34m\u001b[0m\u001b[0m\n\u001b[0;32m--> 174\u001b[0;31m             \u001b[0mself\u001b[0m\u001b[0;34m.\u001b[0m\u001b[0mtime\u001b[0m \u001b[0;34m=\u001b[0m \u001b[0mattribs\u001b[0m\u001b[0;34m[\u001b[0m\u001b[0;34m\"time\"\u001b[0m\u001b[0;34m]\u001b[0m\u001b[0;34m\u001b[0m\u001b[0;34m\u001b[0m\u001b[0m\n\u001b[0m\u001b[1;32m    175\u001b[0m         \u001b[0;32mexcept\u001b[0m\u001b[0;34m:\u001b[0m\u001b[0;34m\u001b[0m\u001b[0;34m\u001b[0m\u001b[0m\n",
      "\u001b[0;31mKeyError\u001b[0m: 'time'",
      "\nDuring handling of the above exception, another exception occurred:\n",
      "\u001b[0;31mKeyError\u001b[0m                                  Traceback (most recent call last)",
      "\u001b[0;32m<ipython-input-161-b7510a02defd>\u001b[0m in \u001b[0;36m<module>\u001b[0;34m\u001b[0m\n\u001b[1;32m      8\u001b[0m \u001b[0;34m\u001b[0m\u001b[0m\n\u001b[1;32m      9\u001b[0m \u001b[0mdf2\u001b[0m \u001b[0;34m=\u001b[0m \u001b[0mbu\u001b[0m\u001b[0;34m.\u001b[0m\u001b[0mDataFile\u001b[0m\u001b[0;34m(\u001b[0m\u001b[0;34m)\u001b[0m\u001b[0;34m;\u001b[0m\u001b[0;34m\u001b[0m\u001b[0;34m\u001b[0m\u001b[0m\n\u001b[0;32m---> 10\u001b[0;31m \u001b[0mdf2\u001b[0m\u001b[0;34m.\u001b[0m\u001b[0mload\u001b[0m\u001b[0;34m(\u001b[0m\u001b[0mfilename2\u001b[0m\u001b[0;34m)\u001b[0m\u001b[0;34m;\u001b[0m\u001b[0;34m\u001b[0m\u001b[0;34m\u001b[0m\u001b[0m\n\u001b[0m\u001b[1;32m     11\u001b[0m \u001b[0;34m\u001b[0m\u001b[0m\n\u001b[1;32m     12\u001b[0m \u001b[0mdata\u001b[0m\u001b[0;34m=\u001b[0m\u001b[0mdf\u001b[0m\u001b[0;34m.\u001b[0m\u001b[0mpos_data\u001b[0m\u001b[0;34m\u001b[0m\u001b[0;34m\u001b[0m\u001b[0m\n",
      "\u001b[0;32m/home/nadavp/opt_lev_analysis/lib/bead_util.py\u001b[0m in \u001b[0;36mload\u001b[0;34m(self, fname, plot_raw_dat, plot_sync, load_other, skip_mon, load_all_pos, verbose, skip_fpga)\u001b[0m\n\u001b[1;32m    174\u001b[0m             \u001b[0mself\u001b[0m\u001b[0;34m.\u001b[0m\u001b[0mtime\u001b[0m \u001b[0;34m=\u001b[0m \u001b[0mattribs\u001b[0m\u001b[0;34m[\u001b[0m\u001b[0;34m\"time\"\u001b[0m\u001b[0;34m]\u001b[0m\u001b[0;34m\u001b[0m\u001b[0;34m\u001b[0m\u001b[0m\n\u001b[1;32m    175\u001b[0m         \u001b[0;32mexcept\u001b[0m\u001b[0;34m:\u001b[0m\u001b[0;34m\u001b[0m\u001b[0;34m\u001b[0m\u001b[0m\n\u001b[0;32m--> 176\u001b[0;31m             \u001b[0mself\u001b[0m\u001b[0;34m.\u001b[0m\u001b[0mtime\u001b[0m \u001b[0;34m=\u001b[0m \u001b[0mattribs\u001b[0m\u001b[0;34m[\u001b[0m\u001b[0;34m\"Time\"\u001b[0m\u001b[0;34m]\u001b[0m\u001b[0;34m\u001b[0m\u001b[0;34m\u001b[0m\u001b[0m\n\u001b[0m\u001b[1;32m    177\u001b[0m \u001b[0;34m\u001b[0m\u001b[0m\n\u001b[1;32m    178\u001b[0m         \u001b[0;32mif\u001b[0m \u001b[0mself\u001b[0m\u001b[0;34m.\u001b[0m\u001b[0mtime\u001b[0m \u001b[0;34m==\u001b[0m \u001b[0;36m0\u001b[0m\u001b[0;34m:\u001b[0m\u001b[0;34m\u001b[0m\u001b[0;34m\u001b[0m\u001b[0m\n",
      "\u001b[0;31mKeyError\u001b[0m: 'Time'"
     ]
    }
   ],
   "source": [
    "filename = r'/data/old_trap/20220309/bead1/1mbar_xyzcool_3_8.h5'\n",
    "filename2 = r'/data/old_trap/20220309/bead1/0_05mbar_xyzcool_3_8.h5'\n",
    "fsamp = 5000\n",
    "res = 5000\n",
    "\n",
    "df = bu.DataFile();\n",
    "df.load(filename);\n",
    "\n",
    "df2 = bu.DataFile();\n",
    "df2.load(filename2);\n",
    "\n",
    "data=df.pos_data\n",
    "data_det=signal.detrend(data)\n",
    "xpsd, freqs = matplotlib.mlab.psd(data_det[0], Fs = fsamp, NFFT = res)\n",
    "ypsd, freqs = matplotlib.mlab.psd(data_det[1], Fs = fsamp, NFFT = res)\n",
    "zpsd, freqs = matplotlib.mlab.psd(data_det[2], Fs = fsamp, NFFT = res)\n",
    "\n",
    "\n",
    "data2=df2.pos_data\n",
    "data_det2=signal.detrend(data2)\n",
    "xpsd2, freqs = matplotlib.mlab.psd(data_det2[0], Fs = fsamp, NFFT = res)\n",
    "ypsd2, freqs = matplotlib.mlab.psd(data_det2[1], Fs = fsamp, NFFT = res)\n",
    "zpsd2, freqs = matplotlib.mlab.psd(data_det2[2], Fs = fsamp, NFFT = res)"
   ]
  },
  {
   "cell_type": "code",
   "execution_count": 144,
   "metadata": {},
   "outputs": [
    {
     "data": {
      "application/vnd.jupyter.widget-view+json": {
       "model_id": "ff98625056be40c6b1fd8855aad6cb8c",
       "version_major": 2,
       "version_minor": 0
      },
      "text/plain": [
       "Canvas(toolbar=Toolbar(toolitems=[('Home', 'Reset original view', 'home', 'home'), ('Back', 'Back to previous …"
      ]
     },
     "metadata": {},
     "output_type": "display_data"
    },
    {
     "data": {
      "text/plain": [
       "array([ 1.15505339])"
      ]
     },
     "execution_count": 144,
     "metadata": {},
     "output_type": "execute_result"
    }
   ],
   "source": [
    "_,ax = plt.subplots()\n",
    "ax.loglog(freqs, xpsd, '.-', label=\"first\",markersize=1,linewidth=0.5)\n",
    "ax.loglog(freqs, xpsd2, '.-', label=\"second\",markersize=1,linewidth=0.5)\n",
    "# ax.loglog(freqs, zpsd*10, '.-', label=\"z*10\",markersize=1,linewidth=0.5)\n",
    "# ax.legend()\n",
    "ax.set_xlabel('Frequency [Hz]')\n",
    "ax.set_ylabel(r'PSD [bits$^2/Hz.$]')\n",
    "# plt.xlim(1,500)\n",
    "#plt.ylim(1e6,1e10)\n",
    "plt.grid(True)\n",
    "1/(np.sqrt(ypsd2[freqs==139]/ypsd2[freqs==141]))"
   ]
  },
  {
   "cell_type": "code",
   "execution_count": 145,
   "metadata": {},
   "outputs": [
    {
     "data": {
      "application/vnd.jupyter.widget-view+json": {
       "model_id": "1a324eb3531a44e3b7eba6af981ff998",
       "version_major": 2,
       "version_minor": 0
      },
      "text/plain": [
       "Canvas(toolbar=Toolbar(toolitems=[('Home', 'Reset original view', 'home', 'home'), ('Back', 'Back to previous …"
      ]
     },
     "metadata": {},
     "output_type": "display_data"
    },
    {
     "name": "stdout",
     "output_type": "stream",
     "text": [
      "[ 0.35741057]\n",
      "[ 0.15689246]\n",
      "[ 0.39747803]\n"
     ]
    }
   ],
   "source": [
    "_,ax = plt.subplots()\n",
    "ax.loglog(freqs, zpsd, '.-', label=\"1st file\",markersize=1,linewidth=0.5)\n",
    "ax.loglog(freqs, zpsd2, '.-', label=\"2nd file\",markersize=1,linewidth=0.5)\n",
    "# ax.loglog(freqs, zpsd*10, '.-', label=\"z*10\",markersize=1,linewidth=0.5)\n",
    "# ax.legend()\n",
    "ax.set_xlabel('Frequency [Hz]')\n",
    "ax.set_ylabel('PSD [a.u.]')\n",
    "#plt.xlim(1,2500)\n",
    "#plt.ylim(1e6,1e10)\n",
    "plt.grid(True)\n",
    "\n",
    "freq_drive = 139\n",
    "print(np.sqrt(zpsd2[freqs==freq_drive]/zpsd[freqs==freq_drive]))\n",
    "print(np.sqrt(xpsd2[freqs==freq_drive]/xpsd[freqs==freq_drive]))\n",
    "print(np.sqrt(ypsd2[freqs==freq_drive]/ypsd[freqs==freq_drive]))"
   ]
  },
  {
   "cell_type": "code",
   "execution_count": null,
   "metadata": {},
   "outputs": [],
   "source": []
  },
  {
   "cell_type": "code",
   "execution_count": 57,
   "metadata": {},
   "outputs": [],
   "source": [
    "bandwidth = 2\n",
    "decimate = 10\n",
    "drive_freq = 139\n",
    "fsamp = 5000"
   ]
  },
  {
   "cell_type": "code",
   "execution_count": 60,
   "metadata": {},
   "outputs": [],
   "source": [
    "ll = likelihood_analyser.LikelihoodAnalyser()\n",
    "\n",
    "## extracing the amplitude at a certain frequency \n",
    "def func1_scale(i):\n",
    "    \n",
    "    bb = step_file_objs[i]      \n",
    "    \n",
    "    ## extract drive phase\n",
    "    freq2 = np.fft.rfftfreq(len(bb.other_data[4]), d=1./5000)\n",
    "    fft_angles = np.angle(np.fft.rfft(bb.other_data[4]))\n",
    "    phi_tmp2 = (fft_angles[freq2==drive_freq]+np.pi/2)%(2*np.pi)\n",
    "\n",
    "    phase_diff = 0\n",
    "    fit_kwargs = {'A': 0, 'f': drive_freq, 'phi': phi_tmp2+phase_diff, \n",
    "                  'error_A': 0.1, 'error_f': 1, 'error_phi': 0.5, 'errordef': 1,\n",
    "                  'limit_A': [-100000, 100000], 'fix_phi': False, 'fix_f': True,\n",
    "                  'print_level': 0}\n",
    "    \n",
    "    ## bandpass data\n",
    "    b, a = signal.butter(3, [2.*(drive_freq-bandwidth/2.)/fsamp, 2.*(drive_freq+bandwidth/2.)/fsamp ], btype = 'bandpass')\n",
    "    bb.load_other_data()\n",
    "    xx2 = signal.filtfilt(b, a, bb.pos_data[0])[::decimate]\n",
    "    ## extract amplitude\n",
    "    m1_tmp = ll.find_mle_sin(xx2, fsamp=5000/decimate, noise_rms=1, plot=False, suppress_print=True, **fit_kwargs)\n",
    "    \n",
    "    return m1_tmp.values[0], m1_tmp.values[2]-phi_tmp2"
   ]
  },
  {
   "cell_type": "code",
   "execution_count": 117,
   "metadata": {},
   "outputs": [
    {
     "name": "stdout",
     "output_type": "stream",
     "text": [
      "55\n"
     ]
    }
   ],
   "source": [
    "## load all data to a list - step_file_objs\n",
    "step_cal_dir = r'/data/old_trap/20220225/bead1/discharge/coarse_4/'\n",
    "max_file = 500\n",
    "\n",
    "step_cal_files = []\n",
    "for root, dirnames, filenames in os.walk(step_cal_dir):\n",
    "    for filename in fnmatch.filter(filenames, '*' + config.extensions['data']):\n",
    "        if '_fpga.h5' in filename:\n",
    "            continue\n",
    "        step_cal_files.append(os.path.join(root, filename))\n",
    "step_cal_files.sort(key = bu.find_str)\n",
    "num_calib_files = len(step_cal_files)\n",
    "print(num_calib_files)\n",
    "\n",
    "# Do the step calibration\n",
    "\n",
    "step_file_objs = []\n",
    "for filname in step_cal_files[:]:\n",
    "    try:\n",
    "        df = bu.DataFile();\n",
    "        df.load(filname);\n",
    "        df.load_other_data()\n",
    "        step_file_objs.append(df);\n",
    "    except:\n",
    "        print('***')"
   ]
  },
  {
   "cell_type": "code",
   "execution_count": 118,
   "metadata": {},
   "outputs": [],
   "source": [
    "## run the function on all calibration files\n",
    "amps = []\n",
    "for i in range(num_calib_files-1):\n",
    "#     print(i,'/',len(step_cal_files))\n",
    "    amps.append(func1_scale(i))"
   ]
  },
  {
   "cell_type": "code",
   "execution_count": 119,
   "metadata": {},
   "outputs": [
    {
     "name": "stderr",
     "output_type": "stream",
     "text": [
      "/home/analysis_user/.local/lib/python3.6/site-packages/ipykernel_launcher.py:1: VisibleDeprecationWarning: Creating an ndarray from ragged nested sequences (which is a list-or-tuple of lists-or-tuples-or ndarrays with different lengths or shapes) is deprecated. If you meant to do this, you must specify 'dtype=object' when creating the ndarray\n",
      "  \"\"\"Entry point for launching an IPython kernel.\n"
     ]
    }
   ],
   "source": [
    "amps = np.array(amps)"
   ]
  },
  {
   "cell_type": "code",
   "execution_count": 120,
   "metadata": {},
   "outputs": [
    {
     "data": {
      "application/vnd.jupyter.widget-view+json": {
       "model_id": "263737f1b4f6408ba25b9c7cfa558af5",
       "version_major": 2,
       "version_minor": 0
      },
      "text/plain": [
       "Canvas(toolbar=Toolbar(toolitems=[('Home', 'Reset original view', 'home', 'home'), ('Back', 'Back to previous …"
      ]
     },
     "metadata": {},
     "output_type": "display_data"
    }
   ],
   "source": [
    "amps_plot = np.array(amps.T[0,:])\n",
    "# scaleY = np.abs(np.mean(amps[150:,0]))/4 ## scale is taken from the highest step\n",
    "\n",
    "_,ax = plt.subplots(figsize=(9.5,4))\n",
    "ax.scatter(range(len(amps_plot)), amps_plot, label='fit phase')\n",
    "\n",
    "ax.set(xlabel='dataset', ylabel='electron charges', ylim=(None, None), xlim=(None,None))\n",
    "ax.grid(axis='y')\n",
    "ax.minorticks_on()\n",
    "ax.grid(which='major', linestyle='-', linewidth='0.5', color='red')\n",
    "ax.grid(which='minor', linestyle=':', linewidth='0.5', color='black')\n",
    "from matplotlib.ticker import MaxNLocator\n",
    "\n",
    "ax.yaxis.set_major_locator(MaxNLocator(integer=True))"
   ]
  },
  {
   "cell_type": "code",
   "execution_count": null,
   "metadata": {},
   "outputs": [],
   "source": []
  }
 ],
 "metadata": {
  "kernelspec": {
   "display_name": "Python 3",
   "language": "python",
   "name": "python3"
  },
  "language_info": {
   "codemirror_mode": {
    "name": "ipython",
    "version": 3
   },
   "file_extension": ".py",
   "mimetype": "text/x-python",
   "name": "python",
   "nbconvert_exporter": "python",
   "pygments_lexer": "ipython3",
   "version": "3.6.9"
  }
 },
 "nbformat": 4,
 "nbformat_minor": 4
}
