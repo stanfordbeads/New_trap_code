{
 "cells": [
  {
   "cell_type": "code",
   "execution_count": 2,
   "metadata": {},
   "outputs": [],
   "source": [
    "import numpy as np\n",
    "import matplotlib.pyplot as plt\n",
    "import matplotlib\n",
    "from scipy import signal\n",
    "from scipy.optimize import minimize\n",
    "\n",
    "import random\n",
    "\n",
    "import h5py\n",
    "from IPython.utils import io\n",
    "\n",
    "from joblib import Parallel, delayed\n",
    "from tqdm import tqdm\n",
    "import sys"
   ]
  },
  {
   "cell_type": "code",
   "execution_count": 3,
   "metadata": {},
   "outputs": [],
   "source": [
    "%matplotlib widget\n",
    "\n",
    "%reload_ext autoreload\n",
    "%autoreload 2"
   ]
  },
  {
   "cell_type": "code",
   "execution_count": 4,
   "metadata": {},
   "outputs": [],
   "source": [
    "sys.path.append('../../../../nadavp/new_trap/Tools/')\n",
    "sys.path.append('../../../../nadavp/new_trap/Tools/StatFramework/')\n",
    "sys.path.append('../../../../nadavp/opt_lev_analysis/lib/')\n",
    "import BeadDataFile\n",
    "from discharge_tools import *"
   ]
  },
  {
   "cell_type": "code",
   "execution_count": 5,
   "metadata": {},
   "outputs": [],
   "source": [
    "import bead_util as bu\n",
    "# import calib_util as cal\n",
    "import transfer_func_util as tf\n",
    "import configuration as config"
   ]
  },
  {
   "cell_type": "code",
   "execution_count": null,
   "metadata": {},
   "outputs": [],
   "source": []
  },
  {
   "cell_type": "code",
   "execution_count": null,
   "metadata": {},
   "outputs": [],
   "source": []
  },
  {
   "cell_type": "code",
   "execution_count": null,
   "metadata": {},
   "outputs": [],
   "source": []
  },
  {
   "cell_type": "markdown",
   "metadata": {},
   "source": [
    "### Calibration "
   ]
  },
  {
   "cell_type": "code",
   "execution_count": 162,
   "metadata": {},
   "outputs": [],
   "source": [
    "bandwidth = 2\n",
    "decimate = 10\n",
    "drive_freq = 71\n",
    "fsamp = 5000"
   ]
  },
  {
   "cell_type": "code",
   "execution_count": 677,
   "metadata": {},
   "outputs": [],
   "source": [
    "ll = likelihood_analyser.LikelihoodAnalyser()\n",
    "\n",
    "## extracing the amplitude at a certain frequency \n",
    "def func1_scale(i):\n",
    "    \n",
    "    bb = step_file_objs[i]      \n",
    "    \n",
    "    ## extract drive phase\n",
    "    freq2 = np.fft.rfftfreq(len(bb.other_data[1]), d=1./5000)\n",
    "    fft_angles = np.angle(np.fft.rfft(bb.other_data[2]))\n",
    "    phi_tmp2 = (fft_angles[freq2==drive_freq]+np.pi/2)%(2*np.pi)\n",
    "#     print(np.std(bb.other_data[1])*100*np.sqrt(2))\n",
    "    \n",
    "    phase_diff = 0.178 ## at 242Hz wrt. other_data[2]\n",
    "#     phase_diff = -0.19 ## at 242Hz wrt. other_data[2]\n",
    "\n",
    "    fit_kwargs = {'A': 0, 'f': drive_freq, 'phi': phi_tmp2+phase_diff, \n",
    "                  'error_A': 0.1, 'error_f': 1, 'error_phi': 0.5, 'errordef': 1,\n",
    "                  'limit_A': [-100000, 100000],'fix_phi': True, 'fix_f': True,\n",
    "                  'print_level': 0}\n",
    "    \n",
    "    ## bandpass data\n",
    "    b, a = signal.butter(3, [2.*(drive_freq-bandwidth/2.)/fsamp, 2.*(drive_freq+bandwidth/2.)/fsamp ], btype = 'bandpass')\n",
    "    bb.load_other_data()\n",
    "    xx2 = signal.filtfilt(b, a, bb.pos_data[2])[::decimate]\n",
    "    ## extract amplitude\n",
    "    m1_tmp = ll.find_mle_sin(xx2, fsamp=5000/decimate, noise_rms=1, plot=False, suppress_print=True, **fit_kwargs)\n",
    "    \n",
    "    return m1_tmp.values[0], m1_tmp.values[2]-phi_tmp2"
   ]
  },
  {
   "cell_type": "code",
   "execution_count": 749,
   "metadata": {},
   "outputs": [
    {
     "name": "stdout",
     "output_type": "stream",
     "text": [
      "209\n"
     ]
    }
   ],
   "source": [
    "## load all data to a list - step_file_objs\n",
    "step_cal_dir = r'/data/old_trap/20220314/bead1/recharge_20220316/'\n",
    "max_file = 1000\n",
    "\n",
    "step_cal_files = []\n",
    "for root, dirnames, filenames in os.walk(step_cal_dir):\n",
    "    for filename in fnmatch.filter(filenames, '*' + config.extensions['data']):\n",
    "        if '_fpga.h5' in filename:\n",
    "            continue\n",
    "        step_cal_files.append(os.path.join(root, filename))\n",
    "step_cal_files.sort(key = bu.find_str)\n",
    "num_calib_files = len(step_cal_files)\n",
    "print(num_calib_files)\n",
    "\n",
    "# Do the step calibration\n",
    "\n",
    "step_file_objs = []\n",
    "# step_cal_files = step_cal_files[:22]+step_cal_files[23:74]+step_cal_files[75:]\n",
    "for filname in step_cal_files[200:]:\n",
    "    try:\n",
    "        df = bu.DataFile();\n",
    "        df.load(filname);\n",
    "        df.load_other_data()\n",
    "        step_file_objs.append(df);\n",
    "    except:\n",
    "        print('***')"
   ]
  },
  {
   "cell_type": "code",
   "execution_count": 750,
   "metadata": {},
   "outputs": [
    {
     "name": "stderr",
     "output_type": "stream",
     "text": [
      "/home/analysis_user/.local/lib/python3.6/site-packages/ipykernel_launcher.py:7: VisibleDeprecationWarning: Creating an ndarray from ragged nested sequences (which is a list-or-tuple of lists-or-tuples-or ndarrays with different lengths or shapes) is deprecated. If you meant to do this, you must specify 'dtype=object' when creating the ndarray\n",
      "  import sys\n"
     ]
    }
   ],
   "source": [
    "## run the function on all calibration files\n",
    "amps = []\n",
    "for i in range(num_calib_files-200):\n",
    "#     print(i,'/',len(step_cal_files))\n",
    "    amps.append(func1_scale(i))\n",
    "# amps = np.array(amps[:69]+amps[70:])\n",
    "amps = np.array(amps)"
   ]
  },
  {
   "cell_type": "code",
   "execution_count": 751,
   "metadata": {},
   "outputs": [
    {
     "data": {
      "text/plain": [
       "239.18135117567545"
      ]
     },
     "execution_count": 751,
     "metadata": {},
     "output_type": "execute_result"
    }
   ],
   "source": [
    "scaleX_242 = 42.44\n",
    "scaleZ_71"
   ]
  },
  {
   "cell_type": "code",
   "execution_count": 752,
   "metadata": {},
   "outputs": [
    {
     "data": {
      "text/plain": [
       "(array([ 0.178]), array([ 0.]))"
      ]
     },
     "execution_count": 752,
     "metadata": {},
     "output_type": "execute_result"
    }
   ],
   "source": [
    "np.mean(amps.T[1,5:19]), np.std(amps.T[1,5:19])"
   ]
  },
  {
   "cell_type": "code",
   "execution_count": 753,
   "metadata": {},
   "outputs": [
    {
     "data": {
      "application/vnd.jupyter.widget-view+json": {
       "model_id": "40725cbd0215475ab67e7d5ff0e0dde2",
       "version_major": 2,
       "version_minor": 0
      },
      "text/plain": [
       "Canvas(toolbar=Toolbar(toolitems=[('Home', 'Reset original view', 'home', 'home'), ('Back', 'Back to previous …"
      ]
     },
     "metadata": {},
     "output_type": "display_data"
    },
    {
     "name": "stdout",
     "output_type": "stream",
     "text": [
      "-59.864154581511144 1.11410841653\n"
     ]
    }
   ],
   "source": [
    "amps_plot = np.array(amps.T[0,:])\n",
    "# scaleZ_71 = np.abs(np.mean(amps_plot[90:130]))\n",
    "amps_plot /= scaleZ_71\n",
    "\n",
    "_,ax = plt.subplots(figsize=(9.5,4))\n",
    "ax.scatter(range(len(amps_plot)), amps_plot, label='fit phase')\n",
    "\n",
    "# ax.set(xlabel='dataset', ylabel='electron charges', ylim=(-0.3, 0.3), xlim=(None,None))\n",
    "ax.grid(axis='y')\n",
    "ax.minorticks_on()\n",
    "ax.grid(which='major', linestyle='-', linewidth='0.5', color='red')\n",
    "ax.grid(which='minor', linestyle=':', linewidth='0.5', color='black')\n",
    "from matplotlib.ticker import MaxNLocator\n",
    "\n",
    "ax.yaxis.set_major_locator(MaxNLocator(integer=True))\n",
    "print(np.mean(amps_plot), np.std(amps_plot)/np.sqrt(len(amps_plot)))"
   ]
  },
  {
   "cell_type": "code",
   "execution_count": 489,
   "metadata": {},
   "outputs": [
    {
     "name": "stdout",
     "output_type": "stream",
     "text": [
      "estimated force sensitivity [N]:  4.29818486945e-16\n",
      "estimated acceleration sensitivity [m/s2]:  4.29818486945e-07\n"
     ]
    }
   ],
   "source": [
    "## estimated z noise floor\n",
    "print('estimated force sensitivity [N]: ', np.std(amps_plot[-10:])*1.6e-19*50/4e-3*0.63*np.sqrt(10))\n",
    "print('estimated acceleration sensitivity [m/s2]: ', np.std(amps_plot[-10:])*1.6e-19*50/4e-3*0.63/1e-9*np.sqrt(10))"
   ]
  },
  {
   "cell_type": "code",
   "execution_count": 74,
   "metadata": {},
   "outputs": [
    {
     "data": {
      "text/plain": [
       "42.441002443708321"
      ]
     },
     "execution_count": 74,
     "metadata": {},
     "output_type": "execute_result"
    }
   ],
   "source": [
    "scaleX"
   ]
  },
  {
   "cell_type": "code",
   "execution_count": 71,
   "metadata": {},
   "outputs": [],
   "source": [
    "fsamp = 5000\n",
    "res = 5000\n",
    "bb = step_file_objs[79]\n",
    "zpsd, freqs = matplotlib.mlab.psd(bb.pos_data[2], Fs = fsamp, NFFT = res)\n",
    "zpsd10, freqs10 = matplotlib.mlab.psd(bb.pos_data[2], Fs = fsamp, NFFT = res*10)\n",
    "scale_asd = np.sqrt(zpsd[freqs==242])\n",
    "force = 2*1.6e-19*25/4e-3*0.63"
   ]
  },
  {
   "cell_type": "code",
   "execution_count": 187,
   "metadata": {},
   "outputs": [
    {
     "data": {
      "text/plain": [
       "array([-2.03097581, -0.87800412,  0.86091402, ..., -3.41527428,\n",
       "       -3.22545205, -2.98558022])"
      ]
     },
     "execution_count": 187,
     "metadata": {},
     "output_type": "execute_result"
    }
   ],
   "source": [
    "df.electrode_data[1]"
   ]
  },
  {
   "cell_type": "code",
   "execution_count": 124,
   "metadata": {},
   "outputs": [],
   "source": [
    "filename = r'/data/old_trap/20220328/bead1/TF_X/TF_X_50sec_elec3_4000mV41Hz0mVdc_0.h5'\n",
    "filename2 = r'/data/old_trap/20220328/bead1/TF_Z/TF_Z_50sec_elec3_4000mV41Hz0mVdc_0.h5'\n",
    "\n",
    "fsamp = 5000\n",
    "res = 25000\n",
    "\n",
    "df = bu.DataFile();\n",
    "df.load(filename);\n",
    "\n",
    "df2 = bu.DataFile();\n",
    "df2.load(filename2);\n",
    "\n",
    "data=df.pos_data\n",
    "data_det=signal.detrend(data)\n",
    "xpsd, freqs = matplotlib.mlab.psd(data_det[0], Fs = fsamp, NFFT = res)\n",
    "ypsd, freqs = matplotlib.mlab.psd(data_det[1], Fs = fsamp, NFFT = res)\n",
    "zpsd, freqs = matplotlib.mlab.psd(data_det[2], Fs = fsamp, NFFT = res)\n",
    "\n",
    "\n",
    "data2=df2.pos_data\n",
    "data_det2=signal.detrend(data2)\n",
    "xpsd2, freqs = matplotlib.mlab.psd(data_det2[0], Fs = fsamp, NFFT = res)\n",
    "ypsd2, freqs = matplotlib.mlab.psd(data_det2[1], Fs = fsamp, NFFT = res)\n",
    "zpsd2, freqs = matplotlib.mlab.psd(data_det2[2], Fs = fsamp, NFFT = res)"
   ]
  },
  {
   "cell_type": "code",
   "execution_count": 148,
   "metadata": {},
   "outputs": [],
   "source": [
    "xpsd_tf = xpsd*0\n",
    "xpsd_noise_floor = xpsd*0\n",
    "\n",
    "for i in range(10):\n",
    "    filename = r'/data/old_trap/20220328/bead1/TF_X/TF_X_50sec_elec3_4000mV41Hz0mVdc_'+str(i)+'.h5'\n",
    "    df = bu.DataFile();\n",
    "    df.load(filename);\n",
    "    data=df.pos_data\n",
    "    data_det=signal.detrend(data)\n",
    "    xpsd_tmp, freqs = matplotlib.mlab.psd(data_det[0], Fs = fsamp, NFFT = res)\n",
    "    xpsd_tf += xpsd_tmp\n",
    "    df.load_other_data()\n",
    "    xpsd_voltage, freqs = matplotlib.mlab.psd(df.other_data[1], Fs = fsamp, NFFT = res)\n",
    "    xpsd_noise_floor += xpsd_voltage*0.1\n",
    "    \n",
    "zpsd_tf = zpsd*0\n",
    "for i in range(10):\n",
    "    filename = r'/data/old_trap/20220328/bead1/TF_Z/TF_Z_50sec_elec3_4000mV41Hz0mVdc_'+str(i)+'.h5'\n",
    "    df = bu.DataFile();\n",
    "    df.load(filename);\n",
    "    data=df.pos_data\n",
    "    data_det=signal.detrend(data)\n",
    "    zpsd_tmp, freqs = matplotlib.mlab.psd(data_det[2], Fs = fsamp, NFFT = res)\n",
    "    zpsd_tf += zpsd_tmp\n"
   ]
  },
  {
   "cell_type": "code",
   "execution_count": 145,
   "metadata": {},
   "outputs": [
    {
     "data": {
      "application/vnd.jupyter.widget-view+json": {
       "model_id": "11176a46d9504f4497f1142fc9c3ca49",
       "version_major": 2,
       "version_minor": 0
      },
      "text/plain": [
       "Canvas(toolbar=Toolbar(toolitems=[('Home', 'Reset original view', 'home', 'home'), ('Back', 'Back to previous …"
      ]
     },
     "metadata": {},
     "output_type": "display_data"
    },
    {
     "data": {
      "text/plain": [
       "(412.40000000000003, 412.40000000000003)"
      ]
     },
     "execution_count": 145,
     "metadata": {},
     "output_type": "execute_result"
    }
   ],
   "source": [
    "_,ax = plt.subplots()\n",
    "ax.semilogy(freqs, xpsd_noise_floor, '.-', label=\"first\",markersize=1,linewidth=0.5)\n",
    "ax.semilogy(freqs, xpsd_tf/10, '.-', label=\"second\",markersize=1,linewidth=0.5)\n",
    "# ax.loglog(freqs, response/10, '.-', label=\"response\",markersize=1,linewidth=0.5)\n",
    "\n",
    "# ax.loglog(freqs, zpsd*10, '.-', label=\"z*10\",markersize=1,linewidth=0.5)\n",
    "# ax.legend()\n",
    "ax.set_xlabel('Frequency [Hz]')\n",
    "ax.set_ylabel(r'PSD [bits$^2/Hz.$]')\n",
    "plt.xlim(1,600)\n",
    "#plt.ylim(1e6,1e10)\n",
    "plt.grid(True)\n",
    "# (np.sqrt(zpsd[freqs==242])/scale_asd*force)/1e-9/10\n",
    "\n",
    "psd_tmp = xpsd[100:]\n",
    "freq_tmp = freqs[100:]\n",
    "freqs[np.argmax(xpsd)], freq_tmp[np.argmax(psd_tmp)]"
   ]
  },
  {
   "cell_type": "code",
   "execution_count": 134,
   "metadata": {},
   "outputs": [
    {
     "data": {
      "application/vnd.jupyter.widget-view+json": {
       "model_id": "3be66bb3f638421aa984130076f07977",
       "version_major": 2,
       "version_minor": 0
      },
      "text/plain": [
       "Canvas(toolbar=Toolbar(toolitems=[('Home', 'Reset original view', 'home', 'home'), ('Back', 'Back to previous …"
      ]
     },
     "metadata": {},
     "output_type": "display_data"
    },
    {
     "name": "stdout",
     "output_type": "stream",
     "text": [
      "[ 0.70054945]\n",
      "[ 0.74607774]\n",
      "[ 0.99754135]\n"
     ]
    }
   ],
   "source": [
    "_,ax = plt.subplots()\n",
    "ax.semilogy(freqs, zpsd, '.-', label=\"1st file\",markersize=1,linewidth=0.5)\n",
    "ax.semilogy(freqs, zpsd_tf/10, '.-', label=\"2nd file\",markersize=1,linewidth=0.5)\n",
    "\n",
    "# ax.loglog(freqs, zpsd*10, '.-', label=\"z*10\",markersize=1,linewidth=0.5)\n",
    "ax.legend()\n",
    "ax.set_xlabel('Frequency [Hz]')\n",
    "ax.set_ylabel('PSD [a.u.]')\n",
    "plt.xlim(1,600)\n",
    "#plt.ylim(1e6,1e10)\n",
    "plt.grid(True)\n",
    "\n",
    "freq_drive = 139\n",
    "print(np.sqrt(zpsd2[freqs==71]/zpsd[freqs==71]))\n",
    "print(np.sqrt(xpsd2[freqs==freq_drive]/xpsd[freqs==freq_drive]))\n",
    "print(np.sqrt(ypsd2[freqs==freq_drive]/ypsd[freqs==freq_drive]))"
   ]
  },
  {
   "cell_type": "code",
   "execution_count": 368,
   "metadata": {},
   "outputs": [
    {
     "data": {
      "application/vnd.jupyter.widget-view+json": {
       "model_id": "e51ee07a1678433ab5e401aeb26d39bd",
       "version_major": 2,
       "version_minor": 0
      },
      "text/plain": [
       "Canvas(toolbar=Toolbar(toolitems=[('Home', 'Reset original view', 'home', 'home'), ('Back', 'Back to previous …"
      ]
     },
     "metadata": {},
     "output_type": "display_data"
    },
    {
     "data": {
      "text/plain": [
       "0.45736973496290939"
      ]
     },
     "execution_count": 368,
     "metadata": {},
     "output_type": "execute_result"
    }
   ],
   "source": [
    "_,ax = plt.subplots(figsize=(9.2,4))\n",
    "ax.plot(range(25000), df.electrode_data[1,:25000])\n",
    "ax.plot(range(25000), df2.electrode_data[1,:25000])\n",
    "\n",
    "drive_freq2 = 13\n",
    "bandwidth2 = 5\n",
    "fsamp = 5000\n",
    "b, a = signal.butter(3, [2.*(drive_freq2-bandwidth2/2.)/fsamp, 2.*(drive_freq2+bandwidth2/2.)/fsamp ], btype = 'bandpass')\n",
    "xx2 = signal.filtfilt(b, a, df.electrode_data[1,:25000])\n",
    "\n",
    "ax.plot(range(25000), xx2)\n",
    "\n",
    "np.std(xx2)*np.sqrt(2), "
   ]
  },
  {
   "cell_type": "code",
   "execution_count": null,
   "metadata": {},
   "outputs": [],
   "source": []
  },
  {
   "cell_type": "markdown",
   "metadata": {},
   "source": [
    "### Recharge"
   ]
  },
  {
   "cell_type": "code",
   "execution_count": 239,
   "metadata": {},
   "outputs": [],
   "source": [
    "ll = likelihood_analyser.LikelihoodAnalyser()\n",
    "\n",
    "## extracing the amplitude at a certain frequency \n",
    "def func1_scaleX(i):\n",
    "    \n",
    "    bb = step_file_objs[i]      \n",
    "    \n",
    "    ## extract drive phase\n",
    "    freq2 = np.fft.rfftfreq(len(bb.other_data[3]), d=1./5000)\n",
    "    fft_angles = np.angle(np.fft.rfft(bb.other_data[3]))\n",
    "    phi_tmp2 = (fft_angles[freq2==drive_freq]+np.pi/2)%(2*np.pi)\n",
    "#     print(np.std(bb.other_data[3])*100*np.sqrt(2))\n",
    "    \n",
    "    phase_diff = 0.6\n",
    "    fit_kwargs = {'A': 0, 'f': drive_freq, 'phi': phi_tmp2+phase_diff, \n",
    "                  'error_A': 0.1, 'error_f': 1, 'error_phi': 0.5, 'errordef': 1,\n",
    "                  'limit_A': [-100000, 100000], 'fix_phi': False, 'fix_f': True,\n",
    "                  'print_level': 0}\n",
    "    \n",
    "    ## bandpass data\n",
    "    b, a = signal.butter(3, [2.*(drive_freq-bandwidth/2.)/fsamp, 2.*(drive_freq+bandwidth/2.)/fsamp ], btype = 'bandpass')\n",
    "    bb.load_other_data()\n",
    "    xx2 = signal.filtfilt(b, a, bb.pos_data[0])[::decimate]\n",
    "    ## extract amplitude\n",
    "    m1_tmp = ll.find_mle_sin(xx2, fsamp=5000/decimate, noise_rms=1, plot=False, suppress_print=True, **fit_kwargs)\n",
    "    \n",
    "    return m1_tmp.values[0], m1_tmp.values[2]-phi_tmp2"
   ]
  },
  {
   "cell_type": "code",
   "execution_count": 248,
   "metadata": {},
   "outputs": [
    {
     "name": "stdout",
     "output_type": "stream",
     "text": [
      "10\n"
     ]
    }
   ],
   "source": [
    "## load all data to a list - step_file_objs\n",
    "step_cal_dir = r'/data/old_trap/20220309/bead1/recharge/check_neutrality2/'\n",
    "max_file = 500\n",
    "\n",
    "step_cal_files = []\n",
    "for root, dirnames, filenames in os.walk(step_cal_dir):\n",
    "    for filename in fnmatch.filter(filenames, '*' + config.extensions['data']):\n",
    "        if '_fpga.h5' in filename:\n",
    "            continue\n",
    "        step_cal_files.append(os.path.join(root, filename))\n",
    "step_cal_files.sort(key = bu.find_str)\n",
    "num_calib_files = len(step_cal_files)\n",
    "print(num_calib_files)\n",
    "\n",
    "# Do the step calibration\n",
    "\n",
    "step_file_objs = []\n",
    "for filname in step_cal_files[:]:\n",
    "    try:\n",
    "        df = bu.DataFile();\n",
    "        df.load(filname);\n",
    "        df.load_other_data()\n",
    "        step_file_objs.append(df);\n",
    "    except:\n",
    "        print('***')"
   ]
  },
  {
   "cell_type": "code",
   "execution_count": 249,
   "metadata": {},
   "outputs": [
    {
     "name": "stderr",
     "output_type": "stream",
     "text": [
      "/home/analysis_user/.local/lib/python3.6/site-packages/ipykernel_launcher.py:6: VisibleDeprecationWarning: Creating an ndarray from ragged nested sequences (which is a list-or-tuple of lists-or-tuples-or ndarrays with different lengths or shapes) is deprecated. If you meant to do this, you must specify 'dtype=object' when creating the ndarray\n",
      "  \n"
     ]
    }
   ],
   "source": [
    "## run the function on all calibration files\n",
    "amps = []\n",
    "for i in range(num_calib_files):\n",
    "#     print(i,'/',len(step_cal_files))\n",
    "    amps.append(func1_scaleX(i))\n",
    "amps = np.array(amps)"
   ]
  },
  {
   "cell_type": "code",
   "execution_count": 250,
   "metadata": {},
   "outputs": [
    {
     "data": {
      "application/vnd.jupyter.widget-view+json": {
       "model_id": "890ac40619ed4105856d2a27264bddca",
       "version_major": 2,
       "version_minor": 0
      },
      "text/plain": [
       "Canvas(toolbar=Toolbar(toolitems=[('Home', 'Reset original view', 'home', 'home'), ('Back', 'Back to previous …"
      ]
     },
     "metadata": {},
     "output_type": "display_data"
    }
   ],
   "source": [
    "ampsX = np.array(amps.T[0,:])\n",
    "# scaleX = np.abs(np.mean(amps_plot[13:22]))/5\n",
    "ampsX /= scaleX\n",
    "\n",
    "_,ax = plt.subplots(figsize=(9.5,4))\n",
    "ax.scatter(range(len(ampsX)), ampsX, label='fit phase')\n",
    "\n",
    "ax.set(xlabel='dataset', ylabel='electron charges', ylim=(None, None), xlim=(None,None))\n",
    "ax.grid(axis='y')\n",
    "ax.minorticks_on()\n",
    "ax.grid(which='major', linestyle='-', linewidth='0.5', color='red')\n",
    "ax.grid(which='minor', linestyle=':', linewidth='0.5', color='black')\n",
    "from matplotlib.ticker import MaxNLocator\n",
    "\n",
    "ax.yaxis.set_major_locator(MaxNLocator(integer=True))"
   ]
  },
  {
   "cell_type": "code",
   "execution_count": 243,
   "metadata": {},
   "outputs": [
    {
     "data": {
      "text/plain": [
       "19.776972700346377"
      ]
     },
     "execution_count": 243,
     "metadata": {},
     "output_type": "execute_result"
    }
   ],
   "source": [
    "scaleX"
   ]
  },
  {
   "cell_type": "code",
   "execution_count": null,
   "metadata": {},
   "outputs": [],
   "source": []
  },
  {
   "cell_type": "code",
   "execution_count": null,
   "metadata": {},
   "outputs": [],
   "source": []
  },
  {
   "cell_type": "code",
   "execution_count": null,
   "metadata": {},
   "outputs": [],
   "source": []
  },
  {
   "cell_type": "code",
   "execution_count": null,
   "metadata": {},
   "outputs": [],
   "source": []
  },
  {
   "cell_type": "code",
   "execution_count": null,
   "metadata": {},
   "outputs": [],
   "source": []
  },
  {
   "cell_type": "code",
   "execution_count": null,
   "metadata": {},
   "outputs": [],
   "source": []
  },
  {
   "cell_type": "code",
   "execution_count": null,
   "metadata": {},
   "outputs": [],
   "source": []
  },
  {
   "cell_type": "code",
   "execution_count": null,
   "metadata": {},
   "outputs": [],
   "source": []
  },
  {
   "cell_type": "code",
   "execution_count": 62,
   "metadata": {},
   "outputs": [],
   "source": [
    "filename = r'/data/old_trap/20220321/bead1/0_1mbar_xyzcool_test4_fpga.h5'\n",
    "f = h5py.File(filename,'r')\n",
    "\n",
    "# dat = np.array(f['beads/data/high_speed'])\n",
    "\n",
    "# fsamp_spin = 500000\n",
    "# res_spin = 500000\n",
    "\n",
    "# data=dat[0]\n",
    "# data_det=signal.detrend(data)\n",
    "# psd_spin, freqs_spin = matplotlib.mlab.psd(data_det, Fs = fsamp_spin, NFFT = res_spin)"
   ]
  },
  {
   "cell_type": "code",
   "execution_count": 68,
   "metadata": {},
   "outputs": [
    {
     "data": {
      "text/plain": [
       "0.56499999999999995"
      ]
     },
     "execution_count": 68,
     "metadata": {},
     "output_type": "execute_result"
    }
   ],
   "source": [
    "f.attrs.keys()\n",
    "# f.attrs['beads/data/pow_data']\n",
    "dat = np.array(f['beads/data/pow_data'])\n",
    "np.mean(dat[::4])\n",
    "f.attrs['bead_height']"
   ]
  },
  {
   "cell_type": "code",
   "execution_count": 42,
   "metadata": {},
   "outputs": [],
   "source": [
    "## load all data to a list - step_file_objs\n",
    "step_cal_dir = r'/data/old_trap/20220322/bead2/height_scan2/'\n",
    "\n",
    "def extract_power_height(dirname):\n",
    "    max_file = 1000\n",
    "    power_array = []\n",
    "    height_array = []\n",
    "    freq_array = []\n",
    "    for root, dirnames, filenames in os.walk(dirname):\n",
    "        for filename in fnmatch.filter(filenames, '*' + config.extensions['data']):\n",
    "#             print(filename)\n",
    "            if '_fpga.h5' in filename[:]:\n",
    "                try:\n",
    "                    f = h5py.File(dirname+filename,'r')\n",
    "                    dat = np.array(f['beads/data/pow_data'])\n",
    "                    power_array.append(np.mean(dat[::4]))\n",
    "                    height_array.append(f.attrs['bead_height'])\n",
    "                    freq_array.append(extract_resonance(dirname+filename[:-8]+'.h5'))\n",
    "                except:\n",
    "                    print('***')\n",
    "    power_array = np.array(power_array)\n",
    "    height_array = np.array(height_array)\n",
    "    freq_array = np.array(freq_array)\n",
    "    \n",
    "    return height_array, power_array, freq_array"
   ]
  },
  {
   "cell_type": "code",
   "execution_count": 30,
   "metadata": {},
   "outputs": [],
   "source": [
    "def extract_resonance(filename):\n",
    "    \n",
    "    fsamp=5000\n",
    "    res=5000\n",
    "    df = bu.DataFile();\n",
    "    df.load(filename);\n",
    "\n",
    "    data=df.pos_data\n",
    "    data_det=signal.detrend(data)\n",
    "    xpsd, freqs = matplotlib.mlab.psd(data_det[0], Fs = fsamp, NFFT = res)\n",
    "    psd_tmp = xpsd[100:]\n",
    "    freq_tmp = freqs[100:]\n",
    "    return freq_tmp[np.argmax(psd_tmp)]"
   ]
  },
  {
   "cell_type": "code",
   "execution_count": 67,
   "metadata": {
    "scrolled": true
   },
   "outputs": [
    {
     "name": "stdout",
     "output_type": "stream",
     "text": [
      "Can't find/open HDF5 file : /data/old_trap/20220328/bead1/height_scan4/1mbar_zcool_40.h5\n",
      "***\n"
     ]
    },
    {
     "name": "stderr",
     "output_type": "stream",
     "text": [
      "Traceback (most recent call last):\n",
      "  File \"../../../../nadavp/opt_lev_analysis/lib/bead_data_funcs.py\", line 45, in getdata\n",
      "    f = h5py.File(fname,'r')\n",
      "  File \"/home/analysis_user/.local/lib/python3.6/site-packages/h5py/_hl/files.py\", line 394, in __init__\n",
      "    swmr=swmr)\n",
      "  File \"/home/analysis_user/.local/lib/python3.6/site-packages/h5py/_hl/files.py\", line 170, in make_fid\n",
      "    fid = h5f.open(name, flags, fapl=fapl)\n",
      "  File \"h5py/_objects.pyx\", line 54, in h5py._objects.with_phil.wrapper\n",
      "  File \"h5py/_objects.pyx\", line 55, in h5py._objects.with_phil.wrapper\n",
      "  File \"h5py/h5f.pyx\", line 85, in h5py.h5f.open\n",
      "OSError: Unable to open file (unable to open file: name = '/data/old_trap/20220328/bead1/height_scan4/1mbar_zcool_40.h5', errno = 2, error message = 'No such file or directory', flags = 0, o_flags = 0)\n",
      "Traceback (most recent call last):\n",
      "  File \"../../../../nadavp/opt_lev_analysis/lib/bead_data_funcs.py\", line 45, in getdata\n",
      "    f = h5py.File(fname,'r')\n",
      "  File \"/home/analysis_user/.local/lib/python3.6/site-packages/h5py/_hl/files.py\", line 394, in __init__\n",
      "    swmr=swmr)\n",
      "  File \"/home/analysis_user/.local/lib/python3.6/site-packages/h5py/_hl/files.py\", line 170, in make_fid\n",
      "    fid = h5f.open(name, flags, fapl=fapl)\n",
      "  File \"h5py/_objects.pyx\", line 54, in h5py._objects.with_phil.wrapper\n",
      "  File \"h5py/_objects.pyx\", line 55, in h5py._objects.with_phil.wrapper\n",
      "  File \"h5py/h5f.pyx\", line 85, in h5py.h5f.open\n",
      "OSError: Unable to open file (unable to open file: name = '/data/old_trap/20220328/bead1/height_scan4/1mbar_zcool_40.h5', errno = 2, error message = 'No such file or directory', flags = 0, o_flags = 0)\n"
     ]
    }
   ],
   "source": [
    "# step_cal_dir = r'/data/old_trap/20220322/bead2/height_scan1/'\n",
    "# height_array, power_array, freq_array = extract_power_height(step_cal_dir)\n",
    "\n",
    "# step_cal_dir = r'/data/old_trap/20220322/bead2/height_scan4/'\n",
    "# height_array2, power_array2, freq_array2 = extract_power_height(step_cal_dir)\n",
    "\n",
    "# step_cal_dir = r'/data/old_trap/20220322/bead2/height_scan5/'\n",
    "# height_array3, power_array3, freq_array3 = extract_power_height(step_cal_dir)\n",
    "\n",
    "# step_cal_dir = r'/data/old_trap/20220323/bead1/height_scan1/'\n",
    "# height_array4, power_array4, freq_array4 = extract_power_height(step_cal_dir)\n",
    "\n",
    "# step_cal_dir = r'/data/old_trap/20220323/bead1/height_scan2/'\n",
    "# height_array5, power_array5, freq_array5 = extract_power_height(step_cal_dir)\n",
    "\n",
    "# step_cal_dir = r'/data/old_trap/20220328/bead1/height_scan1/'\n",
    "# height_array6, power_array6, freq_array6 = extract_power_height(step_cal_dir)\n",
    "\n",
    "# step_cal_dir = r'/data/old_trap/20220328/bead1/height_scan2/'\n",
    "# height_array7, power_array7, freq_array7 = extract_power_height(step_cal_dir)\n",
    "\n",
    "# step_cal_dir = r'/data/old_trap/20220328/bead1/height_scan3/'\n",
    "# height_array8, power_array8, freq_array8 = extract_power_height(step_cal_dir)\n",
    "\n",
    "step_cal_dir = r'/data/old_trap/20220328/bead1/height_scan4/'\n",
    "height_array9, power_array9, freq_array9 = extract_power_height(step_cal_dir)"
   ]
  },
  {
   "cell_type": "code",
   "execution_count": 75,
   "metadata": {},
   "outputs": [
    {
     "data": {
      "application/vnd.jupyter.widget-view+json": {
       "model_id": "5744adcf7bc54d269c18637589c60146",
       "version_major": 2,
       "version_minor": 0
      },
      "text/plain": [
       "Canvas(toolbar=Toolbar(toolitems=[('Home', 'Reset original view', 'home', 'home'), ('Back', 'Back to previous …"
      ]
     },
     "metadata": {},
     "output_type": "display_data"
    },
    {
     "data": {
      "text/plain": [
       "[(10.0, 100.0), Text(0, 0.5, 'Power [mW]'), Text(0.5, 0, 'Height [pixel]')]"
      ]
     },
     "execution_count": 75,
     "metadata": {},
     "output_type": "execute_result"
    }
   ],
   "source": [
    "\n",
    "power_conversion = -1/1.6e6*200\n",
    "# power_conversion = 1\n",
    "\n",
    "_,ax = plt.subplots(figsize=(9.2,5))\n",
    "ax.scatter(height_array, power_array*power_conversion, label = 'bead 1 - measurement 1')\n",
    "ax.scatter(height_array2, power_array2*power_conversion, label = 'bead 1 - measurement 2')\n",
    "ax.scatter(height_array3, power_array3*power_conversion, label = 'bead 1 - measurement 3')\n",
    "\n",
    "ax.scatter(height_array4, power_array4*power_conversion, label = 'bead 2 - measurement 1', alpha=0.7)\n",
    "ax.scatter(height_array5, power_array5*power_conversion, label = 'bead 2 - measurement 2', alpha=0.7)\n",
    "\n",
    "ax.scatter(height_array6, power_array6*power_conversion, label = 'bead 3 - measurement 1', alpha=0.3)\n",
    "ax.scatter(height_array7, power_array7*power_conversion, label = 'bead 3 - measurement 2', alpha=0.3)\n",
    "ax.scatter(height_array8, power_array8*power_conversion, label = 'bead 3 - measurement 3', alpha=0.3)\n",
    "ax.scatter(height_array9, power_array9*power_conversion, label = 'bead 3 - measurement 4', alpha=0.3)\n",
    "\n",
    "ax.legend()\n",
    "\n",
    "ax.set(ylim=(10,100), ylabel='Power [mW]', xlabel='Height [pixel]')"
   ]
  },
  {
   "cell_type": "code",
   "execution_count": 234,
   "metadata": {},
   "outputs": [
    {
     "data": {
      "application/vnd.jupyter.widget-view+json": {
       "model_id": "9bb1580127014e19b865202c5fb17cb4",
       "version_major": 2,
       "version_minor": 0
      },
      "text/plain": [
       "Canvas(toolbar=Toolbar(toolitems=[('Home', 'Reset original view', 'home', 'home'), ('Back', 'Back to previous …"
      ]
     },
     "metadata": {},
     "output_type": "display_data"
    },
    {
     "data": {
      "text/plain": [
       "[(100.0, 500.0),\n",
       " Text(0, 0.5, 'Resonant frequency [Hz]'),\n",
       " Text(0.5, 0, 'Height [pixel]')]"
      ]
     },
     "execution_count": 234,
     "metadata": {},
     "output_type": "execute_result"
    }
   ],
   "source": [
    "\n",
    "_,ax = plt.subplots(figsize=(9.2,5))\n",
    "ax.scatter(height_array4, freq_array4, label='scan1')\n",
    "ax.scatter(height_array5, freq_array5, label='scan2')\n",
    "ax.legend()\n",
    "ax.set(ylim=(100,500), ylabel='Resonant frequency [Hz]', xlabel='Height [pixel]')"
   ]
  },
  {
   "cell_type": "code",
   "execution_count": null,
   "metadata": {},
   "outputs": [],
   "source": []
  }
 ],
 "metadata": {
  "kernelspec": {
   "display_name": "Python 3",
   "language": "python",
   "name": "python3"
  },
  "language_info": {
   "codemirror_mode": {
    "name": "ipython",
    "version": 3
   },
   "file_extension": ".py",
   "mimetype": "text/x-python",
   "name": "python",
   "nbconvert_exporter": "python",
   "pygments_lexer": "ipython3",
   "version": "3.6.9"
  }
 },
 "nbformat": 4,
 "nbformat_minor": 4
}
