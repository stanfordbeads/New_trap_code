{
 "cells": [
  {
   "cell_type": "code",
   "execution_count": 1,
   "metadata": {},
   "outputs": [],
   "source": [
    "import numpy as np\n",
    "import matplotlib.pyplot as plt\n",
    "import matplotlib\n",
    "from scipy import signal\n",
    "from scipy.optimize import minimize\n",
    "\n",
    "import random\n",
    "\n",
    "import h5py\n",
    "from IPython.utils import io\n",
    "\n",
    "from joblib import Parallel, delayed\n",
    "from tqdm import tqdm\n",
    "import sys"
   ]
  },
  {
   "cell_type": "code",
   "execution_count": 2,
   "metadata": {},
   "outputs": [],
   "source": [
    "%matplotlib widget\n",
    "\n",
    "%reload_ext autoreload\n",
    "%autoreload 2"
   ]
  },
  {
   "cell_type": "code",
   "execution_count": 3,
   "metadata": {},
   "outputs": [],
   "source": [
    "sys.path.append('../../../../nadavp/new_trap/Tools/')\n",
    "sys.path.append('../../../../nadavp/new_trap/Tools/StatFramework/')\n",
    "sys.path.append('../../../../nadavp/opt_lev_analysis/lib/')\n",
    "import BeadDataFile\n",
    "from discharge_tools import *"
   ]
  },
  {
   "cell_type": "code",
   "execution_count": 4,
   "metadata": {},
   "outputs": [],
   "source": [
    "import bead_util as bu\n",
    "# import calib_util as cal\n",
    "import transfer_func_util as tf\n",
    "import configuration as config"
   ]
  },
  {
   "cell_type": "code",
   "execution_count": null,
   "metadata": {},
   "outputs": [],
   "source": []
  },
  {
   "cell_type": "code",
   "execution_count": 149,
   "metadata": {},
   "outputs": [],
   "source": [
    "## load all data to a list - step_file_objs\n",
    "# step_cal_dir = r'/data/old_trap/20220505/bead1/scan1/'\n",
    "\n",
    "def extract_power_height(dirname):\n",
    "    max_file = 1000\n",
    "    power_array = []\n",
    "    height_array = []\n",
    "    freq_array = []\n",
    "    for root, dirnames, filenames in os.walk(dirname):\n",
    "        for filename in fnmatch.filter(filenames, '*' + config.extensions['data']):\n",
    "#             print(dirname+filename)\n",
    "            if '_fpga.h5' in filename[:]:\n",
    "                try:\n",
    "                    f = h5py.File(dirname+filename,'r')\n",
    "                    dat = np.array(f['beads/data/pow_data'])\n",
    "                    power_array.append(np.mean(dat[::4]))\n",
    "                    height_array.append(f.attrs['bead_height'])\n",
    "                    freq_array.append(extract_resonance(dirname+filename[:-8]+'.h5'))\n",
    "                except:\n",
    "                    print('***')\n",
    "    power_array = np.array(power_array)\n",
    "    height_array = np.array(height_array)\n",
    "    freq_array = np.array(freq_array)\n",
    "    \n",
    "    return height_array, power_array, freq_array\n",
    "\n",
    "def extract_resonance(filename):\n",
    "    \n",
    "    fsamp=5000\n",
    "    res=50000\n",
    "    df = bu.DataFile();\n",
    "    df.load(filename);\n",
    "\n",
    "    data=df.pos_data\n",
    "    data_det=signal.detrend(data)\n",
    "    xpsd, freqs = matplotlib.mlab.psd(data_det[0], Fs = fsamp, NFFT = res)\n",
    "    psd_tmp = xpsd[100:]\n",
    "    freq_tmp = freqs[100:]\n",
    "    return freq_tmp[np.argmax(psd_tmp)]"
   ]
  },
  {
   "cell_type": "code",
   "execution_count": 152,
   "metadata": {},
   "outputs": [],
   "source": [
    "step_cal_dir = r'/data/old_trap/20220512/bead1/scan2/'\n",
    "height_array1, power_array1, freq_array1 = extract_power_height(step_cal_dir)"
   ]
  },
  {
   "cell_type": "code",
   "execution_count": 59,
   "metadata": {},
   "outputs": [],
   "source": [
    "step_cal_dir = r'/data/old_trap/20220509/bead1/scan1/'\n",
    "height_array2, power_array2, freq_array2 = extract_power_height(step_cal_dir)"
   ]
  },
  {
   "cell_type": "code",
   "execution_count": 60,
   "metadata": {},
   "outputs": [
    {
     "data": {
      "text/plain": [
       "array([-287825.06624839, -287598.94759181])"
      ]
     },
     "execution_count": 60,
     "metadata": {},
     "output_type": "execute_result"
    }
   ],
   "source": [
    "power_array2"
   ]
  },
  {
   "cell_type": "code",
   "execution_count": 64,
   "metadata": {},
   "outputs": [
    {
     "data": {
      "text/plain": [
       "11.85302734375"
      ]
     },
     "execution_count": 64,
     "metadata": {},
     "output_type": "execute_result"
    }
   ],
   "source": [
    "-25000*10/2**15/10*50+50"
   ]
  },
  {
   "cell_type": "code",
   "execution_count": 204,
   "metadata": {},
   "outputs": [
    {
     "data": {
      "text/plain": [
       "(3.36e-11, 3.3333333333333335e-11, 0.0625)"
      ]
     },
     "execution_count": 204,
     "metadata": {},
     "output_type": "execute_result"
    }
   ],
   "source": [
    "420e-12*8/1000*10, 10e-3/3e8, 5/80"
   ]
  },
  {
   "cell_type": "code",
   "execution_count": 115,
   "metadata": {},
   "outputs": [
    {
     "data": {
      "text/plain": [
       "(39.42857142857143, 50.0)"
      ]
     },
     "execution_count": 115,
     "metadata": {},
     "output_type": "execute_result"
    }
   ],
   "source": [
    "0.069/350*1000*100*2, 1000*0.2/2/2"
   ]
  },
  {
   "cell_type": "code",
   "execution_count": 644,
   "metadata": {},
   "outputs": [
    {
     "data": {
      "text/plain": [
       "0.49996186559619027"
      ]
     },
     "execution_count": 644,
     "metadata": {},
     "output_type": "execute_result"
    }
   ],
   "source": [
    "np.log10(3.162)"
   ]
  },
  {
   "cell_type": "code",
   "execution_count": 690,
   "metadata": {},
   "outputs": [],
   "source": [
    "# step_cal_dir = r'/data/old_trap/20220520/bead1/scan7/'\n",
    "# height_array1, power_array1, freq_array1 = extract_power_height(step_cal_dir)\n",
    "# step_cal_dir = r'/data/old_trap/20220520/bead1/scan8/'\n",
    "# height_array2, power_array2, freq_array2 = extract_power_height(step_cal_dir)\n",
    "# step_cal_dir = r'/data/old_trap/20220520/bead1/scan9/'\n",
    "# height_array3, power_array3, freq_array3 = extract_power_height(step_cal_dir)\n",
    "# step_cal_dir = r'/data/old_trap/20220520/bead1/scan10/'\n",
    "# height_array4, power_array4, freq_array4 = extract_power_height(step_cal_dir)\n",
    "# step_cal_dir = r'/data/old_trap/20220520/bead1/scan11_reflected_pow/'\n",
    "# height_array5, power_array5, freq_array5 = extract_power_height(step_cal_dir)\n",
    "# step_cal_dir = r'/data/old_trap/20220520/bead1/scan12_reflected_pow/'\n",
    "# height_array6, power_array6, freq_array6 = extract_power_height(step_cal_dir)\n",
    "\n",
    "# step_cal_dir = r'/data/old_trap/20220525/bead1/scan1/'\n",
    "# height_array5, power_array5, freq_array5 = extract_power_height(step_cal_dir)\n",
    "step_cal_dir = r'/data/old_trap/20220525/bead1/scan2/'\n",
    "height_array6, power_array6, freq_array6 = extract_power_height(step_cal_dir)"
   ]
  },
  {
   "cell_type": "code",
   "execution_count": null,
   "metadata": {},
   "outputs": [],
   "source": [
    "reflectance_v = np.array([0.06, 1.12, 1.16, 0.56, 0.53, 0.52])\n",
    "reflectance_pixel = np.array([-4.6, -8.44, -9.5, -3.45, -1.57, 0.12])\n",
    "reflectance_mw = reflectance_v/30*2"
   ]
  },
  {
   "cell_type": "code",
   "execution_count": null,
   "metadata": {},
   "outputs": [],
   "source": [
    "power_conversion = -1/222e3*46*0.666\n",
    "power_conversion2 = 1/484e3*49.2\n",
    "# power_conversion = -1\n",
    "_,ax = plt.subplots(figsize=(9.2,5))\n",
    "# ax.scatter(height_array1-4, power_array1*power_conversion, label = 'bead 1 - measurement 1')\n",
    "# ax.scatter(height_array2, power_array2*power_conversion, label = 'bead 1 - measurement 2')\n",
    "# ax.scatter(height_array3-7.9, power_array3*power_conversion, label = 'bead 1 - measurement 3')\n",
    "# ax.scatter(height_array4, power_array4*power_conversion, label = 'bead 1 - measurement 4 - after the weekend')\n",
    "\n",
    "# ax.scatter(height_array5, power_array5/power_array5[0]*30, label = 'bead 1 - measurement 5 - after the weekend')\n",
    "\n",
    "ax.scatter(height_array5, power_array5*power_conversion2, label = 'bead 3 - measurement 1')\n",
    "ax.scatter(height_array6, power_array6*power_conversion2, label = 'bead 3 - measurement 2')\n",
    "\n",
    "# ax.scatter(height_array1, freq_array1, label = 'bead 1 - measurement 1')\n",
    "ax.legend()\n",
    "ax.set(ylim=(10,60), xlim=(-8,3.5), ylabel='Power [mW]', xlabel='Height [$\\mu$m]')"
   ]
  },
  {
   "cell_type": "code",
   "execution_count": 396,
   "metadata": {},
   "outputs": [
    {
     "data": {
      "application/vnd.jupyter.widget-view+json": {
       "model_id": "708ebc61e95344468872dbe0aa858936",
       "version_major": 2,
       "version_minor": 0
      },
      "text/plain": [
       "Canvas(toolbar=Toolbar(toolitems=[('Home', 'Reset original view', 'home', 'home'), ('Back', 'Back to previous …"
      ]
     },
     "metadata": {},
     "output_type": "display_data"
    },
    {
     "data": {
      "text/plain": [
       "<matplotlib.legend.Legend at 0x7f98b478ba58>"
      ]
     },
     "execution_count": 396,
     "metadata": {},
     "output_type": "execute_result"
    }
   ],
   "source": [
    "power_conversion = -1/222e3*46*0.666\n",
    "# power_conversion = -1\n",
    "_,ax = plt.subplots(figsize=(9.2,5))\n",
    "ax.scatter(reflectance_pixel, reflectance_mw, label = 'bead 1 - reflecatance - after the weekend')\n",
    "\n",
    "# ax.scatter(height_array1, freq_array1, label = 'bead 1 - measurement 1')\n",
    "ax.legend()\n",
    "# ax.set(ylim=(10,35), xlim=(-25,120), ylabel='Power [mW]', xlabel='Height [$\\mu$m]')"
   ]
  },
  {
   "cell_type": "code",
   "execution_count": 323,
   "metadata": {
    "scrolled": false
   },
   "outputs": [
    {
     "name": "stdout",
     "output_type": "stream",
     "text": [
      "1 2 3 4 5 6 7 8 9 10 11 12 13 14 15 16 17 18 19 20 21 22 23 24 25 26 27 28 29 30 31 32 33 34 35 36 37 38 39 40 41 42 43 44 45 46 47 48 49 50 51 52 53 54 55 56 57 58 59 60 61 62 63 64 65 66 67 68 69 70 71 72 73 74 75 76 77 78 79 80 81 82 83 84 85 86 87 88 89 90 91 92 93 94 95 96 97 98 99 100 101 102 103 104 105 106 107 108 109 110 111 112 113 114 115 116 "
     ]
    }
   ],
   "source": [
    "from skimage.registration import phase_cross_correlation as pcc\n",
    "from skimage.io import imread as imread\n",
    "\n",
    "import imageio as iio\n",
    "from skimage import filters\n",
    "from skimage.color import rgb2gray  # only needed for incorrectly saved images\n",
    "from skimage.measure import regionprops\n",
    "\n",
    "h_pcc = []\n",
    "h_max = []\n",
    "filename=r'/data/old_trap/20220520/bead1/height/20220520_4/run/image_test_0.bmp'\n",
    "zeroth_image=imread(filename,as_gray=True)\n",
    "for i in range(1,117):\n",
    "    print(i,end=\" \")\n",
    "    filename=r'/data/old_trap/20220520/bead1/height/20220520_4/run/image_test_'+str(i)+'.bmp'\n",
    "    image=imread(filename,as_gray=True)\n",
    "    shift,_,_ = pcc(zeroth_image,image,upsample_factor=200)\n",
    "    h_pcc.append(shift[0])\n",
    "\n",
    "\n",
    "    threshold_value = filters.threshold_otsu(image)\n",
    "    labeled_foreground = (image > threshold_value).astype(int)\n",
    "    properties = regionprops(labeled_foreground, image)\n",
    "    center_of_mass = properties[0].centroid\n",
    "    h_max.append(230-center_of_mass[0])"
   ]
  },
  {
   "cell_type": "code",
   "execution_count": 326,
   "metadata": {},
   "outputs": [
    {
     "data": {
      "application/vnd.jupyter.widget-view+json": {
       "model_id": "52865334f95a4befa84e8a05ecf5cf34",
       "version_major": 2,
       "version_minor": 0
      },
      "text/plain": [
       "Canvas(toolbar=Toolbar(toolitems=[('Home', 'Reset original view', 'home', 'home'), ('Back', 'Back to previous …"
      ]
     },
     "metadata": {},
     "output_type": "display_data"
    },
    {
     "data": {
      "text/plain": [
       "<matplotlib.collections.PathCollection at 0x7f98b5d45b00>"
      ]
     },
     "execution_count": 326,
     "metadata": {},
     "output_type": "execute_result"
    }
   ],
   "source": [
    "_,ax = plt.subplots()\n",
    "ax.scatter(range(116), np.array(h_max)-h_max[0])\n",
    "ax.scatter(range(116), np.array(h_pcc)-h_pcc[0])"
   ]
  },
  {
   "cell_type": "code",
   "execution_count": null,
   "metadata": {},
   "outputs": [],
   "source": []
  },
  {
   "cell_type": "code",
   "execution_count": null,
   "metadata": {},
   "outputs": [],
   "source": []
  },
  {
   "cell_type": "code",
   "execution_count": 193,
   "metadata": {},
   "outputs": [],
   "source": [
    "filename = r'/data/old_trap/20220512/bead1/scan2/10mbar_zcool_45.h5'\n",
    "filename2 = r'/data/old_trap/20220512/bead1/scan2/10mbar_zcool_90.h5'\n",
    "filename3 = r'/data/old_trap/20220512/bead1/scan2/10mbar_zcool_0.h5'\n",
    "\n",
    "fsamp = 5000\n",
    "res = 5000\n",
    "\n",
    "df = bu.DataFile();\n",
    "df.load(filename);\n",
    "\n",
    "df2 = bu.DataFile();\n",
    "df2.load(filename2);\n",
    "\n",
    "df3 = bu.DataFile();\n",
    "df3.load(filename3);\n",
    "\n",
    "data=df.pos_data\n",
    "data_det=signal.detrend(data)\n",
    "xpsd, freqs = matplotlib.mlab.psd(data_det[0], Fs = fsamp, NFFT = res)\n",
    "ypsd, freqs = matplotlib.mlab.psd(data_det[1], Fs = fsamp, NFFT = res)\n",
    "zpsd, freqs = matplotlib.mlab.psd(data_det[2], Fs = fsamp, NFFT = res)\n",
    "f = h5py.File(filename[:-3]+'_fpga.h5','r')\n",
    "height1 = f.attrs['bead_height']\n",
    "\n",
    "data2=df2.pos_data\n",
    "data_det2=signal.detrend(data2)\n",
    "xpsd2, freqs = matplotlib.mlab.psd(data_det2[0], Fs = fsamp, NFFT = res)\n",
    "ypsd2, freqs = matplotlib.mlab.psd(data_det2[1], Fs = fsamp, NFFT = res)\n",
    "zpsd2, freqs = matplotlib.mlab.psd(data_det2[2], Fs = fsamp, NFFT = res)\n",
    "f = h5py.File(filename2[:-3]+'_fpga.h5','r')\n",
    "height2 = f.attrs['bead_height']\n",
    "\n",
    "data3=df3.pos_data\n",
    "data_det3=signal.detrend(data3)\n",
    "xpsd3, freqs = matplotlib.mlab.psd(data_det3[0], Fs = fsamp, NFFT = res)\n",
    "ypsd3, freqs = matplotlib.mlab.psd(data_det3[1], Fs = fsamp, NFFT = res)\n",
    "zpsd3, freqs = matplotlib.mlab.psd(data_det3[2], Fs = fsamp, NFFT = res)\n",
    "f = h5py.File(filename3[:-3]+'_fpga.h5','r')\n",
    "height3 = f.attrs['bead_height']"
   ]
  },
  {
   "cell_type": "code",
   "execution_count": 194,
   "metadata": {},
   "outputs": [
    {
     "data": {
      "application/vnd.jupyter.widget-view+json": {
       "model_id": "4c049276438b44b9ab87d86b66ee81ef",
       "version_major": 2,
       "version_minor": 0
      },
      "text/plain": [
       "Canvas(toolbar=Toolbar(toolitems=[('Home', 'Reset original view', 'home', 'home'), ('Back', 'Back to previous …"
      ]
     },
     "metadata": {},
     "output_type": "display_data"
    },
    {
     "data": {
      "text/plain": [
       "(0.0, 344.0)"
      ]
     },
     "execution_count": 194,
     "metadata": {},
     "output_type": "execute_result"
    }
   ],
   "source": [
    "_,ax = plt.subplots()\n",
    "ax.loglog(freqs, xpsd, '.-', label=str(height1*10)+' $\\mu$m',markersize=1,linewidth=0.5)\n",
    "ax.loglog(freqs, xpsd2, '.-', label=str(height2*10)+' $\\mu$m',markersize=1,linewidth=0.5)\n",
    "ax.loglog(freqs, xpsd3, '.-', label=str(height3*10)+' $\\mu$m',markersize=1,linewidth=0.5)\n",
    "\n",
    "ax.legend()\n",
    "ax.set_xlabel('Frequency [Hz]')\n",
    "ax.set_ylabel(r'PSD [bits$^2/Hz.$]')\n",
    "# plt.xlim(1,600)\n",
    "#plt.ylim(1e6,1e10)\n",
    "plt.grid(True)\n",
    "\n",
    "psd_tmp = xpsd[100:]\n",
    "freq_tmp = freqs[100:]\n",
    "freqs[np.argmax(xpsd)], freq_tmp[np.argmax(psd_tmp)]"
   ]
  },
  {
   "cell_type": "code",
   "execution_count": null,
   "metadata": {},
   "outputs": [],
   "source": []
  }
 ],
 "metadata": {
  "kernelspec": {
   "display_name": "Python 3",
   "language": "python",
   "name": "python3"
  },
  "language_info": {
   "codemirror_mode": {
    "name": "ipython",
    "version": 3
   },
   "file_extension": ".py",
   "mimetype": "text/x-python",
   "name": "python",
   "nbconvert_exporter": "python",
   "pygments_lexer": "ipython3",
   "version": "3.6.9"
  }
 },
 "nbformat": 4,
 "nbformat_minor": 4
}
