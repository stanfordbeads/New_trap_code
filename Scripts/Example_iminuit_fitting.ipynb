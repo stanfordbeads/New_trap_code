{
 "cells": [
  {
   "cell_type": "code",
   "execution_count": 11,
   "metadata": {},
   "outputs": [],
   "source": [
    "import numpy as np\n",
    "import matplotlib.pyplot as plt\n",
    "import matplotlib\n",
    "\n",
    "from scipy import signal\n",
    "import h5py, time\n",
    "import sys\n",
    "from iminuit import Minuit, describe\n"
   ]
  },
  {
   "cell_type": "code",
   "execution_count": 13,
   "metadata": {},
   "outputs": [],
   "source": [
    "sys.path.append('/home/nadavp/new_trap/PythonScripts/') # is this already updated and we can use the one from tools?\n",
    "import BeadDataFile"
   ]
  },
  {
   "cell_type": "code",
   "execution_count": 14,
   "metadata": {},
   "outputs": [],
   "source": [
    "fname = r\"/data/new_trap/20190715/NoBead/X350_Y200.h5\"  # load a test data file \n",
    "bd = BeadDataFile.BeadDataFile(fname)\n",
    "time = np.arange(0,len(bd.quad_sum)-1,1) # make time for the entire data set\n",
    "time_sub = np.arange(3501,4000) # make time for a subset, for cross check"
   ]
  },
  {
   "cell_type": "code",
   "execution_count": 15,
   "metadata": {},
   "outputs": [
    {
     "name": "stderr",
     "output_type": "stream",
     "text": [
      "/usr/lib/python3/dist-packages/ipykernel_launcher.py:4: RuntimeWarning: overflow encountered in int_scalars\n",
      "  after removing the cwd from sys.path.\n",
      "/usr/lib/python3/dist-packages/ipykernel_launcher.py:6: RuntimeWarning: overflow encountered in int_scalars\n",
      "  \n"
     ]
    }
   ],
   "source": [
    "check = [] # list for the P(t+1)-P(t)\n",
    "subset = [] # for the subset cross check\n",
    "for i in range(0,len(bd.quad_sum)-1): # loop through the data set and calculate\n",
    "    check.append(bd.quad_sum[i+1]-bd.quad_sum[i])\n",
    "    if(i>3500 and i<4000): # the first peak extracted\n",
    "        subset.append(bd.quad_sum[i+1]-bd.quad_sum[i])"
   ]
  },
  {
   "cell_type": "code",
   "execution_count": 22,
   "metadata": {},
   "outputs": [],
   "source": [
    "# EXAMPLE 1: Specific\n",
    "\n",
    "# definition of a gaussian\n",
    "def gaussian(x,area,mean,sigma,constant):\n",
    "    norm = (1/((1/2*sigma)*np.sqrt(np.pi * 2)))\n",
    "    return area * norm * np.exp(-(np.subtract(x,mean)**2/(2*sigma**2)))+constant\n",
    "\n",
    "# definition of the cost function to minimize, examplary chisquare\n",
    "def chisquare_1d(area,mean,sigma,constant):\n",
    "    return np.sum(np.power(np.divide(np.subtract(gaussian(data_x,area,mean,sigma,constant),data_y),data_y_error),2))\n",
    "\n"
   ]
  },
  {
   "cell_type": "markdown",
   "metadata": {},
   "source": [
    "# EXAMPLE 2: Generic \n",
    "\n",
    "def gaussian(x,params=list):\n",
    "    norm = (1/((1/2*params[2])*np.sqrt(np.pi * 2)))\n",
    "    return params[0] * norm * np.exp(-(np.subtract(x,params[1])**2/(2*params[2]**2)))+params[3]\n",
    "\n",
    "def chisquare_1d(function, functionparams, data_x, data_y,data_y_error):\n",
    "    chisquarevalue=np.sum(np.power(np.divide(np.subtract(function(data_x,functionparams),data_y),data_y_error),2))\n",
    "    ndf = len(data_y)-len(functionparams)\n",
    "    return (chisquarevalue, ndf)\n"
   ]
  },
  {
   "cell_type": "code",
   "execution_count": 55,
   "metadata": {},
   "outputs": [],
   "source": [
    "data_x = time_sub # give x data\n",
    "data_y = subset # give y data \n",
    "data_y_error = np.sqrt(np.abs(subset)) # give y uncertainty"
   ]
  },
  {
   "cell_type": "code",
   "execution_count": 56,
   "metadata": {},
   "outputs": [
    {
     "name": "stdout",
     "output_type": "stream",
     "text": [
      "Now proceed with the fit.\n",
      "------------------------------------------------------------------\n",
      "| FCN = 9.85E+08                |     Ncalls=344 (344 total)     |\n",
      "| EDM = 6.12E-06 (Goal: 1E-05)  |            up = 1.0            |\n",
      "------------------------------------------------------------------\n",
      "|  Valid Min.   | Valid Param.  | Above EDM | Reached call limit |\n",
      "------------------------------------------------------------------\n",
      "|     True      |     True      |   False   |       False        |\n",
      "------------------------------------------------------------------\n",
      "| Hesse failed  |   Has cov.    | Accurate  | Pos. def. | Forced |\n",
      "------------------------------------------------------------------\n",
      "|     False     |     True      |   True    |   True    | False  |\n",
      "------------------------------------------------------------------\n"
     ]
    },
    {
     "name": "stderr",
     "output_type": "stream",
     "text": [
      "/usr/lib/python3/dist-packages/ipykernel_launcher.py:12: InitialParamWarning: Parameter area is floating but does not have initial step size. Assume 1.\n",
      "  if sys.path[0] == '':\n",
      "/usr/lib/python3/dist-packages/ipykernel_launcher.py:12: InitialParamWarning: Parameter mean is floating but does not have initial step size. Assume 1.\n",
      "  if sys.path[0] == '':\n",
      "/usr/lib/python3/dist-packages/ipykernel_launcher.py:12: InitialParamWarning: Parameter sigma is floating but does not have initial step size. Assume 1.\n",
      "  if sys.path[0] == '':\n",
      "/usr/lib/python3/dist-packages/ipykernel_launcher.py:12: InitialParamWarning: Parameter constant is floating but does not have initial step size. Assume 1.\n",
      "  if sys.path[0] == '':\n"
     ]
    },
    {
     "data": {
      "text/html": [
       "<table>\n",
       "<tr>\n",
       "<td colspan=\"2\" title=\"Minimum value of function\">\n",
       "FCN = 9.85E+08\n",
       "</td>\n",
       "<td align=\"center\" colspan=\"3\" title=\"No. of calls in last algorithm and total number of calls\">\n",
       "Ncalls = 344 (344 total)\n",
       "</td>\n",
       "</tr>\n",
       "<tr>\n",
       "<td colspan=\"2\" title=\"Estimated distance to minimum and target threshold\">\n",
       "EDM = 6.12E-06 (Goal: 1E-05)\n",
       "</td>\n",
       "<td align=\"center\" colspan=\"3\" title=\"Increase in FCN which corresponds to 1 standard deviation\">\n",
       "up = 1.0\n",
       "</td>\n",
       "</tr>\n",
       "<tr>\n",
       "<td align=\"center\" title=\"Validity of the migrad call\">\n",
       "Valid Min.\n",
       "</td>\n",
       "<td align=\"center\" title=\"Validity of parameters\">\n",
       "Valid Param.\n",
       "</td>\n",
       "<td align=\"center\" title=\"Is EDM above goal EDM?\">\n",
       "Above EDM\n",
       "</td>\n",
       "<td align=\"center\" colspan=\"2\" title=\"Did last migrad call reach max call limit?\">\n",
       "Reached call limit\n",
       "</td>\n",
       "</tr>\n",
       "<tr>\n",
       "<td align=\"center\" style=\"background-color:#92CCA6;\">\n",
       "True\n",
       "</td>\n",
       "<td align=\"center\" style=\"background-color:#92CCA6;\">\n",
       "True\n",
       "</td>\n",
       "<td align=\"center\" style=\"background-color:#92CCA6;\">\n",
       "False\n",
       "</td>\n",
       "<td align=\"center\" colspan=\"2\" style=\"background-color:#92CCA6;\">\n",
       "False\n",
       "</td>\n",
       "</tr>\n",
       "<tr>\n",
       "<td align=\"center\" title=\"Did Hesse fail?\">\n",
       "Hesse failed\n",
       "</td>\n",
       "<td align=\"center\" title=\"Has covariance matrix\">\n",
       "Has cov.\n",
       "</td>\n",
       "<td align=\"center\" title=\"Is covariance matrix accurate?\">\n",
       "Accurate\n",
       "</td>\n",
       "<td align=\"center\" title=\"Is covariance matrix positive definite?\">\n",
       "Pos. def.\n",
       "</td>\n",
       "<td align=\"center\" title=\"Was positive definiteness enforced by Minuit?\">\n",
       "Forced\n",
       "</td>\n",
       "</tr>\n",
       "<tr>\n",
       "<td align=\"center\" style=\"background-color:#92CCA6;\">\n",
       "False\n",
       "</td>\n",
       "<td align=\"center\" style=\"background-color:#92CCA6;\">\n",
       "True\n",
       "</td>\n",
       "<td align=\"center\" style=\"background-color:#92CCA6;\">\n",
       "True\n",
       "</td>\n",
       "<td align=\"center\" style=\"background-color:#92CCA6;\">\n",
       "True\n",
       "</td>\n",
       "<td align=\"center\" style=\"background-color:#92CCA6;\">\n",
       "False\n",
       "</td>\n",
       "</tr>\n",
       "</table>\n",
       "<table>\n",
       "<tr style=\"background-color:#F4F4F4;\">\n",
       "<td/>\n",
       "<th title=\"Variable name\">\n",
       "Name\n",
       "</th>\n",
       "<th title=\"Value of parameter\">\n",
       "Value\n",
       "</th>\n",
       "<th title=\"Hesse error\">\n",
       "Hesse Error\n",
       "</th>\n",
       "<th title=\"Minos lower error\">\n",
       "Minos Error-\n",
       "</th>\n",
       "<th title=\"Minos upper error\">\n",
       "Minos Error+\n",
       "</th>\n",
       "<th title=\"Lower limit of the parameter\">\n",
       "Limit-\n",
       "</th>\n",
       "<th title=\"Upper limit of the parameter\">\n",
       "Limit+\n",
       "</th>\n",
       "<th title=\"Is the parameter fixed in the fit\">\n",
       "Fixed\n",
       "</th>\n",
       "</tr>\n",
       "<tr style=\"background-color:#FFFFFF;\">\n",
       "<td>\n",
       "0\n",
       "</td>\n",
       "<td>\n",
       "area\n",
       "</td>\n",
       "<td>\n",
       "1.606E9\n",
       "</td>\n",
       "<td>\n",
       "0.000E9\n",
       "</td>\n",
       "<td>\n",
       "\n",
       "</td>\n",
       "<td>\n",
       "\n",
       "</td>\n",
       "<td>\n",
       "\n",
       "</td>\n",
       "<td>\n",
       "\n",
       "</td>\n",
       "<td>\n",
       "\n",
       "</td>\n",
       "</tr>\n",
       "<tr style=\"background-color:#F4F4F4;\">\n",
       "<td>\n",
       "1\n",
       "</td>\n",
       "<td>\n",
       "mean\n",
       "</td>\n",
       "<td>\n",
       "0.377E4\n",
       "</td>\n",
       "<td>\n",
       "0.000E4\n",
       "</td>\n",
       "<td>\n",
       "\n",
       "</td>\n",
       "<td>\n",
       "\n",
       "</td>\n",
       "<td>\n",
       "3.5E+03\n",
       "</td>\n",
       "<td>\n",
       "4.5E+03\n",
       "</td>\n",
       "<td>\n",
       "\n",
       "</td>\n",
       "</tr>\n",
       "<tr style=\"background-color:#FFFFFF;\">\n",
       "<td>\n",
       "2\n",
       "</td>\n",
       "<td>\n",
       "sigma\n",
       "</td>\n",
       "<td>\n",
       "2.930E1\n",
       "</td>\n",
       "<td>\n",
       "0.000E1\n",
       "</td>\n",
       "<td>\n",
       "\n",
       "</td>\n",
       "<td>\n",
       "\n",
       "</td>\n",
       "<td>\n",
       "\n",
       "</td>\n",
       "<td>\n",
       "\n",
       "</td>\n",
       "<td>\n",
       "\n",
       "</td>\n",
       "</tr>\n",
       "<tr style=\"background-color:#F4F4F4;\">\n",
       "<td>\n",
       "3\n",
       "</td>\n",
       "<td>\n",
       "constant\n",
       "</td>\n",
       "<td>\n",
       "-1.046E4\n",
       "</td>\n",
       "<td>\n",
       " 0.001E4\n",
       "</td>\n",
       "<td>\n",
       "\n",
       "</td>\n",
       "<td>\n",
       "\n",
       "</td>\n",
       "<td>\n",
       "\n",
       "</td>\n",
       "<td>\n",
       "\n",
       "</td>\n",
       "<td>\n",
       "\n",
       "</td>\n",
       "</tr>\n",
       "</table>\n"
      ],
      "text/plain": [
       "------------------------------------------------------------------\n",
       "| FCN = 9.85E+08                |     Ncalls=344 (344 total)     |\n",
       "| EDM = 6.12E-06 (Goal: 1E-05)  |            up = 1.0            |\n",
       "------------------------------------------------------------------\n",
       "|  Valid Min.   | Valid Param.  | Above EDM | Reached call limit |\n",
       "------------------------------------------------------------------\n",
       "|     True      |     True      |   False   |       False        |\n",
       "------------------------------------------------------------------\n",
       "| Hesse failed  |   Has cov.    | Accurate  | Pos. def. | Forced |\n",
       "------------------------------------------------------------------\n",
       "|     False     |     True      |   True    |   True    | False  |\n",
       "------------------------------------------------------------------\n",
       "----------------------------------------------------------------------------------------------\n",
       "|   | Name     |   Value   | Hesse Err | Minos Err- | Minos Err+ | Limit-  | Limit+  | Fixed |\n",
       "----------------------------------------------------------------------------------------------\n",
       "| 0 | area     |  1.606E9  |  0.000E9  |            |            |         |         |       |\n",
       "| 1 | mean     |  0.377E4  |  0.000E4  |            |            |  3500   |  4500   |       |\n",
       "| 2 | sigma    |  2.930E1  |  0.000E1  |            |            |         |         |       |\n",
       "| 3 | constant | -1.046E4  |  0.001E4  |            |            |         |         |       |\n",
       "----------------------------------------------------------------------------------------------"
      ]
     },
     "execution_count": 56,
     "metadata": {},
     "output_type": "execute_result"
    }
   ],
   "source": [
    "m=Minuit(chisquare_1d, \n",
    "         area = 410e7, # set start parameter\n",
    "         #limit_area= (limit_lower,limit_upper) # if you want to limit things\n",
    "         #fix_area = \"True\", # you can also fix it\n",
    "         mean = 3650,\n",
    "         #fix_mean = \"True\",\n",
    "         limit_mean = (3500,4500),\n",
    "         sigma = 150,\n",
    "         constant = 0,\n",
    "         #fix_constant=0,\n",
    "         errordef = 1,\n",
    "         print_level=1)\n",
    "print('Now proceed with the fit.')\n",
    "m.migrad(ncall=500000)\n",
    "#m.minos(), if you need fancy mapping\n"
   ]
  },
  {
   "cell_type": "code",
   "execution_count": 57,
   "metadata": {},
   "outputs": [
    {
     "data": {
      "text/plain": [
       "(3500, 4000)"
      ]
     },
     "execution_count": 57,
     "metadata": {},
     "output_type": "execute_result"
    },
    {
     "data": {
      "image/png": "[encoded data removed]",
      "text/plain": [
       "<Figure size 432x288 with 1 Axes>"
      ]
     },
     "metadata": {},
     "output_type": "display_data"
    }
   ],
   "source": [
    "plt.plot(time_sub,subset)\n",
    "plt.plot(time_sub,gaussian(time_sub,m.values[\"area\"],m.values[\"mean\"],m.values[\"sigma\"],m.values[\"constant\"]))\n",
    "plt.xlim(3500,4000)"
   ]
  },
  {
   "cell_type": "code",
   "execution_count": 50,
   "metadata": {},
   "outputs": [
    {
     "data": {
      "text/plain": [
       "(3500, 4000)"
      ]
     },
     "execution_count": 50,
     "metadata": {},
     "output_type": "execute_result"
    },
    {
     "data": {
      "image/png": "[encoded data removed]",
      "text/plain": [
       "<Figure size 432x288 with 1 Axes>"
      ]
     },
     "metadata": {},
     "output_type": "display_data"
    }
   ],
   "source": [
    "plt.plot(time,check)\n",
    "plt.plot(time,gaussian(time,m.values[\"area\"],m.values[\"mean\"],m.values[\"sigma\"],m.values[\"constant\"]))\n",
    "plt.xlim(3500,4000)"
   ]
  },
  {
   "cell_type": "code",
   "execution_count": 58,
   "metadata": {},
   "outputs": [
    {
     "data": {
      "text/plain": [
       "(array([3767.26890948, 3767.26896373, 3767.26901798, 3767.26907223,\n",
       "        3767.26912648, 3767.26918072, 3767.26923497, 3767.26928922,\n",
       "        3767.26934347, 3767.26939771, 3767.26945196, 3767.26950621,\n",
       "        3767.26956046, 3767.2696147 , 3767.26966895, 3767.2697232 ,\n",
       "        3767.26977745, 3767.26983169, 3767.26988594, 3767.26994019,\n",
       "        3767.26999444, 3767.27004869, 3767.27010293, 3767.27015718,\n",
       "        3767.27021143, 3767.27026568, 3767.27031992, 3767.27037417,\n",
       "        3767.27042842, 3767.27048267, 3767.27053691, 3767.27059116,\n",
       "        3767.27064541, 3767.27069966, 3767.2707539 , 3767.27080815,\n",
       "        3767.2708624 , 3767.27091665, 3767.2709709 , 3767.27102514,\n",
       "        3767.27107939, 3767.27113364, 3767.27118789, 3767.27124213,\n",
       "        3767.27129638, 3767.27135063, 3767.27140488, 3767.27145912,\n",
       "        3767.27151337, 3767.27156762, 3767.27162187, 3767.27167612,\n",
       "        3767.27173036, 3767.27178461, 3767.27183886, 3767.27189311,\n",
       "        3767.27194735, 3767.2720016 , 3767.27205585, 3767.2721101 ,\n",
       "        3767.27216434, 3767.27221859, 3767.27227284, 3767.27232709,\n",
       "        3767.27238133, 3767.27243558, 3767.27248983, 3767.27254408,\n",
       "        3767.27259833, 3767.27265257, 3767.27270682, 3767.27276107,\n",
       "        3767.27281532, 3767.27286956, 3767.27292381, 3767.27297806,\n",
       "        3767.27303231, 3767.27308655, 3767.2731408 , 3767.27319505,\n",
       "        3767.2732493 , 3767.27330355, 3767.27335779, 3767.27341204,\n",
       "        3767.27346629, 3767.27352054, 3767.27357478, 3767.27362903,\n",
       "        3767.27368328, 3767.27373753, 3767.27379177, 3767.27384602,\n",
       "        3767.27390027, 3767.27395452, 3767.27400876, 3767.27406301,\n",
       "        3767.27411726, 3767.27417151, 3767.27422576, 3767.27428   ]),\n",
       " array([9.84970205e+08, 9.84970204e+08, 9.84970203e+08, 9.84970202e+08,\n",
       "        9.84970201e+08, 9.84970200e+08, 9.84970199e+08, 9.84970198e+08,\n",
       "        9.84970197e+08, 9.84970196e+08, 9.84970195e+08, 9.84970195e+08,\n",
       "        9.84970194e+08, 9.84970193e+08, 9.84970192e+08, 9.84970192e+08,\n",
       "        9.84970191e+08, 9.84970190e+08, 9.84970190e+08, 9.84970189e+08,\n",
       "        9.84970188e+08, 9.84970188e+08, 9.84970187e+08, 9.84970187e+08,\n",
       "        9.84970186e+08, 9.84970186e+08, 9.84970185e+08, 9.84970185e+08,\n",
       "        9.84970184e+08, 9.84970184e+08, 9.84970183e+08, 9.84970183e+08,\n",
       "        9.84970183e+08, 9.84970182e+08, 9.84970182e+08, 9.84970182e+08,\n",
       "        9.84970181e+08, 9.84970181e+08, 9.84970181e+08, 9.84970181e+08,\n",
       "        9.84970180e+08, 9.84970180e+08, 9.84970180e+08, 9.84970180e+08,\n",
       "        9.84970180e+08, 9.84970180e+08, 9.84970180e+08, 9.84970180e+08,\n",
       "        9.84970180e+08, 9.84970180e+08, 9.84970180e+08, 9.84970180e+08,\n",
       "        9.84970180e+08, 9.84970180e+08, 9.84970180e+08, 9.84970180e+08,\n",
       "        9.84970180e+08, 9.84970180e+08, 9.84970180e+08, 9.84970180e+08,\n",
       "        9.84970181e+08, 9.84970181e+08, 9.84970181e+08, 9.84970181e+08,\n",
       "        9.84970182e+08, 9.84970182e+08, 9.84970182e+08, 9.84970183e+08,\n",
       "        9.84970183e+08, 9.84970183e+08, 9.84970184e+08, 9.84970184e+08,\n",
       "        9.84970185e+08, 9.84970185e+08, 9.84970186e+08, 9.84970186e+08,\n",
       "        9.84970187e+08, 9.84970187e+08, 9.84970188e+08, 9.84970188e+08,\n",
       "        9.84970189e+08, 9.84970190e+08, 9.84970190e+08, 9.84970191e+08,\n",
       "        9.84970192e+08, 9.84970192e+08, 9.84970193e+08, 9.84970194e+08,\n",
       "        9.84970195e+08, 9.84970195e+08, 9.84970196e+08, 9.84970197e+08,\n",
       "        9.84970198e+08, 9.84970199e+08, 9.84970200e+08, 9.84970201e+08,\n",
       "        9.84970202e+08, 9.84970203e+08, 9.84970204e+08, 9.84970205e+08]),\n",
       " array([ True,  True,  True,  True,  True,  True,  True,  True,  True,\n",
       "         True,  True,  True,  True,  True,  True,  True,  True,  True,\n",
       "         True,  True,  True,  True,  True,  True,  True,  True,  True,\n",
       "         True,  True,  True,  True,  True,  True,  True,  True,  True,\n",
       "         True,  True,  True,  True,  True,  True,  True,  True,  True,\n",
       "         True,  True,  True,  True,  True,  True,  True,  True,  True,\n",
       "         True,  True,  True,  True,  True,  True,  True,  True,  True,\n",
       "         True,  True,  True,  True,  True,  True,  True,  True,  True,\n",
       "         True,  True,  True,  True,  True,  True,  True,  True,  True,\n",
       "         True,  True,  True,  True,  True,  True,  True,  True,  True,\n",
       "         True,  True,  True,  True,  True,  True,  True,  True,  True,\n",
       "         True]))"
      ]
     },
     "execution_count": 58,
     "metadata": {},
     "output_type": "execute_result"
    },
    {
     "data": {
      "image/png": "[encoded data removed]",
      "text/plain": [
       "<Figure size 432x288 with 1 Axes>"
      ]
     },
     "metadata": {},
     "output_type": "display_data"
    }
   ],
   "source": [
    "m.draw_mnprofile('mean',bound = 5, bins = 100)"
   ]
  },
  {
   "cell_type": "code",
   "execution_count": null,
   "metadata": {},
   "outputs": [],
   "source": []
  }
 ],
 "metadata": {
  "kernelspec": {
   "display_name": "Python 3",
   "language": "python",
   "name": "python3"
  },
  "language_info": {
   "codemirror_mode": {
    "name": "ipython",
    "version": 3
   },
   "file_extension": ".py",
   "mimetype": "text/x-python",
   "name": "python",
   "nbconvert_exporter": "python",
   "pygments_lexer": "ipython3",
   "version": "3.6.7"
  }
 },
 "nbformat": 4,
 "nbformat_minor": 2
}
