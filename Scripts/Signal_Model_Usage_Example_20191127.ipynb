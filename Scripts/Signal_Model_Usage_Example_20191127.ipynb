{
 "cells": [
  {
   "cell_type": "code",
   "execution_count": 1,
   "metadata": {},
   "outputs": [],
   "source": [
    "%run /home/analysis_user/New_trap_code/Tools/basic_packages.py\n",
    "\n",
    "sys.path.append('/home/analysis_user/New_trap_code/SensitivityFramework/')\n",
    "from signal_model_utilities_v3b import *"
   ]
  },
  {
   "cell_type": "code",
   "execution_count": 2,
   "metadata": {},
   "outputs": [],
   "source": [
    "# %matplotlib widget"
   ]
  },
  {
   "cell_type": "code",
   "execution_count": 3,
   "metadata": {},
   "outputs": [
    {
     "name": "stdout",
     "output_type": "stream",
     "text": [
      "Loading Gravity Data... Done!\n",
      "81 9.74070978211e-06\n",
      "Loaded Yukawa Force\n"
     ]
    }
   ],
   "source": [
    "test = force_vs_time(10,15,200,3,10,\"x\", offset_y=0, yuk_or_grav=\"yuk\",alpha=1e8, bead_size=7.6e-6)\n",
    "# test2 = force_vs_time(0.1e-6,0e-6,200e-6,3,\"z\",100e-6, yuk_or_grav=\"yuk\",alpha=1,bead_size=3.8e-6)\n"
   ]
  },
  {
   "cell_type": "code",
   "execution_count": 4,
   "metadata": {},
   "outputs": [
    {
     "name": "stdout",
     "output_type": "stream",
     "text": [
      "Loading Gravity Data... Done!\n",
      "81 9.74070978211e-06\n",
      "Loaded Yukawa Force\n"
     ]
    }
   ],
   "source": [
    "test2 = force_vs_position(10,15,10,\"x\",yuk_or_grav=\"yuk\",bead_size=7.6,posvec=np.linspace(-249.5, 249.0, 501))\n"
   ]
  },
  {
   "cell_type": "code",
   "execution_count": 5,
   "metadata": {},
   "outputs": [
    {
     "data": {
      "image/png": "[encoded data removed]",
      "text/plain": [
       "<Figure size 432x288 with 1 Axes>"
      ]
     },
     "metadata": {
      "needs_background": "light"
     },
     "output_type": "display_data"
    }
   ],
   "source": [
    "plt.plot(test2[0],test2[1])\n",
    "plt.show()"
   ]
  },
  {
   "cell_type": "code",
   "execution_count": null,
   "metadata": {},
   "outputs": [],
   "source": [
    "def fft_norm(N, fsamp):\n",
    "    \"Factor to normalize FFT to ASD units\"\n",
    "    return np.sqrt(2 / (N * fsamp))\n",
    "scale = np.sqrt(2)*fft_norm(5000, 5000)\n",
    "\n",
    "_,ax = plt.subplots()\n",
    "x = test[1]\n",
    "# x2 = test2[1]\n",
    "fft = np.abs(np.fft.rfft(x))*scale*1.85/1.55\n",
    "angles = np.angle(np.fft.rfft(x))\n",
    "# fft2 = np.abs(np.fft.rfft(x2))*scale\n",
    "freq = np.fft.rfftfreq(len(x), d=1./5000)\n",
    "ax.semilogy(freq, fft, label='7.6 $\\mu m$ sphere - Z force')\n",
    "# ax.semilogy(freq, fft2, label='7.6 $\\mu m$ sphere - Z force', alpha=0.5)\n",
    "ax.set(xlim=(1,100), ylim=(None,None), xlabel='frequency [Hz]', ylabel='Force [N]', title=r'$\\alpha=1x10^{8}$')\n",
    "ax.legend()\n",
    "print('Z force [N] at 36Hz.:', fft[freq==36])\n",
    "print('sensitivity [alpha]:', 1e-17/fft[freq==36]*1e8)"
   ]
  },
  {
   "cell_type": "code",
   "execution_count": null,
   "metadata": {},
   "outputs": [],
   "source": [
    "angles[freq==2]"
   ]
  },
  {
   "cell_type": "code",
   "execution_count": null,
   "metadata": {},
   "outputs": [],
   "source": [
    "_,ax = plt.subplots()\n",
    "ax.plot(test[0], test[1])\n",
    "ax.set(xlabel='time [sec.]', ylabel='Z-Force [N]')\n",
    "print(np.mean(test[1]))"
   ]
  },
  {
   "cell_type": "code",
   "execution_count": null,
   "metadata": {},
   "outputs": [],
   "source": [
    "#SI units\n",
    "G = 6.67e-11\n",
    "Ms = 100e-12*1e-3 #100pg\n",
    "Ma = 5e-6*5e-6*2e-6*19300 #attractor model\n",
    "R = 5e-6\n",
    "print(G*Ms*Ma/R/R)"
   ]
  },
  {
   "cell_type": "code",
   "execution_count": null,
   "metadata": {},
   "outputs": [],
   "source": [
    "# test2 = force_vs_position(9,6,10,\"z\",yuk_or_grav=\"grav\")\n",
    "test3 = force_vs_position(9,6,10000,\"z\",yuk_or_grav=\"yuk\")"
   ]
  },
  {
   "cell_type": "code",
   "execution_count": null,
   "metadata": {},
   "outputs": [],
   "source": [
    "# plt.plot(test2[0],test2[1])\n",
    "plt.plot(test3[0],test3[1])\n",
    "\n",
    "print(np.min(test3[1]))"
   ]
  },
  {
   "cell_type": "code",
   "execution_count": null,
   "metadata": {},
   "outputs": [],
   "source": [
    "_,ax = plt.subplots()\n",
    "ax.plot(test[0],test[1]-np.mean(test[1]))\n",
    "# ax.plot(test2[0],test2[1]-np.mean(test2[1]))\n",
    "# plt.xlim(0,1/13.*2)"
   ]
  },
  {
   "cell_type": "code",
   "execution_count": null,
   "metadata": {},
   "outputs": [],
   "source": []
  },
  {
   "cell_type": "code",
   "execution_count": null,
   "metadata": {},
   "outputs": [],
   "source": [
    "test_small = force_vs_time(8e-6,5e-6,100e-6,3,\"z\",lambda_par=10e-6,yuk_or_grav=\"yuk\",alpha=1e8,bead_size=2.4e-6)\n",
    "test_big = force_vs_time(8e-6,5e-6,100e-6,3,\"z\",lambda_par=10e-6,yuk_or_grav=\"yuk\",alpha=1e8,bead_size=3.8e-6)"
   ]
  },
  {
   "cell_type": "code",
   "execution_count": null,
   "metadata": {},
   "outputs": [],
   "source": [
    "_,ax = plt.subplots()\n",
    "x = test_small[1]-np.mean(test_small[1])\n",
    "fft = np.abs(np.fft.rfft(x, norm='ortho'))\n",
    "freq = np.fft.rfftfreq(len(x), d=1./5000)\n",
    "ax.semilogy(freq, fft)\n",
    "\n",
    "x2 = test_big[1]-np.mean(test_big[1])\n",
    "fft2 = np.abs(np.fft.rfft(x2, norm='ortho'))\n",
    "freq2 = np.fft.rfftfreq(len(x2), d=1./5000)\n",
    "ax.semilogy(freq2, fft2, alpha=0.4)\n",
    "\n",
    "ax.set(xlim=(1,100), xlabel='frequency [Hz]', ylabel='Z-force [N]', title=r'$\\alpha=10^8$')\n",
    "\n",
    "print(fft2[freq2==18]/fft[freq==18])"
   ]
  }
 ],
 "metadata": {
  "kernelspec": {
   "display_name": "Python 3",
   "language": "python",
   "name": "python3"
  },
  "language_info": {
   "codemirror_mode": {
    "name": "ipython",
    "version": 3
   },
   "file_extension": ".py",
   "mimetype": "text/x-python",
   "name": "python",
   "nbconvert_exporter": "python",
   "pygments_lexer": "ipython3",
   "version": "3.6.9"
  },
  "widgets": {
   "application/vnd.jupyter.widget-state+json": {
    "state": {},
    "version_major": 2,
    "version_minor": 0
   }
  }
 },
 "nbformat": 4,
 "nbformat_minor": 4
}
