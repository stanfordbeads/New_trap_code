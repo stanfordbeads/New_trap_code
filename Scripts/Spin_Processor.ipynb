{
 "cells": [
  {
   "cell_type": "code",
   "execution_count": 1,
   "metadata": {},
   "outputs": [],
   "source": [
    "%run /home/analysis_user/New_trap_code/Tools/basic_packages.py\n",
    "\n",
    "plt.rcParams[\"figure.figsize\"] = (16,12)\n",
    "plt.rcParams[\"font.size\"] = 24\n",
    "plt.rcParams['xtick.labelsize'] = \"small\"\n",
    "plt.rcParams['ytick.labelsize'] = 36"
   ]
  },
  {
   "cell_type": "code",
   "execution_count": 8,
   "metadata": {},
   "outputs": [],
   "source": [
    "def freq_phase_extractor(df_spin,full=True):\n",
    "    frequency = 3\n",
    "    no_harmonics=15\n",
    "    if(full==True): fq = np.arange(10,25000,10)\n",
    "    if(full==False): fq= np.arange(frequency*10,no_harmonics*10*frequency,10)   \n",
    "    for f in tqdm(fq):\n",
    "        foi =[]\n",
    "        for i in range(len(df_spin)):\n",
    "            foi.append(df_spin.spin_amp[i][f-5:f+5].mean())\n",
    "            poi.append(df_spin.spin_amp[i][f-5:f+5].mean())\n",
    "        df_spin[\"freq_%d\" %(f/10)] = foi\n",
    "    return df_spin"
   ]
  },
  {
   "cell_type": "code",
   "execution_count": 16,
   "metadata": {},
   "outputs": [],
   "source": [
    "# load the files\n",
    "bead_date =20200320\n",
    "bead_number = 1\n",
    "dataset = \"Shaking/Shaking2_20200403/\"\n",
    "FOI = \"NoShaking_1\"\n",
    "dirname =\"/data/new_trap/\" + str(bead_date) + \"/Bead%s/\" %bead_number +dataset\n",
    "filename = dirname + FOI\n"
   ]
  },
  {
   "cell_type": "code",
   "execution_count": 17,
   "metadata": {},
   "outputs": [
    {
     "name": "stderr",
     "output_type": "stream",
     "text": [
      "100%|██████████| 20/20 [00:56<00:00,  2.51s/it]\n"
     ]
    },
    {
     "name": "stdout",
     "output_type": "stream",
     "text": [
      "68.02706408500671\n"
     ]
    }
   ],
   "source": [
    "s = time.time()\n",
    "df_spin = spin_processor(dirname,FOI,1000)\n",
    "e = time.time()\n",
    "print(e-s)"
   ]
  },
  {
   "cell_type": "code",
   "execution_count": 19,
   "metadata": {},
   "outputs": [
    {
     "name": "stdout",
     "output_type": "stream",
     "text": [
      "Folder exists or you do not have permissions\n",
      "Successfully saved spin file\n"
     ]
    }
   ],
   "source": [
    "# save the file\n",
    "base_proc = \"/data/new_trap_processed/processed_files/\" + str(bead_date) +  \"/Bead%s/\" %bead_number\n",
    "\n",
    "try:\n",
    "    os.makedirs(base_proc+dataset)\n",
    "    print(\"Created subdirs %s\" %dataset)\n",
    "except:\n",
    "    print(\"Folder exists or you do not have permissions\")\n",
    "    \n",
    "outputname = base_proc + dataset+FOI+\"_spin.pkl\"\n",
    "if(os.path.isfile(outputname)==False):\n",
    "    df_spin.to_pickle(outputname)\n",
    "    print(\"Successfully saved spin file\")\n",
    "else:print(\"No spin file produced. %s exists already!\" %outputname)    "
   ]
  },
  {
   "cell_type": "code",
   "execution_count": 20,
   "metadata": {},
   "outputs": [],
   "source": [
    "del df_spin"
   ]
  },
  {
   "cell_type": "code",
   "execution_count": null,
   "metadata": {},
   "outputs": [],
   "source": []
  }
 ],
 "metadata": {
  "kernelspec": {
   "display_name": "Python 3",
   "language": "python",
   "name": "python3"
  },
  "language_info": {
   "codemirror_mode": {
    "name": "ipython",
    "version": 3
   },
   "file_extension": ".py",
   "mimetype": "text/x-python",
   "name": "python",
   "nbconvert_exporter": "python",
   "pygments_lexer": "ipython3",
   "version": "3.6.9"
  }
 },
 "nbformat": 4,
 "nbformat_minor": 4
}
