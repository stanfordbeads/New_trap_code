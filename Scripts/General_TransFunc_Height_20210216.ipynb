{
 "cells": [
  {
   "cell_type": "code",
   "execution_count": 7,
   "metadata": {},
   "outputs": [],
   "source": [
    "%run /home/analysis_user/New_trap_code/Tools/basic_packages.py\n"
   ]
  },
  {
   "cell_type": "code",
   "execution_count": 8,
   "metadata": {},
   "outputs": [],
   "source": [
    "%matplotlib widget"
   ]
  },
  {
   "cell_type": "code",
   "execution_count": 9,
   "metadata": {},
   "outputs": [],
   "source": [
    "import sys\n",
    "sys.path.append('/home/analysis_user/New_trap_code/Tools/')\n",
    "import BeadDataFile"
   ]
  },
  {
   "cell_type": "code",
   "execution_count": 10,
   "metadata": {},
   "outputs": [],
   "source": [
    "Year = \"2021\"\n",
    "Month = \"06\"\n",
    "Day = \"16\"\n",
    "BeadNumber =1\n",
    "folder = r\"/home/data_transfer/data_from_windows/\"+ Year + Month + Day"
   ]
  },
  {
   "cell_type": "code",
   "execution_count": 58,
   "metadata": {},
   "outputs": [],
   "source": [
    "fname_1 = folder+\"/Bead\"+str(BeadNumber)+\"/TransFunc\"+\"/TransFunc_Y0_m1050k_7hz_10s.h5\"\n",
    "fname_2 = folder+\"/Bead\"+str(BeadNumber)+\"/TransFunc\"+\"/TransFunc_Y0_m1100k_7hz_10s.h5\"\n",
    "\n",
    "res = 5000\n",
    "fsamp=5000\n",
    "\n",
    "BDF = BeadDataFile.BeadDataFile(fname_1)\n",
    "data1 = BDF.xyz2\n",
    "data_det1=signal.detrend(data1)\n",
    "xpsd1, freqs1 = matplotlib.mlab.psd(data_det1[0], Fs = fsamp, NFFT = res)\n",
    "ypsd1, freqs1 = matplotlib.mlab.psd(data_det1[1], Fs = fsamp, NFFT = res)\n",
    "zpsd1, freqs1 = matplotlib.mlab.psd(data_det1[2], Fs = fsamp, NFFT = res)\n",
    "\n",
    "BDF = BeadDataFile.BeadDataFile(fname_2)\n",
    "data2 = BDF.xyz2\n",
    "data_det2=signal.detrend(data2)\n",
    "xpsd2, freqs2 = matplotlib.mlab.psd(data_det2[0], Fs = fsamp, NFFT = res)\n",
    "ypsd2, freqs2 = matplotlib.mlab.psd(data_det2[1], Fs = fsamp, NFFT = res)\n",
    "zpsd2, freqs2 = matplotlib.mlab.psd(data_det2[2], Fs = fsamp, NFFT = res)\n"
   ]
  },
  {
   "cell_type": "code",
   "execution_count": 59,
   "metadata": {},
   "outputs": [
    {
     "data": {
      "application/vnd.jupyter.widget-view+json": {
       "model_id": "df00c72a11d0444d8017ff7f7e49e0be",
       "version_major": 2,
       "version_minor": 0
      },
      "text/plain": [
       "Canvas(toolbar=Toolbar(toolitems=[('Home', 'Reset original view', 'home', 'home'), ('Back', 'Back to previous …"
      ]
     },
     "metadata": {},
     "output_type": "display_data"
    },
    {
     "name": "stderr",
     "output_type": "stream",
     "text": [
      "No handles with labels found to put in legend.\n"
     ]
    }
   ],
   "source": [
    "_,ax = plt.subplots()\n",
    "ax.loglog(freqs1, xpsd1, '.-', markersize=2,linewidth=1)\n",
    "ax.loglog(freqs2, xpsd2, '.-', markersize=2,linewidth=1,alpha=0.5)\n",
    "\n",
    "ax.legend()\n",
    "ax.set_xlabel('Frequency [Hz]')\n",
    "ax.set_ylabel('PSD [a.u.]')\n",
    "plt.xlim(1,2500)\n",
    "#plt.ylim(1e5,1e10)\n",
    "plt.grid(True)\n"
   ]
  },
  {
   "cell_type": "code",
   "execution_count": 60,
   "metadata": {},
   "outputs": [
    {
     "data": {
      "application/vnd.jupyter.widget-view+json": {
       "model_id": "a12afc5c87494f5884fd5005cf2a86a7",
       "version_major": 2,
       "version_minor": 0
      },
      "text/plain": [
       "Canvas(toolbar=Toolbar(toolitems=[('Home', 'Reset original view', 'home', 'home'), ('Back', 'Back to previous …"
      ]
     },
     "metadata": {},
     "output_type": "display_data"
    },
    {
     "name": "stderr",
     "output_type": "stream",
     "text": [
      "No handles with labels found to put in legend.\n"
     ]
    }
   ],
   "source": [
    "_,ax = plt.subplots()\n",
    "ax.loglog(freqs1, ypsd1, '.-', markersize=2,linewidth=1)\n",
    "ax.loglog(freqs2, ypsd2, '.-', markersize=2,linewidth=1,alpha=0.5)\n",
    "\n",
    "ax.legend()\n",
    "ax.set_xlabel('Frequency [Hz]')\n",
    "ax.set_ylabel('PSD [a.u.]')\n",
    "plt.xlim(1,2500)\n",
    "#plt.ylim(1e5,1e10)\n",
    "plt.grid(True)\n"
   ]
  },
  {
   "cell_type": "code",
   "execution_count": null,
   "metadata": {},
   "outputs": [],
   "source": []
  },
  {
   "cell_type": "code",
   "execution_count": null,
   "metadata": {},
   "outputs": [],
   "source": []
  }
 ],
 "metadata": {
  "kernelspec": {
   "display_name": "Python 3",
   "language": "python",
   "name": "python3"
  },
  "language_info": {
   "codemirror_mode": {
    "name": "ipython",
    "version": 3
   },
   "file_extension": ".py",
   "mimetype": "text/x-python",
   "name": "python",
   "nbconvert_exporter": "python",
   "pygments_lexer": "ipython3",
   "version": "3.6.9"
  }
 },
 "nbformat": 4,
 "nbformat_minor": 4
}
