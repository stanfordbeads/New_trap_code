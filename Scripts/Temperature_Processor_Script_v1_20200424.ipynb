{
 "cells": [
  {
   "cell_type": "code",
   "execution_count": 1,
   "metadata": {},
   "outputs": [],
   "source": [
    "%run /home/analysis_user/New_trap_code/Tools/basic_packages.py\n",
    "\n",
    "plt.rcParams[\"figure.figsize\"] = (16,12)\n",
    "plt.rcParams[\"font.size\"] = 24\n",
    "\n",
    "plt.rcParams['xtick.labelsize'] = \"small\"\n",
    "plt.rcParams['ytick.labelsize'] = 36"
   ]
  },
  {
   "cell_type": "code",
   "execution_count": 2,
   "metadata": {},
   "outputs": [],
   "source": [
    "year = 2020\n",
    "month = 3\n",
    "start_day = 20\n",
    "end_day = 31\n",
    "bead_date = 20200320\n",
    "bead_number = 1"
   ]
  },
  {
   "cell_type": "code",
   "execution_count": 3,
   "metadata": {},
   "outputs": [
    {
     "name": "stderr",
     "output_type": "stream",
     "text": [
      "  0%|          | 0/12 [00:00<?, ?it/s]"
     ]
    },
    {
     "name": "stdout",
     "output_type": "stream",
     "text": [
      "Did not create /data/new_trap_processed/processed_files/20200320. It may exist or you do not have perimissions.\n",
      "Did not create bead folder. It may exist or you do not have perimissions.\n",
      "Did not create output folder:/data/new_trap_processed/processed_files/20200320/Bead1/20200320. It may exist or you do not have perimissions.\n"
     ]
    },
    {
     "name": "stderr",
     "output_type": "stream",
     "text": [
      "  8%|▊         | 1/12 [00:27<05:04, 27.67s/it]"
     ]
    },
    {
     "name": "stdout",
     "output_type": "stream",
     "text": [
      "Did not create /data/new_trap_processed/processed_files/20200320. It may exist or you do not have perimissions.\n",
      "Did not create bead folder. It may exist or you do not have perimissions.\n"
     ]
    },
    {
     "name": "stderr",
     "output_type": "stream",
     "text": [
      " 17%|█▋        | 2/12 [00:54<04:35, 27.56s/it]"
     ]
    },
    {
     "name": "stdout",
     "output_type": "stream",
     "text": [
      "Did not create /data/new_trap_processed/processed_files/20200320. It may exist or you do not have perimissions.\n",
      "Did not create bead folder. It may exist or you do not have perimissions.\n"
     ]
    },
    {
     "name": "stderr",
     "output_type": "stream",
     "text": [
      " 25%|██▌       | 3/12 [01:22<04:08, 27.60s/it]"
     ]
    },
    {
     "name": "stdout",
     "output_type": "stream",
     "text": [
      "Did not create /data/new_trap_processed/processed_files/20200320. It may exist or you do not have perimissions.\n",
      "Did not create bead folder. It may exist or you do not have perimissions.\n"
     ]
    },
    {
     "name": "stderr",
     "output_type": "stream",
     "text": [
      " 33%|███▎      | 4/12 [01:50<03:40, 27.61s/it]"
     ]
    },
    {
     "name": "stdout",
     "output_type": "stream",
     "text": [
      "Did not create /data/new_trap_processed/processed_files/20200320. It may exist or you do not have perimissions.\n",
      "Did not create bead folder. It may exist or you do not have perimissions.\n"
     ]
    },
    {
     "name": "stderr",
     "output_type": "stream",
     "text": [
      " 42%|████▏     | 5/12 [02:17<03:12, 27.57s/it]"
     ]
    },
    {
     "name": "stdout",
     "output_type": "stream",
     "text": [
      "Did not create /data/new_trap_processed/processed_files/20200320. It may exist or you do not have perimissions.\n",
      "Did not create bead folder. It may exist or you do not have perimissions.\n"
     ]
    },
    {
     "name": "stderr",
     "output_type": "stream",
     "text": [
      " 50%|█████     | 6/12 [02:46<02:47, 27.87s/it]"
     ]
    },
    {
     "name": "stdout",
     "output_type": "stream",
     "text": [
      "Did not create /data/new_trap_processed/processed_files/20200320. It may exist or you do not have perimissions.\n",
      "Did not create bead folder. It may exist or you do not have perimissions.\n"
     ]
    },
    {
     "name": "stderr",
     "output_type": "stream",
     "text": [
      " 58%|█████▊    | 7/12 [03:13<02:18, 27.72s/it]"
     ]
    },
    {
     "name": "stdout",
     "output_type": "stream",
     "text": [
      "Did not create /data/new_trap_processed/processed_files/20200320. It may exist or you do not have perimissions.\n",
      "Did not create bead folder. It may exist or you do not have perimissions.\n"
     ]
    },
    {
     "name": "stderr",
     "output_type": "stream",
     "text": [
      " 67%|██████▋   | 8/12 [03:41<01:50, 27.73s/it]"
     ]
    },
    {
     "name": "stdout",
     "output_type": "stream",
     "text": [
      "Did not create /data/new_trap_processed/processed_files/20200320. It may exist or you do not have perimissions.\n",
      "Did not create bead folder. It may exist or you do not have perimissions.\n"
     ]
    },
    {
     "name": "stderr",
     "output_type": "stream",
     "text": [
      " 75%|███████▌  | 9/12 [04:08<01:22, 27.63s/it]"
     ]
    },
    {
     "name": "stdout",
     "output_type": "stream",
     "text": [
      "Did not create /data/new_trap_processed/processed_files/20200320. It may exist or you do not have perimissions.\n",
      "Did not create bead folder. It may exist or you do not have perimissions.\n"
     ]
    },
    {
     "name": "stderr",
     "output_type": "stream",
     "text": [
      " 83%|████████▎ | 10/12 [04:36<00:55, 27.69s/it]"
     ]
    },
    {
     "name": "stdout",
     "output_type": "stream",
     "text": [
      "Did not create /data/new_trap_processed/processed_files/20200320. It may exist or you do not have perimissions.\n",
      "Did not create bead folder. It may exist or you do not have perimissions.\n"
     ]
    },
    {
     "name": "stderr",
     "output_type": "stream",
     "text": [
      " 92%|█████████▏| 11/12 [05:04<00:27, 27.62s/it]"
     ]
    },
    {
     "name": "stdout",
     "output_type": "stream",
     "text": [
      "Did not create /data/new_trap_processed/processed_files/20200320. It may exist or you do not have perimissions.\n",
      "Did not create bead folder. It may exist or you do not have perimissions.\n"
     ]
    },
    {
     "name": "stderr",
     "output_type": "stream",
     "text": [
      "100%|██████████| 12/12 [05:31<00:00, 27.68s/it]"
     ]
    },
    {
     "name": "stdout",
     "output_type": "stream",
     "text": [
      "Done\n"
     ]
    },
    {
     "name": "stderr",
     "output_type": "stream",
     "text": [
      "\n"
     ]
    }
   ],
   "source": [
    "run_environment_processor_batch(year,month,start_day,end_day,bead_date,bead_number)"
   ]
  },
  {
   "cell_type": "code",
   "execution_count": 4,
   "metadata": {},
   "outputs": [],
   "source": [
    "df_example = pd.read_pickle(\"/data/new_trap_processed/processed_files/{0}/Bead{1}/{2}{3}{4}/environmental_data_{2}{3}{4}.pkl\".format(bead_date,bead_number,year,str(month).zfill(2),str(end_day).zfill(2)))"
   ]
  },
  {
   "cell_type": "code",
   "execution_count": null,
   "metadata": {},
   "outputs": [],
   "source": []
  }
 ],
 "metadata": {
  "kernelspec": {
   "display_name": "Python 3",
   "language": "python",
   "name": "python3"
  },
  "language_info": {
   "codemirror_mode": {
    "name": "ipython",
    "version": 3
   },
   "file_extension": ".py",
   "mimetype": "text/x-python",
   "name": "python",
   "nbconvert_exporter": "python",
   "pygments_lexer": "ipython3",
   "version": "3.6.9"
  }
 },
 "nbformat": 4,
 "nbformat_minor": 4
}
