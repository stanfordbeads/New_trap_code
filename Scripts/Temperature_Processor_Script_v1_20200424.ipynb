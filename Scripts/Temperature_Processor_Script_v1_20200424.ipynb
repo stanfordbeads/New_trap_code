{
 "cells": [
  {
   "cell_type": "code",
   "execution_count": 1,
   "metadata": {},
   "outputs": [],
   "source": [
    "%run /home/analysis_user/New_trap_code/Tools/basic_packages.py\n",
    "\n",
    "plt.rcParams[\"figure.figsize\"] = (16,12)\n",
    "plt.rcParams[\"font.size\"] = 24\n",
    "\n",
    "plt.rcParams['xtick.labelsize'] = \"small\"\n",
    "plt.rcParams['ytick.labelsize'] = 36"
   ]
  },
  {
   "cell_type": "code",
   "execution_count": 8,
   "metadata": {},
   "outputs": [],
   "source": [
    "year = 2020\n",
    "month = 4\n",
    "start_day = 1\n",
    "end_day = 10\n",
    "bead_date = 20200320\n",
    "bead_number = 1"
   ]
  },
  {
   "cell_type": "code",
   "execution_count": 9,
   "metadata": {},
   "outputs": [
    {
     "name": "stderr",
     "output_type": "stream",
     "text": [
      "  0%|          | 0/10 [00:00<?, ?it/s]"
     ]
    },
    {
     "name": "stdout",
     "output_type": "stream",
     "text": [
      "Did not create /data/new_trap_processed/processed_files/20200320/Bead1/EnvData/. It may exist or you do not have perimissions.\n"
     ]
    },
    {
     "name": "stderr",
     "output_type": "stream",
     "text": [
      " 10%|█         | 1/10 [00:31<04:47, 31.95s/it]"
     ]
    },
    {
     "name": "stdout",
     "output_type": "stream",
     "text": [
      "Did not create /data/new_trap_processed/processed_files/20200320/Bead1/EnvData/. It may exist or you do not have perimissions.\n"
     ]
    },
    {
     "name": "stderr",
     "output_type": "stream",
     "text": [
      " 20%|██        | 2/10 [01:03<04:15, 31.92s/it]"
     ]
    },
    {
     "name": "stdout",
     "output_type": "stream",
     "text": [
      "Did not create /data/new_trap_processed/processed_files/20200320/Bead1/EnvData/. It may exist or you do not have perimissions.\n"
     ]
    },
    {
     "name": "stderr",
     "output_type": "stream",
     "text": [
      " 30%|███       | 3/10 [01:34<03:41, 31.62s/it]"
     ]
    },
    {
     "name": "stdout",
     "output_type": "stream",
     "text": [
      "Did not create /data/new_trap_processed/processed_files/20200320/Bead1/EnvData/. It may exist or you do not have perimissions.\n"
     ]
    },
    {
     "name": "stderr",
     "output_type": "stream",
     "text": [
      " 40%|████      | 4/10 [02:06<03:10, 31.70s/it]"
     ]
    },
    {
     "name": "stdout",
     "output_type": "stream",
     "text": [
      "Did not create /data/new_trap_processed/processed_files/20200320/Bead1/EnvData/. It may exist or you do not have perimissions.\n"
     ]
    },
    {
     "name": "stderr",
     "output_type": "stream",
     "text": [
      " 50%|█████     | 5/10 [02:37<02:37, 31.41s/it]"
     ]
    },
    {
     "name": "stdout",
     "output_type": "stream",
     "text": [
      "Did not create /data/new_trap_processed/processed_files/20200320/Bead1/EnvData/. It may exist or you do not have perimissions.\n"
     ]
    },
    {
     "name": "stderr",
     "output_type": "stream",
     "text": [
      " 60%|██████    | 6/10 [03:06<02:03, 30.85s/it]"
     ]
    },
    {
     "name": "stdout",
     "output_type": "stream",
     "text": [
      "Did not create /data/new_trap_processed/processed_files/20200320/Bead1/EnvData/. It may exist or you do not have perimissions.\n"
     ]
    },
    {
     "name": "stderr",
     "output_type": "stream",
     "text": [
      " 70%|███████   | 7/10 [03:36<01:31, 30.34s/it]"
     ]
    },
    {
     "name": "stdout",
     "output_type": "stream",
     "text": [
      "Did not create /data/new_trap_processed/processed_files/20200320/Bead1/EnvData/. It may exist or you do not have perimissions.\n"
     ]
    },
    {
     "name": "stderr",
     "output_type": "stream",
     "text": [
      " 80%|████████  | 8/10 [04:05<00:59, 30.00s/it]"
     ]
    },
    {
     "name": "stdout",
     "output_type": "stream",
     "text": [
      "Did not create /data/new_trap_processed/processed_files/20200320/Bead1/EnvData/. It may exist or you do not have perimissions.\n"
     ]
    },
    {
     "name": "stderr",
     "output_type": "stream",
     "text": [
      " 90%|█████████ | 9/10 [04:34<00:29, 29.64s/it]"
     ]
    },
    {
     "name": "stdout",
     "output_type": "stream",
     "text": [
      "Did not create /data/new_trap_processed/processed_files/20200320/Bead1/EnvData/. It may exist or you do not have perimissions.\n"
     ]
    },
    {
     "name": "stderr",
     "output_type": "stream",
     "text": [
      "100%|██████████| 10/10 [05:03<00:00, 29.46s/it]"
     ]
    },
    {
     "name": "stdout",
     "output_type": "stream",
     "text": [
      "Done\n"
     ]
    },
    {
     "name": "stderr",
     "output_type": "stream",
     "text": [
      "\n"
     ]
    }
   ],
   "source": [
    "run_environment_processor_batch(year,month,start_day,end_day,bead_date,bead_number)"
   ]
  },
  {
   "cell_type": "code",
   "execution_count": 10,
   "metadata": {},
   "outputs": [],
   "source": [
    "df_example = pd.read_pickle(\"/data/new_trap_processed/processed_files/{0}/Bead{1}/EnvData/{2}{3}{4}/environmental_data_{2}{3}{4}.pkl\".format(bead_date,bead_number,year,str(month).zfill(2),str(end_day).zfill(2)))"
   ]
  },
  {
   "cell_type": "code",
   "execution_count": 11,
   "metadata": {},
   "outputs": [
    {
     "data": {
      "text/html": [
       "<div>\n",
       "<style scoped>\n",
       "    .dataframe tbody tr th:only-of-type {\n",
       "        vertical-align: middle;\n",
       "    }\n",
       "\n",
       "    .dataframe tbody tr th {\n",
       "        vertical-align: top;\n",
       "    }\n",
       "\n",
       "    .dataframe thead th {\n",
       "        text-align: right;\n",
       "    }\n",
       "</style>\n",
       "<table border=\"1\" class=\"dataframe\">\n",
       "  <thead>\n",
       "    <tr style=\"text-align: right;\">\n",
       "      <th></th>\n",
       "      <th>AirTemperature</th>\n",
       "      <th>SurfaceTemperature</th>\n",
       "      <th>Pressure</th>\n",
       "      <th>Time</th>\n",
       "      <th>Time_Human</th>\n",
       "      <th>Time_Epoch</th>\n",
       "    </tr>\n",
       "  </thead>\n",
       "  <tbody>\n",
       "    <tr>\n",
       "      <th>0</th>\n",
       "      <td>23.558880</td>\n",
       "      <td>22.851611</td>\n",
       "      <td>1016.679879</td>\n",
       "      <td>00:00:00</td>\n",
       "      <td>2020-04-10-00:00:00</td>\n",
       "      <td>1.586502e+09</td>\n",
       "    </tr>\n",
       "    <tr>\n",
       "      <th>1</th>\n",
       "      <td>23.558254</td>\n",
       "      <td>22.851490</td>\n",
       "      <td>1016.665833</td>\n",
       "      <td>00:00:01</td>\n",
       "      <td>2020-04-10-00:00:01</td>\n",
       "      <td>1.586502e+09</td>\n",
       "    </tr>\n",
       "    <tr>\n",
       "      <th>2</th>\n",
       "      <td>23.557565</td>\n",
       "      <td>22.851820</td>\n",
       "      <td>1016.649764</td>\n",
       "      <td>00:00:02</td>\n",
       "      <td>2020-04-10-00:00:02</td>\n",
       "      <td>1.586502e+09</td>\n",
       "    </tr>\n",
       "    <tr>\n",
       "      <th>3</th>\n",
       "      <td>23.556255</td>\n",
       "      <td>22.851595</td>\n",
       "      <td>1016.674867</td>\n",
       "      <td>00:00:03</td>\n",
       "      <td>2020-04-10-00:00:03</td>\n",
       "      <td>1.586502e+09</td>\n",
       "    </tr>\n",
       "    <tr>\n",
       "      <th>4</th>\n",
       "      <td>23.554130</td>\n",
       "      <td>22.851946</td>\n",
       "      <td>1016.686324</td>\n",
       "      <td>00:00:04</td>\n",
       "      <td>2020-04-10-00:00:04</td>\n",
       "      <td>1.586502e+09</td>\n",
       "    </tr>\n",
       "    <tr>\n",
       "      <th>...</th>\n",
       "      <td>...</td>\n",
       "      <td>...</td>\n",
       "      <td>...</td>\n",
       "      <td>...</td>\n",
       "      <td>...</td>\n",
       "      <td>...</td>\n",
       "    </tr>\n",
       "    <tr>\n",
       "      <th>86394</th>\n",
       "      <td>23.572211</td>\n",
       "      <td>22.834269</td>\n",
       "      <td>1015.928365</td>\n",
       "      <td>23:59:55</td>\n",
       "      <td>2020-04-10-23:59:55</td>\n",
       "      <td>1.586588e+09</td>\n",
       "    </tr>\n",
       "    <tr>\n",
       "      <th>86395</th>\n",
       "      <td>23.572389</td>\n",
       "      <td>22.834028</td>\n",
       "      <td>1015.915619</td>\n",
       "      <td>23:59:56</td>\n",
       "      <td>2020-04-10-23:59:56</td>\n",
       "      <td>1.586588e+09</td>\n",
       "    </tr>\n",
       "    <tr>\n",
       "      <th>86396</th>\n",
       "      <td>23.573568</td>\n",
       "      <td>22.833734</td>\n",
       "      <td>1015.937222</td>\n",
       "      <td>23:59:57</td>\n",
       "      <td>2020-04-10-23:59:57</td>\n",
       "      <td>1.586588e+09</td>\n",
       "    </tr>\n",
       "    <tr>\n",
       "      <th>86397</th>\n",
       "      <td>23.574567</td>\n",
       "      <td>22.833875</td>\n",
       "      <td>1015.949923</td>\n",
       "      <td>23:59:58</td>\n",
       "      <td>2020-04-10-23:59:58</td>\n",
       "      <td>1.586588e+09</td>\n",
       "    </tr>\n",
       "    <tr>\n",
       "      <th>86398</th>\n",
       "      <td>23.575562</td>\n",
       "      <td>22.833991</td>\n",
       "      <td>1015.943433</td>\n",
       "      <td>23:59:59</td>\n",
       "      <td>2020-04-10-23:59:59</td>\n",
       "      <td>1.586588e+09</td>\n",
       "    </tr>\n",
       "  </tbody>\n",
       "</table>\n",
       "<p>86399 rows × 6 columns</p>\n",
       "</div>"
      ],
      "text/plain": [
       "       AirTemperature  SurfaceTemperature     Pressure      Time  \\\n",
       "0           23.558880           22.851611  1016.679879  00:00:00   \n",
       "1           23.558254           22.851490  1016.665833  00:00:01   \n",
       "2           23.557565           22.851820  1016.649764  00:00:02   \n",
       "3           23.556255           22.851595  1016.674867  00:00:03   \n",
       "4           23.554130           22.851946  1016.686324  00:00:04   \n",
       "...               ...                 ...          ...       ...   \n",
       "86394       23.572211           22.834269  1015.928365  23:59:55   \n",
       "86395       23.572389           22.834028  1015.915619  23:59:56   \n",
       "86396       23.573568           22.833734  1015.937222  23:59:57   \n",
       "86397       23.574567           22.833875  1015.949923  23:59:58   \n",
       "86398       23.575562           22.833991  1015.943433  23:59:59   \n",
       "\n",
       "                Time_Human    Time_Epoch  \n",
       "0      2020-04-10-00:00:00  1.586502e+09  \n",
       "1      2020-04-10-00:00:01  1.586502e+09  \n",
       "2      2020-04-10-00:00:02  1.586502e+09  \n",
       "3      2020-04-10-00:00:03  1.586502e+09  \n",
       "4      2020-04-10-00:00:04  1.586502e+09  \n",
       "...                    ...           ...  \n",
       "86394  2020-04-10-23:59:55  1.586588e+09  \n",
       "86395  2020-04-10-23:59:56  1.586588e+09  \n",
       "86396  2020-04-10-23:59:57  1.586588e+09  \n",
       "86397  2020-04-10-23:59:58  1.586588e+09  \n",
       "86398  2020-04-10-23:59:59  1.586588e+09  \n",
       "\n",
       "[86399 rows x 6 columns]"
      ]
     },
     "execution_count": 11,
     "metadata": {},
     "output_type": "execute_result"
    }
   ],
   "source": [
    "df_example"
   ]
  },
  {
   "cell_type": "code",
   "execution_count": null,
   "metadata": {},
   "outputs": [],
   "source": []
  }
 ],
 "metadata": {
  "kernelspec": {
   "display_name": "Python 3",
   "language": "python",
   "name": "python3"
  },
  "language_info": {
   "codemirror_mode": {
    "name": "ipython",
    "version": 3
   },
   "file_extension": ".py",
   "mimetype": "text/x-python",
   "name": "python",
   "nbconvert_exporter": "python",
   "pygments_lexer": "ipython3",
   "version": "3.6.9"
  }
 },
 "nbformat": 4,
 "nbformat_minor": 4
}
