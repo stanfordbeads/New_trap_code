{
 "cells": [
  {
   "cell_type": "code",
   "execution_count": 1,
   "metadata": {},
   "outputs": [],
   "source": [
    "import numpy as np\n",
    "import matplotlib.pyplot as plt\n",
    "import matplotlib\n",
    "from scipy import signal\n",
    "import random\n",
    "\n",
    "import h5py\n",
    "from IPython.utils import io\n",
    "\n",
    "import numpy as np\n",
    "import matplotlib.pyplot as plt\n",
    "import matplotlib\n",
    "from scipy import signal\n",
    "import random\n",
    "import scipy.stats as stats\n",
    "\n",
    "import h5py\n",
    "from IPython.utils import io\n",
    "\n",
    "from joblib import Parallel, delayed\n",
    "from tqdm import tqdm\n",
    "import pandas as pd"
   ]
  },
  {
   "cell_type": "code",
   "execution_count": 2,
   "metadata": {},
   "outputs": [
    {
     "ename": "OSError",
     "evalue": "/data/old_trap_processed/sensitivities/decca1_limits.txt not found.",
     "output_type": "error",
     "traceback": [
      "\u001b[0;31m---------------------------------------------------------------------------\u001b[0m",
      "\u001b[0;31mOSError\u001b[0m                                   Traceback (most recent call last)",
      "\u001b[0;32m<ipython-input-2-63e25a00d10e>\u001b[0m in \u001b[0;36m<module>\u001b[0;34m\u001b[0m\n\u001b[1;32m     11\u001b[0m \u001b[0;34m\u001b[0m\u001b[0m\n\u001b[1;32m     12\u001b[0m \u001b[0msys\u001b[0m\u001b[0;34m.\u001b[0m\u001b[0mpath\u001b[0m\u001b[0;34m.\u001b[0m\u001b[0mappend\u001b[0m\u001b[0;34m(\u001b[0m\u001b[0;34m'/home/analysis_user/New_trap_code/SensitivityFramework/'\u001b[0m\u001b[0;34m)\u001b[0m\u001b[0;34m\u001b[0m\u001b[0;34m\u001b[0m\u001b[0m\n\u001b[0;32m---> 13\u001b[0;31m \u001b[0;32mfrom\u001b[0m \u001b[0msignal_model_utilities_v3b\u001b[0m \u001b[0;32mimport\u001b[0m \u001b[0;34m*\u001b[0m\u001b[0;34m\u001b[0m\u001b[0;34m\u001b[0m\u001b[0m\n\u001b[0m",
      "\u001b[0;32m~/New_trap_code/SensitivityFramework/signal_model_utilities_v3b.py\u001b[0m in \u001b[0;36m<module>\u001b[0;34m\u001b[0m\n\u001b[1;32m      4\u001b[0m \u001b[0msys\u001b[0m\u001b[0;34m.\u001b[0m\u001b[0mpath\u001b[0m\u001b[0;34m.\u001b[0m\u001b[0mappend\u001b[0m\u001b[0;34m(\u001b[0m\u001b[0;34m\"/home/analysis_user/opt_lev_analysis/lib/\"\u001b[0m\u001b[0;34m)\u001b[0m\u001b[0;34m\u001b[0m\u001b[0;34m\u001b[0m\u001b[0m\n\u001b[1;32m      5\u001b[0m \u001b[0;32mimport\u001b[0m \u001b[0mnumpy\u001b[0m \u001b[0;32mas\u001b[0m \u001b[0mnp\u001b[0m\u001b[0;34m\u001b[0m\u001b[0;34m\u001b[0m\u001b[0m\n\u001b[0;32m----> 6\u001b[0;31m \u001b[0;32mimport\u001b[0m \u001b[0mgrav_util_3\u001b[0m \u001b[0;32mas\u001b[0m \u001b[0mgu\u001b[0m\u001b[0;34m\u001b[0m\u001b[0;34m\u001b[0m\u001b[0m\n\u001b[0m\u001b[1;32m      7\u001b[0m \u001b[0;32mimport\u001b[0m \u001b[0mmatplotlib\u001b[0m\u001b[0;34m.\u001b[0m\u001b[0mpyplot\u001b[0m \u001b[0;32mas\u001b[0m \u001b[0mplt\u001b[0m\u001b[0;34m\u001b[0m\u001b[0;34m\u001b[0m\u001b[0m\n\u001b[1;32m      8\u001b[0m \u001b[0;34m\u001b[0m\u001b[0m\n",
      "\u001b[0;32m~/opt_lev_analysis/lib/grav_util_3.py\u001b[0m in \u001b[0;36m<module>\u001b[0;34m\u001b[0m\n\u001b[1;32m     35\u001b[0m \u001b[0;34m\u001b[0m\u001b[0m\n\u001b[1;32m     36\u001b[0m \u001b[0mlimitdata_path\u001b[0m \u001b[0;34m=\u001b[0m \u001b[0;34m'/data/old_trap_processed/sensitivities/decca1_limits.txt'\u001b[0m\u001b[0;34m\u001b[0m\u001b[0;34m\u001b[0m\u001b[0m\n\u001b[0;32m---> 37\u001b[0;31m \u001b[0mlimitdata\u001b[0m \u001b[0;34m=\u001b[0m \u001b[0mnp\u001b[0m\u001b[0;34m.\u001b[0m\u001b[0mloadtxt\u001b[0m\u001b[0;34m(\u001b[0m\u001b[0mlimitdata_path\u001b[0m\u001b[0;34m,\u001b[0m \u001b[0mdelimiter\u001b[0m\u001b[0;34m=\u001b[0m\u001b[0;34m','\u001b[0m\u001b[0;34m)\u001b[0m\u001b[0;34m\u001b[0m\u001b[0;34m\u001b[0m\u001b[0m\n\u001b[0m\u001b[1;32m     38\u001b[0m \u001b[0mlimitlab\u001b[0m \u001b[0;34m=\u001b[0m \u001b[0;34m'No Decca 2'\u001b[0m\u001b[0;34m\u001b[0m\u001b[0;34m\u001b[0m\u001b[0m\n\u001b[1;32m     39\u001b[0m \u001b[0;34m\u001b[0m\u001b[0m\n",
      "\u001b[0;32m~/.local/lib/python3.6/site-packages/numpy/lib/npyio.py\u001b[0m in \u001b[0;36mloadtxt\u001b[0;34m(fname, dtype, comments, delimiter, converters, skiprows, usecols, unpack, ndmin, encoding, max_rows)\u001b[0m\n\u001b[1;32m    959\u001b[0m             \u001b[0mfname\u001b[0m \u001b[0;34m=\u001b[0m \u001b[0mos_fspath\u001b[0m\u001b[0;34m(\u001b[0m\u001b[0mfname\u001b[0m\u001b[0;34m)\u001b[0m\u001b[0;34m\u001b[0m\u001b[0;34m\u001b[0m\u001b[0m\n\u001b[1;32m    960\u001b[0m         \u001b[0;32mif\u001b[0m \u001b[0m_is_string_like\u001b[0m\u001b[0;34m(\u001b[0m\u001b[0mfname\u001b[0m\u001b[0;34m)\u001b[0m\u001b[0;34m:\u001b[0m\u001b[0;34m\u001b[0m\u001b[0;34m\u001b[0m\u001b[0m\n\u001b[0;32m--> 961\u001b[0;31m             \u001b[0mfh\u001b[0m \u001b[0;34m=\u001b[0m \u001b[0mnp\u001b[0m\u001b[0;34m.\u001b[0m\u001b[0mlib\u001b[0m\u001b[0;34m.\u001b[0m\u001b[0m_datasource\u001b[0m\u001b[0;34m.\u001b[0m\u001b[0mopen\u001b[0m\u001b[0;34m(\u001b[0m\u001b[0mfname\u001b[0m\u001b[0;34m,\u001b[0m \u001b[0;34m'rt'\u001b[0m\u001b[0;34m,\u001b[0m \u001b[0mencoding\u001b[0m\u001b[0;34m=\u001b[0m\u001b[0mencoding\u001b[0m\u001b[0;34m)\u001b[0m\u001b[0;34m\u001b[0m\u001b[0;34m\u001b[0m\u001b[0m\n\u001b[0m\u001b[1;32m    962\u001b[0m             \u001b[0mfencoding\u001b[0m \u001b[0;34m=\u001b[0m \u001b[0mgetattr\u001b[0m\u001b[0;34m(\u001b[0m\u001b[0mfh\u001b[0m\u001b[0;34m,\u001b[0m \u001b[0;34m'encoding'\u001b[0m\u001b[0;34m,\u001b[0m \u001b[0;34m'latin1'\u001b[0m\u001b[0;34m)\u001b[0m\u001b[0;34m\u001b[0m\u001b[0;34m\u001b[0m\u001b[0m\n\u001b[1;32m    963\u001b[0m             \u001b[0mfh\u001b[0m \u001b[0;34m=\u001b[0m \u001b[0miter\u001b[0m\u001b[0;34m(\u001b[0m\u001b[0mfh\u001b[0m\u001b[0;34m)\u001b[0m\u001b[0;34m\u001b[0m\u001b[0;34m\u001b[0m\u001b[0m\n",
      "\u001b[0;32m~/.local/lib/python3.6/site-packages/numpy/lib/_datasource.py\u001b[0m in \u001b[0;36mopen\u001b[0;34m(path, mode, destpath, encoding, newline)\u001b[0m\n\u001b[1;32m    193\u001b[0m \u001b[0;34m\u001b[0m\u001b[0m\n\u001b[1;32m    194\u001b[0m     \u001b[0mds\u001b[0m \u001b[0;34m=\u001b[0m \u001b[0mDataSource\u001b[0m\u001b[0;34m(\u001b[0m\u001b[0mdestpath\u001b[0m\u001b[0;34m)\u001b[0m\u001b[0;34m\u001b[0m\u001b[0;34m\u001b[0m\u001b[0m\n\u001b[0;32m--> 195\u001b[0;31m     \u001b[0;32mreturn\u001b[0m \u001b[0mds\u001b[0m\u001b[0;34m.\u001b[0m\u001b[0mopen\u001b[0m\u001b[0;34m(\u001b[0m\u001b[0mpath\u001b[0m\u001b[0;34m,\u001b[0m \u001b[0mmode\u001b[0m\u001b[0;34m,\u001b[0m \u001b[0mencoding\u001b[0m\u001b[0;34m=\u001b[0m\u001b[0mencoding\u001b[0m\u001b[0;34m,\u001b[0m \u001b[0mnewline\u001b[0m\u001b[0;34m=\u001b[0m\u001b[0mnewline\u001b[0m\u001b[0;34m)\u001b[0m\u001b[0;34m\u001b[0m\u001b[0;34m\u001b[0m\u001b[0m\n\u001b[0m\u001b[1;32m    196\u001b[0m \u001b[0;34m\u001b[0m\u001b[0m\n\u001b[1;32m    197\u001b[0m \u001b[0;34m\u001b[0m\u001b[0m\n",
      "\u001b[0;32m~/.local/lib/python3.6/site-packages/numpy/lib/_datasource.py\u001b[0m in \u001b[0;36mopen\u001b[0;34m(self, path, mode, encoding, newline)\u001b[0m\n\u001b[1;32m    533\u001b[0m                                       encoding=encoding, newline=newline)\n\u001b[1;32m    534\u001b[0m         \u001b[0;32melse\u001b[0m\u001b[0;34m:\u001b[0m\u001b[0;34m\u001b[0m\u001b[0;34m\u001b[0m\u001b[0m\n\u001b[0;32m--> 535\u001b[0;31m             \u001b[0;32mraise\u001b[0m \u001b[0mIOError\u001b[0m\u001b[0;34m(\u001b[0m\u001b[0;34m\"%s not found.\"\u001b[0m \u001b[0;34m%\u001b[0m \u001b[0mpath\u001b[0m\u001b[0;34m)\u001b[0m\u001b[0;34m\u001b[0m\u001b[0;34m\u001b[0m\u001b[0m\n\u001b[0m\u001b[1;32m    536\u001b[0m \u001b[0;34m\u001b[0m\u001b[0m\n\u001b[1;32m    537\u001b[0m \u001b[0;34m\u001b[0m\u001b[0m\n",
      "\u001b[0;31mOSError\u001b[0m: /data/old_trap_processed/sensitivities/decca1_limits.txt not found."
     ]
    }
   ],
   "source": [
    "import sys\n",
    "sys.path.append('../../../../nadavp/new_trap/Tools/')\n",
    "sys.path.append('../../../../nadavp/new_trap/Tools/StatFramework/')\n",
    "import BeadDataFile\n",
    "from discharge_tools import *\n",
    "\n",
    "from likelihood_calculator import likelihood_analyser\n",
    "from likelihood_calculator import GravityFramework\n",
    "from likelihood_calculator import auxiliary_functions as aux\n",
    "gfw = GravityFramework.GravityFramework()\n",
    "\n",
    "sys.path.append('/home/analysis_user/New_trap_code/SensitivityFramework/')\n",
    "from signal_model_utilities_v3b import *"
   ]
  },
  {
   "cell_type": "code",
   "execution_count": null,
   "metadata": {},
   "outputs": [],
   "source": [
    "%matplotlib widget"
   ]
  },
  {
   "cell_type": "code",
   "execution_count": 3,
   "metadata": {},
   "outputs": [],
   "source": [
    "%reload_ext autoreload\n",
    "%autoreload 2"
   ]
  },
  {
   "cell_type": "markdown",
   "metadata": {},
   "source": [
    "### Setting up parameters"
   ]
  },
  {
   "cell_type": "code",
   "execution_count": 4,
   "metadata": {},
   "outputs": [],
   "source": [
    "df = pd.read_pickle(\"/data/new_trap_processed/processed_files/20200320/Bead1/Shaking/Shaking378/Shaking3_aux.pkl\") #here one could put the respective file name\n",
    "height_cal = df[\"z_distance_emp\"]\n",
    "time = df['Time_Epoch']\n",
    "time -= time[0]"
   ]
  },
  {
   "cell_type": "code",
   "execution_count": 6,
   "metadata": {},
   "outputs": [
    {
     "name": "stdout",
     "output_type": "stream",
     "text": [
      "No height data\n",
      "No cantilever data\n",
      "Error loading spinning data\n",
      "No laser power data\n",
      "No height data\n",
      "No cantilever data\n",
      "Error loading spinning data\n",
      "No laser power data\n",
      "No height data\n",
      "No cantilever data\n",
      "Error loading spinning data\n",
      "No laser power data\n"
     ]
    },
    {
     "data": {
      "image/png": "[encoded data removed]",
      "text/plain": [
       "<Figure size 684x288 with 2 Axes>"
      ]
     },
     "metadata": {
      "needs_background": "light"
     },
     "output_type": "display_data"
    }
   ],
   "source": [
    "fname = r'/home/data_transfer/data_from_windows/20200320/Bead1/TransFunc/Repeat_TransFunc_20200104/TransFunc_X_m300k_250s_1hz.h5'\n",
    "tf_x = BeadDataFile.BeadDataFile(fname)\n",
    "fname = r'/home/data_transfer/data_from_windows/20200320/Bead1/TransFunc/Repeat_TransFunc_20200104/TransFunc_Y_m300k_250s_1hz.h5'\n",
    "tf_y = BeadDataFile.BeadDataFile(fname)\n",
    "fname = r'/home/data_transfer/data_from_windows/20200320/Bead1/TransFunc/Repeat_TransFunc_20200104/TransFunc_Z_m300k_250s_1hz.h5'\n",
    "tf_z = BeadDataFile.BeadDataFile(fname)\n",
    "gfw.build_transfer_function([tf_x, tf_y, tf_z], base_freq=1, number_of_harmonics=90, scale_freq=71, plot=True)"
   ]
  },
  {
   "cell_type": "code",
   "execution_count": 7,
   "metadata": {},
   "outputs": [
    {
     "name": "stdout",
     "output_type": "stream",
     "text": [
      "530  files in folder\n",
      "40  files loaded\n"
     ]
    }
   ],
   "source": [
    "bdf_discharge = load_dir(dirname='/data/new_trap/20200320/Bead1/Discharge/Discharge_after_Mass_20200402/After_spinning_again_20200403/',\n",
    "                         start_file=230, max_file=40)\n",
    "bdf_z = bdf_discharge[5:35]"
   ]
  },
  {
   "cell_type": "code",
   "execution_count": 8,
   "metadata": {
    "scrolled": true
   },
   "outputs": [
    {
     "name": "stdout",
     "output_type": "stream",
     "text": [
      "***************************************************\n",
      "Z2-amplitude:  2.70e+02\n",
      "reduced chi2:  175.24060921459508\n",
      "***************************************************\n",
      "Z2-amplitude:  2.61e+02\n",
      "reduced chi2:  392.683293718069\n",
      "***************************************************\n",
      "Z2-amplitude:  2.75e+02\n",
      "reduced chi2:  233.0708308046279\n",
      "***************************************************\n",
      "Z2-amplitude:  2.79e+02\n",
      "reduced chi2:  341.81841601739336\n",
      "***************************************************\n",
      "Z2-amplitude:  2.81e+02\n",
      "reduced chi2:  320.1151243975466\n",
      "***************************************************\n",
      "Z2-amplitude:  2.75e+02\n",
      "reduced chi2:  235.238026011364\n",
      "***************************************************\n",
      "Z2-amplitude:  2.70e+02\n",
      "reduced chi2:  250.1490478568309\n",
      "***************************************************\n",
      "Z2-amplitude:  2.66e+02\n",
      "reduced chi2:  270.7275591713835\n",
      "***************************************************\n",
      "Z2-amplitude:  2.67e+02\n",
      "reduced chi2:  318.6342737392779\n",
      "***************************************************\n",
      "Z2-amplitude:  2.69e+02\n",
      "reduced chi2:  351.4092086559866\n",
      "***************************************************\n",
      "Z2-amplitude:  2.70e+02\n",
      "reduced chi2:  257.80148224389507\n",
      "***************************************************\n",
      "Z2-amplitude:  2.69e+02\n",
      "reduced chi2:  317.32630257279214\n",
      "***************************************************\n",
      "Z2-amplitude:  2.68e+02\n",
      "reduced chi2:  309.7632445269448\n",
      "***************************************************\n",
      "Z2-amplitude:  2.60e+02\n",
      "reduced chi2:  392.97353264757766\n",
      "***************************************************\n",
      "Z2-amplitude:  2.66e+02\n",
      "reduced chi2:  212.55478749236954\n",
      "***************************************************\n",
      "Z2-amplitude:  2.60e+02\n",
      "reduced chi2:  322.91290384444517\n",
      "***************************************************\n",
      "Z2-amplitude:  2.70e+02\n",
      "reduced chi2:  261.9760870486975\n",
      "***************************************************\n",
      "Z2-amplitude:  2.70e+02\n",
      "reduced chi2:  177.13037029920204\n",
      "***************************************************\n",
      "Z2-amplitude:  2.69e+02\n",
      "reduced chi2:  291.0253595749035\n",
      "***************************************************\n",
      "Z2-amplitude:  2.78e+02\n",
      "reduced chi2:  321.6081371424122\n",
      "***************************************************\n",
      "Z2-amplitude:  2.83e+02\n",
      "reduced chi2:  282.32944939002897\n",
      "***************************************************\n",
      "Z2-amplitude:  2.73e+02\n",
      "reduced chi2:  248.75760720212193\n",
      "***************************************************\n",
      "Z2-amplitude:  2.78e+02\n",
      "reduced chi2:  333.3878381891592\n",
      "***************************************************\n",
      "Z2-amplitude:  2.74e+02\n",
      "reduced chi2:  245.731825301127\n",
      "***************************************************\n",
      "Z2-amplitude:  2.71e+02\n",
      "reduced chi2:  265.7394753998288\n",
      "***************************************************\n",
      "Z2-amplitude:  2.61e+02\n",
      "reduced chi2:  149.49822605676954\n",
      "***************************************************\n",
      "Z2-amplitude:  2.65e+02\n",
      "reduced chi2:  120.54258673530765\n",
      "***************************************************\n",
      "Z2-amplitude:  2.75e+02\n",
      "reduced chi2:  298.41761096814895\n",
      "***************************************************\n",
      "Z2-amplitude:  2.69e+02\n",
      "reduced chi2:  335.4523496408708\n",
      "***************************************************\n",
      "Z2-amplitude:  2.71e+02\n",
      "reduced chi2:  327.27645441817793\n",
      "Z2 response (amplitude): -270.464144149\n"
     ]
    }
   ],
   "source": [
    "bandwidth = 2\n",
    "m1_zscale = gfw.build_z_response(bdf_z, drive_freq=71, charges=6, bandwidth=bandwidth, decimate=10)\n",
    "gfw.scale_Z2 *= -1"
   ]
  },
  {
   "cell_type": "code",
   "execution_count": 9,
   "metadata": {},
   "outputs": [
    {
     "data": {
      "text/plain": [
       "1.8474326786101574e+17"
      ]
     },
     "execution_count": 9,
     "metadata": {},
     "output_type": "execute_result"
    }
   ],
   "source": [
    "gfw.scale_Z2"
   ]
  },
  {
   "cell_type": "markdown",
   "metadata": {},
   "source": [
    "### Signal model parameters"
   ]
  },
  {
   "cell_type": "code",
   "execution_count": 10,
   "metadata": {},
   "outputs": [],
   "source": [
    "def get_Yoffset(i):\n",
    "    fname = r'/data/new_trap/20200320/Bead1/Shaking/Shaking378/Shaking3_'+str(i)+'.h5'\n",
    "    bb = BeadDataFile.BeadDataFile(fname=fname)    \n",
    "    return (437.3 - 25 * 9.5) - (aux.voltage_to_position(np.mean(bb.cant_pos[1])))\n",
    "def get_Stroke(i):\n",
    "    fname = r'/data/new_trap/20200320/Bead1/Shaking/Shaking378/Shaking3_'+str(i)+'.h5'\n",
    "    bb = BeadDataFile.BeadDataFile(fname=fname)    \n",
    "    return -np.std(aux.voltage_to_position(bb.cant_pos[1]))*np.sqrt(2)*2\n",
    "def get_Dist(i):\n",
    "    fname = r'/data/new_trap/20200320/Bead1/Shaking/Shaking378/Shaking3_'+str(i)+'.h5'\n",
    "    bb = BeadDataFile.BeadDataFile(fname=fname)    \n",
    "    return 392.2 - aux.voltage_to_position(np.mean(bb.cant_pos[0]))"
   ]
  },
  {
   "cell_type": "code",
   "execution_count": 11,
   "metadata": {},
   "outputs": [
    {
     "name": "stderr",
     "output_type": "stream",
     "text": [
      "100%|██████████| 100/100 [00:02<00:00, 64.36it/s]\n",
      "100%|██████████| 100/100 [00:00<00:00, 570.49it/s]\n",
      "100%|██████████| 100/100 [00:00<00:00, 623.90it/s]\n"
     ]
    },
    {
     "name": "stdout",
     "output_type": "stream",
     "text": [
      "-15.859100393 4.88214369679 -202.765748131 13.9887662292 10\n"
     ]
    }
   ],
   "source": [
    "z_sep = np.mean(height_cal)\n",
    "y_offset = np.mean(np.array(Parallel(n_jobs=10)(delayed(get_Yoffset)(i) for i in tqdm(range(0, 10000, 100)))))\n",
    "stroke = np.mean(np.array(Parallel(n_jobs=10)(delayed(get_Stroke)(i) for i in tqdm(range(0, 10000, 100)))))\n",
    "dist = np.mean(np.array(Parallel(n_jobs=10)(delayed(get_Dist)(i) for i in tqdm(range(0, 10000, 100)))))\n",
    "G_lambda = 10\n",
    "print(z_sep, y_offset, stroke, dist, G_lambda)"
   ]
  },
  {
   "cell_type": "markdown",
   "metadata": {},
   "source": [
    "### Load data"
   ]
  },
  {
   "cell_type": "code",
   "execution_count": 12,
   "metadata": {},
   "outputs": [],
   "source": [
    "ll = likelihood_analyser.LikelihoodAnalyser()\n",
    "\n",
    "def get_alpha(i):\n",
    "\n",
    "    data_z2 = np.mean(test_phases[i:(i+1)], axis=0)\n",
    "    \n",
    "    fit_kwargs = {'A': 0, 'phi': 0, 'sigma':13.85,\n",
    "              'error_A': 1, 'error_phi': 0.5, 'errordef': 1, 'error_sigma': 10,\n",
    "              'limit_phi': [0, np.pi],\n",
    "              'limit_A': [-100000, 100000], 'limit_sigma': [0, 1000000],\n",
    "              'print_level': 0, 'fix_A': False, 'fix_phi': True, 'fix_sigma': False}\n",
    "    \n",
    "    ## used for single harmonic\n",
    "    noises_std = np.array([1])\n",
    "#     noises_std = func_sideband(data_z2, gravity_freqs_all)\n",
    "#     noises_std = noises_std/np.min(noises_std)\n",
    "\n",
    "    mm_tmp = ll.find_mle_multiHarmoincs2(x=data_z2, template=shaking378_template, scales=gravity_scales, phases=gravity_phases, \n",
    "                                          signal_freqs=gravity_freqs_all, bandwidth=bandwidth, noises=noises_std,\n",
    "                                          decimate=10, **fit_kwargs)\n",
    "    print('MLEs: ', mm_tmp.values)\n",
    "    \n",
    "#     PL_array = 2*10*ll.get_PL_multiHarmonics(A_array=A_array, **fit_kwargs)\n",
    "#     PL_array -= np.min(np.interp(np.arange(np.min(A_array),np.max(A_array),0.0001), A_array, PL_array))\n",
    "        \n",
    "    return mm_tmp.values[0]"
   ]
  },
  {
   "cell_type": "code",
   "execution_count": 13,
   "metadata": {},
   "outputs": [],
   "source": [
    "def get_pl_num(i):\n",
    "\n",
    "    data_z2 = np.mean(test_phases[i:(i+1)], axis=0)\n",
    "    \n",
    "    fit_kwargs = {'A': alpha_expected, 'phi': 0, 'sigma':13.85,\n",
    "              'error_A': 1, 'error_phi': 0.5, 'errordef': 1, 'error_sigma': 10,\n",
    "              'limit_phi': [0, np.pi],\n",
    "              'limit_A': [-100000, 100000], 'limit_sigma': [0, 1000000],\n",
    "              'print_level': 0, 'fix_A': True, 'fix_phi': True, 'fix_sigma': False}\n",
    "    \n",
    "    ## used for single harmonic\n",
    "    noises_std = np.array([1])\n",
    "#     noises_std = func_sideband(data_z2, gravity_freqs_all)\n",
    "#     noises_std = noises_std/np.min(noises_std)\n",
    "\n",
    "    mm_tmp = ll.find_mle_multiHarmoincs2(x=data_z2, template=shaking378_template, scales=gravity_scales, phases=gravity_phases, \n",
    "                                          signal_freqs=gravity_freqs_all, bandwidth=bandwidth, noises=noises_std,\n",
    "                                          decimate=10, **fit_kwargs)\n",
    "    print('MLEs: ', mm_tmp.values)\n",
    "    \n",
    "#     PL_array = 2*10*ll.get_PL_multiHarmonics(A_array=A_array, **fit_kwargs)\n",
    "#     PL_array -= np.min(np.interp(np.arange(np.min(A_array),np.max(A_array),0.0001), A_array, PL_array))\n",
    "        \n",
    "    return mm_tmp.fval\n",
    "\n",
    "def get_pl_denum(i):\n",
    "\n",
    "    data_z2 = np.mean(test_phases[i:(i+1)], axis=0)\n",
    "    \n",
    "    fit_kwargs = {'A': alpha_expected, 'phi': 0, 'sigma':13.85,\n",
    "              'error_A': 1, 'error_phi': 0.5, 'errordef': 1, 'error_sigma': 10,\n",
    "              'limit_phi': [0, np.pi],\n",
    "              'limit_A': [-100000, 100000], 'limit_sigma': [0, 1000000],\n",
    "              'print_level': 0, 'fix_A': False, 'fix_phi': True, 'fix_sigma': False}\n",
    "    \n",
    "    ## used for single harmonic\n",
    "    noises_std = np.array([1])\n",
    "#     noises_std = func_sideband(data_z2, gravity_freqs_all)\n",
    "#     noises_std = noises_std/np.min(noises_std)\n",
    "\n",
    "    mm_tmp = ll.find_mle_multiHarmoincs2(x=data_z2, template=shaking378_template, scales=gravity_scales, phases=gravity_phases, \n",
    "                                          signal_freqs=gravity_freqs_all, bandwidth=bandwidth, noises=noises_std,\n",
    "                                          decimate=10, **fit_kwargs)\n",
    "    print('MLEs: ', mm_tmp.values)\n",
    "    \n",
    "#     PL_array = 2*10*ll.get_PL_multiHarmonics(A_array=A_array, **fit_kwargs)\n",
    "#     PL_array -= np.min(np.interp(np.arange(np.min(A_array),np.max(A_array),0.0001), A_array, PL_array))\n",
    "        \n",
    "    return mm_tmp.fval"
   ]
  },
  {
   "cell_type": "code",
   "execution_count": null,
   "metadata": {},
   "outputs": [],
   "source": []
  },
  {
   "cell_type": "code",
   "execution_count": 14,
   "metadata": {},
   "outputs": [],
   "source": [
    "def func_filter(i):\n",
    "    ii = i\n",
    "    fname = r'/data/new_trap_processed/mockfiles/20200320/output/noise/qcrit/10/Noise_batch_'+str(i)+'.h5'\n",
    "\n",
    "    bb = BeadDataFile.BeadDataFile(fname=fname)\n",
    "    \n",
    "    res = bb.z2\n",
    "    return (res)"
   ]
  },
  {
   "cell_type": "code",
   "execution_count": 15,
   "metadata": {},
   "outputs": [
    {
     "name": "stderr",
     "output_type": "stream",
     "text": [
      "100%|██████████| 1000/1000 [00:10<00:00, 98.47it/s]\n"
     ]
    }
   ],
   "source": [
    "test_phases = np.array(Parallel(n_jobs=46)(delayed(func_filter)(i) for i in tqdm(range(1000))))"
   ]
  },
  {
   "cell_type": "code",
   "execution_count": null,
   "metadata": {
    "scrolled": true
   },
   "outputs": [
    {
     "name": "stdout",
     "output_type": "stream",
     "text": [
      "Loading Gravity Data... Done!\n",
      "81 9.74070978211e-06\n",
      "Loaded Yukawa Force\n"
     ]
    },
    {
     "name": "stderr",
     "output_type": "stream",
     "text": [
      "\r",
      "  0%|          | 0/1000 [00:00<?, ?it/s]"
     ]
    },
    {
     "name": "stdout",
     "output_type": "stream",
     "text": [
      "No height data\n",
      "No cantilever data\n",
      "Error loading spinning data\n",
      "No laser power data\n",
      "\n",
      "********************************************\n",
      "[36] [[ 1.84123774]] [  1.40895736e+17]\n",
      "********************************************\n",
      "\n"
     ]
    },
    {
     "name": "stderr",
     "output_type": "stream",
     "text": [
      "100%|██████████| 1000/1000 [00:03<00:00, 255.60it/s]\n",
      "100%|██████████| 1000/1000 [00:01<00:00, 593.77it/s]\n",
      "100%|██████████| 1000/1000 [00:03<00:00, 254.44it/s]\n",
      "  0%|          | 0/1000 [00:00<?, ?it/s]"
     ]
    },
    {
     "name": "stdout",
     "output_type": "stream",
     "text": [
      "\n",
      "********************************************\n",
      "[33] [[ 0.2789774]] [  1.19510640e+17]\n",
      "********************************************\n",
      "\n"
     ]
    },
    {
     "name": "stderr",
     "output_type": "stream",
     "text": [
      "100%|██████████| 1000/1000 [00:05<00:00, 185.74it/s]\n",
      "100%|██████████| 1000/1000 [00:01<00:00, 555.47it/s]\n",
      "100%|██████████| 1000/1000 [00:03<00:00, 303.50it/s]\n",
      "  0%|          | 0/1000 [00:00<?, ?it/s]"
     ]
    },
    {
     "name": "stdout",
     "output_type": "stream",
     "text": [
      "\n",
      "********************************************\n",
      "[12] [[ 2.06806183]] [  1.02284254e+17]\n",
      "********************************************\n",
      "\n"
     ]
    },
    {
     "name": "stderr",
     "output_type": "stream",
     "text": [
      "100%|██████████| 1000/1000 [00:03<00:00, 259.40it/s]\n",
      "100%|██████████| 1000/1000 [00:01<00:00, 586.68it/s]\n",
      "100%|██████████| 1000/1000 [00:03<00:00, 257.31it/s]\n",
      "  0%|          | 0/1000 [00:00<?, ?it/s]"
     ]
    },
    {
     "name": "stdout",
     "output_type": "stream",
     "text": [
      "\n",
      "********************************************\n",
      "[6] [[ 5.68387432]] [  7.38900451e+16]\n",
      "********************************************\n",
      "\n"
     ]
    },
    {
     "name": "stderr",
     "output_type": "stream",
     "text": [
      "100%|██████████| 1000/1000 [00:04<00:00, 233.73it/s]\n",
      "100%|██████████| 1000/1000 [00:01<00:00, 519.44it/s]\n",
      "100%|██████████| 1000/1000 [00:03<00:00, 282.81it/s]\n",
      "  0%|          | 0/1000 [00:00<?, ?it/s]"
     ]
    },
    {
     "name": "stdout",
     "output_type": "stream",
     "text": [
      "\n",
      "********************************************\n",
      "[21] [[ 3.43993218]] [  1.01827585e+17]\n",
      "********************************************\n",
      "\n"
     ]
    },
    {
     "name": "stderr",
     "output_type": "stream",
     "text": [
      "100%|██████████| 1000/1000 [00:03<00:00, 260.87it/s]\n",
      "100%|██████████| 1000/1000 [00:01<00:00, 612.02it/s]\n",
      " 23%|██▎       | 230/1000 [00:00<00:02, 273.22it/s]"
     ]
    }
   ],
   "source": [
    "# likelihood calculator stuff\n",
    "gravity_freqs_all = 3*np.arange(1,14)[1:]\n",
    "gravity_freqs_all = np.array([36, 33, 12, 6, 21, 18, 39])\n",
    "G_lambda = 10\n",
    "\n",
    "test_shaking378 = force_vs_time(dist,z_sep,stroke,3,G_lambda,\"z\", \n",
    "                                yuk_or_grav=\"yuk\",offset_y=y_offset, alpha=1e8, bead_size=7.6)\n",
    "shaking378_template = np.array(test_shaking378[1])\n",
    "A_array = np.arange(-10,10,0.1)\n",
    "\n",
    "fft_angles = np.angle(np.fft.rfft(shaking378_template))\n",
    "freq1 = np.fft.rfftfreq(len(shaking378_template), d=1./5000)\n",
    "freq_resp = 3*np.arange(1,14)\n",
    "fft_angle_resp = np.array([1.378,1.018,0.765,0.657,0.455,0.344,0.513,0.330,0.380,0.626,0.681,0.620,0.425])\n",
    "\n",
    "tf_z = BeadDataFile.BeadDataFile(fname)\n",
    "fft_angles2 = np.angle(np.fft.rfft(tf_z.z2))\n",
    "freq2 = np.fft.rfftfreq(len(tf_z.z2), d=1./5000)\n",
    "fft_angles3 = np.angle(np.fft.rfft(tf_z.electrode_data[0]))\n",
    "freq3 = np.fft.rfftfreq(len(tf_z.electrode_data[0]), d=1./5000)\n",
    "\n",
    "MLEs = []\n",
    "PL_num = []\n",
    "PL_denum = []\n",
    "alpha_expected = 0.9\n",
    "for drive_freq in gravity_freqs_all:\n",
    "    phase_th = fft_angles[freq1==drive_freq]  ## theory \n",
    "    \n",
    "#     phase_th2 = fft_angle_resp[freq_resp==drive_freq] ## response phase\n",
    "#     phase_all = (phase_th+(phase_th2)+np.pi/2)%(2*np.pi)\n",
    "\n",
    "    phase_th2 = fft_angles2[freq2==drive_freq] ## response phase\n",
    "    phase_th3 = fft_angles3[freq3==drive_freq] ## drive phase\n",
    "    phase_all = (phase_th+(phase_th2-phase_th3)+np.pi/2)%(2*np.pi)\n",
    "    \n",
    "    gravity_phases = np.array([phase_all])\n",
    "    gravity_freqs = np.array([drive_freq])\n",
    "    gravity_scales = np.array([gfw.scale_Z2])* np.interp(gravity_freqs, gfw.tf_freq, gfw.tf_ffts[2])\n",
    "    print('\\n********************************************')\n",
    "    print(gravity_freqs, gravity_phases, gravity_scales)\n",
    "    print('********************************************\\n')\n",
    "    MLEs.append(Parallel(n_jobs=46)(delayed(get_alpha)(i) for i in tqdm(range(1000))))\n",
    "    PL_num.append(Parallel(n_jobs=46)(delayed(get_pl_num)(i) for i in tqdm(range(1000))))\n",
    "    PL_denum.append(Parallel(n_jobs=46)(delayed(get_pl_denum)(i) for i in tqdm(range(1000))))"
   ]
  },
  {
   "cell_type": "code",
   "execution_count": null,
   "metadata": {},
   "outputs": [],
   "source": [
    "np.mean(MLEs[2]), np.std(MLEs[0])/np.sqrt(1000)"
   ]
  },
  {
   "cell_type": "code",
   "execution_count": null,
   "metadata": {},
   "outputs": [],
   "source": [
    "len(PL_denum)"
   ]
  },
  {
   "cell_type": "code",
   "execution_count": 151,
   "metadata": {},
   "outputs": [
    {
     "data": {
      "application/vnd.jupyter.widget-view+json": {
       "model_id": "fa05d4823eac4993b2965abdde17ff82",
       "version_major": 2,
       "version_minor": 0
      },
      "text/plain": [
       "Canvas(toolbar=Toolbar(toolitems=[('Home', 'Reset original view', 'home', 'home'), ('Back', 'Back to previous …"
      ]
     },
     "metadata": {},
     "output_type": "display_data"
    },
    {
     "data": {
      "text/plain": [
       "3.3084366022044809"
      ]
     },
     "execution_count": 151,
     "metadata": {},
     "output_type": "execute_result"
    }
   ],
   "source": [
    "import scipy.stats as stats\n",
    "i=0\n",
    "logL = [2*(mm4_- mm5_)*10 for mm4_, mm5_ in zip(PL_num[i], PL_denum[i])]  ## one harmonic\n",
    "\n",
    "logL2 = []\n",
    "## multiple - multiple harmonic fit\n",
    "for i in range(1000):\n",
    "    i_value = 0\n",
    "    for j in range(2):\n",
    "        i_value += 2*(PL_num[j][i] - PL_denum[j][i])*10\n",
    "    logL2.append(i_value)\n",
    "\n",
    "_,ax = plt.subplots()\n",
    "ax.hist(logL, bins=50, range=(0,6), alpha=1, log=False, label='one harmonic')\n",
    "ax.hist(logL2, bins=50, range=(0,6), alpha=0.7, log=False, label='two harmonic')\n",
    "ax.hist(logL3, bins=50, range=(0,6), alpha=0.7, log=False, label='five harmonic')\n",
    "x = np.arange(0, 6, .05)\n",
    "plt.plot(x, stats.chi2.pdf(x, df=1)*1000/50*6, color='r', lw=2, label='scaled chi square')\n",
    "ax.legend()\n",
    "_ = ax.set(xlabel=r'-2*log($\\lambda (\\alpha_0 =$'+str(alpha_expected)+'))')\n",
    "np.quantile(logL2,0.90)"
   ]
  },
  {
   "cell_type": "code",
   "execution_count": null,
   "metadata": {},
   "outputs": [],
   "source": []
  },
  {
   "cell_type": "code",
   "execution_count": null,
   "metadata": {},
   "outputs": [],
   "source": [
    "critical_value_10 = []\n",
    "for num_harmonics in range(1,8):\n",
    "    logL3 = []\n",
    "    ## multiple - multiple harmonic fit\n",
    "    for i in range(1000):\n",
    "        i_value = 0\n",
    "        for j in range(num_harmonics):\n",
    "            i_value += 2*(PL_num[j][i] - PL_denum[j][i])*10\n",
    "        logL3.append(i_value)\n",
    "    critical_value_10.append(np.quantile(logL3,0.90))"
   ]
  },
  {
   "cell_type": "code",
   "execution_count": null,
   "metadata": {},
   "outputs": [],
   "source": [
    "_,ax = plt.subplots()\n",
    "# ax.scatter(range(1,7), critical_value_0, label=r'$\\alpha [10^8] =0$')\n",
    "ax.scatter(range(1,7), critical_value_10, label=r'$\\alpha [10^8] =10$')\n",
    "# ax.scatter(range(1,7), critical_value_19, label=r'$\\alpha [10^8] =1.9$')\n",
    "ax.set(xlabel='# of harmonics', ylabel='critical value')\n",
    "ax.legend()"
   ]
  },
  {
   "cell_type": "code",
   "execution_count": 169,
   "metadata": {},
   "outputs": [
    {
     "name": "stdout",
     "output_type": "stream",
     "text": [
      "# of harmonics: 1  -->  q_α: 2.12785308587\n",
      "# of harmonics: 2  -->  q_α: 3.21846473576\n",
      "# of harmonics: 3  -->  q_α: 4.9841166609\n",
      "# of harmonics: 4  -->  q_α: 6.85569815149\n",
      "# of harmonics: 5  -->  q_α: 8.18185491578\n",
      "# of harmonics: 6  -->  q_α: 9.81929176264\n"
     ]
    }
   ],
   "source": [
    "_ = [print('# of harmonics:',i,' -->  q_α:', critical_value_0[i]) for i in range(1,7)]"
   ]
  },
  {
   "cell_type": "code",
   "execution_count": null,
   "metadata": {},
   "outputs": [],
   "source": []
  },
  {
   "cell_type": "code",
   "execution_count": null,
   "metadata": {},
   "outputs": [],
   "source": []
  },
  {
   "cell_type": "code",
   "execution_count": null,
   "metadata": {},
   "outputs": [],
   "source": []
  },
  {
   "cell_type": "code",
   "execution_count": null,
   "metadata": {},
   "outputs": [],
   "source": []
  }
 ],
 "metadata": {
  "kernelspec": {
   "display_name": "Python 3",
   "language": "python",
   "name": "python3"
  },
  "language_info": {
   "codemirror_mode": {
    "name": "ipython",
    "version": 3
   },
   "file_extension": ".py",
   "mimetype": "text/x-python",
   "name": "python",
   "nbconvert_exporter": "python",
   "pygments_lexer": "ipython3",
   "version": "3.6.9"
  }
 },
 "nbformat": 4,
 "nbformat_minor": 4
}
