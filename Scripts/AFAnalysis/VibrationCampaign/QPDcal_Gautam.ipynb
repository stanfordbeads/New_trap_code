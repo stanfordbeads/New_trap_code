{
 "cells": [
  {
   "cell_type": "code",
   "execution_count": 3,
   "metadata": {},
   "outputs": [
    {
     "ename": "ModuleNotFoundError",
     "evalue": "No module named 'beadUtils'",
     "output_type": "error",
     "traceback": [
      "\u001b[0;31m---------------------------------------------------------------------------\u001b[0m",
      "\u001b[0;31mModuleNotFoundError\u001b[0m                       Traceback (most recent call last)",
      "\u001b[0;32m<ipython-input-3-ccd6ac0c3dd9>\u001b[0m in \u001b[0;36m<module>\u001b[0;34m\u001b[0m\n\u001b[1;32m     10\u001b[0m \u001b[0;32mimport\u001b[0m \u001b[0mre\u001b[0m\u001b[0;34m\u001b[0m\u001b[0;34m\u001b[0m\u001b[0m\n\u001b[1;32m     11\u001b[0m \u001b[0;32mimport\u001b[0m \u001b[0mscipy\u001b[0m\u001b[0;34m.\u001b[0m\u001b[0msignal\u001b[0m \u001b[0;32mas\u001b[0m \u001b[0msignal\u001b[0m\u001b[0;34m\u001b[0m\u001b[0;34m\u001b[0m\u001b[0m\n\u001b[0;32m---> 12\u001b[0;31m \u001b[0;32mimport\u001b[0m \u001b[0mbeadUtils\u001b[0m \u001b[0;32mas\u001b[0m \u001b[0mbu\u001b[0m\u001b[0;34m\u001b[0m\u001b[0;34m\u001b[0m\u001b[0m\n\u001b[0m",
      "\u001b[0;31mModuleNotFoundError\u001b[0m: No module named 'beadUtils'"
     ]
    }
   ],
   "source": [
    "%run /home/analysis_user/New_trap_code/Tools/basic_packages.py\n",
    "\n",
    "# Imports\n",
    "import numpy as np\n",
    "import matplotlib.pyplot as plt\n",
    "from matplotlib.ticker import FormatStrFormatter\n",
    "import os\n",
    "import BeadDataFile as BDF\n",
    "import glob\n",
    "import re\n",
    "import scipy.signal as signal\n",
    "import beadUtils as bu"
   ]
  },
  {
   "cell_type": "code",
   "execution_count": 11,
   "metadata": {},
   "outputs": [],
   "source": [
    "figDir = 'Figures/'\n",
    "if figDir.strip('/') not in os.listdir():\n",
    "    os.mkdir(figDir)\n",
    "    print(f\"Figure directory didn't exist. Made it just now at {figDir}\")\n",
    "plt.style.use(['fivethirtyeight', 'gvELOG'])\n",
    "saveFig = False"
   ]
  },
  {
   "cell_type": "code",
   "execution_count": 3,
   "metadata": {},
   "outputs": [],
   "source": [
    "fftDict = {'fs':5e3}\n",
    "tFFT = 10 # seconds\n",
    "# fftDict['nfft'] = int(fftDict['fs']*tFFT)\n",
    "fftDict['win'] = ('tukey', 0.25)\n",
    "fftDict['tFFT'] = 10"
   ]
  },
  {
   "cell_type": "code",
   "execution_count": 4,
   "metadata": {},
   "outputs": [],
   "source": [
    "Year = \"2022\"\n",
    "Month = \"06\" # \"04\"\n",
    "Day = \"07\"   # \"06\"\n",
    "baseDir = f\"/home/data_transfer/data_from_windows/{Year}{Month}{Day}/ASMcal/\"\n",
    "excOff = baseDir+'InputsTerminated/'\n",
    "# excOff = baseDir+'MokuConnected/'\n",
    "Xexc = baseDir + 'Xexc/'\n",
    "Yexc = baseDir + 'Yexc/'"
   ]
  },
  {
   "cell_type": "code",
   "execution_count": 5,
   "metadata": {},
   "outputs": [],
   "source": [
    "fExc = 13.1415\n",
    "excAmp = 50e-3/2 * 15 #mV, the factor of 15 gets us to the actual voltage applied to the ASM003 piezos.\n",
    "# Calibration numbers from elog 337\n",
    "xCal, yCal = 7.83e-6, 5.54e-6 # urad/V\n",
    "excAmpX, excAmpY = xCal*excAmp*1.27000000e-02, yCal*excAmp*1.27000000e-02 # m, last factor is to convert to motion at trap focus"
   ]
  },
  {
   "cell_type": "code",
   "execution_count": 6,
   "metadata": {},
   "outputs": [],
   "source": [
    "for jj, (ff1, ff2, ff3) in enumerate(zip(bu.orderedFilenames(excOff, prefix='ASMcal'), bu.orderedFilenames(Xexc, prefix='ASMcal'),\n",
    "                                   bu.orderedFilenames(Yexc, prefix='ASMcal'))):\n",
    "    fil1, fil2, fil3 = BDF.BeadDataFile(ff1), BDF.BeadDataFile(ff2), BDF.BeadDataFile(ff3)\n",
    "    if jj==0:\n",
    "        noiseLevel_X = bu.fft(fil1.xyz2[0,:], fExc, **fftDict) \n",
    "        noiseLevel_Y = bu.fft(fil1.xyz2[1,:], fExc, **fftDict)\n",
    "        x2x = bu.fft(fil2.xyz2[0,:], fExc, **fftDict) \n",
    "        x2y = bu.fft(fil2.xyz2[1,:], fExc, **fftDict) \n",
    "        y2x = bu.fft(fil3.xyz2[0,:], fExc, **fftDict) \n",
    "        y2y = bu.fft(fil3.xyz2[1,:], fExc, **fftDict) \n",
    "    else:\n",
    "        noiseLevel_X = np.hstack((noiseLevel_X, bu.fft(fil1.xyz2[0,:], fExc, **fftDict))) \n",
    "        noiseLevel_Y = np.hstack((noiseLevel_Y, bu.fft(fil1.xyz2[1,:], fExc, **fftDict)))\n",
    "        x2x = np.hstack((x2x, bu.fft(fil2.xyz2[0,:], fExc, **fftDict))) \n",
    "        x2y = np.hstack((x2y, bu.fft(fil2.xyz2[1,:], fExc, **fftDict))) \n",
    "        y2x = np.hstack((y2x, bu.fft(fil3.xyz2[0,:], fExc, **fftDict))) \n",
    "        y2y = np.hstack((y2y, bu.fft(fil3.xyz2[1,:], fExc, **fftDict)))\n"
   ]
  },
  {
   "cell_type": "code",
   "execution_count": 7,
   "metadata": {},
   "outputs": [],
   "source": [
    "QPDcal_X, QPDerr_X = np.mean(np.abs(x2x)/excAmpX), np.std(np.abs(x2x)/excAmpX)\n",
    "QPDcal_Y, QPDerr_Y = np.mean(np.abs(y2y)/excAmpY), np.std(np.abs(y2y)/excAmpY)"
   ]
  },
  {
   "cell_type": "code",
   "execution_count": null,
   "metadata": {},
   "outputs": [],
   "source": []
  }
 ],
 "metadata": {
  "kernelspec": {
   "display_name": "Python 3",
   "language": "python",
   "name": "python3"
  },
  "language_info": {
   "codemirror_mode": {
    "name": "ipython",
    "version": 3
   },
   "file_extension": ".py",
   "mimetype": "text/x-python",
   "name": "python",
   "nbconvert_exporter": "python",
   "pygments_lexer": "ipython3",
   "version": "3.6.9"
  }
 },
 "nbformat": 4,
 "nbformat_minor": 4
}
