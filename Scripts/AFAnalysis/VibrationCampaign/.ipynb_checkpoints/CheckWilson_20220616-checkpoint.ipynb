{
 "cells": [
  {
   "cell_type": "code",
   "execution_count": 1,
   "metadata": {},
   "outputs": [],
   "source": [
    "%run /home/analysis_user/New_trap_code/Tools/basic_packages.py\n"
   ]
  },
  {
   "cell_type": "code",
   "execution_count": 2,
   "metadata": {},
   "outputs": [],
   "source": [
    "plt.rcParams[\"figure.figsize\"] = (16,12)\n",
    "plt.rcParams[\"font.size\"] = 24\n",
    "plt.rcParams['xtick.labelsize'] = \"small\"\n",
    "plt.rcParams['ytick.labelsize'] = 36"
   ]
  },
  {
   "cell_type": "code",
   "execution_count": 3,
   "metadata": {},
   "outputs": [],
   "source": [
    "def load_dir_reduced(dirname,file_prefix,max_files):\n",
    "    '''\n",
    "    Load time information from the h5 files in a loop into a list. Step size is fixed to 100. \n",
    "    '''   \n",
    "    ## Load all filenames in directory\n",
    "    var_list1 = []\n",
    "    var_list2 = []\n",
    "    files = []\n",
    "    [files.append(file_) for file_ in os.listdir(dirname) if file_.startswith(file_prefix) if file_.endswith('.h5')]\n",
    "    files.sort(key=lambda f: int(''.join(filter(str.isdigit, f))))\n",
    "    print(len(files))\n",
    "    step_size = 50\n",
    "    for j in tqdm(np.arange(0,max_files,step_size)):\n",
    "        for filename in files[j:j+step_size]:\n",
    "            BDFs = BDF.BeadDataFile(dirname+filename)\n",
    "            var_list1.append(BDFs.x2)\n",
    "            var_list2.append(BDFs.cant_pos[1])\n",
    "    return var_list1,var_list2"
   ]
  },
  {
   "cell_type": "code",
   "execution_count": null,
   "metadata": {},
   "outputs": [],
   "source": []
  }
 ],
 "metadata": {
  "kernelspec": {
   "display_name": "Python 3",
   "language": "python",
   "name": "python3"
  },
  "language_info": {
   "codemirror_mode": {
    "name": "ipython",
    "version": 3
   },
   "file_extension": ".py",
   "mimetype": "text/x-python",
   "name": "python",
   "nbconvert_exporter": "python",
   "pygments_lexer": "ipython3",
   "version": "3.6.9"
  }
 },
 "nbformat": 4,
 "nbformat_minor": 4
}
