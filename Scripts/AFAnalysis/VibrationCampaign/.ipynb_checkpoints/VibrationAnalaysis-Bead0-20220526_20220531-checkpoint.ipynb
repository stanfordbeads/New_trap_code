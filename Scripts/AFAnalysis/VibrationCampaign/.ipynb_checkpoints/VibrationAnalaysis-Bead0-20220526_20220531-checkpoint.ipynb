{
 "cells": [
  {
   "cell_type": "code",
   "execution_count": null,
   "metadata": {
    "scrolled": false
   },
   "outputs": [],
   "source": [
    "%run /home/analysis_user/New_trap_code/Tools/basic_packages.py\n",
    "\n"
   ]
  },
  {
   "cell_type": "code",
   "execution_count": null,
   "metadata": {
    "scrolled": false
   },
   "outputs": [],
   "source": [
    "plt.rcParams[\"figure.figsize\"] = (16,12)\n",
    "plt.rcParams[\"font.size\"] = 24\n",
    "plt.rcParams['xtick.labelsize'] = \"small\"\n",
    "plt.rcParams['ytick.labelsize'] = 36"
   ]
  },
  {
   "cell_type": "code",
   "execution_count": null,
   "metadata": {
    "scrolled": false
   },
   "outputs": [],
   "source": [
    "def load_dir_reduced(dirname,file_prefix,max_files):\n",
    "    '''\n",
    "    Load time information from the h5 files in a loop into a list. Step size is fixed to 100. \n",
    "    '''   \n",
    "    ## Load all filenames in directory\n",
    "    var_list1 = []\n",
    "    var_list2 = []\n",
    "    var_list3 = []\n",
    "    files = []\n",
    "    [files.append(file_) for file_ in os.listdir(dirname) if file_.startswith(file_prefix) if file_.endswith('.h5')]\n",
    "    files.sort(key=lambda f: int(''.join(filter(str.isdigit, f))))\n",
    "    print(len(files))\n",
    "    step_size = 50\n",
    "    for j in np.arange(0,max_files,step_size):\n",
    "        for filename in files[j:j+step_size]:\n",
    "            BDFs = BDF.BeadDataFile(dirname+filename)\n",
    "            var_list1.append(BDFs.x2)\n",
    "            var_list2.append(BDFs.cant_pos[1])\n",
    "            var_list3.append(BDFs.y2)\n",
    "    return var_list1,var_list2,var_list3"
   ]
  },
  {
   "cell_type": "code",
   "execution_count": null,
   "metadata": {
    "scrolled": false
   },
   "outputs": [],
   "source": [
    "def data_to_amp_and_phase_single_axis(data,fsamp,res):\n",
    "    data_det=signal.detrend(data)\n",
    "    freqs=np.linspace(0,int(fsamp/2),(int(res/2))+1)    # change\n",
    "    FFT=np.fft.rfft(data_det)\n",
    "    norm = np.sqrt(2 / (res* fsamp))\n",
    "    PSD = norm**2 * (FFT * FFT.conj()).real\n",
    "    Phase =np.angle(FFT)\n",
    "    return PSD,Phase\n",
    "\n",
    "## verification of the methods comparability to previously used mlab.psd\n",
    "\n",
    "# fsamp=5000\n",
    "# res=50000\n",
    "# data=f[0].x2\n",
    "# a = data_to_amp_and_phase_single_axis(data,fsamp,res)\n",
    "# b = matplotlib.mlab.psd(signal.detrend(data), Fs = fsamp, NFFT = res, window = mlab.window_none)\n",
    "# plt.loglog(a[0],a[1])\n",
    "# plt.loglog(b[1],b[0],alpha=0.5)"
   ]
  },
  {
   "cell_type": "code",
   "execution_count": null,
   "metadata": {},
   "outputs": [],
   "source": [
    "def loop_extract_PSD_and_phase(inList,fsamp,res,calibrationFactor=1):\n",
    "    ampList = []\n",
    "    phaseList=[]\n",
    "    for i in range(len(inList)):\n",
    "        data=inList[i]/calibrationFactor\n",
    "        temp_ = data_to_amp_and_phase_single_axis(data,fsamp,res)\n",
    "        ampList.append(temp_[0])\n",
    "        phaseList.append(temp_[1])\n",
    "    return ampList,phaseList"
   ]
  },
  {
   "cell_type": "code",
   "execution_count": null,
   "metadata": {
    "scrolled": false
   },
   "outputs": [],
   "source": [
    "def extract_data_to_df(folderName,filePrefix,maxFiles=1000,filterStd=True,calibrationFactorX=1,calibrationFactorY=1):\n",
    "    start=time.time()\n",
    "\n",
    "    df= pd.DataFrame()\n",
    "    fsamp=5000\n",
    "    res=50000\n",
    "    freqs=np.linspace(0,int(fsamp/2),(int(res/2))+1)\n",
    "    x2L,cPL,y2L = load_dir_reduced(folderName,file_prefix=filePrefix,max_files=maxFiles)\n",
    "    xAmpList,xPhaseList = loop_extract_PSD_and_phase(x2L,fsamp,res,calibrationFactorX)\n",
    "    yAmpList,yPhaseList = loop_extract_PSD_and_phase(y2L,fsamp,res,calibrationFactorY)\n",
    "    \n",
    "    df[\"cantPosY\"] = cPL\n",
    "    \n",
    "    df[\"xAmp\"] = x2L\n",
    "    df[\"xPhase\"] = xPhaseList\n",
    "    df[\"xPSD\"] = xAmpList\n",
    "    #df[\"xASD\"]=df[\"xPSD\"].apply(lambda element: np.sqrt(element))\n",
    "    \n",
    "    df[\"yAmp\"] = y2L\n",
    "    df[\"yPhase\"] = yPhaseList\n",
    "    df[\"yPSD\"] = yAmpList\n",
    "    #df[\"yASD\"]=df[\"yPSD\"].apply(lambda element: np.sqrt(element))\n",
    "    \n",
    "    \n",
    "    df[\"checkStd\"]=df[\"xAmp\"].apply(lambda element: np.std(element))\n",
    "    \n",
    "\n",
    "    if(filterStd==True):\n",
    "        df=df[df[\"checkStd\"]<20*df[\"checkStd\"].median()]\n",
    "    print(\"The process took %.2f\" %(time.time()-start))\n",
    "    print(df.info(memory_usage='deep))\n",
    "    return freqs,df"
   ]
  },
  {
   "cell_type": "code",
   "execution_count": null,
   "metadata": {
    "scrolled": false
   },
   "outputs": [],
   "source": [
    "def plotQuickPSD(fundamental,df_1,df_2,axis,label1,label2,offset,lowylim=1e-10,upylim=1e-4,lowxlim=10,upxlim=150,scaleFactor1=1,scaleFactor2=1,res=5000,fsamp=5000):\n",
    "\n",
    "    xlabel=\"frequency [Hz]\"\n",
    "    ylabel=\"%s sumPSD [a.u.]\" %axis\n",
    "    \n",
    "    plt.plot(freqs,df_1[\"%sPSD\" %axis].sum()/scaleFactor1,color=\"black\",alpha=1,lw=3,label=label1)\n",
    "    plt.plot(freqs,df_2[\"%sPSD\" %axis].sum()/scaleFactor2,color=\"red\",alpha=0.7,lw=3,label=label2)\n",
    "    plt.yscale(\"log\")\n",
    "    plt.xlim(lowxlim,upxlim)\n",
    "    plt.ylim(lowylim,upylim)\n",
    "    plt.xlabel(xlabel)\n",
    "    plt.ylabel(ylabel)\n",
    "    \n",
    "    plt.legend()\n",
    "    plt.show()\n",
    "    \n",
    "    plt.plot(freqs[fundamental*int(res/fsamp)::fundamental*int(res/fsamp)],(df_1[\"%sPSD\" %axis].sum()/scaleFactor1)[fundamental*int(res/fsamp)::fundamental*int(res/fsamp)],color=\"black\",alpha=1,lw=3,marker=\"*\",ms=15,label=label1)\n",
    "    plt.plot(freqs[fundamental*int(res/fsamp)::fundamental*int(res/fsamp)],(df_2[\"%sPSD\" %axis].sum()/scaleFactor2)[fundamental*int(res/fsamp)::fundamental*int(res/fsamp)],color=\"red\",alpha=0.7,lw=3,marker=\"*\",ms=15,label=label2)\n",
    "    \n",
    "    plt.plot(freqs[(fundamental+offset)*int(res/fsamp)::(fundamental+offset)*int(res/fsamp)],(df_1[\"%sPSD\" %axis].sum()/scaleFactor1)[(fundamental+offset)*int(res/fsamp)::(fundamental+offset)*int(res/fsamp)],color=\"blue\",alpha=0.7,lw=3,ls=\"dashed\",marker=\"*\",ms=15,label=label1+\" off-axis check at %d\" %(fundamental+offset))\n",
    "    plt.plot(freqs[(fundamental+offset)*int(res/fsamp)::(fundamental+offset)*int(res/fsamp)],(df_2[\"%sPSD\" %axis].sum()/scaleFactor2)[(fundamental+offset)*int(res/fsamp)::(fundamental+offset)*int(res/fsamp)],color=\"blue\",alpha=0.7,lw=3,ls=\"dotted\",marker=\"*\",ms=15,label=label2+\" off-axis check at %d\"%(fundamental+offset))\n",
    "\n",
    "    plt.yscale(\"log\")\n",
    "    plt.xlim(lowxlim,upxlim)\n",
    "    plt.ylim(lowylim,upylim)\n",
    "    plt.xlabel(xlabel)\n",
    "    plt.ylabel(ylabel)\n",
    "    plt.legend()\n",
    "    plt.show()"
   ]
  },
  {
   "cell_type": "code",
   "execution_count": null,
   "metadata": {},
   "outputs": [],
   "source": [
    "def plotQuickASD(fundamental,df_1,df_2,axis,label1,label2,offset,lowylim=1e-10,upylim=1e-4,lowxlim=10,upxlim=150,scaleFactor1=1,scaleFactor2=1,res=50000,fsamp=5000):\n",
    "\n",
    "    xlabel=\"frequency [Hz]\"\n",
    "    ylabel=\"%s normalized ASD [m/$\\sqrt{Hz}$]\" %axis\n",
    "    \n",
    "        \n",
    "    plt.plot(freqs,np.sqrt(df_1[\"%sPSD\" %axis].sum()/scaleFactor1),color=\"black\",alpha=1,lw=3,label=label1)\n",
    "    plt.plot(freqs,np.sqrt(df_2[\"%sPSD\" %axis].sum()/scaleFactor2),color=\"red\",alpha=0.7,lw=3,label=label2)\n",
    "    plt.yscale(\"log\")\n",
    "    plt.xlim(lowxlim,upxlim)\n",
    "    plt.ylim(lowylim,upylim)\n",
    "    plt.xlabel(xlabel)\n",
    "    plt.ylabel(ylabel)\n",
    "    \n",
    "    plt.legend()\n",
    "    plt.show()\n",
    "    \n",
    "    plt.plot(freqs[fundamental*int(res/fsamp)::fundamental*int(res/fsamp)],(np.sqrt(df_1[\"%sPSD\" %axis].sum()/scaleFactor1))[fundamental*int(res/fsamp)::fundamental*int(res/fsamp)],color=\"black\",alpha=1,lw=3,marker=\"*\",ms=15,label=label1)\n",
    "    plt.plot(freqs[fundamental*int(res/fsamp)::fundamental*int(res/fsamp)],(np.sqrt(df_2[\"%sPSD\" %axis].sum()/scaleFactor2))[fundamental*int(res/fsamp)::fundamental*int(res/fsamp)],color=\"red\",alpha=0.7,lw=3,marker=\"*\",ms=15,label=label2)\n",
    "    \n",
    "    plt.plot(freqs[(fundamental+offset)*int(res/fsamp)::(fundamental+offset)*int(res/fsamp)],(np.sqrt(df_1[\"%sPSD\" %axis].sum()/scaleFactor1))[(fundamental+offset)*int(res/fsamp)::(fundamental+offset)*int(res/fsamp)],color=\"blue\",alpha=0.7,lw=3,ls=\"dashed\",marker=\"*\",ms=15,label=label1+\" off-axis check at %d\" %(fundamental+offset))\n",
    "    plt.plot(freqs[(fundamental+offset)*int(res/fsamp)::(fundamental+offset)*int(res/fsamp)],(np.sqrt(df_2[\"%sPSD\" %axis].sum()/scaleFactor2))[(fundamental+offset)*int(res/fsamp)::(fundamental+offset)*int(res/fsamp)],color=\"blue\",alpha=0.7,lw=3,ls=\"dotted\",marker=\"*\",ms=15,label=label2+\" off-axis check at %d\"%(fundamental+offset))\n",
    "\n",
    "    plt.yscale(\"log\")\n",
    "    plt.xlim(lowxlim,upxlim)\n",
    "    plt.ylim(lowylim,upylim)\n",
    "    plt.xlabel(xlabel)\n",
    "    plt.ylabel(ylabel)\n",
    "    plt.legend()\n",
    "    plt.show()"
   ]
  },
  {
   "cell_type": "code",
   "execution_count": null,
   "metadata": {
    "scrolled": false
   },
   "outputs": [],
   "source": [
    "def plotQuickAlternatemethod(fundamental,df_1,df_2,label1,label2,offset,lowylim=1e-10,upylim=1e-4,lowxlim=10,upxlim=150,scaleFactor1=1,scaleFactor2=1,res=50000,fsamp=5000):\n",
    "\n",
    "    data1=data_to_amp_and_phase_single_axis(df_1[\"xAmp\"].sum(),5000,50000)[0]\n",
    "    data2=data_to_amp_and_phase_single_axis(df_2[\"xAmp\"].sum(),5000,50000)[0]            \n",
    "    xlabel=\"frequency [Hz]\"\n",
    "    ylabel=\"%s sumPSD [a.u.]\"\n",
    "    plt.plot(freqs,data1/scaleFactor1,color=\"black\",alpha=1,lw=3,label=label1)\n",
    "    plt.plot(freqs,data2/scaleFactor2,color=\"red\",alpha=0.5,lw=3,label=label2)\n",
    "    plt.yscale(\"log\")\n",
    "    plt.xlim(lowxlim,upxlim)\n",
    "    plt.ylim(lowylim,upylim)\n",
    "    plt.xlabel(xlabel)\n",
    "    plt.ylabel(ylabel)\n",
    "\n",
    "    plt.legend()\n",
    "    plt.show()\n",
    "\n",
    "    plt.plot(freqs[fundamental*int(res/fsamp)::fundamental*int(res/fsamp)],(data1/scaleFactor1)[fundamental*int(res/fsamp)::fundamental*int(res/fsamp)],color=\"black\",alpha=1,lw=3,marker=\"*\",ms=15,label=label1)\n",
    "    plt.plot(freqs[fundamental*int(res/fsamp)::fundamental*int(res/fsamp)],(data2/scaleFactor2)[fundamental*int(res/fsamp)::fundamental*int(res/fsamp)],color=\"red\",alpha=0.7,lw=3,marker=\"*\",ms=15,label=label2)\n",
    "\n",
    "    plt.plot(freqs[(fundamental+offset)*int(res/fsamp)::(fundamental+offset)*int(res/fsamp)],(data1/scaleFactor1)[(fundamental+offset)*int(res/fsamp)::(fundamental+offset)*int(res/fsamp)],color=\"blue\",alpha=0.7,lw=3,ls=\"dashed\",marker=\"*\",ms=15,label=label1+\" off-axis check at %d\" %(fundamental+offset))\n",
    "    plt.plot(freqs[(fundamental+offset)*int(res/fsamp)::(fundamental+offset)*int(res/fsamp)],(data2/scaleFactor2)[(fundamental+offset)*int(res/fsamp)::(fundamental+offset)*int(res/fsamp)],color=\"blue\",alpha=0.7,lw=3,ls=\"dotted\",marker=\"*\",ms=15,label=label2+\" off-axis check at %d\"%(fundamental+offset))\n",
    "\n",
    "    plt.yscale(\"log\")\n",
    "    plt.xlim(lowxlim,upxlim)\n",
    "    plt.ylim(lowylim,upylim)\n",
    "    plt.xlabel(xlabel)\n",
    "    plt.ylabel(ylabel)\n",
    "    plt.legend()\n",
    "    plt.show()                       "
   ]
  },
  {
   "cell_type": "code",
   "execution_count": null,
   "metadata": {
    "scrolled": false
   },
   "outputs": [],
   "source": [
    "df_NoShaking_20220526 = []\n",
    "for i in tqdm(range(3)):\n",
    "    folderName=\"/data/new_trap/20220526/Bead0/NoShaking/%d/\" %(i+1)\n",
    "    filePrefix=\"NoShaking\"\n",
    "    #files = load_dir_sorted(folderName,file_prefix=filePrefix,start_file=0,max_file=1000)\n",
    "    freqs,df_NoShaking_temp= extract_data_to_df(folderName,filePrefix,maxFiles=1000,filterStd=True,calibrationFactorX=6e4,calibrationFactorY=3.5e5)\n",
    "    df_NoShaking_20220526.append(df_NoShaking_temp)\n",
    "    "
   ]
  },
  {
   "cell_type": "code",
   "execution_count": null,
   "metadata": {
    "scrolled": true
   },
   "outputs": [],
   "source": [
    "df_Shaking_20220526 = []\n",
    "for i in tqdm(range(7)):\n",
    "    folderName=\"/data/new_trap/20220526/Bead0/Shaking/13Hz/NoServo/%d/\" %(i+1)\n",
    "    filePrefix=\"Shaking\"\n",
    "    #files = load_dir_sorted(folderName,file_prefix=filePrefix,start_file=0,max_file=1000)\n",
    "    freqs,df_Shaking13Hz_temp= extract_data_to_df(folderName,filePrefix,maxFiles=1000,filterStd=True,calibrationFactorX=6e4,calibrationFactorY=3.5e5)\n",
    "    print(len(df_Shaking13Hz_temp))   \n",
    "    df_Shaking_20220526.append(df_Shaking13Hz_temp)\n"
   ]
  },
  {
   "cell_type": "code",
   "execution_count": null,
   "metadata": {
    "scrolled": true
   },
   "outputs": [],
   "source": [
    "for i in range(7):\n",
    "    j=2\n",
    "    data1=df_NoShaking_20220526[j]\n",
    "    data2=df_Shaking_20220526[i]\n",
    "    plotQuickAlternatemethod(13,df_1=data1,df_2=data2,label1=\"noShaking\",label2=\"Shaking 13 Hz w/o servo, 1.25V n=%d\" %(len(data2)),offset=3,lowylim=1e-11,upylim=1e-3,scaleFactor1=len(data1),scaleFactor2=len(data2))"
   ]
  },
  {
   "cell_type": "code",
   "execution_count": null,
   "metadata": {
    "scrolled": true
   },
   "outputs": [],
   "source": [
    "for i in range(7):\n",
    "    j=2\n",
    "    data1=df_NoShaking_20220526[j]\n",
    "    data2=df_Shaking_20220526[i]\n",
    "    plotQuickPSD(13,df_1=data1,df_2=data2,axis=\"x\",label1=\"noShaking\",label2=\"Shaking 13 Hz w/o servo, 1.25V n=%d\" %(len(data2)),offset=3,lowylim=1e-21,upylim=1e-15,scaleFactor1=len(data1),scaleFactor2=len(data2))"
   ]
  },
  {
   "cell_type": "code",
   "execution_count": null,
   "metadata": {},
   "outputs": [],
   "source": [
    "for i in range(7):\n",
    "    j=2\n",
    "    data1=df_NoShaking_20220526[j]\n",
    "    data2=df_Shaking_20220526[i]\n",
    "    plotQuickASD(13,df_1=data1,df_2=data2,axis=\"x\",label1=\"noShaking\",label2=\"Shaking 13 Hz w/o servo, 1.25V n=%d\" %(len(data2)),offset=3,lowylim=1e-10,upylim=1e-7,scaleFactor1=len(data1),scaleFactor2=len(data2))"
   ]
  },
  {
   "cell_type": "code",
   "execution_count": null,
   "metadata": {
    "scrolled": false
   },
   "outputs": [],
   "source": [
    "data1=df_Shaking_20220526[1]\n",
    "data2=df_Shaking_20220526[6]\n",
    "plotQuickAlternatemethod(13,df_1=data1,df_2=data2,label1=\"before\",label2=\"after\",offset=3,lowylim=1e-11,upylim=1e-3,scaleFactor1=len(data1),scaleFactor2=len(data2))"
   ]
  },
  {
   "cell_type": "code",
   "execution_count": null,
   "metadata": {
    "scrolled": false
   },
   "outputs": [],
   "source": [
    "data1=df_Shaking_20220526[1]\n",
    "data2=df_Shaking_20220526[6]\n",
    "plotQuickASD(13,df_1=data1,df_2=data2,axis=\"y\",label1=\"noShaking\",label2=\"Shaking 13 Hz w/o servo, 1.25V n=%d\" %(len(data2)),offset=3,lowylim=1e-10,upylim=1e-7,scaleFactor1=len(data1),scaleFactor2=len(data2))"
   ]
  },
  {
   "cell_type": "code",
   "execution_count": null,
   "metadata": {},
   "outputs": [],
   "source": [
    "df_NoShaking_20220601 = []\n",
    "\n",
    "for i in range(3):\n",
    "    folderName=\"/data/new_trap/20220601/VibrationTest/NoShaking/%d/\" %(i)\n",
    "    filePrefix=\"NoShaking\"\n",
    "    #files = load_dir_sorted(folderName,file_prefix=filePrefix,start_file=0,max_file=1000)\n",
    "    freqs,df_NoShaking_temp= extract_data_to_df(folderName,filePrefix,maxFiles=1000,filterStd=True)\n",
    "    print(len(df_NoShaking_temp))   \n",
    "    df_NoShaking_20220601.append(df_NoShaking_temp)\n"
   ]
  },
  {
   "cell_type": "code",
   "execution_count": null,
   "metadata": {},
   "outputs": [],
   "source": [
    "df_Shaking_20220601 = []\n",
    "for i in range(3):\n",
    "    folderName=\"/data/new_trap/20220601/VibrationTest/Shaking/%d/\" %(i+1)\n",
    "    filePrefix=\"Shaking\"\n",
    "    #files = load_dir_sorted(folderName,file_prefix=filePrefix,start_file=0,max_file=1000)\n",
    "    freqs,df_Shaking_temp= extract_data_to_df(folderName,filePrefix,maxFiles=1000,filterStd=True)\n",
    "    print(len(df_Shaking_temp))   \n",
    "    df_Shaking_20220601.append(df_Shaking_temp)\n"
   ]
  },
  {
   "cell_type": "code",
   "execution_count": null,
   "metadata": {},
   "outputs": [],
   "source": [
    "df_NoShaking_20220602 = []\n",
    "for i in range(1):\n",
    "    folderName=\"/data/new_trap/20220602/VibrationTest/NoShaking/%d/\" %(i)\n",
    "    filePrefix=\"NoShaking\"\n",
    "    #files = load_dir_sorted(folderName,file_prefix=filePrefix,start_file=0,max_file=1000)\n",
    "    freqs,df_NoShaking_temp= extract_data_to_df(folderName,filePrefix,maxFiles=1000,filterStd=True)\n",
    "    print(len(df_NoShaking_temp))   \n",
    "    df_NoShaking_20220602.append(df_NoShaking_temp)\n"
   ]
  },
  {
   "cell_type": "code",
   "execution_count": null,
   "metadata": {},
   "outputs": [],
   "source": [
    "df_Shaking_20220602 = []\n",
    "for i in range(1):\n",
    "    folderName=\"/data/new_trap/20220602/VibrationTest/Shaking/%d/\" %(i+1)\n",
    "    filePrefix=\"Shaking\"\n",
    "    #files = load_dir_sorted(folderName,file_prefix=filePrefix,start_file=0,max_file=1000)\n",
    "    freqs,df_Shaking_temp= extract_data_to_df(folderName,filePrefix,maxFiles=1000,filterStd=True)\n",
    "    print(len(df_Shaking_temp))   \n",
    "    df_Shaking_20220602.append(df_Shaking_temp)\n"
   ]
  },
  {
   "cell_type": "code",
   "execution_count": null,
   "metadata": {},
   "outputs": [],
   "source": [
    "df_NoShaking_20220603 = []\n",
    "\n",
    "for i in range(1):\n",
    "    folderName=\"/data/new_trap/20220603/VibrationTest/NoShaking/%d/\" %(i)\n",
    "    filePrefix=\"NoShaking\"\n",
    "    #files = load_dir_sorted(folderName,file_prefix=filePrefix,start_file=0,max_file=1000)\n",
    "    freqs,df_NoShaking_temp= extract_data_to_df(folderName,filePrefix,maxFiles=1000,filterStd=True)\n",
    "    print(len(df_NoShaking_temp))   \n",
    "    df_NoShaking_20220603.append(df_NoShaking_temp)\n"
   ]
  },
  {
   "cell_type": "code",
   "execution_count": null,
   "metadata": {},
   "outputs": [],
   "source": [
    "df_Shaking_20220603 = []\n",
    "for i in range(1):\n",
    "    folderName=\"/data/new_trap/20220603/VibrationTest/Shaking/%d/\" %(i+1)\n",
    "    filePrefix=\"Shaking\"\n",
    "    #files = load_dir_sorted(folderName,file_prefix=filePrefix,start_file=0,max_file=1000)\n",
    "    freqs,df_Shaking_temp= extract_data_to_df(folderName,filePrefix,maxFiles=1000,filterStd=True)\n",
    "    print(len(df_Shaking_temp))   \n",
    "    df_Shaking_20220603.append(df_Shaking_temp)\n"
   ]
  },
  {
   "cell_type": "code",
   "execution_count": null,
   "metadata": {},
   "outputs": [],
   "source": [
    "df_Shaking_20220605 = []\n",
    "for i in range(1):\n",
    "    folderName=\"/data/new_trap/20220605/VibrationTest/Shaking/%d/\" %(i+1)\n",
    "    filePrefix=\"Shaking\"\n",
    "    #files = load_dir_sorted(folderName,file_prefix=filePrefix,start_file=0,max_file=1000)\n",
    "    freqs,df_Shaking_temp= extract_data_to_df(folderName,filePrefix,maxFiles=1000,filterStd=True,calibrationFactorX=6e4,calibrationFactorY=3.5e5)\n",
    "    print(len(df_Shaking_temp))   \n",
    "    df_Shaking_20220605.append(df_Shaking_temp)\n"
   ]
  },
  {
   "cell_type": "code",
   "execution_count": null,
   "metadata": {},
   "outputs": [],
   "source": [
    "df_NoShaking_20220605 = []\n",
    "\n",
    "for i in range(1):\n",
    "    folderName=\"/data/new_trap/20220605/VibrationTest/NoShaking/%d/\" %(i)\n",
    "    filePrefix=\"NoShaking\"\n",
    "    #files = load_dir_sorted(folderName,file_prefix=filePrefix,start_file=0,max_file=1000)\n",
    "    freqs,df_NoShaking_temp= extract_data_to_df(folderName,filePrefix,maxFiles=1000,filterStd=True,calibrationFactorX=6e4,calibrationFactorY=3.5e5)\n",
    "    print(len(df_NoShaking_temp))   \n",
    "    df_NoShaking_20220605.append(df_NoShaking_temp)\n"
   ]
  },
  {
   "cell_type": "code",
   "execution_count": null,
   "metadata": {},
   "outputs": [],
   "source": [
    "df_NoShaking_20220606 = []\n",
    "for i in range(2):\n",
    "    folderName=\"/data/new_trap/20220606/VibrationTest/NoShaking/%d/\" %(i)\n",
    "    filePrefix=\"NoShaking\"\n",
    "    #files = load_dir_sorted(folderName,file_prefix=filePrefix,start_file=0,max_file=1000)\n",
    "    freqs,df_NoShaking_temp= extract_data_to_df(folderName,filePrefix,maxFiles=1000,filterStd=True,calibrationFactorX=6e4,calibrationFactorY=3.5e5)\n",
    "    print(len(df_NoShaking_temp))   \n",
    "    df_NoShaking_20220606.append(df_NoShaking_temp)\n"
   ]
  },
  {
   "cell_type": "code",
   "execution_count": null,
   "metadata": {},
   "outputs": [],
   "source": [
    "df_Shaking_20220606 = []\n",
    "for i in range(2):\n",
    "    folderName=\"/data/new_trap/20220606/VibrationTest/Shaking/%d/\" %(i+1)\n",
    "    filePrefix=\"Shaking\"\n",
    "    #files = load_dir_sorted(folderName,file_prefix=filePrefix,start_file=0,max_file=1000)\n",
    "    freqs,df_Shaking_temp= extract_data_to_df(folderName,filePrefix,maxFiles=1000,filterStd=True,calibrationFactorX=6e4,calibrationFactorY=3.5e5)\n",
    "    print(len(df_Shaking_temp))   \n",
    "    df_Shaking_20220606.append(df_Shaking_temp)\n"
   ]
  },
  {
   "cell_type": "code",
   "execution_count": null,
   "metadata": {},
   "outputs": [],
   "source": [
    "df_NoShaking_20220609 = []\n",
    "for i in range(1):\n",
    "    folderName=\"/data/new_trap/20220609/VibrationTest/NoShaking/%d/\" %(i)\n",
    "    filePrefix=\"NoShaking\"\n",
    "    #files = load_dir_sorted(folderName,file_prefix=filePrefix,start_file=0,max_file=1000)\n",
    "    freqs,df_NoShaking_temp= extract_data_to_df(folderName,filePrefix,maxFiles=1000,filterStd=True,calibrationFactorX=6e4,calibrationFactorY=3.5e5)\n",
    "    print(len(df_NoShaking_temp))   \n",
    "    df_NoShaking_20220609.append(df_NoShaking_temp)\n",
    "    df"
   ]
  },
  {
   "cell_type": "code",
   "execution_count": null,
   "metadata": {},
   "outputs": [],
   "source": [
    "df_Shaking_20220609 = []\n",
    "for i in range(3):\n",
    "    folderName=\"/data/new_trap/20220609/VibrationTest/Shaking/%d/\" %(i+1)\n",
    "    filePrefix=\"Shaking\"\n",
    "    #files = load_dir_sorted(folderName,file_prefix=filePrefix,start_file=0,max_file=1000)\n",
    "    freqs,df_Shaking_temp= extract_data_to_df(folderName,filePrefix,maxFiles=5000,filterStd=True,calibrationFactorX=6e4,calibrationFactorY=3.5e5)\n",
    "    print(len(df_Shaking_temp))   \n",
    "    df_Shaking_20220609.append(df_Shaking_temp)\n"
   ]
  },
  {
   "cell_type": "code",
   "execution_count": null,
   "metadata": {},
   "outputs": [],
   "source": [
    "df_Shaking_20220609[2].info(memory_usage=\"deep\")"
   ]
  },
  {
   "cell_type": "code",
   "execution_count": null,
   "metadata": {},
   "outputs": [],
   "source": [
    "data1=df_NoShaking_20220609[0]\n",
    "data2=df_Shaking_20220609[2]\n",
    "plotQuickASD(3,df_1=data1,df_2=data2,axis=\"y\",label1=\"noShaking\",label2=\"Shaking 3 Hz w servo, 4V n=%d\" %(len(data2)),offset=2,lowylim=1e-10,upylim=1e-8,lowxlim=1,upxlim=40,scaleFactor1=len(data1),scaleFactor2=len(data2))"
   ]
  },
  {
   "cell_type": "code",
   "execution_count": null,
   "metadata": {},
   "outputs": [],
   "source": [
    "data1=df_NoShaking_20220609[0]\n",
    "data2=df_Shaking_20220609[2]\n",
    "plotQuickAlternatemethod(3,df_1=data1,df_2=data2,label1=\"noShaking\",label2=\"Shaking 3 Hz w servo, 4V n=%d\" %(len(data2)),offset=2,lowylim=1e-10,upylim=1e-4,lowxlim=1,upxlim=40,scaleFactor1=len(data1),scaleFactor2=len(data2))"
   ]
  },
  {
   "cell_type": "code",
   "execution_count": null,
   "metadata": {},
   "outputs": [],
   "source": [
    "df_NoShaking_20220613 = []\n",
    "for i in range(1):\n",
    "    folderName=\"/data/new_trap/20220613/NoShaking/%d/\" %(i)\n",
    "    filePrefix=\"NoShaking\"\n",
    "    #files = load_dir_sorted(folderName,file_prefix=filePrefix,start_file=0,max_file=1000)\n",
    "    freqs,df_NoShaking_temp= extract_data_to_df(folderName,filePrefix,maxFiles=1000,filterStd=True,calibrationFactorX=6e4,calibrationFactorY=3.5e5)\n",
    "    print(len(df_NoShaking_temp))   \n",
    "    df_NoShaking_20220613.append(df_NoShaking_temp)\n"
   ]
  },
  {
   "cell_type": "code",
   "execution_count": null,
   "metadata": {},
   "outputs": [],
   "source": [
    "df_Shaking_20220613 = []\n",
    "for i in range(2):\n",
    "    folderName=\"/data/new_trap/20220613/Shaking/%d/\" %(i+1)\n",
    "    filePrefix=\"Shaking\"\n",
    "    #files = load_dir_sorted(folderName,file_prefix=filePrefix,start_file=0,max_file=1000)\n",
    "    freqs,df_Shaking_temp= extract_data_to_df(folderName,filePrefix,maxFiles=1000,filterStd=True,calibrationFactorX=6e4,calibrationFactorY=3.5e5)\n",
    "    print(len(df_Shaking_temp))   \n",
    "    df_Shaking_20220613.append(df_Shaking_temp)\n"
   ]
  },
  {
   "cell_type": "code",
   "execution_count": null,
   "metadata": {},
   "outputs": [],
   "source": [
    "data1=df_NoShaking_20220613[0]\n",
    "data2=df_Shaking_20220613[1]\n",
    "plotQuickASD(3,df_1=data1,df_2=data2,axis=\"y\",label1=\"noShaking\",label2=\"Shaking 3 Hz w servo, 4V n=%d\" %(len(data2)),offset=2,lowylim=1e-10,upylim=1e-7,lowxlim=1,upxlim=40,scaleFactor1=len(data1),scaleFactor2=len(data2))"
   ]
  },
  {
   "cell_type": "code",
   "execution_count": null,
   "metadata": {},
   "outputs": [],
   "source": [
    "data1=df_NoShaking_20220613[0]\n",
    "data2=df_Shaking_20220613[1]\n",
    "plotQuickAlternatemethod(3,df_1=data1,df_2=data2,label1=\"noShaking\",label2=\"Shaking 3 Hz w servo, 4V n=%d\" %(len(data2)),offset=2,lowylim=1e-10,upylim=1e-4,lowxlim=1,upxlim=40,scaleFactor1=len(data1),scaleFactor2=len(data2))"
   ]
  }
 ],
 "metadata": {
  "celltoolbar": "Raw Cell Format",
  "kernelspec": {
   "display_name": "Python 3",
   "language": "python",
   "name": "python3"
  },
  "language_info": {
   "codemirror_mode": {
    "name": "ipython",
    "version": 3
   },
   "file_extension": ".py",
   "mimetype": "text/x-python",
   "name": "python",
   "nbconvert_exporter": "python",
   "pygments_lexer": "ipython3",
   "version": "3.6.9"
  }
 },
 "nbformat": 4,
 "nbformat_minor": 4
}
