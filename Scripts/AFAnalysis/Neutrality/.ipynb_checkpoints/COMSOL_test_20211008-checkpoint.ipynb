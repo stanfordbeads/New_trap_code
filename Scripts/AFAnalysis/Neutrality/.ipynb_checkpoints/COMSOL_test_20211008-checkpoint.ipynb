{
 "cells": [
  {
   "cell_type": "code",
   "execution_count": 1,
   "metadata": {},
   "outputs": [],
   "source": [
    "%run /home/analysis_user/New_trap_code/Tools/basic_packages.py\n",
    "from matplotlib.ticker import MaxNLocator\n",
    "\n",
    "\n",
    "plt.rcParams[\"figure.figsize\"] = (16,12)\n",
    "plt.rcParams[\"font.size\"] = 24\n",
    "plt.rcParams['xtick.labelsize'] = \"small\"\n",
    "plt.rcParams['ytick.labelsize'] = 36"
   ]
  },
  {
   "cell_type": "code",
   "execution_count": 6,
   "metadata": {},
   "outputs": [],
   "source": [
    "fname = \"/home/nadavp/COMSOL/new_trap/efield_minus_x_electrode_1V_300um.txt\""
   ]
  },
  {
   "cell_type": "code",
   "execution_count": 20,
   "metadata": {},
   "outputs": [
    {
     "name": "stdout",
     "output_type": "stream",
     "text": [
      "% Model:              new_trap_efield_far.mph\n",
      "% Version:            COMSOL 5.5.0.292\n",
      "% Date:               Oct 6 2021, 17:35\n",
      "% Dimension:          3\n",
      "% Nodes:              1771561\n",
      "% Expressions:        3\n",
      "% Description:        Electric field, x component, Electric field, y component, Electric field, z component\n",
      "% Length unit:        m\n",
      "\n"
     ]
    }
   ],
   "source": [
    "f = open(\"%s\" %fname, \"r\")\n",
    "print(f.read(335))"
   ]
  },
  {
   "cell_type": "code",
   "execution_count": null,
   "metadata": {},
   "outputs": [],
   "source": []
  }
 ],
 "metadata": {
  "kernelspec": {
   "display_name": "Python 3",
   "language": "python",
   "name": "python3"
  },
  "language_info": {
   "codemirror_mode": {
    "name": "ipython",
    "version": 3
   },
   "file_extension": ".py",
   "mimetype": "text/x-python",
   "name": "python",
   "nbconvert_exporter": "python",
   "pygments_lexer": "ipython3",
   "version": "3.6.9"
  }
 },
 "nbformat": 4,
 "nbformat_minor": 4
}
