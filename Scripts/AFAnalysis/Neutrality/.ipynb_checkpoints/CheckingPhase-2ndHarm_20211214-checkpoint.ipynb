{
 "cells": [
  {
   "cell_type": "code",
   "execution_count": 1,
   "metadata": {},
   "outputs": [],
   "source": [
    "%run /home/analysis_user/New_trap_code/Tools/basic_packages.py\n",
    "\n"
   ]
  },
  {
   "cell_type": "code",
   "execution_count": 2,
   "metadata": {},
   "outputs": [],
   "source": [
    "def get_response(index,folder,drive_freq=71,axis=\"x\",phaseCalib1 = -0.0563,method=\"SineFit\"):\n",
    "    '''\n",
    "    index:file\n",
    "    folder:folder\n",
    "    drive_freq: frequency you want to analyze, usually f and 2f of your drive\n",
    "    axis: \"x\",\"y\" or \"z\"\n",
    "    phaseCalib: Offset of phase calibration as extracted from discharge, single electrode or TREK data\n",
    "    '''\n",
    "    fname = folder + 'Discharge_'+str(index)+'.h5'\n",
    "    if(index==1):print(fname)\n",
    "    neutralityFile = BDF.BeadDataFile(fname=fname)\n",
    "    bandwidth = 2\n",
    "    fsamp =5000\n",
    "    \n",
    "    if(axis==\"x\"):\n",
    "        inSignal=neutralityFile.x2\n",
    "    if(axis==\"y\"):\n",
    "        inSignal=neutralityFile.y2\n",
    "    if(axis==\"z\"):\n",
    "        inSignal=neutralityFile.z2\n",
    "        \n",
    "    if(method==\"SineFit\"):\n",
    "        ll = likelihood_analyser.LikelihoodAnalyser()\n",
    "        decimate = 10\n",
    "        drive_freq1=drive_freq\n",
    "        fit_kwargs = {'A': 0, 'f': drive_freq1, 'phi': phaseCalib1, \n",
    "                      'error_A': 1, 'error_f': 1, 'error_phi': 0.5, 'errordef': 1,\n",
    "                      'limit_phi': [-2 * np.pi, 2 * np.pi], \n",
    "                      'limit_A': [-1, 1], \n",
    "                      'print_level': 0, 'fix_f': True, 'fix_phi': True}\n",
    "\n",
    "        b, a = signal.butter(3, [2.*(drive_freq1-bandwidth/2.)/fsamp, 2.*(drive_freq1+bandwidth/2.)/fsamp ], btype = 'bandpass')\n",
    "        xx2 = signal.filtfilt(b, a, inSignal)[::decimate]\n",
    "\n",
    "        m1_tmp = ll.find_mle_sin(xx2, fsamp=5000/decimate, noise_rms=1, plot=False, suppress_print=True, **fit_kwargs)\n",
    "        response = m1_tmp.values[0]\n",
    "        \n",
    "    if(method==\"DigiDemod\"):\n",
    "        response = digital_demod(inSignal, fDemod=drive_freq, fs=fsamp, tFFT=10, win=('tukey',0.25),nOverlap=0, detrend='constant', median=False, band_width=bandwidth).imag[0]\n",
    "    \n",
    "    return response"
   ]
  },
  {
   "cell_type": "code",
   "execution_count": null,
   "metadata": {},
   "outputs": [],
   "source": []
  }
 ],
 "metadata": {
  "kernelspec": {
   "display_name": "Python 3",
   "language": "python",
   "name": "python3"
  },
  "language_info": {
   "codemirror_mode": {
    "name": "ipython",
    "version": 3
   },
   "file_extension": ".py",
   "mimetype": "text/x-python",
   "name": "python",
   "nbconvert_exporter": "python",
   "pygments_lexer": "ipython3",
   "version": "3.6.9"
  }
 },
 "nbformat": 4,
 "nbformat_minor": 4
}
