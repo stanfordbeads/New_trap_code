{
 "cells": [
  {
   "cell_type": "code",
   "execution_count": 1,
   "metadata": {},
   "outputs": [],
   "source": [
    "%run /home/analysis_user/New_trap_code/Tools/basic_packages.py\n",
    "sys.path.append('/home/analysis_user/New_trap_code/SensitivityFramework/')\n",
    "from signal_model_utilities_v3 import *\n",
    "from shutil import copyfile\n",
    "\n",
    "plt.rcParams[\"figure.figsize\"] = (16,12)\n",
    "plt.rcParams[\"font.size\"] = 24\n",
    "plt.rcParams['xtick.labelsize'] = \"small\"\n",
    "plt.rcParams['ytick.labelsize'] = 36"
   ]
  },
  {
   "cell_type": "code",
   "execution_count": 2,
   "metadata": {},
   "outputs": [],
   "source": [
    "def repeat(arr, count):\n",
    "    z_sig = []\n",
    "    for i in range(count):\n",
    "        z_sig.extend(arr)\n",
    "    return z_sig\n",
    "\n",
    "def mock_injection_noise(alpha_scale,lambda_val,height_sep=-15.5,x_sep=13.9,offset_y=+4.9,phase_shift=\"TF\"):\n",
    "    stroke=-202\n",
    "    frequency=3\n",
    "    axis=\"z\"\n",
    "    yuk_or_grav=\"yuk\"\n",
    "    alpha=1\n",
    "    bead_size=7.6\n",
    "    signal_sim = force_vs_time(x_sep,height_sep,stroke,frequency,axis,lambda_val,offset_y,yuk_or_grav,alpha,bead_size)\n",
    "    \n",
    "    # shift phase of signal according to TF\n",
    "        # data from Nadav's google doc [https://docs.google.com/spreadsheets/d/132wBYgWQt44M5gDtw48kFwvLDv416yS83ISfGujQUt4/edit#gid=0]\n",
    "\n",
    "    # convert to bits, this works only for one second chunk!\n",
    "        # data from Nadav's google doc [https://docs.google.com/spreadsheets/d/132wBYgWQt44M5gDtw48kFwvLDv416yS83ISfGujQUt4/edit#gid=0]\n",
    "\n",
    "    TF_phases = [1.22,0.97,0.65,0.49,0.3,0.12,0.29,0.13,0.23,0.22,0.27,0.27,0.07]    \n",
    "    if(phase_shift==\"TF\"):TF_phase_shift = TF_phases\n",
    "    elif(phase_shift==\"Flip\"):TF_phase_shift = Tm = [-1*element for element in TF_phases] \n",
    "    elif(phase_shift==\"Random_TF\"):TF_phase_shift = [1*np.random.normal(element,element/20) for element in TF_phases]\n",
    "    elif(phase_shift==\"Random\"):TF_phase_shift =  np.random.uniform(-np.pi,np.pi,len(TF_phases))\n",
    "    else:TF_phase_shift = len(TF_phases)*[0]\n",
    "    print(TF_phase_shift)\n",
    "    harmonics = np.arange(3,len(TF_phases)*3+3,3)\n",
    "\n",
    "    #print(len(TF_phase_shift))\n",
    "    # 6 charges new\n",
    "    amplitude_scale = [2.40E-17,1.35E-17,1.05E-17,9.78E-18,9.45E-18,9.81E-18,9.82E-18,1.04E-17,9.92E-18,7.50E-18,8.37E-18,7.10E-18,7.84E-18]\n",
    "\n",
    "    fft_sim = np.fft.rfft(signal_sim[1]) \n",
    "    new_fft_sim = fft_sim.copy()\n",
    "    new_fft_shift_only = fft_sim.copy()\n",
    "    new_fft_sim[0]=1/np.mean(amplitude_scale) * np.abs(fft_sim[0])\n",
    "    for harmonic in harmonics:\n",
    "        new_fft_shift_only[harmonic] = np.abs(fft_sim[harmonic])*np.exp(1j*(np.angle(fft_sim[harmonic])+TF_phase_shift[harmonic//3-1]))\n",
    "        new_fft_sim[harmonic] = 1/amplitude_scale[harmonic//3-1] * np.abs(fft_sim[harmonic])*np.exp(1j*(np.angle(fft_sim[harmonic])+TF_phase_shift[harmonic//3-1]))\n",
    "\n",
    "    signal_sim_shift=np.fft.irfft(new_fft_shift_only) \n",
    "    signal_sim_shift_scale =np.fft.irfft(new_fft_sim) \n",
    "    \n",
    "    \n",
    "    # extend to 10s\n",
    "    z_sig = repeat(signal_sim_shift_scale,10)\n",
    "    # scale to desired alpha\n",
    "    z_trans_amp = np.multiply(z_sig,alpha_scale)\n",
    "    \n",
    "    return z_trans_amp,TF_phase_shift,amplitude_scale"
   ]
  },
  {
   "cell_type": "code",
   "execution_count": 3,
   "metadata": {},
   "outputs": [],
   "source": [
    "def file_creator(in_file_paths,out_dir,direction,run_no,max_file=1000):\n",
    "    i=0\n",
    "    out_dirs=  out_dir+\"/%d/\" %run_no\n",
    "    try: os.makedirs(out_dirs)\n",
    "    except: print(\"Did not create %s. It may exist or you do not have perimissions.\" %out_dir)    \n",
    "\n",
    "    for file_path in in_file_paths:\n",
    "        i+=1\n",
    "        if(i<(max_file+1)):\n",
    "            #if (i % 10==0):print(\"%f percent\" %(i/max_file*100))\n",
    "            with h5py.File(file_path, 'r') as f_in:\n",
    "                quad_data_in = np.array(f_in['quad_data'])\n",
    "                data_in = quad_data_in.reshape(-1,12).T[9]\n",
    "                #plt.plot(np.array(data_in))\n",
    "                if(direction==\"push\"): z_sn = np.subtract(np.array(data_in),np.array(z_trans_amp))\n",
    "                elif(direction==\"pull\"): z_sn = np.add(np.array(data_in),np.array(z_trans_amp))\n",
    "                else: print(\"Force has to go either way\")\n",
    "                quad_data_in.reshape(-1,12).T[9] = z_sn\n",
    "                f_in.close()\n",
    "                #plt.plot(np.array(z_sn),color=\"black\")\n",
    "            out_path = out_dirs + \"Noise_batch_%d.h5\" %(i-1)\n",
    "            copyfile(src=file_path, dst=out_path)\n",
    "            with h5py.File(out_path, 'r+') as f_out:\n",
    "                del f_out['quad_data']\n",
    "                f_out.create_dataset(\"quad_data\", quad_data_in.shape,data=quad_data_in)\n",
    "                f_out.close()\n",
    "    return print(\"Done\")"
   ]
  },
  {
   "cell_type": "code",
   "execution_count": 4,
   "metadata": {},
   "outputs": [],
   "source": [
    "def metafile_creator(x):\n",
    "    f = open(out_dir+\"run_%d.txt\" %x, \"w\")\n",
    "    f.write(\"Run number: %d\\n alpha value: %f \\n lambda value: %f \\n direction: %s \\n %s %s \\n Amplitude scale %s\" %(run_no[x],alpha_scale_in[x],lambda_val_in[x],direction_in[x],phase_shift_in[x],str(TF_phase_shift),str(amplitude_scale)))\n",
    "    f.close()\n",
    "    return"
   ]
  },
  {
   "cell_type": "code",
   "execution_count": null,
   "metadata": {},
   "outputs": [],
   "source": []
  },
  {
   "cell_type": "code",
   "execution_count": 5,
   "metadata": {},
   "outputs": [],
   "source": [
    "in_dir = r\"/data/new_trap_processed/mockfiles/20200320/raw/noise/\"\n",
    "out_dir = r\"/data/new_trap_processed/mockfiles/20200320/output/noise/testrun/\"\n",
    "\n",
    "in_file_paths = []\n",
    "for file_path in glob.iglob(in_dir+\"*.h5\"):\n",
    "    in_file_paths.append(file_path)\n",
    "\n"
   ]
  },
  {
   "cell_type": "markdown",
   "metadata": {},
   "source": [
    "z_trans_amp,TF_phase_shift,amplitude_scale = mock_injection_noise(alpha_scale=1e8,lambda_val=12,height_sep=-15.5,x_sep=13.9,offset_y=+4.9,phase_shift=\"Random\")\n",
    "file_creator(in_file_paths,out_dir,direction=\"push\",run_no=0,max_file=300)"
   ]
  },
  {
   "cell_type": "code",
   "execution_count": 6,
   "metadata": {},
   "outputs": [],
   "source": [
    "# make lists\n",
    "alpha_scale_in = []+[np.random.randint(80,800)*1e6 for x in range(25)]+ \\\n",
    "                [np.random.randint(8,80)*1e6 for x in range(25)]+\\\n",
    "                [np.random.randint(8,80)*1e5 for x in range(25)]+\\\n",
    "                8*[1e8]+\\\n",
    "                [np.random.randint(8,800)*1e6 for x in range(16)]\n",
    "lambda_val_in = [20]+15*[18]+5*[10]+3*[5]+2*[31]+15*[18]+5*[10]+3*[5]+2*[31]+15*[18]+5*[10]+3*[5]+2*[31]+24*[12]\n",
    "direction_in = 92*[\"pull\"]+8*[\"push\"]\n",
    "phase_shift_in = 76*[\"TF\"]+4*[\"Random_TF\"]+4*[\"Random\"]+8*[\"Flip\"]+8*[\"TF\"]"
   ]
  },
  {
   "cell_type": "code",
   "execution_count": 7,
   "metadata": {},
   "outputs": [
    {
     "name": "stderr",
     "output_type": "stream",
     "text": [
      "\r",
      "  0%|          | 0/1 [00:00<?, ?it/s]"
     ]
    },
    {
     "name": "stdout",
     "output_type": "stream",
     "text": [
      "0 11\n",
      "Loading Gravity Data... Done!\n",
      "68 2.04837466632e-05\n",
      "Loaded Yukawa Force\n",
      "[1.22, 0.97, 0.65, 0.49, 0.3, 0.12, 0.29, 0.13, 0.23, 0.22, 0.27, 0.27, 0.07]\n"
     ]
    },
    {
     "name": "stderr",
     "output_type": "stream",
     "text": [
      "\r",
      "100%|██████████| 1/1 [00:14<00:00, 14.96s/it]"
     ]
    },
    {
     "name": "stdout",
     "output_type": "stream",
     "text": [
      "Done\n"
     ]
    },
    {
     "name": "stderr",
     "output_type": "stream",
     "text": [
      "\n"
     ]
    }
   ],
   "source": [
    "run_no =np.arange(0,100,1)\n",
    "np.random.shuffle(run_no)\n",
    "\n",
    "\n",
    "for i in tqdm(range(1)):\n",
    "    print(i, run_no[i])\n",
    "    z_trans_amp,TF_phase_shift,amplitude_scale = mock_injection_noise(alpha_scale=alpha_scale_in[i],lambda_val=lambda_val_in[i],height_sep=-15.5,x_sep=13.9,offset_y=+4.9,phase_shift=phase_shift_in[i])\n",
    "    file_creator(in_file_paths,out_dir,direction=direction_in[i],run_no=run_no[i],max_file=1000)\n",
    "    metafile_creator(i)\n",
    "np.save(out_dir+\"run_no.npy\",run_no)\n",
    "np.save(out_dir+\"alpha_scale_in.npy\",alpha_scale_in)\n",
    "np.save(out_dir+\"lambda_val_in.npy\",lambda_val_in)\n",
    "np.save(out_dir+\"direction_in.npy\",direction_in)\n",
    "np.save(out_dir+\"phase_shift_in.npy\",phase_shift_in)\n"
   ]
  },
  {
   "cell_type": "code",
   "execution_count": null,
   "metadata": {},
   "outputs": [],
   "source": []
  }
 ],
 "metadata": {
  "kernelspec": {
   "display_name": "Python 3",
   "language": "python",
   "name": "python3"
  },
  "language_info": {
   "codemirror_mode": {
    "name": "ipython",
    "version": 3
   },
   "file_extension": ".py",
   "mimetype": "text/x-python",
   "name": "python",
   "nbconvert_exporter": "python",
   "pygments_lexer": "ipython3",
   "version": "3.6.9"
  }
 },
 "nbformat": 4,
 "nbformat_minor": 4
}
