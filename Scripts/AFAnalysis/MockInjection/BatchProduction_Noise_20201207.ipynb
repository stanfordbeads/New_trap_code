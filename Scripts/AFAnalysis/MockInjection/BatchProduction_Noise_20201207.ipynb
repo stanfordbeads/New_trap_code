{
 "cells": [
  {
   "cell_type": "code",
   "execution_count": 1,
   "metadata": {},
   "outputs": [],
   "source": [
    "%run /home/analysis_user/New_trap_code/Tools/basic_packages.py\n",
    "sys.path.append('/home/analysis_user/New_trap_code/SensitivityFramework/')\n",
    "from signal_model_utilities_v3 import *\n",
    "from shutil import copyfile\n",
    "\n",
    "plt.rcParams[\"figure.figsize\"] = (16,12)\n",
    "plt.rcParams[\"font.size\"] = 24\n",
    "plt.rcParams['xtick.labelsize'] = \"small\"\n",
    "plt.rcParams['ytick.labelsize'] = 36"
   ]
  },
  {
   "cell_type": "code",
   "execution_count": 14,
   "metadata": {},
   "outputs": [],
   "source": [
    "def repeat(arr, count):\n",
    "    z_sig = []\n",
    "    for i in range(count):\n",
    "        z_sig.extend(arr)\n",
    "    return z_sig\n",
    "\n",
    "def mock_injection_noise(alpha_scale,lambda_val,height_sep=-15.5,x_sep=13.9,offset_y=+4.9,phase_shift=\"TF\"):\n",
    "    stroke=-202\n",
    "    frequency=3\n",
    "    axis=\"z\"\n",
    "    yuk_or_grav=\"yuk\"\n",
    "    alpha=1\n",
    "    bead_size=7.6\n",
    "    signal_sim = force_vs_time(x_sep,height_sep,stroke,frequency,axis,lambda_val,offset_y,yuk_or_grav,alpha,bead_size)\n",
    "    \n",
    "    # shift phase of signal according to TF\n",
    "        # data from Nadav's google doc [https://docs.google.com/spreadsheets/d/132wBYgWQt44M5gDtw48kFwvLDv416yS83ISfGujQUt4/edit#gid=0]\n",
    "\n",
    "    # convert to bits, this works only for one second chunk!\n",
    "        # data from Nadav's google doc [https://docs.google.com/spreadsheets/d/132wBYgWQt44M5gDtw48kFwvLDv416yS83ISfGujQUt4/edit#gid=0]\n",
    "\n",
    "    TF_phases = [1.22,0.97,0.65,0.49,0.3,0.12,0.29,0.13,0.23,0.22,0.27,0.27,0.07]    \n",
    "    if(phase_shift==\"TF\"):TF_phase_shift = TF_phases\n",
    "    elif(phase_shift==\"Flip\"):TF_phase_shift = [-1*element for element in TF_phases] # this flips\n",
    "    elif(phase_shift==\"Random_TF\"):TF_phase_shift = [1*np.random.normal(element,element/20) for element in TF_phases]\n",
    "    elif(phase_shift==\"Random\"):TF_phase_shift =  np.random.uniform(-np.pi,np.pi,len(TF_phases))\n",
    "    else:TF_phase_shift = len(TF_phases)*[0]\n",
    "    print(TF_phase_shift)\n",
    "    harmonics = np.arange(3,len(TF_phases)*3+3,3)\n",
    "\n",
    "    #print(len(TF_phase_shift))\n",
    "    # 6 charges new\n",
    "    amplitude_scale = [2.40E-17,1.35E-17,1.05E-17,9.78E-18,9.45E-18,9.81E-18,9.82E-18,1.04E-17,9.92E-18,7.50E-18,8.37E-18,7.10E-18,7.84E-18]\n",
    "\n",
    "    fft_sim = np.fft.rfft(signal_sim[1]) \n",
    "    new_fft_sim = fft_sim.copy()\n",
    "    new_fft_shift_only = fft_sim.copy()\n",
    "   # new_fft_sim[0]=1/np.mean(amplitude_scale) * np.abs(fft_sim[0]) # not necessary?\n",
    "    for harmonic in harmonics:\n",
    "        new_fft_shift_only[harmonic] = np.abs(fft_sim[harmonic])*np.exp(1j*(np.angle(fft_sim[harmonic])+TF_phase_shift[harmonic//3-1]))\n",
    "        new_fft_sim[harmonic] = 1/amplitude_scale[harmonic//3-1] * np.abs(fft_sim[harmonic])*np.exp(1j*(np.angle(fft_sim[harmonic])+TF_phase_shift[harmonic//3-1]))\n",
    "\n",
    "    signal_sim_shift=np.fft.irfft(new_fft_shift_only) \n",
    "    signal_sim_shift_scale =np.fft.irfft(new_fft_sim) \n",
    "    \n",
    "    \n",
    "    # extend to 10s\n",
    "    z_sig = repeat(signal_sim_shift_scale,10)\n",
    "    # scale to desired alpha\n",
    "    z_trans_amp = np.multiply(z_sig,alpha_scale)\n",
    "    \n",
    "    return z_trans_amp,TF_phase_shift,amplitude_scale"
   ]
  },
  {
   "cell_type": "code",
   "execution_count": 3,
   "metadata": {},
   "outputs": [],
   "source": [
    "def file_creator(in_file_paths,out_dir,direction,run_no,max_file=1000):\n",
    "    i=0\n",
    "    out_dirs=  out_dir+\"/%d/\" %run_no\n",
    "    try: os.makedirs(out_dirs)\n",
    "    except: print(\"Did not create %s. It may exist or you do not have perimissions.\" %out_dir)    \n",
    "\n",
    "    for file_path in in_file_paths:\n",
    "        #print(file_path)\n",
    "        i+=1\n",
    "        if(i<(max_file+1)):\n",
    "            #if (i % 10==0):print(\"%f percent\" %(i/max_file*100))\n",
    "            with h5py.File(file_path, 'r') as f_in:\n",
    "                quad_data_in = np.array(f_in['quad_data'])\n",
    "                data_in = quad_data_in.reshape(-1,12).T[9]\n",
    "                #plt.plot(np.array(data_in))\n",
    "                if(direction==\"push\"): z_sn = np.subtract(np.array(data_in),np.array(z_trans_amp))\n",
    "                elif(direction==\"pull\"): z_sn = np.add(np.array(data_in),np.array(z_trans_amp))\n",
    "                else: print(\"Force has to go either way\")\n",
    "                quad_data_in.reshape(-1,12).T[9] = z_sn\n",
    "                f_in.close()\n",
    "                #plt.plot(np.array(z_sn),color=\"black\")\n",
    "            out_path = out_dirs + \"Noise_batch_%d.h5\" %(i-1)\n",
    "            copyfile(src=file_path, dst=out_path)\n",
    "            with h5py.File(out_path, 'r+') as f_out:\n",
    "                del f_out['quad_data']\n",
    "                f_out.create_dataset(\"quad_data\", quad_data_in.shape,data=quad_data_in)\n",
    "                f_out.close()\n",
    "    return print(\"Done\")"
   ]
  },
  {
   "cell_type": "code",
   "execution_count": 4,
   "metadata": {},
   "outputs": [],
   "source": [
    "def file_creator_rounding_uniform_random_noise(in_file_paths,out_dir,direction,run_no,max_file=1000):\n",
    "    i=0\n",
    "    out_dirs=  out_dir+\"/%d/\" %run_no\n",
    "    try: os.makedirs(out_dirs)\n",
    "    except: print(\"Did not create %s. It may exist or you do not have perimissions.\" %out_dir)    \n",
    "\n",
    "    for file_path in in_file_paths:\n",
    "        #print(file_path)\n",
    "        i+=1\n",
    "        if(i<(max_file+1)):\n",
    "            #if (i % 10==0):print(\"%f percent\" %(i/max_file*100))\n",
    "            with h5py.File(file_path, 'r') as f_in:\n",
    "                quad_data_in = np.array(f_in['quad_data'])\n",
    "                data_in = quad_data_in.reshape(-1,12).T[9]\n",
    "                #plt.plot(np.array(data_in))\n",
    "                random_uni =np.random.uniform(-0.5,0.5,len(data_in)) # make a list of random numbers between -0.5 and 0.5\n",
    "                new_data_uni = data_in + random_uni# add them                 \n",
    "                if(direction==\"push\"): z_sn = np.subtract(np.array(new_data_uni),np.array(z_trans_amp))\n",
    "                elif(direction==\"pull\"): z_sn = np.add(np.array(new_data_uni),np.array(z_trans_amp))\n",
    "                else: print(\"Force has to go either way\")\n",
    "                \n",
    "                z_sn_round = [round(element) for element in z_sn] # round to half even\n",
    "\n",
    "                    \n",
    "                quad_data_in.reshape(-1,12).T[9] = z_sn_round\n",
    "                f_in.close()\n",
    "                #plt.plot(np.array(z_sn),color=\"black\")\n",
    "            out_path = out_dirs + \"Noise_batch_%d.h5\" %(i-1)\n",
    "            copyfile(src=file_path, dst=out_path)\n",
    "            with h5py.File(out_path, 'r+') as f_out:\n",
    "                del f_out['quad_data']\n",
    "                f_out.create_dataset(\"quad_data\", quad_data_in.shape,data=quad_data_in)\n",
    "                f_out.close()\n",
    "    return print(\"Done\")"
   ]
  },
  {
   "cell_type": "code",
   "execution_count": 5,
   "metadata": {},
   "outputs": [],
   "source": [
    "def metafile_creator(x):\n",
    "    f = open(out_dir+\"run_%d.txt\" %x, \"w\")\n",
    "    f.write(\"Run number: %d\\n alpha value: %f \\n lambda value: %f \\n direction: %s \\n %s %s \\n Amplitude scale %s\" %(run_no[x],alpha_scale_in[x],lambda_val_in[x],direction_in[x],phase_shift_in[x],str(TF_phase_shift),str(amplitude_scale)))\n",
    "    f.close()\n",
    "    return"
   ]
  },
  {
   "cell_type": "code",
   "execution_count": null,
   "metadata": {},
   "outputs": [],
   "source": []
  },
  {
   "cell_type": "code",
   "execution_count": 22,
   "metadata": {},
   "outputs": [],
   "source": [
    "in_dir = r\"/data/new_trap_processed/mockfiles/20200320/raw/noise/\"\n",
    "out_dir = r\"/data/new_trap_processed/mockfiles/20200320/output/noise/testforalex/noi1\"\n",
    "\n",
    "in_file_paths = []\n",
    "for file_path in glob.iglob(in_dir+\"*.h5\"):\n",
    "    in_file_paths.append(file_path)\n",
    "\n"
   ]
  },
  {
   "cell_type": "code",
   "execution_count": 23,
   "metadata": {},
   "outputs": [
    {
     "data": {
      "text/plain": [
       "['/data/new_trap_processed/mockfiles/20200320/raw/noise/NoShaking_1_200.h5',\n",
       " '/data/new_trap_processed/mockfiles/20200320/raw/noise/NoShaking_1_602.h5',\n",
       " '/data/new_trap_processed/mockfiles/20200320/raw/noise/NoShaking_1_728.h5',\n",
       " '/data/new_trap_processed/mockfiles/20200320/raw/noise/NoShaking_1_173.h5',\n",
       " '/data/new_trap_processed/mockfiles/20200320/raw/noise/NoShaking_1_46.h5',\n",
       " '/data/new_trap_processed/mockfiles/20200320/raw/noise/NoShaking_1_781.h5',\n",
       " '/data/new_trap_processed/mockfiles/20200320/raw/noise/NoShaking_1_407.h5',\n",
       " '/data/new_trap_processed/mockfiles/20200320/raw/noise/NoShaking_1_366.h5',\n",
       " '/data/new_trap_processed/mockfiles/20200320/raw/noise/NoShaking_1_58.h5',\n",
       " '/data/new_trap_processed/mockfiles/20200320/raw/noise/NoShaking_1_94.h5',\n",
       " '/data/new_trap_processed/mockfiles/20200320/raw/noise/NoShaking_1_639.h5',\n",
       " '/data/new_trap_processed/mockfiles/20200320/raw/noise/NoShaking_1_490.h5',\n",
       " '/data/new_trap_processed/mockfiles/20200320/raw/noise/NoShaking_1_752.h5',\n",
       " '/data/new_trap_processed/mockfiles/20200320/raw/noise/NoShaking_1_27.h5',\n",
       " '/data/new_trap_processed/mockfiles/20200320/raw/noise/NoShaking_1_109.h5',\n",
       " '/data/new_trap_processed/mockfiles/20200320/raw/noise/NoShaking_1_688.h5',\n",
       " '/data/new_trap_processed/mockfiles/20200320/raw/noise/NoShaking_1_921.h5',\n",
       " '/data/new_trap_processed/mockfiles/20200320/raw/noise/NoShaking_1_36.h5',\n",
       " '/data/new_trap_processed/mockfiles/20200320/raw/noise/NoShaking_1_892.h5',\n",
       " '/data/new_trap_processed/mockfiles/20200320/raw/noise/NoShaking_1_663.h5',\n",
       " '/data/new_trap_processed/mockfiles/20200320/raw/noise/NoShaking_1_279.h5',\n",
       " '/data/new_trap_processed/mockfiles/20200320/raw/noise/NoShaking_1_971.h5',\n",
       " '/data/new_trap_processed/mockfiles/20200320/raw/noise/NoShaking_1_134.h5',\n",
       " '/data/new_trap_processed/mockfiles/20200320/raw/noise/NoShaking_1_10.h5',\n",
       " '/data/new_trap_processed/mockfiles/20200320/raw/noise/NoShaking_1_186.h5',\n",
       " '/data/new_trap_processed/mockfiles/20200320/raw/noise/NoShaking_1_814.h5',\n",
       " '/data/new_trap_processed/mockfiles/20200320/raw/noise/NoShaking_1_250.h5',\n",
       " '/data/new_trap_processed/mockfiles/20200320/raw/noise/NoShaking_1_926.h5',\n",
       " '/data/new_trap_processed/mockfiles/20200320/raw/noise/NoShaking_1_469.h5',\n",
       " '/data/new_trap_processed/mockfiles/20200320/raw/noise/NoShaking_1_984.h5',\n",
       " '/data/new_trap_processed/mockfiles/20200320/raw/noise/NoShaking_1_874.h5',\n",
       " '/data/new_trap_processed/mockfiles/20200320/raw/noise/NoShaking_1_536.h5',\n",
       " '/data/new_trap_processed/mockfiles/20200320/raw/noise/NoShaking_1_774.h5',\n",
       " '/data/new_trap_processed/mockfiles/20200320/raw/noise/NoShaking_1_293.h5',\n",
       " '/data/new_trap_processed/mockfiles/20200320/raw/noise/NoShaking_1_165.h5',\n",
       " '/data/new_trap_processed/mockfiles/20200320/raw/noise/NoShaking_1_472.h5',\n",
       " '/data/new_trap_processed/mockfiles/20200320/raw/noise/NoShaking_1_553.h5',\n",
       " '/data/new_trap_processed/mockfiles/20200320/raw/noise/NoShaking_1_289.h5',\n",
       " '/data/new_trap_processed/mockfiles/20200320/raw/noise/NoShaking_1_222.h5',\n",
       " '/data/new_trap_processed/mockfiles/20200320/raw/noise/NoShaking_1_734.h5',\n",
       " '/data/new_trap_processed/mockfiles/20200320/raw/noise/NoShaking_1_627.h5',\n",
       " '/data/new_trap_processed/mockfiles/20200320/raw/noise/NoShaking_1_174.h5',\n",
       " '/data/new_trap_processed/mockfiles/20200320/raw/noise/NoShaking_1_514.h5',\n",
       " '/data/new_trap_processed/mockfiles/20200320/raw/noise/NoShaking_1_341.h5',\n",
       " '/data/new_trap_processed/mockfiles/20200320/raw/noise/NoShaking_1_121.h5',\n",
       " '/data/new_trap_processed/mockfiles/20200320/raw/noise/NoShaking_1_726.h5',\n",
       " '/data/new_trap_processed/mockfiles/20200320/raw/noise/NoShaking_1_704.h5',\n",
       " '/data/new_trap_processed/mockfiles/20200320/raw/noise/NoShaking_1_438.h5',\n",
       " '/data/new_trap_processed/mockfiles/20200320/raw/noise/NoShaking_1_375.h5',\n",
       " '/data/new_trap_processed/mockfiles/20200320/raw/noise/NoShaking_1_675.h5',\n",
       " '/data/new_trap_processed/mockfiles/20200320/raw/noise/NoShaking_1_549.h5',\n",
       " '/data/new_trap_processed/mockfiles/20200320/raw/noise/NoShaking_1_754.h5',\n",
       " '/data/new_trap_processed/mockfiles/20200320/raw/noise/NoShaking_1_181.h5',\n",
       " '/data/new_trap_processed/mockfiles/20200320/raw/noise/NoShaking_1_622.h5',\n",
       " '/data/new_trap_processed/mockfiles/20200320/raw/noise/NoShaking_1_342.h5',\n",
       " '/data/new_trap_processed/mockfiles/20200320/raw/noise/NoShaking_1_427.h5',\n",
       " '/data/new_trap_processed/mockfiles/20200320/raw/noise/NoShaking_1_93.h5',\n",
       " '/data/new_trap_processed/mockfiles/20200320/raw/noise/NoShaking_1_433.h5',\n",
       " '/data/new_trap_processed/mockfiles/20200320/raw/noise/NoShaking_1_882.h5',\n",
       " '/data/new_trap_processed/mockfiles/20200320/raw/noise/NoShaking_1_86.h5',\n",
       " '/data/new_trap_processed/mockfiles/20200320/raw/noise/NoShaking_1_980.h5',\n",
       " '/data/new_trap_processed/mockfiles/20200320/raw/noise/NoShaking_1_69.h5',\n",
       " '/data/new_trap_processed/mockfiles/20200320/raw/noise/NoShaking_1_77.h5',\n",
       " '/data/new_trap_processed/mockfiles/20200320/raw/noise/NoShaking_1_33.h5',\n",
       " '/data/new_trap_processed/mockfiles/20200320/raw/noise/NoShaking_1_304.h5',\n",
       " '/data/new_trap_processed/mockfiles/20200320/raw/noise/NoShaking_1_611.h5',\n",
       " '/data/new_trap_processed/mockfiles/20200320/raw/noise/NoShaking_1_626.h5',\n",
       " '/data/new_trap_processed/mockfiles/20200320/raw/noise/NoShaking_1_987.h5',\n",
       " '/data/new_trap_processed/mockfiles/20200320/raw/noise/NoShaking_1_910.h5',\n",
       " '/data/new_trap_processed/mockfiles/20200320/raw/noise/NoShaking_1_429.h5',\n",
       " '/data/new_trap_processed/mockfiles/20200320/raw/noise/NoShaking_1_565.h5',\n",
       " '/data/new_trap_processed/mockfiles/20200320/raw/noise/NoShaking_1_930.h5',\n",
       " '/data/new_trap_processed/mockfiles/20200320/raw/noise/NoShaking_1_739.h5',\n",
       " '/data/new_trap_processed/mockfiles/20200320/raw/noise/NoShaking_1_160.h5',\n",
       " '/data/new_trap_processed/mockfiles/20200320/raw/noise/NoShaking_1_644.h5',\n",
       " '/data/new_trap_processed/mockfiles/20200320/raw/noise/NoShaking_1_474.h5',\n",
       " '/data/new_trap_processed/mockfiles/20200320/raw/noise/NoShaking_1_934.h5',\n",
       " '/data/new_trap_processed/mockfiles/20200320/raw/noise/NoShaking_1_456.h5',\n",
       " '/data/new_trap_processed/mockfiles/20200320/raw/noise/NoShaking_1_346.h5',\n",
       " '/data/new_trap_processed/mockfiles/20200320/raw/noise/NoShaking_1_459.h5',\n",
       " '/data/new_trap_processed/mockfiles/20200320/raw/noise/NoShaking_1_840.h5',\n",
       " '/data/new_trap_processed/mockfiles/20200320/raw/noise/NoShaking_1_402.h5',\n",
       " '/data/new_trap_processed/mockfiles/20200320/raw/noise/NoShaking_1_55.h5',\n",
       " '/data/new_trap_processed/mockfiles/20200320/raw/noise/NoShaking_1_351.h5',\n",
       " '/data/new_trap_processed/mockfiles/20200320/raw/noise/NoShaking_1_198.h5',\n",
       " '/data/new_trap_processed/mockfiles/20200320/raw/noise/NoShaking_1_820.h5',\n",
       " '/data/new_trap_processed/mockfiles/20200320/raw/noise/NoShaking_1_651.h5',\n",
       " '/data/new_trap_processed/mockfiles/20200320/raw/noise/NoShaking_1_167.h5',\n",
       " '/data/new_trap_processed/mockfiles/20200320/raw/noise/NoShaking_1_394.h5',\n",
       " '/data/new_trap_processed/mockfiles/20200320/raw/noise/NoShaking_1_431.h5',\n",
       " '/data/new_trap_processed/mockfiles/20200320/raw/noise/NoShaking_1_674.h5',\n",
       " '/data/new_trap_processed/mockfiles/20200320/raw/noise/NoShaking_1_676.h5',\n",
       " '/data/new_trap_processed/mockfiles/20200320/raw/noise/NoShaking_1_116.h5',\n",
       " '/data/new_trap_processed/mockfiles/20200320/raw/noise/NoShaking_1_702.h5',\n",
       " '/data/new_trap_processed/mockfiles/20200320/raw/noise/NoShaking_1_11.h5',\n",
       " '/data/new_trap_processed/mockfiles/20200320/raw/noise/NoShaking_1_445.h5',\n",
       " '/data/new_trap_processed/mockfiles/20200320/raw/noise/NoShaking_1_367.h5',\n",
       " '/data/new_trap_processed/mockfiles/20200320/raw/noise/NoShaking_1_307.h5',\n",
       " '/data/new_trap_processed/mockfiles/20200320/raw/noise/NoShaking_1_164.h5',\n",
       " '/data/new_trap_processed/mockfiles/20200320/raw/noise/NoShaking_1_65.h5',\n",
       " '/data/new_trap_processed/mockfiles/20200320/raw/noise/NoShaking_1_34.h5',\n",
       " '/data/new_trap_processed/mockfiles/20200320/raw/noise/NoShaking_1_287.h5',\n",
       " '/data/new_trap_processed/mockfiles/20200320/raw/noise/NoShaking_1_411.h5',\n",
       " '/data/new_trap_processed/mockfiles/20200320/raw/noise/NoShaking_1_864.h5',\n",
       " '/data/new_trap_processed/mockfiles/20200320/raw/noise/NoShaking_1_374.h5',\n",
       " '/data/new_trap_processed/mockfiles/20200320/raw/noise/NoShaking_1_699.h5',\n",
       " '/data/new_trap_processed/mockfiles/20200320/raw/noise/NoShaking_1_922.h5',\n",
       " '/data/new_trap_processed/mockfiles/20200320/raw/noise/NoShaking_1_712.h5',\n",
       " '/data/new_trap_processed/mockfiles/20200320/raw/noise/NoShaking_1_649.h5',\n",
       " '/data/new_trap_processed/mockfiles/20200320/raw/noise/NoShaking_1_511.h5',\n",
       " '/data/new_trap_processed/mockfiles/20200320/raw/noise/NoShaking_1_531.h5',\n",
       " '/data/new_trap_processed/mockfiles/20200320/raw/noise/NoShaking_1_82.h5',\n",
       " '/data/new_trap_processed/mockfiles/20200320/raw/noise/NoShaking_1_188.h5',\n",
       " '/data/new_trap_processed/mockfiles/20200320/raw/noise/NoShaking_1_246.h5',\n",
       " '/data/new_trap_processed/mockfiles/20200320/raw/noise/NoShaking_1_735.h5',\n",
       " '/data/new_trap_processed/mockfiles/20200320/raw/noise/NoShaking_1_70.h5',\n",
       " '/data/new_trap_processed/mockfiles/20200320/raw/noise/NoShaking_1_149.h5',\n",
       " '/data/new_trap_processed/mockfiles/20200320/raw/noise/NoShaking_1_286.h5',\n",
       " '/data/new_trap_processed/mockfiles/20200320/raw/noise/NoShaking_1_517.h5',\n",
       " '/data/new_trap_processed/mockfiles/20200320/raw/noise/NoShaking_1_230.h5',\n",
       " '/data/new_trap_processed/mockfiles/20200320/raw/noise/NoShaking_1_976.h5',\n",
       " '/data/new_trap_processed/mockfiles/20200320/raw/noise/NoShaking_1_135.h5',\n",
       " '/data/new_trap_processed/mockfiles/20200320/raw/noise/NoShaking_1_480.h5',\n",
       " '/data/new_trap_processed/mockfiles/20200320/raw/noise/NoShaking_1_972.h5',\n",
       " '/data/new_trap_processed/mockfiles/20200320/raw/noise/NoShaking_1_481.h5',\n",
       " '/data/new_trap_processed/mockfiles/20200320/raw/noise/NoShaking_1_473.h5',\n",
       " '/data/new_trap_processed/mockfiles/20200320/raw/noise/NoShaking_1_148.h5',\n",
       " '/data/new_trap_processed/mockfiles/20200320/raw/noise/NoShaking_1_716.h5',\n",
       " '/data/new_trap_processed/mockfiles/20200320/raw/noise/NoShaking_1_479.h5',\n",
       " '/data/new_trap_processed/mockfiles/20200320/raw/noise/NoShaking_1_439.h5',\n",
       " '/data/new_trap_processed/mockfiles/20200320/raw/noise/NoShaking_1_868.h5',\n",
       " '/data/new_trap_processed/mockfiles/20200320/raw/noise/NoShaking_1_260.h5',\n",
       " '/data/new_trap_processed/mockfiles/20200320/raw/noise/NoShaking_1_787.h5',\n",
       " '/data/new_trap_processed/mockfiles/20200320/raw/noise/NoShaking_1_797.h5',\n",
       " '/data/new_trap_processed/mockfiles/20200320/raw/noise/NoShaking_1_950.h5',\n",
       " '/data/new_trap_processed/mockfiles/20200320/raw/noise/NoShaking_1_6.h5',\n",
       " '/data/new_trap_processed/mockfiles/20200320/raw/noise/NoShaking_1_437.h5',\n",
       " '/data/new_trap_processed/mockfiles/20200320/raw/noise/NoShaking_1_510.h5',\n",
       " '/data/new_trap_processed/mockfiles/20200320/raw/noise/NoShaking_1_22.h5',\n",
       " '/data/new_trap_processed/mockfiles/20200320/raw/noise/NoShaking_1_854.h5',\n",
       " '/data/new_trap_processed/mockfiles/20200320/raw/noise/NoShaking_1_403.h5',\n",
       " '/data/new_trap_processed/mockfiles/20200320/raw/noise/NoShaking_1_24.h5',\n",
       " '/data/new_trap_processed/mockfiles/20200320/raw/noise/NoShaking_1_81.h5',\n",
       " '/data/new_trap_processed/mockfiles/20200320/raw/noise/NoShaking_1_681.h5',\n",
       " '/data/new_trap_processed/mockfiles/20200320/raw/noise/NoShaking_1_62.h5',\n",
       " '/data/new_trap_processed/mockfiles/20200320/raw/noise/NoShaking_1_637.h5',\n",
       " '/data/new_trap_processed/mockfiles/20200320/raw/noise/NoShaking_1_229.h5',\n",
       " '/data/new_trap_processed/mockfiles/20200320/raw/noise/NoShaking_1_114.h5',\n",
       " '/data/new_trap_processed/mockfiles/20200320/raw/noise/NoShaking_1_129.h5',\n",
       " '/data/new_trap_processed/mockfiles/20200320/raw/noise/NoShaking_1_645.h5',\n",
       " '/data/new_trap_processed/mockfiles/20200320/raw/noise/NoShaking_1_852.h5',\n",
       " '/data/new_trap_processed/mockfiles/20200320/raw/noise/NoShaking_1_305.h5',\n",
       " '/data/new_trap_processed/mockfiles/20200320/raw/noise/NoShaking_1_902.h5',\n",
       " '/data/new_trap_processed/mockfiles/20200320/raw/noise/NoShaking_1_309.h5',\n",
       " '/data/new_trap_processed/mockfiles/20200320/raw/noise/NoShaking_1_605.h5',\n",
       " '/data/new_trap_processed/mockfiles/20200320/raw/noise/NoShaking_1_557.h5',\n",
       " '/data/new_trap_processed/mockfiles/20200320/raw/noise/NoShaking_1_758.h5',\n",
       " '/data/new_trap_processed/mockfiles/20200320/raw/noise/NoShaking_1_236.h5',\n",
       " '/data/new_trap_processed/mockfiles/20200320/raw/noise/NoShaking_1_368.h5',\n",
       " '/data/new_trap_processed/mockfiles/20200320/raw/noise/NoShaking_1_635.h5',\n",
       " '/data/new_trap_processed/mockfiles/20200320/raw/noise/NoShaking_1_665.h5',\n",
       " '/data/new_trap_processed/mockfiles/20200320/raw/noise/NoShaking_1_772.h5',\n",
       " '/data/new_trap_processed/mockfiles/20200320/raw/noise/NoShaking_1_621.h5',\n",
       " '/data/new_trap_processed/mockfiles/20200320/raw/noise/NoShaking_1_385.h5',\n",
       " '/data/new_trap_processed/mockfiles/20200320/raw/noise/NoShaking_1_958.h5',\n",
       " '/data/new_trap_processed/mockfiles/20200320/raw/noise/NoShaking_1_768.h5',\n",
       " '/data/new_trap_processed/mockfiles/20200320/raw/noise/NoShaking_1_940.h5',\n",
       " '/data/new_trap_processed/mockfiles/20200320/raw/noise/NoShaking_1_314.h5',\n",
       " '/data/new_trap_processed/mockfiles/20200320/raw/noise/NoShaking_1_801.h5',\n",
       " '/data/new_trap_processed/mockfiles/20200320/raw/noise/NoShaking_1_701.h5',\n",
       " '/data/new_trap_processed/mockfiles/20200320/raw/noise/NoShaking_1_594.h5',\n",
       " '/data/new_trap_processed/mockfiles/20200320/raw/noise/NoShaking_1_97.h5',\n",
       " '/data/new_trap_processed/mockfiles/20200320/raw/noise/NoShaking_1_125.h5',\n",
       " '/data/new_trap_processed/mockfiles/20200320/raw/noise/NoShaking_1_753.h5',\n",
       " '/data/new_trap_processed/mockfiles/20200320/raw/noise/NoShaking_1_507.h5',\n",
       " '/data/new_trap_processed/mockfiles/20200320/raw/noise/NoShaking_1_706.h5',\n",
       " '/data/new_trap_processed/mockfiles/20200320/raw/noise/NoShaking_1_57.h5',\n",
       " '/data/new_trap_processed/mockfiles/20200320/raw/noise/NoShaking_1_48.h5',\n",
       " '/data/new_trap_processed/mockfiles/20200320/raw/noise/NoShaking_1_42.h5',\n",
       " '/data/new_trap_processed/mockfiles/20200320/raw/noise/NoShaking_1_579.h5',\n",
       " '/data/new_trap_processed/mockfiles/20200320/raw/noise/NoShaking_1_678.h5',\n",
       " '/data/new_trap_processed/mockfiles/20200320/raw/noise/NoShaking_1_807.h5',\n",
       " '/data/new_trap_processed/mockfiles/20200320/raw/noise/NoShaking_1_405.h5',\n",
       " '/data/new_trap_processed/mockfiles/20200320/raw/noise/NoShaking_1_192.h5',\n",
       " '/data/new_trap_processed/mockfiles/20200320/raw/noise/NoShaking_1_21.h5',\n",
       " '/data/new_trap_processed/mockfiles/20200320/raw/noise/NoShaking_1_499.h5',\n",
       " '/data/new_trap_processed/mockfiles/20200320/raw/noise/NoShaking_1_498.h5',\n",
       " '/data/new_trap_processed/mockfiles/20200320/raw/noise/NoShaking_1_337.h5',\n",
       " '/data/new_trap_processed/mockfiles/20200320/raw/noise/NoShaking_1_633.h5',\n",
       " '/data/new_trap_processed/mockfiles/20200320/raw/noise/NoShaking_1_838.h5',\n",
       " '/data/new_trap_processed/mockfiles/20200320/raw/noise/NoShaking_1_550.h5',\n",
       " '/data/new_trap_processed/mockfiles/20200320/raw/noise/NoShaking_1_567.h5',\n",
       " '/data/new_trap_processed/mockfiles/20200320/raw/noise/NoShaking_1_743.h5',\n",
       " '/data/new_trap_processed/mockfiles/20200320/raw/noise/NoShaking_1_707.h5',\n",
       " '/data/new_trap_processed/mockfiles/20200320/raw/noise/NoShaking_1_311.h5',\n",
       " '/data/new_trap_processed/mockfiles/20200320/raw/noise/NoShaking_1_794.h5',\n",
       " '/data/new_trap_processed/mockfiles/20200320/raw/noise/NoShaking_1_742.h5',\n",
       " '/data/new_trap_processed/mockfiles/20200320/raw/noise/NoShaking_1_203.h5',\n",
       " '/data/new_trap_processed/mockfiles/20200320/raw/noise/NoShaking_1_118.h5',\n",
       " '/data/new_trap_processed/mockfiles/20200320/raw/noise/NoShaking_1_690.h5',\n",
       " '/data/new_trap_processed/mockfiles/20200320/raw/noise/NoShaking_1_381.h5',\n",
       " '/data/new_trap_processed/mockfiles/20200320/raw/noise/NoShaking_1_225.h5',\n",
       " '/data/new_trap_processed/mockfiles/20200320/raw/noise/NoShaking_1_347.h5',\n",
       " '/data/new_trap_processed/mockfiles/20200320/raw/noise/NoShaking_1_862.h5',\n",
       " '/data/new_trap_processed/mockfiles/20200320/raw/noise/NoShaking_1_471.h5',\n",
       " '/data/new_trap_processed/mockfiles/20200320/raw/noise/NoShaking_1_877.h5',\n",
       " '/data/new_trap_processed/mockfiles/20200320/raw/noise/NoShaking_1_152.h5',\n",
       " '/data/new_trap_processed/mockfiles/20200320/raw/noise/NoShaking_1_92.h5',\n",
       " '/data/new_trap_processed/mockfiles/20200320/raw/noise/NoShaking_1_866.h5',\n",
       " '/data/new_trap_processed/mockfiles/20200320/raw/noise/NoShaking_1_777.h5',\n",
       " '/data/new_trap_processed/mockfiles/20200320/raw/noise/NoShaking_1_56.h5',\n",
       " '/data/new_trap_processed/mockfiles/20200320/raw/noise/NoShaking_1_461.h5',\n",
       " '/data/new_trap_processed/mockfiles/20200320/raw/noise/NoShaking_1_969.h5',\n",
       " '/data/new_trap_processed/mockfiles/20200320/raw/noise/NoShaking_1_798.h5',\n",
       " '/data/new_trap_processed/mockfiles/20200320/raw/noise/NoShaking_1_985.h5',\n",
       " '/data/new_trap_processed/mockfiles/20200320/raw/noise/NoShaking_1_84.h5',\n",
       " '/data/new_trap_processed/mockfiles/20200320/raw/noise/NoShaking_1_979.h5',\n",
       " '/data/new_trap_processed/mockfiles/20200320/raw/noise/NoShaking_1_237.h5',\n",
       " '/data/new_trap_processed/mockfiles/20200320/raw/noise/NoShaking_1_221.h5',\n",
       " '/data/new_trap_processed/mockfiles/20200320/raw/noise/NoShaking_1_506.h5',\n",
       " '/data/new_trap_processed/mockfiles/20200320/raw/noise/NoShaking_1_520.h5',\n",
       " '/data/new_trap_processed/mockfiles/20200320/raw/noise/NoShaking_1_377.h5',\n",
       " '/data/new_trap_processed/mockfiles/20200320/raw/noise/NoShaking_1_157.h5',\n",
       " '/data/new_trap_processed/mockfiles/20200320/raw/noise/NoShaking_1_724.h5',\n",
       " '/data/new_trap_processed/mockfiles/20200320/raw/noise/NoShaking_1_587.h5',\n",
       " '/data/new_trap_processed/mockfiles/20200320/raw/noise/NoShaking_1_856.h5',\n",
       " '/data/new_trap_processed/mockfiles/20200320/raw/noise/NoShaking_1_629.h5',\n",
       " '/data/new_trap_processed/mockfiles/20200320/raw/noise/NoShaking_1_440.h5',\n",
       " '/data/new_trap_processed/mockfiles/20200320/raw/noise/NoShaking_1_105.h5',\n",
       " '/data/new_trap_processed/mockfiles/20200320/raw/noise/NoShaking_1_256.h5',\n",
       " '/data/new_trap_processed/mockfiles/20200320/raw/noise/NoShaking_1_392.h5',\n",
       " '/data/new_trap_processed/mockfiles/20200320/raw/noise/NoShaking_1_242.h5',\n",
       " '/data/new_trap_processed/mockfiles/20200320/raw/noise/NoShaking_1_588.h5',\n",
       " '/data/new_trap_processed/mockfiles/20200320/raw/noise/NoShaking_1_659.h5',\n",
       " '/data/new_trap_processed/mockfiles/20200320/raw/noise/NoShaking_1_388.h5',\n",
       " '/data/new_trap_processed/mockfiles/20200320/raw/noise/NoShaking_1_577.h5',\n",
       " '/data/new_trap_processed/mockfiles/20200320/raw/noise/NoShaking_1_951.h5',\n",
       " '/data/new_trap_processed/mockfiles/20200320/raw/noise/NoShaking_1_331.h5',\n",
       " '/data/new_trap_processed/mockfiles/20200320/raw/noise/NoShaking_1_379.h5',\n",
       " '/data/new_trap_processed/mockfiles/20200320/raw/noise/NoShaking_1_789.h5',\n",
       " '/data/new_trap_processed/mockfiles/20200320/raw/noise/NoShaking_1_141.h5',\n",
       " '/data/new_trap_processed/mockfiles/20200320/raw/noise/NoShaking_1_414.h5',\n",
       " '/data/new_trap_processed/mockfiles/20200320/raw/noise/NoShaking_1_751.h5',\n",
       " '/data/new_trap_processed/mockfiles/20200320/raw/noise/NoShaking_1_176.h5',\n",
       " '/data/new_trap_processed/mockfiles/20200320/raw/noise/NoShaking_1_226.h5',\n",
       " '/data/new_trap_processed/mockfiles/20200320/raw/noise/NoShaking_1_818.h5',\n",
       " '/data/new_trap_processed/mockfiles/20200320/raw/noise/NoShaking_1_117.h5',\n",
       " '/data/new_trap_processed/mockfiles/20200320/raw/noise/NoShaking_1_664.h5',\n",
       " '/data/new_trap_processed/mockfiles/20200320/raw/noise/NoShaking_1_467.h5',\n",
       " '/data/new_trap_processed/mockfiles/20200320/raw/noise/NoShaking_1_595.h5',\n",
       " '/data/new_trap_processed/mockfiles/20200320/raw/noise/NoShaking_1_978.h5',\n",
       " '/data/new_trap_processed/mockfiles/20200320/raw/noise/NoShaking_1_952.h5',\n",
       " '/data/new_trap_processed/mockfiles/20200320/raw/noise/NoShaking_1_575.h5',\n",
       " '/data/new_trap_processed/mockfiles/20200320/raw/noise/NoShaking_1_855.h5',\n",
       " '/data/new_trap_processed/mockfiles/20200320/raw/noise/NoShaking_1_757.h5',\n",
       " '/data/new_trap_processed/mockfiles/20200320/raw/noise/NoShaking_1_360.h5',\n",
       " '/data/new_trap_processed/mockfiles/20200320/raw/noise/NoShaking_1_628.h5',\n",
       " '/data/new_trap_processed/mockfiles/20200320/raw/noise/NoShaking_1_258.h5',\n",
       " '/data/new_trap_processed/mockfiles/20200320/raw/noise/NoShaking_1_616.h5',\n",
       " '/data/new_trap_processed/mockfiles/20200320/raw/noise/NoShaking_1_580.h5',\n",
       " '/data/new_trap_processed/mockfiles/20200320/raw/noise/NoShaking_1_18.h5',\n",
       " '/data/new_trap_processed/mockfiles/20200320/raw/noise/NoShaking_1_262.h5',\n",
       " '/data/new_trap_processed/mockfiles/20200320/raw/noise/NoShaking_1_147.h5',\n",
       " '/data/new_trap_processed/mockfiles/20200320/raw/noise/NoShaking_1_155.h5',\n",
       " '/data/new_trap_processed/mockfiles/20200320/raw/noise/NoShaking_1_53.h5',\n",
       " '/data/new_trap_processed/mockfiles/20200320/raw/noise/NoShaking_1_350.h5',\n",
       " '/data/new_trap_processed/mockfiles/20200320/raw/noise/NoShaking_1_64.h5',\n",
       " '/data/new_trap_processed/mockfiles/20200320/raw/noise/NoShaking_1_783.h5',\n",
       " '/data/new_trap_processed/mockfiles/20200320/raw/noise/NoShaking_1_596.h5',\n",
       " '/data/new_trap_processed/mockfiles/20200320/raw/noise/NoShaking_1_721.h5',\n",
       " '/data/new_trap_processed/mockfiles/20200320/raw/noise/NoShaking_1_190.h5',\n",
       " '/data/new_trap_processed/mockfiles/20200320/raw/noise/NoShaking_1_524.h5',\n",
       " '/data/new_trap_processed/mockfiles/20200320/raw/noise/NoShaking_1_537.h5',\n",
       " '/data/new_trap_processed/mockfiles/20200320/raw/noise/NoShaking_1_849.h5',\n",
       " '/data/new_trap_processed/mockfiles/20200320/raw/noise/NoShaking_1_949.h5',\n",
       " '/data/new_trap_processed/mockfiles/20200320/raw/noise/NoShaking_1_928.h5',\n",
       " '/data/new_trap_processed/mockfiles/20200320/raw/noise/NoShaking_1_416.h5',\n",
       " '/data/new_trap_processed/mockfiles/20200320/raw/noise/NoShaking_1_973.h5',\n",
       " '/data/new_trap_processed/mockfiles/20200320/raw/noise/NoShaking_1_354.h5',\n",
       " '/data/new_trap_processed/mockfiles/20200320/raw/noise/NoShaking_1_518.h5',\n",
       " '/data/new_trap_processed/mockfiles/20200320/raw/noise/NoShaking_1_569.h5',\n",
       " '/data/new_trap_processed/mockfiles/20200320/raw/noise/NoShaking_1_658.h5',\n",
       " '/data/new_trap_processed/mockfiles/20200320/raw/noise/NoShaking_1_364.h5',\n",
       " '/data/new_trap_processed/mockfiles/20200320/raw/noise/NoShaking_1_310.h5',\n",
       " '/data/new_trap_processed/mockfiles/20200320/raw/noise/NoShaking_1_14.h5',\n",
       " '/data/new_trap_processed/mockfiles/20200320/raw/noise/NoShaking_1_485.h5',\n",
       " '/data/new_trap_processed/mockfiles/20200320/raw/noise/NoShaking_1_810.h5',\n",
       " '/data/new_trap_processed/mockfiles/20200320/raw/noise/NoShaking_1_970.h5',\n",
       " '/data/new_trap_processed/mockfiles/20200320/raw/noise/NoShaking_1_233.h5',\n",
       " '/data/new_trap_processed/mockfiles/20200320/raw/noise/NoShaking_1_106.h5',\n",
       " '/data/new_trap_processed/mockfiles/20200320/raw/noise/NoShaking_1_327.h5',\n",
       " '/data/new_trap_processed/mockfiles/20200320/raw/noise/NoShaking_1_359.h5',\n",
       " '/data/new_trap_processed/mockfiles/20200320/raw/noise/NoShaking_1_842.h5',\n",
       " '/data/new_trap_processed/mockfiles/20200320/raw/noise/NoShaking_1_451.h5',\n",
       " '/data/new_trap_processed/mockfiles/20200320/raw/noise/NoShaking_1_683.h5',\n",
       " '/data/new_trap_processed/mockfiles/20200320/raw/noise/NoShaking_1_603.h5',\n",
       " '/data/new_trap_processed/mockfiles/20200320/raw/noise/NoShaking_1_898.h5',\n",
       " '/data/new_trap_processed/mockfiles/20200320/raw/noise/NoShaking_1_52.h5',\n",
       " '/data/new_trap_processed/mockfiles/20200320/raw/noise/NoShaking_1_748.h5',\n",
       " '/data/new_trap_processed/mockfiles/20200320/raw/noise/NoShaking_1_49.h5',\n",
       " '/data/new_trap_processed/mockfiles/20200320/raw/noise/NoShaking_1_89.h5',\n",
       " '/data/new_trap_processed/mockfiles/20200320/raw/noise/NoShaking_1_477.h5',\n",
       " '/data/new_trap_processed/mockfiles/20200320/raw/noise/NoShaking_1_457.h5',\n",
       " '/data/new_trap_processed/mockfiles/20200320/raw/noise/NoShaking_1_161.h5',\n",
       " '/data/new_trap_processed/mockfiles/20200320/raw/noise/NoShaking_1_907.h5',\n",
       " '/data/new_trap_processed/mockfiles/20200320/raw/noise/NoShaking_1_817.h5',\n",
       " '/data/new_trap_processed/mockfiles/20200320/raw/noise/NoShaking_1_282.h5',\n",
       " '/data/new_trap_processed/mockfiles/20200320/raw/noise/NoShaking_1_566.h5',\n",
       " '/data/new_trap_processed/mockfiles/20200320/raw/noise/NoShaking_1_715.h5',\n",
       " '/data/new_trap_processed/mockfiles/20200320/raw/noise/NoShaking_1_718.h5',\n",
       " '/data/new_trap_processed/mockfiles/20200320/raw/noise/NoShaking_1_830.h5',\n",
       " '/data/new_trap_processed/mockfiles/20200320/raw/noise/NoShaking_1_483.h5',\n",
       " '/data/new_trap_processed/mockfiles/20200320/raw/noise/NoShaking_1_185.h5',\n",
       " '/data/new_trap_processed/mockfiles/20200320/raw/noise/NoShaking_1_617.h5',\n",
       " '/data/new_trap_processed/mockfiles/20200320/raw/noise/NoShaking_1_317.h5',\n",
       " '/data/new_trap_processed/mockfiles/20200320/raw/noise/NoShaking_1_145.h5',\n",
       " '/data/new_trap_processed/mockfiles/20200320/raw/noise/NoShaking_1_764.h5',\n",
       " '/data/new_trap_processed/mockfiles/20200320/raw/noise/NoShaking_1_391.h5',\n",
       " '/data/new_trap_processed/mockfiles/20200320/raw/noise/NoShaking_1_604.h5',\n",
       " '/data/new_trap_processed/mockfiles/20200320/raw/noise/NoShaking_1_692.h5',\n",
       " '/data/new_trap_processed/mockfiles/20200320/raw/noise/NoShaking_1_812.h5',\n",
       " '/data/new_trap_processed/mockfiles/20200320/raw/noise/NoShaking_1_124.h5',\n",
       " '/data/new_trap_processed/mockfiles/20200320/raw/noise/NoShaking_1_642.h5',\n",
       " '/data/new_trap_processed/mockfiles/20200320/raw/noise/NoShaking_1_12.h5',\n",
       " '/data/new_trap_processed/mockfiles/20200320/raw/noise/NoShaking_1_470.h5',\n",
       " '/data/new_trap_processed/mockfiles/20200320/raw/noise/NoShaking_1_891.h5',\n",
       " '/data/new_trap_processed/mockfiles/20200320/raw/noise/NoShaking_1_253.h5',\n",
       " '/data/new_trap_processed/mockfiles/20200320/raw/noise/NoShaking_1_7.h5',\n",
       " '/data/new_trap_processed/mockfiles/20200320/raw/noise/NoShaking_1_631.h5',\n",
       " '/data/new_trap_processed/mockfiles/20200320/raw/noise/NoShaking_1_300.h5',\n",
       " '/data/new_trap_processed/mockfiles/20200320/raw/noise/NoShaking_1_586.h5',\n",
       " '/data/new_trap_processed/mockfiles/20200320/raw/noise/NoShaking_1_746.h5',\n",
       " '/data/new_trap_processed/mockfiles/20200320/raw/noise/NoShaking_1_827.h5',\n",
       " '/data/new_trap_processed/mockfiles/20200320/raw/noise/NoShaking_1_270.h5',\n",
       " '/data/new_trap_processed/mockfiles/20200320/raw/noise/NoShaking_1_466.h5',\n",
       " '/data/new_trap_processed/mockfiles/20200320/raw/noise/NoShaking_1_178.h5',\n",
       " '/data/new_trap_processed/mockfiles/20200320/raw/noise/NoShaking_1_292.h5',\n",
       " '/data/new_trap_processed/mockfiles/20200320/raw/noise/NoShaking_1_562.h5',\n",
       " '/data/new_trap_processed/mockfiles/20200320/raw/noise/NoShaking_1_316.h5',\n",
       " '/data/new_trap_processed/mockfiles/20200320/raw/noise/NoShaking_1_831.h5',\n",
       " '/data/new_trap_processed/mockfiles/20200320/raw/noise/NoShaking_1_273.h5',\n",
       " '/data/new_trap_processed/mockfiles/20200320/raw/noise/NoShaking_1_956.h5',\n",
       " '/data/new_trap_processed/mockfiles/20200320/raw/noise/NoShaking_1_410.h5',\n",
       " '/data/new_trap_processed/mockfiles/20200320/raw/noise/NoShaking_1_217.h5',\n",
       " '/data/new_trap_processed/mockfiles/20200320/raw/noise/NoShaking_1_747.h5',\n",
       " '/data/new_trap_processed/mockfiles/20200320/raw/noise/NoShaking_1_487.h5',\n",
       " '/data/new_trap_processed/mockfiles/20200320/raw/noise/NoShaking_1_261.h5',\n",
       " '/data/new_trap_processed/mockfiles/20200320/raw/noise/NoShaking_1_848.h5',\n",
       " '/data/new_trap_processed/mockfiles/20200320/raw/noise/NoShaking_1_418.h5',\n",
       " '/data/new_trap_processed/mockfiles/20200320/raw/noise/NoShaking_1_788.h5',\n",
       " '/data/new_trap_processed/mockfiles/20200320/raw/noise/NoShaking_1_35.h5',\n",
       " '/data/new_trap_processed/mockfiles/20200320/raw/noise/NoShaking_1_539.h5',\n",
       " '/data/new_trap_processed/mockfiles/20200320/raw/noise/NoShaking_1_298.h5',\n",
       " '/data/new_trap_processed/mockfiles/20200320/raw/noise/NoShaking_1_749.h5',\n",
       " '/data/new_trap_processed/mockfiles/20200320/raw/noise/NoShaking_1_873.h5',\n",
       " '/data/new_trap_processed/mockfiles/20200320/raw/noise/NoShaking_1_88.h5',\n",
       " '/data/new_trap_processed/mockfiles/20200320/raw/noise/NoShaking_1_935.h5',\n",
       " '/data/new_trap_processed/mockfiles/20200320/raw/noise/NoShaking_1_90.h5',\n",
       " '/data/new_trap_processed/mockfiles/20200320/raw/noise/NoShaking_1_833.h5',\n",
       " '/data/new_trap_processed/mockfiles/20200320/raw/noise/NoShaking_1_887.h5',\n",
       " '/data/new_trap_processed/mockfiles/20200320/raw/noise/NoShaking_1_232.h5',\n",
       " '/data/new_trap_processed/mockfiles/20200320/raw/noise/NoShaking_1_736.h5',\n",
       " '/data/new_trap_processed/mockfiles/20200320/raw/noise/NoShaking_1_805.h5',\n",
       " '/data/new_trap_processed/mockfiles/20200320/raw/noise/NoShaking_1_584.h5',\n",
       " '/data/new_trap_processed/mockfiles/20200320/raw/noise/NoShaking_1_127.h5',\n",
       " '/data/new_trap_processed/mockfiles/20200320/raw/noise/NoShaking_1_909.h5',\n",
       " '/data/new_trap_processed/mockfiles/20200320/raw/noise/NoShaking_1_296.h5',\n",
       " '/data/new_trap_processed/mockfiles/20200320/raw/noise/NoShaking_1_227.h5',\n",
       " '/data/new_trap_processed/mockfiles/20200320/raw/noise/NoShaking_1_861.h5',\n",
       " '/data/new_trap_processed/mockfiles/20200320/raw/noise/NoShaking_1_816.h5',\n",
       " '/data/new_trap_processed/mockfiles/20200320/raw/noise/NoShaking_1_938.h5',\n",
       " '/data/new_trap_processed/mockfiles/20200320/raw/noise/NoShaking_1_879.h5',\n",
       " '/data/new_trap_processed/mockfiles/20200320/raw/noise/NoShaking_1_278.h5',\n",
       " '/data/new_trap_processed/mockfiles/20200320/raw/noise/NoShaking_1_525.h5',\n",
       " '/data/new_trap_processed/mockfiles/20200320/raw/noise/NoShaking_1_782.h5',\n",
       " '/data/new_trap_processed/mockfiles/20200320/raw/noise/NoShaking_1_123.h5',\n",
       " '/data/new_trap_processed/mockfiles/20200320/raw/noise/NoShaking_1_905.h5',\n",
       " '/data/new_trap_processed/mockfiles/20200320/raw/noise/NoShaking_1_154.h5',\n",
       " '/data/new_trap_processed/mockfiles/20200320/raw/noise/NoShaking_1_83.h5',\n",
       " '/data/new_trap_processed/mockfiles/20200320/raw/noise/NoShaking_1_492.h5',\n",
       " '/data/new_trap_processed/mockfiles/20200320/raw/noise/NoShaking_1_832.h5',\n",
       " '/data/new_trap_processed/mockfiles/20200320/raw/noise/NoShaking_1_809.h5',\n",
       " '/data/new_trap_processed/mockfiles/20200320/raw/noise/NoShaking_1_598.h5',\n",
       " '/data/new_trap_processed/mockfiles/20200320/raw/noise/NoShaking_1_547.h5',\n",
       " '/data/new_trap_processed/mockfiles/20200320/raw/noise/NoShaking_1_76.h5',\n",
       " '/data/new_trap_processed/mockfiles/20200320/raw/noise/NoShaking_1_399.h5',\n",
       " '/data/new_trap_processed/mockfiles/20200320/raw/noise/NoShaking_1_515.h5',\n",
       " '/data/new_trap_processed/mockfiles/20200320/raw/noise/NoShaking_1_39.h5',\n",
       " '/data/new_trap_processed/mockfiles/20200320/raw/noise/NoShaking_1_872.h5',\n",
       " '/data/new_trap_processed/mockfiles/20200320/raw/noise/NoShaking_1_476.h5',\n",
       " '/data/new_trap_processed/mockfiles/20200320/raw/noise/NoShaking_1_382.h5',\n",
       " '/data/new_trap_processed/mockfiles/20200320/raw/noise/NoShaking_1_370.h5',\n",
       " '/data/new_trap_processed/mockfiles/20200320/raw/noise/NoShaking_1_290.h5',\n",
       " '/data/new_trap_processed/mockfiles/20200320/raw/noise/NoShaking_1_16.h5',\n",
       " '/data/new_trap_processed/mockfiles/20200320/raw/noise/NoShaking_1_544.h5',\n",
       " '/data/new_trap_processed/mockfiles/20200320/raw/noise/NoShaking_1_80.h5',\n",
       " '/data/new_trap_processed/mockfiles/20200320/raw/noise/NoShaking_1_151.h5',\n",
       " '/data/new_trap_processed/mockfiles/20200320/raw/noise/NoShaking_1_599.h5',\n",
       " '/data/new_trap_processed/mockfiles/20200320/raw/noise/NoShaking_1_625.h5',\n",
       " '/data/new_trap_processed/mockfiles/20200320/raw/noise/NoShaking_1_486.h5',\n",
       " '/data/new_trap_processed/mockfiles/20200320/raw/noise/NoShaking_1_741.h5',\n",
       " '/data/new_trap_processed/mockfiles/20200320/raw/noise/NoShaking_1_924.h5',\n",
       " '/data/new_trap_processed/mockfiles/20200320/raw/noise/NoShaking_1_395.h5',\n",
       " '/data/new_trap_processed/mockfiles/20200320/raw/noise/NoShaking_1_667.h5',\n",
       " '/data/new_trap_processed/mockfiles/20200320/raw/noise/NoShaking_1_669.h5',\n",
       " '/data/new_trap_processed/mockfiles/20200320/raw/noise/NoShaking_1_560.h5',\n",
       " '/data/new_trap_processed/mockfiles/20200320/raw/noise/NoShaking_1_769.h5',\n",
       " '/data/new_trap_processed/mockfiles/20200320/raw/noise/NoShaking_1_989.h5',\n",
       " '/data/new_trap_processed/mockfiles/20200320/raw/noise/NoShaking_1_947.h5',\n",
       " '/data/new_trap_processed/mockfiles/20200320/raw/noise/NoShaking_1_535.h5',\n",
       " '/data/new_trap_processed/mockfiles/20200320/raw/noise/NoShaking_1_700.h5',\n",
       " '/data/new_trap_processed/mockfiles/20200320/raw/noise/NoShaking_1_551.h5',\n",
       " '/data/new_trap_processed/mockfiles/20200320/raw/noise/NoShaking_1_889.h5',\n",
       " '/data/new_trap_processed/mockfiles/20200320/raw/noise/NoShaking_1_26.h5',\n",
       " '/data/new_trap_processed/mockfiles/20200320/raw/noise/NoShaking_1_825.h5',\n",
       " '/data/new_trap_processed/mockfiles/20200320/raw/noise/NoShaking_1_770.h5',\n",
       " '/data/new_trap_processed/mockfiles/20200320/raw/noise/NoShaking_1_504.h5',\n",
       " '/data/new_trap_processed/mockfiles/20200320/raw/noise/NoShaking_1_528.h5',\n",
       " '/data/new_trap_processed/mockfiles/20200320/raw/noise/NoShaking_1_75.h5',\n",
       " '/data/new_trap_processed/mockfiles/20200320/raw/noise/NoShaking_1_714.h5',\n",
       " '/data/new_trap_processed/mockfiles/20200320/raw/noise/NoShaking_1_63.h5',\n",
       " '/data/new_trap_processed/mockfiles/20200320/raw/noise/NoShaking_1_583.h5',\n",
       " '/data/new_trap_processed/mockfiles/20200320/raw/noise/NoShaking_1_449.h5',\n",
       " '/data/new_trap_processed/mockfiles/20200320/raw/noise/NoShaking_1_655.h5',\n",
       " '/data/new_trap_processed/mockfiles/20200320/raw/noise/NoShaking_1_312.h5',\n",
       " '/data/new_trap_processed/mockfiles/20200320/raw/noise/NoShaking_1_851.h5',\n",
       " '/data/new_trap_processed/mockfiles/20200320/raw/noise/NoShaking_1_325.h5',\n",
       " '/data/new_trap_processed/mockfiles/20200320/raw/noise/NoShaking_1_272.h5',\n",
       " '/data/new_trap_processed/mockfiles/20200320/raw/noise/NoShaking_1_202.h5',\n",
       " '/data/new_trap_processed/mockfiles/20200320/raw/noise/NoShaking_1_31.h5',\n",
       " '/data/new_trap_processed/mockfiles/20200320/raw/noise/NoShaking_1_619.h5',\n",
       " '/data/new_trap_processed/mockfiles/20200320/raw/noise/NoShaking_1_175.h5',\n",
       " '/data/new_trap_processed/mockfiles/20200320/raw/noise/NoShaking_1_315.h5',\n",
       " '/data/new_trap_processed/mockfiles/20200320/raw/noise/NoShaking_1_890.h5',\n",
       " '/data/new_trap_processed/mockfiles/20200320/raw/noise/NoShaking_1_378.h5',\n",
       " '/data/new_trap_processed/mockfiles/20200320/raw/noise/NoShaking_1_19.h5',\n",
       " '/data/new_trap_processed/mockfiles/20200320/raw/noise/NoShaking_1_563.h5',\n",
       " '/data/new_trap_processed/mockfiles/20200320/raw/noise/NoShaking_1_903.h5',\n",
       " '/data/new_trap_processed/mockfiles/20200320/raw/noise/NoShaking_1_552.h5',\n",
       " '/data/new_trap_processed/mockfiles/20200320/raw/noise/NoShaking_1_280.h5',\n",
       " '/data/new_trap_processed/mockfiles/20200320/raw/noise/NoShaking_1_776.h5',\n",
       " '/data/new_trap_processed/mockfiles/20200320/raw/noise/NoShaking_1_447.h5',\n",
       " '/data/new_trap_processed/mockfiles/20200320/raw/noise/NoShaking_1_408.h5',\n",
       " '/data/new_trap_processed/mockfiles/20200320/raw/noise/NoShaking_1_729.h5',\n",
       " '/data/new_trap_processed/mockfiles/20200320/raw/noise/NoShaking_1_29.h5',\n",
       " '/data/new_trap_processed/mockfiles/20200320/raw/noise/NoShaking_1_793.h5',\n",
       " '/data/new_trap_processed/mockfiles/20200320/raw/noise/NoShaking_1_376.h5',\n",
       " '/data/new_trap_processed/mockfiles/20200320/raw/noise/NoShaking_1_193.h5',\n",
       " '/data/new_trap_processed/mockfiles/20200320/raw/noise/NoShaking_1_209.h5',\n",
       " '/data/new_trap_processed/mockfiles/20200320/raw/noise/NoShaking_1_294.h5',\n",
       " '/data/new_trap_processed/mockfiles/20200320/raw/noise/NoShaking_1_171.h5',\n",
       " '/data/new_trap_processed/mockfiles/20200320/raw/noise/NoShaking_1_428.h5',\n",
       " '/data/new_trap_processed/mockfiles/20200320/raw/noise/NoShaking_1_615.h5',\n",
       " '/data/new_trap_processed/mockfiles/20200320/raw/noise/NoShaking_1_590.h5',\n",
       " '/data/new_trap_processed/mockfiles/20200320/raw/noise/NoShaking_1_67.h5',\n",
       " '/data/new_trap_processed/mockfiles/20200320/raw/noise/NoShaking_1_276.h5',\n",
       " '/data/new_trap_processed/mockfiles/20200320/raw/noise/NoShaking_1_893.h5',\n",
       " '/data/new_trap_processed/mockfiles/20200320/raw/noise/NoShaking_1_546.h5',\n",
       " '/data/new_trap_processed/mockfiles/20200320/raw/noise/NoShaking_1_158.h5',\n",
       " '/data/new_trap_processed/mockfiles/20200320/raw/noise/NoShaking_1_630.h5',\n",
       " '/data/new_trap_processed/mockfiles/20200320/raw/noise/NoShaking_1_128.h5',\n",
       " '/data/new_trap_processed/mockfiles/20200320/raw/noise/NoShaking_1_112.h5',\n",
       " '/data/new_trap_processed/mockfiles/20200320/raw/noise/NoShaking_1_85.h5',\n",
       " '/data/new_trap_processed/mockfiles/20200320/raw/noise/NoShaking_1_238.h5',\n",
       " '/data/new_trap_processed/mockfiles/20200320/raw/noise/NoShaking_1_28.h5',\n",
       " '/data/new_trap_processed/mockfiles/20200320/raw/noise/NoShaking_1_542.h5',\n",
       " '/data/new_trap_processed/mockfiles/20200320/raw/noise/NoShaking_1_771.h5',\n",
       " '/data/new_trap_processed/mockfiles/20200320/raw/noise/NoShaking_1_211.h5',\n",
       " '/data/new_trap_processed/mockfiles/20200320/raw/noise/NoShaking_1_413.h5',\n",
       " '/data/new_trap_processed/mockfiles/20200320/raw/noise/NoShaking_1_636.h5',\n",
       " '/data/new_trap_processed/mockfiles/20200320/raw/noise/NoShaking_1_355.h5',\n",
       " '/data/new_trap_processed/mockfiles/20200320/raw/noise/NoShaking_1_813.h5',\n",
       " '/data/new_trap_processed/mockfiles/20200320/raw/noise/NoShaking_1_640.h5',\n",
       " '/data/new_trap_processed/mockfiles/20200320/raw/noise/NoShaking_1_223.h5',\n",
       " '/data/new_trap_processed/mockfiles/20200320/raw/noise/NoShaking_1_426.h5',\n",
       " '/data/new_trap_processed/mockfiles/20200320/raw/noise/NoShaking_1_652.h5',\n",
       " '/data/new_trap_processed/mockfiles/20200320/raw/noise/NoShaking_1_796.h5',\n",
       " '/data/new_trap_processed/mockfiles/20200320/raw/noise/NoShaking_1_925.h5',\n",
       " '/data/new_trap_processed/mockfiles/20200320/raw/noise/NoShaking_1_962.h5',\n",
       " '/data/new_trap_processed/mockfiles/20200320/raw/noise/NoShaking_1_444.h5',\n",
       " '/data/new_trap_processed/mockfiles/20200320/raw/noise/NoShaking_1_799.h5',\n",
       " '/data/new_trap_processed/mockfiles/20200320/raw/noise/NoShaking_1_380.h5',\n",
       " '/data/new_trap_processed/mockfiles/20200320/raw/noise/NoShaking_1_136.h5',\n",
       " '/data/new_trap_processed/mockfiles/20200320/raw/noise/NoShaking_1_404.h5',\n",
       " '/data/new_trap_processed/mockfiles/20200320/raw/noise/NoShaking_1_767.h5',\n",
       " '/data/new_trap_processed/mockfiles/20200320/raw/noise/NoShaking_1_224.h5',\n",
       " '/data/new_trap_processed/mockfiles/20200320/raw/noise/NoShaking_1_709.h5',\n",
       " '/data/new_trap_processed/mockfiles/20200320/raw/noise/NoShaking_1_412.h5',\n",
       " '/data/new_trap_processed/mockfiles/20200320/raw/noise/NoShaking_1_811.h5',\n",
       " '/data/new_trap_processed/mockfiles/20200320/raw/noise/NoShaking_1_159.h5',\n",
       " '/data/new_trap_processed/mockfiles/20200320/raw/noise/NoShaking_1_497.h5',\n",
       " '/data/new_trap_processed/mockfiles/20200320/raw/noise/NoShaking_1_883.h5',\n",
       " '/data/new_trap_processed/mockfiles/20200320/raw/noise/NoShaking_1_654.h5',\n",
       " '/data/new_trap_processed/mockfiles/20200320/raw/noise/NoShaking_1_496.h5',\n",
       " '/data/new_trap_processed/mockfiles/20200320/raw/noise/NoShaking_1_686.h5',\n",
       " '/data/new_trap_processed/mockfiles/20200320/raw/noise/NoShaking_1_386.h5',\n",
       " '/data/new_trap_processed/mockfiles/20200320/raw/noise/NoShaking_1_495.h5',\n",
       " '/data/new_trap_processed/mockfiles/20200320/raw/noise/NoShaking_1_554.h5',\n",
       " '/data/new_trap_processed/mockfiles/20200320/raw/noise/NoShaking_1_332.h5',\n",
       " '/data/new_trap_processed/mockfiles/20200320/raw/noise/NoShaking_1_648.h5',\n",
       " '/data/new_trap_processed/mockfiles/20200320/raw/noise/NoShaking_1_939.h5',\n",
       " '/data/new_trap_processed/mockfiles/20200320/raw/noise/NoShaking_1_885.h5',\n",
       " '/data/new_trap_processed/mockfiles/20200320/raw/noise/NoShaking_1_564.h5',\n",
       " '/data/new_trap_processed/mockfiles/20200320/raw/noise/NoShaking_1_785.h5',\n",
       " '/data/new_trap_processed/mockfiles/20200320/raw/noise/NoShaking_1_288.h5',\n",
       " '/data/new_trap_processed/mockfiles/20200320/raw/noise/NoShaking_1_522.h5',\n",
       " '/data/new_trap_processed/mockfiles/20200320/raw/noise/NoShaking_1_632.h5',\n",
       " '/data/new_trap_processed/mockfiles/20200320/raw/noise/NoShaking_1_927.h5',\n",
       " '/data/new_trap_processed/mockfiles/20200320/raw/noise/NoShaking_1_505.h5',\n",
       " '/data/new_trap_processed/mockfiles/20200320/raw/noise/NoShaking_1_144.h5',\n",
       " '/data/new_trap_processed/mockfiles/20200320/raw/noise/NoShaking_1_206.h5',\n",
       " '/data/new_trap_processed/mockfiles/20200320/raw/noise/NoShaking_1_766.h5',\n",
       " '/data/new_trap_processed/mockfiles/20200320/raw/noise/NoShaking_1_464.h5',\n",
       " '/data/new_trap_processed/mockfiles/20200320/raw/noise/NoShaking_1_745.h5',\n",
       " '/data/new_trap_processed/mockfiles/20200320/raw/noise/NoShaking_1_876.h5',\n",
       " '/data/new_trap_processed/mockfiles/20200320/raw/noise/NoShaking_1_267.h5',\n",
       " '/data/new_trap_processed/mockfiles/20200320/raw/noise/NoShaking_1_417.h5',\n",
       " '/data/new_trap_processed/mockfiles/20200320/raw/noise/NoShaking_1_822.h5',\n",
       " '/data/new_trap_processed/mockfiles/20200320/raw/noise/NoShaking_1_243.h5',\n",
       " '/data/new_trap_processed/mockfiles/20200320/raw/noise/NoShaking_1_205.h5',\n",
       " '/data/new_trap_processed/mockfiles/20200320/raw/noise/NoShaking_1_358.h5',\n",
       " '/data/new_trap_processed/mockfiles/20200320/raw/noise/NoShaking_1_779.h5',\n",
       " '/data/new_trap_processed/mockfiles/20200320/raw/noise/NoShaking_1_657.h5',\n",
       " '/data/new_trap_processed/mockfiles/20200320/raw/noise/NoShaking_1_884.h5',\n",
       " '/data/new_trap_processed/mockfiles/20200320/raw/noise/NoShaking_1_841.h5',\n",
       " '/data/new_trap_processed/mockfiles/20200320/raw/noise/NoShaking_1_738.h5',\n",
       " '/data/new_trap_processed/mockfiles/20200320/raw/noise/NoShaking_1_513.h5',\n",
       " '/data/new_trap_processed/mockfiles/20200320/raw/noise/NoShaking_1_245.h5',\n",
       " '/data/new_trap_processed/mockfiles/20200320/raw/noise/NoShaking_1_96.h5',\n",
       " '/data/new_trap_processed/mockfiles/20200320/raw/noise/NoShaking_1_606.h5',\n",
       " '/data/new_trap_processed/mockfiles/20200320/raw/noise/NoShaking_1_142.h5',\n",
       " '/data/new_trap_processed/mockfiles/20200320/raw/noise/NoShaking_1_803.h5',\n",
       " '/data/new_trap_processed/mockfiles/20200320/raw/noise/NoShaking_1_120.h5',\n",
       " '/data/new_trap_processed/mockfiles/20200320/raw/noise/NoShaking_1_107.h5',\n",
       " '/data/new_trap_processed/mockfiles/20200320/raw/noise/NoShaking_1_247.h5',\n",
       " '/data/new_trap_processed/mockfiles/20200320/raw/noise/NoShaking_1_993.h5',\n",
       " '/data/new_trap_processed/mockfiles/20200320/raw/noise/NoShaking_1_132.h5',\n",
       " '/data/new_trap_processed/mockfiles/20200320/raw/noise/NoShaking_1_867.h5',\n",
       " '/data/new_trap_processed/mockfiles/20200320/raw/noise/NoShaking_1_965.h5',\n",
       " '/data/new_trap_processed/mockfiles/20200320/raw/noise/NoShaking_1_329.h5',\n",
       " '/data/new_trap_processed/mockfiles/20200320/raw/noise/NoShaking_1_103.h5',\n",
       " '/data/new_trap_processed/mockfiles/20200320/raw/noise/NoShaking_1_328.h5',\n",
       " '/data/new_trap_processed/mockfiles/20200320/raw/noise/NoShaking_1_581.h5',\n",
       " '/data/new_trap_processed/mockfiles/20200320/raw/noise/NoShaking_1_241.h5',\n",
       " '/data/new_trap_processed/mockfiles/20200320/raw/noise/NoShaking_1_948.h5',\n",
       " '/data/new_trap_processed/mockfiles/20200320/raw/noise/NoShaking_1_914.h5',\n",
       " '/data/new_trap_processed/mockfiles/20200320/raw/noise/NoShaking_1_802.h5',\n",
       " '/data/new_trap_processed/mockfiles/20200320/raw/noise/NoShaking_1_133.h5',\n",
       " '/data/new_trap_processed/mockfiles/20200320/raw/noise/NoShaking_1_419.h5',\n",
       " '/data/new_trap_processed/mockfiles/20200320/raw/noise/NoShaking_1_823.h5',\n",
       " '/data/new_trap_processed/mockfiles/20200320/raw/noise/NoShaking_1_815.h5',\n",
       " '/data/new_trap_processed/mockfiles/20200320/raw/noise/NoShaking_1_968.h5',\n",
       " '/data/new_trap_processed/mockfiles/20200320/raw/noise/NoShaking_1_983.h5',\n",
       " '/data/new_trap_processed/mockfiles/20200320/raw/noise/NoShaking_1_703.h5',\n",
       " '/data/new_trap_processed/mockfiles/20200320/raw/noise/NoShaking_1_153.h5',\n",
       " '/data/new_trap_processed/mockfiles/20200320/raw/noise/NoShaking_1_59.h5',\n",
       " '/data/new_trap_processed/mockfiles/20200320/raw/noise/NoShaking_1_113.h5',\n",
       " '/data/new_trap_processed/mockfiles/20200320/raw/noise/NoShaking_1_475.h5',\n",
       " '/data/new_trap_processed/mockfiles/20200320/raw/noise/NoShaking_1_850.h5',\n",
       " '/data/new_trap_processed/mockfiles/20200320/raw/noise/NoShaking_1_967.h5',\n",
       " '/data/new_trap_processed/mockfiles/20200320/raw/noise/NoShaking_1_719.h5',\n",
       " '/data/new_trap_processed/mockfiles/20200320/raw/noise/NoShaking_1_710.h5',\n",
       " '/data/new_trap_processed/mockfiles/20200320/raw/noise/NoShaking_1_491.h5',\n",
       " '/data/new_trap_processed/mockfiles/20200320/raw/noise/NoShaking_1_932.h5',\n",
       " '/data/new_trap_processed/mockfiles/20200320/raw/noise/NoShaking_1_847.h5',\n",
       " '/data/new_trap_processed/mockfiles/20200320/raw/noise/NoShaking_1_453.h5',\n",
       " '/data/new_trap_processed/mockfiles/20200320/raw/noise/NoShaking_1_111.h5',\n",
       " '/data/new_trap_processed/mockfiles/20200320/raw/noise/NoShaking_1_372.h5',\n",
       " '/data/new_trap_processed/mockfiles/20200320/raw/noise/NoShaking_1_216.h5',\n",
       " '/data/new_trap_processed/mockfiles/20200320/raw/noise/NoShaking_1_875.h5',\n",
       " '/data/new_trap_processed/mockfiles/20200320/raw/noise/NoShaking_1_960.h5',\n",
       " '/data/new_trap_processed/mockfiles/20200320/raw/noise/NoShaking_1_37.h5',\n",
       " '/data/new_trap_processed/mockfiles/20200320/raw/noise/NoShaking_1_150.h5',\n",
       " '/data/new_trap_processed/mockfiles/20200320/raw/noise/NoShaking_1_3.h5',\n",
       " '/data/new_trap_processed/mockfiles/20200320/raw/noise/NoShaking_1_668.h5',\n",
       " '/data/new_trap_processed/mockfiles/20200320/raw/noise/NoShaking_1_301.h5',\n",
       " '/data/new_trap_processed/mockfiles/20200320/raw/noise/NoShaking_1_17.h5',\n",
       " '/data/new_trap_processed/mockfiles/20200320/raw/noise/NoShaking_1_708.h5',\n",
       " '/data/new_trap_processed/mockfiles/20200320/raw/noise/NoShaking_1_634.h5',\n",
       " '/data/new_trap_processed/mockfiles/20200320/raw/noise/NoShaking_1_248.h5',\n",
       " '/data/new_trap_processed/mockfiles/20200320/raw/noise/NoShaking_1_679.h5',\n",
       " '/data/new_trap_processed/mockfiles/20200320/raw/noise/NoShaking_1_54.h5',\n",
       " '/data/new_trap_processed/mockfiles/20200320/raw/noise/NoShaking_1_835.h5',\n",
       " '/data/new_trap_processed/mockfiles/20200320/raw/noise/NoShaking_1_214.h5',\n",
       " '/data/new_trap_processed/mockfiles/20200320/raw/noise/NoShaking_1_61.h5',\n",
       " '/data/new_trap_processed/mockfiles/20200320/raw/noise/NoShaking_1_177.h5',\n",
       " '/data/new_trap_processed/mockfiles/20200320/raw/noise/NoShaking_1_824.h5',\n",
       " '/data/new_trap_processed/mockfiles/20200320/raw/noise/NoShaking_1_51.h5',\n",
       " '/data/new_trap_processed/mockfiles/20200320/raw/noise/NoShaking_1_578.h5',\n",
       " '/data/new_trap_processed/mockfiles/20200320/raw/noise/NoShaking_1_508.h5',\n",
       " '/data/new_trap_processed/mockfiles/20200320/raw/noise/NoShaking_1_994.h5',\n",
       " '/data/new_trap_processed/mockfiles/20200320/raw/noise/NoShaking_1_977.h5',\n",
       " '/data/new_trap_processed/mockfiles/20200320/raw/noise/NoShaking_1_790.h5',\n",
       " '/data/new_trap_processed/mockfiles/20200320/raw/noise/NoShaking_1_369.h5',\n",
       " '/data/new_trap_processed/mockfiles/20200320/raw/noise/NoShaking_1_613.h5',\n",
       " '/data/new_trap_processed/mockfiles/20200320/raw/noise/NoShaking_1_9.h5',\n",
       " '/data/new_trap_processed/mockfiles/20200320/raw/noise/NoShaking_1_23.h5',\n",
       " '/data/new_trap_processed/mockfiles/20200320/raw/noise/NoShaking_1_720.h5',\n",
       " '/data/new_trap_processed/mockfiles/20200320/raw/noise/NoShaking_1_957.h5',\n",
       " '/data/new_trap_processed/mockfiles/20200320/raw/noise/NoShaking_1_953.h5',\n",
       " '/data/new_trap_processed/mockfiles/20200320/raw/noise/NoShaking_1_32.h5',\n",
       " '/data/new_trap_processed/mockfiles/20200320/raw/noise/NoShaking_1_800.h5',\n",
       " '/data/new_trap_processed/mockfiles/20200320/raw/noise/NoShaking_1_641.h5',\n",
       " '/data/new_trap_processed/mockfiles/20200320/raw/noise/NoShaking_1_643.h5',\n",
       " '/data/new_trap_processed/mockfiles/20200320/raw/noise/NoShaking_1_271.h5',\n",
       " '/data/new_trap_processed/mockfiles/20200320/raw/noise/NoShaking_1_991.h5',\n",
       " '/data/new_trap_processed/mockfiles/20200320/raw/noise/NoShaking_1_733.h5',\n",
       " '/data/new_trap_processed/mockfiles/20200320/raw/noise/NoShaking_1_101.h5',\n",
       " '/data/new_trap_processed/mockfiles/20200320/raw/noise/NoShaking_1_523.h5',\n",
       " '/data/new_trap_processed/mockfiles/20200320/raw/noise/NoShaking_1_4.h5',\n",
       " '/data/new_trap_processed/mockfiles/20200320/raw/noise/NoShaking_1_647.h5',\n",
       " '/data/new_trap_processed/mockfiles/20200320/raw/noise/NoShaking_1_501.h5',\n",
       " '/data/new_trap_processed/mockfiles/20200320/raw/noise/NoShaking_1_911.h5',\n",
       " '/data/new_trap_processed/mockfiles/20200320/raw/noise/NoShaking_1_836.h5',\n",
       " '/data/new_trap_processed/mockfiles/20200320/raw/noise/NoShaking_1_533.h5',\n",
       " '/data/new_trap_processed/mockfiles/20200320/raw/noise/NoShaking_1_519.h5',\n",
       " '/data/new_trap_processed/mockfiles/20200320/raw/noise/NoShaking_1_352.h5',\n",
       " '/data/new_trap_processed/mockfiles/20200320/raw/noise/NoShaking_1_961.h5',\n",
       " '/data/new_trap_processed/mockfiles/20200320/raw/noise/NoShaking_1_618.h5',\n",
       " '/data/new_trap_processed/mockfiles/20200320/raw/noise/NoShaking_1_220.h5',\n",
       " '/data/new_trap_processed/mockfiles/20200320/raw/noise/NoShaking_1_119.h5',\n",
       " '/data/new_trap_processed/mockfiles/20200320/raw/noise/NoShaking_1_792.h5',\n",
       " '/data/new_trap_processed/mockfiles/20200320/raw/noise/NoShaking_1_845.h5',\n",
       " '/data/new_trap_processed/mockfiles/20200320/raw/noise/NoShaking_1_837.h5',\n",
       " '/data/new_trap_processed/mockfiles/20200320/raw/noise/NoShaking_1_275.h5',\n",
       " '/data/new_trap_processed/mockfiles/20200320/raw/noise/NoShaking_1_146.h5',\n",
       " '/data/new_trap_processed/mockfiles/20200320/raw/noise/NoShaking_1_425.h5',\n",
       " '/data/new_trap_processed/mockfiles/20200320/raw/noise/NoShaking_1_210.h5',\n",
       " '/data/new_trap_processed/mockfiles/20200320/raw/noise/NoShaking_1_255.h5',\n",
       " '/data/new_trap_processed/mockfiles/20200320/raw/noise/NoShaking_1_521.h5',\n",
       " '/data/new_trap_processed/mockfiles/20200320/raw/noise/NoShaking_1_13.h5',\n",
       " '/data/new_trap_processed/mockfiles/20200320/raw/noise/NoShaking_1_196.h5',\n",
       " '/data/new_trap_processed/mockfiles/20200320/raw/noise/NoShaking_1_291.h5',\n",
       " '/data/new_trap_processed/mockfiles/20200320/raw/noise/NoShaking_1_638.h5',\n",
       " '/data/new_trap_processed/mockfiles/20200320/raw/noise/NoShaking_1_732.h5',\n",
       " '/data/new_trap_processed/mockfiles/20200320/raw/noise/NoShaking_1_390.h5',\n",
       " '/data/new_trap_processed/mockfiles/20200320/raw/noise/NoShaking_1_41.h5',\n",
       " '/data/new_trap_processed/mockfiles/20200320/raw/noise/NoShaking_1_422.h5',\n",
       " '/data/new_trap_processed/mockfiles/20200320/raw/noise/NoShaking_1_441.h5',\n",
       " '/data/new_trap_processed/mockfiles/20200320/raw/noise/NoShaking_1_335.h5',\n",
       " '/data/new_trap_processed/mockfiles/20200320/raw/noise/NoShaking_1_612.h5',\n",
       " '/data/new_trap_processed/mockfiles/20200320/raw/noise/NoShaking_1_184.h5',\n",
       " '/data/new_trap_processed/mockfiles/20200320/raw/noise/NoShaking_1_295.h5',\n",
       " '/data/new_trap_processed/mockfiles/20200320/raw/noise/NoShaking_1_302.h5',\n",
       " '/data/new_trap_processed/mockfiles/20200320/raw/noise/NoShaking_1_180.h5',\n",
       " '/data/new_trap_processed/mockfiles/20200320/raw/noise/NoShaking_1_334.h5',\n",
       " '/data/new_trap_processed/mockfiles/20200320/raw/noise/NoShaking_1_2.h5',\n",
       " '/data/new_trap_processed/mockfiles/20200320/raw/noise/NoShaking_1_169.h5',\n",
       " '/data/new_trap_processed/mockfiles/20200320/raw/noise/NoShaking_1_285.h5',\n",
       " '/data/new_trap_processed/mockfiles/20200320/raw/noise/NoShaking_1_213.h5',\n",
       " '/data/new_trap_processed/mockfiles/20200320/raw/noise/NoShaking_1_452.h5',\n",
       " '/data/new_trap_processed/mockfiles/20200320/raw/noise/NoShaking_1_98.h5',\n",
       " '/data/new_trap_processed/mockfiles/20200320/raw/noise/NoShaking_1_102.h5',\n",
       " '/data/new_trap_processed/mockfiles/20200320/raw/noise/NoShaking_1_986.h5',\n",
       " '/data/new_trap_processed/mockfiles/20200320/raw/noise/NoShaking_1_705.h5',\n",
       " '/data/new_trap_processed/mockfiles/20200320/raw/noise/NoShaking_1_666.h5',\n",
       " '/data/new_trap_processed/mockfiles/20200320/raw/noise/NoShaking_1_992.h5',\n",
       " '/data/new_trap_processed/mockfiles/20200320/raw/noise/NoShaking_1_786.h5',\n",
       " '/data/new_trap_processed/mockfiles/20200320/raw/noise/NoShaking_1_156.h5',\n",
       " '/data/new_trap_processed/mockfiles/20200320/raw/noise/NoShaking_1_509.h5',\n",
       " '/data/new_trap_processed/mockfiles/20200320/raw/noise/NoShaking_1_763.h5',\n",
       " '/data/new_trap_processed/mockfiles/20200320/raw/noise/NoShaking_1_323.h5',\n",
       " '/data/new_trap_processed/mockfiles/20200320/raw/noise/NoShaking_1_532.h5',\n",
       " '/data/new_trap_processed/mockfiles/20200320/raw/noise/NoShaking_1_266.h5',\n",
       " '/data/new_trap_processed/mockfiles/20200320/raw/noise/NoShaking_1_138.h5',\n",
       " '/data/new_trap_processed/mockfiles/20200320/raw/noise/NoShaking_1_600.h5',\n",
       " '/data/new_trap_processed/mockfiles/20200320/raw/noise/NoShaking_1_942.h5',\n",
       " '/data/new_trap_processed/mockfiles/20200320/raw/noise/NoShaking_1_693.h5',\n",
       " '/data/new_trap_processed/mockfiles/20200320/raw/noise/NoShaking_1_100.h5',\n",
       " '/data/new_trap_processed/mockfiles/20200320/raw/noise/NoShaking_1_321.h5',\n",
       " '/data/new_trap_processed/mockfiles/20200320/raw/noise/NoShaking_1_834.h5',\n",
       " '/data/new_trap_processed/mockfiles/20200320/raw/noise/NoShaking_1_430.h5',\n",
       " '/data/new_trap_processed/mockfiles/20200320/raw/noise/NoShaking_1_436.h5',\n",
       " '/data/new_trap_processed/mockfiles/20200320/raw/noise/NoShaking_1_899.h5',\n",
       " '/data/new_trap_processed/mockfiles/20200320/raw/noise/NoShaking_1_585.h5',\n",
       " '/data/new_trap_processed/mockfiles/20200320/raw/noise/NoShaking_1_168.h5',\n",
       " '/data/new_trap_processed/mockfiles/20200320/raw/noise/NoShaking_1_463.h5',\n",
       " '/data/new_trap_processed/mockfiles/20200320/raw/noise/NoShaking_1_482.h5',\n",
       " '/data/new_trap_processed/mockfiles/20200320/raw/noise/NoShaking_1_516.h5',\n",
       " '/data/new_trap_processed/mockfiles/20200320/raw/noise/NoShaking_1_234.h5',\n",
       " '/data/new_trap_processed/mockfiles/20200320/raw/noise/NoShaking_1_362.h5',\n",
       " '/data/new_trap_processed/mockfiles/20200320/raw/noise/NoShaking_1_197.h5',\n",
       " '/data/new_trap_processed/mockfiles/20200320/raw/noise/NoShaking_1_72.h5',\n",
       " '/data/new_trap_processed/mockfiles/20200320/raw/noise/NoShaking_1_254.h5',\n",
       " '/data/new_trap_processed/mockfiles/20200320/raw/noise/NoShaking_1_698.h5',\n",
       " '/data/new_trap_processed/mockfiles/20200320/raw/noise/NoShaking_1_43.h5',\n",
       " '/data/new_trap_processed/mockfiles/20200320/raw/noise/NoShaking_1_538.h5',\n",
       " '/data/new_trap_processed/mockfiles/20200320/raw/noise/NoShaking_1_582.h5',\n",
       " '/data/new_trap_processed/mockfiles/20200320/raw/noise/NoShaking_1_387.h5',\n",
       " '/data/new_trap_processed/mockfiles/20200320/raw/noise/NoShaking_1_975.h5',\n",
       " '/data/new_trap_processed/mockfiles/20200320/raw/noise/NoShaking_1_130.h5',\n",
       " '/data/new_trap_processed/mockfiles/20200320/raw/noise/NoShaking_1_923.h5',\n",
       " '/data/new_trap_processed/mockfiles/20200320/raw/noise/NoShaking_1_609.h5',\n",
       " '/data/new_trap_processed/mockfiles/20200320/raw/noise/NoShaking_1_918.h5',\n",
       " '/data/new_trap_processed/mockfiles/20200320/raw/noise/NoShaking_1_778.h5',\n",
       " '/data/new_trap_processed/mockfiles/20200320/raw/noise/NoShaking_1_199.h5',\n",
       " '/data/new_trap_processed/mockfiles/20200320/raw/noise/NoShaking_1_38.h5',\n",
       " '/data/new_trap_processed/mockfiles/20200320/raw/noise/NoShaking_1_593.h5',\n",
       " '/data/new_trap_processed/mockfiles/20200320/raw/noise/NoShaking_1_697.h5',\n",
       " '/data/new_trap_processed/mockfiles/20200320/raw/noise/NoShaking_1_283.h5',\n",
       " '/data/new_trap_processed/mockfiles/20200320/raw/noise/NoShaking_1_126.h5',\n",
       " '/data/new_trap_processed/mockfiles/20200320/raw/noise/NoShaking_1_711.h5',\n",
       " '/data/new_trap_processed/mockfiles/20200320/raw/noise/NoShaking_1_349.h5',\n",
       " '/data/new_trap_processed/mockfiles/20200320/raw/noise/NoShaking_1_933.h5',\n",
       " '/data/new_trap_processed/mockfiles/20200320/raw/noise/NoShaking_1_750.h5',\n",
       " '/data/new_trap_processed/mockfiles/20200320/raw/noise/NoShaking_1_880.h5',\n",
       " '/data/new_trap_processed/mockfiles/20200320/raw/noise/NoShaking_1_0.h5',\n",
       " '/data/new_trap_processed/mockfiles/20200320/raw/noise/NoShaking_1_409.h5',\n",
       " '/data/new_trap_processed/mockfiles/20200320/raw/noise/NoShaking_1_717.h5',\n",
       " '/data/new_trap_processed/mockfiles/20200320/raw/noise/NoShaking_1_646.h5',\n",
       " '/data/new_trap_processed/mockfiles/20200320/raw/noise/NoShaking_1_99.h5',\n",
       " '/data/new_trap_processed/mockfiles/20200320/raw/noise/NoShaking_1_204.h5',\n",
       " '/data/new_trap_processed/mockfiles/20200320/raw/noise/NoShaking_1_338.h5',\n",
       " '/data/new_trap_processed/mockfiles/20200320/raw/noise/NoShaking_1_888.h5',\n",
       " '/data/new_trap_processed/mockfiles/20200320/raw/noise/NoShaking_1_239.h5',\n",
       " '/data/new_trap_processed/mockfiles/20200320/raw/noise/NoShaking_1_95.h5',\n",
       " '/data/new_trap_processed/mockfiles/20200320/raw/noise/NoShaking_1_344.h5',\n",
       " '/data/new_trap_processed/mockfiles/20200320/raw/noise/NoShaking_1_608.h5',\n",
       " '/data/new_trap_processed/mockfiles/20200320/raw/noise/NoShaking_1_340.h5',\n",
       " '/data/new_trap_processed/mockfiles/20200320/raw/noise/NoShaking_1_650.h5',\n",
       " '/data/new_trap_processed/mockfiles/20200320/raw/noise/NoShaking_1_529.h5',\n",
       " '/data/new_trap_processed/mockfiles/20200320/raw/noise/NoShaking_1_870.h5',\n",
       " '/data/new_trap_processed/mockfiles/20200320/raw/noise/NoShaking_1_806.h5',\n",
       " '/data/new_trap_processed/mockfiles/20200320/raw/noise/NoShaking_1_727.h5',\n",
       " '/data/new_trap_processed/mockfiles/20200320/raw/noise/NoShaking_1_896.h5',\n",
       " '/data/new_trap_processed/mockfiles/20200320/raw/noise/NoShaking_1_228.h5',\n",
       " '/data/new_trap_processed/mockfiles/20200320/raw/noise/NoShaking_1_207.h5',\n",
       " '/data/new_trap_processed/mockfiles/20200320/raw/noise/NoShaking_1_901.h5',\n",
       " '/data/new_trap_processed/mockfiles/20200320/raw/noise/NoShaking_1_326.h5',\n",
       " '/data/new_trap_processed/mockfiles/20200320/raw/noise/NoShaking_1_40.h5',\n",
       " '/data/new_trap_processed/mockfiles/20200320/raw/noise/NoShaking_1_906.h5',\n",
       " '/data/new_trap_processed/mockfiles/20200320/raw/noise/NoShaking_1_684.h5',\n",
       " '/data/new_trap_processed/mockfiles/20200320/raw/noise/NoShaking_1_687.h5',\n",
       " '/data/new_trap_processed/mockfiles/20200320/raw/noise/NoShaking_1_860.h5',\n",
       " '/data/new_trap_processed/mockfiles/20200320/raw/noise/NoShaking_1_765.h5',\n",
       " '/data/new_trap_processed/mockfiles/20200320/raw/noise/NoShaking_1_826.h5',\n",
       " '/data/new_trap_processed/mockfiles/20200320/raw/noise/NoShaking_1_488.h5',\n",
       " '/data/new_trap_processed/mockfiles/20200320/raw/noise/NoShaking_1_79.h5',\n",
       " '/data/new_trap_processed/mockfiles/20200320/raw/noise/NoShaking_1_489.h5',\n",
       " '/data/new_trap_processed/mockfiles/20200320/raw/noise/NoShaking_1_47.h5',\n",
       " '/data/new_trap_processed/mockfiles/20200320/raw/noise/NoShaking_1_421.h5',\n",
       " '/data/new_trap_processed/mockfiles/20200320/raw/noise/NoShaking_1_737.h5',\n",
       " '/data/new_trap_processed/mockfiles/20200320/raw/noise/NoShaking_1_330.h5',\n",
       " '/data/new_trap_processed/mockfiles/20200320/raw/noise/NoShaking_1_995.h5',\n",
       " '/data/new_trap_processed/mockfiles/20200320/raw/noise/NoShaking_1_897.h5',\n",
       " '/data/new_trap_processed/mockfiles/20200320/raw/noise/NoShaking_1_555.h5',\n",
       " '/data/new_trap_processed/mockfiles/20200320/raw/noise/NoShaking_1_183.h5',\n",
       " '/data/new_trap_processed/mockfiles/20200320/raw/noise/NoShaking_1_30.h5',\n",
       " '/data/new_trap_processed/mockfiles/20200320/raw/noise/NoShaking_1_545.h5',\n",
       " '/data/new_trap_processed/mockfiles/20200320/raw/noise/NoShaking_1_339.h5',\n",
       " '/data/new_trap_processed/mockfiles/20200320/raw/noise/NoShaking_1_760.h5',\n",
       " '/data/new_trap_processed/mockfiles/20200320/raw/noise/NoShaking_1_723.h5',\n",
       " '/data/new_trap_processed/mockfiles/20200320/raw/noise/NoShaking_1_597.h5',\n",
       " '/data/new_trap_processed/mockfiles/20200320/raw/noise/NoShaking_1_963.h5',\n",
       " '/data/new_trap_processed/mockfiles/20200320/raw/noise/NoShaking_1_257.h5',\n",
       " '/data/new_trap_processed/mockfiles/20200320/raw/noise/NoShaking_1_944.h5',\n",
       " '/data/new_trap_processed/mockfiles/20200320/raw/noise/NoShaking_1_653.h5',\n",
       " '/data/new_trap_processed/mockfiles/20200320/raw/noise/NoShaking_1_363.h5',\n",
       " '/data/new_trap_processed/mockfiles/20200320/raw/noise/NoShaking_1_373.h5',\n",
       " '/data/new_trap_processed/mockfiles/20200320/raw/noise/NoShaking_1_592.h5',\n",
       " '/data/new_trap_processed/mockfiles/20200320/raw/noise/NoShaking_1_269.h5',\n",
       " '/data/new_trap_processed/mockfiles/20200320/raw/noise/NoShaking_1_610.h5',\n",
       " '/data/new_trap_processed/mockfiles/20200320/raw/noise/NoShaking_1_863.h5',\n",
       " '/data/new_trap_processed/mockfiles/20200320/raw/noise/NoShaking_1_691.h5',\n",
       " '/data/new_trap_processed/mockfiles/20200320/raw/noise/NoShaking_1_78.h5',\n",
       " '/data/new_trap_processed/mockfiles/20200320/raw/noise/NoShaking_1_996.h5',\n",
       " '/data/new_trap_processed/mockfiles/20200320/raw/noise/NoShaking_1_353.h5',\n",
       " '/data/new_trap_processed/mockfiles/20200320/raw/noise/NoShaking_1_821.h5',\n",
       " '/data/new_trap_processed/mockfiles/20200320/raw/noise/NoShaking_1_423.h5',\n",
       " '/data/new_trap_processed/mockfiles/20200320/raw/noise/NoShaking_1_936.h5',\n",
       " '/data/new_trap_processed/mockfiles/20200320/raw/noise/NoShaking_1_163.h5',\n",
       " '/data/new_trap_processed/mockfiles/20200320/raw/noise/NoShaking_1_661.h5',\n",
       " '/data/new_trap_processed/mockfiles/20200320/raw/noise/NoShaking_1_695.h5',\n",
       " '/data/new_trap_processed/mockfiles/20200320/raw/noise/NoShaking_1_268.h5',\n",
       " '/data/new_trap_processed/mockfiles/20200320/raw/noise/NoShaking_1_60.h5',\n",
       " '/data/new_trap_processed/mockfiles/20200320/raw/noise/NoShaking_1_308.h5',\n",
       " '/data/new_trap_processed/mockfiles/20200320/raw/noise/NoShaking_1_218.h5',\n",
       " '/data/new_trap_processed/mockfiles/20200320/raw/noise/NoShaking_1_398.h5',\n",
       " '/data/new_trap_processed/mockfiles/20200320/raw/noise/NoShaking_1_249.h5',\n",
       " '/data/new_trap_processed/mockfiles/20200320/raw/noise/NoShaking_1_201.h5',\n",
       " '/data/new_trap_processed/mockfiles/20200320/raw/noise/NoShaking_1_20.h5',\n",
       " '/data/new_trap_processed/mockfiles/20200320/raw/noise/NoShaking_1_913.h5',\n",
       " '/data/new_trap_processed/mockfiles/20200320/raw/noise/NoShaking_1_281.h5',\n",
       " '/data/new_trap_processed/mockfiles/20200320/raw/noise/NoShaking_1_336.h5',\n",
       " '/data/new_trap_processed/mockfiles/20200320/raw/noise/NoShaking_1_170.h5',\n",
       " '/data/new_trap_processed/mockfiles/20200320/raw/noise/NoShaking_1_744.h5',\n",
       " '/data/new_trap_processed/mockfiles/20200320/raw/noise/NoShaking_1_361.h5',\n",
       " '/data/new_trap_processed/mockfiles/20200320/raw/noise/NoShaking_1_313.h5',\n",
       " '/data/new_trap_processed/mockfiles/20200320/raw/noise/NoShaking_1_104.h5',\n",
       " '/data/new_trap_processed/mockfiles/20200320/raw/noise/NoShaking_1_263.h5',\n",
       " '/data/new_trap_processed/mockfiles/20200320/raw/noise/NoShaking_1_846.h5',\n",
       " '/data/new_trap_processed/mockfiles/20200320/raw/noise/NoShaking_1_865.h5',\n",
       " '/data/new_trap_processed/mockfiles/20200320/raw/noise/NoShaking_1_780.h5',\n",
       " '/data/new_trap_processed/mockfiles/20200320/raw/noise/NoShaking_1_548.h5',\n",
       " '/data/new_trap_processed/mockfiles/20200320/raw/noise/NoShaking_1_73.h5',\n",
       " '/data/new_trap_processed/mockfiles/20200320/raw/noise/NoShaking_1_494.h5',\n",
       " '/data/new_trap_processed/mockfiles/20200320/raw/noise/NoShaking_1_251.h5',\n",
       " '/data/new_trap_processed/mockfiles/20200320/raw/noise/NoShaking_1_572.h5',\n",
       " '/data/new_trap_processed/mockfiles/20200320/raw/noise/NoShaking_1_512.h5',\n",
       " '/data/new_trap_processed/mockfiles/20200320/raw/noise/NoShaking_1_131.h5',\n",
       " '/data/new_trap_processed/mockfiles/20200320/raw/noise/NoShaking_1_591.h5',\n",
       " '/data/new_trap_processed/mockfiles/20200320/raw/noise/NoShaking_1_500.h5',\n",
       " '/data/new_trap_processed/mockfiles/20200320/raw/noise/NoShaking_1_208.h5',\n",
       " '/data/new_trap_processed/mockfiles/20200320/raw/noise/NoShaking_1_143.h5',\n",
       " '/data/new_trap_processed/mockfiles/20200320/raw/noise/NoShaking_1_434.h5',\n",
       " '/data/new_trap_processed/mockfiles/20200320/raw/noise/NoShaking_1_859.h5',\n",
       " '/data/new_trap_processed/mockfiles/20200320/raw/noise/NoShaking_1_685.h5',\n",
       " '/data/new_trap_processed/mockfiles/20200320/raw/noise/NoShaking_1_943.h5',\n",
       " '/data/new_trap_processed/mockfiles/20200320/raw/noise/NoShaking_1_415.h5',\n",
       " '/data/new_trap_processed/mockfiles/20200320/raw/noise/NoShaking_1_87.h5',\n",
       " '/data/new_trap_processed/mockfiles/20200320/raw/noise/NoShaking_1_998.h5',\n",
       " '/data/new_trap_processed/mockfiles/20200320/raw/noise/NoShaking_1_115.h5',\n",
       " '/data/new_trap_processed/mockfiles/20200320/raw/noise/NoShaking_1_460.h5',\n",
       " '/data/new_trap_processed/mockfiles/20200320/raw/noise/NoShaking_1_74.h5',\n",
       " '/data/new_trap_processed/mockfiles/20200320/raw/noise/NoShaking_1_231.h5',\n",
       " '/data/new_trap_processed/mockfiles/20200320/raw/noise/NoShaking_1_91.h5',\n",
       " '/data/new_trap_processed/mockfiles/20200320/raw/noise/NoShaking_1_829.h5',\n",
       " '/data/new_trap_processed/mockfiles/20200320/raw/noise/NoShaking_1_570.h5',\n",
       " '/data/new_trap_processed/mockfiles/20200320/raw/noise/NoShaking_1_66.h5',\n",
       " '/data/new_trap_processed/mockfiles/20200320/raw/noise/NoShaking_1_912.h5',\n",
       " '/data/new_trap_processed/mockfiles/20200320/raw/noise/NoShaking_1_982.h5',\n",
       " '/data/new_trap_processed/mockfiles/20200320/raw/noise/NoShaking_1_904.h5',\n",
       " '/data/new_trap_processed/mockfiles/20200320/raw/noise/NoShaking_1_920.h5',\n",
       " '/data/new_trap_processed/mockfiles/20200320/raw/noise/NoShaking_1_740.h5',\n",
       " '/data/new_trap_processed/mockfiles/20200320/raw/noise/NoShaking_1_320.h5',\n",
       " '/data/new_trap_processed/mockfiles/20200320/raw/noise/NoShaking_1_468.h5',\n",
       " '/data/new_trap_processed/mockfiles/20200320/raw/noise/NoShaking_1_620.h5',\n",
       " '/data/new_trap_processed/mockfiles/20200320/raw/noise/NoShaking_1_442.h5',\n",
       " '/data/new_trap_processed/mockfiles/20200320/raw/noise/NoShaking_1_252.h5',\n",
       " '/data/new_trap_processed/mockfiles/20200320/raw/noise/NoShaking_1_561.h5',\n",
       " '/data/new_trap_processed/mockfiles/20200320/raw/noise/NoShaking_1_997.h5',\n",
       " '/data/new_trap_processed/mockfiles/20200320/raw/noise/NoShaking_1_400.h5',\n",
       " '/data/new_trap_processed/mockfiles/20200320/raw/noise/NoShaking_1_530.h5',\n",
       " '/data/new_trap_processed/mockfiles/20200320/raw/noise/NoShaking_1_931.h5',\n",
       " '/data/new_trap_processed/mockfiles/20200320/raw/noise/NoShaking_1_71.h5',\n",
       " '/data/new_trap_processed/mockfiles/20200320/raw/noise/NoShaking_1_945.h5',\n",
       " '/data/new_trap_processed/mockfiles/20200320/raw/noise/NoShaking_1_672.h5',\n",
       " '/data/new_trap_processed/mockfiles/20200320/raw/noise/NoShaking_1_348.h5',\n",
       " '/data/new_trap_processed/mockfiles/20200320/raw/noise/NoShaking_1_189.h5',\n",
       " '/data/new_trap_processed/mockfiles/20200320/raw/noise/NoShaking_1_299.h5',\n",
       " '/data/new_trap_processed/mockfiles/20200320/raw/noise/NoShaking_1_319.h5',\n",
       " '/data/new_trap_processed/mockfiles/20200320/raw/noise/NoShaking_1_284.h5',\n",
       " '/data/new_trap_processed/mockfiles/20200320/raw/noise/NoShaking_1_343.h5',\n",
       " '/data/new_trap_processed/mockfiles/20200320/raw/noise/NoShaking_1_670.h5',\n",
       " '/data/new_trap_processed/mockfiles/20200320/raw/noise/NoShaking_1_195.h5',\n",
       " '/data/new_trap_processed/mockfiles/20200320/raw/noise/NoShaking_1_454.h5',\n",
       " '/data/new_trap_processed/mockfiles/20200320/raw/noise/NoShaking_1_435.h5',\n",
       " '/data/new_trap_processed/mockfiles/20200320/raw/noise/NoShaking_1_828.h5',\n",
       " '/data/new_trap_processed/mockfiles/20200320/raw/noise/NoShaking_1_916.h5',\n",
       " '/data/new_trap_processed/mockfiles/20200320/raw/noise/NoShaking_1_356.h5',\n",
       " '/data/new_trap_processed/mockfiles/20200320/raw/noise/NoShaking_1_713.h5',\n",
       " '/data/new_trap_processed/mockfiles/20200320/raw/noise/NoShaking_1_68.h5',\n",
       " '/data/new_trap_processed/mockfiles/20200320/raw/noise/NoShaking_1_589.h5',\n",
       " '/data/new_trap_processed/mockfiles/20200320/raw/noise/NoShaking_1_345.h5',\n",
       " '/data/new_trap_processed/mockfiles/20200320/raw/noise/NoShaking_1_955.h5',\n",
       " '/data/new_trap_processed/mockfiles/20200320/raw/noise/NoShaking_1_677.h5',\n",
       " '/data/new_trap_processed/mockfiles/20200320/raw/noise/NoShaking_1_110.h5',\n",
       " '/data/new_trap_processed/mockfiles/20200320/raw/noise/NoShaking_1_917.h5',\n",
       " '/data/new_trap_processed/mockfiles/20200320/raw/noise/NoShaking_1_458.h5',\n",
       " '/data/new_trap_processed/mockfiles/20200320/raw/noise/NoShaking_1_182.h5',\n",
       " '/data/new_trap_processed/mockfiles/20200320/raw/noise/NoShaking_1_420.h5',\n",
       " '/data/new_trap_processed/mockfiles/20200320/raw/noise/NoShaking_1_465.h5',\n",
       " '/data/new_trap_processed/mockfiles/20200320/raw/noise/NoShaking_1_731.h5',\n",
       " '/data/new_trap_processed/mockfiles/20200320/raw/noise/NoShaking_1_503.h5',\n",
       " '/data/new_trap_processed/mockfiles/20200320/raw/noise/NoShaking_1_493.h5',\n",
       " '/data/new_trap_processed/mockfiles/20200320/raw/noise/NoShaking_1_389.h5',\n",
       " '/data/new_trap_processed/mockfiles/20200320/raw/noise/NoShaking_1_660.h5',\n",
       " '/data/new_trap_processed/mockfiles/20200320/raw/noise/NoShaking_1_853.h5',\n",
       " '/data/new_trap_processed/mockfiles/20200320/raw/noise/NoShaking_1_558.h5',\n",
       " '/data/new_trap_processed/mockfiles/20200320/raw/noise/NoShaking_1_274.h5',\n",
       " '/data/new_trap_processed/mockfiles/20200320/raw/noise/NoShaking_1_730.h5',\n",
       " '/data/new_trap_processed/mockfiles/20200320/raw/noise/NoShaking_1_139.h5',\n",
       " '/data/new_trap_processed/mockfiles/20200320/raw/noise/NoShaking_1_908.h5',\n",
       " '/data/new_trap_processed/mockfiles/20200320/raw/noise/NoShaking_1_696.h5',\n",
       " '/data/new_trap_processed/mockfiles/20200320/raw/noise/NoShaking_1_162.h5',\n",
       " '/data/new_trap_processed/mockfiles/20200320/raw/noise/NoShaking_1_401.h5',\n",
       " '/data/new_trap_processed/mockfiles/20200320/raw/noise/NoShaking_1_775.h5',\n",
       " '/data/new_trap_processed/mockfiles/20200320/raw/noise/NoShaking_1_762.h5',\n",
       " '/data/new_trap_processed/mockfiles/20200320/raw/noise/NoShaking_1_871.h5',\n",
       " '/data/new_trap_processed/mockfiles/20200320/raw/noise/NoShaking_1_235.h5',\n",
       " '/data/new_trap_processed/mockfiles/20200320/raw/noise/NoShaking_1_264.h5',\n",
       " '/data/new_trap_processed/mockfiles/20200320/raw/noise/NoShaking_1_990.h5',\n",
       " '/data/new_trap_processed/mockfiles/20200320/raw/noise/NoShaking_1_974.h5',\n",
       " '/data/new_trap_processed/mockfiles/20200320/raw/noise/NoShaking_1_761.h5',\n",
       " '/data/new_trap_processed/mockfiles/20200320/raw/noise/NoShaking_1_265.h5',\n",
       " '/data/new_trap_processed/mockfiles/20200320/raw/noise/NoShaking_1_137.h5',\n",
       " '/data/new_trap_processed/mockfiles/20200320/raw/noise/NoShaking_1_966.h5',\n",
       " '/data/new_trap_processed/mockfiles/20200320/raw/noise/NoShaking_1_999.h5',\n",
       " '/data/new_trap_processed/mockfiles/20200320/raw/noise/NoShaking_1_324.h5',\n",
       " '/data/new_trap_processed/mockfiles/20200320/raw/noise/NoShaking_1_662.h5',\n",
       " '/data/new_trap_processed/mockfiles/20200320/raw/noise/NoShaking_1_725.h5',\n",
       " '/data/new_trap_processed/mockfiles/20200320/raw/noise/NoShaking_1_756.h5',\n",
       " '/data/new_trap_processed/mockfiles/20200320/raw/noise/NoShaking_1_808.h5',\n",
       " '/data/new_trap_processed/mockfiles/20200320/raw/noise/NoShaking_1_455.h5',\n",
       " '/data/new_trap_processed/mockfiles/20200320/raw/noise/NoShaking_1_941.h5',\n",
       " '/data/new_trap_processed/mockfiles/20200320/raw/noise/NoShaking_1_929.h5',\n",
       " '/data/new_trap_processed/mockfiles/20200320/raw/noise/NoShaking_1_915.h5',\n",
       " '/data/new_trap_processed/mockfiles/20200320/raw/noise/NoShaking_1_371.h5',\n",
       " '/data/new_trap_processed/mockfiles/20200320/raw/noise/NoShaking_1_397.h5',\n",
       " '/data/new_trap_processed/mockfiles/20200320/raw/noise/NoShaking_1_541.h5',\n",
       " '/data/new_trap_processed/mockfiles/20200320/raw/noise/NoShaking_1_543.h5',\n",
       " '/data/new_trap_processed/mockfiles/20200320/raw/noise/NoShaking_1_50.h5',\n",
       " '/data/new_trap_processed/mockfiles/20200320/raw/noise/NoShaking_1_722.h5',\n",
       " '/data/new_trap_processed/mockfiles/20200320/raw/noise/NoShaking_1_179.h5',\n",
       " '/data/new_trap_processed/mockfiles/20200320/raw/noise/NoShaking_1_988.h5',\n",
       " '/data/new_trap_processed/mockfiles/20200320/raw/noise/NoShaking_1_108.h5',\n",
       " '/data/new_trap_processed/mockfiles/20200320/raw/noise/NoShaking_1_219.h5',\n",
       " '/data/new_trap_processed/mockfiles/20200320/raw/noise/NoShaking_1_784.h5',\n",
       " '/data/new_trap_processed/mockfiles/20200320/raw/noise/NoShaking_1_322.h5',\n",
       " '/data/new_trap_processed/mockfiles/20200320/raw/noise/NoShaking_1_601.h5',\n",
       " '/data/new_trap_processed/mockfiles/20200320/raw/noise/NoShaking_1_424.h5',\n",
       " '/data/new_trap_processed/mockfiles/20200320/raw/noise/NoShaking_1_795.h5',\n",
       " '/data/new_trap_processed/mockfiles/20200320/raw/noise/NoShaking_1_573.h5',\n",
       " '/data/new_trap_processed/mockfiles/20200320/raw/noise/NoShaking_1_8.h5',\n",
       " '/data/new_trap_processed/mockfiles/20200320/raw/noise/NoShaking_1_502.h5',\n",
       " '/data/new_trap_processed/mockfiles/20200320/raw/noise/NoShaking_1_894.h5',\n",
       " '/data/new_trap_processed/mockfiles/20200320/raw/noise/NoShaking_1_244.h5',\n",
       " '/data/new_trap_processed/mockfiles/20200320/raw/noise/NoShaking_1_576.h5',\n",
       " '/data/new_trap_processed/mockfiles/20200320/raw/noise/NoShaking_1_755.h5',\n",
       " '/data/new_trap_processed/mockfiles/20200320/raw/noise/NoShaking_1_526.h5',\n",
       " '/data/new_trap_processed/mockfiles/20200320/raw/noise/NoShaking_1_843.h5',\n",
       " '/data/new_trap_processed/mockfiles/20200320/raw/noise/NoShaking_1_858.h5',\n",
       " '/data/new_trap_processed/mockfiles/20200320/raw/noise/NoShaking_1_215.h5',\n",
       " '/data/new_trap_processed/mockfiles/20200320/raw/noise/NoShaking_1_759.h5',\n",
       " '/data/new_trap_processed/mockfiles/20200320/raw/noise/NoShaking_1_259.h5',\n",
       " '/data/new_trap_processed/mockfiles/20200320/raw/noise/NoShaking_1_556.h5',\n",
       " '/data/new_trap_processed/mockfiles/20200320/raw/noise/NoShaking_1_462.h5',\n",
       " '/data/new_trap_processed/mockfiles/20200320/raw/noise/NoShaking_1_448.h5',\n",
       " '/data/new_trap_processed/mockfiles/20200320/raw/noise/NoShaking_1_559.h5',\n",
       " '/data/new_trap_processed/mockfiles/20200320/raw/noise/NoShaking_1_886.h5',\n",
       " '/data/new_trap_processed/mockfiles/20200320/raw/noise/NoShaking_1_212.h5',\n",
       " '/data/new_trap_processed/mockfiles/20200320/raw/noise/NoShaking_1_534.h5',\n",
       " '/data/new_trap_processed/mockfiles/20200320/raw/noise/NoShaking_1_574.h5',\n",
       " '/data/new_trap_processed/mockfiles/20200320/raw/noise/NoShaking_1_656.h5',\n",
       " '/data/new_trap_processed/mockfiles/20200320/raw/noise/NoShaking_1_406.h5',\n",
       " '/data/new_trap_processed/mockfiles/20200320/raw/noise/NoShaking_1_384.h5',\n",
       " '/data/new_trap_processed/mockfiles/20200320/raw/noise/NoShaking_1_900.h5',\n",
       " '/data/new_trap_processed/mockfiles/20200320/raw/noise/NoShaking_1_819.h5',\n",
       " '/data/new_trap_processed/mockfiles/20200320/raw/noise/NoShaking_1_673.h5',\n",
       " '/data/new_trap_processed/mockfiles/20200320/raw/noise/NoShaking_1_804.h5',\n",
       " '/data/new_trap_processed/mockfiles/20200320/raw/noise/NoShaking_1_446.h5',\n",
       " '/data/new_trap_processed/mockfiles/20200320/raw/noise/NoShaking_1_194.h5',\n",
       " '/data/new_trap_processed/mockfiles/20200320/raw/noise/NoShaking_1_540.h5',\n",
       " '/data/new_trap_processed/mockfiles/20200320/raw/noise/NoShaking_1_166.h5',\n",
       " '/data/new_trap_processed/mockfiles/20200320/raw/noise/NoShaking_1_172.h5',\n",
       " '/data/new_trap_processed/mockfiles/20200320/raw/noise/NoShaking_1_450.h5',\n",
       " '/data/new_trap_processed/mockfiles/20200320/raw/noise/NoShaking_1_187.h5',\n",
       " '/data/new_trap_processed/mockfiles/20200320/raw/noise/NoShaking_1_571.h5',\n",
       " '/data/new_trap_processed/mockfiles/20200320/raw/noise/NoShaking_1_443.h5',\n",
       " '/data/new_trap_processed/mockfiles/20200320/raw/noise/NoShaking_1_607.h5',\n",
       " '/data/new_trap_processed/mockfiles/20200320/raw/noise/NoShaking_1_1.h5',\n",
       " '/data/new_trap_processed/mockfiles/20200320/raw/noise/NoShaking_1_484.h5',\n",
       " '/data/new_trap_processed/mockfiles/20200320/raw/noise/NoShaking_1_680.h5',\n",
       " '/data/new_trap_processed/mockfiles/20200320/raw/noise/NoShaking_1_45.h5',\n",
       " '/data/new_trap_processed/mockfiles/20200320/raw/noise/NoShaking_1_682.h5',\n",
       " '/data/new_trap_processed/mockfiles/20200320/raw/noise/NoShaking_1_365.h5',\n",
       " '/data/new_trap_processed/mockfiles/20200320/raw/noise/NoShaking_1_15.h5',\n",
       " '/data/new_trap_processed/mockfiles/20200320/raw/noise/NoShaking_1_937.h5',\n",
       " '/data/new_trap_processed/mockfiles/20200320/raw/noise/NoShaking_1_240.h5',\n",
       " '/data/new_trap_processed/mockfiles/20200320/raw/noise/NoShaking_1_396.h5',\n",
       " '/data/new_trap_processed/mockfiles/20200320/raw/noise/NoShaking_1_878.h5',\n",
       " '/data/new_trap_processed/mockfiles/20200320/raw/noise/NoShaking_1_306.h5',\n",
       " '/data/new_trap_processed/mockfiles/20200320/raw/noise/NoShaking_1_140.h5',\n",
       " '/data/new_trap_processed/mockfiles/20200320/raw/noise/NoShaking_1_689.h5',\n",
       " '/data/new_trap_processed/mockfiles/20200320/raw/noise/NoShaking_1_857.h5',\n",
       " '/data/new_trap_processed/mockfiles/20200320/raw/noise/NoShaking_1_122.h5',\n",
       " '/data/new_trap_processed/mockfiles/20200320/raw/noise/NoShaking_1_393.h5',\n",
       " '/data/new_trap_processed/mockfiles/20200320/raw/noise/NoShaking_1_844.h5',\n",
       " '/data/new_trap_processed/mockfiles/20200320/raw/noise/NoShaking_1_773.h5',\n",
       " '/data/new_trap_processed/mockfiles/20200320/raw/noise/NoShaking_1_25.h5',\n",
       " '/data/new_trap_processed/mockfiles/20200320/raw/noise/NoShaking_1_191.h5',\n",
       " '/data/new_trap_processed/mockfiles/20200320/raw/noise/NoShaking_1_869.h5',\n",
       " '/data/new_trap_processed/mockfiles/20200320/raw/noise/NoShaking_1_981.h5',\n",
       " '/data/new_trap_processed/mockfiles/20200320/raw/noise/NoShaking_1_5.h5',\n",
       " '/data/new_trap_processed/mockfiles/20200320/raw/noise/NoShaking_1_478.h5',\n",
       " '/data/new_trap_processed/mockfiles/20200320/raw/noise/NoShaking_1_959.h5',\n",
       " '/data/new_trap_processed/mockfiles/20200320/raw/noise/NoShaking_1_895.h5',\n",
       " '/data/new_trap_processed/mockfiles/20200320/raw/noise/NoShaking_1_297.h5',\n",
       " '/data/new_trap_processed/mockfiles/20200320/raw/noise/NoShaking_1_964.h5',\n",
       " '/data/new_trap_processed/mockfiles/20200320/raw/noise/NoShaking_1_881.h5',\n",
       " '/data/new_trap_processed/mockfiles/20200320/raw/noise/NoShaking_1_357.h5',\n",
       " '/data/new_trap_processed/mockfiles/20200320/raw/noise/NoShaking_1_318.h5',\n",
       " '/data/new_trap_processed/mockfiles/20200320/raw/noise/NoShaking_1_277.h5',\n",
       " '/data/new_trap_processed/mockfiles/20200320/raw/noise/NoShaking_1_568.h5',\n",
       " '/data/new_trap_processed/mockfiles/20200320/raw/noise/NoShaking_1_839.h5',\n",
       " '/data/new_trap_processed/mockfiles/20200320/raw/noise/NoShaking_1_671.h5',\n",
       " '/data/new_trap_processed/mockfiles/20200320/raw/noise/NoShaking_1_623.h5',\n",
       " '/data/new_trap_processed/mockfiles/20200320/raw/noise/NoShaking_1_694.h5',\n",
       " '/data/new_trap_processed/mockfiles/20200320/raw/noise/NoShaking_1_614.h5',\n",
       " '/data/new_trap_processed/mockfiles/20200320/raw/noise/NoShaking_1_946.h5',\n",
       " '/data/new_trap_processed/mockfiles/20200320/raw/noise/NoShaking_1_527.h5',\n",
       " '/data/new_trap_processed/mockfiles/20200320/raw/noise/NoShaking_1_954.h5',\n",
       " '/data/new_trap_processed/mockfiles/20200320/raw/noise/NoShaking_1_791.h5',\n",
       " '/data/new_trap_processed/mockfiles/20200320/raw/noise/NoShaking_1_624.h5',\n",
       " '/data/new_trap_processed/mockfiles/20200320/raw/noise/NoShaking_1_333.h5',\n",
       " '/data/new_trap_processed/mockfiles/20200320/raw/noise/NoShaking_1_44.h5',\n",
       " '/data/new_trap_processed/mockfiles/20200320/raw/noise/NoShaking_1_303.h5',\n",
       " '/data/new_trap_processed/mockfiles/20200320/raw/noise/NoShaking_1_383.h5',\n",
       " '/data/new_trap_processed/mockfiles/20200320/raw/noise/NoShaking_1_432.h5',\n",
       " '/data/new_trap_processed/mockfiles/20200320/raw/noise/NoShaking_1_919.h5']"
      ]
     },
     "execution_count": 23,
     "metadata": {},
     "output_type": "execute_result"
    }
   ],
   "source": [
    "in_file_paths"
   ]
  },
  {
   "cell_type": "markdown",
   "metadata": {},
   "source": [
    "z_trans_amp,TF_phase_shift,amplitude_scale = mock_injection_noise(alpha_scale=1e8,lambda_val=12,height_sep=-15.5,x_sep=13.9,offset_y=+4.9,phase_shift=\"Random\")\n",
    "file_creator(in_file_paths,out_dir,direction=\"push\",run_no=0,max_file=300)"
   ]
  },
  {
   "cell_type": "code",
   "execution_count": 7,
   "metadata": {},
   "outputs": [],
   "source": [
    "# make lists\n",
    "alpha_scale_in = [0]+[np.random.randint(80,800)*1e6 for x in range(25)]+ \\\n",
    "                [np.random.randint(8,80)*1e6 for x in range(25)]+\\\n",
    "                [np.random.randint(8,80)*1e5 for x in range(25)]+\\\n",
    "                8*[1e8]+\\\n",
    "                [np.random.randint(8,800)*1e6 for x in range(16)]\n",
    "lambda_val_in = [20]+15*[18]+5*[10]+3*[5]+2*[31]+15*[18]+5*[10]+3*[5]+2*[31]+15*[18]+5*[10]+3*[5]+2*[31]+24*[12]\n",
    "direction_in = 92*[\"pull\"]+8*[\"push\"]\n",
    "phase_shift_in = 76*[\"TF\"]+4*[\"Random_TF\"]+4*[\"Random\"]+8*[\"Flip\"]+8*[\"TF\"]"
   ]
  },
  {
   "cell_type": "code",
   "execution_count": 16,
   "metadata": {},
   "outputs": [
    {
     "name": "stdout",
     "output_type": "stream",
     "text": [
      "Loading Gravity Data... Done!\n",
      "81 9.74070978211e-06\n",
      "Loaded Yukawa Force\n",
      "[1.22, 0.97, 0.65, 0.49, 0.3, 0.12, 0.29, 0.13, 0.23, 0.22, 0.27, 0.27, 0.07]\n"
     ]
    },
    {
     "data": {
      "text/plain": [
       "(0.0, 5000.0)"
      ]
     },
     "execution_count": 16,
     "metadata": {},
     "output_type": "execute_result"
    },
    {
     "data": {
      "image/png": "[encoded data removed]",
      "text/plain": [
       "<Figure size 1152x864 with 1 Axes>"
      ]
     },
     "metadata": {
      "needs_background": "light"
     },
     "output_type": "display_data"
    }
   ],
   "source": [
    "z_sig_10,tps_s,as_s = mock_injection_noise(2e8,lambda_val=10,height_sep=-15.5,x_sep=13.9,offset_y=+4.9,phase_shift=\"TF\")\n",
    "plt.plot(z_sig_10)\n",
    "plt.xlim(0,5000)"
   ]
  },
  {
   "cell_type": "markdown",
   "metadata": {},
   "source": [
    "# make lists\n",
    "alpha_scale_in = np.geomspace(5e7,5e9,20)\n",
    "lambda_val_in = 20*[10]\n",
    "direction_in = 20*[\"pull\"]\n",
    "phase_shift_in = 20*[\"TF\"]"
   ]
  },
  {
   "cell_type": "code",
   "execution_count": 26,
   "metadata": {
    "scrolled": true
   },
   "outputs": [
    {
     "name": "stderr",
     "output_type": "stream",
     "text": [
      "\n",
      "\n",
      "  0%|          | 0/100 [00:00<?, ?it/s]\u001b[A\u001b[A"
     ]
    },
    {
     "name": "stdout",
     "output_type": "stream",
     "text": [
      "0 43\n",
      "Loading Gravity Data... Done!\n",
      "68 2.04837466632e-05\n",
      "Loaded Yukawa Force\n",
      "[1.22, 0.97, 0.65, 0.49, 0.3, 0.12, 0.29, 0.13, 0.23, 0.22, 0.27, 0.27, 0.07]\n"
     ]
    },
    {
     "name": "stderr",
     "output_type": "stream",
     "text": [
      "\n",
      "\n",
      "  1%|          | 1/100 [01:52<3:05:46, 112.59s/it]\u001b[A\u001b[A"
     ]
    },
    {
     "name": "stdout",
     "output_type": "stream",
     "text": [
      "Done\n",
      "1 17\n",
      "Loading Gravity Data... Done!\n",
      "70 1.82702700418e-05\n",
      "Loaded Yukawa Force\n",
      "[1.22, 0.97, 0.65, 0.49, 0.3, 0.12, 0.29, 0.13, 0.23, 0.22, 0.27, 0.27, 0.07]\n"
     ]
    },
    {
     "name": "stderr",
     "output_type": "stream",
     "text": [
      "\n",
      "\n",
      "  2%|▏         | 2/100 [03:28<2:55:29, 107.44s/it]\u001b[A\u001b[A"
     ]
    },
    {
     "name": "stdout",
     "output_type": "stream",
     "text": [
      "Done\n",
      "2 54\n",
      "Loading Gravity Data... Done!\n",
      "70 1.82702700418e-05\n",
      "Loaded Yukawa Force\n",
      "[1.22, 0.97, 0.65, 0.49, 0.3, 0.12, 0.29, 0.13, 0.23, 0.22, 0.27, 0.27, 0.07]\n"
     ]
    },
    {
     "name": "stderr",
     "output_type": "stream",
     "text": [
      "\n",
      "\n",
      "  3%|▎         | 3/100 [04:53<2:43:06, 100.89s/it]\u001b[A\u001b[A"
     ]
    },
    {
     "name": "stdout",
     "output_type": "stream",
     "text": [
      "Done\n",
      "3 44\n",
      "Loading Gravity Data... Done!\n",
      "70 1.82702700418e-05\n",
      "Loaded Yukawa Force\n",
      "[1.22, 0.97, 0.65, 0.49, 0.3, 0.12, 0.29, 0.13, 0.23, 0.22, 0.27, 0.27, 0.07]\n"
     ]
    },
    {
     "name": "stderr",
     "output_type": "stream",
     "text": [
      "\n",
      "\n",
      "  4%|▍         | 4/100 [06:13<2:31:20, 94.59s/it] \u001b[A\u001b[A"
     ]
    },
    {
     "name": "stdout",
     "output_type": "stream",
     "text": [
      "Done\n",
      "4 64\n",
      "Loading Gravity Data... Done!\n",
      "70 1.82702700418e-05\n",
      "Loaded Yukawa Force\n",
      "[1.22, 0.97, 0.65, 0.49, 0.3, 0.12, 0.29, 0.13, 0.23, 0.22, 0.27, 0.27, 0.07]\n"
     ]
    },
    {
     "name": "stderr",
     "output_type": "stream",
     "text": [
      "\n",
      "\n",
      "  5%|▌         | 5/100 [07:32<2:22:24, 89.94s/it]\u001b[A\u001b[A"
     ]
    },
    {
     "name": "stdout",
     "output_type": "stream",
     "text": [
      "Done\n",
      "5 81\n",
      "Loading Gravity Data... Done!\n",
      "70 1.82702700418e-05\n",
      "Loaded Yukawa Force\n",
      "[1.22, 0.97, 0.65, 0.49, 0.3, 0.12, 0.29, 0.13, 0.23, 0.22, 0.27, 0.27, 0.07]\n"
     ]
    },
    {
     "name": "stderr",
     "output_type": "stream",
     "text": [
      "\n",
      "\n",
      "  6%|▌         | 6/100 [08:52<2:16:07, 86.89s/it]\u001b[A\u001b[A"
     ]
    },
    {
     "name": "stdout",
     "output_type": "stream",
     "text": [
      "Done\n",
      "6 13\n",
      "Loading Gravity Data... Done!\n",
      "70 1.82702700418e-05\n",
      "Loaded Yukawa Force\n",
      "[1.22, 0.97, 0.65, 0.49, 0.3, 0.12, 0.29, 0.13, 0.23, 0.22, 0.27, 0.27, 0.07]\n"
     ]
    },
    {
     "name": "stderr",
     "output_type": "stream",
     "text": [
      "\n",
      "\n",
      "  7%|▋         | 7/100 [10:11<2:10:55, 84.47s/it]\u001b[A\u001b[A"
     ]
    },
    {
     "name": "stdout",
     "output_type": "stream",
     "text": [
      "Done\n",
      "7 57\n",
      "Loading Gravity Data... Done!\n",
      "70 1.82702700418e-05\n",
      "Loaded Yukawa Force\n",
      "[1.22, 0.97, 0.65, 0.49, 0.3, 0.12, 0.29, 0.13, 0.23, 0.22, 0.27, 0.27, 0.07]\n"
     ]
    },
    {
     "name": "stderr",
     "output_type": "stream",
     "text": [
      "\n",
      "\n",
      "  8%|▊         | 8/100 [11:30<2:07:18, 83.02s/it]\u001b[A\u001b[A"
     ]
    },
    {
     "name": "stdout",
     "output_type": "stream",
     "text": [
      "Done\n",
      "8 58\n",
      "Loading Gravity Data... Done!\n",
      "70 1.82702700418e-05\n",
      "Loaded Yukawa Force\n",
      "[1.22, 0.97, 0.65, 0.49, 0.3, 0.12, 0.29, 0.13, 0.23, 0.22, 0.27, 0.27, 0.07]\n"
     ]
    },
    {
     "name": "stderr",
     "output_type": "stream",
     "text": [
      "\n",
      "\n",
      "  9%|▉         | 9/100 [12:51<2:04:37, 82.17s/it]\u001b[A\u001b[A"
     ]
    },
    {
     "name": "stdout",
     "output_type": "stream",
     "text": [
      "Done\n",
      "9 84\n",
      "Loading Gravity Data... Done!\n",
      "70 1.82702700418e-05\n",
      "Loaded Yukawa Force\n",
      "[1.22, 0.97, 0.65, 0.49, 0.3, 0.12, 0.29, 0.13, 0.23, 0.22, 0.27, 0.27, 0.07]\n"
     ]
    },
    {
     "name": "stderr",
     "output_type": "stream",
     "text": [
      "\n",
      "\n",
      " 10%|█         | 10/100 [14:11<2:02:21, 81.58s/it]\u001b[A\u001b[A"
     ]
    },
    {
     "name": "stdout",
     "output_type": "stream",
     "text": [
      "Done\n",
      "10 61\n",
      "Loading Gravity Data... Done!\n",
      "70 1.82702700418e-05\n",
      "Loaded Yukawa Force\n",
      "[1.22, 0.97, 0.65, 0.49, 0.3, 0.12, 0.29, 0.13, 0.23, 0.22, 0.27, 0.27, 0.07]\n"
     ]
    },
    {
     "name": "stderr",
     "output_type": "stream",
     "text": [
      "\n",
      "\n",
      " 11%|█         | 11/100 [16:08<2:17:04, 92.41s/it]\u001b[A\u001b[A"
     ]
    },
    {
     "name": "stdout",
     "output_type": "stream",
     "text": [
      "Done\n",
      "11 53\n",
      "Loading Gravity Data... Done!\n",
      "70 1.82702700418e-05\n",
      "Loaded Yukawa Force\n",
      "[1.22, 0.97, 0.65, 0.49, 0.3, 0.12, 0.29, 0.13, 0.23, 0.22, 0.27, 0.27, 0.07]\n"
     ]
    },
    {
     "name": "stderr",
     "output_type": "stream",
     "text": [
      "\n",
      "\n",
      " 12%|█▏        | 12/100 [17:50<2:19:27, 95.08s/it]\u001b[A\u001b[A"
     ]
    },
    {
     "name": "stdout",
     "output_type": "stream",
     "text": [
      "Done\n",
      "12 24\n",
      "Loading Gravity Data... Done!\n",
      "70 1.82702700418e-05\n",
      "Loaded Yukawa Force\n",
      "[1.22, 0.97, 0.65, 0.49, 0.3, 0.12, 0.29, 0.13, 0.23, 0.22, 0.27, 0.27, 0.07]\n"
     ]
    },
    {
     "name": "stderr",
     "output_type": "stream",
     "text": [
      "\n",
      "\n",
      " 13%|█▎        | 13/100 [19:40<2:24:23, 99.58s/it]\u001b[A\u001b[A"
     ]
    },
    {
     "name": "stdout",
     "output_type": "stream",
     "text": [
      "Done\n",
      "13 79\n",
      "Loading Gravity Data... Done!\n",
      "70 1.82702700418e-05\n",
      "Loaded Yukawa Force\n",
      "[1.22, 0.97, 0.65, 0.49, 0.3, 0.12, 0.29, 0.13, 0.23, 0.22, 0.27, 0.27, 0.07]\n"
     ]
    },
    {
     "name": "stderr",
     "output_type": "stream",
     "text": [
      "\n",
      "\n",
      " 14%|█▍        | 14/100 [21:29<2:26:46, 102.40s/it]\u001b[A\u001b[A"
     ]
    },
    {
     "name": "stdout",
     "output_type": "stream",
     "text": [
      "Done\n",
      "14 6\n",
      "Loading Gravity Data... Done!\n",
      "70 1.82702700418e-05\n",
      "Loaded Yukawa Force\n",
      "[1.22, 0.97, 0.65, 0.49, 0.3, 0.12, 0.29, 0.13, 0.23, 0.22, 0.27, 0.27, 0.07]\n"
     ]
    },
    {
     "name": "stderr",
     "output_type": "stream",
     "text": [
      "\n",
      "\n",
      " 15%|█▌        | 15/100 [23:55<2:43:50, 115.66s/it]\u001b[A\u001b[A"
     ]
    },
    {
     "name": "stdout",
     "output_type": "stream",
     "text": [
      "Done\n",
      "15 9\n",
      "Loading Gravity Data... Done!\n",
      "70 1.82702700418e-05\n",
      "Loaded Yukawa Force\n",
      "[1.22, 0.97, 0.65, 0.49, 0.3, 0.12, 0.29, 0.13, 0.23, 0.22, 0.27, 0.27, 0.07]\n"
     ]
    },
    {
     "name": "stderr",
     "output_type": "stream",
     "text": [
      "\n",
      "\n",
      " 16%|█▌        | 16/100 [25:30<2:33:16, 109.48s/it]\u001b[A\u001b[A"
     ]
    },
    {
     "name": "stdout",
     "output_type": "stream",
     "text": [
      "Done\n",
      "16 62\n",
      "Loading Gravity Data... Done!\n",
      "81 9.74070978211e-06\n",
      "Loaded Yukawa Force\n",
      "[1.22, 0.97, 0.65, 0.49, 0.3, 0.12, 0.29, 0.13, 0.23, 0.22, 0.27, 0.27, 0.07]\n"
     ]
    },
    {
     "name": "stderr",
     "output_type": "stream",
     "text": [
      "\n",
      "\n",
      " 17%|█▋        | 17/100 [27:02<2:24:12, 104.25s/it]\u001b[A\u001b[A"
     ]
    },
    {
     "name": "stdout",
     "output_type": "stream",
     "text": [
      "Done\n",
      "17 12\n",
      "Loading Gravity Data... Done!\n",
      "81 9.74070978211e-06\n",
      "Loaded Yukawa Force\n",
      "[1.22, 0.97, 0.65, 0.49, 0.3, 0.12, 0.29, 0.13, 0.23, 0.22, 0.27, 0.27, 0.07]\n"
     ]
    },
    {
     "name": "stderr",
     "output_type": "stream",
     "text": [
      "\n",
      "\n",
      " 18%|█▊        | 18/100 [28:23<2:12:56, 97.27s/it] \u001b[A\u001b[A"
     ]
    },
    {
     "name": "stdout",
     "output_type": "stream",
     "text": [
      "Done\n",
      "18 99\n",
      "Loading Gravity Data... Done!\n",
      "81 9.74070978211e-06\n",
      "Loaded Yukawa Force\n",
      "[1.22, 0.97, 0.65, 0.49, 0.3, 0.12, 0.29, 0.13, 0.23, 0.22, 0.27, 0.27, 0.07]\n"
     ]
    },
    {
     "name": "stderr",
     "output_type": "stream",
     "text": [
      "\n",
      "\n",
      " 19%|█▉        | 19/100 [29:43<2:04:08, 91.96s/it]\u001b[A\u001b[A"
     ]
    },
    {
     "name": "stdout",
     "output_type": "stream",
     "text": [
      "Done\n",
      "19 23\n",
      "Loading Gravity Data... Done!\n",
      "81 9.74070978211e-06\n",
      "Loaded Yukawa Force\n",
      "[1.22, 0.97, 0.65, 0.49, 0.3, 0.12, 0.29, 0.13, 0.23, 0.22, 0.27, 0.27, 0.07]\n"
     ]
    },
    {
     "name": "stderr",
     "output_type": "stream",
     "text": [
      "\n",
      "\n",
      " 20%|██        | 20/100 [31:02<1:57:37, 88.21s/it]\u001b[A\u001b[A"
     ]
    },
    {
     "name": "stdout",
     "output_type": "stream",
     "text": [
      "Done\n",
      "20 69\n",
      "Loading Gravity Data... Done!\n",
      "81 9.74070978211e-06\n",
      "Loaded Yukawa Force\n",
      "[1.22, 0.97, 0.65, 0.49, 0.3, 0.12, 0.29, 0.13, 0.23, 0.22, 0.27, 0.27, 0.07]\n"
     ]
    },
    {
     "name": "stderr",
     "output_type": "stream",
     "text": [
      "\n",
      "\n",
      " 21%|██        | 21/100 [32:23<1:52:58, 85.80s/it]\u001b[A\u001b[A"
     ]
    },
    {
     "name": "stdout",
     "output_type": "stream",
     "text": [
      "Done\n",
      "21 49\n",
      "Loading Gravity Data... Done!\n",
      "93 4.9046048905e-06\n",
      "Loaded Yukawa Force\n",
      "[1.22, 0.97, 0.65, 0.49, 0.3, 0.12, 0.29, 0.13, 0.23, 0.22, 0.27, 0.27, 0.07]\n"
     ]
    },
    {
     "name": "stderr",
     "output_type": "stream",
     "text": [
      "\n",
      "\n",
      " 22%|██▏       | 22/100 [33:43<1:49:32, 84.27s/it]\u001b[A\u001b[A"
     ]
    },
    {
     "name": "stdout",
     "output_type": "stream",
     "text": [
      "Done\n",
      "22 63\n",
      "Loading Gravity Data... Done!\n",
      "93 4.9046048905e-06\n",
      "Loaded Yukawa Force\n",
      "[1.22, 0.97, 0.65, 0.49, 0.3, 0.12, 0.29, 0.13, 0.23, 0.22, 0.27, 0.27, 0.07]\n"
     ]
    },
    {
     "name": "stderr",
     "output_type": "stream",
     "text": [
      "\n",
      "\n",
      " 23%|██▎       | 23/100 [35:04<1:46:41, 83.14s/it]\u001b[A\u001b[A"
     ]
    },
    {
     "name": "stdout",
     "output_type": "stream",
     "text": [
      "Done\n",
      "23 47\n",
      "Loading Gravity Data... Done!\n",
      "93 4.9046048905e-06\n",
      "Loaded Yukawa Force\n",
      "[1.22, 0.97, 0.65, 0.49, 0.3, 0.12, 0.29, 0.13, 0.23, 0.22, 0.27, 0.27, 0.07]\n"
     ]
    },
    {
     "name": "stderr",
     "output_type": "stream",
     "text": [
      "\n",
      "\n",
      " 24%|██▍       | 24/100 [36:54<1:55:35, 91.26s/it]\u001b[A\u001b[A"
     ]
    },
    {
     "name": "stdout",
     "output_type": "stream",
     "text": [
      "Done\n",
      "24 65\n",
      "Loading Gravity Data... Done!\n",
      "61 3.05657389272e-05\n",
      "Loaded Yukawa Force\n",
      "[1.22, 0.97, 0.65, 0.49, 0.3, 0.12, 0.29, 0.13, 0.23, 0.22, 0.27, 0.27, 0.07]\n"
     ]
    },
    {
     "name": "stderr",
     "output_type": "stream",
     "text": [
      "\n",
      "\n",
      " 25%|██▌       | 25/100 [38:53<2:04:17, 99.43s/it]\u001b[A\u001b[A"
     ]
    },
    {
     "name": "stdout",
     "output_type": "stream",
     "text": [
      "Done\n",
      "25 30\n",
      "Loading Gravity Data... Done!\n",
      "61 3.05657389272e-05\n",
      "Loaded Yukawa Force\n",
      "[1.22, 0.97, 0.65, 0.49, 0.3, 0.12, 0.29, 0.13, 0.23, 0.22, 0.27, 0.27, 0.07]\n"
     ]
    },
    {
     "name": "stderr",
     "output_type": "stream",
     "text": [
      "\n",
      "\n",
      " 26%|██▌       | 26/100 [40:44<2:07:12, 103.14s/it]\u001b[A\u001b[A"
     ]
    },
    {
     "name": "stdout",
     "output_type": "stream",
     "text": [
      "Done\n",
      "26 87\n",
      "Loading Gravity Data... Done!\n",
      "70 1.82702700418e-05\n",
      "Loaded Yukawa Force\n",
      "[1.22, 0.97, 0.65, 0.49, 0.3, 0.12, 0.29, 0.13, 0.23, 0.22, 0.27, 0.27, 0.07]\n"
     ]
    },
    {
     "name": "stderr",
     "output_type": "stream",
     "text": [
      "\n",
      "\n",
      " 27%|██▋       | 27/100 [42:21<2:03:14, 101.30s/it]\u001b[A\u001b[A"
     ]
    },
    {
     "name": "stdout",
     "output_type": "stream",
     "text": [
      "Done\n",
      "27 20\n",
      "Loading Gravity Data... Done!\n",
      "70 1.82702700418e-05\n",
      "Loaded Yukawa Force\n",
      "[1.22, 0.97, 0.65, 0.49, 0.3, 0.12, 0.29, 0.13, 0.23, 0.22, 0.27, 0.27, 0.07]\n"
     ]
    },
    {
     "name": "stderr",
     "output_type": "stream",
     "text": [
      "\n",
      "\n",
      " 28%|██▊       | 28/100 [43:45<1:55:14, 96.03s/it] \u001b[A\u001b[A"
     ]
    },
    {
     "name": "stdout",
     "output_type": "stream",
     "text": [
      "Done\n",
      "28 72\n",
      "Loading Gravity Data... Done!\n",
      "70 1.82702700418e-05\n",
      "Loaded Yukawa Force\n",
      "[1.22, 0.97, 0.65, 0.49, 0.3, 0.12, 0.29, 0.13, 0.23, 0.22, 0.27, 0.27, 0.07]\n"
     ]
    },
    {
     "name": "stderr",
     "output_type": "stream",
     "text": [
      "\n",
      "\n",
      " 29%|██▉       | 29/100 [45:07<1:48:34, 91.75s/it]\u001b[A\u001b[A"
     ]
    },
    {
     "name": "stdout",
     "output_type": "stream",
     "text": [
      "Done\n",
      "29 16\n",
      "Loading Gravity Data... Done!\n",
      "70 1.82702700418e-05\n",
      "Loaded Yukawa Force\n",
      "[1.22, 0.97, 0.65, 0.49, 0.3, 0.12, 0.29, 0.13, 0.23, 0.22, 0.27, 0.27, 0.07]\n"
     ]
    },
    {
     "name": "stderr",
     "output_type": "stream",
     "text": [
      "\n",
      "\n",
      " 30%|███       | 30/100 [46:28<1:43:25, 88.65s/it]\u001b[A\u001b[A"
     ]
    },
    {
     "name": "stdout",
     "output_type": "stream",
     "text": [
      "Done\n",
      "30 89\n",
      "Loading Gravity Data... Done!\n",
      "70 1.82702700418e-05\n",
      "Loaded Yukawa Force\n",
      "[1.22, 0.97, 0.65, 0.49, 0.3, 0.12, 0.29, 0.13, 0.23, 0.22, 0.27, 0.27, 0.07]\n"
     ]
    },
    {
     "name": "stderr",
     "output_type": "stream",
     "text": [
      "\n",
      "\n",
      " 31%|███       | 31/100 [47:55<1:41:17, 88.08s/it]\u001b[A\u001b[A"
     ]
    },
    {
     "name": "stdout",
     "output_type": "stream",
     "text": [
      "Done\n",
      "31 96\n",
      "Loading Gravity Data... Done!\n",
      "70 1.82702700418e-05\n",
      "Loaded Yukawa Force\n",
      "[1.22, 0.97, 0.65, 0.49, 0.3, 0.12, 0.29, 0.13, 0.23, 0.22, 0.27, 0.27, 0.07]\n"
     ]
    },
    {
     "name": "stderr",
     "output_type": "stream",
     "text": [
      "\n",
      "\n",
      " 32%|███▏      | 32/100 [49:39<1:45:17, 92.90s/it]\u001b[A\u001b[A"
     ]
    },
    {
     "name": "stdout",
     "output_type": "stream",
     "text": [
      "Done\n",
      "32 19\n",
      "Loading Gravity Data... Done!\n",
      "70 1.82702700418e-05\n",
      "Loaded Yukawa Force\n",
      "[1.22, 0.97, 0.65, 0.49, 0.3, 0.12, 0.29, 0.13, 0.23, 0.22, 0.27, 0.27, 0.07]\n"
     ]
    },
    {
     "name": "stderr",
     "output_type": "stream",
     "text": [
      "\n",
      "\n",
      " 33%|███▎      | 33/100 [51:33<1:50:44, 99.18s/it]\u001b[A\u001b[A"
     ]
    },
    {
     "name": "stdout",
     "output_type": "stream",
     "text": [
      "Done\n",
      "33 10\n",
      "Loading Gravity Data... Done!\n",
      "70 1.82702700418e-05\n",
      "Loaded Yukawa Force\n",
      "[1.22, 0.97, 0.65, 0.49, 0.3, 0.12, 0.29, 0.13, 0.23, 0.22, 0.27, 0.27, 0.07]\n"
     ]
    },
    {
     "name": "stderr",
     "output_type": "stream",
     "text": [
      "\n",
      "\n",
      " 34%|███▍      | 34/100 [53:16<1:50:14, 100.22s/it]\u001b[A\u001b[A"
     ]
    },
    {
     "name": "stdout",
     "output_type": "stream",
     "text": [
      "Done\n",
      "34 0\n",
      "Loading Gravity Data... Done!\n",
      "70 1.82702700418e-05\n",
      "Loaded Yukawa Force\n",
      "[1.22, 0.97, 0.65, 0.49, 0.3, 0.12, 0.29, 0.13, 0.23, 0.22, 0.27, 0.27, 0.07]\n"
     ]
    },
    {
     "name": "stderr",
     "output_type": "stream",
     "text": [
      "\n",
      "\n",
      " 35%|███▌      | 35/100 [55:22<1:56:55, 107.93s/it]\u001b[A\u001b[A"
     ]
    },
    {
     "name": "stdout",
     "output_type": "stream",
     "text": [
      "Done\n",
      "35 27\n",
      "Loading Gravity Data... Done!\n",
      "70 1.82702700418e-05\n",
      "Loaded Yukawa Force\n",
      "[1.22, 0.97, 0.65, 0.49, 0.3, 0.12, 0.29, 0.13, 0.23, 0.22, 0.27, 0.27, 0.07]\n"
     ]
    },
    {
     "name": "stderr",
     "output_type": "stream",
     "text": [
      "\n",
      "\n",
      " 36%|███▌      | 36/100 [57:05<1:53:46, 106.66s/it]\u001b[A\u001b[A"
     ]
    },
    {
     "name": "stdout",
     "output_type": "stream",
     "text": [
      "Done\n",
      "36 90\n",
      "Loading Gravity Data... Done!\n",
      "70 1.82702700418e-05\n",
      "Loaded Yukawa Force\n",
      "[1.22, 0.97, 0.65, 0.49, 0.3, 0.12, 0.29, 0.13, 0.23, 0.22, 0.27, 0.27, 0.07]\n"
     ]
    },
    {
     "name": "stderr",
     "output_type": "stream",
     "text": [
      "\n",
      "\n",
      " 37%|███▋      | 37/100 [58:27<1:44:00, 99.05s/it] \u001b[A\u001b[A"
     ]
    },
    {
     "name": "stdout",
     "output_type": "stream",
     "text": [
      "Done\n",
      "37 4\n",
      "Loading Gravity Data... Done!\n",
      "70 1.82702700418e-05\n",
      "Loaded Yukawa Force\n",
      "[1.22, 0.97, 0.65, 0.49, 0.3, 0.12, 0.29, 0.13, 0.23, 0.22, 0.27, 0.27, 0.07]\n"
     ]
    },
    {
     "name": "stderr",
     "output_type": "stream",
     "text": [
      "\n",
      "\n",
      " 38%|███▊      | 38/100 [59:54<1:38:36, 95.43s/it]\u001b[A\u001b[A"
     ]
    },
    {
     "name": "stdout",
     "output_type": "stream",
     "text": [
      "Done\n",
      "38 7\n",
      "Loading Gravity Data... Done!\n",
      "70 1.82702700418e-05\n",
      "Loaded Yukawa Force\n",
      "[1.22, 0.97, 0.65, 0.49, 0.3, 0.12, 0.29, 0.13, 0.23, 0.22, 0.27, 0.27, 0.07]\n"
     ]
    },
    {
     "name": "stderr",
     "output_type": "stream",
     "text": [
      "\n",
      "\n",
      " 39%|███▉      | 39/100 [1:01:31<1:37:35, 95.99s/it]\u001b[A\u001b[A"
     ]
    },
    {
     "name": "stdout",
     "output_type": "stream",
     "text": [
      "Done\n",
      "39 51\n",
      "Loading Gravity Data... Done!\n",
      "70 1.82702700418e-05\n",
      "Loaded Yukawa Force\n",
      "[1.22, 0.97, 0.65, 0.49, 0.3, 0.12, 0.29, 0.13, 0.23, 0.22, 0.27, 0.27, 0.07]\n"
     ]
    },
    {
     "name": "stderr",
     "output_type": "stream",
     "text": [
      "\n",
      "\n",
      " 40%|████      | 40/100 [1:03:07<1:36:01, 96.03s/it]\u001b[A\u001b[A"
     ]
    },
    {
     "name": "stdout",
     "output_type": "stream",
     "text": [
      "Done\n",
      "40 76\n",
      "Loading Gravity Data... Done!\n",
      "70 1.82702700418e-05\n",
      "Loaded Yukawa Force\n",
      "[1.22, 0.97, 0.65, 0.49, 0.3, 0.12, 0.29, 0.13, 0.23, 0.22, 0.27, 0.27, 0.07]\n"
     ]
    },
    {
     "name": "stderr",
     "output_type": "stream",
     "text": [
      "\n",
      "\n",
      " 41%|████      | 41/100 [1:04:43<1:34:28, 96.08s/it]\u001b[A\u001b[A"
     ]
    },
    {
     "name": "stdout",
     "output_type": "stream",
     "text": [
      "Done\n",
      "41 8\n",
      "Loading Gravity Data... Done!\n",
      "81 9.74070978211e-06\n",
      "Loaded Yukawa Force\n",
      "[1.22, 0.97, 0.65, 0.49, 0.3, 0.12, 0.29, 0.13, 0.23, 0.22, 0.27, 0.27, 0.07]\n"
     ]
    },
    {
     "name": "stderr",
     "output_type": "stream",
     "text": [
      "\n",
      "\n",
      " 42%|████▏     | 42/100 [1:06:15<1:31:43, 94.88s/it]\u001b[A\u001b[A"
     ]
    },
    {
     "name": "stdout",
     "output_type": "stream",
     "text": [
      "Done\n",
      "42 92\n",
      "Loading Gravity Data... Done!\n",
      "81 9.74070978211e-06\n",
      "Loaded Yukawa Force\n",
      "[1.22, 0.97, 0.65, 0.49, 0.3, 0.12, 0.29, 0.13, 0.23, 0.22, 0.27, 0.27, 0.07]\n"
     ]
    },
    {
     "name": "stderr",
     "output_type": "stream",
     "text": [
      "\n",
      "\n",
      " 43%|████▎     | 43/100 [1:07:50<1:30:04, 94.82s/it]\u001b[A\u001b[A"
     ]
    },
    {
     "name": "stdout",
     "output_type": "stream",
     "text": [
      "Done\n",
      "43 33\n",
      "Loading Gravity Data... Done!\n",
      "81 9.74070978211e-06\n",
      "Loaded Yukawa Force\n",
      "[1.22, 0.97, 0.65, 0.49, 0.3, 0.12, 0.29, 0.13, 0.23, 0.22, 0.27, 0.27, 0.07]\n"
     ]
    },
    {
     "name": "stderr",
     "output_type": "stream",
     "text": [
      "\n",
      "\n",
      " 44%|████▍     | 44/100 [1:09:31<1:30:16, 96.72s/it]\u001b[A\u001b[A"
     ]
    },
    {
     "name": "stdout",
     "output_type": "stream",
     "text": [
      "Done\n",
      "44 11\n",
      "Loading Gravity Data... Done!\n",
      "81 9.74070978211e-06\n",
      "Loaded Yukawa Force\n",
      "[1.22, 0.97, 0.65, 0.49, 0.3, 0.12, 0.29, 0.13, 0.23, 0.22, 0.27, 0.27, 0.07]\n"
     ]
    },
    {
     "name": "stderr",
     "output_type": "stream",
     "text": [
      "\n",
      "\n",
      " 45%|████▌     | 45/100 [1:11:15<1:30:41, 98.94s/it]\u001b[A\u001b[A"
     ]
    },
    {
     "name": "stdout",
     "output_type": "stream",
     "text": [
      "Done\n",
      "45 67\n",
      "Loading Gravity Data... Done!\n",
      "81 9.74070978211e-06\n",
      "Loaded Yukawa Force\n",
      "[1.22, 0.97, 0.65, 0.49, 0.3, 0.12, 0.29, 0.13, 0.23, 0.22, 0.27, 0.27, 0.07]\n"
     ]
    },
    {
     "name": "stderr",
     "output_type": "stream",
     "text": [
      "\n",
      "\n",
      " 46%|████▌     | 46/100 [1:12:56<1:29:38, 99.61s/it]\u001b[A\u001b[A"
     ]
    },
    {
     "name": "stdout",
     "output_type": "stream",
     "text": [
      "Done\n",
      "46 97\n",
      "Loading Gravity Data... Done!\n",
      "93 4.9046048905e-06\n",
      "Loaded Yukawa Force\n",
      "[1.22, 0.97, 0.65, 0.49, 0.3, 0.12, 0.29, 0.13, 0.23, 0.22, 0.27, 0.27, 0.07]\n"
     ]
    },
    {
     "name": "stderr",
     "output_type": "stream",
     "text": [
      "\n",
      "\n",
      " 47%|████▋     | 47/100 [1:14:26<1:25:26, 96.73s/it]\u001b[A\u001b[A"
     ]
    },
    {
     "name": "stdout",
     "output_type": "stream",
     "text": [
      "Done\n",
      "47 71\n",
      "Loading Gravity Data... Done!\n",
      "93 4.9046048905e-06\n",
      "Loaded Yukawa Force\n",
      "[1.22, 0.97, 0.65, 0.49, 0.3, 0.12, 0.29, 0.13, 0.23, 0.22, 0.27, 0.27, 0.07]\n",
      "Did not create /data/new_trap_processed/mockfiles/20200320/output/noise/Batch3/. It may exist or you do not have perimissions.\n"
     ]
    },
    {
     "name": "stderr",
     "output_type": "stream",
     "text": [
      "\n",
      "\n",
      " 48%|████▊     | 48/100 [1:15:52<1:20:55, 93.37s/it]\u001b[A\u001b[A"
     ]
    },
    {
     "name": "stdout",
     "output_type": "stream",
     "text": [
      "Done\n",
      "48 82\n",
      "Loading Gravity Data... Done!\n",
      "93 4.9046048905e-06\n",
      "Loaded Yukawa Force\n",
      "[1.22, 0.97, 0.65, 0.49, 0.3, 0.12, 0.29, 0.13, 0.23, 0.22, 0.27, 0.27, 0.07]\n"
     ]
    },
    {
     "name": "stderr",
     "output_type": "stream",
     "text": [
      "\n",
      "\n",
      " 49%|████▉     | 49/100 [1:17:18<1:17:34, 91.26s/it]\u001b[A\u001b[A"
     ]
    },
    {
     "name": "stdout",
     "output_type": "stream",
     "text": [
      "Done\n",
      "49 91\n",
      "Loading Gravity Data... Done!\n",
      "61 3.05657389272e-05\n",
      "Loaded Yukawa Force\n",
      "[1.22, 0.97, 0.65, 0.49, 0.3, 0.12, 0.29, 0.13, 0.23, 0.22, 0.27, 0.27, 0.07]\n"
     ]
    },
    {
     "name": "stderr",
     "output_type": "stream",
     "text": [
      "\n",
      "\n",
      " 50%|█████     | 50/100 [1:18:43<1:14:21, 89.22s/it]\u001b[A\u001b[A"
     ]
    },
    {
     "name": "stdout",
     "output_type": "stream",
     "text": [
      "Done\n",
      "50 25\n",
      "Loading Gravity Data... Done!\n",
      "61 3.05657389272e-05\n",
      "Loaded Yukawa Force\n",
      "[1.22, 0.97, 0.65, 0.49, 0.3, 0.12, 0.29, 0.13, 0.23, 0.22, 0.27, 0.27, 0.07]\n"
     ]
    },
    {
     "name": "stderr",
     "output_type": "stream",
     "text": [
      "\n",
      "\n",
      " 51%|█████     | 51/100 [1:20:14<1:13:24, 89.88s/it]\u001b[A\u001b[A"
     ]
    },
    {
     "name": "stdout",
     "output_type": "stream",
     "text": [
      "Done\n",
      "51 48\n",
      "Loading Gravity Data... Done!\n",
      "70 1.82702700418e-05\n",
      "Loaded Yukawa Force\n",
      "[1.22, 0.97, 0.65, 0.49, 0.3, 0.12, 0.29, 0.13, 0.23, 0.22, 0.27, 0.27, 0.07]\n"
     ]
    },
    {
     "name": "stderr",
     "output_type": "stream",
     "text": [
      "\n",
      "\n",
      " 52%|█████▏    | 52/100 [1:21:40<1:10:50, 88.55s/it]\u001b[A\u001b[A"
     ]
    },
    {
     "name": "stdout",
     "output_type": "stream",
     "text": [
      "Done\n",
      "52 68\n",
      "Loading Gravity Data... Done!\n",
      "70 1.82702700418e-05\n",
      "Loaded Yukawa Force\n",
      "[1.22, 0.97, 0.65, 0.49, 0.3, 0.12, 0.29, 0.13, 0.23, 0.22, 0.27, 0.27, 0.07]\n"
     ]
    },
    {
     "name": "stderr",
     "output_type": "stream",
     "text": [
      "\n",
      "\n",
      " 53%|█████▎    | 53/100 [1:23:17<1:11:23, 91.14s/it]\u001b[A\u001b[A"
     ]
    },
    {
     "name": "stdout",
     "output_type": "stream",
     "text": [
      "Done\n",
      "53 41\n",
      "Loading Gravity Data... Done!\n",
      "70 1.82702700418e-05\n",
      "Loaded Yukawa Force\n",
      "[1.22, 0.97, 0.65, 0.49, 0.3, 0.12, 0.29, 0.13, 0.23, 0.22, 0.27, 0.27, 0.07]\n"
     ]
    },
    {
     "name": "stderr",
     "output_type": "stream",
     "text": [
      "\n",
      "\n",
      " 54%|█████▍    | 54/100 [1:24:57<1:11:51, 93.72s/it]\u001b[A\u001b[A"
     ]
    },
    {
     "name": "stdout",
     "output_type": "stream",
     "text": [
      "Done\n",
      "54 37\n",
      "Loading Gravity Data... Done!\n",
      "70 1.82702700418e-05\n",
      "Loaded Yukawa Force\n",
      "[1.22, 0.97, 0.65, 0.49, 0.3, 0.12, 0.29, 0.13, 0.23, 0.22, 0.27, 0.27, 0.07]\n"
     ]
    },
    {
     "name": "stderr",
     "output_type": "stream",
     "text": [
      "\n",
      "\n",
      " 55%|█████▌    | 55/100 [1:26:40<1:12:35, 96.79s/it]\u001b[A\u001b[A"
     ]
    },
    {
     "name": "stdout",
     "output_type": "stream",
     "text": [
      "Done\n",
      "55 35\n",
      "Loading Gravity Data... Done!\n",
      "70 1.82702700418e-05\n",
      "Loaded Yukawa Force\n",
      "[1.22, 0.97, 0.65, 0.49, 0.3, 0.12, 0.29, 0.13, 0.23, 0.22, 0.27, 0.27, 0.07]\n"
     ]
    },
    {
     "name": "stderr",
     "output_type": "stream",
     "text": [
      "\n",
      "\n",
      " 56%|█████▌    | 56/100 [1:28:28<1:13:20, 100.02s/it]\u001b[A\u001b[A"
     ]
    },
    {
     "name": "stdout",
     "output_type": "stream",
     "text": [
      "Done\n",
      "56 46\n",
      "Loading Gravity Data... Done!\n",
      "70 1.82702700418e-05\n",
      "Loaded Yukawa Force\n",
      "[1.22, 0.97, 0.65, 0.49, 0.3, 0.12, 0.29, 0.13, 0.23, 0.22, 0.27, 0.27, 0.07]\n"
     ]
    },
    {
     "name": "stderr",
     "output_type": "stream",
     "text": [
      "\n",
      "\n",
      " 57%|█████▋    | 57/100 [1:30:10<1:12:04, 100.56s/it]\u001b[A\u001b[A"
     ]
    },
    {
     "name": "stdout",
     "output_type": "stream",
     "text": [
      "Done\n",
      "57 85\n",
      "Loading Gravity Data... Done!\n",
      "70 1.82702700418e-05\n",
      "Loaded Yukawa Force\n",
      "[1.22, 0.97, 0.65, 0.49, 0.3, 0.12, 0.29, 0.13, 0.23, 0.22, 0.27, 0.27, 0.07]\n"
     ]
    },
    {
     "name": "stderr",
     "output_type": "stream",
     "text": [
      "\n",
      "\n",
      " 58%|█████▊    | 58/100 [1:31:44<1:08:58, 98.53s/it] \u001b[A\u001b[A"
     ]
    },
    {
     "name": "stdout",
     "output_type": "stream",
     "text": [
      "Done\n",
      "58 59\n",
      "Loading Gravity Data... Done!\n",
      "70 1.82702700418e-05\n",
      "Loaded Yukawa Force\n",
      "[1.22, 0.97, 0.65, 0.49, 0.3, 0.12, 0.29, 0.13, 0.23, 0.22, 0.27, 0.27, 0.07]\n"
     ]
    },
    {
     "name": "stderr",
     "output_type": "stream",
     "text": [
      "\n",
      "\n",
      " 59%|█████▉    | 59/100 [1:33:17<1:06:14, 96.93s/it]\u001b[A\u001b[A"
     ]
    },
    {
     "name": "stdout",
     "output_type": "stream",
     "text": [
      "Done\n",
      "59 66\n",
      "Loading Gravity Data... Done!\n",
      "70 1.82702700418e-05\n",
      "Loaded Yukawa Force\n",
      "[1.22, 0.97, 0.65, 0.49, 0.3, 0.12, 0.29, 0.13, 0.23, 0.22, 0.27, 0.27, 0.07]\n"
     ]
    },
    {
     "name": "stderr",
     "output_type": "stream",
     "text": [
      "\n",
      "\n",
      " 60%|██████    | 60/100 [1:34:50<1:03:52, 95.81s/it]\u001b[A\u001b[A"
     ]
    },
    {
     "name": "stdout",
     "output_type": "stream",
     "text": [
      "Done\n",
      "60 77\n",
      "Loading Gravity Data... Done!\n",
      "70 1.82702700418e-05\n",
      "Loaded Yukawa Force\n",
      "[1.22, 0.97, 0.65, 0.49, 0.3, 0.12, 0.29, 0.13, 0.23, 0.22, 0.27, 0.27, 0.07]\n"
     ]
    },
    {
     "name": "stderr",
     "output_type": "stream",
     "text": [
      "\n",
      "\n",
      " 61%|██████    | 61/100 [1:36:16<1:00:27, 93.00s/it]\u001b[A\u001b[A"
     ]
    },
    {
     "name": "stdout",
     "output_type": "stream",
     "text": [
      "Done\n",
      "61 32\n",
      "Loading Gravity Data... Done!\n",
      "70 1.82702700418e-05\n",
      "Loaded Yukawa Force\n",
      "[1.22, 0.97, 0.65, 0.49, 0.3, 0.12, 0.29, 0.13, 0.23, 0.22, 0.27, 0.27, 0.07]\n"
     ]
    },
    {
     "name": "stderr",
     "output_type": "stream",
     "text": [
      "\n",
      "\n",
      " 62%|██████▏   | 62/100 [1:37:40<57:07, 90.19s/it]  \u001b[A\u001b[A"
     ]
    },
    {
     "name": "stdout",
     "output_type": "stream",
     "text": [
      "Done\n",
      "62 80\n",
      "Loading Gravity Data... Done!\n",
      "70 1.82702700418e-05\n",
      "Loaded Yukawa Force\n",
      "[1.22, 0.97, 0.65, 0.49, 0.3, 0.12, 0.29, 0.13, 0.23, 0.22, 0.27, 0.27, 0.07]\n"
     ]
    },
    {
     "name": "stderr",
     "output_type": "stream",
     "text": [
      "\n",
      "\n",
      " 63%|██████▎   | 63/100 [1:39:32<59:41, 96.80s/it]\u001b[A\u001b[A"
     ]
    },
    {
     "name": "stdout",
     "output_type": "stream",
     "text": [
      "Done\n",
      "63 52\n",
      "Loading Gravity Data... Done!\n",
      "70 1.82702700418e-05\n",
      "Loaded Yukawa Force\n",
      "[1.22, 0.97, 0.65, 0.49, 0.3, 0.12, 0.29, 0.13, 0.23, 0.22, 0.27, 0.27, 0.07]\n"
     ]
    },
    {
     "name": "stderr",
     "output_type": "stream",
     "text": [
      "\n",
      "\n",
      " 64%|██████▍   | 64/100 [1:41:15<59:08, 98.58s/it]\u001b[A\u001b[A"
     ]
    },
    {
     "name": "stdout",
     "output_type": "stream",
     "text": [
      "Done\n",
      "64 5\n",
      "Loading Gravity Data... Done!\n",
      "70 1.82702700418e-05\n",
      "Loaded Yukawa Force\n",
      "[1.22, 0.97, 0.65, 0.49, 0.3, 0.12, 0.29, 0.13, 0.23, 0.22, 0.27, 0.27, 0.07]\n"
     ]
    },
    {
     "name": "stderr",
     "output_type": "stream",
     "text": [
      "\n",
      "\n",
      " 65%|██████▌   | 65/100 [1:42:58<58:20, 100.01s/it]\u001b[A\u001b[A"
     ]
    },
    {
     "name": "stdout",
     "output_type": "stream",
     "text": [
      "Done\n",
      "65 3\n",
      "Loading Gravity Data... Done!\n",
      "70 1.82702700418e-05\n",
      "Loaded Yukawa Force\n",
      "[1.22, 0.97, 0.65, 0.49, 0.3, 0.12, 0.29, 0.13, 0.23, 0.22, 0.27, 0.27, 0.07]\n"
     ]
    },
    {
     "name": "stderr",
     "output_type": "stream",
     "text": [
      "\n",
      "\n",
      " 66%|██████▌   | 66/100 [1:44:22<53:48, 94.95s/it] \u001b[A\u001b[A"
     ]
    },
    {
     "name": "stdout",
     "output_type": "stream",
     "text": [
      "Done\n",
      "66 22\n",
      "Loading Gravity Data... Done!\n",
      "81 9.74070978211e-06\n",
      "Loaded Yukawa Force\n",
      "[1.22, 0.97, 0.65, 0.49, 0.3, 0.12, 0.29, 0.13, 0.23, 0.22, 0.27, 0.27, 0.07]\n"
     ]
    },
    {
     "name": "stderr",
     "output_type": "stream",
     "text": [
      "\n",
      "\n",
      " 67%|██████▋   | 67/100 [1:45:48<50:51, 92.46s/it]\u001b[A\u001b[A"
     ]
    },
    {
     "name": "stdout",
     "output_type": "stream",
     "text": [
      "Done\n",
      "67 94\n",
      "Loading Gravity Data... Done!\n",
      "81 9.74070978211e-06\n",
      "Loaded Yukawa Force\n",
      "[1.22, 0.97, 0.65, 0.49, 0.3, 0.12, 0.29, 0.13, 0.23, 0.22, 0.27, 0.27, 0.07]\n"
     ]
    },
    {
     "name": "stderr",
     "output_type": "stream",
     "text": [
      "\n",
      "\n",
      " 68%|██████▊   | 68/100 [1:47:17<48:40, 91.26s/it]\u001b[A\u001b[A"
     ]
    },
    {
     "name": "stdout",
     "output_type": "stream",
     "text": [
      "Done\n",
      "68 18\n",
      "Loading Gravity Data... Done!\n",
      "81 9.74070978211e-06\n",
      "Loaded Yukawa Force\n",
      "[1.22, 0.97, 0.65, 0.49, 0.3, 0.12, 0.29, 0.13, 0.23, 0.22, 0.27, 0.27, 0.07]\n"
     ]
    },
    {
     "name": "stderr",
     "output_type": "stream",
     "text": [
      "\n",
      "\n",
      " 69%|██████▉   | 69/100 [1:48:44<46:30, 90.03s/it]\u001b[A\u001b[A"
     ]
    },
    {
     "name": "stdout",
     "output_type": "stream",
     "text": [
      "Done\n",
      "69 50\n",
      "Loading Gravity Data... Done!\n",
      "81 9.74070978211e-06\n",
      "Loaded Yukawa Force\n",
      "[1.22, 0.97, 0.65, 0.49, 0.3, 0.12, 0.29, 0.13, 0.23, 0.22, 0.27, 0.27, 0.07]\n"
     ]
    },
    {
     "name": "stderr",
     "output_type": "stream",
     "text": [
      "\n",
      "\n",
      " 70%|███████   | 70/100 [1:50:14<45:01, 90.05s/it]\u001b[A\u001b[A"
     ]
    },
    {
     "name": "stdout",
     "output_type": "stream",
     "text": [
      "Done\n",
      "70 21\n",
      "Loading Gravity Data... Done!\n",
      "81 9.74070978211e-06\n",
      "Loaded Yukawa Force\n",
      "[1.22, 0.97, 0.65, 0.49, 0.3, 0.12, 0.29, 0.13, 0.23, 0.22, 0.27, 0.27, 0.07]\n"
     ]
    },
    {
     "name": "stderr",
     "output_type": "stream",
     "text": [
      "\n",
      "\n",
      " 71%|███████   | 71/100 [1:51:45<43:39, 90.31s/it]\u001b[A\u001b[A"
     ]
    },
    {
     "name": "stdout",
     "output_type": "stream",
     "text": [
      "Done\n",
      "71 34\n",
      "Loading Gravity Data... Done!\n",
      "93 4.9046048905e-06\n",
      "Loaded Yukawa Force\n",
      "[1.22, 0.97, 0.65, 0.49, 0.3, 0.12, 0.29, 0.13, 0.23, 0.22, 0.27, 0.27, 0.07]\n"
     ]
    },
    {
     "name": "stderr",
     "output_type": "stream",
     "text": [
      "\n",
      "\n",
      " 72%|███████▏  | 72/100 [1:53:15<42:09, 90.32s/it]\u001b[A\u001b[A"
     ]
    },
    {
     "name": "stdout",
     "output_type": "stream",
     "text": [
      "Done\n",
      "72 1\n",
      "Loading Gravity Data... Done!\n",
      "93 4.9046048905e-06\n",
      "Loaded Yukawa Force\n",
      "[1.22, 0.97, 0.65, 0.49, 0.3, 0.12, 0.29, 0.13, 0.23, 0.22, 0.27, 0.27, 0.07]\n"
     ]
    },
    {
     "name": "stderr",
     "output_type": "stream",
     "text": [
      "\n",
      "\n",
      " 73%|███████▎  | 73/100 [1:55:10<43:57, 97.68s/it]\u001b[A\u001b[A"
     ]
    },
    {
     "name": "stdout",
     "output_type": "stream",
     "text": [
      "Done\n",
      "73 28\n",
      "Loading Gravity Data... Done!\n",
      "93 4.9046048905e-06\n",
      "Loaded Yukawa Force\n",
      "[1.22, 0.97, 0.65, 0.49, 0.3, 0.12, 0.29, 0.13, 0.23, 0.22, 0.27, 0.27, 0.07]\n"
     ]
    },
    {
     "name": "stderr",
     "output_type": "stream",
     "text": [
      "\n",
      "\n",
      " 74%|███████▍  | 74/100 [1:56:57<43:34, 100.56s/it]\u001b[A\u001b[A"
     ]
    },
    {
     "name": "stdout",
     "output_type": "stream",
     "text": [
      "Done\n",
      "74 86\n",
      "Loading Gravity Data... Done!\n",
      "61 3.05657389272e-05\n",
      "Loaded Yukawa Force\n",
      "[1.22, 0.97, 0.65, 0.49, 0.3, 0.12, 0.29, 0.13, 0.23, 0.22, 0.27, 0.27, 0.07]\n"
     ]
    },
    {
     "name": "stderr",
     "output_type": "stream",
     "text": [
      "\n",
      "\n",
      " 75%|███████▌  | 75/100 [1:58:19<39:31, 94.88s/it] \u001b[A\u001b[A"
     ]
    },
    {
     "name": "stdout",
     "output_type": "stream",
     "text": [
      "Done\n",
      "75 70\n",
      "Loading Gravity Data... Done!\n",
      "61 3.05657389272e-05\n",
      "Loaded Yukawa Force\n",
      "[1.22, 0.97, 0.65, 0.49, 0.3, 0.12, 0.29, 0.13, 0.23, 0.22, 0.27, 0.27, 0.07]\n"
     ]
    },
    {
     "name": "stderr",
     "output_type": "stream",
     "text": [
      "\n",
      "\n",
      " 76%|███████▌  | 76/100 [1:59:40<36:18, 90.77s/it]\u001b[A\u001b[A"
     ]
    },
    {
     "name": "stdout",
     "output_type": "stream",
     "text": [
      "Done\n",
      "76 38\n",
      "Loading Gravity Data... Done!\n",
      "77 1.2243891237e-05\n",
      "Loaded Yukawa Force\n",
      "[1.1630442426805148, 0.9994153484552486, 0.6126534653710891, 0.484330444815621, 0.289439346613426, 0.11311314277972492, 0.2697113172988871, 0.1335781872435983, 0.22970238284060143, 0.224309009095563, 0.24869285047651796, 0.23816595395001616, 0.0661052049608997]\n"
     ]
    },
    {
     "name": "stderr",
     "output_type": "stream",
     "text": [
      "\n",
      "\n",
      " 77%|███████▋  | 77/100 [2:01:01<33:41, 87.89s/it]\u001b[A\u001b[A"
     ]
    },
    {
     "name": "stdout",
     "output_type": "stream",
     "text": [
      "Done\n",
      "77 42\n",
      "Loading Gravity Data... Done!\n",
      "77 1.2243891237e-05\n",
      "Loaded Yukawa Force\n",
      "[1.2461547212562014, 0.9570431681159127, 0.6425185786926332, 0.4877838432534767, 0.31838256589624125, 0.10318071386150339, 0.2928182504700506, 0.1307126453382918, 0.2310568861990551, 0.23459744670423546, 0.2658833118443259, 0.26178629971634354, 0.07698725386275454]\n"
     ]
    },
    {
     "name": "stderr",
     "output_type": "stream",
     "text": [
      "\n",
      "\n",
      " 78%|███████▊  | 78/100 [2:02:24<31:36, 86.19s/it]\u001b[A\u001b[A"
     ]
    },
    {
     "name": "stdout",
     "output_type": "stream",
     "text": [
      "Done\n",
      "78 98\n",
      "Loading Gravity Data... Done!\n",
      "77 1.2243891237e-05\n",
      "Loaded Yukawa Force\n",
      "[1.2188857344790038, 0.9904825530583865, 0.7257895242217974, 0.4760758053251272, 0.29926620328695697, 0.12087946674873408, 0.2735632956159452, 0.12025285428464927, 0.242528634428027, 0.21635061663402264, 0.28965284677351394, 0.29928544262319995, 0.07032020013434409]\n"
     ]
    },
    {
     "name": "stderr",
     "output_type": "stream",
     "text": [
      "\n",
      "\n",
      " 79%|███████▉  | 79/100 [2:03:44<29:33, 84.44s/it]\u001b[A\u001b[A"
     ]
    },
    {
     "name": "stdout",
     "output_type": "stream",
     "text": [
      "Done\n",
      "79 2\n",
      "Loading Gravity Data... Done!\n",
      "77 1.2243891237e-05\n",
      "Loaded Yukawa Force\n",
      "[1.2408327551810265, 1.0218159480005224, 0.5977795724393861, 0.5058981648477964, 0.316660318622728, 0.12136735219602417, 0.30975401443960615, 0.13625107822474586, 0.22579852992317825, 0.22828905566341048, 0.2896211430117017, 0.26082895521826294, 0.07194798278692506]\n"
     ]
    },
    {
     "name": "stderr",
     "output_type": "stream",
     "text": [
      "\n",
      "\n",
      " 80%|████████  | 80/100 [2:05:06<27:52, 83.64s/it]\u001b[A\u001b[A"
     ]
    },
    {
     "name": "stdout",
     "output_type": "stream",
     "text": [
      "Done\n",
      "80 55\n",
      "Loading Gravity Data... Done!\n",
      "77 1.2243891237e-05\n",
      "Loaded Yukawa Force\n",
      "[ 2.3557498   2.09445151  2.00564173  1.60766578 -1.15041233 -2.82360391\n",
      " -3.10147047 -1.42043724  0.27490794 -1.39652202 -3.08064655  1.29097836\n",
      "  0.33298596]\n"
     ]
    },
    {
     "name": "stderr",
     "output_type": "stream",
     "text": [
      "\n",
      "\n",
      " 81%|████████  | 81/100 [2:06:28<26:23, 83.36s/it]\u001b[A\u001b[A"
     ]
    },
    {
     "name": "stdout",
     "output_type": "stream",
     "text": [
      "Done\n",
      "81 88\n",
      "Loading Gravity Data... Done!\n",
      "77 1.2243891237e-05\n",
      "Loaded Yukawa Force\n",
      "[-0.32929518  1.9062534   0.03243193 -2.02199471 -1.78414834  1.64508785\n",
      "  2.44890911 -1.17840521  0.98512516  0.25129532  0.18332346 -0.18070422\n",
      "  0.0045381 ]\n"
     ]
    },
    {
     "name": "stderr",
     "output_type": "stream",
     "text": [
      "\n",
      "\n",
      " 82%|████████▏ | 82/100 [2:07:50<24:49, 82.72s/it]\u001b[A\u001b[A"
     ]
    },
    {
     "name": "stdout",
     "output_type": "stream",
     "text": [
      "Done\n",
      "82 45\n",
      "Loading Gravity Data... Done!\n",
      "77 1.2243891237e-05\n",
      "Loaded Yukawa Force\n",
      "[-1.04083711 -1.49184737  2.42144731  2.90547098 -2.99480249  3.01373432\n",
      "  1.51764631  0.22727169 -3.0349606  -0.27202035 -1.00282038  2.84761171\n",
      " -1.1104596 ]\n"
     ]
    },
    {
     "name": "stderr",
     "output_type": "stream",
     "text": [
      "\n",
      "\n",
      " 83%|████████▎ | 83/100 [2:09:16<23:42, 83.69s/it]\u001b[A\u001b[A"
     ]
    },
    {
     "name": "stdout",
     "output_type": "stream",
     "text": [
      "Done\n",
      "83 31\n",
      "Loading Gravity Data... Done!\n",
      "77 1.2243891237e-05\n",
      "Loaded Yukawa Force\n",
      "[ 2.62341931  1.62507721  2.30606627  0.38902034  2.25252606 -0.5364442\n",
      " -1.44839939 -0.02411408 -2.71901556  2.7713104   2.07089075  0.88955093\n",
      " -1.98876486]\n"
     ]
    },
    {
     "name": "stderr",
     "output_type": "stream",
     "text": [
      "\n",
      "\n",
      " 84%|████████▍ | 84/100 [2:10:39<22:19, 83.70s/it]\u001b[A\u001b[A"
     ]
    },
    {
     "name": "stdout",
     "output_type": "stream",
     "text": [
      "Done\n",
      "84 26\n",
      "Loading Gravity Data... Done!\n",
      "77 1.2243891237e-05\n",
      "Loaded Yukawa Force\n",
      "[-1.22, -0.97, -0.65, -0.49, -0.3, -0.12, -0.29, -0.13, -0.23, -0.22, -0.27, -0.27, -0.07]\n"
     ]
    },
    {
     "name": "stderr",
     "output_type": "stream",
     "text": [
      "\n",
      "\n",
      " 85%|████████▌ | 85/100 [2:12:03<20:55, 83.68s/it]\u001b[A\u001b[A"
     ]
    },
    {
     "name": "stdout",
     "output_type": "stream",
     "text": [
      "Done\n",
      "85 15\n",
      "Loading Gravity Data... Done!\n",
      "77 1.2243891237e-05\n",
      "Loaded Yukawa Force\n",
      "[-1.22, -0.97, -0.65, -0.49, -0.3, -0.12, -0.29, -0.13, -0.23, -0.22, -0.27, -0.27, -0.07]\n"
     ]
    },
    {
     "name": "stderr",
     "output_type": "stream",
     "text": [
      "\n",
      "\n",
      " 86%|████████▌ | 86/100 [2:13:29<19:43, 84.53s/it]\u001b[A\u001b[A"
     ]
    },
    {
     "name": "stdout",
     "output_type": "stream",
     "text": [
      "Done\n",
      "86 60\n",
      "Loading Gravity Data... Done!\n",
      "77 1.2243891237e-05\n",
      "Loaded Yukawa Force\n",
      "[-1.22, -0.97, -0.65, -0.49, -0.3, -0.12, -0.29, -0.13, -0.23, -0.22, -0.27, -0.27, -0.07]\n"
     ]
    },
    {
     "name": "stderr",
     "output_type": "stream",
     "text": [
      "\n",
      "\n",
      " 87%|████████▋ | 87/100 [2:14:53<18:14, 84.23s/it]\u001b[A\u001b[A"
     ]
    },
    {
     "name": "stdout",
     "output_type": "stream",
     "text": [
      "Done\n",
      "87 78\n",
      "Loading Gravity Data... Done!\n",
      "77 1.2243891237e-05\n",
      "Loaded Yukawa Force\n",
      "[-1.22, -0.97, -0.65, -0.49, -0.3, -0.12, -0.29, -0.13, -0.23, -0.22, -0.27, -0.27, -0.07]\n"
     ]
    },
    {
     "name": "stderr",
     "output_type": "stream",
     "text": [
      "\n",
      "\n",
      " 88%|████████▊ | 88/100 [2:16:18<16:54, 84.57s/it]\u001b[A\u001b[A"
     ]
    },
    {
     "name": "stdout",
     "output_type": "stream",
     "text": [
      "Done\n",
      "88 36\n",
      "Loading Gravity Data... Done!\n",
      "77 1.2243891237e-05\n",
      "Loaded Yukawa Force\n",
      "[-1.22, -0.97, -0.65, -0.49, -0.3, -0.12, -0.29, -0.13, -0.23, -0.22, -0.27, -0.27, -0.07]\n"
     ]
    },
    {
     "name": "stderr",
     "output_type": "stream",
     "text": [
      "\n",
      "\n",
      " 89%|████████▉ | 89/100 [2:17:52<16:01, 87.40s/it]\u001b[A\u001b[A"
     ]
    },
    {
     "name": "stdout",
     "output_type": "stream",
     "text": [
      "Done\n",
      "89 93\n",
      "Loading Gravity Data... Done!\n",
      "77 1.2243891237e-05\n",
      "Loaded Yukawa Force\n",
      "[-1.22, -0.97, -0.65, -0.49, -0.3, -0.12, -0.29, -0.13, -0.23, -0.22, -0.27, -0.27, -0.07]\n"
     ]
    },
    {
     "name": "stderr",
     "output_type": "stream",
     "text": [
      "\n",
      "\n",
      " 90%|█████████ | 90/100 [2:19:25<14:48, 88.87s/it]\u001b[A\u001b[A"
     ]
    },
    {
     "name": "stdout",
     "output_type": "stream",
     "text": [
      "Done\n",
      "90 40\n",
      "Loading Gravity Data... Done!\n",
      "77 1.2243891237e-05\n",
      "Loaded Yukawa Force\n",
      "[-1.22, -0.97, -0.65, -0.49, -0.3, -0.12, -0.29, -0.13, -0.23, -0.22, -0.27, -0.27, -0.07]\n"
     ]
    },
    {
     "name": "stderr",
     "output_type": "stream",
     "text": [
      "\n",
      "\n",
      " 91%|█████████ | 91/100 [2:20:48<13:04, 87.22s/it]\u001b[A\u001b[A"
     ]
    },
    {
     "name": "stdout",
     "output_type": "stream",
     "text": [
      "Done\n",
      "91 75\n",
      "Loading Gravity Data... Done!\n",
      "77 1.2243891237e-05\n",
      "Loaded Yukawa Force\n",
      "[-1.22, -0.97, -0.65, -0.49, -0.3, -0.12, -0.29, -0.13, -0.23, -0.22, -0.27, -0.27, -0.07]\n"
     ]
    },
    {
     "name": "stderr",
     "output_type": "stream",
     "text": [
      "\n",
      "\n",
      " 92%|█████████▏| 92/100 [2:22:13<11:32, 86.55s/it]\u001b[A\u001b[A"
     ]
    },
    {
     "name": "stdout",
     "output_type": "stream",
     "text": [
      "Done\n",
      "92 14\n",
      "Loading Gravity Data... Done!\n",
      "77 1.2243891237e-05\n",
      "Loaded Yukawa Force\n",
      "[1.22, 0.97, 0.65, 0.49, 0.3, 0.12, 0.29, 0.13, 0.23, 0.22, 0.27, 0.27, 0.07]\n"
     ]
    },
    {
     "name": "stderr",
     "output_type": "stream",
     "text": [
      "\n",
      "\n",
      " 93%|█████████▎| 93/100 [2:23:35<09:56, 85.18s/it]\u001b[A\u001b[A"
     ]
    },
    {
     "name": "stdout",
     "output_type": "stream",
     "text": [
      "Done\n",
      "93 74\n",
      "Loading Gravity Data... Done!\n",
      "77 1.2243891237e-05\n",
      "Loaded Yukawa Force\n",
      "[1.22, 0.97, 0.65, 0.49, 0.3, 0.12, 0.29, 0.13, 0.23, 0.22, 0.27, 0.27, 0.07]\n"
     ]
    },
    {
     "name": "stderr",
     "output_type": "stream",
     "text": [
      "\n",
      "\n",
      " 94%|█████████▍| 94/100 [2:25:17<09:01, 90.28s/it]\u001b[A\u001b[A"
     ]
    },
    {
     "name": "stdout",
     "output_type": "stream",
     "text": [
      "Done\n",
      "94 29\n",
      "Loading Gravity Data... Done!\n",
      "77 1.2243891237e-05\n",
      "Loaded Yukawa Force\n",
      "[1.22, 0.97, 0.65, 0.49, 0.3, 0.12, 0.29, 0.13, 0.23, 0.22, 0.27, 0.27, 0.07]\n"
     ]
    },
    {
     "name": "stderr",
     "output_type": "stream",
     "text": [
      "\n",
      "\n",
      " 95%|█████████▌| 95/100 [2:26:42<07:22, 88.57s/it]\u001b[A\u001b[A"
     ]
    },
    {
     "name": "stdout",
     "output_type": "stream",
     "text": [
      "Done\n",
      "95 83\n",
      "Loading Gravity Data... Done!\n",
      "77 1.2243891237e-05\n",
      "Loaded Yukawa Force\n",
      "[1.22, 0.97, 0.65, 0.49, 0.3, 0.12, 0.29, 0.13, 0.23, 0.22, 0.27, 0.27, 0.07]\n"
     ]
    },
    {
     "name": "stderr",
     "output_type": "stream",
     "text": [
      "\n",
      "\n",
      " 96%|█████████▌| 96/100 [2:28:07<05:49, 87.47s/it]\u001b[A\u001b[A"
     ]
    },
    {
     "name": "stdout",
     "output_type": "stream",
     "text": [
      "Done\n",
      "96 39\n",
      "Loading Gravity Data... Done!\n",
      "77 1.2243891237e-05\n",
      "Loaded Yukawa Force\n",
      "[1.22, 0.97, 0.65, 0.49, 0.3, 0.12, 0.29, 0.13, 0.23, 0.22, 0.27, 0.27, 0.07]\n"
     ]
    },
    {
     "name": "stderr",
     "output_type": "stream",
     "text": [
      "\n",
      "\n",
      " 97%|█████████▋| 97/100 [2:29:32<04:20, 86.80s/it]\u001b[A\u001b[A"
     ]
    },
    {
     "name": "stdout",
     "output_type": "stream",
     "text": [
      "Done\n",
      "97 95\n",
      "Loading Gravity Data... Done!\n",
      "77 1.2243891237e-05\n",
      "Loaded Yukawa Force\n",
      "[1.22, 0.97, 0.65, 0.49, 0.3, 0.12, 0.29, 0.13, 0.23, 0.22, 0.27, 0.27, 0.07]\n"
     ]
    },
    {
     "name": "stderr",
     "output_type": "stream",
     "text": [
      "\n",
      "\n",
      " 98%|█████████▊| 98/100 [2:31:03<02:56, 88.11s/it]\u001b[A\u001b[A"
     ]
    },
    {
     "name": "stdout",
     "output_type": "stream",
     "text": [
      "Done\n",
      "98 73\n",
      "Loading Gravity Data... Done!\n",
      "77 1.2243891237e-05\n",
      "Loaded Yukawa Force\n",
      "[1.22, 0.97, 0.65, 0.49, 0.3, 0.12, 0.29, 0.13, 0.23, 0.22, 0.27, 0.27, 0.07]\n"
     ]
    },
    {
     "name": "stderr",
     "output_type": "stream",
     "text": [
      "\n",
      "\n",
      " 99%|█████████▉| 99/100 [2:32:28<01:27, 87.18s/it]\u001b[A\u001b[A"
     ]
    },
    {
     "name": "stdout",
     "output_type": "stream",
     "text": [
      "Done\n",
      "99 56\n",
      "Loading Gravity Data... Done!\n",
      "77 1.2243891237e-05\n",
      "Loaded Yukawa Force\n",
      "[1.22, 0.97, 0.65, 0.49, 0.3, 0.12, 0.29, 0.13, 0.23, 0.22, 0.27, 0.27, 0.07]\n"
     ]
    },
    {
     "name": "stderr",
     "output_type": "stream",
     "text": [
      "\n",
      "\n",
      "100%|██████████| 100/100 [2:33:56<00:00, 87.40s/it]\u001b[A\u001b[A"
     ]
    },
    {
     "name": "stdout",
     "output_type": "stream",
     "text": [
      "Done\n"
     ]
    }
   ],
   "source": [
    "run_no =np.arange(0,100,1)\n",
    "np.random.shuffle(run_no)\n",
    "\n",
    "\n",
    "for i in tqdm(range(100)):\n",
    "    print(i, run_no[i])\n",
    "    z_trans_amp,TF_phase_shift,amplitude_scale = mock_injection_noise(alpha_scale=alpha_scale_in[i],lambda_val=lambda_val_in[i],height_sep=-15.5,x_sep=13.9,offset_y=+4.9,phase_shift=phase_shift_in[i])\n",
    "    file_creator_rounding_uniform_random_noise(in_file_paths,out_dir,direction=direction_in[i],run_no=run_no[i],max_file=1000)\n",
    "    metafile_creator(i)\n",
    "np.save(out_dir+\"run_no.npy\",run_no)\n",
    "np.save(out_dir+\"alpha_scale_in.npy\",alpha_scale_in)\n",
    "np.save(out_dir+\"lambda_val_in.npy\",lambda_val_in)\n",
    "np.save(out_dir+\"direction_in.npy\",direction_in)\n",
    "np.save(out_dir+\"phase_shift_in.npy\",phase_shift_in)\n"
   ]
  },
  {
   "cell_type": "code",
   "execution_count": 19,
   "metadata": {},
   "outputs": [
    {
     "data": {
      "text/plain": [
       "[200000000.0,\n",
       " 200000000.0,\n",
       " 200000000.0,\n",
       " 200000000.0,\n",
       " 200000000.0,\n",
       " 200000000.0,\n",
       " 200000000.0,\n",
       " 200000000.0,\n",
       " 200000000.0,\n",
       " 200000000.0,\n",
       " 200000000.0,\n",
       " 200000000.0,\n",
       " 200000000.0,\n",
       " 200000000.0,\n",
       " 200000000.0,\n",
       " 200000000.0,\n",
       " 200000000.0,\n",
       " 200000000.0,\n",
       " 200000000.0,\n",
       " 200000000.0]"
      ]
     },
     "execution_count": 19,
     "metadata": {},
     "output_type": "execute_result"
    }
   ],
   "source": [
    "alpha_scale_in"
   ]
  },
  {
   "cell_type": "code",
   "execution_count": 8,
   "metadata": {},
   "outputs": [],
   "source": [
    "no= 20\n",
    "# make lists\n",
    "alpha_scale_in = [np.random.randint(2,3)*1e8 for x in range(no)]\n",
    "lambda_val_in = [20]*no\n",
    "direction_in = no*[\"pull\"]\n",
    "phase_shift_in = no*[\"TF\"]\n"
   ]
  },
  {
   "cell_type": "code",
   "execution_count": 18,
   "metadata": {},
   "outputs": [
    {
     "name": "stderr",
     "output_type": "stream",
     "text": [
      "\r",
      "  0%|          | 0/1 [00:00<?, ?it/s]"
     ]
    },
    {
     "name": "stdout",
     "output_type": "stream",
     "text": [
      "0 0\n",
      "Loading Gravity Data... Done!\n",
      "68 2.04837466632e-05\n",
      "Loaded Yukawa Force\n",
      "[1.22, 0.97, 0.65, 0.49, 0.3, 0.12, 0.29, 0.13, 0.23, 0.22, 0.27, 0.27, 0.07]\n"
     ]
    },
    {
     "name": "stderr",
     "output_type": "stream",
     "text": [
      "\r",
      "100%|██████████| 1/1 [02:15<00:00, 135.64s/it]"
     ]
    },
    {
     "name": "stdout",
     "output_type": "stream",
     "text": [
      "Done\n"
     ]
    },
    {
     "name": "stderr",
     "output_type": "stream",
     "text": [
      "\n"
     ]
    }
   ],
   "source": [
    "run_no =np.arange(0,100,1)\n",
    "#np.random.shuffle(run_no)\n",
    "\n",
    "\n",
    "for i in tqdm(range(1)):\n",
    "    print(i, run_no[i])\n",
    "    z_trans_amp,TF_phase_shift,amplitude_scale = mock_injection_noise(alpha_scale=alpha_scale_in[i],lambda_val=lambda_val_in[i],height_sep=-15.5,x_sep=13.9,offset_y=+4.9,phase_shift=phase_shift_in[i])\n",
    "    file_creator_rounding_uniform_random_noise(in_file_paths,out_dir,direction=direction_in[i],run_no=run_no[i],max_file=1000)\n",
    "    metafile_creator(i)\n",
    "np.save(out_dir+\"run_no.npy\",run_no)\n",
    "np.save(out_dir+\"alpha_scale_in.npy\",alpha_scale_in)\n",
    "np.save(out_dir+\"lambda_val_in.npy\",lambda_val_in)\n",
    "np.save(out_dir+\"direction_in.npy\",direction_in)\n",
    "np.save(out_dir+\"phase_shift_in.npy\",phase_shift_in)\n"
   ]
  },
  {
   "cell_type": "code",
   "execution_count": null,
   "metadata": {},
   "outputs": [],
   "source": []
  }
 ],
 "metadata": {
  "kernelspec": {
   "display_name": "Python 3",
   "language": "python",
   "name": "python3"
  },
  "language_info": {
   "codemirror_mode": {
    "name": "ipython",
    "version": 3
   },
   "file_extension": ".py",
   "mimetype": "text/x-python",
   "name": "python",
   "nbconvert_exporter": "python",
   "pygments_lexer": "ipython3",
   "version": "3.6.9"
  }
 },
 "nbformat": 4,
 "nbformat_minor": 4
}
