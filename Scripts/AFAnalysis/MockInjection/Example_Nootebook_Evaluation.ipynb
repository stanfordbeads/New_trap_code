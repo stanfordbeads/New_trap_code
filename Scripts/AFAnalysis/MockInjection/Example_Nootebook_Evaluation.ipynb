{
 "cells": [
  {
   "cell_type": "code",
   "execution_count": 20,
   "metadata": {},
   "outputs": [],
   "source": [
    "%run /home/analysis_user/New_trap_code/Tools/basic_packages.py\n",
    "sys.path.append('/home/analysis_user/New_trap_code/SensitivityFramework/')\n",
    "from signal_model_utilities_v3 import *\n",
    "from shutil import copyfile\n",
    "\n",
    "\n",
    "plt.rcParams[\"figure.figsize\"] = (16,12)\n",
    "plt.rcParams[\"font.size\"] = 24\n",
    "plt.rcParams['xtick.labelsize'] = \"small\"\n",
    "plt.rcParams['ytick.labelsize'] = 36"
   ]
  },
  {
   "cell_type": "code",
   "execution_count": 21,
   "metadata": {},
   "outputs": [],
   "source": [
    "def plotting(var_list,legend_list,log_scale=False,Title=None):\n",
    "    i=0\n",
    "    for var in var_list:\n",
    "        i += 1\n",
    "        x = range(len(var))\n",
    "        plt.plot(x,var,linestyle=\"\",marker=\"*\",markersize=15,label=legend_list[i-1])\n",
    "    plt.legend()    \n",
    "    plt.ylabel(\"alpha [1e8]\")\n",
    "    plt.xlabel(\"run\")\n",
    "    if(log_scale==True):plt.yscale(\"log\")\n",
    "    if(Title):plt.title(Title)\n",
    "    plt.show()\n",
    "    return"
   ]
  },
  {
   "cell_type": "code",
   "execution_count": 22,
   "metadata": {},
   "outputs": [],
   "source": [
    "df = pd.read_pickle(\"Akio_Nadav_Chas_Consv2.p\")"
   ]
  },
  {
   "cell_type": "code",
   "execution_count": 27,
   "metadata": {},
   "outputs": [
    {
     "name": "stdout",
     "output_type": "stream",
     "text": [
      "   index  run_no_true        alpha  lambda direction  phase_val  \\\n",
      "0     34            0   67000000.0      18      pull         TF   \n",
      "1     72            1    5400000.0       5      pull         TF   \n",
      "2     79            2  100000000.0      12      pull  Random_TF   \n",
      "3     65            3    4900000.0      18      pull         TF   \n",
      "4     37            4   48000000.0      18      pull         TF   \n",
      "5     64            5    1200000.0      18      pull         TF   \n",
      "6     14            6  381000000.0      18      pull         TF   \n",
      "7     38            7   58000000.0      18      pull         TF   \n",
      "8     41            8   65000000.0      10      pull         TF   \n",
      "9     15            9  434000000.0      18      pull         TF   \n",
      "\n",
      "   akio_alpha_l5_p  akio_alpha_l10_p  akio_alpha_l25_p  akio_alpha_l5_n  ...  \\\n",
      "0             8.05              1.41              0.69            -1.66  ...   \n",
      "1             2.35              0.42              0.21            -1.98  ...   \n",
      "2             8.77              1.54              0.76            -1.66  ...   \n",
      "3             2.54              0.45              0.22            -1.95  ...   \n",
      "4             5.93              1.04              0.51            -1.66  ...   \n",
      "5             2.38              0.42              0.21            -1.98  ...   \n",
      "6            38.07              6.65              3.27            -1.65  ...   \n",
      "7             7.13              1.25              0.62            -1.66  ...   \n",
      "8             4.60              0.81              0.40            -1.66  ...   \n",
      "9            41.77              7.29              3.59            -1.65  ...   \n",
      "\n",
      "   chas_alpha_l20_p  chas_alpha_l25_p  chas_alpha_l31_p  chas_alpha_l5_n  \\\n",
      "0          0.866287          0.816026          0.774250              0.0   \n",
      "1          0.233869          0.220331          0.209156              0.0   \n",
      "2          0.933186          0.879040          0.834026              0.0   \n",
      "3          0.276425          0.260417          0.247188              0.0   \n",
      "4          0.685425          0.645669          0.612652              0.0   \n",
      "5          0.240105          0.226205          0.215034              0.0   \n",
      "6          3.856346          3.632402          3.445753              0.0   \n",
      "7          0.780932          0.735629          0.697987              0.0   \n",
      "8          0.572448          0.539253          0.511704              0.0   \n",
      "9          4.357258          4.104217          3.893297              0.0   \n",
      "\n",
      "   chas_alpha_l10_n  chas_alpha_l12_n  chas_alpha_l18_n  chas_alpha_l20_n  \\\n",
      "0               0.0               0.0               0.0               0.0   \n",
      "1               0.0               0.0               0.0               0.0   \n",
      "2               0.0               0.0               0.0               0.0   \n",
      "3               0.0               0.0               0.0               0.0   \n",
      "4               0.0               0.0               0.0               0.0   \n",
      "5               0.0               0.0               0.0               0.0   \n",
      "6               0.0               0.0               0.0               0.0   \n",
      "7               0.0               0.0               0.0               0.0   \n",
      "8               0.0               0.0               0.0               0.0   \n",
      "9               0.0               0.0               0.0               0.0   \n",
      "\n",
      "   chas_alpha_l25_n  chas_alpha_l31_n  \n",
      "0               0.0               0.0  \n",
      "1               0.0               0.0  \n",
      "2               0.0               0.0  \n",
      "3               0.0               0.0  \n",
      "4               0.0               0.0  \n",
      "5               0.0               0.0  \n",
      "6               0.0               0.0  \n",
      "7               0.0               0.0  \n",
      "8               0.0               0.0  \n",
      "9               0.0               0.0  \n",
      "\n",
      "[10 rows x 32 columns]\n"
     ]
    }
   ],
   "source": [
    "print(df[:10])"
   ]
  },
  {
   "cell_type": "code",
   "execution_count": null,
   "metadata": {},
   "outputs": [],
   "source": [
    "'''\n",
    "columns: index=real run number, run_no_true=folder name you got, \n",
    "alpha = injected signal strength, lambda= lambda, direction=pull or push, \n",
    "phase_val=TF, means shifted by TF_phases = [1.22,0.97,0.65,0.49,0.3,0.12,0.29,0.13,0.23,0.22,0.27,0.27,0.07]\n",
    "Random = Random\n",
    "Random_TF = [1*np.random.normal(element,element/20) for element in TF_phases]\n",
    "Flip = [-1.22,-0.97,-0.65,-0.49,-0.3,-0.12,-0.29,-0.13,-0.23,-0.22,-0.27,-0.27,-0.07]\n",
    "your_name_lambdavalue_positve/negative\n",
    "'''"
   ]
  },
  {
   "cell_type": "code",
   "execution_count": 19,
   "metadata": {},
   "outputs": [],
   "source": [
    "# p = positive, n= negative, "
   ]
  },
  {
   "cell_type": "code",
   "execution_count": 13,
   "metadata": {},
   "outputs": [
    {
     "name": "stdout",
     "output_type": "stream",
     "text": [
      "1     2.35\n",
      "28    2.37\n",
      "34    2.34\n",
      "47    7.12\n",
      "49    2.85\n",
      "63    7.21\n",
      "71    2.60\n",
      "82    2.40\n",
      "97    2.48\n",
      "Name: akio_alpha_l5_p, dtype: float64 1     2.160412\n",
      "28    2.173889\n",
      "34    2.128274\n",
      "47    8.509227\n",
      "49    3.704910\n",
      "63    8.606201\n",
      "71    2.873134\n",
      "82    2.276774\n",
      "97    2.443657\n",
      "Name: nadav_alpha_l5_p, dtype: float64 1     2.527899\n",
      "28    2.542012\n",
      "34    2.488217\n",
      "47    8.423645\n",
      "49    3.943205\n",
      "63    8.503780\n",
      "71    3.154772\n",
      "82    2.652089\n",
      "97    2.807071\n",
      "Name: chas_alpha_l5_p, dtype: float64\n",
      "9 9 9\n"
     ]
    }
   ],
   "source": [
    "t1 = df.alpha[(df[\"lambda\"]==5) & (df[\"direction\"]==\"pull\") & (df['phase_val']==\"TF\") ]/1e8\n",
    "a1 = df.akio_alpha_l5_p[(df[\"lambda\"]==5) & (df[\"direction\"]==\"pull\")  & (df['phase_val']==\"TF\")  ]\n",
    "n1 = df.nadav_alpha_l5_p[(df[\"lambda\"]==5) & (df[\"direction\"]==\"pull\")  & (df['phase_val']==\"TF\")  ]\n",
    "c1 = df.chas_alpha_l5_p[(df[\"lambda\"]==5) & (df[\"direction\"]==\"pull\")  & (df['phase_val']==\"TF\")  ]\n",
    "\n",
    "\n",
    "print(a1,n1,c1)\n",
    "print(len(a1),len(n1),len(c1))"
   ]
  },
  {
   "cell_type": "code",
   "execution_count": 14,
   "metadata": {},
   "outputs": [
    {
     "data": {
      "image/png": "[encoded data removed]",
      "text/plain": [
       "<Figure size 1152x864 with 1 Axes>"
      ]
     },
     "metadata": {
      "needs_background": "light"
     },
     "output_type": "display_data"
    }
   ],
   "source": [
    "plotting([a1,t1,n1,c1],[\"akio\",\"truth\",\"nadav\",\"chas\"],Title=\"$\\lambda$ 5 um\")"
   ]
  },
  {
   "cell_type": "code",
   "execution_count": null,
   "metadata": {},
   "outputs": [],
   "source": []
  },
  {
   "cell_type": "code",
   "execution_count": null,
   "metadata": {},
   "outputs": [],
   "source": []
  }
 ],
 "metadata": {
  "kernelspec": {
   "display_name": "Python 3",
   "language": "python",
   "name": "python3"
  },
  "language_info": {
   "codemirror_mode": {
    "name": "ipython",
    "version": 3
   },
   "file_extension": ".py",
   "mimetype": "text/x-python",
   "name": "python",
   "nbconvert_exporter": "python",
   "pygments_lexer": "ipython3",
   "version": "3.6.9"
  }
 },
 "nbformat": 4,
 "nbformat_minor": 4
}
