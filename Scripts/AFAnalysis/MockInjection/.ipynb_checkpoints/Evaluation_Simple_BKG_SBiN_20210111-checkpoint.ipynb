{
 "cells": [
  {
   "cell_type": "code",
   "execution_count": 113,
   "metadata": {},
   "outputs": [],
   "source": [
    "%run /home/analysis_user/New_trap_code/Tools/basic_packages.py\n",
    "sys.path.append('/home/analysis_user/New_trap_code/Tools/')\n",
    "\n",
    "sys.path.append('/home/analysis_user/New_trap_code/SensitivityFramework/')\n",
    "from signal_model_utilities_v3 import *\n",
    "from shutil import copyfile\n",
    "\n",
    "\n",
    "plt.rcParams[\"figure.figsize\"] = (16,12)\n",
    "plt.rcParams[\"font.size\"] = 24\n",
    "plt.rcParams['xtick.labelsize'] = \"small\"\n",
    "plt.rcParams['ytick.labelsize'] = 36\n",
    "plt.rcParams['lines.markersize'] = 12"
   ]
  },
  {
   "cell_type": "code",
   "execution_count": 64,
   "metadata": {},
   "outputs": [],
   "source": [
    "fdir = \"/data/new_trap_processed/mockfiles/20200320/output/noise/bkg_simple/\"\n"
   ]
  },
  {
   "cell_type": "code",
   "execution_count": 65,
   "metadata": {},
   "outputs": [],
   "source": [
    "df = pd.DataFrame()"
   ]
  },
  {
   "cell_type": "code",
   "execution_count": 66,
   "metadata": {},
   "outputs": [],
   "source": [
    "results_from_akio= np.loadtxt(\"Results_Simple_BKG/AlphaForAlex90CL0-2.txt\")"
   ]
  },
  {
   "cell_type": "code",
   "execution_count": 67,
   "metadata": {},
   "outputs": [],
   "source": [
    "run_no_a = []\n",
    "l5p = []\n",
    "l5m = []\n",
    "l10p = []\n",
    "l10m = []\n",
    "l25p = []\n",
    "l25m = []\n",
    "\n",
    "for results in results_from_akio:\n",
    "    a,b,c,d,e,f,g = results\n",
    "    run_no_a.append(a)\n",
    "    l5p.append(b/1e8)\n",
    "    l5m.append(c/1e8)\n",
    "    l10p.append(d/1e8)\n",
    "    l10m.append(e/1e8)\n",
    "    l25p.append(f/1e8)\n",
    "    l25m.append(g/1e8)\n",
    "\n",
    "\n",
    "df[\"akio_alpha_l10_p\"]=l10p\n",
    "df[\"akio_alpha_l10_n\"]=l10m\n"
   ]
  },
  {
   "cell_type": "code",
   "execution_count": 124,
   "metadata": {},
   "outputs": [],
   "source": [
    "results_from_chas = np.load(\"Results_Simple_BKG/signal_injection_bkg_simple_discovery.p\",allow_pickle=True)"
   ]
  },
  {
   "cell_type": "code",
   "execution_count": 153,
   "metadata": {},
   "outputs": [],
   "source": [
    "results_from_Nadavn = pd.read_csv(\"Results_Simple_BKG/bkg_simple2_mle_NP.csv\", header=None).transpose()\n",
    "results_from_Nadavn.columns = [\"FREQ\",\"MLE\"]"
   ]
  },
  {
   "cell_type": "code",
   "execution_count": 154,
   "metadata": {},
   "outputs": [
    {
     "data": {
      "text/html": [
       "<div>\n",
       "<style scoped>\n",
       "    .dataframe tbody tr th:only-of-type {\n",
       "        vertical-align: middle;\n",
       "    }\n",
       "\n",
       "    .dataframe tbody tr th {\n",
       "        vertical-align: top;\n",
       "    }\n",
       "\n",
       "    .dataframe thead th {\n",
       "        text-align: right;\n",
       "    }\n",
       "</style>\n",
       "<table border=\"1\" class=\"dataframe\">\n",
       "  <thead>\n",
       "    <tr style=\"text-align: right;\">\n",
       "      <th></th>\n",
       "      <th>FREQ</th>\n",
       "      <th>MLE</th>\n",
       "    </tr>\n",
       "  </thead>\n",
       "  <tbody>\n",
       "    <tr>\n",
       "      <th>1</th>\n",
       "      <td>6.0</td>\n",
       "      <td>-3.8</td>\n",
       "    </tr>\n",
       "    <tr>\n",
       "      <th>2</th>\n",
       "      <td>9.0</td>\n",
       "      <td>-8.4</td>\n",
       "    </tr>\n",
       "    <tr>\n",
       "      <th>3</th>\n",
       "      <td>12.0</td>\n",
       "      <td>-6.8</td>\n",
       "    </tr>\n",
       "    <tr>\n",
       "      <th>4</th>\n",
       "      <td>15.0</td>\n",
       "      <td>-5.6</td>\n",
       "    </tr>\n",
       "    <tr>\n",
       "      <th>5</th>\n",
       "      <td>18.0</td>\n",
       "      <td>5.0</td>\n",
       "    </tr>\n",
       "    <tr>\n",
       "      <th>6</th>\n",
       "      <td>21.0</td>\n",
       "      <td>-4.2</td>\n",
       "    </tr>\n",
       "    <tr>\n",
       "      <th>7</th>\n",
       "      <td>24.0</td>\n",
       "      <td>-5.6</td>\n",
       "    </tr>\n",
       "    <tr>\n",
       "      <th>8</th>\n",
       "      <td>27.0</td>\n",
       "      <td>-5.3</td>\n",
       "    </tr>\n",
       "    <tr>\n",
       "      <th>9</th>\n",
       "      <td>30.0</td>\n",
       "      <td>-4.5</td>\n",
       "    </tr>\n",
       "    <tr>\n",
       "      <th>10</th>\n",
       "      <td>33.0</td>\n",
       "      <td>-4.2</td>\n",
       "    </tr>\n",
       "    <tr>\n",
       "      <th>11</th>\n",
       "      <td>36.0</td>\n",
       "      <td>-4.9</td>\n",
       "    </tr>\n",
       "  </tbody>\n",
       "</table>\n",
       "</div>"
      ],
      "text/plain": [
       "    FREQ  MLE\n",
       "1    6.0 -3.8\n",
       "2    9.0 -8.4\n",
       "3   12.0 -6.8\n",
       "4   15.0 -5.6\n",
       "5   18.0  5.0\n",
       "6   21.0 -4.2\n",
       "7   24.0 -5.6\n",
       "8   27.0 -5.3\n",
       "9   30.0 -4.5\n",
       "10  33.0 -4.2\n",
       "11  36.0 -4.9"
      ]
     },
     "execution_count": 154,
     "metadata": {},
     "output_type": "execute_result"
    }
   ],
   "source": [
    "results_from_Nadavn[1:]"
   ]
  },
  {
   "cell_type": "code",
   "execution_count": 155,
   "metadata": {},
   "outputs": [],
   "source": [
    "c10p=[]\n",
    "c10m=[]\n",
    "for i in range(3):\n",
    "    c10p.append(results_from_chas['%d_limit' %i][2][0][0]/1e8)\n",
    "    c10m.append(results_from_chas['%d_limit' %i][2][0][1]/1e8)"
   ]
  },
  {
   "cell_type": "code",
   "execution_count": 156,
   "metadata": {},
   "outputs": [
    {
     "name": "stdout",
     "output_type": "stream",
     "text": [
      "MLE_array axes: coord-axis, sampled-lambda, (0)mle(1)unc\n",
      "MLE_by_harm axes: coord-axis, sampled-lambda, freq\n",
      "Limit axes: coord-axis, sampled-lambda, (0)pos-limit(1)neg-limit\n"
     ]
    }
   ],
   "source": [
    "print(results_from_chas[\"key\"])"
   ]
  },
  {
   "cell_type": "code",
   "execution_count": 157,
   "metadata": {},
   "outputs": [
    {
     "data": {
      "text/plain": [
       "Text(0.5, 0, 'frequency')"
      ]
     },
     "execution_count": 157,
     "metadata": {},
     "output_type": "execute_result"
    },
    {
     "data": {
      "image/png": "[encoded data removed]",
      "text/plain": [
       "<Figure size 1152x864 with 1 Axes>"
      ]
     },
     "metadata": {
      "needs_background": "light"
     },
     "output_type": "display_data"
    }
   ],
   "source": [
    "x = np.arange(6,42,3)\n",
    "plt.plot(x,results_from_chas[\"2_mle_by_harm\"][2][0],linestyle=\"\",marker=\"$C$\")\n",
    "plt.plot(x[:-1],results_from_Nadavn[\"MLE\"][1:]*-1e8,linestyle=\"\",marker=\"$N$\")\n",
    "plt.axhline(4.5e8,color=\"red\")\n",
    "plt.ylabel(\"alpha MLE\")\n",
    "plt.xlabel(\"frequency\")"
   ]
  },
  {
   "cell_type": "code",
   "execution_count": 71,
   "metadata": {},
   "outputs": [
    {
     "name": "stdout",
     "output_type": "stream",
     "text": [
      "[[[ -8.21389139e+06   0.00000000e+00]]\n",
      "\n",
      " [[ -7.50147346e+06  -1.86264515e-09]]\n",
      "\n",
      " [[  6.73951901e+08  -5.96046448e-08]]] 0\n",
      "[[[ -8.21389139e+06   0.00000000e+00]]\n",
      "\n",
      " [[ -7.50147346e+06  -1.86264515e-09]]\n",
      "\n",
      " [[  4.12356857e+08   2.98023224e-08]]] 1\n",
      "[[[ -8.21389139e+06   0.00000000e+00]]\n",
      "\n",
      " [[ -7.50147346e+06  -1.86264515e-09]]\n",
      "\n",
      " [[  4.47817285e+08  -2.98023224e-08]]] 2\n"
     ]
    }
   ],
   "source": [
    "print(results_from_chas[\"0_mle\"],\"0\")\n",
    "print(results_from_chas[\"1_mle\"],\"1\")\n",
    "print(results_from_chas[\"2_mle\"],\"2\")"
   ]
  },
  {
   "cell_type": "code",
   "execution_count": 72,
   "metadata": {},
   "outputs": [],
   "source": [
    "df[\"chas_alpha_l10_p\"]=c10p\n",
    "df[\"chas_alpha_l10_n\"]=c10m\n",
    "\n"
   ]
  },
  {
   "cell_type": "code",
   "execution_count": 78,
   "metadata": {},
   "outputs": [],
   "source": [
    "alpha=[4.5]*3\n",
    "nadav_n=[-7.15,-4.3,-4.72]\n",
    "df[\"alpha\"]=alpha\n",
    "df[\"nadav_n\"]=nadav_n"
   ]
  },
  {
   "cell_type": "code",
   "execution_count": 86,
   "metadata": {},
   "outputs": [
    {
     "data": {
      "text/plain": [
       "[<matplotlib.lines.Line2D at 0x7faebe0cceb8>]"
      ]
     },
     "execution_count": 86,
     "metadata": {},
     "output_type": "execute_result"
    },
    {
     "data": {
      "image/png": "[encoded data removed]",
      "text/plain": [
       "<Figure size 1152x864 with 1 Axes>"
      ]
     },
     "metadata": {
      "needs_background": "light"
     },
     "output_type": "display_data"
    }
   ],
   "source": [
    "#plt.plot(df.alpha,linestyle=\"\",marker=\"$S$\",markersize=\"12\")\n",
    "plt.axhline(4.5)\n",
    "plt.plot(df.akio_alpha_l10_p,linestyle=\"\",marker=\"$A$\",markersize=\"12\")\n",
    "plt.plot(df.chas_alpha_l10_p,linestyle=\"\",marker=\"$C$\",markersize=\"12\")\n",
    "plt.plot(-1*df.nadav_n,linestyle=\"\",marker=\"$N$\",markersize=\"12\")"
   ]
  },
  {
   "cell_type": "code",
   "execution_count": null,
   "metadata": {},
   "outputs": [],
   "source": []
  }
 ],
 "metadata": {
  "kernelspec": {
   "display_name": "Python 3",
   "language": "python",
   "name": "python3"
  },
  "language_info": {
   "codemirror_mode": {
    "name": "ipython",
    "version": 3
   },
   "file_extension": ".py",
   "mimetype": "text/x-python",
   "name": "python",
   "nbconvert_exporter": "python",
   "pygments_lexer": "ipython3",
   "version": "3.6.9"
  }
 },
 "nbformat": 4,
 "nbformat_minor": 4
}
