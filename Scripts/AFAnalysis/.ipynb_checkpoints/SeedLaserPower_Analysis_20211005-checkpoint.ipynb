{
 "cells": [
  {
   "cell_type": "code",
   "execution_count": 1,
   "metadata": {},
   "outputs": [],
   "source": [
    "%run /home/analysis_user/New_trap_code/Tools/basic_packages.py\n",
    "from matplotlib.ticker import MaxNLocator\n",
    "\n",
    "\n",
    "plt.rcParams[\"figure.figsize\"] = (16,12)\n",
    "plt.rcParams[\"font.size\"] = 24\n",
    "plt.rcParams['xtick.labelsize'] = \"small\"\n",
    "plt.rcParams['ytick.labelsize'] = 36"
   ]
  },
  {
   "cell_type": "code",
   "execution_count": 2,
   "metadata": {},
   "outputs": [],
   "source": [
    "powerLowPLaser = [48,60,70,80,90,100,120,140,160,180,200,220,240,260,280,300,320,340]\n",
    "powerLowPLaserIPG = np.arange(50,270,10)\n",
    "pwer\n",
    "\n",
    "currentLowPlaser = [160.5,475,730,1000,1260,1500,2030,2520,2950,3400,3850,4350,4750,5100,6500,7000,6800,6400]\n",
    "powerLowPLaserUs = [0.09,0.26,0.41,0.56,0.70,0.83,1.13,1.40,1.64,1.89,2.14,2.42,2.64,2.83,3.61,3.89,3.78,3.56]\n",
    "powerLowPLaserIPG = [0.13,0.29,0.46,0.63,0.8,0.95,1.11,1.26,1.42,1.57,1.73,1.88,2.03,2.16,2.29,2.42,2.53,2.67,2.8,2.95,3.1,3.13]\n"
   ]
  },
  {
   "cell_type": "code",
   "execution_count": null,
   "metadata": {},
   "outputs": [],
   "source": []
  }
 ],
 "metadata": {
  "kernelspec": {
   "display_name": "Python 3",
   "language": "python",
   "name": "python3"
  },
  "language_info": {
   "codemirror_mode": {
    "name": "ipython",
    "version": 3
   },
   "file_extension": ".py",
   "mimetype": "text/x-python",
   "name": "python",
   "nbconvert_exporter": "python",
   "pygments_lexer": "ipython3",
   "version": "3.6.9"
  }
 },
 "nbformat": 4,
 "nbformat_minor": 4
}
