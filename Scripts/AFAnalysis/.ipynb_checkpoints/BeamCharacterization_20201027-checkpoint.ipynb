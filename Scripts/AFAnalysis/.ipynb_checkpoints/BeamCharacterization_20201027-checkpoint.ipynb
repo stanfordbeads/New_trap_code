{
 "cells": [
  {
   "cell_type": "code",
   "execution_count": 1,
   "metadata": {},
   "outputs": [],
   "source": [
    "%run /home/analysis_user/New_trap_code/Tools/basic_packages.py\n",
    "#%matplotlib widget, remove below if used\n",
    "plt.rcParams[\"figure.figsize\"] = (16,12)\n",
    "plt.rcParams[\"font.size\"] = 24\n",
    "plt.rcParams['xtick.labelsize'] = \"small\"\n",
    "plt.rcParams['ytick.labelsize'] = 36"
   ]
  },
  {
   "cell_type": "code",
   "execution_count": 2,
   "metadata": {},
   "outputs": [],
   "source": [
    "def prepare_profile_data(files,spin_data_structure=\"New\"):\n",
    "    # spin data structure changed to two spin readouts therefore spin_data -> spin_data[0]\n",
    "    # prepare the data into a data frame using the calibration Akio has performed\n",
    "    df = pd.DataFrame()\n",
    "    spin_list = [] # a list for the spin_sum\n",
    "    qsum_list = [] # a list for the quad_sum \n",
    "    cant_pos_list_x, cant_pos_list_y, cant_pos_list_z = [[] for  x in range(3)] # save the positions of the cantielever\n",
    "    if(spin_data_structure==\"New\"):spin_length = files[0].spin_data[0]\n",
    "    if(spin_data_structure==\"Old\"):spin_length = files[0].spin_data\n",
    "    spin_down_size_factor = len(spin_length)/len(files[0].xyz[0]) # 10 for normal operation, but can be different\n",
    "    \n",
    "    for i in tqdm(range(len(files))):\n",
    "        spin = np.zeros(len(files[0].xyz[0]))\n",
    "        if(spin_data_structure==\"New\"): spin_temp = files[i].spin_data[0]\n",
    "        if(spin_data_structure==\"Old\"): spin_temp = files[i].spin_data\n",
    "        for j in range(len(files[i].xyz[0])):\n",
    "            spin[j]=np.average(spin_temp[int(spin_down_size_factor)*j: int(spin_down_size_factor)*j+ int(spin_down_size_factor-1)]) # average down to 5000 in order to match spin with the cantilever position.    \n",
    "        spin_list.append(spin)\n",
    "        qsum_list.append(files[i].quad_sum)\n",
    "        cant_pos_list_x.append(files[i].cant_pos[0])\n",
    "        cant_pos_list_y.append(files[i].cant_pos[1])\n",
    "        cant_pos_list_z.append(files[i].cant_pos[2])\n",
    "    df[\"QPD_SUM\"] = qsum_list\n",
    "    df[\"SPIN_SUM\"] = spin_list \n",
    "    df[\"CANT_POS_X\"] = cant_pos_list_x\n",
    "    df[\"CANT_POS_Y\"] = cant_pos_list_y\n",
    "    df[\"CANT_POS_Z\"] = cant_pos_list_z\n",
    "    df[\"CANT_FREQ\"] = files[0].cant_freq\n",
    "    df[\"FS\"] = files[0].fsamp\n",
    "    \n",
    "    # use calibration\n",
    "    ## applies calibration assuming x and y have the same\n",
    "    df[\"CANT_POS_X_cal\"] = df[\"CANT_POS_X\"].apply(lambda element: voltage_to_x_position(element))  \n",
    "    df[\"CANT_POS_Y_cal\"] = df[\"CANT_POS_Y\"].apply(lambda element: voltage_to_x_position(element)) \n",
    "    df[\"CANT_POS_Z_cal\"] = df[\"CANT_POS_Z\"].apply(lambda element: voltage_to_z_position(element))\n",
    "    \n",
    "    \n",
    "    # differentiate the power to get dP/dx plots\n",
    "    df[\"QPD_SUM_diff\"] = df[\"QPD_SUM\"].apply(lambda element: np.diff(element)) # \n",
    "    df[\"SPIN_SUM_diff\"] = df[\"SPIN_SUM\"].apply(lambda element: np.diff(element)) # \n",
    "    \n",
    "    return df"
   ]
  },
  {
   "cell_type": "code",
   "execution_count": 3,
   "metadata": {},
   "outputs": [],
   "source": [
    "def extract_in_out_movement(df,fn,detector=\"SPIN\",axis=\"Y\",avg_rng=1):\n",
    "    freq=np.mean(df.CANT_FREQ)\n",
    "    fs=np.mean(df.FS)\n",
    "    factor = int(fs/(2*freq))\n",
    "    start = int(factor/2)\n",
    "    #print(start)\n",
    "    end= len(df[\"%s_SUM_diff\" %detector][fn])-start\n",
    "    #print(end)\n",
    "    data_x = np.zeros(factor)\n",
    "    data_x2 = np.zeros(factor)\n",
    "    data_y = np.zeros(factor)\n",
    "    data_y2 = np.zeros(factor)\n",
    "    i=0\n",
    "    for k in np.arange(start,end,factor):\n",
    "        i+=1\n",
    "        averaged_series = pd.Series(df[\"%s_SUM_diff\" %detector][fn]).ewm(span=avg_rng,adjust=True).mean()\n",
    "        data_y_temp = averaged_series[k:k+factor]/averaged_series.mean()#df[\"QPD_SUM_diff\"][0][1300:-1400] # give y data \n",
    "        data_x_temp = df[\"CANT_POS_%s_cal\" %axis][fn][k:k+factor]# give x data\n",
    "        if(np.sum(data_y_temp)<0): data_y_temp = -data_y_temp\n",
    "        if((i % 2) == 0):\n",
    "            data_y = np.add(data_y,np.array(data_y_temp))\n",
    "            data_x = np.add(data_x,data_x_temp)\n",
    "        else:\n",
    "            data_y2 = np.add(data_y2,np.array(data_y_temp))  \n",
    "            data_x2 = np.add(data_x2,data_x_temp)\n",
    "    data_x = data_x/(0.5*(i-1)) # factor automatic\n",
    "    data_x2 = data_x2/(0.5*(i+1)) # factor automatic +-1\n",
    "    data_y = data_y\n",
    "    data_y2 = data_y2\n",
    "    #plt.plot(data_x,data_y)\n",
    "    return data_y,data_y2,data_x,data_x2        "
   ]
  },
  {
   "cell_type": "code",
   "execution_count": 4,
   "metadata": {},
   "outputs": [],
   "source": [
    "def fit_dP_dx(data_x,data_y,data_y_error=None,plot=False,logscale=False):\n",
    "    if(data_y_error==None): data_y_error = np.sqrt(np.abs(data_y)) # give y uncertainty\n",
    "    def chisquare_gaussian_beam(area,mean,sigma,constant):\n",
    "        return chisquare_1d(function=gaussian_beam,functionparams=[area,mean,sigma,constant],data_x=data_x,data_y=data_y,data_y_error=data_y_error)[0]\n",
    "    arg_maxy = np.array(data_x)[np.argmax(np.array(data_y))]\n",
    "    #print(maxy,np.sum(data_y))\n",
    "    #plt.plot(data_x,data_y)\n",
    "    #plt.show()\n",
    "    try:\n",
    "        m=Minuit(chisquare_gaussian_beam, \n",
    "                 area = np.max(data_y), # set start parameter\n",
    "                 #limit_area= (np.sum(data_y)/200,np.sum(data_y)), # if you want to limit things\n",
    "                 #fix_area = \"False\", # you can also fix it\n",
    "                 mean = arg_maxy,\n",
    "                 #fix_mean = \"True\",\n",
    "                 limit_mean = (arg_maxy-20, arg_maxy+20),\n",
    "                 sigma = 3.8,\n",
    "                 #limit_sigma=(1,4),\n",
    "                 #fix_sigma=\"True\",\n",
    "                 constant = 0,\n",
    "                 fix_constant=\"True\",\n",
    "                 errordef = 1,\n",
    "                 print_level=0,\n",
    "                 pedantic=False)\n",
    "        #print('Now proceed with the fit.')\n",
    "        m.migrad()\n",
    "        #print()\n",
    "        #m.minos()#, if you need fancy mapping\n",
    "        chisquare=m.fval\n",
    "    except:print(\"Fit did not converge\")   \n",
    "    #print(chisquare)\n",
    "    #print(m.values[\"area\"],m.values[\"mean\"],m.values[\"sigma\"],m.values[\"constant\"])\n",
    "    if(plot==True):\n",
    "        plt.plot(data_x,data_y)\n",
    "        plt.plot(data_x,gaussian_beam(data_x,params=[m.values[\"area\"],m.values[\"mean\"],m.values[\"sigma\"],m.values[\"constant\"]]))\n",
    "        if(logscale==True):plt.yscale(\"log\")\n",
    "        plt.show()\n",
    "    return m"
   ]
  },
  {
   "cell_type": "code",
   "execution_count": 5,
   "metadata": {},
   "outputs": [],
   "source": [
    "def extract_waist_data(df,up_or_low = \"up\",axis=\"Y\",detector=\"SPIN\",avg_rng=10,sub_sample=False,plot=False,logscale=True,save=True):\n",
    "    sigma_list,sigma_err_list,mean_list,chi2_list,fit_list = [[] for x in range(5)]\n",
    "    if(sub_sample==True):length=10\n",
    "    else: length=len(df)\n",
    "    for j in tqdm(np.arange(0,length,1)):\n",
    "        data_y,data_y2,data_x,data_x2 = extract_in_out_movement(df,j,detector,axis,avg_rng=1)\n",
    "        if(up_or_low==\"up\"):m = fit_dP_dx(data_x,data_y,plot=plot)\n",
    "        if(up_or_low==\"low\"):m = fit_dP_dx(data_x2,data_y2,plot=plot)\n",
    "        sigma_list.append(m.values[\"sigma\"])\n",
    "        sigma_err_list.append(m.errors[\"sigma\"])\n",
    "        mean_list.append(m.values[\"mean\"])\n",
    "        chi2_list.append(m.fval/(len(data_x)-3))\n",
    "        fit_list.append(m)\n",
    "    if(save==True):\n",
    "        if(axis==\"X\"):fname=fname_x\n",
    "        if(axis==\"Y\"):fname=fname_y\n",
    "        np.save(folder+fname+\"_sigma_list.npy\", sigma_list)\n",
    "        np.save(folder+fname+\"_mean_list.npy\", mean_list)\n",
    "        np.save(folder+fname+\"_chi2_list.npy\", chi2_list)\n",
    "    print(np.sum(data_y),m.values[\"area\"],m.values[\"mean\"],m.values[\"sigma\"])\n",
    "    return sigma_list,sigma_err_list, mean_list, chi2_list,fit_list"
   ]
  },
  {
   "cell_type": "code",
   "execution_count": null,
   "metadata": {},
   "outputs": [
    {
     "name": "stdout",
     "output_type": "stream",
     "text": [
      "/home/data_transfer/data_from_windows/20201027/NoBead/\n"
     ]
    },
    {
     "name": "stderr",
     "output_type": "stream",
     "text": [
      " 17%|█▋        | 17/100 [00:56<05:01,  3.64s/it]"
     ]
    }
   ],
   "source": [
    "# step 1 load the data for x and y\n",
    "Year = \"2020\"\n",
    "Month = \"10\"\n",
    "Day = \"27\"\n",
    "BeadNumber = 1\n",
    "#folder1 =  r\"/home/data_transfer/data_from_windows/\" +\"ImageAnalysis/PositionCalibration/\"+ Year + Month + Day + \"/BeamProfile/\"\n",
    "#folder =  r\"/home/data_transfer/data_from_windows/\" +\"ImageAnalysis/PositionCalibration/\"+ Year + Month + Day +  \"/BeamProfile/\"\n",
    "folder =  r\"/home/data_transfer/data_from_windows/\" + Year + Month + Day +  \"/NoBead/\"\n",
    "print(folder)\n",
    "#folder = r\"/home/data_transfer/data_from_windows/20200930/NoBead/y210/\"\n",
    "\n",
    "fname_1=\"BeamProfile_Y_X300_1\"\n",
    "fname_2=\"BeamProfile_Y_X300_2\"\n",
    "fname_3=\"BeamProfile_X_Y200_0\"\n",
    "\n",
    "\n",
    "files_1 = load_dir(folder, file_prefix = fname_1, max_file=100)\n",
    "files_2 = load_dir(folder, file_prefix = fname_2, max_file=100)\n",
    "files_3 = load_dir(folder, file_prefix = fname_3, max_file=100)\n"
   ]
  },
  {
   "cell_type": "code",
   "execution_count": null,
   "metadata": {},
   "outputs": [],
   "source": [
    "# step 2 prepare the data into data frames, differentiate the signal and apply calibration\n",
    "\n",
    "df_1 = prepare_profile_data(files_1)\n",
    "df_2 = prepare_profile_data(files_2)\n",
    "df_3 = prepare_profile_data(files_3)"
   ]
  },
  {
   "cell_type": "code",
   "execution_count": null,
   "metadata": {},
   "outputs": [],
   "source": [
    "avg_rng=1\n",
    "up_or_low=\"low\"\n",
    "y_width_spin_1,y_width_spin_err_1,y_mean_spin_1,y_chi2_spin_1,x_fits_spin_1 = extract_waist_data(df_1,up_or_low=up_or_low,axis=\"Y\",detector=\"SPIN\",avg_rng=avg_rng,sub_sample=False,plot=False,logscale=False,save=False)\n",
    "y_width_spin_2,y_width_spin_err_2,y_mean_spin_2,y_chi2_spin_2,y_fits_spin_2 = extract_waist_data(df_2,up_or_low=up_or_low,axis=\"Y\",detector=\"SPIN\",avg_rng=avg_rng,sub_sample=False,plot=False,logscale=False,save=False)\n",
    "#y_width_spin,y_width_spin_err,y_mean_spin,y_chi2_spin,y_fits_spin =extract_waist_data(df_y,up_or_low=\"up\",axis=\"X\",detector=\"SPIN\",avg_rng=1,sub_sample=False,plot=False,logscale=False,save=False)"
   ]
  },
  {
   "cell_type": "code",
   "execution_count": 13,
   "metadata": {},
   "outputs": [
    {
     "data": {
      "image/png": "[encoded data removed]",
      "text/plain": [
       "<Figure size 1152x864 with 1 Axes>"
      ]
     },
     "metadata": {
      "needs_background": "light"
     },
     "output_type": "display_data"
    }
   ],
   "source": [
    "x_for_1 = np.asarray(make_x_axis_for_beam_profile(df_1))\n",
    "x_for_2 =np.asarray(make_x_axis_for_beam_profile(df_2))\n",
    "plt.plot(x_for_1, y_width_spin_1,linestyle=\"\",marker=\"*\",label=\"z=0\")\n",
    "plt.plot(x_for_2, y_width_spin_2,linestyle=\"\",marker=\"*\",label=\"z=25\")\n",
    "plt.ylabel(\"$\\omega$ [um]\")\n",
    "plt.xlabel(\"height [um]\")\n",
    "plt.legend()\n",
    "plt.show()"
   ]
  },
  {
   "cell_type": "code",
   "execution_count": 20,
   "metadata": {},
   "outputs": [
    {
     "name": "stderr",
     "output_type": "stream",
     "text": [
      " 50%|█████     | 50/100 [00:36<00:52,  1.05s/it]"
     ]
    },
    {
     "ename": "KeyboardInterrupt",
     "evalue": "",
     "output_type": "error",
     "traceback": [
      "\u001b[0;31m---------------------------------------------------------------------------\u001b[0m",
      "\u001b[0;31mKeyboardInterrupt\u001b[0m                         Traceback (most recent call last)",
      "\u001b[0;32m<ipython-input-20-8dc6f9a95ab4>\u001b[0m in \u001b[0;36m<module>\u001b[0;34m\u001b[0m\n\u001b[0;32m----> 1\u001b[0;31m \u001b[0mdf_x\u001b[0m \u001b[0;34m=\u001b[0m \u001b[0mprepare_profile_data\u001b[0m\u001b[0;34m(\u001b[0m\u001b[0mfiles_x\u001b[0m\u001b[0;34m)\u001b[0m\u001b[0;34m\u001b[0m\u001b[0;34m\u001b[0m\u001b[0m\n\u001b[0m",
      "\u001b[0;32m<ipython-input-2-b0bb6122d7f8>\u001b[0m in \u001b[0;36mprepare_profile_data\u001b[0;34m(files, spin_data_structure)\u001b[0m\n\u001b[1;32m     15\u001b[0m         \u001b[0;32mif\u001b[0m\u001b[0;34m(\u001b[0m\u001b[0mspin_data_structure\u001b[0m\u001b[0;34m==\u001b[0m\u001b[0;34m\"Old\"\u001b[0m\u001b[0;34m)\u001b[0m\u001b[0;34m:\u001b[0m \u001b[0mspin_temp\u001b[0m \u001b[0;34m=\u001b[0m \u001b[0mfiles\u001b[0m\u001b[0;34m[\u001b[0m\u001b[0mi\u001b[0m\u001b[0;34m]\u001b[0m\u001b[0;34m.\u001b[0m\u001b[0mspin_data\u001b[0m\u001b[0;34m\u001b[0m\u001b[0;34m\u001b[0m\u001b[0m\n\u001b[1;32m     16\u001b[0m         \u001b[0;32mfor\u001b[0m \u001b[0mj\u001b[0m \u001b[0;32min\u001b[0m \u001b[0mrange\u001b[0m\u001b[0;34m(\u001b[0m\u001b[0mlen\u001b[0m\u001b[0;34m(\u001b[0m\u001b[0mfiles\u001b[0m\u001b[0;34m[\u001b[0m\u001b[0mi\u001b[0m\u001b[0;34m]\u001b[0m\u001b[0;34m.\u001b[0m\u001b[0mxyz\u001b[0m\u001b[0;34m[\u001b[0m\u001b[0;36m0\u001b[0m\u001b[0;34m]\u001b[0m\u001b[0;34m)\u001b[0m\u001b[0;34m)\u001b[0m\u001b[0;34m:\u001b[0m\u001b[0;34m\u001b[0m\u001b[0;34m\u001b[0m\u001b[0m\n\u001b[0;32m---> 17\u001b[0;31m             \u001b[0mspin\u001b[0m\u001b[0;34m[\u001b[0m\u001b[0mj\u001b[0m\u001b[0;34m]\u001b[0m\u001b[0;34m=\u001b[0m\u001b[0mnp\u001b[0m\u001b[0;34m.\u001b[0m\u001b[0maverage\u001b[0m\u001b[0;34m(\u001b[0m\u001b[0mspin_temp\u001b[0m\u001b[0;34m[\u001b[0m\u001b[0mint\u001b[0m\u001b[0;34m(\u001b[0m\u001b[0mspin_down_size_factor\u001b[0m\u001b[0;34m)\u001b[0m\u001b[0;34m*\u001b[0m\u001b[0mj\u001b[0m\u001b[0;34m:\u001b[0m \u001b[0mint\u001b[0m\u001b[0;34m(\u001b[0m\u001b[0mspin_down_size_factor\u001b[0m\u001b[0;34m)\u001b[0m\u001b[0;34m*\u001b[0m\u001b[0mj\u001b[0m\u001b[0;34m+\u001b[0m \u001b[0mint\u001b[0m\u001b[0;34m(\u001b[0m\u001b[0mspin_down_size_factor\u001b[0m\u001b[0;34m-\u001b[0m\u001b[0;36m1\u001b[0m\u001b[0;34m)\u001b[0m\u001b[0;34m]\u001b[0m\u001b[0;34m)\u001b[0m \u001b[0;31m# average down to 5000 in order to match spin with the cantilever position.\u001b[0m\u001b[0;34m\u001b[0m\u001b[0;34m\u001b[0m\u001b[0m\n\u001b[0m\u001b[1;32m     18\u001b[0m         \u001b[0mspin_list\u001b[0m\u001b[0;34m.\u001b[0m\u001b[0mappend\u001b[0m\u001b[0;34m(\u001b[0m\u001b[0mspin\u001b[0m\u001b[0;34m)\u001b[0m\u001b[0;34m\u001b[0m\u001b[0;34m\u001b[0m\u001b[0m\n\u001b[1;32m     19\u001b[0m         \u001b[0mqsum_list\u001b[0m\u001b[0;34m.\u001b[0m\u001b[0mappend\u001b[0m\u001b[0;34m(\u001b[0m\u001b[0mfiles\u001b[0m\u001b[0;34m[\u001b[0m\u001b[0mi\u001b[0m\u001b[0;34m]\u001b[0m\u001b[0;34m.\u001b[0m\u001b[0mquad_sum\u001b[0m\u001b[0;34m)\u001b[0m\u001b[0;34m\u001b[0m\u001b[0;34m\u001b[0m\u001b[0m\n",
      "\u001b[0;32m<__array_function__ internals>\u001b[0m in \u001b[0;36maverage\u001b[0;34m(*args, **kwargs)\u001b[0m\n",
      "\u001b[0;32m~/.local/lib/python3.6/site-packages/numpy/lib/function_base.py\u001b[0m in \u001b[0;36maverage\u001b[0;34m(a, axis, weights, returned)\u001b[0m\n\u001b[1;32m    378\u001b[0m \u001b[0;34m\u001b[0m\u001b[0m\n\u001b[1;32m    379\u001b[0m     \u001b[0;32mif\u001b[0m \u001b[0mweights\u001b[0m \u001b[0;32mis\u001b[0m \u001b[0;32mNone\u001b[0m\u001b[0;34m:\u001b[0m\u001b[0;34m\u001b[0m\u001b[0;34m\u001b[0m\u001b[0m\n\u001b[0;32m--> 380\u001b[0;31m         \u001b[0mavg\u001b[0m \u001b[0;34m=\u001b[0m \u001b[0ma\u001b[0m\u001b[0;34m.\u001b[0m\u001b[0mmean\u001b[0m\u001b[0;34m(\u001b[0m\u001b[0maxis\u001b[0m\u001b[0;34m)\u001b[0m\u001b[0;34m\u001b[0m\u001b[0;34m\u001b[0m\u001b[0m\n\u001b[0m\u001b[1;32m    381\u001b[0m         \u001b[0mscl\u001b[0m \u001b[0;34m=\u001b[0m \u001b[0mavg\u001b[0m\u001b[0;34m.\u001b[0m\u001b[0mdtype\u001b[0m\u001b[0;34m.\u001b[0m\u001b[0mtype\u001b[0m\u001b[0;34m(\u001b[0m\u001b[0ma\u001b[0m\u001b[0;34m.\u001b[0m\u001b[0msize\u001b[0m\u001b[0;34m/\u001b[0m\u001b[0mavg\u001b[0m\u001b[0;34m.\u001b[0m\u001b[0msize\u001b[0m\u001b[0;34m)\u001b[0m\u001b[0;34m\u001b[0m\u001b[0;34m\u001b[0m\u001b[0m\n\u001b[1;32m    382\u001b[0m     \u001b[0;32melse\u001b[0m\u001b[0;34m:\u001b[0m\u001b[0;34m\u001b[0m\u001b[0;34m\u001b[0m\u001b[0m\n",
      "\u001b[0;32m~/.local/lib/python3.6/site-packages/numpy/core/_methods.py\u001b[0m in \u001b[0;36m_mean\u001b[0;34m(a, axis, dtype, out, keepdims)\u001b[0m\n\u001b[1;32m    164\u001b[0m         \u001b[0;32mif\u001b[0m \u001b[0mis_float16_result\u001b[0m \u001b[0;32mand\u001b[0m \u001b[0mout\u001b[0m \u001b[0;32mis\u001b[0m \u001b[0;32mNone\u001b[0m\u001b[0;34m:\u001b[0m\u001b[0;34m\u001b[0m\u001b[0;34m\u001b[0m\u001b[0m\n\u001b[1;32m    165\u001b[0m             \u001b[0mret\u001b[0m \u001b[0;34m=\u001b[0m \u001b[0marr\u001b[0m\u001b[0;34m.\u001b[0m\u001b[0mdtype\u001b[0m\u001b[0;34m.\u001b[0m\u001b[0mtype\u001b[0m\u001b[0;34m(\u001b[0m\u001b[0mret\u001b[0m\u001b[0;34m)\u001b[0m\u001b[0;34m\u001b[0m\u001b[0;34m\u001b[0m\u001b[0m\n\u001b[0;32m--> 166\u001b[0;31m     \u001b[0;32melif\u001b[0m \u001b[0mhasattr\u001b[0m\u001b[0;34m(\u001b[0m\u001b[0mret\u001b[0m\u001b[0;34m,\u001b[0m \u001b[0;34m'dtype'\u001b[0m\u001b[0;34m)\u001b[0m\u001b[0;34m:\u001b[0m\u001b[0;34m\u001b[0m\u001b[0;34m\u001b[0m\u001b[0m\n\u001b[0m\u001b[1;32m    167\u001b[0m         \u001b[0;32mif\u001b[0m \u001b[0mis_float16_result\u001b[0m\u001b[0;34m:\u001b[0m\u001b[0;34m\u001b[0m\u001b[0;34m\u001b[0m\u001b[0m\n\u001b[1;32m    168\u001b[0m             \u001b[0mret\u001b[0m \u001b[0;34m=\u001b[0m \u001b[0marr\u001b[0m\u001b[0;34m.\u001b[0m\u001b[0mdtype\u001b[0m\u001b[0;34m.\u001b[0m\u001b[0mtype\u001b[0m\u001b[0;34m(\u001b[0m\u001b[0mret\u001b[0m \u001b[0;34m/\u001b[0m \u001b[0mrcount\u001b[0m\u001b[0;34m)\u001b[0m\u001b[0;34m\u001b[0m\u001b[0;34m\u001b[0m\u001b[0m\n",
      "\u001b[0;31mKeyboardInterrupt\u001b[0m: "
     ]
    }
   ],
   "source": [
    "x_width_spin_1,x_width_spin_err_1,x_mean_spin_1,x_chi2_spin_1,x_fits_spin_1 = extract_waist_data(df_3,up_or_low=\"low\",axis=\"X\",detector=\"SPIN\",avg_rng=avg_rng,sub_sample=False,plot=False,logscale=False,save=False)\n"
   ]
  },
  {
   "cell_type": "code",
   "execution_count": null,
   "metadata": {},
   "outputs": [],
   "source": []
  }
 ],
 "metadata": {
  "kernelspec": {
   "display_name": "Python 3",
   "language": "python",
   "name": "python3"
  },
  "language_info": {
   "codemirror_mode": {
    "name": "ipython",
    "version": 3
   },
   "file_extension": ".py",
   "mimetype": "text/x-python",
   "name": "python",
   "nbconvert_exporter": "python",
   "pygments_lexer": "ipython3",
   "version": "3.6.9"
  },
  "widgets": {
   "application/vnd.jupyter.widget-state+json": {
    "state": {},
    "version_major": 2,
    "version_minor": 0
   }
  }
 },
 "nbformat": 4,
 "nbformat_minor": 4
}
