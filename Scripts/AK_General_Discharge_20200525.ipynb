{
 "cells": [
  {
   "cell_type": "code",
   "execution_count": 1,
   "metadata": {},
   "outputs": [],
   "source": [
    "import numpy as np\n",
    "import matplotlib.pyplot as plt\n",
    "import matplotlib\n",
    "from matplotlib import mlab\n",
    "from scipy import signal\n",
    "import h5py, time\n",
    "import sys\n",
    "import glob\n",
    "sys.path.append('/home/analysis_user/New_trap_code/Tools/')\n",
    "import BeadDataFile\n",
    "from discharge_tools import *\n",
    "from iminuit import Minuit, describe\n",
    "from pprint import pprint # we use this to pretty print some stuff later\n",
    "from tqdm import tqdm\n",
    "from matplotlib.ticker import MaxNLocator\n",
    "\n",
    "\n",
    "plt.rcParams[\"figure.figsize\"] = (12,9)\n",
    "plt.rcParams[\"font.size\"] = 24\n",
    "plt.rcParams['xtick.labelsize'] = \"small\"\n",
    "plt.rcParams['ytick.labelsize'] = 36"
   ]
  },
  {
   "cell_type": "code",
   "execution_count": 2,
   "metadata": {},
   "outputs": [],
   "source": [
    "# specify the folder\n",
    "#foldername = r'/data/new_trap/20200518/Bead2/Discharge/Discharge0519/'\n",
    "foldername = r'/home/data_transfer/data_from_windows/20200525/Bead2/Discharge/Discharge0526/'\n"
   ]
  },
  {
   "cell_type": "code",
   "execution_count": 171,
   "metadata": {},
   "outputs": [],
   "source": [
    "# set the drive and settings for the correlation\n",
    "fdrive=71\n",
    "nsamp = 50000\n",
    "fsamp = 5000\n",
    "sigamp = 1\n",
    "tarr = np.arange(0, nsamp/fsamp, 1.0/fsamp)\n",
    "sig = sigamp * np.sin(2.0 * np.pi * fdrive * tarr)\n"
   ]
  },
  {
   "cell_type": "code",
   "execution_count": null,
   "metadata": {},
   "outputs": [],
   "source": []
  },
  {
   "cell_type": "code",
   "execution_count": null,
   "metadata": {},
   "outputs": [],
   "source": []
  },
  {
   "cell_type": "code",
   "execution_count": null,
   "metadata": {},
   "outputs": [],
   "source": []
  },
  {
   "cell_type": "code",
   "execution_count": 417,
   "metadata": {},
   "outputs": [
    {
     "name": "stdout",
     "output_type": "stream",
     "text": [
      "338  files in folder\n",
      "338  files loaded\n"
     ]
    }
   ],
   "source": [
    "# load the files\n",
    "files_discharge = load_dir(dirname=foldername, start_file=0, max_file=1500)\n",
    "\n",
    "# get the in-phase response\n",
    "corrs = [correlation(drive=sig, response=files.z2, fsamp=fsamp, fdrive=fdrive, filt=True, band_width=1) for files in files_discharge]\n",
    "indices = [np.argmax(cc) for cc in corrs]\n",
    "in_phase = []\n",
    "\n",
    "#RtoQ=49 #this is the coefficient to convert response to charge. \n",
    "RtoQ=25 #this is the coefficient to convert response to charge. \n",
    "for cc in corrs:\n",
    "    in_phase.append((cc[0]-95)/42)"
   ]
  },
  {
   "cell_type": "code",
   "execution_count": 441,
   "metadata": {
    "scrolled": false
   },
   "outputs": [
    {
     "data": {
      "image/png": "[encoded data removed]",
      "text/plain": [
       "<Figure size 864x648 with 1 Axes>"
      ]
     },
     "metadata": {
      "needs_background": "light"
     },
     "output_type": "display_data"
    }
   ],
   "source": [
    "# plot the in-phase response\n",
    "plt.plot(range(len(indices)),in_phase,linestyle=\"\",marker=\"o\")\n",
    "plt.ylim(10,10.5)\n",
    "plt.xlim(260,280)\n",
    "plt.grid(True)\n",
    "plt.show()"
   ]
  },
  {
   "cell_type": "code",
   "execution_count": null,
   "metadata": {},
   "outputs": [],
   "source": []
  },
  {
   "cell_type": "code",
   "execution_count": null,
   "metadata": {},
   "outputs": [],
   "source": []
  },
  {
   "cell_type": "code",
   "execution_count": null,
   "metadata": {},
   "outputs": [],
   "source": []
  }
 ],
 "metadata": {
  "kernelspec": {
   "display_name": "Python 3",
   "language": "python",
   "name": "python3"
  },
  "language_info": {
   "codemirror_mode": {
    "name": "ipython",
    "version": 3
   },
   "file_extension": ".py",
   "mimetype": "text/x-python",
   "name": "python",
   "nbconvert_exporter": "python",
   "pygments_lexer": "ipython3",
   "version": "3.6.9"
  }
 },
 "nbformat": 4,
 "nbformat_minor": 2
}
