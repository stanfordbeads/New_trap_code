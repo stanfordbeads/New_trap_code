{
 "cells": [
  {
   "cell_type": "code",
   "execution_count": 105,
   "metadata": {},
   "outputs": [],
   "source": [
    "%run /home/analysis_user/New_trap_code/Tools/basic_packages.py\n",
    "\n",
    "plt.rcParams[\"figure.figsize\"] = (16,12)\n",
    "plt.rcParams[\"font.size\"] = 24\n",
    "plt.rcParams['xtick.labelsize'] = \"small\"\n",
    "plt.rcParams['ytick.labelsize'] = 36"
   ]
  },
  {
   "cell_type": "code",
   "execution_count": 106,
   "metadata": {},
   "outputs": [],
   "source": [
    "pixel_size_cal = 0.503 # obtained from attractor calibration data February2020, but cross checked during Wilson itself\n",
    "attractor_0 = 226 # 0 position of attractor as extrapolated from image analysis of z=50 and z=27. Obtained from Wilson attractor screening."
   ]
  },
  {
   "cell_type": "code",
   "execution_count": 141,
   "metadata": {
    "scrolled": true
   },
   "outputs": [
    {
     "name": "stdout",
     "output_type": "stream",
     "text": [
      "/data/new_trap/20200518/Bead2//Shaking/Shaking374/Pictures_0/Shaking374_7_0.npy 0\n",
      "/data/new_trap/20200518/Bead2//Shaking/Shaking374/Pictures_0/Shaking374_7_1.npy 1\n",
      "/data/new_trap/20200518/Bead2//Shaking/Shaking374/Pictures_0/Shaking374_7_2.npy 2\n",
      "/data/new_trap/20200518/Bead2//Shaking/Shaking374/Pictures_0/Shaking374_7_3.npy 3\n",
      "/data/new_trap/20200518/Bead2//Shaking/Shaking374/Pictures_0/Shaking374_7_4.npy 4\n",
      "/data/new_trap/20200518/Bead2//Shaking/Shaking374/Pictures_0/Shaking374_7_5.npy 5\n",
      "/data/new_trap/20200518/Bead2//Shaking/Shaking374/Pictures_0/Shaking374_7_6.npy 6\n",
      "/data/new_trap/20200518/Bead2//Shaking/Shaking374/Pictures_0/Shaking374_7_7.npy 7\n",
      "/data/new_trap/20200518/Bead2//Shaking/Shaking374/Pictures_0/Shaking374_7_8.npy 8\n",
      "/data/new_trap/20200518/Bead2//Shaking/Shaking374/Pictures_0/Shaking374_7_9.npy 9\n",
      "/data/new_trap/20200518/Bead2//Shaking/Shaking374/Pictures_0/Shaking374_7_10.npy 10\n",
      "/data/new_trap/20200518/Bead2//Shaking/Shaking374/Pictures_0/Shaking374_7_11.npy 11\n",
      "/data/new_trap/20200518/Bead2//Shaking/Shaking374/Pictures_0/Shaking374_7_12.npy 12\n",
      "/data/new_trap/20200518/Bead2//Shaking/Shaking374/Pictures_0/Shaking374_7_13.npy 13\n",
      "/data/new_trap/20200518/Bead2//Shaking/Shaking374/Pictures_0/Shaking374_7_14.npy 14\n",
      "/data/new_trap/20200518/Bead2//Shaking/Shaking374/Pictures_0/Shaking374_7_15.npy 15\n",
      "/data/new_trap/20200518/Bead2//Shaking/Shaking374/Pictures_0/Shaking374_7_16.npy 16\n",
      "/data/new_trap/20200518/Bead2//Shaking/Shaking374/Pictures_0/Shaking374_7_17.npy 17\n",
      "/data/new_trap/20200518/Bead2//Shaking/Shaking374/Pictures_0/Shaking374_7_18.npy 18\n",
      "/data/new_trap/20200518/Bead2//Shaking/Shaking374/Pictures_0/Shaking374_7_19.npy 19\n",
      "/data/new_trap/20200518/Bead2//Shaking/Shaking374/Pictures_0/Shaking374_7_20.npy 20\n",
      "/data/new_trap/20200518/Bead2//Shaking/Shaking374/Pictures_0/Shaking374_7_21.npy 21\n",
      "/data/new_trap/20200518/Bead2//Shaking/Shaking374/Pictures_0/Shaking374_7_22.npy 22\n",
      "/data/new_trap/20200518/Bead2//Shaking/Shaking374/Pictures_0/Shaking374_7_23.npy 23\n",
      "/data/new_trap/20200518/Bead2//Shaking/Shaking374/Pictures_0/Shaking374_7_24.npy 24\n",
      "/data/new_trap/20200518/Bead2//Shaking/Shaking374/Pictures_0/Shaking374_7_25.npy 25\n",
      "/data/new_trap/20200518/Bead2//Shaking/Shaking374/Pictures_0/Shaking374_7_26.npy 26\n",
      "/data/new_trap/20200518/Bead2//Shaking/Shaking374/Pictures_0/Shaking374_7_27.npy 27\n",
      "/data/new_trap/20200518/Bead2//Shaking/Shaking374/Pictures_0/Shaking374_7_28.npy 28\n",
      "/data/new_trap/20200518/Bead2//Shaking/Shaking374/Pictures_0/Shaking374_7_29.npy 29\n",
      "/data/new_trap/20200518/Bead2//Shaking/Shaking374/Pictures_0/Shaking374_7_30.npy 30\n",
      "/data/new_trap/20200518/Bead2//Shaking/Shaking374/Pictures_0/Shaking374_7_31.npy 31\n",
      "/data/new_trap/20200518/Bead2//Shaking/Shaking374/Pictures_0/Shaking374_7_32.npy 32\n",
      "/data/new_trap/20200518/Bead2//Shaking/Shaking374/Pictures_0/Shaking374_7_33.npy 33\n",
      "/data/new_trap/20200518/Bead2//Shaking/Shaking374/Pictures_0/Shaking374_7_34.npy 34\n",
      "/data/new_trap/20200518/Bead2//Shaking/Shaking374/Pictures_0/Shaking374_7_35.npy 35\n",
      "/data/new_trap/20200518/Bead2//Shaking/Shaking374/Pictures_0/Shaking374_7_36.npy 36\n",
      "/data/new_trap/20200518/Bead2//Shaking/Shaking374/Pictures_0/Shaking374_7_37.npy 37\n",
      "/data/new_trap/20200518/Bead2//Shaking/Shaking374/Pictures_0/Shaking374_7_38.npy 38\n",
      "/data/new_trap/20200518/Bead2//Shaking/Shaking374/Pictures_0/Shaking374_7_39.npy 39\n",
      "/data/new_trap/20200518/Bead2//Shaking/Shaking374/Pictures_0/Shaking374_7_40.npy 40\n",
      "/data/new_trap/20200518/Bead2//Shaking/Shaking374/Pictures_0/Shaking374_7_41.npy 41\n",
      "/data/new_trap/20200518/Bead2//Shaking/Shaking374/Pictures_0/Shaking374_7_42.npy 42\n",
      "/data/new_trap/20200518/Bead2//Shaking/Shaking374/Pictures_0/Shaking374_7_43.npy 43\n",
      "/data/new_trap/20200518/Bead2//Shaking/Shaking374/Pictures_0/Shaking374_7_44.npy 44\n",
      "/data/new_trap/20200518/Bead2//Shaking/Shaking374/Pictures_0/Shaking374_7_45.npy 45\n",
      "/data/new_trap/20200518/Bead2//Shaking/Shaking374/Pictures_0/Shaking374_7_46.npy 46\n",
      "/data/new_trap/20200518/Bead2//Shaking/Shaking374/Pictures_0/Shaking374_7_47.npy 47\n",
      "/data/new_trap/20200518/Bead2//Shaking/Shaking374/Pictures_0/Shaking374_7_48.npy 48\n",
      "/data/new_trap/20200518/Bead2//Shaking/Shaking374/Pictures_0/Shaking374_7_49.npy 49\n",
      "/data/new_trap/20200518/Bead2//Shaking/Shaking374/Pictures_0/Shaking374_7_50.npy 50\n",
      "/data/new_trap/20200518/Bead2//Shaking/Shaking374/Pictures_0/Shaking374_7_51.npy 51\n",
      "/data/new_trap/20200518/Bead2//Shaking/Shaking374/Pictures_0/Shaking374_7_52.npy 52\n",
      "/data/new_trap/20200518/Bead2//Shaking/Shaking374/Pictures_0/Shaking374_7_53.npy 53\n",
      "/data/new_trap/20200518/Bead2//Shaking/Shaking374/Pictures_0/Shaking374_7_54.npy 54\n",
      "/data/new_trap/20200518/Bead2//Shaking/Shaking374/Pictures_0/Shaking374_7_55.npy 55\n",
      "/data/new_trap/20200518/Bead2//Shaking/Shaking374/Pictures_0/Shaking374_7_56.npy 56\n",
      "/data/new_trap/20200518/Bead2//Shaking/Shaking374/Pictures_0/Shaking374_7_57.npy 57\n",
      "/data/new_trap/20200518/Bead2//Shaking/Shaking374/Pictures_0/Shaking374_7_58.npy 58\n",
      "/data/new_trap/20200518/Bead2//Shaking/Shaking374/Pictures_0/Shaking374_7_59.npy 59\n",
      "/data/new_trap/20200518/Bead2//Shaking/Shaking374/Pictures_0/Shaking374_7_60.npy 60\n",
      "/data/new_trap/20200518/Bead2//Shaking/Shaking374/Pictures_0/Shaking374_7_61.npy 61\n",
      "/data/new_trap/20200518/Bead2//Shaking/Shaking374/Pictures_0/Shaking374_7_62.npy 62\n",
      "/data/new_trap/20200518/Bead2//Shaking/Shaking374/Pictures_0/Shaking374_7_63.npy 63\n",
      "/data/new_trap/20200518/Bead2//Shaking/Shaking374/Pictures_0/Shaking374_7_64.npy 64\n",
      "/data/new_trap/20200518/Bead2//Shaking/Shaking374/Pictures_0/Shaking374_7_65.npy 65\n",
      "/data/new_trap/20200518/Bead2//Shaking/Shaking374/Pictures_0/Shaking374_7_66.npy 66\n",
      "/data/new_trap/20200518/Bead2//Shaking/Shaking374/Pictures_0/Shaking374_7_67.npy 67\n",
      "/data/new_trap/20200518/Bead2//Shaking/Shaking374/Pictures_0/Shaking374_7_68.npy 68\n",
      "/data/new_trap/20200518/Bead2//Shaking/Shaking374/Pictures_0/Shaking374_7_69.npy 69\n",
      "/data/new_trap/20200518/Bead2//Shaking/Shaking374/Pictures_0/Shaking374_7_70.npy 70\n",
      "/data/new_trap/20200518/Bead2//Shaking/Shaking374/Pictures_0/Shaking374_7_71.npy 71\n",
      "/data/new_trap/20200518/Bead2//Shaking/Shaking374/Pictures_0/Shaking374_7_72.npy 72\n",
      "/data/new_trap/20200518/Bead2//Shaking/Shaking374/Pictures_0/Shaking374_7_73.npy 73\n",
      "/data/new_trap/20200518/Bead2//Shaking/Shaking374/Pictures_0/Shaking374_7_74.npy 74\n",
      "/data/new_trap/20200518/Bead2//Shaking/Shaking374/Pictures_0/Shaking374_7_75.npy 75\n",
      "/data/new_trap/20200518/Bead2//Shaking/Shaking374/Pictures_0/Shaking374_7_76.npy 76\n",
      "/data/new_trap/20200518/Bead2//Shaking/Shaking374/Pictures_0/Shaking374_7_77.npy 77\n",
      "/data/new_trap/20200518/Bead2//Shaking/Shaking374/Pictures_0/Shaking374_7_78.npy 78\n",
      "/data/new_trap/20200518/Bead2//Shaking/Shaking374/Pictures_0/Shaking374_7_79.npy 79\n",
      "/data/new_trap/20200518/Bead2//Shaking/Shaking374/Pictures_0/Shaking374_7_80.npy 80\n",
      "/data/new_trap/20200518/Bead2//Shaking/Shaking374/Pictures_0/Shaking374_7_81.npy 81\n",
      "/data/new_trap/20200518/Bead2//Shaking/Shaking374/Pictures_0/Shaking374_7_82.npy 82\n",
      "/data/new_trap/20200518/Bead2//Shaking/Shaking374/Pictures_0/Shaking374_7_83.npy 83\n",
      "/data/new_trap/20200518/Bead2//Shaking/Shaking374/Pictures_0/Shaking374_7_84.npy 84\n",
      "/data/new_trap/20200518/Bead2//Shaking/Shaking374/Pictures_0/Shaking374_7_85.npy 85\n",
      "/data/new_trap/20200518/Bead2//Shaking/Shaking374/Pictures_0/Shaking374_7_86.npy 86\n",
      "/data/new_trap/20200518/Bead2//Shaking/Shaking374/Pictures_0/Shaking374_7_87.npy 87\n",
      "/data/new_trap/20200518/Bead2//Shaking/Shaking374/Pictures_0/Shaking374_7_88.npy 88\n",
      "/data/new_trap/20200518/Bead2//Shaking/Shaking374/Pictures_0/Shaking374_7_89.npy 89\n",
      "/data/new_trap/20200518/Bead2//Shaking/Shaking374/Pictures_0/Shaking374_7_90.npy 90\n",
      "/data/new_trap/20200518/Bead2//Shaking/Shaking374/Pictures_0/Shaking374_7_91.npy 91\n",
      "/data/new_trap/20200518/Bead2//Shaking/Shaking374/Pictures_0/Shaking374_7_92.npy 92\n",
      "/data/new_trap/20200518/Bead2//Shaking/Shaking374/Pictures_0/Shaking374_7_93.npy 93\n",
      "/data/new_trap/20200518/Bead2//Shaking/Shaking374/Pictures_0/Shaking374_7_94.npy 94\n",
      "/data/new_trap/20200518/Bead2//Shaking/Shaking374/Pictures_0/Shaking374_7_95.npy 95\n",
      "/data/new_trap/20200518/Bead2//Shaking/Shaking374/Pictures_0/Shaking374_7_96.npy 96\n",
      "/data/new_trap/20200518/Bead2//Shaking/Shaking374/Pictures_0/Shaking374_7_97.npy 97\n",
      "/data/new_trap/20200518/Bead2//Shaking/Shaking374/Pictures_0/Shaking374_7_98.npy 98\n",
      "/data/new_trap/20200518/Bead2//Shaking/Shaking374/Pictures_0/Shaking374_7_99.npy 99\n",
      "/data/new_trap/20200518/Bead2//Shaking/Shaking374/Pictures_0/Shaking374_7_100.npy 100\n",
      "/data/new_trap/20200518/Bead2//Shaking/Shaking374/Pictures_0/Shaking374_7_101.npy 101\n",
      "/data/new_trap/20200518/Bead2//Shaking/Shaking374/Pictures_0/Shaking374_7_102.npy 102\n",
      "/data/new_trap/20200518/Bead2//Shaking/Shaking374/Pictures_0/Shaking374_7_103.npy 103\n",
      "/data/new_trap/20200518/Bead2//Shaking/Shaking374/Pictures_0/Shaking374_7_104.npy 104\n",
      "/data/new_trap/20200518/Bead2//Shaking/Shaking374/Pictures_0/Shaking374_7_105.npy 105\n",
      "/data/new_trap/20200518/Bead2//Shaking/Shaking374/Pictures_0/Shaking374_7_106.npy 106\n",
      "/data/new_trap/20200518/Bead2//Shaking/Shaking374/Pictures_0/Shaking374_7_107.npy 107\n",
      "/data/new_trap/20200518/Bead2//Shaking/Shaking374/Pictures_0/Shaking374_7_108.npy 108\n",
      "/data/new_trap/20200518/Bead2//Shaking/Shaking374/Pictures_0/Shaking374_7_109.npy 109\n",
      "/data/new_trap/20200518/Bead2//Shaking/Shaking374/Pictures_0/Shaking374_7_110.npy 110\n",
      "/data/new_trap/20200518/Bead2//Shaking/Shaking374/Pictures_0/Shaking374_7_111.npy 111\n",
      "/data/new_trap/20200518/Bead2//Shaking/Shaking374/Pictures_0/Shaking374_7_112.npy 112\n",
      "/data/new_trap/20200518/Bead2//Shaking/Shaking374/Pictures_0/Shaking374_7_113.npy 113\n",
      "/data/new_trap/20200518/Bead2//Shaking/Shaking374/Pictures_0/Shaking374_7_114.npy 114\n",
      "/data/new_trap/20200518/Bead2//Shaking/Shaking374/Pictures_0/Shaking374_7_115.npy 115\n",
      "/data/new_trap/20200518/Bead2//Shaking/Shaking374/Pictures_0/Shaking374_7_116.npy 116\n",
      "/data/new_trap/20200518/Bead2//Shaking/Shaking374/Pictures_0/Shaking374_7_117.npy 117\n",
      "/data/new_trap/20200518/Bead2//Shaking/Shaking374/Pictures_0/Shaking374_7_118.npy 118\n",
      "/data/new_trap/20200518/Bead2//Shaking/Shaking374/Pictures_0/Shaking374_7_119.npy 119\n",
      "/data/new_trap/20200518/Bead2//Shaking/Shaking374/Pictures_0/Shaking374_7_120.npy 120\n",
      "/data/new_trap/20200518/Bead2//Shaking/Shaking374/Pictures_0/Shaking374_7_121.npy 121\n",
      "/data/new_trap/20200518/Bead2//Shaking/Shaking374/Pictures_0/Shaking374_7_122.npy 122\n",
      "/data/new_trap/20200518/Bead2//Shaking/Shaking374/Pictures_0/Shaking374_7_123.npy 123\n",
      "/data/new_trap/20200518/Bead2//Shaking/Shaking374/Pictures_0/Shaking374_7_124.npy 124\n",
      "/data/new_trap/20200518/Bead2//Shaking/Shaking374/Pictures_0/Shaking374_7_125.npy 125\n",
      "/data/new_trap/20200518/Bead2//Shaking/Shaking374/Pictures_0/Shaking374_7_126.npy 126\n",
      "/data/new_trap/20200518/Bead2//Shaking/Shaking374/Pictures_0/Shaking374_7_127.npy 127\n",
      "/data/new_trap/20200518/Bead2//Shaking/Shaking374/Pictures_0/Shaking374_7_128.npy 128\n",
      "/data/new_trap/20200518/Bead2//Shaking/Shaking374/Pictures_0/Shaking374_7_129.npy 129\n",
      "/data/new_trap/20200518/Bead2//Shaking/Shaking374/Pictures_0/Shaking374_7_130.npy 130\n",
      "/data/new_trap/20200518/Bead2//Shaking/Shaking374/Pictures_0/Shaking374_7_131.npy 131\n",
      "/data/new_trap/20200518/Bead2//Shaking/Shaking374/Pictures_0/Shaking374_7_132.npy 132\n",
      "/data/new_trap/20200518/Bead2//Shaking/Shaking374/Pictures_0/Shaking374_7_133.npy 133\n",
      "/data/new_trap/20200518/Bead2//Shaking/Shaking374/Pictures_0/Shaking374_7_134.npy 134\n",
      "/data/new_trap/20200518/Bead2//Shaking/Shaking374/Pictures_0/Shaking374_7_135.npy 135\n",
      "/data/new_trap/20200518/Bead2//Shaking/Shaking374/Pictures_0/Shaking374_7_136.npy 136\n",
      "/data/new_trap/20200518/Bead2//Shaking/Shaking374/Pictures_0/Shaking374_7_137.npy 137\n",
      "/data/new_trap/20200518/Bead2//Shaking/Shaking374/Pictures_0/Shaking374_7_138.npy 138\n",
      "/data/new_trap/20200518/Bead2//Shaking/Shaking374/Pictures_0/Shaking374_7_139.npy 139\n",
      "/data/new_trap/20200518/Bead2//Shaking/Shaking374/Pictures_0/Shaking374_7_140.npy 140\n",
      "/data/new_trap/20200518/Bead2//Shaking/Shaking374/Pictures_0/Shaking374_7_141.npy 141\n",
      "/data/new_trap/20200518/Bead2//Shaking/Shaking374/Pictures_0/Shaking374_7_142.npy 142\n",
      "/data/new_trap/20200518/Bead2//Shaking/Shaking374/Pictures_0/Shaking374_7_143.npy 143\n",
      "/data/new_trap/20200518/Bead2//Shaking/Shaking374/Pictures_0/Shaking374_7_144.npy 144\n",
      "/data/new_trap/20200518/Bead2//Shaking/Shaking374/Pictures_0/Shaking374_7_145.npy 145\n",
      "/data/new_trap/20200518/Bead2//Shaking/Shaking374/Pictures_0/Shaking374_7_146.npy 146\n",
      "/data/new_trap/20200518/Bead2//Shaking/Shaking374/Pictures_0/Shaking374_7_147.npy 147\n",
      "/data/new_trap/20200518/Bead2//Shaking/Shaking374/Pictures_0/Shaking374_7_148.npy 148\n",
      "/data/new_trap/20200518/Bead2//Shaking/Shaking374/Pictures_0/Shaking374_7_149.npy 149\n",
      "/data/new_trap/20200518/Bead2//Shaking/Shaking374/Pictures_0/Shaking374_7_150.npy 150\n",
      "/data/new_trap/20200518/Bead2//Shaking/Shaking374/Pictures_0/Shaking374_7_151.npy 151\n",
      "/data/new_trap/20200518/Bead2//Shaking/Shaking374/Pictures_0/Shaking374_7_152.npy 152\n",
      "/data/new_trap/20200518/Bead2//Shaking/Shaking374/Pictures_0/Shaking374_7_153.npy 153\n",
      "/data/new_trap/20200518/Bead2//Shaking/Shaking374/Pictures_0/Shaking374_7_154.npy 154\n",
      "/data/new_trap/20200518/Bead2//Shaking/Shaking374/Pictures_0/Shaking374_7_155.npy 155\n",
      "/data/new_trap/20200518/Bead2//Shaking/Shaking374/Pictures_0/Shaking374_7_156.npy 156\n",
      "/data/new_trap/20200518/Bead2//Shaking/Shaking374/Pictures_0/Shaking374_7_157.npy 157\n",
      "/data/new_trap/20200518/Bead2//Shaking/Shaking374/Pictures_0/Shaking374_7_158.npy 158\n",
      "/data/new_trap/20200518/Bead2//Shaking/Shaking374/Pictures_0/Shaking374_7_159.npy 159\n",
      "/data/new_trap/20200518/Bead2//Shaking/Shaking374/Pictures_0/Shaking374_7_160.npy 160\n",
      "/data/new_trap/20200518/Bead2//Shaking/Shaking374/Pictures_0/Shaking374_7_161.npy 161\n",
      "/data/new_trap/20200518/Bead2//Shaking/Shaking374/Pictures_0/Shaking374_7_162.npy 162\n",
      "/data/new_trap/20200518/Bead2//Shaking/Shaking374/Pictures_0/Shaking374_7_163.npy 163\n",
      "/data/new_trap/20200518/Bead2//Shaking/Shaking374/Pictures_0/Shaking374_7_164.npy 164\n",
      "/data/new_trap/20200518/Bead2//Shaking/Shaking374/Pictures_0/Shaking374_7_165.npy 165\n",
      "/data/new_trap/20200518/Bead2//Shaking/Shaking374/Pictures_0/Shaking374_7_166.npy 166\n",
      "/data/new_trap/20200518/Bead2//Shaking/Shaking374/Pictures_0/Shaking374_7_167.npy 167\n",
      "/data/new_trap/20200518/Bead2//Shaking/Shaking374/Pictures_0/Shaking374_7_168.npy 168\n",
      "/data/new_trap/20200518/Bead2//Shaking/Shaking374/Pictures_0/Shaking374_7_169.npy 169\n",
      "/data/new_trap/20200518/Bead2//Shaking/Shaking374/Pictures_0/Shaking374_7_170.npy 170\n",
      "/data/new_trap/20200518/Bead2//Shaking/Shaking374/Pictures_0/Shaking374_7_171.npy 171\n",
      "/data/new_trap/20200518/Bead2//Shaking/Shaking374/Pictures_0/Shaking374_7_172.npy 172\n",
      "/data/new_trap/20200518/Bead2//Shaking/Shaking374/Pictures_0/Shaking374_7_173.npy 173\n",
      "/data/new_trap/20200518/Bead2//Shaking/Shaking374/Pictures_0/Shaking374_7_174.npy 174\n",
      "/data/new_trap/20200518/Bead2//Shaking/Shaking374/Pictures_0/Shaking374_7_175.npy 175\n",
      "/data/new_trap/20200518/Bead2//Shaking/Shaking374/Pictures_0/Shaking374_7_176.npy 176\n",
      "/data/new_trap/20200518/Bead2//Shaking/Shaking374/Pictures_0/Shaking374_7_177.npy 177\n",
      "/data/new_trap/20200518/Bead2//Shaking/Shaking374/Pictures_0/Shaking374_7_178.npy 178\n",
      "/data/new_trap/20200518/Bead2//Shaking/Shaking374/Pictures_0/Shaking374_7_179.npy 179\n",
      "/data/new_trap/20200518/Bead2//Shaking/Shaking374/Pictures_0/Shaking374_7_180.npy 180\n",
      "/data/new_trap/20200518/Bead2//Shaking/Shaking374/Pictures_0/Shaking374_7_181.npy 181\n",
      "/data/new_trap/20200518/Bead2//Shaking/Shaking374/Pictures_0/Shaking374_7_182.npy 182\n",
      "/data/new_trap/20200518/Bead2//Shaking/Shaking374/Pictures_0/Shaking374_7_183.npy 183\n",
      "/data/new_trap/20200518/Bead2//Shaking/Shaking374/Pictures_0/Shaking374_7_184.npy 184\n",
      "/data/new_trap/20200518/Bead2//Shaking/Shaking374/Pictures_0/Shaking374_7_185.npy 185\n",
      "/data/new_trap/20200518/Bead2//Shaking/Shaking374/Pictures_0/Shaking374_7_186.npy 186\n",
      "/data/new_trap/20200518/Bead2//Shaking/Shaking374/Pictures_0/Shaking374_7_187.npy 187\n",
      "/data/new_trap/20200518/Bead2//Shaking/Shaking374/Pictures_0/Shaking374_7_188.npy 188\n",
      "/data/new_trap/20200518/Bead2//Shaking/Shaking374/Pictures_0/Shaking374_7_189.npy 189\n",
      "/data/new_trap/20200518/Bead2//Shaking/Shaking374/Pictures_0/Shaking374_7_190.npy 190\n",
      "/data/new_trap/20200518/Bead2//Shaking/Shaking374/Pictures_0/Shaking374_7_191.npy 191\n",
      "/data/new_trap/20200518/Bead2//Shaking/Shaking374/Pictures_0/Shaking374_7_192.npy 192\n",
      "/data/new_trap/20200518/Bead2//Shaking/Shaking374/Pictures_0/Shaking374_7_193.npy 193\n",
      "/data/new_trap/20200518/Bead2//Shaking/Shaking374/Pictures_0/Shaking374_7_194.npy 194\n",
      "/data/new_trap/20200518/Bead2//Shaking/Shaking374/Pictures_0/Shaking374_7_195.npy 195\n",
      "/data/new_trap/20200518/Bead2//Shaking/Shaking374/Pictures_0/Shaking374_7_196.npy 196\n",
      "/data/new_trap/20200518/Bead2//Shaking/Shaking374/Pictures_0/Shaking374_7_197.npy 197\n",
      "/data/new_trap/20200518/Bead2//Shaking/Shaking374/Pictures_0/Shaking374_7_198.npy 198\n",
      "/data/new_trap/20200518/Bead2//Shaking/Shaking374/Pictures_0/Shaking374_7_199.npy 199\n",
      "/data/new_trap/20200518/Bead2//Shaking/Shaking374/Pictures_0/Shaking374_7_200.npy 200\n",
      "/data/new_trap/20200518/Bead2//Shaking/Shaking374/Pictures_0/Shaking374_7_201.npy 201\n",
      "/data/new_trap/20200518/Bead2//Shaking/Shaking374/Pictures_0/Shaking374_7_202.npy 202\n",
      "/data/new_trap/20200518/Bead2//Shaking/Shaking374/Pictures_0/Shaking374_7_203.npy 203\n",
      "/data/new_trap/20200518/Bead2//Shaking/Shaking374/Pictures_0/Shaking374_7_204.npy 204\n",
      "/data/new_trap/20200518/Bead2//Shaking/Shaking374/Pictures_0/Shaking374_7_205.npy 205\n",
      "/data/new_trap/20200518/Bead2//Shaking/Shaking374/Pictures_0/Shaking374_7_206.npy 206\n",
      "/data/new_trap/20200518/Bead2//Shaking/Shaking374/Pictures_0/Shaking374_7_207.npy 207\n",
      "/data/new_trap/20200518/Bead2//Shaking/Shaking374/Pictures_0/Shaking374_7_208.npy 208\n",
      "/data/new_trap/20200518/Bead2//Shaking/Shaking374/Pictures_0/Shaking374_7_209.npy 209\n",
      "/data/new_trap/20200518/Bead2//Shaking/Shaking374/Pictures_0/Shaking374_7_210.npy 210\n",
      "/data/new_trap/20200518/Bead2//Shaking/Shaking374/Pictures_0/Shaking374_7_211.npy 211\n",
      "/data/new_trap/20200518/Bead2//Shaking/Shaking374/Pictures_0/Shaking374_7_212.npy 212\n",
      "/data/new_trap/20200518/Bead2//Shaking/Shaking374/Pictures_0/Shaking374_7_213.npy 213\n",
      "/data/new_trap/20200518/Bead2//Shaking/Shaking374/Pictures_0/Shaking374_7_214.npy 214\n",
      "/data/new_trap/20200518/Bead2//Shaking/Shaking374/Pictures_0/Shaking374_7_215.npy 215\n",
      "/data/new_trap/20200518/Bead2//Shaking/Shaking374/Pictures_0/Shaking374_7_216.npy 216\n",
      "/data/new_trap/20200518/Bead2//Shaking/Shaking374/Pictures_0/Shaking374_7_217.npy 217\n",
      "/data/new_trap/20200518/Bead2//Shaking/Shaking374/Pictures_0/Shaking374_7_218.npy 218\n",
      "/data/new_trap/20200518/Bead2//Shaking/Shaking374/Pictures_0/Shaking374_7_219.npy 219\n",
      "/data/new_trap/20200518/Bead2//Shaking/Shaking374/Pictures_0/Shaking374_7_220.npy 220\n",
      "/data/new_trap/20200518/Bead2//Shaking/Shaking374/Pictures_0/Shaking374_7_221.npy 221\n",
      "/data/new_trap/20200518/Bead2//Shaking/Shaking374/Pictures_0/Shaking374_7_222.npy 222\n",
      "/data/new_trap/20200518/Bead2//Shaking/Shaking374/Pictures_0/Shaking374_7_223.npy 223\n",
      "/data/new_trap/20200518/Bead2//Shaking/Shaking374/Pictures_0/Shaking374_7_224.npy 224\n",
      "/data/new_trap/20200518/Bead2//Shaking/Shaking374/Pictures_0/Shaking374_7_225.npy 225\n",
      "/data/new_trap/20200518/Bead2//Shaking/Shaking374/Pictures_0/Shaking374_7_226.npy 226\n",
      "/data/new_trap/20200518/Bead2//Shaking/Shaking374/Pictures_0/Shaking374_7_227.npy 227\n",
      "/data/new_trap/20200518/Bead2//Shaking/Shaking374/Pictures_0/Shaking374_7_228.npy 228\n",
      "/data/new_trap/20200518/Bead2//Shaking/Shaking374/Pictures_0/Shaking374_7_229.npy 229\n",
      "/data/new_trap/20200518/Bead2//Shaking/Shaking374/Pictures_0/Shaking374_7_230.npy 230\n",
      "/data/new_trap/20200518/Bead2//Shaking/Shaking374/Pictures_0/Shaking374_7_231.npy 231\n",
      "/data/new_trap/20200518/Bead2//Shaking/Shaking374/Pictures_0/Shaking374_7_232.npy 232\n",
      "/data/new_trap/20200518/Bead2//Shaking/Shaking374/Pictures_0/Shaking374_7_233.npy 233\n",
      "/data/new_trap/20200518/Bead2//Shaking/Shaking374/Pictures_0/Shaking374_7_234.npy 234\n",
      "/data/new_trap/20200518/Bead2//Shaking/Shaking374/Pictures_0/Shaking374_7_235.npy 235\n",
      "/data/new_trap/20200518/Bead2//Shaking/Shaking374/Pictures_0/Shaking374_7_236.npy 236\n",
      "/data/new_trap/20200518/Bead2//Shaking/Shaking374/Pictures_0/Shaking374_7_237.npy 237\n",
      "/data/new_trap/20200518/Bead2//Shaking/Shaking374/Pictures_0/Shaking374_7_238.npy 238\n",
      "/data/new_trap/20200518/Bead2//Shaking/Shaking374/Pictures_0/Shaking374_7_239.npy 239\n",
      "/data/new_trap/20200518/Bead2//Shaking/Shaking374/Pictures_0/Shaking374_7_240.npy 240\n",
      "/data/new_trap/20200518/Bead2//Shaking/Shaking374/Pictures_0/Shaking374_7_241.npy 241\n",
      "/data/new_trap/20200518/Bead2//Shaking/Shaking374/Pictures_0/Shaking374_7_242.npy 242\n",
      "/data/new_trap/20200518/Bead2//Shaking/Shaking374/Pictures_0/Shaking374_7_243.npy 243\n",
      "/data/new_trap/20200518/Bead2//Shaking/Shaking374/Pictures_0/Shaking374_7_244.npy 244\n",
      "/data/new_trap/20200518/Bead2//Shaking/Shaking374/Pictures_0/Shaking374_7_245.npy 245\n",
      "/data/new_trap/20200518/Bead2//Shaking/Shaking374/Pictures_0/Shaking374_7_246.npy 246\n",
      "/data/new_trap/20200518/Bead2//Shaking/Shaking374/Pictures_0/Shaking374_7_247.npy 247\n",
      "/data/new_trap/20200518/Bead2//Shaking/Shaking374/Pictures_0/Shaking374_7_248.npy 248\n",
      "/data/new_trap/20200518/Bead2//Shaking/Shaking374/Pictures_0/Shaking374_7_249.npy 249\n",
      "/data/new_trap/20200518/Bead2//Shaking/Shaking374/Pictures_0/Shaking374_7_250.npy 250\n",
      "/data/new_trap/20200518/Bead2//Shaking/Shaking374/Pictures_0/Shaking374_7_251.npy 251\n",
      "/data/new_trap/20200518/Bead2//Shaking/Shaking374/Pictures_0/Shaking374_7_252.npy 252\n",
      "/data/new_trap/20200518/Bead2//Shaking/Shaking374/Pictures_0/Shaking374_7_253.npy 253\n",
      "/data/new_trap/20200518/Bead2//Shaking/Shaking374/Pictures_0/Shaking374_7_254.npy 254\n",
      "/data/new_trap/20200518/Bead2//Shaking/Shaking374/Pictures_0/Shaking374_7_255.npy 255\n",
      "/data/new_trap/20200518/Bead2//Shaking/Shaking374/Pictures_0/Shaking374_7_256.npy 256\n",
      "/data/new_trap/20200518/Bead2//Shaking/Shaking374/Pictures_0/Shaking374_7_257.npy 257\n",
      "/data/new_trap/20200518/Bead2//Shaking/Shaking374/Pictures_0/Shaking374_7_258.npy 258\n",
      "/data/new_trap/20200518/Bead2//Shaking/Shaking374/Pictures_0/Shaking374_7_259.npy 259\n",
      "/data/new_trap/20200518/Bead2//Shaking/Shaking374/Pictures_0/Shaking374_7_260.npy 260\n",
      "/data/new_trap/20200518/Bead2//Shaking/Shaking374/Pictures_0/Shaking374_7_261.npy 261\n",
      "/data/new_trap/20200518/Bead2//Shaking/Shaking374/Pictures_0/Shaking374_7_262.npy 262\n",
      "/data/new_trap/20200518/Bead2//Shaking/Shaking374/Pictures_0/Shaking374_7_263.npy 263\n",
      "/data/new_trap/20200518/Bead2//Shaking/Shaking374/Pictures_0/Shaking374_7_264.npy 264\n",
      "/data/new_trap/20200518/Bead2//Shaking/Shaking374/Pictures_0/Shaking374_7_265.npy 265\n",
      "/data/new_trap/20200518/Bead2//Shaking/Shaking374/Pictures_0/Shaking374_7_266.npy 266\n",
      "/data/new_trap/20200518/Bead2//Shaking/Shaking374/Pictures_0/Shaking374_7_267.npy 267\n",
      "/data/new_trap/20200518/Bead2//Shaking/Shaking374/Pictures_0/Shaking374_7_268.npy 268\n",
      "/data/new_trap/20200518/Bead2//Shaking/Shaking374/Pictures_0/Shaking374_7_269.npy 269\n",
      "/data/new_trap/20200518/Bead2//Shaking/Shaking374/Pictures_0/Shaking374_7_270.npy 270\n",
      "/data/new_trap/20200518/Bead2//Shaking/Shaking374/Pictures_0/Shaking374_7_271.npy 271\n",
      "/data/new_trap/20200518/Bead2//Shaking/Shaking374/Pictures_0/Shaking374_7_272.npy 272\n",
      "/data/new_trap/20200518/Bead2//Shaking/Shaking374/Pictures_0/Shaking374_7_273.npy 273\n",
      "/data/new_trap/20200518/Bead2//Shaking/Shaking374/Pictures_0/Shaking374_7_274.npy 274\n",
      "/data/new_trap/20200518/Bead2//Shaking/Shaking374/Pictures_0/Shaking374_7_275.npy 275\n",
      "/data/new_trap/20200518/Bead2//Shaking/Shaking374/Pictures_0/Shaking374_7_276.npy 276\n",
      "/data/new_trap/20200518/Bead2//Shaking/Shaking374/Pictures_0/Shaking374_7_277.npy 277\n",
      "/data/new_trap/20200518/Bead2//Shaking/Shaking374/Pictures_0/Shaking374_7_278.npy 278\n",
      "/data/new_trap/20200518/Bead2//Shaking/Shaking374/Pictures_0/Shaking374_7_279.npy 279\n",
      "/data/new_trap/20200518/Bead2//Shaking/Shaking374/Pictures_0/Shaking374_7_280.npy 280\n",
      "/data/new_trap/20200518/Bead2//Shaking/Shaking374/Pictures_0/Shaking374_7_281.npy 281\n",
      "/data/new_trap/20200518/Bead2//Shaking/Shaking374/Pictures_0/Shaking374_7_282.npy 282\n",
      "/data/new_trap/20200518/Bead2//Shaking/Shaking374/Pictures_0/Shaking374_7_283.npy 283\n",
      "/data/new_trap/20200518/Bead2//Shaking/Shaking374/Pictures_0/Shaking374_7_284.npy 284\n",
      "/data/new_trap/20200518/Bead2//Shaking/Shaking374/Pictures_0/Shaking374_7_285.npy 285\n",
      "/data/new_trap/20200518/Bead2//Shaking/Shaking374/Pictures_0/Shaking374_7_286.npy 286\n",
      "/data/new_trap/20200518/Bead2//Shaking/Shaking374/Pictures_0/Shaking374_7_287.npy 287\n",
      "/data/new_trap/20200518/Bead2//Shaking/Shaking374/Pictures_0/Shaking374_7_288.npy 288\n",
      "/data/new_trap/20200518/Bead2//Shaking/Shaking374/Pictures_0/Shaking374_7_289.npy 289\n",
      "/data/new_trap/20200518/Bead2//Shaking/Shaking374/Pictures_0/Shaking374_7_290.npy 290\n",
      "/data/new_trap/20200518/Bead2//Shaking/Shaking374/Pictures_0/Shaking374_7_291.npy 291\n",
      "/data/new_trap/20200518/Bead2//Shaking/Shaking374/Pictures_0/Shaking374_7_292.npy 292\n",
      "/data/new_trap/20200518/Bead2//Shaking/Shaking374/Pictures_0/Shaking374_7_293.npy 293\n",
      "/data/new_trap/20200518/Bead2//Shaking/Shaking374/Pictures_0/Shaking374_7_294.npy 294\n",
      "/data/new_trap/20200518/Bead2//Shaking/Shaking374/Pictures_0/Shaking374_7_295.npy 295\n",
      "/data/new_trap/20200518/Bead2//Shaking/Shaking374/Pictures_0/Shaking374_7_296.npy 296\n",
      "/data/new_trap/20200518/Bead2//Shaking/Shaking374/Pictures_0/Shaking374_7_297.npy 297\n",
      "/data/new_trap/20200518/Bead2//Shaking/Shaking374/Pictures_0/Shaking374_7_298.npy 298\n",
      "/data/new_trap/20200518/Bead2//Shaking/Shaking374/Pictures_0/Shaking374_7_299.npy 299\n",
      "/data/new_trap/20200518/Bead2//Shaking/Shaking374/Pictures_0/Shaking374_7_300.npy 300\n",
      "/data/new_trap/20200518/Bead2//Shaking/Shaking374/Pictures_0/Shaking374_7_301.npy 301\n",
      "/data/new_trap/20200518/Bead2//Shaking/Shaking374/Pictures_0/Shaking374_7_302.npy 302\n",
      "/data/new_trap/20200518/Bead2//Shaking/Shaking374/Pictures_0/Shaking374_7_303.npy 303\n",
      "/data/new_trap/20200518/Bead2//Shaking/Shaking374/Pictures_0/Shaking374_7_304.npy 304\n",
      "/data/new_trap/20200518/Bead2//Shaking/Shaking374/Pictures_0/Shaking374_7_305.npy 305\n",
      "/data/new_trap/20200518/Bead2//Shaking/Shaking374/Pictures_0/Shaking374_7_306.npy 306\n",
      "/data/new_trap/20200518/Bead2//Shaking/Shaking374/Pictures_0/Shaking374_7_307.npy 307\n",
      "/data/new_trap/20200518/Bead2//Shaking/Shaking374/Pictures_0/Shaking374_7_308.npy 308\n",
      "/data/new_trap/20200518/Bead2//Shaking/Shaking374/Pictures_0/Shaking374_7_309.npy 309\n",
      "/data/new_trap/20200518/Bead2//Shaking/Shaking374/Pictures_0/Shaking374_7_310.npy 310\n",
      "/data/new_trap/20200518/Bead2//Shaking/Shaking374/Pictures_0/Shaking374_7_311.npy 311\n",
      "/data/new_trap/20200518/Bead2//Shaking/Shaking374/Pictures_0/Shaking374_7_312.npy 312\n",
      "/data/new_trap/20200518/Bead2//Shaking/Shaking374/Pictures_0/Shaking374_7_313.npy 313\n",
      "/data/new_trap/20200518/Bead2//Shaking/Shaking374/Pictures_0/Shaking374_7_314.npy 314\n",
      "/data/new_trap/20200518/Bead2//Shaking/Shaking374/Pictures_0/Shaking374_7_315.npy 315\n",
      "/data/new_trap/20200518/Bead2//Shaking/Shaking374/Pictures_0/Shaking374_7_316.npy 316\n",
      "/data/new_trap/20200518/Bead2//Shaking/Shaking374/Pictures_0/Shaking374_7_317.npy 317\n",
      "/data/new_trap/20200518/Bead2//Shaking/Shaking374/Pictures_0/Shaking374_7_318.npy 318\n",
      "/data/new_trap/20200518/Bead2//Shaking/Shaking374/Pictures_0/Shaking374_7_319.npy 319\n",
      "/data/new_trap/20200518/Bead2//Shaking/Shaking374/Pictures_0/Shaking374_7_320.npy 320\n",
      "/data/new_trap/20200518/Bead2//Shaking/Shaking374/Pictures_0/Shaking374_7_321.npy 321\n",
      "/data/new_trap/20200518/Bead2//Shaking/Shaking374/Pictures_0/Shaking374_7_322.npy 322\n",
      "/data/new_trap/20200518/Bead2//Shaking/Shaking374/Pictures_0/Shaking374_7_323.npy 323\n",
      "/data/new_trap/20200518/Bead2//Shaking/Shaking374/Pictures_0/Shaking374_7_324.npy 324\n",
      "/data/new_trap/20200518/Bead2//Shaking/Shaking374/Pictures_0/Shaking374_7_325.npy 325\n",
      "/data/new_trap/20200518/Bead2//Shaking/Shaking374/Pictures_0/Shaking374_7_326.npy 326\n",
      "/data/new_trap/20200518/Bead2//Shaking/Shaking374/Pictures_0/Shaking374_7_327.npy 327\n",
      "/data/new_trap/20200518/Bead2//Shaking/Shaking374/Pictures_0/Shaking374_7_328.npy 328\n",
      "/data/new_trap/20200518/Bead2//Shaking/Shaking374/Pictures_0/Shaking374_7_329.npy 329\n",
      "/data/new_trap/20200518/Bead2//Shaking/Shaking374/Pictures_0/Shaking374_7_330.npy 330\n",
      "/data/new_trap/20200518/Bead2//Shaking/Shaking374/Pictures_0/Shaking374_7_331.npy 331\n",
      "/data/new_trap/20200518/Bead2//Shaking/Shaking374/Pictures_0/Shaking374_7_332.npy 332\n",
      "/data/new_trap/20200518/Bead2//Shaking/Shaking374/Pictures_0/Shaking374_7_333.npy 333\n",
      "/data/new_trap/20200518/Bead2//Shaking/Shaking374/Pictures_0/Shaking374_7_334.npy 334\n",
      "/data/new_trap/20200518/Bead2//Shaking/Shaking374/Pictures_0/Shaking374_7_335.npy 335\n",
      "/data/new_trap/20200518/Bead2//Shaking/Shaking374/Pictures_0/Shaking374_7_336.npy 336\n",
      "/data/new_trap/20200518/Bead2//Shaking/Shaking374/Pictures_0/Shaking374_7_337.npy 337\n",
      "/data/new_trap/20200518/Bead2//Shaking/Shaking374/Pictures_0/Shaking374_7_338.npy 338\n",
      "/data/new_trap/20200518/Bead2//Shaking/Shaking374/Pictures_0/Shaking374_7_339.npy 339\n",
      "/data/new_trap/20200518/Bead2//Shaking/Shaking374/Pictures_0/Shaking374_7_340.npy 340\n",
      "/data/new_trap/20200518/Bead2//Shaking/Shaking374/Pictures_0/Shaking374_7_341.npy 341\n",
      "/data/new_trap/20200518/Bead2//Shaking/Shaking374/Pictures_0/Shaking374_7_342.npy 342\n",
      "/data/new_trap/20200518/Bead2//Shaking/Shaking374/Pictures_0/Shaking374_7_343.npy 343\n",
      "/data/new_trap/20200518/Bead2//Shaking/Shaking374/Pictures_0/Shaking374_7_344.npy 344\n",
      "/data/new_trap/20200518/Bead2//Shaking/Shaking374/Pictures_0/Shaking374_7_345.npy 345\n",
      "/data/new_trap/20200518/Bead2//Shaking/Shaking374/Pictures_0/Shaking374_7_346.npy 346\n",
      "/data/new_trap/20200518/Bead2//Shaking/Shaking374/Pictures_0/Shaking374_7_347.npy 347\n",
      "/data/new_trap/20200518/Bead2//Shaking/Shaking374/Pictures_0/Shaking374_7_348.npy 348\n",
      "/data/new_trap/20200518/Bead2//Shaking/Shaking374/Pictures_0/Shaking374_7_349.npy 349\n",
      "/data/new_trap/20200518/Bead2//Shaking/Shaking374/Pictures_0/Shaking374_7_350.npy 350\n",
      "/data/new_trap/20200518/Bead2//Shaking/Shaking374/Pictures_0/Shaking374_7_351.npy 351\n",
      "/data/new_trap/20200518/Bead2//Shaking/Shaking374/Pictures_0/Shaking374_7_352.npy 352\n",
      "/data/new_trap/20200518/Bead2//Shaking/Shaking374/Pictures_0/Shaking374_7_353.npy 353\n",
      "/data/new_trap/20200518/Bead2//Shaking/Shaking374/Pictures_0/Shaking374_7_354.npy 354\n",
      "/data/new_trap/20200518/Bead2//Shaking/Shaking374/Pictures_0/Shaking374_7_355.npy 355\n",
      "/data/new_trap/20200518/Bead2//Shaking/Shaking374/Pictures_0/Shaking374_7_356.npy 356\n",
      "/data/new_trap/20200518/Bead2//Shaking/Shaking374/Pictures_0/Shaking374_7_357.npy 357\n",
      "/data/new_trap/20200518/Bead2//Shaking/Shaking374/Pictures_0/Shaking374_7_358.npy 358\n",
      "/data/new_trap/20200518/Bead2//Shaking/Shaking374/Pictures_0/Shaking374_7_359.npy 359\n",
      "/data/new_trap/20200518/Bead2//Shaking/Shaking374/Pictures_0/Shaking374_7_360.npy 360\n",
      "/data/new_trap/20200518/Bead2//Shaking/Shaking374/Pictures_0/Shaking374_7_361.npy 361\n",
      "/data/new_trap/20200518/Bead2//Shaking/Shaking374/Pictures_0/Shaking374_7_362.npy 362\n",
      "/data/new_trap/20200518/Bead2//Shaking/Shaking374/Pictures_0/Shaking374_7_363.npy 363\n",
      "/data/new_trap/20200518/Bead2//Shaking/Shaking374/Pictures_0/Shaking374_7_364.npy 364\n",
      "/data/new_trap/20200518/Bead2//Shaking/Shaking374/Pictures_0/Shaking374_7_365.npy 365\n",
      "/data/new_trap/20200518/Bead2//Shaking/Shaking374/Pictures_0/Shaking374_7_366.npy 366\n",
      "/data/new_trap/20200518/Bead2//Shaking/Shaking374/Pictures_0/Shaking374_7_367.npy 367\n",
      "/data/new_trap/20200518/Bead2//Shaking/Shaking374/Pictures_0/Shaking374_7_368.npy 368\n",
      "/data/new_trap/20200518/Bead2//Shaking/Shaking374/Pictures_0/Shaking374_7_369.npy 369\n",
      "/data/new_trap/20200518/Bead2//Shaking/Shaking374/Pictures_0/Shaking374_7_370.npy 370\n",
      "/data/new_trap/20200518/Bead2//Shaking/Shaking374/Pictures_0/Shaking374_7_371.npy 371\n",
      "/data/new_trap/20200518/Bead2//Shaking/Shaking374/Pictures_0/Shaking374_7_372.npy 372\n",
      "/data/new_trap/20200518/Bead2//Shaking/Shaking374/Pictures_0/Shaking374_7_373.npy 373\n",
      "/data/new_trap/20200518/Bead2//Shaking/Shaking374/Pictures_0/Shaking374_7_374.npy 374\n",
      "/data/new_trap/20200518/Bead2//Shaking/Shaking374/Pictures_0/Shaking374_7_375.npy 375\n",
      "/data/new_trap/20200518/Bead2//Shaking/Shaking374/Pictures_0/Shaking374_7_376.npy 376\n",
      "/data/new_trap/20200518/Bead2//Shaking/Shaking374/Pictures_0/Shaking374_7_377.npy 377\n",
      "/data/new_trap/20200518/Bead2//Shaking/Shaking374/Pictures_0/Shaking374_7_378.npy 378\n",
      "/data/new_trap/20200518/Bead2//Shaking/Shaking374/Pictures_0/Shaking374_7_379.npy 379\n",
      "/data/new_trap/20200518/Bead2//Shaking/Shaking374/Pictures_0/Shaking374_7_380.npy 380\n",
      "/data/new_trap/20200518/Bead2//Shaking/Shaking374/Pictures_0/Shaking374_7_381.npy 381\n",
      "/data/new_trap/20200518/Bead2//Shaking/Shaking374/Pictures_0/Shaking374_7_382.npy 382\n",
      "/data/new_trap/20200518/Bead2//Shaking/Shaking374/Pictures_0/Shaking374_7_383.npy 383\n",
      "/data/new_trap/20200518/Bead2//Shaking/Shaking374/Pictures_0/Shaking374_7_384.npy 384\n",
      "/data/new_trap/20200518/Bead2//Shaking/Shaking374/Pictures_0/Shaking374_7_385.npy 385\n",
      "/data/new_trap/20200518/Bead2//Shaking/Shaking374/Pictures_0/Shaking374_7_386.npy 386\n",
      "/data/new_trap/20200518/Bead2//Shaking/Shaking374/Pictures_0/Shaking374_7_387.npy 387\n",
      "/data/new_trap/20200518/Bead2//Shaking/Shaking374/Pictures_0/Shaking374_7_388.npy 388\n",
      "/data/new_trap/20200518/Bead2//Shaking/Shaking374/Pictures_0/Shaking374_7_389.npy 389\n",
      "/data/new_trap/20200518/Bead2//Shaking/Shaking374/Pictures_0/Shaking374_7_390.npy 390\n",
      "/data/new_trap/20200518/Bead2//Shaking/Shaking374/Pictures_0/Shaking374_7_391.npy 391\n",
      "/data/new_trap/20200518/Bead2//Shaking/Shaking374/Pictures_0/Shaking374_7_392.npy 392\n",
      "/data/new_trap/20200518/Bead2//Shaking/Shaking374/Pictures_0/Shaking374_7_393.npy 393\n",
      "/data/new_trap/20200518/Bead2//Shaking/Shaking374/Pictures_0/Shaking374_7_394.npy 394\n",
      "/data/new_trap/20200518/Bead2//Shaking/Shaking374/Pictures_0/Shaking374_7_395.npy 395\n",
      "/data/new_trap/20200518/Bead2//Shaking/Shaking374/Pictures_0/Shaking374_7_396.npy 396\n",
      "/data/new_trap/20200518/Bead2//Shaking/Shaking374/Pictures_0/Shaking374_7_397.npy 397\n",
      "/data/new_trap/20200518/Bead2//Shaking/Shaking374/Pictures_0/Shaking374_7_398.npy 398\n",
      "/data/new_trap/20200518/Bead2//Shaking/Shaking374/Pictures_0/Shaking374_7_399.npy 399\n",
      "/data/new_trap/20200518/Bead2//Shaking/Shaking374/Pictures_0/Shaking374_7_400.npy 400\n",
      "/data/new_trap/20200518/Bead2//Shaking/Shaking374/Pictures_0/Shaking374_7_401.npy 401\n",
      "/data/new_trap/20200518/Bead2//Shaking/Shaking374/Pictures_0/Shaking374_7_402.npy 402\n",
      "/data/new_trap/20200518/Bead2//Shaking/Shaking374/Pictures_0/Shaking374_7_403.npy 403\n",
      "/data/new_trap/20200518/Bead2//Shaking/Shaking374/Pictures_0/Shaking374_7_404.npy 404\n",
      "/data/new_trap/20200518/Bead2//Shaking/Shaking374/Pictures_0/Shaking374_7_405.npy 405\n",
      "/data/new_trap/20200518/Bead2//Shaking/Shaking374/Pictures_0/Shaking374_7_406.npy 406\n",
      "/data/new_trap/20200518/Bead2//Shaking/Shaking374/Pictures_0/Shaking374_7_407.npy 407\n",
      "/data/new_trap/20200518/Bead2//Shaking/Shaking374/Pictures_0/Shaking374_7_408.npy 408\n",
      "/data/new_trap/20200518/Bead2//Shaking/Shaking374/Pictures_0/Shaking374_7_409.npy 409\n",
      "/data/new_trap/20200518/Bead2//Shaking/Shaking374/Pictures_0/Shaking374_7_410.npy 410\n",
      "/data/new_trap/20200518/Bead2//Shaking/Shaking374/Pictures_0/Shaking374_7_411.npy 411\n",
      "/data/new_trap/20200518/Bead2//Shaking/Shaking374/Pictures_0/Shaking374_7_412.npy 412\n",
      "/data/new_trap/20200518/Bead2//Shaking/Shaking374/Pictures_0/Shaking374_7_413.npy 413\n",
      "/data/new_trap/20200518/Bead2//Shaking/Shaking374/Pictures_0/Shaking374_7_414.npy 414\n",
      "/data/new_trap/20200518/Bead2//Shaking/Shaking374/Pictures_0/Shaking374_7_415.npy 415\n",
      "/data/new_trap/20200518/Bead2//Shaking/Shaking374/Pictures_0/Shaking374_7_416.npy 416\n",
      "/data/new_trap/20200518/Bead2//Shaking/Shaking374/Pictures_0/Shaking374_7_417.npy 417\n",
      "/data/new_trap/20200518/Bead2//Shaking/Shaking374/Pictures_0/Shaking374_7_418.npy 418\n",
      "/data/new_trap/20200518/Bead2//Shaking/Shaking374/Pictures_0/Shaking374_7_419.npy 419\n",
      "/data/new_trap/20200518/Bead2//Shaking/Shaking374/Pictures_0/Shaking374_7_420.npy 420\n",
      "/data/new_trap/20200518/Bead2//Shaking/Shaking374/Pictures_0/Shaking374_7_421.npy 421\n",
      "/data/new_trap/20200518/Bead2//Shaking/Shaking374/Pictures_0/Shaking374_7_422.npy 422\n",
      "/data/new_trap/20200518/Bead2//Shaking/Shaking374/Pictures_0/Shaking374_7_423.npy 423\n",
      "/data/new_trap/20200518/Bead2//Shaking/Shaking374/Pictures_0/Shaking374_7_424.npy 424\n",
      "/data/new_trap/20200518/Bead2//Shaking/Shaking374/Pictures_0/Shaking374_7_425.npy 425\n",
      "/data/new_trap/20200518/Bead2//Shaking/Shaking374/Pictures_0/Shaking374_7_426.npy 426\n",
      "/data/new_trap/20200518/Bead2//Shaking/Shaking374/Pictures_0/Shaking374_7_427.npy 427\n",
      "/data/new_trap/20200518/Bead2//Shaking/Shaking374/Pictures_0/Shaking374_7_428.npy 428\n",
      "/data/new_trap/20200518/Bead2//Shaking/Shaking374/Pictures_0/Shaking374_7_429.npy 429\n",
      "/data/new_trap/20200518/Bead2//Shaking/Shaking374/Pictures_0/Shaking374_7_430.npy 430\n",
      "/data/new_trap/20200518/Bead2//Shaking/Shaking374/Pictures_0/Shaking374_7_431.npy 431\n",
      "/data/new_trap/20200518/Bead2//Shaking/Shaking374/Pictures_0/Shaking374_7_432.npy 432\n",
      "/data/new_trap/20200518/Bead2//Shaking/Shaking374/Pictures_0/Shaking374_7_433.npy 433\n",
      "/data/new_trap/20200518/Bead2//Shaking/Shaking374/Pictures_0/Shaking374_7_434.npy 434\n",
      "/data/new_trap/20200518/Bead2//Shaking/Shaking374/Pictures_0/Shaking374_7_435.npy 435\n",
      "/data/new_trap/20200518/Bead2//Shaking/Shaking374/Pictures_0/Shaking374_7_436.npy 436\n",
      "/data/new_trap/20200518/Bead2//Shaking/Shaking374/Pictures_0/Shaking374_7_437.npy 437\n",
      "/data/new_trap/20200518/Bead2//Shaking/Shaking374/Pictures_0/Shaking374_7_438.npy 438\n",
      "/data/new_trap/20200518/Bead2//Shaking/Shaking374/Pictures_0/Shaking374_7_439.npy 439\n",
      "/data/new_trap/20200518/Bead2//Shaking/Shaking374/Pictures_0/Shaking374_7_440.npy 440\n",
      "/data/new_trap/20200518/Bead2//Shaking/Shaking374/Pictures_0/Shaking374_7_441.npy 441\n",
      "/data/new_trap/20200518/Bead2//Shaking/Shaking374/Pictures_0/Shaking374_7_442.npy 442\n",
      "/data/new_trap/20200518/Bead2//Shaking/Shaking374/Pictures_0/Shaking374_7_443.npy 443\n",
      "/data/new_trap/20200518/Bead2//Shaking/Shaking374/Pictures_0/Shaking374_7_444.npy 444\n",
      "/data/new_trap/20200518/Bead2//Shaking/Shaking374/Pictures_0/Shaking374_7_445.npy 445\n",
      "/data/new_trap/20200518/Bead2//Shaking/Shaking374/Pictures_0/Shaking374_7_446.npy 446\n",
      "/data/new_trap/20200518/Bead2//Shaking/Shaking374/Pictures_0/Shaking374_7_447.npy 447\n",
      "/data/new_trap/20200518/Bead2//Shaking/Shaking374/Pictures_0/Shaking374_7_448.npy 448\n",
      "/data/new_trap/20200518/Bead2//Shaking/Shaking374/Pictures_0/Shaking374_7_449.npy 449\n",
      "/data/new_trap/20200518/Bead2//Shaking/Shaking374/Pictures_0/Shaking374_7_450.npy 450\n",
      "/data/new_trap/20200518/Bead2//Shaking/Shaking374/Pictures_0/Shaking374_7_451.npy 451\n",
      "/data/new_trap/20200518/Bead2//Shaking/Shaking374/Pictures_0/Shaking374_7_452.npy 452\n",
      "/data/new_trap/20200518/Bead2//Shaking/Shaking374/Pictures_0/Shaking374_7_453.npy 453\n",
      "/data/new_trap/20200518/Bead2//Shaking/Shaking374/Pictures_0/Shaking374_7_454.npy 454\n",
      "/data/new_trap/20200518/Bead2//Shaking/Shaking374/Pictures_0/Shaking374_7_455.npy 455\n",
      "/data/new_trap/20200518/Bead2//Shaking/Shaking374/Pictures_0/Shaking374_7_456.npy 456\n",
      "/data/new_trap/20200518/Bead2//Shaking/Shaking374/Pictures_0/Shaking374_7_457.npy 457\n",
      "/data/new_trap/20200518/Bead2//Shaking/Shaking374/Pictures_0/Shaking374_7_458.npy 458\n",
      "/data/new_trap/20200518/Bead2//Shaking/Shaking374/Pictures_0/Shaking374_7_459.npy 459\n",
      "/data/new_trap/20200518/Bead2//Shaking/Shaking374/Pictures_0/Shaking374_7_460.npy 460\n",
      "/data/new_trap/20200518/Bead2//Shaking/Shaking374/Pictures_0/Shaking374_7_461.npy 461\n",
      "/data/new_trap/20200518/Bead2//Shaking/Shaking374/Pictures_0/Shaking374_7_462.npy 462\n",
      "/data/new_trap/20200518/Bead2//Shaking/Shaking374/Pictures_0/Shaking374_7_463.npy 463\n",
      "/data/new_trap/20200518/Bead2//Shaking/Shaking374/Pictures_0/Shaking374_7_464.npy 464\n",
      "/data/new_trap/20200518/Bead2//Shaking/Shaking374/Pictures_0/Shaking374_7_465.npy 465\n",
      "/data/new_trap/20200518/Bead2//Shaking/Shaking374/Pictures_0/Shaking374_7_466.npy 466\n",
      "/data/new_trap/20200518/Bead2//Shaking/Shaking374/Pictures_0/Shaking374_7_467.npy 467\n",
      "/data/new_trap/20200518/Bead2//Shaking/Shaking374/Pictures_0/Shaking374_7_468.npy 468\n",
      "/data/new_trap/20200518/Bead2//Shaking/Shaking374/Pictures_0/Shaking374_7_469.npy 469\n",
      "/data/new_trap/20200518/Bead2//Shaking/Shaking374/Pictures_0/Shaking374_7_470.npy 470\n",
      "/data/new_trap/20200518/Bead2//Shaking/Shaking374/Pictures_0/Shaking374_7_471.npy 471\n",
      "/data/new_trap/20200518/Bead2//Shaking/Shaking374/Pictures_0/Shaking374_7_472.npy 472\n",
      "/data/new_trap/20200518/Bead2//Shaking/Shaking374/Pictures_0/Shaking374_7_473.npy 473\n",
      "/data/new_trap/20200518/Bead2//Shaking/Shaking374/Pictures_0/Shaking374_7_474.npy 474\n",
      "/data/new_trap/20200518/Bead2//Shaking/Shaking374/Pictures_0/Shaking374_7_475.npy 475\n",
      "/data/new_trap/20200518/Bead2//Shaking/Shaking374/Pictures_0/Shaking374_7_476.npy 476\n",
      "/data/new_trap/20200518/Bead2//Shaking/Shaking374/Pictures_0/Shaking374_7_477.npy 477\n",
      "/data/new_trap/20200518/Bead2//Shaking/Shaking374/Pictures_0/Shaking374_7_478.npy 478\n",
      "/data/new_trap/20200518/Bead2//Shaking/Shaking374/Pictures_0/Shaking374_7_479.npy 479\n",
      "/data/new_trap/20200518/Bead2//Shaking/Shaking374/Pictures_0/Shaking374_7_480.npy 480\n",
      "/data/new_trap/20200518/Bead2//Shaking/Shaking374/Pictures_0/Shaking374_7_481.npy 481\n",
      "/data/new_trap/20200518/Bead2//Shaking/Shaking374/Pictures_0/Shaking374_7_482.npy 482\n",
      "/data/new_trap/20200518/Bead2//Shaking/Shaking374/Pictures_0/Shaking374_7_483.npy 483\n",
      "/data/new_trap/20200518/Bead2//Shaking/Shaking374/Pictures_0/Shaking374_7_484.npy 484\n",
      "/data/new_trap/20200518/Bead2//Shaking/Shaking374/Pictures_0/Shaking374_7_485.npy 485\n",
      "/data/new_trap/20200518/Bead2//Shaking/Shaking374/Pictures_0/Shaking374_7_486.npy 486\n",
      "/data/new_trap/20200518/Bead2//Shaking/Shaking374/Pictures_0/Shaking374_7_487.npy 487\n",
      "/data/new_trap/20200518/Bead2//Shaking/Shaking374/Pictures_0/Shaking374_7_488.npy 488\n",
      "/data/new_trap/20200518/Bead2//Shaking/Shaking374/Pictures_0/Shaking374_7_489.npy 489\n",
      "/data/new_trap/20200518/Bead2//Shaking/Shaking374/Pictures_0/Shaking374_7_490.npy 490\n",
      "/data/new_trap/20200518/Bead2//Shaking/Shaking374/Pictures_0/Shaking374_7_491.npy 491\n",
      "/data/new_trap/20200518/Bead2//Shaking/Shaking374/Pictures_0/Shaking374_7_492.npy 492\n",
      "/data/new_trap/20200518/Bead2//Shaking/Shaking374/Pictures_0/Shaking374_7_493.npy 493\n",
      "/data/new_trap/20200518/Bead2//Shaking/Shaking374/Pictures_0/Shaking374_7_494.npy 494\n",
      "/data/new_trap/20200518/Bead2//Shaking/Shaking374/Pictures_0/Shaking374_7_495.npy 495\n",
      "/data/new_trap/20200518/Bead2//Shaking/Shaking374/Pictures_0/Shaking374_7_496.npy 496\n",
      "/data/new_trap/20200518/Bead2//Shaking/Shaking374/Pictures_0/Shaking374_7_497.npy 497\n",
      "/data/new_trap/20200518/Bead2//Shaking/Shaking374/Pictures_0/Shaking374_7_498.npy 498\n",
      "/data/new_trap/20200518/Bead2//Shaking/Shaking374/Pictures_0/Shaking374_7_499.npy 499\n",
      "/data/new_trap/20200518/Bead2//Shaking/Shaking374/Pictures_0/Shaking374_7_500.npy 500\n",
      "/data/new_trap/20200518/Bead2//Shaking/Shaking374/Pictures_0/Shaking374_7_501.npy 501\n",
      "/data/new_trap/20200518/Bead2//Shaking/Shaking374/Pictures_0/Shaking374_7_502.npy 502\n",
      "/data/new_trap/20200518/Bead2//Shaking/Shaking374/Pictures_0/Shaking374_7_503.npy 503\n",
      "/data/new_trap/20200518/Bead2//Shaking/Shaking374/Pictures_0/Shaking374_7_504.npy 504\n",
      "/data/new_trap/20200518/Bead2//Shaking/Shaking374/Pictures_0/Shaking374_7_505.npy 505\n",
      "/data/new_trap/20200518/Bead2//Shaking/Shaking374/Pictures_0/Shaking374_7_506.npy 506\n",
      "/data/new_trap/20200518/Bead2//Shaking/Shaking374/Pictures_0/Shaking374_7_507.npy 507\n",
      "/data/new_trap/20200518/Bead2//Shaking/Shaking374/Pictures_0/Shaking374_7_508.npy 508\n",
      "/data/new_trap/20200518/Bead2//Shaking/Shaking374/Pictures_0/Shaking374_7_509.npy 509\n",
      "/data/new_trap/20200518/Bead2//Shaking/Shaking374/Pictures_0/Shaking374_7_510.npy 510\n",
      "/data/new_trap/20200518/Bead2//Shaking/Shaking374/Pictures_0/Shaking374_7_511.npy 511\n",
      "/data/new_trap/20200518/Bead2//Shaking/Shaking374/Pictures_0/Shaking374_7_512.npy 512\n",
      "/data/new_trap/20200518/Bead2//Shaking/Shaking374/Pictures_0/Shaking374_7_513.npy 513\n",
      "/data/new_trap/20200518/Bead2//Shaking/Shaking374/Pictures_0/Shaking374_7_514.npy 514\n",
      "/data/new_trap/20200518/Bead2//Shaking/Shaking374/Pictures_0/Shaking374_7_515.npy 515\n",
      "/data/new_trap/20200518/Bead2//Shaking/Shaking374/Pictures_0/Shaking374_7_516.npy 516\n",
      "/data/new_trap/20200518/Bead2//Shaking/Shaking374/Pictures_0/Shaking374_7_517.npy 517\n",
      "/data/new_trap/20200518/Bead2//Shaking/Shaking374/Pictures_0/Shaking374_7_518.npy 518\n",
      "/data/new_trap/20200518/Bead2//Shaking/Shaking374/Pictures_0/Shaking374_7_519.npy 519\n",
      "/data/new_trap/20200518/Bead2//Shaking/Shaking374/Pictures_0/Shaking374_7_520.npy 520\n",
      "/data/new_trap/20200518/Bead2//Shaking/Shaking374/Pictures_0/Shaking374_7_521.npy 521\n",
      "/data/new_trap/20200518/Bead2//Shaking/Shaking374/Pictures_0/Shaking374_7_522.npy 522\n",
      "/data/new_trap/20200518/Bead2//Shaking/Shaking374/Pictures_0/Shaking374_7_523.npy 523\n",
      "/data/new_trap/20200518/Bead2//Shaking/Shaking374/Pictures_0/Shaking374_7_524.npy 524\n",
      "/data/new_trap/20200518/Bead2//Shaking/Shaking374/Pictures_0/Shaking374_7_525.npy 525\n",
      "/data/new_trap/20200518/Bead2//Shaking/Shaking374/Pictures_0/Shaking374_7_526.npy 526\n",
      "/data/new_trap/20200518/Bead2//Shaking/Shaking374/Pictures_0/Shaking374_7_527.npy 527\n",
      "/data/new_trap/20200518/Bead2//Shaking/Shaking374/Pictures_0/Shaking374_7_528.npy 528\n",
      "/data/new_trap/20200518/Bead2//Shaking/Shaking374/Pictures_0/Shaking374_7_529.npy 529\n",
      "/data/new_trap/20200518/Bead2//Shaking/Shaking374/Pictures_0/Shaking374_7_530.npy 530\n",
      "/data/new_trap/20200518/Bead2//Shaking/Shaking374/Pictures_0/Shaking374_7_531.npy 531\n",
      "/data/new_trap/20200518/Bead2//Shaking/Shaking374/Pictures_0/Shaking374_7_532.npy 532\n",
      "/data/new_trap/20200518/Bead2//Shaking/Shaking374/Pictures_0/Shaking374_7_533.npy 533\n",
      "/data/new_trap/20200518/Bead2//Shaking/Shaking374/Pictures_0/Shaking374_7_534.npy 534\n",
      "/data/new_trap/20200518/Bead2//Shaking/Shaking374/Pictures_0/Shaking374_7_535.npy 535\n",
      "/data/new_trap/20200518/Bead2//Shaking/Shaking374/Pictures_0/Shaking374_7_536.npy 536\n",
      "/data/new_trap/20200518/Bead2//Shaking/Shaking374/Pictures_0/Shaking374_7_537.npy 537\n",
      "/data/new_trap/20200518/Bead2//Shaking/Shaking374/Pictures_0/Shaking374_7_538.npy 538\n",
      "/data/new_trap/20200518/Bead2//Shaking/Shaking374/Pictures_0/Shaking374_7_539.npy 539\n",
      "/data/new_trap/20200518/Bead2//Shaking/Shaking374/Pictures_0/Shaking374_7_540.npy 540\n",
      "/data/new_trap/20200518/Bead2//Shaking/Shaking374/Pictures_0/Shaking374_7_541.npy 541\n",
      "/data/new_trap/20200518/Bead2//Shaking/Shaking374/Pictures_0/Shaking374_7_542.npy 542\n",
      "/data/new_trap/20200518/Bead2//Shaking/Shaking374/Pictures_0/Shaking374_7_543.npy 543\n",
      "/data/new_trap/20200518/Bead2//Shaking/Shaking374/Pictures_0/Shaking374_7_544.npy 544\n",
      "/data/new_trap/20200518/Bead2//Shaking/Shaking374/Pictures_0/Shaking374_7_545.npy 545\n",
      "/data/new_trap/20200518/Bead2//Shaking/Shaking374/Pictures_0/Shaking374_7_546.npy 546\n",
      "/data/new_trap/20200518/Bead2//Shaking/Shaking374/Pictures_0/Shaking374_7_547.npy 547\n",
      "/data/new_trap/20200518/Bead2//Shaking/Shaking374/Pictures_0/Shaking374_7_548.npy 548\n",
      "/data/new_trap/20200518/Bead2//Shaking/Shaking374/Pictures_0/Shaking374_7_549.npy 549\n",
      "/data/new_trap/20200518/Bead2//Shaking/Shaking374/Pictures_0/Shaking374_7_550.npy 550\n",
      "/data/new_trap/20200518/Bead2//Shaking/Shaking374/Pictures_0/Shaking374_7_551.npy 551\n",
      "/data/new_trap/20200518/Bead2//Shaking/Shaking374/Pictures_0/Shaking374_7_552.npy 552\n",
      "/data/new_trap/20200518/Bead2//Shaking/Shaking374/Pictures_0/Shaking374_7_553.npy 553\n",
      "/data/new_trap/20200518/Bead2//Shaking/Shaking374/Pictures_0/Shaking374_7_554.npy 554\n",
      "/data/new_trap/20200518/Bead2//Shaking/Shaking374/Pictures_0/Shaking374_7_555.npy 555\n",
      "/data/new_trap/20200518/Bead2//Shaking/Shaking374/Pictures_0/Shaking374_7_556.npy 556\n",
      "/data/new_trap/20200518/Bead2//Shaking/Shaking374/Pictures_0/Shaking374_7_557.npy 557\n",
      "/data/new_trap/20200518/Bead2//Shaking/Shaking374/Pictures_0/Shaking374_7_558.npy 558\n",
      "/data/new_trap/20200518/Bead2//Shaking/Shaking374/Pictures_0/Shaking374_7_559.npy 559\n",
      "/data/new_trap/20200518/Bead2//Shaking/Shaking374/Pictures_0/Shaking374_7_560.npy 560\n",
      "/data/new_trap/20200518/Bead2//Shaking/Shaking374/Pictures_0/Shaking374_7_561.npy 561\n",
      "/data/new_trap/20200518/Bead2//Shaking/Shaking374/Pictures_0/Shaking374_7_562.npy 562\n",
      "/data/new_trap/20200518/Bead2//Shaking/Shaking374/Pictures_0/Shaking374_7_563.npy 563\n",
      "/data/new_trap/20200518/Bead2//Shaking/Shaking374/Pictures_0/Shaking374_7_564.npy 564\n",
      "/data/new_trap/20200518/Bead2//Shaking/Shaking374/Pictures_0/Shaking374_7_565.npy 565\n",
      "/data/new_trap/20200518/Bead2//Shaking/Shaking374/Pictures_0/Shaking374_7_566.npy 566\n",
      "/data/new_trap/20200518/Bead2//Shaking/Shaking374/Pictures_0/Shaking374_7_567.npy 567\n",
      "/data/new_trap/20200518/Bead2//Shaking/Shaking374/Pictures_0/Shaking374_7_568.npy 568\n",
      "/data/new_trap/20200518/Bead2//Shaking/Shaking374/Pictures_0/Shaking374_7_569.npy 569\n",
      "/data/new_trap/20200518/Bead2//Shaking/Shaking374/Pictures_0/Shaking374_7_570.npy 570\n",
      "/data/new_trap/20200518/Bead2//Shaking/Shaking374/Pictures_0/Shaking374_7_571.npy 571\n",
      "/data/new_trap/20200518/Bead2//Shaking/Shaking374/Pictures_0/Shaking374_7_572.npy 572\n",
      "/data/new_trap/20200518/Bead2//Shaking/Shaking374/Pictures_0/Shaking374_7_573.npy 573\n",
      "/data/new_trap/20200518/Bead2//Shaking/Shaking374/Pictures_0/Shaking374_7_574.npy 574\n",
      "/data/new_trap/20200518/Bead2//Shaking/Shaking374/Pictures_0/Shaking374_7_575.npy 575\n",
      "/data/new_trap/20200518/Bead2//Shaking/Shaking374/Pictures_0/Shaking374_7_576.npy 576\n",
      "/data/new_trap/20200518/Bead2//Shaking/Shaking374/Pictures_0/Shaking374_7_577.npy 577\n",
      "/data/new_trap/20200518/Bead2//Shaking/Shaking374/Pictures_0/Shaking374_7_578.npy 578\n",
      "/data/new_trap/20200518/Bead2//Shaking/Shaking374/Pictures_0/Shaking374_7_579.npy 579\n",
      "/data/new_trap/20200518/Bead2//Shaking/Shaking374/Pictures_0/Shaking374_7_580.npy 580\n",
      "/data/new_trap/20200518/Bead2//Shaking/Shaking374/Pictures_0/Shaking374_7_581.npy 581\n",
      "/data/new_trap/20200518/Bead2//Shaking/Shaking374/Pictures_0/Shaking374_7_582.npy 582\n",
      "/data/new_trap/20200518/Bead2//Shaking/Shaking374/Pictures_0/Shaking374_7_583.npy 583\n",
      "/data/new_trap/20200518/Bead2//Shaking/Shaking374/Pictures_0/Shaking374_7_584.npy 584\n",
      "/data/new_trap/20200518/Bead2//Shaking/Shaking374/Pictures_0/Shaking374_7_585.npy 585\n",
      "/data/new_trap/20200518/Bead2//Shaking/Shaking374/Pictures_0/Shaking374_7_586.npy 586\n",
      "/data/new_trap/20200518/Bead2//Shaking/Shaking374/Pictures_0/Shaking374_7_587.npy 587\n",
      "/data/new_trap/20200518/Bead2//Shaking/Shaking374/Pictures_0/Shaking374_7_588.npy 588\n",
      "/data/new_trap/20200518/Bead2//Shaking/Shaking374/Pictures_0/Shaking374_7_589.npy 589\n",
      "/data/new_trap/20200518/Bead2//Shaking/Shaking374/Pictures_0/Shaking374_7_590.npy 590\n",
      "/data/new_trap/20200518/Bead2//Shaking/Shaking374/Pictures_0/Shaking374_7_591.npy 591\n",
      "/data/new_trap/20200518/Bead2//Shaking/Shaking374/Pictures_0/Shaking374_7_592.npy 592\n",
      "/data/new_trap/20200518/Bead2//Shaking/Shaking374/Pictures_0/Shaking374_7_593.npy 593\n",
      "/data/new_trap/20200518/Bead2//Shaking/Shaking374/Pictures_0/Shaking374_7_594.npy 594\n",
      "/data/new_trap/20200518/Bead2//Shaking/Shaking374/Pictures_0/Shaking374_7_595.npy 595\n",
      "/data/new_trap/20200518/Bead2//Shaking/Shaking374/Pictures_0/Shaking374_7_596.npy 596\n",
      "/data/new_trap/20200518/Bead2//Shaking/Shaking374/Pictures_0/Shaking374_7_597.npy 597\n",
      "/data/new_trap/20200518/Bead2//Shaking/Shaking374/Pictures_0/Shaking374_7_598.npy 598\n",
      "/data/new_trap/20200518/Bead2//Shaking/Shaking374/Pictures_0/Shaking374_7_599.npy 599\n",
      "/data/new_trap/20200518/Bead2//Shaking/Shaking374/Pictures_0/Shaking374_7_600.npy 600\n",
      "/data/new_trap/20200518/Bead2//Shaking/Shaking374/Pictures_0/Shaking374_7_601.npy 601\n",
      "/data/new_trap/20200518/Bead2//Shaking/Shaking374/Pictures_0/Shaking374_7_602.npy 602\n",
      "/data/new_trap/20200518/Bead2//Shaking/Shaking374/Pictures_0/Shaking374_7_603.npy 603\n",
      "/data/new_trap/20200518/Bead2//Shaking/Shaking374/Pictures_0/Shaking374_7_604.npy 604\n",
      "/data/new_trap/20200518/Bead2//Shaking/Shaking374/Pictures_0/Shaking374_7_605.npy 605\n",
      "/data/new_trap/20200518/Bead2//Shaking/Shaking374/Pictures_0/Shaking374_7_606.npy 606\n",
      "/data/new_trap/20200518/Bead2//Shaking/Shaking374/Pictures_0/Shaking374_7_607.npy 607\n",
      "/data/new_trap/20200518/Bead2//Shaking/Shaking374/Pictures_0/Shaking374_7_608.npy 608\n",
      "/data/new_trap/20200518/Bead2//Shaking/Shaking374/Pictures_0/Shaking374_7_609.npy 609\n",
      "/data/new_trap/20200518/Bead2//Shaking/Shaking374/Pictures_0/Shaking374_7_610.npy 610\n",
      "/data/new_trap/20200518/Bead2//Shaking/Shaking374/Pictures_0/Shaking374_7_611.npy 611\n",
      "/data/new_trap/20200518/Bead2//Shaking/Shaking374/Pictures_0/Shaking374_7_612.npy 612\n",
      "/data/new_trap/20200518/Bead2//Shaking/Shaking374/Pictures_0/Shaking374_7_613.npy 613\n",
      "/data/new_trap/20200518/Bead2//Shaking/Shaking374/Pictures_0/Shaking374_7_614.npy 614\n",
      "/data/new_trap/20200518/Bead2//Shaking/Shaking374/Pictures_0/Shaking374_7_615.npy 615\n",
      "/data/new_trap/20200518/Bead2//Shaking/Shaking374/Pictures_0/Shaking374_7_616.npy 616\n",
      "/data/new_trap/20200518/Bead2//Shaking/Shaking374/Pictures_0/Shaking374_7_617.npy 617\n",
      "/data/new_trap/20200518/Bead2//Shaking/Shaking374/Pictures_0/Shaking374_7_618.npy 618\n",
      "/data/new_trap/20200518/Bead2//Shaking/Shaking374/Pictures_0/Shaking374_7_619.npy 619\n",
      "/data/new_trap/20200518/Bead2//Shaking/Shaking374/Pictures_0/Shaking374_7_620.npy 620\n",
      "/data/new_trap/20200518/Bead2//Shaking/Shaking374/Pictures_0/Shaking374_7_621.npy 621\n",
      "/data/new_trap/20200518/Bead2//Shaking/Shaking374/Pictures_0/Shaking374_7_622.npy 622\n",
      "/data/new_trap/20200518/Bead2//Shaking/Shaking374/Pictures_0/Shaking374_7_623.npy 623\n",
      "/data/new_trap/20200518/Bead2//Shaking/Shaking374/Pictures_0/Shaking374_7_624.npy 624\n",
      "/data/new_trap/20200518/Bead2//Shaking/Shaking374/Pictures_0/Shaking374_7_625.npy 625\n",
      "/data/new_trap/20200518/Bead2//Shaking/Shaking374/Pictures_0/Shaking374_7_626.npy 626\n",
      "/data/new_trap/20200518/Bead2//Shaking/Shaking374/Pictures_0/Shaking374_7_627.npy 627\n",
      "/data/new_trap/20200518/Bead2//Shaking/Shaking374/Pictures_0/Shaking374_7_628.npy 628\n",
      "/data/new_trap/20200518/Bead2//Shaking/Shaking374/Pictures_0/Shaking374_7_629.npy 629\n",
      "/data/new_trap/20200518/Bead2//Shaking/Shaking374/Pictures_0/Shaking374_7_630.npy 630\n",
      "/data/new_trap/20200518/Bead2//Shaking/Shaking374/Pictures_0/Shaking374_7_631.npy 631\n",
      "/data/new_trap/20200518/Bead2//Shaking/Shaking374/Pictures_0/Shaking374_7_632.npy 632\n",
      "/data/new_trap/20200518/Bead2//Shaking/Shaking374/Pictures_0/Shaking374_7_633.npy 633\n",
      "/data/new_trap/20200518/Bead2//Shaking/Shaking374/Pictures_0/Shaking374_7_634.npy 634\n",
      "/data/new_trap/20200518/Bead2//Shaking/Shaking374/Pictures_0/Shaking374_7_635.npy 635\n",
      "/data/new_trap/20200518/Bead2//Shaking/Shaking374/Pictures_0/Shaking374_7_636.npy 636\n",
      "/data/new_trap/20200518/Bead2//Shaking/Shaking374/Pictures_0/Shaking374_7_637.npy 637\n",
      "/data/new_trap/20200518/Bead2//Shaking/Shaking374/Pictures_0/Shaking374_7_638.npy 638\n",
      "/data/new_trap/20200518/Bead2//Shaking/Shaking374/Pictures_0/Shaking374_7_639.npy 639\n",
      "/data/new_trap/20200518/Bead2//Shaking/Shaking374/Pictures_0/Shaking374_7_640.npy 640\n",
      "/data/new_trap/20200518/Bead2//Shaking/Shaking374/Pictures_0/Shaking374_7_641.npy 641\n",
      "/data/new_trap/20200518/Bead2//Shaking/Shaking374/Pictures_0/Shaking374_7_642.npy 642\n",
      "/data/new_trap/20200518/Bead2//Shaking/Shaking374/Pictures_0/Shaking374_7_643.npy 643\n",
      "/data/new_trap/20200518/Bead2//Shaking/Shaking374/Pictures_0/Shaking374_7_644.npy 644\n",
      "/data/new_trap/20200518/Bead2//Shaking/Shaking374/Pictures_0/Shaking374_7_645.npy 645\n",
      "/data/new_trap/20200518/Bead2//Shaking/Shaking374/Pictures_0/Shaking374_7_646.npy 646\n",
      "/data/new_trap/20200518/Bead2//Shaking/Shaking374/Pictures_0/Shaking374_7_647.npy 647\n",
      "/data/new_trap/20200518/Bead2//Shaking/Shaking374/Pictures_0/Shaking374_7_648.npy 648\n",
      "/data/new_trap/20200518/Bead2//Shaking/Shaking374/Pictures_0/Shaking374_7_649.npy 649\n",
      "/data/new_trap/20200518/Bead2//Shaking/Shaking374/Pictures_0/Shaking374_7_650.npy 650\n",
      "/data/new_trap/20200518/Bead2//Shaking/Shaking374/Pictures_0/Shaking374_7_651.npy 651\n",
      "/data/new_trap/20200518/Bead2//Shaking/Shaking374/Pictures_0/Shaking374_7_652.npy 652\n",
      "/data/new_trap/20200518/Bead2//Shaking/Shaking374/Pictures_0/Shaking374_7_653.npy 653\n",
      "/data/new_trap/20200518/Bead2//Shaking/Shaking374/Pictures_0/Shaking374_7_654.npy 654\n",
      "/data/new_trap/20200518/Bead2//Shaking/Shaking374/Pictures_0/Shaking374_7_655.npy 655\n",
      "/data/new_trap/20200518/Bead2//Shaking/Shaking374/Pictures_0/Shaking374_7_656.npy 656\n",
      "/data/new_trap/20200518/Bead2//Shaking/Shaking374/Pictures_0/Shaking374_7_657.npy 657\n",
      "/data/new_trap/20200518/Bead2//Shaking/Shaking374/Pictures_0/Shaking374_7_658.npy 658\n",
      "/data/new_trap/20200518/Bead2//Shaking/Shaking374/Pictures_0/Shaking374_7_659.npy 659\n",
      "/data/new_trap/20200518/Bead2//Shaking/Shaking374/Pictures_0/Shaking374_7_660.npy 660\n",
      "/data/new_trap/20200518/Bead2//Shaking/Shaking374/Pictures_0/Shaking374_7_661.npy 661\n",
      "/data/new_trap/20200518/Bead2//Shaking/Shaking374/Pictures_0/Shaking374_7_662.npy 662\n",
      "/data/new_trap/20200518/Bead2//Shaking/Shaking374/Pictures_0/Shaking374_7_663.npy 663\n",
      "/data/new_trap/20200518/Bead2//Shaking/Shaking374/Pictures_0/Shaking374_7_664.npy 664\n",
      "/data/new_trap/20200518/Bead2//Shaking/Shaking374/Pictures_0/Shaking374_7_665.npy 665\n",
      "/data/new_trap/20200518/Bead2//Shaking/Shaking374/Pictures_0/Shaking374_7_666.npy 666\n",
      "/data/new_trap/20200518/Bead2//Shaking/Shaking374/Pictures_0/Shaking374_7_667.npy 667\n",
      "/data/new_trap/20200518/Bead2//Shaking/Shaking374/Pictures_0/Shaking374_7_668.npy 668\n",
      "/data/new_trap/20200518/Bead2//Shaking/Shaking374/Pictures_0/Shaking374_7_669.npy 669\n",
      "/data/new_trap/20200518/Bead2//Shaking/Shaking374/Pictures_0/Shaking374_7_670.npy 670\n",
      "/data/new_trap/20200518/Bead2//Shaking/Shaking374/Pictures_0/Shaking374_7_671.npy 671\n",
      "/data/new_trap/20200518/Bead2//Shaking/Shaking374/Pictures_0/Shaking374_7_672.npy 672\n",
      "/data/new_trap/20200518/Bead2//Shaking/Shaking374/Pictures_0/Shaking374_7_673.npy 673\n",
      "/data/new_trap/20200518/Bead2//Shaking/Shaking374/Pictures_0/Shaking374_7_674.npy 674\n",
      "/data/new_trap/20200518/Bead2//Shaking/Shaking374/Pictures_0/Shaking374_7_675.npy 675\n",
      "/data/new_trap/20200518/Bead2//Shaking/Shaking374/Pictures_0/Shaking374_7_676.npy 676\n",
      "/data/new_trap/20200518/Bead2//Shaking/Shaking374/Pictures_0/Shaking374_7_677.npy 677\n",
      "/data/new_trap/20200518/Bead2//Shaking/Shaking374/Pictures_0/Shaking374_7_678.npy 678\n",
      "/data/new_trap/20200518/Bead2//Shaking/Shaking374/Pictures_0/Shaking374_7_679.npy 679\n",
      "/data/new_trap/20200518/Bead2//Shaking/Shaking374/Pictures_0/Shaking374_7_680.npy 680\n",
      "/data/new_trap/20200518/Bead2//Shaking/Shaking374/Pictures_0/Shaking374_7_681.npy 681\n",
      "/data/new_trap/20200518/Bead2//Shaking/Shaking374/Pictures_0/Shaking374_7_682.npy 682\n",
      "/data/new_trap/20200518/Bead2//Shaking/Shaking374/Pictures_0/Shaking374_7_683.npy 683\n",
      "/data/new_trap/20200518/Bead2//Shaking/Shaking374/Pictures_0/Shaking374_7_684.npy 684\n",
      "/data/new_trap/20200518/Bead2//Shaking/Shaking374/Pictures_0/Shaking374_7_685.npy 685\n",
      "/data/new_trap/20200518/Bead2//Shaking/Shaking374/Pictures_0/Shaking374_7_686.npy 686\n",
      "/data/new_trap/20200518/Bead2//Shaking/Shaking374/Pictures_0/Shaking374_7_687.npy 687\n",
      "/data/new_trap/20200518/Bead2//Shaking/Shaking374/Pictures_0/Shaking374_7_688.npy 688\n",
      "/data/new_trap/20200518/Bead2//Shaking/Shaking374/Pictures_0/Shaking374_7_689.npy 689\n",
      "/data/new_trap/20200518/Bead2//Shaking/Shaking374/Pictures_0/Shaking374_7_690.npy 690\n",
      "/data/new_trap/20200518/Bead2//Shaking/Shaking374/Pictures_0/Shaking374_7_691.npy 691\n",
      "/data/new_trap/20200518/Bead2//Shaking/Shaking374/Pictures_0/Shaking374_7_692.npy 692\n",
      "/data/new_trap/20200518/Bead2//Shaking/Shaking374/Pictures_0/Shaking374_7_693.npy 693\n",
      "/data/new_trap/20200518/Bead2//Shaking/Shaking374/Pictures_0/Shaking374_7_694.npy 694\n",
      "/data/new_trap/20200518/Bead2//Shaking/Shaking374/Pictures_0/Shaking374_7_695.npy 695\n",
      "/data/new_trap/20200518/Bead2//Shaking/Shaking374/Pictures_0/Shaking374_7_696.npy 696\n",
      "/data/new_trap/20200518/Bead2//Shaking/Shaking374/Pictures_0/Shaking374_7_697.npy 697\n",
      "/data/new_trap/20200518/Bead2//Shaking/Shaking374/Pictures_0/Shaking374_7_698.npy 698\n",
      "/data/new_trap/20200518/Bead2//Shaking/Shaking374/Pictures_0/Shaking374_7_699.npy 699\n",
      "/data/new_trap/20200518/Bead2//Shaking/Shaking374/Pictures_0/Shaking374_7_700.npy 700\n",
      "/data/new_trap/20200518/Bead2//Shaking/Shaking374/Pictures_0/Shaking374_7_701.npy 701\n",
      "/data/new_trap/20200518/Bead2//Shaking/Shaking374/Pictures_0/Shaking374_7_702.npy 702\n",
      "/data/new_trap/20200518/Bead2//Shaking/Shaking374/Pictures_0/Shaking374_7_703.npy 703\n",
      "/data/new_trap/20200518/Bead2//Shaking/Shaking374/Pictures_0/Shaking374_7_704.npy 704\n",
      "/data/new_trap/20200518/Bead2//Shaking/Shaking374/Pictures_0/Shaking374_7_705.npy 705\n",
      "/data/new_trap/20200518/Bead2//Shaking/Shaking374/Pictures_0/Shaking374_7_706.npy 706\n",
      "/data/new_trap/20200518/Bead2//Shaking/Shaking374/Pictures_0/Shaking374_7_707.npy 707\n",
      "/data/new_trap/20200518/Bead2//Shaking/Shaking374/Pictures_0/Shaking374_7_708.npy 708\n",
      "/data/new_trap/20200518/Bead2//Shaking/Shaking374/Pictures_0/Shaking374_7_709.npy 709\n",
      "/data/new_trap/20200518/Bead2//Shaking/Shaking374/Pictures_0/Shaking374_7_710.npy 710\n",
      "/data/new_trap/20200518/Bead2//Shaking/Shaking374/Pictures_0/Shaking374_7_711.npy 711\n",
      "/data/new_trap/20200518/Bead2//Shaking/Shaking374/Pictures_0/Shaking374_7_712.npy 712\n",
      "/data/new_trap/20200518/Bead2//Shaking/Shaking374/Pictures_0/Shaking374_7_713.npy 713\n",
      "/data/new_trap/20200518/Bead2//Shaking/Shaking374/Pictures_0/Shaking374_7_714.npy 714\n",
      "/data/new_trap/20200518/Bead2//Shaking/Shaking374/Pictures_0/Shaking374_7_715.npy 715\n",
      "/data/new_trap/20200518/Bead2//Shaking/Shaking374/Pictures_0/Shaking374_7_716.npy 716\n",
      "/data/new_trap/20200518/Bead2//Shaking/Shaking374/Pictures_0/Shaking374_7_717.npy 717\n",
      "/data/new_trap/20200518/Bead2//Shaking/Shaking374/Pictures_0/Shaking374_7_718.npy 718\n",
      "/data/new_trap/20200518/Bead2//Shaking/Shaking374/Pictures_0/Shaking374_7_719.npy 719\n",
      "/data/new_trap/20200518/Bead2//Shaking/Shaking374/Pictures_0/Shaking374_7_720.npy 720\n",
      "/data/new_trap/20200518/Bead2//Shaking/Shaking374/Pictures_0/Shaking374_7_721.npy 721\n",
      "/data/new_trap/20200518/Bead2//Shaking/Shaking374/Pictures_0/Shaking374_7_722.npy 722\n",
      "/data/new_trap/20200518/Bead2//Shaking/Shaking374/Pictures_0/Shaking374_7_723.npy 723\n",
      "/data/new_trap/20200518/Bead2//Shaking/Shaking374/Pictures_0/Shaking374_7_724.npy 724\n",
      "/data/new_trap/20200518/Bead2//Shaking/Shaking374/Pictures_0/Shaking374_7_725.npy 725\n",
      "/data/new_trap/20200518/Bead2//Shaking/Shaking374/Pictures_0/Shaking374_7_726.npy 726\n",
      "/data/new_trap/20200518/Bead2//Shaking/Shaking374/Pictures_0/Shaking374_7_727.npy 727\n",
      "/data/new_trap/20200518/Bead2//Shaking/Shaking374/Pictures_0/Shaking374_7_728.npy 728\n",
      "/data/new_trap/20200518/Bead2//Shaking/Shaking374/Pictures_0/Shaking374_7_729.npy 729\n",
      "/data/new_trap/20200518/Bead2//Shaking/Shaking374/Pictures_0/Shaking374_7_730.npy 730\n",
      "/data/new_trap/20200518/Bead2//Shaking/Shaking374/Pictures_0/Shaking374_7_731.npy 731\n",
      "/data/new_trap/20200518/Bead2//Shaking/Shaking374/Pictures_0/Shaking374_7_732.npy 732\n",
      "/data/new_trap/20200518/Bead2//Shaking/Shaking374/Pictures_0/Shaking374_7_733.npy 733\n",
      "/data/new_trap/20200518/Bead2//Shaking/Shaking374/Pictures_0/Shaking374_7_734.npy 734\n",
      "/data/new_trap/20200518/Bead2//Shaking/Shaking374/Pictures_0/Shaking374_7_735.npy 735\n",
      "/data/new_trap/20200518/Bead2//Shaking/Shaking374/Pictures_0/Shaking374_7_736.npy 736\n",
      "/data/new_trap/20200518/Bead2//Shaking/Shaking374/Pictures_0/Shaking374_7_737.npy 737\n",
      "/data/new_trap/20200518/Bead2//Shaking/Shaking374/Pictures_0/Shaking374_7_738.npy 738\n",
      "/data/new_trap/20200518/Bead2//Shaking/Shaking374/Pictures_0/Shaking374_7_739.npy 739\n",
      "/data/new_trap/20200518/Bead2//Shaking/Shaking374/Pictures_0/Shaking374_7_740.npy 740\n",
      "/data/new_trap/20200518/Bead2//Shaking/Shaking374/Pictures_0/Shaking374_7_741.npy 741\n",
      "/data/new_trap/20200518/Bead2//Shaking/Shaking374/Pictures_0/Shaking374_7_742.npy 742\n",
      "/data/new_trap/20200518/Bead2//Shaking/Shaking374/Pictures_0/Shaking374_7_743.npy 743\n",
      "/data/new_trap/20200518/Bead2//Shaking/Shaking374/Pictures_0/Shaking374_7_744.npy 744\n",
      "/data/new_trap/20200518/Bead2//Shaking/Shaking374/Pictures_0/Shaking374_7_745.npy 745\n",
      "/data/new_trap/20200518/Bead2//Shaking/Shaking374/Pictures_0/Shaking374_7_746.npy 746\n",
      "/data/new_trap/20200518/Bead2//Shaking/Shaking374/Pictures_0/Shaking374_7_747.npy 747\n",
      "/data/new_trap/20200518/Bead2//Shaking/Shaking374/Pictures_0/Shaking374_7_748.npy 748\n",
      "/data/new_trap/20200518/Bead2//Shaking/Shaking374/Pictures_0/Shaking374_7_749.npy 749\n",
      "/data/new_trap/20200518/Bead2//Shaking/Shaking374/Pictures_0/Shaking374_7_750.npy 750\n",
      "/data/new_trap/20200518/Bead2//Shaking/Shaking374/Pictures_0/Shaking374_7_751.npy 751\n",
      "/data/new_trap/20200518/Bead2//Shaking/Shaking374/Pictures_0/Shaking374_7_752.npy 752\n",
      "/data/new_trap/20200518/Bead2//Shaking/Shaking374/Pictures_0/Shaking374_7_753.npy 753\n",
      "/data/new_trap/20200518/Bead2//Shaking/Shaking374/Pictures_0/Shaking374_7_754.npy 754\n",
      "/data/new_trap/20200518/Bead2//Shaking/Shaking374/Pictures_0/Shaking374_7_755.npy 755\n",
      "/data/new_trap/20200518/Bead2//Shaking/Shaking374/Pictures_0/Shaking374_7_756.npy 756\n",
      "/data/new_trap/20200518/Bead2//Shaking/Shaking374/Pictures_0/Shaking374_7_757.npy 757\n",
      "/data/new_trap/20200518/Bead2//Shaking/Shaking374/Pictures_0/Shaking374_7_758.npy 758\n",
      "/data/new_trap/20200518/Bead2//Shaking/Shaking374/Pictures_0/Shaking374_7_759.npy 759\n",
      "/data/new_trap/20200518/Bead2//Shaking/Shaking374/Pictures_0/Shaking374_7_760.npy 760\n",
      "/data/new_trap/20200518/Bead2//Shaking/Shaking374/Pictures_0/Shaking374_7_761.npy 761\n",
      "/data/new_trap/20200518/Bead2//Shaking/Shaking374/Pictures_0/Shaking374_7_762.npy 762\n",
      "/data/new_trap/20200518/Bead2//Shaking/Shaking374/Pictures_0/Shaking374_7_763.npy 763\n",
      "/data/new_trap/20200518/Bead2//Shaking/Shaking374/Pictures_0/Shaking374_7_764.npy 764\n",
      "/data/new_trap/20200518/Bead2//Shaking/Shaking374/Pictures_0/Shaking374_7_765.npy 765\n",
      "/data/new_trap/20200518/Bead2//Shaking/Shaking374/Pictures_0/Shaking374_7_766.npy 766\n",
      "/data/new_trap/20200518/Bead2//Shaking/Shaking374/Pictures_0/Shaking374_7_767.npy 767\n",
      "/data/new_trap/20200518/Bead2//Shaking/Shaking374/Pictures_0/Shaking374_7_768.npy 768\n",
      "/data/new_trap/20200518/Bead2//Shaking/Shaking374/Pictures_0/Shaking374_7_769.npy 769\n",
      "/data/new_trap/20200518/Bead2//Shaking/Shaking374/Pictures_0/Shaking374_7_770.npy 770\n",
      "/data/new_trap/20200518/Bead2//Shaking/Shaking374/Pictures_0/Shaking374_7_771.npy 771\n",
      "/data/new_trap/20200518/Bead2//Shaking/Shaking374/Pictures_0/Shaking374_7_772.npy 772\n",
      "/data/new_trap/20200518/Bead2//Shaking/Shaking374/Pictures_0/Shaking374_7_773.npy 773\n",
      "/data/new_trap/20200518/Bead2//Shaking/Shaking374/Pictures_0/Shaking374_7_774.npy 774\n",
      "/data/new_trap/20200518/Bead2//Shaking/Shaking374/Pictures_0/Shaking374_7_775.npy 775\n",
      "/data/new_trap/20200518/Bead2//Shaking/Shaking374/Pictures_0/Shaking374_7_776.npy 776\n",
      "/data/new_trap/20200518/Bead2//Shaking/Shaking374/Pictures_0/Shaking374_7_777.npy 777\n",
      "/data/new_trap/20200518/Bead2//Shaking/Shaking374/Pictures_0/Shaking374_7_778.npy 778\n",
      "/data/new_trap/20200518/Bead2//Shaking/Shaking374/Pictures_0/Shaking374_7_779.npy 779\n",
      "/data/new_trap/20200518/Bead2//Shaking/Shaking374/Pictures_0/Shaking374_7_780.npy 780\n",
      "/data/new_trap/20200518/Bead2//Shaking/Shaking374/Pictures_0/Shaking374_7_781.npy 781\n",
      "/data/new_trap/20200518/Bead2//Shaking/Shaking374/Pictures_0/Shaking374_7_782.npy 782\n",
      "/data/new_trap/20200518/Bead2//Shaking/Shaking374/Pictures_0/Shaking374_7_783.npy 783\n",
      "/data/new_trap/20200518/Bead2//Shaking/Shaking374/Pictures_0/Shaking374_7_784.npy 784\n",
      "/data/new_trap/20200518/Bead2//Shaking/Shaking374/Pictures_0/Shaking374_7_785.npy 785\n",
      "/data/new_trap/20200518/Bead2//Shaking/Shaking374/Pictures_0/Shaking374_7_786.npy 786\n",
      "/data/new_trap/20200518/Bead2//Shaking/Shaking374/Pictures_0/Shaking374_7_787.npy 787\n",
      "/data/new_trap/20200518/Bead2//Shaking/Shaking374/Pictures_0/Shaking374_7_788.npy 788\n",
      "/data/new_trap/20200518/Bead2//Shaking/Shaking374/Pictures_0/Shaking374_7_789.npy 789\n",
      "/data/new_trap/20200518/Bead2//Shaking/Shaking374/Pictures_0/Shaking374_7_790.npy 790\n",
      "/data/new_trap/20200518/Bead2//Shaking/Shaking374/Pictures_0/Shaking374_7_791.npy 791\n",
      "/data/new_trap/20200518/Bead2//Shaking/Shaking374/Pictures_0/Shaking374_7_792.npy 792\n",
      "/data/new_trap/20200518/Bead2//Shaking/Shaking374/Pictures_0/Shaking374_7_793.npy 793\n",
      "/data/new_trap/20200518/Bead2//Shaking/Shaking374/Pictures_0/Shaking374_7_794.npy 794\n",
      "/data/new_trap/20200518/Bead2//Shaking/Shaking374/Pictures_0/Shaking374_7_795.npy 795\n",
      "/data/new_trap/20200518/Bead2//Shaking/Shaking374/Pictures_0/Shaking374_7_796.npy 796\n",
      "/data/new_trap/20200518/Bead2//Shaking/Shaking374/Pictures_0/Shaking374_7_797.npy 797\n",
      "/data/new_trap/20200518/Bead2//Shaking/Shaking374/Pictures_0/Shaking374_7_798.npy 798\n",
      "/data/new_trap/20200518/Bead2//Shaking/Shaking374/Pictures_0/Shaking374_7_799.npy 799\n",
      "/data/new_trap/20200518/Bead2//Shaking/Shaking374/Pictures_0/Shaking374_7_800.npy 800\n",
      "/data/new_trap/20200518/Bead2//Shaking/Shaking374/Pictures_0/Shaking374_7_801.npy 801\n",
      "/data/new_trap/20200518/Bead2//Shaking/Shaking374/Pictures_0/Shaking374_7_802.npy 802\n",
      "/data/new_trap/20200518/Bead2//Shaking/Shaking374/Pictures_0/Shaking374_7_803.npy 803\n",
      "/data/new_trap/20200518/Bead2//Shaking/Shaking374/Pictures_0/Shaking374_7_804.npy 804\n",
      "/data/new_trap/20200518/Bead2//Shaking/Shaking374/Pictures_0/Shaking374_7_805.npy 805\n",
      "/data/new_trap/20200518/Bead2//Shaking/Shaking374/Pictures_0/Shaking374_7_806.npy 806\n",
      "/data/new_trap/20200518/Bead2//Shaking/Shaking374/Pictures_0/Shaking374_7_807.npy 807\n",
      "/data/new_trap/20200518/Bead2//Shaking/Shaking374/Pictures_0/Shaking374_7_808.npy 808\n",
      "/data/new_trap/20200518/Bead2//Shaking/Shaking374/Pictures_0/Shaking374_7_809.npy 809\n",
      "/data/new_trap/20200518/Bead2//Shaking/Shaking374/Pictures_0/Shaking374_7_810.npy 810\n",
      "/data/new_trap/20200518/Bead2//Shaking/Shaking374/Pictures_0/Shaking374_7_811.npy 811\n",
      "/data/new_trap/20200518/Bead2//Shaking/Shaking374/Pictures_0/Shaking374_7_812.npy 812\n",
      "/data/new_trap/20200518/Bead2//Shaking/Shaking374/Pictures_0/Shaking374_7_813.npy 813\n",
      "/data/new_trap/20200518/Bead2//Shaking/Shaking374/Pictures_0/Shaking374_7_814.npy 814\n",
      "/data/new_trap/20200518/Bead2//Shaking/Shaking374/Pictures_0/Shaking374_7_815.npy 815\n",
      "/data/new_trap/20200518/Bead2//Shaking/Shaking374/Pictures_0/Shaking374_7_816.npy 816\n",
      "/data/new_trap/20200518/Bead2//Shaking/Shaking374/Pictures_0/Shaking374_7_817.npy 817\n",
      "/data/new_trap/20200518/Bead2//Shaking/Shaking374/Pictures_0/Shaking374_7_818.npy 818\n",
      "/data/new_trap/20200518/Bead2//Shaking/Shaking374/Pictures_0/Shaking374_7_819.npy 819\n",
      "/data/new_trap/20200518/Bead2//Shaking/Shaking374/Pictures_0/Shaking374_7_820.npy 820\n",
      "/data/new_trap/20200518/Bead2//Shaking/Shaking374/Pictures_0/Shaking374_7_821.npy 821\n",
      "/data/new_trap/20200518/Bead2//Shaking/Shaking374/Pictures_0/Shaking374_7_822.npy 822\n",
      "/data/new_trap/20200518/Bead2//Shaking/Shaking374/Pictures_0/Shaking374_7_823.npy 823\n",
      "/data/new_trap/20200518/Bead2//Shaking/Shaking374/Pictures_0/Shaking374_7_824.npy 824\n",
      "/data/new_trap/20200518/Bead2//Shaking/Shaking374/Pictures_0/Shaking374_7_825.npy 825\n",
      "/data/new_trap/20200518/Bead2//Shaking/Shaking374/Pictures_0/Shaking374_7_826.npy 826\n",
      "/data/new_trap/20200518/Bead2//Shaking/Shaking374/Pictures_0/Shaking374_7_827.npy 827\n",
      "/data/new_trap/20200518/Bead2//Shaking/Shaking374/Pictures_0/Shaking374_7_828.npy 828\n",
      "/data/new_trap/20200518/Bead2//Shaking/Shaking374/Pictures_0/Shaking374_7_829.npy 829\n",
      "/data/new_trap/20200518/Bead2//Shaking/Shaking374/Pictures_0/Shaking374_7_830.npy 830\n",
      "/data/new_trap/20200518/Bead2//Shaking/Shaking374/Pictures_0/Shaking374_7_831.npy 831\n",
      "/data/new_trap/20200518/Bead2//Shaking/Shaking374/Pictures_0/Shaking374_7_832.npy 832\n",
      "/data/new_trap/20200518/Bead2//Shaking/Shaking374/Pictures_0/Shaking374_7_833.npy 833\n",
      "/data/new_trap/20200518/Bead2//Shaking/Shaking374/Pictures_0/Shaking374_7_834.npy 834\n",
      "/data/new_trap/20200518/Bead2//Shaking/Shaking374/Pictures_0/Shaking374_7_835.npy 835\n",
      "/data/new_trap/20200518/Bead2//Shaking/Shaking374/Pictures_0/Shaking374_7_836.npy 836\n",
      "/data/new_trap/20200518/Bead2//Shaking/Shaking374/Pictures_0/Shaking374_7_837.npy 837\n",
      "/data/new_trap/20200518/Bead2//Shaking/Shaking374/Pictures_0/Shaking374_7_838.npy 838\n",
      "/data/new_trap/20200518/Bead2//Shaking/Shaking374/Pictures_0/Shaking374_7_839.npy 839\n",
      "/data/new_trap/20200518/Bead2//Shaking/Shaking374/Pictures_0/Shaking374_7_840.npy 840\n",
      "/data/new_trap/20200518/Bead2//Shaking/Shaking374/Pictures_0/Shaking374_7_841.npy 841\n",
      "/data/new_trap/20200518/Bead2//Shaking/Shaking374/Pictures_0/Shaking374_7_842.npy 842\n",
      "/data/new_trap/20200518/Bead2//Shaking/Shaking374/Pictures_0/Shaking374_7_843.npy 843\n",
      "/data/new_trap/20200518/Bead2//Shaking/Shaking374/Pictures_0/Shaking374_7_844.npy 844\n",
      "/data/new_trap/20200518/Bead2//Shaking/Shaking374/Pictures_0/Shaking374_7_845.npy 845\n",
      "/data/new_trap/20200518/Bead2//Shaking/Shaking374/Pictures_0/Shaking374_7_846.npy 846\n",
      "/data/new_trap/20200518/Bead2//Shaking/Shaking374/Pictures_0/Shaking374_7_847.npy 847\n",
      "/data/new_trap/20200518/Bead2//Shaking/Shaking374/Pictures_0/Shaking374_7_848.npy 848\n",
      "/data/new_trap/20200518/Bead2//Shaking/Shaking374/Pictures_0/Shaking374_7_849.npy 849\n",
      "/data/new_trap/20200518/Bead2//Shaking/Shaking374/Pictures_0/Shaking374_7_850.npy 850\n",
      "/data/new_trap/20200518/Bead2//Shaking/Shaking374/Pictures_0/Shaking374_7_851.npy 851\n",
      "/data/new_trap/20200518/Bead2//Shaking/Shaking374/Pictures_0/Shaking374_7_852.npy 852\n",
      "/data/new_trap/20200518/Bead2//Shaking/Shaking374/Pictures_0/Shaking374_7_853.npy 853\n",
      "/data/new_trap/20200518/Bead2//Shaking/Shaking374/Pictures_0/Shaking374_7_854.npy 854\n",
      "/data/new_trap/20200518/Bead2//Shaking/Shaking374/Pictures_0/Shaking374_7_855.npy 855\n",
      "/data/new_trap/20200518/Bead2//Shaking/Shaking374/Pictures_0/Shaking374_7_856.npy 856\n",
      "/data/new_trap/20200518/Bead2//Shaking/Shaking374/Pictures_0/Shaking374_7_857.npy 857\n",
      "/data/new_trap/20200518/Bead2//Shaking/Shaking374/Pictures_0/Shaking374_7_858.npy 858\n",
      "/data/new_trap/20200518/Bead2//Shaking/Shaking374/Pictures_0/Shaking374_7_859.npy 859\n",
      "/data/new_trap/20200518/Bead2//Shaking/Shaking374/Pictures_0/Shaking374_7_860.npy 860\n",
      "/data/new_trap/20200518/Bead2//Shaking/Shaking374/Pictures_0/Shaking374_7_861.npy 861\n",
      "/data/new_trap/20200518/Bead2//Shaking/Shaking374/Pictures_0/Shaking374_7_862.npy 862\n",
      "/data/new_trap/20200518/Bead2//Shaking/Shaking374/Pictures_0/Shaking374_7_863.npy 863\n",
      "/data/new_trap/20200518/Bead2//Shaking/Shaking374/Pictures_0/Shaking374_7_864.npy 864\n",
      "/data/new_trap/20200518/Bead2//Shaking/Shaking374/Pictures_0/Shaking374_7_865.npy 865\n",
      "/data/new_trap/20200518/Bead2//Shaking/Shaking374/Pictures_0/Shaking374_7_866.npy 866\n",
      "/data/new_trap/20200518/Bead2//Shaking/Shaking374/Pictures_0/Shaking374_7_867.npy 867\n",
      "/data/new_trap/20200518/Bead2//Shaking/Shaking374/Pictures_0/Shaking374_7_868.npy 868\n",
      "/data/new_trap/20200518/Bead2//Shaking/Shaking374/Pictures_0/Shaking374_7_869.npy 869\n",
      "/data/new_trap/20200518/Bead2//Shaking/Shaking374/Pictures_0/Shaking374_7_870.npy 870\n",
      "/data/new_trap/20200518/Bead2//Shaking/Shaking374/Pictures_0/Shaking374_7_871.npy 871\n",
      "/data/new_trap/20200518/Bead2//Shaking/Shaking374/Pictures_0/Shaking374_7_872.npy 872\n",
      "/data/new_trap/20200518/Bead2//Shaking/Shaking374/Pictures_0/Shaking374_7_873.npy 873\n",
      "/data/new_trap/20200518/Bead2//Shaking/Shaking374/Pictures_0/Shaking374_7_874.npy 874\n",
      "/data/new_trap/20200518/Bead2//Shaking/Shaking374/Pictures_0/Shaking374_7_875.npy 875\n",
      "/data/new_trap/20200518/Bead2//Shaking/Shaking374/Pictures_0/Shaking374_7_876.npy 876\n",
      "/data/new_trap/20200518/Bead2//Shaking/Shaking374/Pictures_0/Shaking374_7_877.npy 877\n",
      "/data/new_trap/20200518/Bead2//Shaking/Shaking374/Pictures_0/Shaking374_7_878.npy 878\n",
      "/data/new_trap/20200518/Bead2//Shaking/Shaking374/Pictures_0/Shaking374_7_879.npy 879\n",
      "/data/new_trap/20200518/Bead2//Shaking/Shaking374/Pictures_0/Shaking374_7_880.npy 880\n",
      "/data/new_trap/20200518/Bead2//Shaking/Shaking374/Pictures_0/Shaking374_7_881.npy 881\n",
      "/data/new_trap/20200518/Bead2//Shaking/Shaking374/Pictures_0/Shaking374_7_882.npy 882\n",
      "/data/new_trap/20200518/Bead2//Shaking/Shaking374/Pictures_0/Shaking374_7_883.npy 883\n",
      "/data/new_trap/20200518/Bead2//Shaking/Shaking374/Pictures_0/Shaking374_7_884.npy 884\n",
      "/data/new_trap/20200518/Bead2//Shaking/Shaking374/Pictures_0/Shaking374_7_885.npy 885\n",
      "/data/new_trap/20200518/Bead2//Shaking/Shaking374/Pictures_0/Shaking374_7_886.npy 886\n",
      "/data/new_trap/20200518/Bead2//Shaking/Shaking374/Pictures_0/Shaking374_7_887.npy 887\n",
      "/data/new_trap/20200518/Bead2//Shaking/Shaking374/Pictures_0/Shaking374_7_888.npy 888\n",
      "/data/new_trap/20200518/Bead2//Shaking/Shaking374/Pictures_0/Shaking374_7_889.npy 889\n",
      "/data/new_trap/20200518/Bead2//Shaking/Shaking374/Pictures_0/Shaking374_7_890.npy 890\n",
      "/data/new_trap/20200518/Bead2//Shaking/Shaking374/Pictures_0/Shaking374_7_891.npy 891\n",
      "/data/new_trap/20200518/Bead2//Shaking/Shaking374/Pictures_0/Shaking374_7_892.npy 892\n",
      "/data/new_trap/20200518/Bead2//Shaking/Shaking374/Pictures_0/Shaking374_7_893.npy 893\n",
      "/data/new_trap/20200518/Bead2//Shaking/Shaking374/Pictures_0/Shaking374_7_894.npy 894\n",
      "/data/new_trap/20200518/Bead2//Shaking/Shaking374/Pictures_0/Shaking374_7_895.npy 895\n",
      "/data/new_trap/20200518/Bead2//Shaking/Shaking374/Pictures_0/Shaking374_7_896.npy 896\n",
      "/data/new_trap/20200518/Bead2//Shaking/Shaking374/Pictures_0/Shaking374_7_897.npy 897\n",
      "/data/new_trap/20200518/Bead2//Shaking/Shaking374/Pictures_0/Shaking374_7_898.npy 898\n",
      "/data/new_trap/20200518/Bead2//Shaking/Shaking374/Pictures_0/Shaking374_7_899.npy 899\n",
      "/data/new_trap/20200518/Bead2//Shaking/Shaking374/Pictures_0/Shaking374_7_900.npy 900\n",
      "/data/new_trap/20200518/Bead2//Shaking/Shaking374/Pictures_0/Shaking374_7_901.npy 901\n",
      "/data/new_trap/20200518/Bead2//Shaking/Shaking374/Pictures_0/Shaking374_7_902.npy 902\n",
      "/data/new_trap/20200518/Bead2//Shaking/Shaking374/Pictures_0/Shaking374_7_903.npy 903\n",
      "/data/new_trap/20200518/Bead2//Shaking/Shaking374/Pictures_0/Shaking374_7_904.npy 904\n",
      "/data/new_trap/20200518/Bead2//Shaking/Shaking374/Pictures_0/Shaking374_7_905.npy 905\n",
      "/data/new_trap/20200518/Bead2//Shaking/Shaking374/Pictures_0/Shaking374_7_906.npy 906\n",
      "/data/new_trap/20200518/Bead2//Shaking/Shaking374/Pictures_0/Shaking374_7_907.npy 907\n",
      "/data/new_trap/20200518/Bead2//Shaking/Shaking374/Pictures_0/Shaking374_7_908.npy 908\n",
      "/data/new_trap/20200518/Bead2//Shaking/Shaking374/Pictures_0/Shaking374_7_909.npy 909\n",
      "/data/new_trap/20200518/Bead2//Shaking/Shaking374/Pictures_0/Shaking374_7_910.npy 910\n",
      "/data/new_trap/20200518/Bead2//Shaking/Shaking374/Pictures_0/Shaking374_7_911.npy 911\n",
      "/data/new_trap/20200518/Bead2//Shaking/Shaking374/Pictures_0/Shaking374_7_912.npy 912\n",
      "/data/new_trap/20200518/Bead2//Shaking/Shaking374/Pictures_0/Shaking374_7_913.npy 913\n",
      "/data/new_trap/20200518/Bead2//Shaking/Shaking374/Pictures_0/Shaking374_7_914.npy 914\n",
      "/data/new_trap/20200518/Bead2//Shaking/Shaking374/Pictures_0/Shaking374_7_915.npy 915\n",
      "/data/new_trap/20200518/Bead2//Shaking/Shaking374/Pictures_0/Shaking374_7_916.npy 916\n",
      "/data/new_trap/20200518/Bead2//Shaking/Shaking374/Pictures_0/Shaking374_7_917.npy 917\n",
      "/data/new_trap/20200518/Bead2//Shaking/Shaking374/Pictures_0/Shaking374_7_918.npy 918\n",
      "/data/new_trap/20200518/Bead2//Shaking/Shaking374/Pictures_0/Shaking374_7_919.npy 919\n",
      "/data/new_trap/20200518/Bead2//Shaking/Shaking374/Pictures_0/Shaking374_7_920.npy 920\n",
      "/data/new_trap/20200518/Bead2//Shaking/Shaking374/Pictures_0/Shaking374_7_921.npy 921\n",
      "/data/new_trap/20200518/Bead2//Shaking/Shaking374/Pictures_0/Shaking374_7_922.npy 922\n",
      "/data/new_trap/20200518/Bead2//Shaking/Shaking374/Pictures_0/Shaking374_7_923.npy 923\n",
      "/data/new_trap/20200518/Bead2//Shaking/Shaking374/Pictures_0/Shaking374_7_924.npy 924\n",
      "/data/new_trap/20200518/Bead2//Shaking/Shaking374/Pictures_0/Shaking374_7_925.npy 925\n",
      "/data/new_trap/20200518/Bead2//Shaking/Shaking374/Pictures_0/Shaking374_7_926.npy 926\n",
      "/data/new_trap/20200518/Bead2//Shaking/Shaking374/Pictures_0/Shaking374_7_927.npy 927\n",
      "/data/new_trap/20200518/Bead2//Shaking/Shaking374/Pictures_0/Shaking374_7_928.npy 928\n",
      "/data/new_trap/20200518/Bead2//Shaking/Shaking374/Pictures_0/Shaking374_7_929.npy 929\n",
      "/data/new_trap/20200518/Bead2//Shaking/Shaking374/Pictures_0/Shaking374_7_930.npy 930\n",
      "/data/new_trap/20200518/Bead2//Shaking/Shaking374/Pictures_0/Shaking374_7_931.npy 931\n",
      "/data/new_trap/20200518/Bead2//Shaking/Shaking374/Pictures_0/Shaking374_7_932.npy 932\n",
      "/data/new_trap/20200518/Bead2//Shaking/Shaking374/Pictures_0/Shaking374_7_933.npy 933\n",
      "/data/new_trap/20200518/Bead2//Shaking/Shaking374/Pictures_0/Shaking374_7_934.npy 934\n",
      "/data/new_trap/20200518/Bead2//Shaking/Shaking374/Pictures_0/Shaking374_7_935.npy 935\n",
      "/data/new_trap/20200518/Bead2//Shaking/Shaking374/Pictures_0/Shaking374_7_936.npy 936\n",
      "/data/new_trap/20200518/Bead2//Shaking/Shaking374/Pictures_0/Shaking374_7_937.npy 937\n",
      "/data/new_trap/20200518/Bead2//Shaking/Shaking374/Pictures_0/Shaking374_7_938.npy 938\n",
      "/data/new_trap/20200518/Bead2//Shaking/Shaking374/Pictures_0/Shaking374_7_939.npy 939\n",
      "/data/new_trap/20200518/Bead2//Shaking/Shaking374/Pictures_0/Shaking374_7_940.npy 940\n",
      "/data/new_trap/20200518/Bead2//Shaking/Shaking374/Pictures_0/Shaking374_7_941.npy 941\n",
      "/data/new_trap/20200518/Bead2//Shaking/Shaking374/Pictures_0/Shaking374_7_942.npy 942\n",
      "/data/new_trap/20200518/Bead2//Shaking/Shaking374/Pictures_0/Shaking374_7_943.npy 943\n",
      "/data/new_trap/20200518/Bead2//Shaking/Shaking374/Pictures_0/Shaking374_7_944.npy 944\n",
      "/data/new_trap/20200518/Bead2//Shaking/Shaking374/Pictures_0/Shaking374_7_945.npy 945\n",
      "/data/new_trap/20200518/Bead2//Shaking/Shaking374/Pictures_0/Shaking374_7_946.npy 946\n",
      "/data/new_trap/20200518/Bead2//Shaking/Shaking374/Pictures_0/Shaking374_7_947.npy 947\n",
      "/data/new_trap/20200518/Bead2//Shaking/Shaking374/Pictures_0/Shaking374_7_948.npy 948\n",
      "/data/new_trap/20200518/Bead2//Shaking/Shaking374/Pictures_0/Shaking374_7_949.npy 949\n",
      "/data/new_trap/20200518/Bead2//Shaking/Shaking374/Pictures_0/Shaking374_7_950.npy 950\n",
      "/data/new_trap/20200518/Bead2//Shaking/Shaking374/Pictures_0/Shaking374_7_951.npy 951\n",
      "/data/new_trap/20200518/Bead2//Shaking/Shaking374/Pictures_0/Shaking374_7_952.npy 952\n",
      "/data/new_trap/20200518/Bead2//Shaking/Shaking374/Pictures_0/Shaking374_7_953.npy 953\n",
      "/data/new_trap/20200518/Bead2//Shaking/Shaking374/Pictures_0/Shaking374_7_954.npy 954\n",
      "/data/new_trap/20200518/Bead2//Shaking/Shaking374/Pictures_0/Shaking374_7_955.npy 955\n",
      "/data/new_trap/20200518/Bead2//Shaking/Shaking374/Pictures_0/Shaking374_7_956.npy 956\n",
      "/data/new_trap/20200518/Bead2//Shaking/Shaking374/Pictures_0/Shaking374_7_957.npy 957\n",
      "/data/new_trap/20200518/Bead2//Shaking/Shaking374/Pictures_0/Shaking374_7_958.npy 958\n",
      "/data/new_trap/20200518/Bead2//Shaking/Shaking374/Pictures_0/Shaking374_7_959.npy 959\n",
      "/data/new_trap/20200518/Bead2//Shaking/Shaking374/Pictures_0/Shaking374_7_960.npy 960\n",
      "/data/new_trap/20200518/Bead2//Shaking/Shaking374/Pictures_0/Shaking374_7_961.npy 961\n",
      "/data/new_trap/20200518/Bead2//Shaking/Shaking374/Pictures_0/Shaking374_7_962.npy 962\n",
      "/data/new_trap/20200518/Bead2//Shaking/Shaking374/Pictures_0/Shaking374_7_963.npy 963\n",
      "/data/new_trap/20200518/Bead2//Shaking/Shaking374/Pictures_0/Shaking374_7_964.npy 964\n",
      "/data/new_trap/20200518/Bead2//Shaking/Shaking374/Pictures_0/Shaking374_7_965.npy 965\n",
      "/data/new_trap/20200518/Bead2//Shaking/Shaking374/Pictures_0/Shaking374_7_966.npy 966\n",
      "/data/new_trap/20200518/Bead2//Shaking/Shaking374/Pictures_0/Shaking374_7_967.npy 967\n",
      "/data/new_trap/20200518/Bead2//Shaking/Shaking374/Pictures_0/Shaking374_7_968.npy 968\n",
      "/data/new_trap/20200518/Bead2//Shaking/Shaking374/Pictures_0/Shaking374_7_969.npy 969\n",
      "/data/new_trap/20200518/Bead2//Shaking/Shaking374/Pictures_0/Shaking374_7_970.npy 970\n",
      "/data/new_trap/20200518/Bead2//Shaking/Shaking374/Pictures_0/Shaking374_7_971.npy 971\n",
      "/data/new_trap/20200518/Bead2//Shaking/Shaking374/Pictures_0/Shaking374_7_972.npy 972\n",
      "/data/new_trap/20200518/Bead2//Shaking/Shaking374/Pictures_0/Shaking374_7_973.npy 973\n",
      "/data/new_trap/20200518/Bead2//Shaking/Shaking374/Pictures_0/Shaking374_7_974.npy 974\n",
      "/data/new_trap/20200518/Bead2//Shaking/Shaking374/Pictures_0/Shaking374_7_975.npy 975\n",
      "/data/new_trap/20200518/Bead2//Shaking/Shaking374/Pictures_0/Shaking374_7_976.npy 976\n",
      "/data/new_trap/20200518/Bead2//Shaking/Shaking374/Pictures_0/Shaking374_7_977.npy 977\n",
      "/data/new_trap/20200518/Bead2//Shaking/Shaking374/Pictures_0/Shaking374_7_978.npy 978\n",
      "/data/new_trap/20200518/Bead2//Shaking/Shaking374/Pictures_0/Shaking374_7_979.npy 979\n",
      "/data/new_trap/20200518/Bead2//Shaking/Shaking374/Pictures_0/Shaking374_7_980.npy 980\n",
      "/data/new_trap/20200518/Bead2//Shaking/Shaking374/Pictures_0/Shaking374_7_981.npy 981\n",
      "/data/new_trap/20200518/Bead2//Shaking/Shaking374/Pictures_0/Shaking374_7_982.npy 982\n",
      "/data/new_trap/20200518/Bead2//Shaking/Shaking374/Pictures_0/Shaking374_7_983.npy 983\n",
      "/data/new_trap/20200518/Bead2//Shaking/Shaking374/Pictures_0/Shaking374_7_984.npy 984\n",
      "/data/new_trap/20200518/Bead2//Shaking/Shaking374/Pictures_0/Shaking374_7_985.npy 985\n",
      "/data/new_trap/20200518/Bead2//Shaking/Shaking374/Pictures_0/Shaking374_7_986.npy 986\n",
      "/data/new_trap/20200518/Bead2//Shaking/Shaking374/Pictures_0/Shaking374_7_987.npy 987\n",
      "/data/new_trap/20200518/Bead2//Shaking/Shaking374/Pictures_0/Shaking374_7_988.npy 988\n",
      "/data/new_trap/20200518/Bead2//Shaking/Shaking374/Pictures_0/Shaking374_7_989.npy 989\n",
      "/data/new_trap/20200518/Bead2//Shaking/Shaking374/Pictures_0/Shaking374_7_990.npy 990\n",
      "/data/new_trap/20200518/Bead2//Shaking/Shaking374/Pictures_0/Shaking374_7_991.npy 991\n",
      "/data/new_trap/20200518/Bead2//Shaking/Shaking374/Pictures_0/Shaking374_7_992.npy 992\n",
      "/data/new_trap/20200518/Bead2//Shaking/Shaking374/Pictures_0/Shaking374_7_993.npy 993\n",
      "/data/new_trap/20200518/Bead2//Shaking/Shaking374/Pictures_0/Shaking374_7_994.npy 994\n",
      "/data/new_trap/20200518/Bead2//Shaking/Shaking374/Pictures_0/Shaking374_7_995.npy 995\n",
      "/data/new_trap/20200518/Bead2//Shaking/Shaking374/Pictures_0/Shaking374_7_996.npy 996\n",
      "/data/new_trap/20200518/Bead2//Shaking/Shaking374/Pictures_0/Shaking374_7_997.npy 997\n",
      "/data/new_trap/20200518/Bead2//Shaking/Shaking374/Pictures_0/Shaking374_7_998.npy 998\n",
      "/data/new_trap/20200518/Bead2//Shaking/Shaking374/Pictures_0/Shaking374_7_999.npy 999\n"
     ]
    }
   ],
   "source": [
    "# load the image files\n",
    "bead_date =20200518\n",
    "bead_number = 2\n",
    "dataset = \"/Shaking/Shaking374/\"\n",
    "FOI = \"Shaking374_7\"\n",
    "filename = \"/data/new_trap/\" + str(bead_date) + \"/Bead%s/\" %bead_number +dataset + \"Pictures_0/\" + FOI\n",
    "data = load_npy_files(path=filename+\"*\",max_files=10000)"
   ]
  },
  {
   "cell_type": "code",
   "execution_count": 142,
   "metadata": {},
   "outputs": [],
   "source": [
    "def from_shadow_image_to_height(image,threshold,area_low_limits=[670,730],area_widths=[40,70],flb=430,fub=530,area_max=3000,width_max=5,plot=False):\n",
    "    thresh = threshold_image(image.copy(),threshold,256)\n",
    "    img = thresh.transpose()\n",
    "    z1 = np.mean(img[area_low_limits[0]:area_low_limits[0]+area_widths[0]],axis=0)\n",
    "    z2 = np.mean(img[area_low_limits[1]:area_low_limits[1]+area_widths[1]],axis=0)\n",
    "    fit_img = z1-z2\n",
    "    m = gaussian_fit_shadow_height(fit_img,low_y_lim=flb,up_y_lim=fub,upper_area=area_max,up_lim_width=width_max,img_type=\"Diff_Projection\",)\n",
    "    \n",
    "    if(plot==True):\n",
    "        plt.plot(fit_img)\n",
    "        plt.plot(range(1024),gaussian(range(1024),params=[m.values[\"area\"],m.values[\"mean\"],m.values[\"sigma\"],m.values[\"constant\"]]),label=\"fit\")\n",
    "        plt.xlim(m.values[\"mean\"]-100,m.values[\"mean\"]+100)\n",
    "    # height =  pixel_to_height(m.values[\"mean\"],calibration=calibration)        \n",
    "    return m.values[\"mean\"],m # in pixels\n",
    "\n"
   ]
  },
  {
   "cell_type": "code",
   "execution_count": 144,
   "metadata": {
    "scrolled": true
   },
   "outputs": [
    {
     "name": "stderr",
     "output_type": "stream",
     "text": [
      "\n",
      "\n",
      "  0%|          | 0/1000 [00:00<?, ?it/s]\u001b[A\u001b[A\n",
      "\n",
      "  0%|          | 5/1000 [00:00<00:23, 43.05it/s]\u001b[A\u001b[A\n",
      "\n",
      "  1%|          | 9/1000 [00:00<00:23, 41.34it/s]\u001b[A\u001b[A"
     ]
    },
    {
     "name": "stdout",
     "output_type": "stream",
     "text": [
      "471.52147139993446\n",
      "473.115350338531\n",
      "472.5361358981493\n",
      "472.33387044625226\n",
      "472.1432895908405\n",
      "471.67734353790104\n",
      "511.4043181539456\n",
      "470.67658693174553\n",
      "470.57023248477964\n"
     ]
    },
    {
     "name": "stderr",
     "output_type": "stream",
     "text": [
      "\n",
      "\n",
      "  1%|▏         | 13/1000 [00:00<00:24, 39.62it/s]\u001b[A\u001b[A\n",
      "\n",
      "  2%|▏         | 17/1000 [00:00<00:26, 37.61it/s]\u001b[A\u001b[A"
     ]
    },
    {
     "name": "stdout",
     "output_type": "stream",
     "text": [
      "523.5570013878307\n",
      "469.42603239998533\n",
      "469.1700070247086\n",
      "468.96595994200305\n",
      "468.65541487165603\n",
      "468.6394376844161\n",
      "468.34974893572485\n",
      "468.1787848019238\n"
     ]
    },
    {
     "name": "stderr",
     "output_type": "stream",
     "text": [
      "\n",
      "\n",
      "  2%|▏         | 21/1000 [00:00<00:26, 36.57it/s]\u001b[A\u001b[A\n",
      "\n",
      "  3%|▎         | 26/1000 [00:00<00:25, 38.52it/s]\u001b[A\u001b[A"
     ]
    },
    {
     "name": "stdout",
     "output_type": "stream",
     "text": [
      "467.82336206922787\n",
      "468.1085670185827\n",
      "467.69805874110403\n",
      "467.4990515479061\n",
      "467.1945376766914\n",
      "466.8318735961746\n",
      "466.70024725168986\n",
      "466.6902342432033\n",
      "466.71479036041217\n"
     ]
    },
    {
     "name": "stderr",
     "output_type": "stream",
     "text": [
      "\n",
      "\n",
      "  3%|▎         | 31/1000 [00:00<00:23, 40.84it/s]\u001b[A\u001b[A\n",
      "\n",
      "  4%|▎         | 37/1000 [00:00<00:22, 43.51it/s]\u001b[A\u001b[A"
     ]
    },
    {
     "name": "stdout",
     "output_type": "stream",
     "text": [
      "466.71323112605256\n",
      "466.6556695888493\n",
      "466.64859370683246\n",
      "466.6119197713002\n",
      "466.1700410175348\n",
      "466.18149901629795\n",
      "465.7712401670464\n",
      "465.83730558318695\n",
      "465.7598362315124\n",
      "465.72295955275524\n",
      "465.67591715202553\n"
     ]
    },
    {
     "name": "stderr",
     "output_type": "stream",
     "text": [
      "\n",
      "\n",
      "  4%|▍         | 43/1000 [00:01<00:20, 46.27it/s]\u001b[A\u001b[A\n",
      "\n"
     ]
    },
    {
     "name": "stdout",
     "output_type": "stream",
     "text": [
      "465.6071147349657\n",
      "465.5531666826413\n",
      "465.6111847757984\n",
      "465.5548087812407\n",
      "465.1070607209084\n",
      "464.87174404614564\n",
      "464.7899958711399\n",
      "464.79188135098616\n",
      "464.8010404821024\n",
      "464.73244953134474\n",
      "464.72735187634345\n",
      "464.752414293669\n",
      "464.3924221810631\n"
     ]
    },
    {
     "name": "stderr",
     "output_type": "stream",
     "text": [
      "  5%|▌         | 50/1000 [00:01<00:19, 49.92it/s]\u001b[A\u001b[A\n",
      "\n",
      "  6%|▌         | 56/1000 [00:01<00:18, 52.07it/s]\u001b[A\u001b[A\n",
      "\n",
      "  6%|▌         | 62/1000 [00:01<00:17, 52.69it/s]\u001b[A\u001b[A"
     ]
    },
    {
     "name": "stdout",
     "output_type": "stream",
     "text": [
      "464.3792088774736\n",
      "464.5721565101053\n",
      "464.67939373512786\n",
      "464.5160260990666\n",
      "464.6219492172943\n",
      "464.60246402391596\n",
      "464.2407419692893\n",
      "464.48864011477053\n",
      "463.8269029026491\n",
      "463.84966311002114\n",
      "463.8141264840524\n",
      "463.80004491088647\n"
     ]
    },
    {
     "name": "stderr",
     "output_type": "stream",
     "text": [
      "\n",
      "\n",
      "  7%|▋         | 68/1000 [00:01<00:17, 51.95it/s]\u001b[A\u001b[A"
     ]
    },
    {
     "name": "stdout",
     "output_type": "stream",
     "text": [
      "463.80873675784585\n",
      "463.7990925994369\n",
      "463.75050006138434\n",
      "463.76058445174334\n",
      "463.78454111883923\n",
      "463.68791789737315\n",
      "463.73993773328874\n",
      "463.80101551865846\n",
      "463.7737113645552\n",
      "463.81527705433405\n",
      "463.73866252105404\n"
     ]
    },
    {
     "name": "stderr",
     "output_type": "stream",
     "text": [
      "\n",
      "\n",
      "  7%|▋         | 74/1000 [00:01<00:18, 51.08it/s]\u001b[A\u001b[A\n",
      "\n",
      "  8%|▊         | 80/1000 [00:01<00:17, 51.23it/s]\u001b[A\u001b[A"
     ]
    },
    {
     "name": "stdout",
     "output_type": "stream",
     "text": [
      "463.7891778322007\n",
      "463.7455443718678\n",
      "463.7197263486125\n",
      "463.6966146435817\n",
      "463.7659820574508\n",
      "463.77386151800926\n",
      "463.77723449932006\n",
      "463.6725969857098\n",
      "463.733474784203\n",
      "463.67857093800325\n",
      "463.69083318039986\n"
     ]
    },
    {
     "name": "stderr",
     "output_type": "stream",
     "text": [
      "\n",
      "\n",
      "  9%|▊         | 86/1000 [00:01<00:17, 50.83it/s]\u001b[A\u001b[A\n",
      "\n",
      "  9%|▉         | 92/1000 [00:01<00:17, 50.98it/s]\u001b[A\u001b[A"
     ]
    },
    {
     "name": "stdout",
     "output_type": "stream",
     "text": [
      "463.58401720444556\n",
      "463.68847434581437\n",
      "463.6401402434633\n",
      "463.8045719408682\n",
      "463.77340274964354\n",
      "463.6823428467868\n",
      "463.6964763579439\n",
      "463.7398115361619\n",
      "463.78629207981385\n",
      "463.68932438995995\n",
      "463.7432781902123\n"
     ]
    },
    {
     "name": "stderr",
     "output_type": "stream",
     "text": [
      "\n",
      "\n",
      " 10%|▉         | 98/1000 [00:02<00:17, 50.58it/s]\u001b[A\u001b[A\n",
      "\n",
      " 10%|█         | 104/1000 [00:02<00:17, 50.21it/s]\u001b[A\u001b[A"
     ]
    },
    {
     "name": "stdout",
     "output_type": "stream",
     "text": [
      "463.72051735741974\n",
      "463.7170733842313\n",
      "463.6700435315398\n",
      "463.6760114491209\n",
      "463.6347793511251\n",
      "463.6863607735921\n",
      "463.68819273403574\n",
      "463.67291959415076\n",
      "463.71065850036416\n",
      "463.7386070860456\n"
     ]
    },
    {
     "name": "stderr",
     "output_type": "stream",
     "text": [
      "\n",
      "\n",
      " 11%|█         | 110/1000 [00:02<00:17, 50.07it/s]\u001b[A\u001b[A\n",
      "\n",
      " 12%|█▏        | 116/1000 [00:02<00:17, 49.99it/s]\u001b[A\u001b[A"
     ]
    },
    {
     "name": "stdout",
     "output_type": "stream",
     "text": [
      "463.7347412678903\n",
      "463.6388633942476\n",
      "463.59135072905354\n",
      "463.70201604964916\n",
      "463.67100976726925\n",
      "463.65005401299726\n",
      "463.6522216458719\n",
      "463.60871597788577\n",
      "463.649808229228\n",
      "463.6593948601031\n",
      "463.63391843701135\n"
     ]
    },
    {
     "name": "stderr",
     "output_type": "stream",
     "text": [
      "\n",
      "\n",
      " 12%|█▏        | 122/1000 [00:02<00:17, 49.74it/s]\u001b[A\u001b[A\n",
      "\n",
      " 13%|█▎        | 127/1000 [00:02<00:17, 49.35it/s]"
     ]
    },
    {
     "name": "stdout",
     "output_type": "stream",
     "text": [
      "463.61218795812795\n",
      "463.63844620237563\n",
      "463.38112180861765\n",
      "463.72772336028675\n",
      "463.4969822483446\n",
      "463.3245252197777\n",
      "463.6568970567039\n",
      "463.6172297592407\n",
      "463.7353702986335\n",
      "463.71168286991974\n",
      "463.61581003000356\n"
     ]
    },
    {
     "name": "stderr",
     "output_type": "stream",
     "text": [
      "\u001b[A\u001b[A\n",
      "\n",
      " 13%|█▎        | 132/1000 [00:02<00:17, 48.85it/s]\u001b[A\u001b[A\n",
      "\n",
      " 14%|█▎        | 137/1000 [00:02<00:17, 48.89it/s]\u001b[A\u001b[A"
     ]
    },
    {
     "name": "stdout",
     "output_type": "stream",
     "text": [
      "463.7740373486889\n",
      "463.72208569235517\n",
      "463.6948734843117\n",
      "463.6355110332581\n",
      "463.65434287475074\n",
      "463.685590981482\n",
      "463.6950738966475\n",
      "463.40287845233206\n",
      "463.6036153261665\n",
      "463.68793117716893\n"
     ]
    },
    {
     "name": "stderr",
     "output_type": "stream",
     "text": [
      "\n",
      "\n",
      " 14%|█▍        | 142/1000 [00:02<00:17, 48.70it/s]\u001b[A\u001b[A\n",
      "\n",
      " 15%|█▍        | 147/1000 [00:03<00:17, 48.32it/s]\u001b[A\u001b[A"
     ]
    },
    {
     "name": "stdout",
     "output_type": "stream",
     "text": [
      "463.72040888308817\n",
      "463.691384023672\n",
      "463.6968456872405\n",
      "463.6024666998471\n",
      "463.67447372803804\n",
      "463.66212479031435\n",
      "463.71735473742916\n",
      "463.72907206355893\n",
      "463.7605200373917\n",
      "463.3477603153866\n"
     ]
    },
    {
     "name": "stderr",
     "output_type": "stream",
     "text": [
      "\n",
      "\n",
      " 15%|█▌        | 152/1000 [00:03<00:17, 48.07it/s]\u001b[A\u001b[A\n",
      "\n",
      " 16%|█▌        | 157/1000 [00:03<00:17, 48.42it/s]\u001b[A\u001b[A"
     ]
    },
    {
     "name": "stdout",
     "output_type": "stream",
     "text": [
      "463.6453577540675\n",
      "463.7171415476446\n",
      "463.62988657965786\n",
      "462.8678815757859\n",
      "463.3511823142145\n",
      "463.5720765603597\n",
      "463.634910596302\n",
      "463.6378355262357\n",
      "463.63111060581855\n",
      "463.6495546399333\n"
     ]
    },
    {
     "name": "stderr",
     "output_type": "stream",
     "text": [
      "\n",
      "\n",
      " 16%|█▌        | 162/1000 [00:03<00:17, 48.54it/s]\u001b[A\u001b[A\n",
      "\n",
      " 17%|█▋        | 167/1000 [00:03<00:17, 48.68it/s]\u001b[A\u001b[A"
     ]
    },
    {
     "name": "stdout",
     "output_type": "stream",
     "text": [
      "463.61226875933653\n",
      "463.6058898081093\n",
      "463.5873308722534\n",
      "463.6402502786021\n",
      "463.68631811872893\n",
      "463.61395678851767\n",
      "463.6894179302402\n",
      "463.6638346987219\n",
      "463.60264948663894\n",
      "463.58715826283844\n"
     ]
    },
    {
     "name": "stderr",
     "output_type": "stream",
     "text": [
      "\n",
      "\n",
      " 17%|█▋        | 172/1000 [00:03<00:17, 48.64it/s]\u001b[A\u001b[A\n",
      "\n",
      " 18%|█▊        | 177/1000 [00:03<00:16, 48.67it/s]\u001b[A\u001b[A"
     ]
    },
    {
     "name": "stdout",
     "output_type": "stream",
     "text": [
      "463.3002225907576\n",
      "463.6879450789857\n",
      "463.2430174082528\n",
      "463.64896125672266\n",
      "463.5903704944757\n",
      "463.29637766804876\n",
      "463.62631639218216\n",
      "463.62770575884446\n",
      "463.5880569634937\n",
      "463.718665029742\n"
     ]
    },
    {
     "name": "stderr",
     "output_type": "stream",
     "text": [
      "\n",
      "\n",
      " 18%|█▊        | 182/1000 [00:03<00:17, 48.01it/s]\u001b[A\u001b[A\n",
      "\n",
      " 19%|█▊        | 187/1000 [00:03<00:16, 48.18it/s]\u001b[A\u001b[A"
     ]
    },
    {
     "name": "stdout",
     "output_type": "stream",
     "text": [
      "463.6407420828516\n",
      "463.5470828240174\n",
      "463.60372288593896\n",
      "463.7956650115873\n",
      "463.74207195962805\n",
      "463.67322026241976\n",
      "463.662865568478\n",
      "463.61943413270154\n",
      "463.5840010488756\n",
      "463.42749666021564\n"
     ]
    },
    {
     "name": "stderr",
     "output_type": "stream",
     "text": [
      "\n",
      "\n",
      " 19%|█▉        | 192/1000 [00:03<00:16, 48.53it/s]\u001b[A\u001b[A\n",
      "\n",
      " 20%|█▉        | 198/1000 [00:04<00:16, 49.00it/s]\u001b[A\u001b[A"
     ]
    },
    {
     "name": "stdout",
     "output_type": "stream",
     "text": [
      "463.6442031355788\n",
      "463.67855237092226\n",
      "463.66517185090424\n",
      "463.7318015034364\n",
      "463.7012312054263\n",
      "463.8063608627841\n",
      "463.783153364604\n",
      "463.39774895124503\n",
      "463.6503725404419\n",
      "463.698429699728\n",
      "463.75138750076565\n"
     ]
    },
    {
     "name": "stderr",
     "output_type": "stream",
     "text": [
      "\n",
      "\n",
      " 20%|██        | 203/1000 [00:04<00:16, 48.84it/s]\u001b[A\u001b[A\n",
      "\n",
      " 21%|██        | 208/1000 [00:04<00:16, 48.87it/s]\u001b[A\u001b[A"
     ]
    },
    {
     "name": "stdout",
     "output_type": "stream",
     "text": [
      "463.8209604880332\n",
      "463.637363449573\n",
      "463.7487849074974\n",
      "463.6702895883393\n",
      "463.73612464543845\n",
      "463.63036443465205\n",
      "463.53417362684013\n",
      "463.27742849529744\n",
      "463.65340929210987\n",
      "463.6732988009518\n"
     ]
    },
    {
     "name": "stderr",
     "output_type": "stream",
     "text": [
      "\n",
      "\n",
      " 21%|██▏       | 213/1000 [00:04<00:16, 48.83it/s]\u001b[A\u001b[A\n",
      "\n",
      " 22%|██▏       | 218/1000 [00:04<00:16, 48.41it/s]\u001b[A\u001b[A"
     ]
    },
    {
     "name": "stdout",
     "output_type": "stream",
     "text": [
      "463.3981745491449\n",
      "463.6934760661109\n",
      "463.36087378716536\n",
      "463.7312205997355\n",
      "463.7284609220144\n",
      "463.63261945981935\n",
      "463.70807683658205\n",
      "463.18160563203577\n",
      "463.0951124706776\n",
      "463.5696398337892\n"
     ]
    },
    {
     "name": "stderr",
     "output_type": "stream",
     "text": [
      "\n",
      "\n",
      " 22%|██▏       | 223/1000 [00:04<00:15, 48.75it/s]\u001b[A\u001b[A\n",
      "\n",
      " 23%|██▎       | 228/1000 [00:04<00:15, 48.33it/s]\u001b[A\u001b[A"
     ]
    },
    {
     "name": "stdout",
     "output_type": "stream",
     "text": [
      "463.1769507157353\n",
      "463.54178281910356\n",
      "463.6771659225878\n",
      "463.65030996481454\n",
      "463.7139974460701\n",
      "463.67663190136653\n",
      "463.41012429410614\n",
      "463.6972609478718\n",
      "463.6712727901288\n",
      "463.60333002975716\n"
     ]
    },
    {
     "name": "stderr",
     "output_type": "stream",
     "text": [
      "\n",
      "\n",
      " 23%|██▎       | 233/1000 [00:04<00:15, 48.28it/s]\u001b[A\u001b[A\n",
      "\n",
      " 24%|██▍       | 238/1000 [00:04<00:15, 48.28it/s]\u001b[A\u001b[A"
     ]
    },
    {
     "name": "stdout",
     "output_type": "stream",
     "text": [
      "463.70480688680976\n",
      "463.64336384536136\n",
      "463.60264459384024\n",
      "463.72301979589105\n",
      "463.30043176264786\n",
      "463.7688148751958\n",
      "463.5821153774581\n",
      "463.58610982577386\n",
      "463.3226324293694\n",
      "463.6284387731164\n"
     ]
    },
    {
     "name": "stderr",
     "output_type": "stream",
     "text": [
      "\n",
      "\n",
      " 24%|██▍       | 243/1000 [00:05<00:15, 48.06it/s]\u001b[A\u001b[A\n",
      "\n",
      " 25%|██▍       | 248/1000 [00:05<00:15, 48.19it/s]\u001b[A\u001b[A"
     ]
    },
    {
     "name": "stdout",
     "output_type": "stream",
     "text": [
      "463.6058283166524\n",
      "463.675810581573\n",
      "463.61368343464756\n",
      "463.56709805814523\n",
      "463.68222152453853\n",
      "463.6563952343028\n",
      "463.735187454304\n",
      "463.6253488183553\n",
      "463.5923222390977\n",
      "463.7389900571647\n",
      "463.62227342172605\n"
     ]
    },
    {
     "name": "stderr",
     "output_type": "stream",
     "text": [
      "\n",
      "\n",
      " 25%|██▌       | 253/1000 [00:05<00:15, 47.78it/s]\u001b[A\u001b[A\n",
      "\n",
      " 26%|██▌       | 259/1000 [00:05<00:15, 48.54it/s]\u001b[A\u001b[A"
     ]
    },
    {
     "name": "stdout",
     "output_type": "stream",
     "text": [
      "463.60902648367266\n",
      "463.62156050501466\n",
      "463.33110648478566\n",
      "463.58275300014293\n",
      "463.61707828492104\n",
      "463.71604598616955\n",
      "463.66011818639157\n",
      "463.5894800957207\n",
      "463.7164311295755\n",
      "463.6103078611465\n"
     ]
    },
    {
     "name": "stderr",
     "output_type": "stream",
     "text": [
      "\n",
      "\n",
      " 26%|██▋       | 264/1000 [00:05<00:15, 47.92it/s]\u001b[A\u001b[A\n",
      "\n",
      " 27%|██▋       | 269/1000 [00:05<00:15, 48.26it/s]\u001b[A\u001b[A"
     ]
    },
    {
     "name": "stdout",
     "output_type": "stream",
     "text": [
      "463.700582881191\n",
      "463.60967044905624\n",
      "463.22172895220814\n",
      "463.5289732401135\n",
      "463.2274176867603\n",
      "463.6418882318517\n",
      "463.3532990071818\n",
      "463.64713426103594\n",
      "463.59285633434223\n",
      "463.59157264181056\n"
     ]
    },
    {
     "name": "stderr",
     "output_type": "stream",
     "text": [
      "\n",
      "\n",
      " 27%|██▋       | 274/1000 [00:05<00:14, 48.41it/s]\u001b[A\u001b[A\n",
      "\n",
      " 28%|██▊       | 279/1000 [00:05<00:14, 48.75it/s]\u001b[A\u001b[A"
     ]
    },
    {
     "name": "stdout",
     "output_type": "stream",
     "text": [
      "463.69496598067167\n",
      "463.6732203464891\n",
      "463.7999368652352\n",
      "463.72405489706387\n",
      "463.7005231264933\n",
      "463.75065797310015\n",
      "463.80539347388583\n",
      "463.6656347431183\n",
      "463.716076866062\n",
      "463.6750361705144\n"
     ]
    },
    {
     "name": "stderr",
     "output_type": "stream",
     "text": [
      "\n",
      "\n",
      " 28%|██▊       | 284/1000 [00:05<00:14, 48.39it/s]\u001b[A\u001b[A\n",
      "\n",
      " 29%|██▉       | 289/1000 [00:05<00:14, 48.58it/s]\u001b[A\u001b[A"
     ]
    },
    {
     "name": "stdout",
     "output_type": "stream",
     "text": [
      "463.678471233413\n",
      "463.67335659855496\n",
      "463.6394644738826\n",
      "463.6121884168959\n",
      "463.6993061654063\n",
      "463.63015760987713\n",
      "463.61764484962407\n",
      "463.642342974718\n",
      "463.61982039047035\n",
      "463.60280231233884\n"
     ]
    },
    {
     "name": "stderr",
     "output_type": "stream",
     "text": [
      "\n",
      "\n",
      " 30%|██▉       | 295/1000 [00:06<00:14, 49.14it/s]\u001b[A\u001b[A\n",
      "\n",
      " 30%|███       | 300/1000 [00:06<00:14, 48.92it/s]\u001b[A\u001b[A"
     ]
    },
    {
     "name": "stdout",
     "output_type": "stream",
     "text": [
      "463.6293415629695\n",
      "463.6700312838348\n",
      "463.70239904033866\n",
      "463.6478163225404\n",
      "463.67363998647494\n",
      "463.63734155298886\n",
      "463.5604636892141\n",
      "463.66619385809514\n",
      "463.28408350169633\n",
      "463.6516059673792\n",
      "463.6172323324852\n"
     ]
    },
    {
     "name": "stderr",
     "output_type": "stream",
     "text": [
      "\n",
      "\n",
      " 30%|███       | 305/1000 [00:06<00:14, 48.98it/s]\u001b[A\u001b[A\n",
      "\n",
      " 31%|███       | 310/1000 [00:06<00:14, 48.97it/s]\u001b[A\u001b[A"
     ]
    },
    {
     "name": "stdout",
     "output_type": "stream",
     "text": [
      "463.6770561302756\n",
      "463.7367630913018\n",
      "463.7778224546502\n",
      "463.696476639847\n",
      "463.77877299738617\n",
      "463.7247510053932\n",
      "463.7307474450572\n",
      "463.74406491066236\n",
      "463.81707492582797\n",
      "463.73412015600667\n",
      "463.7434745246059\n"
     ]
    },
    {
     "name": "stderr",
     "output_type": "stream",
     "text": [
      "\n",
      "\n",
      " 32%|███▏      | 316/1000 [00:06<00:13, 49.72it/s]\u001b[A\u001b[A\n",
      "\n",
      " 32%|███▏      | 321/1000 [00:06<00:13, 49.25it/s]\u001b[A\u001b[A"
     ]
    },
    {
     "name": "stdout",
     "output_type": "stream",
     "text": [
      "463.8663317148436\n",
      "463.82317249934863\n",
      "463.6442924076165\n",
      "463.6811829724802\n",
      "463.7547025180517\n",
      "463.64423641204576\n",
      "463.6602305479234\n",
      "463.6621455111645\n",
      "463.6355524504936\n",
      "463.6743506865797\n"
     ]
    },
    {
     "name": "stderr",
     "output_type": "stream",
     "text": [
      "\n",
      "\n",
      " 33%|███▎      | 326/1000 [00:06<00:13, 49.14it/s]\u001b[A\u001b[A\n",
      "\n",
      " 33%|███▎      | 331/1000 [00:06<00:13, 48.72it/s]\u001b[A\u001b[A"
     ]
    },
    {
     "name": "stdout",
     "output_type": "stream",
     "text": [
      "463.7321886446513\n",
      "463.60204397782985\n",
      "463.68676324895\n",
      "463.7773455297766\n",
      "463.7765742960546\n",
      "463.72350943967746\n",
      "463.6472633357579\n",
      "463.61669415902065\n",
      "463.80044195405355\n",
      "463.72408494078803\n"
     ]
    },
    {
     "name": "stderr",
     "output_type": "stream",
     "text": [
      "\n",
      "\n",
      " 34%|███▎      | 336/1000 [00:06<00:13, 48.79it/s]\u001b[A\u001b[A\n",
      "\n",
      " 34%|███▍      | 341/1000 [00:07<00:13, 48.48it/s]\u001b[A\u001b[A"
     ]
    },
    {
     "name": "stdout",
     "output_type": "stream",
     "text": [
      "463.6758763874075\n",
      "463.6181498767845\n",
      "463.7185271336521\n",
      "463.6916208432816\n",
      "463.7328704867025\n",
      "463.64316907642467\n",
      "463.59717463309687\n",
      "463.67179013761705\n",
      "463.75596114448206\n",
      "463.68526650821934\n"
     ]
    },
    {
     "name": "stderr",
     "output_type": "stream",
     "text": [
      "\n",
      "\n",
      " 35%|███▍      | 346/1000 [00:07<00:13, 48.70it/s]\u001b[A\u001b[A\n",
      "\n",
      " 35%|███▌      | 351/1000 [00:07<00:13, 48.19it/s]\u001b[A\u001b[A"
     ]
    },
    {
     "name": "stdout",
     "output_type": "stream",
     "text": [
      "463.70127452438714\n",
      "463.65562875335183\n",
      "463.6175637142129\n",
      "463.63293809537976\n",
      "463.6924438241332\n",
      "463.54901796506334\n",
      "463.64442554534867\n",
      "463.4280535367551\n",
      "463.61769640942504\n",
      "463.6861225039796\n"
     ]
    },
    {
     "name": "stderr",
     "output_type": "stream",
     "text": [
      "\n",
      "\n",
      " 36%|███▌      | 356/1000 [00:07<00:13, 47.67it/s]\u001b[A\u001b[A\n",
      "\n",
      " 36%|███▌      | 361/1000 [00:07<00:13, 47.86it/s]\u001b[A\u001b[A"
     ]
    },
    {
     "name": "stdout",
     "output_type": "stream",
     "text": [
      "463.63169801328627\n",
      "463.6199846867966\n",
      "463.67916573134585\n",
      "463.57873201524\n",
      "463.3225589193638\n",
      "463.6240714853672\n",
      "463.2708372121354\n",
      "463.67351395317314\n",
      "463.7165375891532\n",
      "463.6574651200015\n"
     ]
    },
    {
     "name": "stderr",
     "output_type": "stream",
     "text": [
      "\n",
      "\n",
      " 37%|███▋      | 366/1000 [00:07<00:13, 47.80it/s]\u001b[A\u001b[A\n",
      "\n",
      " 37%|███▋      | 371/1000 [00:07<00:13, 48.31it/s]\u001b[A\u001b[A"
     ]
    },
    {
     "name": "stdout",
     "output_type": "stream",
     "text": [
      "463.60143887593273\n",
      "463.55688398331137\n",
      "463.6801764981556\n",
      "463.5913451269547\n",
      "463.628387912757\n",
      "463.6979538623387\n",
      "463.6968777019861\n",
      "463.37088168803547\n",
      "463.7214798418228\n",
      "463.5302946865303\n"
     ]
    },
    {
     "name": "stderr",
     "output_type": "stream",
     "text": [
      "\n",
      "\n",
      " 38%|███▊      | 376/1000 [00:07<00:12, 48.62it/s]\u001b[A\u001b[A\n",
      "\n",
      " 38%|███▊      | 382/1000 [00:07<00:12, 49.12it/s]\u001b[A\u001b[A"
     ]
    },
    {
     "name": "stdout",
     "output_type": "stream",
     "text": [
      "463.63952735987766\n",
      "463.68330771160817\n",
      "463.6454321154915\n",
      "463.7407993689598\n",
      "463.57737839350483\n",
      "463.7133735226188\n",
      "463.7175509305523\n",
      "463.6722231521643\n",
      "463.6949391470119\n",
      "463.71283700655994\n",
      "463.71954418380795\n"
     ]
    },
    {
     "name": "stderr",
     "output_type": "stream",
     "text": [
      "\n",
      "\n",
      " 39%|███▊      | 387/1000 [00:08<00:12, 48.95it/s]\u001b[A\u001b[A\n",
      "\n",
      " 39%|███▉      | 393/1000 [00:08<00:12, 49.41it/s]\u001b[A\u001b[A"
     ]
    },
    {
     "name": "stdout",
     "output_type": "stream",
     "text": [
      "463.3665859867024\n",
      "463.2192942866634\n",
      "463.5944102276849\n",
      "463.69544579003536\n",
      "463.6373079552093\n",
      "463.64621462675984\n",
      "463.69988960355516\n",
      "463.72463404991976\n",
      "463.7014880338291\n",
      "463.66992106415603\n",
      "463.6025706704907\n"
     ]
    },
    {
     "name": "stderr",
     "output_type": "stream",
     "text": [
      "\n",
      "\n",
      " 40%|███▉      | 398/1000 [00:08<00:12, 48.73it/s]\u001b[A\u001b[A\n",
      "\n",
      " 40%|████      | 403/1000 [00:08<00:12, 48.49it/s]\u001b[A\u001b[A"
     ]
    },
    {
     "name": "stdout",
     "output_type": "stream",
     "text": [
      "463.5422586696226\n",
      "463.7175641582303\n",
      "463.5769697091932\n",
      "463.63237296736236\n",
      "463.2093811461838\n",
      "463.5811422333235\n",
      "463.22863696067037\n",
      "463.5584192074412\n",
      "463.3294312947248\n",
      "463.5508755829286\n"
     ]
    },
    {
     "name": "stderr",
     "output_type": "stream",
     "text": [
      "\n",
      "\n",
      " 41%|████      | 408/1000 [00:08<00:12, 48.93it/s]\u001b[A\u001b[A\n",
      "\n",
      " 41%|████▏     | 413/1000 [00:08<00:11, 48.97it/s]\u001b[A\u001b[A"
     ]
    },
    {
     "name": "stdout",
     "output_type": "stream",
     "text": [
      "463.31217716606096\n",
      "463.5417579600031\n",
      "463.6693398376903\n",
      "463.63741592003055\n",
      "463.62431747047435\n",
      "463.6051835779483\n",
      "463.5334711461269\n",
      "463.6912362707213\n",
      "463.64778194013826\n",
      "463.6341501624921\n"
     ]
    },
    {
     "name": "stderr",
     "output_type": "stream",
     "text": [
      "\n",
      "\n",
      " 42%|████▏     | 418/1000 [00:08<00:12, 48.25it/s]\u001b[A\u001b[A\n",
      "\n",
      " 42%|████▏     | 423/1000 [00:08<00:11, 48.64it/s]\u001b[A\u001b[A"
     ]
    },
    {
     "name": "stdout",
     "output_type": "stream",
     "text": [
      "463.4079573251898\n",
      "463.646603141589\n",
      "463.67981572148415\n",
      "463.38149040111574\n",
      "463.62670079592533\n",
      "463.58454770436566\n",
      "463.56724640830123\n",
      "463.5674550372395\n",
      "463.34038667881464\n",
      "463.5962831089098\n"
     ]
    },
    {
     "name": "stderr",
     "output_type": "stream",
     "text": [
      "\n",
      "\n",
      " 43%|████▎     | 428/1000 [00:08<00:11, 48.86it/s]\u001b[A\u001b[A\n",
      "\n",
      " 43%|████▎     | 433/1000 [00:08<00:11, 48.90it/s]\u001b[A\u001b[A"
     ]
    },
    {
     "name": "stdout",
     "output_type": "stream",
     "text": [
      "463.6167885911682\n",
      "463.30921023707623\n",
      "463.4868765609383\n",
      "463.6382059017848\n",
      "463.652968010884\n",
      "463.60624886596725\n",
      "463.5922607819482\n",
      "463.59296198889206\n",
      "463.61863163781135\n",
      "463.65487836397534\n"
     ]
    },
    {
     "name": "stderr",
     "output_type": "stream",
     "text": [
      "\n",
      "\n",
      " 44%|████▍     | 438/1000 [00:09<00:11, 48.73it/s]\u001b[A\u001b[A\n",
      "\n",
      " 44%|████▍     | 443/1000 [00:09<00:11, 47.96it/s]\u001b[A\u001b[A"
     ]
    },
    {
     "name": "stdout",
     "output_type": "stream",
     "text": [
      "463.5861731313819\n",
      "463.5180920020609\n",
      "463.5821256772108\n",
      "463.6600145299018\n",
      "463.68411157875846\n",
      "463.63212412295934\n",
      "463.3636729932356\n",
      "463.6166799101284\n",
      "463.64468702797575\n",
      "463.6620415568493\n"
     ]
    },
    {
     "name": "stderr",
     "output_type": "stream",
     "text": [
      "\n",
      "\n",
      " 45%|████▍     | 448/1000 [00:09<00:11, 47.39it/s]\u001b[A\u001b[A\n",
      "\n",
      " 45%|████▌     | 453/1000 [00:09<00:11, 47.49it/s]\u001b[A\u001b[A"
     ]
    },
    {
     "name": "stdout",
     "output_type": "stream",
     "text": [
      "463.6287296769352\n",
      "463.36831503095226\n",
      "463.65970515107944\n",
      "463.6601705966463\n",
      "463.8192726813118\n",
      "463.65534188078857\n",
      "463.61599292375774\n",
      "463.7047629160552\n",
      "463.58955479957626\n",
      "463.59065787655345\n"
     ]
    },
    {
     "name": "stderr",
     "output_type": "stream",
     "text": [
      "\n",
      "\n",
      " 46%|████▌     | 458/1000 [00:09<00:11, 47.96it/s]\u001b[A\u001b[A\n",
      "\n",
      " 46%|████▋     | 463/1000 [00:09<00:11, 48.33it/s]\u001b[A\u001b[A"
     ]
    },
    {
     "name": "stdout",
     "output_type": "stream",
     "text": [
      "463.69966292367735\n",
      "463.56246272928826\n",
      "463.52732721326345\n",
      "463.6576242359479\n",
      "463.3300186991958\n",
      "463.6336889461866\n",
      "463.611498184746\n",
      "463.18617960841914\n",
      "463.6404147538234\n",
      "463.3261420352285\n"
     ]
    },
    {
     "name": "stderr",
     "output_type": "stream",
     "text": [
      "\n",
      "\n",
      " 47%|████▋     | 468/1000 [00:09<00:10, 48.42it/s]\u001b[A\u001b[A\n",
      "\n",
      " 47%|████▋     | 473/1000 [00:09<00:10, 48.59it/s]\u001b[A\u001b[A"
     ]
    },
    {
     "name": "stdout",
     "output_type": "stream",
     "text": [
      "463.28906112240725\n",
      "463.6450499409757\n",
      "463.56363396101744\n",
      "463.4202563105579\n",
      "463.59494825658277\n",
      "463.21328305122717\n",
      "463.61746738851474\n",
      "463.6507718361902\n",
      "463.6920371304283\n",
      "463.55079777625696\n"
     ]
    },
    {
     "name": "stderr",
     "output_type": "stream",
     "text": [
      "\n",
      "\n",
      " 48%|████▊     | 478/1000 [00:09<00:10, 48.38it/s]\u001b[A\u001b[A\n",
      "\n",
      " 48%|████▊     | 483/1000 [00:09<00:10, 48.85it/s]\u001b[A\u001b[A"
     ]
    },
    {
     "name": "stdout",
     "output_type": "stream",
     "text": [
      "463.6923018196678\n",
      "463.5306185428092\n",
      "463.59818702540707\n",
      "463.68726805468964\n",
      "463.67055273777225\n",
      "463.7216787338484\n",
      "463.70543493773647\n",
      "463.65725537231475\n",
      "463.6861548319048\n",
      "463.68979125797847\n"
     ]
    },
    {
     "name": "stderr",
     "output_type": "stream",
     "text": [
      "\n",
      "\n",
      " 49%|████▉     | 488/1000 [00:10<00:10, 48.93it/s]\u001b[A\u001b[A\n",
      "\n",
      " 49%|████▉     | 493/1000 [00:10<00:10, 48.94it/s]\u001b[A\u001b[A"
     ]
    },
    {
     "name": "stdout",
     "output_type": "stream",
     "text": [
      "463.66773785193493\n",
      "463.44459629141085\n",
      "463.66857709676464\n",
      "463.72946570239435\n",
      "463.37938469056746\n",
      "463.6994392224825\n",
      "463.669338905047\n",
      "463.71314863244424\n",
      "463.3202637107084\n",
      "463.56299135610067\n"
     ]
    },
    {
     "name": "stderr",
     "output_type": "stream",
     "text": [
      "\n",
      "\n",
      " 50%|████▉     | 498/1000 [00:10<00:10, 48.92it/s]\u001b[A\u001b[A\n",
      "\n",
      " 50%|█████     | 503/1000 [00:10<00:10, 48.76it/s]\u001b[A\u001b[A"
     ]
    },
    {
     "name": "stdout",
     "output_type": "stream",
     "text": [
      "463.6471154781991\n",
      "463.64356607569675\n",
      "463.66795479876527\n",
      "463.70459367367476\n",
      "463.62501706054184\n",
      "463.6397488154444\n",
      "463.3912871627933\n",
      "463.6994329195315\n",
      "463.2609494081881\n",
      "463.67659425116153\n"
     ]
    },
    {
     "name": "stderr",
     "output_type": "stream",
     "text": [
      "\n",
      "\n",
      " 51%|█████     | 508/1000 [00:10<00:10, 48.17it/s]\u001b[A\u001b[A\n",
      "\n",
      " 51%|█████▏    | 513/1000 [00:10<00:10, 48.19it/s]\u001b[A\u001b[A"
     ]
    },
    {
     "name": "stdout",
     "output_type": "stream",
     "text": [
      "463.5350809607286\n",
      "463.24520469369355\n",
      "462.93210721479295\n",
      "463.1952075016102\n",
      "463.605618174982\n",
      "463.26298380323624\n",
      "463.27219847602953\n",
      "463.46298142333126\n",
      "463.2205286313352\n",
      "463.528805973156\n"
     ]
    },
    {
     "name": "stderr",
     "output_type": "stream",
     "text": [
      "\n",
      "\n",
      " 52%|█████▏    | 518/1000 [00:10<00:09, 48.25it/s]\u001b[A\u001b[A\n",
      "\n",
      " 52%|█████▏    | 523/1000 [00:10<00:09, 48.35it/s]\u001b[A\u001b[A"
     ]
    },
    {
     "name": "stdout",
     "output_type": "stream",
     "text": [
      "463.27187511171724\n",
      "463.3422439426856\n",
      "463.7277329712192\n",
      "463.67832953049265\n",
      "463.5398526813128\n",
      "463.529511227792\n",
      "463.20463984578936\n",
      "463.2914185590979\n",
      "463.6405891922541\n",
      "463.2934820613014\n"
     ]
    },
    {
     "name": "stderr",
     "output_type": "stream",
     "text": [
      "\n",
      "\n",
      " 53%|█████▎    | 528/1000 [00:10<00:09, 47.87it/s]\u001b[A\u001b[A\n",
      "\n",
      " 53%|█████▎    | 533/1000 [00:11<00:09, 48.08it/s]\u001b[A\u001b[A"
     ]
    },
    {
     "name": "stdout",
     "output_type": "stream",
     "text": [
      "463.26989727918505\n",
      "463.54386353062336\n",
      "463.18333446091094\n",
      "463.52241504525955\n",
      "463.3022055052441\n",
      "463.66902934354215\n",
      "463.2356303219766\n",
      "463.42700876093176\n",
      "463.6481455179392\n",
      "463.6556946600871\n"
     ]
    },
    {
     "name": "stderr",
     "output_type": "stream",
     "text": [
      "\n",
      "\n",
      " 54%|█████▍    | 538/1000 [00:11<00:09, 47.25it/s]\u001b[A\u001b[A\n",
      "\n",
      " 54%|█████▍    | 543/1000 [00:11<00:09, 47.43it/s]\u001b[A\u001b[A"
     ]
    },
    {
     "name": "stdout",
     "output_type": "stream",
     "text": [
      "463.59737755990477\n",
      "463.3499957070635\n",
      "462.8404321926064\n",
      "463.23643735406944\n",
      "463.64973186073314\n",
      "463.2477949348922\n",
      "463.280502010953\n",
      "463.6443457045543\n",
      "463.59285784212636\n",
      "463.30757230274634\n"
     ]
    },
    {
     "name": "stderr",
     "output_type": "stream",
     "text": [
      "\n",
      "\n",
      " 55%|█████▍    | 548/1000 [00:11<00:09, 47.61it/s]\u001b[A\u001b[A\n",
      "\n",
      " 55%|█████▌    | 553/1000 [00:11<00:09, 48.13it/s]\u001b[A\u001b[A"
     ]
    },
    {
     "name": "stdout",
     "output_type": "stream",
     "text": [
      "463.2921355353094\n",
      "463.6424273204134\n",
      "463.26667320502816\n",
      "463.3422486897119\n",
      "463.6387734504034\n",
      "463.5605502366907\n",
      "463.5856418202634\n",
      "463.541648401875\n",
      "463.5697833528936\n",
      "463.54773193762964\n"
     ]
    },
    {
     "name": "stderr",
     "output_type": "stream",
     "text": [
      "\n",
      "\n",
      " 56%|█████▌    | 558/1000 [00:11<00:09, 48.14it/s]\u001b[A\u001b[A\n",
      "\n",
      " 56%|█████▋    | 563/1000 [00:11<00:09, 47.92it/s]\u001b[A\u001b[A"
     ]
    },
    {
     "name": "stdout",
     "output_type": "stream",
     "text": [
      "463.6572928530578\n",
      "463.2191927560679\n",
      "463.66451524320047\n",
      "463.6437587040926\n",
      "463.1903610221086\n",
      "463.6334901745241\n",
      "463.32883351674764\n",
      "463.6354107376065\n",
      "463.6605091091759\n",
      "463.7562276480489\n"
     ]
    },
    {
     "name": "stderr",
     "output_type": "stream",
     "text": [
      "\n",
      "\n",
      " 57%|█████▋    | 568/1000 [00:11<00:08, 48.09it/s]\u001b[A\u001b[A\n",
      "\n",
      " 57%|█████▋    | 573/1000 [00:11<00:08, 47.76it/s]\u001b[A\u001b[A"
     ]
    },
    {
     "name": "stdout",
     "output_type": "stream",
     "text": [
      "463.73029565284816\n",
      "463.64180510583145\n",
      "463.64367134990175\n",
      "463.62383680111736\n",
      "463.56703950941807\n",
      "463.69291910216475\n",
      "463.716116636028\n",
      "463.5533550669416\n",
      "463.2615421376734\n",
      "463.62537450164297\n"
     ]
    },
    {
     "name": "stderr",
     "output_type": "stream",
     "text": [
      "\n",
      "\n",
      " 58%|█████▊    | 579/1000 [00:11<00:08, 48.55it/s]\u001b[A\u001b[A\n",
      "\n",
      " 58%|█████▊    | 584/1000 [00:12<00:08, 48.20it/s]"
     ]
    },
    {
     "name": "stdout",
     "output_type": "stream",
     "text": [
      "463.6296629218279\n",
      "463.66755686960244\n",
      "463.6499983765472\n",
      "463.62486920980325\n",
      "463.4552609720759\n",
      "463.70471112079696\n",
      "463.66827581624347\n",
      "463.63613041138234\n",
      "463.69464882924194\n",
      "463.58962961447617\n",
      "463.711303573751\n"
     ]
    },
    {
     "name": "stderr",
     "output_type": "stream",
     "text": [
      "\u001b[A\u001b[A\n",
      "\n",
      " 59%|█████▉    | 589/1000 [00:12<00:08, 48.35it/s]\u001b[A\u001b[A\n",
      "\n",
      " 59%|█████▉    | 594/1000 [00:12<00:08, 48.74it/s]\u001b[A\u001b[A"
     ]
    },
    {
     "name": "stdout",
     "output_type": "stream",
     "text": [
      "463.6689291406669\n",
      "463.75957965535116\n",
      "463.38344612240326\n",
      "463.2620161310987\n",
      "463.57572051693205\n",
      "463.63576790511155\n",
      "463.4623476851408\n",
      "463.3572579150802\n",
      "463.6794574606449\n",
      "463.67187594576194\n"
     ]
    },
    {
     "name": "stderr",
     "output_type": "stream",
     "text": [
      "\n",
      "\n",
      " 60%|█████▉    | 599/1000 [00:12<00:08, 48.20it/s]\u001b[A\u001b[A\n",
      "\n",
      " 60%|██████    | 604/1000 [00:12<00:08, 48.55it/s]\u001b[A\u001b[A"
     ]
    },
    {
     "name": "stdout",
     "output_type": "stream",
     "text": [
      "463.6371992212506\n",
      "463.65573949726684\n",
      "463.6460330373365\n",
      "463.6586783126203\n",
      "463.72528136588875\n",
      "463.76702031065173\n",
      "463.7600942821812\n",
      "463.6911055041177\n",
      "463.657466100181\n",
      "463.7631226080027\n"
     ]
    },
    {
     "name": "stderr",
     "output_type": "stream",
     "text": [
      "\n",
      "\n",
      " 61%|██████    | 609/1000 [00:12<00:08, 48.50it/s]\u001b[A\u001b[A\n",
      "\n",
      " 61%|██████▏   | 614/1000 [00:12<00:07, 48.84it/s]\u001b[A\u001b[A"
     ]
    },
    {
     "name": "stdout",
     "output_type": "stream",
     "text": [
      "463.72889150377284\n",
      "463.6615026356864\n",
      "463.660117572911\n",
      "463.6563697528239\n",
      "463.5632117606213\n",
      "463.64012738727865\n",
      "463.61896853775994\n",
      "463.6985523128689\n",
      "463.6173792021656\n",
      "463.68052516837884\n"
     ]
    },
    {
     "name": "stderr",
     "output_type": "stream",
     "text": [
      "\n",
      "\n",
      " 62%|██████▏   | 619/1000 [00:12<00:07, 48.58it/s]\u001b[A\u001b[A\n",
      "\n",
      " 62%|██████▏   | 624/1000 [00:12<00:07, 48.27it/s]\u001b[A\u001b[A"
     ]
    },
    {
     "name": "stdout",
     "output_type": "stream",
     "text": [
      "463.60163195257434\n",
      "463.7101490328255\n",
      "463.7131760560068\n",
      "463.7492300396674\n",
      "463.68983899720797\n",
      "463.5938035906493\n",
      "463.6327720031661\n",
      "463.7394643806023\n",
      "463.71073708009624\n",
      "463.6118823064055\n"
     ]
    },
    {
     "name": "stderr",
     "output_type": "stream",
     "text": [
      "\n",
      "\n",
      " 63%|██████▎   | 629/1000 [00:13<00:07, 47.93it/s]\u001b[A\u001b[A\n",
      "\n",
      " 63%|██████▎   | 634/1000 [00:13<00:07, 48.27it/s]\u001b[A\u001b[A"
     ]
    },
    {
     "name": "stdout",
     "output_type": "stream",
     "text": [
      "463.39757298603234\n",
      "463.66303794665833\n",
      "463.59378619509437\n",
      "463.65990913378766\n",
      "463.6505296887877\n",
      "463.2806549876026\n",
      "463.7391298069621\n",
      "463.6339684535813\n",
      "463.65221429985866\n",
      "463.5812167824122\n"
     ]
    },
    {
     "name": "stderr",
     "output_type": "stream",
     "text": [
      "\n",
      "\n",
      " 64%|██████▍   | 639/1000 [00:13<00:07, 48.37it/s]\u001b[A\u001b[A\n",
      "\n",
      " 64%|██████▍   | 644/1000 [00:13<00:07, 48.25it/s]\u001b[A\u001b[A"
     ]
    },
    {
     "name": "stdout",
     "output_type": "stream",
     "text": [
      "463.6443363289317\n",
      "463.2710854330029\n",
      "463.5947928847364\n",
      "463.5696377332572\n",
      "463.6006439585019\n",
      "463.2310443763015\n",
      "463.58823951763026\n",
      "463.52136029178826\n",
      "463.56626046507586\n",
      "463.2556726486991\n"
     ]
    },
    {
     "name": "stderr",
     "output_type": "stream",
     "text": [
      "\n",
      "\n",
      " 65%|██████▍   | 649/1000 [00:13<00:07, 47.76it/s]\u001b[A\u001b[A\n",
      "\n",
      " 65%|██████▌   | 654/1000 [00:13<00:07, 47.64it/s]\u001b[A\u001b[A"
     ]
    },
    {
     "name": "stdout",
     "output_type": "stream",
     "text": [
      "463.3455105976708\n",
      "463.39114465488404\n",
      "463.53856180249716\n",
      "463.24658150376695\n",
      "463.5661924346508\n",
      "463.63147806240323\n",
      "462.87344897466284\n",
      "463.50720742736877\n",
      "463.5164388605551\n",
      "463.66140512749126\n"
     ]
    },
    {
     "name": "stderr",
     "output_type": "stream",
     "text": [
      "\n",
      "\n",
      " 66%|██████▌   | 659/1000 [00:13<00:07, 47.63it/s]\u001b[A\u001b[A\n",
      "\n",
      " 66%|██████▋   | 664/1000 [00:13<00:06, 48.12it/s]\u001b[A\u001b[A"
     ]
    },
    {
     "name": "stdout",
     "output_type": "stream",
     "text": [
      "463.65212434872734\n",
      "463.6593949021581\n",
      "463.69423108636045\n",
      "463.6569112326796\n",
      "463.4288621242347\n",
      "463.6009096142618\n",
      "463.66973806730044\n",
      "463.702313047302\n",
      "463.8238460137602\n",
      "463.6879969651998\n",
      "463.66612893188784\n"
     ]
    },
    {
     "name": "stderr",
     "output_type": "stream",
     "text": [
      "\n",
      "\n",
      " 67%|██████▋   | 670/1000 [00:13<00:06, 48.80it/s]\u001b[A\u001b[A\n",
      "\n",
      " 68%|██████▊   | 675/1000 [00:13<00:06, 48.70it/s]\u001b[A\u001b[A"
     ]
    },
    {
     "name": "stdout",
     "output_type": "stream",
     "text": [
      "463.5840037250204\n",
      "463.6341109216256\n",
      "463.3731647921222\n",
      "463.64232808000946\n",
      "463.6234556960725\n",
      "463.74444100853043\n",
      "463.6494543852573\n",
      "463.73040238796\n",
      "463.68783802238727\n",
      "463.6435413359295\n"
     ]
    },
    {
     "name": "stderr",
     "output_type": "stream",
     "text": [
      "\n",
      "\n",
      " 68%|██████▊   | 681/1000 [00:14<00:06, 49.31it/s]\u001b[A\u001b[A"
     ]
    },
    {
     "name": "stdout",
     "output_type": "stream",
     "text": [
      "463.3586268016659\n",
      "463.6822204274315\n",
      "463.54709870536607\n",
      "463.2671217976508\n",
      "463.6388200172796\n",
      "463.62915368433073\n",
      "463.7151300502719\n",
      "463.3513924708531\n",
      "463.57524866045895\n",
      "463.55821082455816\n"
     ]
    },
    {
     "name": "stderr",
     "output_type": "stream",
     "text": [
      "\n",
      "\n",
      " 69%|██████▊   | 686/1000 [00:14<00:06, 48.63it/s]\u001b[A\u001b[A\n",
      "\n",
      " 69%|██████▉   | 691/1000 [00:14<00:06, 48.14it/s]\u001b[A\u001b[A"
     ]
    },
    {
     "name": "stdout",
     "output_type": "stream",
     "text": [
      "463.68395885273026\n",
      "463.57224293698573\n",
      "463.5016634065337\n",
      "463.65289982960746\n",
      "463.6857809164163\n",
      "463.55604514691163\n",
      "463.2410053044034\n",
      "463.3168488929563\n",
      "463.31331669552105\n",
      "462.8589884280647\n"
     ]
    },
    {
     "name": "stderr",
     "output_type": "stream",
     "text": [
      "\n",
      "\n",
      " 70%|██████▉   | 696/1000 [00:14<00:06, 46.88it/s]\u001b[A\u001b[A\n",
      "\n",
      " 70%|███████   | 701/1000 [00:14<00:06, 47.02it/s]\u001b[A\u001b[A"
     ]
    },
    {
     "name": "stdout",
     "output_type": "stream",
     "text": [
      "463.53780618598057\n",
      "463.63140381322546\n",
      "463.2519769160441\n",
      "463.28804030125303\n",
      "463.6181484160204\n",
      "463.31553250360395\n",
      "463.205768560377\n",
      "463.31803091923183\n",
      "463.6239300431724\n",
      "463.31555470768757\n"
     ]
    },
    {
     "name": "stderr",
     "output_type": "stream",
     "text": [
      "\n",
      "\n",
      " 71%|███████   | 706/1000 [00:14<00:06, 46.89it/s]\u001b[A\u001b[A\n",
      "\n",
      " 71%|███████   | 711/1000 [00:14<00:06, 47.21it/s]\u001b[A\u001b[A"
     ]
    },
    {
     "name": "stdout",
     "output_type": "stream",
     "text": [
      "463.37195597608013\n",
      "463.60345212122604\n",
      "463.687610430291\n",
      "463.557816847356\n",
      "463.3717312191292\n",
      "463.2564352057152\n",
      "463.38560516347155\n",
      "463.29619344743816\n",
      "463.62307203885285\n",
      "463.602948367483\n"
     ]
    },
    {
     "name": "stderr",
     "output_type": "stream",
     "text": [
      "\n",
      "\n",
      " 72%|███████▏  | 716/1000 [00:14<00:05, 47.52it/s]\u001b[A\u001b[A\n",
      "\n",
      " 72%|███████▏  | 721/1000 [00:14<00:05, 47.78it/s]\u001b[A\u001b[A"
     ]
    },
    {
     "name": "stdout",
     "output_type": "stream",
     "text": [
      "463.6007601606909\n",
      "463.67929321913067\n",
      "463.35991227562687\n",
      "463.5765533342639\n",
      "463.61585660737074\n",
      "463.59791841064384\n",
      "463.2093264017032\n",
      "463.54622051474666\n",
      "463.18394027192755\n",
      "463.24215472069784\n"
     ]
    },
    {
     "name": "stderr",
     "output_type": "stream",
     "text": [
      "\n",
      "\n",
      " 73%|███████▎  | 726/1000 [00:15<00:05, 47.30it/s]\u001b[A\u001b[A\n",
      "\n",
      " 73%|███████▎  | 731/1000 [00:15<00:05, 47.18it/s]\u001b[A\u001b[A"
     ]
    },
    {
     "name": "stdout",
     "output_type": "stream",
     "text": [
      "463.2540533348172\n",
      "463.280291207181\n",
      "463.2610664151106\n",
      "463.57416082228855\n",
      "463.20895652176654\n",
      "462.78157105101934\n",
      "463.20552122874705\n",
      "463.2658712503911\n",
      "463.2689082514544\n",
      "463.7228192010416\n"
     ]
    },
    {
     "name": "stderr",
     "output_type": "stream",
     "text": [
      "\n",
      "\n",
      " 74%|███████▎  | 736/1000 [00:15<00:05, 47.51it/s]\u001b[A\u001b[A\n",
      "\n",
      " 74%|███████▍  | 741/1000 [00:15<00:05, 47.69it/s]\u001b[A\u001b[A"
     ]
    },
    {
     "name": "stdout",
     "output_type": "stream",
     "text": [
      "463.6664954321938\n",
      "463.6018758391672\n",
      "463.3270419823116\n",
      "463.51179062082736\n",
      "463.1480875274726\n",
      "463.24303739728623\n",
      "463.6043763018691\n",
      "463.3126502269603\n",
      "463.5550250554111\n",
      "463.2915193314779\n"
     ]
    },
    {
     "name": "stderr",
     "output_type": "stream",
     "text": [
      "\n",
      "\n",
      " 75%|███████▍  | 746/1000 [00:15<00:05, 47.54it/s]\u001b[A\u001b[A\n",
      "\n",
      " 75%|███████▌  | 751/1000 [00:15<00:05, 48.13it/s]\u001b[A\u001b[A"
     ]
    },
    {
     "name": "stdout",
     "output_type": "stream",
     "text": [
      "463.21616261350437\n",
      "463.5944104342243\n",
      "463.61855073203895\n",
      "463.6154146313471\n",
      "463.6583863446676\n",
      "463.57180287256574\n",
      "462.9431644635026\n",
      "463.49679047321297\n",
      "463.55804449578\n",
      "463.25732738809756\n"
     ]
    },
    {
     "name": "stderr",
     "output_type": "stream",
     "text": [
      "\n",
      "\n",
      " 76%|███████▌  | 756/1000 [00:15<00:05, 47.45it/s]\u001b[A\u001b[A\n",
      "\n",
      " 76%|███████▌  | 761/1000 [00:15<00:04, 47.91it/s]\u001b[A\u001b[A"
     ]
    },
    {
     "name": "stdout",
     "output_type": "stream",
     "text": [
      "463.62172749056083\n",
      "463.61841812401167\n",
      "463.74691051124233\n",
      "463.22012062944145\n",
      "463.5262221245468\n",
      "463.49797071914026\n",
      "463.56490235404425\n",
      "463.51490059639667\n",
      "463.20704780718125\n",
      "463.5862352377704\n"
     ]
    },
    {
     "name": "stderr",
     "output_type": "stream",
     "text": [
      "\n",
      "\n",
      " 77%|███████▋  | 766/1000 [00:15<00:04, 48.09it/s]\u001b[A\u001b[A\n",
      "\n",
      " 77%|███████▋  | 771/1000 [00:15<00:04, 47.88it/s]\u001b[A\u001b[A"
     ]
    },
    {
     "name": "stdout",
     "output_type": "stream",
     "text": [
      "463.40114825045987\n",
      "463.3424395646297\n",
      "463.5375059175478\n",
      "463.3168602398358\n",
      "463.5923058679639\n",
      "463.351830926751\n",
      "463.5127411984319\n",
      "463.6231093565837\n",
      "463.6696344173123\n",
      "463.37666300980027\n"
     ]
    },
    {
     "name": "stderr",
     "output_type": "stream",
     "text": [
      "\n",
      "\n",
      " 78%|███████▊  | 777/1000 [00:16<00:04, 48.74it/s]\u001b[A\u001b[A\n",
      "\n",
      " 78%|███████▊  | 783/1000 [00:16<00:04, 49.29it/s]\u001b[A\u001b[A"
     ]
    },
    {
     "name": "stdout",
     "output_type": "stream",
     "text": [
      "463.6442378340172\n",
      "463.5274712421792\n",
      "463.6312612124965\n",
      "463.6748559081137\n",
      "463.59176615269257\n",
      "463.6745744397802\n",
      "463.61229066874154\n",
      "463.5535611575088\n",
      "463.68418117854714\n",
      "463.3650671569815\n",
      "463.6470908397355\n"
     ]
    },
    {
     "name": "stderr",
     "output_type": "stream",
     "text": [
      "\n",
      "\n",
      " 79%|███████▉  | 788/1000 [00:16<00:04, 49.49it/s]\u001b[A\u001b[A\n",
      "\n",
      " 79%|███████▉  | 793/1000 [00:16<00:04, 49.43it/s]\u001b[A\u001b[A"
     ]
    },
    {
     "name": "stdout",
     "output_type": "stream",
     "text": [
      "463.6387477015459\n",
      "463.6876441386401\n",
      "463.68037298609715\n",
      "463.63257557248005\n",
      "463.3189965588257\n",
      "463.659513272939\n",
      "463.69293782192455\n",
      "463.61164062642126\n",
      "463.71057935231823\n",
      "463.73913816321414\n"
     ]
    },
    {
     "name": "stderr",
     "output_type": "stream",
     "text": [
      "\n",
      "\n",
      " 80%|███████▉  | 798/1000 [00:16<00:04, 48.66it/s]\u001b[A\u001b[A\n",
      "\n",
      " 80%|████████  | 803/1000 [00:16<00:04, 48.07it/s]\u001b[A\u001b[A"
     ]
    },
    {
     "name": "stdout",
     "output_type": "stream",
     "text": [
      "463.59573868047556\n",
      "463.4783307824507\n",
      "463.32755740807124\n",
      "462.8929621869394\n",
      "463.5108919548306\n",
      "463.54207009933015\n",
      "463.6875695606283\n",
      "463.6364385361091\n",
      "463.5769659411307\n",
      "463.498039594306\n"
     ]
    },
    {
     "name": "stderr",
     "output_type": "stream",
     "text": [
      "\n",
      "\n",
      " 81%|████████  | 808/1000 [00:16<00:03, 48.19it/s]\u001b[A\u001b[A\n",
      "\n",
      " 81%|████████▏ | 813/1000 [00:16<00:03, 48.19it/s]\u001b[A\u001b[A"
     ]
    },
    {
     "name": "stdout",
     "output_type": "stream",
     "text": [
      "463.6384702871341\n",
      "463.5502902617476\n",
      "463.5475168031144\n",
      "463.2236285956154\n",
      "463.5715992335786\n",
      "463.2318223600433\n",
      "463.58588869752447\n",
      "463.051589097889\n",
      "463.5810285393569\n",
      "463.5493050641722\n"
     ]
    },
    {
     "name": "stderr",
     "output_type": "stream",
     "text": [
      "\n",
      "\n",
      " 82%|████████▏ | 818/1000 [00:16<00:03, 47.84it/s]\u001b[A\u001b[A\n",
      "\n",
      " 82%|████████▏ | 823/1000 [00:17<00:03, 48.03it/s]\u001b[A\u001b[A"
     ]
    },
    {
     "name": "stdout",
     "output_type": "stream",
     "text": [
      "463.1474403336946\n",
      "463.25538602067405\n",
      "463.17893229495917\n",
      "463.2479494013869\n",
      "463.525885526608\n",
      "463.2387145699125\n",
      "463.57507879944615\n",
      "463.29366645233944\n",
      "462.865692949432\n",
      "463.2313751703746\n"
     ]
    },
    {
     "name": "stderr",
     "output_type": "stream",
     "text": [
      "\n",
      "\n",
      " 83%|████████▎ | 828/1000 [00:17<00:03, 47.08it/s]\u001b[A\u001b[A\n",
      "\n",
      " 83%|████████▎ | 833/1000 [00:17<00:03, 46.50it/s]\u001b[A\u001b[A"
     ]
    },
    {
     "name": "stdout",
     "output_type": "stream",
     "text": [
      "463.64630474433415\n",
      "463.2194928562892\n",
      "463.1395831996281\n",
      "463.51528672097135\n",
      "462.86649877071596\n",
      "462.905377405411\n",
      "462.86355471208014\n",
      "463.1798943249429\n",
      "463.170255372364\n",
      "463.17776681642226\n"
     ]
    },
    {
     "name": "stderr",
     "output_type": "stream",
     "text": [
      "\n",
      "\n",
      " 84%|████████▍ | 838/1000 [00:17<00:03, 45.76it/s]\u001b[A\u001b[A\n",
      "\n",
      " 84%|████████▍ | 843/1000 [00:17<00:03, 46.46it/s]\u001b[A\u001b[A"
     ]
    },
    {
     "name": "stdout",
     "output_type": "stream",
     "text": [
      "462.89098796458643\n",
      "462.88390409310426\n",
      "463.26890768602925\n",
      "463.25310644587347\n",
      "463.59381003188616\n",
      "463.23386525973467\n",
      "463.60533333803176\n",
      "463.25208909546654\n",
      "463.1974348615641\n",
      "463.5190161919385\n"
     ]
    },
    {
     "name": "stderr",
     "output_type": "stream",
     "text": [
      "\n",
      "\n",
      " 85%|████████▍ | 848/1000 [00:17<00:03, 46.47it/s]\u001b[A\u001b[A\n",
      "\n",
      " 85%|████████▌ | 853/1000 [00:17<00:03, 46.94it/s]\u001b[A\u001b[A"
     ]
    },
    {
     "name": "stdout",
     "output_type": "stream",
     "text": [
      "463.6160838169917\n",
      "463.6435013649232\n",
      "463.6326616236522\n",
      "463.6156662408188\n",
      "463.6487585784707\n",
      "463.5948976171117\n",
      "463.55519185932445\n",
      "463.6586727351292\n",
      "463.6794919440635\n",
      "463.6415494377252\n"
     ]
    },
    {
     "name": "stderr",
     "output_type": "stream",
     "text": [
      "\n",
      "\n",
      " 86%|████████▌ | 858/1000 [00:17<00:03, 46.83it/s]\u001b[A\u001b[A\n",
      "\n",
      " 86%|████████▋ | 863/1000 [00:17<00:02, 47.59it/s]\u001b[A\u001b[A"
     ]
    },
    {
     "name": "stdout",
     "output_type": "stream",
     "text": [
      "463.63005665242844\n",
      "463.678442592873\n",
      "463.6985353888866\n",
      "463.72764459317\n",
      "463.7104802183002\n",
      "463.61273477577254\n",
      "463.6914805805442\n",
      "463.5992859295448\n",
      "463.3084920445142\n",
      "463.644902612361\n"
     ]
    },
    {
     "name": "stderr",
     "output_type": "stream",
     "text": [
      "\n",
      "\n",
      " 87%|████████▋ | 868/1000 [00:18<00:02, 47.91it/s]\u001b[A\u001b[A\n",
      "\n",
      " 87%|████████▋ | 873/1000 [00:18<00:02, 48.13it/s]\u001b[A\u001b[A"
     ]
    },
    {
     "name": "stdout",
     "output_type": "stream",
     "text": [
      "463.6859199350777\n",
      "463.7789637267531\n",
      "463.64464143476863\n",
      "463.6631823408841\n",
      "463.65830441496314\n",
      "463.70472467390806\n",
      "463.6825994569609\n",
      "463.6911956632907\n",
      "463.61637172127064\n",
      "463.53369962070803\n"
     ]
    },
    {
     "name": "stderr",
     "output_type": "stream",
     "text": [
      "\n",
      "\n",
      " 88%|████████▊ | 878/1000 [00:18<00:02, 48.17it/s]\u001b[A\u001b[A\n",
      "\n",
      " 88%|████████▊ | 884/1000 [00:18<00:02, 48.69it/s]\u001b[A\u001b[A"
     ]
    },
    {
     "name": "stdout",
     "output_type": "stream",
     "text": [
      "463.673705069157\n",
      "463.61438567802753\n",
      "463.69685357553476\n",
      "463.75580054074413\n",
      "463.58632372293084\n",
      "463.6799848921753\n",
      "463.65958681530384\n",
      "463.72001525028935\n",
      "463.6503326452903\n",
      "463.8356456921645\n"
     ]
    },
    {
     "name": "stderr",
     "output_type": "stream",
     "text": [
      "\n",
      "\n",
      " 89%|████████▉ | 889/1000 [00:18<00:02, 48.82it/s]\u001b[A\u001b[A\n",
      "\n",
      " 89%|████████▉ | 894/1000 [00:18<00:02, 48.84it/s]\u001b[A\u001b[A"
     ]
    },
    {
     "name": "stdout",
     "output_type": "stream",
     "text": [
      "463.67069820894534\n",
      "463.67325284033814\n",
      "463.6248811918577\n",
      "463.61866655625994\n",
      "463.6368510977309\n",
      "463.6662590756638\n",
      "463.63649904492183\n",
      "463.61098919959693\n",
      "463.7102326643997\n",
      "463.7170266756174\n"
     ]
    },
    {
     "name": "stderr",
     "output_type": "stream",
     "text": [
      "\n",
      "\n",
      " 90%|████████▉ | 899/1000 [00:18<00:02, 48.52it/s]\u001b[A\u001b[A\n",
      "\n",
      " 90%|█████████ | 904/1000 [00:18<00:01, 48.30it/s]\u001b[A\u001b[A"
     ]
    },
    {
     "name": "stdout",
     "output_type": "stream",
     "text": [
      "463.719015117943\n",
      "463.7776454216948\n",
      "463.6511837092629\n",
      "463.6426849793991\n",
      "463.58132753303653\n",
      "463.6271566518173\n",
      "463.47443029871465\n",
      "463.6631961466177\n",
      "463.25077689525045\n",
      "463.29915234954296\n"
     ]
    },
    {
     "name": "stderr",
     "output_type": "stream",
     "text": [
      "\n",
      "\n",
      " 91%|█████████ | 909/1000 [00:18<00:01, 48.00it/s]\u001b[A\u001b[A\n",
      "\n",
      " 91%|█████████▏| 914/1000 [00:18<00:01, 48.25it/s]\u001b[A\u001b[A"
     ]
    },
    {
     "name": "stdout",
     "output_type": "stream",
     "text": [
      "463.65838066854633\n",
      "463.32509700647347\n",
      "463.69091499345296\n",
      "463.6436791055639\n",
      "463.6469800416197\n",
      "463.6467249924871\n",
      "463.60473917771344\n",
      "463.4005019595058\n",
      "463.6684603356161\n",
      "463.5554486671393\n"
     ]
    },
    {
     "name": "stderr",
     "output_type": "stream",
     "text": [
      "\n",
      "\n",
      " 92%|█████████▏| 919/1000 [00:19<00:01, 48.15it/s]\u001b[A\u001b[A\n",
      "\n",
      " 92%|█████████▎| 925/1000 [00:19<00:01, 48.92it/s]\u001b[A\u001b[A"
     ]
    },
    {
     "name": "stdout",
     "output_type": "stream",
     "text": [
      "463.45914555176864\n",
      "463.6266190904119\n",
      "463.59865463144826\n",
      "463.63365531073043\n",
      "463.68687792126167\n",
      "463.621441900421\n",
      "463.6703715400775\n",
      "463.27954424264874\n",
      "463.2693721622566\n",
      "463.30960642940545\n"
     ]
    },
    {
     "name": "stderr",
     "output_type": "stream",
     "text": [
      "\n",
      "\n",
      " 93%|█████████▎| 930/1000 [00:19<00:01, 47.99it/s]\u001b[A\u001b[A\n",
      "\n",
      " 94%|█████████▎| 935/1000 [00:19<00:01, 48.06it/s]\u001b[A\u001b[A"
     ]
    },
    {
     "name": "stdout",
     "output_type": "stream",
     "text": [
      "463.5782158698723\n",
      "463.6062140090281\n",
      "463.204759657226\n",
      "463.28670350889786\n",
      "463.1945359390992\n",
      "463.6070294183234\n",
      "463.5835104218122\n",
      "463.5345833762457\n",
      "463.2873006585651\n",
      "463.6716920791805\n"
     ]
    },
    {
     "name": "stderr",
     "output_type": "stream",
     "text": [
      "\n",
      "\n",
      " 94%|█████████▍| 940/1000 [00:19<00:01, 47.96it/s]\u001b[A\u001b[A\n",
      "\n",
      " 94%|█████████▍| 945/1000 [00:19<00:01, 48.05it/s]\u001b[A\u001b[A"
     ]
    },
    {
     "name": "stdout",
     "output_type": "stream",
     "text": [
      "463.64194842454526\n",
      "463.6541664534194\n",
      "463.60890997473257\n",
      "463.5839862376846\n",
      "463.63612881009783\n",
      "463.61486800400377\n",
      "463.3539390644348\n",
      "463.58238745479093\n",
      "463.58016329327063\n",
      "463.1897282457377\n"
     ]
    },
    {
     "name": "stderr",
     "output_type": "stream",
     "text": [
      "\n",
      "\n",
      " 95%|█████████▌| 950/1000 [00:19<00:01, 46.84it/s]\u001b[A\u001b[A\n",
      "\n",
      " 96%|█████████▌| 955/1000 [00:19<00:00, 47.40it/s]\u001b[A\u001b[A"
     ]
    },
    {
     "name": "stdout",
     "output_type": "stream",
     "text": [
      "463.31782675195\n",
      "462.7813874470511\n",
      "462.89651464834037\n",
      "463.57599162985184\n",
      "463.5743126016031\n",
      "463.5959453433885\n",
      "463.60419646339926\n",
      "463.7085196694453\n",
      "463.61990282810086\n",
      "463.70077996211256\n"
     ]
    },
    {
     "name": "stderr",
     "output_type": "stream",
     "text": [
      "\n",
      "\n",
      " 96%|█████████▌| 960/1000 [00:19<00:00, 47.68it/s]\u001b[A\u001b[A\n",
      "\n",
      " 96%|█████████▋| 965/1000 [00:20<00:00, 48.17it/s]\u001b[A\u001b[A"
     ]
    },
    {
     "name": "stdout",
     "output_type": "stream",
     "text": [
      "463.64125222573136\n",
      "463.7941924600896\n",
      "463.5823134689912\n",
      "463.62831190377733\n",
      "463.74191855826047\n",
      "463.56617239316347\n",
      "463.70138397903094\n",
      "463.6165256793298\n",
      "463.63078734546264\n",
      "463.74227661252905\n"
     ]
    },
    {
     "name": "stderr",
     "output_type": "stream",
     "text": [
      "\n",
      "\n",
      " 97%|█████████▋| 970/1000 [00:20<00:00, 48.23it/s]\u001b[A\u001b[A\n",
      "\n",
      " 98%|█████████▊| 975/1000 [00:20<00:00, 48.68it/s]\u001b[A\u001b[A"
     ]
    },
    {
     "name": "stdout",
     "output_type": "stream",
     "text": [
      "463.75216994512084\n",
      "463.6569838194099\n",
      "463.66901150461797\n",
      "463.71873730146336\n",
      "463.69313398758015\n",
      "463.7606723695197\n",
      "463.64119946444964\n",
      "463.6979065412407\n",
      "463.60527353673626\n",
      "463.6889117296937\n",
      "463.7109255656176\n"
     ]
    },
    {
     "name": "stderr",
     "output_type": "stream",
     "text": [
      "\n",
      "\n",
      " 98%|█████████▊| 981/1000 [00:20<00:00, 49.13it/s]\u001b[A\u001b[A\n",
      "\n",
      " 99%|█████████▊| 986/1000 [00:20<00:00, 48.90it/s]\u001b[A\u001b[A"
     ]
    },
    {
     "name": "stdout",
     "output_type": "stream",
     "text": [
      "463.5727564334563\n",
      "463.656717811682\n",
      "463.32908172503596\n",
      "463.6228172052495\n",
      "463.6062386594137\n",
      "463.7064004211503\n",
      "463.38637713930814\n",
      "463.6374172693532\n",
      "463.61981975161996\n",
      "463.2580070950917\n"
     ]
    },
    {
     "name": "stderr",
     "output_type": "stream",
     "text": [
      "\n",
      "\n",
      " 99%|█████████▉| 991/1000 [00:20<00:00, 48.21it/s]\u001b[A\u001b[A\n",
      "\n",
      "100%|█████████▉| 996/1000 [00:20<00:00, 48.22it/s]\u001b[A\u001b[A"
     ]
    },
    {
     "name": "stdout",
     "output_type": "stream",
     "text": [
      "463.35013984749\n",
      "463.61150958540026\n",
      "463.5737589174123\n",
      "463.2644770188187\n",
      "463.58902393525074\n",
      "463.59613460779207\n",
      "463.22253840988014\n",
      "463.6707529878698\n",
      "463.82242878471095\n",
      "463.56552725255995\n"
     ]
    },
    {
     "name": "stderr",
     "output_type": "stream",
     "text": [
      "\n",
      "\n",
      "100%|██████████| 1000/1000 [00:20<00:00, 48.22it/s]\u001b[A\u001b[A"
     ]
    },
    {
     "name": "stdout",
     "output_type": "stream",
     "text": [
      "463.69133258363485\n",
      "463.6174034119924\n",
      "463.64411280178837\n"
     ]
    }
   ],
   "source": [
    "height = [] # get the height using the shadow method\n",
    "for i in tqdm(range(len(data))):\n",
    "    mean, m = from_shadow_image_to_height(data[i],150,area_low_limits=[650,730],area_widths=[45,70],plot=False)\n",
    "    height.append(pixel_to_height(mean,calibration=True,pix_size_from_calib=pixel_size_cal))\n",
    "    print(mean)\n",
    "    plt.show()"
   ]
  },
  {
   "cell_type": "code",
   "execution_count": 145,
   "metadata": {},
   "outputs": [],
   "source": [
    "df = pd.DataFrame() # create the dataframe"
   ]
  },
  {
   "cell_type": "code",
   "execution_count": 146,
   "metadata": {},
   "outputs": [],
   "source": [
    "factor_std = 1.5 # pick the sigma away from the mean used for the correction of outlier\n",
    "df[\"height_raw\"] = height # just the fit result\n",
    "df[\"mean_height\"] = [x if np.abs(x-np.mean(height))<(factor_std*np.std(height)) else np.mean(height) for x in height] # bring outlier to the mean"
   ]
  },
  {
   "cell_type": "code",
   "execution_count": 147,
   "metadata": {},
   "outputs": [
    {
     "data": {
      "image/png": "[encoded data removed]",
      "text/plain": [
       "<Figure size 1152x864 with 1 Axes>"
      ]
     },
     "metadata": {
      "needs_background": "light"
     },
     "output_type": "display_data"
    },
    {
     "name": "stdout",
     "output_type": "stream",
     "text": [
      "281.74653449700946 1.3122894254826796\n",
      "281.8559363029698 0.23975271530554176\n",
      "981\n"
     ]
    }
   ],
   "source": [
    "plt.plot(np.arange(0,len(height)*10,10),height,linestyle=\"\",marker=\"o\")\n",
    "plt.xlabel(\"Time [s]\")\n",
    "plt.ylabel(\"Height [um]\")\n",
    "plt.show()\n",
    "print(np.mean(height),np.std(height))\n",
    "print(np.mean([x for x in height if np.abs(x-np.mean(height))<(factor_std*np.std(height))]),np.std([x for x in height if np.abs(x-np.mean(height))<factor_std*np.std(height)]))\n",
    "print(len([x for x in height if np.abs(x-np.mean(height))<(factor_std*np.std(height))]))"
   ]
  },
  {
   "cell_type": "code",
   "execution_count": 148,
   "metadata": {},
   "outputs": [],
   "source": [
    "df['ewm_20'] = df.mean_height.ewm(span=20, adjust=True).mean() # do the exponential weighted mean over 20 files\n",
    "df['ewm_100'] = df.mean_height.ewm(span=100, adjust=True).mean() # do the exponential weighted mean over 100 files\n",
    "df['ewm_500'] = df.mean_height.ewm(span=500, adjust=True).mean() # do the exponential weighted mean over 500 files\n"
   ]
  },
  {
   "cell_type": "code",
   "execution_count": 149,
   "metadata": {},
   "outputs": [
    {
     "data": {
      "image/png": "[encoded data removed]",
      "text/plain": [
       "<Figure size 1152x864 with 1 Axes>"
      ]
     },
     "metadata": {
      "needs_background": "light"
     },
     "output_type": "display_data"
    }
   ],
   "source": [
    "df.mean_height.plot(marker=\"*\",linestyle=\"\")#), label = \"height-filtered data\")\n",
    "df.ewm_20.plot()#, label = \"20 datasets EWM\")\n",
    "df.ewm_100.plot()#, label = \"100 datasets EWM\")\n",
    "plt.xlabel(\"Time [s]\")\n",
    "plt.ylabel(\"Average Height [um]\")\n",
    "plt.legend()\n",
    "plt.show()"
   ]
  },
  {
   "cell_type": "code",
   "execution_count": 10,
   "metadata": {},
   "outputs": [
    {
     "name": "stderr",
     "output_type": "stream",
     "text": [
      "100%|██████████| 100/100 [04:23<00:00,  2.63s/it]\n"
     ]
    }
   ],
   "source": [
    "# load the attractor mean position for the data file\n",
    "data_filename = \"/data/new_trap/\" + str(bead_date) + \"/Bead%s/\" %bead_number +dataset\n",
    "attr_pos = load_dir_reduced_to_attr_pos(dirname=data_filename,file_prefix=FOI,max_files=10000)\n"
   ]
  },
  {
   "cell_type": "code",
   "execution_count": 11,
   "metadata": {},
   "outputs": [
    {
     "name": "stderr",
     "output_type": "stream",
     "text": [
      "100%|██████████| 100/100 [00:22<00:00,  4.49it/s]\n"
     ]
    }
   ],
   "source": [
    "# load the time frame from all the data sets in 100er chunks to not flood the memory (could be parallelized)\n",
    "t = load_dir_reduced_to_time(dirname=data_filename,file_prefix=FOI,max_files=10000)\n",
    "\n"
   ]
  },
  {
   "cell_type": "code",
   "execution_count": 12,
   "metadata": {},
   "outputs": [],
   "source": [
    "df[\"Time_Epoch\"] = t # store the time\n",
    "df[\"Attr_Pos_V\"] = attr_pos # save raw position\n",
    "\n",
    "del t # free some memory, otherwise bunnies die\n",
    "del attr_pos # free more memory\n"
   ]
  },
  {
   "cell_type": "code",
   "execution_count": 13,
   "metadata": {},
   "outputs": [
    {
     "name": "stdout",
     "output_type": "stream",
     "text": [
      "------------------------------------------------------------------\n",
      "| FCN = 2.381E-13               |      Ncalls=35 (35 total)      |\n",
      "| EDM = 2.38E-13 (Goal: 1E-05)  |            up = 1.0            |\n",
      "------------------------------------------------------------------\n",
      "|  Valid Min.   | Valid Param.  | Above EDM | Reached call limit |\n",
      "------------------------------------------------------------------\n",
      "|     True      |     True      |   False   |       False        |\n",
      "------------------------------------------------------------------\n",
      "| Hesse failed  |   Has cov.    | Accurate  | Pos. def. | Forced |\n",
      "------------------------------------------------------------------\n",
      "|     False     |     True      |   True    |   True    | False  |\n",
      "------------------------------------------------------------------\n",
      "0.09904999993134567 -0.00499999621661118\n"
     ]
    },
    {
     "name": "stderr",
     "output_type": "stream",
     "text": [
      "/home/analysis_user/New_trap_code/Tools/AnaUtil.py:100: InitialParamWarning: Parameter a is floating but does not have initial step size. Assume 1.\n",
      "  print_level=1)\n",
      "/home/analysis_user/New_trap_code/Tools/AnaUtil.py:100: InitialParamWarning: Parameter b is floating but does not have initial step size. Assume 1.\n",
      "  print_level=1)\n"
     ]
    },
    {
     "data": {
      "image/png": "[encoded data removed]",
      "text/plain": [
       "<Figure size 1152x864 with 1 Axes>"
      ]
     },
     "metadata": {
      "needs_background": "light"
     },
     "output_type": "display_data"
    }
   ],
   "source": [
    "# save three values\n",
    "## height_cal is the position of the bead in Aerotech coordinates\n",
    "## z_distance transforms the cant_pos[2] voltage directly into um (using the vanilla calibration)\n",
    "## z_distance_emp uses Akio's empirical data\n",
    "df[\"height_cal\"] = df['ewm_100'].apply(lambda element: element-attractor_0)\n",
    "df[\"z_distance\"] = df['height_cal'] - voltage_to_z_position(df['Attr_Pos_V'])\n",
    "df[\"z_distance_emp\"] = df['height_cal'] - voltage_to_z_position(df['Attr_Pos_V'],redo=True)\n"
   ]
  },
  {
   "cell_type": "code",
   "execution_count": 14,
   "metadata": {},
   "outputs": [
    {
     "data": {
      "text/plain": [
       "<matplotlib.legend.Legend at 0x7f09dc115d68>"
      ]
     },
     "execution_count": 14,
     "metadata": {},
     "output_type": "execute_result"
    },
    {
     "data": {
      "image/png": "[encoded data removed]",
      "text/plain": [
       "<Figure size 1152x864 with 1 Axes>"
      ]
     },
     "metadata": {
      "needs_background": "light"
     },
     "output_type": "display_data"
    }
   ],
   "source": [
    "df.z_distance.plot()\n",
    "df.z_distance_emp.plot()\n",
    "plt.legend()"
   ]
  },
  {
   "cell_type": "code",
   "execution_count": 15,
   "metadata": {},
   "outputs": [
    {
     "name": "stdout",
     "output_type": "stream",
     "text": [
      "{26, 27}\n"
     ]
    }
   ],
   "source": [
    "# assume for same year and same month, it can have multiple days. get those\n",
    "dt.datetime.fromtimestamp(df[\"Time_Epoch\"][0])\n",
    "year = dt.datetime.fromtimestamp(df[\"Time_Epoch\"][0]).year\n",
    "month = dt.datetime.fromtimestamp(df[\"Time_Epoch\"][0]).month\n",
    "#months = []\n",
    "#months = set(months)\n",
    "days = []\n",
    "days = set(days)\n",
    "for i in range(len(df)):\n",
    "    days.add(dt.datetime.fromtimestamp(df[\"Time_Epoch\"][i]).day)\n",
    "    #months.add(dt.datetime.fromtimestamp(df[\"Time_Epoch\"][i]).month)\n",
    "print(days)"
   ]
  },
  {
   "cell_type": "code",
   "execution_count": 16,
   "metadata": {},
   "outputs": [
    {
     "name": "stdout",
     "output_type": "stream",
     "text": [
      "['/data/new_trap_processed/processed_files/20200320/Bead1/EnvData/20200326/environmental_data_20200326.pkl', '/data/new_trap_processed/processed_files/20200320/Bead1/EnvData/20200327/environmental_data_20200327.pkl']\n"
     ]
    }
   ],
   "source": [
    "# prepare the files to match the time stamp to extract the environmental data\n",
    "fn = []\n",
    "for day in days:\n",
    "    env_file = \"/data/new_trap_processed/processed_files/{0}/Bead{1}/EnvData/{2}{3}{4}/environmental_data_{2}{3}{4}.pkl\".format(bead_date,bead_number,year,str(month).zfill(2),str(day).zfill(2))\n",
    "    fn.append(env_file)\n",
    "print(fn)\n",
    "    "
   ]
  },
  {
   "cell_type": "code",
   "execution_count": 17,
   "metadata": {},
   "outputs": [
    {
     "name": "stderr",
     "output_type": "stream",
     "text": [
      "100%|██████████| 5500/5500 [01:04<00:00, 85.75it/s] \n"
     ]
    }
   ],
   "source": [
    "df_new = match_environmental_data(df,fn) # match the environmental data"
   ]
  },
  {
   "cell_type": "code",
   "execution_count": 18,
   "metadata": {},
   "outputs": [
    {
     "data": {
      "image/png": "[encoded data removed]",
      "text/plain": [
       "<Figure size 1152x864 with 1 Axes>"
      ]
     },
     "metadata": {
      "needs_background": "light"
     },
     "output_type": "display_data"
    }
   ],
   "source": [
    "plt.plot(df_new.AirTemperature/df_new.AirTemperature.mean())\n",
    "plt.plot(df_new.height_cal/df_new.height_cal.mean())\n",
    "plt.plot(df_new.z_distance/df_new.z_distance.mean())\n",
    "#plt.plot(df_new.z_distance_emp/df_new.z_distance_emp.mean())\n",
    "#plt.xlim(0,1000)\n",
    "plt.show()"
   ]
  },
  {
   "cell_type": "code",
   "execution_count": 19,
   "metadata": {},
   "outputs": [
    {
     "name": "stdout",
     "output_type": "stream",
     "text": [
      "Created subdirs /Shaking/Shaking373/\n",
      "Successfully saved auxiliary file\n"
     ]
    }
   ],
   "source": [
    "# save the file\n",
    "base_proc = \"/data/new_trap_processed/processed_files/\" + str(bead_date) +  \"/Bead%s/\" %bead_number\n",
    "\n",
    "try:\n",
    "    os.makedirs(base_proc+dataset)\n",
    "    print(\"Created subdirs %s\" %dataset)\n",
    "except:\n",
    "    print(\"Folder exists or you do not have permissions\")\n",
    "    \n",
    "outputname = base_proc + dataset+FOI+\"_aux.pkl\"\n",
    "if(os.path.isfile(outputname)==False):\n",
    "    df.to_pickle(outputname)\n",
    "    print(\"Successfully saved auxiliary file\")\n",
    "else:print(\"No auxiliary file produced. %s exists already!\" %outputname)    "
   ]
  },
  {
   "cell_type": "code",
   "execution_count": 20,
   "metadata": {},
   "outputs": [],
   "source": [
    "del data # free the data"
   ]
  },
  {
   "cell_type": "code",
   "execution_count": null,
   "metadata": {},
   "outputs": [],
   "source": []
  }
 ],
 "metadata": {
  "kernelspec": {
   "display_name": "Python 3",
   "language": "python",
   "name": "python3"
  },
  "language_info": {
   "codemirror_mode": {
    "name": "ipython",
    "version": 3
   },
   "file_extension": ".py",
   "mimetype": "text/x-python",
   "name": "python",
   "nbconvert_exporter": "python",
   "pygments_lexer": "ipython3",
   "version": "3.6.9"
  }
 },
 "nbformat": 4,
 "nbformat_minor": 4
}
