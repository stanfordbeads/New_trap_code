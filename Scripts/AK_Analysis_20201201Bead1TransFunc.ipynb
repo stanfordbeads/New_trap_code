{
 "cells": [
  {
   "cell_type": "code",
   "execution_count": 1,
   "metadata": {},
   "outputs": [],
   "source": [
    "import numpy as np\n",
    "import matplotlib.pyplot as plt\n",
    "import matplotlib\n",
    "from matplotlib import mlab\n",
    "\n",
    "from scipy import signal\n",
    "import h5py, time\n"
   ]
  },
  {
   "cell_type": "code",
   "execution_count": 2,
   "metadata": {},
   "outputs": [],
   "source": [
    "%matplotlib widget"
   ]
  },
  {
   "cell_type": "code",
   "execution_count": 3,
   "metadata": {},
   "outputs": [],
   "source": [
    "import sys\n",
    "sys.path.append('/home/analysis_user/New_trap_code/Tools/')\n",
    "import BeadDataFile"
   ]
  },
  {
   "cell_type": "code",
   "execution_count": 4,
   "metadata": {},
   "outputs": [],
   "source": [
    "##Force Calibration with single freq, with xyz2"
   ]
  },
  {
   "cell_type": "code",
   "execution_count": 69,
   "metadata": {},
   "outputs": [],
   "source": [
    "Year = \"2020\"\n",
    "Month = \"12\"\n",
    "Day = \"01\"\n",
    "BeadNumber =2\n",
    "folder = r\"/data/new_trap/\"+ Year + Month + Day\n",
    "#folder = r\"/home/analysis_user/data_from_windows/\"+ Year + Month + Day"
   ]
  },
  {
   "cell_type": "code",
   "execution_count": 70,
   "metadata": {},
   "outputs": [],
   "source": [
    "##code for Transfer Function- 7Hz\n",
    "#following is the code to generate transfer function with FFT"
   ]
  },
  {
   "cell_type": "code",
   "execution_count": 71,
   "metadata": {},
   "outputs": [
    {
     "name": "stdout",
     "output_type": "stream",
     "text": [
      "No seismometer data\n",
      "No z_set data\n",
      "No height data\n",
      "No cantilever data\n",
      "Error loading spinning data\n",
      "No laser power data\n"
     ]
    }
   ],
   "source": [
    "##X preparation\n",
    "Ndata=1\n",
    "tInt=10\n",
    "fsamp=5000\n",
    "res=tInt*fsamp\n",
    "fBase=7\n",
    "Zset=0\n",
    "\n",
    "fname = folder+\"/Bead\"+str(BeadNumber)+\"/TransFunc\"+\"/TransFunc%d_X_z%de5_%ds_%dHz.h5\" % (Ndata,Zset,tInt,fBase)\n",
    "BDF = BeadDataFile.BeadDataFile(fname)\n",
    "data = BDF.xyz2\n",
    "\n",
    "\n",
    "data_det=signal.detrend(data)\n",
    "x_1000=data_det[0]\n",
    "y_1000=data_det[1]\n",
    "z_1000=data_det[2]\n",
    "freqs=np.linspace(0,2500,(25000)+1)\n",
    "    \n",
    "xFFT=np.fft.rfft(x_1000)\n",
    "yFFT=np.fft.rfft(y_1000)\n",
    "zFFT=np.fft.rfft(z_1000)\n",
    "norm = np.sqrt(2 / (res* fsamp))\n",
    "xpsd = norm**2 * (xFFT * xFFT.conj()).real\n",
    "ypsd = norm**2 * (yFFT * yFFT.conj()).real\n",
    "zpsd = norm**2 * (zFFT * zFFT.conj()).real\n",
    "XphaseX=np.angle(xFFT)\n",
    "XphaseY=np.angle(yFFT)\n",
    "XphaseZ=np.angle(zFFT)\n",
    "\n",
    "XnoiseX=np.sqrt(xpsd)\n",
    "XnoiseY=np.sqrt(ypsd)\n",
    "XnoiseZ=np.sqrt(zpsd)\n"
   ]
  },
  {
   "cell_type": "code",
   "execution_count": 72,
   "metadata": {},
   "outputs": [
    {
     "name": "stdout",
     "output_type": "stream",
     "text": [
      "No seismometer data\n",
      "No z_set data\n",
      "No height data\n",
      "No cantilever data\n",
      "Error loading spinning data\n",
      "No laser power data\n"
     ]
    }
   ],
   "source": [
    "##Y preparataion\n",
    "fname = folder+\"/Bead\"+str(BeadNumber)+\"/TransFunc\"+\"/TransFunc%d_Y_z%de5_%ds_%dHz.h5\" %(Ndata,Zset,tInt,fBase)\n",
    "BDF = BeadDataFile.BeadDataFile(fname)\n",
    "data = BDF.xyz2 \n",
    "data_det=signal.detrend(data)\n",
    "x_1000=data_det[0]\n",
    "y_1000=data_det[1]\n",
    "z_1000=data_det[2]\n",
    "freqs=np.linspace(0,2500,(25000)+1)\n",
    "    \n",
    "xFFT=np.fft.rfft(x_1000)\n",
    "yFFT=np.fft.rfft(y_1000)\n",
    "zFFT=np.fft.rfft(z_1000)\n",
    "norm = np.sqrt(2 / (res* fsamp))\n",
    "xpsd = norm**2 * (xFFT * xFFT.conj()).real\n",
    "ypsd = norm**2 * (yFFT * yFFT.conj()).real\n",
    "zpsd = norm**2 * (zFFT * zFFT.conj()).real\n",
    "YphaseX=np.angle(xFFT)\n",
    "YphaseY=np.angle(yFFT)\n",
    "YphaseZ=np.angle(zFFT)\n",
    "\n",
    "YnoiseX=np.sqrt(xpsd)\n",
    "YnoiseY=np.sqrt(ypsd)\n",
    "YnoiseZ=np.sqrt(zpsd)\n"
   ]
  },
  {
   "cell_type": "code",
   "execution_count": 73,
   "metadata": {},
   "outputs": [
    {
     "name": "stdout",
     "output_type": "stream",
     "text": [
      "No seismometer data\n",
      "No z_set data\n",
      "No height data\n",
      "No cantilever data\n",
      "Error loading spinning data\n",
      "No laser power data\n"
     ]
    }
   ],
   "source": [
    "##Z preparataion\n",
    "fname = folder+\"/Bead\"+str(BeadNumber)+\"/TransFunc\"+\"/TransFunc%d_Z_z%de5_%ds_%dHz.h5\" %(Ndata,Zset,tInt,fBase)\n",
    "BDF = BeadDataFile.BeadDataFile(fname)\n",
    "data = BDF.xyz2 \n",
    "data_det=signal.detrend(data)\n",
    "x_1000=data_det[0]\n",
    "y_1000=data_det[1]\n",
    "z_1000=data_det[2]\n",
    "freqs=np.linspace(0,2500,(25000)+1)\n",
    "    \n",
    "xFFT=np.fft.rfft(x_1000)\n",
    "yFFT=np.fft.rfft(y_1000)\n",
    "zFFT=np.fft.rfft(z_1000)\n",
    "norm = np.sqrt(2 / (res* fsamp))\n",
    "xpsd = norm**2 * (xFFT * xFFT.conj()).real\n",
    "ypsd = norm**2 * (yFFT * yFFT.conj()).real\n",
    "zpsd = norm**2 * (zFFT * zFFT.conj()).real\n",
    "ZphaseX=np.angle(xFFT)\n",
    "ZphaseY=np.angle(yFFT)\n",
    "ZphaseZ=np.angle(zFFT)\n",
    "\n",
    "ZnoiseX=np.sqrt(xpsd)\n",
    "ZnoiseY=np.sqrt(ypsd)\n",
    "ZnoiseZ=np.sqrt(zpsd)\n",
    "\n"
   ]
  },
  {
   "cell_type": "code",
   "execution_count": 74,
   "metadata": {},
   "outputs": [
    {
     "name": "stdout",
     "output_type": "stream",
     "text": [
      "[1.53584418e-13 3.21821932e+01 2.24829497e+01 ... 2.29384224e+00\n",
      " 8.84597592e-01 6.63399205e-01]\n"
     ]
    }
   ],
   "source": [
    "print(ZnoiseZ)\n"
   ]
  },
  {
   "cell_type": "code",
   "execution_count": 75,
   "metadata": {},
   "outputs": [],
   "source": [
    "xPha=np.zeros(100)\n",
    "yPha=np.zeros(100)\n",
    "zPha=np.zeros(100)\n",
    "xAmp=np.zeros(100)\n",
    "yAmp=np.zeros(100)\n",
    "zAmp=np.zeros(100)\n"
   ]
  },
  {
   "cell_type": "code",
   "execution_count": 79,
   "metadata": {},
   "outputs": [],
   "source": [
    "for i in range(0,100):\n",
    "    xPha[i]=XphaseX[(i+1)*tInt*fBase]-(i*i/100-round(i*i/100))*2*3.14159265-np.pi*0.5\n",
    "    xAmp[i]=XnoiseX[(i+1)*tInt*fBase]\n",
    "    if(xPha[i]<-3):\n",
    "        xPha[i]+=2*np.pi\n",
    "    yPha[i]=YphaseY[(i+1)*tInt*fBase]-(i*i/100-round(i*i/100))*2*3.14159265+np.pi*0.5\n",
    "    yAmp[i]=YnoiseY[(i+1)*tInt*fBase]\n",
    "    if(yPha[i]>3):\n",
    "        yPha[i]-=2*np.pi\n",
    "    zPha[i]=ZphaseZ[(i+1)*tInt*fBase]-(i*i/100-round(i*i/100))*2*3.14159265-np.pi*0.5\n",
    "    zAmp[i]=ZnoiseZ[(i+1)*tInt*fBase]\n",
    "\n",
    "    \n",
    "        \n",
    "for i in range(0,99):  \n",
    "    if((zPha[i+1]-zPha[i])>4):\n",
    "        zPha[i+1]-=2*np.pi\n",
    "    elif((zPha[i+1]-zPha[i])<-4):\n",
    "        zPha[i+1]+=2*np.pi\n",
    "for i in range(0,99):  \n",
    "    if((zPha[i+1]-zPha[i])>4):\n",
    "        zPha[i+1]-=2*np.pi\n",
    "    elif((zPha[i+1]-zPha[i])<-4):\n",
    "        zPha[i+1]+=2*np.pi"
   ]
  },
  {
   "cell_type": "code",
   "execution_count": 80,
   "metadata": {
    "scrolled": true
   },
   "outputs": [
    {
     "data": {
      "application/vnd.jupyter.widget-view+json": {
       "model_id": "f060462402174898b47a9a28549af1fd",
       "version_major": 2,
       "version_minor": 0
      },
      "text/plain": [
       "Canvas(toolbar=Toolbar(toolitems=[('Home', 'Reset original view', 'home', 'home'), ('Back', 'Back to previous …"
      ]
     },
     "metadata": {},
     "output_type": "display_data"
    }
   ],
   "source": [
    "freqs=np.linspace(0,2500,(375000)+1)\n",
    "\n",
    "_,ax = plt.subplots()\n",
    "plt.subplots_adjust(left=0.18, right=0.96, top=0.96, bottom=0.14)\n",
    "\n",
    "ax.plot(np.linspace(7,700,100),xPha, '.-', label=\"x\",markersize=1,linewidth=1)\n",
    "ax.plot(np.linspace(7,700,100),yPha, '.-', label=\"y\",markersize=1,linewidth=1)\n",
    "ax.plot(np.linspace(7,700,100),zPha, '.-', label=\"z\",markersize=1,linewidth=1)\n",
    "ax.legend(fontsize=16)\n",
    "ax.set_xlabel('Frequency [Hz]', fontsize=18)\n",
    "ax.set_ylabel('Force NSD [N/√Hz]',fontsize=18)\n",
    "\n",
    "ax.tick_params(axis='x', labelsize=18)\n",
    "ax.tick_params(axis='y', labelsize=18)\n",
    "#plt.xlim(0.1,500)\n",
    "#plt.ylim(1e-7,1e-2)\n",
    "plt.grid(True)"
   ]
  },
  {
   "cell_type": "code",
   "execution_count": 16,
   "metadata": {},
   "outputs": [],
   "source": [
    "ofname = folder+\"/Bead\"+str(BeadNumber)+\"/TransFunc\"+\"/TransFuncDiag_%d_XYZ_z%de5_%ds_%dHz.h5\" %(Ndata,Zset,tInt,fBase)\n",
    "f1 = open(ofname,\"a\")\n",
    "for k in range(0,100):\n",
    "    f1.write('%d %f %f %f %f %f %f\\n' % (k+1, xAmp[k], yAmp[k], zAmp[k],xPha[k], yPha[k], zPha[k]))\n",
    "f1.close()"
   ]
  },
  {
   "cell_type": "code",
   "execution_count": 64,
   "metadata": {},
   "outputs": [
    {
     "data": {
      "application/vnd.jupyter.widget-view+json": {
       "model_id": "c907b527133a4e5c85f52c27c114b7d2",
       "version_major": 2,
       "version_minor": 0
      },
      "text/plain": [
       "Canvas(toolbar=Toolbar(toolitems=[('Home', 'Reset original view', 'home', 'home'), ('Back', 'Back to previous …"
      ]
     },
     "metadata": {},
     "output_type": "display_data"
    }
   ],
   "source": [
    "freqs=np.linspace(0,2500,(375000)+1)\n",
    "\n",
    "_,ax = plt.subplots()\n",
    "plt.subplots_adjust(left=0.18, right=0.96, top=0.96, bottom=0.14)\n",
    "\n",
    "ax.plot(np.linspace(1,100,100),xPha, '.-', label=\"x\",markersize=1,linewidth=1)\n",
    "ax.plot(np.linspace(1,100,100),yPha, '.-', label=\"y\",markersize=1,linewidth=1)\n",
    "ax.plot(np.linspace(1,100,100),zPha, '.-', label=\"z\",markersize=1,linewidth=1)\n",
    "ax.legend(fontsize=16)\n",
    "ax.set_xlabel('Frequency [Hz]', fontsize=18)\n",
    "ax.set_ylabel('Force NSD [N/√Hz]',fontsize=18)\n",
    "\n",
    "ax.tick_params(axis='x', labelsize=18)\n",
    "ax.tick_params(axis='y', labelsize=18)\n",
    "#plt.xlim(0.1,500)\n",
    "#plt.ylim(1e-7,1e-2)\n",
    "plt.grid(True)"
   ]
  },
  {
   "cell_type": "code",
   "execution_count": 18,
   "metadata": {},
   "outputs": [
    {
     "data": {
      "application/vnd.jupyter.widget-view+json": {
       "model_id": "5969ca526e60411c9aeb918f982ace63",
       "version_major": 2,
       "version_minor": 0
      },
      "text/plain": [
       "Canvas(toolbar=Toolbar(toolitems=[('Home', 'Reset original view', 'home', 'home'), ('Back', 'Back to previous …"
      ]
     },
     "metadata": {},
     "output_type": "display_data"
    }
   ],
   "source": [
    "freqs=np.linspace(0,2500,(375000)+1)\n",
    "\n",
    "_,ax = plt.subplots()\n",
    "plt.subplots_adjust(left=0.18, right=0.96, top=0.96, bottom=0.14)\n",
    "\n",
    "#ax.plot(np.linspace(1,100,100),xAmp, '.-', label=\"x\",markersize=1,linewidth=1)\n",
    "#ax.plot(np.linspace(1,100,100),yAmp, '.-', label=\"y\",markersize=1,linewidth=1)\n",
    "ax.plot(np.linspace(7,700,100),zAmp, '.-', label=\"z\",markersize=1,linewidth=1)\n",
    "#ax.semilogy(ZnoiseZ, '.-', label=\"z\",markersize=1,linewidth=1)\n",
    "ax.legend(fontsize=16)\n",
    "ax.set_xlabel('Frequency [Hz]', fontsize=18)\n",
    "ax.set_ylabel('Force NSD [N/√Hz]',fontsize=18)\n",
    "\n",
    "ax.tick_params(axis='x', labelsize=18)\n",
    "ax.tick_params(axis='y', labelsize=18)\n",
    "#plt.xlim(0.1,500)\n",
    "#plt.ylim(1e-7,1e-2)\n",
    "plt.grid(True)"
   ]
  },
  {
   "cell_type": "code",
   "execution_count": null,
   "metadata": {},
   "outputs": [],
   "source": [
    "## analysis for the manual transfer function"
   ]
  },
  {
   "cell_type": "code",
   "execution_count": 51,
   "metadata": {},
   "outputs": [
    {
     "name": "stdout",
     "output_type": "stream",
     "text": [
      "3 25166.65312453924 2.814071040702285\n",
      "6 45277.8444674797 2.5007527281522637\n",
      "9 57711.33823899624 2.244613468996248\n",
      "12 63396.02442910932 2.0247248501093096\n",
      "15 63682.39984790148 1.8689247659098251\n",
      "18 61452.80074138335 1.7778461301652762\n",
      "21 58158.44966183566 1.733520339584625\n",
      "24 55185.67156128647 1.7176829034267915\n",
      "27 53324.91098468825 1.762793579322977\n",
      "30 53056.25940789389 1.7850592726303889\n",
      "33 54084.047377742456 1.8267030991834672\n",
      "36 56915.638350040994 1.856417950712613\n",
      "39 60524.535401529625 1.91145259099947\n",
      "42 63946.68111977427 1.8965868367719994\n",
      "45 67307.02073483265 1.9157968742004756\n",
      "48 71579.02717829266 1.9087611575857062\n",
      "51 74386.39074052463 1.8709026369059087\n",
      "54 77675.05788183682 1.878606852449677\n",
      "57 80054.52142338791 1.8442369573137987\n",
      "60 85500.32744494939 1.8089095380117242\n",
      "63 86078.09396197832 1.7812781418298516\n",
      "66 91314.7429922633 1.6944412816908558\n",
      "69 89877.1931039986 1.7433487358656268\n"
     ]
    }
   ],
   "source": [
    "ResX=np.arange(0, 2.4, 0.1)\n",
    "ManPha=np.arange(0, 2.4, 0.1)\n",
    "\n",
    "for i in range(0,23):\n",
    "    Ndata=i*3+2\n",
    "    SigFreq=(i+1)*3\n",
    "    fname = folder+\"/Bead\"+str(BeadNumber)+\"/Discharge/ManualTransFunc\"+\"/Discharge_%d.h5\" % Ndata\n",
    "    BDF = BeadDataFile.BeadDataFile(fname)\n",
    "    data = BDF.xyz2\n",
    "    fsamp=5000\n",
    "    res=50000\n",
    "    data_det=signal.detrend(data)\n",
    "    z_1000=data_det[2]\n",
    "    freqs=np.linspace(0,2500,(25000)+1)\n",
    "    \n",
    "    zFFT=np.fft.rfft(z_1000)\n",
    "    norm = np.sqrt(2 / (res* fsamp))\n",
    "    zpsd = norm**2 * (zFFT * zFFT.conj()).real\n",
    "    ZphaseZ=np.angle(zFFT)\n",
    "    ZnoiseZ=np.sqrt(zpsd)\n",
    "    \n",
    "    \n",
    "\n",
    "    ResX[i]=np.sqrt(zpsd[SigFreq*10])\n",
    "    ManPha[i]=ZphaseZ[SigFreq*10]\n",
    "    print(SigFreq,np.sqrt(zpsd[SigFreq*10]), ZphaseZ[SigFreq*10])\n",
    "    #print(np.sqrt(ypsd[SigFreq*10]))\n",
    "    #print(np.sqrt(zpsd[SigFreq*10]))"
   ]
  },
  {
   "cell_type": "code",
   "execution_count": 54,
   "metadata": {},
   "outputs": [
    {
     "name": "stdout",
     "output_type": "stream",
     "text": [
      "71 91899.4523328993\n"
     ]
    }
   ],
   "source": [
    "    Ndata=71\n",
    "    SigFreq=71\n",
    "    i=23\n",
    "    fname = folder+\"/Bead\"+str(BeadNumber)+\"/Discharge/ManualTransFunc\"+\"/Discharge_%d.h5\" % Ndata\n",
    "    BDF = BeadDataFile.BeadDataFile(fname)\n",
    "    data = BDF.xyz2\n",
    "    fsamp=5000\n",
    "    res=50000\n",
    "    data_det=signal.detrend(data)\n",
    "    z_1000=data_det[2]\n",
    "    freqs=np.linspace(0,2500,(25000)+1)\n",
    "    \n",
    "    zFFT=np.fft.rfft(z_1000)\n",
    "    norm = np.sqrt(2 / (res* fsamp))\n",
    "    zpsd = norm**2 * (zFFT * zFFT.conj()).real\n",
    "    ZphaseZ=np.angle(zFFT)\n",
    "    ZnoiseZ=np.sqrt(zpsd)\n",
    "    \n",
    "    \n",
    "\n",
    "    ResX[i]=np.sqrt(zpsd[SigFreq*10])\n",
    "    ManPha[i]=ZphaseZ[SigFreq*10]\n",
    "    print(SigFreq,np.sqrt(zpsd[SigFreq*10]))\n",
    "    #print(np.sqrt(ypsd[SigFreq*10]))\n",
    "    #print(np.sqrt(zpsd[SigFreq*10]))"
   ]
  },
  {
   "cell_type": "code",
   "execution_count": 36,
   "metadata": {},
   "outputs": [
    {
     "data": {
      "text/plain": [
       "array([25166.65312454, 45277.84446748, 57711.338239  , 63396.02442911,\n",
       "       63682.3998479 , 61452.80074138, 58158.44966184, 55185.67156129,\n",
       "       53324.91098469, 53056.25940789, 54084.04737774, 56915.63835004,\n",
       "       60524.53540153, 63946.68111977, 67307.02073483, 71579.02717829,\n",
       "       74386.39074052, 77675.05788184, 80054.52142339, 85500.32744495,\n",
       "       86078.09396198, 91314.74299226, 89877.193104  , 91899.4523329 ])"
      ]
     },
     "execution_count": 36,
     "metadata": {},
     "output_type": "execute_result"
    }
   ],
   "source": [
    "ResX"
   ]
  },
  {
   "cell_type": "code",
   "execution_count": 55,
   "metadata": {},
   "outputs": [
    {
     "data": {
      "application/vnd.jupyter.widget-view+json": {
       "model_id": "798389a41ee048aea42947a7b8a11315",
       "version_major": 2,
       "version_minor": 0
      },
      "text/plain": [
       "Canvas(toolbar=Toolbar(toolitems=[('Home', 'Reset original view', 'home', 'home'), ('Back', 'Back to previous …"
      ]
     },
     "metadata": {},
     "output_type": "display_data"
    }
   ],
   "source": [
    "freqs=np.linspace(0,2500,(375000)+1)\n",
    "\n",
    "_,ax = plt.subplots()\n",
    "plt.subplots_adjust(left=0.18, right=0.96, top=0.96, bottom=0.14)\n",
    "\n",
    "#ax.plot(np.linspace(1,100,100),xAmp, '.-', label=\"x\",markersize=1,linewidth=1)\n",
    "ax.plot(np.linspace(3,72,24),ResX*0.065, '.-', label=\"manual\",markersize=1,linewidth=1)\n",
    "ax.plot(np.linspace(7,700,100),zAmp, '.-', label=\"7Hz\",markersize=1,linewidth=1)\n",
    "#ax.semilogy(ZnoiseZ, '.-', label=\"z\",markersize=1,linewidth=1)\n",
    "ax.legend(fontsize=16)\n",
    "ax.set_xlabel('Frequency [Hz]', fontsize=18)\n",
    "ax.set_ylabel('Response [bit]',fontsize=18)\n",
    "\n",
    "ax.tick_params(axis='x', labelsize=18)\n",
    "ax.tick_params(axis='y', labelsize=18)\n",
    "plt.xlim(0,100)\n",
    "#plt.ylim(1e-7,1e-2)\n",
    "plt.grid(True)"
   ]
  },
  {
   "cell_type": "code",
   "execution_count": 83,
   "metadata": {},
   "outputs": [
    {
     "data": {
      "application/vnd.jupyter.widget-view+json": {
       "model_id": "3f0c58f614304df0b6d95b8ba7a22af9",
       "version_major": 2,
       "version_minor": 0
      },
      "text/plain": [
       "Canvas(toolbar=Toolbar(toolitems=[('Home', 'Reset original view', 'home', 'home'), ('Back', 'Back to previous …"
      ]
     },
     "metadata": {},
     "output_type": "display_data"
    }
   ],
   "source": [
    "freqs=np.linspace(0,2500,(375000)+1)\n",
    "\n",
    "_,ax = plt.subplots()\n",
    "plt.subplots_adjust(left=0.18, right=0.96, top=0.96, bottom=0.14)\n",
    "\n",
    "#ax.plot(np.linspace(1,100,100),xAmp, '.-', label=\"x\",markersize=1,linewidth=1)\n",
    "ax.plot(np.linspace(3,72,24),ManPha-np.pi/2, '.-', label=\"manual\",markersize=1,linewidth=1)\n",
    "ax.plot(np.linspace(7,700,100),zPha, '.-', label=\"7Hz\",markersize=1,linewidth=1)\n",
    "#ax.semilogy(ZnoiseZ, '.-', label=\"z\",markersize=1,linewidth=1)\n",
    "ax.legend(fontsize=16)\n",
    "ax.set_xlabel('Frequency [Hz]', fontsize=18)\n",
    "ax.set_ylabel('Phase [rad]]',fontsize=18)\n",
    "\n",
    "ax.tick_params(axis='x', labelsize=18)\n",
    "ax.tick_params(axis='y', labelsize=18)\n",
    "plt.xlim(0,100)\n",
    "plt.ylim(-0.5,1.5)\n",
    "plt.grid(True)"
   ]
  },
  {
   "cell_type": "code",
   "execution_count": 84,
   "metadata": {},
   "outputs": [],
   "source": [
    "## following is the 1Hz and 7 Hz comparison with Wilson data\n",
    "Year = \"2020\"\n",
    "Month = \"03\"\n",
    "Day = \"20\"\n",
    "BeadNumber =1\n",
    "folder = r\"/data/new_trap/\"+ Year + Month + Day\n",
    "#folder = r\"/home/analysis_user/data_from_windows/\"+ Year + Month + Day"
   ]
  },
  {
   "cell_type": "code",
   "execution_count": 85,
   "metadata": {},
   "outputs": [
    {
     "name": "stdout",
     "output_type": "stream",
     "text": [
      "No seismometer data\n",
      "No z_set data\n",
      "No height data\n",
      "No cantilever data\n",
      "Error loading spinning data\n",
      "No laser power data\n"
     ]
    }
   ],
   "source": [
    "##Z preparataion\n",
    "Ndata=11\n",
    "tInt=150\n",
    "fsamp=5000\n",
    "res=tInt*fsamp\n",
    "fBase=7\n",
    "\n",
    "fname = folder+\"/Bead\"+str(BeadNumber)+\"/TransFunc\"+\"/TransFunc_Z_m800k_150s_7hz.h5\" #% Ndata\n",
    "BDF = BeadDataFile.BeadDataFile(fname)\n",
    "data = BDF.xyz2 \n",
    "data_det=signal.detrend(data)\n",
    "x_1000=data_det[0]\n",
    "y_1000=data_det[1]\n",
    "z_1000=data_det[2]\n",
    "freqs=np.linspace(0,2500,(25000)+1)\n",
    "    \n",
    "xFFT=np.fft.rfft(x_1000)\n",
    "yFFT=np.fft.rfft(y_1000)\n",
    "zFFT=np.fft.rfft(z_1000)\n",
    "norm = np.sqrt(2 / (res* fsamp))\n",
    "xpsd = norm**2 * (xFFT * xFFT.conj()).real\n",
    "ypsd = norm**2 * (yFFT * yFFT.conj()).real\n",
    "zpsd = norm**2 * (zFFT * zFFT.conj()).real\n",
    "ZphaseX=np.angle(xFFT)\n",
    "ZphaseY=np.angle(yFFT)\n",
    "ZphaseZ=np.angle(zFFT)\n",
    "\n",
    "ZnoiseX=np.sqrt(xpsd)\n",
    "ZnoiseY=np.sqrt(ypsd)\n",
    "ZnoiseZ=np.sqrt(zpsd)\n",
    "\n",
    "\n"
   ]
  },
  {
   "cell_type": "code",
   "execution_count": 86,
   "metadata": {},
   "outputs": [],
   "source": [
    "zPha7=np.zeros(100)\n",
    "zAmp7=np.zeros(100)\n",
    "\n"
   ]
  },
  {
   "cell_type": "code",
   "execution_count": 87,
   "metadata": {},
   "outputs": [],
   "source": [
    "for i in range(0,100):\n",
    "    zPha7[i]=ZphaseZ[(i+1)*tInt*fBase]-(i*i/100-round(i*i/100))*2*3.14159265+np.pi*0.5\n",
    "    zAmp7[i]=ZnoiseZ[(i+1)*tInt*fBase]\n",
    "\n",
    "      \n",
    "for i in range(0,99):  \n",
    "    if((zPha7[i+1]-zPha7[i])>4):\n",
    "        zPha7[i+1]-=2*np.pi\n",
    "    elif((zPha7[i+1]-zPha7[i])<-4):\n",
    "        zPha7[i+1]+=2*np.pi\n",
    "for i in range(0,99):  \n",
    "    if((zPha7[i+1]-zPha7[i])>4):\n",
    "        zPha7[i+1]-=2*np.pi\n",
    "    elif((zPha7[i+1]-zPha7[i])<-4):\n",
    "        zPha7[i+1]+=2*np.pi"
   ]
  },
  {
   "cell_type": "code",
   "execution_count": 88,
   "metadata": {},
   "outputs": [
    {
     "name": "stdout",
     "output_type": "stream",
     "text": [
      "No seismometer data\n",
      "No z_set data\n",
      "No height data\n",
      "No cantilever data\n",
      "Error loading spinning data\n",
      "No laser power data\n"
     ]
    }
   ],
   "source": [
    "#1 Hz one\n",
    "\n",
    "tInt=250\n",
    "fsamp=5000\n",
    "res=tInt*fsamp\n",
    "fBase=1\n",
    "Nharm=100\n",
    "fname = folder+\"/Bead\"+str(BeadNumber)+\"/TransFunc\"+\"/Repeat_TransFunc_20200104/TransFunc_Z_m300k_250s_1hz.h5\" #% Ndata\n",
    "BDF = BeadDataFile.BeadDataFile(fname)\n",
    "data = BDF.xyz2 \n",
    "data_det=signal.detrend(data)\n",
    "x_1000=data_det[0]\n",
    "y_1000=data_det[1]\n",
    "z_1000=data_det[2]\n",
    "freqs=np.linspace(0,2500,(25000)+1)\n",
    "    \n",
    "xFFT=np.fft.rfft(x_1000)\n",
    "yFFT=np.fft.rfft(y_1000)\n",
    "zFFT=np.fft.rfft(z_1000)\n",
    "norm = np.sqrt(2 / (res* fsamp))\n",
    "xpsd = norm**2 * (xFFT * xFFT.conj()).real\n",
    "ypsd = norm**2 * (yFFT * yFFT.conj()).real\n",
    "zpsd = norm**2 * (zFFT * zFFT.conj()).real\n",
    "ZphaseX=np.angle(xFFT)\n",
    "ZphaseY=np.angle(yFFT)\n",
    "ZphaseZ=np.angle(zFFT)\n",
    "\n",
    "ZnoiseX=np.sqrt(xpsd)\n",
    "ZnoiseY=np.sqrt(ypsd)\n",
    "ZnoiseZ=np.sqrt(zpsd)\n",
    "\n",
    "ZrespX=np.zeros(Nharm)\n",
    "ZrespY=np.zeros(Nharm)\n",
    "ZrespZ=np.zeros(Nharm)\n",
    "for i in range (Nharm):\n",
    "    ZrespX[i]=ZnoiseX[tInt*(i+1)]\n",
    "    ZrespY[i]=ZnoiseY[tInt*(i+1)]\n",
    "    ZrespZ[i]=ZnoiseZ[tInt*(i+1)]\n",
    "    \n",
    "ZtfX=np.zeros(991)\n",
    "ZtfY=np.zeros(991)\n",
    "ZtfZ=np.zeros(991)\n",
    "\n",
    "for i in range (99):\n",
    "    for j in range(10):\n",
    "        ZtfX[i*10+j]=0.1*ZrespX[i]*(10-j)+0.1*ZrespX[i+1]*j\n",
    "        ZtfY[i*10+j]=0.1*ZrespY[i]*(10-j)+0.1*ZrespY[i+1]*j\n",
    "        ZtfZ[i*10+j]=0.1*ZrespZ[i]*(10-j)+0.1*ZrespZ[i+1]*j\n",
    "ZtfX[990]=ZrespX[99]\n",
    "ZtfY[990]=ZrespY[99]\n",
    "ZtfZ[990]=ZrespZ[99]"
   ]
  },
  {
   "cell_type": "code",
   "execution_count": 89,
   "metadata": {},
   "outputs": [],
   "source": [
    "zPha1=np.zeros(100)\n",
    "zAmp1=np.zeros(100)"
   ]
  },
  {
   "cell_type": "code",
   "execution_count": 90,
   "metadata": {},
   "outputs": [],
   "source": [
    "for i in range(0,100):\n",
    "    zPha1[i]=ZphaseZ[(i+1)*tInt*fBase]-(i*i/100-round(i*i/100))*2*3.14159265+np.pi*0.5\n",
    "    zAmp1[i]=ZnoiseZ[(i+1)*tInt*fBase]\n",
    "\n",
    "      \n",
    "for i in range(0,99):  \n",
    "    if((zPha1[i+1]-zPha1[i])>4):\n",
    "        zPha1[i+1]-=2*np.pi\n",
    "    elif((zPha7[i+1]-zPha7[i])<-4):\n",
    "        zPha7[i+1]+=2*np.pi\n",
    "for i in range(0,99):  \n",
    "    if((zPha1[i+1]-zPha1[i])>4):\n",
    "        zPha1[i+1]-=2*np.pi\n",
    "    elif((zPha1[i+1]-zPha1[i])<-4):\n",
    "        zPha1[i+1]+=2*np.pi"
   ]
  },
  {
   "cell_type": "code",
   "execution_count": 92,
   "metadata": {},
   "outputs": [
    {
     "data": {
      "application/vnd.jupyter.widget-view+json": {
       "model_id": "1efde96396864a959566d4b321d9da01",
       "version_major": 2,
       "version_minor": 0
      },
      "text/plain": [
       "Canvas(toolbar=Toolbar(toolitems=[('Home', 'Reset original view', 'home', 'home'), ('Back', 'Back to previous …"
      ]
     },
     "metadata": {},
     "output_type": "display_data"
    }
   ],
   "source": [
    "freqs=np.linspace(0,2500,(375000)+1)\n",
    "\n",
    "_,ax = plt.subplots()\n",
    "plt.subplots_adjust(left=0.18, right=0.96, top=0.96, bottom=0.14)\n",
    "\n",
    "#ax.plot(np.linspace(1,100,100),xAmp, '.-', label=\"x\",markersize=1,linewidth=1)\n",
    "ax.plot(np.linspace(1,100,100),zPha1, '.-', label=\"1 Hz\",markersize=1,linewidth=1)\n",
    "ax.plot(np.linspace(7,700,100),zPha7, '.-', label=\"7 Hz\",markersize=1,linewidth=1)\n",
    "#ax.semilogy(ZnoiseZ, '.-', label=\"z\",markersize=1,linewidth=1)\n",
    "ax.legend(fontsize=16)\n",
    "ax.set_xlabel('Frequency [Hz]', fontsize=18)\n",
    "ax.set_ylabel('Phase [rad]]',fontsize=18)\n",
    "\n",
    "ax.tick_params(axis='x', labelsize=18)\n",
    "ax.tick_params(axis='y', labelsize=18)\n",
    "plt.xlim(0,100)\n",
    "plt.ylim(-1.5,1.5)\n",
    "plt.grid(True)"
   ]
  },
  {
   "cell_type": "code",
   "execution_count": null,
   "metadata": {},
   "outputs": [],
   "source": []
  }
 ],
 "metadata": {
  "kernelspec": {
   "display_name": "Python 3",
   "language": "python",
   "name": "python3"
  },
  "language_info": {
   "codemirror_mode": {
    "name": "ipython",
    "version": 3
   },
   "file_extension": ".py",
   "mimetype": "text/x-python",
   "name": "python",
   "nbconvert_exporter": "python",
   "pygments_lexer": "ipython3",
   "version": "3.6.9"
  }
 },
 "nbformat": 4,
 "nbformat_minor": 2
}
