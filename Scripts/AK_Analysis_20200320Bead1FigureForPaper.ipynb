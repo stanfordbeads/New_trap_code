{
 "cells": [
  {
   "cell_type": "code",
   "execution_count": 1,
   "metadata": {},
   "outputs": [],
   "source": [
    "import numpy as np\n",
    "import matplotlib.pyplot as plt\n",
    "import matplotlib\n",
    "from matplotlib import mlab\n",
    "\n",
    "from scipy import signal\n",
    "import h5py, time\n"
   ]
  },
  {
   "cell_type": "code",
   "execution_count": 2,
   "metadata": {},
   "outputs": [],
   "source": [
    "%matplotlib widget"
   ]
  },
  {
   "cell_type": "code",
   "execution_count": 3,
   "metadata": {},
   "outputs": [],
   "source": [
    "import sys\n",
    "sys.path.append('/home/analysis_user/New_trap_code/Tools/')\n",
    "import BeadDataFile"
   ]
  },
  {
   "cell_type": "code",
   "execution_count": 4,
   "metadata": {},
   "outputs": [],
   "source": [
    "##Force Calibration with single freq, with xyz2"
   ]
  },
  {
   "cell_type": "code",
   "execution_count": 5,
   "metadata": {},
   "outputs": [],
   "source": [
    "Year = \"2020\"\n",
    "Month = \"03\"\n",
    "Day = \"20\"\n",
    "BeadNumber =1\n",
    "folder = r\"/data/new_trap/\"+ Year + Month + Day\n",
    "#folder = r\"/home/analysis_user/data_from_windows/\"+ Year + Month + Day"
   ]
  },
  {
   "cell_type": "code",
   "execution_count": 6,
   "metadata": {},
   "outputs": [
    {
     "name": "stdout",
     "output_type": "stream",
     "text": [
      "No seismometer data\n",
      "No z_set data\n",
      "Total run time is  0.09958076477050781  s\n"
     ]
    }
   ],
   "source": [
    "import time\n",
    "start_time = time.time()\n",
    "\n",
    "#DefineParameters\n",
    "Ndata=3\n",
    "Dx=378\n",
    "Fshake=3\n",
    "DataN=10000\n",
    "HarmN=20\n",
    "Noff=3\n",
    "\n",
    "NSubData=1\n",
    "fname = folder+\"/Bead\"+str(BeadNumber)+\"/Shaking/Shaking%d/Shaking%d_%d.h5\" % (Dx,Ndata,NSubData)\n",
    "BDF = BeadDataFile.BeadDataFile(fname)\n",
    "fsamp=5000\n",
    "res=50000\n",
    "data=BDF.cant_pos[1]\n",
    "\n",
    "\n",
    "yFFT=np.fft.rfft(data)\n",
    "norm = np.sqrt(2 / (res* fsamp))\n",
    "ypsd = norm**2 * (yFFT * yFFT.conj()).real\n",
    "ynsd=np.sqrt(ypsd)\n",
    "   \n",
    "print (\"Total run time is \", time.time() - start_time, \" s\")"
   ]
  },
  {
   "cell_type": "code",
   "execution_count": 7,
   "metadata": {},
   "outputs": [
    {
     "data": {
      "text/plain": [
       "array([1.0000e-01, 2.0000e-01, 3.0000e-01, ..., 2.4998e+03, 2.4999e+03,\n",
       "       2.5000e+03])"
      ]
     },
     "execution_count": 7,
     "metadata": {},
     "output_type": "execute_result"
    }
   ],
   "source": [
    "np.linspace(0.1, 2500, num=25000, endpoint=True)"
   ]
  },
  {
   "cell_type": "code",
   "execution_count": 8,
   "metadata": {},
   "outputs": [
    {
     "data": {
      "application/vnd.jupyter.widget-view+json": {
       "model_id": "da5033007a314f43be7e233cba17d10e",
       "version_major": 2,
       "version_minor": 0
      },
      "text/plain": [
       "Canvas(toolbar=Toolbar(toolitems=[('Home', 'Reset original view', 'home', 'home'), ('Back', 'Back to previous …"
      ]
     },
     "metadata": {},
     "output_type": "display_data"
    }
   ],
   "source": [
    "_,ax = plt.subplots()\n",
    "plt.subplots_adjust(left=0.18, right=0.96, top=0.96, bottom=0.14)\n",
    "freqs=np.linspace(0, 2500, num=25001, endpoint=True)\n",
    "ax.loglog(freqs,ynsd/ynsd[30], '.-',markersize=1,linewidth=1)\n",
    "#ax.legend(fontsize=16)\n",
    "ax.set_xlabel('Frequency [Hz]', fontsize=18)\n",
    "ax.set_ylabel('ASD of the attractor motion [a.u.]',fontsize=18)\n",
    "\n",
    "ax.tick_params(axis='x', labelsize=18)\n",
    "ax.tick_params(axis='y', labelsize=18)\n",
    "plt.xlim(1,100)\n",
    "plt.ylim(2e-5,2)\n",
    "plt.grid(True)\n",
    "ofname = folder+\"/Bead\"+str(BeadNumber)+\"/TransFunc\"+\"/ForceSensitivity%d.png\" % Ndata"
   ]
  },
  {
   "cell_type": "code",
   "execution_count": 9,
   "metadata": {},
   "outputs": [
    {
     "name": "stdout",
     "output_type": "stream",
     "text": [
      "No seismometer data\n",
      "No z_set data\n",
      "5.3185713932357e-05\n",
      "No seismometer data\n",
      "No z_set data\n",
      "5.1842811720905074e-05\n",
      "No seismometer data\n",
      "No z_set data\n",
      "5.1996097914346046e-05\n",
      "No seismometer data\n",
      "No z_set data\n",
      "4.8568596183011135e-05\n",
      "No seismometer data\n",
      "No z_set data\n",
      "5.419660819213425e-05\n"
     ]
    }
   ],
   "source": [
    "ResX=np.arange(0, 0.5, 0.1)\n",
    "for i in range(0,5):\n",
    "    Ndata=225+i\n",
    "    SigFreq=71\n",
    "    fname = folder+\"/Bead\"+str(BeadNumber)+\"/Discharge/Discharge_after_Mass_20200402/After_spinning_again_20200403\"+\"/Discharge_%d.h5\" % Ndata\n",
    "    BDF = BeadDataFile.BeadDataFile(fname)\n",
    "    data = BDF.xyz2\n",
    "    fsamp=5000\n",
    "    res=50000\n",
    "    data_det=signal.detrend(data)\n",
    "    xpsd, freqs = matplotlib.mlab.psd(data_det[0], Fs = fsamp, NFFT = res,window=mlab.window_none)\n",
    "    ResX[i]=np.sqrt(xpsd[SigFreq*10])\n",
    "    print(np.sqrt(xpsd[SigFreq*10]))\n",
    "    #print(np.sqrt(ypsd[SigFreq*10]))\n",
    "    #print(np.sqrt(zpsd[SigFreq*10]))\n",
    "    "
   ]
  },
  {
   "cell_type": "code",
   "execution_count": 10,
   "metadata": {},
   "outputs": [
    {
     "name": "stdout",
     "output_type": "stream",
     "text": [
      "No seismometer data\n",
      "No z_set data\n",
      "7.459615175107814e-05\n",
      "No seismometer data\n",
      "No z_set data\n",
      "7.108187292529642e-05\n",
      "No seismometer data\n",
      "No z_set data\n",
      "6.994467719258683e-05\n",
      "No seismometer data\n",
      "No z_set data\n",
      "6.256675237016993e-05\n",
      "No seismometer data\n",
      "No z_set data\n",
      "6.979445574692227e-05\n"
     ]
    }
   ],
   "source": [
    "ResY=np.arange(0, 0.5, 0.1)\n",
    "for i in range(0,5):\n",
    "    Ndata=230+i\n",
    "    SigFreq=71\n",
    "    fname = folder+\"/Bead\"+str(BeadNumber)+\"/Discharge/Discharge_after_Mass_20200402/After_spinning_again_20200403\"+\"/Discharge_%d.h5\" % Ndata\n",
    "    BDF = BeadDataFile.BeadDataFile(fname)\n",
    "    data = BDF.xyz2\n",
    "    fsamp=5000\n",
    "    res=50000\n",
    "    data_det=signal.detrend(data)\n",
    "\n",
    "    xpsd, freqs = matplotlib.mlab.psd(data_det[0], Fs = fsamp, NFFT = res,window=mlab.window_none)\n",
    "    ypsd, freqs = matplotlib.mlab.psd(data_det[1], Fs = fsamp, NFFT = res,window=mlab.window_none)\n",
    "    zpsd, freqs = matplotlib.mlab.psd(data_det[2], Fs = fsamp, NFFT = res,window=mlab.window_none)\n",
    "    ResY[i]=np.sqrt(ypsd[SigFreq*10])    \n",
    "    #print(np.sqrt(xpsd[SigFreq*10]))\n",
    "    print(np.sqrt(ypsd[SigFreq*10]))\n",
    "    #print(np.sqrt(zpsd[SigFreq*10]))\n",
    "    "
   ]
  },
  {
   "cell_type": "code",
   "execution_count": 11,
   "metadata": {
    "scrolled": false
   },
   "outputs": [
    {
     "name": "stdout",
     "output_type": "stream",
     "text": [
      "No seismometer data\n",
      "No z_set data\n",
      "610.3424380831602\n",
      "No seismometer data\n",
      "No z_set data\n",
      "587.691752337657\n",
      "No seismometer data\n",
      "No z_set data\n",
      "620.9328114106028\n",
      "No seismometer data\n",
      "No z_set data\n",
      "627.6928492802273\n",
      "No seismometer data\n",
      "No z_set data\n",
      "623.1305310892386\n",
      "No seismometer data\n",
      "No z_set data\n",
      "614.4183577761202\n",
      "No seismometer data\n",
      "No z_set data\n",
      "601.4065068389503\n",
      "No seismometer data\n",
      "No z_set data\n",
      "594.5148653211008\n",
      "No seismometer data\n",
      "No z_set data\n",
      "595.6956236833222\n",
      "No seismometer data\n",
      "No z_set data\n",
      "599.1450557999868\n",
      "No seismometer data\n",
      "No z_set data\n",
      "610.3580208410517\n",
      "No seismometer data\n",
      "No z_set data\n",
      "603.6280546156394\n",
      "No seismometer data\n",
      "No z_set data\n",
      "606.6459909340582\n",
      "No seismometer data\n",
      "No z_set data\n",
      "587.7283329645918\n",
      "No seismometer data\n",
      "No z_set data\n",
      "592.5714510332397\n",
      "No seismometer data\n",
      "No z_set data\n",
      "578.1703291520229\n",
      "No seismometer data\n",
      "No z_set data\n",
      "605.2220471944413\n",
      "No seismometer data\n",
      "No z_set data\n",
      "607.6817578077357\n",
      "No seismometer data\n",
      "No z_set data\n",
      "597.819226471512\n",
      "No seismometer data\n",
      "No z_set data\n",
      "634.8447199461426\n",
      "No seismometer data\n",
      "No z_set data\n",
      "632.6532176199229\n",
      "No seismometer data\n",
      "No z_set data\n",
      "612.2834667354107\n",
      "No seismometer data\n",
      "No z_set data\n",
      "625.6538603673476\n",
      "No seismometer data\n",
      "No z_set data\n",
      "616.0149534680545\n",
      "No seismometer data\n",
      "No z_set data\n",
      "608.4940666965815\n",
      "No seismometer data\n",
      "No z_set data\n",
      "591.9492675818784\n",
      "No seismometer data\n",
      "No z_set data\n",
      "597.886834721275\n",
      "No seismometer data\n",
      "No z_set data\n",
      "618.7396050878481\n",
      "No seismometer data\n",
      "No z_set data\n",
      "605.3302738509296\n",
      "No seismometer data\n",
      "No z_set data\n",
      "608.9814990239257\n"
     ]
    }
   ],
   "source": [
    "ResZ=np.arange(0, 3, 0.1)\n",
    "for i in range(0,30):\n",
    "    Ndata=235+i\n",
    "    fname = folder+\"/Bead\"+str(BeadNumber)+\"/Discharge/Discharge_after_Mass_20200402/After_spinning_again_20200403\"+\"/Discharge_%d.h5\" % Ndata\n",
    "    BDF = BeadDataFile.BeadDataFile(fname)\n",
    "    data = BDF.xyz2\n",
    "    fsamp=5000\n",
    "    res=50000\n",
    "    data_det=signal.detrend(data)\n",
    "\n",
    "    xpsd, freqs = matplotlib.mlab.psd(data_det[0], Fs = fsamp, NFFT = res,window=mlab.window_none)\n",
    "    ypsd, freqs = matplotlib.mlab.psd(data_det[1], Fs = fsamp, NFFT = res,window=mlab.window_none)\n",
    "    zpsd, freqs = matplotlib.mlab.psd(data_det[2], Fs = fsamp, NFFT = res,window=mlab.window_none)\n",
    "    ResZ[i]=np.sqrt(zpsd[SigFreq*10])    \n",
    "    print(np.sqrt(zpsd[SigFreq*10]))\n",
    "    "
   ]
  },
  {
   "cell_type": "code",
   "execution_count": 12,
   "metadata": {},
   "outputs": [
    {
     "name": "stdout",
     "output_type": "stream",
     "text": [
      "3.2489547697263225e-15\n"
     ]
    }
   ],
   "source": [
    "q=6\n",
    "V=10\n",
    "F=(q*1.602e-19)*(V*2/8.6e-3*0.65)*np.sqrt(5)\n",
    "print(F)"
   ]
  },
  {
   "cell_type": "code",
   "execution_count": 13,
   "metadata": {},
   "outputs": [
    {
     "name": "stdout",
     "output_type": "stream",
     "text": [
      "6.25304461582355e-11\n",
      "4.668254302126402e-11\n",
      "5.350237930781558e-18\n"
     ]
    }
   ],
   "source": [
    "AveX=np.average(ResX)\n",
    "AveY=np.average(ResY)\n",
    "AveZ=np.average(ResZ)\n",
    "BtoFx=F/AveX\n",
    "BtoFy=F/AveY\n",
    "BtoFz=F/AveZ\n",
    "print(BtoFx)\n",
    "print(BtoFy)\n",
    "print(BtoFz)"
   ]
  },
  {
   "cell_type": "code",
   "execution_count": 14,
   "metadata": {},
   "outputs": [],
   "source": [
    "xPha=np.zeros(100)\n",
    "yPha=np.zeros(100)\n",
    "zPha=np.zeros(100)\n",
    "xAmp=np.zeros(100)\n",
    "yAmp=np.zeros(100)\n",
    "zAmp=np.zeros(100)\n"
   ]
  },
  {
   "cell_type": "code",
   "execution_count": 15,
   "metadata": {},
   "outputs": [],
   "source": [
    "#phase data with 1 Hz trans func data"
   ]
  },
  {
   "cell_type": "code",
   "execution_count": 16,
   "metadata": {},
   "outputs": [
    {
     "name": "stdout",
     "output_type": "stream",
     "text": [
      "No seismometer data\n",
      "No z_set data\n",
      "No height data\n",
      "No cantilever data\n",
      "Error loading spinning data\n",
      "No laser power data\n"
     ]
    }
   ],
   "source": [
    "##X preparation\n",
    "Ndata=11\n",
    "fname = folder+\"/Bead\"+str(BeadNumber)+\"/TransFunc\"+\"/Repeat_TransFunc_20200104/TransFunc_X_m300k_250s_1hz.h5\" #% Ndata\n",
    "BDF = BeadDataFile.BeadDataFile(fname)\n",
    "data = BDF.xyz2\n",
    "tInt=250\n",
    "fsamp=5000\n",
    "res=tInt*fsamp\n",
    "fBase=1\n",
    "Nharm=100\n",
    "\n",
    "data_det=signal.detrend(data)\n",
    "x_1000=data_det[0]\n",
    "y_1000=data_det[1]\n",
    "z_1000=data_det[2]\n",
    "freqs=np.linspace(0,2500,(25000)+1)\n",
    "    \n",
    "xFFT=np.fft.rfft(x_1000)\n",
    "yFFT=np.fft.rfft(y_1000)\n",
    "zFFT=np.fft.rfft(z_1000)\n",
    "norm = np.sqrt(2 / (res* fsamp))\n",
    "xpsd = norm**2 * (xFFT * xFFT.conj()).real\n",
    "ypsd = norm**2 * (yFFT * yFFT.conj()).real\n",
    "zpsd = norm**2 * (zFFT * zFFT.conj()).real\n",
    "XphaseX=np.angle(xFFT)\n",
    "XphaseY=np.angle(yFFT)\n",
    "XphaseZ=np.angle(zFFT)\n",
    "\n",
    "XnoiseX=np.sqrt(xpsd)\n",
    "XnoiseY=np.sqrt(ypsd)\n",
    "XnoiseZ=np.sqrt(zpsd)\n",
    "\n",
    "\n",
    "XrespX=np.zeros(Nharm)\n",
    "XrespY=np.zeros(Nharm)\n",
    "XrespZ=np.zeros(Nharm)\n",
    "for i in range (Nharm):\n",
    "    XrespX[i]=XnoiseX[tInt*(i+1)]\n",
    "    XrespY[i]=XnoiseY[tInt*(i+1)]\n",
    "    XrespZ[i]=XnoiseZ[tInt*(i+1)]\n",
    "    \n",
    "XtfX=np.zeros(991)\n",
    "XtfY=np.zeros(991)\n",
    "XtfZ=np.zeros(991)\n",
    "\n",
    "for i in range (99):\n",
    "    for j in range(10):\n",
    "        XtfX[i*10+j]=0.1*XrespX[i]*(10-j)+0.1*XrespX[i+1]*j\n",
    "        XtfY[i*10+j]=0.1*XrespY[i]*(10-j)+0.1*XrespY[i+1]*j\n",
    "        XtfZ[i*10+j]=0.1*XrespZ[i]*(10-j)+0.1*XrespZ[i+1]*j\n",
    "XtfX[990]=XrespX[99]\n",
    "XtfY[990]=XrespY[99]\n",
    "XtfZ[990]=XrespZ[99]"
   ]
  },
  {
   "cell_type": "code",
   "execution_count": 17,
   "metadata": {},
   "outputs": [
    {
     "name": "stdout",
     "output_type": "stream",
     "text": [
      "No seismometer data\n",
      "No z_set data\n",
      "No height data\n",
      "No cantilever data\n",
      "Error loading spinning data\n",
      "No laser power data\n"
     ]
    }
   ],
   "source": [
    "##Y preparataion\n",
    "fname = folder+\"/Bead\"+str(BeadNumber)+\"/TransFunc\"+\"/Repeat_TransFunc_20200104/TransFunc_Y_m300k_250s_1hz.h5\" #% Ndata\n",
    "BDF = BeadDataFile.BeadDataFile(fname)\n",
    "data = BDF.xyz2 \n",
    "data_det=signal.detrend(data)\n",
    "x_1000=data_det[0]\n",
    "y_1000=data_det[1]\n",
    "z_1000=data_det[2]\n",
    "freqs=np.linspace(0,2500,(25000)+1)\n",
    "    \n",
    "xFFT=np.fft.rfft(x_1000)\n",
    "yFFT=np.fft.rfft(y_1000)\n",
    "zFFT=np.fft.rfft(z_1000)\n",
    "norm = np.sqrt(2 / (res* fsamp))\n",
    "xpsd = norm**2 * (xFFT * xFFT.conj()).real\n",
    "ypsd = norm**2 * (yFFT * yFFT.conj()).real\n",
    "zpsd = norm**2 * (zFFT * zFFT.conj()).real\n",
    "YphaseX=np.angle(xFFT)\n",
    "YphaseY=np.angle(yFFT)\n",
    "YphaseZ=np.angle(zFFT)\n",
    "\n",
    "YnoiseX=np.sqrt(xpsd)\n",
    "YnoiseY=np.sqrt(ypsd)\n",
    "YnoiseZ=np.sqrt(zpsd)\n",
    "\n",
    "\n",
    "YrespX=np.zeros(Nharm)\n",
    "YrespY=np.zeros(Nharm)\n",
    "YrespZ=np.zeros(Nharm)\n",
    "for i in range (Nharm):\n",
    "    YrespX[i]=YnoiseX[tInt*(i+1)]\n",
    "    YrespY[i]=YnoiseY[tInt*(i+1)]\n",
    "    YrespZ[i]=YnoiseZ[tInt*(i+1)]\n",
    "    \n",
    "YtfX=np.zeros(991)\n",
    "YtfY=np.zeros(991)\n",
    "YtfZ=np.zeros(991)\n",
    "\n",
    "for i in range (99):\n",
    "    for j in range(10):\n",
    "        YtfX[i*10+j]=0.1*YrespX[i]*(10-j)+0.1*YrespX[i+1]*j\n",
    "        YtfY[i*10+j]=0.1*YrespY[i]*(10-j)+0.1*YrespY[i+1]*j\n",
    "        YtfZ[i*10+j]=0.1*YrespZ[i]*(10-j)+0.1*YrespZ[i+1]*j\n",
    "YtfX[990]=YrespX[99]\n",
    "YtfY[990]=YrespY[99]\n",
    "YtfZ[990]=YrespZ[99]"
   ]
  },
  {
   "cell_type": "code",
   "execution_count": 18,
   "metadata": {},
   "outputs": [
    {
     "name": "stdout",
     "output_type": "stream",
     "text": [
      "No seismometer data\n",
      "No z_set data\n",
      "No height data\n",
      "No cantilever data\n",
      "Error loading spinning data\n",
      "No laser power data\n"
     ]
    }
   ],
   "source": [
    "##Z preparataion\n",
    "fname = folder+\"/Bead\"+str(BeadNumber)+\"/TransFunc\"+\"/Repeat_TransFunc_20200104/TransFunc_Z_m300k_250s_1hz.h5\" #% Ndata\n",
    "BDF = BeadDataFile.BeadDataFile(fname)\n",
    "data = BDF.xyz2 \n",
    "data_det=signal.detrend(data)\n",
    "x_1000=data_det[0]\n",
    "y_1000=data_det[1]\n",
    "z_1000=data_det[2]\n",
    "freqs=np.linspace(0,2500,(25000)+1)\n",
    "    \n",
    "xFFT=np.fft.rfft(x_1000)\n",
    "yFFT=np.fft.rfft(y_1000)\n",
    "zFFT=np.fft.rfft(z_1000)\n",
    "norm = np.sqrt(2 / (res* fsamp))\n",
    "xpsd = norm**2 * (xFFT * xFFT.conj()).real\n",
    "ypsd = norm**2 * (yFFT * yFFT.conj()).real\n",
    "zpsd = norm**2 * (zFFT * zFFT.conj()).real\n",
    "ZphaseX=np.angle(xFFT)\n",
    "ZphaseY=np.angle(yFFT)\n",
    "ZphaseZ=np.angle(zFFT)\n",
    "\n",
    "ZnoiseX=np.sqrt(xpsd)\n",
    "ZnoiseY=np.sqrt(ypsd)\n",
    "ZnoiseZ=np.sqrt(zpsd)\n",
    "\n",
    "ZrespX=np.zeros(Nharm)\n",
    "ZrespY=np.zeros(Nharm)\n",
    "ZrespZ=np.zeros(Nharm)\n",
    "for i in range (Nharm):\n",
    "    ZrespX[i]=ZnoiseX[tInt*(i+1)]\n",
    "    ZrespY[i]=ZnoiseY[tInt*(i+1)]\n",
    "    ZrespZ[i]=ZnoiseZ[tInt*(i+1)]\n",
    "    \n",
    "ZtfX=np.zeros(991)\n",
    "ZtfY=np.zeros(991)\n",
    "ZtfZ=np.zeros(991)\n",
    "\n",
    "for i in range (99):\n",
    "    for j in range(10):\n",
    "        ZtfX[i*10+j]=0.1*ZrespX[i]*(10-j)+0.1*ZrespX[i+1]*j\n",
    "        ZtfY[i*10+j]=0.1*ZrespY[i]*(10-j)+0.1*ZrespY[i+1]*j\n",
    "        ZtfZ[i*10+j]=0.1*ZrespZ[i]*(10-j)+0.1*ZrespZ[i+1]*j\n",
    "ZtfX[990]=ZrespX[99]\n",
    "ZtfY[990]=ZrespY[99]\n",
    "ZtfZ[990]=ZrespZ[99]"
   ]
  },
  {
   "cell_type": "code",
   "execution_count": 19,
   "metadata": {},
   "outputs": [],
   "source": [
    "for i in range(0,100):\n",
    "    xPha[i]=XphaseX[(i+1)*tInt*fBase]-(i*i/100-round(i*i/100))*2*3.14159265-np.pi*0.5\n",
    "    xAmp[i]=XnoiseX[(i+1)*tInt*fBase]\n",
    "    if(xPha[i]<-3):\n",
    "        xPha[i]+=2*np.pi\n",
    "    yPha[i]=YphaseY[(i+1)*tInt*fBase]-(i*i/100-round(i*i/100))*2*3.14159265+np.pi*0.5\n",
    "    yAmp[i]=YnoiseY[(i+1)*tInt*fBase]\n",
    "    if(yPha[i]>3):\n",
    "        yPha[i]-=2*np.pi\n",
    "    zPha[i]=ZphaseZ[(i+1)*tInt*fBase]-(i*i/100-round(i*i/100))*2*3.14159265+np.pi*0.5\n",
    "    zAmp[i]=ZnoiseZ[(i+1)*tInt*fBase]\n",
    "\n",
    "    \n",
    "        \n",
    "for i in range(0,99):  \n",
    "    if((zPha[i+1]-zPha[i])>4):\n",
    "        zPha[i+1]-=2*np.pi\n",
    "    elif((zPha[i+1]-zPha[i])<-4):\n",
    "        zPha[i+1]+=2*np.pi\n",
    "for i in range(0,99):  \n",
    "    if((zPha[i+1]-zPha[i])>4):\n",
    "        zPha[i+1]-=2*np.pi\n",
    "    elif((zPha[i+1]-zPha[i])<-4):\n",
    "        zPha[i+1]+=2*np.pi"
   ]
  },
  {
   "cell_type": "code",
   "execution_count": 20,
   "metadata": {},
   "outputs": [
    {
     "data": {
      "application/vnd.jupyter.widget-view+json": {
       "model_id": "6a38f8c438fa4cd2940edc83cfab607b",
       "version_major": 2,
       "version_minor": 0
      },
      "text/plain": [
       "Canvas(toolbar=Toolbar(toolitems=[('Home', 'Reset original view', 'home', 'home'), ('Back', 'Back to previous …"
      ]
     },
     "metadata": {},
     "output_type": "display_data"
    }
   ],
   "source": [
    "freqs=np.linspace(0,2500,(375000)+1)\n",
    "\n",
    "_,ax = plt.subplots()\n",
    "plt.subplots_adjust(left=0.18, right=0.96, top=0.96, bottom=0.14)\n",
    "\n",
    "ax.plot(np.linspace(1,100,100),xPha, '.-', label=\"x\",markersize=1,linewidth=1)\n",
    "ax.plot(np.linspace(1,100,100),yPha, '.-', label=\"y\",markersize=1,linewidth=1)\n",
    "ax.plot(np.linspace(1,100,100),zPha, '.-', label=\"z\",markersize=1,linewidth=1)\n",
    "ax.legend(fontsize=16)\n",
    "ax.set_xlabel('Frequency [Hz]', fontsize=18)\n",
    "ax.set_ylabel('Force NSD [N/√Hz]',fontsize=18)\n",
    "\n",
    "ax.tick_params(axis='x', labelsize=18)\n",
    "ax.tick_params(axis='y', labelsize=18)\n",
    "#plt.xlim(0.1,500)\n",
    "#plt.ylim(1e-7,1e-2)\n",
    "plt.grid(True)"
   ]
  },
  {
   "cell_type": "code",
   "execution_count": 21,
   "metadata": {},
   "outputs": [
    {
     "data": {
      "application/vnd.jupyter.widget-view+json": {
       "model_id": "addc97b0704f44febcdafc2ce4227f71",
       "version_major": 2,
       "version_minor": 0
      },
      "text/plain": [
       "Canvas(toolbar=Toolbar(toolitems=[('Home', 'Reset original view', 'home', 'home'), ('Back', 'Back to previous …"
      ]
     },
     "metadata": {},
     "output_type": "display_data"
    }
   ],
   "source": [
    "freqs=np.linspace(0,2500,(375000)+1)\n",
    "\n",
    "_,ax = plt.subplots()\n",
    "plt.subplots_adjust(left=0.18, right=0.96, top=0.96, bottom=0.14)\n",
    "\n",
    "#ax.plot(np.linspace(1,100,100),xAmp, '.-', label=\"x\",markersize=1,linewidth=1)\n",
    "#ax.plot(np.linspace(1,100,100),yAmp, '.-', label=\"y\",markersize=1,linewidth=1)\n",
    "ax.plot(np.linspace(1,100,100),zAmp, '.-', label=\"z\",markersize=1,linewidth=1)\n",
    "#ax.semilogy(ZnoiseZ, '.-', label=\"z\",markersize=1,linewidth=1)\n",
    "ax.legend(fontsize=16)\n",
    "ax.set_xlabel('Frequency [Hz]', fontsize=18)\n",
    "ax.set_ylabel('Force NSD [N/√Hz]',fontsize=18)\n",
    "\n",
    "ax.tick_params(axis='x', labelsize=18)\n",
    "ax.tick_params(axis='y', labelsize=18)\n",
    "#plt.xlim(0.1,500)\n",
    "#plt.ylim(1e-7,1e-2)\n",
    "plt.grid(True)"
   ]
  },
  {
   "cell_type": "code",
   "execution_count": 22,
   "metadata": {},
   "outputs": [],
   "source": [
    "#Here, there is no conversion factor\n",
    "q=20\n",
    "V=0.65\n",
    "F=(q*1.602e-19)*(V*2/8.6e-3*0.65)\n",
    "Nharm=100\n",
    "\n",
    "\n",
    "FnoiseXX=XnoiseX\n",
    "FnoiseXY=XnoiseY\n",
    "FnoiseXZ=XnoiseZ\n",
    "FnoiseYX=YnoiseX\n",
    "FnoiseYY=YnoiseY\n",
    "FnoiseYZ=YnoiseZ\n",
    "FnoiseZX=ZnoiseX\n",
    "FnoiseZY=ZnoiseY\n",
    "FnoiseZZ=ZnoiseZ\n",
    "\n",
    "TFXX=np.zeros(Nharm)\n",
    "TFXY=np.zeros(Nharm)\n",
    "TFXZ=np.zeros(Nharm)\n",
    "TFYX=np.zeros(Nharm)\n",
    "TFYY=np.zeros(Nharm)\n",
    "TFYZ=np.zeros(Nharm)\n",
    "TFZX=np.zeros(Nharm)\n",
    "TFZY=np.zeros(Nharm)\n",
    "TFZZ=np.zeros(Nharm)\n",
    "\n",
    "FreqTF=np.zeros(Nharm)\n",
    "for i in range(Nharm):\n",
    "    FreqTF[i]=fBase*(i+1)\n",
    "    TFXX[i]=FnoiseXX[fBase*tInt*(i+1)]\n",
    "    TFXY[i]=FnoiseXY[fBase*tInt*(i+1)]\n",
    "    TFXZ[i]=FnoiseXZ[fBase*tInt*(i+1)]\n",
    "    TFYX[i]=FnoiseYX[fBase*tInt*(i+1)]\n",
    "    TFYY[i]=FnoiseYY[fBase*tInt*(i+1)]\n",
    "    TFYZ[i]=FnoiseYZ[fBase*tInt*(i+1)]\n",
    "    TFZX[i]=FnoiseZX[fBase*tInt*(i+1)]\n",
    "    TFZY[i]=FnoiseZY[fBase*tInt*(i+1)]\n",
    "    TFZZ[i]=FnoiseZZ[fBase*tInt*(i+1)]"
   ]
  },
  {
   "cell_type": "code",
   "execution_count": 23,
   "metadata": {},
   "outputs": [],
   "source": [
    "##force sensitivity"
   ]
  },
  {
   "cell_type": "code",
   "execution_count": 24,
   "metadata": {},
   "outputs": [
    {
     "name": "stdout",
     "output_type": "stream",
     "text": [
      "/data/new_trap/20200320/Bead1/InitialTest/Data52.h5\n",
      "No seismometer data\n",
      "No z_set data\n",
      "No height data\n",
      "No electrodes data\n",
      "No cantilever data\n",
      "No laser power data\n"
     ]
    }
   ],
   "source": [
    "Ndata=52\n",
    "fname = folder+\"/Bead\"+str(BeadNumber)+\"/InitialTest\"+\"/Data%d.h5\" % Ndata\n",
    "print(fname)\n",
    "BDF = BeadDataFile.BeadDataFile(fname)\n",
    "data = BDF.xyz2\n",
    "res = 50000\n",
    "data_det=signal.detrend(data)\n",
    "\n",
    "xpsd, freqs = matplotlib.mlab.psd(data_det[0], Fs = fsamp, NFFT = res,window=mlab.window_none)\n",
    "ypsd, freqs = matplotlib.mlab.psd(data_det[1], Fs = fsamp, NFFT = res,window=mlab.window_none)\n",
    "zpsd, freqs = matplotlib.mlab.psd(data_det[2], Fs = fsamp, NFFT = res,window=mlab.window_none)\n",
    "xnsd=np.sqrt(xpsd)\n",
    "ynsd=np.sqrt(ypsd)\n",
    "znsd=np.sqrt(zpsd)\n",
    "f0=71\n",
    "Xsens=np.zeros(991)\n",
    "Ysens=np.zeros(991)\n",
    "Zsens=np.zeros(991)\n",
    "\n",
    "for i in range(991):\n",
    "    Xsens[i]=xnsd[10+i]*XtfX[f0*10-10]/XtfX[i]*BtoFx\n",
    "    Ysens[i]=ynsd[10+i]*YtfY[f0*10-10]/YtfY[i]*BtoFy\n",
    "    Zsens[i]=znsd[10+i]*ZtfZ[f0*10-10]/ZtfZ[i]*BtoFz"
   ]
  },
  {
   "cell_type": "code",
   "execution_count": 25,
   "metadata": {},
   "outputs": [
    {
     "name": "stdout",
     "output_type": "stream",
     "text": [
      "This will print\n"
     ]
    }
   ],
   "source": [
    "import sys, os\n",
    "\n",
    "Ndata=3\n",
    "Dx=378\n",
    "Fshake=3\n",
    "DataN=10000\n",
    "HarmN=20\n",
    "Noff=3\n",
    "znsd=np.zeros(25001)\n",
    "\n",
    "for k in range(700,800):\n",
    "    NSubData=k\n",
    "    fname = folder+\"/Bead\"+str(BeadNumber)+\"/Shaking/Shaking2_20200403/NoShaking_1_%d.h5\" % (NSubData)\n",
    "    print(fname)\n",
    "    BDF = BeadDataFile.BeadDataFile(fname)\n",
    "    data = BDF.xyz2\n",
    "    res = 50000\n",
    "    data_det=signal.detrend(data)\n",
    "\n",
    "    zpsd, freqs = matplotlib.mlab.psd(data_det[2], Fs = fsamp, NFFT = res,window=mlab.window_none)\n",
    "    znsd+=np.sqrt(zpsd)\n",
    "f0=71\n",
    "Zsens=np.zeros(991)\n",
    "\n",
    "for i in range(991):\n",
    "    Zsens[i]=znsd[10+i]*ZtfZ[f0*10-10]/ZtfZ[i]*BtoFz"
   ]
  },
  {
   "cell_type": "code",
   "execution_count": 26,
   "metadata": {},
   "outputs": [],
   "source": [
    "Ndata=3\n",
    "Dx=378\n",
    "Fshake=3\n",
    "DataN=10000\n",
    "HarmN=20\n",
    "Noff=3\n",
    "z2nsd=np.zeros(25001)\n",
    "\n",
    "for k in range(1000,1100):\n",
    "    NSubData=k\n",
    "    fname = folder+\"/Bead\"+str(BeadNumber)+\"/Shaking/Shaking%d/Shaking%d_%d.h5\" % (Dx,Ndata,NSubData)\n",
    "    print(fname)\n",
    "    BDF = BeadDataFile.BeadDataFile(fname)\n",
    "    data = BDF.xyz2\n",
    "    res = 50000\n",
    "    data_det=signal.detrend(data)\n",
    "\n",
    "    zpsd, freqs = matplotlib.mlab.psd(data_det[2], Fs = fsamp, NFFT = res,window=mlab.window_none)\n",
    "    z2nsd+=np.sqrt(zpsd)\n",
    "f0=71\n",
    "Z2sens=np.zeros(991)\n",
    "\n",
    "for i in range(991):\n",
    "    Z2sens[i]=z2nsd[10+i]*ZtfZ[f0*10-10]/ZtfZ[i]*BtoFz"
   ]
  },
  {
   "cell_type": "code",
   "execution_count": 27,
   "metadata": {},
   "outputs": [
    {
     "data": {
      "application/vnd.jupyter.widget-view+json": {
       "model_id": "5b046900088e459fa0e52ba7c2e87adf",
       "version_major": 2,
       "version_minor": 0
      },
      "text/plain": [
       "Canvas(toolbar=Toolbar(toolitems=[('Home', 'Reset original view', 'home', 'home'), ('Back', 'Back to previous …"
      ]
     },
     "metadata": {},
     "output_type": "display_data"
    }
   ],
   "source": [
    "_,ax = plt.subplots()\n",
    "plt.subplots_adjust(left=0.18, right=0.96, top=0.96, bottom=0.14)\n",
    "freqs=np.linspace(0, 2500, num=25001, endpoint=True)\n",
    "freqs2=np.linspace(1, 100, num=991, endpoint=True)\n",
    "#ax.semilogy(freqs,znsd/100, '.-', label=\"w/o shaking\",markersize=1,linewidth=1)\n",
    "#ax.semilogy(freqs,z2nsd/100, '.-', label=\"w/ shaking\",markersize=1,linewidth=1)\n",
    "ax.semilogy(freqs2,Zsens/100, '.-', label=\"w/o shaking\",markersize=1,linewidth=1)\n",
    "ax.semilogy(freqs2,Z2sens/100, '.-', label=\"w/ shaking\",markersize=1,linewidth=1)\n",
    "\n",
    "\n",
    "ax.legend(fontsize=16)\n",
    "ax.set_xlabel('Frequency [Hz]', fontsize=18)\n",
    "ax.set_ylabel('Force ASD [N/√Hz]',fontsize=18)\n",
    "ax.tick_params(axis='x', labelsize=18)\n",
    "ax.tick_params(axis='y', labelsize=18)\n",
    "plt.xlim(0,60)\n",
    "plt.ylim(3e-17,1e-15)\n",
    "plt.grid(True)\n",
    "ofname = folder+\"/Bead\"+str(BeadNumber)+\"/TransFunc\"+\"/ForceSensitivity1-100HzSemi_%dNewDischarge.png\" % Ndata\n",
    "\n",
    "#plt.savefig(ofname,dpi=300)"
   ]
  },
  {
   "cell_type": "code",
   "execution_count": null,
   "metadata": {},
   "outputs": [],
   "source": []
  },
  {
   "cell_type": "code",
   "execution_count": 28,
   "metadata": {},
   "outputs": [],
   "source": [
    "##Get the signal model"
   ]
  },
  {
   "cell_type": "code",
   "execution_count": 29,
   "metadata": {},
   "outputs": [],
   "source": [
    "import numpy as np\n",
    "import pickle as pkl\n",
    "import scipy.interpolate as interp\n",
    "import scipy, sys, time\n",
    "from bisect import bisect_left\n",
    "import matplotlib.pyplot as plt\n",
    "sys.path.append('/home/analysis_user/New_trap_code/Tools/')\n",
    "import BeadDataFile\n",
    "from discharge_tools import load_dir\n",
    "sys.path.append('/home/analysis_user/New_trap_code/SensitivityFramework/')\n",
    "from signal_model_utilities_v3 import *"
   ]
  },
  {
   "cell_type": "code",
   "execution_count": 38,
   "metadata": {},
   "outputs": [],
   "source": [
    "##above one looks to be wrong. with correct parameter;\n",
    "#for z force, 3/20 Bead1, Shaking378_3\n",
    "\n",
    "L=10\n",
    "D=13.9#10.39+3.8 #this becomes14.19\n",
    "H=-15.23#-15.7\n",
    "Fshake=3\n",
    "test = force_vs_time(D,H,-202,Fshake,\"z\",L,yuk_or_grav=\"yuk\",alpha=1e10,offset_y=4.9,bead_size=7.6)\n",
    "ofname = \"/data/new_trap/Results/AkioK/2020_11_18_Analysis0320Bead1/SignalZD%dumH%dumL%.02fBugFixed.txt\" % (D,H,L)\n",
    "\n",
    "\n",
    "fsamp=5000\n",
    "res=50000\n",
    "\n",
    "norm = np.sqrt(2 / (res* fsamp))\n",
    "\n",
    "s = np.arange(0, 5, 0.0001)\n",
    "for i in range(0,10):\n",
    "    for j in range(0,5000):\n",
    "        s[j+i*5000]=test[1][j]\n",
    "\n",
    "sFFT=np.fft.rfft(s)\n",
    "spsd = (sFFT * sFFT.conj()).real\n",
    "spsd = norm**2 * (sFFT * sFFT.conj()).real\n",
    "snsd=np.sqrt(spsd)\n",
    "Zsigmod=np.zeros(991)\n",
    "    \n"
   ]
  },
  {
   "cell_type": "code",
   "execution_count": 39,
   "metadata": {},
   "outputs": [],
   "source": [
    "Zsigmod=np.zeros(991)\n",
    "for i in range(0,991):\n",
    "    Zsigmod[i]=snsd[10+i]"
   ]
  },
  {
   "cell_type": "code",
   "execution_count": 40,
   "metadata": {},
   "outputs": [
    {
     "data": {
      "application/vnd.jupyter.widget-view+json": {
       "model_id": "1a3f44a07e1e4ee5adf680acdec57228",
       "version_major": 2,
       "version_minor": 0
      },
      "text/plain": [
       "Canvas(toolbar=Toolbar(toolitems=[('Home', 'Reset original view', 'home', 'home'), ('Back', 'Back to previous …"
      ]
     },
     "metadata": {},
     "output_type": "display_data"
    }
   ],
   "source": [
    "_,ax = plt.subplots()\n",
    "plt.subplots_adjust(left=0.18, right=0.96, top=0.96, bottom=0.14)\n",
    "freqs=np.linspace(0, 2500, num=25001, endpoint=True)\n",
    "freqs2=np.linspace(1, 100, num=991, endpoint=True)\n",
    "#ax.semilogy(freqs,znsd/100, '.-', label=\"w/o shaking\",markersize=1,linewidth=1)\n",
    "#ax.semilogy(freqs,z2nsd/100, '.-', label=\"w/ shaking\",markersize=1,linewidth=1)\n",
    "ax.semilogy(freqs2,Zsens/100+Zsigmod, '.--', label=\"Noise+signal model\",markersize=5,linewidth=1)\n",
    "ax.semilogy(freqs2,Zsens/100, '-', label=\"Noise only\",markersize=1,linewidth=1,color='g')\n",
    "ax.semilogy(freqs2,Z2sens/100, '-', label=\"w/ shaking\",markersize=1,linewidth=1,color='r')\n",
    "\n",
    "\n",
    "\n",
    "ax.legend(fontsize=16)\n",
    "ax.set_xlabel('Frequency [Hz]', fontsize=18)\n",
    "ax.set_ylabel('Force ASD [N/√Hz]',fontsize=18)\n",
    "ax.tick_params(axis='x', labelsize=18)\n",
    "ax.tick_params(axis='y', labelsize=18)\n",
    "plt.xlim(0,60)\n",
    "plt.ylim(3e-17,1e-15)\n",
    "plt.grid(True)\n",
    "ofname = folder+\"/Bead\"+str(BeadNumber)+\"/TransFunc\"+\"/ForceSensitivity1-100HzSemi_%dNewDischarge.png\" % Ndata\n",
    "\n",
    "#plt.savefig(ofname,dpi=300)"
   ]
  },
  {
   "cell_type": "code",
   "execution_count": 45,
   "metadata": {},
   "outputs": [
    {
     "data": {
      "application/vnd.jupyter.widget-view+json": {
       "model_id": "f85627619402410799475b18ed8f0145",
       "version_major": 2,
       "version_minor": 0
      },
      "text/plain": [
       "Canvas(toolbar=Toolbar(toolitems=[('Home', 'Reset original view', 'home', 'home'), ('Back', 'Back to previous …"
      ]
     },
     "metadata": {},
     "output_type": "display_data"
    }
   ],
   "source": [
    "_,ax = plt.subplots()\n",
    "plt.subplots_adjust(left=0.18, right=0.96, top=0.96, bottom=0.14)\n",
    "freqs=np.linspace(0, 2500, num=25001, endpoint=True)\n",
    "freqs2=np.linspace(1, 100, num=991, endpoint=True)\n",
    "#ax.semilogy(freqs,znsd/100, '.-', label=\"w/o shaking\",markersize=1,linewidth=1)\n",
    "#ax.semilogy(freqs,z2nsd/100, '.-', label=\"w/ shaking\",markersize=1,linewidth=1)\n",
    "ax.semilogy(freqs2,Zsens/100+Zsigmod, '.--',markersize=5,linewidth=1)\n",
    "ax.semilogy(freqs2,Zsens/100, '-',markersize=1,linewidth=1,color='g')\n",
    "ax.semilogy(freqs2,Z2sens/100, '-',markersize=1,linewidth=1,color='r')\n",
    "\n",
    "\n",
    "\n",
    "#ax.legend(fontsize=16)\n",
    "ax.set_xlabel('Frequency [Hz]', fontsize=18)\n",
    "ax.set_ylabel('Force ASD [N/√Hz]',fontsize=18)\n",
    "ax.tick_params(axis='x', labelsize=18)\n",
    "ax.tick_params(axis='y', labelsize=18)\n",
    "plt.xlim(0,80)\n",
    "plt.ylim(3e-17,1e-15)\n",
    "plt.grid(True)\n",
    "ofname = folder+\"/Bead\"+str(BeadNumber)+\"/TransFunc\"+\"/ForceSensitivity1-100HzSemi_%dNewDischarge.png\" % Ndata\n",
    "\n",
    "#plt.savefig(ofname,dpi=300)"
   ]
  },
  {
   "cell_type": "code",
   "execution_count": 47,
   "metadata": {},
   "outputs": [],
   "source": [
    "import scipy, sys, time"
   ]
  },
  {
   "cell_type": "code",
   "execution_count": 52,
   "metadata": {},
   "outputs": [],
   "source": [
    "DataN=991\n",
    "ofname = folder+\"/Bead\"+str(BeadNumber)+\"/TransFunc\"+\"/ForceSensitivityPaper2.txt\" \n",
    "f1 = open(ofname,\"a\")\n",
    "for k in range(0,DataN):\n",
    "    f1.write('%f %e \\n' % (freqs2[k],Zsens[k]/100))\n",
    "f1.close()\n",
    "\n",
    "ofname = folder+\"/Bead\"+str(BeadNumber)+\"/TransFunc\"+\"/SignalPaper2.txt\" \n",
    "f1 = open(ofname,\"a\")\n",
    "for k in range(0,DataN):\n",
    "    f1.write('%f %e \\n' % (freqs2[k],Z2sens[k]/100))\n",
    "f1.close()          \n",
    "             \n",
    "ofname = folder+\"/Bead\"+str(BeadNumber)+\"/TransFunc\"+\"/SignalModelPaper2.txt\" \n",
    "f1 = open(ofname,\"a\")\n",
    "for k in range(0,DataN):\n",
    "    f1.write('%f %e \\n' % (freqs2[k],Zsigmod[k]))\n",
    "f1.close()          "
   ]
  },
  {
   "cell_type": "code",
   "execution_count": null,
   "metadata": {},
   "outputs": [],
   "source": []
  }
 ],
 "metadata": {
  "kernelspec": {
   "display_name": "Python 3",
   "language": "python",
   "name": "python3"
  },
  "language_info": {
   "codemirror_mode": {
    "name": "ipython",
    "version": 3
   },
   "file_extension": ".py",
   "mimetype": "text/x-python",
   "name": "python",
   "nbconvert_exporter": "python",
   "pygments_lexer": "ipython3",
   "version": "3.6.9"
  }
 },
 "nbformat": 4,
 "nbformat_minor": 2
}
