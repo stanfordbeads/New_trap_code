{
 "cells": [
  {
   "cell_type": "code",
   "execution_count": 1,
   "metadata": {},
   "outputs": [],
   "source": [
    "import numpy as np\n",
    "import matplotlib.pyplot as plt\n",
    "import matplotlib\n",
    "from scipy import signal\n",
    "import random\n",
    "\n",
    "import h5py\n",
    "from IPython.utils import io\n",
    "\n",
    "from joblib import Parallel, delayed\n",
    "from tqdm import tqdm\n",
    "import sys"
   ]
  },
  {
   "cell_type": "code",
   "execution_count": 2,
   "metadata": {},
   "outputs": [],
   "source": [
    "%matplotlib widget\n",
    "\n",
    "%reload_ext autoreload\n",
    "%autoreload 2"
   ]
  },
  {
   "cell_type": "code",
   "execution_count": 3,
   "metadata": {},
   "outputs": [],
   "source": [
    "sys.path.append('../../../../nadavp/new_trap/Tools/')\n",
    "sys.path.append('../../../../nadavp/new_trap/Tools/StatFramework/')\n",
    "sys.path.append('../../../../nadavp/opt_lev_analysis/lib/')\n",
    "import BeadDataFile\n",
    "from discharge_tools import *"
   ]
  },
  {
   "cell_type": "code",
   "execution_count": 4,
   "metadata": {},
   "outputs": [],
   "source": [
    "from likelihood_calculator import likelihood_analyser\n",
    "from likelihood_calculator import GravityFramework\n",
    "from likelihood_calculator import auxiliary_functions as aux\n",
    "gfw = GravityFramework.GravityFramework()"
   ]
  },
  {
   "cell_type": "code",
   "execution_count": 5,
   "metadata": {},
   "outputs": [],
   "source": [
    "import bead_util as bu\n",
    "# import calib_util as cal\n",
    "import transfer_func_util as tf\n",
    "import configuration as config"
   ]
  },
  {
   "cell_type": "markdown",
   "metadata": {},
   "source": [
    "### Discharge data"
   ]
  },
  {
   "cell_type": "code",
   "execution_count": 95,
   "metadata": {},
   "outputs": [],
   "source": [
    "ll = likelihood_analyser.LikelihoodAnalyser()\n",
    "bandwidth = 2\n",
    "decimate = 10\n",
    "drive_freq = 41\n",
    "fsamp = 5000\n",
    "def func1_scale(i):\n",
    "    bb = step_file_objs[i]\n",
    "        \n",
    "    freq2 = np.fft.rfftfreq(len(bb.other_data[2]), d=1./5000)\n",
    "    fft_angles = np.angle(np.fft.rfft(bb.other_data[2]))\n",
    "    phi_tmp2 = (fft_angles[freq2==drive_freq]+np.pi/2)%(2*np.pi)\n",
    "    print(phi_tmp2,np.std(bb.other_data[2])*np.sqrt(2)*100)\n",
    "\n",
    "    fit_kwargs = {'A': 0, 'f': drive_freq, 'phi': phi_tmp2-3.2, \n",
    "                  'error_A': 1, 'error_f': 1, 'error_phi': 0.5, 'errordef': 1,\n",
    "                  'limit_phi': [-10 * np.pi, 10 * np.pi], \n",
    "                  'limit_A': [-100000000, 100000000], \n",
    "                  'print_level': 0, 'fix_f': True, 'fix_phi': True}\n",
    "    \n",
    "    frequency = fit_kwargs['f']\n",
    "\n",
    "    b, a = signal.butter(3, [2.*(drive_freq-bandwidth/2.)/fsamp, 2.*(drive_freq+bandwidth/2.)/fsamp ], btype = 'bandpass')\n",
    "    bb.load_other_data()\n",
    "    xx2 = signal.filtfilt(b, a, bb.pos_data[2])[::decimate]\n",
    "    \n",
    "    m1_tmp = ll.find_mle_sin(xx2, fsamp=5000/decimate, noise_rms=1, plot=False, suppress_print=True, **fit_kwargs)\n",
    "    \n",
    "    return m1_tmp.values[0], m1_tmp.values[2]-phi_tmp2"
   ]
  },
  {
   "cell_type": "code",
   "execution_count": 96,
   "metadata": {},
   "outputs": [
    {
     "name": "stdout",
     "output_type": "stream",
     "text": [
      "[ 2.81969182] 2.40125143269\n"
     ]
    },
    {
     "data": {
      "text/plain": [
       "(-27316.571989536285, array([-3.2]))"
      ]
     },
     "execution_count": 96,
     "metadata": {},
     "output_type": "execute_result"
    }
   ],
   "source": [
    "func1_scale(0)"
   ]
  },
  {
   "cell_type": "code",
   "execution_count": 236,
   "metadata": {},
   "outputs": [],
   "source": [
    "step_cal_dir = r'/data/old_trap/20210919/bead1/discharge/check_charge15/'\n",
    "# step_cal_dir = r'/data/old_trap/20210910/bead1/discharge/fine_4/'\n",
    "max_file = 500"
   ]
  },
  {
   "cell_type": "code",
   "execution_count": 241,
   "metadata": {},
   "outputs": [
    {
     "name": "stdout",
     "output_type": "stream",
     "text": [
      "5\n"
     ]
    }
   ],
   "source": [
    "step_cal_files = []\n",
    "for root, dirnames, filenames in os.walk(step_cal_dir):\n",
    "    for filename in fnmatch.filter(filenames, '*' + config.extensions['data']):\n",
    "        if '_fpga.h5' in filename:\n",
    "            continue\n",
    "        step_cal_files.append(os.path.join(root, filename))\n",
    "step_cal_files.sort(key = bu.find_str)\n",
    "num_calib_files = len(step_cal_files)\n",
    "print(num_calib_files)\n",
    "\n",
    "# Do the step calibration>\n",
    "\n",
    "step_file_objs = []\n",
    "for filname in step_cal_files[:]:\n",
    "    try:\n",
    "        df = bu.DataFile();\n",
    "        df.load(filname);\n",
    "        \n",
    "        \n",
    "        df.load_other_data()\n",
    "        step_file_objs.append(df);\n",
    "    except:\n",
    "        print('***')"
   ]
  },
  {
   "cell_type": "code",
   "execution_count": 242,
   "metadata": {
    "scrolled": true
   },
   "outputs": [
    {
     "name": "stdout",
     "output_type": "stream",
     "text": [
      "0 / 5\n",
      "[ 0.59792832] 2.40117478715\n",
      "1 / 5\n",
      "[ 5.53327232] 2.40157225156\n",
      "2 / 5\n",
      "[ 2.29429906] 2.39911152341\n",
      "3 / 5\n",
      "[ 5.83606359] 2.40359674566\n",
      "4 / 5\n",
      "[ 2.58595041] 2.40286064988\n"
     ]
    }
   ],
   "source": [
    "amps4 = []\n",
    "phases4 = []\n",
    "for i in range(num_calib_files):\n",
    "    \n",
    "    print(i,'/',len(step_cal_files))\n",
    "    amp, phase = func1_scale(i)\n",
    "    amps4.append(amp)\n",
    "    phases4.append(phase)"
   ]
  },
  {
   "cell_type": "code",
   "execution_count": 243,
   "metadata": {},
   "outputs": [
    {
     "data": {
      "application/vnd.jupyter.widget-view+json": {
       "model_id": "8b9a1895f4314734b433fec0f317b960",
       "version_major": 2,
       "version_minor": 0
      },
      "text/plain": [
       "Canvas(toolbar=Toolbar(toolitems=[('Home', 'Reset original view', 'home', 'home'), ('Back', 'Back to previous …"
      ]
     },
     "metadata": {},
     "output_type": "display_data"
    },
    {
     "data": {
      "text/plain": [
       "<matplotlib.collections.PathCollection at 0x7fe7686e0630>"
      ]
     },
     "execution_count": 243,
     "metadata": {},
     "output_type": "execute_result"
    }
   ],
   "source": [
    "_,ax = plt.subplots()\n",
    "ax.scatter(range(len(phases4)), phases4)"
   ]
  },
  {
   "cell_type": "code",
   "execution_count": 244,
   "metadata": {},
   "outputs": [
    {
     "data": {
      "application/vnd.jupyter.widget-view+json": {
       "model_id": "f94af41a04bb44b199ccb26e78c47e8c",
       "version_major": 2,
       "version_minor": 0
      },
      "text/plain": [
       "Canvas(toolbar=Toolbar(toolitems=[('Home', 'Reset original view', 'home', 'home'), ('Back', 'Back to previous …"
      ]
     },
     "metadata": {},
     "output_type": "display_data"
    }
   ],
   "source": [
    "# amps = np.array(amps)\n",
    "amps3_tmp = np.array(amps4)\n",
    "_,ax = plt.subplots(figsize=(9.5,4))\n",
    "# scale = np.mean(amps4[50:90])/3*0.99\n",
    "\n",
    "# Perrinf\n",
    "ax.scatter(range(len(amps3_tmp)), amps3_tmp/scale, label='fit phase')\n",
    "# ax.scatter(range(len(amps3)), amps3/scale, label='fit fixed-phases')\n",
    "\n",
    "# ax.set(xlabel='dataset', ylabel='electron charges', ylim=(-0.2,8), xlim=(5,None))\n",
    "ax.grid(axis='y')\n",
    "ax.minorticks_on()\n",
    "ax.grid(which='major', linestyle='-', linewidth='0.5', color='red')\n",
    "ax.grid(which='minor', linestyle=':', linewidth='0.5', color='black')\n",
    "# ax.legend()\n",
    "from matplotlib.ticker import MaxNLocator\n",
    "ax.yaxis.set_major_locator(MaxNLocator(integer=True))"
   ]
  },
  {
   "cell_type": "code",
   "execution_count": 130,
   "metadata": {},
   "outputs": [
    {
     "data": {
      "text/plain": [
       "292.49050326857315"
      ]
     },
     "execution_count": 130,
     "metadata": {},
     "output_type": "execute_result"
    }
   ],
   "source": [
    "scale"
   ]
  },
  {
   "cell_type": "code",
   "execution_count": 12,
   "metadata": {},
   "outputs": [
    {
     "name": "stdout",
     "output_type": "stream",
     "text": [
      "Scale is  -292.490503269\n",
      "voltage:  35.9314358239\n"
     ]
    }
   ],
   "source": [
    "scaleZ = scale*-1\n",
    "print(\"Scale is \", scaleZ)\n",
    "bb = step_file_objs[-1]\n",
    "voltage = np.std(bb.other_data[2])*np.sqrt(2)*100\n",
    "print(\"voltage: \", voltage)"
   ]
  },
  {
   "cell_type": "code",
   "execution_count": 397,
   "metadata": {},
   "outputs": [],
   "source": [
    "ll = likelihood_analyser.LikelihoodAnalyser()\n",
    "bandwidth = 2\n",
    "decimate = 10\n",
    "drive_freq = 41\n",
    "def get_amp2(i):\n",
    "    \n",
    "    fname = r'/data/old_trap/20210910/bead1/single_electrode/y_electrode6_50Vpp_41Hz_'+str(i)+'.h5'\n",
    "\n",
    "    bb = bu.DataFile();\n",
    "    bb.load(fname);\n",
    "    bb.load_other_data()\n",
    "    \n",
    "    fit_kwargs = {'A': 0, 'f': drive_freq, 'phi': 0, \n",
    "                  'error_A': 1, 'error_f': 10, 'error_phi': 0.5, 'errordef': 1,\n",
    "                  'limit_phi': [-2 * np.pi, 2 * np.pi], \n",
    "                  'limit_A': [0, 10000], 'limit_f': [0, 100],\n",
    "                  'print_level': 0, 'fix_f': True, 'fix_phi': False}\n",
    "\n",
    "    frequency = fit_kwargs['f']\n",
    "\n",
    "    b, a = signal.butter(3, [2.*(drive_freq-bandwidth/2.)/fsamp, 2.*(drive_freq+bandwidth/2.)/fsamp ], btype = 'bandpass')\n",
    "    xx2 = signal.filtfilt(b, a, bb.other_data[2])[::decimate]\n",
    "    m1_tmp = ll.find_mle_sin(xx2, fsamp=5000/decimate, noise_rms=1, plot=False, suppress_print=True, **fit_kwargs)\n",
    "    \n",
    "    freq2 = np.fft.rfftfreq(len(bb.other_data[2]), d=1./5000)\n",
    "    fft_angles = np.angle(np.fft.rfft(bb.other_data[2]))\n",
    "\n",
    "    phi_tmp = m1_tmp.values[2]\n",
    "    phi_tmp2 = (fft_angles[freq2==drive_freq]+np.pi/2)%(2*np.pi)\n",
    "    print(phi_tmp, m1_tmp.values[0]*100)\n",
    "    \n",
    "    fit_kwargs = {'A': 0, 'f': drive_freq, 'phi': phi_tmp-2.7, \n",
    "                  'error_A': 1, 'error_f': 1, 'error_phi': 0.5, 'errordef': 1,\n",
    "                  'limit_phi': [-2 * np.pi, 2 * np.pi], \n",
    "                  'limit_A': [-10000, 10000], \n",
    "                  'print_level': 0, 'fix_f': True, 'fix_phi': True}\n",
    "\n",
    "    xx2 = signal.filtfilt(b, a, bb.pos_data[2])[::decimate]\n",
    "    \n",
    "    m1_tmp = ll.find_mle_sin(xx2, fsamp=5000/decimate, noise_rms=1, plot=False, suppress_print=True, **fit_kwargs)\n",
    "    \n",
    "    return m1_tmp.values[0]"
   ]
  },
  {
   "cell_type": "code",
   "execution_count": 398,
   "metadata": {},
   "outputs": [
    {
     "name": "stdout",
     "output_type": "stream",
     "text": [
      "Can't find/open HDF5 file : /data/old_trap/20210910/bead1/single_electrode/y_electrode6_50Vpp_41Hz_0.h5\n"
     ]
    },
    {
     "name": "stderr",
     "output_type": "stream",
     "text": [
      "Traceback (most recent call last):\n",
      "  File \"../../../../nadavp/opt_lev_analysis/lib/bead_data_funcs.py\", line 45, in getdata\n",
      "    f = h5py.File(fname,'r')\n",
      "  File \"/home/analysis_user/.local/lib/python3.6/site-packages/h5py/_hl/files.py\", line 394, in __init__\n",
      "    swmr=swmr)\n",
      "  File \"/home/analysis_user/.local/lib/python3.6/site-packages/h5py/_hl/files.py\", line 170, in make_fid\n",
      "    fid = h5f.open(name, flags, fapl=fapl)\n",
      "  File \"h5py/_objects.pyx\", line 54, in h5py._objects.with_phil.wrapper\n",
      "  File \"h5py/_objects.pyx\", line 55, in h5py._objects.with_phil.wrapper\n",
      "  File \"h5py/h5f.pyx\", line 85, in h5py.h5f.open\n",
      "OSError: Unable to open file (unable to open file: name = '/data/old_trap/20210910/bead1/single_electrode/y_electrode6_50Vpp_41Hz_0.h5', errno = 2, error message = 'No such file or directory', flags = 0, o_flags = 0)\n",
      "Traceback (most recent call last):\n",
      "  File \"../../../../nadavp/opt_lev_analysis/lib/bead_data_funcs.py\", line 45, in getdata\n",
      "    f = h5py.File(fname,'r')\n",
      "  File \"/home/analysis_user/.local/lib/python3.6/site-packages/h5py/_hl/files.py\", line 394, in __init__\n",
      "    swmr=swmr)\n",
      "  File \"/home/analysis_user/.local/lib/python3.6/site-packages/h5py/_hl/files.py\", line 170, in make_fid\n",
      "    fid = h5f.open(name, flags, fapl=fapl)\n",
      "  File \"h5py/_objects.pyx\", line 54, in h5py._objects.with_phil.wrapper\n",
      "  File \"h5py/_objects.pyx\", line 55, in h5py._objects.with_phil.wrapper\n",
      "  File \"h5py/h5f.pyx\", line 85, in h5py.h5f.open\n",
      "OSError: Unable to open file (unable to open file: name = '/data/old_trap/20210910/bead1/single_electrode/y_electrode6_50Vpp_41Hz_0.h5', errno = 2, error message = 'No such file or directory', flags = 0, o_flags = 0)\n"
     ]
    },
    {
     "ename": "KeyError",
     "evalue": "'Time'",
     "output_type": "error",
     "traceback": [
      "\u001b[0;31m---------------------------------------------------------------------------\u001b[0m",
      "\u001b[0;31mKeyError\u001b[0m                                  Traceback (most recent call last)",
      "\u001b[0;32m/home/nadavp/opt_lev_analysis/lib/bead_util.py\u001b[0m in \u001b[0;36mload\u001b[0;34m(self, fname, plot_raw_dat, plot_sync, load_other, skip_mon, load_all_pos, verbose, skip_fpga)\u001b[0m\n\u001b[1;32m    173\u001b[0m         \u001b[0;32mtry\u001b[0m\u001b[0;34m:\u001b[0m\u001b[0;34m\u001b[0m\u001b[0;34m\u001b[0m\u001b[0m\n\u001b[0;32m--> 174\u001b[0;31m             \u001b[0mself\u001b[0m\u001b[0;34m.\u001b[0m\u001b[0mtime\u001b[0m \u001b[0;34m=\u001b[0m \u001b[0mattribs\u001b[0m\u001b[0;34m[\u001b[0m\u001b[0;34m\"time\"\u001b[0m\u001b[0;34m]\u001b[0m\u001b[0;34m\u001b[0m\u001b[0;34m\u001b[0m\u001b[0m\n\u001b[0m\u001b[1;32m    175\u001b[0m         \u001b[0;32mexcept\u001b[0m\u001b[0;34m:\u001b[0m\u001b[0;34m\u001b[0m\u001b[0;34m\u001b[0m\u001b[0m\n",
      "\u001b[0;31mKeyError\u001b[0m: 'time'",
      "\nDuring handling of the above exception, another exception occurred:\n",
      "\u001b[0;31mKeyError\u001b[0m                                  Traceback (most recent call last)",
      "\u001b[0;32m<ipython-input-398-e24dada639c8>\u001b[0m in \u001b[0;36m<module>\u001b[0;34m\u001b[0m\n\u001b[1;32m      1\u001b[0m \u001b[0mi\u001b[0m\u001b[0;34m=\u001b[0m\u001b[0;36m0\u001b[0m\u001b[0;34m\u001b[0m\u001b[0;34m\u001b[0m\u001b[0m\n\u001b[0;32m----> 2\u001b[0;31m \u001b[0mget_amp2\u001b[0m\u001b[0;34m(\u001b[0m\u001b[0mi\u001b[0m\u001b[0;34m)\u001b[0m\u001b[0;34m\u001b[0m\u001b[0;34m\u001b[0m\u001b[0m\n\u001b[0m",
      "\u001b[0;32m<ipython-input-397-8e3bcb9519ab>\u001b[0m in \u001b[0;36mget_amp2\u001b[0;34m(i)\u001b[0m\n\u001b[1;32m      8\u001b[0m \u001b[0;34m\u001b[0m\u001b[0m\n\u001b[1;32m      9\u001b[0m     \u001b[0mbb\u001b[0m \u001b[0;34m=\u001b[0m \u001b[0mbu\u001b[0m\u001b[0;34m.\u001b[0m\u001b[0mDataFile\u001b[0m\u001b[0;34m(\u001b[0m\u001b[0;34m)\u001b[0m\u001b[0;34m;\u001b[0m\u001b[0;34m\u001b[0m\u001b[0;34m\u001b[0m\u001b[0m\n\u001b[0;32m---> 10\u001b[0;31m     \u001b[0mbb\u001b[0m\u001b[0;34m.\u001b[0m\u001b[0mload\u001b[0m\u001b[0;34m(\u001b[0m\u001b[0mfname\u001b[0m\u001b[0;34m)\u001b[0m\u001b[0;34m;\u001b[0m\u001b[0;34m\u001b[0m\u001b[0;34m\u001b[0m\u001b[0m\n\u001b[0m\u001b[1;32m     11\u001b[0m     \u001b[0mbb\u001b[0m\u001b[0;34m.\u001b[0m\u001b[0mload_other_data\u001b[0m\u001b[0;34m(\u001b[0m\u001b[0;34m)\u001b[0m\u001b[0;34m\u001b[0m\u001b[0;34m\u001b[0m\u001b[0m\n\u001b[1;32m     12\u001b[0m \u001b[0;34m\u001b[0m\u001b[0m\n",
      "\u001b[0;32m/home/nadavp/opt_lev_analysis/lib/bead_util.py\u001b[0m in \u001b[0;36mload\u001b[0;34m(self, fname, plot_raw_dat, plot_sync, load_other, skip_mon, load_all_pos, verbose, skip_fpga)\u001b[0m\n\u001b[1;32m    174\u001b[0m             \u001b[0mself\u001b[0m\u001b[0;34m.\u001b[0m\u001b[0mtime\u001b[0m \u001b[0;34m=\u001b[0m \u001b[0mattribs\u001b[0m\u001b[0;34m[\u001b[0m\u001b[0;34m\"time\"\u001b[0m\u001b[0;34m]\u001b[0m\u001b[0;34m\u001b[0m\u001b[0;34m\u001b[0m\u001b[0m\n\u001b[1;32m    175\u001b[0m         \u001b[0;32mexcept\u001b[0m\u001b[0;34m:\u001b[0m\u001b[0;34m\u001b[0m\u001b[0;34m\u001b[0m\u001b[0m\n\u001b[0;32m--> 176\u001b[0;31m             \u001b[0mself\u001b[0m\u001b[0;34m.\u001b[0m\u001b[0mtime\u001b[0m \u001b[0;34m=\u001b[0m \u001b[0mattribs\u001b[0m\u001b[0;34m[\u001b[0m\u001b[0;34m\"Time\"\u001b[0m\u001b[0;34m]\u001b[0m\u001b[0;34m\u001b[0m\u001b[0;34m\u001b[0m\u001b[0m\n\u001b[0m\u001b[1;32m    177\u001b[0m \u001b[0;34m\u001b[0m\u001b[0m\n\u001b[1;32m    178\u001b[0m         \u001b[0;32mif\u001b[0m \u001b[0mself\u001b[0m\u001b[0;34m.\u001b[0m\u001b[0mtime\u001b[0m \u001b[0;34m==\u001b[0m \u001b[0;36m0\u001b[0m\u001b[0;34m:\u001b[0m\u001b[0;34m\u001b[0m\u001b[0;34m\u001b[0m\u001b[0m\n",
      "\u001b[0;31mKeyError\u001b[0m: 'Time'"
     ]
    }
   ],
   "source": [
    "i=0\n",
    "get_amp2(i)"
   ]
  },
  {
   "cell_type": "code",
   "execution_count": 89,
   "metadata": {
    "scrolled": true
   },
   "outputs": [
    {
     "name": "stdout",
     "output_type": "stream",
     "text": [
      "0 /20\n",
      "2.2624597301783584 0.0018430605930319643\n",
      "1 /20\n",
      "2.091274835972479 0.001943517291547181\n",
      "2 /20\n",
      "-0.18344526200203592 0.0019588708988216297\n",
      "3 /20\n",
      "3.3078385541100204 0.0019950590068873453\n",
      "4 /20\n",
      "-1.4150070502814085 0.001999924836848521\n",
      "5 /20\n",
      "-1.6463525127471739 0.0020120159982539576\n",
      "6 /20\n",
      "2.635149412057153 0.0018437735782583786\n",
      "7 /20\n",
      "-3.8273011965490866 0.0016930511437251994\n",
      "8 /20\n",
      "0.35164270680282605 0.0019967768549733478\n",
      "9 /20\n",
      "0.647150232057915 0.0019674503692890255\n",
      "10 /20\n",
      "0.17586295841029997 0.0019467317757815294\n",
      "11 /20\n",
      "-6.280886274891358 0.020184307503168242\n",
      "12 /20\n",
      "0.5376345399919442 0.0019509382442883805\n",
      "13 /20\n",
      "2.080224090873317 0.001957290329812622\n",
      "14 /20\n",
      "-1.6988046652447517 0.0018456617900675099\n",
      "15 /20\n",
      "2.9926664955846984 0.0018210537522378445\n",
      "16 /20\n",
      "2.9387131113952734 0.002114460440072463\n",
      "17 /20\n",
      "0.1733643797407174 0.0019758457092677872\n",
      "18 /20\n",
      "3.074268469721538 0.0017413083752693126\n",
      "19 /20\n",
      "-0.25550902468302095 0.0020134809930461017\n"
     ]
    }
   ],
   "source": [
    "amps_elec5 = []\n",
    "for i in range(20):\n",
    "    print(i,'/20')\n",
    "    try:\n",
    "        amps_elec5.append(get_amp2(i))\n",
    "    except:\n",
    "        print(\"******\")\n",
    "amps_elec5 = np.array(amps_elec5)"
   ]
  },
  {
   "cell_type": "code",
   "execution_count": 183,
   "metadata": {},
   "outputs": [
    {
     "name": "stdout",
     "output_type": "stream",
     "text": [
      "electrodes response - x:  3771.36273158 -3328.83483844 -1.13293777391\n",
      "electrodes response - z:  4931.41581757 -6129.84939733 -0.80449216578\n"
     ]
    }
   ],
   "source": [
    "response_elec3 = np.mean(amps_elec3)\n",
    "response_elec4 = np.mean(amps_elec4)\n",
    "print('electrodes response - x: ', response_elec3, response_elec4, response_elec3/response_elec4)\n",
    "\n",
    "response_elec5 = np.mean(amps_elec5)\n",
    "# response_elec6 = np.mean(amps_elec6)\n",
    "# print('electrodes response - y: ', response_elec5, response_elec6, response_elec5/response_elec6)\n",
    "\n",
    "response_elec1 = np.mean(amps_elec1)\n",
    "response_elec2 = np.mean(amps_elec2)\n",
    "print('electrodes response - z: ', response_elec1, response_elec2, response_elec1/response_elec2)\n",
    "\n",
    "# print('2nd harmonic: ', np.mean(amps_y_82Hz), scaleY)\n",
    "# response_elec5"
   ]
  },
  {
   "cell_type": "code",
   "execution_count": 174,
   "metadata": {},
   "outputs": [
    {
     "name": "stdout",
     "output_type": "stream",
     "text": [
      "-245.761425313 -382.86713548\n"
     ]
    }
   ],
   "source": [
    "# scaleY = scale*(response_elec4-response_elec5)/(response_elec2-response_elec3)\n",
    "scaleZ = scale*(response_elec1-response_elec2)/(response_elec3-response_elec4)\n",
    "print(scale, scaleZ)"
   ]
  },
  {
   "cell_type": "code",
   "execution_count": 175,
   "metadata": {},
   "outputs": [],
   "source": [
    "scale, scaleZ = (-245.761425313, -382.86713548)"
   ]
  },
  {
   "cell_type": "code",
   "execution_count": 188,
   "metadata": {},
   "outputs": [
    {
     "data": {
      "application/vnd.jupyter.widget-view+json": {
       "model_id": "a7a3430e51a14d73a65434192a102dc1",
       "version_major": 2,
       "version_minor": 0
      },
      "text/plain": [
       "Canvas(toolbar=Toolbar(toolitems=[('Home', 'Reset original view', 'home', 'home'), ('Back', 'Back to previous …"
      ]
     },
     "metadata": {},
     "output_type": "display_data"
    },
    {
     "name": "stdout",
     "output_type": "stream",
     "text": [
      "4278.67333736 9.74884202318\n",
      "4134.20916265 14.8038215541\n",
      "1.03494360566 0.00439255803019\n"
     ]
    }
   ],
   "source": [
    "_,ax = plt.subplots()\n",
    "ax.scatter(range(20), np.abs(amps_elec4))\n",
    "ax.scatter(range(20), np.abs(amps_elec5))\n",
    "x = np.mean(np.abs(amps_elec4)); dx = np.std(np.abs(amps_elec4))/np.sqrt(20)\n",
    "y = np.mean(np.abs(amps_elec5)); dy = np.std(np.abs(amps_elec5))/np.sqrt(20)\n",
    "z = x/y; dz = np.abs(x/y)*np.sqrt((dx/x)**2+(dy/y)**2)\n",
    "print(x, dx)\n",
    "print(y, dy)\n",
    "print(z, dz)"
   ]
  },
  {
   "cell_type": "markdown",
   "metadata": {},
   "source": [
    "### Look at neutrality data"
   ]
  },
  {
   "cell_type": "code",
   "execution_count": 504,
   "metadata": {},
   "outputs": [],
   "source": [
    "ll = likelihood_analyser.LikelihoodAnalyser()\n",
    "bandwidth = 2\n",
    "decimate = 10\n",
    "drive_freq = 41\n",
    "def get_amp(i):\n",
    "    \n",
    "    fname = r'/data/old_trap/20210910/bead1/neutrality/z_both_50Vpp_41Hz_delay_10s_spin_xy_25kHz_350Vpp_height_0_files_1000/neutrality_z_50Vpp_41Hz_spin_xy_25kHz_350Vpp_'+str(i)+'.h5'\n",
    "    \n",
    "    drive_freq = 41\n",
    "    bb = bu.DataFile();\n",
    "    bb.load(fname);\n",
    "    bb.load_other_data()\n",
    "    \n",
    "    ## EXCTRACT DIRCE PHASE\n",
    "    fit_kwargs = {'A': 0, 'f': drive_freq, 'phi': 0, \n",
    "                  'error_A': 1, 'error_f': 10, 'error_phi': 0.5, 'errordef': 1,\n",
    "                  'limit_phi': [-2 * np.pi, 2 * np.pi], \n",
    "                  'limit_A': [0, 10000], 'limit_f': [0, 100], \n",
    "                  'print_level': 0, 'fix_f': True, 'fix_phi': False}\n",
    "\n",
    "    frequency = fit_kwargs['f']\n",
    "\n",
    "    b, a = signal.butter(3, [2.*(drive_freq-bandwidth/2.)/fsamp, 2.*(drive_freq+bandwidth/2.)/fsamp ], btype = 'bandpass')\n",
    "    xx2 = signal.filtfilt(b, a, bb.other_data[2])[::decimate]\n",
    "    m1_tmp = ll.find_mle_sin(xx2, fsamp=5000/decimate, noise_rms=1, plot=False, suppress_print=True, **fit_kwargs)\n",
    "    phi_tmp = m1_tmp.values[2]\n",
    "\n",
    "    ## CHEKC WITH SIMPLE METHOD\n",
    "#     freq2 = np.fft.rfftfreq(len(bb.other_data[2]), d=1./5000)\n",
    "#     fft_angles = np.angle(np.fft.rfft(bb.other_data[2]))\n",
    "#     phi_tmp2 = (fft_angles[freq2==drive_freq]+np.pi/2)%(2*np.pi)\n",
    "#     print(phi_tmp, phi_tmp2, m1_tmp.values[0]*100, np.std(xx2)*np.sqrt(2)*100)\n",
    "    \n",
    "    ## EXCTRAT FIRST HARMONIC IN-PHASE RESPONSE\n",
    "    fit_kwargs = {'A': 0, 'f': drive_freq, 'phi': phi_tmp-2.7, 'sigma': 4000,\n",
    "                  'error_A': 1, 'error_f': 1, 'error_phi': 0.5, 'errordef': 1, 'error_sigma':100,\n",
    "                  'limit_phi': [-2 * np.pi, 2 * np.pi], \n",
    "                  'limit_A': [-100000, 100000], \n",
    "                  'print_level': 0, 'fix_f': True, 'fix_phi': True}\n",
    "\n",
    "    xx2 = signal.filtfilt(b, a, bb.pos_data[2])[::decimate]\n",
    "\n",
    "    m1_tmp = ll.find_mle_sin(xx2, fsamp=5000/decimate, noise_rms=1, plot=False, suppress_print=True, **fit_kwargs)\n",
    "    \n",
    "    ## EXCTRAT SECOND HARMONIC IN-PHASE RESPONSE\n",
    "    drive_freq = 82\n",
    "    fit_kwargs = {'A': 0, 'f': drive_freq, 'phi': phi_tmp+np.pi/2, \n",
    "                  'error_A': 1, 'error_f': 1, 'error_phi': 0.5, 'errordef': 1,\n",
    "                  'limit_phi': [-np.pi, np.pi], \n",
    "                  'limit_A': [0, 100000], \n",
    "                  'print_level': 0, 'fix_f': True, 'fix_phi': False}\n",
    "\n",
    "        \n",
    "    b, a = signal.butter(3, [2.*(drive_freq-bandwidth/2.)/fsamp, 2.*(drive_freq+bandwidth/2.)/fsamp ], btype = 'bandpass')\n",
    "    xx2 = signal.filtfilt(b, a, bb.pos_data[0])[::decimate]\n",
    "    \n",
    "    m2_tmp = ll.find_mle_sin(xx2, fsamp=5000/decimate, noise_rms=1, plot=False, suppress_print=True, **fit_kwargs)\n",
    "#     print(m1_tmp.values)\n",
    "    return m1_tmp.values[0], m1_tmp.values[3], m2_tmp.values[0], m1_tmp.fval"
   ]
  },
  {
   "cell_type": "code",
   "execution_count": 505,
   "metadata": {},
   "outputs": [
    {
     "data": {
      "text/plain": [
       "(-3.366012416110607, 4865.498513744532, 6.873981382149452, 17.98110367429522)"
      ]
     },
     "execution_count": 505,
     "metadata": {},
     "output_type": "execute_result"
    }
   ],
   "source": [
    "i=1\n",
    "get_amp(i)"
   ]
  },
  {
   "cell_type": "code",
   "execution_count": 506,
   "metadata": {},
   "outputs": [
    {
     "name": "stdout",
     "output_type": "stream",
     "text": [
      "voltage:  35.9314358239 -0.577892118715 -0.559357289998\n",
      "voltage:  23.8474038331\n"
     ]
    }
   ],
   "source": [
    "i = 0\n",
    "fname = r'/data/old_trap/20210910/bead1/neutrality/z_both_50Vpp_41Hz_delay_10s_spin_xy_25kHz_350Vpp_height_0_files_1000/neutrality_z_50Vpp_41Hz_spin_xy_25kHz_350Vpp_'+str(i)+'.h5'\n",
    "bb = bu.DataFile();\n",
    "bb.load(fname);\n",
    "bb.load_other_data()\n",
    "print(\"voltage: \", voltage, np.mean(bb.other_data[1])*100, np.mean(bb.other_data[2])*100)\n",
    "drive_freq = 41\n",
    "bandwidth=10\n",
    "b, a = signal.butter(3, [2.*(drive_freq-bandwidth/2.)/fsamp, 2.*(drive_freq+bandwidth/2.)/fsamp ], btype = 'bandpass')\n",
    "xx2 = signal.filtfilt(b, a, bb.other_data[2])\n",
    "voltage50 = np.std(xx2)*np.sqrt(2)*100\n",
    "print(\"voltage: \", voltage50)"
   ]
  },
  {
   "cell_type": "code",
   "execution_count": 507,
   "metadata": {},
   "outputs": [
    {
     "data": {
      "text/plain": [
       "(35.931435823903442, 35.771899057134412, 23.847403833072526)"
      ]
     },
     "execution_count": 507,
     "metadata": {},
     "output_type": "execute_result"
    }
   ],
   "source": [
    "voltage, voltage75, voltage50"
   ]
  },
  {
   "cell_type": "code",
   "execution_count": 515,
   "metadata": {
    "scrolled": true
   },
   "outputs": [],
   "source": [
    "# amps_w_fb_spin_xy_350V_z_50V_delay = []\n",
    "# for i in range(90):\n",
    "#     print(i,'/500')\n",
    "#     try:\n",
    "#         amps_w_fb_spin_xy_350V_z_50V_delay.append(get_amp(i))\n",
    "#     except:\n",
    "#         print(\"******\")\n",
    "# amps_w_fb_spin_xy_350V_z_50V_delay = np.array(amps_w_fb_spin_xy_350V_z_50V_delay)"
   ]
  },
  {
   "cell_type": "code",
   "execution_count": 524,
   "metadata": {
    "scrolled": true
   },
   "outputs": [
    {
     "name": "stderr",
     "output_type": "stream",
     "text": [
      "100%|██████████| 1000/1000 [00:22<00:00, 63.51it/s]\n"
     ]
    }
   ],
   "source": [
    "amps_w_fb_spin_xy_350V_z_50V_delay = np.array(Parallel(n_jobs=40)(delayed(get_amp)(i) for i in tqdm(range((1000)))))"
   ]
  },
  {
   "cell_type": "code",
   "execution_count": 453,
   "metadata": {},
   "outputs": [
    {
     "data": {
      "text/plain": [
       "24578.695627170564"
      ]
     },
     "execution_count": 453,
     "metadata": {},
     "output_type": "execute_result"
    }
   ],
   "source": [
    "fvals = amps_w_fb_spin_xy_200V_z_75V_delay[:,1]\n",
    "thres = np.mean(fvals)+2*np.std(fvals)\n",
    "thres"
   ]
  },
  {
   "cell_type": "code",
   "execution_count": 478,
   "metadata": {},
   "outputs": [
    {
     "data": {
      "application/vnd.jupyter.widget-view+json": {
       "model_id": "278b7e9c321d4295bee68f9bd6ddaa2a",
       "version_major": 2,
       "version_minor": 0
      },
      "text/plain": [
       "Canvas(toolbar=Toolbar(toolitems=[('Home', 'Reset original view', 'home', 'home'), ('Back', 'Back to previous …"
      ]
     },
     "metadata": {},
     "output_type": "display_data"
    },
    {
     "data": {
      "text/plain": [
       "<matplotlib.collections.PathCollection at 0x7fb087d3e6a0>"
      ]
     },
     "execution_count": 478,
     "metadata": {},
     "output_type": "execute_result"
    }
   ],
   "source": [
    "i=0; j=2\n",
    "_,ax = plt.subplots()\n",
    "dat = amps_w_fb_spin_xy_200V_z_75V_delay\n",
    "ax.scatter(dat[:,i], dat[:,j])"
   ]
  },
  {
   "cell_type": "code",
   "execution_count": 134,
   "metadata": {},
   "outputs": [],
   "source": [
    "dat = amps_w_fb_spin_xz_50V_x_50V_delay\n",
    "thresh = 22\n",
    "amps_w_fb_spin_xz_50V_x_50V_delay_2 = np.array([aa for aa,bb in zip(dat,dat[:,3]) if (bb<thresh)])"
   ]
  },
  {
   "cell_type": "code",
   "execution_count": 135,
   "metadata": {},
   "outputs": [
    {
     "data": {
      "text/plain": [
       "(1992, 4000)"
      ]
     },
     "execution_count": 135,
     "metadata": {},
     "output_type": "execute_result"
    }
   ],
   "source": [
    "len(amps_w_fb_spin_xz_100V_x_50V_delay_2), len(dat)"
   ]
  },
  {
   "cell_type": "code",
   "execution_count": 525,
   "metadata": {},
   "outputs": [
    {
     "data": {
      "application/vnd.jupyter.widget-view+json": {
       "model_id": "8a909ad8487246e2a5b7a1d2b7eca25a",
       "version_major": 2,
       "version_minor": 0
      },
      "text/plain": [
       "Canvas(toolbar=Toolbar(toolitems=[('Home', 'Reset original view', 'home', 'home'), ('Back', 'Back to previous …"
      ]
     },
     "metadata": {},
     "output_type": "display_data"
    },
    {
     "name": "stdout",
     "output_type": "stream",
     "text": [
      "mean, std:  -0.106511722975 0.00320838242352\n",
      "mean, std:  0.0490217108544 0.00242508557425\n"
     ]
    }
   ],
   "source": [
    "j = 0\n",
    "data = amps_w_fb_spin_xy_200V_z_75V_delay[:,j]/scaleZ*voltage/voltage75\n",
    "data2 = amps_w_fb_spin_xy_350V_z_50V_delay[:,j]/scaleZ*voltage/voltage50\n",
    "\n",
    "_, ax= plt.subplots(figsize=(9.5,4))\n",
    "ax.scatter(range(len(data)), data, label='75Vpp-z, xy-spin-200V')\n",
    "ax.scatter(range(len(data2)), data2, label='75Vpp-z, xy-spin-200V')\n",
    "ax.plot(np.arange(0,1000), np.arange(0,1000)*0, '--k')\n",
    "\n",
    "ax.set(xlabel='Dataset', ylabel=r'$\\epsilon$')\n",
    "ax.legend()\n",
    "print('mean, std: ', np.mean(data), np.std(data)/np.sqrt(len(data)))\n",
    "print('mean, std: ', np.mean(data2), np.std(data2)/np.sqrt(len(data2)))"
   ]
  },
  {
   "cell_type": "code",
   "execution_count": 163,
   "metadata": {},
   "outputs": [
    {
     "data": {
      "application/vnd.jupyter.widget-view+json": {
       "model_id": "aacd9d0bb3d440f08ecd1be0a3a89ab2",
       "version_major": 2,
       "version_minor": 0
      },
      "text/plain": [
       "Canvas(toolbar=Toolbar(toolitems=[('Home', 'Reset original view', 'home', 'home'), ('Back', 'Back to previous …"
      ]
     },
     "metadata": {},
     "output_type": "display_data"
    },
    {
     "data": {
      "text/plain": [
       "<matplotlib.legend.Legend at 0x7f0c41a68438>"
      ]
     },
     "execution_count": 163,
     "metadata": {},
     "output_type": "execute_result"
    }
   ],
   "source": [
    "from scipy.optimize import curve_fit\n",
    "from scipy import asarray as ar,exp\n",
    "\n",
    "range_pram = 0.15\n",
    "_,ax = plt.subplots()\n",
    "entries, bins, patches = ax.hist(data, bins=30, range=(-range_pram, range_pram), label='50V-x, xz-spin-100V')\n",
    "entries2, bins, patches = ax.hist(data2, bins=30, range=(-range_pram, range_pram), label='50V-x, xz-spin-50V', alpha=0.6)\n",
    "entries3, bins, patches = ax.hist(data3, bins=30, range=(-range_pram, range_pram), label='25V-x, xz-spin-100V', alpha=0.6)\n",
    "ax.set(xlabel=r'$\\epsilon$')\n",
    "ax.legend()"
   ]
  },
  {
   "cell_type": "code",
   "execution_count": 168,
   "metadata": {},
   "outputs": [
    {
     "name": "stdout",
     "output_type": "stream",
     "text": [
      "mean:  -0.000909706807534 std:  0.000522573660436\n",
      "mean:  -0.0013819508139 std:  0.00057092062916\n",
      "mean:  -0.000573594379017 std:  0.00132992511715\n"
     ]
    },
    {
     "name": "stderr",
     "output_type": "stream",
     "text": [
      "/home/analysis_user/.local/lib/python3.6/site-packages/ipykernel_launcher.py:19: RuntimeWarning: invalid value encountered in sqrt\n",
      "/home/analysis_user/.local/lib/python3.6/site-packages/ipykernel_launcher.py:19: RuntimeWarning: invalid value encountered in sqrt\n"
     ]
    }
   ],
   "source": [
    "## gaussian fit to the histogram\n",
    "\n",
    "bins_fit =[(bins[i+1]-bins[i])/2+bins[i] for i in range(len(entries))]\n",
    "\n",
    "for i,ee in enumerate([entries, entries2, entries3]):\n",
    "    x = bins_fit\n",
    "    y= ee/40\n",
    "\n",
    "    n = len(x)                          #the number of data\n",
    "    mean = sum(x*y)/n                   #note this correction\n",
    "    sigma = sum(y*(x-mean)**2)/n        #note this correction\n",
    "\n",
    "    def gaus(x,a,x0,sigma):\n",
    "        return a*np.exp(-(x-x0)**2/(2*sigma**2))\n",
    "\n",
    "    popt,pcov = curve_fit(gaus,x,y,p0=[1,mean,sigma])\n",
    "    ax.plot(x,gaus(x,*popt)*40,'ro:',label='fit')\n",
    "\n",
    "    print(\"mean: \", popt[1], \"std: \", np.sqrt(pcov)[1,1])"
   ]
  },
  {
   "cell_type": "code",
   "execution_count": 119,
   "metadata": {},
   "outputs": [
    {
     "data": {
      "application/vnd.jupyter.widget-view+json": {
       "model_id": "c1a3c18b8763441fbfe2061054314a0b",
       "version_major": 2,
       "version_minor": 0
      },
      "text/plain": [
       "Canvas(toolbar=Toolbar(toolitems=[('Home', 'Reset original view', 'home', 'home'), ('Back', 'Back to previous …"
      ]
     },
     "metadata": {},
     "output_type": "display_data"
    },
    {
     "data": {
      "text/plain": [
       "<matplotlib.legend.Legend at 0x7f4f77d8c3c8>"
      ]
     },
     "execution_count": 119,
     "metadata": {},
     "output_type": "execute_result"
    }
   ],
   "source": [
    "datasets = [amps_wo_fb_spin_zx_75V_x_20V,amps_wo_fb_spin_zx_100V_x_25V, amps_wo_fb_spin_zx_150V_x_25V]\n",
    "voltages = [voltage20, voltage25, voltage25]\n",
    "spin_voltage = [75,100, 150]\n",
    "means = []\n",
    "errors = []\n",
    "for dat,vv in zip(datasets, voltages):\n",
    "    means.append(np.mean(dat[:,0])/scale*voltage/vv)\n",
    "    errors.append(np.std(dat[:,0])/scale*voltage/vv/np.sqrt(len(dat[:,0])))\n",
    "\n",
    "_,ax = plt.subplots()\n",
    "ax.errorbar(spin_voltage, means, yerr=errors, fmt='o', label='zx plane spin')\n",
    "ax.set(xlabel='Spin voltage', ylabel=r'$\\epsilon$', xlim=(20,160), ylim=(-0.001,0.01))\n",
    "\n",
    "datasets = [amps_wo_fb_spin_xy_30V_x_20V,amps_wo_fb_spin_xy_75V_x_20V, amps_wo_fb_spin_xy_100V_x_20V]\n",
    "voltages = [voltage20, voltage20, voltage20]\n",
    "spin_voltage = [30,75, 100]\n",
    "means2 = []\n",
    "errors2 = []\n",
    "for dat,vv in zip(datasets, voltages):\n",
    "    means2.append(np.mean(dat[:,0])/scale*voltage/vv)\n",
    "    errors2.append(np.std(dat[:,0])/scale*voltage/vv/np.sqrt(len(dat[:,0])))\n",
    "\n",
    "ax.errorbar(spin_voltage, means, yerr=errors, fmt='o', label='xy plane spin')\n",
    "ax.plot(np.arange(20,160), np.arange(20,160)*0, '--r')\n",
    "ax.legend()"
   ]
  },
  {
   "cell_type": "code",
   "execution_count": 384,
   "metadata": {},
   "outputs": [
    {
     "data": {
      "application/vnd.jupyter.widget-view+json": {
       "model_id": "77e7ed2fbd73425caa1d614fc4d17817",
       "version_major": 2,
       "version_minor": 0
      },
      "text/plain": [
       "Canvas(toolbar=Toolbar(toolitems=[('Home', 'Reset original view', 'home', 'home'), ('Back', 'Back to previous …"
      ]
     },
     "metadata": {},
     "output_type": "display_data"
    },
    {
     "name": "stdout",
     "output_type": "stream",
     "text": [
      "mean, std:  0.00543937010689 0.000832138675641\n",
      "mean, std:  0.00364790172652 0.000627235885947\n"
     ]
    }
   ],
   "source": [
    "j = 0\n",
    "data = amps_with_fb_spin_xy_100V_x_20V_delay_2[:,j]/scale*voltage/voltage20_1\n",
    "data2 = amps_wo_fb_spin_zx_100V_x_25V[:,j]/scale*voltage/voltage25\n",
    "\n",
    "_, ax= plt.subplots(figsize=(9.5,4))\n",
    "ax.scatter(range(len(data)), data, label='20V-x, xy-spin-100V, w/ delay, w/ height fb')\n",
    "ax.scatter(range(len(data2)), data2, label='25V-x, xy-spin-100V, w/ delay, w/o height fb')\n",
    "\n",
    "ax.plot(np.arange(0,3000), np.arange(0,3000)*0, '--k')\n",
    "ax.set(xlabel='Dataset', ylabel=r'$\\epsilon$')\n",
    "ax.legend()\n",
    "print('mean, std: ',np.mean(data), np.std(data)/np.sqrt(len(data)))\n",
    "print('mean, std: ', np.mean(data2), np.std(data2)/np.sqrt(len(data2)))"
   ]
  },
  {
   "cell_type": "code",
   "execution_count": 181,
   "metadata": {},
   "outputs": [
    {
     "data": {
      "application/vnd.jupyter.widget-view+json": {
       "model_id": "cc191845f1264e8f9a06bac339d0f44b",
       "version_major": 2,
       "version_minor": 0
      },
      "text/plain": [
       "Canvas(toolbar=Toolbar(toolitems=[('Home', 'Reset original view', 'home', 'home'), ('Back', 'Back to previous …"
      ]
     },
     "metadata": {},
     "output_type": "display_data"
    },
    {
     "data": {
      "text/plain": [
       "<matplotlib.legend.Legend at 0x7f4f75b30dd8>"
      ]
     },
     "execution_count": 181,
     "metadata": {},
     "output_type": "execute_result"
    }
   ],
   "source": [
    "datasets = [amps_wo_fb_spin_xy_100V_x_20V2[1200:],amps_wo_fb_spin_xy_100V_x_50V_delay2, amps_wo_fb_spin_xy_100V_x_100V_delay2]\n",
    "spin_voltage = [20,50, 100]\n",
    "means = []\n",
    "errors = []\n",
    "for dat,vv in zip(datasets, voltages):\n",
    "    means.append(np.mean(dat))\n",
    "    errors.append(np.std(dat)/np.sqrt(len(dat)))\n",
    "\n",
    "_,ax = plt.subplots()\n",
    "ax.errorbar(spin_voltage, means, yerr=errors, fmt='o', label='xy plane spin, 100V')\n",
    "ax.plot(np.arange(15,110), np.arange(15,110)*0, '--r')\n",
    "ax.set(xlabel='Oscillating voltage', ylabel=r'$\\epsilon$', xlim=(15,110), ylim=(-0.001,0.004))\n",
    "ax.legend()"
   ]
  },
  {
   "cell_type": "code",
   "execution_count": null,
   "metadata": {},
   "outputs": [],
   "source": []
  },
  {
   "cell_type": "code",
   "execution_count": 143,
   "metadata": {},
   "outputs": [],
   "source": [
    "def get_dcV(i):\n",
    "    \n",
    "    fname = r'/data/old_trap/20210715/bead2/neutrality/no_height_fb_electrodes_x_20V_41_Hz_spin_xy_30V_50kHz_files_3000/turbombar_powfb_xyzcool_'+str(i)+'.h5'\n",
    "    bb = bu.DataFile();\n",
    "    bb.load(fname);\n",
    "    bb.load_other_data()\n",
    "    return np.mean(bb.other_data[:,5000:85000], axis=1)*100"
   ]
  },
  {
   "cell_type": "code",
   "execution_count": 146,
   "metadata": {},
   "outputs": [
    {
     "data": {
      "text/plain": [
       "array([-3.79819842, -0.56254724, -0.57267787,  0.66225783,  0.92968812,\n",
       "       -0.39438807, -0.0508512 ,  0.22620381])"
      ]
     },
     "execution_count": 146,
     "metadata": {},
     "output_type": "execute_result"
    }
   ],
   "source": [
    "get_dcV(0)"
   ]
  },
  {
   "cell_type": "code",
   "execution_count": 144,
   "metadata": {
    "scrolled": true
   },
   "outputs": [
    {
     "name": "stderr",
     "output_type": "stream",
     "text": [
      "\n",
      "  0%|          | 0/3000 [00:00<?, ?it/s]\u001b[A\n",
      "  5%|▌         | 160/3000 [00:00<00:08, 344.50it/s]\u001b[A\n",
      "  8%|▊         | 240/3000 [00:00<00:08, 344.63it/s]\u001b[A\n",
      " 11%|█         | 320/3000 [00:01<00:08, 319.13it/s]\u001b[A\n",
      " 13%|█▎        | 400/3000 [00:01<00:08, 315.05it/s]\u001b[A\n",
      " 16%|█▌        | 480/3000 [00:01<00:08, 311.91it/s]\u001b[A\n",
      " 19%|█▊        | 560/3000 [00:01<00:08, 290.42it/s]\u001b[A\n",
      " 21%|██▏       | 640/3000 [00:02<00:07, 306.35it/s]\u001b[A\n",
      " 24%|██▍       | 720/3000 [00:02<00:07, 311.11it/s]\u001b[A\n",
      " 27%|██▋       | 800/3000 [00:02<00:07, 302.12it/s]\u001b[A\n",
      " 29%|██▉       | 880/3000 [00:02<00:07, 296.32it/s]\u001b[A\n",
      " 32%|███▏      | 960/3000 [00:03<00:07, 288.74it/s]\u001b[A\n",
      " 35%|███▍      | 1040/3000 [00:03<00:06, 302.20it/s]\u001b[A\n",
      " 37%|███▋      | 1120/3000 [00:03<00:06, 296.34it/s]\u001b[A\n",
      " 40%|████      | 1200/3000 [00:03<00:05, 301.48it/s]\u001b[A\n",
      " 43%|████▎     | 1280/3000 [00:04<00:05, 304.08it/s]\u001b[A\n",
      " 45%|████▌     | 1360/3000 [00:04<00:05, 320.89it/s]\u001b[A\n",
      " 48%|████▊     | 1440/3000 [00:04<00:04, 313.33it/s]\u001b[A\n",
      " 51%|█████     | 1520/3000 [00:04<00:04, 303.54it/s]\u001b[A\n",
      " 53%|█████▎    | 1600/3000 [00:05<00:04, 301.99it/s]\u001b[A\n",
      " 56%|█████▌    | 1680/3000 [00:05<00:04, 304.96it/s]\u001b[A\n",
      " 59%|█████▊    | 1760/3000 [00:05<00:03, 313.54it/s]\u001b[A\n",
      " 61%|██████▏   | 1840/3000 [00:05<00:03, 324.58it/s]\u001b[A\n",
      " 64%|██████▍   | 1920/3000 [00:06<00:03, 327.65it/s]\u001b[A\n",
      " 67%|██████▋   | 2000/3000 [00:06<00:03, 319.44it/s]\u001b[A\n",
      " 69%|██████▉   | 2080/3000 [00:06<00:02, 323.62it/s]\u001b[A\n",
      " 72%|███████▏  | 2160/3000 [00:07<00:02, 297.28it/s]\u001b[A\n",
      " 75%|███████▍  | 2240/3000 [00:07<00:02, 303.23it/s]\u001b[A\n",
      " 77%|███████▋  | 2320/3000 [00:07<00:02, 318.88it/s]\u001b[A\n",
      " 80%|████████  | 2400/3000 [00:07<00:01, 320.56it/s]\u001b[A\n",
      " 83%|████████▎ | 2480/3000 [00:08<00:01, 306.84it/s]\u001b[A\n",
      " 85%|████████▌ | 2560/3000 [00:08<00:01, 307.02it/s]\u001b[A\n",
      " 88%|████████▊ | 2640/3000 [00:08<00:01, 301.19it/s]\u001b[A\n",
      " 91%|█████████ | 2720/3000 [00:08<00:00, 320.59it/s]\u001b[A\n",
      " 93%|█████████▎| 2800/3000 [00:09<00:00, 302.38it/s]\u001b[A\n",
      " 96%|█████████▌| 2880/3000 [00:09<00:00, 304.68it/s]\u001b[A\n",
      " 99%|█████████▊| 2960/3000 [00:09<00:00, 334.51it/s]\u001b[A\n",
      "100%|██████████| 3000/3000 [00:09<00:00, 314.37it/s]\u001b[A"
     ]
    }
   ],
   "source": [
    "voltages_elec3_30V_spin = np.array(Parallel(n_jobs=40)(delayed(get_dcV)(i) for i in tqdm(range(3000))))"
   ]
  },
  {
   "cell_type": "code",
   "execution_count": null,
   "metadata": {},
   "outputs": [],
   "source": []
  },
  {
   "cell_type": "code",
   "execution_count": 313,
   "metadata": {},
   "outputs": [
    {
     "ename": "NameError",
     "evalue": "name 'fit_kwargs' is not defined",
     "output_type": "error",
     "traceback": [
      "\u001b[0;31m---------------------------------------------------------------------------\u001b[0m",
      "\u001b[0;31mNameError\u001b[0m                                 Traceback (most recent call last)",
      "\u001b[0;32m<ipython-input-313-501f632fcb33>\u001b[0m in \u001b[0;36m<module>\u001b[0;34m\u001b[0m\n\u001b[1;32m      9\u001b[0m \u001b[0mb\u001b[0m\u001b[0;34m,\u001b[0m \u001b[0ma\u001b[0m \u001b[0;34m=\u001b[0m \u001b[0msignal\u001b[0m\u001b[0;34m.\u001b[0m\u001b[0mbutter\u001b[0m\u001b[0;34m(\u001b[0m\u001b[0;36m3\u001b[0m\u001b[0;34m,\u001b[0m \u001b[0;34m[\u001b[0m\u001b[0;36m2.\u001b[0m\u001b[0;34m*\u001b[0m\u001b[0;34m(\u001b[0m\u001b[0mdrive_freq\u001b[0m\u001b[0;34m-\u001b[0m\u001b[0mbandwidth\u001b[0m\u001b[0;34m/\u001b[0m\u001b[0;36m2.\u001b[0m\u001b[0;34m)\u001b[0m\u001b[0;34m/\u001b[0m\u001b[0mfsamp\u001b[0m\u001b[0;34m,\u001b[0m \u001b[0;36m2.\u001b[0m\u001b[0;34m*\u001b[0m\u001b[0;34m(\u001b[0m\u001b[0mdrive_freq\u001b[0m\u001b[0;34m+\u001b[0m\u001b[0mbandwidth\u001b[0m\u001b[0;34m/\u001b[0m\u001b[0;36m2.\u001b[0m\u001b[0;34m)\u001b[0m\u001b[0;34m/\u001b[0m\u001b[0mfsamp\u001b[0m \u001b[0;34m]\u001b[0m\u001b[0;34m,\u001b[0m \u001b[0mbtype\u001b[0m \u001b[0;34m=\u001b[0m \u001b[0;34m'bandpass'\u001b[0m\u001b[0;34m)\u001b[0m\u001b[0;34m\u001b[0m\u001b[0;34m\u001b[0m\u001b[0m\n\u001b[1;32m     10\u001b[0m \u001b[0mxx2\u001b[0m \u001b[0;34m=\u001b[0m \u001b[0msignal\u001b[0m\u001b[0;34m.\u001b[0m\u001b[0mfiltfilt\u001b[0m\u001b[0;34m(\u001b[0m\u001b[0mb\u001b[0m\u001b[0;34m,\u001b[0m \u001b[0ma\u001b[0m\u001b[0;34m,\u001b[0m \u001b[0mbb\u001b[0m\u001b[0;34m.\u001b[0m\u001b[0mother_data\u001b[0m\u001b[0;34m[\u001b[0m\u001b[0;36m3\u001b[0m\u001b[0;34m]\u001b[0m\u001b[0;34m)\u001b[0m\u001b[0;34m[\u001b[0m\u001b[0;34m:\u001b[0m\u001b[0;34m:\u001b[0m\u001b[0mdecimate\u001b[0m\u001b[0;34m]\u001b[0m\u001b[0;34m\u001b[0m\u001b[0;34m\u001b[0m\u001b[0m\n\u001b[0;32m---> 11\u001b[0;31m \u001b[0mm1_tmp\u001b[0m \u001b[0;34m=\u001b[0m \u001b[0mll\u001b[0m\u001b[0;34m.\u001b[0m\u001b[0mfind_mle_sin\u001b[0m\u001b[0;34m(\u001b[0m\u001b[0mxx2\u001b[0m\u001b[0;34m,\u001b[0m \u001b[0mfsamp\u001b[0m\u001b[0;34m=\u001b[0m\u001b[0;36m5000\u001b[0m\u001b[0;34m/\u001b[0m\u001b[0mdecimate\u001b[0m\u001b[0;34m,\u001b[0m \u001b[0mnoise_rms\u001b[0m\u001b[0;34m=\u001b[0m\u001b[0;36m1\u001b[0m\u001b[0;34m,\u001b[0m \u001b[0mplot\u001b[0m\u001b[0;34m=\u001b[0m\u001b[0;32mFalse\u001b[0m\u001b[0;34m,\u001b[0m \u001b[0msuppress_print\u001b[0m\u001b[0;34m=\u001b[0m\u001b[0;32mTrue\u001b[0m\u001b[0;34m,\u001b[0m \u001b[0;34m**\u001b[0m\u001b[0mfit_kwargs\u001b[0m\u001b[0;34m)\u001b[0m\u001b[0;34m\u001b[0m\u001b[0;34m\u001b[0m\u001b[0m\n\u001b[0m\u001b[1;32m     12\u001b[0m \u001b[0;34m\u001b[0m\u001b[0m\n\u001b[1;32m     13\u001b[0m \u001b[0mxx2\u001b[0m \u001b[0;34m=\u001b[0m \u001b[0msignal\u001b[0m\u001b[0;34m.\u001b[0m\u001b[0mfiltfilt\u001b[0m\u001b[0;34m(\u001b[0m\u001b[0mb\u001b[0m\u001b[0;34m,\u001b[0m \u001b[0ma\u001b[0m\u001b[0;34m,\u001b[0m \u001b[0mbb\u001b[0m\u001b[0;34m.\u001b[0m\u001b[0mpos_data\u001b[0m\u001b[0;34m[\u001b[0m\u001b[0;36m0\u001b[0m\u001b[0;34m]\u001b[0m\u001b[0;34m)\u001b[0m\u001b[0;34m[\u001b[0m\u001b[0;34m:\u001b[0m\u001b[0;34m:\u001b[0m\u001b[0mdecimate\u001b[0m\u001b[0;34m]\u001b[0m\u001b[0;34m\u001b[0m\u001b[0;34m\u001b[0m\u001b[0m\n",
      "\u001b[0;31mNameError\u001b[0m: name 'fit_kwargs' is not defined"
     ]
    }
   ],
   "source": [
    "i=1\n",
    "fname = r'/data/old_trap/20210817/bead1/neutrality/height_fb_0_7_x_41Hz_50V_delay_10s__spin_xz_100V_50kHz_files_3000/x_neutrality_50V_41Hz_'+str(i)+'.h5'\n",
    "    \n",
    "drive_freq = 41\n",
    "bb = bu.DataFile();\n",
    "bb.load(fname);\n",
    "bb.load_other_data()\n",
    "    \n",
    "b, a = signal.butter(3, [2.*(drive_freq-bandwidth/2.)/fsamp, 2.*(drive_freq+bandwidth/2.)/fsamp ], btype = 'bandpass')\n",
    "xx2 = signal.filtfilt(b, a, bb.other_data[3])[::decimate]\n",
    "m1_tmp = ll.find_mle_sin(xx2, fsamp=5000/decimate, noise_rms=1, plot=False, suppress_print=True, **fit_kwargs)\n",
    "    \n",
    "xx2 = signal.filtfilt(b, a, bb.pos_data[0])[::decimate]\n",
    "\n",
    "_,ax = plt.subplots()\n",
    "ax.scatter(range(50000), bb.other_data[3])"
   ]
  }
 ],
 "metadata": {
  "kernelspec": {
   "display_name": "Python 3",
   "language": "python",
   "name": "python3"
  },
  "language_info": {
   "codemirror_mode": {
    "name": "ipython",
    "version": 3
   },
   "file_extension": ".py",
   "mimetype": "text/x-python",
   "name": "python",
   "nbconvert_exporter": "python",
   "pygments_lexer": "ipython3",
   "version": "3.6.9"
  }
 },
 "nbformat": 4,
 "nbformat_minor": 4
}
