{
 "cells": [
  {
   "cell_type": "code",
   "execution_count": 1,
   "metadata": {},
   "outputs": [],
   "source": [
    "import numpy as np\n",
    "import matplotlib.pyplot as plt\n",
    "import matplotlib\n",
    "from scipy import signal\n",
    "from scipy.optimize import minimize\n",
    "\n",
    "import random\n",
    "\n",
    "import h5py\n",
    "from IPython.utils import io\n",
    "\n",
    "from joblib import Parallel, delayed\n",
    "from tqdm import tqdm\n",
    "import sys"
   ]
  },
  {
   "cell_type": "code",
   "execution_count": 2,
   "metadata": {},
   "outputs": [],
   "source": [
    "%matplotlib widget\n",
    "\n",
    "%reload_ext autoreload\n",
    "%autoreload 2"
   ]
  },
  {
   "cell_type": "code",
   "execution_count": 3,
   "metadata": {},
   "outputs": [],
   "source": [
    "sys.path.append('../../../../nadavp/new_trap/Tools/')\n",
    "sys.path.append('../../../../nadavp/new_trap/Tools/StatFramework/')\n",
    "sys.path.append('../../../../nadavp/opt_lev_analysis/lib/')\n",
    "import BeadDataFile\n",
    "from discharge_tools import *"
   ]
  },
  {
   "cell_type": "code",
   "execution_count": 4,
   "metadata": {},
   "outputs": [],
   "source": [
    "from likelihood_calculator import likelihood_analyser\n",
    "from likelihood_calculator import GravityFramework\n",
    "from likelihood_calculator import auxiliary_functions as aux\n",
    "gfw = GravityFramework.GravityFramework()"
   ]
  },
  {
   "cell_type": "code",
   "execution_count": 8,
   "metadata": {},
   "outputs": [],
   "source": [
    "import bead_util as bu\n",
    "import transfer_func_util as tf\n",
    "import configuration as config\n",
    "from discharge_tools import correlation"
   ]
  },
  {
   "cell_type": "markdown",
   "metadata": {},
   "source": [
    "### Parameters"
   ]
  },
  {
   "cell_type": "code",
   "execution_count": 18,
   "metadata": {},
   "outputs": [],
   "source": [
    "## some are coming from the notebook: Old trap - 20211001 - All calibration with comments\n",
    "\n",
    "scaleZ = 128\n",
    "\n",
    "voltage_calib = 25\n",
    "voltage_200 = 200\n",
    "\n",
    "E1, E2 = (131, 195)\n",
    "E_tot = E1+E2\n",
    "factor = 0.621"
   ]
  },
  {
   "cell_type": "code",
   "execution_count": 19,
   "metadata": {},
   "outputs": [],
   "source": [
    "etha = 1/scaleZ*E_tot*voltage_calib*1.6e-19 ## convert bits to force\n",
    "to_epsilon = 1/(2*131*1.6e-19*voltage_200) ## this is 2E1 - the convertion factor from A to epsilon"
   ]
  },
  {
   "cell_type": "markdown",
   "metadata": {},
   "source": [
    "### Look at neutrality data"
   ]
  },
  {
   "cell_type": "code",
   "execution_count": 93,
   "metadata": {},
   "outputs": [],
   "source": [
    "def get_amp_wraperZ(i, fname):\n",
    "    try:\n",
    "        return get_ampZ(i, fname)\n",
    "    except:\n",
    "        return 0"
   ]
  },
  {
   "cell_type": "code",
   "execution_count": 119,
   "metadata": {},
   "outputs": [],
   "source": [
    "# set the drive and settings for the correlation\n",
    "bb = bu.DataFile();\n",
    "\n",
    "def get_ampZ(i, foldername):\n",
    "    \n",
    "    fname = foldername+'Z_200Vpp_'+str(i)+'.h5'\n",
    "    bb.load(fname);\n",
    "    bb.load_other_data()\n",
    "    \n",
    "    bandwidth = 2\n",
    "    drive_freq = 139\n",
    "    fsamp = 5000\n",
    "    sigamp = 1\n",
    "    \n",
    "    ## extract the drive phase - depends on which electrode is driving\n",
    "    jj = i%2\n",
    "    freq2 = np.fft.rfftfreq(len(bb.other_data[1+jj]), d=1./5000)\n",
    "    fft_angles = np.angle(np.fft.rfft(bb.other_data[1+jj]))\n",
    "    phi_tmp2 = (fft_angles[freq2==drive_freq]+np.pi/2)%(2*np.pi)+4.8\n",
    "    \n",
    "    nsamp = len( bb.pos_data[2])\n",
    "    tarr = np.arange(0, nsamp/fsamp, 1.0/fsamp)\n",
    "    sig = sigamp * np.sin(2.0 * np.pi * drive_freq * tarr+phi_tmp2)\n",
    "\n",
    "    return correlation(sig, bb.pos_data[2] , fsamp=5000, fdrive=139, filt=True, band_width=bandwidth)[0]"
   ]
  },
  {
   "cell_type": "code",
   "execution_count": 95,
   "metadata": {},
   "outputs": [
    {
     "data": {
      "text/plain": [
       "-9.8534873435342192"
      ]
     },
     "execution_count": 95,
     "metadata": {},
     "output_type": "execute_result"
    }
   ],
   "source": [
    "base_folder = r'/data/old_trap/20211001/bead1/'\n",
    "fname = base_folder+r'neutrality6/Z_150Vpp_alternate_139Hz_spin_XY_93kHz_200Vpp_delay_3sec_with_height_fb/'\n",
    "get_ampZ(0, fname)"
   ]
  },
  {
   "cell_type": "code",
   "execution_count": 120,
   "metadata": {},
   "outputs": [
    {
     "data": {
      "text/plain": [
       "12.277606027269531"
      ]
     },
     "execution_count": 120,
     "metadata": {},
     "output_type": "execute_result"
    }
   ],
   "source": [
    "base_folder = r'/data/old_trap/20211001/bead1/'\n",
    "fname = base_folder+r'neutrality8/Z_200Vpp_alternate_139Hz_spin_XY_117kHz_175Vpp_delay_7sec_with_height_fb_redo3/'\n",
    "get_ampZ(0, fname)"
   ]
  },
  {
   "cell_type": "markdown",
   "metadata": {},
   "source": [
    "### Loading all datasets taken with ~100kHz spinning field "
   ]
  },
  {
   "cell_type": "code",
   "execution_count": 96,
   "metadata": {},
   "outputs": [],
   "source": [
    "## the prefix of the some of the folders is Z_150Vpp, but that is raelly 200V data\n",
    "## I messed up the the folder names, it is spinning at 175Vpp with 200Vpp oscillating field \n",
    "## (it has been validated using the digitized electrode data and also by the filenames which are 200Vpp)\n",
    "## spinning is either 93kHz or 103kHz\n",
    "base_folder = r'/data/old_trap/20211001/bead1/'\n",
    "fnames = [base_folder+r'neutrality6/Z_150Vpp_alternate_139Hz_spin_XY_93kHz_200Vpp_delay_3sec_with_height_fb/',\n",
    "base_folder+r'neutrality6/Z_150Vpp_alternate_139Hz_spin_XY_103kHz_200Vpp_delay_3sec_with_height_fb/',\n",
    "base_folder+r'neutrality6/Z_150Vpp_alternate_139Hz_spin_XY_103kHz_200Vpp_delay_3sec_with_height_fb_redo/',\n",
    "# base_folder+r'neutrality6/Z_150Vpp_alternate_139Hz_spin_XY_103kHz_200Vpp_delay_3sec_with_height_fb_redo2/', ## rga incident\n",
    "base_folder+r'neutrality6/Z_200Vpp_alternate_139Hz_spin_XY_103kHz_175Vpp_delay_3sec_with_height_fb_redo3/',\n",
    "base_folder+r'neutrality6/Z_200Vpp_alternate_139Hz_spin_XY_103kHz_175Vpp_delay_3sec_with_height_fb_redo4/']\n",
    "\n",
    "files = [2000, 2000, 2000, 1000, 1000]"
   ]
  },
  {
   "cell_type": "code",
   "execution_count": 97,
   "metadata": {
    "scrolled": true
   },
   "outputs": [
    {
     "name": "stderr",
     "output_type": "stream",
     "text": [
      " 38%|███▊      | 760/2000 [00:15<00:29, 41.50it/s]/home/analysis_user/.local/lib/python3.6/site-packages/joblib/externals/loky/process_executor.py:706: UserWarning: A worker stopped while some jobs were given to the executor. This can be caused by a too short worker timeout or by a memory leak.\n",
      "  \"timeout or by a memory leak.\", UserWarning\n",
      "100%|██████████| 2000/2000 [00:37<00:00, 60.04it/s]\n",
      "100%|██████████| 2000/2000 [00:29<00:00, 70.46it/s]\n",
      "100%|██████████| 2000/2000 [00:31<00:00, 63.11it/s]\n",
      "100%|██████████| 1000/1000 [00:14<00:00, 51.93it/s]\n",
      "100%|██████████| 1000/1000 [00:15<00:00, 44.17it/s]\n"
     ]
    }
   ],
   "source": [
    "ams_neutrality6 = []\n",
    "for i_folder in range(len(files)):\n",
    "    amps_tmp = np.array(Parallel(n_jobs=40)(delayed(get_amp_wraperZ)(i, fnames[i_folder]) for i in tqdm(range((files[i_folder])))))\n",
    "    ams_neutrality6 += list(np.array(amps_tmp)*etha)\n",
    "ams_neutrality6 = np.array(ams_neutrality6)"
   ]
  },
  {
   "cell_type": "code",
   "execution_count": 98,
   "metadata": {},
   "outputs": [],
   "source": [
    "## getting rid of one corrupted file - have to extract two files in order to keep the odd always plus electrode\n",
    "ams_neutrality6_2 = list(ams_neutrality6)\n",
    "ams_neutrality6_2.pop(692)\n",
    "ams_neutrality6_2.pop(692)\n",
    "ams_neutrality6 = np.array(ams_neutrality6_2)"
   ]
  },
  {
   "cell_type": "code",
   "execution_count": 121,
   "metadata": {},
   "outputs": [],
   "source": [
    "## higher spinning - 117kHz\n",
    "base_folder = r'/data/old_trap/20211001/bead1/'\n",
    "fnames = [base_folder+r'neutrality8/Z_200Vpp_alternate_139Hz_spin_XY_117kHz_175Vpp_delay_5sec_with_height_fb/',\n",
    "base_folder+r'neutrality8/Z_200Vpp_alternate_139Hz_spin_XY_117kHz_175Vpp_delay_7sec_with_height_fb_redo2/',\n",
    "base_folder+r'neutrality8/Z_200Vpp_alternate_139Hz_spin_XY_117kHz_175Vpp_delay_7sec_with_height_fb_redo3/',\n",
    "base_folder+r'neutrality8/Z_200Vpp_alternate_139Hz_spin_XY_117kHz_175Vpp_delay_7sec_with_height_fb_redo4/',\n",
    "base_folder+r'neutrality8/Z_200Vpp_alternate_139Hz_spin_XY_117kHz_175Vpp_delay_7sec_with_height_fb_redo5/']\n",
    "\n",
    "files = [2000, 2000, 2000, 2000, 438]"
   ]
  },
  {
   "cell_type": "code",
   "execution_count": 122,
   "metadata": {
    "scrolled": true
   },
   "outputs": [
    {
     "name": "stderr",
     "output_type": "stream",
     "text": [
      " 24%|██▍       | 480/2000 [00:03<00:11, 135.37it/s]/home/analysis_user/.local/lib/python3.6/site-packages/joblib/externals/loky/process_executor.py:706: UserWarning: A worker stopped while some jobs were given to the executor. This can be caused by a too short worker timeout or by a memory leak.\n",
      "  \"timeout or by a memory leak.\", UserWarning\n",
      "100%|██████████| 2000/2000 [00:21<00:00, 68.44it/s] \n",
      "100%|██████████| 2000/2000 [00:26<00:00, 58.47it/s]\n",
      "100%|██████████| 2000/2000 [00:27<00:00, 68.94it/s]\n",
      "100%|██████████| 2000/2000 [00:26<00:00, 71.91it/s]\n",
      "100%|██████████| 438/438 [00:03<00:00, 132.52it/s]\n"
     ]
    }
   ],
   "source": [
    "ams_neutrality8 = []\n",
    "for i_folder in range(len(files)):\n",
    "    amps_tmp = np.array(Parallel(n_jobs=40)(delayed(get_amp_wraperZ)(i, fnames[i_folder]) for i in tqdm(range((files[i_folder])))))\n",
    "    ams_neutrality8 += list(np.array(amps_tmp)*etha)\n",
    "ams_neutrality8 = np.array(ams_neutrality8)"
   ]
  },
  {
   "cell_type": "code",
   "execution_count": 101,
   "metadata": {},
   "outputs": [],
   "source": [
    "## higher spinning - 117kHz\n",
    "## after improving the switching on/off of the electrodes to allow more off time per configuration\n",
    "base_folder = r'/data/old_trap/20211001/bead1/'\n",
    "fnames = [base_folder+r'neutrality9/Z_200Vpp_alternate_139Hz_spin_XY_117kHz_175Vpp_delay_4sec_with_height_fb/',\n",
    "base_folder+r'neutrality9/Z_200Vpp_alternate_139Hz_spin_XY_117kHz_175Vpp_delay_4sec_with_height_fb_redo/',\n",
    "base_folder+r'neutrality9/Z_200Vpp_alternate_139Hz_spin_XY_117kHz_175Vpp_delay_4sec_with_height_fb_redo2/',\n",
    "base_folder+r'neutrality9/Z_200Vpp_alternate_139Hz_spin_XY_117kHz_175Vpp_delay_4sec_with_height_fb_redo3/',\n",
    "base_folder+r'neutrality9/Z_200Vpp_alternate_139Hz_spin_XY_117kHz_175Vpp_delay_6sec_with_height_fb_redo4/',\n",
    "base_folder+r'neutrality9/Z_200Vpp_alternate_139Hz_spin_XY_117kHz_175Vpp_delay_4sec_with_height_fb_redo5/',\n",
    "base_folder+r'neutrality9/Z_200Vpp_alternate_139Hz_spin_XY_117kHz_175Vpp_delay_6sec_with_height_fb_redo6/']\n",
    "\n",
    "files = [80, 2000, 2000, 2000, 2000, 4000, 2200]"
   ]
  },
  {
   "cell_type": "code",
   "execution_count": 102,
   "metadata": {
    "scrolled": true
   },
   "outputs": [
    {
     "name": "stderr",
     "output_type": "stream",
     "text": [
      "100%|██████████| 80/80 [00:00<00:00, 435.06it/s]\n",
      "100%|██████████| 2000/2000 [00:33<00:00, 40.66it/s]\n",
      "100%|██████████| 2000/2000 [00:29<00:00, 63.95it/s]\n",
      "100%|██████████| 2000/2000 [00:31<00:00, 62.50it/s]\n",
      "100%|██████████| 2000/2000 [00:31<00:00, 58.08it/s]\n",
      "100%|██████████| 4000/4000 [01:05<00:00, 57.58it/s]\n",
      "100%|██████████| 2200/2200 [00:36<00:00, 62.77it/s]\n"
     ]
    }
   ],
   "source": [
    "ams_neutrality9 = []\n",
    "for i_folder in range(len(files)):\n",
    "    amps_tmp = np.array(Parallel(n_jobs=40)(delayed(get_amp_wraperZ)(i, fnames[i_folder]) for i in tqdm(range((files[i_folder])))))\n",
    "    ams_neutrality9 += list(np.array(amps_tmp)*etha)\n",
    "ams_neutrality9 = np.array(ams_neutrality9)"
   ]
  },
  {
   "cell_type": "code",
   "execution_count": 103,
   "metadata": {},
   "outputs": [],
   "source": [
    "# different spin voltage -- skipped that one accidently before it adds a bit of sensitity\n",
    "base_folder = r'/data/old_trap/20211001/bead1/'\n",
    "fnames = [base_folder+r'neutrality11/Z_200Vpp_alternate_139Hz_spin_XY_117kHz_200Vpp_delay_6sec_with_height_fb/']\n",
    "\n",
    "files = [2500]"
   ]
  },
  {
   "cell_type": "code",
   "execution_count": 104,
   "metadata": {},
   "outputs": [
    {
     "name": "stderr",
     "output_type": "stream",
     "text": [
      "100%|██████████| 2500/2500 [00:44<00:00, 56.66it/s]\n"
     ]
    }
   ],
   "source": [
    "ams_neutrality11 = []\n",
    "for i_folder in range(len(files)):\n",
    "    amps_tmp = np.array(Parallel(n_jobs=40)(delayed(get_amp_wraperZ)(i, fnames[i_folder]) for i in tqdm(range((files[i_folder])))))\n",
    "    ams_neutrality11 += list(np.array(amps_tmp)*etha)\n",
    "ams_neutrality11 = np.array(ams_neutrality11)"
   ]
  },
  {
   "cell_type": "code",
   "execution_count": 109,
   "metadata": {},
   "outputs": [
    {
     "data": {
      "text/plain": [
       "array([ -4.13217680e-18,   2.64993730e-17,  -3.43001315e-17, ...,\n",
       "         1.36582490e-16,   1.70878657e-16,   1.34305398e-16])"
      ]
     },
     "execution_count": 109,
     "metadata": {},
     "output_type": "execute_result"
    }
   ],
   "source": [
    "ams_neutrality9"
   ]
  },
  {
   "cell_type": "code",
   "execution_count": 134,
   "metadata": {},
   "outputs": [],
   "source": [
    "amps_all = np.array(list(ams_neutrality6)+list(ams_neutrality8)+list(ams_neutrality9)+list(ams_neutrality11))"
   ]
  },
  {
   "cell_type": "markdown",
   "metadata": {},
   "source": [
    "### Data Analysis"
   ]
  },
  {
   "cell_type": "code",
   "execution_count": 135,
   "metadata": {},
   "outputs": [
    {
     "data": {
      "application/vnd.jupyter.widget-view+json": {
       "model_id": "16af104406e6409ba6816250e986e12e",
       "version_major": 2,
       "version_minor": 0
      },
      "text/plain": [
       "Canvas(toolbar=Toolbar(toolitems=[('Home', 'Reset original view', 'home', 'home'), ('Back', 'Back to previous …"
      ]
     },
     "metadata": {},
     "output_type": "display_data"
    },
    {
     "name": "stdout",
     "output_type": "stream",
     "text": [
      "1st harmonic, electrode 1: mean, std:  -2.43276659404e-17 6.67689389436e-19\n",
      "1st harmonic, electrode 2: mean, std:  -3.96299408643e-17 8.67919148229e-19\n",
      "1st harmonic, A parameter: mean, std:  2.82527336344e-19 4.25223903703e-19\n"
     ]
    }
   ],
   "source": [
    "data_plus = amps_all[::2]\n",
    "data_minus = amps_all[1::2]\n",
    "data_A = data_plus-factor*data_minus\n",
    "\n",
    "_, ax= plt.subplots(figsize=(9.5,4))\n",
    "ax.scatter(np.arange(len(data_plus))*2*10/3600, data_plus, label='200Vpp-z-plus')\n",
    "ax.scatter(np.arange(len(data_minus))*2*10/3600, data_minus, label='200Vpp-z-minus', alpha=0.6)\n",
    "ax.plot(np.arange(len(data_A))*2*10/3600, np.arange(len(data_A))*0, '--k')\n",
    "ax.set(xlabel='Integration time [hr.]', ylabel=r'$\\epsilon$')\n",
    "ax.legend()\n",
    "print('1st harmonic, electrode 1: mean, std: ', np.mean(data_plus), np.std(data_plus)/np.sqrt(len(data_plus)))\n",
    "print('1st harmonic, electrode 2: mean, std: ', np.mean(data_minus), np.std(data_minus)/np.sqrt(len(data_minus)))\n",
    "print('1st harmonic, A parameter: mean, std: ', np.mean(data_A), np.std(data_A)/np.sqrt(len(data_A)))"
   ]
  },
  {
   "cell_type": "code",
   "execution_count": 136,
   "metadata": {},
   "outputs": [
    {
     "data": {
      "application/vnd.jupyter.widget-view+json": {
       "model_id": "a7e039effca8400883f1f55ed2143d55",
       "version_major": 2,
       "version_minor": 0
      },
      "text/plain": [
       "Canvas(toolbar=Toolbar(toolitems=[('Home', 'Reset original view', 'home', 'home'), ('Back', 'Back to previous …"
      ]
     },
     "metadata": {},
     "output_type": "display_data"
    },
    {
     "name": "stdout",
     "output_type": "stream",
     "text": [
      "1st harmonic, A parameter: mean, std:  2.82527336344e-19 4.25223903703e-19\n",
      "1st harmonic, corrected A: mean, std:  2.84227094091e-19 3.40528316042e-19\n",
      "1st harmonic, A parameter[epsilon]: mean, std:  3.39011324059e-05 4.06164499095e-05\n"
     ]
    }
   ],
   "source": [
    "N = len(data_plus)\n",
    "data_shifted = np.array([(data_plus[i]+data_plus[i-1])/2 for i in range(1,N)])\n",
    "data_A_shifted = data_shifted-factor*data_minus[:-1]\n",
    "\n",
    "_, ax= plt.subplots(figsize=(9.5,4))\n",
    "ax.scatter(np.arange(len(data_A))*2*10/3600, data_A, label='200Vpp-z-plus, A parameter')\n",
    "ax.scatter(np.arange(len(data_A_shifted))*2*10/3600, data_A_shifted, label='200Vpp-z, corrected A parameter', alpha=0.6)\n",
    "\n",
    "ax.plot(np.arange(len(data_A))*2*10/3600, np.arange(len(data_A))*0, '--k')\n",
    "ax.set(xlabel='Integration time [hr.]', ylabel=r'$\\epsilon$')\n",
    "ax.legend()\n",
    "print('1st harmonic, A parameter: mean, std: ', np.mean(data_A), np.std(data_A)/np.sqrt(len(data_A)))\n",
    "print('1st harmonic, corrected A: mean, std: ', np.mean(data_A_shifted), np.std(data_A_shifted)/np.sqrt(len(data_A_shifted)))\n",
    "print('1st harmonic, A parameter[epsilon]: mean, std: ', np.mean(data_A_shifted)*to_epsilon, to_epsilon*np.std(data_A_shifted)/np.sqrt(len(data_A_shifted)))\n"
   ]
  },
  {
   "cell_type": "markdown",
   "metadata": {},
   "source": [
    "### Fitting"
   ]
  },
  {
   "cell_type": "code",
   "execution_count": 137,
   "metadata": {},
   "outputs": [
    {
     "data": {
      "application/vnd.jupyter.widget-view+json": {
       "model_id": "1e40f74f03344262a9c33eec157e3967",
       "version_major": 2,
       "version_minor": 0
      },
      "text/plain": [
       "Canvas(toolbar=Toolbar(toolitems=[('Home', 'Reset original view', 'home', 'home'), ('Back', 'Back to previous …"
      ]
     },
     "metadata": {},
     "output_type": "display_data"
    },
    {
     "data": {
      "text/plain": [
       "[Text(0.5, 0, 'Force [N]')]"
      ]
     },
     "execution_count": 137,
     "metadata": {},
     "output_type": "execute_result"
    }
   ],
   "source": [
    "from scipy.optimize import curve_fit\n",
    "from scipy import asarray as ar,exp\n",
    "\n",
    "n_bins = 29\n",
    "range_pram = 0.02\n",
    "_,ax = plt.subplots()\n",
    "entries, bins, patches = ax.hist(data_A_shifted*to_epsilon, bins=n_bins, range=(-range_pram, range_pram), label='200Vpp, all frequencies')\n",
    "ax.set(xlabel=r'Force [N]')"
   ]
  },
  {
   "cell_type": "code",
   "execution_count": 138,
   "metadata": {},
   "outputs": [
    {
     "name": "stdout",
     "output_type": "stream",
     "text": [
      "mean:  3.58133536701e-05  ,std (on the mean):  4.02392834684e-05  ,sigma:  0.00518556200472\n",
      "std from the covariance matrix:  3.69451285839e-05\n",
      "\n",
      "Neutrality:  3.19359392606e-19\n",
      "Factor needed for neutrality best limit:  319.359392606\n"
     ]
    }
   ],
   "source": [
    "## gaussian fit to the histogram\n",
    "\n",
    "bins_fit =[(bins[i+1]-bins[i])/2+bins[i] for i in range(len(entries))]\n",
    "\n",
    "titles = ['', '', '']\n",
    "\n",
    "for i,ee in enumerate([entries]):\n",
    "    x = bins_fit\n",
    "    y= np.array(ee)\n",
    "    sigma_bin = np.sqrt(ee)\n",
    "    \n",
    "    n = len(x)                          #the number of data\n",
    "    mean = 0                  #note this correction\n",
    "    sigma = 0.03       #note this correction\n",
    "\n",
    "    def gaus(x,a,x0,sigma):\n",
    "        return a*np.exp(-(x-x0)**2/(2*sigma**2))\n",
    "\n",
    "    popt,pcov = curve_fit(gaus,x,y,p0=[1,mean,sigma])\n",
    "    ax.plot(x,gaus(x,*popt),'ro:',label='fit')\n",
    "\n",
    "    print(\"mean: \", popt[1], \" ,std (on the mean): \", popt[2]/np.sqrt(len(data_A_shifted)), \" ,sigma: \", popt[2])\n",
    "    print(\"std from the covariance matrix: \", np.sqrt(pcov[1,1]))\n",
    "    \n",
    "    nucleons = 420e-12*6e23/2\n",
    "    print('\\nNeutrality: ', 1/nucleons*popt[2]/np.sqrt(len(data_A_shifted)))\n",
    "    print('Factor needed for neutrality best limit: ', 1/nucleons*popt[2]/np.sqrt(len(data_A_shifted))/1e-21)"
   ]
  },
  {
   "cell_type": "code",
   "execution_count": null,
   "metadata": {},
   "outputs": [],
   "source": []
  },
  {
   "cell_type": "code",
   "execution_count": null,
   "metadata": {},
   "outputs": [],
   "source": []
  },
  {
   "cell_type": "code",
   "execution_count": null,
   "metadata": {},
   "outputs": [],
   "source": []
  }
 ],
 "metadata": {
  "kernelspec": {
   "display_name": "Python 3",
   "language": "python",
   "name": "python3"
  },
  "language_info": {
   "codemirror_mode": {
    "name": "ipython",
    "version": 3
   },
   "file_extension": ".py",
   "mimetype": "text/x-python",
   "name": "python",
   "nbconvert_exporter": "python",
   "pygments_lexer": "ipython3",
   "version": "3.6.9"
  }
 },
 "nbformat": 4,
 "nbformat_minor": 4
}
