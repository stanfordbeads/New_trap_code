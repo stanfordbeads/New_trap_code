{
 "cells": [
  {
   "cell_type": "code",
   "execution_count": 1,
   "metadata": {},
   "outputs": [],
   "source": [
    "import numpy as np\n",
    "import matplotlib.pyplot as plt\n",
    "import matplotlib\n",
    "from scipy import signal\n",
    "import random\n",
    "\n",
    "import h5py\n",
    "from IPython.utils import io\n",
    "\n",
    "\n",
    "from joblib import Parallel, delayed\n",
    "from tqdm import tqdm"
   ]
  },
  {
   "cell_type": "code",
   "execution_count": 2,
   "metadata": {},
   "outputs": [],
   "source": [
    "%matplotlib widget\n",
    "\n",
    "%reload_ext autoreload\n",
    "%autoreload 2"
   ]
  },
  {
   "cell_type": "code",
   "execution_count": 4,
   "metadata": {},
   "outputs": [],
   "source": [
    "import sys\n",
    "sys.path.append('../../../../nadavp/new_trap/Tools/')\n",
    "sys.path.append('../../../../nadavp/new_trap/Tools/StatFramework/')\n",
    "sys.path.append('../../../../nadavp/opt_lev_analysis/lib/')\n",
    "sys.path.append('../../../../nadavp/opt_lev_analysis/scripts/calibration/')\n",
    "import BeadDataFile\n",
    "from discharge_tools import *"
   ]
  },
  {
   "cell_type": "code",
   "execution_count": 5,
   "metadata": {},
   "outputs": [],
   "source": [
    "import bead_util as bu"
   ]
  },
  {
   "cell_type": "code",
   "execution_count": 7,
   "metadata": {},
   "outputs": [
    {
     "name": "stdout",
     "output_type": "stream",
     "text": [
      "Can't find/open HDF5 file : /data/old_trap/20210203/gbead3/discharge/fine/turbombar_powfb_xyzcool_elec3_2000mV41Hz0mVdc_328_fpga\n"
     ]
    },
    {
     "name": "stderr",
     "output_type": "stream",
     "text": [
      "Traceback (most recent call last):\n",
      "  File \"../../../../nadavp/opt_lev_analysis/lib/bead_data_funcs.py\", line 87, in getdata_new\n",
      "    f = h5py.File(fname,'r')\n",
      "  File \"/home/analysis_user/.local/lib/python3.6/site-packages/h5py/_hl/files.py\", line 394, in __init__\n",
      "    swmr=swmr)\n",
      "  File \"/home/analysis_user/.local/lib/python3.6/site-packages/h5py/_hl/files.py\", line 170, in make_fid\n",
      "    fid = h5f.open(name, flags, fapl=fapl)\n",
      "  File \"h5py/_objects.pyx\", line 54, in h5py._objects.with_phil.wrapper\n",
      "  File \"h5py/_objects.pyx\", line 55, in h5py._objects.with_phil.wrapper\n",
      "  File \"h5py/h5f.pyx\", line 85, in h5py.h5f.open\n",
      "OSError: Unable to open file (unable to open file: name = '/data/old_trap/20210203/gbead3/discharge/fine/turbombar_powfb_xyzcool_elec3_2000mV41Hz0mVdc_328_fpga', errno = 2, error message = 'No such file or directory', flags = 0, o_flags = 0)\n",
      "Traceback (most recent call last):\n",
      "  File \"../../../../nadavp/opt_lev_analysis/lib/bead_data_funcs.py\", line 87, in getdata_new\n",
      "    f = h5py.File(fname,'r')\n",
      "  File \"/home/analysis_user/.local/lib/python3.6/site-packages/h5py/_hl/files.py\", line 394, in __init__\n",
      "    swmr=swmr)\n",
      "  File \"/home/analysis_user/.local/lib/python3.6/site-packages/h5py/_hl/files.py\", line 170, in make_fid\n",
      "    fid = h5f.open(name, flags, fapl=fapl)\n",
      "  File \"h5py/_objects.pyx\", line 54, in h5py._objects.with_phil.wrapper\n",
      "  File \"h5py/_objects.pyx\", line 55, in h5py._objects.with_phil.wrapper\n",
      "  File \"h5py/h5f.pyx\", line 85, in h5py.h5f.open\n",
      "OSError: Unable to open file (unable to open file: name = '/data/old_trap/20210203/gbead3/discharge/fine/turbombar_powfb_xyzcool_elec3_2000mV41Hz0mVdc_328_fpga', errno = 2, error message = 'No such file or directory', flags = 0, o_flags = 0)\n"
     ]
    },
    {
     "ename": "UnboundLocalError",
     "evalue": "local variable 'dset1' referenced before assignment",
     "output_type": "error",
     "traceback": [
      "\u001b[0;31m---------------------------------------------------------------------------\u001b[0m",
      "\u001b[0;31mUnboundLocalError\u001b[0m                         Traceback (most recent call last)",
      "\u001b[0;32m<ipython-input-7-2a51b7a403f0>\u001b[0m in \u001b[0;36m<module>\u001b[0;34m\u001b[0m\n\u001b[1;32m      1\u001b[0m \u001b[0mbu1\u001b[0m \u001b[0;34m=\u001b[0m \u001b[0mbu\u001b[0m\u001b[0;34m.\u001b[0m\u001b[0mDataFile\u001b[0m\u001b[0;34m(\u001b[0m\u001b[0;34m)\u001b[0m\u001b[0;34m\u001b[0m\u001b[0;34m\u001b[0m\u001b[0m\n\u001b[0;32m----> 2\u001b[0;31m \u001b[0mbu1\u001b[0m\u001b[0;34m.\u001b[0m\u001b[0mload_new\u001b[0m\u001b[0;34m(\u001b[0m\u001b[0;34m'/data/old_trap/20210203/gbead3/discharge/fine/turbombar_powfb_xyzcool_elec3_2000mV41Hz0mVdc_328_fpga'\u001b[0m\u001b[0;34m)\u001b[0m\u001b[0;34m\u001b[0m\u001b[0;34m\u001b[0m\u001b[0m\n\u001b[0m",
      "\u001b[0;32m/home/nadavp/opt_lev_analysis/lib/bead_util.py\u001b[0m in \u001b[0;36mload_new\u001b[0;34m(self, fname, plot_raw_dat, skip_mon, verbose)\u001b[0m\n\u001b[1;32m    370\u001b[0m         \u001b[0mfname\u001b[0m \u001b[0;34m=\u001b[0m \u001b[0mos\u001b[0m\u001b[0;34m.\u001b[0m\u001b[0mpath\u001b[0m\u001b[0;34m.\u001b[0m\u001b[0mabspath\u001b[0m\u001b[0;34m(\u001b[0m\u001b[0mfname\u001b[0m\u001b[0;34m)\u001b[0m\u001b[0;34m\u001b[0m\u001b[0;34m\u001b[0m\u001b[0m\n\u001b[1;32m    371\u001b[0m \u001b[0;34m\u001b[0m\u001b[0m\n\u001b[0;32m--> 372\u001b[0;31m         \u001b[0mdat1\u001b[0m\u001b[0;34m,\u001b[0m \u001b[0mdat2\u001b[0m\u001b[0;34m,\u001b[0m \u001b[0mdat3\u001b[0m\u001b[0;34m,\u001b[0m \u001b[0mdat4\u001b[0m\u001b[0;34m,\u001b[0m \u001b[0mdat5\u001b[0m\u001b[0;34m,\u001b[0m \u001b[0mdat6\u001b[0m\u001b[0;34m,\u001b[0m \u001b[0mattribs\u001b[0m \u001b[0;34m=\u001b[0m \u001b[0mgetdata_new\u001b[0m\u001b[0;34m(\u001b[0m\u001b[0mfname\u001b[0m\u001b[0;34m)\u001b[0m\u001b[0;34m\u001b[0m\u001b[0;34m\u001b[0m\u001b[0m\n\u001b[0m\u001b[1;32m    373\u001b[0m \u001b[0;34m\u001b[0m\u001b[0m\n\u001b[1;32m    374\u001b[0m         \u001b[0;31m# if plot_raw_dat:\u001b[0m\u001b[0;34m\u001b[0m\u001b[0;34m\u001b[0m\u001b[0;34m\u001b[0m\u001b[0m\n",
      "\u001b[0;32m/home/nadavp/opt_lev_analysis/lib/bead_data_funcs.py\u001b[0m in \u001b[0;36mgetdata_new\u001b[0;34m(fname, gain_error, verbose)\u001b[0m\n\u001b[1;32m    146\u001b[0m         \u001b[0mtraceback\u001b[0m\u001b[0;34m.\u001b[0m\u001b[0mprint_exc\u001b[0m\u001b[0;34m(\u001b[0m\u001b[0;34m)\u001b[0m\u001b[0;34m\u001b[0m\u001b[0;34m\u001b[0m\u001b[0m\n\u001b[1;32m    147\u001b[0m \u001b[0;34m\u001b[0m\u001b[0m\n\u001b[0;32m--> 148\u001b[0;31m     \u001b[0;32mreturn\u001b[0m \u001b[0mdset1\u001b[0m\u001b[0;34m,\u001b[0m \u001b[0mdset2\u001b[0m\u001b[0;34m,\u001b[0m \u001b[0mdset3\u001b[0m\u001b[0;34m,\u001b[0m \u001b[0mdset4\u001b[0m\u001b[0;34m,\u001b[0m \u001b[0mdset5\u001b[0m\u001b[0;34m,\u001b[0m \u001b[0mdset6\u001b[0m\u001b[0;34m,\u001b[0m \u001b[0mattribs\u001b[0m\u001b[0;34m\u001b[0m\u001b[0;34m\u001b[0m\u001b[0m\n\u001b[0m\u001b[1;32m    149\u001b[0m \u001b[0;34m\u001b[0m\u001b[0m\n\u001b[1;32m    150\u001b[0m \u001b[0;34m\u001b[0m\u001b[0m\n",
      "\u001b[0;31mUnboundLocalError\u001b[0m: local variable 'dset1' referenced before assignment"
     ]
    }
   ],
   "source": [
    "bu1 = bu.DataFile()\n",
    "bu1.load_new('/data/old_trap/20210203/gbead3/discharge/fine/turbombar_powfb_xyzcool_elec3_2000mV41Hz0mVdc_328_fpga')"
   ]
  },
  {
   "cell_type": "code",
   "execution_count": null,
   "metadata": {},
   "outputs": [],
   "source": []
  },
  {
   "cell_type": "code",
   "execution_count": null,
   "metadata": {},
   "outputs": [],
   "source": []
  },
  {
   "cell_type": "code",
   "execution_count": null,
   "metadata": {},
   "outputs": [],
   "source": []
  },
  {
   "cell_type": "code",
   "execution_count": null,
   "metadata": {},
   "outputs": [],
   "source": []
  },
  {
   "cell_type": "code",
   "execution_count": null,
   "metadata": {},
   "outputs": [],
   "source": []
  }
 ],
 "metadata": {
  "kernelspec": {
   "display_name": "Python 2",
   "language": "python",
   "name": "python2"
  },
  "language_info": {
   "codemirror_mode": {
    "name": "ipython",
    "version": 3
   },
   "file_extension": ".py",
   "mimetype": "text/x-python",
   "name": "python",
   "nbconvert_exporter": "python",
   "pygments_lexer": "ipython3",
   "version": "3.6.9"
  }
 },
 "nbformat": 4,
 "nbformat_minor": 4
}
