{
 "cells": [
  {
   "cell_type": "code",
   "execution_count": 1,
   "metadata": {},
   "outputs": [],
   "source": [
    "import numpy as np\n",
    "import matplotlib.pyplot as plt\n",
    "import matplotlib\n",
    "from scipy import signal\n",
    "import random\n",
    "\n",
    "import h5py\n",
    "from IPython.utils import io\n",
    "\n",
    "from joblib import Parallel, delayed\n",
    "from tqdm import tqdm\n",
    "import sys"
   ]
  },
  {
   "cell_type": "code",
   "execution_count": 2,
   "metadata": {},
   "outputs": [],
   "source": [
    "%matplotlib widget\n",
    "\n",
    "%reload_ext autoreload\n",
    "%autoreload 2"
   ]
  },
  {
   "cell_type": "code",
   "execution_count": 3,
   "metadata": {},
   "outputs": [],
   "source": [
    "sys.path.append('../../../../nadavp/new_trap/Tools/')\n",
    "sys.path.append('../../../../nadavp/new_trap/Tools/StatFramework/')\n",
    "sys.path.append('../../../../nadavp/opt_lev_analysis/lib/')\n",
    "import BeadDataFile\n",
    "from discharge_tools import *"
   ]
  },
  {
   "cell_type": "code",
   "execution_count": 4,
   "metadata": {},
   "outputs": [],
   "source": [
    "import bead_util as bu\n",
    "# import calib_util as cal\n",
    "import transfer_func_util as tf\n",
    "import configuration as config"
   ]
  },
  {
   "cell_type": "code",
   "execution_count": 18,
   "metadata": {},
   "outputs": [
    {
     "name": "stdout",
     "output_type": "stream",
     "text": [
      "2.31152697032\n",
      "3.13883390555\n",
      "0.323772030213\n",
      "-0.949711757076\n",
      "-0.566816510262\n",
      "-0.635396658274\n",
      "-2.57490745403\n",
      "-4.99950560769\n",
      "-4.3447800412\n",
      "3.91083787289\n",
      "-0.548221866178\n",
      "-0.641215228504\n"
     ]
    },
    {
     "data": {
      "text/plain": [
       "[None, None, None, None, None, None]"
      ]
     },
     "execution_count": 18,
     "metadata": {},
     "output_type": "execute_result"
    }
   ],
   "source": [
    "fname = r'/data/old_trap/20210715/bead2/teset_bias/spin_50kHz_100V/turbombar_powfb_xyzcool_0.h5'\n",
    "bb = bu.DataFile();\n",
    "bb.load(fname);\n",
    "bb.load_other_data()\n",
    "[print(np.mean(bb.other_data[jj])*100) for jj in range(1,7)]\n",
    "\n",
    "fname = r'/data/old_trap/20210715/bead2/teset_bias/spin_20kHz_100V/turbombar_powfb_xyzcool_0.h5'\n",
    "bb1 = bu.DataFile();\n",
    "bb1.load(fname);\n",
    "bb1.load_other_data()\n",
    "[print(np.mean(bb1.other_data[jj])*100) for jj in range(1,7)]"
   ]
  },
  {
   "cell_type": "code",
   "execution_count": 22,
   "metadata": {},
   "outputs": [
    {
     "data": {
      "application/vnd.jupyter.widget-view+json": {
       "model_id": "d6506270e5b44ca2b4a6228f5c7a9d10",
       "version_major": 2,
       "version_minor": 0
      },
      "text/plain": [
       "Canvas(toolbar=Toolbar(toolitems=[('Home', 'Reset original view', 'home', 'home'), ('Back', 'Back to previous …"
      ]
     },
     "metadata": {},
     "output_type": "display_data"
    },
    {
     "data": {
      "text/plain": [
       "(2.3115269703212018,\n",
       " 3.1388339055466554,\n",
       " -2.5749074540321955,\n",
       " -4.9995056076905486)"
      ]
     },
     "execution_count": 22,
     "metadata": {},
     "output_type": "execute_result"
    }
   ],
   "source": [
    "_,ax = plt.subplots(1,2,figsize=(9.4,4), sharey=True)\n",
    "ax[0].scatter(np.arange(50000)/5000, bb.other_data[1]*100)\n",
    "ax[0].scatter(np.arange(50000)/5000, bb.other_data[2]*100)\n",
    "ax[1].scatter(np.arange(50000)/5000, bb1.other_data[1]*100)\n",
    "ax[1].scatter(np.arange(50000)/5000, bb1.other_data[2]*100)\n",
    "ax[0].set(ylabel='Z-electrodes voltage', xlabel='time [sec.]', title='50kHz spin')\n",
    "ax[1].set(xlabel='time [sec.]', title='10kHz spin')\n",
    "np.mean(bb.other_data[1]*100), np.mean(bb.other_data[2]*100), np.mean(bb1.other_data[1])*100, np.mean(bb1.other_data[2]*100)"
   ]
  },
  {
   "cell_type": "code",
   "execution_count": 51,
   "metadata": {},
   "outputs": [
    {
     "name": "stderr",
     "output_type": "stream",
     "text": [
      "../../../../nadavp/new_trap/Tools/StatFramework/likelihood_calculator/likelihood_analyser.py:622: RuntimeWarning: More than 20 figures have been opened. Figures created through the pyplot interface (`matplotlib.pyplot.figure`) are retained until explicitly closed and may consume too much memory. (To control this warning, see the rcParam `figure.max_open_warning`).\n",
      "  _, ax = plt.subplots(1, 2, figsize=(9.5, 4))\n"
     ]
    },
    {
     "data": {
      "application/vnd.jupyter.widget-view+json": {
       "model_id": "503e1d5de42040a8be2e739576fabbb3",
       "version_major": 2,
       "version_minor": 0
      },
      "text/plain": [
       "Canvas(toolbar=Toolbar(toolitems=[('Home', 'Reset original view', 'home', 'home'), ('Back', 'Back to previous …"
      ]
     },
     "metadata": {},
     "output_type": "display_data"
    },
    {
     "data": {
      "text/plain": [
       "<ValueView of Minuit at 137809c8>\n",
       "  A: -0.013514928403310478\n",
       "  f: 202.99544702059538\n",
       "  phi: 3.7854546693675264"
      ]
     },
     "execution_count": 51,
     "metadata": {},
     "output_type": "execute_result"
    }
   ],
   "source": [
    "fit_kwargs = {'A': 100, 'f': 200, 'phi': -np.pi/2, \n",
    "              'error_A': 100, 'error_f': 100, 'error_phi': 0.5, 'errordef': 1,\n",
    "              'limit_phi': [-2 * np.pi, 2 * np.pi], \n",
    "              'limit_A': [-100000, 100000], \n",
    "              'print_level': 0, 'fix_f': False, 'fix_phi': False}\n",
    "ll = likelihood_analyser.LikelihoodAnalyser()\n",
    "m1_tmp = ll.find_mle_sin(bb.other_data[1]*100, fsamp=5000, noise_rms=1, plot=True, suppress_print=True, **fit_kwargs)\n",
    "m1_tmp.values"
   ]
  },
  {
   "cell_type": "code",
   "execution_count": 29,
   "metadata": {},
   "outputs": [
    {
     "data": {
      "application/vnd.jupyter.widget-view+json": {
       "model_id": "bdd9ae4c29324ad6a9056fa4334d7905",
       "version_major": 2,
       "version_minor": 0
      },
      "text/plain": [
       "Canvas(toolbar=Toolbar(toolitems=[('Home', 'Reset original view', 'home', 'home'), ('Back', 'Back to previous …"
      ]
     },
     "metadata": {},
     "output_type": "display_data"
    },
    {
     "data": {
      "text/plain": [
       "-3.783100328068969"
      ]
     },
     "execution_count": 29,
     "metadata": {},
     "output_type": "execute_result"
    }
   ],
   "source": [
    "_,ax = plt.subplots(1,2,figsize=(9.4,4), sharey=True)\n",
    "ax[0].scatter(range(5000), bb.other_data[3][:5000]*100)\n",
    "ax[0].scatter(range(5000), bb.other_data[4][:5000]*100)\n",
    "ax[1].scatter(range(5000), bb.other_data[5][:5000]*100)\n",
    "ax[1].scatter(range(5000), bb.other_data[6][:5000]*100)\n",
    "np.mean(bb.other_data[3]*100)"
   ]
  },
  {
   "cell_type": "code",
   "execution_count": 9,
   "metadata": {},
   "outputs": [
    {
     "data": {
      "text/plain": [
       "50000"
      ]
     },
     "execution_count": 9,
     "metadata": {},
     "output_type": "execute_result"
    }
   ],
   "source": [
    "len(bb.other_data[1])"
   ]
  },
  {
   "cell_type": "code",
   "execution_count": null,
   "metadata": {},
   "outputs": [],
   "source": []
  },
  {
   "cell_type": "code",
   "execution_count": null,
   "metadata": {},
   "outputs": [],
   "source": []
  },
  {
   "cell_type": "code",
   "execution_count": null,
   "metadata": {},
   "outputs": [],
   "source": []
  }
 ],
 "metadata": {
  "kernelspec": {
   "display_name": "Python 3",
   "language": "python",
   "name": "python3"
  },
  "language_info": {
   "codemirror_mode": {
    "name": "ipython",
    "version": 3
   },
   "file_extension": ".py",
   "mimetype": "text/x-python",
   "name": "python",
   "nbconvert_exporter": "python",
   "pygments_lexer": "ipython3",
   "version": "3.6.9"
  }
 },
 "nbformat": 4,
 "nbformat_minor": 4
}
