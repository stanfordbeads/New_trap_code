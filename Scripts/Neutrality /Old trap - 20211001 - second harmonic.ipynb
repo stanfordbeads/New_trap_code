{
 "cells": [
  {
   "cell_type": "code",
   "execution_count": 1,
   "metadata": {},
   "outputs": [],
   "source": [
    "import numpy as np\n",
    "import matplotlib.pyplot as plt\n",
    "import matplotlib\n",
    "from scipy import signal\n",
    "from scipy.optimize import minimize\n",
    "\n",
    "import random\n",
    "\n",
    "import h5py\n",
    "from IPython.utils import io\n",
    "\n",
    "from joblib import Parallel, delayed\n",
    "from tqdm import tqdm\n",
    "import sys"
   ]
  },
  {
   "cell_type": "code",
   "execution_count": 2,
   "metadata": {},
   "outputs": [],
   "source": [
    "%matplotlib widget\n",
    "\n",
    "%reload_ext autoreload\n",
    "%autoreload 2"
   ]
  },
  {
   "cell_type": "code",
   "execution_count": 3,
   "metadata": {},
   "outputs": [],
   "source": [
    "sys.path.append('../../../../nadavp/new_trap/Tools/')\n",
    "sys.path.append('../../../../nadavp/new_trap/Tools/StatFramework/')\n",
    "sys.path.append('../../../../nadavp/opt_lev_analysis/lib/')\n",
    "import BeadDataFile\n",
    "from discharge_tools import *"
   ]
  },
  {
   "cell_type": "code",
   "execution_count": 4,
   "metadata": {},
   "outputs": [],
   "source": [
    "from likelihood_calculator import likelihood_analyser\n",
    "from likelihood_calculator import GravityFramework\n",
    "from likelihood_calculator import auxiliary_functions as aux\n",
    "gfw = GravityFramework.GravityFramework()"
   ]
  },
  {
   "cell_type": "code",
   "execution_count": 5,
   "metadata": {},
   "outputs": [],
   "source": [
    "import bead_util as bu\n",
    "# import calib_util as cal\n",
    "import transfer_func_util as tf\n",
    "import configuration as config"
   ]
  },
  {
   "cell_type": "markdown",
   "metadata": {},
   "source": [
    "### Discharge data"
   ]
  },
  {
   "cell_type": "code",
   "execution_count": 105,
   "metadata": {},
   "outputs": [],
   "source": [
    "## some are coming from the notebook: Old trap - 20211001 - All calibration with comments\n",
    "bandwidth = 2\n",
    "decimate = 5\n",
    "drive_freq = 139\n",
    "fsamp = 5000\n",
    "\n",
    "scaleZ = 121.96\n",
    "voltage_calib = 23\n",
    "\n",
    "E1, E2 = (131, 195)\n",
    "E_tot = E1+E2\n",
    "factor = 0.621"
   ]
  },
  {
   "cell_type": "code",
   "execution_count": 106,
   "metadata": {},
   "outputs": [
    {
     "name": "stdout",
     "output_type": "stream",
     "text": [
      "voltage:  190.87201524\n"
     ]
    }
   ],
   "source": [
    "i = 0\n",
    "fname = r'/data/old_trap/20211001/bead1/neutrality9/Z_200Vpp_alternate_139Hz_spin_XY_117kHz_175Vpp_delay_4sec_with_height_fb_redo5/Z_200Vpp_'+str(i)+'.h5'\n",
    "bb = bu.DataFile();\n",
    "bb.load(fname);\n",
    "bb.load_other_data()\n",
    "b, a = signal.butter(3, [2.*(drive_freq-bandwidth/2.)/fsamp, 2.*(drive_freq+bandwidth/2.)/fsamp ], btype = 'bandpass')\n",
    "xx2 = signal.filtfilt(b, a, bb.other_data[1])\n",
    "voltage_200 = np.std(xx2)*np.sqrt(2)*100\n",
    "print(\"voltage: \", voltage_200)"
   ]
  },
  {
   "cell_type": "code",
   "execution_count": 9,
   "metadata": {},
   "outputs": [],
   "source": [
    "etha = 1/scaleZ*E_tot*voltage_calib*1.6e-19 ## convert bits to force\n",
    "to_epsilon = 1/(2*131*1.6e-19*voltage_200) ## this is 2E1 - the convertion factor from A to epsilon"
   ]
  },
  {
   "cell_type": "markdown",
   "metadata": {},
   "source": [
    "### Look at neutrality data"
   ]
  },
  {
   "cell_type": "code",
   "execution_count": 10,
   "metadata": {},
   "outputs": [],
   "source": [
    "def get_amp_wraperZ(i, fname):\n",
    "    try:\n",
    "        return get_ampZ_second_harmonic(i, fname)\n",
    "    except:\n",
    "        return 0"
   ]
  },
  {
   "cell_type": "code",
   "execution_count": 175,
   "metadata": {},
   "outputs": [],
   "source": [
    "ll = likelihood_analyser.LikelihoodAnalyser()\n",
    "\n",
    "def get_ampZ_second_harmonic(i, foldername):\n",
    "    \n",
    "    fname = foldername+'Z_200Vpp_'+str(i)+'.h5'\n",
    "    bb = bu.DataFile();\n",
    "    bb.load(fname);\n",
    "    bb.load_other_data()\n",
    "    drive_freq = 139\n",
    "    jj = i%2\n",
    "    freq2 = np.fft.rfftfreq(len(bb.other_data[1+jj]), d=1./5000)\n",
    "    fft_angles = np.angle(np.fft.rfft(bb.other_data[1+jj]))\n",
    "    phi_tmp2 = (fft_angles[freq2==drive_freq]+np.pi/2)%(2*np.pi)\n",
    "\n",
    "    phase_diff = 4.8        \n",
    "    fit_kwargs = {'A': 0, 'f': drive_freq, 'phi': phi_tmp2+phase_diff, \n",
    "                  'error_A': 1, 'error_f': 1, 'error_phi': 0.5, 'errordef': 1,\n",
    "                  'limit_A': [-100000, 100000], 'fix_f': True, 'fix_phi': True,\n",
    "                  'print_level': 0}\n",
    "    \n",
    "    fit_kwargs = {'A': 0, 'f': drive_freq, 'phi': phi_tmp2+phase_diff, 'sigma': 1100,\n",
    "                  'error_A': 0.1, 'error_f': 1, 'error_phi': 0.5, 'errordef': 1, 'error_sigma':50,\n",
    "                  'limit_A': [-100000, 100000], 'limit_sigma':[100,3000000], 'fix_phi': True, 'fix_f': True,\n",
    "                  'print_level': 0}\n",
    "\n",
    "    b, a = signal.butter(3, [2.*(drive_freq-bandwidth/2.)/fsamp, 2.*(drive_freq+bandwidth/2.)/fsamp ], btype = 'bandpass')\n",
    "    xx2 = signal.filtfilt(b, a, bb.pos_data[2])[::decimate]\n",
    "    m1_tmp = ll.find_mle_sin(xx2, fsamp=5000/decimate, noise_rms=1, plot=False, suppress_print=True, **fit_kwargs)\n",
    "    \n",
    "    phase_diff = 5.7   \n",
    "    drive_freq = drive_freq*2\n",
    "    \n",
    "    fit_kwargs = {'A': 0, 'f': 139*2, 'phi': phi_tmp2, \n",
    "                  'error_A': 1, 'error_f': 1, 'error_phi': 0.5, 'errordef': 1,\n",
    "                  'limit_A': [0,150], 'fix_f': True, 'fix_phi': False,\n",
    "                  'print_level': 0}\n",
    "\n",
    "#     fit_kwargs = {'A': 0, 'f': drive_freq*2, 'phi': 0, 'sigma': 1100,\n",
    "#                   'error_A': 0.1, 'error_f': 1, 'error_phi': 0.5, 'errordef': 1, 'error_sigma':50,\n",
    "#                   'limit_A': [0, 100000], 'fix_sigma':True, 'fix_phi': False, 'fix_f': True,\n",
    "#                   'print_level': 0}\n",
    "    \n",
    "    b, a = signal.butter(3, [2.*(drive_freq-bandwidth/2.)/fsamp, 2.*(drive_freq+bandwidth/2.)/fsamp ], btype = 'bandpass')\n",
    "    xx2 = signal.filtfilt(b, a, bb.pos_data[2])[::decimate]\n",
    "    m2_tmp = ll.find_mle_sin(xx2, fsamp=5000/decimate, noise_rms=1, plot=False, suppress_print=True, **fit_kwargs)\n",
    "    \n",
    "    nsamp = 50000\n",
    "    nsamp = len( bb.pos_data[2])\n",
    "    tarr = np.arange(0, nsamp/fsamp, 1.0/fsamp)\n",
    "    sig = np.sin(2.0 * np.pi * drive_freq * tarr+phi_tmp2)\n",
    "\n",
    "    corr = correlation(sig, bb.pos_data[2] , fsamp=5000, fdrive=139*2, filt=False)[0]\n",
    "\n",
    "    return corr, m2_tmp.values[0], m1_tmp.values[3], (m2_tmp.values[2]-phi_tmp2)"
   ]
  },
  {
   "cell_type": "code",
   "execution_count": 176,
   "metadata": {},
   "outputs": [
    {
     "data": {
      "text/plain": [
       "(92.335601359979037,\n",
       " 96.17648026910555,\n",
       " 1639.9315276025404,\n",
       " array([-0.39510762]))"
      ]
     },
     "execution_count": 176,
     "metadata": {},
     "output_type": "execute_result"
    }
   ],
   "source": [
    "base_folder = r'/data/old_trap/20211001/bead1/'\n",
    "fname = base_folder+r'neutrality6/Z_150Vpp_alternate_139Hz_spin_XY_93kHz_200Vpp_delay_3sec_with_height_fb/'\n",
    "get_ampZ_second_harmonic(33, fname)"
   ]
  },
  {
   "cell_type": "code",
   "execution_count": 224,
   "metadata": {
    "scrolled": true
   },
   "outputs": [
    {
     "name": "stderr",
     "output_type": "stream",
     "text": [
      "\n",
      "  0%|          | 0/2000 [00:00<?, ?it/s]\u001b[A\n",
      "  4%|▍         | 80/2000 [00:01<00:41, 45.87it/s]\u001b[A\n",
      "  6%|▌         | 120/2000 [00:02<00:39, 47.01it/s]\u001b[A\n",
      "  8%|▊         | 160/2000 [00:03<00:34, 52.85it/s]\u001b[A\n",
      " 10%|█         | 200/2000 [00:03<00:35, 50.72it/s]\u001b[A\n",
      " 12%|█▏        | 240/2000 [00:04<00:28, 61.50it/s]\u001b[A\n",
      " 14%|█▍        | 280/2000 [00:04<00:25, 66.38it/s]\u001b[A\n",
      " 16%|█▌        | 320/2000 [00:06<00:39, 43.06it/s]\u001b[A\n",
      " 18%|█▊        | 360/2000 [00:06<00:32, 50.40it/s]\u001b[A\n",
      " 20%|██        | 400/2000 [00:07<00:32, 49.62it/s]\u001b[A\n",
      " 22%|██▏       | 440/2000 [00:08<00:26, 57.92it/s]\u001b[A\n",
      " 24%|██▍       | 480/2000 [00:09<00:35, 42.39it/s]\u001b[A\n",
      " 26%|██▌       | 520/2000 [00:10<00:29, 50.78it/s]\u001b[A\n",
      " 28%|██▊       | 560/2000 [00:10<00:28, 51.34it/s]\u001b[A\n",
      " 30%|███       | 600/2000 [00:11<00:23, 58.51it/s]\u001b[A\n",
      " 32%|███▏      | 640/2000 [00:12<00:23, 59.11it/s]\u001b[A\n",
      " 34%|███▍      | 680/2000 [00:12<00:20, 64.59it/s]\u001b[A\n",
      " 36%|███▌      | 720/2000 [00:12<00:18, 69.89it/s]\u001b[A\n",
      " 38%|███▊      | 760/2000 [00:13<00:17, 70.28it/s]\u001b[A\n",
      " 40%|████      | 800/2000 [00:14<00:16, 73.28it/s]\u001b[A\n",
      " 42%|████▏     | 840/2000 [00:14<00:15, 74.81it/s]\u001b[A\n",
      " 44%|████▍     | 880/2000 [00:15<00:14, 76.63it/s]\u001b[A\n",
      " 46%|████▌     | 920/2000 [00:15<00:16, 66.24it/s]\u001b[A\n",
      " 48%|████▊     | 960/2000 [00:16<00:15, 68.27it/s]\u001b[A\n",
      " 50%|█████     | 1000/2000 [00:16<00:13, 71.81it/s]\u001b[A\n",
      " 52%|█████▏    | 1040/2000 [00:17<00:12, 74.00it/s]\u001b[A\n",
      " 54%|█████▍    | 1080/2000 [00:17<00:12, 73.14it/s]\u001b[A\n",
      " 56%|█████▌    | 1120/2000 [00:18<00:11, 76.90it/s]\u001b[A\n",
      " 58%|█████▊    | 1160/2000 [00:18<00:11, 74.72it/s]\u001b[A\n",
      " 60%|██████    | 1200/2000 [00:19<00:10, 78.35it/s]\u001b[A\n",
      " 62%|██████▏   | 1240/2000 [00:19<00:09, 78.49it/s]\u001b[A\n",
      " 64%|██████▍   | 1280/2000 [00:20<00:09, 76.67it/s]\u001b[A\n",
      " 66%|██████▌   | 1320/2000 [00:21<00:10, 65.85it/s]\u001b[A\n",
      " 68%|██████▊   | 1360/2000 [00:21<00:08, 72.12it/s]\u001b[A\n",
      " 70%|███████   | 1400/2000 [00:22<00:08, 74.80it/s]\u001b[A\n",
      " 72%|███████▏  | 1440/2000 [00:22<00:08, 65.71it/s]\u001b[A\n",
      " 74%|███████▍  | 1480/2000 [00:23<00:07, 68.49it/s]\u001b[A\n",
      " 76%|███████▌  | 1520/2000 [00:24<00:06, 70.82it/s]\u001b[A\n",
      " 78%|███████▊  | 1560/2000 [00:24<00:06, 72.33it/s]\u001b[A\n",
      " 80%|████████  | 1600/2000 [00:24<00:05, 77.14it/s]\u001b[A\n",
      " 82%|████████▏ | 1640/2000 [00:25<00:04, 80.42it/s]\u001b[A\n",
      " 84%|████████▍ | 1680/2000 [00:26<00:04, 64.67it/s]\u001b[A\n",
      " 86%|████████▌ | 1720/2000 [00:26<00:04, 64.75it/s]\u001b[A\n",
      " 88%|████████▊ | 1760/2000 [00:27<00:04, 59.83it/s]\u001b[A\n",
      " 90%|█████████ | 1800/2000 [00:28<00:03, 65.64it/s]\u001b[A\n",
      " 92%|█████████▏| 1840/2000 [00:28<00:02, 67.38it/s]\u001b[A\n",
      " 94%|█████████▍| 1880/2000 [00:29<00:01, 70.35it/s]\u001b[A\n",
      " 96%|█████████▌| 1920/2000 [00:29<00:01, 73.69it/s]\u001b[A\n",
      " 98%|█████████▊| 1960/2000 [00:30<00:00, 69.21it/s]\u001b[A\n",
      "100%|██████████| 2000/2000 [00:31<00:00, 62.07it/s]\u001b[A/home/analysis_user/.local/lib/python3.6/site-packages/ipykernel_launcher.py:7: VisibleDeprecationWarning: Creating an ndarray from ragged nested sequences (which is a list-or-tuple of lists-or-tuples-or ndarrays with different lengths or shapes) is deprecated. If you meant to do this, you must specify 'dtype=object' when creating the ndarray\n",
      "  import sys\n"
     ]
    }
   ],
   "source": [
    "base_folder = r'/data/old_trap/20211001/bead1/'\n",
    "fnames = base_folder+r'neutrality11/Z_200Vpp_alternate_139Hz_spin_XY_117kHz_200Vpp_delay_6sec_with_height_fb/'\n",
    "\n",
    "# base_folder = r'/data/old_trap/20211001/bead1/'\n",
    "# fnames = base_folder+r'neutrality8/Z_200Vpp_alternate_139Hz_spin_XY_117kHz_175Vpp_delay_5sec_with_height_fb/'\n",
    "\n",
    "amps_tmp = np.array(Parallel(n_jobs=40)(delayed(get_amp_wraperZ)(i, fname) for i in tqdm(range(2000))))"
   ]
  },
  {
   "cell_type": "code",
   "execution_count": 246,
   "metadata": {},
   "outputs": [
    {
     "data": {
      "application/vnd.jupyter.widget-view+json": {
       "model_id": "5500c733458649e084aa68aaae3b56fa",
       "version_major": 2,
       "version_minor": 0
      },
      "text/plain": [
       "Canvas(toolbar=Toolbar(toolitems=[('Home', 'Reset original view', 'home', 'home'), ('Back', 'Back to previous …"
      ]
     },
     "metadata": {},
     "output_type": "display_data"
    },
    {
     "data": {
      "text/plain": [
       "[Text(0.5, 0, 'file #'), Text(0, 0.5, 'induced edm [$e \\\\, \\\\mu m$]')]"
      ]
     },
     "execution_count": 246,
     "metadata": {},
     "output_type": "execute_result"
    }
   ],
   "source": [
    "amp_fit = (amps_tmp[::2,3])%(2*np.pi)\n",
    "amp_fit1 = (amps_tmp[1::2,3])%(2*np.pi)\n",
    "\n",
    "_,ax = plt.subplots(2,1,figsize=(9.3,6), sharex=True)\n",
    "ax[0].plot(range(len(amp_fit)), amp_fit, '+')\n",
    "ax[0].plot(range(len(amp_fit1)), amp_fit1, '*')\n",
    "\n",
    "phase_fit = amps_tmp[::2,1]/(1.2e5*200)/1.6e-19*1e6*etha*2\n",
    "phase_fit1 = amps_tmp[1::2,1]/(1.7e5*200)/1.6e-19*1e6*etha*2\n",
    "\n",
    "ax[1].scatter(range(len(phase_fit)), phase_fit)\n",
    "ax[1].scatter(range(len(phase_fit1)), phase_fit1)\n",
    "\n",
    "ax[1].set(xlabel='file #', ylabel=r'induced edm [$e \\, \\mu m$]')"
   ]
  },
  {
   "cell_type": "code",
   "execution_count": 234,
   "metadata": {},
   "outputs": [
    {
     "data": {
      "application/vnd.jupyter.widget-view+json": {
       "model_id": "cbed258e4aa24d6cada80817bd3977e3",
       "version_major": 2,
       "version_minor": 0
      },
      "text/plain": [
       "Canvas(toolbar=Toolbar(toolitems=[('Home', 'Reset original view', 'home', 'home'), ('Back', 'Back to previous …"
      ]
     },
     "metadata": {},
     "output_type": "display_data"
    },
    {
     "data": {
      "text/plain": [
       "[Text(0.5, 0, 'file #'), Text(0, 0.5, 'induced edm [$e \\\\, \\\\mu m$]')]"
      ]
     },
     "execution_count": 234,
     "metadata": {},
     "output_type": "execute_result"
    }
   ],
   "source": []
  },
  {
   "cell_type": "code",
   "execution_count": 225,
   "metadata": {},
   "outputs": [
    {
     "data": {
      "application/vnd.jupyter.widget-view+json": {
       "model_id": "2d4120cd2b18456f91393e45cd72fe8c",
       "version_major": 2,
       "version_minor": 0
      },
      "text/plain": [
       "Canvas(toolbar=Toolbar(toolitems=[('Home', 'Reset original view', 'home', 'home'), ('Back', 'Back to previous …"
      ]
     },
     "metadata": {},
     "output_type": "display_data"
    },
    {
     "data": {
      "text/plain": [
       "<matplotlib.collections.PathCollection at 0x7f72b799fa90>"
      ]
     },
     "execution_count": 225,
     "metadata": {},
     "output_type": "execute_result"
    }
   ],
   "source": [
    "phase_fit = amps_tmp[::2,1]*etha\n",
    "phase_fit1 = amps_tmp[1::2,1]*etha\n",
    "\n",
    "_,ax = plt.subplots(figsize=(9.3,4))\n",
    "ax.scatter(range(len(phase_fit)), phase_fit)\n",
    "ax.scatter(range(len(phase_fit1)), phase_fit1)\n"
   ]
  },
  {
   "cell_type": "code",
   "execution_count": null,
   "metadata": {},
   "outputs": [],
   "source": []
  },
  {
   "cell_type": "code",
   "execution_count": 219,
   "metadata": {},
   "outputs": [],
   "source": [
    "ll = likelihood_analyser.LikelihoodAnalyser()\n",
    "bandwidth = 2\n",
    "decimate = 10\n",
    "drive_freq = 71\n",
    "phase_calib = -0.0563\n",
    "# phase_calib = -0.0442\n",
    "\n",
    "def get_amp_new_trap(i):\n",
    "    \n",
    "    fname = r'/data/new_trap/20210622/bead1/Neutrality2/Relaxation_20210708/200V_2/Discharge_'+str(i)+'.h5'\n",
    "    bb = BeadDataFile.BeadDataFile(fname=fname)\n",
    "\n",
    "    drive_freq = 71\n",
    "    fit_kwargs = {'A': 0, 'f': drive_freq, 'phi': 0, \n",
    "                  'error_A': 1, 'error_f': 1, 'error_phi': 0.5, 'errordef': 1,\n",
    "                  'limit_phi': [-2 * np.pi, 2 * np.pi], \n",
    "                  'limit_A': [-1, 1], \n",
    "                  'print_level': 0, 'fix_f': True, 'fix_phi': True}\n",
    "\n",
    "    fit_kwargs = {'A': 0, 'f': drive_freq, 'phi': 0, 'sigma': 0.1,\n",
    "                  'error_A': 1, 'error_f': 1, 'error_phi': 0.5, 'errordef': 1, 'error_sigma':0.1,\n",
    "                  'limit_phi': [-2 * np.pi, 2 * np.pi], 'limit_sigma': [0, 1],\n",
    "                  'limit_A': [-100, 100], \n",
    "                  'print_level': 0, 'fix_f': True, 'fix_phi': True}\n",
    "\n",
    "    b, a = signal.butter(3, [2.*(drive_freq-bandwidth/2.)/fsamp, 2.*(drive_freq+bandwidth/2.)/fsamp ], btype = 'bandpass')\n",
    "    xx2 = signal.filtfilt(b, a, bb.y2)[::decimate]\n",
    "    \n",
    "    m1_tmp = ll.find_mle_sin(xx2, fsamp=5000/decimate, noise_rms=1, plot=False, suppress_print=True, **fit_kwargs)\n",
    "    \n",
    "    drive_freq = 142+1\n",
    "    fit_kwargs = {'A': 0, 'f': drive_freq, 'phi': np.pi/2, 'sigma': 0.1,\n",
    "              'error_A': 1, 'error_f': 1, 'error_phi': 0.5, 'errordef': 1, 'error_sigma':0.1,\n",
    "               'fix_phi': False, 'limit_sigma': [0, 1],\n",
    "              'limit_A': [0, 100], \n",
    "              'print_level': 0, 'fix_f': True}\n",
    "\n",
    "    b, a = signal.butter(3, [2.*(drive_freq-bandwidth/2.)/fsamp, 2.*(drive_freq+bandwidth/2.)/fsamp ], btype = 'bandpass')\n",
    "    xx2 = signal.filtfilt(b, a, bb.y2)[::decimate]\n",
    "    \n",
    "    m2_tmp = ll.find_mle_sin(xx2, fsamp=5000/decimate, noise_rms=1, plot=False, suppress_print=True, **fit_kwargs)\n",
    "    \n",
    "    return m1_tmp.values[0],  m2_tmp.values[0], m2_tmp.values[2]%(2*np.pi)"
   ]
  },
  {
   "cell_type": "code",
   "execution_count": 220,
   "metadata": {},
   "outputs": [
    {
     "data": {
      "text/plain": [
       "(3.3359027753476767e-06, 8.494699066385891e-06, 2.10350868661547)"
      ]
     },
     "execution_count": 220,
     "metadata": {},
     "output_type": "execute_result"
    }
   ],
   "source": [
    "get_amp_new_trap(0)"
   ]
  },
  {
   "cell_type": "code",
   "execution_count": 221,
   "metadata": {
    "scrolled": true
   },
   "outputs": [
    {
     "name": "stderr",
     "output_type": "stream",
     "text": [
      "\n",
      "  0%|          | 0/2000 [00:00<?, ?it/s]\u001b[A\n",
      "  2%|▏         | 40/2000 [00:00<00:30, 63.92it/s]\u001b[A\n",
      "  4%|▍         | 80/2000 [00:01<00:38, 49.56it/s]\u001b[A\n",
      "  6%|▌         | 120/2000 [00:02<00:35, 53.12it/s]\u001b[A\n",
      "  8%|▊         | 160/2000 [00:02<00:30, 60.02it/s]\u001b[A\n",
      " 10%|█         | 200/2000 [00:03<00:29, 61.44it/s]\u001b[A\n",
      " 12%|█▏        | 240/2000 [00:03<00:24, 72.72it/s]\u001b[A\n",
      " 14%|█▍        | 280/2000 [00:04<00:21, 81.40it/s]\u001b[A\n",
      " 16%|█▌        | 320/2000 [00:04<00:18, 89.33it/s]\u001b[A\n",
      " 18%|█▊        | 360/2000 [00:05<00:21, 77.77it/s]\u001b[A\n",
      " 20%|██        | 400/2000 [00:05<00:18, 86.57it/s]\u001b[A\n",
      " 22%|██▏       | 440/2000 [00:06<00:19, 79.80it/s]\u001b[A\n",
      " 24%|██▍       | 480/2000 [00:06<00:17, 85.68it/s]\u001b[A\n",
      " 26%|██▌       | 520/2000 [00:07<00:21, 69.48it/s]\u001b[A\n",
      " 28%|██▊       | 560/2000 [00:07<00:20, 70.55it/s]\u001b[A\n",
      " 30%|███       | 600/2000 [00:08<00:20, 67.86it/s]\u001b[A\n",
      " 32%|███▏      | 640/2000 [00:08<00:17, 79.87it/s]\u001b[A\n",
      " 34%|███▍      | 680/2000 [00:09<00:18, 70.85it/s]\u001b[A\n",
      " 36%|███▌      | 720/2000 [00:10<00:19, 65.91it/s]\u001b[A\n",
      " 38%|███▊      | 760/2000 [00:10<00:18, 66.78it/s]\u001b[A\n",
      " 40%|████      | 800/2000 [00:11<00:15, 77.83it/s]\u001b[A\n",
      " 42%|████▏     | 840/2000 [00:11<00:16, 70.59it/s]\u001b[A\n",
      " 44%|████▍     | 880/2000 [00:12<00:16, 67.88it/s]\u001b[A\n",
      " 46%|████▌     | 920/2000 [00:13<00:16, 65.89it/s]\u001b[A\n",
      " 48%|████▊     | 960/2000 [00:13<00:13, 77.58it/s]\u001b[A\n",
      " 50%|█████     | 1000/2000 [00:14<00:14, 70.93it/s]\u001b[A\n",
      " 52%|█████▏    | 1040/2000 [00:14<00:14, 65.97it/s]\u001b[A\n",
      " 54%|█████▍    | 1080/2000 [00:15<00:14, 65.50it/s]\u001b[A\n",
      " 56%|█████▌    | 1120/2000 [00:16<00:13, 65.46it/s]\u001b[A\n",
      " 58%|█████▊    | 1160/2000 [00:16<00:13, 64.32it/s]\u001b[A\n",
      " 60%|██████    | 1200/2000 [00:17<00:12, 64.26it/s]\u001b[A\n",
      " 62%|██████▏   | 1240/2000 [00:17<00:10, 72.23it/s]\u001b[A\n",
      " 64%|██████▍   | 1280/2000 [00:18<00:08, 82.68it/s]\u001b[A\n",
      " 66%|██████▌   | 1320/2000 [00:18<00:08, 76.70it/s]\u001b[A\n",
      " 68%|██████▊   | 1360/2000 [00:19<00:07, 82.83it/s]\u001b[A\n",
      " 70%|███████   | 1400/2000 [00:19<00:07, 76.98it/s]\u001b[A\n",
      " 72%|███████▏  | 1440/2000 [00:20<00:09, 59.98it/s]\u001b[A\n",
      " 74%|███████▍  | 1480/2000 [00:20<00:07, 71.88it/s]\u001b[A\n",
      " 76%|███████▌  | 1520/2000 [00:21<00:07, 68.25it/s]\u001b[A\n",
      " 78%|███████▊  | 1560/2000 [00:22<00:05, 77.40it/s]\u001b[A\n",
      " 80%|████████  | 1600/2000 [00:22<00:05, 68.76it/s]\u001b[A\n",
      " 82%|████████▏ | 1640/2000 [00:23<00:05, 67.74it/s]\u001b[A\n",
      " 84%|████████▍ | 1680/2000 [00:23<00:04, 78.11it/s]\u001b[A\n",
      " 86%|████████▌ | 1720/2000 [00:24<00:04, 69.04it/s]\u001b[A\n",
      " 88%|████████▊ | 1760/2000 [00:24<00:02, 82.08it/s]\u001b[A\n",
      " 90%|█████████ | 1800/2000 [00:25<00:02, 75.72it/s]\u001b[A\n",
      " 92%|█████████▏| 1840/2000 [00:25<00:01, 81.61it/s]\u001b[A\n",
      " 94%|█████████▍| 1880/2000 [00:26<00:01, 86.27it/s]\u001b[A\n",
      " 96%|█████████▌| 1920/2000 [00:26<00:01, 76.91it/s]\u001b[A\n",
      " 98%|█████████▊| 1960/2000 [00:27<00:00, 87.62it/s]\u001b[A\n",
      "100%|██████████| 2000/2000 [00:27<00:00, 91.74it/s]\u001b[A"
     ]
    }
   ],
   "source": [
    "amps_tmp_new_trap_noise = np.array(Parallel(n_jobs=40)(delayed(get_amp_new_trap)(i) for i in tqdm(range(2000))))"
   ]
  },
  {
   "cell_type": "code",
   "execution_count": 216,
   "metadata": {},
   "outputs": [],
   "source": [
    "etha_new = 1/3.54e-05*(62.9+86.2)*10*1.6e-19 ## convert bits to force"
   ]
  },
  {
   "cell_type": "code",
   "execution_count": 245,
   "metadata": {},
   "outputs": [
    {
     "data": {
      "application/vnd.jupyter.widget-view+json": {
       "model_id": "0e03930b311c4de99d4495ef580a2e41",
       "version_major": 2,
       "version_minor": 0
      },
      "text/plain": [
       "Canvas(toolbar=Toolbar(toolitems=[('Home', 'Reset original view', 'home', 'home'), ('Back', 'Back to previous …"
      ]
     },
     "metadata": {},
     "output_type": "display_data"
    },
    {
     "data": {
      "text/plain": [
       "[Text(0.5, 0, 'file #'), Text(0, 0.5, 'induced edm [$e \\\\, \\\\mu m$]')]"
      ]
     },
     "execution_count": 245,
     "metadata": {},
     "output_type": "execute_result"
    }
   ],
   "source": [
    "amp_fit = (amps_tmp_new_trap[2::4,2])%(2*np.pi)\n",
    "amp_fit1 = (amps_tmp_new_trap_noise[2::4,2])%(2*np.pi)\n",
    "\n",
    "_,ax = plt.subplots(2,1,figsize=(9.3,6), sharex=True)\n",
    "ax[0].plot(range(len(amp_fit)), amp_fit, '+')\n",
    "ax[0].plot(range(len(amp_fit1)), amp_fit1, '*')\n",
    "ax[0].set(ylabel=r'phase [rad]')\n",
    "\n",
    "phase_fit = amps_tmp_new_trap[2::4,1]/(3.2e4*200)/1.6e-19*1e6*etha_new*2\n",
    "phase_fit1 = amps_tmp_new_trap_noise[2::4,1]/(3.2e4*200)/1.6e-19*1e6*etha_new*2\n",
    "\n",
    "ax[1].scatter(range(len(phase_fit)), phase_fit,label='second harmonic - bottom electrode')\n",
    "ax[1].scatter(range(len(phase_fit1)), phase_fit1,label='sideband')\n",
    "ax[1].legend()\n",
    "ax[1].set(xlabel='file #', ylabel=r'induced edm [$e \\, \\mu m$]')"
   ]
  },
  {
   "cell_type": "code",
   "execution_count": 240,
   "metadata": {},
   "outputs": [
    {
     "data": {
      "application/vnd.jupyter.widget-view+json": {
       "model_id": "4b4dd9da04c44f428d3100f6a0cff4b0",
       "version_major": 2,
       "version_minor": 0
      },
      "text/plain": [
       "Canvas(toolbar=Toolbar(toolitems=[('Home', 'Reset original view', 'home', 'home'), ('Back', 'Back to previous …"
      ]
     },
     "metadata": {},
     "output_type": "display_data"
    },
    {
     "data": {
      "text/plain": [
       "[Text(0.5, 0, 'file #'), Text(0, 0.5, 'induced edm [$e \\\\, \\\\mu m$]')]"
      ]
     },
     "execution_count": 240,
     "metadata": {},
     "output_type": "execute_result"
    }
   ],
   "source": [
    "phase_fit = amps_tmp_new_trap[2::4,1]/(3.2e4*200)/1.6e-19*1e6*etha_new*2\n",
    "phase_fit1 = amps_tmp_new_trap_noise[2::4,1]/(3.2e4*200)/1.6e-19*1e6*etha_new*2\n",
    "\n",
    "_,ax = plt.subplots(figsize=(9.3,4))\n",
    "ax.scatter(range(len(phase_fit)), phase_fit,label='second harmonic - bottom electrode')\n",
    "ax.scatter(range(len(phase_fit1)), phase_fit1,label='sideband')\n",
    "ax.legend()\n",
    "ax.set(xlabel='file #', ylabel=r'induced edm [$e \\, \\mu m$]')"
   ]
  },
  {
   "cell_type": "code",
   "execution_count": 230,
   "metadata": {},
   "outputs": [
    {
     "data": {
      "application/vnd.jupyter.widget-view+json": {
       "model_id": "3009472521874f10a72ef987ead4c6c4",
       "version_major": 2,
       "version_minor": 0
      },
      "text/plain": [
       "Canvas(toolbar=Toolbar(toolitems=[('Home', 'Reset original view', 'home', 'home'), ('Back', 'Back to previous …"
      ]
     },
     "metadata": {},
     "output_type": "display_data"
    },
    {
     "data": {
      "text/plain": [
       "<matplotlib.collections.PathCollection at 0x7f71d69db828>"
      ]
     },
     "execution_count": 230,
     "metadata": {},
     "output_type": "execute_result"
    }
   ],
   "source": [
    "phase_fit = amps_tmp_new_trap[::4,1]/(2.6e4*200)/1.6e-19*1e6*etha_new*2\n",
    "# phase_fit1 = amps_tmp_new_trap[1::2,1]/(3.2e4*200)/1.6e-19*1e6*etha_new*2\n",
    "phase_fit1 = amps_tmp_new_trap_noise[2::4,1]/(2.6e4*200)/1.6e-19*1e6*etha_new*2\n",
    "\n",
    "_,ax = plt.subplots(figsize=(9.3,4))\n",
    "ax.scatter(range(len(phase_fit)), phase_fit)\n",
    "ax.scatter(range(len(phase_fit1)), phase_fit1)\n",
    "ax.set(xlabel='file #', ylabel=r'induced edm [$e \\, \\mu m$]')"
   ]
  },
  {
   "cell_type": "code",
   "execution_count": null,
   "metadata": {},
   "outputs": [],
   "source": []
  },
  {
   "cell_type": "code",
   "execution_count": null,
   "metadata": {},
   "outputs": [],
   "source": []
  }
 ],
 "metadata": {
  "kernelspec": {
   "display_name": "Python 3",
   "language": "python",
   "name": "python3"
  },
  "language_info": {
   "codemirror_mode": {
    "name": "ipython",
    "version": 3
   },
   "file_extension": ".py",
   "mimetype": "text/x-python",
   "name": "python",
   "nbconvert_exporter": "python",
   "pygments_lexer": "ipython3",
   "version": "3.6.9"
  }
 },
 "nbformat": 4,
 "nbformat_minor": 4
}
