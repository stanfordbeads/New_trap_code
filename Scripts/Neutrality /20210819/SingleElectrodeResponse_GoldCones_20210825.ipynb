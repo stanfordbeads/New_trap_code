{
 "cells": [
  {
   "cell_type": "code",
   "execution_count": 17,
   "metadata": {},
   "outputs": [],
   "source": [
    "%run /home/analysis_user/New_trap_code/Tools/basic_packages.py\n",
    "from matplotlib.ticker import MaxNLocator\n",
    "\n",
    "\n",
    "plt.rcParams[\"figure.figsize\"] = (16,12)\n",
    "plt.rcParams[\"font.size\"] = 24\n",
    "plt.rcParams['xtick.labelsize'] = \"small\"\n",
    "plt.rcParams['ytick.labelsize'] = 36"
   ]
  },
  {
   "cell_type": "code",
   "execution_count": 18,
   "metadata": {},
   "outputs": [],
   "source": [
    "ll = likelihood_analyser.LikelihoodAnalyser()\n",
    "bandwidth = 2\n",
    "decimate = 10\n",
    "drive_freq = 71\n",
    "fsamp = 5000\n",
    "def get_scale(i,phase=\"sin\"):\n",
    "    calibrationFile = step_cal_files[i]       \n",
    "    calibFreqs = np.fft.rfftfreq(len(calibrationFile.electrode_data[0]), d=1./5000)\n",
    "    fft_angles = np.angle(np.fft.rfft(calibrationFile.electrode_data[0]))\n",
    "    if(phase==\"cos\"):\n",
    "        phaseResponse = (fft_angles[calibFreqs==drive_freq])%(2*np.pi)\n",
    "    elif(phase==\"sin\"):\n",
    "        phaseResponse = (fft_angles[calibFreqs==drive_freq]+np.pi/2)%(2*np.pi)\n",
    "\n",
    "    print(phaseResponse,np.std(calibrationFile.electrode_data[0])*np.sqrt(2))\n",
    "\n",
    "    fit_kwargs = {'A': 0, 'f': drive_freq, 'phi': 0, \n",
    "                  'error_A': 1, 'error_f': 1, 'error_phi': 0.5, 'errordef': 1,\n",
    "                  'limit_phi': [-2 * np.pi, 2 * np.pi], \n",
    "                  'limit_A': [-1, 1], \n",
    "                  'print_level': 0, 'fix_f': True, 'fix_phi': True}\n",
    "\n",
    "    frequency = fit_kwargs['f']\n",
    "\n",
    "    b, a = signal.butter(3, [2.*(drive_freq-bandwidth/2.)/fsamp, 2.*(drive_freq+bandwidth/2.)/fsamp ], btype = 'bandpass')\n",
    "    xx2 = signal.filtfilt(b, a, calibrationFile.x2)[::decimate]\n",
    "    \n",
    "    m1_tmp = ll.find_mle_sin(xx2, fsamp=5000/decimate, noise_rms=1, plot=False, suppress_print=True, **fit_kwargs)\n",
    "    \n",
    "    return m1_tmp.values[0]"
   ]
  },
  {
   "cell_type": "code",
   "execution_count": 19,
   "metadata": {},
   "outputs": [
    {
     "name": "stderr",
     "output_type": "stream",
     "text": [
      "100%|██████████| 10/10 [00:00<00:00, 24.36it/s]"
     ]
    },
    {
     "name": "stdout",
     "output_type": "stream",
     "text": [
      "10  files in folder\n",
      "10  files loaded\n"
     ]
    },
    {
     "name": "stderr",
     "output_type": "stream",
     "text": [
      "\n"
     ]
    }
   ],
   "source": [
    "step_cal_dir = r'/data/new_trap/20210819/Bead1/Discharge/SingleResponse/Standard/plus_x/'\n",
    "step_cal_files = load_dir(step_cal_dir, start_file=0)"
   ]
  },
  {
   "cell_type": "code",
   "execution_count": 20,
   "metadata": {},
   "outputs": [
    {
     "name": "stdout",
     "output_type": "stream",
     "text": [
      "0 / 10\n",
      "[0.08164256] 9.996291358974252\n",
      "1 / 10\n",
      "[0.08164295] 9.996287299207635\n",
      "2 / 10\n",
      "[0.08165177] 9.996293767291393\n",
      "3 / 10\n",
      "[0.08164753] 9.996289228249696\n",
      "4 / 10\n",
      "[0.08165847] 9.996295047758263\n",
      "5 / 10\n",
      "[0.08166351] 9.996289603073315\n",
      "6 / 10\n",
      "[0.08165357] 9.996288997930739\n",
      "7 / 10\n",
      "[0.08165966] 9.996294070431219\n",
      "8 / 10\n",
      "[0.08167838] 9.996291808624145\n",
      "9 / 10\n",
      "[0.08168261] 9.996289283900033\n"
     ]
    }
   ],
   "source": [
    "dischargeAmps1 = []\n",
    "for i in range(len(step_cal_files)):\n",
    "    print(i,'/',len(step_cal_files))\n",
    "    dischargeAmps1.append(get_scale(i))"
   ]
  },
  {
   "cell_type": "code",
   "execution_count": 21,
   "metadata": {},
   "outputs": [
    {
     "name": "stderr",
     "output_type": "stream",
     "text": [
      "100%|██████████| 10/10 [00:00<00:00, 32.45it/s]"
     ]
    },
    {
     "name": "stdout",
     "output_type": "stream",
     "text": [
      "10  files in folder\n",
      "10  files loaded\n"
     ]
    },
    {
     "name": "stderr",
     "output_type": "stream",
     "text": [
      "\n"
     ]
    }
   ],
   "source": [
    "step_cal_dir = r'/data/new_trap/20210819/Bead1/Discharge/SingleResponse/Standard/minus_x/'\n",
    "step_cal_files = load_dir(step_cal_dir, start_file=0)"
   ]
  },
  {
   "cell_type": "code",
   "execution_count": 22,
   "metadata": {},
   "outputs": [
    {
     "name": "stdout",
     "output_type": "stream",
     "text": [
      "0 / 10\n",
      "[0.4638042] 0.00011956572544555545\n",
      "1 / 10\n",
      "[0.67151998] 0.00012114562185569542\n",
      "2 / 10\n",
      "[0.36529674] 0.00012174467681560128\n",
      "3 / 10\n",
      "[0.51317175] 0.00012061712473132875\n",
      "4 / 10\n",
      "[0.21729539] 0.0001212888449510136\n",
      "5 / 10\n",
      "[0.46225922] 0.00012042140508266521\n",
      "6 / 10\n",
      "[0.59511334] 0.00011913911478909998\n",
      "7 / 10\n",
      "[0.41071241] 0.00011982192811102266\n",
      "8 / 10\n",
      "[0.57382034] 0.00012023469865109958\n",
      "9 / 10\n",
      "[0.38062756] 0.00011983432330420194\n"
     ]
    }
   ],
   "source": [
    "dischargeAmps2 = []\n",
    "for i in range(len(step_cal_files)):\n",
    "    print(i,'/',len(step_cal_files))\n",
    "    dischargeAmps2.append(get_scale(i))"
   ]
  },
  {
   "cell_type": "code",
   "execution_count": 24,
   "metadata": {},
   "outputs": [
    {
     "data": {
      "text/plain": [
       "0.7399796420933165"
      ]
     },
     "execution_count": 24,
     "metadata": {},
     "output_type": "execute_result"
    }
   ],
   "source": [
    "np.mean(dischargeAmps1)/np.mean(dischargeAmps2)"
   ]
  },
  {
   "cell_type": "code",
   "execution_count": null,
   "metadata": {},
   "outputs": [],
   "source": []
  }
 ],
 "metadata": {
  "kernelspec": {
   "display_name": "Python 3",
   "language": "python",
   "name": "python3"
  },
  "language_info": {
   "codemirror_mode": {
    "name": "ipython",
    "version": 3
   },
   "file_extension": ".py",
   "mimetype": "text/x-python",
   "name": "python",
   "nbconvert_exporter": "python",
   "pygments_lexer": "ipython3",
   "version": "3.6.9"
  }
 },
 "nbformat": 4,
 "nbformat_minor": 4
}
