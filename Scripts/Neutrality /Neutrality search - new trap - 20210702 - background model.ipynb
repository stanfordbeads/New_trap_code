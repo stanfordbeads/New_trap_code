{
 "cells": [
  {
   "cell_type": "code",
   "execution_count": 1,
   "metadata": {},
   "outputs": [],
   "source": [
    "%run /home/analysis_user/New_trap_code/Tools/basic_packages.py"
   ]
  },
  {
   "cell_type": "code",
   "execution_count": 2,
   "metadata": {},
   "outputs": [],
   "source": [
    "%matplotlib widget\n",
    "\n",
    "#%reload_ext autoreload\n",
    "#%autoreload 2"
   ]
  },
  {
   "cell_type": "markdown",
   "metadata": {},
   "source": [
    "### Discharge data"
   ]
  },
  {
   "cell_type": "code",
   "execution_count": 3,
   "metadata": {},
   "outputs": [],
   "source": [
    "ll = likelihood_analyser.LikelihoodAnalyser()\n",
    "bandwidth = 2\n",
    "decimate = 10\n",
    "drive_freq = 71\n",
    "fsamp = 5000\n",
    "def func1_scale(i):\n",
    "    bb = step_cal_files[i]\n",
    "        \n",
    "    freq2 = np.fft.rfftfreq(len(bb.electrode_data[0]), d=1./5000)\n",
    "    fft_angles = np.angle(np.fft.rfft(bb.electrode_data[0]))\n",
    "    phi_tmp2 = (fft_angles[freq2==drive_freq]+np.pi/2)%(2*np.pi)\n",
    "    print(phi_tmp2,np.std(bb.electrode_data[0])*np.sqrt(2))\n",
    "\n",
    "    fit_kwargs = {'A': 0, 'f': drive_freq, 'phi': phi_tmp2, \n",
    "                  'error_A': 1, 'error_f': 1, 'error_phi': 0.5, 'errordef': 1,\n",
    "                  'limit_phi': [-2 * np.pi, 2 * np.pi], \n",
    "                  'limit_A': [-1, 1], \n",
    "                  'print_level': 0, 'fix_f': True, 'fix_phi': True}\n",
    "\n",
    "    frequency = fit_kwargs['f']\n",
    "\n",
    "    b, a = signal.butter(3, [2.*(drive_freq-bandwidth/2.)/fsamp, 2.*(drive_freq+bandwidth/2.)/fsamp ], btype = 'bandpass')\n",
    "    xx2 = signal.filtfilt(b, a, bb.x2)[::decimate]\n",
    "    \n",
    "    m1_tmp = ll.find_mle_sin(xx2, fsamp=5000/decimate, noise_rms=1, plot=False, suppress_print=True, **fit_kwargs)\n",
    "    \n",
    "    return m1_tmp.values[0]"
   ]
  },
  {
   "cell_type": "code",
   "execution_count": 4,
   "metadata": {},
   "outputs": [
    {
     "name": "stderr",
     "output_type": "stream",
     "text": [
      "100%|██████████| 280/280 [00:01<00:00, 160.84it/s]"
     ]
    },
    {
     "name": "stdout",
     "output_type": "stream",
     "text": [
      "580  files in folder\n",
      "280  files loaded\n"
     ]
    },
    {
     "name": "stderr",
     "output_type": "stream",
     "text": [
      "\n"
     ]
    }
   ],
   "source": [
    "step_cal_dir = r'/data/new_trap/20210622/bead1/Discharge/FineDischarge/'\n",
    "step_cal_files = load_dir(step_cal_dir, start_file=300)"
   ]
  },
  {
   "cell_type": "code",
   "execution_count": 5,
   "metadata": {},
   "outputs": [
    {
     "name": "stdout",
     "output_type": "stream",
     "text": [
      "0 / 280\n",
      "[0.08190331] 9.996283880412916\n",
      "1 / 280\n",
      "[0.08190909] 9.996281304225382\n",
      "2 / 280\n",
      "[0.08189878] 9.996281537733502\n",
      "3 / 280\n",
      "[0.08188683] 9.996288002004473\n",
      "4 / 280\n",
      "[0.08188301] 9.996283855239406\n",
      "5 / 280\n",
      "[0.0818812] 9.996280896041402\n",
      "6 / 280\n",
      "[0.08188132] 9.996280781109695\n",
      "7 / 280\n",
      "[0.08187602] 9.996281466488083\n",
      "8 / 280\n",
      "[0.08187166] 9.996283836062767\n",
      "9 / 280\n",
      "[0.08186824] 9.99628049649982\n",
      "10 / 280\n",
      "[0.08185259] 9.99628122742368\n",
      "11 / 280\n",
      "[0.08184229] 9.996278292760515\n",
      "12 / 280\n",
      "[0.08184375] 9.9962872679154\n",
      "13 / 280\n",
      "[0.08185011] 9.996282311106809\n",
      "14 / 280\n",
      "[0.08185688] 9.996282232848417\n",
      "15 / 280\n",
      "[0.08187448] 9.99628608262862\n",
      "16 / 280\n",
      "[0.0818733] 9.996285608676523\n",
      "17 / 280\n",
      "[0.08187297] 9.996284865507036\n",
      "18 / 280\n",
      "[0.08186803] 9.996282915362116\n",
      "19 / 280\n",
      "[0.08185791] 9.996282562713075\n",
      "20 / 280\n",
      "[0.08185112] 9.996280282430336\n",
      "21 / 280\n",
      "[0.08186028] 9.996284879184568\n",
      "22 / 280\n",
      "[0.08187175] 9.99628085579499\n",
      "23 / 280\n",
      "[0.08186014] 9.996283020975962\n",
      "24 / 280\n",
      "[0.08186719] 9.996287090219038\n",
      "25 / 280\n",
      "[0.08187277] 9.996287771294499\n",
      "26 / 280\n",
      "[0.08186604] 9.996286295287511\n",
      "27 / 280\n",
      "[0.08187112] 9.99628571998517\n",
      "28 / 280\n",
      "[0.08187512] 9.996282222081781\n",
      "29 / 280\n",
      "[0.08188221] 9.996286036575956\n",
      "30 / 280\n",
      "[0.08186483] 9.996283785684005\n",
      "31 / 280\n",
      "[0.08187266] 9.996285135448183\n",
      "32 / 280\n",
      "[0.08187324] 9.996282538537606\n",
      "33 / 280\n",
      "[0.08188874] 9.996283534744427\n",
      "34 / 280\n",
      "[0.08188896] 9.99628661317381\n",
      "35 / 280\n",
      "[0.0818828] 9.996282623309314\n",
      "36 / 280\n",
      "[0.08188617] 9.996279438516304\n",
      "37 / 280\n",
      "[0.08188613] 9.996284976718998\n",
      "38 / 280\n",
      "[0.08187291] 9.996283149110333\n",
      "39 / 280\n",
      "[0.08188045] 9.996287143113223\n",
      "40 / 280\n",
      "[0.081876] 9.996282793572396\n",
      "41 / 280\n",
      "[0.0818867] 9.996286453276122\n",
      "42 / 280\n",
      "[0.0818874] 9.996281230905474\n",
      "43 / 280\n",
      "[0.08188329] 9.996281545328074\n",
      "44 / 280\n",
      "[0.08189233] 9.996287504481067\n",
      "45 / 280\n",
      "[0.08191878] 9.996284903912137\n",
      "46 / 280\n",
      "[0.08190562] 9.996281723633048\n",
      "47 / 280\n",
      "[0.08190662] 9.99628253468578\n",
      "48 / 280\n",
      "[0.08190671] 9.996283624141688\n",
      "49 / 280\n",
      "[0.08188348] 9.996282530522075\n",
      "50 / 280\n",
      "[0.08189417] 9.996288106279072\n",
      "51 / 280\n",
      "[0.08188794] 9.996287016605185\n",
      "52 / 280\n",
      "[0.08188155] 9.996286467334345\n",
      "53 / 280\n",
      "[0.08188264] 9.996287037133602\n",
      "54 / 280\n",
      "[0.08188203] 9.996281746141294\n",
      "55 / 280\n",
      "[0.08188924] 9.99628479204595\n",
      "56 / 280\n",
      "[0.08190317] 9.996283733985829\n",
      "57 / 280\n",
      "[0.0819012] 9.996283437989296\n",
      "58 / 280\n",
      "[0.08190243] 9.996285997370904\n",
      "59 / 280\n",
      "[0.08188907] 9.996280475513016\n",
      "60 / 280\n",
      "[0.08188828] 9.996286482294819\n",
      "61 / 280\n",
      "[0.08188144] 9.996282308815191\n",
      "62 / 280\n",
      "[0.08189047] 9.996281889186278\n",
      "63 / 280\n",
      "[0.08188251] 9.996288614980553\n",
      "64 / 280\n",
      "[0.08189575] 9.99628202845845\n",
      "65 / 280\n",
      "[0.08189531] 9.996285327881179\n",
      "66 / 280\n",
      "[0.08190254] 9.99628578450946\n",
      "67 / 280\n",
      "[0.0819144] 9.99628441424409\n",
      "68 / 280\n",
      "[0.08192446] 9.996287298602185\n",
      "69 / 280\n",
      "[0.08190726] 9.996286361261797\n",
      "70 / 280\n",
      "[0.08185406] 9.996283889755825\n",
      "71 / 280\n",
      "[0.0818728] 9.996285466722458\n",
      "72 / 280\n",
      "[0.08186624] 9.9962797364293\n",
      "73 / 280\n",
      "[0.08189195] 9.996278470350687\n",
      "74 / 280\n",
      "[0.08188707] 9.99628075181612\n",
      "75 / 280\n",
      "[0.08189508] 9.996278561974156\n",
      "76 / 280\n",
      "[0.0818909] 9.996278257511896\n",
      "77 / 280\n",
      "[0.08187893] 9.996276419968765\n",
      "78 / 280\n",
      "[0.08188869] 9.996278461415807\n",
      "79 / 280\n",
      "[0.08188584] 9.996284198064156\n",
      "80 / 280\n",
      "[0.08187654] 9.996278223771867\n",
      "81 / 280\n",
      "[0.0818905] 9.996281928049878\n",
      "82 / 280\n",
      "[0.08190597] 9.996277190372995\n",
      "83 / 280\n",
      "[0.08188704] 9.99627981955461\n",
      "84 / 280\n",
      "[0.08188002] 9.99628345393787\n",
      "85 / 280\n",
      "[0.08187844] 9.996282321060157\n",
      "86 / 280\n",
      "[0.08186647] 9.996283324130793\n",
      "87 / 280\n",
      "[0.08186399] 9.996278073635674\n",
      "88 / 280\n",
      "[0.08186168] 9.996280722334928\n",
      "89 / 280\n",
      "[0.08185956] 9.99628206506365\n",
      "90 / 280\n",
      "[0.08185517] 9.996281068141522\n",
      "91 / 280\n",
      "[0.08183971] 9.996282391301587\n",
      "92 / 280\n",
      "[0.0818585] 9.996278937849079\n",
      "93 / 280\n",
      "[0.08187357] 9.996279859195631\n",
      "94 / 280\n",
      "[0.0818791] 9.996278184784389\n",
      "95 / 280\n",
      "[0.08187249] 9.996281700172023\n",
      "96 / 280\n",
      "[0.08187275] 9.996276422304986\n",
      "97 / 280\n",
      "[0.0818696] 9.99628235263038\n",
      "98 / 280\n",
      "[0.08186263] 9.996277415121225\n",
      "99 / 280\n",
      "[0.0818892] 9.996279214313992\n",
      "100 / 280\n",
      "[0.08188124] 9.996280757358052\n",
      "101 / 280\n",
      "[0.08188345] 9.996282003686092\n",
      "102 / 280\n",
      "[0.08186667] 9.996277162074987\n",
      "103 / 280\n",
      "[0.08186445] 9.996283949786635\n",
      "104 / 280\n",
      "[0.08187875] 9.996278943243805\n",
      "105 / 280\n",
      "[0.08188867] 9.99628321408346\n",
      "106 / 280\n",
      "[0.081877] 9.99628011076282\n",
      "107 / 280\n",
      "[0.0818814] 9.996282821965925\n",
      "108 / 280\n",
      "[0.08188871] 9.99627947378619\n",
      "109 / 280\n",
      "[0.08187971] 9.996282234680718\n",
      "110 / 280\n",
      "[0.08189091] 9.996280407275231\n",
      "111 / 280\n",
      "[0.0818851] 9.996278264639365\n",
      "112 / 280\n",
      "[0.08185854] 9.996275522066641\n",
      "113 / 280\n",
      "[0.08185135] 9.996277331748626\n",
      "114 / 280\n",
      "[0.08185012] 9.996276085265144\n",
      "115 / 280\n",
      "[0.08184079] 9.996281192950867\n",
      "116 / 280\n",
      "[0.08184897] 9.996276248872299\n",
      "117 / 280\n",
      "[0.08182852] 9.996281603711738\n",
      "118 / 280\n",
      "[0.08184646] 9.996276293629808\n",
      "119 / 280\n",
      "[0.08183902] 9.996280916815556\n",
      "120 / 280\n",
      "[0.08184165] 9.99628237277278\n",
      "121 / 280\n",
      "[0.08183607] 9.996279098572995\n",
      "122 / 280\n",
      "[0.08183187] 9.996276133002116\n",
      "123 / 280\n",
      "[0.08183457] 9.996277820480206\n",
      "124 / 280\n",
      "[0.0818225] 9.99628004500853\n",
      "125 / 280\n",
      "[0.08184385] 9.996278847580474\n",
      "126 / 280\n",
      "[0.08182979] 9.99627825690224\n",
      "127 / 280\n",
      "[0.08182928] 9.99627818699056\n",
      "128 / 280\n",
      "[0.08184321] 9.996279195474942\n",
      "129 / 280\n",
      "[0.08184733] 9.996280408965342\n",
      "130 / 280\n",
      "[0.08184625] 9.996279509434252\n",
      "131 / 280\n",
      "[0.08185862] 9.996279837293486\n",
      "132 / 280\n",
      "[0.08185317] 9.996283340948718\n",
      "133 / 280\n",
      "[0.08186083] 9.99628320858802\n",
      "134 / 280\n",
      "[0.08186616] 9.996284751760436\n",
      "135 / 280\n",
      "[0.08186219] 9.996285361366846\n",
      "136 / 280\n",
      "[0.08186459] 9.996281798655227\n",
      "137 / 280\n",
      "[0.08186226] 9.99628020721691\n",
      "138 / 280\n",
      "[0.0818755] 9.996281210866414\n",
      "139 / 280\n",
      "[0.08186757] 9.996279518980337\n",
      "140 / 280\n",
      "[0.08186272] 9.996281076053299\n",
      "141 / 280\n",
      "[0.08184513] 9.996280640374321\n",
      "142 / 280\n",
      "[0.08184306] 9.996284621157873\n",
      "143 / 280\n",
      "[0.08185336] 9.996281952628399\n",
      "144 / 280\n",
      "[0.08184243] 9.996284089027673\n",
      "145 / 280\n",
      "[0.08185296] 9.99627999556821\n",
      "146 / 280\n",
      "[0.08185652] 9.996278837887449\n",
      "147 / 280\n",
      "[0.08185453] 9.996281892101157\n",
      "148 / 280\n",
      "[0.08184351] 9.996277040242049\n",
      "149 / 280\n",
      "[0.08185451] 9.99628170068427\n",
      "150 / 280\n",
      "[0.08184877] 9.996276995646395\n",
      "151 / 280\n",
      "[0.08184001] 9.9962842986577\n",
      "152 / 280\n",
      "[0.08182805] 9.996278798709415\n",
      "153 / 280\n",
      "[0.08184983] 9.996277863840573\n",
      "154 / 280\n",
      "[0.08184833] 9.996280937343705\n",
      "155 / 280\n",
      "[0.08186745] 9.99628051493799\n",
      "156 / 280\n",
      "[0.08186083] 9.996283894517536\n",
      "157 / 280\n",
      "[0.0818686] 9.996281967184345\n",
      "158 / 280\n",
      "[0.08185006] 9.996283967702656\n",
      "159 / 280\n",
      "[0.08186204] 9.996279126556052\n",
      "160 / 280\n",
      "[0.08184428] 9.996279163145\n",
      "161 / 280\n",
      "[0.08183594] 9.996281178656973\n",
      "162 / 280\n",
      "[0.08183232] 9.996277509907786\n",
      "163 / 280\n",
      "[0.0818416] 9.996280080618448\n",
      "164 / 280\n",
      "[0.08183505] 9.996282275406115\n",
      "165 / 280\n",
      "[0.08182993] 9.99627944335011\n",
      "166 / 280\n",
      "[0.08184753] 9.996281867418553\n",
      "167 / 280\n",
      "[0.08184877] 9.996280614515376\n",
      "168 / 280\n",
      "[0.08185021] 9.996281634592233\n",
      "169 / 280\n",
      "[0.08184074] 9.996279459159103\n",
      "170 / 280\n",
      "[0.08184065] 9.996284246273515\n",
      "171 / 280\n",
      "[0.08183942] 9.996279115761428\n",
      "172 / 280\n",
      "[0.08183161] 9.996280783389523\n",
      "173 / 280\n",
      "[0.08186342] 9.996281277085236\n",
      "174 / 280\n",
      "[0.08186376] 9.996281631802006\n",
      "175 / 280\n",
      "[0.08186316] 9.996284225875407\n",
      "176 / 280\n",
      "[0.08186106] 9.996282535824601\n",
      "177 / 280\n",
      "[0.08185157] 9.99628294071157\n",
      "178 / 280\n",
      "[0.08185173] 9.996281829640909\n",
      "179 / 280\n",
      "[0.08184909] 9.99628472451769\n",
      "180 / 280\n",
      "[0.08186834] 9.996281811162593\n",
      "181 / 280\n",
      "[0.08187584] 9.996284439304038\n",
      "182 / 280\n",
      "[0.08187814] 9.996277840266469\n",
      "183 / 280\n",
      "[0.0818905] 9.996282905698973\n",
      "184 / 280\n",
      "[0.08190005] 9.99628044568612\n",
      "185 / 280\n",
      "[0.0818919] 9.996278489075594\n",
      "186 / 280\n",
      "[0.0819019] 9.99627831750381\n",
      "187 / 280\n",
      "[0.08189927] 9.996280136045467\n",
      "188 / 280\n",
      "[0.08189556] 9.996286568396329\n",
      "189 / 280\n",
      "[0.0819039] 9.996285086618485\n",
      "190 / 280\n",
      "[0.08189864] 9.996281394994819\n",
      "191 / 280\n",
      "[0.08189515] 9.996282614089418\n",
      "192 / 280\n",
      "[0.08188833] 9.996281790957944\n",
      "193 / 280\n",
      "[0.08188502] 9.996279391796365\n",
      "194 / 280\n",
      "[0.08187351] 9.996280582360587\n",
      "195 / 280\n",
      "[0.08186911] 9.996281615228732\n",
      "196 / 280\n",
      "[0.08186632] 9.996278692549364\n",
      "197 / 280\n",
      "[0.08189046] 9.996278529577713\n",
      "198 / 280\n",
      "[0.08189275] 9.996284897701738\n",
      "199 / 280\n",
      "[0.08189091] 9.996280820477043\n",
      "200 / 280\n",
      "[0.08190257] 9.99627995658258\n",
      "201 / 280\n",
      "[0.08192002] 9.996285484383979\n",
      "202 / 280\n",
      "[0.08192167] 9.99628248265089\n",
      "203 / 280\n",
      "[0.08191134] 9.996281572805989\n",
      "204 / 280\n",
      "[0.08190602] 9.99627972168721\n",
      "205 / 280\n",
      "[0.0819037] 9.996285364134158\n",
      "206 / 280\n",
      "[0.0819198] 9.996282926699658\n"
     ]
    },
    {
     "name": "stdout",
     "output_type": "stream",
     "text": [
      "207 / 280\n",
      "[0.08191724] 9.996286803289863\n",
      "208 / 280\n",
      "[0.08191292] 9.996282726737947\n",
      "209 / 280\n",
      "[0.08190771] 9.99627836823018\n",
      "210 / 280\n",
      "[0.08189533] 9.996286220251093\n",
      "211 / 280\n",
      "[0.08189578] 9.996282530728573\n",
      "212 / 280\n",
      "[0.08189087] 9.996279481465574\n",
      "213 / 280\n",
      "[0.0818991] 9.996283213603508\n",
      "214 / 280\n",
      "[0.08190371] 9.996283979268693\n",
      "215 / 280\n",
      "[0.08190964] 9.996278217408733\n",
      "216 / 280\n",
      "[0.08190812] 9.996281835959412\n",
      "217 / 280\n",
      "[0.08189192] 9.996278896802057\n",
      "218 / 280\n",
      "[0.08189368] 9.996275926505898\n",
      "219 / 280\n",
      "[0.08190671] 9.996279128442351\n",
      "220 / 280\n",
      "[0.08179691] 9.99627468897426\n",
      "221 / 280\n",
      "[0.08182042] 9.99627516703645\n",
      "222 / 280\n",
      "[0.08180523] 9.99627521228304\n",
      "223 / 280\n",
      "[0.08181146] 9.99627824130788\n",
      "224 / 280\n",
      "[0.08183009] 9.996278267050043\n",
      "225 / 280\n",
      "[0.08180829] 9.996275926682001\n",
      "226 / 280\n",
      "[0.08182235] 9.996279022607434\n",
      "227 / 280\n",
      "[0.08182145] 9.996281920292775\n",
      "228 / 280\n",
      "[0.08182219] 9.99628283021442\n",
      "229 / 280\n",
      "[0.08184658] 9.996279959458805\n",
      "230 / 280\n",
      "[0.08186107] 9.996278940572699\n",
      "231 / 280\n",
      "[0.08185479] 9.996280217483479\n",
      "232 / 280\n",
      "[0.0818335] 9.996273964556677\n",
      "233 / 280\n",
      "[0.08184075] 9.99627808392072\n",
      "234 / 280\n",
      "[0.08184671] 9.996280048447549\n",
      "235 / 280\n",
      "[0.0818646] 9.996273892287004\n",
      "236 / 280\n",
      "[0.08186131] 9.99627225841259\n",
      "237 / 280\n",
      "[0.08186464] 9.996274749993654\n",
      "238 / 280\n",
      "[0.08185296] 9.996279345600184\n",
      "239 / 280\n",
      "[0.08185821] 9.996275024169892\n",
      "240 / 280\n",
      "[0.08184855] 9.996278502224236\n",
      "241 / 280\n",
      "[0.08185507] 9.996278979672544\n",
      "242 / 280\n",
      "[0.08185201] 9.99627740106271\n",
      "243 / 280\n",
      "[0.08184273] 9.996273789864007\n",
      "244 / 280\n",
      "[0.08184783] 9.996277740388383\n",
      "245 / 280\n",
      "[0.08183736] 9.996277814276638\n",
      "246 / 280\n",
      "[0.08185538] 9.996274428621367\n",
      "247 / 280\n",
      "[0.08187408] 9.996277465000135\n",
      "248 / 280\n",
      "[0.08187479] 9.996275548483137\n",
      "249 / 280\n",
      "[0.0818737] 9.996280115409455\n",
      "250 / 280\n",
      "[0.08187215] 9.996275690155784\n",
      "251 / 280\n",
      "[0.08186184] 9.996277456386446\n",
      "252 / 280\n",
      "[0.08186483] 9.996277028520074\n",
      "253 / 280\n",
      "[0.08186359] 9.996281525713078\n",
      "254 / 280\n",
      "[0.08186574] 9.996277598696485\n",
      "255 / 280\n",
      "[0.081838] 9.9962785358373\n",
      "256 / 280\n",
      "[0.08183818] 9.996278388411172\n",
      "257 / 280\n",
      "[0.08184993] 9.996276924626589\n",
      "258 / 280\n",
      "[0.08186144] 9.996278493655483\n",
      "259 / 280\n",
      "[0.08185618] 9.996281192552745\n",
      "260 / 280\n",
      "[0.08184723] 9.996277974201911\n",
      "261 / 280\n",
      "[0.08185695] 9.996278050669703\n",
      "262 / 280\n",
      "[0.08186443] 9.996278182260577\n",
      "263 / 280\n",
      "[0.08186284] 9.996276873713445\n",
      "264 / 280\n",
      "[0.08186013] 9.996278643832389\n",
      "265 / 280\n",
      "[0.08185132] 9.996277366304751\n",
      "266 / 280\n",
      "[0.08187603] 9.996277750538454\n",
      "267 / 280\n",
      "[0.08187941] 9.996281937861209\n",
      "268 / 280\n",
      "[0.08187157] 9.996277202155476\n",
      "269 / 280\n",
      "[0.08186321] 9.996275984648001\n",
      "270 / 280\n",
      "[0.08187628] 9.996276694342674\n",
      "271 / 280\n",
      "[0.08186575] 9.996280366210808\n",
      "272 / 280\n",
      "[0.08188236] 9.996279312544445\n",
      "273 / 280\n",
      "[0.08188218] 9.996274660395137\n",
      "274 / 280\n",
      "[0.08187709] 9.996278288571066\n",
      "275 / 280\n",
      "[0.08186483] 9.99627751198287\n",
      "276 / 280\n",
      "[0.08186659] 9.996281648139638\n",
      "277 / 280\n",
      "[0.08186921] 9.996281464063857\n",
      "278 / 280\n",
      "[0.08186196] 9.996283003370182\n",
      "279 / 280\n",
      "[0.08187315] 9.996282495738035\n"
     ]
    }
   ],
   "source": [
    "amps3 = []\n",
    "for i in range(len(step_cal_files)):\n",
    "    print(i,'/',len(step_cal_files))\n",
    "    amps3.append(func1_scale(i))"
   ]
  },
  {
   "cell_type": "code",
   "execution_count": 6,
   "metadata": {},
   "outputs": [
    {
     "name": "stdout",
     "output_type": "stream",
     "text": [
      "Scale is  -3.542952205750171e-05\n",
      "voltage:  9.996282495738035\n"
     ]
    }
   ],
   "source": [
    "scale = np.abs(np.mean(amps3[180:200]))\n",
    "scaleY = scale*-1.0502\n",
    "print(\"Scale is \", scaleY)\n",
    "bb = step_cal_files[-1]\n",
    "voltage = np.std(bb.electrode_data[0])*np.sqrt(2)\n",
    "print(\"voltage: \", voltage)"
   ]
  },
  {
   "cell_type": "code",
   "execution_count": 237,
   "metadata": {},
   "outputs": [
    {
     "data": {
      "application/vnd.jupyter.widget-view+json": {
       "model_id": "f83074e69b5c4364a99e6ea0e165afb9",
       "version_major": 2,
       "version_minor": 0
      },
      "text/plain": [
       "Canvas(toolbar=Toolbar(toolitems=[('Home', 'Reset original view', 'home', 'home'), ('Back', 'Back to previous …"
      ]
     },
     "metadata": {},
     "output_type": "display_data"
    }
   ],
   "source": [
    "# amps = np.array(amps)\n",
    "amps3 = np.array(amps3)\n",
    "_,ax = plt.subplots()\n",
    "# scale = 326.26\n",
    "\n",
    "# Perrinf\n",
    "ax.scatter(range(len(amps3)), amps3/scale, label='fit phase')\n",
    "# ax.scatter(range(len(amps3)), amps3/scale, label='fit fixed-phases')\n",
    "\n",
    "ax.set(xlabel='dataset', ylabel='Electron charges', ylim=(-1.2,6.5), xlim=(160,None))\n",
    "ax.grid(axis='y')\n",
    "ax.minorticks_on()\n",
    "ax.grid(which='major', linestyle='-', linewidth='0.5', color='red')\n",
    "ax.grid(which='minor', linestyle=':', linewidth='0.5', color='black')\n",
    "# ax.legend()\n",
    "from matplotlib.ticker import MaxNLocator\n",
    "ax.yaxis.set_major_locator(MaxNLocator(integer=True))"
   ]
  },
  {
   "cell_type": "code",
   "execution_count": 258,
   "metadata": {},
   "outputs": [],
   "source": [
    "ll = likelihood_analyser.LikelihoodAnalyser()\n",
    "bandwidth = 2\n",
    "decimate = 10\n",
    "drive_freq = 71\n",
    "phase_calib = -0.0563\n",
    "# phase_calib = -0.0442\n",
    "\n",
    "def get_amp(i):\n",
    "    \n",
    "    fname = r'/data/new_trap/20210622/bead1/Neutrality2/Relaxation_20210708/200V_single/Discharge_'+str(i)+'.h5'\n",
    "    bb = BeadDataFile.BeadDataFile(fname=fname)\n",
    "\n",
    "\n",
    "    fit_kwargs = {'A': 0, 'f': drive_freq, 'phi': phase_calib, \n",
    "                  'error_A': 1, 'error_f': 1, 'error_phi': 0.5, 'errordef': 1,\n",
    "                  'limit_phi': [-2 * np.pi, 2 * np.pi], \n",
    "                  'limit_A': [-1, 1], \n",
    "                  'print_level': 0, 'fix_f': True, 'fix_phi': True}\n",
    "    \n",
    "#     fit_kwargs = {'A': 0, 'f': drive_freq, 'phi': phase_calib, 'sigma': 1,\n",
    "#                   'error_A': 1, 'error_f': 1, 'error_phi': 0.5, 'error_sigma': 1,\n",
    "#                   'errordef': 1,\n",
    "#                   'limit_phi': [-2 * np.pi, 2 * np.pi], \n",
    "#                   'limit_A': [-1, 1], 'limit_sigma': [0,1000],\n",
    "#                   'print_level': 0, 'fix_f': True, 'fix_phi': True, 'fix_sigma': False}\n",
    "    \n",
    "    b, a = signal.butter(3, [2.*(drive_freq-bandwidth/2.)/fsamp, 2.*(drive_freq+bandwidth/2.)/fsamp ], btype = 'bandpass')\n",
    "    xx2 = signal.filtfilt(b, a, bb.y2)[::decimate]\n",
    "    \n",
    "    m1_tmp = ll.find_mle_sin(xx2, fsamp=5000/decimate, noise_rms=1, plot=False, suppress_print=True, **fit_kwargs)\n",
    "    \n",
    "    fit_kwargs['phi'] = phase_calib+np.pi/2\n",
    "    fit_kwargs['f'] = drive_freq*2\n",
    "    b, a = signal.butter(3, [2.*(drive_freq*2-bandwidth/2.)/fsamp, 2.*(drive_freq*2+bandwidth/2.)/fsamp ], btype = 'bandpass')\n",
    "    xx2 = signal.filtfilt(b, a, bb.y2)[::decimate]\n",
    "    m2_tmp = ll.find_mle_sin(xx2, fsamp=5000/decimate, noise_rms=1, plot=False, suppress_print=True, **fit_kwargs)\n",
    "    \n",
    "    return m1_tmp.values[0], -1*m2_tmp.values[0]"
   ]
  },
  {
   "cell_type": "code",
   "execution_count": 259,
   "metadata": {},
   "outputs": [
    {
     "data": {
      "text/plain": [
       "array([-0.07166299, -0.00853857])"
      ]
     },
     "execution_count": 259,
     "metadata": {},
     "output_type": "execute_result"
    }
   ],
   "source": [
    "i=0\n",
    "get_amp(i)/scaleY"
   ]
  },
  {
   "cell_type": "code",
   "execution_count": 279,
   "metadata": {},
   "outputs": [
    {
     "data": {
      "text/plain": [
       "-3.542952205750171e-05"
      ]
     },
     "execution_count": 279,
     "metadata": {},
     "output_type": "execute_result"
    }
   ],
   "source": [
    "scaleY"
   ]
  },
  {
   "cell_type": "code",
   "execution_count": 265,
   "metadata": {},
   "outputs": [
    {
     "name": "stdout",
     "output_type": "stream",
     "text": [
      "voltages, bias:  199.9148713430895 0.0060555832587817415\n"
     ]
    }
   ],
   "source": [
    "i = 1000\n",
    "fname = r'/data/new_trap/20210622/bead1/Neutrality2/Relaxation_20210708/200V_single/Discharge_'+str(i)+'.h5'\n",
    "bb = BeadDataFile.BeadDataFile(fname=fname)\n",
    "voltage0_200_1 = np.std(bb.electrode_data[0])*np.sqrt(2)*200\n",
    "voltage1_200_1 = np.std(bb.electrode_data[1])*np.sqrt(2)*200\n",
    "bias2 = np.mean(bb.electrode_data[0])*200\n",
    "print(\"voltages, bias: \", voltage0_200_1, voltage1_200_1)"
   ]
  },
  {
   "cell_type": "code",
   "execution_count": 39,
   "metadata": {},
   "outputs": [
    {
     "data": {
      "text/plain": [
       "9.996282495738035"
      ]
     },
     "execution_count": 39,
     "metadata": {},
     "output_type": "execute_result"
    }
   ],
   "source": [
    "voltage"
   ]
  },
  {
   "cell_type": "code",
   "execution_count": 266,
   "metadata": {
    "scrolled": true
   },
   "outputs": [
    {
     "name": "stderr",
     "output_type": "stream",
     "text": [
      "\n",
      "  0%|          | 0/2000 [00:00<?, ?it/s]\u001b[A\n",
      "  2%|▏         | 40/2000 [00:02<01:44, 18.75it/s]\u001b[A\n",
      "  4%|▍         | 80/2000 [00:02<01:16, 25.13it/s]\u001b[A\n",
      "  6%|▌         | 120/2000 [00:03<01:09, 27.03it/s]\u001b[A\n",
      "  8%|▊         | 160/2000 [00:04<00:52, 35.28it/s]\u001b[A\n",
      " 10%|█         | 200/2000 [00:04<00:39, 45.48it/s]\u001b[A\n",
      " 12%|█▏        | 240/2000 [00:04<00:30, 57.19it/s]\u001b[A\n",
      " 14%|█▍        | 280/2000 [00:05<00:29, 57.64it/s]\u001b[A\n",
      " 16%|█▌        | 320/2000 [00:05<00:23, 72.10it/s]\u001b[A\n",
      " 18%|█▊        | 360/2000 [00:05<00:19, 83.50it/s]\u001b[A\n",
      " 20%|██        | 400/2000 [00:06<00:17, 93.03it/s]\u001b[A\n",
      " 22%|██▏       | 440/2000 [00:06<00:14, 104.21it/s]\u001b[A\n",
      " 24%|██▍       | 480/2000 [00:06<00:13, 109.89it/s]\u001b[A\n",
      " 26%|██▌       | 520/2000 [00:06<00:12, 115.96it/s]\u001b[A\n",
      " 28%|██▊       | 560/2000 [00:07<00:15, 95.40it/s] \u001b[A\n",
      " 30%|███       | 600/2000 [00:08<00:16, 87.30it/s]\u001b[A\n",
      " 32%|███▏      | 640/2000 [00:08<00:14, 94.15it/s]\u001b[A\n",
      " 34%|███▍      | 680/2000 [00:08<00:12, 102.73it/s]\u001b[A\n",
      " 36%|███▌      | 720/2000 [00:09<00:11, 107.36it/s]\u001b[A\n",
      " 38%|███▊      | 760/2000 [00:09<00:12, 96.91it/s] \u001b[A\n",
      " 40%|████      | 800/2000 [00:10<00:13, 87.39it/s]\u001b[A\n",
      " 42%|████▏     | 840/2000 [00:10<00:14, 78.24it/s]\u001b[A\n",
      " 44%|████▍     | 880/2000 [00:11<00:12, 91.60it/s]\u001b[A\n",
      " 46%|████▌     | 920/2000 [00:11<00:10, 100.26it/s]\u001b[A\n",
      " 48%|████▊     | 960/2000 [00:11<00:09, 108.81it/s]\u001b[A\n",
      " 50%|█████     | 1000/2000 [00:12<00:10, 92.89it/s]\u001b[A\n",
      " 52%|█████▏    | 1040/2000 [00:12<00:09, 102.68it/s]\u001b[A\n",
      " 54%|█████▍    | 1080/2000 [00:13<00:10, 83.95it/s] \u001b[A\n",
      " 56%|█████▌    | 1120/2000 [00:13<00:09, 91.00it/s]\u001b[A\n",
      " 58%|█████▊    | 1160/2000 [00:13<00:08, 97.48it/s]\u001b[A\n",
      " 60%|██████    | 1200/2000 [00:14<00:07, 101.38it/s]\u001b[A\n",
      " 62%|██████▏   | 1240/2000 [00:14<00:06, 109.96it/s]\u001b[A\n",
      " 64%|██████▍   | 1280/2000 [00:15<00:08, 87.68it/s] \u001b[A\n",
      " 66%|██████▌   | 1320/2000 [00:15<00:07, 95.63it/s]\u001b[A\n",
      " 68%|██████▊   | 1360/2000 [00:16<00:07, 86.22it/s]\u001b[A\n",
      " 70%|███████   | 1400/2000 [00:16<00:06, 95.26it/s]\u001b[A\n",
      " 72%|███████▏  | 1440/2000 [00:17<00:06, 84.77it/s]\u001b[A\n",
      " 74%|███████▍  | 1480/2000 [00:17<00:05, 98.30it/s]\u001b[A\n",
      " 76%|███████▌  | 1520/2000 [00:17<00:04, 104.88it/s]\u001b[A\n",
      " 78%|███████▊  | 1560/2000 [00:18<00:05, 84.03it/s] \u001b[A\n",
      " 80%|████████  | 1600/2000 [00:18<00:04, 93.60it/s]\u001b[A\n",
      " 82%|████████▏ | 1640/2000 [00:19<00:04, 80.59it/s]\u001b[A\n",
      " 84%|████████▍ | 1680/2000 [00:19<00:04, 75.93it/s]\u001b[A\n",
      " 86%|████████▌ | 1720/2000 [00:20<00:04, 60.59it/s]\u001b[A\n",
      " 88%|████████▊ | 1760/2000 [00:21<00:03, 61.40it/s]\u001b[A\n",
      " 90%|█████████ | 1800/2000 [00:22<00:03, 65.25it/s]\u001b[A\n",
      " 92%|█████████▏| 1840/2000 [00:22<00:02, 77.99it/s]\u001b[A\n",
      " 94%|█████████▍| 1880/2000 [00:22<00:01, 88.30it/s]\u001b[A\n",
      " 96%|█████████▌| 1920/2000 [00:23<00:00, 81.76it/s]\u001b[A\n",
      " 98%|█████████▊| 1960/2000 [00:23<00:00, 93.87it/s]\u001b[A\n",
      "100%|██████████| 2000/2000 [00:24<00:00, 83.26it/s]\u001b[A"
     ]
    }
   ],
   "source": [
    "amps_data_200V_single = np.array(Parallel(n_jobs=40)(delayed(get_amp)(i) for i in tqdm(range(2000))))"
   ]
  },
  {
   "cell_type": "code",
   "execution_count": 253,
   "metadata": {},
   "outputs": [
    {
     "data": {
      "text/plain": [
       "(13166, 13200)"
      ]
     },
     "execution_count": 253,
     "metadata": {},
     "output_type": "execute_result"
    }
   ],
   "source": [
    "filtered_data_200V = [a for a,b in zip(amps_data_200V_2[:,0],amps_data_200V_2[:,1]) if (b<1e-5)&(b>-1e-5)]\n",
    "len(filtered_data_200V), len(amps_data_200V_2[:,0])"
   ]
  },
  {
   "cell_type": "code",
   "execution_count": 278,
   "metadata": {
    "scrolled": false
   },
   "outputs": [
    {
     "data": {
      "application/vnd.jupyter.widget-view+json": {
       "model_id": "8e6eef210ae748f599ba4d34f22ba1de",
       "version_major": 2,
       "version_minor": 0
      },
      "text/plain": [
       "Canvas(toolbar=Toolbar(toolitems=[('Home', 'Reset original view', 'home', 'home'), ('Back', 'Back to previous …"
      ]
     },
     "metadata": {},
     "output_type": "display_data"
    },
    {
     "name": "stdout",
     "output_type": "stream",
     "text": [
      "mean:  0.031422808752704694 std:  0.00021075644860574534\n",
      "mean:  -0.00012268236788897654 std:  0.0002086260346250291\n",
      "A mean:  -0.00387862754495518 A std:  0.00038882125318231254\n",
      "B mean:  0.03151144676350448 B std:  0.0002641785386074703\n"
     ]
    }
   ],
   "source": [
    "# data0 = amps_data_20V[:,0]/scaleY*voltage/voltage0_200*10\n",
    "# data0 = amps_data_100V[:,1]/scaleY*voltage/voltage0_200*2/1.18\n",
    "# data0 = amps_data_150V[:,1]/scaleY*voltage/voltage0_200*1.5/1.18\n",
    "data0 = amps_data_200V/scaleY*voltage/voltage0_200\n",
    "# data0 = amps_data_40V[:,0]/scaleY*voltage/voltage0_200*5\n",
    "# data0 = amps_data_40V[:,1]/scaleY*voltage/voltage0_200*5/1.18\n",
    "# data0 = amps_data_200V_1[:,0]/scaleY*voltage/voltage0_200\n",
    "# data0 = amps_data_200V_2/scaleY*voltage/voltage0_200\n",
    "# data0 = amps_data_200V_2_2[:,0]/scaleY*voltage/voltage0_200 ## with sigma for noise\n",
    "# data0 = filtered_data_200V/scaleY*voltage/voltage0_200 ## 2-harmonic cut\n",
    "\n",
    "# data0 = amps_data_200V_single/scaleY*voltage/voltage0_200\n",
    "# dataPlus=np.array(data0[:,0])\n",
    "# dataMinus=np.array(data0[:,1])/1.18\n",
    "\n",
    "dataPlus=np.array(data0[::2,0])\n",
    "dataMinus=np.array(data0[1::2,1])\n",
    "dataPlus_B=np.array(data0[::2,1])/1.18\n",
    "dataMinus_B=np.array(data0[1::2,1])/1.18\n",
    "\n",
    "_, ax= plt.subplots(figsize=(9.2,4))\n",
    "ax.scatter(np.arange(len(dataMinus)), dataPlus, label='Y-axis, plus, 200V, XZ-spin-46kHz, with-height-fb')\n",
    "ax.scatter(np.arange(len(dataMinus_B)), dataMinus, label='Y-axis, minus, 200V, XZ-spin-46kHz, with-height-fb')\n",
    "ax.plot(np.arange(0,len(dataMinus)), np.arange(0,len(dataMinus))*0, '--r')\n",
    "ax.set(xlabel='Dataset', ylabel=r'$\\epsilon$')\n",
    "ax.legend()\n",
    "ax.set(ylim=(-0.03,0.03))\n",
    "print('mean: ', np.mean(dataPlus_B), 'std: ', np.std(dataPlus_B)/np.sqrt(len(dataPlus)))\n",
    "print('mean: ', np.mean(dataMinus_B), 'std: ', np.std(dataMinus_B)/np.sqrt(len(dataMinus)))\n",
    "print('A mean: ', np.mean(dataPlus+dataMinus*0.85), 'A std: ', np.std(dataPlus+dataMinus*0.85)/np.sqrt(len(dataMinus)))\n",
    "print('B mean: ', np.mean(dataPlus_B-dataMinus_B*0.85*0.85), \n",
    "      'B std: ', np.std(dataPlus_B-dataMinus_B*0.85*0.85)/np.sqrt(len(dataMinus_B)))"
   ]
  },
  {
   "cell_type": "code",
   "execution_count": 248,
   "metadata": {},
   "outputs": [
    {
     "data": {
      "application/vnd.jupyter.widget-view+json": {
       "model_id": "b88c92deb4224fcfa50979aa0e42a230",
       "version_major": 2,
       "version_minor": 0
      },
      "text/plain": [
       "Canvas(toolbar=Toolbar(toolitems=[('Home', 'Reset original view', 'home', 'home'), ('Back', 'Back to previous …"
      ]
     },
     "metadata": {},
     "output_type": "display_data"
    }
   ],
   "source": [
    "_,ax = plt.subplots()\n",
    "_ = ax.hist(dataMinus, bins=40, range=(-0.03,0.03))\n",
    "_ = ax.hist(dataPlus, bins=40, range=(-0.03,0.03), alpha=0.4)"
   ]
  },
  {
   "cell_type": "code",
   "execution_count": 251,
   "metadata": {},
   "outputs": [
    {
     "data": {
      "application/vnd.jupyter.widget-view+json": {
       "model_id": "a428b3d06f384537888bd982a2e106ba",
       "version_major": 2,
       "version_minor": 0
      },
      "text/plain": [
       "Canvas(toolbar=Toolbar(toolitems=[('Home', 'Reset original view', 'home', 'home'), ('Back', 'Back to previous …"
      ]
     },
     "metadata": {},
     "output_type": "display_data"
    },
    {
     "data": {
      "text/plain": [
       "<matplotlib.collections.PathCollection at 0x7fe912af9b00>"
      ]
     },
     "execution_count": 251,
     "metadata": {},
     "output_type": "execute_result"
    }
   ],
   "source": [
    "_,ax = plt.subplots()\n",
    "ax.scatter(amps_data_200V_2[::4,0],amps_data_200V_2[2::4,1])"
   ]
  },
  {
   "cell_type": "code",
   "execution_count": 242,
   "metadata": {},
   "outputs": [
    {
     "data": {
      "application/vnd.jupyter.widget-view+json": {
       "model_id": "0fa283f78f954ccb8e2b3007fce76e46",
       "version_major": 2,
       "version_minor": 0
      },
      "text/plain": [
       "Canvas(toolbar=Toolbar(toolitems=[('Home', 'Reset original view', 'home', 'home'), ('Back', 'Back to previous …"
      ]
     },
     "metadata": {},
     "output_type": "display_data"
    },
    {
     "data": {
      "text/plain": [
       "<matplotlib.collections.PathCollection at 0x7fe877202ba8>"
      ]
     },
     "execution_count": 242,
     "metadata": {},
     "output_type": "execute_result"
    }
   ],
   "source": [
    "_,ax = plt.subplots(1,2,figsize=(9.2,4), sharey=True, sharex=True)\n",
    "ax[0].set(xlim=(-1e-5,1e-5), ylim=(-1e-5,1e-5))\n",
    "ax[0].scatter(amps_data_200V_2[::4,0], amps_data_200V_2[::4,1])\n",
    "# ax[0].scatter(amps_data_200V_2_sideband[::4,0], amps_data_200V_2_sideband[::4,1], alpha=0.4)\n",
    "ax[1].scatter(amps_data_200V_2[2::4,0], amps_data_200V_2[2::4,1])\n",
    "# ax[1].scatter(amps_data_200V_2_sideband[2::4,0], amps_data_200V_2_sideband[2::4,1], alpha=0.4)"
   ]
  },
  {
   "cell_type": "code",
   "execution_count": 244,
   "metadata": {},
   "outputs": [
    {
     "name": "stderr",
     "output_type": "stream",
     "text": [
      "/home/analysis_user/.local/lib/python3.6/site-packages/numpy/core/fromnumeric.py:3373: RuntimeWarning: Mean of empty slice.\n",
      "  out=out, **kwargs)\n",
      "/home/analysis_user/.local/lib/python3.6/site-packages/numpy/core/_methods.py:170: RuntimeWarning: invalid value encountered in double_scalars\n",
      "  ret = ret.dtype.type(ret / rcount)\n",
      "/home/analysis_user/.local/lib/python3.6/site-packages/numpy/core/_methods.py:234: RuntimeWarning: Degrees of freedom <= 0 for slice\n",
      "  keepdims=keepdims)\n",
      "/home/analysis_user/.local/lib/python3.6/site-packages/numpy/core/_methods.py:195: RuntimeWarning: invalid value encountered in true_divide\n",
      "  arrmean, rcount, out=arrmean, casting='unsafe', subok=False)\n",
      "/home/analysis_user/.local/lib/python3.6/site-packages/numpy/core/_methods.py:226: RuntimeWarning: invalid value encountered in double_scalars\n",
      "  ret = ret.dtype.type(ret / rcount)\n"
     ]
    },
    {
     "data": {
      "application/vnd.jupyter.widget-view+json": {
       "model_id": "5846a81099744bc0b47fa176c1c8be96",
       "version_major": 2,
       "version_minor": 0
      },
      "text/plain": [
       "Canvas(toolbar=Toolbar(toolitems=[('Home', 'Reset original view', 'home', 'home'), ('Back', 'Back to previous …"
      ]
     },
     "metadata": {},
     "output_type": "display_data"
    },
    {
     "name": "stdout",
     "output_type": "stream",
     "text": [
      "-0.00012869681962166386 -0.00019190595291223046\n",
      "0.0005430554888475616\n",
      "[ 0.00056603 -0.00034765 -0.00023327 -0.00072458  0.00019401 -0.00060287\n",
      "         nan         nan         nan         nan         nan         nan\n",
      "         nan         nan         nan         nan         nan         nan\n",
      "         nan         nan         nan         nan         nan         nan\n",
      "         nan         nan         nan         nan         nan         nan\n",
      "         nan         nan         nan         nan         nan         nan\n",
      "         nan         nan         nan         nan         nan         nan\n",
      "         nan         nan         nan         nan         nan         nan\n",
      "         nan         nan]\n",
      "[0.00893506 0.00891729 0.00897102 0.00907103 0.00925645 0.00940754\n",
      "        nan        nan        nan        nan        nan        nan\n",
      "        nan        nan        nan        nan        nan        nan\n",
      "        nan        nan        nan        nan        nan        nan\n",
      "        nan        nan        nan        nan        nan        nan\n",
      "        nan        nan        nan        nan        nan        nan\n",
      "        nan        nan        nan        nan        nan        nan\n",
      "        nan        nan        nan        nan        nan        nan\n",
      "        nan        nan]\n",
      "[0.00886948 0.0088421  0.00879381 0.00922056 0.00877129 0.00982227\n",
      "        nan        nan        nan        nan        nan        nan\n",
      "        nan        nan        nan        nan        nan        nan\n",
      "        nan        nan        nan        nan        nan        nan\n",
      "        nan        nan        nan        nan        nan        nan\n",
      "        nan        nan        nan        nan        nan        nan\n",
      "        nan        nan        nan        nan        nan        nan\n",
      "        nan        nan        nan        nan        nan        nan\n",
      "        nan        nan]\n"
     ]
    }
   ],
   "source": [
    "binning = int(25000/500)\n",
    "\n",
    "means = np.array([np.mean(dataPlus[j*500:(j+1)*500]) for j in range(binning)])\n",
    "stds = np.array([np.std(dataPlus[j*500:(j+1)*500]) for j in range(binning)])\n",
    "\n",
    "means2 = np.array([np.mean(dataMinus[j*500:(j+1)*500]) for j in range(binning)])\n",
    "stds2 = np.array([np.std(dataMinus[j*500:(j+1)*500]) for j in range(binning)])\n",
    "\n",
    "_,ax = plt.subplots(figsize=(9.2,4))\n",
    "ax.errorbar(np.arange(0,25000,500), means, yerr=stds/np.sqrt(500),fmt='o')\n",
    "ax.errorbar(np.arange(0,25000,500), means2, yerr=stds2/np.sqrt(500), fmt='o')\n",
    "ax.errorbar(np.arange(0,25000,500), means+means2*0.857, yerr=stds2/np.sqrt(500), fmt='o')\n",
    "ax.plot(np.arange(0,2500,10), np.arange(0,2500,10)*0, 'r--')\n",
    "ax.set(xlabel='dataset', ylabel=r'$\\epsilon$')\n",
    "print(np.mean(dataPlus), np.mean(np.array(dataPlus)+np.array(dataMinus)*0.857))\n",
    "print(np.std(np.array(dataPlus)+np.array(dataMinus)*0.857)/np.sqrt(500))\n",
    "print(means+means2*0.85)\n",
    "print(stds)\n",
    "print(stds2)"
   ]
  },
  {
   "cell_type": "code",
   "execution_count": null,
   "metadata": {},
   "outputs": [],
   "source": []
  }
 ],
 "metadata": {
  "kernelspec": {
   "display_name": "Python 3",
   "language": "python",
   "name": "python3"
  },
  "language_info": {
   "codemirror_mode": {
    "name": "ipython",
    "version": 3
   },
   "file_extension": ".py",
   "mimetype": "text/x-python",
   "name": "python",
   "nbconvert_exporter": "python",
   "pygments_lexer": "ipython3",
   "version": "3.6.9"
  }
 },
 "nbformat": 4,
 "nbformat_minor": 4
}
