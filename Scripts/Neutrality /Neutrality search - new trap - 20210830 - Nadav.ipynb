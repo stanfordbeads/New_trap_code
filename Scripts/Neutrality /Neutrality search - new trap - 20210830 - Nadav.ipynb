{
 "cells": [
  {
   "cell_type": "code",
   "execution_count": 1,
   "metadata": {},
   "outputs": [],
   "source": [
    "%run /home/analysis_user/New_trap_code/Tools/basic_packages.py\n",
    "\n",
    "\n",
    "# plt.rcParams[\"figure.figsize\"] = (24,16)\n",
    "# plt.rcParams[\"font.size\"] = 24\n",
    "# plt.rcParams['xtick.labelsize'] = \"small\"\n",
    "# plt.rcParams['ytick.labelsize'] = 36"
   ]
  },
  {
   "cell_type": "code",
   "execution_count": 2,
   "metadata": {},
   "outputs": [],
   "source": [
    "%matplotlib widget\n",
    "#%reload_ext autoreload\n",
    "#%autoreload 2"
   ]
  },
  {
   "cell_type": "markdown",
   "metadata": {},
   "source": [
    "### Discharge data"
   ]
  },
  {
   "cell_type": "code",
   "execution_count": 3,
   "metadata": {},
   "outputs": [],
   "source": [
    "ll = likelihood_analyser.LikelihoodAnalyser()\n",
    "bandwidth = 2\n",
    "decimate = 10\n",
    "drive_freq = 71\n",
    "fsamp = 5000\n",
    "def func1_scale(i):\n",
    "    bb = step_cal_files[i]\n",
    "        \n",
    "    freq2 = np.fft.rfftfreq(len(bb.electrode_data[0]), d=1./5000)\n",
    "    fft_angles = np.angle(np.fft.rfft(bb.electrode_data[0]))\n",
    "    phi_tmp2 = (fft_angles[freq2==drive_freq]+np.pi/2)%(2*np.pi)\n",
    "    print(phi_tmp2,np.std(bb.electrode_data[0])*np.sqrt(2))\n",
    "\n",
    "    fit_kwargs = {'A': 0, 'f': drive_freq, 'phi': phi_tmp2, \n",
    "                  'error_A': 1, 'error_f': 1, 'error_phi': 0.5, 'errordef': 1,\n",
    "                  'limit_phi': [-2 * np.pi, 2 * np.pi], \n",
    "                  'limit_A': [-1, 1], \n",
    "                  'print_level': 0, 'fix_f': True, 'fix_phi': True}\n",
    "\n",
    "    frequency = fit_kwargs['f']\n",
    "\n",
    "    b, a = signal.butter(3, [2.*(drive_freq-bandwidth/2.)/fsamp, 2.*(drive_freq+bandwidth/2.)/fsamp ], btype = 'bandpass')\n",
    "    xx2 = signal.filtfilt(b, a, bb.x2)[::decimate]\n",
    "    \n",
    "    m1_tmp = ll.find_mle_sin(xx2, fsamp=5000/decimate, noise_rms=1, plot=False, suppress_print=True, **fit_kwargs)\n",
    "    \n",
    "    return m1_tmp.values[0]"
   ]
  },
  {
   "cell_type": "code",
   "execution_count": 215,
   "metadata": {},
   "outputs": [
    {
     "name": "stderr",
     "output_type": "stream",
     "text": [
      "100%|██████████| 185/185 [00:04<00:00, 40.28it/s]"
     ]
    },
    {
     "name": "stdout",
     "output_type": "stream",
     "text": [
      "185  files in folder\n",
      "185  files loaded\n"
     ]
    },
    {
     "name": "stderr",
     "output_type": "stream",
     "text": [
      "\n"
     ]
    }
   ],
   "source": [
    "step_cal_dir = r'/data/new_trap/20210830/Bead1/Discharge/FineDischarge/'\n",
    "step_cal_files = load_dir(step_cal_dir, start_file=0)"
   ]
  },
  {
   "cell_type": "code",
   "execution_count": 216,
   "metadata": {},
   "outputs": [
    {
     "name": "stdout",
     "output_type": "stream",
     "text": [
      "0 / 185\n",
      "[0.07216374] 0.05004696352452862\n",
      "1 / 185\n",
      "[0.07218011] 0.05004674261804184\n",
      "2 / 185\n",
      "[0.07217364] 0.05004664610410522\n",
      "3 / 185\n",
      "[0.07219365] 0.05004697284574258\n",
      "4 / 185\n",
      "[0.07219079] 0.050046528696682864\n",
      "5 / 185\n",
      "[0.07219249] 0.050046733284185005\n",
      "6 / 185\n",
      "[0.07221319] 0.05004681596322339\n",
      "7 / 185\n",
      "[0.07223124] 0.05004672905591215\n",
      "8 / 185\n",
      "[0.07222904] 0.05004656813982753\n",
      "9 / 185\n",
      "[0.07222753] 0.05004692924467627\n",
      "10 / 185\n",
      "[0.07222463] 0.050046983363467364\n",
      "11 / 185\n",
      "[0.07225377] 0.050046594234892855\n",
      "12 / 185\n",
      "[0.07225198] 0.050046846698829875\n",
      "13 / 185\n",
      "[0.07223048] 0.05004707515321758\n",
      "14 / 185\n",
      "[0.07223096] 0.05004684113100025\n",
      "15 / 185\n",
      "[0.07213118] 0.050046489889492105\n",
      "16 / 185\n",
      "[0.0721514] 0.05004654773486393\n",
      "17 / 185\n",
      "[0.07216683] 0.05004690868597997\n",
      "18 / 185\n",
      "[0.07216085] 0.050046393547231255\n",
      "19 / 185\n",
      "[0.07216514] 0.05004671808595284\n",
      "20 / 185\n",
      "[0.07216004] 0.05004681631103741\n",
      "21 / 185\n",
      "[0.07215716] 0.050046393634943384\n",
      "22 / 185\n",
      "[0.07216653] 0.05004636430981544\n",
      "23 / 185\n",
      "[0.07217415] 0.05004675855474713\n",
      "24 / 185\n",
      "[0.07217902] 0.05004648719964242\n",
      "25 / 185\n",
      "[0.07218509] 0.05004620284880925\n",
      "26 / 185\n",
      "[0.07217691] 0.05004632071372333\n",
      "27 / 185\n",
      "[0.07216947] 0.050046625426687405\n",
      "28 / 185\n",
      "[0.0721708] 0.050046957496455026\n",
      "29 / 185\n",
      "[0.07217936] 0.050046468394532015\n",
      "30 / 185\n",
      "[0.07219629] 0.05004628334327601\n",
      "31 / 185\n",
      "[0.07220587] 0.05004678900316415\n",
      "32 / 185\n",
      "[0.07222566] 0.050046676455958755\n",
      "33 / 185\n",
      "[0.07223265] 0.05004657661208476\n",
      "34 / 185\n",
      "[0.0722119] 0.050046880743352604\n",
      "35 / 185\n",
      "[0.0721924] 0.05004658862517544\n",
      "36 / 185\n",
      "[0.07221801] 0.05004653150563908\n",
      "37 / 185\n",
      "[0.07222021] 0.05004649340189414\n",
      "38 / 185\n",
      "[0.07221756] 0.05004639868124868\n",
      "39 / 185\n",
      "[0.07223038] 0.05004644405614049\n",
      "40 / 185\n",
      "[0.0722257] 0.050046594843551714\n",
      "41 / 185\n",
      "[0.07222937] 0.050047019269568345\n",
      "42 / 185\n",
      "[0.07222924] 0.050046674024547856\n",
      "43 / 185\n",
      "[0.07222513] 0.050046475657449206\n",
      "44 / 185\n",
      "[0.07221521] 0.050046633131107576\n",
      "45 / 185\n",
      "[0.07223951] 0.050046706154063855\n",
      "46 / 185\n",
      "[0.07224415] 0.050046678285967906\n",
      "47 / 185\n",
      "[0.07223951] 0.050046531536568545\n",
      "48 / 185\n",
      "[0.07223783] 0.050046383205043024\n",
      "49 / 185\n",
      "[0.07222872] 0.05004651410267681\n",
      "50 / 185\n",
      "[0.07223595] 0.05004662730125859\n",
      "51 / 185\n",
      "[0.07222348] 0.050046156284411336\n",
      "52 / 185\n",
      "[0.07224405] 0.05004598097106233\n",
      "53 / 185\n",
      "[0.07224357] 0.05004620437010039\n",
      "54 / 185\n",
      "[0.07223984] 0.05004674894915941\n",
      "55 / 185\n",
      "[0.07223319] 0.0500467801904991\n",
      "56 / 185\n",
      "[0.07223853] 0.0500459933773944\n",
      "57 / 185\n",
      "[0.07223081] 0.05004636654812692\n",
      "58 / 185\n",
      "[0.07221799] 0.05004607916539124\n",
      "59 / 185\n",
      "[0.07223713] 0.05004650524274297\n",
      "60 / 185\n",
      "[0.072222] 0.050046756008996135\n",
      "61 / 185\n",
      "[0.07223511] 0.05004661412335834\n",
      "62 / 185\n",
      "[0.07224341] 0.050046520999477026\n",
      "63 / 185\n",
      "[0.07222952] 0.05004651827084649\n",
      "64 / 185\n",
      "[0.07224207] 0.05004671763352276\n",
      "65 / 185\n",
      "[0.07223927] 0.05004644376581256\n",
      "66 / 185\n",
      "[0.0722475] 0.05004675437793178\n",
      "67 / 185\n",
      "[0.07224131] 0.05004675872886529\n",
      "68 / 185\n",
      "[0.07223818] 0.050047166482196655\n",
      "69 / 185\n",
      "[0.07223868] 0.05004661674489944\n",
      "70 / 185\n",
      "[0.07224852] 0.05004651848025093\n",
      "71 / 185\n",
      "[0.07224917] 0.05004652741670484\n",
      "72 / 185\n",
      "[0.07227397] 0.05004682967496335\n",
      "73 / 185\n",
      "[0.07227231] 0.05004716993649843\n",
      "74 / 185\n",
      "[0.07227178] 0.050046690656695356\n",
      "75 / 185\n",
      "[0.07226706] 0.0500465406825912\n",
      "76 / 185\n",
      "[0.0722817] 0.05004644658594998\n",
      "77 / 185\n",
      "[0.07226517] 0.050046285428457286\n",
      "78 / 185\n",
      "[0.07226205] 0.05004635370279011\n",
      "79 / 185\n",
      "[0.07227113] 0.05004641805491794\n",
      "80 / 185\n",
      "[0.07227729] 0.050046961132911884\n",
      "81 / 185\n",
      "[0.07226305] 0.05004668929128577\n",
      "82 / 185\n",
      "[0.07227783] 0.05004694477253822\n",
      "83 / 185\n",
      "[0.07228917] 0.05004654814346965\n",
      "84 / 185\n",
      "[0.07228297] 0.05004671389856612\n",
      "85 / 185\n",
      "[0.07225188] 0.05004677334872213\n",
      "86 / 185\n",
      "[0.07226402] 0.050047137133617116\n",
      "87 / 185\n",
      "[0.07226185] 0.05004651526703281\n",
      "88 / 185\n",
      "[0.07225696] 0.05004685507553058\n",
      "89 / 185\n",
      "[0.07228147] 0.05004691102160212\n",
      "90 / 185\n",
      "[0.07226497] 0.050046823940147055\n",
      "91 / 185\n",
      "[0.07225241] 0.05004672629696355\n",
      "92 / 185\n",
      "[0.07227095] 0.0500467311972176\n",
      "93 / 185\n",
      "[0.07227716] 0.05004662948901618\n",
      "94 / 185\n",
      "[0.07228078] 0.05004686355215943\n",
      "95 / 185\n",
      "[0.07228294] 0.05004668213661858\n",
      "96 / 185\n",
      "[0.07228653] 0.050046646338370124\n",
      "97 / 185\n",
      "[0.07225635] 0.05004683464808767\n",
      "98 / 185\n",
      "[0.07224619] 0.050046726663827826\n",
      "99 / 185\n",
      "[0.07224251] 0.05004671105593905\n",
      "100 / 185\n",
      "[0.07223945] 0.05004666107584651\n",
      "101 / 185\n",
      "[0.07224294] 0.050046674280878195\n",
      "102 / 185\n",
      "[0.07223055] 0.05004699857575543\n",
      "103 / 185\n",
      "[0.07223368] 0.050047048600426684\n",
      "104 / 185\n",
      "[0.07222371] 0.05004676005369899\n",
      "105 / 185\n",
      "[0.07224697] 0.050046464538343036\n",
      "106 / 185\n",
      "[0.07224375] 0.050046695701711656\n",
      "107 / 185\n",
      "[0.07223261] 0.05004693497195827\n",
      "108 / 185\n",
      "[0.07225245] 0.05004658657494203\n",
      "109 / 185\n",
      "[0.07225633] 0.05004667419267485\n",
      "110 / 185\n",
      "[0.072256] 0.05004674374581605\n",
      "111 / 185\n",
      "[0.07225262] 0.05004674703395854\n",
      "112 / 185\n",
      "[0.07225859] 0.05004650410515315\n",
      "113 / 185\n",
      "[0.07225818] 0.05004701259512329\n",
      "114 / 185\n",
      "[0.07225841] 0.05004646004926716\n",
      "115 / 185\n",
      "[0.07225402] 0.05004694375940985\n",
      "116 / 185\n",
      "[0.07226121] 0.05004664545643403\n",
      "117 / 185\n",
      "[0.07224889] 0.05004687224527591\n",
      "118 / 185\n",
      "[0.07226352] 0.050046707027357876\n",
      "119 / 185\n",
      "[0.07227405] 0.050046367554619824\n",
      "120 / 185\n",
      "[0.07225722] 0.05004676999853974\n",
      "121 / 185\n",
      "[0.07225988] 0.050046671109347324\n",
      "122 / 185\n",
      "[0.07227297] 0.05004687862453384\n",
      "123 / 185\n",
      "[0.07229011] 0.050046412413056664\n",
      "124 / 185\n",
      "[0.07225363] 0.050046553537855455\n",
      "125 / 185\n",
      "[0.0722728] 0.05004667722102424\n",
      "126 / 185\n",
      "[0.07228139] 0.050046926116671345\n",
      "127 / 185\n",
      "[0.07226314] 0.050046860042240286\n",
      "128 / 185\n",
      "[0.07226193] 0.05004649468589136\n",
      "129 / 185\n",
      "[0.07226209] 0.050046923412558224\n",
      "130 / 185\n",
      "[0.07227841] 0.050046902479652114\n",
      "131 / 185\n",
      "[0.07226816] 0.05004688515907291\n",
      "132 / 185\n",
      "[0.07225073] 0.05004676268691144\n",
      "133 / 185\n",
      "[0.07224545] 0.05004684098370976\n",
      "134 / 185\n",
      "[0.07224783] 0.05004687134581102\n",
      "135 / 185\n",
      "[0.07221827] 0.05004669326900936\n",
      "136 / 185\n",
      "[0.07223953] 0.05004654065190436\n",
      "137 / 185\n",
      "[0.07224405] 0.050046755482123916\n",
      "138 / 185\n",
      "[0.07226288] 0.050046688327372864\n",
      "139 / 185\n",
      "[0.07223829] 0.0500469970614255\n",
      "140 / 185\n",
      "[0.07221516] 0.05004702259934968\n",
      "141 / 185\n",
      "[0.07222351] 0.050046476352918125\n",
      "142 / 185\n",
      "[0.07222677] 0.05004719476401971\n",
      "143 / 185\n",
      "[0.07222682] 0.050046806904929665\n",
      "144 / 185\n",
      "[0.07223063] 0.05004685023016415\n",
      "145 / 185\n",
      "[0.07223767] 0.05004680967635387\n",
      "146 / 185\n",
      "[0.07223132] 0.05004698164254263\n",
      "147 / 185\n",
      "[0.07222508] 0.050046618076722324\n",
      "148 / 185\n",
      "[0.07222363] 0.05004684504920283\n",
      "149 / 185\n",
      "[0.07221838] 0.050046897202865155\n",
      "150 / 185\n",
      "[0.07223412] 0.05004668251235022\n",
      "151 / 185\n",
      "[0.07222164] 0.05004705091238848\n",
      "152 / 185\n",
      "[0.07222328] 0.05004638635751203\n",
      "153 / 185\n",
      "[0.07224175] 0.05004652495568595\n",
      "154 / 185\n",
      "[0.07224034] 0.050046650152773695\n",
      "155 / 185\n",
      "[0.07224666] 0.050047092987799226\n",
      "156 / 185\n",
      "[0.07223728] 0.05004690164279294\n",
      "157 / 185\n",
      "[0.07226156] 0.05004661501399028\n",
      "158 / 185\n",
      "[0.072245] 0.05004688318977222\n",
      "159 / 185\n",
      "[0.07225232] 0.05004713948737495\n",
      "160 / 185\n",
      "[0.07225347] 0.05004722181032766\n",
      "161 / 185\n",
      "[0.07226305] 0.05004701458294983\n",
      "162 / 185\n",
      "[0.07226135] 0.05004685641154314\n",
      "163 / 185\n",
      "[0.07224468] 0.05004688373668605\n",
      "164 / 185\n",
      "[0.07225256] 0.05004660184345192\n",
      "165 / 185\n",
      "[0.07224998] 0.050046996833691494\n",
      "166 / 185\n",
      "[0.07225716] 0.05004682496454998\n",
      "167 / 185\n",
      "[0.07225089] 0.05004677095414757\n",
      "168 / 185\n",
      "[0.07224931] 0.05004689392502856\n",
      "169 / 185\n",
      "[0.07226049] 0.050047090379798244\n",
      "170 / 185\n",
      "[0.0722814] 0.05004681231142405\n",
      "171 / 185\n",
      "[0.07227749] 0.05004702015461341\n",
      "172 / 185\n",
      "[0.0722822] 0.05004733236346483\n",
      "173 / 185\n",
      "[0.07229032] 0.050046630980539394\n",
      "174 / 185\n",
      "[0.07226001] 0.05004708350620877\n",
      "175 / 185\n",
      "[0.07225368] 0.050047239457733844\n",
      "176 / 185\n",
      "[0.07228005] 0.050046737576204925\n",
      "177 / 185\n",
      "[0.07227261] 0.050046923922959397\n",
      "178 / 185\n",
      "[0.07226269] 0.0500469065350423\n",
      "179 / 185\n",
      "[0.07226764] 0.05004705362893889\n",
      "180 / 185\n",
      "[0.07226517] 0.050047181004391345\n",
      "181 / 185\n",
      "[0.07226348] 0.0500470714327813\n",
      "182 / 185\n",
      "[0.0722781] 0.050046771770702055\n",
      "183 / 185\n",
      "[0.07226735] 0.05004715041543741\n",
      "184 / 185\n",
      "[0.07227273] 0.05004728564882627\n"
     ]
    }
   ],
   "source": [
    "amps3 = []\n",
    "for i in range(len(step_cal_files)):\n",
    "    print(i,'/',len(step_cal_files))\n",
    "    amps3.append(func1_scale(i))"
   ]
  },
  {
   "cell_type": "code",
   "execution_count": 252,
   "metadata": {},
   "outputs": [
    {
     "name": "stdout",
     "output_type": "stream",
     "text": [
      "Scale is  4.43129187912857e-05\n",
      "voltage:  10.009457129765254\n"
     ]
    }
   ],
   "source": [
    "scale = np.abs(np.mean(amps3[150:180]))/1\n",
    "print(\"Scale is \", scale)\n",
    "# scale *= -1\n",
    "bb = step_cal_files[-1]\n",
    "voltage = np.std(bb.electrode_data[0])*np.sqrt(2)*200\n",
    "print(\"voltage: \", voltage)"
   ]
  },
  {
   "cell_type": "code",
   "execution_count": 234,
   "metadata": {},
   "outputs": [],
   "source": [
    "elec_i = [bb.electrode_channels[1] for bb in step_cal_files]"
   ]
  },
  {
   "cell_type": "code",
   "execution_count": 243,
   "metadata": {},
   "outputs": [
    {
     "data": {
      "application/vnd.jupyter.widget-view+json": {
       "model_id": "56f8b60c873d4470bb2bce3e27e742d5",
       "version_major": 2,
       "version_minor": 0
      },
      "text/plain": [
       "Canvas(toolbar=Toolbar(toolitems=[('Home', 'Reset original view', 'home', 'home'), ('Back', 'Back to previous …"
      ]
     },
     "metadata": {},
     "output_type": "display_data"
    }
   ],
   "source": [
    "# amps = np.array(amps)\n",
    "amps3 = np.array(amps3)\n",
    "_,ax = plt.subplots(figsize=(9.5,4))\n",
    "# scale = 3.5e-5\n",
    "\n",
    "# Perrinf\n",
    "ax.scatter(range(len(amps3)), amps3/scale, label='fit phase')\n",
    "# ax.scatter(range(len(amps3)), elec_i, label='electrode index')\n",
    "\n",
    "ax.set(xlabel='dataset', ylabel='Electron charges', ylim=(-3,12), xlim=(100,None))\n",
    "ax.grid(axis='y')\n",
    "ax.minorticks_on()\n",
    "ax.grid(which='major', linestyle='-', linewidth='0.5', color='red')\n",
    "ax.grid(which='minor', linestyle=':', linewidth='0.5', color='black')\n",
    "ax.legend()\n",
    "from matplotlib.ticker import MaxNLocator\n",
    "ax.yaxis.set_major_locator(MaxNLocator(integer=True))"
   ]
  },
  {
   "cell_type": "code",
   "execution_count": 244,
   "metadata": {},
   "outputs": [],
   "source": [
    "ll = likelihood_analyser.LikelihoodAnalyser()\n",
    "bandwidth = 2\n",
    "decimate = 10\n",
    "drive_freq = 71\n",
    "phase_calib = -0.0563\n",
    "# phase_calib = -0.0442\n",
    "\n",
    "def get_amp(i):\n",
    "    \n",
    "    fname = r'/data/new_trap/20210830/Bead1/Neutrality/20V_100V_YZspin_98p98kHz_20210903/Discharge_'+str(i)+'.h5'\n",
    "    bb = BeadDataFile.BeadDataFile(fname=fname)\n",
    "\n",
    "\n",
    "    fit_kwargs = {'A': 0, 'f': drive_freq, 'phi': 0, \n",
    "                  'error_A': 1, 'error_f': 1, 'error_phi': 0.5, 'errordef': 1,\n",
    "                  'limit_phi': [-2 * np.pi, 2 * np.pi], \n",
    "                  'limit_A': [-1, 1], \n",
    "                  'print_level': 0, 'fix_f': True, 'fix_phi': True}\n",
    "\n",
    "    fit_kwargs = {'A': 0, 'f': drive_freq, 'phi': 0, 'sigma': 0.1,\n",
    "                  'error_A': 1, 'error_f': 1, 'error_phi': 0.5, 'errordef': 1, 'error_sigma':0.1,\n",
    "                  'limit_phi': [-2 * np.pi, 2 * np.pi], 'limit_sigma': [0, 1],\n",
    "                  'limit_A': [-100, 100], \n",
    "                  'print_level': 0, 'fix_f': True, 'fix_phi': True}\n",
    "\n",
    "    b, a = signal.butter(3, [2.*(drive_freq-bandwidth/2.)/fsamp, 2.*(drive_freq+bandwidth/2.)/fsamp ], btype = 'bandpass')\n",
    "    xx2 = signal.filtfilt(b, a, bb.x2)[::decimate]\n",
    "    \n",
    "    m1_tmp = ll.find_mle_sin(xx2, fsamp=5000/decimate, noise_rms=1, plot=False, suppress_print=True, **fit_kwargs)\n",
    "    \n",
    "    return m1_tmp.values[0], m1_tmp.values[3]"
   ]
  },
  {
   "cell_type": "code",
   "execution_count": 245,
   "metadata": {},
   "outputs": [
    {
     "data": {
      "text/plain": [
       "array([ 0.02077442, 13.53623047])"
      ]
     },
     "execution_count": 245,
     "metadata": {},
     "output_type": "execute_result"
    }
   ],
   "source": [
    "i=10\n",
    "get_amp(i)/scale"
   ]
  },
  {
   "cell_type": "code",
   "execution_count": 164,
   "metadata": {},
   "outputs": [
    {
     "name": "stdout",
     "output_type": "stream",
     "text": [
      "voltages, bias:  200.0415044870712 0.03907095035386525 0.4126561574727817\n"
     ]
    }
   ],
   "source": [
    "i = 4\n",
    "fname = r'/data/new_trap/20210830/Bead1/Neutrality/200V_100V_YZspin_98p98kHz_20210902/Discharge_'+str(i)+'.h5'\n",
    "bb = BeadDataFile.BeadDataFile(fname=fname)\n",
    "voltage0_200 = np.std(bb.electrode_data[0])*np.sqrt(2)*200\n",
    "voltage1_200 = np.std(bb.electrode_data[1])*np.sqrt(2)*200\n",
    "bias2 = np.mean(bb.electrode_data[0])*200\n",
    "print(\"voltages, bias: \", voltage0_200, voltage1_200, bias2)"
   ]
  },
  {
   "cell_type": "code",
   "execution_count": 176,
   "metadata": {},
   "outputs": [
    {
     "data": {
      "text/plain": [
       "(9.996262322298485, 20.00907917617504, 200.0415044870712)"
      ]
     },
     "execution_count": 176,
     "metadata": {},
     "output_type": "execute_result"
    }
   ],
   "source": [
    "voltage, voltage0_20, voltage0_200"
   ]
  },
  {
   "cell_type": "code",
   "execution_count": 246,
   "metadata": {
    "scrolled": true
   },
   "outputs": [
    {
     "name": "stderr",
     "output_type": "stream",
     "text": [
      "100%|██████████| 1300/1300 [00:19<00:00, 67.73it/s] \n"
     ]
    }
   ],
   "source": [
    "amps_data_20V_2 = np.array(Parallel(n_jobs=20)(delayed(get_amp)(i) for i in tqdm(range(1300))))"
   ]
  },
  {
   "cell_type": "code",
   "execution_count": 241,
   "metadata": {},
   "outputs": [
    {
     "data": {
      "application/vnd.jupyter.widget-view+json": {
       "model_id": "ef265d5d24f04a45a7fff935300a19e3",
       "version_major": 2,
       "version_minor": 0
      },
      "text/plain": [
       "Canvas(toolbar=Toolbar(toolitems=[('Home', 'Reset original view', 'home', 'home'), ('Back', 'Back to previous …"
      ]
     },
     "metadata": {},
     "output_type": "display_data"
    },
    {
     "data": {
      "text/plain": [
       "<matplotlib.collections.PathCollection at 0x7fc8b2bd1a20>"
      ]
     },
     "execution_count": 241,
     "metadata": {},
     "output_type": "execute_result"
    }
   ],
   "source": [
    "i=0; j=1\n",
    "_,ax = plt.subplots()\n",
    "dat = amps_data_200V\n",
    "ax.scatter(dat[::4,i], dat[::4,j])\n",
    "ax.scatter(dat[2::4,i], dat[2::4,j])"
   ]
  },
  {
   "cell_type": "code",
   "execution_count": 253,
   "metadata": {
    "scrolled": false
   },
   "outputs": [
    {
     "data": {
      "application/vnd.jupyter.widget-view+json": {
       "model_id": "45005ec752524bbda331a9273d0fb8e1",
       "version_major": 2,
       "version_minor": 0
      },
      "text/plain": [
       "Canvas(toolbar=Toolbar(toolitems=[('Home', 'Reset original view', 'home', 'home'), ('Back', 'Back to previous …"
      ]
     },
     "metadata": {},
     "output_type": "display_data"
    },
    {
     "name": "stdout",
     "output_type": "stream",
     "text": [
      "mean:  0.001425129997187482 std:  0.0013165706121680274\n",
      "mean:  0.0010682705408439604 std:  0.0012895637171104403\n",
      "0.002493400538031442 0.001914201390862109\n",
      "0.002204967492003573\n"
     ]
    }
   ],
   "source": [
    "data0 = amps_data_20V_2[:,0]/scale*voltage/voltage0_20\n",
    "\n",
    "dataPlus=data0[::4]\n",
    "dataMinus=data0[2::4]\n",
    "\n",
    "_, ax= plt.subplots(figsize=(9.5,4))\n",
    "ax.scatter(np.arange(len(dataPlus)), dataPlus, label='X-axis, plus, 20V, YZ-spin-96kHz, with-height-fb')\n",
    "ax.scatter(np.arange(len(dataMinus)), dataMinus, label='X-axis, minus, 20V, YZ-spin-96kHz, with-height-fb')\n",
    "#ax.plot(np.arange(0,2500), np.arange(0,2500)*0, '--r')\n",
    "ax.set(xlabel='Dataset', ylabel=r'$\\epsilon$')\n",
    "ax.legend()\n",
    "# ax.set(xlim=(0,500))\n",
    "print('mean: ', np.mean(dataPlus), 'std: ', np.std(dataPlus)/np.sqrt(len(dataPlus)))\n",
    "print('mean: ', np.mean(dataMinus), 'std: ', np.std(dataMinus)/np.sqrt(len(dataMinus)))\n",
    "print(np.mean(dataMinus)+np.mean(dataPlus), np.std(dataMinus+dataPlus)/np.sqrt(len(dataMinus)))\n",
    "print(np.mean(dataMinus)*0.73+np.mean(dataPlus))"
   ]
  },
  {
   "cell_type": "code",
   "execution_count": 195,
   "metadata": {},
   "outputs": [
    {
     "name": "stdout",
     "output_type": "stream",
     "text": [
      "[-8.40716172e-07  3.33860906e-03] [-4.37670706e-07 -5.42992020e-03]\n"
     ]
    }
   ],
   "source": [
    "z_plus = np.polyfit(np.arange(len(dataPlus)), dataPlus, 1)\n",
    "z_minus = np.polyfit(np.arange(len(dataPlus)), dataMinus, 1)\n",
    "ax.plot(np.arange(len(dataPlus)), np.arange(len(dataPlus))*z_plus[0]+z_plus[1], 'r--')\n",
    "ax.plot(np.arange(len(dataPlus)), np.arange(len(dataPlus))*z_minus[0]+z_minus[1], 'r--')\n",
    "print(z_plus, z_minus)"
   ]
  },
  {
   "cell_type": "code",
   "execution_count": 196,
   "metadata": {},
   "outputs": [
    {
     "name": "stdout",
     "output_type": "stream",
     "text": [
      "750 750\n"
     ]
    },
    {
     "data": {
      "text/plain": [
       "0"
      ]
     },
     "execution_count": 196,
     "metadata": {},
     "output_type": "execute_result"
    }
   ],
   "source": [
    "print(len(dataMinus), len(dataMinus))\n",
    "dataPlus_noise=amps_data_200V[::4,1]\n",
    "dataMinus_noise=amps_data_200V[2::4,1]\n",
    "amps_data_200V_after_cuts = np.array([dataMinus[i]*0.73+dataPlus[i] for i in range(len(dataMinus)) if (dataPlus_noise[i]<1e-3)&(dataMinus_noise[i]<1e-3)])\n",
    "len(amps_data_200V_after_cuts)"
   ]
  },
  {
   "cell_type": "code",
   "execution_count": 188,
   "metadata": {},
   "outputs": [
    {
     "data": {
      "application/vnd.jupyter.widget-view+json": {
       "model_id": "cc71c495ef7e4161a7aa26ce92f1778f",
       "version_major": 2,
       "version_minor": 0
      },
      "text/plain": [
       "Canvas(toolbar=Toolbar(toolitems=[('Home', 'Reset original view', 'home', 'home'), ('Back', 'Back to previous …"
      ]
     },
     "metadata": {},
     "output_type": "display_data"
    },
    {
     "data": {
      "text/plain": [
       "<matplotlib.legend.Legend at 0x7fc94406cb38>"
      ]
     },
     "execution_count": 188,
     "metadata": {},
     "output_type": "execute_result"
    }
   ],
   "source": [
    "from scipy.optimize import curve_fit\n",
    "from scipy import asarray as ar,exp\n",
    "\n",
    "data_hist = amps_data_200V_after_cuts\n",
    "range_pram = 0.02\n",
    "_,ax = plt.subplots()\n",
    "entries, bins, patches = ax.hist(data_hist, bins=29, range=(-range_pram, range_pram), label='20V-x, xz-spin-100V')\n",
    "ax.set(xlabel=r'$\\epsilon$')\n",
    "ax.legend()"
   ]
  },
  {
   "cell_type": "code",
   "execution_count": 189,
   "metadata": {},
   "outputs": [
    {
     "name": "stdout",
     "output_type": "stream",
     "text": [
      "mean:  -0.003267608481785415 std:  0.0001257348612484117\n"
     ]
    }
   ],
   "source": [
    "## gaussian fit to the histogram\n",
    "\n",
    "bins_fit =[(bins[i+1]-bins[i])/2+bins[i] for i in range(len(entries))]\n",
    "\n",
    "for i,ee in enumerate([entries]):\n",
    "    x = bins_fit\n",
    "    y= ee\n",
    "\n",
    "    n = len(x)                          #the number of data\n",
    "    mean = sum(x*y)/n                   #note this correction\n",
    "    sigma = sum(y*(x-mean)**2)/n        #note this correction\n",
    "\n",
    "    def gaus(x,a,x0,sigma):\n",
    "        return a*np.exp(-(x-x0)**2/(2*sigma**2))\n",
    "\n",
    "    popt,pcov = curve_fit(gaus,x,y,p0=[1,mean,sigma])\n",
    "    ax.plot(x,gaus(x,*popt),'ro:',label='fit')\n",
    "\n",
    "    print(\"mean: \", popt[1], \"std: \", np.sqrt(pcov)[1,1])\n",
    "#     print(\"mean: \", popt[2], \"std: \", np.sqrt(pcov)[2,2])"
   ]
  },
  {
   "cell_type": "code",
   "execution_count": 191,
   "metadata": {},
   "outputs": [
    {
     "data": {
      "application/vnd.jupyter.widget-view+json": {
       "model_id": "f231a82b7c47448da849f5b7e8ac3673",
       "version_major": 2,
       "version_minor": 0
      },
      "text/plain": [
       "Canvas(toolbar=Toolbar(toolitems=[('Home', 'Reset original view', 'home', 'home'), ('Back', 'Back to previous …"
      ]
     },
     "metadata": {},
     "output_type": "display_data"
    },
    {
     "name": "stdout",
     "output_type": "stream",
     "text": [
      "mean:  -0.003267608481785415 std:  0.0001257348612484117\n"
     ]
    }
   ],
   "source": [
    "_,ax = plt.subplots()\n",
    "ax.errorbar(bins_fit, entries, yerr=np.sqrt(entries), fmt='o', label='data')\n",
    "ax.plot(x,gaus(x,*popt),'r--',label='fit')\n",
    "ax.legend()\n",
    "print(\"mean: \", popt[1], \"std: \", np.sqrt(pcov)[1,1])"
   ]
  },
  {
   "cell_type": "code",
   "execution_count": null,
   "metadata": {},
   "outputs": [],
   "source": []
  },
  {
   "cell_type": "code",
   "execution_count": null,
   "metadata": {},
   "outputs": [],
   "source": []
  },
  {
   "cell_type": "code",
   "execution_count": 130,
   "metadata": {},
   "outputs": [],
   "source": [
    "ll = likelihood_analyser.LikelihoodAnalyser()\n",
    "bandwidth = 2\n",
    "decimate = 10\n",
    "drive_freq = 142\n",
    "phase_calib = -0.0563\n",
    "# phase_calib = -0.0442\n",
    "\n",
    "def get_amp_single(i):\n",
    "    \n",
    "    fname = r'/data/new_trap/20210819/Bead1/Discharge/SingleResponse/Trek/plus_x/Discharge_'+str(i)+'.h5'\n",
    "    fname = r'/data/new_trap/20210819/Bead1/Discharge/SingleResponse/Trek/plus_x_2f/Discharge_'+str(i)+'.h5'\n",
    "#     fname = r'/data/new_trap/20210819/Bead1/Discharge/SingleResponse/Trek/minus_x/Discharge_'+str(i)+'.h5'\n",
    "    bb = BeadDataFile.BeadDataFile(fname=fname)\n",
    "\n",
    "\n",
    "    fit_kwargs = {'A': 0, 'f': drive_freq, 'phi': 0, \n",
    "                  'error_A': 1, 'error_f': 1, 'error_phi': 0.5, 'errordef': 1,\n",
    "                  'limit_phi': [-2 * np.pi, 2 * np.pi], \n",
    "                  'limit_A': [-1, 1], \n",
    "                  'print_level': 0, 'fix_f': True, 'fix_phi': True}\n",
    "    \n",
    "    b, a = signal.butter(3, [2.*(drive_freq-bandwidth/2.)/fsamp, 2.*(drive_freq+bandwidth/2.)/fsamp ], btype = 'bandpass')\n",
    "    xx2 = signal.filtfilt(b, a, bb.x2)[::decimate]\n",
    "    \n",
    "    m1_tmp = ll.find_mle_sin(xx2, fsamp=5000/decimate, noise_rms=1, plot=False, suppress_print=True, **fit_kwargs)\n",
    "    \n",
    "    return m1_tmp.values[0]"
   ]
  },
  {
   "cell_type": "code",
   "execution_count": 131,
   "metadata": {},
   "outputs": [
    {
     "name": "stderr",
     "output_type": "stream",
     "text": [
      "100%|██████████| 10/10 [00:00<00:00, 8160.12it/s]\n"
     ]
    }
   ],
   "source": [
    "amps_plus_x_2f = np.array(Parallel(n_jobs=20)(delayed(get_amp_single)(i) for i in tqdm(range(10))))"
   ]
  },
  {
   "cell_type": "code",
   "execution_count": 39,
   "metadata": {},
   "outputs": [
    {
     "data": {
      "text/plain": [
       "0.7289756347706263"
      ]
     },
     "execution_count": 39,
     "metadata": {},
     "output_type": "execute_result"
    }
   ],
   "source": [
    "factor = np.mean(amps_plus_x)/np.mean(amps_minus_x)\n",
    "factor"
   ]
  },
  {
   "cell_type": "code",
   "execution_count": 133,
   "metadata": {},
   "outputs": [
    {
     "data": {
      "text/plain": [
       "1.124106002733584"
      ]
     },
     "execution_count": 133,
     "metadata": {},
     "output_type": "execute_result"
    }
   ],
   "source": [
    "factor2 = np.mean(amps_plus_x_2f)/np.mean(amps_plus_x)\n",
    "factor2"
   ]
  },
  {
   "cell_type": "code",
   "execution_count": 37,
   "metadata": {},
   "outputs": [
    {
     "data": {
      "text/plain": [
       "(array([-0.00299865, -0.00299193, -0.0030011 , -0.0030093 , -0.00300316,\n",
       "        -0.00301009, -0.00300505, -0.0029996 , -0.00300229, -0.00300468]),\n",
       " array([-0.00408474, -0.00408243, -0.00409705, -0.00410182, -0.00412409,\n",
       "        -0.00413091, -0.00412064, -0.00413625, -0.00414977, -0.00416141]))"
      ]
     },
     "execution_count": 37,
     "metadata": {},
     "output_type": "execute_result"
    }
   ],
   "source": [
    "amps_plus_x, amps_minus_x"
   ]
  }
 ],
 "metadata": {
  "kernelspec": {
   "display_name": "Python 3",
   "language": "python",
   "name": "python3"
  },
  "language_info": {
   "codemirror_mode": {
    "name": "ipython",
    "version": 3
   },
   "file_extension": ".py",
   "mimetype": "text/x-python",
   "name": "python",
   "nbconvert_exporter": "python",
   "pygments_lexer": "ipython3",
   "version": "3.6.9"
  }
 },
 "nbformat": 4,
 "nbformat_minor": 4
}
