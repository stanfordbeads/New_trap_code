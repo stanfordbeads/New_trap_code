{
 "cells": [
  {
   "cell_type": "code",
   "execution_count": 1,
   "metadata": {},
   "outputs": [],
   "source": [
    "import numpy as np\n",
    "import matplotlib.pyplot as plt\n",
    "import matplotlib\n",
    "from scipy import signal\n",
    "import random\n",
    "\n",
    "import h5py\n",
    "from IPython.utils import io\n",
    "\n",
    "from joblib import Parallel, delayed\n",
    "from tqdm import tqdm\n",
    "import sys"
   ]
  },
  {
   "cell_type": "code",
   "execution_count": 2,
   "metadata": {},
   "outputs": [],
   "source": [
    "%matplotlib widget\n",
    "\n",
    "%reload_ext autoreload\n",
    "%autoreload 2"
   ]
  },
  {
   "cell_type": "code",
   "execution_count": 3,
   "metadata": {},
   "outputs": [],
   "source": [
    "sys.path.append('../../../../nadavp/new_trap/Tools/')\n",
    "sys.path.append('../../../../nadavp/new_trap/Tools/StatFramework/')\n",
    "sys.path.append('../../../../nadavp/opt_lev_analysis/lib/')\n",
    "import BeadDataFile\n",
    "from discharge_tools import *"
   ]
  },
  {
   "cell_type": "code",
   "execution_count": 4,
   "metadata": {},
   "outputs": [],
   "source": [
    "import bead_util as bu\n",
    "# import calib_util as cal\n",
    "import transfer_func_util as tf\n",
    "import configuration as config"
   ]
  },
  {
   "cell_type": "code",
   "execution_count": 5,
   "metadata": {},
   "outputs": [],
   "source": [
    "# filename = r'/data/old_trap/20210603/bead1/1_5mbar_powfb_xzcool.h5'\n",
    "filename = r'/data/old_trap/20210817/bead1/turbo_powfb_xyzcool_12.h5'\n",
    "filename = r'/data/old_trap/20211107/bead1/7mbar_powfb_zcool_lower4.h5'\n",
    "filename = r'/data/old_trap/20211112/bead3/1mbar_powfb_xyzcool2.h5'\n",
    "\n",
    "\n",
    "df = bu.DataFile();\n",
    "df.load(filename);\n",
    "# df.load_other_data()\n",
    "# step_file_objs.append(df);"
   ]
  },
  {
   "cell_type": "code",
   "execution_count": 6,
   "metadata": {},
   "outputs": [],
   "source": [
    "fsamp=5000\n",
    "res = 5000\n",
    "\n",
    "data=df.pos_data\n",
    "data_det=signal.detrend(data)\n",
    "y_1000=data_det[1]\n",
    "z_1000=data_det[2]\n",
    "\n",
    "xpsd, freqs = matplotlib.mlab.psd(data_det[0], Fs = fsamp, NFFT = res)\n",
    "ypsd, freqs = matplotlib.mlab.psd(y_1000, Fs = fsamp, NFFT = res)\n",
    "zpsd, freqs = matplotlib.mlab.psd(z_1000, Fs = fsamp, NFFT = res)"
   ]
  },
  {
   "cell_type": "code",
   "execution_count": 7,
   "metadata": {},
   "outputs": [
    {
     "data": {
      "application/vnd.jupyter.widget-view+json": {
       "model_id": "b5c95baaa6ce49b893f2a5b4acc7bfac",
       "version_major": 2,
       "version_minor": 0
      },
      "text/plain": [
       "Canvas(toolbar=Toolbar(toolitems=[('Home', 'Reset original view', 'home', 'home'), ('Back', 'Back to previous …"
      ]
     },
     "metadata": {},
     "output_type": "display_data"
    },
    {
     "name": "stdout",
     "output_type": "stream",
     "text": [
      "1.0 maximum x\n",
      "1.0 maximum y\n",
      "7.85082883222 minimum x\n",
      "11.5477668245 minimum y\n"
     ]
    },
    {
     "data": {
      "text/plain": [
       "array([ 4.50893166])"
      ]
     },
     "execution_count": 7,
     "metadata": {},
     "output_type": "execute_result"
    }
   ],
   "source": [
    "_,ax = plt.subplots()\n",
    "ax.loglog(freqs, np.sqrt(xpsd), '.-', label=\"x\",markersize=1,linewidth=0.5)\n",
    "ax.loglog(freqs, np.sqrt(ypsd), '.-', label=\"y\",markersize=1,linewidth=0.5)\n",
    "ax.loglog(freqs, np.sqrt(zpsd), '.-', label=\"z\",markersize=1,linewidth=0.5)\n",
    "ax.legend()\n",
    "ax.set_xlabel('Frequency [Hz]')\n",
    "ax.set_ylabel('PSD [a.u.]')\n",
    "# plt.xlim(0,1000)\n",
    "#plt.ylim(1e6,1e10)\n",
    "plt.grid(True)\n",
    "print(freqs[np.argmax(xpsd)], \"maximum x\")\n",
    "print(freqs[np.argmax(ypsd)], \"maximum y\")\n",
    "print(np.min(xpsd), \"minimum x\")\n",
    "print(np.min(ypsd), \"minimum y\")\n",
    "np.sqrt(ypsd[freqs==439]/ypsd[freqs==139])"
   ]
  },
  {
   "cell_type": "code",
   "execution_count": 8,
   "metadata": {},
   "outputs": [
    {
     "data": {
      "text/plain": [
       "1675"
      ]
     },
     "execution_count": 8,
     "metadata": {},
     "output_type": "execute_result"
    }
   ],
   "source": [
    "335*5"
   ]
  },
  {
   "cell_type": "code",
   "execution_count": 9,
   "metadata": {},
   "outputs": [
    {
     "data": {
      "text/plain": [
       "(1.5733333333333333, 1.6875)"
      ]
     },
     "execution_count": 9,
     "metadata": {},
     "output_type": "execute_result"
    }
   ],
   "source": [
    "354/225, (7.5/5)**3/2"
   ]
  },
  {
   "cell_type": "code",
   "execution_count": 288,
   "metadata": {},
   "outputs": [],
   "source": [
    "filename = r'/data/old_trap/20220225/bead1/turbo_nopowfb_xyzcool3.h5'\n",
    "filename2 = r'/data/old_trap/20220309/bead1/discharge/X_50Vpp_139Hz.h5'\n",
    "\n",
    "df = bu.DataFile();\n",
    "df.load(filename);\n",
    "\n",
    "df2 = bu.DataFile();\n",
    "df2.load(filename2);\n",
    "\n",
    "data=df.pos_data\n",
    "data_det=signal.detrend(data)\n",
    "xpsd, freqs = matplotlib.mlab.psd(data_det[0], Fs = fsamp, NFFT = res)\n",
    "ypsd, freqs = matplotlib.mlab.psd(data_det[1], Fs = fsamp, NFFT = res)\n",
    "zpsd, freqs = matplotlib.mlab.psd(data_det[2], Fs = fsamp, NFFT = res)\n",
    "\n",
    "\n",
    "data2=df2.pos_data\n",
    "data_det2=signal.detrend(data2)\n",
    "xpsd2, freqs = matplotlib.mlab.psd(data_det2[0], Fs = fsamp, NFFT = res)\n",
    "ypsd2, freqs = matplotlib.mlab.psd(data_det2[1], Fs = fsamp, NFFT = res)\n",
    "zpsd2, freqs = matplotlib.mlab.psd(data_det2[2], Fs = fsamp, NFFT = res)"
   ]
  },
  {
   "cell_type": "code",
   "execution_count": 289,
   "metadata": {},
   "outputs": [
    {
     "data": {
      "application/vnd.jupyter.widget-view+json": {
       "model_id": "6ffaf0fca5f34fdc9d0bb63cbf6ae238",
       "version_major": 2,
       "version_minor": 0
      },
      "text/plain": [
       "Canvas(toolbar=Toolbar(toolitems=[('Home', 'Reset original view', 'home', 'home'), ('Back', 'Back to previous …"
      ]
     },
     "metadata": {},
     "output_type": "display_data"
    },
    {
     "name": "stdout",
     "output_type": "stream",
     "text": [
      "321.0 maximum x\n",
      "337.0 maximum y\n",
      "17.8574931813 minimum x\n",
      "62.4340427816 minimum y\n"
     ]
    },
    {
     "data": {
      "text/plain": [
       "array([ 0.84247224])"
      ]
     },
     "execution_count": 289,
     "metadata": {},
     "output_type": "execute_result"
    }
   ],
   "source": [
    "_,ax = plt.subplots()\n",
    "ax.loglog(freqs, xpsd, '.-', label=\"first\",markersize=1,linewidth=0.5)\n",
    "ax.loglog(freqs, xpsd2, '.-', label=\"second\",markersize=1,linewidth=0.5)\n",
    "# ax.loglog(freqs, zpsd*10, '.-', label=\"z*10\",markersize=1,linewidth=0.5)\n",
    "# ax.legend()\n",
    "ax.set_xlabel('Frequency [Hz]')\n",
    "ax.set_ylabel(r'PSD [bits$^2/Hz.$]')\n",
    "# plt.xlim(1,500)\n",
    "#plt.ylim(1e6,1e10)\n",
    "plt.grid(True)\n",
    "print(freqs[np.argmax(xpsd)], \"maximum x\")\n",
    "print(freqs[np.argmax(ypsd)], \"maximum y\")\n",
    "print(np.min(xpsd), \"minimum x\")\n",
    "\n",
    "print(np.min(ypsd), \"minimum y\")\n",
    "1/(np.sqrt(ypsd2[freqs==139]/ypsd2[freqs==141]))"
   ]
  },
  {
   "cell_type": "code",
   "execution_count": 287,
   "metadata": {},
   "outputs": [
    {
     "data": {
      "application/vnd.jupyter.widget-view+json": {
       "model_id": "1522886189da4a2689734864adb90b19",
       "version_major": 2,
       "version_minor": 0
      },
      "text/plain": [
       "Canvas(toolbar=Toolbar(toolitems=[('Home', 'Reset original view', 'home', 'home'), ('Back', 'Back to previous …"
      ]
     },
     "metadata": {},
     "output_type": "display_data"
    },
    {
     "name": "stdout",
     "output_type": "stream",
     "text": [
      "321.0 maximum x\n",
      "337.0 maximum y\n",
      "17.8574931813 minimum x\n",
      "62.4340427816 minimum y\n"
     ]
    }
   ],
   "source": [
    "_,ax = plt.subplots()\n",
    "ax.loglog(freqs, zpsd, '.-', label=\"1st file\",markersize=1,linewidth=0.5)\n",
    "ax.loglog(freqs, zpsd2, '.-', label=\"2nd file\",markersize=1,linewidth=0.5)\n",
    "# ax.loglog(freqs, zpsd*10, '.-', label=\"z*10\",markersize=1,linewidth=0.5)\n",
    "# ax.legend()\n",
    "ax.set_xlabel('Frequency [Hz]')\n",
    "ax.set_ylabel('PSD [a.u.]')\n",
    "#plt.xlim(1,2500)\n",
    "#plt.ylim(1e6,1e10)\n",
    "plt.grid(True)\n",
    "\n",
    "print(freqs[np.argmax(xpsd)], \"maximum x\")\n",
    "print(freqs[np.argmax(ypsd)], \"maximum y\")\n",
    "print(np.min(xpsd), \"minimum x\")\n",
    "print(np.min(ypsd), \"minimum y\")"
   ]
  },
  {
   "cell_type": "code",
   "execution_count": 32,
   "metadata": {},
   "outputs": [
    {
     "data": {
      "text/plain": [
       "5.25"
      ]
     },
     "execution_count": 32,
     "metadata": {},
     "output_type": "execute_result"
    }
   ],
   "source": [
    "420/80"
   ]
  },
  {
   "cell_type": "code",
   "execution_count": 32,
   "metadata": {},
   "outputs": [],
   "source": [
    "amp_bits = -245.761425313\n",
    "amp_bits_bangs = -170\n",
    "scale = np.abs(1/(amp_bits/(50/4e-3*0.61*1.6e-19)))\n",
    "scale_bangs = scale*amp_bits/amp_bits_bangs\n",
    "scale_z = scale/3771*4931"
   ]
  },
  {
   "cell_type": "code",
   "execution_count": 54,
   "metadata": {},
   "outputs": [],
   "source": [
    "\n",
    "data=df.pos_data\n",
    "data_det=signal.detrend(data)\n",
    "xpsd_N, freqs = matplotlib.mlab.psd(data_det[0]*scale_bangs, Fs = fsamp, NFFT = res)\n",
    "\n",
    "data2=df2.pos_data\n",
    "data_det2=signal.detrend(data2)\n",
    "xpsd2_N, freqs = matplotlib.mlab.psd(data_det2[0]*scale, Fs = fsamp, NFFT = res)\n",
    "ypsd2_N, freqs = matplotlib.mlab.psd(data_det2[1]*scale, Fs = fsamp, NFFT = res)\n",
    "zpsd2_N, freqs = matplotlib.mlab.psd(data_det2[2]*scale_z, Fs = fsamp, NFFT = res)"
   ]
  },
  {
   "cell_type": "code",
   "execution_count": 55,
   "metadata": {},
   "outputs": [
    {
     "data": {
      "application/vnd.jupyter.widget-view+json": {
       "model_id": "269dc97b9d2240b68a8358ebde705809",
       "version_major": 2,
       "version_minor": 0
      },
      "text/plain": [
       "Canvas(toolbar=Toolbar(toolitems=[('Home', 'Reset original view', 'home', 'home'), ('Back', 'Back to previous …"
      ]
     },
     "metadata": {},
     "output_type": "display_data"
    },
    {
     "name": "stdout",
     "output_type": "stream",
     "text": [
      "231.0 maximum x\n",
      "231.0 maximum y\n",
      "5.23226471037 minimum x\n",
      "4.64161517323 minimum y\n"
     ]
    }
   ],
   "source": [
    "_,ax = plt.subplots()\n",
    "ax.loglog(freqs, np.sqrt(xpsd_N), '.-', label=\"Bang's 5um\",markersize=1,linewidth=0.5)\n",
    "ax.loglog(freqs, np.sqrt(xpsd2_N), '.-', label=\"German 7.5um\",markersize=1,linewidth=0.5)\n",
    "ax.legend()\n",
    "ax.set_xlabel('Frequency [Hz]')\n",
    "ax.set_ylabel(r'ASD [N/$\\sqrt{Hz.}$]')\n",
    "# plt.xlim(1,2000)\n",
    "#plt.ylim(1e6,1e10)\n",
    "plt.grid(True)\n",
    "print(freqs[np.argmax(xpsd)], \"maximum x\")\n",
    "print(freqs[np.argmax(ypsd)], \"maximum y\")\n",
    "print(np.min(xpsd), \"minimum x\")\n",
    "print(np.min(ypsd), \"minimum y\")"
   ]
  },
  {
   "cell_type": "code",
   "execution_count": 35,
   "metadata": {},
   "outputs": [
    {
     "data": {
      "application/vnd.jupyter.widget-view+json": {
       "model_id": "7d6d862590a749b9b1332e620a696b3c",
       "version_major": 2,
       "version_minor": 0
      },
      "text/plain": [
       "Canvas(toolbar=Toolbar(toolitems=[('Home', 'Reset original view', 'home', 'home'), ('Back', 'Back to previous …"
      ]
     },
     "metadata": {},
     "output_type": "display_data"
    }
   ],
   "source": [
    "_,ax = plt.subplots()\n",
    "ax.loglog(freqs, np.sqrt(xpsd2_N), '.-', label=\"German 7.5um - X\",markersize=1,linewidth=0.5)\n",
    "ax.loglog(freqs, np.sqrt(ypsd2_N), '.-', label=\"German 7.5um - Y\",markersize=1,linewidth=0.5)\n",
    "ax.loglog(freqs, np.sqrt(zpsd2_N), '.-', label=\"German 7.5um - Z\",markersize=1,linewidth=0.5)\n",
    "\n",
    "ax.legend()\n",
    "ax.set_xlabel('Frequency [Hz]')\n",
    "ax.set_ylabel(r'ASD [N/$\\sqrt{Hz.}$]')\n",
    "# plt.xlim(1,500)\n",
    "#plt.ylim(1e6,1e10)\n",
    "plt.grid(True)"
   ]
  },
  {
   "cell_type": "code",
   "execution_count": 151,
   "metadata": {},
   "outputs": [
    {
     "data": {
      "text/plain": [
       "9"
      ]
     },
     "execution_count": 151,
     "metadata": {},
     "output_type": "execute_result"
    }
   ],
   "source": [
    "3*3"
   ]
  },
  {
   "cell_type": "markdown",
   "metadata": {},
   "source": [
    "### Check spin"
   ]
  },
  {
   "cell_type": "code",
   "execution_count": 152,
   "metadata": {},
   "outputs": [],
   "source": [
    "filename = r'/data/old_trap/20211001/bead1/spinning/check_spin/test_117kHz_0211_0.h5'\n",
    "f = h5py.File(filename,'r')\n",
    "\n",
    "dat = np.array(f['beads/data/high_speed_data'])\n",
    "\n",
    "fsamp_spin = 500000\n",
    "res_spin = 500000\n",
    "\n",
    "data=dat[0]\n",
    "data_det=signal.detrend(data)\n",
    "psd_spin, freqs_spin = matplotlib.mlab.psd(data_det, Fs = fsamp_spin, NFFT = res_spin)"
   ]
  },
  {
   "cell_type": "code",
   "execution_count": 153,
   "metadata": {},
   "outputs": [
    {
     "data": {
      "application/vnd.jupyter.widget-view+json": {
       "model_id": "f1057c2f5b8a423c8cbf8dfdb98084b4",
       "version_major": 2,
       "version_minor": 0
      },
      "text/plain": [
       "Canvas(toolbar=Toolbar(toolitems=[('Home', 'Reset original view', 'home', 'home'), ('Back', 'Back to previous …"
      ]
     },
     "metadata": {},
     "output_type": "display_data"
    }
   ],
   "source": [
    "_,ax = plt.subplots()\n",
    "ax.loglog(freqs_spin, np.sqrt(psd_spin), markersize=1,linewidth=0.5)\n",
    "ax.set_xlabel('Frequency [Hz]')\n",
    "ax.set_ylabel(r'ASD')\n",
    "plt.xlim(1e3,None)\n",
    "#plt.ylim(1e6,1e10)\n",
    "plt.grid(True)"
   ]
  },
  {
   "cell_type": "code",
   "execution_count": 270,
   "metadata": {},
   "outputs": [
    {
     "ename": "NameError",
     "evalue": "name 'f' is not defined",
     "output_type": "error",
     "traceback": [
      "\u001b[0;31m---------------------------------------------------------------------------\u001b[0m",
      "\u001b[0;31mNameError\u001b[0m                                 Traceback (most recent call last)",
      "\u001b[0;32m<ipython-input-270-758a1569f77b>\u001b[0m in \u001b[0;36m<module>\u001b[0;34m\u001b[0m\n\u001b[1;32m      1\u001b[0m \u001b[0mfilename\u001b[0m \u001b[0;34m=\u001b[0m \u001b[0;34mr'/data/old_trap/20220309/bead1/spin/turbo_6kHz_0.h5'\u001b[0m\u001b[0;34m\u001b[0m\u001b[0;34m\u001b[0m\u001b[0m\n\u001b[1;32m      2\u001b[0m \u001b[0;34m\u001b[0m\u001b[0m\n\u001b[0;32m----> 3\u001b[0;31m \u001b[0mdat\u001b[0m \u001b[0;34m=\u001b[0m \u001b[0mnp\u001b[0m\u001b[0;34m.\u001b[0m\u001b[0marray\u001b[0m\u001b[0;34m(\u001b[0m\u001b[0mf\u001b[0m\u001b[0;34m[\u001b[0m\u001b[0;34m'beads/data/high_speed_data'\u001b[0m\u001b[0;34m]\u001b[0m\u001b[0;34m)\u001b[0m\u001b[0;34m\u001b[0m\u001b[0;34m\u001b[0m\u001b[0m\n\u001b[0m\u001b[1;32m      4\u001b[0m \u001b[0;34m\u001b[0m\u001b[0m\n\u001b[1;32m      5\u001b[0m \u001b[0mfsamp_spin\u001b[0m \u001b[0;34m=\u001b[0m \u001b[0;36m500000\u001b[0m\u001b[0;34m\u001b[0m\u001b[0;34m\u001b[0m\u001b[0m\n",
      "\u001b[0;31mNameError\u001b[0m: name 'f' is not defined"
     ]
    }
   ],
   "source": [
    "filename = r'/data/old_trap/20220309/bead1/spin/turbo_6kHz_0.h5'\n",
    "\n",
    "dat = np.array(f['beads/data/high_speed_data'])\n",
    "\n",
    "fsamp_spin = 500000\n",
    "res_spin = 500000\n",
    "data=dat[0]\n",
    "data_det=signal.detrend(data)\n",
    "psd_spin2, freqs_spin2 = matplotlib.mlab.psd(data_det, Fs = fsamp_spin, NFFT = res_spin)"
   ]
  },
  {
   "cell_type": "code",
   "execution_count": 138,
   "metadata": {},
   "outputs": [],
   "source": [
    "filename = r'/data/old_trap/20211001/bead1/spinning/check_spin/test_103kHz_2610_after_crash_4_0.h5'\n",
    "f = h5py.File(filename,'r')\n",
    "\n",
    "dat = np.array(f['beads/data/high_speed_data'])\n",
    "\n",
    "fsamp_spin = 500000\n",
    "res_spin = 500000\n",
    "data=dat[0]\n",
    "data_det=signal.detrend(data)\n",
    "psd_spin3, freqs_spin3 = matplotlib.mlab.psd(data_det, Fs = fsamp_spin, NFFT = res_spin)"
   ]
  },
  {
   "cell_type": "code",
   "execution_count": 139,
   "metadata": {},
   "outputs": [],
   "source": [
    "filename = r'/data/old_trap/20211001/bead1/spinning/check_spin/test_103kHz_2610_after_crash_5_0.h5'\n",
    "f = h5py.File(filename,'r')\n",
    "\n",
    "dat = np.array(f['beads/data/high_speed_data'])\n",
    "\n",
    "fsamp_spin = 500000\n",
    "res_spin = 500000\n",
    "data=dat[0]\n",
    "data_det=signal.detrend(data)\n",
    "psd_spin4, freqs_spin4 = matplotlib.mlab.psd(data_det, Fs = fsamp_spin, NFFT = res_spin)"
   ]
  },
  {
   "cell_type": "code",
   "execution_count": 149,
   "metadata": {},
   "outputs": [
    {
     "data": {
      "application/vnd.jupyter.widget-view+json": {
       "model_id": "956040e443554290a028a5d9643b5c58",
       "version_major": 2,
       "version_minor": 0
      },
      "text/plain": [
       "Canvas(toolbar=Toolbar(toolitems=[('Home', 'Reset original view', 'home', 'home'), ('Back', 'Back to previous …"
      ]
     },
     "metadata": {},
     "output_type": "display_data"
    }
   ],
   "source": [
    "_,ax = plt.subplots()\n",
    "ax.semilogy(freqs_spin*1e-3, np.sqrt(psd_spin), markersize=1,linewidth=0.5)\n",
    "# ax.semilogy(freqs_spin2*1e-3, np.sqrt(psd_spin2), markersize=1,linewidth=0.5)\n",
    "# ax.semilogy(freqs_spin3*1e-3, np.sqrt(psd_spin3), markersize=1,linewidth=0.5)\n",
    "ax.semilogy(freqs_spin4*1e-3, np.sqrt(psd_spin4), markersize=1,linewidth=0.5)\n",
    "ax.set_xlabel('Frequency [kHz]')\n",
    "ax.set_ylabel(r'ASD')\n",
    "# plt.xlim(202,211)\n",
    "plt.xlim(200,242)\n",
    "\n",
    "#plt.ylim(1e6,1e10)\n",
    "plt.grid(True)"
   ]
  },
  {
   "cell_type": "code",
   "execution_count": null,
   "metadata": {},
   "outputs": [],
   "source": []
  },
  {
   "cell_type": "code",
   "execution_count": null,
   "metadata": {},
   "outputs": [],
   "source": []
  },
  {
   "cell_type": "code",
   "execution_count": null,
   "metadata": {},
   "outputs": [],
   "source": []
  }
 ],
 "metadata": {
  "kernelspec": {
   "display_name": "Python 3",
   "language": "python",
   "name": "python3"
  },
  "language_info": {
   "codemirror_mode": {
    "name": "ipython",
    "version": 3
   },
   "file_extension": ".py",
   "mimetype": "text/x-python",
   "name": "python",
   "nbconvert_exporter": "python",
   "pygments_lexer": "ipython3",
   "version": "3.6.9"
  }
 },
 "nbformat": 4,
 "nbformat_minor": 4
}
