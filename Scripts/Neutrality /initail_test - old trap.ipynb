{
 "cells": [
  {
   "cell_type": "code",
   "execution_count": 1,
   "metadata": {},
   "outputs": [],
   "source": [
    "import numpy as np\n",
    "import matplotlib.pyplot as plt\n",
    "import matplotlib\n",
    "from scipy import signal\n",
    "import random\n",
    "\n",
    "import h5py\n",
    "from IPython.utils import io\n",
    "\n",
    "from joblib import Parallel, delayed\n",
    "from tqdm import tqdm\n",
    "import sys"
   ]
  },
  {
   "cell_type": "code",
   "execution_count": 2,
   "metadata": {},
   "outputs": [],
   "source": [
    "%matplotlib widget\n",
    "\n",
    "%reload_ext autoreload\n",
    "%autoreload 2"
   ]
  },
  {
   "cell_type": "code",
   "execution_count": 3,
   "metadata": {},
   "outputs": [],
   "source": [
    "sys.path.append('../../../../nadavp/new_trap/Tools/')\n",
    "sys.path.append('../../../../nadavp/new_trap/Tools/StatFramework/')\n",
    "sys.path.append('../../../../nadavp/opt_lev_analysis/lib/')\n",
    "import BeadDataFile\n",
    "from discharge_tools import *"
   ]
  },
  {
   "cell_type": "code",
   "execution_count": 4,
   "metadata": {},
   "outputs": [],
   "source": [
    "import bead_util as bu\n",
    "# import calib_util as cal\n",
    "import transfer_func_util as tf\n",
    "import configuration as config"
   ]
  },
  {
   "cell_type": "code",
   "execution_count": 29,
   "metadata": {},
   "outputs": [],
   "source": [
    "# filename = r'/data/old_trap/20210603/bead1/1_5mbar_powfb_xzcool.h5'\n",
    "filename = r'/data/old_trap/20210817/bead1/turbo_powfb_xyzcool_12.h5'\n",
    "filename = r'/data/old_trap/20211001/bead1/neutrality4/Y_150Vpp_alternate_139Hz_spin_XZ_77kHz_no_delay_no_height_fb/Y_100Vpp_0.h5'\n",
    "\n",
    "df = bu.DataFile();\n",
    "df.load(filename);\n",
    "# df.load_other_data()\n",
    "# step_file_objs.append(df);"
   ]
  },
  {
   "cell_type": "code",
   "execution_count": 30,
   "metadata": {},
   "outputs": [],
   "source": [
    "fsamp=5000\n",
    "res = 5000\n",
    "\n",
    "data=df.pos_data\n",
    "data_det=signal.detrend(data)\n",
    "y_1000=data_det[1]\n",
    "z_1000=data_det[2]\n",
    "\n",
    "xpsd, freqs = matplotlib.mlab.psd(data_det[0], Fs = fsamp, NFFT = res)\n",
    "ypsd, freqs = matplotlib.mlab.psd(y_1000, Fs = fsamp, NFFT = res)\n",
    "zpsd, freqs = matplotlib.mlab.psd(z_1000, Fs = fsamp, NFFT = res)"
   ]
  },
  {
   "cell_type": "code",
   "execution_count": 31,
   "metadata": {},
   "outputs": [
    {
     "data": {
      "application/vnd.jupyter.widget-view+json": {
       "model_id": "f9b5020468de4b359014500d529e1b42",
       "version_major": 2,
       "version_minor": 0
      },
      "text/plain": [
       "Canvas(toolbar=Toolbar(toolitems=[('Home', 'Reset original view', 'home', 'home'), ('Back', 'Back to previous …"
      ]
     },
     "metadata": {},
     "output_type": "display_data"
    },
    {
     "name": "stdout",
     "output_type": "stream",
     "text": [
      "0.0 maximum x\n",
      "0.0 maximum y\n",
      "126.802684828 minimum x\n",
      "69.2742619015 minimum y\n"
     ]
    },
    {
     "data": {
      "text/plain": [
       "array([ 1.16618202])"
      ]
     },
     "execution_count": 31,
     "metadata": {},
     "output_type": "execute_result"
    }
   ],
   "source": [
    "_,ax = plt.subplots()\n",
    "ax.semilogy(freqs, np.sqrt(xpsd), '.-', label=\"x\",markersize=1,linewidth=0.5)\n",
    "ax.semilogy(freqs, np.sqrt(ypsd), '.-', label=\"y\",markersize=1,linewidth=0.5)\n",
    "ax.semilogy(freqs, np.sqrt(zpsd), '.-', label=\"z\",markersize=1,linewidth=0.5)\n",
    "ax.legend()\n",
    "ax.set_xlabel('Frequency [Hz]')\n",
    "ax.set_ylabel('PSD [a.u.]')\n",
    "plt.xlim(0,1000)\n",
    "#plt.ylim(1e6,1e10)\n",
    "plt.grid(True)\n",
    "print(freqs[np.argmax(xpsd)], \"maximum x\")\n",
    "print(freqs[np.argmax(ypsd)], \"maximum y\")\n",
    "print(np.min(xpsd), \"minimum x\")\n",
    "print(np.min(ypsd), \"minimum y\")\n",
    "np.sqrt(ypsd[freqs==439]/ypsd[freqs==139])"
   ]
  },
  {
   "cell_type": "code",
   "execution_count": 9,
   "metadata": {},
   "outputs": [
    {
     "data": {
      "text/plain": [
       "1675"
      ]
     },
     "execution_count": 9,
     "metadata": {},
     "output_type": "execute_result"
    }
   ],
   "source": [
    "335*5"
   ]
  },
  {
   "cell_type": "code",
   "execution_count": 10,
   "metadata": {},
   "outputs": [
    {
     "data": {
      "text/plain": [
       "(1.5733333333333333, 1.6875)"
      ]
     },
     "execution_count": 10,
     "metadata": {},
     "output_type": "execute_result"
    }
   ],
   "source": [
    "354/225, (7.5/5)**3/2"
   ]
  },
  {
   "cell_type": "code",
   "execution_count": 56,
   "metadata": {},
   "outputs": [],
   "source": [
    "# filename = r'/data/old_trap/20210910/bead1/3mbar_powfb_xyzcool.h5'\n",
    "# filename = r'/data/old_trap/20210825/bead3/turbo_powfb_xyzcool.h5'\n",
    "# filename = r'/data/old_trap/20210712/bead1/turbo_powfb_xyzcool_2.h5'\n",
    "filename2 = r'/data/old_trap/20210910/bead1/spin_charged_sphere/turbo_powfb_xyzcool_spin1_0.h5'\n",
    "# filename = r'/data/old_trap/20210910/bead1/spin_charged_sphere/turbo_powfb_xyzcool_nospin_0.h5'\n",
    "filename = r'/data/old_trap/20210817/bead1/discharge/fine_2/x_discharge_50Vpp_41Hz_63.h5'\n",
    "# filename = r'/data/old_trap/20210927/bead1/0_1mbar_powfb_xyzcool_powfb_high.h5'\n",
    "# filename = r'/data/old_trap/20210929/bead2/turbo_powfb_xyzcool.h5'\n",
    "# filename = r'/data/old_trap/20211001/bead1/turbo_powfb_xyzcool.h5'\n",
    "filename = r'/data/old_trap/20211001/bead1/both_electrodes/Y_139Hz_20Vpp/Y_139Hz_20Vpp_1.h5'\n",
    "filename2 = r'/data/old_trap/20211001/bead1/neutrality6/check_charge_y_5/Z_50Vpp_2.h5'\n",
    "\n",
    "df = bu.DataFile();\n",
    "df.load(filename);\n",
    "df2 = bu.DataFile();\n",
    "df2.load(filename2);\n",
    "\n",
    "data=df.pos_data\n",
    "data_det=signal.detrend(data)\n",
    "xpsd, freqs = matplotlib.mlab.psd(data_det[0], Fs = fsamp, NFFT = res)\n",
    "ypsd, freqs = matplotlib.mlab.psd(data_det[1], Fs = fsamp, NFFT = res)\n",
    "zpsd, freqs = matplotlib.mlab.psd(data_det[2], Fs = fsamp, NFFT = res)\n",
    "\n",
    "\n",
    "data2=df2.pos_data\n",
    "data_det2=signal.detrend(data2)\n",
    "xpsd2, freqs = matplotlib.mlab.psd(data_det2[0], Fs = fsamp, NFFT = res)\n",
    "ypsd2, freqs = matplotlib.mlab.psd(data_det2[1], Fs = fsamp, NFFT = res)\n",
    "zpsd2, freqs = matplotlib.mlab.psd(data_det2[2], Fs = fsamp, NFFT = res)"
   ]
  },
  {
   "cell_type": "code",
   "execution_count": 57,
   "metadata": {},
   "outputs": [
    {
     "data": {
      "application/vnd.jupyter.widget-view+json": {
       "model_id": "6b509d2e445146d39be2b11e4a151288",
       "version_major": 2,
       "version_minor": 0
      },
      "text/plain": [
       "Canvas(toolbar=Toolbar(toolitems=[('Home', 'Reset original view', 'home', 'home'), ('Back', 'Back to previous …"
      ]
     },
     "metadata": {},
     "output_type": "display_data"
    },
    {
     "name": "stdout",
     "output_type": "stream",
     "text": [
      "0.0 maximum x\n",
      "1.0 maximum y\n",
      "70.6601720288 minimum x\n",
      "50.6060214961 minimum y\n"
     ]
    },
    {
     "data": {
      "text/plain": [
       "array([ 0.01647118])"
      ]
     },
     "execution_count": 57,
     "metadata": {},
     "output_type": "execute_result"
    }
   ],
   "source": [
    "_,ax = plt.subplots()\n",
    "ax.semilogy(freqs, ypsd, '.-', label=\"first\",markersize=1,linewidth=0.5)\n",
    "ax.semilogy(freqs, ypsd2, '.-', label=\"second\",markersize=1,linewidth=0.5)\n",
    "# ax.loglog(freqs, zpsd*10, '.-', label=\"z*10\",markersize=1,linewidth=0.5)\n",
    "# ax.legend()\n",
    "ax.set_xlabel('Frequency [Hz]')\n",
    "ax.set_ylabel(r'PSD [bits$^2/Hz.$]')\n",
    "plt.xlim(1,500)\n",
    "#plt.ylim(1e6,1e10)\n",
    "plt.grid(True)\n",
    "print(freqs[np.argmax(xpsd)], \"maximum x\")\n",
    "print(freqs[np.argmax(ypsd)], \"maximum y\")\n",
    "print(np.min(xpsd), \"minimum x\")\n",
    "print(np.min(ypsd), \"minimum y\")\n",
    "1/(np.sqrt(ypsd2[freqs==139]/ypsd2[freqs==141]))"
   ]
  },
  {
   "cell_type": "code",
   "execution_count": 157,
   "metadata": {},
   "outputs": [
    {
     "data": {
      "application/vnd.jupyter.widget-view+json": {
       "model_id": "e7f33621ad5945219ba328ac19085c07",
       "version_major": 2,
       "version_minor": 0
      },
      "text/plain": [
       "Canvas(toolbar=Toolbar(toolitems=[('Home', 'Reset original view', 'home', 'home'), ('Back', 'Back to previous …"
      ]
     },
     "metadata": {},
     "output_type": "display_data"
    },
    {
     "name": "stdout",
     "output_type": "stream",
     "text": [
      "0.0 maximum x\n",
      "0.0 maximum y\n",
      "117.533258764 minimum x\n",
      "113.823575574 minimum y\n"
     ]
    }
   ],
   "source": [
    "_,ax = plt.subplots()\n",
    "ax.loglog(freqs, zpsd, '.-', label=\"1st file\",markersize=1,linewidth=0.5)\n",
    "ax.loglog(freqs, zpsd2, '.-', label=\"2nd file\",markersize=1,linewidth=0.5)\n",
    "# ax.loglog(freqs, zpsd*10, '.-', label=\"z*10\",markersize=1,linewidth=0.5)\n",
    "# ax.legend()\n",
    "ax.set_xlabel('Frequency [Hz]')\n",
    "ax.set_ylabel('PSD [a.u.]')\n",
    "#plt.xlim(1,2500)\n",
    "#plt.ylim(1e6,1e10)\n",
    "plt.grid(True)\n",
    "\n",
    "print(freqs[np.argmax(xpsd)], \"maximum x\")\n",
    "print(freqs[np.argmax(ypsd)], \"maximum y\")\n",
    "print(np.min(xpsd), \"minimum x\")\n",
    "print(np.min(ypsd), \"minimum y\")"
   ]
  },
  {
   "cell_type": "code",
   "execution_count": 32,
   "metadata": {},
   "outputs": [
    {
     "data": {
      "text/plain": [
       "5.25"
      ]
     },
     "execution_count": 32,
     "metadata": {},
     "output_type": "execute_result"
    }
   ],
   "source": [
    "420/80"
   ]
  },
  {
   "cell_type": "code",
   "execution_count": 32,
   "metadata": {},
   "outputs": [],
   "source": [
    "amp_bits = -245.761425313\n",
    "amp_bits_bangs = -170\n",
    "scale = np.abs(1/(amp_bits/(50/4e-3*0.61*1.6e-19)))\n",
    "scale_bangs = scale*amp_bits/amp_bits_bangs\n",
    "scale_z = scale/3771*4931"
   ]
  },
  {
   "cell_type": "code",
   "execution_count": 54,
   "metadata": {},
   "outputs": [],
   "source": [
    "\n",
    "data=df.pos_data\n",
    "data_det=signal.detrend(data)\n",
    "xpsd_N, freqs = matplotlib.mlab.psd(data_det[0]*scale_bangs, Fs = fsamp, NFFT = res)\n",
    "\n",
    "data2=df2.pos_data\n",
    "data_det2=signal.detrend(data2)\n",
    "xpsd2_N, freqs = matplotlib.mlab.psd(data_det2[0]*scale, Fs = fsamp, NFFT = res)\n",
    "ypsd2_N, freqs = matplotlib.mlab.psd(data_det2[1]*scale, Fs = fsamp, NFFT = res)\n",
    "zpsd2_N, freqs = matplotlib.mlab.psd(data_det2[2]*scale_z, Fs = fsamp, NFFT = res)"
   ]
  },
  {
   "cell_type": "code",
   "execution_count": 55,
   "metadata": {},
   "outputs": [
    {
     "data": {
      "application/vnd.jupyter.widget-view+json": {
       "model_id": "269dc97b9d2240b68a8358ebde705809",
       "version_major": 2,
       "version_minor": 0
      },
      "text/plain": [
       "Canvas(toolbar=Toolbar(toolitems=[('Home', 'Reset original view', 'home', 'home'), ('Back', 'Back to previous …"
      ]
     },
     "metadata": {},
     "output_type": "display_data"
    },
    {
     "name": "stdout",
     "output_type": "stream",
     "text": [
      "231.0 maximum x\n",
      "231.0 maximum y\n",
      "5.23226471037 minimum x\n",
      "4.64161517323 minimum y\n"
     ]
    }
   ],
   "source": [
    "_,ax = plt.subplots()\n",
    "ax.loglog(freqs, np.sqrt(xpsd_N), '.-', label=\"Bang's 5um\",markersize=1,linewidth=0.5)\n",
    "ax.loglog(freqs, np.sqrt(xpsd2_N), '.-', label=\"German 7.5um\",markersize=1,linewidth=0.5)\n",
    "ax.legend()\n",
    "ax.set_xlabel('Frequency [Hz]')\n",
    "ax.set_ylabel(r'ASD [N/$\\sqrt{Hz.}$]')\n",
    "# plt.xlim(1,2000)\n",
    "#plt.ylim(1e6,1e10)\n",
    "plt.grid(True)\n",
    "print(freqs[np.argmax(xpsd)], \"maximum x\")\n",
    "print(freqs[np.argmax(ypsd)], \"maximum y\")\n",
    "print(np.min(xpsd), \"minimum x\")\n",
    "print(np.min(ypsd), \"minimum y\")"
   ]
  },
  {
   "cell_type": "code",
   "execution_count": 35,
   "metadata": {},
   "outputs": [
    {
     "data": {
      "application/vnd.jupyter.widget-view+json": {
       "model_id": "7d6d862590a749b9b1332e620a696b3c",
       "version_major": 2,
       "version_minor": 0
      },
      "text/plain": [
       "Canvas(toolbar=Toolbar(toolitems=[('Home', 'Reset original view', 'home', 'home'), ('Back', 'Back to previous …"
      ]
     },
     "metadata": {},
     "output_type": "display_data"
    }
   ],
   "source": [
    "_,ax = plt.subplots()\n",
    "ax.loglog(freqs, np.sqrt(xpsd2_N), '.-', label=\"German 7.5um - X\",markersize=1,linewidth=0.5)\n",
    "ax.loglog(freqs, np.sqrt(ypsd2_N), '.-', label=\"German 7.5um - Y\",markersize=1,linewidth=0.5)\n",
    "ax.loglog(freqs, np.sqrt(zpsd2_N), '.-', label=\"German 7.5um - Z\",markersize=1,linewidth=0.5)\n",
    "\n",
    "ax.legend()\n",
    "ax.set_xlabel('Frequency [Hz]')\n",
    "ax.set_ylabel(r'ASD [N/$\\sqrt{Hz.}$]')\n",
    "# plt.xlim(1,500)\n",
    "#plt.ylim(1e6,1e10)\n",
    "plt.grid(True)"
   ]
  },
  {
   "cell_type": "code",
   "execution_count": null,
   "metadata": {},
   "outputs": [],
   "source": []
  },
  {
   "cell_type": "markdown",
   "metadata": {},
   "source": [
    "### Check spin"
   ]
  },
  {
   "cell_type": "code",
   "execution_count": 58,
   "metadata": {},
   "outputs": [],
   "source": [
    "filename = r'/data/old_trap/20211001/bead1/spinning/check_spin/test_29kHz_1024_0.h5'\n",
    "f = h5py.File(filename,'r')\n",
    "\n",
    "dat = np.array(f['beads/data/high_speed_data'])\n",
    "\n",
    "fsamp_spin = 500000\n",
    "res_spin = 500000\n",
    "\n",
    "data=dat[0]\n",
    "data_det=signal.detrend(data)\n",
    "psd_spin, freqs_spin = matplotlib.mlab.psd(data_det, Fs = fsamp_spin, NFFT = res_spin)"
   ]
  },
  {
   "cell_type": "code",
   "execution_count": 59,
   "metadata": {},
   "outputs": [
    {
     "data": {
      "application/vnd.jupyter.widget-view+json": {
       "model_id": "ec612fd9e6e446f1bacd085e9bb06c25",
       "version_major": 2,
       "version_minor": 0
      },
      "text/plain": [
       "Canvas(toolbar=Toolbar(toolitems=[('Home', 'Reset original view', 'home', 'home'), ('Back', 'Back to previous …"
      ]
     },
     "metadata": {},
     "output_type": "display_data"
    }
   ],
   "source": [
    "_,ax = plt.subplots()\n",
    "ax.loglog(freqs_spin, np.sqrt(psd_spin), markersize=1,linewidth=0.5)\n",
    "ax.set_xlabel('Frequency [Hz]')\n",
    "ax.set_ylabel(r'ASD')\n",
    "plt.xlim(1e3,None)\n",
    "#plt.ylim(1e6,1e10)\n",
    "plt.grid(True)"
   ]
  },
  {
   "cell_type": "code",
   "execution_count": 54,
   "metadata": {},
   "outputs": [],
   "source": [
    "filename = r'/data/old_trap/20211001/bead1/spinning/check_spin/test_103kHz_2_0.h5'\n",
    "f = h5py.File(filename,'r')\n",
    "\n",
    "dat = np.array(f['beads/data/high_speed_data'])\n",
    "\n",
    "fsamp_spin = 500000\n",
    "res_spin = 5000\n",
    "data=dat[0]\n",
    "data_det=signal.detrend(data)\n",
    "psd_spin2, freqs_spin2 = matplotlib.mlab.psd(data_det, Fs = fsamp_spin, NFFT = res_spin)"
   ]
  },
  {
   "cell_type": "code",
   "execution_count": 55,
   "metadata": {},
   "outputs": [
    {
     "data": {
      "application/vnd.jupyter.widget-view+json": {
       "model_id": "3f7c82f7d05c403b8204c1202378d03f",
       "version_major": 2,
       "version_minor": 0
      },
      "text/plain": [
       "Canvas(toolbar=Toolbar(toolitems=[('Home', 'Reset original view', 'home', 'home'), ('Back', 'Back to previous …"
      ]
     },
     "metadata": {},
     "output_type": "display_data"
    }
   ],
   "source": [
    "_,ax = plt.subplots()\n",
    "ax.semilogy(freqs_spin, np.sqrt(psd_spin), markersize=1,linewidth=0.5)\n",
    "ax.semilogy(freqs_spin2, np.sqrt(psd_spin2), markersize=1,linewidth=0.5)\n",
    "ax.set_xlabel('Frequency [Hz]')\n",
    "ax.set_ylabel(r'ASD')\n",
    "# plt.xlim(50e3,None)\n",
    "#plt.ylim(1e6,1e10)\n",
    "plt.grid(True)"
   ]
  },
  {
   "cell_type": "code",
   "execution_count": null,
   "metadata": {},
   "outputs": [],
   "source": []
  },
  {
   "cell_type": "code",
   "execution_count": null,
   "metadata": {},
   "outputs": [],
   "source": []
  },
  {
   "cell_type": "code",
   "execution_count": null,
   "metadata": {},
   "outputs": [],
   "source": []
  }
 ],
 "metadata": {
  "kernelspec": {
   "display_name": "Python 3",
   "language": "python",
   "name": "python3"
  },
  "language_info": {
   "codemirror_mode": {
    "name": "ipython",
    "version": 3
   },
   "file_extension": ".py",
   "mimetype": "text/x-python",
   "name": "python",
   "nbconvert_exporter": "python",
   "pygments_lexer": "ipython3",
   "version": "3.6.9"
  }
 },
 "nbformat": 4,
 "nbformat_minor": 4
}
