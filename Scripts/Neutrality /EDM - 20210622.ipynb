{
 "cells": [
  {
   "cell_type": "code",
   "execution_count": 5,
   "metadata": {},
   "outputs": [],
   "source": [
    "import numpy as np\n",
    "import matplotlib.pyplot as plt\n",
    "import matplotlib\n",
    "from scipy import signal\n",
    "import random\n",
    "\n",
    "import h5py\n",
    "from IPython.utils import io\n",
    "\n",
    "from joblib import Parallel, delayed\n",
    "from tqdm import tqdm\n",
    "import sys"
   ]
  },
  {
   "cell_type": "code",
   "execution_count": 6,
   "metadata": {},
   "outputs": [],
   "source": [
    "%matplotlib widget\n",
    "\n",
    "%reload_ext autoreload\n",
    "%autoreload 2"
   ]
  },
  {
   "cell_type": "code",
   "execution_count": 7,
   "metadata": {},
   "outputs": [],
   "source": [
    "sys.path.append('../../../../nadavp/new_trap/Tools/')\n",
    "sys.path.append('../../../../nadavp/new_trap/Tools/StatFramework/')\n",
    "# sys.path.append('../../../../nadavp/opt_lev_analysis/lib/')\n",
    "import BeadDataFile\n",
    "from discharge_tools import *"
   ]
  },
  {
   "cell_type": "code",
   "execution_count": 8,
   "metadata": {},
   "outputs": [],
   "source": [
    "from likelihood_calculator import likelihood_analyser\n",
    "from likelihood_calculator import GravityFramework\n",
    "from likelihood_calculator import auxiliary_functions as aux\n",
    "gfw = GravityFramework.GravityFramework()"
   ]
  },
  {
   "cell_type": "code",
   "execution_count": 15,
   "metadata": {},
   "outputs": [
    {
     "name": "stdout",
     "output_type": "stream",
     "text": [
      "No height data\n",
      "No electrodes data\n",
      "No cantilever data\n",
      "No laser power data\n",
      "No height data\n",
      "No electrodes data\n",
      "No cantilever data\n",
      "No laser power data\n",
      "No height data\n",
      "No electrodes data\n",
      "No cantilever data\n",
      "No laser power data\n",
      "No height data\n",
      "No electrodes data\n",
      "No cantilever data\n",
      "No laser power data\n",
      "No height data\n",
      "No electrodes data\n",
      "No cantilever data\n",
      "No laser power data\n"
     ]
    }
   ],
   "source": [
    "edm_dir = r'/data/new_trap/20210622/bead1/edm_measurement/'\n",
    "voltage = [55, 65, 75, 85, 95]\n",
    "fname = 'edm_spin_46700_'+str(voltage)+'V.h5'\n",
    "fnames = ['edm_spin_46700_'+str(voltage_)+'V.h5' for voltage_ in voltage]\n",
    "edm_files = [BeadDataFile.BeadDataFile(edm_dir+fname_) for fname_ in fnames] "
   ]
  },
  {
   "cell_type": "code",
   "execution_count": 80,
   "metadata": {},
   "outputs": [],
   "source": [
    "fsamp = 5000\n",
    "res = 5000\n",
    "factor = 40\n",
    "freq_side_band = []\n",
    "for bb in edm_files:\n",
    "    spsd1, freqs1_s = matplotlib.mlab.psd(bb.spin_data[0], Fs = fsamp*factor, NFFT = res*factor)\n",
    "    ind_max = np.argmax(spsd1[20000:]) \n",
    "    ind_max2 = np.argmax(spsd1[20050+ind_max:20050+ind_max+50])\n",
    "    freq_side_band.append(freqs1_s[ind_max2+20050+ind_max]-freqs1_s[ind_max+20000])"
   ]
  },
  {
   "cell_type": "code",
   "execution_count": 81,
   "metadata": {},
   "outputs": [
    {
     "name": "stdout",
     "output_type": "stream",
     "text": [
      "51.0 55\n",
      "54.0 65\n",
      "64.0 75\n",
      "63.0 85\n",
      "71.0 95\n"
     ]
    }
   ],
   "source": [
    "_ = [print(freq_, voltage_) for freq_,voltage_ in zip(freq_side_band, voltage)]"
   ]
  },
  {
   "cell_type": "code",
   "execution_count": 82,
   "metadata": {},
   "outputs": [
    {
     "data": {
      "text/plain": [
       "(array([18.56196921, 17.60842648, 21.43606523, 18.32772495, 20.82761195]),\n",
       " 19.352359563136808,\n",
       " 1.498939258992453)"
      ]
     },
     "execution_count": 82,
     "metadata": {},
     "output_type": "execute_result"
    }
   ],
   "source": [
    "efiled = 2*np.array(voltage)/8e-4*0.61 #V/m\n",
    "I = 2/5*420e-15*(7.6e-6/2)**2 #kg m2\n",
    "omega_squared = (np.array(freq_side_band)*2*np.pi)**2 #rad/sec\n",
    "d = omega_squared*I/efiled\n",
    "d/1.6e-19/1e-6, np.mean(d/1.6e-19/1e-6), np.std(d/1.6e-19/1e-6) ## converted to e um"
   ]
  },
  {
   "cell_type": "code",
   "execution_count": 89,
   "metadata": {},
   "outputs": [
    {
     "data": {
      "application/vnd.jupyter.widget-view+json": {
       "model_id": "c02ee54e2bbd44bd89a5f1994f66d303",
       "version_major": 2,
       "version_minor": 0
      },
      "text/plain": [
       "Canvas(toolbar=Toolbar(toolitems=[('Home', 'Reset original view', 'home', 'home'), ('Back', 'Back to previous …"
      ]
     },
     "metadata": {},
     "output_type": "display_data"
    },
    {
     "data": {
      "text/plain": [
       "[(10.0, 30.0),\n",
       " Text(0, 0.5, 'EDM [$e \\\\mu m$]'),\n",
       " Text(0.5, 0, 'Rotation amplitude [V]')]"
      ]
     },
     "execution_count": 89,
     "metadata": {},
     "output_type": "execute_result"
    }
   ],
   "source": [
    "_,ax = plt.subplots()\n",
    "ax.scatter(voltage, d/1.6e-19/1e-6)\n",
    "ax.set(ylim=(10,30), ylabel=r'EDM [$e \\mu m$]', xlabel='Rotation amplitude [V]')"
   ]
  },
  {
   "cell_type": "code",
   "execution_count": 90,
   "metadata": {},
   "outputs": [
    {
     "data": {
      "application/vnd.jupyter.widget-view+json": {
       "model_id": "bd027f78b8c34bb195b42745362881a0",
       "version_major": 2,
       "version_minor": 0
      },
      "text/plain": [
       "Canvas(toolbar=Toolbar(toolitems=[('Home', 'Reset original view', 'home', 'home'), ('Back', 'Back to previous …"
      ]
     },
     "metadata": {},
     "output_type": "display_data"
    },
    {
     "data": {
      "text/plain": [
       "Text(0.5, 1.0, 'spin')"
      ]
     },
     "execution_count": 90,
     "metadata": {},
     "output_type": "execute_result"
    }
   ],
   "source": [
    "BDF = edm_files[-1]\n",
    "fsamp = 5000\n",
    "res = 5000\n",
    "factor = 40\n",
    "spsd1, freqs1_s = matplotlib.mlab.psd(BDF.spin_data[0], Fs = fsamp*factor, NFFT = res*factor)\n",
    "\n",
    "_,ax = plt.subplots()\n",
    "ax.semilogy(freqs1_s, np.sqrt(spsd1), '.-',markersize=2,linewidth=1)\n",
    "# ax.legend()\n",
    "ax.set_xlabel('Frequency [Hz]')\n",
    "ax.set_ylabel('ASD [a.u.]')\n",
    "ax.set_title('spin')\n",
    "# ax.set(xlim=(46000,47500), ylim=(1e-7,1e-3))"
   ]
  },
  {
   "cell_type": "code",
   "execution_count": null,
   "metadata": {},
   "outputs": [],
   "source": []
  },
  {
   "cell_type": "code",
   "execution_count": null,
   "metadata": {},
   "outputs": [],
   "source": []
  }
 ],
 "metadata": {
  "kernelspec": {
   "display_name": "Python 3",
   "language": "python",
   "name": "python3"
  },
  "language_info": {
   "codemirror_mode": {
    "name": "ipython",
    "version": 3
   },
   "file_extension": ".py",
   "mimetype": "text/x-python",
   "name": "python",
   "nbconvert_exporter": "python",
   "pygments_lexer": "ipython3",
   "version": "3.6.9"
  }
 },
 "nbformat": 4,
 "nbformat_minor": 4
}
