{
 "cells": [
  {
   "cell_type": "code",
   "execution_count": 1,
   "metadata": {},
   "outputs": [],
   "source": [
    "import numpy as np\n",
    "import matplotlib.pyplot as plt\n",
    "import sys, os\n",
    "from joblib import Parallel, delayed\n",
    "from tqdm import tqdm"
   ]
  },
  {
   "cell_type": "code",
   "execution_count": 2,
   "metadata": {},
   "outputs": [],
   "source": [
    "%matplotlib widget\n",
    "\n",
    "%reload_ext autoreload\n",
    "%autoreload 2"
   ]
  },
  {
   "cell_type": "code",
   "execution_count": 3,
   "metadata": {},
   "outputs": [],
   "source": [
    "import imageio as iio\n",
    "from skimage import filters\n",
    "from skimage.color import rgb2gray  # only needed for incorrectly saved images\n",
    "from skimage.measure import regionprops\n",
    "from skimage.registration import phase_cross_correlation as pcc\n",
    "from skimage.io import imread as imread"
   ]
  },
  {
   "cell_type": "code",
   "execution_count": null,
   "metadata": {},
   "outputs": [],
   "source": []
  },
  {
   "cell_type": "code",
   "execution_count": 131,
   "metadata": {},
   "outputs": [
    {
     "data": {
      "text/plain": [
       "2799"
      ]
     },
     "execution_count": 131,
     "metadata": {},
     "output_type": "execute_result"
    }
   ],
   "source": [
    "dirname = r'/data/old_trap/20210405/bead1/Height_pumpingdown/run2_fb1/'\n",
    "dirname = r'/data/old_trap/20210329/bead2/height_long/run1/'\n",
    "file_prefix = 'image_'\n",
    "## Load all filenames in directory\n",
    "## Load all filenames in directory\n",
    "files = []\n",
    "[files.append(file_) for file_ in os.listdir(dirname) if file_.startswith(file_prefix) if file_.endswith('.bmp')]\n",
    "files.sort(key=lambda ff: int(os.path.splitext(ff)[0].split('_')[-1])) ## sort by index\n",
    "zeroth_image=imread(os.path.join(dirname+files[0]), as_gray=True)\n",
    "len(files)"
   ]
  },
  {
   "cell_type": "code",
   "execution_count": 115,
   "metadata": {},
   "outputs": [],
   "source": [
    "# Y1 = []\n",
    "height_run1 = []\n",
    "for ff_ in files:\n",
    "    image = imread(os.path.join(dirname+ff_), as_gray=True)\n",
    "    shift,_,_ = pcc(zeroth_image,image,upsample_factor=100)    \n",
    "    height_run1.append(shift[0])"
   ]
  },
  {
   "cell_type": "code",
   "execution_count": 136,
   "metadata": {},
   "outputs": [],
   "source": [
    "def get_height(i):\n",
    "    image = imread(os.path.join(dirname+files[i]), as_gray=True)\n",
    "    shift,_,_ = pcc(zeroth_image,image,upsample_factor=1000)    \n",
    "    return shift[0]"
   ]
  },
  {
   "cell_type": "code",
   "execution_count": 137,
   "metadata": {
    "scrolled": true
   },
   "outputs": [
    {
     "name": "stderr",
     "output_type": "stream",
     "text": [
      "\n",
      "  0%|          | 0/2799 [00:00<?, ?it/s]\u001b[A\n",
      "  1%|▏         | 40/2799 [00:00<00:45, 60.34it/s]\u001b[A\n",
      "  3%|▎         | 80/2799 [00:01<00:54, 49.48it/s]\u001b[A\n",
      "  4%|▍         | 120/2799 [00:04<01:28, 30.22it/s]\u001b[A\n",
      "  6%|▌         | 160/2799 [00:05<01:31, 28.87it/s]\u001b[A\n",
      "  7%|▋         | 200/2799 [00:07<01:37, 26.63it/s]\u001b[A\n",
      "  9%|▊         | 240/2799 [00:09<01:35, 26.69it/s]\u001b[A\n",
      " 10%|█         | 280/2799 [00:10<01:35, 26.38it/s]\u001b[A\n",
      " 11%|█▏        | 320/2799 [00:12<01:34, 26.32it/s]\u001b[A\n",
      " 13%|█▎        | 360/2799 [00:13<01:31, 26.67it/s]\u001b[A\n",
      " 14%|█▍        | 400/2799 [00:15<01:32, 25.93it/s]\u001b[A\n",
      " 16%|█▌        | 440/2799 [00:16<01:30, 26.17it/s]\u001b[A\n",
      " 17%|█▋        | 480/2799 [00:18<01:31, 25.42it/s]\u001b[A\n",
      " 19%|█▊        | 520/2799 [00:20<01:28, 25.73it/s]\u001b[A\n",
      " 20%|██        | 560/2799 [00:21<01:27, 25.45it/s]\u001b[A\n",
      " 21%|██▏       | 600/2799 [00:23<01:25, 25.80it/s]\u001b[A\n",
      " 23%|██▎       | 640/2799 [00:24<01:23, 25.91it/s]\u001b[A\n",
      " 24%|██▍       | 680/2799 [00:26<01:22, 25.73it/s]\u001b[A\n",
      " 26%|██▌       | 720/2799 [00:27<01:18, 26.58it/s]\u001b[A\n",
      " 27%|██▋       | 760/2799 [00:29<01:19, 25.55it/s]\u001b[A\n",
      " 29%|██▊       | 800/2799 [00:30<01:17, 25.85it/s]\u001b[A\n",
      " 30%|███       | 840/2799 [00:32<01:15, 26.09it/s]\u001b[A\n",
      " 31%|███▏      | 880/2799 [00:34<01:16, 25.07it/s]\u001b[A\n",
      " 33%|███▎      | 920/2799 [00:35<01:14, 25.19it/s]\u001b[A\n",
      " 34%|███▍      | 960/2799 [00:37<01:11, 25.59it/s]\u001b[A\n",
      " 36%|███▌      | 1000/2799 [00:38<01:10, 25.57it/s]\u001b[A\n",
      " 37%|███▋      | 1040/2799 [00:40<01:07, 25.98it/s]\u001b[A\n",
      " 39%|███▊      | 1080/2799 [00:41<01:06, 25.77it/s]\u001b[A\n",
      " 40%|████      | 1120/2799 [00:43<01:04, 26.15it/s]\u001b[A\n",
      " 41%|████▏     | 1160/2799 [00:44<01:03, 25.77it/s]\u001b[A\n",
      " 43%|████▎     | 1200/2799 [00:46<01:01, 26.08it/s]\u001b[A\n",
      " 44%|████▍     | 1240/2799 [00:48<01:01, 25.43it/s]\u001b[A\n",
      " 46%|████▌     | 1280/2799 [00:49<00:58, 25.96it/s]\u001b[A\n",
      " 47%|████▋     | 1320/2799 [00:50<00:56, 26.11it/s]\u001b[A\n",
      " 49%|████▊     | 1360/2799 [00:52<00:55, 26.00it/s]\u001b[A\n",
      " 50%|█████     | 1400/2799 [00:54<00:53, 25.98it/s]\u001b[A\n",
      " 51%|█████▏    | 1440/2799 [00:55<00:53, 25.35it/s]\u001b[A\n",
      " 53%|█████▎    | 1480/2799 [00:57<00:51, 25.38it/s]\u001b[A\n",
      " 54%|█████▍    | 1520/2799 [00:58<00:50, 25.32it/s]\u001b[A\n",
      " 56%|█████▌    | 1560/2799 [01:00<00:48, 25.41it/s]\u001b[A\n",
      " 57%|█████▋    | 1600/2799 [01:02<00:48, 24.95it/s]\u001b[A\n",
      " 59%|█████▊    | 1640/2799 [01:03<00:46, 25.12it/s]\u001b[A\n",
      " 60%|██████    | 1680/2799 [01:05<00:44, 25.33it/s]\u001b[A\n",
      " 61%|██████▏   | 1720/2799 [01:06<00:43, 25.00it/s]\u001b[A\n",
      " 63%|██████▎   | 1760/2799 [01:08<00:41, 25.11it/s]\u001b[A\n",
      " 64%|██████▍   | 1800/2799 [01:09<00:39, 25.57it/s]\u001b[A\n",
      " 66%|██████▌   | 1840/2799 [01:11<00:37, 25.80it/s]\u001b[A\n",
      " 67%|██████▋   | 1880/2799 [01:13<00:35, 25.72it/s]\u001b[A\n",
      " 69%|██████▊   | 1920/2799 [01:14<00:35, 24.47it/s]\u001b[A\n",
      " 70%|███████   | 1960/2799 [01:16<00:33, 24.86it/s]\u001b[A\n",
      " 71%|███████▏  | 2000/2799 [01:17<00:31, 25.67it/s]\u001b[A\n",
      " 73%|███████▎  | 2040/2799 [01:19<00:30, 24.94it/s]\u001b[A\n",
      " 74%|███████▍  | 2080/2799 [01:21<00:28, 24.99it/s]\u001b[A\n",
      " 76%|███████▌  | 2120/2799 [01:22<00:27, 25.04it/s]\u001b[A\n",
      " 77%|███████▋  | 2160/2799 [01:24<00:24, 25.64it/s]\u001b[A\n",
      " 79%|███████▊  | 2200/2799 [01:25<00:23, 25.32it/s]\u001b[A\n",
      " 80%|████████  | 2240/2799 [01:27<00:22, 25.04it/s]\u001b[A\n",
      " 81%|████████▏ | 2280/2799 [01:29<00:20, 25.50it/s]\u001b[A\n",
      " 83%|████████▎ | 2320/2799 [01:30<00:19, 25.16it/s]\u001b[A\n",
      " 84%|████████▍ | 2360/2799 [01:32<00:17, 25.18it/s]\u001b[A\n",
      " 86%|████████▌ | 2400/2799 [01:33<00:15, 25.38it/s]\u001b[A\n",
      " 87%|████████▋ | 2440/2799 [01:35<00:14, 24.52it/s]\u001b[A\n",
      " 89%|████████▊ | 2480/2799 [01:37<00:12, 24.82it/s]\u001b[A\n",
      " 90%|█████████ | 2520/2799 [01:38<00:11, 24.62it/s]\u001b[A\n",
      " 91%|█████████▏| 2560/2799 [01:40<00:09, 25.19it/s]\u001b[A\n",
      " 93%|█████████▎| 2600/2799 [01:41<00:07, 25.76it/s]\u001b[A\n",
      " 94%|█████████▍| 2640/2799 [01:43<00:06, 26.08it/s]\u001b[A\n",
      " 96%|█████████▌| 2680/2799 [01:45<00:04, 24.87it/s]\u001b[A\n",
      " 97%|█████████▋| 2720/2799 [01:46<00:03, 24.89it/s]\u001b[A\n",
      " 99%|█████████▊| 2760/2799 [01:48<00:01, 24.74it/s]\u001b[A\n",
      "100%|██████████| 2799/2799 [01:48<00:00, 25.85it/s]\u001b[A"
     ]
    }
   ],
   "source": [
    "height_run1_3 = np.array(Parallel(n_jobs=40)(delayed(get_height)(i) for i in tqdm(range(0, 2799))))"
   ]
  },
  {
   "cell_type": "code",
   "execution_count": 130,
   "metadata": {},
   "outputs": [
    {
     "data": {
      "application/vnd.jupyter.widget-view+json": {
       "model_id": "087bf48a525446eeabfb937290a4930f",
       "version_major": 2,
       "version_minor": 0
      },
      "text/plain": [
       "Canvas(toolbar=Toolbar(toolitems=[('Home', 'Reset original view', 'home', 'home'), ('Back', 'Back to previous …"
      ]
     },
     "metadata": {},
     "output_type": "display_data"
    },
    {
     "data": {
      "text/plain": [
       "[(-0.2, 0.2)]"
      ]
     },
     "execution_count": 130,
     "metadata": {},
     "output_type": "execute_result"
    }
   ],
   "source": [
    "_, ax = plt.subplots()\n",
    "ax.plot(range(len(height_run1)), height_run1-np.mean(height_run1), '.-')\n",
    "ax.plot(range(len(height_run2)), height_run2-np.mean(height_run2), '.-')\n",
    "ax.plot(range(len(height_run3)), height_run3-np.mean(height_run3), '.-')\n",
    "ax.plot(range(len(height_run4)), height_run4-np.mean(height_run4), '.-')\n",
    "ax.set(ylim=(-0.2,0.2))\n",
    "# ax.plot(range(len(Y2)), Y2-np.mean(Y2), '.-')\n",
    "# ax.plot(range(len(Y1)), Y1-np.mean(Y1), '.-')"
   ]
  },
  {
   "cell_type": "code",
   "execution_count": 144,
   "metadata": {},
   "outputs": [],
   "source": [
    "height_run1_4 = [np.mean(height_run1_3[i:i+10]) for i in range(len(height_run1_3))]\n",
    "height_run1_5 = [np.mean(height_run1_3[i:i+20]) for i in range(len(height_run1_3))]"
   ]
  },
  {
   "cell_type": "code",
   "execution_count": 145,
   "metadata": {},
   "outputs": [
    {
     "data": {
      "application/vnd.jupyter.widget-view+json": {
       "model_id": "d3918e79b2624c99b2847a2bbd84cc43",
       "version_major": 2,
       "version_minor": 0
      },
      "text/plain": [
       "Canvas(toolbar=Toolbar(toolitems=[('Home', 'Reset original view', 'home', 'home'), ('Back', 'Back to previous …"
      ]
     },
     "metadata": {},
     "output_type": "display_data"
    },
    {
     "data": {
      "text/plain": [
       "[(-0.2, 0.2)]"
      ]
     },
     "execution_count": 145,
     "metadata": {},
     "output_type": "execute_result"
    }
   ],
   "source": [
    "_, ax = plt.subplots()\n",
    "# ax.plot(range(len(height_run1)), height_run1-np.mean(height_run1), '.-')\n",
    "# ax.plot(range(len(height_run1_2)), height_run1_2-np.mean(height_run1_2), '.-')\n",
    "ax.plot(range(len(height_run1_3)), height_run1_3-np.mean(height_run1_3), '.-')\n",
    "ax.plot(range(len(height_run1_4)), height_run1_4-np.mean(height_run1_4), '.-')\n",
    "ax.plot(range(len(height_run1_5)), height_run1_5-np.mean(height_run1_5), '.-')\n",
    "ax.set(ylim=(-0.2,0.2))"
   ]
  },
  {
   "cell_type": "markdown",
   "metadata": {},
   "source": [
    "### Heigth log"
   ]
  },
  {
   "cell_type": "code",
   "execution_count": 31,
   "metadata": {},
   "outputs": [],
   "source": [
    "filename = r'/data/old_trap/20210405/bead1/neutrality/height/w_height_fb_50V_41_Hz_x/height_log.txt'\n",
    "filename = r'/data/old_trap/20210405/bead1/Height_pumpingdown/test13/height_log.txt'\n",
    "filename = r'/data/old_trap/20210405/bead1/neutrality/height/w_height_fb_50V_41_Hz_x_smaller_counts_per_update/height_log.txt'\n",
    "filename = r'/data/old_trap/20210429/bead1/height/overnight_20210504_1/height_log.txt'\n",
    "# filename = r'/data/old_trap/20210405/bead1/neutrality/height/w_height_fb_50V_41_Hz_x/height_log.txt'\n",
    "heights_log = np.genfromtxt(filename,delimiter='\\t')"
   ]
  },
  {
   "cell_type": "code",
   "execution_count": 33,
   "metadata": {},
   "outputs": [
    {
     "name": "stdout",
     "output_type": "stream",
     "text": [
      "05/06/2021, 01:23:30\n"
     ]
    }
   ],
   "source": [
    "from dateutil.relativedelta import relativedelta\n",
    "from datetime import datetime\n",
    "\n",
    "timestamp = 3640111724.4817362\n",
    "times = heights_log[1]\n",
    "date = datetime.fromtimestamp(times[-1])\n",
    "date = date - relativedelta(years=66)\n",
    "print(date.strftime(\"%m/%d/%Y, %H:%M:%S\"))"
   ]
  },
  {
   "cell_type": "code",
   "execution_count": 37,
   "metadata": {},
   "outputs": [
    {
     "data": {
      "application/vnd.jupyter.widget-view+json": {
       "model_id": "b7c7fbbe402348ec905074609fe671e2",
       "version_major": 2,
       "version_minor": 0
      },
      "text/plain": [
       "Canvas(toolbar=Toolbar(toolitems=[('Home', 'Reset original view', 'home', 'home'), ('Back', 'Back to previous …"
      ]
     },
     "metadata": {},
     "output_type": "display_data"
    },
    {
     "data": {
      "text/plain": [
       "[<matplotlib.lines.Line2D at 0x7f68293d69b0>]"
      ]
     },
     "execution_count": 37,
     "metadata": {},
     "output_type": "execute_result"
    }
   ],
   "source": [
    "_,ax = plt.subplots(figsize=(9.5,4))\n",
    "ax.plot(times-times[0], heights_log[0], '.-')\n",
    "# ax.plot(range(len(heights_log2)), heights_log2, '.-')\n",
    "# ax.set(ylim=(-0.4,0.1))"
   ]
  },
  {
   "cell_type": "code",
   "execution_count": 183,
   "metadata": {},
   "outputs": [
    {
     "data": {
      "application/vnd.jupyter.widget-view+json": {
       "model_id": "895cd614e66b45798c3d81366a64b635",
       "version_major": 2,
       "version_minor": 0
      },
      "text/plain": [
       "Canvas(toolbar=Toolbar(toolitems=[('Home', 'Reset original view', 'home', 'home'), ('Back', 'Back to previous …"
      ]
     },
     "metadata": {},
     "output_type": "display_data"
    },
    {
     "data": {
      "text/plain": [
       "<matplotlib.legend.Legend at 0x7f75b6b86a90>"
      ]
     },
     "execution_count": 183,
     "metadata": {},
     "output_type": "execute_result"
    }
   ],
   "source": [
    "_,ax = plt.subplots(figsize=(9.5,4))\n",
    "ax.plot(range(len(heights_log)), heights_log, '.-', label='neutrality run')\n",
    "ax.set(ylim=(-0.3,0.3))\n",
    "ax.legend()"
   ]
  },
  {
   "cell_type": "code",
   "execution_count": 169,
   "metadata": {},
   "outputs": [
    {
     "data": {
      "application/vnd.jupyter.widget-view+json": {
       "model_id": "1154a27278114f4f8261b214479c3649",
       "version_major": 2,
       "version_minor": 0
      },
      "text/plain": [
       "Canvas(toolbar=Toolbar(toolitems=[('Home', 'Reset original view', 'home', 'home'), ('Back', 'Back to previous …"
      ]
     },
     "metadata": {},
     "output_type": "display_data"
    }
   ],
   "source": [
    "_,ax = plt.subplots()\n",
    "_ = ax.hist(heights_log[:1000], bins=50)"
   ]
  },
  {
   "cell_type": "code",
   "execution_count": null,
   "metadata": {},
   "outputs": [],
   "source": []
  },
  {
   "cell_type": "code",
   "execution_count": null,
   "metadata": {},
   "outputs": [],
   "source": []
  }
 ],
 "metadata": {
  "kernelspec": {
   "display_name": "Python 2",
   "language": "python",
   "name": "python2"
  },
  "language_info": {
   "codemirror_mode": {
    "name": "ipython",
    "version": 3
   },
   "file_extension": ".py",
   "mimetype": "text/x-python",
   "name": "python",
   "nbconvert_exporter": "python",
   "pygments_lexer": "ipython3",
   "version": "3.6.9"
  }
 },
 "nbformat": 4,
 "nbformat_minor": 4
}
