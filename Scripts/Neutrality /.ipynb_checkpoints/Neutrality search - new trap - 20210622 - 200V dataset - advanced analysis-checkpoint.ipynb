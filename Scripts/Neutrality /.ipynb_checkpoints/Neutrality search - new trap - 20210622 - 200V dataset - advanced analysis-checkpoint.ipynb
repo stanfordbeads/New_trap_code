{
 "cells": [
  {
   "cell_type": "code",
   "execution_count": 1,
   "metadata": {},
   "outputs": [],
   "source": [
    "%run /home/analysis_user/New_trap_code/Tools/basic_packages.py\n",
    "\n",
    "\n",
    "# plt.rcParams[\"figure.figsize\"] = (24,16)\n",
    "# plt.rcParams[\"font.size\"] = 24\n",
    "# plt.rcParams['xtick.labelsize'] = \"small\"\n",
    "# plt.rcParams['ytick.labelsize'] = 36"
   ]
  },
  {
   "cell_type": "code",
   "execution_count": 2,
   "metadata": {},
   "outputs": [],
   "source": [
    "%matplotlib widget\n",
    "#%reload_ext autoreload\n",
    "#%autoreload 2"
   ]
  },
  {
   "cell_type": "markdown",
   "metadata": {},
   "source": [
    "### Discharge data"
   ]
  },
  {
   "cell_type": "code",
   "execution_count": 3,
   "metadata": {},
   "outputs": [],
   "source": [
    "ll = likelihood_analyser.LikelihoodAnalyser()\n",
    "bandwidth = 2\n",
    "decimate = 10\n",
    "drive_freq = 71\n",
    "fsamp = 5000\n",
    "def func1_scale(i):\n",
    "    bb = step_cal_files[i]\n",
    "        \n",
    "    freq2 = np.fft.rfftfreq(len(bb.electrode_data[0]), d=1./5000)\n",
    "    fft_angles = np.angle(np.fft.rfft(bb.electrode_data[0]))\n",
    "    phi_tmp2 = (fft_angles[freq2==drive_freq]+np.pi/2)%(2*np.pi)\n",
    "    print(phi_tmp2,np.std(bb.electrode_data[0])*np.sqrt(2))\n",
    "\n",
    "    fit_kwargs = {'A': 0, 'f': drive_freq, 'phi': phi_tmp2, \n",
    "                  'error_A': 1, 'error_f': 1, 'error_phi': 0.5, 'errordef': 1,\n",
    "                  'limit_phi': [-2 * np.pi, 2 * np.pi], \n",
    "                  'limit_A': [-1, 1], \n",
    "                  'print_level': 0, 'fix_f': True, 'fix_phi': True}\n",
    "\n",
    "    frequency = fit_kwargs['f']\n",
    "\n",
    "    b, a = signal.butter(3, [2.*(drive_freq-bandwidth/2.)/fsamp, 2.*(drive_freq+bandwidth/2.)/fsamp ], btype = 'bandpass')\n",
    "    xx2 = signal.filtfilt(b, a, bb.x2)[::decimate]\n",
    "    \n",
    "    m1_tmp = ll.find_mle_sin(xx2, fsamp=5000/decimate, noise_rms=1, plot=False, suppress_print=True, **fit_kwargs)\n",
    "    \n",
    "    return m1_tmp.values[0]"
   ]
  },
  {
   "cell_type": "code",
   "execution_count": 4,
   "metadata": {},
   "outputs": [
    {
     "name": "stderr",
     "output_type": "stream",
     "text": [
      "100%|██████████| 280/280 [00:07<00:00, 37.55it/s]"
     ]
    },
    {
     "name": "stdout",
     "output_type": "stream",
     "text": [
      "580  files in folder\n",
      "280  files loaded\n"
     ]
    },
    {
     "name": "stderr",
     "output_type": "stream",
     "text": [
      "\n"
     ]
    }
   ],
   "source": [
    "step_cal_dir = r'/data/new_trap/20210622/bead1/Discharge/FineDischarge/'\n",
    "step_cal_files = load_dir(step_cal_dir, start_file=300)"
   ]
  },
  {
   "cell_type": "code",
   "execution_count": 5,
   "metadata": {},
   "outputs": [
    {
     "name": "stdout",
     "output_type": "stream",
     "text": [
      "0 / 280\n",
      "[0.08190331] 9.996283880412916\n",
      "1 / 280\n",
      "[0.08190909] 9.996281304225382\n",
      "2 / 280\n",
      "[0.08189878] 9.996281537733502\n",
      "3 / 280\n",
      "[0.08188683] 9.996288002004473\n",
      "4 / 280\n",
      "[0.08188301] 9.996283855239406\n",
      "5 / 280\n",
      "[0.0818812] 9.996280896041402\n",
      "6 / 280\n",
      "[0.08188132] 9.996280781109695\n",
      "7 / 280\n",
      "[0.08187602] 9.996281466488083\n",
      "8 / 280\n",
      "[0.08187166] 9.996283836062767\n",
      "9 / 280\n",
      "[0.08186824] 9.99628049649982\n",
      "10 / 280\n",
      "[0.08185259] 9.99628122742368\n",
      "11 / 280\n",
      "[0.08184229] 9.996278292760515\n",
      "12 / 280\n",
      "[0.08184375] 9.9962872679154\n",
      "13 / 280\n",
      "[0.08185011] 9.996282311106809\n",
      "14 / 280\n",
      "[0.08185688] 9.996282232848417\n",
      "15 / 280\n",
      "[0.08187448] 9.99628608262862\n",
      "16 / 280\n",
      "[0.0818733] 9.996285608676523\n",
      "17 / 280\n",
      "[0.08187297] 9.996284865507036\n",
      "18 / 280\n",
      "[0.08186803] 9.996282915362116\n",
      "19 / 280\n",
      "[0.08185791] 9.996282562713075\n",
      "20 / 280\n",
      "[0.08185112] 9.996280282430336\n",
      "21 / 280\n",
      "[0.08186028] 9.996284879184568\n",
      "22 / 280\n",
      "[0.08187175] 9.99628085579499\n",
      "23 / 280\n",
      "[0.08186014] 9.996283020975962\n",
      "24 / 280\n",
      "[0.08186719] 9.996287090219038\n",
      "25 / 280\n",
      "[0.08187277] 9.996287771294499\n",
      "26 / 280\n",
      "[0.08186604] 9.996286295287511\n",
      "27 / 280\n",
      "[0.08187112] 9.99628571998517\n",
      "28 / 280\n",
      "[0.08187512] 9.996282222081781\n",
      "29 / 280\n",
      "[0.08188221] 9.996286036575956\n",
      "30 / 280\n",
      "[0.08186483] 9.996283785684005\n",
      "31 / 280\n",
      "[0.08187266] 9.996285135448183\n",
      "32 / 280\n",
      "[0.08187324] 9.996282538537606\n",
      "33 / 280\n",
      "[0.08188874] 9.996283534744427\n",
      "34 / 280\n",
      "[0.08188896] 9.99628661317381\n",
      "35 / 280\n",
      "[0.0818828] 9.996282623309314\n",
      "36 / 280\n",
      "[0.08188617] 9.996279438516304\n",
      "37 / 280\n",
      "[0.08188613] 9.996284976718998\n",
      "38 / 280\n",
      "[0.08187291] 9.996283149110333\n",
      "39 / 280\n",
      "[0.08188045] 9.996287143113223\n",
      "40 / 280\n",
      "[0.081876] 9.996282793572396\n",
      "41 / 280\n",
      "[0.0818867] 9.996286453276122\n",
      "42 / 280\n",
      "[0.0818874] 9.996281230905474\n",
      "43 / 280\n",
      "[0.08188329] 9.996281545328074\n",
      "44 / 280\n",
      "[0.08189233] 9.996287504481067\n",
      "45 / 280\n",
      "[0.08191878] 9.996284903912137\n",
      "46 / 280\n",
      "[0.08190562] 9.996281723633048\n",
      "47 / 280\n",
      "[0.08190662] 9.99628253468578\n",
      "48 / 280\n",
      "[0.08190671] 9.996283624141688\n",
      "49 / 280\n",
      "[0.08188348] 9.996282530522075\n",
      "50 / 280\n",
      "[0.08189417] 9.996288106279072\n",
      "51 / 280\n",
      "[0.08188794] 9.996287016605185\n",
      "52 / 280\n",
      "[0.08188155] 9.996286467334345\n",
      "53 / 280\n",
      "[0.08188264] 9.996287037133602\n",
      "54 / 280\n",
      "[0.08188203] 9.996281746141294\n",
      "55 / 280\n",
      "[0.08188924] 9.99628479204595\n",
      "56 / 280\n",
      "[0.08190317] 9.996283733985829\n",
      "57 / 280\n",
      "[0.0819012] 9.996283437989296\n",
      "58 / 280\n",
      "[0.08190243] 9.996285997370904\n",
      "59 / 280\n",
      "[0.08188907] 9.996280475513016\n",
      "60 / 280\n",
      "[0.08188828] 9.996286482294819\n",
      "61 / 280\n",
      "[0.08188144] 9.996282308815191\n",
      "62 / 280\n",
      "[0.08189047] 9.996281889186278\n",
      "63 / 280\n",
      "[0.08188251] 9.996288614980553\n",
      "64 / 280\n",
      "[0.08189575] 9.99628202845845\n",
      "65 / 280\n",
      "[0.08189531] 9.996285327881179\n",
      "66 / 280\n",
      "[0.08190254] 9.99628578450946\n",
      "67 / 280\n",
      "[0.0819144] 9.99628441424409\n",
      "68 / 280\n",
      "[0.08192446] 9.996287298602185\n",
      "69 / 280\n",
      "[0.08190726] 9.996286361261797\n",
      "70 / 280\n",
      "[0.08185406] 9.996283889755825\n",
      "71 / 280\n",
      "[0.0818728] 9.996285466722458\n",
      "72 / 280\n",
      "[0.08186624] 9.9962797364293\n",
      "73 / 280\n",
      "[0.08189195] 9.996278470350687\n",
      "74 / 280\n",
      "[0.08188707] 9.99628075181612\n",
      "75 / 280\n",
      "[0.08189508] 9.996278561974156\n",
      "76 / 280\n",
      "[0.0818909] 9.996278257511896\n",
      "77 / 280\n",
      "[0.08187893] 9.996276419968765\n",
      "78 / 280\n",
      "[0.08188869] 9.996278461415807\n",
      "79 / 280\n",
      "[0.08188584] 9.996284198064156\n",
      "80 / 280\n",
      "[0.08187654] 9.996278223771867\n",
      "81 / 280\n",
      "[0.0818905] 9.996281928049878\n",
      "82 / 280\n",
      "[0.08190597] 9.996277190372995\n",
      "83 / 280\n",
      "[0.08188704] 9.99627981955461\n",
      "84 / 280\n",
      "[0.08188002] 9.99628345393787\n",
      "85 / 280\n",
      "[0.08187844] 9.996282321060157\n",
      "86 / 280\n",
      "[0.08186647] 9.996283324130793\n",
      "87 / 280\n",
      "[0.08186399] 9.996278073635674\n",
      "88 / 280\n",
      "[0.08186168] 9.996280722334928\n",
      "89 / 280\n",
      "[0.08185956] 9.99628206506365\n",
      "90 / 280\n",
      "[0.08185517] 9.996281068141522\n",
      "91 / 280\n",
      "[0.08183971] 9.996282391301587\n",
      "92 / 280\n",
      "[0.0818585] 9.996278937849079\n",
      "93 / 280\n",
      "[0.08187357] 9.996279859195631\n",
      "94 / 280\n",
      "[0.0818791] 9.996278184784389\n",
      "95 / 280\n",
      "[0.08187249] 9.996281700172023\n",
      "96 / 280\n",
      "[0.08187275] 9.996276422304986\n",
      "97 / 280\n",
      "[0.0818696] 9.99628235263038\n",
      "98 / 280\n",
      "[0.08186263] 9.996277415121225\n",
      "99 / 280\n",
      "[0.0818892] 9.996279214313992\n",
      "100 / 280\n",
      "[0.08188124] 9.996280757358052\n",
      "101 / 280\n",
      "[0.08188345] 9.996282003686092\n",
      "102 / 280\n",
      "[0.08186667] 9.996277162074987\n",
      "103 / 280\n",
      "[0.08186445] 9.996283949786635\n",
      "104 / 280\n",
      "[0.08187875] 9.996278943243805\n",
      "105 / 280\n",
      "[0.08188867] 9.99628321408346\n",
      "106 / 280\n",
      "[0.081877] 9.99628011076282\n",
      "107 / 280\n",
      "[0.0818814] 9.996282821965925\n",
      "108 / 280\n",
      "[0.08188871] 9.99627947378619\n",
      "109 / 280\n",
      "[0.08187971] 9.996282234680718\n",
      "110 / 280\n",
      "[0.08189091] 9.996280407275231\n",
      "111 / 280\n",
      "[0.0818851] 9.996278264639365\n",
      "112 / 280\n",
      "[0.08185854] 9.996275522066641\n",
      "113 / 280\n",
      "[0.08185135] 9.996277331748626\n",
      "114 / 280\n",
      "[0.08185012] 9.996276085265144\n",
      "115 / 280\n",
      "[0.08184079] 9.996281192950867\n",
      "116 / 280\n",
      "[0.08184897] 9.996276248872299\n",
      "117 / 280\n",
      "[0.08182852] 9.996281603711738\n",
      "118 / 280\n",
      "[0.08184646] 9.996276293629808\n",
      "119 / 280\n",
      "[0.08183902] 9.996280916815556\n",
      "120 / 280\n",
      "[0.08184165] 9.99628237277278\n",
      "121 / 280\n",
      "[0.08183607] 9.996279098572995\n",
      "122 / 280\n",
      "[0.08183187] 9.996276133002116\n",
      "123 / 280\n",
      "[0.08183457] 9.996277820480206\n",
      "124 / 280\n",
      "[0.0818225] 9.99628004500853\n",
      "125 / 280\n",
      "[0.08184385] 9.996278847580474\n",
      "126 / 280\n",
      "[0.08182979] 9.99627825690224\n",
      "127 / 280\n",
      "[0.08182928] 9.99627818699056\n",
      "128 / 280\n",
      "[0.08184321] 9.996279195474942\n",
      "129 / 280\n",
      "[0.08184733] 9.996280408965342\n",
      "130 / 280\n",
      "[0.08184625] 9.996279509434252\n",
      "131 / 280\n",
      "[0.08185862] 9.996279837293486\n",
      "132 / 280\n",
      "[0.08185317] 9.996283340948718\n",
      "133 / 280\n",
      "[0.08186083] 9.99628320858802\n",
      "134 / 280\n",
      "[0.08186616] 9.996284751760436\n",
      "135 / 280\n",
      "[0.08186219] 9.996285361366846\n",
      "136 / 280\n",
      "[0.08186459] 9.996281798655227\n",
      "137 / 280\n",
      "[0.08186226] 9.99628020721691\n",
      "138 / 280\n",
      "[0.0818755] 9.996281210866414\n",
      "139 / 280\n",
      "[0.08186757] 9.996279518980337\n",
      "140 / 280\n",
      "[0.08186272] 9.996281076053299\n",
      "141 / 280\n",
      "[0.08184513] 9.996280640374321\n",
      "142 / 280\n",
      "[0.08184306] 9.996284621157873\n",
      "143 / 280\n",
      "[0.08185336] 9.996281952628399\n",
      "144 / 280\n",
      "[0.08184243] 9.996284089027673\n",
      "145 / 280\n",
      "[0.08185296] 9.99627999556821\n",
      "146 / 280\n",
      "[0.08185652] 9.996278837887449\n",
      "147 / 280\n",
      "[0.08185453] 9.996281892101157\n",
      "148 / 280\n",
      "[0.08184351] 9.996277040242049\n",
      "149 / 280\n",
      "[0.08185451] 9.99628170068427\n",
      "150 / 280\n",
      "[0.08184877] 9.996276995646395\n",
      "151 / 280\n",
      "[0.08184001] 9.9962842986577\n",
      "152 / 280\n",
      "[0.08182805] 9.996278798709415\n",
      "153 / 280\n",
      "[0.08184983] 9.996277863840573\n",
      "154 / 280\n",
      "[0.08184833] 9.996280937343705\n",
      "155 / 280\n",
      "[0.08186745] 9.99628051493799\n",
      "156 / 280\n",
      "[0.08186083] 9.996283894517536\n",
      "157 / 280\n",
      "[0.0818686] 9.996281967184345\n",
      "158 / 280\n",
      "[0.08185006] 9.996283967702656\n",
      "159 / 280\n",
      "[0.08186204] 9.996279126556052\n",
      "160 / 280\n",
      "[0.08184428] 9.996279163145\n",
      "161 / 280\n",
      "[0.08183594] 9.996281178656973\n",
      "162 / 280\n",
      "[0.08183232] 9.996277509907786\n",
      "163 / 280\n",
      "[0.0818416] 9.996280080618448\n",
      "164 / 280\n",
      "[0.08183505] 9.996282275406115\n",
      "165 / 280\n",
      "[0.08182993] 9.99627944335011\n",
      "166 / 280\n",
      "[0.08184753] 9.996281867418553\n",
      "167 / 280\n",
      "[0.08184877] 9.996280614515376\n",
      "168 / 280\n",
      "[0.08185021] 9.996281634592233\n",
      "169 / 280\n",
      "[0.08184074] 9.996279459159103\n",
      "170 / 280\n",
      "[0.08184065] 9.996284246273515\n",
      "171 / 280\n",
      "[0.08183942] 9.996279115761428\n",
      "172 / 280\n",
      "[0.08183161] 9.996280783389523\n",
      "173 / 280\n",
      "[0.08186342] 9.996281277085236\n",
      "174 / 280\n",
      "[0.08186376] 9.996281631802006\n",
      "175 / 280\n",
      "[0.08186316] 9.996284225875407\n",
      "176 / 280\n",
      "[0.08186106] 9.996282535824601\n",
      "177 / 280\n",
      "[0.08185157] 9.99628294071157\n",
      "178 / 280\n",
      "[0.08185173] 9.996281829640909\n",
      "179 / 280\n",
      "[0.08184909] 9.99628472451769\n",
      "180 / 280\n",
      "[0.08186834] 9.996281811162593\n",
      "181 / 280\n",
      "[0.08187584] 9.996284439304038\n",
      "182 / 280\n",
      "[0.08187814] 9.996277840266469\n",
      "183 / 280\n",
      "[0.0818905] 9.996282905698973\n",
      "184 / 280\n",
      "[0.08190005] 9.99628044568612\n",
      "185 / 280\n",
      "[0.0818919] 9.996278489075594\n",
      "186 / 280\n",
      "[0.0819019] 9.99627831750381\n",
      "187 / 280\n",
      "[0.08189927] 9.996280136045467\n",
      "188 / 280\n",
      "[0.08189556] 9.996286568396329\n",
      "189 / 280\n",
      "[0.0819039] 9.996285086618485\n",
      "190 / 280\n",
      "[0.08189864] 9.996281394994819\n",
      "191 / 280\n",
      "[0.08189515] 9.996282614089418\n",
      "192 / 280\n",
      "[0.08188833] 9.996281790957944\n",
      "193 / 280\n",
      "[0.08188502] 9.996279391796365\n",
      "194 / 280\n",
      "[0.08187351] 9.996280582360587\n",
      "195 / 280\n",
      "[0.08186911] 9.996281615228732\n",
      "196 / 280\n",
      "[0.08186632] 9.996278692549364\n",
      "197 / 280\n",
      "[0.08189046] 9.996278529577713\n",
      "198 / 280\n",
      "[0.08189275] 9.996284897701738\n",
      "199 / 280\n",
      "[0.08189091] 9.996280820477043\n",
      "200 / 280\n",
      "[0.08190257] 9.99627995658258\n",
      "201 / 280\n",
      "[0.08192002] 9.996285484383979\n",
      "202 / 280\n",
      "[0.08192167] 9.99628248265089\n",
      "203 / 280\n",
      "[0.08191134] 9.996281572805989\n",
      "204 / 280\n",
      "[0.08190602] 9.99627972168721\n",
      "205 / 280\n",
      "[0.0819037] 9.996285364134158\n",
      "206 / 280\n",
      "[0.0819198] 9.996282926699658\n",
      "207 / 280\n",
      "[0.08191724] 9.996286803289863\n",
      "208 / 280\n",
      "[0.08191292] 9.996282726737947\n",
      "209 / 280\n",
      "[0.08190771] 9.99627836823018\n",
      "210 / 280\n",
      "[0.08189533] 9.996286220251093\n",
      "211 / 280\n"
     ]
    },
    {
     "name": "stdout",
     "output_type": "stream",
     "text": [
      "[0.08189578] 9.996282530728573\n",
      "212 / 280\n",
      "[0.08189087] 9.996279481465574\n",
      "213 / 280\n",
      "[0.0818991] 9.996283213603508\n",
      "214 / 280\n",
      "[0.08190371] 9.996283979268693\n",
      "215 / 280\n",
      "[0.08190964] 9.996278217408733\n",
      "216 / 280\n",
      "[0.08190812] 9.996281835959412\n",
      "217 / 280\n",
      "[0.08189192] 9.996278896802057\n",
      "218 / 280\n",
      "[0.08189368] 9.996275926505898\n",
      "219 / 280\n",
      "[0.08190671] 9.996279128442351\n",
      "220 / 280\n",
      "[0.08179691] 9.99627468897426\n",
      "221 / 280\n",
      "[0.08182042] 9.99627516703645\n",
      "222 / 280\n",
      "[0.08180523] 9.99627521228304\n",
      "223 / 280\n",
      "[0.08181146] 9.99627824130788\n",
      "224 / 280\n",
      "[0.08183009] 9.996278267050043\n",
      "225 / 280\n",
      "[0.08180829] 9.996275926682001\n",
      "226 / 280\n",
      "[0.08182235] 9.996279022607434\n",
      "227 / 280\n",
      "[0.08182145] 9.996281920292775\n",
      "228 / 280\n",
      "[0.08182219] 9.99628283021442\n",
      "229 / 280\n",
      "[0.08184658] 9.996279959458805\n",
      "230 / 280\n",
      "[0.08186107] 9.996278940572699\n",
      "231 / 280\n",
      "[0.08185479] 9.996280217483479\n",
      "232 / 280\n",
      "[0.0818335] 9.996273964556677\n",
      "233 / 280\n",
      "[0.08184075] 9.99627808392072\n",
      "234 / 280\n",
      "[0.08184671] 9.996280048447549\n",
      "235 / 280\n",
      "[0.0818646] 9.996273892287004\n",
      "236 / 280\n",
      "[0.08186131] 9.99627225841259\n",
      "237 / 280\n",
      "[0.08186464] 9.996274749993654\n",
      "238 / 280\n",
      "[0.08185296] 9.996279345600184\n",
      "239 / 280\n",
      "[0.08185821] 9.996275024169892\n",
      "240 / 280\n",
      "[0.08184855] 9.996278502224236\n",
      "241 / 280\n",
      "[0.08185507] 9.996278979672544\n",
      "242 / 280\n",
      "[0.08185201] 9.99627740106271\n",
      "243 / 280\n",
      "[0.08184273] 9.996273789864007\n",
      "244 / 280\n",
      "[0.08184783] 9.996277740388383\n",
      "245 / 280\n",
      "[0.08183736] 9.996277814276638\n",
      "246 / 280\n",
      "[0.08185538] 9.996274428621367\n",
      "247 / 280\n",
      "[0.08187408] 9.996277465000135\n",
      "248 / 280\n",
      "[0.08187479] 9.996275548483137\n",
      "249 / 280\n",
      "[0.0818737] 9.996280115409455\n",
      "250 / 280\n",
      "[0.08187215] 9.996275690155784\n",
      "251 / 280\n",
      "[0.08186184] 9.996277456386446\n",
      "252 / 280\n",
      "[0.08186483] 9.996277028520074\n",
      "253 / 280\n",
      "[0.08186359] 9.996281525713078\n",
      "254 / 280\n",
      "[0.08186574] 9.996277598696485\n",
      "255 / 280\n",
      "[0.081838] 9.9962785358373\n",
      "256 / 280\n",
      "[0.08183818] 9.996278388411172\n",
      "257 / 280\n",
      "[0.08184993] 9.996276924626589\n",
      "258 / 280\n",
      "[0.08186144] 9.996278493655483\n",
      "259 / 280\n",
      "[0.08185618] 9.996281192552745\n",
      "260 / 280\n",
      "[0.08184723] 9.996277974201911\n",
      "261 / 280\n",
      "[0.08185695] 9.996278050669703\n",
      "262 / 280\n",
      "[0.08186443] 9.996278182260577\n",
      "263 / 280\n",
      "[0.08186284] 9.996276873713445\n",
      "264 / 280\n",
      "[0.08186013] 9.996278643832389\n",
      "265 / 280\n",
      "[0.08185132] 9.996277366304751\n",
      "266 / 280\n",
      "[0.08187603] 9.996277750538454\n",
      "267 / 280\n",
      "[0.08187941] 9.996281937861209\n",
      "268 / 280\n",
      "[0.08187157] 9.996277202155476\n",
      "269 / 280\n",
      "[0.08186321] 9.996275984648001\n",
      "270 / 280\n",
      "[0.08187628] 9.996276694342674\n",
      "271 / 280\n",
      "[0.08186575] 9.996280366210808\n",
      "272 / 280\n",
      "[0.08188236] 9.996279312544445\n",
      "273 / 280\n",
      "[0.08188218] 9.996274660395137\n",
      "274 / 280\n",
      "[0.08187709] 9.996278288571066\n",
      "275 / 280\n",
      "[0.08186483] 9.99627751198287\n",
      "276 / 280\n",
      "[0.08186659] 9.996281648139638\n",
      "277 / 280\n",
      "[0.08186921] 9.996281464063857\n",
      "278 / 280\n",
      "[0.08186196] 9.996283003370182\n",
      "279 / 280\n",
      "[0.08187315] 9.996282495738035\n"
     ]
    }
   ],
   "source": [
    "amps3 = []\n",
    "for i in range(len(step_cal_files)):\n",
    "    print(i,'/',len(step_cal_files))\n",
    "    amps3.append(func1_scale(i))"
   ]
  },
  {
   "cell_type": "code",
   "execution_count": 6,
   "metadata": {},
   "outputs": [
    {
     "name": "stdout",
     "output_type": "stream",
     "text": [
      "Scale is  -3.542952205750171e-05\n",
      "voltage:  9.996282495738035\n"
     ]
    }
   ],
   "source": [
    "scale = np.abs(np.mean(amps3[180:200]))\n",
    "scaleY = scale*-1.0502\n",
    "print(\"Scale is \", scaleY)\n",
    "bb = step_cal_files[-1]\n",
    "voltage = np.std(bb.electrode_data[0])*np.sqrt(2)\n",
    "print(\"voltage: \", voltage)"
   ]
  },
  {
   "cell_type": "code",
   "execution_count": 7,
   "metadata": {},
   "outputs": [
    {
     "data": {
      "application/vnd.jupyter.widget-view+json": {
       "model_id": "d3c9ab583daa4963873319d64e879f8b",
       "version_major": 2,
       "version_minor": 0
      },
      "text/plain": [
       "Canvas(toolbar=Toolbar(toolitems=[('Home', 'Reset original view', 'home', 'home'), ('Back', 'Back to previous …"
      ]
     },
     "metadata": {},
     "output_type": "display_data"
    }
   ],
   "source": [
    "# amps = np.array(amps)\n",
    "amps3 = np.array(amps3)\n",
    "_,ax = plt.subplots()\n",
    "# scale = 326.26\n",
    "\n",
    "# Perrinf\n",
    "ax.scatter(range(len(amps3)), amps3/scale, label='fit phase')\n",
    "# ax.scatter(range(len(amps3)), amps3/scale, label='fit fixed-phases')\n",
    "\n",
    "ax.set(xlabel='dataset', ylabel='Electron charges', ylim=(-1.2,6.5), xlim=(160,None))\n",
    "ax.grid(axis='y')\n",
    "ax.minorticks_on()\n",
    "ax.grid(which='major', linestyle='-', linewidth='0.5', color='red')\n",
    "ax.grid(which='minor', linestyle=':', linewidth='0.5', color='black')\n",
    "# ax.legend()\n",
    "from matplotlib.ticker import MaxNLocator\n",
    "ax.yaxis.set_major_locator(MaxNLocator(integer=True))"
   ]
  },
  {
   "cell_type": "code",
   "execution_count": 152,
   "metadata": {},
   "outputs": [],
   "source": [
    "ll = likelihood_analyser.LikelihoodAnalyser()\n",
    "bandwidth = 2\n",
    "decimate = 10\n",
    "drive_freq = 71\n",
    "phase_calib = -0.0563\n",
    "# phase_calib = -0.0442\n",
    "\n",
    "def get_amp(i):\n",
    "    \n",
    "    fname = r'/data/new_trap/20210830/Bead1/Neutrality/200V_100V_YZspin_98p98kHz_20210902/Discharge_'+str(i)+'.h5'\n",
    "    bb = BeadDataFile.BeadDataFile(fname=fname)\n",
    "\n",
    "\n",
    "    fit_kwargs = {'A': 0, 'f': drive_freq, 'phi': 0, \n",
    "                  'error_A': 1, 'error_f': 1, 'error_phi': 0.5, 'errordef': 1,\n",
    "                  'limit_phi': [-2 * np.pi, 2 * np.pi], \n",
    "                  'limit_A': [-1, 1], \n",
    "                  'print_level': 0, 'fix_f': True, 'fix_phi': True}\n",
    "\n",
    "    fit_kwargs = {'A': 0, 'f': drive_freq, 'phi': 0, 'sigma': 0.1,\n",
    "                  'error_A': 1, 'error_f': 1, 'error_phi': 0.5, 'errordef': 1, 'error_sigma':0.1,\n",
    "                  'limit_phi': [-2 * np.pi, 2 * np.pi], 'limit_sigma': [0, 1],\n",
    "                  'limit_A': [-100, 100], \n",
    "                  'print_level': 0, 'fix_f': True, 'fix_phi': True}\n",
    "\n",
    "    b, a = signal.butter(3, [2.*(drive_freq-bandwidth/2.)/fsamp, 2.*(drive_freq+bandwidth/2.)/fsamp ], btype = 'bandpass')\n",
    "    xx2 = signal.filtfilt(b, a, bb.x2)[::decimate]\n",
    "    \n",
    "    m1_tmp = ll.find_mle_sin(xx2, fsamp=5000/decimate, noise_rms=1, plot=False, suppress_print=True, **fit_kwargs)\n",
    "    \n",
    "    return m1_tmp.values[0], m1_tmp.values[3]"
   ]
  },
  {
   "cell_type": "code",
   "execution_count": 153,
   "metadata": {},
   "outputs": [
    {
     "data": {
      "text/plain": [
       "array([ -0.13196131, -15.65057528])"
      ]
     },
     "execution_count": 153,
     "metadata": {},
     "output_type": "execute_result"
    }
   ],
   "source": [
    "i=10\n",
    "get_amp(i)/scaleY"
   ]
  },
  {
   "cell_type": "code",
   "execution_count": 160,
   "metadata": {},
   "outputs": [
    {
     "name": "stdout",
     "output_type": "stream",
     "text": [
      "voltages, bias:  200.0415044870712 0.03907095035386525\n"
     ]
    }
   ],
   "source": [
    "i = 4\n",
    "fname = r'/data/new_trap/20210830/Bead1/Neutrality/200V_100V_YZspin_98p98kHz_20210902/Discharge_'+str(i)+'.h5'\n",
    "bb = BeadDataFile.BeadDataFile(fname=fname)\n",
    "voltage0_200 = np.std(bb.electrode_data[0])*np.sqrt(2)*200\n",
    "voltage1_200 = np.std(bb.electrode_data[1])*np.sqrt(2)*200\n",
    "bias2 = np.mean(bb.electrode_data[0])*200\n",
    "print(\"voltages, bias: \", voltage0_200, voltage1_200)"
   ]
  },
  {
   "cell_type": "code",
   "execution_count": 82,
   "metadata": {},
   "outputs": [
    {
     "data": {
      "text/plain": [
       "9.996282495738035"
      ]
     },
     "execution_count": 82,
     "metadata": {},
     "output_type": "execute_result"
    }
   ],
   "source": [
    "voltage"
   ]
  },
  {
   "cell_type": "code",
   "execution_count": 161,
   "metadata": {
    "scrolled": true
   },
   "outputs": [
    {
     "name": "stderr",
     "output_type": "stream",
     "text": [
      "100%|██████████| 400/400 [00:06<00:00, 66.13it/s]\n"
     ]
    }
   ],
   "source": [
    "amps_data_200V = np.array(Parallel(n_jobs=20)(delayed(get_amp)(i) for i in tqdm(range(400))))"
   ]
  },
  {
   "cell_type": "code",
   "execution_count": 162,
   "metadata": {},
   "outputs": [
    {
     "data": {
      "application/vnd.jupyter.widget-view+json": {
       "model_id": "f1e7b233ec3b48cc89cab79d65a8cc32",
       "version_major": 2,
       "version_minor": 0
      },
      "text/plain": [
       "Canvas(toolbar=Toolbar(toolitems=[('Home', 'Reset original view', 'home', 'home'), ('Back', 'Back to previous …"
      ]
     },
     "metadata": {},
     "output_type": "display_data"
    },
    {
     "data": {
      "text/plain": [
       "<matplotlib.collections.PathCollection at 0x7faf00e93160>"
      ]
     },
     "execution_count": 162,
     "metadata": {},
     "output_type": "execute_result"
    }
   ],
   "source": [
    "i=0; j=1\n",
    "_,ax = plt.subplots()\n",
    "dat = amps_data_200V\n",
    "ax.scatter(dat[:,i], dat[:,j])"
   ]
  },
  {
   "cell_type": "code",
   "execution_count": 145,
   "metadata": {},
   "outputs": [],
   "source": [
    "dat = amps_data_20V\n",
    "thresh = 9e-4\n",
    "amps_data_20V_after_cuts = np.array([aa for aa,bb in zip(dat,dat[:,1]) if (bb<thresh)])"
   ]
  },
  {
   "cell_type": "code",
   "execution_count": 163,
   "metadata": {
    "scrolled": false
   },
   "outputs": [
    {
     "data": {
      "application/vnd.jupyter.widget-view+json": {
       "model_id": "e6987a550bba4abdbdf3f536c6f2e4fe",
       "version_major": 2,
       "version_minor": 0
      },
      "text/plain": [
       "Canvas(toolbar=Toolbar(toolitems=[('Home', 'Reset original view', 'home', 'home'), ('Back', 'Back to previous …"
      ]
     },
     "metadata": {},
     "output_type": "display_data"
    },
    {
     "name": "stdout",
     "output_type": "stream",
     "text": [
      "mean:  -0.0007170421424051197 std:  0.0004371261179234581\n",
      "mean:  -0.005922574790540085 std:  0.00057747788610335\n",
      "-0.005040521739499383 0.0006085458661254463\n"
     ]
    }
   ],
   "source": [
    "data0 = amps_data_20V[:,0]/scaleY*voltage/voltage0_20\n",
    "data0 = amps_data_200V[:,0]/scaleY*voltage/voltage0_200\n",
    "\n",
    "dataPlus=data0[::4]\n",
    "dataMinus=data0[2::4]\n",
    "\n",
    "_, ax= plt.subplots(figsize=(9.5,4))\n",
    "ax.scatter(np.arange(len(dataPlus)), dataPlus, label='Y-axis, plus, 50V, XZ-spin-46kHz, with-height-fb')\n",
    "ax.scatter(np.arange(len(dataMinus)), dataMinus, label='Y-axis, minus, 50V, XZ-spin-46kHz, with-height-fb')\n",
    "#ax.plot(np.arange(0,2500), np.arange(0,2500)*0, '--r')\n",
    "ax.set(xlabel='Dataset', ylabel=r'$\\epsilon$')\n",
    "ax.legend()\n",
    "# ax.set(xlim=(0,500))\n",
    "print('mean: ', np.mean(dataPlus), 'std: ', np.std(dataPlus)/np.sqrt(len(dataPlus)))\n",
    "print('mean: ', np.mean(dataMinus), 'std: ', np.std(dataMinus)/np.sqrt(len(dataMinus)))\n",
    "print(np.mean(dataMinus*0.73)+np.mean(dataPlus), np.std(dataMinus*0.73+dataPlus)/np.sqrt(len(dataMinus)))"
   ]
  },
  {
   "cell_type": "code",
   "execution_count": 164,
   "metadata": {},
   "outputs": [
    {
     "name": "stdout",
     "output_type": "stream",
     "text": [
      "100 100\n"
     ]
    },
    {
     "data": {
      "text/plain": [
       "100"
      ]
     },
     "execution_count": 164,
     "metadata": {},
     "output_type": "execute_result"
    }
   ],
   "source": [
    "print(len(dataMinus), len(dataMinus))\n",
    "dataPlus_noise=amps_data_20V[::4,1]\n",
    "dataMinus_noise=amps_data_20V[2::4,1]\n",
    "amps_data_20V_after_cuts = np.array([dataMinus[i]*0.73+dataPlus[i] for i in range(len(dataMinus)) if (dataPlus_noise[i]<9e-4)&(dataMinus_noise[i]<9e-4)])\n",
    "len(amps_data_20V_after_cuts)"
   ]
  },
  {
   "cell_type": "code",
   "execution_count": 170,
   "metadata": {},
   "outputs": [
    {
     "data": {
      "application/vnd.jupyter.widget-view+json": {
       "model_id": "e099ef4533bc4654b18e0a151073ff9f",
       "version_major": 2,
       "version_minor": 0
      },
      "text/plain": [
       "Canvas(toolbar=Toolbar(toolitems=[('Home', 'Reset original view', 'home', 'home'), ('Back', 'Back to previous …"
      ]
     },
     "metadata": {},
     "output_type": "display_data"
    },
    {
     "data": {
      "text/plain": [
       "<matplotlib.legend.Legend at 0x7faf0088c208>"
      ]
     },
     "execution_count": 170,
     "metadata": {},
     "output_type": "execute_result"
    }
   ],
   "source": [
    "from scipy.optimize import curve_fit\n",
    "from scipy import asarray as ar,exp\n",
    "\n",
    "data_hist = amps_data_20V_after_cuts\n",
    "range_pram = 0.03\n",
    "_,ax = plt.subplots()\n",
    "entries, bins, patches = ax.hist(data_hist, bins=29, range=(-range_pram, range_pram), label='20V-x, xz-spin-100V')\n",
    "ax.set(xlabel=r'$\\epsilon$')\n",
    "ax.legend()"
   ]
  },
  {
   "cell_type": "code",
   "execution_count": 171,
   "metadata": {},
   "outputs": [
    {
     "name": "stdout",
     "output_type": "stream",
     "text": [
      "mean:  -0.00042806183115338866 std:  inf\n",
      "mean:  5.073899078008744e-06 std:  inf\n"
     ]
    },
    {
     "name": "stderr",
     "output_type": "stream",
     "text": [
      "/home/analysis_user/.local/lib/python3.6/site-packages/scipy/optimize/minpack.py:829: OptimizeWarning: Covariance of the parameters could not be estimated\n",
      "  category=OptimizeWarning)\n"
     ]
    }
   ],
   "source": [
    "## gaussian fit to the histogram\n",
    "\n",
    "bins_fit =[(bins[i+1]-bins[i])/2+bins[i] for i in range(len(entries))]\n",
    "# bins_fit = bins[:-1]\n",
    "for i,ee in enumerate([entries]):\n",
    "    x = bins_fit\n",
    "    y= ee/40\n",
    "\n",
    "    n = len(x)                          #the number of data\n",
    "    mean = sum(x*y)/n                   #note this correction\n",
    "    sigma = sum(y*(x-mean)**2)/n        #note this correction\n",
    "\n",
    "    def gaus(x,a,x0,sigma):\n",
    "        return a*np.exp(-(x-x0)**2/(2*sigma**2))\n",
    "\n",
    "    popt,pcov = curve_fit(gaus,x,y,p0=[1,mean,sigma])\n",
    "    ax.plot(x,gaus(x,*popt)*40,'ro:',label='fit')\n",
    "\n",
    "    print(\"mean: \", popt[1], \"std: \", np.sqrt(pcov)[1,1])\n",
    "    print(\"mean: \", popt[2], \"std: \", np.sqrt(pcov)[2,2])"
   ]
  },
  {
   "cell_type": "code",
   "execution_count": 150,
   "metadata": {},
   "outputs": [
    {
     "data": {
      "application/vnd.jupyter.widget-view+json": {
       "model_id": "3cb547fbfaed41368b1ef31a3b80230b",
       "version_major": 2,
       "version_minor": 0
      },
      "text/plain": [
       "Canvas(toolbar=Toolbar(toolitems=[('Home', 'Reset original view', 'home', 'home'), ('Back', 'Back to previous …"
      ]
     },
     "metadata": {},
     "output_type": "display_data"
    },
    {
     "name": "stdout",
     "output_type": "stream",
     "text": [
      "mean:  0.0003255126134260671 std:  0.00045640951380164523\n"
     ]
    },
    {
     "name": "stderr",
     "output_type": "stream",
     "text": [
      "/home/analysis_user/.local/lib/python3.6/site-packages/ipykernel_launcher.py:5: RuntimeWarning: invalid value encountered in sqrt\n",
      "  \"\"\"\n"
     ]
    }
   ],
   "source": [
    "_,ax = plt.subplots()\n",
    "ax.errorbar(bins_fit, entries, yerr=np.sqrt(entries), fmt='o', label='data')\n",
    "ax.plot(x,gaus(x,*popt)*40,'r--',label='fit')\n",
    "ax.legend()\n",
    "print(\"mean: \", popt[1], \"std: \", np.sqrt(pcov)[1,1])"
   ]
  },
  {
   "cell_type": "code",
   "execution_count": null,
   "metadata": {},
   "outputs": [],
   "source": []
  },
  {
   "cell_type": "code",
   "execution_count": null,
   "metadata": {},
   "outputs": [],
   "source": []
  },
  {
   "cell_type": "code",
   "execution_count": 35,
   "metadata": {},
   "outputs": [],
   "source": [
    "ll = likelihood_analyser.LikelihoodAnalyser()\n",
    "bandwidth = 2\n",
    "decimate = 10\n",
    "drive_freq = 71\n",
    "phase_calib = -0.0563\n",
    "# phase_calib = -0.0442\n",
    "\n",
    "def get_amp_single(i):\n",
    "    \n",
    "    fname = r'/data/new_trap/20210819/Bead1/Discharge/SingleResponse/Trek/plus_x/Discharge_'+str(i)+'.h5'\n",
    "#     fname = r'/data/new_trap/20210819/Bead1/Discharge/SingleResponse/Trek/minus_x/Discharge_'+str(i)+'.h5'\n",
    "    bb = BeadDataFile.BeadDataFile(fname=fname)\n",
    "\n",
    "\n",
    "    fit_kwargs = {'A': 0, 'f': drive_freq, 'phi': 0, \n",
    "                  'error_A': 1, 'error_f': 1, 'error_phi': 0.5, 'errordef': 1,\n",
    "                  'limit_phi': [-2 * np.pi, 2 * np.pi], \n",
    "                  'limit_A': [-1, 1], \n",
    "                  'print_level': 0, 'fix_f': True, 'fix_phi': True}\n",
    "    \n",
    "    b, a = signal.butter(3, [2.*(drive_freq-bandwidth/2.)/fsamp, 2.*(drive_freq+bandwidth/2.)/fsamp ], btype = 'bandpass')\n",
    "    xx2 = signal.filtfilt(b, a, bb.x2)[::decimate]\n",
    "    \n",
    "    m1_tmp = ll.find_mle_sin(xx2, fsamp=5000/decimate, noise_rms=1, plot=False, suppress_print=True, **fit_kwargs)\n",
    "    \n",
    "    return m1_tmp.values[0]"
   ]
  },
  {
   "cell_type": "code",
   "execution_count": 36,
   "metadata": {},
   "outputs": [
    {
     "name": "stderr",
     "output_type": "stream",
     "text": [
      "100%|██████████| 10/10 [00:00<00:00, 10760.14it/s]\n"
     ]
    }
   ],
   "source": [
    "amps_plus_x = np.array(Parallel(n_jobs=20)(delayed(get_amp_single)(i) for i in tqdm(range(10))))"
   ]
  },
  {
   "cell_type": "code",
   "execution_count": 39,
   "metadata": {},
   "outputs": [
    {
     "data": {
      "text/plain": [
       "0.7289756347706263"
      ]
     },
     "execution_count": 39,
     "metadata": {},
     "output_type": "execute_result"
    }
   ],
   "source": [
    "factor = np.mean(amps_plus_x)/np.mean(amps_minus_x)\n",
    "factor"
   ]
  },
  {
   "cell_type": "code",
   "execution_count": 37,
   "metadata": {},
   "outputs": [
    {
     "data": {
      "text/plain": [
       "(array([-0.00299865, -0.00299193, -0.0030011 , -0.0030093 , -0.00300316,\n",
       "        -0.00301009, -0.00300505, -0.0029996 , -0.00300229, -0.00300468]),\n",
       " array([-0.00408474, -0.00408243, -0.00409705, -0.00410182, -0.00412409,\n",
       "        -0.00413091, -0.00412064, -0.00413625, -0.00414977, -0.00416141]))"
      ]
     },
     "execution_count": 37,
     "metadata": {},
     "output_type": "execute_result"
    }
   ],
   "source": [
    "amps_plus_x, amps_minus_x"
   ]
  }
 ],
 "metadata": {
  "kernelspec": {
   "display_name": "Python 3",
   "language": "python",
   "name": "python3"
  },
  "language_info": {
   "codemirror_mode": {
    "name": "ipython",
    "version": 3
   },
   "file_extension": ".py",
   "mimetype": "text/x-python",
   "name": "python",
   "nbconvert_exporter": "python",
   "pygments_lexer": "ipython3",
   "version": "3.6.9"
  }
 },
 "nbformat": 4,
 "nbformat_minor": 4
}
