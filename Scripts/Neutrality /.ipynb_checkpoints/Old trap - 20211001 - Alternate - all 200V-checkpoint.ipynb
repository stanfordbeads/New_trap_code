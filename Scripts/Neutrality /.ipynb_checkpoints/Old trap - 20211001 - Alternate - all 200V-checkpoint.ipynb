{
 "cells": [
  {
   "cell_type": "code",
   "execution_count": 28,
   "metadata": {},
   "outputs": [],
   "source": [
    "import numpy as np\n",
    "import matplotlib.pyplot as plt\n",
    "import matplotlib\n",
    "from scipy import signal\n",
    "from scipy.optimize import minimize\n",
    "\n",
    "import random\n",
    "\n",
    "import h5py\n",
    "from IPython.utils import io\n",
    "\n",
    "from joblib import Parallel, delayed\n",
    "from tqdm import tqdm\n",
    "import sys"
   ]
  },
  {
   "cell_type": "code",
   "execution_count": 29,
   "metadata": {},
   "outputs": [],
   "source": [
    "%matplotlib widget\n",
    "\n",
    "%reload_ext autoreload\n",
    "%autoreload 2"
   ]
  },
  {
   "cell_type": "code",
   "execution_count": 30,
   "metadata": {},
   "outputs": [],
   "source": [
    "sys.path.append('../../../../nadavp/new_trap/Tools/')\n",
    "sys.path.append('../../../../nadavp/new_trap/Tools/StatFramework/')\n",
    "sys.path.append('../../../../nadavp/opt_lev_analysis/lib/')\n",
    "import BeadDataFile\n",
    "from discharge_tools import *"
   ]
  },
  {
   "cell_type": "code",
   "execution_count": 31,
   "metadata": {},
   "outputs": [],
   "source": [
    "from likelihood_calculator import likelihood_analyser\n",
    "from likelihood_calculator import GravityFramework\n",
    "from likelihood_calculator import auxiliary_functions as aux\n",
    "gfw = GravityFramework.GravityFramework()"
   ]
  },
  {
   "cell_type": "code",
   "execution_count": 32,
   "metadata": {},
   "outputs": [],
   "source": [
    "import bead_util as bu\n",
    "# import calib_util as cal\n",
    "import transfer_func_util as tf\n",
    "import configuration as config"
   ]
  },
  {
   "cell_type": "markdown",
   "metadata": {},
   "source": [
    "### Discharge data"
   ]
  },
  {
   "cell_type": "code",
   "execution_count": 33,
   "metadata": {},
   "outputs": [],
   "source": [
    "step_cal_dir = r'/data/old_trap/20211001/bead1/discharge/recharge_20211013/'\n",
    "max_file = 1"
   ]
  },
  {
   "cell_type": "code",
   "execution_count": 34,
   "metadata": {},
   "outputs": [
    {
     "name": "stdout",
     "output_type": "stream",
     "text": [
      "175\n"
     ]
    }
   ],
   "source": [
    "step_cal_files = []\n",
    "for root, dirnames, filenames in os.walk(step_cal_dir):\n",
    "    for filename in fnmatch.filter(filenames, '*' + config.extensions['data']):\n",
    "        if '_fpga.h5' in filename:\n",
    "            continue\n",
    "        step_cal_files.append(os.path.join(root, filename))\n",
    "step_cal_files.sort(key = bu.find_str)\n",
    "num_calib_files = len(step_cal_files)\n",
    "print(num_calib_files)\n",
    "\n",
    "# Do the step calibration\n",
    "\n",
    "step_file_objs = []\n",
    "for filname in step_cal_files[:]:\n",
    "    try:\n",
    "        df = bu.DataFile();\n",
    "        df.load(filname);\n",
    "        df.load_other_data()\n",
    "        step_file_objs.append(df);\n",
    "    except:\n",
    "        print('***')"
   ]
  },
  {
   "cell_type": "code",
   "execution_count": 35,
   "metadata": {},
   "outputs": [
    {
     "data": {
      "text/plain": [
       "(96.89396155735751, 97.9992158717, 128.33230649865476)"
      ]
     },
     "execution_count": 35,
     "metadata": {},
     "output_type": "execute_result"
    }
   ],
   "source": [
    "scaleY = 97.9992158717\n",
    "scaleZ = scaleY*(418+627)/(392+406)\n",
    "scaleX = scaleY*(421+368)/(392+406)\n",
    "scaleX, scaleY, scaleZ"
   ]
  },
  {
   "cell_type": "code",
   "execution_count": 36,
   "metadata": {},
   "outputs": [
    {
     "name": "stdout",
     "output_type": "stream",
     "text": [
      "Scales are  97.9992158717\n",
      "voltage:  24.0265126779\n"
     ]
    }
   ],
   "source": [
    "print(\"Scales are \", scaleY)\n",
    "bb = step_file_objs[-1]\n",
    "drive_freq = 139\n",
    "bandwidth=2\n",
    "fsamp = 5000\n",
    "b, a = signal.butter(3, [2.*(drive_freq-bandwidth/2.)/fsamp, 2.*(drive_freq+bandwidth/2.)/fsamp ], btype = 'bandpass')\n",
    "xx2 = signal.filtfilt(b, a, bb.other_data[5])\n",
    "voltage = np.std(xx2)*np.sqrt(2)*100\n",
    "print(\"voltage: \", voltage)"
   ]
  },
  {
   "cell_type": "code",
   "execution_count": 37,
   "metadata": {},
   "outputs": [
    {
     "name": "stdout",
     "output_type": "stream",
     "text": [
      "voltage:  24.0265126779 -0.592538948653 -0.574958113985\n",
      "voltage:  190.87201524 0.674330527298\n"
     ]
    }
   ],
   "source": [
    "i = 0\n",
    "fname = r'/data/old_trap/20211001/bead1/neutrality9/Z_200Vpp_alternate_139Hz_spin_XY_117kHz_175Vpp_delay_4sec_with_height_fb_redo5/Z_200Vpp_'+str(i)+'.h5'\n",
    "bb = bu.DataFile();\n",
    "bb.load(fname);\n",
    "bb.load_other_data()\n",
    "print(\"voltage: \", voltage, np.mean(bb.other_data[1])*100, np.mean(bb.other_data[2])*100)\n",
    "drive_freq = 139\n",
    "bandwidth=2\n",
    "b, a = signal.butter(3, [2.*(drive_freq-bandwidth/2.)/fsamp, 2.*(drive_freq+bandwidth/2.)/fsamp ], btype = 'bandpass')\n",
    "xx2 = signal.filtfilt(b, a, bb.other_data[1])\n",
    "voltage_200_1 = np.std(xx2)*np.sqrt(2)*100\n",
    "xx3 = signal.filtfilt(b, a, bb.other_data[2])\n",
    "voltage_200_2 = np.std(xx3)*np.sqrt(2)*100\n",
    "print(\"voltage: \", voltage_200_1, voltage_200_2)"
   ]
  },
  {
   "cell_type": "code",
   "execution_count": 38,
   "metadata": {},
   "outputs": [],
   "source": [
    "etha = 1/scaleZ*327*1.6e-19*voltage\n",
    "to_epsilon = 1/(2*327*1.6e-19*voltage_200_1*(418)/(418+627))"
   ]
  },
  {
   "cell_type": "markdown",
   "metadata": {},
   "source": [
    "### Look at neutrality data"
   ]
  },
  {
   "cell_type": "code",
   "execution_count": 39,
   "metadata": {},
   "outputs": [],
   "source": [
    "def get_amp_wraperZ(i, fname):\n",
    "    try:\n",
    "        return get_ampZ(i, fname)\n",
    "    except:\n",
    "        return 0,0,0,0"
   ]
  },
  {
   "cell_type": "code",
   "execution_count": 137,
   "metadata": {},
   "outputs": [],
   "source": [
    "ll = likelihood_analyser.LikelihoodAnalyser()\n",
    "bandwidth = 1\n",
    "decimate = 10\n",
    "def get_ampZ(i, foldername):\n",
    "    \n",
    "    fname = foldername+'Z_200Vpp_'+str(i)+'.h5'\n",
    "    drive_freq = 139\n",
    "    bb = bu.DataFile();\n",
    "    bb.load(fname);\n",
    "    bb.load_other_data()\n",
    "    \n",
    "    jj = i%2\n",
    "    freq2 = np.fft.rfftfreq(len(bb.other_data[1+jj]), d=1./5000)\n",
    "    fft_angles = np.angle(np.fft.rfft(bb.other_data[1+jj]))\n",
    "    phi_tmp2 = (fft_angles[freq2==drive_freq]+np.pi/2)%(2*np.pi)\n",
    "\n",
    "    phase_diff = 4.8        \n",
    "    fit_kwargs = {'A': 0, 'f': drive_freq, 'phi': phi_tmp2+phase_diff, \n",
    "                  'error_A': 1, 'error_f': 1, 'error_phi': 0.5, 'errordef': 1,\n",
    "                  'limit_A': [-100000, 100000], 'fix_f': True, 'fix_phi': True,\n",
    "                  'print_level': 0}\n",
    "    \n",
    "    fit_kwargs = {'A': 0, 'f': drive_freq, 'phi': phi_tmp2+phase_diff, 'sigma': 1100,\n",
    "                  'error_A': 0.1, 'error_f': 1, 'error_phi': 0.5, 'errordef': 1, 'error_sigma':50,\n",
    "                  'limit_A': [-100000, 100000], 'limit_sigma':[100,3000000], 'fix_phi': True, 'fix_f': True,\n",
    "                  'print_level': 0}\n",
    "\n",
    "    b, a = signal.butter(3, [2.*(drive_freq-bandwidth/2.)/fsamp, 2.*(drive_freq+bandwidth/2.)/fsamp ], btype = 'bandpass')\n",
    "    xx2 = signal.filtfilt(b, a, bb.pos_data[2])[::decimate]\n",
    "    m1_tmp = ll.find_mle_sin(xx2, fsamp=5000/decimate, noise_rms=1, plot=False, suppress_print=True, **fit_kwargs)\n",
    "    \n",
    "    phase_diff = 0   \n",
    "    drive_freq = drive_freq*2\n",
    "    fit_kwargs = {'A': 0, 'f': drive_freq, 'phi': phi_tmp2+phase_diff+np.pi/2, \n",
    "                  'error_A': 1, 'error_f': 1, 'error_phi': 0.5, 'errordef': 1,\n",
    "                  'limit_A': [-1000000, 1000000], 'fix_f': True, 'fix_phi': False,\n",
    "                  'print_level': 0}\n",
    "\n",
    "        \n",
    "    b, a = signal.butter(3, [2.*(drive_freq-bandwidth/2.)/fsamp, 2.*(drive_freq+bandwidth/2.)/fsamp ], btype = 'bandpass')\n",
    "    xx2 = signal.filtfilt(b, a, bb.pos_data[2])[::decimate]\n",
    "    m2_tmp = ll.find_mle_sin(xx2, fsamp=5000/decimate, noise_rms=1, plot=False, suppress_print=True, **fit_kwargs)\n",
    "\n",
    "    return m1_tmp.values[0], m2_tmp.values[0], m1_tmp.values[3], (m2_tmp.values[2]-phi_tmp2)%(2*np.pi)"
   ]
  },
  {
   "cell_type": "code",
   "execution_count": 138,
   "metadata": {},
   "outputs": [
    {
     "data": {
      "text/plain": [
       "(-12.183652453808463,\n",
       " 42.1641948169563,\n",
       " 721.6402454871711,\n",
       " array([ 2.89217888]))"
      ]
     },
     "execution_count": 138,
     "metadata": {},
     "output_type": "execute_result"
    }
   ],
   "source": [
    "fname = base_folder+r'neutrality6/Z_150Vpp_alternate_139Hz_spin_XY_93kHz_200Vpp_delay_3sec_with_height_fb/'\n",
    "get_ampZ(1000, fname)"
   ]
  },
  {
   "cell_type": "code",
   "execution_count": 53,
   "metadata": {
    "scrolled": true
   },
   "outputs": [
    {
     "name": "stderr",
     "output_type": "stream",
     "text": [
      "100%|██████████| 2200/2200 [00:10<00:00, 207.13it/s]\n"
     ]
    }
   ],
   "source": [
    "amps_tmp = np.array(Parallel(n_jobs=40)(delayed(get_amp_wraperZ)(i, fname) for i in tqdm(range((2200)))))"
   ]
  },
  {
   "cell_type": "code",
   "execution_count": 139,
   "metadata": {},
   "outputs": [],
   "source": [
    "base_folder = r'/data/old_trap/20211001/bead1/'\n",
    "fnames = [base_folder+r'neutrality6/Z_150Vpp_alternate_139Hz_spin_XY_93kHz_200Vpp_delay_3sec_with_height_fb/',\n",
    "base_folder+r'neutrality6/Z_150Vpp_alternate_139Hz_spin_XY_103kHz_200Vpp_delay_3sec_with_height_fb/',\n",
    "base_folder+r'neutrality6/Z_150Vpp_alternate_139Hz_spin_XY_103kHz_200Vpp_delay_3sec_with_height_fb_redo/',\n",
    "# base_folder+r'neutrality5/Z_150Vpp_alternate_139Hz_spin_XY_103kHz_200Vpp_delay_3sec_with_height_fb_redo2/', ## crashed\n",
    "base_folder+r'neutrality6/Z_200Vpp_alternate_139Hz_spin_XY_103kHz_175Vpp_delay_3sec_with_height_fb_redo3/',\n",
    "base_folder+r'neutrality6/Z_200Vpp_alternate_139Hz_spin_XY_103kHz_175Vpp_delay_3sec_with_height_fb_redo4/',\n",
    "# base_folder+r'neutrality7/Z_200Vpp_alternate_139Hz_spin_XY_103kHz_175Vpp_delay_3sec_with_height_fb/' ## crashed\n",
    "         ]\n",
    "\n",
    "files = [2000, 2000, 2000, 1000, 1000]"
   ]
  },
  {
   "cell_type": "code",
   "execution_count": 140,
   "metadata": {
    "scrolled": true
   },
   "outputs": [
    {
     "name": "stderr",
     "output_type": "stream",
     "text": [
      "100%|██████████| 2000/2000 [00:28<00:00, 75.31it/s]\n",
      "/home/analysis_user/.local/lib/python3.6/site-packages/ipykernel_launcher.py:3: VisibleDeprecationWarning: Creating an ndarray from ragged nested sequences (which is a list-or-tuple of lists-or-tuples-or ndarrays with different lengths or shapes) is deprecated. If you meant to do this, you must specify 'dtype=object' when creating the ndarray\n",
      "  This is separate from the ipykernel package so we can avoid doing imports until\n",
      "100%|██████████| 2000/2000 [00:28<00:00, 59.85it/s]\n",
      "100%|██████████| 2000/2000 [00:27<00:00, 61.10it/s]\n",
      "100%|██████████| 1000/1000 [00:14<00:00, 60.90it/s]\n",
      "100%|██████████| 1000/1000 [00:14<00:00, 64.87it/s]\n"
     ]
    }
   ],
   "source": [
    "ams_neutrality67 = []\n",
    "for i_folder in range(len(files)):\n",
    "    amps_tmp = np.array(Parallel(n_jobs=40)(delayed(get_amp_wraperZ)(i, fnames[i_folder]) for i in tqdm(range((files[i_folder])))))\n",
    "    ams_neutrality67 += list(np.array(amps_tmp)*etha)\n",
    "ams_neutrality67 = np.array(ams_neutrality67)"
   ]
  },
  {
   "cell_type": "code",
   "execution_count": 141,
   "metadata": {},
   "outputs": [],
   "source": [
    "ams_neutrality67_2 = list(ams_neutrality67)\n",
    "ams_neutrality67_2.pop(692)\n",
    "ams_neutrality67_2.pop(692)\n",
    "ams_neutrality67 = np.array(ams_neutrality67_2)"
   ]
  },
  {
   "cell_type": "code",
   "execution_count": 142,
   "metadata": {},
   "outputs": [],
   "source": [
    "base_folder = r'/data/old_trap/20211001/bead1/'\n",
    "fnames = [base_folder+r'neutrality8/Z_200Vpp_alternate_139Hz_spin_XY_117kHz_175Vpp_delay_5sec_with_height_fb/',\n",
    "# base_folder+r'neutrality8/Z_200Vpp_alternate_139Hz_spin_XY_117kHz_175Vpp_delay_5sec_with_height_fb_redo/', ## 4 sec.\n",
    "base_folder+r'neutrality8/Z_200Vpp_alternate_139Hz_spin_XY_117kHz_175Vpp_delay_7sec_with_height_fb_redo2/',\n",
    "base_folder+r'neutrality8/Z_200Vpp_alternate_139Hz_spin_XY_117kHz_175Vpp_delay_7sec_with_height_fb_redo3/',\n",
    "base_folder+r'neutrality8/Z_200Vpp_alternate_139Hz_spin_XY_117kHz_175Vpp_delay_7sec_with_height_fb_redo4/',\n",
    "base_folder+r'neutrality8/Z_200Vpp_alternate_139Hz_spin_XY_117kHz_175Vpp_delay_7sec_with_height_fb_redo5/']\n",
    "\n",
    "files = [2000, 2000, 2000, 2000, 440]"
   ]
  },
  {
   "cell_type": "code",
   "execution_count": 143,
   "metadata": {
    "scrolled": true
   },
   "outputs": [
    {
     "name": "stderr",
     "output_type": "stream",
     "text": [
      "100%|██████████| 2000/2000 [00:31<00:00, 74.18it/s]\n",
      "/home/analysis_user/.local/lib/python3.6/site-packages/ipykernel_launcher.py:3: VisibleDeprecationWarning: Creating an ndarray from ragged nested sequences (which is a list-or-tuple of lists-or-tuples-or ndarrays with different lengths or shapes) is deprecated. If you meant to do this, you must specify 'dtype=object' when creating the ndarray\n",
      "  This is separate from the ipykernel package so we can avoid doing imports until\n",
      "100%|██████████| 2000/2000 [00:37<00:00, 42.33it/s]\n",
      "100%|██████████| 2000/2000 [00:33<00:00, 74.44it/s]\n",
      "100%|██████████| 2000/2000 [00:24<00:00, 73.83it/s]\n",
      "100%|██████████| 440/440 [00:05<00:00, 72.18it/s] \n"
     ]
    }
   ],
   "source": [
    "ams_neutrality8 = []\n",
    "for i_folder in range(len(files)):\n",
    "    amps_tmp = np.array(Parallel(n_jobs=40)(delayed(get_amp_wraperZ)(i, fnames[i_folder]) for i in tqdm(range((files[i_folder])))))\n",
    "    ams_neutrality8 += list(np.array(amps_tmp)*etha)\n",
    "ams_neutrality8 = np.array(ams_neutrality8)"
   ]
  },
  {
   "cell_type": "code",
   "execution_count": 144,
   "metadata": {},
   "outputs": [],
   "source": [
    "base_folder = r'/data/old_trap/20211001/bead1/'\n",
    "fnames = [base_folder+r'neutrality9/Z_200Vpp_alternate_139Hz_spin_XY_117kHz_175Vpp_delay_4sec_with_height_fb/',\n",
    "base_folder+r'neutrality9/Z_200Vpp_alternate_139Hz_spin_XY_117kHz_175Vpp_delay_4sec_with_height_fb_redo/',\n",
    "base_folder+r'neutrality9/Z_200Vpp_alternate_139Hz_spin_XY_117kHz_175Vpp_delay_4sec_with_height_fb_redo2/',\n",
    "base_folder+r'neutrality9/Z_200Vpp_alternate_139Hz_spin_XY_117kHz_175Vpp_delay_4sec_with_height_fb_redo3/',\n",
    "base_folder+r'neutrality9/Z_200Vpp_alternate_139Hz_spin_XY_117kHz_175Vpp_delay_6sec_with_height_fb_redo4/',\n",
    "base_folder+r'neutrality9/Z_200Vpp_alternate_139Hz_spin_XY_117kHz_175Vpp_delay_4sec_with_height_fb_redo5/',\n",
    "base_folder+r'neutrality9/Z_200Vpp_alternate_139Hz_spin_XY_117kHz_175Vpp_delay_6sec_with_height_fb_redo6/']\n",
    "\n",
    "files = [80, 2000, 2000, 2000, 2000, 4000, 2200]"
   ]
  },
  {
   "cell_type": "code",
   "execution_count": 145,
   "metadata": {
    "scrolled": true
   },
   "outputs": [
    {
     "name": "stderr",
     "output_type": "stream",
     "text": [
      "100%|██████████| 80/80 [00:00<00:00, 192.01it/s]\n",
      "/home/analysis_user/.local/lib/python3.6/site-packages/ipykernel_launcher.py:3: VisibleDeprecationWarning: Creating an ndarray from ragged nested sequences (which is a list-or-tuple of lists-or-tuples-or ndarrays with different lengths or shapes) is deprecated. If you meant to do this, you must specify 'dtype=object' when creating the ndarray\n",
      "  This is separate from the ipykernel package so we can avoid doing imports until\n",
      "100%|██████████| 2000/2000 [00:31<00:00, 77.58it/s]\n",
      "100%|██████████| 2000/2000 [00:31<00:00, 73.01it/s]\n",
      "100%|██████████| 2000/2000 [00:27<00:00, 66.50it/s]\n",
      "100%|██████████| 2000/2000 [00:29<00:00, 73.41it/s]\n",
      "100%|██████████| 4000/4000 [00:49<00:00, 83.62it/s] \n",
      "100%|██████████| 2200/2200 [00:25<00:00, 71.59it/s]\n"
     ]
    }
   ],
   "source": [
    "ams_neutrality9 = []\n",
    "for i_folder in range(len(files)):\n",
    "    amps_tmp = np.array(Parallel(n_jobs=40)(delayed(get_amp_wraperZ)(i, fnames[i_folder]) for i in tqdm(range((files[i_folder])))))\n",
    "    ams_neutrality9 += list(np.array(amps_tmp)*etha)\n",
    "ams_neutrality9 = np.array(ams_neutrality9)"
   ]
  },
  {
   "cell_type": "code",
   "execution_count": null,
   "metadata": {},
   "outputs": [],
   "source": [
    "## different spin voltage -- skip that\n",
    "# base_folder = r'/data/old_trap/20211001/bead1/'\n",
    "# fnames = [base_folder+r'neutrality11/Z_200Vpp_alternate_139Hz_spin_XY_117kHz_200Vpp_delay_6sec_with_height_fb/']\n",
    "# \n",
    "# files = [2500]"
   ]
  },
  {
   "cell_type": "code",
   "execution_count": null,
   "metadata": {
    "scrolled": true
   },
   "outputs": [],
   "source": [
    "# ams_neutrality11 = []\n",
    "# for i_folder in range(len(files)):\n",
    "#     amps_tmp = np.array(Parallel(n_jobs=40)(delayed(get_amp_wraperZ)(i, fnames[i_folder]) for i in tqdm(range((files[i_folder])))))\n",
    "#     ams_neutrality11 += list(np.array(amps_tmp)*etha)\n",
    "# ams_neutrality11 = np.array(ams_neutrality11)"
   ]
  },
  {
   "cell_type": "code",
   "execution_count": 133,
   "metadata": {},
   "outputs": [],
   "source": [
    "amps_all = np.array(list(ams_neutrality67)+list(ams_neutrality8)+list(ams_neutrality9))"
   ]
  },
  {
   "cell_type": "code",
   "execution_count": 134,
   "metadata": {},
   "outputs": [
    {
     "data": {
      "application/vnd.jupyter.widget-view+json": {
       "model_id": "49d390d0a13e42e5aeb2ad22f0d90876",
       "version_major": 2,
       "version_minor": 0
      },
      "text/plain": [
       "Canvas(toolbar=Toolbar(toolitems=[('Home', 'Reset original view', 'home', 'home'), ('Back', 'Back to previous …"
      ]
     },
     "metadata": {},
     "output_type": "display_data"
    },
    {
     "name": "stdout",
     "output_type": "stream",
     "text": [
      "1st harmonic, electrode 1: mean, std:  -2.1770774109482787e-17 6.36621564849e-19\n",
      "1st harmonic, electrode 2: mean, std:  -3.4006400142683797e-17 8.26668817635e-19\n",
      "1st harmonic, A parameter: mean, std:  1.6335398254823102e-19 4.08094746576e-19\n",
      "1st harmonic, A parameter[epsilon]: mean, std:  2.04470070078e-05 5.10811919791e-05\n",
      "\n",
      "2nd harmonic, electrode 1: mean, std:  2.6225722784247494e-16 1.03524641174e-18\n",
      "2nd harmonic, electrode 2: mean, std:  5.314550594329019e-16 2.07933439476e-18\n",
      "2nd harmonic, B parameter: mean, std:  4.833558189430473e-16 1.35209130461e-18\n"
     ]
    }
   ],
   "source": [
    "data = amps_all[::2,0]\n",
    "data2 = amps_all[1::2,0]\n",
    "data3 = data-0.645*data2\n",
    "\n",
    "data_1 = np.abs(amps_all[::2,1])\n",
    "data2_1 = np.abs(amps_all[1::2,1])\n",
    "data3_1 = data_1+0.645*0.645*data2_1\n",
    "\n",
    "_, ax= plt.subplots(figsize=(9.5,4))\n",
    "ax.scatter(np.arange(len(data))*2*10/3600, data, label='200Vpp-z-plus, xy-spin-50Vpp-103kHz')\n",
    "ax.scatter(np.arange(len(data))*2*10/3600, data2, label='200Vpp-z-minus, xy-spin-50Vpp-103kHz', alpha=0.6)\n",
    "# ax.scatter(np.arange(len(data3))*2*10/3600, data3, label='200Vpp-z, A parameter', alpha=0.6)\n",
    "\n",
    "ax.plot(np.arange(len(data3))*2*10/3600, np.arange(len(data3))*0, '--k')\n",
    "ax.set(xlabel='Integration time [hr.]', ylabel=r'$\\epsilon$')\n",
    "ax.legend()\n",
    "print('1st harmonic, electrode 1: mean, std: ', np.mean(data), np.std(data)/np.sqrt(len(data)))\n",
    "print('1st harmonic, electrode 2: mean, std: ', np.mean(data2), np.std(data2)/np.sqrt(len(data2)))\n",
    "print('1st harmonic, A parameter: mean, std: ', np.mean(data3), np.std(data3)/np.sqrt(len(data3)))\n",
    "print('1st harmonic, A parameter[epsilon]: mean, std: ', np.mean(data3)*to_epsilon, to_epsilon*np.std(data3)/np.sqrt(len(data3)))\n",
    "\n",
    "print()\n",
    "print('2nd harmonic, electrode 1: mean, std: ', np.mean(data_1), np.std(data_1)/np.sqrt(len(data_1)))\n",
    "print('2nd harmonic, electrode 2: mean, std: ', np.mean(data2_1), np.std(data2_1)/np.sqrt(len(data2_1)))\n",
    "print('2nd harmonic, B parameter: mean, std: ', np.mean(data3_1), np.std(data3_1)/np.sqrt(len(data3_1)))"
   ]
  },
  {
   "cell_type": "code",
   "execution_count": 135,
   "metadata": {},
   "outputs": [
    {
     "data": {
      "application/vnd.jupyter.widget-view+json": {
       "model_id": "755995f320c54c799833da8125d75b01",
       "version_major": 2,
       "version_minor": 0
      },
      "text/plain": [
       "Canvas(toolbar=Toolbar(toolitems=[('Home', 'Reset original view', 'home', 'home'), ('Back', 'Back to previous …"
      ]
     },
     "metadata": {},
     "output_type": "display_data"
    },
    {
     "data": {
      "text/plain": [
       "[Text(0.5, 0, '$p_{ac}$ [e $\\\\mu$m]')]"
      ]
     },
     "execution_count": 135,
     "metadata": {},
     "output_type": "execute_result"
    }
   ],
   "source": [
    "fig, ax = plt.subplots()\n",
    "\n",
    "# data_11 = amps_all[::2,1]\n",
    "# data_12 = amps_all[::2,1] ## 4.8-pi/2\n",
    "# data_13 = amps_all[::2,1] ## 4.8\n",
    "data_14 = amps_all[::2,1] ## 4.8+pi/2\n",
    "\n",
    "_ = ax.hist(2*data_11/(1.1e5*200)/1.6e-19*1e6, range=(-300,300), bins=100)\n",
    "_ = ax.hist(2*data_12/(1.1e5*200)/1.6e-19*1e6, range=(-300,300), bins=100)\n",
    "_ = ax.hist(2*data_13/(1.1e5*200)/1.6e-19*1e6, range=(-300,300), bins=100)\n",
    "_ = ax.hist(2*data_14/(1.1e5*200)/1.6e-19*1e6, range=(-300,300), bins=100)\n",
    "ax.set(xlabel='$p_{ac}$ [e $\\mu$m]')\n"
   ]
  },
  {
   "cell_type": "code",
   "execution_count": 149,
   "metadata": {},
   "outputs": [],
   "source": [
    "data_phase = amps_all[::2,3] ## 4.8+pi/2"
   ]
  },
  {
   "cell_type": "code",
   "execution_count": 148,
   "metadata": {},
   "outputs": [
    {
     "data": {
      "application/vnd.jupyter.widget-view+json": {
       "model_id": "7469faea7bd04f1d987dbcd2b3f72e58",
       "version_major": 2,
       "version_minor": 0
      },
      "text/plain": [
       "Canvas(toolbar=Toolbar(toolitems=[('Home', 'Reset original view', 'home', 'home'), ('Back', 'Back to previous …"
      ]
     },
     "metadata": {},
     "output_type": "display_data"
    },
    {
     "ename": "KeyboardInterrupt",
     "evalue": "",
     "output_type": "error",
     "traceback": [
      "\u001b[0;31m---------------------------------------------------------------------------\u001b[0m",
      "\u001b[0;31mKeyboardInterrupt\u001b[0m                         Traceback (most recent call last)",
      "\u001b[0;32m<ipython-input-148-29e2dd568d3a>\u001b[0m in \u001b[0;36m<module>\u001b[0;34m\u001b[0m\n\u001b[1;32m      1\u001b[0m \u001b[0mfig\u001b[0m\u001b[0;34m,\u001b[0m \u001b[0max\u001b[0m \u001b[0;34m=\u001b[0m \u001b[0mplt\u001b[0m\u001b[0;34m.\u001b[0m\u001b[0msubplots\u001b[0m\u001b[0;34m(\u001b[0m\u001b[0;34m)\u001b[0m\u001b[0;34m\u001b[0m\u001b[0;34m\u001b[0m\u001b[0m\n\u001b[1;32m      2\u001b[0m \u001b[0mdata_phase\u001b[0m \u001b[0;34m=\u001b[0m \u001b[0mamps_all\u001b[0m\u001b[0;34m[\u001b[0m\u001b[0;34m:\u001b[0m\u001b[0;34m:\u001b[0m\u001b[0;36m2\u001b[0m\u001b[0;34m,\u001b[0m\u001b[0;36m3\u001b[0m\u001b[0;34m]\u001b[0m \u001b[0;31m## 4.8+pi/2\u001b[0m\u001b[0;34m\u001b[0m\u001b[0;34m\u001b[0m\u001b[0m\n\u001b[0;32m----> 3\u001b[0;31m \u001b[0m_\u001b[0m \u001b[0;34m=\u001b[0m \u001b[0max\u001b[0m\u001b[0;34m.\u001b[0m\u001b[0mhist\u001b[0m\u001b[0;34m(\u001b[0m\u001b[0mdata_phase\u001b[0m\u001b[0;34m,\u001b[0m \u001b[0mrange\u001b[0m\u001b[0;34m=\u001b[0m\u001b[0;34m(\u001b[0m\u001b[0;34m-\u001b[0m\u001b[0;36m2\u001b[0m\u001b[0;34m*\u001b[0m\u001b[0mnp\u001b[0m\u001b[0;34m.\u001b[0m\u001b[0mpi\u001b[0m\u001b[0;34m,\u001b[0m\u001b[0;36m2\u001b[0m\u001b[0;34m*\u001b[0m\u001b[0mnp\u001b[0m\u001b[0;34m.\u001b[0m\u001b[0mpi\u001b[0m\u001b[0;34m)\u001b[0m\u001b[0;34m,\u001b[0m \u001b[0mbins\u001b[0m\u001b[0;34m=\u001b[0m\u001b[0;36m100\u001b[0m\u001b[0;34m)\u001b[0m\u001b[0;34m\u001b[0m\u001b[0;34m\u001b[0m\u001b[0m\n\u001b[0m",
      "\u001b[0;32m~/.local/lib/python3.6/site-packages/matplotlib/__init__.py\u001b[0m in \u001b[0;36minner\u001b[0;34m(ax, data, *args, **kwargs)\u001b[0m\n\u001b[1;32m   1429\u001b[0m     \u001b[0;32mdef\u001b[0m \u001b[0minner\u001b[0m\u001b[0;34m(\u001b[0m\u001b[0max\u001b[0m\u001b[0;34m,\u001b[0m \u001b[0;34m*\u001b[0m\u001b[0margs\u001b[0m\u001b[0;34m,\u001b[0m \u001b[0mdata\u001b[0m\u001b[0;34m=\u001b[0m\u001b[0;32mNone\u001b[0m\u001b[0;34m,\u001b[0m \u001b[0;34m**\u001b[0m\u001b[0mkwargs\u001b[0m\u001b[0;34m)\u001b[0m\u001b[0;34m:\u001b[0m\u001b[0;34m\u001b[0m\u001b[0;34m\u001b[0m\u001b[0m\n\u001b[1;32m   1430\u001b[0m         \u001b[0;32mif\u001b[0m \u001b[0mdata\u001b[0m \u001b[0;32mis\u001b[0m \u001b[0;32mNone\u001b[0m\u001b[0;34m:\u001b[0m\u001b[0;34m\u001b[0m\u001b[0;34m\u001b[0m\u001b[0m\n\u001b[0;32m-> 1431\u001b[0;31m             \u001b[0;32mreturn\u001b[0m \u001b[0mfunc\u001b[0m\u001b[0;34m(\u001b[0m\u001b[0max\u001b[0m\u001b[0;34m,\u001b[0m \u001b[0;34m*\u001b[0m\u001b[0mmap\u001b[0m\u001b[0;34m(\u001b[0m\u001b[0msanitize_sequence\u001b[0m\u001b[0;34m,\u001b[0m \u001b[0margs\u001b[0m\u001b[0;34m)\u001b[0m\u001b[0;34m,\u001b[0m \u001b[0;34m**\u001b[0m\u001b[0mkwargs\u001b[0m\u001b[0;34m)\u001b[0m\u001b[0;34m\u001b[0m\u001b[0;34m\u001b[0m\u001b[0m\n\u001b[0m\u001b[1;32m   1432\u001b[0m \u001b[0;34m\u001b[0m\u001b[0m\n\u001b[1;32m   1433\u001b[0m         \u001b[0mbound\u001b[0m \u001b[0;34m=\u001b[0m \u001b[0mnew_sig\u001b[0m\u001b[0;34m.\u001b[0m\u001b[0mbind\u001b[0m\u001b[0;34m(\u001b[0m\u001b[0max\u001b[0m\u001b[0;34m,\u001b[0m \u001b[0;34m*\u001b[0m\u001b[0margs\u001b[0m\u001b[0;34m,\u001b[0m \u001b[0;34m**\u001b[0m\u001b[0mkwargs\u001b[0m\u001b[0;34m)\u001b[0m\u001b[0;34m\u001b[0m\u001b[0;34m\u001b[0m\u001b[0m\n",
      "\u001b[0;32m~/.local/lib/python3.6/site-packages/matplotlib/axes/_axes.py\u001b[0m in \u001b[0;36mhist\u001b[0;34m(self, x, bins, range, density, weights, cumulative, bottom, histtype, align, orientation, rwidth, log, color, label, stacked, **kwargs)\u001b[0m\n\u001b[1;32m   6702\u001b[0m                 patch = _barfunc(bins[:-1]+boffset, height, width,\n\u001b[1;32m   6703\u001b[0m                                  \u001b[0malign\u001b[0m\u001b[0;34m=\u001b[0m\u001b[0;34m'center'\u001b[0m\u001b[0;34m,\u001b[0m \u001b[0mlog\u001b[0m\u001b[0;34m=\u001b[0m\u001b[0mlog\u001b[0m\u001b[0;34m,\u001b[0m\u001b[0;34m\u001b[0m\u001b[0;34m\u001b[0m\u001b[0m\n\u001b[0;32m-> 6704\u001b[0;31m                                  color=c, **{bottom_kwarg: bottom})\n\u001b[0m\u001b[1;32m   6705\u001b[0m                 \u001b[0mpatches\u001b[0m\u001b[0;34m.\u001b[0m\u001b[0mappend\u001b[0m\u001b[0;34m(\u001b[0m\u001b[0mpatch\u001b[0m\u001b[0;34m)\u001b[0m\u001b[0;34m\u001b[0m\u001b[0;34m\u001b[0m\u001b[0m\n\u001b[1;32m   6706\u001b[0m                 \u001b[0;32mif\u001b[0m \u001b[0mstacked\u001b[0m\u001b[0;34m:\u001b[0m\u001b[0;34m\u001b[0m\u001b[0;34m\u001b[0m\u001b[0m\n",
      "\u001b[0;32m~/.local/lib/python3.6/site-packages/matplotlib/__init__.py\u001b[0m in \u001b[0;36minner\u001b[0;34m(ax, data, *args, **kwargs)\u001b[0m\n\u001b[1;32m   1429\u001b[0m     \u001b[0;32mdef\u001b[0m \u001b[0minner\u001b[0m\u001b[0;34m(\u001b[0m\u001b[0max\u001b[0m\u001b[0;34m,\u001b[0m \u001b[0;34m*\u001b[0m\u001b[0margs\u001b[0m\u001b[0;34m,\u001b[0m \u001b[0mdata\u001b[0m\u001b[0;34m=\u001b[0m\u001b[0;32mNone\u001b[0m\u001b[0;34m,\u001b[0m \u001b[0;34m**\u001b[0m\u001b[0mkwargs\u001b[0m\u001b[0;34m)\u001b[0m\u001b[0;34m:\u001b[0m\u001b[0;34m\u001b[0m\u001b[0;34m\u001b[0m\u001b[0m\n\u001b[1;32m   1430\u001b[0m         \u001b[0;32mif\u001b[0m \u001b[0mdata\u001b[0m \u001b[0;32mis\u001b[0m \u001b[0;32mNone\u001b[0m\u001b[0;34m:\u001b[0m\u001b[0;34m\u001b[0m\u001b[0;34m\u001b[0m\u001b[0m\n\u001b[0;32m-> 1431\u001b[0;31m             \u001b[0;32mreturn\u001b[0m \u001b[0mfunc\u001b[0m\u001b[0;34m(\u001b[0m\u001b[0max\u001b[0m\u001b[0;34m,\u001b[0m \u001b[0;34m*\u001b[0m\u001b[0mmap\u001b[0m\u001b[0;34m(\u001b[0m\u001b[0msanitize_sequence\u001b[0m\u001b[0;34m,\u001b[0m \u001b[0margs\u001b[0m\u001b[0;34m)\u001b[0m\u001b[0;34m,\u001b[0m \u001b[0;34m**\u001b[0m\u001b[0mkwargs\u001b[0m\u001b[0;34m)\u001b[0m\u001b[0;34m\u001b[0m\u001b[0;34m\u001b[0m\u001b[0m\n\u001b[0m\u001b[1;32m   1432\u001b[0m \u001b[0;34m\u001b[0m\u001b[0m\n\u001b[1;32m   1433\u001b[0m         \u001b[0mbound\u001b[0m \u001b[0;34m=\u001b[0m \u001b[0mnew_sig\u001b[0m\u001b[0;34m.\u001b[0m\u001b[0mbind\u001b[0m\u001b[0;34m(\u001b[0m\u001b[0max\u001b[0m\u001b[0;34m,\u001b[0m \u001b[0;34m*\u001b[0m\u001b[0margs\u001b[0m\u001b[0;34m,\u001b[0m \u001b[0;34m**\u001b[0m\u001b[0mkwargs\u001b[0m\u001b[0;34m)\u001b[0m\u001b[0;34m\u001b[0m\u001b[0;34m\u001b[0m\u001b[0m\n",
      "\u001b[0;32m~/.local/lib/python3.6/site-packages/matplotlib/axes/_axes.py\u001b[0m in \u001b[0;36mbar\u001b[0;34m(self, x, height, width, bottom, align, **kwargs)\u001b[0m\n\u001b[1;32m   2492\u001b[0m             \u001b[0;32melif\u001b[0m \u001b[0morientation\u001b[0m \u001b[0;34m==\u001b[0m \u001b[0;34m'horizontal'\u001b[0m\u001b[0;34m:\u001b[0m\u001b[0;34m\u001b[0m\u001b[0;34m\u001b[0m\u001b[0m\n\u001b[1;32m   2493\u001b[0m                 \u001b[0mr\u001b[0m\u001b[0;34m.\u001b[0m\u001b[0msticky_edges\u001b[0m\u001b[0;34m.\u001b[0m\u001b[0mx\u001b[0m\u001b[0;34m.\u001b[0m\u001b[0mappend\u001b[0m\u001b[0;34m(\u001b[0m\u001b[0ml\u001b[0m\u001b[0;34m)\u001b[0m\u001b[0;34m\u001b[0m\u001b[0;34m\u001b[0m\u001b[0m\n\u001b[0;32m-> 2494\u001b[0;31m             \u001b[0mself\u001b[0m\u001b[0;34m.\u001b[0m\u001b[0madd_patch\u001b[0m\u001b[0;34m(\u001b[0m\u001b[0mr\u001b[0m\u001b[0;34m)\u001b[0m\u001b[0;34m\u001b[0m\u001b[0;34m\u001b[0m\u001b[0m\n\u001b[0m\u001b[1;32m   2495\u001b[0m             \u001b[0mpatches\u001b[0m\u001b[0;34m.\u001b[0m\u001b[0mappend\u001b[0m\u001b[0;34m(\u001b[0m\u001b[0mr\u001b[0m\u001b[0;34m)\u001b[0m\u001b[0;34m\u001b[0m\u001b[0;34m\u001b[0m\u001b[0m\n\u001b[1;32m   2496\u001b[0m \u001b[0;34m\u001b[0m\u001b[0m\n",
      "\u001b[0;32m~/.local/lib/python3.6/site-packages/matplotlib/axes/_base.py\u001b[0m in \u001b[0;36madd_patch\u001b[0;34m(self, p)\u001b[0m\n\u001b[1;32m   2036\u001b[0m         \u001b[0;32mif\u001b[0m \u001b[0mp\u001b[0m\u001b[0;34m.\u001b[0m\u001b[0mget_clip_path\u001b[0m\u001b[0;34m(\u001b[0m\u001b[0;34m)\u001b[0m \u001b[0;32mis\u001b[0m \u001b[0;32mNone\u001b[0m\u001b[0;34m:\u001b[0m\u001b[0;34m\u001b[0m\u001b[0;34m\u001b[0m\u001b[0m\n\u001b[1;32m   2037\u001b[0m             \u001b[0mp\u001b[0m\u001b[0;34m.\u001b[0m\u001b[0mset_clip_path\u001b[0m\u001b[0;34m(\u001b[0m\u001b[0mself\u001b[0m\u001b[0;34m.\u001b[0m\u001b[0mpatch\u001b[0m\u001b[0;34m)\u001b[0m\u001b[0;34m\u001b[0m\u001b[0;34m\u001b[0m\u001b[0m\n\u001b[0;32m-> 2038\u001b[0;31m         \u001b[0mself\u001b[0m\u001b[0;34m.\u001b[0m\u001b[0m_update_patch_limits\u001b[0m\u001b[0;34m(\u001b[0m\u001b[0mp\u001b[0m\u001b[0;34m)\u001b[0m\u001b[0;34m\u001b[0m\u001b[0;34m\u001b[0m\u001b[0m\n\u001b[0m\u001b[1;32m   2039\u001b[0m         \u001b[0mself\u001b[0m\u001b[0;34m.\u001b[0m\u001b[0mpatches\u001b[0m\u001b[0;34m.\u001b[0m\u001b[0mappend\u001b[0m\u001b[0;34m(\u001b[0m\u001b[0mp\u001b[0m\u001b[0;34m)\u001b[0m\u001b[0;34m\u001b[0m\u001b[0;34m\u001b[0m\u001b[0m\n\u001b[1;32m   2040\u001b[0m         \u001b[0mp\u001b[0m\u001b[0;34m.\u001b[0m\u001b[0m_remove_method\u001b[0m \u001b[0;34m=\u001b[0m \u001b[0mself\u001b[0m\u001b[0;34m.\u001b[0m\u001b[0mpatches\u001b[0m\u001b[0;34m.\u001b[0m\u001b[0mremove\u001b[0m\u001b[0;34m\u001b[0m\u001b[0;34m\u001b[0m\u001b[0m\n",
      "\u001b[0;32m~/.local/lib/python3.6/site-packages/matplotlib/axes/_base.py\u001b[0m in \u001b[0;36m_update_patch_limits\u001b[0;34m(self, patch)\u001b[0m\n\u001b[1;32m   2065\u001b[0m                 \u001b[0mcontains_branch_seperately\u001b[0m\u001b[0;34m(\u001b[0m\u001b[0mself\u001b[0m\u001b[0;34m.\u001b[0m\u001b[0mtransData\u001b[0m\u001b[0;34m)\u001b[0m\u001b[0;34m\u001b[0m\u001b[0;34m\u001b[0m\u001b[0m\n\u001b[1;32m   2066\u001b[0m             self.update_datalim(xys, updatex=updatex,\n\u001b[0;32m-> 2067\u001b[0;31m                                 updatey=updatey)\n\u001b[0m\u001b[1;32m   2068\u001b[0m \u001b[0;34m\u001b[0m\u001b[0m\n\u001b[1;32m   2069\u001b[0m     \u001b[0;32mdef\u001b[0m \u001b[0madd_table\u001b[0m\u001b[0;34m(\u001b[0m\u001b[0mself\u001b[0m\u001b[0;34m,\u001b[0m \u001b[0mtab\u001b[0m\u001b[0;34m)\u001b[0m\u001b[0;34m:\u001b[0m\u001b[0;34m\u001b[0m\u001b[0;34m\u001b[0m\u001b[0m\n",
      "\u001b[0;32m~/.local/lib/python3.6/site-packages/matplotlib/axes/_base.py\u001b[0m in \u001b[0;36mupdate_datalim\u001b[0;34m(self, xys, updatex, updatey)\u001b[0m\n\u001b[1;32m   2148\u001b[0m             \u001b[0;32mreturn\u001b[0m\u001b[0;34m\u001b[0m\u001b[0;34m\u001b[0m\u001b[0m\n\u001b[1;32m   2149\u001b[0m         self.dataLim.update_from_data_xy(xys, self.ignore_existing_data_limits,\n\u001b[0;32m-> 2150\u001b[0;31m                                          updatex=updatex, updatey=updatey)\n\u001b[0m\u001b[1;32m   2151\u001b[0m         \u001b[0mself\u001b[0m\u001b[0;34m.\u001b[0m\u001b[0mignore_existing_data_limits\u001b[0m \u001b[0;34m=\u001b[0m \u001b[0;32mFalse\u001b[0m\u001b[0;34m\u001b[0m\u001b[0;34m\u001b[0m\u001b[0m\n\u001b[1;32m   2152\u001b[0m \u001b[0;34m\u001b[0m\u001b[0m\n",
      "\u001b[0;32m~/.local/lib/python3.6/site-packages/matplotlib/transforms.py\u001b[0m in \u001b[0;36mupdate_from_data_xy\u001b[0;34m(self, xy, ignore, updatex, updatey)\u001b[0m\n\u001b[1;32m    905\u001b[0m             \u001b[0;32mreturn\u001b[0m\u001b[0;34m\u001b[0m\u001b[0;34m\u001b[0m\u001b[0m\n\u001b[1;32m    906\u001b[0m \u001b[0;34m\u001b[0m\u001b[0m\n\u001b[0;32m--> 907\u001b[0;31m         \u001b[0mpath\u001b[0m \u001b[0;34m=\u001b[0m \u001b[0mPath\u001b[0m\u001b[0;34m(\u001b[0m\u001b[0mxy\u001b[0m\u001b[0;34m)\u001b[0m\u001b[0;34m\u001b[0m\u001b[0;34m\u001b[0m\u001b[0m\n\u001b[0m\u001b[1;32m    908\u001b[0m         self.update_from_path(path, ignore=ignore,\n\u001b[1;32m    909\u001b[0m                               updatex=updatex, updatey=updatey)\n",
      "\u001b[0;32m~/.local/lib/python3.6/site-packages/matplotlib/path.py\u001b[0m in \u001b[0;36m__init__\u001b[0;34m(self, vertices, codes, _interpolation_steps, closed, readonly)\u001b[0m\n\u001b[1;32m    129\u001b[0m             \u001b[0;32mand\u001b[0m \u001b[0mcodes\u001b[0m \u001b[0;32mas\u001b[0m \u001b[0mread\u001b[0m\u001b[0;34m-\u001b[0m\u001b[0monly\u001b[0m \u001b[0marrays\u001b[0m\u001b[0;34m.\u001b[0m\u001b[0;34m\u001b[0m\u001b[0;34m\u001b[0m\u001b[0m\n\u001b[1;32m    130\u001b[0m         \"\"\"\n\u001b[0;32m--> 131\u001b[0;31m         \u001b[0mvertices\u001b[0m \u001b[0;34m=\u001b[0m \u001b[0m_to_unmasked_float_array\u001b[0m\u001b[0;34m(\u001b[0m\u001b[0mvertices\u001b[0m\u001b[0;34m)\u001b[0m\u001b[0;34m\u001b[0m\u001b[0;34m\u001b[0m\u001b[0m\n\u001b[0m\u001b[1;32m    132\u001b[0m         \u001b[0mcbook\u001b[0m\u001b[0;34m.\u001b[0m\u001b[0m_check_shape\u001b[0m\u001b[0;34m(\u001b[0m\u001b[0;34m(\u001b[0m\u001b[0;32mNone\u001b[0m\u001b[0;34m,\u001b[0m \u001b[0;36m2\u001b[0m\u001b[0;34m)\u001b[0m\u001b[0;34m,\u001b[0m \u001b[0mvertices\u001b[0m\u001b[0;34m=\u001b[0m\u001b[0mvertices\u001b[0m\u001b[0;34m)\u001b[0m\u001b[0;34m\u001b[0m\u001b[0;34m\u001b[0m\u001b[0m\n\u001b[1;32m    133\u001b[0m \u001b[0;34m\u001b[0m\u001b[0m\n",
      "\u001b[0;32m~/.local/lib/python3.6/site-packages/matplotlib/cbook/__init__.py\u001b[0m in \u001b[0;36m_to_unmasked_float_array\u001b[0;34m(x)\u001b[0m\n\u001b[1;32m   1284\u001b[0m     \u001b[0mvalues\u001b[0m \u001b[0mare\u001b[0m \u001b[0mconverted\u001b[0m \u001b[0mto\u001b[0m \u001b[0mnans\u001b[0m\u001b[0;34m.\u001b[0m\u001b[0;34m\u001b[0m\u001b[0;34m\u001b[0m\u001b[0m\n\u001b[1;32m   1285\u001b[0m     \"\"\"\n\u001b[0;32m-> 1286\u001b[0;31m     \u001b[0;32mif\u001b[0m \u001b[0mhasattr\u001b[0m\u001b[0;34m(\u001b[0m\u001b[0mx\u001b[0m\u001b[0;34m,\u001b[0m \u001b[0;34m'mask'\u001b[0m\u001b[0;34m)\u001b[0m\u001b[0;34m:\u001b[0m\u001b[0;34m\u001b[0m\u001b[0;34m\u001b[0m\u001b[0m\n\u001b[0m\u001b[1;32m   1287\u001b[0m         \u001b[0;32mreturn\u001b[0m \u001b[0mnp\u001b[0m\u001b[0;34m.\u001b[0m\u001b[0mma\u001b[0m\u001b[0;34m.\u001b[0m\u001b[0masarray\u001b[0m\u001b[0;34m(\u001b[0m\u001b[0mx\u001b[0m\u001b[0;34m,\u001b[0m \u001b[0mfloat\u001b[0m\u001b[0;34m)\u001b[0m\u001b[0;34m.\u001b[0m\u001b[0mfilled\u001b[0m\u001b[0;34m(\u001b[0m\u001b[0mnp\u001b[0m\u001b[0;34m.\u001b[0m\u001b[0mnan\u001b[0m\u001b[0;34m)\u001b[0m\u001b[0;34m\u001b[0m\u001b[0;34m\u001b[0m\u001b[0m\n\u001b[1;32m   1288\u001b[0m     \u001b[0;32melse\u001b[0m\u001b[0;34m:\u001b[0m\u001b[0;34m\u001b[0m\u001b[0;34m\u001b[0m\u001b[0m\n",
      "\u001b[0;31mKeyboardInterrupt\u001b[0m: "
     ]
    }
   ],
   "source": [
    "fig, ax = plt.subplots()\n",
    "data_phase = amps_all[::2,3] ## 4.8+pi/2\n",
    "_ = ax.hist(data_phase, range=(-2*np.pi,2*np.pi), bins=100)"
   ]
  },
  {
   "cell_type": "code",
   "execution_count": null,
   "metadata": {},
   "outputs": [],
   "source": []
  },
  {
   "cell_type": "code",
   "execution_count": 174,
   "metadata": {},
   "outputs": [],
   "source": [
    "np.save(\"all_200Vpp_ol_trap_alternate_sideband\", amps_all)"
   ]
  },
  {
   "cell_type": "code",
   "execution_count": 27,
   "metadata": {},
   "outputs": [
    {
     "data": {
      "application/vnd.jupyter.widget-view+json": {
       "model_id": "c7ab5936ab6b46bf8bc9449f3e2c4014",
       "version_major": 2,
       "version_minor": 0
      },
      "text/plain": [
       "Canvas(toolbar=Toolbar(toolitems=[('Home', 'Reset original view', 'home', 'home'), ('Back', 'Back to previous …"
      ]
     },
     "metadata": {},
     "output_type": "display_data"
    },
    {
     "name": "stdout",
     "output_type": "stream",
     "text": [
      "1st harmonic, A parameter: mean, std:  6.44059727924e-19 4.0429949334e-19\n",
      "1st harmonic, corrected A: mean, std:  6.44350521948e-19 3.24537364129e-19\n",
      "1st harmonic, A parameter[epsilon]: mean, std:  8.0653311491e-05 4.06209975897e-05\n"
     ]
    }
   ],
   "source": [
    "N = len(data)\n",
    "data_shifted = np.array([(data[i]+data[i-1])/2 for i in range(1,N)])\n",
    "data3_shifted = data_shifted-0.645*data2[:-1]\n",
    "\n",
    "_, ax= plt.subplots(figsize=(9.5,4))\n",
    "ax.scatter(np.arange(len(data3))*2*10/3600, data3, label='200Vpp-z-plus, A parameter')\n",
    "ax.scatter(np.arange(len(data3_shifted))*2*10/3600, data3_shifted, label='200Vpp-z, corrected A parameter', alpha=0.6)\n",
    "\n",
    "ax.plot(np.arange(len(data3))*2*10/3600, np.arange(len(data3))*0, '--k')\n",
    "ax.set(xlabel='Integration time [hr.]', ylabel=r'$\\epsilon$')\n",
    "ax.legend()\n",
    "print('1st harmonic, A parameter: mean, std: ', np.mean(data3), np.std(data3)/np.sqrt(len(data3)))\n",
    "print('1st harmonic, corrected A: mean, std: ', np.mean(data3_shifted), np.std(data3_shifted)/np.sqrt(len(data3_shifted)))\n",
    "print('1st harmonic, A parameter[epsilon]: mean, std: ', np.mean(data3_shifted)*to_epsilon, to_epsilon*np.std(data3_shifted)/np.sqrt(len(data3)))\n"
   ]
  },
  {
   "cell_type": "markdown",
   "metadata": {},
   "source": [
    "### Fitting"
   ]
  },
  {
   "cell_type": "code",
   "execution_count": null,
   "metadata": {},
   "outputs": [],
   "source": [
    "from scipy.optimize import curve_fit\n",
    "from scipy import asarray as ar,exp\n",
    "\n",
    "n_bins = 29\n",
    "range_pram = 0.02\n",
    "_,ax = plt.subplots()\n",
    "entries, bins, patches = ax.hist(data3*to_epsilon, bins=n_bins, range=(-range_pram, range_pram), label='200Vpp, all frequencies')\n",
    "# entries3, bins, patches = ax.hist(data2_1, bins=n_bins, label='150Vpp, 77kHz', alpha=0.6)\n",
    "ax.set(xlabel=r'Force [N]')\n",
    "# ax.legend()"
   ]
  },
  {
   "cell_type": "code",
   "execution_count": null,
   "metadata": {},
   "outputs": [],
   "source": [
    "data_new_trap = np.load('tmp.npy')"
   ]
  },
  {
   "cell_type": "code",
   "execution_count": null,
   "metadata": {},
   "outputs": [],
   "source": [
    "np.mean(data_hist), np.std(data_hist)/np.sqrt(len(data_hist))"
   ]
  },
  {
   "cell_type": "code",
   "execution_count": null,
   "metadata": {},
   "outputs": [],
   "source": [
    "n_bins = 21\n",
    "range_pram = 0.015\n",
    "data_hist = np.array(list(data_new_trap)+list(data3_shifted*to_epsilon))\n",
    "_,ax = plt.subplots()\n",
    "entries, bins, patches = ax.hist(data_hist, bins=n_bins, range=(-range_pram, range_pram), label='200Vpp, all frequencies')\n",
    "# entries3, bins, patches = ax.hist(data3, bins=n_bins, range=(-range_pram, range_pram), label='150Vpp, 77kHz', alpha=0.6)\n",
    "ax.set(xlabel=r'$\\epsilon$')\n",
    "ax.legend()"
   ]
  },
  {
   "cell_type": "code",
   "execution_count": null,
   "metadata": {},
   "outputs": [],
   "source": [
    "## gaussian fit to the histogram\n",
    "\n",
    "bins_fit =[(bins[i+1]-bins[i])/2+bins[i] for i in range(len(entries))]\n",
    "\n",
    "titles = ['', '', '']\n",
    "\n",
    "for i,ee in enumerate([entries]):\n",
    "    x = bins_fit\n",
    "    y= np.array(ee)\n",
    "    sigma_bin = np.sqrt(ee)\n",
    "    \n",
    "    n = len(x)                          #the number of data\n",
    "    mean = 0                  #note this correction\n",
    "    sigma = 0.03       #note this correction\n",
    "\n",
    "    def gaus(x,a,x0,sigma):\n",
    "        return a*np.exp(-(x-x0)**2/(2*sigma**2))\n",
    "\n",
    "    popt,pcov = curve_fit(gaus,x,y,p0=[1,mean,sigma])\n",
    "    ax.plot(x,gaus(x,*popt),'ro:',label='fit')\n",
    "\n",
    "    print(\"mean: \", popt[1], \" ,std (on the mean): \", popt[2]/np.sqrt(len(data)), \" ,sigma: \", popt[2])\n",
    "    print(\"std from the covariance matrix: \", np.sqrt(pcov[1,1]))\n",
    "    print('\\nNeutrality: ', 1/1.26e14*popt[2]/np.sqrt(len(data)))\n",
    "    print('Factor needed for neutrality best limit: ', 1/1.26e14*popt[2]/np.sqrt(len(data))/1e-21)"
   ]
  },
  {
   "cell_type": "code",
   "execution_count": null,
   "metadata": {},
   "outputs": [],
   "source": [
    "z_top_means = []\n",
    "z_bottom_mean = []\n",
    "z_top_std = []\n",
    "z_bottom_std = []\n",
    "\n",
    "bin_size = 10\n",
    "bins = len(data)//bin_size\n",
    "for i in range(bins):\n",
    "    z_top_means.append(np.mean(data[i*bin_size:(i+1)*bin_size]))\n",
    "    z_bottom_mean.append(np.mean(data2[i*bin_size:(i+1)*bin_size]))\n",
    "    z_top_std.append(np.std(data[i*bin_size:(i+1)*bin_size]))\n",
    "    z_bottom_std.append(np.std(data2[i*bin_size:(i+1)*bin_size]))\n",
    "z_top_means = np.array(z_top_means)\n",
    "z_top_std = np.array(z_top_std)\n",
    "z_bottom_mean = np.array(z_bottom_mean)\n",
    "z_bottom_std = np.array(z_bottom_std)"
   ]
  },
  {
   "cell_type": "code",
   "execution_count": null,
   "metadata": {},
   "outputs": [],
   "source": [
    "thresh = 0.015\n",
    "data3_eps = data3_shifted*to_epsilon\n",
    "data3_eps = data_hist\n",
    "thresh=3\n",
    "data3_filt = [dd for dd in data3_eps if dd<thresh if dd>-thresh]\n",
    "data3_filt = data_hist\n",
    "print(len(data3), len(data3_filt))\n",
    "print((len(data3_filt)-len(data3))/len(data3)*-100)"
   ]
  },
  {
   "cell_type": "code",
   "execution_count": null,
   "metadata": {},
   "outputs": [],
   "source": [
    "z_combine_means = []\n",
    "z_combine_std = []\n",
    "\n",
    "bin_size = 20\n",
    "bins = len(data3_filt)//bin_size\n",
    "for i in range(bins):\n",
    "    z_combine_means.append(np.mean(data3_filt[i*bin_size:(i+1)*bin_size]))\n",
    "    z_combine_std.append(np.std(data3_filt[i*bin_size:(i+1)*bin_size]))\n",
    "z_combine_means = np.array(z_combine_means)\n",
    "z_combine_std = np.array(z_combine_std)/np.sqrt(bin_size)"
   ]
  },
  {
   "cell_type": "code",
   "execution_count": 175,
   "metadata": {},
   "outputs": [
    {
     "data": {
      "application/vnd.jupyter.widget-view+json": {
       "model_id": "a4f851d5652d47969c533e818d03280c",
       "version_major": 2,
       "version_minor": 0
      },
      "text/plain": [
       "Canvas(toolbar=Toolbar(toolitems=[('Home', 'Reset original view', 'home', 'home'), ('Back', 'Back to previous …"
      ]
     },
     "metadata": {},
     "output_type": "display_data"
    },
    {
     "ename": "NameError",
     "evalue": "name 'z_combine_means' is not defined",
     "output_type": "error",
     "traceback": [
      "\u001b[0;31m---------------------------------------------------------------------------\u001b[0m",
      "\u001b[0;31mNameError\u001b[0m                                 Traceback (most recent call last)",
      "\u001b[0;32m<ipython-input-175-9775348cb3b4>\u001b[0m in \u001b[0;36m<module>\u001b[0;34m\u001b[0m\n\u001b[1;32m      1\u001b[0m \u001b[0m_\u001b[0m\u001b[0;34m,\u001b[0m\u001b[0max\u001b[0m \u001b[0;34m=\u001b[0m \u001b[0mplt\u001b[0m\u001b[0;34m.\u001b[0m\u001b[0msubplots\u001b[0m\u001b[0;34m(\u001b[0m\u001b[0mfigsize\u001b[0m\u001b[0;34m=\u001b[0m\u001b[0;34m(\u001b[0m\u001b[0;36m9.4\u001b[0m\u001b[0;34m,\u001b[0m\u001b[0;36m4\u001b[0m\u001b[0;34m)\u001b[0m\u001b[0;34m)\u001b[0m\u001b[0;34m\u001b[0m\u001b[0;34m\u001b[0m\u001b[0m\n\u001b[0;32m----> 2\u001b[0;31m \u001b[0miteration\u001b[0m \u001b[0;34m=\u001b[0m \u001b[0mnp\u001b[0m\u001b[0;34m.\u001b[0m\u001b[0marange\u001b[0m\u001b[0;34m(\u001b[0m\u001b[0mlen\u001b[0m\u001b[0;34m(\u001b[0m\u001b[0mz_combine_means\u001b[0m\u001b[0;34m)\u001b[0m\u001b[0;34m)\u001b[0m\u001b[0;34m*\u001b[0m\u001b[0;36m10\u001b[0m\u001b[0;34m*\u001b[0m\u001b[0mbin_size\u001b[0m\u001b[0;34m*\u001b[0m\u001b[0;36m2\u001b[0m\u001b[0;34m/\u001b[0m\u001b[0;36m3600\u001b[0m\u001b[0;34m\u001b[0m\u001b[0;34m\u001b[0m\u001b[0m\n\u001b[0m\u001b[1;32m      3\u001b[0m \u001b[0max\u001b[0m\u001b[0;34m.\u001b[0m\u001b[0mplot\u001b[0m\u001b[0;34m(\u001b[0m\u001b[0miteration\u001b[0m\u001b[0;34m,\u001b[0m \u001b[0miteration\u001b[0m\u001b[0;34m*\u001b[0m\u001b[0;36m0\u001b[0m\u001b[0;34m,\u001b[0m \u001b[0;34m'r--'\u001b[0m\u001b[0;34m)\u001b[0m\u001b[0;34m\u001b[0m\u001b[0;34m\u001b[0m\u001b[0m\n\u001b[1;32m      4\u001b[0m \u001b[0mtop_err\u001b[0m \u001b[0;34m=\u001b[0m \u001b[0mz_top_std\u001b[0m\u001b[0;34m/\u001b[0m\u001b[0mnp\u001b[0m\u001b[0;34m.\u001b[0m\u001b[0msqrt\u001b[0m\u001b[0;34m(\u001b[0m\u001b[0mbin_size\u001b[0m\u001b[0;34m)\u001b[0m\u001b[0;34m\u001b[0m\u001b[0;34m\u001b[0m\u001b[0m\n\u001b[1;32m      5\u001b[0m \u001b[0mbottom_err\u001b[0m \u001b[0;34m=\u001b[0m \u001b[0mz_bottom_std\u001b[0m\u001b[0;34m/\u001b[0m\u001b[0mnp\u001b[0m\u001b[0;34m.\u001b[0m\u001b[0msqrt\u001b[0m\u001b[0;34m(\u001b[0m\u001b[0mbin_size\u001b[0m\u001b[0;34m)\u001b[0m\u001b[0;34m\u001b[0m\u001b[0;34m\u001b[0m\u001b[0m\n",
      "\u001b[0;31mNameError\u001b[0m: name 'z_combine_means' is not defined"
     ]
    }
   ],
   "source": [
    "_,ax = plt.subplots(figsize=(9.4,4))\n",
    "iteration = np.arange(len(z_combine_means))*10*bin_size*2/3600\n",
    "ax.plot(iteration, iteration*0, 'r--')\n",
    "top_err = z_top_std/np.sqrt(bin_size)\n",
    "bottom_err = z_bottom_std/np.sqrt(bin_size)\n",
    "A = z_top_means-z_bottom_mean*0.66\n",
    "A_err = np.sqrt(top_err**2+top_err**2*0.66*0.66)\n",
    "# ax.errorbar(iteration, z_top_means, yerr=top_err, fmt='o', label='top electrode')\n",
    "# ax.errorbar(iteration, z_bottom_mean*0.66, yerr=bottom_err, fmt='o', label='bottom electrode')\n",
    "# ax.errorbar(iteration, A, yerr=A_err, fmt='o', label='A parameter')\n",
    "ax.errorbar(iteration, z_combine_means, yerr=z_combine_std, fmt='o', label='A parameter', alpha=0.3)\n",
    "# ax.errorbar(iteration, z_combine_means_2, yerr=z_combine_std_2, fmt='o', label='A parameter', alpha=0.3)\n",
    "ax.legend()\n",
    "ax.set(xlabel='Measuring time [hr.]', ylabel='Measured force [N]')\n",
    "# ax.errorbar(iteration, (z_top_means-z_bottom_mean*0.66)*to_epsilon, yerr=z_bottom_std/np.sqrt(10)*to_epsilon, fmt='o')"
   ]
  },
  {
   "cell_type": "code",
   "execution_count": null,
   "metadata": {},
   "outputs": [],
   "source": [
    "A_epsion = z_combine_means\n",
    "A_err_epsilon = z_combine_std\n",
    "def calculate_pl(force_):\n",
    "    chi2 = np.power((A_epsion-force_)/A_err_epsilon, 2)\n",
    "    return np.sum(chi2)"
   ]
  },
  {
   "cell_type": "code",
   "execution_count": null,
   "metadata": {},
   "outputs": [],
   "source": [
    "_,ax = plt.subplots()\n",
    "pl_range = np.arange(-3e-4,3e-4,2e-6)\n",
    "pl = np.array([calculate_pl(pl_range_) for pl_range_ in pl_range])\n",
    "ax.plot(pl_range*100000, pl-np.min(pl), 'o--')\n",
    "ax.plot(pl_range*100000, pl_range*0+2.7, 'r--')\n",
    "ax.set(xlabel=r'$\\epsilon [10^5]$', ylabel='PL')"
   ]
  },
  {
   "cell_type": "code",
   "execution_count": null,
   "metadata": {},
   "outputs": [],
   "source": [
    "_,ax = plt.subplots()\n",
    "pl_range = np.arange(-2e-4,1e-4,1e-5)\n",
    "pl = np.array([calculate_pl(pl_range_) for pl_range_ in pl_range])\n",
    "ax.plot(pl_range*100000, pl-np.min(pl), 'o--', label='-2log(likelihood)')\n",
    "ax.plot(pl_range*100000, pl_range*0+2.7, 'r--')\n",
    "ax.set(xlabel=r'$\\epsilon [10^5]$', ylabel='PL',)\n",
    "\n",
    "pl_range_plus = np.arange(0,1e-4,1e-5)\n",
    "pl_plus = np.array([calculate_pl(pl_range_) for pl_range_ in pl_range_plus])\n",
    "ax.plot(pl_range_plus*100000, pl_plus-np.min(pl_plus), 'o--', label='profile likelihood')\n",
    "\n",
    "pl_range_minus = np.arange(-2e-4,pl_range[np.argmin(pl)],1e-5)\n",
    "pl_minus = np.array([calculate_pl(pl_range_) for pl_range_ in pl_range_minus])\n",
    "ax.plot(pl_range_minus*100000, pl_minus-np.min(pl_minus), 'o--', label='profile likelihood')\n",
    "ax.set(xlim=(-15,8), ylim=(-0.1,6))\n",
    "ax.legend()\n",
    "print('mean ', pl_range[np.argmin(pl)])\n",
    "print('limit ', np.interp(2.71, (pl_minus-np.min(pl_minus))[::-1], pl_range_minus[::-1]), np.interp(2.71, pl_plus-np.min(pl_plus), pl_range_plus))"
   ]
  },
  {
   "cell_type": "code",
   "execution_count": null,
   "metadata": {},
   "outputs": [],
   "source": [
    "_,ax = plt.subplots()\n",
    "pl_range_plus = np.arange(0,1e-4,1e-5)\n",
    "pl_plus = np.array([calculate_pl(pl_range_) for pl_range_ in pl_range_plus])\n",
    "ax.plot(pl_range_plus*100000, pl_plus-np.min(pl_plus), 'o--')\n",
    "ax.plot(pl_range_plus*100000, pl_range_plus*0+2.7, 'r--')\n",
    "\n",
    "ax.set(xlabel=r'$\\epsilon [10^5]$', ylabel='PL')\n",
    "pl_range[np.argmin(pl)], np.interp(2.71, pl_plus-np.min(pl_plus), pl_range_plus)"
   ]
  },
  {
   "cell_type": "code",
   "execution_count": null,
   "metadata": {},
   "outputs": [],
   "source": [
    "_,ax = plt.subplots()\n",
    "pl_range_minus = np.arange(-2e-4,pl_range[np.argmin(pl)],1e-5)\n",
    "pl_minus = np.array([calculate_pl(pl_range_) for pl_range_ in pl_range_minus])\n",
    "ax.plot(pl_range_minus*100000, pl_minus-np.min(pl_minus), 'o--')\n",
    "ax.plot(pl_range_minus*100000, pl_range_minus*0+2.7, 'r--')\n",
    "\n",
    "ax.set(xlabel=r'$\\epsilon [10^5]$', ylabel='PL')\n",
    "pl_range[np.argmin(pl)], np.interp(2.71, (pl_minus-np.min(pl_minus))[::-1], pl_range_minus[::-1])"
   ]
  },
  {
   "cell_type": "code",
   "execution_count": null,
   "metadata": {},
   "outputs": [],
   "source": []
  },
  {
   "cell_type": "code",
   "execution_count": null,
   "metadata": {},
   "outputs": [],
   "source": []
  }
 ],
 "metadata": {
  "kernelspec": {
   "display_name": "Python 3",
   "language": "python",
   "name": "python3"
  },
  "language_info": {
   "codemirror_mode": {
    "name": "ipython",
    "version": 3
   },
   "file_extension": ".py",
   "mimetype": "text/x-python",
   "name": "python",
   "nbconvert_exporter": "python",
   "pygments_lexer": "ipython3",
   "version": "3.6.9"
  }
 },
 "nbformat": 4,
 "nbformat_minor": 4
}
