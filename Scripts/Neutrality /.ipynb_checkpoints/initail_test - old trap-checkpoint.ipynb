{
 "cells": [
  {
   "cell_type": "code",
   "execution_count": 2,
   "metadata": {},
   "outputs": [],
   "source": [
    "import numpy as np\n",
    "import matplotlib.pyplot as plt\n",
    "import matplotlib\n",
    "from scipy import signal\n",
    "import random\n",
    "\n",
    "import h5py\n",
    "from IPython.utils import io\n",
    "\n",
    "from joblib import Parallel, delayed\n",
    "from tqdm import tqdm\n",
    "import sys"
   ]
  },
  {
   "cell_type": "code",
   "execution_count": 3,
   "metadata": {},
   "outputs": [],
   "source": [
    "%matplotlib widget\n",
    "\n",
    "%reload_ext autoreload\n",
    "%autoreload 2"
   ]
  },
  {
   "cell_type": "code",
   "execution_count": 4,
   "metadata": {},
   "outputs": [],
   "source": [
    "sys.path.append('../../../../nadavp/new_trap/Tools/')\n",
    "sys.path.append('../../../../nadavp/new_trap/Tools/StatFramework/')\n",
    "sys.path.append('../../../../nadavp/opt_lev_analysis/lib/')\n",
    "import BeadDataFile\n",
    "from discharge_tools import *"
   ]
  },
  {
   "cell_type": "code",
   "execution_count": 5,
   "metadata": {},
   "outputs": [],
   "source": [
    "import bead_util as bu\n",
    "# import calib_util as cal\n",
    "import transfer_func_util as tf\n",
    "import configuration as config"
   ]
  },
  {
   "cell_type": "code",
   "execution_count": 11,
   "metadata": {},
   "outputs": [],
   "source": [
    "# filename = r'/data/old_trap/20210603/bead1/1_5mbar_powfb_xzcool.h5'\n",
    "filename = r'/data/old_trap/20210712/bead1/turbo_powfb_xyzcool_2.h5'\n",
    "filename = r'/data/old_trap/20210817/bead1/turbo_powfb_xyzcool_11.h5'\n",
    "\n",
    "df = bu.DataFile();\n",
    "df.load(filename);\n",
    "# df.load_other_data()\n",
    "# step_file_objs.append(df);"
   ]
  },
  {
   "cell_type": "code",
   "execution_count": 12,
   "metadata": {},
   "outputs": [],
   "source": [
    "fsamp=5000\n",
    "res = 5000\n",
    "\n",
    "data=df.pos_data\n",
    "data_det=signal.detrend(data)\n",
    "y_1000=data_det[1]\n",
    "z_1000=data_det[2]\n",
    "\n",
    "xpsd, freqs = matplotlib.mlab.psd(data_det[0], Fs = fsamp, NFFT = res)\n",
    "ypsd, freqs = matplotlib.mlab.psd(y_1000, Fs = fsamp, NFFT = res)\n",
    "zpsd, freqs = matplotlib.mlab.psd(z_1000, Fs = fsamp, NFFT = res)"
   ]
  },
  {
   "cell_type": "code",
   "execution_count": 13,
   "metadata": {},
   "outputs": [
    {
     "data": {
      "application/vnd.jupyter.widget-view+json": {
       "model_id": "f25b5f4c7f2b4ecf86ac86dcfd5e32a5",
       "version_major": 2,
       "version_minor": 0
      },
      "text/plain": [
       "Canvas(toolbar=Toolbar(toolitems=[('Home', 'Reset original view', 'home', 'home'), ('Back', 'Back to previous …"
      ]
     },
     "metadata": {},
     "output_type": "display_data"
    },
    {
     "name": "stdout",
     "output_type": "stream",
     "text": [
      "0.0 maximum x\n",
      "0.0 maximum y\n",
      "33.8626405339 minimum x\n",
      "13.5063361056 minimum y\n"
     ]
    }
   ],
   "source": [
    "_,ax = plt.subplots()\n",
    "ax.loglog(freqs, xpsd, '.-', label=\"x\",markersize=1,linewidth=0.5)\n",
    "ax.loglog(freqs, ypsd, '.-', label=\"y\",markersize=1,linewidth=0.5)\n",
    "ax.loglog(freqs, zpsd*10, '.-', label=\"z*10\",markersize=1,linewidth=0.5)\n",
    "ax.legend()\n",
    "ax.set_xlabel('Frequency [Hz]')\n",
    "ax.set_ylabel('PSD [a.u.]')\n",
    "#plt.xlim(1,2500)\n",
    "#plt.ylim(1e6,1e10)\n",
    "plt.grid(True)\n",
    "print(freqs[np.argmax(xpsd)], \"maximum x\")\n",
    "print(freqs[np.argmax(ypsd)], \"maximum y\")\n",
    "print(np.min(xpsd), \"minimum x\")\n",
    "print(np.min(ypsd), \"minimum y\")"
   ]
  },
  {
   "cell_type": "code",
   "execution_count": null,
   "metadata": {},
   "outputs": [],
   "source": [
    "335*5"
   ]
  },
  {
   "cell_type": "code",
   "execution_count": null,
   "metadata": {},
   "outputs": [],
   "source": []
  },
  {
   "cell_type": "code",
   "execution_count": 60,
   "metadata": {},
   "outputs": [],
   "source": [
    "filename = r'/data/old_trap/20210825/bead1/5mbar_powfb_xyzcool_noND.h5'\n",
    "filename2 = r'/data/old_trap/20210825/bead1/5mbar_powfb_xyzcool_noND_2.h5'\n",
    "\n",
    "df = bu.DataFile();\n",
    "df.load(filename);\n",
    "df2 = bu.DataFile();\n",
    "df2.load(filename2);\n",
    "\n",
    "data=df.pos_data\n",
    "data_det=signal.detrend(data)\n",
    "xpsd, freqs = matplotlib.mlab.psd(data_det[0], Fs = fsamp, NFFT = res)\n",
    "ypsd, freqs = matplotlib.mlab.psd(data_det[1], Fs = fsamp, NFFT = res)\n",
    "zpsd, freqs = matplotlib.mlab.psd(data_det[2], Fs = fsamp, NFFT = res)\n",
    "\n",
    "\n",
    "data2=df2.pos_data\n",
    "data_det2=signal.detrend(data2)\n",
    "xpsd2, freqs = matplotlib.mlab.psd(data_det2[0], Fs = fsamp, NFFT = res)\n",
    "ypsd2, freqs = matplotlib.mlab.psd(data_det2[1], Fs = fsamp, NFFT = res)\n",
    "zpsd2, freqs = matplotlib.mlab.psd(data_det2[2], Fs = fsamp, NFFT = res)"
   ]
  },
  {
   "cell_type": "code",
   "execution_count": 61,
   "metadata": {},
   "outputs": [
    {
     "data": {
      "application/vnd.jupyter.widget-view+json": {
       "model_id": "b9544650bb144fe19a7455bc11ca0d85",
       "version_major": 2,
       "version_minor": 0
      },
      "text/plain": [
       "Canvas(toolbar=Toolbar(toolitems=[('Home', 'Reset original view', 'home', 'home'), ('Back', 'Back to previous …"
      ]
     },
     "metadata": {},
     "output_type": "display_data"
    },
    {
     "name": "stdout",
     "output_type": "stream",
     "text": [
      "0.0 maximum x\n",
      "0.0 maximum y\n",
      "20.6083383878 minimum x\n",
      "14.3745276356 minimum y\n"
     ]
    }
   ],
   "source": [
    "_,ax = plt.subplots()\n",
    "ax.loglog(freqs, xpsd, '.-', label=\"5um Bang's\",markersize=1,linewidth=0.5)\n",
    "ax.loglog(freqs, xpsd2, '.-', label=\"7.5um German\",markersize=1,linewidth=0.5)\n",
    "# ax.loglog(freqs, zpsd*10, '.-', label=\"z*10\",markersize=1,linewidth=0.5)\n",
    "ax.legend()\n",
    "ax.set_xlabel('Frequency [Hz]')\n",
    "ax.set_ylabel(r'PSD [bits$^2/Hz.$]')\n",
    "#plt.xlim(1,2500)\n",
    "#plt.ylim(1e6,1e10)\n",
    "plt.grid(True)\n",
    "print(freqs[np.argmax(xpsd)], \"maximum x\")\n",
    "print(freqs[np.argmax(ypsd)], \"maximum y\")\n",
    "print(np.min(xpsd), \"minimum x\")\n",
    "print(np.min(ypsd), \"minimum y\")"
   ]
  },
  {
   "cell_type": "code",
   "execution_count": 62,
   "metadata": {},
   "outputs": [
    {
     "data": {
      "application/vnd.jupyter.widget-view+json": {
       "model_id": "58e749b8e78f4867b91f4cb32b5cfaa8",
       "version_major": 2,
       "version_minor": 0
      },
      "text/plain": [
       "Canvas(toolbar=Toolbar(toolitems=[('Home', 'Reset original view', 'home', 'home'), ('Back', 'Back to previous …"
      ]
     },
     "metadata": {},
     "output_type": "display_data"
    },
    {
     "name": "stdout",
     "output_type": "stream",
     "text": [
      "0.0 maximum x\n",
      "0.0 maximum y\n",
      "20.6083383878 minimum x\n",
      "14.3745276356 minimum y\n"
     ]
    }
   ],
   "source": [
    "_,ax = plt.subplots()\n",
    "ax.loglog(freqs, ypsd, '.-', label=\"1st file\",markersize=1,linewidth=0.5)\n",
    "ax.loglog(freqs, ypsd2, '.-', label=\"2nd file\",markersize=1,linewidth=0.5)\n",
    "# ax.loglog(freqs, zpsd*10, '.-', label=\"z*10\",markersize=1,linewidth=0.5)\n",
    "ax.legend()\n",
    "ax.set_xlabel('Frequency [Hz]')\n",
    "ax.set_ylabel('PSD [a.u.]')\n",
    "#plt.xlim(1,2500)\n",
    "#plt.ylim(1e6,1e10)\n",
    "plt.grid(True)\n",
    "print(freqs[np.argmax(xpsd)], \"maximum x\")\n",
    "print(freqs[np.argmax(ypsd)], \"maximum y\")\n",
    "print(np.min(xpsd), \"minimum x\")\n",
    "print(np.min(ypsd), \"minimum y\")"
   ]
  },
  {
   "cell_type": "code",
   "execution_count": null,
   "metadata": {},
   "outputs": [],
   "source": []
  },
  {
   "cell_type": "code",
   "execution_count": 44,
   "metadata": {},
   "outputs": [],
   "source": [
    "amp_bits = -245.761425313\n",
    "amp_bits_bangs = -170\n",
    "scale = np.abs(1/(amp_bits/(50/4e-3*0.61*1.6e-19)))\n",
    "scale_bangs = scale*amp_bits/amp_bits_bangs\n",
    "scale_z = scale/3771*4931"
   ]
  },
  {
   "cell_type": "code",
   "execution_count": 54,
   "metadata": {},
   "outputs": [],
   "source": [
    "\n",
    "data=df.pos_data\n",
    "data_det=signal.detrend(data)\n",
    "xpsd_N, freqs = matplotlib.mlab.psd(data_det[0]*scale_bangs, Fs = fsamp, NFFT = res)\n",
    "\n",
    "data2=df2.pos_data\n",
    "data_det2=signal.detrend(data2)\n",
    "xpsd2_N, freqs = matplotlib.mlab.psd(data_det2[0]*scale, Fs = fsamp, NFFT = res)\n",
    "ypsd2_N, freqs = matplotlib.mlab.psd(data_det2[1]*scale, Fs = fsamp, NFFT = res)\n",
    "zpsd2_N, freqs = matplotlib.mlab.psd(data_det2[2]*scale_z, Fs = fsamp, NFFT = res)"
   ]
  },
  {
   "cell_type": "code",
   "execution_count": 43,
   "metadata": {},
   "outputs": [
    {
     "data": {
      "application/vnd.jupyter.widget-view+json": {
       "model_id": "7285c5879372484aa478ab1ea2f4782f",
       "version_major": 2,
       "version_minor": 0
      },
      "text/plain": [
       "Canvas(toolbar=Toolbar(toolitems=[('Home', 'Reset original view', 'home', 'home'), ('Back', 'Back to previous …"
      ]
     },
     "metadata": {},
     "output_type": "display_data"
    },
    {
     "name": "stdout",
     "output_type": "stream",
     "text": [
      "0.0 maximum x\n",
      "1.0 maximum y\n",
      "3.64286716541 minimum x\n",
      "5.27229796518 minimum y\n"
     ]
    }
   ],
   "source": [
    "_,ax = plt.subplots()\n",
    "ax.semilogy(freqs, np.sqrt(xpsd_N), '.-', label=\"Bang's 5um\",markersize=1,linewidth=0.5)\n",
    "ax.semilogy(freqs, np.sqrt(xpsd2_N), '.-', label=\"German 7.5um\",markersize=1,linewidth=0.5)\n",
    "ax.legend()\n",
    "ax.set_xlabel('Frequency [Hz]')\n",
    "ax.set_ylabel(r'ASD [N/$\\sqrt{Hz.}$]')\n",
    "plt.xlim(1,500)\n",
    "#plt.ylim(1e6,1e10)\n",
    "plt.grid(True)\n",
    "print(freqs[np.argmax(xpsd)], \"maximum x\")\n",
    "print(freqs[np.argmax(ypsd)], \"maximum y\")\n",
    "print(np.min(xpsd), \"minimum x\")\n",
    "print(np.min(ypsd), \"minimum y\")"
   ]
  },
  {
   "cell_type": "code",
   "execution_count": 56,
   "metadata": {},
   "outputs": [
    {
     "data": {
      "application/vnd.jupyter.widget-view+json": {
       "model_id": "36bd5db1e1cd4cfca92b3ad91ad77013",
       "version_major": 2,
       "version_minor": 0
      },
      "text/plain": [
       "Canvas(toolbar=Toolbar(toolitems=[('Home', 'Reset original view', 'home', 'home'), ('Back', 'Back to previous …"
      ]
     },
     "metadata": {},
     "output_type": "display_data"
    }
   ],
   "source": [
    "_,ax = plt.subplots()\n",
    "ax.loglog(freqs, np.sqrt(xpsd2_N), '.-', label=\"German 7.5um - X\",markersize=1,linewidth=0.5)\n",
    "ax.loglog(freqs, np.sqrt(ypsd2_N), '.-', label=\"German 7.5um - Y\",markersize=1,linewidth=0.5)\n",
    "ax.loglog(freqs, np.sqrt(zpsd2_N), '.-', label=\"German 7.5um - Z\",markersize=1,linewidth=0.5)\n",
    "\n",
    "ax.legend()\n",
    "ax.set_xlabel('Frequency [Hz]')\n",
    "ax.set_ylabel(r'ASD [N/$\\sqrt{Hz.}$]')\n",
    "# plt.xlim(1,500)\n",
    "#plt.ylim(1e6,1e10)\n",
    "plt.grid(True)"
   ]
  }
 ],
 "metadata": {
  "kernelspec": {
   "display_name": "Python 3",
   "language": "python",
   "name": "python3"
  },
  "language_info": {
   "codemirror_mode": {
    "name": "ipython",
    "version": 3
   },
   "file_extension": ".py",
   "mimetype": "text/x-python",
   "name": "python",
   "nbconvert_exporter": "python",
   "pygments_lexer": "ipython3",
   "version": "3.6.9"
  }
 },
 "nbformat": 4,
 "nbformat_minor": 4
}
