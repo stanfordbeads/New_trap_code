{
 "cells": [
  {
   "cell_type": "code",
   "execution_count": 1,
   "metadata": {},
   "outputs": [],
   "source": [
    "import numpy as np\n",
    "import matplotlib.pyplot as plt\n",
    "import matplotlib\n",
    "from scipy import signal\n",
    "import random\n",
    "\n",
    "import h5py\n",
    "from IPython.utils import io\n",
    "\n",
    "from joblib import Parallel, delayed\n",
    "from tqdm import tqdm"
   ]
  },
  {
   "cell_type": "code",
   "execution_count": 2,
   "metadata": {},
   "outputs": [],
   "source": [
    "%matplotlib widget\n",
    "\n",
    "%reload_ext autoreload\n",
    "%autoreload 2"
   ]
  },
  {
   "cell_type": "code",
   "execution_count": 3,
   "metadata": {},
   "outputs": [],
   "source": [
    "import sys\n",
    "sys.path.append('../../../../nadavp/new_trap/Tools/')\n",
    "sys.path.append('../../../../nadavp/new_trap/Tools/StatFramework/')\n",
    "sys.path.append('../../../../nadavp/opt_lev_analysis/lib/')\n",
    "sys.path.append('../../../../nadavp/opt_lev_analysis/scripts/calibration/')\n",
    "import BeadDataFile\n",
    "from discharge_tools import *"
   ]
  },
  {
   "cell_type": "code",
   "execution_count": 4,
   "metadata": {},
   "outputs": [],
   "source": [
    "from likelihood_calculator import likelihood_analyser\n",
    "from likelihood_calculator import GravityFramework\n",
    "from likelihood_calculator import auxiliary_functions as aux\n",
    "gfw = GravityFramework.GravityFramework()"
   ]
  },
  {
   "cell_type": "code",
   "execution_count": 5,
   "metadata": {},
   "outputs": [],
   "source": [
    "import bead_util as bu\n",
    "# import calib_util as cal\n",
    "import transfer_func_util as tf\n",
    "import configuration as config"
   ]
  },
  {
   "cell_type": "markdown",
   "metadata": {},
   "source": [
    "### Discharge data"
   ]
  },
  {
   "cell_type": "code",
   "execution_count": 6,
   "metadata": {},
   "outputs": [],
   "source": [
    "step_cal_dir = r'/data/old_trap/20210429/bead1/discharge/fine_after_recharge/'\n",
    "max_file = 500"
   ]
  },
  {
   "cell_type": "code",
   "execution_count": 7,
   "metadata": {},
   "outputs": [
    {
     "data": {
      "text/plain": [
       "135"
      ]
     },
     "execution_count": 7,
     "metadata": {},
     "output_type": "execute_result"
    }
   ],
   "source": [
    "step_cal_files = []\n",
    "for root, dirnames, filenames in os.walk(step_cal_dir):\n",
    "    for filename in fnmatch.filter(filenames, '*' + config.extensions['data']):\n",
    "        if '_fpga.h5' in filename:\n",
    "            continue\n",
    "        step_cal_files.append(os.path.join(root, filename))\n",
    "step_cal_files.sort(key = bu.find_str)\n",
    "len(step_cal_files)"
   ]
  },
  {
   "cell_type": "code",
   "execution_count": 8,
   "metadata": {},
   "outputs": [],
   "source": [
    "# Do the step calibration\n",
    "step_file_objs = []\n",
    "for filname in step_cal_files[1:max_file]:\n",
    "    df = bu.DataFile();\n",
    "    df.load(filname);\n",
    "    df.load_other_data()\n",
    "    step_file_objs.append(df);"
   ]
  },
  {
   "cell_type": "code",
   "execution_count": 9,
   "metadata": {},
   "outputs": [],
   "source": [
    "ll = likelihood_analyser.LikelihoodAnalyser()\n",
    "bandwidth = 2\n",
    "decimate = 10\n",
    "drive_freq = 41\n",
    "fsamp = 5000\n",
    "def func1_scale(i):\n",
    "    bb = step_file_objs[i]\n",
    "    fit_kwargs = {'A': 0, 'f': drive_freq, 'phi': 0, \n",
    "                  'error_A': 1, 'error_f': 1, 'error_phi': 0.5, 'errordef': 1,\n",
    "                  'limit_phi': [-2 * np.pi, 2 * np.pi], \n",
    "                  'limit_A': [0, 100000], \n",
    "                  'print_level': 0, 'fix_f': True, 'fix_phi': False}\n",
    "\n",
    "    frequency = fit_kwargs['f']\n",
    "\n",
    "    b, a = signal.butter(3, [2.*(drive_freq-bandwidth/2.)/fsamp, 2.*(drive_freq+bandwidth/2.)/fsamp ], btype = 'bandpass')\n",
    "    bb.load_other_data()\n",
    "    xx2 = signal.filtfilt(b, a, bb.pos_data[0])[::decimate]\n",
    "    \n",
    "    m1_tmp = ll.find_mle_sin(xx2, fsamp=5000/decimate, noise_rms=1, plot=False, suppress_print=True, **fit_kwargs)\n",
    "    \n",
    "    return m1_tmp.values[0]"
   ]
  },
  {
   "cell_type": "code",
   "execution_count": 10,
   "metadata": {},
   "outputs": [
    {
     "data": {
      "text/plain": [
       "11164.571270053859"
      ]
     },
     "execution_count": 10,
     "metadata": {},
     "output_type": "execute_result"
    }
   ],
   "source": [
    "func1_scale(0)"
   ]
  },
  {
   "cell_type": "code",
   "execution_count": 13,
   "metadata": {
    "scrolled": true
   },
   "outputs": [
    {
     "name": "stdout",
     "output_type": "stream",
     "text": [
      "0 / 135\n",
      "1 / 135\n",
      "2 / 135\n",
      "3 / 135\n",
      "4 / 135\n",
      "5 / 135\n",
      "6 / 135\n",
      "7 / 135\n",
      "8 / 135\n",
      "9 / 135\n",
      "10 / 135\n",
      "11 / 135\n",
      "12 / 135\n",
      "13 / 135\n",
      "14 / 135\n",
      "15 / 135\n",
      "16 / 135\n",
      "17 / 135\n",
      "18 / 135\n",
      "19 / 135\n",
      "20 / 135\n",
      "21 / 135\n",
      "22 / 135\n",
      "23 / 135\n",
      "24 / 135\n",
      "25 / 135\n",
      "26 / 135\n",
      "27 / 135\n",
      "28 / 135\n",
      "29 / 135\n",
      "30 / 135\n",
      "31 / 135\n",
      "32 / 135\n",
      "33 / 135\n",
      "34 / 135\n",
      "35 / 135\n",
      "36 / 135\n",
      "37 / 135\n",
      "38 / 135\n",
      "39 / 135\n",
      "40 / 135\n",
      "41 / 135\n",
      "42 / 135\n",
      "43 / 135\n",
      "44 / 135\n",
      "45 / 135\n",
      "46 / 135\n",
      "47 / 135\n",
      "48 / 135\n",
      "49 / 135\n",
      "50 / 135\n",
      "51 / 135\n",
      "52 / 135\n",
      "53 / 135\n",
      "54 / 135\n",
      "55 / 135\n",
      "56 / 135\n",
      "57 / 135\n",
      "58 / 135\n",
      "59 / 135\n",
      "60 / 135\n",
      "61 / 135\n",
      "62 / 135\n",
      "63 / 135\n",
      "64 / 135\n",
      "65 / 135\n",
      "66 / 135\n",
      "67 / 135\n",
      "68 / 135\n",
      "69 / 135\n",
      "70 / 135\n",
      "71 / 135\n",
      "72 / 135\n",
      "73 / 135\n",
      "74 / 135\n",
      "75 / 135\n",
      "76 / 135\n",
      "77 / 135\n",
      "78 / 135\n",
      "79 / 135\n",
      "80 / 135\n",
      "81 / 135\n",
      "82 / 135\n",
      "83 / 135\n",
      "84 / 135\n",
      "85 / 135\n",
      "86 / 135\n",
      "87 / 135\n",
      "88 / 135\n",
      "89 / 135\n",
      "90 / 135\n",
      "91 / 135\n",
      "92 / 135\n",
      "93 / 135\n",
      "94 / 135\n",
      "95 / 135\n",
      "96 / 135\n",
      "97 / 135\n",
      "98 / 135\n",
      "99 / 135\n",
      "100 / 135\n",
      "101 / 135\n",
      "102 / 135\n",
      "103 / 135\n",
      "104 / 135\n",
      "105 / 135\n",
      "106 / 135\n",
      "107 / 135\n",
      "108 / 135\n",
      "109 / 135\n",
      "110 / 135\n",
      "111 / 135\n",
      "112 / 135\n",
      "113 / 135\n",
      "114 / 135\n",
      "115 / 135\n",
      "116 / 135\n",
      "117 / 135\n",
      "118 / 135\n",
      "119 / 135\n",
      "120 / 135\n",
      "121 / 135\n",
      "122 / 135\n",
      "123 / 135\n",
      "124 / 135\n",
      "125 / 135\n",
      "126 / 135\n",
      "127 / 135\n",
      "128 / 135\n",
      "129 / 135\n",
      "130 / 135\n",
      "131 / 135\n",
      "132 / 135\n",
      "133 / 135\n",
      "134 / 135\n"
     ]
    },
    {
     "ename": "IndexError",
     "evalue": "list index out of range",
     "output_type": "error",
     "traceback": [
      "\u001b[0;31m---------------------------------------------------------------------------\u001b[0m",
      "\u001b[0;31mIndexError\u001b[0m                                Traceback (most recent call last)",
      "\u001b[0;32m<ipython-input-13-38ca6b59bf08>\u001b[0m in \u001b[0;36m<module>\u001b[0;34m\u001b[0m\n\u001b[1;32m      2\u001b[0m \u001b[0;32mfor\u001b[0m \u001b[0mi\u001b[0m \u001b[0;32min\u001b[0m \u001b[0mrange\u001b[0m\u001b[0;34m(\u001b[0m\u001b[0;36m135\u001b[0m\u001b[0;34m)\u001b[0m\u001b[0;34m:\u001b[0m\u001b[0;34m\u001b[0m\u001b[0;34m\u001b[0m\u001b[0m\n\u001b[1;32m      3\u001b[0m     \u001b[0mprint\u001b[0m\u001b[0;34m(\u001b[0m\u001b[0mi\u001b[0m\u001b[0;34m,\u001b[0m\u001b[0;34m'/'\u001b[0m\u001b[0;34m,\u001b[0m\u001b[0mlen\u001b[0m\u001b[0;34m(\u001b[0m\u001b[0mstep_cal_files\u001b[0m\u001b[0;34m)\u001b[0m\u001b[0;34m)\u001b[0m\u001b[0;34m\u001b[0m\u001b[0;34m\u001b[0m\u001b[0m\n\u001b[0;32m----> 4\u001b[0;31m     \u001b[0mamps3\u001b[0m\u001b[0;34m.\u001b[0m\u001b[0mappend\u001b[0m\u001b[0;34m(\u001b[0m\u001b[0mfunc1_scale\u001b[0m\u001b[0;34m(\u001b[0m\u001b[0mi\u001b[0m\u001b[0;34m)\u001b[0m\u001b[0;34m)\u001b[0m\u001b[0;34m\u001b[0m\u001b[0;34m\u001b[0m\u001b[0m\n\u001b[0m",
      "\u001b[0;32m<ipython-input-9-ca463bc30928>\u001b[0m in \u001b[0;36mfunc1_scale\u001b[0;34m(i)\u001b[0m\n\u001b[1;32m      5\u001b[0m \u001b[0mfsamp\u001b[0m \u001b[0;34m=\u001b[0m \u001b[0;36m5000\u001b[0m\u001b[0;34m\u001b[0m\u001b[0;34m\u001b[0m\u001b[0m\n\u001b[1;32m      6\u001b[0m \u001b[0;32mdef\u001b[0m \u001b[0mfunc1_scale\u001b[0m\u001b[0;34m(\u001b[0m\u001b[0mi\u001b[0m\u001b[0;34m)\u001b[0m\u001b[0;34m:\u001b[0m\u001b[0;34m\u001b[0m\u001b[0;34m\u001b[0m\u001b[0m\n\u001b[0;32m----> 7\u001b[0;31m     \u001b[0mbb\u001b[0m \u001b[0;34m=\u001b[0m \u001b[0mstep_file_objs\u001b[0m\u001b[0;34m[\u001b[0m\u001b[0mi\u001b[0m\u001b[0;34m]\u001b[0m\u001b[0;34m\u001b[0m\u001b[0;34m\u001b[0m\u001b[0m\n\u001b[0m\u001b[1;32m      8\u001b[0m     fit_kwargs = {'A': 0, 'f': drive_freq, 'phi': 0, \n\u001b[1;32m      9\u001b[0m                   \u001b[0;34m'error_A'\u001b[0m\u001b[0;34m:\u001b[0m \u001b[0;36m1\u001b[0m\u001b[0;34m,\u001b[0m \u001b[0;34m'error_f'\u001b[0m\u001b[0;34m:\u001b[0m \u001b[0;36m1\u001b[0m\u001b[0;34m,\u001b[0m \u001b[0;34m'error_phi'\u001b[0m\u001b[0;34m:\u001b[0m \u001b[0;36m0.5\u001b[0m\u001b[0;34m,\u001b[0m \u001b[0;34m'errordef'\u001b[0m\u001b[0;34m:\u001b[0m \u001b[0;36m1\u001b[0m\u001b[0;34m,\u001b[0m\u001b[0;34m\u001b[0m\u001b[0;34m\u001b[0m\u001b[0m\n",
      "\u001b[0;31mIndexError\u001b[0m: list index out of range"
     ]
    }
   ],
   "source": [
    "amps3 = []\n",
    "for i in range(135):\n",
    "    print(i,'/',len(step_cal_files))\n",
    "    amps3.append(func1_scale(i))"
   ]
  },
  {
   "cell_type": "code",
   "execution_count": 14,
   "metadata": {},
   "outputs": [
    {
     "data": {
      "application/vnd.jupyter.widget-view+json": {
       "model_id": "e719449f710c4c9486668e39df85a5f0",
       "version_major": 2,
       "version_minor": 0
      },
      "text/plain": [
       "Canvas(toolbar=Toolbar(toolitems=[('Home', 'Reset original view', 'home', 'home'), ('Back', 'Back to previous …"
      ]
     },
     "metadata": {},
     "output_type": "display_data"
    }
   ],
   "source": [
    "_,ax = plt.subplots(figsize=(9.5,4))\n",
    "_ = ax.scatter(range(len(amps3)), amps3)"
   ]
  },
  {
   "cell_type": "code",
   "execution_count": 24,
   "metadata": {},
   "outputs": [
    {
     "data": {
      "application/vnd.jupyter.widget-view+json": {
       "model_id": "49cbef31ca6a4d33844c3c350b402580",
       "version_major": 2,
       "version_minor": 0
      },
      "text/plain": [
       "Canvas(toolbar=Toolbar(toolitems=[('Home', 'Reset original view', 'home', 'home'), ('Back', 'Back to previous …"
      ]
     },
     "metadata": {},
     "output_type": "display_data"
    }
   ],
   "source": [
    "# amps = np.array(amps)\n",
    "amps3 = np.array(amps3)\n",
    "_,ax = plt.subplots(figsize=(9.5,4))\n",
    "scale = 1200\n",
    "\n",
    "# Perrinf\n",
    "ax.scatter(range(len(amps3)), amps3/scale, label='fit phase')\n",
    "# ax.scatter(range(len(amps3)), amps3/scale, label='fit fixed-phases')\n",
    "\n",
    "ax.legend()\n",
    "ax.set(xlabel='dataset', ylabel='Charges', ylim=(-0.3,11), xlim=(0,None))\n",
    "ax.grid(axis='y')\n",
    "ax.minorticks_on()\n",
    "ax.grid(which='major', linestyle='-', linewidth='0.5', color='red')\n",
    "ax.grid(which='minor', linestyle=':', linewidth='0.5', color='black')\n",
    "ax.legend()\n",
    "from matplotlib.ticker import MaxNLocator\n",
    "ax.yaxis.set_major_locator(MaxNLocator(integer=True))"
   ]
  },
  {
   "cell_type": "code",
   "execution_count": 23,
   "metadata": {},
   "outputs": [
    {
     "name": "stdout",
     "output_type": "stream",
     "text": [
      "Scale is  1207.53645905\n"
     ]
    }
   ],
   "source": [
    "scale = np.abs(np.mean(amps3[20:55]))/8\n",
    "print(\"Scale is \", scale)"
   ]
  },
  {
   "cell_type": "markdown",
   "metadata": {},
   "source": [
    "### No phase response"
   ]
  },
  {
   "cell_type": "code",
   "execution_count": 68,
   "metadata": {},
   "outputs": [
    {
     "data": {
      "text/plain": [
       "[0.36632550176441686,\n",
       " 0.018925587383700471,\n",
       " 0.034380070438748404,\n",
       " 0.036843452933939938,\n",
       " 34.078299512491341]"
      ]
     },
     "execution_count": 68,
     "metadata": {},
     "output_type": "execute_result"
    }
   ],
   "source": [
    "df = step_file_objs[50]\n",
    "[np.std(dd)*np.sqrt(2)*50 for dd in df.other_data]"
   ]
  },
  {
   "cell_type": "code",
   "execution_count": 86,
   "metadata": {},
   "outputs": [
    {
     "data": {
      "text/plain": [
       "([0.36430330435929487,\n",
       "  0.019154090256631173,\n",
       "  0.035212356683502359,\n",
       "  0.038093320049319389,\n",
       "  22.71881582353485],\n",
       " [-2.0517988860914009,\n",
       "  -0.17697047379262992,\n",
       "  -0.24832806897077891,\n",
       "  -0.25704737926298915,\n",
       "  -0.23516716258487821])"
      ]
     },
     "execution_count": 86,
     "metadata": {},
     "output_type": "execute_result"
    }
   ],
   "source": [
    "fname = r'/data/old_trap/20210429/bead1/neutrality/wo_height_fb_50V_41_Hz_x/turbombar_powfb_xyzcool_elec3_3000mV41Hz0mVdc_10.h5'\n",
    "# fname = r'/data/old_trap/20210429/bead1/discharge/fine_after_recharge/turbombar_powfb_xyzcool_elec3_3000mV41Hz0mVdc_10.h5'\n",
    "del df\n",
    "df = bu.DataFile();\n",
    "df.load(fname);\n",
    "df.load_other_data()\n",
    "[np.std(dd)*np.sqrt(2)*50 for dd in df.other_data], [np.mean(dd)*50 for dd in df.other_data]"
   ]
  },
  {
   "cell_type": "code",
   "execution_count": 65,
   "metadata": {},
   "outputs": [
    {
     "data": {
      "application/vnd.jupyter.widget-view+json": {
       "model_id": "53f8e632d67e460fbe1105514c1dc652",
       "version_major": 2,
       "version_minor": 0
      },
      "text/plain": [
       "Canvas(toolbar=Toolbar(toolitems=[('Home', 'Reset original view', 'home', 'home'), ('Back', 'Back to previous …"
      ]
     },
     "metadata": {},
     "output_type": "display_data"
    },
    {
     "data": {
      "text/plain": [
       "<matplotlib.collections.PathCollection at 0x7f10cccd7a90>"
      ]
     },
     "execution_count": 65,
     "metadata": {},
     "output_type": "execute_result"
    }
   ],
   "source": [
    "_, ax = plt.subplots()\n",
    "ax.scatter(range(5000), df.other_data[-1][:5000])"
   ]
  },
  {
   "cell_type": "code",
   "execution_count": 456,
   "metadata": {},
   "outputs": [],
   "source": [
    "ll = likelihood_analyser.LikelihoodAnalyser()\n",
    "bandwidth = 2\n",
    "decimate = 10\n",
    "drive_freq = 41\n",
    "def get_amp(i):\n",
    "    \n",
    "#     print(i,'  ******************')\n",
    "#     fname = r'/data/old_trap/20210429/bead1/neutrality/wo_height_fb_100V_41_Hz_10V_bias_x_1/turbombar_powfb_xyzcool_'+str(i)+'.h5'\n",
    "    fname = r'/data/old_trap/20210429/bead1/neutrality/wo_height_fb_100V_41_Hz_bias_sweep_x_1/turbombar_powfb_xyzcool_'+str(i)+'.h5'\n",
    "\n",
    "    bb = bu.DataFile();\n",
    "    bb.load(fname);\n",
    "    bb.load_other_data()\n",
    "    \n",
    "    fit_kwargs = {'A': 0, 'f': drive_freq, 'phi': 0, \n",
    "                  'error_A': 1, 'error_f': 1, 'error_phi': 0.5, 'errordef': 1,\n",
    "                  'limit_phi': [-2 * np.pi, 2 * np.pi], \n",
    "                  'limit_A': [0, 10000], \n",
    "                  'print_level': 0, 'fix_f': True, 'fix_phi': False}\n",
    "\n",
    "    frequency = fit_kwargs['f']\n",
    "\n",
    "    b, a = signal.butter(3, [2.*(drive_freq-bandwidth/2.)/fsamp, 2.*(drive_freq+bandwidth/2.)/fsamp ], btype = 'bandpass')\n",
    "    xx2 = signal.filtfilt(b, a, bb.other_data[-1])[::decimate]\n",
    "#     print(np.std(bb.other_data[-1]))\n",
    "    m1_tmp = ll.find_mle_sin(xx2, fsamp=5000/decimate, noise_rms=1, plot=False, suppress_print=True, **fit_kwargs)\n",
    "    \n",
    "#     freq2 = np.fft.rfftfreq(len(bb.other_data[-1]), d=1./5000)\n",
    "#     fft_angles = np.angle(np.fft.rfft(bb.other_data[-1]))\n",
    "#     print(m1_tmp.values, (fft_angles[freq2==drive_freq]+np.pi/2)%(2*np.pi))\n",
    "    phi_tmp = m1_tmp.values[2]\n",
    "    \n",
    "    fit_kwargs = {'A': 0, 'f': drive_freq, 'phi': phi_tmp, \n",
    "                  'error_A': 1, 'error_f': 1, 'error_phi': 0.5, 'errordef': 1,\n",
    "                  'limit_phi': [-2 * np.pi, 2 * np.pi], \n",
    "                  'limit_A': [-10000, 10000], \n",
    "                  'print_level': 0, 'fix_f': True, 'fix_phi': True}\n",
    "\n",
    "    xx2 = signal.filtfilt(b, a, bb.pos_data[0])[::decimate]\n",
    "    \n",
    "    m1_tmp = ll.find_mle_sin(xx2, fsamp=5000/decimate, noise_rms=1, plot=False, suppress_print=True, **fit_kwargs)\n",
    "    \n",
    "    return m1_tmp.values[0]"
   ]
  },
  {
   "cell_type": "code",
   "execution_count": 457,
   "metadata": {},
   "outputs": [
    {
     "data": {
      "text/plain": [
       "311.52642881262545"
      ]
     },
     "execution_count": 457,
     "metadata": {},
     "output_type": "execute_result"
    }
   ],
   "source": [
    "get_amp(1)"
   ]
  },
  {
   "cell_type": "code",
   "execution_count": 464,
   "metadata": {
    "scrolled": true
   },
   "outputs": [
    {
     "name": "stdout",
     "output_type": "stream",
     "text": [
      "0 /500\n",
      "1 /500\n",
      "2 /500\n",
      "3 /500\n",
      "4 /500\n",
      "5 /500\n",
      "6 /500\n",
      "7 /500\n",
      "8 /500\n",
      "9 /500\n",
      "10 /500\n",
      "11 /500\n",
      "12 /500\n",
      "13 /500\n",
      "14 /500\n",
      "15 /500\n",
      "16 /500\n",
      "17 /500\n",
      "18 /500\n",
      "19 /500\n",
      "20 /500\n",
      "21 /500\n",
      "22 /500\n",
      "23 /500\n",
      "24 /500\n",
      "25 /500\n",
      "26 /500\n",
      "27 /500\n",
      "28 /500\n",
      "29 /500\n",
      "30 /500\n",
      "31 /500\n",
      "32 /500\n",
      "33 /500\n",
      "34 /500\n",
      "35 /500\n",
      "36 /500\n",
      "37 /500\n",
      "38 /500\n",
      "39 /500\n",
      "40 /500\n",
      "41 /500\n",
      "42 /500\n",
      "43 /500\n",
      "44 /500\n",
      "45 /500\n",
      "46 /500\n",
      "47 /500\n",
      "48 /500\n",
      "49 /500\n",
      "50 /500\n",
      "51 /500\n",
      "52 /500\n",
      "53 /500\n",
      "54 /500\n",
      "55 /500\n",
      "56 /500\n",
      "57 /500\n",
      "58 /500\n",
      "59 /500\n",
      "60 /500\n",
      "61 /500\n",
      "62 /500\n",
      "63 /500\n",
      "64 /500\n",
      "65 /500\n",
      "66 /500\n",
      "67 /500\n",
      "68 /500\n",
      "69 /500\n",
      "70 /500\n",
      "71 /500\n",
      "72 /500\n",
      "73 /500\n",
      "74 /500\n",
      "75 /500\n",
      "76 /500\n",
      "77 /500\n",
      "78 /500\n",
      "79 /500\n",
      "80 /500\n",
      "81 /500\n",
      "82 /500\n",
      "83 /500\n",
      "84 /500\n",
      "85 /500\n",
      "86 /500\n",
      "87 /500\n",
      "88 /500\n",
      "89 /500\n",
      "90 /500\n",
      "91 /500\n",
      "92 /500\n",
      "93 /500\n",
      "94 /500\n",
      "95 /500\n",
      "96 /500\n",
      "97 /500\n",
      "98 /500\n",
      "99 /500\n",
      "100 /500\n",
      "101 /500\n",
      "102 /500\n",
      "103 /500\n",
      "104 /500\n",
      "105 /500\n",
      "106 /500\n",
      "107 /500\n",
      "108 /500\n",
      "109 /500\n",
      "110 /500\n",
      "111 /500\n",
      "112 /500\n",
      "113 /500\n",
      "114 /500\n",
      "115 /500\n",
      "116 /500\n",
      "117 /500\n",
      "118 /500\n",
      "119 /500\n",
      "120 /500\n",
      "121 /500\n",
      "122 /500\n",
      "123 /500\n",
      "124 /500\n",
      "125 /500\n",
      "126 /500\n",
      "127 /500\n",
      "128 /500\n",
      "129 /500\n",
      "130 /500\n",
      "131 /500\n",
      "132 /500\n",
      "133 /500\n",
      "134 /500\n",
      "135 /500\n",
      "136 /500\n",
      "137 /500\n",
      "138 /500\n",
      "139 /500\n",
      "140 /500\n",
      "141 /500\n",
      "142 /500\n",
      "143 /500\n",
      "144 /500\n",
      "145 /500\n",
      "146 /500\n",
      "147 /500\n",
      "148 /500\n",
      "149 /500\n",
      "150 /500\n",
      "151 /500\n",
      "152 /500\n",
      "153 /500\n",
      "154 /500\n",
      "155 /500\n",
      "156 /500\n",
      "157 /500\n",
      "158 /500\n",
      "159 /500\n",
      "160 /500\n",
      "161 /500\n",
      "162 /500\n",
      "163 /500\n",
      "164 /500\n",
      "165 /500\n",
      "166 /500\n",
      "167 /500\n",
      "168 /500\n",
      "169 /500\n",
      "170 /500\n",
      "171 /500\n",
      "172 /500\n",
      "173 /500\n",
      "174 /500\n",
      "175 /500\n",
      "176 /500\n",
      "177 /500\n",
      "178 /500\n",
      "179 /500\n",
      "180 /500\n",
      "181 /500\n",
      "182 /500\n",
      "183 /500\n",
      "184 /500\n",
      "185 /500\n",
      "186 /500\n",
      "187 /500\n",
      "188 /500\n",
      "189 /500\n",
      "190 /500\n",
      "191 /500\n",
      "192 /500\n",
      "193 /500\n",
      "194 /500\n",
      "195 /500\n",
      "196 /500\n",
      "197 /500\n",
      "198 /500\n",
      "199 /500\n",
      "200 /500\n",
      "201 /500\n",
      "202 /500\n",
      "203 /500\n",
      "204 /500\n",
      "205 /500\n",
      "206 /500\n",
      "207 /500\n",
      "208 /500\n",
      "209 /500\n",
      "210 /500\n",
      "211 /500\n",
      "212 /500\n",
      "213 /500\n",
      "214 /500\n",
      "215 /500\n",
      "216 /500\n",
      "217 /500\n",
      "218 /500\n",
      "219 /500\n",
      "220 /500\n",
      "221 /500\n",
      "222 /500\n",
      "223 /500\n",
      "224 /500\n",
      "225 /500\n",
      "226 /500\n",
      "227 /500\n",
      "228 /500\n",
      "229 /500\n",
      "230 /500\n",
      "231 /500\n",
      "232 /500\n",
      "233 /500\n",
      "234 /500\n",
      "235 /500\n",
      "236 /500\n",
      "237 /500\n",
      "238 /500\n",
      "239 /500\n",
      "240 /500\n",
      "241 /500\n",
      "242 /500\n",
      "243 /500\n",
      "244 /500\n",
      "245 /500\n",
      "246 /500\n",
      "247 /500\n",
      "248 /500\n",
      "249 /500\n",
      "250 /500\n",
      "251 /500\n",
      "252 /500\n",
      "253 /500\n",
      "254 /500\n",
      "255 /500\n",
      "256 /500\n",
      "257 /500\n",
      "258 /500\n",
      "259 /500\n",
      "260 /500\n",
      "261 /500\n",
      "262 /500\n",
      "263 /500\n",
      "264 /500\n",
      "265 /500\n",
      "266 /500\n",
      "267 /500\n",
      "268 /500\n",
      "269 /500\n",
      "270 /500\n",
      "271 /500\n",
      "272 /500\n",
      "273 /500\n",
      "274 /500\n",
      "275 /500\n",
      "276 /500\n",
      "277 /500\n",
      "278 /500\n",
      "279 /500\n",
      "280 /500\n",
      "281 /500\n",
      "282 /500\n",
      "283 /500\n",
      "284 /500\n",
      "285 /500\n",
      "286 /500\n",
      "287 /500\n",
      "288 /500\n",
      "289 /500\n",
      "290 /500\n",
      "291 /500\n",
      "292 /500\n",
      "293 /500\n",
      "294 /500\n",
      "295 /500\n",
      "296 /500\n",
      "297 /500\n",
      "298 /500\n",
      "299 /500\n",
      "300 /500\n",
      "301 /500\n",
      "302 /500\n",
      "303 /500\n",
      "304 /500\n",
      "305 /500\n",
      "306 /500\n",
      "307 /500\n",
      "308 /500\n",
      "309 /500\n",
      "310 /500\n",
      "311 /500\n",
      "312 /500\n",
      "313 /500\n",
      "314 /500\n",
      "315 /500\n",
      "316 /500\n",
      "317 /500\n",
      "318 /500\n",
      "319 /500\n",
      "320 /500\n",
      "321 /500\n",
      "322 /500\n",
      "323 /500\n",
      "324 /500\n",
      "325 /500\n",
      "326 /500\n",
      "327 /500\n",
      "328 /500\n",
      "329 /500\n",
      "330 /500\n",
      "331 /500\n",
      "332 /500\n",
      "333 /500\n",
      "334 /500\n",
      "335 /500\n",
      "336 /500\n",
      "337 /500\n",
      "338 /500\n",
      "339 /500\n",
      "340 /500\n",
      "341 /500\n",
      "342 /500\n",
      "343 /500\n",
      "344 /500\n",
      "345 /500\n",
      "346 /500\n",
      "347 /500\n",
      "348 /500\n",
      "349 /500\n",
      "350 /500\n",
      "351 /500\n",
      "352 /500\n",
      "353 /500\n",
      "354 /500\n",
      "355 /500\n",
      "356 /500\n",
      "357 /500\n",
      "358 /500\n",
      "359 /500\n",
      "360 /500\n",
      "361 /500\n",
      "362 /500\n",
      "363 /500\n",
      "364 /500\n",
      "365 /500\n",
      "366 /500\n",
      "367 /500\n",
      "368 /500\n",
      "369 /500\n",
      "370 /500\n",
      "371 /500\n",
      "372 /500\n",
      "373 /500\n",
      "374 /500\n",
      "375 /500\n",
      "376 /500\n",
      "377 /500\n",
      "378 /500\n",
      "379 /500\n",
      "380 /500\n",
      "381 /500\n",
      "382 /500\n",
      "383 /500\n",
      "384 /500\n",
      "385 /500\n",
      "386 /500\n",
      "387 /500\n",
      "388 /500\n",
      "389 /500\n",
      "390 /500\n",
      "391 /500\n",
      "392 /500\n",
      "393 /500\n",
      "394 /500\n",
      "395 /500\n",
      "396 /500\n",
      "397 /500\n",
      "398 /500\n",
      "399 /500\n",
      "400 /500\n",
      "401 /500\n",
      "402 /500\n",
      "403 /500\n",
      "404 /500\n",
      "405 /500\n",
      "406 /500\n",
      "407 /500\n",
      "408 /500\n",
      "409 /500\n",
      "410 /500\n",
      "411 /500\n",
      "412 /500\n",
      "413 /500\n",
      "414 /500\n",
      "415 /500\n",
      "416 /500\n",
      "417 /500\n",
      "418 /500\n",
      "419 /500\n",
      "420 /500\n",
      "421 /500\n",
      "422 /500\n",
      "423 /500\n",
      "424 /500\n",
      "425 /500\n",
      "426 /500\n",
      "427 /500\n",
      "428 /500\n",
      "429 /500\n",
      "430 /500\n",
      "431 /500\n",
      "432 /500\n",
      "433 /500\n",
      "434 /500\n",
      "435 /500\n",
      "436 /500\n",
      "437 /500\n",
      "438 /500\n",
      "439 /500\n",
      "440 /500\n",
      "441 /500\n",
      "442 /500\n",
      "443 /500\n",
      "444 /500\n",
      "445 /500\n",
      "446 /500\n",
      "447 /500\n",
      "448 /500\n",
      "449 /500\n",
      "450 /500\n",
      "451 /500\n",
      "452 /500\n",
      "453 /500\n",
      "454 /500\n",
      "455 /500\n",
      "456 /500\n",
      "457 /500\n",
      "458 /500\n",
      "459 /500\n",
      "460 /500\n",
      "461 /500\n",
      "462 /500\n",
      "463 /500\n",
      "464 /500\n",
      "465 /500\n",
      "466 /500\n",
      "467 /500\n",
      "468 /500\n",
      "469 /500\n",
      "470 /500\n",
      "471 /500\n",
      "472 /500\n",
      "473 /500\n",
      "474 /500\n",
      "475 /500\n",
      "476 /500\n",
      "477 /500\n",
      "478 /500\n",
      "479 /500\n",
      "480 /500\n",
      "481 /500\n",
      "482 /500\n",
      "483 /500\n",
      "484 /500\n",
      "485 /500\n",
      "486 /500\n",
      "487 /500\n",
      "488 /500\n",
      "489 /500\n",
      "490 /500\n",
      "491 /500\n",
      "492 /500\n",
      "493 /500\n",
      "494 /500\n",
      "495 /500\n",
      "496 /500\n",
      "497 /500\n",
      "498 /500\n",
      "499 /500\n",
      "500 /500\n",
      "501 /500\n",
      "502 /500\n",
      "503 /500\n",
      "504 /500\n",
      "505 /500\n",
      "506 /500\n",
      "507 /500\n",
      "508 /500\n",
      "509 /500\n",
      "510 /500\n",
      "511 /500\n",
      "512 /500\n",
      "513 /500\n",
      "514 /500\n",
      "515 /500\n",
      "516 /500\n",
      "517 /500\n",
      "518 /500\n",
      "519 /500\n",
      "520 /500\n",
      "521 /500\n",
      "522 /500\n",
      "523 /500\n",
      "524 /500\n",
      "525 /500\n",
      "526 /500\n",
      "527 /500\n",
      "528 /500\n",
      "529 /500\n",
      "530 /500\n",
      "531 /500\n",
      "532 /500\n",
      "533 /500\n",
      "534 /500\n",
      "535 /500\n",
      "536 /500\n",
      "537 /500\n",
      "538 /500\n",
      "539 /500\n"
     ]
    }
   ],
   "source": [
    "amps_100V_0V_wo_fb_bias_sweep_1 = []\n",
    "for i in range(720):\n",
    "    print(i,'/500')\n",
    "    try:\n",
    "        amps_100V_0V_wo_fb_bias_sweep_1.append(get_amp(i))\n",
    "    except:\n",
    "        print(\"******\")\n",
    "amps_100V_0V_wo_fb_bias_sweep_1 = np.array(amps_100V_0V_wo_fb_bias_sweep_1)"
   ]
  },
  {
   "cell_type": "code",
   "execution_count": 465,
   "metadata": {},
   "outputs": [
    {
     "data": {
      "application/vnd.jupyter.widget-view+json": {
       "model_id": "fd8e2828eabd4b6abe48bf0613cc6754",
       "version_major": 2,
       "version_minor": 0
      },
      "text/plain": [
       "Canvas(toolbar=Toolbar(toolitems=[('Home', 'Reset original view', 'home', 'home'), ('Back', 'Back to previous …"
      ]
     },
     "metadata": {},
     "output_type": "display_data"
    },
    {
     "data": {
      "text/plain": [
       "<matplotlib.legend.Legend at 0x7f105f70b438>"
      ]
     },
     "execution_count": 465,
     "metadata": {},
     "output_type": "execute_result"
    }
   ],
   "source": [
    "data = np.array(amps_100V_0V_wo_fb_bias_sweep)\n",
    "data2 = np.array(amps_100V_0V_wo_fb_bias_sweep_1)\n",
    "_, ax= plt.subplots(figsize=(9.5,4))\n",
    "ax.scatter(range(len(data)), data/scale/2, label='100V, bias sweep, 41Hz.')\n",
    "ax.scatter(range(len(data2)), data2/scale/2, label='100V, bias sweep, 41Hz.')\n",
    "ax.plot(np.arange(0,1000), np.arange(0,1000)*0, '--r')\n",
    "ax.set(xlabel='Dataset', ylabel=r'$\\epsilon$')\n",
    "ax.legend()"
   ]
  },
  {
   "cell_type": "code",
   "execution_count": 436,
   "metadata": {},
   "outputs": [
    {
     "data": {
      "application/vnd.jupyter.widget-view+json": {
       "model_id": "7a1cc94744274dd6b66d323a9cafa345",
       "version_major": 2,
       "version_minor": 0
      },
      "text/plain": [
       "Canvas(toolbar=Toolbar(toolitems=[('Home', 'Reset original view', 'home', 'home'), ('Back', 'Back to previous …"
      ]
     },
     "metadata": {},
     "output_type": "display_data"
    },
    {
     "name": "stdout",
     "output_type": "stream",
     "text": [
      "-0.118035543666 0.00247193805935\n",
      "0.129498310334 0.000535487347098\n",
      "0.125722187583 0.000576057968976\n",
      "0.114551375589 0.000338548978311\n",
      "-0.0805499370166 0.00344120880585\n",
      "0.000901156909011 0.00463913878906\n",
      "0.00607816943198 0.00273479944406\n",
      "0.117324219864 0.000370764340485\n",
      "0.0812245464568 0.000353321754643\n"
     ]
    },
    {
     "data": {
      "text/plain": [
       "<matplotlib.legend.Legend at 0x7f105fc19eb8>"
      ]
     },
     "execution_count": 436,
     "metadata": {},
     "output_type": "execute_result"
    }
   ],
   "source": [
    "datasets = [amps_100V_0V_wo_fb[100:], amps_100V_1V_wo_fb[100:], amps_100V_0_8V_wo_fb[100:], amps_100V_0_6V_wo_fb[100:]\n",
    "           , amps_100V_neg0_6V_wo_fb[100:], amps_100V_neg1V_wo_fb[100:], amps_100V_neg0_8V_wo_fb[100:], \n",
    "            amps_100V_neg0_8V_wo_fb_1[100:], amps_100V_0V_wo_fb_1]\n",
    "titles = ['0V', '1V', '0.8V', '0.6V', '-0.6V', '-1V', '-0.8V', '-0.8V-2', '0V-2']\n",
    "voltages = np.array([0, 1, 0.8, 0.6, -0.6, -1, -0.8, -0.75, 0])\n",
    "amps = []\n",
    "stds = []\n",
    "\n",
    "_,ax = plt.subplots(1,2, figsize=(9.4,4))\n",
    "for dd,t in zip(datasets, titles):\n",
    "    data =  np.array(dd)/scale/2\n",
    "    _ = ax[0].hist(data, bins=50, alpha=0.6, range=(-0.4,0.4), label=t)\n",
    "    ax[0].set(xlabel=r'$\\epsilon$')\n",
    "    ax[0].legend()\n",
    "    print(np.mean(data), np.std(data)/np.sqrt(len(data)))\n",
    "    amps.append(np.mean(dd)/scale/2)\n",
    "    stds.append(np.std(dd)/scale/2)\n",
    "    \n",
    "ax[1].errorbar(voltages, amps, yerr=np.array(stds), fmt='o', label='mean')\n",
    "ax[1].plot(np.arange(-1.1,1.1,0.1), np.arange(-1.1,1.1,0.1)*0, '--r')\n",
    "# ax[1].scatter(voltages, stds, label='std')\n",
    "ax[1].legend()"
   ]
  },
  {
   "cell_type": "code",
   "execution_count": 383,
   "metadata": {},
   "outputs": [
    {
     "data": {
      "application/vnd.jupyter.widget-view+json": {
       "model_id": "515ef6563ab24cd6b8ef2bd77fb5a2ee",
       "version_major": 2,
       "version_minor": 0
      },
      "text/plain": [
       "Canvas(toolbar=Toolbar(toolitems=[('Home', 'Reset original view', 'home', 'home'), ('Back', 'Back to previous …"
      ]
     },
     "metadata": {},
     "output_type": "display_data"
    },
    {
     "name": "stdout",
     "output_type": "stream",
     "text": [
      "-0.118035543666 0.00247193805935\n",
      "-0.297661249133 0.00151333112725\n",
      "-0.305980154349 0.0009829109615\n",
      "-0.228754408864 0.00100702614159\n",
      "0.198866908332 0.00214947911588\n",
      "0.187510795947 0.00128300836252\n",
      "0.190764354552 0.00100085758973\n",
      "0.327854420891 0.000471208554418\n",
      "0.342442943738 0.00147193001303\n"
     ]
    },
    {
     "data": {
      "text/plain": [
       "<matplotlib.legend.Legend at 0x7f1062f15ef0>"
      ]
     },
     "execution_count": 383,
     "metadata": {},
     "output_type": "execute_result"
    }
   ],
   "source": [
    "datasets = [amps_100V_0V_wo_fb[100:], amps_100V_neg25V_wo_fb[100:], amps_100V_neg21V_wo_fb[100:], amps_100V_neg8V_wo_fb[100:]\n",
    "            ,amps_100V_8V_wo_fb[100:], amps_100V_10V_wo_fb[100:], amps_100V_6V_wo_fb[100:], amps_100V_21V_wo_fb[100:]\n",
    "           , amps_100V_25V_wo_fb[100:]]\n",
    "titles = ['0V', '-25V', '-21V', '-8V', '8V', '10V', '6V', '21V', '25V']\n",
    "voltages = np.array([0, -25, -21, -8, 8, 10, 6, 21, 25])\n",
    "amps = []\n",
    "stds = []\n",
    "\n",
    "_,ax = plt.subplots(1,2, figsize=(9.4,4))\n",
    "for dd,t in zip(datasets, titles):\n",
    "    data =  np.array(dd)/scale/2\n",
    "    _ = ax[0].hist(data, bins=50, alpha=0.6, range=(-0.4,0.4), label=t)\n",
    "    ax[0].set(xlabel=r'$\\epsilon$')\n",
    "    ax[0].legend()\n",
    "    print(np.mean(data), np.std(data)/np.sqrt(len(data)))\n",
    "    amps.append(np.mean(dd)/scale/2)\n",
    "    stds.append(np.std(dd)/scale/2)\n",
    "    \n",
    "ax[1].errorbar(voltages, amps, yerr=np.array(stds), fmt='o', label='mean')\n",
    "ax[1].plot(np.arange(-27,27), np.arange(-27,27)*0, '--r')\n",
    "# ax[1].scatter(voltages, stds, label='std')\n",
    "ax[1].legend()"
   ]
  },
  {
   "cell_type": "code",
   "execution_count": 69,
   "metadata": {},
   "outputs": [
    {
     "data": {
      "application/vnd.jupyter.widget-view+json": {
       "model_id": "1d34bba662e747f48071830e6419c03e",
       "version_major": 2,
       "version_minor": 0
      },
      "text/plain": [
       "Canvas(toolbar=Toolbar(toolitems=[('Home', 'Reset original view', 'home', 'home'), ('Back', 'Back to previous …"
      ]
     },
     "metadata": {},
     "output_type": "display_data"
    },
    {
     "data": {
      "text/plain": [
       "[Text(0.5, 0, 'dataset'), Text(0, 0.5, '$\\\\epsilon$')]"
      ]
     },
     "execution_count": 69,
     "metadata": {},
     "output_type": "execute_result"
    }
   ],
   "source": [
    "data = amps_50V_w_fb/scale\n",
    "means = [np.mean(data[j*10:(j+1)*10]) for j in range(100)]\n",
    "stds = [np.std(data[j*10:(j+1)*10]) for j in range(100)]\n",
    "\n",
    "_,ax = plt.subplots(figsize=(9.5,4))\n",
    "ax.errorbar(np.arange(0,1000,10), means, yerr=stds/np.sqrt(10),fmt='o')\n",
    "ax.plot(np.arange(0,1000,100), np.arange(0,1000,100)*0, 'r--')\n",
    "ax.set(xlabel='dataset', ylabel=r'$\\epsilon$')"
   ]
  },
  {
   "cell_type": "code",
   "execution_count": 83,
   "metadata": {},
   "outputs": [
    {
     "data": {
      "application/vnd.jupyter.widget-view+json": {
       "model_id": "1cd3fea97c7a4ce8aae13c867466e393",
       "version_major": 2,
       "version_minor": 0
      },
      "text/plain": [
       "Canvas(toolbar=Toolbar(toolitems=[('Home', 'Reset original view', 'home', 'home'), ('Back', 'Back to previous …"
      ]
     },
     "metadata": {},
     "output_type": "display_data"
    },
    {
     "data": {
      "text/plain": [
       "[Text(0.5, 0, 'dataset'), Text(0, 0.5, '$\\\\epsilon$')]"
      ]
     },
     "execution_count": 83,
     "metadata": {},
     "output_type": "execute_result"
    }
   ],
   "source": [
    "data = amps_50V_wo_fb/scale\n",
    "means = [np.mean(data[j*10:(j+1)*10]) for j in range(100)]\n",
    "stds = [np.std(data[j*10:(j+1)*10]) for j in range(100)]\n",
    "\n",
    "_,ax = plt.subplots(figsize=(9.5,4))\n",
    "ax.errorbar(np.arange(0,1000,10), means, yerr=stds/np.sqrt(10),fmt='o')\n",
    "ax.plot(np.arange(0,1000,100), np.arange(0,1000,100)*0, 'r--')\n",
    "ax.set(xlabel='dataset', ylabel=r'$\\epsilon$')"
   ]
  },
  {
   "cell_type": "code",
   "execution_count": 70,
   "metadata": {},
   "outputs": [
    {
     "name": "stderr",
     "output_type": "stream",
     "text": [
      "/home/analysis_user/.local/lib/python3.6/site-packages/numpy/core/fromnumeric.py:3373: RuntimeWarning: Mean of empty slice.\n",
      "  out=out, **kwargs)\n",
      "/home/analysis_user/.local/lib/python3.6/site-packages/numpy/core/_methods.py:170: RuntimeWarning: invalid value encountered in double_scalars\n",
      "  ret = ret.dtype.type(ret / rcount)\n",
      "/home/analysis_user/.local/lib/python3.6/site-packages/numpy/core/_methods.py:234: RuntimeWarning: Degrees of freedom <= 0 for slice\n",
      "  keepdims=keepdims)\n",
      "/home/analysis_user/.local/lib/python3.6/site-packages/numpy/core/_methods.py:195: RuntimeWarning: invalid value encountered in true_divide\n",
      "  arrmean, rcount, out=arrmean, casting='unsafe', subok=False)\n",
      "/home/analysis_user/.local/lib/python3.6/site-packages/numpy/core/_methods.py:226: RuntimeWarning: invalid value encountered in double_scalars\n",
      "  ret = ret.dtype.type(ret / rcount)\n"
     ]
    },
    {
     "data": {
      "application/vnd.jupyter.widget-view+json": {
       "model_id": "2b574754932f445e9b5cf0a04e3dc4f7",
       "version_major": 2,
       "version_minor": 0
      },
      "text/plain": [
       "Canvas(toolbar=Toolbar(toolitems=[('Home', 'Reset original view', 'home', 'home'), ('Back', 'Back to previous …"
      ]
     },
     "metadata": {},
     "output_type": "display_data"
    },
    {
     "data": {
      "text/plain": [
       "[Text(0.5, 0, 'dataset'), Text(0, 0.5, '$\\\\epsilon$')]"
      ]
     },
     "execution_count": 70,
     "metadata": {},
     "output_type": "execute_result"
    }
   ],
   "source": [
    "data = amps_50V_w_fb/scale\n",
    "means = [np.mean(data[j*100:(j+1)*100]) for j in range(10)]\n",
    "stds = [np.std(data[j*100:(j+1)*100]) for j in range(10)]\n",
    "\n",
    "_,ax = plt.subplots(figsize=(9.5,4))\n",
    "ax.errorbar(np.arange(0,1000,100), means, yerr=stds/np.sqrt(100),fmt='o')\n",
    "ax.plot(np.arange(0,1000,100), np.arange(0,1000,100)*0, 'r--')\n",
    "ax.set(xlabel='dataset', ylabel=r'$\\epsilon$')"
   ]
  },
  {
   "cell_type": "code",
   "execution_count": null,
   "metadata": {},
   "outputs": [],
   "source": []
  },
  {
   "cell_type": "code",
   "execution_count": null,
   "metadata": {},
   "outputs": [],
   "source": []
  },
  {
   "cell_type": "code",
   "execution_count": null,
   "metadata": {},
   "outputs": [],
   "source": []
  },
  {
   "cell_type": "code",
   "execution_count": null,
   "metadata": {},
   "outputs": [],
   "source": []
  },
  {
   "cell_type": "code",
   "execution_count": null,
   "metadata": {},
   "outputs": [],
   "source": []
  }
 ],
 "metadata": {
  "kernelspec": {
   "display_name": "Python 3",
   "language": "python",
   "name": "python3"
  },
  "language_info": {
   "codemirror_mode": {
    "name": "ipython",
    "version": 3
   },
   "file_extension": ".py",
   "mimetype": "text/x-python",
   "name": "python",
   "nbconvert_exporter": "python",
   "pygments_lexer": "ipython3",
   "version": "3.6.9"
  }
 },
 "nbformat": 4,
 "nbformat_minor": 4
}
