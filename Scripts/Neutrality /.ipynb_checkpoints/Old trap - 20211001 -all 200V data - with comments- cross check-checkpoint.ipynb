{
 "cells": [
  {
   "cell_type": "code",
   "execution_count": 1,
   "metadata": {},
   "outputs": [],
   "source": [
    "import numpy as np\n",
    "import matplotlib.pyplot as plt\n",
    "import matplotlib\n",
    "from scipy import signal\n",
    "from scipy.optimize import minimize\n",
    "\n",
    "import random\n",
    "\n",
    "import h5py\n",
    "from IPython.utils import io\n",
    "\n",
    "from joblib import Parallel, delayed\n",
    "from tqdm import tqdm\n",
    "import sys"
   ]
  },
  {
   "cell_type": "code",
   "execution_count": 2,
   "metadata": {},
   "outputs": [],
   "source": [
    "%matplotlib widget\n",
    "\n",
    "%reload_ext autoreload\n",
    "%autoreload 2"
   ]
  },
  {
   "cell_type": "code",
   "execution_count": 3,
   "metadata": {},
   "outputs": [],
   "source": [
    "sys.path.append('../../../../nadavp/new_trap/Tools/')\n",
    "sys.path.append('../../../../nadavp/new_trap/Tools/StatFramework/')\n",
    "sys.path.append('../../../../nadavp/opt_lev_analysis/lib/')\n",
    "import BeadDataFile\n",
    "from discharge_tools import *"
   ]
  },
  {
   "cell_type": "code",
   "execution_count": 4,
   "metadata": {},
   "outputs": [],
   "source": [
    "from likelihood_calculator import likelihood_analyser\n",
    "from likelihood_calculator import GravityFramework\n",
    "from likelihood_calculator import auxiliary_functions as aux\n",
    "gfw = GravityFramework.GravityFramework()"
   ]
  },
  {
   "cell_type": "code",
   "execution_count": 5,
   "metadata": {},
   "outputs": [],
   "source": [
    "import bead_util as bu\n",
    "import transfer_func_util as tf\n",
    "import configuration as config"
   ]
  },
  {
   "cell_type": "markdown",
   "metadata": {},
   "source": [
    "### Parameters"
   ]
  },
  {
   "cell_type": "code",
   "execution_count": 52,
   "metadata": {},
   "outputs": [],
   "source": [
    "## some are coming from the notebook: Old trap - 20211001 - All calibration with comments\n",
    "bandwidth = 1\n",
    "decimate = 10\n",
    "drive_freq = 139\n",
    "fsamp = 5000\n",
    "\n",
    "scaleZ = 121.96\n",
    "\n",
    "voltage_calib = 24\n",
    "\n",
    "E1, E2 = (131, 195)\n",
    "E_tot = E1+E2\n",
    "factor = 0.621"
   ]
  },
  {
   "cell_type": "code",
   "execution_count": 53,
   "metadata": {},
   "outputs": [
    {
     "name": "stdout",
     "output_type": "stream",
     "text": [
      "voltage:  190.87201524\n"
     ]
    }
   ],
   "source": [
    "i = 0\n",
    "fname = r'/data/old_trap/20211001/bead1/neutrality9/Z_200Vpp_alternate_139Hz_spin_XY_117kHz_175Vpp_delay_4sec_with_height_fb_redo5/Z_200Vpp_'+str(i)+'.h5'\n",
    "bb = bu.DataFile();\n",
    "bb.load(fname);\n",
    "bb.load_other_data()\n",
    "b, a = signal.butter(3, [2.*(drive_freq-bandwidth/2.)/fsamp, 2.*(drive_freq+bandwidth/2.)/fsamp ], btype = 'bandpass')\n",
    "xx2 = signal.filtfilt(b, a, bb.other_data[1])\n",
    "voltage_200 = np.std(xx2)*np.sqrt(2)*100\n",
    "print(\"voltage: \", voltage_200)"
   ]
  },
  {
   "cell_type": "code",
   "execution_count": 54,
   "metadata": {},
   "outputs": [],
   "source": [
    "etha = 1/scaleZ*E_tot*voltage_calib*1.6e-19 ## convert bits to force\n",
    "to_epsilon = 1/(2*131*1.6e-19*voltage_200) ## this is 2E1 - the convertion factor from A to epsilon"
   ]
  },
  {
   "cell_type": "markdown",
   "metadata": {},
   "source": [
    "### Look at neutrality data"
   ]
  },
  {
   "cell_type": "code",
   "execution_count": 55,
   "metadata": {},
   "outputs": [],
   "source": [
    "def get_amp_wraperZ(i, fname):\n",
    "    try:\n",
    "        return get_ampZ(i, fname)\n",
    "    except:\n",
    "        return 0,0,0"
   ]
  },
  {
   "cell_type": "code",
   "execution_count": 56,
   "metadata": {},
   "outputs": [],
   "source": [
    "ll = likelihood_analyser.LikelihoodAnalyser()\n",
    "\n",
    "def get_ampZ(i, foldername):\n",
    "    \n",
    "    fname = foldername+'Z_200Vpp_'+str(i)+'.h5'\n",
    "    bb.load(fname);\n",
    "    bb.load_other_data()\n",
    "    \n",
    "    ## extract the drive phase - depends on which electrode is driving\n",
    "    jj = i%2\n",
    "    freq2 = np.fft.rfftfreq(len(bb.other_data[1+jj]), d=1./5000)\n",
    "    fft_angles = np.angle(np.fft.rfft(bb.other_data[1+jj]))\n",
    "    phi_tmp2 = (fft_angles[freq2==drive_freq]+np.pi/2)%(2*np.pi)\n",
    "\n",
    "    ## bandpass and fit\n",
    "    phase_diff = 4.8        \n",
    "    fit_kwargs = {'A': 0, 'f': drive_freq, 'phi': phi_tmp2+phase_diff, 'sigma': 1100,\n",
    "                  'error_A': 0.1, 'error_f': 1, 'error_phi': 0.5, 'errordef': 1, 'error_sigma':50,\n",
    "                  'limit_A': [-100000, 100000], 'limit_sigma': [100,10000], 'fix_phi': True, 'fix_f': True,\n",
    "                  'print_level': 0}\n",
    "    b, a = signal.butter(3, [2.*(drive_freq-bandwidth/2.)/fsamp, 2.*(drive_freq+bandwidth/2.)/fsamp ], btype = 'bandpass')\n",
    "    xx2 = signal.filtfilt(b, a, bb.pos_data[2])[::decimate]\n",
    "    m1_tmp = ll.find_mle_sin(xx2, fsamp=5000/decimate, noise_rms=1, plot=False, suppress_print=True, **fit_kwargs)\n",
    "\n",
    "    ## bandpass and fit sideband\n",
    "    phase_diff = 4.8        \n",
    "    fit_kwargs = {'A': 0, 'f': drive_freq+1, 'phi': phi_tmp2+phase_diff, 'sigma': 1100,\n",
    "                  'error_A': 0.1, 'error_f': 1, 'error_phi': 0.5, 'errordef': 1, 'error_sigma':50,\n",
    "                  'limit_A': [-100000, 100000], 'limit_sigma': [100,10000], 'fix_phi': True, 'fix_f': True,\n",
    "                  'print_level': 0}\n",
    "    b, a = signal.butter(3, [2.*(drive_freq+1-bandwidth/2.)/fsamp, 2.*(drive_freq+1+bandwidth/2.)/fsamp ], btype = 'bandpass')\n",
    "    xx2 = signal.filtfilt(b, a, bb.pos_data[2])[::decimate]\n",
    "    m2_tmp = ll.find_mle_sin(xx2, fsamp=5000/decimate, noise_rms=1, plot=False, suppress_print=True, **fit_kwargs)\n",
    "\n",
    "    return m1_tmp.values[0], m1_tmp.values[3], m2_tmp.values[0]"
   ]
  },
  {
   "cell_type": "code",
   "execution_count": 57,
   "metadata": {},
   "outputs": [
    {
     "data": {
      "text/plain": [
       "(-9.674676215377985, 1472.9405515946455, 0.008885914226993918)"
      ]
     },
     "execution_count": 57,
     "metadata": {},
     "output_type": "execute_result"
    }
   ],
   "source": [
    "base_folder = r'/data/old_trap/20211001/bead1/'\n",
    "fname = base_folder+r'neutrality6/Z_150Vpp_alternate_139Hz_spin_XY_93kHz_200Vpp_delay_3sec_with_height_fb/'\n",
    "get_ampZ(0, fname)"
   ]
  },
  {
   "cell_type": "markdown",
   "metadata": {},
   "source": [
    "### Loading all datasets taken with ~100kHz spinning field "
   ]
  },
  {
   "cell_type": "code",
   "execution_count": 58,
   "metadata": {},
   "outputs": [],
   "source": [
    "## the prefix of the some of the folders is Z_150Vpp, but that is raelly 200V data\n",
    "## I messed up the the folder names, it is spinning at 175Vpp with 200Vpp oscillating field \n",
    "## (it has been validated using the digitized electrode data and also by the filenames which are 200Vpp)\n",
    "## spinning is either 93kHz or 103kHz\n",
    "base_folder = r'/data/old_trap/20211001/bead1/'\n",
    "fnames = [base_folder+r'neutrality6/Z_150Vpp_alternate_139Hz_spin_XY_93kHz_200Vpp_delay_3sec_with_height_fb/',\n",
    "base_folder+r'neutrality6/Z_150Vpp_alternate_139Hz_spin_XY_103kHz_200Vpp_delay_3sec_with_height_fb/',\n",
    "base_folder+r'neutrality6/Z_150Vpp_alternate_139Hz_spin_XY_103kHz_200Vpp_delay_3sec_with_height_fb_redo/',\n",
    "# base_folder+r'neutrality6/Z_150Vpp_alternate_139Hz_spin_XY_103kHz_200Vpp_delay_3sec_with_height_fb_redo2/', ## rga incident\n",
    "base_folder+r'neutrality6/Z_200Vpp_alternate_139Hz_spin_XY_103kHz_175Vpp_delay_3sec_with_height_fb_redo3/',\n",
    "base_folder+r'neutrality6/Z_200Vpp_alternate_139Hz_spin_XY_103kHz_175Vpp_delay_3sec_with_height_fb_redo4/']\n",
    "\n",
    "files = [2000, 2000, 2000, 1000, 1000]"
   ]
  },
  {
   "cell_type": "code",
   "execution_count": 59,
   "metadata": {
    "scrolled": true
   },
   "outputs": [
    {
     "name": "stderr",
     "output_type": "stream",
     "text": [
      "  4%|▍         | 80/2000 [00:00<00:02, 675.22it/s]/home/analysis_user/.local/lib/python3.6/site-packages/joblib/externals/loky/process_executor.py:706: UserWarning: A worker stopped while some jobs were given to the executor. This can be caused by a too short worker timeout or by a memory leak.\n",
      "  \"timeout or by a memory leak.\", UserWarning\n",
      "100%|██████████| 2000/2000 [00:30<00:00, 63.29it/s]\n",
      "100%|██████████| 2000/2000 [00:32<00:00, 58.14it/s]\n",
      "100%|██████████| 2000/2000 [00:30<00:00, 61.50it/s]\n",
      "100%|██████████| 1000/1000 [00:15<00:00, 60.67it/s]\n",
      "100%|██████████| 1000/1000 [00:13<00:00, 60.72it/s]\n"
     ]
    }
   ],
   "source": [
    "ams_neutrality6 = []\n",
    "for i_folder in range(len(files)):\n",
    "    amps_tmp = np.array(Parallel(n_jobs=40)(delayed(get_amp_wraperZ)(i, fnames[i_folder]) for i in tqdm(range((files[i_folder])))))\n",
    "    ams_neutrality6 += list(np.array(amps_tmp)*etha)\n",
    "ams_neutrality6 = np.array(ams_neutrality6)"
   ]
  },
  {
   "cell_type": "code",
   "execution_count": 60,
   "metadata": {},
   "outputs": [],
   "source": [
    "## getting rid of one corrupted file - have to extract two files in order to keep the odd always plus electrode\n",
    "ams_neutrality6_2 = list(ams_neutrality6)\n",
    "ams_neutrality6_2.pop(692)\n",
    "ams_neutrality6_2.pop(692)\n",
    "ams_neutrality6 = np.array(ams_neutrality6_2)"
   ]
  },
  {
   "cell_type": "code",
   "execution_count": 61,
   "metadata": {},
   "outputs": [],
   "source": [
    "## higher spinning - 117kHz\n",
    "base_folder = r'/data/old_trap/20211001/bead1/'\n",
    "fnames = [base_folder+r'neutrality8/Z_200Vpp_alternate_139Hz_spin_XY_117kHz_175Vpp_delay_5sec_with_height_fb/',\n",
    "base_folder+r'neutrality8/Z_200Vpp_alternate_139Hz_spin_XY_117kHz_175Vpp_delay_7sec_with_height_fb_redo2/',\n",
    "base_folder+r'neutrality8/Z_200Vpp_alternate_139Hz_spin_XY_117kHz_175Vpp_delay_7sec_with_height_fb_redo3/',\n",
    "base_folder+r'neutrality8/Z_200Vpp_alternate_139Hz_spin_XY_117kHz_175Vpp_delay_7sec_with_height_fb_redo4/',\n",
    "base_folder+r'neutrality8/Z_200Vpp_alternate_139Hz_spin_XY_117kHz_175Vpp_delay_7sec_with_height_fb_redo5/']\n",
    "\n",
    "files = [2000, 2000, 2000, 2000, 438]"
   ]
  },
  {
   "cell_type": "code",
   "execution_count": 62,
   "metadata": {
    "scrolled": true
   },
   "outputs": [
    {
     "name": "stderr",
     "output_type": "stream",
     "text": [
      "100%|██████████| 2000/2000 [00:22<00:00, 63.20it/s] \n",
      "100%|██████████| 2000/2000 [00:36<00:00, 43.50it/s]\n",
      "100%|██████████| 2000/2000 [00:35<00:00, 50.69it/s]\n",
      "100%|██████████| 2000/2000 [00:30<00:00, 64.01it/s]\n",
      "100%|██████████| 438/438 [00:03<00:00, 119.44it/s]\n"
     ]
    }
   ],
   "source": [
    "ams_neutrality8 = []\n",
    "for i_folder in range(len(files)):\n",
    "    amps_tmp = np.array(Parallel(n_jobs=40)(delayed(get_amp_wraperZ)(i, fnames[i_folder]) for i in tqdm(range((files[i_folder])))))\n",
    "    ams_neutrality8 += list(np.array(amps_tmp)*etha)\n",
    "ams_neutrality8 = np.array(ams_neutrality8)"
   ]
  },
  {
   "cell_type": "code",
   "execution_count": 63,
   "metadata": {},
   "outputs": [],
   "source": [
    "## higher spinning - 117kHz\n",
    "## after improving the switching on/off of the electrodes to allow more off time per configuration\n",
    "base_folder = r'/data/old_trap/20211001/bead1/'\n",
    "fnames = [base_folder+r'neutrality9/Z_200Vpp_alternate_139Hz_spin_XY_117kHz_175Vpp_delay_4sec_with_height_fb/',\n",
    "base_folder+r'neutrality9/Z_200Vpp_alternate_139Hz_spin_XY_117kHz_175Vpp_delay_4sec_with_height_fb_redo/',\n",
    "base_folder+r'neutrality9/Z_200Vpp_alternate_139Hz_spin_XY_117kHz_175Vpp_delay_4sec_with_height_fb_redo2/',\n",
    "base_folder+r'neutrality9/Z_200Vpp_alternate_139Hz_spin_XY_117kHz_175Vpp_delay_4sec_with_height_fb_redo3/',\n",
    "base_folder+r'neutrality9/Z_200Vpp_alternate_139Hz_spin_XY_117kHz_175Vpp_delay_6sec_with_height_fb_redo4/',\n",
    "base_folder+r'neutrality9/Z_200Vpp_alternate_139Hz_spin_XY_117kHz_175Vpp_delay_4sec_with_height_fb_redo5/',\n",
    "base_folder+r'neutrality9/Z_200Vpp_alternate_139Hz_spin_XY_117kHz_175Vpp_delay_6sec_with_height_fb_redo6/']\n",
    "\n",
    "files = [80, 2000, 2000, 2000, 2000, 4000, 2200]"
   ]
  },
  {
   "cell_type": "code",
   "execution_count": 64,
   "metadata": {
    "scrolled": true
   },
   "outputs": [
    {
     "name": "stderr",
     "output_type": "stream",
     "text": [
      "100%|██████████| 80/80 [00:00<00:00, 445.59it/s]\n",
      "100%|██████████| 2000/2000 [00:35<00:00, 48.80it/s]\n",
      "100%|██████████| 2000/2000 [00:35<00:00, 54.28it/s]\n",
      "100%|██████████| 2000/2000 [00:35<00:00, 55.57it/s]\n",
      "100%|██████████| 2000/2000 [00:35<00:00, 52.54it/s]\n",
      "100%|██████████| 4000/4000 [01:10<00:00, 53.02it/s]\n",
      "100%|██████████| 2200/2200 [00:35<00:00, 59.87it/s]\n"
     ]
    }
   ],
   "source": [
    "ams_neutrality9 = []\n",
    "for i_folder in range(len(files)):\n",
    "    amps_tmp = np.array(Parallel(n_jobs=40)(delayed(get_amp_wraperZ)(i, fnames[i_folder]) for i in tqdm(range((files[i_folder])))))\n",
    "    ams_neutrality9 += list(np.array(amps_tmp)*etha)\n",
    "ams_neutrality9 = np.array(ams_neutrality9)"
   ]
  },
  {
   "cell_type": "code",
   "execution_count": 65,
   "metadata": {},
   "outputs": [],
   "source": [
    "# different spin voltage -- skipped that one accidently before it adds a bit of sensitity\n",
    "base_folder = r'/data/old_trap/20211001/bead1/'\n",
    "fnames = [base_folder+r'neutrality11/Z_200Vpp_alternate_139Hz_spin_XY_117kHz_200Vpp_delay_6sec_with_height_fb/']\n",
    "\n",
    "files = [2500]"
   ]
  },
  {
   "cell_type": "code",
   "execution_count": 66,
   "metadata": {},
   "outputs": [
    {
     "name": "stderr",
     "output_type": "stream",
     "text": [
      "100%|██████████| 2500/2500 [00:44<00:00, 56.21it/s]\n"
     ]
    }
   ],
   "source": [
    "ams_neutrality11 = []\n",
    "for i_folder in range(len(files)):\n",
    "    amps_tmp = np.array(Parallel(n_jobs=40)(delayed(get_amp_wraperZ)(i, fnames[i_folder]) for i in tqdm(range((files[i_folder])))))\n",
    "    ams_neutrality11 += list(np.array(amps_tmp)*etha)\n",
    "ams_neutrality11 = np.array(ams_neutrality11)"
   ]
  },
  {
   "cell_type": "code",
   "execution_count": 67,
   "metadata": {},
   "outputs": [],
   "source": [
    "amps_all = np.array(list(ams_neutrality6)+list(ams_neutrality8)+list(ams_neutrality9)+list(ams_neutrality11))"
   ]
  },
  {
   "cell_type": "markdown",
   "metadata": {},
   "source": [
    "### Data Analysis"
   ]
  },
  {
   "cell_type": "code",
   "execution_count": 68,
   "metadata": {},
   "outputs": [
    {
     "data": {
      "application/vnd.jupyter.widget-view+json": {
       "model_id": "c03b5113449b4b4e93fa9d36fab671eb",
       "version_major": 2,
       "version_minor": 0
      },
      "text/plain": [
       "Canvas(toolbar=Toolbar(toolitems=[('Home', 'Reset original view', 'home', 'home'), ('Back', 'Back to previous …"
      ]
     },
     "metadata": {},
     "output_type": "display_data"
    },
    {
     "name": "stdout",
     "output_type": "stream",
     "text": [
      "1st harmonic, electrode 1: mean, std:  -2.3012475732e-17 6.3131115786e-19\n",
      "1st harmonic, electrode 2: mean, std:  -3.75089531721e-17 8.20450760978e-19\n",
      "1st harmonic, A parameter: mean, std:  2.80584187914e-19 4.00793541445e-19\n"
     ]
    }
   ],
   "source": [
    "data_plus = amps_all[::2,0]\n",
    "data_minus = amps_all[1::2,0]\n",
    "data_A = data_plus-factor*data_minus\n",
    "\n",
    "_, ax= plt.subplots(figsize=(9.5,4))\n",
    "ax.scatter(np.arange(len(data_plus))*2*10/3600, data_plus, label='200Vpp-z-plus')\n",
    "ax.scatter(np.arange(len(data_minus))*2*10/3600, data_minus, label='200Vpp-z-minus', alpha=0.6)\n",
    "ax.plot(np.arange(len(data_A))*2*10/3600, np.arange(len(data_A))*0, '--k')\n",
    "ax.set(xlabel='Integration time [hr.]', ylabel=r'$\\epsilon$')\n",
    "ax.legend()\n",
    "print('1st harmonic, electrode 1: mean, std: ', np.mean(data_plus), np.std(data_plus)/np.sqrt(len(data_plus)))\n",
    "print('1st harmonic, electrode 2: mean, std: ', np.mean(data_minus), np.std(data_minus)/np.sqrt(len(data_minus)))\n",
    "print('1st harmonic, A parameter: mean, std: ', np.mean(data_A), np.std(data_A)/np.sqrt(len(data_A)))"
   ]
  },
  {
   "cell_type": "code",
   "execution_count": 69,
   "metadata": {},
   "outputs": [
    {
     "data": {
      "text/plain": [
       "92.26666666666667"
      ]
     },
     "execution_count": 69,
     "metadata": {},
     "output_type": "execute_result"
    }
   ],
   "source": [
    "len(data_plus)*2*10/3600"
   ]
  },
  {
   "cell_type": "code",
   "execution_count": 71,
   "metadata": {},
   "outputs": [
    {
     "data": {
      "application/vnd.jupyter.widget-view+json": {
       "model_id": "abb724cdc5074e46983595a50a8e5cfb",
       "version_major": 2,
       "version_minor": 0
      },
      "text/plain": [
       "Canvas(toolbar=Toolbar(toolitems=[('Home', 'Reset original view', 'home', 'home'), ('Back', 'Back to previous …"
      ]
     },
     "metadata": {},
     "output_type": "display_data"
    },
    {
     "name": "stdout",
     "output_type": "stream",
     "text": [
      "1st harmonic, A parameter: mean, std:  2.80584187914e-19 4.00793541445e-19\n",
      "1st harmonic, corrected A: mean, std:  2.82195740946e-19 3.20943678987e-19\n",
      "1st harmonic, A parameter[epsilon]: mean, std:  3.5268494551e-05 4.01111666519e-05\n"
     ]
    }
   ],
   "source": [
    "N = len(data_plus)\n",
    "data_shifted = np.array([(data_plus[i]+data_plus[i-1])/2 for i in range(1,N)])\n",
    "data_A_shifted = data_shifted-factor*data_minus[:-1]\n",
    "\n",
    "_, ax= plt.subplots(figsize=(9.5,4))\n",
    "ax.scatter(np.arange(len(data_A))*2*10/3600, data_A, label='200Vpp-z-plus, A parameter')\n",
    "ax.scatter(np.arange(len(data_A_shifted))*2*10/3600, data_A_shifted, label='200Vpp-z, corrected A parameter', alpha=0.6)\n",
    "\n",
    "ax.plot(np.arange(len(data_A))*2*10/3600, np.arange(len(data_A))*0, '--k')\n",
    "ax.set(xlabel='Integration time [hr.]', ylabel=r'$\\epsilon$')\n",
    "ax.legend()\n",
    "print('1st harmonic, A parameter: mean, std: ', np.mean(data_A), np.std(data_A)/np.sqrt(len(data_A)))\n",
    "print('1st harmonic, corrected A: mean, std: ', np.mean(data_A_shifted), np.std(data_A_shifted)/np.sqrt(len(data_A_shifted)))\n",
    "print('1st harmonic, A parameter[epsilon]: mean, std: ', np.mean(data_A_shifted)*to_epsilon, to_epsilon*np.std(data_A_shifted)/np.sqrt(len(data_A_shifted)))\n"
   ]
  },
  {
   "cell_type": "code",
   "execution_count": 49,
   "metadata": {},
   "outputs": [
    {
     "data": {
      "text/plain": [
       "0.026315789473684213"
      ]
     },
     "execution_count": 49,
     "metadata": {},
     "output_type": "execute_result"
    }
   ],
   "source": [
    "0.1/3.8"
   ]
  },
  {
   "cell_type": "markdown",
   "metadata": {},
   "source": [
    "### Fitting"
   ]
  },
  {
   "cell_type": "code",
   "execution_count": 24,
   "metadata": {},
   "outputs": [
    {
     "data": {
      "application/vnd.jupyter.widget-view+json": {
       "model_id": "9268563e4a51425ebe8bdd2643f88129",
       "version_major": 2,
       "version_minor": 0
      },
      "text/plain": [
       "Canvas(toolbar=Toolbar(toolitems=[('Home', 'Reset original view', 'home', 'home'), ('Back', 'Back to previous …"
      ]
     },
     "metadata": {},
     "output_type": "display_data"
    },
    {
     "data": {
      "text/plain": [
       "[Text(0.5, 0, 'Force [N]')]"
      ]
     },
     "execution_count": 24,
     "metadata": {},
     "output_type": "execute_result"
    }
   ],
   "source": [
    "from scipy.optimize import curve_fit\n",
    "from scipy import asarray as ar,exp\n",
    "\n",
    "n_bins = 29\n",
    "range_pram = 0.02\n",
    "_,ax = plt.subplots()\n",
    "entries, bins, patches = ax.hist(data_A_shifted*to_epsilon, bins=n_bins, range=(-range_pram, range_pram), label='200Vpp, all frequencies')\n",
    "ax.set(xlabel=r'Force [N]')"
   ]
  },
  {
   "cell_type": "code",
   "execution_count": 25,
   "metadata": {},
   "outputs": [
    {
     "name": "stdout",
     "output_type": "stream",
     "text": [
      "mean:  -3.86227281964e-05  ,std (on the mean):  3.93266031823e-05  ,sigma:  0.00514367314742\n",
      "std from the covariance matrix:  4.49698794695e-05\n",
      "\n",
      "Neutrality:  3.12115898272e-19\n",
      "Factor needed for neutrality best limit:  312.115898272\n"
     ]
    }
   ],
   "source": [
    "## gaussian fit to the histogram\n",
    "\n",
    "bins_fit =[(bins[i+1]-bins[i])/2+bins[i] for i in range(len(entries))]\n",
    "\n",
    "titles = ['', '', '']\n",
    "\n",
    "for i,ee in enumerate([entries]):\n",
    "    x = bins_fit\n",
    "    y= np.array(ee)\n",
    "    sigma_bin = np.sqrt(ee)\n",
    "    \n",
    "    n = len(x)                          #the number of data\n",
    "    mean = 0                  #note this correction\n",
    "    sigma = 0.03       #note this correction\n",
    "\n",
    "    def gaus(x,a,x0,sigma):\n",
    "        return a*np.exp(-(x-x0)**2/(2*sigma**2))\n",
    "\n",
    "    popt,pcov = curve_fit(gaus,x,y,p0=[1,mean,sigma])\n",
    "    ax.plot(x,gaus(x,*popt),'ro:',label='fit')\n",
    "\n",
    "    print(\"mean: \", popt[1], \" ,std (on the mean): \", popt[2]/np.sqrt(len(data_A_shifted)), \" ,sigma: \", popt[2])\n",
    "    print(\"std from the covariance matrix: \", np.sqrt(pcov[1,1]))\n",
    "    \n",
    "    nucleons = 420e-12*6e23/2\n",
    "    print('\\nNeutrality: ', 1/nucleons*popt[2]/np.sqrt(len(data_A_shifted)))\n",
    "    print('Factor needed for neutrality best limit: ', 1/nucleons*popt[2]/np.sqrt(len(data_A_shifted))/1e-21)"
   ]
  },
  {
   "cell_type": "code",
   "execution_count": null,
   "metadata": {},
   "outputs": [],
   "source": []
  },
  {
   "cell_type": "code",
   "execution_count": null,
   "metadata": {},
   "outputs": [],
   "source": []
  },
  {
   "cell_type": "code",
   "execution_count": null,
   "metadata": {},
   "outputs": [],
   "source": []
  }
 ],
 "metadata": {
  "kernelspec": {
   "display_name": "Python 3",
   "language": "python",
   "name": "python3"
  },
  "language_info": {
   "codemirror_mode": {
    "name": "ipython",
    "version": 3
   },
   "file_extension": ".py",
   "mimetype": "text/x-python",
   "name": "python",
   "nbconvert_exporter": "python",
   "pygments_lexer": "ipython3",
   "version": "3.6.9"
  }
 },
 "nbformat": 4,
 "nbformat_minor": 4
}
