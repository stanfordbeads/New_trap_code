{
 "cells": [
  {
   "cell_type": "code",
   "execution_count": 1,
   "metadata": {},
   "outputs": [],
   "source": [
    "import numpy as np\n",
    "import matplotlib.pyplot as plt\n",
    "import matplotlib\n",
    "from scipy import signal\n",
    "from scipy.optimize import minimize\n",
    "\n",
    "import random\n",
    "\n",
    "import h5py\n",
    "from IPython.utils import io\n",
    "\n",
    "from joblib import Parallel, delayed\n",
    "from tqdm import tqdm\n",
    "import sys"
   ]
  },
  {
   "cell_type": "code",
   "execution_count": 2,
   "metadata": {},
   "outputs": [],
   "source": [
    "%matplotlib widget\n",
    "\n",
    "%reload_ext autoreload\n",
    "%autoreload 2"
   ]
  },
  {
   "cell_type": "code",
   "execution_count": 3,
   "metadata": {},
   "outputs": [],
   "source": [
    "sys.path.append('../../../../nadavp/new_trap/Tools/')\n",
    "sys.path.append('../../../../nadavp/new_trap/Tools/StatFramework/')\n",
    "sys.path.append('../../../../nadavp/opt_lev_analysis/lib/')\n",
    "import BeadDataFile\n",
    "from discharge_tools import *"
   ]
  },
  {
   "cell_type": "code",
   "execution_count": 4,
   "metadata": {},
   "outputs": [],
   "source": [
    "from likelihood_calculator import likelihood_analyser\n",
    "from likelihood_calculator import GravityFramework\n",
    "from likelihood_calculator import auxiliary_functions as aux\n",
    "gfw = GravityFramework.GravityFramework()"
   ]
  },
  {
   "cell_type": "code",
   "execution_count": 5,
   "metadata": {},
   "outputs": [],
   "source": [
    "import bead_util as bu\n",
    "# import calib_util as cal\n",
    "import transfer_func_util as tf\n",
    "import configuration as config"
   ]
  },
  {
   "cell_type": "markdown",
   "metadata": {},
   "source": [
    "### Discharge data"
   ]
  },
  {
   "cell_type": "code",
   "execution_count": 6,
   "metadata": {},
   "outputs": [],
   "source": [
    "step_cal_dir = r'/data/old_trap/20211001/bead1/discharge/recharge_20211013/'\n",
    "max_file = 1"
   ]
  },
  {
   "cell_type": "code",
   "execution_count": 7,
   "metadata": {},
   "outputs": [
    {
     "name": "stdout",
     "output_type": "stream",
     "text": [
      "175\n"
     ]
    }
   ],
   "source": [
    "step_cal_files = []\n",
    "for root, dirnames, filenames in os.walk(step_cal_dir):\n",
    "    for filename in fnmatch.filter(filenames, '*' + config.extensions['data']):\n",
    "        if '_fpga.h5' in filename:\n",
    "            continue\n",
    "        step_cal_files.append(os.path.join(root, filename))\n",
    "step_cal_files.sort(key = bu.find_str)\n",
    "num_calib_files = len(step_cal_files)\n",
    "print(num_calib_files)\n",
    "\n",
    "# Do the step calibration\n",
    "\n",
    "step_file_objs = []\n",
    "for filname in step_cal_files[:]:\n",
    "    try:\n",
    "        df = bu.DataFile();\n",
    "        df.load(filname);\n",
    "        df.load_other_data()\n",
    "        step_file_objs.append(df);\n",
    "    except:\n",
    "        print('***')"
   ]
  },
  {
   "cell_type": "code",
   "execution_count": 8,
   "metadata": {},
   "outputs": [
    {
     "data": {
      "text/plain": [
       "(96.89396155735751, 97.9992158717, 128.33230649865476)"
      ]
     },
     "execution_count": 8,
     "metadata": {},
     "output_type": "execute_result"
    }
   ],
   "source": [
    "scaleY = 97.9992158717\n",
    "scaleZ = scaleY*(418+627)/(392+406)\n",
    "scaleX = scaleY*(421+368)/(392+406)\n",
    "scaleX, scaleY, scaleZ"
   ]
  },
  {
   "cell_type": "code",
   "execution_count": 9,
   "metadata": {},
   "outputs": [
    {
     "name": "stdout",
     "output_type": "stream",
     "text": [
      "Scales are  97.9992158717\n",
      "voltage:  24.0265126779\n"
     ]
    }
   ],
   "source": [
    "print(\"Scales are \", scaleY)\n",
    "bb = step_file_objs[-1]\n",
    "drive_freq = 139\n",
    "bandwidth=2\n",
    "fsamp = 5000\n",
    "b, a = signal.butter(3, [2.*(drive_freq-bandwidth/2.)/fsamp, 2.*(drive_freq+bandwidth/2.)/fsamp ], btype = 'bandpass')\n",
    "xx2 = signal.filtfilt(b, a, bb.other_data[5])\n",
    "voltage = np.std(xx2)*np.sqrt(2)*100\n",
    "print(\"voltage: \", voltage)"
   ]
  },
  {
   "cell_type": "code",
   "execution_count": 10,
   "metadata": {},
   "outputs": [
    {
     "name": "stdout",
     "output_type": "stream",
     "text": [
      "voltage:  24.0265126779 -0.592538948653 -0.574958113985\n",
      "voltage:  190.87201524 0.674330527298\n"
     ]
    }
   ],
   "source": [
    "i = 0\n",
    "fname = r'/data/old_trap/20211001/bead1/neutrality9/Z_200Vpp_alternate_139Hz_spin_XY_117kHz_175Vpp_delay_4sec_with_height_fb_redo5/Z_200Vpp_'+str(i)+'.h5'\n",
    "bb = bu.DataFile();\n",
    "bb.load(fname);\n",
    "bb.load_other_data()\n",
    "print(\"voltage: \", voltage, np.mean(bb.other_data[1])*100, np.mean(bb.other_data[2])*100)\n",
    "drive_freq = 139\n",
    "bandwidth=2\n",
    "b, a = signal.butter(3, [2.*(drive_freq-bandwidth/2.)/fsamp, 2.*(drive_freq+bandwidth/2.)/fsamp ], btype = 'bandpass')\n",
    "xx2 = signal.filtfilt(b, a, bb.other_data[1])\n",
    "voltage_200_1 = np.std(xx2)*np.sqrt(2)*100\n",
    "xx3 = signal.filtfilt(b, a, bb.other_data[2])\n",
    "voltage_200_2 = np.std(xx3)*np.sqrt(2)*100\n",
    "print(\"voltage: \", voltage_200_1, voltage_200_2)"
   ]
  },
  {
   "cell_type": "code",
   "execution_count": 11,
   "metadata": {},
   "outputs": [],
   "source": [
    "etha = 1/scaleZ*327*1.6e-19*voltage\n",
    "to_epsilon = 1/(2*327*1.6e-19*voltage_200_1*(418)/(418+627))"
   ]
  },
  {
   "cell_type": "markdown",
   "metadata": {},
   "source": [
    "### Look at neutrality data"
   ]
  },
  {
   "cell_type": "code",
   "execution_count": 59,
   "metadata": {},
   "outputs": [],
   "source": [
    "amps_old_trap = np.load(\"all_200Vpp_ol_trap_alternate.npy\")\n",
    "amps_old_trap_sideband = np.load(\"all_200Vpp_ol_trap_alternate_sideband.npy\")"
   ]
  },
  {
   "cell_type": "code",
   "execution_count": 172,
   "metadata": {},
   "outputs": [
    {
     "data": {
      "application/vnd.jupyter.widget-view+json": {
       "model_id": "fb80d4cbae484285ae2c9069e2a38fc4",
       "version_major": 2,
       "version_minor": 0
      },
      "text/plain": [
       "Canvas(toolbar=Toolbar(toolitems=[('Home', 'Reset original view', 'home', 'home'), ('Back', 'Back to previous …"
      ]
     },
     "metadata": {},
     "output_type": "display_data"
    },
    {
     "name": "stdout",
     "output_type": "stream",
     "text": [
      "1st harmonic, electrode 1: mean, std:  -2.17707741095e-17 6.36621564849e-19\n",
      "1st harmonic, electrode 2: mean, std:  -3.40064001427e-17 8.26668817635e-19\n",
      "1st harmonic, A parameter: mean, std:  3.33385983262e-19 4.08548124093e-19\n",
      "1st harmonic, A parameter[epsilon]: mean, std:  4.17299011001e-05 5.11379412123e-05\n",
      "\n",
      "2nd harmonic, electrode 1: mean, std:  4.11045816737e-16 1.62547535243e-19\n",
      "2nd harmonic, electrode 2: mean, std:  8.34111897036e-16 2.84524342932e-19\n",
      "2nd harmonic, B parameter: mean, std:  7.63458093234e-16 2.10051003093e-19\n"
     ]
    }
   ],
   "source": [
    "factor = 0.65\n",
    "\n",
    "data = amps_old_trap[::2,0]\n",
    "data2 = amps_old_trap[1::2,0]\n",
    "data3 = data-factor*data2\n",
    "\n",
    "data_noise = amps_old_trap_sideband[::2,0]\n",
    "data2_noise = amps_old_trap_sideband[1::2,0]\n",
    "data3_noise = data_noise-factor*data2_noise\n",
    "\n",
    "data_1 = np.abs(amps_old_trap[::2,1])\n",
    "data2_1 = np.abs(amps_old_trap[1::2,1])\n",
    "data3_1 = data_1+factor*factor*data2_1\n",
    "\n",
    "_, ax= plt.subplots(figsize=(9.5,4))\n",
    "ax.scatter(np.arange(len(data))*2*10/3600, data, label='200Vpp-z-plus, xy-spin-50Vpp-103kHz')\n",
    "ax.scatter(np.arange(len(data))*2*10/3600, data2, label='200Vpp-z-minus, xy-spin-50Vpp-103kHz', alpha=0.6)\n",
    "# ax.scatter(np.arange(len(data3))*2*10/3600, data3, label='200Vpp-z, A parameter', alpha=0.6)\n",
    "\n",
    "ax.plot(np.arange(len(data3))*2*10/3600, np.arange(len(data3))*0, '--k')\n",
    "ax.set(xlabel='Integration time [hr.]', ylabel=r'$\\epsilon$')\n",
    "ax.legend()\n",
    "print('1st harmonic, electrode 1: mean, std: ', np.mean(data), np.std(data)/np.sqrt(len(data)))\n",
    "print('1st harmonic, electrode 2: mean, std: ', np.mean(data2), np.std(data2)/np.sqrt(len(data2)))\n",
    "print('1st harmonic, A parameter: mean, std: ', np.mean(data3), np.std(data3)/np.sqrt(len(data3)))\n",
    "print('1st harmonic, A parameter[epsilon]: mean, std: ', np.mean(data3)*to_epsilon, to_epsilon*np.std(data3)/np.sqrt(len(data3)))\n",
    "\n",
    "print()\n",
    "print('2nd harmonic, electrode 1: mean, std: ', np.mean(data_1), np.std(data_1)/np.sqrt(len(data_1)))\n",
    "print('2nd harmonic, electrode 2: mean, std: ', np.mean(data2_1), np.std(data2_1)/np.sqrt(len(data2_1)))\n",
    "print('2nd harmonic, B parameter: mean, std: ', np.mean(data3_1), np.std(data3_1)/np.sqrt(len(data3_1)))"
   ]
  },
  {
   "cell_type": "code",
   "execution_count": 174,
   "metadata": {},
   "outputs": [
    {
     "data": {
      "application/vnd.jupyter.widget-view+json": {
       "model_id": "df214ac310804f0bb52847b2a7518a63",
       "version_major": 2,
       "version_minor": 0
      },
      "text/plain": [
       "Canvas(toolbar=Toolbar(toolitems=[('Home', 'Reset original view', 'home', 'home'), ('Back', 'Back to previous …"
      ]
     },
     "metadata": {},
     "output_type": "display_data"
    },
    {
     "name": "stdout",
     "output_type": "stream",
     "text": [
      "1st harmonic, A parameter: mean, std:  3.33385983262e-19 4.08548124093e-19\n",
      "1st harmonic, corrected A: mean, std:  3.36614250502e-19 3.28055014413e-19\n",
      "1st harmonic, A parameter[epsilon]: mean, std:  4.21339830934e-05 4.10612873052e-05\n",
      "1st harmonic, A-noise parameter[epsilon]: mean, std:  4.6009856115e-07 3.95173078225e-05\n"
     ]
    }
   ],
   "source": [
    "N = len(data)\n",
    "data_shifted = np.array([(data[i]+data[i-1])/2 for i in range(1,N)])\n",
    "data2_shifted = data2[:-1]\n",
    "data3_shifted = data_shifted-factor*data2_shifted\n",
    "\n",
    "data_shifted_noise = np.array([(data_noise[i]+data_noise[i-1])/2 for i in range(1,N)])\n",
    "data2_shifted_noise = data2_noise[:-1]\n",
    "data3_shifted_noise = data_shifted_noise-factor*data2_shifted_noise\n",
    "\n",
    "_, ax= plt.subplots(figsize=(9.5,4))\n",
    "ax.scatter(np.arange(len(data3))*2*10/3600, data3, label='200Vpp-z-plus, A parameter')\n",
    "ax.scatter(np.arange(len(data3_shifted))*2*10/3600, data3_shifted, label='200Vpp-z, corrected A parameter', alpha=0.6)\n",
    "\n",
    "ax.plot(np.arange(len(data3))*2*10/3600, np.arange(len(data3))*0, '--k')\n",
    "ax.set(xlabel='Integration time [hr.]', ylabel=r'$\\epsilon$')\n",
    "ax.legend()\n",
    "print('1st harmonic, A parameter: mean, std: ', np.mean(data3), np.std(data3)/np.sqrt(len(data3)))\n",
    "print('1st harmonic, corrected A: mean, std: ', np.mean(data3_shifted), np.std(data3_shifted)/np.sqrt(len(data3_shifted)))\n",
    "print('1st harmonic, A parameter[epsilon]: mean, std: ', np.mean(data3_shifted)*to_epsilon, to_epsilon*np.std(data3_shifted)/np.sqrt(len(data3)))\n",
    "print('1st harmonic, A-noise parameter[epsilon]: mean, std: ', np.mean(data3_shifted_noise)*to_epsilon, to_epsilon*np.std(data3_shifted_noise)/np.sqrt(len(data3_noise)))\n"
   ]
  },
  {
   "cell_type": "markdown",
   "metadata": {},
   "source": [
    "### Fitting"
   ]
  },
  {
   "cell_type": "code",
   "execution_count": 277,
   "metadata": {},
   "outputs": [
    {
     "data": {
      "application/vnd.jupyter.widget-view+json": {
       "model_id": "b5149e53d9f84ed6996d0d43d0e3c3ee",
       "version_major": 2,
       "version_minor": 0
      },
      "text/plain": [
       "Canvas(toolbar=Toolbar(toolitems=[('Home', 'Reset original view', 'home', 'home'), ('Back', 'Back to previous …"
      ]
     },
     "metadata": {},
     "output_type": "display_data"
    },
    {
     "data": {
      "text/plain": [
       "[Text(0.5, 0, 'Force [N]')]"
      ]
     },
     "execution_count": 277,
     "metadata": {},
     "output_type": "execute_result"
    }
   ],
   "source": [
    "from scipy.optimize import curve_fit\n",
    "from scipy import asarray as ar,exp\n",
    "\n",
    "n_bins = 40\n",
    "range_pram = 0.02\n",
    "_,ax = plt.subplots()\n",
    "entries, bins, patches = ax.hist(data3_shifted*to_epsilon, bins=n_bins, range=(-range_pram, range_pram), label='200Vpp, all frequencies')\n",
    "entries2, bins2, patches2 = ax.hist(data3_shifted_noise*to_epsilon, bins=n_bins, range=(-range_pram, range_pram), alpha=0.3, label='200Vpp, all frequencies - sideband')\n",
    "ax.set(xlabel=r'Force [N]')\n",
    "# ax.legend()"
   ]
  },
  {
   "cell_type": "code",
   "execution_count": 278,
   "metadata": {},
   "outputs": [
    {
     "name": "stdout",
     "output_type": "stream",
     "text": [
      "mean:  3.31177704375e-05  ,std (on the mean):  -4.06318596072e-05  ,sigma:  -0.00503556457257\n",
      "std from the covariance matrix:  4.7931546096e-05\n",
      "\n",
      "Neutrality:  -3.22475076248e-19\n",
      "Factor needed for neutrality best limit:  -322.475076248\n",
      "\n",
      "mean:  3.29997573559e-05  ,std (on the mean):  -3.97243713569e-05  ,sigma:  -0.00492309825359\n",
      "std from the covariance matrix:  3.61788771335e-05\n",
      "\n",
      "Neutrality:  -3.15272788547e-19\n",
      "Factor needed for neutrality best limit:  -315.272788547\n",
      "\n"
     ]
    }
   ],
   "source": [
    "## gaussian fit to the histogram\n",
    "\n",
    "bins_fit =[(bins[i+1]-bins[i])/2+bins[i] for i in range(len(entries))]\n",
    "\n",
    "titles = ['', '', '']\n",
    "\n",
    "for i,ee in enumerate([entries, entries2]):\n",
    "    x = bins_fit\n",
    "    y= np.array(ee)\n",
    "    sigma_bin = np.sqrt(ee)\n",
    "    \n",
    "    n = len(x)                          #the number of data\n",
    "    mean = 0                  #note this correction\n",
    "    sigma = 0.03       #note this correction\n",
    "\n",
    "    def gaus(x,a,x0,sigma):\n",
    "        return a*np.exp(-(x-x0)**2/(2*sigma**2))\n",
    "\n",
    "    popt,pcov = curve_fit(gaus,x,y,p0=[1,mean,sigma])\n",
    "    ax.plot(x,gaus(x,*popt),'ro:',label='fit')\n",
    "\n",
    "    print(\"mean: \", popt[1], \" ,std (on the mean): \", popt[2]/np.sqrt(len(data)), \" ,sigma: \", popt[2])\n",
    "    print(\"std from the covariance matrix: \", np.sqrt(pcov[1,1]))\n",
    "    print('\\nNeutrality: ', 1/1.26e14*popt[2]/np.sqrt(len(data)))\n",
    "    print('Factor needed for neutrality best limit: ', 1/1.26e14*popt[2]/np.sqrt(len(data))/1e-21)\n",
    "    print()"
   ]
  },
  {
   "cell_type": "code",
   "execution_count": 97,
   "metadata": {},
   "outputs": [],
   "source": [
    "z_top_mean = []\n",
    "z_bottom_mean = []\n",
    "z_top_std = []\n",
    "z_bottom_std = []\n",
    "\n",
    "bin_size = 10\n",
    "bins = len(data)//bin_size\n",
    "for i in range(bins):\n",
    "    z_top_mean.append(np.mean(data_shifted[i*bin_size:(i+1)*bin_size]))\n",
    "    z_bottom_mean.append(np.mean(data2_shifted[i*bin_size:(i+1)*bin_size]))\n",
    "    z_top_std.append(np.std(data_shifted[i*bin_size:(i+1)*bin_size]))\n",
    "    z_bottom_std.append(np.std(data2_shifted[i*bin_size:(i+1)*bin_size]))\n",
    "z_top_mean = np.array(z_top_mean)\n",
    "z_top_std = np.array(z_top_std)/np.sqrt(bin_size)\n",
    "z_bottom_mean = np.array(z_bottom_mean)\n",
    "z_bottom_std = np.array(z_bottom_std)/np.sqrt(bin_size)"
   ]
  },
  {
   "cell_type": "code",
   "execution_count": 98,
   "metadata": {},
   "outputs": [
    {
     "data": {
      "application/vnd.jupyter.widget-view+json": {
       "model_id": "d0c3874f28d740adaf2c36bffefe3c73",
       "version_major": 2,
       "version_minor": 0
      },
      "text/plain": [
       "Canvas(toolbar=Toolbar(toolitems=[('Home', 'Reset original view', 'home', 'home'), ('Back', 'Back to previous …"
      ]
     },
     "metadata": {},
     "output_type": "display_data"
    },
    {
     "data": {
      "text/plain": [
       "[<matplotlib.lines.Line2D at 0x7efb24c7a0b8>]"
      ]
     },
     "execution_count": 98,
     "metadata": {},
     "output_type": "execute_result"
    }
   ],
   "source": [
    "_,ax = plt.subplots(figsize=(9.4,4))\n",
    "time_top_electrode_shifted = np.arange(len(z_top_mean))*10*bin_size/3600\n",
    "ax.errorbar(time_top_electrode_shifted, z_top_mean, yerr=z_top_std, fmt='o')\n",
    "ax.errorbar(time_top_electrode_shifted, z_bottom_mean, yerr=z_bottom_std, fmt='o')\n",
    "ax.plot(time_top_electrode_shifted, time_top_electrode_shifted*0, 'k--', zorder=3)\n"
   ]
  },
  {
   "cell_type": "code",
   "execution_count": 99,
   "metadata": {},
   "outputs": [
    {
     "data": {
      "application/vnd.jupyter.widget-view+json": {
       "model_id": "c9bbe0446bc5484c82a64653b3268b55",
       "version_major": 2,
       "version_minor": 0
      },
      "text/plain": [
       "Canvas(toolbar=Toolbar(toolitems=[('Home', 'Reset original view', 'home', 'home'), ('Back', 'Back to previous …"
      ]
     },
     "metadata": {},
     "output_type": "display_data"
    },
    {
     "data": {
      "text/plain": [
       "<matplotlib.collections.PathCollection at 0x7efb246474a8>"
      ]
     },
     "execution_count": 99,
     "metadata": {},
     "output_type": "execute_result"
    }
   ],
   "source": [
    "_,ax = plt.subplots()\n",
    "ax.scatter(z_top_mean, z_bottom_mean)"
   ]
  },
  {
   "cell_type": "code",
   "execution_count": 291,
   "metadata": {},
   "outputs": [
    {
     "name": "stdout",
     "output_type": "stream",
     "text": [
      "15359 15304\n",
      "0.3580962302233219\n"
     ]
    }
   ],
   "source": [
    "thresh = 0.015\n",
    "data3_eps = data3_shifted*to_epsilon\n",
    "data3_filt = np.array([dd for dd in data3_eps if dd<thresh if dd>-thresh])\n",
    "print(len(data3), len(data3_filt))\n",
    "print((len(data3_filt)-len(data3))/len(data3)*-100)"
   ]
  },
  {
   "cell_type": "code",
   "execution_count": 292,
   "metadata": {},
   "outputs": [
    {
     "name": "stdout",
     "output_type": "stream",
     "text": [
      "15359 15317\n",
      "0.2734553030796276\n"
     ]
    }
   ],
   "source": [
    "thresh = 0.015\n",
    "data3_eps_noise = data3_shifted_noise*to_epsilon\n",
    "data3_filt_noise = np.array([dd for dd in data3_eps_noise if dd<thresh if dd>-thresh])\n",
    "print(len(data3_noise), len(data3_filt_noise))\n",
    "print((len(data3_filt_noise)-len(data3_noise))/len(data3_noise)*-100)"
   ]
  },
  {
   "cell_type": "code",
   "execution_count": 302,
   "metadata": {},
   "outputs": [],
   "source": [
    "z_combine_means = []\n",
    "z_combine_std = []\n",
    "\n",
    "bin_size = 10\n",
    "bins = len(data3_filt)//bin_size\n",
    "for i in range(bins):\n",
    "    z_combine_means.append(np.mean(data3_filt[i*bin_size:(i+1)*bin_size]))\n",
    "    z_combine_std.append(np.std(data3_filt[i*bin_size:(i+1)*bin_size]))\n",
    "z_combine_means = np.array(z_combine_means)\n",
    "z_combine_std = np.array(z_combine_std)/np.sqrt(bin_size)\n",
    "\n",
    "z_combine_means_noise = []\n",
    "z_combine_std_noise = []\n",
    "\n",
    "bins = len(data3_filt_noise)//bin_size\n",
    "for i in range(bins):\n",
    "    z_combine_means_noise.append(np.mean(data3_filt_noise[i*bin_size:(i+1)*bin_size]))\n",
    "    z_combine_std_noise.append(np.std(data3_filt_noise[i*bin_size:(i+1)*bin_size]))\n",
    "z_combine_means_noise = np.array(z_combine_means_noise)\n",
    "z_combine_std_noise = np.array(z_combine_std_noise)/np.sqrt(bin_size)"
   ]
  },
  {
   "cell_type": "code",
   "execution_count": 303,
   "metadata": {},
   "outputs": [
    {
     "data": {
      "application/vnd.jupyter.widget-view+json": {
       "model_id": "d602624f76cf45109f7a93eabb8c6b1e",
       "version_major": 2,
       "version_minor": 0
      },
      "text/plain": [
       "Canvas(toolbar=Toolbar(toolitems=[('Home', 'Reset original view', 'home', 'home'), ('Back', 'Back to previous …"
      ]
     },
     "metadata": {},
     "output_type": "display_data"
    },
    {
     "data": {
      "text/plain": [
       "[Text(0.5, 0, 'Measuring time [hr.]'), Text(0, 0.5, 'Measured force [N]')]"
      ]
     },
     "execution_count": 303,
     "metadata": {},
     "output_type": "execute_result"
    }
   ],
   "source": [
    "_,ax = plt.subplots(figsize=(9.4,4))\n",
    "iteration = np.arange(len(z_top_mean))*10*bin_size*2/3600\n",
    "ax.plot(iteration, iteration*0, 'r--')\n",
    "A = z_top_mean-z_bottom_mean*factor\n",
    "A_err = np.sqrt(z_top_std**2+(z_bottom_std*factor)**2)\n",
    "A_err_noise = np.sqrt(z_top_std**2+(z_bottom_std*factor)**2)\n",
    "ax.errorbar(iteration, A, yerr=A_err, fmt='o', label='A parameter', alpha=0.3)\n",
    "ax.legend()\n",
    "ax.set(xlabel='Measuring time [hr.]', ylabel='Measured force [N]')\n",
    "# ax.errorbar(iteration, (z_top_means-z_bottom_mean*0.66)*to_epsilon, yerr=z_bottom_std/np.sqrt(10)*to_epsilon, fmt='o')"
   ]
  },
  {
   "cell_type": "code",
   "execution_count": 311,
   "metadata": {},
   "outputs": [],
   "source": [
    "A_epsion = z_combine_means\n",
    "A_err_epsilon = z_combine_std_noise[:-1]\n",
    "def calculate_pl(force_):\n",
    "    chi2 = np.power((A_epsion-force_)/A_err_epsilon, 2)\n",
    "    return np.sum(chi2)"
   ]
  },
  {
   "cell_type": "code",
   "execution_count": 312,
   "metadata": {
    "scrolled": false
   },
   "outputs": [
    {
     "data": {
      "application/vnd.jupyter.widget-view+json": {
       "model_id": "6ace2fcd6ee944849c5a111fe04bb539",
       "version_major": 2,
       "version_minor": 0
      },
      "text/plain": [
       "Canvas(toolbar=Toolbar(toolitems=[('Home', 'Reset original view', 'home', 'home'), ('Back', 'Back to previous …"
      ]
     },
     "metadata": {},
     "output_type": "display_data"
    },
    {
     "data": {
      "text/plain": [
       "[Text(0.5, 0, '$\\\\epsilon [10^5]$'), Text(0, 0.5, 'PL')]"
      ]
     },
     "execution_count": 312,
     "metadata": {},
     "output_type": "execute_result"
    }
   ],
   "source": [
    "_,ax = plt.subplots()\n",
    "pl_range = np.arange(-1e-4,1e-4,2e-6)\n",
    "pl = np.array([calculate_pl(pl_range_) for pl_range_ in pl_range])\n",
    "ax.plot(pl_range*100000, pl-np.min(pl), 'o--')\n",
    "ax.plot(pl_range*100000, pl_range*0+2.7, 'r--')\n",
    "ax.set(xlabel=r'$\\epsilon [10^5]$', ylabel='PL')"
   ]
  },
  {
   "cell_type": "code",
   "execution_count": 314,
   "metadata": {},
   "outputs": [],
   "source": [
    "epsilon_array = np.array([data3_shifted, data3_shifted_noise])*to_epsilon"
   ]
  },
  {
   "cell_type": "code",
   "execution_count": 320,
   "metadata": {},
   "outputs": [
    {
     "data": {
      "text/plain": [
       "((2, 15358), 85.32222222222222)"
      ]
     },
     "execution_count": 320,
     "metadata": {},
     "output_type": "execute_result"
    }
   ],
   "source": [
    "epsilon_array.shape, 15358*10/3600*2"
   ]
  },
  {
   "cell_type": "code",
   "execution_count": 317,
   "metadata": {},
   "outputs": [],
   "source": [
    "np.save(\"epslion_old_trap\", epsilon_array)"
   ]
  },
  {
   "cell_type": "code",
   "execution_count": null,
   "metadata": {},
   "outputs": [],
   "source": []
  },
  {
   "cell_type": "code",
   "execution_count": 272,
   "metadata": {},
   "outputs": [
    {
     "data": {
      "application/vnd.jupyter.widget-view+json": {
       "model_id": "3e62f75d2c46491bb9dc0675212a8477",
       "version_major": 2,
       "version_minor": 0
      },
      "text/plain": [
       "Canvas(toolbar=Toolbar(toolitems=[('Home', 'Reset original view', 'home', 'home'), ('Back', 'Back to previous …"
      ]
     },
     "metadata": {},
     "output_type": "display_data"
    },
    {
     "name": "stdout",
     "output_type": "stream",
     "text": [
      "mean  2e-05\n",
      "limit  -4.41486558343e-05 8.44962290276e-05\n"
     ]
    }
   ],
   "source": [
    "_,ax = plt.subplots()\n",
    "pl_range = np.arange(-2e-4,1e-4,1e-5)\n",
    "pl = np.array([calculate_pl(pl_range_) for pl_range_ in pl_range])\n",
    "ax.plot(pl_range*100000, pl-np.min(pl), 'o--', label='-2log(likelihood)')\n",
    "ax.plot(pl_range*100000, pl_range*0+2.7, 'r--')\n",
    "ax.set(xlabel=r'$\\epsilon [10^5]$', ylabel='PL',)\n",
    "\n",
    "pl_range_plus = np.arange(0,1e-4,1e-5)\n",
    "pl_plus = np.array([calculate_pl(pl_range_) for pl_range_ in pl_range_plus])\n",
    "ax.plot(pl_range_plus*100000, pl_plus-np.min(pl_plus), 'o--', label='profile likelihood')\n",
    "\n",
    "pl_range_minus = np.arange(-2e-4,pl_range[np.argmin(pl)],1e-5)\n",
    "pl_minus = np.array([calculate_pl(pl_range_) for pl_range_ in pl_range_minus])\n",
    "ax.plot(pl_range_minus*100000, pl_minus-np.min(pl_minus), 'o--', label='profile likelihood')\n",
    "ax.set(xlim=(-15,8), ylim=(-0.1,6))\n",
    "ax.legend()\n",
    "print('mean ', pl_range[np.argmin(pl)])\n",
    "print('limit ', np.interp(2.71, (pl_minus-np.min(pl_minus))[::-1], pl_range_minus[::-1]), np.interp(2.71, pl_plus-np.min(pl_plus), pl_range_plus))"
   ]
  },
  {
   "cell_type": "code",
   "execution_count": null,
   "metadata": {},
   "outputs": [],
   "source": [
    "_,ax = plt.subplots()\n",
    "pl_range_plus = np.arange(0,1e-4,1e-5)\n",
    "pl_plus = np.array([calculate_pl(pl_range_) for pl_range_ in pl_range_plus])\n",
    "ax.plot(pl_range_plus*100000, pl_plus-np.min(pl_plus), 'o--')\n",
    "ax.plot(pl_range_plus*100000, pl_range_plus*0+2.7, 'r--')\n",
    "\n",
    "ax.set(xlabel=r'$\\epsilon [10^5]$', ylabel='PL')\n",
    "pl_range[np.argmin(pl)], np.interp(2.71, pl_plus-np.min(pl_plus), pl_range_plus)"
   ]
  },
  {
   "cell_type": "code",
   "execution_count": null,
   "metadata": {},
   "outputs": [],
   "source": [
    "_,ax = plt.subplots()\n",
    "pl_range_minus = np.arange(-2e-4,pl_range[np.argmin(pl)],1e-5)\n",
    "pl_minus = np.array([calculate_pl(pl_range_) for pl_range_ in pl_range_minus])\n",
    "ax.plot(pl_range_minus*100000, pl_minus-np.min(pl_minus), 'o--')\n",
    "ax.plot(pl_range_minus*100000, pl_range_minus*0+2.7, 'r--')\n",
    "\n",
    "ax.set(xlabel=r'$\\epsilon [10^5]$', ylabel='PL')\n",
    "pl_range[np.argmin(pl)], np.interp(2.71, (pl_minus-np.min(pl_minus))[::-1], pl_range_minus[::-1])"
   ]
  },
  {
   "cell_type": "code",
   "execution_count": null,
   "metadata": {},
   "outputs": [],
   "source": []
  },
  {
   "cell_type": "code",
   "execution_count": null,
   "metadata": {},
   "outputs": [],
   "source": []
  }
 ],
 "metadata": {
  "kernelspec": {
   "display_name": "Python 3",
   "language": "python",
   "name": "python3"
  },
  "language_info": {
   "codemirror_mode": {
    "name": "ipython",
    "version": 3
   },
   "file_extension": ".py",
   "mimetype": "text/x-python",
   "name": "python",
   "nbconvert_exporter": "python",
   "pygments_lexer": "ipython3",
   "version": "3.6.9"
  }
 },
 "nbformat": 4,
 "nbformat_minor": 4
}
