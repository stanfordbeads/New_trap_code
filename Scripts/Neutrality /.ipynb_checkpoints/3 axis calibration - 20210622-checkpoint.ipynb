{
 "cells": [
  {
   "cell_type": "code",
   "execution_count": 2,
   "metadata": {},
   "outputs": [],
   "source": [
    "import numpy as np\n",
    "import matplotlib.pyplot as plt\n",
    "import matplotlib\n",
    "from scipy import signal\n",
    "import random\n",
    "\n",
    "import h5py\n",
    "from IPython.utils import io\n",
    "\n",
    "from joblib import Parallel, delayed\n",
    "from tqdm import tqdm\n",
    "import sys"
   ]
  },
  {
   "cell_type": "code",
   "execution_count": 3,
   "metadata": {},
   "outputs": [],
   "source": [
    "%matplotlib widget\n",
    "\n",
    "%reload_ext autoreload\n",
    "%autoreload 2"
   ]
  },
  {
   "cell_type": "code",
   "execution_count": 4,
   "metadata": {},
   "outputs": [],
   "source": [
    "sys.path.append('../../../../nadavp/new_trap/Tools/')\n",
    "sys.path.append('../../../../nadavp/new_trap/Tools/StatFramework/')\n",
    "# sys.path.append('../../../../nadavp/opt_lev_analysis/lib/')\n",
    "import BeadDataFile\n",
    "from discharge_tools import *"
   ]
  },
  {
   "cell_type": "code",
   "execution_count": 5,
   "metadata": {},
   "outputs": [],
   "source": [
    "from likelihood_calculator import likelihood_analyser\n",
    "from likelihood_calculator import GravityFramework\n",
    "from likelihood_calculator import auxiliary_functions as aux\n",
    "gfw = GravityFramework.GravityFramework()"
   ]
  },
  {
   "cell_type": "code",
   "execution_count": 12,
   "metadata": {},
   "outputs": [],
   "source": [
    "ll = likelihood_analyser.LikelihoodAnalyser()\n",
    "bandwidth = 2\n",
    "decimate = 10\n",
    "drive_freq = 71\n",
    "fsamp = 5000\n",
    "def func1_scale_x(i):\n",
    "    bb = cal_files_x[i]\n",
    "        \n",
    "    freq2 = np.fft.rfftfreq(len(bb.electrode_data[0]), d=1./5000)\n",
    "    fft_angles = np.angle(np.fft.rfft(bb.electrode_data[0]))\n",
    "    phi_tmp2 = (fft_angles[freq2==drive_freq]+np.pi/2)%(2*np.pi)\n",
    "\n",
    "    fit_kwargs = {'A': 0, 'f': drive_freq, 'phi': phi_tmp2, \n",
    "                  'error_A': 1, 'error_f': 1, 'error_phi': 0.5, 'errordef': 1,\n",
    "                  'limit_phi': [-2 * np.pi, 2 * np.pi], \n",
    "                  'limit_A': [-10000, 10000], \n",
    "                  'print_level': 0, 'fix_f': True, 'fix_phi': False}\n",
    "\n",
    "    frequency = fit_kwargs['f']\n",
    "\n",
    "    b, a = signal.butter(3, [2.*(drive_freq-bandwidth/2.)/fsamp, 2.*(drive_freq+bandwidth/2.)/fsamp ], btype = 'bandpass')\n",
    "    xx2 = signal.filtfilt(b, a, bb.x2)[::decimate]\n",
    "    \n",
    "    m1_tmp = ll.find_mle_sin(xx2, fsamp=5000/decimate, noise_rms=1, plot=False, suppress_print=True, **fit_kwargs)\n",
    "#     print(m1_tmp.values[2]-phi_tmp2)\n",
    "\n",
    "    return m1_tmp.values[0], m1_tmp.values[2]\n",
    "\n",
    "def func1_scale_y(i):\n",
    "    bb = cal_files_y[i]\n",
    "        \n",
    "    freq2 = np.fft.rfftfreq(len(bb.electrode_data[0]), d=1./5000)\n",
    "    fft_angles = np.angle(np.fft.rfft(bb.electrode_data[0]))\n",
    "    phi_tmp2 = (fft_angles[freq2==drive_freq]+np.pi/2)%(2*np.pi)\n",
    "\n",
    "    fit_kwargs = {'A': 0, 'f': drive_freq, 'phi': phi_tmp2, \n",
    "                  'error_A': 1, 'error_f': 1, 'error_phi': 0.5, 'errordef': 1,\n",
    "                  'limit_phi': [-2 * np.pi, 2 * np.pi], \n",
    "                  'limit_A': [-10000, 10000], \n",
    "                  'print_level': 0, 'fix_f': True, 'fix_phi': False}\n",
    "\n",
    "    frequency = fit_kwargs['f']\n",
    "\n",
    "    b, a = signal.butter(3, [2.*(drive_freq-bandwidth/2.)/fsamp, 2.*(drive_freq+bandwidth/2.)/fsamp ], btype = 'bandpass')\n",
    "    xx2 = signal.filtfilt(b, a, bb.y2)[::decimate]\n",
    "    \n",
    "    m1_tmp = ll.find_mle_sin(xx2, fsamp=5000/decimate, noise_rms=1, plot=False, suppress_print=True, **fit_kwargs)\n",
    "\n",
    "    return m1_tmp.values[0], m1_tmp.values[2]\n",
    "\n",
    "def func1_scale_z(i):\n",
    "    bb = cal_files_z[i]\n",
    "        \n",
    "    freq2 = np.fft.rfftfreq(len(bb.electrode_data[0]), d=1./5000)\n",
    "    fft_angles = np.angle(np.fft.rfft(bb.electrode_data[0]))\n",
    "    phi_tmp2 = (fft_angles[freq2==drive_freq]+np.pi/2)%(2*np.pi)\n",
    "\n",
    "    fit_kwargs = {'A': 0, 'f': drive_freq, 'phi': phi_tmp2, \n",
    "                  'error_A': 1, 'error_f': 1, 'error_phi': 0.5, 'errordef': 1,\n",
    "                  'limit_phi': [-2 * np.pi, 2 * np.pi], \n",
    "                  'limit_A': [-10000, 10000], \n",
    "                  'print_level': 0, 'fix_f': True, 'fix_phi': False}\n",
    "\n",
    "    frequency = fit_kwargs['f']\n",
    "\n",
    "    b, a = signal.butter(3, [2.*(drive_freq-bandwidth/2.)/fsamp, 2.*(drive_freq+bandwidth/2.)/fsamp ], btype = 'bandpass')\n",
    "    xx2 = signal.filtfilt(b, a, bb.z2)[::decimate]\n",
    "    \n",
    "    m1_tmp = ll.find_mle_sin(xx2, fsamp=5000/decimate, noise_rms=1, plot=False, suppress_print=True, **fit_kwargs)\n",
    "#     print(m1_tmp.values[2]-phi_tmp2)\n",
    "\n",
    "    return m1_tmp.values[0], m1_tmp.values[2]\n"
   ]
  },
  {
   "cell_type": "code",
   "execution_count": 13,
   "metadata": {},
   "outputs": [
    {
     "data": {
      "text/plain": [
       "((0.0023872369256423553, -0.0869274977754877),\n",
       " (-0.002507630215404788, -0.06766872994986883),\n",
       " (4980.584051010681, 0.07058573398959744))"
      ]
     },
     "execution_count": 13,
     "metadata": {},
     "output_type": "execute_result"
    }
   ],
   "source": [
    "func1_scale_x(0), func1_scale_y(0), func1_scale_z(0)"
   ]
  },
  {
   "cell_type": "code",
   "execution_count": 8,
   "metadata": {},
   "outputs": [
    {
     "name": "stdout",
     "output_type": "stream",
     "text": [
      "20  files in folder\n",
      "20  files loaded\n",
      "20  files in folder\n",
      "20  files loaded\n",
      "20  files in folder\n",
      "20  files loaded\n"
     ]
    }
   ],
   "source": [
    "step_cal_dir = r'/data/new_trap/20210622/bead1/Single_electrode/X_electrode_both_10V_71Hz/'\n",
    "cal_files_x = load_dir(step_cal_dir)\n",
    "\n",
    "step_cal_dir = r'/data/new_trap/20210622/bead1/Single_electrode/Y_electrode_both_10V_71Hz/'\n",
    "cal_files_y = load_dir(step_cal_dir)\n",
    "\n",
    "step_cal_dir = r'/data/new_trap/20210622/bead1/Single_electrode/Z_electrode_both_10V_71Hz/'\n",
    "cal_files_z = load_dir(step_cal_dir)"
   ]
  },
  {
   "cell_type": "code",
   "execution_count": 40,
   "metadata": {},
   "outputs": [
    {
     "data": {
      "text/plain": [
       "-0.12616118375470112"
      ]
     },
     "execution_count": 40,
     "metadata": {},
     "output_type": "execute_result"
    }
   ],
   "source": [
    "np.mean(ampX_phase)"
   ]
  },
  {
   "cell_type": "code",
   "execution_count": 14,
   "metadata": {},
   "outputs": [],
   "source": [
    "ampX = np.array([func1_scale_x(i)[0] for i in range(len(cal_files_x))])\n",
    "ampX_phase = np.array([func1_scale_x(i)[1] for i in range(len(cal_files_x))])\n",
    "ampY = np.array([func1_scale_y(i)[0] for i in range(len(cal_files_y))])\n",
    "ampY_phase = np.array([func1_scale_y(i)[1] for i in range(len(cal_files_y))])\n",
    "ampZ = np.array([func1_scale_z(i)[0] for i in range(len(cal_files_z))])\n",
    "ampZ_phase = np.array([func1_scale_z(i)[1] for i in range(len(cal_files_z))])"
   ]
  },
  {
   "cell_type": "code",
   "execution_count": 15,
   "metadata": {},
   "outputs": [
    {
     "data": {
      "text/plain": [
       "(-0.04425156794673124, -0.05629283326564551, 0.051310183681359645)"
      ]
     },
     "execution_count": 15,
     "metadata": {},
     "output_type": "execute_result"
    }
   ],
   "source": [
    "np.mean(ampX_phase), np.mean(ampY_phase), np.mean(ampZ_phase)"
   ]
  },
  {
   "cell_type": "code",
   "execution_count": 16,
   "metadata": {},
   "outputs": [
    {
     "data": {
      "text/plain": [
       "(0.002387499164069595, -0.0025074477156522335, 4834.478709593728)"
      ]
     },
     "execution_count": 16,
     "metadata": {},
     "output_type": "execute_result"
    }
   ],
   "source": [
    "np.mean(ampX), np.mean(ampY), np.mean(ampZ)"
   ]
  },
  {
   "cell_type": "code",
   "execution_count": 11,
   "metadata": {},
   "outputs": [
    {
     "data": {
      "text/plain": [
       "(4.4230727144167756e-05, -4.6878695047780636e-05, 123.63739193396842)"
      ]
     },
     "execution_count": 11,
     "metadata": {},
     "output_type": "execute_result"
    }
   ],
   "source": [
    "np.mean(ampX_noise), np.mean(ampY_noise), np.mean(ampZ_noise)"
   ]
  },
  {
   "cell_type": "code",
   "execution_count": 20,
   "metadata": {},
   "outputs": [
    {
     "data": {
      "text/plain": [
       "(53.97829333186555, 53.48800159852024, 39.10207611121157)"
      ]
     },
     "execution_count": 20,
     "metadata": {},
     "output_type": "execute_result"
    }
   ],
   "source": [
    "np.mean(ampX)/np.mean(ampX_noise),  np.mean(ampY)/ np.mean(ampY_noise),  np.mean(ampZ)/ np.mean(ampZ_noise)"
   ]
  },
  {
   "cell_type": "code",
   "execution_count": 32,
   "metadata": {},
   "outputs": [
    {
     "data": {
      "text/plain": [
       "-1.050240248619891"
      ]
     },
     "execution_count": 32,
     "metadata": {},
     "output_type": "execute_result"
    }
   ],
   "source": [
    "np.mean(ampY)/np.mean(ampX)"
   ]
  },
  {
   "cell_type": "code",
   "execution_count": 37,
   "metadata": {},
   "outputs": [],
   "source": [
    "def func1_scale_y_all(bb):\n",
    "        \n",
    "    freq2 = np.fft.rfftfreq(len(bb.electrode_data[0]), d=1./5000)\n",
    "    fft_angles = np.angle(np.fft.rfft(bb.electrode_data[0]))\n",
    "    phi_tmp2 = (fft_angles[freq2==drive_freq]+np.pi/2)%(2*np.pi)\n",
    "\n",
    "    fit_kwargs = {'A': 0, 'f': drive_freq, 'phi': phi_tmp2, \n",
    "                  'error_A': 1, 'error_f': 1, 'error_phi': 0.5, 'errordef': 1,\n",
    "                  'limit_phi': [0, 2 * np.pi], \n",
    "                  'limit_A': [0, 10000], \n",
    "                  'print_level': 0, 'fix_f': True, 'fix_phi': False}\n",
    "\n",
    "    frequency = fit_kwargs['f']\n",
    "\n",
    "    b, a = signal.butter(3, [2.*(drive_freq-bandwidth/2.)/fsamp, 2.*(drive_freq+bandwidth/2.)/fsamp ], btype = 'bandpass')\n",
    "    xx2 = signal.filtfilt(b, a, bb.z2)[::decimate]\n",
    "    \n",
    "    m1_tmp = ll.find_mle_sin(xx2, fsamp=5000/decimate, noise_rms=1, plot=False, suppress_print=True, **fit_kwargs)\n",
    "\n",
    "    return m1_tmp.values[0], m1_tmp.values[2]"
   ]
  },
  {
   "cell_type": "code",
   "execution_count": 34,
   "metadata": {},
   "outputs": [
    {
     "name": "stdout",
     "output_type": "stream",
     "text": [
      "20  files in folder\n",
      "20  files loaded\n",
      "20  files in folder\n",
      "20  files loaded\n"
     ]
    }
   ],
   "source": [
    "# step_cal_dir = r'/data/new_trap/20210622/bead1/Single_electrode/Y_electrode_both_10V_71Hz/'\n",
    "# cal_files_y = load_dir(step_cal_dir)\n",
    "\n",
    "step_cal_dir = r'/data/new_trap/20210622/bead1/Single_electrode/Z_electrode_plus_10V_71Hz//'\n",
    "cal_files_y_plus = load_dir(step_cal_dir)\n",
    "\n",
    "step_cal_dir = r'/data/new_trap/20210622/bead1/Single_electrode/Z_electrode_minus_10V_71Hz/'\n",
    "cal_files_y_minus = load_dir(step_cal_dir)"
   ]
  },
  {
   "cell_type": "code",
   "execution_count": 38,
   "metadata": {},
   "outputs": [],
   "source": [
    "ampY_plus = np.array([func1_scale_y_all(bb)[0] for bb in cal_files_y_plus])\n",
    "ampY_phase_plus = np.array([func1_scale_y_all(bb)[1] for bb in cal_files_y_plus])\n",
    "ampY_minus = np.array([func1_scale_y_all(bb)[0] for bb in cal_files_y_minus])\n",
    "ampY_phase_minus = np.array([func1_scale_y_all(bb)[1] for bb in cal_files_y_minus])"
   ]
  },
  {
   "cell_type": "code",
   "execution_count": 30,
   "metadata": {},
   "outputs": [
    {
     "name": "stdout",
     "output_type": "stream",
     "text": [
      "-0.37399999999999994 -0.44400000000000006\n"
     ]
    }
   ],
   "source": [
    "bead_height = np.mean([bb.bead_height for bb in cal_files_y_plus])\n",
    "bead_height2 = np.mean([bb.bead_height for bb in cal_files_y_minus])\n",
    "print(bead_height, bead_height2)"
   ]
  },
  {
   "cell_type": "code",
   "execution_count": 16,
   "metadata": {},
   "outputs": [
    {
     "data": {
      "text/plain": [
       "(-0.05629283326564551, 3.0851467270451876, 3.3976506803930717)"
      ]
     },
     "execution_count": 16,
     "metadata": {},
     "output_type": "execute_result"
    }
   ],
   "source": [
    "np.mean(ampY_phase), np.mean(ampY_phase_plus), np.mean(ampY_phase_minus)"
   ]
  },
  {
   "cell_type": "code",
   "execution_count": 39,
   "metadata": {},
   "outputs": [
    {
     "data": {
      "text/plain": [
       "(-0.0025074477156522335,\n",
       " 2603.265023757077,\n",
       " 2087.7672800778364,\n",
       " 1.2469134125236514)"
      ]
     },
     "execution_count": 39,
     "metadata": {},
     "output_type": "execute_result"
    }
   ],
   "source": [
    "np.mean(ampY), np.mean(ampY_plus), np.mean(ampY_minus),  np.mean(ampY_plus)/np.mean(ampY_minus)"
   ]
  },
  {
   "cell_type": "code",
   "execution_count": 73,
   "metadata": {},
   "outputs": [
    {
     "data": {
      "text/plain": [
       "2.38"
      ]
     },
     "execution_count": 73,
     "metadata": {},
     "output_type": "execute_result"
    }
   ],
   "source": []
  },
  {
   "cell_type": "code",
   "execution_count": null,
   "metadata": {},
   "outputs": [],
   "source": []
  },
  {
   "cell_type": "code",
   "execution_count": null,
   "metadata": {},
   "outputs": [],
   "source": []
  },
  {
   "cell_type": "code",
   "execution_count": null,
   "metadata": {},
   "outputs": [],
   "source": []
  },
  {
   "cell_type": "code",
   "execution_count": null,
   "metadata": {},
   "outputs": [],
   "source": []
  },
  {
   "cell_type": "code",
   "execution_count": null,
   "metadata": {},
   "outputs": [],
   "source": []
  },
  {
   "cell_type": "code",
   "execution_count": null,
   "metadata": {},
   "outputs": [],
   "source": []
  }
 ],
 "metadata": {
  "kernelspec": {
   "display_name": "Python 3",
   "language": "python",
   "name": "python3"
  },
  "language_info": {
   "codemirror_mode": {
    "name": "ipython",
    "version": 3
   },
   "file_extension": ".py",
   "mimetype": "text/x-python",
   "name": "python",
   "nbconvert_exporter": "python",
   "pygments_lexer": "ipython3",
   "version": "3.6.9"
  }
 },
 "nbformat": 4,
 "nbformat_minor": 4
}
