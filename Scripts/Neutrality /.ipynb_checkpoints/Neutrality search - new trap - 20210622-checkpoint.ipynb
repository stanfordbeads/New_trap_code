{
 "cells": [
  {
   "cell_type": "code",
   "execution_count": 1,
   "metadata": {},
   "outputs": [],
   "source": [
    "import numpy as np\n",
    "import matplotlib.pyplot as plt\n",
    "import matplotlib\n",
    "from scipy import signal\n",
    "import random\n",
    "\n",
    "import h5py\n",
    "from IPython.utils import io\n",
    "\n",
    "from joblib import Parallel, delayed\n",
    "from tqdm import tqdm\n",
    "import sys"
   ]
  },
  {
   "cell_type": "code",
   "execution_count": 2,
   "metadata": {},
   "outputs": [],
   "source": [
    "%matplotlib widget\n",
    "\n",
    "%reload_ext autoreload\n",
    "%autoreload 2"
   ]
  },
  {
   "cell_type": "code",
   "execution_count": 3,
   "metadata": {},
   "outputs": [],
   "source": [
    "sys.path.append('../../../../nadavp/new_trap/Tools/')\n",
    "sys.path.append('../../../../nadavp/new_trap/Tools/StatFramework/')\n",
    "sys.path.append('../../../../nadavp/opt_lev_analysis/lib/')\n",
    "import BeadDataFile\n",
    "from discharge_tools import *"
   ]
  },
  {
   "cell_type": "code",
   "execution_count": 4,
   "metadata": {},
   "outputs": [],
   "source": [
    "from likelihood_calculator import likelihood_analyser\n",
    "from likelihood_calculator import GravityFramework\n",
    "from likelihood_calculator import auxiliary_functions as aux\n",
    "gfw = GravityFramework.GravityFramework()"
   ]
  },
  {
   "cell_type": "code",
   "execution_count": 5,
   "metadata": {},
   "outputs": [],
   "source": [
    "import bead_util as bu\n",
    "# import calib_util as cal\n",
    "import transfer_func_util as tf\n",
    "import configuration as config"
   ]
  },
  {
   "cell_type": "markdown",
   "metadata": {},
   "source": [
    "### Discharge data"
   ]
  },
  {
   "cell_type": "code",
   "execution_count": 6,
   "metadata": {},
   "outputs": [],
   "source": [
    "ll = likelihood_analyser.LikelihoodAnalyser()\n",
    "bandwidth = 2\n",
    "decimate = 10\n",
    "drive_freq = 41\n",
    "fsamp = 5000\n",
    "def func1_scale(i):\n",
    "    bb = step_file_objs[i]\n",
    "        \n",
    "    freq2 = np.fft.rfftfreq(len(bb.other_data[6]), d=1./5000)\n",
    "    fft_angles = np.angle(np.fft.rfft(bb.other_data[6]))\n",
    "    phi_tmp2 = (fft_angles[freq2==drive_freq]+np.pi/2)%(2*np.pi)-np.pi\n",
    "    print(phi_tmp2,np.std(bb.other_data[6])*np.sqrt(2)*50)\n",
    "\n",
    "    fit_kwargs = {'A': 0, 'f': drive_freq, 'phi': phi_tmp2, \n",
    "                  'error_A': 1, 'error_f': 1, 'error_phi': 0.5, 'errordef': 1,\n",
    "                  'limit_phi': [-2 * np.pi, 2 * np.pi], \n",
    "                  'limit_A': [0, 100000], \n",
    "                  'print_level': 0, 'fix_f': True, 'fix_phi': True}\n",
    "\n",
    "    frequency = fit_kwargs['f']\n",
    "\n",
    "    b, a = signal.butter(3, [2.*(drive_freq-bandwidth/2.)/fsamp, 2.*(drive_freq+bandwidth/2.)/fsamp ], btype = 'bandpass')\n",
    "    bb.load_other_data()\n",
    "    xx2 = signal.filtfilt(b, a, bb.pos_data[1])[::decimate]\n",
    "    \n",
    "    m1_tmp = ll.find_mle_sin(xx2, fsamp=5000/decimate, noise_rms=1, plot=False, suppress_print=True, **fit_kwargs)\n",
    "    \n",
    "    return m1_tmp.values[0]"
   ]
  },
  {
   "cell_type": "code",
   "execution_count": 7,
   "metadata": {},
   "outputs": [],
   "source": [
    "step_cal_dir = r'/data/old_trap/20210603/bead1/discharge/fine_1/'\n",
    "max_file = 500"
   ]
  },
  {
   "cell_type": "code",
   "execution_count": 8,
   "metadata": {},
   "outputs": [
    {
     "name": "stdout",
     "output_type": "stream",
     "text": [
      "142\n"
     ]
    }
   ],
   "source": [
    "step_cal_files = []\n",
    "for root, dirnames, filenames in os.walk(step_cal_dir):\n",
    "    for filename in fnmatch.filter(filenames, '*' + config.extensions['data']):\n",
    "        if '_fpga.h5' in filename:\n",
    "            continue\n",
    "        step_cal_files.append(os.path.join(root, filename))\n",
    "step_cal_files.sort(key = bu.find_str)\n",
    "num_calib_files = len(step_cal_files)\n",
    "print(num_calib_files)\n",
    "\n",
    "# Do the step calibration\n",
    "step_file_objs = []\n",
    "for filname in step_cal_files[:-1]:\n",
    "    try:\n",
    "        df = bu.DataFile();\n",
    "        df.load(filname);\n",
    "        df.load_other_data()\n",
    "        step_file_objs.append(df);\n",
    "    except:\n",
    "        print('***')"
   ]
  },
  {
   "cell_type": "code",
   "execution_count": 9,
   "metadata": {},
   "outputs": [
    {
     "name": "stdout",
     "output_type": "stream",
     "text": [
      "0 / 142\n",
      "[ 1.46907642] 6.18310351953\n",
      "1 / 142\n",
      "[-1.08260669] 6.18387180454\n",
      "2 / 142\n",
      "[ 0.52248505] 6.18379312618\n",
      "3 / 142\n",
      "[-2.65506352] 6.1839834092\n",
      "4 / 142\n",
      "[-3.01028204] 6.184438045\n",
      "5 / 142\n",
      "[-0.08399147] 6.18390674379\n",
      "6 / 142\n",
      "[-2.60374559] 6.1842820156\n",
      "7 / 142\n",
      "[ 1.67527033] 6.18372182051\n",
      "8 / 142\n",
      "[ 2.26003184] 6.18439919339\n",
      "9 / 142\n",
      "[-2.70789967] 6.1845197363\n",
      "10 / 142\n",
      "[-2.86520288] 6.18456439037\n",
      "11 / 142\n",
      "[-2.98517603] 6.18521354382\n",
      "12 / 142\n",
      "[-2.55315195] 6.18412996861\n",
      "13 / 142\n",
      "[-2.36183867] 6.18432416234\n",
      "14 / 142\n",
      "[ 1.32091974] 6.18383867204\n",
      "15 / 142\n",
      "[-1.14903791] 6.18444724105\n",
      "16 / 142\n",
      "[ 2.06185091] 6.18401436622\n",
      "17 / 142\n",
      "[ 2.32184315] 6.183666994\n",
      "18 / 142\n",
      "[-1.22012927] 6.18453745243\n",
      "19 / 142\n",
      "[ 0.76361787] 6.18475149306\n",
      "20 / 142\n",
      "[-2.38677996] 6.18461062953\n",
      "21 / 142\n",
      "[ 0.49753895] 6.18423914786\n",
      "22 / 142\n",
      "[ 2.57170934] 6.18400722769\n",
      "23 / 142\n",
      "[-0.7648323] 6.18428722798\n",
      "24 / 142\n",
      "[ 1.08825514] 6.18368081019\n",
      "25 / 142\n",
      "[ 1.31710337] 6.18428127498\n",
      "26 / 142\n",
      "[-1.50431083] 6.18372789618\n",
      "27 / 142\n",
      "[ 1.59234342] 6.18333859101\n",
      "28 / 142\n",
      "[-0.29818775] 6.18491596117\n",
      "29 / 142\n",
      "[ 1.45289858] 6.184456839\n",
      "30 / 142\n",
      "[ 2.33193117] 6.18406712328\n",
      "31 / 142\n",
      "[ 1.99559279] 6.18418351311\n",
      "32 / 142\n",
      "[ 1.4499765] 6.18395132606\n",
      "33 / 142\n",
      "[ 1.19209967] 6.18448119756\n",
      "34 / 142\n",
      "[-1.9047089] 6.18378510629\n",
      "35 / 142\n",
      "[ 0.0755428] 6.18440259506\n",
      "36 / 142\n",
      "[-0.06698077] 6.1845008195\n",
      "37 / 142\n",
      "[-2.63740512] 6.18451469309\n",
      "38 / 142\n",
      "[-1.22683371] 6.18392708014\n",
      "39 / 142\n",
      "[-0.59940993] 6.18402011265\n",
      "40 / 142\n",
      "[ 1.77847082] 6.18376330605\n",
      "41 / 142\n",
      "[ 1.28038935] 6.18365472556\n",
      "42 / 142\n",
      "[ 1.82100791] 6.18409646082\n",
      "43 / 142\n",
      "[-2.33188033] 6.18434684043\n",
      "44 / 142\n",
      "[-1.89969154] 6.18388688154\n",
      "45 / 142\n",
      "[ 1.98017133] 6.18416120705\n",
      "46 / 142\n",
      "[-0.44076868] 6.18451385757\n",
      "47 / 142\n",
      "[-1.07856276] 6.18450974039\n",
      "48 / 142\n",
      "[ 0.06646023] 6.18465206584\n",
      "49 / 142\n",
      "[-0.21702771] 6.18479342549\n",
      "50 / 142\n",
      "[ 1.09361366] 6.18415759121\n",
      "51 / 142\n",
      "[-2.32867091] 6.18427328023\n",
      "52 / 142\n",
      "[ 0.10668115] 6.18472329768\n",
      "53 / 142\n",
      "[-1.54597172] 6.18412700012\n",
      "54 / 142\n",
      "[ 1.55261239] 6.18391303469\n",
      "55 / 142\n",
      "[-3.00012281] 6.18488291288\n",
      "56 / 142\n",
      "[-0.56352721] 6.1842405396\n",
      "57 / 142\n",
      "[-2.39668352] 6.18434496721\n",
      "58 / 142\n",
      "[ 1.75370144] 6.18430258762\n",
      "59 / 142\n",
      "[ 0.03571565] 6.18480543401\n",
      "60 / 142\n",
      "[ 2.5185824] 6.18474619464\n",
      "61 / 142\n",
      "[-2.98514239] 6.18508922486\n",
      "62 / 142\n",
      "[ 1.99641711] 6.18406214994\n",
      "63 / 142\n",
      "[ 1.66418166] 6.18451554807\n",
      "64 / 142\n",
      "[-1.04595686] 6.18438196283\n",
      "65 / 142\n",
      "[-2.98547042] 6.18462584154\n",
      "66 / 142\n",
      "[ 2.64776261] 6.1846679632\n",
      "67 / 142\n",
      "[ 1.74081038] 6.18433018542\n",
      "68 / 142\n",
      "[ 2.10301118] 6.18386066093\n",
      "69 / 142\n",
      "[-1.33454474] 6.18441101236\n",
      "70 / 142\n",
      "[-1.84599479] 6.1839602968\n",
      "71 / 142\n",
      "[-0.99761205] 6.18446634522\n",
      "72 / 142\n",
      "[ 1.89608831] 6.18386765999\n",
      "73 / 142\n",
      "[-0.86345741] 6.18428464622\n",
      "74 / 142\n",
      "[ 2.67201244] 6.18459536439\n",
      "75 / 142\n",
      "[ 1.60573164] 6.18428969229\n",
      "76 / 142\n",
      "[-2.29929801] 6.18429242269\n",
      "77 / 142\n",
      "[-0.86091222] 6.18362113951\n",
      "78 / 142\n",
      "[-1.78377241] 6.18394601744\n",
      "79 / 142\n",
      "[ 1.48379815] 6.18405598869\n",
      "80 / 142\n",
      "[ 0.2450945] 6.18465140479\n",
      "81 / 142\n",
      "[ 0.07726066] 6.1848918568\n",
      "82 / 142\n",
      "[ 1.16315111] 6.18395695945\n",
      "83 / 142\n",
      "[-2.53213297] 6.18449650867\n",
      "84 / 142\n",
      "[-0.91193564] 6.18445857193\n",
      "85 / 142\n",
      "[-1.31082477] 6.18381717841\n",
      "86 / 142\n",
      "[ 0.60400507] 6.18436445951\n",
      "87 / 142\n",
      "[-0.07926212] 6.18460523377\n",
      "88 / 142\n",
      "[ 2.83746495] 6.18438806023\n",
      "89 / 142\n",
      "[-0.80824217] 6.18421852564\n",
      "90 / 142\n",
      "[-0.94929155] 6.18423419962\n",
      "91 / 142\n",
      "[ 1.13530426] 6.18410651433\n",
      "92 / 142\n",
      "[ 2.04165807] 6.1841245486\n",
      "93 / 142\n",
      "[ 0.80102334] 6.18439247004\n",
      "94 / 142\n",
      "[ 2.56826549] 6.18419232205\n",
      "95 / 142\n",
      "[ 2.94002917] 6.18417160428\n",
      "96 / 142\n",
      "[ 1.91849569] 6.18376636529\n",
      "97 / 142\n",
      "[-1.88109482] 6.18367542088\n",
      "98 / 142\n",
      "[-1.0340014] 6.18412520214\n",
      "99 / 142\n",
      "[ 1.05262131] 6.18420131319\n",
      "100 / 142\n",
      "[-0.58239075] 6.18445808254\n",
      "101 / 142\n",
      "[ 1.40557222] 6.18344758849\n",
      "102 / 142\n",
      "[-2.42391115] 6.18444678612\n",
      "103 / 142\n",
      "[-1.71587589] 6.18402113362\n",
      "104 / 142\n",
      "[-0.01046141] 6.18438912208\n",
      "105 / 142\n",
      "[ 2.22044298] 6.1838336201\n",
      "106 / 142\n",
      "[ 1.88341092] 6.18393314734\n",
      "107 / 142\n",
      "[ 1.15688106] 6.18410360399\n",
      "108 / 142\n",
      "[-2.925613] 6.18441688387\n",
      "109 / 142\n",
      "[ 3.11373633] 6.18459103469\n",
      "110 / 142\n",
      "[ 1.59174656] 6.18384722009\n",
      "111 / 142\n",
      "[-1.20153039] 6.18404576905\n",
      "112 / 142\n",
      "[ 1.1520704] 6.18423837812\n",
      "113 / 142\n",
      "[ 1.32835353] 6.18401536703\n",
      "114 / 142\n",
      "[ 2.72650086] 6.18412322621\n",
      "115 / 142\n",
      "[-1.26944989] 6.18386418706\n",
      "116 / 142\n",
      "[ 1.06479613] 6.18404861918\n",
      "117 / 142\n",
      "[-2.892318] 6.18398453152\n",
      "118 / 142\n",
      "[ 2.11979804] 6.18395868077\n",
      "119 / 142\n",
      "[ 2.07733745] 6.18369364216\n",
      "120 / 142\n",
      "[ 1.23085781] 6.18364611945\n",
      "121 / 142\n",
      "[-0.25657234] 6.18426887197\n",
      "122 / 142\n",
      "[-2.97832186] 6.18465965304\n",
      "123 / 142\n",
      "[-1.06267842] 6.18374005111\n",
      "124 / 142\n",
      "[ 2.79414794] 6.18428605975\n",
      "125 / 142\n",
      "[ 2.06995453] 6.18388112466\n",
      "126 / 142\n",
      "[-1.50572561] 6.18388198882\n",
      "127 / 142\n",
      "[-0.56998232] 6.18359122821\n",
      "128 / 142\n",
      "[-0.82369554] 6.18405835241\n",
      "129 / 142\n",
      "[ 2.50423337] 6.1841231266\n",
      "130 / 142\n",
      "[ 2.78063684] 6.18417444922\n",
      "131 / 142\n",
      "[-2.61269013] 6.18454267163\n",
      "132 / 142\n",
      "[-0.28299861] 6.18454230724\n",
      "133 / 142\n",
      "[ 2.87733459] 6.18432466976\n",
      "134 / 142\n",
      "[-1.09444877] 6.18394312852\n",
      "135 / 142\n",
      "[ 0.22257153] 6.18445001329\n",
      "136 / 142\n",
      "[ 2.65940961] 6.18423131788\n",
      "137 / 142\n",
      "[ 0.15544384] 6.18420008081\n",
      "138 / 142\n",
      "[ 2.12143751] 6.18404637215\n",
      "139 / 142\n",
      "[ 2.44990249] 6.18403578382\n",
      "140 / 142\n",
      "[-0.21408781] 6.18443555946\n"
     ]
    }
   ],
   "source": [
    "amps3 = []\n",
    "for i in range(num_calib_files-1):\n",
    "    print(i,'/',len(step_cal_files))\n",
    "    amps3.append(func1_scale(i))"
   ]
  },
  {
   "cell_type": "code",
   "execution_count": 10,
   "metadata": {},
   "outputs": [
    {
     "data": {
      "application/vnd.jupyter.widget-view+json": {
       "model_id": "e6e95ff3492e491d949063689ccfedf1",
       "version_major": 2,
       "version_minor": 0
      },
      "text/plain": [
       "Canvas(toolbar=Toolbar(toolitems=[('Home', 'Reset original view', 'home', 'home'), ('Back', 'Back to previous …"
      ]
     },
     "metadata": {},
     "output_type": "display_data"
    }
   ],
   "source": [
    "# amps = np.array(amps)\n",
    "amps3 = np.array(amps3)\n",
    "_,ax = plt.subplots(figsize=(9.5,4))\n",
    "scale = 326.26\n",
    "\n",
    "# Perrinf\n",
    "ax.scatter(range(len(amps3)), amps3/scale, label='fit phase')\n",
    "# ax.scatter(range(len(amps3)), amps3/scale, label='fit fixed-phases')\n",
    "\n",
    "ax.set(xlabel='dataset', ylabel='Charges', ylim=(-0.3,7), xlim=(78,None))\n",
    "ax.grid(axis='y')\n",
    "ax.minorticks_on()\n",
    "ax.grid(which='major', linestyle='-', linewidth='0.5', color='red')\n",
    "ax.grid(which='minor', linestyle=':', linewidth='0.5', color='black')\n",
    "# ax.legend()\n",
    "from matplotlib.ticker import MaxNLocator\n",
    "ax.yaxis.set_major_locator(MaxNLocator(integer=True))"
   ]
  },
  {
   "cell_type": "code",
   "execution_count": 11,
   "metadata": {},
   "outputs": [
    {
     "name": "stdout",
     "output_type": "stream",
     "text": [
      "Scale is  326.524624863\n",
      "voltage:  12.3688711189\n"
     ]
    }
   ],
   "source": [
    "scale = np.abs(np.mean(amps3[87:103]))/4\n",
    "print(\"Scale is \", scale)\n",
    "bb = step_file_objs[-1]\n",
    "voltage = np.std(bb.other_data[6])*np.sqrt(2)*100\n",
    "print(\"voltage: \", voltage)"
   ]
  },
  {
   "cell_type": "code",
   "execution_count": 338,
   "metadata": {},
   "outputs": [],
   "source": [
    "ll = likelihood_analyser.LikelihoodAnalyser()\n",
    "bandwidth = 2\n",
    "decimate = 10\n",
    "drive_freq = 41\n",
    "def get_amp(i):\n",
    "    \n",
    "    fname = r'/data/old_trap/20210603/bead1/neutrality3/w_height_fb_100V_100V_sweep_y_m75V__75V_spinning_xz_100kHz_150V/turbombar_powfb_xyzcool_'+str(i)+'.h5'\n",
    "\n",
    "    bb = bu.DataFile();\n",
    "    bb.load(fname);\n",
    "    bb.load_other_data()\n",
    "    \n",
    "    fit_kwargs = {'A': 0, 'f': drive_freq, 'phi': 0, \n",
    "                  'error_A': 1, 'error_f': 10, 'error_phi': 0.5, 'errordef': 1,\n",
    "                  'limit_phi': [-2 * np.pi, 2 * np.pi], \n",
    "                  'limit_A': [0, 10000], 'limit_f': [0, 100], \n",
    "                  'print_level': 0, 'fix_f': True, 'fix_phi': False}\n",
    "\n",
    "    frequency = fit_kwargs['f']\n",
    "\n",
    "    b, a = signal.butter(3, [2.*(drive_freq-bandwidth/2.)/fsamp, 2.*(drive_freq+bandwidth/2.)/fsamp ], btype = 'bandpass')\n",
    "    xx2 = signal.filtfilt(b, a, bb.other_data[6])[::decimate]\n",
    "    m1_tmp = ll.find_mle_sin(xx2, fsamp=5000/decimate, noise_rms=1, plot=False, suppress_print=True, **fit_kwargs)\n",
    "    \n",
    "#     freq2 = np.fft.rfftfreq(len(bb.other_data[6]), d=1./5000)\n",
    "#     fft_angles = np.angle(np.fft.rfft(bb.other_data[6]))\n",
    "\n",
    "    phi_tmp = m1_tmp.values[2]\n",
    "#     phi_tmp2 = (fft_angles[freq2==drive_freq]+np.pi/2)%(2*np.pi)\n",
    "#     print(phi_tmp, phi_tmp2, m1_tmp.values[0]*50, np.std(xx2)*np.sqrt(2)*50)\n",
    "    \n",
    "    fit_kwargs = {'A': 0, 'f': drive_freq, 'phi': phi_tmp, \n",
    "                  'error_A': 1, 'error_f': 1, 'error_phi': 0.5, 'errordef': 1,\n",
    "                  'limit_phi': [-2 * np.pi, 2 * np.pi], \n",
    "                  'limit_A': [-100000, 100000], \n",
    "                  'print_level': 0, 'fix_f': True, 'fix_phi': True}\n",
    "\n",
    "    xx2 = signal.filtfilt(b, a, bb.pos_data[1])[::decimate]\n",
    "    \n",
    "    m1_tmp = ll.find_mle_sin(xx2, fsamp=5000/decimate, noise_rms=1, plot=False, suppress_print=True, **fit_kwargs)\n",
    "    \n",
    "    return m1_tmp.values[0]"
   ]
  },
  {
   "cell_type": "code",
   "execution_count": 339,
   "metadata": {},
   "outputs": [
    {
     "data": {
      "text/plain": [
       "-29.24623132486886"
      ]
     },
     "execution_count": 339,
     "metadata": {},
     "output_type": "execute_result"
    }
   ],
   "source": [
    "i=0\n",
    "get_amp(i)"
   ]
  },
  {
   "cell_type": "code",
   "execution_count": 310,
   "metadata": {},
   "outputs": [
    {
     "name": "stdout",
     "output_type": "stream",
     "text": [
      "voltage:  99.0188180918 -27.6475184253 50000\n"
     ]
    }
   ],
   "source": [
    "i = 0\n",
    "fname = r'/data/old_trap/20210603/bead1/neutrality3/w_height_fb_100V_100V_sweep_y_m13V_spinning_xz_100kHz_150V_redo/turbombar_powfb_xyzcool_'+str(i)+'.h5'\n",
    "zbb = bu.DataFile();\n",
    "bb.load(fname);\n",
    "bb.load_other_data()\n",
    "voltage2 = np.std(bb.other_data[6])*np.sqrt(2)*100\n",
    "# voltage1=100\n",
    "print(\"voltage: \", voltage2, np.mean(bb.other_data[6])*100, len(bb.other_data[1]))"
   ]
  },
  {
   "cell_type": "code",
   "execution_count": null,
   "metadata": {},
   "outputs": [],
   "source": []
  },
  {
   "cell_type": "code",
   "execution_count": 335,
   "metadata": {
    "scrolled": true
   },
   "outputs": [
    {
     "name": "stdout",
     "output_type": "stream",
     "text": [
      "0 /500\n",
      "1 /500\n",
      "2 /500\n",
      "3 /500\n",
      "4 /500\n",
      "5 /500\n",
      "6 /500\n",
      "7 /500\n",
      "8 /500\n",
      "9 /500\n",
      "10 /500\n",
      "11 /500\n",
      "12 /500\n",
      "13 /500\n",
      "14 /500\n",
      "15 /500\n",
      "16 /500\n",
      "17 /500\n",
      "18 /500\n",
      "19 /500\n",
      "20 /500\n",
      "21 /500\n",
      "22 /500\n",
      "23 /500\n",
      "24 /500\n",
      "25 /500\n",
      "26 /500\n",
      "27 /500\n",
      "28 /500\n",
      "29 /500\n",
      "30 /500\n",
      "31 /500\n",
      "32 /500\n",
      "33 /500\n",
      "34 /500\n",
      "35 /500\n",
      "36 /500\n",
      "37 /500\n",
      "38 /500\n",
      "39 /500\n",
      "40 /500\n",
      "41 /500\n",
      "42 /500\n",
      "43 /500\n",
      "44 /500\n",
      "45 /500\n",
      "46 /500\n",
      "47 /500\n",
      "48 /500\n",
      "49 /500\n",
      "50 /500\n",
      "51 /500\n",
      "52 /500\n",
      "53 /500\n",
      "54 /500\n",
      "55 /500\n",
      "56 /500\n",
      "57 /500\n",
      "58 /500\n",
      "59 /500\n",
      "60 /500\n",
      "61 /500\n",
      "62 /500\n",
      "63 /500\n",
      "64 /500\n",
      "65 /500\n",
      "66 /500\n",
      "67 /500\n",
      "68 /500\n",
      "69 /500\n"
     ]
    }
   ],
   "source": [
    "amps_w_fb_spin_xz_y_100V_100V_sweep3_m37_5_height_0_4 = []\n",
    "for i in range(70):\n",
    "    print(i,'/500')\n",
    "    try:\n",
    "        amps_w_fb_spin_xz_y_100V_100V_sweep3_m37_5_height_0_4.append(get_amp(i))\n",
    "    except:\n",
    "        print(\"******\")\n",
    "amps_w_fb_spin_xz_y_100V_100V_sweep3_m37_5_height_0_4 = np.array(amps_w_fb_spin_xz_y_100V_100V_sweep3_m37_5_height_0_4)"
   ]
  },
  {
   "cell_type": "code",
   "execution_count": 337,
   "metadata": {},
   "outputs": [
    {
     "data": {
      "application/vnd.jupyter.widget-view+json": {
       "model_id": "6271ba386e5240b0948f81ad10cdd296",
       "version_major": 2,
       "version_minor": 0
      },
      "text/plain": [
       "Canvas(toolbar=Toolbar(toolitems=[('Home', 'Reset original view', 'home', 'home'), ('Back', 'Back to previous …"
      ]
     },
     "metadata": {},
     "output_type": "display_data"
    },
    {
     "name": "stdout",
     "output_type": "stream",
     "text": [
      "-0.00298449656316 0.000573455112617\n"
     ]
    }
   ],
   "source": [
    "data = amps_w_fb_spin_xz_y_100V_0V_sweep3_0_50_height_0/scale*voltage/voltage1\n",
    "data2 = amps_w_fb_spin_xz_y_0V_100V_sweep3_0_50_height_0/scale*voltage/voltage1\n",
    "data3 = amps_w_fb_spin_xz_y_100V_100V_sweep3_m37_5_height_0_4/scale*voltage/voltage1\n",
    "_, ax= plt.subplots(figsize=(9.5,4))\n",
    "# ax.scatter(range(len(data)), data)\n",
    "# ax.scatter(np.arange(len(data2)), data2)\n",
    "ax.scatter(np.arange(len(data3)), data3)\n",
    "ax.plot(np.arange(0,100), np.arange(0,100)*0, '--r')\n",
    "ax.set(xlabel='Dataset', ylabel=r'$\\epsilon$')\n",
    "# ax.legend()\n",
    "print(np.mean(data3), np.std(data3)/np.sqrt(len(data3)))"
   ]
  },
  {
   "cell_type": "code",
   "execution_count": 237,
   "metadata": {},
   "outputs": [
    {
     "data": {
      "application/vnd.jupyter.widget-view+json": {
       "model_id": "999f621dbbac4c59801ec575429e97a5",
       "version_major": 2,
       "version_minor": 0
      },
      "text/plain": [
       "Canvas(toolbar=Toolbar(toolitems=[('Home', 'Reset original view', 'home', 'home'), ('Back', 'Back to previous …"
      ]
     },
     "metadata": {},
     "output_type": "display_data"
    },
    {
     "name": "stdout",
     "output_type": "stream",
     "text": [
      "-0.0188181024051\n"
     ]
    }
   ],
   "source": [
    "data = amps_w_fb_spin_xz_y_0V_100V_sweep_0_25_height_m1_long_1000[:400]/scale*voltage/voltage1\n",
    "data2 = amps_w_fb_spin_xz_y_100V_0V_sweep_0_25_height_m1_long_1000[:400]/scale*voltage/voltage1\n",
    "_, ax= plt.subplots(figsize=(9.5,4))\n",
    "ax.scatter(range(len(data)), data)\n",
    "ax.scatter(np.arange(len(data2)), data2)\n",
    "ax.plot(np.arange(0,400), np.arange(0,400)*0, '--r')\n",
    "ax.set(xlabel='Dataset', ylabel=r'$\\epsilon$')\n",
    "# ax.legend()\n",
    "print(np.mean(data))"
   ]
  },
  {
   "cell_type": "code",
   "execution_count": 183,
   "metadata": {},
   "outputs": [
    {
     "data": {
      "application/vnd.jupyter.widget-view+json": {
       "model_id": "3ca84ca2d9084b9e81c364f87adb6fc0",
       "version_major": 2,
       "version_minor": 0
      },
      "text/plain": [
       "Canvas(toolbar=Toolbar(toolitems=[('Home', 'Reset original view', 'home', 'home'), ('Back', 'Back to previous …"
      ]
     },
     "metadata": {},
     "output_type": "display_data"
    },
    {
     "data": {
      "text/plain": [
       "[Text(0.5, 0, 'Dataset'), Text(0, 0.5, '$\\\\epsilon$')]"
      ]
     },
     "execution_count": 183,
     "metadata": {},
     "output_type": "execute_result"
    }
   ],
   "source": [
    "data = amps_w_fb_spin_xz_y_100V_100V_sweep_m25V_25V_height_0_4_long_500/scale*voltage/voltage1\n",
    "data2 = amps_w_fb_spin_xz_y_100V_100V_sweep_m25V_25V_height_m1_long_500/scale*voltage/voltage1\n",
    "# data2 = amps_w_fb_spin_xz_y_100V_100V_sweep_m25V_25V_height_0_4/scale*voltage/voltage1\n",
    "# data2 = amps_w_fb_spin_xz_y_100V_100V_sweep_m25V_25V_height_0_4_long_2/scale*voltage/voltage1\n",
    "# data3 = amps_w_fb_spin_xz_y_95V_105V_sweep_m25V_25V_height_0_4_long_500/scale*voltage/voltage1\n",
    "data3 = amps_w_fb_spin_xz_y_50V_50V_sweep_m25V_25V_height_m1_long_500/scale*voltage/voltage1*2\n",
    "_, ax= plt.subplots(figsize=(9.5,4))\n",
    "ax.scatter(range(len(data)), data)\n",
    "ax.scatter(np.arange(len(data2)), data2)\n",
    "ax.scatter(np.arange(len(data3)), data3)\n",
    "ax.plot(np.arange(0,100), np.arange(0,100)*0, '--r')\n",
    "ax.set(xlabel='Dataset', ylabel=r'$\\epsilon$')\n",
    "# ax.legend()"
   ]
  },
  {
   "cell_type": "code",
   "execution_count": null,
   "metadata": {},
   "outputs": [],
   "source": []
  },
  {
   "cell_type": "markdown",
   "metadata": {},
   "source": [
    "### Fit the data"
   ]
  },
  {
   "cell_type": "code",
   "execution_count": 298,
   "metadata": {},
   "outputs": [],
   "source": [
    "x1 = np.arange(100)\n",
    "x2 = np.arange(1000)\n",
    "## estimate sensitivity from identical dataets\n",
    "z,cov = np.polyfit(x1, data, 1, cov=True)\n",
    "p1 = np.poly1d(z)\n",
    "z2, cov2 = np.polyfit(x1, data2, 1, cov=True)\n",
    "p2 = np.poly1d(z2)\n",
    "# z3, cov3 = np.polyfit(x1, data3, 1, cov=True)\n",
    "# p3 = np.poly1d(z3)"
   ]
  },
  {
   "cell_type": "code",
   "execution_count": 299,
   "metadata": {},
   "outputs": [
    {
     "data": {
      "text/plain": [
       "(array([[  1.62594735e-10,  -8.04843939e-09],\n",
       "        [ -8.04843939e-09,   5.33879813e-07]]),\n",
       " array([[  1.86933225e-10,  -9.25319462e-09],\n",
       "        [ -9.25319462e-09,   6.13795243e-07]]),\n",
       " array([[  2.31818913e-12,  -4.62478732e-10],\n",
       "        [ -4.62478732e-10,   1.23173502e-07]]))"
      ]
     },
     "execution_count": 299,
     "metadata": {},
     "output_type": "execute_result"
    }
   ],
   "source": [
    "cov, cov2, cov3"
   ]
  },
  {
   "cell_type": "code",
   "execution_count": 300,
   "metadata": {},
   "outputs": [
    {
     "name": "stdout",
     "output_type": "stream",
     "text": [
      "0.99042769671\n",
      "44.4536117505 15.1590864857 72.9563426674\n",
      "-0.000617756631611 0.000818234826546 -0.000144139307458\n",
      "0.0180968872522 0.0174850439744 0.01870873053\n"
     ]
    }
   ],
   "source": [
    "x = -z2[1]; dx = np.sqrt(cov2[1,1])\n",
    "y = z2[0]; dy = np.sqrt(cov2[0,0])\n",
    "dz = np.abs(x/y)*np.sqrt((dx/x)**2+(dy/y)**2)\n",
    "print(dz)\n",
    "print(-z[1]/z[0], -z2[1]/z2[0], -z3[1]/z3[0])\n",
    "print(z[0], z2[0], z3[0])\n",
    "print(p1(-z2[1]/z2[0]), p1(-z2[1]/z2[0]+dz), p1(-z2[1]/z2[0]-dz))"
   ]
  },
  {
   "cell_type": "code",
   "execution_count": 314,
   "metadata": {},
   "outputs": [
    {
     "data": {
      "text/plain": [
       "(-1.5021903964710268, 37.5)"
      ]
     },
     "execution_count": 314,
     "metadata": {},
     "output_type": "execute_result"
    }
   ],
   "source": [
    "-(z2[1]+z[1])/(z2[0]+z[0])*2/100, 1.5*50/2"
   ]
  },
  {
   "cell_type": "code",
   "execution_count": 170,
   "metadata": {},
   "outputs": [
    {
     "data": {
      "application/vnd.jupyter.widget-view+json": {
       "model_id": "fa2b1296aaef49bfb6ef4b11a6771f0a",
       "version_major": 2,
       "version_minor": 0
      },
      "text/plain": [
       "Canvas(toolbar=Toolbar(toolitems=[('Home', 'Reset original view', 'home', 'home'), ('Back', 'Back to previous …"
      ]
     },
     "metadata": {},
     "output_type": "display_data"
    },
    {
     "data": {
      "text/plain": [
       "<matplotlib.legend.Legend at 0x7f449c139e48>"
      ]
     },
     "execution_count": 170,
     "metadata": {},
     "output_type": "execute_result"
    }
   ],
   "source": [
    "_, ax= plt.subplots(figsize=(9.5,4))\n",
    "# ax.scatter(np.arange(len(data)), data, label='-50V to 50V bias sweep - 100V, xz-spin, w/ height fb')\n",
    "# ax.scatter(np.arange(len(data2)), data2, label='-50V to 50V bias sweep - 100V, xz-spin, w/ height fb')\n",
    "# ax.scatter(np.arange(len(data3)), data3/scale*scale2, label='-50V to 50V bias sweep - 75V-125V, xz-spin, w/ height fb')\n",
    "ax.plot(np.arange(0,500), np.arange(0,500)*0, '--r')\n",
    "ax.set(xlabel='Dataset', ylabel=r'$\\epsilon$')\n",
    "ax.plot(x1, p1(x1), 'b--', label='fit1')\n",
    "ax.plot(x1, p2(x1), 'r--', label='fit2')\n",
    "ax.plot(x1, p3(x1), 'r--', label='fit3')\n",
    "ax.legend()"
   ]
  },
  {
   "cell_type": "code",
   "execution_count": null,
   "metadata": {},
   "outputs": [],
   "source": []
  },
  {
   "cell_type": "code",
   "execution_count": null,
   "metadata": {},
   "outputs": [],
   "source": []
  },
  {
   "cell_type": "code",
   "execution_count": null,
   "metadata": {},
   "outputs": [],
   "source": []
  },
  {
   "cell_type": "code",
   "execution_count": null,
   "metadata": {},
   "outputs": [],
   "source": []
  },
  {
   "cell_type": "code",
   "execution_count": null,
   "metadata": {},
   "outputs": [],
   "source": []
  },
  {
   "cell_type": "code",
   "execution_count": null,
   "metadata": {},
   "outputs": [],
   "source": []
  },
  {
   "cell_type": "code",
   "execution_count": null,
   "metadata": {},
   "outputs": [],
   "source": []
  },
  {
   "cell_type": "code",
   "execution_count": null,
   "metadata": {},
   "outputs": [],
   "source": []
  },
  {
   "cell_type": "code",
   "execution_count": null,
   "metadata": {},
   "outputs": [],
   "source": []
  },
  {
   "cell_type": "code",
   "execution_count": null,
   "metadata": {},
   "outputs": [],
   "source": []
  },
  {
   "cell_type": "code",
   "execution_count": null,
   "metadata": {},
   "outputs": [],
   "source": []
  }
 ],
 "metadata": {
  "kernelspec": {
   "display_name": "Python 3",
   "language": "python",
   "name": "python3"
  },
  "language_info": {
   "codemirror_mode": {
    "name": "ipython",
    "version": 3
   },
   "file_extension": ".py",
   "mimetype": "text/x-python",
   "name": "python",
   "nbconvert_exporter": "python",
   "pygments_lexer": "ipython3",
   "version": "3.6.9"
  }
 },
 "nbformat": 4,
 "nbformat_minor": 4
}
