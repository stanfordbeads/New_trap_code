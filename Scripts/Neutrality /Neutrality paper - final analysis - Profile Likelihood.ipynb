{
 "cells": [
  {
   "cell_type": "code",
   "execution_count": 1,
   "metadata": {},
   "outputs": [],
   "source": [
    "import numpy as np\n",
    "import matplotlib.pyplot as plt\n",
    "import matplotlib\n",
    "from scipy import signal\n",
    "from scipy.optimize import minimize\n",
    "\n",
    "import random\n",
    "\n",
    "import h5py\n",
    "from IPython.utils import io\n",
    "\n",
    "from joblib import Parallel, delayed\n",
    "from tqdm import tqdm\n",
    "import sys"
   ]
  },
  {
   "cell_type": "code",
   "execution_count": 2,
   "metadata": {},
   "outputs": [],
   "source": [
    "%matplotlib widget\n",
    "\n",
    "%reload_ext autoreload\n",
    "%autoreload 2"
   ]
  },
  {
   "cell_type": "code",
   "execution_count": 3,
   "metadata": {},
   "outputs": [],
   "source": [
    "sys.path.append('../../../../nadavp/new_trap/Tools/')\n",
    "sys.path.append('../../../../nadavp/new_trap/Tools/StatFramework/')\n",
    "sys.path.append('../../../../nadavp/opt_lev_analysis/lib/')\n",
    "import BeadDataFile\n",
    "from discharge_tools import *"
   ]
  },
  {
   "cell_type": "code",
   "execution_count": 4,
   "metadata": {},
   "outputs": [],
   "source": [
    "from likelihood_calculator import likelihood_analyser\n",
    "from likelihood_calculator import GravityFramework\n",
    "from likelihood_calculator import auxiliary_functions as aux\n",
    "gfw = GravityFramework.GravityFramework()"
   ]
  },
  {
   "cell_type": "code",
   "execution_count": 5,
   "metadata": {},
   "outputs": [],
   "source": [
    "import bead_util as bu\n",
    "# import calib_util as cal\n",
    "import transfer_func_util as tf\n",
    "import configuration as config"
   ]
  },
  {
   "cell_type": "markdown",
   "metadata": {},
   "source": [
    "### Load data"
   ]
  },
  {
   "cell_type": "code",
   "execution_count": 6,
   "metadata": {},
   "outputs": [],
   "source": [
    "eps_old_trap = np.load(\"epslion_old_trap_20210812.npy\")\n",
    "eps_new_trap = np.load(\"epslion_new_trap.npy\")\n",
    "eps_new_trap2 = np.load(\"epslion_new_trap_bead_20210830.npy\")"
   ]
  },
  {
   "cell_type": "code",
   "execution_count": 7,
   "metadata": {},
   "outputs": [
    {
     "data": {
      "application/vnd.jupyter.widget-view+json": {
       "model_id": "3c02e69f783a4d6f87b676e348ce0560",
       "version_major": 2,
       "version_minor": 0
      },
      "text/plain": [
       "Canvas(toolbar=Toolbar(toolitems=[('Home', 'Reset original view', 'home', 'home'), ('Back', 'Back to previous …"
      ]
     },
     "metadata": {},
     "output_type": "display_data"
    },
    {
     "data": {
      "text/plain": [
       "[Text(0.5, 0, 'Time [hr.]'), Text(0, 0.5, '$\\\\hat{\\\\epsilon}$')]"
      ]
     },
     "execution_count": 7,
     "metadata": {},
     "output_type": "execute_result"
    }
   ],
   "source": [
    "_,ax = plt.subplots(figsize=(9.4,4))\n",
    "time_hr_new = np.arange(len(eps_new_trap.T))*10*2/3600\n",
    "time_hr_new2 = np.arange(len(eps_new_trap2.T))*10*2/3600\n",
    "time_hr_old = np.arange(len(eps_old_trap.T))*10*2/3600\n",
    "ax.errorbar(time_hr_old, eps_old_trap[0,:], yerr=eps_old_trap[1,:], fmt='o', label='A parameter', alpha=0.3)\n",
    "ax.errorbar(time_hr_new, eps_new_trap[0,:], yerr=eps_new_trap[1,:], fmt='o', label='A parameter', alpha=0.3)\n",
    "ax.errorbar(time_hr_new2, eps_new_trap2[0,:], yerr=eps_new_trap2[1,:], fmt='o', label='A parameter', alpha=0.3)\n",
    "ax.plot(time_hr_old, time_hr_old*0, 'r--', zorder=3)\n",
    "ax.legend()\n",
    "ax.set(xlabel='Time [hr.]', ylabel=r'$\\hat{\\epsilon}$')"
   ]
  },
  {
   "cell_type": "code",
   "execution_count": 8,
   "metadata": {},
   "outputs": [
    {
     "name": "stdout",
     "output_type": "stream",
     "text": [
      "5074 5031\n",
      "4974 4959\n",
      "16607 16537\n"
     ]
    }
   ],
   "source": [
    "thresh = 0.015\n",
    "thresh2 = 0.015*10\n",
    "data3_filt = np.array([dd for dd in eps_old_trap.T if dd[0]<thresh if dd[0]>-thresh])\n",
    "data3_filt_new = np.array([dd for dd in eps_new_trap.T if dd[0]<thresh if dd[0]>-thresh])\n",
    "data3_filt_new2 = np.array([dd for dd in eps_new_trap2.T if dd[0]<thresh2 if dd[0]>-thresh2])\n",
    "\n",
    "print(len(eps_new_trap.T), len(data3_filt_new))\n",
    "print(len(eps_new_trap2.T), len(data3_filt_new2))\n",
    "print(len(eps_old_trap.T), len(data3_filt))"
   ]
  },
  {
   "cell_type": "code",
   "execution_count": 9,
   "metadata": {},
   "outputs": [
    {
     "data": {
      "text/plain": [
       "((2, 5074), (16537, 2))"
      ]
     },
     "execution_count": 9,
     "metadata": {},
     "output_type": "execute_result"
    }
   ],
   "source": [
    "eps_new_trap.shape, data3_filt.shape"
   ]
  },
  {
   "cell_type": "code",
   "execution_count": 10,
   "metadata": {},
   "outputs": [],
   "source": [
    "eps_mean_old = []\n",
    "eps_std_old = []\n",
    "\n",
    "bin_size = 100\n",
    "bins = len(eps_old_trap[0,:])//bin_size\n",
    "for i in range(bins):\n",
    "    eps_mean_old.append(np.mean(data3_filt.T[0,:][i*bin_size:(i+1)*bin_size]))\n",
    "    eps_std_old.append(np.std(data3_filt.T[1,:][i*bin_size:(i+1)*bin_size]))\n",
    "eps_mean_old = np.array(eps_mean_old)\n",
    "eps_std_old = np.array(eps_std_old)/np.sqrt(bin_size)\n",
    "\n",
    "eps_mean_new = []\n",
    "eps_std_new = []\n",
    "\n",
    "bins = len(eps_new_trap[0,:])//bin_size\n",
    "for i in range(bins):\n",
    "    eps_mean_new.append(np.mean(data3_filt_new.T[0,:][i*bin_size:(i+1)*bin_size]))\n",
    "    eps_std_new.append(np.std(data3_filt_new.T[1,:][i*bin_size:(i+1)*bin_size]))\n",
    "eps_mean_new = np.array(eps_mean_new)\n",
    "eps_std_new = np.array(eps_std_new)/np.sqrt(bin_size)\n",
    "\n",
    "eps_mean_new2 = []\n",
    "eps_std_new2 = []\n",
    "\n",
    "bins = len(eps_new_trap2[0,:])//bin_size\n",
    "for i in range(bins):\n",
    "    eps_mean_new2.append(np.mean(data3_filt_new2.T[0,:][i*bin_size:(i+1)*bin_size]))\n",
    "    eps_std_new2.append(np.std(data3_filt_new2.T[1,:][i*bin_size:(i+1)*bin_size]))\n",
    "eps_mean_new2 = np.array(eps_mean_new2)\n",
    "eps_std_new2 = np.array(eps_std_new2)/np.sqrt(bin_size)"
   ]
  },
  {
   "cell_type": "code",
   "execution_count": 11,
   "metadata": {},
   "outputs": [],
   "source": [
    "A_epsion = eps_mean_old\n",
    "A_err_epsilon = eps_std_old\n",
    "def calculate_pl(force_):\n",
    "    chi2 = np.power((A_epsion-force_)/A_err_epsilon, 2)\n",
    "    return np.sum(chi2)\n",
    "\n",
    "A_epsion2 = eps_mean_new\n",
    "A_err_epsilon2 = eps_std_new\n",
    "\n",
    "A_epsion3 = eps_mean_new2\n",
    "A_err_epsilon3 = eps_std_new2\n",
    "def calculate_pl2(force_):\n",
    "    chi2 = np.power((A_epsion2-force_)/A_err_epsilon2, 2)\n",
    "    return np.sum(chi2)"
   ]
  },
  {
   "cell_type": "code",
   "execution_count": 12,
   "metadata": {},
   "outputs": [
    {
     "data": {
      "text/plain": [
       "(0.0034902815330926074, 0.00048732585222183822)"
      ]
     },
     "execution_count": 12,
     "metadata": {},
     "output_type": "execute_result"
    }
   ],
   "source": [
    "np.mean(eps_std_new2), np.mean(eps_std_old)"
   ]
  },
  {
   "cell_type": "code",
   "execution_count": 13,
   "metadata": {},
   "outputs": [],
   "source": [
    "A_epsion = eps_mean_old\n",
    "A_err_epsilon = eps_std_old\n",
    "\n",
    "A_epsion2 = eps_mean_new\n",
    "A_err_epsilon2 = eps_std_new\n",
    "\n",
    "A_epsion3 = eps_mean_new2\n",
    "A_err_epsilon3 = eps_std_new2"
   ]
  },
  {
   "cell_type": "code",
   "execution_count": 169,
   "metadata": {},
   "outputs": [
    {
     "data": {
      "text/plain": [
       "3.1622776601683792e-07"
      ]
     },
     "execution_count": 169,
     "metadata": {},
     "output_type": "execute_result"
    }
   ],
   "source": [
    "5e-4/(100*np.sqrt(10)*5)"
   ]
  },
  {
   "cell_type": "code",
   "execution_count": 17,
   "metadata": {},
   "outputs": [],
   "source": [
    "def calculate_pl_combined_neutrality(force_):\n",
    "    chi2 = np.sum(np.power((A_epsion-force_)/A_err_epsilon, 2))\n",
    "    chi2 += np.sum(np.power((A_epsion2-force_)/A_err_epsilon2, 2))\n",
    "    chi2 += np.sum(np.power((A_epsion3-force_)/A_err_epsilon3, 2))\n",
    "    return np.sum(chi2)\n",
    "\n",
    "def gaussian(x, mu, sig):\n",
    "    return np.exp(-np.power(x - mu, 2.) / (2 * np.power(sig, 2.)))\n",
    "\n",
    "def calculate_pl_combined3(epsilon, density):\n",
    "    \n",
    "    electron = 1\n",
    "    \n",
    "    mu_N = density*6.23e23*420e-12\n",
    "\n",
    "    if epsilon>=5e-4:\n",
    "            res = 0\n",
    "            for N1 in range(1):\n",
    "                res_tmp = 0\n",
    "                charge = epsilon*N1*electron\n",
    "                res_tmp = np.power(mu_N,N1)*np.exp(-mu_N)/np.math.factorial(N1)\n",
    "                res_tmp *= np.product(gaussian(A_epsion2, charge, A_err_epsilon2))\n",
    "                for N2 in range(1):\n",
    "                    charge2 = epsilon*N2\n",
    "                    res_tmp2 = np.power(mu_N,N2)*np.exp(-mu_N)/np.math.factorial(N2)\n",
    "                    res_tmp2 *= np.product(gaussian(A_epsion2, charge2, A_err_epsilon2))\n",
    "                    for N3 in range(1):\n",
    "                        charge3 = epsilon*N3\n",
    "                        res_tmp3 = np.power(mu_N,N3)*np.exp(-mu_N)/np.math.factorial(N3)\n",
    "                        res_tmp3 *= np.product(gaussian(A_epsion3, charge3, A_err_epsilon3))\n",
    "                        res += res_tmp*res_tmp2*res_tmp3\n",
    "#     elif (epsilon<5e-7)&(epsilon>=1e-7):\n",
    "#             res = 0\n",
    "#             for N1 in range(4):\n",
    "#                 res_tmp = 0\n",
    "#                 charge = epsilon*N1*electron\n",
    "#                 res_tmp = np.power(mu_N,N1)*np.exp(-mu_N)/np.math.factorial(N1)\n",
    "#                 res_tmp *= np.product(gaussian(A_epsion2, charge, A_err_epsilon2))\n",
    "#                 for N2 in range(4):\n",
    "#                     charge2 = epsilon*N2\n",
    "#                     res_tmp2 = np.power(mu_N,N2)*np.exp(-mu_N)/np.math.factorial(N2)\n",
    "#                     res_tmp2 *= np.product(gaussian(A_epsion2, charge2, A_err_epsilon2))\n",
    "#                     res += res_tmp*res_tmp2\n",
    "    elif (epsilon<5e-4)&(epsilon>=1e-5):\n",
    "            res = 0\n",
    "            for N1 in range(7):\n",
    "                res_tmp = 0\n",
    "                charge = epsilon*N1*electron\n",
    "                res_tmp = np.power(mu_N,N1)*np.exp(-mu_N)/np.math.factorial(N1)\n",
    "                res_tmp *= np.product(gaussian(A_epsion2, charge, A_err_epsilon2))\n",
    "                for N2 in range(7):\n",
    "                    charge2 = epsilon*N2\n",
    "                    res_tmp2 = np.power(mu_N,N2)*np.exp(-mu_N)/np.math.factorial(N2)\n",
    "                    res_tmp2 *= np.product(gaussian(A_epsion2, charge2, A_err_epsilon2))\n",
    "#                     res += res_tmp*res_tmp2\n",
    "                    for N3 in range(7):\n",
    "                        charge3 = epsilon*N3\n",
    "                        res_tmp3 = np.power(mu_N,N3)*np.exp(-mu_N)/np.math.factorial(N3)\n",
    "                        res_tmp3 *= np.product(gaussian(A_epsion3, charge3, A_err_epsilon3))\n",
    "                        res += res_tmp*res_tmp2*res_tmp3\n",
    "                    \n",
    "    elif (epsilon<1e-5)&(epsilon>=1e-6):\n",
    "            res = 0\n",
    "            for N1 in range(100):\n",
    "                res_tmp = 0\n",
    "                charge = epsilon*N1*electron\n",
    "                res_tmp = np.power(mu_N,N1)*np.exp(-mu_N)/np.math.factorial(N1)\n",
    "                res_tmp *= np.product(gaussian(A_epsion2, charge, A_err_epsilon2))\n",
    "                for N2 in range(100):\n",
    "                    charge2 = epsilon*N2\n",
    "                    res_tmp2 = np.power(mu_N,N2)*np.exp(-mu_N)/np.math.factorial(N2)\n",
    "                    res_tmp2 *= np.product(gaussian(A_epsion2, charge2, A_err_epsilon2))\n",
    "\n",
    "#                     if res_tmp==0:\n",
    "#                         print('res_tmp is zero at ', N1, charge, density)\n",
    "#                         break\n",
    "#                     if res_tmp2==0:\n",
    "#                         print('res_tmp2 is zero at ', N1, charge2, density)\n",
    "#                         break\n",
    "                    res += res_tmp*res_tmp2\n",
    "                    \n",
    "    elif (epsilon<1e-6):\n",
    "            res = 0\n",
    "            for N1 in range(1):\n",
    "                res_tmp = 0\n",
    "                charge = epsilon*mu_N*electron\n",
    "#                 res_tmp = np.power(mu_N,N1)*np.exp(-mu_N)/np.math.factorial(N1)\n",
    "                res_tmp = np.product(gaussian(A_epsion2, charge, A_err_epsilon2))\n",
    "                for N2 in range(1):\n",
    "                    charge2 = epsilon*mu_N\n",
    "#                     res_tmp2 = np.power(mu_N,N2)*np.exp(-mu_N)/np.math.factorial(N2)\n",
    "                    res_tmp2 = np.product(gaussian(A_epsion2, charge2, A_err_epsilon2))\n",
    "                    for N3 in range(1):\n",
    "                        charge3 = epsilon*mu_N\n",
    "                        res_tmp3 = np.product(gaussian(A_epsion3, charge3, A_err_epsilon3))\n",
    "#                     if res_tmp==0:\n",
    "#                         print('res_tmp is zero at ', N1, charge, density)\n",
    "#                         break\n",
    "#                     if res_tmp2==0:\n",
    "#                         print('res_tmp2 is zero at ', N1, charge2, density)\n",
    "#                         break\n",
    "                    res += res_tmp*res_tmp2*res_tmp3\n",
    "                    \n",
    "    return -2*np.log(res)"
   ]
  },
  {
   "cell_type": "code",
   "execution_count": 15,
   "metadata": {},
   "outputs": [
    {
     "data": {
      "text/plain": [
       "(0.067205512739749756, 2.7, 0.00027000000000000006)"
      ]
     },
     "execution_count": 15,
     "metadata": {},
     "output_type": "execute_result"
    }
   ],
   "source": [
    "density = 6e-17\n",
    "mu_N = 6e23*75e-9*density\n",
    "np.exp(-1*mu_N), mu_N, mu_N*1e-4"
   ]
  },
  {
   "cell_type": "code",
   "execution_count": 199,
   "metadata": {},
   "outputs": [
    {
     "data": {
      "text/plain": [
       "16"
      ]
     },
     "execution_count": 199,
     "metadata": {},
     "output_type": "execute_result"
    }
   ],
   "source": [
    "2*8"
   ]
  },
  {
   "cell_type": "code",
   "execution_count": 181,
   "metadata": {},
   "outputs": [
    {
     "data": {
      "application/vnd.jupyter.widget-view+json": {
       "model_id": "a883744672094210b70710744bc5155b",
       "version_major": 2,
       "version_minor": 0
      },
      "text/plain": [
       "Canvas(toolbar=Toolbar(toolitems=[('Home', 'Reset original view', 'home', 'home'), ('Back', 'Back to previous …"
      ]
     },
     "metadata": {},
     "output_type": "display_data"
    },
    {
     "data": {
      "text/plain": [
       "<matplotlib.legend.Legend at 0x7f3a59da2a90>"
      ]
     },
     "execution_count": 181,
     "metadata": {},
     "output_type": "execute_result"
    }
   ],
   "source": [
    "## positive charge (opposing the electron charge)\n",
    "## tuned for high mass\n",
    "\n",
    "density_range = np.logspace(-18,-15,num=100)\n",
    "density_range2 = np.logspace(-17,-14,num=100)\n",
    "density_range3 = np.logspace(-16,-12,num=100)\n",
    "density_range4 = np.logspace(-15,-11,num=100)\n",
    "density_range5 = np.logspace(-17,-9,num=100)\n",
    "# pl6 = np.array([calculate_pl_combined3(1e-5, pl_range_) for pl_range_ in density_range])\n",
    "# pl7 = np.array([calculate_pl_combined3(1e-7, pl_range_) for pl_range_ in density_range])\n",
    "# pl8 = np.array([calculate_pl_combined3(1e-8, pl_range_) for pl_range_ in density_range])\n",
    "# pl9 = np.array([calculate_pl_combined3(1e-9, pl_range_) for pl_range_ in density_range2])\n",
    "# pl10 = np.array([calculate_pl_combined3(1e-10, pl_range_) for pl_range_ in density_range3])\n",
    "# pl11 = np.array([calculate_pl_combined3(1e-11, pl_range_) for pl_range_ in density_range4])\n",
    "\n",
    "_,ax = plt.subplots()\n",
    "ax.semilogx(density_range, pl6-np.min(pl6), 'o--', label=r'$10^{-5}$')\n",
    "ax.semilogx(density_range, pl7-np.min(pl7), 'o--', label=r'$10^{-7}$')\n",
    "ax.semilogx(density_range, pl8-np.min(pl8), 'o--', label=r'$10^{-8}$')\n",
    "ax.semilogx(density_range2, pl9-np.min(pl9), 'o--', label=r'$10^{-9}$')\n",
    "ax.semilogx(density_range3, pl10-np.min(pl10), 'o--', label=r'$10^{-10}$')\n",
    "ax.semilogx(density_range4, pl11-np.min(pl11), 'o--', label=r'$10^{-11}$')\n",
    "ax.plot(density_range5, density_range5*0+2.71, 'r--')\n",
    "ax.set(ylim=(0,5), xlim=(1e-18,1e-10), xlabel='Abundance per nucleon, $n_{\\chi}$', ylabel='PL')\n",
    "ax.legend()"
   ]
  },
  {
   "cell_type": "code",
   "execution_count": 219,
   "metadata": {
    "scrolled": true
   },
   "outputs": [
    {
     "name": "stdout",
     "output_type": "stream",
     "text": [
      "limit at  1e-24  is  5.93093581244\n",
      "limit at  1.74752840001e-24  is  3.38894006359\n",
      "limit at  3.05385550883e-24  is  1.94085907322\n",
      "limit at  5.33669923121e-24  is  1.11406880014\n",
      "limit at  9.32603346883e-24  is  0.640932091803\n",
      "limit at  1.62975083462e-23  is  0.369559313422\n",
      "limit at  2.84803586844e-23  is  0.213557883683\n",
      "limit at  4.97702356433e-23  is  0.12367831427\n",
      "limit at  8.69749002618e-23  is  0.0707535709876\n",
      "limit at  1.51991108295e-22  is  0.0401717675062\n",
      "limit at  2.65608778295e-22  is  0.0233206073421\n",
      "limit at  4.64158883361e-22  is  0.0131488657405\n",
      "limit at  8.1113083079e-22  is  0.00745269257607\n",
      "limit at  1.41747416293e-21  is  0.00424676996316\n",
      "limit at  2.47707635599e-21  is  0.00243301821978\n",
      "limit at  4.32876128108e-21  is  0.0014014257636\n",
      "limit at  7.56463327555e-21  is  0.000811539291665\n",
      "limit at  1.32194114847e-20  is  0.000455481667549\n",
      "limit at  2.31012970008e-20  is  0.000261933751299\n",
      "limit at  4.0370172586e-20  is  0.000151435489723\n",
      "limit at  7.05480231072e-20  is  8.76504754621e-05\n",
      "limit at  1.23284673944e-19  is  4.94456704881e-05\n",
      "limit at  2.15443469003e-19  is  2.80404647344e-05\n",
      "limit at  3.76493580679e-19  is  1.59870656032e-05\n",
      "limit at  6.57933224658e-19  is  9.16436189335e-06\n",
      "limit at  1.1497569954e-18  is  5.26554501523e-06\n",
      "limit at  2.00923300257e-18  is  2.99724149129e-06\n",
      "limit at  3.51119173422e-18  is  1.71529161078e-06\n",
      "limit at  6.13590727341e-18  is  9.86941996066e-07\n",
      "limit at  1.07226722201e-17  is  5.70896640457e-07\n",
      "limit at  1.87381742286e-17  is  3.29452398918e-07\n",
      "limit at  3.27454916288e-17  is  1.85950016331e-07\n",
      "limit at  5.72236765935e-17  is  1.05510371471e-07\n",
      "limit at  1e-16  is  6.18718306513e-08\n",
      "limit at  1.74752840001e-16  is  3.49680831038e-08\n",
      "limit at  3.05385550883e-16  is  1.98091812067e-08\n",
      "limit at  5.33669923121e-16  is  1.12817924413e-08\n",
      "limit at  9.32603346883e-16  is  6.45994416843e-09\n",
      "limit at  1.62975083462e-15  is  3.71891205779e-09\n",
      "limit at  2.84803586844e-15  is  2.15234895241e-09\n",
      "limit at  4.97702356433e-15  is  1.23841402246e-09\n",
      "limit at  8.69749002618e-15  is  6.99395859514e-10\n",
      "limit at  1.51991108295e-14  is  4.01717675062e-10\n",
      "limit at  2.65608778295e-14  is  2.33206073421e-10\n",
      "limit at  4.64158883361e-14  is  1.31488657405e-10\n",
      "limit at  8.1113083079e-14  is  7.45269257607e-11\n",
      "limit at  1.41747416293e-13  is  4.24676996316e-11\n",
      "limit at  2.47707635599e-13  is  2.43301821978e-11\n",
      "limit at  4.32876128108e-13  is  1.4014257636e-11\n",
      "limit at "
     ]
    },
    {
     "name": "stderr",
     "output_type": "stream",
     "text": [
      "/home/analysis_user/.local/lib/python3.6/site-packages/ipykernel_launcher.py:104: RuntimeWarning: divide by zero encountered in log\n"
     ]
    },
    {
     "name": "stdout",
     "output_type": "stream",
     "text": [
      " 7.56463327555e-13  is  8.11539291665e-12\n",
      "limit at  1.32194114847e-12  is  4.55481667549e-12\n",
      "limit at  2.31012970008e-12  is  2.61933751299e-12\n",
      "limit at  4.0370172586e-12  is  1.51435489723e-12\n",
      "limit at  7.05480231072e-12  is  8.76504754621e-13\n",
      "limit at  1.23284673944e-11  is  4.94456704881e-13\n",
      "limit at  2.15443469003e-11  is  2.80404647344e-13\n",
      "limit at  3.76493580679e-11  is  1.59870656032e-13\n",
      "limit at  6.57933224658e-11  is  9.16436189335e-14\n",
      "limit at  1.1497569954e-10  is  5.31524536098e-14\n",
      "limit at  2.00923300257e-10  is  3.04753565903e-14\n",
      "limit at  3.51119173422e-10  is  1.74435623104e-14\n",
      "limit at  6.13590727341e-10  is  9.95850060703e-15\n",
      "limit at  1.07226722201e-09  is  6.60689326167e-15\n",
      "limit at  1.87381742286e-09  is  3.86518559407e-15\n",
      "limit at  3.27454916288e-09  is  2.24429066487e-15\n",
      "limit at  5.72236765935e-09  is  1.34969957886e-15\n",
      "limit at  1e-08  is  6.14820746963e-16\n",
      "limit at  1.74752840001e-08  is  3.58592945937e-16\n",
      "limit at  3.05385550883e-08  is  2.38611129657e-16\n",
      "limit at  5.33669923121e-08  is  2.17120003022e-16\n",
      "limit at  9.32603346883e-08  is  2.1676983362e-16\n",
      "limit at  1.62975083462e-07  is  2.16769828531e-16\n",
      "limit at  2.84803586844e-07  is  2.16769828531e-16\n",
      "limit at  4.97702356433e-07  is  2.16769828531e-16\n",
      "limit at  8.69749002618e-07  is  2.16769828531e-16\n",
      "limit at  1.51991108295e-06  is  2.16769828531e-16\n",
      "limit at  2.65608778295e-06  is  2.16769828531e-16\n",
      "limit at  4.64158883361e-06  is  2.16769828531e-16\n",
      "limit at  8.1113083079e-06  is  2.16769828531e-16\n",
      "limit at  1.41747416293e-05  is  2.16769828531e-16\n",
      "limit at  2.47707635599e-05  is  2.16769828531e-16\n",
      "limit at  4.32876128108e-05  is  2.16769828531e-16\n",
      "limit at  7.56463327555e-05  is  2.16769828531e-16\n",
      "limit at  0.000132194114847  is  2.16769828531e-16\n",
      "limit at  0.000231012970008  is  2.16769828531e-16\n",
      "limit at  0.00040370172586  is  2.16769828531e-16\n",
      "limit at  0.000705480231072  is  2.16769828531e-16\n",
      "limit at  0.00123284673944  is  2.16769828531e-16\n",
      "limit at  0.00215443469003  is  2.16769828531e-16\n",
      "limit at  0.00376493580679  is  2.16769828531e-16\n",
      "limit at  0.00657933224658  is  2.16769828531e-16\n",
      "limit at  0.011497569954  is  2.16769828531e-16\n",
      "limit at  0.0200923300257  is  2.16769828531e-16\n",
      "limit at  0.0351119173422  is  2.16769828531e-16\n",
      "limit at  0.0613590727341  is  2.16769828531e-16\n",
      "limit at  0.107226722201  is  2.16769828531e-16\n",
      "limit at  0.187381742286  is  2.16769828531e-16\n",
      "limit at  0.327454916288  is  2.16769828531e-16\n",
      "limit at  0.572236765935  is  2.16769828531e-16\n",
      "limit at  1.0  is  2.16769828531e-16\n"
     ]
    }
   ],
   "source": [
    "epsilon_limit = np.logspace(-24,0,num=100)\n",
    "limit_projected = []\n",
    "for eps_ in epsilon_limit:\n",
    "    if eps_>1e-7:\n",
    "        density_range = np.logspace(-18,-15,num=20)\n",
    "    elif (eps_<1e-7)&(eps_>=1e-8):\n",
    "        density_range = np.logspace(-18,-15,num=20)\n",
    "    elif (eps_<1e-8)&(eps_>=1e-10):\n",
    "        density_range = np.logspace(-16,-13,num=20)\n",
    "    elif (eps_<1e-10)&(eps_>=1e-12):\n",
    "        density_range = np.logspace(-15,-11,num=20)\n",
    "    elif (eps_<1e-12)&(eps_>=1e-14):\n",
    "        density_range = np.logspace(-13,-9,num=20)\n",
    "    elif (eps_<1e-14)&(eps_>=1e-16):\n",
    "        density_range = np.logspace(-11,-7,num=20)\n",
    "    elif (eps_<1e-16)&(eps_>=1e-18):\n",
    "        density_range = np.logspace(-9, -5,num=20)\n",
    "    elif (eps_<1e-18)&(eps_>=1e-20):\n",
    "        density_range = np.logspace(-7, -3,num=20)\n",
    "    elif (eps_<1e-20)&(eps_>=1e-22):\n",
    "        density_range = np.logspace(-5, -1,num=20)\n",
    "    elif (eps_<1e-22)&(eps_>=1e-24):\n",
    "        density_range = np.logspace(-3, 2,num=20)\n",
    "        \n",
    "    pl_tmp = np.array([calculate_pl_combined3(eps_, pl_range_) for pl_range_ in density_range])\n",
    "    i = np.argmin(pl_tmp)\n",
    "    limit_projected.append(np.interp(2.71, (pl_tmp-np.min(pl_tmp))[i:],density_range[i:]))\n",
    "    print('limit at ', eps_, ' is ', np.interp(2.71, pl_tmp-np.min(pl_tmp),density_range))"
   ]
  },
  {
   "cell_type": "code",
   "execution_count": 220,
   "metadata": {},
   "outputs": [
    {
     "data": {
      "application/vnd.jupyter.widget-view+json": {
       "model_id": "b98747fa69bb4216a003a86d3c74257a",
       "version_major": 2,
       "version_minor": 0
      },
      "text/plain": [
       "Canvas(toolbar=Toolbar(toolitems=[('Home', 'Reset original view', 'home', 'home'), ('Back', 'Back to previous …"
      ]
     },
     "metadata": {},
     "output_type": "display_data"
    },
    {
     "data": {
      "text/plain": [
       "<matplotlib.legend.Legend at 0x7f3ab3113a58>"
      ]
     },
     "execution_count": 220,
     "metadata": {},
     "output_type": "execute_result"
    }
   ],
   "source": [
    "# ours = np.load('our_limit_extended.npy')\n",
    "fig ,ax = plt.subplots()\n",
    "ax.loglog(*ours, 'k-', label='limit on negatvie charge')\n",
    "ax.loglog(epsilon_limit, limit_projected, 'k-', label='projection')\n",
    "ax.legend()"
   ]
  },
  {
   "cell_type": "code",
   "execution_count": 24,
   "metadata": {},
   "outputs": [
    {
     "data": {
      "application/vnd.jupyter.widget-view+json": {
       "model_id": "5eaa0447dd124cc28830c4fed2aba5c9",
       "version_major": 2,
       "version_minor": 0
      },
      "text/plain": [
       "Canvas(toolbar=Toolbar(toolitems=[('Home', 'Reset original view', 'home', 'home'), ('Back', 'Back to previous …"
      ]
     },
     "metadata": {},
     "output_type": "display_data"
    },
    {
     "data": {
      "text/plain": [
       "<matplotlib.legend.Legend at 0x7f554595c668>"
      ]
     },
     "execution_count": 24,
     "metadata": {},
     "output_type": "execute_result"
    }
   ],
   "source": [
    "## positive charge (opposing the electron charge)\n",
    "\n",
    "density_range = np.logspace(-16,-13,num=100)\n",
    "density_range2 = np.logspace(-15,-12,num=100)\n",
    "density_range3 = np.logspace(-14,-11,num=100)\n",
    "density_range4 = np.logspace(-12,-10,num=100)\n",
    "density_range5 = np.logspace(-17,-9,num=100)\n",
    "density_range6 = np.logspace(-2,1,num=100)\n",
    "# pl6 = np.array([calculate_pl_combined3(1e-2, pl_range_) for pl_range_ in density_range])\n",
    "# pl7 = np.array([calculate_pl_combined3(1e-4, pl_range_) for pl_range_ in density_range])\n",
    "# pl8 = np.array([calculate_pl_combined3(1e-5, pl_range_) for pl_range_ in density_range])\n",
    "# pl9 = np.array([calculate_pl_combined3(1e-6, pl_range_) for pl_range_ in density_range2])\n",
    "# pl10 = np.array([calculate_pl_combined3(1e-7, pl_range_) for pl_range_ in density_range3])\n",
    "# pl11 = np.array([calculate_pl_combined3(1e-8, pl_range_) for pl_range_ in density_range4])\n",
    "pl12 = np.array([calculate_pl_combined3(2.6e-19, pl_range_) for pl_range_ in density_range6])\n",
    "\n",
    "_,ax = plt.subplots()\n",
    "# ax.semilogx(density_range, pl6-np.min(pl6), 'o--', label=r'$10^{-2}$')\n",
    "# ax.semilogx(density_range, pl7-np.min(pl7), 'o--', label=r'$10^{-4}$')\n",
    "# ax.semilogx(density_range, pl8-np.min(pl8), 'o--', label=r'$10^{-5}$')\n",
    "# ax.semilogx(density_range2, pl9-np.min(pl9), 'o--', label=r'$10^{-6}$')\n",
    "# ax.semilogx(density_range3, pl10-np.min(pl10), 'o--', label=r'$10^{-7}$')\n",
    "# ax.semilogx(density_range4, pl11-np.min(pl11), 'o--', label=r'$10^{-8}$')\n",
    "ax.semilogx(density_range6, pl12-np.min(pl12), 'o--', label=r'$10^{-8}$')\n",
    "ax.plot(density_range6, density_range6*0+2.71, 'r--')\n",
    "# ax.set(ylim=(0,5), xlim=(1e-16,1e-10), xlabel='Abundance per nucleon, $n_{\\chi}$', ylabel='PL')\n",
    "ax.set(ylim=(0,5), xlabel='Abundance per nucleon, $n_{\\chi}$', ylabel='PL')\n",
    "ax.legend()"
   ]
  },
  {
   "cell_type": "code",
   "execution_count": 336,
   "metadata": {},
   "outputs": [
    {
     "data": {
      "text/plain": [
       "(2.7881807378506607e-14, 0)"
      ]
     },
     "execution_count": 336,
     "metadata": {},
     "output_type": "execute_result"
    }
   ],
   "source": [
    "i = np.argmin(pl10)\n",
    "np.interp(2.71, (pl10-np.min(pl10))[i:],density_range[i:]), i"
   ]
  },
  {
   "cell_type": "code",
   "execution_count": 209,
   "metadata": {
    "scrolled": false
   },
   "outputs": [
    {
     "name": "stderr",
     "output_type": "stream",
     "text": [
      "/home/analysis_user/.local/lib/python3.6/site-packages/ipykernel_launcher.py:261: RuntimeWarning: divide by zero encountered in log\n"
     ]
    },
    {
     "data": {
      "application/vnd.jupyter.widget-view+json": {
       "model_id": "5fcf10d5320e4dadb5c6017f1eb13837",
       "version_major": 2,
       "version_minor": 0
      },
      "text/plain": [
       "Canvas(toolbar=Toolbar(toolitems=[('Home', 'Reset original view', 'home', 'home'), ('Back', 'Back to previous …"
      ]
     },
     "metadata": {},
     "output_type": "display_data"
    },
    {
     "data": {
      "text/plain": [
       "<matplotlib.legend.Legend at 0x7fedecaa1cc0>"
      ]
     },
     "execution_count": 209,
     "metadata": {},
     "output_type": "execute_result"
    }
   ],
   "source": [
    "## negative charge (like electron)\n",
    "\n",
    "density_range = np.logspace(-16,-13,num=100)\n",
    "density_range2 = np.logspace(-15,-12,num=100)\n",
    "density_range3 = np.logspace(-16,-9,num=100)\n",
    "density_range4 = np.logspace(-12,-10,num=100)\n",
    "density_range5 = np.logspace(-17,-9,num=100)\n",
    "pl6 = np.array([calculate_pl_combined3(1e-2, pl_range_) for pl_range_ in density_range])\n",
    "pl7 = np.array([calculate_pl_combined3(1e-4, pl_range_) for pl_range_ in density_range])\n",
    "pl8 = np.array([calculate_pl_combined3(1e-5, pl_range_) for pl_range_ in density_range])\n",
    "pl9 = np.array([calculate_pl_combined3(1e-6, pl_range_) for pl_range_ in density_range2])\n",
    "pl10 = np.array([calculate_pl_combined3(1e-7, pl_range_) for pl_range_ in density_range3])\n",
    "pl11 = np.array([calculate_pl_combined3(1e-8, pl_range_) for pl_range_ in density_range4])\n",
    "\n",
    "_,ax = plt.subplots()\n",
    "ax.semilogx(density_range, pl6-np.min(pl6), 'o--', label=r'$10^{-2}$')\n",
    "ax.semilogx(density_range, pl7-np.min(pl7), 'o--', label=r'$10^{-4}$')\n",
    "ax.semilogx(density_range, pl8-np.min(pl8), 'o--', label=r'$10^{-5}$')\n",
    "ax.semilogx(density_range2, pl9-np.min(pl9), 'o--', label=r'$10^{-6}$')\n",
    "ax.semilogx(density_range3, pl10-np.min(pl10), 'o--', label=r'$10^{-7}$')\n",
    "ax.semilogx(density_range4, pl11-np.min(pl11), 'o--', label=r'$10^{-8}$')\n",
    "ax.plot(density_range5, density_range5*0+2.71, 'r--')\n",
    "ax.set(ylim=(0,5), xlim=(1e-16,1e-10), xlabel='Abundance per nucleon, $n_{\\chi}$', ylabel='PL')\n",
    "ax.legend()"
   ]
  },
  {
   "cell_type": "code",
   "execution_count": 156,
   "metadata": {
    "scrolled": true
   },
   "outputs": [
    {
     "name": "stdout",
     "output_type": "stream",
     "text": [
      "limit at  1e-22  is  100.0\n",
      "limit at  1.10684848855e-22  is  100.0\n",
      "limit at  1.2251135766e-22  is  100.0\n",
      "limit at  1.35601511057e-22  is  100.0\n",
      "limit at  1.50090327558e-22  is  100.0\n",
      "limit at  1.66127252203e-22  is  100.0\n",
      "limit at  1.83877698008e-22  is  100.0\n",
      "limit at  2.03524752118e-22  is  100.0\n",
      "limit at  2.25271064265e-22  is  100.0\n",
      "limit at  2.49340936995e-22  is  100.0\n",
      "limit at  2.75982639247e-22  is  100.0\n",
      "limit at  3.05470967116e-22  is  100.0\n",
      "limit at  3.38110078248e-22  is  100.0\n",
      "limit at  3.74236629072e-22  is  90.9705524593\n",
      "limit at  4.14223247248e-22  is  79.9051340199\n",
      "limit at  4.58482375139e-22  is  70.6417698835\n",
      "limit at  5.07470523949e-22  is  62.9091903284\n",
      "limit at  5.61692982416e-22  is  56.4725810437\n",
      "limit at  6.21709028616e-22  is  51.1295737089\n",
      "limit at  6.88137698642e-22  is  46.706499563\n",
      "limit at  7.61664171655e-22  is  43.0549240259\n",
      "limit at  8.43046837179e-22  is  40.0484725132\n",
      "limit at  9.33125117508e-22  is  37.1452589003\n",
      "limit at  1.03282812594e-21  is  32.5230110332\n",
      "limit at  1.14318425013e-21  is  28.6473150733\n",
      "limit at  1.26533175939e-21  is  25.406997317\n",
      "limit at  1.40053054539e-21  is  22.7055863141\n",
      "limit at  1.55017511734e-21  is  20.4597413106\n",
      "limit at  1.71580898561e-21  is  18.5977754229\n",
      "limit at  1.89914058236e-21  is  17.0582820064\n",
      "limit at  2.10206088313e-21  is  15.7888697189\n",
      "limit at  2.32666291133e-21  is  14.7450087992\n",
      "limit at  2.57526332677e-21  is  13.2616044786\n",
      "limit at  2.85042632085e-21  is  11.6414752939\n",
      "limit at  3.15499006496e-21  is  10.2847966358\n",
      "limit at  3.49209598479e-21  is  9.15198756715\n",
      "limit at  3.86522116263e-21  is  8.20877098588\n",
      "limit at  4.27821420177e-21  is  7.42559327593\n",
      "limit at  4.73533492292e-21  is  6.7770814645\n",
      "limit at  5.24129830221e-21  is  6.24154059788\n",
      "limit at  5.80132310383e-21  is  5.80049290818\n",
      "limit at  6.42118570906e-21  is  5.41659188271\n",
      "limit at  7.10727969677e-21  is  4.73994142621\n",
      "limit at  7.86668179007e-21  is  4.17241159624\n",
      "limit at  8.70722484924e-21  is  3.6977851367\n",
      "limit at  9.63757866384e-21  is  3.30198304555\n",
      "limit at  1.06673393773e-20  is  1.0\n",
      "limit at  1.18071284667e-20  is  1.0\n",
      "limit at  1.30687022974e-20  is  1.0\n",
      "limit at  1.44650733852e-20  is  1.0\n",
      "limit at  1.60106446132e-20  is  1.0\n",
      "limit at  1.77213577908e-20  is  1.0\n",
      "limit at  1.96148580858e-20  is  1.0\n",
      "limit at  2.17106760254e-20  is  1.0\n",
      "limit at  2.40304289441e-20  is  1.0\n",
      "limit at  2.65980439559e-20  is  1.0\n",
      "limit at  2.9440004751e-20  is  1.0\n",
      "limit at  3.25856247615e-20  is  1.0\n",
      "limit at  3.60673495157e-20  is  0.957473506886\n",
      "limit at  3.99210912975e-20  is  0.846173528603\n",
      "limit at  4.41865995639e-20  is  0.753147193565\n",
      "limit at  4.89078709414e-20  is  0.675620849244\n",
      "limit at  5.41336030297e-20  is  0.611197628383\n",
      "limit at  5.99176966931e-20  is  0.557815262026\n",
      "limit at  6.63198120221e-20  is  0.51370679972\n",
      "limit at  7.34059836976e-20  is  0.472428374617\n",
      "limit at  8.12493021061e-20  is  0.417060810553\n",
      "limit at  8.99306672319e-20  is  0.370761522882\n",
      "limit at  9.95396230998e-20  is  0.332158383295\n",
      "limit at  1.10175281379e-19  is  0.300064803203\n",
      "limit at  1.2194734367e-19  is  0.273459126864\n",
      "limit at  1.34977233023e-19  is  0.251465412625\n",
      "limit at  1.49399346361e-19  is  0.233139542345\n",
      "limit at  1.65362440709e-19  is  0.205598418987\n",
      "limit at  1.83031167562e-19  is  0.182557002883\n",
      "limit at  2.02587771174e-19  is  0.163336582061\n",
      "limit at  2.24233968322e-19  is  0.147349794277\n",
      "limit at  2.48193028919e-19  is  0.134090564025\n",
      "limit at  2.74712078927e-19  is  0.123124701733\n",
      "limit at  3.04064649347e-19  is  0.114081210239\n",
      "limit at  3.36553497551e-19  is  0.101372277825\n",
      "limit at  3.7251373008e-19  is  0.0899063163236\n",
      "limit at  4.12316259103e-19  is  0.0803372377381\n",
      "limit at  4.56371628192e-19  is  0.0723743311843\n",
      "limit at  5.05134246882e-19  is  0.0657669411747\n",
      "limit at  5.59107077676e-19  is  0.0602998704745\n",
      "limit at  6.18846823862e-19  is  0.0557891218945\n",
      "limit at  6.84969671636e-19  is  0.0499915261307\n",
      "limit at  7.58157645752e-19  is  0.0442862282752\n",
      "limit at  8.39165644283e-19  is  0.0395225280274\n",
      "limit at  9.28829225017e-19  is  0.0355565568922\n",
      "limit at  1.02807322383e-18  is  0.01\n",
      "limit at  1.13792129392e-18  is  0.01\n",
      "limit at  1.25950646426e-18  is  0.01\n",
      "limit at  1.39408282628e-18  is  0.01\n",
      "limit at  1.54303846918e-18  is  0.01\n",
      "limit at  1.70790979739e-18  is  0.01\n",
      "limit at  1.89039737782e-18  is  0.01\n",
      "limit at  2.0923834804e-18  is  0.01\n",
      "limit at  2.31595149274e-18  is  0.01\n",
      "limit at  2.5634074093e-18  is  0.01\n",
      "limit at  2.83730361652e-18  is  0.01\n",
      "limit at  3.1404652195e-18  is  0.01\n",
      "limit at  3.47601918154e-18  is  0.01\n",
      "limit at  3.84742657726e-18  is  0.00884373437252\n",
      "limit at  4.25851829184e-18  is  0.00785044243733\n",
      "limit at  4.71353453479e-18  is  0.0070217774257\n",
      "limit at  5.21716857555e-18  is  0.00633245080785\n",
      "limit at  5.77461515236e-18  is  0.00576067019409\n",
      "limit at  6.39162405334e-18  is  0.00528773572886\n",
      "limit at  7.07455942282e-18  is  0.00489766670779\n",
      "limit at  7.8304654043e-18  is  0.00436066868557\n",
      "limit at  8.66713879739e-18  is  0.00386639210021\n",
      "limit at  9.59320947794e-18  is  0.00345384063451\n",
      "limit at  1.0618229411e-17  is  0.00311049824988\n",
      "limit at  1.17527711746e-17  is  0.00282557162255\n",
      "limit at  1.30085370109e-17  is  0.00258979278637\n",
      "limit at "
     ]
    },
    {
     "name": "stderr",
     "output_type": "stream",
     "text": [
      "/home/analysis_user/.local/lib/python3.6/site-packages/ipykernel_launcher.py:98: RuntimeWarning: divide by zero encountered in log\n"
     ]
    },
    {
     "name": "stdout",
     "output_type": "stream",
     "text": [
      " 1.43984795288e-17  is  0.00239523625585\n",
      "limit at  1.59369353038e-17  is  0.00215053992177\n",
      "limit at  1.76397727531e-17  is  0.00190459977474\n",
      "limit at  1.95245558102e-17  is  0.00169922644447\n",
      "limit at  2.16107250881e-17  is  0.00152822610093\n",
      "limit at  2.39197984002e-17  is  0.00138625363787\n",
      "limit at  2.64755927057e-17  is  0.0012687161942\n",
      "limit at  2.93044697697e-17  is  0.00117168360728\n",
      "limit at  3.24356080724e-17  is  0.00106076087451\n",
      "limit at  3.59013037701e-17  is  0.000938396479162\n",
      "limit at  3.97373038149e-17  is  0.000836166859203\n",
      "limit at  4.39831746665e-17  is  0.00075100722624\n",
      "limit at  4.86827104012e-17  is  0.000680270860384\n",
      "limit at  5.38843844261e-17  is  0.000621681959227\n",
      "limit at  5.96418494584e-17  is  0.000573291802318\n",
      "limit at  6.60144909273e-17  is  0.000523313207338\n",
      "limit at  7.30680395053e-17  is  0.000462437079036\n",
      "limit at  8.08752490877e-17  is  0.000411553654267\n",
      "limit at  8.95166472138e-17  is  0.000369146615071\n",
      "limit at  9.90813656686e-17  is  0.000333905543481\n",
      "limit at  1.09668059834e-16  is  0.0001\n",
      "limit at  1.21385926269e-16  is  0.0001\n",
      "limit at  1.34355829022e-16  is  0.0001\n",
      "limit at  1.48711546281e-16  is  0.0001\n",
      "limit at  1.64601150231e-16  is  0.0001\n",
      "limit at  1.82188534347e-16  is  0.0001\n",
      "limit at  2.01655103872e-16  is  0.0001\n",
      "limit at  2.2320164693e-16  is  0.0001\n",
      "limit at  2.47050405546e-16  is  0.0001\n",
      "limit at  2.73447367974e-16  is  0.0001\n",
      "limit at  3.0266480594e-16  is  0.0001\n",
      "limit at  3.35004082991e-16  is  0.0001\n",
      "limit at  3.70798762917e-16  is  9.25132374558e-05\n",
      "limit at  4.1041805029e-16  is  8.19114425962e-05\n",
      "limit at  4.54270598637e-16  is  7.30573787479e-05\n",
      "limit at  5.02808725494e-16  is  6.56843907118e-05\n",
      "limit at  5.56533077843e-16  is  5.95623237076e-05\n",
      "limit at  6.15997796038e-16  is  5.44933818348e-05\n",
      "limit at  6.81816229494e-16  is  5.03082826093e-05\n",
      "limit at  7.54667263084e-16  is  4.56342597335e-05\n",
      "limit at  8.35302319503e-16  is  4.03595712508e-05\n",
      "limit at  9.24553109823e-16  is  3.59523259385e-05\n",
      "limit at  1.02334021219e-15  is  3.22805829757e-05\n",
      "limit at  1.13268256714e-15  is  2.92303803956e-05\n",
      "limit at  1.25370798744e-15  is  2.67037111622e-05\n",
      "limit at  1.38766479098e-15  is  2.46166408299e-05\n",
      "limit at  1.53593467651e-15  is  2.25139458078e-05\n",
      "limit at  1.70004697521e-15  is  1.9889846354e-05\n",
      "limit at  1.88169442497e-15  is  1.76962414893e-05\n",
      "limit at  2.08275063019e-15  is  1.58678547198e-05\n",
      "limit at  2.30528938705e-15  is  1.43482638456e-05\n",
      "limit at  2.55160607373e-15  is  1.30889121626e-05\n",
      "limit at  2.82424132608e-15  is  1.20481873073e-05\n",
      "limit at  3.12600724307e-15  is  1.11092362071e-05\n",
      "limit at  3.46001639219e-15  is  9.803877704e-06\n",
      "limit at  3.82971391405e-15  is  8.71214535512e-06\n",
      "limit at  4.23891305734e-15  is  7.80174806834e-06\n",
      "limit at  4.69183451061e-15  is  7.04475462045e-06\n",
      "limit at  5.19314993659e-15  is  6.41711070595e-06\n",
      "limit at  5.74803015813e-15  is  5.89818827509e-06\n",
      "limit at  6.36219849266e-15  is  5.47036923528e-06\n",
      "limit at  7.04198978545e-15  is  4.83331023133e-06\n",
      "limit at  7.7944157504e-15  is  4.29000905572e-06\n",
      "limit at  8.62723729246e-15  is  3.8367348058e-06\n",
      "limit at  9.54904455752e-15  is  3.45966202473e-06\n",
      "limit at  1.05693455356e-14  is  1e-06\n",
      "limit at  1.1698664131e-14  is  1e-06\n",
      "limit at  1.29486487115e-14  is  1e-06\n",
      "limit at  1.4332192255e-14  is  1e-06\n",
      "limit at  1.58635653351e-14  is  1e-06\n",
      "limit at  1.75585633141e-14  is  1e-06\n",
      "limit at  1.94346692654e-14  is  1e-06\n",
      "limit at  2.15112343018e-14  is  1e-06\n",
      "limit at  2.38096771738e-14  is  1e-06\n",
      "limit at  2.63537051927e-14  is  1e-06\n",
      "limit at  2.91695587602e-14  is  1e-06\n",
      "limit at  3.22862820254e-14  is  1e-06\n",
      "limit at  3.57360224607e-14  is  9.68604710742e-07\n",
      "limit at  3.95543624473e-14  is  8.55491748067e-07\n",
      "limit at  4.37806862904e-14  is  7.60924792889e-07\n",
      "limit at  4.84585864482e-14  is  6.82093753356e-07\n",
      "limit at  5.36363131674e-14  is  6.16569294236e-07\n",
      "limit at  5.93672721607e-14  is  5.62260396807e-07\n",
      "limit at  6.57105754604e-14  is  5.17374806643e-07\n",
      "limit at  7.273165113e-14  is  4.77964306558e-07\n",
      "limit at  8.0502918123e-14  is  4.21697323576e-07\n",
      "limit at  8.91045332482e-14  is  3.74633302847e-07\n",
      "limit at  9.86252179487e-14  is  3.35382182219e-07\n",
      "limit at  1.09163173419e-13  is  3.02741377355e-07\n",
      "limit at  1.20827093504e-13  is  2.75675054385e-07\n",
      "limit at  1.33737285821e-13  is  2.53294780753e-07\n",
      "limit at  1.48026912674e-13  is  2.34841644635e-07\n",
      "limit at  1.63843364558e-13  is  2.07905252201e-07\n",
      "limit at  1.8134978042e-13  is  1.84484272458e-07\n",
      "limit at  2.00726730356e-13  is  1.64942058178e-07\n",
      "limit at  2.22174078106e-13  is  1.4868336792e-07\n",
      "limit at  2.45913042547e-13  is  1.35195135272e-07\n",
      "limit at  2.72188479458e-13  is  1.24037005682e-07\n",
      "limit at  3.01271407088e-13  is  1.14832577296e-07\n",
      "limit at  3.33461801579e-13  is  1.02519921464e-07\n",
      "limit at  3.69091691066e-13  is  9.08655865462e-08\n",
      "limit at  4.08528580393e-13  is  8.1136716476e-08\n",
      "limit at  4.52179241737e-13  is  7.30387198763e-08\n",
      "limit at  5.0049391027e-13  is  6.63174947629e-08\n",
      "limit at  5.53970928111e-13  is  6.07548016027e-08\n",
      "limit at  6.1316188448e-13  is  5.61639735828e-08\n",
      "limit at  6.78677305072e-13  is  5.05624314892e-08\n",
      "limit at  7.51192949332e-13  is  4.47636544809e-08\n",
      "limit at  8.31456780577e-13  is  3.99206143747e-08\n",
      "limit at  9.20296680876e-13  is  3.58875318567e-08\n",
      "limit at  1.01862899024e-12  is  1e-08\n",
      "limit at  1.12746795824e-12  is  1e-08\n",
      "limit at  1.24793620547e-12  is  1e-08\n",
      "limit at  1.38127630283e-12  is  1e-08\n",
      "limit at  1.52886358806e-12  is  1e-08\n",
      "limit at  1.69222035164e-12  is  1e-08\n",
      "limit at  1.87303153851e-12  is  1e-08\n",
      "limit at  2.0731621274e-12  is  1e-08\n",
      "limit at  2.29467636723e-12  is  1e-08\n",
      "limit at  2.53985906878e-12  is  1e-08\n",
      "limit at  2.81123917141e-12  is  1e-08\n",
      "limit at  3.11161582782e-12  is  1e-08\n",
      "limit at  3.44408727597e-12  is  1e-08\n",
      "limit at  3.81208279584e-12  is  9.01312960514e-09\n",
      "limit at  4.21939808081e-12  is  8.07273951212e-09\n",
      "limit at  4.67023438833e-12  is  7.290338423e-09\n",
      "limit at  5.16924187389e-12  is  6.64129066748e-09\n",
      "limit at  5.72156755506e-12  is  6.0777366804e-09\n",
      "limit at  6.33290840046e-12  is  5.41121052327e-09\n",
      "limit at  7.00957009117e-12  is  4.85538976003e-09\n",
      "limit at  7.75853206079e-12  is  4.39325424938e-09\n",
      "limit at  8.58751948485e-12  is  4.01013696426e-09\n",
      "limit at  9.50508296219e-12  is  3.64419397703e-09\n",
      "limit at  1.05206867102e-11  is  3.25003529368e-09\n",
      "limit at  1.16448061837e-11  is  2.92156220196e-09\n",
      "limit at  1.28890361239e-11  is  2.64863394527e-09\n",
      "limit at  1.42662101526e-11  is  2.42252028436e-09\n",
      "limit at  1.57905331447e-11  is  2.18587797908e-09\n",
      "limit at  1.74777277446e-11  is  1.9528198546e-09\n",
      "limit at  1.93451965374e-11  is  1.75872884783e-09\n",
      "limit at  2.14122015482e-11  is  1.59756434104e-09\n",
      "limit at  2.37000629201e-11  is  1.46413095197e-09\n",
      "limit at  2.62323788216e-11  is  1.31166443407e-09\n",
      "limit at  2.90352688498e-11  is  1.17388005886e-09\n",
      "limit at  3.2137643441e-11  is  1.05920861403e-09\n",
      "limit at  3.55715020682e-11  is  9.64052630308e-10\n",
      "limit at  3.93722632996e-11  is  8.85051897996e-10\n",
      "limit at  4.3579130124e-11  is  7.8741172252e-10\n",
      "limit at  4.823549431e-11  is  7.05963111672e-10\n",
      "limit at  5.33893839715e-11  is  6.38221514531e-10\n",
      "limit at  5.90939589534e-11  is  5.82044934814e-10\n",
      "limit at  6.540805915e-11  is  5.30658676327e-10\n",
      "limit at  7.23968114091e-11  is  4.72908526072e-10\n",
      "limit at  8.0132301284e-11  is  4.24766511728e-10\n",
      "limit at  8.86943165601e-11  is  3.8475216077e-10\n",
      "limit at  9.81711702275e-11  is  3.51590363196e-10\n",
      "limit at  1.08660611385e-10  is  3.04096857975e-10\n",
      "limit at  1.20270833477e-10  is  2.76797469358e-10\n",
      "limit at  1.3312159025e-10  is  2.5422157391e-10\n",
      "limit at  1.47345430962e-10  is  2.35604739048e-10\n",
      "limit at  1.63089067555e-10  is  2.09072759575e-10\n",
      "limit at  1.80514887922e-10  is  1.85459874549e-10\n",
      "limit at  1.99802630857e-10  is  1.65754925471e-10\n",
      "limit at  2.21151239973e-10  is  1.49358699954e-10\n",
      "limit at  2.44780915704e-10  is  1.35754606822e-10\n",
      "limit at  2.70935386573e-10  is  1.24499181914e-10\n",
      "limit at  2.99884423123e-10  is  1.15213296185e-10\n",
      "limit at  3.31926620473e-10  is  1.03100734333e-10\n",
      "limit at  3.6739247818e-10  is  9.13511625166e-11\n",
      "limit at  4.06647809178e-10  is  8.1541486997e-11\n",
      "limit at  4.50097512961e-10  is  7.33751608454e-11\n",
      "limit at  4.98189751921e-10  is  6.65963444987e-11\n",
      "limit at  5.51420573924e-10  is  6.09852639924e-11\n",
      "limit at  6.10339028803e-10  is  5.63539055131e-11\n",
      "limit at  6.75552831533e-10  is  5.08513524111e-11\n",
      "limit at  7.47734630518e-10  is  4.50053165033e-11\n",
      "limit at  8.27628945625e-10  is  4.01221562833e-11\n",
      "limit at  9.16059847544e-10  is  3.60551295595e-11\n",
      "limit at  1.01393945768e-09  is  3.26775472895e-11\n",
      "limit at  1.12227735621e-09  is  2.98805048129e-11\n",
      "limit at  1.24219099545e-09  is  2.7570773998e-11\n",
      "limit at  1.37491722581e-09  is  2.50852610071e-11\n",
      "limit at  1.52182505326e-09  is  2.21767708115e-11\n",
      "limit at  1.68442976004e-09  is  1.97461646037e-11\n",
      "limit at  1.86440853397e-09  is  1.77208375972e-11\n",
      "limit at  2.06361776786e-09  is  1.60380618919e-11\n",
      "limit at  2.2841122073e-09  is  1.46438778647e-11\n",
      "limit at  2.52816614433e-09  is  1.34920624839e-11\n",
      "limit at  2.79829687566e-09  is  1.23768334964e-11\n",
      "limit at  3.09729066733e-09  is  1.09299252621e-11\n",
      "limit at  3.42823149373e-09  is  9.72017368887e-12\n",
      "limit at  3.79453284724e-09  is  8.71165980062e-12\n",
      "limit at  4.19997294672e-09  is  7.8733285259e-12\n",
      "limit at  4.64873370802e-09  is  7.17844713526e-12\n",
      "limit at  5.14544387839e-09  is  6.60410041903e-12\n",
      "limit at  5.69522677971e-09  is  6.1076733485e-12\n",
      "limit at  6.30375315307e-09  is  5.38792134302e-12\n",
      "limit at  6.97729964967e-09  is  4.78585106705e-12\n",
      "limit at  7.72281357139e-09  is  4.28369483519e-12\n",
      "limit at  8.54798452884e-09  is  3.8660798051e-12\n",
      "limit at  9.46132375589e-09  is  3.51976349367e-12\n",
      "limit at  1.04722518989e-08  is  1e-12\n",
      "limit at  1.1591196186e-08  is  1e-12\n",
      "limit at  1.28296979789e-08  is  1e-12\n",
      "limit at  1.42005318165e-08  is  1e-12\n",
      "limit at  1.57178371777e-08  is  1e-12\n",
      "limit at  1.73972643234e-08  is  1e-12\n",
      "limit at  1.92561357213e-08  is  1e-12\n",
      "limit at  2.13136247184e-08  is  1e-12\n",
      "limit at  2.35909533051e-08  is  1e-12\n",
      "limit at  2.61116110092e-08  is  1e-12\n",
      "limit at  2.89015971791e-08  is  1e-12\n",
      "limit at  3.19896891543e-08  is  1e-12\n",
      "limit at  3.54077390897e-08  is  9.81242371933e-13\n",
      "limit at  3.91910024943e-08  is  8.7394364005e-13\n",
      "limit at  4.33785018756e-08  is  7.84479306011e-13\n"
     ]
    },
    {
     "name": "stdout",
     "output_type": "stream",
     "text": [
      "limit at  4.80134292365e-08  is  7.1010501237e-13\n",
      "limit at  5.31435915805e-08  is  6.48456314476e-13\n",
      "limit at  5.8821904017e-08  is  5.88390599509e-13\n",
      "limit at  6.51069355548e-08  is  5.24940565557e-13\n",
      "limit at  7.20635132129e-08  is  4.72071923459e-13\n",
      "limit at  7.97633906793e-08  is  4.28149637813e-13\n",
      "limit at  8.8285988415e-08  is  3.91766387745e-13\n",
      "limit at  9.77192128372e-08  is  3.52954288332e-13\n",
      "limit at  1.08160363031e-07  is  3.15439143886e-13\n",
      "limit at  1.19717134342e-07  is  2.84201017963e-13\n",
      "limit at  1.325087292e-07  is  2.58266003556e-13\n",
      "limit at  1.46667086634e-07  is  2.3679663997e-13\n",
      "limit at  1.62338243161e-07  is  2.1180712785e-13\n",
      "limit at  1.79683839077e-07  is  1.89629197643e-13\n",
      "limit at  1.98882785699e-07  is  1.71174254758e-13\n",
      "limit at  2.20133110749e-07  is  1.55862319837e-13\n",
      "limit at  2.43654000913e-07  is  1.4287445592e-13\n",
      "limit at  2.69688062639e-07  is  1.2715677023e-13\n",
      "limit at  2.98503824512e-07  is  1.14047502092e-13\n",
      "limit at  3.30398506987e-07  is  1.03146030345e-13\n",
      "limit at  3.65701088078e-07  is  9.41070416991e-14\n",
      "limit at  4.047756966e-07  is  8.56660576216e-14\n",
      "limit at  4.48025367983e-07  is  7.63703854496e-14\n",
      "limit at  4.95896201384e-07  is  6.86224767206e-14\n",
      "limit at  5.48881960979e-07  is  6.21836246028e-14\n",
      "limit at  6.07529168902e-07  is  5.68482774513e-14\n",
      "limit at  6.72442742348e-07  is  5.13862501553e-14\n",
      "limit at  7.44292233004e-07  is  4.58892279547e-14\n",
      "limit at  8.2381873314e-07  is  4.13104633867e-14\n",
      "limit at  9.11842519615e-07  is  3.75077562099e-14\n",
      "limit at  1.00927151463e-06  is  3.36636128406e-14\n",
      "limit at  1.1171106505e-06  is  3.01170136246e-14\n",
      "limit at  1.23647223505e-06  is  2.71386840609e-14\n",
      "limit at  1.3685874245e-06  is  2.46442023847e-14\n",
      "limit at  1.51481892226e-06  is  2.2559442073e-14\n",
      "limit at  1.67667503453e-06  is  2.04699663036e-14\n",
      "limit at  1.85582522776e-06  is  1.83068932744e-14\n",
      "limit at  2.05411734835e-06  is  1.64917828258e-14\n",
      "limit at  2.27359668233e-06  is  1.49710658056e-14\n",
      "limit at  2.51652705141e-06  is  1.36981334303e-14\n",
      "limit at  2.78541416324e-06  is  1.25018596526e-14\n",
      "limit at  3.08303145657e-06  is  1.11927859456e-14\n",
      "limit at  3.41244870785e-06  is  1.00916922956e-14\n",
      "limit at  3.77706369454e-06  is  9.16623432949e-15\n",
      "limit at  4.18063724146e-06  is  8.38825118296e-15\n",
      "limit at  4.62733201188e-06  is  7.72927124556e-15\n",
      "limit at  5.12175544336e-06  is  6.93745553512e-15\n",
      "limit at  5.66900727121e-06  is  6.26943694221e-15\n",
      "limit at  6.27473212971e-06  is  5.70575904393e-15\n",
      "limit at  6.94517777382e-06  is  5.22950088297e-15\n",
      "limit at  7.68725952166e-06  is  4.8260138857e-15\n",
      "limit at  8.50863158264e-06  is  4.42142126465e-15\n",
      "limit at  9.41776600687e-06  is  4.01804810297e-15\n",
      "limit at  1.04240400702e-05  is  2.79009483572e-15\n",
      "limit at  1.15378329963e-05  is  2.73512432903e-15\n",
      "limit at  1.27706330131e-05  is  2.6729456677e-15\n",
      "limit at  1.41351558484e-05  is  2.59384859799e-15\n",
      "limit at  1.56454758862e-05  is  2.49809277141e-15\n",
      "limit at  1.73171713372e-05  is  2.3986434098e-15\n",
      "limit at  1.91674849206e-05  is  2.29756047768e-15\n",
      "limit at  2.12155017136e-05  is  2.1972161374e-15\n",
      "limit at  2.34823460055e-05  is  2.10007484918e-15\n",
      "limit at  2.59913991838e-05  is  2.00087478848e-15\n",
      "limit at  2.87685409019e-05  is  1.90830753245e-15\n",
      "limit at  3.1842416015e-05  is  1.82681447814e-15\n",
      "limit at  3.5244730038e-05  is  1.75584042462e-15\n",
      "limit at  3.90105761719e-05  is  1.69443814298e-15\n",
      "limit at  4.31787972733e-05  is  1.64146523139e-15\n",
      "limit at  4.77923864994e-05  is  1.59399301639e-15\n",
      "limit at  5.2898930761e-05  is  1.55247613148e-15\n",
      "limit at  5.85511015587e-05  is  1.51703091278e-15\n",
      "limit at  6.48071982631e-05  is  1.48670658296e-15\n",
      "limit at  7.17317494447e-05  is  1.46070445244e-15\n",
      "limit at  7.93961784538e-05  is  1.43834747608e-15\n",
      "limit at  8.78795401182e-05  is  1.41904488505e-15\n",
      "limit at  9.72693361543e-05  is  1.40224858195e-15\n",
      "limit at  0.000107662417705  is  1.3874187983e-15\n",
      "limit at  0.00011916598431  is  1.37405590341e-15\n",
      "limit at  0.00013189868962  is  1.36184202464e-15\n",
      "limit at  0.000145991865247  is  1.35081354692e-15\n",
      "limit at  0.00016159087539  is  1.34136790347e-15\n",
      "limit at  0.000178856616188  is  1.3340014704e-15\n",
      "limit at  0.000197967175295  is  1.32894063343e-15\n",
      "limit at  0.000219119668758  is  1.32595717528e-15\n",
      "limit at  0.000242532274176  is  1.3244846915e-15\n",
      "limit at  0.000268446481096  is  1.3238933094e-15\n",
      "limit at  0.000297129581858  is  1.3237069239e-15\n",
      "limit at  0.000328877428583  is  1.32366293155e-15\n",
      "limit at  0.000364017484745  is  1.32365559992e-15\n",
      "limit at  0.000402912202795  is  1.3236547975e-15\n",
      "limit at  0.000445962762682  is  1.3236547447e-15\n",
      "limit at  0.000493613209824  is  1.32365474283e-15\n",
      "limit at  0.000546355035221  is  1.21576982853e-15\n",
      "limit at  0.000604732244946  is  1.21576982853e-15\n",
      "limit at  0.000669346971296  is  1.21576982853e-15\n",
      "limit at  0.000740865683494  is  1.21576982853e-15\n",
      "limit at  0.000820026061993  is  1.21576982853e-15\n",
      "limit at  0.000907644607289  is  1.21576982853e-15\n",
      "limit at  0.00100462506172  is  1.21576982853e-15\n",
      "limit at  0.00111196773112  is  1.21576982853e-15\n",
      "limit at  0.00123077980251  is  1.21576982853e-15\n",
      "limit at  0.00136228676414  is  1.21576982853e-15\n",
      "limit at  0.00150784504586  is  1.21576982853e-15\n",
      "limit at  0.00166895600998  is  1.21576982853e-15\n",
      "limit at  0.0018472814371  is  1.21576982853e-15\n",
      "limit at  0.00204466066658  is  1.21576982853e-15\n",
      "limit at  0.0022631295684  is  1.21576982853e-15\n",
      "limit at  0.00250494154217  is  1.21576982853e-15\n",
      "limit at  0.00277259075986  is  1.21576982853e-15\n",
      "limit at  0.00306883789192  is  1.21576982853e-15\n",
      "limit at  0.00339673858227  is  1.21576982853e-15\n",
      "limit at  0.00375967496579  is  1.21576982853e-15\n",
      "limit at  0.00416139055332  is  1.21576982853e-15\n",
      "limit at  0.0046060288442  is  1.21576982853e-15\n",
      "limit at  0.00509817606442  is  1.21576982853e-15\n",
      "limit at  0.00564290847126  is  1.21576982853e-15\n",
      "limit at  0.00624584471244  is  1.21576982853e-15\n",
      "limit at  0.00691320377968  is  1.21576982853e-15\n",
      "limit at  0.00765186915457  is  1.21576982853e-15\n",
      "limit at  0.00846945980831  is  1.21576982853e-15\n",
      "limit at  0.00937440878766  is  1.21576982853e-15\n",
      "limit at  0.0103760501977  is  1.21576982853e-15\n",
      "limit at  0.0114847154784  is  1.21576982853e-15\n",
      "limit at  0.0127118399687  is  1.21576982853e-15\n",
      "limit at  0.014070080856  is  1.21576982853e-15\n",
      "limit at  0.0155734477293  is  1.21576982853e-15\n",
      "limit at  0.0172374470806  is  1.21576982853e-15\n",
      "limit at  0.0190792422477  is  1.21576982853e-15\n",
      "limit at  0.0211178304445  is  1.21576982853e-15\n",
      "limit at  0.0233742387089  is  1.21576982853e-15\n",
      "limit at  0.025871740786  is  1.21576982853e-15\n",
      "limit at  0.0286360971851  is  1.21576982853e-15\n",
      "limit at  0.0316958208873  is  1.21576982853e-15\n",
      "limit at  0.0350824714424  is  1.21576982853e-15\n",
      "limit at  0.0388309804906  is  1.21576982853e-15\n",
      "limit at  0.0429800120649  is  1.21576982853e-15\n",
      "limit at  0.0475723613919  is  1.21576982853e-15\n",
      "limit at  0.0526553963033  is  1.21576982853e-15\n",
      "limit at  0.0582815458123  is  1.21576982853e-15\n",
      "limit at  0.0645088408927  is  1.21576982853e-15\n",
      "limit at  0.0714015130401  is  1.21576982853e-15\n",
      "limit at  0.0790306567886  is  1.21576982853e-15\n",
      "limit at  0.0874749630155  is  1.21576982853e-15\n",
      "limit at  0.0968215305997  is  1.21576982853e-15\n",
      "limit at  0.107166764803  is  1.21576982853e-15\n",
      "limit at  0.118617371645  is  1.21576982853e-15\n",
      "limit at  0.131291458521  is  1.21576982853e-15\n",
      "limit at  0.145319752424  is  1.21576982853e-15\n",
      "limit at  0.160846948327  is  1.21576982853e-15\n",
      "limit at  0.178033201643  is  1.21576982853e-15\n",
      "limit at  0.19705578015  is  1.21576982853e-15\n",
      "limit at  0.218110892419  is  1.21576982853e-15\n",
      "limit at  0.24141571161  is  1.21576982853e-15\n",
      "limit at  0.267210615508  is  1.21576982853e-15\n",
      "limit at  0.295761665899  is  1.21576982853e-15\n",
      "limit at  0.327363352872  is  1.21576982853e-15\n",
      "limit at  0.362341632332  is  1.21576982853e-15\n",
      "limit at  0.401057288086  is  1.21576982853e-15\n",
      "limit at  0.443909653139  is  1.21576982853e-15\n",
      "limit at  0.49134072863  is  1.21576982853e-15\n",
      "limit at  0.543839742846  is  1.21576982853e-15\n",
      "limit at  0.601948197383  is  1.21576982853e-15\n",
      "limit at  0.666265452458  is  1.21576982853e-15\n",
      "limit at  0.737454909026  is  1.21576982853e-15\n",
      "limit at  0.816250851429  is  1.21576982853e-15\n",
      "limit at  0.903466021181  is  1.21576982853e-15\n",
      "limit at  1.0  is  1.21576982853e-15\n"
     ]
    }
   ],
   "source": [
    "epsilon_limit = np.logspace(-22,0,num=500)\n",
    "limit = []\n",
    "for eps_ in epsilon_limit:\n",
    "    if eps_>1e-3:\n",
    "        density_range = np.logspace(-15,-13,num=20)\n",
    "    elif (eps_<1e-3)&(eps_>=1e-4):\n",
    "        density_range = np.logspace(-15,-13,num=20)\n",
    "    elif (eps_<1e-4)&(eps_>=1e-5):\n",
    "        density_range = np.logspace(-15,-13,num=20)\n",
    "    elif (eps_<1e-5)&(eps_>=1e-6):\n",
    "        density_range = np.logspace(-15,-13,num=10)\n",
    "    elif (eps_<1e-6)&(eps_>=1e-8):\n",
    "        density_range = np.logspace(-16,-12,num=20)\n",
    "    elif (eps_<1e-8)&(eps_>=1e-10):\n",
    "        density_range = np.logspace(-15,-9,num=20)\n",
    "    elif (eps_<1e-10)&(eps_>=1e-12):\n",
    "        density_range = np.logspace(-12,-8,num=20)\n",
    "    elif (eps_<1e-12)&(eps_>=1e-14):\n",
    "        density_range = np.logspace(-12,-6,num=20)\n",
    "    elif (eps_<1e-14)&(eps_>=1e-16):\n",
    "        density_range = np.logspace(-10,-4,num=20)\n",
    "    elif (eps_<1e-16)&(eps_>=1e-18):\n",
    "        density_range = np.logspace(-8, -2,num=20)\n",
    "    elif (eps_<1e-18)&(eps_>=1e-20):\n",
    "        density_range = np.logspace(-6, 0,num=20)\n",
    "    elif (eps_<1e-20)&(eps_>=1e-22):\n",
    "        density_range = np.logspace(-6, 2,num=20)\n",
    "    elif (eps_<1e-22)&(eps_>=1e-24):\n",
    "        density_range = np.logspace(-6, 2,num=20)\n",
    "        \n",
    "    pl_tmp = np.array([calculate_pl_combined3(eps_, pl_range_) for pl_range_ in density_range])\n",
    "    i = np.argmin(pl_tmp)\n",
    "    limit.append(np.interp(2.71, (pl_tmp-np.min(pl_tmp))[i:],density_range[i:]))\n",
    "    print('limit at ', eps_, ' is ', np.interp(2.71, pl_tmp-np.min(pl_tmp),density_range))"
   ]
  },
  {
   "cell_type": "code",
   "execution_count": 223,
   "metadata": {},
   "outputs": [],
   "source": [
    "from scipy.signal import savgol_filter\n",
    "yhat2 = savgol_filter(limit_projected, 5, 3) # window size 51, polynomial order 3"
   ]
  },
  {
   "cell_type": "code",
   "execution_count": 225,
   "metadata": {},
   "outputs": [
    {
     "data": {
      "application/vnd.jupyter.widget-view+json": {
       "model_id": "616c6231abbe4da8996bad849861d2c4",
       "version_major": 2,
       "version_minor": 0
      },
      "text/plain": [
       "Canvas(toolbar=Toolbar(toolitems=[('Home', 'Reset original view', 'home', 'home'), ('Back', 'Back to previous …"
      ]
     },
     "metadata": {},
     "output_type": "display_data"
    },
    {
     "data": {
      "text/plain": [
       "<matplotlib.legend.Legend at 0x7f3a538d4978>"
      ]
     },
     "execution_count": 225,
     "metadata": {},
     "output_type": "execute_result"
    }
   ],
   "source": [
    "# ours = np.load('our_limit_extended.npy')\n",
    "\n",
    "fig ,ax = plt.subplots()\n",
    "ax.loglog(*ours, 'k-', label='limit on negatvie charge')\n",
    "ax.loglog(epsilon_limit, limit_projected, 'k-', label='projection')\n",
    "# ax.loglog(epsilon_sensitivity, smoothed_sensitivity, 'k-', label='limit on positive charge')\n",
    "# ax.loglog(*our_data, 'k-', label='limit on negatvie charge')\n",
    "# ax.loglog(gadi_data[::2], gadi_data[1::2], '--', label='Yale')\n",
    "# ax.loglog(dave_data[::2], dave_data[1::2], '--', label='Stanford 2014')\n",
    "# ax.set(xlabel='Fractional charge, $\\epsilon$', ylabel='Abundance per nucleon, $n_{\\chi}$', ylim=(1e-20,1e-6),xlim=(1e-12,1.01))\n",
    "ax.legend()\n",
    "# fig.savefig('fig4_limit_millicharge.pdf')"
   ]
  },
  {
   "cell_type": "code",
   "execution_count": 226,
   "metadata": {},
   "outputs": [],
   "source": [
    "our_data = np.array([epsilon_limit, limit_projected])\n",
    "np.save('our_projection_extended_high_mass', our_data)"
   ]
  },
  {
   "cell_type": "code",
   "execution_count": 79,
   "metadata": {},
   "outputs": [],
   "source": [
    "gadi_data = np.array([0.9896468028945953, 2.2238599725966594e-17,\n",
    "0.19516209893399206, 2.3997460707811468e-17,\n",
    "0.0093459072975982, 2.3545115567287907e-17,\n",
    "0.002625481966069156, 2.5407309482131215e-17,\n",
    "0.0011659144011798323, 4.0885587995589997e-17,\n",
    "0.0006052306368592101, 7.661212713002802e-17,\n",
    "0.000280193223174577, 1.7037464293995588e-16,\n",
    "0.0001133019248813323, 4.496685997870468e-16,\n",
    "0.00004629528085832118, 1.1868071806067058e-15,\n",
    "0.00004629528085832118, 1.0192118462630151e-8])"
   ]
  },
  {
   "cell_type": "code",
   "execution_count": 90,
   "metadata": {},
   "outputs": [],
   "source": [
    "dave_data = np.array([0.9849491981099865, 3.580818436386276e-15,\n",
    "0.12522609583772226, 3.916700414732544e-15,\n",
    "0.013474975716778723, 3.916700414732544e-15,\n",
    "0.0014499770942557823, 3.916700414732544e-15,\n",
    "0.00032803227444906034, 4.685937159057862e-15,\n",
    "0.00017884212165757526, 6.132119639330011e-15,\n",
    "0.00009459119530973852, 1.2563627290624282e-14,\n",
    "0.00004853547402209772, 2.8155129039539425e-14,\n",
    "0.00004299024529768444, 4.8215407398725386e-14,\n",
    "0.00004299024529768444, 8.495785518249188e-13,\n",
    "0.00004299024529768444, 0.0000018884530615508627,\n",
    "0.00004299024529768444, 0.0009179771233537134,\n",
    "0.00004299024529768444, 0.6387188517346809])"
   ]
  },
  {
   "cell_type": "code",
   "execution_count": 55,
   "metadata": {},
   "outputs": [],
   "source": [
    "high_charge_limit = 2.726e-15\n",
    "q_corner_one_sphere = 9.75e-5\n",
    "\n",
    "integration_time_hours = 90\n",
    "number_of_spheres = 1\n",
    "noise_floor_factor = 10\n",
    "electric_field_factor = 2\n",
    "\n",
    "high_limit = high_charge_limit/number_of_spheres/8\n",
    "q_corner = 9.75e-5/np.sqrt(90/integration_time_hours*number_of_spheres)/noise_floor_factor/electric_field_factor\n",
    "\n",
    "sensitivity = []\n",
    "epsilon_sensitivity = np.logspace(-18.7,0,num=200)\n",
    "for eps_ in epsilon_sensitivity:\n",
    "    if eps_>q_corner:\n",
    "        sensitivity.append(high_limit)\n",
    "    else:\n",
    "        sensitivity.append(q_corner/eps_*high_limit)\n",
    "        \n",
    "from scipy.signal import savgol_filter\n",
    "smoothed_sensitivity = savgol_filter(sensitivity, 21, 3) # window size 51, polynomial order 3"
   ]
  },
  {
   "cell_type": "code",
   "execution_count": 272,
   "metadata": {},
   "outputs": [
    {
     "data": {
      "application/vnd.jupyter.widget-view+json": {
       "model_id": "3e62f75d2c46491bb9dc0675212a8477",
       "version_major": 2,
       "version_minor": 0
      },
      "text/plain": [
       "Canvas(toolbar=Toolbar(toolitems=[('Home', 'Reset original view', 'home', 'home'), ('Back', 'Back to previous …"
      ]
     },
     "metadata": {},
     "output_type": "display_data"
    },
    {
     "name": "stdout",
     "output_type": "stream",
     "text": [
      "mean  2e-05\n",
      "limit  -4.41486558343e-05 8.44962290276e-05\n"
     ]
    }
   ],
   "source": [
    "_,ax = plt.subplots()\n",
    "pl_range = np.arange(-2e-4,1e-4,1e-5)\n",
    "pl = np.array([calculate_pl(pl_range_) for pl_range_ in pl_range])\n",
    "ax.plot(pl_range*100000, pl-np.min(pl), 'o--', label='-2log(likelihood)')\n",
    "ax.plot(pl_range*100000, pl_range*0+2.7, 'r--')\n",
    "ax.set(xlabel=r'$\\epsilon [10^5]$', ylabel='PL',)\n",
    "\n",
    "pl_range_plus = np.arange(0,1e-4,1e-5)\n",
    "pl_plus = np.array([calculate_pl(pl_range_) for pl_range_ in pl_range_plus])\n",
    "ax.plot(pl_range_plus*100000, pl_plus-np.min(pl_plus), 'o--', label='profile likelihood')\n",
    "\n",
    "pl_range_minus = np.arange(-2e-4,pl_range[np.argmin(pl)],1e-5)\n",
    "pl_minus = np.array([calculate_pl(pl_range_) for pl_range_ in pl_range_minus])\n",
    "ax.plot(pl_range_minus*100000, pl_minus-np.min(pl_minus), 'o--', label='profile likelihood')\n",
    "ax.set(xlim=(-15,8), ylim=(-0.1,6))\n",
    "ax.legend()\n",
    "print('mean ', pl_range[np.argmin(pl)])\n",
    "print('limit ', np.interp(2.71, (pl_minus-np.min(pl_minus))[::-1], pl_range_minus[::-1]), np.interp(2.71, pl_plus-np.min(pl_plus), pl_range_plus))"
   ]
  },
  {
   "cell_type": "code",
   "execution_count": null,
   "metadata": {},
   "outputs": [],
   "source": [
    "_,ax = plt.subplots()\n",
    "pl_range_plus = np.arange(0,1e-4,1e-5)\n",
    "pl_plus = np.array([calculate_pl(pl_range_) for pl_range_ in pl_range_plus])\n",
    "ax.plot(pl_range_plus*100000, pl_plus-np.min(pl_plus), 'o--')\n",
    "ax.plot(pl_range_plus*100000, pl_range_plus*0+2.7, 'r--')\n",
    "\n",
    "ax.set(xlabel=r'$\\epsilon [10^5]$', ylabel='PL')\n",
    "pl_range[np.argmin(pl)], np.interp(2.71, pl_plus-np.min(pl_plus), pl_range_plus)"
   ]
  },
  {
   "cell_type": "code",
   "execution_count": null,
   "metadata": {},
   "outputs": [],
   "source": [
    "_,ax = plt.subplots()\n",
    "pl_range_minus = np.arange(-2e-4,pl_range[np.argmin(pl)],1e-5)\n",
    "pl_minus = np.array([calculate_pl(pl_range_) for pl_range_ in pl_range_minus])\n",
    "ax.plot(pl_range_minus*100000, pl_minus-np.min(pl_minus), 'o--')\n",
    "ax.plot(pl_range_minus*100000, pl_range_minus*0+2.7, 'r--')\n",
    "\n",
    "ax.set(xlabel=r'$\\epsilon [10^5]$', ylabel='PL')\n",
    "pl_range[np.argmin(pl)], np.interp(2.71, (pl_minus-np.min(pl_minus))[::-1], pl_range_minus[::-1])"
   ]
  },
  {
   "cell_type": "code",
   "execution_count": null,
   "metadata": {},
   "outputs": [],
   "source": []
  },
  {
   "cell_type": "code",
   "execution_count": null,
   "metadata": {},
   "outputs": [],
   "source": []
  }
 ],
 "metadata": {
  "kernelspec": {
   "display_name": "Python 3",
   "language": "python",
   "name": "python3"
  },
  "language_info": {
   "codemirror_mode": {
    "name": "ipython",
    "version": 3
   },
   "file_extension": ".py",
   "mimetype": "text/x-python",
   "name": "python",
   "nbconvert_exporter": "python",
   "pygments_lexer": "ipython3",
   "version": "3.6.9"
  }
 },
 "nbformat": 4,
 "nbformat_minor": 4
}
