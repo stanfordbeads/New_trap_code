{
 "cells": [
  {
   "cell_type": "code",
   "execution_count": 2,
   "metadata": {},
   "outputs": [],
   "source": [
    "import numpy as np\n",
    "import matplotlib.pyplot as plt\n",
    "import matplotlib\n",
    "from scipy import signal\n",
    "import random\n",
    "\n",
    "import h5py\n",
    "from IPython.utils import io\n",
    "\n",
    "from joblib import Parallel, delayed\n",
    "from tqdm import tqdm\n",
    "import sys"
   ]
  },
  {
   "cell_type": "code",
   "execution_count": 3,
   "metadata": {},
   "outputs": [],
   "source": [
    "%matplotlib widget\n",
    "\n",
    "%reload_ext autoreload\n",
    "%autoreload 2"
   ]
  },
  {
   "cell_type": "code",
   "execution_count": 4,
   "metadata": {},
   "outputs": [],
   "source": [
    "sys.path.append('../../../../nadavp/new_trap/Tools/')\n",
    "sys.path.append('../../../../nadavp/new_trap/Tools/StatFramework/')\n",
    "sys.path.append('../../../../nadavp/opt_lev_analysis/lib/')\n",
    "import BeadDataFile\n",
    "from discharge_tools import *"
   ]
  },
  {
   "cell_type": "code",
   "execution_count": 5,
   "metadata": {},
   "outputs": [],
   "source": [
    "from likelihood_calculator import likelihood_analyser\n",
    "from likelihood_calculator import GravityFramework\n",
    "from likelihood_calculator import auxiliary_functions as aux\n",
    "gfw = GravityFramework.GravityFramework()"
   ]
  },
  {
   "cell_type": "code",
   "execution_count": 6,
   "metadata": {},
   "outputs": [],
   "source": [
    "import bead_util as bu\n",
    "# import calib_util as cal\n",
    "import transfer_func_util as tf\n",
    "import configuration as config"
   ]
  },
  {
   "cell_type": "markdown",
   "metadata": {},
   "source": [
    "### Discharge data"
   ]
  },
  {
   "cell_type": "code",
   "execution_count": 7,
   "metadata": {},
   "outputs": [],
   "source": [
    "ll = likelihood_analyser.LikelihoodAnalyser()\n",
    "bandwidth = 2\n",
    "decimate = 10\n",
    "drive_freq = 41\n",
    "fsamp = 5000\n",
    "def func1_scale(i):\n",
    "    bb = step_file_objs[i]\n",
    "        \n",
    "    freq2 = np.fft.rfftfreq(len(bb.other_data[3]), d=1./5000)\n",
    "    fft_angles = np.angle(np.fft.rfft(bb.other_data[3]))\n",
    "    phi_tmp2 = (fft_angles[freq2==drive_freq]+np.pi/2)%(2*np.pi)-np.pi\n",
    "    print(phi_tmp2,np.std(bb.other_data[3])*np.sqrt(2)*100)\n",
    "\n",
    "    fit_kwargs = {'A': 0, 'f': drive_freq, 'phi': phi_tmp2, \n",
    "                  'error_A': 1, 'error_f': 1, 'error_phi': 0.5, 'errordef': 1,\n",
    "                  'limit_phi': [-2 * np.pi, 2 * np.pi], \n",
    "                  'limit_A': [-10000, 100000], \n",
    "                  'print_level': 0, 'fix_f': True, 'fix_phi': True}\n",
    "\n",
    "    frequency = fit_kwargs['f']\n",
    "\n",
    "    b, a = signal.butter(3, [2.*(drive_freq-bandwidth/2.)/fsamp, 2.*(drive_freq+bandwidth/2.)/fsamp ], btype = 'bandpass')\n",
    "    bb.load_other_data()\n",
    "    xx2 = signal.filtfilt(b, a, bb.pos_data[0])[::decimate]\n",
    "    \n",
    "    m1_tmp = ll.find_mle_sin(xx2, fsamp=5000/decimate, noise_rms=1, plot=False, suppress_print=True, **fit_kwargs)\n",
    "    \n",
    "    return m1_tmp.values[0]"
   ]
  },
  {
   "cell_type": "code",
   "execution_count": 83,
   "metadata": {},
   "outputs": [
    {
     "name": "stdout",
     "output_type": "stream",
     "text": [
      "[-1.89264493] 24.0262631176\n"
     ]
    },
    {
     "data": {
      "text/plain": [
       "-3657.042130034848"
      ]
     },
     "execution_count": 83,
     "metadata": {},
     "output_type": "execute_result"
    }
   ],
   "source": [
    "func1_scale(10)"
   ]
  },
  {
   "cell_type": "code",
   "execution_count": 9,
   "metadata": {},
   "outputs": [],
   "source": [
    "step_cal_dir = r'/data/old_trap/20210817/bead1/discharge/fine_1/'\n",
    "max_file = 500"
   ]
  },
  {
   "cell_type": "code",
   "execution_count": 10,
   "metadata": {},
   "outputs": [
    {
     "name": "stdout",
     "output_type": "stream",
     "text": [
      "300\n"
     ]
    }
   ],
   "source": [
    "step_cal_files = []\n",
    "for root, dirnames, filenames in os.walk(step_cal_dir):\n",
    "    for filename in fnmatch.filter(filenames, '*' + config.extensions['data']):\n",
    "        if '_fpga.h5' in filename:\n",
    "            continue\n",
    "        step_cal_files.append(os.path.join(root, filename))\n",
    "step_cal_files.sort(key = bu.find_str)\n",
    "num_calib_files = len(step_cal_files)\n",
    "print(num_calib_files)\n",
    "\n",
    "# Do the step calibration\n",
    "step_file_objs = []\n",
    "for filname in step_cal_files[:]:\n",
    "    try:\n",
    "        df = bu.DataFile();\n",
    "        df.load(filname);\n",
    "        df.load_other_data()\n",
    "        step_file_objs.append(df);\n",
    "    except:\n",
    "        print('***')"
   ]
  },
  {
   "cell_type": "code",
   "execution_count": 11,
   "metadata": {
    "scrolled": true
   },
   "outputs": [
    {
     "name": "stdout",
     "output_type": "stream",
     "text": [
      "0 / 300\n",
      "[-0.60509303] 24.0268284488\n",
      "1 / 300\n",
      "[-1.97018171] 24.0258462597\n",
      "2 / 300\n",
      "[ 1.32294525] 24.0264151855\n",
      "3 / 300\n",
      "[-0.92086316] 24.0256858327\n",
      "4 / 300\n",
      "[ 2.16555817] 24.0262134139\n",
      "5 / 300\n",
      "[-0.11888944] 24.0275651412\n",
      "6 / 300\n",
      "[ 2.43774817] 24.0263285792\n",
      "7 / 300\n",
      "[ 2.18150927] 24.0263144095\n",
      "8 / 300\n",
      "[ 2.57000788] 24.0262537439\n",
      "9 / 300\n",
      "[-2.65322591] 24.0272945044\n",
      "10 / 300\n",
      "[-1.89264493] 24.0262631176\n",
      "11 / 300\n",
      "[-0.05591866] 24.0275110423\n",
      "12 / 300\n",
      "[-2.63906279] 24.0270580638\n",
      "13 / 300\n",
      "[-2.7720774] 24.0272203984\n",
      "14 / 300\n",
      "[-1.68812127] 24.0255276123\n",
      "15 / 300\n",
      "[ 1.02055733] 24.0259718098\n",
      "16 / 300\n",
      "[-1.14197007] 24.0265288374\n",
      "17 / 300\n",
      "[ 0.71231109] 24.026587446\n",
      "18 / 300\n",
      "[ 1.9686756] 24.0260193347\n",
      "19 / 300\n",
      "[-0.35913874] 24.0266087004\n",
      "20 / 300\n",
      "[-0.05165491] 24.0278532586\n",
      "21 / 300\n",
      "[-1.15360738] 24.0256664962\n",
      "22 / 300\n",
      "[ 1.60404897] 24.0248316228\n",
      "23 / 300\n",
      "[-1.90220695] 24.0248234093\n",
      "24 / 300\n",
      "[-0.88655228] 24.0262776561\n",
      "25 / 300\n",
      "[-2.75051858] 24.0277409329\n",
      "26 / 300\n",
      "[-0.16167475] 24.0271405363\n",
      "27 / 300\n",
      "[ 2.65383679] 24.0275653972\n",
      "28 / 300\n",
      "[-2.32080195] 24.0260692187\n",
      "29 / 300\n",
      "[ 1.88940023] 24.0251553126\n",
      "30 / 300\n",
      "[ 0.06112836] 24.0267529339\n",
      "31 / 300\n",
      "[-2.61558145] 24.0270441881\n",
      "32 / 300\n",
      "[-1.97620389] 24.0255059232\n",
      "33 / 300\n",
      "[-0.95164524] 24.0262584493\n",
      "34 / 300\n",
      "[-2.4134134] 24.0262402279\n",
      "35 / 300\n",
      "[ 1.28041636] 24.0251930345\n",
      "36 / 300\n",
      "[ 0.69910636] 24.0269567071\n",
      "37 / 300\n",
      "[-2.82577382] 24.0270025012\n",
      "38 / 300\n",
      "[ 2.5173641] 24.0267122318\n",
      "39 / 300\n",
      "[-2.60196319] 24.026996396\n",
      "40 / 300\n",
      "[-0.09497931] 24.026822485\n",
      "41 / 300\n",
      "[ 0.09920517] 24.0270003676\n",
      "42 / 300\n",
      "[-1.35601544] 24.02519148\n",
      "43 / 300\n",
      "[ 2.80403509] 24.0276446118\n",
      "44 / 300\n",
      "[-0.25027953] 24.0273590366\n",
      "45 / 300\n",
      "[ 1.17048117] 24.0256174278\n",
      "46 / 300\n",
      "[-2.15944383] 24.0258262876\n",
      "47 / 300\n",
      "[ 0.8974713] 24.0259249203\n",
      "48 / 300\n",
      "[-1.74663844] 24.0242876261\n",
      "49 / 300\n",
      "[-0.88695344] 24.0259913961\n",
      "50 / 300\n",
      "[-2.75737201] 24.0266818088\n",
      "51 / 300\n",
      "[ 2.12102546] 24.024993676\n",
      "52 / 300\n",
      "[-0.97478498] 24.0248863756\n",
      "53 / 300\n",
      "[ 0.81969015] 24.0255274248\n",
      "54 / 300\n",
      "[-2.06557572] 24.0250370053\n",
      "55 / 300\n",
      "[ 0.94642015] 24.0260376404\n",
      "56 / 300\n",
      "[ 0.26055704] 24.0276977309\n",
      "57 / 300\n",
      "[-0.93461539] 24.0257786426\n",
      "58 / 300\n",
      "[-1.7096368] 24.0249209611\n",
      "59 / 300\n",
      "[-2.96215749] 24.0269564305\n",
      "60 / 300\n",
      "[-1.49969286] 24.0239131474\n",
      "61 / 300\n",
      "[-1.70758693] 24.0247097965\n",
      "62 / 300\n",
      "[ 0.6115426] 24.0262022473\n",
      "63 / 300\n",
      "[-1.62084033] 24.0253830087\n",
      "64 / 300\n",
      "[-2.29303637] 24.0258330059\n",
      "65 / 300\n",
      "[-2.47087956] 24.0265588794\n",
      "66 / 300\n",
      "[-1.14916117] 24.0249363762\n",
      "67 / 300\n",
      "[ 2.610161] 24.0259491528\n",
      "68 / 300\n",
      "[-0.66238015] 24.0256467661\n",
      "69 / 300\n",
      "[ 2.71987752] 24.0258670319\n",
      "70 / 300\n",
      "[ 1.47006499] 24.024108675\n",
      "71 / 300\n",
      "[-0.08056932] 24.0254284021\n",
      "72 / 300\n",
      "[ 1.65224513] 24.0239465285\n",
      "73 / 300\n",
      "[ 1.16632247] 24.0250155631\n",
      "74 / 300\n",
      "[-0.52771985] 24.0252678963\n",
      "75 / 300\n",
      "[ 1.28309214] 24.0252959395\n",
      "76 / 300\n",
      "[ 2.85878661] 24.0261980422\n",
      "77 / 300\n",
      "[-1.641465] 24.0227611804\n",
      "78 / 300\n",
      "[ 0.30597308] 24.0250925854\n",
      "79 / 300\n",
      "[-1.92186987] 24.023711266\n",
      "80 / 300\n",
      "[-2.35072646] 24.0254285913\n",
      "81 / 300\n",
      "[ 2.0213819] 24.0245661017\n",
      "82 / 300\n",
      "[-0.343878] 24.0259386677\n",
      "83 / 300\n",
      "[ 2.52370229] 24.0244739264\n",
      "84 / 300\n",
      "[ 2.86108236] 24.0272453797\n",
      "85 / 300\n",
      "[-2.71709566] 24.0255000437\n",
      "86 / 300\n",
      "[-0.48649166] 24.0254708031\n",
      "87 / 300\n",
      "[-1.86859709] 24.0238254013\n",
      "88 / 300\n",
      "[-1.06863892] 24.0242541007\n",
      "89 / 300\n",
      "[-0.31774804] 24.0258319077\n",
      "90 / 300\n",
      "[-1.36088753] 24.02364784\n",
      "91 / 300\n",
      "[-1.93405605] 24.0236939748\n",
      "92 / 300\n",
      "[ 0.35766667] 24.02601005\n",
      "93 / 300\n",
      "[-0.57475592] 24.0250092041\n",
      "94 / 300\n",
      "[ 0.80849695] 24.0253236753\n",
      "95 / 300\n",
      "[ 1.51532445] 24.0234461451\n",
      "96 / 300\n",
      "[ 2.13025961] 24.0247192147\n",
      "97 / 300\n",
      "[ 2.7416206] 24.0254455949\n",
      "98 / 300\n",
      "[-2.95693587] 24.026240937\n",
      "99 / 300\n",
      "[ 3.02022411] 24.0260596452\n",
      "100 / 300\n",
      "[-0.80692162] 24.0245822546\n",
      "101 / 300\n",
      "[ 1.01909113] 24.0244710537\n",
      "102 / 300\n",
      "[ 2.71500603] 24.0253729127\n",
      "103 / 300\n",
      "[ 2.08494622] 24.0243323018\n",
      "104 / 300\n",
      "[-1.40626675] 24.0241524444\n",
      "105 / 300\n",
      "[-2.63093587] 24.0249895981\n",
      "106 / 300\n",
      "[ 1.99583492] 24.0236754575\n",
      "107 / 300\n",
      "[ 0.31773005] 24.0253245241\n",
      "108 / 300\n",
      "[-2.16691393] 24.0246215319\n",
      "109 / 300\n",
      "[-2.8100289] 24.0253131873\n",
      "110 / 300\n",
      "[ 0.5787072] 24.0252070476\n",
      "111 / 300\n",
      "[-2.92918618] 24.0268329841\n",
      "112 / 300\n",
      "[-0.84812328] 24.0250486034\n",
      "113 / 300\n",
      "[-0.9015285] 24.0250679206\n",
      "114 / 300\n",
      "[ 1.28728772] 24.0247222594\n",
      "115 / 300\n",
      "[ 1.03062473] 24.0241178795\n",
      "116 / 300\n",
      "[ 1.28173394] 24.0236225034\n",
      "117 / 300\n",
      "[-1.17535713] 24.0244577846\n",
      "118 / 300\n",
      "[-0.72414708] 24.0250707027\n",
      "119 / 300\n",
      "[ 1.06707623] 24.0245527177\n",
      "120 / 300\n",
      "[-2.499324] 24.0249819228\n",
      "121 / 300\n",
      "[ 1.14216627] 24.0244967832\n",
      "122 / 300\n",
      "[ 2.06969604] 24.0246420498\n",
      "123 / 300\n",
      "[-0.47610622] 24.0256031961\n",
      "124 / 300\n",
      "[-2.1354222] 24.0243271145\n",
      "125 / 300\n",
      "[-2.39897784] 24.0252358432\n",
      "126 / 300\n",
      "[ 2.31650476] 24.0248712155\n",
      "127 / 300\n",
      "[-1.60680014] 24.0250165685\n",
      "128 / 300\n",
      "[ 2.988561] 24.0265827796\n",
      "129 / 300\n",
      "[ 2.17224808] 24.0244513827\n",
      "130 / 300\n",
      "[ 0.52305988] 24.0251442882\n",
      "131 / 300\n",
      "[ 2.4487161] 24.0253944809\n",
      "132 / 300\n",
      "[-0.18651971] 24.0264919816\n",
      "133 / 300\n",
      "[ 2.63483785] 24.0258580758\n",
      "134 / 300\n",
      "[-1.8766655] 24.0242287433\n",
      "135 / 300\n",
      "[ 1.76434007] 24.0248077346\n",
      "136 / 300\n",
      "[ 2.78770725] 24.0256533419\n",
      "137 / 300\n",
      "[ 3.01546536] 24.0264621581\n",
      "138 / 300\n",
      "[-2.09538621] 24.0251114224\n",
      "139 / 300\n",
      "[-2.25427077] 24.0259051694\n",
      "140 / 300\n",
      "[-0.21769626] 24.0258488413\n",
      "141 / 300\n",
      "[ 1.97903772] 24.0248816555\n",
      "142 / 300\n",
      "[ 1.9668603] 24.0246604127\n",
      "143 / 300\n",
      "[ 1.26798512] 24.0251664418\n",
      "144 / 300\n",
      "[-2.18292278] 24.025153672\n",
      "145 / 300\n",
      "[-0.59924781] 24.0257615075\n",
      "146 / 300\n",
      "[-0.83377996] 24.0248321059\n",
      "147 / 300\n",
      "[-1.42309409] 24.0249297157\n",
      "148 / 300\n",
      "[-2.93173373] 24.0262581468\n",
      "149 / 300\n",
      "[ 2.16377056] 24.0240990739\n",
      "150 / 300\n",
      "[ 0.59520459] 24.0258435135\n",
      "151 / 300\n",
      "[-0.60713183] 24.0254599684\n",
      "152 / 300\n",
      "[ 1.73824743] 24.0245196749\n",
      "153 / 300\n",
      "[-2.90273245] 24.0265338794\n",
      "154 / 300\n",
      "[-1.48854411] 24.0250106259\n",
      "155 / 300\n",
      "[ 1.35467776] 24.0244803243\n",
      "156 / 300\n",
      "[-1.34311158] 24.0247058441\n",
      "157 / 300\n",
      "[ 0.23497536] 24.0262023346\n",
      "158 / 300\n",
      "[ 0.39881194] 24.0271163321\n",
      "159 / 300\n",
      "[-1.78758484] 24.0249683689\n",
      "160 / 300\n",
      "[-0.9132545] 24.0250510291\n",
      "161 / 300\n",
      "[-0.06716891] 24.0264637933\n",
      "162 / 300\n",
      "[-0.5384575] 24.0268037116\n",
      "163 / 300\n",
      "[ 0.42529655] 24.0260969144\n",
      "164 / 300\n",
      "[ 1.53482995] 24.0244257844\n",
      "165 / 300\n",
      "[-0.98890495] 24.0251606023\n",
      "166 / 300\n",
      "[ 2.38891767] 24.0260990325\n",
      "167 / 300\n",
      "[ 0.51236311] 24.026600335\n",
      "168 / 300\n",
      "[-1.08293463] 24.0247788298\n",
      "169 / 300\n",
      "[-0.44552653] 24.0262941221\n",
      "170 / 300\n",
      "[ 1.18369528] 24.0245214338\n",
      "171 / 300\n",
      "[-2.12330871] 24.0255651282\n",
      "172 / 300\n",
      "[ 2.74775905] 24.0264677132\n",
      "173 / 300\n",
      "[-0.81239614] 24.0257732559\n",
      "174 / 300\n",
      "[ 0.24279884] 24.0272039948\n",
      "175 / 300\n",
      "[ 1.46765636] 24.0250926458\n",
      "176 / 300\n",
      "[ 1.03766899] 24.0252443922\n",
      "177 / 300\n",
      "[ 2.57297634] 24.0260887039\n",
      "178 / 300\n",
      "[-1.92861501] 24.0250645452\n",
      "179 / 300\n",
      "[ 1.9225467] 24.0253434843\n",
      "180 / 300\n",
      "[ 2.86896737] 24.0262424535\n",
      "181 / 300\n",
      "[ 2.87162009] 24.0274928198\n",
      "182 / 300\n",
      "[-1.77260737] 24.0252632116\n",
      "183 / 300\n",
      "[ 0.93009687] 24.0253361934\n",
      "184 / 300\n",
      "[-1.38488766] 24.0248145079\n",
      "185 / 300\n",
      "[ 2.33508615] 24.0254196364\n",
      "186 / 300\n",
      "[ 0.57209765] 24.0271973113\n",
      "187 / 300\n",
      "[-1.39382396] 24.024171919\n",
      "188 / 300\n",
      "[ 2.41751015] 24.0256004378\n",
      "189 / 300\n",
      "[ 0.12100897] 24.0266831614\n",
      "190 / 300\n",
      "[-1.57927885] 24.0250322546\n",
      "191 / 300\n",
      "[ 2.49156464] 24.0255040155\n",
      "192 / 300\n",
      "[-0.74088511] 24.0261199685\n",
      "193 / 300\n",
      "[ 0.77316975] 24.0257448915\n",
      "194 / 300\n",
      "[-1.51404274] 24.0242000586\n",
      "195 / 300\n",
      "[ 2.85848631] 24.0276705135\n",
      "196 / 300\n",
      "[-2.19827314] 24.0250359856\n",
      "197 / 300\n",
      "[-2.10081776] 24.0248260525\n",
      "198 / 300\n",
      "[-2.79619884] 24.0259063405\n",
      "199 / 300\n",
      "[ 1.83790142] 24.0253655885\n",
      "200 / 300\n",
      "[-0.44086664] 24.0260845737\n",
      "201 / 300\n",
      "[-1.26935148] 24.0253445414\n",
      "202 / 300\n",
      "[-1.59575569] 24.0253743501\n",
      "203 / 300\n",
      "[ 2.30713709] 24.0257791663\n",
      "204 / 300\n",
      "[ 0.60193467] 24.0262408718\n",
      "205 / 300\n",
      "[-1.93168894] 24.0251883356\n",
      "206 / 300\n",
      "[-0.92387609] 24.0270126167\n",
      "207 / 300\n",
      "[ 1.18698915] 24.025198808\n",
      "208 / 300\n",
      "[ 2.9761333] 24.0269918372\n",
      "209 / 300\n",
      "[ 1.18437482] 24.025148175\n",
      "210 / 300\n",
      "[ 2.44571072] 24.0260196212\n",
      "211 / 300\n",
      "[-2.772571] 24.0275080507\n",
      "212 / 300\n",
      "[ 1.24445664] 24.0250717257\n",
      "213 / 300\n",
      "[-2.62743213] 24.0262421125\n",
      "214 / 300\n",
      "[ 1.17256017] 24.0257174666\n",
      "215 / 300\n",
      "[ 2.03502472] 24.0250573381\n",
      "216 / 300\n",
      "[ 0.68636971] 24.0261810998\n",
      "217 / 300\n",
      "[-2.20161552] 24.0255993406\n",
      "218 / 300\n",
      "[ 0.20221878] 24.0268782823\n",
      "219 / 300\n",
      "[ 0.41078432] 24.0258451594\n"
     ]
    },
    {
     "name": "stdout",
     "output_type": "stream",
     "text": [
      "220 / 300\n",
      "[ 1.53286748] 24.0251610163\n",
      "221 / 300\n",
      "[-0.43482137] 24.0264589807\n",
      "222 / 300\n",
      "[ 0.83015907] 24.0256057824\n",
      "223 / 300\n",
      "[-2.82526347] 24.0267040499\n",
      "224 / 300\n",
      "[ 1.33734026] 24.0253047223\n",
      "225 / 300\n",
      "[-1.81867394] 24.0248549255\n",
      "226 / 300\n",
      "[-0.13861068] 24.0274818247\n",
      "227 / 300\n",
      "[ 2.26381245] 24.0251350369\n",
      "228 / 300\n",
      "[ 1.79603171] 24.0259036646\n",
      "229 / 300\n",
      "[ 2.13278868] 24.025525942\n",
      "230 / 300\n",
      "[ 2.44109451] 24.0260580299\n",
      "231 / 300\n",
      "[-1.83042926] 24.0254894292\n",
      "232 / 300\n",
      "[-1.79782294] 24.0248904336\n",
      "233 / 300\n",
      "[ 0.45851657] 24.0269507734\n",
      "234 / 300\n",
      "[ 2.200779] 24.0254670489\n",
      "235 / 300\n",
      "[ 1.10316021] 24.0259624432\n",
      "236 / 300\n",
      "[-1.9972133] 24.02593722\n",
      "237 / 300\n",
      "[-1.85900951] 24.0253395346\n",
      "238 / 300\n",
      "[-0.22726922] 24.0271812556\n",
      "239 / 300\n",
      "[-1.26537875] 24.0252643712\n",
      "240 / 300\n",
      "[ 0.15975483] 24.0267117901\n",
      "241 / 300\n",
      "[-0.87625877] 24.0259118757\n",
      "242 / 300\n",
      "[-1.97259223] 24.0249853079\n",
      "243 / 300\n",
      "[-1.92919852] 24.0251893327\n",
      "244 / 300\n",
      "[ 2.83470744] 24.0266076837\n",
      "245 / 300\n",
      "[ 2.77864117] 24.026844581\n",
      "246 / 300\n",
      "[-2.93921783] 24.0287229411\n",
      "247 / 300\n",
      "[ 1.38190797] 24.0254198865\n",
      "248 / 300\n",
      "[ 2.75594045] 24.027313831\n",
      "249 / 300\n",
      "[-2.93304564] 24.0269457921\n",
      "250 / 300\n",
      "[ 2.62947687] 24.0264718375\n",
      "251 / 300\n",
      "[ 1.68579679] 24.024949758\n",
      "252 / 300\n",
      "[ 0.70369303] 24.0262314817\n",
      "253 / 300\n",
      "[-0.4665761] 24.0266256856\n",
      "254 / 300\n",
      "[ 1.5025772] 24.0256657519\n",
      "255 / 300\n",
      "[ 2.16025798] 24.0260341877\n",
      "256 / 300\n",
      "[-1.20912023] 24.0260865995\n",
      "257 / 300\n",
      "[ 0.79389558] 24.026781748\n",
      "258 / 300\n",
      "[ 2.2258802] 24.0258208131\n",
      "259 / 300\n",
      "[ 1.90470148] 24.0259798959\n",
      "260 / 300\n",
      "[ 1.5874518] 24.0253802492\n",
      "261 / 300\n",
      "[-1.87448224] 24.0259803792\n",
      "262 / 300\n",
      "[-2.56072016] 24.0269148447\n",
      "263 / 300\n",
      "[-2.36099822] 24.0257115931\n",
      "264 / 300\n",
      "[-2.41838554] 24.0270444824\n",
      "265 / 300\n",
      "[-1.09261541] 24.0257745422\n",
      "266 / 300\n",
      "[ 0.4597777] 24.0270480199\n",
      "267 / 300\n",
      "[ 2.97729324] 24.0276162619\n",
      "268 / 300\n",
      "[-1.5160101] 24.0249237712\n",
      "269 / 300\n",
      "[ 2.01802736] 24.0260760912\n",
      "270 / 300\n",
      "[-2.16533504] 24.0257943548\n",
      "271 / 300\n",
      "[-1.96014498] 24.0254809519\n",
      "272 / 300\n",
      "[ 2.35083539] 24.0258174538\n",
      "273 / 300\n",
      "[-1.16137291] 24.0256035859\n",
      "274 / 300\n",
      "[-1.74155223] 24.025002053\n",
      "275 / 300\n",
      "[-1.09238927] 24.0247376291\n",
      "276 / 300\n",
      "[-1.94963931] 24.0259330941\n",
      "277 / 300\n",
      "[ 1.47829058] 24.0250154574\n",
      "278 / 300\n",
      "[-2.77003622] 24.0262328757\n",
      "279 / 300\n",
      "[ 3.04488428] 24.0270401369\n",
      "280 / 300\n",
      "[ 1.66592971] 24.0252019523\n",
      "281 / 300\n",
      "[-2.24451793] 24.0264149923\n",
      "282 / 300\n",
      "[ 1.40961449] 24.025151895\n",
      "283 / 300\n",
      "[-0.60699717] 24.0261139609\n",
      "284 / 300\n",
      "[ 2.6808591] 24.0261198325\n",
      "285 / 300\n",
      "[-1.29626555] 24.0246692411\n",
      "286 / 300\n",
      "[-1.00105148] 24.0252253521\n",
      "287 / 300\n",
      "[ 0.44209369] 24.0279165796\n",
      "288 / 300\n",
      "[-0.08736521] 24.026756693\n",
      "289 / 300\n",
      "[ 1.4996878] 24.0251710514\n",
      "290 / 300\n",
      "[ 2.21622981] 24.0256175588\n",
      "291 / 300\n",
      "[ 0.24998212] 24.0272414982\n",
      "292 / 300\n",
      "[-1.45850069] 24.0249522636\n",
      "293 / 300\n",
      "[-2.55468086] 24.0262455577\n",
      "294 / 300\n",
      "[-0.14499842] 24.0265117216\n",
      "295 / 300\n",
      "[-0.21205491] 24.0271422753\n",
      "296 / 300\n",
      "[-1.45172116] 24.0243185466\n",
      "297 / 300\n",
      "[ 1.88214227] 24.0249768023\n",
      "298 / 300\n",
      "[-2.27182077] 24.0245127035\n",
      "299 / 300\n",
      "[ 0.83489436] 24.0253496099\n"
     ]
    }
   ],
   "source": [
    "amps3 = []\n",
    "for i in range(num_calib_files):\n",
    "    print(i,'/',len(step_cal_files))\n",
    "    amps3.append(func1_scale(i))"
   ]
  },
  {
   "cell_type": "code",
   "execution_count": 14,
   "metadata": {},
   "outputs": [
    {
     "data": {
      "application/vnd.jupyter.widget-view+json": {
       "model_id": "016cbf90ea204f12acc7a742c89ea69d",
       "version_major": 2,
       "version_minor": 0
      },
      "text/plain": [
       "Canvas(toolbar=Toolbar(toolitems=[('Home', 'Reset original view', 'home', 'home'), ('Back', 'Back to previous …"
      ]
     },
     "metadata": {},
     "output_type": "display_data"
    }
   ],
   "source": [
    "# amps = np.array(amps)\n",
    "amps3 = np.array(amps3)\n",
    "_,ax = plt.subplots(figsize=(9.5,4))\n",
    "# scale = 375\n",
    "\n",
    "# Perrinf\n",
    "ax.scatter(range(len(amps3)), amps3/scale, label='fit phase')\n",
    "# ax.scatter(range(len(amps3)), amps3/scale, label='fit fixed-phases')\n",
    "\n",
    "ax.set(xlabel='dataset', ylabel='electron charges', ylim=(-0.1,12), xlim=(5,None))\n",
    "ax.grid(axis='y')\n",
    "ax.minorticks_on()\n",
    "ax.grid(which='major', linestyle='-', linewidth='0.5', color='red')\n",
    "ax.grid(which='minor', linestyle=':', linewidth='0.5', color='black')\n",
    "# ax.legend()\n",
    "from matplotlib.ticker import MaxNLocator\n",
    "ax.yaxis.set_major_locator(MaxNLocator(integer=True))"
   ]
  },
  {
   "cell_type": "code",
   "execution_count": 13,
   "metadata": {},
   "outputs": [
    {
     "name": "stdout",
     "output_type": "stream",
     "text": [
      "Scale is  -245.761425313\n",
      "voltage:  24.0253496099\n"
     ]
    }
   ],
   "source": [
    "scale = -1*np.abs(np.mean(amps3[200:250]))/2\n",
    "print(\"Scale is \", scale)\n",
    "bb = step_file_objs[-1]\n",
    "voltage = np.std(bb.other_data[3])*np.sqrt(2)*100\n",
    "print(\"voltage: \", voltage)"
   ]
  },
  {
   "cell_type": "code",
   "execution_count": 99,
   "metadata": {},
   "outputs": [],
   "source": [
    "ll = likelihood_analyser.LikelihoodAnalyser()\n",
    "bandwidth = 2\n",
    "decimate = 10\n",
    "drive_freq = 41\n",
    "def get_amp2(i):\n",
    "    \n",
    "    fname = r'/data/old_trap/20210817/bead1/discharge/response_electrode6_41Hz_50V/y_electrode6_50Vpp_41Hz_'+str(i)+'.h5'\n",
    "\n",
    "    bb = bu.DataFile();\n",
    "    bb.load(fname);\n",
    "    bb.load_other_data()\n",
    "    \n",
    "    fit_kwargs = {'A': 0, 'f': drive_freq, 'phi': 0, \n",
    "                  'error_A': 1, 'error_f': 10, 'error_phi': 0.5, 'errordef': 1,\n",
    "                  'limit_phi': [-2 * np.pi, 2 * np.pi], \n",
    "                  'limit_A': [0, 10000], 'limit_f': [0, 100],\n",
    "                  'print_level': 0, 'fix_f': True, 'fix_phi': False}\n",
    "\n",
    "    frequency = fit_kwargs['f']\n",
    "\n",
    "    b, a = signal.butter(3, [2.*(drive_freq-bandwidth/2.)/fsamp, 2.*(drive_freq+bandwidth/2.)/fsamp ], btype = 'bandpass')\n",
    "    xx2 = signal.filtfilt(b, a, bb.other_data[6])[::decimate]\n",
    "    m1_tmp = ll.find_mle_sin(xx2, fsamp=5000/decimate, noise_rms=1, plot=False, suppress_print=True, **fit_kwargs)\n",
    "    \n",
    "#     freq2 = np.fft.rfftfreq(len(bb.other_data[6]), d=1./5000)\n",
    "#     fft_angles = np.angle(np.fft.rfft(bb.other_data[6]))\n",
    "\n",
    "    phi_tmp = m1_tmp.values[2]\n",
    "#     phi_tmp2 = (fft_angles[freq2==drive_freq]+np.pi/2)%(2*np.pi)\n",
    "    print(phi_tmp, m1_tmp.values[0]*100)\n",
    "    \n",
    "    fit_kwargs = {'A': 0, 'f': drive_freq, 'phi': phi_tmp, \n",
    "                  'error_A': 1, 'error_f': 1, 'error_phi': 0.5, 'errordef': 1,\n",
    "                  'limit_phi': [-2 * np.pi, 2 * np.pi], \n",
    "                  'limit_A': [-100000, 100000], \n",
    "                  'print_level': 0, 'fix_f': True, 'fix_phi': False}\n",
    "\n",
    "    xx2 = signal.filtfilt(b, a, bb.pos_data[1])[::decimate]\n",
    "    \n",
    "    m1_tmp = ll.find_mle_sin(xx2, fsamp=5000/decimate, noise_rms=1, plot=False, suppress_print=True, **fit_kwargs)\n",
    "    \n",
    "    return m1_tmp.values[0]"
   ]
  },
  {
   "cell_type": "code",
   "execution_count": 101,
   "metadata": {},
   "outputs": [
    {
     "name": "stdout",
     "output_type": "stream",
     "text": [
      "1.8371621193064502 0.0019247505256281272\n"
     ]
    },
    {
     "data": {
      "text/plain": [
       "-19.07643986205221"
      ]
     },
     "execution_count": 101,
     "metadata": {},
     "output_type": "execute_result"
    }
   ],
   "source": [
    "i=0\n",
    "get_amp2(i)"
   ]
  },
  {
   "cell_type": "code",
   "execution_count": 89,
   "metadata": {
    "scrolled": true
   },
   "outputs": [
    {
     "name": "stdout",
     "output_type": "stream",
     "text": [
      "0 /20\n",
      "2.2624597301783584 0.0018430605930319643\n",
      "1 /20\n",
      "2.091274835972479 0.001943517291547181\n",
      "2 /20\n",
      "-0.18344526200203592 0.0019588708988216297\n",
      "3 /20\n",
      "3.3078385541100204 0.0019950590068873453\n",
      "4 /20\n",
      "-1.4150070502814085 0.001999924836848521\n",
      "5 /20\n",
      "-1.6463525127471739 0.0020120159982539576\n",
      "6 /20\n",
      "2.635149412057153 0.0018437735782583786\n",
      "7 /20\n",
      "-3.8273011965490866 0.0016930511437251994\n",
      "8 /20\n",
      "0.35164270680282605 0.0019967768549733478\n",
      "9 /20\n",
      "0.647150232057915 0.0019674503692890255\n",
      "10 /20\n",
      "0.17586295841029997 0.0019467317757815294\n",
      "11 /20\n",
      "-6.280886274891358 0.020184307503168242\n",
      "12 /20\n",
      "0.5376345399919442 0.0019509382442883805\n",
      "13 /20\n",
      "2.080224090873317 0.001957290329812622\n",
      "14 /20\n",
      "-1.6988046652447517 0.0018456617900675099\n",
      "15 /20\n",
      "2.9926664955846984 0.0018210537522378445\n",
      "16 /20\n",
      "2.9387131113952734 0.002114460440072463\n",
      "17 /20\n",
      "0.1733643797407174 0.0019758457092677872\n",
      "18 /20\n",
      "3.074268469721538 0.0017413083752693126\n",
      "19 /20\n",
      "-0.25550902468302095 0.0020134809930461017\n"
     ]
    }
   ],
   "source": [
    "amps_elec5 = []\n",
    "for i in range(20):\n",
    "    print(i,'/20')\n",
    "    try:\n",
    "        amps_elec5.append(get_amp2(i))\n",
    "    except:\n",
    "        print(\"******\")\n",
    "amps_elec5 = np.array(amps_elec5)"
   ]
  },
  {
   "cell_type": "code",
   "execution_count": 183,
   "metadata": {},
   "outputs": [
    {
     "name": "stdout",
     "output_type": "stream",
     "text": [
      "electrodes response - x:  3771.36273158 -3328.83483844 -1.13293777391\n",
      "electrodes response - z:  4931.41581757 -6129.84939733 -0.80449216578\n"
     ]
    }
   ],
   "source": [
    "response_elec3 = np.mean(amps_elec3)\n",
    "response_elec4 = np.mean(amps_elec4)\n",
    "print('electrodes response - x: ', response_elec3, response_elec4, response_elec3/response_elec4)\n",
    "\n",
    "response_elec5 = np.mean(amps_elec5)\n",
    "# response_elec6 = np.mean(amps_elec6)\n",
    "# print('electrodes response - y: ', response_elec5, response_elec6, response_elec5/response_elec6)\n",
    "\n",
    "response_elec1 = np.mean(amps_elec1)\n",
    "response_elec2 = np.mean(amps_elec2)\n",
    "print('electrodes response - z: ', response_elec1, response_elec2, response_elec1/response_elec2)\n",
    "\n",
    "# print('2nd harmonic: ', np.mean(amps_y_82Hz), scaleY)\n",
    "# response_elec5"
   ]
  },
  {
   "cell_type": "code",
   "execution_count": 174,
   "metadata": {},
   "outputs": [
    {
     "name": "stdout",
     "output_type": "stream",
     "text": [
      "-245.761425313 -382.86713548\n"
     ]
    }
   ],
   "source": [
    "# scaleY = scale*(response_elec4-response_elec5)/(response_elec2-response_elec3)\n",
    "scaleZ = scale*(response_elec1-response_elec2)/(response_elec3-response_elec4)\n",
    "print(scale, scaleZ)"
   ]
  },
  {
   "cell_type": "code",
   "execution_count": 175,
   "metadata": {},
   "outputs": [],
   "source": [
    "scale, scaleZ = (-245.761425313, -382.86713548)"
   ]
  },
  {
   "cell_type": "code",
   "execution_count": 188,
   "metadata": {},
   "outputs": [
    {
     "data": {
      "application/vnd.jupyter.widget-view+json": {
       "model_id": "a7a3430e51a14d73a65434192a102dc1",
       "version_major": 2,
       "version_minor": 0
      },
      "text/plain": [
       "Canvas(toolbar=Toolbar(toolitems=[('Home', 'Reset original view', 'home', 'home'), ('Back', 'Back to previous …"
      ]
     },
     "metadata": {},
     "output_type": "display_data"
    },
    {
     "name": "stdout",
     "output_type": "stream",
     "text": [
      "4278.67333736 9.74884202318\n",
      "4134.20916265 14.8038215541\n",
      "1.03494360566 0.00439255803019\n"
     ]
    }
   ],
   "source": [
    "_,ax = plt.subplots()\n",
    "ax.scatter(range(20), np.abs(amps_elec4))\n",
    "ax.scatter(range(20), np.abs(amps_elec5))\n",
    "x = np.mean(np.abs(amps_elec4)); dx = np.std(np.abs(amps_elec4))/np.sqrt(20)\n",
    "y = np.mean(np.abs(amps_elec5)); dy = np.std(np.abs(amps_elec5))/np.sqrt(20)\n",
    "z = x/y; dz = np.abs(x/y)*np.sqrt((dx/x)**2+(dy/y)**2)\n",
    "print(x, dx)\n",
    "print(y, dy)\n",
    "print(z, dz)"
   ]
  },
  {
   "cell_type": "markdown",
   "metadata": {},
   "source": [
    "### Look at neutrality data"
   ]
  },
  {
   "cell_type": "code",
   "execution_count": 69,
   "metadata": {},
   "outputs": [],
   "source": [
    "ll = likelihood_analyser.LikelihoodAnalyser()\n",
    "bandwidth = 2\n",
    "decimate = 10\n",
    "drive_freq = 41\n",
    "def get_amp(i):\n",
    "    \n",
    "    fname = r'/data/old_trap/20210817/bead1/neutrality/height_fb_0_3_x_41Hz_100Vpp_delay_10s__spin_xz_50V_50kHz_files_4000/x_neutrality_50V_41Hz_'+str(i)+'.h5'\n",
    "    \n",
    "    drive_freq = 41\n",
    "    bb = bu.DataFile();\n",
    "    bb.load(fname);\n",
    "    bb.load_other_data()\n",
    "    \n",
    "    fit_kwargs = {'A': 0, 'f': drive_freq, 'phi': 0, \n",
    "                  'error_A': 1, 'error_f': 10, 'error_phi': 0.5, 'errordef': 1,\n",
    "                  'limit_phi': [-2 * np.pi, 2 * np.pi], \n",
    "                  'limit_A': [0, 10000], 'limit_f': [0, 100], \n",
    "                  'print_level': 0, 'fix_f': True, 'fix_phi': False}\n",
    "\n",
    "    frequency = fit_kwargs['f']\n",
    "\n",
    "    b, a = signal.butter(3, [2.*(drive_freq-bandwidth/2.)/fsamp, 2.*(drive_freq+bandwidth/2.)/fsamp ], btype = 'bandpass')\n",
    "    xx2 = signal.filtfilt(b, a, bb.other_data[3])[::decimate]\n",
    "    m1_tmp = ll.find_mle_sin(xx2, fsamp=5000/decimate, noise_rms=1, plot=False, suppress_print=True, **fit_kwargs)\n",
    "    \n",
    "#     freq2 = np.fft.rfftfreq(len(bb.other_data[3]), d=1./5000)\n",
    "#     fft_angles = np.angle(np.fft.rfft(bb.other_data[3]))\n",
    "\n",
    "    phi_tmp = m1_tmp.values[2]\n",
    "#     phi_tmp2 = (fft_angles[freq2==drive_freq]+np.pi/2)%(2*np.pi)\n",
    "#     print(phi_tmp, phi_tmp2, m1_tmp.values[0]*100, np.std(xx2)*np.sqrt(2)*50)\n",
    "    \n",
    "    fit_kwargs = {'A': 0, 'f': drive_freq, 'phi': phi_tmp, 'sigma': 840,\n",
    "                  'error_A': 1, 'error_f': 1, 'error_phi': 0.5, 'errordef': 1, 'error_sigma':100,\n",
    "                  'limit_phi': [-2 * np.pi, 2 * np.pi], \n",
    "                  'limit_A': [-100000, 100000], \n",
    "                  'print_level': 0, 'fix_f': True, 'fix_phi': True}\n",
    "\n",
    "    xx2 = signal.filtfilt(b, a, bb.pos_data[0])[::decimate]\n",
    "\n",
    "    m1_tmp = ll.find_mle_sin(xx2, fsamp=5000/decimate, noise_rms=1, plot=False, suppress_print=True, **fit_kwargs)\n",
    "    \n",
    "    drive_freq = 82\n",
    "    fit_kwargs = {'A': 0, 'f': drive_freq, 'phi': phi_tmp+np.pi/2, \n",
    "                  'error_A': 1, 'error_f': 1, 'error_phi': 0.5, 'errordef': 1,\n",
    "                  'limit_phi': [-2 * np.pi, 2 * np.pi], \n",
    "                  'limit_A': [-100000, 100000], \n",
    "                  'print_level': 0, 'fix_f': True, 'fix_phi': True}\n",
    "\n",
    "        \n",
    "    b, a = signal.butter(3, [2.*(drive_freq-bandwidth/2.)/fsamp, 2.*(drive_freq+bandwidth/2.)/fsamp ], btype = 'bandpass')\n",
    "    xx2 = signal.filtfilt(b, a, bb.pos_data[0])[::decimate]\n",
    "    \n",
    "    m2_tmp = ll.find_mle_sin(xx2, fsamp=5000/decimate, noise_rms=1, plot=False, suppress_print=True, **fit_kwargs)\n",
    "#     print(m1_tmp.values)\n",
    "    return m1_tmp.values[0], m2_tmp.values[0], m1_tmp.values[3], m1_tmp.fval"
   ]
  },
  {
   "cell_type": "code",
   "execution_count": 70,
   "metadata": {},
   "outputs": [
    {
     "data": {
      "text/plain": [
       "(-8.22282208132674, 13.144451576517895, 3481.8577267395094, 17.3125594980765)"
      ]
     },
     "execution_count": 70,
     "metadata": {},
     "output_type": "execute_result"
    }
   ],
   "source": [
    "i=1\n",
    "get_amp(i)"
   ]
  },
  {
   "cell_type": "code",
   "execution_count": 72,
   "metadata": {},
   "outputs": [
    {
     "name": "stdout",
     "output_type": "stream",
     "text": [
      "voltage:  24.0253496099 0.0639542229343 0.243675593194\n",
      "-0.576229495689\n",
      "-0.593398947127\n",
      "-0.560659189746\n",
      "-0.48378423743\n",
      "-0.465439841306\n",
      "-0.505165178912\n",
      "voltage:  47.9463077076\n"
     ]
    }
   ],
   "source": [
    "i = 0\n",
    "fname = r'/data/old_trap/20210817/bead1/neutrality/height_fb_0_3_x_41Hz_100Vpp_delay_10s__spin_xz_50V_50kHz_files_4000/x_neutrality_50V_41Hz_'+str(i)+'.h5'\n",
    "bb = bu.DataFile();\n",
    "bb.load(fname);\n",
    "bb.load_other_data()\n",
    "print(\"voltage: \", voltage, np.mean(bb.other_data[3])*100, np.mean(bb.other_data[4])*100)\n",
    "[print(np.mean(bb.other_data[jj][5000:15000])*100) for jj in range(1,7)]\n",
    "drive_freq = 41\n",
    "bandwidth=10\n",
    "b, a = signal.butter(3, [2.*(drive_freq-bandwidth/2.)/fsamp, 2.*(drive_freq+bandwidth/2.)/fsamp ], btype = 'bandpass')\n",
    "xx2 = signal.filtfilt(b, a, bb.other_data[3])\n",
    "voltage50 = np.std(xx2)*np.sqrt(2)*100\n",
    "print(\"voltage: \", voltage50)"
   ]
  },
  {
   "cell_type": "code",
   "execution_count": 30,
   "metadata": {},
   "outputs": [
    {
     "data": {
      "text/plain": [
       "(24.0253496099097, 47.886177184372691)"
      ]
     },
     "execution_count": 30,
     "metadata": {},
     "output_type": "execute_result"
    }
   ],
   "source": [
    "voltage, voltage50"
   ]
  },
  {
   "cell_type": "code",
   "execution_count": 391,
   "metadata": {
    "scrolled": true
   },
   "outputs": [],
   "source": [
    "# amps_w_fb_spin_xz_100V_x_50V_delay = []\n",
    "# for i in range(10):\n",
    "#     print(i,'/500')\n",
    "#     try:\n",
    "#         amps_w_fb_spin_xz_100V_x_50V_delay.append(get_amp(i))\n",
    "#     except:\n",
    "#         print(\"******\")\n",
    "# amps_w_fb_spin_xz_100V_x_50V_delay = np.array(amps_w_fb_spin_xz_100V_x_50V_delay)"
   ]
  },
  {
   "cell_type": "code",
   "execution_count": 131,
   "metadata": {
    "scrolled": true
   },
   "outputs": [
    {
     "name": "stderr",
     "output_type": "stream",
     "text": [
      "100%|██████████| 4000/4000 [01:08<00:00, 62.67it/s]\n"
     ]
    }
   ],
   "source": [
    "amps_w_fb_spin_xz_50V_x_50V_delay = np.array(Parallel(n_jobs=40)(delayed(get_amp)(i) for i in tqdm(range((4000)))))"
   ]
  },
  {
   "cell_type": "code",
   "execution_count": 325,
   "metadata": {},
   "outputs": [],
   "source": [
    "amps_wo_fb_spin_xy_x_100V_delay_50V_spin = list(amps_wo_fb_spin_xy_x_100V_delay_50V_spin[:1756])+list(amps_wo_fb_spin_xy_x_100V_delay_50V_spin[1757:])\n",
    "amps_wo_fb_spin_xy_x_100V_delay_50V_spin = np.array(amps_wo_fb_spin_xy_x_100V_delay_50V_spin)"
   ]
  },
  {
   "cell_type": "code",
   "execution_count": 85,
   "metadata": {},
   "outputs": [
    {
     "data": {
      "text/plain": [
       "3584729.4233503276"
      ]
     },
     "execution_count": 85,
     "metadata": {},
     "output_type": "execute_result"
    }
   ],
   "source": [
    "fvals = amps_w_fb_spin_xz_100V_x_50V_delay[:,2]\n",
    "thres = np.mean(fvals)+2*np.std(fvals)\n",
    "thres"
   ]
  },
  {
   "cell_type": "code",
   "execution_count": 132,
   "metadata": {},
   "outputs": [
    {
     "data": {
      "application/vnd.jupyter.widget-view+json": {
       "model_id": "61a700be85fc4f1188678a2d20eb986d",
       "version_major": 2,
       "version_minor": 0
      },
      "text/plain": [
       "Canvas(toolbar=Toolbar(toolitems=[('Home', 'Reset original view', 'home', 'home'), ('Back', 'Back to previous …"
      ]
     },
     "metadata": {},
     "output_type": "display_data"
    },
    {
     "data": {
      "text/plain": [
       "<matplotlib.collections.PathCollection at 0x7f0bbce91da0>"
      ]
     },
     "execution_count": 132,
     "metadata": {},
     "output_type": "execute_result"
    }
   ],
   "source": [
    "i=0; j=3\n",
    "_,ax = plt.subplots()\n",
    "dat = amps_w_fb_spin_xz_50V_x_50V_delay\n",
    "ax.scatter(dat[:,i], dat[:,j])"
   ]
  },
  {
   "cell_type": "code",
   "execution_count": 134,
   "metadata": {},
   "outputs": [],
   "source": [
    "dat = amps_w_fb_spin_xz_50V_x_50V_delay\n",
    "thresh = 22\n",
    "amps_w_fb_spin_xz_50V_x_50V_delay_2 = np.array([aa for aa,bb in zip(dat,dat[:,3]) if (bb<thresh)])"
   ]
  },
  {
   "cell_type": "code",
   "execution_count": 135,
   "metadata": {},
   "outputs": [
    {
     "data": {
      "text/plain": [
       "(1992, 4000)"
      ]
     },
     "execution_count": 135,
     "metadata": {},
     "output_type": "execute_result"
    }
   ],
   "source": [
    "len(amps_w_fb_spin_xz_100V_x_50V_delay_2), len(dat)"
   ]
  },
  {
   "cell_type": "code",
   "execution_count": 138,
   "metadata": {},
   "outputs": [
    {
     "data": {
      "application/vnd.jupyter.widget-view+json": {
       "model_id": "042a01a4145b4fc69095d48f565295ef",
       "version_major": 2,
       "version_minor": 0
      },
      "text/plain": [
       "Canvas(toolbar=Toolbar(toolitems=[('Home', 'Reset original view', 'home', 'home'), ('Back', 'Back to previous …"
      ]
     },
     "metadata": {},
     "output_type": "display_data"
    },
    {
     "name": "stdout",
     "output_type": "stream",
     "text": [
      "mean, std:  -0.00144721225652 0.000536392016288\n",
      "mean, std:  -0.00108433080078 0.000415179790182\n"
     ]
    }
   ],
   "source": [
    "j = 0\n",
    "data = amps_w_fb_spin_xz_100V_x_50V_delay_2[:,j]/scale*voltage/voltage50\n",
    "data2 = amps_w_fb_spin_xz_50V_x_50V_delay_2[:3400,j]/scale*voltage/voltage50\n",
    "\n",
    "_, ax= plt.subplots(figsize=(9.5,4))\n",
    "ax.scatter(range(len(data)), data, label='50V-x, xz-spin-100V')\n",
    "ax.scatter(range(len(data2)), data2, label='50V-x, xz-spin-50V')\n",
    "# ax.scatter(range(len(data3)), data3, label='minus-y-electrode-50V, xz-spin-150V')\n",
    "\n",
    "# ax.scatter(range(len(data4)), data4, label='20V-x, xy-spin-30V, w/o height fb')\n",
    "ax.plot(np.arange(0,2000), np.arange(0,2000)*0, '--k')\n",
    "ax.set(xlabel='Dataset', ylabel=r'$\\epsilon$')\n",
    "ax.legend()\n",
    "print('mean, std: ', np.mean(data), np.std(data)/np.sqrt(len(data)))\n",
    "print('mean, std: ', np.mean(data2), np.std(data2)/np.sqrt(len(data2)))"
   ]
  },
  {
   "cell_type": "code",
   "execution_count": 139,
   "metadata": {},
   "outputs": [
    {
     "data": {
      "application/vnd.jupyter.widget-view+json": {
       "model_id": "c7b0ce07393a4c04a172bf92aba75724",
       "version_major": 2,
       "version_minor": 0
      },
      "text/plain": [
       "Canvas(toolbar=Toolbar(toolitems=[('Home', 'Reset original view', 'home', 'home'), ('Back', 'Back to previous …"
      ]
     },
     "metadata": {},
     "output_type": "display_data"
    },
    {
     "data": {
      "text/plain": [
       "[Text(0.5, 0, '$\\\\epsilon$')]"
      ]
     },
     "execution_count": 139,
     "metadata": {},
     "output_type": "execute_result"
    }
   ],
   "source": [
    "from scipy.optimize import curve_fit\n",
    "from scipy import asarray as ar,exp\n",
    "\n",
    "range_pram = 0.1\n",
    "_,ax = plt.subplots()\n",
    "entries, bins, patches = ax.hist(data2, bins=35, range=(-range_pram, range_pram))\n",
    "ax.set(xlabel=r'$\\epsilon$')"
   ]
  },
  {
   "cell_type": "code",
   "execution_count": 140,
   "metadata": {},
   "outputs": [
    {
     "name": "stdout",
     "output_type": "stream",
     "text": [
      "mean:  -0.00129910792655 0.0235686093888\n",
      "std:  0.000602167189602\n"
     ]
    },
    {
     "name": "stderr",
     "output_type": "stream",
     "text": [
      "/home/analysis_user/.local/lib/python3.6/site-packages/ipykernel_launcher.py:19: RuntimeWarning: invalid value encountered in sqrt\n"
     ]
    }
   ],
   "source": [
    "## gaussian fit to the histogram\n",
    "\n",
    "bins_fit =[(bins[i+1]-bins[i])/2+bins[i] for i in range(len(entries))]\n",
    "\n",
    "x = bins_fit\n",
    "y= entries/40\n",
    "\n",
    "n = len(x)                          #the number of data\n",
    "mean = sum(x*y)/n                   #note this correction\n",
    "sigma = sum(y*(x-mean)**2)/n        #note this correction\n",
    "\n",
    "def gaus(x,a,x0,sigma):\n",
    "    return a*np.exp(-(x-x0)**2/(2*sigma**2))\n",
    "\n",
    "popt,pcov = curve_fit(gaus,x,y,p0=[1,mean,sigma])\n",
    "ax.plot(x,gaus(x,*popt)*40,'ro:',label='fit')\n",
    "\n",
    "print(\"mean: \", popt[1], popt[2])\n",
    "print(\"std: \", np.sqrt(pcov)[1,1])"
   ]
  },
  {
   "cell_type": "code",
   "execution_count": 119,
   "metadata": {},
   "outputs": [
    {
     "data": {
      "application/vnd.jupyter.widget-view+json": {
       "model_id": "c1a3c18b8763441fbfe2061054314a0b",
       "version_major": 2,
       "version_minor": 0
      },
      "text/plain": [
       "Canvas(toolbar=Toolbar(toolitems=[('Home', 'Reset original view', 'home', 'home'), ('Back', 'Back to previous …"
      ]
     },
     "metadata": {},
     "output_type": "display_data"
    },
    {
     "data": {
      "text/plain": [
       "<matplotlib.legend.Legend at 0x7f4f77d8c3c8>"
      ]
     },
     "execution_count": 119,
     "metadata": {},
     "output_type": "execute_result"
    }
   ],
   "source": [
    "datasets = [amps_wo_fb_spin_zx_75V_x_20V,amps_wo_fb_spin_zx_100V_x_25V, amps_wo_fb_spin_zx_150V_x_25V]\n",
    "voltages = [voltage20, voltage25, voltage25]\n",
    "spin_voltage = [75,100, 150]\n",
    "means = []\n",
    "errors = []\n",
    "for dat,vv in zip(datasets, voltages):\n",
    "    means.append(np.mean(dat[:,0])/scale*voltage/vv)\n",
    "    errors.append(np.std(dat[:,0])/scale*voltage/vv/np.sqrt(len(dat[:,0])))\n",
    "\n",
    "_,ax = plt.subplots()\n",
    "ax.errorbar(spin_voltage, means, yerr=errors, fmt='o', label='zx plane spin')\n",
    "ax.set(xlabel='Spin voltage', ylabel=r'$\\epsilon$', xlim=(20,160), ylim=(-0.001,0.01))\n",
    "\n",
    "datasets = [amps_wo_fb_spin_xy_30V_x_20V,amps_wo_fb_spin_xy_75V_x_20V, amps_wo_fb_spin_xy_100V_x_20V]\n",
    "voltages = [voltage20, voltage20, voltage20]\n",
    "spin_voltage = [30,75, 100]\n",
    "means2 = []\n",
    "errors2 = []\n",
    "for dat,vv in zip(datasets, voltages):\n",
    "    means2.append(np.mean(dat[:,0])/scale*voltage/vv)\n",
    "    errors2.append(np.std(dat[:,0])/scale*voltage/vv/np.sqrt(len(dat[:,0])))\n",
    "\n",
    "ax.errorbar(spin_voltage, means, yerr=errors, fmt='o', label='xy plane spin')\n",
    "ax.plot(np.arange(20,160), np.arange(20,160)*0, '--r')\n",
    "ax.legend()"
   ]
  },
  {
   "cell_type": "code",
   "execution_count": 384,
   "metadata": {},
   "outputs": [
    {
     "data": {
      "application/vnd.jupyter.widget-view+json": {
       "model_id": "77e7ed2fbd73425caa1d614fc4d17817",
       "version_major": 2,
       "version_minor": 0
      },
      "text/plain": [
       "Canvas(toolbar=Toolbar(toolitems=[('Home', 'Reset original view', 'home', 'home'), ('Back', 'Back to previous …"
      ]
     },
     "metadata": {},
     "output_type": "display_data"
    },
    {
     "name": "stdout",
     "output_type": "stream",
     "text": [
      "mean, std:  0.00543937010689 0.000832138675641\n",
      "mean, std:  0.00364790172652 0.000627235885947\n"
     ]
    }
   ],
   "source": [
    "j = 0\n",
    "data = amps_with_fb_spin_xy_100V_x_20V_delay_2[:,j]/scale*voltage/voltage20_1\n",
    "data2 = amps_wo_fb_spin_zx_100V_x_25V[:,j]/scale*voltage/voltage25\n",
    "\n",
    "_, ax= plt.subplots(figsize=(9.5,4))\n",
    "ax.scatter(range(len(data)), data, label='20V-x, xy-spin-100V, w/ delay, w/ height fb')\n",
    "ax.scatter(range(len(data2)), data2, label='25V-x, xy-spin-100V, w/ delay, w/o height fb')\n",
    "\n",
    "ax.plot(np.arange(0,3000), np.arange(0,3000)*0, '--k')\n",
    "ax.set(xlabel='Dataset', ylabel=r'$\\epsilon$')\n",
    "ax.legend()\n",
    "print('mean, std: ',np.mean(data), np.std(data)/np.sqrt(len(data)))\n",
    "print('mean, std: ', np.mean(data2), np.std(data2)/np.sqrt(len(data2)))"
   ]
  },
  {
   "cell_type": "code",
   "execution_count": 181,
   "metadata": {},
   "outputs": [
    {
     "data": {
      "application/vnd.jupyter.widget-view+json": {
       "model_id": "cc191845f1264e8f9a06bac339d0f44b",
       "version_major": 2,
       "version_minor": 0
      },
      "text/plain": [
       "Canvas(toolbar=Toolbar(toolitems=[('Home', 'Reset original view', 'home', 'home'), ('Back', 'Back to previous …"
      ]
     },
     "metadata": {},
     "output_type": "display_data"
    },
    {
     "data": {
      "text/plain": [
       "<matplotlib.legend.Legend at 0x7f4f75b30dd8>"
      ]
     },
     "execution_count": 181,
     "metadata": {},
     "output_type": "execute_result"
    }
   ],
   "source": [
    "datasets = [amps_wo_fb_spin_xy_100V_x_20V2[1200:],amps_wo_fb_spin_xy_100V_x_50V_delay2, amps_wo_fb_spin_xy_100V_x_100V_delay2]\n",
    "spin_voltage = [20,50, 100]\n",
    "means = []\n",
    "errors = []\n",
    "for dat,vv in zip(datasets, voltages):\n",
    "    means.append(np.mean(dat))\n",
    "    errors.append(np.std(dat)/np.sqrt(len(dat)))\n",
    "\n",
    "_,ax = plt.subplots()\n",
    "ax.errorbar(spin_voltage, means, yerr=errors, fmt='o', label='xy plane spin, 100V')\n",
    "ax.plot(np.arange(15,110), np.arange(15,110)*0, '--r')\n",
    "ax.set(xlabel='Oscillating voltage', ylabel=r'$\\epsilon$', xlim=(15,110), ylim=(-0.001,0.004))\n",
    "ax.legend()"
   ]
  },
  {
   "cell_type": "code",
   "execution_count": null,
   "metadata": {},
   "outputs": [],
   "source": []
  },
  {
   "cell_type": "code",
   "execution_count": 143,
   "metadata": {},
   "outputs": [],
   "source": [
    "def get_dcV(i):\n",
    "    \n",
    "    fname = r'/data/old_trap/20210715/bead2/neutrality/no_height_fb_electrodes_x_20V_41_Hz_spin_xy_30V_50kHz_files_3000/turbombar_powfb_xyzcool_'+str(i)+'.h5'\n",
    "    bb = bu.DataFile();\n",
    "    bb.load(fname);\n",
    "    bb.load_other_data()\n",
    "    return np.mean(bb.other_data[:,5000:85000], axis=1)*100"
   ]
  },
  {
   "cell_type": "code",
   "execution_count": 146,
   "metadata": {},
   "outputs": [
    {
     "data": {
      "text/plain": [
       "array([-3.79819842, -0.56254724, -0.57267787,  0.66225783,  0.92968812,\n",
       "       -0.39438807, -0.0508512 ,  0.22620381])"
      ]
     },
     "execution_count": 146,
     "metadata": {},
     "output_type": "execute_result"
    }
   ],
   "source": [
    "get_dcV(0)"
   ]
  },
  {
   "cell_type": "code",
   "execution_count": 144,
   "metadata": {
    "scrolled": true
   },
   "outputs": [
    {
     "name": "stderr",
     "output_type": "stream",
     "text": [
      "\n",
      "  0%|          | 0/3000 [00:00<?, ?it/s]\u001b[A\n",
      "  5%|▌         | 160/3000 [00:00<00:08, 344.50it/s]\u001b[A\n",
      "  8%|▊         | 240/3000 [00:00<00:08, 344.63it/s]\u001b[A\n",
      " 11%|█         | 320/3000 [00:01<00:08, 319.13it/s]\u001b[A\n",
      " 13%|█▎        | 400/3000 [00:01<00:08, 315.05it/s]\u001b[A\n",
      " 16%|█▌        | 480/3000 [00:01<00:08, 311.91it/s]\u001b[A\n",
      " 19%|█▊        | 560/3000 [00:01<00:08, 290.42it/s]\u001b[A\n",
      " 21%|██▏       | 640/3000 [00:02<00:07, 306.35it/s]\u001b[A\n",
      " 24%|██▍       | 720/3000 [00:02<00:07, 311.11it/s]\u001b[A\n",
      " 27%|██▋       | 800/3000 [00:02<00:07, 302.12it/s]\u001b[A\n",
      " 29%|██▉       | 880/3000 [00:02<00:07, 296.32it/s]\u001b[A\n",
      " 32%|███▏      | 960/3000 [00:03<00:07, 288.74it/s]\u001b[A\n",
      " 35%|███▍      | 1040/3000 [00:03<00:06, 302.20it/s]\u001b[A\n",
      " 37%|███▋      | 1120/3000 [00:03<00:06, 296.34it/s]\u001b[A\n",
      " 40%|████      | 1200/3000 [00:03<00:05, 301.48it/s]\u001b[A\n",
      " 43%|████▎     | 1280/3000 [00:04<00:05, 304.08it/s]\u001b[A\n",
      " 45%|████▌     | 1360/3000 [00:04<00:05, 320.89it/s]\u001b[A\n",
      " 48%|████▊     | 1440/3000 [00:04<00:04, 313.33it/s]\u001b[A\n",
      " 51%|█████     | 1520/3000 [00:04<00:04, 303.54it/s]\u001b[A\n",
      " 53%|█████▎    | 1600/3000 [00:05<00:04, 301.99it/s]\u001b[A\n",
      " 56%|█████▌    | 1680/3000 [00:05<00:04, 304.96it/s]\u001b[A\n",
      " 59%|█████▊    | 1760/3000 [00:05<00:03, 313.54it/s]\u001b[A\n",
      " 61%|██████▏   | 1840/3000 [00:05<00:03, 324.58it/s]\u001b[A\n",
      " 64%|██████▍   | 1920/3000 [00:06<00:03, 327.65it/s]\u001b[A\n",
      " 67%|██████▋   | 2000/3000 [00:06<00:03, 319.44it/s]\u001b[A\n",
      " 69%|██████▉   | 2080/3000 [00:06<00:02, 323.62it/s]\u001b[A\n",
      " 72%|███████▏  | 2160/3000 [00:07<00:02, 297.28it/s]\u001b[A\n",
      " 75%|███████▍  | 2240/3000 [00:07<00:02, 303.23it/s]\u001b[A\n",
      " 77%|███████▋  | 2320/3000 [00:07<00:02, 318.88it/s]\u001b[A\n",
      " 80%|████████  | 2400/3000 [00:07<00:01, 320.56it/s]\u001b[A\n",
      " 83%|████████▎ | 2480/3000 [00:08<00:01, 306.84it/s]\u001b[A\n",
      " 85%|████████▌ | 2560/3000 [00:08<00:01, 307.02it/s]\u001b[A\n",
      " 88%|████████▊ | 2640/3000 [00:08<00:01, 301.19it/s]\u001b[A\n",
      " 91%|█████████ | 2720/3000 [00:08<00:00, 320.59it/s]\u001b[A\n",
      " 93%|█████████▎| 2800/3000 [00:09<00:00, 302.38it/s]\u001b[A\n",
      " 96%|█████████▌| 2880/3000 [00:09<00:00, 304.68it/s]\u001b[A\n",
      " 99%|█████████▊| 2960/3000 [00:09<00:00, 334.51it/s]\u001b[A\n",
      "100%|██████████| 3000/3000 [00:09<00:00, 314.37it/s]\u001b[A"
     ]
    }
   ],
   "source": [
    "voltages_elec3_30V_spin = np.array(Parallel(n_jobs=40)(delayed(get_dcV)(i) for i in tqdm(range(3000))))"
   ]
  },
  {
   "cell_type": "code",
   "execution_count": null,
   "metadata": {},
   "outputs": [],
   "source": []
  },
  {
   "cell_type": "code",
   "execution_count": 313,
   "metadata": {},
   "outputs": [
    {
     "ename": "NameError",
     "evalue": "name 'fit_kwargs' is not defined",
     "output_type": "error",
     "traceback": [
      "\u001b[0;31m---------------------------------------------------------------------------\u001b[0m",
      "\u001b[0;31mNameError\u001b[0m                                 Traceback (most recent call last)",
      "\u001b[0;32m<ipython-input-313-501f632fcb33>\u001b[0m in \u001b[0;36m<module>\u001b[0;34m\u001b[0m\n\u001b[1;32m      9\u001b[0m \u001b[0mb\u001b[0m\u001b[0;34m,\u001b[0m \u001b[0ma\u001b[0m \u001b[0;34m=\u001b[0m \u001b[0msignal\u001b[0m\u001b[0;34m.\u001b[0m\u001b[0mbutter\u001b[0m\u001b[0;34m(\u001b[0m\u001b[0;36m3\u001b[0m\u001b[0;34m,\u001b[0m \u001b[0;34m[\u001b[0m\u001b[0;36m2.\u001b[0m\u001b[0;34m*\u001b[0m\u001b[0;34m(\u001b[0m\u001b[0mdrive_freq\u001b[0m\u001b[0;34m-\u001b[0m\u001b[0mbandwidth\u001b[0m\u001b[0;34m/\u001b[0m\u001b[0;36m2.\u001b[0m\u001b[0;34m)\u001b[0m\u001b[0;34m/\u001b[0m\u001b[0mfsamp\u001b[0m\u001b[0;34m,\u001b[0m \u001b[0;36m2.\u001b[0m\u001b[0;34m*\u001b[0m\u001b[0;34m(\u001b[0m\u001b[0mdrive_freq\u001b[0m\u001b[0;34m+\u001b[0m\u001b[0mbandwidth\u001b[0m\u001b[0;34m/\u001b[0m\u001b[0;36m2.\u001b[0m\u001b[0;34m)\u001b[0m\u001b[0;34m/\u001b[0m\u001b[0mfsamp\u001b[0m \u001b[0;34m]\u001b[0m\u001b[0;34m,\u001b[0m \u001b[0mbtype\u001b[0m \u001b[0;34m=\u001b[0m \u001b[0;34m'bandpass'\u001b[0m\u001b[0;34m)\u001b[0m\u001b[0;34m\u001b[0m\u001b[0;34m\u001b[0m\u001b[0m\n\u001b[1;32m     10\u001b[0m \u001b[0mxx2\u001b[0m \u001b[0;34m=\u001b[0m \u001b[0msignal\u001b[0m\u001b[0;34m.\u001b[0m\u001b[0mfiltfilt\u001b[0m\u001b[0;34m(\u001b[0m\u001b[0mb\u001b[0m\u001b[0;34m,\u001b[0m \u001b[0ma\u001b[0m\u001b[0;34m,\u001b[0m \u001b[0mbb\u001b[0m\u001b[0;34m.\u001b[0m\u001b[0mother_data\u001b[0m\u001b[0;34m[\u001b[0m\u001b[0;36m3\u001b[0m\u001b[0;34m]\u001b[0m\u001b[0;34m)\u001b[0m\u001b[0;34m[\u001b[0m\u001b[0;34m:\u001b[0m\u001b[0;34m:\u001b[0m\u001b[0mdecimate\u001b[0m\u001b[0;34m]\u001b[0m\u001b[0;34m\u001b[0m\u001b[0;34m\u001b[0m\u001b[0m\n\u001b[0;32m---> 11\u001b[0;31m \u001b[0mm1_tmp\u001b[0m \u001b[0;34m=\u001b[0m \u001b[0mll\u001b[0m\u001b[0;34m.\u001b[0m\u001b[0mfind_mle_sin\u001b[0m\u001b[0;34m(\u001b[0m\u001b[0mxx2\u001b[0m\u001b[0;34m,\u001b[0m \u001b[0mfsamp\u001b[0m\u001b[0;34m=\u001b[0m\u001b[0;36m5000\u001b[0m\u001b[0;34m/\u001b[0m\u001b[0mdecimate\u001b[0m\u001b[0;34m,\u001b[0m \u001b[0mnoise_rms\u001b[0m\u001b[0;34m=\u001b[0m\u001b[0;36m1\u001b[0m\u001b[0;34m,\u001b[0m \u001b[0mplot\u001b[0m\u001b[0;34m=\u001b[0m\u001b[0;32mFalse\u001b[0m\u001b[0;34m,\u001b[0m \u001b[0msuppress_print\u001b[0m\u001b[0;34m=\u001b[0m\u001b[0;32mTrue\u001b[0m\u001b[0;34m,\u001b[0m \u001b[0;34m**\u001b[0m\u001b[0mfit_kwargs\u001b[0m\u001b[0;34m)\u001b[0m\u001b[0;34m\u001b[0m\u001b[0;34m\u001b[0m\u001b[0m\n\u001b[0m\u001b[1;32m     12\u001b[0m \u001b[0;34m\u001b[0m\u001b[0m\n\u001b[1;32m     13\u001b[0m \u001b[0mxx2\u001b[0m \u001b[0;34m=\u001b[0m \u001b[0msignal\u001b[0m\u001b[0;34m.\u001b[0m\u001b[0mfiltfilt\u001b[0m\u001b[0;34m(\u001b[0m\u001b[0mb\u001b[0m\u001b[0;34m,\u001b[0m \u001b[0ma\u001b[0m\u001b[0;34m,\u001b[0m \u001b[0mbb\u001b[0m\u001b[0;34m.\u001b[0m\u001b[0mpos_data\u001b[0m\u001b[0;34m[\u001b[0m\u001b[0;36m0\u001b[0m\u001b[0;34m]\u001b[0m\u001b[0;34m)\u001b[0m\u001b[0;34m[\u001b[0m\u001b[0;34m:\u001b[0m\u001b[0;34m:\u001b[0m\u001b[0mdecimate\u001b[0m\u001b[0;34m]\u001b[0m\u001b[0;34m\u001b[0m\u001b[0;34m\u001b[0m\u001b[0m\n",
      "\u001b[0;31mNameError\u001b[0m: name 'fit_kwargs' is not defined"
     ]
    }
   ],
   "source": [
    "i=1\n",
    "fname = r'/data/old_trap/20210817/bead1/neutrality/height_fb_0_7_x_41Hz_50V_delay_10s__spin_xz_100V_50kHz_files_3000/x_neutrality_50V_41Hz_'+str(i)+'.h5'\n",
    "    \n",
    "drive_freq = 41\n",
    "bb = bu.DataFile();\n",
    "bb.load(fname);\n",
    "bb.load_other_data()\n",
    "    \n",
    "b, a = signal.butter(3, [2.*(drive_freq-bandwidth/2.)/fsamp, 2.*(drive_freq+bandwidth/2.)/fsamp ], btype = 'bandpass')\n",
    "xx2 = signal.filtfilt(b, a, bb.other_data[3])[::decimate]\n",
    "m1_tmp = ll.find_mle_sin(xx2, fsamp=5000/decimate, noise_rms=1, plot=False, suppress_print=True, **fit_kwargs)\n",
    "    \n",
    "xx2 = signal.filtfilt(b, a, bb.pos_data[0])[::decimate]\n",
    "\n",
    "_,ax = plt.subplots()\n",
    "ax.scatter(range(50000), bb.other_data[3])"
   ]
  }
 ],
 "metadata": {
  "kernelspec": {
   "display_name": "Python 3",
   "language": "python",
   "name": "python3"
  },
  "language_info": {
   "codemirror_mode": {
    "name": "ipython",
    "version": 3
   },
   "file_extension": ".py",
   "mimetype": "text/x-python",
   "name": "python",
   "nbconvert_exporter": "python",
   "pygments_lexer": "ipython3",
   "version": "3.6.9"
  }
 },
 "nbformat": 4,
 "nbformat_minor": 4
}
