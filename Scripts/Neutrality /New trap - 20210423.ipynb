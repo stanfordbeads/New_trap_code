{
 "cells": [
  {
   "cell_type": "code",
   "execution_count": 1,
   "metadata": {},
   "outputs": [],
   "source": [
    "import numpy as np\n",
    "import matplotlib.pyplot as plt\n",
    "import matplotlib\n",
    "from scipy import signal\n",
    "import random\n",
    "\n",
    "import h5py\n",
    "from IPython.utils import io\n",
    "\n",
    "from joblib import Parallel, delayed\n",
    "from tqdm import tqdm"
   ]
  },
  {
   "cell_type": "code",
   "execution_count": 2,
   "metadata": {},
   "outputs": [],
   "source": [
    "%matplotlib widget"
   ]
  },
  {
   "cell_type": "code",
   "execution_count": 3,
   "metadata": {},
   "outputs": [],
   "source": [
    "%reload_ext autoreload\n",
    "%autoreload 2"
   ]
  },
  {
   "cell_type": "code",
   "execution_count": 4,
   "metadata": {},
   "outputs": [],
   "source": [
    "import sys\n",
    "sys.path.append('../../../../nadavp/new_trap/Tools/')\n",
    "sys.path.append('../../../../nadavp/new_trap/Tools/StatFramework/')\n",
    "import BeadDataFile\n",
    "from discharge_tools import *"
   ]
  },
  {
   "cell_type": "code",
   "execution_count": 5,
   "metadata": {},
   "outputs": [],
   "source": [
    "from likelihood_calculator import likelihood_analyser\n",
    "from likelihood_calculator import GravityFramework\n",
    "from likelihood_calculator import auxiliary_functions as aux\n",
    "gfw = GravityFramework.GravityFramework()"
   ]
  },
  {
   "cell_type": "code",
   "execution_count": 7,
   "metadata": {},
   "outputs": [
    {
     "name": "stdout",
     "output_type": "stream",
     "text": [
      "150  files in folder\n",
      "150  files loaded\n"
     ]
    }
   ],
   "source": [
    "bdf_discharge = load_dir(dirname='/data/new_trap/20210423/Bead3/Discharge/FineDischarge/', \n",
    "                         start_file=0, max_file=1000)\n",
    "direction = np.array([bb.electrode_channels[0] for bb in bdf_discharge])\n",
    "bdf_z_discharge = [bb for bb in bdf_discharge if bb.electrode_channels[0]==1]"
   ]
  },
  {
   "cell_type": "code",
   "execution_count": 9,
   "metadata": {
    "scrolled": true
   },
   "outputs": [
    {
     "name": "stdout",
     "output_type": "stream",
     "text": [
      "***************************************************\n",
      "Z2-amplitude:  2.39e+02\n",
      "reduced chi2:  1544.931016864466\n",
      "***************************************************\n",
      "Z2-amplitude:  2.20e+02\n",
      "reduced chi2:  1194.7697505973108\n",
      "***************************************************\n",
      "Z2-amplitude:  2.06e+02\n",
      "reduced chi2:  1371.5516745466387\n",
      "***************************************************\n",
      "Z2-amplitude:  2.43e+02\n",
      "reduced chi2:  1219.6911770979139\n",
      "***************************************************\n",
      "Z2-amplitude:  2.26e+02\n",
      "reduced chi2:  1785.4344011285527\n",
      "***************************************************\n",
      "Z2-amplitude:  2.42e+02\n",
      "reduced chi2:  1212.8175966488627\n",
      "***************************************************\n",
      "Z2-amplitude:  2.26e+02\n",
      "reduced chi2:  1212.7127046418732\n",
      "***************************************************\n",
      "Z2-amplitude:  2.29e+02\n",
      "reduced chi2:  1521.9010828334324\n",
      "***************************************************\n",
      "Z2-amplitude:  2.27e+02\n",
      "reduced chi2:  612.4734862979749\n",
      "***************************************************\n",
      "Z2-amplitude:  2.37e+02\n",
      "reduced chi2:  1227.3647821444026\n",
      "***************************************************\n",
      "Z2-amplitude:  2.32e+02\n",
      "reduced chi2:  1408.8376865598898\n",
      "***************************************************\n",
      "Z2-amplitude:  2.15e+02\n",
      "reduced chi2:  1604.9991508100059\n",
      "***************************************************\n",
      "Z2-amplitude:  2.59e+02\n",
      "reduced chi2:  1272.443636748444\n",
      "***************************************************\n",
      "Z2-amplitude:  2.46e+02\n",
      "reduced chi2:  1611.5775101782863\n",
      "***************************************************\n",
      "Z2-amplitude:  2.44e+02\n",
      "reduced chi2:  2117.6992613353277\n",
      "***************************************************\n",
      "Z2-amplitude:  2.27e+02\n",
      "reduced chi2:  1620.4461227821541\n",
      "***************************************************\n",
      "Z2-amplitude:  2.39e+02\n",
      "reduced chi2:  1413.364708215864\n",
      "***************************************************\n",
      "Z2-amplitude:  2.11e+02\n",
      "reduced chi2:  1192.4380225882876\n",
      "***************************************************\n",
      "Z2-amplitude:  2.40e+02\n",
      "reduced chi2:  1681.6432227604503\n",
      "***************************************************\n",
      "Z2-amplitude:  2.32e+02\n",
      "reduced chi2:  2078.8524390766756\n",
      "Z2 response (amplitude): 232.14343071272015\n"
     ]
    }
   ],
   "source": [
    "bandwidth = 2\n",
    "decimate = 10\n",
    "charges = 4\n",
    "m3 = gfw.build_z_response(bdf_z_discharge[80:100], drive_freq=71, charges=charges, bandwidth=bandwidth, decimate=decimate, bimodal=False)"
   ]
  },
  {
   "cell_type": "code",
   "execution_count": 10,
   "metadata": {},
   "outputs": [
    {
     "name": "stdout",
     "output_type": "stream",
     "text": [
      "Scale is  58.03585767818004\n"
     ]
    }
   ],
   "source": [
    "scale = np.abs(np.mean([m_.values[0] for m_ in m3]))/charges\n",
    "print(\"Scale is \", scale)"
   ]
  },
  {
   "cell_type": "code",
   "execution_count": null,
   "metadata": {},
   "outputs": [],
   "source": []
  },
  {
   "cell_type": "code",
   "execution_count": 30,
   "metadata": {},
   "outputs": [
    {
     "data": {
      "text/plain": [
       "(4, 0.020647085505769186)"
      ]
     },
     "execution_count": 30,
     "metadata": {},
     "output_type": "execute_result"
    }
   ],
   "source": [
    "bb = BeadDataFile.BeadDataFile(fname=r'/data/new_trap/20210423/Bead3/Discharge/Neutrality5/Discharge_0.h5')\n",
    "bb.electrode_channels[0], np.std(bb.electrode_data[0])*np.sqrt(2)"
   ]
  },
  {
   "cell_type": "code",
   "execution_count": 42,
   "metadata": {},
   "outputs": [],
   "source": [
    "ll = likelihood_analyser.LikelihoodAnalyser()\n",
    "def func1_scale(i):\n",
    "# for i,bdf_ in enumerate(data_bdfs2):\n",
    "    print(i,'  ******************')\n",
    "    fname = r'/data/new_trap/20210423/Bead3/Discharge/Neutrality4/Discharge_'+str(i)+'.h5'\n",
    "    bb = BeadDataFile.BeadDataFile(fname=fname)\n",
    "    drive_freq = int(bb.cant_freq)\n",
    "    fit_kwargs = {'A': 0, 'f': drive_freq, 'phi': 3.15, \n",
    "                  'error_A': 1, 'error_f': 1, 'error_phi': 0.5, 'errordef': 1,\n",
    "                  'limit_phi': [-2 * np.pi, 2 * np.pi], \n",
    "                  'limit_A': [-1000, 1000], \n",
    "                  'print_level': 0, 'fix_f': True, 'fix_phi': True}\n",
    "\n",
    "    frequency = fit_kwargs['f']\n",
    "\n",
    "    xx2 = bb.response_at_freq2('z', frequency, bandwidth=bandwidth)\n",
    "    xx2 = xx2[5000:-5000:decimate]  # cut out the first and last second\n",
    "\n",
    "    m1_tmp = ll.find_mle_sin(xx2, fsamp=500, noise_rms=1, plot=False, suppress_print=True, **fit_kwargs)\n",
    "\n",
    "\n",
    "    return m1_tmp.values[0]"
   ]
  },
  {
   "cell_type": "code",
   "execution_count": 38,
   "metadata": {},
   "outputs": [
    {
     "name": "stdout",
     "output_type": "stream",
     "text": [
      "100   ******************\n"
     ]
    },
    {
     "data": {
      "text/plain": [
       "-0.29527409025202694"
      ]
     },
     "execution_count": 38,
     "metadata": {},
     "output_type": "execute_result"
    }
   ],
   "source": [
    "func1_scale(100)/scale"
   ]
  },
  {
   "cell_type": "code",
   "execution_count": 43,
   "metadata": {
    "scrolled": true
   },
   "outputs": [
    {
     "name": "stderr",
     "output_type": "stream",
     "text": [
      "100%|██████████| 999/999 [00:40<00:00, 24.90it/s]\n"
     ]
    }
   ],
   "source": [
    "res_tmp = np.array(Parallel(n_jobs=40)(delayed(func1_scale)(i) for i in tqdm(range(999))))"
   ]
  },
  {
   "cell_type": "code",
   "execution_count": 40,
   "metadata": {},
   "outputs": [
    {
     "data": {
      "application/vnd.jupyter.widget-view+json": {
       "model_id": "59bd1cc763b64101913e6365cd963a8f",
       "version_major": 2,
       "version_minor": 0
      },
      "text/plain": [
       "Canvas(toolbar=Toolbar(toolitems=[('Home', 'Reset original view', 'home', 'home'), ('Back', 'Back to previous …"
      ]
     },
     "metadata": {},
     "output_type": "display_data"
    },
    {
     "data": {
      "text/plain": [
       "<matplotlib.legend.Legend at 0x7f5c7823ea20>"
      ]
     },
     "execution_count": 40,
     "metadata": {},
     "output_type": "execute_result"
    }
   ],
   "source": [
    "_, ax= plt.subplots(figsize=(9.5,4))\n",
    "ax.scatter(range(len(res_tmp)), res_tmp/scale, label='10V, 71Hz., NoSpin')\n",
    "ax.set(xlabel='Dataset', ylabel=r'$\\epsilon$')\n",
    "ax.legend()"
   ]
  },
  {
   "cell_type": "code",
   "execution_count": 44,
   "metadata": {},
   "outputs": [
    {
     "data": {
      "application/vnd.jupyter.widget-view+json": {
       "model_id": "2e304cbb754945abbe91d32a811a32d2",
       "version_major": 2,
       "version_minor": 0
      },
      "text/plain": [
       "Canvas(toolbar=Toolbar(toolitems=[('Home', 'Reset original view', 'home', 'home'), ('Back', 'Back to previous …"
      ]
     },
     "metadata": {},
     "output_type": "display_data"
    },
    {
     "data": {
      "text/plain": [
       "(-0.0034761108554813964, 0.005920536040966746)"
      ]
     },
     "execution_count": 44,
     "metadata": {},
     "output_type": "execute_result"
    }
   ],
   "source": [
    "_,ax = plt.subplots()\n",
    "data = res_tmp/scale\n",
    "_ = ax.hist(data, bins=30, range=(-0.5,0.5))\n",
    "ax.set(xlabel=r'$\\epsilon$')\n",
    "np.mean(data), np.std(data)/np.sqrt(len(data))"
   ]
  },
  {
   "cell_type": "code",
   "execution_count": null,
   "metadata": {},
   "outputs": [],
   "source": []
  },
  {
   "cell_type": "code",
   "execution_count": null,
   "metadata": {},
   "outputs": [],
   "source": []
  },
  {
   "cell_type": "code",
   "execution_count": null,
   "metadata": {},
   "outputs": [],
   "source": []
  },
  {
   "cell_type": "code",
   "execution_count": null,
   "metadata": {},
   "outputs": [],
   "source": []
  }
 ],
 "metadata": {
  "kernelspec": {
   "display_name": "Python 3",
   "language": "python",
   "name": "python3"
  },
  "language_info": {
   "codemirror_mode": {
    "name": "ipython",
    "version": 3
   },
   "file_extension": ".py",
   "mimetype": "text/x-python",
   "name": "python",
   "nbconvert_exporter": "python",
   "pygments_lexer": "ipython3",
   "version": "3.6.9"
  }
 },
 "nbformat": 4,
 "nbformat_minor": 4
}
