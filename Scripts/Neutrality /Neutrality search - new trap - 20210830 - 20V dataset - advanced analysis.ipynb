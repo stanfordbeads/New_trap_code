{
 "cells": [
  {
   "cell_type": "code",
   "execution_count": 1,
   "metadata": {},
   "outputs": [],
   "source": [
    "%run /home/analysis_user/New_trap_code/Tools/basic_packages.py"
   ]
  },
  {
   "cell_type": "code",
   "execution_count": 2,
   "metadata": {},
   "outputs": [],
   "source": [
    "%matplotlib widget"
   ]
  },
  {
   "cell_type": "markdown",
   "metadata": {},
   "source": [
    "### Discharge data"
   ]
  },
  {
   "cell_type": "code",
   "execution_count": 26,
   "metadata": {},
   "outputs": [],
   "source": [
    "ll = likelihood_analyser.LikelihoodAnalyser()\n",
    "bandwidth = 1\n",
    "decimate = 10\n",
    "drive_freq = 71\n",
    "fsamp = 5000\n",
    "def func1_scale(i):\n",
    "    \n",
    "    bb = step_cal_files[i]\n",
    "        \n",
    "#     freq2 = np.fft.rfftfreq(len(bb.electrode_data[0]), d=1./5000)\n",
    "#     fft_angles = np.angle(np.fft.rfft(bb.electrode_data[0]))\n",
    "#     phi_tmp2 = (fft_angles[freq2==drive_freq]+np.pi/2)%(2*np.pi)\n",
    "#     print(phi_tmp2,np.std(bb.electrode_data[0])*np.sqrt(2))\n",
    "\n",
    "    fit_kwargs = {'A': 0, 'f': drive_freq, 'phi': 0, \n",
    "                  'error_A': 1, 'error_f': 1, 'error_phi': 0.5, 'errordef': 1,\n",
    "                  'limit_phi': [-2 * np.pi, 2 * np.pi], \n",
    "                  'limit_A': [-1000, 1000], \n",
    "                  'print_level': 0, 'fix_f': True, 'fix_phi': True}\n",
    "\n",
    "    frequency = fit_kwargs['f']\n",
    "\n",
    "    b, a = signal.butter(3, [2.*(drive_freq-bandwidth/2.)/fsamp, 2.*(drive_freq+bandwidth/2.)/fsamp ], btype = 'bandpass')\n",
    "    xx2 = signal.filtfilt(b, a, bb.x2)[::decimate]\n",
    "    \n",
    "    m1_tmp = ll.find_mle_sin(xx2, fsamp=5000/decimate, noise_rms=1, plot=False, suppress_print=True, **fit_kwargs)\n",
    "    \n",
    "    return m1_tmp.values[0]"
   ]
  },
  {
   "cell_type": "code",
   "execution_count": 5,
   "metadata": {},
   "outputs": [
    {
     "name": "stderr",
     "output_type": "stream",
     "text": [
      "100%|██████████| 185/185 [00:04<00:00, 39.94it/s]"
     ]
    },
    {
     "name": "stdout",
     "output_type": "stream",
     "text": [
      "185  files in folder\n",
      "185  files loaded\n"
     ]
    },
    {
     "name": "stderr",
     "output_type": "stream",
     "text": [
      "\n"
     ]
    }
   ],
   "source": [
    "step_cal_dir = r'/data/new_trap/20210830/Bead1/Discharge/FineDischarge/'\n",
    "step_cal_files = load_dir(step_cal_dir, start_file=0)"
   ]
  },
  {
   "cell_type": "code",
   "execution_count": 22,
   "metadata": {},
   "outputs": [
    {
     "name": "stdout",
     "output_type": "stream",
     "text": [
      "0 / 185\n",
      "[0.07216374] 0.05004696352452862\n",
      "1 / 185\n",
      "[0.07218011] 0.05004674261804184\n",
      "2 / 185\n",
      "[0.07217364] 0.05004664610410522\n",
      "3 / 185\n",
      "[0.07219365] 0.05004697284574258\n",
      "4 / 185\n",
      "[0.07219079] 0.050046528696682864\n",
      "5 / 185\n",
      "[0.07219249] 0.050046733284185005\n",
      "6 / 185\n",
      "[0.07221319] 0.05004681596322339\n",
      "7 / 185\n",
      "[0.07223124] 0.05004672905591215\n",
      "8 / 185\n",
      "[0.07222904] 0.05004656813982753\n",
      "9 / 185\n",
      "[0.07222753] 0.05004692924467627\n",
      "10 / 185\n",
      "[0.07222463] 0.050046983363467364\n",
      "11 / 185\n",
      "[0.07225377] 0.050046594234892855\n",
      "12 / 185\n",
      "[0.07225198] 0.050046846698829875\n",
      "13 / 185\n",
      "[0.07223048] 0.05004707515321758\n",
      "14 / 185\n",
      "[0.07223096] 0.05004684113100025\n",
      "15 / 185\n",
      "[0.07213118] 0.050046489889492105\n",
      "16 / 185\n",
      "[0.0721514] 0.05004654773486393\n",
      "17 / 185\n",
      "[0.07216683] 0.05004690868597997\n",
      "18 / 185\n",
      "[0.07216085] 0.050046393547231255\n",
      "19 / 185\n",
      "[0.07216514] 0.05004671808595284\n",
      "20 / 185\n",
      "[0.07216004] 0.05004681631103741\n",
      "21 / 185\n",
      "[0.07215716] 0.050046393634943384\n",
      "22 / 185\n",
      "[0.07216653] 0.05004636430981544\n",
      "23 / 185\n",
      "[0.07217415] 0.05004675855474713\n",
      "24 / 185\n",
      "[0.07217902] 0.05004648719964242\n",
      "25 / 185\n",
      "[0.07218509] 0.05004620284880925\n",
      "26 / 185\n",
      "[0.07217691] 0.05004632071372333\n",
      "27 / 185\n",
      "[0.07216947] 0.050046625426687405\n",
      "28 / 185\n",
      "[0.0721708] 0.050046957496455026\n",
      "29 / 185\n",
      "[0.07217936] 0.050046468394532015\n",
      "30 / 185\n",
      "[0.07219629] 0.05004628334327601\n",
      "31 / 185\n",
      "[0.07220587] 0.05004678900316415\n",
      "32 / 185\n",
      "[0.07222566] 0.050046676455958755\n",
      "33 / 185\n",
      "[0.07223265] 0.05004657661208476\n",
      "34 / 185\n",
      "[0.0722119] 0.050046880743352604\n",
      "35 / 185\n",
      "[0.0721924] 0.05004658862517544\n",
      "36 / 185\n",
      "[0.07221801] 0.05004653150563908\n",
      "37 / 185\n",
      "[0.07222021] 0.05004649340189414\n",
      "38 / 185\n",
      "[0.07221756] 0.05004639868124868\n",
      "39 / 185\n",
      "[0.07223038] 0.05004644405614049\n",
      "40 / 185\n",
      "[0.0722257] 0.050046594843551714\n",
      "41 / 185\n",
      "[0.07222937] 0.050047019269568345\n",
      "42 / 185\n",
      "[0.07222924] 0.050046674024547856\n",
      "43 / 185\n",
      "[0.07222513] 0.050046475657449206\n",
      "44 / 185\n",
      "[0.07221521] 0.050046633131107576\n",
      "45 / 185\n",
      "[0.07223951] 0.050046706154063855\n",
      "46 / 185\n",
      "[0.07224415] 0.050046678285967906\n",
      "47 / 185\n",
      "[0.07223951] 0.050046531536568545\n",
      "48 / 185\n",
      "[0.07223783] 0.050046383205043024\n",
      "49 / 185\n",
      "[0.07222872] 0.05004651410267681\n",
      "50 / 185\n",
      "[0.07223595] 0.05004662730125859\n",
      "51 / 185\n",
      "[0.07222348] 0.050046156284411336\n",
      "52 / 185\n",
      "[0.07224405] 0.05004598097106233\n",
      "53 / 185\n",
      "[0.07224357] 0.05004620437010039\n",
      "54 / 185\n",
      "[0.07223984] 0.05004674894915941\n",
      "55 / 185\n",
      "[0.07223319] 0.0500467801904991\n",
      "56 / 185\n",
      "[0.07223853] 0.0500459933773944\n",
      "57 / 185\n",
      "[0.07223081] 0.05004636654812692\n",
      "58 / 185\n",
      "[0.07221799] 0.05004607916539124\n",
      "59 / 185\n",
      "[0.07223713] 0.05004650524274297\n",
      "60 / 185\n",
      "[0.072222] 0.050046756008996135\n",
      "61 / 185\n",
      "[0.07223511] 0.05004661412335834\n",
      "62 / 185\n",
      "[0.07224341] 0.050046520999477026\n",
      "63 / 185\n",
      "[0.07222952] 0.05004651827084649\n",
      "64 / 185\n",
      "[0.07224207] 0.05004671763352276\n",
      "65 / 185\n",
      "[0.07223927] 0.05004644376581256\n",
      "66 / 185\n",
      "[0.0722475] 0.05004675437793178\n",
      "67 / 185\n",
      "[0.07224131] 0.05004675872886529\n",
      "68 / 185\n",
      "[0.07223818] 0.050047166482196655\n",
      "69 / 185\n",
      "[0.07223868] 0.05004661674489944\n",
      "70 / 185\n",
      "[0.07224852] 0.05004651848025093\n",
      "71 / 185\n",
      "[0.07224917] 0.05004652741670484\n",
      "72 / 185\n",
      "[0.07227397] 0.05004682967496335\n",
      "73 / 185\n",
      "[0.07227231] 0.05004716993649843\n",
      "74 / 185\n",
      "[0.07227178] 0.050046690656695356\n",
      "75 / 185\n",
      "[0.07226706] 0.0500465406825912\n",
      "76 / 185\n",
      "[0.0722817] 0.05004644658594998\n",
      "77 / 185\n",
      "[0.07226517] 0.050046285428457286\n",
      "78 / 185\n",
      "[0.07226205] 0.05004635370279011\n",
      "79 / 185\n",
      "[0.07227113] 0.05004641805491794\n",
      "80 / 185\n",
      "[0.07227729] 0.050046961132911884\n",
      "81 / 185\n",
      "[0.07226305] 0.05004668929128577\n",
      "82 / 185\n",
      "[0.07227783] 0.05004694477253822\n",
      "83 / 185\n",
      "[0.07228917] 0.05004654814346965\n",
      "84 / 185\n",
      "[0.07228297] 0.05004671389856612\n",
      "85 / 185\n",
      "[0.07225188] 0.05004677334872213\n",
      "86 / 185\n",
      "[0.07226402] 0.050047137133617116\n",
      "87 / 185\n",
      "[0.07226185] 0.05004651526703281\n",
      "88 / 185\n",
      "[0.07225696] 0.05004685507553058\n",
      "89 / 185\n",
      "[0.07228147] 0.05004691102160212\n",
      "90 / 185\n",
      "[0.07226497] 0.050046823940147055\n",
      "91 / 185\n",
      "[0.07225241] 0.05004672629696355\n",
      "92 / 185\n",
      "[0.07227095] 0.0500467311972176\n",
      "93 / 185\n",
      "[0.07227716] 0.05004662948901618\n",
      "94 / 185\n",
      "[0.07228078] 0.05004686355215943\n",
      "95 / 185\n",
      "[0.07228294] 0.05004668213661858\n",
      "96 / 185\n",
      "[0.07228653] 0.050046646338370124\n",
      "97 / 185\n",
      "[0.07225635] 0.05004683464808767\n",
      "98 / 185\n",
      "[0.07224619] 0.050046726663827826\n",
      "99 / 185\n",
      "[0.07224251] 0.05004671105593905\n",
      "100 / 185\n",
      "[0.07223945] 0.05004666107584651\n",
      "101 / 185\n",
      "[0.07224294] 0.050046674280878195\n",
      "102 / 185\n",
      "[0.07223055] 0.05004699857575543\n",
      "103 / 185\n",
      "[0.07223368] 0.050047048600426684\n",
      "104 / 185\n",
      "[0.07222371] 0.05004676005369899\n",
      "105 / 185\n",
      "[0.07224697] 0.050046464538343036\n",
      "106 / 185\n",
      "[0.07224375] 0.050046695701711656\n",
      "107 / 185\n",
      "[0.07223261] 0.05004693497195827\n",
      "108 / 185\n",
      "[0.07225245] 0.05004658657494203\n",
      "109 / 185\n",
      "[0.07225633] 0.05004667419267485\n",
      "110 / 185\n",
      "[0.072256] 0.05004674374581605\n",
      "111 / 185\n",
      "[0.07225262] 0.05004674703395854\n",
      "112 / 185\n",
      "[0.07225859] 0.05004650410515315\n",
      "113 / 185\n",
      "[0.07225818] 0.05004701259512329\n",
      "114 / 185\n",
      "[0.07225841] 0.05004646004926716\n",
      "115 / 185\n",
      "[0.07225402] 0.05004694375940985\n",
      "116 / 185\n",
      "[0.07226121] 0.05004664545643403\n",
      "117 / 185\n",
      "[0.07224889] 0.05004687224527591\n",
      "118 / 185\n",
      "[0.07226352] 0.050046707027357876\n",
      "119 / 185\n",
      "[0.07227405] 0.050046367554619824\n",
      "120 / 185\n",
      "[0.07225722] 0.05004676999853974\n",
      "121 / 185\n",
      "[0.07225988] 0.050046671109347324\n",
      "122 / 185\n",
      "[0.07227297] 0.05004687862453384\n",
      "123 / 185\n",
      "[0.07229011] 0.050046412413056664\n",
      "124 / 185\n",
      "[0.07225363] 0.050046553537855455\n",
      "125 / 185\n",
      "[0.0722728] 0.05004667722102424\n",
      "126 / 185\n",
      "[0.07228139] 0.050046926116671345\n",
      "127 / 185\n",
      "[0.07226314] 0.050046860042240286\n",
      "128 / 185\n",
      "[0.07226193] 0.05004649468589136\n",
      "129 / 185\n",
      "[0.07226209] 0.050046923412558224\n",
      "130 / 185\n",
      "[0.07227841] 0.050046902479652114\n",
      "131 / 185\n",
      "[0.07226816] 0.05004688515907291\n",
      "132 / 185\n",
      "[0.07225073] 0.05004676268691144\n",
      "133 / 185\n",
      "[0.07224545] 0.05004684098370976\n",
      "134 / 185\n",
      "[0.07224783] 0.05004687134581102\n",
      "135 / 185\n",
      "[0.07221827] 0.05004669326900936\n",
      "136 / 185\n",
      "[0.07223953] 0.05004654065190436\n",
      "137 / 185\n",
      "[0.07224405] 0.050046755482123916\n",
      "138 / 185\n",
      "[0.07226288] 0.050046688327372864\n",
      "139 / 185\n",
      "[0.07223829] 0.0500469970614255\n",
      "140 / 185\n",
      "[0.07221516] 0.05004702259934968\n",
      "141 / 185\n",
      "[0.07222351] 0.050046476352918125\n",
      "142 / 185\n",
      "[0.07222677] 0.05004719476401971\n",
      "143 / 185\n",
      "[0.07222682] 0.050046806904929665\n",
      "144 / 185\n",
      "[0.07223063] 0.05004685023016415\n",
      "145 / 185\n",
      "[0.07223767] 0.05004680967635387\n",
      "146 / 185\n",
      "[0.07223132] 0.05004698164254263\n",
      "147 / 185\n",
      "[0.07222508] 0.050046618076722324\n",
      "148 / 185\n",
      "[0.07222363] 0.05004684504920283\n",
      "149 / 185\n",
      "[0.07221838] 0.050046897202865155\n",
      "150 / 185\n",
      "[0.07223412] 0.05004668251235022\n",
      "151 / 185\n",
      "[0.07222164] 0.05004705091238848\n",
      "152 / 185\n",
      "[0.07222328] 0.05004638635751203\n",
      "153 / 185\n",
      "[0.07224175] 0.05004652495568595\n",
      "154 / 185\n",
      "[0.07224034] 0.050046650152773695\n",
      "155 / 185\n",
      "[0.07224666] 0.050047092987799226\n",
      "156 / 185\n",
      "[0.07223728] 0.05004690164279294\n",
      "157 / 185\n",
      "[0.07226156] 0.05004661501399028\n",
      "158 / 185\n",
      "[0.072245] 0.05004688318977222\n",
      "159 / 185\n",
      "[0.07225232] 0.05004713948737495\n",
      "160 / 185\n",
      "[0.07225347] 0.05004722181032766\n",
      "161 / 185\n",
      "[0.07226305] 0.05004701458294983\n",
      "162 / 185\n",
      "[0.07226135] 0.05004685641154314\n",
      "163 / 185\n",
      "[0.07224468] 0.05004688373668605\n",
      "164 / 185\n",
      "[0.07225256] 0.05004660184345192\n",
      "165 / 185\n",
      "[0.07224998] 0.050046996833691494\n",
      "166 / 185\n",
      "[0.07225716] 0.05004682496454998\n",
      "167 / 185\n",
      "[0.07225089] 0.05004677095414757\n",
      "168 / 185\n",
      "[0.07224931] 0.05004689392502856\n",
      "169 / 185\n",
      "[0.07226049] 0.050047090379798244\n",
      "170 / 185\n",
      "[0.0722814] 0.05004681231142405\n",
      "171 / 185\n",
      "[0.07227749] 0.05004702015461341\n",
      "172 / 185\n",
      "[0.0722822] 0.05004733236346483\n",
      "173 / 185\n",
      "[0.07229032] 0.050046630980539394\n",
      "174 / 185\n",
      "[0.07226001] 0.05004708350620877\n",
      "175 / 185\n",
      "[0.07225368] 0.050047239457733844\n",
      "176 / 185\n",
      "[0.07228005] 0.050046737576204925\n",
      "177 / 185\n",
      "[0.07227261] 0.050046923922959397\n",
      "178 / 185\n",
      "[0.07226269] 0.0500469065350423\n",
      "179 / 185\n",
      "[0.07226764] 0.05004705362893889\n",
      "180 / 185\n",
      "[0.07226517] 0.050047181004391345\n",
      "181 / 185\n",
      "[0.07226348] 0.0500470714327813\n",
      "182 / 185\n",
      "[0.0722781] 0.050046771770702055\n",
      "183 / 185\n",
      "[0.07226735] 0.05004715041543741\n",
      "184 / 185\n",
      "[0.07227273] 0.05004728564882627\n"
     ]
    }
   ],
   "source": [
    "amps3 = []\n",
    "for i in range(len(step_cal_files)):\n",
    "    print(i,'/',len(step_cal_files))\n",
    "    amps3.append(func1_scale(i))"
   ]
  },
  {
   "cell_type": "code",
   "execution_count": 40,
   "metadata": {},
   "outputs": [
    {
     "name": "stdout",
     "output_type": "stream",
     "text": [
      "Scale is  4.17335521797213e-05\n",
      "voltage:  5.004728564882627\n"
     ]
    }
   ],
   "source": [
    "scale = np.abs(np.mean(amps3[120:125])/5)\n",
    "print(\"Scale is \", scale)\n",
    "bb = step_cal_files[-1]\n",
    "voltage = np.std(bb.electrode_data[0])*np.sqrt(2)*100\n",
    "print(\"voltage: \", voltage)"
   ]
  },
  {
   "cell_type": "code",
   "execution_count": 41,
   "metadata": {},
   "outputs": [
    {
     "data": {
      "application/vnd.jupyter.widget-view+json": {
       "model_id": "2fdb2cfbb88a46e9a464b6b8bd19e0f9",
       "version_major": 2,
       "version_minor": 0
      },
      "text/plain": [
       "Canvas(toolbar=Toolbar(toolitems=[('Home', 'Reset original view', 'home', 'home'), ('Back', 'Back to previous …"
      ]
     },
     "metadata": {},
     "output_type": "display_data"
    }
   ],
   "source": [
    "# amps = np.array(amps)\n",
    "amps3 = np.array(amps3)\n",
    "_,ax = plt.subplots()\n",
    "# scale = -3.54295075496134e-05\n",
    "\n",
    "# Perrinf\n",
    "ax.scatter(range(len(amps3)), amps3/scale, label='fit phase')\n",
    "\n",
    "ax.set(xlabel='dataset', ylabel='Electron charges', ylim=(-3,6.5), xlim=(117,185))\n",
    "ax.grid(axis='y')\n",
    "ax.minorticks_on()\n",
    "ax.grid(which='major', linestyle='-', linewidth='0.5', color='red')\n",
    "ax.grid(which='minor', linestyle=':', linewidth='0.5', color='black')\n",
    "# ax.legend()\n",
    "from matplotlib.ticker import MaxNLocator\n",
    "ax.yaxis.set_major_locator(MaxNLocator(integer=True))"
   ]
  },
  {
   "cell_type": "code",
   "execution_count": 68,
   "metadata": {},
   "outputs": [],
   "source": [
    "ll = likelihood_analyser.LikelihoodAnalyser()\n",
    "bandwidth = 1\n",
    "decimate = 10\n",
    "drive_freq = 71\n",
    "\n",
    "def get_amp(i, foldername):\n",
    "    \n",
    "    fname =foldername+'/Discharge_'+str(i)+'.h5'\n",
    "    bb = BeadDataFile.BeadDataFile(fname=fname)\n",
    "\n",
    "    drive_freq = 71+1\n",
    "    fit_kwargs = {'A': 0, 'f': drive_freq, 'phi': 0, \n",
    "                  'error_A': 1, 'error_f': 1, 'error_phi': 0.5, 'errordef': 1,\n",
    "                  'limit_phi': [-2 * np.pi, 2 * np.pi], \n",
    "                  'limit_A': [-1, 1], \n",
    "                  'print_level': 0, 'fix_f': True, 'fix_phi': True}\n",
    "\n",
    "    fit_kwargs = {'A': 0, 'f': drive_freq, 'phi': 0, 'sigma': 0.1,\n",
    "                  'error_A': 1, 'error_f': 1, 'error_phi': 0.5, 'errordef': 1, 'error_sigma':0.1,\n",
    "                  'limit_phi': [-2 * np.pi, 2 * np.pi], 'limit_sigma': [0, 1],\n",
    "                  'limit_A': [-100, 100], \n",
    "                  'print_level': 0, 'fix_f': True, 'fix_phi': True}\n",
    "\n",
    "    b, a = signal.butter(3, [2.*(drive_freq-bandwidth/2.)/fsamp, 2.*(drive_freq+bandwidth/2.)/fsamp ], btype = 'bandpass')\n",
    "    xx2 = signal.filtfilt(b, a, bb.x2)[::decimate]\n",
    "    \n",
    "    m1_tmp = ll.find_mle_sin(xx2, fsamp=5000/decimate, noise_rms=1, plot=False, suppress_print=True, **fit_kwargs)\n",
    "    \n",
    "    drive_freq = 142+1\n",
    "    fit_kwargs = {'A': 0, 'f': drive_freq, 'phi': np.pi/2, 'sigma': 0.1,\n",
    "              'error_A': 1, 'error_f': 1, 'error_phi': 0.5, 'errordef': 1, 'error_sigma':0.1,\n",
    "              'limit_phi': [-2 * np.pi, 2 * np.pi], 'limit_sigma': [0, 1],\n",
    "              'limit_A': [-100, 100], \n",
    "              'print_level': 0, 'fix_f': True, 'fix_phi': True}\n",
    "\n",
    "    b, a = signal.butter(3, [2.*(drive_freq-bandwidth/2.)/fsamp, 2.*(drive_freq+bandwidth/2.)/fsamp ], btype = 'bandpass')\n",
    "    xx2 = signal.filtfilt(b, a, bb.x2)[::decimate]\n",
    "    \n",
    "    m2_tmp = ll.find_mle_sin(xx2, fsamp=5000/decimate, noise_rms=1, plot=False, suppress_print=True, **fit_kwargs)\n",
    "    \n",
    "    return m1_tmp.values[0], m1_tmp.values[3], m2_tmp.values[0]"
   ]
  },
  {
   "cell_type": "code",
   "execution_count": 29,
   "metadata": {},
   "outputs": [
    {
     "data": {
      "text/plain": [
       "array([-0.03803174,  8.7415255 ,  0.04518386])"
      ]
     },
     "execution_count": 29,
     "metadata": {},
     "output_type": "execute_result"
    }
   ],
   "source": [
    "i=0\n",
    "foldername = r'/data/new_trap/20210830/Bead1/Neutrality/20V_100V_YZspin_98p98kHz_20210901/'\n",
    "get_amp(i, foldername=foldername)/scale"
   ]
  },
  {
   "cell_type": "code",
   "execution_count": 37,
   "metadata": {},
   "outputs": [
    {
     "name": "stdout",
     "output_type": "stream",
     "text": [
      "voltages, bias:  10.004629671441691 0.019457077173451576\n"
     ]
    }
   ],
   "source": [
    "i = 4\n",
    "fname = r'/data/new_trap/20210830/Bead1/Neutrality/20V_100V_YZspin_98p98kHz_20210901/Discharge_'+str(i)+'.h5'\n",
    "bb = BeadDataFile.BeadDataFile(fname=fname)\n",
    "voltage0_20 = np.std(bb.electrode_data[0])*np.sqrt(2)*100\n",
    "voltage1_20 = np.std(bb.electrode_data[1])*np.sqrt(2)*100\n",
    "bias2 = np.mean(bb.electrode_data[0])*100\n",
    "print(\"voltages, bias: \", voltage0_20, voltage1_20)"
   ]
  },
  {
   "cell_type": "code",
   "execution_count": 42,
   "metadata": {},
   "outputs": [
    {
     "data": {
      "text/plain": [
       "(5.004728564882627, 10.004629671441691)"
      ]
     },
     "execution_count": 42,
     "metadata": {},
     "output_type": "execute_result"
    }
   ],
   "source": [
    "voltage, voltage0_20"
   ]
  },
  {
   "cell_type": "code",
   "execution_count": 43,
   "metadata": {
    "scrolled": true
   },
   "outputs": [
    {
     "name": "stderr",
     "output_type": "stream",
     "text": [
      "100%|██████████| 7600/7600 [01:38<00:00, 76.59it/s] \n"
     ]
    }
   ],
   "source": [
    "foldername = r'/data/new_trap/20210830/Bead1/Neutrality/20V_100V_YZspin_98p98kHz_20210901/'\n",
    "amps3_data_20V_1 = np.array(Parallel(n_jobs=40)(delayed(get_amp)(i, foldername) for i in tqdm(range(7600))))"
   ]
  },
  {
   "cell_type": "code",
   "execution_count": 44,
   "metadata": {},
   "outputs": [],
   "source": [
    "base_folder =  r'/data/new_trap/20210830/Bead1/Neutrality'\n",
    "fnames = [base_folder+'/20V_100V_YZspin_98p98kHz_20210901/',\n",
    "          base_folder+'/20V_100V_YZspin_98p98kHz_20210903/',\n",
    "          base_folder+'/20V_100V_YZspin_98p98kHz_20210904/',\n",
    "          base_folder+'/20V_100V_YZspin_98p98kHz_20210905/']\n",
    "\n",
    "files = [7600, 1380, 7220, 3700]"
   ]
  },
  {
   "cell_type": "code",
   "execution_count": 69,
   "metadata": {},
   "outputs": [
    {
     "name": "stderr",
     "output_type": "stream",
     "text": [
      "100%|██████████| 7600/7600 [01:32<00:00, 90.14it/s] \n",
      "100%|██████████| 1380/1380 [00:17<00:00, 78.64it/s]\n",
      "100%|██████████| 7220/7220 [01:21<00:00, 88.82it/s] \n",
      "100%|██████████| 3700/3700 [00:36<00:00, 102.53it/s]\n"
     ]
    }
   ],
   "source": [
    "ams_neutrality_noise = []\n",
    "for i_folder in range(len(files)):\n",
    "    amps_tmp = np.array(Parallel(n_jobs=40)(delayed(get_amp)(i, fnames[i_folder]) for i in tqdm(range((files[i_folder])))))\n",
    "    ams_neutrality_noise += list(np.array(amps_tmp))\n",
    "ams_neutrality_noise = np.array(ams_neutrality_noise)"
   ]
  },
  {
   "cell_type": "markdown",
   "metadata": {},
   "source": [
    "### Plot raw data"
   ]
  },
  {
   "cell_type": "code",
   "execution_count": 46,
   "metadata": {},
   "outputs": [
    {
     "data": {
      "application/vnd.jupyter.widget-view+json": {
       "model_id": "c9cdcdbba80748e4a972797abc848e3d",
       "version_major": 2,
       "version_minor": 0
      },
      "text/plain": [
       "Canvas(toolbar=Toolbar(toolitems=[('Home', 'Reset original view', 'home', 'home'), ('Back', 'Back to previous …"
      ]
     },
     "metadata": {},
     "output_type": "display_data"
    },
    {
     "data": {
      "text/plain": [
       "<matplotlib.legend.Legend at 0x7f655e0da9e8>"
      ]
     },
     "execution_count": 46,
     "metadata": {},
     "output_type": "execute_result"
    }
   ],
   "source": [
    "##\n",
    "i=0; j=1\n",
    "_,ax = plt.subplots()\n",
    "dat = ams_neutrality\n",
    "ax.scatter(dat[::4,i], dat[::4,j],label='positive electrode')\n",
    "ax.scatter(dat[2::4,i], dat[2::4,j], label='negative electrode')\n",
    "ax.set(xlabel='amplitude', ylabel='noise parameter')\n",
    "ax.legend()"
   ]
  },
  {
   "cell_type": "code",
   "execution_count": 72,
   "metadata": {
    "scrolled": false
   },
   "outputs": [
    {
     "data": {
      "application/vnd.jupyter.widget-view+json": {
       "model_id": "9d174efe0cf7464085fd58fa54435090",
       "version_major": 2,
       "version_minor": 0
      },
      "text/plain": [
       "Canvas(toolbar=Toolbar(toolitems=[('Home', 'Reset original view', 'home', 'home'), ('Back', 'Back to previous …"
      ]
     },
     "metadata": {},
     "output_type": "display_data"
    },
    {
     "name": "stdout",
     "output_type": "stream",
     "text": [
      "mean:  0.00018623256679479842 std:  0.0004494098180695245\n",
      "mean:  0.0001412413331960206 std:  0.0004213356325507815\n",
      "0.0003274738999908192 0.0006116450053981934\n"
     ]
    }
   ],
   "source": [
    "data0 = ams_neutrality[:,0]/scale*voltage/voltage0_20\n",
    "factor = 1\n",
    "dataPlus=np.array(list(data0[0::4]))\n",
    "dataMinus=np.array(list(data0[2::4]))\n",
    "data_A = dataPlus+factor*dataMinus\n",
    "\n",
    "data0_noise = ams_neutrality_noise[:,0]/scale*voltage/voltage0_20\n",
    "dataPlus_noise=np.array(list(data0_noise[0::4]))\n",
    "dataMinus_noise=np.array(list(data0_noise[2::4]))\n",
    "data_A_noise = dataPlus_noise+factor*dataMinus_noise\n",
    "\n",
    "\n",
    "_, ax= plt.subplots(figsize=(9.5,4))\n",
    "ax.scatter(np.arange(len(dataPlus)), dataPlus, label='Y-axis/, plus, 200V, XZ-spin-46kHz, with-height-fb')\n",
    "ax.scatter(np.arange(len(dataMinus)), dataMinus, label='Y-axis, minus, 200V, XZ-spin-46kHz, with-height-fb')\n",
    "ax.plot(np.arange(0,len(dataPlus)), np.arange(0,len(dataPlus))*0, '--k')\n",
    "ax.set(xlabel='Dataset', ylabel=r'$\\epsilon$')\n",
    "ax.legend()\n",
    "print('mean: ', np.mean(dataPlus), 'std: ', np.std(dataPlus)/np.sqrt(len(dataPlus)))\n",
    "print('mean: ', np.mean(dataMinus), 'std: ', np.std(dataMinus)/np.sqrt(len(dataMinus)))\n",
    "print(np.mean(data_A), np.std(data_A/np.sqrt(len(data_A))))"
   ]
  },
  {
   "cell_type": "code",
   "execution_count": 77,
   "metadata": {},
   "outputs": [
    {
     "name": "stderr",
     "output_type": "stream",
     "text": [
      "/home/analysis_user/.local/lib/python3.6/site-packages/ipykernel_launcher.py:9: RuntimeWarning: More than 20 figures have been opened. Figures created through the pyplot interface (`matplotlib.pyplot.figure`) are retained until explicitly closed and may consume too much memory. (To control this warning, see the rcParam `figure.max_open_warning`).\n",
      "  if __name__ == '__main__':\n"
     ]
    },
    {
     "data": {
      "application/vnd.jupyter.widget-view+json": {
       "model_id": "743bbdb2ea5041739957123992a7dbf9",
       "version_major": 2,
       "version_minor": 0
      },
      "text/plain": [
       "Canvas(toolbar=Toolbar(toolitems=[('Home', 'Reset original view', 'home', 'home'), ('Back', 'Back to previous …"
      ]
     },
     "metadata": {},
     "output_type": "display_data"
    },
    {
     "name": "stdout",
     "output_type": "stream",
     "text": [
      "1st harmonic, A parameter: mean, std:  0.0003274738999908192 0.0006116450053981932\n",
      "1st harmonic, A-shifted: mean, std:  0.0003246082888475219 0.0005396854659370785\n"
     ]
    }
   ],
   "source": [
    "N = len(dataMinus)\n",
    "\n",
    "data_shifted = np.array([(dataMinus[i]+dataMinus[i-1])/2 for i in range(1,N)])\n",
    "data3_A_shifted = data_shifted+factor*dataPlus[:-1]\n",
    "\n",
    "data_shifted_noise = np.array([(dataMinus_noise[i]+dataMinus_noise[i-1])/2 for i in range(1,N)])\n",
    "data3_A_shifted_noise = data_shifted_noise+factor*dataPlus_noise[:-1]\n",
    "\n",
    "_, ax= plt.subplots(figsize=(9.5,4))\n",
    "ax.scatter(np.arange(len(data_A))*2*10/3600, data_A, label='20Vpp-z-plus, new trap')\n",
    "ax.scatter(np.arange(len(data3_A_shifted))*2*10/3600, data3_A_shifted, label='20Vpp-z, A parameter corrected', alpha=0.6)\n",
    "\n",
    "ax.plot(np.arange(len(data_A))*2*10/3600, np.arange(len(data_A))*0, '--k')\n",
    "ax.set(xlabel='Integration time [hr.]', ylabel=r'$\\epsilon$')\n",
    "ax.legend()\n",
    "print('1st harmonic, A parameter: mean, std: ', np.mean(data_A), np.std(data_A)/np.sqrt(len(data_A)))\n",
    "print('1st harmonic, A-shifted: mean, std: ', np.mean(data3_A_shifted), np.std(data3_A_shifted)/np.sqrt(len(data3_A_shifted)))\n"
   ]
  },
  {
   "cell_type": "code",
   "execution_count": 78,
   "metadata": {},
   "outputs": [
    {
     "data": {
      "text/plain": [
       "27.63888888888889"
      ]
     },
     "execution_count": 78,
     "metadata": {},
     "output_type": "execute_result"
    }
   ],
   "source": [
    "len(dataPlus)*2*10/3600"
   ]
  },
  {
   "cell_type": "code",
   "execution_count": 74,
   "metadata": {},
   "outputs": [
    {
     "data": {
      "text/plain": [
       "(2, 4974)"
      ]
     },
     "execution_count": 74,
     "metadata": {},
     "output_type": "execute_result"
    }
   ],
   "source": [
    "epsilon_array = np.array([data3_A_shifted, data3_A_shifted_noise])\n",
    "epsilon_array.shape"
   ]
  },
  {
   "cell_type": "code",
   "execution_count": 75,
   "metadata": {},
   "outputs": [],
   "source": [
    "np.save(\"epslion_new_trap_bead_20210830\", epsilon_array)"
   ]
  },
  {
   "cell_type": "code",
   "execution_count": 65,
   "metadata": {},
   "outputs": [
    {
     "data": {
      "application/vnd.jupyter.widget-view+json": {
       "model_id": "410acf47273f405da5533f1c37f4142a",
       "version_major": 2,
       "version_minor": 0
      },
      "text/plain": [
       "Canvas(toolbar=Toolbar(toolitems=[('Home', 'Reset original view', 'home', 'home'), ('Back', 'Back to previous …"
      ]
     },
     "metadata": {},
     "output_type": "display_data"
    },
    {
     "data": {
      "text/plain": [
       "<matplotlib.legend.Legend at 0x7f655e17c898>"
      ]
     },
     "execution_count": 65,
     "metadata": {},
     "output_type": "execute_result"
    }
   ],
   "source": [
    "from scipy.optimize import curve_fit\n",
    "from scipy import asarray as ar,exp\n",
    "\n",
    "data_hist = dataPlus+factor*dataMinus\n",
    "range_pram = 0.1\n",
    "data_hist = np.array(list(data3_A_shifted))\n",
    "_,ax = plt.subplots()\n",
    "entries, bins, patches = ax.hist(data_hist, bins=31, range=(-range_pram, range_pram), label='200V-x, xz-spin-100V')\n",
    "ax.set(xlabel=r'$\\epsilon$')\n",
    "ax.legend()"
   ]
  },
  {
   "cell_type": "code",
   "execution_count": 66,
   "metadata": {},
   "outputs": [
    {
     "name": "stdout",
     "output_type": "stream",
     "text": [
      "mean:  0.00039284539400276223 cov:  0.0004496253230221058\n",
      "mean:  -0.00045357986882582613 std:  -0.031989441772056024\n"
     ]
    },
    {
     "name": "stderr",
     "output_type": "stream",
     "text": [
      "/home/analysis_user/.local/lib/python3.6/site-packages/ipykernel_launcher.py:19: RuntimeWarning: invalid value encountered in sqrt\n"
     ]
    }
   ],
   "source": [
    "## gaussian fit to the histogram\n",
    "\n",
    "bins_fit =[(bins[i+1]-bins[i])/2+bins[i] for i in range(len(entries))]\n",
    "# bins_fit = bins[:-1]\n",
    "for i,ee in enumerate([entries]):\n",
    "    x = bins_fit\n",
    "    y= ee\n",
    "\n",
    "#     n = len(x)                          #the number of data\n",
    "#     mean = float(0)                  #note this correction\n",
    "#     sigma = sum(y*(x-mean)**2)/n        #note this correction\n",
    "\n",
    "    def gaus(x,a,x0,sigma):\n",
    "        return a*np.exp(-(x-x0)**2/(2*sigma**2))\n",
    "\n",
    "    popt,pcov = curve_fit(gaus,x,y,p0=[400,0,0.1])\n",
    "    ax.plot(x,gaus(x,*popt),'ro:',label='fit')\n",
    "\n",
    "    print(\"mean: \", popt[1], \"cov: \", np.sqrt(pcov)[1,1])\n",
    "    print(\"mean: \", popt[2]/np.sqrt(len(data_hist)), \"std: \", popt[2])"
   ]
  },
  {
   "cell_type": "code",
   "execution_count": 67,
   "metadata": {},
   "outputs": [
    {
     "data": {
      "application/vnd.jupyter.widget-view+json": {
       "model_id": "32257b3111e445688e17f0680ef5bd71",
       "version_major": 2,
       "version_minor": 0
      },
      "text/plain": [
       "Canvas(toolbar=Toolbar(toolitems=[('Home', 'Reset original view', 'home', 'home'), ('Back', 'Back to previous …"
      ]
     },
     "metadata": {},
     "output_type": "display_data"
    },
    {
     "name": "stdout",
     "output_type": "stream",
     "text": [
      "mean:  0.00039284539400276223 std:  0.0004496253230221058\n"
     ]
    },
    {
     "name": "stderr",
     "output_type": "stream",
     "text": [
      "/home/analysis_user/.local/lib/python3.6/site-packages/ipykernel_launcher.py:5: RuntimeWarning: invalid value encountered in sqrt\n",
      "  \"\"\"\n"
     ]
    }
   ],
   "source": [
    "_,ax = plt.subplots()\n",
    "ax.errorbar(bins_fit, entries, yerr=np.sqrt(entries), fmt='o', label='data')\n",
    "ax.plot(x,gaus(x,*popt),'r--',label='fit')\n",
    "ax.legend()\n",
    "print(\"mean: \", popt[1], \"std: \", np.sqrt(pcov)[1,1])"
   ]
  },
  {
   "cell_type": "code",
   "execution_count": null,
   "metadata": {},
   "outputs": [],
   "source": []
  },
  {
   "cell_type": "code",
   "execution_count": null,
   "metadata": {},
   "outputs": [],
   "source": []
  },
  {
   "cell_type": "code",
   "execution_count": null,
   "metadata": {},
   "outputs": [],
   "source": []
  },
  {
   "cell_type": "code",
   "execution_count": null,
   "metadata": {},
   "outputs": [],
   "source": []
  }
 ],
 "metadata": {
  "kernelspec": {
   "display_name": "Python 3",
   "language": "python",
   "name": "python3"
  },
  "language_info": {
   "codemirror_mode": {
    "name": "ipython",
    "version": 3
   },
   "file_extension": ".py",
   "mimetype": "text/x-python",
   "name": "python",
   "nbconvert_exporter": "python",
   "pygments_lexer": "ipython3",
   "version": "3.6.9"
  }
 },
 "nbformat": 4,
 "nbformat_minor": 4
}
