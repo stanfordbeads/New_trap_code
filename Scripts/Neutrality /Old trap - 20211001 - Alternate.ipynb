{
 "cells": [
  {
   "cell_type": "code",
   "execution_count": 2,
   "metadata": {},
   "outputs": [],
   "source": [
    "import numpy as np\n",
    "import matplotlib.pyplot as plt\n",
    "import matplotlib\n",
    "from scipy import signal\n",
    "from scipy.optimize import minimize\n",
    "\n",
    "import random\n",
    "\n",
    "import h5py\n",
    "from IPython.utils import io\n",
    "\n",
    "from joblib import Parallel, delayed\n",
    "from tqdm import tqdm\n",
    "import sys"
   ]
  },
  {
   "cell_type": "code",
   "execution_count": 3,
   "metadata": {},
   "outputs": [],
   "source": [
    "%matplotlib widget\n",
    "\n",
    "%reload_ext autoreload\n",
    "%autoreload 2"
   ]
  },
  {
   "cell_type": "code",
   "execution_count": 4,
   "metadata": {},
   "outputs": [],
   "source": [
    "sys.path.append('../../../../nadavp/new_trap/Tools/')\n",
    "sys.path.append('../../../../nadavp/new_trap/Tools/StatFramework/')\n",
    "sys.path.append('../../../../nadavp/opt_lev_analysis/lib/')\n",
    "import BeadDataFile\n",
    "from discharge_tools import *"
   ]
  },
  {
   "cell_type": "code",
   "execution_count": 5,
   "metadata": {},
   "outputs": [],
   "source": [
    "from likelihood_calculator import likelihood_analyser\n",
    "from likelihood_calculator import GravityFramework\n",
    "from likelihood_calculator import auxiliary_functions as aux\n",
    "gfw = GravityFramework.GravityFramework()"
   ]
  },
  {
   "cell_type": "code",
   "execution_count": 6,
   "metadata": {},
   "outputs": [],
   "source": [
    "import bead_util as bu\n",
    "# import calib_util as cal\n",
    "import transfer_func_util as tf\n",
    "import configuration as config"
   ]
  },
  {
   "cell_type": "markdown",
   "metadata": {},
   "source": [
    "### Discharge data"
   ]
  },
  {
   "cell_type": "code",
   "execution_count": 312,
   "metadata": {},
   "outputs": [],
   "source": [
    "ll = likelihood_analyser.LikelihoodAnalyser()\n",
    "bandwidth = 1\n",
    "decimate = 10\n",
    "drive_freq = 139\n",
    "fsamp = 5000\n",
    "def func1_scale(i):\n",
    "    bb = step_file_objs[i]\n",
    "        \n",
    "    freq2 = np.fft.rfftfreq(len(bb.other_data[5]), d=1./5000)\n",
    "    fft_angles = np.angle(np.fft.rfft(bb.other_data[5]))\n",
    "    phi_tmp2 = (fft_angles[freq2==drive_freq]+np.pi/2)%(2*np.pi)\n",
    "    print(phi_tmp2,np.std(bb.other_data[3])*np.sqrt(2)*100)\n",
    "\n",
    "    fit_kwargs = {'A': 0, 'f': drive_freq, 'phi': phi_tmp2, \n",
    "                  'error_A': 1, 'error_f': 1, 'error_phi': 0.5, 'errordef': 1,\n",
    "                  'limit_A': [-10000, 100000], \n",
    "                  'print_level': 0, 'fix_f': True, 'fix_phi': True}\n",
    "\n",
    "    frequency = fit_kwargs['f']\n",
    "\n",
    "    b, a = signal.butter(3, [2.*(drive_freq-bandwidth/2.)/fsamp, 2.*(drive_freq+bandwidth/2.)/fsamp ], btype = 'bandpass')\n",
    "    bb.load_other_data()\n",
    "    xx2 = signal.filtfilt(b, a, bb.pos_data[1])[::decimate]\n",
    "    \n",
    "    m1_tmp = ll.find_mle_sin(xx2, fsamp=5000/decimate, noise_rms=1, plot=False, suppress_print=True, **fit_kwargs)\n",
    "#     print(m1_tmp.values[2]-phi_tmp2)\n",
    "    return m1_tmp.values[0]"
   ]
  },
  {
   "cell_type": "code",
   "execution_count": 313,
   "metadata": {},
   "outputs": [
    {
     "name": "stdout",
     "output_type": "stream",
     "text": [
      "[ 5.6511399] 0.108518384438\n"
     ]
    },
    {
     "data": {
      "text/plain": [
       "-10000.0"
      ]
     },
     "execution_count": 313,
     "metadata": {},
     "output_type": "execute_result"
    }
   ],
   "source": [
    "func1_scale(0)"
   ]
  },
  {
   "cell_type": "code",
   "execution_count": 326,
   "metadata": {},
   "outputs": [],
   "source": [
    "step_cal_dir = r'/data/old_trap/20211001/bead1/neutrality6/check_charge_both_ratio_y_redo/'\n",
    "max_file = 500"
   ]
  },
  {
   "cell_type": "code",
   "execution_count": 327,
   "metadata": {},
   "outputs": [
    {
     "name": "stdout",
     "output_type": "stream",
     "text": [
      "5\n"
     ]
    }
   ],
   "source": [
    "step_cal_files = []\n",
    "for root, dirnames, filenames in os.walk(step_cal_dir):\n",
    "    for filename in fnmatch.filter(filenames, '*' + config.extensions['data']):\n",
    "        if '_fpga.h5' in filename:\n",
    "            continue\n",
    "        step_cal_files.append(os.path.join(root, filename))\n",
    "step_cal_files.sort(key = bu.find_str)\n",
    "num_calib_files = len(step_cal_files)\n",
    "print(num_calib_files)\n",
    "\n",
    "# Do the step calibration\n",
    "\n",
    "step_file_objs = []\n",
    "for filname in step_cal_files[:]:\n",
    "    try:\n",
    "        df = bu.DataFile();\n",
    "        df.load(filname);\n",
    "        df.load_other_data()\n",
    "        step_file_objs.append(df);\n",
    "    except:\n",
    "        print('***')"
   ]
  },
  {
   "cell_type": "code",
   "execution_count": 328,
   "metadata": {
    "scrolled": true
   },
   "outputs": [
    {
     "name": "stdout",
     "output_type": "stream",
     "text": [
      "0 / 5\n",
      "[ 4.36732124] 96.3314281675\n",
      "1 / 5\n",
      "[ 5.50236155] 96.3319090296\n",
      "2 / 5\n",
      "[ 3.084879] 96.3312877896\n",
      "3 / 5\n",
      "[ 3.21440624] 96.3316183651\n",
      "4 / 5\n",
      "[ 2.67455558] 96.3316819135\n"
     ]
    }
   ],
   "source": [
    "amps2 = []\n",
    "for i in range(num_calib_files):\n",
    "    print(i,'/',len(step_cal_files))\n",
    "    amps2.append(func1_scale(i))"
   ]
  },
  {
   "cell_type": "code",
   "execution_count": 329,
   "metadata": {},
   "outputs": [
    {
     "data": {
      "application/vnd.jupyter.widget-view+json": {
       "model_id": "6609f15362834de3a6c6d68f48d8bb75",
       "version_major": 2,
       "version_minor": 0
      },
      "text/plain": [
       "Canvas(toolbar=Toolbar(toolitems=[('Home', 'Reset original view', 'home', 'home'), ('Back', 'Back to previous …"
      ]
     },
     "metadata": {},
     "output_type": "display_data"
    }
   ],
   "source": [
    "amps = np.array(amps)\n",
    "amps2 = np.array(amps2)\n",
    "# amps1 = np.array(amps1)\n",
    "_,ax = plt.subplots(figsize=(9.5,4))\n",
    "# scale = 375\n",
    "\n",
    "# Perrinf\n",
    "# ax.scatter(range(len(amps3)), amps3/scaleY, label='fit phase', alpha=0.3)\n",
    "ax.scatter(range(len(amps2)), amps2/scaleY, label='fit phase')\n",
    "ax.scatter(range(len(amps)), amps/scaleY, label='fit phase', alpha=0.4)\n",
    "# ax.scatter(range(len(amps1)), amps1/scale, label='fit phase', alpha=0.8)\n",
    "\n",
    "# ax.set(xlabel='dataset', ylabel='electron charges', ylim=(-0.5,6), xlim=(None,None))\n",
    "ax.grid(axis='y')\n",
    "ax.minorticks_on()\n",
    "ax.grid(which='major', linestyle='-', linewidth='0.5', color='red')\n",
    "ax.grid(which='minor', linestyle=':', linewidth='0.5', color='black')\n",
    "# ax.legend()\n",
    "from matplotlib.ticker import MaxNLocator\n",
    "\n",
    "ax.yaxis.set_major_locator(MaxNLocator(integer=True))"
   ]
  },
  {
   "cell_type": "code",
   "execution_count": 17,
   "metadata": {},
   "outputs": [
    {
     "name": "stdout",
     "output_type": "stream",
     "text": [
      "Scales are  93.2995440303\n",
      "voltage:  24.0265126779\n"
     ]
    }
   ],
   "source": [
    "# scale = -1*np.abs(np.mean(amps3[200:250]))/2\n",
    "# scale = -1*np.abs(np.mean(amps[230:240]))/3\n",
    "# scale = -1*np.abs(np.mean(amps[97:118]))/4\n",
    "scaleY = np.abs(np.mean(amps[150:]))/4\n",
    "print(\"Scales are \", scaleY)\n",
    "bb = step_file_objs[-1]\n",
    "drive_freq = 139\n",
    "bandwidth=2\n",
    "b, a = signal.butter(3, [2.*(drive_freq-bandwidth/2.)/fsamp, 2.*(drive_freq+bandwidth/2.)/fsamp ], btype = 'bandpass')\n",
    "xx2 = signal.filtfilt(b, a, bb.other_data[5])\n",
    "voltage = np.std(xx2)*np.sqrt(2)*100\n",
    "print(\"voltage: \", voltage)"
   ]
  },
  {
   "cell_type": "code",
   "execution_count": 24,
   "metadata": {},
   "outputs": [
    {
     "data": {
      "text/plain": [
       "(92.24729353371767, 93.2995440303, 122.17797432539285)"
      ]
     },
     "execution_count": 24,
     "metadata": {},
     "output_type": "execute_result"
    }
   ],
   "source": [
    "scaleY = 93.2995440303\n",
    "scaleZ = scaleY*(418+627)/(392+406)\n",
    "scaleX = scaleY*(421+368)/(392+406)\n",
    "scaleX, scaleY, scaleZ"
   ]
  },
  {
   "cell_type": "markdown",
   "metadata": {},
   "source": [
    "### Look at neutrality data"
   ]
  },
  {
   "cell_type": "code",
   "execution_count": 25,
   "metadata": {},
   "outputs": [],
   "source": [
    "ll = likelihood_analyser.LikelihoodAnalyser()\n",
    "bandwidth = 1\n",
    "decimate = 2\n",
    "def get_amp(i):\n",
    "    \n",
    "    fname = r'/data/old_trap/20211001/bead1/neutrality5/Y_175Vpp_alternate_139Hz_spin_XZ_77kHz_no_delay_no_height_fb/Y_175Vpp_'+str(i)+'.h5'\n",
    "#     fname = r'/data/old_trap/20211001/bead1/discharge/recharge_20211013/Y_50Vpp_'+str(i)+'.h5'\n",
    "\n",
    "    drive_freq = 139\n",
    "    bb = bu.DataFile();\n",
    "    bb.load(fname);\n",
    "    bb.load_other_data()\n",
    "    \n",
    "    jj = i%2\n",
    "    freq2 = np.fft.rfftfreq(len(bb.other_data[5+jj]), d=1./5000)\n",
    "    fft_angles = np.angle(np.fft.rfft(bb.other_data[5+jj]))\n",
    "    phi_tmp2 = (fft_angles[freq2==drive_freq]+np.pi/2)%(2*np.pi)\n",
    "\n",
    "#     fit_kwargs = {'A': 0.23, 'f': drive_freq, 'phi': 0, \n",
    "#                   'error_A': 1, 'error_f': 10, 'error_phi': 0.5, 'errordef': 1,\n",
    "#                   'limit_A': [0, 1], 'fix_f': True, 'fix_phi': False,\n",
    "#                   'print_level': 0}\n",
    "\n",
    "    b, a = signal.butter(3, [2.*(drive_freq-bandwidth/2.)/fsamp, 2.*(drive_freq+bandwidth/2.)/fsamp ], btype = 'bandpass')\n",
    "#     xx2 = signal.filtfilt(b, a, bb.other_data[5+jj])[::decimate]    \n",
    "#     m1_tmp = ll.find_mle_sin(xx2, fsamp=5000/decimate, noise_rms=1, plot=False, suppress_print=True, **fit_kwargs)\n",
    "#     phi_tmp = m1_tmp.values[2]\n",
    "\n",
    "#     print(phi_tmp, phi_tmp2, m1_tmp.values[0]*100, np.std(xx2)*np.sqrt(2)*100)\n",
    "    \n",
    "    if jj==0:\n",
    "        phase_diff = 0.12\n",
    "    else:\n",
    "        phase_diff = 0.05\n",
    "            \n",
    "    fit_kwargs = {'A': 0, 'f': drive_freq, 'phi': phi_tmp2+phase_diff, 'sigma': 1100,\n",
    "                  'error_A': 0.1, 'error_f': 1, 'error_phi': 0.5, 'errordef': 1, 'error_sigma':50,\n",
    "                  'limit_A': [-100000, 100000], 'limit_sigma':[100,30000], 'fix_phi': True, 'fix_f': True,\n",
    "                  'print_level': 0}\n",
    "\n",
    "    xx2 = signal.filtfilt(b, a, bb.pos_data[1])[::decimate]\n",
    "    m1_tmp = ll.find_mle_sin(xx2, fsamp=5000/decimate, noise_rms=1, plot=False, suppress_print=True, **fit_kwargs)\n",
    "    \n",
    "    drive_freq = drive_freq*2\n",
    "    fit_kwargs = {'A': 0, 'f': drive_freq, 'phi': phi_tmp2+np.pi/2+phase_diff, \n",
    "                  'error_A': 1, 'error_f': 1, 'error_phi': 0.5, 'errordef': 1,\n",
    "                  'limit_A': [-100000, 100000], 'fix_f': True, 'fix_phi': True,\n",
    "                  'print_level': 0}\n",
    "\n",
    "        \n",
    "    b, a = signal.butter(3, [2.*(drive_freq-bandwidth/2.)/fsamp, 2.*(drive_freq+bandwidth/2.)/fsamp ], btype = 'bandpass')\n",
    "    xx2 = signal.filtfilt(b, a, bb.pos_data[1])[::decimate]\n",
    "    m2_tmp = ll.find_mle_sin(xx2, fsamp=5000/decimate, noise_rms=1, plot=False, suppress_print=True, **fit_kwargs)\n",
    "\n",
    "    #     print(m1_tmp.values)\n",
    "    return m1_tmp.values[0], m2_tmp.values[0], m1_tmp.values[3], m1_tmp.fval"
   ]
  },
  {
   "cell_type": "code",
   "execution_count": 247,
   "metadata": {},
   "outputs": [],
   "source": [
    "ll = likelihood_analyser.LikelihoodAnalyser()\n",
    "bandwidth = 1\n",
    "decimate = 2\n",
    "def get_ampZ(i):\n",
    "    \n",
    "#     fname = r'/data/old_trap/20211001/bead1/neutrality5/Z_125Vpp_alternate_139Hz_spin_XZ_93kHz_no_delay_no_height_fb/Z_125Vpp_'+str(i)+'.h5'\n",
    "    fname = r'/data/old_trap/20211001/bead1/neutrality6/Z_150Vpp_alternate_139Hz_spin_XY_103kHz_200Vpp_delay_3sec_with_height_fb_redo2/Z_200Vpp_'+str(i)+'.h5'\n",
    "#     fname = r'/data/old_trap/20211001/bead1/both_electrodes/Z_139Hz_20Vpp/Z_139Hz_20Vpp_'+str(i)+'.h5'\n",
    "\n",
    "    drive_freq = 139\n",
    "    bb = bu.DataFile();\n",
    "    bb.load(fname);\n",
    "    bb.load_other_data()\n",
    "    \n",
    "    jj = i%2\n",
    "    freq2 = np.fft.rfftfreq(len(bb.other_data[1+jj]), d=1./5000)\n",
    "    fft_angles = np.angle(np.fft.rfft(bb.other_data[1+jj]))\n",
    "    phi_tmp2 = (fft_angles[freq2==drive_freq]+np.pi/2)%(2*np.pi)\n",
    "\n",
    "    #     fit_kwargs = {'A': 0.23, 'f': drive_freq, 'phi': 0, \n",
    "#                   'error_A': 1, 'error_f': 10, 'error_phi': 0.5, 'errordef': 1,\n",
    "#                   'limit_A': [0, 1], 'fix_f': True, 'fix_phi': False,\n",
    "#                   'print_level': 0}\n",
    "\n",
    "    b, a = signal.butter(3, [2.*(drive_freq-bandwidth/2.)/fsamp, 2.*(drive_freq+bandwidth/2.)/fsamp ], btype = 'bandpass')\n",
    "#     xx2 = signal.filtfilt(b, a, bb.other_data[5+jj])[::decimate]    \n",
    "#     m1_tmp = ll.find_mle_sin(xx2, fsamp=5000/decimate, noise_rms=1, plot=False, suppress_print=True, **fit_kwargs)\n",
    "#     phi_tmp = m1_tmp.values[2]\n",
    "\n",
    "#     print(phi_tmp, phi_tmp2, m1_tmp.values[0]*100, np.std(xx2)*np.sqrt(2)*100)\n",
    "    \n",
    "    if jj==0:\n",
    "        phase_diff = 4.8\n",
    "    else:\n",
    "        phase_diff = 4.8\n",
    "            \n",
    "    fit_kwargs = {'A': 0, 'f': drive_freq, 'phi': phi_tmp2+phase_diff, 'sigma': 1100,\n",
    "                  'error_A': 0.1, 'error_f': 1, 'error_phi': 0.5, 'errordef': 1, 'error_sigma':50,\n",
    "                  'limit_A': [-100000, 100000], 'limit_sigma':[100,3000000], 'fix_phi': True, 'fix_f': True,\n",
    "                  'print_level': 0}\n",
    "\n",
    "    xx2 = signal.filtfilt(b, a, bb.pos_data[2])[::decimate]\n",
    "    m1_tmp = ll.find_mle_sin(xx2, fsamp=5000/decimate, noise_rms=1, plot=False, suppress_print=True, **fit_kwargs)\n",
    "    \n",
    "    drive_freq = drive_freq*2\n",
    "    fit_kwargs = {'A': 0, 'f': drive_freq, 'phi': phi_tmp2+phase_diff+np.pi/2, \n",
    "                  'error_A': 1, 'error_f': 1, 'error_phi': 0.5, 'errordef': 1,\n",
    "                  'limit_A': [-1000000, 1000000], 'fix_f': True, 'fix_phi': True,\n",
    "                  'print_level': 0}\n",
    "\n",
    "        \n",
    "    b, a = signal.butter(3, [2.*(drive_freq-bandwidth/2.)/fsamp, 2.*(drive_freq+bandwidth/2.)/fsamp ], btype = 'bandpass')\n",
    "    xx2 = signal.filtfilt(b, a, bb.pos_data[2])[::decimate]\n",
    "    m2_tmp = ll.find_mle_sin(xx2, fsamp=5000/decimate, noise_rms=1, plot=False, suppress_print=True, **fit_kwargs)\n",
    "\n",
    "    return m1_tmp.values[0], m2_tmp.values[0], m1_tmp.values[3], m1_tmp.fval"
   ]
  },
  {
   "cell_type": "code",
   "execution_count": 248,
   "metadata": {},
   "outputs": [
    {
     "data": {
      "text/plain": [
       "-11.234170022638864"
      ]
     },
     "execution_count": 248,
     "metadata": {},
     "output_type": "execute_result"
    }
   ],
   "source": [
    "i=0\n",
    "get_ampZ(i)[0]"
   ]
  },
  {
   "cell_type": "code",
   "execution_count": 215,
   "metadata": {},
   "outputs": [
    {
     "name": "stdout",
     "output_type": "stream",
     "text": [
      "voltage:  24.0265126779 -0.587869077592 -0.576897230488\n",
      "voltage:  190.891726265 0.673523507495\n"
     ]
    }
   ],
   "source": [
    "i = 0\n",
    "fname = r'/data/old_trap/20211001/bead1/neutrality6/Z_150Vpp_alternate_139Hz_spin_XY_103kHz_200Vpp_delay_3sec_with_height_fb_redo/Z_200Vpp_'+str(i)+'.h5'\n",
    "bb = bu.DataFile();\n",
    "bb.load(fname);\n",
    "bb.load_other_data()\n",
    "print(\"voltage: \", voltage, np.mean(bb.other_data[1])*100, np.mean(bb.other_data[2])*100)\n",
    "drive_freq = 139\n",
    "bandwidth=2\n",
    "b, a = signal.butter(3, [2.*(drive_freq-bandwidth/2.)/fsamp, 2.*(drive_freq+bandwidth/2.)/fsamp ], btype = 'bandpass')\n",
    "xx2 = signal.filtfilt(b, a, bb.other_data[1])\n",
    "voltage_200_1 = np.std(xx2)*np.sqrt(2)*100\n",
    "xx3 = signal.filtfilt(b, a, bb.other_data[2])\n",
    "voltage_200_2 = np.std(xx3)*np.sqrt(2)*100\n",
    "print(\"voltage: \", voltage_200_1, voltage_200_2)"
   ]
  },
  {
   "cell_type": "code",
   "execution_count": 30,
   "metadata": {},
   "outputs": [
    {
     "data": {
      "text/plain": [
       "(24.026512677896338, 143.1879022780013)"
      ]
     },
     "execution_count": 30,
     "metadata": {},
     "output_type": "execute_result"
    }
   ],
   "source": [
    "voltage, voltage_150_1"
   ]
  },
  {
   "cell_type": "code",
   "execution_count": 184,
   "metadata": {
    "scrolled": true
   },
   "outputs": [],
   "source": [
    "# amps_no_fb_spin_xz_200Vpp_x_50Vpp_delay = []\n",
    "# for i in range(1000):\n",
    "#     print(i,'/500')\n",
    "#     try:\n",
    "#         amps_no_fb_spin_xz_200Vpp_x_50Vpp_delay.append(get_amp(i))\n",
    "#     except:\n",
    "#         print(\"******\")\n",
    "# amps_no_fb_spin_xz_200Vpp_x_50Vpp_delay = np.array(amps_no_fb_spin_xz_200Vpp_x_50Vpp_delay)"
   ]
  },
  {
   "cell_type": "code",
   "execution_count": 155,
   "metadata": {
    "scrolled": true
   },
   "outputs": [
    {
     "name": "stderr",
     "output_type": "stream",
     "text": [
      "100%|██████████| 20/20 [00:00<00:00, 17246.32it/s]\n"
     ]
    }
   ],
   "source": [
    "amps_with_fb_spin_xy_150Vpp_103kHz_z_150Vpp_alternate_no_delay = np.array(Parallel(n_jobs=40)(delayed(get_amp_wraperZ)(i) for i in tqdm(range((20)))))"
   ]
  },
  {
   "cell_type": "code",
   "execution_count": 31,
   "metadata": {},
   "outputs": [],
   "source": [
    "def get_amp_wraper(i):\n",
    "    try:\n",
    "        return get_amp(i)\n",
    "    except:\n",
    "        return 0,0,0,0\n",
    "    \n",
    "def get_amp_wraperZ(i):\n",
    "    try:\n",
    "        return get_ampZ(i)\n",
    "    except:\n",
    "        return 0,0,0,0"
   ]
  },
  {
   "cell_type": "code",
   "execution_count": 231,
   "metadata": {
    "scrolled": true
   },
   "outputs": [
    {
     "name": "stderr",
     "output_type": "stream",
     "text": [
      "\n",
      "  0%|          | 0/500 [00:00<?, ?it/s]\u001b[A\n",
      "  8%|▊         | 40/500 [00:01<00:14, 31.56it/s]\u001b[A\n",
      " 16%|█▌        | 80/500 [00:01<00:11, 37.45it/s]\u001b[A\n",
      " 24%|██▍       | 120/500 [00:04<00:14, 26.74it/s]\u001b[A\n",
      " 32%|███▏      | 160/500 [00:04<00:10, 32.72it/s]\u001b[A\n",
      " 40%|████      | 200/500 [00:05<00:07, 40.27it/s]\u001b[A\n",
      " 48%|████▊     | 240/500 [00:05<00:05, 47.45it/s]\u001b[A\n",
      " 56%|█████▌    | 280/500 [00:06<00:03, 56.27it/s]\u001b[A\n",
      " 64%|██████▍   | 320/500 [00:06<00:02, 63.50it/s]\u001b[A\n",
      " 72%|███████▏  | 360/500 [00:07<00:02, 69.35it/s]\u001b[A\n",
      " 80%|████████  | 400/500 [00:07<00:01, 71.79it/s]\u001b[A\n",
      " 88%|████████▊ | 440/500 [00:08<00:00, 74.90it/s]\u001b[A\n",
      " 96%|█████████▌| 480/500 [00:08<00:00, 77.03it/s]\u001b[A\n",
      "100%|██████████| 500/500 [00:08<00:00, 57.57it/s]\u001b[A"
     ]
    }
   ],
   "source": [
    "amps_with_fb_spin_xz_100Vpp_77kHz_y_minus_175Vpp_alternate_no_delay = np.array(Parallel(n_jobs=40)(delayed(get_amp_wraper)(i) for i in tqdm(range((500)))))"
   ]
  },
  {
   "cell_type": "code",
   "execution_count": 698,
   "metadata": {},
   "outputs": [
    {
     "data": {
      "application/vnd.jupyter.widget-view+json": {
       "model_id": "f08708213ad44b15b6236b68a1a0c34e",
       "version_major": 2,
       "version_minor": 0
      },
      "text/plain": [
       "Canvas(toolbar=Toolbar(toolitems=[('Home', 'Reset original view', 'home', 'home'), ('Back', 'Back to previous …"
      ]
     },
     "metadata": {},
     "output_type": "display_data"
    },
    {
     "data": {
      "text/plain": [
       "<matplotlib.collections.PathCollection at 0x7f4a6953fdd8>"
      ]
     },
     "execution_count": 698,
     "metadata": {},
     "output_type": "execute_result"
    }
   ],
   "source": [
    "i=0; j=0\n",
    "_,ax = plt.subplots()\n",
    "dat = amps_with_fb_spin_xz_100Vpp_77kHz_y_minus_175Vpp_alternate_no_delay[::2]/scaleZ*voltage/voltage_150_1\n",
    "dat1 = amps_with_fb_spin_xz_100Vpp_77kHz_y_minus_175Vpp_alternate_no_delay[1::2]/scaleZ*voltage/voltage_150_1\n",
    "ax.scatter((dat[:,i]), (dat1[:,j]))\n",
    "ax.scatter(dat[:,i], np.abs(dat[:,1]))"
   ]
  },
  {
   "cell_type": "code",
   "execution_count": 52,
   "metadata": {},
   "outputs": [
    {
     "data": {
      "application/vnd.jupyter.widget-view+json": {
       "model_id": "8d6d38e10ba74de1933447236d0d21ea",
       "version_major": 2,
       "version_minor": 0
      },
      "text/plain": [
       "Canvas(toolbar=Toolbar(toolitems=[('Home', 'Reset original view', 'home', 'home'), ('Back', 'Back to previous …"
      ]
     },
     "metadata": {},
     "output_type": "display_data"
    },
    {
     "data": {
      "text/plain": [
       "<matplotlib.collections.PathCollection at 0x7fdb170b25f8>"
      ]
     },
     "execution_count": 52,
     "metadata": {},
     "output_type": "execute_result"
    }
   ],
   "source": [
    "i=0; j=3\n",
    "_,ax = plt.subplots()\n",
    "dat = amps_all[::2]/scaleZ*voltage/voltage_150_1\n",
    "ax.scatter(dat[:,i], np.abs(dat[:,j]))\n",
    "dat1 = amps_all[1::2]/scaleZ*voltage/voltage_150_1\n",
    "ax.scatter(dat1[:,i], np.abs(dat1[:,j]))"
   ]
  },
  {
   "cell_type": "code",
   "execution_count": 530,
   "metadata": {},
   "outputs": [],
   "source": [
    "voltage= 25"
   ]
  },
  {
   "cell_type": "code",
   "execution_count": 531,
   "metadata": {},
   "outputs": [
    {
     "data": {
      "application/vnd.jupyter.widget-view+json": {
       "model_id": "0d4ac6179412477bbe93fd2cb146d509",
       "version_major": 2,
       "version_minor": 0
      },
      "text/plain": [
       "Canvas(toolbar=Toolbar(toolitems=[('Home', 'Reset original view', 'home', 'home'), ('Back', 'Back to previous …"
      ]
     },
     "metadata": {},
     "output_type": "display_data"
    },
    {
     "name": "stdout",
     "output_type": "stream",
     "text": [
      "mean, std:  -0.00255278315035 0.000796258659538\n",
      "mean, std:  -0.00607773982869 0.000788773392353\n",
      "mean, std:  0.00328184708519 0.000782182135763\n",
      "mean, std:  -0.0106432175811 0.00777833856286\n",
      "mean, std:  0.00302278763124 0.0076577321529\n",
      "mean, std:  -0.00762042994982 0.0105163138211\n"
     ]
    }
   ],
   "source": [
    "j = 0\n",
    "data = amps_with_fb_spin_xz_100Vpp_77kHz_y_minus_175Vpp_alternate_no_delay[::2,j]/scaleY*voltage/voltage_175_1\n",
    "data2 = amps_with_fb_spin_xz_100Vpp_77kHz_y_minus_175Vpp_alternate_no_delay[1::2,j]/scaleY*voltage/voltage_175_1\n",
    "data3 = data-0.96*data2\n",
    "\n",
    "data_1 = amps_with_fb_spin_xz_100Vpp_77kHz_y_minus_175Vpp_alternate_no_delay[::2,1]/scaleY*voltage/voltage_175_1\n",
    "data2_1 = amps_with_fb_spin_xz_100Vpp_77kHz_y_minus_175Vpp_alternate_no_delay[1::2,1]/scaleY*voltage/voltage_175_1\n",
    "data3_1 = data_1+data2_1\n",
    "\n",
    "_, ax= plt.subplots(figsize=(9.5,4))\n",
    "ax.scatter(range(len(data)), data, label='175Vpp-y-plus, xz-spin-100Vpp-77kHz')\n",
    "ax.scatter(range(len(data2)), data2, label='175Vpp-y-minus, xz-spin-100Vpp-77kHz', alpha=0.6)\n",
    "# ax.scatter(range(len(data3)), data3, label='100Vpp-y-diff, xz-spin-100Vpp-77kHz', alpha=0.6)\n",
    "\n",
    "# ax.scatter(range(len(data4)), data4, label='20V-x, xy-spin-30V, w/o height fb')\n",
    "ax.plot(np.arange(0,250), np.arange(0,250)*0, '--k')\n",
    "ax.set(xlabel='Dataset', ylabel=r'$\\epsilon$')\n",
    "ax.legend()\n",
    "print('mean, std: ', np.mean(data), np.std(data)/np.sqrt(len(data)))\n",
    "print('mean, std: ', np.mean(data2), np.std(data2)/np.sqrt(len(data2)))\n",
    "print('mean, std: ', np.mean(data3), np.std(data3)/np.sqrt(len(data3)))\n",
    "print('mean, std: ', np.mean(data_1), np.std(data_1)/np.sqrt(len(data_1)))\n",
    "print('mean, std: ', np.mean(data2_1), np.std(data2_1)/np.sqrt(len(data2_1)))\n",
    "print('mean, std: ', np.mean(data3_1), np.std(data3_1)/np.sqrt(len(data3_1)))"
   ]
  },
  {
   "cell_type": "code",
   "execution_count": 435,
   "metadata": {},
   "outputs": [
    {
     "data": {
      "text/plain": [
       "(128.33225329571428, 24.026512677896338, 119.33286771283258)"
      ]
     },
     "execution_count": 435,
     "metadata": {},
     "output_type": "execute_result"
    }
   ],
   "source": [
    "scaleZ, voltage, voltage_125_1"
   ]
  },
  {
   "cell_type": "code",
   "execution_count": 743,
   "metadata": {},
   "outputs": [
    {
     "data": {
      "text/plain": [
       "5500"
      ]
     },
     "execution_count": 743,
     "metadata": {},
     "output_type": "execute_result"
    }
   ],
   "source": [
    "amps_all = list(amps_with_fb_spin_xz_100Vpp_93kHz_z_125Vpp_alternate_no_delay)+list(amps_with_fb_spin_xz_100Vpp_93kHz_z_125Vpp_alternate_no_delay_2)\n",
    "# amps_all = list(amps_with_fb_spin_xz_100Vpp_93kHz_z_125Vpp_alternate_no_delay_2)\n",
    "amps_all = np.array(amps_all)\n",
    "len(amps_all)"
   ]
  },
  {
   "cell_type": "code",
   "execution_count": 249,
   "metadata": {},
   "outputs": [
    {
     "name": "stderr",
     "output_type": "stream",
     "text": [
      "100%|██████████| 500/500 [00:15<00:00, 32.81it/s]\n"
     ]
    }
   ],
   "source": [
    "amps_with_fb_spin_xy_150Vpp_103kHz_z_200Vpp_alternate_no_delay_redo2 = np.array(Parallel(n_jobs=40)(delayed(get_amp_wraperZ)(i) for i in tqdm(range((500)))))"
   ]
  },
  {
   "cell_type": "code",
   "execution_count": 239,
   "metadata": {},
   "outputs": [],
   "source": [
    "amps_all = list(amps_with_fb_spin_xy_150Vpp_103kHz_z_200Vpp_alternate_no_delay)\n",
    "amps_all += list(amps_with_fb_spin_xy_150Vpp_103kHz_z_200Vpp_alternate_no_delay_redo)\n",
    "amps_all = np.array(amps_all)"
   ]
  },
  {
   "cell_type": "code",
   "execution_count": 276,
   "metadata": {},
   "outputs": [],
   "source": [
    "amps_all = amps_with_fb_spin_xy_150Vpp_103kHz_z_200Vpp_alternate_no_delay_redo2[:140]"
   ]
  },
  {
   "cell_type": "code",
   "execution_count": 277,
   "metadata": {},
   "outputs": [],
   "source": [
    "etha = 1/scaleZ*327*1.6e-19*voltage\n",
    "to_epsilon = 1/(2*327*1.6e-19*voltage_200_1*(418)/(418+627))"
   ]
  },
  {
   "cell_type": "code",
   "execution_count": 278,
   "metadata": {},
   "outputs": [
    {
     "data": {
      "application/vnd.jupyter.widget-view+json": {
       "model_id": "73694b4138b2490b9f28abc13cca2162",
       "version_major": 2,
       "version_minor": 0
      },
      "text/plain": [
       "Canvas(toolbar=Toolbar(toolitems=[('Home', 'Reset original view', 'home', 'home'), ('Back', 'Back to previous …"
      ]
     },
     "metadata": {},
     "output_type": "display_data"
    },
    {
     "name": "stdout",
     "output_type": "stream",
     "text": [
      "1st harmonic, electrode 1: mean, std:  -1.28118356481e-16 6.3480503803e-18\n",
      "1st harmonic, electrode 2: mean, std:  -1.87638897789e-16 6.35225597993e-18\n",
      "1st harmonic, A parameter: mean, std:  -0.00214102786414 0.000831088849787\n",
      "\n",
      "2nd harmonic, electrode 1: mean, std:  2.75729924772e-16 1.55028669544e-17\n",
      "2nd harmonic, electrode 2: mean, std:  6.00047851978e-16 3.19819295305e-17\n",
      "2nd harmonic, B parameter: mean, std:  0.0672231768176 0.00285440488067\n"
     ]
    }
   ],
   "source": [
    "j = 0\n",
    "data = amps_all[::2,j]*etha\n",
    "data2 = amps_all[1::2,j]*etha\n",
    "data3 = data-0.66*data2\n",
    "\n",
    "data_1 = np.abs(amps_all[::2,1])*etha\n",
    "data2_1 = np.abs(amps_all[1::2,1])*etha\n",
    "data3_1 = data_1+0.66*0.66*data2_1\n",
    "\n",
    "_, ax= plt.subplots(figsize=(9.5,4))\n",
    "# ax.scatter(range(len(data)), data, label='200Vpp-z-plus, xz-spin-50Vpp-93kHz')\n",
    "# ax.scatter(range(len(data2)), data2, label='200Vpp-z-minus, xz-spin-50Vpp-93kHz', alpha=0.6)\n",
    "ax.scatter(range(len(data3)), data3, label='200Vpp-z, A parameter', alpha=0.6)\n",
    "\n",
    "# ax.scatter(range(len(data4)), data4, label='20V-x, xy-spin-30V, w/o height fb')\n",
    "ax.plot(np.arange(0,2000), np.arange(0,2000)*0, '--k')\n",
    "ax.set(xlabel='Dataset', ylabel=r'$\\epsilon$')\n",
    "ax.legend()\n",
    "print('1st harmonic, electrode 1: mean, std: ', np.mean(data), np.std(data)/np.sqrt(len(data)))\n",
    "print('1st harmonic, electrode 2: mean, std: ', np.mean(data2), np.std(data2)/np.sqrt(len(data2)))\n",
    "print('1st harmonic, A parameter: mean, std: ', np.mean(data3)*to_epsilon*4, np.std(data3)*to_epsilon/np.sqrt(len(data3)))\n",
    "print()\n",
    "print('2nd harmonic, electrode 1: mean, std: ', np.mean(data_1), np.std(data_1)/np.sqrt(len(data_1)))\n",
    "print('2nd harmonic, electrode 2: mean, std: ', np.mean(data2_1), np.std(data2_1)/np.sqrt(len(data2_1)))\n",
    "print('2nd harmonic, B parameter: mean, std: ', np.mean(data3_1)*to_epsilon, np.std(data3_1)*to_epsilon/np.sqrt(len(data3_1)))"
   ]
  },
  {
   "cell_type": "code",
   "execution_count": 49,
   "metadata": {},
   "outputs": [
    {
     "data": {
      "text/plain": [
       "2.7727272727272725"
      ]
     },
     "execution_count": 49,
     "metadata": {},
     "output_type": "execute_result"
    }
   ],
   "source": [
    "1.83/0.66"
   ]
  },
  {
   "cell_type": "code",
   "execution_count": 716,
   "metadata": {},
   "outputs": [
    {
     "name": "stdout",
     "output_type": "stream",
     "text": [
      "1st harmonic, A parameter: mean, std:  -5.54622412598e-05 0.000123021912647\n"
     ]
    }
   ],
   "source": [
    "print('1st harmonic, A parameter: mean, std: ', np.mean(data3)*to_epsilon, np.std(data3)*to_epsilon/np.sqrt(5000))"
   ]
  },
  {
   "cell_type": "code",
   "execution_count": 751,
   "metadata": {},
   "outputs": [
    {
     "data": {
      "text/plain": [
       "3450"
      ]
     },
     "execution_count": 751,
     "metadata": {},
     "output_type": "execute_result"
    }
   ],
   "source": [
    "data3_all = np.array(list(data3*to_epsilon*1.25)+list(data33*to_epsilon))\n",
    "len(data3_all)"
   ]
  },
  {
   "cell_type": "code",
   "execution_count": 245,
   "metadata": {},
   "outputs": [
    {
     "data": {
      "application/vnd.jupyter.widget-view+json": {
       "model_id": "ec0c883d4a184ac6a90739406c32b76d",
       "version_major": 2,
       "version_minor": 0
      },
      "text/plain": [
       "Canvas(toolbar=Toolbar(toolitems=[('Home', 'Reset original view', 'home', 'home'), ('Back', 'Back to previous …"
      ]
     },
     "metadata": {},
     "output_type": "display_data"
    },
    {
     "data": {
      "text/plain": [
       "<matplotlib.legend.Legend at 0x7fdb11c55d68>"
      ]
     },
     "execution_count": 245,
     "metadata": {},
     "output_type": "execute_result"
    }
   ],
   "source": [
    "from scipy.optimize import curve_fit\n",
    "from scipy import asarray as ar,exp\n",
    "\n",
    "n_bins = 21\n",
    "range_pram = 0.03\n",
    "_,ax = plt.subplots()\n",
    "entries, bins, patches = ax.hist(data3*to_epsilon, bins=n_bins, range=(-range_pram, range_pram), label='125Vpp+150Vpp, 93kHz')\n",
    "# entries3, bins, patches = ax.hist(data3, bins=n_bins, range=(-range_pram, range_pram), label='150Vpp, 77kHz', alpha=0.6)\n",
    "ax.set(xlabel=r'$\\epsilon$')\n",
    "ax.legend()"
   ]
  },
  {
   "cell_type": "code",
   "execution_count": 246,
   "metadata": {},
   "outputs": [
    {
     "name": "stdout",
     "output_type": "stream",
     "text": [
      " : mean:  -3.89407344248e-06  ,std (on the mean):  0.000105072167829  ,sigma:  -0.000148589015239\n",
      "\n",
      "Neutrality:  -3.09053447816e-20\n"
     ]
    },
    {
     "name": "stderr",
     "output_type": "stream",
     "text": [
      "/home/analysis_user/.local/lib/python3.6/site-packages/ipykernel_launcher.py:22: RuntimeWarning: invalid value encountered in sqrt\n"
     ]
    }
   ],
   "source": [
    "## gaussian fit to the histogram\n",
    "\n",
    "bins_fit =[(bins[i+1]-bins[i])/2+bins[i] for i in range(len(entries))]\n",
    "\n",
    "titles = ['', '', '']\n",
    "\n",
    "for i,ee in enumerate([entries]):\n",
    "    x = bins_fit\n",
    "    y= np.array(ee)\n",
    "    sigma_bin = np.sqrt(ee)\n",
    "    \n",
    "    n = len(x)                          #the number of data\n",
    "    mean = 0                  #note this correction\n",
    "    sigma = 0.023       #note this correction\n",
    "\n",
    "    def gaus(x,a,x0,sigma):\n",
    "        return a*np.exp(-(x-x0)**2/(2*sigma**2))\n",
    "\n",
    "    popt,pcov = curve_fit(gaus,x,y,p0=[1,mean,sigma])\n",
    "    ax.plot(x,gaus(x,*popt),'ro:',label='fit')\n",
    "\n",
    "    print(titles[i], \": mean: \", popt[1], \" ,std (on the mean): \", np.sqrt(pcov)[1,1], \" ,sigma: \", popt[2]/np.sqrt(len(data3)))\n",
    "    print('\\nNeutrality: ', 1/1.26e14*popt[1])"
   ]
  },
  {
   "cell_type": "code",
   "execution_count": null,
   "metadata": {},
   "outputs": [],
   "source": []
  },
  {
   "cell_type": "code",
   "execution_count": null,
   "metadata": {},
   "outputs": [],
   "source": []
  },
  {
   "cell_type": "code",
   "execution_count": null,
   "metadata": {},
   "outputs": [],
   "source": []
  },
  {
   "cell_type": "code",
   "execution_count": 119,
   "metadata": {},
   "outputs": [
    {
     "data": {
      "application/vnd.jupyter.widget-view+json": {
       "model_id": "c1a3c18b8763441fbfe2061054314a0b",
       "version_major": 2,
       "version_minor": 0
      },
      "text/plain": [
       "Canvas(toolbar=Toolbar(toolitems=[('Home', 'Reset original view', 'home', 'home'), ('Back', 'Back to previous …"
      ]
     },
     "metadata": {},
     "output_type": "display_data"
    },
    {
     "data": {
      "text/plain": [
       "<matplotlib.legend.Legend at 0x7f4f77d8c3c8>"
      ]
     },
     "execution_count": 119,
     "metadata": {},
     "output_type": "execute_result"
    }
   ],
   "source": [
    "datasets = [amps_wo_fb_spin_zx_75V_x_20V,amps_wo_fb_spin_zx_100V_x_25V, amps_wo_fb_spin_zx_150V_x_25V]\n",
    "voltages = [voltage20, voltage25, voltage25]\n",
    "spin_voltage = [75,100, 150]\n",
    "means = []\n",
    "errors = []\n",
    "for dat,vv in zip(datasets, voltages):\n",
    "    means.append(np.mean(dat[:,0])/scale*voltage/vv)\n",
    "    errors.append(np.std(dat[:,0])/scale*voltage/vv/np.sqrt(len(dat[:,0])))\n",
    "\n",
    "_,ax = plt.subplots()\n",
    "ax.errorbar(spin_voltage, means, yerr=errors, fmt='o', label='zx plane spin')\n",
    "ax.set(xlabel='Spin voltage', ylabel=r'$\\epsilon$', xlim=(20,160), ylim=(-0.001,0.01))\n",
    "\n",
    "datasets = [amps_wo_fb_spin_xy_30V_x_20V,amps_wo_fb_spin_xy_75V_x_20V, amps_wo_fb_spin_xy_100V_x_20V]\n",
    "voltages = [voltage20, voltage20, voltage20]\n",
    "spin_voltage = [30,75, 100]\n",
    "means2 = []\n",
    "errors2 = []\n",
    "for dat,vv in zip(datasets, voltages):\n",
    "    means2.append(np.mean(dat[:,0])/scale*voltage/vv)\n",
    "    errors2.append(np.std(dat[:,0])/scale*voltage/vv/np.sqrt(len(dat[:,0])))\n",
    "\n",
    "ax.errorbar(spin_voltage, means, yerr=errors, fmt='o', label='xy plane spin')\n",
    "ax.plot(np.arange(20,160), np.arange(20,160)*0, '--r')\n",
    "ax.legend()"
   ]
  },
  {
   "cell_type": "code",
   "execution_count": 384,
   "metadata": {},
   "outputs": [
    {
     "data": {
      "application/vnd.jupyter.widget-view+json": {
       "model_id": "77e7ed2fbd73425caa1d614fc4d17817",
       "version_major": 2,
       "version_minor": 0
      },
      "text/plain": [
       "Canvas(toolbar=Toolbar(toolitems=[('Home', 'Reset original view', 'home', 'home'), ('Back', 'Back to previous …"
      ]
     },
     "metadata": {},
     "output_type": "display_data"
    },
    {
     "name": "stdout",
     "output_type": "stream",
     "text": [
      "mean, std:  0.00543937010689 0.000832138675641\n",
      "mean, std:  0.00364790172652 0.000627235885947\n"
     ]
    }
   ],
   "source": [
    "j = 0\n",
    "data = amps_with_fb_spin_xy_100V_x_20V_delay_2[:,j]/scale*voltage/voltage20_1\n",
    "data2 = amps_wo_fb_spin_zx_100V_x_25V[:,j]/scale*voltage/voltage25\n",
    "\n",
    "_, ax= plt.subplots(figsize=(9.5,4))\n",
    "ax.scatter(range(len(data)), data, label='20V-x, xy-spin-100V, w/ delay, w/ height fb')\n",
    "ax.scatter(range(len(data2)), data2, label='25V-x, xy-spin-100V, w/ delay, w/o height fb')\n",
    "\n",
    "ax.plot(np.arange(0,3000), np.arange(0,3000)*0, '--k')\n",
    "ax.set(xlabel='Dataset', ylabel=r'$\\epsilon$')\n",
    "ax.legend()\n",
    "print('mean, std: ',np.mean(data), np.std(data)/np.sqrt(len(data)))\n",
    "print('mean, std: ', np.mean(data2), np.std(data2)/np.sqrt(len(data2)))"
   ]
  },
  {
   "cell_type": "code",
   "execution_count": 181,
   "metadata": {},
   "outputs": [
    {
     "data": {
      "application/vnd.jupyter.widget-view+json": {
       "model_id": "cc191845f1264e8f9a06bac339d0f44b",
       "version_major": 2,
       "version_minor": 0
      },
      "text/plain": [
       "Canvas(toolbar=Toolbar(toolitems=[('Home', 'Reset original view', 'home', 'home'), ('Back', 'Back to previous …"
      ]
     },
     "metadata": {},
     "output_type": "display_data"
    },
    {
     "data": {
      "text/plain": [
       "<matplotlib.legend.Legend at 0x7f4f75b30dd8>"
      ]
     },
     "execution_count": 181,
     "metadata": {},
     "output_type": "execute_result"
    }
   ],
   "source": [
    "datasets = [amps_wo_fb_spin_xy_100V_x_20V2[1200:],amps_wo_fb_spin_xy_100V_x_50V_delay2, amps_wo_fb_spin_xy_100V_x_100V_delay2]\n",
    "spin_voltage = [20,50, 100]\n",
    "means = []\n",
    "errors = []\n",
    "for dat,vv in zip(datasets, voltages):\n",
    "    means.append(np.mean(dat))\n",
    "    errors.append(np.std(dat)/np.sqrt(len(dat)))\n",
    "\n",
    "_,ax = plt.subplots()\n",
    "ax.errorbar(spin_voltage, means, yerr=errors, fmt='o', label='xy plane spin, 100V')\n",
    "ax.plot(np.arange(15,110), np.arange(15,110)*0, '--r')\n",
    "ax.set(xlabel='Oscillating voltage', ylabel=r'$\\epsilon$', xlim=(15,110), ylim=(-0.001,0.004))\n",
    "ax.legend()"
   ]
  },
  {
   "cell_type": "code",
   "execution_count": null,
   "metadata": {},
   "outputs": [],
   "source": []
  },
  {
   "cell_type": "code",
   "execution_count": 143,
   "metadata": {},
   "outputs": [],
   "source": [
    "def get_dcV(i):\n",
    "    \n",
    "    fname = r'/data/old_trap/20210715/bead2/neutrality/no_height_fb_electrodes_x_20V_41_Hz_spin_xy_30V_50kHz_files_3000/turbombar_powfb_xyzcool_'+str(i)+'.h5'\n",
    "    bb = bu.DataFile();\n",
    "    bb.load(fname);\n",
    "    bb.load_other_data()\n",
    "    return np.mean(bb.other_data[:,5000:85000], axis=1)*100"
   ]
  },
  {
   "cell_type": "code",
   "execution_count": 146,
   "metadata": {},
   "outputs": [
    {
     "data": {
      "text/plain": [
       "array([-3.79819842, -0.56254724, -0.57267787,  0.66225783,  0.92968812,\n",
       "       -0.39438807, -0.0508512 ,  0.22620381])"
      ]
     },
     "execution_count": 146,
     "metadata": {},
     "output_type": "execute_result"
    }
   ],
   "source": [
    "get_dcV(0)"
   ]
  },
  {
   "cell_type": "code",
   "execution_count": 144,
   "metadata": {
    "scrolled": true
   },
   "outputs": [
    {
     "name": "stderr",
     "output_type": "stream",
     "text": [
      "\n",
      "  0%|          | 0/3000 [00:00<?, ?it/s]\u001b[A\n",
      "  5%|▌         | 160/3000 [00:00<00:08, 344.50it/s]\u001b[A\n",
      "  8%|▊         | 240/3000 [00:00<00:08, 344.63it/s]\u001b[A\n",
      " 11%|█         | 320/3000 [00:01<00:08, 319.13it/s]\u001b[A\n",
      " 13%|█▎        | 400/3000 [00:01<00:08, 315.05it/s]\u001b[A\n",
      " 16%|█▌        | 480/3000 [00:01<00:08, 311.91it/s]\u001b[A\n",
      " 19%|█▊        | 560/3000 [00:01<00:08, 290.42it/s]\u001b[A\n",
      " 21%|██▏       | 640/3000 [00:02<00:07, 306.35it/s]\u001b[A\n",
      " 24%|██▍       | 720/3000 [00:02<00:07, 311.11it/s]\u001b[A\n",
      " 27%|██▋       | 800/3000 [00:02<00:07, 302.12it/s]\u001b[A\n",
      " 29%|██▉       | 880/3000 [00:02<00:07, 296.32it/s]\u001b[A\n",
      " 32%|███▏      | 960/3000 [00:03<00:07, 288.74it/s]\u001b[A\n",
      " 35%|███▍      | 1040/3000 [00:03<00:06, 302.20it/s]\u001b[A\n",
      " 37%|███▋      | 1120/3000 [00:03<00:06, 296.34it/s]\u001b[A\n",
      " 40%|████      | 1200/3000 [00:03<00:05, 301.48it/s]\u001b[A\n",
      " 43%|████▎     | 1280/3000 [00:04<00:05, 304.08it/s]\u001b[A\n",
      " 45%|████▌     | 1360/3000 [00:04<00:05, 320.89it/s]\u001b[A\n",
      " 48%|████▊     | 1440/3000 [00:04<00:04, 313.33it/s]\u001b[A\n",
      " 51%|█████     | 1520/3000 [00:04<00:04, 303.54it/s]\u001b[A\n",
      " 53%|█████▎    | 1600/3000 [00:05<00:04, 301.99it/s]\u001b[A\n",
      " 56%|█████▌    | 1680/3000 [00:05<00:04, 304.96it/s]\u001b[A\n",
      " 59%|█████▊    | 1760/3000 [00:05<00:03, 313.54it/s]\u001b[A\n",
      " 61%|██████▏   | 1840/3000 [00:05<00:03, 324.58it/s]\u001b[A\n",
      " 64%|██████▍   | 1920/3000 [00:06<00:03, 327.65it/s]\u001b[A\n",
      " 67%|██████▋   | 2000/3000 [00:06<00:03, 319.44it/s]\u001b[A\n",
      " 69%|██████▉   | 2080/3000 [00:06<00:02, 323.62it/s]\u001b[A\n",
      " 72%|███████▏  | 2160/3000 [00:07<00:02, 297.28it/s]\u001b[A\n",
      " 75%|███████▍  | 2240/3000 [00:07<00:02, 303.23it/s]\u001b[A\n",
      " 77%|███████▋  | 2320/3000 [00:07<00:02, 318.88it/s]\u001b[A\n",
      " 80%|████████  | 2400/3000 [00:07<00:01, 320.56it/s]\u001b[A\n",
      " 83%|████████▎ | 2480/3000 [00:08<00:01, 306.84it/s]\u001b[A\n",
      " 85%|████████▌ | 2560/3000 [00:08<00:01, 307.02it/s]\u001b[A\n",
      " 88%|████████▊ | 2640/3000 [00:08<00:01, 301.19it/s]\u001b[A\n",
      " 91%|█████████ | 2720/3000 [00:08<00:00, 320.59it/s]\u001b[A\n",
      " 93%|█████████▎| 2800/3000 [00:09<00:00, 302.38it/s]\u001b[A\n",
      " 96%|█████████▌| 2880/3000 [00:09<00:00, 304.68it/s]\u001b[A\n",
      " 99%|█████████▊| 2960/3000 [00:09<00:00, 334.51it/s]\u001b[A\n",
      "100%|██████████| 3000/3000 [00:09<00:00, 314.37it/s]\u001b[A"
     ]
    }
   ],
   "source": [
    "voltages_elec3_30V_spin = np.array(Parallel(n_jobs=40)(delayed(get_dcV)(i) for i in tqdm(range(3000))))"
   ]
  },
  {
   "cell_type": "code",
   "execution_count": null,
   "metadata": {},
   "outputs": [],
   "source": []
  },
  {
   "cell_type": "code",
   "execution_count": 313,
   "metadata": {},
   "outputs": [
    {
     "ename": "NameError",
     "evalue": "name 'fit_kwargs' is not defined",
     "output_type": "error",
     "traceback": [
      "\u001b[0;31m---------------------------------------------------------------------------\u001b[0m",
      "\u001b[0;31mNameError\u001b[0m                                 Traceback (most recent call last)",
      "\u001b[0;32m<ipython-input-313-501f632fcb33>\u001b[0m in \u001b[0;36m<module>\u001b[0;34m\u001b[0m\n\u001b[1;32m      9\u001b[0m \u001b[0mb\u001b[0m\u001b[0;34m,\u001b[0m \u001b[0ma\u001b[0m \u001b[0;34m=\u001b[0m \u001b[0msignal\u001b[0m\u001b[0;34m.\u001b[0m\u001b[0mbutter\u001b[0m\u001b[0;34m(\u001b[0m\u001b[0;36m3\u001b[0m\u001b[0;34m,\u001b[0m \u001b[0;34m[\u001b[0m\u001b[0;36m2.\u001b[0m\u001b[0;34m*\u001b[0m\u001b[0;34m(\u001b[0m\u001b[0mdrive_freq\u001b[0m\u001b[0;34m-\u001b[0m\u001b[0mbandwidth\u001b[0m\u001b[0;34m/\u001b[0m\u001b[0;36m2.\u001b[0m\u001b[0;34m)\u001b[0m\u001b[0;34m/\u001b[0m\u001b[0mfsamp\u001b[0m\u001b[0;34m,\u001b[0m \u001b[0;36m2.\u001b[0m\u001b[0;34m*\u001b[0m\u001b[0;34m(\u001b[0m\u001b[0mdrive_freq\u001b[0m\u001b[0;34m+\u001b[0m\u001b[0mbandwidth\u001b[0m\u001b[0;34m/\u001b[0m\u001b[0;36m2.\u001b[0m\u001b[0;34m)\u001b[0m\u001b[0;34m/\u001b[0m\u001b[0mfsamp\u001b[0m \u001b[0;34m]\u001b[0m\u001b[0;34m,\u001b[0m \u001b[0mbtype\u001b[0m \u001b[0;34m=\u001b[0m \u001b[0;34m'bandpass'\u001b[0m\u001b[0;34m)\u001b[0m\u001b[0;34m\u001b[0m\u001b[0;34m\u001b[0m\u001b[0m\n\u001b[1;32m     10\u001b[0m \u001b[0mxx2\u001b[0m \u001b[0;34m=\u001b[0m \u001b[0msignal\u001b[0m\u001b[0;34m.\u001b[0m\u001b[0mfiltfilt\u001b[0m\u001b[0;34m(\u001b[0m\u001b[0mb\u001b[0m\u001b[0;34m,\u001b[0m \u001b[0ma\u001b[0m\u001b[0;34m,\u001b[0m \u001b[0mbb\u001b[0m\u001b[0;34m.\u001b[0m\u001b[0mother_data\u001b[0m\u001b[0;34m[\u001b[0m\u001b[0;36m3\u001b[0m\u001b[0;34m]\u001b[0m\u001b[0;34m)\u001b[0m\u001b[0;34m[\u001b[0m\u001b[0;34m:\u001b[0m\u001b[0;34m:\u001b[0m\u001b[0mdecimate\u001b[0m\u001b[0;34m]\u001b[0m\u001b[0;34m\u001b[0m\u001b[0;34m\u001b[0m\u001b[0m\n\u001b[0;32m---> 11\u001b[0;31m \u001b[0mm1_tmp\u001b[0m \u001b[0;34m=\u001b[0m \u001b[0mll\u001b[0m\u001b[0;34m.\u001b[0m\u001b[0mfind_mle_sin\u001b[0m\u001b[0;34m(\u001b[0m\u001b[0mxx2\u001b[0m\u001b[0;34m,\u001b[0m \u001b[0mfsamp\u001b[0m\u001b[0;34m=\u001b[0m\u001b[0;36m5000\u001b[0m\u001b[0;34m/\u001b[0m\u001b[0mdecimate\u001b[0m\u001b[0;34m,\u001b[0m \u001b[0mnoise_rms\u001b[0m\u001b[0;34m=\u001b[0m\u001b[0;36m1\u001b[0m\u001b[0;34m,\u001b[0m \u001b[0mplot\u001b[0m\u001b[0;34m=\u001b[0m\u001b[0;32mFalse\u001b[0m\u001b[0;34m,\u001b[0m \u001b[0msuppress_print\u001b[0m\u001b[0;34m=\u001b[0m\u001b[0;32mTrue\u001b[0m\u001b[0;34m,\u001b[0m \u001b[0;34m**\u001b[0m\u001b[0mfit_kwargs\u001b[0m\u001b[0;34m)\u001b[0m\u001b[0;34m\u001b[0m\u001b[0;34m\u001b[0m\u001b[0m\n\u001b[0m\u001b[1;32m     12\u001b[0m \u001b[0;34m\u001b[0m\u001b[0m\n\u001b[1;32m     13\u001b[0m \u001b[0mxx2\u001b[0m \u001b[0;34m=\u001b[0m \u001b[0msignal\u001b[0m\u001b[0;34m.\u001b[0m\u001b[0mfiltfilt\u001b[0m\u001b[0;34m(\u001b[0m\u001b[0mb\u001b[0m\u001b[0;34m,\u001b[0m \u001b[0ma\u001b[0m\u001b[0;34m,\u001b[0m \u001b[0mbb\u001b[0m\u001b[0;34m.\u001b[0m\u001b[0mpos_data\u001b[0m\u001b[0;34m[\u001b[0m\u001b[0;36m0\u001b[0m\u001b[0;34m]\u001b[0m\u001b[0;34m)\u001b[0m\u001b[0;34m[\u001b[0m\u001b[0;34m:\u001b[0m\u001b[0;34m:\u001b[0m\u001b[0mdecimate\u001b[0m\u001b[0;34m]\u001b[0m\u001b[0;34m\u001b[0m\u001b[0;34m\u001b[0m\u001b[0m\n",
      "\u001b[0;31mNameError\u001b[0m: name 'fit_kwargs' is not defined"
     ]
    }
   ],
   "source": [
    "i=1\n",
    "fname = r'/data/old_trap/20210817/bead1/neutrality/height_fb_0_7_x_41Hz_50V_delay_10s__spin_xz_100V_50kHz_files_3000/x_neutrality_50V_41Hz_'+str(i)+'.h5'\n",
    "    \n",
    "drive_freq = 41\n",
    "bb = bu.DataFile();\n",
    "bb.load(fname);\n",
    "bb.load_other_data()\n",
    "    \n",
    "b, a = signal.butter(3, [2.*(drive_freq-bandwidth/2.)/fsamp, 2.*(drive_freq+bandwidth/2.)/fsamp ], btype = 'bandpass')\n",
    "xx2 = signal.filtfilt(b, a, bb.other_data[3])[::decimate]\n",
    "m1_tmp = ll.find_mle_sin(xx2, fsamp=5000/decimate, noise_rms=1, plot=False, suppress_print=True, **fit_kwargs)\n",
    "    \n",
    "xx2 = signal.filtfilt(b, a, bb.pos_data[0])[::decimate]\n",
    "\n",
    "_,ax = plt.subplots()\n",
    "ax.scatter(range(50000), bb.other_data[3])"
   ]
  }
 ],
 "metadata": {
  "kernelspec": {
   "display_name": "Python 3",
   "language": "python",
   "name": "python3"
  },
  "language_info": {
   "codemirror_mode": {
    "name": "ipython",
    "version": 3
   },
   "file_extension": ".py",
   "mimetype": "text/x-python",
   "name": "python",
   "nbconvert_exporter": "python",
   "pygments_lexer": "ipython3",
   "version": "3.6.9"
  }
 },
 "nbformat": 4,
 "nbformat_minor": 4
}
