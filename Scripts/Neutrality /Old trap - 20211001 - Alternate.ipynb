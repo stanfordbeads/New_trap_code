{
 "cells": [
  {
   "cell_type": "code",
   "execution_count": 1,
   "metadata": {},
   "outputs": [],
   "source": [
    "import numpy as np\n",
    "import matplotlib.pyplot as plt\n",
    "import matplotlib\n",
    "from scipy import signal\n",
    "from scipy.optimize import minimize\n",
    "\n",
    "import random\n",
    "\n",
    "import h5py\n",
    "from IPython.utils import io\n",
    "\n",
    "from joblib import Parallel, delayed\n",
    "from tqdm import tqdm\n",
    "import sys"
   ]
  },
  {
   "cell_type": "code",
   "execution_count": 2,
   "metadata": {},
   "outputs": [],
   "source": [
    "%matplotlib widget\n",
    "\n",
    "%reload_ext autoreload\n",
    "%autoreload 2"
   ]
  },
  {
   "cell_type": "code",
   "execution_count": 3,
   "metadata": {},
   "outputs": [],
   "source": [
    "sys.path.append('../../../../nadavp/new_trap/Tools/')\n",
    "sys.path.append('../../../../nadavp/new_trap/Tools/StatFramework/')\n",
    "sys.path.append('../../../../nadavp/opt_lev_analysis/lib/')\n",
    "import BeadDataFile\n",
    "from discharge_tools import *"
   ]
  },
  {
   "cell_type": "code",
   "execution_count": 4,
   "metadata": {},
   "outputs": [],
   "source": [
    "from likelihood_calculator import likelihood_analyser\n",
    "from likelihood_calculator import GravityFramework\n",
    "from likelihood_calculator import auxiliary_functions as aux\n",
    "gfw = GravityFramework.GravityFramework()"
   ]
  },
  {
   "cell_type": "code",
   "execution_count": 5,
   "metadata": {},
   "outputs": [],
   "source": [
    "import bead_util as bu\n",
    "# import calib_util as cal\n",
    "import transfer_func_util as tf\n",
    "import configuration as config"
   ]
  },
  {
   "cell_type": "markdown",
   "metadata": {},
   "source": [
    "### Discharge data"
   ]
  },
  {
   "cell_type": "code",
   "execution_count": 127,
   "metadata": {},
   "outputs": [],
   "source": [
    "ll = likelihood_analyser.LikelihoodAnalyser()\n",
    "bandwidth = 0.5\n",
    "decimate = 10\n",
    "drive_freq = 139\n",
    "fsamp = 5000\n",
    "def func1_scale(i):\n",
    "    bb = step_file_objs[i]\n",
    "        \n",
    "    freq2 = np.fft.rfftfreq(len(bb.other_data[5]), d=1./5000)\n",
    "    fft_angles = np.angle(np.fft.rfft(bb.other_data[5]))\n",
    "    phi_tmp2 = (fft_angles[freq2==drive_freq]+np.pi/2)%(2*np.pi)\n",
    "    print(phi_tmp2,np.std(bb.other_data[3])*np.sqrt(2)*100)\n",
    "\n",
    "    fit_kwargs = {'A': 0, 'f': drive_freq, 'phi': phi_tmp2, \n",
    "                  'error_A': 1, 'error_f': 1, 'error_phi': 0.5, 'errordef': 1,\n",
    "                  'limit_A': [-1000000, 10000000], \n",
    "                  'print_level': 0, 'fix_f': True, 'fix_phi': True}\n",
    "\n",
    "    frequency = fit_kwargs['f']\n",
    "\n",
    "    b, a = signal.butter(3, [2.*(drive_freq-bandwidth/2.)/fsamp, 2.*(drive_freq+bandwidth/2.)/fsamp ], btype = 'bandpass')\n",
    "    bb.load_other_data()\n",
    "    xx2 = signal.filtfilt(b, a, bb.pos_data[1])[::decimate]\n",
    "    \n",
    "    m1_tmp = ll.find_mle_sin(xx2, fsamp=5000/decimate, noise_rms=1, plot=False, suppress_print=True, **fit_kwargs)\n",
    "#     print(m1_tmp.values[2]-phi_tmp2)\n",
    "    return m1_tmp.values[0]"
   ]
  },
  {
   "cell_type": "code",
   "execution_count": 128,
   "metadata": {},
   "outputs": [
    {
     "name": "stdout",
     "output_type": "stream",
     "text": [
      "[ 6.1060245] 46.808918858\n"
     ]
    },
    {
     "data": {
      "text/plain": [
       "-6.595881897141226"
      ]
     },
     "execution_count": 128,
     "metadata": {},
     "output_type": "execute_result"
    }
   ],
   "source": [
    "func1_scale(0)"
   ]
  },
  {
   "cell_type": "code",
   "execution_count": 129,
   "metadata": {},
   "outputs": [],
   "source": [
    "step_cal_dir = r'/data/old_trap/20211001/bead1/discharge/recharge_20211013/'\n",
    "max_file = 500"
   ]
  },
  {
   "cell_type": "code",
   "execution_count": 120,
   "metadata": {},
   "outputs": [
    {
     "name": "stdout",
     "output_type": "stream",
     "text": [
      "175\n"
     ]
    }
   ],
   "source": [
    "step_cal_files = []\n",
    "for root, dirnames, filenames in os.walk(step_cal_dir):\n",
    "    for filename in fnmatch.filter(filenames, '*' + config.extensions['data']):\n",
    "        if '_fpga.h5' in filename:\n",
    "            continue\n",
    "        step_cal_files.append(os.path.join(root, filename))\n",
    "step_cal_files.sort(key = bu.find_str)\n",
    "num_calib_files = len(step_cal_files)\n",
    "print(num_calib_files)\n",
    "\n",
    "# Do the step calibration\n",
    "\n",
    "step_file_objs = []\n",
    "for filname in step_cal_files[:]:\n",
    "    try:\n",
    "        df = bu.DataFile();\n",
    "        df.load(filname);\n",
    "        df.load_other_data()\n",
    "        step_file_objs.append(df);\n",
    "    except:\n",
    "        print('***')"
   ]
  },
  {
   "cell_type": "code",
   "execution_count": 130,
   "metadata": {
    "scrolled": true
   },
   "outputs": [
    {
     "name": "stdout",
     "output_type": "stream",
     "text": [
      "0 / 175\n",
      "[ 6.1060245] 46.808918858\n",
      "1 / 175\n",
      "[ 5.70585241] 46.8139478139\n",
      "2 / 175\n",
      "[ 2.8430897] 46.8069680452\n",
      "3 / 175\n",
      "[ 4.6126093] 46.8089831696\n",
      "4 / 175\n",
      "[ 5.84814858] 46.807126936\n",
      "5 / 175\n",
      "[ 2.40443585] 46.8099933925\n",
      "6 / 175\n",
      "[ 5.52233212] 46.808383493\n",
      "7 / 175\n",
      "[ 5.21757971] 46.8093727407\n",
      "8 / 175\n",
      "[ 4.53555238] 46.8131521942\n",
      "9 / 175\n",
      "[ 5.22397503] 46.814888696\n",
      "10 / 175\n",
      "[ 4.85839615] 46.810626314\n",
      "11 / 175\n",
      "[ 4.83988584] 46.8071779938\n",
      "12 / 175\n",
      "[ 2.45546817] 46.8172939223\n",
      "13 / 175\n",
      "[ 0.04294623] 46.8125752567\n",
      "14 / 175\n",
      "[ 3.39915234] 46.8096528553\n",
      "15 / 175\n",
      "[ 2.0269053] 46.8155759051\n",
      "16 / 175\n",
      "[ 0.32479113] 46.8194221025\n",
      "17 / 175\n",
      "[ 5.75815931] 46.8188989916\n",
      "18 / 175\n",
      "[ 1.46080029] 46.8134821288\n",
      "19 / 175\n",
      "[ 5.12523719] 46.821452674\n",
      "20 / 175\n",
      "[ 2.05522277] 46.8145898035\n",
      "21 / 175\n",
      "[ 5.54829133] 46.8216801948\n",
      "22 / 175\n",
      "[ 1.05852631] 46.8237787287\n",
      "23 / 175\n",
      "[ 1.42242133] 46.8167774553\n",
      "24 / 175\n",
      "[ 4.95636114] 46.8229808012\n",
      "25 / 175\n",
      "[ 0.27998662] 46.8211623108\n",
      "26 / 175\n",
      "[ 2.86058377] 46.8240369047\n",
      "27 / 175\n",
      "[ 2.2362994] 46.8232333874\n",
      "28 / 175\n",
      "[ 1.54067488] 46.8266385033\n",
      "29 / 175\n",
      "[ 3.90887288] 46.8278004613\n",
      "30 / 175\n",
      "[ 1.16418252] 46.8277546771\n",
      "31 / 175\n",
      "[ 3.76898771] 46.8285637677\n",
      "32 / 175\n",
      "[ 5.16212698] 46.8260804649\n",
      "33 / 175\n",
      "[ 3.30442379] 46.8277383494\n",
      "34 / 175\n",
      "[ 1.44025458] 46.8323769902\n",
      "35 / 175\n",
      "[ 4.44921259] 46.8296554321\n",
      "36 / 175\n",
      "[ 0.09395929] 46.8296382494\n",
      "37 / 175\n",
      "[ 5.51883674] 46.8283210513\n",
      "38 / 175\n",
      "[ 4.01168931] 46.8350244405\n",
      "39 / 175\n",
      "[ 5.57312003] 46.8383936389\n",
      "40 / 175\n",
      "[ 5.86390448] 46.8313027155\n",
      "41 / 175\n",
      "[ 1.70304776] 46.8392959244\n",
      "42 / 175\n",
      "[ 0.20550513] 46.8383983894\n",
      "43 / 175\n",
      "[ 0.23534882] 46.8387697819\n",
      "44 / 175\n",
      "[ 5.84200404] 46.8414854504\n",
      "45 / 175\n",
      "[ 0.59019533] 46.8414079802\n",
      "46 / 175\n",
      "[ 1.19074294] 46.8414671288\n",
      "47 / 175\n",
      "[ 5.06575627] 46.8425654851\n",
      "48 / 175\n",
      "[ 5.55916652] 46.8435423849\n",
      "49 / 175\n",
      "[ 4.79909021] 46.8429898107\n",
      "50 / 175\n",
      "[ 2.76124297] 46.8445027036\n",
      "51 / 175\n",
      "[ 2.46605197] 46.843160368\n",
      "52 / 175\n",
      "[ 4.37386676] 46.8442590374\n",
      "53 / 175\n",
      "[ 5.28438998] 46.8438317364\n",
      "54 / 175\n",
      "[ 5.34613783] 46.84531836\n",
      "55 / 175\n",
      "[ 3.9870437] 46.848989139\n",
      "56 / 175\n",
      "[ 6.28172226] 46.8512706302\n",
      "57 / 175\n",
      "[ 2.32921397] 46.844787407\n",
      "58 / 175\n",
      "[ 3.06992653] 46.8449360044\n",
      "59 / 175\n",
      "[ 0.32475649] 46.8465879241\n",
      "60 / 175\n",
      "[ 5.08466957] 46.8435610739\n",
      "61 / 175\n",
      "[ 1.62948656] 46.8465110991\n",
      "62 / 175\n",
      "[ 4.3165906] 46.8441826989\n",
      "63 / 175\n",
      "[ 0.39459581] 46.847140399\n",
      "64 / 175\n",
      "[ 2.28982843] 46.8490192476\n",
      "65 / 175\n",
      "[ 3.5475991] 46.8463503891\n",
      "66 / 175\n",
      "[ 0.09342399] 46.8504980276\n",
      "67 / 175\n",
      "[ 2.38933347] 46.8498110196\n",
      "68 / 175\n",
      "[ 3.83343116] 46.8467570346\n",
      "69 / 175\n",
      "[ 1.58740964] 46.8454594121\n",
      "70 / 175\n",
      "[ 0.78471806] 46.8417979457\n",
      "71 / 175\n",
      "[ 5.68175586] 46.8483956343\n",
      "72 / 175\n",
      "[ 2.49941592] 46.8450622302\n",
      "73 / 175\n",
      "[ 3.74965104] 46.8460145408\n",
      "74 / 175\n",
      "[ 5.88420134] 46.8499800968\n",
      "75 / 175\n",
      "[ 2.78204284] 46.8481858057\n",
      "76 / 175\n",
      "[ 0.928756] 46.850336739\n",
      "77 / 175\n",
      "[ 3.61094806] 46.8484019374\n",
      "78 / 175\n",
      "[ 6.08200305] 46.8438066665\n",
      "79 / 175\n",
      "[ 4.18723547] 46.8456420349\n",
      "80 / 175\n",
      "[ 2.85410737] 46.8460480752\n",
      "81 / 175\n",
      "[ 5.15729506] 46.844272698\n",
      "82 / 175\n",
      "[ 3.2789478] 46.8403303221\n",
      "83 / 175\n",
      "[ 4.71327539] 46.8452214399\n",
      "84 / 175\n",
      "[ 0.28611285] 46.8482011691\n",
      "85 / 175\n",
      "[ 5.02781454] 46.8415209834\n",
      "86 / 175\n",
      "[ 2.81214339] 46.8432590167\n",
      "87 / 175\n",
      "[ 4.61320133] 46.8466380518\n",
      "88 / 175\n",
      "[ 0.28470946] 46.8484594115\n",
      "89 / 175\n",
      "[ 1.14664492] 46.8402490566\n",
      "90 / 175\n",
      "[ 4.51989949] 46.8423656181\n",
      "91 / 175\n",
      "[ 1.40104717] 46.8471037404\n",
      "92 / 175\n",
      "[ 0.19336856] 46.8413421643\n",
      "93 / 175\n",
      "[ 5.13329363] 46.8422934355\n",
      "94 / 175\n",
      "[ 0.27860938] 46.8421222208\n",
      "95 / 175\n",
      "[ 2.95287118] 46.8439787489\n",
      "96 / 175\n",
      "[ 1.41718164] 46.8361724221\n",
      "97 / 175\n",
      "[ 0.42483974] 46.8417520508\n",
      "98 / 175\n",
      "[ 5.82546211] 46.8393990256\n",
      "99 / 175\n",
      "[ 5.70316897] 46.8408016364\n",
      "100 / 175\n",
      "[ 4.71648108] 46.8367373256\n",
      "101 / 175\n",
      "[ 1.59422699] 46.8371838437\n",
      "102 / 175\n",
      "[ 1.24992422] 46.8378514592\n",
      "103 / 175\n",
      "[ 1.77147176] 46.835626557\n",
      "104 / 175\n",
      "[ 4.44037123] 46.83590715\n",
      "105 / 175\n",
      "[ 1.31837767] 46.8372355929\n",
      "106 / 175\n",
      "[ 3.92426772] 46.8376634882\n",
      "107 / 175\n",
      "[ 2.75182735] 46.8316062589\n",
      "108 / 175\n",
      "[ 3.66728674] 46.835079311\n",
      "109 / 175\n",
      "[ 1.81318694] 46.8341822341\n",
      "110 / 175\n",
      "[ 1.53771671] 46.8336425987\n",
      "111 / 175\n",
      "[ 5.21309882] 46.8309019713\n",
      "112 / 175\n",
      "[ 0.94899943] 46.8288729839\n",
      "113 / 175\n",
      "[ 2.58448018] 46.8310696975\n",
      "114 / 175\n",
      "[ 3.10558096] 46.8350943307\n",
      "115 / 175\n",
      "[ 2.2893492] 46.8290742695\n",
      "116 / 175\n",
      "[ 0.60272368] 46.8305570735\n",
      "117 / 175\n",
      "[ 4.05555603] 46.8269281223\n",
      "118 / 175\n",
      "[ 5.65123668] 46.8304083854\n",
      "119 / 175\n",
      "[ 0.9719077] 46.833688775\n",
      "120 / 175\n",
      "[ 5.00124749] 46.8295668822\n",
      "121 / 175\n",
      "[ 3.2327496] 46.8267584092\n",
      "122 / 175\n",
      "[ 3.07807819] 46.8250600382\n",
      "123 / 175\n",
      "[ 4.88847846] 46.8256445121\n",
      "124 / 175\n",
      "[ 6.10241674] 46.8273566547\n",
      "125 / 175\n",
      "[ 5.6251845] 46.8247182931\n",
      "126 / 175\n",
      "[ 2.88805616] 46.8264182798\n",
      "127 / 175\n",
      "[ 2.76108063] 46.8247919014\n",
      "128 / 175\n",
      "[ 2.82163397] 46.8222532256\n",
      "129 / 175\n",
      "[ 0.55162963] 46.8204647637\n",
      "130 / 175\n",
      "[ 5.98405183] 46.8225682404\n",
      "131 / 175\n",
      "[ 2.02484453] 46.819273827\n",
      "132 / 175\n",
      "[ 2.25370374] 46.8230988408\n",
      "133 / 175\n",
      "[ 5.27042415] 46.8304874018\n",
      "134 / 175\n",
      "[ 1.09453854] 46.8199487241\n",
      "135 / 175\n",
      "[ 2.16326548] 46.8237235714\n",
      "136 / 175\n",
      "[ 3.91933214] 46.8238552651\n",
      "137 / 175\n",
      "[ 4.99626826] 46.8258605461\n",
      "138 / 175\n",
      "[ 0.69640008] 46.8216225198\n",
      "139 / 175\n",
      "[ 2.62482716] 46.8234697406\n",
      "140 / 175\n",
      "[ 0.23531553] 46.825427026\n",
      "141 / 175\n",
      "[ 5.04001886] 46.8236678331\n",
      "142 / 175\n",
      "[ 6.17195809] 46.8276159297\n",
      "143 / 175\n",
      "[ 5.00795276] 46.8265771125\n",
      "144 / 175\n",
      "[ 0.85737145] 46.8258542369\n",
      "145 / 175\n",
      "[ 4.89557788] 46.8196850352\n",
      "146 / 175\n",
      "[ 6.00894913] 46.8285672869\n",
      "147 / 175\n",
      "[ 1.10591364] 46.8317716452\n",
      "148 / 175\n",
      "[ 5.3525121] 46.8307233075\n",
      "149 / 175\n",
      "[ 4.34001006] 46.8239616931\n",
      "150 / 175\n",
      "[ 3.64856101] 46.8245167963\n",
      "151 / 175\n",
      "[ 0.89655283] 46.8272886551\n",
      "152 / 175\n",
      "[ 4.40308563] 46.8287781892\n",
      "153 / 175\n",
      "[ 5.2858549] 46.8321422814\n",
      "154 / 175\n",
      "[ 1.14603817] 46.8300341766\n",
      "155 / 175\n",
      "[ 2.05555868] 46.8305735903\n",
      "156 / 175\n",
      "[ 4.56327005] 46.8273130689\n",
      "157 / 175\n",
      "[ 2.14744613] 46.8297357225\n",
      "158 / 175\n",
      "[ 0.25944948] 46.832784005\n",
      "159 / 175\n",
      "[ 0.08180265] 46.8354626797\n",
      "160 / 175\n",
      "[ 5.70156013] 46.8339112878\n",
      "161 / 175\n",
      "[ 4.54529186] 46.8318694649\n",
      "162 / 175\n",
      "[ 3.53904301] 46.8327289709\n",
      "163 / 175\n",
      "[ 0.4511062] 46.8340484605\n",
      "164 / 175\n",
      "[ 0.84161208] 46.8322550988\n",
      "165 / 175\n",
      "[ 5.69948319] 46.8360103838\n",
      "166 / 175\n",
      "[ 0.17913904] 46.8344645352\n",
      "167 / 175\n",
      "[ 3.89085485] 46.8390828108\n",
      "168 / 175\n",
      "[ 5.17296658] 46.841014912\n",
      "169 / 175\n",
      "[ 6.05983334] 46.8376874186\n",
      "170 / 175\n",
      "[ 1.34769569] 46.8395137679\n",
      "171 / 175\n",
      "[ 5.42408905] 46.8366285922\n",
      "172 / 175\n",
      "[ 4.92160236] 46.8350948755\n",
      "173 / 175\n",
      "[ 0.82444142] 46.8370604669\n",
      "174 / 175\n",
      "[ 2.0589798] 46.8381073702\n"
     ]
    }
   ],
   "source": [
    "amps2 = []\n",
    "for i in range(num_calib_files):\n",
    "    print(i,'/',len(step_cal_files))\n",
    "    amps2.append(func1_scale(i))"
   ]
  },
  {
   "cell_type": "code",
   "execution_count": 135,
   "metadata": {},
   "outputs": [
    {
     "data": {
      "application/vnd.jupyter.widget-view+json": {
       "model_id": "f5fb5968c9e94284adf6b7d41e8a8bec",
       "version_major": 2,
       "version_minor": 0
      },
      "text/plain": [
       "Canvas(toolbar=Toolbar(toolitems=[('Home', 'Reset original view', 'home', 'home'), ('Back', 'Back to previous …"
      ]
     },
     "metadata": {},
     "output_type": "display_data"
    }
   ],
   "source": [
    "# amps = np.array(amps)\n",
    "amps2 = np.array(amps2)\n",
    "# amps1 = np.array(amps1)\n",
    "_,ax = plt.subplots(figsize=(9.5,4))\n",
    "# scale = 375\n",
    "\n",
    "# Perrinf\n",
    "# ax.scatter(range(len(amps3)), amps3/scaleY, label='fit phase', alpha=0.3)\n",
    "ax.scatter(range(len(amps2)), amps2/scaleY, label='fit phase')\n",
    "# ax.scatter(range(len(amps)), amps/scaleY, label='fit phase', alpha=0.4)\n",
    "# ax.scatter(range(len(amps1)), amps1/scale, label='fit phase', alpha=0.8)\n",
    "\n",
    "# ax.set(xlabel='dataset', ylabel='electron charges', ylim=(-3,1), xlim=(None,None))\n",
    "ax.grid(axis='y')\n",
    "ax.minorticks_on()\n",
    "ax.grid(which='major', linestyle='-', linewidth='0.5', color='red')\n",
    "ax.grid(which='minor', linestyle=':', linewidth='0.5', color='black')\n",
    "# ax.legend()\n",
    "from matplotlib.ticker import MaxNLocator\n",
    "\n",
    "ax.yaxis.set_major_locator(MaxNLocator(integer=True))"
   ]
  },
  {
   "cell_type": "code",
   "execution_count": 132,
   "metadata": {},
   "outputs": [
    {
     "name": "stdout",
     "output_type": "stream",
     "text": [
      "Scales are  83.249919569\n",
      "voltage:  24.0265126779\n"
     ]
    }
   ],
   "source": [
    "# scale = -1*np.abs(np.mean(amps3[200:250]))/2\n",
    "# scale = -1*np.abs(np.mean(amps[230:240]))/3\n",
    "# scale = -1*np.abs(np.mean(amps[97:118]))/4\n",
    "scaleY = np.abs(np.mean(amps2[30:90]))\n",
    "print(\"Scales are \", scaleY)\n",
    "bb = step_file_objs[-1]\n",
    "drive_freq = 139\n",
    "bandwidth=2\n",
    "b, a = signal.butter(3, [2.*(drive_freq-bandwidth/2.)/fsamp, 2.*(drive_freq+bandwidth/2.)/fsamp ], btype = 'bandpass')\n",
    "xx2 = signal.filtfilt(b, a, bb.other_data[5])\n",
    "voltage = np.std(xx2)*np.sqrt(2)*100\n",
    "print(\"voltage: \", voltage)"
   ]
  },
  {
   "cell_type": "code",
   "execution_count": 134,
   "metadata": {},
   "outputs": [
    {
     "data": {
      "text/plain": [
       "(0.8493877551020408, 2.8029795918367344)"
      ]
     },
     "execution_count": 134,
     "metadata": {},
     "output_type": "execute_result"
    }
   ],
   "source": [
    "83.24/98, 83.24/98*3.3"
   ]
  },
  {
   "cell_type": "code",
   "execution_count": null,
   "metadata": {},
   "outputs": [],
   "source": []
  },
  {
   "cell_type": "code",
   "execution_count": 585,
   "metadata": {},
   "outputs": [
    {
     "name": "stdout",
     "output_type": "stream",
     "text": [
      "voltage:  9.56767040051 9.35558843601\n"
     ]
    },
    {
     "data": {
      "text/plain": [
       "[61.757437999298993,\n",
       " 6.9271469440944031,\n",
       " 6.7703950401382524,\n",
       " 0.070769370716167054,\n",
       " 0.057274780609570891,\n",
       " 0.065717635375355604,\n",
       " 0.060547750817076931]"
      ]
     },
     "execution_count": 585,
     "metadata": {},
     "output_type": "execute_result"
    }
   ],
   "source": [
    "bb = step_file_objs[-1]\n",
    "drive_freq = 139\n",
    "bandwidth=2\n",
    "b, a = signal.butter(3, [2.*(drive_freq-bandwidth/2.)/fsamp, 2.*(drive_freq+bandwidth/2.)/fsamp ], btype = 'bandpass')\n",
    "xx2 = signal.filtfilt(b, a, bb.other_data[1])\n",
    "voltage11 = np.std(xx2)*np.sqrt(2)*100\n",
    "xx2 = signal.filtfilt(b, a, bb.other_data[2])\n",
    "voltage22 = np.std(xx2)*np.sqrt(2)*100\n",
    "print(\"voltage: \", voltage11, voltage22)\n",
    "[np.std(bb.other_data[i])*100 for i in range(7)]"
   ]
  },
  {
   "cell_type": "code",
   "execution_count": 17,
   "metadata": {},
   "outputs": [
    {
     "data": {
      "text/plain": [
       "(96.89396155735751, 97.9992158717, 128.33230649865476)"
      ]
     },
     "execution_count": 17,
     "metadata": {},
     "output_type": "execute_result"
    }
   ],
   "source": [
    "scaleY = 97.9992158717\n",
    "scaleZ = scaleY*(418+627)/(392+406)\n",
    "scaleX = scaleY*(421+368)/(392+406)\n",
    "scaleX, scaleY, scaleZ"
   ]
  },
  {
   "cell_type": "markdown",
   "metadata": {},
   "source": [
    "### Look at neutrality data"
   ]
  },
  {
   "cell_type": "code",
   "execution_count": 124,
   "metadata": {},
   "outputs": [],
   "source": [
    "ll = likelihood_analyser.LikelihoodAnalyser()\n",
    "bandwidth = 2\n",
    "decimate = 10\n",
    "def get_amp(i):\n",
    "    \n",
    "    fname = r'/data/old_trap/20211001/bead1/neutrality5/Y_175Vpp_alternate_139Hz_spin_XZ_77kHz_no_delay_no_height_fb/Y_175Vpp_'+str(i)+'.h5'\n",
    "#     fname = r'/data/old_trap/20211001/bead1/discharge/recharge_20211013/Y_50Vpp_'+str(i)+'.h5'\n",
    "\n",
    "    drive_freq = 139\n",
    "    bb = bu.DataFile();\n",
    "    bb.load(fname);\n",
    "    bb.load_other_data()\n",
    "    \n",
    "    jj = i%2\n",
    "    freq2 = np.fft.rfftfreq(len(bb.other_data[5+jj]), d=1./5000)\n",
    "    fft_angles = np.angle(np.fft.rfft(bb.other_data[5+jj]))\n",
    "    phi_tmp2 = (fft_angles[freq2==drive_freq]+np.pi/2)%(2*np.pi)\n",
    "\n",
    "#     fit_kwargs = {'A': 0.23, 'f': drive_freq, 'phi': 0, \n",
    "#                   'error_A': 1, 'error_f': 10, 'error_phi': 0.5, 'errordef': 1,\n",
    "#                   'limit_A': [0, 1], 'fix_f': True, 'fix_phi': False,\n",
    "#                   'print_level': 0}\n",
    "\n",
    "    b, a = signal.butter(3, [2.*(drive_freq-bandwidth/2.)/fsamp, 2.*(drive_freq+bandwidth/2.)/fsamp ], btype = 'bandpass')\n",
    "#     xx2 = signal.filtfilt(b, a, bb.other_data[5+jj])[::decimate]    \n",
    "#     m1_tmp = ll.find_mle_sin(xx2, fsamp=5000/decimate, noise_rms=1, plot=False, suppress_print=True, **fit_kwargs)\n",
    "#     phi_tmp = m1_tmp.values[2]\n",
    "\n",
    "#     print(phi_tmp, phi_tmp2, m1_tmp.values[0]*100, np.std(xx2)*np.sqrt(2)*100)\n",
    "    \n",
    "    if jj==0:\n",
    "        phase_diff = 0.12\n",
    "    else:\n",
    "        phase_diff = 0.05\n",
    "            \n",
    "#     fit_kwargs = {'A': 0, 'f': drive_freq, 'phi': phi_tmp2+phase_diff, 'sigma': 1100,\n",
    "#                   'error_A': 0.1, 'error_f': 1, 'error_phi': 0.5, 'errordef': 1, 'error_sigma':50,\n",
    "#                   'limit_A': [-100000, 100000], 'limit_sigma':[100,30000], 'fix_phi': True, 'fix_f': True,\n",
    "#                   'print_level': 0}\n",
    "    \n",
    "    fit_kwargs = {'A': 0, 'f': drive_freq, 'phi': phi_tmp2+phase_diff, \n",
    "                  'error_A': 1, 'error_f': 1, 'error_phi': 0.5, 'errordef': 1,\n",
    "                  'limit_A': [-100000, 100000], 'fix_f': True, 'fix_phi': True,\n",
    "                  'print_level': 0}\n",
    "    \n",
    "    xx2 = signal.filtfilt(b, a, bb.pos_data[1])[::decimate]\n",
    "    m1_tmp = ll.find_mle_sin(xx2, fsamp=5000/decimate, noise_rms=1, plot=False, suppress_print=True, **fit_kwargs)\n",
    "    \n",
    "    drive_freq = drive_freq*2\n",
    "    fit_kwargs = {'A': 0, 'f': drive_freq, 'phi': phi_tmp2+np.pi/2+phase_diff, \n",
    "                  'error_A': 1, 'error_f': 1, 'error_phi': 0.5, 'errordef': 1,\n",
    "                  'limit_A': [-100000, 100000], 'fix_f': True, 'fix_phi': True,\n",
    "                  'print_level': 0}\n",
    "\n",
    "        \n",
    "    b, a = signal.butter(3, [2.*(drive_freq-bandwidth/2.)/fsamp, 2.*(drive_freq+bandwidth/2.)/fsamp ], btype = 'bandpass')\n",
    "    xx2 = signal.filtfilt(b, a, bb.pos_data[1])[::decimate]\n",
    "    m2_tmp = ll.find_mle_sin(xx2, fsamp=5000/decimate, noise_rms=1, plot=False, suppress_print=True, **fit_kwargs)\n",
    "\n",
    "    #     print(m1_tmp.values)\n",
    "    return m1_tmp.values[0], m2_tmp.values[0], m1_tmp.fval"
   ]
  },
  {
   "cell_type": "code",
   "execution_count": 126,
   "metadata": {},
   "outputs": [],
   "source": [
    "ll = likelihood_analyser.LikelihoodAnalyser()\n",
    "bandwidth = 2\n",
    "decimate = 10\n",
    "def get_ampZ(i):\n",
    "    \n",
    "    fname = r'/data/old_trap/20211001/bead1/neutrality11/Z_200Vpp_alternate_139Hz_spin_XY_117kHz_200Vpp_delay_6sec_with_height_fb/Z_200Vpp_'+str(i)+'.h5'\n",
    "#     fname = r'/data/old_trap/20211001/bead1/both_electrodes/Z_139Hz_20Vpp/Z_139Hz_20Vpp_'+str(i)+'.h5'\n",
    "\n",
    "    drive_freq = 139\n",
    "    bb = bu.DataFile();\n",
    "    bb.load(fname);\n",
    "    bb.load_other_data()\n",
    "    \n",
    "    jj = i%2\n",
    "    freq2 = np.fft.rfftfreq(len(bb.other_data[1+jj]), d=1./5000)\n",
    "    fft_angles = np.angle(np.fft.rfft(bb.other_data[1+jj]))\n",
    "    phi_tmp2 = (fft_angles[freq2==drive_freq]+np.pi/2)%(2*np.pi)\n",
    "\n",
    "    #     fit_kwargs = {'A': 0.23, 'f': drive_freq, 'phi': 0, \n",
    "#                   'error_A': 1, 'error_f': 10, 'error_phi': 0.5, 'errordef': 1,\n",
    "#                   'limit_A': [0, 1], 'fix_f': True, 'fix_phi': False,\n",
    "#                   'print_level': 0}\n",
    "\n",
    "    b, a = signal.butter(3, [2.*(drive_freq-bandwidth/2.)/fsamp, 2.*(drive_freq+bandwidth/2.)/fsamp ], btype = 'bandpass')\n",
    "#     xx2 = signal.filtfilt(b, a, bb.other_data[5+jj])[::decimate]    \n",
    "#     m1_tmp = ll.find_mle_sin(xx2, fsamp=5000/decimate, noise_rms=1, plot=False, suppress_print=True, **fit_kwargs)\n",
    "#     phi_tmp = m1_tmp.values[2]\n",
    "\n",
    "#     print(phi_tmp, phi_tmp2, m1_tmp.values[0]*100, np.std(xx2)*np.sqrt(2)*100)\n",
    "    \n",
    "    if jj==0:\n",
    "        phase_diff = 4.8\n",
    "    else:\n",
    "        phase_diff = 4.8\n",
    "            \n",
    "#     fit_kwargs = {'A': 0, 'f': drive_freq, 'phi': phi_tmp2+phase_diff, 'sigma': 1100,\n",
    "#                   'error_A': 0.1, 'error_f': 1, 'error_phi': 0.5, 'errordef': 1, 'error_sigma':50,\n",
    "#                   'limit_A': [-100000, 100000], 'limit_sigma':[100,3000000], 'fix_phi': True, 'fix_f': True,\n",
    "#                   'print_level': 0}\n",
    "    \n",
    "    fit_kwargs = {'A': 0, 'f': drive_freq, 'phi': phi_tmp2+phase_diff, \n",
    "                  'error_A': 1, 'error_f': 1, 'error_phi': 0.5, 'errordef': 1,\n",
    "                  'limit_A': [-100000, 100000], 'fix_f': True, 'fix_phi': True,\n",
    "                  'print_level': 0}\n",
    "    \n",
    "    xx2 = signal.filtfilt(b, a, bb.pos_data[2])[::decimate]\n",
    "    m1_tmp = ll.find_mle_sin(xx2, fsamp=5000/decimate, noise_rms=1, plot=False, suppress_print=True, **fit_kwargs)\n",
    "    \n",
    "    drive_freq = drive_freq*2\n",
    "    fit_kwargs = {'A': 0, 'f': drive_freq, 'phi': phi_tmp2+phase_diff+np.pi/2, \n",
    "                  'error_A': 1, 'error_f': 1, 'error_phi': 0.5, 'errordef': 1,\n",
    "                  'limit_A': [-1000000, 1000000], 'fix_f': True, 'fix_phi': True,\n",
    "                  'print_level': 0}\n",
    "\n",
    "        \n",
    "    b, a = signal.butter(3, [2.*(drive_freq-bandwidth/2.)/fsamp, 2.*(drive_freq+bandwidth/2.)/fsamp ], btype = 'bandpass')\n",
    "    xx2 = signal.filtfilt(b, a, bb.pos_data[2])[::decimate]\n",
    "    m2_tmp = ll.find_mle_sin(xx2, fsamp=5000/decimate, noise_rms=1, plot=False, suppress_print=True, **fit_kwargs)\n",
    "\n",
    "    return m1_tmp.values[0], m2_tmp.values[0], m1_tmp.values[3], m1_tmp.fval"
   ]
  },
  {
   "cell_type": "code",
   "execution_count": 125,
   "metadata": {},
   "outputs": [
    {
     "data": {
      "text/plain": [
       "-1.537964620962157"
      ]
     },
     "execution_count": 125,
     "metadata": {},
     "output_type": "execute_result"
    }
   ],
   "source": [
    "i=2500\n",
    "get_ampZ(i)[0]"
   ]
  },
  {
   "cell_type": "code",
   "execution_count": 98,
   "metadata": {},
   "outputs": [
    {
     "name": "stdout",
     "output_type": "stream",
     "text": [
      "voltage:  24.0265126779 -0.578471351186 -0.592051270314\n",
      "voltage:  190.934485622 187.927740957\n"
     ]
    }
   ],
   "source": [
    "i = 0\n",
    "fname = r'/data/old_trap/20211001/bead1/neutrality11/Z_200Vpp_alternate_139Hz_spin_XY_117kHz_200Vpp_delay_6sec_with_height_fb/Z_200Vpp_'+str(i)+'.h5'\n",
    "bb = bu.DataFile();\n",
    "bb.load(fname);\n",
    "bb.load_other_data()\n",
    "print(\"voltage: \", voltage, np.mean(bb.other_data[1])*100, np.mean(bb.other_data[2])*100)\n",
    "drive_freq = 139\n",
    "bandwidth=2\n",
    "b, a = signal.butter(3, [2.*(drive_freq-bandwidth/2.)/fsamp, 2.*(drive_freq+bandwidth/2.)/fsamp ], btype = 'bandpass')\n",
    "xx2 = signal.filtfilt(b, a, bb.other_data[1])\n",
    "# voltage_200_1 = np.std(xx2)*np.sqrt(2)*100\n",
    "xx3 = signal.filtfilt(b, a, bb.other_data[2])\n",
    "voltage_200_2 = np.std(xx3)*np.sqrt(2)*100\n",
    "print(\"voltage: \", voltage_200_1, voltage_200_2)"
   ]
  },
  {
   "cell_type": "code",
   "execution_count": 82,
   "metadata": {},
   "outputs": [
    {
     "name": "stdout",
     "output_type": "stream",
     "text": [
      "voltage:  47.4463804615\n",
      "voltage:  46.7024118353\n"
     ]
    }
   ],
   "source": [
    "fname = r'/data/old_trap/20211001/bead1/single_electrode_20211013/Z_plus_139Hz_50Vpp/Z_50Vpp_0.h5'\n",
    "bb = bu.DataFile();\n",
    "bb.load(fname);\n",
    "bb.load_other_data()\n",
    "drive_freq = 139\n",
    "bandwidth=2\n",
    "b, a = signal.butter(3, [2.*(drive_freq-bandwidth/2.)/fsamp, 2.*(drive_freq+bandwidth/2.)/fsamp ], btype = 'bandpass')\n",
    "xx2 = signal.filtfilt(b, a, bb.other_data[1])\n",
    "voltage_50_single_plus = np.std(xx2)*np.sqrt(2)*100\n",
    "print(\"voltage: \", voltage_50_single_plus)\n",
    "\n",
    "fname = r'/data/old_trap/20211001/bead1/single_electrode_20211013/Z_minus_139Hz_50Vpp/Z_50Vpp_0.h5'\n",
    "bb = bu.DataFile();\n",
    "bb.load(fname);\n",
    "bb.load_other_data()\n",
    "drive_freq = 139\n",
    "bandwidth=2\n",
    "b, a = signal.butter(3, [2.*(drive_freq-bandwidth/2.)/fsamp, 2.*(drive_freq+bandwidth/2.)/fsamp ], btype = 'bandpass')\n",
    "xx2 = signal.filtfilt(b, a, bb.other_data[2])\n",
    "voltage_50_single_minus = np.std(xx2)*np.sqrt(2)*100\n",
    "print(\"voltage: \", voltage_50_single_minus)"
   ]
  },
  {
   "cell_type": "code",
   "execution_count": 83,
   "metadata": {},
   "outputs": [
    {
     "data": {
      "text/plain": [
       "(0.98431980229189575, 0.98425247982313169)"
      ]
     },
     "execution_count": 83,
     "metadata": {},
     "output_type": "execute_result"
    }
   ],
   "source": [
    "voltage_50_single_minus/voltage_50_single_plus, voltage_200_2/voltage_200_1"
   ]
  },
  {
   "cell_type": "code",
   "execution_count": 22,
   "metadata": {},
   "outputs": [
    {
     "data": {
      "text/plain": [
       "(24.026512677896338, 161.02821043101855)"
      ]
     },
     "execution_count": 22,
     "metadata": {},
     "output_type": "execute_result"
    }
   ],
   "source": [
    "voltage,  voltage_175_1"
   ]
  },
  {
   "cell_type": "code",
   "execution_count": 184,
   "metadata": {
    "scrolled": true
   },
   "outputs": [],
   "source": [
    "# amps_no_fb_spin_xz_200Vpp_x_50Vpp_delay = []\n",
    "# for i in range(1000):\n",
    "#     print(i,'/500')\n",
    "#     try:\n",
    "#         amps_no_fb_spin_xz_200Vpp_x_50Vpp_delay.append(get_amp(i))\n",
    "#     except:\n",
    "#         print(\"******\")\n",
    "# amps_no_fb_spin_xz_200Vpp_x_50Vpp_delay = np.array(amps_no_fb_spin_xz_200Vpp_x_50Vpp_delay)"
   ]
  },
  {
   "cell_type": "code",
   "execution_count": 24,
   "metadata": {},
   "outputs": [],
   "source": [
    "def get_amp_wraper(i):\n",
    "    try:\n",
    "        return get_amp(i)\n",
    "    except:\n",
    "        return 0,0,0,0\n",
    "    \n",
    "def get_amp_wraperZ(i):\n",
    "    try:\n",
    "        return get_ampZ(i)\n",
    "    except:\n",
    "        return 0,0,0,0"
   ]
  },
  {
   "cell_type": "code",
   "execution_count": 48,
   "metadata": {
    "scrolled": true
   },
   "outputs": [
    {
     "name": "stderr",
     "output_type": "stream",
     "text": [
      "\n",
      "  0%|          | 0/1000 [00:00<?, ?it/s]\u001b[A\n",
      "  4%|▍         | 40/1000 [00:02<01:05, 14.64it/s]\u001b[A\n",
      "  8%|▊         | 80/1000 [00:02<00:44, 20.58it/s]\u001b[A\n",
      " 12%|█▏        | 120/1000 [00:02<00:30, 28.65it/s]\u001b[A\n",
      " 28%|██▊       | 280/1000 [00:03<00:17, 40.47it/s]\u001b[A\n",
      " 60%|██████    | 600/1000 [00:03<00:06, 57.40it/s]\u001b[A\n",
      "100%|██████████| 1000/1000 [00:03<00:00, 301.81it/s]\u001b[A"
     ]
    }
   ],
   "source": [
    "amps_spin_xz_117kHz_y_alternate_200Vpp_redo10 = np.array(Parallel(n_jobs=40)(delayed(get_amp_wraper)(i) for i in tqdm(range((1000)))))"
   ]
  },
  {
   "cell_type": "code",
   "execution_count": 25,
   "metadata": {
    "scrolled": true
   },
   "outputs": [
    {
     "name": "stderr",
     "output_type": "stream",
     "text": [
      "\n",
      "  0%|          | 0/220 [00:00<?, ?it/s]\u001b[A\n",
      " 18%|█▊        | 40/220 [00:03<00:13, 13.36it/s]\u001b[A\n",
      " 36%|███▋      | 80/220 [00:08<00:13, 10.47it/s]\u001b[A\n",
      " 55%|█████▍    | 120/220 [00:10<00:07, 12.59it/s]\u001b[A\n",
      " 73%|███████▎  | 160/220 [00:11<00:03, 16.27it/s]\u001b[A\n",
      " 91%|█████████ | 200/220 [00:11<00:00, 20.64it/s]\u001b[A\n",
      "100%|██████████| 220/220 [00:11<00:00, 18.41it/s]\u001b[A"
     ]
    }
   ],
   "source": [
    "amps_spin_xz_117kHz_y_both_175Vpp = np.array(Parallel(n_jobs=40)(delayed(get_amp_wraperZ)(i) for i in tqdm(range((220)))))"
   ]
  },
  {
   "cell_type": "code",
   "execution_count": 1502,
   "metadata": {},
   "outputs": [
    {
     "data": {
      "application/vnd.jupyter.widget-view+json": {
       "model_id": "a766bf2a61aa4436b7d546f30e70b72e",
       "version_major": 2,
       "version_minor": 0
      },
      "text/plain": [
       "Canvas(toolbar=Toolbar(toolitems=[('Home', 'Reset original view', 'home', 'home'), ('Back', 'Back to previous …"
      ]
     },
     "metadata": {},
     "output_type": "display_data"
    },
    {
     "data": {
      "text/plain": [
       "<matplotlib.collections.PathCollection at 0x7f86bb6952b0>"
      ]
     },
     "execution_count": 1502,
     "metadata": {},
     "output_type": "execute_result"
    }
   ],
   "source": [
    "i=0; j=1\n",
    "_,ax = plt.subplots()\n",
    "dat = amps_spin_xz_117kHz_y_both_175Vpp[::2]/scaleZ*voltage/voltage_200_1\n",
    "dat1 = amps_spin_xz_117kHz_y_alternate_200Vpp_redo9[1::2]/scaleZ*voltage/voltage_200_1\n",
    "ax.scatter(dat[:,i], np.abs(dat[:,j]))\n",
    "ax.scatter(dat1[:,i], np.abs(dat1[:,j]))"
   ]
  },
  {
   "cell_type": "code",
   "execution_count": 314,
   "metadata": {},
   "outputs": [
    {
     "data": {
      "text/plain": [
       "[692]"
      ]
     },
     "execution_count": 314,
     "metadata": {},
     "output_type": "execute_result"
    }
   ],
   "source": [
    "[i for i,bb in enumerate(amps_no_fb_spin_xy_93kHz_z_200Vpp_alternate) if bb[2]>20000]"
   ]
  },
  {
   "cell_type": "code",
   "execution_count": 316,
   "metadata": {},
   "outputs": [],
   "source": [
    "amps_no_fb_spin_xy_93kHz_z_200Vpp_alternate_2 = list(amps_no_fb_spin_xy_93kHz_z_200Vpp_alternate)\n",
    "amps_no_fb_spin_xy_93kHz_z_200Vpp_alternate_2.pop(692)\n",
    "amps_no_fb_spin_xy_93kHz_z_200Vpp_alternate_2.pop(692)\n",
    "amps_no_fb_spin_xy_93kHz_z_200Vpp_alternate = np.array(amps_no_fb_spin_xy_93kHz_z_200Vpp_alternate_2)"
   ]
  },
  {
   "cell_type": "code",
   "execution_count": 52,
   "metadata": {},
   "outputs": [
    {
     "data": {
      "application/vnd.jupyter.widget-view+json": {
       "model_id": "8d6d38e10ba74de1933447236d0d21ea",
       "version_major": 2,
       "version_minor": 0
      },
      "text/plain": [
       "Canvas(toolbar=Toolbar(toolitems=[('Home', 'Reset original view', 'home', 'home'), ('Back', 'Back to previous …"
      ]
     },
     "metadata": {},
     "output_type": "display_data"
    },
    {
     "data": {
      "text/plain": [
       "<matplotlib.collections.PathCollection at 0x7fdb170b25f8>"
      ]
     },
     "execution_count": 52,
     "metadata": {},
     "output_type": "execute_result"
    }
   ],
   "source": [
    "i=0; j=3\n",
    "_,ax = plt.subplots()\n",
    "dat = amps_all[::2]/scaleZ*voltage/voltage_150_1\n",
    "ax.scatter(dat[:,i], np.abs(dat[:,j]))\n",
    "dat1 = amps_all[1::2]/scaleZ*voltage/voltage_150_1\n",
    "ax.scatter(dat1[:,i], np.abs(dat1[:,j]))"
   ]
  },
  {
   "cell_type": "code",
   "execution_count": 530,
   "metadata": {},
   "outputs": [],
   "source": [
    "voltage= 25"
   ]
  },
  {
   "cell_type": "code",
   "execution_count": 39,
   "metadata": {},
   "outputs": [],
   "source": [
    "etha = 1/scaleZ*327*1.6e-19*voltage\n",
    "to_epsilon = 1/(2*327*1.6e-19*voltage_200_1*(418)/(418+627))"
   ]
  },
  {
   "cell_type": "code",
   "execution_count": 531,
   "metadata": {},
   "outputs": [
    {
     "data": {
      "application/vnd.jupyter.widget-view+json": {
       "model_id": "0d4ac6179412477bbe93fd2cb146d509",
       "version_major": 2,
       "version_minor": 0
      },
      "text/plain": [
       "Canvas(toolbar=Toolbar(toolitems=[('Home', 'Reset original view', 'home', 'home'), ('Back', 'Back to previous …"
      ]
     },
     "metadata": {},
     "output_type": "display_data"
    },
    {
     "name": "stdout",
     "output_type": "stream",
     "text": [
      "mean, std:  -0.00255278315035 0.000796258659538\n",
      "mean, std:  -0.00607773982869 0.000788773392353\n",
      "mean, std:  0.00328184708519 0.000782182135763\n",
      "mean, std:  -0.0106432175811 0.00777833856286\n",
      "mean, std:  0.00302278763124 0.0076577321529\n",
      "mean, std:  -0.00762042994982 0.0105163138211\n"
     ]
    }
   ],
   "source": [
    "j = 0\n",
    "data = amps_with_fb_spin_xz_100Vpp_77kHz_y_minus_175Vpp_alternate_no_delay[::2,j]/scaleY*voltage/voltage_175_1\n",
    "data2 = amps_with_fb_spin_xz_100Vpp_77kHz_y_minus_175Vpp_alternate_no_delay[1::2,j]/scaleY*voltage/voltage_175_1\n",
    "data3 = data-0.96*data2\n",
    "\n",
    "data_1 = amps_with_fb_spin_xz_100Vpp_77kHz_y_minus_175Vpp_alternate_no_delay[::2,1]/scaleY*voltage/voltage_175_1\n",
    "data2_1 = amps_with_fb_spin_xz_100Vpp_77kHz_y_minus_175Vpp_alternate_no_delay[1::2,1]/scaleY*voltage/voltage_175_1\n",
    "data3_1 = data_1+data2_1\n",
    "\n",
    "_, ax= plt.subplots(figsize=(9.5,4))\n",
    "ax.scatter(range(len(data)), data, label='175Vpp-y-plus, xz-spin-100Vpp-77kHz')\n",
    "ax.scatter(range(len(data2)), data2, label='175Vpp-y-minus, xz-spin-100Vpp-77kHz', alpha=0.6)\n",
    "# ax.scatter(range(len(data3)), data3, label='100Vpp-y-diff, xz-spin-100Vpp-77kHz', alpha=0.6)\n",
    "\n",
    "# ax.scatter(range(len(data4)), data4, label='20V-x, xy-spin-30V, w/o height fb')\n",
    "ax.plot(np.arange(0,250), np.arange(0,250)*0, '--k')\n",
    "ax.set(xlabel='Dataset', ylabel=r'$\\epsilon$')\n",
    "ax.legend()\n",
    "print('mean, std: ', np.mean(data), np.std(data)/np.sqrt(len(data)))\n",
    "print('mean, std: ', np.mean(data2), np.std(data2)/np.sqrt(len(data2)))\n",
    "print('mean, std: ', np.mean(data3), np.std(data3)/np.sqrt(len(data3)))\n",
    "print('mean, std: ', np.mean(data_1), np.std(data_1)/np.sqrt(len(data_1)))\n",
    "print('mean, std: ', np.mean(data2_1), np.std(data2_1)/np.sqrt(len(data2_1)))\n",
    "print('mean, std: ', np.mean(data3_1), np.std(data3_1)/np.sqrt(len(data3_1)))"
   ]
  },
  {
   "cell_type": "code",
   "execution_count": 292,
   "metadata": {},
   "outputs": [
    {
     "data": {
      "text/plain": [
       "(128.33230649865476,\n",
       " 24.026512677896338,\n",
       " 119.33286771283258,\n",
       " 138.41488735055043)"
      ]
     },
     "execution_count": 292,
     "metadata": {},
     "output_type": "execute_result"
    }
   ],
   "source": [
    "scaleZ, voltage, voltage_125_1, voltage_150_1"
   ]
  },
  {
   "cell_type": "code",
   "execution_count": 743,
   "metadata": {},
   "outputs": [
    {
     "data": {
      "text/plain": [
       "5500"
      ]
     },
     "execution_count": 743,
     "metadata": {},
     "output_type": "execute_result"
    }
   ],
   "source": [
    "amps_all = list(amps_with_fb_spin_xz_100Vpp_93kHz_z_125Vpp_alternate_no_delay)+list(amps_with_fb_spin_xz_100Vpp_93kHz_z_125Vpp_alternate_no_delay_2)\n",
    "# amps_all = list(amps_with_fb_spin_xz_100Vpp_93kHz_z_125Vpp_alternate_no_delay_2)\n",
    "amps_all = np.array(amps_all)\n",
    "len(amps_all)"
   ]
  },
  {
   "cell_type": "code",
   "execution_count": 111,
   "metadata": {
    "scrolled": true
   },
   "outputs": [
    {
     "name": "stderr",
     "output_type": "stream",
     "text": [
      "\n",
      "  0%|          | 0/2500 [00:00<?, ?it/s]\u001b[A\n",
      "  6%|▋         | 160/2500 [00:00<00:04, 495.79it/s]\u001b[A\n",
      " 10%|▉         | 240/2500 [00:00<00:05, 444.36it/s]\u001b[A\n",
      " 10%|█         | 262/2500 [00:00<00:06, 331.03it/s]\u001b[A\n",
      " 13%|█▎        | 320/2500 [00:00<00:07, 295.02it/s]\u001b[A\n",
      " 16%|█▌        | 400/2500 [00:01<00:07, 265.56it/s]\u001b[A\n",
      " 19%|█▉        | 480/2500 [00:01<00:08, 231.70it/s]\u001b[A\n",
      " 22%|██▏       | 560/2500 [00:02<00:09, 213.43it/s]\u001b[A\n",
      " 26%|██▌       | 640/2500 [00:02<00:08, 225.78it/s]\u001b[A\n",
      " 29%|██▉       | 720/2500 [00:02<00:06, 264.77it/s]\u001b[A\n",
      " 32%|███▏      | 800/2500 [00:02<00:06, 281.31it/s]\u001b[A\n",
      " 35%|███▌      | 880/2500 [00:03<00:06, 260.34it/s]\u001b[A\n",
      " 38%|███▊      | 960/2500 [00:03<00:06, 249.73it/s]\u001b[A\n",
      " 42%|████▏     | 1040/2500 [00:04<00:06, 225.41it/s]\u001b[A\n",
      " 45%|████▍     | 1120/2500 [00:04<00:05, 238.67it/s]\u001b[A\n",
      " 48%|████▊     | 1200/2500 [00:04<00:06, 214.46it/s]\u001b[A\n",
      " 51%|█████     | 1280/2500 [00:05<00:05, 222.00it/s]\u001b[A\n",
      " 54%|█████▍    | 1360/2500 [00:05<00:05, 216.00it/s]\u001b[A\n",
      " 58%|█████▊    | 1440/2500 [00:05<00:05, 210.65it/s]\u001b[A\n",
      " 61%|██████    | 1520/2500 [00:06<00:04, 208.19it/s]\u001b[A\n",
      " 64%|██████▍   | 1600/2500 [00:06<00:03, 264.25it/s]\u001b[A\n",
      " 67%|██████▋   | 1680/2500 [00:06<00:03, 244.38it/s]\u001b[A\n",
      " 70%|███████   | 1760/2500 [00:07<00:03, 235.08it/s]\u001b[A\n",
      " 74%|███████▎  | 1840/2500 [00:07<00:02, 248.86it/s]\u001b[A\n",
      " 77%|███████▋  | 1920/2500 [00:07<00:02, 234.67it/s]\u001b[A\n",
      " 80%|████████  | 2000/2500 [00:08<00:01, 259.40it/s]\u001b[A\n",
      " 83%|████████▎ | 2080/2500 [00:08<00:01, 248.76it/s]\u001b[A\n",
      " 86%|████████▋ | 2160/2500 [00:08<00:01, 226.52it/s]\u001b[A\n",
      " 90%|████████▉ | 2240/2500 [00:09<00:01, 239.58it/s]\u001b[A\n",
      " 93%|█████████▎| 2320/2500 [00:09<00:00, 234.24it/s]\u001b[A\n",
      " 96%|█████████▌| 2400/2500 [00:09<00:00, 246.21it/s]\u001b[A\n",
      " 99%|█████████▉| 2480/2500 [00:10<00:00, 238.53it/s]\u001b[A\n",
      "100%|██████████| 2500/2500 [00:10<00:00, 245.02it/s]\u001b[A"
     ]
    }
   ],
   "source": [
    "amps_spin_xz_117kHz_y_alternate_200Vpp_redo11 = np.array(Parallel(n_jobs=40)(delayed(get_amp_wraperZ)(i) for i in tqdm(range((2500)))))"
   ]
  },
  {
   "cell_type": "code",
   "execution_count": 1508,
   "metadata": {},
   "outputs": [],
   "source": [
    "amps_all = list(np.array(amps_no_fb_spin_xy_103kHz_z_200Vpp_alternate)*etha)\n",
    "amps_all += list(np.array(amps_no_fb_spin_xy_103kHz_z_200Vpp_alternate_redo)*etha)\n",
    "amps_all += list(np.array(amps_no_fb_spin_xy_103kHz_z_200Vpp_alternate_redo3)*etha) ### after RGA incident\n",
    "amps_all += list(np.array(amps_no_fb_spin_xy_103kHz_z_200Vpp_alternate_redo4)*etha)  # after RGA incident\n",
    "\n",
    "amps_all += list(np.array(amps_no_fb_spin_xy_93kHz_z_200Vpp_alternate)*etha)\n",
    "\n",
    "# amps_all += list(np.array(amps_no_fb_spin_xy_93kHz_z_150Vpp_alternate)*etha*to_epsilon_150)\n",
    "# amps_all += list(np.array(amps_no_fb_spin_xz_93kHz_z_150Vpp_alternate_5_delay)*etha*to_epsilon_150)\n",
    "# amps_all += list(np.array(amps_no_fb_spin_xz_93kHz_z_150Vpp_alternate_6_delay)*etha*to_epsilon_150)\n",
    "\n",
    "# amps_all = list(np.array(amps_no_fb_spin_xy_103kHz_z_200Vpp_both1)*etha)\n",
    "# amps_all += list(np.array(amps_no_fb_spin_xy_103kHz_z_200Vpp_both2)*etha)\n",
    "# amps_all += list(np.array(amps_no_fb_spin_xy_103kHz_z_200Vpp_both3)*etha)\n",
    "\n",
    "amps_all += list(np.array(amps_spin_xz_117kHz_y_alternate_200Vpp)*etha)\n",
    "# amps_all += list(np.array(amps_spin_xz_117kHz_y_alternate_200Vpp_redo)*etha)  ## 4sec. files\n",
    "amps_all += list(np.array(amps_spin_xz_117kHz_y_alternate_200Vpp_redo2)*etha)\n",
    "amps_all += list(np.array(amps_spin_xz_117kHz_y_alternate_200Vpp_redo3)*etha)\n",
    "amps_all += list(np.array(amps_spin_xz_117kHz_y_alternate_200Vpp_redo4)*etha)\n",
    "amps_all += list(np.array(amps_spin_xz_117kHz_y_alternate_200Vpp_redo5[:-1])*etha)\n",
    "amps_all += list(np.array(amps_spin_xz_117kHz_y_alternate_200Vpp_redo6)*etha)\n",
    "amps_all += list(np.array(amps_spin_xz_117kHz_y_alternate_200Vpp_redo7)*etha)\n",
    "amps_all += list(np.array(amps_spin_xz_117kHz_y_alternate_200Vpp_redo8)*etha)\n",
    "amps_all += list(np.array(amps_spin_xz_117kHz_y_alternate_200Vpp_redo9)*etha)\n",
    "\n",
    "amps_all = np.array(amps_all)"
   ]
  },
  {
   "cell_type": "code",
   "execution_count": 112,
   "metadata": {},
   "outputs": [],
   "source": [
    "amps_all = amps_spin_xz_117kHz_y_alternate_200Vpp_redo11*etha"
   ]
  },
  {
   "cell_type": "code",
   "execution_count": 113,
   "metadata": {},
   "outputs": [],
   "source": [
    "etha = 1/scaleZ*327*1.6e-19*voltage\n",
    "to_epsilon_200 = 1/(2*327*1.6e-19*voltage_200_1*(418)/(418+627))\n",
    "to_epsilon_175 = 1/(2*327*1.6e-19*voltage_175_1*(418)/(418+627))\n",
    "# to_epsilon_150 = 1/(2*327*1.6e-19*voltage_150_1*(418)/(418+627))\n",
    "# to_epsilon_125 = 1/(2*327*1.6e-19*voltage_125_1*(418)/(418+627))"
   ]
  },
  {
   "cell_type": "code",
   "execution_count": 137,
   "metadata": {},
   "outputs": [
    {
     "data": {
      "application/vnd.jupyter.widget-view+json": {
       "model_id": "99ded858aed44c9bb5e81f9ea44cb82e",
       "version_major": 2,
       "version_minor": 0
      },
      "text/plain": [
       "Canvas(toolbar=Toolbar(toolitems=[('Home', 'Reset original view', 'home', 'home'), ('Back', 'Back to previous …"
      ]
     },
     "metadata": {},
     "output_type": "display_data"
    },
    {
     "name": "stdout",
     "output_type": "stream",
     "text": [
      "1st harmonic, electrode 1: mean, std:  -3.0001001075e-17 2.11831927152e-18\n",
      "1st harmonic, electrode 2: mean, std:  -6.12395638759e-17 2.68609095436e-18\n",
      "1st harmonic, A parameter: mean, std:  1.04171110831e-17 1.46092272191e-18\n",
      "1st harmonic, A parameter[epsilon]: mean, std:  0.00130348247762 0.000182803769105\n",
      "\n",
      "2nd harmonic, electrode 1: mean, std:  2.74057696044e-16 3.67811879699e-18\n",
      "2nd harmonic, electrode 2: mean, std:  5.35884201442e-16 7.57663054856e-18\n",
      "2nd harmonic, B parameter: mean, std:  5.07488854192e-16 4.91806135762e-18\n"
     ]
    }
   ],
   "source": [
    "data = amps_all[::2,0]\n",
    "data2 = amps_all[1::2,0]\n",
    "data3 = data-0.66*data2\n",
    "\n",
    "data_1 = np.abs(amps_all[::2,1])\n",
    "data2_1 = np.abs(amps_all[1::2,1])\n",
    "data3_1 = data_1+0.66*0.66*data2_1\n",
    "\n",
    "_, ax= plt.subplots(figsize=(9.5,4))\n",
    "ax.scatter(np.arange(len(data))*2*2*10/3600, data, label='200Vpp-z-plus, xy-spin-50Vpp-103kHz')\n",
    "ax.scatter(np.arange(len(data2))*2*2*10/3600, data2, label='200Vpp-z-minus, xy-spin-50Vpp-103kHz', alpha=0.6)\n",
    "ax.scatter(np.arange(len(data3))*2*2*10/3600, data3, label='200Vpp-z, A parameter', alpha=0.6)\n",
    "\n",
    "ax.plot(np.arange(0,140), np.arange(0,140)*0, '--k')\n",
    "ax.set(xlabel='Integration time [hr.]', ylabel=r'$\\epsilon$')\n",
    "ax.legend()\n",
    "print('1st harmonic, electrode 1: mean, std: ', np.mean(data), np.std(data)/np.sqrt(len(data)))\n",
    "print('1st harmonic, electrode 2: mean, std: ', np.mean(data2), np.std(data2)/np.sqrt(len(data2)))\n",
    "print('1st harmonic, A parameter: mean, std: ', np.mean(data3), np.std(data3)/np.sqrt(len(data3)))\n",
    "print('1st harmonic, A parameter[epsilon]: mean, std: ', np.mean(data3)*to_epsilon_200, to_epsilon_200*np.std(data3)/np.sqrt(len(data3)))\n",
    "\n",
    "print()\n",
    "print('2nd harmonic, electrode 1: mean, std: ', np.mean(data_1), np.std(data_1)/np.sqrt(len(data_1)))\n",
    "print('2nd harmonic, electrode 2: mean, std: ', np.mean(data2_1), np.std(data2_1)/np.sqrt(len(data2_1)))\n",
    "print('2nd harmonic, B parameter: mean, std: ', np.mean(data3_1), np.std(data3_1)/np.sqrt(len(data3_1)))"
   ]
  },
  {
   "cell_type": "code",
   "execution_count": 1510,
   "metadata": {},
   "outputs": [
    {
     "data": {
      "application/vnd.jupyter.widget-view+json": {
       "model_id": "44d0f405aea6491aa714bbfd475a52bf",
       "version_major": 2,
       "version_minor": 0
      },
      "text/plain": [
       "Canvas(toolbar=Toolbar(toolitems=[('Home', 'Reset original view', 'home', 'home'), ('Back', 'Back to previous …"
      ]
     },
     "metadata": {},
     "output_type": "display_data"
    },
    {
     "data": {
      "text/plain": [
       "<matplotlib.legend.Legend at 0x7f86bb1ed9e8>"
      ]
     },
     "execution_count": 1510,
     "metadata": {},
     "output_type": "execute_result"
    }
   ],
   "source": [
    "from scipy.optimize import curve_fit\n",
    "from scipy import asarray as ar,exp\n",
    "\n",
    "n_bins = 29\n",
    "range_pram = 0.02\n",
    "_,ax = plt.subplots()\n",
    "entries, bins, patches = ax.hist(data3*to_epsilon_200, bins=n_bins, range=(-range_pram, range_pram), label='200Vpp, all frequencies')\n",
    "# entries3, bins, patches = ax.hist(data3, bins=n_bins, range=(-range_pram, range_pram), label='150Vpp, 77kHz', alpha=0.6)\n",
    "ax.set(xlabel=r'$\\epsilon$')\n",
    "ax.legend()"
   ]
  },
  {
   "cell_type": "code",
   "execution_count": 1511,
   "metadata": {},
   "outputs": [
    {
     "name": "stdout",
     "output_type": "stream",
     "text": [
      "mean:  4.77705272317e-05  ,std (on the mean):  5.88735140766e-05  ,sigma:  0.0065075875469\n",
      "std from the covariance matrix:  4.98915234474e-05\n",
      "\n",
      "Neutrality:  4.67250111719e-19\n",
      "Factor needed for neutrality best limit:  467.250111719\n"
     ]
    }
   ],
   "source": [
    "## gaussian fit to the histogram\n",
    "\n",
    "bins_fit =[(bins[i+1]-bins[i])/2+bins[i] for i in range(len(entries))]\n",
    "\n",
    "titles = ['', '', '']\n",
    "\n",
    "for i,ee in enumerate([entries]):\n",
    "    x = bins_fit\n",
    "    y= np.array(ee)\n",
    "    sigma_bin = np.sqrt(ee)\n",
    "    \n",
    "    n = len(x)                          #the number of data\n",
    "    mean = 0                  #note this correction\n",
    "    sigma = 0.03       #note this correction\n",
    "\n",
    "    def gaus(x,a,x0,sigma):\n",
    "        return a*np.exp(-(x-x0)**2/(2*sigma**2))\n",
    "\n",
    "    popt,pcov = curve_fit(gaus,x,y,p0=[1,mean,sigma])\n",
    "    ax.plot(x,gaus(x,*popt),'ro:',label='fit')\n",
    "\n",
    "    print(\"mean: \", popt[1], \" ,std (on the mean): \", popt[2]/np.sqrt(len(data)), \" ,sigma: \", popt[2])\n",
    "    print(\"std from the covariance matrix: \", np.sqrt(pcov[1,1]))\n",
    "    print('\\nNeutrality: ', 1/1.26e14*popt[2]/np.sqrt(len(data)))\n",
    "    print('Factor needed for neutrality best limit: ', 1/1.26e14*popt[2]/np.sqrt(len(data))/1e-21)"
   ]
  },
  {
   "cell_type": "code",
   "execution_count": null,
   "metadata": {},
   "outputs": [],
   "source": []
  },
  {
   "cell_type": "code",
   "execution_count": 1487,
   "metadata": {},
   "outputs": [],
   "source": [
    "z_top_means = []\n",
    "z_bottom_mean = []\n",
    "z_top_std = []\n",
    "z_bottom_std = []\n",
    "\n",
    "bin_size = 10\n",
    "bins = len(data)//bin_size\n",
    "for i in range(bins):\n",
    "    z_top_means.append(np.mean(data[i*bin_size:(i+1)*bin_size]))\n",
    "    z_bottom_mean.append(np.mean(data2[i*bin_size:(i+1)*bin_size]))\n",
    "    z_top_std.append(np.std(data[i*bin_size:(i+1)*bin_size]))\n",
    "    z_bottom_std.append(np.std(data2[i*bin_size:(i+1)*bin_size]))\n",
    "z_top_means = np.array(z_top_means)\n",
    "z_top_std = np.array(z_top_std)\n",
    "z_bottom_mean = np.array(z_bottom_mean)\n",
    "z_bottom_std = np.array(z_bottom_std)"
   ]
  },
  {
   "cell_type": "code",
   "execution_count": 1488,
   "metadata": {},
   "outputs": [],
   "source": [
    "z_combine_means = []\n",
    "z_combine_std = []\n",
    "\n",
    "bin_size = 50\n",
    "bins = len(data)//bin_size\n",
    "for i in range(bins):\n",
    "    z_combine_means.append(np.mean(data3[i*bin_size:(i+1)*bin_size]))\n",
    "    z_combine_std.append(np.std(data3[i*bin_size:(i+1)*bin_size]))\n",
    "z_combine_means = np.array(z_combine_means)\n",
    "z_combine_std = np.array(z_combine_std)/np.sqrt(bin_size)"
   ]
  },
  {
   "cell_type": "code",
   "execution_count": 1489,
   "metadata": {},
   "outputs": [],
   "source": [
    "z_combine_means_2 = []\n",
    "z_combine_std_2 = []\n",
    "\n",
    "bin_size = 50\n",
    "bins = len(data)//bin_size\n",
    "for i in range(bins):\n",
    "    z_combine_means_2.append(np.mean(data3_1[i*bin_size:(i+1)*bin_size]))\n",
    "    z_combine_std_2.append(np.std(data3_1[i*bin_size:(i+1)*bin_size]))\n",
    "z_combine_means_2 = np.array(z_combine_means_2)\n",
    "z_combine_std_2 = np.array(z_combine_std_2)/np.sqrt(bin_size)"
   ]
  },
  {
   "cell_type": "code",
   "execution_count": 1490,
   "metadata": {},
   "outputs": [
    {
     "data": {
      "text/plain": [
       "(243, 243)"
      ]
     },
     "execution_count": 1490,
     "metadata": {},
     "output_type": "execute_result"
    }
   ],
   "source": [
    "len(z_combine_means), len(z_combine_std)"
   ]
  },
  {
   "cell_type": "code",
   "execution_count": 1491,
   "metadata": {},
   "outputs": [
    {
     "data": {
      "application/vnd.jupyter.widget-view+json": {
       "model_id": "6aef4cfb6eb7449bb7ce092d06bfbb4c",
       "version_major": 2,
       "version_minor": 0
      },
      "text/plain": [
       "Canvas(toolbar=Toolbar(toolitems=[('Home', 'Reset original view', 'home', 'home'), ('Back', 'Back to previous …"
      ]
     },
     "metadata": {},
     "output_type": "display_data"
    },
    {
     "data": {
      "text/plain": [
       "[Text(0.5, 0, 'Measuring time [hr.]'), Text(0, 0.5, 'Measured force [N]')]"
      ]
     },
     "execution_count": 1491,
     "metadata": {},
     "output_type": "execute_result"
    }
   ],
   "source": [
    "_,ax = plt.subplots(figsize=(9.4,4))\n",
    "iteration = np.arange(len(z_combine_means))*10*bin_size*2*2/3600\n",
    "ax.plot(iteration, iteration*0, 'r--')\n",
    "top_err = z_top_std/np.sqrt(bin_size)\n",
    "bottom_err = z_bottom_std/np.sqrt(bin_size)\n",
    "A = z_top_means-z_bottom_mean*0.66\n",
    "A_err = np.sqrt(top_err**2+top_err**2*0.66*0.66)\n",
    "# ax.errorbar(iteration, z_top_means, yerr=top_err, fmt='o', label='top electrode')\n",
    "# ax.errorbar(iteration, z_bottom_mean*0.66, yerr=bottom_err, fmt='o', label='bottom electrode')\n",
    "# ax.errorbar(iteration, A, yerr=A_err, fmt='o', label='A parameter')\n",
    "ax.errorbar(iteration, z_combine_means, yerr=z_combine_std, fmt='o', label='A parameter', alpha=0.3)\n",
    "# ax.errorbar(iteration, z_combine_means_2, yerr=z_combine_std_2, fmt='o', label='A parameter', alpha=0.3)\n",
    "ax.legend()\n",
    "ax.set(xlabel='Measuring time [hr.]', ylabel='Measured force [N]')\n",
    "# ax.errorbar(iteration, (z_top_means-z_bottom_mean*0.66)*to_epsilon, yerr=z_bottom_std/np.sqrt(10)*to_epsilon, fmt='o')"
   ]
  },
  {
   "cell_type": "code",
   "execution_count": 1492,
   "metadata": {},
   "outputs": [],
   "source": [
    "A_epsion = z_combine_means*to_epsilon\n",
    "A_err_epsilon = z_combine_std*to_epsilon\n",
    "def calculate_pl(force_):\n",
    "    chi2 = np.power((A_epsion-force_)/A_err_epsilon, 2)\n",
    "    return np.sum(chi2)"
   ]
  },
  {
   "cell_type": "code",
   "execution_count": 1494,
   "metadata": {},
   "outputs": [
    {
     "data": {
      "application/vnd.jupyter.widget-view+json": {
       "model_id": "5450c44e46574dbb9d9b89b1f036d359",
       "version_major": 2,
       "version_minor": 0
      },
      "text/plain": [
       "Canvas(toolbar=Toolbar(toolitems=[('Home', 'Reset original view', 'home', 'home'), ('Back', 'Back to previous …"
      ]
     },
     "metadata": {},
     "output_type": "display_data"
    },
    {
     "data": {
      "text/plain": [
       "[Text(0.5, 0, '$\\\\epsilon [10^5]$'), Text(0, 0.5, 'PL')]"
      ]
     },
     "execution_count": 1494,
     "metadata": {},
     "output_type": "execute_result"
    }
   ],
   "source": [
    "_,ax = plt.subplots()\n",
    "pl_range = np.arange(-3e-4,3e-4,1e-5)\n",
    "pl = np.array([calculate_pl(pl_range_) for pl_range_ in pl_range])\n",
    "ax.plot(pl_range*100000, pl-np.min(pl), 'o--')\n",
    "ax.plot(pl_range*100000, pl_range*0+2.7, 'r--')\n",
    "ax.set(xlabel=r'$\\epsilon [10^5]$', ylabel='PL')"
   ]
  },
  {
   "cell_type": "code",
   "execution_count": 1495,
   "metadata": {},
   "outputs": [
    {
     "data": {
      "application/vnd.jupyter.widget-view+json": {
       "model_id": "c292a5fd859c431fb33ce8070c96e0cc",
       "version_major": 2,
       "version_minor": 0
      },
      "text/plain": [
       "Canvas(toolbar=Toolbar(toolitems=[('Home', 'Reset original view', 'home', 'home'), ('Back', 'Back to previous …"
      ]
     },
     "metadata": {},
     "output_type": "display_data"
    },
    {
     "name": "stdout",
     "output_type": "stream",
     "text": [
      "8.13151629364e-19\n",
      "-9.00872437945e-05 9.64800137645e-05\n"
     ]
    }
   ],
   "source": [
    "_,ax = plt.subplots()\n",
    "pl_range = np.arange(-3e-4,3e-4,1e-5)\n",
    "pl = np.array([calculate_pl(pl_range_) for pl_range_ in pl_range])\n",
    "ax.plot(pl_range*100000, pl-np.min(pl), 'o--')\n",
    "ax.plot(pl_range*100000, pl_range*0+2.7, 'r--')\n",
    "ax.set(xlabel=r'$\\epsilon [10^5]$', ylabel='PL')\n",
    "\n",
    "pl_range_plus = np.arange(0,3e-4,1e-5)\n",
    "pl_plus = np.array([calculate_pl(pl_range_) for pl_range_ in pl_range_plus])\n",
    "ax.plot(pl_range_plus*100000, pl_plus-np.min(pl_plus), 'o--')\n",
    "\n",
    "pl_range_minus = np.arange(-3e-4,pl_range[np.argmin(pl)],1e-5)\n",
    "pl_minus = np.array([calculate_pl(pl_range_) for pl_range_ in pl_range_minus])\n",
    "ax.plot(pl_range_minus*100000, pl_minus-np.min(pl_minus), 'o--')\n",
    "\n",
    "print(pl_range[np.argmin(pl)])\n",
    "print(np.interp(2.71, (pl_minus-np.min(pl_minus))[::-1], pl_range_minus[::-1]), np.interp(2.71, pl_plus-np.min(pl_plus), pl_range_plus))"
   ]
  },
  {
   "cell_type": "code",
   "execution_count": 1194,
   "metadata": {},
   "outputs": [
    {
     "data": {
      "application/vnd.jupyter.widget-view+json": {
       "model_id": "66b196bde71a4fd0b36efc3acb639b1c",
       "version_major": 2,
       "version_minor": 0
      },
      "text/plain": [
       "Canvas(toolbar=Toolbar(toolitems=[('Home', 'Reset original view', 'home', 'home'), ('Back', 'Back to previous …"
      ]
     },
     "metadata": {},
     "output_type": "display_data"
    },
    {
     "data": {
      "text/plain": [
       "(-1.9999999999999239e-05, 8.5436025596824383e-05)"
      ]
     },
     "execution_count": 1194,
     "metadata": {},
     "output_type": "execute_result"
    }
   ],
   "source": [
    "_,ax = plt.subplots()\n",
    "pl_range_plus = np.arange(0,1e-4,1e-5)\n",
    "pl_plus = np.array([calculate_pl(pl_range_) for pl_range_ in pl_range_plus])\n",
    "ax.plot(pl_range_plus*100000, pl_plus-np.min(pl_plus), 'o--')\n",
    "ax.plot(pl_range_plus*100000, pl_range_plus*0+2.7, 'r--')\n",
    "\n",
    "ax.set(xlabel=r'$\\epsilon [10^5]$', ylabel='PL')\n",
    "pl_range[np.argmin(pl)], np.interp(2.71, pl_plus-np.min(pl_plus), pl_range_plus)"
   ]
  },
  {
   "cell_type": "code",
   "execution_count": 1042,
   "metadata": {},
   "outputs": [
    {
     "data": {
      "application/vnd.jupyter.widget-view+json": {
       "model_id": "779607395df549429711ab8d0d6b853e",
       "version_major": 2,
       "version_minor": 0
      },
      "text/plain": [
       "Canvas(toolbar=Toolbar(toolitems=[('Home', 'Reset original view', 'home', 'home'), ('Back', 'Back to previous …"
      ]
     },
     "metadata": {},
     "output_type": "display_data"
    },
    {
     "data": {
      "text/plain": [
       "(-8.000000000000002e-05, -0.00017618157279836711)"
      ]
     },
     "execution_count": 1042,
     "metadata": {},
     "output_type": "execute_result"
    }
   ],
   "source": [
    "_,ax = plt.subplots()\n",
    "pl_range_minus = np.arange(-2e-4,pl_range[np.argmin(pl)],1e-5)\n",
    "pl_minus = np.array([calculate_pl(pl_range_) for pl_range_ in pl_range_minus])\n",
    "ax.plot(pl_range_minus*100000, pl_minus-np.min(pl_minus), 'o--')\n",
    "ax.plot(pl_range_minus*100000, pl_range_minus*0+2.7, 'r--')\n",
    "\n",
    "ax.set(xlabel=r'$\\epsilon [10^5]$', ylabel='PL')\n",
    "pl_range[np.argmin(pl)], np.interp(2.71, (pl_minus-np.min(pl_minus))[::-1], pl_range_minus[::-1])"
   ]
  },
  {
   "cell_type": "code",
   "execution_count": null,
   "metadata": {},
   "outputs": [],
   "source": []
  },
  {
   "cell_type": "code",
   "execution_count": null,
   "metadata": {},
   "outputs": [],
   "source": []
  }
 ],
 "metadata": {
  "kernelspec": {
   "display_name": "Python 3",
   "language": "python",
   "name": "python3"
  },
  "language_info": {
   "codemirror_mode": {
    "name": "ipython",
    "version": 3
   },
   "file_extension": ".py",
   "mimetype": "text/x-python",
   "name": "python",
   "nbconvert_exporter": "python",
   "pygments_lexer": "ipython3",
   "version": "3.6.9"
  }
 },
 "nbformat": 4,
 "nbformat_minor": 4
}
