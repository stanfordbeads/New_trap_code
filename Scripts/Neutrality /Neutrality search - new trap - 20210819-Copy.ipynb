{
 "cells": [
  {
   "cell_type": "code",
   "execution_count": 27,
   "metadata": {},
   "outputs": [],
   "source": [
    "%run /home/analysis_user/New_trap_code/Tools/basic_packages.py"
   ]
  },
  {
   "cell_type": "code",
   "execution_count": 28,
   "metadata": {},
   "outputs": [],
   "source": [
    "%matplotlib widget"
   ]
  },
  {
   "cell_type": "markdown",
   "metadata": {},
   "source": [
    "### Discharge data"
   ]
  },
  {
   "cell_type": "code",
   "execution_count": 29,
   "metadata": {},
   "outputs": [],
   "source": [
    "ll = likelihood_analyser.LikelihoodAnalyser()\n",
    "bandwidth = 2\n",
    "decimate = 10\n",
    "drive_freq = 71\n",
    "fsamp = 5000\n",
    "def func1_scale(i):\n",
    "    bb = step_cal_files[i]\n",
    "        \n",
    "    freq2 = np.fft.rfftfreq(len(bb.electrode_data[0]), d=1./5000)\n",
    "    fft_angles = np.angle(np.fft.rfft(bb.electrode_data[0]))\n",
    "    phi_tmp2 = (fft_angles[freq2==drive_freq]+np.pi/2)%(2*np.pi)\n",
    "    print(phi_tmp2,np.std(bb.electrode_data[0])*np.sqrt(2))\n",
    "\n",
    "    fit_kwargs = {'A': 0, 'f': drive_freq, 'phi': phi_tmp2, \n",
    "                  'error_A': 1, 'error_f': 1, 'error_phi': 0.5, 'errordef': 1,\n",
    "                  'limit_phi': [-2 * np.pi, 2 * np.pi], \n",
    "                  'limit_A': [-1, 1], \n",
    "                  'print_level': 0, 'fix_f': True, 'fix_phi': False}\n",
    "\n",
    "    frequency = fit_kwargs['f']\n",
    "\n",
    "    b, a = signal.butter(3, [2.*(drive_freq-bandwidth/2.)/fsamp, 2.*(drive_freq+bandwidth/2.)/fsamp ], btype = 'bandpass')\n",
    "    xx2 = signal.filtfilt(b, a, bb.x2)[::decimate]\n",
    "    \n",
    "    m1_tmp = ll.find_mle_sin(xx2, fsamp=5000/decimate, noise_rms=1, plot=False, suppress_print=True, **fit_kwargs)\n",
    "    \n",
    "    return m1_tmp.values[0],m1_tmp.values[2]"
   ]
  },
  {
   "cell_type": "code",
   "execution_count": 30,
   "metadata": {},
   "outputs": [
    {
     "name": "stderr",
     "output_type": "stream",
     "text": [
      "100%|██████████| 110/110 [00:02<00:00, 42.96it/s]"
     ]
    },
    {
     "name": "stdout",
     "output_type": "stream",
     "text": [
      "110  files in folder\n",
      "110  files loaded\n"
     ]
    },
    {
     "name": "stderr",
     "output_type": "stream",
     "text": [
      "\n"
     ]
    }
   ],
   "source": [
    "step_cal_dir = r'/data/new_trap/20210819/Bead1/Discharge/FineDischarge/'\n",
    "step_cal_files = load_dir(step_cal_dir, start_file=0)"
   ]
  },
  {
   "cell_type": "code",
   "execution_count": 31,
   "metadata": {},
   "outputs": [
    {
     "name": "stdout",
     "output_type": "stream",
     "text": [
      "0 / 110\n",
      "[0.08159127] 9.996258641443987\n",
      "1 / 110\n",
      "[0.08158181] 9.996261562905714\n",
      "2 / 110\n",
      "[0.08158551] 9.996262826363902\n",
      "3 / 110\n",
      "[0.0815914] 9.996261024164689\n",
      "4 / 110\n",
      "[0.08160914] 9.996255982376793\n",
      "5 / 110\n",
      "[0.08158232] 9.996291576691956\n",
      "6 / 110\n",
      "[0.08159683] 9.99629738460346\n",
      "7 / 110\n",
      "[0.08161135] 9.996294209095058\n",
      "8 / 110\n",
      "[0.08161813] 9.996288186989338\n",
      "9 / 110\n",
      "[0.08161548] 9.996293299986304\n",
      "10 / 110\n",
      "[0.08160144] 9.996121181390475\n",
      "11 / 110\n",
      "[0.08156281] 9.996121232412026\n",
      "12 / 110\n",
      "[0.08157338] 9.99611902714073\n",
      "13 / 110\n",
      "[0.08157973] 9.996123751130634\n",
      "14 / 110\n",
      "[0.08158879] 9.996118867766942\n",
      "15 / 110\n",
      "[0.08159015] 9.996293898343522\n",
      "16 / 110\n",
      "[0.08159399] 9.996295801114082\n",
      "17 / 110\n",
      "[0.08157734] 9.996296844269922\n",
      "18 / 110\n",
      "[0.08160145] 9.996291026971965\n",
      "19 / 110\n",
      "[0.08159037] 9.996292761938781\n",
      "20 / 110\n",
      "[0.08161575] 9.996292540091673\n",
      "21 / 110\n",
      "[0.08159737] 9.996293891203111\n",
      "22 / 110\n",
      "[0.08160346] 9.996294403395577\n",
      "23 / 110\n",
      "[0.08160373] 9.996296160912763\n",
      "24 / 110\n",
      "[0.0816174] 9.99629768840838\n",
      "25 / 110\n",
      "[0.08161163] 9.996295860602576\n",
      "26 / 110\n",
      "[0.08161677] 9.99629166429001\n",
      "27 / 110\n",
      "[0.08160107] 9.996289910909281\n",
      "28 / 110\n",
      "[0.08161261] 9.996295442202715\n",
      "29 / 110\n",
      "[0.08159506] 9.99628791215586\n",
      "30 / 110\n",
      "[0.0816122] 9.996292573643892\n",
      "31 / 110\n",
      "[0.08160995] 9.9962891588912\n",
      "32 / 110\n",
      "[0.08161265] 9.99629387813677\n",
      "33 / 110\n",
      "[0.08160657] 9.996293122776857\n",
      "34 / 110\n",
      "[0.08160091] 9.996297645358993\n",
      "35 / 110\n",
      "[0.08157928] 9.996290983168514\n",
      "36 / 110\n",
      "[0.08159043] 9.99629310939512\n",
      "37 / 110\n",
      "[0.08159385] 9.9962924881338\n",
      "38 / 110\n",
      "[0.08159557] 9.996287795315304\n",
      "39 / 110\n",
      "[0.08160802] 9.996293413366757\n",
      "40 / 110\n",
      "[0.08161254] 9.996292520110634\n",
      "41 / 110\n",
      "[0.08160184] 9.996292501100706\n",
      "42 / 110\n",
      "[0.08160451] 9.996289264501343\n",
      "43 / 110\n",
      "[0.08160826] 9.996293440346502\n",
      "44 / 110\n",
      "[0.08161496] 9.996292880952492\n",
      "45 / 110\n",
      "[0.08159383] 9.996289566342766\n",
      "46 / 110\n",
      "[0.08159821] 9.996295459993329\n",
      "47 / 110\n",
      "[0.08163456] 9.996292227990992\n",
      "48 / 110\n",
      "[0.08164878] 9.996295877927814\n",
      "49 / 110\n",
      "[0.08163918] 9.99628737213693\n",
      "50 / 110\n",
      "[0.08164231] 9.996290372815624\n",
      "51 / 110\n",
      "[0.08161127] 9.996294013533698\n",
      "52 / 110\n",
      "[0.08161609] 9.996289281691974\n",
      "53 / 110\n",
      "[0.08160646] 9.996289509490689\n",
      "54 / 110\n",
      "[0.08158325] 9.996290372795013\n",
      "55 / 110\n",
      "[0.08160346] 9.99629566621622\n",
      "56 / 110\n",
      "[0.08159242] 9.996289950306275\n",
      "57 / 110\n",
      "[0.08160667] 9.996294687832247\n",
      "58 / 110\n",
      "[0.0816116] 9.996289788747891\n",
      "59 / 110\n",
      "[0.08160557] 9.996293482035561\n",
      "60 / 110\n",
      "[0.08161444] 9.99629021164824\n",
      "61 / 110\n",
      "[0.08162425] 9.99629533769483\n",
      "62 / 110\n",
      "[0.08161925] 9.996292107212394\n",
      "63 / 110\n",
      "[0.08160999] 9.996297421125927\n",
      "64 / 110\n",
      "[0.08160919] 9.996298957831131\n",
      "65 / 110\n",
      "[0.08159922] 9.99629399287809\n",
      "66 / 110\n",
      "[0.0815775] 9.996290417475558\n",
      "67 / 110\n",
      "[0.08157651] 9.996295384997419\n",
      "68 / 110\n",
      "[0.08159771] 9.99629990744489\n",
      "69 / 110\n",
      "[0.08158195] 9.996298253867291\n",
      "70 / 110\n",
      "[0.08158326] 9.996293609638078\n",
      "71 / 110\n",
      "[0.08158743] 9.996291112965851\n",
      "72 / 110\n",
      "[0.08157264] 9.996291797747197\n",
      "73 / 110\n",
      "[0.08155407] 9.996291682416963\n",
      "74 / 110\n",
      "[0.08155901] 9.996295365792198\n",
      "75 / 110\n",
      "[0.08156621] 9.9962943921248\n",
      "76 / 110\n",
      "[0.08157762] 9.996291761706553\n",
      "77 / 110\n",
      "[0.08159592] 9.996294391126167\n",
      "78 / 110\n",
      "[0.0815949] 9.99629421323719\n",
      "79 / 110\n",
      "[0.08159417] 9.99628992119364\n",
      "80 / 110\n",
      "[0.08159076] 9.996296702989415\n",
      "81 / 110\n",
      "[0.08160078] 9.996294024085543\n",
      "82 / 110\n",
      "[0.08158665] 9.996298248953954\n",
      "83 / 110\n",
      "[0.08158567] 9.996290726445014\n",
      "84 / 110\n",
      "[0.08159053] 9.996292549122858\n",
      "85 / 110\n",
      "[0.08157889] 9.996123067543959\n",
      "86 / 110\n",
      "[0.08158645] 9.996122343077166\n",
      "87 / 110\n",
      "[0.08158591] 9.996116972782879\n",
      "88 / 110\n",
      "[0.08158244] 9.996117047736183\n",
      "89 / 110\n",
      "[0.08158148] 9.996117910453842\n",
      "90 / 110\n",
      "[0.08160636] 9.996262301099128\n",
      "91 / 110\n",
      "[0.08160187] 9.996258374708923\n",
      "92 / 110\n",
      "[0.08160313] 9.996261300059006\n",
      "93 / 110\n",
      "[0.08160239] 9.996261303879393\n",
      "94 / 110\n",
      "[0.08160117] 9.996256061778446\n",
      "95 / 110\n",
      "[0.08156464] 9.996292462054903\n",
      "96 / 110\n",
      "[0.08156077] 9.996296034187912\n",
      "97 / 110\n",
      "[0.08158288] 9.996290617341646\n",
      "98 / 110\n",
      "[0.08160058] 9.996297600356343\n",
      "99 / 110\n",
      "[0.08161294] 9.996296459712982\n",
      "100 / 110\n",
      "[0.08162342] 9.996118857155992\n",
      "101 / 110\n",
      "[0.08161557] 9.99612072385608\n",
      "102 / 110\n",
      "[0.08162265] 9.99612303610168\n",
      "103 / 110\n",
      "[0.08160944] 9.99611783996054\n",
      "104 / 110\n",
      "[0.08160924] 9.996117688575884\n",
      "105 / 110\n",
      "[0.08164741] 9.996259062902913\n",
      "106 / 110\n",
      "[0.08163525] 9.996261506842167\n",
      "107 / 110\n",
      "[0.08163726] 9.996261575495682\n",
      "108 / 110\n",
      "[0.08163815] 9.996259449552909\n",
      "109 / 110\n",
      "[0.08165052] 9.996262322298485\n"
     ]
    }
   ],
   "source": [
    "amps3 = []\n",
    "for i in range(len(step_cal_files)):\n",
    "    print(i,'/',len(step_cal_files))\n",
    "    amps3.append(func1_scale(i)[0])"
   ]
  },
  {
   "cell_type": "code",
   "execution_count": 38,
   "metadata": {},
   "outputs": [
    {
     "name": "stdout",
     "output_type": "stream",
     "text": [
      "Scale is  2.339906716277429e-05\n",
      "voltage:  9.996262322298485\n"
     ]
    }
   ],
   "source": [
    "scale = np.abs(np.mean(amps3[70:80]))/8\n",
    "print(\"Scale is \", scale)\n",
    "bb = step_cal_files[-1]\n",
    "voltage = np.std(bb.electrode_data[0])*np.sqrt(2)\n",
    "print(\"voltage: \", voltage)"
   ]
  },
  {
   "cell_type": "code",
   "execution_count": 39,
   "metadata": {},
   "outputs": [
    {
     "data": {
      "application/vnd.jupyter.widget-view+json": {
       "model_id": "62738ece97154280b76e311ba07caf9c",
       "version_major": 2,
       "version_minor": 0
      },
      "text/plain": [
       "Canvas(toolbar=Toolbar(toolitems=[('Home', 'Reset original view', 'home', 'home'), ('Back', 'Back to previous …"
      ]
     },
     "metadata": {},
     "output_type": "display_data"
    }
   ],
   "source": [
    "# amps = np.array(amps)\n",
    "amps3 = np.array(amps3)\n",
    "_,ax = plt.subplots(figsize=(9.4,4))\n",
    "\n",
    "# Perrinf\n",
    "ax.scatter(range(len(amps3)), amps3/scale, label='fit phase')\n",
    "# ax.scatter(range(len(amps3)), amps3/scale, label='fit fixed-phases')\n",
    "\n",
    "ax.set(xlabel='dataset', ylabel='Electron charges', ylim=(-22, 0.1), xlim=(30,None))\n",
    "ax.grid(axis='y')\n",
    "ax.minorticks_on()\n",
    "ax.grid(which='major', linestyle='-', linewidth='0.5', color='red')\n",
    "ax.grid(which='minor', linestyle=':', linewidth='0.5', color='black')\n",
    "# ax.legend()\n",
    "from matplotlib.ticker import MaxNLocator\n",
    "ax.yaxis.set_major_locator(MaxNLocator(integer=True))"
   ]
  },
  {
   "cell_type": "code",
   "execution_count": 40,
   "metadata": {},
   "outputs": [],
   "source": [
    "ll = likelihood_analyser.LikelihoodAnalyser()\n",
    "bandwidth = 2\n",
    "decimate = 10\n",
    "drive_freq = 71\n",
    "phase_calib = 0\n",
    "# phase_calib = -0.0442\n",
    "\n",
    "def get_amp(i):\n",
    "    \n",
    "    fname = r'/data/new_trap/20210819/Bead1/Neutrality/200V_X_SPINYZ_58p5kHz_100V_20210820/Discharge_'+str(i)+'.h5'\n",
    "    bb = BeadDataFile.BeadDataFile(fname=fname)\n",
    "\n",
    "\n",
    "    fit_kwargs = {'A': 0, 'f': drive_freq, 'phi': phase_calib, \n",
    "                  'error_A': 1, 'error_f': 1, 'error_phi': 0.5, 'errordef': 1,\n",
    "                  'limit_phi': [-2 * np.pi, 2 * np.pi], \n",
    "                  'limit_A': [-1, 1], \n",
    "                  'print_level': 0, 'fix_f': True, 'fix_phi': False}\n",
    "    \n",
    "    b, a = signal.butter(3, [2.*(drive_freq-bandwidth/2.)/fsamp, 2.*(drive_freq+bandwidth/2.)/fsamp ], btype = 'bandpass')\n",
    "    xx2 = signal.filtfilt(b, a, bb.x2)[::decimate]\n",
    "    \n",
    "    m1_tmp = ll.find_mle_sin(xx2, fsamp=5000/decimate, noise_rms=1, plot=False, suppress_print=True, **fit_kwargs)\n",
    "    \n",
    "    return m1_tmp.values[0]"
   ]
  },
  {
   "cell_type": "code",
   "execution_count": 41,
   "metadata": {},
   "outputs": [
    {
     "data": {
      "text/plain": [
       "-0.04717982215115141"
      ]
     },
     "execution_count": 41,
     "metadata": {},
     "output_type": "execute_result"
    }
   ],
   "source": [
    "i=0\n",
    "get_amp(i)/scale"
   ]
  },
  {
   "cell_type": "code",
   "execution_count": 42,
   "metadata": {},
   "outputs": [
    {
     "name": "stdout",
     "output_type": "stream",
     "text": [
      "voltages, bias:  200.04036193179343 0.04137692997338144 0.42040024668424963\n"
     ]
    }
   ],
   "source": [
    "i = 0\n",
    "fname = r'/data/new_trap/20210819/Bead1/Neutrality/200V_X_SPINYZ_58p5kHz_100V_20210820/Discharge_'+str(i)+'.h5'\n",
    "bb = BeadDataFile.BeadDataFile(fname=fname)\n",
    "voltage0_200 = np.std(bb.electrode_data[0])*np.sqrt(2)*200\n",
    "voltage1_200 = np.std(bb.electrode_data[1])*np.sqrt(2)*200\n",
    "bias2 = np.mean(bb.electrode_data[0])*200\n",
    "print(\"voltages, bias: \", voltage0_200, voltage1_200, bias2)"
   ]
  },
  {
   "cell_type": "code",
   "execution_count": 43,
   "metadata": {},
   "outputs": [
    {
     "data": {
      "text/plain": [
       "(9.996262322298485, 200.04036193179343, 2.339906716277429e-05)"
      ]
     },
     "execution_count": 43,
     "metadata": {},
     "output_type": "execute_result"
    }
   ],
   "source": [
    "voltage, voltage0_200, scale"
   ]
  },
  {
   "cell_type": "code",
   "execution_count": 45,
   "metadata": {
    "scrolled": true
   },
   "outputs": [
    {
     "name": "stderr",
     "output_type": "stream",
     "text": [
      "100%|██████████| 1800/1800 [00:07<00:00, 254.88it/s]\n"
     ]
    }
   ],
   "source": [
    "amps_data_200V = np.array(Parallel(n_jobs=20)(delayed(get_amp)(i) for i in tqdm(range(1800))))"
   ]
  },
  {
   "cell_type": "code",
   "execution_count": 46,
   "metadata": {
    "scrolled": false
   },
   "outputs": [
    {
     "data": {
      "application/vnd.jupyter.widget-view+json": {
       "model_id": "966da5bb572141fd8e95fac0bc9fcc6b",
       "version_major": 2,
       "version_minor": 0
      },
      "text/plain": [
       "Canvas(toolbar=Toolbar(toolitems=[('Home', 'Reset original view', 'home', 'home'), ('Back', 'Back to previous …"
      ]
     },
     "metadata": {},
     "output_type": "display_data"
    },
    {
     "name": "stdout",
     "output_type": "stream",
     "text": [
      "mean:  -0.0015166563609849495 std:  0.0002798156543739575\n",
      "mean:  0.006923128961176383 std:  0.0012722564951503997\n"
     ]
    }
   ],
   "source": [
    "data0 = amps_data_200V/scale*voltage/voltage0_200\n",
    "\n",
    "dataPlus=data0[::4]\n",
    "dataMinus=data0[2::4]\n",
    "\n",
    "_, ax= plt.subplots()\n",
    "ax.scatter(np.arange(len(dataPlus)), dataPlus, label='X-axis, plus, 200V, YZ-spin, with-height-fb')\n",
    "ax.scatter(np.arange(len(dataMinus)), dataMinus, label='X-axis, minus, 200V, YZ-spin, with-height-fb')\n",
    "ax.plot(np.arange(0,1000), np.arange(0,1000)*0, '--r')\n",
    "ax.set(xlabel='Dataset', ylabel=r'$\\epsilon$')\n",
    "ax.legend()\n",
    "print('mean: ', np.mean(dataPlus), 'std: ', np.std(dataPlus)/np.sqrt(len(dataPlus)))\n",
    "print('mean: ', np.mean(dataMinus), 'std: ', np.std(dataMinus)/np.sqrt(len(dataMinus)))"
   ]
  },
  {
   "cell_type": "code",
   "execution_count": 19,
   "metadata": {},
   "outputs": [
    {
     "data": {
      "text/plain": [
       "-0.19659022094110468"
      ]
     },
     "execution_count": 19,
     "metadata": {},
     "output_type": "execute_result"
    }
   ],
   "source": [
    "-0.007713032166712999/0.03923405818351312 "
   ]
  },
  {
   "cell_type": "code",
   "execution_count": 24,
   "metadata": {},
   "outputs": [
    {
     "data": {
      "text/plain": [
       "-0.22269778219138187"
      ]
     },
     "execution_count": 24,
     "metadata": {},
     "output_type": "execute_result"
    }
   ],
   "source": [
    "-0.0016038530141878442/0.007201926298527419"
   ]
  },
  {
   "cell_type": "code",
   "execution_count": null,
   "metadata": {},
   "outputs": [],
   "source": []
  }
 ],
 "metadata": {
  "kernelspec": {
   "display_name": "Python 3",
   "language": "python",
   "name": "python3"
  },
  "language_info": {
   "codemirror_mode": {
    "name": "ipython",
    "version": 3
   },
   "file_extension": ".py",
   "mimetype": "text/x-python",
   "name": "python",
   "nbconvert_exporter": "python",
   "pygments_lexer": "ipython3",
   "version": "3.6.9"
  }
 },
 "nbformat": 4,
 "nbformat_minor": 4
}
