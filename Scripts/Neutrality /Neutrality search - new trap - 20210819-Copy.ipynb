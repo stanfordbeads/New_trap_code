{
 "cells": [
  {
   "cell_type": "code",
   "execution_count": 1,
   "metadata": {},
   "outputs": [],
   "source": [
    "%run /home/analysis_user/New_trap_code/Tools/basic_packages.py"
   ]
  },
  {
   "cell_type": "code",
   "execution_count": 2,
   "metadata": {},
   "outputs": [],
   "source": [
    "%matplotlib widget"
   ]
  },
  {
   "cell_type": "markdown",
   "metadata": {},
   "source": [
    "### Discharge data"
   ]
  },
  {
   "cell_type": "code",
   "execution_count": 3,
   "metadata": {},
   "outputs": [
    {
     "name": "stderr",
     "output_type": "stream",
     "text": [
      "100%|██████████| 30/30 [00:00<00:00, 40.06it/s]"
     ]
    },
    {
     "name": "stdout",
     "output_type": "stream",
     "text": [
      "160  files in folder\n",
      "30  files loaded\n"
     ]
    },
    {
     "name": "stderr",
     "output_type": "stream",
     "text": [
      "\n"
     ]
    }
   ],
   "source": [
    "step_cal_dir = r'/data/new_trap/20210823/Bead2/Discharge/FineDischarge/'\n",
    "step_cal_files = load_dir(step_cal_dir, start_file=130)"
   ]
  },
  {
   "cell_type": "code",
   "execution_count": 4,
   "metadata": {},
   "outputs": [],
   "source": [
    "ll = likelihood_analyser.LikelihoodAnalyser()\n",
    "bandwidth = 2\n",
    "decimate = 10\n",
    "drive_freq = 71\n",
    "fsamp = 5000\n",
    "def func1_scale(i):\n",
    "    bb = step_cal_files[i]\n",
    "        \n",
    "    freq2 = np.fft.rfftfreq(len(bb.electrode_data[0]), d=1./5000)\n",
    "    fft_angles = np.angle(np.fft.rfft(bb.electrode_data[0]))\n",
    "    phi_tmp2 = (fft_angles[freq2==drive_freq]+np.pi/2)%(2*np.pi)\n",
    "    print(phi_tmp2,np.std(bb.electrode_data[0])*np.sqrt(2))\n",
    "\n",
    "    fit_kwargs = {'A': 0, 'f': drive_freq, 'phi': phi_tmp2, \n",
    "                  'error_A': 1, 'error_f': 1, 'error_phi': 0.5, 'errordef': 1,\n",
    "                  'limit_phi': [-2 * np.pi, 2 * np.pi], \n",
    "                  'limit_A': [-1, 1], \n",
    "                  'print_level': 0, 'fix_f': True, 'fix_phi': False}\n",
    "\n",
    "    frequency = fit_kwargs['f']\n",
    "\n",
    "    b, a = signal.butter(3, [2.*(drive_freq-bandwidth/2.)/fsamp, 2.*(drive_freq+bandwidth/2.)/fsamp ], btype = 'bandpass')\n",
    "    xx2 = signal.filtfilt(b, a, bb.x2)[::decimate]\n",
    "    \n",
    "    m1_tmp = ll.find_mle_sin(xx2, fsamp=5000/decimate, noise_rms=1, plot=False, suppress_print=True, **fit_kwargs)\n",
    "    \n",
    "    return m1_tmp.values[0],m1_tmp.values[2]"
   ]
  },
  {
   "cell_type": "code",
   "execution_count": 5,
   "metadata": {},
   "outputs": [
    {
     "name": "stdout",
     "output_type": "stream",
     "text": [
      "0 / 30\n",
      "[0.08151204] 9.996282374187803\n",
      "1 / 30\n",
      "[0.08150584] 9.996283154554497\n",
      "2 / 30\n",
      "[0.08151288] 9.996289306700985\n",
      "3 / 30\n",
      "[0.08150226] 9.996290922600725\n",
      "4 / 30\n",
      "[0.08149532] 9.996283225508078\n",
      "5 / 30\n",
      "[0.0815016] 9.996280947525667\n",
      "6 / 30\n",
      "[0.0815034] 9.996280890678362\n",
      "7 / 30\n",
      "[0.08151182] 9.996282502789684\n",
      "8 / 30\n",
      "[0.08152733] 9.996280499973766\n",
      "9 / 30\n",
      "[0.08151452] 9.996285141151462\n",
      "10 / 30\n",
      "[0.08148874] 9.996282313841002\n",
      "11 / 30\n",
      "[0.08148649] 9.996282478421824\n",
      "12 / 30\n",
      "[0.08149802] 9.996287513392774\n",
      "13 / 30\n",
      "[0.08150148] 9.996283785231162\n",
      "14 / 30\n",
      "[0.08148665] 9.99628420650162\n",
      "15 / 30\n",
      "[0.08150219] 9.996287111134162\n",
      "16 / 30\n",
      "[0.08149921] 9.996282544948206\n",
      "17 / 30\n",
      "[0.08150441] 9.996285968052252\n",
      "18 / 30\n",
      "[0.08151877] 9.996289006229093\n",
      "19 / 30\n",
      "[0.08153172] 9.996289370541222\n",
      "20 / 30\n",
      "[0.08152797] 9.996283176744285\n",
      "21 / 30\n",
      "[0.08152914] 9.996285002860057\n",
      "22 / 30\n",
      "[0.08153586] 9.99628791383331\n",
      "23 / 30\n",
      "[0.08152052] 9.996288159636872\n",
      "24 / 30\n",
      "[0.08152625] 9.996286647416502\n",
      "25 / 30\n",
      "[0.08152876] 9.996280108323218\n",
      "26 / 30\n",
      "[0.08151195] 9.996284489814508\n",
      "27 / 30\n",
      "[0.08151405] 9.996285882345111\n",
      "28 / 30\n",
      "[0.0815276] 9.996281903463922\n",
      "29 / 30\n",
      "[0.0815218] 9.996283860738322\n"
     ]
    }
   ],
   "source": [
    "amps3 = []\n",
    "for i in range(len(step_cal_files)):\n",
    "    print(i,'/',len(step_cal_files))\n",
    "    amps3.append(func1_scale(i)[0])"
   ]
  },
  {
   "cell_type": "code",
   "execution_count": 6,
   "metadata": {},
   "outputs": [
    {
     "name": "stdout",
     "output_type": "stream",
     "text": [
      "Scale is  nan\n",
      "voltage:  9.996283860738322\n"
     ]
    },
    {
     "name": "stderr",
     "output_type": "stream",
     "text": [
      "/home/analysis_user/.local/lib/python3.6/site-packages/numpy/core/fromnumeric.py:3373: RuntimeWarning: Mean of empty slice.\n",
      "  out=out, **kwargs)\n",
      "/home/analysis_user/.local/lib/python3.6/site-packages/numpy/core/_methods.py:170: RuntimeWarning: invalid value encountered in double_scalars\n",
      "  ret = ret.dtype.type(ret / rcount)\n"
     ]
    }
   ],
   "source": [
    "scale = np.abs(np.mean(amps3[70:80]))/8\n",
    "print(\"Scale is \", scale)\n",
    "bb = step_cal_files[-1]\n",
    "voltage = np.std(bb.electrode_data[0])*np.sqrt(2)\n",
    "print(\"voltage: \", voltage)"
   ]
  },
  {
   "cell_type": "code",
   "execution_count": 7,
   "metadata": {},
   "outputs": [
    {
     "data": {
      "application/vnd.jupyter.widget-view+json": {
       "model_id": "a8af4282fe504cc6908c3ae67b46b41d",
       "version_major": 2,
       "version_minor": 0
      },
      "text/plain": [
       "Canvas(toolbar=Toolbar(toolitems=[('Home', 'Reset original view', 'home', 'home'), ('Back', 'Back to previous …"
      ]
     },
     "metadata": {},
     "output_type": "display_data"
    }
   ],
   "source": [
    "scale=2.1e-5\n",
    "amps3 = np.array(amps3)\n",
    "_,ax = plt.subplots(figsize=(9.4,4))\n",
    "\n",
    "# Perrinf\n",
    "ax.scatter(range(len(amps3)), amps3/scale, label='fit phase')\n",
    "# ax.scatter(range(len(amps3)), amps3/scale, label='fit fixed-phases')\n",
    "\n",
    "ax.set(xlabel='dataset', ylabel='Electron charges',)# ylim=(-22, 0.1), xlim=(30,None))\n",
    "ax.grid(axis='y')\n",
    "ax.minorticks_on()\n",
    "ax.grid(which='major', linestyle='-', linewidth='0.5', color='red')\n",
    "ax.grid(which='minor', linestyle=':', linewidth='0.5', color='black')\n",
    "# ax.legend()\n",
    "from matplotlib.ticker import MaxNLocator\n",
    "ax.yaxis.set_major_locator(MaxNLocator(integer=True))"
   ]
  },
  {
   "cell_type": "code",
   "execution_count": 8,
   "metadata": {},
   "outputs": [],
   "source": [
    "ll = likelihood_analyser.LikelihoodAnalyser()\n",
    "bandwidth = 2\n",
    "decimate = 10\n",
    "drive_freq = 71\n",
    "phase_calib = 0\n",
    "# phase_calib = -0.0442\n",
    "\n",
    "def get_amp(i):\n",
    "    \n",
    "    fname = r'/data/new_trap/20210819/Bead1/Neutrality/200V_X_SPINYZ_58p5kHz_100V_20210820/Discharge_'+str(i)+'.h5'\n",
    "    bb = BeadDataFile.BeadDataFile(fname=fname)\n",
    "\n",
    "\n",
    "    fit_kwargs = {'A': 0, 'f': drive_freq, 'phi': phase_calib, \n",
    "                  'error_A': 1, 'error_f': 1, 'error_phi': 0.5, 'errordef': 1,\n",
    "                  'limit_phi': [-2 * np.pi, 2 * np.pi], \n",
    "                  'limit_A': [-1, 1], \n",
    "                  'print_level': 0, 'fix_f': True, 'fix_phi': False}\n",
    "    \n",
    "    b, a = signal.butter(3, [2.*(drive_freq-bandwidth/2.)/fsamp, 2.*(drive_freq+bandwidth/2.)/fsamp ], btype = 'bandpass')\n",
    "    xx2 = signal.filtfilt(b, a, bb.x2)[::decimate]\n",
    "    \n",
    "    m1_tmp = ll.find_mle_sin(xx2, fsamp=5000/decimate, noise_rms=1, plot=False, suppress_print=True, **fit_kwargs)\n",
    "    \n",
    "    return m1_tmp.values[0]"
   ]
  },
  {
   "cell_type": "code",
   "execution_count": 9,
   "metadata": {},
   "outputs": [
    {
     "data": {
      "text/plain": [
       "-0.05256970605916847"
      ]
     },
     "execution_count": 9,
     "metadata": {},
     "output_type": "execute_result"
    }
   ],
   "source": [
    "i=0\n",
    "get_amp(i)/scale"
   ]
  },
  {
   "cell_type": "code",
   "execution_count": 10,
   "metadata": {},
   "outputs": [
    {
     "name": "stdout",
     "output_type": "stream",
     "text": [
      "voltages, bias:  200.04036193179343 0.04137692997338144 0.42040024668424963\n"
     ]
    }
   ],
   "source": [
    "i = 0\n",
    "fname = r'/data/new_trap/20210819/Bead1/Neutrality/200V_X_SPINYZ_58p5kHz_100V_20210820/Discharge_'+str(i)+'.h5'\n",
    "bb = BeadDataFile.BeadDataFile(fname=fname)\n",
    "voltage0_200 = np.std(bb.electrode_data[0])*np.sqrt(2)*200\n",
    "voltage1_200 = np.std(bb.electrode_data[1])*np.sqrt(2)*200\n",
    "bias2 = np.mean(bb.electrode_data[0])*200\n",
    "print(\"voltages, bias: \", voltage0_200, voltage1_200, bias2)"
   ]
  },
  {
   "cell_type": "code",
   "execution_count": 11,
   "metadata": {},
   "outputs": [
    {
     "data": {
      "text/plain": [
       "(9.996283860738322, 200.04036193179343, 2.1e-05)"
      ]
     },
     "execution_count": 11,
     "metadata": {},
     "output_type": "execute_result"
    }
   ],
   "source": [
    "voltage, voltage0_200, scale"
   ]
  },
  {
   "cell_type": "code",
   "execution_count": 12,
   "metadata": {
    "scrolled": true
   },
   "outputs": [
    {
     "name": "stderr",
     "output_type": "stream",
     "text": [
      "100%|██████████| 1800/1800 [00:56<00:00, 31.19it/s]\n"
     ]
    }
   ],
   "source": [
    "amps_data_200V = np.array(Parallel(n_jobs=20)(delayed(get_amp)(i) for i in tqdm(range(1800))))"
   ]
  },
  {
   "cell_type": "code",
   "execution_count": null,
   "metadata": {},
   "outputs": [],
   "source": []
  },
  {
   "cell_type": "code",
   "execution_count": null,
   "metadata": {},
   "outputs": [],
   "source": [
    "data0 = amps_data_200V/scale*voltage/voltage0_200\n",
    "\n",
    "dataPlus=data0[::4]\n",
    "dataMinus=data0[2::4]\n",
    "\n",
    "_, ax= plt.subplots()\n",
    "ax.scatter(np.arange(len(dataPlus)), dataPlus, label='X-axis, plus, 200V, YZ-spin, with-height-fb')\n",
    "ax.scatter(np.arange(len(dataMinus)), dataMinus, label='X-axis, minus, 200V, YZ-spin, with-height-fb')\n",
    "ax.plot(np.arange(0,1000), np.arange(0,1000)*0, '--r')\n",
    "ax.set(xlabel='Dataset', ylabel=r'$\\epsilon$')\n",
    "ax.legend()\n",
    "print('mean: ', np.mean(dataPlus), 'std: ', np.std(dataPlus)/np.sqrt(len(dataPlus)))\n",
    "print('mean: ', np.mean(dataMinus), 'std: ', np.std(dataMinus)/np.sqrt(len(dataMinus)))"
   ]
  },
  {
   "cell_type": "code",
   "execution_count": null,
   "metadata": {},
   "outputs": [],
   "source": [
    "-0.007713032166712999/0.03923405818351312 "
   ]
  },
  {
   "cell_type": "code",
   "execution_count": null,
   "metadata": {},
   "outputs": [],
   "source": [
    "-0.0016038530141878442/0.007201926298527419"
   ]
  },
  {
   "cell_type": "code",
   "execution_count": null,
   "metadata": {},
   "outputs": [],
   "source": []
  }
 ],
 "metadata": {
  "kernelspec": {
   "display_name": "Python 3",
   "language": "python",
   "name": "python3"
  },
  "language_info": {
   "codemirror_mode": {
    "name": "ipython",
    "version": 3
   },
   "file_extension": ".py",
   "mimetype": "text/x-python",
   "name": "python",
   "nbconvert_exporter": "python",
   "pygments_lexer": "ipython3",
   "version": "3.6.9"
  },
  "widgets": {
   "application/vnd.jupyter.widget-state+json": {
    "state": {},
    "version_major": 2,
    "version_minor": 0
   }
  }
 },
 "nbformat": 4,
 "nbformat_minor": 4
}
