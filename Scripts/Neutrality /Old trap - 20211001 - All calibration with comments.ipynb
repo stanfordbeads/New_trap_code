{
 "cells": [
  {
   "cell_type": "code",
   "execution_count": 19,
   "metadata": {},
   "outputs": [],
   "source": [
    "import numpy as np\n",
    "import matplotlib.pyplot as plt\n",
    "import matplotlib\n",
    "from scipy import signal\n",
    "from scipy.optimize import minimize\n",
    "\n",
    "import random\n",
    "\n",
    "import h5py\n",
    "from IPython.utils import io\n",
    "\n",
    "from joblib import Parallel, delayed\n",
    "from tqdm import tqdm\n",
    "import sys"
   ]
  },
  {
   "cell_type": "code",
   "execution_count": 20,
   "metadata": {},
   "outputs": [],
   "source": [
    "%matplotlib widget\n",
    "\n",
    "%reload_ext autoreload\n",
    "%autoreload 2"
   ]
  },
  {
   "cell_type": "code",
   "execution_count": 21,
   "metadata": {},
   "outputs": [],
   "source": [
    "sys.path.append('../../../../nadavp/new_trap/Tools/')\n",
    "sys.path.append('../../../../nadavp/new_trap/Tools/StatFramework/')\n",
    "sys.path.append('../../../../nadavp/opt_lev_analysis/lib/')\n",
    "import BeadDataFile\n",
    "from discharge_tools import *"
   ]
  },
  {
   "cell_type": "code",
   "execution_count": 22,
   "metadata": {},
   "outputs": [],
   "source": [
    "from likelihood_calculator import likelihood_analyser\n",
    "from likelihood_calculator import GravityFramework\n",
    "from likelihood_calculator import auxiliary_functions as aux\n",
    "gfw = GravityFramework.GravityFramework()"
   ]
  },
  {
   "cell_type": "code",
   "execution_count": 23,
   "metadata": {},
   "outputs": [],
   "source": [
    "import bead_util as bu\n",
    "import transfer_func_util as tf\n",
    "import configuration as config"
   ]
  },
  {
   "cell_type": "markdown",
   "metadata": {},
   "source": [
    "### Global parameters"
   ]
  },
  {
   "cell_type": "code",
   "execution_count": 24,
   "metadata": {},
   "outputs": [],
   "source": [
    "bandwidth = 2\n",
    "decimate = 10\n",
    "drive_freq = 139\n",
    "fsamp = 5000"
   ]
  },
  {
   "cell_type": "markdown",
   "metadata": {},
   "source": [
    "### Discharge data"
   ]
  },
  {
   "cell_type": "markdown",
   "metadata": {},
   "source": [
    "Fitting discharge data in y to extract the scale"
   ]
  },
  {
   "cell_type": "code",
   "execution_count": 25,
   "metadata": {},
   "outputs": [],
   "source": [
    "ll = likelihood_analyser.LikelihoodAnalyser()\n",
    "\n",
    "## extracing the amplitude at a certain frequency \n",
    "def func1_scale(i):\n",
    "    \n",
    "    bb = step_file_objs[i]      \n",
    "    \n",
    "    ## extract drive phase\n",
    "    freq2 = np.fft.rfftfreq(len(bb.other_data[5]), d=1./5000)\n",
    "    fft_angles = np.angle(np.fft.rfft(bb.other_data[5]))\n",
    "    phi_tmp2 = (fft_angles[freq2==drive_freq]+np.pi/2)%(2*np.pi)\n",
    "\n",
    "    phase_diff = 0\n",
    "    fit_kwargs = {'A': 0, 'f': drive_freq, 'phi': phi_tmp2+phase_diff, 'sigma': 1100,\n",
    "                  'error_A': 0.1, 'error_f': 1, 'error_phi': 0.5, 'errordef': 1, 'error_sigma':50,\n",
    "                  'limit_A': [-100000, 100000], 'fix_sigma': False, 'fix_phi': True, 'fix_f': True,\n",
    "                  'print_level': 0}\n",
    "    \n",
    "    ## bandpass data\n",
    "    b, a = signal.butter(3, [2.*(drive_freq-bandwidth/2.)/fsamp, 2.*(drive_freq+bandwidth/2.)/fsamp ], btype = 'bandpass')\n",
    "    bb.load_other_data()\n",
    "    xx2 = signal.filtfilt(b, a, bb.pos_data[1])[::decimate]\n",
    "    ## extract amplitude\n",
    "    m1_tmp = ll.find_mle_sin(xx2, fsamp=5000/decimate, noise_rms=1, plot=False, suppress_print=True, **fit_kwargs)\n",
    "    \n",
    "    return m1_tmp.values[0], m1_tmp.values[2]-phi_tmp2"
   ]
  },
  {
   "cell_type": "code",
   "execution_count": 26,
   "metadata": {},
   "outputs": [
    {
     "name": "stdout",
     "output_type": "stream",
     "text": [
      "175\n"
     ]
    }
   ],
   "source": [
    "## load all data to a list - step_file_objs\n",
    "step_cal_dir = r'/data/old_trap/20211001/bead1/discharge/recharge_20211013/'\n",
    "max_file = 500\n",
    "\n",
    "step_cal_files = []\n",
    "for root, dirnames, filenames in os.walk(step_cal_dir):\n",
    "    for filename in fnmatch.filter(filenames, '*' + config.extensions['data']):\n",
    "        if '_fpga.h5' in filename:\n",
    "            continue\n",
    "        step_cal_files.append(os.path.join(root, filename))\n",
    "step_cal_files.sort(key = bu.find_str)\n",
    "num_calib_files = len(step_cal_files)\n",
    "print(num_calib_files)\n",
    "\n",
    "# Do the step calibration\n",
    "\n",
    "step_file_objs = []\n",
    "for filname in step_cal_files[:]:\n",
    "    try:\n",
    "        df = bu.DataFile();\n",
    "        df.load(filname);\n",
    "        df.load_other_data()\n",
    "        step_file_objs.append(df);\n",
    "    except:\n",
    "        print('***')"
   ]
  },
  {
   "cell_type": "code",
   "execution_count": 27,
   "metadata": {
    "scrolled": true
   },
   "outputs": [
    {
     "name": "stdout",
     "output_type": "stream",
     "text": [
      "0 / 175\n",
      "1 / 175\n",
      "2 / 175\n",
      "3 / 175\n",
      "4 / 175\n",
      "5 / 175\n",
      "6 / 175\n",
      "7 / 175\n",
      "8 / 175\n",
      "9 / 175\n",
      "10 / 175\n",
      "11 / 175\n",
      "12 / 175\n",
      "13 / 175\n",
      "14 / 175\n",
      "15 / 175\n",
      "16 / 175\n",
      "17 / 175\n",
      "18 / 175\n",
      "19 / 175\n",
      "20 / 175\n",
      "21 / 175\n",
      "22 / 175\n",
      "23 / 175\n",
      "24 / 175\n",
      "25 / 175\n",
      "26 / 175\n",
      "27 / 175\n",
      "28 / 175\n",
      "29 / 175\n",
      "30 / 175\n",
      "31 / 175\n",
      "32 / 175\n",
      "33 / 175\n",
      "34 / 175\n",
      "35 / 175\n",
      "36 / 175\n",
      "37 / 175\n",
      "38 / 175\n",
      "39 / 175\n",
      "40 / 175\n",
      "41 / 175\n",
      "42 / 175\n",
      "43 / 175\n",
      "44 / 175\n",
      "45 / 175\n",
      "46 / 175\n",
      "47 / 175\n",
      "48 / 175\n",
      "49 / 175\n",
      "50 / 175\n",
      "51 / 175\n",
      "52 / 175\n",
      "53 / 175\n",
      "54 / 175\n",
      "55 / 175\n",
      "56 / 175\n",
      "57 / 175\n",
      "58 / 175\n",
      "59 / 175\n",
      "60 / 175\n",
      "61 / 175\n",
      "62 / 175\n",
      "63 / 175\n",
      "64 / 175\n",
      "65 / 175\n",
      "66 / 175\n",
      "67 / 175\n",
      "68 / 175\n",
      "69 / 175\n",
      "70 / 175\n",
      "71 / 175\n",
      "72 / 175\n",
      "73 / 175\n",
      "74 / 175\n",
      "75 / 175\n",
      "76 / 175\n",
      "77 / 175\n",
      "78 / 175\n",
      "79 / 175\n",
      "80 / 175\n",
      "81 / 175\n",
      "82 / 175\n",
      "83 / 175\n",
      "84 / 175\n",
      "85 / 175\n",
      "86 / 175\n",
      "87 / 175\n",
      "88 / 175\n",
      "89 / 175\n",
      "90 / 175\n",
      "91 / 175\n",
      "92 / 175\n",
      "93 / 175\n",
      "94 / 175\n",
      "95 / 175\n",
      "96 / 175\n",
      "97 / 175\n",
      "98 / 175\n",
      "99 / 175\n",
      "100 / 175\n",
      "101 / 175\n",
      "102 / 175\n",
      "103 / 175\n",
      "104 / 175\n",
      "105 / 175\n",
      "106 / 175\n",
      "107 / 175\n",
      "108 / 175\n",
      "109 / 175\n",
      "110 / 175\n",
      "111 / 175\n",
      "112 / 175\n",
      "113 / 175\n",
      "114 / 175\n",
      "115 / 175\n",
      "116 / 175\n",
      "117 / 175\n",
      "118 / 175\n",
      "119 / 175\n",
      "120 / 175\n",
      "121 / 175\n",
      "122 / 175\n",
      "123 / 175\n",
      "124 / 175\n",
      "125 / 175\n",
      "126 / 175\n",
      "127 / 175\n",
      "128 / 175\n",
      "129 / 175\n",
      "130 / 175\n",
      "131 / 175\n",
      "132 / 175\n",
      "133 / 175\n",
      "134 / 175\n",
      "135 / 175\n",
      "136 / 175\n",
      "137 / 175\n",
      "138 / 175\n",
      "139 / 175\n",
      "140 / 175\n",
      "141 / 175\n",
      "142 / 175\n",
      "143 / 175\n",
      "144 / 175\n",
      "145 / 175\n",
      "146 / 175\n",
      "147 / 175\n",
      "148 / 175\n",
      "149 / 175\n",
      "150 / 175\n",
      "151 / 175\n",
      "152 / 175\n",
      "153 / 175\n",
      "154 / 175\n",
      "155 / 175\n",
      "156 / 175\n",
      "157 / 175\n",
      "158 / 175\n",
      "159 / 175\n",
      "160 / 175\n",
      "161 / 175\n",
      "162 / 175\n",
      "163 / 175\n",
      "164 / 175\n",
      "165 / 175\n",
      "166 / 175\n",
      "167 / 175\n",
      "168 / 175\n",
      "169 / 175\n",
      "170 / 175\n",
      "171 / 175\n",
      "172 / 175\n",
      "173 / 175\n",
      "174 / 175\n"
     ]
    }
   ],
   "source": [
    "## run the function on all calibration files\n",
    "amps = []\n",
    "for i in range(num_calib_files):\n",
    "    print(i,'/',len(step_cal_files))\n",
    "    amps.append(func1_scale(i))"
   ]
  },
  {
   "cell_type": "code",
   "execution_count": 28,
   "metadata": {},
   "outputs": [
    {
     "name": "stderr",
     "output_type": "stream",
     "text": [
      "/home/analysis_user/.local/lib/python3.6/site-packages/ipykernel_launcher.py:1: VisibleDeprecationWarning: Creating an ndarray from ragged nested sequences (which is a list-or-tuple of lists-or-tuples-or ndarrays with different lengths or shapes) is deprecated. If you meant to do this, you must specify 'dtype=object' when creating the ndarray\n",
      "  \"\"\"Entry point for launching an IPython kernel.\n"
     ]
    },
    {
     "data": {
      "application/vnd.jupyter.widget-view+json": {
       "model_id": "c565cd705a634f22907b210707912565",
       "version_major": 2,
       "version_minor": 0
      },
      "text/plain": [
       "Canvas(toolbar=Toolbar(toolitems=[('Home', 'Reset original view', 'home', 'home'), ('Back', 'Back to previous …"
      ]
     },
     "metadata": {},
     "output_type": "display_data"
    }
   ],
   "source": [
    "amps = np.array(amps)\n",
    "scaleY = np.abs(np.mean(amps[150:,0]))/4 ## scale is taken from the highest step\n",
    "\n",
    "_,ax = plt.subplots(figsize=(9.5,4))\n",
    "ax.scatter(range(len(amps)), amps[:,0]/scaleY, label='fit phase')\n",
    "\n",
    "ax.set(xlabel='dataset', ylabel='electron charges', ylim=(-0.3,4.5), xlim=(None,None))\n",
    "ax.grid(axis='y')\n",
    "ax.minorticks_on()\n",
    "ax.grid(which='major', linestyle='-', linewidth='0.5', color='red')\n",
    "ax.grid(which='minor', linestyle=':', linewidth='0.5', color='black')\n",
    "from matplotlib.ticker import MaxNLocator\n",
    "\n",
    "ax.yaxis.set_major_locator(MaxNLocator(integer=True))"
   ]
  },
  {
   "cell_type": "code",
   "execution_count": 40,
   "metadata": {},
   "outputs": [
    {
     "name": "stdout",
     "output_type": "stream",
     "text": [
      "Scale is  97.9396835176\n",
      "voltage_calib:  24.0265126779\n"
     ]
    }
   ],
   "source": [
    "print(\"Scale is \", scaleY)\n",
    "bb = step_file_objs[-1]\n",
    "b, a = signal.butter(3, [2.*(drive_freq-bandwidth/2.)/fsamp, 2.*(drive_freq+bandwidth/2.)/fsamp ], btype = 'bandpass')\n",
    "xx2 = signal.filtfilt(b, a, bb.other_data[5])\n",
    "voltage_calib = np.std(xx2)*np.sqrt(2)*100\n",
    "print(\"voltage_calib: \", voltage_calib)\n"
   ]
  },
  {
   "cell_type": "code",
   "execution_count": 46,
   "metadata": {},
   "outputs": [
    {
     "name": "stdout",
     "output_type": "stream",
     "text": [
      "Scale is  97.9396835176\n",
      "voltage_calib:  24.7304750766\n"
     ]
    }
   ],
   "source": [
    "print(\"Scale is \", scaleY)\n",
    "\n",
    "bb = step_file_objs[-1]\n",
    "b, a = signal.butter(3, [2.*(drive_freq-bandwidth/2.)/fsamp, 2.*(drive_freq+bandwidth/2.)/fsamp ], btype = 'bandpass')\n",
    "xx2 = signal.filtfilt(b, a, bb.other_data[5])\n",
    "voltage_calib = np.std(xx2)*np.sqrt(2)*100\n",
    "print(\"voltage_calib: \", voltage_calib)\n"
   ]
  },
  {
   "cell_type": "markdown",
   "metadata": {},
   "source": [
    "### Single electrode data in Z and Y"
   ]
  },
  {
   "cell_type": "code",
   "execution_count": 30,
   "metadata": {},
   "outputs": [],
   "source": [
    "## same procedure as above, but in here I extract the single electrode response at unknown charge state\n",
    "ll = likelihood_analyser.LikelihoodAnalyser()\n",
    "\n",
    "def get_plus_minus_Z(i):\n",
    "    \n",
    "    ## load file\n",
    "    fname = r'/data/old_trap/20211001/bead1/single_electrode_20211013/Z_plus_139Hz_50Vpp/Z_50Vpp_'+str(i)+'.h5'\n",
    "\n",
    "    bb = bu.DataFile();\n",
    "    bb.load(fname);\n",
    "    bb.load_other_data()\n",
    "    \n",
    "    ## extract drive phase\n",
    "    freq2 = np.fft.rfftfreq(len(bb.other_data[1]), d=1./5000)\n",
    "    fft_angles = np.angle(np.fft.rfft(bb.other_data[1]))\n",
    "\n",
    "    phi_tmp2 = (fft_angles[freq2==drive_freq]+np.pi/2)%(2*np.pi)\n",
    "    \n",
    "    phase_diff = 5 # initial guess for the response shift\n",
    "    fit_kwargs = {'A': 0, 'f': drive_freq, 'phi': phi_tmp2+phase_diff, 'sigma': 1100,\n",
    "                  'error_A': 0.1, 'error_f': 1, 'error_phi': 0.5, 'errordef': 1, 'error_sigma':50,\n",
    "                  'limit_A': [-100000, 100000], 'fix_sigma': False, 'fix_phi': False, 'fix_f': True,\n",
    "                  'print_level': 0}  \n",
    "    \n",
    "    \n",
    "    xx2 = signal.filtfilt(b, a, bb.pos_data[2])[::decimate]\n",
    "    \n",
    "    ## fit the signal\n",
    "    m1_tmp = ll.find_mle_sin(xx2, fsamp=5000/decimate, noise_rms=1, plot=False, suppress_print=True, **fit_kwargs)\n",
    "    \n",
    "    \n",
    "    ## same for minus electrode\n",
    "    fname = r'/data/old_trap/20211001/bead1/single_electrode_20211013/Z_minus_139Hz_50Vpp/Z_50Vpp_'+str(i)+'.h5'\n",
    "\n",
    "    bb = bu.DataFile();\n",
    "    bb.load(fname);\n",
    "    bb.load_other_data()\n",
    "    \n",
    "    freq2 = np.fft.rfftfreq(len(bb.other_data[2]), d=1./5000)\n",
    "    fft_angles = np.angle(np.fft.rfft(bb.other_data[2]))\n",
    "\n",
    "    phi_tmp2 = (fft_angles[freq2==drive_freq]+np.pi/2)%(2*np.pi)\n",
    "\n",
    "    phase_diff = 5 # initial guess\n",
    "    fit_kwargs = {'A': 0, 'f': drive_freq, 'phi': phi_tmp2+phase_diff, 'sigma': 1100,\n",
    "                  'error_A': 0.1, 'error_f': 1, 'error_phi': 0.5, 'errordef': 1, 'error_sigma':50,\n",
    "                  'limit_A': [-100000, 100000], 'fix_sigma': False, 'fix_phi': False, 'fix_f': True,\n",
    "                  'print_level': 0}  \n",
    "    \n",
    "    xx2 = signal.filtfilt(b, a, bb.pos_data[2])[::decimate]\n",
    "    \n",
    "    m2_tmp = ll.find_mle_sin(xx2, fsamp=5000/decimate, noise_rms=1, plot=False, suppress_print=True, **fit_kwargs)\n",
    "\n",
    "    return m1_tmp.values[0], m2_tmp.values[0]"
   ]
  },
  {
   "cell_type": "code",
   "execution_count": 31,
   "metadata": {
    "scrolled": true
   },
   "outputs": [],
   "source": [
    "plus_minus_Z = np.array([get_plus_minus_Z(i) for i in range(50)])"
   ]
  },
  {
   "cell_type": "code",
   "execution_count": 32,
   "metadata": {},
   "outputs": [],
   "source": [
    "ll = likelihood_analyser.LikelihoodAnalyser()\n",
    "\n",
    "def get_plus_minus_Y(i):\n",
    "    \n",
    "    ## load file\n",
    "    fname = r'/data/old_trap/20211001/bead1/single_electrode_20211013/Y_plus_139Hz_50Vpp/Y_50Vpp_'+str(i)+'.h5'\n",
    "\n",
    "    bb = bu.DataFile();\n",
    "    bb.load(fname);\n",
    "    bb.load_other_data()\n",
    "    \n",
    "    ## extract drive phase\n",
    "    freq2 = np.fft.rfftfreq(len(bb.other_data[5]), d=1./5000)\n",
    "    fft_angles = np.angle(np.fft.rfft(bb.other_data[5]))\n",
    "\n",
    "    phi_tmp2 = (fft_angles[freq2==drive_freq]+np.pi/2)%(2*np.pi)\n",
    "    phase_diff = 0\n",
    "    fit_kwargs = {'A': 0, 'f': drive_freq, 'phi': phi_tmp2+phase_diff, 'sigma': 1100,\n",
    "                  'error_A': 0.1, 'error_f': 1, 'error_phi': 0.5, 'errordef': 1, 'error_sigma':50,\n",
    "                  'limit_A': [-100000, 100000], 'fix_sigma': False, 'fix_phi': False, 'fix_f': True,\n",
    "                  'print_level': 0}  \n",
    "    xx2 = signal.filtfilt(b, a, bb.pos_data[1])[::decimate]\n",
    "    \n",
    "    ## fit the signal\n",
    "    m1_tmp = ll.find_mle_sin(xx2, fsamp=5000/decimate, noise_rms=1, plot=False, suppress_print=True, **fit_kwargs)\n",
    "    \n",
    "    \n",
    "    ## same for minus electrode\n",
    "    fname = r'/data/old_trap/20211001/bead1/single_electrode_20211013/Y_minus_139Hz_50Vpp/Y_50Vpp_'+str(i)+'.h5'\n",
    "\n",
    "    bb = bu.DataFile();\n",
    "    bb.load(fname);\n",
    "    bb.load_other_data()\n",
    "    \n",
    "    freq2 = np.fft.rfftfreq(len(bb.other_data[6]), d=1./5000)\n",
    "    fft_angles = np.angle(np.fft.rfft(bb.other_data[6]))\n",
    "\n",
    "    phi_tmp2 = (fft_angles[freq2==drive_freq]+np.pi/2)%(2*np.pi)\n",
    "    phase_diff = 0\n",
    "    fit_kwargs = {'A': 0, 'f': drive_freq, 'phi': phi_tmp2+phase_diff, 'sigma': 1100,\n",
    "                  'error_A': 0.1, 'error_f': 1, 'error_phi': 0.5, 'errordef': 1, 'error_sigma':50,\n",
    "                  'limit_A': [-100000, 100000], 'fix_sigma': False, 'fix_phi': False, 'fix_f': True,\n",
    "                  'print_level': 0}  \n",
    "        \n",
    "    xx2 = signal.filtfilt(b, a, bb.pos_data[1])[::decimate]\n",
    "    \n",
    "    m2_tmp = ll.find_mle_sin(xx2, fsamp=5000/decimate, noise_rms=1, plot=False, suppress_print=True, **fit_kwargs)\n",
    "\n",
    "    return m1_tmp.values[0], m2_tmp.values[0]"
   ]
  },
  {
   "cell_type": "code",
   "execution_count": 33,
   "metadata": {},
   "outputs": [],
   "source": [
    "plus_minus_Y = np.array([get_plus_minus_Y(i) for i in range(50)])"
   ]
  },
  {
   "cell_type": "code",
   "execution_count": 34,
   "metadata": {},
   "outputs": [
    {
     "name": "stdout",
     "output_type": "stream",
     "text": [
      "electrodes response - y:  383.312679369 -396.604425653 -0.966486137258\n",
      "electrodes response - z:  -408.513407393 611.114759232 -0.668472494277\n"
     ]
    }
   ],
   "source": [
    "response_elec5 = np.mean(plus_minus_Y[:,0])\n",
    "response_elec6 = np.mean(plus_minus_Y[:,1])\n",
    "print('electrodes response - y: ', response_elec5, response_elec6, response_elec5/response_elec6)\n",
    "\n",
    "response_elec1 = np.mean(plus_minus_Z[:,0])\n",
    "response_elec2 = np.mean(plus_minus_Z[:,1])\n",
    "print('electrodes response - z: ', response_elec1, response_elec2, response_elec1/response_elec2)"
   ]
  },
  {
   "cell_type": "code",
   "execution_count": 35,
   "metadata": {},
   "outputs": [],
   "source": [
    "## now we can extract the Z scale\n",
    "scaleZ = scaleY*(np.abs(response_elec1)+np.abs(response_elec2))/(np.abs(response_elec5)+np.abs(response_elec6))"
   ]
  },
  {
   "cell_type": "code",
   "execution_count": 36,
   "metadata": {},
   "outputs": [
    {
     "data": {
      "text/plain": [
       "(97.939683517624943, 128.04188971089127)"
      ]
     },
     "execution_count": 36,
     "metadata": {},
     "output_type": "execute_result"
    }
   ],
   "source": [
    "scaleY, scaleZ"
   ]
  },
  {
   "cell_type": "markdown",
   "metadata": {},
   "source": [
    "### COMSOL factor"
   ]
  },
  {
   "cell_type": "code",
   "execution_count": 37,
   "metadata": {},
   "outputs": [],
   "source": [
    "fname = r\"top_z_axis_efeild_paper.txt\"\n",
    "Ez_top = np.loadtxt(fname, comments='%')\n",
    "fname = r\"bottom_z_axis_efeild_paper.txt\"\n",
    "Ez_bottom = np.loadtxt(fname, comments='%')"
   ]
  },
  {
   "cell_type": "code",
   "execution_count": 38,
   "metadata": {},
   "outputs": [
    {
     "data": {
      "application/vnd.jupyter.widget-view+json": {
       "model_id": "932fa5832d1243ceacfc0ac36efdd7bf",
       "version_major": 2,
       "version_minor": 0
      },
      "text/plain": [
       "Canvas(toolbar=Toolbar(toolitems=[('Home', 'Reset original view', 'home', 'home'), ('Back', 'Back to previous …"
      ]
     },
     "metadata": {},
     "output_type": "display_data"
    },
    {
     "name": "stdout",
     "output_type": "stream",
     "text": [
      "Ratio is:  -0.668671101898\n",
      "E-feilds are:  -131.069382905 196.014798633\n"
     ]
    }
   ],
   "source": [
    "_,ax = plt.subplots(1,2,figsize=(10,4))\n",
    "\n",
    "ax[0].scatter(Ez_top[:,2]*1000, Ez_top[:,3], label='Top electrode')\n",
    "ax[0].scatter(Ez_bottom[:,2]*1000, Ez_bottom[:,3], label='Bottom electrode')\n",
    "ax[0].legend()\n",
    "ax[0].set(xlabel=r'Z [mm]', ylabel=r'E$_Z$ [V/m]', xlim=(-1,1))\n",
    "\n",
    "ax[1].plot(Ez_top[:,2]*1000,  Ez_top[:,3]/Ez_bottom[:,3], '.', label='Right/Left')\n",
    "ax[1].set(xlabel=r'Z [mm]', ylabel=r'Ratio', xlim=(-1,1))\n",
    "\n",
    "z_um = -0.2305 # guess the position\n",
    "ratio = np.interp(z_um, Ez_top[:,2]*1000, Ez_top[:,3]/Ez_bottom[:,3])\n",
    "field_plus = np.interp(z_um, Ez_top[:,2]*1000, Ez_top[:,3])\n",
    "field_minus = np.interp(z_um, Ez_top[:,2]*1000, Ez_bottom[:,3])\n",
    "print('Ratio is: ', ratio)\n",
    "print('E-feilds are: ',field_plus, field_minus)"
   ]
  },
  {
   "cell_type": "code",
   "execution_count": 39,
   "metadata": {},
   "outputs": [
    {
     "name": "stdout",
     "output_type": "stream",
     "text": [
      "gradients ratio:  0.618840520038\n",
      "gradients are [V/m2]:  -108028.393151 -174565.804359\n"
     ]
    }
   ],
   "source": [
    "z_um1 = np.interp(z_um+0.01, Ez_top[:,2]*1000,  Ez_top[:,3])\n",
    "z_um2 = np.interp(z_um-0.01, Ez_top[:,2]*1000,  Ez_top[:,3])\n",
    "\n",
    "z_um3 = np.interp(z_um+0.01, Ez_bottom[:,2]*1000,  Ez_bottom[:,3])\n",
    "z_um4 = np.interp(z_um-0.01, Ez_bottom[:,2]*1000,  Ez_bottom[:,3])\n",
    "\n",
    "print('gradients ratio: ',(z_um1-z_um2)/(z_um3-z_um4))\n",
    "print('gradients are [V/m2]: ', (z_um1-z_um2)/20*1e6, (z_um3-z_um4)/20*1e6)"
   ]
  },
  {
   "cell_type": "code",
   "execution_count": null,
   "metadata": {},
   "outputs": [],
   "source": []
  },
  {
   "cell_type": "code",
   "execution_count": null,
   "metadata": {},
   "outputs": [],
   "source": []
  }
 ],
 "metadata": {
  "kernelspec": {
   "display_name": "Python 3",
   "language": "python",
   "name": "python3"
  },
  "language_info": {
   "codemirror_mode": {
    "name": "ipython",
    "version": 3
   },
   "file_extension": ".py",
   "mimetype": "text/x-python",
   "name": "python",
   "nbconvert_exporter": "python",
   "pygments_lexer": "ipython3",
   "version": "3.6.9"
  }
 },
 "nbformat": 4,
 "nbformat_minor": 4
}
