{
 "cells": [
  {
   "cell_type": "code",
   "execution_count": 1,
   "metadata": {},
   "outputs": [],
   "source": [
    "import numpy as np\n",
    "import matplotlib.pyplot as plt\n",
    "import matplotlib\n",
    "from scipy import signal\n",
    "from scipy.optimize import minimize\n",
    "\n",
    "import random\n",
    "\n",
    "import h5py\n",
    "from IPython.utils import io\n",
    "\n",
    "from joblib import Parallel, delayed\n",
    "from tqdm import tqdm\n",
    "import sys"
   ]
  },
  {
   "cell_type": "code",
   "execution_count": 2,
   "metadata": {},
   "outputs": [],
   "source": [
    "%matplotlib widget\n",
    "\n",
    "%reload_ext autoreload\n",
    "%autoreload 2"
   ]
  },
  {
   "cell_type": "code",
   "execution_count": 3,
   "metadata": {},
   "outputs": [],
   "source": [
    "sys.path.append('../../../../nadavp/new_trap/Tools/')\n",
    "sys.path.append('../../../../nadavp/new_trap/Tools/StatFramework/')\n",
    "sys.path.append('../../../../nadavp/opt_lev_analysis/lib/')\n",
    "import BeadDataFile\n",
    "from discharge_tools import *"
   ]
  },
  {
   "cell_type": "code",
   "execution_count": 4,
   "metadata": {},
   "outputs": [],
   "source": [
    "from likelihood_calculator import likelihood_analyser\n",
    "from likelihood_calculator import GravityFramework\n",
    "from likelihood_calculator import auxiliary_functions as aux\n",
    "gfw = GravityFramework.GravityFramework()"
   ]
  },
  {
   "cell_type": "code",
   "execution_count": 5,
   "metadata": {},
   "outputs": [],
   "source": [
    "import bead_util as bu\n",
    "# import calib_util as cal\n",
    "import transfer_func_util as tf\n",
    "import configuration as config"
   ]
  },
  {
   "cell_type": "code",
   "execution_count": 49,
   "metadata": {},
   "outputs": [],
   "source": [
    "bandwidth = 1\n",
    "decimate = 10\n",
    "drive_freq = 139\n",
    "fsamp = 5000"
   ]
  },
  {
   "cell_type": "markdown",
   "metadata": {},
   "source": [
    "### Discharge data"
   ]
  },
  {
   "cell_type": "code",
   "execution_count": 77,
   "metadata": {},
   "outputs": [],
   "source": [
    "ll = likelihood_analyser.LikelihoodAnalyser()\n",
    "\n",
    "def func1_scale(i):\n",
    "    \n",
    "    bb = step_file_objs[i]      \n",
    "    freq2 = np.fft.rfftfreq(len(bb.other_data[5]), d=1./5000)\n",
    "    fft_angles = np.angle(np.fft.rfft(bb.other_data[5]))\n",
    "    phi_tmp2 = (fft_angles[freq2==drive_freq]+np.pi/2)%(2*np.pi)\n",
    "\n",
    "    fit_kwargs = {'A': 0, 'f': drive_freq, 'phi': phi_tmp2+0.07, \n",
    "                  'error_A': 1, 'error_f': 1, 'error_phi': 0.5, 'errordef': 1,\n",
    "                  'limit_A': [0, 10000000], \n",
    "                  'print_level': 0, 'fix_f': True, 'fix_phi': True}\n",
    "    \n",
    "    ## bandpass data\n",
    "    b, a = signal.butter(3, [2.*(drive_freq-bandwidth/2.)/fsamp, 2.*(drive_freq+bandwidth/2.)/fsamp ], btype = 'bandpass')\n",
    "    bb.load_other_data()\n",
    "    xx2 = signal.filtfilt(b, a, bb.pos_data[1])[::decimate]\n",
    "    ## extract amplitude\n",
    "    m1_tmp = ll.find_mle_sin(xx2, fsamp=5000/decimate, noise_rms=1, plot=False, suppress_print=True, **fit_kwargs)\n",
    "    \n",
    "    return m1_tmp.values[0], m1_tmp.values[2]-phi_tmp2"
   ]
  },
  {
   "cell_type": "code",
   "execution_count": 59,
   "metadata": {},
   "outputs": [],
   "source": [
    "step_cal_dir = r'/data/old_trap/20211001/bead1/discharge/recharge_20211013/'\n",
    "max_file = 500"
   ]
  },
  {
   "cell_type": "code",
   "execution_count": 78,
   "metadata": {},
   "outputs": [
    {
     "name": "stdout",
     "output_type": "stream",
     "text": [
      "175\n"
     ]
    }
   ],
   "source": [
    "step_cal_files = []\n",
    "for root, dirnames, filenames in os.walk(step_cal_dir):\n",
    "    for filename in fnmatch.filter(filenames, '*' + config.extensions['data']):\n",
    "        if '_fpga.h5' in filename:\n",
    "            continue\n",
    "        step_cal_files.append(os.path.join(root, filename))\n",
    "step_cal_files.sort(key = bu.find_str)\n",
    "num_calib_files = len(step_cal_files)\n",
    "print(num_calib_files)\n",
    "\n",
    "# Do the step calibration\n",
    "\n",
    "step_file_objs = []\n",
    "for filname in step_cal_files[:]:\n",
    "    try:\n",
    "        df = bu.DataFile();\n",
    "        df.load(filname);\n",
    "        df.load_other_data()\n",
    "        step_file_objs.append(df);\n",
    "    except:\n",
    "        print('***')"
   ]
  },
  {
   "cell_type": "code",
   "execution_count": 79,
   "metadata": {
    "scrolled": true
   },
   "outputs": [
    {
     "name": "stdout",
     "output_type": "stream",
     "text": [
      "0 / 175\n",
      "1 / 175\n",
      "2 / 175\n",
      "3 / 175\n",
      "4 / 175\n",
      "5 / 175\n",
      "6 / 175\n",
      "7 / 175\n",
      "8 / 175\n",
      "9 / 175\n",
      "10 / 175\n",
      "11 / 175\n",
      "12 / 175\n",
      "13 / 175\n",
      "14 / 175\n",
      "15 / 175\n",
      "16 / 175\n",
      "17 / 175\n",
      "18 / 175\n",
      "19 / 175\n",
      "20 / 175\n",
      "21 / 175\n",
      "22 / 175\n",
      "23 / 175\n",
      "24 / 175\n",
      "25 / 175\n",
      "26 / 175\n",
      "27 / 175\n",
      "28 / 175\n",
      "29 / 175\n",
      "30 / 175\n",
      "31 / 175\n",
      "32 / 175\n",
      "33 / 175\n",
      "34 / 175\n",
      "35 / 175\n",
      "36 / 175\n",
      "37 / 175\n",
      "38 / 175\n",
      "39 / 175\n",
      "40 / 175\n",
      "41 / 175\n",
      "42 / 175\n",
      "43 / 175\n",
      "44 / 175\n",
      "45 / 175\n",
      "46 / 175\n",
      "47 / 175\n",
      "48 / 175\n",
      "49 / 175\n",
      "50 / 175\n",
      "51 / 175\n",
      "52 / 175\n",
      "53 / 175\n",
      "54 / 175\n",
      "55 / 175\n",
      "56 / 175\n",
      "57 / 175\n",
      "58 / 175\n",
      "59 / 175\n",
      "60 / 175\n",
      "61 / 175\n",
      "62 / 175\n",
      "63 / 175\n",
      "64 / 175\n",
      "65 / 175\n",
      "66 / 175\n",
      "67 / 175\n",
      "68 / 175\n",
      "69 / 175\n",
      "70 / 175\n",
      "71 / 175\n",
      "72 / 175\n",
      "73 / 175\n",
      "74 / 175\n",
      "75 / 175\n",
      "76 / 175\n",
      "77 / 175\n",
      "78 / 175\n",
      "79 / 175\n",
      "80 / 175\n",
      "81 / 175\n",
      "82 / 175\n",
      "83 / 175\n",
      "84 / 175\n",
      "85 / 175\n",
      "86 / 175\n",
      "87 / 175\n",
      "88 / 175\n",
      "89 / 175\n",
      "90 / 175\n",
      "91 / 175\n",
      "92 / 175\n",
      "93 / 175\n",
      "94 / 175\n",
      "95 / 175\n",
      "96 / 175\n",
      "97 / 175\n",
      "98 / 175\n",
      "99 / 175\n",
      "100 / 175\n",
      "101 / 175\n",
      "102 / 175\n",
      "103 / 175\n",
      "104 / 175\n",
      "105 / 175\n",
      "106 / 175\n",
      "107 / 175\n",
      "108 / 175\n",
      "109 / 175\n",
      "110 / 175\n",
      "111 / 175\n",
      "112 / 175\n",
      "113 / 175\n",
      "114 / 175\n",
      "115 / 175\n",
      "116 / 175\n",
      "117 / 175\n",
      "118 / 175\n",
      "119 / 175\n",
      "120 / 175\n",
      "121 / 175\n",
      "122 / 175\n",
      "123 / 175\n",
      "124 / 175\n",
      "125 / 175\n",
      "126 / 175\n",
      "127 / 175\n",
      "128 / 175\n",
      "129 / 175\n",
      "130 / 175\n",
      "131 / 175\n",
      "132 / 175\n",
      "133 / 175\n",
      "134 / 175\n",
      "135 / 175\n",
      "136 / 175\n",
      "137 / 175\n",
      "138 / 175\n",
      "139 / 175\n",
      "140 / 175\n",
      "141 / 175\n",
      "142 / 175\n",
      "143 / 175\n",
      "144 / 175\n",
      "145 / 175\n",
      "146 / 175\n",
      "147 / 175\n",
      "148 / 175\n",
      "149 / 175\n",
      "150 / 175\n",
      "151 / 175\n",
      "152 / 175\n",
      "153 / 175\n",
      "154 / 175\n",
      "155 / 175\n",
      "156 / 175\n",
      "157 / 175\n",
      "158 / 175\n",
      "159 / 175\n",
      "160 / 175\n",
      "161 / 175\n",
      "162 / 175\n",
      "163 / 175\n",
      "164 / 175\n",
      "165 / 175\n",
      "166 / 175\n",
      "167 / 175\n",
      "168 / 175\n",
      "169 / 175\n",
      "170 / 175\n",
      "171 / 175\n",
      "172 / 175\n",
      "173 / 175\n",
      "174 / 175\n"
     ]
    }
   ],
   "source": [
    "amps2 = []\n",
    "for i in range(num_calib_files):\n",
    "    print(i,'/',len(step_cal_files))\n",
    "    amps2.append(func1_scale(i))"
   ]
  },
  {
   "cell_type": "code",
   "execution_count": 80,
   "metadata": {},
   "outputs": [
    {
     "name": "stderr",
     "output_type": "stream",
     "text": [
      "/home/analysis_user/.local/lib/python3.6/site-packages/ipykernel_launcher.py:2: VisibleDeprecationWarning: Creating an ndarray from ragged nested sequences (which is a list-or-tuple of lists-or-tuples-or ndarrays with different lengths or shapes) is deprecated. If you meant to do this, you must specify 'dtype=object' when creating the ndarray\n",
      "  \n"
     ]
    },
    {
     "data": {
      "application/vnd.jupyter.widget-view+json": {
       "model_id": "27944941373240fab79c9575514b8655",
       "version_major": 2,
       "version_minor": 0
      },
      "text/plain": [
       "Canvas(toolbar=Toolbar(toolitems=[('Home', 'Reset original view', 'home', 'home'), ('Back', 'Back to previous …"
      ]
     },
     "metadata": {},
     "output_type": "display_data"
    }
   ],
   "source": [
    "# amps = np.array(amps)\n",
    "amps2 = np.array(amps2)\n",
    "# amps1 = np.array(amps1)\n",
    "_,ax = plt.subplots(figsize=(9.5,4))\n",
    "# scale = 375\n",
    "\n",
    "# Perrinf\n",
    "# ax.scatter(range(len(amps3)), amps3/scaleY, label='fit phase', alpha=0.3)\n",
    "ax.scatter(range(len(amps2)), amps2[:,0]/scaleY, label='fit phase')\n",
    "# ax.scatter(range(len(amps)), amps/scaleY, label='fit phase', alpha=0.4)\n",
    "# ax.scatter(range(len(amps1)), amps1/scale, label='fit phase', alpha=0.8)\n",
    "\n",
    "ax.set(xlabel='dataset', ylabel='electron charges', ylim=(-0.3,4.5), xlim=(None,None))\n",
    "ax.grid(axis='y')\n",
    "ax.minorticks_on()\n",
    "ax.grid(which='major', linestyle='-', linewidth='0.5', color='red')\n",
    "ax.grid(which='minor', linestyle=':', linewidth='0.5', color='black')\n",
    "# ax.legend()\n",
    "from matplotlib.ticker import MaxNLocator\n",
    "\n",
    "ax.yaxis.set_major_locator(MaxNLocator(integer=True))"
   ]
  },
  {
   "cell_type": "code",
   "execution_count": 81,
   "metadata": {},
   "outputs": [
    {
     "name": "stdout",
     "output_type": "stream",
     "text": [
      "Scales are  101.058262361\n",
      "voltage:  24.4577396046\n"
     ]
    }
   ],
   "source": [
    "# scale = -1*np.abs(np.mean(amps3[200:250]))/2\n",
    "# scale = -1*np.abs(np.mean(amps[230:240]))/3\n",
    "# scale = -1*np.abs(np.mean(amps[97:118]))/4\n",
    "scaleY = np.abs(np.mean(amps2[150:,0]))/4\n",
    "print(\"Scales are \", scaleY)\n",
    "bb = step_file_objs[-1]\n",
    "drive_freq = 139\n",
    "bandwidth=5\n",
    "b, a = signal.butter(3, [2.*(drive_freq-bandwidth/2.)/fsamp, 2.*(drive_freq+bandwidth/2.)/fsamp ], btype = 'bandpass')\n",
    "xx2 = signal.filtfilt(b, a, bb.other_data[5])\n",
    "voltage = np.std(xx2)*np.sqrt(2)*100\n",
    "print(\"voltage: \", voltage)"
   ]
  },
  {
   "cell_type": "code",
   "execution_count": 82,
   "metadata": {},
   "outputs": [
    {
     "data": {
      "text/plain": [
       "(99.918507522647417, 101.05826236130879, 132.3382007112377)"
      ]
     },
     "execution_count": 82,
     "metadata": {},
     "output_type": "execute_result"
    }
   ],
   "source": [
    "# scaleY = 93.2359\n",
    "scaleZ = scaleY*(418+627)/(392+406)\n",
    "scaleX = scaleY*(421+368)/(392+406)\n",
    "scaleX, scaleY, scaleZ"
   ]
  },
  {
   "cell_type": "markdown",
   "metadata": {},
   "source": [
    "### Look at neutrality data"
   ]
  },
  {
   "cell_type": "code",
   "execution_count": 26,
   "metadata": {},
   "outputs": [],
   "source": [
    "ll = likelihood_analyser.LikelihoodAnalyser()\n",
    "bandwidth = 1\n",
    "decimate = 2\n",
    "def get_amp(i):\n",
    "    \n",
    "    fname = r'/data/old_trap/20211001/bead1/neutrality5/Y_175Vpp_alternate_139Hz_spin_XZ_77kHz_no_delay_no_height_fb/Y_175Vpp_'+str(i)+'.h5'\n",
    "#     fname = r'/data/old_trap/20211001/bead1/discharge/recharge_20211013/Y_50Vpp_'+str(i)+'.h5'\n",
    "\n",
    "    drive_freq = 139\n",
    "    bb = bu.DataFile();\n",
    "    bb.load(fname);\n",
    "    bb.load_other_data()\n",
    "    \n",
    "    jj = i%2\n",
    "    freq2 = np.fft.rfftfreq(len(bb.other_data[5+jj]), d=1./5000)\n",
    "    fft_angles = np.angle(np.fft.rfft(bb.other_data[5+jj]))\n",
    "    phi_tmp2 = (fft_angles[freq2==drive_freq]+np.pi/2)%(2*np.pi)\n",
    "\n",
    "#     fit_kwargs = {'A': 0.23, 'f': drive_freq, 'phi': 0, \n",
    "#                   'error_A': 1, 'error_f': 10, 'error_phi': 0.5, 'errordef': 1,\n",
    "#                   'limit_A': [0, 1], 'fix_f': True, 'fix_phi': False,\n",
    "#                   'print_level': 0}\n",
    "\n",
    "    b, a = signal.butter(3, [2.*(drive_freq-bandwidth/2.)/fsamp, 2.*(drive_freq+bandwidth/2.)/fsamp ], btype = 'bandpass')\n",
    "#     xx2 = signal.filtfilt(b, a, bb.other_data[5+jj])[::decimate]    \n",
    "#     m1_tmp = ll.find_mle_sin(xx2, fsamp=5000/decimate, noise_rms=1, plot=False, suppress_print=True, **fit_kwargs)\n",
    "#     phi_tmp = m1_tmp.values[2]\n",
    "\n",
    "#     print(phi_tmp, phi_tmp2, m1_tmp.values[0]*100, np.std(xx2)*np.sqrt(2)*100)\n",
    "    \n",
    "    if jj==0:\n",
    "        phase_diff = 0.12\n",
    "    else:\n",
    "        phase_diff = 0.05\n",
    "            \n",
    "    fit_kwargs = {'A': 0, 'f': drive_freq, 'phi': phi_tmp2+phase_diff, 'sigma': 1100,\n",
    "                  'error_A': 0.1, 'error_f': 1, 'error_phi': 0.5, 'errordef': 1, 'error_sigma':50,\n",
    "                  'limit_A': [-100000, 100000], 'limit_sigma':[100,30000], 'fix_phi': True, 'fix_f': True,\n",
    "                  'print_level': 0}\n",
    "\n",
    "    xx2 = signal.filtfilt(b, a, bb.pos_data[1])[::decimate]\n",
    "    m1_tmp = ll.find_mle_sin(xx2, fsamp=5000/decimate, noise_rms=1, plot=False, suppress_print=True, **fit_kwargs)\n",
    "    \n",
    "    drive_freq = drive_freq*2\n",
    "    fit_kwargs = {'A': 0, 'f': drive_freq, 'phi': phi_tmp2+np.pi/2+phase_diff, \n",
    "                  'error_A': 1, 'error_f': 1, 'error_phi': 0.5, 'errordef': 1,\n",
    "                  'limit_A': [-100000, 100000], 'fix_f': True, 'fix_phi': True,\n",
    "                  'print_level': 0}\n",
    "\n",
    "        \n",
    "    b, a = signal.butter(3, [2.*(drive_freq-bandwidth/2.)/fsamp, 2.*(drive_freq+bandwidth/2.)/fsamp ], btype = 'bandpass')\n",
    "    xx2 = signal.filtfilt(b, a, bb.pos_data[1])[::decimate]\n",
    "    m2_tmp = ll.find_mle_sin(xx2, fsamp=5000/decimate, noise_rms=1, plot=False, suppress_print=True, **fit_kwargs)\n",
    "\n",
    "    #     print(m1_tmp.values)\n",
    "    return m1_tmp.values[0], m2_tmp.values[0], m1_tmp.values[3], m1_tmp.fval"
   ]
  },
  {
   "cell_type": "code",
   "execution_count": 285,
   "metadata": {},
   "outputs": [],
   "source": [
    "ll = likelihood_analyser.LikelihoodAnalyser()\n",
    "bandwidth = 2\n",
    "decimate = 10\n",
    "def get_ampZ(i):\n",
    "    \n",
    "    fname = r'/data/old_trap/20211001/bead1/neutrality5/Z_150Vpp_alternate_139Hz_spin_XZ_93kHz_delay_6sec_no_height_fb_long/turbombar_powfb_xyzcool_'+str(i)+'.h5'\n",
    "#     fname = r'/data/old_trap/20211001/bead1/single_elect/rode_20211013/Z_minus_139Hz_50Vpp/Z_50Vpp_'+str(i)+'.h5'\n",
    "\n",
    "    drive_freq = 139\n",
    "    bb = bu.DataFile();\n",
    "    bb.load(fname);\n",
    "    bb.load_other_data()\n",
    "\n",
    "    ## define bandpass\n",
    "    b, a = signal.butter(3, [2.*(drive_freq-bandwidth/2.)/fsamp, 2.*(drive_freq+bandwidth/2.)/fsamp ], btype = 'bandpass')\n",
    "    \n",
    "    jj = i%2\n",
    "    jj=1\n",
    "    freq2 = np.fft.rfftfreq(len(bb.other_data[1+jj]), d=1./5000)\n",
    "    fft_angles = np.angle(np.fft.rfft(bb.other_data[1+jj]))\n",
    "    phi_tmp2 = (fft_angles[freq2==drive_freq]+np.pi/2)%(2*np.pi)\n",
    "\n",
    "#         fit_kwargs = {'A': 0.23, 'f': drive_freq, 'phi': 0, \n",
    "#                   'error_A': 1, 'error_f': 10, 'error_phi': 0.5, 'errordef': 1,\n",
    "#                   'limit_A': [0, 1], 'fix_f': True, 'fix_phi': False,\n",
    "#                   'print_level': 0}\n",
    "\n",
    "#     xx2 = signal.filtfilt(b, a, bb.other_data[5+jj])[::decimate]    \n",
    "#     m1_tmp = ll.find_mle_sin(xx2, fsamp=5000/decimate, noise_rms=1, plot=False, suppress_print=True, **fit_kwargs)\n",
    "#     phi_tmp = m1_tmp.values[2]\n",
    "\n",
    "#     print(phi_tmp, phi_tmp2, m1_tmp.values[0]*100, np.std(xx2)*np.sqrt(2)*100)\n",
    "    \n",
    "    if jj==0:\n",
    "        phase_diff = 4.8\n",
    "    else:\n",
    "        phase_diff = 4.8\n",
    "            \n",
    "    fit_kwargs = {'A': 0, 'f': drive_freq, 'phi': phi_tmp2+phase_diff, 'sigma': 1100,\n",
    "                  'error_A': 0.1, 'error_f': 1, 'error_phi': 0.5, 'errordef': 1, 'error_sigma':50,\n",
    "                  'limit_A': [-100000, 100000], 'limit_sigma':[100,3000000], 'fix_phi': True, 'fix_f': True,\n",
    "                  'print_level': 0}\n",
    "\n",
    "    xx2 = signal.filtfilt(b, a, bb.pos_data[2])[::decimate]\n",
    "    m1_tmp = ll.find_mle_sin(xx2, fsamp=5000/decimate, noise_rms=1, plot=False, suppress_print=True, **fit_kwargs)\n",
    "    \n",
    "    drive_freq = drive_freq*2\n",
    "    fit_kwargs = {'A': 0, 'f': drive_freq, 'phi': phi_tmp2+phase_diff+np.pi/2, \n",
    "                  'error_A': 1, 'error_f': 1, 'error_phi': 0.5, 'errordef': 1,\n",
    "                  'limit_A': [-1000000, 1000000], 'fix_f': True, 'fix_phi': True,\n",
    "                  'print_level': 0}\n",
    "\n",
    "        \n",
    "    b, a = signal.butter(3, [2.*(drive_freq-bandwidth/2.)/fsamp, 2.*(drive_freq+bandwidth/2.)/fsamp ], btype = 'bandpass')\n",
    "    xx2 = signal.filtfilt(b, a, bb.pos_data[2])[::decimate]\n",
    "    m2_tmp = ll.find_mle_sin(xx2, fsamp=5000/decimate, noise_rms=1, plot=False, suppress_print=True, **fit_kwargs)\n",
    "\n",
    "    return m1_tmp.values[0], m2_tmp.values[0], m1_tmp.values[3], m1_tmp.fval"
   ]
  },
  {
   "cell_type": "code",
   "execution_count": 286,
   "metadata": {},
   "outputs": [
    {
     "data": {
      "text/plain": [
       "1.4438342903304147"
      ]
     },
     "execution_count": 286,
     "metadata": {},
     "output_type": "execute_result"
    }
   ],
   "source": [
    "i=0\n",
    "get_ampZ(i)[0]"
   ]
  },
  {
   "cell_type": "code",
   "execution_count": 88,
   "metadata": {},
   "outputs": [
    {
     "name": "stdout",
     "output_type": "stream",
     "text": [
      "voltage:  24.0265126779 -0.57213946746 -0.57875944152\n",
      "voltage:  190.952315144 0.672970840708\n"
     ]
    }
   ],
   "source": [
    "i = 0\n",
    "fname = r'/data/old_trap/20211001/bead1/neutrality6/Z_150Vpp_alternate_139Hz_spin_XY_93kHz_200Vpp_delay_3sec_with_height_fb/Z_200Vpp_'+str(i)+'.h5'\n",
    "bb = bu.DataFile();\n",
    "bb.load(fname);\n",
    "bb.load_other_data()\n",
    "print(\"voltage: \", voltage, np.mean(bb.other_data[1])*100, np.mean(bb.other_data[2])*100)\n",
    "drive_freq = 139\n",
    "bandwidth=2\n",
    "b, a = signal.butter(3, [2.*(drive_freq-bandwidth/2.)/fsamp, 2.*(drive_freq+bandwidth/2.)/fsamp ], btype = 'bandpass')\n",
    "xx2 = signal.filtfilt(b, a, bb.other_data[1])\n",
    "voltage_200_1 = np.std(xx2)*np.sqrt(2)*100\n",
    "xx3 = signal.filtfilt(b, a, bb.other_data[2])\n",
    "voltage_200_2 = np.std(xx3)*np.sqrt(2)*100\n",
    "print(\"voltage: \", voltage_200_1, voltage_200_2)"
   ]
  },
  {
   "cell_type": "code",
   "execution_count": 59,
   "metadata": {},
   "outputs": [
    {
     "data": {
      "text/plain": [
       "(24.026512677896338, 143.17712232598214)"
      ]
     },
     "execution_count": 59,
     "metadata": {},
     "output_type": "execute_result"
    }
   ],
   "source": [
    "voltage, voltage_150_1"
   ]
  },
  {
   "cell_type": "code",
   "execution_count": 60,
   "metadata": {},
   "outputs": [],
   "source": [
    "def get_amp_wraper(i):\n",
    "    try:\n",
    "        return get_amp(i)\n",
    "    except:\n",
    "        return 0,0,0,0\n",
    "    \n",
    "def get_amp_wraperZ(i):\n",
    "    try:\n",
    "        return get_ampZ(i)\n",
    "    except:\n",
    "        return 0,0,0,0"
   ]
  },
  {
   "cell_type": "code",
   "execution_count": 287,
   "metadata": {
    "scrolled": true
   },
   "outputs": [
    {
     "name": "stderr",
     "output_type": "stream",
     "text": [
      "100%|██████████| 1400/1400 [00:26<00:00, 61.58it/s]\n"
     ]
    }
   ],
   "source": [
    "amps_spin_xz_93kHz_z_alternate_150Vpp = np.array(Parallel(n_jobs=40)(delayed(get_amp_wraperZ)(i) for i in tqdm(range((1400)))))"
   ]
  },
  {
   "cell_type": "code",
   "execution_count": 242,
   "metadata": {},
   "outputs": [
    {
     "data": {
      "application/vnd.jupyter.widget-view+json": {
       "model_id": "a11c925c94f344c09ffcdf9da4752c2b",
       "version_major": 2,
       "version_minor": 0
      },
      "text/plain": [
       "Canvas(toolbar=Toolbar(toolitems=[('Home', 'Reset original view', 'home', 'home'), ('Back', 'Back to previous …"
      ]
     },
     "metadata": {},
     "output_type": "display_data"
    },
    {
     "data": {
      "text/plain": [
       "<matplotlib.collections.PathCollection at 0x7f90c3a5ea58>"
      ]
     },
     "execution_count": 242,
     "metadata": {},
     "output_type": "execute_result"
    }
   ],
   "source": [
    "i=0; j=2\n",
    "_,ax = plt.subplots()\n",
    "dat = amps_spin_93kHz_y_200Vpp_alternate_no[::2]\n",
    "# dat1 = amps_with_fb_spin_xz_100Vpp_77kHz_y_minus_175Vpp_alternate_no_delay[1::2]/scaleZ*voltage/voltage_150_1\n",
    "ax.scatter((dat[:,i]), (dat[:,j]))\n",
    "# ax.scatter(dat[:,i], np.abs(dat[:,1]))"
   ]
  },
  {
   "cell_type": "code",
   "execution_count": 256,
   "metadata": {},
   "outputs": [
    {
     "data": {
      "text/plain": [
       "[692]"
      ]
     },
     "execution_count": 256,
     "metadata": {},
     "output_type": "execute_result"
    }
   ],
   "source": [
    "[i for i,bb in enumerate(amps_spin_93kHz_y_200Vpp_alternate_no) if bb[2]>20000]\n",
    "# len(amps_spin_93kHz_y_200Vpp_alternate_no_tmp)"
   ]
  },
  {
   "cell_type": "code",
   "execution_count": 257,
   "metadata": {},
   "outputs": [],
   "source": [
    "amps_spin_93kHz_y_200Vpp_alternate_no_2 = list(amps_spin_93kHz_y_200Vpp_alternate_no)"
   ]
  },
  {
   "cell_type": "code",
   "execution_count": 259,
   "metadata": {},
   "outputs": [
    {
     "data": {
      "text/plain": [
       "array([   -8.91259168,    89.5805347 ,  1331.65569017,    15.38929276])"
      ]
     },
     "execution_count": 259,
     "metadata": {},
     "output_type": "execute_result"
    }
   ],
   "source": [
    "amps_spin_93kHz_y_200Vpp_alternate_no_2.pop(692)"
   ]
  },
  {
   "cell_type": "code",
   "execution_count": 260,
   "metadata": {},
   "outputs": [
    {
     "data": {
      "text/plain": [
       "1998"
      ]
     },
     "execution_count": 260,
     "metadata": {},
     "output_type": "execute_result"
    }
   ],
   "source": [
    "len(amps_spin_93kHz_y_200Vpp_alternate_no_2)"
   ]
  },
  {
   "cell_type": "code",
   "execution_count": 291,
   "metadata": {},
   "outputs": [
    {
     "data": {
      "text/plain": [
       "(143.17712232598214, 190.95231514383175)"
      ]
     },
     "execution_count": 291,
     "metadata": {},
     "output_type": "execute_result"
    }
   ],
   "source": [
    "voltage_150_1, voltage_200_1"
   ]
  },
  {
   "cell_type": "code",
   "execution_count": 302,
   "metadata": {},
   "outputs": [],
   "source": [
    "amps_all = list(amps_spin_93kHz_y_200Vpp_alternate_no_2)\n",
    "# amps_all += list(amps_spin_93kHz_y_150Vpp_alternate_no)\n",
    "# amps_all = list(amps_with_fb_spin_xy_150Vpp_103kHz_z_200Vpp_alternate_no_delay_redo3)\n",
    "# amps_all += list(amps_with_fb_spin_xy_150Vpp_103kHz_z_200Vpp_alternate_no_delay_redo4)\n",
    "amps_all = np.array(amps_all)"
   ]
  },
  {
   "cell_type": "code",
   "execution_count": 299,
   "metadata": {},
   "outputs": [],
   "source": [
    "amps_all = np.array(amps_spin_xz_93kHz_z_alternate_150Vpp)"
   ]
  },
  {
   "cell_type": "code",
   "execution_count": 303,
   "metadata": {},
   "outputs": [],
   "source": [
    "etha = 1/scaleZ*327*1.6e-19*voltage\n",
    "to_epsilon = 1/(2*327*1.6e-19*voltage_200_1*(418)/(418+627))"
   ]
  },
  {
   "cell_type": "code",
   "execution_count": 304,
   "metadata": {},
   "outputs": [
    {
     "data": {
      "application/vnd.jupyter.widget-view+json": {
       "model_id": "565118fdc2004816bd1af9a6296f5ec4",
       "version_major": 2,
       "version_minor": 0
      },
      "text/plain": [
       "Canvas(toolbar=Toolbar(toolitems=[('Home', 'Reset original view', 'home', 'home'), ('Back', 'Back to previous …"
      ]
     },
     "metadata": {},
     "output_type": "display_data"
    },
    {
     "name": "stdout",
     "output_type": "stream",
     "text": [
      "1st harmonic, electrode 1: mean, std:  -0.00605713534169 2.60334823239e-18\n",
      "1st harmonic, electrode 2: mean, std:  -0.00786211629238 3.37075492191e-18\n",
      "1st harmonic, A parameter: mean, std:  -0.000868138588718 0.000197903041369\n",
      "\n",
      "2nd harmonic, electrode 1: mean, std:  0.0331719057307 4.21988102675e-18\n",
      "2nd harmonic, electrode 2: mean, std:  0.0676557128048 8.59182565274e-18\n",
      "2nd harmonic, B parameter: mean, std:  0.0626427342285 0.000725855188309\n"
     ]
    }
   ],
   "source": [
    "j = 0\n",
    "data = amps_all[::2,j]*etha\n",
    "data2 = amps_all[1::2,j]*etha\n",
    "data3 = data-0.66*data2\n",
    "\n",
    "data_1 = np.abs(amps_all[::2,1])*etha\n",
    "data2_1 = np.abs(amps_all[1::2,1])*etha\n",
    "data3_1 = data_1+0.66*0.66*data2_1\n",
    "\n",
    "_, ax= plt.subplots(figsize=(9.5,4))\n",
    "ax.scatter(range(len(data)), data, label='200Vpp-z-plus, xz-spin-50Vpp-93kHz')\n",
    "ax.scatter(range(len(data2)), data2, label='200Vpp-z-minus, xz-spin-50Vpp-93kHz', alpha=0.6)\n",
    "# ax.scatter(range(len(data3)), data3, label='200Vpp-z, A parameter', alpha=0.6)\n",
    "\n",
    "# ax.scatter(range(len(data4)), data4, label='20V-x, xy-spin-30V, w/o height fb')\n",
    "ax.plot(np.arange(0,1000), np.arange(0,1000)*0, '--k')\n",
    "ax.set(xlabel='Dataset', ylabel=r'$Force [N]$')\n",
    "ax.legend()\n",
    "print('1st harmonic, electrode 1: mean, std: ', np.mean(data)*to_epsilon, np.std(data)/np.sqrt(len(data)))\n",
    "print('1st harmonic, electrode 2: mean, std: ', np.mean(data2)*to_epsilon, np.std(data2)/np.sqrt(len(data2)))\n",
    "print('1st harmonic, A parameter: mean, std: ', np.mean(data3)*to_epsilon, np.std(data3)*to_epsilon/np.sqrt(len(data3)))\n",
    "print()\n",
    "print('2nd harmonic, electrode 1: mean, std: ', np.mean(data_1)*to_epsilon, np.std(data_1)/np.sqrt(len(data_1)))\n",
    "print('2nd harmonic, electrode 2: mean, std: ', np.mean(data2_1)*to_epsilon, np.std(data2_1)/np.sqrt(len(data2_1)))\n",
    "print('2nd harmonic, B parameter: mean, std: ', np.mean(data3_1)*to_epsilon, np.std(data3_1)*to_epsilon/np.sqrt(len(data3_1)))"
   ]
  },
  {
   "cell_type": "code",
   "execution_count": 310,
   "metadata": {},
   "outputs": [
    {
     "data": {
      "text/plain": [
       "(66.02658788774002, 72.09302325581396, -5.696774193548397e-05)"
      ]
     },
     "execution_count": 310,
     "metadata": {},
     "output_type": "execute_result"
    }
   ],
   "source": [
    "0.0447/0.000677, 0.062/0.00086, 0.00086*0.0447/0.062-0.000677"
   ]
  },
  {
   "cell_type": "code",
   "execution_count": 147,
   "metadata": {},
   "outputs": [
    {
     "data": {
      "application/vnd.jupyter.widget-view+json": {
       "model_id": "f71dd7cd29f14469bb3934d7d98a6511",
       "version_major": 2,
       "version_minor": 0
      },
      "text/plain": [
       "Canvas(toolbar=Toolbar(toolitems=[('Home', 'Reset original view', 'home', 'home'), ('Back', 'Back to previous …"
      ]
     },
     "metadata": {},
     "output_type": "display_data"
    },
    {
     "data": {
      "text/plain": [
       "<matplotlib.legend.Legend at 0x7f906849c208>"
      ]
     },
     "execution_count": 147,
     "metadata": {},
     "output_type": "execute_result"
    }
   ],
   "source": [
    "from scipy.optimize import curve_fit\n",
    "from scipy import asarray as ar,exp\n",
    "\n",
    "n_bins = 21\n",
    "range_pram = 0.03\n",
    "_,ax = plt.subplots()\n",
    "entries, bins, patches = ax.hist(data3*to_epsilon, bins=n_bins, range=(-range_pram, range_pram), label='125Vpp+150Vpp, 93kHz')\n",
    "# entries3, bins, patches = ax.hist(data3, bins=n_bins, range=(-range_pram, range_pram), label='150Vpp, 77kHz', alpha=0.6)\n",
    "ax.set(xlabel=r'$\\epsilon$')\n",
    "ax.legend()"
   ]
  },
  {
   "cell_type": "code",
   "execution_count": 148,
   "metadata": {},
   "outputs": [
    {
     "name": "stdout",
     "output_type": "stream",
     "text": [
      "mean:  -0.000781728483835  ,std (on the mean):  0.000201906749607  ,sigma:  -0.000205393744226\n",
      "\n",
      "Neutrality:  -6.20419431615e-18\n"
     ]
    },
    {
     "name": "stderr",
     "output_type": "stream",
     "text": [
      "/home/analysis_user/.local/lib/python3.6/site-packages/ipykernel_launcher.py:22: RuntimeWarning: invalid value encountered in sqrt\n"
     ]
    }
   ],
   "source": [
    "## gaussian fit to the histogram\n",
    "\n",
    "bins_fit =[(bins[i+1]-bins[i])/2+bins[i] for i in range(len(entries))]\n",
    "\n",
    "titles = ['', '', '']\n",
    "\n",
    "for i,ee in enumerate([entries]):\n",
    "    x = bins_fit\n",
    "    y= np.array(ee)\n",
    "    sigma_bin = np.sqrt(ee)\n",
    "    \n",
    "    n = len(x)                          #the number of data\n",
    "    mean = 0                  #note this correction\n",
    "    sigma = 0.023       #note this correction\n",
    "\n",
    "    def gaus(x,a,x0,sigma):\n",
    "        return a*np.exp(-(x-x0)**2/(2*sigma**2))\n",
    "\n",
    "    popt,pcov = curve_fit(gaus,x,y,p0=[1,mean,sigma])\n",
    "    ax.plot(x,gaus(x,*popt),'ro:',label='fit')\n",
    "\n",
    "    print(\"mean: \", popt[1], \" ,std (on the mean): \", np.sqrt(pcov)[1,1], \" ,sigma: \", popt[2]/np.sqrt(len(data3)))\n",
    "    print('\\nNeutrality: ', 1/1.26e14*popt[1])"
   ]
  },
  {
   "cell_type": "markdown",
   "metadata": {},
   "source": [
    "### Data Analysis"
   ]
  },
  {
   "cell_type": "code",
   "execution_count": 323,
   "metadata": {},
   "outputs": [],
   "source": [
    "etha = 1/scaleZ*327*1.6e-19*voltage\n",
    "to_epsilon = 1/(2*327*1.6e-19*voltage_200_1*(418)/(418+627))"
   ]
  },
  {
   "cell_type": "code",
   "execution_count": 338,
   "metadata": {},
   "outputs": [],
   "source": [
    "data_current = np.array(amps_spin_93kHz_y_200Vpp_alternate_no_2)\n",
    "z_top = data_current[::2,0]*etha\n",
    "z_bottom = data_current[1::2,0]*etha"
   ]
  },
  {
   "cell_type": "code",
   "execution_count": 325,
   "metadata": {},
   "outputs": [
    {
     "data": {
      "text/plain": [
       "(1998, 10, 99)"
      ]
     },
     "execution_count": 325,
     "metadata": {},
     "output_type": "execute_result"
    }
   ],
   "source": [
    "len(data_current), bin_size, bins"
   ]
  },
  {
   "cell_type": "code",
   "execution_count": 370,
   "metadata": {},
   "outputs": [],
   "source": [
    "z_top_means = []\n",
    "z_bottom_mean = []\n",
    "z_top_std = []\n",
    "z_bottom_std = []\n",
    "\n",
    "bin_size = 10\n",
    "bins = len(z_top)//bin_size\n",
    "for i in range(bins):\n",
    "    z_top_means.append(np.mean(z_top[i*bin_size:(i+1)*bin_size]))\n",
    "    z_bottom_mean.append(np.mean(z_bottom[i*bin_size:(i+1)*bin_size]))\n",
    "    z_top_std.append(np.std(z_top[i*bin_size:(i+1)*bin_size]))\n",
    "    z_bottom_std.append(np.std(z_bottom[i*bin_size:(i+1)*bin_size]))\n",
    "z_top_means = np.array(z_top_means)\n",
    "z_top_std = np.array(z_top_std)\n",
    "z_bottom_mean = np.array(z_bottom_mean)\n",
    "z_bottom_std = np.array(z_bottom_std)"
   ]
  },
  {
   "cell_type": "code",
   "execution_count": 371,
   "metadata": {},
   "outputs": [
    {
     "data": {
      "application/vnd.jupyter.widget-view+json": {
       "model_id": "fbd83cc3eeeb405485c11498fb66c6f9",
       "version_major": 2,
       "version_minor": 0
      },
      "text/plain": [
       "Canvas(toolbar=Toolbar(toolitems=[('Home', 'Reset original view', 'home', 'home'), ('Back', 'Back to previous …"
      ]
     },
     "metadata": {},
     "output_type": "display_data"
    },
    {
     "data": {
      "text/plain": [
       "<ErrorbarContainer object of 3 artists>"
      ]
     },
     "execution_count": 371,
     "metadata": {},
     "output_type": "execute_result"
    }
   ],
   "source": [
    "_,ax = plt.subplots(figsize=(9.4,4))\n",
    "iteration = np.arange(len(z_top_means)) \n",
    "ax.plot(iteration, iteration*0, 'r--')\n",
    "ax.errorbar(iteration, z_top_means, yerr=z_top_std/np.sqrt(10), fmt='o')\n",
    "ax.errorbar(iteration, z_bottom_mean*0.66, yerr=z_bottom_std/np.sqrt(10), fmt='o')"
   ]
  },
  {
   "cell_type": "code",
   "execution_count": 376,
   "metadata": {},
   "outputs": [
    {
     "data": {
      "application/vnd.jupyter.widget-view+json": {
       "model_id": "6d6a145e76f6449b9382c782a039d24f",
       "version_major": 2,
       "version_minor": 0
      },
      "text/plain": [
       "Canvas(toolbar=Toolbar(toolitems=[('Home', 'Reset original view', 'home', 'home'), ('Back', 'Back to previous …"
      ]
     },
     "metadata": {},
     "output_type": "display_data"
    },
    {
     "data": {
      "text/plain": [
       "[Text(0.5, 0, 'Measuring time [s]'), Text(0, 0.5, 'Measured force [N]')]"
      ]
     },
     "execution_count": 376,
     "metadata": {},
     "output_type": "execute_result"
    }
   ],
   "source": [
    "_,ax = plt.subplots(figsize=(9.4,4))\n",
    "iteration = np.arange(len(z_top_means))*10*bin_size\n",
    "ax.plot(iteration, iteration*0, 'r--')\n",
    "top_err = z_top_std/np.sqrt(10)\n",
    "bottom_err = z_bottom_std/np.sqrt(10)\n",
    "A = z_top_means-z_bottom_mean*0.66\n",
    "A_err = np.sqrt(top_err**2+top_err**2*0.66*0.66)\n",
    "ax.errorbar(iteration, z_top_means, yerr=top_err, fmt='o', label='top electrode')\n",
    "ax.errorbar(iteration, z_bottom_mean*0.66, yerr=bottom_err, fmt='o', label='bottom electrode')\n",
    "ax.errorbar(iteration, A, yerr=A_err, fmt='o', label='A parameter')\n",
    "ax.legend()\n",
    "ax.set(xlabel='Measuring time [s]', ylabel='Measured force [N]')\n",
    "# ax.errorbar(iteration, (z_top_means-z_bottom_mean*0.66)*to_epsilon, yerr=z_bottom_std/np.sqrt(10)*to_epsilon, fmt='o')"
   ]
  },
  {
   "cell_type": "code",
   "execution_count": 377,
   "metadata": {},
   "outputs": [],
   "source": [
    "A_epsion = A*to_epsilon\n",
    "A_err_epsilon = A_err*to_epsilon\n",
    "def calculate_pl(force_):\n",
    "    chi2 = np.power((A_epsion-force_)/A_err_epsilon, 2)\n",
    "    return np.sum(chi2)"
   ]
  },
  {
   "cell_type": "code",
   "execution_count": 378,
   "metadata": {},
   "outputs": [
    {
     "data": {
      "application/vnd.jupyter.widget-view+json": {
       "model_id": "031df203bbab481d802b37c93da2c601",
       "version_major": 2,
       "version_minor": 0
      },
      "text/plain": [
       "Canvas(toolbar=Toolbar(toolitems=[('Home', 'Reset original view', 'home', 'home'), ('Back', 'Back to previous …"
      ]
     },
     "metadata": {},
     "output_type": "display_data"
    },
    {
     "data": {
      "text/plain": [
       "<matplotlib.collections.PathCollection at 0x7f8fea4745c0>"
      ]
     },
     "execution_count": 378,
     "metadata": {},
     "output_type": "execute_result"
    }
   ],
   "source": [
    "_,ax = plt.subplots()\n",
    "pl_range = np.arange(-1e-3,1e-3,1e-4)\n",
    "pl = np.array([calculate_pl(pl_range_) for pl_range_ in pl_range])\n",
    "ax.scatter(pl_range*1000, pl)"
   ]
  },
  {
   "cell_type": "code",
   "execution_count": 329,
   "metadata": {},
   "outputs": [
    {
     "data": {
      "application/vnd.jupyter.widget-view+json": {
       "model_id": "c55c735cddde4971a20a10b3cc297a38",
       "version_major": 2,
       "version_minor": 0
      },
      "text/plain": [
       "Canvas(toolbar=Toolbar(toolitems=[('Home', 'Reset original view', 'home', 'home'), ('Back', 'Back to previous …"
      ]
     },
     "metadata": {},
     "output_type": "display_data"
    },
    {
     "data": {
      "text/plain": [
       "[Text(0.5, 0, 'Force Top electroe [N]'),\n",
       " Text(0, 0.5, 'Force Bottom electroe [N]')]"
      ]
     },
     "execution_count": 329,
     "metadata": {},
     "output_type": "execute_result"
    }
   ],
   "source": [
    "_,ax = plt.subplots()\n",
    "ax.scatter(z_top_means, z_bottom_mean)\n",
    "ax.set(xlabel='Force Top electroe [N]', ylabel='Force Bottom electroe [N]')"
   ]
  },
  {
   "cell_type": "code",
   "execution_count": null,
   "metadata": {},
   "outputs": [],
   "source": []
  },
  {
   "cell_type": "code",
   "execution_count": null,
   "metadata": {},
   "outputs": [],
   "source": []
  },
  {
   "cell_type": "code",
   "execution_count": null,
   "metadata": {},
   "outputs": [],
   "source": []
  }
 ],
 "metadata": {
  "kernelspec": {
   "display_name": "Python 3",
   "language": "python",
   "name": "python3"
  },
  "language_info": {
   "codemirror_mode": {
    "name": "ipython",
    "version": 3
   },
   "file_extension": ".py",
   "mimetype": "text/x-python",
   "name": "python",
   "nbconvert_exporter": "python",
   "pygments_lexer": "ipython3",
   "version": "3.6.9"
  }
 },
 "nbformat": 4,
 "nbformat_minor": 4
}
