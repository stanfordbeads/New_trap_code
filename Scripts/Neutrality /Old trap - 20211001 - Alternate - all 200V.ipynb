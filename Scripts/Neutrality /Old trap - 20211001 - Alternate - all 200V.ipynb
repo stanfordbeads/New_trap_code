{
 "cells": [
  {
   "cell_type": "code",
   "execution_count": 28,
   "metadata": {},
   "outputs": [],
   "source": [
    "import numpy as np\n",
    "import matplotlib.pyplot as plt\n",
    "import matplotlib\n",
    "from scipy import signal\n",
    "from scipy.optimize import minimize\n",
    "\n",
    "import random\n",
    "\n",
    "import h5py\n",
    "from IPython.utils import io\n",
    "\n",
    "from joblib import Parallel, delayed\n",
    "from tqdm import tqdm\n",
    "import sys"
   ]
  },
  {
   "cell_type": "code",
   "execution_count": 29,
   "metadata": {},
   "outputs": [],
   "source": [
    "%matplotlib widget\n",
    "\n",
    "%reload_ext autoreload\n",
    "%autoreload 2"
   ]
  },
  {
   "cell_type": "code",
   "execution_count": 30,
   "metadata": {},
   "outputs": [],
   "source": [
    "sys.path.append('../../../../nadavp/new_trap/Tools/')\n",
    "sys.path.append('../../../../nadavp/new_trap/Tools/StatFramework/')\n",
    "sys.path.append('../../../../nadavp/opt_lev_analysis/lib/')\n",
    "import BeadDataFile\n",
    "from discharge_tools import *"
   ]
  },
  {
   "cell_type": "code",
   "execution_count": 31,
   "metadata": {},
   "outputs": [],
   "source": [
    "from likelihood_calculator import likelihood_analyser\n",
    "from likelihood_calculator import GravityFramework\n",
    "from likelihood_calculator import auxiliary_functions as aux\n",
    "gfw = GravityFramework.GravityFramework()"
   ]
  },
  {
   "cell_type": "code",
   "execution_count": 32,
   "metadata": {},
   "outputs": [],
   "source": [
    "import bead_util as bu\n",
    "# import calib_util as cal\n",
    "import transfer_func_util as tf\n",
    "import configuration as config"
   ]
  },
  {
   "cell_type": "markdown",
   "metadata": {},
   "source": [
    "### Discharge data"
   ]
  },
  {
   "cell_type": "code",
   "execution_count": 33,
   "metadata": {},
   "outputs": [],
   "source": [
    "step_cal_dir = r'/data/old_trap/20211001/bead1/discharge/recharge_20211013/'\n",
    "max_file = 1"
   ]
  },
  {
   "cell_type": "code",
   "execution_count": 34,
   "metadata": {},
   "outputs": [
    {
     "name": "stdout",
     "output_type": "stream",
     "text": [
      "175\n"
     ]
    }
   ],
   "source": [
    "step_cal_files = []\n",
    "for root, dirnames, filenames in os.walk(step_cal_dir):\n",
    "    for filename in fnmatch.filter(filenames, '*' + config.extensions['data']):\n",
    "        if '_fpga.h5' in filename:\n",
    "            continue\n",
    "        step_cal_files.append(os.path.join(root, filename))\n",
    "step_cal_files.sort(key = bu.find_str)\n",
    "num_calib_files = len(step_cal_files)\n",
    "print(num_calib_files)\n",
    "\n",
    "# Do the step calibration\n",
    "\n",
    "step_file_objs = []\n",
    "for filname in step_cal_files[:]:\n",
    "    try:\n",
    "        df = bu.DataFile();\n",
    "        df.load(filname);\n",
    "        df.load_other_data()\n",
    "        step_file_objs.append(df);\n",
    "    except:\n",
    "        print('***')"
   ]
  },
  {
   "cell_type": "code",
   "execution_count": 35,
   "metadata": {},
   "outputs": [
    {
     "data": {
      "text/plain": [
       "(96.89396155735751, 97.9992158717, 128.33230649865476)"
      ]
     },
     "execution_count": 35,
     "metadata": {},
     "output_type": "execute_result"
    }
   ],
   "source": [
    "scaleY = 97.9992158717\n",
    "scaleZ = scaleY*(418+627)/(392+406)\n",
    "scaleX = scaleY*(421+368)/(392+406)\n",
    "scaleX, scaleY, scaleZ"
   ]
  },
  {
   "cell_type": "code",
   "execution_count": 36,
   "metadata": {},
   "outputs": [
    {
     "name": "stdout",
     "output_type": "stream",
     "text": [
      "Scales are  97.9992158717\n",
      "voltage:  24.0265126779\n"
     ]
    }
   ],
   "source": [
    "print(\"Scales are \", scaleY)\n",
    "bb = step_file_objs[-1]\n",
    "drive_freq = 139\n",
    "bandwidth=2\n",
    "fsamp = 5000\n",
    "b, a = signal.butter(3, [2.*(drive_freq-bandwidth/2.)/fsamp, 2.*(drive_freq+bandwidth/2.)/fsamp ], btype = 'bandpass')\n",
    "xx2 = signal.filtfilt(b, a, bb.other_data[5])\n",
    "voltage = np.std(xx2)*np.sqrt(2)*100\n",
    "print(\"voltage: \", voltage)"
   ]
  },
  {
   "cell_type": "code",
   "execution_count": 37,
   "metadata": {},
   "outputs": [
    {
     "name": "stdout",
     "output_type": "stream",
     "text": [
      "voltage:  24.0265126779 -0.592538948653 -0.574958113985\n",
      "voltage:  190.87201524 0.674330527298\n"
     ]
    }
   ],
   "source": [
    "i = 0\n",
    "fname = r'/data/old_trap/20211001/bead1/neutrality9/Z_200Vpp_alternate_139Hz_spin_XY_117kHz_175Vpp_delay_4sec_with_height_fb_redo5/Z_200Vpp_'+str(i)+'.h5'\n",
    "bb = bu.DataFile();\n",
    "bb.load(fname);\n",
    "bb.load_other_data()\n",
    "print(\"voltage: \", voltage, np.mean(bb.other_data[1])*100, np.mean(bb.other_data[2])*100)\n",
    "drive_freq = 139\n",
    "bandwidth=2\n",
    "b, a = signal.butter(3, [2.*(drive_freq-bandwidth/2.)/fsamp, 2.*(drive_freq+bandwidth/2.)/fsamp ], btype = 'bandpass')\n",
    "xx2 = signal.filtfilt(b, a, bb.other_data[1])\n",
    "voltage_200_1 = np.std(xx2)*np.sqrt(2)*100\n",
    "xx3 = signal.filtfilt(b, a, bb.other_data[2])\n",
    "voltage_200_2 = np.std(xx3)*np.sqrt(2)*100\n",
    "print(\"voltage: \", voltage_200_1, voltage_200_2)"
   ]
  },
  {
   "cell_type": "code",
   "execution_count": 38,
   "metadata": {},
   "outputs": [],
   "source": [
    "etha = 1/scaleZ*327*1.6e-19*voltage\n",
    "to_epsilon = 1/(2*327*1.6e-19*voltage_200_1*(418)/(418+627))"
   ]
  },
  {
   "cell_type": "markdown",
   "metadata": {},
   "source": [
    "### Look at neutrality data"
   ]
  },
  {
   "cell_type": "code",
   "execution_count": 39,
   "metadata": {},
   "outputs": [],
   "source": [
    "def get_amp_wraperZ(i, fname):\n",
    "    try:\n",
    "        return get_ampZ(i, fname)\n",
    "    except:\n",
    "        return 0,0,0,0"
   ]
  },
  {
   "cell_type": "code",
   "execution_count": 274,
   "metadata": {},
   "outputs": [],
   "source": [
    "ll = likelihood_analyser.LikelihoodAnalyser()\n",
    "bandwidth = 3\n",
    "decimate = 2\n",
    "def get_ampZ(i, foldername):\n",
    "    \n",
    "    fname = foldername+'Z_200Vpp_'+str(i)+'.h5'\n",
    "    drive_freq = 139\n",
    "    bb = bu.DataFile();\n",
    "    bb.load(fname);\n",
    "    bb.load_other_data()\n",
    "    \n",
    "    jj = i%2\n",
    "    freq2 = np.fft.rfftfreq(len(bb.other_data[1+jj]), d=1./5000)\n",
    "    fft_angles = np.angle(np.fft.rfft(bb.other_data[1+jj]))\n",
    "    phi_tmp2 = (fft_angles[freq2==drive_freq]+np.pi/2)%(2*np.pi)\n",
    "\n",
    "    phase_diff = 4.8        \n",
    "    fit_kwargs = {'A': 0, 'f': drive_freq, 'phi': phi_tmp2+phase_diff, \n",
    "                  'error_A': 1, 'error_f': 1, 'error_phi': 0.5, 'errordef': 1,\n",
    "                  'limit_A': [-100000, 100000], 'fix_f': True, 'fix_phi': True,\n",
    "                  'print_level': 0}\n",
    "    \n",
    "    fit_kwargs = {'A': 0, 'f': drive_freq, 'phi': phi_tmp2+phase_diff, 'sigma': 1100,\n",
    "                  'error_A': 0.1, 'error_f': 1, 'error_phi': 0.5, 'errordef': 1, 'error_sigma':50,\n",
    "                  'limit_A': [-100000, 100000], 'limit_sigma':[100,3000000], 'fix_phi': True, 'fix_f': True,\n",
    "                  'print_level': 0}\n",
    "\n",
    "    b, a = signal.butter(3, [2.*(drive_freq-bandwidth/2.)/fsamp, 2.*(drive_freq+bandwidth/2.)/fsamp ], btype = 'bandpass')\n",
    "    xx2 = signal.filtfilt(b, a, bb.pos_data[2])[::decimate]\n",
    "    m1_tmp = ll.find_mle_sin(xx2, fsamp=5000/decimate, noise_rms=1, plot=False, suppress_print=True, **fit_kwargs)\n",
    "    \n",
    "    phase_diff = 6   \n",
    "    drive_freq = drive_freq*2+1\n",
    "    \n",
    "    fit_kwargs = {'A': 0, 'f': drive_freq, 'phi': phi_tmp2+phase_diff, \n",
    "                  'error_A': 1, 'error_f': 1, 'error_phi': 0.5, 'errordef': 1,\n",
    "                  'limit_A': [-1000000, 1000000], 'fix_f': True, 'fix_phi': False,\n",
    "                  'print_level': 0}\n",
    "\n",
    "    fit_kwargs = {'A': 0, 'f': drive_freq, 'phi': phi_tmp2+phase_diff, 'sigma': 1100,\n",
    "                  'error_A': 0.1, 'error_f': 1, 'error_phi': 0.5, 'errordef': 1, 'error_sigma':50,\n",
    "                  'limit_A': [-100000, 100000], 'limit_sigma':[100,3000000], 'fix_phi': False, 'fix_f': True,\n",
    "                  'print_level': 0}\n",
    "    \n",
    "    b, a = signal.butter(3, [2.*(drive_freq-bandwidth/2.)/fsamp, 2.*(drive_freq+bandwidth/2.)/fsamp ], btype = 'bandpass')\n",
    "    xx2 = signal.filtfilt(b, a, bb.pos_data[2])[::decimate]\n",
    "    m2_tmp = ll.find_mle_sin(xx2, fsamp=5000/decimate, noise_rms=1, plot=False, suppress_print=True, **fit_kwargs)\n",
    "\n",
    "    return m1_tmp.values[0], m2_tmp.values[0], m1_tmp.values[3], (m2_tmp.values[2]-phi_tmp2)%(2*np.pi)"
   ]
  },
  {
   "cell_type": "code",
   "execution_count": 263,
   "metadata": {},
   "outputs": [
    {
     "data": {
      "text/plain": [
       "(-14.783051875900128,\n",
       " -43.10113857971737,\n",
       " 4389.2410302933185,\n",
       " array([ 0.66915054]))"
      ]
     },
     "execution_count": 263,
     "metadata": {},
     "output_type": "execute_result"
    }
   ],
   "source": [
    "fname = base_folder+r'neutrality6/Z_150Vpp_alternate_139Hz_spin_XY_93kHz_200Vpp_delay_3sec_with_height_fb/'\n",
    "get_ampZ(50, fname)"
   ]
  },
  {
   "cell_type": "code",
   "execution_count": 162,
   "metadata": {
    "scrolled": true
   },
   "outputs": [
    {
     "name": "stderr",
     "output_type": "stream",
     "text": [
      "100%|██████████| 2200/2200 [00:28<00:00, 191.23it/s]\n",
      "/home/analysis_user/.local/lib/python3.6/site-packages/ipykernel_launcher.py:1: VisibleDeprecationWarning: Creating an ndarray from ragged nested sequences (which is a list-or-tuple of lists-or-tuples-or ndarrays with different lengths or shapes) is deprecated. If you meant to do this, you must specify 'dtype=object' when creating the ndarray\n",
      "  \"\"\"Entry point for launching an IPython kernel.\n"
     ]
    }
   ],
   "source": [
    "amps_tmp = np.array(Parallel(n_jobs=40)(delayed(get_amp_wraperZ)(i, fname) for i in tqdm(range((2200)))))"
   ]
  },
  {
   "cell_type": "code",
   "execution_count": 275,
   "metadata": {},
   "outputs": [],
   "source": [
    "base_folder = r'/data/old_trap/20211001/bead1/'\n",
    "fnames = [base_folder+r'neutrality6/Z_150Vpp_alternate_139Hz_spin_XY_93kHz_200Vpp_delay_3sec_with_height_fb/',\n",
    "base_folder+r'neutrality6/Z_150Vpp_alternate_139Hz_spin_XY_103kHz_200Vpp_delay_3sec_with_height_fb/',\n",
    "base_folder+r'neutrality6/Z_150Vpp_alternate_139Hz_spin_XY_103kHz_200Vpp_delay_3sec_with_height_fb_redo/',\n",
    "# base_folder+r'neutrality5/Z_150Vpp_alternate_139Hz_spin_XY_103kHz_200Vpp_delay_3sec_with_height_fb_redo2/', ## crashed\n",
    "base_folder+r'neutrality6/Z_200Vpp_alternate_139Hz_spin_XY_103kHz_175Vpp_delay_3sec_with_height_fb_redo3/',\n",
    "base_folder+r'neutrality6/Z_200Vpp_alternate_139Hz_spin_XY_103kHz_175Vpp_delay_3sec_with_height_fb_redo4/',\n",
    "# base_folder+r'neutrality7/Z_200Vpp_alternate_139Hz_spin_XY_103kHz_175Vpp_delay_3sec_with_height_fb/' ## crashed\n",
    "         ]\n",
    "\n",
    "files = [2000, 2000, 2000, 1000, 1000]"
   ]
  },
  {
   "cell_type": "code",
   "execution_count": 276,
   "metadata": {
    "scrolled": true
   },
   "outputs": [
    {
     "name": "stderr",
     "output_type": "stream",
     "text": [
      "\n",
      "  0%|          | 0/2000 [00:00<?, ?it/s]\u001b[A\n",
      "  4%|▍         | 80/2000 [00:00<00:22, 86.77it/s]\u001b[A\n",
      "  6%|▌         | 120/2000 [00:01<00:29, 63.86it/s]\u001b[A\n",
      "  8%|▊         | 160/2000 [00:03<00:35, 52.07it/s]\u001b[A\n",
      " 10%|█         | 200/2000 [00:04<00:38, 46.54it/s]\u001b[A\n",
      " 12%|█▏        | 240/2000 [00:05<00:41, 42.52it/s]\u001b[A\n",
      " 14%|█▍        | 280/2000 [00:06<00:42, 40.36it/s]\u001b[A\n",
      " 16%|█▌        | 320/2000 [00:07<00:41, 40.37it/s]\u001b[A\n",
      " 18%|█▊        | 360/2000 [00:08<00:42, 38.52it/s]\u001b[A\n",
      " 20%|██        | 400/2000 [00:09<00:41, 38.15it/s]\u001b[A\n",
      " 22%|██▏       | 440/2000 [00:10<00:42, 36.35it/s]\u001b[A\n",
      " 24%|██▍       | 480/2000 [00:11<00:41, 36.98it/s]\u001b[A\n",
      " 26%|██▌       | 520/2000 [00:13<00:42, 34.81it/s]\u001b[A\n",
      " 28%|██▊       | 560/2000 [00:14<00:40, 35.84it/s]\u001b[A\n",
      " 30%|███       | 600/2000 [00:15<00:38, 36.60it/s]\u001b[A\n",
      " 32%|███▏      | 640/2000 [00:16<00:37, 36.70it/s]\u001b[A\n",
      " 34%|███▍      | 680/2000 [00:17<00:34, 37.85it/s]\u001b[A\n",
      " 36%|███▌      | 720/2000 [00:18<00:33, 37.88it/s]\u001b[A\n",
      " 38%|███▊      | 760/2000 [00:19<00:33, 36.89it/s]\u001b[A\n",
      " 40%|████      | 800/2000 [00:20<00:31, 38.43it/s]\u001b[A\n",
      " 42%|████▏     | 840/2000 [00:21<00:32, 36.09it/s]\u001b[A\n",
      " 44%|████▍     | 880/2000 [00:22<00:30, 36.53it/s]\u001b[A\n",
      " 46%|████▌     | 920/2000 [00:23<00:29, 36.99it/s]\u001b[A\n",
      " 48%|████▊     | 960/2000 [00:24<00:28, 36.71it/s]\u001b[A\n",
      " 50%|█████     | 1000/2000 [00:25<00:27, 36.96it/s]\u001b[A\n",
      " 52%|█████▏    | 1040/2000 [00:27<00:26, 35.87it/s]\u001b[A\n",
      " 54%|█████▍    | 1080/2000 [00:28<00:25, 35.61it/s]\u001b[A\n",
      " 56%|█████▌    | 1120/2000 [00:29<00:24, 36.07it/s]\u001b[A\n",
      " 58%|█████▊    | 1160/2000 [00:30<00:23, 35.64it/s]\u001b[A\n",
      " 60%|██████    | 1200/2000 [00:31<00:21, 36.48it/s]\u001b[A\n",
      " 62%|██████▏   | 1240/2000 [00:32<00:21, 36.01it/s]\u001b[A\n",
      " 64%|██████▍   | 1280/2000 [00:33<00:19, 36.30it/s]\u001b[A\n",
      " 66%|██████▌   | 1320/2000 [00:34<00:18, 36.20it/s]\u001b[A\n",
      " 68%|██████▊   | 1360/2000 [00:36<00:17, 36.18it/s]\u001b[A\n",
      " 70%|███████   | 1400/2000 [00:37<00:16, 37.08it/s]\u001b[A\n",
      " 72%|███████▏  | 1440/2000 [00:38<00:15, 37.27it/s]\u001b[A\n",
      " 74%|███████▍  | 1480/2000 [00:39<00:13, 37.25it/s]\u001b[A\n",
      " 76%|███████▌  | 1520/2000 [00:40<00:13, 35.43it/s]\u001b[A\n",
      " 78%|███████▊  | 1560/2000 [00:41<00:12, 34.44it/s]\u001b[A\n",
      " 80%|████████  | 1600/2000 [00:42<00:11, 35.47it/s]\u001b[A\n",
      " 82%|████████▏ | 1640/2000 [00:43<00:10, 35.49it/s]\u001b[A\n",
      " 84%|████████▍ | 1680/2000 [00:44<00:08, 35.69it/s]\u001b[A\n",
      " 86%|████████▌ | 1720/2000 [00:46<00:07, 35.33it/s]\u001b[A\n",
      " 88%|████████▊ | 1760/2000 [00:47<00:06, 35.13it/s]\u001b[A\n",
      " 90%|█████████ | 1800/2000 [00:48<00:05, 36.78it/s]\u001b[A\n",
      " 92%|█████████▏| 1840/2000 [00:49<00:04, 35.88it/s]\u001b[A\n",
      " 94%|█████████▍| 1880/2000 [00:50<00:03, 37.14it/s]\u001b[A\n",
      " 96%|█████████▌| 1920/2000 [00:51<00:02, 36.80it/s]\u001b[A\n",
      " 98%|█████████▊| 1960/2000 [00:52<00:01, 36.33it/s]\u001b[A\n",
      "100%|██████████| 2000/2000 [00:53<00:00, 37.37it/s]\u001b[A/home/analysis_user/.local/lib/python3.6/site-packages/ipykernel_launcher.py:3: VisibleDeprecationWarning: Creating an ndarray from ragged nested sequences (which is a list-or-tuple of lists-or-tuples-or ndarrays with different lengths or shapes) is deprecated. If you meant to do this, you must specify 'dtype=object' when creating the ndarray\n",
      "  This is separate from the ipykernel package so we can avoid doing imports until\n",
      "\n",
      "  0%|          | 0/2000 [00:00<?, ?it/s]\u001b[A\n",
      "  4%|▍         | 80/2000 [00:00<00:20, 92.25it/s]\u001b[A\n",
      "  6%|▌         | 120/2000 [00:01<00:27, 67.57it/s]\u001b[A\n",
      "  8%|▊         | 160/2000 [00:02<00:34, 52.96it/s]\u001b[A\n",
      " 10%|█         | 200/2000 [00:03<00:37, 47.83it/s]\u001b[A\n",
      " 12%|█▏        | 240/2000 [00:05<00:40, 43.34it/s]\u001b[A\n",
      " 14%|█▍        | 280/2000 [00:06<00:41, 41.78it/s]\u001b[A\n",
      " 16%|█▌        | 320/2000 [00:07<00:42, 39.23it/s]\u001b[A\n",
      " 18%|█▊        | 360/2000 [00:08<00:40, 40.75it/s]\u001b[A\n",
      " 20%|██        | 400/2000 [00:09<00:40, 39.87it/s]\u001b[A\n",
      " 22%|██▏       | 440/2000 [00:10<00:40, 38.39it/s]\u001b[A\n",
      " 24%|██▍       | 480/2000 [00:11<00:40, 37.85it/s]\u001b[A\n",
      " 26%|██▌       | 520/2000 [00:12<00:39, 37.90it/s]\u001b[A\n",
      " 28%|██▊       | 560/2000 [00:13<00:39, 36.68it/s]\u001b[A\n",
      " 30%|███       | 600/2000 [00:14<00:37, 36.85it/s]\u001b[A\n",
      " 32%|███▏      | 640/2000 [00:16<00:38, 35.36it/s]\u001b[A\n",
      " 34%|███▍      | 680/2000 [00:17<00:37, 35.43it/s]\u001b[A\n",
      " 36%|███▌      | 720/2000 [00:18<00:37, 34.45it/s]\u001b[A\n",
      " 38%|███▊      | 760/2000 [00:19<00:34, 36.15it/s]\u001b[A\n",
      " 40%|████      | 800/2000 [00:20<00:34, 34.98it/s]\u001b[A\n",
      " 42%|████▏     | 840/2000 [00:21<00:32, 36.01it/s]\u001b[A\n",
      " 44%|████▍     | 880/2000 [00:22<00:32, 34.88it/s]\u001b[A\n",
      " 46%|████▌     | 920/2000 [00:23<00:30, 35.09it/s]\u001b[A\n",
      " 48%|████▊     | 960/2000 [00:25<00:29, 35.40it/s]\u001b[A\n",
      " 50%|█████     | 1000/2000 [00:26<00:26, 37.21it/s]\u001b[A\n",
      " 52%|█████▏    | 1040/2000 [00:27<00:27, 35.52it/s]\u001b[A\n",
      " 54%|█████▍    | 1080/2000 [00:28<00:25, 35.58it/s]\u001b[A\n",
      " 56%|█████▌    | 1120/2000 [00:29<00:24, 35.73it/s]\u001b[A\n",
      " 58%|█████▊    | 1160/2000 [00:30<00:22, 37.77it/s]\u001b[A\n",
      " 60%|██████    | 1200/2000 [00:31<00:20, 38.25it/s]\u001b[A\n",
      " 62%|██████▏   | 1240/2000 [00:32<00:20, 36.71it/s]\u001b[A\n",
      " 64%|██████▍   | 1280/2000 [00:33<00:19, 36.52it/s]\u001b[A\n",
      " 66%|██████▌   | 1320/2000 [00:34<00:19, 35.70it/s]\u001b[A\n",
      " 68%|██████▊   | 1360/2000 [00:35<00:17, 36.61it/s]\u001b[A\n",
      " 70%|███████   | 1400/2000 [00:37<00:16, 36.52it/s]\u001b[A\n",
      " 72%|███████▏  | 1440/2000 [00:38<00:14, 37.70it/s]\u001b[A\n",
      " 74%|███████▍  | 1480/2000 [00:39<00:14, 35.94it/s]\u001b[A\n",
      " 76%|███████▌  | 1520/2000 [00:40<00:13, 35.94it/s]\u001b[A\n",
      " 78%|███████▊  | 1560/2000 [00:41<00:12, 35.21it/s]\u001b[A\n",
      " 80%|████████  | 1600/2000 [00:42<00:10, 37.33it/s]\u001b[A\n",
      " 82%|████████▏ | 1640/2000 [00:43<00:09, 36.65it/s]\u001b[A\n",
      " 84%|████████▍ | 1680/2000 [00:44<00:08, 35.81it/s]\u001b[A\n",
      " 86%|████████▌ | 1720/2000 [00:45<00:07, 35.65it/s]\u001b[A\n",
      " 88%|████████▊ | 1760/2000 [00:47<00:06, 35.49it/s]\u001b[A\n",
      " 90%|█████████ | 1800/2000 [00:48<00:05, 36.08it/s]\u001b[A\n",
      " 92%|█████████▏| 1840/2000 [00:49<00:04, 37.40it/s]\u001b[A\n",
      " 94%|█████████▍| 1880/2000 [00:50<00:03, 35.84it/s]\u001b[A\n",
      " 96%|█████████▌| 1920/2000 [00:51<00:02, 35.70it/s]\u001b[A\n",
      " 98%|█████████▊| 1960/2000 [00:52<00:01, 35.34it/s]\u001b[A\n",
      "100%|██████████| 2000/2000 [00:53<00:00, 35.88it/s]\u001b[A\n",
      "  0%|          | 0/2000 [00:00<?, ?it/s]\u001b[A\n",
      "  4%|▍         | 80/2000 [00:00<00:23, 83.10it/s]\u001b[A\n",
      "  6%|▌         | 120/2000 [00:01<00:27, 68.18it/s]\u001b[A\n",
      "  8%|▊         | 160/2000 [00:03<00:37, 48.44it/s]\u001b[A\n",
      " 10%|█         | 200/2000 [00:04<00:44, 40.89it/s]\u001b[A\n",
      " 12%|█▏        | 240/2000 [00:05<00:45, 38.71it/s]\u001b[A\n",
      " 14%|█▍        | 280/2000 [00:06<00:44, 39.08it/s]\u001b[A\n",
      " 16%|█▌        | 320/2000 [00:07<00:43, 38.68it/s]\u001b[A\n",
      " 18%|█▊        | 360/2000 [00:08<00:41, 39.07it/s]\u001b[A\n",
      " 20%|██        | 400/2000 [00:09<00:41, 38.38it/s]\u001b[A\n",
      " 22%|██▏       | 440/2000 [00:10<00:40, 38.35it/s]\u001b[A\n",
      " 24%|██▍       | 480/2000 [00:11<00:38, 39.84it/s]\u001b[A\n",
      " 26%|██▌       | 520/2000 [00:12<00:38, 38.71it/s]\u001b[A\n",
      " 28%|██▊       | 560/2000 [00:14<00:38, 37.53it/s]\u001b[A\n",
      " 30%|███       | 600/2000 [00:15<00:36, 37.98it/s]\u001b[A\n",
      " 32%|███▏      | 640/2000 [00:16<00:36, 37.03it/s]\u001b[A\n",
      " 34%|███▍      | 680/2000 [00:17<00:36, 36.64it/s]\u001b[A\n",
      " 36%|███▌      | 720/2000 [00:18<00:33, 38.48it/s]\u001b[A\n",
      " 38%|███▊      | 760/2000 [00:19<00:32, 38.29it/s]\u001b[A\n",
      " 40%|████      | 800/2000 [00:20<00:32, 36.77it/s]\u001b[A\n",
      " 42%|████▏     | 840/2000 [00:21<00:31, 37.05it/s]\u001b[A\n",
      " 44%|████▍     | 880/2000 [00:22<00:31, 36.11it/s]\u001b[A\n",
      " 46%|████▌     | 920/2000 [00:23<00:30, 34.86it/s]\u001b[A\n",
      " 48%|████▊     | 960/2000 [00:25<00:29, 35.06it/s]\u001b[A\n",
      " 50%|█████     | 1000/2000 [00:26<00:27, 36.64it/s]\u001b[A\n",
      " 52%|█████▏    | 1040/2000 [00:27<00:25, 37.23it/s]\u001b[A\n",
      " 54%|█████▍    | 1080/2000 [00:28<00:24, 37.78it/s]\u001b[A\n",
      " 56%|█████▌    | 1120/2000 [00:29<00:23, 37.54it/s]\u001b[A\n",
      " 58%|█████▊    | 1160/2000 [00:30<00:22, 36.88it/s]\u001b[A\n",
      " 60%|██████    | 1200/2000 [00:31<00:22, 35.85it/s]\u001b[A\n",
      " 62%|██████▏   | 1240/2000 [00:32<00:21, 35.49it/s]\u001b[A\n",
      " 64%|██████▍   | 1280/2000 [00:33<00:19, 37.74it/s]\u001b[A\n",
      " 66%|██████▌   | 1320/2000 [00:34<00:19, 35.38it/s]\u001b[A\n",
      " 68%|██████▊   | 1360/2000 [00:35<00:17, 36.03it/s]\u001b[A\n",
      " 70%|███████   | 1400/2000 [00:36<00:16, 36.52it/s]\u001b[A\n",
      " 72%|███████▏  | 1440/2000 [00:38<00:15, 36.97it/s]\u001b[A\n",
      " 74%|███████▍  | 1480/2000 [00:39<00:13, 37.32it/s]\u001b[A\n",
      " 76%|███████▌  | 1520/2000 [00:40<00:12, 37.84it/s]\u001b[A\n",
      " 78%|███████▊  | 1560/2000 [00:41<00:12, 36.31it/s]\u001b[A\n",
      " 80%|████████  | 1600/2000 [00:42<00:10, 36.55it/s]\u001b[A\n",
      " 82%|████████▏ | 1640/2000 [00:43<00:09, 37.67it/s]\u001b[A\n",
      " 84%|████████▍ | 1680/2000 [00:44<00:08, 38.13it/s]\u001b[A\n",
      " 86%|████████▌ | 1720/2000 [00:45<00:07, 36.88it/s]\u001b[A\n"
     ]
    },
    {
     "name": "stderr",
     "output_type": "stream",
     "text": [
      " 88%|████████▊ | 1760/2000 [00:46<00:06, 38.77it/s]\u001b[A\n",
      " 90%|█████████ | 1800/2000 [00:48<00:06, 33.15it/s]\u001b[A\n",
      " 92%|█████████▏| 1840/2000 [00:49<00:04, 32.90it/s]\u001b[A\n",
      " 94%|█████████▍| 1880/2000 [00:50<00:03, 33.90it/s]\u001b[A\n",
      " 96%|█████████▌| 1920/2000 [00:51<00:02, 35.32it/s]\u001b[A\n",
      " 98%|█████████▊| 1960/2000 [00:52<00:01, 35.64it/s]\u001b[A\n",
      "100%|██████████| 2000/2000 [00:53<00:00, 35.63it/s]\u001b[A\n",
      "  0%|          | 0/1000 [00:00<?, ?it/s]\u001b[A\n",
      "  8%|▊         | 80/1000 [00:01<00:11, 80.02it/s]\u001b[A\n",
      " 12%|█▏        | 120/1000 [00:02<00:14, 59.04it/s]\u001b[A\n",
      " 16%|█▌        | 160/1000 [00:03<00:17, 48.19it/s]\u001b[A\n",
      " 20%|██        | 200/1000 [00:04<00:18, 42.50it/s]\u001b[A\n",
      " 24%|██▍       | 240/1000 [00:05<00:18, 41.13it/s]\u001b[A\n",
      " 28%|██▊       | 280/1000 [00:06<00:18, 39.44it/s]\u001b[A\n",
      " 32%|███▏      | 320/1000 [00:07<00:17, 38.14it/s]\u001b[A\n",
      " 36%|███▌      | 360/1000 [00:08<00:17, 37.11it/s]\u001b[A\n",
      " 40%|████      | 400/1000 [00:10<00:16, 35.60it/s]\u001b[A\n",
      " 44%|████▍     | 440/1000 [00:11<00:15, 36.55it/s]\u001b[A\n",
      " 48%|████▊     | 480/1000 [00:12<00:14, 36.66it/s]\u001b[A\n",
      " 52%|█████▏    | 520/1000 [00:13<00:13, 36.33it/s]\u001b[A\n",
      " 56%|█████▌    | 560/1000 [00:14<00:12, 36.27it/s]\u001b[A\n",
      " 60%|██████    | 600/1000 [00:15<00:11, 36.23it/s]\u001b[A\n",
      " 64%|██████▍   | 640/1000 [00:16<00:09, 36.55it/s]\u001b[A\n",
      " 68%|██████▊   | 680/1000 [00:17<00:08, 36.96it/s]\u001b[A\n",
      " 72%|███████▏  | 720/1000 [00:18<00:07, 35.82it/s]\u001b[A\n",
      " 76%|███████▌  | 760/1000 [00:20<00:06, 36.12it/s]\u001b[A\n",
      " 80%|████████  | 800/1000 [00:21<00:05, 35.81it/s]\u001b[A\n",
      " 84%|████████▍ | 840/1000 [00:22<00:04, 36.55it/s]\u001b[A\n",
      " 88%|████████▊ | 880/1000 [00:23<00:03, 37.72it/s]\u001b[A\n",
      " 92%|█████████▏| 920/1000 [00:24<00:02, 36.34it/s]\u001b[A\n",
      " 96%|█████████▌| 960/1000 [00:25<00:01, 36.70it/s]\u001b[A\n",
      "100%|██████████| 1000/1000 [00:26<00:00, 37.84it/s]\u001b[A\n",
      "  0%|          | 0/1000 [00:00<?, ?it/s]\u001b[A\n",
      "  8%|▊         | 80/1000 [00:01<00:12, 73.03it/s]\u001b[A\n",
      " 12%|█▏        | 120/1000 [00:02<00:14, 60.69it/s]\u001b[A\n",
      " 16%|█▌        | 160/1000 [00:03<00:16, 51.31it/s]\u001b[A\n",
      " 20%|██        | 200/1000 [00:04<00:18, 42.44it/s]\u001b[A\n",
      " 24%|██▍       | 240/1000 [00:05<00:19, 39.15it/s]\u001b[A\n",
      " 28%|██▊       | 280/1000 [00:06<00:19, 37.06it/s]\u001b[A\n",
      " 32%|███▏      | 320/1000 [00:07<00:18, 37.32it/s]\u001b[A\n",
      " 36%|███▌      | 360/1000 [00:08<00:17, 37.11it/s]\u001b[A\n",
      " 40%|████      | 400/1000 [00:09<00:15, 38.80it/s]\u001b[A\n",
      " 44%|████▍     | 440/1000 [00:11<00:15, 37.18it/s]\u001b[A\n",
      " 48%|████▊     | 480/1000 [00:12<00:14, 37.12it/s]\u001b[A\n",
      " 52%|█████▏    | 520/1000 [00:13<00:12, 37.94it/s]\u001b[A\n",
      " 56%|█████▌    | 560/1000 [00:14<00:11, 37.15it/s]\u001b[A\n",
      " 60%|██████    | 600/1000 [00:15<00:10, 37.64it/s]\u001b[A\n",
      " 64%|██████▍   | 640/1000 [00:16<00:10, 35.64it/s]\u001b[A\n",
      " 68%|██████▊   | 680/1000 [00:17<00:08, 35.89it/s]\u001b[A\n",
      " 72%|███████▏  | 720/1000 [00:18<00:08, 34.97it/s]\u001b[A\n",
      " 76%|███████▌  | 760/1000 [00:19<00:06, 36.16it/s]\u001b[A\n",
      " 80%|████████  | 800/1000 [00:21<00:05, 36.21it/s]\u001b[A\n",
      " 84%|████████▍ | 840/1000 [00:21<00:04, 38.15it/s]\u001b[A\n",
      " 88%|████████▊ | 880/1000 [00:22<00:03, 37.84it/s]\u001b[A\n",
      " 92%|█████████▏| 920/1000 [00:24<00:02, 38.22it/s]\u001b[A\n",
      " 96%|█████████▌| 960/1000 [00:25<00:01, 36.30it/s]\u001b[A\n",
      "100%|██████████| 1000/1000 [00:26<00:00, 36.39it/s]\u001b[A"
     ]
    }
   ],
   "source": [
    "ams_neutrality67 = []\n",
    "for i_folder in range(len(files)):\n",
    "    amps_tmp = np.array(Parallel(n_jobs=40)(delayed(get_amp_wraperZ)(i, fnames[i_folder]) for i in tqdm(range((files[i_folder])))))\n",
    "    ams_neutrality67 += list(np.array(amps_tmp)*etha)\n",
    "ams_neutrality67 = np.array(ams_neutrality67)"
   ]
  },
  {
   "cell_type": "code",
   "execution_count": 277,
   "metadata": {},
   "outputs": [],
   "source": [
    "ams_neutrality67_2 = list(ams_neutrality67)\n",
    "ams_neutrality67_2.pop(692)\n",
    "ams_neutrality67_2.pop(692)\n",
    "ams_neutrality67 = np.array(ams_neutrality67_2)"
   ]
  },
  {
   "cell_type": "code",
   "execution_count": 278,
   "metadata": {},
   "outputs": [],
   "source": [
    "base_folder = r'/data/old_trap/20211001/bead1/'\n",
    "fnames = [base_folder+r'neutrality8/Z_200Vpp_alternate_139Hz_spin_XY_117kHz_175Vpp_delay_5sec_with_height_fb/',\n",
    "# base_folder+r'neutrality8/Z_200Vpp_alternate_139Hz_spin_XY_117kHz_175Vpp_delay_5sec_with_height_fb_redo/', ## 4 sec.\n",
    "base_folder+r'neutrality8/Z_200Vpp_alternate_139Hz_spin_XY_117kHz_175Vpp_delay_7sec_with_height_fb_redo2/',\n",
    "base_folder+r'neutrality8/Z_200Vpp_alternate_139Hz_spin_XY_117kHz_175Vpp_delay_7sec_with_height_fb_redo3/',\n",
    "base_folder+r'neutrality8/Z_200Vpp_alternate_139Hz_spin_XY_117kHz_175Vpp_delay_7sec_with_height_fb_redo4/',\n",
    "base_folder+r'neutrality8/Z_200Vpp_alternate_139Hz_spin_XY_117kHz_175Vpp_delay_7sec_with_height_fb_redo5/']\n",
    "\n",
    "files = [2000, 2000, 2000, 2000, 440]"
   ]
  },
  {
   "cell_type": "code",
   "execution_count": 279,
   "metadata": {
    "scrolled": true
   },
   "outputs": [
    {
     "name": "stderr",
     "output_type": "stream",
     "text": [
      "\n",
      "  0%|          | 0/2000 [00:00<?, ?it/s]\u001b[A\n",
      "  4%|▍         | 80/2000 [00:00<00:19, 99.20it/s]\u001b[A\n",
      "  6%|▌         | 120/2000 [00:02<00:33, 55.97it/s]\u001b[A\n",
      "  8%|▊         | 160/2000 [00:03<00:38, 47.98it/s]\u001b[A\n",
      " 10%|█         | 200/2000 [00:04<00:42, 42.20it/s]\u001b[A\n",
      " 12%|█▏        | 240/2000 [00:05<00:43, 40.61it/s]\u001b[A\n",
      " 14%|█▍        | 280/2000 [00:06<00:45, 37.41it/s]\u001b[A\n",
      " 16%|█▌        | 320/2000 [00:07<00:44, 37.86it/s]\u001b[A\n",
      " 18%|█▊        | 360/2000 [00:08<00:43, 38.12it/s]\u001b[A\n",
      " 20%|██        | 400/2000 [00:10<00:41, 38.30it/s]\u001b[A\n",
      " 22%|██▏       | 440/2000 [00:11<00:42, 36.58it/s]\u001b[A\n",
      " 24%|██▍       | 480/2000 [00:12<00:44, 34.35it/s]\u001b[A\n",
      " 26%|██▌       | 520/2000 [00:13<00:41, 35.27it/s]\u001b[A\n",
      " 28%|██▊       | 560/2000 [00:14<00:39, 36.12it/s]\u001b[A\n",
      " 30%|███       | 600/2000 [00:15<00:39, 35.73it/s]\u001b[A\n",
      " 32%|███▏      | 640/2000 [00:16<00:37, 35.81it/s]\u001b[A\n",
      " 34%|███▍      | 680/2000 [00:18<00:36, 35.81it/s]\u001b[A\n",
      " 36%|███▌      | 720/2000 [00:19<00:35, 35.72it/s]\u001b[A\n",
      " 38%|███▊      | 760/2000 [00:20<00:34, 36.15it/s]\u001b[A\n",
      " 40%|████      | 800/2000 [00:21<00:32, 36.40it/s]\u001b[A\n",
      " 42%|████▏     | 840/2000 [00:22<00:31, 36.61it/s]\u001b[A\n",
      " 44%|████▍     | 880/2000 [00:23<00:30, 37.16it/s]\u001b[A\n",
      " 46%|████▌     | 920/2000 [00:24<00:29, 36.56it/s]\u001b[A\n",
      " 48%|████▊     | 960/2000 [00:25<00:26, 38.70it/s]\u001b[A\n",
      " 50%|█████     | 1000/2000 [00:26<00:26, 37.25it/s]\u001b[A\n",
      " 52%|█████▏    | 1040/2000 [00:27<00:26, 36.77it/s]\u001b[A\n",
      " 54%|█████▍    | 1080/2000 [00:28<00:25, 36.77it/s]\u001b[A\n",
      " 56%|█████▌    | 1120/2000 [00:29<00:23, 36.73it/s]\u001b[A\n",
      " 58%|█████▊    | 1160/2000 [00:30<00:22, 38.01it/s]\u001b[A\n",
      " 60%|██████    | 1200/2000 [00:32<00:21, 37.38it/s]\u001b[A\n",
      " 62%|██████▏   | 1240/2000 [00:33<00:21, 35.66it/s]\u001b[A\n",
      " 64%|██████▍   | 1280/2000 [00:34<00:19, 36.76it/s]\u001b[A\n",
      " 66%|██████▌   | 1320/2000 [00:35<00:19, 34.86it/s]\u001b[A\n",
      " 68%|██████▊   | 1360/2000 [00:36<00:18, 35.54it/s]\u001b[A\n",
      " 70%|███████   | 1400/2000 [00:37<00:16, 35.30it/s]\u001b[A\n",
      " 72%|███████▏  | 1440/2000 [00:39<00:16, 34.17it/s]\u001b[A\n",
      " 74%|███████▍  | 1480/2000 [00:40<00:14, 35.13it/s]\u001b[A\n",
      " 76%|███████▌  | 1520/2000 [00:41<00:13, 35.92it/s]\u001b[A\n",
      " 78%|███████▊  | 1560/2000 [00:42<00:11, 37.36it/s]\u001b[A\n",
      " 80%|████████  | 1600/2000 [00:44<00:13, 29.07it/s]\u001b[A\n",
      " 82%|████████▏ | 1640/2000 [00:45<00:11, 31.12it/s]\u001b[A\n",
      " 84%|████████▍ | 1680/2000 [00:46<00:09, 33.72it/s]\u001b[A\n",
      " 86%|████████▌ | 1720/2000 [00:47<00:08, 32.55it/s]\u001b[A\n",
      " 88%|████████▊ | 1760/2000 [00:48<00:07, 33.63it/s]\u001b[A\n",
      " 90%|█████████ | 1800/2000 [00:49<00:05, 35.21it/s]\u001b[A\n",
      " 92%|█████████▏| 1840/2000 [00:50<00:04, 36.88it/s]\u001b[A\n",
      " 94%|█████████▍| 1880/2000 [00:51<00:03, 36.77it/s]\u001b[A\n",
      " 96%|█████████▌| 1920/2000 [00:52<00:02, 35.49it/s]\u001b[A\n",
      " 98%|█████████▊| 1960/2000 [00:53<00:01, 36.44it/s]\u001b[A\n",
      "100%|██████████| 2000/2000 [00:55<00:00, 37.03it/s]\u001b[A/home/analysis_user/.local/lib/python3.6/site-packages/ipykernel_launcher.py:3: VisibleDeprecationWarning: Creating an ndarray from ragged nested sequences (which is a list-or-tuple of lists-or-tuples-or ndarrays with different lengths or shapes) is deprecated. If you meant to do this, you must specify 'dtype=object' when creating the ndarray\n",
      "  This is separate from the ipykernel package so we can avoid doing imports until\n",
      "\n",
      "  0%|          | 0/2000 [00:00<?, ?it/s]\u001b[A\n",
      "  4%|▍         | 80/2000 [00:00<00:21, 91.18it/s]\u001b[A\n",
      "  6%|▌         | 120/2000 [00:01<00:25, 74.54it/s]\u001b[A\n",
      "  8%|▊         | 160/2000 [00:02<00:29, 62.39it/s]\u001b[A\n",
      " 10%|█         | 200/2000 [00:03<00:33, 53.79it/s]\u001b[A\n",
      " 12%|█▏        | 240/2000 [00:04<00:33, 52.40it/s]\u001b[A\n",
      " 14%|█▍        | 280/2000 [00:05<00:37, 45.52it/s]\u001b[A\n",
      " 16%|█▌        | 320/2000 [00:07<00:45, 37.01it/s]\u001b[A\n",
      " 18%|█▊        | 360/2000 [00:07<00:42, 38.79it/s]\u001b[A\n",
      " 20%|██        | 400/2000 [00:09<00:42, 37.43it/s]\u001b[A\n",
      " 22%|██▏       | 440/2000 [00:09<00:39, 39.97it/s]\u001b[A\n",
      " 24%|██▍       | 480/2000 [00:10<00:36, 41.87it/s]\u001b[A\n",
      " 26%|██▌       | 520/2000 [00:12<00:38, 38.60it/s]\u001b[A\n",
      " 28%|██▊       | 560/2000 [00:13<00:36, 38.92it/s]\u001b[A\n",
      " 30%|███       | 600/2000 [00:13<00:34, 40.96it/s]\u001b[A\n",
      " 32%|███▏      | 640/2000 [00:14<00:32, 42.43it/s]\u001b[A\n",
      " 34%|███▍      | 680/2000 [00:15<00:30, 43.17it/s]\u001b[A\n",
      " 36%|███▌      | 720/2000 [00:16<00:29, 43.51it/s]\u001b[A\n",
      " 38%|███▊      | 760/2000 [00:17<00:28, 43.80it/s]\u001b[A\n",
      " 40%|████      | 800/2000 [00:18<00:26, 44.59it/s]\u001b[A\n",
      " 42%|████▏     | 840/2000 [00:19<00:28, 40.02it/s]\u001b[A\n",
      " 44%|████▍     | 880/2000 [00:20<00:27, 40.79it/s]\u001b[A\n",
      " 46%|████▌     | 920/2000 [00:21<00:25, 42.14it/s]\u001b[A\n",
      " 48%|████▊     | 960/2000 [00:22<00:25, 40.14it/s]\u001b[A\n",
      " 50%|█████     | 1000/2000 [00:23<00:26, 38.05it/s]\u001b[A\n",
      " 52%|█████▏    | 1040/2000 [00:24<00:24, 39.76it/s]\u001b[A\n",
      " 54%|█████▍    | 1080/2000 [00:25<00:21, 43.03it/s]\u001b[A\n",
      " 56%|█████▌    | 1120/2000 [00:26<00:20, 42.99it/s]\u001b[A\n",
      " 58%|█████▊    | 1160/2000 [00:27<00:19, 43.43it/s]\u001b[A\n",
      " 60%|██████    | 1200/2000 [00:27<00:17, 44.81it/s]\u001b[A\n",
      " 62%|██████▏   | 1240/2000 [00:28<00:16, 46.03it/s]\u001b[A\n",
      " 64%|██████▍   | 1280/2000 [00:29<00:15, 45.65it/s]\u001b[A\n",
      " 66%|██████▌   | 1320/2000 [00:30<00:16, 41.18it/s]\u001b[A\n",
      " 68%|██████▊   | 1360/2000 [00:31<00:15, 42.48it/s]\u001b[A\n",
      " 70%|███████   | 1400/2000 [00:32<00:13, 45.49it/s]\u001b[A\n",
      " 72%|███████▏  | 1440/2000 [00:33<00:12, 45.70it/s]\u001b[A\n",
      " 74%|███████▍  | 1480/2000 [00:34<00:11, 44.81it/s]\u001b[A\n",
      " 76%|███████▌  | 1520/2000 [00:35<00:10, 45.98it/s]\u001b[A\n",
      " 78%|███████▊  | 1560/2000 [00:35<00:09, 46.97it/s]\u001b[A\n",
      " 80%|████████  | 1600/2000 [00:36<00:08, 44.60it/s]\u001b[A\n",
      " 82%|████████▏ | 1640/2000 [00:37<00:07, 45.32it/s]\u001b[A\n",
      " 84%|████████▍ | 1680/2000 [00:38<00:06, 46.59it/s]\u001b[A\n",
      " 86%|████████▌ | 1720/2000 [00:39<00:06, 46.04it/s]\u001b[A\n",
      " 88%|████████▊ | 1760/2000 [00:40<00:05, 46.01it/s]\u001b[A\n",
      " 90%|█████████ | 1800/2000 [00:41<00:04, 45.78it/s]\u001b[A\n",
      " 92%|█████████▏| 1840/2000 [00:42<00:03, 45.63it/s]\u001b[A\n",
      " 94%|█████████▍| 1880/2000 [00:42<00:02, 48.11it/s]\u001b[A\n",
      " 96%|█████████▌| 1920/2000 [00:43<00:01, 45.49it/s]\u001b[A\n",
      " 98%|█████████▊| 1960/2000 [00:44<00:00, 43.46it/s]\u001b[A\n",
      "100%|██████████| 2000/2000 [00:45<00:00, 40.72it/s]\u001b[A\n",
      "  0%|          | 0/2000 [00:00<?, ?it/s]\u001b[A\n",
      "  4%|▍         | 80/2000 [00:00<00:19, 96.99it/s]\u001b[A\n",
      "  6%|▌         | 120/2000 [00:01<00:29, 64.79it/s]\u001b[A\n",
      "  8%|▊         | 160/2000 [00:03<00:39, 46.49it/s]\u001b[A\n",
      " 10%|█         | 200/2000 [00:04<00:39, 46.06it/s]\u001b[A\n",
      " 12%|█▏        | 240/2000 [00:05<00:37, 46.78it/s]\u001b[A\n",
      " 14%|█▍        | 280/2000 [00:05<00:35, 48.09it/s]\u001b[A\n",
      " 16%|█▌        | 320/2000 [00:06<00:35, 47.30it/s]\u001b[A\n",
      " 18%|█▊        | 360/2000 [00:07<00:34, 47.38it/s]\u001b[A\n",
      " 20%|██        | 400/2000 [00:08<00:34, 46.85it/s]\u001b[A\n",
      " 22%|██▏       | 440/2000 [00:09<00:32, 47.71it/s]\u001b[A\n",
      " 24%|██▍       | 480/2000 [00:10<00:32, 46.91it/s]\u001b[A\n",
      " 26%|██▌       | 520/2000 [00:11<00:32, 45.78it/s]\u001b[A\n",
      " 28%|██▊       | 560/2000 [00:11<00:31, 45.95it/s]\u001b[A\n",
      " 30%|███       | 600/2000 [00:12<00:30, 46.13it/s]\u001b[A\n",
      " 32%|███▏      | 640/2000 [00:13<00:29, 45.88it/s]\u001b[A\n",
      " 34%|███▍      | 680/2000 [00:14<00:28, 45.77it/s]\u001b[A\n",
      " 36%|███▌      | 720/2000 [00:15<00:27, 45.74it/s]\u001b[A\n",
      " 38%|███▊      | 760/2000 [00:16<00:31, 39.47it/s]\u001b[A\n",
      " 40%|████      | 800/2000 [00:17<00:32, 37.00it/s]\u001b[A\n",
      " 42%|████▏     | 840/2000 [00:18<00:30, 37.95it/s]\u001b[A\n",
      " 44%|████▍     | 880/2000 [00:20<00:31, 35.83it/s]\u001b[A\n",
      " 46%|████▌     | 920/2000 [00:21<00:28, 38.20it/s]\u001b[A\n",
      " 48%|████▊     | 960/2000 [00:21<00:25, 40.32it/s]\u001b[A\n",
      " 50%|█████     | 1000/2000 [00:23<00:30, 32.60it/s]\u001b[A\n",
      " 52%|█████▏    | 1040/2000 [00:24<00:27, 35.02it/s]\u001b[A\n",
      " 54%|█████▍    | 1080/2000 [00:25<00:24, 38.13it/s]\u001b[A\n",
      " 56%|█████▌    | 1120/2000 [00:26<00:20, 42.13it/s]\u001b[A\n",
      " 58%|█████▊    | 1160/2000 [00:27<00:23, 35.93it/s]\u001b[A\n",
      " 60%|██████    | 1200/2000 [00:28<00:20, 38.59it/s]\u001b[A\n",
      " 62%|██████▏   | 1240/2000 [00:29<00:21, 35.34it/s]\u001b[A\n",
      " 64%|██████▍   | 1280/2000 [00:31<00:21, 34.19it/s]\u001b[A\n",
      " 66%|██████▌   | 1320/2000 [00:32<00:20, 33.75it/s]\u001b[A\n",
      " 68%|██████▊   | 1360/2000 [00:33<00:17, 35.78it/s]\u001b[A\n",
      " 70%|███████   | 1400/2000 [00:34<00:15, 38.14it/s]\u001b[A\n",
      " 72%|███████▏  | 1440/2000 [00:35<00:14, 39.32it/s]\u001b[A\n",
      " 74%|███████▍  | 1480/2000 [00:36<00:12, 41.60it/s]\u001b[A\n",
      " 76%|███████▌  | 1520/2000 [00:36<00:11, 43.44it/s]\u001b[A\n",
      " 78%|███████▊  | 1560/2000 [00:37<00:10, 43.81it/s]\u001b[A\n",
      " 80%|████████  | 1600/2000 [00:39<00:11, 36.20it/s]\u001b[A\n",
      " 82%|████████▏ | 1640/2000 [00:40<00:09, 39.18it/s]\u001b[A\n",
      " 84%|████████▍ | 1680/2000 [00:41<00:07, 40.02it/s]\u001b[A\n",
      " 86%|████████▌ | 1720/2000 [00:41<00:06, 41.47it/s]\u001b[A\n"
     ]
    },
    {
     "name": "stderr",
     "output_type": "stream",
     "text": [
      " 88%|████████▊ | 1760/2000 [00:42<00:05, 41.67it/s]\u001b[A\n",
      " 90%|█████████ | 1800/2000 [00:44<00:05, 35.25it/s]\u001b[A\n",
      " 92%|█████████▏| 1840/2000 [00:45<00:04, 35.26it/s]\u001b[A\n",
      " 94%|█████████▍| 1880/2000 [00:46<00:03, 39.13it/s]\u001b[A\n",
      " 96%|█████████▌| 1920/2000 [00:47<00:01, 41.55it/s]\u001b[A\n",
      " 98%|█████████▊| 1960/2000 [00:48<00:00, 43.66it/s]\u001b[A\n",
      "100%|██████████| 2000/2000 [00:49<00:00, 42.55it/s]\u001b[A\n",
      "  0%|          | 0/2000 [00:00<?, ?it/s]\u001b[A\n",
      "  4%|▍         | 80/2000 [00:00<00:21, 90.03it/s]\u001b[A\n",
      "  6%|▌         | 120/2000 [00:01<00:28, 66.56it/s]\u001b[A\n",
      "  8%|▊         | 160/2000 [00:03<00:35, 51.23it/s]\u001b[A\n",
      " 10%|█         | 200/2000 [00:03<00:35, 50.03it/s]\u001b[A\n",
      " 12%|█▏        | 240/2000 [00:04<00:36, 48.50it/s]\u001b[A\n",
      " 14%|█▍        | 280/2000 [00:05<00:36, 47.67it/s]\u001b[A\n",
      " 16%|█▌        | 320/2000 [00:06<00:35, 46.96it/s]\u001b[A\n",
      " 18%|█▊        | 360/2000 [00:07<00:33, 49.15it/s]\u001b[A\n",
      " 20%|██        | 400/2000 [00:08<00:34, 46.66it/s]\u001b[A\n",
      " 22%|██▏       | 440/2000 [00:09<00:36, 42.81it/s]\u001b[A\n",
      " 24%|██▍       | 480/2000 [00:10<00:34, 43.79it/s]\u001b[A\n",
      " 26%|██▌       | 520/2000 [00:11<00:33, 44.71it/s]\u001b[A\n",
      " 28%|██▊       | 560/2000 [00:12<00:34, 41.62it/s]\u001b[A\n",
      " 30%|███       | 600/2000 [00:13<00:32, 42.70it/s]\u001b[A\n",
      " 32%|███▏      | 640/2000 [00:13<00:31, 43.19it/s]\u001b[A\n",
      " 34%|███▍      | 680/2000 [00:14<00:29, 44.14it/s]\u001b[A\n",
      " 36%|███▌      | 720/2000 [00:15<00:28, 44.99it/s]\u001b[A\n",
      " 38%|███▊      | 760/2000 [00:16<00:27, 44.45it/s]\u001b[A\n",
      " 40%|████      | 800/2000 [00:17<00:26, 45.48it/s]\u001b[A\n",
      " 42%|████▏     | 840/2000 [00:18<00:25, 46.07it/s]\u001b[A\n",
      " 44%|████▍     | 880/2000 [00:19<00:26, 41.71it/s]\u001b[A\n",
      " 46%|████▌     | 920/2000 [00:20<00:25, 42.67it/s]\u001b[A\n",
      " 48%|████▊     | 960/2000 [00:21<00:24, 42.89it/s]\u001b[A\n",
      " 50%|█████     | 1000/2000 [00:22<00:24, 41.29it/s]\u001b[A\n",
      " 52%|█████▏    | 1040/2000 [00:23<00:23, 40.91it/s]\u001b[A\n",
      " 54%|█████▍    | 1080/2000 [00:24<00:21, 43.09it/s]\u001b[A\n",
      " 56%|█████▌    | 1120/2000 [00:24<00:19, 45.86it/s]\u001b[A\n",
      " 58%|█████▊    | 1160/2000 [00:26<00:21, 38.78it/s]\u001b[A\n",
      " 60%|██████    | 1200/2000 [00:27<00:20, 39.52it/s]\u001b[A\n",
      " 62%|██████▏   | 1240/2000 [00:28<00:18, 40.53it/s]\u001b[A\n",
      " 64%|██████▍   | 1280/2000 [00:29<00:18, 39.35it/s]\u001b[A\n",
      " 66%|██████▌   | 1320/2000 [00:30<00:16, 41.59it/s]\u001b[A\n",
      " 68%|██████▊   | 1360/2000 [00:30<00:14, 43.02it/s]\u001b[A\n",
      " 70%|███████   | 1400/2000 [00:31<00:14, 42.77it/s]\u001b[A\n",
      " 72%|███████▏  | 1440/2000 [00:32<00:12, 43.92it/s]\u001b[A\n",
      " 74%|███████▍  | 1480/2000 [00:33<00:11, 44.30it/s]\u001b[A\n",
      " 76%|███████▌  | 1520/2000 [00:34<00:10, 44.94it/s]\u001b[A\n",
      " 78%|███████▊  | 1560/2000 [00:35<00:09, 44.33it/s]\u001b[A\n",
      " 80%|████████  | 1600/2000 [00:36<00:09, 44.04it/s]\u001b[A\n",
      " 82%|████████▏ | 1640/2000 [00:37<00:08, 44.67it/s]\u001b[A\n",
      " 84%|████████▍ | 1680/2000 [00:37<00:06, 46.17it/s]\u001b[A\n",
      " 86%|████████▌ | 1720/2000 [00:38<00:06, 46.24it/s]\u001b[A\n",
      " 88%|████████▊ | 1760/2000 [00:39<00:05, 46.06it/s]\u001b[A\n",
      " 90%|█████████ | 1800/2000 [00:40<00:04, 47.03it/s]\u001b[A\n",
      " 92%|█████████▏| 1840/2000 [00:41<00:03, 47.37it/s]\u001b[A\n",
      " 94%|█████████▍| 1880/2000 [00:42<00:02, 45.85it/s]\u001b[A\n",
      " 96%|█████████▌| 1920/2000 [00:43<00:01, 46.82it/s]\u001b[A\n",
      " 98%|█████████▊| 1960/2000 [00:43<00:00, 46.77it/s]\u001b[A\n",
      "100%|██████████| 2000/2000 [00:44<00:00, 46.87it/s]\u001b[A\n",
      "  0%|          | 0/440 [00:00<?, ?it/s]\u001b[A\n",
      " 18%|█▊        | 80/440 [00:00<00:04, 88.30it/s]\u001b[A\n",
      " 27%|██▋       | 120/440 [00:01<00:04, 74.64it/s]\u001b[A\n",
      " 36%|███▋      | 160/440 [00:02<00:04, 62.37it/s]\u001b[A\n",
      " 45%|████▌     | 200/440 [00:03<00:04, 55.53it/s]\u001b[A\n",
      " 55%|█████▍    | 240/440 [00:04<00:03, 52.62it/s]\u001b[A\n",
      " 64%|██████▎   | 280/440 [00:05<00:03, 51.62it/s]\u001b[A\n",
      " 73%|███████▎  | 320/440 [00:06<00:02, 45.64it/s]\u001b[A\n",
      " 82%|████████▏ | 360/440 [00:07<00:01, 44.95it/s]\u001b[A\n",
      " 91%|█████████ | 400/440 [00:07<00:00, 45.91it/s]\u001b[A\n",
      "100%|██████████| 440/440 [00:08<00:00, 46.80it/s]\u001b[A"
     ]
    }
   ],
   "source": [
    "ams_neutrality8 = []\n",
    "for i_folder in range(len(files)):\n",
    "    amps_tmp = np.array(Parallel(n_jobs=40)(delayed(get_amp_wraperZ)(i, fnames[i_folder]) for i in tqdm(range((files[i_folder])))))\n",
    "    ams_neutrality8 += list(np.array(amps_tmp)*etha)\n",
    "ams_neutrality8 = np.array(ams_neutrality8)"
   ]
  },
  {
   "cell_type": "code",
   "execution_count": 280,
   "metadata": {},
   "outputs": [],
   "source": [
    "base_folder = r'/data/old_trap/20211001/bead1/'\n",
    "fnames = [base_folder+r'neutrality9/Z_200Vpp_alternate_139Hz_spin_XY_117kHz_175Vpp_delay_4sec_with_height_fb/',\n",
    "base_folder+r'neutrality9/Z_200Vpp_alternate_139Hz_spin_XY_117kHz_175Vpp_delay_4sec_with_height_fb_redo/',\n",
    "base_folder+r'neutrality9/Z_200Vpp_alternate_139Hz_spin_XY_117kHz_175Vpp_delay_4sec_with_height_fb_redo2/',\n",
    "base_folder+r'neutrality9/Z_200Vpp_alternate_139Hz_spin_XY_117kHz_175Vpp_delay_4sec_with_height_fb_redo3/',\n",
    "base_folder+r'neutrality9/Z_200Vpp_alternate_139Hz_spin_XY_117kHz_175Vpp_delay_6sec_with_height_fb_redo4/',\n",
    "base_folder+r'neutrality9/Z_200Vpp_alternate_139Hz_spin_XY_117kHz_175Vpp_delay_4sec_with_height_fb_redo5/',\n",
    "base_folder+r'neutrality9/Z_200Vpp_alternate_139Hz_spin_XY_117kHz_175Vpp_delay_6sec_with_height_fb_redo6/']\n",
    "\n",
    "files = [80, 2000, 2000, 2000, 2000, 4000, 2200]"
   ]
  },
  {
   "cell_type": "code",
   "execution_count": 281,
   "metadata": {
    "scrolled": true
   },
   "outputs": [
    {
     "name": "stderr",
     "output_type": "stream",
     "text": [
      "\n",
      "  0%|          | 0/80 [00:00<?, ?it/s]\u001b[A\n",
      "100%|██████████| 80/80 [00:00<00:00, 100.91it/s]\u001b[A/home/analysis_user/.local/lib/python3.6/site-packages/ipykernel_launcher.py:3: VisibleDeprecationWarning: Creating an ndarray from ragged nested sequences (which is a list-or-tuple of lists-or-tuples-or ndarrays with different lengths or shapes) is deprecated. If you meant to do this, you must specify 'dtype=object' when creating the ndarray\n",
      "  This is separate from the ipykernel package so we can avoid doing imports until\n",
      "\n",
      "  0%|          | 0/2000 [00:00<?, ?it/s]\u001b[A\n",
      "  4%|▍         | 80/2000 [00:00<00:19, 96.04it/s]\u001b[A\n",
      "  6%|▌         | 120/2000 [00:01<00:27, 67.99it/s]\u001b[A\n",
      "  8%|▊         | 160/2000 [00:02<00:34, 52.77it/s]\u001b[A\n",
      " 10%|█         | 200/2000 [00:04<00:38, 46.56it/s]\u001b[A\n",
      " 12%|█▏        | 240/2000 [00:05<00:41, 42.79it/s]\u001b[A\n",
      " 14%|█▍        | 280/2000 [00:06<00:43, 39.67it/s]\u001b[A\n",
      " 16%|█▌        | 320/2000 [00:07<00:47, 35.19it/s]\u001b[A\n",
      " 18%|█▊        | 360/2000 [00:08<00:45, 35.79it/s]\u001b[A\n",
      " 20%|██        | 400/2000 [00:09<00:43, 36.59it/s]\u001b[A\n",
      " 22%|██▏       | 440/2000 [00:11<00:42, 36.56it/s]\u001b[A\n",
      " 24%|██▍       | 480/2000 [00:12<00:42, 35.97it/s]\u001b[A\n",
      " 26%|██▌       | 520/2000 [00:13<00:41, 35.69it/s]\u001b[A\n",
      " 28%|██▊       | 560/2000 [00:14<00:40, 35.21it/s]\u001b[A\n",
      " 30%|███       | 600/2000 [00:15<00:38, 36.63it/s]\u001b[A\n",
      " 32%|███▏      | 640/2000 [00:16<00:38, 34.91it/s]\u001b[A\n",
      " 34%|███▍      | 680/2000 [00:17<00:37, 34.80it/s]\u001b[A\n",
      " 36%|███▌      | 720/2000 [00:19<00:36, 34.97it/s]\u001b[A\n",
      " 38%|███▊      | 760/2000 [00:20<00:35, 34.52it/s]\u001b[A\n",
      " 40%|████      | 800/2000 [00:21<00:34, 34.53it/s]\u001b[A\n",
      " 42%|████▏     | 840/2000 [00:22<00:33, 34.63it/s]\u001b[A\n",
      " 44%|████▍     | 880/2000 [00:23<00:33, 33.38it/s]\u001b[A\n",
      " 46%|████▌     | 920/2000 [00:25<00:32, 33.17it/s]\u001b[A\n",
      " 48%|████▊     | 960/2000 [00:26<00:31, 32.81it/s]\u001b[A\n",
      " 50%|█████     | 1000/2000 [00:27<00:31, 31.40it/s]\u001b[A\n",
      " 52%|█████▏    | 1040/2000 [00:28<00:29, 32.98it/s]\u001b[A\n",
      " 54%|█████▍    | 1080/2000 [00:30<00:28, 32.50it/s]\u001b[A\n",
      " 56%|█████▌    | 1120/2000 [00:31<00:25, 34.16it/s]\u001b[A\n",
      " 58%|█████▊    | 1160/2000 [00:32<00:26, 31.92it/s]\u001b[A\n",
      " 60%|██████    | 1200/2000 [00:33<00:24, 32.86it/s]\u001b[A\n",
      " 62%|██████▏   | 1240/2000 [00:34<00:22, 33.86it/s]\u001b[A\n",
      " 64%|██████▍   | 1280/2000 [00:35<00:20, 34.90it/s]\u001b[A\n",
      " 66%|██████▌   | 1320/2000 [00:37<00:19, 34.29it/s]\u001b[A\n",
      " 68%|██████▊   | 1360/2000 [00:38<00:19, 33.38it/s]\u001b[A\n",
      " 70%|███████   | 1400/2000 [00:39<00:17, 33.43it/s]\u001b[A\n",
      " 72%|███████▏  | 1440/2000 [00:40<00:16, 33.53it/s]\u001b[A\n",
      " 74%|███████▍  | 1480/2000 [00:41<00:15, 33.78it/s]\u001b[A\n",
      " 76%|███████▌  | 1520/2000 [00:42<00:13, 35.17it/s]\u001b[A\n",
      " 78%|███████▊  | 1560/2000 [00:43<00:12, 36.33it/s]\u001b[A\n",
      " 80%|████████  | 1600/2000 [00:44<00:10, 36.50it/s]\u001b[A\n",
      " 82%|████████▏ | 1640/2000 [00:46<00:09, 36.80it/s]\u001b[A\n",
      " 84%|████████▍ | 1680/2000 [00:47<00:08, 37.33it/s]\u001b[A\n",
      " 86%|████████▌ | 1720/2000 [00:48<00:07, 36.55it/s]\u001b[A\n",
      " 88%|████████▊ | 1760/2000 [00:49<00:06, 37.80it/s]\u001b[A\n",
      " 90%|█████████ | 1800/2000 [00:50<00:05, 37.12it/s]\u001b[A\n",
      " 92%|█████████▏| 1840/2000 [00:51<00:04, 36.32it/s]\u001b[A\n",
      " 94%|█████████▍| 1880/2000 [00:52<00:03, 35.25it/s]\u001b[A\n",
      " 96%|█████████▌| 1920/2000 [00:53<00:02, 36.71it/s]\u001b[A\n",
      " 98%|█████████▊| 1960/2000 [00:54<00:01, 37.70it/s]\u001b[A\n",
      "100%|██████████| 2000/2000 [00:55<00:00, 35.99it/s]\u001b[A\n",
      "  0%|          | 0/2000 [00:00<?, ?it/s]\u001b[A\n",
      "  4%|▍         | 80/2000 [00:00<00:21, 90.05it/s]\u001b[A\n",
      "  6%|▌         | 120/2000 [00:02<00:30, 60.75it/s]\u001b[A\n",
      "  8%|▊         | 160/2000 [00:03<00:35, 51.37it/s]\u001b[A\n",
      " 10%|█         | 200/2000 [00:04<00:39, 45.76it/s]\u001b[A\n",
      " 12%|█▏        | 240/2000 [00:05<00:40, 43.61it/s]\u001b[A\n",
      " 14%|█▍        | 280/2000 [00:06<00:41, 41.02it/s]\u001b[A\n",
      " 16%|█▌        | 320/2000 [00:07<00:42, 39.20it/s]\u001b[A\n",
      " 18%|█▊        | 360/2000 [00:08<00:43, 37.88it/s]\u001b[A\n",
      " 20%|██        | 400/2000 [00:09<00:43, 37.12it/s]\u001b[A\n",
      " 22%|██▏       | 440/2000 [00:10<00:43, 36.13it/s]\u001b[A\n",
      " 24%|██▍       | 480/2000 [00:12<00:42, 35.50it/s]\u001b[A\n",
      " 26%|██▌       | 520/2000 [00:13<00:40, 36.24it/s]\u001b[A\n",
      " 28%|██▊       | 560/2000 [00:14<00:39, 36.45it/s]\u001b[A\n",
      " 30%|███       | 600/2000 [00:15<00:37, 37.11it/s]\u001b[A\n",
      " 32%|███▏      | 640/2000 [00:16<00:36, 37.35it/s]\u001b[A\n",
      " 34%|███▍      | 680/2000 [00:17<00:34, 38.27it/s]\u001b[A\n",
      " 36%|███▌      | 720/2000 [00:18<00:34, 37.08it/s]\u001b[A\n",
      " 38%|███▊      | 760/2000 [00:19<00:33, 37.11it/s]\u001b[A\n",
      " 40%|████      | 800/2000 [00:20<00:31, 37.99it/s]\u001b[A\n",
      " 42%|████▏     | 840/2000 [00:21<00:32, 35.66it/s]\u001b[A\n",
      " 44%|████▍     | 880/2000 [00:22<00:31, 35.91it/s]\u001b[A\n",
      " 46%|████▌     | 920/2000 [00:23<00:29, 37.05it/s]\u001b[A\n",
      " 48%|████▊     | 960/2000 [00:25<00:28, 36.05it/s]\u001b[A\n",
      " 50%|█████     | 1000/2000 [00:26<00:28, 35.19it/s]\u001b[A\n",
      " 52%|█████▏    | 1040/2000 [00:27<00:27, 34.78it/s]\u001b[A\n",
      " 54%|█████▍    | 1080/2000 [00:28<00:27, 33.50it/s]\u001b[A\n",
      " 56%|█████▌    | 1120/2000 [00:29<00:25, 35.14it/s]\u001b[A\n",
      " 58%|█████▊    | 1160/2000 [00:31<00:24, 34.11it/s]\u001b[A\n",
      " 60%|██████    | 1200/2000 [00:32<00:22, 35.07it/s]\u001b[A\n",
      " 62%|██████▏   | 1240/2000 [00:33<00:21, 34.79it/s]\u001b[A\n",
      " 64%|██████▍   | 1280/2000 [00:34<00:20, 34.48it/s]\u001b[A\n",
      " 66%|██████▌   | 1320/2000 [00:35<00:19, 35.24it/s]\u001b[A\n",
      " 68%|██████▊   | 1360/2000 [00:36<00:17, 36.25it/s]\u001b[A\n",
      " 70%|███████   | 1400/2000 [00:37<00:16, 35.64it/s]\u001b[A\n",
      " 72%|███████▏  | 1440/2000 [00:38<00:15, 35.95it/s]\u001b[A\n",
      " 74%|███████▍  | 1480/2000 [00:39<00:14, 35.67it/s]\u001b[A\n",
      " 76%|███████▌  | 1520/2000 [00:41<00:13, 36.14it/s]\u001b[A\n",
      " 78%|███████▊  | 1560/2000 [00:42<00:13, 32.71it/s]\u001b[A\n",
      " 80%|████████  | 1600/2000 [00:43<00:11, 34.37it/s]\u001b[A\n",
      " 82%|████████▏ | 1640/2000 [00:44<00:10, 35.41it/s]\u001b[A\n",
      " 84%|████████▍ | 1680/2000 [00:45<00:08, 36.78it/s]\u001b[A\n",
      " 86%|████████▌ | 1720/2000 [00:46<00:07, 35.73it/s]\u001b[A\n",
      " 88%|████████▊ | 1760/2000 [00:47<00:06, 34.75it/s]\u001b[A\n",
      " 90%|█████████ | 1800/2000 [00:49<00:05, 35.06it/s]\u001b[A\n",
      " 92%|█████████▏| 1840/2000 [00:50<00:04, 36.07it/s]\u001b[A\n",
      " 94%|█████████▍| 1880/2000 [00:51<00:03, 35.79it/s]\u001b[A\n",
      " 96%|█████████▌| 1920/2000 [00:52<00:02, 34.98it/s]\u001b[A\n",
      " 98%|█████████▊| 1960/2000 [00:53<00:01, 35.23it/s]\u001b[A\n",
      "100%|██████████| 2000/2000 [00:54<00:00, 35.97it/s]\u001b[A\n",
      "  0%|          | 0/2000 [00:00<?, ?it/s]\u001b[A\n",
      "  4%|▍         | 80/2000 [00:01<00:37, 51.28it/s]\u001b[A\n",
      "  6%|▌         | 120/2000 [00:02<00:38, 48.83it/s]\u001b[A\n",
      "  8%|▊         | 160/2000 [00:03<00:44, 41.11it/s]\u001b[A\n",
      " 10%|█         | 200/2000 [00:04<00:46, 38.92it/s]\u001b[A\n",
      " 12%|█▏        | 240/2000 [00:06<00:47, 37.32it/s]\u001b[A\n",
      " 14%|█▍        | 280/2000 [00:07<00:45, 37.48it/s]\u001b[A\n",
      " 16%|█▌        | 320/2000 [00:08<00:44, 37.70it/s]\u001b[A\n",
      " 18%|█▊        | 360/2000 [00:09<00:42, 38.58it/s]\u001b[A\n",
      " 20%|██        | 400/2000 [00:10<00:42, 37.23it/s]\u001b[A\n",
      " 22%|██▏       | 440/2000 [00:11<00:44, 34.82it/s]\u001b[A\n",
      " 24%|██▍       | 480/2000 [00:12<00:41, 36.46it/s]\u001b[A\n",
      " 26%|██▌       | 520/2000 [00:14<00:43, 33.80it/s]\u001b[A\n",
      " 28%|██▊       | 560/2000 [00:15<00:42, 34.02it/s]\u001b[A\n",
      " 30%|███       | 600/2000 [00:16<00:41, 33.87it/s]\u001b[A\n",
      " 32%|███▏      | 640/2000 [00:17<00:37, 36.31it/s]\u001b[A\n",
      " 34%|███▍      | 680/2000 [00:18<00:35, 37.41it/s]\u001b[A\n",
      " 36%|███▌      | 720/2000 [00:19<00:35, 36.07it/s]\u001b[A\n",
      " 38%|███▊      | 760/2000 [00:20<00:34, 35.59it/s]\u001b[A\n",
      " 40%|████      | 800/2000 [00:21<00:34, 35.27it/s]\u001b[A\n",
      " 42%|████▏     | 840/2000 [00:22<00:31, 36.45it/s]\u001b[A\n",
      " 44%|████▍     | 880/2000 [00:23<00:30, 36.18it/s]\u001b[A\n",
      " 46%|████▌     | 920/2000 [00:25<00:30, 35.13it/s]\u001b[A\n",
      " 48%|████▊     | 960/2000 [00:26<00:28, 36.03it/s]\u001b[A\n",
      " 50%|█████     | 1000/2000 [00:27<00:27, 35.76it/s]\u001b[A\n",
      " 52%|█████▏    | 1040/2000 [00:28<00:26, 36.40it/s]\u001b[A\n",
      " 54%|█████▍    | 1080/2000 [00:29<00:25, 36.00it/s]\u001b[A\n",
      " 56%|█████▌    | 1120/2000 [00:30<00:25, 34.48it/s]\u001b[A\n",
      " 58%|█████▊    | 1160/2000 [00:32<00:24, 34.43it/s]\u001b[A\n",
      " 60%|██████    | 1200/2000 [00:33<00:23, 34.08it/s]\u001b[A\n",
      " 62%|██████▏   | 1240/2000 [00:34<00:21, 34.81it/s]\u001b[A\n",
      " 64%|██████▍   | 1280/2000 [00:35<00:20, 34.46it/s]\u001b[A\n",
      " 66%|██████▌   | 1320/2000 [00:36<00:19, 34.49it/s]\u001b[A\n",
      " 68%|██████▊   | 1360/2000 [00:37<00:18, 34.82it/s]\u001b[A\n",
      " 70%|███████   | 1400/2000 [00:38<00:17, 35.04it/s]\u001b[A\n",
      " 72%|███████▏  | 1440/2000 [00:39<00:15, 35.54it/s]\u001b[A\n",
      " 74%|███████▍  | 1480/2000 [00:41<00:14, 35.49it/s]\u001b[A\n",
      " 76%|███████▌  | 1520/2000 [00:42<00:13, 35.32it/s]\u001b[A\n",
      " 78%|███████▊  | 1560/2000 [00:43<00:12, 34.95it/s]\u001b[A\n",
      " 80%|████████  | 1600/2000 [00:44<00:11, 35.03it/s]\u001b[A\n",
      " 82%|████████▏ | 1640/2000 [00:45<00:10, 35.66it/s]\u001b[A\n"
     ]
    },
    {
     "name": "stderr",
     "output_type": "stream",
     "text": [
      " 84%|████████▍ | 1680/2000 [00:46<00:09, 35.22it/s]\u001b[A\n",
      " 86%|████████▌ | 1720/2000 [00:48<00:08, 32.56it/s]\u001b[A\n",
      " 88%|████████▊ | 1760/2000 [00:49<00:07, 33.37it/s]\u001b[A\n",
      " 90%|█████████ | 1800/2000 [00:51<00:06, 29.65it/s]\u001b[A\n",
      " 92%|█████████▏| 1840/2000 [00:52<00:04, 32.63it/s]\u001b[A\n",
      " 94%|█████████▍| 1880/2000 [00:53<00:03, 33.45it/s]\u001b[A\n",
      " 96%|█████████▌| 1920/2000 [00:54<00:02, 34.00it/s]\u001b[A\n",
      " 98%|█████████▊| 1960/2000 [00:55<00:01, 35.94it/s]\u001b[A\n",
      "100%|██████████| 2000/2000 [00:56<00:00, 33.69it/s]\u001b[A\n",
      "  0%|          | 0/2000 [00:00<?, ?it/s]\u001b[A\n",
      "  4%|▍         | 80/2000 [00:00<00:21, 91.20it/s]\u001b[A\n",
      "  6%|▌         | 120/2000 [00:02<00:32, 57.82it/s]\u001b[A\n",
      "  8%|▊         | 160/2000 [00:03<00:40, 45.24it/s]\u001b[A\n",
      " 10%|█         | 200/2000 [00:04<00:44, 40.33it/s]\u001b[A\n",
      " 12%|█▏        | 240/2000 [00:05<00:44, 39.43it/s]\u001b[A\n",
      " 14%|█▍        | 280/2000 [00:06<00:42, 40.17it/s]\u001b[A\n",
      " 16%|█▌        | 320/2000 [00:07<00:42, 39.16it/s]\u001b[A\n",
      " 18%|█▊        | 360/2000 [00:09<00:43, 37.29it/s]\u001b[A\n",
      " 20%|██        | 400/2000 [00:10<00:43, 36.87it/s]\u001b[A\n",
      " 22%|██▏       | 440/2000 [00:11<00:41, 37.88it/s]\u001b[A\n",
      " 24%|██▍       | 480/2000 [00:12<00:42, 36.09it/s]\u001b[A\n",
      " 26%|██▌       | 520/2000 [00:13<00:40, 36.42it/s]\u001b[A\n",
      " 28%|██▊       | 560/2000 [00:14<00:40, 35.44it/s]\u001b[A\n",
      " 30%|███       | 600/2000 [00:15<00:37, 37.58it/s]\u001b[A\n",
      " 32%|███▏      | 640/2000 [00:17<00:41, 32.73it/s]\u001b[A\n",
      " 34%|███▍      | 680/2000 [00:18<00:39, 33.44it/s]\u001b[A\n",
      " 36%|███▌      | 720/2000 [00:19<00:37, 34.31it/s]\u001b[A\n",
      " 38%|███▊      | 760/2000 [00:20<00:35, 35.33it/s]\u001b[A\n",
      " 40%|████      | 800/2000 [00:21<00:34, 35.03it/s]\u001b[A\n",
      " 42%|████▏     | 840/2000 [00:22<00:32, 35.92it/s]\u001b[A\n",
      " 44%|████▍     | 880/2000 [00:23<00:30, 36.54it/s]\u001b[A\n",
      " 46%|████▌     | 920/2000 [00:24<00:28, 38.50it/s]\u001b[A\n",
      " 48%|████▊     | 960/2000 [00:25<00:28, 37.01it/s]\u001b[A\n",
      " 50%|█████     | 1000/2000 [00:26<00:27, 36.13it/s]\u001b[A\n",
      " 52%|█████▏    | 1040/2000 [00:28<00:27, 35.55it/s]\u001b[A\n",
      " 54%|█████▍    | 1080/2000 [00:29<00:25, 36.32it/s]\u001b[A\n",
      " 56%|█████▌    | 1120/2000 [00:30<00:24, 35.32it/s]\u001b[A\n",
      " 58%|█████▊    | 1160/2000 [00:31<00:23, 35.04it/s]\u001b[A\n",
      " 60%|██████    | 1200/2000 [00:32<00:22, 34.85it/s]\u001b[A\n",
      " 62%|██████▏   | 1240/2000 [00:33<00:21, 35.76it/s]\u001b[A\n",
      " 64%|██████▍   | 1280/2000 [00:34<00:20, 35.28it/s]\u001b[A\n",
      " 66%|██████▌   | 1320/2000 [00:35<00:18, 35.96it/s]\u001b[A\n",
      " 68%|██████▊   | 1360/2000 [00:37<00:18, 35.48it/s]\u001b[A\n",
      " 70%|███████   | 1400/2000 [00:38<00:16, 35.50it/s]\u001b[A\n",
      " 72%|███████▏  | 1440/2000 [00:39<00:15, 35.18it/s]\u001b[A\n",
      " 74%|███████▍  | 1480/2000 [00:40<00:14, 35.60it/s]\u001b[A\n",
      " 76%|███████▌  | 1520/2000 [00:41<00:13, 35.81it/s]\u001b[A\n",
      " 78%|███████▊  | 1560/2000 [00:42<00:12, 34.55it/s]\u001b[A\n",
      " 80%|████████  | 1600/2000 [00:43<00:11, 35.92it/s]\u001b[A\n",
      " 82%|████████▏ | 1640/2000 [00:44<00:09, 36.61it/s]\u001b[A\n",
      " 84%|████████▍ | 1680/2000 [00:45<00:08, 37.38it/s]\u001b[A\n",
      " 86%|████████▌ | 1720/2000 [00:47<00:07, 35.49it/s]\u001b[A\n",
      " 88%|████████▊ | 1760/2000 [00:48<00:06, 35.86it/s]\u001b[A\n",
      " 90%|█████████ | 1800/2000 [00:49<00:05, 36.80it/s]\u001b[A\n",
      " 92%|█████████▏| 1840/2000 [00:50<00:04, 37.45it/s]\u001b[A\n",
      " 94%|█████████▍| 1880/2000 [00:51<00:03, 37.14it/s]\u001b[A\n",
      " 96%|█████████▌| 1920/2000 [00:52<00:02, 36.14it/s]\u001b[A\n",
      " 98%|█████████▊| 1960/2000 [00:53<00:01, 36.24it/s]\u001b[A\n",
      "100%|██████████| 2000/2000 [00:54<00:00, 37.16it/s]\u001b[A\n",
      "  0%|          | 0/4000 [00:00<?, ?it/s]\u001b[A\n",
      "  2%|▏         | 80/4000 [00:01<00:49, 79.71it/s]\u001b[A\n",
      "  3%|▎         | 120/4000 [00:02<01:03, 61.36it/s]\u001b[A\n",
      "  4%|▍         | 160/4000 [00:03<01:13, 52.47it/s]\u001b[A\n",
      "  5%|▌         | 200/4000 [00:04<01:20, 47.25it/s]\u001b[A\n",
      "  6%|▌         | 240/4000 [00:05<01:30, 41.48it/s]\u001b[A\n",
      "  7%|▋         | 280/4000 [00:06<01:41, 36.66it/s]\u001b[A\n",
      "  8%|▊         | 320/4000 [00:07<01:37, 37.80it/s]\u001b[A\n",
      "  9%|▉         | 360/4000 [00:08<01:35, 37.92it/s]\u001b[A\n",
      " 10%|█         | 400/4000 [00:09<01:33, 38.33it/s]\u001b[A\n",
      " 11%|█         | 440/4000 [00:10<01:31, 38.80it/s]\u001b[A\n",
      " 12%|█▏        | 480/4000 [00:11<01:31, 38.57it/s]\u001b[A\n",
      " 13%|█▎        | 520/4000 [00:12<01:30, 38.37it/s]\u001b[A\n",
      " 14%|█▍        | 560/4000 [00:14<01:33, 36.90it/s]\u001b[A\n",
      " 15%|█▌        | 600/4000 [00:15<01:31, 37.18it/s]\u001b[A\n",
      " 16%|█▌        | 640/4000 [00:16<01:30, 37.02it/s]\u001b[A\n",
      " 17%|█▋        | 680/4000 [00:17<01:27, 38.04it/s]\u001b[A\n",
      " 18%|█▊        | 720/4000 [00:18<01:28, 37.01it/s]\u001b[A\n",
      " 19%|█▉        | 760/4000 [00:19<01:25, 37.87it/s]\u001b[A\n",
      " 20%|██        | 800/4000 [00:20<01:25, 37.62it/s]\u001b[A\n",
      " 21%|██        | 840/4000 [00:21<01:23, 37.94it/s]\u001b[A\n",
      " 22%|██▏       | 880/4000 [00:22<01:22, 37.89it/s]\u001b[A\n",
      " 23%|██▎       | 920/4000 [00:23<01:25, 36.17it/s]\u001b[A\n",
      " 24%|██▍       | 960/4000 [00:24<01:20, 37.56it/s]\u001b[A\n",
      " 25%|██▌       | 1000/4000 [00:25<01:22, 36.21it/s]\u001b[A\n",
      " 26%|██▌       | 1040/4000 [00:26<01:18, 37.76it/s]\u001b[A\n",
      " 27%|██▋       | 1080/4000 [00:27<01:17, 37.56it/s]\u001b[A\n",
      " 28%|██▊       | 1120/4000 [00:29<01:17, 36.93it/s]\u001b[A\n",
      " 29%|██▉       | 1160/4000 [00:30<01:18, 35.95it/s]\u001b[A\n",
      " 30%|███       | 1200/4000 [00:31<01:18, 35.57it/s]\u001b[A\n",
      " 31%|███       | 1240/4000 [00:32<01:15, 36.34it/s]\u001b[A\n",
      " 32%|███▏      | 1280/4000 [00:33<01:14, 36.57it/s]\u001b[A\n",
      " 33%|███▎      | 1320/4000 [00:34<01:15, 35.42it/s]\u001b[A\n",
      " 34%|███▍      | 1360/4000 [00:35<01:11, 36.78it/s]\u001b[A\n",
      " 35%|███▌      | 1400/4000 [00:36<01:10, 37.04it/s]\u001b[A\n",
      " 36%|███▌      | 1440/4000 [00:37<01:10, 36.50it/s]\u001b[A\n",
      " 37%|███▋      | 1480/4000 [00:38<01:08, 36.66it/s]\u001b[A\n",
      " 38%|███▊      | 1520/4000 [00:39<01:06, 37.41it/s]\u001b[A\n",
      " 39%|███▉      | 1560/4000 [00:41<01:07, 36.24it/s]\u001b[A\n",
      " 40%|████      | 1600/4000 [00:42<01:05, 36.40it/s]\u001b[A\n",
      " 41%|████      | 1640/4000 [00:43<01:05, 35.99it/s]\u001b[A\n",
      " 42%|████▏     | 1680/4000 [00:44<01:00, 38.18it/s]\u001b[A\n",
      " 43%|████▎     | 1720/4000 [00:45<01:01, 36.88it/s]\u001b[A\n",
      " 44%|████▍     | 1760/4000 [00:46<00:59, 37.77it/s]\u001b[A\n",
      " 45%|████▌     | 1800/4000 [00:47<00:59, 36.92it/s]\u001b[A\n",
      " 46%|████▌     | 1840/4000 [00:48<00:58, 36.78it/s]\u001b[A\n",
      " 47%|████▋     | 1880/4000 [00:49<00:58, 36.29it/s]\u001b[A\n",
      " 48%|████▊     | 1920/4000 [00:50<00:57, 36.20it/s]\u001b[A\n",
      " 49%|████▉     | 1960/4000 [00:52<00:56, 35.81it/s]\u001b[A\n",
      " 50%|█████     | 2000/4000 [00:53<00:56, 35.21it/s]\u001b[A\n",
      " 51%|█████     | 2040/4000 [00:54<00:56, 34.88it/s]\u001b[A\n",
      " 52%|█████▏    | 2080/4000 [00:55<00:55, 34.60it/s]\u001b[A\n",
      " 53%|█████▎    | 2120/4000 [00:56<00:53, 35.19it/s]\u001b[A\n",
      " 54%|█████▍    | 2160/4000 [00:57<00:51, 35.57it/s]\u001b[A\n",
      " 55%|█████▌    | 2200/4000 [00:58<00:48, 36.84it/s]\u001b[A\n",
      " 56%|█████▌    | 2240/4000 [00:59<00:47, 37.03it/s]\u001b[A\n",
      " 57%|█████▋    | 2280/4000 [01:00<00:46, 36.62it/s]\u001b[A\n",
      " 58%|█████▊    | 2320/4000 [01:02<00:44, 37.42it/s]\u001b[A\n",
      " 59%|█████▉    | 2360/4000 [01:03<00:43, 37.68it/s]\u001b[A\n",
      " 60%|██████    | 2400/4000 [01:04<00:41, 38.52it/s]\u001b[A\n",
      " 61%|██████    | 2440/4000 [01:05<00:41, 37.84it/s]\u001b[A\n",
      " 62%|██████▏   | 2480/4000 [01:06<00:39, 38.22it/s]\u001b[A\n",
      " 63%|██████▎   | 2520/4000 [01:07<00:39, 37.21it/s]\u001b[A\n",
      " 64%|██████▍   | 2560/4000 [01:08<00:38, 37.61it/s]\u001b[A\n",
      " 65%|██████▌   | 2600/4000 [01:09<00:37, 37.72it/s]\u001b[A\n",
      " 66%|██████▌   | 2640/4000 [01:10<00:36, 37.44it/s]\u001b[A\n",
      " 67%|██████▋   | 2680/4000 [01:11<00:34, 38.20it/s]\u001b[A\n",
      " 68%|██████▊   | 2720/4000 [01:12<00:34, 37.51it/s]\u001b[A\n",
      " 69%|██████▉   | 2760/4000 [01:13<00:33, 37.38it/s]\u001b[A\n",
      " 70%|███████   | 2800/4000 [01:14<00:32, 36.58it/s]\u001b[A\n",
      " 71%|███████   | 2840/4000 [01:15<00:31, 36.95it/s]\u001b[A\n",
      " 72%|███████▏  | 2880/4000 [01:16<00:29, 37.44it/s]\u001b[A\n",
      " 73%|███████▎  | 2920/4000 [01:18<00:29, 36.73it/s]\u001b[A\n",
      " 74%|███████▍  | 2960/4000 [01:19<00:33, 30.59it/s]\u001b[A\n",
      " 75%|███████▌  | 3000/4000 [01:20<00:30, 32.81it/s]\u001b[A\n",
      " 76%|███████▌  | 3040/4000 [01:21<00:27, 34.43it/s]\u001b[A\n",
      " 77%|███████▋  | 3080/4000 [01:22<00:25, 36.09it/s]\u001b[A\n",
      " 78%|███████▊  | 3120/4000 [01:24<00:25, 35.00it/s]\u001b[A\n",
      " 79%|███████▉  | 3160/4000 [01:25<00:24, 34.85it/s]\u001b[A\n",
      " 80%|████████  | 3200/4000 [01:26<00:22, 35.92it/s]\u001b[A\n",
      " 81%|████████  | 3240/4000 [01:27<00:20, 36.69it/s]\u001b[A\n",
      " 82%|████████▏ | 3280/4000 [01:28<00:19, 36.03it/s]\u001b[A\n",
      " 83%|████████▎ | 3320/4000 [01:29<00:18, 36.14it/s]\u001b[A\n",
      " 84%|████████▍ | 3360/4000 [01:30<00:17, 36.00it/s]\u001b[A\n",
      " 85%|████████▌ | 3400/4000 [01:31<00:17, 35.29it/s]\u001b[A\n",
      " 86%|████████▌ | 3440/4000 [01:33<00:16, 34.71it/s]\u001b[A\n",
      " 87%|████████▋ | 3480/4000 [01:34<00:14, 35.80it/s]\u001b[A\n",
      " 88%|████████▊ | 3520/4000 [01:35<00:13, 35.06it/s]\u001b[A\n",
      " 89%|████████▉ | 3560/4000 [01:36<00:12, 34.49it/s]\u001b[A\n",
      " 90%|█████████ | 3600/4000 [01:37<00:11, 34.50it/s]\u001b[A\n",
      " 91%|█████████ | 3640/4000 [01:38<00:09, 36.26it/s]\u001b[A\n"
     ]
    },
    {
     "name": "stderr",
     "output_type": "stream",
     "text": [
      " 92%|█████████▏| 3680/4000 [01:39<00:08, 36.55it/s]\u001b[A\n",
      " 93%|█████████▎| 3720/4000 [01:40<00:07, 36.72it/s]\u001b[A\n",
      " 94%|█████████▍| 3760/4000 [01:41<00:06, 36.44it/s]\u001b[A\n",
      " 95%|█████████▌| 3800/4000 [01:43<00:05, 35.98it/s]\u001b[A\n",
      " 96%|█████████▌| 3840/4000 [01:44<00:04, 35.67it/s]\u001b[A\n",
      " 97%|█████████▋| 3880/4000 [01:45<00:03, 36.50it/s]\u001b[A\n",
      " 98%|█████████▊| 3920/4000 [01:46<00:02, 36.45it/s]\u001b[A\n",
      " 99%|█████████▉| 3960/4000 [01:47<00:01, 35.23it/s]\u001b[A\n",
      "100%|██████████| 4000/4000 [01:48<00:00, 35.32it/s]\u001b[A\n",
      "  0%|          | 0/2200 [00:00<?, ?it/s]\u001b[A\n",
      "  4%|▎         | 80/2200 [00:00<00:24, 85.37it/s]\u001b[A\n",
      "  5%|▌         | 120/2200 [00:02<00:35, 58.58it/s]\u001b[A\n",
      "  7%|▋         | 160/2200 [00:03<00:42, 48.49it/s]\u001b[A\n",
      "  9%|▉         | 200/2200 [00:04<00:43, 45.46it/s]\u001b[A\n",
      " 11%|█         | 240/2200 [00:05<00:48, 40.60it/s]\u001b[A\n",
      " 13%|█▎        | 280/2200 [00:06<00:47, 40.11it/s]\u001b[A\n",
      " 15%|█▍        | 320/2200 [00:07<00:47, 39.30it/s]\u001b[A\n",
      " 16%|█▋        | 360/2200 [00:08<00:49, 37.45it/s]\u001b[A\n",
      " 18%|█▊        | 400/2200 [00:09<00:48, 36.77it/s]\u001b[A\n",
      " 20%|██        | 440/2200 [00:11<00:48, 36.36it/s]\u001b[A\n",
      " 22%|██▏       | 480/2200 [00:12<00:47, 36.14it/s]\u001b[A\n",
      " 24%|██▎       | 520/2200 [00:13<00:45, 36.87it/s]\u001b[A\n",
      " 25%|██▌       | 560/2200 [00:14<00:43, 38.02it/s]\u001b[A\n",
      " 27%|██▋       | 600/2200 [00:15<00:44, 35.79it/s]\u001b[A\n",
      " 29%|██▉       | 640/2200 [00:16<00:41, 37.32it/s]\u001b[A\n",
      " 31%|███       | 680/2200 [00:17<00:42, 35.96it/s]\u001b[A\n",
      " 33%|███▎      | 720/2200 [00:18<00:40, 36.41it/s]\u001b[A\n",
      " 35%|███▍      | 760/2200 [00:19<00:39, 36.74it/s]\u001b[A\n",
      " 36%|███▋      | 800/2200 [00:20<00:38, 35.97it/s]\u001b[A\n",
      " 38%|███▊      | 840/2200 [00:22<00:37, 36.21it/s]\u001b[A\n",
      " 40%|████      | 880/2200 [00:23<00:36, 36.31it/s]\u001b[A\n",
      " 42%|████▏     | 920/2200 [00:24<00:34, 36.91it/s]\u001b[A\n",
      " 44%|████▎     | 960/2200 [00:25<00:33, 37.43it/s]\u001b[A\n",
      " 45%|████▌     | 1000/2200 [00:26<00:35, 34.05it/s]\u001b[A\n",
      " 47%|████▋     | 1040/2200 [00:27<00:33, 34.80it/s]\u001b[A\n",
      " 49%|████▉     | 1080/2200 [00:28<00:32, 34.98it/s]\u001b[A\n",
      " 51%|█████     | 1120/2200 [00:30<00:31, 34.48it/s]\u001b[A\n",
      " 53%|█████▎    | 1160/2200 [00:31<00:28, 35.91it/s]\u001b[A\n",
      " 55%|█████▍    | 1200/2200 [00:32<00:27, 36.54it/s]\u001b[A\n",
      " 56%|█████▋    | 1240/2200 [00:33<00:28, 34.27it/s]\u001b[A\n",
      " 58%|█████▊    | 1280/2200 [00:34<00:27, 33.04it/s]\u001b[A\n",
      " 60%|██████    | 1320/2200 [00:35<00:24, 35.65it/s]\u001b[A\n",
      " 62%|██████▏   | 1360/2200 [00:36<00:23, 35.88it/s]\u001b[A\n",
      " 64%|██████▎   | 1400/2200 [00:37<00:22, 36.07it/s]\u001b[A\n",
      " 65%|██████▌   | 1440/2200 [00:38<00:20, 36.79it/s]\u001b[A\n",
      " 67%|██████▋   | 1480/2200 [00:39<00:19, 37.04it/s]\u001b[A\n",
      " 69%|██████▉   | 1520/2200 [00:41<00:18, 36.20it/s]\u001b[A\n",
      " 71%|███████   | 1560/2200 [00:42<00:17, 36.60it/s]\u001b[A\n",
      " 73%|███████▎  | 1600/2200 [00:43<00:16, 36.98it/s]\u001b[A\n",
      " 75%|███████▍  | 1640/2200 [00:44<00:15, 36.85it/s]\u001b[A\n",
      " 76%|███████▋  | 1680/2200 [00:45<00:14, 36.20it/s]\u001b[A\n",
      " 78%|███████▊  | 1720/2200 [00:46<00:13, 35.23it/s]\u001b[A\n",
      " 80%|████████  | 1760/2200 [00:47<00:12, 35.67it/s]\u001b[A\n",
      " 82%|████████▏ | 1800/2200 [00:48<00:11, 35.67it/s]\u001b[A\n",
      " 84%|████████▎ | 1840/2200 [00:50<00:10, 35.41it/s]\u001b[A\n",
      " 85%|████████▌ | 1880/2200 [00:50<00:08, 38.06it/s]\u001b[A\n",
      " 87%|████████▋ | 1920/2200 [00:52<00:07, 36.01it/s]\u001b[A\n",
      " 89%|████████▉ | 1960/2200 [00:53<00:06, 35.31it/s]\u001b[A\n",
      " 91%|█████████ | 2000/2200 [00:54<00:05, 36.64it/s]\u001b[A\n",
      " 93%|█████████▎| 2040/2200 [00:55<00:04, 36.68it/s]\u001b[A\n",
      " 95%|█████████▍| 2080/2200 [00:56<00:03, 36.67it/s]\u001b[A\n",
      " 96%|█████████▋| 2120/2200 [00:57<00:02, 37.57it/s]\u001b[A\n",
      " 98%|█████████▊| 2160/2200 [00:58<00:01, 36.67it/s]\u001b[A\n",
      "100%|██████████| 2200/2200 [00:59<00:00, 36.27it/s]\u001b[A"
     ]
    }
   ],
   "source": [
    "ams_neutrality9 = []\n",
    "for i_folder in range(len(files)):\n",
    "    amps_tmp = np.array(Parallel(n_jobs=40)(delayed(get_amp_wraperZ)(i, fnames[i_folder]) for i in tqdm(range((files[i_folder])))))\n",
    "    ams_neutrality9 += list(np.array(amps_tmp)*etha)\n",
    "ams_neutrality9 = np.array(ams_neutrality9)"
   ]
  },
  {
   "cell_type": "code",
   "execution_count": 209,
   "metadata": {},
   "outputs": [],
   "source": [
    "## different spin voltage -- skip that\n",
    "# base_folder = r'/data/old_trap/20211001/bead1/'\n",
    "# fnames = [base_folder+r'neutrality11/Z_200Vpp_alternate_139Hz_spin_XY_117kHz_200Vpp_delay_6sec_with_height_fb/']\n",
    "# \n",
    "# files = [2500]"
   ]
  },
  {
   "cell_type": "code",
   "execution_count": 210,
   "metadata": {
    "scrolled": true
   },
   "outputs": [],
   "source": [
    "# ams_neutrality11 = []\n",
    "# for i_folder in range(len(files)):\n",
    "#     amps_tmp = np.array(Parallel(n_jobs=40)(delayed(get_amp_wraperZ)(i, fnames[i_folder]) for i in tqdm(range((files[i_folder])))))\n",
    "#     ams_neutrality11 += list(np.array(amps_tmp)*etha)\n",
    "# ams_neutrality11 = np.array(ams_neutrality11)"
   ]
  },
  {
   "cell_type": "code",
   "execution_count": 282,
   "metadata": {},
   "outputs": [],
   "source": [
    "amps_all2 = np.array(list(ams_neutrality67)+list(ams_neutrality8)+list(ams_neutrality9))"
   ]
  },
  {
   "cell_type": "code",
   "execution_count": 134,
   "metadata": {},
   "outputs": [
    {
     "data": {
      "application/vnd.jupyter.widget-view+json": {
       "model_id": "49d390d0a13e42e5aeb2ad22f0d90876",
       "version_major": 2,
       "version_minor": 0
      },
      "text/plain": [
       "Canvas(toolbar=Toolbar(toolitems=[('Home', 'Reset original view', 'home', 'home'), ('Back', 'Back to previous …"
      ]
     },
     "metadata": {},
     "output_type": "display_data"
    },
    {
     "name": "stdout",
     "output_type": "stream",
     "text": [
      "1st harmonic, electrode 1: mean, std:  -2.1770774109482787e-17 6.36621564849e-19\n",
      "1st harmonic, electrode 2: mean, std:  -3.4006400142683797e-17 8.26668817635e-19\n",
      "1st harmonic, A parameter: mean, std:  1.6335398254823102e-19 4.08094746576e-19\n",
      "1st harmonic, A parameter[epsilon]: mean, std:  2.04470070078e-05 5.10811919791e-05\n",
      "\n",
      "2nd harmonic, electrode 1: mean, std:  2.6225722784247494e-16 1.03524641174e-18\n",
      "2nd harmonic, electrode 2: mean, std:  5.314550594329019e-16 2.07933439476e-18\n",
      "2nd harmonic, B parameter: mean, std:  4.833558189430473e-16 1.35209130461e-18\n"
     ]
    }
   ],
   "source": [
    "data = amps_all[::2,0]\n",
    "data2 = amps_all[1::2,0]\n",
    "data3 = data-0.645*data2\n",
    "\n",
    "data_1 = np.abs(amps_all[::2,1])\n",
    "data2_1 = np.abs(amps_all[1::2,1])\n",
    "data3_1 = data_1+0.645*0.645*data2_1\n",
    "\n",
    "_, ax= plt.subplots(figsize=(9.5,4))\n",
    "ax.scatter(np.arange(len(data))*2*10/3600, data, label='200Vpp-z-plus, xy-spin-50Vpp-103kHz')\n",
    "ax.scatter(np.arange(len(data))*2*10/3600, data2, label='200Vpp-z-minus, xy-spin-50Vpp-103kHz', alpha=0.6)\n",
    "# ax.scatter(np.arange(len(data3))*2*10/3600, data3, label='200Vpp-z, A parameter', alpha=0.6)\n",
    "\n",
    "ax.plot(np.arange(len(data3))*2*10/3600, np.arange(len(data3))*0, '--k')\n",
    "ax.set(xlabel='Integration time [hr.]', ylabel=r'$\\epsilon$')\n",
    "ax.legend()\n",
    "print('1st harmonic, electrode 1: mean, std: ', np.mean(data), np.std(data)/np.sqrt(len(data)))\n",
    "print('1st harmonic, electrode 2: mean, std: ', np.mean(data2), np.std(data2)/np.sqrt(len(data2)))\n",
    "print('1st harmonic, A parameter: mean, std: ', np.mean(data3), np.std(data3)/np.sqrt(len(data3)))\n",
    "print('1st harmonic, A parameter[epsilon]: mean, std: ', np.mean(data3)*to_epsilon, to_epsilon*np.std(data3)/np.sqrt(len(data3)))\n",
    "\n",
    "print()\n",
    "print('2nd harmonic, electrode 1: mean, std: ', np.mean(data_1), np.std(data_1)/np.sqrt(len(data_1)))\n",
    "print('2nd harmonic, electrode 2: mean, std: ', np.mean(data2_1), np.std(data2_1)/np.sqrt(len(data2_1)))\n",
    "print('2nd harmonic, B parameter: mean, std: ', np.mean(data3_1), np.std(data3_1)/np.sqrt(len(data3_1)))"
   ]
  },
  {
   "cell_type": "code",
   "execution_count": 283,
   "metadata": {},
   "outputs": [
    {
     "data": {
      "application/vnd.jupyter.widget-view+json": {
       "model_id": "01019f714f3243beaa20b24eaf56a96c",
       "version_major": 2,
       "version_minor": 0
      },
      "text/plain": [
       "Canvas(toolbar=Toolbar(toolitems=[('Home', 'Reset original view', 'home', 'home'), ('Back', 'Back to previous …"
      ]
     },
     "metadata": {},
     "output_type": "display_data"
    },
    {
     "data": {
      "text/plain": [
       "[Text(0.5, 0, '$p_{ac}$ [e $\\\\mu$m]')]"
      ]
     },
     "execution_count": 283,
     "metadata": {},
     "output_type": "execute_result"
    }
   ],
   "source": [
    "fig, ax = plt.subplots()\n",
    "\n",
    "# data_11 = amps_all[::2,1]\n",
    "# data_12 = amps_all[::2,1] ## 4.8-pi/2\n",
    "# data_13 = amps_all[::2,1] ## 4.8\n",
    "# data_14 = amps_all[::2,1] ## 4.8+pi/2\n",
    "data_15 = amps_all[::2,1]## no phase \n",
    "data_16 = amps_all[::2,1]## sideband\n",
    "\n",
    "# _ = ax.hist(2*data_11/(1.1e5*200)/1.6e-19*1e6, range=(-300,300), bins=100)\n",
    "# _ = ax.hist(2*data_12/(1.1e5*200)/1.6e-19*1e6, range=(-300,300), bins=100)\n",
    "# _ = ax.hist(2*data_13/(1.1e5*200)/1.6e-19*1e6, range=(-300,300), bins=100)\n",
    "# _ = ax.hist(2*data_14/(1.1e5*200)/1.6e-19*1e6, range=(-300,300), bins=100)\n",
    "_ = ax.hist(2*data_15/(1.1e5*200)/1.6e-19*1e6, range=(-300,300), bins=100)\n",
    "_ = ax.hist(2*data_16/(1.1e5*200)/1.6e-19*1e6, range=(-300,300), bins=100)\n",
    "# _ = ax.hist(2*data_phase2/(1.1e5*200)/1.6e-19*1e6, range=(-300,300), bins=100)\n",
    "ax.set(xlabel='$p_{ac}$ [e $\\mu$m]')\n"
   ]
  },
  {
   "cell_type": "code",
   "execution_count": 273,
   "metadata": {},
   "outputs": [],
   "source": [
    "data_phase = (amps_all[0::2,3]/etha)%(np.pi) ## 4.8+pi/2\n",
    "data_phase2 = 2*amps_all[::2,1]/(1.1e5*200)/1.6e-19*1e6 ## 4.8+pi/2\n",
    "data_phase3 = ams_neutrality67[::2,1] ## 4.8+pi/2"
   ]
  },
  {
   "cell_type": "code",
   "execution_count": 258,
   "metadata": {},
   "outputs": [
    {
     "data": {
      "text/plain": [
       "array([236.44047117415414, -232.96567588985457, -229.7111158246102, ...,\n",
       "       -231.66826581855193, -211.65498366652804, -238.6539125080112], dtype=object)"
      ]
     },
     "execution_count": 258,
     "metadata": {},
     "output_type": "execute_result"
    }
   ],
   "source": [
    "data_phase2"
   ]
  },
  {
   "cell_type": "code",
   "execution_count": 259,
   "metadata": {},
   "outputs": [
    {
     "data": {
      "application/vnd.jupyter.widget-view+json": {
       "model_id": "5b05598bae7e42bd97686594b3a33a3b",
       "version_major": 2,
       "version_minor": 0
      },
      "text/plain": [
       "Canvas(toolbar=Toolbar(toolitems=[('Home', 'Reset original view', 'home', 'home'), ('Back', 'Back to previous …"
      ]
     },
     "metadata": {},
     "output_type": "display_data"
    }
   ],
   "source": [
    "_, ax = plt.subplots()\n",
    "# _ = ax.scatter(range(len(data_phase)), data_phase)\n",
    "_ = ax.scatter(data_phase2, data_phase)"
   ]
  },
  {
   "cell_type": "code",
   "execution_count": null,
   "metadata": {},
   "outputs": [],
   "source": []
  },
  {
   "cell_type": "code",
   "execution_count": 174,
   "metadata": {},
   "outputs": [],
   "source": [
    "np.save(\"all_200Vpp_ol_trap_alternate_sideband\", amps_all)"
   ]
  },
  {
   "cell_type": "code",
   "execution_count": 27,
   "metadata": {},
   "outputs": [
    {
     "data": {
      "application/vnd.jupyter.widget-view+json": {
       "model_id": "c7ab5936ab6b46bf8bc9449f3e2c4014",
       "version_major": 2,
       "version_minor": 0
      },
      "text/plain": [
       "Canvas(toolbar=Toolbar(toolitems=[('Home', 'Reset original view', 'home', 'home'), ('Back', 'Back to previous …"
      ]
     },
     "metadata": {},
     "output_type": "display_data"
    },
    {
     "name": "stdout",
     "output_type": "stream",
     "text": [
      "1st harmonic, A parameter: mean, std:  6.44059727924e-19 4.0429949334e-19\n",
      "1st harmonic, corrected A: mean, std:  6.44350521948e-19 3.24537364129e-19\n",
      "1st harmonic, A parameter[epsilon]: mean, std:  8.0653311491e-05 4.06209975897e-05\n"
     ]
    }
   ],
   "source": [
    "N = len(data)\n",
    "data_shifted = np.array([(data[i]+data[i-1])/2 for i in range(1,N)])\n",
    "data3_shifted = data_shifted-0.645*data2[:-1]\n",
    "\n",
    "_, ax= plt.subplots(figsize=(9.5,4))\n",
    "ax.scatter(np.arange(len(data3))*2*10/3600, data3, label='200Vpp-z-plus, A parameter')\n",
    "ax.scatter(np.arange(len(data3_shifted))*2*10/3600, data3_shifted, label='200Vpp-z, corrected A parameter', alpha=0.6)\n",
    "\n",
    "ax.plot(np.arange(len(data3))*2*10/3600, np.arange(len(data3))*0, '--k')\n",
    "ax.set(xlabel='Integration time [hr.]', ylabel=r'$\\epsilon$')\n",
    "ax.legend()\n",
    "print('1st harmonic, A parameter: mean, std: ', np.mean(data3), np.std(data3)/np.sqrt(len(data3)))\n",
    "print('1st harmonic, corrected A: mean, std: ', np.mean(data3_shifted), np.std(data3_shifted)/np.sqrt(len(data3_shifted)))\n",
    "print('1st harmonic, A parameter[epsilon]: mean, std: ', np.mean(data3_shifted)*to_epsilon, to_epsilon*np.std(data3_shifted)/np.sqrt(len(data3)))\n"
   ]
  },
  {
   "cell_type": "markdown",
   "metadata": {},
   "source": [
    "### Fitting"
   ]
  },
  {
   "cell_type": "code",
   "execution_count": null,
   "metadata": {},
   "outputs": [],
   "source": [
    "from scipy.optimize import curve_fit\n",
    "from scipy import asarray as ar,exp\n",
    "\n",
    "n_bins = 29\n",
    "range_pram = 0.02\n",
    "_,ax = plt.subplots()\n",
    "entries, bins, patches = ax.hist(data3*to_epsilon, bins=n_bins, range=(-range_pram, range_pram), label='200Vpp, all frequencies')\n",
    "# entries3, bins, patches = ax.hist(data2_1, bins=n_bins, label='150Vpp, 77kHz', alpha=0.6)\n",
    "ax.set(xlabel=r'Force [N]')\n",
    "# ax.legend()"
   ]
  },
  {
   "cell_type": "code",
   "execution_count": null,
   "metadata": {},
   "outputs": [],
   "source": [
    "data_new_trap = np.load('tmp.npy')"
   ]
  },
  {
   "cell_type": "code",
   "execution_count": null,
   "metadata": {},
   "outputs": [],
   "source": [
    "np.mean(data_hist), np.std(data_hist)/np.sqrt(len(data_hist))"
   ]
  },
  {
   "cell_type": "code",
   "execution_count": null,
   "metadata": {},
   "outputs": [],
   "source": [
    "n_bins = 21\n",
    "range_pram = 0.015\n",
    "data_hist = np.array(list(data_new_trap)+list(data3_shifted*to_epsilon))\n",
    "_,ax = plt.subplots()\n",
    "entries, bins, patches = ax.hist(data_hist, bins=n_bins, range=(-range_pram, range_pram), label='200Vpp, all frequencies')\n",
    "# entries3, bins, patches = ax.hist(data3, bins=n_bins, range=(-range_pram, range_pram), label='150Vpp, 77kHz', alpha=0.6)\n",
    "ax.set(xlabel=r'$\\epsilon$')\n",
    "ax.legend()"
   ]
  },
  {
   "cell_type": "code",
   "execution_count": null,
   "metadata": {},
   "outputs": [],
   "source": [
    "## gaussian fit to the histogram\n",
    "\n",
    "bins_fit =[(bins[i+1]-bins[i])/2+bins[i] for i in range(len(entries))]\n",
    "\n",
    "titles = ['', '', '']\n",
    "\n",
    "for i,ee in enumerate([entries]):\n",
    "    x = bins_fit\n",
    "    y= np.array(ee)\n",
    "    sigma_bin = np.sqrt(ee)\n",
    "    \n",
    "    n = len(x)                          #the number of data\n",
    "    mean = 0                  #note this correction\n",
    "    sigma = 0.03       #note this correction\n",
    "\n",
    "    def gaus(x,a,x0,sigma):\n",
    "        return a*np.exp(-(x-x0)**2/(2*sigma**2))\n",
    "\n",
    "    popt,pcov = curve_fit(gaus,x,y,p0=[1,mean,sigma])\n",
    "    ax.plot(x,gaus(x,*popt),'ro:',label='fit')\n",
    "\n",
    "    print(\"mean: \", popt[1], \" ,std (on the mean): \", popt[2]/np.sqrt(len(data)), \" ,sigma: \", popt[2])\n",
    "    print(\"std from the covariance matrix: \", np.sqrt(pcov[1,1]))\n",
    "    print('\\nNeutrality: ', 1/1.26e14*popt[2]/np.sqrt(len(data)))\n",
    "    print('Factor needed for neutrality best limit: ', 1/1.26e14*popt[2]/np.sqrt(len(data))/1e-21)"
   ]
  },
  {
   "cell_type": "code",
   "execution_count": null,
   "metadata": {},
   "outputs": [],
   "source": [
    "z_top_means = []\n",
    "z_bottom_mean = []\n",
    "z_top_std = []\n",
    "z_bottom_std = []\n",
    "\n",
    "bin_size = 10\n",
    "bins = len(data)//bin_size\n",
    "for i in range(bins):\n",
    "    z_top_means.append(np.mean(data[i*bin_size:(i+1)*bin_size]))\n",
    "    z_bottom_mean.append(np.mean(data2[i*bin_size:(i+1)*bin_size]))\n",
    "    z_top_std.append(np.std(data[i*bin_size:(i+1)*bin_size]))\n",
    "    z_bottom_std.append(np.std(data2[i*bin_size:(i+1)*bin_size]))\n",
    "z_top_means = np.array(z_top_means)\n",
    "z_top_std = np.array(z_top_std)\n",
    "z_bottom_mean = np.array(z_bottom_mean)\n",
    "z_bottom_std = np.array(z_bottom_std)"
   ]
  },
  {
   "cell_type": "code",
   "execution_count": null,
   "metadata": {},
   "outputs": [],
   "source": [
    "thresh = 0.015\n",
    "data3_eps = data3_shifted*to_epsilon\n",
    "data3_eps = data_hist\n",
    "thresh=3\n",
    "data3_filt = [dd for dd in data3_eps if dd<thresh if dd>-thresh]\n",
    "data3_filt = data_hist\n",
    "print(len(data3), len(data3_filt))\n",
    "print((len(data3_filt)-len(data3))/len(data3)*-100)"
   ]
  },
  {
   "cell_type": "code",
   "execution_count": null,
   "metadata": {},
   "outputs": [],
   "source": [
    "z_combine_means = []\n",
    "z_combine_std = []\n",
    "\n",
    "bin_size = 20\n",
    "bins = len(data3_filt)//bin_size\n",
    "for i in range(bins):\n",
    "    z_combine_means.append(np.mean(data3_filt[i*bin_size:(i+1)*bin_size]))\n",
    "    z_combine_std.append(np.std(data3_filt[i*bin_size:(i+1)*bin_size]))\n",
    "z_combine_means = np.array(z_combine_means)\n",
    "z_combine_std = np.array(z_combine_std)/np.sqrt(bin_size)"
   ]
  },
  {
   "cell_type": "code",
   "execution_count": 175,
   "metadata": {},
   "outputs": [
    {
     "data": {
      "application/vnd.jupyter.widget-view+json": {
       "model_id": "a4f851d5652d47969c533e818d03280c",
       "version_major": 2,
       "version_minor": 0
      },
      "text/plain": [
       "Canvas(toolbar=Toolbar(toolitems=[('Home', 'Reset original view', 'home', 'home'), ('Back', 'Back to previous …"
      ]
     },
     "metadata": {},
     "output_type": "display_data"
    },
    {
     "ename": "NameError",
     "evalue": "name 'z_combine_means' is not defined",
     "output_type": "error",
     "traceback": [
      "\u001b[0;31m---------------------------------------------------------------------------\u001b[0m",
      "\u001b[0;31mNameError\u001b[0m                                 Traceback (most recent call last)",
      "\u001b[0;32m<ipython-input-175-9775348cb3b4>\u001b[0m in \u001b[0;36m<module>\u001b[0;34m\u001b[0m\n\u001b[1;32m      1\u001b[0m \u001b[0m_\u001b[0m\u001b[0;34m,\u001b[0m\u001b[0max\u001b[0m \u001b[0;34m=\u001b[0m \u001b[0mplt\u001b[0m\u001b[0;34m.\u001b[0m\u001b[0msubplots\u001b[0m\u001b[0;34m(\u001b[0m\u001b[0mfigsize\u001b[0m\u001b[0;34m=\u001b[0m\u001b[0;34m(\u001b[0m\u001b[0;36m9.4\u001b[0m\u001b[0;34m,\u001b[0m\u001b[0;36m4\u001b[0m\u001b[0;34m)\u001b[0m\u001b[0;34m)\u001b[0m\u001b[0;34m\u001b[0m\u001b[0;34m\u001b[0m\u001b[0m\n\u001b[0;32m----> 2\u001b[0;31m \u001b[0miteration\u001b[0m \u001b[0;34m=\u001b[0m \u001b[0mnp\u001b[0m\u001b[0;34m.\u001b[0m\u001b[0marange\u001b[0m\u001b[0;34m(\u001b[0m\u001b[0mlen\u001b[0m\u001b[0;34m(\u001b[0m\u001b[0mz_combine_means\u001b[0m\u001b[0;34m)\u001b[0m\u001b[0;34m)\u001b[0m\u001b[0;34m*\u001b[0m\u001b[0;36m10\u001b[0m\u001b[0;34m*\u001b[0m\u001b[0mbin_size\u001b[0m\u001b[0;34m*\u001b[0m\u001b[0;36m2\u001b[0m\u001b[0;34m/\u001b[0m\u001b[0;36m3600\u001b[0m\u001b[0;34m\u001b[0m\u001b[0;34m\u001b[0m\u001b[0m\n\u001b[0m\u001b[1;32m      3\u001b[0m \u001b[0max\u001b[0m\u001b[0;34m.\u001b[0m\u001b[0mplot\u001b[0m\u001b[0;34m(\u001b[0m\u001b[0miteration\u001b[0m\u001b[0;34m,\u001b[0m \u001b[0miteration\u001b[0m\u001b[0;34m*\u001b[0m\u001b[0;36m0\u001b[0m\u001b[0;34m,\u001b[0m \u001b[0;34m'r--'\u001b[0m\u001b[0;34m)\u001b[0m\u001b[0;34m\u001b[0m\u001b[0;34m\u001b[0m\u001b[0m\n\u001b[1;32m      4\u001b[0m \u001b[0mtop_err\u001b[0m \u001b[0;34m=\u001b[0m \u001b[0mz_top_std\u001b[0m\u001b[0;34m/\u001b[0m\u001b[0mnp\u001b[0m\u001b[0;34m.\u001b[0m\u001b[0msqrt\u001b[0m\u001b[0;34m(\u001b[0m\u001b[0mbin_size\u001b[0m\u001b[0;34m)\u001b[0m\u001b[0;34m\u001b[0m\u001b[0;34m\u001b[0m\u001b[0m\n\u001b[1;32m      5\u001b[0m \u001b[0mbottom_err\u001b[0m \u001b[0;34m=\u001b[0m \u001b[0mz_bottom_std\u001b[0m\u001b[0;34m/\u001b[0m\u001b[0mnp\u001b[0m\u001b[0;34m.\u001b[0m\u001b[0msqrt\u001b[0m\u001b[0;34m(\u001b[0m\u001b[0mbin_size\u001b[0m\u001b[0;34m)\u001b[0m\u001b[0;34m\u001b[0m\u001b[0;34m\u001b[0m\u001b[0m\n",
      "\u001b[0;31mNameError\u001b[0m: name 'z_combine_means' is not defined"
     ]
    }
   ],
   "source": [
    "_,ax = plt.subplots(figsize=(9.4,4))\n",
    "iteration = np.arange(len(z_combine_means))*10*bin_size*2/3600\n",
    "ax.plot(iteration, iteration*0, 'r--')\n",
    "top_err = z_top_std/np.sqrt(bin_size)\n",
    "bottom_err = z_bottom_std/np.sqrt(bin_size)\n",
    "A = z_top_means-z_bottom_mean*0.66\n",
    "A_err = np.sqrt(top_err**2+top_err**2*0.66*0.66)\n",
    "# ax.errorbar(iteration, z_top_means, yerr=top_err, fmt='o', label='top electrode')\n",
    "# ax.errorbar(iteration, z_bottom_mean*0.66, yerr=bottom_err, fmt='o', label='bottom electrode')\n",
    "# ax.errorbar(iteration, A, yerr=A_err, fmt='o', label='A parameter')\n",
    "ax.errorbar(iteration, z_combine_means, yerr=z_combine_std, fmt='o', label='A parameter', alpha=0.3)\n",
    "# ax.errorbar(iteration, z_combine_means_2, yerr=z_combine_std_2, fmt='o', label='A parameter', alpha=0.3)\n",
    "ax.legend()\n",
    "ax.set(xlabel='Measuring time [hr.]', ylabel='Measured force [N]')\n",
    "# ax.errorbar(iteration, (z_top_means-z_bottom_mean*0.66)*to_epsilon, yerr=z_bottom_std/np.sqrt(10)*to_epsilon, fmt='o')"
   ]
  },
  {
   "cell_type": "code",
   "execution_count": null,
   "metadata": {},
   "outputs": [],
   "source": [
    "A_epsion = z_combine_means\n",
    "A_err_epsilon = z_combine_std\n",
    "def calculate_pl(force_):\n",
    "    chi2 = np.power((A_epsion-force_)/A_err_epsilon, 2)\n",
    "    return np.sum(chi2)"
   ]
  },
  {
   "cell_type": "code",
   "execution_count": null,
   "metadata": {},
   "outputs": [],
   "source": [
    "_,ax = plt.subplots()\n",
    "pl_range = np.arange(-3e-4,3e-4,2e-6)\n",
    "pl = np.array([calculate_pl(pl_range_) for pl_range_ in pl_range])\n",
    "ax.plot(pl_range*100000, pl-np.min(pl), 'o--')\n",
    "ax.plot(pl_range*100000, pl_range*0+2.7, 'r--')\n",
    "ax.set(xlabel=r'$\\epsilon [10^5]$', ylabel='PL')"
   ]
  },
  {
   "cell_type": "code",
   "execution_count": null,
   "metadata": {},
   "outputs": [],
   "source": [
    "_,ax = plt.subplots()\n",
    "pl_range = np.arange(-2e-4,1e-4,1e-5)\n",
    "pl = np.array([calculate_pl(pl_range_) for pl_range_ in pl_range])\n",
    "ax.plot(pl_range*100000, pl-np.min(pl), 'o--', label='-2log(likelihood)')\n",
    "ax.plot(pl_range*100000, pl_range*0+2.7, 'r--')\n",
    "ax.set(xlabel=r'$\\epsilon [10^5]$', ylabel='PL',)\n",
    "\n",
    "pl_range_plus = np.arange(0,1e-4,1e-5)\n",
    "pl_plus = np.array([calculate_pl(pl_range_) for pl_range_ in pl_range_plus])\n",
    "ax.plot(pl_range_plus*100000, pl_plus-np.min(pl_plus), 'o--', label='profile likelihood')\n",
    "\n",
    "pl_range_minus = np.arange(-2e-4,pl_range[np.argmin(pl)],1e-5)\n",
    "pl_minus = np.array([calculate_pl(pl_range_) for pl_range_ in pl_range_minus])\n",
    "ax.plot(pl_range_minus*100000, pl_minus-np.min(pl_minus), 'o--', label='profile likelihood')\n",
    "ax.set(xlim=(-15,8), ylim=(-0.1,6))\n",
    "ax.legend()\n",
    "print('mean ', pl_range[np.argmin(pl)])\n",
    "print('limit ', np.interp(2.71, (pl_minus-np.min(pl_minus))[::-1], pl_range_minus[::-1]), np.interp(2.71, pl_plus-np.min(pl_plus), pl_range_plus))"
   ]
  },
  {
   "cell_type": "code",
   "execution_count": null,
   "metadata": {},
   "outputs": [],
   "source": [
    "_,ax = plt.subplots()\n",
    "pl_range_plus = np.arange(0,1e-4,1e-5)\n",
    "pl_plus = np.array([calculate_pl(pl_range_) for pl_range_ in pl_range_plus])\n",
    "ax.plot(pl_range_plus*100000, pl_plus-np.min(pl_plus), 'o--')\n",
    "ax.plot(pl_range_plus*100000, pl_range_plus*0+2.7, 'r--')\n",
    "\n",
    "ax.set(xlabel=r'$\\epsilon [10^5]$', ylabel='PL')\n",
    "pl_range[np.argmin(pl)], np.interp(2.71, pl_plus-np.min(pl_plus), pl_range_plus)"
   ]
  },
  {
   "cell_type": "code",
   "execution_count": null,
   "metadata": {},
   "outputs": [],
   "source": [
    "_,ax = plt.subplots()\n",
    "pl_range_minus = np.arange(-2e-4,pl_range[np.argmin(pl)],1e-5)\n",
    "pl_minus = np.array([calculate_pl(pl_range_) for pl_range_ in pl_range_minus])\n",
    "ax.plot(pl_range_minus*100000, pl_minus-np.min(pl_minus), 'o--')\n",
    "ax.plot(pl_range_minus*100000, pl_range_minus*0+2.7, 'r--')\n",
    "\n",
    "ax.set(xlabel=r'$\\epsilon [10^5]$', ylabel='PL')\n",
    "pl_range[np.argmin(pl)], np.interp(2.71, (pl_minus-np.min(pl_minus))[::-1], pl_range_minus[::-1])"
   ]
  },
  {
   "cell_type": "code",
   "execution_count": null,
   "metadata": {},
   "outputs": [],
   "source": []
  },
  {
   "cell_type": "code",
   "execution_count": null,
   "metadata": {},
   "outputs": [],
   "source": []
  }
 ],
 "metadata": {
  "kernelspec": {
   "display_name": "Python 3",
   "language": "python",
   "name": "python3"
  },
  "language_info": {
   "codemirror_mode": {
    "name": "ipython",
    "version": 3
   },
   "file_extension": ".py",
   "mimetype": "text/x-python",
   "name": "python",
   "nbconvert_exporter": "python",
   "pygments_lexer": "ipython3",
   "version": "3.6.9"
  }
 },
 "nbformat": 4,
 "nbformat_minor": 4
}
