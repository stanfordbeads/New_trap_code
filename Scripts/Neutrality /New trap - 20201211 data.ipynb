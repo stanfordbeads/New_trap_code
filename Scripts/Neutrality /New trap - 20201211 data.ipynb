{
 "cells": [
  {
   "cell_type": "code",
   "execution_count": 33,
   "metadata": {},
   "outputs": [],
   "source": [
    "import numpy as np\n",
    "import matplotlib.pyplot as plt\n",
    "import matplotlib\n",
    "from scipy import signal\n",
    "import random\n",
    "\n",
    "import h5py\n",
    "from IPython.utils import io\n",
    "\n",
    "from joblib import Parallel, delayed\n",
    "from tqdm import tqdm"
   ]
  },
  {
   "cell_type": "code",
   "execution_count": 2,
   "metadata": {},
   "outputs": [],
   "source": [
    "%matplotlib widget"
   ]
  },
  {
   "cell_type": "code",
   "execution_count": 3,
   "metadata": {},
   "outputs": [],
   "source": [
    "%reload_ext autoreload\n",
    "%autoreload 2"
   ]
  },
  {
   "cell_type": "code",
   "execution_count": 4,
   "metadata": {},
   "outputs": [],
   "source": [
    "import sys\n",
    "sys.path.append('../../../../nadavp/new_trap/Tools/')\n",
    "sys.path.append('../../../../nadavp/new_trap/Tools/StatFramework/')\n",
    "import BeadDataFile\n",
    "from discharge_tools import *"
   ]
  },
  {
   "cell_type": "code",
   "execution_count": 5,
   "metadata": {},
   "outputs": [],
   "source": [
    "from likelihood_calculator import likelihood_analyser\n",
    "from likelihood_calculator import GravityFramework\n",
    "from likelihood_calculator import auxiliary_functions as aux\n",
    "gfw = GravityFramework.GravityFramework()"
   ]
  },
  {
   "cell_type": "code",
   "execution_count": 6,
   "metadata": {},
   "outputs": [
    {
     "name": "stdout",
     "output_type": "stream",
     "text": [
      "140  files in folder\n",
      "140  files loaded\n"
     ]
    }
   ],
   "source": [
    "bdf_discharge = load_dir(dirname='/data/new_trap/20201211/Bead1/Discharge/', \n",
    "                         start_file=0, max_file=1000)"
   ]
  },
  {
   "cell_type": "code",
   "execution_count": 28,
   "metadata": {
    "scrolled": true
   },
   "outputs": [
    {
     "name": "stdout",
     "output_type": "stream",
     "text": [
      "***************************************************\n",
      "Z2-amplitude:  5.43e+02\n",
      "reduced chi2:  2646.793542295234\n",
      "***************************************************\n",
      "Z2-amplitude:  5.33e+02\n",
      "reduced chi2:  3319.524309611409\n",
      "***************************************************\n",
      "Z2-amplitude:  5.19e+02\n",
      "reduced chi2:  3394.89517493878\n",
      "***************************************************\n",
      "Z2-amplitude:  5.42e+02\n",
      "reduced chi2:  4489.5472918467785\n",
      "***************************************************\n",
      "Z2-amplitude:  4.90e+02\n",
      "reduced chi2:  3476.401827703078\n",
      "***************************************************\n",
      "Z2-amplitude:  5.37e+02\n",
      "reduced chi2:  3312.560063584056\n",
      "***************************************************\n",
      "Z2-amplitude:  5.32e+02\n",
      "reduced chi2:  2307.5936517583245\n",
      "***************************************************\n",
      "Z2-amplitude:  4.93e+02\n",
      "reduced chi2:  2771.955242726302\n",
      "***************************************************\n",
      "Z2-amplitude:  5.32e+02\n",
      "reduced chi2:  4693.470882505988\n",
      "***************************************************\n",
      "Z2-amplitude:  5.20e+02\n",
      "reduced chi2:  5076.0424863585295\n",
      "***************************************************\n",
      "Z2-amplitude:  4.70e+02\n",
      "reduced chi2:  6596.591233702017\n",
      "***************************************************\n",
      "Z2-amplitude:  4.93e+02\n",
      "reduced chi2:  3253.597966132106\n",
      "***************************************************\n",
      "Z2-amplitude:  5.05e+02\n",
      "reduced chi2:  9437.667780371314\n",
      "***************************************************\n",
      "Z2-amplitude:  4.78e+02\n",
      "reduced chi2:  5952.679236766645\n",
      "***************************************************\n",
      "Z2-amplitude:  5.08e+02\n",
      "reduced chi2:  7362.671346226446\n",
      "***************************************************\n",
      "Z2-amplitude:  5.05e+02\n",
      "reduced chi2:  6845.730865569387\n",
      "***************************************************\n",
      "Z2-amplitude:  4.84e+02\n",
      "reduced chi2:  8592.854135632291\n",
      "***************************************************\n",
      "Z2-amplitude:  5.41e+02\n",
      "reduced chi2:  6538.885797673413\n",
      "***************************************************\n",
      "Z2-amplitude:  4.88e+02\n",
      "reduced chi2:  5982.095488947221\n",
      "***************************************************\n",
      "Z2-amplitude:  5.07e+02\n",
      "reduced chi2:  7014.908060779259\n",
      "Z2 response (amplitude): -511.0290824156091\n"
     ]
    }
   ],
   "source": [
    "bandwidth = 2\n",
    "decimate = 10\n",
    "charges = 6\n",
    "m3 = gfw.build_z_response(bdf_discharge[20:40], drive_freq=71, charges=charges, bandwidth=bandwidth, decimate=decimate, bimodal=False)"
   ]
  },
  {
   "cell_type": "code",
   "execution_count": 30,
   "metadata": {},
   "outputs": [
    {
     "name": "stdout",
     "output_type": "stream",
     "text": [
      "Scale is  85.17151373593485\n"
     ]
    }
   ],
   "source": [
    "scale = np.abs(np.mean([m_.values[0] for m_ in m3]))/charges\n",
    "print(\"Scale is \", scale)"
   ]
  },
  {
   "cell_type": "code",
   "execution_count": null,
   "metadata": {},
   "outputs": [],
   "source": []
  },
  {
   "cell_type": "code",
   "execution_count": null,
   "metadata": {},
   "outputs": [],
   "source": []
  },
  {
   "cell_type": "code",
   "execution_count": null,
   "metadata": {},
   "outputs": [],
   "source": []
  },
  {
   "cell_type": "code",
   "execution_count": 25,
   "metadata": {},
   "outputs": [],
   "source": [
    "ll = likelihood_analyser.LikelihoodAnalyser()\n",
    "def func1_scale(i):\n",
    "# for i,bdf_ in enumerate(data_bdfs2):\n",
    "    print(i,'  ******************')\n",
    "    fname = r'/data/new_trap/20201211/Bead1/Discharge/Neutrality_20201211/Discharge_'+str(i)+'.h5'\n",
    "    bb = BeadDataFile.BeadDataFile(fname=fname)\n",
    "    drive_freq = int(bb.cant_freq)\n",
    "    fit_kwargs = {'A': 0, 'f': drive_freq, 'phi': 0, \n",
    "                  'error_A': 1, 'error_f': 1, 'error_phi': 0.5, 'errordef': 1,\n",
    "                  'limit_phi': [-2 * np.pi, 2 * np.pi], \n",
    "                  'limit_A': [-1000, 1000], \n",
    "                  'print_level': 0, 'fix_f': True, 'fix_phi': True}\n",
    "\n",
    "    frequency = fit_kwargs['f']\n",
    "\n",
    "    xx2 = bb.response_at_freq2('z', frequency, bandwidth=bandwidth)\n",
    "    xx2 = xx2[5000:-5000:decimate]  # cut out the first and last second\n",
    "\n",
    "    m1_tmp = ll.find_mle_sin(xx2, fsamp=500, noise_rms=1, plot=False, suppress_print=True, **fit_kwargs)\n",
    "\n",
    "\n",
    "    return m1_tmp.values[0]"
   ]
  },
  {
   "cell_type": "code",
   "execution_count": 31,
   "metadata": {},
   "outputs": [
    {
     "name": "stdout",
     "output_type": "stream",
     "text": [
      "100   ******************\n"
     ]
    },
    {
     "data": {
      "text/plain": [
       "0.8154523916768461"
      ]
     },
     "execution_count": 31,
     "metadata": {},
     "output_type": "execute_result"
    }
   ],
   "source": [
    "func1_scale(100)/scale"
   ]
  },
  {
   "cell_type": "code",
   "execution_count": 37,
   "metadata": {},
   "outputs": [
    {
     "name": "stderr",
     "output_type": "stream",
     "text": [
      "100%|██████████| 10000/10000 [08:12<00:00, 17.01it/s]\n"
     ]
    }
   ],
   "source": [
    "res_tmp = np.array(Parallel(n_jobs=10)(delayed(func1_scale)(i) for i in tqdm(range(10000))))"
   ]
  },
  {
   "cell_type": "code",
   "execution_count": 41,
   "metadata": {},
   "outputs": [],
   "source": [
    "scale2 = np.mean(res_tmp[:3000])"
   ]
  },
  {
   "cell_type": "code",
   "execution_count": 44,
   "metadata": {},
   "outputs": [
    {
     "data": {
      "application/vnd.jupyter.widget-view+json": {
       "model_id": "f5e42912ff664fdcb5447b11a24e1b3b",
       "version_major": 2,
       "version_minor": 0
      },
      "text/plain": [
       "Canvas(toolbar=Toolbar(toolitems=[('Home', 'Reset original view', 'home', 'home'), ('Back', 'Back to previous …"
      ]
     },
     "metadata": {},
     "output_type": "display_data"
    }
   ],
   "source": [
    "_, ax= plt.subplots(figsize=(9.5,4))\n",
    "ax.scatter(range(len(res_tmp)), res_tmp/scale2, label='10V, 71Hz., NoSpin')\n",
    "ax.set(xlabel='Dataset', ylabel=r'$\\epsilon$')\n",
    "ax.legend()\n",
    "ax.grid(axis='y')\n",
    "ax.minorticks_on()\n",
    "ax.grid(which='major', linestyle='-', linewidth='0.5', color='red')\n",
    "ax.grid(which='minor', linestyle=':', linewidth='0.5', color='black')\n",
    "ax.legend()\n",
    "from matplotlib.ticker import MaxNLocator\n",
    "ax.yaxis.set_major_locator(MaxNLocator(integer=True))"
   ]
  },
  {
   "cell_type": "code",
   "execution_count": null,
   "metadata": {},
   "outputs": [],
   "source": []
  }
 ],
 "metadata": {
  "kernelspec": {
   "display_name": "Python 3",
   "language": "python",
   "name": "python3"
  },
  "language_info": {
   "codemirror_mode": {
    "name": "ipython",
    "version": 3
   },
   "file_extension": ".py",
   "mimetype": "text/x-python",
   "name": "python",
   "nbconvert_exporter": "python",
   "pygments_lexer": "ipython3",
   "version": "3.6.9"
  }
 },
 "nbformat": 4,
 "nbformat_minor": 4
}
