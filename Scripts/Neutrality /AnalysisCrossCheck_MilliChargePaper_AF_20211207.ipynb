{
 "cells": [
  {
   "cell_type": "code",
   "execution_count": 41,
   "metadata": {},
   "outputs": [],
   "source": [
    "%run /home/analysis_user/New_trap_code/Tools/basic_packages.py\n",
    "sys.path.append('../../../../nadavp/opt_lev_analysis/lib/')\n",
    "import bead_util as bu\n",
    "import configuration as config"
   ]
  },
  {
   "cell_type": "code",
   "execution_count": 42,
   "metadata": {},
   "outputs": [
    {
     "name": "stdout",
     "output_type": "stream",
     "text": [
      "175\n"
     ]
    }
   ],
   "source": [
    "# old trap \n",
    "\n",
    "## load all data to a list - step_file_objs\n",
    "step_cal_dir = r'/data/old_trap/20211001/bead1/discharge/recharge_20211013/'\n",
    "max_file = 500\n",
    "\n",
    "step_cal_files = []\n",
    "for root, dirnames, filenames in os.walk(step_cal_dir):\n",
    "    for filename in fnmatch.filter(filenames, '*' + config.extensions['data']):\n",
    "        if '_fpga.h5' in filename:\n",
    "            continue\n",
    "        step_cal_files.append(os.path.join(root, filename))\n",
    "step_cal_files.sort(key = bu.find_str)\n",
    "num_calib_files = len(step_cal_files)\n",
    "print(num_calib_files)\n",
    "\n",
    "# Do the step calibration\n",
    "\n",
    "step_file_objs = []\n",
    "for filname in step_cal_files[:]:\n",
    "    try:\n",
    "        df = bu.DataFile();\n",
    "        df.load(filname);\n",
    "        df.load_other_data()\n",
    "        step_file_objs.append(df);\n",
    "    except:\n",
    "        print('***')"
   ]
  },
  {
   "cell_type": "code",
   "execution_count": 199,
   "metadata": {},
   "outputs": [
    {
     "name": "stdout",
     "output_type": "stream",
     "text": [
      "0 / 175\n",
      "1 / 175\n",
      "2 / 175\n",
      "3 / 175\n",
      "4 / 175\n",
      "5 / 175\n",
      "6 / 175\n",
      "7 / 175\n",
      "8 / 175\n",
      "9 / 175\n",
      "10 / 175\n",
      "11 / 175\n",
      "12 / 175\n",
      "13 / 175\n",
      "14 / 175\n",
      "15 / 175\n",
      "16 / 175\n",
      "17 / 175\n",
      "18 / 175\n",
      "19 / 175\n",
      "20 / 175\n",
      "21 / 175\n",
      "22 / 175\n",
      "23 / 175\n",
      "24 / 175\n",
      "25 / 175\n",
      "26 / 175\n",
      "27 / 175\n",
      "28 / 175\n",
      "29 / 175\n",
      "30 / 175\n",
      "31 / 175\n",
      "32 / 175\n",
      "33 / 175\n",
      "34 / 175\n",
      "35 / 175\n",
      "36 / 175\n",
      "37 / 175\n",
      "38 / 175\n",
      "39 / 175\n",
      "40 / 175\n",
      "41 / 175\n",
      "42 / 175\n",
      "43 / 175\n",
      "44 / 175\n",
      "45 / 175\n",
      "46 / 175\n",
      "47 / 175\n",
      "48 / 175\n",
      "49 / 175\n",
      "50 / 175\n",
      "51 / 175\n",
      "52 / 175\n",
      "53 / 175\n",
      "54 / 175\n",
      "55 / 175\n",
      "56 / 175\n",
      "57 / 175\n",
      "58 / 175\n",
      "59 / 175\n",
      "60 / 175\n",
      "61 / 175\n",
      "62 / 175\n",
      "63 / 175\n",
      "64 / 175\n",
      "65 / 175\n",
      "66 / 175\n",
      "67 / 175\n",
      "68 / 175\n",
      "69 / 175\n",
      "70 / 175\n",
      "71 / 175\n",
      "72 / 175\n",
      "73 / 175\n",
      "74 / 175\n",
      "75 / 175\n",
      "76 / 175\n",
      "77 / 175\n",
      "78 / 175\n",
      "79 / 175\n",
      "80 / 175\n",
      "81 / 175\n",
      "82 / 175\n",
      "83 / 175\n",
      "84 / 175\n",
      "85 / 175\n",
      "86 / 175\n",
      "87 / 175\n",
      "88 / 175\n",
      "89 / 175\n",
      "90 / 175\n",
      "91 / 175\n",
      "92 / 175\n",
      "93 / 175\n",
      "94 / 175\n",
      "95 / 175\n",
      "96 / 175\n",
      "97 / 175\n",
      "98 / 175\n",
      "99 / 175\n",
      "100 / 175\n",
      "101 / 175\n",
      "102 / 175\n",
      "103 / 175\n",
      "104 / 175\n",
      "105 / 175\n",
      "106 / 175\n",
      "107 / 175\n",
      "108 / 175\n",
      "109 / 175\n",
      "110 / 175\n",
      "111 / 175\n",
      "112 / 175\n",
      "113 / 175\n",
      "114 / 175\n",
      "115 / 175\n",
      "116 / 175\n",
      "117 / 175\n",
      "118 / 175\n",
      "119 / 175\n",
      "120 / 175\n",
      "121 / 175\n",
      "122 / 175\n",
      "123 / 175\n",
      "124 / 175\n",
      "125 / 175\n",
      "126 / 175\n",
      "127 / 175\n",
      "128 / 175\n",
      "129 / 175\n",
      "130 / 175\n",
      "131 / 175\n",
      "132 / 175\n",
      "133 / 175\n",
      "134 / 175\n",
      "135 / 175\n",
      "136 / 175\n",
      "137 / 175\n",
      "138 / 175\n",
      "139 / 175\n",
      "140 / 175\n",
      "141 / 175\n",
      "142 / 175\n",
      "143 / 175\n",
      "144 / 175\n",
      "145 / 175\n",
      "146 / 175\n",
      "147 / 175\n",
      "148 / 175\n",
      "149 / 175\n",
      "150 / 175\n",
      "151 / 175\n",
      "152 / 175\n",
      "153 / 175\n",
      "154 / 175\n",
      "155 / 175\n",
      "156 / 175\n",
      "157 / 175\n",
      "158 / 175\n",
      "159 / 175\n",
      "160 / 175\n",
      "161 / 175\n",
      "162 / 175\n",
      "163 / 175\n",
      "164 / 175\n",
      "165 / 175\n",
      "166 / 175\n",
      "167 / 175\n",
      "168 / 175\n",
      "169 / 175\n",
      "170 / 175\n",
      "171 / 175\n",
      "172 / 175\n",
      "173 / 175\n",
      "174 / 175\n"
     ]
    }
   ],
   "source": [
    "## run the function on all calibration files\n",
    "amps = []\n",
    "for i in range(num_calib_files):\n",
    "    print(i,'/',len(step_cal_files))\n",
    "    amps.append(correlation(sigdrive(step_file_objs[i].other_data[5]), step_file_objs[i].pos_data[1] , fsamp=5000, fdrive=139,filt=True,band_width=3)[0])"
   ]
  },
  {
   "cell_type": "code",
   "execution_count": 200,
   "metadata": {},
   "outputs": [
    {
     "name": "stdout",
     "output_type": "stream",
     "text": [
      "0.839213139698\n",
      "175 175\n",
      "175 175\n"
     ]
    },
    {
     "data": {
      "image/png": "[encoded data removed]",
      "text/plain": [
       "<Figure size 684x288 with 1 Axes>"
      ]
     },
     "metadata": {
      "needs_background": "light"
     },
     "output_type": "display_data"
    }
   ],
   "source": [
    "amps = np.array(amps)\n",
    "scaleY = np.abs(np.mean(amps[150:]))/4 ## scale is taken from the highest step\n",
    "offset = np.abs(np.mean(amps[0:20]))\n",
    "print(offset)\n",
    "\n",
    "_,ax = plt.subplots(figsize=(9.5,4))\n",
    "xval = range(len(amps))\n",
    "yval = amps/(scaleY-offset)\n",
    "print(len(xval),np.size(xval))\n",
    "print(len(yval),np.size(yval))\n",
    "ax.scatter(xval ,yval, label='fit phase')\n",
    "\n",
    "ax.set(xlabel='dataset', ylabel='electron charges', xlim=(None,None))\n",
    "ax.grid(axis='y')\n",
    "ax.minorticks_on()\n",
    "ax.grid(which='major', linestyle='-', linewidth='0.5', color='red')\n",
    "ax.grid(which='minor', linestyle=':', linewidth='0.5', color='black')\n",
    "from matplotlib.ticker import MaxNLocator\n",
    "\n",
    "ax.yaxis.set_major_locator(MaxNLocator(integer=True))"
   ]
  },
  {
   "cell_type": "code",
   "execution_count": 201,
   "metadata": {},
   "outputs": [
    {
     "name": "stdout",
     "output_type": "stream",
     "text": [
      "Scale is  100.73759443\n",
      "voltage_calib:  23.2924528872\n"
     ]
    }
   ],
   "source": [
    "drive_freq = 139\n",
    "print(\"Scale is \", scaleY)\n",
    "bb = step_file_objs[-1]\n",
    "b, a = signal.butter(3, [2.*(drive_freq-band_width/2.)/fsamp, 2.*(drive_freq+band_width/2.)/fsamp ], btype = 'bandpass')\n",
    "xx2 = signal.filtfilt(b, a, bb.other_data[5])\n",
    "voltage_calib = np.std(xx2)*np.sqrt(2)*100\n",
    "print(\"voltage_calib: \", voltage_calib)"
   ]
  },
  {
   "cell_type": "code",
   "execution_count": 25,
   "metadata": {},
   "outputs": [
    {
     "data": {
      "text/plain": [
       "175"
      ]
     },
     "execution_count": 25,
     "metadata": {},
     "output_type": "execute_result"
    }
   ],
   "source": [
    "len(amps/scaleY)"
   ]
  },
  {
   "cell_type": "code",
   "execution_count": null,
   "metadata": {},
   "outputs": [],
   "source": []
  }
 ],
 "metadata": {
  "kernelspec": {
   "display_name": "Python 3",
   "language": "python",
   "name": "python3"
  },
  "language_info": {
   "codemirror_mode": {
    "name": "ipython",
    "version": 3
   },
   "file_extension": ".py",
   "mimetype": "text/x-python",
   "name": "python",
   "nbconvert_exporter": "python",
   "pygments_lexer": "ipython3",
   "version": "3.6.9"
  }
 },
 "nbformat": 4,
 "nbformat_minor": 4
}
