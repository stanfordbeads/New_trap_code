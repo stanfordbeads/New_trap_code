{
 "cells": [
  {
   "cell_type": "code",
   "execution_count": 8,
   "metadata": {},
   "outputs": [],
   "source": [
    "import numpy as np\n",
    "import matplotlib.pyplot as plt\n",
    "import matplotlib\n",
    "from scipy import signal\n",
    "from scipy.optimize import minimize\n",
    "\n",
    "import random\n",
    "\n",
    "import h5py\n",
    "from IPython.utils import io\n",
    "\n",
    "from joblib import Parallel, delayed\n",
    "from tqdm import tqdm\n",
    "import sys"
   ]
  },
  {
   "cell_type": "code",
   "execution_count": 9,
   "metadata": {},
   "outputs": [],
   "source": [
    "%matplotlib widget\n",
    "\n",
    "%reload_ext autoreload\n",
    "%autoreload 2"
   ]
  },
  {
   "cell_type": "code",
   "execution_count": 10,
   "metadata": {},
   "outputs": [],
   "source": [
    "sys.path.append('../../../../nadavp/new_trap/Tools/')\n",
    "sys.path.append('../../../../nadavp/new_trap/Tools/StatFramework/')\n",
    "sys.path.append('../../../../nadavp/opt_lev_analysis/lib/')\n",
    "import BeadDataFile\n",
    "from discharge_tools import *"
   ]
  },
  {
   "cell_type": "code",
   "execution_count": 11,
   "metadata": {},
   "outputs": [],
   "source": [
    "from likelihood_calculator import likelihood_analyser\n",
    "from likelihood_calculator import GravityFramework\n",
    "from likelihood_calculator import auxiliary_functions as aux\n",
    "gfw = GravityFramework.GravityFramework()"
   ]
  },
  {
   "cell_type": "code",
   "execution_count": 12,
   "metadata": {},
   "outputs": [],
   "source": [
    "import bead_util as bu\n",
    "# import calib_util as cal\n",
    "import transfer_func_util as tf\n",
    "import configuration as config"
   ]
  },
  {
   "cell_type": "markdown",
   "metadata": {},
   "source": [
    "### Discharge data"
   ]
  },
  {
   "cell_type": "code",
   "execution_count": 420,
   "metadata": {},
   "outputs": [],
   "source": [
    "ll = likelihood_analyser.LikelihoodAnalyser()\n",
    "bandwidth = 1\n",
    "decimate = 10\n",
    "drive_freq = 139\n",
    "fsamp = 5000\n",
    "def func1_scale(i):\n",
    "    bb = step_file_objs[i]\n",
    "        \n",
    "    freq2 = np.fft.rfftfreq(len(bb.other_data[3]), d=1./5000)\n",
    "    fft_angles = np.angle(np.fft.rfft(bb.other_data[3]))\n",
    "    phi_tmp2 = (fft_angles[freq2==drive_freq]+np.pi/2)%(2*np.pi)\n",
    "    print(phi_tmp2,np.std(bb.other_data[3])*np.sqrt(2)*100)\n",
    "\n",
    "    fit_kwargs = {'A': 0, 'f': drive_freq, 'phi': phi_tmp2, \n",
    "                  'error_A': 1, 'error_f': 1, 'error_phi': 0.5, 'errordef': 1,\n",
    "                  'limit_A': [-10000, 100000], \n",
    "                  'print_level': 0, 'fix_f': True, 'fix_phi': True}\n",
    "\n",
    "    frequency = fit_kwargs['f']\n",
    "\n",
    "    b, a = signal.butter(3, [2.*(drive_freq-bandwidth/2.)/fsamp, 2.*(drive_freq+bandwidth/2.)/fsamp ], btype = 'bandpass')\n",
    "    bb.load_other_data()\n",
    "    xx2 = signal.filtfilt(b, a, bb.pos_data[0])[::decimate]\n",
    "    \n",
    "    m1_tmp = ll.find_mle_sin(xx2, fsamp=5000/decimate, noise_rms=1, plot=False, suppress_print=True, **fit_kwargs)\n",
    "#     print(m1_tmp.values[2]-phi_tmp2)\n",
    "    return m1_tmp.values[0]"
   ]
  },
  {
   "cell_type": "code",
   "execution_count": 421,
   "metadata": {},
   "outputs": [
    {
     "name": "stdout",
     "output_type": "stream",
     "text": [
      "[ 3.55299124] 0.0896765355016\n"
     ]
    },
    {
     "data": {
      "text/plain": [
       "795.1782780584945"
      ]
     },
     "execution_count": 421,
     "metadata": {},
     "output_type": "execute_result"
    }
   ],
   "source": [
    "func1_scale(0)"
   ]
  },
  {
   "cell_type": "code",
   "execution_count": 581,
   "metadata": {},
   "outputs": [],
   "source": [
    "step_cal_dir = r'/data/old_trap/20211001/bead1/discharge/discahrge_20211013/'\n",
    "max_file = 500"
   ]
  },
  {
   "cell_type": "code",
   "execution_count": 819,
   "metadata": {},
   "outputs": [
    {
     "name": "stdout",
     "output_type": "stream",
     "text": [
      "443\n"
     ]
    }
   ],
   "source": [
    "step_cal_files = []\n",
    "for root, dirnames, filenames in os.walk(step_cal_dir):\n",
    "    for filename in fnmatch.filter(filenames, '*' + config.extensions['data']):\n",
    "        if '_fpga.h5' in filename:\n",
    "            continue\n",
    "        step_cal_files.append(os.path.join(root, filename))\n",
    "step_cal_files.sort(key = bu.find_str)\n",
    "num_calib_files = len(step_cal_files)\n",
    "print(num_calib_files)\n",
    "\n",
    "# Do the step calibration\n",
    "\n",
    "step_file_objs = []\n",
    "for filname in step_cal_files[320:-1]:\n",
    "    try:\n",
    "        df = bu.DataFile();\n",
    "        df.load(filname);\n",
    "        df.load_other_data()\n",
    "        step_file_objs.append(df);\n",
    "    except:\n",
    "        print('***')"
   ]
  },
  {
   "cell_type": "code",
   "execution_count": 820,
   "metadata": {
    "scrolled": true
   },
   "outputs": [
    {
     "name": "stdout",
     "output_type": "stream",
     "text": [
      "0 / 443\n",
      "[ 0.83865688] 2.40751950876\n",
      "1 / 443\n",
      "[ 0.70023023] 2.4065770516\n",
      "2 / 443\n",
      "[ 1.18541548] 2.40721187804\n",
      "3 / 443\n",
      "[ 1.90683001] 2.4070220091\n",
      "4 / 443\n",
      "[ 4.73403284] 2.40698695126\n",
      "5 / 443\n",
      "[ 5.81740964] 2.40759450832\n",
      "6 / 443\n",
      "[ 4.22919449] 2.40680865909\n",
      "7 / 443\n",
      "[ 2.75944782] 2.40710580766\n",
      "8 / 443\n",
      "[ 3.49108245] 2.40705381125\n",
      "9 / 443\n",
      "[ 1.51771758] 2.40682420997\n",
      "10 / 443\n",
      "[ 5.65076309] 2.40686593949\n",
      "11 / 443\n",
      "[ 4.90967486] 2.40745990297\n",
      "12 / 443\n",
      "[ 1.99358633] 2.40647549758\n",
      "13 / 443\n",
      "[ 0.08044165] 2.4070012432\n",
      "14 / 443\n",
      "[ 4.17967922] 2.40652287879\n",
      "15 / 443\n",
      "[ 1.41029337] 2.40639519895\n",
      "16 / 443\n",
      "[ 5.78088625] 2.40722329843\n",
      "17 / 443\n",
      "[ 4.38435408] 2.40665630795\n",
      "18 / 443\n",
      "[ 1.13376259] 2.40729907669\n",
      "19 / 443\n",
      "[ 5.69624615] 2.4066187813\n",
      "20 / 443\n",
      "[ 4.38541869] 2.40679614702\n",
      "21 / 443\n",
      "[ 6.13153411] 2.40674431319\n",
      "22 / 443\n",
      "[ 0.24706033] 2.4072931741\n",
      "23 / 443\n",
      "[ 3.4255261] 2.40736525736\n",
      "24 / 443\n",
      "[ 3.07578089] 2.40682737517\n",
      "25 / 443\n",
      "[ 5.88540988] 2.40654617116\n",
      "26 / 443\n",
      "[ 1.88001327] 2.4070077156\n",
      "27 / 443\n",
      "[ 2.73025269] 2.40746962179\n",
      "28 / 443\n",
      "[ 4.02676196] 2.40696757173\n",
      "29 / 443\n",
      "[ 5.57148634] 2.40684690253\n",
      "30 / 443\n",
      "[ 6.01535988] 2.4069902542\n",
      "31 / 443\n",
      "[ 6.08534878] 2.40675771894\n",
      "32 / 443\n",
      "[ 3.11501841] 2.40720519955\n",
      "33 / 443\n",
      "[ 0.44800214] 2.40667042514\n",
      "34 / 443\n",
      "[ 1.76907963] 2.40708213377\n",
      "35 / 443\n",
      "[ 1.14160382] 2.40729647856\n",
      "36 / 443\n",
      "[ 2.34372286] 2.40738255741\n",
      "37 / 443\n",
      "[ 4.86553486] 2.40707255606\n",
      "38 / 443\n",
      "[ 0.72712877] 2.40714081558\n",
      "39 / 443\n",
      "[ 1.88508782] 2.40647136409\n",
      "40 / 443\n",
      "[ 1.43503258] 2.40674774809\n",
      "41 / 443\n",
      "[ 0.40367943] 2.40709429383\n",
      "42 / 443\n",
      "[ 5.94472639] 2.40735365475\n",
      "43 / 443\n",
      "[ 4.39479239] 2.40694864935\n",
      "44 / 443\n",
      "[ 2.26307467] 2.40709809922\n",
      "45 / 443\n",
      "[ 2.33876085] 2.40722697787\n",
      "46 / 443\n",
      "[ 1.31725637] 2.40648856135\n",
      "47 / 443\n",
      "[ 4.39954076] 2.4070153666\n",
      "48 / 443\n",
      "[ 4.81696039] 2.4070701151\n",
      "49 / 443\n",
      "[ 3.58937022] 2.4069601787\n",
      "50 / 443\n",
      "[ 1.62159032] 2.40662707437\n",
      "51 / 443\n",
      "[ 1.20208963] 2.40712446704\n",
      "52 / 443\n",
      "[ 3.52155004] 2.40695481267\n",
      "53 / 443\n",
      "[ 2.01897338] 2.40722122182\n",
      "54 / 443\n",
      "[ 2.07882427] 2.40635099456\n",
      "55 / 443\n",
      "[ 2.64106776] 2.40681937709\n",
      "56 / 443\n",
      "[ 2.39329582] 2.40688210531\n",
      "57 / 443\n",
      "[ 3.15538588] 2.40689278335\n",
      "58 / 443\n",
      "[ 1.86875762] 1.51225688763\n",
      "59 / 443\n",
      "[ 2.33879619] 0.076859930464\n",
      "60 / 443\n",
      "[ 4.05867821] 0.095434626766\n",
      "61 / 443\n",
      "[ 0.56862167] 0.157375156323\n",
      "62 / 443\n",
      "[ 3.24979461] 0.0786880255137\n",
      "63 / 443\n",
      "[ 4.11253172] 15.1247337783\n",
      "64 / 443\n",
      "[ 5.61492047] 24.0254289795\n",
      "65 / 443\n",
      "[ 4.98696059] 24.0259111695\n",
      "66 / 443\n",
      "[ 0.38694076] 24.0248896765\n",
      "67 / 443\n",
      "[ 0.62621818] 24.0251644252\n",
      "68 / 443\n",
      "[ 5.78241665] 24.0250964715\n",
      "69 / 443\n",
      "[ 1.55600657] 24.0255060421\n",
      "70 / 443\n",
      "[ 6.19920489] 24.0243511101\n",
      "71 / 443\n",
      "[ 0.28803309] 24.0245424243\n",
      "72 / 443\n",
      "[ 2.89541843] 24.0251196467\n",
      "73 / 443\n",
      "[ 1.21810726] 7.8535351589\n",
      "74 / 443\n",
      "[ 4.07904219] 0.0790083172336\n",
      "75 / 443\n",
      "[ 2.19269003] 0.0926699632977\n",
      "76 / 443\n",
      "[ 5.07113678] 0.100133194266\n",
      "77 / 443\n",
      "[ 4.15187684] 0.0937747929935\n",
      "78 / 443\n",
      "[ 1.79315677] 0.0861506365197\n",
      "79 / 443\n",
      "[ 0.63096206] 0.0881937883526\n",
      "80 / 443\n",
      "[ 5.27286711] 0.0781440919852\n",
      "81 / 443\n",
      "[ 4.00805461] 1.23640851256\n",
      "82 / 443\n",
      "[ 6.02038569] 4.81222830312\n",
      "83 / 443\n",
      "[ 5.43226109] 4.81256817656\n",
      "84 / 443\n",
      "[ 4.73227666] 4.81324592407\n",
      "85 / 443\n",
      "[ 3.27704556] 4.81214636435\n",
      "86 / 443\n",
      "[ 5.27824912] 4.8121694327\n",
      "87 / 443\n",
      "[ 0.18017902] 4.8120478456\n",
      "88 / 443\n",
      "[ 4.48352711] 0.078794920407\n",
      "89 / 443\n",
      "[ 4.92025805] 0.0831837910245\n",
      "90 / 443\n",
      "[ 2.55076324] 0.175586769213\n",
      "91 / 443\n",
      "[ 5.51194923] 14.166285608\n",
      "92 / 443\n",
      "[ 5.95954196] 24.0248081313\n",
      "93 / 443\n",
      "[ 0.76287581] 24.0258322811\n",
      "94 / 443\n",
      "[ 4.82598231] 24.0259499609\n",
      "95 / 443\n",
      "[ 5.02506063] 28.5191223081\n",
      "96 / 443\n",
      "[ 0.70835895] 48.0629228978\n",
      "97 / 443\n",
      "[ 1.46370527] 48.064831215\n",
      "98 / 443\n",
      "[ 0.80176402] 48.0636583739\n",
      "99 / 443\n",
      "[ 0.08366831] 48.0625364319\n",
      "100 / 443\n",
      "[ 5.65466473] 48.0635601041\n",
      "101 / 443\n",
      "[ 3.77734249] 48.0626250854\n",
      "102 / 443\n",
      "[ 1.58628606] 48.0646303963\n",
      "103 / 443\n",
      "[ 3.32729303] 48.0628930966\n",
      "104 / 443\n",
      "[ 1.48575075] 48.0644975573\n",
      "105 / 443\n",
      "[ 2.75393215] 48.0633501879\n",
      "106 / 443\n",
      "[ 2.19379259] 48.0634491126\n",
      "107 / 443\n",
      "[ 0.54061825] 48.0626304831\n",
      "108 / 443\n",
      "[ 2.31684463] 48.064384849\n",
      "109 / 443\n",
      "[ 3.30213474] 48.0622643075\n",
      "110 / 443\n",
      "[ 2.35642309] 48.0635071784\n",
      "111 / 443\n",
      "[ 4.07387621] 48.0630341597\n",
      "112 / 443\n",
      "[ 1.08371975] 48.0648134835\n",
      "113 / 443\n",
      "[ 3.15150664] 48.0614882266\n",
      "114 / 443\n",
      "[ 4.34706935] 48.0644614059\n",
      "115 / 443\n",
      "[ 5.47095453] 48.0629701979\n",
      "116 / 443\n",
      "[ 5.33348093] 48.064009835\n",
      "117 / 443\n",
      "[ 5.37726149] 48.0642512175\n",
      "118 / 443\n",
      "[ 1.26009312] 48.0647829959\n",
      "119 / 443\n",
      "[ 0.08949243] 48.0623658939\n",
      "120 / 443\n",
      "[ 0.17209623] 48.0625462917\n",
      "121 / 443\n",
      "[ 4.24005469] 48.0644822789\n"
     ]
    }
   ],
   "source": [
    "amps1 = []\n",
    "for i in range(num_calib_files-321):\n",
    "    print(i,'/',len(step_cal_files))\n",
    "    amps1.append(func1_scale(i))"
   ]
  },
  {
   "cell_type": "code",
   "execution_count": 822,
   "metadata": {},
   "outputs": [
    {
     "data": {
      "application/vnd.jupyter.widget-view+json": {
       "model_id": "ba6bf006a2fc4c57a0e77d022cd36ec2",
       "version_major": 2,
       "version_minor": 0
      },
      "text/plain": [
       "Canvas(toolbar=Toolbar(toolitems=[('Home', 'Reset original view', 'home', 'home'), ('Back', 'Back to previous …"
      ]
     },
     "metadata": {},
     "output_type": "display_data"
    }
   ],
   "source": [
    "amps = np.array(amps)\n",
    "amps2 = np.array(amps2)\n",
    "amps1 = np.array(amps1)\n",
    "_,ax = plt.subplots(figsize=(9.5,4))\n",
    "# scale = 375\n",
    "\n",
    "# Perrinf\n",
    "# ax.scatter(range(len(amps3)), amps3/scaleY, label='fit phase', alpha=0.3)\n",
    "ax.scatter(range(len(amps2)), amps2/scale*1.05, label='fit phase')\n",
    "ax.scatter(range(len(amps)), amps/scaleY, label='fit phase', alpha=0.4)\n",
    "ax.scatter(range(len(amps1)), amps1/scale, label='fit phase', alpha=0.8)\n",
    "\n",
    "ax.set(xlabel='dataset', ylabel='electron charges', ylim=(-1,9), xlim=(None,None))\n",
    "ax.grid(axis='y')\n",
    "ax.minorticks_on()\n",
    "ax.grid(which='major', linestyle='-', linewidth='0.5', color='red')\n",
    "ax.grid(which='minor', linestyle=':', linewidth='0.5', color='black')\n",
    "# ax.legend()\n",
    "from matplotlib.ticker import MaxNLocator\n",
    "\n",
    "ax.yaxis.set_major_locator(MaxNLocator(integer=True))"
   ]
  },
  {
   "cell_type": "code",
   "execution_count": 243,
   "metadata": {},
   "outputs": [
    {
     "data": {
      "text/plain": [
       "(1.1776399750161368, 3.3010408106832543)"
      ]
     },
     "execution_count": 243,
     "metadata": {},
     "output_type": "execute_result"
    }
   ],
   "source": [
    "np.mean(amps3/scaleY)/4, np.mean(amps1/scaleY)/4"
   ]
  },
  {
   "cell_type": "code",
   "execution_count": 250,
   "metadata": {},
   "outputs": [
    {
     "name": "stdout",
     "output_type": "stream",
     "text": [
      "Scales are  -98.3245603727 93.2995440303\n",
      "voltage:  0.0514378232623\n"
     ]
    }
   ],
   "source": [
    "# scale = -1*np.abs(np.mean(amps3[200:250]))/2\n",
    "# scale = -1*np.abs(np.mean(amps[230:240]))/3\n",
    "scale = -1*np.abs(np.mean(amps2[97:118]))/4\n",
    "scaleY = np.abs(np.mean(amps[150:]))/4\n",
    "print(\"Scales are \", scale, scaleY)\n",
    "bb = step_file_objs[-1]\n",
    "drive_freq = 139\n",
    "bandwidth=2\n",
    "b, a = signal.butter(3, [2.*(drive_freq-bandwidth/2.)/fsamp, 2.*(drive_freq+bandwidth/2.)/fsamp ], btype = 'bandpass')\n",
    "xx2 = signal.filtfilt(b, a, bb.other_data[3])\n",
    "voltage = np.std(xx2)*np.sqrt(2)*100\n",
    "print(\"voltage: \", voltage)"
   ]
  },
  {
   "cell_type": "code",
   "execution_count": 159,
   "metadata": {},
   "outputs": [
    {
     "data": {
      "text/plain": [
       "(array([ 6.24211336]), array([ 3.1101641]))"
      ]
     },
     "execution_count": 159,
     "metadata": {},
     "output_type": "execute_result"
    }
   ],
   "source": [
    "freq2 = np.fft.rfftfreq(len(bb.other_data[3]), d=1./5000)\n",
    "fft_angles = np.angle(np.fft.rfft(bb.other_data[3]))\n",
    "fft_angles2 = np.angle(np.fft.rfft(bb.other_data[4]))\n",
    "(fft_angles[freq2==drive_freq]+np.pi/2)%(2*np.pi), (fft_angles2[freq2==drive_freq]+np.pi/2)%(2*np.pi) "
   ]
  },
  {
   "cell_type": "code",
   "execution_count": 174,
   "metadata": {},
   "outputs": [
    {
     "data": {
      "application/vnd.jupyter.widget-view+json": {
       "model_id": "044a266a3efb44cc98f3d13d8beac996",
       "version_major": 2,
       "version_minor": 0
      },
      "text/plain": [
       "Canvas(toolbar=Toolbar(toolitems=[('Home', 'Reset original view', 'home', 'home'), ('Back', 'Back to previous …"
      ]
     },
     "metadata": {},
     "output_type": "display_data"
    },
    {
     "data": {
      "text/plain": [
       "[<matplotlib.lines.Line2D at 0x7f2cf0de7208>]"
      ]
     },
     "execution_count": 174,
     "metadata": {},
     "output_type": "execute_result"
    }
   ],
   "source": [
    "_,ax = plt.subplots()\n",
    "ax.plot(range(500),signal.filtfilt(b, a, bb.other_data[3])[2000:2500], '--')\n",
    "ax.plot(range(500),signal.filtfilt(b, a, bb.other_data[4])[2000:2500], '--')"
   ]
  },
  {
   "cell_type": "code",
   "execution_count": 191,
   "metadata": {},
   "outputs": [],
   "source": [
    "ll = likelihood_analyser.LikelihoodAnalyser()\n",
    "bandwidth = 4\n",
    "decimate = 2\n",
    "drive_freq = 139\n",
    "electrode = 2\n",
    "pos_index = 2\n",
    "# phase_resp = -0.705\n",
    "phase_resp = 0\n",
    "def get_amp2(i):\n",
    "    \n",
    "    fname = r'/data/old_trap/20211001/bead1/single_electrode_20211013/Z_minus_139Hz_50Vpp/Z_50Vpp_'+str(i)+'.h5'\n",
    "\n",
    "    bb = bu.DataFile();\n",
    "    bb.load(fname);\n",
    "    bb.load_other_data()\n",
    "    \n",
    "    fit_kwargs = {'A': 0.1, 'f': drive_freq, 'phi': 0.9, \n",
    "                  'error_A': 1, 'error_f': 10, 'error_phi': 0.5, 'errordef': 1,\n",
    "                  'limit_phi': [-2 * np.pi, 2 * np.pi], \n",
    "                  'limit_A': [0, 10000],\n",
    "                  'print_level': 0, 'fix_f': True, 'fix_phi': False}\n",
    "\n",
    "    b, a = signal.butter(3, [2.*(drive_freq-bandwidth/2.)/fsamp, 2.*(drive_freq+bandwidth/2.)/fsamp ], btype = 'bandpass')\n",
    "    xx2 = signal.filtfilt(b, a, bb.other_data[electrode])[::decimate]\n",
    "    m1_tmp = ll.find_mle_sin(bb.other_data[electrode], drive_freq=139, fsamp=5000, bandwidth=4, noise_rms=0, decimate=10, plot=False, suppress_print=True, **fit_kwargs)\n",
    "    \n",
    "    freq2 = np.fft.rfftfreq(len(bb.other_data[electrode]), d=1./5000)\n",
    "    fft_angles = np.angle(np.fft.rfft(bb.other_data[electrode]))\n",
    "\n",
    "    phi_tmp = m1_tmp.values[2]\n",
    "    phi_tmp2 = (fft_angles[freq2==drive_freq]+np.pi/2)%(2*np.pi)\n",
    "    print(phi_tmp%(2*np.pi), phi_tmp2, m1_tmp.values[0]*100,  np.std(xx2)*np.sqrt(2)*100)\n",
    "    \n",
    "    fit_kwargs = {'A': 0, 'f': 139, 'phi': phi_tmp, \n",
    "                  'error_A': 1, 'error_f': 1, 'error_phi': 0.5, 'errordef': 1,\n",
    "                  'fix_f': True, 'fix_phi': False,\n",
    "                  'limit_A': [-100000, 10000], \n",
    "                  'print_level': 0}\n",
    "\n",
    "    xx2 = signal.filtfilt(b, a, bb.pos_data[pos_index])[::decimate]\n",
    "    \n",
    "    m2_tmp = ll.find_mle_sin(xx2, fsamp=5000/decimate, noise_rms=1, plot=False, suppress_print=True, **fit_kwargs)\n",
    "\n",
    "    return m2_tmp.values[0], m2_tmp.values[2]-phi_tmp"
   ]
  },
  {
   "cell_type": "code",
   "execution_count": 186,
   "metadata": {},
   "outputs": [
    {
     "data": {
      "text/plain": [
       "(418.46407896921414,\n",
       " -0.98126051820833993,\n",
       " 22.06206160075007,\n",
       " 3.1200466729691425,\n",
       " 1.1076992369157805)"
      ]
     },
     "execution_count": 186,
     "metadata": {},
     "output_type": "execute_result"
    }
   ],
   "source": [
    "# plus_Z = np.array([get_amp2(i) for i in range(50)])\n",
    "np.mean(np.abs(plus_Z[:,0])), np.mean(plus_Z[:,1]), np.std(np.abs(plus_Z[:,0])), np.std(np.abs(plus_Z[:,0]))/np.sqrt(len(plus_Z[:,0])), np.std(plus_Z[:,1])"
   ]
  },
  {
   "cell_type": "code",
   "execution_count": 173,
   "metadata": {},
   "outputs": [
    {
     "data": {
      "text/plain": [
       "1.1467391304347827"
      ]
     },
     "execution_count": 173,
     "metadata": {},
     "output_type": "execute_result"
    }
   ],
   "source": [
    "422/368"
   ]
  },
  {
   "cell_type": "code",
   "execution_count": 193,
   "metadata": {},
   "outputs": [
    {
     "data": {
      "text/plain": [
       "(627.69923206982025,\n",
       " -45039.678041592946,\n",
       " 35.910234144313215,\n",
       " 5.0784740154881138,\n",
       " 0.097838730700977608)"
      ]
     },
     "execution_count": 193,
     "metadata": {},
     "output_type": "execute_result"
    }
   ],
   "source": [
    "# minus_Z = np.array([get_amp2(i) for i in range(50)])\n",
    "np.mean(np.abs(minus_Z[:,0])), np.mean(minus_Z[:,1]), np.std(np.abs(minus_Z[:,0])), np.std(np.abs(minus_Z[:,0]))/np.sqrt(len(minus_Z[:,0])), np.std(minus_X[:,1])"
   ]
  },
  {
   "cell_type": "code",
   "execution_count": 882,
   "metadata": {},
   "outputs": [
    {
     "data": {
      "application/vnd.jupyter.widget-view+json": {
       "model_id": "7cee9d545d1343eab92e4e190c5f164a",
       "version_major": 2,
       "version_minor": 0
      },
      "text/plain": [
       "Canvas(toolbar=Toolbar(toolitems=[('Home', 'Reset original view', 'home', 'home'), ('Back', 'Back to previous …"
      ]
     },
     "metadata": {},
     "output_type": "display_data"
    },
    {
     "data": {
      "text/plain": [
       "<matplotlib.collections.PathCollection at 0x7f25a736b5f8>"
      ]
     },
     "execution_count": 882,
     "metadata": {},
     "output_type": "execute_result"
    }
   ],
   "source": [
    "_,ax = plt.subplots(figsize=(9.2,4))\n",
    "ax.scatter(range(50), plus_Z[:,1]%(np.pi/2))\n",
    "ax.scatter(range(50), minus_Z[:,1]%(np.pi/2))"
   ]
  },
  {
   "cell_type": "code",
   "execution_count": 199,
   "metadata": {},
   "outputs": [
    {
     "name": "stdout",
     "output_type": "stream",
     "text": [
      "electrodes response - x:  -421.449110962 368.055730209 -1.14506873924\n",
      "electrodes response - y:  392.508760751 -406.3974214 -0.965824929201\n",
      "electrodes response - z:  418.464078969 627.69923207 0.666663359758\n"
     ]
    }
   ],
   "source": [
    "response_elec3_3 = np.mean(plus_X[:,0])\n",
    "response_elec4_3 = np.mean(minus_X[:,0])\n",
    "print('electrodes response - x: ', response_elec3_3, response_elec4_3, response_elec3_3/response_elec4_3)\n",
    "\n",
    "response_elec5_3 = np.mean(plus_Y[:,0])\n",
    "response_elec6_3 = np.mean(minus_Y[:,0])\n",
    "print('electrodes response - y: ', response_elec5_3, response_elec6_3, response_elec5_3/response_elec6_3)\n",
    "\n",
    "response_elec1_3 = np.mean(np.abs(plus_Z[:,0]))\n",
    "response_elec2_3 = np.mean(np.abs(minus_Z[:,0]))\n",
    "print('electrodes response - z: ', response_elec1_3, response_elec2_3, response_elec1_3/response_elec2_3)"
   ]
  },
  {
   "cell_type": "code",
   "execution_count": null,
   "metadata": {},
   "outputs": [],
   "source": []
  },
  {
   "cell_type": "code",
   "execution_count": 1859,
   "metadata": {
    "scrolled": true
   },
   "outputs": [
    {
     "name": "stdout",
     "output_type": "stream",
     "text": [
      "0 /20\n",
      "-4.433089210778661 [ 4.3959537] 0.0017853877265494589\n",
      "1 /20\n",
      "-2.8847002425531643 [ 3.94786534] 0.001787011150167217\n",
      "2 /20\n",
      "-5.7746064613891654 [ 4.8198017] 0.0017868101442886086\n",
      "3 /20\n",
      "4.619941688316747 [ 2.77083364] 0.0017882590408468957\n",
      "4 /20\n",
      "2.6111044550843907 [ 0.39460166] 0.0017868094781547939\n",
      "5 /20\n",
      "-1.3314261083994348 [ 4.64087711] 0.0017869246082824475\n",
      "6 /20\n",
      "5.827349316040854 [ 5.78376359] 0.0017863104329052248\n",
      "7 /20\n",
      "5.657360350104334 [ 0.79274317] 0.001786118697388872\n",
      "8 /20\n",
      "4.70766743932916 [ 0.97929161] 0.0017861860324153156\n",
      "9 /20\n",
      "6.226785671376437 [ 0.17947267] 0.0017865659507343423\n",
      "10 /20\n",
      "5.774578938111093 [ 3.05483376] 0.0017884273506574289\n",
      "11 /20\n",
      "-3.183667109764247 [ 3.69408964] 0.0017868146406918584\n",
      "12 /20\n",
      "3.004123102312697 [ 1.06174872] 0.0017876346514178465\n",
      "13 /20\n",
      "4.748277673933055 [ 6.15254962] 0.0017864737467121472\n",
      "14 /20\n",
      "-2.828988545210402 [ 3.99253185] 0.0017871281676740125\n",
      "15 /20\n",
      "-2.621920369169667 [ 3.52634065] 0.0017871115698397944\n",
      "16 /20\n",
      "0.25300685492482433 [ 0.66562944] 0.0017875674829248567\n",
      "17 /20\n",
      "-4.956422968808535 [ 5.62073613] 0.0017870532831310015\n",
      "18 /20\n",
      "4.196531841741516 [ 3.75421475] 0.0017877369029584145\n",
      "19 /20\n",
      "-1.0310130050410002 [ 3.72884015] 0.0017875123048405328\n"
     ]
    }
   ],
   "source": [
    "amps_elec2_139 = []\n",
    "for i in range(20):\n",
    "    print(i,'/20')\n",
    "    try:\n",
    "        amps_elec2_139.append(np.abs(get_amp2(i)))\n",
    "    except:\n",
    "        print(\"******\")\n",
    "amps_elec2_139 = np.array(amps_elec2_139)"
   ]
  },
  {
   "cell_type": "code",
   "execution_count": 1860,
   "metadata": {},
   "outputs": [
    {
     "name": "stdout",
     "output_type": "stream",
     "text": [
      "electrodes response - x:  2786.56266318 1884.09711644 1.47899099196\n",
      "electrodes response - x:  1617.35724093 1395.04988105 1.15935441657\n",
      "electrodes response - y:  2377.02864414 2759.80835902 0.861302066996\n",
      "electrodes response - y:  1734.99608887 1792.16339056 0.968101512398\n",
      "electrodes response - z:  7469.88596913 10588.3225531 0.705483416442\n",
      "electrodes response - z:  1442.13072408 2160.0779191 0.667629029179\n"
     ]
    }
   ],
   "source": [
    "response_elec3 = np.mean(amps_elec3)\n",
    "response_elec4 = np.mean(amps_elec4)\n",
    "print('electrodes response - x: ', response_elec3, response_elec4, response_elec3/response_elec4)\n",
    "\n",
    "response_elec3_2 = np.mean(amps_elec3_139)\n",
    "response_elec4_2 = np.mean(amps_elec4_139)\n",
    "print('electrodes response - x: ', response_elec3_2, response_elec4_2, response_elec3_2/response_elec4_2)\n",
    "\n",
    "response_elec5 = np.mean(amps_elec5)\n",
    "response_elec6 = np.mean(amps_elec6)\n",
    "print('electrodes response - y: ', response_elec5, response_elec6, response_elec5/response_elec6)\n",
    "\n",
    "response_elec5_2 = np.mean(amps_elec5_139)\n",
    "response_elec6_2 = np.mean(amps_elec6_139)\n",
    "print('electrodes response - y: ', response_elec5_2, response_elec6_2, response_elec5_2/response_elec6_2)\n",
    "\n",
    "response_elec1 = np.mean(amps_elec1)\n",
    "response_elec2 = np.abs(np.mean(amps_elec2))\n",
    "print('electrodes response - z: ', response_elec1, response_elec2, response_elec1/response_elec2)\n",
    "\n",
    "response_elec1_2 = np.mean(amps_elec1_139)\n",
    "response_elec2_2 = np.abs(np.mean(amps_elec2_139))\n",
    "print('electrodes response - z: ', response_elec1_2, response_elec2_2, response_elec1_2/response_elec2_2)\n",
    "# print('2nd harmonic: ', np.mean(amps_y_82Hz), scaleY)\n",
    "# response_elec5"
   ]
  },
  {
   "cell_type": "code",
   "execution_count": 1,
   "metadata": {},
   "outputs": [
    {
     "data": {
      "text/plain": [
       "1.45215"
      ]
     },
     "execution_count": 1,
     "metadata": {},
     "output_type": "execute_result"
    }
   ],
   "source": [
    "1.5*0.9681"
   ]
  },
  {
   "cell_type": "code",
   "execution_count": 1862,
   "metadata": {},
   "outputs": [
    {
     "name": "stdout",
     "output_type": "stream",
     "text": [
      "-103.205784719 -120.841322956 -123.412525162\n"
     ]
    }
   ],
   "source": [
    "scaleY = scale*(response_elec5_2+response_elec6_2)/(response_elec3_2+response_elec4_2)\n",
    "scaleZ = scale*(response_elec1_2+response_elec2_2)/(response_elec3_2+response_elec4_2)\n",
    "print(scale, scaleY, scaleZ)"
   ]
  },
  {
   "cell_type": "code",
   "execution_count": 883,
   "metadata": {},
   "outputs": [],
   "source": [
    "scale, scaleY, scaleZ = (-103.205784719, -120.841322956, -123.412525162)"
   ]
  },
  {
   "cell_type": "code",
   "execution_count": 188,
   "metadata": {},
   "outputs": [
    {
     "data": {
      "application/vnd.jupyter.widget-view+json": {
       "model_id": "a7a3430e51a14d73a65434192a102dc1",
       "version_major": 2,
       "version_minor": 0
      },
      "text/plain": [
       "Canvas(toolbar=Toolbar(toolitems=[('Home', 'Reset original view', 'home', 'home'), ('Back', 'Back to previous …"
      ]
     },
     "metadata": {},
     "output_type": "display_data"
    },
    {
     "name": "stdout",
     "output_type": "stream",
     "text": [
      "4278.67333736 9.74884202318\n",
      "4134.20916265 14.8038215541\n",
      "1.03494360566 0.00439255803019\n"
     ]
    }
   ],
   "source": [
    "_,ax = plt.subplots()\n",
    "ax.scatter(range(20), np.abs(amps_elec4))\n",
    "ax.scatter(range(20), np.abs(amps_elec5))\n",
    "x = np.mean(np.abs(amps_elec4)); dx = np.std(np.abs(amps_elec4))/np.sqrt(20)\n",
    "y = np.mean(np.abs(amps_elec5)); dy = np.std(np.abs(amps_elec5))/np.sqrt(20)\n",
    "z = x/y; dz = np.abs(x/y)*np.sqrt((dx/x)**2+(dy/y)**2)\n",
    "print(x, dx)\n",
    "print(y, dy)\n",
    "print(z, dz)"
   ]
  },
  {
   "cell_type": "code",
   "execution_count": 335,
   "metadata": {},
   "outputs": [
    {
     "data": {
      "text/plain": [
       "4"
      ]
     },
     "execution_count": 335,
     "metadata": {},
     "output_type": "execute_result"
    }
   ],
   "source": [
    "2*2"
   ]
  },
  {
   "cell_type": "markdown",
   "metadata": {},
   "source": [
    "### Look at neutrality data"
   ]
  },
  {
   "cell_type": "code",
   "execution_count": 925,
   "metadata": {},
   "outputs": [],
   "source": [
    "ll = likelihood_analyser.LikelihoodAnalyser()\n",
    "bandwidth = 1\n",
    "decimate = 10\n",
    "def get_amp(i):\n",
    "    \n",
    "    fname = r'/data/old_trap/20211001/bead1/neutrality2/X_100Vpp_139Hz_spin_xz_100Vpp_77kHz_delay_with_height_fb_redo/X_100Vpp_'+str(i)+'.h5'\n",
    "\n",
    "    drive_freq = 139\n",
    "    bb = bu.DataFile();\n",
    "    bb.load(fname);\n",
    "    bb.load_other_data()\n",
    "    \n",
    "    freq2 = np.fft.rfftfreq(len(bb.other_data[3]), d=1./5000)\n",
    "    fft_angles = np.angle(np.fft.rfft(bb.other_data[3]))\n",
    "    phi_tmp2 = (fft_angles[freq2==drive_freq]+np.pi/2)%(2*np.pi)\n",
    "\n",
    "#     fit_kwargs = {'A': 0.23, 'f': drive_freq, 'phi': 0, \n",
    "#                   'error_A': 1, 'error_f': 10, 'error_phi': 0.5, 'errordef': 1,\n",
    "#                   'limit_A': [0, 1], 'fix_f': True, 'fix_phi': False,\n",
    "#                   'print_level': 0}\n",
    "\n",
    "    b, a = signal.butter(3, [2.*(drive_freq-bandwidth/2.)/fsamp, 2.*(drive_freq+bandwidth/2.)/fsamp ], btype = 'bandpass')\n",
    "#     xx2 = signal.filtfilt(b, a, bb.other_data[3])[::decimate]    \n",
    "#     m1_tmp = ll.find_mle_sin(xx2, fsamp=5000/decimate, noise_rms=1, plot=False, suppress_print=True, **fit_kwargs)\n",
    "#     phi_tmp = m1_tmp.values[2]\n",
    "\n",
    "#     print(phi_tmp, phi_tmp2, m1_tmp.values[0]*100, np.std(xx2)*np.sqrt(2)*100)\n",
    "    \n",
    "    fit_kwargs = {'A': 0, 'f': drive_freq, 'phi': phi_tmp2, 'sigma': 1100,\n",
    "                  'error_A': 0.1, 'error_f': 1, 'error_phi': 0.5, 'errordef': 1, 'error_sigma':50,\n",
    "                  'limit_A': [-100000, 100000], 'limit_sigma':[100,30000], 'fix_phi': True, 'fix_f': True,\n",
    "                  'print_level': 0}\n",
    "\n",
    "    xx2 = signal.filtfilt(b, a, bb.pos_data[0])[::decimate]\n",
    "    m1_tmp = ll.find_mle_sin(xx2, fsamp=5000/decimate, noise_rms=1, plot=False, suppress_print=True, **fit_kwargs)\n",
    "    \n",
    "    drive_freq = drive_freq*2\n",
    "    fit_kwargs = {'A': 0, 'f': drive_freq, 'phi': phi_tmp2+np.pi/2, \n",
    "                  'error_A': 1, 'error_f': 1, 'error_phi': 0.5, 'errordef': 1,\n",
    "                  'limit_A': [-100000, 100000], 'fix_f': True, 'fix_phi': True,\n",
    "                  'print_level': 0}\n",
    "\n",
    "        \n",
    "    b, a = signal.butter(3, [2.*(drive_freq-bandwidth/2.)/fsamp, 2.*(drive_freq+bandwidth/2.)/fsamp ], btype = 'bandpass')\n",
    "    xx2 = signal.filtfilt(b, a, bb.pos_data[0])[::decimate]\n",
    "    m2_tmp = ll.find_mle_sin(xx2, fsamp=5000/decimate, noise_rms=1, plot=False, suppress_print=True, **fit_kwargs)\n",
    "\n",
    "    #     print(m1_tmp.values)\n",
    "    return m1_tmp.values[0], m2_tmp.values[0], m1_tmp.values[3], m1_tmp.fval"
   ]
  },
  {
   "cell_type": "code",
   "execution_count": 923,
   "metadata": {},
   "outputs": [
    {
     "data": {
      "text/plain": [
       "5.088916634093039"
      ]
     },
     "execution_count": 923,
     "metadata": {},
     "output_type": "execute_result"
    }
   ],
   "source": [
    "i=0\n",
    "get_amp(i)[0]"
   ]
  },
  {
   "cell_type": "code",
   "execution_count": 879,
   "metadata": {},
   "outputs": [
    {
     "name": "stdout",
     "output_type": "stream",
     "text": [
      "voltage:  50 -0.540029755093 -0.445538261997\n",
      "voltage:  24.0272414237 0.0888447340811\n"
     ]
    }
   ],
   "source": [
    "i = 2\n",
    "fname = r'/data/old_trap/20211001/bead1/neutrality4/test_alternate/test_voltages/Y_50Vpp_'+str(i)+'.h5'\n",
    "bb = bu.DataFile();\n",
    "bb.load(fname);\n",
    "bb.load_other_data()\n",
    "print(\"voltage: \", voltage, np.mean(bb.other_data[3])*100, np.mean(bb.other_data[4])*100)\n",
    "drive_freq = 139\n",
    "bandwidth=2\n",
    "b, a = signal.butter(3, [2.*(drive_freq-bandwidth/2.)/fsamp, 2.*(drive_freq+bandwidth/2.)/fsamp ], btype = 'bandpass')\n",
    "xx2 = signal.filtfilt(b, a, bb.other_data[5])\n",
    "voltage_100_1 = np.std(xx2)*np.sqrt(2)*100\n",
    "xx3 = signal.filtfilt(b, a, bb.other_data[6])\n",
    "voltage_100_2 = np.std(xx3)*np.sqrt(2)*100\n",
    "print(\"voltage: \", voltage_100_1, voltage_100_2)"
   ]
  },
  {
   "cell_type": "code",
   "execution_count": 890,
   "metadata": {},
   "outputs": [
    {
     "data": {
      "text/plain": [
       "(50, 96.209444386695921)"
      ]
     },
     "execution_count": 890,
     "metadata": {},
     "output_type": "execute_result"
    }
   ],
   "source": [
    "voltage, voltage_100"
   ]
  },
  {
   "cell_type": "code",
   "execution_count": 184,
   "metadata": {
    "scrolled": true
   },
   "outputs": [],
   "source": [
    "# amps_no_fb_spin_xz_200Vpp_x_50Vpp_delay = []\n",
    "# for i in range(1000):\n",
    "#     print(i,'/500')\n",
    "#     try:\n",
    "#         amps_no_fb_spin_xz_200Vpp_x_50Vpp_delay.append(get_amp(i))\n",
    "#     except:\n",
    "#         print(\"******\")\n",
    "# amps_no_fb_spin_xz_200Vpp_x_50Vpp_delay = np.array(amps_no_fb_spin_xz_200Vpp_x_50Vpp_delay)"
   ]
  },
  {
   "cell_type": "code",
   "execution_count": 891,
   "metadata": {},
   "outputs": [],
   "source": [
    "def get_amp_wraper(i):\n",
    "    try:\n",
    "        return get_amp(i)\n",
    "    except:\n",
    "        return 0,0,0,0"
   ]
  },
  {
   "cell_type": "code",
   "execution_count": 926,
   "metadata": {
    "scrolled": true
   },
   "outputs": [
    {
     "name": "stderr",
     "output_type": "stream",
     "text": [
      "100%|██████████| 2000/2000 [00:34<00:00, 55.62it/s]\n"
     ]
    }
   ],
   "source": [
    "amps_with_fb_spin_xz_100Vpp_77Hz_x_100Vpp_delay_redo = np.array(Parallel(n_jobs=40)(delayed(get_amp_wraper)(i) for i in tqdm(range((2000)))))"
   ]
  },
  {
   "cell_type": "code",
   "execution_count": 248,
   "metadata": {},
   "outputs": [],
   "source": [
    "# fvals = amps_no_fb_spin_xz_200Vpp_x_100Vpp_delay[:,2]\n",
    "# thres = np.mean(fvals)+2*np.std(fvals)\n",
    "# thres"
   ]
  },
  {
   "cell_type": "code",
   "execution_count": 860,
   "metadata": {},
   "outputs": [
    {
     "data": {
      "application/vnd.jupyter.widget-view+json": {
       "model_id": "0adc242e94de4b66a4e0809811cdbb89",
       "version_major": 2,
       "version_minor": 0
      },
      "text/plain": [
       "Canvas(toolbar=Toolbar(toolitems=[('Home', 'Reset original view', 'home', 'home'), ('Back', 'Back to previous …"
      ]
     },
     "metadata": {},
     "output_type": "display_data"
    },
    {
     "data": {
      "text/plain": [
       "<matplotlib.collections.PathCollection at 0x7f25a77dd208>"
      ]
     },
     "execution_count": 860,
     "metadata": {},
     "output_type": "execute_result"
    }
   ],
   "source": [
    "i=0; j=2\n",
    "_,ax = plt.subplots()\n",
    "dat = amps_with_fb_spin_xz_100Vpp_77kHz_y_minus_100Vpp_delay\n",
    "ax.scatter(dat[:,i], dat[:,j])\n",
    "\n",
    "# dat2 = amps_with_fb_spin_xz_100Vpp_77kHz_x_minus_100Vpp_delay\n",
    "# ax.scatter(dat2[:,i], dat2[:,j])"
   ]
  },
  {
   "cell_type": "code",
   "execution_count": 74,
   "metadata": {},
   "outputs": [],
   "source": [
    "# dat = amps_no_fb_spin_xz_100Vpp_77kHz_x_100Vpp_delay_height_fb\n",
    "# thresh = 1600\n",
    "# amps_no_fb_spin_xz_100Vpp_77kHz_x_100Vpp_delay_height_fb_2 = np.array([aa for aa,bb in zip(dat,dat[:,2]) if (bb<thresh)])"
   ]
  },
  {
   "cell_type": "code",
   "execution_count": 375,
   "metadata": {},
   "outputs": [
    {
     "data": {
      "text/plain": [
       "(23.353406758381592, 46.690643728039987)"
      ]
     },
     "execution_count": 375,
     "metadata": {},
     "output_type": "execute_result"
    }
   ],
   "source": [
    "voltage, voltage100"
   ]
  },
  {
   "cell_type": "code",
   "execution_count": null,
   "metadata": {},
   "outputs": [],
   "source": []
  },
  {
   "cell_type": "code",
   "execution_count": 927,
   "metadata": {},
   "outputs": [
    {
     "data": {
      "application/vnd.jupyter.widget-view+json": {
       "model_id": "febaf8ab9e6e44dc8fbbd84819327d00",
       "version_major": 2,
       "version_minor": 0
      },
      "text/plain": [
       "Canvas(toolbar=Toolbar(toolitems=[('Home', 'Reset original view', 'home', 'home'), ('Back', 'Back to previous …"
      ]
     },
     "metadata": {},
     "output_type": "display_data"
    },
    {
     "name": "stdout",
     "output_type": "stream",
     "text": [
      "mean, std:  -0.000655320614665 0.000571212167888\n",
      "mean, std:  9.23990935359e-05 0.000571698344227\n"
     ]
    }
   ],
   "source": [
    "j = 0\n",
    "data = amps_with_fb_spin_xz_100Vpp_77Hz_x_100Vpp_delay[:,j]/scale*voltage/voltage_100\n",
    "data2 = amps_with_fb_spin_xz_100Vpp_77Hz_x_100Vpp_delay_redo[:,j]/scale*voltage/voltage_100\n",
    "# data3 = amps_with_fb_spin_xz_100Vpp_77kHz_x_150Vpp_delay[:,j]/scale*voltage/voltage150\n",
    "\n",
    "_, ax= plt.subplots(figsize=(9.5,4))\n",
    "ax.scatter(range(len(data)), data, label='150Vpp-x, xz-spin-100Vpp-77kHz')\n",
    "ax.scatter(range(len(data2)), data2, label='150Vpp-y, xz-spin-100Vpp-77kHz', alpha=0.6)\n",
    "# ax.scatter(range(len(data3)), data3, label='150Vpp-x, xz-spin-100Vpp-77kHz', alpha=0.6)\n",
    "\n",
    "# ax.scatter(range(len(data4)), data4, label='20V-x, xy-spin-30V, w/o height fb')\n",
    "ax.plot(np.arange(0,1000), np.arange(0,1000)*0, '--k')\n",
    "ax.set(xlabel='Dataset', ylabel=r'$\\epsilon$')\n",
    "ax.legend()\n",
    "print('mean, std: ', np.mean(data), np.std(data)/np.sqrt(len(data)))\n",
    "print('mean, std: ', np.mean(data2), np.std(data2)/np.sqrt(len(data2)))\n",
    "# print('mean, std: ', np.mean(data3), np.std(data3)/np.sqrt(len(data3)))"
   ]
  },
  {
   "cell_type": "code",
   "execution_count": 928,
   "metadata": {},
   "outputs": [
    {
     "data": {
      "text/plain": [
       "(-0.00028146076056470717, 0.00040412315843237897, 4000)"
      ]
     },
     "execution_count": 928,
     "metadata": {},
     "output_type": "execute_result"
    }
   ],
   "source": [
    "data_all_100_2 = np.array(list(data)+list(data2))#+list(data3))\n",
    "np.mean(data_all_100_2), np.std(data_all_100_2)/np.sqrt(len(data_all_100_2)), len(data_all_100_2)"
   ]
  },
  {
   "cell_type": "code",
   "execution_count": 933,
   "metadata": {},
   "outputs": [],
   "source": [
    "data_all_100_all = np.array(list(data_all_100)+list(data_all_100_2))#+list(data3))\n"
   ]
  },
  {
   "cell_type": "code",
   "execution_count": 934,
   "metadata": {},
   "outputs": [
    {
     "data": {
      "application/vnd.jupyter.widget-view+json": {
       "model_id": "e1d5f974eb4545c28eca6fa8c4c0d0df",
       "version_major": 2,
       "version_minor": 0
      },
      "text/plain": [
       "Canvas(toolbar=Toolbar(toolitems=[('Home', 'Reset original view', 'home', 'home'), ('Back', 'Back to previous …"
      ]
     },
     "metadata": {},
     "output_type": "display_data"
    },
    {
     "data": {
      "text/plain": [
       "<matplotlib.legend.Legend at 0x7f24c74920f0>"
      ]
     },
     "execution_count": 934,
     "metadata": {},
     "output_type": "execute_result"
    }
   ],
   "source": [
    "from scipy.optimize import curve_fit\n",
    "from scipy import asarray as ar,exp\n",
    "\n",
    "n_bins = 21\n",
    "range_pram = 0.1\n",
    "_,ax = plt.subplots()\n",
    "entries, bins, patches = ax.hist(data_all_100_all, bins=n_bins, range=(-range_pram, range_pram), label='100Vpp, 49kHz')\n",
    "# entries2, bins, patches = ax.hist(data2, bins=n_bins, range=(-range_pram, range_pram), label='150Vpp, 77kHz, after weekend', alpha=0.6)\n",
    "# entries3, bins, patches = ax.hist(data3, bins=n_bins, range=(-range_pram, range_pram), label='150Vpp, 77kHz', alpha=0.6)\n",
    "ax.set(xlabel=r'$\\epsilon$')\n",
    "ax.legend()"
   ]
  },
  {
   "cell_type": "code",
   "execution_count": 935,
   "metadata": {},
   "outputs": [
    {
     "name": "stdout",
     "output_type": "stream",
     "text": [
      " : mean:  -0.000615497819225  ,std (on the mean):  0.000131442301244  ,sigma:  -0.000815901459391\n"
     ]
    }
   ],
   "source": [
    "## gaussian fit to the histogram\n",
    "\n",
    "bins_fit =[(bins[i+1]-bins[i])/2+bins[i] for i in range(len(entries))]\n",
    "\n",
    "titles = ['', '', '']\n",
    "\n",
    "for i,ee in enumerate([entries]):\n",
    "    x = bins_fit\n",
    "    y= np.array(ee)\n",
    "    sigma_bin = np.sqrt(ee)\n",
    "    \n",
    "    n = len(x)                          #the number of data\n",
    "    mean = 0                  #note this correction\n",
    "    sigma = 0.023       #note this correction\n",
    "\n",
    "    def gaus(x,a,x0,sigma):\n",
    "        return a*np.exp(-(x-x0)**2/(2*sigma**2))\n",
    "\n",
    "    popt,pcov = curve_fit(gaus,x,y,p0=[1,mean,sigma])\n",
    "    ax.plot(x,gaus(x,*popt),'ro:',label='fit')\n",
    "\n",
    "    print(titles[i], \": mean: \", popt[1], \" ,std (on the mean): \", np.sqrt(pcov)[1,1], \" ,sigma: \", popt[2]/np.sqrt(1000))"
   ]
  },
  {
   "cell_type": "code",
   "execution_count": null,
   "metadata": {},
   "outputs": [],
   "source": []
  },
  {
   "cell_type": "code",
   "execution_count": null,
   "metadata": {},
   "outputs": [],
   "source": []
  },
  {
   "cell_type": "code",
   "execution_count": null,
   "metadata": {},
   "outputs": [],
   "source": []
  },
  {
   "cell_type": "code",
   "execution_count": 119,
   "metadata": {},
   "outputs": [
    {
     "data": {
      "application/vnd.jupyter.widget-view+json": {
       "model_id": "c1a3c18b8763441fbfe2061054314a0b",
       "version_major": 2,
       "version_minor": 0
      },
      "text/plain": [
       "Canvas(toolbar=Toolbar(toolitems=[('Home', 'Reset original view', 'home', 'home'), ('Back', 'Back to previous …"
      ]
     },
     "metadata": {},
     "output_type": "display_data"
    },
    {
     "data": {
      "text/plain": [
       "<matplotlib.legend.Legend at 0x7f4f77d8c3c8>"
      ]
     },
     "execution_count": 119,
     "metadata": {},
     "output_type": "execute_result"
    }
   ],
   "source": [
    "datasets = [amps_wo_fb_spin_zx_75V_x_20V,amps_wo_fb_spin_zx_100V_x_25V, amps_wo_fb_spin_zx_150V_x_25V]\n",
    "voltages = [voltage20, voltage25, voltage25]\n",
    "spin_voltage = [75,100, 150]\n",
    "means = []\n",
    "errors = []\n",
    "for dat,vv in zip(datasets, voltages):\n",
    "    means.append(np.mean(dat[:,0])/scale*voltage/vv)\n",
    "    errors.append(np.std(dat[:,0])/scale*voltage/vv/np.sqrt(len(dat[:,0])))\n",
    "\n",
    "_,ax = plt.subplots()\n",
    "ax.errorbar(spin_voltage, means, yerr=errors, fmt='o', label='zx plane spin')\n",
    "ax.set(xlabel='Spin voltage', ylabel=r'$\\epsilon$', xlim=(20,160), ylim=(-0.001,0.01))\n",
    "\n",
    "datasets = [amps_wo_fb_spin_xy_30V_x_20V,amps_wo_fb_spin_xy_75V_x_20V, amps_wo_fb_spin_xy_100V_x_20V]\n",
    "voltages = [voltage20, voltage20, voltage20]\n",
    "spin_voltage = [30,75, 100]\n",
    "means2 = []\n",
    "errors2 = []\n",
    "for dat,vv in zip(datasets, voltages):\n",
    "    means2.append(np.mean(dat[:,0])/scale*voltage/vv)\n",
    "    errors2.append(np.std(dat[:,0])/scale*voltage/vv/np.sqrt(len(dat[:,0])))\n",
    "\n",
    "ax.errorbar(spin_voltage, means, yerr=errors, fmt='o', label='xy plane spin')\n",
    "ax.plot(np.arange(20,160), np.arange(20,160)*0, '--r')\n",
    "ax.legend()"
   ]
  },
  {
   "cell_type": "code",
   "execution_count": 384,
   "metadata": {},
   "outputs": [
    {
     "data": {
      "application/vnd.jupyter.widget-view+json": {
       "model_id": "77e7ed2fbd73425caa1d614fc4d17817",
       "version_major": 2,
       "version_minor": 0
      },
      "text/plain": [
       "Canvas(toolbar=Toolbar(toolitems=[('Home', 'Reset original view', 'home', 'home'), ('Back', 'Back to previous …"
      ]
     },
     "metadata": {},
     "output_type": "display_data"
    },
    {
     "name": "stdout",
     "output_type": "stream",
     "text": [
      "mean, std:  0.00543937010689 0.000832138675641\n",
      "mean, std:  0.00364790172652 0.000627235885947\n"
     ]
    }
   ],
   "source": [
    "j = 0\n",
    "data = amps_with_fb_spin_xy_100V_x_20V_delay_2[:,j]/scale*voltage/voltage20_1\n",
    "data2 = amps_wo_fb_spin_zx_100V_x_25V[:,j]/scale*voltage/voltage25\n",
    "\n",
    "_, ax= plt.subplots(figsize=(9.5,4))\n",
    "ax.scatter(range(len(data)), data, label='20V-x, xy-spin-100V, w/ delay, w/ height fb')\n",
    "ax.scatter(range(len(data2)), data2, label='25V-x, xy-spin-100V, w/ delay, w/o height fb')\n",
    "\n",
    "ax.plot(np.arange(0,3000), np.arange(0,3000)*0, '--k')\n",
    "ax.set(xlabel='Dataset', ylabel=r'$\\epsilon$')\n",
    "ax.legend()\n",
    "print('mean, std: ',np.mean(data), np.std(data)/np.sqrt(len(data)))\n",
    "print('mean, std: ', np.mean(data2), np.std(data2)/np.sqrt(len(data2)))"
   ]
  },
  {
   "cell_type": "code",
   "execution_count": 181,
   "metadata": {},
   "outputs": [
    {
     "data": {
      "application/vnd.jupyter.widget-view+json": {
       "model_id": "cc191845f1264e8f9a06bac339d0f44b",
       "version_major": 2,
       "version_minor": 0
      },
      "text/plain": [
       "Canvas(toolbar=Toolbar(toolitems=[('Home', 'Reset original view', 'home', 'home'), ('Back', 'Back to previous …"
      ]
     },
     "metadata": {},
     "output_type": "display_data"
    },
    {
     "data": {
      "text/plain": [
       "<matplotlib.legend.Legend at 0x7f4f75b30dd8>"
      ]
     },
     "execution_count": 181,
     "metadata": {},
     "output_type": "execute_result"
    }
   ],
   "source": [
    "datasets = [amps_wo_fb_spin_xy_100V_x_20V2[1200:],amps_wo_fb_spin_xy_100V_x_50V_delay2, amps_wo_fb_spin_xy_100V_x_100V_delay2]\n",
    "spin_voltage = [20,50, 100]\n",
    "means = []\n",
    "errors = []\n",
    "for dat,vv in zip(datasets, voltages):\n",
    "    means.append(np.mean(dat))\n",
    "    errors.append(np.std(dat)/np.sqrt(len(dat)))\n",
    "\n",
    "_,ax = plt.subplots()\n",
    "ax.errorbar(spin_voltage, means, yerr=errors, fmt='o', label='xy plane spin, 100V')\n",
    "ax.plot(np.arange(15,110), np.arange(15,110)*0, '--r')\n",
    "ax.set(xlabel='Oscillating voltage', ylabel=r'$\\epsilon$', xlim=(15,110), ylim=(-0.001,0.004))\n",
    "ax.legend()"
   ]
  },
  {
   "cell_type": "code",
   "execution_count": null,
   "metadata": {},
   "outputs": [],
   "source": []
  },
  {
   "cell_type": "code",
   "execution_count": 143,
   "metadata": {},
   "outputs": [],
   "source": [
    "def get_dcV(i):\n",
    "    \n",
    "    fname = r'/data/old_trap/20210715/bead2/neutrality/no_height_fb_electrodes_x_20V_41_Hz_spin_xy_30V_50kHz_files_3000/turbombar_powfb_xyzcool_'+str(i)+'.h5'\n",
    "    bb = bu.DataFile();\n",
    "    bb.load(fname);\n",
    "    bb.load_other_data()\n",
    "    return np.mean(bb.other_data[:,5000:85000], axis=1)*100"
   ]
  },
  {
   "cell_type": "code",
   "execution_count": 146,
   "metadata": {},
   "outputs": [
    {
     "data": {
      "text/plain": [
       "array([-3.79819842, -0.56254724, -0.57267787,  0.66225783,  0.92968812,\n",
       "       -0.39438807, -0.0508512 ,  0.22620381])"
      ]
     },
     "execution_count": 146,
     "metadata": {},
     "output_type": "execute_result"
    }
   ],
   "source": [
    "get_dcV(0)"
   ]
  },
  {
   "cell_type": "code",
   "execution_count": 144,
   "metadata": {
    "scrolled": true
   },
   "outputs": [
    {
     "name": "stderr",
     "output_type": "stream",
     "text": [
      "\n",
      "  0%|          | 0/3000 [00:00<?, ?it/s]\u001b[A\n",
      "  5%|▌         | 160/3000 [00:00<00:08, 344.50it/s]\u001b[A\n",
      "  8%|▊         | 240/3000 [00:00<00:08, 344.63it/s]\u001b[A\n",
      " 11%|█         | 320/3000 [00:01<00:08, 319.13it/s]\u001b[A\n",
      " 13%|█▎        | 400/3000 [00:01<00:08, 315.05it/s]\u001b[A\n",
      " 16%|█▌        | 480/3000 [00:01<00:08, 311.91it/s]\u001b[A\n",
      " 19%|█▊        | 560/3000 [00:01<00:08, 290.42it/s]\u001b[A\n",
      " 21%|██▏       | 640/3000 [00:02<00:07, 306.35it/s]\u001b[A\n",
      " 24%|██▍       | 720/3000 [00:02<00:07, 311.11it/s]\u001b[A\n",
      " 27%|██▋       | 800/3000 [00:02<00:07, 302.12it/s]\u001b[A\n",
      " 29%|██▉       | 880/3000 [00:02<00:07, 296.32it/s]\u001b[A\n",
      " 32%|███▏      | 960/3000 [00:03<00:07, 288.74it/s]\u001b[A\n",
      " 35%|███▍      | 1040/3000 [00:03<00:06, 302.20it/s]\u001b[A\n",
      " 37%|███▋      | 1120/3000 [00:03<00:06, 296.34it/s]\u001b[A\n",
      " 40%|████      | 1200/3000 [00:03<00:05, 301.48it/s]\u001b[A\n",
      " 43%|████▎     | 1280/3000 [00:04<00:05, 304.08it/s]\u001b[A\n",
      " 45%|████▌     | 1360/3000 [00:04<00:05, 320.89it/s]\u001b[A\n",
      " 48%|████▊     | 1440/3000 [00:04<00:04, 313.33it/s]\u001b[A\n",
      " 51%|█████     | 1520/3000 [00:04<00:04, 303.54it/s]\u001b[A\n",
      " 53%|█████▎    | 1600/3000 [00:05<00:04, 301.99it/s]\u001b[A\n",
      " 56%|█████▌    | 1680/3000 [00:05<00:04, 304.96it/s]\u001b[A\n",
      " 59%|█████▊    | 1760/3000 [00:05<00:03, 313.54it/s]\u001b[A\n",
      " 61%|██████▏   | 1840/3000 [00:05<00:03, 324.58it/s]\u001b[A\n",
      " 64%|██████▍   | 1920/3000 [00:06<00:03, 327.65it/s]\u001b[A\n",
      " 67%|██████▋   | 2000/3000 [00:06<00:03, 319.44it/s]\u001b[A\n",
      " 69%|██████▉   | 2080/3000 [00:06<00:02, 323.62it/s]\u001b[A\n",
      " 72%|███████▏  | 2160/3000 [00:07<00:02, 297.28it/s]\u001b[A\n",
      " 75%|███████▍  | 2240/3000 [00:07<00:02, 303.23it/s]\u001b[A\n",
      " 77%|███████▋  | 2320/3000 [00:07<00:02, 318.88it/s]\u001b[A\n",
      " 80%|████████  | 2400/3000 [00:07<00:01, 320.56it/s]\u001b[A\n",
      " 83%|████████▎ | 2480/3000 [00:08<00:01, 306.84it/s]\u001b[A\n",
      " 85%|████████▌ | 2560/3000 [00:08<00:01, 307.02it/s]\u001b[A\n",
      " 88%|████████▊ | 2640/3000 [00:08<00:01, 301.19it/s]\u001b[A\n",
      " 91%|█████████ | 2720/3000 [00:08<00:00, 320.59it/s]\u001b[A\n",
      " 93%|█████████▎| 2800/3000 [00:09<00:00, 302.38it/s]\u001b[A\n",
      " 96%|█████████▌| 2880/3000 [00:09<00:00, 304.68it/s]\u001b[A\n",
      " 99%|█████████▊| 2960/3000 [00:09<00:00, 334.51it/s]\u001b[A\n",
      "100%|██████████| 3000/3000 [00:09<00:00, 314.37it/s]\u001b[A"
     ]
    }
   ],
   "source": [
    "voltages_elec3_30V_spin = np.array(Parallel(n_jobs=40)(delayed(get_dcV)(i) for i in tqdm(range(3000))))"
   ]
  },
  {
   "cell_type": "code",
   "execution_count": null,
   "metadata": {},
   "outputs": [],
   "source": []
  },
  {
   "cell_type": "code",
   "execution_count": 313,
   "metadata": {},
   "outputs": [
    {
     "ename": "NameError",
     "evalue": "name 'fit_kwargs' is not defined",
     "output_type": "error",
     "traceback": [
      "\u001b[0;31m---------------------------------------------------------------------------\u001b[0m",
      "\u001b[0;31mNameError\u001b[0m                                 Traceback (most recent call last)",
      "\u001b[0;32m<ipython-input-313-501f632fcb33>\u001b[0m in \u001b[0;36m<module>\u001b[0;34m\u001b[0m\n\u001b[1;32m      9\u001b[0m \u001b[0mb\u001b[0m\u001b[0;34m,\u001b[0m \u001b[0ma\u001b[0m \u001b[0;34m=\u001b[0m \u001b[0msignal\u001b[0m\u001b[0;34m.\u001b[0m\u001b[0mbutter\u001b[0m\u001b[0;34m(\u001b[0m\u001b[0;36m3\u001b[0m\u001b[0;34m,\u001b[0m \u001b[0;34m[\u001b[0m\u001b[0;36m2.\u001b[0m\u001b[0;34m*\u001b[0m\u001b[0;34m(\u001b[0m\u001b[0mdrive_freq\u001b[0m\u001b[0;34m-\u001b[0m\u001b[0mbandwidth\u001b[0m\u001b[0;34m/\u001b[0m\u001b[0;36m2.\u001b[0m\u001b[0;34m)\u001b[0m\u001b[0;34m/\u001b[0m\u001b[0mfsamp\u001b[0m\u001b[0;34m,\u001b[0m \u001b[0;36m2.\u001b[0m\u001b[0;34m*\u001b[0m\u001b[0;34m(\u001b[0m\u001b[0mdrive_freq\u001b[0m\u001b[0;34m+\u001b[0m\u001b[0mbandwidth\u001b[0m\u001b[0;34m/\u001b[0m\u001b[0;36m2.\u001b[0m\u001b[0;34m)\u001b[0m\u001b[0;34m/\u001b[0m\u001b[0mfsamp\u001b[0m \u001b[0;34m]\u001b[0m\u001b[0;34m,\u001b[0m \u001b[0mbtype\u001b[0m \u001b[0;34m=\u001b[0m \u001b[0;34m'bandpass'\u001b[0m\u001b[0;34m)\u001b[0m\u001b[0;34m\u001b[0m\u001b[0;34m\u001b[0m\u001b[0m\n\u001b[1;32m     10\u001b[0m \u001b[0mxx2\u001b[0m \u001b[0;34m=\u001b[0m \u001b[0msignal\u001b[0m\u001b[0;34m.\u001b[0m\u001b[0mfiltfilt\u001b[0m\u001b[0;34m(\u001b[0m\u001b[0mb\u001b[0m\u001b[0;34m,\u001b[0m \u001b[0ma\u001b[0m\u001b[0;34m,\u001b[0m \u001b[0mbb\u001b[0m\u001b[0;34m.\u001b[0m\u001b[0mother_data\u001b[0m\u001b[0;34m[\u001b[0m\u001b[0;36m3\u001b[0m\u001b[0;34m]\u001b[0m\u001b[0;34m)\u001b[0m\u001b[0;34m[\u001b[0m\u001b[0;34m:\u001b[0m\u001b[0;34m:\u001b[0m\u001b[0mdecimate\u001b[0m\u001b[0;34m]\u001b[0m\u001b[0;34m\u001b[0m\u001b[0;34m\u001b[0m\u001b[0m\n\u001b[0;32m---> 11\u001b[0;31m \u001b[0mm1_tmp\u001b[0m \u001b[0;34m=\u001b[0m \u001b[0mll\u001b[0m\u001b[0;34m.\u001b[0m\u001b[0mfind_mle_sin\u001b[0m\u001b[0;34m(\u001b[0m\u001b[0mxx2\u001b[0m\u001b[0;34m,\u001b[0m \u001b[0mfsamp\u001b[0m\u001b[0;34m=\u001b[0m\u001b[0;36m5000\u001b[0m\u001b[0;34m/\u001b[0m\u001b[0mdecimate\u001b[0m\u001b[0;34m,\u001b[0m \u001b[0mnoise_rms\u001b[0m\u001b[0;34m=\u001b[0m\u001b[0;36m1\u001b[0m\u001b[0;34m,\u001b[0m \u001b[0mplot\u001b[0m\u001b[0;34m=\u001b[0m\u001b[0;32mFalse\u001b[0m\u001b[0;34m,\u001b[0m \u001b[0msuppress_print\u001b[0m\u001b[0;34m=\u001b[0m\u001b[0;32mTrue\u001b[0m\u001b[0;34m,\u001b[0m \u001b[0;34m**\u001b[0m\u001b[0mfit_kwargs\u001b[0m\u001b[0;34m)\u001b[0m\u001b[0;34m\u001b[0m\u001b[0;34m\u001b[0m\u001b[0m\n\u001b[0m\u001b[1;32m     12\u001b[0m \u001b[0;34m\u001b[0m\u001b[0m\n\u001b[1;32m     13\u001b[0m \u001b[0mxx2\u001b[0m \u001b[0;34m=\u001b[0m \u001b[0msignal\u001b[0m\u001b[0;34m.\u001b[0m\u001b[0mfiltfilt\u001b[0m\u001b[0;34m(\u001b[0m\u001b[0mb\u001b[0m\u001b[0;34m,\u001b[0m \u001b[0ma\u001b[0m\u001b[0;34m,\u001b[0m \u001b[0mbb\u001b[0m\u001b[0;34m.\u001b[0m\u001b[0mpos_data\u001b[0m\u001b[0;34m[\u001b[0m\u001b[0;36m0\u001b[0m\u001b[0;34m]\u001b[0m\u001b[0;34m)\u001b[0m\u001b[0;34m[\u001b[0m\u001b[0;34m:\u001b[0m\u001b[0;34m:\u001b[0m\u001b[0mdecimate\u001b[0m\u001b[0;34m]\u001b[0m\u001b[0;34m\u001b[0m\u001b[0;34m\u001b[0m\u001b[0m\n",
      "\u001b[0;31mNameError\u001b[0m: name 'fit_kwargs' is not defined"
     ]
    }
   ],
   "source": [
    "i=1\n",
    "fname = r'/data/old_trap/20210817/bead1/neutrality/height_fb_0_7_x_41Hz_50V_delay_10s__spin_xz_100V_50kHz_files_3000/x_neutrality_50V_41Hz_'+str(i)+'.h5'\n",
    "    \n",
    "drive_freq = 41\n",
    "bb = bu.DataFile();\n",
    "bb.load(fname);\n",
    "bb.load_other_data()\n",
    "    \n",
    "b, a = signal.butter(3, [2.*(drive_freq-bandwidth/2.)/fsamp, 2.*(drive_freq+bandwidth/2.)/fsamp ], btype = 'bandpass')\n",
    "xx2 = signal.filtfilt(b, a, bb.other_data[3])[::decimate]\n",
    "m1_tmp = ll.find_mle_sin(xx2, fsamp=5000/decimate, noise_rms=1, plot=False, suppress_print=True, **fit_kwargs)\n",
    "    \n",
    "xx2 = signal.filtfilt(b, a, bb.pos_data[0])[::decimate]\n",
    "\n",
    "_,ax = plt.subplots()\n",
    "ax.scatter(range(50000), bb.other_data[3])"
   ]
  }
 ],
 "metadata": {
  "kernelspec": {
   "display_name": "Python 3",
   "language": "python",
   "name": "python3"
  },
  "language_info": {
   "codemirror_mode": {
    "name": "ipython",
    "version": 3
   },
   "file_extension": ".py",
   "mimetype": "text/x-python",
   "name": "python",
   "nbconvert_exporter": "python",
   "pygments_lexer": "ipython3",
   "version": "3.6.9"
  }
 },
 "nbformat": 4,
 "nbformat_minor": 4
}
