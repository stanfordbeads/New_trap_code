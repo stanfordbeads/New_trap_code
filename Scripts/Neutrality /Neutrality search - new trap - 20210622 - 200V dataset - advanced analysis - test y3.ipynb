{
 "cells": [
  {
   "cell_type": "code",
   "execution_count": 5,
   "metadata": {},
   "outputs": [],
   "source": [
    "%run /home/analysis_user/New_trap_code/Tools/basic_packages.py"
   ]
  },
  {
   "cell_type": "code",
   "execution_count": 6,
   "metadata": {},
   "outputs": [],
   "source": [
    "%matplotlib widget"
   ]
  },
  {
   "cell_type": "markdown",
   "metadata": {},
   "source": [
    "### Discharge data"
   ]
  },
  {
   "cell_type": "code",
   "execution_count": 7,
   "metadata": {},
   "outputs": [],
   "source": [
    "ll = likelihood_analyser.LikelihoodAnalyser()\n",
    "bandwidth = 2\n",
    "decimate = 10\n",
    "drive_freq = 71\n",
    "fsamp = 5000\n",
    "def func1_scale(i):\n",
    "    bb = step_cal_files[i]\n",
    "        \n",
    "    freq2 = np.fft.rfftfreq(len(bb.electrode_data[0]), d=1./5000)\n",
    "    fft_angles = np.angle(np.fft.rfft(bb.electrode_data[0]))\n",
    "    phi_tmp2 = (fft_angles[freq2==drive_freq]+np.pi/2)%(2*np.pi)\n",
    "    print(phi_tmp2,np.std(bb.electrode_data[0])*np.sqrt(2))\n",
    "\n",
    "    fit_kwargs = {'A': 0, 'f': drive_freq, 'phi': phi_tmp2, \n",
    "                  'error_A': 1, 'error_f': 1, 'error_phi': 0.5, 'errordef': 1,\n",
    "                  'limit_phi': [-2 * np.pi, 2 * np.pi], \n",
    "                  'limit_A': [-1000, 1000], \n",
    "                  'print_level': 0, 'fix_f': True, 'fix_phi': True}\n",
    "\n",
    "    frequency = fit_kwargs['f']\n",
    "\n",
    "    b, a = signal.butter(3, [2.*(drive_freq-bandwidth/2.)/fsamp, 2.*(drive_freq+bandwidth/2.)/fsamp ], btype = 'bandpass')\n",
    "    xx2 = signal.filtfilt(b, a, bb.x2)[::decimate]\n",
    "    \n",
    "    m1_tmp = ll.find_mle_sin(xx2, fsamp=5000/decimate, noise_rms=1, plot=False, suppress_print=True, **fit_kwargs)\n",
    "    \n",
    "    return m1_tmp.values[0]"
   ]
  },
  {
   "cell_type": "code",
   "execution_count": 8,
   "metadata": {},
   "outputs": [],
   "source": [
    "ll = likelihood_analyser.LikelihoodAnalyser()\n",
    "bandwidth = 2\n",
    "decimate = 10\n",
    "drive_freq = 71\n",
    "fsamp = 5000\n",
    "def func1_scale2(i):\n",
    "    bb = step_cal_files[i]\n",
    "        \n",
    "#     freq2 = np.fft.rfftfreq(len(bb.electrode_data[0]), d=1./5000)\n",
    "#     fft_angles = np.angle(np.fft.rfft(bb.electrode_data[0]))\n",
    "#     phi_tmp2 = (fft_angles[freq2==drive_freq]+np.pi/2)%(2*np.pi)\n",
    "#     print(phi_tmp2,np.std(bb.electrode_data[0])*np.sqrt(2))\n",
    "    \n",
    "    phi_tmp2 = 0.081\n",
    "    fit_kwargs = {'A': 0, 'A2': A2_avg, 'f': drive_freq, 'f2': drive_freq, 'phi': 0, 'delta_phi': np.pi, \n",
    "                  'error_A': 1, 'error_A2': 1, 'error_f': 1, 'error_f2': 1, \n",
    "                  'error_phi': 0.5, 'error_delta_phi': 0.5, 'errordef': 1,\n",
    "                  'limit_A': [-1, 1], 'limit_delta_phi': [-2*np.pi, 2*np.pi], \n",
    "                  'print_level': 0, 'fix_A2': True, 'fix_f': True, 'fix_f2': True, 'fix_phi': True, 'fix_delta_phi': True}\n",
    "\n",
    "    frequency = fit_kwargs['f']\n",
    "\n",
    "    b, a = signal.butter(3, [2.*(drive_freq-bandwidth/2.)/fsamp, 2.*(drive_freq+bandwidth/2.)/fsamp ], btype = 'bandpass')\n",
    "    xx2 = signal.filtfilt(b, a, bb.y2)[::decimate]\n",
    "    \n",
    "    \n",
    "    b, a = signal.butter(3, [2.*(drive_freq-bandwidth/2.)/fsamp, 2.*(drive_freq+bandwidth/2.)/fsamp ], btype = 'bandpass')\n",
    "    xx3 = signal.filtfilt(b, a, bb.y3)[::decimate]*1e-4\n",
    "    \n",
    "    m1_tmp = ll.find_mle_2sin(xx2, xx3, fsamp=5000/decimate, noise_rms=1, noise_rms2=1, plot=False, suppress_print=True, **fit_kwargs)\n",
    "    print(m1_tmp.values)\n",
    "    return m1_tmp.values[0], m1_tmp.values[1], m1_tmp.values[4], m1_tmp.values[5]"
   ]
  },
  {
   "cell_type": "code",
   "execution_count": 9,
   "metadata": {},
   "outputs": [],
   "source": [
    "ll = likelihood_analyser.LikelihoodAnalyser()\n",
    "bandwidth = 2\n",
    "decimate = 10\n",
    "drive_freq = 71\n",
    "fsamp = 5000\n",
    "def func1_scale_calc(i):\n",
    "    bb = step_cal_files[i]\n",
    "        \n",
    "    freq2 = np.fft.rfftfreq(len(bb.electrode_data[0]), d=1./5000)\n",
    "    fft_angles = np.angle(np.fft.rfft(bb.electrode_data[0]))\n",
    "    phi_tmp2 = (fft_angles[freq2==drive_freq]+np.pi/2)%(2*np.pi)\n",
    "    fft_angles_y2 = np.angle(np.fft.rfft(bb.y2))\n",
    "    fft_angles_y3 = np.angle(np.fft.rfft(bb.y3))\n",
    "    phi_tmp3 = (fft_angles_y2[freq2==drive_freq]+np.pi/2)%(2*np.pi)\n",
    "    phi_tmp4 = (fft_angles_y3[freq2==drive_freq]+np.pi/2)%(2*np.pi)\n",
    "\n",
    "    \n",
    "    b, a = signal.butter(3, [2.*(drive_freq-bandwidth/2.)/fsamp, 2.*(drive_freq+bandwidth/2.)/fsamp ], btype = 'bandpass')\n",
    "    xx2 = signal.filtfilt(b, a, bb.y2)[::decimate]\n",
    "    \n",
    "    b, a = signal.butter(3, [2.*(drive_freq-bandwidth/2.)/fsamp, 2.*(drive_freq+bandwidth/2.)/fsamp ], btype = 'bandpass')\n",
    "    xx3 = signal.filtfilt(b, a, bb.y3)[::decimate]*1e-4\n",
    "    \n",
    "    print(phi_tmp2, phi_tmp3, phi_tmp4, np.std(bb.electrode_data[0])*np.sqrt(2), np.std(xx3)/np.std(xx2))\n",
    "\n",
    "    return phi_tmp2, phi_tmp3, phi_tmp4, np.std(xx2), np.std(xx3)"
   ]
  },
  {
   "cell_type": "code",
   "execution_count": null,
   "metadata": {},
   "outputs": [],
   "source": []
  },
  {
   "cell_type": "code",
   "execution_count": 10,
   "metadata": {
    "scrolled": true
   },
   "outputs": [
    {
     "ename": "NameError",
     "evalue": "name 'step_cal_files' is not defined",
     "output_type": "error",
     "traceback": [
      "\u001b[0;31m---------------------------------------------------------------------------\u001b[0m",
      "\u001b[0;31mNameError\u001b[0m                                 Traceback (most recent call last)",
      "\u001b[0;32m<ipython-input-10-3c43aa096163>\u001b[0m in \u001b[0;36m<module>\u001b[0;34m\u001b[0m\n\u001b[1;32m      1\u001b[0m \u001b[0mamps5\u001b[0m \u001b[0;34m=\u001b[0m \u001b[0;34m[\u001b[0m\u001b[0;34m]\u001b[0m\u001b[0;34m\u001b[0m\u001b[0;34m\u001b[0m\u001b[0m\n\u001b[1;32m      2\u001b[0m \u001b[0;32mfor\u001b[0m \u001b[0mi\u001b[0m \u001b[0;32min\u001b[0m \u001b[0mrange\u001b[0m\u001b[0;34m(\u001b[0m\u001b[0;36m20\u001b[0m\u001b[0;34m)\u001b[0m\u001b[0;34m:\u001b[0m\u001b[0;34m\u001b[0m\u001b[0;34m\u001b[0m\u001b[0m\n\u001b[0;32m----> 3\u001b[0;31m     \u001b[0mprint\u001b[0m\u001b[0;34m(\u001b[0m\u001b[0mi\u001b[0m\u001b[0;34m,\u001b[0m\u001b[0;34m'/'\u001b[0m\u001b[0;34m,\u001b[0m\u001b[0mlen\u001b[0m\u001b[0;34m(\u001b[0m\u001b[0mstep_cal_files\u001b[0m\u001b[0;34m)\u001b[0m\u001b[0;34m)\u001b[0m\u001b[0;34m\u001b[0m\u001b[0;34m\u001b[0m\u001b[0m\n\u001b[0m\u001b[1;32m      4\u001b[0m     \u001b[0mamps5\u001b[0m\u001b[0;34m.\u001b[0m\u001b[0mappend\u001b[0m\u001b[0;34m(\u001b[0m\u001b[0mfunc1_scale_calc\u001b[0m\u001b[0;34m(\u001b[0m\u001b[0mi\u001b[0m\u001b[0;34m)\u001b[0m\u001b[0;34m)\u001b[0m\u001b[0;34m\u001b[0m\u001b[0;34m\u001b[0m\u001b[0m\n",
      "\u001b[0;31mNameError\u001b[0m: name 'step_cal_files' is not defined"
     ]
    }
   ],
   "source": [
    "amps5 = []\n",
    "for i in range(20):\n",
    "    print(i,'/',len(step_cal_files))\n",
    "    amps5.append(func1_scale_calc(i))"
   ]
  },
  {
   "cell_type": "code",
   "execution_count": null,
   "metadata": {
    "scrolled": true
   },
   "outputs": [
    {
     "name": "stderr",
     "output_type": "stream",
     "text": [
      "\n",
      "  0%|          | 0/280 [00:00<?, ?it/s]\u001b[A\n",
      "  0%|          | 1/280 [00:00<02:20,  1.99it/s]\u001b[A\n",
      "  1%|          | 2/280 [00:00<01:56,  2.38it/s]\u001b[A\n",
      "  1%|▏         | 4/280 [00:00<01:26,  3.19it/s]\u001b[A\n",
      "  2%|▏         | 5/280 [00:00<01:11,  3.85it/s]\u001b[A\n",
      "  2%|▏         | 6/280 [00:01<00:59,  4.63it/s]\u001b[A\n",
      "  2%|▎         | 7/280 [00:01<01:00,  4.54it/s]\u001b[A\n",
      "  3%|▎         | 9/280 [00:01<00:47,  5.73it/s]\u001b[A\n",
      "  4%|▍         | 11/280 [00:01<00:38,  7.01it/s]\u001b[A\n",
      "  5%|▍         | 13/280 [00:01<00:30,  8.67it/s]\u001b[A\n",
      "  5%|▌         | 15/280 [00:01<00:26,  9.85it/s]\u001b[A\n",
      "  6%|▋         | 18/280 [00:01<00:21, 12.31it/s]\u001b[A\n",
      "  7%|▋         | 20/280 [00:02<00:18, 13.86it/s]\u001b[A\n",
      "  8%|▊         | 22/280 [00:02<00:17, 14.59it/s]\u001b[A\n",
      "  9%|▊         | 24/280 [00:02<00:18, 13.60it/s]\u001b[A\n",
      "  9%|▉         | 26/280 [00:02<00:18, 13.71it/s]\u001b[A\n",
      " 10%|█         | 28/280 [00:02<00:22, 11.07it/s]\u001b[A\n",
      " 11%|█         | 30/280 [00:03<00:32,  7.72it/s]\u001b[A\n",
      " 11%|█▏        | 32/280 [00:03<00:27,  9.05it/s]\u001b[A\n",
      " 12%|█▏        | 34/280 [00:03<00:26,  9.20it/s]\u001b[A\n",
      " 13%|█▎        | 37/280 [00:03<00:21, 11.23it/s]\u001b[A\n",
      " 14%|█▍        | 39/280 [00:03<00:21, 11.34it/s]\u001b[A\n",
      " 15%|█▍        | 41/280 [00:03<00:18, 12.61it/s]\u001b[A\n",
      " 16%|█▌        | 44/280 [00:04<00:16, 14.10it/s]\u001b[A\n",
      " 16%|█▋        | 46/280 [00:04<00:19, 11.82it/s]\u001b[A\n",
      " 17%|█▋        | 48/280 [00:04<00:22, 10.17it/s]\u001b[A\n",
      " 18%|█▊        | 50/280 [00:05<00:39,  5.84it/s]\u001b[A\n",
      " 19%|█▊        | 52/280 [00:06<00:57,  3.98it/s]\u001b[A\n",
      " 19%|█▉        | 54/280 [00:06<00:43,  5.22it/s]\u001b[A\n",
      " 20%|██        | 56/280 [00:06<00:36,  6.12it/s]\u001b[A\n",
      " 21%|██        | 59/280 [00:06<00:28,  7.79it/s]\u001b[A\n",
      " 22%|██▏       | 62/280 [00:06<00:23,  9.38it/s]\u001b[A\n",
      " 23%|██▎       | 64/280 [00:06<00:22,  9.62it/s]\u001b[A\n",
      " 24%|██▎       | 66/280 [00:07<00:20, 10.65it/s]\u001b[A\n",
      " 24%|██▍       | 68/280 [00:07<00:20, 10.27it/s]\u001b[A\n",
      " 25%|██▌       | 71/280 [00:07<00:16, 12.62it/s]\u001b[A\n",
      " 26%|██▋       | 74/280 [00:07<00:14, 14.44it/s]\u001b[A\n",
      " 28%|██▊       | 77/280 [00:07<00:13, 15.16it/s]\u001b[A\n",
      " 29%|██▊       | 80/280 [00:07<00:12, 15.85it/s]\u001b[A\n",
      " 29%|██▉       | 82/280 [00:08<00:13, 14.62it/s]\u001b[A\n",
      " 30%|███       | 85/280 [00:08<00:12, 15.14it/s]\u001b[A\n",
      " 31%|███       | 87/280 [00:08<00:13, 14.09it/s]\u001b[A\n",
      " 32%|███▏      | 90/280 [00:08<00:11, 15.96it/s]\u001b[A\n",
      " 33%|███▎      | 92/280 [00:08<00:20,  9.30it/s]\u001b[A\n",
      " 34%|███▎      | 94/280 [00:09<00:16, 10.95it/s]\u001b[A\n",
      " 34%|███▍      | 96/280 [00:09<00:14, 12.55it/s]\u001b[A\n",
      " 35%|███▌      | 98/280 [00:09<00:13, 13.40it/s]\u001b[A\n",
      " 36%|███▌      | 101/280 [00:09<00:13, 13.06it/s]\u001b[A\n",
      " 37%|███▋      | 103/280 [00:09<00:12, 14.54it/s]\u001b[A\n",
      " 38%|███▊      | 105/280 [00:09<00:12, 13.88it/s]\u001b[A\n",
      " 39%|███▊      | 108/280 [00:09<00:10, 15.92it/s]\u001b[A\n",
      " 40%|███▉      | 111/280 [00:10<00:10, 16.84it/s]\u001b[A\n",
      " 40%|████      | 113/280 [00:10<00:11, 14.57it/s]\u001b[A\n",
      " 41%|████      | 115/280 [00:10<00:12, 13.62it/s]\u001b[A\n",
      " 42%|████▏     | 117/280 [00:10<00:11, 14.38it/s]\u001b[A\n",
      " 42%|████▎     | 119/280 [00:10<00:10, 15.21it/s]\u001b[A\n",
      " 43%|████▎     | 121/280 [00:10<00:12, 13.20it/s]\u001b[A\n",
      " 44%|████▍     | 123/280 [00:11<00:12, 12.66it/s]\u001b[A\n",
      " 45%|████▌     | 126/280 [00:11<00:10, 14.94it/s]\u001b[A\n",
      " 46%|████▌     | 128/280 [00:11<00:09, 15.56it/s]\u001b[A\n",
      " 47%|████▋     | 131/280 [00:11<00:08, 16.74it/s]\u001b[A\n",
      " 48%|████▊     | 133/280 [00:11<00:09, 16.14it/s]\u001b[A\n",
      " 49%|████▊     | 136/280 [00:11<00:07, 18.32it/s]\u001b[A\n",
      " 50%|████▉     | 139/280 [00:11<00:07, 18.23it/s]\u001b[A\n",
      " 50%|█████     | 141/280 [00:12<00:12, 10.99it/s]\u001b[A\n",
      " 51%|█████     | 143/280 [00:12<00:10, 12.55it/s]\u001b[A\n",
      " 52%|█████▏    | 145/280 [00:12<00:11, 12.04it/s]\u001b[A\n",
      " 53%|█████▎    | 148/280 [00:12<00:10, 13.17it/s]\u001b[A\n",
      " 54%|█████▎    | 150/280 [00:12<00:10, 12.07it/s]\u001b[A\n",
      " 54%|█████▍    | 152/280 [00:12<00:09, 13.34it/s]\u001b[A\n",
      " 55%|█████▌    | 154/280 [00:13<00:09, 13.83it/s]\u001b[A\n",
      " 56%|█████▌    | 156/280 [00:13<00:09, 12.54it/s]\u001b[A\n",
      " 56%|█████▋    | 158/280 [00:13<00:09, 12.80it/s]\u001b[A\n",
      " 57%|█████▋    | 160/280 [00:13<00:09, 12.18it/s]\u001b[A\n",
      " 58%|█████▊    | 162/280 [00:13<00:12,  9.45it/s]\u001b[A\n",
      " 59%|█████▊    | 164/280 [00:14<00:10, 10.59it/s]\u001b[A\n",
      " 59%|█████▉    | 166/280 [00:14<00:12,  9.35it/s]\u001b[A\n",
      " 60%|██████    | 168/280 [00:14<00:14,  7.87it/s]\u001b[A\n",
      " 61%|██████    | 170/280 [00:14<00:11,  9.49it/s]\u001b[A\n",
      " 62%|██████▏   | 173/280 [00:14<00:09, 10.99it/s]\u001b[A\n",
      " 63%|██████▎   | 176/280 [00:15<00:14,  7.20it/s]\u001b[A\n",
      " 64%|██████▎   | 178/280 [00:15<00:12,  8.11it/s]\u001b[A\n",
      " 65%|██████▍   | 181/280 [00:16<00:09, 10.21it/s]\u001b[A\n",
      " 65%|██████▌   | 183/280 [00:16<00:08, 10.81it/s]\u001b[A\n",
      " 66%|██████▌   | 185/280 [00:16<00:07, 12.27it/s]\u001b[A\n",
      " 67%|██████▋   | 187/280 [00:16<00:07, 12.07it/s]\u001b[A\n",
      " 68%|██████▊   | 189/280 [00:16<00:07, 12.71it/s]\u001b[A\n",
      " 68%|██████▊   | 191/280 [00:17<00:16,  5.31it/s]\u001b[A\n",
      " 69%|██████▉   | 193/280 [00:18<00:21,  4.01it/s]\u001b[A\n",
      " 70%|██████▉   | 195/280 [00:18<00:16,  5.25it/s]\u001b[A\n",
      " 70%|███████   | 197/280 [00:19<00:19,  4.17it/s]\u001b[A\n",
      " 71%|███████▏  | 200/280 [00:19<00:14,  5.40it/s]\u001b[A\n",
      " 72%|███████▏  | 202/280 [00:19<00:11,  6.72it/s]\u001b[A\n",
      " 73%|███████▎  | 204/280 [00:19<00:09,  7.61it/s]\u001b[A\n",
      " 74%|███████▎  | 206/280 [00:19<00:08,  8.60it/s]\u001b[A\n",
      " 74%|███████▍  | 208/280 [00:19<00:08,  8.83it/s]\u001b[A\n",
      " 75%|███████▌  | 210/280 [00:20<00:13,  5.23it/s]\u001b[A\n",
      " 76%|███████▌  | 212/280 [00:20<00:10,  6.71it/s]\u001b[A\n",
      " 76%|███████▋  | 214/280 [00:21<00:12,  5.36it/s]\u001b[A\n",
      " 78%|███████▊  | 217/280 [00:21<00:09,  6.89it/s]\u001b[A\n",
      " 78%|███████▊  | 219/280 [00:21<00:10,  6.01it/s]\u001b[A\n",
      " 79%|███████▉  | 221/280 [00:22<00:11,  5.10it/s]\u001b[A\n",
      " 80%|███████▉  | 223/280 [00:22<00:10,  5.31it/s]"
     ]
    }
   ],
   "source": [
    "step_cal_dir = r'/data/new_trap/20210622/bead1/Discharge/FineDischarge/'\n",
    "step_cal_files = load_dir(step_cal_dir, start_file=300)"
   ]
  },
  {
   "cell_type": "code",
   "execution_count": 12,
   "metadata": {},
   "outputs": [
    {
     "name": "stderr",
     "output_type": "stream",
     "text": [
      "100%|██████████| 20/20 [00:00<00:00, 30.08it/s]"
     ]
    },
    {
     "name": "stdout",
     "output_type": "stream",
     "text": [
      "20  files in folder\n",
      "20  files loaded\n"
     ]
    },
    {
     "name": "stderr",
     "output_type": "stream",
     "text": [
      "\n"
     ]
    }
   ],
   "source": [
    "step_cal_dir = r'/data/new_trap/20210622/bead1/Single_electrode/Y_electrode_plus_10V_71hZ/'\n",
    "step_cal_files = load_dir(step_cal_dir, start_file=0)"
   ]
  },
  {
   "cell_type": "code",
   "execution_count": 14,
   "metadata": {
    "scrolled": true
   },
   "outputs": [
    {
     "name": "stdout",
     "output_type": "stream",
     "text": [
      "0 / 20\n",
      "[0.08188066] 9.996107877213985\n",
      "1 / 20\n",
      "[0.08188015] 9.996105121217429\n",
      "2 / 20\n",
      "[0.08187321] 9.996110993484734\n",
      "3 / 20\n",
      "[0.08187399] 9.996109039613998\n",
      "4 / 20\n",
      "[0.08189423] 9.996113802364688\n",
      "5 / 20\n",
      "[0.08189315] 9.996109154288847\n",
      "6 / 20\n",
      "[0.08189107] 9.996114936920275\n",
      "7 / 20\n",
      "[0.08188308] 9.996111119962778\n",
      "8 / 20\n",
      "[0.0818777] 9.996106667428982\n",
      "9 / 20\n",
      "[0.08188094] 9.996106805984926\n",
      "10 / 20\n",
      "[0.0818879] 9.996105773973794\n",
      "11 / 20\n",
      "[0.08188558] 9.996106971258135\n",
      "12 / 20\n",
      "[0.08188831] 9.99611116770616\n",
      "13 / 20\n",
      "[0.08189088] 9.996113405730286\n",
      "14 / 20\n",
      "[0.08190248] 9.996107494991396\n",
      "15 / 20\n",
      "[0.08190436] 9.996108960523618\n",
      "16 / 20\n",
      "[0.08189532] 9.99610815339652\n",
      "17 / 20\n",
      "[0.08190619] 9.99611377245563\n",
      "18 / 20\n",
      "[0.0819072] 9.996113591793565\n",
      "19 / 20\n",
      "[0.08190634] 9.99611128872374\n"
     ]
    }
   ],
   "source": [
    "amps4 = []\n",
    "for i in range(20):\n",
    "    print(i,'/',len(step_cal_files))\n",
    "    amps4.append(func1_scale(i))"
   ]
  },
  {
   "cell_type": "code",
   "execution_count": 291,
   "metadata": {},
   "outputs": [
    {
     "name": "stderr",
     "output_type": "stream",
     "text": [
      "/home/analysis_user/.local/lib/python3.6/site-packages/ipykernel_launcher.py:3: VisibleDeprecationWarning: Creating an ndarray from ragged nested sequences (which is a list-or-tuple of lists-or-tuples-or ndarrays with different lengths or shapes) is deprecated. If you meant to do this, you must specify 'dtype=object' when creating the ndarray\n",
      "  This is separate from the ipykernel package so we can avoid doing imports until\n"
     ]
    }
   ],
   "source": [
    "amps4 = np.array(amps4)\n",
    "amps3 = np.array(amps3)\n",
    "amps5 = np.array(amps5)"
   ]
  },
  {
   "cell_type": "code",
   "execution_count": 275,
   "metadata": {},
   "outputs": [
    {
     "data": {
      "text/plain": [
       "(0.0007674749967552365, 2.1713557592582267)"
      ]
     },
     "execution_count": 275,
     "metadata": {},
     "output_type": "execute_result"
    }
   ],
   "source": [
    "A_avg = np.mean(amps5[:,3])\n",
    "A2_avg = np.mean(amps5[:,4])/A_avg\n",
    "A_avg, A2_avg"
   ]
  },
  {
   "cell_type": "code",
   "execution_count": 276,
   "metadata": {},
   "outputs": [],
   "source": [
    "A2_avg = 2.1713557592582267"
   ]
  },
  {
   "cell_type": "code",
   "execution_count": 293,
   "metadata": {},
   "outputs": [
    {
     "data": {
      "text/plain": [
       "(-7.225243031372111e-05, -3.54295075496134e-05)"
      ]
     },
     "execution_count": 293,
     "metadata": {},
     "output_type": "execute_result"
    }
   ],
   "source": [
    "Scale_y3 = ScaleY*np.mean(amps4[:,0])/np.mean(amps3)\n",
    "Scale_y3, ScaleY"
   ]
  },
  {
   "cell_type": "code",
   "execution_count": 292,
   "metadata": {},
   "outputs": [
    {
     "data": {
      "application/vnd.jupyter.widget-view+json": {
       "model_id": "b9c28ad394e54c438c234ddbd41c1f0c",
       "version_major": 2,
       "version_minor": 0
      },
      "text/plain": [
       "Canvas(toolbar=Toolbar(toolitems=[('Home', 'Reset original view', 'home', 'home'), ('Back', 'Back to previous …"
      ]
     },
     "metadata": {},
     "output_type": "display_data"
    },
    {
     "data": {
      "text/plain": [
       "<matplotlib.collections.PathCollection at 0x7f021bf2e550>"
      ]
     },
     "execution_count": 292,
     "metadata": {},
     "output_type": "execute_result"
    }
   ],
   "source": [
    "_,ax = plt.subplots()\n",
    "ax.scatter(range(20), amps4[:,0])\n",
    "ax.scatter(range(20), amps3)\n",
    "ax.scatter(range(20), amps5[:,3]*-1)"
   ]
  },
  {
   "cell_type": "code",
   "execution_count": 15,
   "metadata": {
    "scrolled": true
   },
   "outputs": [
    {
     "name": "stdout",
     "output_type": "stream",
     "text": [
      "0 / 20\n",
      "[0.08188066] 9.996107877213985\n",
      "1 / 20\n",
      "[0.08188015] 9.996105121217429\n",
      "2 / 20\n",
      "[0.08187321] 9.996110993484734\n",
      "3 / 20\n",
      "[0.08187399] 9.996109039613998\n",
      "4 / 20\n",
      "[0.08189423] 9.996113802364688\n",
      "5 / 20\n",
      "[0.08189315] 9.996109154288847\n",
      "6 / 20\n",
      "[0.08189107] 9.996114936920275\n",
      "7 / 20\n",
      "[0.08188308] 9.996111119962778\n",
      "8 / 20\n",
      "[0.0818777] 9.996106667428982\n",
      "9 / 20\n",
      "[0.08188094] 9.996106805984926\n",
      "10 / 20\n",
      "[0.0818879] 9.996105773973794\n",
      "11 / 20\n",
      "[0.08188558] 9.996106971258135\n",
      "12 / 20\n",
      "[0.08188831] 9.99611116770616\n",
      "13 / 20\n",
      "[0.08189088] 9.996113405730286\n",
      "14 / 20\n",
      "[0.08190248] 9.996107494991396\n",
      "15 / 20\n",
      "[0.08190436] 9.996108960523618\n",
      "16 / 20\n",
      "[0.08189532] 9.99610815339652\n",
      "17 / 20\n",
      "[0.08190619] 9.99611377245563\n",
      "18 / 20\n",
      "[0.0819072] 9.996113591793565\n",
      "19 / 20\n",
      "[0.08190634] 9.99611128872374\n"
     ]
    }
   ],
   "source": [
    "amps3 = []\n",
    "for i in range(20):\n",
    "    print(i,'/',len(step_cal_files))\n",
    "    amps3.append(func1_scale(i))"
   ]
  },
  {
   "cell_type": "code",
   "execution_count": 16,
   "metadata": {},
   "outputs": [
    {
     "name": "stdout",
     "output_type": "stream",
     "text": [
      "voltage:  9.99611128872374\n"
     ]
    }
   ],
   "source": [
    "# scale = np.abs(np.mean(amps3[180:200]))\n",
    "# scaleY = scale*-1.0502\n",
    "# print(\"Scale is \", scaleY)\n",
    "bb = step_cal_files[-1]\n",
    "voltage = np.std(bb.electrode_data[0])*np.sqrt(2)\n",
    "print(\"voltage: \", voltage)"
   ]
  },
  {
   "cell_type": "code",
   "execution_count": 17,
   "metadata": {},
   "outputs": [],
   "source": [
    "ScaleY = -3.54295075496134e-05"
   ]
  },
  {
   "cell_type": "code",
   "execution_count": 14,
   "metadata": {},
   "outputs": [
    {
     "data": {
      "text/plain": [
       "-9.588669101938011"
      ]
     },
     "execution_count": 14,
     "metadata": {},
     "output_type": "execute_result"
    }
   ],
   "source": [
    "np.mean(amps3)/ScaleY"
   ]
  },
  {
   "cell_type": "code",
   "execution_count": 18,
   "metadata": {},
   "outputs": [
    {
     "data": {
      "application/vnd.jupyter.widget-view+json": {
       "model_id": "8a6062b88029428dabb934cc0cb3b44c",
       "version_major": 2,
       "version_minor": 0
      },
      "text/plain": [
       "Canvas(toolbar=Toolbar(toolitems=[('Home', 'Reset original view', 'home', 'home'), ('Back', 'Back to previous …"
      ]
     },
     "metadata": {},
     "output_type": "display_data"
    },
    {
     "ename": "NameError",
     "evalue": "name 'scale' is not defined",
     "output_type": "error",
     "traceback": [
      "\u001b[0;31m---------------------------------------------------------------------------\u001b[0m",
      "\u001b[0;31mNameError\u001b[0m                                 Traceback (most recent call last)",
      "\u001b[0;32m<ipython-input-18-00a56fa8628a>\u001b[0m in \u001b[0;36m<module>\u001b[0;34m\u001b[0m\n\u001b[1;32m      5\u001b[0m \u001b[0;34m\u001b[0m\u001b[0m\n\u001b[1;32m      6\u001b[0m \u001b[0;31m# Perrinf\u001b[0m\u001b[0;34m\u001b[0m\u001b[0;34m\u001b[0m\u001b[0;34m\u001b[0m\u001b[0m\n\u001b[0;32m----> 7\u001b[0;31m \u001b[0max\u001b[0m\u001b[0;34m.\u001b[0m\u001b[0mscatter\u001b[0m\u001b[0;34m(\u001b[0m\u001b[0mrange\u001b[0m\u001b[0;34m(\u001b[0m\u001b[0mlen\u001b[0m\u001b[0;34m(\u001b[0m\u001b[0mamps3\u001b[0m\u001b[0;34m)\u001b[0m\u001b[0;34m)\u001b[0m\u001b[0;34m,\u001b[0m \u001b[0mamps3\u001b[0m\u001b[0;34m/\u001b[0m\u001b[0mscale\u001b[0m\u001b[0;34m,\u001b[0m \u001b[0mlabel\u001b[0m\u001b[0;34m=\u001b[0m\u001b[0;34m'fit phase'\u001b[0m\u001b[0;34m)\u001b[0m\u001b[0;34m\u001b[0m\u001b[0;34m\u001b[0m\u001b[0m\n\u001b[0m\u001b[1;32m      8\u001b[0m \u001b[0;31m# ax.scatter(range(len(amps3)), amps3/scale, label='fit fixed-phases')\u001b[0m\u001b[0;34m\u001b[0m\u001b[0;34m\u001b[0m\u001b[0;34m\u001b[0m\u001b[0m\n\u001b[1;32m      9\u001b[0m \u001b[0;34m\u001b[0m\u001b[0m\n",
      "\u001b[0;31mNameError\u001b[0m: name 'scale' is not defined"
     ]
    }
   ],
   "source": [
    "# amps = np.array(amps)\n",
    "amps3 = np.array(amps3)\n",
    "_,ax = plt.subplots()\n",
    "# scale = 326.26\n",
    "\n",
    "# Perrinf\n",
    "ax.scatter(range(len(amps3)), amps3/scale, label='fit phase')\n",
    "# ax.scatter(range(len(amps3)), amps3/scale, label='fit fixed-phases')\n",
    "\n",
    "# ax.set(xlabel='dataset', ylabel='Electron charges', ylim=(-1.2,6.5), xlim=(160,None))\n",
    "ax.grid(axis='y')\n",
    "ax.minorticks_on()\n",
    "ax.grid(which='major', linestyle='-', linewidth='0.5', color='red')\n",
    "ax.grid(which='minor', linestyle=':', linewidth='0.5', color='black')\n",
    "# ax.legend()\n",
    "from matplotlib.ticker import MaxNLocator\n",
    "ax.yaxis.set_major_locator(MaxNLocator(integer=True))"
   ]
  },
  {
   "cell_type": "code",
   "execution_count": 20,
   "metadata": {},
   "outputs": [],
   "source": [
    "ll = likelihood_analyser.LikelihoodAnalyser()\n",
    "bandwidth = 2\n",
    "decimate = 10\n",
    "drive_freq = 71\n",
    "\n",
    "def get_amp3(i):\n",
    "    \n",
    "    fname = r'/data/new_trap/20210622/bead1/Neutrality2/Relaxation_20210708/200V_2/Discharge_'+str(i)+'.h5'\n",
    "    bb = BeadDataFile.BeadDataFile(fname=fname)\n",
    "  \n",
    "    fit_kwargs = {'A': 0, 'A2': A2_avg, 'f': drive_freq, 'f2': drive_freq, 'phi': 0, 'delta_phi': np.pi, \n",
    "                  'error_A': 1, 'error_A2': 1, 'error_f': 1, 'error_f2': 1, \n",
    "                  'error_phi': 0.5, 'error_delta_phi': 0.5, 'errordef': 1,\n",
    "                  'limit_A': [-1, 1], 'limit_delta_phi': [-2*np.pi, 2*np.pi], \n",
    "                  'print_level': 0, 'fix_A2': True, 'fix_f': True, 'fix_f2': True, 'fix_phi': True, 'fix_delta_phi': True}\n",
    "\n",
    "    frequency = fit_kwargs['f']\n",
    "\n",
    "    b, a = signal.butter(3, [2.*(drive_freq-bandwidth/2.)/fsamp, 2.*(drive_freq+bandwidth/2.)/fsamp ], btype = 'bandpass')\n",
    "    xx2 = signal.filtfilt(b, a, bb.y2)[::decimate]\n",
    "    \n",
    "    \n",
    "    b, a = signal.butter(3, [2.*(drive_freq-bandwidth/2.)/fsamp, 2.*(drive_freq+bandwidth/2.)/fsamp ], btype = 'bandpass')\n",
    "    xx3 = signal.filtfilt(b, a, bb.y3)[::decimate]*1e-4\n",
    "    \n",
    "    m1_tmp = ll.find_mle_2sin(xx2, xx3, fsamp=5000/decimate, noise_rms=1, noise_rms2=1, plot=False, suppress_print=True, **fit_kwargs)\n",
    "    \n",
    "    return m1_tmp.values[0]"
   ]
  },
  {
   "cell_type": "code",
   "execution_count": 95,
   "metadata": {},
   "outputs": [],
   "source": [
    "ll = likelihood_analyser.LikelihoodAnalyser()\n",
    "bandwidth = 2\n",
    "decimate = 10\n",
    "drive_freq = 71\n",
    "phase_calib = -0.0563\n",
    "# phase_calib = -0.0442\n",
    "\n",
    "def get_amp(i):\n",
    "    \n",
    "    fname = r'/data/new_trap/20210622/bead1/Neutrality2/Relaxation_20210708/200V_2/Discharge_'+str(i)+'.h5'\n",
    "    bb = BeadDataFile.BeadDataFile(fname=fname)\n",
    "\n",
    "    drive_freq = 71\n",
    "    fit_kwargs = {'A': 0, 'f': drive_freq, 'phi': 0, \n",
    "                  'error_A': 1, 'error_f': 1, 'error_phi': 0.5, 'errordef': 1,\n",
    "                  'limit_phi': [-2 * np.pi, 2 * np.pi], \n",
    "                  'limit_A': [-1, 1], \n",
    "                  'print_level': 0, 'fix_f': True, 'fix_phi': True}\n",
    "\n",
    "    fit_kwargs = {'A': 0, 'f': drive_freq, 'phi': 0, 'sigma': 0.1,\n",
    "                  'error_A': 1, 'error_f': 1, 'error_phi': 0.5, 'errordef': 1, 'error_sigma':0.1,\n",
    "                  'limit_phi': [-2 * np.pi, 2 * np.pi], 'limit_sigma': [0, 1],\n",
    "                  'limit_A': [-100, 100], \n",
    "                  'print_level': 0, 'fix_f': True, 'fix_phi': True}\n",
    "\n",
    "    b, a = signal.butter(3, [2.*(drive_freq-bandwidth/2.)/fsamp, 2.*(drive_freq+bandwidth/2.)/fsamp ], btype = 'bandpass')\n",
    "    xx2 = signal.filtfilt(b, a, bb.y2)[::decimate]\n",
    "    \n",
    "    m1_tmp = ll.find_mle_sin(xx2, fsamp=5000/decimate, noise_rms=1, plot=False, suppress_print=True, **fit_kwargs)\n",
    "    \n",
    "    drive_freq = 142+1\n",
    "    fit_kwargs = {'A': 0, 'f': drive_freq, 'phi': np.pi/2, 'sigma': 0.1,\n",
    "              'error_A': 1, 'error_f': 1, 'error_phi': 0.5, 'errordef': 1, 'error_sigma':0.1,\n",
    "               'fix_phi': True, 'limit_sigma': [0, 1],\n",
    "              'limit_A': [0, 100], \n",
    "              'print_level': 0, 'fix_f': True}\n",
    "\n",
    "    b, a = signal.butter(3, [2.*(drive_freq-bandwidth/2.)/fsamp, 2.*(drive_freq+bandwidth/2.)/fsamp ], btype = 'bandpass')\n",
    "    xx2 = signal.filtfilt(b, a, bb.y2)[::decimate]\n",
    "    \n",
    "    m2_tmp = ll.find_mle_sin(xx2, fsamp=5000/decimate, noise_rms=1, plot=False, suppress_print=True, **fit_kwargs)\n",
    "    \n",
    "    return m1_tmp.values[0], m1_tmp.values[3], m2_tmp.values[0], m2_tmp.values[2]"
   ]
  },
  {
   "cell_type": "code",
   "execution_count": 96,
   "metadata": {},
   "outputs": [
    {
     "name": "stdout",
     "output_type": "stream",
     "text": [
      "voltages, bias:  199.91493035973804 0.006001911993640894\n"
     ]
    }
   ],
   "source": [
    "i = 0\n",
    "fname = r'/data/new_trap/20210622/bead1/Neutrality2/Relaxation_20210708/200V_2/Discharge_'+str(i)+'.h5'\n",
    "bb = BeadDataFile.BeadDataFile(fname=fname)\n",
    "voltage0_200 = np.std(bb.electrode_data[0])*np.sqrt(2)*200\n",
    "voltage1_200 = np.std(bb.electrode_data[1])*np.sqrt(2)*200\n",
    "bias2 = np.mean(bb.electrode_data[0])*200\n",
    "print(\"voltages, bias: \", voltage0_200, voltage1_200)"
   ]
  },
  {
   "cell_type": "code",
   "execution_count": 97,
   "metadata": {},
   "outputs": [
    {
     "data": {
      "text/plain": [
       "(9.99611128872374, 199.91493035973804)"
      ]
     },
     "execution_count": 97,
     "metadata": {},
     "output_type": "execute_result"
    }
   ],
   "source": [
    "voltage, voltage0_200"
   ]
  },
  {
   "cell_type": "code",
   "execution_count": 98,
   "metadata": {
    "scrolled": true
   },
   "outputs": [
    {
     "name": "stderr",
     "output_type": "stream",
     "text": [
      "\n",
      "  0%|          | 0/1996 [00:00<?, ?it/s]\u001b[A\n",
      "  2%|▏         | 40/1996 [00:00<00:07, 245.83it/s]\u001b[A\n",
      "  4%|▍         | 80/1996 [00:00<00:07, 246.40it/s]\u001b[A\n",
      "  6%|▌         | 120/1996 [00:00<00:09, 197.51it/s]\u001b[A\n",
      "  8%|▊         | 160/1996 [00:00<00:11, 163.80it/s]\u001b[A\n",
      " 10%|█         | 200/1996 [00:01<00:12, 148.48it/s]\u001b[A\n",
      " 12%|█▏        | 240/1996 [00:01<00:13, 133.68it/s]\u001b[A\n",
      " 14%|█▍        | 280/1996 [00:01<00:13, 130.06it/s]\u001b[A\n",
      " 16%|█▌        | 320/1996 [00:02<00:13, 125.79it/s]\u001b[A\n",
      " 18%|█▊        | 360/1996 [00:02<00:13, 119.70it/s]\u001b[A\n",
      " 20%|██        | 400/1996 [00:03<00:13, 118.36it/s]\u001b[A\n",
      " 22%|██▏       | 440/1996 [00:03<00:13, 119.66it/s]\u001b[A\n",
      " 24%|██▍       | 480/1996 [00:03<00:13, 115.77it/s]\u001b[A\n",
      " 26%|██▌       | 520/1996 [00:04<00:13, 110.48it/s]\u001b[A\n",
      " 28%|██▊       | 560/1996 [00:04<00:13, 104.87it/s]\u001b[A\n",
      " 30%|███       | 600/1996 [00:04<00:13, 107.32it/s]\u001b[A\n",
      " 32%|███▏      | 640/1996 [00:05<00:12, 109.59it/s]\u001b[A\n",
      " 34%|███▍      | 680/1996 [00:05<00:11, 113.59it/s]\u001b[A\n",
      " 36%|███▌      | 720/1996 [00:05<00:10, 116.22it/s]\u001b[A\n",
      " 38%|███▊      | 760/1996 [00:06<00:11, 110.03it/s]\u001b[A\n",
      " 40%|████      | 800/1996 [00:06<00:11, 108.42it/s]\u001b[A\n",
      " 42%|████▏     | 840/1996 [00:07<00:10, 106.50it/s]\u001b[A\n",
      " 44%|████▍     | 880/1996 [00:07<00:10, 108.19it/s]\u001b[A\n",
      " 46%|████▌     | 920/1996 [00:07<00:10, 104.46it/s]\u001b[A\n",
      " 48%|████▊     | 960/1996 [00:08<00:09, 107.38it/s]\u001b[A\n",
      " 50%|█████     | 1000/1996 [00:08<00:09, 105.04it/s]\u001b[A\n",
      " 52%|█████▏    | 1040/1996 [00:09<00:09, 100.43it/s]\u001b[A\n",
      " 54%|█████▍    | 1080/1996 [00:09<00:09, 100.88it/s]\u001b[A\n",
      " 56%|█████▌    | 1120/1996 [00:09<00:08, 103.61it/s]\u001b[A\n",
      " 58%|█████▊    | 1160/1996 [00:10<00:08, 103.99it/s]\u001b[A\n",
      " 60%|██████    | 1200/1996 [00:10<00:07, 105.20it/s]\u001b[A\n",
      " 62%|██████▏   | 1240/1996 [00:10<00:07, 102.26it/s]\u001b[A\n",
      " 64%|██████▍   | 1280/1996 [00:11<00:07, 97.24it/s] \u001b[A\n",
      " 66%|██████▌   | 1320/1996 [00:11<00:06, 103.60it/s]\u001b[A\n",
      " 68%|██████▊   | 1360/1996 [00:12<00:06, 103.42it/s]\u001b[A\n",
      " 70%|███████   | 1400/1996 [00:12<00:05, 100.07it/s]\u001b[A\n",
      " 72%|███████▏  | 1440/1996 [00:12<00:05, 103.42it/s]\u001b[A\n",
      " 74%|███████▍  | 1480/1996 [00:13<00:04, 104.58it/s]\u001b[A\n",
      " 76%|███████▌  | 1520/1996 [00:13<00:04, 99.20it/s] \u001b[A\n",
      " 78%|███████▊  | 1560/1996 [00:14<00:04, 94.06it/s]\u001b[A\n",
      " 80%|████████  | 1600/1996 [00:14<00:04, 97.63it/s]\u001b[A\n",
      " 82%|████████▏ | 1640/1996 [00:15<00:03, 97.68it/s]\u001b[A\n",
      " 84%|████████▍ | 1680/1996 [00:15<00:03, 97.18it/s]\u001b[A\n",
      " 86%|████████▌ | 1720/1996 [00:15<00:02, 94.57it/s]\u001b[A\n",
      " 88%|████████▊ | 1760/1996 [00:16<00:02, 97.51it/s]\u001b[A\n",
      " 90%|█████████ | 1800/1996 [00:16<00:01, 102.60it/s]\u001b[A\n",
      " 92%|█████████▏| 1840/1996 [00:17<00:01, 101.48it/s]\u001b[A\n",
      " 94%|█████████▍| 1880/1996 [00:17<00:01, 98.16it/s] \u001b[A\n",
      " 96%|█████████▌| 1920/1996 [00:17<00:00, 104.59it/s]\u001b[A\n",
      " 98%|█████████▊| 1960/1996 [00:18<00:00, 106.99it/s]\u001b[A\n",
      "100%|██████████| 1996/1996 [00:18<00:00, 110.03it/s]\u001b[A"
     ]
    }
   ],
   "source": [
    "amps3_data_200V_1_n = np.array(Parallel(n_jobs=20)(delayed(get_amp)(i) for i in tqdm(range(1996))))"
   ]
  },
  {
   "cell_type": "code",
   "execution_count": 100,
   "metadata": {},
   "outputs": [
    {
     "data": {
      "application/vnd.jupyter.widget-view+json": {
       "model_id": "734e4e46e6c8420d985e977b5986aa04",
       "version_major": 2,
       "version_minor": 0
      },
      "text/plain": [
       "Canvas(toolbar=Toolbar(toolitems=[('Home', 'Reset original view', 'home', 'home'), ('Back', 'Back to previous …"
      ]
     },
     "metadata": {},
     "output_type": "display_data"
    },
    {
     "data": {
      "text/plain": [
       "[<matplotlib.lines.Line2D at 0x7f79498cc128>]"
      ]
     },
     "execution_count": 100,
     "metadata": {},
     "output_type": "execute_result"
    }
   ],
   "source": [
    "amp_fit = (amps3_data_200V_1[::4,3])%(2*np.pi)\n",
    "amp_fit1 = (amps3_data_200V_1[2::4,3])%(2*np.pi)\n",
    "\n",
    "_,ax = plt.subplots(figsize=(9.3,4))\n",
    "ax.plot(range(len(amp_fit)), amp_fit, '+')\n",
    "ax.plot(range(len(amp_fit1)), amp_fit1, '*')"
   ]
  },
  {
   "cell_type": "code",
   "execution_count": 68,
   "metadata": {
    "scrolled": true
   },
   "outputs": [
    {
     "name": "stderr",
     "output_type": "stream",
     "text": [
      "\n",
      "  0%|          | 0/18304 [00:00<?, ?it/s]\u001b[A\n",
      "  0%|          | 40/18304 [00:00<01:19, 229.51it/s]\u001b[A\n",
      "  0%|          | 80/18304 [00:00<01:23, 219.48it/s]\u001b[A\n",
      "  1%|          | 120/18304 [00:00<01:47, 169.92it/s]\u001b[A\n",
      "  1%|          | 160/18304 [00:01<02:04, 145.32it/s]\u001b[A\n",
      "  1%|          | 200/18304 [00:01<02:19, 129.47it/s]\u001b[A\n",
      "  1%|▏         | 240/18304 [00:01<02:28, 121.50it/s]\u001b[A\n",
      "  2%|▏         | 280/18304 [00:02<02:48, 106.91it/s]\u001b[A\n",
      "  2%|▏         | 320/18304 [00:02<03:02, 98.64it/s] \u001b[A\n",
      "  2%|▏         | 360/18304 [00:03<03:05, 96.96it/s]\u001b[A\n",
      "  2%|▏         | 400/18304 [00:03<03:05, 96.77it/s]\u001b[A\n",
      "  2%|▏         | 440/18304 [00:04<03:10, 93.97it/s]\u001b[A\n",
      "  3%|▎         | 480/18304 [00:04<03:11, 93.32it/s]\u001b[A\n",
      "  3%|▎         | 520/18304 [00:05<03:21, 88.38it/s]\u001b[A\n",
      "  3%|▎         | 560/18304 [00:05<03:21, 88.24it/s]\u001b[A\n",
      "  3%|▎         | 600/18304 [00:05<03:18, 89.23it/s]\u001b[A\n",
      "  3%|▎         | 640/18304 [00:06<03:12, 91.75it/s]\u001b[A\n",
      "  4%|▎         | 680/18304 [00:06<03:11, 92.07it/s]\u001b[A\n",
      "  4%|▍         | 720/18304 [00:07<03:02, 96.34it/s]\u001b[A\n",
      "  4%|▍         | 760/18304 [00:07<03:10, 91.88it/s]\u001b[A\n",
      "  4%|▍         | 800/18304 [00:08<03:04, 95.02it/s]\u001b[A\n",
      "  5%|▍         | 840/18304 [00:08<02:56, 98.94it/s]\u001b[A\n",
      "  5%|▍         | 880/18304 [00:08<03:01, 96.17it/s]\u001b[A\n",
      "  5%|▌         | 920/18304 [00:09<03:00, 96.45it/s]\u001b[A\n",
      "  5%|▌         | 960/18304 [00:09<02:52, 100.30it/s]\u001b[A\n",
      "  5%|▌         | 1000/18304 [00:10<02:53, 99.66it/s]\u001b[A\n",
      "  6%|▌         | 1040/18304 [00:10<02:50, 101.54it/s]\u001b[A\n",
      "  6%|▌         | 1080/18304 [00:10<02:53, 99.28it/s] \u001b[A\n",
      "  6%|▌         | 1120/18304 [00:11<02:56, 97.13it/s]\u001b[A\n",
      "  6%|▋         | 1160/18304 [00:11<02:53, 99.02it/s]\u001b[A\n",
      "  7%|▋         | 1200/18304 [00:12<02:50, 100.55it/s]\u001b[A\n",
      "  7%|▋         | 1240/18304 [00:12<02:42, 104.99it/s]\u001b[A\n",
      "  7%|▋         | 1280/18304 [00:12<02:39, 106.44it/s]\u001b[A\n",
      "  7%|▋         | 1320/18304 [00:13<02:42, 104.21it/s]\u001b[A\n",
      "  7%|▋         | 1360/18304 [00:13<02:47, 101.08it/s]\u001b[A\n",
      "  8%|▊         | 1400/18304 [00:14<02:54, 96.91it/s] \u001b[A\n",
      "  8%|▊         | 1440/18304 [00:14<02:54, 96.50it/s]\u001b[A\n",
      "  8%|▊         | 1480/18304 [00:14<02:47, 100.16it/s]\u001b[A\n",
      "  8%|▊         | 1520/18304 [00:15<02:51, 97.93it/s] \u001b[A\n",
      "  9%|▊         | 1560/18304 [00:15<02:52, 97.10it/s]\u001b[A\n",
      "  9%|▊         | 1600/18304 [00:16<03:02, 91.29it/s]\u001b[A\n",
      "  9%|▉         | 1640/18304 [00:16<03:11, 86.82it/s]\u001b[A\n",
      "  9%|▉         | 1680/18304 [00:17<03:03, 90.71it/s]\u001b[A\n",
      "  9%|▉         | 1720/18304 [00:17<02:57, 93.26it/s]\u001b[A\n",
      " 10%|▉         | 1760/18304 [00:17<02:49, 97.43it/s]\u001b[A\n",
      " 10%|▉         | 1800/18304 [00:18<02:50, 96.71it/s]\u001b[A\n",
      " 10%|█         | 1840/18304 [00:18<03:00, 91.11it/s]\u001b[A\n",
      " 10%|█         | 1880/18304 [00:19<02:54, 94.03it/s]\u001b[A\n",
      " 10%|█         | 1920/18304 [00:19<02:48, 96.99it/s]\u001b[A\n",
      " 11%|█         | 1960/18304 [00:19<02:44, 99.42it/s]\u001b[A\n",
      " 11%|█         | 2000/18304 [00:20<02:37, 103.35it/s]\u001b[A\n",
      " 11%|█         | 2040/18304 [00:20<02:39, 102.20it/s]\u001b[A\n",
      " 11%|█▏        | 2080/18304 [00:21<02:55, 92.67it/s] \u001b[A\n",
      " 12%|█▏        | 2120/18304 [00:21<02:55, 92.12it/s]\u001b[A\n",
      " 12%|█▏        | 2160/18304 [00:22<03:11, 84.14it/s]\u001b[A\n",
      " 12%|█▏        | 2200/18304 [00:22<03:15, 82.56it/s]\u001b[A\n",
      " 12%|█▏        | 2240/18304 [00:23<03:25, 78.31it/s]\u001b[A\n",
      " 12%|█▏        | 2280/18304 [00:23<03:17, 81.05it/s]\u001b[A\n",
      " 13%|█▎        | 2320/18304 [00:24<03:18, 80.58it/s]\u001b[A\n",
      " 13%|█▎        | 2360/18304 [00:24<03:13, 82.24it/s]\u001b[A\n",
      " 13%|█▎        | 2400/18304 [00:25<03:18, 80.14it/s]\u001b[A\n",
      " 13%|█▎        | 2440/18304 [00:25<03:23, 77.85it/s]\u001b[A\n",
      " 14%|█▎        | 2480/18304 [00:26<03:28, 75.72it/s]\u001b[A\n",
      " 14%|█▍        | 2520/18304 [00:26<03:31, 74.58it/s]\u001b[A\n",
      " 14%|█▍        | 2560/18304 [00:27<03:36, 72.88it/s]\u001b[A\n",
      " 14%|█▍        | 2600/18304 [00:27<03:29, 75.01it/s]\u001b[A\n",
      " 14%|█▍        | 2640/18304 [00:28<03:37, 71.92it/s]\u001b[A\n",
      " 15%|█▍        | 2680/18304 [00:29<03:37, 71.87it/s]\u001b[A\n",
      " 15%|█▍        | 2720/18304 [00:29<03:28, 74.68it/s]\u001b[A\n",
      " 15%|█▌        | 2760/18304 [00:30<03:38, 71.02it/s]\u001b[A\n",
      " 15%|█▌        | 2800/18304 [00:30<03:21, 76.75it/s]\u001b[A\n",
      " 16%|█▌        | 2840/18304 [00:31<03:19, 77.38it/s]\u001b[A\n",
      " 16%|█▌        | 2880/18304 [00:31<03:29, 73.60it/s]\u001b[A\n",
      " 16%|█▌        | 2920/18304 [00:32<03:29, 73.46it/s]\u001b[A\n",
      " 16%|█▌        | 2960/18304 [00:32<03:23, 75.36it/s]\u001b[A\n",
      " 16%|█▋        | 3000/18304 [00:33<03:22, 75.72it/s]\u001b[A\n",
      " 17%|█▋        | 3040/18304 [00:33<03:24, 74.72it/s]\u001b[A\n",
      " 17%|█▋        | 3080/18304 [00:34<03:31, 71.89it/s]\u001b[A\n",
      " 17%|█▋        | 3120/18304 [00:35<03:31, 71.76it/s]\u001b[A\n",
      " 17%|█▋        | 3160/18304 [00:35<03:25, 73.81it/s]\u001b[A\n",
      " 17%|█▋        | 3200/18304 [00:36<03:29, 72.12it/s]\u001b[A\n",
      " 18%|█▊        | 3240/18304 [00:36<03:35, 69.87it/s]\u001b[A\n",
      " 18%|█▊        | 3280/18304 [00:37<03:29, 71.68it/s]\u001b[A\n",
      " 18%|█▊        | 3320/18304 [00:37<03:24, 73.35it/s]\u001b[A\n",
      " 18%|█▊        | 3360/18304 [00:38<03:22, 73.82it/s]\u001b[A\n",
      " 19%|█▊        | 3400/18304 [00:38<03:17, 75.41it/s]\u001b[A\n",
      " 19%|█▉        | 3440/18304 [00:39<03:25, 72.38it/s]\u001b[A\n",
      " 19%|█▉        | 3480/18304 [00:40<03:27, 71.40it/s]\u001b[A\n",
      " 19%|█▉        | 3520/18304 [00:40<03:16, 75.14it/s]\u001b[A\n",
      " 19%|█▉        | 3560/18304 [00:41<03:22, 72.74it/s]\u001b[A\n",
      " 20%|█▉        | 3600/18304 [00:41<03:24, 71.79it/s]\u001b[A\n",
      " 20%|█▉        | 3640/18304 [00:42<03:17, 74.36it/s]\u001b[A\n",
      " 20%|██        | 3680/18304 [00:42<03:09, 77.25it/s]\u001b[A\n",
      " 20%|██        | 3720/18304 [00:43<03:13, 75.19it/s]\u001b[A\n",
      " 21%|██        | 3760/18304 [00:43<03:11, 75.90it/s]\u001b[A\n",
      " 21%|██        | 3800/18304 [00:44<03:08, 77.05it/s]\u001b[A\n",
      " 21%|██        | 3840/18304 [00:44<03:08, 76.67it/s]\u001b[A\n",
      " 21%|██        | 3880/18304 [00:45<03:13, 74.35it/s]\u001b[A\n",
      " 21%|██▏       | 3920/18304 [00:45<03:01, 79.35it/s]\u001b[A\n",
      " 22%|██▏       | 3960/18304 [00:46<03:17, 72.58it/s]\u001b[A\n",
      " 22%|██▏       | 4000/18304 [00:46<03:12, 74.21it/s]\u001b[A\n",
      " 22%|██▏       | 4040/18304 [00:47<03:10, 74.93it/s]\u001b[A\n",
      " 22%|██▏       | 4080/18304 [00:47<03:04, 76.94it/s]\u001b[A\n",
      " 23%|██▎       | 4120/18304 [00:48<03:02, 77.68it/s]\u001b[A\n",
      " 23%|██▎       | 4160/18304 [00:48<03:00, 78.48it/s]\u001b[A\n",
      " 23%|██▎       | 4200/18304 [00:49<02:59, 78.40it/s]\u001b[A\n",
      " 23%|██▎       | 4240/18304 [00:49<03:01, 77.35it/s]\u001b[A\n",
      " 23%|██▎       | 4280/18304 [00:50<02:59, 78.30it/s]\u001b[A\n",
      " 24%|██▎       | 4320/18304 [00:51<03:07, 74.56it/s]\u001b[A\n",
      " 24%|██▍       | 4360/18304 [00:51<03:06, 74.72it/s]\u001b[A\n",
      " 24%|██▍       | 4400/18304 [00:52<03:01, 76.50it/s]\u001b[A\n",
      " 24%|██▍       | 4440/18304 [00:52<03:11, 72.38it/s]\u001b[A\n",
      " 24%|██▍       | 4480/18304 [00:53<03:06, 73.96it/s]\u001b[A\n",
      " 25%|██▍       | 4520/18304 [00:53<03:02, 75.55it/s]\u001b[A\n",
      " 25%|██▍       | 4560/18304 [00:54<02:56, 77.86it/s]\u001b[A\n",
      " 25%|██▌       | 4600/18304 [00:54<02:50, 80.15it/s]\u001b[A\n",
      " 25%|██▌       | 4640/18304 [00:55<02:58, 76.38it/s]\u001b[A\n",
      " 26%|██▌       | 4680/18304 [00:55<03:00, 75.59it/s]\u001b[A\n",
      " 26%|██▌       | 4720/18304 [00:56<02:56, 77.04it/s]\u001b[A\n",
      " 26%|██▌       | 4760/18304 [00:56<02:51, 78.86it/s]\u001b[A\n",
      " 26%|██▌       | 4800/18304 [00:57<02:51, 78.84it/s]\u001b[A\n",
      " 26%|██▋       | 4840/18304 [00:57<02:51, 78.46it/s]\u001b[A\n",
      " 27%|██▋       | 4880/18304 [00:58<03:23, 65.96it/s]\u001b[A\n",
      " 27%|██▋       | 4920/18304 [00:59<03:11, 69.95it/s]\u001b[A\n",
      " 27%|██▋       | 4960/18304 [00:59<03:06, 71.37it/s]\u001b[A\n",
      " 27%|██▋       | 5000/18304 [01:00<03:00, 73.52it/s]\u001b[A\n",
      " 28%|██▊       | 5040/18304 [01:00<02:51, 77.29it/s]\u001b[A\n",
      " 28%|██▊       | 5080/18304 [01:01<02:51, 77.13it/s]\u001b[A\n",
      " 28%|██▊       | 5120/18304 [01:01<03:00, 72.85it/s]\u001b[A\n",
      " 28%|██▊       | 5160/18304 [01:02<02:59, 73.38it/s]\u001b[A\n",
      " 28%|██▊       | 5200/18304 [01:02<03:01, 72.33it/s]\u001b[A\n",
      " 29%|██▊       | 5240/18304 [01:03<02:56, 74.23it/s]\u001b[A\n",
      " 29%|██▉       | 5280/18304 [01:03<02:59, 72.76it/s]\u001b[A\n",
      " 29%|██▉       | 5320/18304 [01:04<02:59, 72.26it/s]\u001b[A\n",
      " 29%|██▉       | 5360/18304 [01:05<03:00, 71.85it/s]\u001b[A\n",
      " 30%|██▉       | 5400/18304 [01:05<02:46, 77.56it/s]\u001b[A\n",
      " 30%|██▉       | 5440/18304 [01:05<02:46, 77.34it/s]\u001b[A\n",
      " 30%|██▉       | 5480/18304 [01:06<02:51, 74.77it/s]\u001b[A\n",
      " 30%|███       | 5520/18304 [01:07<02:44, 77.88it/s]\u001b[A\n",
      " 30%|███       | 5560/18304 [01:07<02:40, 79.21it/s]\u001b[A\n",
      " 31%|███       | 5600/18304 [01:08<02:41, 78.66it/s]\u001b[A\n",
      " 31%|███       | 5640/18304 [01:08<02:39, 79.46it/s]\u001b[A\n",
      " 31%|███       | 5680/18304 [01:09<02:44, 76.94it/s]\u001b[A\n",
      " 31%|███▏      | 5720/18304 [01:09<02:38, 79.34it/s]\u001b[A\n",
      " 31%|███▏      | 5760/18304 [01:10<02:38, 78.99it/s]\u001b[A\n",
      " 32%|███▏      | 5800/18304 [01:10<02:41, 77.65it/s]\u001b[A\n",
      " 32%|███▏      | 5840/18304 [01:11<02:40, 77.65it/s]\u001b[A\n",
      " 32%|███▏      | 5880/18304 [01:11<02:50, 73.01it/s]\u001b[A\n",
      " 32%|███▏      | 5920/18304 [01:12<02:47, 73.72it/s]\u001b[A\n",
      " 33%|███▎      | 5960/18304 [01:12<02:46, 74.22it/s]\u001b[A\n",
      " 33%|███▎      | 6000/18304 [01:13<02:43, 75.27it/s]\u001b[A\n",
      " 33%|███▎      | 6040/18304 [01:13<02:39, 77.05it/s]\u001b[A\n",
      " 33%|███▎      | 6080/18304 [01:14<02:37, 77.43it/s]\u001b[A\n",
      " 33%|███▎      | 6120/18304 [01:14<02:34, 79.08it/s]\u001b[A\n",
      " 34%|███▎      | 6160/18304 [01:15<02:42, 74.86it/s]\u001b[A\n",
      " 34%|███▍      | 6200/18304 [01:15<02:44, 73.44it/s]\u001b[A\n",
      " 34%|███▍      | 6240/18304 [01:16<02:44, 73.52it/s]\u001b[A\n",
      " 34%|███▍      | 6280/18304 [01:17<02:43, 73.55it/s]\u001b[A\n",
      " 35%|███▍      | 6320/18304 [01:17<02:38, 75.61it/s]\u001b[A\n",
      " 35%|███▍      | 6360/18304 [01:18<02:39, 75.08it/s]\u001b[A\n",
      " 35%|███▍      | 6400/18304 [01:18<02:35, 76.31it/s]\u001b[A\n",
      " 35%|███▌      | 6440/18304 [01:19<02:28, 79.75it/s]\u001b[A\n",
      " 35%|███▌      | 6480/18304 [01:19<02:23, 82.42it/s]\u001b[A\n",
      " 36%|███▌      | 6520/18304 [01:20<02:26, 80.63it/s]\u001b[A\n",
      " 36%|███▌      | 6560/18304 [01:20<02:27, 79.48it/s]\u001b[A\n",
      " 36%|███▌      | 6600/18304 [01:21<02:30, 77.53it/s]\u001b[A\n",
      " 36%|███▋      | 6640/18304 [01:21<02:33, 76.21it/s]\u001b[A\n",
      " 36%|███▋      | 6680/18304 [01:22<02:30, 77.29it/s]\u001b[A\n",
      " 37%|███▋      | 6720/18304 [01:22<02:27, 78.35it/s]\u001b[A\n",
      " 37%|███▋      | 6760/18304 [01:23<02:28, 77.89it/s]\u001b[A\n",
      " 37%|███▋      | 6800/18304 [01:23<02:24, 79.68it/s]\u001b[A\n",
      " 37%|███▋      | 6840/18304 [01:24<02:26, 78.49it/s]\u001b[A\n",
      " 38%|███▊      | 6880/18304 [01:24<02:26, 77.78it/s]\u001b[A\n",
      " 38%|███▊      | 6920/18304 [01:25<02:27, 77.35it/s]\u001b[A\n",
      " 38%|███▊      | 6960/18304 [01:25<02:21, 80.13it/s]\u001b[A\n",
      " 38%|███▊      | 7000/18304 [01:26<02:19, 80.77it/s]\u001b[A\n",
      " 38%|███▊      | 7040/18304 [01:26<02:26, 76.67it/s]\u001b[A\n",
      " 39%|███▊      | 7080/18304 [01:27<02:25, 77.21it/s]\u001b[A\n",
      " 39%|███▉      | 7120/18304 [01:27<02:26, 76.08it/s]\u001b[A\n",
      " 39%|███▉      | 7160/18304 [01:28<02:18, 80.20it/s]\u001b[A\n",
      " 39%|███▉      | 7200/18304 [01:28<02:16, 81.09it/s]\u001b[A\n",
      " 40%|███▉      | 7240/18304 [01:29<02:17, 80.51it/s]\u001b[A\n",
      " 40%|███▉      | 7280/18304 [01:29<02:21, 78.07it/s]\u001b[A\n",
      " 40%|███▉      | 7320/18304 [01:30<02:21, 77.76it/s]\u001b[A\n",
      " 40%|████      | 7360/18304 [01:30<02:24, 75.88it/s]\u001b[A\n",
      " 40%|████      | 7400/18304 [01:31<02:28, 73.62it/s]\u001b[A\n",
      " 41%|████      | 7440/18304 [01:31<02:26, 74.40it/s]\u001b[A\n",
      " 41%|████      | 7480/18304 [01:32<02:23, 75.20it/s]\u001b[A\n",
      " 41%|████      | 7520/18304 [01:33<02:28, 72.78it/s]\u001b[A\n",
      " 41%|████▏     | 7560/18304 [01:33<02:29, 71.99it/s]\u001b[A\n",
      " 42%|████▏     | 7600/18304 [01:34<02:28, 72.02it/s]\u001b[A\n",
      " 42%|████▏     | 7640/18304 [01:34<02:26, 72.92it/s]\u001b[A\n",
      " 42%|████▏     | 7680/18304 [01:35<02:28, 71.32it/s]\u001b[A\n",
      " 42%|████▏     | 7720/18304 [01:35<02:26, 72.34it/s]\u001b[A\n",
      " 42%|████▏     | 7760/18304 [01:36<02:44, 64.27it/s]\u001b[A\n",
      " 43%|████▎     | 7800/18304 [01:37<02:41, 65.00it/s]\u001b[A\n",
      " 43%|████▎     | 7840/18304 [01:37<02:31, 68.93it/s]\u001b[A\n",
      " 43%|████▎     | 7880/18304 [01:38<02:53, 60.01it/s]\u001b[A\n",
      " 43%|████▎     | 7920/18304 [01:39<02:50, 60.89it/s]\u001b[A\n",
      " 43%|████▎     | 7960/18304 [01:39<02:41, 64.14it/s]\u001b[A\n",
      " 44%|████▎     | 8000/18304 [01:40<02:34, 66.49it/s]\u001b[A\n",
      " 44%|████▍     | 8040/18304 [01:40<02:30, 68.22it/s]\u001b[A\n",
      " 44%|████▍     | 8080/18304 [01:41<02:24, 70.84it/s]\u001b[A\n",
      " 44%|████▍     | 8120/18304 [01:41<02:23, 70.81it/s]\u001b[A\n",
      " 45%|████▍     | 8160/18304 [01:42<02:19, 72.56it/s]\u001b[A\n",
      " 45%|████▍     | 8200/18304 [01:43<02:22, 70.93it/s]\u001b[A\n",
      " 45%|████▌     | 8240/18304 [01:43<02:23, 70.36it/s]\u001b[A\n",
      " 45%|████▌     | 8280/18304 [01:44<02:21, 70.93it/s]\u001b[A\n",
      " 45%|████▌     | 8320/18304 [01:44<02:14, 74.07it/s]\u001b[A\n",
      " 46%|████▌     | 8360/18304 [01:45<02:15, 73.14it/s]\u001b[A\n",
      " 46%|████▌     | 8400/18304 [01:45<02:12, 74.98it/s]\u001b[A\n",
      " 46%|████▌     | 8440/18304 [01:46<02:13, 73.89it/s]\u001b[A\n",
      " 46%|████▋     | 8480/18304 [01:46<02:15, 72.71it/s]\u001b[A\n",
      " 47%|████▋     | 8520/18304 [01:47<02:10, 75.14it/s]\u001b[A\n",
      " 47%|████▋     | 8560/18304 [01:47<02:08, 75.62it/s]\u001b[A\n",
      " 47%|████▋     | 8600/18304 [01:48<02:06, 76.97it/s]\u001b[A\n",
      " 47%|████▋     | 8640/18304 [01:48<02:03, 78.30it/s]\u001b[A\n",
      " 47%|████▋     | 8680/18304 [01:49<02:00, 79.95it/s]\u001b[A\n",
      " 48%|████▊     | 8720/18304 [01:49<01:59, 80.38it/s]\u001b[A\n",
      " 48%|████▊     | 8760/18304 [01:50<02:02, 77.89it/s]\u001b[A\n",
      " 48%|████▊     | 8800/18304 [01:50<01:58, 80.33it/s]\u001b[A\n",
      " 48%|████▊     | 8840/18304 [01:51<01:59, 79.41it/s]\u001b[A\n",
      " 49%|████▊     | 8880/18304 [01:51<01:55, 81.37it/s]\u001b[A\n",
      " 49%|████▊     | 8920/18304 [01:52<01:57, 80.19it/s]\u001b[A\n",
      " 49%|████▉     | 8960/18304 [01:52<01:55, 80.98it/s]\u001b[A\n",
      " 49%|████▉     | 9000/18304 [01:53<01:54, 81.56it/s]\u001b[A\n",
      " 49%|████▉     | 9040/18304 [01:53<02:05, 74.08it/s]\u001b[A\n",
      " 50%|████▉     | 9080/18304 [01:54<02:03, 74.64it/s]\u001b[A\n",
      " 50%|████▉     | 9120/18304 [01:54<02:02, 75.09it/s]\u001b[A\n",
      " 50%|█████     | 9160/18304 [01:55<02:05, 72.64it/s]\u001b[A\n",
      " 50%|█████     | 9200/18304 [01:56<02:01, 74.63it/s]\u001b[A\n",
      " 50%|█████     | 9240/18304 [01:56<02:00, 75.19it/s]\u001b[A\n",
      " 51%|█████     | 9280/18304 [01:57<02:00, 74.87it/s]\u001b[A\n",
      " 51%|█████     | 9320/18304 [01:57<02:00, 74.43it/s]\u001b[A\n",
      " 51%|█████     | 9360/18304 [01:58<01:53, 78.82it/s]\u001b[A\n",
      " 51%|█████▏    | 9400/18304 [01:58<01:56, 76.36it/s]\u001b[A\n",
      " 52%|█████▏    | 9440/18304 [01:59<01:56, 75.83it/s]\u001b[A\n",
      " 52%|█████▏    | 9480/18304 [01:59<01:54, 77.21it/s]\u001b[A\n",
      " 52%|█████▏    | 9520/18304 [02:00<01:57, 74.83it/s]\u001b[A\n",
      " 52%|█████▏    | 9560/18304 [02:00<01:50, 79.10it/s]\u001b[A\n",
      " 52%|█████▏    | 9600/18304 [02:01<01:51, 77.92it/s]\u001b[A\n",
      " 53%|█████▎    | 9640/18304 [02:01<01:55, 74.94it/s]\u001b[A\n",
      " 53%|█████▎    | 9680/18304 [02:02<01:53, 76.22it/s]\u001b[A\n",
      " 53%|█████▎    | 9720/18304 [02:02<01:55, 74.45it/s]\u001b[A\n",
      " 53%|█████▎    | 9760/18304 [02:03<01:52, 75.77it/s]\u001b[A\n",
      " 54%|█████▎    | 9800/18304 [02:03<01:49, 77.76it/s]\u001b[A\n",
      " 54%|█████▍    | 9840/18304 [02:04<01:45, 80.44it/s]\u001b[A\n",
      " 54%|█████▍    | 9880/18304 [02:04<01:46, 78.86it/s]\u001b[A\n",
      " 54%|█████▍    | 9920/18304 [02:05<01:50, 75.78it/s]\u001b[A\n",
      " 54%|█████▍    | 9960/18304 [02:05<01:45, 78.93it/s]\u001b[A\n",
      " 55%|█████▍    | 10000/18304 [02:06<01:58, 69.92it/s]\u001b[A\n",
      " 55%|█████▍    | 10040/18304 [02:07<01:53, 73.10it/s]\u001b[A\n",
      " 55%|█████▌    | 10080/18304 [02:07<01:50, 74.17it/s]\u001b[A\n",
      " 55%|█████▌    | 10120/18304 [02:08<02:05, 65.41it/s]\u001b[A\n",
      " 56%|█████▌    | 10160/18304 [02:08<01:58, 68.88it/s]\u001b[A\n",
      " 56%|█████▌    | 10200/18304 [02:09<01:53, 71.15it/s]\u001b[A\n",
      " 56%|█████▌    | 10240/18304 [02:09<01:50, 73.28it/s]\u001b[A\n",
      " 56%|█████▌    | 10280/18304 [02:10<01:47, 74.38it/s]\u001b[A\n",
      " 56%|█████▋    | 10320/18304 [02:11<01:46, 74.80it/s]\u001b[A\n",
      " 57%|█████▋    | 10360/18304 [02:11<01:40, 78.81it/s]\u001b[A\n",
      " 57%|█████▋    | 10400/18304 [02:12<01:44, 75.71it/s]\u001b[A\n",
      " 57%|█████▋    | 10440/18304 [02:12<01:43, 75.63it/s]\u001b[A\n",
      " 57%|█████▋    | 10480/18304 [02:13<01:43, 75.69it/s]\u001b[A\n",
      " 57%|█████▋    | 10520/18304 [02:13<01:40, 77.13it/s]\u001b[A\n",
      " 58%|█████▊    | 10560/18304 [02:14<01:39, 77.61it/s]\u001b[A\n",
      " 58%|█████▊    | 10600/18304 [02:14<01:40, 76.59it/s]\u001b[A\n",
      " 58%|█████▊    | 10640/18304 [02:15<01:39, 77.24it/s]\u001b[A\n",
      " 58%|█████▊    | 10680/18304 [02:15<01:40, 76.13it/s]\u001b[A\n",
      " 59%|█████▊    | 10720/18304 [02:16<01:38, 76.94it/s]\u001b[A\n",
      " 59%|█████▉    | 10760/18304 [02:16<01:36, 78.05it/s]\u001b[A\n",
      " 59%|█████▉    | 10800/18304 [02:17<01:36, 77.45it/s]\u001b[A\n",
      " 59%|█████▉    | 10840/18304 [02:17<01:37, 76.27it/s]\u001b[A\n",
      " 59%|█████▉    | 10880/18304 [02:18<01:35, 77.49it/s]\u001b[A\n",
      " 60%|█████▉    | 10920/18304 [02:18<01:32, 80.13it/s]\u001b[A\n",
      " 60%|█████▉    | 10960/18304 [02:19<01:31, 80.09it/s]\u001b[A\n",
      " 60%|██████    | 11000/18304 [02:19<01:33, 78.39it/s]\u001b[A\n",
      " 60%|██████    | 11040/18304 [02:20<01:34, 76.52it/s]\u001b[A\n",
      " 61%|██████    | 11080/18304 [02:20<01:34, 76.84it/s]\u001b[A\n",
      " 61%|██████    | 11120/18304 [02:21<01:31, 78.37it/s]\u001b[A\n",
      " 61%|██████    | 11160/18304 [02:21<01:32, 77.50it/s]\u001b[A\n",
      " 61%|██████    | 11200/18304 [02:22<01:37, 73.01it/s]\u001b[A\n",
      " 61%|██████▏   | 11240/18304 [02:22<01:33, 75.81it/s]\u001b[A\n",
      " 62%|██████▏   | 11280/18304 [02:23<01:28, 79.47it/s]\u001b[A\n",
      " 62%|██████▏   | 11320/18304 [02:23<01:27, 80.25it/s]\u001b[A\n",
      " 62%|██████▏   | 11360/18304 [02:24<01:38, 70.28it/s]\u001b[A\n",
      " 62%|██████▏   | 11400/18304 [02:25<01:37, 70.55it/s]\u001b[A\n",
      " 62%|██████▎   | 11440/18304 [02:25<01:31, 74.67it/s]\u001b[A\n",
      " 63%|██████▎   | 11480/18304 [02:26<01:28, 77.53it/s]\u001b[A\n",
      " 63%|██████▎   | 11520/18304 [02:26<01:29, 75.74it/s]\u001b[A\n",
      " 63%|██████▎   | 11560/18304 [02:27<01:31, 73.48it/s]\u001b[A\n",
      " 63%|██████▎   | 11600/18304 [02:27<01:27, 76.97it/s]\u001b[A\n"
     ]
    },
    {
     "name": "stderr",
     "output_type": "stream",
     "text": [
      " 64%|██████▎   | 11640/18304 [02:28<01:27, 76.34it/s]\u001b[A\n",
      " 64%|██████▍   | 11680/18304 [02:28<01:25, 77.45it/s]\u001b[A\n",
      " 64%|██████▍   | 11720/18304 [02:29<01:21, 80.44it/s]\u001b[A\n",
      " 64%|██████▍   | 11760/18304 [02:29<01:20, 81.03it/s]\u001b[A\n",
      " 64%|██████▍   | 11800/18304 [02:30<01:23, 77.54it/s]\u001b[A\n",
      " 65%|██████▍   | 11840/18304 [02:30<01:22, 78.22it/s]\u001b[A\n",
      " 65%|██████▍   | 11880/18304 [02:31<01:23, 76.66it/s]\u001b[A\n",
      " 65%|██████▌   | 11920/18304 [02:31<01:27, 72.70it/s]\u001b[A\n",
      " 65%|██████▌   | 11960/18304 [02:32<01:31, 69.35it/s]\u001b[A\n",
      " 66%|██████▌   | 12000/18304 [02:33<01:27, 71.87it/s]\u001b[A\n",
      " 66%|██████▌   | 12040/18304 [02:33<01:35, 65.33it/s]\u001b[A\n",
      " 66%|██████▌   | 12080/18304 [02:34<01:32, 66.98it/s]\u001b[A\n",
      " 66%|██████▌   | 12120/18304 [02:35<01:40, 61.37it/s]\u001b[A\n",
      " 66%|██████▋   | 12160/18304 [02:35<01:37, 63.14it/s]\u001b[A\n",
      " 67%|██████▋   | 12200/18304 [02:36<01:32, 65.97it/s]\u001b[A\n",
      " 67%|██████▋   | 12240/18304 [02:36<01:30, 66.77it/s]\u001b[A\n",
      " 67%|██████▋   | 12280/18304 [02:37<01:29, 66.97it/s]\u001b[A\n",
      " 67%|██████▋   | 12320/18304 [02:38<01:31, 65.20it/s]\u001b[A\n",
      " 68%|██████▊   | 12360/18304 [02:38<01:27, 67.59it/s]\u001b[A\n",
      " 68%|██████▊   | 12400/18304 [02:39<01:25, 68.92it/s]\u001b[A\n",
      " 68%|██████▊   | 12440/18304 [02:39<01:21, 71.61it/s]\u001b[A\n",
      " 68%|██████▊   | 12480/18304 [02:40<01:24, 68.93it/s]\u001b[A\n",
      " 68%|██████▊   | 12520/18304 [02:40<01:21, 70.85it/s]\u001b[A\n",
      " 69%|██████▊   | 12560/18304 [02:41<01:21, 70.08it/s]\u001b[A\n",
      " 69%|██████▉   | 12600/18304 [02:42<01:21, 70.05it/s]\u001b[A\n",
      " 69%|██████▉   | 12640/18304 [02:42<01:22, 68.64it/s]\u001b[A\n",
      " 69%|██████▉   | 12680/18304 [02:43<01:23, 67.52it/s]\u001b[A\n",
      " 69%|██████▉   | 12720/18304 [02:43<01:19, 70.42it/s]\u001b[A\n",
      " 70%|██████▉   | 12760/18304 [02:44<01:20, 69.10it/s]\u001b[A\n",
      " 70%|██████▉   | 12800/18304 [02:44<01:15, 72.67it/s]\u001b[A\n",
      " 70%|███████   | 12840/18304 [02:45<01:14, 73.46it/s]\u001b[A\n",
      " 70%|███████   | 12880/18304 [02:45<01:12, 74.91it/s]\u001b[A\n",
      " 71%|███████   | 12920/18304 [02:46<01:07, 79.98it/s]\u001b[A\n",
      " 71%|███████   | 12960/18304 [02:46<01:09, 77.16it/s]\u001b[A\n",
      " 71%|███████   | 13000/18304 [02:47<01:12, 72.98it/s]\u001b[A\n",
      " 71%|███████   | 13040/18304 [02:47<01:10, 74.72it/s]\u001b[A\n",
      " 71%|███████▏  | 13080/18304 [02:48<01:07, 77.19it/s]\u001b[A\n",
      " 72%|███████▏  | 13120/18304 [02:49<01:10, 73.28it/s]\u001b[A\n",
      " 72%|███████▏  | 13160/18304 [02:49<01:08, 75.49it/s]\u001b[A\n",
      " 72%|███████▏  | 13200/18304 [02:50<01:11, 71.69it/s]\u001b[A\n",
      " 72%|███████▏  | 13240/18304 [02:50<01:07, 75.52it/s]\u001b[A\n",
      " 73%|███████▎  | 13280/18304 [02:51<01:03, 79.74it/s]\u001b[A\n",
      " 73%|███████▎  | 13320/18304 [02:51<01:04, 77.75it/s]\u001b[A\n",
      " 73%|███████▎  | 13360/18304 [02:52<01:04, 76.40it/s]\u001b[A\n",
      " 73%|███████▎  | 13400/18304 [02:52<01:04, 76.27it/s]\u001b[A\n",
      " 73%|███████▎  | 13440/18304 [02:53<01:04, 75.07it/s]\u001b[A\n",
      " 74%|███████▎  | 13480/18304 [02:53<01:05, 74.12it/s]\u001b[A\n",
      " 74%|███████▍  | 13520/18304 [02:54<01:05, 73.05it/s]\u001b[A\n",
      " 74%|███████▍  | 13560/18304 [02:54<01:01, 77.29it/s]\u001b[A\n",
      " 74%|███████▍  | 13600/18304 [02:55<01:04, 73.10it/s]\u001b[A\n",
      " 75%|███████▍  | 13640/18304 [02:55<01:04, 72.80it/s]\u001b[A\n",
      " 75%|███████▍  | 13680/18304 [02:56<01:03, 72.89it/s]\u001b[A\n",
      " 75%|███████▍  | 13720/18304 [02:57<01:01, 74.01it/s]\u001b[A\n",
      " 75%|███████▌  | 13760/18304 [02:57<01:03, 72.07it/s]\u001b[A\n",
      " 75%|███████▌  | 13800/18304 [02:58<01:00, 74.59it/s]\u001b[A\n",
      " 76%|███████▌  | 13840/18304 [02:58<00:59, 75.46it/s]\u001b[A\n",
      " 76%|███████▌  | 13880/18304 [02:59<01:00, 73.48it/s]\u001b[A\n",
      " 76%|███████▌  | 13920/18304 [02:59<00:58, 75.51it/s]\u001b[A\n",
      " 76%|███████▋  | 13960/18304 [03:00<00:58, 73.69it/s]\u001b[A\n",
      " 76%|███████▋  | 14000/18304 [03:00<00:57, 74.37it/s]\u001b[A\n",
      " 77%|███████▋  | 14040/18304 [03:01<00:56, 75.11it/s]\u001b[A\n",
      " 77%|███████▋  | 14080/18304 [03:01<00:53, 78.68it/s]\u001b[A\n",
      " 77%|███████▋  | 14120/18304 [03:02<00:55, 75.34it/s]\u001b[A\n",
      " 77%|███████▋  | 14160/18304 [03:02<00:54, 75.82it/s]\u001b[A\n",
      " 78%|███████▊  | 14200/18304 [03:03<00:53, 77.04it/s]\u001b[A\n",
      " 78%|███████▊  | 14240/18304 [03:03<00:51, 79.52it/s]\u001b[A\n",
      " 78%|███████▊  | 14280/18304 [03:04<00:50, 80.05it/s]\u001b[A\n",
      " 78%|███████▊  | 14320/18304 [03:05<00:53, 74.20it/s]\u001b[A\n",
      " 78%|███████▊  | 14360/18304 [03:05<00:51, 76.71it/s]\u001b[A\n",
      " 79%|███████▊  | 14400/18304 [03:05<00:49, 78.80it/s]\u001b[A\n",
      " 79%|███████▉  | 14440/18304 [03:06<00:50, 76.66it/s]\u001b[A\n",
      " 79%|███████▉  | 14480/18304 [03:07<00:51, 74.18it/s]\u001b[A\n",
      " 79%|███████▉  | 14520/18304 [03:07<00:51, 73.52it/s]\u001b[A\n",
      " 80%|███████▉  | 14560/18304 [03:08<00:50, 74.59it/s]\u001b[A\n",
      " 80%|███████▉  | 14600/18304 [03:08<00:47, 77.62it/s]\u001b[A\n",
      " 80%|███████▉  | 14640/18304 [03:09<00:46, 78.04it/s]\u001b[A\n",
      " 80%|████████  | 14680/18304 [03:09<00:48, 74.08it/s]\u001b[A\n",
      " 80%|████████  | 14720/18304 [03:10<00:46, 76.97it/s]\u001b[A\n",
      " 81%|████████  | 14760/18304 [03:10<00:47, 74.70it/s]\u001b[A\n",
      " 81%|████████  | 14800/18304 [03:11<00:46, 75.10it/s]\u001b[A\n",
      " 81%|████████  | 14840/18304 [03:11<00:48, 71.77it/s]\u001b[A\n",
      " 81%|████████▏ | 14880/18304 [03:12<00:47, 72.53it/s]\u001b[A\n",
      " 82%|████████▏ | 14920/18304 [03:13<00:48, 70.32it/s]\u001b[A\n",
      " 82%|████████▏ | 14960/18304 [03:13<00:47, 69.91it/s]\u001b[A\n",
      " 82%|████████▏ | 15000/18304 [03:14<00:45, 72.07it/s]\u001b[A\n",
      " 82%|████████▏ | 15040/18304 [03:14<00:44, 72.78it/s]\u001b[A\n",
      " 82%|████████▏ | 15080/18304 [03:15<00:44, 73.09it/s]\u001b[A\n",
      " 83%|████████▎ | 15120/18304 [03:15<00:45, 69.99it/s]\u001b[A\n",
      " 83%|████████▎ | 15160/18304 [03:16<00:42, 73.29it/s]\u001b[A\n",
      " 83%|████████▎ | 15200/18304 [03:16<00:41, 75.15it/s]\u001b[A\n",
      " 83%|████████▎ | 15240/18304 [03:17<00:41, 72.99it/s]\u001b[A\n",
      " 83%|████████▎ | 15280/18304 [03:18<00:43, 69.19it/s]\u001b[A\n",
      " 84%|████████▎ | 15320/18304 [03:18<00:42, 70.39it/s]\u001b[A\n",
      " 84%|████████▍ | 15360/18304 [03:19<00:41, 70.24it/s]\u001b[A\n",
      " 84%|████████▍ | 15400/18304 [03:19<00:40, 71.16it/s]\u001b[A\n",
      " 84%|████████▍ | 15440/18304 [03:20<00:40, 70.50it/s]\u001b[A\n",
      " 85%|████████▍ | 15480/18304 [03:20<00:40, 70.35it/s]\u001b[A\n",
      " 85%|████████▍ | 15520/18304 [03:21<00:38, 73.01it/s]\u001b[A\n",
      " 85%|████████▌ | 15560/18304 [03:22<00:42, 64.90it/s]\u001b[A\n",
      " 85%|████████▌ | 15600/18304 [03:22<00:41, 65.49it/s]\u001b[A\n",
      " 85%|████████▌ | 15640/18304 [03:23<00:38, 68.85it/s]\u001b[A\n",
      " 86%|████████▌ | 15680/18304 [03:23<00:35, 73.38it/s]\u001b[A\n",
      " 86%|████████▌ | 15720/18304 [03:24<00:34, 75.13it/s]\u001b[A\n",
      " 86%|████████▌ | 15760/18304 [03:24<00:33, 76.92it/s]\u001b[A\n",
      " 86%|████████▋ | 15800/18304 [03:25<00:30, 82.36it/s]\u001b[A\n",
      " 87%|████████▋ | 15840/18304 [03:25<00:30, 82.12it/s]\u001b[A\n",
      " 87%|████████▋ | 15880/18304 [03:26<00:30, 79.91it/s]\u001b[A\n",
      " 87%|████████▋ | 15920/18304 [03:26<00:29, 80.17it/s]\u001b[A\n",
      " 87%|████████▋ | 15960/18304 [03:27<00:28, 82.99it/s]\u001b[A\n",
      " 87%|████████▋ | 16000/18304 [03:27<00:28, 80.67it/s]\u001b[A\n",
      " 88%|████████▊ | 16040/18304 [03:28<00:29, 75.96it/s]\u001b[A\n",
      " 88%|████████▊ | 16080/18304 [03:28<00:28, 77.51it/s]\u001b[A\n",
      " 88%|████████▊ | 16120/18304 [03:29<00:29, 73.87it/s]\u001b[A\n",
      " 88%|████████▊ | 16160/18304 [03:29<00:29, 72.64it/s]\u001b[A\n",
      " 89%|████████▊ | 16200/18304 [03:30<00:29, 71.71it/s]\u001b[A\n",
      " 89%|████████▊ | 16240/18304 [03:31<00:28, 72.42it/s]\u001b[A\n",
      " 89%|████████▉ | 16280/18304 [03:31<00:28, 71.93it/s]\u001b[A\n",
      " 89%|████████▉ | 16320/18304 [03:32<00:28, 70.15it/s]\u001b[A\n",
      " 89%|████████▉ | 16360/18304 [03:32<00:27, 71.33it/s]\u001b[A\n",
      " 90%|████████▉ | 16400/18304 [03:33<00:26, 71.75it/s]\u001b[A\n",
      " 90%|████████▉ | 16440/18304 [03:33<00:26, 70.64it/s]\u001b[A\n",
      " 90%|█████████ | 16480/18304 [03:34<00:25, 70.79it/s]\u001b[A\n",
      " 90%|█████████ | 16520/18304 [03:35<00:25, 68.84it/s]\u001b[A\n",
      " 90%|█████████ | 16560/18304 [03:35<00:25, 68.46it/s]\u001b[A\n",
      " 91%|█████████ | 16600/18304 [03:36<00:25, 67.28it/s]\u001b[A\n",
      " 91%|█████████ | 16640/18304 [03:36<00:23, 70.71it/s]\u001b[A\n",
      " 91%|█████████ | 16680/18304 [03:37<00:22, 71.19it/s]\u001b[A\n",
      " 91%|█████████▏| 16720/18304 [03:37<00:22, 71.76it/s]\u001b[A\n",
      " 92%|█████████▏| 16760/18304 [03:38<00:21, 71.29it/s]\u001b[A\n",
      " 92%|█████████▏| 16800/18304 [03:38<00:21, 71.52it/s]\u001b[A\n",
      " 92%|█████████▏| 16840/18304 [03:39<00:20, 70.06it/s]\u001b[A\n",
      " 92%|█████████▏| 16880/18304 [03:40<00:19, 71.31it/s]\u001b[A\n",
      " 92%|█████████▏| 16920/18304 [03:40<00:19, 70.76it/s]\u001b[A\n",
      " 93%|█████████▎| 16960/18304 [03:41<00:18, 70.88it/s]\u001b[A\n",
      " 93%|█████████▎| 17000/18304 [03:41<00:18, 69.84it/s]\u001b[A\n",
      " 93%|█████████▎| 17040/18304 [03:42<00:17, 70.82it/s]\u001b[A\n",
      " 93%|█████████▎| 17080/18304 [03:43<00:17, 68.02it/s]\u001b[A\n",
      " 94%|█████████▎| 17120/18304 [03:43<00:16, 70.60it/s]\u001b[A\n",
      " 94%|█████████▍| 17160/18304 [03:44<00:16, 70.63it/s]\u001b[A\n",
      " 94%|█████████▍| 17200/18304 [03:44<00:15, 71.63it/s]\u001b[A\n",
      " 94%|█████████▍| 17240/18304 [03:45<00:15, 70.35it/s]\u001b[A\n",
      " 94%|█████████▍| 17280/18304 [03:45<00:14, 71.32it/s]\u001b[A\n",
      " 95%|█████████▍| 17320/18304 [03:46<00:13, 72.12it/s]\u001b[A\n",
      " 95%|█████████▍| 17360/18304 [03:46<00:12, 73.64it/s]\u001b[A\n",
      " 95%|█████████▌| 17400/18304 [03:47<00:12, 72.49it/s]\u001b[A\n",
      " 95%|█████████▌| 17440/18304 [03:47<00:11, 73.94it/s]\u001b[A\n",
      " 95%|█████████▌| 17480/18304 [03:48<00:10, 75.41it/s]\u001b[A\n",
      " 96%|█████████▌| 17520/18304 [03:48<00:10, 76.56it/s]\u001b[A\n",
      " 96%|█████████▌| 17560/18304 [03:49<00:09, 77.03it/s]\u001b[A\n",
      " 96%|█████████▌| 17600/18304 [03:49<00:09, 76.22it/s]\u001b[A\n",
      " 96%|█████████▋| 17640/18304 [03:50<00:08, 76.74it/s]\u001b[A\n",
      " 97%|█████████▋| 17680/18304 [03:50<00:07, 81.82it/s]\u001b[A\n",
      " 97%|█████████▋| 17720/18304 [03:51<00:07, 79.62it/s]\u001b[A\n",
      " 97%|█████████▋| 17760/18304 [03:51<00:06, 81.87it/s]\u001b[A\n",
      " 97%|█████████▋| 17800/18304 [03:52<00:06, 82.56it/s]\u001b[A\n",
      " 97%|█████████▋| 17840/18304 [03:52<00:05, 79.49it/s]\u001b[A\n",
      " 98%|█████████▊| 17880/18304 [03:53<00:05, 76.85it/s]\u001b[A\n",
      " 98%|█████████▊| 17920/18304 [03:54<00:05, 74.07it/s]\u001b[A\n",
      " 98%|█████████▊| 17960/18304 [03:54<00:04, 76.20it/s]\u001b[A\n",
      " 98%|█████████▊| 18000/18304 [03:55<00:03, 76.45it/s]\u001b[A\n",
      " 99%|█████████▊| 18040/18304 [03:55<00:03, 76.72it/s]\u001b[A\n",
      " 99%|█████████▉| 18080/18304 [03:56<00:02, 78.40it/s]\u001b[A\n",
      " 99%|█████████▉| 18120/18304 [03:56<00:02, 79.69it/s]\u001b[A\n",
      " 99%|█████████▉| 18160/18304 [03:57<00:01, 83.00it/s]\u001b[A\n",
      " 99%|█████████▉| 18200/18304 [03:57<00:01, 78.08it/s]\u001b[A\n",
      "100%|█████████▉| 18240/18304 [03:58<00:00, 79.95it/s]\u001b[A\n",
      "100%|█████████▉| 18280/18304 [03:58<00:00, 78.42it/s]\u001b[A\n",
      "100%|██████████| 18304/18304 [03:58<00:00, 76.72it/s]\u001b[A"
     ]
    }
   ],
   "source": [
    "amps3_data_200V_2 = np.array(Parallel(n_jobs=20)(delayed(get_amp)(i) for i in tqdm(range(18304))))"
   ]
  },
  {
   "cell_type": "code",
   "execution_count": null,
   "metadata": {},
   "outputs": [],
   "source": [
    "amps4_data_200V_1 = np.array(Parallel(n_jobs=20)(delayed(get_amp3)(i) for i in tqdm(range(1996))))"
   ]
  },
  {
   "cell_type": "code",
   "execution_count": null,
   "metadata": {},
   "outputs": [
    {
     "name": "stderr",
     "output_type": "stream",
     "text": [
      "\r",
      " 16%|█▌        | 2920/18304 [00:29<00:49, 312.46it/s]"
     ]
    }
   ],
   "source": [
    "amps4_data_200V_2 = np.array(Parallel(n_jobs=20)(delayed(get_amp3)(i) for i in tqdm(range(18304))))"
   ]
  },
  {
   "cell_type": "markdown",
   "metadata": {},
   "source": [
    "### Plot raw data"
   ]
  },
  {
   "cell_type": "code",
   "execution_count": 63,
   "metadata": {},
   "outputs": [
    {
     "data": {
      "application/vnd.jupyter.widget-view+json": {
       "model_id": "470bae636235402a8b29def7a03689de",
       "version_major": 2,
       "version_minor": 0
      },
      "text/plain": [
       "Canvas(toolbar=Toolbar(toolitems=[('Home', 'Reset original view', 'home', 'home'), ('Back', 'Back to previous …"
      ]
     },
     "metadata": {},
     "output_type": "display_data"
    },
    {
     "ename": "NameError",
     "evalue": "name 'amps_data_200V_2' is not defined",
     "output_type": "error",
     "traceback": [
      "\u001b[0;31m---------------------------------------------------------------------------\u001b[0m",
      "\u001b[0;31mNameError\u001b[0m                                 Traceback (most recent call last)",
      "\u001b[0;32m<ipython-input-63-4f274f959de8>\u001b[0m in \u001b[0;36m<module>\u001b[0;34m\u001b[0m\n\u001b[1;32m      2\u001b[0m \u001b[0mi\u001b[0m\u001b[0;34m=\u001b[0m\u001b[0;36m0\u001b[0m\u001b[0;34m;\u001b[0m \u001b[0mj\u001b[0m\u001b[0;34m=\u001b[0m\u001b[0;36m1\u001b[0m\u001b[0;34m\u001b[0m\u001b[0;34m\u001b[0m\u001b[0m\n\u001b[1;32m      3\u001b[0m \u001b[0m_\u001b[0m\u001b[0;34m,\u001b[0m\u001b[0max\u001b[0m \u001b[0;34m=\u001b[0m \u001b[0mplt\u001b[0m\u001b[0;34m.\u001b[0m\u001b[0msubplots\u001b[0m\u001b[0;34m(\u001b[0m\u001b[0;34m)\u001b[0m\u001b[0;34m\u001b[0m\u001b[0;34m\u001b[0m\u001b[0m\n\u001b[0;32m----> 4\u001b[0;31m \u001b[0mdat\u001b[0m \u001b[0;34m=\u001b[0m \u001b[0mamps_data_200V_2\u001b[0m\u001b[0;34m\u001b[0m\u001b[0;34m\u001b[0m\u001b[0m\n\u001b[0m\u001b[1;32m      5\u001b[0m \u001b[0max\u001b[0m\u001b[0;34m.\u001b[0m\u001b[0mscatter\u001b[0m\u001b[0;34m(\u001b[0m\u001b[0mdat\u001b[0m\u001b[0;34m[\u001b[0m\u001b[0;34m:\u001b[0m\u001b[0;34m:\u001b[0m\u001b[0;36m4\u001b[0m\u001b[0;34m,\u001b[0m\u001b[0mi\u001b[0m\u001b[0;34m]\u001b[0m\u001b[0;34m,\u001b[0m \u001b[0mdat\u001b[0m\u001b[0;34m[\u001b[0m\u001b[0;34m:\u001b[0m\u001b[0;34m:\u001b[0m\u001b[0;36m4\u001b[0m\u001b[0;34m,\u001b[0m\u001b[0mj\u001b[0m\u001b[0;34m]\u001b[0m\u001b[0;34m,\u001b[0m\u001b[0mlabel\u001b[0m\u001b[0;34m=\u001b[0m\u001b[0;34m'positive electrode'\u001b[0m\u001b[0;34m)\u001b[0m\u001b[0;34m\u001b[0m\u001b[0;34m\u001b[0m\u001b[0m\n\u001b[1;32m      6\u001b[0m \u001b[0max\u001b[0m\u001b[0;34m.\u001b[0m\u001b[0mscatter\u001b[0m\u001b[0;34m(\u001b[0m\u001b[0mdat\u001b[0m\u001b[0;34m[\u001b[0m\u001b[0;36m2\u001b[0m\u001b[0;34m:\u001b[0m\u001b[0;34m:\u001b[0m\u001b[0;36m4\u001b[0m\u001b[0;34m,\u001b[0m\u001b[0mi\u001b[0m\u001b[0;34m]\u001b[0m\u001b[0;34m,\u001b[0m \u001b[0mdat\u001b[0m\u001b[0;34m[\u001b[0m\u001b[0;36m2\u001b[0m\u001b[0;34m:\u001b[0m\u001b[0;34m:\u001b[0m\u001b[0;36m4\u001b[0m\u001b[0;34m,\u001b[0m\u001b[0mj\u001b[0m\u001b[0;34m]\u001b[0m\u001b[0;34m,\u001b[0m \u001b[0mlabel\u001b[0m\u001b[0;34m=\u001b[0m\u001b[0;34m'negative electrode'\u001b[0m\u001b[0;34m)\u001b[0m\u001b[0;34m\u001b[0m\u001b[0;34m\u001b[0m\u001b[0m\n",
      "\u001b[0;31mNameError\u001b[0m: name 'amps_data_200V_2' is not defined"
     ]
    }
   ],
   "source": [
    "##\n",
    "i=0; j=1\n",
    "_,ax = plt.subplots()\n",
    "dat = amps_data_200V_2\n",
    "ax.scatter(dat[::4,i], dat[::4,j],label='positive electrode')\n",
    "ax.scatter(dat[2::4,i], dat[2::4,j], label='negative electrode')\n",
    "ax.set(xlabel='amplitude', ylabel='noise parameter')\n",
    "ax.legend()"
   ]
  },
  {
   "cell_type": "code",
   "execution_count": 48,
   "metadata": {},
   "outputs": [],
   "source": [
    "amps4_all = list(np.array(amps3_data_200V_1_noise))\n",
    "amps4_all += list(np.array(amps3_data_200V_2_noise))\n",
    "amps4_all = np.array(amps4_all)"
   ]
  },
  {
   "cell_type": "code",
   "execution_count": 72,
   "metadata": {},
   "outputs": [],
   "source": [
    "amps3_all = list(np.array(amps3_data_200V_1))\n",
    "amps3_all += list(np.array(amps3_data_200V_2))\n",
    "amps3_all = np.array(amps3_all)"
   ]
  },
  {
   "cell_type": "code",
   "execution_count": 356,
   "metadata": {},
   "outputs": [],
   "source": [
    "amps3_all_noise = list(np.array(amps3_data_200V_1_noise))\n",
    "amps3_all_noise += list(np.array(amps3_data_200V_2_noise))\n",
    "amps3_all_noise = np.array(amps3_all_noise)"
   ]
  },
  {
   "cell_type": "code",
   "execution_count": 39,
   "metadata": {},
   "outputs": [
    {
     "data": {
      "text/plain": [
       "(9.99611128872374, 199.91493035973804)"
      ]
     },
     "execution_count": 39,
     "metadata": {},
     "output_type": "execute_result"
    }
   ],
   "source": [
    "voltage, voltage0_200"
   ]
  },
  {
   "cell_type": "code",
   "execution_count": 86,
   "metadata": {
    "scrolled": false
   },
   "outputs": [
    {
     "data": {
      "application/vnd.jupyter.widget-view+json": {
       "model_id": "7b64c3a09d004e20bb5ece30f5ffdcc1",
       "version_major": 2,
       "version_minor": 0
      },
      "text/plain": [
       "Canvas(toolbar=Toolbar(toolitems=[('Home', 'Reset original view', 'home', 'home'), ('Back', 'Back to previous …"
      ]
     },
     "metadata": {},
     "output_type": "display_data"
    },
    {
     "name": "stdout",
     "output_type": "stream",
     "text": [
      "mean:  -0.005815292247646375 std:  0.00018996674568064488\n",
      "mean:  -0.005900029892355978 std:  0.00019765162222398923\n",
      "-0.01016932354061629 0.00024388555782934042\n"
     ]
    }
   ],
   "source": [
    "factor = 0.7379676666741903\n",
    "correction_factor = 0.8492306051773448\n",
    "\n",
    "data0 = amps3_data_200V_1_n[:,2]/ScaleY*voltage/voltage0_200/correction_factor\n",
    "# data0_noise = amps4_all_noise[:,0]/ScaleY*voltage/voltage0_200/ScaleY\n",
    "\n",
    "dataPlus=np.array(list(data0[0::4]))\n",
    "dataMinus=np.array(list(data0[2::4]))\n",
    "data_A = dataPlus+factor*dataMinus\n",
    "\n",
    "# dataPlus_noise=np.array(list(data0_noise[0::4]))\n",
    "# dataMinus_noise=np.array(list(data0_noise[2::4]))\n",
    "# data_A_noise = dataPlus_noise+factor*dataMinus_noise\n",
    "\n",
    "\n",
    "_, ax= plt.subplots(figsize=(9.5,4))\n",
    "ax.scatter(np.arange(len(dataPlus)), dataPlus, label='Y-axis/, plus, 200V')\n",
    "ax.scatter(np.arange(len(dataMinus)), dataMinus, label='Y-axis, minus, 200V')\n",
    "ax.plot(np.arange(0,len(dataPlus)), np.arange(0,len(dataPlus))*0, '--k')\n",
    "ax.set(xlabel='Dataset', ylabel=r'$\\epsilon$')\n",
    "ax.legend()\n",
    "print('mean: ', np.mean(dataPlus), 'std: ', np.std(dataPlus)/np.sqrt(len(dataPlus)))\n",
    "print('mean: ', np.mean(dataMinus), 'std: ', np.std(dataMinus)/np.sqrt(len(dataMinus)))\n",
    "print(np.mean(data_A), np.std(data_A/np.sqrt(len(data_A))))\n",
    "# print(np.mean(data_A_noise), np.std(data_A_noise/np.sqrt(len(data_A_noise))))"
   ]
  },
  {
   "cell_type": "code",
   "execution_count": 55,
   "metadata": {},
   "outputs": [
    {
     "data": {
      "text/plain": [
       "28.194444444444443"
      ]
     },
     "execution_count": 55,
     "metadata": {},
     "output_type": "execute_result"
    }
   ],
   "source": [
    "len(dataPlus)*2*10/3600"
   ]
  },
  {
   "cell_type": "code",
   "execution_count": 56,
   "metadata": {},
   "outputs": [
    {
     "ename": "NameError",
     "evalue": "name 'Scale_y3' is not defined",
     "output_type": "error",
     "traceback": [
      "\u001b[0;31m---------------------------------------------------------------------------\u001b[0m",
      "\u001b[0;31mNameError\u001b[0m                                 Traceback (most recent call last)",
      "\u001b[0;32m<ipython-input-56-317ab040648d>\u001b[0m in \u001b[0;36m<module>\u001b[0;34m\u001b[0m\n\u001b[0;32m----> 1\u001b[0;31m \u001b[0mdata0\u001b[0m \u001b[0;34m=\u001b[0m \u001b[0mamps4_all\u001b[0m\u001b[0;34m/\u001b[0m\u001b[0mScale_y3\u001b[0m\u001b[0;34m*\u001b[0m\u001b[0mvoltage\u001b[0m\u001b[0;34m/\u001b[0m\u001b[0mvoltage0_200\u001b[0m\u001b[0;34m\u001b[0m\u001b[0;34m\u001b[0m\u001b[0m\n\u001b[0m\u001b[1;32m      2\u001b[0m \u001b[0;34m\u001b[0m\u001b[0m\n\u001b[1;32m      3\u001b[0m \u001b[0mdataPlus\u001b[0m\u001b[0;34m=\u001b[0m\u001b[0mnp\u001b[0m\u001b[0;34m.\u001b[0m\u001b[0marray\u001b[0m\u001b[0;34m(\u001b[0m\u001b[0mlist\u001b[0m\u001b[0;34m(\u001b[0m\u001b[0mdata0\u001b[0m\u001b[0;34m[\u001b[0m\u001b[0;36m0\u001b[0m\u001b[0;34m:\u001b[0m\u001b[0;34m:\u001b[0m\u001b[0;36m4\u001b[0m\u001b[0;34m]\u001b[0m\u001b[0;34m)\u001b[0m\u001b[0;34m)\u001b[0m\u001b[0;34m\u001b[0m\u001b[0;34m\u001b[0m\u001b[0m\n\u001b[1;32m      4\u001b[0m \u001b[0mdataMinus\u001b[0m\u001b[0;34m=\u001b[0m\u001b[0mnp\u001b[0m\u001b[0;34m.\u001b[0m\u001b[0marray\u001b[0m\u001b[0;34m(\u001b[0m\u001b[0mlist\u001b[0m\u001b[0;34m(\u001b[0m\u001b[0mdata0\u001b[0m\u001b[0;34m[\u001b[0m\u001b[0;36m2\u001b[0m\u001b[0;34m:\u001b[0m\u001b[0;34m:\u001b[0m\u001b[0;36m4\u001b[0m\u001b[0;34m]\u001b[0m\u001b[0;34m)\u001b[0m\u001b[0;34m)\u001b[0m\u001b[0;34m\u001b[0m\u001b[0;34m\u001b[0m\u001b[0m\n\u001b[1;32m      5\u001b[0m \u001b[0mdata_A\u001b[0m \u001b[0;34m=\u001b[0m \u001b[0mdataPlus\u001b[0m\u001b[0;34m+\u001b[0m\u001b[0mfactor\u001b[0m\u001b[0;34m*\u001b[0m\u001b[0mdataMinus\u001b[0m\u001b[0;34m\u001b[0m\u001b[0;34m\u001b[0m\u001b[0m\n",
      "\u001b[0;31mNameError\u001b[0m: name 'Scale_y3' is not defined"
     ]
    }
   ],
   "source": [
    "data0 = amps4_all/Scale_y3*voltage/voltage0_200\n",
    "\n",
    "dataPlus=np.array(list(data0[0::4]))\n",
    "dataMinus=np.array(list(data0[2::4]))\n",
    "data_A = dataPlus+factor*dataMinus\n",
    "\n",
    "\n",
    "_, ax= plt.subplots(figsize=(9.5,4))\n",
    "ax.scatter(np.arange(len(dataPlus)), dataPlus, label='Y-axis/, plus, 200V, XZ-spin-46kHz, with-height-fb')\n",
    "ax.scatter(np.arange(len(dataMinus)), dataMinus, label='Y-axis, minus, 200V, XZ-spin-46kHz, with-height-fb')\n",
    "ax.plot(np.arange(0,len(dataPlus)), np.arange(0,len(dataPlus))*0, '--k')\n",
    "ax.set(xlabel='Dataset', ylabel=r'$\\epsilon$')\n",
    "ax.legend()\n",
    "print('mean: ', np.mean(dataPlus), 'std: ', np.std(dataPlus)/np.sqrt(len(dataPlus)))\n",
    "print('mean: ', np.mean(dataMinus), 'std: ', np.std(dataMinus)/np.sqrt(len(dataMinus)))\n",
    "print(np.mean(data_A), np.std(data_A/np.sqrt(len(data_A))))"
   ]
  },
  {
   "cell_type": "code",
   "execution_count": 57,
   "metadata": {},
   "outputs": [
    {
     "data": {
      "application/vnd.jupyter.widget-view+json": {
       "model_id": "c859178687aa48beadab2685d39cad05",
       "version_major": 2,
       "version_minor": 0
      },
      "text/plain": [
       "Canvas(toolbar=Toolbar(toolitems=[('Home', 'Reset original view', 'home', 'home'), ('Back', 'Back to previous …"
      ]
     },
     "metadata": {},
     "output_type": "display_data"
    },
    {
     "name": "stdout",
     "output_type": "stream",
     "text": [
      "1st harmonic, A parameter: mean, std:  -9.627573115937561e-05 9.672149306930348e-05\n",
      "1st harmonic, A-shifted: mean, std:  -4.9948094902058045e-05 7.910973121149462e-05\n"
     ]
    }
   ],
   "source": [
    "N = len(dataMinus)\n",
    "\n",
    "data_shifted = np.array([(dataMinus[i]+dataMinus[i-1])/2 for i in range(1,N)])\n",
    "data3_A_shifted = data_shifted+factor*dataPlus[:-1]\n",
    "\n",
    "# data_shifted_noise = np.array([(dataMinus_noise[i]+dataMinus_noise[i-1])/2 for i in range(1,N)])\n",
    "# data3_A_shifted_noise = data_shifted_noise+factor*dataPlus_noise[:-1]\n",
    "\n",
    "_, ax= plt.subplots(figsize=(9.5,4))\n",
    "ax.scatter(np.arange(len(data_A))*2*10/3600, data_A, label='200Vpp-z-plus, new trap')\n",
    "ax.scatter(np.arange(len(data3_A_shifted))*2*10/3600, data3_A_shifted, label='200Vpp-z, A parameter shifted', alpha=0.6)\n",
    "\n",
    "ax.plot(np.arange(len(data_A))*2*10/3600, np.arange(len(data_A))*0, '--k')\n",
    "ax.set(xlabel='Integration time [hr.]', ylabel=r'$\\epsilon$')\n",
    "ax.legend()\n",
    "print('1st harmonic, A parameter: mean, std: ', np.mean(data_A), np.std(data_A)/np.sqrt(len(data_A)))\n",
    "print('1st harmonic, A-shifted: mean, std: ', np.mean(data3_A_shifted), np.std(data3_A_shifted)/np.sqrt(len(data3_A_shifted)))\n"
   ]
  },
  {
   "cell_type": "code",
   "execution_count": 45,
   "metadata": {},
   "outputs": [],
   "source": [
    "fig_data_array = np.array([data_shifted, dataPlus[:-1], data3_A_shifted])\n",
    "np.save('Zernike_data_plus_minus_A_20211129', fig_data_array)"
   ]
  },
  {
   "cell_type": "code",
   "execution_count": 370,
   "metadata": {},
   "outputs": [
    {
     "data": {
      "text/plain": [
       "(2, 5074)"
      ]
     },
     "execution_count": 370,
     "metadata": {},
     "output_type": "execute_result"
    }
   ],
   "source": [
    "epsilon_array = np.array([data3_A_shifted, data3_A_shifted_noise])\n",
    "epsilon_array.shape"
   ]
  },
  {
   "cell_type": "code",
   "execution_count": 372,
   "metadata": {},
   "outputs": [],
   "source": [
    "np.save(\"epslion_new_trap\", epsilon_array)"
   ]
  },
  {
   "cell_type": "code",
   "execution_count": 58,
   "metadata": {},
   "outputs": [
    {
     "name": "stdout",
     "output_type": "stream",
     "text": [
      "5075 5075\n"
     ]
    },
    {
     "ename": "NameError",
     "evalue": "name 'amps_data_200V_2' is not defined",
     "output_type": "error",
     "traceback": [
      "\u001b[0;31m---------------------------------------------------------------------------\u001b[0m",
      "\u001b[0;31mNameError\u001b[0m                                 Traceback (most recent call last)",
      "\u001b[0;32m<ipython-input-58-a491f2aafe2c>\u001b[0m in \u001b[0;36m<module>\u001b[0;34m\u001b[0m\n\u001b[1;32m      1\u001b[0m \u001b[0mprint\u001b[0m\u001b[0;34m(\u001b[0m\u001b[0mlen\u001b[0m\u001b[0;34m(\u001b[0m\u001b[0mdataMinus\u001b[0m\u001b[0;34m)\u001b[0m\u001b[0;34m,\u001b[0m \u001b[0mlen\u001b[0m\u001b[0;34m(\u001b[0m\u001b[0mdataMinus\u001b[0m\u001b[0;34m)\u001b[0m\u001b[0;34m)\u001b[0m\u001b[0;34m\u001b[0m\u001b[0;34m\u001b[0m\u001b[0m\n\u001b[0;32m----> 2\u001b[0;31m \u001b[0mdataPlus_noise\u001b[0m\u001b[0;34m=\u001b[0m\u001b[0mamps_data_200V_2\u001b[0m\u001b[0;34m[\u001b[0m\u001b[0;34m:\u001b[0m\u001b[0;34m:\u001b[0m\u001b[0;36m4\u001b[0m\u001b[0;34m,\u001b[0m\u001b[0;36m0\u001b[0m\u001b[0;34m]\u001b[0m\u001b[0;34m\u001b[0m\u001b[0;34m\u001b[0m\u001b[0m\n\u001b[0m\u001b[1;32m      3\u001b[0m \u001b[0mdataMinus_noise\u001b[0m\u001b[0;34m=\u001b[0m\u001b[0mamps_data_200V_2\u001b[0m\u001b[0;34m[\u001b[0m\u001b[0;36m2\u001b[0m\u001b[0;34m:\u001b[0m\u001b[0;34m:\u001b[0m\u001b[0;36m4\u001b[0m\u001b[0;34m,\u001b[0m\u001b[0;36m0\u001b[0m\u001b[0;34m]\u001b[0m\u001b[0;34m\u001b[0m\u001b[0;34m\u001b[0m\u001b[0m\n\u001b[1;32m      4\u001b[0m \u001b[0mthresh\u001b[0m \u001b[0;34m=\u001b[0m \u001b[0;36m0.002\u001b[0m\u001b[0;34m\u001b[0m\u001b[0;34m\u001b[0m\u001b[0m\n\u001b[1;32m      5\u001b[0m \u001b[0mfactor\u001b[0m \u001b[0;34m=\u001b[0m \u001b[0;36m1\u001b[0m\u001b[0;34m\u001b[0m\u001b[0;34m\u001b[0m\u001b[0m\n",
      "\u001b[0;31mNameError\u001b[0m: name 'amps_data_200V_2' is not defined"
     ]
    }
   ],
   "source": [
    "print(len(dataMinus), len(dataMinus))\n",
    "dataPlus_noise=amps_data_200V_2[::4,0]\n",
    "dataMinus_noise=amps_data_200V_2[2::4,0]\n",
    "thresh = 0.002\n",
    "factor = 1\n",
    "amps_data_200V_after_cuts = np.array([dataMinus[i]*factor+dataPlus[i] for i in range(len(dataMinus)) if (dataPlus_noise[i]<thresh)&(dataMinus_noise[i]<thresh)])"
   ]
  },
  {
   "cell_type": "code",
   "execution_count": 59,
   "metadata": {},
   "outputs": [
    {
     "data": {
      "application/vnd.jupyter.widget-view+json": {
       "model_id": "1e08b4ebe72b4d6798fcae216d82f6d2",
       "version_major": 2,
       "version_minor": 0
      },
      "text/plain": [
       "Canvas(toolbar=Toolbar(toolitems=[('Home', 'Reset original view', 'home', 'home'), ('Back', 'Back to previous …"
      ]
     },
     "metadata": {},
     "output_type": "display_data"
    },
    {
     "data": {
      "text/plain": [
       "<matplotlib.legend.Legend at 0x7f794c7bc828>"
      ]
     },
     "execution_count": 59,
     "metadata": {},
     "output_type": "execute_result"
    }
   ],
   "source": [
    "from scipy.optimize import curve_fit\n",
    "from scipy import asarray as ar,exp\n",
    "\n",
    "data_hist = dataPlus+factor*dataMinus\n",
    "range_pram = 0.015\n",
    "data_hist = np.array(list(data3_A_shifted))\n",
    "_,ax = plt.subplots()\n",
    "entries, bins, patches = ax.hist(data_hist, bins=31, range=(-range_pram, range_pram), label='200V-x, xz-spin-100V')\n",
    "ax.set(xlabel=r'$\\epsilon$')\n",
    "ax.legend()"
   ]
  },
  {
   "cell_type": "code",
   "execution_count": 60,
   "metadata": {},
   "outputs": [
    {
     "name": "stdout",
     "output_type": "stream",
     "text": [
      "mean:  3.455651953511411e-05 cov:  8.461104916944183e-05\n",
      "mean:  -7.76831004514065e-05 std:  -0.00553352379788879\n"
     ]
    },
    {
     "name": "stderr",
     "output_type": "stream",
     "text": [
      "/home/analysis_user/.local/lib/python3.6/site-packages/ipykernel_launcher.py:19: RuntimeWarning: invalid value encountered in sqrt\n"
     ]
    }
   ],
   "source": [
    "## gaussian fit to the histogram\n",
    "\n",
    "bins_fit =[(bins[i+1]-bins[i])/2+bins[i] for i in range(len(entries))]\n",
    "# bins_fit = bins[:-1]\n",
    "for i,ee in enumerate([entries]):\n",
    "    x = bins_fit\n",
    "    y= ee\n",
    "\n",
    "    n = len(x)                          #the number of data\n",
    "    mean = sum(x*y)/n                   #note this correction\n",
    "    sigma = sum(y*(x-mean)**2)/n        #note this correction\n",
    "\n",
    "    def gaus(x,a,x0,sigma):\n",
    "        return a*np.exp(-(x-x0)**2/(2*sigma**2))\n",
    "\n",
    "    popt,pcov = curve_fit(gaus,x,y,p0=[1,mean,sigma])\n",
    "    ax.plot(x,gaus(x,*popt),'ro:',label='fit')\n",
    "\n",
    "    print(\"mean: \", popt[1], \"cov: \", np.sqrt(pcov)[1,1])\n",
    "    print(\"mean: \", popt[2]/np.sqrt(len(data_hist)), \"std: \", popt[2])"
   ]
  },
  {
   "cell_type": "code",
   "execution_count": 351,
   "metadata": {},
   "outputs": [
    {
     "data": {
      "application/vnd.jupyter.widget-view+json": {
       "model_id": "5ce5dc334ed6409ca54d58a7ba45bd51",
       "version_major": 2,
       "version_minor": 0
      },
      "text/plain": [
       "Canvas(toolbar=Toolbar(toolitems=[('Home', 'Reset original view', 'home', 'home'), ('Back', 'Back to previous …"
      ]
     },
     "metadata": {},
     "output_type": "display_data"
    },
    {
     "name": "stdout",
     "output_type": "stream",
     "text": [
      "mean:  8.198083425618426e-07 std:  6.962957734441524e-05\n"
     ]
    },
    {
     "name": "stderr",
     "output_type": "stream",
     "text": [
      "/home/analysis_user/.local/lib/python3.6/site-packages/ipykernel_launcher.py:5: RuntimeWarning: invalid value encountered in sqrt\n",
      "  \"\"\"\n"
     ]
    }
   ],
   "source": [
    "_,ax = plt.subplots()\n",
    "ax.errorbar(bins_fit, entries, yerr=np.sqrt(entries), fmt='o', label='data')\n",
    "ax.plot(x,gaus(x,*popt),'r--',label='fit')\n",
    "ax.legend()\n",
    "print(\"mean: \", popt[1], \"std: \", np.sqrt(pcov)[1,1])"
   ]
  },
  {
   "cell_type": "code",
   "execution_count": null,
   "metadata": {},
   "outputs": [],
   "source": []
  },
  {
   "cell_type": "code",
   "execution_count": null,
   "metadata": {},
   "outputs": [],
   "source": []
  },
  {
   "cell_type": "code",
   "execution_count": null,
   "metadata": {},
   "outputs": [],
   "source": []
  },
  {
   "cell_type": "code",
   "execution_count": null,
   "metadata": {},
   "outputs": [],
   "source": []
  },
  {
   "cell_type": "code",
   "execution_count": 359,
   "metadata": {},
   "outputs": [],
   "source": [
    "ll = likelihood_analyser.LikelihoodAnalyser()\n",
    "bandwidth = 2\n",
    "decimate = 10\n",
    "drive_freq = 71\n",
    "phase_calib = -0.0563\n",
    "# phase_calib = -0.0442\n",
    "\n",
    "def get_amp_single(i):\n",
    "    \n",
    "    fname = r'/data/new_trap/20210622/bead1/Single_electrode/Y_electrode_plus_10V_71hZ/Discharge_'+str(i)+'.h5'\n",
    "    fname = r'/data/new_trap/20210622/bead1/Single_electrode/Y_electrode_minus_10V_71Hz/Discharge_'+str(i)+'.h5'\n",
    "    bb = BeadDataFile.BeadDataFile(fname=fname)\n",
    "\n",
    "\n",
    "    fit_kwargs = {'A': 0, 'f': drive_freq, 'phi': 0, 'sigma': 0.1,\n",
    "                  'error_A': 1, 'error_f': 1, 'error_phi': 0.5, 'errordef': 1, 'error_sigma':0.1,\n",
    "                  'limit_phi': [-2 * np.pi, 2 * np.pi], 'limit_sigma': [0, 1],\n",
    "                  'limit_A': [-100, 100], \n",
    "                  'print_level': 0, 'fix_f': True, 'fix_phi': True}\n",
    "    \n",
    "    b, a = signal.butter(3, [2.*(drive_freq-bandwidth/2.)/fsamp, 2.*(drive_freq+bandwidth/2.)/fsamp ], btype = 'bandpass')\n",
    "    xx2 = signal.filtfilt(b, a, bb.y2)[::decimate]\n",
    "    \n",
    "    m1_tmp = ll.find_mle_sin(xx2, fsamp=5000/decimate, noise_rms=1, plot=False, suppress_print=True, **fit_kwargs)\n",
    "    \n",
    "    return m1_tmp.values[0]"
   ]
  },
  {
   "cell_type": "code",
   "execution_count": 360,
   "metadata": {},
   "outputs": [
    {
     "name": "stderr",
     "output_type": "stream",
     "text": [
      "\n",
      "\n",
      "\n",
      "  0%|          | 0/20 [00:00<?, ?it/s]\u001b[A\u001b[A\u001b[A\n",
      "\n",
      "\n",
      "100%|██████████| 20/20 [00:00<00:00, 4164.94it/s]\u001b[A\u001b[A\u001b[A"
     ]
    }
   ],
   "source": [
    "amps_minus_y = np.array(Parallel(n_jobs=20)(delayed(get_amp_single)(i) for i in tqdm(range(20))))"
   ]
  },
  {
   "cell_type": "code",
   "execution_count": 361,
   "metadata": {},
   "outputs": [
    {
     "data": {
      "text/plain": [
       "0.7379676666741903"
      ]
     },
     "execution_count": 361,
     "metadata": {},
     "output_type": "execute_result"
    }
   ],
   "source": [
    "factor = np.mean(amps_plus_y)/np.mean(amps_minus_y)\n",
    "factor"
   ]
  },
  {
   "cell_type": "code",
   "execution_count": 363,
   "metadata": {},
   "outputs": [
    {
     "data": {
      "text/plain": [
       "0.8492306051773448"
      ]
     },
     "execution_count": 363,
     "metadata": {},
     "output_type": "execute_result"
    }
   ],
   "source": [
    "scale_factor = 2*np.mean(amps_plus_y)/(np.mean(amps_minus_y)+np.mean(amps_plus_y))\n",
    "scale_factor"
   ]
  },
  {
   "cell_type": "code",
   "execution_count": 338,
   "metadata": {},
   "outputs": [],
   "source": [
    "factor = 0.7379676666741903"
   ]
  },
  {
   "cell_type": "code",
   "execution_count": 102,
   "metadata": {},
   "outputs": [
    {
     "name": "stdout",
     "output_type": "stream",
     "text": [
      "mean:  -9.040221284622362e-06\n",
      "std:  5.783918100228764e-05\n"
     ]
    }
   ],
   "source": [
    "print(\"mean: \", popt_minus[1]*factor+popt_plus[1])\n",
    "print(\"std: \", np.sqrt(factor*factor*pcov_minus[1,1]+pcov_plus[1,1]))"
   ]
  },
  {
   "cell_type": "code",
   "execution_count": 163,
   "metadata": {},
   "outputs": [
    {
     "name": "stdout",
     "output_type": "stream",
     "text": [
      "mean:  -3.5459721632706974e-05\n",
      "std:  4.7112576364709966e-05\n"
     ]
    }
   ],
   "source": [
    "print(\"mean: \", popt_minus[1]*factor+popt_plus[1])\n",
    "print(\"std: \", np.sqrt(factor*factor*pcov_minus[1,1]+pcov_plus[1,1]))"
   ]
  }
 ],
 "metadata": {
  "kernelspec": {
   "display_name": "Python 3",
   "language": "python",
   "name": "python3"
  },
  "language_info": {
   "codemirror_mode": {
    "name": "ipython",
    "version": 3
   },
   "file_extension": ".py",
   "mimetype": "text/x-python",
   "name": "python",
   "nbconvert_exporter": "python",
   "pygments_lexer": "ipython3",
   "version": "3.6.9"
  }
 },
 "nbformat": 4,
 "nbformat_minor": 4
}
