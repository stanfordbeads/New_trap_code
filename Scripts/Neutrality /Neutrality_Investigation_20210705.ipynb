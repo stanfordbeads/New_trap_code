{
 "cells": [
  {
   "cell_type": "code",
   "execution_count": 1,
   "metadata": {},
   "outputs": [],
   "source": [
    "%run /home/analysis_user/New_trap_code/Tools/basic_packages.py\n",
    "from matplotlib.ticker import MaxNLocator\n",
    "\n",
    "\n",
    "plt.rcParams[\"figure.figsize\"] = (16,12)\n",
    "plt.rcParams[\"font.size\"] = 24\n",
    "plt.rcParams['xtick.labelsize'] = \"small\"\n",
    "plt.rcParams['ytick.labelsize'] = 36"
   ]
  },
  {
   "cell_type": "markdown",
   "metadata": {},
   "source": [
    "## Get the scale"
   ]
  },
  {
   "cell_type": "code",
   "execution_count": 2,
   "metadata": {},
   "outputs": [],
   "source": [
    "ll = likelihood_analyser.LikelihoodAnalyser()\n",
    "bandwidth = 2\n",
    "decimate = 10\n",
    "drive_freq = 71\n",
    "fsamp = 5000\n",
    "def get_scale(i,phase=\"sin\"):\n",
    "    calibrationFile = step_cal_files[i]       \n",
    "    calibFreqs = np.fft.rfftfreq(len(calibrationFile.electrode_data[0]), d=1./5000)\n",
    "    fft_angles = np.angle(np.fft.rfft(calibrationFile.electrode_data[0]))\n",
    "    if(phase==\"cos\"):\n",
    "        phaseResponse = (fft_angles[calibFreqs==drive_freq])%(2*np.pi)\n",
    "    elif(phase==\"sin\"):\n",
    "        phaseResponse = (fft_angles[calibFreqs==drive_freq]+np.pi/2)%(2*np.pi)\n",
    "\n",
    "    print(phaseResponse,np.std(calibrationFile.electrode_data[0])*np.sqrt(2))\n",
    "\n",
    "    fit_kwargs = {'A': 0, 'f': drive_freq, 'phi': phaseResponse, \n",
    "                  'error_A': 1, 'error_f': 1, 'error_phi': 0.5, 'errordef': 1,\n",
    "                  'limit_phi': [-2 * np.pi, 2 * np.pi], \n",
    "                  'limit_A': [-1, 1], \n",
    "                  'print_level': 0, 'fix_f': True, 'fix_phi': True}\n",
    "\n",
    "    frequency = fit_kwargs['f']\n",
    "\n",
    "    b, a = signal.butter(3, [2.*(drive_freq-bandwidth/2.)/fsamp, 2.*(drive_freq+bandwidth/2.)/fsamp ], btype = 'bandpass')\n",
    "    xx2 = signal.filtfilt(b, a, calibrationFile.x2)[::decimate]\n",
    "    \n",
    "    m1_tmp = ll.find_mle_sin(xx2, fsamp=5000/decimate, noise_rms=1, plot=False, suppress_print=True, **fit_kwargs)\n",
    "    \n",
    "    return m1_tmp.values[0]"
   ]
  },
  {
   "cell_type": "code",
   "execution_count": 3,
   "metadata": {},
   "outputs": [
    {
     "name": "stderr",
     "output_type": "stream",
     "text": [
      "100%|██████████| 280/280 [00:01<00:00, 155.68it/s]"
     ]
    },
    {
     "name": "stdout",
     "output_type": "stream",
     "text": [
      "580  files in folder\n",
      "280  files loaded\n"
     ]
    },
    {
     "name": "stderr",
     "output_type": "stream",
     "text": [
      "\n"
     ]
    }
   ],
   "source": [
    "step_cal_dir = r'/data/new_trap/20210622/bead1/Discharge/FineDischarge/'\n",
    "step_cal_files = load_dir(step_cal_dir, start_file=300)"
   ]
  },
  {
   "cell_type": "code",
   "execution_count": 4,
   "metadata": {},
   "outputs": [
    {
     "name": "stdout",
     "output_type": "stream",
     "text": [
      "0 / 280\n",
      "[0.08190331] 9.996283880412916\n",
      "1 / 280\n",
      "[0.08190909] 9.996281304225382\n",
      "2 / 280\n",
      "[0.08189878] 9.996281537733502\n",
      "3 / 280\n",
      "[0.08188683] 9.996288002004473\n",
      "4 / 280\n",
      "[0.08188301] 9.996283855239406\n",
      "5 / 280\n",
      "[0.0818812] 9.996280896041402\n",
      "6 / 280\n",
      "[0.08188132] 9.996280781109695\n",
      "7 / 280\n",
      "[0.08187602] 9.996281466488083\n",
      "8 / 280\n",
      "[0.08187166] 9.996283836062767\n",
      "9 / 280\n",
      "[0.08186824] 9.99628049649982\n",
      "10 / 280\n",
      "[0.08185259] 9.99628122742368\n",
      "11 / 280\n",
      "[0.08184229] 9.996278292760515\n",
      "12 / 280\n",
      "[0.08184375] 9.9962872679154\n",
      "13 / 280\n",
      "[0.08185011] 9.996282311106809\n",
      "14 / 280\n",
      "[0.08185688] 9.996282232848417\n",
      "15 / 280\n",
      "[0.08187448] 9.99628608262862\n",
      "16 / 280\n",
      "[0.0818733] 9.996285608676523\n",
      "17 / 280\n",
      "[0.08187297] 9.996284865507036\n",
      "18 / 280\n",
      "[0.08186803] 9.996282915362116\n",
      "19 / 280\n",
      "[0.08185791] 9.996282562713075\n",
      "20 / 280\n",
      "[0.08185112] 9.996280282430336\n",
      "21 / 280\n",
      "[0.08186028] 9.996284879184568\n",
      "22 / 280\n",
      "[0.08187175] 9.99628085579499\n",
      "23 / 280\n",
      "[0.08186014] 9.996283020975962\n",
      "24 / 280\n",
      "[0.08186719] 9.996287090219038\n",
      "25 / 280\n",
      "[0.08187277] 9.996287771294499\n",
      "26 / 280\n",
      "[0.08186604] 9.996286295287511\n",
      "27 / 280\n",
      "[0.08187112] 9.99628571998517\n",
      "28 / 280\n",
      "[0.08187512] 9.996282222081781\n",
      "29 / 280\n",
      "[0.08188221] 9.996286036575956\n",
      "30 / 280\n",
      "[0.08186483] 9.996283785684005\n",
      "31 / 280\n",
      "[0.08187266] 9.996285135448183\n",
      "32 / 280\n",
      "[0.08187324] 9.996282538537606\n",
      "33 / 280\n",
      "[0.08188874] 9.996283534744427\n",
      "34 / 280\n",
      "[0.08188896] 9.99628661317381\n",
      "35 / 280\n",
      "[0.0818828] 9.996282623309314\n",
      "36 / 280\n",
      "[0.08188617] 9.996279438516304\n",
      "37 / 280\n",
      "[0.08188613] 9.996284976718998\n",
      "38 / 280\n",
      "[0.08187291] 9.996283149110333\n",
      "39 / 280\n",
      "[0.08188045] 9.996287143113223\n",
      "40 / 280\n",
      "[0.081876] 9.996282793572396\n",
      "41 / 280\n",
      "[0.0818867] 9.996286453276122\n",
      "42 / 280\n",
      "[0.0818874] 9.996281230905474\n",
      "43 / 280\n",
      "[0.08188329] 9.996281545328074\n",
      "44 / 280\n",
      "[0.08189233] 9.996287504481067\n",
      "45 / 280\n",
      "[0.08191878] 9.996284903912137\n",
      "46 / 280\n",
      "[0.08190562] 9.996281723633048\n",
      "47 / 280\n",
      "[0.08190662] 9.99628253468578\n",
      "48 / 280\n",
      "[0.08190671] 9.996283624141688\n",
      "49 / 280\n",
      "[0.08188348] 9.996282530522075\n",
      "50 / 280\n",
      "[0.08189417] 9.996288106279072\n",
      "51 / 280\n",
      "[0.08188794] 9.996287016605185\n",
      "52 / 280\n",
      "[0.08188155] 9.996286467334345\n",
      "53 / 280\n",
      "[0.08188264] 9.996287037133602\n",
      "54 / 280\n",
      "[0.08188203] 9.996281746141294\n",
      "55 / 280\n",
      "[0.08188924] 9.99628479204595\n",
      "56 / 280\n",
      "[0.08190317] 9.996283733985829\n",
      "57 / 280\n",
      "[0.0819012] 9.996283437989296\n",
      "58 / 280\n",
      "[0.08190243] 9.996285997370904\n",
      "59 / 280\n",
      "[0.08188907] 9.996280475513016\n",
      "60 / 280\n",
      "[0.08188828] 9.996286482294819\n",
      "61 / 280\n",
      "[0.08188144] 9.996282308815191\n",
      "62 / 280\n",
      "[0.08189047] 9.996281889186278\n",
      "63 / 280\n",
      "[0.08188251] 9.996288614980553\n",
      "64 / 280\n",
      "[0.08189575] 9.99628202845845\n",
      "65 / 280\n",
      "[0.08189531] 9.996285327881179\n",
      "66 / 280\n",
      "[0.08190254] 9.99628578450946\n",
      "67 / 280\n",
      "[0.0819144] 9.99628441424409\n",
      "68 / 280\n",
      "[0.08192446] 9.996287298602185\n",
      "69 / 280\n",
      "[0.08190726] 9.996286361261797\n",
      "70 / 280\n",
      "[0.08185406] 9.996283889755825\n",
      "71 / 280\n",
      "[0.0818728] 9.996285466722458\n",
      "72 / 280\n",
      "[0.08186624] 9.9962797364293\n",
      "73 / 280\n",
      "[0.08189195] 9.996278470350687\n",
      "74 / 280\n",
      "[0.08188707] 9.99628075181612\n",
      "75 / 280\n",
      "[0.08189508] 9.996278561974156\n",
      "76 / 280\n",
      "[0.0818909] 9.996278257511896\n",
      "77 / 280\n",
      "[0.08187893] 9.996276419968765\n",
      "78 / 280\n",
      "[0.08188869] 9.996278461415807\n",
      "79 / 280\n",
      "[0.08188584] 9.996284198064156\n",
      "80 / 280\n",
      "[0.08187654] 9.996278223771867\n",
      "81 / 280\n",
      "[0.0818905] 9.996281928049878\n",
      "82 / 280\n",
      "[0.08190597] 9.996277190372995\n",
      "83 / 280\n",
      "[0.08188704] 9.99627981955461\n",
      "84 / 280\n",
      "[0.08188002] 9.99628345393787\n",
      "85 / 280\n",
      "[0.08187844] 9.996282321060157\n",
      "86 / 280\n",
      "[0.08186647] 9.996283324130793\n",
      "87 / 280\n",
      "[0.08186399] 9.996278073635674\n",
      "88 / 280\n",
      "[0.08186168] 9.996280722334928\n",
      "89 / 280\n",
      "[0.08185956] 9.99628206506365\n",
      "90 / 280\n",
      "[0.08185517] 9.996281068141522\n",
      "91 / 280\n",
      "[0.08183971] 9.996282391301587\n",
      "92 / 280\n",
      "[0.0818585] 9.996278937849079\n",
      "93 / 280\n",
      "[0.08187357] 9.996279859195631\n",
      "94 / 280\n",
      "[0.0818791] 9.996278184784389\n",
      "95 / 280\n",
      "[0.08187249] 9.996281700172023\n",
      "96 / 280\n",
      "[0.08187275] 9.996276422304986\n",
      "97 / 280\n",
      "[0.0818696] 9.99628235263038\n",
      "98 / 280\n",
      "[0.08186263] 9.996277415121225\n",
      "99 / 280\n",
      "[0.0818892] 9.996279214313992\n",
      "100 / 280\n",
      "[0.08188124] 9.996280757358052\n",
      "101 / 280\n",
      "[0.08188345] 9.996282003686092\n",
      "102 / 280\n",
      "[0.08186667] 9.996277162074987\n",
      "103 / 280\n",
      "[0.08186445] 9.996283949786635\n",
      "104 / 280\n",
      "[0.08187875] 9.996278943243805\n",
      "105 / 280\n",
      "[0.08188867] 9.99628321408346\n",
      "106 / 280\n",
      "[0.081877] 9.99628011076282\n",
      "107 / 280\n",
      "[0.0818814] 9.996282821965925\n",
      "108 / 280\n",
      "[0.08188871] 9.99627947378619\n",
      "109 / 280\n",
      "[0.08187971] 9.996282234680718\n",
      "110 / 280\n",
      "[0.08189091] 9.996280407275231\n",
      "111 / 280\n",
      "[0.0818851] 9.996278264639365\n",
      "112 / 280\n",
      "[0.08185854] 9.996275522066641\n",
      "113 / 280\n",
      "[0.08185135] 9.996277331748626\n",
      "114 / 280\n",
      "[0.08185012] 9.996276085265144\n",
      "115 / 280\n",
      "[0.08184079] 9.996281192950867\n",
      "116 / 280\n",
      "[0.08184897] 9.996276248872299\n",
      "117 / 280\n",
      "[0.08182852] 9.996281603711738\n",
      "118 / 280\n",
      "[0.08184646] 9.996276293629808\n",
      "119 / 280\n",
      "[0.08183902] 9.996280916815556\n",
      "120 / 280\n",
      "[0.08184165] 9.99628237277278\n",
      "121 / 280\n",
      "[0.08183607] 9.996279098572995\n",
      "122 / 280\n",
      "[0.08183187] 9.996276133002116\n",
      "123 / 280\n",
      "[0.08183457] 9.996277820480206\n",
      "124 / 280\n",
      "[0.0818225] 9.99628004500853\n",
      "125 / 280\n",
      "[0.08184385] 9.996278847580474\n",
      "126 / 280\n",
      "[0.08182979] 9.99627825690224\n",
      "127 / 280\n",
      "[0.08182928] 9.99627818699056\n",
      "128 / 280\n",
      "[0.08184321] 9.996279195474942\n",
      "129 / 280\n",
      "[0.08184733] 9.996280408965342\n",
      "130 / 280\n",
      "[0.08184625] 9.996279509434252\n",
      "131 / 280\n",
      "[0.08185862] 9.996279837293486\n",
      "132 / 280\n",
      "[0.08185317] 9.996283340948718\n",
      "133 / 280\n",
      "[0.08186083] 9.99628320858802\n",
      "134 / 280\n",
      "[0.08186616] 9.996284751760436\n",
      "135 / 280\n",
      "[0.08186219] 9.996285361366846\n",
      "136 / 280\n",
      "[0.08186459] 9.996281798655227\n",
      "137 / 280\n",
      "[0.08186226] 9.99628020721691\n",
      "138 / 280\n",
      "[0.0818755] 9.996281210866414\n",
      "139 / 280\n",
      "[0.08186757] 9.996279518980337\n",
      "140 / 280\n",
      "[0.08186272] 9.996281076053299\n",
      "141 / 280\n",
      "[0.08184513] 9.996280640374321\n",
      "142 / 280\n",
      "[0.08184306] 9.996284621157873\n",
      "143 / 280\n",
      "[0.08185336] 9.996281952628399\n",
      "144 / 280\n",
      "[0.08184243] 9.996284089027673\n",
      "145 / 280\n",
      "[0.08185296] 9.99627999556821\n",
      "146 / 280\n",
      "[0.08185652] 9.996278837887449\n",
      "147 / 280\n",
      "[0.08185453] 9.996281892101157\n",
      "148 / 280\n",
      "[0.08184351] 9.996277040242049\n",
      "149 / 280\n",
      "[0.08185451] 9.99628170068427\n",
      "150 / 280\n",
      "[0.08184877] 9.996276995646395\n",
      "151 / 280\n",
      "[0.08184001] 9.9962842986577\n",
      "152 / 280\n",
      "[0.08182805] 9.996278798709415\n",
      "153 / 280\n",
      "[0.08184983] 9.996277863840573\n",
      "154 / 280\n",
      "[0.08184833] 9.996280937343705\n",
      "155 / 280\n",
      "[0.08186745] 9.99628051493799\n",
      "156 / 280\n",
      "[0.08186083] 9.996283894517536\n",
      "157 / 280\n",
      "[0.0818686] 9.996281967184345\n",
      "158 / 280\n",
      "[0.08185006] 9.996283967702656\n",
      "159 / 280\n",
      "[0.08186204] 9.996279126556052\n",
      "160 / 280\n",
      "[0.08184428] 9.996279163145\n",
      "161 / 280\n",
      "[0.08183594] 9.996281178656973\n",
      "162 / 280\n",
      "[0.08183232] 9.996277509907786\n",
      "163 / 280\n",
      "[0.0818416] 9.996280080618448\n",
      "164 / 280\n",
      "[0.08183505] 9.996282275406115\n",
      "165 / 280\n",
      "[0.08182993] 9.99627944335011\n",
      "166 / 280\n",
      "[0.08184753] 9.996281867418553\n",
      "167 / 280\n",
      "[0.08184877] 9.996280614515376\n",
      "168 / 280\n",
      "[0.08185021] 9.996281634592233\n",
      "169 / 280\n",
      "[0.08184074] 9.996279459159103\n",
      "170 / 280\n",
      "[0.08184065] 9.996284246273515\n",
      "171 / 280\n",
      "[0.08183942] 9.996279115761428\n",
      "172 / 280\n",
      "[0.08183161] 9.996280783389523\n",
      "173 / 280\n",
      "[0.08186342] 9.996281277085236\n",
      "174 / 280\n",
      "[0.08186376] 9.996281631802006\n",
      "175 / 280\n",
      "[0.08186316] 9.996284225875407\n",
      "176 / 280\n",
      "[0.08186106] 9.996282535824601\n",
      "177 / 280\n",
      "[0.08185157] 9.99628294071157\n",
      "178 / 280\n",
      "[0.08185173] 9.996281829640909\n",
      "179 / 280\n",
      "[0.08184909] 9.99628472451769\n",
      "180 / 280\n",
      "[0.08186834] 9.996281811162593\n",
      "181 / 280\n",
      "[0.08187584] 9.996284439304038\n",
      "182 / 280\n",
      "[0.08187814] 9.996277840266469\n",
      "183 / 280\n",
      "[0.0818905] 9.996282905698973\n",
      "184 / 280\n",
      "[0.08190005] 9.99628044568612\n",
      "185 / 280\n",
      "[0.0818919] 9.996278489075594\n",
      "186 / 280\n",
      "[0.0819019] 9.99627831750381\n",
      "187 / 280\n",
      "[0.08189927] 9.996280136045467\n",
      "188 / 280\n",
      "[0.08189556] 9.996286568396329\n",
      "189 / 280\n",
      "[0.0819039] 9.996285086618485\n",
      "190 / 280\n",
      "[0.08189864] 9.996281394994819\n",
      "191 / 280\n",
      "[0.08189515] 9.996282614089418\n",
      "192 / 280\n",
      "[0.08188833] 9.996281790957944\n",
      "193 / 280\n",
      "[0.08188502] 9.996279391796365\n",
      "194 / 280\n",
      "[0.08187351] 9.996280582360587\n",
      "195 / 280\n",
      "[0.08186911] 9.996281615228732\n",
      "196 / 280\n",
      "[0.08186632] 9.996278692549364\n",
      "197 / 280\n",
      "[0.08189046] 9.996278529577713\n",
      "198 / 280\n",
      "[0.08189275] 9.996284897701738\n",
      "199 / 280\n",
      "[0.08189091] 9.996280820477043\n",
      "200 / 280\n",
      "[0.08190257] 9.99627995658258\n",
      "201 / 280\n",
      "[0.08192002] 9.996285484383979\n",
      "202 / 280\n",
      "[0.08192167] 9.99628248265089\n",
      "203 / 280\n",
      "[0.08191134] 9.996281572805989\n",
      "204 / 280\n",
      "[0.08190602] 9.99627972168721\n",
      "205 / 280\n",
      "[0.0819037] 9.996285364134158\n",
      "206 / 280\n",
      "[0.0819198] 9.996282926699658\n",
      "207 / 280\n",
      "[0.08191724] 9.996286803289863\n",
      "208 / 280\n",
      "[0.08191292] 9.996282726737947\n",
      "209 / 280\n",
      "[0.08190771] 9.99627836823018\n",
      "210 / 280\n",
      "[0.08189533] 9.996286220251093\n",
      "211 / 280\n",
      "[0.08189578] 9.996282530728573\n",
      "212 / 280\n",
      "[0.08189087] 9.996279481465574\n",
      "213 / 280\n",
      "[0.0818991] 9.996283213603508\n"
     ]
    },
    {
     "name": "stdout",
     "output_type": "stream",
     "text": [
      "214 / 280\n",
      "[0.08190371] 9.996283979268693\n",
      "215 / 280\n",
      "[0.08190964] 9.996278217408733\n",
      "216 / 280\n",
      "[0.08190812] 9.996281835959412\n",
      "217 / 280\n",
      "[0.08189192] 9.996278896802057\n",
      "218 / 280\n",
      "[0.08189368] 9.996275926505898\n",
      "219 / 280\n",
      "[0.08190671] 9.996279128442351\n",
      "220 / 280\n",
      "[0.08179691] 9.99627468897426\n",
      "221 / 280\n",
      "[0.08182042] 9.99627516703645\n",
      "222 / 280\n",
      "[0.08180523] 9.99627521228304\n",
      "223 / 280\n",
      "[0.08181146] 9.99627824130788\n",
      "224 / 280\n",
      "[0.08183009] 9.996278267050043\n",
      "225 / 280\n",
      "[0.08180829] 9.996275926682001\n",
      "226 / 280\n",
      "[0.08182235] 9.996279022607434\n",
      "227 / 280\n",
      "[0.08182145] 9.996281920292775\n",
      "228 / 280\n",
      "[0.08182219] 9.99628283021442\n",
      "229 / 280\n",
      "[0.08184658] 9.996279959458805\n",
      "230 / 280\n",
      "[0.08186107] 9.996278940572699\n",
      "231 / 280\n",
      "[0.08185479] 9.996280217483479\n",
      "232 / 280\n",
      "[0.0818335] 9.996273964556677\n",
      "233 / 280\n",
      "[0.08184075] 9.99627808392072\n",
      "234 / 280\n",
      "[0.08184671] 9.996280048447549\n",
      "235 / 280\n",
      "[0.0818646] 9.996273892287004\n",
      "236 / 280\n",
      "[0.08186131] 9.99627225841259\n",
      "237 / 280\n",
      "[0.08186464] 9.996274749993654\n",
      "238 / 280\n",
      "[0.08185296] 9.996279345600184\n",
      "239 / 280\n",
      "[0.08185821] 9.996275024169892\n",
      "240 / 280\n",
      "[0.08184855] 9.996278502224236\n",
      "241 / 280\n",
      "[0.08185507] 9.996278979672544\n",
      "242 / 280\n",
      "[0.08185201] 9.99627740106271\n",
      "243 / 280\n",
      "[0.08184273] 9.996273789864007\n",
      "244 / 280\n",
      "[0.08184783] 9.996277740388383\n",
      "245 / 280\n",
      "[0.08183736] 9.996277814276638\n",
      "246 / 280\n",
      "[0.08185538] 9.996274428621367\n",
      "247 / 280\n",
      "[0.08187408] 9.996277465000135\n",
      "248 / 280\n",
      "[0.08187479] 9.996275548483137\n",
      "249 / 280\n",
      "[0.0818737] 9.996280115409455\n",
      "250 / 280\n",
      "[0.08187215] 9.996275690155784\n",
      "251 / 280\n",
      "[0.08186184] 9.996277456386446\n",
      "252 / 280\n",
      "[0.08186483] 9.996277028520074\n",
      "253 / 280\n",
      "[0.08186359] 9.996281525713078\n",
      "254 / 280\n",
      "[0.08186574] 9.996277598696485\n",
      "255 / 280\n",
      "[0.081838] 9.9962785358373\n",
      "256 / 280\n",
      "[0.08183818] 9.996278388411172\n",
      "257 / 280\n",
      "[0.08184993] 9.996276924626589\n",
      "258 / 280\n",
      "[0.08186144] 9.996278493655483\n",
      "259 / 280\n",
      "[0.08185618] 9.996281192552745\n",
      "260 / 280\n",
      "[0.08184723] 9.996277974201911\n",
      "261 / 280\n",
      "[0.08185695] 9.996278050669703\n",
      "262 / 280\n",
      "[0.08186443] 9.996278182260577\n",
      "263 / 280\n",
      "[0.08186284] 9.996276873713445\n",
      "264 / 280\n",
      "[0.08186013] 9.996278643832389\n",
      "265 / 280\n",
      "[0.08185132] 9.996277366304751\n",
      "266 / 280\n",
      "[0.08187603] 9.996277750538454\n",
      "267 / 280\n",
      "[0.08187941] 9.996281937861209\n",
      "268 / 280\n",
      "[0.08187157] 9.996277202155476\n",
      "269 / 280\n",
      "[0.08186321] 9.996275984648001\n",
      "270 / 280\n",
      "[0.08187628] 9.996276694342674\n",
      "271 / 280\n",
      "[0.08186575] 9.996280366210808\n",
      "272 / 280\n",
      "[0.08188236] 9.996279312544445\n",
      "273 / 280\n",
      "[0.08188218] 9.996274660395137\n",
      "274 / 280\n",
      "[0.08187709] 9.996278288571066\n",
      "275 / 280\n",
      "[0.08186483] 9.99627751198287\n",
      "276 / 280\n",
      "[0.08186659] 9.996281648139638\n",
      "277 / 280\n",
      "[0.08186921] 9.996281464063857\n",
      "278 / 280\n",
      "[0.08186196] 9.996283003370182\n",
      "279 / 280\n",
      "[0.08187315] 9.996282495738035\n"
     ]
    }
   ],
   "source": [
    "dischargeAmps = []\n",
    "for i in range(len(step_cal_files)):\n",
    "    print(i,'/',len(step_cal_files))\n",
    "    dischargeAmps.append(get_scale(i))"
   ]
  },
  {
   "cell_type": "code",
   "execution_count": 5,
   "metadata": {},
   "outputs": [
    {
     "name": "stdout",
     "output_type": "stream",
     "text": [
      "Scale is  -3.542952205750171e-05\n",
      "voltage:  9.996282495738035\n"
     ]
    }
   ],
   "source": [
    "scaleX = np.abs(np.mean(dischargeAmps[180:200]))\n",
    "scaleY = scaleX*-1.0502 # from discharge values in x and y\n",
    "print(\"Scale is \", scaleY)\n",
    "dischargeVoltage = np.std(step_cal_files[-1].electrode_data[0])*np.sqrt(2)\n",
    "print(\"voltage: \", dischargeVoltage)"
   ]
  },
  {
   "cell_type": "code",
   "execution_count": 6,
   "metadata": {},
   "outputs": [
    {
     "data": {
      "image/png": "[encoded data removed]",
      "text/plain": [
       "<Figure size 1152x864 with 1 Axes>"
      ]
     },
     "metadata": {
      "needs_background": "light"
     },
     "output_type": "display_data"
    }
   ],
   "source": [
    "# amps = np.array(amps)\n",
    "dischargeAmpArr = np.array(dischargeAmps)\n",
    "_,ax = plt.subplots(figsize=(16,12))\n",
    "# scale = 326.26\n",
    "\n",
    "# Perrinf\n",
    "ax.scatter(range(len(dischargeAmpArr)), dischargeAmpArr/scaleX, label='fit phase')\n",
    "# ax.scatter(range(len(amps3)), amps3/scale, label='fit fixed-phases')\n",
    "\n",
    "ax.set(xlabel='dataset', ylabel='Electron charges', ylim=(-1.2,6.5), xlim=(160,None))\n",
    "ax.grid(axis='y')\n",
    "ax.minorticks_on()\n",
    "ax.grid(which='major', linestyle='-', linewidth='0.5', color='red')\n",
    "ax.grid(which='minor', linestyle=':', linewidth='0.5', color='black')\n",
    "# ax.legend()\n",
    "ax.yaxis.set_major_locator(MaxNLocator(integer=True))"
   ]
  },
  {
   "cell_type": "code",
   "execution_count": 7,
   "metadata": {},
   "outputs": [],
   "source": [
    "\n",
    "def get_response_at_first(i,folder):\n",
    "    phaseCalib1 = -0.0563 # where from?\n",
    "    # phase_calib = -0.0442\n",
    "    drive_freq1=71\n",
    "    fname = folder + 'Discharge_'+str(i)+'.h5'\n",
    "    if(i==1):print(fname)\n",
    "    neutralityFile = BeadDataFile.BeadDataFile(fname=fname)\n",
    "    fit_kwargs = {'A': 0, 'f': drive_freq1, 'phi': phaseCalib1, \n",
    "                  'error_A': 1, 'error_f': 1, 'error_phi': 0.5, 'errordef': 1,\n",
    "                  'limit_phi': [-2 * np.pi, 2 * np.pi], \n",
    "                  'limit_A': [-1, 1], \n",
    "                  'print_level': 0, 'fix_f': True, 'fix_phi': True}\n",
    "    \n",
    "    b, a = signal.butter(3, [2.*(drive_freq1-bandwidth/2.)/fsamp, 2.*(drive_freq1+bandwidth/2.)/fsamp ], btype = 'bandpass')\n",
    "    xx2 = signal.filtfilt(b, a, neutralityFile.y2)[::decimate]\n",
    "    \n",
    "    m1_tmp = ll.find_mle_sin(xx2, fsamp=5000/decimate, noise_rms=1, plot=False, suppress_print=True, **fit_kwargs)\n",
    "    \n",
    "    return m1_tmp.values[0]"
   ]
  },
  {
   "cell_type": "code",
   "execution_count": 8,
   "metadata": {},
   "outputs": [],
   "source": [
    "def get_response_at_second(i,folder):\n",
    "    phaseCalib2 = -0.0563+np.pi/2 # where from?\n",
    "    # phase_calib = -0.0442\n",
    "    drive_freq2=71*2\n",
    "    fname = folder + 'Discharge_'+str(i)+'.h5'\n",
    "    if(i==1):print(fname)\n",
    "    neutralityFile = BeadDataFile.BeadDataFile(fname=fname)\n",
    "    fit_kwargs = {'A': 0, 'f': drive_freq2, 'phi': phaseCalib2, \n",
    "                  'error_A': 1, 'error_f': 1, 'error_phi': 0.5, 'errordef': 1,\n",
    "                  'limit_phi': [-2 * np.pi, 2 * np.pi], \n",
    "                  'limit_A': [-1, 1], \n",
    "                  'print_level': 0, 'fix_f': True, 'fix_phi': True}\n",
    "    \n",
    "    b, a = signal.butter(3, [2.*(drive_freq2-bandwidth/2.)/fsamp, 2.*(drive_freq2+bandwidth/2.)/fsamp ], btype = 'bandpass')\n",
    "    xx2 = signal.filtfilt(b, a, neutralityFile.y2)[::decimate]\n",
    "    \n",
    "    m1_tmp = ll.find_mle_sin(xx2, fsamp=5000/decimate, noise_rms=1, plot=False, suppress_print=True, **fit_kwargs)\n",
    "    \n",
    "    return m1_tmp.values[0]"
   ]
  },
  {
   "cell_type": "code",
   "execution_count": 9,
   "metadata": {},
   "outputs": [],
   "source": [
    "def get_voltage(folder):    \n",
    "    i=0\n",
    "    trekConvFactor = 200\n",
    "    fname = folder + 'Discharge_'+str(i)+'.h5'\n",
    "    neutralityFile = BeadDataFile.BeadDataFile(fname=fname)\n",
    "    voltage0= np.std(neutralityFile.electrode_data[0])*np.sqrt(2)*trekConvFactor\n",
    "    voltage1= np.std(neutralityFile.electrode_data[1])*np.sqrt(2)*trekConvFactor\n",
    "    bias = np.mean(neutralityFile.electrode_data[0])*200\n",
    "    print(\"voltages, bias: \", voltage0, voltage1, bias)\n",
    "    appliedVoltage=voltage0\n",
    "    return appliedVoltage"
   ]
  },
  {
   "cell_type": "code",
   "execution_count": 10,
   "metadata": {},
   "outputs": [],
   "source": [
    "def compare_millicharge(folders,printValues=True,extendedData=False,fileNo=1000):\n",
    "    dataDiffList = []\n",
    "    \n",
    "    for folder in folders:\n",
    "        appliedVoltage=get_voltage(folder)\n",
    "        ampsNeutralityData0 = np.array(Parallel(n_jobs=24)(delayed(get_response_at_first)(i,folder) for i in tqdm(range(fileNo))))\n",
    "        data0 = ampsNeutralityData0/scaleY*dischargeVoltage/appliedVoltage\n",
    "        data0Plus=data0[::2]\n",
    "        data0Minus=data0[1::2]\n",
    "\n",
    "        data0PlusMean=np.mean(data0Plus)\n",
    "        data0MinusMean=np.mean(data0Minus)\n",
    "        data0PlusStd= np.std(data0Plus)/np.sqrt(len(data0Plus))\n",
    "        data0MinusStd=np.std(data0Minus)/np.sqrt(len(data0Minus))\n",
    "\n",
    "        data0Diff=np.mean(data0Minus)*0.85+np.mean(data0Plus)\n",
    "    \n",
    "        if(printValues==True):\n",
    "            print(folder)\n",
    "            print('mean+: ',data0PlusMean , 'std: ',data0PlusStd)\n",
    "            print('mean-: ',data0MinusMean , 'std: ',data0MinusStd )\n",
    "            print(\"A:\",data0Diff)\n",
    "            print(r\"A/$\\Delta_\\epsilon$ (+,-):\", data0Diff/data0PlusStd, data0Diff/data0MinusStd)            \n",
    "        dataDiffList.append([data0Diff,data0Diff/data0PlusStd,data0Diff/data0MinusStd])\n",
    "        \n",
    "    return dataDiffList"
   ]
  },
  {
   "cell_type": "code",
   "execution_count": 12,
   "metadata": {},
   "outputs": [
    {
     "name": "stderr",
     "output_type": "stream",
     "text": [
      " 10%|▉         | 96/1000 [00:00<00:01, 862.88it/s]"
     ]
    },
    {
     "name": "stdout",
     "output_type": "stream",
     "text": [
      "voltages, bias:  50.02201000314799 0.3538327998096452 0.38185540401167445\n"
     ]
    },
    {
     "name": "stderr",
     "output_type": "stream",
     "text": [
      "100%|██████████| 1000/1000 [00:01<00:00, 923.33it/s]\n",
      " 10%|▉         | 96/1000 [00:00<00:01, 763.07it/s]"
     ]
    },
    {
     "name": "stdout",
     "output_type": "stream",
     "text": [
      "/data/new_trap/20210622/bead1/Neutrality2/Y_alternate_50V_71Hz_height_4_spin_46kHz_files_1000/\n",
      "mean+:  -0.001034571408652779 std:  0.0007797865481046505\n",
      "mean-:  0.003405132601237706 std:  0.0007988534203594488\n",
      "A: 0.001859791302399271\n",
      "A/$\\Delta_\\epsilon$ (+,-): 2.385000493942452 2.3280757833676757\n",
      "voltages, bias:  50.022316290575276 0.3539477734854469 0.38207123280406513\n"
     ]
    },
    {
     "name": "stderr",
     "output_type": "stream",
     "text": [
      "100%|██████████| 1000/1000 [00:01<00:00, 910.25it/s]\n",
      " 10%|▉         | 96/1000 [00:00<00:00, 958.02it/s]"
     ]
    },
    {
     "name": "stdout",
     "output_type": "stream",
     "text": [
      "/data/new_trap/20210622/bead1/Neutrality2/Y_alternate_50V_71Hz_height_4_spin_46kHz_files_1000_2/\n",
      "mean+:  -0.0023955980365219427 std:  0.0007602911737286279\n",
      "mean-:  0.0029029993399764314 std:  0.0008205549931756226\n",
      "A: 7.195140245802416e-05\n",
      "A/$\\Delta_\\epsilon$ (+,-): 0.09463664046651935 0.08768626485296942\n",
      "voltages, bias:  50.022235919477 0.35395503150155033 0.38130549094096433\n"
     ]
    },
    {
     "name": "stderr",
     "output_type": "stream",
     "text": [
      "100%|██████████| 1000/1000 [00:01<00:00, 733.37it/s]\n"
     ]
    },
    {
     "name": "stdout",
     "output_type": "stream",
     "text": [
      "/data/new_trap/20210622/bead1/Neutrality2/Y_alternate_50V_71Hz_height_-1_spin_46kHz_files_1000/\n",
      "mean+:  -0.0024106673352310396 std:  0.0007490136519744011\n",
      "mean-:  0.003572801442850131 std:  0.0007991690440318249\n",
      "A: 0.000626213891191572\n",
      "A/$\\Delta_\\epsilon$ (+,-): 0.8360513717485272 0.7835812659012785\n"
     ]
    }
   ],
   "source": [
    "folder1 = r'/data/new_trap/20210622/bead1/Neutrality2/Y_alternate_50V_71Hz_height_4_spin_46kHz_files_1000/'\n",
    "folder2 = r'/data/new_trap/20210622/bead1/Neutrality2/Y_alternate_50V_71Hz_height_4_spin_46kHz_files_1000_2/'\n",
    "folder3 = r'/data/new_trap/20210622/bead1/Neutrality2/Y_alternate_50V_71Hz_height_-1_spin_46kHz_files_1000/'\n",
    "\n",
    "heightRepFolder=[folder1,folder2,folder3]\n",
    "resultsHeightRep = compare_millicharge(heightRepFolder)\n"
   ]
  },
  {
   "cell_type": "code",
   "execution_count": 13,
   "metadata": {},
   "outputs": [
    {
     "name": "stderr",
     "output_type": "stream",
     "text": [
      " 10%|▉         | 96/1000 [00:00<00:01, 775.24it/s]"
     ]
    },
    {
     "name": "stdout",
     "output_type": "stream",
     "text": [
      "voltages, bias:  50.02201000314799 0.3538327998096452 0.38185540401167445\n"
     ]
    },
    {
     "name": "stderr",
     "output_type": "stream",
     "text": [
      "100%|██████████| 1000/1000 [00:01<00:00, 877.21it/s]\n",
      " 10%|▉         | 96/1000 [00:00<00:01, 736.57it/s]"
     ]
    },
    {
     "name": "stdout",
     "output_type": "stream",
     "text": [
      "/data/new_trap/20210622/bead1/Neutrality2/Y_alternate_50V_71Hz_height_4_spin_46kHz_files_1000/\n",
      "mean+:  -0.001034571408652779 std:  0.0007797865481046505\n",
      "mean-:  0.003405132601237706 std:  0.0007988534203594488\n",
      "A: 0.001859791302399271\n",
      "A/$\\Delta_\\epsilon$ (+,-): 2.385000493942452 2.3280757833676757\n",
      "voltages, bias:  100.0237408198613 0.354111535498017 0.3880918047778578\n"
     ]
    },
    {
     "name": "stderr",
     "output_type": "stream",
     "text": [
      "100%|██████████| 1000/1000 [00:01<00:00, 889.85it/s]\n"
     ]
    },
    {
     "name": "stdout",
     "output_type": "stream",
     "text": [
      "/data/new_trap/20210622/bead1/Neutrality2/Y_alternate_100V_71Hz_height_4_spin_46kHz_files_1000/\n",
      "mean+:  -0.002513184964511416 std:  0.00039320792125103256\n",
      "mean-:  0.0036935110660316203 std:  0.00040889170692022503\n",
      "A: 0.0006262994416154611\n",
      "A/$\\Delta_\\epsilon$ (+,-): 1.5927945694044596 1.5317000345464389\n"
     ]
    }
   ],
   "source": [
    "folder1 = r'/data/new_trap/20210622/bead1/Neutrality2/Y_alternate_50V_71Hz_height_4_spin_46kHz_files_1000/'\n",
    "folder2 = r'/data/new_trap/20210622/bead1/Neutrality2/Y_alternate_100V_71Hz_height_4_spin_46kHz_files_1000/'\n",
    "\n",
    "comp50V100VFolder=[folder1,folder2]\n",
    "results50V100V = compare_millicharge(comp50V100VFolder)\n"
   ]
  },
  {
   "cell_type": "code",
   "execution_count": 15,
   "metadata": {},
   "outputs": [
    {
     "name": "stderr",
     "output_type": "stream",
     "text": [
      "  5%|▍         | 96/2000 [00:00<00:02, 720.36it/s]"
     ]
    },
    {
     "name": "stdout",
     "output_type": "stream",
     "text": [
      "voltages, bias:  20.017053026058893 0.353947973963061 0.37772059261273727\n"
     ]
    },
    {
     "name": "stderr",
     "output_type": "stream",
     "text": [
      "100%|██████████| 2000/2000 [00:02<00:00, 767.31it/s]\n",
      "  5%|▍         | 96/2000 [00:00<00:02, 767.95it/s]"
     ]
    },
    {
     "name": "stdout",
     "output_type": "stream",
     "text": [
      "/data/new_trap/20210622/bead1/Neutrality2/Y_alternate_20V_71Hz_height_0_spin_46kHz_files_5000/\n",
      "mean+:  -0.004124952400124775 std:  0.0013203987786425044\n",
      "mean-:  0.0042990418754278855 std:  0.0013237919060973208\n",
      "A: -0.0004707668060110722\n",
      "A/$\\Delta_\\epsilon$ (+,-): -0.35653380904749493 -0.3556199458863159\n",
      "voltages, bias:  150.03945536820794 0.3540403000511779 0.3897744082685093\n"
     ]
    },
    {
     "name": "stderr",
     "output_type": "stream",
     "text": [
      "100%|██████████| 2000/2000 [00:02<00:00, 679.84it/s]\n",
      "  5%|▍         | 96/2000 [00:00<00:02, 701.70it/s]"
     ]
    },
    {
     "name": "stdout",
     "output_type": "stream",
     "text": [
      "/data/new_trap/20210622/bead1/Neutrality2/Y_alternate_150V_71Hz_height_0_spin_46kHz_files_1000/\n",
      "mean+:  -0.002202562376275653 std:  0.00020478466035280565\n",
      "mean-:  0.0030539776574791664 std:  0.00022162515325316673\n",
      "A: 0.00039331863258163825\n",
      "A/$\\Delta_\\epsilon$ (+,-): 1.9206449931553655 1.774702134700129\n",
      "voltages, bias:  200.04697042209622 0.354010050178249 0.3771732010445046\n"
     ]
    },
    {
     "name": "stderr",
     "output_type": "stream",
     "text": [
      "100%|██████████| 2000/2000 [00:02<00:00, 751.06it/s]\n"
     ]
    },
    {
     "name": "stdout",
     "output_type": "stream",
     "text": [
      "/data/new_trap/20210622/bead1/Neutrality2/Y_alternate_200V_71Hz_height_0_spin_46kHz_files_5000/\n",
      "mean+:  -0.001877793363647357 std:  0.00016329472293716532\n",
      "mean-:  -6.457886181738967e-05 std:  0.00012178003272128753\n",
      "A: -0.0019326853961921383\n",
      "A/$\\Delta_\\epsilon$ (+,-): -11.83556554326512 -15.87029788877942\n"
     ]
    }
   ],
   "source": [
    "folder1 = r'/data/new_trap/20210622/bead1/Neutrality2/Y_alternate_20V_71Hz_height_0_spin_46kHz_files_5000/'\n",
    "folder2 = r'/data/new_trap/20210622/bead1/Neutrality2/Y_alternate_150V_71Hz_height_0_spin_46kHz_files_1000/'\n",
    "folder3 = r'/data/new_trap/20210622/bead1/Neutrality2/Y_alternate_200V_71Hz_height_0_spin_46kHz_files_5000/'\n",
    "\n",
    "longMeasFolder=[folder1,folder2,folder3]\n",
    "resultsLong = compare_millicharge(longMeasFolder,fileNo=2000)"
   ]
  },
  {
   "cell_type": "code",
   "execution_count": 16,
   "metadata": {},
   "outputs": [
    {
     "name": "stderr",
     "output_type": "stream",
     "text": [
      "  3%|▎         | 144/5000 [00:00<00:06, 770.83it/s]"
     ]
    },
    {
     "name": "stdout",
     "output_type": "stream",
     "text": [
      "voltages, bias:  150.03945536820794 0.3540403000511779 0.3897744082685093\n"
     ]
    },
    {
     "name": "stderr",
     "output_type": "stream",
     "text": [
      "100%|██████████| 5000/5000 [00:07<00:00, 635.48it/s]\n",
      "  2%|▏         | 96/5000 [00:00<00:06, 704.20it/s]"
     ]
    },
    {
     "name": "stdout",
     "output_type": "stream",
     "text": [
      "/data/new_trap/20210622/bead1/Neutrality2/Y_alternate_150V_71Hz_height_0_spin_46kHz_files_1000/\n",
      "mean+:  -0.0022766359258797886 std:  0.00012483423507040625\n",
      "mean-:  0.003382171129189598 std:  0.0001384658068600886\n",
      "A: 0.0005982095339313698\n",
      "A/$\\Delta_\\epsilon$ (+,-): 4.792031077003683 4.320269007176801\n",
      "voltages, bias:  20.017053026058893 0.353947973963061 0.37772059261273727\n"
     ]
    },
    {
     "name": "stderr",
     "output_type": "stream",
     "text": [
      "100%|██████████| 5000/5000 [00:07<00:00, 660.44it/s]\n"
     ]
    },
    {
     "name": "stdout",
     "output_type": "stream",
     "text": [
      "/data/new_trap/20210622/bead1/Neutrality2/Y_alternate_20V_71Hz_height_0_spin_46kHz_files_5000/\n",
      "mean+:  -0.002866793727406291 std:  0.0008095571155381143\n",
      "mean-:  0.002858968643930856 std:  0.0008021009135656583\n",
      "A: -0.0004366703800650633\n",
      "A/$\\Delta_\\epsilon$ (+,-): -0.5393941597002796 -0.5444082816511072\n"
     ]
    }
   ],
   "source": [
    "folder1 = r'/data/new_trap/20210622/bead1/Neutrality2/Y_alternate_150V_71Hz_height_0_spin_46kHz_files_1000/'\n",
    "folder2 = r'/data/new_trap/20210622/bead1/Neutrality2/Y_alternate_20V_71Hz_height_0_spin_46kHz_files_5000/'\n",
    "\n",
    "longMeasFolder=[folder1,folder2]\n",
    "resultsLong = compare_millicharge(longMeasFolder,fileNo=5000)"
   ]
  },
  {
   "cell_type": "markdown",
   "metadata": {},
   "source": [
    "## Now do the analysis - 2f"
   ]
  },
  {
   "cell_type": "code",
   "execution_count": 17,
   "metadata": {},
   "outputs": [],
   "source": [
    "def compare_millicharge(folders,printValues=True,extendedData=False,fileNo=1000):\n",
    "    dataDiffList = []\n",
    "    \n",
    "    for folder in folders:\n",
    "        appliedVoltage=get_voltage(folder)\n",
    "        ampsNeutralityData0 = np.array(Parallel(n_jobs=24)(delayed(get_response_at_second)(i,folder) for i in tqdm(range(fileNo))))\n",
    "        data0 = ampsNeutralityData0/scaleY*dischargeVoltage/appliedVoltage\n",
    "        data0Plus=data0[::2]\n",
    "        data0Minus=data0[1::2]\n",
    "\n",
    "        data0PlusMean=np.mean(data0Plus)\n",
    "        data0MinusMean=np.mean(data0Minus)\n",
    "        data0PlusStd= np.std(data0Plus)/np.sqrt(len(data0Plus))\n",
    "        data0MinusStd=np.std(data0Minus)/np.sqrt(len(data0Minus))\n",
    "\n",
    "        data0Diff=np.mean(data0Minus)*0.85+np.mean(data0Plus)\n",
    "    \n",
    "        if(printValues==True):\n",
    "            print(folder)\n",
    "            print('mean+: ',data0PlusMean , 'std: ',data0PlusStd)\n",
    "            print('mean-: ',data0MinusMean , 'std: ',data0MinusStd )\n",
    "            print(\"A:\",data0Diff)\n",
    "            print(r\"A/$\\Delta_\\epsilon$ (+,-):\", data0Diff/data0PlusStd, data0Diff/data0MinusStd)            \n",
    "        dataDiffList.append([data0Diff,data0Diff/data0PlusStd,data0Diff/data0MinusStd])\n",
    "        \n",
    "    return dataDiffList"
   ]
  },
  {
   "cell_type": "markdown",
   "metadata": {},
   "source": [
    "### Height reproducibility"
   ]
  },
  {
   "cell_type": "code",
   "execution_count": 18,
   "metadata": {},
   "outputs": [
    {
     "name": "stderr",
     "output_type": "stream",
     "text": [
      " 10%|▉         | 96/1000 [00:00<00:01, 742.81it/s]"
     ]
    },
    {
     "name": "stdout",
     "output_type": "stream",
     "text": [
      "voltages, bias:  50.02201000314799 0.3538327998096452 0.38185540401167445\n"
     ]
    },
    {
     "name": "stderr",
     "output_type": "stream",
     "text": [
      "100%|██████████| 1000/1000 [00:01<00:00, 733.50it/s]\n",
      "  0%|          | 0/1000 [00:00<?, ?it/s]"
     ]
    },
    {
     "name": "stdout",
     "output_type": "stream",
     "text": [
      "/data/new_trap/20210622/bead1/Neutrality2/Y_alternate_50V_71Hz_height_4_spin_46kHz_files_1000/\n",
      "mean+:  -0.0031491632284615947 std:  0.0007098249417567328\n",
      "mean-:  0.007984997977450344 std:  0.0007559989979713876\n",
      "A: 0.0036380850523711973\n",
      "A/$\\Delta_\\epsilon$ (+,-): 5.125327159351948 4.812288193679442\n",
      "voltages, bias:  50.022316290575276 0.3539477734854469 0.38207123280406513\n"
     ]
    },
    {
     "name": "stderr",
     "output_type": "stream",
     "text": [
      "100%|██████████| 1000/1000 [00:01<00:00, 754.07it/s]\n",
      " 10%|▉         | 96/1000 [00:00<00:01, 832.80it/s]"
     ]
    },
    {
     "name": "stdout",
     "output_type": "stream",
     "text": [
      "/data/new_trap/20210622/bead1/Neutrality2/Y_alternate_50V_71Hz_height_4_spin_46kHz_files_1000_2/\n",
      "mean+:  -0.00422541633957083 std:  0.0007444978622448842\n",
      "mean-:  0.008256798637656037 std:  0.000705012587507596\n",
      "A: 0.0027928625024368006\n",
      "A/$\\Delta_\\epsilon$ (+,-): 3.7513371684043295 3.961436365711285\n",
      "voltages, bias:  50.022235919477 0.35395503150155033 0.38130549094096433\n"
     ]
    },
    {
     "name": "stderr",
     "output_type": "stream",
     "text": [
      "100%|██████████| 1000/1000 [00:01<00:00, 738.64it/s]\n"
     ]
    },
    {
     "name": "stdout",
     "output_type": "stream",
     "text": [
      "/data/new_trap/20210622/bead1/Neutrality2/Y_alternate_50V_71Hz_height_-1_spin_46kHz_files_1000/\n",
      "mean+:  -0.005407245661295305 std:  0.0006867683778290981\n",
      "mean-:  0.009298574134140843 std:  0.0007039950890015342\n",
      "A: 0.0024965423527244113\n",
      "A/$\\Delta_\\epsilon$ (+,-): 3.63520283303678 3.546249670953274\n"
     ]
    }
   ],
   "source": [
    "folder1 = r'/data/new_trap/20210622/bead1/Neutrality2/Y_alternate_50V_71Hz_height_4_spin_46kHz_files_1000/'\n",
    "folder2 = r'/data/new_trap/20210622/bead1/Neutrality2/Y_alternate_50V_71Hz_height_4_spin_46kHz_files_1000_2/'\n",
    "folder3 = r'/data/new_trap/20210622/bead1/Neutrality2/Y_alternate_50V_71Hz_height_-1_spin_46kHz_files_1000/'\n",
    "\n",
    "heightRepFolder=[folder1,folder2,folder3]\n",
    "resultsHeightRep = compare_millicharge(heightRepFolder)\n"
   ]
  },
  {
   "cell_type": "markdown",
   "metadata": {},
   "source": [
    "### 100V vs 50V at height = 4"
   ]
  },
  {
   "cell_type": "code",
   "execution_count": 19,
   "metadata": {},
   "outputs": [
    {
     "name": "stderr",
     "output_type": "stream",
     "text": [
      " 10%|▉         | 96/1000 [00:00<00:00, 959.07it/s]"
     ]
    },
    {
     "name": "stdout",
     "output_type": "stream",
     "text": [
      "voltages, bias:  50.02201000314799 0.3538327998096452 0.38185540401167445\n"
     ]
    },
    {
     "name": "stderr",
     "output_type": "stream",
     "text": [
      "100%|██████████| 1000/1000 [00:01<00:00, 710.29it/s]\n",
      " 10%|▉         | 96/1000 [00:00<00:01, 876.73it/s]"
     ]
    },
    {
     "name": "stdout",
     "output_type": "stream",
     "text": [
      "/data/new_trap/20210622/bead1/Neutrality2/Y_alternate_50V_71Hz_height_4_spin_46kHz_files_1000/\n",
      "mean+:  -0.0031491632284615947 std:  0.0007098249417567328\n",
      "mean-:  0.007984997977450344 std:  0.0007559989979713876\n",
      "A: 0.0036380850523711973\n",
      "A/$\\Delta_\\epsilon$ (+,-): 5.125327159351948 4.812288193679442\n",
      "voltages, bias:  100.0237408198613 0.354111535498017 0.3880918047778578\n"
     ]
    },
    {
     "name": "stderr",
     "output_type": "stream",
     "text": [
      "100%|██████████| 1000/1000 [00:01<00:00, 933.93it/s]\n"
     ]
    },
    {
     "name": "stdout",
     "output_type": "stream",
     "text": [
      "/data/new_trap/20210622/bead1/Neutrality2/Y_alternate_100V_71Hz_height_4_spin_46kHz_files_1000/\n",
      "mean+:  -0.008495966732100919 std:  0.0003509067106552054\n",
      "mean-:  0.015616517875606018 std:  0.00035634881953371095\n",
      "A: 0.0047780734621641965\n",
      "A/$\\Delta_\\epsilon$ (+,-): 13.616363885554314 13.408416698044332\n"
     ]
    }
   ],
   "source": [
    "folder1 = r'/data/new_trap/20210622/bead1/Neutrality2/Y_alternate_50V_71Hz_height_4_spin_46kHz_files_1000/'\n",
    "folder2 = r'/data/new_trap/20210622/bead1/Neutrality2/Y_alternate_100V_71Hz_height_4_spin_46kHz_files_1000/'\n",
    "\n",
    "comp50V100VFolder=[folder1,folder2]\n",
    "results50V100V = compare_millicharge(comp50V100VFolder)\n"
   ]
  },
  {
   "cell_type": "markdown",
   "metadata": {},
   "source": [
    "## Long Measurements"
   ]
  },
  {
   "cell_type": "code",
   "execution_count": 20,
   "metadata": {},
   "outputs": [
    {
     "name": "stderr",
     "output_type": "stream",
     "text": [
      "  5%|▍         | 96/2000 [00:00<00:02, 946.70it/s]"
     ]
    },
    {
     "name": "stdout",
     "output_type": "stream",
     "text": [
      "voltages, bias:  150.03945536820794 0.3540403000511779 0.3897744082685093\n"
     ]
    },
    {
     "name": "stderr",
     "output_type": "stream",
     "text": [
      "100%|██████████| 2000/2000 [00:03<00:00, 645.92it/s]\n",
      "  5%|▍         | 96/2000 [00:00<00:02, 886.00it/s]"
     ]
    },
    {
     "name": "stdout",
     "output_type": "stream",
     "text": [
      "/data/new_trap/20210622/bead1/Neutrality2/Y_alternate_150V_71Hz_height_0_spin_46kHz_files_1000/\n",
      "mean+:  -0.013738896642328496 std:  0.00015726230417586565\n",
      "mean-:  0.025815676208207766 std:  0.00015941115445371347\n",
      "A: 0.008204428134648105\n",
      "A/$\\Delta_\\epsilon$ (+,-): 52.170341631730984 51.4670893813164\n",
      "voltages, bias:  20.017053026058893 0.353947973963061 0.37772059261273727\n"
     ]
    },
    {
     "name": "stderr",
     "output_type": "stream",
     "text": [
      "100%|██████████| 2000/2000 [00:03<00:00, 615.27it/s]\n",
      "  5%|▍         | 96/2000 [00:00<00:02, 724.18it/s]"
     ]
    },
    {
     "name": "stdout",
     "output_type": "stream",
     "text": [
      "/data/new_trap/20210622/bead1/Neutrality2/Y_alternate_20V_71Hz_height_0_spin_46kHz_files_5000/\n",
      "mean+:  -0.0013708827382729828 std:  0.00127796265110451\n",
      "mean-:  0.0008730341576695465 std:  0.0012073805728970866\n",
      "A: -0.0006288037042538683\n",
      "A/$\\Delta_\\epsilon$ (+,-): -0.49203605732171396 -0.5207999187406717\n",
      "voltages, bias:  200.04697042209622 0.354010050178249 0.3771732010445046\n"
     ]
    },
    {
     "name": "stderr",
     "output_type": "stream",
     "text": [
      "100%|██████████| 2000/2000 [00:02<00:00, 725.51it/s]\n"
     ]
    },
    {
     "name": "stdout",
     "output_type": "stream",
     "text": [
      "/data/new_trap/20210622/bead1/Neutrality2/Y_alternate_200V_71Hz_height_0_spin_46kHz_files_5000/\n",
      "mean+:  -0.018539504541455525 std:  0.0001243466224428755\n",
      "mean-:  7.23827820273522e-05 std:  0.000123089674982147\n",
      "A: -0.018477979176732277\n",
      "A/$\\Delta_\\epsilon$ (+,-): -148.60057164175092 -150.11802719775102\n"
     ]
    }
   ],
   "source": [
    "folder1 = r'/data/new_trap/20210622/bead1/Neutrality2/Y_alternate_150V_71Hz_height_0_spin_46kHz_files_1000/'\n",
    "folder2 = r'/data/new_trap/20210622/bead1/Neutrality2/Y_alternate_20V_71Hz_height_0_spin_46kHz_files_5000/'\n",
    "folder3 = r'/data/new_trap/20210622/bead1/Neutrality2/Y_alternate_200V_71Hz_height_0_spin_46kHz_files_5000/'\n",
    "\n",
    "longMeasFolder=[folder1,folder2,folder3]\n",
    "resultsLong = compare_millicharge(longMeasFolder,fileNo=2000)"
   ]
  },
  {
   "cell_type": "code",
   "execution_count": 91,
   "metadata": {},
   "outputs": [],
   "source": [
    "voltage=[20,50,100,150,200]\n",
    "value=[0.5,4.14,13.51,51.81871550652366,-149.35929941975098]"
   ]
  },
  {
   "cell_type": "code",
   "execution_count": 104,
   "metadata": {},
   "outputs": [
    {
     "data": {
      "image/png": "[encoded data removed]",
      "text/plain": [
       "<Figure size 1152x864 with 1 Axes>"
      ]
     },
     "metadata": {
      "needs_background": "light"
     },
     "output_type": "display_data"
    }
   ],
   "source": [
    "plt.title(r\"A/$\\epsilon_\\Delta$ of 2f (142 Hz)\")\n",
    "plt.plot(voltage,np.abs(value),marker=\"*\",linestyle=\"\",markersize=\"15\")\n",
    "plt.xlabel(\"voltage\")\n",
    "plt.ylabel(r\"A/$\\epsilon_\\Delta$\")\n",
    "plt.yscale(\"log\")\n",
    "plt.show()\n"
   ]
  },
  {
   "cell_type": "code",
   "execution_count": 21,
   "metadata": {},
   "outputs": [],
   "source": [
    "def compare_millicharge_AB(folders,printValues=True,extendedData=False,fileNo=1000):\n",
    "    dataDiffList = []\n",
    "    for folder in folders:\n",
    "        appliedVoltage=get_voltage(folder)\n",
    "        F = np.array(Parallel(n_jobs=24)(delayed(get_response_at_first)(i,folder) for i in tqdm(range(fileNo))))\n",
    "        G = np.array(Parallel(n_jobs=24)(delayed(get_response_at_second)(i,folder) for i in tqdm(range(fileNo))))\n",
    "\n",
    "        data0 = F/scaleY*dischargeVoltage/appliedVoltage\n",
    "        F1=data0[::2]\n",
    "        F2=data0[1::2]\n",
    "        \n",
    "        \n",
    "        data1 = G/scaleY*dischargeVoltage/appliedVoltage\n",
    "        G1=data1[::2]\n",
    "        G2=data1[1::2]\n",
    "\n",
    "        data0PlusMean=np.mean(F1)\n",
    "        data0MinusMean=np.mean(F2)\n",
    "        data0PlusStd= np.std(F1)/np.sqrt(len(F1))\n",
    "        data0MinusStd=np.std(F2)/np.sqrt(len(F2))\n",
    "    \n",
    "        A=data0MinusMean*0.85+data0PlusMean\n",
    "\n",
    "        data1PlusMean=np.mean(G1)\n",
    "        data1MinusMean=np.mean(G2)\n",
    "        data1PlusStd= np.std(G1)/np.sqrt(len(G1))\n",
    "        data1MinusStd=np.std(G2)/np.sqrt(len(G2))\n",
    "    \n",
    "        B=data1MinusMean*0.85**2+data1PlusMean\n",
    "    \n",
    "    \n",
    "        if(printValues==True):\n",
    "            print(folder)\n",
    "            print('mean: ',data0PlusMean , 'std: ',data0PlusStd)\n",
    "            print('mean: ',data0MinusMean , 'std: ',data0MinusStd )\n",
    "            print('mean: ',data1PlusMean , 'std: ',data1PlusStd)\n",
    "            print('mean: ',data1MinusMean , 'std: ',data1MinusStd )\n",
    "            print(\"A:\",A , \"B:\",B)\n",
    "            print(\"dev in std (A,B):\", A/np.sqrt(data0PlusStd**2+data0MinusStd**2),  B/np.sqrt(data1PlusStd**2+data1MinusStd**2))            \n",
    "        dataDiffList.append(A/B)\n",
    "        \n",
    "    return dataDiffList"
   ]
  },
  {
   "cell_type": "code",
   "execution_count": 156,
   "metadata": {
    "scrolled": true
   },
   "outputs": [
    {
     "name": "stderr",
     "output_type": "stream",
     "text": [
      "\n",
      "\n",
      "\n",
      "  0%|          | 0/1000 [00:00<?, ?it/s]\u001b[A\u001b[A\u001b[A\n",
      "\n",
      "\n",
      " 10%|▉         | 96/1000 [00:00<00:01, 718.87it/s]\u001b[A\u001b[A\u001b[A"
     ]
    },
    {
     "name": "stdout",
     "output_type": "stream",
     "text": [
      "voltages, bias:  50.02201000314799 0.3538327998096452 0.38185540401167445\n"
     ]
    },
    {
     "name": "stderr",
     "output_type": "stream",
     "text": [
      "\n",
      "\n",
      "\n",
      " 14%|█▍        | 144/1000 [00:00<00:01, 606.89it/s]\u001b[A\u001b[A\u001b[A\n",
      "\n",
      "\n",
      " 24%|██▍       | 240/1000 [00:00<00:01, 652.65it/s]\u001b[A\u001b[A\u001b[A\n",
      "\n",
      "\n",
      " 53%|█████▎    | 528/1000 [00:00<00:00, 782.12it/s]\u001b[A\u001b[A\u001b[A\n",
      "\n",
      "\n",
      " 72%|███████▏  | 720/1000 [00:00<00:00, 810.67it/s]\u001b[A\u001b[A\u001b[A\n",
      "\n",
      "\n",
      " 91%|█████████ | 912/1000 [00:01<00:00, 820.52it/s]\u001b[A\u001b[A\u001b[A\n",
      "\n",
      "\n",
      "100%|██████████| 1000/1000 [00:01<00:00, 979.48it/s]\u001b[A\u001b[A\u001b[A\n",
      "\n",
      "\n",
      "  0%|          | 0/1000 [00:00<?, ?it/s]\u001b[A\u001b[A\u001b[A\n",
      "\n",
      "\n",
      " 10%|▉         | 96/1000 [00:00<00:01, 853.30it/s]\u001b[A\u001b[A\u001b[A\n",
      "\n",
      "\n",
      " 24%|██▍       | 240/1000 [00:00<00:00, 842.08it/s]\u001b[A\u001b[A\u001b[A\n",
      "\n",
      "\n",
      " 34%|███▎      | 336/1000 [00:00<00:00, 801.96it/s]\u001b[A\u001b[A\u001b[A\n",
      "\n",
      "\n",
      " 53%|█████▎    | 528/1000 [00:00<00:00, 959.64it/s]\u001b[A\u001b[A\u001b[A\n",
      "\n",
      "\n",
      " 72%|███████▏  | 720/1000 [00:00<00:00, 934.49it/s]\u001b[A\u001b[A\u001b[A\n",
      "\n",
      "\n",
      " 91%|█████████ | 912/1000 [00:01<00:00, 867.59it/s]\u001b[A\u001b[A\u001b[A\n",
      "\n",
      "\n",
      "100%|██████████| 1000/1000 [00:01<00:00, 966.47it/s]\u001b[A\u001b[A\u001b[A\n",
      "\n",
      "\n",
      "  0%|          | 0/1000 [00:00<?, ?it/s]\u001b[A\u001b[A\u001b[A\n",
      "\n",
      "\n",
      " 10%|▉         | 96/1000 [00:00<00:01, 805.77it/s]\u001b[A\u001b[A\u001b[A"
     ]
    },
    {
     "name": "stdout",
     "output_type": "stream",
     "text": [
      "/data/new_trap/20210622/bead1/Neutrality2/Y_alternate_50V_71Hz_height_4_spin_46kHz_files_1000/\n",
      "mean:  -0.001034571408652779 std:  0.0007797865481046505\n",
      "mean:  0.003405132601237706 std:  0.0007988534203594488\n",
      "mean:  -0.0031491632284615947 std:  0.0007098249417567328\n",
      "mean:  0.007984997977450344 std:  0.0007559989979713876\n",
      "A: 0.001859791302399271 B: 0.0026199978102462783\n",
      "dev in std (A,B): 1.6659595064963268 2.5264968014551132\n",
      "voltages, bias:  50.022316290575276 0.3539477734854469 0.38207123280406513\n"
     ]
    },
    {
     "name": "stderr",
     "output_type": "stream",
     "text": [
      "\n",
      "\n",
      "\n",
      " 24%|██▍       | 240/1000 [00:00<00:00, 806.93it/s]\u001b[A\u001b[A\u001b[A\n",
      "\n",
      "\n",
      " 53%|█████▎    | 528/1000 [00:00<00:00, 904.65it/s]\u001b[A\u001b[A\u001b[A\n",
      "\n",
      "\n",
      " 72%|███████▏  | 720/1000 [00:00<00:00, 920.21it/s]\u001b[A\u001b[A\u001b[A\n",
      "\n",
      "\n",
      " 91%|█████████ | 912/1000 [00:00<00:00, 893.38it/s]\u001b[A\u001b[A\u001b[A\n",
      "\n",
      "\n",
      "100%|██████████| 1000/1000 [00:00<00:00, 1024.27it/s]\u001b[A\u001b[A\u001b[A\n",
      "\n",
      "\n",
      "  0%|          | 0/1000 [00:00<?, ?it/s]\u001b[A\u001b[A\u001b[A\n",
      "\n",
      "\n",
      " 10%|▉         | 96/1000 [00:00<00:01, 836.25it/s]\u001b[A\u001b[A\u001b[A\n",
      "\n",
      "\n",
      " 24%|██▍       | 240/1000 [00:00<00:00, 844.14it/s]\u001b[A\u001b[A\u001b[A\n",
      "\n",
      "\n",
      " 53%|█████▎    | 528/1000 [00:00<00:00, 936.77it/s]\u001b[A\u001b[A\u001b[A\n",
      "\n",
      "\n",
      " 72%|███████▏  | 720/1000 [00:00<00:00, 871.61it/s]\u001b[A\u001b[A\u001b[A\n",
      "\n",
      "\n",
      " 91%|█████████ | 912/1000 [00:01<00:00, 867.01it/s]\u001b[A\u001b[A\u001b[A\n",
      "\n",
      "\n",
      "100%|██████████| 1000/1000 [00:01<00:00, 994.39it/s]\u001b[A\u001b[A\u001b[A\n",
      "\n",
      "\n",
      "  0%|          | 0/1000 [00:00<?, ?it/s]\u001b[A\u001b[A\u001b[A\n",
      "\n",
      "\n",
      " 10%|▉         | 96/1000 [00:00<00:01, 856.69it/s]\u001b[A\u001b[A\u001b[A"
     ]
    },
    {
     "name": "stdout",
     "output_type": "stream",
     "text": [
      "/data/new_trap/20210622/bead1/Neutrality2/Y_alternate_50V_71Hz_height_4_spin_46kHz_files_1000_2/\n",
      "mean:  -0.0023955980365219427 std:  0.0007602911737286279\n",
      "mean:  0.0029029993399764314 std:  0.0008205549931756226\n",
      "mean:  -0.00422541633957083 std:  0.0007444978622448842\n",
      "mean:  0.008256798637656037 std:  0.000705012587507596\n",
      "A: 7.195140245802416e-05 B: 0.0017401206761356557\n",
      "dev in std (A,B): 0.06432048569651833 1.6971176192561068\n",
      "voltages, bias:  50.022235919477 0.35395503150155033 0.38130549094096433\n"
     ]
    },
    {
     "name": "stderr",
     "output_type": "stream",
     "text": [
      "\n",
      "\n",
      "\n",
      " 14%|█▍        | 144/1000 [00:00<00:01, 667.26it/s]\u001b[A\u001b[A\u001b[A\n",
      "\n",
      "\n",
      " 24%|██▍       | 240/1000 [00:00<00:01, 696.71it/s]\u001b[A\u001b[A\u001b[A\n",
      "\n",
      "\n",
      " 53%|█████▎    | 528/1000 [00:00<00:00, 841.25it/s]\u001b[A\u001b[A\u001b[A\n",
      "\n",
      "\n",
      " 72%|███████▏  | 720/1000 [00:00<00:00, 854.84it/s]\u001b[A\u001b[A\u001b[A\n",
      "\n",
      "\n",
      " 91%|█████████ | 912/1000 [00:00<00:00, 827.96it/s]\u001b[A\u001b[A\u001b[A\n",
      "\n",
      "\n",
      "100%|██████████| 1000/1000 [00:00<00:00, 1002.91it/s]\u001b[A\u001b[A\u001b[A\n",
      "\n",
      "\n",
      "  0%|          | 0/1000 [00:00<?, ?it/s]\u001b[A\u001b[A\u001b[A\n",
      "\n",
      "\n",
      " 10%|▉         | 96/1000 [00:00<00:01, 574.44it/s]\u001b[A\u001b[A\u001b[A\n",
      "\n",
      "\n",
      " 34%|███▎      | 336/1000 [00:00<00:00, 685.11it/s]\u001b[A\u001b[A\u001b[A\n",
      "\n",
      "\n",
      " 53%|█████▎    | 528/1000 [00:00<00:00, 821.20it/s]\u001b[A\u001b[A\u001b[A\n",
      "\n",
      "\n",
      " 72%|███████▏  | 720/1000 [00:00<00:00, 858.52it/s]\u001b[A\u001b[A\u001b[A\n",
      "\n",
      "\n",
      " 91%|█████████ | 912/1000 [00:00<00:00, 820.96it/s]\u001b[A\u001b[A\u001b[A\n",
      "\n",
      "\n",
      "100%|██████████| 1000/1000 [00:00<00:00, 1049.44it/s]\u001b[A\u001b[A\u001b[A"
     ]
    },
    {
     "name": "stdout",
     "output_type": "stream",
     "text": [
      "/data/new_trap/20210622/bead1/Neutrality2/Y_alternate_50V_71Hz_height_-1_spin_46kHz_files_1000/\n",
      "mean:  -0.0024106673352310396 std:  0.0007490136519744011\n",
      "mean:  0.003572801442850131 std:  0.0007991690440318249\n",
      "mean:  -0.005407245661295305 std:  0.0006867683778290981\n",
      "mean:  0.009298574134140843 std:  0.0007039950890015342\n",
      "A: 0.000626213891191572 B: 0.0013109741506214532\n",
      "dev in std (A,B): 0.5717256871293142 1.3329766411424704\n"
     ]
    }
   ],
   "source": [
    "folder1 = r'/data/new_trap/20210622/bead1/Neutrality2/Y_alternate_50V_71Hz_height_4_spin_46kHz_files_1000/'\n",
    "folder2 = r'/data/new_trap/20210622/bead1/Neutrality2/Y_alternate_50V_71Hz_height_4_spin_46kHz_files_1000_2/'\n",
    "folder3 = r'/data/new_trap/20210622/bead1/Neutrality2/Y_alternate_50V_71Hz_height_-1_spin_46kHz_files_1000/'\n",
    "\n",
    "heightRepFolder=[folder1,folder2,folder3]\n",
    "resultsHeightRep = compare_millicharge_AB(heightRepFolder)\n"
   ]
  },
  {
   "cell_type": "code",
   "execution_count": null,
   "metadata": {},
   "outputs": [],
   "source": []
  },
  {
   "cell_type": "code",
   "execution_count": 172,
   "metadata": {},
   "outputs": [
    {
     "name": "stderr",
     "output_type": "stream",
     "text": [
      "\n",
      "\n",
      "\n",
      "  0%|          | 0/4 [00:00<?, ?it/s]\u001b[A\u001b[A\u001b[A\n",
      "\n",
      "\n",
      "100%|██████████| 4/4 [00:00<00:00, 2931.54it/s]\u001b[A\u001b[A\u001b[A\n",
      "\n",
      "\n",
      "  0%|          | 0/4 [00:00<?, ?it/s]\u001b[A\u001b[A\u001b[A\n",
      "\n",
      "\n",
      "100%|██████████| 4/4 [00:00<00:00, 3021.29it/s]\u001b[A\u001b[A\u001b[A\n",
      "\n",
      "\n",
      "  0%|          | 0/4 [00:00<?, ?it/s]\u001b[A\u001b[A\u001b[A\n",
      "\n",
      "\n",
      "100%|██████████| 4/4 [00:00<00:00, 3206.04it/s]\u001b[A\u001b[A\u001b[A\n",
      "\n",
      "\n",
      "  0%|          | 0/4 [00:00<?, ?it/s]\u001b[A\u001b[A\u001b[A\n",
      "\n",
      "\n",
      "100%|██████████| 4/4 [00:00<00:00, 2687.79it/s]\u001b[A\u001b[A\u001b[A"
     ]
    },
    {
     "name": "stdout",
     "output_type": "stream",
     "text": [
      "voltages, bias:  20.017053026058893 0.353947973963061 0.37772059261273727\n",
      "/data/new_trap/20210622/bead1/Neutrality2/Y_alternate_20V_71Hz_height_0_spin_46kHz_files_5000/\n",
      "mean:  -0.0382130543606705 std:  0.006156508226394038\n",
      "mean:  -0.012074684444630456 std:  0.004853081936821156\n",
      "mean:  0.030314891250784896 std:  0.0030385839120446964\n",
      "mean:  -0.046356432555710106 std:  0.019996387630496392\n",
      "A: -0.048476536138606384 B: -0.0031776312707156515\n",
      "dev in std (A,B): -6.183764990710283 -0.15710675540053656\n",
      "voltages, bias:  150.03945536820794 0.3540403000511779 0.3897744082685093\n",
      "/data/new_trap/20210622/bead1/Neutrality2/Y_alternate_150V_71Hz_height_0_spin_46kHz_files_1000/\n",
      "mean:  0.003940152251802729 std:  0.0035704231259790077\n",
      "mean:  0.010918913130699148 std:  0.0028376322812599395\n",
      "mean:  -0.011103566680609873 std:  0.0014314710001802871\n",
      "mean:  0.02757870148468597 std:  0.0004852752729893411\n",
      "A: 0.013221228412897006 B: 0.008822045142075737\n",
      "dev in std (A,B): 2.8989406473768424 5.8366555541799885\n"
     ]
    },
    {
     "name": "stderr",
     "output_type": "stream",
     "text": [
      "\n",
      "\n",
      "\n",
      "  0%|          | 0/4 [00:00<?, ?it/s]\u001b[A\u001b[A\u001b[A\n",
      "\n",
      "\n",
      "100%|██████████| 4/4 [00:00<00:00, 2334.71it/s]\u001b[A\u001b[A\u001b[A\n",
      "\n",
      "\n",
      "  0%|          | 0/4 [00:00<?, ?it/s]\u001b[A\u001b[A\u001b[A\n",
      "\n",
      "\n",
      "100%|██████████| 4/4 [00:00<00:00, 2532.41it/s]\u001b[A\u001b[A\u001b[A"
     ]
    },
    {
     "name": "stdout",
     "output_type": "stream",
     "text": [
      "voltages, bias:  200.04697042209622 0.354010050178249 0.3771732010445046\n",
      "/data/new_trap/20210622/bead1/Neutrality2/Y_alternate_200V_71Hz_height_0_spin_46kHz_files_5000/\n",
      "mean:  0.009516761866574665 std:  0.0007544140514030756\n",
      "mean:  0.0026508237961512804 std:  0.0028169165515329908\n",
      "mean:  -0.025728734692231685 std:  0.0021713855055455838\n",
      "mean:  -0.0027908573350916024 std:  0.0014583890488420552\n",
      "A: 0.011769962093303252 B: -0.027745129116835368\n",
      "dev in std (A,B): 4.036076299409961 -10.607209100999722\n"
     ]
    }
   ],
   "source": [
    "folder1 = r'/data/new_trap/20210622/bead1/Neutrality2/Y_alternate_20V_71Hz_height_0_spin_46kHz_files_5000/'\n",
    "folder2 = r'/data/new_trap/20210622/bead1/Neutrality2/Y_alternate_150V_71Hz_height_0_spin_46kHz_files_1000/'\n",
    "folder3 = r'/data/new_trap/20210622/bead1/Neutrality2/Y_alternate_200V_71Hz_height_0_spin_46kHz_files_5000/'\n",
    "\n",
    "longMeasFolder=[folder1,folder2,folder3]\n",
    "resultsLong = compare_millicharge_AB(longMeasFolder,fileNo=4)"
   ]
  },
  {
   "cell_type": "code",
   "execution_count": 29,
   "metadata": {},
   "outputs": [
    {
     "data": {
      "text/plain": [
       "[0.6360720296439042, 0.08005786346786539, 0.10454176737408664]"
      ]
     },
     "execution_count": 29,
     "metadata": {},
     "output_type": "execute_result"
    }
   ],
   "source": [
    "resultsLong"
   ]
  },
  {
   "cell_type": "code",
   "execution_count": 30,
   "metadata": {},
   "outputs": [
    {
     "name": "stderr",
     "output_type": "stream",
     "text": [
      "  2%|▏         | 96/5000 [00:00<00:05, 823.63it/s]"
     ]
    },
    {
     "name": "stdout",
     "output_type": "stream",
     "text": [
      "voltages, bias:  20.017053026058893 0.353947973963061 0.37772059261273727\n"
     ]
    },
    {
     "name": "stderr",
     "output_type": "stream",
     "text": [
      "100%|██████████| 5000/5000 [00:33<00:00, 150.54it/s]\n",
      "100%|██████████| 5000/5000 [00:07<00:00, 687.61it/s]\n",
      "  2%|▏         | 96/5000 [00:00<00:05, 841.86it/s]"
     ]
    },
    {
     "name": "stdout",
     "output_type": "stream",
     "text": [
      "/data/new_trap/20210622/bead1/Neutrality2/Y_alternate_20V_71Hz_height_0_spin_46kHz_files_5000/\n",
      "mean:  -0.002866793727406291 std:  0.0008095571155381143\n",
      "mean:  0.002858968643930856 std:  0.0008021009135656583\n",
      "mean:  -0.001986406909329704 std:  0.0007971912046181109\n",
      "mean:  0.002361854567095836 std:  0.000769488090807246\n",
      "A: -0.0004366703800650633 B: -0.00027996698460296273\n",
      "dev in std (A,B): -0.383169725737637 -0.2526817215085767\n",
      "voltages, bias:  150.03945536820794 0.3540403000511779 0.3897744082685093\n"
     ]
    },
    {
     "name": "stderr",
     "output_type": "stream",
     "text": [
      "100%|██████████| 5000/5000 [00:37<00:00, 131.98it/s]\n",
      "100%|██████████| 5000/5000 [00:06<00:00, 723.62it/s]\n"
     ]
    },
    {
     "name": "stdout",
     "output_type": "stream",
     "text": [
      "/data/new_trap/20210622/bead1/Neutrality2/Y_alternate_150V_71Hz_height_0_spin_46kHz_files_1000/\n",
      "mean:  -0.0022766359258797886 std:  0.00012483423507040625\n",
      "mean:  0.003382171129189598 std:  0.0001384658068600886\n",
      "mean:  -0.01389101682487462 std:  0.00010003341080926465\n",
      "mean:  0.02597695369363999 std:  0.00010133715072420929\n",
      "A: 0.0005982095339313698 B: 0.004877332218780268\n",
      "dev in std (A,B): 3.208751981586518 34.252498284593315\n"
     ]
    }
   ],
   "source": [
    "folder1 = r'/data/new_trap/20210622/bead1/Neutrality2/Y_alternate_20V_71Hz_height_0_spin_46kHz_files_5000/'\n",
    "folder2 = r'/data/new_trap/20210622/bead1/Neutrality2/Y_alternate_150V_71Hz_height_0_spin_46kHz_files_1000/'\n",
    "\n",
    "longMeasFolder=[folder1,folder2]\n",
    "resultsLong = compare_millicharge_AB(longMeasFolder,fileNo=5000)"
   ]
  },
  {
   "cell_type": "code",
   "execution_count": 31,
   "metadata": {},
   "outputs": [
    {
     "data": {
      "text/plain": [
       "[1.5597209816876467, 0.12265097128876143]"
      ]
     },
     "execution_count": 31,
     "metadata": {},
     "output_type": "execute_result"
    }
   ],
   "source": [
    "resultsLong"
   ]
  },
  {
   "cell_type": "code",
   "execution_count": 173,
   "metadata": {},
   "outputs": [],
   "source": [
    "def compare_millicharge_full_analysis_perFile(folders,printValues=True,extendedData=False,fileNo=2000):\n",
    "    df = pd.DataFrame()\n",
    "    i=0\n",
    "    for folder in folders:   \n",
    "        i+=1\n",
    "        appliedVoltage=get_voltage(folder)\n",
    "        \n",
    "        F = np.array(Parallel(n_jobs=24)(delayed(get_response_at_first)(i,folder) for i in tqdm(range(fileNo))))\n",
    "        G = np.array(Parallel(n_jobs=24)(delayed(get_response_at_second)(i,folder) for i in tqdm(range(fileNo))))\n",
    "\n",
    "        data0 = F/scaleY*dischargeVoltage/appliedVoltage\n",
    "        F1=data0[::2]\n",
    "        F2=data0[1::2]\n",
    "\n",
    "        data1 = G/scaleY*dischargeVoltage/appliedVoltage\n",
    "        G1=data1[::2]\n",
    "        G2=data1[1::2]\n",
    "        \n",
    "        df[\"F1_%d\" %i] = F1\n",
    "        df[\"F2_%d\" %i] = F2\n",
    "        df[\"G1_%d\" %i] = G1\n",
    "        df[\"G2_%d\" %i] = G2\n",
    "        df[\"A_%d\"  %i] =  np.add(np.multiply(F2,0.85),F1)\n",
    "        df[\"B_%d\"  %i] =  np.add(np.multiply(G2,0.85**2),G1)\n",
    "\n",
    "    return df"
   ]
  },
  {
   "cell_type": "code",
   "execution_count": 205,
   "metadata": {},
   "outputs": [
    {
     "name": "stderr",
     "output_type": "stream",
     "text": [
      "\n",
      "\n",
      "\n",
      "  0%|          | 0/1998 [00:00<?, ?it/s]\u001b[A\u001b[A\u001b[A\n",
      "\n",
      "\n",
      "  5%|▍         | 96/1998 [00:00<00:02, 731.95it/s]\u001b[A\u001b[A\u001b[A"
     ]
    },
    {
     "name": "stdout",
     "output_type": "stream",
     "text": [
      "voltages, bias:  20.017053026058893 0.353947973963061 0.37772059261273727\n"
     ]
    },
    {
     "name": "stderr",
     "output_type": "stream",
     "text": [
      "\n",
      "\n",
      "\n",
      " 12%|█▏        | 240/1998 [00:00<00:02, 774.01it/s]\u001b[A\u001b[A\u001b[A\n",
      "\n",
      "\n",
      " 17%|█▋        | 336/1998 [00:00<00:02, 745.36it/s]\u001b[A\u001b[A\u001b[A\n",
      "\n",
      "\n",
      " 22%|██▏       | 432/1998 [00:00<00:02, 714.71it/s]\u001b[A\u001b[A\u001b[A\n",
      "\n",
      "\n",
      " 26%|██▋       | 528/1998 [00:00<00:02, 692.04it/s]\u001b[A\u001b[A\u001b[A\n",
      "\n",
      "\n",
      " 31%|███       | 624/1998 [00:00<00:02, 679.91it/s]\u001b[A\u001b[A\u001b[A\n",
      "\n",
      "\n",
      " 36%|███▌      | 720/1998 [00:01<00:01, 666.77it/s]\u001b[A\u001b[A\u001b[A\n",
      "\n",
      "\n",
      " 41%|████      | 816/1998 [00:01<00:01, 669.65it/s]\u001b[A\u001b[A\u001b[A\n",
      "\n",
      "\n",
      " 46%|████▌     | 912/1998 [00:01<00:01, 696.53it/s]\u001b[A\u001b[A\u001b[A\n",
      "\n",
      "\n",
      " 50%|█████     | 1008/1998 [00:01<00:01, 674.76it/s]\u001b[A\u001b[A\u001b[A\n",
      "\n",
      "\n",
      " 55%|█████▌    | 1104/1998 [00:01<00:01, 677.10it/s]\u001b[A\u001b[A\u001b[A\n",
      "\n",
      "\n",
      " 60%|██████    | 1200/1998 [00:01<00:01, 662.44it/s]\u001b[A\u001b[A\u001b[A\n",
      "\n",
      "\n",
      " 65%|██████▍   | 1296/1998 [00:01<00:01, 667.44it/s]\u001b[A\u001b[A\u001b[A\n",
      "\n",
      "\n",
      " 70%|██████▉   | 1392/1998 [00:02<00:00, 666.28it/s]\u001b[A\u001b[A\u001b[A\n",
      "\n",
      "\n",
      " 74%|███████▍  | 1488/1998 [00:02<00:00, 662.02it/s]\u001b[A\u001b[A\u001b[A\n",
      "\n",
      "\n",
      " 79%|███████▉  | 1584/1998 [00:02<00:00, 656.51it/s]\u001b[A\u001b[A\u001b[A\n",
      "\n",
      "\n",
      " 84%|████████▍ | 1680/1998 [00:02<00:00, 647.35it/s]\u001b[A\u001b[A\u001b[A\n",
      "\n",
      "\n",
      " 89%|████████▉ | 1776/1998 [00:02<00:00, 638.51it/s]\u001b[A\u001b[A\u001b[A\n",
      "\n",
      "\n",
      " 94%|█████████▎| 1872/1998 [00:02<00:00, 647.21it/s]\u001b[A\u001b[A\u001b[A\n",
      "\n",
      "\n",
      " 98%|█████████▊| 1968/1998 [00:02<00:00, 662.43it/s]\u001b[A\u001b[A\u001b[A\n",
      "\n",
      "\n",
      "100%|██████████| 1998/1998 [00:02<00:00, 678.54it/s]\u001b[A\u001b[A\u001b[A\n",
      "\n",
      "\n",
      "  0%|          | 0/1998 [00:00<?, ?it/s]\u001b[A\u001b[A\u001b[A\n",
      "\n",
      "\n",
      "  5%|▍         | 96/1998 [00:00<00:02, 926.56it/s]\u001b[A\u001b[A\u001b[A\n",
      "\n",
      "\n",
      "  7%|▋         | 144/1998 [00:00<00:02, 704.50it/s]\u001b[A\u001b[A\u001b[A\n",
      "\n",
      "\n",
      " 17%|█▋        | 336/1998 [00:00<00:02, 782.44it/s]\u001b[A\u001b[A\u001b[A\n",
      "\n",
      "\n",
      " 26%|██▋       | 528/1998 [00:00<00:01, 934.13it/s]\u001b[A\u001b[A\u001b[A\n",
      "\n",
      "\n",
      " 36%|███▌      | 720/1998 [00:00<00:01, 904.64it/s]\u001b[A\u001b[A\u001b[A\n",
      "\n",
      "\n",
      " 46%|████▌     | 912/1998 [00:00<00:01, 865.86it/s]\u001b[A\u001b[A\u001b[A\n",
      "\n",
      "\n",
      " 55%|█████▌    | 1104/1998 [00:01<00:01, 815.57it/s]\u001b[A\u001b[A\u001b[A\n",
      "\n",
      "\n",
      " 65%|██████▍   | 1296/1998 [00:01<00:00, 734.86it/s]\u001b[A\u001b[A\u001b[A\n",
      "\n",
      "\n",
      " 74%|███████▍  | 1488/1998 [00:01<00:00, 734.30it/s]\u001b[A\u001b[A\u001b[A\n",
      "\n",
      "\n",
      " 84%|████████▍ | 1680/1998 [00:02<00:00, 682.74it/s]\u001b[A\u001b[A\u001b[A\n",
      "\n",
      "\n",
      " 94%|█████████▎| 1872/1998 [00:02<00:00, 715.08it/s]\u001b[A\u001b[A\u001b[A\n",
      "\n",
      "\n",
      "100%|██████████| 1998/1998 [00:02<00:00, 825.83it/s]\u001b[A\u001b[A\u001b[A\n",
      "\n",
      "\n",
      "  0%|          | 0/1998 [00:00<?, ?it/s]\u001b[A\u001b[A\u001b[A"
     ]
    },
    {
     "name": "stdout",
     "output_type": "stream",
     "text": [
      "voltages, bias:  40.02040319571283 0.09729556162992023 0.3690680976081138\n"
     ]
    },
    {
     "name": "stderr",
     "output_type": "stream",
     "text": [
      "\n",
      "\n",
      "\n",
      "  5%|▍         | 96/1998 [00:00<00:05, 331.95it/s]\u001b[A\u001b[A\u001b[A\n",
      "\n",
      "\n",
      "  7%|▋         | 144/1998 [00:00<00:09, 197.31it/s]\u001b[A\u001b[A\u001b[A\n",
      "\n",
      "\n",
      " 10%|▉         | 192/1998 [00:01<00:15, 120.22it/s]\u001b[A\u001b[A\u001b[A\n",
      "\n",
      "\n",
      " 12%|█▏        | 240/1998 [00:01<00:14, 121.45it/s]\u001b[A\u001b[A\u001b[A\n",
      "\n",
      "\n",
      " 14%|█▍        | 288/1998 [00:02<00:14, 115.68it/s]\u001b[A\u001b[A\u001b[A\n",
      "\n",
      "\n",
      " 17%|█▋        | 336/1998 [00:02<00:14, 114.52it/s]\u001b[A\u001b[A\u001b[A\n",
      "\n",
      "\n",
      " 19%|█▉        | 384/1998 [00:03<00:16, 97.23it/s] \u001b[A\u001b[A\u001b[A\n",
      "\n",
      "\n",
      " 22%|██▏       | 432/1998 [00:03<00:15, 104.07it/s]\u001b[A\u001b[A\u001b[A\n",
      "\n",
      "\n",
      " 24%|██▍       | 480/1998 [00:04<00:13, 110.21it/s]\u001b[A\u001b[A\u001b[A\n",
      "\n",
      "\n",
      " 26%|██▋       | 528/1998 [00:04<00:13, 111.58it/s]\u001b[A\u001b[A\u001b[A\n",
      "\n",
      "\n",
      " 29%|██▉       | 576/1998 [00:05<00:14, 100.96it/s]\u001b[A\u001b[A\u001b[A\n",
      "\n",
      "\n",
      " 31%|███       | 624/1998 [00:05<00:12, 106.04it/s]\u001b[A\u001b[A\u001b[A\n",
      "\n",
      "\n",
      " 34%|███▎      | 672/1998 [00:06<00:11, 111.46it/s]\u001b[A\u001b[A\u001b[A\n",
      "\n",
      "\n",
      " 36%|███▌      | 720/1998 [00:06<00:11, 113.42it/s]\u001b[A\u001b[A\u001b[A\n",
      "\n",
      "\n",
      " 38%|███▊      | 768/1998 [00:06<00:10, 118.91it/s]\u001b[A\u001b[A\u001b[A\n",
      "\n",
      "\n",
      " 41%|████      | 816/1998 [00:07<00:09, 121.55it/s]\u001b[A\u001b[A\u001b[A\n",
      "\n",
      "\n",
      " 43%|████▎     | 864/1998 [00:07<00:09, 121.89it/s]\u001b[A\u001b[A\u001b[A\n",
      "\n",
      "\n",
      " 46%|████▌     | 912/1998 [00:07<00:09, 119.50it/s]\u001b[A\u001b[A\u001b[A\n",
      "\n",
      "\n",
      " 48%|████▊     | 960/1998 [00:08<00:10, 98.81it/s] \u001b[A\u001b[A\u001b[A\n",
      "\n",
      "\n",
      " 50%|█████     | 1008/1998 [00:09<00:09, 104.98it/s]\u001b[A\u001b[A\u001b[A\n",
      "\n",
      "\n",
      " 53%|█████▎    | 1056/1998 [00:09<00:08, 109.83it/s]\u001b[A\u001b[A\u001b[A\n",
      "\n",
      "\n",
      " 55%|█████▌    | 1104/1998 [00:09<00:08, 111.63it/s]\u001b[A\u001b[A\u001b[A\n",
      "\n",
      "\n",
      " 58%|█████▊    | 1152/1998 [00:10<00:07, 117.53it/s]\u001b[A\u001b[A\u001b[A\n",
      "\n",
      "\n",
      " 60%|██████    | 1200/1998 [00:10<00:06, 117.69it/s]\u001b[A\u001b[A\u001b[A\n",
      "\n",
      "\n",
      " 62%|██████▏   | 1248/1998 [00:11<00:06, 117.06it/s]\u001b[A\u001b[A\u001b[A\n",
      "\n",
      "\n",
      " 65%|██████▍   | 1296/1998 [00:11<00:06, 115.50it/s]\u001b[A\u001b[A\u001b[A\n",
      "\n",
      "\n",
      " 67%|██████▋   | 1344/1998 [00:12<00:06, 101.08it/s]\u001b[A\u001b[A\u001b[A\n",
      "\n",
      "\n",
      " 70%|██████▉   | 1392/1998 [00:12<00:06, 86.66it/s] \u001b[A\u001b[A\u001b[A\n",
      "\n",
      "\n",
      " 72%|███████▏  | 1440/1998 [00:13<00:06, 80.76it/s]\u001b[A\u001b[A\u001b[A\n",
      "\n",
      "\n",
      " 74%|███████▍  | 1488/1998 [00:13<00:05, 90.45it/s]\u001b[A\u001b[A\u001b[A\n",
      "\n",
      "\n",
      " 77%|███████▋  | 1536/1998 [00:14<00:04, 100.02it/s]\u001b[A\u001b[A\u001b[A\n",
      "\n",
      "\n",
      " 79%|███████▉  | 1584/1998 [00:14<00:03, 104.38it/s]\u001b[A\u001b[A\u001b[A\n",
      "\n",
      "\n",
      " 82%|████████▏ | 1632/1998 [00:15<00:04, 88.85it/s] \u001b[A\u001b[A\u001b[A\n",
      "\n",
      "\n",
      " 84%|████████▍ | 1680/1998 [00:15<00:03, 99.41it/s]\u001b[A\u001b[A\u001b[A\n",
      "\n",
      "\n",
      " 86%|████████▋ | 1728/1998 [00:16<00:03, 75.79it/s]\u001b[A\u001b[A\u001b[A\n",
      "\n",
      "\n",
      " 89%|████████▉ | 1776/1998 [00:17<00:02, 87.61it/s]\u001b[A\u001b[A\u001b[A\n",
      "\n",
      "\n",
      " 91%|█████████▏| 1824/1998 [00:17<00:01, 93.23it/s]\u001b[A\u001b[A\u001b[A\n",
      "\n",
      "\n",
      " 94%|█████████▎| 1872/1998 [00:17<00:01, 98.95it/s]\u001b[A\u001b[A\u001b[A\n",
      "\n",
      "\n",
      " 96%|█████████▌| 1920/1998 [00:18<00:00, 104.67it/s]\u001b[A\u001b[A\u001b[A\n",
      "\n",
      "\n",
      " 98%|█████████▊| 1968/1998 [00:19<00:00, 90.30it/s] \u001b[A\u001b[A\u001b[A\n",
      "\n",
      "\n",
      "100%|██████████| 1998/1998 [00:19<00:00, 105.13it/s]\u001b[A\u001b[A\u001b[A\n",
      "\n",
      "\n",
      "  0%|          | 0/1998 [00:00<?, ?it/s]\u001b[A\u001b[A\u001b[A\n",
      "\n",
      "\n",
      "  5%|▍         | 96/1998 [00:00<00:02, 804.45it/s]\u001b[A\u001b[A\u001b[A\n",
      "\n",
      "\n",
      " 12%|█▏        | 240/1998 [00:00<00:02, 823.47it/s]\u001b[A\u001b[A\u001b[A\n",
      "\n",
      "\n",
      " 17%|█▋        | 336/1998 [00:00<00:02, 818.55it/s]\u001b[A\u001b[A\u001b[A\n",
      "\n",
      "\n",
      " 26%|██▋       | 528/1998 [00:00<00:01, 936.15it/s]\u001b[A\u001b[A\u001b[A\n",
      "\n",
      "\n",
      " 36%|███▌      | 720/1998 [00:00<00:01, 888.68it/s]\u001b[A\u001b[A\u001b[A\n",
      "\n",
      "\n",
      " 46%|████▌     | 912/1998 [00:01<00:01, 845.83it/s]\u001b[A\u001b[A\u001b[A\n",
      "\n",
      "\n",
      " 55%|█████▌    | 1104/1998 [00:01<00:01, 760.40it/s]\u001b[A\u001b[A\u001b[A\n",
      "\n",
      "\n",
      " 65%|██████▍   | 1296/1998 [00:01<00:00, 754.53it/s]\u001b[A\u001b[A\u001b[A\n",
      "\n",
      "\n",
      " 74%|███████▍  | 1488/1998 [00:01<00:00, 748.93it/s]\u001b[A\u001b[A\u001b[A\n",
      "\n",
      "\n",
      " 84%|████████▍ | 1680/1998 [00:02<00:00, 701.58it/s]\u001b[A\u001b[A\u001b[A\n",
      "\n",
      "\n",
      " 94%|█████████▎| 1872/1998 [00:02<00:00, 662.97it/s]\u001b[A\u001b[A\u001b[A\n",
      "\n",
      "\n",
      "100%|██████████| 1998/1998 [00:02<00:00, 793.65it/s]\u001b[A\u001b[A\u001b[A\n",
      "\n",
      "\n",
      "  0%|          | 0/1998 [00:00<?, ?it/s]\u001b[A\u001b[A\u001b[A"
     ]
    },
    {
     "name": "stdout",
     "output_type": "stream",
     "text": [
      "voltages, bias:  150.03945536820794 0.3540403000511779 0.3897744082685093\n"
     ]
    },
    {
     "name": "stderr",
     "output_type": "stream",
     "text": [
      "\n",
      "\n",
      "\n",
      "  5%|▍         | 96/1998 [00:00<00:06, 301.86it/s]\u001b[A\u001b[A\u001b[A\n",
      "\n",
      "\n",
      "  7%|▋         | 144/1998 [00:00<00:11, 163.82it/s]\u001b[A\u001b[A\u001b[A\n",
      "\n",
      "\n",
      " 10%|▉         | 192/1998 [00:01<00:15, 119.66it/s]\u001b[A\u001b[A\u001b[A\n",
      "\n",
      "\n",
      " 12%|█▏        | 240/1998 [00:02<00:14, 117.59it/s]\u001b[A\u001b[A\u001b[A\n",
      "\n",
      "\n",
      " 14%|█▍        | 288/1998 [00:02<00:14, 118.23it/s]\u001b[A\u001b[A\u001b[A\n",
      "\n",
      "\n",
      " 17%|█▋        | 336/1998 [00:02<00:13, 119.76it/s]\u001b[A\u001b[A\u001b[A\n",
      "\n",
      "\n",
      " 19%|█▉        | 384/1998 [00:03<00:13, 124.14it/s]\u001b[A\u001b[A\u001b[A\n",
      "\n",
      "\n",
      " 22%|██▏       | 432/1998 [00:03<00:12, 126.01it/s]\u001b[A\u001b[A\u001b[A\n",
      "\n",
      "\n",
      " 24%|██▍       | 480/1998 [00:03<00:12, 120.09it/s]\u001b[A\u001b[A\u001b[A\n",
      "\n",
      "\n",
      " 26%|██▋       | 528/1998 [00:04<00:11, 124.77it/s]\u001b[A\u001b[A\u001b[A\n",
      "\n",
      "\n",
      " 29%|██▉       | 576/1998 [00:04<00:11, 118.68it/s]\u001b[A\u001b[A\u001b[A\n",
      "\n",
      "\n",
      " 31%|███       | 624/1998 [00:05<00:11, 121.57it/s]\u001b[A\u001b[A\u001b[A\n",
      "\n",
      "\n",
      " 34%|███▎      | 672/1998 [00:05<00:10, 125.66it/s]\u001b[A\u001b[A\u001b[A\n",
      "\n",
      "\n",
      " 36%|███▌      | 720/1998 [00:06<00:12, 104.90it/s]\u001b[A\u001b[A\u001b[A\n",
      "\n",
      "\n",
      " 38%|███▊      | 768/1998 [00:06<00:11, 108.16it/s]\u001b[A\u001b[A\u001b[A\n",
      "\n",
      "\n",
      " 41%|████      | 816/1998 [00:07<00:14, 79.23it/s] \u001b[A\u001b[A\u001b[A\n",
      "\n",
      "\n",
      " 43%|████▎     | 864/1998 [00:07<00:12, 89.68it/s]\u001b[A\u001b[A\u001b[A\n",
      "\n",
      "\n",
      " 46%|████▌     | 912/1998 [00:08<00:11, 97.69it/s]\u001b[A\u001b[A\u001b[A\n",
      "\n",
      "\n",
      " 48%|████▊     | 960/1998 [00:08<00:11, 87.30it/s]\u001b[A\u001b[A\u001b[A\n",
      "\n",
      "\n",
      " 50%|█████     | 1008/1998 [00:09<00:10, 94.61it/s]\u001b[A\u001b[A\u001b[A\n",
      "\n",
      "\n",
      " 53%|█████▎    | 1056/1998 [00:09<00:09, 101.17it/s]\u001b[A\u001b[A\u001b[A\n",
      "\n",
      "\n",
      " 55%|█████▌    | 1104/1998 [00:10<00:08, 109.41it/s]\u001b[A\u001b[A\u001b[A\n",
      "\n",
      "\n",
      " 58%|█████▊    | 1152/1998 [00:10<00:07, 108.88it/s]\u001b[A\u001b[A\u001b[A\n",
      "\n",
      "\n",
      " 60%|██████    | 1200/1998 [00:10<00:07, 113.66it/s]\u001b[A\u001b[A\u001b[A\n",
      "\n",
      "\n",
      " 62%|██████▏   | 1248/1998 [00:11<00:06, 118.66it/s]\u001b[A\u001b[A\u001b[A\n",
      "\n",
      "\n",
      " 65%|██████▍   | 1296/1998 [00:11<00:05, 121.97it/s]\u001b[A\u001b[A\u001b[A\n",
      "\n",
      "\n",
      " 67%|██████▋   | 1344/1998 [00:12<00:06, 98.78it/s] \u001b[A\u001b[A\u001b[A\n",
      "\n",
      "\n",
      " 70%|██████▉   | 1392/1998 [00:12<00:05, 103.74it/s]\u001b[A\u001b[A\u001b[A\n",
      "\n",
      "\n",
      " 72%|███████▏  | 1440/1998 [00:13<00:06, 89.37it/s] \u001b[A\u001b[A\u001b[A\n",
      "\n",
      "\n",
      " 74%|███████▍  | 1488/1998 [00:14<00:06, 81.67it/s]\u001b[A\u001b[A\u001b[A\n",
      "\n",
      "\n",
      " 77%|███████▋  | 1536/1998 [00:14<00:05, 91.50it/s]\u001b[A\u001b[A\u001b[A\n",
      "\n",
      "\n",
      " 79%|███████▉  | 1584/1998 [00:15<00:05, 78.78it/s]\u001b[A\u001b[A\u001b[A\n",
      "\n",
      "\n",
      " 82%|████████▏ | 1632/1998 [00:15<00:04, 84.46it/s]\u001b[A\u001b[A\u001b[A\n",
      "\n",
      "\n",
      " 84%|████████▍ | 1680/1998 [00:16<00:03, 89.45it/s]\u001b[A\u001b[A\u001b[A\n",
      "\n",
      "\n",
      " 86%|████████▋ | 1728/1998 [00:16<00:03, 85.61it/s]\u001b[A\u001b[A\u001b[A\n",
      "\n",
      "\n",
      " 89%|████████▉ | 1776/1998 [00:17<00:02, 92.91it/s]\u001b[A\u001b[A\u001b[A\n",
      "\n",
      "\n",
      " 91%|█████████▏| 1824/1998 [00:17<00:01, 98.94it/s]\u001b[A\u001b[A\u001b[A\n",
      "\n",
      "\n",
      " 94%|█████████▎| 1872/1998 [00:18<00:01, 109.55it/s]\u001b[A\u001b[A\u001b[A\n",
      "\n",
      "\n",
      " 96%|█████████▌| 1920/1998 [00:18<00:00, 118.31it/s]\u001b[A\u001b[A\u001b[A\n",
      "\n",
      "\n",
      " 98%|█████████▊| 1968/1998 [00:18<00:00, 114.92it/s]\u001b[A\u001b[A\u001b[A\n",
      "\n",
      "\n",
      "100%|██████████| 1998/1998 [00:18<00:00, 105.86it/s]\u001b[A\u001b[A\u001b[A\n",
      "\n",
      "\n",
      "  0%|          | 0/1998 [00:00<?, ?it/s]\u001b[A\u001b[A\u001b[A\n",
      "\n",
      "\n",
      "  5%|▍         | 96/1998 [00:00<00:02, 861.03it/s]\u001b[A\u001b[A\u001b[A\n",
      "\n",
      "\n",
      " 12%|█▏        | 240/1998 [00:00<00:02, 799.63it/s]\u001b[A\u001b[A\u001b[A\n",
      "\n",
      "\n",
      " 17%|█▋        | 336/1998 [00:00<00:02, 799.16it/s]\u001b[A\u001b[A\u001b[A\n",
      "\n",
      "\n",
      " 22%|██▏       | 432/1998 [00:00<00:01, 791.17it/s]\u001b[A\u001b[A\u001b[A\n",
      "\n",
      "\n",
      " 26%|██▋       | 528/1998 [00:00<00:01, 738.43it/s]\u001b[A\u001b[A\u001b[A\n",
      "\n",
      "\n",
      " 31%|███       | 624/1998 [00:00<00:01, 739.40it/s]\u001b[A\u001b[A\u001b[A\n",
      "\n",
      "\n",
      " 36%|███▌      | 720/1998 [00:01<00:01, 684.33it/s]\u001b[A\u001b[A\u001b[A\n",
      "\n",
      "\n",
      " 41%|████      | 816/1998 [00:01<00:01, 698.54it/s]\u001b[A\u001b[A\u001b[A\n",
      "\n",
      "\n",
      " 46%|████▌     | 912/1998 [00:01<00:01, 690.31it/s]\u001b[A\u001b[A\u001b[A\n",
      "\n",
      "\n",
      " 50%|█████     | 1008/1998 [00:01<00:01, 713.68it/s]\u001b[A\u001b[A\u001b[A\n",
      "\n",
      "\n",
      " 55%|█████▌    | 1104/1998 [00:01<00:01, 693.92it/s]\u001b[A\u001b[A\u001b[A\n",
      "\n",
      "\n",
      " 60%|██████    | 1200/1998 [00:01<00:01, 675.44it/s]\u001b[A\u001b[A\u001b[A\n",
      "\n",
      "\n",
      " 65%|██████▍   | 1296/1998 [00:01<00:01, 700.48it/s]\u001b[A\u001b[A\u001b[A\n",
      "\n",
      "\n",
      " 70%|██████▉   | 1392/1998 [00:01<00:00, 717.08it/s]\u001b[A\u001b[A\u001b[A\n",
      "\n",
      "\n",
      " 74%|███████▍  | 1488/1998 [00:02<00:00, 714.05it/s]\u001b[A\u001b[A\u001b[A\n",
      "\n",
      "\n",
      " 79%|███████▉  | 1584/1998 [00:02<00:00, 709.04it/s]\u001b[A\u001b[A\u001b[A\n",
      "\n",
      "\n",
      " 84%|████████▍ | 1680/1998 [00:02<00:00, 730.38it/s]\u001b[A\u001b[A\u001b[A\n",
      "\n",
      "\n",
      " 89%|████████▉ | 1776/1998 [00:02<00:00, 722.76it/s]\u001b[A\u001b[A\u001b[A\n",
      "\n",
      "\n",
      " 94%|█████████▎| 1872/1998 [00:02<00:00, 730.28it/s]\u001b[A\u001b[A\u001b[A\n",
      "\n",
      "\n",
      " 98%|█████████▊| 1968/1998 [00:02<00:00, 735.55it/s]\u001b[A\u001b[A\u001b[A\n",
      "\n",
      "\n",
      "100%|██████████| 1998/1998 [00:02<00:00, 726.90it/s]\u001b[A\u001b[A\u001b[A\n",
      "\n",
      "\n",
      "  0%|          | 0/1998 [00:00<?, ?it/s]\u001b[A\u001b[A\u001b[A"
     ]
    },
    {
     "name": "stdout",
     "output_type": "stream",
     "text": [
      "voltages, bias:  200.04697042209622 0.354010050178249 0.3771732010445046\n"
     ]
    },
    {
     "name": "stderr",
     "output_type": "stream",
     "text": [
      "\n",
      "\n",
      "\n",
      "  5%|▍         | 96/1998 [00:00<00:05, 375.90it/s]\u001b[A\u001b[A\u001b[A\n",
      "\n",
      "\n",
      "  7%|▋         | 144/1998 [00:00<00:08, 230.47it/s]\u001b[A\u001b[A\u001b[A\n",
      "\n",
      "\n",
      " 10%|▉         | 192/1998 [00:00<00:09, 198.27it/s]\u001b[A\u001b[A\u001b[A\n",
      "\n",
      "\n",
      " 12%|█▏        | 240/1998 [00:01<00:11, 154.23it/s]\u001b[A\u001b[A\u001b[A\n",
      "\n",
      "\n",
      " 14%|█▍        | 288/1998 [00:01<00:12, 134.35it/s]\u001b[A\u001b[A\u001b[A\n",
      "\n",
      "\n",
      " 17%|█▋        | 336/1998 [00:02<00:12, 129.57it/s]\u001b[A\u001b[A\u001b[A\n",
      "\n",
      "\n",
      " 19%|█▉        | 384/1998 [00:02<00:13, 119.53it/s]\u001b[A\u001b[A\u001b[A\n",
      "\n",
      "\n",
      " 22%|██▏       | 432/1998 [00:03<00:13, 112.57it/s]\u001b[A\u001b[A\u001b[A\n",
      "\n",
      "\n",
      " 24%|██▍       | 480/1998 [00:03<00:13, 110.17it/s]\u001b[A\u001b[A\u001b[A\n",
      "\n",
      "\n",
      " 26%|██▋       | 528/1998 [00:04<00:13, 110.65it/s]\u001b[A\u001b[A\u001b[A\n",
      "\n",
      "\n",
      " 29%|██▉       | 576/1998 [00:04<00:13, 107.06it/s]\u001b[A\u001b[A\u001b[A\n",
      "\n",
      "\n",
      " 31%|███       | 624/1998 [00:05<00:12, 106.10it/s]\u001b[A\u001b[A\u001b[A\n",
      "\n",
      "\n",
      " 34%|███▎      | 672/1998 [00:05<00:12, 106.66it/s]\u001b[A\u001b[A\u001b[A\n",
      "\n",
      "\n",
      " 36%|███▌      | 720/1998 [00:05<00:11, 108.86it/s]\u001b[A\u001b[A\u001b[A\n",
      "\n",
      "\n",
      " 38%|███▊      | 768/1998 [00:06<00:11, 107.08it/s]\u001b[A\u001b[A\u001b[A\n",
      "\n",
      "\n",
      " 41%|████      | 816/1998 [00:06<00:11, 105.46it/s]\u001b[A\u001b[A\u001b[A\n",
      "\n",
      "\n",
      " 43%|████▎     | 864/1998 [00:07<00:11, 101.82it/s]\u001b[A\u001b[A\u001b[A\n",
      "\n",
      "\n",
      " 46%|████▌     | 912/1998 [00:07<00:09, 108.66it/s]\u001b[A\u001b[A\u001b[A\n",
      "\n",
      "\n",
      " 48%|████▊     | 960/1998 [00:08<00:09, 106.15it/s]\u001b[A\u001b[A\u001b[A\n",
      "\n",
      "\n",
      " 50%|█████     | 1008/1998 [00:08<00:09, 106.28it/s]\u001b[A\u001b[A\u001b[A\n",
      "\n",
      "\n",
      " 53%|█████▎    | 1056/1998 [00:09<00:09, 99.50it/s] \u001b[A\u001b[A\u001b[A\n",
      "\n",
      "\n",
      " 55%|█████▌    | 1104/1998 [00:09<00:08, 105.89it/s]\u001b[A\u001b[A\u001b[A\n",
      "\n",
      "\n",
      " 58%|█████▊    | 1152/1998 [00:10<00:08, 102.68it/s]\u001b[A\u001b[A\u001b[A\n",
      "\n",
      "\n",
      " 60%|██████    | 1200/1998 [00:10<00:07, 103.19it/s]\u001b[A\u001b[A\u001b[A\n",
      "\n",
      "\n",
      " 62%|██████▏   | 1248/1998 [00:11<00:07, 104.21it/s]\u001b[A\u001b[A\u001b[A\n",
      "\n",
      "\n",
      " 65%|██████▍   | 1296/1998 [00:11<00:06, 105.64it/s]\u001b[A\u001b[A\u001b[A\n",
      "\n",
      "\n",
      " 67%|██████▋   | 1344/1998 [00:11<00:06, 106.97it/s]\u001b[A\u001b[A\u001b[A\n",
      "\n",
      "\n",
      " 70%|██████▉   | 1392/1998 [00:12<00:05, 103.32it/s]\u001b[A\u001b[A\u001b[A\n",
      "\n",
      "\n",
      " 72%|███████▏  | 1440/1998 [00:12<00:05, 106.66it/s]\u001b[A\u001b[A\u001b[A\n",
      "\n",
      "\n",
      " 74%|███████▍  | 1488/1998 [00:13<00:06, 84.68it/s] \u001b[A\u001b[A\u001b[A\n",
      "\n",
      "\n",
      " 77%|███████▋  | 1536/1998 [00:14<00:04, 93.55it/s]\u001b[A\u001b[A\u001b[A\n",
      "\n",
      "\n",
      " 79%|███████▉  | 1584/1998 [00:14<00:04, 96.88it/s]\u001b[A\u001b[A\u001b[A\n",
      "\n",
      "\n",
      " 82%|████████▏ | 1632/1998 [00:14<00:03, 100.53it/s]\u001b[A\u001b[A\u001b[A\n",
      "\n",
      "\n",
      " 84%|████████▍ | 1680/1998 [00:15<00:03, 102.42it/s]\u001b[A\u001b[A\u001b[A\n",
      "\n",
      "\n",
      " 86%|████████▋ | 1728/1998 [00:15<00:02, 103.36it/s]\u001b[A\u001b[A\u001b[A\n",
      "\n",
      "\n",
      " 89%|████████▉ | 1776/1998 [00:16<00:02, 104.84it/s]\u001b[A\u001b[A\u001b[A\n",
      "\n",
      "\n",
      " 91%|█████████▏| 1824/1998 [00:16<00:01, 106.84it/s]\u001b[A\u001b[A\u001b[A\n",
      "\n",
      "\n",
      " 94%|█████████▎| 1872/1998 [00:17<00:01, 109.26it/s]\u001b[A\u001b[A\u001b[A\n",
      "\n",
      "\n",
      " 96%|█████████▌| 1920/1998 [00:17<00:00, 104.73it/s]\u001b[A\u001b[A\u001b[A\n",
      "\n",
      "\n",
      " 98%|█████████▊| 1968/1998 [00:18<00:00, 105.52it/s]\u001b[A\u001b[A\u001b[A\n",
      "\n",
      "\n",
      "100%|██████████| 1998/1998 [00:18<00:00, 110.29it/s]\u001b[A\u001b[A\u001b[A\n",
      "\n",
      "\n",
      "  0%|          | 0/1998 [00:00<?, ?it/s]\u001b[A\u001b[A\u001b[A\n",
      "\n",
      "\n",
      "  5%|▍         | 96/1998 [00:00<00:02, 838.73it/s]\u001b[A\u001b[A\u001b[A\n",
      "\n",
      "\n",
      " 12%|█▏        | 240/1998 [00:00<00:02, 794.40it/s]\u001b[A\u001b[A\u001b[A\n",
      "\n",
      "\n",
      " 22%|██▏       | 432/1998 [00:00<00:01, 797.22it/s]\u001b[A\u001b[A\u001b[A\n",
      "\n",
      "\n",
      " 26%|██▋       | 528/1998 [00:00<00:01, 752.30it/s]\u001b[A\u001b[A\u001b[A\n",
      "\n",
      "\n",
      " 31%|███       | 624/1998 [00:00<00:01, 733.20it/s]\u001b[A\u001b[A\u001b[A\n",
      "\n",
      "\n",
      " 36%|███▌      | 720/1998 [00:00<00:01, 725.07it/s]\u001b[A\u001b[A\u001b[A\n",
      "\n",
      "\n",
      " 41%|████      | 816/1998 [00:01<00:01, 710.29it/s]\u001b[A\u001b[A\u001b[A\n",
      "\n",
      "\n",
      " 46%|████▌     | 912/1998 [00:01<00:01, 729.11it/s]\u001b[A\u001b[A\u001b[A\n",
      "\n",
      "\n",
      " 50%|█████     | 1008/1998 [00:01<00:01, 728.89it/s]\u001b[A\u001b[A\u001b[A\n",
      "\n",
      "\n",
      " 55%|█████▌    | 1104/1998 [00:01<00:01, 712.83it/s]\u001b[A\u001b[A\u001b[A\n",
      "\n",
      "\n",
      " 60%|██████    | 1200/1998 [00:01<00:01, 728.73it/s]\u001b[A\u001b[A\u001b[A\n",
      "\n",
      "\n",
      " 65%|██████▍   | 1296/1998 [00:01<00:00, 711.01it/s]\u001b[A\u001b[A\u001b[A\n",
      "\n",
      "\n",
      " 70%|██████▉   | 1392/1998 [00:01<00:00, 714.91it/s]\u001b[A\u001b[A\u001b[A\n",
      "\n",
      "\n",
      " 74%|███████▍  | 1488/1998 [00:02<00:00, 732.79it/s]\u001b[A\u001b[A\u001b[A\n",
      "\n",
      "\n",
      " 79%|███████▉  | 1584/1998 [00:02<00:00, 726.83it/s]\u001b[A\u001b[A\u001b[A\n",
      "\n",
      "\n",
      " 84%|████████▍ | 1680/1998 [00:02<00:00, 740.94it/s]\u001b[A\u001b[A\u001b[A\n",
      "\n",
      "\n",
      " 89%|████████▉ | 1776/1998 [00:02<00:00, 730.26it/s]\u001b[A\u001b[A\u001b[A\n",
      "\n",
      "\n",
      " 94%|█████████▎| 1872/1998 [00:02<00:00, 710.39it/s]\u001b[A\u001b[A\u001b[A\n",
      "\n",
      "\n",
      " 98%|█████████▊| 1968/1998 [00:02<00:00, 708.73it/s]\u001b[A\u001b[A\u001b[A\n",
      "\n",
      "\n",
      "100%|██████████| 1998/1998 [00:02<00:00, 733.08it/s]\u001b[A\u001b[A\u001b[A"
     ]
    }
   ],
   "source": [
    "folders = [r'/data/new_trap/20210622/bead1/Neutrality2/Y_alternate_20V_71Hz_height_0_spin_46kHz_files_5000/',\n",
    "            r\"/data/new_trap/20210622/bead1/Neutrality2/Relaxation_20210708/40V_norelax/\",\n",
    "    r'/data/new_trap/20210622/bead1/Neutrality2/Y_alternate_150V_71Hz_height_0_spin_46kHz_files_1000/', \n",
    "            r'/data/new_trap/20210622/bead1/Neutrality2/Y_alternate_200V_71Hz_height_0_spin_46kHz_files_5000/']\n",
    "\n",
    "#folders=[ r'/data/new_trap/20210622/bead1/Neutrality2/Y_alternate_50V_71Hz_height_4_spin_46kHz_files_1000/',\n",
    "#         r'/data/new_trap/20210622/bead1/Neutrality2/Y_alternate_50V_71Hz_height_4_spin_46kHz_files_1000_2/',\n",
    "#         r'/data/new_trap/20210622/bead1/Neutrality2/Y_alternate_50V_71Hz_height_-1_spin_46kHz_files_1000/']\n",
    "\n",
    "\n",
    "df =compare_millicharge_full_analysis_perFile(folders,fileNo=1998)"
   ]
  },
  {
   "cell_type": "code",
   "execution_count": 215,
   "metadata": {},
   "outputs": [
    {
     "name": "stdout",
     "output_type": "stream",
     "text": [
      "-0.00071321784322199 -0.0036044092851574747 0.00492787022294888 -0.018482399711610257\n"
     ]
    }
   ],
   "source": [
    "print(np.mean(df.B_1),np.mean(df.B_2),np.mean(df.B_3),np.mean(df.B_4))"
   ]
  },
  {
   "cell_type": "code",
   "execution_count": 216,
   "metadata": {},
   "outputs": [
    {
     "name": "stdout",
     "output_type": "stream",
     "text": [
      "0.040426975128497085 0.022008054233190542 0.004962209830687866 0.003928452828489371\n"
     ]
    }
   ],
   "source": [
    "print(np.std(df.G1_1),np.std(df.G1_2),np.std(df.G1_3),np.std(df.G1_4))"
   ]
  },
  {
   "cell_type": "code",
   "execution_count": 230,
   "metadata": {},
   "outputs": [
    {
     "data": {
      "text/plain": [
       "-0.37460601136422206"
      ]
     },
     "execution_count": 230,
     "metadata": {},
     "output_type": "execute_result"
    }
   ],
   "source": [
    "np.mean(df.A_4)/np.std(df.F1_4)"
   ]
  },
  {
   "cell_type": "code",
   "execution_count": null,
   "metadata": {},
   "outputs": [],
   "source": []
  },
  {
   "cell_type": "code",
   "execution_count": 198,
   "metadata": {},
   "outputs": [
    {
     "data": {
      "image/png": "[encoded data removed]",
      "text/plain": [
       "<Figure size 1152x864 with 1 Axes>"
      ]
     },
     "metadata": {
      "needs_background": "light"
     },
     "output_type": "display_data"
    }
   ],
   "source": [
    "plt.plot(df.F2_2.ewm(span=15,adjust=True).mean(),label=\"B1\")\n",
    "plt.plot(df.G2_2.ewm(span=15,adjust=True).mean(),label=\"A1\")\n",
    "#plt.plot(df.A_3.ewm(span=100,adjust=True).mean(),label=\"A20\")\n",
    "#plt.ylim(-0.01,0.01)\n",
    "#plt.plot(df.B_200.ewm(span=15,adjust=True).mean(),label=\"200\")\n",
    "plt.legend()\n",
    "plt.show()\n"
   ]
  },
  {
   "cell_type": "code",
   "execution_count": 180,
   "metadata": {},
   "outputs": [
    {
     "data": {
      "text/plain": [
       "[<matplotlib.lines.Line2D at 0x7ff1f3d856a0>]"
      ]
     },
     "execution_count": 180,
     "metadata": {},
     "output_type": "execute_result"
    },
    {
     "data": {
      "image/png": "[encoded data removed]",
      "text/plain": [
       "<Figure size 1152x864 with 1 Axes>"
      ]
     },
     "metadata": {
      "needs_background": "light"
     },
     "output_type": "display_data"
    }
   ],
   "source": [
    "plt.plot(np.divide(df.A_1.ewm(span=50,adjust=True).mean(),df.B_1.ewm(span=50,adjust=True).mean()),label=\"B20\")\n"
   ]
  },
  {
   "cell_type": "code",
   "execution_count": null,
   "metadata": {},
   "outputs": [],
   "source": [
    "folders = [r'/data/new_trap/20210622/bead1/Neutrality2/Y_alternate_150V_71Hz_height_0_spin_46kHz_files_1000/', \n",
    "           r'/data/new_trap/20210622/bead1/Neutrality2/Y_alternate_20V_71Hz_height_0_spin_46kHz_files_5000/']\n",
    "for folder in folders:\n",
    "    F1,F2,G1,G2 = compare_millicharge_AB_perFile(folder,fileNo=2000)\n",
    "    aList = []\n",
    "    bList = []\n",
    "    for i in range(1000):\n",
    "        A=F2[i]*0.85+F1[i]\n",
    "        B=G2[i]*0.85**2+G1[i]\n",
    "        aList.append(A)\n",
    "        bList.append(B)  \n",
    "    plt.title(folder)    \n",
    "    plt.plot(aList)\n",
    "    plt.plot(bList)\n",
    "    plt.show()"
   ]
  },
  {
   "cell_type": "code",
   "execution_count": null,
   "metadata": {},
   "outputs": [],
   "source": [
    "folders = [r'/data/new_trap/20210622/bead1/Neutrality2/Y_alternate_20V_71Hz_height_0_spin_46kHz_files_5000/',\n",
    "           r'/data/new_trap/20210622/bead1/Neutrality2/Y_alternate_150V_71Hz_height_0_spin_46kHz_files_1000/',  \n",
    "           r'/data/new_trap/20210622/bead1/Neutrality2/Y_alternate_200V_71Hz_height_0_spin_46kHz_files_5000/']\n",
    "\n",
    "for folder in folders:\n",
    "    F1,F2,G1,G2 = compare_millicharge_AB_perFile(folder,fileNo=2000)\n",
    "    aList = []\n",
    "    bList = []\n",
    "    for i in range(1000):\n",
    "        A=F2[i]*0.85+F1[i]\n",
    "        B=G2[i]*0.85**2+G1[i]\n",
    "        aList.append(A)\n",
    "        bList.append(B)  \n",
    "    plt.title(folder)    \n",
    "    plt.plot(aList)\n",
    "    plt.plot(bList)\n",
    "    plt.show()\n"
   ]
  },
  {
   "cell_type": "code",
   "execution_count": null,
   "metadata": {},
   "outputs": [],
   "source": [
    "folders = [r'/data/new_trap/20210622/bead1/Neutrality2/Y_alternate_20V_71Hz_height_0_spin_46kHz_files_5000/',\n",
    "    r'/data/new_trap/20210622/bead1/Neutrality2/Y_alternate_150V_71Hz_height_0_spin_46kHz_files_1000/', \n",
    "            r'/data/new_trap/20210622/bead1/Neutrality2/Y_alternate_200V_71Hz_height_0_spin_46kHz_files_5000/']\n",
    "\n",
    "for folder in folders:\n",
    "    F1,F2,G1,G2 = compare_millicharge_AB_perFile(folder,fileNo=2000)\n",
    "    aList = []\n",
    "    bList = []\n",
    "    for i in range(1000):\n",
    "        A=F2[i]*0.85+F1[i]\n",
    "        B=G2[i]*0.85**2+G1[i]\n",
    "        aList.append(F1[i])\n",
    "        bList.append(F2[i])  \n",
    "    plt.title(folder)    \n",
    "    plt.plot(aList)\n",
    "    plt.plot(bList)\n",
    "    plt.show()\n"
   ]
  },
  {
   "cell_type": "code",
   "execution_count": null,
   "metadata": {},
   "outputs": [],
   "source": [
    "folders = [r'/data/new_trap/20210622/bead1/Neutrality2/Y_alternate_20V_71Hz_height_0_spin_46kHz_files_5000/',\n",
    "           r'/data/new_trap/20210622/bead1/Neutrality2/Y_alternate_150V_71Hz_height_0_spin_46kHz_files_1000/', \n",
    "           r'/data/new_trap/20210622/bead1/Neutrality2/Y_alternate_200V_71Hz_height_0_spin_46kHz_files_5000/']\n",
    "\n",
    "for folder in folders:\n",
    "    F1,F2,G1,G2 = compare_millicharge_AB_perFile(folder,fileNo=2000)\n",
    "    aList = []\n",
    "    bList = []\n",
    "    for i in range(1000):\n",
    "        A=F2[i]*0.85+F1[i]\n",
    "        B=G2[i]*0.85**2+G1[i]\n",
    "        aList.append(G1[i])\n",
    "        bList.append(G2[i])  \n",
    "    plt.title(folder)    \n",
    "    plt.plot(aList)\n",
    "    plt.plot(bList)\n",
    "    plt.show()\n"
   ]
  },
  {
   "cell_type": "code",
   "execution_count": null,
   "metadata": {},
   "outputs": [],
   "source": []
  }
 ],
 "metadata": {
  "kernelspec": {
   "display_name": "Python 3",
   "language": "python",
   "name": "python3"
  },
  "language_info": {
   "codemirror_mode": {
    "name": "ipython",
    "version": 3
   },
   "file_extension": ".py",
   "mimetype": "text/x-python",
   "name": "python",
   "nbconvert_exporter": "python",
   "pygments_lexer": "ipython3",
   "version": "3.6.9"
  }
 },
 "nbformat": 4,
 "nbformat_minor": 4
}
