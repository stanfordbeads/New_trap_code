{
 "cells": [
  {
   "cell_type": "code",
   "execution_count": 22,
   "metadata": {},
   "outputs": [],
   "source": [
    "%run /home/analysis_user/New_trap_code/Tools/basic_packages.py\n",
    "\n",
    "plt.rcParams[\"figure.figsize\"] = (16,12)\n",
    "plt.rcParams[\"font.size\"] = 24\n",
    "plt.rcParams['xtick.labelsize'] = \"small\"\n",
    "plt.rcParams['ytick.labelsize'] = 36"
   ]
  },
  {
   "cell_type": "code",
   "execution_count": 38,
   "metadata": {},
   "outputs": [],
   "source": [
    "# load the files\n",
    "bead_date =20200614\n",
    "bead_number = 1\n",
    "dataset = \"Shaking/\"\n",
    "FOI = \"NoAttractorNoShaking6\"\n",
    "dirname =\"/data/new_trap/\" + str(bead_date) + \"/Bead%s/\" %bead_number +dataset\n",
    "filename = \"/data/new_trap/\" + str(bead_date) + \"/Bead%s/\" %bead_number +dataset + FOI"
   ]
  },
  {
   "cell_type": "code",
   "execution_count": 39,
   "metadata": {},
   "outputs": [
    {
     "name": "stderr",
     "output_type": "stream",
     "text": [
      "  0%|          | 0/60 [00:00<?, ?it/s]"
     ]
    },
    {
     "name": "stdout",
     "output_type": "stream",
     "text": [
      "6000  files in folder\n",
      "100  files loaded\n",
      "1\n"
     ]
    },
    {
     "name": "stderr",
     "output_type": "stream",
     "text": [
      "  2%|▏         | 1/60 [00:08<08:14,  8.38s/it]"
     ]
    },
    {
     "name": "stdout",
     "output_type": "stream",
     "text": [
      "6000  files in folder\n",
      "100  files loaded\n",
      "1\n"
     ]
    },
    {
     "name": "stderr",
     "output_type": "stream",
     "text": [
      "  3%|▎         | 2/60 [00:16<07:57,  8.24s/it]"
     ]
    },
    {
     "name": "stdout",
     "output_type": "stream",
     "text": [
      "6000  files in folder\n",
      "100  files loaded\n",
      "1\n"
     ]
    },
    {
     "name": "stderr",
     "output_type": "stream",
     "text": [
      "  5%|▌         | 3/60 [00:24<07:43,  8.13s/it]"
     ]
    },
    {
     "name": "stdout",
     "output_type": "stream",
     "text": [
      "6000  files in folder\n",
      "100  files loaded\n",
      "1\n"
     ]
    },
    {
     "name": "stderr",
     "output_type": "stream",
     "text": [
      "  7%|▋         | 4/60 [00:31<07:23,  7.91s/it]"
     ]
    },
    {
     "name": "stdout",
     "output_type": "stream",
     "text": [
      "6000  files in folder\n",
      "100  files loaded\n",
      "1\n"
     ]
    },
    {
     "name": "stderr",
     "output_type": "stream",
     "text": [
      "  8%|▊         | 5/60 [00:38<07:04,  7.72s/it]"
     ]
    },
    {
     "name": "stdout",
     "output_type": "stream",
     "text": [
      "6000  files in folder\n",
      "100  files loaded\n",
      "1\n"
     ]
    },
    {
     "name": "stderr",
     "output_type": "stream",
     "text": [
      " 10%|█         | 6/60 [00:47<07:13,  8.03s/it]"
     ]
    },
    {
     "name": "stdout",
     "output_type": "stream",
     "text": [
      "6000  files in folder\n",
      "100  files loaded\n",
      "1\n"
     ]
    },
    {
     "name": "stderr",
     "output_type": "stream",
     "text": [
      " 12%|█▏        | 7/60 [00:59<08:09,  9.24s/it]"
     ]
    },
    {
     "name": "stdout",
     "output_type": "stream",
     "text": [
      "6000  files in folder\n",
      "100  files loaded\n",
      "1\n"
     ]
    },
    {
     "name": "stderr",
     "output_type": "stream",
     "text": [
      " 13%|█▎        | 8/60 [01:09<08:17,  9.56s/it]"
     ]
    },
    {
     "name": "stdout",
     "output_type": "stream",
     "text": [
      "6000  files in folder\n",
      "100  files loaded\n",
      "1\n"
     ]
    },
    {
     "name": "stderr",
     "output_type": "stream",
     "text": [
      " 15%|█▌        | 9/60 [01:20<08:26,  9.93s/it]"
     ]
    },
    {
     "name": "stdout",
     "output_type": "stream",
     "text": [
      "6000  files in folder\n",
      "100  files loaded\n",
      "1\n"
     ]
    },
    {
     "name": "stderr",
     "output_type": "stream",
     "text": [
      " 17%|█▋        | 10/60 [01:31<08:29, 10.19s/it]"
     ]
    },
    {
     "name": "stdout",
     "output_type": "stream",
     "text": [
      "6000  files in folder\n",
      "100  files loaded\n",
      "1\n"
     ]
    },
    {
     "name": "stderr",
     "output_type": "stream",
     "text": [
      " 18%|█▊        | 11/60 [01:42<08:28, 10.38s/it]"
     ]
    },
    {
     "name": "stdout",
     "output_type": "stream",
     "text": [
      "6000  files in folder\n",
      "100  files loaded\n",
      "1\n"
     ]
    },
    {
     "name": "stderr",
     "output_type": "stream",
     "text": [
      " 20%|██        | 12/60 [01:54<08:42, 10.88s/it]"
     ]
    },
    {
     "name": "stdout",
     "output_type": "stream",
     "text": [
      "6000  files in folder\n",
      "100  files loaded\n",
      "1\n"
     ]
    },
    {
     "name": "stderr",
     "output_type": "stream",
     "text": [
      " 22%|██▏       | 13/60 [02:06<08:47, 11.23s/it]"
     ]
    },
    {
     "name": "stdout",
     "output_type": "stream",
     "text": [
      "6000  files in folder\n",
      "100  files loaded\n",
      "1\n"
     ]
    },
    {
     "name": "stderr",
     "output_type": "stream",
     "text": [
      " 23%|██▎       | 14/60 [02:17<08:33, 11.15s/it]"
     ]
    },
    {
     "name": "stdout",
     "output_type": "stream",
     "text": [
      "6000  files in folder\n",
      "100  files loaded\n",
      "1\n"
     ]
    },
    {
     "name": "stderr",
     "output_type": "stream",
     "text": [
      " 25%|██▌       | 15/60 [02:27<08:06, 10.82s/it]"
     ]
    },
    {
     "name": "stdout",
     "output_type": "stream",
     "text": [
      "6000  files in folder\n",
      "100  files loaded\n",
      "1\n"
     ]
    },
    {
     "name": "stderr",
     "output_type": "stream",
     "text": [
      " 27%|██▋       | 16/60 [02:38<07:54, 10.77s/it]"
     ]
    },
    {
     "name": "stdout",
     "output_type": "stream",
     "text": [
      "6000  files in folder\n",
      "100  files loaded\n",
      "1\n"
     ]
    },
    {
     "name": "stderr",
     "output_type": "stream",
     "text": [
      " 28%|██▊       | 17/60 [02:48<07:41, 10.72s/it]"
     ]
    },
    {
     "name": "stdout",
     "output_type": "stream",
     "text": [
      "6000  files in folder\n",
      "100  files loaded\n",
      "1\n"
     ]
    },
    {
     "name": "stderr",
     "output_type": "stream",
     "text": [
      " 30%|███       | 18/60 [03:00<07:44, 11.06s/it]"
     ]
    },
    {
     "name": "stdout",
     "output_type": "stream",
     "text": [
      "6000  files in folder\n",
      "100  files loaded\n",
      "1\n"
     ]
    },
    {
     "name": "stderr",
     "output_type": "stream",
     "text": [
      " 32%|███▏      | 19/60 [03:11<07:30, 11.00s/it]"
     ]
    },
    {
     "name": "stdout",
     "output_type": "stream",
     "text": [
      "6000  files in folder\n",
      "100  files loaded\n",
      "1\n"
     ]
    },
    {
     "name": "stderr",
     "output_type": "stream",
     "text": [
      " 33%|███▎      | 20/60 [03:21<07:13, 10.84s/it]"
     ]
    },
    {
     "name": "stdout",
     "output_type": "stream",
     "text": [
      "6000  files in folder\n",
      "100  files loaded\n",
      "1\n"
     ]
    },
    {
     "name": "stderr",
     "output_type": "stream",
     "text": [
      " 35%|███▌      | 21/60 [03:31<06:51, 10.54s/it]"
     ]
    },
    {
     "name": "stdout",
     "output_type": "stream",
     "text": [
      "6000  files in folder\n",
      "100  files loaded\n",
      "1\n"
     ]
    },
    {
     "name": "stderr",
     "output_type": "stream",
     "text": [
      " 37%|███▋      | 22/60 [03:41<06:36, 10.43s/it]"
     ]
    },
    {
     "name": "stdout",
     "output_type": "stream",
     "text": [
      "6000  files in folder\n",
      "100  files loaded\n",
      "1\n"
     ]
    },
    {
     "name": "stderr",
     "output_type": "stream",
     "text": [
      " 38%|███▊      | 23/60 [03:53<06:43, 10.90s/it]"
     ]
    },
    {
     "name": "stdout",
     "output_type": "stream",
     "text": [
      "6000  files in folder\n",
      "100  files loaded\n",
      "1\n"
     ]
    },
    {
     "name": "stderr",
     "output_type": "stream",
     "text": [
      " 40%|████      | 24/60 [04:06<06:45, 11.27s/it]"
     ]
    },
    {
     "name": "stdout",
     "output_type": "stream",
     "text": [
      "6000  files in folder\n",
      "100  files loaded\n",
      "1\n"
     ]
    },
    {
     "name": "stderr",
     "output_type": "stream",
     "text": [
      " 42%|████▏     | 25/60 [04:17<06:36, 11.33s/it]"
     ]
    },
    {
     "name": "stdout",
     "output_type": "stream",
     "text": [
      "6000  files in folder\n",
      "100  files loaded\n",
      "1\n"
     ]
    },
    {
     "name": "stderr",
     "output_type": "stream",
     "text": [
      " 43%|████▎     | 26/60 [04:27<06:10, 10.91s/it]"
     ]
    },
    {
     "name": "stdout",
     "output_type": "stream",
     "text": [
      "6000  files in folder\n",
      "100  files loaded\n",
      "1\n"
     ]
    },
    {
     "name": "stderr",
     "output_type": "stream",
     "text": [
      " 45%|████▌     | 27/60 [04:37<05:48, 10.55s/it]"
     ]
    },
    {
     "name": "stdout",
     "output_type": "stream",
     "text": [
      "6000  files in folder\n",
      "100  files loaded\n",
      "1\n"
     ]
    },
    {
     "name": "stderr",
     "output_type": "stream",
     "text": [
      " 47%|████▋     | 28/60 [04:48<05:40, 10.65s/it]"
     ]
    },
    {
     "name": "stdout",
     "output_type": "stream",
     "text": [
      "6000  files in folder\n",
      "100  files loaded\n",
      "1\n"
     ]
    },
    {
     "name": "stderr",
     "output_type": "stream",
     "text": [
      " 48%|████▊     | 29/60 [05:00<05:43, 11.09s/it]"
     ]
    },
    {
     "name": "stdout",
     "output_type": "stream",
     "text": [
      "6000  files in folder\n",
      "100  files loaded\n",
      "1\n"
     ]
    },
    {
     "name": "stderr",
     "output_type": "stream",
     "text": [
      " 50%|█████     | 30/60 [05:11<05:33, 11.13s/it]"
     ]
    },
    {
     "name": "stdout",
     "output_type": "stream",
     "text": [
      "6000  files in folder\n",
      "100  files loaded\n",
      "1\n"
     ]
    },
    {
     "name": "stderr",
     "output_type": "stream",
     "text": [
      " 52%|█████▏    | 31/60 [05:22<05:18, 10.99s/it]"
     ]
    },
    {
     "name": "stdout",
     "output_type": "stream",
     "text": [
      "6000  files in folder\n",
      "100  files loaded\n",
      "1\n"
     ]
    },
    {
     "name": "stderr",
     "output_type": "stream",
     "text": [
      " 53%|█████▎    | 32/60 [05:32<05:05, 10.92s/it]"
     ]
    },
    {
     "name": "stdout",
     "output_type": "stream",
     "text": [
      "6000  files in folder\n",
      "100  files loaded\n",
      "1\n"
     ]
    },
    {
     "name": "stderr",
     "output_type": "stream",
     "text": [
      " 55%|█████▌    | 33/60 [05:43<04:50, 10.77s/it]"
     ]
    },
    {
     "name": "stdout",
     "output_type": "stream",
     "text": [
      "6000  files in folder\n",
      "100  files loaded\n",
      "1\n"
     ]
    },
    {
     "name": "stderr",
     "output_type": "stream",
     "text": [
      " 57%|█████▋    | 34/60 [05:55<04:51, 11.20s/it]"
     ]
    },
    {
     "name": "stdout",
     "output_type": "stream",
     "text": [
      "6000  files in folder\n",
      "100  files loaded\n",
      "1\n"
     ]
    },
    {
     "name": "stderr",
     "output_type": "stream",
     "text": [
      " 58%|█████▊    | 35/60 [06:07<04:44, 11.38s/it]"
     ]
    },
    {
     "name": "stdout",
     "output_type": "stream",
     "text": [
      "6000  files in folder\n",
      "100  files loaded\n",
      "1\n"
     ]
    },
    {
     "name": "stderr",
     "output_type": "stream",
     "text": [
      " 60%|██████    | 36/60 [06:18<04:28, 11.19s/it]"
     ]
    },
    {
     "name": "stdout",
     "output_type": "stream",
     "text": [
      "6000  files in folder\n",
      "100  files loaded\n",
      "1\n"
     ]
    },
    {
     "name": "stderr",
     "output_type": "stream",
     "text": [
      " 62%|██████▏   | 37/60 [06:28<04:13, 11.02s/it]"
     ]
    },
    {
     "name": "stdout",
     "output_type": "stream",
     "text": [
      "6000  files in folder\n",
      "100  files loaded\n",
      "1\n"
     ]
    },
    {
     "name": "stderr",
     "output_type": "stream",
     "text": [
      " 63%|██████▎   | 38/60 [06:39<03:59, 10.88s/it]"
     ]
    },
    {
     "name": "stdout",
     "output_type": "stream",
     "text": [
      "6000  files in folder\n",
      "100  files loaded\n",
      "1\n"
     ]
    },
    {
     "name": "stderr",
     "output_type": "stream",
     "text": [
      " 65%|██████▌   | 39/60 [06:50<03:53, 11.13s/it]"
     ]
    },
    {
     "name": "stdout",
     "output_type": "stream",
     "text": [
      "6000  files in folder\n",
      "100  files loaded\n",
      "1\n"
     ]
    },
    {
     "name": "stderr",
     "output_type": "stream",
     "text": [
      " 67%|██████▋   | 40/60 [07:02<03:47, 11.36s/it]"
     ]
    },
    {
     "name": "stdout",
     "output_type": "stream",
     "text": [
      "6000  files in folder\n",
      "100  files loaded\n",
      "1\n"
     ]
    },
    {
     "name": "stderr",
     "output_type": "stream",
     "text": [
      " 68%|██████▊   | 41/60 [07:12<03:24, 10.75s/it]"
     ]
    },
    {
     "name": "stdout",
     "output_type": "stream",
     "text": [
      "6000  files in folder\n",
      "100  files loaded\n",
      "1\n"
     ]
    },
    {
     "name": "stderr",
     "output_type": "stream",
     "text": [
      " 70%|███████   | 42/60 [07:22<03:09, 10.54s/it]"
     ]
    },
    {
     "name": "stdout",
     "output_type": "stream",
     "text": [
      "6000  files in folder\n",
      "100  files loaded\n",
      "1\n"
     ]
    },
    {
     "name": "stderr",
     "output_type": "stream",
     "text": [
      " 72%|███████▏  | 43/60 [07:33<03:00, 10.64s/it]"
     ]
    },
    {
     "name": "stdout",
     "output_type": "stream",
     "text": [
      "6000  files in folder\n",
      "100  files loaded\n",
      "1\n"
     ]
    },
    {
     "name": "stderr",
     "output_type": "stream",
     "text": [
      " 73%|███████▎  | 44/60 [07:41<02:41, 10.06s/it]"
     ]
    },
    {
     "name": "stdout",
     "output_type": "stream",
     "text": [
      "6000  files in folder\n",
      "100  files loaded\n",
      "1\n"
     ]
    },
    {
     "name": "stderr",
     "output_type": "stream",
     "text": [
      " 75%|███████▌  | 45/60 [07:52<02:32, 10.18s/it]"
     ]
    },
    {
     "name": "stdout",
     "output_type": "stream",
     "text": [
      "6000  files in folder\n",
      "100  files loaded\n",
      "1\n"
     ]
    },
    {
     "name": "stderr",
     "output_type": "stream",
     "text": [
      " 77%|███████▋  | 46/60 [08:04<02:29, 10.67s/it]"
     ]
    },
    {
     "name": "stdout",
     "output_type": "stream",
     "text": [
      "6000  files in folder\n",
      "100  files loaded\n",
      "1\n"
     ]
    },
    {
     "name": "stderr",
     "output_type": "stream",
     "text": [
      " 78%|███████▊  | 47/60 [08:15<02:21, 10.92s/it]"
     ]
    },
    {
     "name": "stdout",
     "output_type": "stream",
     "text": [
      "6000  files in folder\n",
      "100  files loaded\n",
      "1\n"
     ]
    },
    {
     "name": "stderr",
     "output_type": "stream",
     "text": [
      " 80%|████████  | 48/60 [08:25<02:08, 10.68s/it]"
     ]
    },
    {
     "name": "stdout",
     "output_type": "stream",
     "text": [
      "6000  files in folder\n",
      "100  files loaded\n",
      "1\n"
     ]
    },
    {
     "name": "stderr",
     "output_type": "stream",
     "text": [
      " 82%|████████▏ | 49/60 [08:34<01:52, 10.27s/it]"
     ]
    },
    {
     "name": "stdout",
     "output_type": "stream",
     "text": [
      "6000  files in folder\n",
      "100  files loaded\n",
      "1\n"
     ]
    },
    {
     "name": "stderr",
     "output_type": "stream",
     "text": [
      " 83%|████████▎ | 50/60 [08:43<01:38,  9.83s/it]"
     ]
    },
    {
     "name": "stdout",
     "output_type": "stream",
     "text": [
      "6000  files in folder\n",
      "100  files loaded\n",
      "1\n"
     ]
    },
    {
     "name": "stderr",
     "output_type": "stream",
     "text": [
      " 85%|████████▌ | 51/60 [08:55<01:33, 10.39s/it]"
     ]
    },
    {
     "name": "stdout",
     "output_type": "stream",
     "text": [
      "6000  files in folder\n",
      "100  files loaded\n",
      "1\n"
     ]
    },
    {
     "name": "stderr",
     "output_type": "stream",
     "text": [
      " 87%|████████▋ | 52/60 [09:06<01:23, 10.50s/it]"
     ]
    },
    {
     "name": "stdout",
     "output_type": "stream",
     "text": [
      "6000  files in folder\n",
      "100  files loaded\n",
      "1\n"
     ]
    },
    {
     "name": "stderr",
     "output_type": "stream",
     "text": [
      " 88%|████████▊ | 53/60 [09:15<01:10, 10.05s/it]"
     ]
    },
    {
     "name": "stdout",
     "output_type": "stream",
     "text": [
      "6000  files in folder\n",
      "100  files loaded\n",
      "1\n"
     ]
    },
    {
     "name": "stderr",
     "output_type": "stream",
     "text": [
      " 90%|█████████ | 54/60 [09:23<00:56,  9.38s/it]"
     ]
    },
    {
     "name": "stdout",
     "output_type": "stream",
     "text": [
      "6000  files in folder\n",
      "100  files loaded\n",
      "1\n"
     ]
    },
    {
     "name": "stderr",
     "output_type": "stream",
     "text": [
      " 92%|█████████▏| 55/60 [09:31<00:45,  9.02s/it]"
     ]
    },
    {
     "name": "stdout",
     "output_type": "stream",
     "text": [
      "6000  files in folder\n",
      "100  files loaded\n",
      "1\n"
     ]
    },
    {
     "name": "stderr",
     "output_type": "stream",
     "text": [
      " 93%|█████████▎| 56/60 [09:38<00:34,  8.59s/it]"
     ]
    },
    {
     "name": "stdout",
     "output_type": "stream",
     "text": [
      "6000  files in folder\n",
      "100  files loaded\n",
      "1\n"
     ]
    },
    {
     "name": "stderr",
     "output_type": "stream",
     "text": [
      " 95%|█████████▌| 57/60 [09:47<00:25,  8.50s/it]"
     ]
    },
    {
     "name": "stdout",
     "output_type": "stream",
     "text": [
      "6000  files in folder\n",
      "100  files loaded\n",
      "1\n"
     ]
    },
    {
     "name": "stderr",
     "output_type": "stream",
     "text": [
      " 97%|█████████▋| 58/60 [09:56<00:17,  8.83s/it]"
     ]
    },
    {
     "name": "stdout",
     "output_type": "stream",
     "text": [
      "6000  files in folder\n",
      "100  files loaded\n",
      "1\n"
     ]
    },
    {
     "name": "stderr",
     "output_type": "stream",
     "text": [
      " 98%|█████████▊| 59/60 [10:07<00:09,  9.41s/it]"
     ]
    },
    {
     "name": "stdout",
     "output_type": "stream",
     "text": [
      "6000  files in folder\n",
      "100  files loaded\n",
      "1\n"
     ]
    },
    {
     "name": "stderr",
     "output_type": "stream",
     "text": [
      "100%|██████████| 60/60 [10:18<00:00,  9.93s/it]\n"
     ]
    },
    {
     "name": "stdout",
     "output_type": "stream",
     "text": [
      "Folder exists or you do not have permissions\n",
      "/data/new_trap_processed/processed_files/20200614/Bead1/Shaking/NoAttractorNoShaking6_main.pkl\n",
      "626.3254175186157\n"
     ]
    }
   ],
   "source": [
    "s = time.time()\n",
    "df = loop_run_harmonics_processor(bead_date,bead_number,dataset,FOI,start_file=0,no_harmonics=15,max_file=6000,save_file=True)\n",
    "e = time.time()\n",
    "print(e-s)"
   ]
  },
  {
   "cell_type": "code",
   "execution_count": 40,
   "metadata": {},
   "outputs": [
    {
     "data": {
      "text/html": [
       "<div>\n",
       "<style scoped>\n",
       "    .dataframe tbody tr th:only-of-type {\n",
       "        vertical-align: middle;\n",
       "    }\n",
       "\n",
       "    .dataframe tbody tr th {\n",
       "        vertical-align: top;\n",
       "    }\n",
       "\n",
       "    .dataframe thead th {\n",
       "        text-align: right;\n",
       "    }\n",
       "</style>\n",
       "<table border=\"1\" class=\"dataframe\">\n",
       "  <thead>\n",
       "    <tr style=\"text-align: right;\">\n",
       "      <th></th>\n",
       "      <th>start_time</th>\n",
       "      <th>stroke</th>\n",
       "      <th>x_mean</th>\n",
       "      <th>y_mean</th>\n",
       "      <th>z_mean</th>\n",
       "      <th>attractor_position_x</th>\n",
       "      <th>attractor_position_y</th>\n",
       "      <th>attractor_position_z</th>\n",
       "      <th>frequency</th>\n",
       "      <th>amplitude_x</th>\n",
       "      <th>...</th>\n",
       "      <th>phase_z</th>\n",
       "      <th>sideband_amplitude_x</th>\n",
       "      <th>sideband_amplitude_y</th>\n",
       "      <th>sideband_amplitude_z</th>\n",
       "      <th>sideband_phase_x</th>\n",
       "      <th>sideband_phase_y</th>\n",
       "      <th>sideband_phase_z</th>\n",
       "      <th>x_feedback</th>\n",
       "      <th>y_feedback</th>\n",
       "      <th>z_feedback</th>\n",
       "    </tr>\n",
       "  </thead>\n",
       "  <tbody>\n",
       "    <tr>\n",
       "      <th>0</th>\n",
       "      <td>1592331540178919331</td>\n",
       "      <td>0.180139</td>\n",
       "      <td>0.031579</td>\n",
       "      <td>0.054176</td>\n",
       "      <td>6.969175e+06</td>\n",
       "      <td>-0.010525</td>\n",
       "      <td>9.882579</td>\n",
       "      <td>3.873434</td>\n",
       "      <td>[1, 2, 3, 4, 5, 6, 7, 8, 9, 10, 11, 12, 13, 14...</td>\n",
       "      <td>[0.00041062428207662264, 8.414844784117314e-05...</td>\n",
       "      <td>...</td>\n",
       "      <td>[1.1390301228489617, 1.561356556540941, -1.928...</td>\n",
       "      <td>[1.168572702377567e-05, 3.811068643289414e-06,...</td>\n",
       "      <td>[1.5153924933313737e-05, 3.602558801390597e-06...</td>\n",
       "      <td>[13.237723000654588, 8.6069538927987, 6.557166...</td>\n",
       "      <td>[-1.178583944818324, 3.1403161765884207, -2.07...</td>\n",
       "      <td>[1.2007610277015703, -2.2940161954602503, 2.74...</td>\n",
       "      <td>[0.012780341900740726, 1.358559039656717, 1.01...</td>\n",
       "      <td>1000.00092</td>\n",
       "      <td>1000.00198</td>\n",
       "      <td>1130.38676</td>\n",
       "    </tr>\n",
       "    <tr>\n",
       "      <th>1</th>\n",
       "      <td>1592331550951248658</td>\n",
       "      <td>0.180269</td>\n",
       "      <td>0.032743</td>\n",
       "      <td>0.054321</td>\n",
       "      <td>6.973328e+06</td>\n",
       "      <td>-0.010514</td>\n",
       "      <td>9.882601</td>\n",
       "      <td>3.873442</td>\n",
       "      <td>[1, 2, 3, 4, 5, 6, 7, 8, 9, 10, 11, 12, 13, 14...</td>\n",
       "      <td>[0.00036553919875288585, 0.0002191706267814346...</td>\n",
       "      <td>...</td>\n",
       "      <td>[6.525975069552385, 2.1115768235733823, 2.8387...</td>\n",
       "      <td>[8.470149710283274e-06, 2.017831460268954e-05,...</td>\n",
       "      <td>[5.305003404208688e-06, 3.628281232887914e-06,...</td>\n",
       "      <td>[15.788957906877261, 16.17731772507646, 12.837...</td>\n",
       "      <td>[1.282909436218599, 2.448251881775868, 2.22252...</td>\n",
       "      <td>[-2.163699121120505, 0.9927375947866945, -2.72...</td>\n",
       "      <td>[0.3486100249696987, 1.3243657849412953, 0.730...</td>\n",
       "      <td>1000.00168</td>\n",
       "      <td>1000.00254</td>\n",
       "      <td>1161.46188</td>\n",
       "    </tr>\n",
       "    <tr>\n",
       "      <th>2</th>\n",
       "      <td>1592331561593171577</td>\n",
       "      <td>0.180380</td>\n",
       "      <td>0.032945</td>\n",
       "      <td>0.054017</td>\n",
       "      <td>6.977074e+06</td>\n",
       "      <td>-0.010524</td>\n",
       "      <td>9.882603</td>\n",
       "      <td>3.873402</td>\n",
       "      <td>[1, 2, 3, 4, 5, 6, 7, 8, 9, 10, 11, 12, 13, 14...</td>\n",
       "      <td>[0.00018014944291948735, 5.477489374322334e-05...</td>\n",
       "      <td>...</td>\n",
       "      <td>[-0.4297365459445339, -5.164031860585614, 4.85...</td>\n",
       "      <td>[4.737457416393868e-06, 1.2867034948898073e-05...</td>\n",
       "      <td>[1.1814414625783657e-05, 3.6263350184900366e-0...</td>\n",
       "      <td>[16.0055876661388, 19.4290788549298, 7.6595336...</td>\n",
       "      <td>[0.5619467060683434, -2.2062033635497547, 0.88...</td>\n",
       "      <td>[0.037668955134880854, 1.8581478731206413, 1.2...</td>\n",
       "      <td>[-0.37421533876990654, -0.21863594385064747, 1...</td>\n",
       "      <td>999.99654</td>\n",
       "      <td>1000.00086</td>\n",
       "      <td>1173.07346</td>\n",
       "    </tr>\n",
       "    <tr>\n",
       "      <th>3</th>\n",
       "      <td>1592331572234894486</td>\n",
       "      <td>0.180211</td>\n",
       "      <td>0.032190</td>\n",
       "      <td>0.054068</td>\n",
       "      <td>6.980236e+06</td>\n",
       "      <td>-0.010527</td>\n",
       "      <td>9.882625</td>\n",
       "      <td>3.873431</td>\n",
       "      <td>[1, 2, 3, 4, 5, 6, 7, 8, 9, 10, 11, 12, 13, 14...</td>\n",
       "      <td>[0.0001446980877957386, 0.0001520043885236725,...</td>\n",
       "      <td>...</td>\n",
       "      <td>[-5.99400556230485, 7.70389790620561, -3.30532...</td>\n",
       "      <td>[6.9290111680502146e-06, 4.944565504401039e-06...</td>\n",
       "      <td>[3.087572047858025e-05, 1.7906838765661257e-05...</td>\n",
       "      <td>[3.20612428906172, 2.3244265473209675, 7.52163...</td>\n",
       "      <td>[3.1186217214182093, 1.1414396564682074, -1.54...</td>\n",
       "      <td>[-1.7218716549354616, 2.839615220776191, 2.932...</td>\n",
       "      <td>[1.3625914573600488, -2.684425224375746, 0.750...</td>\n",
       "      <td>1000.00194</td>\n",
       "      <td>1000.00058</td>\n",
       "      <td>1168.79636</td>\n",
       "    </tr>\n",
       "    <tr>\n",
       "      <th>4</th>\n",
       "      <td>1592331582836815439</td>\n",
       "      <td>0.179888</td>\n",
       "      <td>0.031779</td>\n",
       "      <td>0.053762</td>\n",
       "      <td>6.983961e+06</td>\n",
       "      <td>-0.010525</td>\n",
       "      <td>9.882621</td>\n",
       "      <td>3.873397</td>\n",
       "      <td>[1, 2, 3, 4, 5, 6, 7, 8, 9, 10, 11, 12, 13, 14...</td>\n",
       "      <td>[0.0003466787257453087, 0.0001187476196706746,...</td>\n",
       "      <td>...</td>\n",
       "      <td>[4.344084091660944, 7.6471149274812085, -2.745...</td>\n",
       "      <td>[1.2236988847536451e-05, 1.2440372105233934e-0...</td>\n",
       "      <td>[1.2916439720484564e-05, 2.2563192423040755e-0...</td>\n",
       "      <td>[10.66061290224846, 6.956978962007534, 4.73592...</td>\n",
       "      <td>[-2.0927870156735144, -2.246292739951593, -1.4...</td>\n",
       "      <td>[-2.2151001085067294, -2.9325727034828732, -2....</td>\n",
       "      <td>[0.6536152372202776, -2.6219039638608637, 0.47...</td>\n",
       "      <td>999.99792</td>\n",
       "      <td>999.99810</td>\n",
       "      <td>1172.60488</td>\n",
       "    </tr>\n",
       "    <tr>\n",
       "      <th>...</th>\n",
       "      <td>...</td>\n",
       "      <td>...</td>\n",
       "      <td>...</td>\n",
       "      <td>...</td>\n",
       "      <td>...</td>\n",
       "      <td>...</td>\n",
       "      <td>...</td>\n",
       "      <td>...</td>\n",
       "      <td>...</td>\n",
       "      <td>...</td>\n",
       "      <td>...</td>\n",
       "      <td>...</td>\n",
       "      <td>...</td>\n",
       "      <td>...</td>\n",
       "      <td>...</td>\n",
       "      <td>...</td>\n",
       "      <td>...</td>\n",
       "      <td>...</td>\n",
       "      <td>...</td>\n",
       "      <td>...</td>\n",
       "      <td>...</td>\n",
       "    </tr>\n",
       "    <tr>\n",
       "      <th>5995</th>\n",
       "      <td>1592395243774363321</td>\n",
       "      <td>0.179926</td>\n",
       "      <td>0.031128</td>\n",
       "      <td>0.040718</td>\n",
       "      <td>7.207530e+06</td>\n",
       "      <td>-0.010281</td>\n",
       "      <td>9.882817</td>\n",
       "      <td>3.873681</td>\n",
       "      <td>[1, 2, 3, 4, 5, 6, 7, 8, 9, 10, 11, 12, 13, 14...</td>\n",
       "      <td>[0.00019487729677821063, 0.0002090865595449691...</td>\n",
       "      <td>...</td>\n",
       "      <td>[2.394793832398144, 6.089881097046443, 4.88236...</td>\n",
       "      <td>[2.0736221677292817e-05, 7.819659577592885e-06...</td>\n",
       "      <td>[1.511192287096223e-05, 3.1895796035748717e-06...</td>\n",
       "      <td>[5.802897396411337, 3.508990016696706, 3.75997...</td>\n",
       "      <td>[2.3892603908310566, 2.6307657827835818, 0.365...</td>\n",
       "      <td>[1.4312941403234414, -1.1364731008794582, -0.4...</td>\n",
       "      <td>[2.415278612397662, 2.2701794420848853, 0.1115...</td>\n",
       "      <td>1000.00196</td>\n",
       "      <td>999.99926</td>\n",
       "      <td>176.71316</td>\n",
       "    </tr>\n",
       "    <tr>\n",
       "      <th>5996</th>\n",
       "      <td>1592395254308480943</td>\n",
       "      <td>0.180175</td>\n",
       "      <td>0.031201</td>\n",
       "      <td>0.040795</td>\n",
       "      <td>7.209786e+06</td>\n",
       "      <td>-0.010281</td>\n",
       "      <td>9.882813</td>\n",
       "      <td>3.873684</td>\n",
       "      <td>[1, 2, 3, 4, 5, 6, 7, 8, 9, 10, 11, 12, 13, 14...</td>\n",
       "      <td>[0.00017672536640625787, 9.158143565723886e-05...</td>\n",
       "      <td>...</td>\n",
       "      <td>[4.472933790179654, -3.6637111220047194, -4.63...</td>\n",
       "      <td>[2.2731652802990287e-05, 1.3112804007578224e-0...</td>\n",
       "      <td>[2.286904142440793e-05, 3.155363281420062e-05,...</td>\n",
       "      <td>[9.520691512306593, 5.4053746024613085, 7.9576...</td>\n",
       "      <td>[1.2219748362287874, 2.691332442496217, 0.6557...</td>\n",
       "      <td>[2.6888630801137228, 0.7090952449614479, -0.47...</td>\n",
       "      <td>[2.1517395336068654, 0.6970422478406416, -0.45...</td>\n",
       "      <td>999.99902</td>\n",
       "      <td>999.99850</td>\n",
       "      <td>169.70928</td>\n",
       "    </tr>\n",
       "    <tr>\n",
       "      <th>5997</th>\n",
       "      <td>1592395264862799557</td>\n",
       "      <td>0.179970</td>\n",
       "      <td>0.030986</td>\n",
       "      <td>0.040801</td>\n",
       "      <td>7.210418e+06</td>\n",
       "      <td>-0.010268</td>\n",
       "      <td>9.882805</td>\n",
       "      <td>3.873690</td>\n",
       "      <td>[1, 2, 3, 4, 5, 6, 7, 8, 9, 10, 11, 12, 13, 14...</td>\n",
       "      <td>[0.0005826017156122143, 0.00012684007524989814...</td>\n",
       "      <td>...</td>\n",
       "      <td>[1.1574129495787266, 7.25600180415058, 6.69824...</td>\n",
       "      <td>[1.2671708291978524e-05, 4.895344408766012e-06...</td>\n",
       "      <td>[1.4291209593220307e-05, 8.529416535323844e-06...</td>\n",
       "      <td>[11.554967397050532, 7.850482942651184, 7.9396...</td>\n",
       "      <td>[-0.2533544120953164, 2.5101210649603263, -2.6...</td>\n",
       "      <td>[-3.046152767048482, -1.5196453142324513, 1.66...</td>\n",
       "      <td>[1.9100399392531788, -0.6240658489126322, 2.64...</td>\n",
       "      <td>999.99850</td>\n",
       "      <td>999.99660</td>\n",
       "      <td>157.83506</td>\n",
       "    </tr>\n",
       "    <tr>\n",
       "      <th>5998</th>\n",
       "      <td>1592395275522723360</td>\n",
       "      <td>0.180055</td>\n",
       "      <td>0.030898</td>\n",
       "      <td>0.040686</td>\n",
       "      <td>7.209664e+06</td>\n",
       "      <td>-0.010274</td>\n",
       "      <td>9.882803</td>\n",
       "      <td>3.873692</td>\n",
       "      <td>[1, 2, 3, 4, 5, 6, 7, 8, 9, 10, 11, 12, 13, 14...</td>\n",
       "      <td>[0.00046323015917921584, 0.0001559089329414574...</td>\n",
       "      <td>...</td>\n",
       "      <td>[-9.163020029834883, 0.9817415763034781, 1.174...</td>\n",
       "      <td>[9.421940169755128e-06, 1.883468855754143e-05,...</td>\n",
       "      <td>[1.1912662409937404e-05, 1.6513172289451107e-0...</td>\n",
       "      <td>[10.22995553873428, 13.544849657771074, 3.6261...</td>\n",
       "      <td>[2.511280167819408, -1.8686845857590801, -2.35...</td>\n",
       "      <td>[1.5016458891427198, -1.2644703816581848, -2.8...</td>\n",
       "      <td>[-0.0016426214567781363, 2.3442941621553492, -...</td>\n",
       "      <td>999.99926</td>\n",
       "      <td>1000.00018</td>\n",
       "      <td>149.99528</td>\n",
       "    </tr>\n",
       "    <tr>\n",
       "      <th>5999</th>\n",
       "      <td>1592395286180047036</td>\n",
       "      <td>0.179995</td>\n",
       "      <td>0.030874</td>\n",
       "      <td>0.040803</td>\n",
       "      <td>7.210522e+06</td>\n",
       "      <td>-0.010275</td>\n",
       "      <td>9.882811</td>\n",
       "      <td>3.873729</td>\n",
       "      <td>[1, 2, 3, 4, 5, 6, 7, 8, 9, 10, 11, 12, 13, 14...</td>\n",
       "      <td>[0.00022611116380876227, 0.0001161334301108949...</td>\n",
       "      <td>...</td>\n",
       "      <td>[7.734264681149998, 5.388499644249718, -8.4798...</td>\n",
       "      <td>[1.2489122423260679e-05, 5.122662357918866e-06...</td>\n",
       "      <td>[1.4704025109409118e-05, 1.6621707306380738e-0...</td>\n",
       "      <td>[8.065344252750767, 15.07270698927951, 1.46232...</td>\n",
       "      <td>[-2.51349110681665, -0.9279956642522386, 2.320...</td>\n",
       "      <td>[1.9502297719987052, -2.786581129662361, 0.246...</td>\n",
       "      <td>[-2.1488228206383564, 1.328021826451527, 1.073...</td>\n",
       "      <td>999.99694</td>\n",
       "      <td>999.99888</td>\n",
       "      <td>148.69962</td>\n",
       "    </tr>\n",
       "  </tbody>\n",
       "</table>\n",
       "<p>6000 rows × 24 columns</p>\n",
       "</div>"
      ],
      "text/plain": [
       "               start_time    stroke    x_mean    y_mean        z_mean  \\\n",
       "0     1592331540178919331  0.180139  0.031579  0.054176  6.969175e+06   \n",
       "1     1592331550951248658  0.180269  0.032743  0.054321  6.973328e+06   \n",
       "2     1592331561593171577  0.180380  0.032945  0.054017  6.977074e+06   \n",
       "3     1592331572234894486  0.180211  0.032190  0.054068  6.980236e+06   \n",
       "4     1592331582836815439  0.179888  0.031779  0.053762  6.983961e+06   \n",
       "...                   ...       ...       ...       ...           ...   \n",
       "5995  1592395243774363321  0.179926  0.031128  0.040718  7.207530e+06   \n",
       "5996  1592395254308480943  0.180175  0.031201  0.040795  7.209786e+06   \n",
       "5997  1592395264862799557  0.179970  0.030986  0.040801  7.210418e+06   \n",
       "5998  1592395275522723360  0.180055  0.030898  0.040686  7.209664e+06   \n",
       "5999  1592395286180047036  0.179995  0.030874  0.040803  7.210522e+06   \n",
       "\n",
       "      attractor_position_x  attractor_position_y  attractor_position_z  \\\n",
       "0                -0.010525              9.882579              3.873434   \n",
       "1                -0.010514              9.882601              3.873442   \n",
       "2                -0.010524              9.882603              3.873402   \n",
       "3                -0.010527              9.882625              3.873431   \n",
       "4                -0.010525              9.882621              3.873397   \n",
       "...                    ...                   ...                   ...   \n",
       "5995             -0.010281              9.882817              3.873681   \n",
       "5996             -0.010281              9.882813              3.873684   \n",
       "5997             -0.010268              9.882805              3.873690   \n",
       "5998             -0.010274              9.882803              3.873692   \n",
       "5999             -0.010275              9.882811              3.873729   \n",
       "\n",
       "                                              frequency  \\\n",
       "0     [1, 2, 3, 4, 5, 6, 7, 8, 9, 10, 11, 12, 13, 14...   \n",
       "1     [1, 2, 3, 4, 5, 6, 7, 8, 9, 10, 11, 12, 13, 14...   \n",
       "2     [1, 2, 3, 4, 5, 6, 7, 8, 9, 10, 11, 12, 13, 14...   \n",
       "3     [1, 2, 3, 4, 5, 6, 7, 8, 9, 10, 11, 12, 13, 14...   \n",
       "4     [1, 2, 3, 4, 5, 6, 7, 8, 9, 10, 11, 12, 13, 14...   \n",
       "...                                                 ...   \n",
       "5995  [1, 2, 3, 4, 5, 6, 7, 8, 9, 10, 11, 12, 13, 14...   \n",
       "5996  [1, 2, 3, 4, 5, 6, 7, 8, 9, 10, 11, 12, 13, 14...   \n",
       "5997  [1, 2, 3, 4, 5, 6, 7, 8, 9, 10, 11, 12, 13, 14...   \n",
       "5998  [1, 2, 3, 4, 5, 6, 7, 8, 9, 10, 11, 12, 13, 14...   \n",
       "5999  [1, 2, 3, 4, 5, 6, 7, 8, 9, 10, 11, 12, 13, 14...   \n",
       "\n",
       "                                            amplitude_x  ...  \\\n",
       "0     [0.00041062428207662264, 8.414844784117314e-05...  ...   \n",
       "1     [0.00036553919875288585, 0.0002191706267814346...  ...   \n",
       "2     [0.00018014944291948735, 5.477489374322334e-05...  ...   \n",
       "3     [0.0001446980877957386, 0.0001520043885236725,...  ...   \n",
       "4     [0.0003466787257453087, 0.0001187476196706746,...  ...   \n",
       "...                                                 ...  ...   \n",
       "5995  [0.00019487729677821063, 0.0002090865595449691...  ...   \n",
       "5996  [0.00017672536640625787, 9.158143565723886e-05...  ...   \n",
       "5997  [0.0005826017156122143, 0.00012684007524989814...  ...   \n",
       "5998  [0.00046323015917921584, 0.0001559089329414574...  ...   \n",
       "5999  [0.00022611116380876227, 0.0001161334301108949...  ...   \n",
       "\n",
       "                                                phase_z  \\\n",
       "0     [1.1390301228489617, 1.561356556540941, -1.928...   \n",
       "1     [6.525975069552385, 2.1115768235733823, 2.8387...   \n",
       "2     [-0.4297365459445339, -5.164031860585614, 4.85...   \n",
       "3     [-5.99400556230485, 7.70389790620561, -3.30532...   \n",
       "4     [4.344084091660944, 7.6471149274812085, -2.745...   \n",
       "...                                                 ...   \n",
       "5995  [2.394793832398144, 6.089881097046443, 4.88236...   \n",
       "5996  [4.472933790179654, -3.6637111220047194, -4.63...   \n",
       "5997  [1.1574129495787266, 7.25600180415058, 6.69824...   \n",
       "5998  [-9.163020029834883, 0.9817415763034781, 1.174...   \n",
       "5999  [7.734264681149998, 5.388499644249718, -8.4798...   \n",
       "\n",
       "                                   sideband_amplitude_x  \\\n",
       "0     [1.168572702377567e-05, 3.811068643289414e-06,...   \n",
       "1     [8.470149710283274e-06, 2.017831460268954e-05,...   \n",
       "2     [4.737457416393868e-06, 1.2867034948898073e-05...   \n",
       "3     [6.9290111680502146e-06, 4.944565504401039e-06...   \n",
       "4     [1.2236988847536451e-05, 1.2440372105233934e-0...   \n",
       "...                                                 ...   \n",
       "5995  [2.0736221677292817e-05, 7.819659577592885e-06...   \n",
       "5996  [2.2731652802990287e-05, 1.3112804007578224e-0...   \n",
       "5997  [1.2671708291978524e-05, 4.895344408766012e-06...   \n",
       "5998  [9.421940169755128e-06, 1.883468855754143e-05,...   \n",
       "5999  [1.2489122423260679e-05, 5.122662357918866e-06...   \n",
       "\n",
       "                                   sideband_amplitude_y  \\\n",
       "0     [1.5153924933313737e-05, 3.602558801390597e-06...   \n",
       "1     [5.305003404208688e-06, 3.628281232887914e-06,...   \n",
       "2     [1.1814414625783657e-05, 3.6263350184900366e-0...   \n",
       "3     [3.087572047858025e-05, 1.7906838765661257e-05...   \n",
       "4     [1.2916439720484564e-05, 2.2563192423040755e-0...   \n",
       "...                                                 ...   \n",
       "5995  [1.511192287096223e-05, 3.1895796035748717e-06...   \n",
       "5996  [2.286904142440793e-05, 3.155363281420062e-05,...   \n",
       "5997  [1.4291209593220307e-05, 8.529416535323844e-06...   \n",
       "5998  [1.1912662409937404e-05, 1.6513172289451107e-0...   \n",
       "5999  [1.4704025109409118e-05, 1.6621707306380738e-0...   \n",
       "\n",
       "                                   sideband_amplitude_z  \\\n",
       "0     [13.237723000654588, 8.6069538927987, 6.557166...   \n",
       "1     [15.788957906877261, 16.17731772507646, 12.837...   \n",
       "2     [16.0055876661388, 19.4290788549298, 7.6595336...   \n",
       "3     [3.20612428906172, 2.3244265473209675, 7.52163...   \n",
       "4     [10.66061290224846, 6.956978962007534, 4.73592...   \n",
       "...                                                 ...   \n",
       "5995  [5.802897396411337, 3.508990016696706, 3.75997...   \n",
       "5996  [9.520691512306593, 5.4053746024613085, 7.9576...   \n",
       "5997  [11.554967397050532, 7.850482942651184, 7.9396...   \n",
       "5998  [10.22995553873428, 13.544849657771074, 3.6261...   \n",
       "5999  [8.065344252750767, 15.07270698927951, 1.46232...   \n",
       "\n",
       "                                       sideband_phase_x  \\\n",
       "0     [-1.178583944818324, 3.1403161765884207, -2.07...   \n",
       "1     [1.282909436218599, 2.448251881775868, 2.22252...   \n",
       "2     [0.5619467060683434, -2.2062033635497547, 0.88...   \n",
       "3     [3.1186217214182093, 1.1414396564682074, -1.54...   \n",
       "4     [-2.0927870156735144, -2.246292739951593, -1.4...   \n",
       "...                                                 ...   \n",
       "5995  [2.3892603908310566, 2.6307657827835818, 0.365...   \n",
       "5996  [1.2219748362287874, 2.691332442496217, 0.6557...   \n",
       "5997  [-0.2533544120953164, 2.5101210649603263, -2.6...   \n",
       "5998  [2.511280167819408, -1.8686845857590801, -2.35...   \n",
       "5999  [-2.51349110681665, -0.9279956642522386, 2.320...   \n",
       "\n",
       "                                       sideband_phase_y  \\\n",
       "0     [1.2007610277015703, -2.2940161954602503, 2.74...   \n",
       "1     [-2.163699121120505, 0.9927375947866945, -2.72...   \n",
       "2     [0.037668955134880854, 1.8581478731206413, 1.2...   \n",
       "3     [-1.7218716549354616, 2.839615220776191, 2.932...   \n",
       "4     [-2.2151001085067294, -2.9325727034828732, -2....   \n",
       "...                                                 ...   \n",
       "5995  [1.4312941403234414, -1.1364731008794582, -0.4...   \n",
       "5996  [2.6888630801137228, 0.7090952449614479, -0.47...   \n",
       "5997  [-3.046152767048482, -1.5196453142324513, 1.66...   \n",
       "5998  [1.5016458891427198, -1.2644703816581848, -2.8...   \n",
       "5999  [1.9502297719987052, -2.786581129662361, 0.246...   \n",
       "\n",
       "                                       sideband_phase_z  x_feedback  \\\n",
       "0     [0.012780341900740726, 1.358559039656717, 1.01...  1000.00092   \n",
       "1     [0.3486100249696987, 1.3243657849412953, 0.730...  1000.00168   \n",
       "2     [-0.37421533876990654, -0.21863594385064747, 1...   999.99654   \n",
       "3     [1.3625914573600488, -2.684425224375746, 0.750...  1000.00194   \n",
       "4     [0.6536152372202776, -2.6219039638608637, 0.47...   999.99792   \n",
       "...                                                 ...         ...   \n",
       "5995  [2.415278612397662, 2.2701794420848853, 0.1115...  1000.00196   \n",
       "5996  [2.1517395336068654, 0.6970422478406416, -0.45...   999.99902   \n",
       "5997  [1.9100399392531788, -0.6240658489126322, 2.64...   999.99850   \n",
       "5998  [-0.0016426214567781363, 2.3442941621553492, -...   999.99926   \n",
       "5999  [-2.1488228206383564, 1.328021826451527, 1.073...   999.99694   \n",
       "\n",
       "      y_feedback  z_feedback  \n",
       "0     1000.00198  1130.38676  \n",
       "1     1000.00254  1161.46188  \n",
       "2     1000.00086  1173.07346  \n",
       "3     1000.00058  1168.79636  \n",
       "4      999.99810  1172.60488  \n",
       "...          ...         ...  \n",
       "5995   999.99926   176.71316  \n",
       "5996   999.99850   169.70928  \n",
       "5997   999.99660   157.83506  \n",
       "5998  1000.00018   149.99528  \n",
       "5999   999.99888   148.69962  \n",
       "\n",
       "[6000 rows x 24 columns]"
      ]
     },
     "execution_count": 40,
     "metadata": {},
     "output_type": "execute_result"
    }
   ],
   "source": [
    "df"
   ]
  },
  {
   "cell_type": "code",
   "execution_count": null,
   "metadata": {},
   "outputs": [],
   "source": []
  }
 ],
 "metadata": {
  "kernelspec": {
   "display_name": "Python 3",
   "language": "python",
   "name": "python3"
  },
  "language_info": {
   "codemirror_mode": {
    "name": "ipython",
    "version": 3
   },
   "file_extension": ".py",
   "mimetype": "text/x-python",
   "name": "python",
   "nbconvert_exporter": "python",
   "pygments_lexer": "ipython3",
   "version": "3.6.9"
  }
 },
 "nbformat": 4,
 "nbformat_minor": 4
}
