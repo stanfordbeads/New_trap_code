{
 "cells": [
  {
   "cell_type": "code",
   "execution_count": 1,
   "metadata": {},
   "outputs": [],
   "source": [
    "%run /home/analysis_user/New_trap_code/Tools/basic_packages.py\n",
    "\n",
    "plt.rcParams[\"figure.figsize\"] = (16,12)\n",
    "plt.rcParams[\"font.size\"] = 24\n",
    "plt.rcParams['xtick.labelsize'] = \"small\"\n",
    "plt.rcParams['ytick.labelsize'] = 36"
   ]
  },
  {
   "cell_type": "code",
   "execution_count": 18,
   "metadata": {},
   "outputs": [],
   "source": [
    "# load the files\n",
    "bead_date =20200924\n",
    "bead_number = 1\n",
    "dataset = \"Shaking/Shaking340/\"\n",
    "FOI = \"SpinNoShaking4\"\n",
    "dirname =\"/data/new_trap/\" + str(bead_date) + \"/Bead%s/\" %bead_number +dataset\n",
    "filename = \"/data/new_trap/\" + str(bead_date) + \"/Bead%s/\" %bead_number +dataset + FOI"
   ]
  },
  {
   "cell_type": "code",
   "execution_count": 19,
   "metadata": {},
   "outputs": [
    {
     "name": "stderr",
     "output_type": "stream",
     "text": [
      "  0%|          | 0/60 [00:00<?, ?it/s]"
     ]
    },
    {
     "name": "stdout",
     "output_type": "stream",
     "text": [
      "1000  files in folder\n",
      "100  files loaded\n",
      "3\n"
     ]
    },
    {
     "name": "stderr",
     "output_type": "stream",
     "text": [
      "  2%|▏         | 1/60 [00:12<12:39, 12.87s/it]"
     ]
    },
    {
     "name": "stdout",
     "output_type": "stream",
     "text": [
      "1000  files in folder\n",
      "100  files loaded\n",
      "3\n"
     ]
    },
    {
     "name": "stderr",
     "output_type": "stream",
     "text": [
      "  3%|▎         | 2/60 [00:29<13:25, 13.89s/it]"
     ]
    },
    {
     "name": "stdout",
     "output_type": "stream",
     "text": [
      "1000  files in folder\n",
      "100  files loaded\n",
      "3\n"
     ]
    },
    {
     "name": "stderr",
     "output_type": "stream",
     "text": [
      "  5%|▌         | 3/60 [00:40<12:21, 13.02s/it]"
     ]
    },
    {
     "name": "stdout",
     "output_type": "stream",
     "text": [
      "1000  files in folder\n",
      "100  files loaded\n",
      "3\n"
     ]
    },
    {
     "name": "stderr",
     "output_type": "stream",
     "text": [
      "  7%|▋         | 4/60 [00:51<11:39, 12.49s/it]"
     ]
    },
    {
     "name": "stdout",
     "output_type": "stream",
     "text": [
      "1000  files in folder\n",
      "100  files loaded\n",
      "3\n"
     ]
    },
    {
     "name": "stderr",
     "output_type": "stream",
     "text": [
      "  8%|▊         | 5/60 [01:03<11:26, 12.48s/it]"
     ]
    },
    {
     "name": "stdout",
     "output_type": "stream",
     "text": [
      "1000  files in folder\n",
      "100  files loaded\n",
      "3\n"
     ]
    },
    {
     "name": "stderr",
     "output_type": "stream",
     "text": [
      " 10%|█         | 6/60 [01:16<11:15, 12.50s/it]"
     ]
    },
    {
     "name": "stdout",
     "output_type": "stream",
     "text": [
      "1000  files in folder\n",
      "100  files loaded\n",
      "3\n"
     ]
    },
    {
     "name": "stderr",
     "output_type": "stream",
     "text": [
      " 12%|█▏        | 7/60 [01:26<10:30, 11.89s/it]"
     ]
    },
    {
     "name": "stdout",
     "output_type": "stream",
     "text": [
      "1000  files in folder\n",
      "100  files loaded\n",
      "3\n"
     ]
    },
    {
     "name": "stderr",
     "output_type": "stream",
     "text": [
      " 13%|█▎        | 8/60 [01:37<09:52, 11.40s/it]"
     ]
    },
    {
     "name": "stdout",
     "output_type": "stream",
     "text": [
      "1000  files in folder\n",
      "100  files loaded\n",
      "3\n"
     ]
    },
    {
     "name": "stderr",
     "output_type": "stream",
     "text": [
      " 15%|█▌        | 9/60 [01:47<09:25, 11.10s/it]"
     ]
    },
    {
     "name": "stdout",
     "output_type": "stream",
     "text": [
      "1000  files in folder\n",
      "100  files loaded\n",
      "3\n"
     ]
    },
    {
     "name": "stderr",
     "output_type": "stream",
     "text": [
      " 32%|███▏      | 19/60 [01:59<03:44,  5.48s/it]"
     ]
    },
    {
     "name": "stdout",
     "output_type": "stream",
     "text": [
      "1000  files in folder\n",
      "0  files loaded\n",
      "The file number you specficed exeeds the maximum.\n",
      "1000  files in folder\n",
      "0  files loaded\n",
      "The file number you specficed exeeds the maximum.\n",
      "1000  files in folder\n",
      "0  files loaded\n",
      "The file number you specficed exeeds the maximum.\n",
      "1000  files in folder\n",
      "0  files loaded\n",
      "The file number you specficed exeeds the maximum.\n",
      "1000  files in folder\n",
      "0  files loaded\n",
      "The file number you specficed exeeds the maximum.\n",
      "1000  files in folder\n",
      "0  files loaded\n",
      "The file number you specficed exeeds the maximum.\n",
      "1000  files in folder\n",
      "0  files loaded\n",
      "The file number you specficed exeeds the maximum.\n",
      "1000  files in folder\n",
      "0  files loaded\n",
      "The file number you specficed exeeds the maximum.\n",
      "1000  files in folder\n",
      "0  files loaded\n",
      "The file number you specficed exeeds the maximum.\n"
     ]
    },
    {
     "name": "stderr",
     "output_type": "stream",
     "text": [
      " 40%|████      | 24/60 [01:59<02:18,  3.85s/it]"
     ]
    },
    {
     "name": "stdout",
     "output_type": "stream",
     "text": [
      "1000  files in folder\n",
      "0  files loaded\n",
      "The file number you specficed exeeds the maximum.\n",
      "1000  files in folder\n",
      "0  files loaded\n",
      "The file number you specficed exeeds the maximum.\n",
      "1000  files in folder\n",
      "0  files loaded\n",
      "The file number you specficed exeeds the maximum.\n",
      "1000  files in folder\n",
      "0  files loaded\n",
      "The file number you specficed exeeds the maximum.\n",
      "1000  files in folder\n",
      "0  files loaded\n",
      "The file number you specficed exeeds the maximum.\n",
      "1000  files in folder\n",
      "0  files loaded\n",
      "The file number you specficed exeeds the maximum.\n",
      "1000  files in folder\n",
      "0  files loaded\n",
      "The file number you specficed exeeds the maximum.\n",
      "1000  files in folder\n",
      "0  files loaded\n",
      "The file number you specficed exeeds the maximum.\n",
      "1000  files in folder\n",
      "0  files loaded\n",
      "The file number you specficed exeeds the maximum.\n"
     ]
    },
    {
     "name": "stderr",
     "output_type": "stream",
     "text": [
      " 57%|█████▋    | 34/60 [01:59<00:49,  1.90s/it]"
     ]
    },
    {
     "name": "stdout",
     "output_type": "stream",
     "text": [
      "1000  files in folder\n",
      "0  files loaded\n",
      "The file number you specficed exeeds the maximum.\n",
      "1000  files in folder\n",
      "0  files loaded\n",
      "The file number you specficed exeeds the maximum.\n",
      "1000  files in folder\n",
      "0  files loaded\n",
      "The file number you specficed exeeds the maximum.\n",
      "1000  files in folder\n",
      "0  files loaded\n",
      "The file number you specficed exeeds the maximum.\n",
      "1000  files in folder\n",
      "0  files loaded\n",
      "The file number you specficed exeeds the maximum.\n",
      "1000  files in folder\n",
      "0  files loaded\n",
      "The file number you specficed exeeds the maximum.\n",
      "1000  files in folder\n",
      "0  files loaded\n",
      "The file number you specficed exeeds the maximum.\n",
      "1000  files in folder\n",
      "0  files loaded\n",
      "The file number you specficed exeeds the maximum.\n",
      "1000  files in folder\n",
      "0  files loaded\n",
      "The file number you specficed exeeds the maximum.\n"
     ]
    },
    {
     "name": "stderr",
     "output_type": "stream",
     "text": [
      " 73%|███████▎  | 44/60 [01:59<00:15,  1.06it/s]"
     ]
    },
    {
     "name": "stdout",
     "output_type": "stream",
     "text": [
      "1000  files in folder\n",
      "0  files loaded\n",
      "The file number you specficed exeeds the maximum.\n",
      "1000  files in folder\n",
      "0  files loaded\n",
      "The file number you specficed exeeds the maximum.\n",
      "1000  files in folder\n",
      "0  files loaded\n",
      "The file number you specficed exeeds the maximum.\n",
      "1000  files in folder\n",
      "0  files loaded\n",
      "The file number you specficed exeeds the maximum.\n",
      "1000  files in folder\n",
      "0  files loaded\n",
      "The file number you specficed exeeds the maximum.\n",
      "1000  files in folder\n",
      "0  files loaded\n",
      "The file number you specficed exeeds the maximum.\n",
      "1000  files in folder\n",
      "0  files loaded\n",
      "The file number you specficed exeeds the maximum.\n",
      "1000  files in folder\n",
      "0  files loaded\n",
      "The file number you specficed exeeds the maximum.\n",
      "1000  files in folder\n",
      "0  files loaded\n",
      "The file number you specficed exeeds the maximum.\n"
     ]
    },
    {
     "name": "stderr",
     "output_type": "stream",
     "text": [
      " 90%|█████████ | 54/60 [01:59<00:02,  2.11it/s]"
     ]
    },
    {
     "name": "stdout",
     "output_type": "stream",
     "text": [
      "1000  files in folder\n",
      "0  files loaded\n",
      "The file number you specficed exeeds the maximum.\n",
      "1000  files in folder\n",
      "0  files loaded\n",
      "The file number you specficed exeeds the maximum.\n",
      "1000  files in folder\n",
      "0  files loaded\n",
      "The file number you specficed exeeds the maximum.\n",
      "1000  files in folder\n",
      "0  files loaded\n",
      "The file number you specficed exeeds the maximum.\n",
      "1000  files in folder\n",
      "0  files loaded\n",
      "The file number you specficed exeeds the maximum.\n",
      "1000  files in folder\n",
      "0  files loaded\n",
      "The file number you specficed exeeds the maximum.\n",
      "1000  files in folder\n",
      "0  files loaded\n",
      "The file number you specficed exeeds the maximum.\n",
      "1000  files in folder\n",
      "0  files loaded\n",
      "The file number you specficed exeeds the maximum.\n",
      "1000  files in folder\n",
      "0  files loaded\n",
      "The file number you specficed exeeds the maximum.\n"
     ]
    },
    {
     "name": "stderr",
     "output_type": "stream",
     "text": [
      "100%|██████████| 60/60 [02:00<00:00,  2.00s/it]\n"
     ]
    },
    {
     "name": "stdout",
     "output_type": "stream",
     "text": [
      "1000  files in folder\n",
      "0  files loaded\n",
      "The file number you specficed exeeds the maximum.\n",
      "1000  files in folder\n",
      "0  files loaded\n",
      "The file number you specficed exeeds the maximum.\n",
      "1000  files in folder\n",
      "0  files loaded\n",
      "The file number you specficed exeeds the maximum.\n",
      "1000  files in folder\n",
      "0  files loaded\n",
      "The file number you specficed exeeds the maximum.\n",
      "1000  files in folder\n",
      "0  files loaded\n",
      "The file number you specficed exeeds the maximum.\n",
      "Folder exists or you do not have permissions\n",
      "/data/new_trap_processed/processed_files/20200924/Bead1/Shaking/Shaking340/SpinNoShaking4_main.pkl\n",
      "121.30542206764221\n"
     ]
    }
   ],
   "source": [
    "s = time.time()\n",
    "df = loop_run_harmonics_processor(bead_date,bead_number,dataset,FOI,start_file=0,no_harmonics=15,max_file=6000,save_file=True)\n",
    "e = time.time()\n",
    "print(e-s)"
   ]
  },
  {
   "cell_type": "code",
   "execution_count": null,
   "metadata": {},
   "outputs": [],
   "source": []
  }
 ],
 "metadata": {
  "kernelspec": {
   "display_name": "Python 3",
   "language": "python",
   "name": "python3"
  },
  "language_info": {
   "codemirror_mode": {
    "name": "ipython",
    "version": 3
   },
   "file_extension": ".py",
   "mimetype": "text/x-python",
   "name": "python",
   "nbconvert_exporter": "python",
   "pygments_lexer": "ipython3",
   "version": "3.6.9"
  },
  "widgets": {
   "application/vnd.jupyter.widget-state+json": {
    "state": {},
    "version_major": 2,
    "version_minor": 0
   }
  }
 },
 "nbformat": 4,
 "nbformat_minor": 4
}
