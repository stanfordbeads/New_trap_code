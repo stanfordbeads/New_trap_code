{
 "cells": [
  {
   "cell_type": "code",
   "execution_count": 1,
   "metadata": {},
   "outputs": [],
   "source": [
    "%run /home/analysis_user/New_trap_code/Tools/basic_packages.py\n",
    "\n",
    "plt.rcParams[\"figure.figsize\"] = (16,12)\n",
    "plt.rcParams[\"font.size\"] = 24\n",
    "\n",
    "plt.rcParams['xtick.labelsize'] = \"small\"\n",
    "plt.rcParams['ytick.labelsize'] = 36"
   ]
  },
  {
   "cell_type": "code",
   "execution_count": 2,
   "metadata": {},
   "outputs": [],
   "source": [
    "year = 2020\n",
    "month = 10\n",
    "start_day = 1\n",
    "end_day = 30\n",
    "bead_date = 20201006\n",
    "bead_number = 1002"
   ]
  },
  {
   "cell_type": "code",
   "execution_count": 35,
   "metadata": {},
   "outputs": [
    {
     "name": "stderr",
     "output_type": "stream",
     "text": [
      "  3%|▎         | 1/30 [00:26<12:57, 26.81s/it]"
     ]
    },
    {
     "name": "stdout",
     "output_type": "stream",
     "text": [
      "Did not create /data/new_trap_processed/processed_files/20201006/Bead1002/EnvData/. It may exist or you do not have perimissions.\n"
     ]
    },
    {
     "name": "stderr",
     "output_type": "stream",
     "text": [
      "\r",
      "  7%|▋         | 2/30 [00:54<12:39, 27.12s/it]"
     ]
    },
    {
     "name": "stdout",
     "output_type": "stream",
     "text": [
      "Did not create /data/new_trap_processed/processed_files/20201006/Bead1002/EnvData/. It may exist or you do not have perimissions.\n"
     ]
    },
    {
     "name": "stderr",
     "output_type": "stream",
     "text": [
      "\r",
      " 10%|█         | 3/30 [01:22<12:21, 27.46s/it]"
     ]
    },
    {
     "name": "stdout",
     "output_type": "stream",
     "text": [
      "Did not create /data/new_trap_processed/processed_files/20201006/Bead1002/EnvData/. It may exist or you do not have perimissions.\n",
      "11 hour at 20201004 is not on record\n",
      "12 hour at 20201004 is not on record\n",
      "13 hour at 20201004 is not on record\n",
      "14 hour at 20201004 is not on record\n",
      "15 hour at 20201004 is not on record\n",
      "16 hour at 20201004 is not on record\n",
      "17 hour at 20201004 is not on record\n",
      "18 hour at 20201004 is not on record\n",
      "19 hour at 20201004 is not on record\n",
      "20 hour at 20201004 is not on record\n",
      "21 hour at 20201004 is not on record\n",
      "22 hour at 20201004 is not on record\n",
      "23 hour at 20201004 is not on record\n"
     ]
    },
    {
     "name": "stderr",
     "output_type": "stream",
     "text": [
      "\r",
      " 13%|█▎        | 4/30 [01:34<09:47, 22.60s/it]"
     ]
    },
    {
     "name": "stdout",
     "output_type": "stream",
     "text": [
      "Did not create /data/new_trap_processed/processed_files/20201006/Bead1002/EnvData/. It may exist or you do not have perimissions.\n",
      "0 hour at 20201005 is not on record\n",
      "1 hour at 20201005 is not on record\n",
      "2 hour at 20201005 is not on record\n",
      "3 hour at 20201005 is not on record\n",
      "4 hour at 20201005 is not on record\n",
      "5 hour at 20201005 is not on record\n",
      "6 hour at 20201005 is not on record\n",
      "7 hour at 20201005 is not on record\n",
      "8 hour at 20201005 is not on record\n",
      "9 hour at 20201005 is not on record\n",
      "10 hour at 20201005 is not on record\n",
      "11 hour at 20201005 is not on record\n",
      "12 hour at 20201005 is not on record\n",
      "13 hour at 20201005 is not on record\n",
      "14 hour at 20201005 is not on record\n"
     ]
    },
    {
     "name": "stderr",
     "output_type": "stream",
     "text": [
      "\r",
      " 17%|█▋        | 5/30 [01:43<07:47, 18.68s/it]"
     ]
    },
    {
     "name": "stdout",
     "output_type": "stream",
     "text": [
      "Did not create /data/new_trap_processed/processed_files/20201006/Bead1002/EnvData/. It may exist or you do not have perimissions.\n"
     ]
    },
    {
     "name": "stderr",
     "output_type": "stream",
     "text": [
      "\r",
      " 20%|██        | 6/30 [02:11<08:30, 21.27s/it]"
     ]
    },
    {
     "name": "stdout",
     "output_type": "stream",
     "text": [
      "Did not create /data/new_trap_processed/processed_files/20201006/Bead1002/EnvData/. It may exist or you do not have perimissions.\n",
      "14 hour at 20201007 is not on record\n",
      "15 hour at 20201007 is not on record\n",
      "16 hour at 20201007 is not on record\n"
     ]
    },
    {
     "name": "stderr",
     "output_type": "stream",
     "text": [
      "\r",
      " 23%|██▎       | 7/30 [02:32<08:13, 21.46s/it]"
     ]
    },
    {
     "name": "stdout",
     "output_type": "stream",
     "text": [
      "Did not create /data/new_trap_processed/processed_files/20201006/Bead1002/EnvData/. It may exist or you do not have perimissions.\n"
     ]
    },
    {
     "name": "stderr",
     "output_type": "stream",
     "text": [
      "\r",
      " 27%|██▋       | 8/30 [02:59<08:28, 23.11s/it]"
     ]
    },
    {
     "name": "stdout",
     "output_type": "stream",
     "text": [
      "Did not create /data/new_trap_processed/processed_files/20201006/Bead1002/EnvData/. It may exist or you do not have perimissions.\n"
     ]
    },
    {
     "name": "stderr",
     "output_type": "stream",
     "text": [
      "\r",
      " 30%|███       | 9/30 [03:26<08:30, 24.29s/it]"
     ]
    },
    {
     "name": "stdout",
     "output_type": "stream",
     "text": [
      "Did not create /data/new_trap_processed/processed_files/20201006/Bead1002/EnvData/. It may exist or you do not have perimissions.\n"
     ]
    },
    {
     "name": "stderr",
     "output_type": "stream",
     "text": [
      "\r",
      " 33%|███▎      | 10/30 [03:54<08:22, 25.15s/it]"
     ]
    },
    {
     "name": "stdout",
     "output_type": "stream",
     "text": [
      "Did not create /data/new_trap_processed/processed_files/20201006/Bead1002/EnvData/. It may exist or you do not have perimissions.\n"
     ]
    },
    {
     "name": "stderr",
     "output_type": "stream",
     "text": [
      "\r",
      " 37%|███▋      | 11/30 [04:21<08:11, 25.88s/it]"
     ]
    },
    {
     "name": "stdout",
     "output_type": "stream",
     "text": [
      "Did not create /data/new_trap_processed/processed_files/20201006/Bead1002/EnvData/. It may exist or you do not have perimissions.\n"
     ]
    },
    {
     "name": "stderr",
     "output_type": "stream",
     "text": [
      "\r",
      " 40%|████      | 12/30 [04:48<07:53, 26.29s/it]"
     ]
    },
    {
     "name": "stdout",
     "output_type": "stream",
     "text": [
      "Did not create /data/new_trap_processed/processed_files/20201006/Bead1002/EnvData/. It may exist or you do not have perimissions.\n"
     ]
    },
    {
     "name": "stderr",
     "output_type": "stream",
     "text": [
      "\r",
      " 43%|████▎     | 13/30 [05:15<07:29, 26.45s/it]"
     ]
    },
    {
     "name": "stdout",
     "output_type": "stream",
     "text": [
      "Did not create /data/new_trap_processed/processed_files/20201006/Bead1002/EnvData/. It may exist or you do not have perimissions.\n"
     ]
    },
    {
     "name": "stderr",
     "output_type": "stream",
     "text": [
      "\r",
      " 47%|████▋     | 14/30 [05:42<07:05, 26.62s/it]"
     ]
    },
    {
     "name": "stdout",
     "output_type": "stream",
     "text": [
      "Did not create /data/new_trap_processed/processed_files/20201006/Bead1002/EnvData/. It may exist or you do not have perimissions.\n"
     ]
    },
    {
     "name": "stderr",
     "output_type": "stream",
     "text": [
      "\r",
      " 50%|█████     | 15/30 [06:09<06:40, 26.71s/it]"
     ]
    },
    {
     "name": "stdout",
     "output_type": "stream",
     "text": [
      "Did not create /data/new_trap_processed/processed_files/20201006/Bead1002/EnvData/. It may exist or you do not have perimissions.\n"
     ]
    },
    {
     "name": "stderr",
     "output_type": "stream",
     "text": [
      "\r",
      " 53%|█████▎    | 16/30 [06:36<06:15, 26.80s/it]"
     ]
    },
    {
     "name": "stdout",
     "output_type": "stream",
     "text": [
      "Did not create /data/new_trap_processed/processed_files/20201006/Bead1002/EnvData/. It may exist or you do not have perimissions.\n"
     ]
    },
    {
     "name": "stderr",
     "output_type": "stream",
     "text": [
      "\r",
      " 57%|█████▋    | 17/30 [07:03<05:48, 26.83s/it]"
     ]
    },
    {
     "name": "stdout",
     "output_type": "stream",
     "text": [
      "Did not create /data/new_trap_processed/processed_files/20201006/Bead1002/EnvData/. It may exist or you do not have perimissions.\n"
     ]
    },
    {
     "name": "stderr",
     "output_type": "stream",
     "text": [
      "\r",
      " 60%|██████    | 18/30 [07:30<05:21, 26.83s/it]"
     ]
    },
    {
     "name": "stdout",
     "output_type": "stream",
     "text": [
      "Did not create /data/new_trap_processed/processed_files/20201006/Bead1002/EnvData/. It may exist or you do not have perimissions.\n",
      "18 hour at 20201019 is not on record\n",
      "19 hour at 20201019 is not on record\n",
      "20 hour at 20201019 is not on record\n",
      "21 hour at 20201019 is not on record\n",
      "22 hour at 20201019 is not on record\n",
      "23 hour at 20201019 is not on record\n"
     ]
    },
    {
     "name": "stderr",
     "output_type": "stream",
     "text": [
      "100%|██████████| 30/30 [07:49<00:00, 17.17s/it]"
     ]
    },
    {
     "name": "stdout",
     "output_type": "stream",
     "text": [
      "Did not create /data/new_trap_processed/processed_files/20201006/Bead1002/EnvData/. It may exist or you do not have perimissions.\n",
      "0 hour at 20201020 is not on record\n",
      "1 hour at 20201020 is not on record\n",
      "2 hour at 20201020 is not on record\n",
      "3 hour at 20201020 is not on record\n",
      "4 hour at 20201020 is not on record\n",
      "5 hour at 20201020 is not on record\n",
      "6 hour at 20201020 is not on record\n",
      "7 hour at 20201020 is not on record\n",
      "8 hour at 20201020 is not on record\n",
      "9 hour at 20201020 is not on record\n",
      "10 hour at 20201020 is not on record\n",
      "11 hour at 20201020 is not on record\n",
      "12 hour at 20201020 is not on record\n",
      "13 hour at 20201020 is not on record\n",
      "14 hour at 20201020 is not on record\n",
      "15 hour at 20201020 is not on record\n",
      "16 hour at 20201020 is not on record\n",
      "17 hour at 20201020 is not on record\n",
      "18 hour at 20201020 is not on record\n",
      "19 hour at 20201020 is not on record\n",
      "20 hour at 20201020 is not on record\n",
      "21 hour at 20201020 is not on record\n",
      "22 hour at 20201020 is not on record\n",
      "23 hour at 20201020 is not on record\n",
      "Did not create /data/new_trap_processed/processed_files/20201006/Bead1002/EnvData/. It may exist or you do not have perimissions.\n",
      "0 hour at 20201021 is not on record\n",
      "1 hour at 20201021 is not on record\n",
      "2 hour at 20201021 is not on record\n",
      "3 hour at 20201021 is not on record\n",
      "4 hour at 20201021 is not on record\n",
      "5 hour at 20201021 is not on record\n",
      "6 hour at 20201021 is not on record\n",
      "7 hour at 20201021 is not on record\n",
      "8 hour at 20201021 is not on record\n",
      "9 hour at 20201021 is not on record\n",
      "10 hour at 20201021 is not on record\n",
      "11 hour at 20201021 is not on record\n",
      "12 hour at 20201021 is not on record\n",
      "13 hour at 20201021 is not on record\n",
      "14 hour at 20201021 is not on record\n",
      "15 hour at 20201021 is not on record\n",
      "16 hour at 20201021 is not on record\n",
      "17 hour at 20201021 is not on record\n",
      "18 hour at 20201021 is not on record\n",
      "19 hour at 20201021 is not on record\n",
      "20 hour at 20201021 is not on record\n",
      "21 hour at 20201021 is not on record\n",
      "22 hour at 20201021 is not on record\n",
      "23 hour at 20201021 is not on record\n",
      "Did not create /data/new_trap_processed/processed_files/20201006/Bead1002/EnvData/. It may exist or you do not have perimissions.\n",
      "0 hour at 20201022 is not on record\n",
      "1 hour at 20201022 is not on record\n",
      "2 hour at 20201022 is not on record\n",
      "3 hour at 20201022 is not on record\n",
      "4 hour at 20201022 is not on record\n",
      "5 hour at 20201022 is not on record\n",
      "6 hour at 20201022 is not on record\n",
      "7 hour at 20201022 is not on record\n",
      "8 hour at 20201022 is not on record\n",
      "9 hour at 20201022 is not on record\n",
      "10 hour at 20201022 is not on record\n",
      "11 hour at 20201022 is not on record\n",
      "12 hour at 20201022 is not on record\n",
      "13 hour at 20201022 is not on record\n",
      "14 hour at 20201022 is not on record\n",
      "15 hour at 20201022 is not on record\n",
      "16 hour at 20201022 is not on record\n",
      "17 hour at 20201022 is not on record\n",
      "18 hour at 20201022 is not on record\n",
      "19 hour at 20201022 is not on record\n",
      "20 hour at 20201022 is not on record\n",
      "21 hour at 20201022 is not on record\n",
      "22 hour at 20201022 is not on record\n",
      "23 hour at 20201022 is not on record\n",
      "Did not create /data/new_trap_processed/processed_files/20201006/Bead1002/EnvData/. It may exist or you do not have perimissions.\n",
      "0 hour at 20201023 is not on record\n",
      "1 hour at 20201023 is not on record\n",
      "2 hour at 20201023 is not on record\n",
      "3 hour at 20201023 is not on record\n",
      "4 hour at 20201023 is not on record\n",
      "5 hour at 20201023 is not on record\n",
      "6 hour at 20201023 is not on record\n",
      "7 hour at 20201023 is not on record\n",
      "8 hour at 20201023 is not on record\n",
      "9 hour at 20201023 is not on record\n",
      "10 hour at 20201023 is not on record\n",
      "11 hour at 20201023 is not on record\n",
      "12 hour at 20201023 is not on record\n",
      "13 hour at 20201023 is not on record\n",
      "14 hour at 20201023 is not on record\n",
      "15 hour at 20201023 is not on record\n",
      "16 hour at 20201023 is not on record\n",
      "17 hour at 20201023 is not on record\n",
      "18 hour at 20201023 is not on record\n",
      "19 hour at 20201023 is not on record\n",
      "20 hour at 20201023 is not on record\n",
      "21 hour at 20201023 is not on record\n",
      "22 hour at 20201023 is not on record\n",
      "23 hour at 20201023 is not on record\n",
      "Did not create /data/new_trap_processed/processed_files/20201006/Bead1002/EnvData/. It may exist or you do not have perimissions.\n",
      "0 hour at 20201024 is not on record\n",
      "1 hour at 20201024 is not on record\n",
      "2 hour at 20201024 is not on record\n",
      "3 hour at 20201024 is not on record\n",
      "4 hour at 20201024 is not on record\n",
      "5 hour at 20201024 is not on record\n",
      "6 hour at 20201024 is not on record\n",
      "7 hour at 20201024 is not on record\n",
      "8 hour at 20201024 is not on record\n",
      "9 hour at 20201024 is not on record\n",
      "10 hour at 20201024 is not on record\n",
      "11 hour at 20201024 is not on record\n",
      "12 hour at 20201024 is not on record\n",
      "13 hour at 20201024 is not on record\n",
      "14 hour at 20201024 is not on record\n",
      "15 hour at 20201024 is not on record\n",
      "16 hour at 20201024 is not on record\n",
      "17 hour at 20201024 is not on record\n",
      "18 hour at 20201024 is not on record\n",
      "19 hour at 20201024 is not on record\n",
      "20 hour at 20201024 is not on record\n",
      "21 hour at 20201024 is not on record\n",
      "22 hour at 20201024 is not on record\n",
      "23 hour at 20201024 is not on record\n",
      "Did not create /data/new_trap_processed/processed_files/20201006/Bead1002/EnvData/. It may exist or you do not have perimissions.\n",
      "0 hour at 20201025 is not on record\n",
      "1 hour at 20201025 is not on record\n",
      "2 hour at 20201025 is not on record\n",
      "3 hour at 20201025 is not on record\n",
      "4 hour at 20201025 is not on record\n",
      "5 hour at 20201025 is not on record\n",
      "6 hour at 20201025 is not on record\n",
      "7 hour at 20201025 is not on record\n",
      "8 hour at 20201025 is not on record\n",
      "9 hour at 20201025 is not on record\n",
      "10 hour at 20201025 is not on record\n",
      "11 hour at 20201025 is not on record\n",
      "12 hour at 20201025 is not on record\n",
      "13 hour at 20201025 is not on record\n",
      "14 hour at 20201025 is not on record\n",
      "15 hour at 20201025 is not on record\n",
      "16 hour at 20201025 is not on record\n",
      "17 hour at 20201025 is not on record\n",
      "18 hour at 20201025 is not on record\n",
      "19 hour at 20201025 is not on record\n",
      "20 hour at 20201025 is not on record\n",
      "21 hour at 20201025 is not on record\n",
      "22 hour at 20201025 is not on record\n",
      "23 hour at 20201025 is not on record\n",
      "Did not create /data/new_trap_processed/processed_files/20201006/Bead1002/EnvData/. It may exist or you do not have perimissions.\n",
      "0 hour at 20201026 is not on record\n",
      "1 hour at 20201026 is not on record\n",
      "2 hour at 20201026 is not on record\n",
      "3 hour at 20201026 is not on record\n",
      "4 hour at 20201026 is not on record\n",
      "5 hour at 20201026 is not on record\n",
      "6 hour at 20201026 is not on record\n",
      "7 hour at 20201026 is not on record\n",
      "8 hour at 20201026 is not on record\n",
      "9 hour at 20201026 is not on record\n",
      "10 hour at 20201026 is not on record\n",
      "11 hour at 20201026 is not on record\n",
      "12 hour at 20201026 is not on record\n",
      "13 hour at 20201026 is not on record\n",
      "14 hour at 20201026 is not on record\n",
      "15 hour at 20201026 is not on record\n",
      "16 hour at 20201026 is not on record\n",
      "17 hour at 20201026 is not on record\n",
      "18 hour at 20201026 is not on record\n",
      "19 hour at 20201026 is not on record\n",
      "20 hour at 20201026 is not on record\n",
      "21 hour at 20201026 is not on record\n",
      "22 hour at 20201026 is not on record\n",
      "23 hour at 20201026 is not on record\n",
      "Did not create /data/new_trap_processed/processed_files/20201006/Bead1002/EnvData/. It may exist or you do not have perimissions.\n",
      "0 hour at 20201027 is not on record\n",
      "1 hour at 20201027 is not on record\n",
      "2 hour at 20201027 is not on record\n",
      "3 hour at 20201027 is not on record\n",
      "4 hour at 20201027 is not on record\n",
      "5 hour at 20201027 is not on record\n",
      "6 hour at 20201027 is not on record\n",
      "7 hour at 20201027 is not on record\n",
      "8 hour at 20201027 is not on record\n",
      "9 hour at 20201027 is not on record\n",
      "10 hour at 20201027 is not on record\n",
      "11 hour at 20201027 is not on record\n",
      "12 hour at 20201027 is not on record\n",
      "13 hour at 20201027 is not on record\n",
      "14 hour at 20201027 is not on record\n",
      "15 hour at 20201027 is not on record\n",
      "16 hour at 20201027 is not on record\n",
      "17 hour at 20201027 is not on record\n",
      "18 hour at 20201027 is not on record\n",
      "19 hour at 20201027 is not on record\n",
      "20 hour at 20201027 is not on record\n",
      "21 hour at 20201027 is not on record\n",
      "22 hour at 20201027 is not on record\n",
      "23 hour at 20201027 is not on record\n",
      "Did not create /data/new_trap_processed/processed_files/20201006/Bead1002/EnvData/. It may exist or you do not have perimissions.\n",
      "0 hour at 20201028 is not on record\n",
      "1 hour at 20201028 is not on record\n",
      "2 hour at 20201028 is not on record\n",
      "3 hour at 20201028 is not on record\n",
      "4 hour at 20201028 is not on record\n",
      "5 hour at 20201028 is not on record\n",
      "6 hour at 20201028 is not on record\n",
      "7 hour at 20201028 is not on record\n",
      "8 hour at 20201028 is not on record\n",
      "9 hour at 20201028 is not on record\n",
      "10 hour at 20201028 is not on record\n",
      "11 hour at 20201028 is not on record\n",
      "12 hour at 20201028 is not on record\n",
      "13 hour at 20201028 is not on record\n",
      "14 hour at 20201028 is not on record\n",
      "15 hour at 20201028 is not on record\n",
      "16 hour at 20201028 is not on record\n",
      "17 hour at 20201028 is not on record\n",
      "18 hour at 20201028 is not on record\n",
      "19 hour at 20201028 is not on record\n",
      "20 hour at 20201028 is not on record\n",
      "21 hour at 20201028 is not on record\n",
      "22 hour at 20201028 is not on record\n",
      "23 hour at 20201028 is not on record\n",
      "Did not create /data/new_trap_processed/processed_files/20201006/Bead1002/EnvData/. It may exist or you do not have perimissions.\n",
      "0 hour at 20201029 is not on record\n",
      "1 hour at 20201029 is not on record\n",
      "2 hour at 20201029 is not on record\n",
      "3 hour at 20201029 is not on record\n",
      "4 hour at 20201029 is not on record\n",
      "5 hour at 20201029 is not on record\n",
      "6 hour at 20201029 is not on record\n",
      "7 hour at 20201029 is not on record\n",
      "8 hour at 20201029 is not on record\n",
      "9 hour at 20201029 is not on record\n",
      "10 hour at 20201029 is not on record\n",
      "11 hour at 20201029 is not on record\n",
      "12 hour at 20201029 is not on record\n",
      "13 hour at 20201029 is not on record\n",
      "14 hour at 20201029 is not on record\n",
      "15 hour at 20201029 is not on record\n",
      "16 hour at 20201029 is not on record\n",
      "17 hour at 20201029 is not on record\n",
      "18 hour at 20201029 is not on record\n",
      "19 hour at 20201029 is not on record\n",
      "20 hour at 20201029 is not on record\n",
      "21 hour at 20201029 is not on record\n",
      "22 hour at 20201029 is not on record\n",
      "23 hour at 20201029 is not on record\n",
      "Did not create /data/new_trap_processed/processed_files/20201006/Bead1002/EnvData/. It may exist or you do not have perimissions.\n",
      "0 hour at 20201030 is not on record\n",
      "1 hour at 20201030 is not on record\n",
      "2 hour at 20201030 is not on record\n",
      "3 hour at 20201030 is not on record\n",
      "4 hour at 20201030 is not on record\n",
      "5 hour at 20201030 is not on record\n",
      "6 hour at 20201030 is not on record\n",
      "7 hour at 20201030 is not on record\n",
      "8 hour at 20201030 is not on record\n",
      "9 hour at 20201030 is not on record\n",
      "10 hour at 20201030 is not on record\n",
      "11 hour at 20201030 is not on record\n",
      "12 hour at 20201030 is not on record\n",
      "13 hour at 20201030 is not on record\n",
      "14 hour at 20201030 is not on record\n",
      "15 hour at 20201030 is not on record\n",
      "16 hour at 20201030 is not on record\n",
      "17 hour at 20201030 is not on record\n",
      "18 hour at 20201030 is not on record\n",
      "19 hour at 20201030 is not on record\n",
      "20 hour at 20201030 is not on record\n",
      "21 hour at 20201030 is not on record\n",
      "22 hour at 20201030 is not on record\n",
      "23 hour at 20201030 is not on record\n",
      "Done\n"
     ]
    },
    {
     "name": "stderr",
     "output_type": "stream",
     "text": [
      "\n"
     ]
    }
   ],
   "source": [
    "run_environment_processor_batch(year,month,start_day,end_day,bead_date,bead_number)"
   ]
  },
  {
   "cell_type": "code",
   "execution_count": null,
   "metadata": {},
   "outputs": [],
   "source": []
  }
 ],
 "metadata": {
  "kernelspec": {
   "display_name": "Python 3",
   "language": "python",
   "name": "python3"
  },
  "language_info": {
   "codemirror_mode": {
    "name": "ipython",
    "version": 3
   },
   "file_extension": ".py",
   "mimetype": "text/x-python",
   "name": "python",
   "nbconvert_exporter": "python",
   "pygments_lexer": "ipython3",
   "version": "3.6.9"
  },
  "widgets": {
   "application/vnd.jupyter.widget-state+json": {
    "state": {},
    "version_major": 2,
    "version_minor": 0
   }
  }
 },
 "nbformat": 4,
 "nbformat_minor": 4
}
