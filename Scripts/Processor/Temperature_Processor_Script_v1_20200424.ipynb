{
 "cells": [
  {
   "cell_type": "code",
   "execution_count": 1,
   "metadata": {},
   "outputs": [],
   "source": [
    "%run /home/analysis_user/New_trap_code/Tools/basic_packages.py\n",
    "\n",
    "plt.rcParams[\"figure.figsize\"] = (16,12)\n",
    "plt.rcParams[\"font.size\"] = 24\n",
    "\n",
    "plt.rcParams['xtick.labelsize'] = \"small\"\n",
    "plt.rcParams['ytick.labelsize'] = 36"
   ]
  },
  {
   "cell_type": "code",
   "execution_count": 3,
   "metadata": {},
   "outputs": [],
   "source": [
    "year = 2020\n",
    "month = 6\n",
    "start_day = 14\n",
    "end_day = 18\n",
    "bead_date = 20200614\n",
    "bead_number = 1"
   ]
  },
  {
   "cell_type": "code",
   "execution_count": 4,
   "metadata": {},
   "outputs": [
    {
     "name": "stderr",
     "output_type": "stream",
     "text": [
      "  0%|          | 0/5 [00:00<?, ?it/s]"
     ]
    },
    {
     "name": "stdout",
     "output_type": "stream",
     "text": [
      "Did not create /data/new_trap_processed/processed_files/20200614/Bead1/EnvData/. It may exist or you do not have perimissions.\n",
      "Did not create output folder:/data/new_trap_processed/processed_files/20200614/Bead1/EnvData/20200614. It may exist or you do not have perimissions.\n"
     ]
    },
    {
     "name": "stderr",
     "output_type": "stream",
     "text": [
      " 20%|██        | 1/5 [00:28<01:55, 28.87s/it]"
     ]
    },
    {
     "name": "stdout",
     "output_type": "stream",
     "text": [
      "Environmental file /data/new_trap_processed/processed_files/20200614/Bead1/EnvData/20200614/environmental_data_20200614.pkl exists already\n",
      "Did not create /data/new_trap_processed/processed_files/20200614/Bead1/EnvData/. It may exist or you do not have perimissions.\n",
      "Did not create output folder:/data/new_trap_processed/processed_files/20200614/Bead1/EnvData/20200615. It may exist or you do not have perimissions.\n"
     ]
    },
    {
     "name": "stderr",
     "output_type": "stream",
     "text": [
      " 40%|████      | 2/5 [00:57<01:26, 28.71s/it]"
     ]
    },
    {
     "name": "stdout",
     "output_type": "stream",
     "text": [
      "Environmental file /data/new_trap_processed/processed_files/20200614/Bead1/EnvData/20200615/environmental_data_20200615.pkl exists already\n",
      "Did not create /data/new_trap_processed/processed_files/20200614/Bead1/EnvData/. It may exist or you do not have perimissions.\n",
      "Did not create output folder:/data/new_trap_processed/processed_files/20200614/Bead1/EnvData/20200616. It may exist or you do not have perimissions.\n"
     ]
    },
    {
     "name": "stderr",
     "output_type": "stream",
     "text": [
      " 60%|██████    | 3/5 [01:25<00:57, 28.62s/it]"
     ]
    },
    {
     "name": "stdout",
     "output_type": "stream",
     "text": [
      "Environmental file /data/new_trap_processed/processed_files/20200614/Bead1/EnvData/20200616/environmental_data_20200616.pkl exists already\n",
      "Did not create /data/new_trap_processed/processed_files/20200614/Bead1/EnvData/. It may exist or you do not have perimissions.\n"
     ]
    },
    {
     "name": "stderr",
     "output_type": "stream",
     "text": [
      " 80%|████████  | 4/5 [01:55<00:28, 28.86s/it]"
     ]
    },
    {
     "name": "stdout",
     "output_type": "stream",
     "text": [
      "Did not create /data/new_trap_processed/processed_files/20200614/Bead1/EnvData/. It may exist or you do not have perimissions.\n"
     ]
    },
    {
     "name": "stderr",
     "output_type": "stream",
     "text": [
      "100%|██████████| 5/5 [02:25<00:00, 29.27s/it]"
     ]
    },
    {
     "name": "stdout",
     "output_type": "stream",
     "text": [
      "Done\n"
     ]
    },
    {
     "name": "stderr",
     "output_type": "stream",
     "text": [
      "\n"
     ]
    }
   ],
   "source": [
    "run_environment_processor_batch(year,month,start_day,end_day,bead_date,bead_number)"
   ]
  },
  {
   "cell_type": "code",
   "execution_count": 7,
   "metadata": {},
   "outputs": [],
   "source": [
    "df_example = pd.read_pickle(\"/data/new_trap_processed/processed_files/{0}/Bead{1}/EnvData/{2}{3}{4}/environmental_data_{2}{3}{4}.pkl\".format(bead_date,bead_number,year,str(month).zfill(2),str(end_day).zfill(2)))"
   ]
  },
  {
   "cell_type": "code",
   "execution_count": 8,
   "metadata": {},
   "outputs": [
    {
     "data": {
      "text/html": [
       "<div>\n",
       "<style scoped>\n",
       "    .dataframe tbody tr th:only-of-type {\n",
       "        vertical-align: middle;\n",
       "    }\n",
       "\n",
       "    .dataframe tbody tr th {\n",
       "        vertical-align: top;\n",
       "    }\n",
       "\n",
       "    .dataframe thead th {\n",
       "        text-align: right;\n",
       "    }\n",
       "</style>\n",
       "<table border=\"1\" class=\"dataframe\">\n",
       "  <thead>\n",
       "    <tr style=\"text-align: right;\">\n",
       "      <th></th>\n",
       "      <th>AirTemperature</th>\n",
       "      <th>SurfaceTemperature</th>\n",
       "      <th>Pressure</th>\n",
       "      <th>Time</th>\n",
       "      <th>Time_Human</th>\n",
       "      <th>Time_Epoch</th>\n",
       "    </tr>\n",
       "  </thead>\n",
       "  <tbody>\n",
       "    <tr>\n",
       "      <th>0</th>\n",
       "      <td>18.289676</td>\n",
       "      <td>17.985492</td>\n",
       "      <td>1030.061865</td>\n",
       "      <td>00:00:00</td>\n",
       "      <td>2020-06-18-00:00:00</td>\n",
       "      <td>1.592464e+09</td>\n",
       "    </tr>\n",
       "    <tr>\n",
       "      <th>1</th>\n",
       "      <td>18.289453</td>\n",
       "      <td>17.986002</td>\n",
       "      <td>1030.061865</td>\n",
       "      <td>00:00:01</td>\n",
       "      <td>2020-06-18-00:00:01</td>\n",
       "      <td>1.592464e+09</td>\n",
       "    </tr>\n",
       "    <tr>\n",
       "      <th>2</th>\n",
       "      <td>18.290592</td>\n",
       "      <td>17.986622</td>\n",
       "      <td>1030.061865</td>\n",
       "      <td>00:00:02</td>\n",
       "      <td>2020-06-18-00:00:02</td>\n",
       "      <td>1.592464e+09</td>\n",
       "    </tr>\n",
       "    <tr>\n",
       "      <th>3</th>\n",
       "      <td>18.289494</td>\n",
       "      <td>17.986065</td>\n",
       "      <td>1030.061865</td>\n",
       "      <td>00:00:03</td>\n",
       "      <td>2020-06-18-00:00:03</td>\n",
       "      <td>1.592464e+09</td>\n",
       "    </tr>\n",
       "    <tr>\n",
       "      <th>4</th>\n",
       "      <td>18.289624</td>\n",
       "      <td>17.986252</td>\n",
       "      <td>1030.061865</td>\n",
       "      <td>00:00:04</td>\n",
       "      <td>2020-06-18-00:00:04</td>\n",
       "      <td>1.592464e+09</td>\n",
       "    </tr>\n",
       "    <tr>\n",
       "      <th>...</th>\n",
       "      <td>...</td>\n",
       "      <td>...</td>\n",
       "      <td>...</td>\n",
       "      <td>...</td>\n",
       "      <td>...</td>\n",
       "      <td>...</td>\n",
       "    </tr>\n",
       "    <tr>\n",
       "      <th>86316</th>\n",
       "      <td>19.657156</td>\n",
       "      <td>19.558664</td>\n",
       "      <td>1030.061865</td>\n",
       "      <td>23:59:55</td>\n",
       "      <td>2020-06-18-23:59:55</td>\n",
       "      <td>1.592550e+09</td>\n",
       "    </tr>\n",
       "    <tr>\n",
       "      <th>86317</th>\n",
       "      <td>19.657958</td>\n",
       "      <td>19.558404</td>\n",
       "      <td>1030.061865</td>\n",
       "      <td>23:59:56</td>\n",
       "      <td>2020-06-18-23:59:56</td>\n",
       "      <td>1.592550e+09</td>\n",
       "    </tr>\n",
       "    <tr>\n",
       "      <th>86318</th>\n",
       "      <td>19.659442</td>\n",
       "      <td>19.558560</td>\n",
       "      <td>1030.061865</td>\n",
       "      <td>23:59:57</td>\n",
       "      <td>2020-06-18-23:59:57</td>\n",
       "      <td>1.592550e+09</td>\n",
       "    </tr>\n",
       "    <tr>\n",
       "      <th>86319</th>\n",
       "      <td>19.660712</td>\n",
       "      <td>19.559242</td>\n",
       "      <td>1030.061865</td>\n",
       "      <td>23:59:58</td>\n",
       "      <td>2020-06-18-23:59:58</td>\n",
       "      <td>1.592550e+09</td>\n",
       "    </tr>\n",
       "    <tr>\n",
       "      <th>86320</th>\n",
       "      <td>19.662701</td>\n",
       "      <td>19.558893</td>\n",
       "      <td>1030.061865</td>\n",
       "      <td>23:59:59</td>\n",
       "      <td>2020-06-18-23:59:59</td>\n",
       "      <td>1.592550e+09</td>\n",
       "    </tr>\n",
       "  </tbody>\n",
       "</table>\n",
       "<p>86321 rows × 6 columns</p>\n",
       "</div>"
      ],
      "text/plain": [
       "       AirTemperature  SurfaceTemperature     Pressure      Time  \\\n",
       "0           18.289676           17.985492  1030.061865  00:00:00   \n",
       "1           18.289453           17.986002  1030.061865  00:00:01   \n",
       "2           18.290592           17.986622  1030.061865  00:00:02   \n",
       "3           18.289494           17.986065  1030.061865  00:00:03   \n",
       "4           18.289624           17.986252  1030.061865  00:00:04   \n",
       "...               ...                 ...          ...       ...   \n",
       "86316       19.657156           19.558664  1030.061865  23:59:55   \n",
       "86317       19.657958           19.558404  1030.061865  23:59:56   \n",
       "86318       19.659442           19.558560  1030.061865  23:59:57   \n",
       "86319       19.660712           19.559242  1030.061865  23:59:58   \n",
       "86320       19.662701           19.558893  1030.061865  23:59:59   \n",
       "\n",
       "                Time_Human    Time_Epoch  \n",
       "0      2020-06-18-00:00:00  1.592464e+09  \n",
       "1      2020-06-18-00:00:01  1.592464e+09  \n",
       "2      2020-06-18-00:00:02  1.592464e+09  \n",
       "3      2020-06-18-00:00:03  1.592464e+09  \n",
       "4      2020-06-18-00:00:04  1.592464e+09  \n",
       "...                    ...           ...  \n",
       "86316  2020-06-18-23:59:55  1.592550e+09  \n",
       "86317  2020-06-18-23:59:56  1.592550e+09  \n",
       "86318  2020-06-18-23:59:57  1.592550e+09  \n",
       "86319  2020-06-18-23:59:58  1.592550e+09  \n",
       "86320  2020-06-18-23:59:59  1.592550e+09  \n",
       "\n",
       "[86321 rows x 6 columns]"
      ]
     },
     "execution_count": 8,
     "metadata": {},
     "output_type": "execute_result"
    }
   ],
   "source": [
    "df_example"
   ]
  },
  {
   "cell_type": "code",
   "execution_count": null,
   "metadata": {},
   "outputs": [],
   "source": []
  }
 ],
 "metadata": {
  "kernelspec": {
   "display_name": "Python 3",
   "language": "python",
   "name": "python3"
  },
  "language_info": {
   "codemirror_mode": {
    "name": "ipython",
    "version": 3
   },
   "file_extension": ".py",
   "mimetype": "text/x-python",
   "name": "python",
   "nbconvert_exporter": "python",
   "pygments_lexer": "ipython3",
   "version": "3.6.9"
  }
 },
 "nbformat": 4,
 "nbformat_minor": 4
}
