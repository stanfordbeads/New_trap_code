{
 "cells": [
  {
   "cell_type": "code",
   "execution_count": 12,
   "metadata": {},
   "outputs": [],
   "source": [
    "%run /home/analysis_user/New_trap_code/Tools/basic_packages.py\n",
    "\n",
    "plt.rcParams[\"figure.figsize\"] = (16,12)\n",
    "plt.rcParams[\"font.size\"] = 24\n",
    "plt.rcParams['xtick.labelsize'] = \"small\"\n",
    "plt.rcParams['ytick.labelsize'] = 36"
   ]
  },
  {
   "cell_type": "code",
   "execution_count": 13,
   "metadata": {},
   "outputs": [],
   "source": [
    "# load the files\n",
    "bead_date =20200614\n",
    "bead_number = 1\n",
    "dataset = \"Shaking/Shaking367/\"\n",
    "FOI = \"SpinShaking4_\"\n",
    "dirname =\"/data/new_trap/\" + str(bead_date) + \"/Bead%s/\" %bead_number +dataset\n",
    "filename = dirname + FOI\n"
   ]
  },
  {
   "cell_type": "code",
   "execution_count": 74,
   "metadata": {},
   "outputs": [],
   "source": [
    "def load_dir_reduced_to_spin(dirname,file_prefix,start_file,max_files,step_size=100):\n",
    "    '''\n",
    "    Load spin information from the h5 files in a loop into a list.\n",
    "    '''   \n",
    "    ## Load all filenames in directory\n",
    "    var_list = []\n",
    "    files = []\n",
    "    [files.append(file_) for file_ in os.listdir(dirname) if file_.startswith(file_prefix) if file_.endswith('.h5')]\n",
    "    files.sort(key=lambda f: int(''.join(filter(str.isdigit, f))))\n",
    "    print(len(files))\n",
    "    print(\"Loading files\")\n",
    "    step_size = step_size\n",
    "    for j in tqdm(np.arange(start_file,start_file+max_files,step_size)):\n",
    "        BDFs = [BDF.BeadDataFile(dirname+filename) for filename in files[j:j+step_size]]\n",
    "        [var_list.append(BDFs[k].spin_data) for k in range(len(BDFs))]\n",
    "        #[var_list.append(dt.datetime.fromtimestamp(BDFs[k].time[0]/1e9)) for k in range(len(BDFs))]\n",
    "    return var_list\n",
    "\n",
    "def spin_processor(bead_date,bead_number,dataset,run,start_file,max_files,fsamp):\n",
    "    dirname =\"/data/new_trap/\" + str(bead_date) + \"/Bead%s/\" %bead_number +dataset\n",
    "    fsamp = fsamp \n",
    "    res = fsamp\n",
    "    spin_time = load_dir_reduced_to_spin(dirname,run,start_file,max_files)\n",
    "    df_spin = pd.DataFrame()\n",
    "    df_spin[\"spin_time\"] = spin_time\n",
    "    a_list = []\n",
    "    p_list = []\n",
    "    # for loop seem to be as slow as this\n",
    "    df_spin[\"spin_amp\"] = df_spin.spin_time.apply(lambda element: spin_data_to_amp_and_phase(element,fsamp,res)[1])\n",
    "    df_spin[\"spin_phase\"] = df_spin.spin_time.apply(lambda element: spin_data_to_amp_and_phase(element,fsamp,res)[2])\n",
    "    #if(save_file==True):\n",
    "    #    df.to_pickle(filename)\n",
    "    return df_spin\n",
    "\n",
    "def loop_run_spin_processor(bead_data,bead_number,dataset,run,start_file,max_files,fsamp,save_file=False):\n",
    "    df_spin=pd.DataFrame()\n",
    "    start_file=start_file\n",
    "    end_file=max_files\n",
    "    step_size=100\n",
    "    for j in tqdm(np.arange(start_file,end_file,step_size)):\n",
    "        print(j)\n",
    "        try:\n",
    "            df_temp = pd.DataFrame()\n",
    "            df_temp = spin_processor(bead_date,bead_number,dataset,run,j,step_size,fsamp)\n",
    "            df_spin = pd.concat([df_spin,df_temp],ignore_index=True)\n",
    "        except: print(\"The %d-th file did not work. Maybe your specified max_file is longer than the datasets\" %j)\n",
    "    if(save_file==True):\n",
    "        print(\"Feature is coming once tested\")\n",
    "    return df_spin\n"
   ]
  },
  {
   "cell_type": "code",
   "execution_count": 75,
   "metadata": {},
   "outputs": [
    {
     "name": "stderr",
     "output_type": "stream",
     "text": [
      "  0%|          | 0/5 [00:00<?, ?it/s]\n",
      "  0%|          | 0/1 [00:00<?, ?it/s]\u001b[A"
     ]
    },
    {
     "name": "stdout",
     "output_type": "stream",
     "text": [
      "0\n",
      "4000\n",
      "Loading files\n"
     ]
    },
    {
     "name": "stderr",
     "output_type": "stream",
     "text": [
      "\n",
      " 20%|██        | 1/5 [00:11<00:47, 12.00s/it]\u001b[A\n",
      "0it [00:00, ?it/s]\u001b[A\n",
      "0it [00:00, ?it/s]\u001b[A\n",
      "0it [00:00, ?it/s]\u001b[A\n",
      "100%|██████████| 5/5 [00:12<00:00,  2.42s/it]"
     ]
    },
    {
     "name": "stdout",
     "output_type": "stream",
     "text": [
      "100\n",
      "4000\n",
      "Loading files\n",
      "200\n",
      "4000\n",
      "Loading files\n",
      "300\n",
      "4000\n",
      "Loading files\n",
      "400\n",
      "4000\n",
      "Loading files\n",
      "12.095825433731079\n"
     ]
    },
    {
     "name": "stderr",
     "output_type": "stream",
     "text": [
      "\n"
     ]
    }
   ],
   "source": [
    "s = time.time()\n",
    "df_spin = loop_run_spin_processor(bead_date,bead_number,dataset,run=FOI,start_file=0,max_file=500,fsamp=50000)\n",
    "e = time.time()\n",
    "print(e-s)"
   ]
  },
  {
   "cell_type": "code",
   "execution_count": 76,
   "metadata": {},
   "outputs": [
    {
     "data": {
      "text/html": [
       "<div>\n",
       "<style scoped>\n",
       "    .dataframe tbody tr th:only-of-type {\n",
       "        vertical-align: middle;\n",
       "    }\n",
       "\n",
       "    .dataframe tbody tr th {\n",
       "        vertical-align: top;\n",
       "    }\n",
       "\n",
       "    .dataframe thead th {\n",
       "        text-align: right;\n",
       "    }\n",
       "</style>\n",
       "<table border=\"1\" class=\"dataframe\">\n",
       "  <thead>\n",
       "    <tr style=\"text-align: right;\">\n",
       "      <th></th>\n",
       "      <th>spin_time</th>\n",
       "      <th>spin_amp</th>\n",
       "      <th>spin_phase</th>\n",
       "    </tr>\n",
       "  </thead>\n",
       "  <tbody>\n",
       "    <tr>\n",
       "      <th>0</th>\n",
       "      <td>[-1.0008545263839428, -1.001949708264448, -1.0...</td>\n",
       "      <td>[1.8456849048024436e-29, 4.4105630753485606e-0...</td>\n",
       "      <td>[3.141592653589793, -2.6712495983342954, 3.063...</td>\n",
       "    </tr>\n",
       "    <tr>\n",
       "      <th>1</th>\n",
       "      <td>[-1.007034481295537, -1.0065651176301305, -1.0...</td>\n",
       "      <td>[2.8377199556278356e-29, 6.696019995933526e-06...</td>\n",
       "      <td>[0.0, 1.0815658612197085, -2.444282741742129, ...</td>\n",
       "    </tr>\n",
       "    <tr>\n",
       "      <th>2</th>\n",
       "      <td>[-1.010632936070416, -1.0116498906828795, -1.0...</td>\n",
       "      <td>[5.8136299820101524e-30, 2.779138368328694e-06...</td>\n",
       "      <td>[0.0, -2.535072928471476, 1.7452306686186543, ...</td>\n",
       "    </tr>\n",
       "    <tr>\n",
       "      <th>3</th>\n",
       "      <td>[-1.0093812996256217, -1.0103982542369065, -1....</td>\n",
       "      <td>[3.904224739497572e-30, 2.0652277605607465e-06...</td>\n",
       "      <td>[0.0, 0.6072614340251922, -0.38891422488896404...</td>\n",
       "    </tr>\n",
       "    <tr>\n",
       "      <th>4</th>\n",
       "      <td>[-1.0083643450152935, -1.0082861177376155, -1....</td>\n",
       "      <td>[2.589260944861545e-29, 1.2296509756882175e-05...</td>\n",
       "      <td>[0.0, -0.7927872855512976, 0.9482777354709977,...</td>\n",
       "    </tr>\n",
       "    <tr>\n",
       "      <th>...</th>\n",
       "      <td>...</td>\n",
       "      <td>...</td>\n",
       "      <td>...</td>\n",
       "    </tr>\n",
       "    <tr>\n",
       "      <th>95</th>\n",
       "      <td>[-1.0030448901460558, -1.005000572080243, -1.0...</td>\n",
       "      <td>[2.1606455128788068e-29, 1.318791378679534e-05...</td>\n",
       "      <td>[3.141592653589793, -2.5825734404113216, 0.286...</td>\n",
       "    </tr>\n",
       "    <tr>\n",
       "      <th>96</th>\n",
       "      <td>[-0.9998375717816025, -1.001245662769711, -1.0...</td>\n",
       "      <td>[2.2859768558333605e-29, 1.7605864558776898e-0...</td>\n",
       "      <td>[0.0, -1.6383173878327906, -2.509609477279804,...</td>\n",
       "    </tr>\n",
       "    <tr>\n",
       "      <th>97</th>\n",
       "      <td>[-0.999602889950428, -0.9998375717816025, -0.9...</td>\n",
       "      <td>[6.729226964996658e-32, 2.5808914921706966e-05...</td>\n",
       "      <td>[3.141592653589793, 0.3917265845201227, -2.422...</td>\n",
       "    </tr>\n",
       "    <tr>\n",
       "      <th>98</th>\n",
       "      <td>[-1.0008545263839428, -0.999524662673381, -0.9...</td>\n",
       "      <td>[1.2825423738207407e-28, 3.3344521854846283e-0...</td>\n",
       "      <td>[3.141592653589793, 0.5545217835988353, -1.200...</td>\n",
       "    </tr>\n",
       "    <tr>\n",
       "      <th>99</th>\n",
       "      <td>[-1.0011674354925462, -1.0004633899983149, -1....</td>\n",
       "      <td>[1.2760029814376917e-30, 1.6712440429420805e-0...</td>\n",
       "      <td>[3.141592653589793, -0.03216789183312244, -0.0...</td>\n",
       "    </tr>\n",
       "  </tbody>\n",
       "</table>\n",
       "<p>100 rows × 3 columns</p>\n",
       "</div>"
      ],
      "text/plain": [
       "                                            spin_time  \\\n",
       "0   [-1.0008545263839428, -1.001949708264448, -1.0...   \n",
       "1   [-1.007034481295537, -1.0065651176301305, -1.0...   \n",
       "2   [-1.010632936070416, -1.0116498906828795, -1.0...   \n",
       "3   [-1.0093812996256217, -1.0103982542369065, -1....   \n",
       "4   [-1.0083643450152935, -1.0082861177376155, -1....   \n",
       "..                                                ...   \n",
       "95  [-1.0030448901460558, -1.005000572080243, -1.0...   \n",
       "96  [-0.9998375717816025, -1.001245662769711, -1.0...   \n",
       "97  [-0.999602889950428, -0.9998375717816025, -0.9...   \n",
       "98  [-1.0008545263839428, -0.999524662673381, -0.9...   \n",
       "99  [-1.0011674354925462, -1.0004633899983149, -1....   \n",
       "\n",
       "                                             spin_amp  \\\n",
       "0   [1.8456849048024436e-29, 4.4105630753485606e-0...   \n",
       "1   [2.8377199556278356e-29, 6.696019995933526e-06...   \n",
       "2   [5.8136299820101524e-30, 2.779138368328694e-06...   \n",
       "3   [3.904224739497572e-30, 2.0652277605607465e-06...   \n",
       "4   [2.589260944861545e-29, 1.2296509756882175e-05...   \n",
       "..                                                ...   \n",
       "95  [2.1606455128788068e-29, 1.318791378679534e-05...   \n",
       "96  [2.2859768558333605e-29, 1.7605864558776898e-0...   \n",
       "97  [6.729226964996658e-32, 2.5808914921706966e-05...   \n",
       "98  [1.2825423738207407e-28, 3.3344521854846283e-0...   \n",
       "99  [1.2760029814376917e-30, 1.6712440429420805e-0...   \n",
       "\n",
       "                                           spin_phase  \n",
       "0   [3.141592653589793, -2.6712495983342954, 3.063...  \n",
       "1   [0.0, 1.0815658612197085, -2.444282741742129, ...  \n",
       "2   [0.0, -2.535072928471476, 1.7452306686186543, ...  \n",
       "3   [0.0, 0.6072614340251922, -0.38891422488896404...  \n",
       "4   [0.0, -0.7927872855512976, 0.9482777354709977,...  \n",
       "..                                                ...  \n",
       "95  [3.141592653589793, -2.5825734404113216, 0.286...  \n",
       "96  [0.0, -1.6383173878327906, -2.509609477279804,...  \n",
       "97  [3.141592653589793, 0.3917265845201227, -2.422...  \n",
       "98  [3.141592653589793, 0.5545217835988353, -1.200...  \n",
       "99  [3.141592653589793, -0.03216789183312244, -0.0...  \n",
       "\n",
       "[100 rows x 3 columns]"
      ]
     },
     "execution_count": 76,
     "metadata": {},
     "output_type": "execute_result"
    }
   ],
   "source": [
    "df_spin"
   ]
  },
  {
   "cell_type": "code",
   "execution_count": 11,
   "metadata": {},
   "outputs": [
    {
     "data": {
      "image/png": "[encoded data removed]",
      "text/plain": [
       "<Figure size 1152x864 with 1 Axes>"
      ]
     },
     "metadata": {
      "needs_background": "light"
     },
     "output_type": "display_data"
    }
   ],
   "source": [
    "plt.plot(df_spin.spin_amp[0])\n",
    "plt.xlim(100000,200000)\n",
    "plt.ylim(1e-12,1e-6)\n",
    "plt.yscale(\"log\")"
   ]
  },
  {
   "cell_type": "code",
   "execution_count": null,
   "metadata": {},
   "outputs": [],
   "source": [
    "# save the file\n",
    "base_proc = \"/data/new_trap_processed/processed_files/\" + str(bead_date) +  \"/Bead%s/\" %bead_number\n",
    "\n",
    "try:\n",
    "    os.makedirs(base_proc+dataset)\n",
    "    print(\"Created subdirs %s\" %dataset)\n",
    "except:\n",
    "    print(\"Folder exists or you do not have permissions\")\n",
    "    \n",
    "outputname = base_proc + dataset+FOI+\"_spin.pkl\"\n",
    "if(os.path.isfile(outputname)==False):\n",
    "    df_spin.to_pickle(outputname)\n",
    "    print(\"Successfully saved spin file\")\n",
    "else:print(\"No spin file produced. %s exists already!\" %outputname)    "
   ]
  },
  {
   "cell_type": "code",
   "execution_count": null,
   "metadata": {},
   "outputs": [],
   "source": [
    "del df_spin"
   ]
  },
  {
   "cell_type": "code",
   "execution_count": null,
   "metadata": {},
   "outputs": [],
   "source": [
    "base_proc = \"/data/new_trap_processed/processed_files/\" + str(bead_date) +  \"/Bead%s/\" %bead_number\n",
    "df_spin = pd.read_pickle(base_proc + dataset+FOI+\"_spin.pkl\")"
   ]
  },
  {
   "cell_type": "code",
   "execution_count": null,
   "metadata": {},
   "outputs": [],
   "source": [
    "def freq_phase_extractor(df_spin,full=True):\n",
    "    frequency = 3\n",
    "    no_harmonics=15\n",
    "    if(full==True): fq = np.arange(10,25000,10)\n",
    "    if(full==False): fq= np.arange(frequency*10,no_harmonics*10*frequency,10*frequency)   \n",
    "    for f in tqdm(fq):\n",
    "        foi =[]\n",
    "        poi=[]\n",
    "        for i in range(len(df_spin)):\n",
    "            foi.append(df_spin.spin_amp[i][f-5:f+5].mean())\n",
    "            poi.append(df_spin.spin_phase[i][f])\n",
    "        df_spin[\"freq_%d\" %(f/10)] = foi\n",
    "        df_spin[\"phase_%d\"%(f/10)] = poi\n",
    "    return df_spin"
   ]
  },
  {
   "cell_type": "code",
   "execution_count": null,
   "metadata": {},
   "outputs": [],
   "source": [
    "df_spin = freq_phase_extractor(df_spin,full=True)"
   ]
  },
  {
   "cell_type": "code",
   "execution_count": null,
   "metadata": {},
   "outputs": [],
   "source": [
    "base_proc = \"/data/new_trap_processed/processed_files/\" + str(bead_date) +  \"/Bead%s/\" %bead_number\n",
    "outputname = base_proc + dataset+FOI+\"_spin_full_freq_only.pkl\"\n",
    "df_red = df_spin.drop(columns=[\"spin_amp\",\"spin_phase\",\"spin_time\"])\n",
    "df_red.to_pickle(outputname)\n",
    "print(outputname)"
   ]
  },
  {
   "cell_type": "code",
   "execution_count": null,
   "metadata": {},
   "outputs": [],
   "source": []
  }
 ],
 "metadata": {
  "kernelspec": {
   "display_name": "Python 3",
   "language": "python",
   "name": "python3"
  },
  "language_info": {
   "codemirror_mode": {
    "name": "ipython",
    "version": 3
   },
   "file_extension": ".py",
   "mimetype": "text/x-python",
   "name": "python",
   "nbconvert_exporter": "python",
   "pygments_lexer": "ipython3",
   "version": "3.6.9"
  }
 },
 "nbformat": 4,
 "nbformat_minor": 4
}
