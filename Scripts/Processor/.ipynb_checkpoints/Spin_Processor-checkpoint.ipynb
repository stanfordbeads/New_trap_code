{
 "cells": [
  {
   "cell_type": "code",
   "execution_count": 1,
   "metadata": {},
   "outputs": [],
   "source": [
    "%run /home/analysis_user/New_trap_code/Tools/basic_packages.py\n",
    "\n",
    "plt.rcParams[\"figure.figsize\"] = (16,12)\n",
    "plt.rcParams[\"font.size\"] = 24\n",
    "plt.rcParams['xtick.labelsize'] = \"small\"\n",
    "plt.rcParams['ytick.labelsize'] = 36"
   ]
  },
  {
   "cell_type": "code",
   "execution_count": 2,
   "metadata": {},
   "outputs": [],
   "source": [
    "# load the files\n",
    "bead_date =20200320\n",
    "bead_number = 1\n",
    "dataset = \"Shaking/Shaking2_20200403/\"\n",
    "FOI = \"NoShaking_1\"\n",
    "dirname =\"/data/new_trap/\" + str(bead_date) + \"/Bead%s/\" %bead_number +dataset\n",
    "filename = dirname + FOI\n"
   ]
  },
  {
   "cell_type": "code",
   "execution_count": 7,
   "metadata": {},
   "outputs": [
    {
     "name": "stderr",
     "output_type": "stream",
     "text": [
      "100%|██████████| 138/138 [05:23<00:00,  2.59s/it]\n"
     ]
    },
    {
     "name": "stdout",
     "output_type": "stream",
     "text": [
      "398.25549387931824\n"
     ]
    }
   ],
   "source": [
    "s = time.time()\n",
    "df_spin = spin_processor(bead_date,bead_number,dataset,FOI,6900)\n",
    "e = time.time()\n",
    "print(e-s)"
   ]
  },
  {
   "cell_type": "code",
   "execution_count": 8,
   "metadata": {},
   "outputs": [
    {
     "data": {
      "text/html": [
       "<div>\n",
       "<style scoped>\n",
       "    .dataframe tbody tr th:only-of-type {\n",
       "        vertical-align: middle;\n",
       "    }\n",
       "\n",
       "    .dataframe tbody tr th {\n",
       "        vertical-align: top;\n",
       "    }\n",
       "\n",
       "    .dataframe thead th {\n",
       "        text-align: right;\n",
       "    }\n",
       "</style>\n",
       "<table border=\"1\" class=\"dataframe\">\n",
       "  <thead>\n",
       "    <tr style=\"text-align: right;\">\n",
       "      <th></th>\n",
       "      <th>spin_time</th>\n",
       "      <th>spin_amp</th>\n",
       "      <th>spin_phase</th>\n",
       "    </tr>\n",
       "  </thead>\n",
       "  <tbody>\n",
       "    <tr>\n",
       "      <th>0</th>\n",
       "      <td>[-1.0360822503653668, -1.0337537569461277, -1....</td>\n",
       "      <td>[3.814440508393585e-31, 7.277352840742623e-07,...</td>\n",
       "      <td>[3.141592653589793, 2.556160014253245, -1.2509...</td>\n",
       "    </tr>\n",
       "    <tr>\n",
       "      <th>1</th>\n",
       "      <td>[-1.0266203305235566, -1.0276873374318658, -1....</td>\n",
       "      <td>[2.7267838980060183e-30, 3.890187576149497e-07...</td>\n",
       "      <td>[0.0, 0.003208989060987134, 3.0734543345960494...</td>\n",
       "    </tr>\n",
       "    <tr>\n",
       "      <th>2</th>\n",
       "      <td>[-1.027293302845671, -1.0311281870353421, -1.0...</td>\n",
       "      <td>[1.7172540636261067e-29, 2.7413528469266536e-0...</td>\n",
       "      <td>[0.0, -2.087959490424156, 1.0273316898386018, ...</td>\n",
       "    </tr>\n",
       "    <tr>\n",
       "      <th>3</th>\n",
       "      <td>[-1.0221197266697806, -1.025092969639801, -1.0...</td>\n",
       "      <td>[3.817669951111683e-30, 4.0616336011449306e-07...</td>\n",
       "      <td>[0.0, -0.7495933399020205, 0.6194015549398197,...</td>\n",
       "    </tr>\n",
       "    <tr>\n",
       "      <th>4</th>\n",
       "      <td>[-1.0282970413418226, -1.0284861447120415, -1....</td>\n",
       "      <td>[1.381076113705778e-29, 8.369529560435894e-07,...</td>\n",
       "      <td>[3.141592653589793, 2.990142633699505, 0.38752...</td>\n",
       "    </tr>\n",
       "    <tr>\n",
       "      <th>...</th>\n",
       "      <td>...</td>\n",
       "      <td>...</td>\n",
       "      <td>...</td>\n",
       "    </tr>\n",
       "    <tr>\n",
       "      <th>6895</th>\n",
       "      <td>[-1.3306697289578984, -1.3305928671939535, -1....</td>\n",
       "      <td>[2.234733861199583e-29, 6.876779690738894e-06,...</td>\n",
       "      <td>[0.0, -1.0832167230404925, 1.5811156787237075,...</td>\n",
       "    </tr>\n",
       "    <tr>\n",
       "      <th>6896</th>\n",
       "      <td>[-1.3276944653706337, -1.3284412200424598, -1....</td>\n",
       "      <td>[2.0592366003929013e-31, 0.0002470161063203604...</td>\n",
       "      <td>[3.141592653589793, -3.1028013329115987, 0.401...</td>\n",
       "    </tr>\n",
       "    <tr>\n",
       "      <th>6897</th>\n",
       "      <td>[-1.3273025267164027, -1.3268360419873557, -1....</td>\n",
       "      <td>[3.0912330190152474e-29, 4.6865819363873513e-0...</td>\n",
       "      <td>[0.0, -0.13345079847191665, 2.90893939083497, ...</td>\n",
       "    </tr>\n",
       "    <tr>\n",
       "      <th>6898</th>\n",
       "      <td>[-1.3277669488117154, -1.3277392655898326, -1....</td>\n",
       "      <td>[6.959150746200662e-29, 2.272783752898092e-05,...</td>\n",
       "      <td>[0.0, -2.704164510284198, 1.955601660247736, 0...</td>\n",
       "    </tr>\n",
       "    <tr>\n",
       "      <th>6899</th>\n",
       "      <td>[-1.3263375864318225, -1.3268473769250375, -1....</td>\n",
       "      <td>[9.856028717811174e-30, 0.17652114117973355, 0...</td>\n",
       "      <td>[0.0, -2.3442152771372746, -2.841687785927031,...</td>\n",
       "    </tr>\n",
       "  </tbody>\n",
       "</table>\n",
       "<p>6900 rows × 3 columns</p>\n",
       "</div>"
      ],
      "text/plain": [
       "                                              spin_time  \\\n",
       "0     [-1.0360822503653668, -1.0337537569461277, -1....   \n",
       "1     [-1.0266203305235566, -1.0276873374318658, -1....   \n",
       "2     [-1.027293302845671, -1.0311281870353421, -1.0...   \n",
       "3     [-1.0221197266697806, -1.025092969639801, -1.0...   \n",
       "4     [-1.0282970413418226, -1.0284861447120415, -1....   \n",
       "...                                                 ...   \n",
       "6895  [-1.3306697289578984, -1.3305928671939535, -1....   \n",
       "6896  [-1.3276944653706337, -1.3284412200424598, -1....   \n",
       "6897  [-1.3273025267164027, -1.3268360419873557, -1....   \n",
       "6898  [-1.3277669488117154, -1.3277392655898326, -1....   \n",
       "6899  [-1.3263375864318225, -1.3268473769250375, -1....   \n",
       "\n",
       "                                               spin_amp  \\\n",
       "0     [3.814440508393585e-31, 7.277352840742623e-07,...   \n",
       "1     [2.7267838980060183e-30, 3.890187576149497e-07...   \n",
       "2     [1.7172540636261067e-29, 2.7413528469266536e-0...   \n",
       "3     [3.817669951111683e-30, 4.0616336011449306e-07...   \n",
       "4     [1.381076113705778e-29, 8.369529560435894e-07,...   \n",
       "...                                                 ...   \n",
       "6895  [2.234733861199583e-29, 6.876779690738894e-06,...   \n",
       "6896  [2.0592366003929013e-31, 0.0002470161063203604...   \n",
       "6897  [3.0912330190152474e-29, 4.6865819363873513e-0...   \n",
       "6898  [6.959150746200662e-29, 2.272783752898092e-05,...   \n",
       "6899  [9.856028717811174e-30, 0.17652114117973355, 0...   \n",
       "\n",
       "                                             spin_phase  \n",
       "0     [3.141592653589793, 2.556160014253245, -1.2509...  \n",
       "1     [0.0, 0.003208989060987134, 3.0734543345960494...  \n",
       "2     [0.0, -2.087959490424156, 1.0273316898386018, ...  \n",
       "3     [0.0, -0.7495933399020205, 0.6194015549398197,...  \n",
       "4     [3.141592653589793, 2.990142633699505, 0.38752...  \n",
       "...                                                 ...  \n",
       "6895  [0.0, -1.0832167230404925, 1.5811156787237075,...  \n",
       "6896  [3.141592653589793, -3.1028013329115987, 0.401...  \n",
       "6897  [0.0, -0.13345079847191665, 2.90893939083497, ...  \n",
       "6898  [0.0, -2.704164510284198, 1.955601660247736, 0...  \n",
       "6899  [0.0, -2.3442152771372746, -2.841687785927031,...  \n",
       "\n",
       "[6900 rows x 3 columns]"
      ]
     },
     "execution_count": 8,
     "metadata": {},
     "output_type": "execute_result"
    }
   ],
   "source": [
    "df_spin"
   ]
  },
  {
   "cell_type": "code",
   "execution_count": 9,
   "metadata": {},
   "outputs": [
    {
     "name": "stdout",
     "output_type": "stream",
     "text": [
      "Folder exists or you do not have permissions\n",
      "Successfully saved spin file\n"
     ]
    }
   ],
   "source": [
    "# save the file\n",
    "base_proc = \"/data/new_trap_processed/processed_files/\" + str(bead_date) +  \"/Bead%s/\" %bead_number\n",
    "\n",
    "try:\n",
    "    os.makedirs(base_proc+dataset)\n",
    "    print(\"Created subdirs %s\" %dataset)\n",
    "except:\n",
    "    print(\"Folder exists or you do not have permissions\")\n",
    "    \n",
    "outputname = base_proc + dataset+FOI+\"_spin.pkl\"\n",
    "if(os.path.isfile(outputname)==False):\n",
    "    df_spin.to_pickle(outputname)\n",
    "    print(\"Successfully saved spin file\")\n",
    "else:print(\"No spin file produced. %s exists already!\" %outputname)    "
   ]
  },
  {
   "cell_type": "code",
   "execution_count": 20,
   "metadata": {},
   "outputs": [],
   "source": [
    "del df_spin"
   ]
  },
  {
   "cell_type": "code",
   "execution_count": 13,
   "metadata": {},
   "outputs": [],
   "source": [
    "def freq_phase_extractor(df_spin,full=True,average):\n",
    "    frequency = 3\n",
    "    no_harmonics=15\n",
    "    if(full==True): fq = np.arange(10,25000,10)\n",
    "    if(full==False): fq= np.arange(frequency*10,no_harmonics*10*frequency,10*frequency)   \n",
    "    for f in tqdm(fq):\n",
    "        foi =[]\n",
    "        poi=[]\n",
    "        for i in range(len(df_spin)):\n",
    "            foi.append(df_spin.spin_amp[i][f-5:f+5].mean())\n",
    "            poi.append(df_spin.spin_phase[i][f])\n",
    "        df_spin[\"freq_%d\" %(f/10)] = foi\n",
    "        df_spin[\"phase_%d\"%(f/10)] = poi\n",
    "    return df_spin"
   ]
  },
  {
   "cell_type": "code",
   "execution_count": 14,
   "metadata": {},
   "outputs": [
    {
     "name": "stderr",
     "output_type": "stream",
     "text": [
      "100%|██████████| 2499/2499 [16:21<00:00,  2.43it/s]\n"
     ]
    }
   ],
   "source": [
    "df_spin = freq_phase_extractor(df_spin,full=True)"
   ]
  },
  {
   "cell_type": "code",
   "execution_count": 48,
   "metadata": {},
   "outputs": [
    {
     "ename": "NameError",
     "evalue": "name 'df_spin' is not defined",
     "output_type": "error",
     "traceback": [
      "\u001b[0;31m---------------------------------------------------------------------------\u001b[0m",
      "\u001b[0;31mNameError\u001b[0m                                 Traceback (most recent call last)",
      "\u001b[0;32m<ipython-input-48-361c487c9751>\u001b[0m in \u001b[0;36m<module>\u001b[0;34m\u001b[0m\n\u001b[0;32m----> 1\u001b[0;31m \u001b[0mdf_spin\u001b[0m\u001b[0;34m\u001b[0m\u001b[0;34m\u001b[0m\u001b[0m\n\u001b[0m",
      "\u001b[0;31mNameError\u001b[0m: name 'df_spin' is not defined"
     ]
    }
   ],
   "source": []
  },
  {
   "cell_type": "code",
   "execution_count": 18,
   "metadata": {},
   "outputs": [],
   "source": [
    "base_proc = \"/data/new_trap_processed/processed_files/\" + str(bead_date) +  \"/Bead%s/\" %bead_number\n",
    "outputname = base_proc + dataset+FOI+\"_spin_full_freq_only.pkl\"\n",
    "df_red = df_spin.drop(columns=[\"spin_amp\",\"spin_phase\",\"spin_time\"])\n",
    "df_red.to_pickle(outputname)\n"
   ]
  },
  {
   "cell_type": "code",
   "execution_count": 47,
   "metadata": {},
   "outputs": [
    {
     "ename": "NameError",
     "evalue": "name 'df' is not defined",
     "output_type": "error",
     "traceback": [
      "\u001b[0;31m---------------------------------------------------------------------------\u001b[0m",
      "\u001b[0;31mNameError\u001b[0m                                 Traceback (most recent call last)",
      "\u001b[0;32m<ipython-input-47-00cf07b74dcd>\u001b[0m in \u001b[0;36m<module>\u001b[0;34m\u001b[0m\n\u001b[0;32m----> 1\u001b[0;31m \u001b[0mdf\u001b[0m\u001b[0;34m\u001b[0m\u001b[0;34m\u001b[0m\u001b[0m\n\u001b[0m",
      "\u001b[0;31mNameError\u001b[0m: name 'df' is not defined"
     ]
    }
   ],
   "source": [
    "df"
   ]
  },
  {
   "cell_type": "code",
   "execution_count": 8,
   "metadata": {},
   "outputs": [
    {
     "name": "stdout",
     "output_type": "stream",
     "text": [
      "10000  files in folder\n",
      "10  files loaded\n"
     ]
    }
   ],
   "source": [
    "dirname = \"/data/new_trap/20200320/Bead1/Shaking/Shaking378/\"\n",
    "f = load_dir(dirname,\"Shaking3\",max_file=10)"
   ]
  },
  {
   "cell_type": "code",
   "execution_count": 9,
   "metadata": {},
   "outputs": [],
   "source": [
    "data = f[0].xyz2"
   ]
  },
  {
   "cell_type": "code",
   "execution_count": 12,
   "metadata": {},
   "outputs": [],
   "source": [
    "fsamp = f[0].fsamp\n",
    "res=fsamp\n",
    "f_p = data_to_amp_and_phase(data,fsamp,res)\n",
    "\n",
    "g = get_harmonics_with_sideband(input_psd,shake_freq,no_harmonics,res_factor=10,sum_range=0,sideband_spacing=-7,plot=False)"
   ]
  },
  {
   "cell_type": "code",
   "execution_count": 34,
   "metadata": {},
   "outputs": [],
   "source": [
    "g = get_harmonics_with_sideband(f_p[3],3,15,res_factor=10,sum_range=0,sideband_spacing=-7,plot=False)"
   ]
  },
  {
   "cell_type": "code",
   "execution_count": 44,
   "metadata": {},
   "outputs": [
    {
     "data": {
      "text/plain": [
       "array([-1.55350985, -0.05381339, -1.34841713,  2.75907703, -1.6265778 ,\n",
       "        0.13016291,  2.69553602, -2.4956364 , -1.27687219, -3.03457654,\n",
       "        1.66252452, -2.90736573,  1.72279555, -2.86097669,  2.12603784])"
      ]
     },
     "execution_count": 44,
     "metadata": {},
     "output_type": "execute_result"
    }
   ],
   "source": [
    "np.divide(g[1],3)"
   ]
  },
  {
   "cell_type": "code",
   "execution_count": 41,
   "metadata": {},
   "outputs": [
    {
     "data": {
      "text/plain": [
       "(20.0, 60.0)"
      ]
     },
     "execution_count": 41,
     "metadata": {},
     "output_type": "execute_result"
    },
    {
     "data": {
      "image/png": "[encoded data removed]",
      "text/plain": [
       "<Figure size 1152x864 with 1 Axes>"
      ]
     },
     "metadata": {
      "needs_background": "light"
     },
     "output_type": "display_data"
    }
   ],
   "source": [
    "plt.plot(f_p[3])\n",
    "plt.xlim(20,60)"
   ]
  },
  {
   "cell_type": "code",
   "execution_count": null,
   "metadata": {},
   "outputs": [],
   "source": []
  }
 ],
 "metadata": {
  "kernelspec": {
   "display_name": "Python 3",
   "language": "python",
   "name": "python3"
  },
  "language_info": {
   "codemirror_mode": {
    "name": "ipython",
    "version": 3
   },
   "file_extension": ".py",
   "mimetype": "text/x-python",
   "name": "python",
   "nbconvert_exporter": "python",
   "pygments_lexer": "ipython3",
   "version": "3.6.9"
  }
 },
 "nbformat": 4,
 "nbformat_minor": 4
}
