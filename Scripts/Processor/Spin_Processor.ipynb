{
 "cells": [
  {
   "cell_type": "code",
   "execution_count": 2,
   "metadata": {},
   "outputs": [],
   "source": [
    "%run /home/analysis_user/New_trap_code/Tools/basic_packages.py\n",
    "\n",
    "plt.rcParams[\"figure.figsize\"] = (16,12)\n",
    "plt.rcParams[\"font.size\"] = 24\n",
    "plt.rcParams['xtick.labelsize'] = \"small\"\n",
    "plt.rcParams['ytick.labelsize'] = 36"
   ]
  },
  {
   "cell_type": "code",
   "execution_count": 3,
   "metadata": {},
   "outputs": [],
   "source": [
    "# load the files\n",
    "bead_date =20200924\n",
    "bead_number = 1\n",
    "dataset = \"Shaking/Shaking340/\"\n",
    "FOI = \"SpinShaking0\"\n",
    "dirname =\"/data/new_trap/\" + str(bead_date) + \"/Bead%s/\" %bead_number +dataset\n",
    "filename = dirname + FOI\n"
   ]
  },
  {
   "cell_type": "code",
   "execution_count": 4,
   "metadata": {},
   "outputs": [],
   "source": [
    "def load_dir_reduced_to_spin(dirname,file_prefix,start_file,max_files,step_size=100):\n",
    "    '''\n",
    "    Load spin information from the h5 files in a loop into a list.\n",
    "    '''   \n",
    "    ## Load all filenames in directory\n",
    "    var_list = []\n",
    "    files = []\n",
    "    [files.append(file_) for file_ in os.listdir(dirname) if file_.startswith(file_prefix) if file_.endswith('.h5')]\n",
    "    files.sort(key=lambda f: int(''.join(filter(str.isdigit, f))))\n",
    "    print(len(files))\n",
    "    print(\"Loading files\")\n",
    "    step_size = step_size\n",
    "    for j in tqdm(np.arange(start_file,start_file+max_files,step_size)):\n",
    "        BDFs = [BDF.BeadDataFile(dirname+filename) for filename in files[j:j+step_size]]\n",
    "        [var_list.append(BDFs[k].spin_data[0]) for k in range(len(BDFs))]\n",
    "        #[var_list.append(dt.datetime.fromtimestamp(BDFs[k].time[0]/1e9)) for k in range(len(BDFs))]\n",
    "    return var_list\n",
    "\n",
    "def spin_processor(bead_date,bead_number,dataset,run,start_file,max_files,fsamp):\n",
    "    dirname =\"/data/new_trap/\" + str(bead_date) + \"/Bead%s/\" %bead_number +dataset\n",
    "    fsamp = fsamp \n",
    "    res = fsamp\n",
    "    spin_time = load_dir_reduced_to_spin(dirname,run,start_file,max_files)\n",
    "    df_spin = pd.DataFrame()\n",
    "    df_spin[\"spin_time\"] = spin_time\n",
    "    a_list = []\n",
    "    p_list = []\n",
    "    # for loop seem to be as slow as this\n",
    "    df_spin[\"spin_amp\"] = df_spin.spin_time.apply(lambda element: spin_data_to_amp_and_phase(element,fsamp,res)[1])\n",
    "    df_spin[\"spin_phase\"] = df_spin.spin_time.apply(lambda element: spin_data_to_amp_and_phase(element,fsamp,res)[2])\n",
    "    #if(save_file==True):\n",
    "    #    df.to_pickle(filename)\n",
    "    return df_spin\n",
    "\n",
    "def loop_run_spin_processor(bead_data,bead_number,dataset,run,start_file,max_files,fsamp,save_file=False):\n",
    "    df_spin=pd.DataFrame()\n",
    "    start_file=start_file\n",
    "    end_file=max_files\n",
    "    step_size=100\n",
    "    for j in tqdm(np.arange(start_file,end_file,step_size)):\n",
    "        print(j)\n",
    "        try:\n",
    "            df_temp = pd.DataFrame()\n",
    "            df_temp = spin_processor(bead_date,bead_number,dataset,run,j,step_size,fsamp)\n",
    "            df_spin = pd.concat([df_spin,df_temp],ignore_index=True)\n",
    "        except: print(\"The %d-th file did not work. Maybe your specified max_file is longer than the datasets\" %j)\n",
    "    if(save_file==True):\n",
    "        print(\"Feature is coming once tested\")\n",
    "    return df_spin\n"
   ]
  },
  {
   "cell_type": "code",
   "execution_count": 5,
   "metadata": {
    "scrolled": true
   },
   "outputs": [
    {
     "name": "stderr",
     "output_type": "stream",
     "text": [
      "  0%|          | 0/100 [00:00<?, ?it/s]\n",
      "  0%|          | 0/1 [00:00<?, ?it/s]\u001b[A"
     ]
    },
    {
     "name": "stdout",
     "output_type": "stream",
     "text": [
      "0\n",
      "2500\n",
      "Loading files\n"
     ]
    },
    {
     "name": "stderr",
     "output_type": "stream",
     "text": [
      "\n",
      "  1%|          | 1/100 [00:12<20:28, 12.41s/it]A\n",
      "  0%|          | 0/1 [00:00<?, ?it/s]\u001b[A"
     ]
    },
    {
     "name": "stdout",
     "output_type": "stream",
     "text": [
      "100\n",
      "2500\n",
      "Loading files\n"
     ]
    },
    {
     "name": "stderr",
     "output_type": "stream",
     "text": [
      "\n",
      "  2%|▏         | 2/100 [00:25<20:22, 12.48s/it]A\n",
      "  0%|          | 0/1 [00:00<?, ?it/s]\u001b[A"
     ]
    },
    {
     "name": "stdout",
     "output_type": "stream",
     "text": [
      "200\n",
      "2500\n",
      "Loading files\n"
     ]
    },
    {
     "name": "stderr",
     "output_type": "stream",
     "text": [
      "\n",
      "  3%|▎         | 3/100 [00:37<20:01, 12.38s/it]A\n",
      "  0%|          | 0/1 [00:00<?, ?it/s]\u001b[A"
     ]
    },
    {
     "name": "stdout",
     "output_type": "stream",
     "text": [
      "300\n",
      "2500\n",
      "Loading files\n"
     ]
    },
    {
     "name": "stderr",
     "output_type": "stream",
     "text": [
      "\n",
      "  4%|▍         | 4/100 [00:49<19:48, 12.39s/it]A\n",
      "  0%|          | 0/1 [00:00<?, ?it/s]\u001b[A"
     ]
    },
    {
     "name": "stdout",
     "output_type": "stream",
     "text": [
      "400\n",
      "2500\n",
      "Loading files\n"
     ]
    },
    {
     "name": "stderr",
     "output_type": "stream",
     "text": [
      "\n",
      "  5%|▌         | 5/100 [01:02<20:01, 12.65s/it]A\n",
      "  0%|          | 0/1 [00:00<?, ?it/s]\u001b[A"
     ]
    },
    {
     "name": "stdout",
     "output_type": "stream",
     "text": [
      "500\n",
      "2500\n",
      "Loading files\n"
     ]
    },
    {
     "name": "stderr",
     "output_type": "stream",
     "text": [
      "\n",
      "  6%|▌         | 6/100 [01:15<19:46, 12.63s/it]A\n",
      "  0%|          | 0/1 [00:00<?, ?it/s]\u001b[A"
     ]
    },
    {
     "name": "stdout",
     "output_type": "stream",
     "text": [
      "600\n",
      "2500\n",
      "Loading files\n"
     ]
    },
    {
     "name": "stderr",
     "output_type": "stream",
     "text": [
      "\n",
      "  7%|▋         | 7/100 [01:33<22:18, 14.39s/it]A\n",
      "  0%|          | 0/1 [00:00<?, ?it/s]\u001b[A"
     ]
    },
    {
     "name": "stdout",
     "output_type": "stream",
     "text": [
      "700\n",
      "2500\n",
      "Loading files\n"
     ]
    },
    {
     "name": "stderr",
     "output_type": "stream",
     "text": [
      "\n",
      "  8%|▊         | 8/100 [01:53<24:38, 16.07s/it]A\n",
      "  0%|          | 0/1 [00:00<?, ?it/s]\u001b[A"
     ]
    },
    {
     "name": "stdout",
     "output_type": "stream",
     "text": [
      "800\n",
      "2500\n",
      "Loading files\n"
     ]
    },
    {
     "name": "stderr",
     "output_type": "stream",
     "text": [
      "\n",
      "  9%|▉         | 9/100 [02:13<25:50, 17.04s/it]A\n",
      "  0%|          | 0/1 [00:00<?, ?it/s]\u001b[A"
     ]
    },
    {
     "name": "stdout",
     "output_type": "stream",
     "text": [
      "900\n",
      "2500\n",
      "Loading files\n"
     ]
    },
    {
     "name": "stderr",
     "output_type": "stream",
     "text": [
      "\n",
      " 10%|█         | 10/100 [02:31<26:09, 17.44s/it]\n",
      "  0%|          | 0/1 [00:00<?, ?it/s]\u001b[A"
     ]
    },
    {
     "name": "stdout",
     "output_type": "stream",
     "text": [
      "1000\n",
      "2500\n",
      "Loading files\n"
     ]
    },
    {
     "name": "stderr",
     "output_type": "stream",
     "text": [
      "\n",
      " 11%|█         | 11/100 [02:52<27:18, 18.41s/it]\n",
      "  0%|          | 0/1 [00:00<?, ?it/s]\u001b[A"
     ]
    },
    {
     "name": "stdout",
     "output_type": "stream",
     "text": [
      "1100\n",
      "2500\n",
      "Loading files\n"
     ]
    },
    {
     "name": "stderr",
     "output_type": "stream",
     "text": [
      "\n",
      " 12%|█▏        | 12/100 [03:11<27:10, 18.53s/it]\n",
      "  0%|          | 0/1 [00:00<?, ?it/s]\u001b[A"
     ]
    },
    {
     "name": "stdout",
     "output_type": "stream",
     "text": [
      "1200\n",
      "2500\n",
      "Loading files\n"
     ]
    },
    {
     "name": "stderr",
     "output_type": "stream",
     "text": [
      "\n",
      " 13%|█▎        | 13/100 [03:30<27:20, 18.85s/it]\n",
      "  0%|          | 0/1 [00:00<?, ?it/s]\u001b[A"
     ]
    },
    {
     "name": "stdout",
     "output_type": "stream",
     "text": [
      "1300\n",
      "2500\n",
      "Loading files\n"
     ]
    },
    {
     "name": "stderr",
     "output_type": "stream",
     "text": [
      "\n",
      " 14%|█▍        | 14/100 [03:51<27:48, 19.40s/it]\n",
      "  0%|          | 0/1 [00:00<?, ?it/s]\u001b[A"
     ]
    },
    {
     "name": "stdout",
     "output_type": "stream",
     "text": [
      "1400\n",
      "2500\n",
      "Loading files\n"
     ]
    },
    {
     "name": "stderr",
     "output_type": "stream",
     "text": [
      "\n",
      " 15%|█▌        | 15/100 [04:10<27:29, 19.41s/it]\n",
      "  0%|          | 0/1 [00:00<?, ?it/s]\u001b[A"
     ]
    },
    {
     "name": "stdout",
     "output_type": "stream",
     "text": [
      "1500\n",
      "2500\n",
      "Loading files\n"
     ]
    },
    {
     "name": "stderr",
     "output_type": "stream",
     "text": [
      "\n",
      " 16%|█▌        | 16/100 [04:30<27:05, 19.35s/it]\n",
      "  0%|          | 0/1 [00:00<?, ?it/s]\u001b[A"
     ]
    },
    {
     "name": "stdout",
     "output_type": "stream",
     "text": [
      "1600\n",
      "2500\n",
      "Loading files\n"
     ]
    },
    {
     "name": "stderr",
     "output_type": "stream",
     "text": [
      "\n",
      " 17%|█▋        | 17/100 [04:51<27:35, 19.94s/it]\n",
      "  0%|          | 0/1 [00:00<?, ?it/s]\u001b[A"
     ]
    },
    {
     "name": "stdout",
     "output_type": "stream",
     "text": [
      "1700\n",
      "2500\n",
      "Loading files\n"
     ]
    },
    {
     "name": "stderr",
     "output_type": "stream",
     "text": [
      "\n",
      " 18%|█▊        | 18/100 [05:11<27:21, 20.02s/it]\n",
      "  0%|          | 0/1 [00:00<?, ?it/s]\u001b[A"
     ]
    },
    {
     "name": "stdout",
     "output_type": "stream",
     "text": [
      "1800\n",
      "2500\n",
      "Loading files\n"
     ]
    },
    {
     "name": "stderr",
     "output_type": "stream",
     "text": [
      "\n",
      " 19%|█▉        | 19/100 [05:32<27:18, 20.23s/it]\n",
      "  0%|          | 0/1 [00:00<?, ?it/s]\u001b[A"
     ]
    },
    {
     "name": "stdout",
     "output_type": "stream",
     "text": [
      "1900\n",
      "2500\n",
      "Loading files\n"
     ]
    },
    {
     "name": "stderr",
     "output_type": "stream",
     "text": [
      "\n",
      " 20%|██        | 20/100 [05:54<27:37, 20.72s/it]\n",
      "  0%|          | 0/1 [00:00<?, ?it/s]\u001b[A"
     ]
    },
    {
     "name": "stdout",
     "output_type": "stream",
     "text": [
      "2000\n",
      "2500\n",
      "Loading files\n"
     ]
    },
    {
     "name": "stderr",
     "output_type": "stream",
     "text": [
      "\n",
      " 21%|██        | 21/100 [06:14<27:04, 20.57s/it]\n",
      "  0%|          | 0/1 [00:00<?, ?it/s]\u001b[A"
     ]
    },
    {
     "name": "stdout",
     "output_type": "stream",
     "text": [
      "2100\n",
      "2500\n",
      "Loading files\n"
     ]
    },
    {
     "name": "stderr",
     "output_type": "stream",
     "text": [
      "\n",
      " 22%|██▏       | 22/100 [06:35<26:54, 20.70s/it]\n",
      "  0%|          | 0/1 [00:00<?, ?it/s]\u001b[A"
     ]
    },
    {
     "name": "stdout",
     "output_type": "stream",
     "text": [
      "2200\n",
      "2500\n",
      "Loading files\n"
     ]
    },
    {
     "name": "stderr",
     "output_type": "stream",
     "text": [
      "\n",
      " 23%|██▎       | 23/100 [06:58<27:31, 21.45s/it]\n",
      "  0%|          | 0/1 [00:00<?, ?it/s]\u001b[A"
     ]
    },
    {
     "name": "stdout",
     "output_type": "stream",
     "text": [
      "2300\n",
      "2500\n",
      "Loading files\n"
     ]
    },
    {
     "name": "stderr",
     "output_type": "stream",
     "text": [
      "\n",
      " 24%|██▍       | 24/100 [07:20<27:27, 21.68s/it]\n",
      "  0%|          | 0/1 [00:00<?, ?it/s]\u001b[A"
     ]
    },
    {
     "name": "stdout",
     "output_type": "stream",
     "text": [
      "2400\n",
      "2500\n",
      "Loading files\n"
     ]
    },
    {
     "name": "stderr",
     "output_type": "stream",
     "text": [
      "\n",
      " 25%|██▌       | 25/100 [07:42<26:58, 21.58s/it]\n",
      "  0%|          | 0/1 [00:00<?, ?it/s]\u001b[A\n",
      "100%|██████████| 1/1 [00:00<00:00, 1109.31it/s]\u001b[A\n",
      "  0%|          | 0/1 [00:00<?, ?it/s]\u001b[A\n",
      "100%|██████████| 1/1 [00:00<00:00, 2475.98it/s]\u001b[A\n",
      "  0%|          | 0/1 [00:00<?, ?it/s]\u001b[A\n",
      "100%|██████████| 1/1 [00:00<00:00, 1554.02it/s]\u001b[A\n",
      "  0%|          | 0/1 [00:00<?, ?it/s]\u001b[A\n",
      " 29%|██▉       | 29/100 [07:42<17:53, 15.12s/it][A\n",
      "  0%|          | 0/1 [00:00<?, ?it/s]\u001b[A\n",
      "100%|██████████| 1/1 [00:00<00:00, 2704.26it/s]\u001b[A\n",
      "  0%|          | 0/1 [00:00<?, ?it/s]\u001b[A\n",
      "100%|██████████| 1/1 [00:00<00:00, 1935.53it/s]\u001b[A\n",
      "  0%|          | 0/1 [00:00<?, ?it/s]\u001b[A\n",
      "100%|██████████| 1/1 [00:00<00:00, 1832.37it/s]\u001b[A\n",
      "  0%|          | 0/1 [00:00<?, ?it/s]\u001b[A\n",
      "100%|██████████| 1/1 [00:00<00:00, 2041.02it/s]\u001b[A"
     ]
    },
    {
     "name": "stdout",
     "output_type": "stream",
     "text": [
      "2500\n",
      "2500\n",
      "Loading files\n",
      "2600\n",
      "2500\n",
      "Loading files\n",
      "2700\n",
      "2500\n",
      "Loading files\n",
      "2800\n",
      "2500\n",
      "Loading files\n",
      "2900\n",
      "2500\n",
      "Loading files\n",
      "3000\n",
      "2500\n",
      "Loading files\n",
      "3100\n",
      "2500\n",
      "Loading files\n",
      "3200\n",
      "2500\n",
      "Loading files\n",
      "3300\n"
     ]
    },
    {
     "name": "stderr",
     "output_type": "stream",
     "text": [
      "\n",
      "  0%|          | 0/1 [00:00<?, ?it/s]\u001b[A\n",
      " 34%|███▍      | 34/100 [07:42<11:38, 10.59s/it][A\n",
      "  0%|          | 0/1 [00:00<?, ?it/s]\u001b[A\n",
      "100%|██████████| 1/1 [00:00<00:00, 2080.51it/s]\u001b[A\n",
      "  0%|          | 0/1 [00:00<?, ?it/s]\u001b[A\n",
      "100%|██████████| 1/1 [00:00<00:00, 1897.02it/s]\u001b[A\n",
      "  0%|          | 0/1 [00:00<?, ?it/s]\u001b[A\n",
      "100%|██████████| 1/1 [00:00<00:00, 783.25it/s]\u001b[A\n",
      "  0%|          | 0/1 [00:00<?, ?it/s]\u001b[A\n",
      "100%|██████████| 1/1 [00:00<00:00, 2384.48it/s]\u001b[A\n",
      "  0%|          | 0/1 [00:00<?, ?it/s]\u001b[A\n",
      " 39%|███▉      | 39/100 [07:42<07:32,  7.42s/it][A\n",
      "  0%|          | 0/1 [00:00<?, ?it/s]\u001b[A\n",
      "100%|██████████| 1/1 [00:00<00:00, 2186.81it/s]\u001b[A\n",
      "  0%|          | 0/1 [00:00<?, ?it/s]\u001b[A\n",
      "100%|██████████| 1/1 [00:00<00:00, 2411.91it/s]\u001b[A\n",
      "  0%|          | 0/1 [00:00<?, ?it/s]\u001b[A\n",
      "100%|██████████| 1/1 [00:00<00:00, 2442.81it/s]\u001b[A\n"
     ]
    },
    {
     "name": "stdout",
     "output_type": "stream",
     "text": [
      "2500\n",
      "Loading files\n",
      "3400\n",
      "2500\n",
      "Loading files\n",
      "3500\n",
      "2500\n",
      "Loading files\n",
      "3600\n",
      "2500\n",
      "Loading files\n",
      "3700\n",
      "2500\n",
      "Loading files\n",
      "3800\n",
      "2500\n",
      "Loading files\n",
      "3900\n",
      "2500\n",
      "Loading files\n",
      "4000\n",
      "2500\n",
      "Loading files\n",
      "4100\n",
      "2500\n",
      "Loading files\n",
      "4200\n",
      "2500\n",
      "Loading files\n"
     ]
    },
    {
     "name": "stderr",
     "output_type": "stream",
     "text": [
      "  0%|          | 0/1 [00:00<?, ?it/s]\u001b[A\n",
      "100%|██████████| 1/1 [00:00<00:00, 2444.23it/s]\u001b[A\n",
      "  0%|          | 0/1 [00:00<?, ?it/s]\u001b[A\n",
      " 44%|████▍     | 44/100 [07:42<04:51,  5.20s/it][A\n",
      "  0%|          | 0/1 [00:00<?, ?it/s]\u001b[A\n",
      "100%|██████████| 1/1 [00:00<00:00, 1779.51it/s]\u001b[A\n",
      "  0%|          | 0/1 [00:00<?, ?it/s]\u001b[A\n",
      "100%|██████████| 1/1 [00:00<00:00, 2071.26it/s]\u001b[A\n",
      "  0%|          | 0/1 [00:00<?, ?it/s]\u001b[A\n",
      "100%|██████████| 1/1 [00:00<00:00, 2475.98it/s]\u001b[A\n",
      "  0%|          | 0/1 [00:00<?, ?it/s]\u001b[A\n",
      " 48%|████▊     | 48/100 [07:42<03:09,  3.65s/it][A\n",
      "  0%|          | 0/1 [00:00<?, ?it/s]\u001b[A\n",
      "100%|██████████| 1/1 [00:00<00:00, 2119.41it/s]\u001b[A\n",
      "  0%|          | 0/1 [00:00<?, ?it/s]\u001b[A\n",
      "100%|██████████| 1/1 [00:00<00:00, 1784.81it/s]\u001b[A\n",
      "  0%|          | 0/1 [00:00<?, ?it/s]\u001b[A\n",
      "100%|██████████| 1/1 [00:00<00:00, 2251.37it/s]\u001b[A"
     ]
    },
    {
     "name": "stdout",
     "output_type": "stream",
     "text": [
      "4300\n",
      "2500\n",
      "Loading files\n",
      "4400\n",
      "2500\n",
      "Loading files\n",
      "4500\n",
      "2500\n",
      "Loading files\n",
      "4600\n",
      "2500\n",
      "Loading files\n",
      "4700\n",
      "2500\n",
      "Loading files\n",
      "4800\n",
      "2500\n",
      "Loading files\n",
      "4900\n",
      "2500\n",
      "Loading files\n",
      "5000\n",
      "2500\n",
      "Loading files\n",
      "5100\n"
     ]
    },
    {
     "name": "stderr",
     "output_type": "stream",
     "text": [
      "\n",
      "  0%|          | 0/1 [00:00<?, ?it/s]\u001b[A\n",
      " 52%|█████▏    | 52/100 [07:42<02:02,  2.56s/it][A\n",
      "  0%|          | 0/1 [00:00<?, ?it/s]\u001b[A\n",
      "100%|██████████| 1/1 [00:00<00:00, 2470.14it/s]\u001b[A\n",
      "  0%|          | 0/1 [00:00<?, ?it/s]\u001b[A\n",
      "100%|██████████| 1/1 [00:00<00:00, 1114.32it/s]\u001b[A\n",
      "  0%|          | 0/1 [00:00<?, ?it/s]\u001b[A\n",
      "100%|██████████| 1/1 [00:00<00:00, 2213.35it/s]\u001b[A\n",
      "  0%|          | 0/1 [00:00<?, ?it/s]\u001b[A\n",
      " 56%|█████▌    | 56/100 [07:42<01:19,  1.80s/it][A\n",
      "  0%|          | 0/1 [00:00<?, ?it/s]\u001b[A\n",
      "100%|██████████| 1/1 [00:00<00:00, 2406.37it/s]\u001b[A\n",
      "  0%|          | 0/1 [00:00<?, ?it/s]\u001b[A\n",
      "100%|██████████| 1/1 [00:00<00:00, 1033.08it/s]\u001b[A\n",
      "  0%|          | 0/1 [00:00<?, ?it/s]\u001b[A\n",
      "100%|██████████| 1/1 [00:00<00:00, 2138.86it/s]\u001b[A"
     ]
    },
    {
     "name": "stdout",
     "output_type": "stream",
     "text": [
      "2500\n",
      "Loading files\n",
      "5200\n",
      "2500\n",
      "Loading files\n",
      "5300\n",
      "2500\n",
      "Loading files\n",
      "5400\n",
      "2500\n",
      "Loading files\n",
      "5500\n",
      "2500\n",
      "Loading files\n",
      "5600\n",
      "2500\n",
      "Loading files\n",
      "5700\n",
      "2500\n",
      "Loading files\n",
      "5800\n",
      "2500\n",
      "Loading files\n",
      "5900\n"
     ]
    },
    {
     "name": "stderr",
     "output_type": "stream",
     "text": [
      "\n",
      "  0%|          | 0/1 [00:00<?, ?it/s]\u001b[A\n",
      " 60%|██████    | 60/100 [07:42<00:50,  1.27s/it][A\n",
      "  0%|          | 0/1 [00:00<?, ?it/s]\u001b[A\n",
      "100%|██████████| 1/1 [00:00<00:00, 1937.32it/s]\u001b[A\n",
      "  0%|          | 0/1 [00:00<?, ?it/s]\u001b[A\n",
      "100%|██████████| 1/1 [00:00<00:00, 1771.24it/s]\u001b[A\n",
      "  0%|          | 0/1 [00:00<?, ?it/s]\u001b[A\n",
      "100%|██████████| 1/1 [00:00<00:00, 2454.24it/s]\u001b[A\n",
      "  0%|          | 0/1 [00:00<?, ?it/s]\u001b[A\n",
      " 64%|██████▍   | 64/100 [07:43<00:32,  1.12it/s][A\n",
      "  0%|          | 0/1 [00:00<?, ?it/s]\u001b[A\n",
      "100%|██████████| 1/1 [00:00<00:00, 2493.64it/s]\u001b[A\n",
      "  0%|          | 0/1 [00:00<?, ?it/s]\u001b[A\n",
      "100%|██████████| 1/1 [00:00<00:00, 1565.04it/s]\u001b[A\n",
      "  0%|          | 0/1 [00:00<?, ?it/s]\u001b[A\n",
      "100%|██████████| 1/1 [00:00<00:00, 1823.61it/s]\u001b[A"
     ]
    },
    {
     "name": "stdout",
     "output_type": "stream",
     "text": [
      "2500\n",
      "Loading files\n",
      "6000\n",
      "2500\n",
      "Loading files\n",
      "6100\n",
      "2500\n",
      "Loading files\n",
      "6200\n",
      "2500\n",
      "Loading files\n",
      "6300\n",
      "2500\n",
      "Loading files\n",
      "6400\n",
      "2500\n",
      "Loading files\n",
      "6500\n",
      "2500\n",
      "Loading files\n",
      "6600\n",
      "2500\n",
      "Loading files\n",
      "6700\n"
     ]
    },
    {
     "name": "stderr",
     "output_type": "stream",
     "text": [
      "\n",
      "  0%|          | 0/1 [00:00<?, ?it/s]\u001b[A\n",
      " 68%|██████▊   | 68/100 [07:43<00:20,  1.57it/s][A\n",
      "  0%|          | 0/1 [00:00<?, ?it/s]\u001b[A\n",
      "100%|██████████| 1/1 [00:00<00:00, 1778.75it/s]\u001b[A\n",
      "  0%|          | 0/1 [00:00<?, ?it/s]\u001b[A\n",
      "100%|██████████| 1/1 [00:00<00:00, 3050.40it/s]\u001b[A\n",
      "  0%|          | 0/1 [00:00<?, ?it/s]\u001b[A\n",
      "100%|██████████| 1/1 [00:00<00:00, 2866.92it/s]\u001b[A\n",
      "  0%|          | 0/1 [00:00<?, ?it/s]\u001b[A\n",
      " 72%|███████▏  | 72/100 [07:43<00:12,  2.21it/s][A\n",
      "  0%|          | 0/1 [00:00<?, ?it/s]\u001b[A\n",
      "100%|██████████| 1/1 [00:00<00:00, 2964.17it/s]\u001b[A\n",
      "  0%|          | 0/1 [00:00<?, ?it/s]\u001b[A\n",
      "100%|██████████| 1/1 [00:00<00:00, 3026.19it/s]\u001b[A\n",
      "  0%|          | 0/1 [00:00<?, ?it/s]\u001b[A\n",
      "100%|██████████| 1/1 [00:00<00:00, 2974.68it/s]\u001b[A"
     ]
    },
    {
     "name": "stdout",
     "output_type": "stream",
     "text": [
      "2500\n",
      "Loading files\n",
      "6800\n",
      "2500\n",
      "Loading files\n",
      "6900\n",
      "2500\n",
      "Loading files\n",
      "7000\n",
      "2500\n",
      "Loading files\n",
      "7100\n",
      "2500\n",
      "Loading files\n",
      "7200\n",
      "2500\n",
      "Loading files\n",
      "7300\n",
      "2500\n",
      "Loading files\n",
      "7400\n",
      "2500\n",
      "Loading files\n",
      "7500\n",
      "2500\n"
     ]
    },
    {
     "name": "stderr",
     "output_type": "stream",
     "text": [
      "\n",
      "  0%|          | 0/1 [00:00<?, ?it/s]\u001b[A\n",
      "100%|██████████| 1/1 [00:00<00:00, 3013.15it/s]\u001b[A\n",
      "  0%|          | 0/1 [00:00<?, ?it/s]\u001b[A\n",
      " 77%|███████▋  | 77/100 [07:43<00:07,  3.09it/s][A\n",
      "  0%|          | 0/1 [00:00<?, ?it/s]\u001b[A\n",
      "100%|██████████| 1/1 [00:00<00:00, 2341.88it/s]\u001b[A\n",
      "  0%|          | 0/1 [00:00<?, ?it/s]\u001b[A\n",
      "100%|██████████| 1/1 [00:00<00:00, 2095.06it/s]\u001b[A\n",
      "  0%|          | 0/1 [00:00<?, ?it/s]\u001b[A\n",
      "100%|██████████| 1/1 [00:00<00:00, 880.05it/s]\u001b[A\n",
      "  0%|          | 0/1 [00:00<?, ?it/s]\u001b[A\n",
      " 81%|████████  | 81/100 [07:43<00:04,  4.26it/s][A\n",
      "  0%|          | 0/1 [00:00<?, ?it/s]\u001b[A\n",
      "100%|██████████| 1/1 [00:00<00:00, 2796.20it/s]\u001b[A\n",
      "  0%|          | 0/1 [00:00<?, ?it/s]\u001b[A\n",
      "100%|██████████| 1/1 [00:00<00:00, 2641.25it/s]\u001b[A"
     ]
    },
    {
     "name": "stdout",
     "output_type": "stream",
     "text": [
      "Loading files\n",
      "7600\n",
      "2500\n",
      "Loading files\n",
      "7700\n",
      "2500\n",
      "Loading files\n",
      "7800\n",
      "2500\n",
      "Loading files\n",
      "7900\n",
      "2500\n",
      "Loading files\n",
      "8000\n",
      "2500\n",
      "Loading files\n",
      "8100\n",
      "2500\n",
      "Loading files\n",
      "8200\n",
      "2500\n",
      "Loading files\n",
      "8300\n"
     ]
    },
    {
     "name": "stderr",
     "output_type": "stream",
     "text": [
      "\n",
      "  0%|          | 0/1 [00:00<?, ?it/s]\u001b[A\n",
      "100%|██████████| 1/1 [00:00<00:00, 2953.74it/s]\u001b[A\n",
      "  0%|          | 0/1 [00:00<?, ?it/s]\u001b[A\n",
      "100%|██████████| 1/1 [00:00<00:00, 2214.52it/s]\u001b[A\n",
      "  0%|          | 0/1 [00:00<?, ?it/s]\u001b[A\n",
      " 86%|████████▌ | 86/100 [07:43<00:02,  5.83it/s][A\n",
      "  0%|          | 0/1 [00:00<?, ?it/s]\u001b[A\n",
      "100%|██████████| 1/1 [00:00<00:00, 2142.14it/s]\u001b[A\n",
      "  0%|          | 0/1 [00:00<?, ?it/s]\u001b[A\n",
      "100%|██████████| 1/1 [00:00<00:00, 2918.79it/s]\u001b[A\n",
      "  0%|          | 0/1 [00:00<?, ?it/s]\u001b[A\n",
      "100%|██████████| 1/1 [00:00<00:00, 2554.39it/s]\u001b[A\n",
      "  0%|          | 0/1 [00:00<?, ?it/s]\u001b[A\n",
      "100%|██████████| 1/1 [00:00<00:00, 2537.39it/s]\u001b[A\n",
      "  0%|          | 0/1 [00:00<?, ?it/s]\u001b[A\n",
      " 91%|█████████ | 91/100 [07:43<00:01,  7.83it/s][A\n",
      "  0%|          | 0/1 [00:00<?, ?it/s]\u001b[A\n",
      "100%|██████████| 1/1 [00:00<00:00, 1754.20it/s]\u001b[A"
     ]
    },
    {
     "name": "stdout",
     "output_type": "stream",
     "text": [
      "2500\n",
      "Loading files\n",
      "8400\n",
      "2500\n",
      "Loading files\n",
      "8500\n",
      "2500\n",
      "Loading files\n",
      "8600\n",
      "2500\n",
      "Loading files\n",
      "8700\n",
      "2500\n",
      "Loading files\n",
      "8800\n",
      "2500\n",
      "Loading files\n",
      "8900\n",
      "2500\n",
      "Loading files\n",
      "9000\n",
      "2500\n",
      "Loading files\n",
      "9100\n",
      "2500\n",
      "Loading files\n",
      "9200\n"
     ]
    },
    {
     "name": "stderr",
     "output_type": "stream",
     "text": [
      "\n",
      "  0%|          | 0/1 [00:00<?, ?it/s]\u001b[A\n",
      "100%|██████████| 1/1 [00:00<00:00, 1122.07it/s]\u001b[A\n",
      "  0%|          | 0/1 [00:00<?, ?it/s]\u001b[A\n",
      "100%|██████████| 1/1 [00:00<00:00, 2165.36it/s]\u001b[A\n",
      "  0%|          | 0/1 [00:00<?, ?it/s]\u001b[A\n",
      " 95%|█████████▌| 95/100 [07:43<00:00, 10.28it/s][A\n",
      "  0%|          | 0/1 [00:00<?, ?it/s]\u001b[A\n",
      "100%|██████████| 1/1 [00:00<00:00, 2468.69it/s]\u001b[A\n",
      "  0%|          | 0/1 [00:00<?, ?it/s]\u001b[A\n",
      "100%|██████████| 1/1 [00:00<00:00, 1783.29it/s]\u001b[A\n",
      "  0%|          | 0/1 [00:00<?, ?it/s]\u001b[A\n",
      "100%|██████████| 1/1 [00:00<00:00, 1959.04it/s]\u001b[A\n",
      "  0%|          | 0/1 [00:00<?, ?it/s]\u001b[A\n",
      " 99%|█████████▉| 99/100 [07:43<00:00, 13.18it/s]A\n",
      "  0%|          | 0/1 [00:00<?, ?it/s]\u001b[A\n",
      "100%|██████████| 100/100 [07:44<00:00,  4.64s/it]A"
     ]
    },
    {
     "name": "stdout",
     "output_type": "stream",
     "text": [
      "2500\n",
      "Loading files\n",
      "9300\n",
      "2500\n",
      "Loading files\n",
      "9400\n",
      "2500\n",
      "Loading files\n",
      "9500\n",
      "2500\n",
      "Loading files\n",
      "9600\n",
      "2500\n",
      "Loading files\n",
      "9700\n",
      "2500\n",
      "Loading files\n",
      "9800\n",
      "2500\n",
      "Loading files\n",
      "9900\n",
      "2500\n",
      "Loading files\n",
      "464.023432970047\n"
     ]
    },
    {
     "name": "stderr",
     "output_type": "stream",
     "text": [
      "\n"
     ]
    }
   ],
   "source": [
    "s = time.time()\n",
    "df_spin = loop_run_spin_processor(bead_date,bead_number,dataset,run=FOI,start_file=0,max_files=10000,fsamp=200000)\n",
    "e = time.time()\n",
    "print(e-s)"
   ]
  },
  {
   "cell_type": "code",
   "execution_count": 6,
   "metadata": {},
   "outputs": [
    {
     "data": {
      "text/html": [
       "<div>\n",
       "<style scoped>\n",
       "    .dataframe tbody tr th:only-of-type {\n",
       "        vertical-align: middle;\n",
       "    }\n",
       "\n",
       "    .dataframe tbody tr th {\n",
       "        vertical-align: top;\n",
       "    }\n",
       "\n",
       "    .dataframe thead th {\n",
       "        text-align: right;\n",
       "    }\n",
       "</style>\n",
       "<table border=\"1\" class=\"dataframe\">\n",
       "  <thead>\n",
       "    <tr style=\"text-align: right;\">\n",
       "      <th></th>\n",
       "      <th>spin_time</th>\n",
       "      <th>spin_amp</th>\n",
       "      <th>spin_phase</th>\n",
       "    </tr>\n",
       "  </thead>\n",
       "  <tbody>\n",
       "    <tr>\n",
       "      <th>0</th>\n",
       "      <td>[-1.0344922560784924, -1.0336317560033421, -1....</td>\n",
       "      <td>[9.571392418277975e-30, 4.6982442191954704e-08...</td>\n",
       "      <td>[0.0, 0.6927294873355795, 2.7110033739881576, ...</td>\n",
       "    </tr>\n",
       "    <tr>\n",
       "      <th>1</th>\n",
       "      <td>[-1.034022892401051, -1.0337882105624083, -1.0...</td>\n",
       "      <td>[1.2878780044111276e-32, 1.501971467167533e-09...</td>\n",
       "      <td>[0.0, -2.7608730436852182, 1.9554774024133177,...</td>\n",
       "    </tr>\n",
       "    <tr>\n",
       "      <th>2</th>\n",
       "      <td>[-1.0370737563081434, -1.0369955290283643, -1....</td>\n",
       "      <td>[4.1506382015548705e-31, 3.538671460673434e-08...</td>\n",
       "      <td>[3.141592653589793, 2.2864876281891147, -1.385...</td>\n",
       "    </tr>\n",
       "    <tr>\n",
       "      <th>3</th>\n",
       "      <td>[-1.0431754841487904, -1.043019029588332, -1.0...</td>\n",
       "      <td>[2.646250995879541e-31, 2.578132424695243e-08,...</td>\n",
       "      <td>[3.141592653589793, 1.8248479800145254, 0.1033...</td>\n",
       "    </tr>\n",
       "    <tr>\n",
       "      <th>4</th>\n",
       "      <td>[-1.0420020749459198, -1.0412980294248257, -1....</td>\n",
       "      <td>[1.96622901439038e-30, 8.949331402207968e-10, ...</td>\n",
       "      <td>[0.0, 2.2571300636775025, 1.5445018682559546, ...</td>\n",
       "    </tr>\n",
       "    <tr>\n",
       "      <th>...</th>\n",
       "      <td>...</td>\n",
       "      <td>...</td>\n",
       "      <td>...</td>\n",
       "    </tr>\n",
       "    <tr>\n",
       "      <th>2495</th>\n",
       "      <td>[-1.0768132151932106, -1.0771261243243535, -1....</td>\n",
       "      <td>[5.94237927372793e-33, 2.2880246173802984e-08,...</td>\n",
       "      <td>[0.0, 2.367536003502294, 1.5920518613037251, -...</td>\n",
       "    </tr>\n",
       "    <tr>\n",
       "      <th>2496</th>\n",
       "      <td>[-1.0858093527518484, -1.0854964436180394, -1....</td>\n",
       "      <td>[1.3918920432889429e-30, 7.065609690567139e-09...</td>\n",
       "      <td>[3.141592653589793, 2.014552091135283, 1.32041...</td>\n",
       "    </tr>\n",
       "    <tr>\n",
       "      <th>2497</th>\n",
       "      <td>[-1.0646879864349332, -1.0635928044896041, -1....</td>\n",
       "      <td>[2.2478208428963837e-30, 6.955945956003231e-09...</td>\n",
       "      <td>[3.141592653589793, 0.8055401237452624, 2.1119...</td>\n",
       "    </tr>\n",
       "    <tr>\n",
       "      <th>2498</th>\n",
       "      <td>[-1.0748575331257366, -1.0773608061727733, -1....</td>\n",
       "      <td>[3.9436340228332215e-31, 2.63111131170903e-08,...</td>\n",
       "      <td>[3.141592653589793, 2.093666969997817, 1.51916...</td>\n",
       "    </tr>\n",
       "    <tr>\n",
       "      <th>2499</th>\n",
       "      <td>[-1.0783777608498823, -1.0777519425869262, -1....</td>\n",
       "      <td>[4.494230571898546e-31, 3.1695587375216966e-08...</td>\n",
       "      <td>[0.0, 2.1594944121735686, 0.7488800557876109, ...</td>\n",
       "    </tr>\n",
       "  </tbody>\n",
       "</table>\n",
       "<p>2500 rows × 3 columns</p>\n",
       "</div>"
      ],
      "text/plain": [
       "                                              spin_time  \\\n",
       "0     [-1.0344922560784924, -1.0336317560033421, -1....   \n",
       "1     [-1.034022892401051, -1.0337882105624083, -1.0...   \n",
       "2     [-1.0370737563081434, -1.0369955290283643, -1....   \n",
       "3     [-1.0431754841487904, -1.043019029588332, -1.0...   \n",
       "4     [-1.0420020749459198, -1.0412980294248257, -1....   \n",
       "...                                                 ...   \n",
       "2495  [-1.0768132151932106, -1.0771261243243535, -1....   \n",
       "2496  [-1.0858093527518484, -1.0854964436180394, -1....   \n",
       "2497  [-1.0646879864349332, -1.0635928044896041, -1....   \n",
       "2498  [-1.0748575331257366, -1.0773608061727733, -1....   \n",
       "2499  [-1.0783777608498823, -1.0777519425869262, -1....   \n",
       "\n",
       "                                               spin_amp  \\\n",
       "0     [9.571392418277975e-30, 4.6982442191954704e-08...   \n",
       "1     [1.2878780044111276e-32, 1.501971467167533e-09...   \n",
       "2     [4.1506382015548705e-31, 3.538671460673434e-08...   \n",
       "3     [2.646250995879541e-31, 2.578132424695243e-08,...   \n",
       "4     [1.96622901439038e-30, 8.949331402207968e-10, ...   \n",
       "...                                                 ...   \n",
       "2495  [5.94237927372793e-33, 2.2880246173802984e-08,...   \n",
       "2496  [1.3918920432889429e-30, 7.065609690567139e-09...   \n",
       "2497  [2.2478208428963837e-30, 6.955945956003231e-09...   \n",
       "2498  [3.9436340228332215e-31, 2.63111131170903e-08,...   \n",
       "2499  [4.494230571898546e-31, 3.1695587375216966e-08...   \n",
       "\n",
       "                                             spin_phase  \n",
       "0     [0.0, 0.6927294873355795, 2.7110033739881576, ...  \n",
       "1     [0.0, -2.7608730436852182, 1.9554774024133177,...  \n",
       "2     [3.141592653589793, 2.2864876281891147, -1.385...  \n",
       "3     [3.141592653589793, 1.8248479800145254, 0.1033...  \n",
       "4     [0.0, 2.2571300636775025, 1.5445018682559546, ...  \n",
       "...                                                 ...  \n",
       "2495  [0.0, 2.367536003502294, 1.5920518613037251, -...  \n",
       "2496  [3.141592653589793, 2.014552091135283, 1.32041...  \n",
       "2497  [3.141592653589793, 0.8055401237452624, 2.1119...  \n",
       "2498  [3.141592653589793, 2.093666969997817, 1.51916...  \n",
       "2499  [0.0, 2.1594944121735686, 0.7488800557876109, ...  \n",
       "\n",
       "[2500 rows x 3 columns]"
      ]
     },
     "execution_count": 6,
     "metadata": {},
     "output_type": "execute_result"
    }
   ],
   "source": [
    "df_spin"
   ]
  },
  {
   "cell_type": "code",
   "execution_count": 7,
   "metadata": {},
   "outputs": [
    {
     "data": {
      "image/png": "[encoded data removed]",
      "text/plain": [
       "<Figure size 1152x864 with 1 Axes>"
      ]
     },
     "metadata": {
      "needs_background": "light"
     },
     "output_type": "display_data"
    }
   ],
   "source": [
    "plt.plot(df_spin.spin_amp[0])\n",
    "plt.xlim(100000,200000)\n",
    "plt.ylim(1e-12,1e-6)\n",
    "plt.yscale(\"log\")"
   ]
  },
  {
   "cell_type": "code",
   "execution_count": 20,
   "metadata": {},
   "outputs": [
    {
     "name": "stdout",
     "output_type": "stream",
     "text": [
      "Folder exists or you do not have permissions\n",
      "Successfully saved spin file\n"
     ]
    }
   ],
   "source": [
    "# save the file\n",
    "base_proc = \"/data/new_trap_processed/processed_files/\" + str(bead_date) +  \"/Bead%s/\" %bead_number\n",
    "\n",
    "try:\n",
    "    os.makedirs(base_proc+dataset)\n",
    "    print(\"Created subdirs %s\" %dataset)\n",
    "except:\n",
    "    print(\"Folder exists or you do not have permissions\")\n",
    "    \n",
    "outputname = base_proc + dataset+FOI+\"_spin.pkl\"\n",
    "if(os.path.isfile(outputname)==False):\n",
    "    df_spin.to_pickle(outputname)\n",
    "    print(\"Successfully saved spin file\")\n",
    "else:print(\"No spin file produced. %s exists already!\" %outputname)    "
   ]
  },
  {
   "cell_type": "code",
   "execution_count": 21,
   "metadata": {},
   "outputs": [],
   "source": [
    "base_proc = \"/data/new_trap_processed/processed_files/\" + str(bead_date) +  \"/Bead%s/\" %bead_number\n",
    "df_spin = pd.read_pickle(base_proc + dataset+FOI+\"_spin.pkl\")"
   ]
  },
  {
   "cell_type": "code",
   "execution_count": 22,
   "metadata": {},
   "outputs": [],
   "source": [
    "def freq_phase_extractor(df_spin,full=True):\n",
    "    frequency = 3\n",
    "    no_harmonics=15\n",
    "    if(full==True): fq = np.arange(10,25000,10)\n",
    "    if(full==False): fq= np.arange(frequency*10,no_harmonics*10*frequency,10*frequency)   \n",
    "    for f in tqdm(fq):\n",
    "        foi =[]\n",
    "        poi=[]\n",
    "        for i in range(len(df_spin)):\n",
    "            foi.append(df_spin.spin_amp[i][f-5:f+5].mean())\n",
    "            poi.append(df_spin.spin_phase[i][f])\n",
    "        df_spin[\"freq_%d\" %(f/10)] = foi\n",
    "        df_spin[\"phase_%d\"%(f/10)] = poi\n",
    "    return df_spin"
   ]
  },
  {
   "cell_type": "code",
   "execution_count": 23,
   "metadata": {},
   "outputs": [
    {
     "name": "stderr",
     "output_type": "stream",
     "text": [
      "100%|██████████| 2499/2499 [02:02<00:00, 20.40it/s]\n"
     ]
    }
   ],
   "source": [
    "df_spin = freq_phase_extractor(df_spin,full=True)"
   ]
  },
  {
   "cell_type": "code",
   "execution_count": 24,
   "metadata": {},
   "outputs": [
    {
     "name": "stdout",
     "output_type": "stream",
     "text": [
      "/data/new_trap_processed/processed_files/20200614/Bead1/Shaking/Shaking367/NoSpinNoShaking0__spin_full_freq_only.pkl\n"
     ]
    }
   ],
   "source": [
    "base_proc = \"/data/new_trap_processed/processed_files/\" + str(bead_date) +  \"/Bead%s/\" %bead_number\n",
    "outputname = base_proc + dataset+FOI+\"_spin_full_freq_only.pkl\"\n",
    "df_red = df_spin.drop(columns=[\"spin_amp\",\"spin_phase\",\"spin_time\"])\n",
    "df_red.to_pickle(outputname)\n",
    "print(outputname)"
   ]
  },
  {
   "cell_type": "code",
   "execution_count": 25,
   "metadata": {},
   "outputs": [],
   "source": [
    "base_proc = \"/data/new_trap_processed/processed_files/\" + str(bead_date) +  \"/Bead%s/\" %bead_number\n",
    "df_spin = pd.read_pickle(base_proc + dataset+FOI+\"_spin_full_freq_only.pkl\")"
   ]
  },
  {
   "cell_type": "code",
   "execution_count": 26,
   "metadata": {},
   "outputs": [
    {
     "data": {
      "text/html": [
       "<div>\n",
       "<style scoped>\n",
       "    .dataframe tbody tr th:only-of-type {\n",
       "        vertical-align: middle;\n",
       "    }\n",
       "\n",
       "    .dataframe tbody tr th {\n",
       "        vertical-align: top;\n",
       "    }\n",
       "\n",
       "    .dataframe thead th {\n",
       "        text-align: right;\n",
       "    }\n",
       "</style>\n",
       "<table border=\"1\" class=\"dataframe\">\n",
       "  <thead>\n",
       "    <tr style=\"text-align: right;\">\n",
       "      <th></th>\n",
       "      <th>freq_1</th>\n",
       "      <th>phase_1</th>\n",
       "      <th>freq_2</th>\n",
       "      <th>phase_2</th>\n",
       "      <th>freq_3</th>\n",
       "      <th>phase_3</th>\n",
       "      <th>freq_4</th>\n",
       "      <th>phase_4</th>\n",
       "      <th>freq_5</th>\n",
       "      <th>phase_5</th>\n",
       "      <th>...</th>\n",
       "      <th>freq_2495</th>\n",
       "      <th>phase_2495</th>\n",
       "      <th>freq_2496</th>\n",
       "      <th>phase_2496</th>\n",
       "      <th>freq_2497</th>\n",
       "      <th>phase_2497</th>\n",
       "      <th>freq_2498</th>\n",
       "      <th>phase_2498</th>\n",
       "      <th>freq_2499</th>\n",
       "      <th>phase_2499</th>\n",
       "    </tr>\n",
       "  </thead>\n",
       "  <tbody>\n",
       "    <tr>\n",
       "      <th>0</th>\n",
       "      <td>2.698394e-09</td>\n",
       "      <td>2.657920</td>\n",
       "      <td>6.690071e-10</td>\n",
       "      <td>-0.587366</td>\n",
       "      <td>3.113752e-10</td>\n",
       "      <td>-1.589908</td>\n",
       "      <td>7.022076e-10</td>\n",
       "      <td>-1.565677</td>\n",
       "      <td>1.378564e-09</td>\n",
       "      <td>-1.123267</td>\n",
       "      <td>...</td>\n",
       "      <td>1.658852e-10</td>\n",
       "      <td>0.720477</td>\n",
       "      <td>1.566683e-10</td>\n",
       "      <td>1.696044</td>\n",
       "      <td>2.069059e-10</td>\n",
       "      <td>3.057557</td>\n",
       "      <td>1.191601e-10</td>\n",
       "      <td>-1.327558</td>\n",
       "      <td>7.739855e-11</td>\n",
       "      <td>-3.121088</td>\n",
       "    </tr>\n",
       "    <tr>\n",
       "      <th>1</th>\n",
       "      <td>6.289820e-09</td>\n",
       "      <td>-1.959535</td>\n",
       "      <td>5.779012e-10</td>\n",
       "      <td>-1.728669</td>\n",
       "      <td>7.512133e-10</td>\n",
       "      <td>0.055072</td>\n",
       "      <td>6.028108e-10</td>\n",
       "      <td>1.414217</td>\n",
       "      <td>1.293265e-09</td>\n",
       "      <td>2.605218</td>\n",
       "      <td>...</td>\n",
       "      <td>1.725482e-10</td>\n",
       "      <td>-2.869395</td>\n",
       "      <td>3.350604e-10</td>\n",
       "      <td>0.608267</td>\n",
       "      <td>2.327356e-10</td>\n",
       "      <td>1.770280</td>\n",
       "      <td>1.120925e-10</td>\n",
       "      <td>1.950577</td>\n",
       "      <td>1.630509e-10</td>\n",
       "      <td>1.605195</td>\n",
       "    </tr>\n",
       "    <tr>\n",
       "      <th>2</th>\n",
       "      <td>1.316793e-08</td>\n",
       "      <td>2.652907</td>\n",
       "      <td>1.198070e-09</td>\n",
       "      <td>1.081546</td>\n",
       "      <td>7.957918e-10</td>\n",
       "      <td>1.011753</td>\n",
       "      <td>4.648061e-10</td>\n",
       "      <td>2.564810</td>\n",
       "      <td>2.148388e-09</td>\n",
       "      <td>1.234405</td>\n",
       "      <td>...</td>\n",
       "      <td>2.061504e-10</td>\n",
       "      <td>-0.788962</td>\n",
       "      <td>2.026210e-10</td>\n",
       "      <td>-0.033237</td>\n",
       "      <td>1.366961e-10</td>\n",
       "      <td>-0.164489</td>\n",
       "      <td>1.159775e-10</td>\n",
       "      <td>0.317698</td>\n",
       "      <td>1.702580e-10</td>\n",
       "      <td>-2.154928</td>\n",
       "    </tr>\n",
       "    <tr>\n",
       "      <th>3</th>\n",
       "      <td>1.364226e-08</td>\n",
       "      <td>1.549473</td>\n",
       "      <td>7.793044e-10</td>\n",
       "      <td>-3.017058</td>\n",
       "      <td>6.598660e-10</td>\n",
       "      <td>0.059062</td>\n",
       "      <td>8.083873e-10</td>\n",
       "      <td>-2.568398</td>\n",
       "      <td>1.509774e-09</td>\n",
       "      <td>0.522481</td>\n",
       "      <td>...</td>\n",
       "      <td>2.261940e-10</td>\n",
       "      <td>1.833993</td>\n",
       "      <td>2.266544e-10</td>\n",
       "      <td>-2.600998</td>\n",
       "      <td>1.529150e-10</td>\n",
       "      <td>2.644687</td>\n",
       "      <td>3.107618e-10</td>\n",
       "      <td>-2.436378</td>\n",
       "      <td>1.169416e-10</td>\n",
       "      <td>-0.100900</td>\n",
       "    </tr>\n",
       "    <tr>\n",
       "      <th>4</th>\n",
       "      <td>1.475871e-08</td>\n",
       "      <td>-1.383672</td>\n",
       "      <td>2.158634e-09</td>\n",
       "      <td>-2.167857</td>\n",
       "      <td>9.954045e-10</td>\n",
       "      <td>-1.078410</td>\n",
       "      <td>6.874106e-10</td>\n",
       "      <td>0.327430</td>\n",
       "      <td>3.873352e-09</td>\n",
       "      <td>1.497776</td>\n",
       "      <td>...</td>\n",
       "      <td>1.904211e-10</td>\n",
       "      <td>2.501978</td>\n",
       "      <td>2.717387e-10</td>\n",
       "      <td>-0.443446</td>\n",
       "      <td>2.356482e-10</td>\n",
       "      <td>-2.864872</td>\n",
       "      <td>9.204181e-11</td>\n",
       "      <td>2.121335</td>\n",
       "      <td>1.856181e-10</td>\n",
       "      <td>2.625231</td>\n",
       "    </tr>\n",
       "    <tr>\n",
       "      <th>...</th>\n",
       "      <td>...</td>\n",
       "      <td>...</td>\n",
       "      <td>...</td>\n",
       "      <td>...</td>\n",
       "      <td>...</td>\n",
       "      <td>...</td>\n",
       "      <td>...</td>\n",
       "      <td>...</td>\n",
       "      <td>...</td>\n",
       "      <td>...</td>\n",
       "      <td>...</td>\n",
       "      <td>...</td>\n",
       "      <td>...</td>\n",
       "      <td>...</td>\n",
       "      <td>...</td>\n",
       "      <td>...</td>\n",
       "      <td>...</td>\n",
       "      <td>...</td>\n",
       "      <td>...</td>\n",
       "      <td>...</td>\n",
       "      <td>...</td>\n",
       "    </tr>\n",
       "    <tr>\n",
       "      <th>995</th>\n",
       "      <td>3.261559e-08</td>\n",
       "      <td>1.327681</td>\n",
       "      <td>6.532036e-08</td>\n",
       "      <td>-1.011012</td>\n",
       "      <td>5.563353e-09</td>\n",
       "      <td>1.035300</td>\n",
       "      <td>2.575120e-09</td>\n",
       "      <td>1.980972</td>\n",
       "      <td>6.122039e-09</td>\n",
       "      <td>1.768379</td>\n",
       "      <td>...</td>\n",
       "      <td>2.082631e-10</td>\n",
       "      <td>-0.123951</td>\n",
       "      <td>1.970992e-10</td>\n",
       "      <td>0.553306</td>\n",
       "      <td>1.738164e-10</td>\n",
       "      <td>1.802898</td>\n",
       "      <td>3.215583e-10</td>\n",
       "      <td>-1.924113</td>\n",
       "      <td>3.091556e-10</td>\n",
       "      <td>-3.011015</td>\n",
       "    </tr>\n",
       "    <tr>\n",
       "      <th>996</th>\n",
       "      <td>1.300425e-08</td>\n",
       "      <td>-1.340834</td>\n",
       "      <td>1.317870e-08</td>\n",
       "      <td>-0.060844</td>\n",
       "      <td>1.541157e-09</td>\n",
       "      <td>-0.051966</td>\n",
       "      <td>1.905540e-09</td>\n",
       "      <td>-0.163223</td>\n",
       "      <td>2.994315e-09</td>\n",
       "      <td>2.701200</td>\n",
       "      <td>...</td>\n",
       "      <td>2.888750e-10</td>\n",
       "      <td>-0.188391</td>\n",
       "      <td>2.304922e-10</td>\n",
       "      <td>1.653319</td>\n",
       "      <td>1.764929e-10</td>\n",
       "      <td>0.024282</td>\n",
       "      <td>1.305706e-10</td>\n",
       "      <td>1.657990</td>\n",
       "      <td>1.405079e-10</td>\n",
       "      <td>0.944220</td>\n",
       "    </tr>\n",
       "    <tr>\n",
       "      <th>997</th>\n",
       "      <td>1.247188e-07</td>\n",
       "      <td>-0.004549</td>\n",
       "      <td>3.898716e-08</td>\n",
       "      <td>2.904893</td>\n",
       "      <td>1.362109e-09</td>\n",
       "      <td>-3.136718</td>\n",
       "      <td>1.738777e-09</td>\n",
       "      <td>2.038666</td>\n",
       "      <td>4.587452e-10</td>\n",
       "      <td>-3.096253</td>\n",
       "      <td>...</td>\n",
       "      <td>1.636192e-10</td>\n",
       "      <td>-2.606279</td>\n",
       "      <td>2.208661e-10</td>\n",
       "      <td>-0.315128</td>\n",
       "      <td>1.170176e-10</td>\n",
       "      <td>-0.210603</td>\n",
       "      <td>1.315506e-10</td>\n",
       "      <td>-2.689260</td>\n",
       "      <td>1.767423e-10</td>\n",
       "      <td>2.511391</td>\n",
       "    </tr>\n",
       "    <tr>\n",
       "      <th>998</th>\n",
       "      <td>1.395979e-07</td>\n",
       "      <td>1.403583</td>\n",
       "      <td>6.003043e-08</td>\n",
       "      <td>-2.727187</td>\n",
       "      <td>1.000975e-08</td>\n",
       "      <td>1.881226</td>\n",
       "      <td>4.952954e-09</td>\n",
       "      <td>1.473844</td>\n",
       "      <td>5.995039e-09</td>\n",
       "      <td>0.813535</td>\n",
       "      <td>...</td>\n",
       "      <td>1.216794e-10</td>\n",
       "      <td>1.577052</td>\n",
       "      <td>1.802491e-10</td>\n",
       "      <td>3.051550</td>\n",
       "      <td>2.020900e-10</td>\n",
       "      <td>0.730378</td>\n",
       "      <td>6.690677e-11</td>\n",
       "      <td>1.327560</td>\n",
       "      <td>1.796659e-10</td>\n",
       "      <td>-0.493798</td>\n",
       "    </tr>\n",
       "    <tr>\n",
       "      <th>999</th>\n",
       "      <td>4.851605e-08</td>\n",
       "      <td>0.978387</td>\n",
       "      <td>1.034255e-07</td>\n",
       "      <td>-2.753071</td>\n",
       "      <td>3.155177e-09</td>\n",
       "      <td>2.243083</td>\n",
       "      <td>1.407897e-09</td>\n",
       "      <td>3.075700</td>\n",
       "      <td>2.507746e-09</td>\n",
       "      <td>0.168471</td>\n",
       "      <td>...</td>\n",
       "      <td>1.308938e-10</td>\n",
       "      <td>-0.998024</td>\n",
       "      <td>1.614714e-10</td>\n",
       "      <td>2.692940</td>\n",
       "      <td>1.441126e-10</td>\n",
       "      <td>0.538489</td>\n",
       "      <td>1.878193e-10</td>\n",
       "      <td>0.968648</td>\n",
       "      <td>2.053354e-10</td>\n",
       "      <td>-1.795444</td>\n",
       "    </tr>\n",
       "  </tbody>\n",
       "</table>\n",
       "<p>1000 rows × 4998 columns</p>\n",
       "</div>"
      ],
      "text/plain": [
       "           freq_1   phase_1        freq_2   phase_2        freq_3   phase_3  \\\n",
       "0    2.698394e-09  2.657920  6.690071e-10 -0.587366  3.113752e-10 -1.589908   \n",
       "1    6.289820e-09 -1.959535  5.779012e-10 -1.728669  7.512133e-10  0.055072   \n",
       "2    1.316793e-08  2.652907  1.198070e-09  1.081546  7.957918e-10  1.011753   \n",
       "3    1.364226e-08  1.549473  7.793044e-10 -3.017058  6.598660e-10  0.059062   \n",
       "4    1.475871e-08 -1.383672  2.158634e-09 -2.167857  9.954045e-10 -1.078410   \n",
       "..            ...       ...           ...       ...           ...       ...   \n",
       "995  3.261559e-08  1.327681  6.532036e-08 -1.011012  5.563353e-09  1.035300   \n",
       "996  1.300425e-08 -1.340834  1.317870e-08 -0.060844  1.541157e-09 -0.051966   \n",
       "997  1.247188e-07 -0.004549  3.898716e-08  2.904893  1.362109e-09 -3.136718   \n",
       "998  1.395979e-07  1.403583  6.003043e-08 -2.727187  1.000975e-08  1.881226   \n",
       "999  4.851605e-08  0.978387  1.034255e-07 -2.753071  3.155177e-09  2.243083   \n",
       "\n",
       "           freq_4   phase_4        freq_5   phase_5  ...     freq_2495  \\\n",
       "0    7.022076e-10 -1.565677  1.378564e-09 -1.123267  ...  1.658852e-10   \n",
       "1    6.028108e-10  1.414217  1.293265e-09  2.605218  ...  1.725482e-10   \n",
       "2    4.648061e-10  2.564810  2.148388e-09  1.234405  ...  2.061504e-10   \n",
       "3    8.083873e-10 -2.568398  1.509774e-09  0.522481  ...  2.261940e-10   \n",
       "4    6.874106e-10  0.327430  3.873352e-09  1.497776  ...  1.904211e-10   \n",
       "..            ...       ...           ...       ...  ...           ...   \n",
       "995  2.575120e-09  1.980972  6.122039e-09  1.768379  ...  2.082631e-10   \n",
       "996  1.905540e-09 -0.163223  2.994315e-09  2.701200  ...  2.888750e-10   \n",
       "997  1.738777e-09  2.038666  4.587452e-10 -3.096253  ...  1.636192e-10   \n",
       "998  4.952954e-09  1.473844  5.995039e-09  0.813535  ...  1.216794e-10   \n",
       "999  1.407897e-09  3.075700  2.507746e-09  0.168471  ...  1.308938e-10   \n",
       "\n",
       "     phase_2495     freq_2496  phase_2496     freq_2497  phase_2497  \\\n",
       "0      0.720477  1.566683e-10    1.696044  2.069059e-10    3.057557   \n",
       "1     -2.869395  3.350604e-10    0.608267  2.327356e-10    1.770280   \n",
       "2     -0.788962  2.026210e-10   -0.033237  1.366961e-10   -0.164489   \n",
       "3      1.833993  2.266544e-10   -2.600998  1.529150e-10    2.644687   \n",
       "4      2.501978  2.717387e-10   -0.443446  2.356482e-10   -2.864872   \n",
       "..          ...           ...         ...           ...         ...   \n",
       "995   -0.123951  1.970992e-10    0.553306  1.738164e-10    1.802898   \n",
       "996   -0.188391  2.304922e-10    1.653319  1.764929e-10    0.024282   \n",
       "997   -2.606279  2.208661e-10   -0.315128  1.170176e-10   -0.210603   \n",
       "998    1.577052  1.802491e-10    3.051550  2.020900e-10    0.730378   \n",
       "999   -0.998024  1.614714e-10    2.692940  1.441126e-10    0.538489   \n",
       "\n",
       "        freq_2498  phase_2498     freq_2499  phase_2499  \n",
       "0    1.191601e-10   -1.327558  7.739855e-11   -3.121088  \n",
       "1    1.120925e-10    1.950577  1.630509e-10    1.605195  \n",
       "2    1.159775e-10    0.317698  1.702580e-10   -2.154928  \n",
       "3    3.107618e-10   -2.436378  1.169416e-10   -0.100900  \n",
       "4    9.204181e-11    2.121335  1.856181e-10    2.625231  \n",
       "..            ...         ...           ...         ...  \n",
       "995  3.215583e-10   -1.924113  3.091556e-10   -3.011015  \n",
       "996  1.305706e-10    1.657990  1.405079e-10    0.944220  \n",
       "997  1.315506e-10   -2.689260  1.767423e-10    2.511391  \n",
       "998  6.690677e-11    1.327560  1.796659e-10   -0.493798  \n",
       "999  1.878193e-10    0.968648  2.053354e-10   -1.795444  \n",
       "\n",
       "[1000 rows x 4998 columns]"
      ]
     },
     "execution_count": 26,
     "metadata": {},
     "output_type": "execute_result"
    }
   ],
   "source": [
    "df_red"
   ]
  },
  {
   "cell_type": "code",
   "execution_count": null,
   "metadata": {},
   "outputs": [],
   "source": []
  }
 ],
 "metadata": {
  "kernelspec": {
   "display_name": "Python 3",
   "language": "python",
   "name": "python3"
  },
  "language_info": {
   "codemirror_mode": {
    "name": "ipython",
    "version": 3
   },
   "file_extension": ".py",
   "mimetype": "text/x-python",
   "name": "python",
   "nbconvert_exporter": "python",
   "pygments_lexer": "ipython3",
   "version": "3.6.9"
  },
  "widgets": {
   "application/vnd.jupyter.widget-state+json": {
    "state": {},
    "version_major": 2,
    "version_minor": 0
   }
  }
 },
 "nbformat": 4,
 "nbformat_minor": 4
}
