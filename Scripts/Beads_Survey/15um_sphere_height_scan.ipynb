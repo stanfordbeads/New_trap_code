{
 "cells": [
  {
   "cell_type": "code",
   "execution_count": 253,
   "metadata": {},
   "outputs": [],
   "source": [
    "import numpy as np\n",
    "import matplotlib.pyplot as plt\n",
    "import matplotlib\n",
    "from scipy import signal\n",
    "from scipy.optimize import minimize\n",
    "\n",
    "import random\n",
    "\n",
    "import h5py\n",
    "from IPython.utils import io\n",
    "\n",
    "from joblib import Parallel, delayed\n",
    "from tqdm import tqdm\n",
    "import sys"
   ]
  },
  {
   "cell_type": "code",
   "execution_count": 254,
   "metadata": {},
   "outputs": [],
   "source": [
    "%matplotlib widget\n",
    "\n",
    "%reload_ext autoreload\n",
    "%autoreload 2"
   ]
  },
  {
   "cell_type": "code",
   "execution_count": 255,
   "metadata": {},
   "outputs": [],
   "source": [
    "sys.path.append('../../../../nadavp/new_trap/Tools/')\n",
    "sys.path.append('../../../../nadavp/new_trap/Tools/StatFramework/')\n",
    "sys.path.append('../../../../nadavp/opt_lev_analysis/lib/')\n",
    "import BeadDataFile\n",
    "from discharge_tools import *"
   ]
  },
  {
   "cell_type": "code",
   "execution_count": 256,
   "metadata": {},
   "outputs": [],
   "source": [
    "import bead_util as bu\n",
    "# import calib_util as cal\n",
    "import transfer_func_util as tf\n",
    "import configuration as config"
   ]
  },
  {
   "cell_type": "code",
   "execution_count": null,
   "metadata": {},
   "outputs": [],
   "source": []
  },
  {
   "cell_type": "code",
   "execution_count": 235,
   "metadata": {},
   "outputs": [],
   "source": [
    "## load all data to a list - step_file_objs\n",
    "# step_cal_dir = r'/data/old_trap/20220505/bead1/scan1/'\n",
    "\n",
    "def extract_power_height(dirname):\n",
    "    max_file = 1000\n",
    "    power_array = []\n",
    "    height_array = []\n",
    "    freq_array = []\n",
    "    for root, dirnames, filenames in os.walk(dirname):\n",
    "        filtered_filenames = fnmatch.filter(filenames, '*' + config.extensions['data']) \n",
    "        filtered_filenames.sort(key=lambda f: int(''.join(filter(str.isdigit, f))))\n",
    "        for filename in filtered_filenames:\n",
    "#             print(dirname+filename)\n",
    "            if '_fpga.h5' in filename[:]:\n",
    "                try:\n",
    "                    f = h5py.File(dirname+filename,'r')\n",
    "                    dat = np.array(f['beads/data/pow_data'])\n",
    "                    power_array.append(np.mean(dat[::4]))\n",
    "                    height_array.append(f.attrs['bead_height'])\n",
    "                    freq_array.append(extract_resonance(dirname+filename[:-8]+'.h5'))\n",
    "                except:\n",
    "                    print('***')\n",
    "    power_array = np.array(power_array)\n",
    "    height_array = np.array(height_array)\n",
    "    freq_array = np.array(freq_array)\n",
    "    \n",
    "    return height_array, power_array, freq_array\n",
    "\n",
    "def extract_resonance(filename):\n",
    "    \n",
    "    fsamp=5000\n",
    "    res=50000\n",
    "    df = bu.DataFile();\n",
    "    df.load(filename);\n",
    "\n",
    "    data=df.pos_data\n",
    "    data_det=signal.detrend(data)\n",
    "    xpsd, freqs = matplotlib.mlab.psd(data_det[0], Fs = fsamp, NFFT = res)\n",
    "    psd_tmp = xpsd[100:]\n",
    "    freq_tmp = freqs[100:]\n",
    "    return freq_tmp[np.argmax(psd_tmp)]"
   ]
  },
  {
   "cell_type": "code",
   "execution_count": 51,
   "metadata": {},
   "outputs": [],
   "source": [
    "step_cal_dir = r'/data/old_trap/20220713/bead1/scan2/'\n",
    "height_array14_, power_array14_, resonances = extract_power_height(step_cal_dir)"
   ]
  },
  {
   "cell_type": "code",
   "execution_count": null,
   "metadata": {},
   "outputs": [],
   "source": [
    "step_cal_dir = r'/data/old_trap/20220509/bead1/scan1/'\n",
    "height_array2, power_array2, freq_array2 = extract_power_height(step_cal_dir)"
   ]
  },
  {
   "cell_type": "code",
   "execution_count": null,
   "metadata": {},
   "outputs": [],
   "source": [
    "power_array2"
   ]
  },
  {
   "cell_type": "code",
   "execution_count": null,
   "metadata": {},
   "outputs": [],
   "source": [
    "-25000*10/2**15/10*50+50"
   ]
  },
  {
   "cell_type": "code",
   "execution_count": null,
   "metadata": {},
   "outputs": [],
   "source": [
    "420e-12*8/1000*10, 10e-3/3e8, 5/80"
   ]
  },
  {
   "cell_type": "code",
   "execution_count": null,
   "metadata": {},
   "outputs": [],
   "source": [
    "0.069/350*1000*100*2, 1000*0.2/2/2"
   ]
  },
  {
   "cell_type": "code",
   "execution_count": null,
   "metadata": {},
   "outputs": [],
   "source": [
    "np.log10(3.162)"
   ]
  },
  {
   "cell_type": "code",
   "execution_count": 338,
   "metadata": {},
   "outputs": [],
   "source": [
    "step_cal_dir = r'/data/old_trap/20220713/bead1/scan2/'\n",
    "height_array14, power_array14, resonances = extract_power_height(step_cal_dir)\n",
    "\n",
    "## 10um\n",
    "# step_cal_dir = r'/data/old_trap/20220323/bead1/height_scan1/'\n",
    "# height_array1, power_array1, resonances = extract_power_height(step_cal_dir)\n",
    "\n",
    "## 7.5um\n",
    "# step_cal_dir = r'/data/old_trap/20220727/bead1/scan2/'\n",
    "# height_array13, power_array13, _ = extract_power_height(step_cal_dir)"
   ]
  },
  {
   "cell_type": "code",
   "execution_count": 340,
   "metadata": {},
   "outputs": [
    {
     "data": {
      "application/vnd.jupyter.widget-view+json": {
       "model_id": "1dab1f8c579f47c6a4042e5fd62334ac",
       "version_major": 2,
       "version_minor": 0
      },
      "text/plain": [
       "Canvas(toolbar=Toolbar(toolitems=[('Home', 'Reset original view', 'home', 'home'), ('Back', 'Back to previous …"
      ]
     },
     "metadata": {},
     "output_type": "display_data"
    },
    {
     "data": {
      "text/plain": [
       "[(2, 100), Text(0, 0.5, 'Power [mW]'), Text(0.5, 0, 'Height [pixel]')]"
      ]
     },
     "execution_count": 340,
     "metadata": {},
     "output_type": "execute_result"
    }
   ],
   "source": [
    "power_conversion = -1/222e3*46*0.666\n",
    "power_conversion2 = 1/484e3*49.2\n",
    "power_conversion3 = -1/342e3*34\n",
    "power_conversion4 = -1/36.2e3*5.75\n",
    "\n",
    "_,ax = plt.subplots(figsize=(9.2,5))\n",
    "height_array14_guess = np.arange(-2,4,6/len(height_array14))\n",
    "ax.semilogy(height_array1-2.4, power_array1*power_conversion3, '*', label = '10um')\n",
    "ax.semilogy(height_array13+6, power_array13*power_conversion4, '.', label = '7.5um')\n",
    "# ax.semilogy(height_array14+6, power_array14*power_conversion4, '.', label = '7.5um')\n",
    "\n",
    "# ax.scatter(height_array1, freq_array1, label = 'bead 1 - measurement 1')\n",
    "ax.legend()\n",
    "ax.set(ylim=(2,100), ylabel='Power [mW]', xlabel='Height [pixel]')"
   ]
  },
  {
   "cell_type": "code",
   "execution_count": 327,
   "metadata": {},
   "outputs": [
    {
     "data": {
      "application/vnd.jupyter.widget-view+json": {
       "model_id": "d84b1f085f4f4f48ba3b2b0d3cb6fcee",
       "version_major": 2,
       "version_minor": 0
      },
      "text/plain": [
       "Canvas(toolbar=Toolbar(toolitems=[('Home', 'Reset original view', 'home', 'home'), ('Back', 'Back to previous …"
      ]
     },
     "metadata": {},
     "output_type": "display_data"
    },
    {
     "data": {
      "text/plain": [
       "<matplotlib.collections.PathCollection at 0x7ff9afe30fd0>"
      ]
     },
     "execution_count": 327,
     "metadata": {},
     "output_type": "execute_result"
    }
   ],
   "source": [
    "step_cal_dir = r'/data/old_trap/20220323/bead1/height_scan1/'\n",
    "height_array1, power_array1, resonances = extract_power_height(step_cal_dir)\n",
    "\n",
    "_,ax = plt.subplots(figsize=(9.2,5))\n",
    "ax.scatter(height_array1, power_array1)"
   ]
  },
  {
   "cell_type": "code",
   "execution_count": null,
   "metadata": {},
   "outputs": [],
   "source": [
    "power_conversion = -1/222e3*46*0.666\n",
    "# power_conversion = -1\n",
    "_,ax = plt.subplots(figsize=(9.2,5))\n",
    "ax.scatter(reflectance_pixel, reflectance_mw, label = 'bead 1 - reflecatance - after the weekend')\n",
    "\n",
    "# ax.scatter(height_array1, freq_array1, label = 'bead 1 - measurement 1')\n",
    "ax.legend()\n",
    "ax.set( ylabel='Power [mW]', xlabel='Height [$\\mu$m]')"
   ]
  },
  {
   "cell_type": "code",
   "execution_count": null,
   "metadata": {
    "scrolled": false
   },
   "outputs": [],
   "source": [
    "from skimage.registration import phase_cross_correlation as pcc\n",
    "from skimage.io import imread as imread\n",
    "\n",
    "import imageio as iio\n",
    "from skimage import filters\n",
    "from skimage.color import rgb2gray  # only needed for incorrectly saved images\n",
    "from skimage.measure import regionprops\n",
    "\n",
    "h_pcc = []\n",
    "h_max = []\n",
    "filename=r'/data/old_trap/20220520/bead1/height/20220520_4/run/image_test_0.bmp'\n",
    "zeroth_image=imread(filename,as_gray=True)\n",
    "for i in range(1,117):\n",
    "    print(i,end=\" \")\n",
    "    filename=r'/data/old_trap/20220520/bead1/height/20220520_4/run/image_test_'+str(i)+'.bmp'\n",
    "    image=imread(filename,as_gray=True)\n",
    "    shift,_,_ = pcc(zeroth_image,image,upsample_factor=200)\n",
    "    h_pcc.append(shift[0])\n",
    "\n",
    "\n",
    "    threshold_value = filters.threshold_otsu(image)\n",
    "    labeled_foreground = (image > threshold_value).astype(int)\n",
    "    properties = regionprops(labeled_foreground, image)\n",
    "    center_of_mass = properties[0].centroid\n",
    "    h_max.append(230-center_of_mass[0])"
   ]
  },
  {
   "cell_type": "code",
   "execution_count": null,
   "metadata": {},
   "outputs": [],
   "source": [
    "_,ax = plt.subplots()\n",
    "ax.scatter(range(116), np.array(h_max)-h_max[0])\n",
    "ax.scatter(range(116), np.array(h_pcc)-h_pcc[0])"
   ]
  },
  {
   "cell_type": "code",
   "execution_count": null,
   "metadata": {},
   "outputs": [],
   "source": []
  },
  {
   "cell_type": "code",
   "execution_count": null,
   "metadata": {},
   "outputs": [],
   "source": []
  },
  {
   "cell_type": "code",
   "execution_count": 242,
   "metadata": {},
   "outputs": [],
   "source": [
    "filename = r'/data/old_trap/20220713/bead1/discharge/response_x/X_139Hz_10Vpp_1.h5'\n",
    "filename2 = r'/data/old_trap/20220713/bead1/discharge/response_y/Y_139Hz_10Vpp_1.h5'\n",
    "filename3 = r'/data/old_trap/20220713/bead1/discharge/response_z/Z_139Hz_10Vpp_1.h5'\n",
    "\n",
    "fsamp = 5000\n",
    "res = 5000\n",
    "\n",
    "df = bu.DataFile();\n",
    "df.load(filename);\n",
    "\n",
    "df2 = bu.DataFile();\n",
    "df2.load(filename2);\n",
    "\n",
    "df3 = bu.DataFile();\n",
    "df3.load(filename3);\n",
    "\n",
    "data=df.pos_data\n",
    "data_det=signal.detrend(data)\n",
    "xpsd, freqs = matplotlib.mlab.psd(data_det[0], Fs = fsamp, NFFT = res)\n",
    "ypsd, freqs = matplotlib.mlab.psd(data_det[1], Fs = fsamp, NFFT = res)\n",
    "zpsd, freqs = matplotlib.mlab.psd(data_det[2], Fs = fsamp, NFFT = res)\n",
    "f = h5py.File(filename[:-3]+'_fpga.h5','r')\n",
    "height1 = f.attrs['bead_height']\n",
    "\n",
    "data2=df2.pos_data\n",
    "data_det2=signal.detrend(data2)\n",
    "xpsd2, freqs = matplotlib.mlab.psd(data_det2[0], Fs = fsamp, NFFT = res)\n",
    "ypsd2, freqs = matplotlib.mlab.psd(data_det2[1], Fs = fsamp, NFFT = res)\n",
    "zpsd2, freqs = matplotlib.mlab.psd(data_det2[2], Fs = fsamp, NFFT = res)\n",
    "f = h5py.File(filename2[:-3]+'_fpga.h5','r')\n",
    "height2 = f.attrs['bead_height']\n",
    "\n",
    "data3=df3.pos_data\n",
    "data_det3=signal.detrend(data3)\n",
    "xpsd3, freqs = matplotlib.mlab.psd(data_det3[0], Fs = fsamp, NFFT = res)\n",
    "ypsd3, freqs = matplotlib.mlab.psd(data_det3[1], Fs = fsamp, NFFT = res)\n",
    "zpsd3, freqs = matplotlib.mlab.psd(data_det3[2], Fs = fsamp, NFFT = res)\n",
    "f = h5py.File(filename3[:-3]+'_fpga.h5','r')\n",
    "height3 = f.attrs['bead_height']"
   ]
  },
  {
   "cell_type": "code",
   "execution_count": 241,
   "metadata": {},
   "outputs": [
    {
     "data": {
      "application/vnd.jupyter.widget-view+json": {
       "model_id": "63ec96fd81094f94bea70ac4aba1b284",
       "version_major": 2,
       "version_minor": 0
      },
      "text/plain": [
       "Canvas(toolbar=Toolbar(toolitems=[('Home', 'Reset original view', 'home', 'home'), ('Back', 'Back to previous …"
      ]
     },
     "metadata": {},
     "output_type": "display_data"
    }
   ],
   "source": [
    "_,ax = plt.subplots()\n",
    "ax.semilogy(freqs, xpsd, '.-', label='X response',markersize=1,linewidth=0.5)\n",
    "ax.semilogy(freqs, ypsd2, '.-', label='Y response',markersize=1,linewidth=0.5)\n",
    "ax.semilogy(freqs, zpsd3, '.-', label='Z response',markersize=1,linewidth=0.5)\n",
    "\n",
    "ax.legend()\n",
    "ax.set_xlabel('Frequency [Hz]')\n",
    "ax.set_ylabel(r'PSD [bits$^2/Hz.$]')\n",
    "plt.xlim(0.1,400)\n",
    "#plt.ylim(1e6,1e10)\n",
    "plt.grid(True)\n",
    "\n",
    "psd_tmp = xpsd[100:]\n",
    "freq_tmp = freqs[100:]\n",
    "freqs[np.argmax(xpsd)], freq_tmp[np.argmax(psd_tmp)]\n",
    "\n",
    "zx_factor=np.sqrt(zpsd3[freqs==139]/xpsd[freqs==139])\n",
    "zy_factor=np.sqrt(zpsd3[freqs==139]/ypsd2[freqs==139])"
   ]
  },
  {
   "cell_type": "code",
   "execution_count": null,
   "metadata": {},
   "outputs": [],
   "source": [
    "zx_factor, zy_factor"
   ]
  },
  {
   "cell_type": "code",
   "execution_count": null,
   "metadata": {},
   "outputs": [],
   "source": []
  },
  {
   "cell_type": "code",
   "execution_count": 174,
   "metadata": {},
   "outputs": [],
   "source": [
    "ll = likelihood_analyser.LikelihoodAnalyser()\n",
    "\n",
    "## fit parameteres\n",
    "drive_freq = 139\n",
    "phase_diff = 1.44\n",
    "bandwidth = 2\n",
    "decimate = 10\n",
    "\n",
    "\n",
    "## extracing the amplitude at a certain frequency \n",
    "def get_z_amp(i):\n",
    "    \n",
    "    bb = step_file_objs[i]      \n",
    "    \n",
    "    ## extract drive phase\n",
    "    freq2 = np.fft.rfftfreq(len(bb.other_data[1]), d=1./5000)\n",
    "    fft_angles = np.angle(np.fft.rfft(bb.other_data[1]))\n",
    "    phi_tmp2 = (fft_angles[freq2==drive_freq]+np.pi/2)%(2*np.pi)\n",
    "#     print(np.std(bb.other_data[1])*100*np.sqrt(2))\n",
    "    \n",
    "    fit_kwargs = {'A': 0, 'f': drive_freq, 'phi': phi_tmp2+phase_diff, \n",
    "                  'error_A': 0.1, 'error_f': 1, 'error_phi': 0.5, 'errordef': 1,\n",
    "                  'limit_A': [-100000, 100000], 'fix_phi': True, 'fix_f': True,\n",
    "                  'print_level': 0}\n",
    "    \n",
    "    ## bandpass data\n",
    "    b, a = signal.butter(3, [2.*(drive_freq-bandwidth/2.)/fsamp, 2.*(drive_freq+bandwidth/2.)/fsamp ], btype = 'bandpass')\n",
    "    bb.load_other_data()\n",
    "    xx2 = signal.filtfilt(b, a, bb.pos_data[2])[::decimate]\n",
    "    ## extract amplitude\n",
    "    m1_tmp = ll.find_mle_sin(xx2, fsamp=fsamp/decimate, noise_rms=1, plot=False, suppress_print=True, **fit_kwargs)\n",
    "    \n",
    "    return m1_tmp.values[0], m1_tmp.values[2]-phi_tmp2"
   ]
  },
  {
   "cell_type": "code",
   "execution_count": 218,
   "metadata": {},
   "outputs": [
    {
     "name": "stdout",
     "output_type": "stream",
     "text": [
      "464\n"
     ]
    }
   ],
   "source": [
    "## load all data to a list - step_file_objs\n",
    "step_cal_dir = r'/data/old_trap/20220713/bead1/discharge/fine4/'\n",
    "max_file = 500\n",
    "\n",
    "step_cal_files = []\n",
    "for root, dirnames, filenames in os.walk(step_cal_dir):\n",
    "    for filename in fnmatch.filter(filenames, '*' + config.extensions['data']):\n",
    "        if '_fpga.h5' in filename:\n",
    "            continue\n",
    "        step_cal_files.append(os.path.join(root, filename))\n",
    "step_cal_files.sort(key = bu.find_str)\n",
    "num_calib_files = len(step_cal_files)\n",
    "print(num_calib_files)\n",
    "\n",
    "# Do the step calibration\n",
    "\n",
    "step_file_objs = []\n",
    "for filname in step_cal_files[:]:\n",
    "    try:\n",
    "        df = bu.DataFile();\n",
    "        df.load(filname);\n",
    "        df.load_other_data()\n",
    "        step_file_objs.append(df);\n",
    "    except:\n",
    "        print('***')"
   ]
  },
  {
   "cell_type": "code",
   "execution_count": 219,
   "metadata": {
    "scrolled": true
   },
   "outputs": [
    {
     "name": "stdout",
     "output_type": "stream",
     "text": [
      "0 / 464\n",
      "1 / 464\n",
      "2 / 464\n",
      "3 / 464\n",
      "4 / 464\n",
      "5 / 464\n",
      "6 / 464\n",
      "7 / 464\n",
      "8 / 464\n",
      "9 / 464\n",
      "10 / 464\n",
      "11 / 464\n",
      "12 / 464\n",
      "13 / 464\n",
      "14 / 464\n",
      "15 / 464\n",
      "16 / 464\n",
      "17 / 464\n",
      "18 / 464\n",
      "19 / 464\n",
      "20 / 464\n",
      "21 / 464\n",
      "22 / 464\n",
      "23 / 464\n",
      "24 / 464\n",
      "25 / 464\n",
      "26 / 464\n",
      "27 / 464\n",
      "28 / 464\n",
      "29 / 464\n",
      "30 / 464\n",
      "31 / 464\n",
      "32 / 464\n",
      "33 / 464\n",
      "34 / 464\n",
      "35 / 464\n",
      "36 / 464\n",
      "37 / 464\n",
      "38 / 464\n",
      "39 / 464\n",
      "40 / 464\n",
      "41 / 464\n",
      "42 / 464\n",
      "43 / 464\n",
      "44 / 464\n",
      "45 / 464\n",
      "46 / 464\n",
      "47 / 464\n",
      "48 / 464\n",
      "49 / 464\n",
      "50 / 464\n",
      "51 / 464\n",
      "52 / 464\n",
      "53 / 464\n",
      "54 / 464\n",
      "55 / 464\n",
      "56 / 464\n",
      "57 / 464\n",
      "58 / 464\n",
      "59 / 464\n",
      "60 / 464\n",
      "61 / 464\n",
      "62 / 464\n",
      "63 / 464\n",
      "64 / 464\n",
      "65 / 464\n",
      "66 / 464\n",
      "67 / 464\n",
      "68 / 464\n",
      "69 / 464\n",
      "70 / 464\n",
      "71 / 464\n",
      "72 / 464\n",
      "73 / 464\n",
      "74 / 464\n",
      "75 / 464\n",
      "76 / 464\n",
      "77 / 464\n",
      "78 / 464\n",
      "79 / 464\n",
      "80 / 464\n",
      "81 / 464\n",
      "82 / 464\n",
      "83 / 464\n",
      "84 / 464\n",
      "85 / 464\n",
      "86 / 464\n",
      "87 / 464\n",
      "88 / 464\n",
      "89 / 464\n",
      "90 / 464\n",
      "91 / 464\n",
      "92 / 464\n",
      "93 / 464\n",
      "94 / 464\n",
      "95 / 464\n",
      "96 / 464\n",
      "97 / 464\n",
      "98 / 464\n",
      "99 / 464\n",
      "100 / 464\n",
      "101 / 464\n",
      "102 / 464\n",
      "103 / 464\n",
      "104 / 464\n",
      "105 / 464\n",
      "106 / 464\n",
      "107 / 464\n",
      "108 / 464\n",
      "109 / 464\n",
      "110 / 464\n",
      "111 / 464\n",
      "112 / 464\n",
      "113 / 464\n",
      "114 / 464\n",
      "115 / 464\n",
      "116 / 464\n",
      "117 / 464\n",
      "118 / 464\n",
      "119 / 464\n",
      "120 / 464\n",
      "121 / 464\n",
      "122 / 464\n",
      "123 / 464\n",
      "124 / 464\n",
      "125 / 464\n",
      "126 / 464\n",
      "127 / 464\n",
      "128 / 464\n",
      "129 / 464\n",
      "130 / 464\n",
      "131 / 464\n",
      "132 / 464\n",
      "133 / 464\n",
      "134 / 464\n",
      "135 / 464\n",
      "136 / 464\n",
      "137 / 464\n",
      "138 / 464\n",
      "139 / 464\n",
      "140 / 464\n",
      "141 / 464\n",
      "142 / 464\n",
      "143 / 464\n",
      "144 / 464\n",
      "145 / 464\n",
      "146 / 464\n",
      "147 / 464\n",
      "148 / 464\n",
      "149 / 464\n",
      "150 / 464\n",
      "151 / 464\n",
      "152 / 464\n",
      "153 / 464\n",
      "154 / 464\n",
      "155 / 464\n",
      "156 / 464\n",
      "157 / 464\n",
      "158 / 464\n",
      "159 / 464\n",
      "160 / 464\n",
      "161 / 464\n",
      "162 / 464\n",
      "163 / 464\n",
      "164 / 464\n",
      "165 / 464\n",
      "166 / 464\n",
      "167 / 464\n",
      "168 / 464\n",
      "169 / 464\n",
      "170 / 464\n",
      "171 / 464\n",
      "172 / 464\n",
      "173 / 464\n",
      "174 / 464\n",
      "175 / 464\n",
      "176 / 464\n",
      "177 / 464\n",
      "178 / 464\n",
      "179 / 464\n",
      "180 / 464\n",
      "181 / 464\n",
      "182 / 464\n",
      "183 / 464\n",
      "184 / 464\n",
      "185 / 464\n",
      "186 / 464\n",
      "187 / 464\n",
      "188 / 464\n",
      "189 / 464\n",
      "190 / 464\n",
      "191 / 464\n",
      "192 / 464\n",
      "193 / 464\n",
      "194 / 464\n",
      "195 / 464\n",
      "196 / 464\n",
      "197 / 464\n",
      "198 / 464\n",
      "199 / 464\n",
      "200 / 464\n",
      "201 / 464\n",
      "202 / 464\n",
      "203 / 464\n",
      "204 / 464\n",
      "205 / 464\n",
      "206 / 464\n",
      "207 / 464\n",
      "208 / 464\n",
      "209 / 464\n",
      "210 / 464\n",
      "211 / 464\n",
      "212 / 464\n",
      "213 / 464\n",
      "214 / 464\n",
      "215 / 464\n",
      "216 / 464\n",
      "217 / 464\n",
      "218 / 464\n",
      "219 / 464\n",
      "220 / 464\n",
      "221 / 464\n",
      "222 / 464\n",
      "223 / 464\n",
      "224 / 464\n",
      "225 / 464\n",
      "226 / 464\n",
      "227 / 464\n",
      "228 / 464\n",
      "229 / 464\n",
      "230 / 464\n",
      "231 / 464\n",
      "232 / 464\n",
      "233 / 464\n",
      "234 / 464\n",
      "235 / 464\n",
      "236 / 464\n",
      "237 / 464\n",
      "238 / 464\n",
      "239 / 464\n",
      "240 / 464\n",
      "241 / 464\n",
      "242 / 464\n",
      "243 / 464\n",
      "244 / 464\n",
      "245 / 464\n",
      "246 / 464\n",
      "247 / 464\n",
      "248 / 464\n",
      "249 / 464\n",
      "250 / 464\n",
      "251 / 464\n",
      "252 / 464\n",
      "253 / 464\n",
      "254 / 464\n",
      "255 / 464\n",
      "256 / 464\n",
      "257 / 464\n",
      "258 / 464\n",
      "259 / 464\n",
      "260 / 464\n",
      "261 / 464\n",
      "262 / 464\n",
      "263 / 464\n",
      "264 / 464\n",
      "265 / 464\n",
      "266 / 464\n",
      "267 / 464\n",
      "268 / 464\n",
      "269 / 464\n",
      "270 / 464\n",
      "271 / 464\n",
      "272 / 464\n",
      "273 / 464\n",
      "274 / 464\n",
      "275 / 464\n",
      "276 / 464\n",
      "277 / 464\n",
      "278 / 464\n",
      "279 / 464\n",
      "280 / 464\n",
      "281 / 464\n",
      "282 / 464\n",
      "283 / 464\n",
      "284 / 464\n",
      "285 / 464\n",
      "286 / 464\n",
      "287 / 464\n",
      "288 / 464\n",
      "289 / 464\n",
      "290 / 464\n",
      "291 / 464\n",
      "292 / 464\n",
      "293 / 464\n",
      "294 / 464\n",
      "295 / 464\n",
      "296 / 464\n",
      "297 / 464\n",
      "298 / 464\n",
      "299 / 464\n",
      "300 / 464\n",
      "301 / 464\n",
      "302 / 464\n",
      "303 / 464\n",
      "304 / 464\n",
      "305 / 464\n",
      "306 / 464\n",
      "307 / 464\n",
      "308 / 464\n",
      "309 / 464\n",
      "310 / 464\n",
      "311 / 464\n",
      "312 / 464\n",
      "313 / 464\n",
      "314 / 464\n",
      "315 / 464\n",
      "316 / 464\n",
      "317 / 464\n",
      "318 / 464\n",
      "319 / 464\n",
      "320 / 464\n",
      "321 / 464\n",
      "322 / 464\n",
      "323 / 464\n",
      "324 / 464\n",
      "325 / 464\n",
      "326 / 464\n",
      "327 / 464\n",
      "328 / 464\n",
      "329 / 464\n",
      "330 / 464\n",
      "331 / 464\n",
      "332 / 464\n",
      "333 / 464\n",
      "334 / 464\n",
      "335 / 464\n",
      "336 / 464\n",
      "337 / 464\n",
      "338 / 464\n",
      "339 / 464\n",
      "340 / 464\n",
      "341 / 464\n",
      "342 / 464\n",
      "343 / 464\n",
      "344 / 464\n",
      "345 / 464\n",
      "346 / 464\n",
      "347 / 464\n",
      "348 / 464\n",
      "349 / 464\n",
      "350 / 464\n",
      "351 / 464\n",
      "352 / 464\n",
      "353 / 464\n",
      "354 / 464\n",
      "355 / 464\n",
      "356 / 464\n",
      "357 / 464\n",
      "358 / 464\n",
      "359 / 464\n",
      "360 / 464\n",
      "361 / 464\n",
      "362 / 464\n",
      "363 / 464\n",
      "364 / 464\n",
      "365 / 464\n",
      "366 / 464\n",
      "367 / 464\n",
      "368 / 464\n",
      "369 / 464\n",
      "370 / 464\n",
      "371 / 464\n",
      "372 / 464\n",
      "373 / 464\n",
      "374 / 464\n",
      "375 / 464\n",
      "376 / 464\n",
      "377 / 464\n",
      "378 / 464\n",
      "379 / 464\n",
      "380 / 464\n",
      "381 / 464\n",
      "382 / 464\n",
      "383 / 464\n",
      "384 / 464\n",
      "385 / 464\n",
      "386 / 464\n",
      "387 / 464\n",
      "388 / 464\n",
      "389 / 464\n",
      "390 / 464\n",
      "391 / 464\n",
      "392 / 464\n",
      "393 / 464\n",
      "394 / 464\n",
      "395 / 464\n",
      "396 / 464\n",
      "397 / 464\n",
      "398 / 464\n",
      "399 / 464\n",
      "400 / 464\n",
      "401 / 464\n",
      "402 / 464\n",
      "403 / 464\n",
      "404 / 464\n",
      "405 / 464\n",
      "406 / 464\n",
      "407 / 464\n",
      "408 / 464\n",
      "409 / 464\n",
      "410 / 464\n",
      "411 / 464\n",
      "412 / 464\n",
      "413 / 464\n",
      "414 / 464\n",
      "415 / 464\n",
      "416 / 464\n",
      "417 / 464\n",
      "418 / 464\n",
      "419 / 464\n",
      "420 / 464\n",
      "421 / 464\n",
      "422 / 464\n",
      "423 / 464\n",
      "424 / 464\n",
      "425 / 464\n",
      "426 / 464\n",
      "427 / 464\n",
      "428 / 464\n",
      "429 / 464\n",
      "430 / 464\n",
      "431 / 464\n",
      "432 / 464\n",
      "433 / 464\n",
      "434 / 464\n",
      "435 / 464\n",
      "436 / 464\n",
      "437 / 464\n",
      "438 / 464\n",
      "439 / 464\n",
      "440 / 464\n",
      "441 / 464\n",
      "442 / 464\n",
      "443 / 464\n",
      "444 / 464\n",
      "445 / 464\n",
      "446 / 464\n",
      "447 / 464\n",
      "448 / 464\n",
      "449 / 464\n",
      "450 / 464\n",
      "451 / 464\n",
      "452 / 464\n",
      "453 / 464\n",
      "454 / 464\n",
      "455 / 464\n",
      "456 / 464\n",
      "457 / 464\n",
      "458 / 464\n",
      "459 / 464\n",
      "460 / 464\n",
      "461 / 464\n",
      "462 / 464\n",
      "463 / 464\n"
     ]
    },
    {
     "name": "stderr",
     "output_type": "stream",
     "text": [
      "/home/analysis_user/.local/lib/python3.6/site-packages/ipykernel_launcher.py:6: VisibleDeprecationWarning: Creating an ndarray from ragged nested sequences (which is a list-or-tuple of lists-or-tuples-or ndarrays with different lengths or shapes) is deprecated. If you meant to do this, you must specify 'dtype=object' when creating the ndarray\n",
      "  \n"
     ]
    }
   ],
   "source": [
    "## run the function on all calibration files\n",
    "amps_fine = []\n",
    "for i in range(num_calib_files):\n",
    "    print(i,'/',len(step_cal_files))\n",
    "    amps_fine.append(get_z_amp(i))\n",
    "amps_fine = np.array(amps_fine)"
   ]
  },
  {
   "cell_type": "code",
   "execution_count": 215,
   "metadata": {},
   "outputs": [
    {
     "data": {
      "text/plain": [
       "-47.080894030421405"
      ]
     },
     "execution_count": 215,
     "metadata": {},
     "output_type": "execute_result"
    }
   ],
   "source": [
    "scaleZ"
   ]
  },
  {
   "cell_type": "code",
   "execution_count": 221,
   "metadata": {},
   "outputs": [
    {
     "data": {
      "application/vnd.jupyter.widget-view+json": {
       "model_id": "24af15df406744b5a44807f162754455",
       "version_major": 2,
       "version_minor": 0
      },
      "text/plain": [
       "Canvas(toolbar=Toolbar(toolitems=[('Home', 'Reset original view', 'home', 'home'), ('Back', 'Back to previous …"
      ]
     },
     "metadata": {},
     "output_type": "display_data"
    }
   ],
   "source": [
    "amps_plot = np.array(amps_fine.T[0,:])\n",
    "# scaleZ = np.mean(amps_plot[51:55])/2\n",
    "amps_plot /= scaleZ\n",
    "\n",
    "_,ax = plt.subplots(figsize=(9.5,4))\n",
    "ax.scatter(range(len(amps_plot)), amps_plot, label='fit phase')\n",
    "\n",
    "# ax.set(xlabel='dataset', ylabel='electron charges', ylim=(-1, 14.5), xlim=(12,None))\n",
    "ax.grid(axis='y')\n",
    "ax.minorticks_on()\n",
    "ax.grid(which='major', linestyle='-', linewidth='0.5', color='red')\n",
    "ax.grid(which='minor', linestyle=':', linewidth='0.5', color='black')\n",
    "from matplotlib.ticker import MaxNLocator\n",
    "\n",
    "ax.yaxis.set_major_locator(MaxNLocator(integer=True))"
   ]
  },
  {
   "cell_type": "code",
   "execution_count": null,
   "metadata": {},
   "outputs": [],
   "source": [
    "force_sens = np.std(amps_plot[-6:])*50/4e-3*0.66*1.6e-19*np.sqrt(10)\n",
    "print(\"estimated force sensitivity in one second [N]: \", force_sens)"
   ]
  },
  {
   "cell_type": "code",
   "execution_count": null,
   "metadata": {},
   "outputs": [],
   "source": [
    "factor_z = 1*50/4e-3*0.66*1.6e-19/scaleZ"
   ]
  },
  {
   "cell_type": "code",
   "execution_count": 178,
   "metadata": {},
   "outputs": [
    {
     "data": {
      "application/vnd.jupyter.widget-view+json": {
       "model_id": "dc3e1de72d0644de9d931b0a4c2b224a",
       "version_major": 2,
       "version_minor": 0
      },
      "text/plain": [
       "Canvas(toolbar=Toolbar(toolitems=[('Home', 'Reset original view', 'home', 'home'), ('Back', 'Back to previous …"
      ]
     },
     "metadata": {},
     "output_type": "display_data"
    },
    {
     "data": {
      "text/plain": [
       "array([ 1.44])"
      ]
     },
     "execution_count": 178,
     "metadata": {},
     "output_type": "execute_result"
    }
   ],
   "source": [
    "amps_phase = np.array(amps_fine.T[1,:])\n",
    "\n",
    "_,ax = plt.subplots(figsize=(9.5,4))\n",
    "ax.scatter(range(len(amps_phase)), amps_phase, label='fit phase')\n",
    "\n",
    "ax.set(xlabel='dataset', ylabel='phase', xlim=(None,None))\n",
    "ax.grid(axis='y')\n",
    "ax.minorticks_on()\n",
    "ax.grid(which='major', linestyle='-', linewidth='0.5', color='red')\n",
    "ax.grid(which='minor', linestyle=':', linewidth='0.5', color='black')\n",
    "from matplotlib.ticker import MaxNLocator\n",
    "\n",
    "ax.yaxis.set_major_locator(MaxNLocator(integer=True))\n",
    "\n",
    "np.mean(amps_phase[:80])"
   ]
  },
  {
   "cell_type": "code",
   "execution_count": null,
   "metadata": {},
   "outputs": [],
   "source": [
    "factor_z"
   ]
  },
  {
   "cell_type": "code",
   "execution_count": 252,
   "metadata": {},
   "outputs": [
    {
     "data": {
      "application/vnd.jupyter.widget-view+json": {
       "model_id": "9542002793694688b276a3d98845953e",
       "version_major": 2,
       "version_minor": 0
      },
      "text/plain": [
       "Canvas(toolbar=Toolbar(toolitems=[('Home', 'Reset original view', 'home', 'home'), ('Back', 'Back to previous …"
      ]
     },
     "metadata": {},
     "output_type": "display_data"
    },
    {
     "name": "stdout",
     "output_type": "stream",
     "text": [
      "height:  5.19\n"
     ]
    }
   ],
   "source": [
    "filename = r'/data/old_trap/20220603/bead1/discharge/fine/Z_139Hz_50Vpp_100.h5'\n",
    "filename = r'/data/old_trap/20220715/bead1/scan1/5mbar_zcool_10.h5'\n",
    "\n",
    "fsamp = 5000\n",
    "res = 5000\n",
    "\n",
    "df = bu.DataFile();\n",
    "df.load(filename);\n",
    "\n",
    "data=df.pos_data\n",
    "data_det=signal.detrend(data)\n",
    "xpsd, freqs = matplotlib.mlab.psd(data_det[0], Fs = fsamp, NFFT = res)\n",
    "ypsd, freqs = matplotlib.mlab.psd(data_det[1], Fs = fsamp, NFFT = res)\n",
    "zpsd, freqs = matplotlib.mlab.psd(data_det[2], Fs = fsamp, NFFT = res)\n",
    "\n",
    "_,ax = plt.subplots()\n",
    "ax.loglog(freqs, np.sqrt(xpsd), '.-', label=\"X\",markersize=1,linewidth=0.5)\n",
    "ax.loglog(freqs, np.sqrt(ypsd), '.-', label=\"Y\",markersize=1,linewidth=0.5)\n",
    "# ax.loglog(freqs, np.sqrt(zpsd), '.-', label=\"Z\",markersize=1,linewidth=0.5)\n",
    "f = h5py.File(filename[:-3]+'_fpga.h5','r')\n",
    "height_tmp = f.attrs['bead_height']\n",
    "print('height: ', height_tmp)\n",
    "ax.legend()\n",
    "ax.set_xlabel('Frequency [Hz]')\n",
    "ax.set_ylabel(r'ASD [N$/\\sqrt{Hz}$]')\n",
    "# plt.xlim(0.1,400)\n",
    "#plt.ylim(1e6,1e10)\n",
    "plt.grid(True)\n",
    "\n"
   ]
  },
  {
   "cell_type": "code",
   "execution_count": null,
   "metadata": {},
   "outputs": [],
   "source": []
  },
  {
   "cell_type": "code",
   "execution_count": null,
   "metadata": {},
   "outputs": [],
   "source": []
  },
  {
   "cell_type": "code",
   "execution_count": null,
   "metadata": {},
   "outputs": [],
   "source": []
  },
  {
   "cell_type": "code",
   "execution_count": null,
   "metadata": {},
   "outputs": [],
   "source": []
  }
 ],
 "metadata": {
  "kernelspec": {
   "display_name": "Python 3",
   "language": "python",
   "name": "python3"
  },
  "language_info": {
   "codemirror_mode": {
    "name": "ipython",
    "version": 3
   },
   "file_extension": ".py",
   "mimetype": "text/x-python",
   "name": "python",
   "nbconvert_exporter": "python",
   "pygments_lexer": "ipython3",
   "version": "3.6.9"
  }
 },
 "nbformat": 4,
 "nbformat_minor": 4
}
