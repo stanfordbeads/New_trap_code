{
 "cells": [
  {
   "cell_type": "code",
   "execution_count": 1,
   "metadata": {},
   "outputs": [],
   "source": [
    "import numpy as np\n",
    "import matplotlib.pyplot as plt\n",
    "import matplotlib\n",
    "from scipy import signal\n",
    "from scipy.optimize import minimize\n",
    "\n",
    "import random\n",
    "\n",
    "import h5py\n",
    "from IPython.utils import io\n",
    "\n",
    "from joblib import Parallel, delayed\n",
    "from tqdm import tqdm\n",
    "import sys"
   ]
  },
  {
   "cell_type": "code",
   "execution_count": 2,
   "metadata": {},
   "outputs": [],
   "source": [
    "%matplotlib widget\n",
    "\n",
    "%reload_ext autoreload\n",
    "%autoreload 2"
   ]
  },
  {
   "cell_type": "code",
   "execution_count": 3,
   "metadata": {},
   "outputs": [],
   "source": [
    "sys.path.append('../../../../nadavp/new_trap/Tools/')\n",
    "sys.path.append('../../../../nadavp/new_trap/Tools/StatFramework/')\n",
    "sys.path.append('../../../../nadavp/opt_lev_analysis/lib/')\n",
    "import BeadDataFile\n",
    "from discharge_tools import *"
   ]
  },
  {
   "cell_type": "code",
   "execution_count": 4,
   "metadata": {},
   "outputs": [],
   "source": [
    "import bead_util as bu\n",
    "# import calib_util as cal\n",
    "import transfer_func_util as tf\n",
    "import configuration as config"
   ]
  },
  {
   "cell_type": "code",
   "execution_count": null,
   "metadata": {},
   "outputs": [],
   "source": []
  },
  {
   "cell_type": "code",
   "execution_count": 50,
   "metadata": {},
   "outputs": [],
   "source": [
    "## load all data to a list - step_file_objs\n",
    "# step_cal_dir = r'/data/old_trap/20220505/bead1/scan1/'\n",
    "\n",
    "def extract_power_height(dirname):\n",
    "    max_file = 1000\n",
    "    power_array = []\n",
    "    height_array = []\n",
    "    freq_array = []\n",
    "    for root, dirnames, filenames in os.walk(dirname):\n",
    "        filtered_filenames = fnmatch.filter(filenames, '*' + config.extensions['data']) \n",
    "        filtered_filenames.sort(key=lambda f: int(''.join(filter(str.isdigit, f))))\n",
    "        for filename in filtered_filenames:\n",
    "#             print(dirname+filename)\n",
    "            if '_fpga.h5' in filename[:]:\n",
    "                try:\n",
    "                    f = h5py.File(dirname+filename,'r')\n",
    "                    dat = np.array(f['beads/data/pow_data'])\n",
    "                    power_array.append(np.mean(dat[::4]))\n",
    "                    height_array.append(f.attrs['bead_height'])\n",
    "                    freq_array.append(extract_resonance(dirname+filename[:-8]+'.h5'))\n",
    "                except:\n",
    "                    print('***')\n",
    "    power_array = np.array(power_array)\n",
    "    height_array = np.array(height_array)\n",
    "    freq_array = np.array(freq_array)\n",
    "    \n",
    "    return height_array, power_array, freq_array\n",
    "\n",
    "def extract_resonance(filename):\n",
    "    \n",
    "    fsamp=5000\n",
    "    res=50000\n",
    "    df = bu.DataFile();\n",
    "    df.load(filename);\n",
    "\n",
    "    data=df.pos_data\n",
    "    data_det=signal.detrend(data)\n",
    "    xpsd, freqs = matplotlib.mlab.psd(data_det[0], Fs = fsamp, NFFT = res)\n",
    "    psd_tmp = xpsd[100:]\n",
    "    freq_tmp = freqs[100:]\n",
    "    return freq_tmp[np.argmax(psd_tmp)]"
   ]
  },
  {
   "cell_type": "code",
   "execution_count": 51,
   "metadata": {},
   "outputs": [],
   "source": [
    "step_cal_dir = r'/data/old_trap/20220713/bead1/scan2/'\n",
    "height_array14_, power_array14_, resonances = extract_power_height(step_cal_dir)"
   ]
  },
  {
   "cell_type": "code",
   "execution_count": null,
   "metadata": {},
   "outputs": [],
   "source": [
    "step_cal_dir = r'/data/old_trap/20220509/bead1/scan1/'\n",
    "height_array2, power_array2, freq_array2 = extract_power_height(step_cal_dir)"
   ]
  },
  {
   "cell_type": "code",
   "execution_count": null,
   "metadata": {},
   "outputs": [],
   "source": [
    "power_array2"
   ]
  },
  {
   "cell_type": "code",
   "execution_count": null,
   "metadata": {},
   "outputs": [],
   "source": [
    "-25000*10/2**15/10*50+50"
   ]
  },
  {
   "cell_type": "code",
   "execution_count": null,
   "metadata": {},
   "outputs": [],
   "source": [
    "420e-12*8/1000*10, 10e-3/3e8, 5/80"
   ]
  },
  {
   "cell_type": "code",
   "execution_count": null,
   "metadata": {},
   "outputs": [],
   "source": [
    "0.069/350*1000*100*2, 1000*0.2/2/2"
   ]
  },
  {
   "cell_type": "code",
   "execution_count": null,
   "metadata": {},
   "outputs": [],
   "source": [
    "np.log10(3.162)"
   ]
  },
  {
   "cell_type": "code",
   "execution_count": 66,
   "metadata": {},
   "outputs": [],
   "source": [
    "# step_cal_dir = r'/data/old_trap/20220520/bead1/scan7/'\n",
    "# height_array1, power_array1, freq_array1 = extract_power_height(step_cal_dir)\n",
    "# step_cal_dir = r'/data/old_trap/20220520/bead1/scan8/'\n",
    "# height_array2, power_array2, freq_array2 = extract_power_height(step_cal_dir)\n",
    "# step_cal_dir = r'/data/old_trap/20220520/bead1/scan9/'\n",
    "# height_array3, power_array3, freq_array3 = extract_power_height(step_cal_dir)\n",
    "# step_cal_dir = r'/data/old_trap/20220520/bead1/scan18/'\n",
    "# height_array4, power_array4, freq_array4 = extract_power_height(step_cal_dir)\n",
    "# step_cal_dir = r'/data/old_trap/20220520/bead1/scan19/'\n",
    "# height_array5, power_array5, freq_array5 = extract_power_height(step_cal_dir)\n",
    "# step_cal_dir = r'/data/old_trap/20220520/bead1/scan20/'\n",
    "# height_array6, power_array6, freq_array6 = extract_power_height(step_cal_dir)\n",
    "\n",
    "# step_cal_dir = r'/data/old_trap/20220525/bead1/scan1/'\n",
    "# height_array7, power_array7, freq_array7 = extract_power_height(step_cal_dir)\n",
    "# step_cal_dir = r'/data/old_trap/20220525/bead1/scan2/'\n",
    "# height_array8, power_array8, freq_array8 = extract_power_height(step_cal_dir)\n",
    "\n",
    "# step_cal_dir = r'/data/old_trap/20220602/bead1/scan1/'\n",
    "# height_array9, power_array9, freq_array9 = extract_power_height(step_cal_dir)\n",
    "\n",
    "# step_cal_dir = r'/data/old_trap/20220602/bead1/scan2/'\n",
    "# height_array10, power_array10, freq_array10 = extract_power_height(step_cal_dir)\n",
    "\n",
    "# step_cal_dir = r'/data/old_trap/20220602/bead1/scan3/'\n",
    "# height_array11, power_array11, freq_array11 = extract_power_height(step_cal_dir)\n",
    "\n",
    "# step_cal_dir = r'/data/old_trap/20220628/bead1/scan1/'\n",
    "# height_array12, power_array12, resonances = extract_power_height(step_cal_dir)\n",
    "\n",
    "# step_cal_dir = r'/data/old_trap/20220713/bead1/scan1/'\n",
    "# height_array13, power_array13, resonances = extract_power_height(step_cal_dir)\n",
    "\n",
    "# step_cal_dir = r'/data/old_trap/20220713/bead1/scan2/'\n",
    "# height_array14, power_array14, resonances = extract_power_height(step_cal_dir)\n",
    "\n",
    "step_cal_dir = r'/data/old_trap/20220713/bead1/scan3/'\n",
    "height_array15, power_array15, resonances = extract_power_height(step_cal_dir)\n",
    "\n",
    "# step_cal_dir = r'/data/old_trap/20220603/bead1/scan3/'\n",
    "# height_array13, power_array13, _ = extract_power_height(step_cal_dir)"
   ]
  },
  {
   "cell_type": "code",
   "execution_count": 128,
   "metadata": {},
   "outputs": [
    {
     "data": {
      "application/vnd.jupyter.widget-view+json": {
       "model_id": "a0bfcd894398478ea3ddbbd4b6e7f9b5",
       "version_major": 2,
       "version_minor": 0
      },
      "text/plain": [
       "Canvas(toolbar=Toolbar(toolitems=[('Home', 'Reset original view', 'home', 'home'), ('Back', 'Back to previous …"
      ]
     },
     "metadata": {},
     "output_type": "display_data"
    },
    {
     "data": {
      "text/plain": [
       "[(17.0, 30.0), Text(0, 0.5, 'Power [mW]'), Text(0.5, 0, 'Height [pixel]')]"
      ]
     },
     "execution_count": 128,
     "metadata": {},
     "output_type": "execute_result"
    }
   ],
   "source": [
    "power_conversion = -1/222e3*46*0.666\n",
    "power_conversion2 = 1/484e3*49.2\n",
    "power_conversion3 = -1/342e3*34\n",
    "\n",
    "_,ax = plt.subplots(figsize=(9.2,5))\n",
    "height_array14_guess = np.arange(-2,4,6/len(height_array14))\n",
    "ax.scatter(height_array14+2.3, power_array14*power_conversion3, label = '3 mbar')\n",
    "ax.scatter(height_array15, power_array15*power_conversion3, label = '3 mbar')\n",
    "# ax.scatter(height_array13, power_array13*power_conversion3, label = '5 mbar')\n",
    "# ax.scatter(height_array14_guess, power_array14[height_array14.argsort()]*power_conversion3, label = '5 mbar - sorted')\n",
    "\n",
    "# ax.scatter(height_array1, freq_array1, label = 'bead 1 - measurement 1')\n",
    "ax.legend()\n",
    "ax.set(ylim=(17,30), ylabel='Power [mW]', xlabel='Height [pixel]')"
   ]
  },
  {
   "cell_type": "code",
   "execution_count": 26,
   "metadata": {},
   "outputs": [
    {
     "data": {
      "application/vnd.jupyter.widget-view+json": {
       "model_id": "b89049a2ec184a64bf712ef7489cbf37",
       "version_major": 2,
       "version_minor": 0
      },
      "text/plain": [
       "Canvas(toolbar=Toolbar(toolitems=[('Home', 'Reset original view', 'home', 'home'), ('Back', 'Back to previous …"
      ]
     },
     "metadata": {},
     "output_type": "display_data"
    },
    {
     "data": {
      "text/plain": [
       "<matplotlib.collections.PathCollection at 0x7ff9bfe27588>"
      ]
     },
     "execution_count": 26,
     "metadata": {},
     "output_type": "execute_result"
    }
   ],
   "source": [
    "_,ax = plt.subplots(figsize=(9.2,5))\n",
    "ax.scatter(height_array13, resonances)"
   ]
  },
  {
   "cell_type": "code",
   "execution_count": null,
   "metadata": {},
   "outputs": [],
   "source": [
    "power_conversion = -1/222e3*46*0.666\n",
    "# power_conversion = -1\n",
    "_,ax = plt.subplots(figsize=(9.2,5))\n",
    "ax.scatter(reflectance_pixel, reflectance_mw, label = 'bead 1 - reflecatance - after the weekend')\n",
    "\n",
    "# ax.scatter(height_array1, freq_array1, label = 'bead 1 - measurement 1')\n",
    "ax.legend()\n",
    "ax.set( ylabel='Power [mW]', xlabel='Height [$\\mu$m]')"
   ]
  },
  {
   "cell_type": "code",
   "execution_count": null,
   "metadata": {
    "scrolled": false
   },
   "outputs": [],
   "source": [
    "from skimage.registration import phase_cross_correlation as pcc\n",
    "from skimage.io import imread as imread\n",
    "\n",
    "import imageio as iio\n",
    "from skimage import filters\n",
    "from skimage.color import rgb2gray  # only needed for incorrectly saved images\n",
    "from skimage.measure import regionprops\n",
    "\n",
    "h_pcc = []\n",
    "h_max = []\n",
    "filename=r'/data/old_trap/20220520/bead1/height/20220520_4/run/image_test_0.bmp'\n",
    "zeroth_image=imread(filename,as_gray=True)\n",
    "for i in range(1,117):\n",
    "    print(i,end=\" \")\n",
    "    filename=r'/data/old_trap/20220520/bead1/height/20220520_4/run/image_test_'+str(i)+'.bmp'\n",
    "    image=imread(filename,as_gray=True)\n",
    "    shift,_,_ = pcc(zeroth_image,image,upsample_factor=200)\n",
    "    h_pcc.append(shift[0])\n",
    "\n",
    "\n",
    "    threshold_value = filters.threshold_otsu(image)\n",
    "    labeled_foreground = (image > threshold_value).astype(int)\n",
    "    properties = regionprops(labeled_foreground, image)\n",
    "    center_of_mass = properties[0].centroid\n",
    "    h_max.append(230-center_of_mass[0])"
   ]
  },
  {
   "cell_type": "code",
   "execution_count": null,
   "metadata": {},
   "outputs": [],
   "source": [
    "_,ax = plt.subplots()\n",
    "ax.scatter(range(116), np.array(h_max)-h_max[0])\n",
    "ax.scatter(range(116), np.array(h_pcc)-h_pcc[0])"
   ]
  },
  {
   "cell_type": "code",
   "execution_count": null,
   "metadata": {},
   "outputs": [],
   "source": []
  },
  {
   "cell_type": "code",
   "execution_count": null,
   "metadata": {},
   "outputs": [],
   "source": []
  },
  {
   "cell_type": "code",
   "execution_count": 155,
   "metadata": {},
   "outputs": [],
   "source": [
    "filename = r'/data/old_trap/20220713/bead1/discharge/response_x/X_139Hz_10Vpp_1.h5'\n",
    "filename2 = r'/data/old_trap/20220713/bead1/discharge/response_y/Y_139Hz_10Vpp_1.h5'\n",
    "filename3 = r'/data/old_trap/20220713/bead1/discharge/response_z/Z_139Hz_10Vpp_1.h5'\n",
    "\n",
    "fsamp = 5000\n",
    "res = 5000\n",
    "\n",
    "df = bu.DataFile();\n",
    "df.load(filename);\n",
    "\n",
    "df2 = bu.DataFile();\n",
    "df2.load(filename2);\n",
    "\n",
    "df3 = bu.DataFile();\n",
    "df3.load(filename3);\n",
    "\n",
    "data=df.pos_data\n",
    "data_det=signal.detrend(data)\n",
    "xpsd, freqs = matplotlib.mlab.psd(data_det[0], Fs = fsamp, NFFT = res)\n",
    "ypsd, freqs = matplotlib.mlab.psd(data_det[1], Fs = fsamp, NFFT = res)\n",
    "zpsd, freqs = matplotlib.mlab.psd(data_det[2], Fs = fsamp, NFFT = res)\n",
    "f = h5py.File(filename[:-3]+'_fpga.h5','r')\n",
    "height1 = f.attrs['bead_height']\n",
    "\n",
    "data2=df2.pos_data\n",
    "data_det2=signal.detrend(data2)\n",
    "xpsd2, freqs = matplotlib.mlab.psd(data_det2[0], Fs = fsamp, NFFT = res)\n",
    "ypsd2, freqs = matplotlib.mlab.psd(data_det2[1], Fs = fsamp, NFFT = res)\n",
    "zpsd2, freqs = matplotlib.mlab.psd(data_det2[2], Fs = fsamp, NFFT = res)\n",
    "f = h5py.File(filename2[:-3]+'_fpga.h5','r')\n",
    "height2 = f.attrs['bead_height']\n",
    "\n",
    "data3=df3.pos_data\n",
    "data_det3=signal.detrend(data3)\n",
    "xpsd3, freqs = matplotlib.mlab.psd(data_det3[0], Fs = fsamp, NFFT = res)\n",
    "ypsd3, freqs = matplotlib.mlab.psd(data_det3[1], Fs = fsamp, NFFT = res)\n",
    "zpsd3, freqs = matplotlib.mlab.psd(data_det3[2], Fs = fsamp, NFFT = res)\n",
    "f = h5py.File(filename3[:-3]+'_fpga.h5','r')\n",
    "height3 = f.attrs['bead_height']"
   ]
  },
  {
   "cell_type": "code",
   "execution_count": 157,
   "metadata": {},
   "outputs": [
    {
     "data": {
      "application/vnd.jupyter.widget-view+json": {
       "model_id": "ba8c5f0420364afcae6696a0d31d19ee",
       "version_major": 2,
       "version_minor": 0
      },
      "text/plain": [
       "Canvas(toolbar=Toolbar(toolitems=[('Home', 'Reset original view', 'home', 'home'), ('Back', 'Back to previous …"
      ]
     },
     "metadata": {},
     "output_type": "display_data"
    }
   ],
   "source": [
    "_,ax = plt.subplots()\n",
    "ax.semilogy(freqs, xpsd, '.-', label='X response',markersize=1,linewidth=0.5)\n",
    "ax.semilogy(freqs, ypsd2, '.-', label='Y response',markersize=1,linewidth=0.5)\n",
    "ax.semilogy(freqs, zpsd3, '.-', label='Z response',markersize=1,linewidth=0.5)\n",
    "\n",
    "ax.legend()\n",
    "ax.set_xlabel('Frequency [Hz]')\n",
    "ax.set_ylabel(r'PSD [bits$^2/Hz.$]')\n",
    "plt.xlim(0.1,400)\n",
    "#plt.ylim(1e6,1e10)\n",
    "plt.grid(True)\n",
    "\n",
    "psd_tmp = xpsd[100:]\n",
    "freq_tmp = freqs[100:]\n",
    "freqs[np.argmax(xpsd)], freq_tmp[np.argmax(psd_tmp)]\n",
    "\n",
    "zx_factor=np.sqrt(zpsd3[freqs==139]/xpsd[freqs==139])\n",
    "zy_factor=np.sqrt(zpsd3[freqs==139]/ypsd2[freqs==139])"
   ]
  },
  {
   "cell_type": "code",
   "execution_count": null,
   "metadata": {},
   "outputs": [],
   "source": [
    "zx_factor, zy_factor"
   ]
  },
  {
   "cell_type": "code",
   "execution_count": null,
   "metadata": {},
   "outputs": [],
   "source": []
  },
  {
   "cell_type": "code",
   "execution_count": 174,
   "metadata": {},
   "outputs": [],
   "source": [
    "ll = likelihood_analyser.LikelihoodAnalyser()\n",
    "\n",
    "## fit parameteres\n",
    "drive_freq = 139\n",
    "phase_diff = 1.44\n",
    "bandwidth = 2\n",
    "decimate = 10\n",
    "\n",
    "\n",
    "## extracing the amplitude at a certain frequency \n",
    "def get_z_amp(i):\n",
    "    \n",
    "    bb = step_file_objs[i]      \n",
    "    \n",
    "    ## extract drive phase\n",
    "    freq2 = np.fft.rfftfreq(len(bb.other_data[1]), d=1./5000)\n",
    "    fft_angles = np.angle(np.fft.rfft(bb.other_data[1]))\n",
    "    phi_tmp2 = (fft_angles[freq2==drive_freq]+np.pi/2)%(2*np.pi)\n",
    "#     print(np.std(bb.other_data[1])*100*np.sqrt(2))\n",
    "    \n",
    "    fit_kwargs = {'A': 0, 'f': drive_freq, 'phi': phi_tmp2+phase_diff, \n",
    "                  'error_A': 0.1, 'error_f': 1, 'error_phi': 0.5, 'errordef': 1,\n",
    "                  'limit_A': [-100000, 100000], 'fix_phi': True, 'fix_f': True,\n",
    "                  'print_level': 0}\n",
    "    \n",
    "    ## bandpass data\n",
    "    b, a = signal.butter(3, [2.*(drive_freq-bandwidth/2.)/fsamp, 2.*(drive_freq+bandwidth/2.)/fsamp ], btype = 'bandpass')\n",
    "    bb.load_other_data()\n",
    "    xx2 = signal.filtfilt(b, a, bb.pos_data[2])[::decimate]\n",
    "    ## extract amplitude\n",
    "    m1_tmp = ll.find_mle_sin(xx2, fsamp=fsamp/decimate, noise_rms=1, plot=False, suppress_print=True, **fit_kwargs)\n",
    "    \n",
    "    return m1_tmp.values[0], m1_tmp.values[2]-phi_tmp2"
   ]
  },
  {
   "cell_type": "code",
   "execution_count": 180,
   "metadata": {},
   "outputs": [
    {
     "name": "stdout",
     "output_type": "stream",
     "text": [
      "69\n"
     ]
    }
   ],
   "source": [
    "## load all data to a list - step_file_objs\n",
    "step_cal_dir = r'/data/old_trap/20220713/bead1/discharge/fine2/'\n",
    "max_file = 500\n",
    "\n",
    "step_cal_files = []\n",
    "for root, dirnames, filenames in os.walk(step_cal_dir):\n",
    "    for filename in fnmatch.filter(filenames, '*' + config.extensions['data']):\n",
    "        if '_fpga.h5' in filename:\n",
    "            continue\n",
    "        step_cal_files.append(os.path.join(root, filename))\n",
    "step_cal_files.sort(key = bu.find_str)\n",
    "num_calib_files = len(step_cal_files)\n",
    "print(num_calib_files)\n",
    "\n",
    "# Do the step calibration\n",
    "\n",
    "step_file_objs = []\n",
    "for filname in step_cal_files[:]:\n",
    "    try:\n",
    "        df = bu.DataFile();\n",
    "        df.load(filname);\n",
    "        df.load_other_data()\n",
    "        step_file_objs.append(df);\n",
    "    except:\n",
    "        print('***')"
   ]
  },
  {
   "cell_type": "code",
   "execution_count": 181,
   "metadata": {},
   "outputs": [
    {
     "name": "stderr",
     "output_type": "stream",
     "text": [
      "/home/analysis_user/.local/lib/python3.6/site-packages/ipykernel_launcher.py:6: VisibleDeprecationWarning: Creating an ndarray from ragged nested sequences (which is a list-or-tuple of lists-or-tuples-or ndarrays with different lengths or shapes) is deprecated. If you meant to do this, you must specify 'dtype=object' when creating the ndarray\n",
      "  \n"
     ]
    }
   ],
   "source": [
    "## run the function on all calibration files\n",
    "amps_fine = []\n",
    "for i in range(num_calib_files):\n",
    "#     print(i,'/',len(step_cal_files))\n",
    "    amps_fine.append(get_z_amp(i))\n",
    "amps_fine = np.array(amps_fine)"
   ]
  },
  {
   "cell_type": "code",
   "execution_count": 182,
   "metadata": {},
   "outputs": [
    {
     "data": {
      "text/plain": [
       "-47.080894030421405"
      ]
     },
     "execution_count": 182,
     "metadata": {},
     "output_type": "execute_result"
    }
   ],
   "source": [
    "scaleZ"
   ]
  },
  {
   "cell_type": "code",
   "execution_count": 184,
   "metadata": {},
   "outputs": [
    {
     "data": {
      "application/vnd.jupyter.widget-view+json": {
       "model_id": "f83915079cc546b595157c617e797d27",
       "version_major": 2,
       "version_minor": 0
      },
      "text/plain": [
       "Canvas(toolbar=Toolbar(toolitems=[('Home', 'Reset original view', 'home', 'home'), ('Back', 'Back to previous …"
      ]
     },
     "metadata": {},
     "output_type": "display_data"
    }
   ],
   "source": [
    "amps_plot = np.array(amps_fine.T[0,:])\n",
    "# scaleZ = np.mean(amps_plot[51:55])/2\n",
    "amps_plot /= scaleZ\n",
    "\n",
    "_,ax = plt.subplots(figsize=(9.5,4))\n",
    "ax.scatter(range(len(amps_plot)), amps_plot, label='fit phase')\n",
    "\n",
    "# ax.set(xlabel='dataset', ylabel='electron charges', ylim=(-1, 14.5), xlim=(12,None))\n",
    "ax.grid(axis='y')\n",
    "ax.minorticks_on()\n",
    "ax.grid(which='major', linestyle='-', linewidth='0.5', color='red')\n",
    "ax.grid(which='minor', linestyle=':', linewidth='0.5', color='black')\n",
    "from matplotlib.ticker import MaxNLocator\n",
    "\n",
    "ax.yaxis.set_major_locator(MaxNLocator(integer=True))"
   ]
  },
  {
   "cell_type": "code",
   "execution_count": null,
   "metadata": {},
   "outputs": [],
   "source": [
    "force_sens = np.std(amps_plot[-6:])*50/4e-3*0.66*1.6e-19*np.sqrt(10)\n",
    "print(\"estimated force sensitivity in one second [N]: \", force_sens)"
   ]
  },
  {
   "cell_type": "code",
   "execution_count": null,
   "metadata": {},
   "outputs": [],
   "source": [
    "factor_z = 1*50/4e-3*0.66*1.6e-19/scaleZ"
   ]
  },
  {
   "cell_type": "code",
   "execution_count": 178,
   "metadata": {},
   "outputs": [
    {
     "data": {
      "application/vnd.jupyter.widget-view+json": {
       "model_id": "dc3e1de72d0644de9d931b0a4c2b224a",
       "version_major": 2,
       "version_minor": 0
      },
      "text/plain": [
       "Canvas(toolbar=Toolbar(toolitems=[('Home', 'Reset original view', 'home', 'home'), ('Back', 'Back to previous …"
      ]
     },
     "metadata": {},
     "output_type": "display_data"
    },
    {
     "data": {
      "text/plain": [
       "array([ 1.44])"
      ]
     },
     "execution_count": 178,
     "metadata": {},
     "output_type": "execute_result"
    }
   ],
   "source": [
    "amps_phase = np.array(amps_fine.T[1,:])\n",
    "\n",
    "_,ax = plt.subplots(figsize=(9.5,4))\n",
    "ax.scatter(range(len(amps_phase)), amps_phase, label='fit phase')\n",
    "\n",
    "ax.set(xlabel='dataset', ylabel='phase', xlim=(None,None))\n",
    "ax.grid(axis='y')\n",
    "ax.minorticks_on()\n",
    "ax.grid(which='major', linestyle='-', linewidth='0.5', color='red')\n",
    "ax.grid(which='minor', linestyle=':', linewidth='0.5', color='black')\n",
    "from matplotlib.ticker import MaxNLocator\n",
    "\n",
    "ax.yaxis.set_major_locator(MaxNLocator(integer=True))\n",
    "\n",
    "np.mean(amps_phase[:80])"
   ]
  },
  {
   "cell_type": "code",
   "execution_count": null,
   "metadata": {},
   "outputs": [],
   "source": [
    "factor_z"
   ]
  },
  {
   "cell_type": "code",
   "execution_count": null,
   "metadata": {},
   "outputs": [],
   "source": [
    "filename = r'/data/old_trap/20220603/bead1/discharge/fine/Z_139Hz_50Vpp_100.h5'\n",
    "\n",
    "fsamp = 5000\n",
    "res = 5000\n",
    "\n",
    "df = bu.DataFile();\n",
    "df.load(filename);\n",
    "\n",
    "data=df.pos_data\n",
    "data_det=signal.detrend(data)\n",
    "xpsd, freqs = matplotlib.mlab.psd(data_det[0]*factor_z*zx_factor, Fs = fsamp, NFFT = res)\n",
    "ypsd, freqs = matplotlib.mlab.psd(data_det[1]*factor_z*zy_factor, Fs = fsamp, NFFT = res)\n",
    "zpsd, freqs = matplotlib.mlab.psd(data_det[2]*factor_z, Fs = fsamp, NFFT = res)\n",
    "\n",
    "_,ax = plt.subplots()\n",
    "ax.semilogy(freqs, np.sqrt(xpsd), '.-', label=\"X\",markersize=1,linewidth=0.5)\n",
    "ax.semilogy(freqs, np.sqrt(ypsd), '.-', label=\"Y\",markersize=1,linewidth=0.5)\n",
    "ax.semilogy(freqs, np.sqrt(zpsd), '.-', label=\"Z\",markersize=1,linewidth=0.5)\n",
    "\n",
    "ax.legend()\n",
    "ax.set_xlabel('Frequency [Hz]')\n",
    "ax.set_ylabel(r'ASD [N$/\\sqrt{Hz}$]')\n",
    "plt.xlim(0.1,400)\n",
    "#plt.ylim(1e6,1e10)\n",
    "plt.grid(True)\n",
    "\n"
   ]
  },
  {
   "cell_type": "code",
   "execution_count": null,
   "metadata": {},
   "outputs": [],
   "source": []
  },
  {
   "cell_type": "code",
   "execution_count": null,
   "metadata": {},
   "outputs": [],
   "source": []
  },
  {
   "cell_type": "code",
   "execution_count": null,
   "metadata": {},
   "outputs": [],
   "source": []
  },
  {
   "cell_type": "code",
   "execution_count": null,
   "metadata": {},
   "outputs": [],
   "source": []
  }
 ],
 "metadata": {
  "kernelspec": {
   "display_name": "Python 3",
   "language": "python",
   "name": "python3"
  },
  "language_info": {
   "codemirror_mode": {
    "name": "ipython",
    "version": 3
   },
   "file_extension": ".py",
   "mimetype": "text/x-python",
   "name": "python",
   "nbconvert_exporter": "python",
   "pygments_lexer": "ipython3",
   "version": "3.6.9"
  }
 },
 "nbformat": 4,
 "nbformat_minor": 4
}
