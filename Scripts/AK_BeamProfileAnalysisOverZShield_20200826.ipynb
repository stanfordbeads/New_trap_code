{
 "cells": [
  {
   "cell_type": "code",
   "execution_count": 1,
   "metadata": {},
   "outputs": [],
   "source": [
    "# import stuff\n",
    "import numpy as np\n",
    "import matplotlib.pyplot as plt\n",
    "import matplotlib\n",
    "import scipy\n",
    "from scipy import signal\n",
    "import h5py, time\n",
    "from iminuit import Minuit, describe\n",
    "from pprint import pprint # we use this to pretty print some stuff later\n",
    "\n",
    "import sys\n",
    "sys.path.append('/home/analysis_user/New_trap_code/Tools/')\n",
    "import BeadDataFile\n",
    "from discharge_tools import load_dir"
   ]
  },
  {
   "cell_type": "code",
   "execution_count": 2,
   "metadata": {},
   "outputs": [],
   "source": [
    "# calibration of the voltage - position conversion\n",
    "def voltage_to_position(voltage,slope=0.019834000085488412,offset=-0.0015000315197539749,redo=False):\n",
    "    if(redo==True):\n",
    "        pos_list=np.asarray([-0.007,4.968,9.91])\n",
    "        y_err=np.asarray([0.01,0.01,0.01])\n",
    "        val = np.asarray([0,250,500])\n",
    "        data_x=val\n",
    "        data_y=pos_list\n",
    "        data_y_error=y_err\n",
    "        m2=Minuit(chisquare_linear, \n",
    "             a = 100,\n",
    "             b=0,\n",
    "             errordef = 1,\n",
    "             print_level=1)\n",
    "        m2.migrad()\n",
    "        print(m2.values[\"a\"],m2.values[\"b\"])\n",
    "        plt.plot(val,pos_list,marker=\"*\")\n",
    "        plt.plot(val,m2.values[\"a\"]*val+m2.values[\"b\"])\n",
    "        slope = m2.values[\"a\"]\n",
    "        offset = m2.values[\"b\"]\n",
    "    position=(voltage-offset)/slope\n",
    "    return position"
   ]
  },
  {
   "cell_type": "code",
   "execution_count": 3,
   "metadata": {},
   "outputs": [],
   "source": [
    "from scipy.optimize import curve_fit\n",
    "from scipy.stats import norm"
   ]
  },
  {
   "cell_type": "code",
   "execution_count": 4,
   "metadata": {},
   "outputs": [],
   "source": [
    "def get_waist(pos,pd, flip=False):\n",
    "\n",
    "    pos1 = voltage_to_position(pos)\n",
    "    if (flip):\n",
    "        pos1 *= -1\n",
    "    data1 = np.array(pd)-np.min(pd)\n",
    "    data1 = data1/np.max(data1)    \n",
    "    #noraml CDF fit\n",
    "    temp_params = curve_fit(norm.cdf, pos1, data1, p0=[pos1[2500],5])[0]\n",
    "    \n",
    "    if (flip):\n",
    "        temp_params[0] *= -1\n",
    "    return temp_params"
   ]
  },
  {
   "cell_type": "code",
   "execution_count": 34,
   "metadata": {
    "scrolled": true
   },
   "outputs": [
    {
     "name": "stderr",
     "output_type": "stream",
     "text": [
      "100%|██████████| 91/91 [00:07<00:00, 12.87it/s]"
     ]
    },
    {
     "name": "stdout",
     "output_type": "stream",
     "text": [
      "91  files in folder\n",
      "91  files loaded\n"
     ]
    },
    {
     "name": "stderr",
     "output_type": "stream",
     "text": [
      "\n"
     ]
    }
   ],
   "source": [
    "# load the data\n",
    "Year = \"2020\"\n",
    "Month = \"09\"\n",
    "Day = \"02\"\n",
    "BeadNumber = 1\n",
    "#RunNumber = 144\n",
    "#folder =  r\"/home/data_transfer/data_from_windows/\" + Year + Month + Day + \"/Bead\"+str(BeadNumber)+\"/Shaking/\"\n",
    "#folder =  r\"/home/data_transfer/data_from_windows/\" + Year + Month + Day + \"/Bead\"+str(BeadNumber)+\"/BeamProfile/\"\n",
    "folder =  r\"/home/data_transfer/data_from_windows/\" + Year + Month + Day + \"/ShieldAlignment/\"\n",
    "Fname=\"BeamProfileX5\"\n",
    "\n",
    "files = load_dir(folder, file_prefix = Fname, max_file=500)"
   ]
  },
  {
   "cell_type": "code",
   "execution_count": 35,
   "metadata": {},
   "outputs": [
    {
     "name": "stdout",
     "output_type": "stream",
     "text": [
      "0\n",
      "10\n",
      "20\n",
      "30\n",
      "40\n",
      "50\n",
      "60\n",
      "70\n",
      "80\n",
      "90\n"
     ]
    }
   ],
   "source": [
    "parX1 = []\n",
    "parX2 = []\n",
    "spin=np.zeros(5000)\n",
    "j=0\n",
    "for ff in files:\n",
    "    pos_x = ff.cant_pos[0]\n",
    "    pos_y = ff.cant_pos[1]\n",
    "    pos_z = ff.cant_pos[2]\n",
    "    quad_sum = ff.quad_sum\n",
    "    spintemp = ff.spin_data\n",
    "    for i in range(0,5000):\n",
    "        spin[i]=-np.average(spintemp[10*i:10*i+9])\n",
    "    parX1.append(get_waist(pos_z, quad_sum, flip=True))\n",
    "    parX2.append(get_waist(pos_z, spin))\n",
    "    \n",
    "    if (j%10)==0:\n",
    "        ofname = folder+\"/\" + Fname + \"_Output_%d.txt\" % j\n",
    "\n",
    "        f1 = open(ofname,\"a\")\n",
    "        for i in range(0,5000):\n",
    "            f1.write('%f %e %e\\n' % (pos_z[i], quad_sum[i], spin[i]))\n",
    "        f1.close()\n",
    "        print(j)\n",
    "    j=j+1\n",
    "    \n",
    "    \n",
    "parX1 = np.array(parX1)\n",
    "parX2 = np.array(parX2)\n",
    "ZrangeX = np.array([np.mean(ff.cant_pos[2])*10 for ff in files])"
   ]
  },
  {
   "cell_type": "code",
   "execution_count": 36,
   "metadata": {},
   "outputs": [],
   "source": [
    "def beamwidth_fun(t,z,w):\n",
    "    return w*np.sqrt(1+((t-z)/np.pi/w/w*1.064)**2)\n",
    "\n",
    "Zrange = np.linspace(5,95,91)\n",
    "\n",
    "def fit_waist(pars):\n",
    "    return curve_fit(beamwidth_fun, Zrange, pars[:,1],p0=[50,5])[0]"
   ]
  },
  {
   "cell_type": "code",
   "execution_count": 37,
   "metadata": {},
   "outputs": [
    {
     "name": "stdout",
     "output_type": "stream",
     "text": [
      "[63.52115206  0.19523031]\n",
      "43.8733911904009\n"
     ]
    }
   ],
   "source": [
    "pfitX1 = fit_waist(parX1)\n",
    "pfitX2 = fit_waist(parX2)\n",
    "print(pfitX2)\n",
    "print(np.min(parX2[:,1])*2)"
   ]
  },
  {
   "cell_type": "code",
   "execution_count": 38,
   "metadata": {
    "scrolled": false
   },
   "outputs": [
    {
     "data": {
      "image/png": "[encoded data removed]",
      "text/plain": [
       "<Figure size 576x432 with 4 Axes>"
      ]
     },
     "metadata": {
      "needs_background": "light"
     },
     "output_type": "display_data"
    }
   ],
   "source": [
    "#draw single dataset\n",
    "_, ax = plt.subplots(2,2,figsize=(8,6))\n",
    "\n",
    "ax[0,0].scatter(ZrangeX,parX1[:,1]*2)\n",
    "#ax[0,0].plot(Zrange,beamwidth_fun(Zrange,*pfitX1),'r--')\n",
    "ax[0,0].set(title='X-profile - quad_sum', ylabel='$w_{0}$ [$\\mu$m]')\n",
    "ax[0,1].scatter(ZrangeX,parX2[:,1]*2)\n",
    "#ax[0,1].plot(Zrange,beamwidth_fun(Zrange,*pfitX2),'r--')\n",
    "ax[0,1].set(title='X-profile - spin_data')\n",
    "\n",
    "ax[1,0].scatter(ZrangeX,parX1[:,0])\n",
    "ax[1,0].set(xlabel='Z [$\\mu$m]', ylabel='$center$ [$\\mu$m]')\n",
    "ax[1,1].scatter(ZrangeX,parX2[:,0])\n",
    "ax[1,1].set(xlabel='Z [$\\mu$m]')\n",
    "ofname = folder + Fname + \"_Plot.png\" \n",
    "\n",
    "plt.savefig(ofname,dpi=300)"
   ]
  },
  {
   "cell_type": "code",
   "execution_count": 46,
   "metadata": {},
   "outputs": [
    {
     "name": "stdout",
     "output_type": "stream",
     "text": [
      "/home/data_transfer/data_from_windows/20200902/BeamProfile//BeamProfileY2_Output_90.txt\n"
     ]
    },
    {
     "data": {
      "image/png": "[encoded data removed]",
      "text/plain": [
       "<Figure size 432x288 with 1 Axes>"
      ]
     },
     "metadata": {
      "needs_background": "light"
     },
     "output_type": "display_data"
    }
   ],
   "source": [
    "_,ax = plt.subplots()\n",
    "ax.plot(pos_y, '.-', label=\"x\",markersize=1,linewidth=0.5)\n",
    "ax.legend()\n",
    "ax.set_xlabel('Data Number')\n",
    "ax.set_ylabel('PSD [a.u.]')\n",
    "plt.xlim(1,2500)\n",
    "#plt.ylim(1e6,1e10)\n",
    "plt.grid(True)\n",
    "\n",
    "print(ofname)\n",
    "#plt.savefig(ofname, dpi =300)"
   ]
  },
  {
   "cell_type": "code",
   "execution_count": null,
   "metadata": {},
   "outputs": [],
   "source": []
  },
  {
   "cell_type": "code",
   "execution_count": null,
   "metadata": {},
   "outputs": [],
   "source": []
  },
  {
   "cell_type": "code",
   "execution_count": null,
   "metadata": {},
   "outputs": [],
   "source": []
  },
  {
   "cell_type": "code",
   "execution_count": null,
   "metadata": {},
   "outputs": [],
   "source": []
  },
  {
   "cell_type": "code",
   "execution_count": 111,
   "metadata": {},
   "outputs": [],
   "source": [
    "## plot y direction"
   ]
  },
  {
   "cell_type": "code",
   "execution_count": 52,
   "metadata": {},
   "outputs": [
    {
     "name": "stderr",
     "output_type": "stream",
     "text": [
      "100%|██████████| 91/91 [00:06<00:00, 14.07it/s]"
     ]
    },
    {
     "name": "stdout",
     "output_type": "stream",
     "text": [
      "91  files in folder\n",
      "91  files loaded\n"
     ]
    },
    {
     "name": "stderr",
     "output_type": "stream",
     "text": [
      "\n"
     ]
    }
   ],
   "source": [
    "# load the data\n",
    "BeadNumber = 1\n",
    "#RunNumber = 144\n",
    "#folder =  r\"/home/data_transfer/data_from_windows/\" + Year + Month + Day + \"/Bead\"+str(BeadNumber)+\"/Shaking/\"\n",
    "#folder =  r\"/home/data_transfer/data_from_windows/\" + Year + Month + Day + \"/Bead\"+str(BeadNumber)+\"/BeamProfile/\"\n",
    "folder =  r\"/home/data_transfer/data_from_windows/\" + Year + Month + Day + \"/ShieldAlignment/\"\n",
    "Fname=\"BeamProfileY4\"\n",
    "\n",
    "files = load_dir(folder, file_prefix = Fname, max_file=500)"
   ]
  },
  {
   "cell_type": "code",
   "execution_count": 53,
   "metadata": {},
   "outputs": [
    {
     "name": "stdout",
     "output_type": "stream",
     "text": [
      "0\n",
      "10\n",
      "20\n",
      "30\n",
      "40\n",
      "50\n",
      "60\n",
      "70\n",
      "80\n",
      "90\n"
     ]
    }
   ],
   "source": [
    "parY1 = []\n",
    "parY2 = []\n",
    "spin=np.zeros(5000)\n",
    "j=0\n",
    "for ff in files:\n",
    "    pos_x = ff.cant_pos[0]\n",
    "    pos_y = ff.cant_pos[1]\n",
    "    pos_z = ff.cant_pos[2]\n",
    "    quad_sum = ff.quad_sum\n",
    "    spintemp = ff.spin_data\n",
    "    for i in range(0,5000):\n",
    "        spin[i]=np.average(spintemp[10*i:10*i+9])\n",
    "    parY1.append(get_waist(pos_y, quad_sum))\n",
    "    parY2.append(get_waist(pos_y, spin, flip=True))\n",
    "        \n",
    "    if (j%10)==0:\n",
    "        ofname = folder+\"/\" + Fname + \"_Output_%d.txt\" % j\n",
    "\n",
    "        f1 = open(ofname,\"a\")\n",
    "        for i in range(0,5000):\n",
    "            f1.write('%f %e %e\\n' % (pos_y[i], quad_sum[i], spin[i]))\n",
    "        f1.close()\n",
    "        print(j)\n",
    "    j=j+1\n",
    "    \n",
    "parY1 = np.array(parY1)\n",
    "parY2 = np.array(parY2)\n",
    "ZrangeY = np.array([np.mean(ff.cant_pos[2])*10 for ff in files])"
   ]
  },
  {
   "cell_type": "code",
   "execution_count": 49,
   "metadata": {},
   "outputs": [],
   "source": [
    "def beamwidth_fun(t,z,w):\n",
    "    return w*np.sqrt(1+((t-z)/np.pi/w/w*1.064)**2)\n",
    "\n",
    "Zrange = np.linspace(5,95,91)\n",
    "\n",
    "def fit_waist(pars):\n",
    "    return curve_fit(beamwidth_fun, Zrange, pars[:,1],p0=[50,5])[0]"
   ]
  },
  {
   "cell_type": "code",
   "execution_count": 239,
   "metadata": {},
   "outputs": [
    {
     "name": "stdout",
     "output_type": "stream",
     "text": [
      "[51.38371862  2.98258325]\n",
      "3.173961282022353\n"
     ]
    }
   ],
   "source": [
    "pfitY1 = fit_waist(parY1)\n",
    "pfitY2 = fit_waist(parY2)\n",
    "print(pfitY2)\n",
    "print(np.min(parY2[:,1])*2)"
   ]
  },
  {
   "cell_type": "code",
   "execution_count": 240,
   "metadata": {},
   "outputs": [
    {
     "data": {
      "image/png": "[encoded data removed]",
      "text/plain": [
       "<Figure size 576x432 with 4 Axes>"
      ]
     },
     "metadata": {
      "needs_background": "light"
     },
     "output_type": "display_data"
    }
   ],
   "source": [
    "#draw single dataset\n",
    "_, ax = plt.subplots(2,2,figsize=(8,6))\n",
    "\n",
    "ax[0,0].scatter(ZrangeY,parY1[:,1]*2)\n",
    "#ax[0,0].plot(Zrange,beamwidth_fun(Zrange,*pfitX1),'r--')\n",
    "ax[0,0].set(title='Y-profile - quad_sum', ylabel='$w_{0}$ [$\\mu$m]')\n",
    "ax[0,1].scatter(ZrangeY,parY2[:,1]*2)\n",
    "#ax[0,1].plot(Zrange,beamwidth_fun(Zrange,*pfitX2),'r--')\n",
    "ax[0,1].set(title='Y-profile - spin_data')\n",
    "\n",
    "ax[1,0].scatter(ZrangeY,parY1[:,0])\n",
    "ax[1,0].set(xlabel='Z [$\\mu$m]', ylabel='$center$ [$\\mu$m]')\n",
    "ax[1,1].scatter(ZrangeY,parY2[:,0])\n",
    "ax[1,1].set(xlabel='Z [$\\mu$m]')\n",
    "ofname = folder + Fname + \"_Plot.png\" \n",
    "plt.savefig(ofname,dpi=300)"
   ]
  },
  {
   "cell_type": "code",
   "execution_count": null,
   "metadata": {},
   "outputs": [],
   "source": []
  },
  {
   "cell_type": "code",
   "execution_count": null,
   "metadata": {},
   "outputs": [],
   "source": []
  },
  {
   "cell_type": "code",
   "execution_count": 10,
   "metadata": {
    "scrolled": true
   },
   "outputs": [
    {
     "data": {
      "image/png": "[encoded data removed]",
      "text/plain": [
       "<Figure size 432x288 with 1 Axes>"
      ]
     },
     "metadata": {
      "needs_background": "light"
     },
     "output_type": "display_data"
    }
   ],
   "source": [
    "plt.plot(pos_x, spin, '.-', label=\"x\",markersize=1,linewidth=0.5)\n",
    "plt.legend()\n",
    "plt.xlabel('Frequency [Hz]')\n",
    "plt.ylabel('PSD [a.u.]')\n",
    "#plt.xlim(1,2500)\n",
    "#plt.ylim(1e6,1e10)\n",
    "plt.grid(True)\n",
    "plt.show()"
   ]
  },
  {
   "cell_type": "code",
   "execution_count": null,
   "metadata": {},
   "outputs": [],
   "source": []
  }
 ],
 "metadata": {
  "kernelspec": {
   "display_name": "Python 3",
   "language": "python",
   "name": "python3"
  },
  "language_info": {
   "codemirror_mode": {
    "name": "ipython",
    "version": 3
   },
   "file_extension": ".py",
   "mimetype": "text/x-python",
   "name": "python",
   "nbconvert_exporter": "python",
   "pygments_lexer": "ipython3",
   "version": "3.6.9"
  }
 },
 "nbformat": 4,
 "nbformat_minor": 2
}
