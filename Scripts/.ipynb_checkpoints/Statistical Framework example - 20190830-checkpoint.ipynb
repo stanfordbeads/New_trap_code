{
 "cells": [
  {
   "cell_type": "code",
   "execution_count": 1,
   "metadata": {},
   "outputs": [],
   "source": [
    "import numpy as np\n",
    "import matplotlib.pyplot as plt"
   ]
  },
  {
   "cell_type": "code",
   "execution_count": 22,
   "metadata": {},
   "outputs": [],
   "source": [
    "import sys\n",
    "sys.path.append('../../../nadavp/new_trap/Tools/')\n",
    "import BeadDataFile\n",
    "sys.path.append('../../../nadavp/new_trap/Tools/StatFramework/')\n",
    "from likelihood_calculator import likelihood_analyser"
   ]
  },
  {
   "cell_type": "code",
   "execution_count": 7,
   "metadata": {},
   "outputs": [
    {
     "name": "stdout",
     "output_type": "stream",
     "text": [
      "Error loading spinning data\n",
      "Error loading spinning data\n",
      "Error loading spinning data\n",
      "Error loading spinning data\n",
      "Error loading spinning data\n",
      "Error loading spinning data\n",
      "Error loading spinning data\n",
      "Error loading spinning data\n",
      "Error loading spinning data\n",
      "Error loading spinning data\n"
     ]
    }
   ],
   "source": [
    "fname = '/home/data_transfer/data_from_windows/20190801/Bead3/Discharge/Discharge_{}.h5'\n",
    "files = [fname.format(ff_) for ff_ in range(300,310)]\n",
    "bdf_x = [BeadDataFile.BeadDataFile(fname_) for fname_ in files]"
   ]
  },
  {
   "cell_type": "code",
   "execution_count": 23,
   "metadata": {},
   "outputs": [],
   "source": [
    "lc = likelihood_analyser.LikelihoodAnalyser()"
   ]
  },
  {
   "cell_type": "code",
   "execution_count": 27,
   "metadata": {},
   "outputs": [],
   "source": [
    "freq = 151\n",
    "scale = np.mean(bdf_x[0].x2)\n",
    "x = bdf_x[0].x2/scale"
   ]
  },
  {
   "cell_type": "code",
   "execution_count": null,
   "metadata": {},
   "outputs": [],
   "source": [
    "# fit arguments\n",
    "fit_kwargs = {'A': 5, 'f': freq, 'phi': 0, 'error_A': 2, 'error_f': 10, 'error_phi': 0.5, 'errordef': 0.5,\n",
    "              'limit_phi': [0, 2 * np.pi],\n",
    "              'print_level': 1, 'fix_f': True, 'fix_phi': True}\n",
    "\n",
    "m = lc_i.find_mle_sin(x, drive_freq=freq, noise_rms=noise_rms, bandwidth=100, plot=True, **fit_kwargs)"
   ]
  },
  {
   "cell_type": "code",
   "execution_count": null,
   "metadata": {},
   "outputs": [],
   "source": []
  },
  {
   "cell_type": "code",
   "execution_count": null,
   "metadata": {},
   "outputs": [],
   "source": []
  },
  {
   "cell_type": "code",
   "execution_count": null,
   "metadata": {},
   "outputs": [],
   "source": []
  }
 ],
 "metadata": {
  "kernelspec": {
   "display_name": "Python 3",
   "language": "python",
   "name": "python3"
  },
  "language_info": {
   "codemirror_mode": {
    "name": "ipython",
    "version": 3
   },
   "file_extension": ".py",
   "mimetype": "text/x-python",
   "name": "python",
   "nbconvert_exporter": "python",
   "pygments_lexer": "ipython3",
   "version": "3.6.8"
  }
 },
 "nbformat": 4,
 "nbformat_minor": 2
}
