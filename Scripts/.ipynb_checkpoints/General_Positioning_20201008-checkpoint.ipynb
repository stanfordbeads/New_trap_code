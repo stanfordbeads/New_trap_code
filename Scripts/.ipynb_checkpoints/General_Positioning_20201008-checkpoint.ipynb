{
 "cells": [
  {
   "cell_type": "code",
   "execution_count": 1,
   "metadata": {},
   "outputs": [],
   "source": [
    "%run /home/analysis_user/New_trap_code/Tools/basic_packages.py\n",
    "\n",
    "plt.rcParams[\"figure.figsize\"] = (12,9)\n",
    "plt.rcParams[\"font.size\"] = 24\n",
    "plt.rcParams['xtick.labelsize'] = \"small\"\n",
    "plt.rcParams['ytick.labelsize'] = 36"
   ]
  },
  {
   "cell_type": "code",
   "execution_count": null,
   "metadata": {},
   "outputs": [],
   "source": [
    "# set the values for 0 and build the image x axis\n",
    "attractor_fp = 184 # as of 2020/10/08, average over all bead positionings so far\n",
    "x_s1 = 1024*0.512-0.512*np.arange(0,1024,1) # using the Side1 camera and its pixel to height conversion of 0.512 um/Pixel\n"
   ]
  },
  {
   "cell_type": "code",
   "execution_count": null,
   "metadata": {},
   "outputs": [],
   "source": [
    "# load the necessary images\n",
    "\n",
    "s1_focal = load_img_files(\"/data/new_trap/20201007/Bead1/HeightPictures/side1_fp_tf_1800_20.bmp\")[0] # the focal image from TF with S1\n",
    "attr_30 = \n",
    "\n"
   ]
  }
 ],
 "metadata": {
  "kernelspec": {
   "display_name": "Python 3",
   "language": "python",
   "name": "python3"
  },
  "language_info": {
   "codemirror_mode": {
    "name": "ipython",
    "version": 3
   },
   "file_extension": ".py",
   "mimetype": "text/x-python",
   "name": "python",
   "nbconvert_exporter": "python",
   "pygments_lexer": "ipython3",
   "version": "3.6.9"
  }
 },
 "nbformat": 4,
 "nbformat_minor": 4
}
