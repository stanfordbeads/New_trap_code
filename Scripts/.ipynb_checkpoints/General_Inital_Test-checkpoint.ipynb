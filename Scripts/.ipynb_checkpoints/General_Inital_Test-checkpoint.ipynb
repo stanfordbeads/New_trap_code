{
 "cells": [
  {
   "cell_type": "code",
   "execution_count": 873,
   "metadata": {},
   "outputs": [],
   "source": [
    "import numpy as np\n",
    "import matplotlib\n",
    "\n",
    "import matplotlib.pyplot as plt\n",
    "from matplotlib import mlab\n",
    "\n",
    "from scipy import signal\n",
    "import h5py, time\n"
   ]
  },
  {
   "cell_type": "code",
   "execution_count": 874,
   "metadata": {},
   "outputs": [],
   "source": [
    "%matplotlib widget"
   ]
  },
  {
   "cell_type": "code",
   "execution_count": 875,
   "metadata": {},
   "outputs": [],
   "source": [
    "import sys\n",
    "sys.path.append('/home/analysis_user/New_trap_code/Tools/')\n",
    "import BeadDataFile"
   ]
  },
  {
   "cell_type": "code",
   "execution_count": 877,
   "metadata": {},
   "outputs": [],
   "source": [
    "Year = \"2020\"\n",
    "Month = \"09\"\n",
    "Day = \"17\"\n",
    "BeadNumber =1\n",
    "folder = r\"/home/data_transfer/data_from_windows/\"+ Year + Month + Day"
   ]
  },
  {
   "cell_type": "code",
   "execution_count": 958,
   "metadata": {},
   "outputs": [
    {
     "name": "stdout",
     "output_type": "stream",
     "text": [
      "/home/data_transfer/data_from_windows/20200320/Bead1/InitialTest/Data32.h5\n",
      "No height data\n",
      "No electrodes data\n",
      "No cantilever data\n",
      "No laser power data\n"
     ]
    }
   ],
   "source": [
    "Data_File_Number=32\n",
    "#fname = folder+\"/Bead\"+str(BeadNumber)+\"/InitialTest\"+\"/Data%d.h5\" % Data_File_Number\n",
    "fname = folder+\"/Bead\"+str(BeadNumber)+\"/InitialTest\"+\"/Data%d.h5\" % Data_File_Number\n",
    "\n",
    "#fname=r\"/home/data_transfer/data_from_windows/Testdata/20200915/Data0.h5\"\n",
    "#fname= \"/data/new_trap/20200614/Bead1/Discharge/Discharge3/ForceCalibration/Z4.h5\"\n",
    "#fname = folder+\"/NoBead\"+\"/InitialTest\"+\"/Data%d.h5\" % Data_File_Number\n",
    "#fname = folder + \"/Bead\" + str(BeadNumber)+\"/Discharge\"+\"/Recharge\"+\"/Discharge_%d.h5\" %Data_File_Number\n",
    "#fname=\"/data/new_trap/20200618/Bead1/TransFunc/TransFunc_Y_m3e5_250s_7Hz.h5\"\n",
    "\n",
    "print(fname)\n",
    "BDF = BeadDataFile.BeadDataFile(fname)\n",
    "fsamp=5000\n",
    "res = 5000\n",
    "\n",
    "data=BDF.xyz\n",
    "trigger = BDF.trigger\n",
    "data_det=signal.detrend(data)\n",
    "y_1000=1*data_det[1]\n",
    "z_1000=100*data_det[2]\n",
    "\n",
    "xpsd, freqs = matplotlib.mlab.psd(data_det[0][225:], Fs = fsamp, NFFT = res)\n",
    "ypsd, freqs = matplotlib.mlab.psd(y_1000[225:], Fs = fsamp, NFFT = res)\n",
    "zpsd, freqs = matplotlib.mlab.psd(z_1000[225:], Fs = fsamp, NFFT = res)"
   ]
  },
  {
   "cell_type": "code",
   "execution_count": 959,
   "metadata": {},
   "outputs": [
    {
     "name": "stdout",
     "output_type": "stream",
     "text": [
      "0.0 maximum x\n",
      "540.0 maximum y\n",
      "2321627.5957639148 minimum x\n",
      "3084854.938152821 minimum y\n"
     ]
    }
   ],
   "source": [
    "plt.loglog(freqs, xpsd, '.-', label=\"x\",markersize=1,linewidth=0.5)\n",
    "plt.loglog(freqs, ypsd, '.-', label=\"y*1\",markersize=1,linewidth=0.5)\n",
    "plt.loglog(freqs, zpsd, '.-', label=\"z*100\",markersize=1,linewidth=0.5)\n",
    "plt.legend()\n",
    "plt.xlabel('Frequency [Hz]')\n",
    "plt.ylabel('PSD [a.u.]')\n",
    "#plt.xlim(1,2500)\n",
    "#plt.ylim(1e6,1e10)\n",
    "plt.grid(True)\n",
    "plt.show()\n",
    "print(freqs[np.argmax(xpsd)], \"maximum x\")\n",
    "print(freqs[np.argmax(ypsd)], \"maximum y\")\n",
    "print(np.min(xpsd), \"minimum x\")\n",
    "print(np.min(ypsd), \"minimum y\")\n"
   ]
  },
  {
   "cell_type": "code",
   "execution_count": 960,
   "metadata": {},
   "outputs": [
    {
     "data": {
      "application/vnd.jupyter.widget-view+json": {
       "model_id": "b25d0d56431146ae91a85b6a29d8f34d",
       "version_major": 2,
       "version_minor": 0
      },
      "text/plain": [
       "Canvas(toolbar=Toolbar(toolitems=[('Home', 'Reset original view', 'home', 'home'), ('Back', 'Back to previous …"
      ]
     },
     "metadata": {},
     "output_type": "display_data"
    },
    {
     "name": "stdout",
     "output_type": "stream",
     "text": [
      "0.0 maximum x\n",
      "540.0 maximum y\n",
      "2321627.5957639148 minimum x\n",
      "3084854.938152821 minimum y\n",
      "/home/data_transfer/data_from_windows/20200320/Bead1/InitialTest/Data32.png\n"
     ]
    }
   ],
   "source": [
    "_,ax = plt.subplots()\n",
    "ax.loglog(freqs, xpsd, '.-', label=\"x\",markersize=1,linewidth=0.5)\n",
    "ax.loglog(freqs, ypsd, '.-', label=\"y*1\",markersize=1,linewidth=0.5)\n",
    "ax.loglog(freqs, zpsd, '.-', label=\"z*100\",markersize=1,linewidth=0.5)\n",
    "ax.legend()\n",
    "ax.set_xlabel('Frequency [Hz]')\n",
    "ax.set_ylabel('PSD [a.u.]')\n",
    "#plt.xlim(1,2500)\n",
    "#plt.ylim(1e6,1e10)\n",
    "plt.grid(True)\n",
    "print(freqs[np.argmax(xpsd)], \"maximum x\")\n",
    "print(freqs[np.argmax(ypsd)], \"maximum y\")\n",
    "print(np.min(xpsd), \"minimum x\")\n",
    "print(np.min(ypsd), \"minimum y\")\n",
    "\n",
    "ofname=folder+\"/Bead\"+str(BeadNumber)+\"/InitialTest\"+\"/Data%d.png\" % Data_File_Number\n",
    "#ofname=\"picture.png\"\n",
    "#ofname=folder+\"/NoBead\"+\"/InitialTest\"+\"/Data%d.png\" % Data_File_Number\n",
    "\n",
    "print(ofname)\n",
    "#plt.savefig(ofname, dpi =300)"
   ]
  },
  {
   "cell_type": "code",
   "execution_count": 963,
   "metadata": {},
   "outputs": [
    {
     "name": "stdout",
     "output_type": "stream",
     "text": [
      "No height data\n",
      "No electrodes data\n",
      "No cantilever data\n",
      "No laser power data\n",
      "No height data\n",
      "No electrodes data\n",
      "No cantilever data\n",
      "No laser power data\n"
     ]
    }
   ],
   "source": [
    "Compare_File_1 = 32\n",
    "Compare_File_2 = 31\n",
    "\n",
    "fname_1 = folder+\"/Bead\"+str(BeadNumber)+\"/InitialTest\"+\"/Data%d.h5\" % Compare_File_1\n",
    "fname_2 = folder+\"/Bead\"+str(BeadNumber)+\"/InitialTest\"+\"/Data%d.h5\" % Compare_File_2\n",
    "\n",
    "\n",
    "res = 5000\n",
    "\n",
    "BDF = BeadDataFile.BeadDataFile(fname_1)\n",
    "data1 = BDF.xyz\n",
    "data_det1=signal.detrend(data1)\n",
    "xpsd1, freqs1 = matplotlib.mlab.psd(data_det1[0], Fs = fsamp, NFFT = res)\n",
    "ypsd1, freqs1 = matplotlib.mlab.psd(data_det1[1], Fs = fsamp, NFFT = res)\n",
    "zpsd1, freqs1 = matplotlib.mlab.psd(data_det1[2], Fs = fsamp, NFFT = res)\n",
    "\n",
    "BDF = BeadDataFile.BeadDataFile(fname_2)\n",
    "data2 = BDF.xyz\n",
    "data_det2=signal.detrend(data2)\n",
    "xpsd2, freqs2 = matplotlib.mlab.psd(data_det2[0], Fs = fsamp, NFFT = res)\n",
    "ypsd2, freqs2 = matplotlib.mlab.psd(data_det2[1], Fs = fsamp, NFFT = res)\n",
    "zpsd2, freqs2 = matplotlib.mlab.psd(data_det2[2], Fs = fsamp, NFFT = res)\n"
   ]
  },
  {
   "cell_type": "code",
   "execution_count": 964,
   "metadata": {},
   "outputs": [
    {
     "data": {
      "application/vnd.jupyter.widget-view+json": {
       "model_id": "6302d8ea8d0f4f4f85da6a9230c6fe63",
       "version_major": 2,
       "version_minor": 0
      },
      "text/plain": [
       "Canvas(toolbar=Toolbar(toolitems=[('Home', 'Reset original view', 'home', 'home'), ('Back', 'Back to previous …"
      ]
     },
     "metadata": {},
     "output_type": "display_data"
    }
   ],
   "source": [
    "_,ax = plt.subplots()\n",
    "label1='Data%d,x' % Compare_File_1\n",
    "label2='Data%d,x' % Compare_File_2\n",
    "ax.loglog(freqs1, xpsd1/xpsd1.mean(), '.-', label=label1,markersize=2,linewidth=1)\n",
    "ax.loglog(freqs2, xpsd2/xpsd2.mean(), '.-', label=label2,markersize=2,linewidth=1,alpha=0.5)\n",
    "\n",
    "ax.legend()\n",
    "ax.set_xlabel('Frequency [Hz]')\n",
    "ax.set_ylabel('PSD [a.u.]')\n",
    "plt.xlim(1,2500)\n",
    "#plt.ylim(1e5,1e10)\n",
    "plt.grid(True)\n",
    "\n",
    "#ofname='../Documents/AkioK/Data%d.png' % Ndata\n",
    "#ofname='../Documents/AkioK/Discharge%d.png' % Ndata\n",
    "#ofname='../Documents/AkioK/TransFunc%d.png' % Ndata\n",
    "#ofname='../Documents/AkioK/Shaking%d.png' % Ndata\n",
    "#ofname=folder+\"/Bead\"+str(BeadNumber)+\"/InitialTest\"+\"/DataX%d_%d.png\" % (Compare_File_1,Compare_File_2)\n",
    "#plt.savefig(\"Temporary_Plots/Anderson/\"+\"/DataX%d_%d.png\" % (Compare_File_1,Compare_File_2))"
   ]
  },
  {
   "cell_type": "code",
   "execution_count": 965,
   "metadata": {},
   "outputs": [
    {
     "data": {
      "application/vnd.jupyter.widget-view+json": {
       "model_id": "ddf5e8da765247d9be201eb3d6653c1e",
       "version_major": 2,
       "version_minor": 0
      },
      "text/plain": [
       "Canvas(toolbar=Toolbar(toolitems=[('Home', 'Reset original view', 'home', 'home'), ('Back', 'Back to previous …"
      ]
     },
     "metadata": {},
     "output_type": "display_data"
    }
   ],
   "source": [
    "_,ax = plt.subplots()\n",
    "label1='Data%d,y' % Compare_File_1\n",
    "label2='Data%d,y' % Compare_File_2\n",
    "ax.loglog(freqs1, ypsd1, '.-', label=label1,markersize=2,linewidth=1)\n",
    "ax.loglog(freqs2, ypsd2, '.-', label=label2,markersize=2,linewidth=1,alpha=0.5)\n",
    "\n",
    "ax.legend()\n",
    "ax.set_xlabel('Frequency [Hz]')\n",
    "ax.set_ylabel('PSD [a.u.]')\n",
    "plt.xlim(1,2500)\n",
    "#plt.ylim(1e5,1e10)\n",
    "plt.grid(True)\n",
    "#ofname='/home/analysis_user/Results/Plots/20190724/NoBead/NoiseTest/PlotDataX%d_%d.png' %(Ndata1, Ndata2)\n",
    "ofname=folder+\"/Bead\"+str(BeadNumber)+\"/InitialTest\"+\"/DataY%d_%d.png\" % (Compare_File_1,Compare_File_2)\n",
    "#plt.savefig(ofname)plt.savefig(\"Temporary_Plots/Anderson/\"+\"/DatYX%d_%d.png\" % (Compare_File_1,Compare_File_2))"
   ]
  },
  {
   "cell_type": "code",
   "execution_count": 966,
   "metadata": {},
   "outputs": [
    {
     "data": {
      "application/vnd.jupyter.widget-view+json": {
       "model_id": "67d7c61b086d4c27b78e4d6f53ebecff",
       "version_major": 2,
       "version_minor": 0
      },
      "text/plain": [
       "Canvas(toolbar=Toolbar(toolitems=[('Home', 'Reset original view', 'home', 'home'), ('Back', 'Back to previous …"
      ]
     },
     "metadata": {},
     "output_type": "display_data"
    }
   ],
   "source": [
    "_,ax = plt.subplots()\n",
    "label1='Data%d,z' % Compare_File_1\n",
    "label2='Data%d,z' % Compare_File_2\n",
    "ax.loglog(freqs1, zpsd1, '.-', label=label1,markersize=2,linewidth=1)\n",
    "ax.loglog(freqs2, zpsd2, '.-', label=label2,markersize=2,linewidth=1,alpha=0.5)\n",
    "\n",
    "ax.legend()\n",
    "ax.set_xlabel('Frequency [Hz]')\n",
    "ax.set_ylabel('PSD [a.u.]')#plt.xlim(100,175)\n",
    "#plt.ylim(1e5,1e10)\n",
    "plt.grid(True)\n",
    "ofname=folder+\"/Bead\"+str(BeadNumber)+\"/InitialTest\"+\"/DataZ%d_%d.png\" % (Compare_File_1,Compare_File_2)\n",
    "#ofname='/home/analysis_user/Results/Plots/20190724/NoBead/NoiseTest/PlotDataX%d_%d.png' %(Ndata1, Ndata2)\n",
    "#plt.savefig(ofname)\n",
    "#plt.savefig(\"Temporary_Plots/Anderson/\"+\"/DataZ%d_%d.png\" % (Compare_File_1,Compare_File_2))"
   ]
  },
  {
   "cell_type": "code",
   "execution_count": 949,
   "metadata": {},
   "outputs": [],
   "source": [
    "Year = \"2020\"\n",
    "Month = \"03\"\n",
    "Day = \"20\"\n",
    "BeadNumber =1\n",
    "folder = r\"/home/data_transfer/data_from_windows/\"+ Year + Month + Day"
   ]
  },
  {
   "cell_type": "code",
   "execution_count": 953,
   "metadata": {},
   "outputs": [
    {
     "name": "stdout",
     "output_type": "stream",
     "text": [
      "No height data\n",
      "No electrodes data\n",
      "No cantilever data\n",
      "No laser power data\n"
     ]
    }
   ],
   "source": [
    "Compare_File_1 = 38\n",
    "\n",
    "fname_1 = folder+\"/Bead\"+str(BeadNumber)+\"/InitialTest\"+\"/Data%d.h5\" % Compare_File_1\n",
    "res = 5000\n",
    "#fname_2 = folder+\"/Bead\"+str(BeadNumber)+\"/InitialTest\"+\"/Data%d.h5\" % Compare_File_2\n",
    "\n",
    "BDF = BeadDataFile.BeadDataFile(fname_1)\n",
    "data1 = BDF.xyz\n",
    "data_det1=signal.detrend(data1)\n",
    "xpsd1, freqs1 = matplotlib.mlab.psd(data_det1[0], Fs = fsamp, NFFT = res)\n",
    "ypsd1, freqs1 = matplotlib.mlab.psd(data_det1[1], Fs = fsamp, NFFT = res)\n",
    "zpsd1, freqs1 = matplotlib.mlab.psd(data_det1[2], Fs = fsamp, NFFT = res)\n",
    "\n",
    "\n",
    "\n",
    "#BDF = BeadDataFile.BeadDataFile(fname_2)\n",
    "#data2 = BDF.xyz2\n",
    "#data_det2=signal.detrend(data2)\n",
    "#xpsd2, freqs2 = matplotlib.mlab.psd(data_det2[0], Fs = fsamp, NFFT = res)\n",
    "#ypsd2, freqs2 = matplotlib.mlab.psd(data_det2[1], Fs = fsamp, NFFT = res)\n",
    "#zpsd2, freqs2 = matplotlib.mlab.psd(data_det2[2], Fs = fsamp, NFFT = res)\n"
   ]
  },
  {
   "cell_type": "code",
   "execution_count": 954,
   "metadata": {},
   "outputs": [
    {
     "data": {
      "application/vnd.jupyter.widget-view+json": {
       "model_id": "0adf8e153c46478f8e889d77127b3887",
       "version_major": 2,
       "version_minor": 0
      },
      "text/plain": [
       "Canvas(toolbar=Toolbar(toolitems=[('Home', 'Reset original view', 'home', 'home'), ('Back', 'Back to previous …"
      ]
     },
     "metadata": {},
     "output_type": "display_data"
    }
   ],
   "source": [
    "_,ax = plt.subplots()\n",
    "label1='Data%d,x' % Compare_File_1\n",
    "label2='Data%d,x' % Compare_File_2\n",
    "ax.loglog(freqs1, xpsd1, '.-', label=label1,markersize=2,linewidth=1)\n",
    "ax.loglog(freqs2, xpsd2, '.-', label=label2,markersize=2,linewidth=1,alpha=0.5)\n",
    "\n",
    "ax.legend()\n",
    "ax.set_xlabel('Frequency [Hz]')\n",
    "ax.set_ylabel('PSD [a.u.]')\n",
    "plt.xlim(1,2500)\n",
    "#plt.ylim(1e5,1e10)\n",
    "plt.grid(True)\n",
    "\n",
    "#ofname='../Documents/AkioK/Data%d.png' % Ndata\n",
    "#ofname='../Documents/AkioK/Discharge%d.png' % Ndata\n",
    "#ofname='../Documents/AkioK/TransFunc%d.png' % Ndata\n",
    "#ofname='../Documents/AkioK/Shaking%d.png' % Ndata\n",
    "ofname=folder+\"/Bead\"+str(BeadNumber)+\"/InitialTest\"+\"/DataX%d_%d.png\" % (Compare_File_1,Compare_File_2)\n",
    "#plt.savefig(ofname)"
   ]
  },
  {
   "cell_type": "code",
   "execution_count": 955,
   "metadata": {},
   "outputs": [
    {
     "data": {
      "application/vnd.jupyter.widget-view+json": {
       "model_id": "61b36b864f284d04aba2984532811c14",
       "version_major": 2,
       "version_minor": 0
      },
      "text/plain": [
       "Canvas(toolbar=Toolbar(toolitems=[('Home', 'Reset original view', 'home', 'home'), ('Back', 'Back to previous …"
      ]
     },
     "metadata": {},
     "output_type": "display_data"
    }
   ],
   "source": [
    "_,ax = plt.subplots()\n",
    "label1='Data%d,y' % Compare_File_1\n",
    "label2='Data%d,y' % Compare_File_2\n",
    "ax.loglog(freqs1, ypsd1, '.-', label=label1,markersize=2,linewidth=1)\n",
    "ax.loglog(freqs2, ypsd2, '.-', label=label2,markersize=2,linewidth=1,alpha=0.5)\n",
    "\n",
    "ax.legend()\n",
    "ax.set_xlabel('Frequency [Hz]')\n",
    "ax.set_ylabel('PSD [a.u.]')\n",
    "plt.xlim(1,2500)\n",
    "#plt.ylim(1e5,1e10)\n",
    "plt.grid(True)\n",
    "#ofname='/home/analysis_user/Results/Plots/20190724/NoBead/NoiseTest/PlotDataX%d_%d.png' %(Ndata1, Ndata2)\n",
    "ofname=folder+\"/Bead\"+str(BeadNumber)+\"/InitialTest\"+\"/DataY%d_%d.png\" % (Compare_File_1,Compare_File_2)\n",
    "#plt.savefig(ofname)"
   ]
  },
  {
   "cell_type": "code",
   "execution_count": 957,
   "metadata": {},
   "outputs": [
    {
     "data": {
      "application/vnd.jupyter.widget-view+json": {
       "model_id": "0618e8ee7fe947968db213ee483a93bb",
       "version_major": 2,
       "version_minor": 0
      },
      "text/plain": [
       "Canvas(toolbar=Toolbar(toolitems=[('Home', 'Reset original view', 'home', 'home'), ('Back', 'Back to previous …"
      ]
     },
     "metadata": {},
     "output_type": "display_data"
    }
   ],
   "source": [
    "_,ax = plt.subplots()\n",
    "label1='Data%d,z' % Compare_File_1\n",
    "label2='Data%d,z' % Compare_File_2\n",
    "ax.loglog(freqs1, zpsd1, '.-', label=label1,markersize=2,linewidth=1)\n",
    "ax.loglog(freqs2, zpsd2, '.-', label=label2,markersize=2,linewidth=1,alpha=0.5)\n",
    "\n",
    "ax.legend()\n",
    "ax.set_xlabel('Frequency [Hz]')\n",
    "ax.set_ylabel('PSD [a.u.]')#plt.xlim(100,175)\n",
    "#plt.ylim(1e5,1e10)\n",
    "plt.grid(True)\n",
    "ofname=folder+\"/Bead\"+str(BeadNumber)+\"/InitialTest\"+\"/DataZ%d_%d.png\" % (Compare_File_1,Compare_File_2)\n",
    "#ofname='/home/analysis_user/Results/Plots/20190724/NoBead/NoiseTest/PlotDataX%d_%d.png' %(Ndata1, Ndata2)\n",
    "#plt.savefig(\"Temporary_Plots/wilson_1406\")"
   ]
  },
  {
   "cell_type": "code",
   "execution_count": null,
   "metadata": {},
   "outputs": [],
   "source": []
  },
  {
   "cell_type": "code",
   "execution_count": null,
   "metadata": {},
   "outputs": [],
   "source": [
    "fname=\"/home/data_transfer/data_from_windows//Testdata/20200806/Discharge_6.h5\"\n",
    "# fname = r'/home/data_transfer/data_from_windows/Testdata/20200805/Discharge_4.h5'"
   ]
  },
  {
   "cell_type": "code",
   "execution_count": null,
   "metadata": {},
   "outputs": [],
   "source": [
    "BDF = BeadDataFile.BeadDataFile(fname)"
   ]
  },
  {
   "cell_type": "code",
   "execution_count": null,
   "metadata": {},
   "outputs": [],
   "source": [
    "data1=BDF.z2\n",
    "data2=BDF.Iz\n",
    "data3=BDF.xyz\n",
    "data4=BDF.feedback\n",
    "t = BDF.trigger\n",
    "index_ = np.nonzero(t)[0][0]"
   ]
  },
  {
   "cell_type": "code",
   "execution_count": null,
   "metadata": {},
   "outputs": [],
   "source": [
    "plt.plot(data1/data1.mean())\n",
    "# plt.plot(data2/data2.mean(),label=\"Iz\")\n",
    "plt.plot(data3[2][index_/data3[2].mean())\n",
    "# plt.plot(data4[2][index_:]/data4[2].mean(),label=\"z_fb \"+str(index_)+\" shift\")\n",
    "#plt.plot(data4[2]/data4[2].mean(),label=\"z_fb\")\n",
    "\n",
    "#plt.plot(t/50,label=\"trigger\")\n",
    "plt.xlim(0,12380)\n",
    "plt.legend()\n",
    "plt.show()"
   ]
  },
  {
   "cell_type": "code",
   "execution_count": null,
   "metadata": {},
   "outputs": [],
   "source": [
    "plt.plot(t)"
   ]
  },
  {
   "cell_type": "code",
   "execution_count": null,
   "metadata": {},
   "outputs": [],
   "source": [
    "t[224:315]"
   ]
  },
  {
   "cell_type": "code",
   "execution_count": null,
   "metadata": {},
   "outputs": [],
   "source": [
    "Compare_File_1 = 1\n",
    "Compare_File_2 = 2\n",
    "\n",
    "fname_1 = fname #folder+\"/Bead\"+str(BeadNumber)+\"/InitialTest\"+\"/Data%d.h5\" % Compare_File_1\n",
    "fname_2 = fname #folder+\"/Bead\"+str(BeadNumber)+\"/InitialTest\"+\"/Data%d.h5\" % Compare_File_2\n",
    "\n",
    "\n",
    "res = 5000\n",
    "\n",
    "BDF = BeadDataFile.BeadDataFile(fname_1)\n",
    "data1 = BDF.xyz\n",
    "data_det1=signal.detrend(data1)\n",
    "xpsd1, freqs1 = matplotlib.mlab.psd(data_det1[0], Fs = fsamp, NFFT = res)\n",
    "ypsd1, freqs1 = matplotlib.mlab.psd(data_det1[1], Fs = fsamp, NFFT = res)\n",
    "zpsd1, freqs1 = matplotlib.mlab.psd(data_det1[2], Fs = fsamp, NFFT = res)\n",
    "\n",
    "BDF = BeadDataFile.BeadDataFile(fname_2)\n",
    "data2 = BDF.xyz2\n",
    "data_det2=signal.detrend(data2)\n",
    "xpsd2, freqs2 = matplotlib.mlab.psd(data_det2[0], Fs = fsamp, NFFT = res)\n",
    "ypsd2, freqs2 = matplotlib.mlab.psd(data_det2[1], Fs = fsamp, NFFT = res)\n",
    "zpsd2, freqs2 = matplotlib.mlab.psd(data_det2[2], Fs = fsamp, NFFT = res)\n",
    "\n",
    "\n",
    "\n",
    "xpsd3, freqs1 = matplotlib.mlab.psd(data_det1[0][225:], Fs = fsamp, NFFT = res)\n",
    "ypsd3, freqs1 = matplotlib.mlab.psd(data_det1[1][225:], Fs = fsamp, NFFT = res)\n",
    "zpsd3, freqs1 = matplotlib.mlab.psd(data_det1[2][225:], Fs = fsamp, NFFT = res)\n",
    "\n",
    "BDF = BeadDataFile.BeadDataFile(fname_2)\n",
    "data_det2=signal.detrend(data2)\n",
    "xpsd4, freqs4 = matplotlib.mlab.psd(data_det2[0][225:], Fs = fsamp, NFFT = res)\n",
    "ypsd4, freqs4 = matplotlib.mlab.psd(data_det2[1][225:], Fs = fsamp, NFFT = res)\n",
    "zpsd4, freqs4 = matplotlib.mlab.psd(data_det2[2][225:], Fs = fsamp, NFFT = res)"
   ]
  },
  {
   "cell_type": "code",
   "execution_count": null,
   "metadata": {},
   "outputs": [],
   "source": [
    "_,ax = plt.subplots()\n",
    "label1='Data%d,x' % Compare_File_1\n",
    "label2='Data%d,x' % Compare_File_2\n",
    "ax.loglog(freqs1, xpsd1/xpsd1.mean(), '.-', label=\"xyz\",markersize=2,linewidth=1)\n",
    "ax.loglog(freqs2, xpsd2/xpsd2.mean(), '.-', label=\"xyz2\",markersize=2,linewidth=1,alpha=0.5)\n",
    "ax.loglog(freqs4, xpsd3/xpsd3.mean(), '.-', label=\"xyz shifted\",markersize=2,linewidth=1,alpha=0.5)\n",
    "ax.loglog(freqs4, xpsd4/xpsd4.mean(), '.-', label=\"xyz2 shifted\",markersize=2,linewidth=1,alpha=0.5)\n",
    "\n",
    "\n",
    "ax.legend()\n",
    "ax.set_xlabel('Frequency [Hz]')\n",
    "ax.set_ylabel('PSD [a.u.]')\n",
    "plt.xlim(1,2500)\n",
    "#plt.ylim(1e5,1e10)\n",
    "plt.grid(True)\n",
    "\n",
    "#ofname='../Documents/AkioK/Data%d.png' % Ndata\n",
    "#ofname='../Documents/AkioK/Discharge%d.png' % Ndata\n",
    "#ofname='../Documents/AkioK/TransFunc%d.png' % Ndata\n",
    "#ofname='../Documents/AkioK/Shaking%d.png' % Ndata\n",
    "#ofname=folder+\"/Bead\"+str(BeadNumber)+\"/InitialTest\"+\"/DataX%d_%d.png\" % (Compare_File_1,Compare_File_2)\n",
    "#plt.savefig(\"Temporary_Plots/Anderson/\"+\"/DataX%d_%d.png\" % (Compare_File_1,Compare_File_2))"
   ]
  },
  {
   "cell_type": "code",
   "execution_count": null,
   "metadata": {},
   "outputs": [],
   "source": []
  }
 ],
 "metadata": {
  "kernelspec": {
   "display_name": "Python 3",
   "language": "python",
   "name": "python3"
  },
  "language_info": {
   "codemirror_mode": {
    "name": "ipython",
    "version": 3
   },
   "file_extension": ".py",
   "mimetype": "text/x-python",
   "name": "python",
   "nbconvert_exporter": "python",
   "pygments_lexer": "ipython3",
   "version": "3.6.9"
  },
  "widgets": {
   "application/vnd.jupyter.widget-state+json": {
    "state": {
     "1f635c90567a4166bda49bbc557a28e4": {
      "model_module": "jupyter-matplotlib",
      "model_module_version": "^0.7.3",
      "model_name": "MPLCanvasModel",
      "state": {
       "_cursor": "default",
       "_figure_label": "Figure 1",
       "_height": 480,
       "_image_mode": "diff",
       "_message": "zoom rect",
       "_rubberband_y": 480,
       "_width": 640,
       "layout": "IPY_MODEL_c46ecd7274014080aa1b02c2a9005705",
       "toolbar": "IPY_MODEL_278648b1cb9d46049ad358d8f0ff821a",
       "toolbar_position": "left"
      }
     },
     "278648b1cb9d46049ad358d8f0ff821a": {
      "model_module": "jupyter-matplotlib",
      "model_module_version": "^0.7.3",
      "model_name": "ToolbarModel",
      "state": {
       "_current_action": "zoom",
       "layout": "IPY_MODEL_6e74667842f94cd3890501f51e3295de",
       "toolitems": [
        [
         "Home",
         "Reset original view",
         "home",
         "home"
        ],
        [
         "Back",
         "Back to previous view",
         "arrow-left",
         "back"
        ],
        [
         "Forward",
         "Forward to next view",
         "arrow-right",
         "forward"
        ],
        [
         "Pan",
         "Left button pans, Right button zooms\nx/y fixes axis, CTRL fixes aspect",
         "arrows",
         "pan"
        ],
        [
         "Zoom",
         "Zoom to rectangle\nx/y fixes axis, CTRL fixes aspect",
         "square-o",
         "zoom"
        ],
        [
         "Download",
         "Download plot",
         "floppy-o",
         "save_figure"
        ]
       ]
      }
     },
     "6e74667842f94cd3890501f51e3295de": {
      "model_module": "@jupyter-widgets/base",
      "model_module_version": "1.2.0",
      "model_name": "LayoutModel",
      "state": {}
     },
     "c46ecd7274014080aa1b02c2a9005705": {
      "model_module": "@jupyter-widgets/base",
      "model_module_version": "1.2.0",
      "model_name": "LayoutModel",
      "state": {}
     }
    },
    "version_major": 2,
    "version_minor": 0
   }
  }
 },
 "nbformat": 4,
 "nbformat_minor": 4
}
