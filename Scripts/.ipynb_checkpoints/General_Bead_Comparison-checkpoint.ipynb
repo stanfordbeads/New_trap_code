{
 "cells": [
  {
   "cell_type": "code",
   "execution_count": 1,
   "metadata": {},
   "outputs": [],
   "source": [
    "%run /home/analysis_user/New_trap_code/Tools/basic_packages.py\n"
   ]
  },
  {
   "cell_type": "code",
   "execution_count": 2,
   "metadata": {},
   "outputs": [],
   "source": [
    "%matplotlib widget"
   ]
  },
  {
   "cell_type": "code",
   "execution_count": 3,
   "metadata": {},
   "outputs": [],
   "source": [
    "import sys\n",
    "sys.path.append('/home/analysis_user/New_trap_code/Tools/')\n",
    "import BeadDataFile"
   ]
  },
  {
   "cell_type": "code",
   "execution_count": 8,
   "metadata": {},
   "outputs": [],
   "source": [
    "def make_psds(fname):\n",
    "    print(fname)\n",
    "    BDF = BeadDataFile.BeadDataFile(fname)\n",
    "    fsamp=5000\n",
    "    res = 5000\n",
    "    data=BDF.xyz2\n",
    "    trigger = BDF.trigger\n",
    "    data_det=signal.detrend(data)\n",
    "    y_1000=1*data_det[1]\n",
    "    z_1000=100*data_det[2]\n",
    "\n",
    "    xpsd, freqs = matplotlib.mlab.psd(data_det[0], Fs = fsamp, NFFT = res)\n",
    "    ypsd, freqs = matplotlib.mlab.psd(y_1000, Fs = fsamp, NFFT = res)\n",
    "    zpsd, freqs = matplotlib.mlab.psd(z_1000, Fs = fsamp, NFFT = res)\n",
    "    return freqs,xpsd,ypsd,zpsd    \n",
    "\n",
    "def plot_psds():\n",
    "    _,ax = plt.subplots()\n",
    "    ax.loglog(freqs, xpsd_B1, '.-', label=\"x\",markersize=1,linewidth=0.5)\n",
    "    ax.loglog(freqs, xpsd_B2, '.-', label=\"x\",markersize=1,linewidth=0.5)\n",
    "    ax.loglog(freqs, xpsd_B3, '.-', label=\"x\",markersize=1,linewidth=0.5)\n",
    "    ax.set_xlabel('Frequency [Hz]')\n",
    "    ax.set_ylabel('X PSD [a.u.]')\n",
    "    #plt.xlim(1,2500)\n",
    "    #plt.ylim(1e6,1e10)\n",
    "    plt.grid(True)\n",
    "    return None"
   ]
  },
  {
   "cell_type": "code",
   "execution_count": 19,
   "metadata": {},
   "outputs": [],
   "source": [
    "# load bead data 1\n",
    "\n",
    "Year_B1 = \"2021\"\n",
    "Month_B1 = \"04\"\n",
    "Day_B1 = \"23\"\n",
    "BeadNumber_B1 = 1\n",
    "folder_B1 = r\"/home/data_transfer/data_from_windows/\"+ Year_B1 + Month_B1 + Day_B1\n",
    "Data_File_Number_B1=14\n",
    "fname1 = folder_B1+\"/Bead\"+str(BeadNumber_B1)+\"/InitialTest\"+\"/Data%d.h5\" % Data_File_Number_B1"
   ]
  },
  {
   "cell_type": "code",
   "execution_count": 20,
   "metadata": {},
   "outputs": [],
   "source": [
    "# load bead data 2\n",
    "\n",
    "Year_B2 = \"2021\"\n",
    "Month_B2 = \"04\"\n",
    "Day_B2 = \"23\"\n",
    "BeadNumber_B2 = 2\n",
    "folder_B2 = r\"/home/data_transfer/data_from_windows/\"+ Year_B2 + Month_B2 + Day_B2\n",
    "Data_File_Number_B2=8\n",
    "fname2 = folder_B2+\"/Bead\"+str(BeadNumber_B1)+\"/InitialTest\"+\"/Data%d.h5\" % Data_File_Number_B2"
   ]
  },
  {
   "cell_type": "code",
   "execution_count": 21,
   "metadata": {},
   "outputs": [],
   "source": [
    "# load bead data 3\n",
    "\n",
    "Year_B3 = \"2021\"\n",
    "Month_B3 = \"04\"\n",
    "Day_B3 = \"23\"\n",
    "BeadNumber_B3 = 1\n",
    "folder_B3 = r\"/home/data_transfer/data_from_windows/\"+ Year_B3 + Month_B3 + Day_B3\n",
    "Data_File_Number_B3=14\n",
    "fname3 = folder_B3+\"/Bead\"+str(BeadNumber_B3)+\"/InitialTest\"+\"/Data%d.h5\" % Data_File_Number_B3"
   ]
  },
  {
   "cell_type": "code",
   "execution_count": 22,
   "metadata": {},
   "outputs": [
    {
     "name": "stdout",
     "output_type": "stream",
     "text": [
      "/home/data_transfer/data_from_windows/20210423/Bead1/InitialTest/Data14.h5\n",
      "No seismometer data\n",
      "No z_set data\n",
      "No height data\n",
      "No electrodes data\n",
      "No cantilever data\n",
      "No laser power data\n",
      "/home/data_transfer/data_from_windows/20210423/Bead1/InitialTest/Data8.h5\n",
      "No seismometer data\n",
      "No z_set data\n",
      "No height data\n",
      "No electrodes data\n",
      "No cantilever data\n",
      "No laser power data\n",
      "/home/data_transfer/data_from_windows/20210423/Bead1/InitialTest/Data14.h5\n",
      "No seismometer data\n",
      "No z_set data\n",
      "No height data\n",
      "No electrodes data\n",
      "No cantilever data\n",
      "No laser power data\n"
     ]
    }
   ],
   "source": [
    "freqs,xpsd_B1,ypsd_B1,zpsd_B1 = make_psds(fname1)\n",
    "freqs,xpsd_B2,ypsd_B2,zpsd_B2 = make_psds(fname2)\n",
    "freqs,xpsd_B3,ypsd_B3,zpsd_B3 = make_psds(fname3)"
   ]
  },
  {
   "cell_type": "code",
   "execution_count": 23,
   "metadata": {},
   "outputs": [
    {
     "data": {
      "application/vnd.jupyter.widget-view+json": {
       "model_id": "a12a20c147e948d889ae5faeca2677c6",
       "version_major": 2,
       "version_minor": 0
      },
      "text/plain": [
       "Canvas(toolbar=Toolbar(toolitems=[('Home', 'Reset original view', 'home', 'home'), ('Back', 'Back to previous …"
      ]
     },
     "metadata": {},
     "output_type": "display_data"
    }
   ],
   "source": [
    "_,ax = plt.subplots()\n",
    "ax.loglog(freqs, xpsd_B1, '.-', label=\"x\",markersize=1,linewidth=0.5)\n",
    "ax.loglog(freqs, xpsd_B2, '.-', label=\"x\",markersize=1,linewidth=0.5)\n",
    "ax.loglog(freqs, xpsd_B3, '.-', label=\"x\",markersize=1,linewidth=0.5)\n",
    "ax.set_xlabel('Frequency [Hz]')\n",
    "ax.set_ylabel('X PSD [a.u.]')\n",
    "#plt.xlim(1,2500)\n",
    "#plt.ylim(1e6,1e10)\n",
    "plt.grid(True)\n"
   ]
  },
  {
   "cell_type": "code",
   "execution_count": 24,
   "metadata": {},
   "outputs": [
    {
     "data": {
      "application/vnd.jupyter.widget-view+json": {
       "model_id": "687708845b0647ae90d71209aea3afbc",
       "version_major": 2,
       "version_minor": 0
      },
      "text/plain": [
       "Canvas(toolbar=Toolbar(toolitems=[('Home', 'Reset original view', 'home', 'home'), ('Back', 'Back to previous …"
      ]
     },
     "metadata": {},
     "output_type": "display_data"
    }
   ],
   "source": [
    "_,ax = plt.subplots()\n",
    "ax.loglog(freqs, ypsd_B1, '.-', label=\"x\",markersize=1,linewidth=0.5)\n",
    "ax.loglog(freqs, ypsd_B2, '.-', label=\"x\",markersize=1,linewidth=0.5)\n",
    "ax.loglog(freqs, ypsd_B3, '.-', label=\"x\",markersize=1,linewidth=0.5)\n",
    "ax.set_xlabel('Frequency [Hz]')\n",
    "ax.set_ylabel('Y PSD [a.u.]')\n",
    "#plt.xlim(1,2500)\n",
    "#plt.ylim(1e6,1e10)\n",
    "plt.grid(True)\n"
   ]
  },
  {
   "cell_type": "code",
   "execution_count": 25,
   "metadata": {},
   "outputs": [
    {
     "data": {
      "application/vnd.jupyter.widget-view+json": {
       "model_id": "98171f4e65a740739f9adb8d4417729e",
       "version_major": 2,
       "version_minor": 0
      },
      "text/plain": [
       "Canvas(toolbar=Toolbar(toolitems=[('Home', 'Reset original view', 'home', 'home'), ('Back', 'Back to previous …"
      ]
     },
     "metadata": {},
     "output_type": "display_data"
    }
   ],
   "source": [
    "_,ax = plt.subplots()\n",
    "ax.loglog(freqs, zpsd_B1, '.-', label=\"x\",markersize=1,linewidth=0.5)\n",
    "ax.loglog(freqs, zpsd_B2, '.-', label=\"x\",markersize=1,linewidth=0.5)\n",
    "ax.loglog(freqs, zpsd_B3, '.-', label=\"x\",markersize=1,linewidth=0.5)\n",
    "ax.set_xlabel('Frequency [Hz]')\n",
    "ax.set_ylabel('Y PSD [a.u.]')\n",
    "#plt.xlim(1,2500)\n",
    "#plt.ylim(1e6,1e10)\n",
    "plt.grid(True)\n"
   ]
  },
  {
   "cell_type": "code",
   "execution_count": null,
   "metadata": {},
   "outputs": [],
   "source": []
  }
 ],
 "metadata": {
  "kernelspec": {
   "display_name": "Python 3",
   "language": "python",
   "name": "python3"
  },
  "language_info": {
   "codemirror_mode": {
    "name": "ipython",
    "version": 3
   },
   "file_extension": ".py",
   "mimetype": "text/x-python",
   "name": "python",
   "nbconvert_exporter": "python",
   "pygments_lexer": "ipython3",
   "version": "3.6.9"
  }
 },
 "nbformat": 4,
 "nbformat_minor": 4
}
