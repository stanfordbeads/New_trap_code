{
 "cells": [
  {
   "cell_type": "code",
   "execution_count": 85,
   "metadata": {},
   "outputs": [],
   "source": [
    "##This code is for 1 Hz n s files. For 1 Hz 1s files, use 20200818 code, where fitting works"
   ]
  },
  {
   "cell_type": "code",
   "execution_count": 86,
   "metadata": {},
   "outputs": [],
   "source": [
    "# import stuff\n",
    "import numpy as np\n",
    "import matplotlib.pyplot as plt\n",
    "import matplotlib\n",
    "import scipy\n",
    "from scipy import signal\n",
    "import h5py, time\n",
    "from iminuit import Minuit, describe\n",
    "from pprint import pprint # we use this to pretty print some stuff later\n",
    "\n",
    "import sys\n",
    "sys.path.append('/home/analysis_user/New_trap_code/Tools/')\n",
    "import BeadDataFile\n",
    "from discharge_tools import load_dir"
   ]
  },
  {
   "cell_type": "code",
   "execution_count": 87,
   "metadata": {},
   "outputs": [],
   "source": [
    "# calibration of the voltage - position conversion\n",
    "def voltage_to_position(voltage,slope=0.019834000085488412,offset=-0.0015000315197539749,redo=False):\n",
    "    if(redo==True):\n",
    "        pos_list=np.asarray([-0.007,4.968,9.91])\n",
    "        y_err=np.asarray([0.01,0.01,0.01])\n",
    "        val = np.asarray([0,250,500])\n",
    "        data_x=val\n",
    "        data_y=pos_list\n",
    "        data_y_error=y_err\n",
    "        m2=Minuit(chisquare_linear, \n",
    "             a = 100,\n",
    "             b=0,\n",
    "             errordef = 1,\n",
    "             print_level=1)\n",
    "        m2.migrad()\n",
    "        print(m2.values[\"a\"],m2.values[\"b\"])\n",
    "        plt.plot(val,pos_list,marker=\"*\")\n",
    "        plt.plot(val,m2.values[\"a\"]*val+m2.values[\"b\"])\n",
    "        slope = m2.values[\"a\"]\n",
    "        offset = m2.values[\"b\"]\n",
    "    position=(voltage-offset)/slope\n",
    "    return position"
   ]
  },
  {
   "cell_type": "code",
   "execution_count": 88,
   "metadata": {},
   "outputs": [],
   "source": [
    "from scipy.optimize import curve_fit\n",
    "from scipy.stats import norm"
   ]
  },
  {
   "cell_type": "code",
   "execution_count": 89,
   "metadata": {},
   "outputs": [],
   "source": [
    "# load the data\n",
    "Year = \"2020\"\n",
    "Month = \"10\"\n",
    "Day = \"14\"\n",
    "BeadNumber = 1\n",
    "#RunNumber = 144\n",
    "#folder =  r\"/home/data_transfer/data_from_windows/\" + Year + Month + Day + \"/Bead\"+str(BeadNumber)+\"/Shaking/\"\n",
    "#folder =  r\"/home/data_transfer/data_from_windows/\" + Year + Month + Day + \"/Bead\"+str(BeadNumber)+\"/BeamProfile/\"\n",
    "folder =  r\"/home/data_transfer/data_from_windows/\" + Year + Month + Day + \"/NoBead/BeamProfile/\"\n",
    "#folder =  r\"/data/new_trap/\" + Year + Month + Day + \"/Bead1/Shaking/BeamProfile/\""
   ]
  },
  {
   "cell_type": "code",
   "execution_count": 98,
   "metadata": {},
   "outputs": [
    {
     "name": "stderr",
     "output_type": "stream",
     "text": [
      "100%|██████████| 101/101 [00:04<00:00, 27.19it/s]"
     ]
    },
    {
     "name": "stdout",
     "output_type": "stream",
     "text": [
      "101  files in folder\n",
      "101  files loaded\n"
     ]
    },
    {
     "name": "stderr",
     "output_type": "stream",
     "text": [
      "\n"
     ]
    }
   ],
   "source": [
    "Fname=\"BeamProfileX4\"\n",
    "files = load_dir(folder, file_prefix = Fname, max_file=500)"
   ]
  },
  {
   "cell_type": "code",
   "execution_count": 99,
   "metadata": {},
   "outputs": [],
   "source": [
    "def get_waist(pos,pd, flip=False):\n",
    "\n",
    "    pos1 = voltage_to_position(pos)\n",
    "    if (flip):\n",
    "        pos1 *= -1\n",
    "    data1 = np.array(pd)-np.min(pd)\n",
    "    data1 = data1/np.max(data1)    \n",
    "    #noraml CDF fit\n",
    "    temp_params = curve_fit(norm.cdf, pos1, data1, p0=[pos1[2500],5])[0]\n",
    "    \n",
    "    if (flip):\n",
    "        temp_params[0] *= -1\n",
    "    return temp_params"
   ]
  },
  {
   "cell_type": "code",
   "execution_count": 100,
   "metadata": {},
   "outputs": [
    {
     "name": "stdout",
     "output_type": "stream",
     "text": [
      "0\n",
      "10\n",
      "20\n",
      "30\n",
      "40\n",
      "50\n",
      "60\n",
      "70\n",
      "80\n",
      "90\n",
      "100\n"
     ]
    }
   ],
   "source": [
    "parX1 = []\n",
    "parX2 = []\n",
    "spin=np.zeros(5000)\n",
    "j=0\n",
    "for ff in files:\n",
    "    pos_x = ff.cant_pos[0]\n",
    "    quad_sum = ff.quad_sum\n",
    "    spintemp = ff.spin_data[0]\n",
    "    for i in range(0,5000):\n",
    "        spin[i]=np.average(spintemp[10*i:10*i+9])\n",
    "    parX1.append(get_waist(pos_x, quad_sum, flip=True))\n",
    "    parX2.append(get_waist(pos_x, spin))\n",
    "    \n",
    "    if (j%10)==0:\n",
    "        ofname = folder+\"/\" + Fname + \"_Output_%d.txt\" % j\n",
    "\n",
    "        f1 = open(ofname,\"a\")\n",
    "        for i in range(0,5000):\n",
    "            f1.write('%f %e %e\\n' % (pos_x[i], quad_sum[i], spin[i]))\n",
    "        f1.close()\n",
    "        print(j)\n",
    "    j=j+1\n",
    "    \n",
    "    \n",
    "parX1 = np.array(parX1)\n",
    "parX2 = np.array(parX2)\n",
    "ZrangeX = np.array([np.mean(ff.cant_pos[2])*10 for ff in files])"
   ]
  },
  {
   "cell_type": "code",
   "execution_count": 101,
   "metadata": {},
   "outputs": [
    {
     "name": "stdout",
     "output_type": "stream",
     "text": [
      "0\n",
      "1\n",
      "2\n",
      "3\n",
      "4\n",
      "5\n",
      "6\n",
      "7\n",
      "8\n",
      "9\n",
      "10\n",
      "11\n",
      "12\n",
      "13\n",
      "14\n",
      "15\n",
      "16\n",
      "17\n",
      "18\n",
      "19\n",
      "20\n",
      "21\n",
      "22\n",
      "23\n",
      "24\n",
      "25\n",
      "26\n",
      "27\n",
      "28\n",
      "29\n",
      "30\n",
      "31\n",
      "32\n",
      "33\n",
      "34\n",
      "35\n",
      "36\n",
      "37\n",
      "38\n",
      "39\n",
      "40\n",
      "41\n",
      "42\n",
      "43\n",
      "44\n",
      "45\n",
      "46\n",
      "47\n",
      "48\n",
      "49\n",
      "50\n",
      "51\n",
      "52\n",
      "53\n",
      "54\n",
      "55\n",
      "56\n",
      "57\n",
      "58\n",
      "59\n",
      "60\n",
      "61\n",
      "62\n",
      "63\n",
      "64\n",
      "65\n",
      "66\n",
      "67\n",
      "68\n",
      "69\n",
      "70\n",
      "71\n",
      "72\n",
      "73\n",
      "74\n",
      "75\n",
      "76\n",
      "77\n",
      "78\n",
      "79\n",
      "80\n",
      "81\n",
      "82\n",
      "83\n",
      "84\n",
      "85\n",
      "86\n",
      "87\n",
      "88\n",
      "89\n",
      "90\n",
      "91\n",
      "92\n",
      "93\n",
      "94\n",
      "95\n",
      "96\n",
      "97\n",
      "98\n",
      "99\n",
      "100\n"
     ]
    }
   ],
   "source": [
    "parX1 = []\n",
    "parX2 = []\n",
    "spin=np.zeros(5000)\n",
    "j=0\n",
    "for ff in files:\n",
    "    pos_x = ff.cant_pos[0]\n",
    "    quad_sum = ff.quad_sum\n",
    "    spintemp = ff.spin_data[0]\n",
    "    for i in range(0,5000):\n",
    "        spin[i]=np.average(spintemp[10*i:10*i+9])\n",
    "    parX1.append(get_waist(pos_x, quad_sum, flip=True))\n",
    "    parX2.append(get_waist(pos_x, spin))\n",
    "    \n",
    "#    if (j%10)==0:\n",
    "    ofname = folder+\"/\" + Fname + \"_Output100_%d.txt\" % j\n",
    "\n",
    "    f1 = open(ofname,\"a\")\n",
    "    for i in range(0,5000):\n",
    "        f1.write('%f %e %e\\n' % (pos_x[i], quad_sum[i], spin[i]))\n",
    "    f1.close()\n",
    "    print(j)\n",
    "    j=j+1\n",
    "    \n",
    "    \n",
    "parX1 = np.array(parX1)\n",
    "parX2 = np.array(parX2)\n",
    "ZrangeX = np.array([np.mean(ff.cant_pos[2])*10 for ff in files])"
   ]
  },
  {
   "cell_type": "code",
   "execution_count": 62,
   "metadata": {},
   "outputs": [],
   "source": [
    "def beamwidth_fun(t,z,w):\n",
    "    return w*np.sqrt(1+((t-z)/np.pi/w/w*1.064)**2)\n",
    "\n",
    "Zrange = np.linspace(5,95,91)\n",
    "\n",
    "def fit_waist(pars):\n",
    "    return curve_fit(beamwidth_fun, Zrange, pars[:,1],p0=[50,5])[0]"
   ]
  },
  {
   "cell_type": "code",
   "execution_count": 63,
   "metadata": {
    "scrolled": false
   },
   "outputs": [
    {
     "data": {
      "image/png": "[encoded data removed]",
      "text/plain": [
       "<Figure size 576x432 with 4 Axes>"
      ]
     },
     "metadata": {
      "needs_background": "light"
     },
     "output_type": "display_data"
    }
   ],
   "source": [
    "#draw single dataset\n",
    "_, ax = plt.subplots(2,2,figsize=(8,6))\n",
    "\n",
    "ax[0,0].scatter(ZrangeX,parX1[:,1]*2)\n",
    "#ax[0,0].plot(Zrange,beamwidth_fun(Zrange,*pfitX1),'r--')\n",
    "ax[0,0].set(title='X-profile - quad_sum', ylabel='$w_{0}$ [$\\mu$m]')\n",
    "ax[0,1].scatter(ZrangeX,parX2[:,1]*2)\n",
    "#ax[0,1].plot(Zrange,beamwidth_fun(Zrange,*pfitX2),'r--')\n",
    "ax[0,1].set(title='X-profile - spin_data')\n",
    "\n",
    "ax[1,0].scatter(ZrangeX,parX1[:,0])\n",
    "ax[1,0].set(xlabel='Z [$\\mu$m]', ylabel='$center$ [$\\mu$m]')\n",
    "ax[1,1].scatter(ZrangeX,parX2[:,0])\n",
    "ax[1,1].set(xlabel='Z [$\\mu$m]')\n",
    "ofname = folder + Fname + \"_Plot.png\" \n",
    "\n",
    "plt.savefig(ofname,dpi=300)"
   ]
  },
  {
   "cell_type": "code",
   "execution_count": 64,
   "metadata": {},
   "outputs": [
    {
     "name": "stdout",
     "output_type": "stream",
     "text": [
      "3.256670608111782\n",
      "[ 3.51686895  3.49575529  3.471065    3.44489852  3.41905993  3.36554141\n",
      "  3.37173745  3.34496552  3.32354102  3.33512456  3.29605728  3.29386548\n",
      "  3.28990424  3.27667241  3.25667061  3.27275338  3.26644813  3.26622662\n",
      "  3.28606322  3.302033    3.30039969  3.3133886   3.33253324  3.35983497\n",
      "  3.38729309  3.45075399  3.47285491  3.51305426  3.54169496  3.59947901\n",
      "  3.6590792   3.73521392  3.79502597  3.83774737  3.91166575  3.96391909\n",
      "  4.02844042  4.12077631  4.1913294   4.25830046  4.35065289  4.4243388\n",
      "  4.52075562  4.61662112  4.71272181  4.80217005  4.90874813  5.01577342\n",
      "  5.11177747  5.22391374  5.34374925  5.4560936   5.56704323  5.6582816\n",
      "  5.79455646  5.9024541   6.04208026  6.13922906  6.28916082  6.4448019\n",
      "  6.51685454  6.6503418   6.77780495  6.92779145  7.04415796  7.17380056\n",
      "  7.32620661  7.4100465   7.55933821  7.68381126  7.81693102  7.97433197\n",
      "  8.16334399  8.2293809   8.3656804   8.55024479  8.70224867  8.79068597\n",
      "  8.96371621  9.08601974  9.21695626  9.36875991  9.49929178  9.62754761\n",
      "  9.78636097  9.90765501 10.00691893 10.16724491 10.33791511 10.49748462\n",
      " 10.66437115 10.75612875 10.92887421 11.08276511 11.17793263 11.35364603\n",
      " 11.44237615 11.59571352 11.76658986 11.92908471 12.00482588]\n",
      "[374.23353339 374.26114751 374.29310611 374.31552877 374.33843106\n",
      " 374.38193558 374.41433446 374.43703957 374.46946126 374.49848331\n",
      " 374.5393933  374.5680034  374.60224932 374.63725275 374.68778314\n",
      " 374.71733083 374.75693554 374.79421387 374.8301416  374.86847405\n",
      " 374.90868074 374.95683022 375.00028157 375.02895978 375.07382261\n",
      " 375.0991982  375.13656774 375.18710951 375.22086739 375.25452083\n",
      " 375.29040836 375.32286787 375.35076631 375.39964701 375.43780676\n",
      " 375.4832728  375.52496768 375.55327838 375.60472727 375.63691631\n",
      " 375.67342328 375.70962145 375.74952848 375.78851712 375.82651434\n",
      " 375.86112946 375.90636875 375.93306264 375.97594153 376.00607722\n",
      " 376.05154061 376.07998087 376.12230828 376.15758417 376.19949776\n",
      " 376.22411631 376.25636422 376.29935041 376.34044809 376.35491215\n",
      " 376.40924444 376.4393465  376.47275007 376.50269499 376.53859524\n",
      " 376.57825623 376.59977264 376.65180138 376.68035788 376.72367257\n",
      " 376.74623552 376.79073811 376.79576775 376.85665542 376.89541762\n",
      " 376.92252158 376.93780816 376.98077224 377.00305469 377.04822857\n",
      " 377.07763617 377.10699733 377.15530991 377.18533863 377.21206344\n",
      " 377.24479166 377.29843398 377.31618398 377.34230111 377.369864\n",
      " 377.3894498  377.43945373 377.46842108 377.48524873 377.54433468\n",
      " 377.54170419 377.60346029 377.63176064 377.65748172 377.6840056\n",
      " 377.70991784]\n"
     ]
    }
   ],
   "source": [
    "print(np.min(parX2[:,1])*2)\n",
    "print(parX2[:,1]*2)\n",
    "print(parX2[:,0])"
   ]
  },
  {
   "cell_type": "code",
   "execution_count": 31,
   "metadata": {},
   "outputs": [
    {
     "data": {
      "text/plain": [
       "3.1322796226480705"
      ]
     },
     "execution_count": 31,
     "metadata": {},
     "output_type": "execute_result"
    }
   ],
   "source": [
    "parX2[90,0]-parX2[0,0]"
   ]
  },
  {
   "cell_type": "code",
   "execution_count": 32,
   "metadata": {},
   "outputs": [
    {
     "data": {
      "text/plain": [
       "328.0802731039483"
      ]
     },
     "execution_count": 32,
     "metadata": {},
     "output_type": "execute_result"
    }
   ],
   "source": [
    "np.average(parX2[:,0])"
   ]
  },
  {
   "cell_type": "code",
   "execution_count": 111,
   "metadata": {},
   "outputs": [],
   "source": [
    "## plot y direction"
   ]
  },
  {
   "cell_type": "code",
   "execution_count": 92,
   "metadata": {},
   "outputs": [
    {
     "name": "stderr",
     "output_type": "stream",
     "text": [
      "100%|██████████| 101/101 [00:02<00:00, 40.94it/s]"
     ]
    },
    {
     "name": "stdout",
     "output_type": "stream",
     "text": [
      "101  files in folder\n",
      "101  files loaded\n"
     ]
    },
    {
     "name": "stderr",
     "output_type": "stream",
     "text": [
      "\n"
     ]
    }
   ],
   "source": [
    "Fname=\"BeamProfileY2\"\n",
    "files = load_dir(folder, file_prefix = Fname, max_file=500)"
   ]
  },
  {
   "cell_type": "code",
   "execution_count": 66,
   "metadata": {},
   "outputs": [
    {
     "name": "stdout",
     "output_type": "stream",
     "text": [
      "0\n",
      "10\n",
      "20\n",
      "30\n",
      "40\n",
      "50\n",
      "60\n",
      "70\n",
      "80\n",
      "90\n",
      "100\n"
     ]
    }
   ],
   "source": [
    "parY1 = []\n",
    "parY2 = []\n",
    "spin=np.zeros(5000)\n",
    "j=0\n",
    "for ff in files:\n",
    "    pos_y = ff.cant_pos[1]\n",
    "    quad_sum = ff.quad_sum\n",
    "    spintemp = ff.spin_data[0]\n",
    "    for i in range(0,5000):\n",
    "        spin[i]=np.average(spintemp[10*i:10*i+9])\n",
    "    parY1.append(get_waist(pos_y, quad_sum))\n",
    "    parY2.append(get_waist(pos_y, spin, flip=True))\n",
    "    \n",
    "    if (j%10)==0:\n",
    "        ofname = folder+\"/\" + Fname + \"_Output_%d.txt\" % j\n",
    "\n",
    "        f1 = open(ofname,\"a\")\n",
    "        for i in range(0,5000):\n",
    "            f1.write('%f %e %e\\n' % (pos_y[i], quad_sum[i], spin[i]))\n",
    "        f1.close()\n",
    "        print(j)\n",
    "    j=j+1\n",
    "    \n",
    "parY1 = np.array(parY1)\n",
    "parY2 = np.array(parY2)\n",
    "ZrangeY = np.array([np.mean(ff.cant_pos[2])*10 for ff in files])"
   ]
  },
  {
   "cell_type": "code",
   "execution_count": 93,
   "metadata": {},
   "outputs": [
    {
     "name": "stdout",
     "output_type": "stream",
     "text": [
      "0\n",
      "1\n",
      "2\n",
      "3\n",
      "4\n",
      "5\n",
      "6\n",
      "7\n",
      "8\n",
      "9\n",
      "10\n",
      "11\n",
      "12\n",
      "13\n",
      "14\n",
      "15\n",
      "16\n",
      "17\n",
      "18\n",
      "19\n",
      "20\n",
      "21\n",
      "22\n",
      "23\n",
      "24\n",
      "25\n",
      "26\n",
      "27\n",
      "28\n",
      "29\n",
      "30\n",
      "31\n",
      "32\n",
      "33\n",
      "34\n",
      "35\n",
      "36\n",
      "37\n",
      "38\n",
      "39\n",
      "40\n",
      "41\n",
      "42\n",
      "43\n",
      "44\n",
      "45\n",
      "46\n",
      "47\n",
      "48\n",
      "49\n",
      "50\n",
      "51\n",
      "52\n",
      "53\n",
      "54\n",
      "55\n",
      "56\n",
      "57\n",
      "58\n",
      "59\n",
      "60\n",
      "61\n",
      "62\n",
      "63\n",
      "64\n",
      "65\n",
      "66\n",
      "67\n",
      "68\n",
      "69\n",
      "70\n",
      "71\n",
      "72\n",
      "73\n",
      "74\n",
      "75\n",
      "76\n",
      "77\n",
      "78\n",
      "79\n",
      "80\n",
      "81\n",
      "82\n",
      "83\n",
      "84\n",
      "85\n",
      "86\n",
      "87\n",
      "88\n",
      "89\n",
      "90\n",
      "91\n",
      "92\n",
      "93\n",
      "94\n",
      "95\n",
      "96\n",
      "97\n",
      "98\n",
      "99\n",
      "100\n"
     ]
    }
   ],
   "source": [
    "parY1 = []\n",
    "parY2 = []\n",
    "spin=np.zeros(5000)\n",
    "j=0\n",
    "for ff in files:\n",
    "    pos_y = ff.cant_pos[1]\n",
    "    quad_sum = ff.quad_sum\n",
    "    spintemp = ff.spin_data[0]\n",
    "    for i in range(0,5000):\n",
    "        spin[i]=np.average(spintemp[10*i:10*i+9])\n",
    "    parY1.append(get_waist(pos_y, quad_sum))\n",
    "    parY2.append(get_waist(pos_y, spin, flip=True))\n",
    "    \n",
    "#    if (j%10)==0:\n",
    "    ofname = folder+\"/\" + Fname + \"_Output100_%d.txt\" % j\n",
    "\n",
    "    f1 = open(ofname,\"a\")\n",
    "    for i in range(0,5000):\n",
    "        f1.write('%f %e %e\\n' % (pos_y[i], quad_sum[i], spin[i]))\n",
    "    f1.close()\n",
    "    print(j)\n",
    "    j=j+1\n",
    "    \n",
    "parY1 = np.array(parY1)\n",
    "parY2 = np.array(parY2)\n",
    "ZrangeY = np.array([np.mean(ff.cant_pos[2])*10 for ff in files])"
   ]
  },
  {
   "cell_type": "code",
   "execution_count": 67,
   "metadata": {},
   "outputs": [
    {
     "data": {
      "image/png": "[encoded data removed]",
      "text/plain": [
       "<Figure size 576x432 with 4 Axes>"
      ]
     },
     "metadata": {
      "needs_background": "light"
     },
     "output_type": "display_data"
    }
   ],
   "source": [
    "#draw single dataset\n",
    "_, ax = plt.subplots(2,2,figsize=(8,6))\n",
    "\n",
    "ax[0,0].scatter(ZrangeY,parY1[:,1]*2)\n",
    "#ax[0,0].plot(Zrange,beamwidth_fun(Zrange,*pfitX1),'r--')\n",
    "ax[0,0].set(title='Y-profile - quad_sum', ylabel='$w_{0}$ [$\\mu$m]')\n",
    "ax[0,1].scatter(ZrangeY,parY2[:,1]*2)\n",
    "#ax[0,1].plot(Zrange,beamwidth_fun(Zrange,*pfitX2),'r--')\n",
    "ax[0,1].set(title='Y-profile - spin_data')\n",
    "\n",
    "ax[1,0].scatter(ZrangeY,parY1[:,0])\n",
    "ax[1,0].set(xlabel='Z [$\\mu$m]', ylabel='$center$ [$\\mu$m]')\n",
    "ax[1,1].scatter(ZrangeY,parY2[:,0])\n",
    "ax[1,1].set(xlabel='Z [$\\mu$m]')\n",
    "ofname = folder + Fname + \"_Plot.png\" \n",
    "plt.savefig(ofname,dpi=300)"
   ]
  },
  {
   "cell_type": "code",
   "execution_count": 68,
   "metadata": {},
   "outputs": [
    {
     "name": "stdout",
     "output_type": "stream",
     "text": [
      "3.684207024254775\n",
      "[ 4.01449071  3.9654338   3.94916656  3.9032632   3.85243545  3.80351117\n",
      "  3.79000126  3.76495367  3.75877558  3.73233376  3.72314028  3.69786312\n",
      "  3.69276066  3.68787777  3.68606142  3.70179519  3.68420702  3.70485046\n",
      "  3.72448741  3.7466035   3.77240177  3.79375829  3.83586359  3.87237311\n",
      "  3.90181755  3.95199513  4.00436891  4.02950365  4.11551133  4.14426617\n",
      "  4.20510069  4.26337357  4.33561781  4.40198592  4.48177746  4.53380201\n",
      "  4.623517    4.70596075  4.78109993  4.87714801  4.95076477  5.0267202\n",
      "  5.11295808  5.2067177   5.29780798  5.39260448  5.4922612   5.55120938\n",
      "  5.64922601  5.75918035  5.84525591  5.94043353  6.04720827  6.12773697\n",
      "  6.2197872   6.29775421  6.41460367  6.52507433  6.59138916  6.70685861\n",
      "  6.80546411  6.90530183  7.00179028  7.11536312  7.18919053  7.29507825\n",
      "  7.40271177  7.50680822  7.62609676  7.70766041  7.80575463  7.89595936\n",
      "  8.01197862  8.13649609  8.26783816  8.35557765  8.62956954  8.66540729\n",
      "  8.82523002  8.76898929  8.8673345   8.98564392  9.10692002  9.23114675\n",
      "  9.34444394  9.4858158   9.54279935  9.62123984  9.73730494  9.84581036\n",
      "  9.93818046 10.09826845 10.19230872 10.31749742 10.46092596 10.48756701\n",
      " 10.61045208 10.72874041 10.82841499 10.92145804 11.06263177]\n",
      "[423.6252683  423.60733558 423.60207109 423.59405354 423.57345896\n",
      " 423.56012138 423.54869418 423.52934749 423.51824615 423.49870529\n",
      " 423.48672728 423.46873668 423.45216731 423.43523625 423.421958\n",
      " 423.40771293 423.39683039 423.38549083 423.37297539 423.35383365\n",
      " 423.34609113 423.32684382 423.31663464 423.3013642  423.28733845\n",
      " 423.27234961 423.26500003 423.25052914 423.24441132 423.23159878\n",
      " 423.21567768 423.20572784 423.19772526 423.18435901 423.18271848\n",
      " 423.17291893 423.15901287 423.14808996 423.13228538 423.12946448\n",
      " 423.11378468 423.1097875  423.1053282  423.09373748 423.07985008\n",
      " 423.07676262 423.0688561  423.06011298 423.05200872 423.05342828\n",
      " 423.03470664 423.03167705 423.0249081  423.01087997 423.00272301\n",
      " 422.9947458  423.00532723 422.98306441 422.97656217 422.96485547\n",
      " 422.95444538 422.94755284 422.94258986 422.94079142 422.92280984\n",
      " 422.91466878 422.90985726 422.88137644 422.8838922  422.87546942\n",
      " 422.86622778 422.84988491 422.85395376 422.84275575 422.85006199\n",
      " 422.83298487 422.87796502 422.83890033 422.86476871 422.77892265\n",
      " 422.7691339  422.75514837 422.7597595  422.74945068 422.73164847\n",
      " 422.73250132 422.70654378 422.68646415 422.69699142 422.67616652\n",
      " 422.65280886 422.64788639 422.64256932 422.63565816 422.64729257\n",
      " 422.59998521 422.60348947 422.58955451 422.57468754 422.56334193\n",
      " 422.56000625]\n"
     ]
    }
   ],
   "source": [
    "print(np.min(parY2[:,1])*2)\n",
    "print(parY2[:,1]*2)\n",
    "print(parY2[:,0])"
   ]
  },
  {
   "cell_type": "code",
   "execution_count": 48,
   "metadata": {},
   "outputs": [],
   "source": [
    "def beamwidth_fun(t,z,w):\n",
    "    return w*np.sqrt(1+((t-z)/np.pi/w/w*1.064)**2)\n",
    "\n",
    "Zrange = np.linspace(5,95,91)\n",
    "\n",
    "def fit_waist(pars):\n",
    "    return curve_fit(beamwidth_fun, Zrange, pars[:,1],p0=[50,5])[0]"
   ]
  },
  {
   "cell_type": "code",
   "execution_count": 24,
   "metadata": {},
   "outputs": [
    {
     "data": {
      "text/plain": [
       "-1.4028983047234647"
      ]
     },
     "execution_count": 24,
     "metadata": {},
     "output_type": "execute_result"
    }
   ],
   "source": [
    "parY2[90,0]-parY2[0,0]"
   ]
  },
  {
   "cell_type": "code",
   "execution_count": 18,
   "metadata": {},
   "outputs": [
    {
     "data": {
      "image/png": "[encoded data removed]",
      "text/plain": [
       "<Figure size 432x288 with 1 Axes>"
      ]
     },
     "metadata": {
      "needs_background": "light"
     },
     "output_type": "display_data"
    }
   ],
   "source": [
    "# plot the in-phase response\n",
    "plt.plot(pos_x,linestyle=\"\",marker=\"o\")\n",
    "#plt.ylim(-10,1)\n",
    "#plt.xlim(180,270)\n",
    "plt.grid(True)\n",
    "plt.show()"
   ]
  },
  {
   "cell_type": "code",
   "execution_count": null,
   "metadata": {},
   "outputs": [],
   "source": []
  }
 ],
 "metadata": {
  "kernelspec": {
   "display_name": "Python 3",
   "language": "python",
   "name": "python3"
  },
  "language_info": {
   "codemirror_mode": {
    "name": "ipython",
    "version": 3
   },
   "file_extension": ".py",
   "mimetype": "text/x-python",
   "name": "python",
   "nbconvert_exporter": "python",
   "pygments_lexer": "ipython3",
   "version": "3.6.9"
  },
  "widgets": {
   "application/vnd.jupyter.widget-state+json": {
    "state": {},
    "version_major": 2,
    "version_minor": 0
   }
  }
 },
 "nbformat": 4,
 "nbformat_minor": 4
}
