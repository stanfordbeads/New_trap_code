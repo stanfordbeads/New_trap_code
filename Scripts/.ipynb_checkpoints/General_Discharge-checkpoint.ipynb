{
 "cells": [
  {
   "cell_type": "code",
   "execution_count": 140,
   "metadata": {},
   "outputs": [],
   "source": [
    "import numpy as np\n",
    "import matplotlib.pyplot as plt\n",
    "import matplotlib\n",
    "from matplotlib import mlab\n",
    "from scipy import signal\n",
    "import h5py, time\n",
    "import sys\n",
    "import glob\n",
    "sys.path.append('/home/analysis_user/New_trap_code/Tools/')\n",
    "import BeadDataFile\n",
    "from discharge_tools import *\n",
    "from iminuit import Minuit, describe\n",
    "from pprint import pprint # we use this to pretty print some stuff later\n",
    "from tqdm import tqdm\n",
    "\n",
    "plt.rcParams[\"figure.figsize\"] = (12,9)\n",
    "plt.rcParams[\"font.size\"] = 24\n",
    "plt.rcParams['xtick.labelsize'] = \"small\"\n",
    "plt.rcParams['ytick.labelsize'] = 36"
   ]
  },
  {
   "cell_type": "code",
   "execution_count": 128,
   "metadata": {},
   "outputs": [
    {
     "name": "stdout",
     "output_type": "stream",
     "text": [
      "290  files in folder\n",
      "290  files loaded\n"
     ]
    },
    {
     "name": "stderr",
     "output_type": "stream",
     "text": [
      "/home/analysis_user/.local/lib/python3.6/site-packages/scipy/signal/_arraytools.py:45: FutureWarning: Using a non-tuple sequence for multidimensional indexing is deprecated; use `arr[tuple(seq)]` instead of `arr[seq]`. In the future this will be interpreted as an array index, `arr[np.array(seq)]`, which will result either in an error or a different result.\n",
      "  b = a[a_slice]\n"
     ]
    },
    {
     "name": "stdout",
     "output_type": "stream",
     "text": [
      "290  files in folder\n",
      "290  files loaded\n",
      "290  files in folder\n",
      "290  files loaded\n"
     ]
    }
   ],
   "source": [
    "foldername = r'/data/new_trap/20200320/Bead1/Discharge/'\n",
    "\n",
    "resp_z = discharge_response(foldername=foldername,str_axis='z',drive_freq=71)\n",
    "resp_x = discharge_response(foldername=foldername,str_axis='x',drive_freq=71)\n",
    "resp_y = discharge_response(foldername=foldername,str_axis='y',drive_freq=71)"
   ]
  },
  {
   "cell_type": "code",
   "execution_count": null,
   "metadata": {},
   "outputs": [],
   "source": [
    "responses = [resp_z[29:-1]/np.mean(resp_z[374:379]),resp_y[29:-1]/np.mean(resp_y[379:384]),resp_x[29:-1]/np.mean(resp_x[369:374])]"
   ]
  },
  {
   "cell_type": "code",
   "execution_count": null,
   "metadata": {},
   "outputs": [],
   "source": [
    "reshape_responses = np.reshape(responses, (3, 389)).T"
   ]
  },
  {
   "cell_type": "code",
   "execution_count": 90,
   "metadata": {},
   "outputs": [
    {
     "ename": "NameError",
     "evalue": "name 'reshape_responses' is not defined",
     "output_type": "error",
     "traceback": [
      "\u001b[0;31m---------------------------------------------------------------------------\u001b[0m",
      "\u001b[0;31mNameError\u001b[0m                                 Traceback (most recent call last)",
      "\u001b[0;32m<ipython-input-90-a8e66dcf0a3b>\u001b[0m in \u001b[0;36m<module>\u001b[0;34m()\u001b[0m\n\u001b[1;32m      2\u001b[0m \u001b[0mplot_driven_response_x\u001b[0m\u001b[0;34m,\u001b[0m \u001b[0mplot_driven_response_y\u001b[0m\u001b[0;34m,\u001b[0m \u001b[0mplot_driven_response_z\u001b[0m\u001b[0;34m=\u001b[0m\u001b[0;34m(\u001b[0m\u001b[0;34m[\u001b[0m\u001b[0;34m]\u001b[0m \u001b[0;32mfor\u001b[0m \u001b[0mi\u001b[0m \u001b[0;32min\u001b[0m \u001b[0mrange\u001b[0m\u001b[0;34m(\u001b[0m\u001b[0;36m3\u001b[0m\u001b[0;34m)\u001b[0m\u001b[0;34m)\u001b[0m\u001b[0;34m\u001b[0m\u001b[0;34m\u001b[0m\u001b[0m\n\u001b[1;32m      3\u001b[0m \u001b[0mx_list\u001b[0m\u001b[0;34m,\u001b[0m \u001b[0my_list\u001b[0m\u001b[0;34m,\u001b[0m \u001b[0mz_list\u001b[0m \u001b[0;34m=\u001b[0m \u001b[0;34m(\u001b[0m\u001b[0;34m[\u001b[0m\u001b[0;34m]\u001b[0m \u001b[0;32mfor\u001b[0m \u001b[0mi\u001b[0m \u001b[0;32min\u001b[0m \u001b[0mrange\u001b[0m\u001b[0;34m(\u001b[0m\u001b[0;36m3\u001b[0m\u001b[0;34m)\u001b[0m\u001b[0;34m)\u001b[0m\u001b[0;34m\u001b[0m\u001b[0;34m\u001b[0m\u001b[0m\n\u001b[0;32m----> 4\u001b[0;31m \u001b[0;32mfor\u001b[0m \u001b[0mj\u001b[0m \u001b[0;32min\u001b[0m \u001b[0mrange\u001b[0m\u001b[0;34m(\u001b[0m\u001b[0mlen\u001b[0m\u001b[0;34m(\u001b[0m\u001b[0mreshape_responses\u001b[0m\u001b[0;34m)\u001b[0m\u001b[0;34m)\u001b[0m\u001b[0;34m:\u001b[0m\u001b[0;34m\u001b[0m\u001b[0;34m\u001b[0m\u001b[0m\n\u001b[0m\u001b[1;32m      5\u001b[0m     \u001b[0mdischarge_axis_list\u001b[0m\u001b[0;34m.\u001b[0m\u001b[0mappend\u001b[0m\u001b[0;34m(\u001b[0m\u001b[0mnp\u001b[0m\u001b[0;34m.\u001b[0m\u001b[0margmax\u001b[0m\u001b[0;34m(\u001b[0m\u001b[0mreshape_responses\u001b[0m\u001b[0;34m[\u001b[0m\u001b[0mj\u001b[0m\u001b[0;34m]\u001b[0m\u001b[0;34m)\u001b[0m\u001b[0;34m)\u001b[0m\u001b[0;34m\u001b[0m\u001b[0;34m\u001b[0m\u001b[0m\n\u001b[1;32m      6\u001b[0m     \u001b[0;32mif\u001b[0m\u001b[0;34m(\u001b[0m\u001b[0mnp\u001b[0m\u001b[0;34m.\u001b[0m\u001b[0margmax\u001b[0m\u001b[0;34m(\u001b[0m\u001b[0mreshape_responses\u001b[0m\u001b[0;34m[\u001b[0m\u001b[0mj\u001b[0m\u001b[0;34m]\u001b[0m\u001b[0;34m)\u001b[0m\u001b[0;34m==\u001b[0m\u001b[0;36m2\u001b[0m\u001b[0;34m)\u001b[0m\u001b[0;34m:\u001b[0m\u001b[0;34m\u001b[0m\u001b[0;34m\u001b[0m\u001b[0m\n",
      "\u001b[0;31mNameError\u001b[0m: name 'reshape_responses' is not defined"
     ]
    }
   ],
   "source": [
    "discharge_axis_list = []\n",
    "plot_driven_response_x, plot_driven_response_y, plot_driven_response_z=([] for i in range(3))\n",
    "x_list, y_list, z_list = ([] for i in range(3))\n",
    "for j in range(len(reshape_responses)):\n",
    "    discharge_axis_list.append(np.argmax(reshape_responses[j]))\n",
    "    if(np.argmax(reshape_responses[j])==2):\n",
    "        x_list.append(j)\n",
    "        plot_driven_response_x.append(reshape_responses[j][discharge_axis_list[j]])\n",
    "    if(np.argmax(reshape_responses[j])==1):\n",
    "        y_list.append(j)\n",
    "        plot_driven_response_y.append(reshape_responses[j][discharge_axis_list[j]])\n",
    "    if(np.argmax(reshape_responses[j])==0):\n",
    "        z_list.append(j)\n",
    "        plot_driven_response_z.append(reshape_responses[j][discharge_axis_list[j]])\n"
   ]
  },
  {
   "cell_type": "code",
   "execution_count": 129,
   "metadata": {},
   "outputs": [],
   "source": [
    "bin_cont_z, bin_cont_x, bin_cont_y = [ [] for x in range(3)]\n",
    "bin_unc_z, bin_unc_x, bin_unc_y = [ [] for x in range(3)]\n",
    "for i in np.arange(0,len(resp_z),5):\n",
    "    bin_cont_z.append(np.mean(resp_z[i:i+5]))\n",
    "    bin_unc_z.append(np.std(resp_z[i:i+5]))\n",
    "    bin_cont_x.append(np.mean(resp_x[i:i+5]))\n",
    "    bin_unc_x.append(np.std(resp_x[i:i+5]))\n",
    "    bin_cont_y.append(np.mean(resp_y[i:i+5]))\n",
    "    bin_unc_y.append(np.std(resp_y[i:i+5]))\n",
    "    "
   ]
  },
  {
   "cell_type": "code",
   "execution_count": 138,
   "metadata": {},
   "outputs": [
    {
     "data": {
      "text/plain": [
       "<ErrorbarContainer object of 3 artists>"
      ]
     },
     "execution_count": 138,
     "metadata": {},
     "output_type": "execute_result"
    },
    {
     "data": {
      "image/png": "[encoded data removed]",
      "text/plain": [
       "<Figure size 864x648 with 1 Axes>"
      ]
     },
     "metadata": {},
     "output_type": "display_data"
    }
   ],
   "source": [
    "x = np.arange(1,(len(bin_cont_z)+1),1)\n",
    "#plt.errorbar(x,np.divide(bin_cont_z,bin_cont_z[-3]),np.divide(bin_unc_z,bin_cont_z[-3]),linestyle=\"\",marker=\"*\")\n",
    "plt.errorbar(x,bin_cont_z,bin_unc_z,linestyle=\"\",marker=\"*\")\n",
    "#plt.errorbar(x,bin_cont_x,bin_unc_x,linestyle=\"\",marker=\"*\")\n",
    "#plt.errorbar(x,bin_cont_y,bin_unc_y,linestyle=\"\",marker=\"*\")\n",
    "\n",
    "#for i in np.arange(0,20,1):\n",
    "#    plt.axhline(i,alpha=0.5, linestyle=\"dashed\")\n",
    "#plt.ylim(0,20)\n",
    "#plt.xlim(0,8)\n",
    "#plt.grid(\"True\")"
   ]
  },
  {
   "cell_type": "code",
   "execution_count": 87,
   "metadata": {},
   "outputs": [],
   "source": [
    "diff_list = []\n",
    "for i in np.arange(0,len(bin_cont_z)-1,1):\n",
    "    diff_list.append(bin_cont_z[i+1]-bin_cont_z[i])"
   ]
  },
  {
   "cell_type": "code",
   "execution_count": 105,
   "metadata": {},
   "outputs": [
    {
     "data": {
      "text/plain": [
       "(-100, 100)"
      ]
     },
     "execution_count": 105,
     "metadata": {},
     "output_type": "execute_result"
    },
    {
     "data": {
      "image/png": "[encoded data removed]",
      "text/plain": [
       "<Figure size 864x648 with 1 Axes>"
      ]
     },
     "metadata": {},
     "output_type": "display_data"
    }
   ],
   "source": [
    "plt.plot(diff_list, linestyle=\"\",marker=\"*\")\n",
    "plt.ylim(-100,100)\n",
    "#plt.xlim(100,55)"
   ]
  },
  {
   "cell_type": "code",
   "execution_count": 141,
   "metadata": {},
   "outputs": [
    {
     "ename": "TypeError",
     "evalue": "discharge_response() got an unexpected keyword argument 'max_file'",
     "output_type": "error",
     "traceback": [
      "\u001b[0;31m---------------------------------------------------------------------------\u001b[0m",
      "\u001b[0;31mTypeError\u001b[0m                                 Traceback (most recent call last)",
      "\u001b[0;32m<ipython-input-141-7ac78ddceef9>\u001b[0m in \u001b[0;36m<module>\u001b[0;34m()\u001b[0m\n\u001b[1;32m      1\u001b[0m \u001b[0mfoldername\u001b[0m \u001b[0;34m=\u001b[0m \u001b[0;34mr'/data/new_trap/20200316/Bead1/Discharge/'\u001b[0m\u001b[0;34m\u001b[0m\u001b[0;34m\u001b[0m\u001b[0m\n\u001b[1;32m      2\u001b[0m \u001b[0;34m\u001b[0m\u001b[0m\n\u001b[0;32m----> 3\u001b[0;31m \u001b[0mresp_z2\u001b[0m \u001b[0;34m=\u001b[0m \u001b[0mdischarge_response\u001b[0m\u001b[0;34m(\u001b[0m\u001b[0mfoldername\u001b[0m\u001b[0;34m=\u001b[0m\u001b[0mfoldername\u001b[0m\u001b[0;34m,\u001b[0m\u001b[0mstr_axis\u001b[0m\u001b[0;34m=\u001b[0m\u001b[0;34m'z'\u001b[0m\u001b[0;34m,\u001b[0m\u001b[0mdrive_freq\u001b[0m\u001b[0;34m=\u001b[0m\u001b[0;36m71\u001b[0m\u001b[0;34m,\u001b[0m\u001b[0mmax_file\u001b[0m\u001b[0;34m=\u001b[0m\u001b[0;36m1000\u001b[0m\u001b[0;34m)\u001b[0m\u001b[0;34m\u001b[0m\u001b[0;34m\u001b[0m\u001b[0m\n\u001b[0m\u001b[1;32m      4\u001b[0m \u001b[0mresp_x2\u001b[0m \u001b[0;34m=\u001b[0m \u001b[0mdischarge_response\u001b[0m\u001b[0;34m(\u001b[0m\u001b[0mfoldername\u001b[0m\u001b[0;34m=\u001b[0m\u001b[0mfoldername\u001b[0m\u001b[0;34m,\u001b[0m\u001b[0mstr_axis\u001b[0m\u001b[0;34m=\u001b[0m\u001b[0;34m'x'\u001b[0m\u001b[0;34m,\u001b[0m\u001b[0mdrive_freq\u001b[0m\u001b[0;34m=\u001b[0m\u001b[0;36m71\u001b[0m\u001b[0;34m)\u001b[0m\u001b[0;34m\u001b[0m\u001b[0;34m\u001b[0m\u001b[0m\n\u001b[1;32m      5\u001b[0m \u001b[0mresp_y2\u001b[0m \u001b[0;34m=\u001b[0m \u001b[0mdischarge_response\u001b[0m\u001b[0;34m(\u001b[0m\u001b[0mfoldername\u001b[0m\u001b[0;34m=\u001b[0m\u001b[0mfoldername\u001b[0m\u001b[0;34m,\u001b[0m\u001b[0mstr_axis\u001b[0m\u001b[0;34m=\u001b[0m\u001b[0;34m'y'\u001b[0m\u001b[0;34m,\u001b[0m\u001b[0mdrive_freq\u001b[0m\u001b[0;34m=\u001b[0m\u001b[0;36m71\u001b[0m\u001b[0;34m)\u001b[0m\u001b[0;34m\u001b[0m\u001b[0;34m\u001b[0m\u001b[0m\n",
      "\u001b[0;31mTypeError\u001b[0m: discharge_response() got an unexpected keyword argument 'max_file'"
     ]
    }
   ],
   "source": [
    "foldername = r'/data/new_trap/20200316/Bead1/Discharge/'\n",
    "\n",
    "resp_z2 = discharge_response(foldername=foldername,str_axis='z',drive_freq=71,max_file=1000)\n",
    "resp_x2 = discharge_response(foldername=foldername,str_axis='x',drive_freq=71,max_file=1000)\n",
    "resp_y2 = discharge_response(foldername=foldername,str_axis='y',drive_freq=71,max_file=1000)"
   ]
  },
  {
   "cell_type": "code",
   "execution_count": null,
   "metadata": {},
   "outputs": [],
   "source": []
  }
 ],
 "metadata": {
  "kernelspec": {
   "display_name": "Python 3",
   "language": "python",
   "name": "python3"
  },
  "language_info": {
   "codemirror_mode": {
    "name": "ipython",
    "version": 3
   },
   "file_extension": ".py",
   "mimetype": "text/x-python",
   "name": "python",
   "nbconvert_exporter": "python",
   "pygments_lexer": "ipython3",
   "version": "3.6.9"
  }
 },
 "nbformat": 4,
 "nbformat_minor": 2
}
