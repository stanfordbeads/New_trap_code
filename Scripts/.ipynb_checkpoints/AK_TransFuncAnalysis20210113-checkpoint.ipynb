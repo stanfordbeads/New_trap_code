{
 "cells": [
  {
   "cell_type": "code",
   "execution_count": 1,
   "metadata": {},
   "outputs": [],
   "source": [
    "import numpy as np\n",
    "import matplotlib.pyplot as plt\n",
    "import matplotlib\n",
    "from matplotlib import mlab\n",
    "\n",
    "from scipy import signal\n",
    "import h5py, time\n"
   ]
  },
  {
   "cell_type": "code",
   "execution_count": 2,
   "metadata": {},
   "outputs": [],
   "source": [
    "%matplotlib widget"
   ]
  },
  {
   "cell_type": "code",
   "execution_count": 3,
   "metadata": {},
   "outputs": [],
   "source": [
    "import sys\n",
    "sys.path.append('/home/analysis_user/New_trap_code/Tools/')\n",
    "import BeadDataFile"
   ]
  },
  {
   "cell_type": "code",
   "execution_count": 4,
   "metadata": {},
   "outputs": [],
   "source": [
    "##Force Calibration with single freq, with xyz2"
   ]
  },
  {
   "cell_type": "code",
   "execution_count": 5,
   "metadata": {},
   "outputs": [],
   "source": [
    "Year = \"2021\"\n",
    "Month = \"01\"\n",
    "Day = \"13\"\n",
    "BeadNumber =1\n",
    "folder = r\"/data/new_trap/\"+ Year + Month + Day\n",
    "#folder = r\"/home/analysis_user/data_from_windows/\"+ Year + Month + Day"
   ]
  },
  {
   "cell_type": "code",
   "execution_count": 6,
   "metadata": {},
   "outputs": [],
   "source": [
    "##code for Transfer Function- 7Hz\n",
    "#following is the code to generate transfer function with FFT"
   ]
  },
  {
   "cell_type": "code",
   "execution_count": 257,
   "metadata": {},
   "outputs": [],
   "source": [
    "##X preparation\n",
    "Ndata=21\n",
    "tInt=10\n",
    "fsamp=5000\n",
    "res=tInt*fsamp\n",
    "fBase=1\n",
    "Zset=-1\n"
   ]
  },
  {
   "cell_type": "code",
   "execution_count": 258,
   "metadata": {},
   "outputs": [],
   "source": [
    "##Z preparataion\n",
    "fname = folder+\"/Bead\"+str(BeadNumber)+\"/TransFunc\"+\"/TransFunc_%d_Z_z%de5_%ds_%dHz.h5\" %(Ndata,Zset,tInt,fBase)\n",
    "BDF = BeadDataFile.BeadDataFile(fname)\n",
    "data = BDF.xyz2 \n",
    "data_det=signal.detrend(data)\n",
    "x_1000=data_det[0]\n",
    "y_1000=data_det[1]\n",
    "z_1000=data_det[2]\n",
    "freqs=np.linspace(0,2500,(25000)+1)\n",
    "    \n",
    "xFFT=np.fft.rfft(x_1000)\n",
    "yFFT=np.fft.rfft(y_1000)\n",
    "zFFT=np.fft.rfft(z_1000)\n",
    "norm = np.sqrt(2 / (res* fsamp))\n",
    "xpsd = norm**2 * (xFFT * xFFT.conj()).real\n",
    "ypsd = norm**2 * (yFFT * yFFT.conj()).real\n",
    "zpsd = norm**2 * (zFFT * zFFT.conj()).real\n",
    "ZphaseX=np.angle(xFFT)\n",
    "ZphaseY=np.angle(yFFT)\n",
    "ZphaseZ=np.angle(zFFT)\n",
    "\n",
    "ZnoiseX=np.sqrt(xpsd)\n",
    "ZnoiseY=np.sqrt(ypsd)\n",
    "ZnoiseZ=np.sqrt(zpsd)\n",
    "\n"
   ]
  },
  {
   "cell_type": "code",
   "execution_count": 259,
   "metadata": {},
   "outputs": [],
   "source": [
    "xPha=np.zeros(100)\n",
    "yPha=np.zeros(100)\n",
    "zPha=np.zeros(100)\n",
    "xAmp=np.zeros(100)\n",
    "yAmp=np.zeros(100)\n",
    "zAmp=np.zeros(100)\n"
   ]
  },
  {
   "cell_type": "code",
   "execution_count": 260,
   "metadata": {},
   "outputs": [],
   "source": [
    "for i in range(0,100):\n",
    "    zPha[i]=ZphaseZ[(i+1)*tInt*fBase]-(i*i/100-round(i*i/100))*2*3.14159265+np.pi*.5\n",
    "    zAmp[i]=ZnoiseZ[(i+1)*tInt*fBase]\n",
    "       \n",
    "for i in range(0,99):  \n",
    "    if((zPha[i+1]-zPha[i])>4):\n",
    "        zPha[i+1]-=2*np.pi\n",
    "    elif((zPha[i+1]-zPha[i])<-4):\n",
    "        zPha[i+1]+=2*np.pi\n",
    "for i in range(0,99):  \n",
    "    if((zPha[i+1]-zPha[i])>4):\n",
    "        zPha[i+1]-=2*np.pi\n",
    "    elif((zPha[i+1]-zPha[i])<-4):\n",
    "        zPha[i+1]+=2*np.pi"
   ]
  },
  {
   "cell_type": "code",
   "execution_count": 261,
   "metadata": {
    "scrolled": true
   },
   "outputs": [
    {
     "data": {
      "application/vnd.jupyter.widget-view+json": {
       "model_id": "6d11e5ba5e424a02a2c329381f189a89",
       "version_major": 2,
       "version_minor": 0
      },
      "text/plain": [
       "Canvas(toolbar=Toolbar(toolitems=[('Home', 'Reset original view', 'home', 'home'), ('Back', 'Back to previous …"
      ]
     },
     "metadata": {},
     "output_type": "display_data"
    }
   ],
   "source": [
    "freqs=np.linspace(0,2500,(375000)+1)\n",
    "\n",
    "_,ax = plt.subplots()\n",
    "plt.subplots_adjust(left=0.18, right=0.96, top=0.96, bottom=0.14)\n",
    "#ax.plot(ZnoiseZ, '.-', label=\"z\",markersize=1,linewidth=1)\n",
    "ax.plot(np.linspace(1,100,100),zPha, '.-', label=\"z\",markersize=1,linewidth=1)\n",
    "#ax.plot(np.linspace(1,100,100),zAmp, '.-', label=\"z\",markersize=1,linewidth=1)\n",
    "ax.legend(fontsize=16)\n",
    "ax.set_xlabel('Frequency [Hz]', fontsize=18)\n",
    "ax.set_ylabel('Phase [rad]',fontsize=18)\n",
    "\n",
    "ax.tick_params(axis='x', labelsize=18)\n",
    "ax.tick_params(axis='y', labelsize=18)\n",
    "#plt.xlim(0.1,500)\n",
    "#plt.ylim(1e-7,1e-2)\n",
    "plt.grid(True)"
   ]
  },
  {
   "cell_type": "code",
   "execution_count": 262,
   "metadata": {},
   "outputs": [],
   "source": [
    "ofname = folder+\"/Bead\"+str(BeadNumber)+\"/TransFunc\"+\"/TransFuncAmpPha_%d_Z_z%de5_%ds_%dHz.txt\" %(Ndata,Zset,tInt,fBase)\n",
    "f1 = open(ofname,\"a\")\n",
    "for k in range(0,100):\n",
    "    f1.write('%d %f %f\\n' % (k+1,zAmp[k],zPha[k]))\n",
    "f1.close()"
   ]
  },
  {
   "cell_type": "code",
   "execution_count": null,
   "metadata": {},
   "outputs": [],
   "source": [
    "## check of the phase of the driving field."
   ]
  },
  {
   "cell_type": "code",
   "execution_count": 254,
   "metadata": {},
   "outputs": [],
   "source": [
    "##X preparation\n",
    "Ndata=21\n",
    "tInt=10\n",
    "fsamp=5000\n",
    "res=tInt*fsamp\n",
    "fBase=1\n",
    "Zset=-1"
   ]
  },
  {
   "cell_type": "code",
   "execution_count": 255,
   "metadata": {},
   "outputs": [],
   "source": [
    "##Z preparataion\n",
    "fname = folder+\"/Bead\"+str(BeadNumber)+\"/TransFunc\"+\"/TransFunc_%d_Z_z%de5_%ds_%dHz.h5\" %(Ndata,Zset,tInt,fBase)\n",
    "BDF = BeadDataFile.BeadDataFile(fname)\n",
    "data = BDF.xyz2 "
   ]
  },
  {
   "cell_type": "code",
   "execution_count": 256,
   "metadata": {},
   "outputs": [],
   "source": [
    "ElectrodeData=BDF.electrode_data\n",
    "Velp=ElectrodeData[0]\n",
    "Veln=ElectrodeData[1]"
   ]
  },
  {
   "cell_type": "code",
   "execution_count": 246,
   "metadata": {},
   "outputs": [
    {
     "name": "stdout",
     "output_type": "stream",
     "text": [
      "6.629001308074616\n",
      "6.618386739652922\n",
      "6.65066642813017\n",
      "6.682329375711288\n",
      "6.713896035624095\n",
      "6.745249676825246\n",
      "6.776103384975201\n",
      "6.806729533975272\n",
      "6.836932758048246\n",
      "6.866873309935779\n",
      "6.896575341405017\n",
      "6.925627257595404\n",
      "6.954462968184563\n",
      "6.983075744550412\n",
      "7.011487400075529\n",
      "7.0392899242957725\n",
      "7.066960351813491\n",
      "7.094137911454986\n",
      "7.121047073798749\n",
      "7.14768377315262\n",
      "7.173875016254068\n",
      "7.199751625749129\n",
      "7.225181658127125\n",
      "7.2502767855344095\n",
      "7.275149195352697\n",
      "7.299424183028261\n",
      "7.323513986103589\n",
      "7.347575768636097\n",
      "7.370986439133961\n",
      "7.393826660732265\n",
      "7.416529901388667\n",
      "7.438681238144605\n",
      "7.460591529580002\n",
      "7.482059837923272\n",
      "7.503231688041553\n",
      "7.52394468641325\n",
      "7.544371348679565\n",
      "7.564347396449007\n",
      "7.583891231202267\n",
      "7.603272766328814\n",
      "7.622193036626113\n",
      "7.640704878798706\n",
      "7.6588247090812915\n",
      "7.676627597122238\n",
      "7.694032847591621\n",
      "7.711041992636647\n",
      "7.7276180634243365\n",
      "7.743860366825095\n",
      "7.759835435106482\n",
      "7.775142043588717\n"
     ]
    }
   ],
   "source": [
    "for i in range(0,50):\n",
    "    print(Velp[5000*i])"
   ]
  },
  {
   "cell_type": "code",
   "execution_count": 247,
   "metadata": {
    "scrolled": false
   },
   "outputs": [
    {
     "data": {
      "application/vnd.jupyter.widget-view+json": {
       "model_id": "e9e4a7a8d63049a8933331fa0d1b1b9c",
       "version_major": 2,
       "version_minor": 0
      },
      "text/plain": [
       "Canvas(toolbar=Toolbar(toolitems=[('Home', 'Reset original view', 'home', 'home'), ('Back', 'Back to previous …"
      ]
     },
     "metadata": {},
     "output_type": "display_data"
    }
   ],
   "source": [
    "_,ax = plt.subplots()\n",
    "plt.subplots_adjust(left=0.18, right=0.99, top=0.96, bottom=0.14)\n",
    "ax.plot(Velp[0:500], '.-', label=\"0 s\",markersize=1,linewidth=1)\n",
    "ax.plot(Velp[50000:50500], '.-', label=\"10 s\",markersize=1,linewidth=1)\n",
    "ax.plot(Velp[100000:100500], '.-', label=\"20 s\",markersize=1,linewidth=1)\n",
    "ax.plot(Velp[150000:150500], '.-', label=\"30 s\",markersize=1,linewidth=1)\n",
    "ax.plot(Velp[200000:200500], '.-', label=\"40 s\",markersize=1,linewidth=1)\n",
    "\n",
    "ax.legend(fontsize=16)\n",
    "ax.set_xlabel('Data Number', fontsize=18)\n",
    "ax.set_ylabel('Voltage [V]',fontsize=18)\n",
    "ax.tick_params(axis='x', labelsize=18)\n",
    "ax.tick_params(axis='y', labelsize=18)\n",
    "plt.xlim(0,20)\n",
    "plt.ylim(6,8.5)\n",
    "plt.grid(True)"
   ]
  },
  {
   "cell_type": "code",
   "execution_count": null,
   "metadata": {},
   "outputs": [],
   "source": []
  },
  {
   "cell_type": "code",
   "execution_count": 332,
   "metadata": {},
   "outputs": [],
   "source": [
    "##X preparation\n",
    "Ndata=21\n",
    "tInt=10\n",
    "fsamp=5000\n",
    "res=tInt*fsamp\n",
    "fBase=1\n",
    "Zset=-1\n",
    "##Z preparataion\n",
    "fname = folder+\"/Bead\"+str(BeadNumber)+\"/TransFunc\"+\"/TransFunc_%d_Z_z%de5_%ds_%dHz.h5\" %(Ndata,Zset,tInt,fBase)\n",
    "BDF = BeadDataFile.BeadDataFile(fname)\n",
    "data = BDF.xyz2 "
   ]
  },
  {
   "cell_type": "code",
   "execution_count": 333,
   "metadata": {},
   "outputs": [],
   "source": [
    "ElectrodeData=BDF.electrode_data\n",
    "Velp=ElectrodeData[0]\n",
    "Veln=ElectrodeData[1]"
   ]
  },
  {
   "cell_type": "code",
   "execution_count": 334,
   "metadata": {},
   "outputs": [],
   "source": [
    "dFFT=np.fft.rfft(Velp)\n",
    "norm = np.sqrt(2 / (res* fsamp))\n",
    "dpsd = norm**2 * (dFFT * dFFT.conj()).real\n",
    "DphaseD=np.angle(dFFT)\n",
    "\n",
    "DnoiseD=np.sqrt(dpsd)"
   ]
  },
  {
   "cell_type": "code",
   "execution_count": 335,
   "metadata": {},
   "outputs": [],
   "source": [
    "for i in range(0,100):\n",
    "    zPha[i]=DphaseD[(i+1)*tInt*fBase]-(i*i/100-round(i*i/100))*2*3.14159265+np.pi*.5\n",
    "    zAmp[i]=DnoiseD[(i+1)*tInt*fBase]\n",
    "       \n",
    "for i in range(0,99):  \n",
    "    if((zPha[i+1]-zPha[i])>4):\n",
    "        zPha[i+1]-=2*np.pi\n",
    "    elif((zPha[i+1]-zPha[i])<-4):\n",
    "        zPha[i+1]+=2*np.pi\n",
    "for i in range(0,99):  \n",
    "    if((zPha[i+1]-zPha[i])>4):\n",
    "        zPha[i+1]-=2*np.pi\n",
    "    elif((zPha[i+1]-zPha[i])<-4):\n",
    "        zPha[i+1]+=2*np.pi"
   ]
  },
  {
   "cell_type": "code",
   "execution_count": 336,
   "metadata": {},
   "outputs": [
    {
     "data": {
      "application/vnd.jupyter.widget-view+json": {
       "model_id": "bb2a5f972b8b4672946a09d9fa004a04",
       "version_major": 2,
       "version_minor": 0
      },
      "text/plain": [
       "Canvas(toolbar=Toolbar(toolitems=[('Home', 'Reset original view', 'home', 'home'), ('Back', 'Back to previous …"
      ]
     },
     "metadata": {},
     "output_type": "display_data"
    }
   ],
   "source": [
    "freqs=np.linspace(0,2500,(375000)+1)\n",
    "\n",
    "_,ax = plt.subplots()\n",
    "plt.subplots_adjust(left=0.18, right=0.96, top=0.96, bottom=0.14)\n",
    "#ax.plot(ZnoiseZ, '.-', label=\"z\",markersize=1,linewidth=1)\n",
    "ax.plot(np.linspace(1,100,100),zPha, '.-', label=\"z\",markersize=1,linewidth=1)\n",
    "#ax.plot(np.linspace(1,100,100),zAmp, '.-', label=\"z\",markersize=1,linewidth=1)\n",
    "ax.legend(fontsize=16)\n",
    "ax.set_xlabel('Frequency [Hz]', fontsize=18)\n",
    "ax.set_ylabel('Phase [rad]',fontsize=18)\n",
    "\n",
    "ax.tick_params(axis='x', labelsize=18)\n",
    "ax.tick_params(axis='y', labelsize=18)\n",
    "#plt.xlim(0.1,500)\n",
    "#plt.ylim(1e-7,1e-2)\n",
    "plt.grid(True)"
   ]
  },
  {
   "cell_type": "code",
   "execution_count": 337,
   "metadata": {},
   "outputs": [],
   "source": [
    "ofname = folder+\"/Bead\"+str(BeadNumber)+\"/TransFunc\"+\"/TransFuncDriveAmpPha_%d_Z_z%de5_%ds_%dHz.txt\" %(Ndata,Zset,tInt,fBase)\n",
    "f1 = open(ofname,\"a\")\n",
    "for k in range(0,100):\n",
    "    f1.write('%d %f %f\\n' % (k+1,zAmp[k],zPha[k]))\n",
    "f1.close()"
   ]
  },
  {
   "cell_type": "code",
   "execution_count": null,
   "metadata": {},
   "outputs": [],
   "source": [
    "#split 250 s data to 10 25s data"
   ]
  },
  {
   "cell_type": "code",
   "execution_count": 340,
   "metadata": {},
   "outputs": [],
   "source": [
    "zPha=np.zeros(100)\n",
    "zAmp=np.zeros(100)\n",
    "zPhaD=np.zeros(100)\n",
    "zAmpD=np.zeros(100)"
   ]
  },
  {
   "cell_type": "code",
   "execution_count": 343,
   "metadata": {},
   "outputs": [],
   "source": [
    "##X preparation\n",
    "Ndata=10\n",
    "tInt=25\n",
    "fsamp=5000\n",
    "res=tInt*fsamp\n",
    "fBase=1\n",
    "Zset=-1\n",
    "##Z preparataion\n",
    "fname = folder+\"/Bead\"+str(BeadNumber)+\"/TransFunc\"+\"/TransFunc_%d_Z_z%de5_250s_%dHz.h5\" %(Ndata,Zset,fBase)\n",
    "BDF = BeadDataFile.BeadDataFile(fname)\n",
    "data = BDF.xyz2 "
   ]
  },
  {
   "cell_type": "code",
   "execution_count": 344,
   "metadata": {},
   "outputs": [],
   "source": [
    "for j in range(0,10):\n",
    "    data_det=signal.detrend(data)\n",
    "    z_1000=data_det[2][0*i,25*5000*i]\n",
    "\n",
    "    zFFT=np.fft.rfft(z_1000)\n",
    "    norm = np.sqrt(2 / (res* fsamp))\n",
    "    zpsd = norm**2 * (zFFT * zFFT.conj()).real\n",
    "    ZphaseZ=np.angle(zFFT)\n",
    "    ZnoiseZ=np.sqrt(zpsd)\n",
    "\n",
    "    ElectrodeData=BDF.electrode_data\n",
    "    Velp=ElectrodeData[0][0*i,25*5000*i]\n",
    "    Veln=ElectrodeData[1][0*i,25*5000*i]\n",
    "    dFFT=np.fft.rfft(Velp)\n",
    "    dpsd = norm**2 * (dFFT * dFFT.conj()).real\n",
    "    DphaseD=np.angle(dFFT)\n",
    "    DnoiseD=np.sqrt(dpsd)\n",
    "\n",
    "    for i in range(0,100):\n",
    "        zPha[i]=ZphaseZ[(i+1)*tInt*fBase]-(i*i/100-round(i*i/100))*2*3.14159265+np.pi*.5\n",
    "        zAmp[i]=ZnoiseZ[(i+1)*tInt*fBase]\n",
    "    for i in range(0,99):  \n",
    "        if((zPha[i+1]-zPha[i])>4):\n",
    "            zPha[i+1]-=2*np.pi\n",
    "        elif((zPha[i+1]-zPha[i])<-4):\n",
    "            zPha[i+1]+=2*np.pi\n",
    "    for i in range(0,99):  \n",
    "        if((zPha[i+1]-zPha[i])>4):\n",
    "            zPha[i+1]-=2*np.pi\n",
    "        elif((zPha[i+1]-zPha[i])<-4):\n",
    "            zPha[i+1]+=2*np.pi\n",
    "\n",
    "    for i in range(0,100):\n",
    "        zPhaD[i]=DphaseD[(i+1)*tInt*fBase]-(i*i/100-round(i*i/100))*2*3.14159265+np.pi*.5\n",
    "        zAmpD[i]=DnoiseD[(i+1)*tInt*fBase]\n",
    "    for i in range(0,99):  \n",
    "        if((zPhaD[i+1]-zPhaD[i])>4):\n",
    "            zPhaD[i+1]-=2*np.pi\n",
    "        elif((zPhaD[i+1]-zPhaD[i])<-4):\n",
    "            zPhaD[i+1]+=2*np.pi\n",
    "    for i in range(0,99):  \n",
    "        if((zPhaD[i+1]-zPhaD[i])>4):\n",
    "            zPhaD[i+1]-=2*np.pi\n",
    "        elif((zPha[i+1]-zPha[i])<-4):\n",
    "            zPhaD[i+1]+=2*np.pi\n",
    "\n",
    "    ofname = folder+\"/Bead\"+str(BeadNumber)+\"/TransFunc\"+\"/TransFuncAmpPha_%d_Z_z%de5_250s_%dHz_%d.txt\" %(Ndata,Zset,fBase,j)\n",
    "    f1 = open(ofname,\"a\")\n",
    "    for k in range(0,100):\n",
    "        f1.write('%d %f %f\\n' % (k+1,zAmp[k],zPha[k]))\n",
    "    f1.close()\n",
    "\n",
    "    ofname2 = folder+\"/Bead\"+str(BeadNumber)+\"/TransFunc\"+\"/TransFuncDriveAmpPha_%d_Z_z%de5_250s_%dHz_%d.txt\" %(Ndata,Zset,fBase,j)\n",
    "    f12 = open(ofname2,\"a\")\n",
    "    for k in range(0,100):\n",
    "        f12.write('%d %f %f\\n' % (k+1,zAmpD[k],zPhaD[k]))\n",
    "    f12.close()"
   ]
  },
  {
   "cell_type": "code",
   "execution_count": null,
   "metadata": {},
   "outputs": [],
   "source": []
  }
 ],
 "metadata": {
  "kernelspec": {
   "display_name": "Python 3",
   "language": "python",
   "name": "python3"
  },
  "language_info": {
   "codemirror_mode": {
    "name": "ipython",
    "version": 3
   },
   "file_extension": ".py",
   "mimetype": "text/x-python",
   "name": "python",
   "nbconvert_exporter": "python",
   "pygments_lexer": "ipython3",
   "version": "3.6.9"
  }
 },
 "nbformat": 4,
 "nbformat_minor": 2
}
