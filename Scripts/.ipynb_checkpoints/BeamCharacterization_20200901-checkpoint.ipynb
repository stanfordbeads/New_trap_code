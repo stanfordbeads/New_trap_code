{
 "cells": [
  {
   "cell_type": "code",
   "execution_count": 1,
   "metadata": {},
   "outputs": [],
   "source": [
    "%run /home/analysis_user/New_trap_code/Tools/basic_packages.py\n",
    "#%matplotlib widget, remove below if used\n",
    "plt.rcParams[\"figure.figsize\"] = (16,12)\n",
    "plt.rcParams[\"font.size\"] = 24\n",
    "plt.rcParams['xtick.labelsize'] = \"small\"\n",
    "plt.rcParams['ytick.labelsize'] = 36"
   ]
  },
  {
   "cell_type": "code",
   "execution_count": 2,
   "metadata": {},
   "outputs": [],
   "source": [
    "def gaussian(x,params=list):\n",
    "    '''\n",
    "    Generic defintion of a Gaussian bead profile (from Akio)\n",
    "    '''\n",
    "    #norm = (1/((1/2*params[2])*np.sqrt(np.pi * 2)))\n",
    "    return params[0] * np.exp(-2*(np.subtract(x,params[1])**2/(params[2]**2)))+params[3]\n"
   ]
  },
  {
   "cell_type": "code",
   "execution_count": 36,
   "metadata": {},
   "outputs": [],
   "source": [
    "def prepare_profile_data(files):\n",
    "    # prepare the data into a data frame using the calibration Akio has performed\n",
    "    df = pd.DataFrame()\n",
    "    spin_list = [] # a list for the spin_sum\n",
    "    qsum_list = [] # a list for the quad_sum \n",
    "    cant_pos_list_x, cant_pos_list_y, cant_pos_list_z = [[] for  x in range(3)] # save the positions of the cantielever\n",
    "    spin_down_size_factor = len(files[0].spin_data[0])/len(files[0].xyz[0]) # 10 for normal operation, but can be different\n",
    "    \n",
    "    for i in tqdm(range(len(files))):\n",
    "        spin = np.zeros(len(files[0].xyz[0]))\n",
    "        spin_temp = files[i].spin_data[0]\n",
    "        for j in range(len(files[i].xyz[0])):\n",
    "            spin[j]=np.average(spin_temp[int(spin_down_size_factor)*j: int(spin_down_size_factor)*j+ int(spin_down_size_factor-1)]) # average down to 5000 in order to match spin with the cantilever position.    \n",
    "        spin_list.append(spin)\n",
    "        qsum_list.append(files[i].quad_sum)\n",
    "        cant_pos_list_x.append(files[i].cant_pos[0])\n",
    "        cant_pos_list_y.append(files[i].cant_pos[1])\n",
    "        cant_pos_list_z.append(files[i].cant_pos[2])\n",
    "    df[\"QPD_SUM\"] = qsum_list\n",
    "    df[\"SPIN_SUM\"] = spin_list \n",
    "    df[\"CANT_POS_X\"] = cant_pos_list_x\n",
    "    df[\"CANT_POS_Y\"] = cant_pos_list_y\n",
    "    df[\"CANT_POS_Z\"] = cant_pos_list_z\n",
    "    \n",
    "    \n",
    "    # use calibration\n",
    "    ## applies calibration assuming x and y have the same\n",
    "    df[\"CANT_POS_X_cal\"] = df[\"CANT_POS_X\"].apply(lambda element: voltage_to_x_position(element))  \n",
    "    df[\"CANT_POS_Y_cal\"] = df[\"CANT_POS_Y\"].apply(lambda element: voltage_to_x_position(element)) \n",
    "    df[\"CANT_POS_Z_cal\"] = df[\"CANT_POS_Z\"].apply(lambda element: voltage_to_z_position(element))\n",
    "    \n",
    "    \n",
    "    # differentiate the power to get dP/dx plots\n",
    "    df[\"QPD_SUM_diff\"] = df[\"QPD_SUM\"].apply(lambda element: np.diff(element)) # \n",
    "    df[\"SPIN_SUM_diff\"] = df[\"SPIN_SUM\"].apply(lambda element: np.diff(element)) # \n",
    "\n",
    "    return df"
   ]
  },
  {
   "cell_type": "code",
   "execution_count": 3,
   "metadata": {},
   "outputs": [],
   "source": [
    "def prepare_profile_data(files):\n",
    "    # prepare the data into a data frame using the calibration Akio has performed\n",
    "    df = pd.DataFrame()\n",
    "    spin_list = [] # a list for the spin_sum\n",
    "    qsum_list = [] # a list for the quad_sum \n",
    "    cant_pos_list_x, cant_pos_list_y, cant_pos_list_z = [[] for  x in range(3)] # save the positions of the cantielever\n",
    "    spin_down_size_factor = len(files[0].spin_data)/len(files[0].xyz[0]) # 10 for normal operation, but can be different\n",
    "    \n",
    "    for i in tqdm(range(len(files))):\n",
    "        spin = np.zeros(len(files[0].xyz[0]))\n",
    "        spin_temp = files[i].spin_data\n",
    "        for j in range(len(files[i].xyz[0])):\n",
    "            spin[j]=np.average(spin_temp[int(spin_down_size_factor)*j: int(spin_down_size_factor)*j+ int(spin_down_size_factor-1)]) # average down to 5000 in order to match spin with the cantilever position.    \n",
    "        spin_list.append(spin)\n",
    "        qsum_list.append(files[i].quad_sum)\n",
    "        cant_pos_list_x.append(files[i].cant_pos[0])\n",
    "        cant_pos_list_y.append(files[i].cant_pos[1])\n",
    "        cant_pos_list_z.append(files[i].cant_pos[2])\n",
    "    df[\"QPD_SUM\"] = qsum_list\n",
    "    df[\"SPIN_SUM\"] = spin_list \n",
    "    df[\"CANT_POS_X\"] = cant_pos_list_x\n",
    "    df[\"CANT_POS_Y\"] = cant_pos_list_y\n",
    "    df[\"CANT_POS_Z\"] = cant_pos_list_z\n",
    "    \n",
    "    \n",
    "    # use calibration\n",
    "    ## applies calibration assuming x and y have the same\n",
    "    df[\"CANT_POS_X_cal\"] = df[\"CANT_POS_X\"].apply(lambda element: voltage_to_x_position(element))  \n",
    "    df[\"CANT_POS_Y_cal\"] = df[\"CANT_POS_Y\"].apply(lambda element: voltage_to_x_position(element)) \n",
    "    df[\"CANT_POS_Z_cal\"] = df[\"CANT_POS_Z\"].apply(lambda element: voltage_to_z_position(element))\n",
    "    \n",
    "    \n",
    "    # differentiate the power to get dP/dx plots\n",
    "    df[\"QPD_SUM_diff\"] = df[\"QPD_SUM\"].apply(lambda element: np.diff(element)) # \n",
    "    df[\"SPIN_SUM_diff\"] = df[\"SPIN_SUM\"].apply(lambda element: np.diff(element)) # \n",
    "\n",
    "    return df"
   ]
  },
  {
   "cell_type": "code",
   "execution_count": 37,
   "metadata": {
    "scrolled": true
   },
   "outputs": [
    {
     "name": "stderr",
     "output_type": "stream",
     "text": [
      "100%|██████████| 100/100 [00:26<00:00,  3.78it/s]\n",
      "  0%|          | 0/100 [00:00<?, ?it/s]"
     ]
    },
    {
     "name": "stdout",
     "output_type": "stream",
     "text": [
      "100  files in folder\n",
      "100  files loaded\n"
     ]
    },
    {
     "name": "stderr",
     "output_type": "stream",
     "text": [
      "100%|██████████| 100/100 [00:33<00:00,  2.63it/s]"
     ]
    },
    {
     "name": "stdout",
     "output_type": "stream",
     "text": [
      "100  files in folder\n",
      "100  files loaded\n"
     ]
    },
    {
     "name": "stderr",
     "output_type": "stream",
     "text": [
      "\n"
     ]
    }
   ],
   "source": [
    "# step 1 load the data for x and y\n",
    "Year = \"2020\"\n",
    "Month = \"09\"\n",
    "Day = \"20\"\n",
    "BeadNumber = 1\n",
    "folder1 =  r\"/home/data_transfer/data_from_windows/\" +\"ImageAnalysis/PositionCalibration/\"+ Year + Month + Day + \"/BeamProfile/\"\n",
    "folder2 =  r\"/home/data_transfer/data_from_windows/\" +\"ImageAnalysis/PositionCalibration/\"+ Year + Month + Day +  \"/BeamProfile/\"\n",
    "folder1 = r\"/home/data_transfer/data_from_windows/20200930/NoBead/y210/\" \n",
    "fname_x=\"BeamProfileX4\"\n",
    "fname_y=\"BeamProfileX0\"\n",
    "files_x = load_dir(folder1, file_prefix = fname_x, max_file=100)\n",
    "files_y = load_dir(folder1, file_prefix = fname_y, max_file=100)"
   ]
  },
  {
   "cell_type": "code",
   "execution_count": 38,
   "metadata": {
    "scrolled": true
   },
   "outputs": [
    {
     "name": "stderr",
     "output_type": "stream",
     "text": [
      "100%|██████████| 100/100 [00:33<00:00,  2.94it/s]\n",
      "100%|██████████| 100/100 [00:33<00:00,  2.99it/s]\n"
     ]
    }
   ],
   "source": [
    "# step 2 prepare the data into data frames, differentiate the signal and apply calibration\n",
    "\n",
    "df_x = prepare_profile_data(files_x)\n",
    "df_y = prepare_profile_data(files_y)"
   ]
  },
  {
   "cell_type": "code",
   "execution_count": 39,
   "metadata": {},
   "outputs": [
    {
     "data": {
      "image/png": "[encoded data removed]",
      "text/plain": [
       "<Figure size 1152x864 with 1 Axes>"
      ]
     },
     "metadata": {
      "needs_background": "light"
     },
     "output_type": "display_data"
    }
   ],
   "source": [
    "# a test plot to see you have data loaded\n",
    "averaged_series = pd.Series(df_x[\"QPD_SUM_diff\"][0]).ewm(span=10,adjust=True).mean()\n",
    "#plt.plot(averaged_series,linestyle=\"\",marker=\"*\")\n",
    "#plt.plot(np.divide(averaged_series,averaged_series.mean()),linestyle=\"\",marker=\"*\")\n",
    "#plt.xlim(150,400)\n",
    "plt.plot(df_x[\"CANT_POS_X\"][0][150:376])\n",
    "plt.show()"
   ]
  },
  {
   "cell_type": "code",
   "execution_count": 40,
   "metadata": {},
   "outputs": [
    {
     "data": {
      "text/plain": [
       "[<matplotlib.lines.Line2D at 0x7f1d06dde198>]"
      ]
     },
     "execution_count": 40,
     "metadata": {},
     "output_type": "execute_result"
    },
    {
     "data": {
      "image/png": "[encoded data removed]",
      "text/plain": [
       "<Figure size 1152x864 with 1 Axes>"
      ]
     },
     "metadata": {
      "needs_background": "light"
     },
     "output_type": "display_data"
    }
   ],
   "source": [
    "plt.plot(df_y.CANT_POS_X_cal[23][:-1],df_y.SPIN_SUM_diff[23])\n",
    "plt.plot(df_x.CANT_POS_X_cal[23][:-1],df_x.SPIN_SUM_diff[23])"
   ]
  },
  {
   "cell_type": "code",
   "execution_count": 41,
   "metadata": {},
   "outputs": [],
   "source": [
    "def extract_in_out_movement(df,fn,detector=\"SPIN\",axis=\"Y\",factor=250,start=150,end=49851,avg_rng=1):\n",
    "    data_x = np.zeros(factor)\n",
    "    data_x2 = np.zeros(factor)\n",
    "    data_y = np.zeros(factor)\n",
    "    data_y2 = np.zeros(factor)\n",
    "    i=0\n",
    "    for k in np.arange(start,end,factor):\n",
    "        i+=1\n",
    "        averaged_series = pd.Series(df[\"%s_SUM_diff\" %detector][fn]).ewm(span=avg_rng,adjust=True).mean()\n",
    "        data_y_temp = averaged_series[k:k+factor]/averaged_series.mean()#df[\"QPD_SUM_diff\"][0][1300:-1400] # give y data \n",
    "        data_x_temp = df[\"CANT_POS_%s_cal\" %axis][fn][k:k+factor]# give x data\n",
    "        if(np.sum(data_y_temp)<0): data_y_temp = -data_y_temp\n",
    "        if((i % 2) == 0):\n",
    "            data_y = np.add(data_y,np.array(data_y_temp))\n",
    "            data_x = np.add(data_x,data_x_temp)\n",
    "        else:\n",
    "            data_y2 = np.add(data_y2,np.array(data_y_temp))  \n",
    "            data_x2 = np.add(data_x2,data_x_temp)\n",
    "    data_x = data_x/(0.5*(i-1)) # factor automatic\n",
    "    data_x2 = data_x2/(0.5*(i+1)) # factor automatic +-1\n",
    "    data_y = data_y\n",
    "    data_y2 = data_y2\n",
    "    #plt.plot(data_x,data_y)\n",
    "    return data_y,data_y2,data_x,data_x2        "
   ]
  },
  {
   "cell_type": "code",
   "execution_count": 42,
   "metadata": {},
   "outputs": [],
   "source": [
    "def fit_dP_dx(data_x,data_y,data_y_error=None,plot=False,logscale=False):\n",
    "    if(data_y_error==None): data_y_error = np.sqrt(np.abs(data_y)) # give y uncertainty\n",
    "    def chisquare_gaussian(area,mean,sigma,constant):\n",
    "        return chisquare_1d(function=gaussian,functionparams=[area,mean,sigma,constant],data_x=data_x,data_y=data_y,data_y_error=data_y_error)[0]\n",
    "    arg_maxy = np.array(data_x)[np.argmax(np.array(data_y))]\n",
    "    #print(maxy,np.sum(data_y))\n",
    "    #plt.plot(data_x,data_y)\n",
    "    #plt.show()\n",
    "    try:\n",
    "        m=Minuit(chisquare_gaussian, \n",
    "                 area = np.max(data_y), # set start parameter\n",
    "                 #limit_area= (np.sum(data_y)/200,np.sum(data_y)), # if you want to limit things\n",
    "                 #fix_area = \"False\", # you can also fix it\n",
    "                 mean = arg_maxy,\n",
    "                 #fix_mean = \"True\",\n",
    "                 limit_mean = (arg_maxy-20, arg_maxy+20),\n",
    "                 sigma = 3.8,\n",
    "                 #limit_sigma=(1,4),\n",
    "                 #fix_sigma=\"True\",\n",
    "                 constant = 0,\n",
    "                 fix_constant=\"True\",\n",
    "                 errordef = 1,\n",
    "                 print_level=0,\n",
    "                 pedantic=False)\n",
    "        #print('Now proceed with the fit.')\n",
    "        m.migrad()\n",
    "        #print()\n",
    "        m.minos()#, if you need fancy mapping\n",
    "        chisquare=m.fval\n",
    "    except:print(\"Fit did not converge\")   \n",
    "    #print(chisquare)\n",
    "    #print(m.values[\"area\"],m.values[\"mean\"],m.values[\"sigma\"],m.values[\"constant\"])\n",
    "    if(plot==True):\n",
    "        plt.plot(data_x,data_y)\n",
    "        plt.plot(data_x,gaussian(data_x,params=[m.values[\"area\"],m.values[\"mean\"],m.values[\"sigma\"],m.values[\"constant\"]]))\n",
    "        if(logscale==True):plt.yscale(\"log\")\n",
    "        plt.show()\n",
    "    return m"
   ]
  },
  {
   "cell_type": "code",
   "execution_count": 43,
   "metadata": {},
   "outputs": [],
   "source": [
    "def extract_waist_data(df,up_or_low = \"up\",axis=\"Y\",detector=\"SPIN\",avg_rng=10,sub_sample=False,plot=False,logscale=True,save=True):\n",
    "    sigma_list,sigma_err_list,mean_list,chi2_list,fit_list = [[] for x in range(5)]\n",
    "    if(sub_sample==True):length=10\n",
    "    else: length=len(df)\n",
    "    for j in tqdm(np.arange(0,length,1)):\n",
    "        data_y,data_y2,data_x,data_x2 = extract_in_out_movement(df,j,detector,axis,end=49850)\n",
    "        if(up_or_low==\"up\"):m = fit_dP_dx(data_x,data_y,plot=plot)\n",
    "        if(up_or_low==\"low\"):m = fit_dP_dx(data_x2,data_y2,plot=plot)\n",
    "        sigma_list.append(m.values[\"sigma\"])\n",
    "        sigma_err_list.append(m.errors[\"sigma\"])\n",
    "        mean_list.append(m.values[\"mean\"])\n",
    "        chi2_list.append(m.fval/(len(data_x)-3))\n",
    "        fit_list.append(m)\n",
    "    if(save==True):\n",
    "        if(axis==\"X\"):fname=fname_x\n",
    "        if(axis==\"Y\"):fname=fname_y\n",
    "        np.save(folder+fname+\"_sigma_list.npy\", sigma_list)\n",
    "        np.save(folder+fname+\"_mean_list.npy\", mean_list)\n",
    "        np.save(folder+fname+\"_chi2_list.npy\", chi2_list)\n",
    "    print(np.sum(data_y),m.values[\"area\"],m.values[\"mean\"],m.values[\"sigma\"])\n",
    "    return sigma_list,sigma_err_list, mean_list, chi2_list,fit_list"
   ]
  },
  {
   "cell_type": "code",
   "execution_count": 44,
   "metadata": {},
   "outputs": [],
   "source": [
    "def make_x_axis_for_beam_profile(df):\n",
    "    # reads in the z-position of each data set and provides an x_axis for the plots\n",
    "    x_axis = []\n",
    "    for i in range(len(df)):\n",
    "        x_axis.append(df[\"CANT_POS_Z_cal\"][i].mean())\n",
    "    return x_axis"
   ]
  },
  {
   "cell_type": "code",
   "execution_count": 45,
   "metadata": {
    "scrolled": true
   },
   "outputs": [
    {
     "name": "stderr",
     "output_type": "stream",
     "text": [
      "100%|██████████| 100/100 [01:20<00:00,  1.25it/s]"
     ]
    },
    {
     "name": "stdout",
     "output_type": "stream",
     "text": [
      "8386332426.151589 227706879.2110604 382.35349750894255 9.095079161187785\n"
     ]
    },
    {
     "name": "stderr",
     "output_type": "stream",
     "text": [
      "\n"
     ]
    }
   ],
   "source": [
    "x_width_spin,x_width_spin_err,x_mean_spin,x_chi2_spin,x_fits_spin = extract_waist_data(df_x,up_or_low=\"low\",axis=\"X\",detector=\"SPIN\",avg_rng=1,sub_sample=False,plot=False,logscale=False,save=False)\n",
    "#x_width_spin,x_width_spin_err,x_mean_spin,x_chi2_spin,x_fits_spin = extract_waist_data(df_x,up_or_low=\"up\",axis=\"X\",detector=\"SPIN\",avg_rng=1,sub_sample=False,plot=False,logscale=False,save=False)"
   ]
  },
  {
   "cell_type": "code",
   "execution_count": 46,
   "metadata": {},
   "outputs": [
    {
     "data": {
      "image/png": "[encoded data removed]",
      "text/plain": [
       "<Figure size 1152x864 with 2 Axes>"
      ]
     },
     "metadata": {
      "needs_background": "light"
     },
     "output_type": "display_data"
    }
   ],
   "source": [
    "#x=np.arange(0,len(files_x),1)\n",
    "x = make_x_axis_for_beam_profile(df_x)\n",
    "# Create two subplots and unpack the output array immediately\n",
    "f, (ax1, ax2) = plt.subplots(2,1,sharex=True)\n",
    "ax1.set_title(\"spin,x\")\n",
    "ax1.errorbar(x, x_width_spin,x_width_spin_err,linestyle=\"\",marker=\"*\")\n",
    "ax1.set_ylabel(\"$\\omega$ [um]\")\n",
    "ax2.scatter(x, x_chi2_spin)\n",
    "ax2.set_ylabel(\"red chi$^2$\")\n",
    "plt.show()\n",
    "\n"
   ]
  },
  {
   "cell_type": "code",
   "execution_count": null,
   "metadata": {},
   "outputs": [],
   "source": []
  },
  {
   "cell_type": "code",
   "execution_count": 47,
   "metadata": {
    "scrolled": true
   },
   "outputs": [
    {
     "name": "stderr",
     "output_type": "stream",
     "text": [
      "  4%|▍         | 4/100 [00:03<01:18,  1.23it/s]"
     ]
    },
    {
     "name": "stdout",
     "output_type": "stream",
     "text": [
      "Fit did not converge\n"
     ]
    },
    {
     "name": "stderr",
     "output_type": "stream",
     "text": [
      "  6%|▌         | 6/100 [00:04<01:16,  1.23it/s]"
     ]
    },
    {
     "name": "stdout",
     "output_type": "stream",
     "text": [
      "Fit did not converge\n"
     ]
    },
    {
     "name": "stderr",
     "output_type": "stream",
     "text": [
      "  8%|▊         | 8/100 [00:06<01:14,  1.23it/s]"
     ]
    },
    {
     "name": "stdout",
     "output_type": "stream",
     "text": [
      "Fit did not converge\n"
     ]
    },
    {
     "name": "stderr",
     "output_type": "stream",
     "text": [
      "\r",
      "  9%|▉         | 9/100 [00:07<01:14,  1.23it/s]"
     ]
    },
    {
     "name": "stdout",
     "output_type": "stream",
     "text": [
      "Fit did not converge\n"
     ]
    },
    {
     "name": "stderr",
     "output_type": "stream",
     "text": [
      "\r",
      " 10%|█         | 10/100 [00:08<01:19,  1.13it/s]"
     ]
    },
    {
     "name": "stdout",
     "output_type": "stream",
     "text": [
      "Fit did not converge\n"
     ]
    },
    {
     "name": "stderr",
     "output_type": "stream",
     "text": [
      "\r",
      " 11%|█         | 11/100 [00:09<01:17,  1.14it/s]"
     ]
    },
    {
     "name": "stdout",
     "output_type": "stream",
     "text": [
      "Fit did not converge\n"
     ]
    },
    {
     "name": "stderr",
     "output_type": "stream",
     "text": [
      "\r",
      " 12%|█▏        | 12/100 [00:10<01:15,  1.17it/s]"
     ]
    },
    {
     "name": "stdout",
     "output_type": "stream",
     "text": [
      "Fit did not converge\n"
     ]
    },
    {
     "name": "stderr",
     "output_type": "stream",
     "text": [
      "\r",
      " 13%|█▎        | 13/100 [00:10<01:13,  1.18it/s]"
     ]
    },
    {
     "name": "stdout",
     "output_type": "stream",
     "text": [
      "Fit did not converge\n"
     ]
    },
    {
     "name": "stderr",
     "output_type": "stream",
     "text": [
      "\r",
      " 14%|█▍        | 14/100 [00:11<01:19,  1.08it/s]"
     ]
    },
    {
     "name": "stdout",
     "output_type": "stream",
     "text": [
      "Fit did not converge\n"
     ]
    },
    {
     "name": "stderr",
     "output_type": "stream",
     "text": [
      " 16%|█▌        | 16/100 [00:13<01:13,  1.14it/s]"
     ]
    },
    {
     "name": "stdout",
     "output_type": "stream",
     "text": [
      "Fit did not converge\n"
     ]
    },
    {
     "name": "stderr",
     "output_type": "stream",
     "text": [
      "\r",
      " 17%|█▋        | 17/100 [00:14<01:11,  1.16it/s]"
     ]
    },
    {
     "name": "stdout",
     "output_type": "stream",
     "text": [
      "Fit did not converge\n"
     ]
    },
    {
     "name": "stderr",
     "output_type": "stream",
     "text": [
      "\r",
      " 18%|█▊        | 18/100 [00:15<01:16,  1.07it/s]"
     ]
    },
    {
     "name": "stdout",
     "output_type": "stream",
     "text": [
      "Fit did not converge\n"
     ]
    },
    {
     "name": "stderr",
     "output_type": "stream",
     "text": [
      "\r",
      " 19%|█▉        | 19/100 [00:16<01:19,  1.02it/s]"
     ]
    },
    {
     "name": "stdout",
     "output_type": "stream",
     "text": [
      "Fit did not converge\n"
     ]
    },
    {
     "name": "stderr",
     "output_type": "stream",
     "text": [
      " 21%|██        | 21/100 [00:18<01:10,  1.12it/s]"
     ]
    },
    {
     "name": "stdout",
     "output_type": "stream",
     "text": [
      "Fit did not converge\n"
     ]
    },
    {
     "name": "stderr",
     "output_type": "stream",
     "text": [
      "\r",
      " 22%|██▏       | 22/100 [00:19<01:08,  1.14it/s]"
     ]
    },
    {
     "name": "stdout",
     "output_type": "stream",
     "text": [
      "Fit did not converge\n"
     ]
    },
    {
     "name": "stderr",
     "output_type": "stream",
     "text": [
      "\r",
      " 23%|██▎       | 23/100 [00:19<01:06,  1.16it/s]"
     ]
    },
    {
     "name": "stdout",
     "output_type": "stream",
     "text": [
      "Fit did not converge\n"
     ]
    },
    {
     "name": "stderr",
     "output_type": "stream",
     "text": [
      " 25%|██▌       | 25/100 [00:21<01:09,  1.08it/s]"
     ]
    },
    {
     "name": "stdout",
     "output_type": "stream",
     "text": [
      "Fit did not converge\n"
     ]
    },
    {
     "name": "stderr",
     "output_type": "stream",
     "text": [
      "\r",
      " 26%|██▌       | 26/100 [00:22<01:06,  1.11it/s]"
     ]
    },
    {
     "name": "stdout",
     "output_type": "stream",
     "text": [
      "Fit did not converge\n"
     ]
    },
    {
     "name": "stderr",
     "output_type": "stream",
     "text": [
      "\r",
      " 27%|██▋       | 27/100 [00:23<01:03,  1.15it/s]"
     ]
    },
    {
     "name": "stdout",
     "output_type": "stream",
     "text": [
      "Fit did not converge\n"
     ]
    },
    {
     "name": "stderr",
     "output_type": "stream",
     "text": [
      "\r",
      " 28%|██▊       | 28/100 [00:24<01:01,  1.18it/s]"
     ]
    },
    {
     "name": "stdout",
     "output_type": "stream",
     "text": [
      "Fit did not converge\n"
     ]
    },
    {
     "name": "stderr",
     "output_type": "stream",
     "text": [
      "\r",
      " 29%|██▉       | 29/100 [00:25<01:03,  1.11it/s]"
     ]
    },
    {
     "name": "stdout",
     "output_type": "stream",
     "text": [
      "Fit did not converge\n"
     ]
    },
    {
     "name": "stderr",
     "output_type": "stream",
     "text": [
      " 31%|███       | 31/100 [00:26<00:58,  1.18it/s]"
     ]
    },
    {
     "name": "stdout",
     "output_type": "stream",
     "text": [
      "Fit did not converge\n"
     ]
    },
    {
     "name": "stderr",
     "output_type": "stream",
     "text": [
      "\r",
      " 32%|███▏      | 32/100 [00:27<00:57,  1.19it/s]"
     ]
    },
    {
     "name": "stdout",
     "output_type": "stream",
     "text": [
      "Fit did not converge\n"
     ]
    },
    {
     "name": "stderr",
     "output_type": "stream",
     "text": [
      " 34%|███▍      | 34/100 [00:29<00:54,  1.22it/s]"
     ]
    },
    {
     "name": "stdout",
     "output_type": "stream",
     "text": [
      "Fit did not converge\n"
     ]
    },
    {
     "name": "stderr",
     "output_type": "stream",
     "text": [
      "\r",
      " 35%|███▌      | 35/100 [00:30<00:53,  1.23it/s]"
     ]
    },
    {
     "name": "stdout",
     "output_type": "stream",
     "text": [
      "Fit did not converge\n"
     ]
    },
    {
     "name": "stderr",
     "output_type": "stream",
     "text": [
      "\r",
      " 36%|███▌      | 36/100 [00:30<00:52,  1.22it/s]"
     ]
    },
    {
     "name": "stdout",
     "output_type": "stream",
     "text": [
      "Fit did not converge\n"
     ]
    },
    {
     "name": "stderr",
     "output_type": "stream",
     "text": [
      " 39%|███▉      | 39/100 [00:33<00:50,  1.21it/s]"
     ]
    },
    {
     "name": "stdout",
     "output_type": "stream",
     "text": [
      "Fit did not converge\n"
     ]
    },
    {
     "name": "stderr",
     "output_type": "stream",
     "text": [
      "\r",
      " 40%|████      | 40/100 [00:34<00:49,  1.22it/s]"
     ]
    },
    {
     "name": "stdout",
     "output_type": "stream",
     "text": [
      "Fit did not converge\n"
     ]
    },
    {
     "name": "stderr",
     "output_type": "stream",
     "text": [
      "\r",
      " 41%|████      | 41/100 [00:35<00:49,  1.20it/s]"
     ]
    },
    {
     "name": "stdout",
     "output_type": "stream",
     "text": [
      "Fit did not converge\n"
     ]
    },
    {
     "name": "stderr",
     "output_type": "stream",
     "text": [
      "\r",
      " 42%|████▏     | 42/100 [00:36<00:50,  1.14it/s]"
     ]
    },
    {
     "name": "stdout",
     "output_type": "stream",
     "text": [
      "Fit did not converge\n"
     ]
    },
    {
     "name": "stderr",
     "output_type": "stream",
     "text": [
      " 44%|████▍     | 44/100 [00:37<00:47,  1.18it/s]"
     ]
    },
    {
     "name": "stdout",
     "output_type": "stream",
     "text": [
      "Fit did not converge\n"
     ]
    },
    {
     "name": "stderr",
     "output_type": "stream",
     "text": [
      "\r",
      " 45%|████▌     | 45/100 [00:38<00:45,  1.20it/s]"
     ]
    },
    {
     "name": "stdout",
     "output_type": "stream",
     "text": [
      "Fit did not converge\n"
     ]
    },
    {
     "name": "stderr",
     "output_type": "stream",
     "text": [
      "\r",
      " 46%|████▌     | 46/100 [00:39<00:49,  1.10it/s]"
     ]
    },
    {
     "name": "stdout",
     "output_type": "stream",
     "text": [
      "Fit did not converge\n"
     ]
    },
    {
     "name": "stderr",
     "output_type": "stream",
     "text": [
      "\r",
      " 47%|████▋     | 47/100 [00:40<00:51,  1.03it/s]"
     ]
    },
    {
     "name": "stdout",
     "output_type": "stream",
     "text": [
      "Fit did not converge\n"
     ]
    },
    {
     "name": "stderr",
     "output_type": "stream",
     "text": [
      "\r",
      " 48%|████▊     | 48/100 [00:41<00:48,  1.08it/s]"
     ]
    },
    {
     "name": "stdout",
     "output_type": "stream",
     "text": [
      "Fit did not converge\n"
     ]
    },
    {
     "name": "stderr",
     "output_type": "stream",
     "text": [
      "\r",
      " 49%|████▉     | 49/100 [00:42<00:45,  1.12it/s]"
     ]
    },
    {
     "name": "stdout",
     "output_type": "stream",
     "text": [
      "Fit did not converge\n"
     ]
    },
    {
     "name": "stderr",
     "output_type": "stream",
     "text": [
      " 51%|█████     | 51/100 [00:44<00:41,  1.17it/s]"
     ]
    },
    {
     "name": "stdout",
     "output_type": "stream",
     "text": [
      "Fit did not converge\n"
     ]
    },
    {
     "name": "stderr",
     "output_type": "stream",
     "text": [
      "\r",
      " 52%|█████▏    | 52/100 [00:44<00:41,  1.16it/s]"
     ]
    },
    {
     "name": "stdout",
     "output_type": "stream",
     "text": [
      "Fit did not converge\n"
     ]
    },
    {
     "name": "stderr",
     "output_type": "stream",
     "text": [
      " 54%|█████▍    | 54/100 [00:46<00:42,  1.09it/s]"
     ]
    },
    {
     "name": "stdout",
     "output_type": "stream",
     "text": [
      "Fit did not converge\n"
     ]
    },
    {
     "name": "stderr",
     "output_type": "stream",
     "text": [
      "\r",
      " 55%|█████▌    | 55/100 [00:47<00:40,  1.12it/s]"
     ]
    },
    {
     "name": "stdout",
     "output_type": "stream",
     "text": [
      "Fit did not converge\n"
     ]
    },
    {
     "name": "stderr",
     "output_type": "stream",
     "text": [
      " 57%|█████▋    | 57/100 [00:49<00:36,  1.17it/s]"
     ]
    },
    {
     "name": "stdout",
     "output_type": "stream",
     "text": [
      "Fit did not converge\n"
     ]
    },
    {
     "name": "stderr",
     "output_type": "stream",
     "text": [
      "\r",
      " 58%|█████▊    | 58/100 [00:50<00:35,  1.19it/s]"
     ]
    },
    {
     "name": "stdout",
     "output_type": "stream",
     "text": [
      "Fit did not converge\n"
     ]
    },
    {
     "name": "stderr",
     "output_type": "stream",
     "text": [
      "\r",
      " 59%|█████▉    | 59/100 [00:51<00:37,  1.09it/s]"
     ]
    },
    {
     "name": "stdout",
     "output_type": "stream",
     "text": [
      "Fit did not converge\n"
     ]
    },
    {
     "name": "stderr",
     "output_type": "stream",
     "text": [
      "\r",
      " 60%|██████    | 60/100 [00:52<00:38,  1.05it/s]"
     ]
    },
    {
     "name": "stdout",
     "output_type": "stream",
     "text": [
      "Fit did not converge\n"
     ]
    },
    {
     "name": "stderr",
     "output_type": "stream",
     "text": [
      "\r",
      " 61%|██████    | 61/100 [00:53<00:35,  1.10it/s]"
     ]
    },
    {
     "name": "stdout",
     "output_type": "stream",
     "text": [
      "Fit did not converge\n"
     ]
    },
    {
     "name": "stderr",
     "output_type": "stream",
     "text": [
      "\r",
      " 62%|██████▏   | 62/100 [00:53<00:33,  1.14it/s]"
     ]
    },
    {
     "name": "stdout",
     "output_type": "stream",
     "text": [
      "Fit did not converge\n"
     ]
    },
    {
     "name": "stderr",
     "output_type": "stream",
     "text": [
      "\r",
      " 63%|██████▎   | 63/100 [00:54<00:34,  1.08it/s]"
     ]
    },
    {
     "name": "stdout",
     "output_type": "stream",
     "text": [
      "Fit did not converge\n"
     ]
    },
    {
     "name": "stderr",
     "output_type": "stream",
     "text": [
      "\r",
      " 64%|██████▍   | 64/100 [00:55<00:31,  1.13it/s]"
     ]
    },
    {
     "name": "stdout",
     "output_type": "stream",
     "text": [
      "Fit did not converge\n"
     ]
    },
    {
     "name": "stderr",
     "output_type": "stream",
     "text": [
      "\r",
      " 65%|██████▌   | 65/100 [00:56<00:30,  1.15it/s]"
     ]
    },
    {
     "name": "stdout",
     "output_type": "stream",
     "text": [
      "Fit did not converge\n"
     ]
    },
    {
     "name": "stderr",
     "output_type": "stream",
     "text": [
      "\r",
      " 66%|██████▌   | 66/100 [00:57<00:29,  1.17it/s]"
     ]
    },
    {
     "name": "stdout",
     "output_type": "stream",
     "text": [
      "Fit did not converge\n"
     ]
    },
    {
     "name": "stderr",
     "output_type": "stream",
     "text": [
      "\r",
      " 67%|██████▋   | 67/100 [00:58<00:30,  1.08it/s]"
     ]
    },
    {
     "name": "stdout",
     "output_type": "stream",
     "text": [
      "Fit did not converge\n"
     ]
    },
    {
     "name": "stderr",
     "output_type": "stream",
     "text": [
      "\r",
      " 68%|██████▊   | 68/100 [00:59<00:28,  1.13it/s]"
     ]
    },
    {
     "name": "stdout",
     "output_type": "stream",
     "text": [
      "Fit did not converge\n"
     ]
    },
    {
     "name": "stderr",
     "output_type": "stream",
     "text": [
      " 71%|███████   | 71/100 [01:01<00:24,  1.20it/s]"
     ]
    },
    {
     "name": "stdout",
     "output_type": "stream",
     "text": [
      "Fit did not converge\n"
     ]
    },
    {
     "name": "stderr",
     "output_type": "stream",
     "text": [
      " 73%|███████▎  | 73/100 [01:03<00:22,  1.22it/s]"
     ]
    },
    {
     "name": "stdout",
     "output_type": "stream",
     "text": [
      "Fit did not converge\n"
     ]
    },
    {
     "name": "stderr",
     "output_type": "stream",
     "text": [
      " 76%|███████▌  | 76/100 [01:05<00:19,  1.21it/s]"
     ]
    },
    {
     "name": "stdout",
     "output_type": "stream",
     "text": [
      "Fit did not converge\n"
     ]
    },
    {
     "name": "stderr",
     "output_type": "stream",
     "text": [
      " 78%|███████▊  | 78/100 [01:07<00:20,  1.09it/s]"
     ]
    },
    {
     "name": "stdout",
     "output_type": "stream",
     "text": [
      "Fit did not converge\n"
     ]
    },
    {
     "name": "stderr",
     "output_type": "stream",
     "text": [
      " 80%|████████  | 80/100 [01:09<00:17,  1.15it/s]"
     ]
    },
    {
     "name": "stdout",
     "output_type": "stream",
     "text": [
      "Fit did not converge\n"
     ]
    },
    {
     "name": "stderr",
     "output_type": "stream",
     "text": [
      "\r",
      " 81%|████████  | 81/100 [01:10<00:16,  1.17it/s]"
     ]
    },
    {
     "name": "stdout",
     "output_type": "stream",
     "text": [
      "Fit did not converge\n"
     ]
    },
    {
     "name": "stderr",
     "output_type": "stream",
     "text": [
      "\r",
      " 82%|████████▏ | 82/100 [01:11<00:16,  1.10it/s]"
     ]
    },
    {
     "name": "stdout",
     "output_type": "stream",
     "text": [
      "Fit did not converge\n"
     ]
    },
    {
     "name": "stderr",
     "output_type": "stream",
     "text": [
      "\r",
      " 83%|████████▎ | 83/100 [01:12<00:16,  1.03it/s]"
     ]
    },
    {
     "name": "stdout",
     "output_type": "stream",
     "text": [
      "Fit did not converge\n"
     ]
    },
    {
     "name": "stderr",
     "output_type": "stream",
     "text": [
      " 85%|████████▌ | 85/100 [01:14<00:13,  1.10it/s]"
     ]
    },
    {
     "name": "stdout",
     "output_type": "stream",
     "text": [
      "Fit did not converge\n"
     ]
    },
    {
     "name": "stderr",
     "output_type": "stream",
     "text": [
      "\r",
      " 86%|████████▌ | 86/100 [01:14<00:12,  1.14it/s]"
     ]
    },
    {
     "name": "stdout",
     "output_type": "stream",
     "text": [
      "Fit did not converge\n"
     ]
    },
    {
     "name": "stderr",
     "output_type": "stream",
     "text": [
      "\r",
      " 87%|████████▋ | 87/100 [01:15<00:11,  1.16it/s]"
     ]
    },
    {
     "name": "stdout",
     "output_type": "stream",
     "text": [
      "Fit did not converge\n"
     ]
    },
    {
     "name": "stderr",
     "output_type": "stream",
     "text": [
      " 89%|████████▉ | 89/100 [01:17<00:09,  1.18it/s]"
     ]
    },
    {
     "name": "stdout",
     "output_type": "stream",
     "text": [
      "Fit did not converge\n"
     ]
    },
    {
     "name": "stderr",
     "output_type": "stream",
     "text": [
      " 91%|█████████ | 91/100 [01:19<00:08,  1.10it/s]"
     ]
    },
    {
     "name": "stdout",
     "output_type": "stream",
     "text": [
      "Fit did not converge\n"
     ]
    },
    {
     "name": "stderr",
     "output_type": "stream",
     "text": [
      "\r",
      " 92%|█████████▏| 92/100 [01:20<00:07,  1.13it/s]"
     ]
    },
    {
     "name": "stdout",
     "output_type": "stream",
     "text": [
      "Fit did not converge\n"
     ]
    },
    {
     "name": "stderr",
     "output_type": "stream",
     "text": [
      " 96%|█████████▌| 96/100 [01:23<00:03,  1.20it/s]"
     ]
    },
    {
     "name": "stdout",
     "output_type": "stream",
     "text": [
      "Fit did not converge\n"
     ]
    },
    {
     "name": "stderr",
     "output_type": "stream",
     "text": [
      "\r",
      " 97%|█████████▋| 97/100 [01:24<00:02,  1.13it/s]"
     ]
    },
    {
     "name": "stdout",
     "output_type": "stream",
     "text": [
      "Fit did not converge\n"
     ]
    },
    {
     "name": "stderr",
     "output_type": "stream",
     "text": [
      "\r",
      " 98%|█████████▊| 98/100 [01:25<00:01,  1.08it/s]"
     ]
    },
    {
     "name": "stdout",
     "output_type": "stream",
     "text": [
      "Fit did not converge\n"
     ]
    },
    {
     "name": "stderr",
     "output_type": "stream",
     "text": [
      "100%|██████████| 100/100 [01:27<00:00,  1.07it/s]"
     ]
    },
    {
     "name": "stdout",
     "output_type": "stream",
     "text": [
      "Fit did not converge\n",
      "1997788388.366228 808851526877.4293 389.1761595839563 0.8599660084558917\n"
     ]
    },
    {
     "name": "stderr",
     "output_type": "stream",
     "text": [
      "\n"
     ]
    }
   ],
   "source": [
    "y_width_spin,y_width_spin_err,y_mean_spin,y_chi2_spin,y_fits_spin =extract_waist_data(df_y,up_or_low=\"low\",axis=\"X\",detector=\"SPIN\",avg_rng=1,sub_sample=False,plot=False,logscale=False,save=False)\n",
    "#y_width_spin,y_width_spin_err,y_mean_spin,y_chi2_spin,y_fits_spin =extract_waist_data(df_y,up_or_low=\"up\",axis=\"X\",detector=\"SPIN\",avg_rng=1,sub_sample=False,plot=False,logscale=False,save=False)"
   ]
  },
  {
   "cell_type": "code",
   "execution_count": 48,
   "metadata": {},
   "outputs": [
    {
     "data": {
      "image/png": "[encoded data removed]",
      "text/plain": [
       "<Figure size 1152x864 with 2 Axes>"
      ]
     },
     "metadata": {
      "needs_background": "light"
     },
     "output_type": "display_data"
    }
   ],
   "source": [
    "x = make_x_axis_for_beam_profile(df_y)\n",
    "# Create two subplots and unpack the output array immediately\n",
    "f, (ax1, ax2) = plt.subplots(2,1,sharex=True)\n",
    "ax1.set_title(\"spin,y\")\n",
    "ax1.errorbar(x, y_width_spin,y_width_spin_err,linestyle=\"\",marker=\"*\")\n",
    "ax1.set_ylabel(\"$\\omega$ [um]\")\n",
    "ax2.scatter(x, y_chi2_spin)\n",
    "ax2.set_ylabel(\"red chi$^2$\")\n",
    "plt.show()\n",
    "\n"
   ]
  },
  {
   "cell_type": "code",
   "execution_count": 49,
   "metadata": {},
   "outputs": [
    {
     "name": "stderr",
     "output_type": "stream",
     "text": [
      "100%|██████████| 100/100 [01:20<00:00,  1.25it/s]"
     ]
    },
    {
     "name": "stdout",
     "output_type": "stream",
     "text": [
      "926426717.1426448 25512486.136340503 378.9964596306742 8.676328575323025\n"
     ]
    },
    {
     "name": "stderr",
     "output_type": "stream",
     "text": [
      "\n"
     ]
    }
   ],
   "source": [
    "x_width_qpd,x_width_qpd_err,x_mean_qpd,x_chi2_qpd,x_fits_qpd =  extract_waist_data(df_x,up_or_low=\"low\",axis=\"X\",detector=\"QPD\",avg_rng=1,sub_sample=False,plot=False,logscale=False,save=False)"
   ]
  },
  {
   "cell_type": "code",
   "execution_count": 50,
   "metadata": {},
   "outputs": [
    {
     "data": {
      "image/png": "[encoded data removed]",
      "text/plain": [
       "<Figure size 1152x864 with 2 Axes>"
      ]
     },
     "metadata": {
      "needs_background": "light"
     },
     "output_type": "display_data"
    }
   ],
   "source": [
    "x = make_x_axis_for_beam_profile(df_x)\n",
    "# Create two subplots and unpack the output array immediately\n",
    "f, (ax1, ax2) = plt.subplots(2,1,sharex=True)\n",
    "ax1.set_title(\"qpd,x\")\n",
    "ax1.errorbar(x, x_width_qpd,x_width_qpd_err,linestyle=\"\",marker=\"*\")\n",
    "ax1.set_ylabel(\"$\\omega$ [um]\")\n",
    "ax2.scatter(x, x_chi2_qpd)\n",
    "ax2.set_ylabel(\"red chi$^2$\")\n",
    "plt.show()\n",
    "\n"
   ]
  },
  {
   "cell_type": "code",
   "execution_count": 51,
   "metadata": {},
   "outputs": [
    {
     "name": "stderr",
     "output_type": "stream",
     "text": [
      "  1%|          | 1/100 [00:01<01:43,  1.04s/it]"
     ]
    },
    {
     "name": "stdout",
     "output_type": "stream",
     "text": [
      "Fit did not converge\n"
     ]
    },
    {
     "name": "stderr",
     "output_type": "stream",
     "text": [
      "\r",
      "  2%|▏         | 2/100 [00:01<01:35,  1.02it/s]"
     ]
    },
    {
     "name": "stdout",
     "output_type": "stream",
     "text": [
      "Fit did not converge\n"
     ]
    },
    {
     "name": "stderr",
     "output_type": "stream",
     "text": [
      "\r",
      "  3%|▎         | 3/100 [00:02<01:30,  1.07it/s]"
     ]
    },
    {
     "name": "stdout",
     "output_type": "stream",
     "text": [
      "Fit did not converge\n"
     ]
    },
    {
     "name": "stderr",
     "output_type": "stream",
     "text": [
      "\r",
      "  4%|▍         | 4/100 [00:03<01:26,  1.11it/s]"
     ]
    },
    {
     "name": "stdout",
     "output_type": "stream",
     "text": [
      "Fit did not converge\n"
     ]
    },
    {
     "name": "stderr",
     "output_type": "stream",
     "text": [
      "\r",
      "  5%|▌         | 5/100 [00:04<01:23,  1.14it/s]"
     ]
    },
    {
     "name": "stdout",
     "output_type": "stream",
     "text": [
      "Fit did not converge\n"
     ]
    },
    {
     "name": "stderr",
     "output_type": "stream",
     "text": [
      "\r",
      "  6%|▌         | 6/100 [00:05<01:20,  1.16it/s]"
     ]
    },
    {
     "name": "stdout",
     "output_type": "stream",
     "text": [
      "Fit did not converge\n"
     ]
    },
    {
     "name": "stderr",
     "output_type": "stream",
     "text": [
      "\r",
      "  7%|▋         | 7/100 [00:06<01:19,  1.17it/s]"
     ]
    },
    {
     "name": "stdout",
     "output_type": "stream",
     "text": [
      "Fit did not converge\n"
     ]
    },
    {
     "name": "stderr",
     "output_type": "stream",
     "text": [
      "\r",
      "  8%|▊         | 8/100 [00:06<01:17,  1.18it/s]"
     ]
    },
    {
     "name": "stdout",
     "output_type": "stream",
     "text": [
      "Fit did not converge\n"
     ]
    },
    {
     "name": "stderr",
     "output_type": "stream",
     "text": [
      "\r",
      "  9%|▉         | 9/100 [00:07<01:16,  1.19it/s]"
     ]
    },
    {
     "name": "stdout",
     "output_type": "stream",
     "text": [
      "Fit did not converge\n"
     ]
    },
    {
     "name": "stderr",
     "output_type": "stream",
     "text": [
      "\r",
      " 10%|█         | 10/100 [00:08<01:15,  1.20it/s]"
     ]
    },
    {
     "name": "stdout",
     "output_type": "stream",
     "text": [
      "Fit did not converge\n"
     ]
    },
    {
     "name": "stderr",
     "output_type": "stream",
     "text": [
      "\r",
      " 11%|█         | 11/100 [00:09<01:19,  1.12it/s]"
     ]
    },
    {
     "name": "stdout",
     "output_type": "stream",
     "text": [
      "Fit did not converge\n"
     ]
    },
    {
     "name": "stderr",
     "output_type": "stream",
     "text": [
      "\r",
      " 12%|█▏        | 12/100 [00:10<01:24,  1.04it/s]"
     ]
    },
    {
     "name": "stdout",
     "output_type": "stream",
     "text": [
      "Fit did not converge\n"
     ]
    },
    {
     "name": "stderr",
     "output_type": "stream",
     "text": [
      "\r",
      " 13%|█▎        | 13/100 [00:11<01:19,  1.09it/s]"
     ]
    },
    {
     "name": "stdout",
     "output_type": "stream",
     "text": [
      "Fit did not converge\n"
     ]
    },
    {
     "name": "stderr",
     "output_type": "stream",
     "text": [
      "\r",
      " 14%|█▍        | 14/100 [00:12<01:16,  1.12it/s]"
     ]
    },
    {
     "name": "stdout",
     "output_type": "stream",
     "text": [
      "Fit did not converge\n"
     ]
    },
    {
     "name": "stderr",
     "output_type": "stream",
     "text": [
      " 16%|█▌        | 16/100 [00:14<01:18,  1.07it/s]"
     ]
    },
    {
     "name": "stdout",
     "output_type": "stream",
     "text": [
      "Fit did not converge\n"
     ]
    },
    {
     "name": "stderr",
     "output_type": "stream",
     "text": [
      "\r",
      " 17%|█▋        | 17/100 [00:15<01:20,  1.03it/s]"
     ]
    },
    {
     "name": "stdout",
     "output_type": "stream",
     "text": [
      "Fit did not converge\n"
     ]
    },
    {
     "name": "stderr",
     "output_type": "stream",
     "text": [
      " 19%|█▉        | 19/100 [00:17<01:18,  1.03it/s]"
     ]
    },
    {
     "name": "stdout",
     "output_type": "stream",
     "text": [
      "Fit did not converge\n"
     ]
    },
    {
     "name": "stderr",
     "output_type": "stream",
     "text": [
      "\r",
      " 20%|██        | 20/100 [00:17<01:14,  1.07it/s]"
     ]
    },
    {
     "name": "stdout",
     "output_type": "stream",
     "text": [
      "Fit did not converge\n"
     ]
    },
    {
     "name": "stderr",
     "output_type": "stream",
     "text": [
      " 23%|██▎       | 23/100 [00:20<01:11,  1.08it/s]"
     ]
    },
    {
     "name": "stdout",
     "output_type": "stream",
     "text": [
      "Fit did not converge\n"
     ]
    },
    {
     "name": "stderr",
     "output_type": "stream",
     "text": [
      "\r",
      " 24%|██▍       | 24/100 [00:21<01:08,  1.11it/s]"
     ]
    },
    {
     "name": "stdout",
     "output_type": "stream",
     "text": [
      "Fit did not converge\n"
     ]
    },
    {
     "name": "stderr",
     "output_type": "stream",
     "text": [
      "\r",
      " 25%|██▌       | 25/100 [00:22<01:05,  1.14it/s]"
     ]
    },
    {
     "name": "stdout",
     "output_type": "stream",
     "text": [
      "Fit did not converge\n"
     ]
    },
    {
     "name": "stderr",
     "output_type": "stream",
     "text": [
      "\r",
      " 26%|██▌       | 26/100 [00:23<01:10,  1.05it/s]"
     ]
    },
    {
     "name": "stdout",
     "output_type": "stream",
     "text": [
      "Fit did not converge\n"
     ]
    },
    {
     "name": "stderr",
     "output_type": "stream",
     "text": [
      "\r",
      " 27%|██▋       | 27/100 [00:24<01:06,  1.10it/s]"
     ]
    },
    {
     "name": "stdout",
     "output_type": "stream",
     "text": [
      "Fit did not converge\n"
     ]
    },
    {
     "name": "stderr",
     "output_type": "stream",
     "text": [
      "\r",
      " 28%|██▊       | 28/100 [00:25<01:04,  1.12it/s]"
     ]
    },
    {
     "name": "stdout",
     "output_type": "stream",
     "text": [
      "Fit did not converge\n"
     ]
    },
    {
     "name": "stderr",
     "output_type": "stream",
     "text": [
      "\r",
      " 29%|██▉       | 29/100 [00:26<01:06,  1.06it/s]"
     ]
    },
    {
     "name": "stdout",
     "output_type": "stream",
     "text": [
      "Fit did not converge\n"
     ]
    },
    {
     "name": "stderr",
     "output_type": "stream",
     "text": [
      "\r",
      " 30%|███       | 30/100 [00:27<01:04,  1.09it/s]"
     ]
    },
    {
     "name": "stdout",
     "output_type": "stream",
     "text": [
      "Fit did not converge\n"
     ]
    },
    {
     "name": "stderr",
     "output_type": "stream",
     "text": [
      " 33%|███▎      | 33/100 [00:29<00:57,  1.16it/s]"
     ]
    },
    {
     "name": "stdout",
     "output_type": "stream",
     "text": [
      "Fit did not converge\n"
     ]
    },
    {
     "name": "stderr",
     "output_type": "stream",
     "text": [
      "\r",
      " 34%|███▍      | 34/100 [00:30<00:56,  1.17it/s]"
     ]
    },
    {
     "name": "stdout",
     "output_type": "stream",
     "text": [
      "Fit did not converge\n"
     ]
    },
    {
     "name": "stderr",
     "output_type": "stream",
     "text": [
      "\r",
      " 35%|███▌      | 35/100 [00:31<00:55,  1.17it/s]"
     ]
    },
    {
     "name": "stdout",
     "output_type": "stream",
     "text": [
      "Fit did not converge\n"
     ]
    },
    {
     "name": "stderr",
     "output_type": "stream",
     "text": [
      "\r",
      " 36%|███▌      | 36/100 [00:32<00:58,  1.10it/s]"
     ]
    },
    {
     "name": "stdout",
     "output_type": "stream",
     "text": [
      "Fit did not converge\n"
     ]
    },
    {
     "name": "stderr",
     "output_type": "stream",
     "text": [
      "\r",
      " 37%|███▋      | 37/100 [00:33<00:55,  1.13it/s]"
     ]
    },
    {
     "name": "stdout",
     "output_type": "stream",
     "text": [
      "Fit did not converge\n"
     ]
    },
    {
     "name": "stderr",
     "output_type": "stream",
     "text": [
      " 40%|████      | 40/100 [00:35<00:50,  1.19it/s]"
     ]
    },
    {
     "name": "stdout",
     "output_type": "stream",
     "text": [
      "Fit did not converge\n"
     ]
    },
    {
     "name": "stderr",
     "output_type": "stream",
     "text": [
      "\r",
      " 41%|████      | 41/100 [00:36<00:49,  1.20it/s]"
     ]
    },
    {
     "name": "stdout",
     "output_type": "stream",
     "text": [
      "Fit did not converge\n"
     ]
    },
    {
     "name": "stderr",
     "output_type": "stream",
     "text": [
      " 43%|████▎     | 43/100 [00:38<00:47,  1.21it/s]"
     ]
    },
    {
     "name": "stdout",
     "output_type": "stream",
     "text": [
      "Fit did not converge\n"
     ]
    },
    {
     "name": "stderr",
     "output_type": "stream",
     "text": [
      " 46%|████▌     | 46/100 [00:40<00:44,  1.21it/s]"
     ]
    },
    {
     "name": "stdout",
     "output_type": "stream",
     "text": [
      "Fit did not converge\n"
     ]
    },
    {
     "name": "stderr",
     "output_type": "stream",
     "text": [
      " 48%|████▊     | 48/100 [00:42<00:42,  1.22it/s]"
     ]
    },
    {
     "name": "stdout",
     "output_type": "stream",
     "text": [
      "Fit did not converge\n"
     ]
    },
    {
     "name": "stderr",
     "output_type": "stream",
     "text": [
      "\r",
      " 49%|████▉     | 49/100 [00:42<00:41,  1.22it/s]"
     ]
    },
    {
     "name": "stdout",
     "output_type": "stream",
     "text": [
      "Fit did not converge\n"
     ]
    },
    {
     "name": "stderr",
     "output_type": "stream",
     "text": [
      " 51%|█████     | 51/100 [00:44<00:43,  1.13it/s]"
     ]
    },
    {
     "name": "stdout",
     "output_type": "stream",
     "text": [
      "Fit did not converge\n"
     ]
    },
    {
     "name": "stderr",
     "output_type": "stream",
     "text": [
      "\r",
      " 52%|█████▏    | 52/100 [00:45<00:41,  1.16it/s]"
     ]
    },
    {
     "name": "stdout",
     "output_type": "stream",
     "text": [
      "Fit did not converge\n"
     ]
    },
    {
     "name": "stderr",
     "output_type": "stream",
     "text": [
      "\r",
      " 53%|█████▎    | 53/100 [00:46<00:40,  1.17it/s]"
     ]
    },
    {
     "name": "stdout",
     "output_type": "stream",
     "text": [
      "Fit did not converge\n"
     ]
    },
    {
     "name": "stderr",
     "output_type": "stream",
     "text": [
      "\r",
      " 54%|█████▍    | 54/100 [00:47<00:41,  1.10it/s]"
     ]
    },
    {
     "name": "stdout",
     "output_type": "stream",
     "text": [
      "Fit did not converge\n"
     ]
    },
    {
     "name": "stderr",
     "output_type": "stream",
     "text": [
      "\r",
      " 55%|█████▌    | 55/100 [00:48<00:42,  1.06it/s]"
     ]
    },
    {
     "name": "stdout",
     "output_type": "stream",
     "text": [
      "Fit did not converge\n"
     ]
    },
    {
     "name": "stderr",
     "output_type": "stream",
     "text": [
      " 58%|█████▊    | 58/100 [00:51<00:38,  1.08it/s]"
     ]
    },
    {
     "name": "stdout",
     "output_type": "stream",
     "text": [
      "Fit did not converge\n"
     ]
    },
    {
     "name": "stderr",
     "output_type": "stream",
     "text": [
      " 60%|██████    | 60/100 [00:53<00:37,  1.07it/s]"
     ]
    },
    {
     "name": "stdout",
     "output_type": "stream",
     "text": [
      "Fit did not converge\n"
     ]
    },
    {
     "name": "stderr",
     "output_type": "stream",
     "text": [
      "\r",
      " 61%|██████    | 61/100 [00:54<00:38,  1.02it/s]"
     ]
    },
    {
     "name": "stdout",
     "output_type": "stream",
     "text": [
      "Fit did not converge\n"
     ]
    },
    {
     "name": "stderr",
     "output_type": "stream",
     "text": [
      " 63%|██████▎   | 63/100 [00:55<00:33,  1.12it/s]"
     ]
    },
    {
     "name": "stdout",
     "output_type": "stream",
     "text": [
      "Fit did not converge\n"
     ]
    },
    {
     "name": "stderr",
     "output_type": "stream",
     "text": [
      "\r",
      " 64%|██████▍   | 64/100 [00:56<00:31,  1.15it/s]"
     ]
    },
    {
     "name": "stdout",
     "output_type": "stream",
     "text": [
      "Fit did not converge\n"
     ]
    },
    {
     "name": "stderr",
     "output_type": "stream",
     "text": [
      "\r",
      " 65%|██████▌   | 65/100 [00:57<00:29,  1.18it/s]"
     ]
    },
    {
     "name": "stdout",
     "output_type": "stream",
     "text": [
      "Fit did not converge\n"
     ]
    },
    {
     "name": "stderr",
     "output_type": "stream",
     "text": [
      "\r",
      " 66%|██████▌   | 66/100 [00:58<00:31,  1.08it/s]"
     ]
    },
    {
     "name": "stdout",
     "output_type": "stream",
     "text": [
      "Fit did not converge\n"
     ]
    },
    {
     "name": "stderr",
     "output_type": "stream",
     "text": [
      "\r",
      " 67%|██████▋   | 67/100 [00:59<00:31,  1.05it/s]"
     ]
    },
    {
     "name": "stdout",
     "output_type": "stream",
     "text": [
      "Fit did not converge\n"
     ]
    },
    {
     "name": "stderr",
     "output_type": "stream",
     "text": [
      "\r",
      " 68%|██████▊   | 68/100 [01:00<00:31,  1.03it/s]"
     ]
    },
    {
     "name": "stdout",
     "output_type": "stream",
     "text": [
      "Fit did not converge\n"
     ]
    },
    {
     "name": "stderr",
     "output_type": "stream",
     "text": [
      " 70%|███████   | 70/100 [01:02<00:28,  1.05it/s]"
     ]
    },
    {
     "name": "stdout",
     "output_type": "stream",
     "text": [
      "Fit did not converge\n"
     ]
    },
    {
     "name": "stderr",
     "output_type": "stream",
     "text": [
      "\r",
      " 71%|███████   | 71/100 [01:03<00:28,  1.02it/s]"
     ]
    },
    {
     "name": "stdout",
     "output_type": "stream",
     "text": [
      "Fit did not converge\n"
     ]
    },
    {
     "name": "stderr",
     "output_type": "stream",
     "text": [
      " 74%|███████▍  | 74/100 [01:05<00:22,  1.15it/s]"
     ]
    },
    {
     "name": "stdout",
     "output_type": "stream",
     "text": [
      "Fit did not converge\n"
     ]
    },
    {
     "name": "stderr",
     "output_type": "stream",
     "text": [
      "\r",
      " 75%|███████▌  | 75/100 [01:06<00:21,  1.18it/s]"
     ]
    },
    {
     "name": "stdout",
     "output_type": "stream",
     "text": [
      "Fit did not converge\n"
     ]
    },
    {
     "name": "stderr",
     "output_type": "stream",
     "text": [
      " 77%|███████▋  | 77/100 [01:08<00:19,  1.20it/s]"
     ]
    },
    {
     "name": "stdout",
     "output_type": "stream",
     "text": [
      "Fit did not converge\n"
     ]
    },
    {
     "name": "stderr",
     "output_type": "stream",
     "text": [
      "\r",
      " 78%|███████▊  | 78/100 [01:09<00:19,  1.13it/s]"
     ]
    },
    {
     "name": "stdout",
     "output_type": "stream",
     "text": [
      "Fit did not converge\n"
     ]
    },
    {
     "name": "stderr",
     "output_type": "stream",
     "text": [
      "\r",
      " 79%|███████▉  | 79/100 [01:10<00:18,  1.15it/s]"
     ]
    },
    {
     "name": "stdout",
     "output_type": "stream",
     "text": [
      "Fit did not converge\n"
     ]
    },
    {
     "name": "stderr",
     "output_type": "stream",
     "text": [
      " 82%|████████▏ | 82/100 [01:12<00:16,  1.11it/s]"
     ]
    },
    {
     "name": "stdout",
     "output_type": "stream",
     "text": [
      "Fit did not converge\n"
     ]
    },
    {
     "name": "stderr",
     "output_type": "stream",
     "text": [
      "\r",
      " 83%|████████▎ | 83/100 [01:13<00:16,  1.04it/s]"
     ]
    },
    {
     "name": "stdout",
     "output_type": "stream",
     "text": [
      "Fit did not converge\n"
     ]
    },
    {
     "name": "stderr",
     "output_type": "stream",
     "text": [
      " 85%|████████▌ | 85/100 [01:15<00:13,  1.11it/s]"
     ]
    },
    {
     "name": "stdout",
     "output_type": "stream",
     "text": [
      "Fit did not converge\n"
     ]
    },
    {
     "name": "stderr",
     "output_type": "stream",
     "text": [
      "\r",
      " 86%|████████▌ | 86/100 [01:16<00:12,  1.12it/s]"
     ]
    },
    {
     "name": "stdout",
     "output_type": "stream",
     "text": [
      "Fit did not converge\n"
     ]
    },
    {
     "name": "stderr",
     "output_type": "stream",
     "text": [
      " 88%|████████▊ | 88/100 [01:18<00:10,  1.16it/s]"
     ]
    },
    {
     "name": "stdout",
     "output_type": "stream",
     "text": [
      "Fit did not converge\n"
     ]
    },
    {
     "name": "stderr",
     "output_type": "stream",
     "text": [
      "\r",
      " 89%|████████▉ | 89/100 [01:18<00:09,  1.17it/s]"
     ]
    },
    {
     "name": "stdout",
     "output_type": "stream",
     "text": [
      "Fit did not converge\n"
     ]
    },
    {
     "name": "stderr",
     "output_type": "stream",
     "text": [
      " 91%|█████████ | 91/100 [01:20<00:08,  1.10it/s]"
     ]
    },
    {
     "name": "stdout",
     "output_type": "stream",
     "text": [
      "Fit did not converge\n"
     ]
    },
    {
     "name": "stderr",
     "output_type": "stream",
     "text": [
      " 94%|█████████▍| 94/100 [01:23<00:05,  1.16it/s]"
     ]
    },
    {
     "name": "stdout",
     "output_type": "stream",
     "text": [
      "Fit did not converge\n"
     ]
    },
    {
     "name": "stderr",
     "output_type": "stream",
     "text": [
      "\r",
      " 95%|█████████▌| 95/100 [01:24<00:04,  1.18it/s]"
     ]
    },
    {
     "name": "stdout",
     "output_type": "stream",
     "text": [
      "Fit did not converge\n"
     ]
    },
    {
     "name": "stderr",
     "output_type": "stream",
     "text": [
      " 97%|█████████▋| 97/100 [01:25<00:02,  1.19it/s]"
     ]
    },
    {
     "name": "stdout",
     "output_type": "stream",
     "text": [
      "Fit did not converge\n"
     ]
    },
    {
     "name": "stderr",
     "output_type": "stream",
     "text": [
      "\r",
      " 98%|█████████▊| 98/100 [01:26<00:01,  1.19it/s]"
     ]
    },
    {
     "name": "stdout",
     "output_type": "stream",
     "text": [
      "Fit did not converge\n"
     ]
    },
    {
     "name": "stderr",
     "output_type": "stream",
     "text": [
      "100%|██████████| 100/100 [01:28<00:00,  1.10it/s]"
     ]
    },
    {
     "name": "stdout",
     "output_type": "stream",
     "text": [
      "Fit did not converge\n",
      "3583734848.3163433 905999053142.5637 389.4826556627184 0.739704905621507\n"
     ]
    },
    {
     "name": "stderr",
     "output_type": "stream",
     "text": [
      "\n"
     ]
    }
   ],
   "source": [
    "#y_width_qpd,y_width_qpd_err,y_mean_qpd,y_chi2_qpd,x_fits_qpd =  extract_waist_data(df_y,up_or_low=\"low\",axis=\"Y\",detector=\"QPD\",avg_rng=1,sub_sample=False,plot=False,logscale=False,save=False)\n",
    "y_width_qpd,y_width_qpd_err,y_mean_qpd,y_chi2_qpd,x_fits_qpd =  extract_waist_data(df_y,up_or_low=\"low\",axis=\"X\",detector=\"QPD\",avg_rng=5,sub_sample=False,plot=False,logscale=False,save=False)"
   ]
  },
  {
   "cell_type": "code",
   "execution_count": 52,
   "metadata": {},
   "outputs": [
    {
     "data": {
      "image/png": "[encoded data removed]",
      "text/plain": [
       "<Figure size 1152x864 with 2 Axes>"
      ]
     },
     "metadata": {
      "needs_background": "light"
     },
     "output_type": "display_data"
    }
   ],
   "source": [
    "x = make_x_axis_for_beam_profile(df_y)\n",
    "# Create two subplots and unpack the output array immediately\n",
    "f, (ax1, ax2) = plt.subplots(2,1,sharex=True)\n",
    "ax1.set_title(\"qpd,y\")\n",
    "ax1.errorbar(x, y_width_qpd,y_width_qpd_err,linestyle=\"\",marker=\"*\")\n",
    "ax1.set_ylabel(\"$\\omega$ [um]\")\n",
    "ax2.scatter(x, y_chi2_qpd)\n",
    "ax2.set_ylabel(\"red chi$^2$\")\n",
    "plt.show()\n",
    "\n"
   ]
  },
  {
   "cell_type": "code",
   "execution_count": 53,
   "metadata": {},
   "outputs": [
    {
     "name": "stdout",
     "output_type": "stream",
     "text": [
      "The fit parameters for spin,x are determined as:\n",
      "z = 21.714 +/- 0.000\n",
      "w = 3.037 +/- 0.000\n",
      "The reduced chi2 is at: 27107342\n",
      "The fit parameters for spin,y are determined as:\n",
      "z = 11.087 +/- 0.000\n",
      "w = 0.088 +/- 0.000\n",
      "The reduced chi2 is at: 423544359414360576\n",
      "The fit parameters for qpd,x are determined as:\n",
      "z = 2.198 +/- 0.000\n",
      "w = 4.015 +/- 0.000\n",
      "The reduced chi2 is at: 68376563\n",
      "The fit parameters for qpd,y are determined as:\n",
      "z = 68.093 +/- 0.000\n",
      "w = 3.378 +/- 0.000\n",
      "The reduced chi2 is at: 6331127327699\n"
     ]
    }
   ],
   "source": [
    "data_list = [x_width_spin,y_width_spin,x_width_qpd,y_width_qpd]\n",
    "error_list = [x_width_spin_err,y_width_spin_err,x_width_qpd_err,y_width_qpd_err]\n",
    "name_list = [\"spin,x\",\"spin,y\",\"qpd,x\",\"qpd,y\"]\n",
    "omega_list = []\n",
    "focus_list = []\n",
    "\n",
    "def beam_width(x,params=list,wave_length=1.064):\n",
    "    #defines the beam width using 1064 nm laser\n",
    "    return params[0]*np.sqrt(1+((x-params[1])/(np.pi*params[0]*params[0]/wave_length))**2)\n",
    "\n",
    "#def beam_width(x,params=list,wave_length=1.064):\n",
    "#    # akio\n",
    "#    return params[0]*np.sqrt(1+1.064*1.064*(x-params[1])*(x-params[1])/(np.pi*np.pi*params[0]*params[0]*params[0]*params[0]))\n",
    "\n",
    "\n",
    "i=0\n",
    "for data in data_list:\n",
    "    i+=1\n",
    "    def chisquare_beam_width(z,w):\n",
    "        return chisquare_1d(function=beam_width,functionparams=[w,z],data_x=data_x,data_y=data_y,data_y_error=data_y_error)[0]\n",
    "\n",
    "    if(i==1 or i==3):data_x = np.asarray(make_x_axis_for_beam_profile(df_x))#np.arange(0,len(data),1)\n",
    "    if(i==2 or i==4):data_x = np.asarray(make_x_axis_for_beam_profile(df_y))#np.arange(0,len(data),1)\n",
    "    data_x = data_x\n",
    "    data_y = data\n",
    "    data_y_error = error_list[i-1]\n",
    "\n",
    "    #least_squares = LeastSquares(data_x, data_y, data_y_error, beam_width)\n",
    "    m = Minuit(chisquare_beam_width, z=50, w=5,pedantic=False)  # we need starting values for a and b\n",
    "    \n",
    "    m.migrad(ncall=50000) # finds minimum of least_squares function\n",
    "    print(\"The fit parameters for %s are determined as:\" %name_list[i-1])\n",
    "    for p in m.parameters:\n",
    "        print(\"{} = {:.3f} +/- {:.3f}\".format(p, m.values[p], m.errors[p]))\n",
    "    print(\"The reduced chi2 is at: %d\"  %(m.fval/(len(data)-2)))    \n",
    "    omega_list.append(m.values[\"w\"])\n",
    "    focus_list.append(m.values[\"z\"])\n",
    "\n",
    "\n"
   ]
  },
  {
   "cell_type": "code",
   "execution_count": 56,
   "metadata": {},
   "outputs": [],
   "source": [
    "%%capture cap   \n",
    "\n",
    "for p in m.parameters:\n",
    "    print(\"{} = {:.3f} +/- {:.3f}\".format(p, m.values[p], m.errors[p]))\n",
    "print(\"The reduced chi2 is at: %d\"  %(m.fval/(len(data)-2)))    \n",
    "omega_list.append(m.values[\"w\"])\n",
    "focus_list.append(m.values[\"z\"])\n",
    "\n",
    "with open(folder2+fname_x+\"_\" + fname_y +'_waist_fit_parameters.txt', 'w') as out:\n",
    "    out.write(cap.stdout)"
   ]
  },
  {
   "cell_type": "code",
   "execution_count": 58,
   "metadata": {},
   "outputs": [
    {
     "ename": "TypeError",
     "evalue": "unsupported operand type(s) for -: 'list' and 'float'",
     "output_type": "error",
     "traceback": [
      "\u001b[0;31m---------------------------------------------------------------------------\u001b[0m",
      "\u001b[0;31mTypeError\u001b[0m                                 Traceback (most recent call last)",
      "\u001b[0;32m<ipython-input-58-6aaa1cc15728>\u001b[0m in \u001b[0;36m<module>\u001b[0;34m\u001b[0m\n\u001b[1;32m     26\u001b[0m \u001b[0max4\u001b[0m\u001b[0;34m.\u001b[0m\u001b[0mset_title\u001b[0m\u001b[0;34m(\u001b[0m\u001b[0;34m\"qpd,y\"\u001b[0m\u001b[0;34m)\u001b[0m\u001b[0;34m\u001b[0m\u001b[0;34m\u001b[0m\u001b[0m\n\u001b[1;32m     27\u001b[0m \u001b[0max4\u001b[0m\u001b[0;34m.\u001b[0m\u001b[0mscatter\u001b[0m\u001b[0;34m(\u001b[0m\u001b[0mmake_x_axis_for_beam_profile\u001b[0m\u001b[0;34m(\u001b[0m\u001b[0mdf_y\u001b[0m\u001b[0;34m)\u001b[0m\u001b[0;34m,\u001b[0m \u001b[0my_width_qpd\u001b[0m\u001b[0;34m)\u001b[0m\u001b[0;34m\u001b[0m\u001b[0;34m\u001b[0m\u001b[0m\n\u001b[0;32m---> 28\u001b[0;31m \u001b[0max4\u001b[0m\u001b[0;34m.\u001b[0m\u001b[0mplot\u001b[0m\u001b[0;34m(\u001b[0m\u001b[0mmake_x_axis_for_beam_profile\u001b[0m\u001b[0;34m(\u001b[0m\u001b[0mdf_y\u001b[0m\u001b[0;34m)\u001b[0m\u001b[0;34m,\u001b[0m \u001b[0mbeam_width\u001b[0m\u001b[0;34m(\u001b[0m\u001b[0mmake_x_axis_for_beam_profile\u001b[0m\u001b[0;34m(\u001b[0m\u001b[0mdf_y\u001b[0m\u001b[0;34m)\u001b[0m\u001b[0;34m,\u001b[0m\u001b[0;34m[\u001b[0m\u001b[0momega_list\u001b[0m\u001b[0;34m[\u001b[0m\u001b[0;36m3\u001b[0m\u001b[0;34m]\u001b[0m\u001b[0;34m,\u001b[0m\u001b[0mfocus_list\u001b[0m\u001b[0;34m[\u001b[0m\u001b[0;36m3\u001b[0m\u001b[0;34m]\u001b[0m\u001b[0;34m]\u001b[0m\u001b[0;34m)\u001b[0m\u001b[0;34m,\u001b[0m\u001b[0mcolor\u001b[0m\u001b[0;34m=\u001b[0m\u001b[0;34m\"red\"\u001b[0m\u001b[0;34m)\u001b[0m\u001b[0;34m\u001b[0m\u001b[0;34m\u001b[0m\u001b[0m\n\u001b[0m\u001b[1;32m     29\u001b[0m \u001b[0max4\u001b[0m\u001b[0;34m.\u001b[0m\u001b[0mset_xlabel\u001b[0m\u001b[0;34m(\u001b[0m\u001b[0;34m\"height [um]\"\u001b[0m\u001b[0;34m)\u001b[0m\u001b[0;34m\u001b[0m\u001b[0;34m\u001b[0m\u001b[0m\n\u001b[1;32m     30\u001b[0m \u001b[0;34m\u001b[0m\u001b[0m\n",
      "\u001b[0;32m<ipython-input-53-677e1c57e724>\u001b[0m in \u001b[0;36mbeam_width\u001b[0;34m(x, params, wave_length)\u001b[0m\n\u001b[1;32m      7\u001b[0m \u001b[0;32mdef\u001b[0m \u001b[0mbeam_width\u001b[0m\u001b[0;34m(\u001b[0m\u001b[0mx\u001b[0m\u001b[0;34m,\u001b[0m\u001b[0mparams\u001b[0m\u001b[0;34m=\u001b[0m\u001b[0mlist\u001b[0m\u001b[0;34m,\u001b[0m\u001b[0mwave_length\u001b[0m\u001b[0;34m=\u001b[0m\u001b[0;36m1.064\u001b[0m\u001b[0;34m)\u001b[0m\u001b[0;34m:\u001b[0m\u001b[0;34m\u001b[0m\u001b[0;34m\u001b[0m\u001b[0m\n\u001b[1;32m      8\u001b[0m     \u001b[0;31m#defines the beam width using 1064 nm laser\u001b[0m\u001b[0;34m\u001b[0m\u001b[0;34m\u001b[0m\u001b[0;34m\u001b[0m\u001b[0m\n\u001b[0;32m----> 9\u001b[0;31m     \u001b[0;32mreturn\u001b[0m \u001b[0mparams\u001b[0m\u001b[0;34m[\u001b[0m\u001b[0;36m0\u001b[0m\u001b[0;34m]\u001b[0m\u001b[0;34m*\u001b[0m\u001b[0mnp\u001b[0m\u001b[0;34m.\u001b[0m\u001b[0msqrt\u001b[0m\u001b[0;34m(\u001b[0m\u001b[0;36m1\u001b[0m\u001b[0;34m+\u001b[0m\u001b[0;34m(\u001b[0m\u001b[0;34m(\u001b[0m\u001b[0mx\u001b[0m\u001b[0;34m-\u001b[0m\u001b[0mparams\u001b[0m\u001b[0;34m[\u001b[0m\u001b[0;36m1\u001b[0m\u001b[0;34m]\u001b[0m\u001b[0;34m)\u001b[0m\u001b[0;34m/\u001b[0m\u001b[0;34m(\u001b[0m\u001b[0mnp\u001b[0m\u001b[0;34m.\u001b[0m\u001b[0mpi\u001b[0m\u001b[0;34m*\u001b[0m\u001b[0mparams\u001b[0m\u001b[0;34m[\u001b[0m\u001b[0;36m0\u001b[0m\u001b[0;34m]\u001b[0m\u001b[0;34m*\u001b[0m\u001b[0mparams\u001b[0m\u001b[0;34m[\u001b[0m\u001b[0;36m0\u001b[0m\u001b[0;34m]\u001b[0m\u001b[0;34m/\u001b[0m\u001b[0mwave_length\u001b[0m\u001b[0;34m)\u001b[0m\u001b[0;34m)\u001b[0m\u001b[0;34m**\u001b[0m\u001b[0;36m2\u001b[0m\u001b[0;34m)\u001b[0m\u001b[0;34m\u001b[0m\u001b[0;34m\u001b[0m\u001b[0m\n\u001b[0m\u001b[1;32m     10\u001b[0m \u001b[0;34m\u001b[0m\u001b[0m\n\u001b[1;32m     11\u001b[0m \u001b[0;31m#def beam_width(x,params=list,wave_length=1.064):\u001b[0m\u001b[0;34m\u001b[0m\u001b[0;34m\u001b[0m\u001b[0;34m\u001b[0m\u001b[0m\n",
      "\u001b[0;31mTypeError\u001b[0m: unsupported operand type(s) for -: 'list' and 'float'"
     ]
    },
    {
     "data": {
      "image/png": "[encoded data removed]",
      "text/plain": [
       "<Figure size 1152x864 with 4 Axes>"
      ]
     },
     "metadata": {
      "needs_background": "light"
     },
     "output_type": "display_data"
    }
   ],
   "source": [
    "date=  Year + Month + Day  \n",
    "fig, ((ax1, ax2), (ax3, ax4)) = plt.subplots(2, 2,sharey=)\n",
    "fig.suptitle(\"%s,%s from %s\" %(fname_x,fname_y,date))\n",
    "\n",
    "x = np.asarray(make_x_axis_for_beam_profile(df_x))\n",
    "ax1.set_title(\"spin,x\")\n",
    "ax1.scatter(x, x_width_spin)\n",
    "ax1.plot(x, beam_width(x,[omega_list[0],focus_list[0]]),color=\"red\")\n",
    "#ax1.axvline(focus_list[0])\n",
    "\n",
    "ax1.set_ylabel(\"$\\omega$ [um]\")\n",
    "\n",
    "ax2.set_title(\"spin,y\")\n",
    "ax2.scatter(make_x_axis_for_beam_profile(df_y), y_width_spin)\n",
    "ax2.plot(x, beam_width(x,[omega_list[1],focus_list[1]]),color=\"red\")\n",
    "#ax2.axvline(focus_list[1])\n",
    "\n",
    "\n",
    "ax3.set_title(\"qpd,x\")\n",
    "ax3.scatter(x, x_width_qpd)\n",
    "ax3.set_ylabel(\"$\\omega$ [um]\")\n",
    "ax3.plot(x, beam_width(x,[omega_list[2],focus_list[2]]),color=\"red\")\n",
    "ax3.set_xlabel(\"height [um]\")\n",
    "\n",
    "\n",
    "ax4.set_title(\"qpd,y\")\n",
    "ax4.scatter(make_x_axis_for_beam_profile(df_y), y_width_qpd)\n",
    "ax4.plot(make_x_axis_for_beam_profile(df_y), beam_width(make_x_axis_for_beam_profile(df_y),[omega_list[3],focus_list[3]]),color=\"red\")\n",
    "ax4.set_xlabel(\"height [um]\")\n",
    "\n",
    "plt.savefig(folder+\"\"+fname_x+\"_\"+fname_y+\"_waist_fit.png\",dpi=300)\n",
    "plt.show()"
   ]
  },
  {
   "cell_type": "code",
   "execution_count": 60,
   "metadata": {},
   "outputs": [
    {
     "data": {
      "text/plain": [
       "378.4958361125907"
      ]
     },
     "execution_count": 60,
     "metadata": {},
     "output_type": "execute_result"
    }
   ],
   "source": [
    "np.mean(x_mean_spin[20:23])"
   ]
  },
  {
   "cell_type": "code",
   "execution_count": null,
   "metadata": {},
   "outputs": [],
   "source": [
    "date=  Year + Month + Day  \n",
    "fig, ((ax1, ax2), (ax3, ax4)) = plt.subplots(2, 2,sharey=False)\n",
    "fig.suptitle(\"%s,%s from %s\" %(fname_x,fname_y,date))\n",
    "\n",
    "x_x = np.asarray(make_x_axis_for_beam_profile(df_x))\n",
    "x_y = np.asarray(make_x_axis_for_beam_profile(df_y))\n",
    "\n",
    "ax1.set_title(\"spin,x\")\n",
    "ax1.scatter(x_x, x_mean_spin)\n",
    "ax1.set_ylabel(\"position [um]\")\n",
    "\n",
    "ax2.set_title(\"spin,y\")\n",
    "ax2.scatter(x_y, y_mean_spin)\n",
    "\n",
    "\n",
    "ax3.set_title(\"qpd,x\")\n",
    "ax3.scatter(x_x, x_mean_qpd)\n",
    "ax3.set_ylabel(\"position [um]\")\n",
    "ax3.set_xlabel(\"height [um]\")\n",
    "\n",
    "\n",
    "ax4.set_title(\"qpd,y\")\n",
    "ax4.scatter(x_y, y_mean_qpd)\n",
    "ax4.set_xlabel(\"height [um]\")\n",
    "\n",
    "\n",
    "plt.show()"
   ]
  },
  {
   "cell_type": "code",
   "execution_count": null,
   "metadata": {},
   "outputs": [],
   "source": []
  },
  {
   "cell_type": "code",
   "execution_count": null,
   "metadata": {},
   "outputs": [],
   "source": []
  },
  {
   "cell_type": "code",
   "execution_count": null,
   "metadata": {},
   "outputs": [],
   "source": []
  },
  {
   "cell_type": "code",
   "execution_count": null,
   "metadata": {},
   "outputs": [],
   "source": []
  },
  {
   "cell_type": "code",
   "execution_count": 136,
   "metadata": {},
   "outputs": [],
   "source": []
  },
  {
   "cell_type": "code",
   "execution_count": 137,
   "metadata": {},
   "outputs": [],
   "source": []
  },
  {
   "cell_type": "code",
   "execution_count": 85,
   "metadata": {},
   "outputs": [
    {
     "name": "stdout",
     "output_type": "stream",
     "text": [
      "The fit parameters for spin,x are determined as:\n",
      "z = 54.986 +/- 39.222\n",
      "w = 7.127 +/- 0.305\n",
      "The reduced chi2 is at: 0\n",
      "The fit parameters for spin,y are determined as:\n",
      "z = 54.986 +/- 39.222\n",
      "w = 7.127 +/- 0.305\n",
      "The reduced chi2 is at: 0\n",
      "The fit parameters for qpd,x are determined as:\n",
      "z = 54.986 +/- 39.222\n",
      "w = 7.127 +/- 0.305\n",
      "The reduced chi2 is at: 0\n",
      "The fit parameters for qpd,y are determined as:\n",
      "z = 54.986 +/- 39.222\n",
      "w = 7.127 +/- 0.305\n",
      "The reduced chi2 is at: 0\n"
     ]
    }
   ],
   "source": [
    "data_list = [r[0],r[0],r[0],r[0]]\n",
    "error_list = [np.sqrt(r[0]),np.sqrt(r[0]),np.sqrt(r[0]),np.sqrt(r[0])]\n",
    "name_list = [\"spin,x\",\"spin,y\",\"qpd,x\",\"qpd,y\"]\n",
    "omega_list = []\n",
    "focus_list = []\n",
    "\n",
    "def beam_width(x,params=list,wave_length=1.064):\n",
    "    #defines the beam width using 1064 nm laser\n",
    "    return params[0]*np.sqrt(1+((x-params[1])/(np.pi*params[0]*params[0]/wave_length))**2)\n",
    "\n",
    "#def beam_width(x,params=list,wave_length=1.064):\n",
    "#    # akio\n",
    "#    return params[0]*np.sqrt(1+1.064*1.064*(x-params[1])*(x-params[1])/(np.pi*np.pi*params[0]*params[0]*params[0]*params[0]))\n",
    "\n",
    "\n",
    "i=0\n",
    "for data in data_list:\n",
    "    i+=1\n",
    "    def chisquare_beam_width(z,w):\n",
    "        return chisquare_1d(function=beam_width,functionparams=[w,z],data_x=data_x,data_y=data_y,data_y_error=data_y_error)[0]\n",
    "\n",
    "    data_x = np.asarray(make_x_axis_for_beam_profile(df_x))#np.arange(0,len(data),1)\n",
    "    data_y = data\n",
    "    data_y_error = error_list[i-1]\n",
    "\n",
    "    #least_squares = LeastSquares(data_x, data_y, data_y_error, beam_width)\n",
    "    m = Minuit(chisquare_beam_width, z=50, w=5,pedantic=False)  # we need starting values for a and b\n",
    "    \n",
    "    m.migrad(ncall=50000) # finds minimum of least_squares function\n",
    "    print(\"The fit parameters for %s are determined as:\" %name_list[i-1])\n",
    "    for p in m.parameters:\n",
    "        print(\"{} = {:.3f} +/- {:.3f}\".format(p, m.values[p], m.errors[p]))\n",
    "    print(\"The reduced chi2 is at: %d\"  %(m.fval/(len(data)-2)))    \n",
    "    omega_list.append(m.values[\"w\"])\n",
    "    focus_list.append(m.values[\"z\"])\n",
    "\n",
    "\n"
   ]
  },
  {
   "cell_type": "code",
   "execution_count": 87,
   "metadata": {},
   "outputs": [
    {
     "ename": "NameError",
     "evalue": "name 'y_width_spin' is not defined",
     "output_type": "error",
     "traceback": [
      "\u001b[0;31m---------------------------------------------------------------------------\u001b[0m",
      "\u001b[0;31mNameError\u001b[0m                                 Traceback (most recent call last)",
      "\u001b[0;32m<ipython-input-87-c1748e3916f3>\u001b[0m in \u001b[0;36m<module>\u001b[0;34m\u001b[0m\n\u001b[1;32m     14\u001b[0m \u001b[0;34m\u001b[0m\u001b[0m\n\u001b[1;32m     15\u001b[0m \u001b[0max2\u001b[0m\u001b[0;34m.\u001b[0m\u001b[0mset_title\u001b[0m\u001b[0;34m(\u001b[0m\u001b[0;34m\"spin,y\"\u001b[0m\u001b[0;34m)\u001b[0m\u001b[0;34m\u001b[0m\u001b[0;34m\u001b[0m\u001b[0m\n\u001b[0;32m---> 16\u001b[0;31m \u001b[0max2\u001b[0m\u001b[0;34m.\u001b[0m\u001b[0mscatter\u001b[0m\u001b[0;34m(\u001b[0m\u001b[0mx\u001b[0m\u001b[0;34m,\u001b[0m \u001b[0my_width_spin\u001b[0m\u001b[0;34m)\u001b[0m\u001b[0;34m\u001b[0m\u001b[0;34m\u001b[0m\u001b[0m\n\u001b[0m\u001b[1;32m     17\u001b[0m \u001b[0max2\u001b[0m\u001b[0;34m.\u001b[0m\u001b[0mplot\u001b[0m\u001b[0;34m(\u001b[0m\u001b[0mx\u001b[0m\u001b[0;34m,\u001b[0m \u001b[0mbeam_width\u001b[0m\u001b[0;34m(\u001b[0m\u001b[0mx\u001b[0m\u001b[0;34m,\u001b[0m\u001b[0;34m[\u001b[0m\u001b[0momega_list\u001b[0m\u001b[0;34m[\u001b[0m\u001b[0;36m1\u001b[0m\u001b[0;34m]\u001b[0m\u001b[0;34m,\u001b[0m\u001b[0mfocus_list\u001b[0m\u001b[0;34m[\u001b[0m\u001b[0;36m1\u001b[0m\u001b[0;34m]\u001b[0m\u001b[0;34m]\u001b[0m\u001b[0;34m)\u001b[0m\u001b[0;34m,\u001b[0m\u001b[0mcolor\u001b[0m\u001b[0;34m=\u001b[0m\u001b[0;34m\"red\"\u001b[0m\u001b[0;34m)\u001b[0m\u001b[0;34m\u001b[0m\u001b[0;34m\u001b[0m\u001b[0m\n\u001b[1;32m     18\u001b[0m \u001b[0max2\u001b[0m\u001b[0;34m.\u001b[0m\u001b[0maxvline\u001b[0m\u001b[0;34m(\u001b[0m\u001b[0mfocus_list\u001b[0m\u001b[0;34m[\u001b[0m\u001b[0;36m1\u001b[0m\u001b[0;34m]\u001b[0m\u001b[0;34m)\u001b[0m\u001b[0;34m\u001b[0m\u001b[0;34m\u001b[0m\u001b[0m\n",
      "\u001b[0;31mNameError\u001b[0m: name 'y_width_spin' is not defined"
     ]
    },
    {
     "data": {
      "image/png": "[encoded data removed]",
      "text/plain": [
       "<Figure size 1152x864 with 4 Axes>"
      ]
     },
     "metadata": {
      "needs_background": "light"
     },
     "output_type": "display_data"
    }
   ],
   "source": [
    "date=  Year + Month + Day  \n",
    "fig, ((ax1, ax2), (ax3, ax4)) = plt.subplots(2, 2,sharey=True)\n",
    "fig.suptitle(\"%s,%s from %s\" %(fname_x,fname_y,date))\n",
    "\n",
    "x_width_spin=r[0]\n",
    "\n",
    "x = np.asarray(make_x_axis_for_beam_profile(df_x))\n",
    "ax1.set_title(\"spin,x\")\n",
    "ax1.scatter(x, x_width_spin)\n",
    "ax1.plot(x, beam_width(x,[omega_list[0],focus_list[0]]),color=\"red\")\n",
    "#ax1.axvline(focus_list[0])\n",
    "\n",
    "ax1.set_ylabel(\"$\\omega$ [um]\")\n",
    "\n",
    "ax2.set_title(\"spin,y\")\n",
    "ax2.scatter(x, y_width_spin)\n",
    "ax2.plot(x, beam_width(x,[omega_list[1],focus_list[1]]),color=\"red\")\n",
    "ax2.axvline(focus_list[1])\n",
    "\n",
    "\n",
    "ax3.set_title(\"qpd,x\")\n",
    "ax3.scatter(x, x_width_qpd)\n",
    "ax3.set_ylabel(\"$\\omega$ [um]\")\n",
    "ax3.plot(x, beam_width(x,[omega_list[2],focus_list[2]]),color=\"red\")\n",
    "ax3.set_xlabel(\"height [um]\")\n",
    "\n",
    "\n",
    "ax4.set_title(\"qpd,y\")\n",
    "ax4.scatter(x, y_width_qpd)\n",
    "ax4.plot(x, beam_width(x,[omega_list[3],focus_list[3]]),color=\"red\")\n",
    "ax4.set_xlabel(\"height [um]\")\n",
    "\n",
    "plt.savefig(folder+\"\"+fname_x+\"_\"+fname_y+\"_waist_fit.png\",dpi=300)\n",
    "plt.show()"
   ]
  },
  {
   "cell_type": "code",
   "execution_count": null,
   "metadata": {},
   "outputs": [],
   "source": [
    "def fit_dP_dX(df,axis=\"Y\",detector=\"SPIN\",avg_rng=10,sub_sample=False,plot=False,logscale=True,save=True):\n",
    "    # this fits a Gaussian to the dP/dx data using a data frame containting the differentiated signal\n",
    "    # you can use both spin and qpd\n",
    "    # the smoothing uses an exponentially weighted mean, with a setable range (10 is default)\n",
    "    # if you want to plot the results, set plot to true, in this case you might want to set sub_sample to True as well to not overload with plots\n",
    "    # logscale is nice to show non-gaussianity\n",
    "    \n",
    "    lower_range = 2100\n",
    "    upper_range= 2000\n",
    "        # average and fit\n",
    "    sigma_list,sigma_err_list,mean_list,chi2_list,fit_list = [[] for x in range(5)]\n",
    "    if(sub_sample==True):length=10\n",
    "    else: length=len(df)\n",
    "    for j in tqdm(np.arange(0,length,1)):\n",
    "        averaged_series = pd.Series(df[\"%s_SUM_diff\" %detector][j]).ewm(span=avg_rng,adjust=True).mean()\n",
    "        data_y = averaged_series[lower_range:-upper_range]/averaged_series.mean()#df[\"QPD_SUM_diff\"][0][1300:-1400] # give y data \n",
    "        if(np.sum(data_y)<0): data_y = -data_y\n",
    "        data_x = df[\"CANT_POS_%s_cal\" %axis][0][lower_range:-upper_range-1] # give x data\n",
    "        data_y_error = np.sqrt(np.abs(data_y)) # give y uncertainty\n",
    "\n",
    "        def chisquare_gaussian(area,mean,sigma,constant):\n",
    "            return chisquare_1d(function=gaussian3,functionparams=[area,mean,sigma,constant],data_x=data_x,data_y=data_y,data_y_error=data_y_error)[0]\n",
    "        maxy = np.array(data_x)[np.argmax(np.array(data_y))]\n",
    "        #print(maxy,np.sum(data_y))\n",
    "        #plt.plot(data_y)\n",
    "        m=Minuit(chisquare_gaussian, \n",
    "                 area = 5000, # set start parameter\n",
    "                 #limit_area= (np.sum(data_y)/200,np.sum(data_y)), # if you want to limit things\n",
    "                 #fix_area = \"False\", # you can also fix it\n",
    "                 mean = maxy,\n",
    "                 #fix_mean = \"True\",\n",
    "                 limit_mean = (maxy-20, maxy+20),\n",
    "                 sigma = 3.9,\n",
    "                 #limit_sigma=(1,4),\n",
    "                 #fix_sigma=\"True\",\n",
    "                 constant = 0,\n",
    "                 fix_constant=\"True\",\n",
    "                 errordef = 1,\n",
    "                 print_level=0,\n",
    "                 pedantic=False)\n",
    "        #print('Now proceed with the fit.')\n",
    "        m.migrad()\n",
    "        #print()\n",
    "        m.minos()#, if you need fancy mapping\n",
    "        chisquare=m.fval\n",
    "        #print(chisquare)\n",
    "        #print(m.values[\"area\"],m.values[\"mean\"],m.values[\"sigma\"],m.values[\"constant\"])\n",
    "        if(plot==True):\n",
    "            plt.plot(data_x,data_y)\n",
    "            plt.plot(data_x,gaussian(data_x,params=[m.values[\"area\"],m.values[\"mean\"],m.values[\"sigma\"],m.values[\"constant\"]]))\n",
    "            if(logscale==True):plt.yscale(\"log\")\n",
    "            plt.show()\n",
    "    \n",
    "        sigma_list.append(2*m.values[\"sigma\"])\n",
    "        sigma_err_list.append(2*m.errors[\"sigma\"])\n",
    "        mean_list.append(m.values[\"mean\"])\n",
    "        chi2_list.append(m.fval/(len(data_x)-3))\n",
    "        fit_list.append(m)\n",
    "        if(save==True):\n",
    "            if(axis==\"X\"):fname=fname_x\n",
    "            if(axis==\"Y\"):fname=fname_y\n",
    "            np.save(folder+fname+\"_sigma_list.npy\", sigma_list)\n",
    "            np.save(folder+fname+\"_mean_list.npy\", mean_list)\n",
    "            np.save(folder+fname+\"_chi2_list.npy\", chi2_list)\n",
    "        #print(np.sum(data_y),m.values[\"area\"],m.values[\"mean\"],m.values[\"sigma\"])\n",
    "    return sigma_list,sigma_err_list, mean_list, chi2_list,fit_list"
   ]
  },
  {
   "cell_type": "code",
   "execution_count": 223,
   "metadata": {},
   "outputs": [
    {
     "data": {
      "text/plain": [
       "[<matplotlib.lines.Line2D at 0x7f9f449a6588>]"
      ]
     },
     "execution_count": 223,
     "metadata": {},
     "output_type": "execute_result"
    },
    {
     "data": {
      "image/png": "[encoded data removed]",
      "text/plain": [
       "<Figure size 1152x864 with 1 Axes>"
      ]
     },
     "metadata": {
      "needs_background": "light"
     },
     "output_type": "display_data"
    }
   ],
   "source": [
    "factor = 240# 250 for all\n",
    "first_peak_list = []\n",
    "data_y = np.zeros(factor)\n",
    "data_y2 = np.zeros(factor)\n",
    "data_y_list = []\n",
    "i=0\n",
    "j=3\n",
    "for k in np.arange(150,740,factor):\n",
    "    i+=1\n",
    "    averaged_series = pd.Series(df_x[\"SPIN_SUM_diff\"][0]).ewm(span=1,adjust=True).mean()\n",
    "    data_y_temp = averaged_series[k:k+factor]/averaged_series.mean()#df[\"QPD_SUM_diff\"][0][1300:-1400] # give y data \n",
    "    if(np.sum(data_y_temp)<0): data_y_temp = -data_y_temp\n",
    "    if((i % 2) == 0):\n",
    "        #print(len(data_y_temp))\n",
    "        data_y = np.add(data_y,np.array(data_y_temp))\n",
    "        data_y_list.append(data_y)\n",
    "    else:\n",
    "        data_y2 = np.add(data_y2,np.array(data_y_temp))\n",
    "        \n",
    "plt.plot(data_y)\n",
    "plt.plot(data_y2)"
   ]
  },
  {
   "cell_type": "code",
   "execution_count": null,
   "metadata": {},
   "outputs": [],
   "source": [
    "avg_list = []\n",
    "avg_chi2_list = []\n",
    "chi2_list = []\n",
    "for j in np.arange(5,10,1):\n",
    "    data_y,data_y2,data_x,data_x2 = extract_in_out_movement(df_x,j,end=49850)\n",
    "    m2 = fit_dP_dx(data_x2,data_y2)\n",
    "    m = fit_dP_dx(data_x,data_y)\n",
    "\n",
    "    plt.plot(data_x,data_y)\n",
    "    plt.plot(data_x,gaussian(data_x,params=[m.values[\"area\"],m.values[\"mean\"],m.values[\"sigma\"],m.values[\"constant\"]]))\n",
    "\n",
    "        #if(logscale==True):plt.yscale(\"log\")\n",
    "    plt.show()\n",
    "    plt.plot(data_x2,data_y2)\n",
    "    plt.plot(data_x2,gaussian(data_x2,params=[m2.values[\"area\"],m2.values[\"mean\"],m2.values[\"sigma\"],m2.values[\"constant\"]]))\n",
    "    plt.show()\n",
    "    #sigma_list.append(m.values[\"sigma\"])\n",
    "    chi2_list.append(m2.fval)\n"
   ]
  },
  {
   "cell_type": "code",
   "execution_count": null,
   "metadata": {},
   "outputs": [],
   "source": []
  },
  {
   "cell_type": "code",
   "execution_count": null,
   "metadata": {},
   "outputs": [],
   "source": [
    "def fit_dP_dX(df,axis=\"Y\",detector=\"SPIN\",avg_rng=10,sub_sample=False,plot=False,logscale=True,save=True):\n",
    "    # this fits a Gaussian to the dP/dx data using a data frame containting the differentiated signal\n",
    "    # you can use both spin and qpd\n",
    "    # the smoothing uses an exponentially weighted mean, with a setable range (10 is default)\n",
    "    # if you want to plot the results, set plot to true, in this case you might want to set sub_sample to True as well to not overload with plots\n",
    "    # logscale is nice to show non-gaussianity\n",
    "    \n",
    "    lower_range = 2100\n",
    "    upper_range= 2000\n",
    "        # average and fit\n",
    "    sigma_list,sigma_err_list,mean_list,chi2_list,fit_list = [[] for x in range(5)]\n",
    "    if(sub_sample==True):length=10\n",
    "    else: length=len(df)\n",
    "    for j in tqdm(np.arange(0,length,1)):\n",
    "        averaged_series = pd.Series(df[\"%s_SUM_diff\" %detector][j]).ewm(span=avg_rng,adjust=True).mean()\n",
    "        data_y = averaged_series[lower_range:-upper_range]/averaged_series.mean()#df[\"QPD_SUM_diff\"][0][1300:-1400] # give y data \n",
    "        if(np.sum(data_y)<0): data_y = -data_y\n",
    "        data_x = df[\"CANT_POS_%s_cal\" %axis][0][lower_range:-upper_range-1] # give x data\n",
    "        data_y_error = np.sqrt(np.abs(data_y)) # give y uncertainty\n",
    "\n",
    "        def chisquare_gaussian(area,mean,sigma,constant):\n",
    "            return chisquare_1d(function=gaussian3,functionparams=[area,mean,sigma,constant],data_x=data_x,data_y=data_y,data_y_error=data_y_error)[0]\n",
    "        maxy = np.array(data_x)[np.argmax(np.array(data_y))]\n",
    "        #print(maxy,np.sum(data_y))\n",
    "        #plt.plot(data_y)\n",
    "        m=Minuit(chisquare_gaussian, \n",
    "                 area = 5000, # set start parameter\n",
    "                 #limit_area= (np.sum(data_y)/200,np.sum(data_y)), # if you want to limit things\n",
    "                 #fix_area = \"False\", # you can also fix it\n",
    "                 mean = maxy,\n",
    "                 #fix_mean = \"True\",\n",
    "                 limit_mean = (maxy-20, maxy+20),\n",
    "                 sigma = 3.9,\n",
    "                 #limit_sigma=(1,4),\n",
    "                 #fix_sigma=\"True\",\n",
    "                 constant = 0,\n",
    "                 fix_constant=\"True\",\n",
    "                 errordef = 1,\n",
    "                 print_level=0,\n",
    "                 pedantic=False)\n",
    "        #print('Now proceed with the fit.')\n",
    "        m.migrad()\n",
    "        #print()\n",
    "        m.minos()#, if you need fancy mapping\n",
    "        chisquare=m.fval\n",
    "        #print(chisquare)\n",
    "        #print(m.values[\"area\"],m.values[\"mean\"],m.values[\"sigma\"],m.values[\"constant\"])\n",
    "\n"
   ]
  },
  {
   "cell_type": "code",
   "execution_count": null,
   "metadata": {},
   "outputs": [],
   "source": [
    "lower_range = 2100\n",
    "upper_range= 2000\n",
    "avg_list = []\n",
    "avg_chi2_list = []\n",
    "for avg_rng in [1,2,4,10,20]:\n",
    "        # average and fit    \n",
    "    sigma_list,sigma_err_list,mean_list,chi2_list,fit_list = [[] for x in range(5)]\n",
    "    for j in np.arange(0,100,10):\n",
    "        averaged_series = pd.Series(df_x[\"SPIN_SUM_diff\"][j]).ewm(span=avg_rng,adjust=True).mean()\n",
    "        data_y = averaged_series[lower_range:-upper_range]#/averaged_series.mean()#df[\"QPD_SUM_diff\"][0][1300:-1400] # give y data \n",
    "        if(np.sum(data_y)<0): data_y = -data_y\n",
    "        data_x = df_x[\"CANT_POS_X_cal\"][0][lower_range:-upper_range-1] # give x data\n",
    "        data_y_error = np.sqrt(np.abs(data_y)) # give y uncertainty\n",
    "\n",
    "        def chisquare_gaussian(area,mean,sigma,constant):\n",
    "            return chisquare_1d(function=gaussian,functionparams=[area,mean,sigma,constant],data_x=data_x,data_y=data_y,data_y_error=data_y_error)[0]\n",
    "        maxy = np.array(data_x)[np.argmax(np.array(data_y))]\n",
    "        #print(maxy,np.sum(data_y))\n",
    "        #plt.plot(data_y)\n",
    "        m=Minuit(chisquare_gaussian, \n",
    "                 area = 5000, # set start parameter\n",
    "                 #limit_area= (np.sum(data_y)/200,np.sum(data_y)), # if you want to limit things\n",
    "                 #fix_area = \"False\", # you can also fix it\n",
    "                 mean = maxy,\n",
    "                 #fix_mean = \"True\",\n",
    "                 limit_mean = (maxy-20, maxy+20),\n",
    "                 sigma = 3.9,\n",
    "                 #limit_sigma=(1,4),\n",
    "                 #fix_sigma=\"True\",\n",
    "                 constant = 0,\n",
    "                 fix_constant=\"True\",\n",
    "                 errordef = 1,\n",
    "                 print_level=0,\n",
    "                 pedantic=False)\n",
    "        #print('Now proceed with the fit.')\n",
    "        m.migrad()\n",
    "        #print()\n",
    "        m.minos()#, if you need fancy mapping\n",
    "        chisquare=m.fval\n",
    "        #print(chisquare)\n",
    "        print(m.values[\"area\"],m.values[\"mean\"],m.values[\"sigma\"],m.values[\"constant\"])\n",
    "        #plt.plot(data_x,data_y)\n",
    "        #plt.plot(data_x,gaussian(data_x,params=[m.values[\"area\"],m.values[\"mean\"],m.values[\"sigma\"],m.values[\"constant\"]]))\n",
    "            #if(logscale==True):plt.yscale(\"log\")\n",
    "        plt.show()\n",
    "        sigma_list.append(m.values[\"sigma\"])\n",
    "        chi2_list.append(m.fval)\n",
    "\n",
    "    avg_list.append(sigma_list)\n",
    "    avg_chi2_list.append(chi2_list)\n",
    "    # 0.576015\t457.914\t4.1578\n",
    "    #    0.665451 457.716\t3.52836\n",
    "    # 0.004192635430023184 456.27365821760577 3.1195876742583373 0.0\n"
   ]
  }
 ],
 "metadata": {
  "kernelspec": {
   "display_name": "Python 3",
   "language": "python",
   "name": "python3"
  },
  "language_info": {
   "codemirror_mode": {
    "name": "ipython",
    "version": 3
   },
   "file_extension": ".py",
   "mimetype": "text/x-python",
   "name": "python",
   "nbconvert_exporter": "python",
   "pygments_lexer": "ipython3",
   "version": "3.6.9"
  },
  "widgets": {
   "application/vnd.jupyter.widget-state+json": {
    "state": {},
    "version_major": 2,
    "version_minor": 0
   }
  }
 },
 "nbformat": 4,
 "nbformat_minor": 4
}
