{
 "cells": [
  {
   "cell_type": "code",
   "execution_count": 1,
   "metadata": {},
   "outputs": [],
   "source": [
    "import numpy as np\n",
    "import sympy as sp\n",
    "import matplotlib.pyplot as plt\n",
    "import matplotlib\n",
    "from scipy import signal\n",
    "from scipy import optimize\n",
    "import inspect\n",
    "import h5py"
   ]
  },
  {
   "cell_type": "code",
   "execution_count": 2,
   "metadata": {},
   "outputs": [],
   "source": [
    "%matplotlib notebook"
   ]
  },
  {
   "cell_type": "code",
   "execution_count": 3,
   "metadata": {},
   "outputs": [],
   "source": [
    "import sys\n",
    "sys.path.append('/home/analysis_user/New_trap_code/Tools/')\n",
    "import BeadDataFile\n",
    "from discharge_tools import *"
   ]
  },
  {
   "cell_type": "code",
   "execution_count": 4,
   "metadata": {},
   "outputs": [],
   "source": [
    "def extract_fft_peaks(data,axis,fsamp = 0, harm_freq = 0):\n",
    "    freq,psd = data.psd2(axis)\n",
    "    fft = np.sqrt(psd)\n",
    "    \n",
    "    unfiltered_peaks = signal.find_peaks(np.log(fft))[0]\n",
    "    harmonics_0 = [peak for peak in unfiltered_peaks if freq[peak]%harm_freq == 0]\n",
    "    harmonics_index = np.asarray([harm for harm in harmonics_0 if harmonics_0.index(harm)<50 ])\n",
    "    \n",
    "    return freq[harmonics_index],fft[harmonics_index]"
   ]
  },
  {
   "cell_type": "code",
   "execution_count": 5,
   "metadata": {},
   "outputs": [],
   "source": [
    "fname_x = r'/data/new_trap/20190708/Bead2/TransFunc/TransFuncX_14.h5'\n",
    "bd_x= BeadDataFile.BeadDataFile(fname_x)\n",
    "fname_y = r'/data/new_trap/20190708/Bead2/TransFunc/TransFuncY_16.h5'\n",
    "bd_y = BeadDataFile.BeadDataFile(fname_y)\n",
    "Xfreq_x,Xfft_x = extract_fft_peaks(bd_x,'x',fsamp = bd_x.fsamp, harm_freq = 23)\n",
    "Xfreq_y,Xfft_y = extract_fft_peaks(bd_x,'y',fsamp = bd_x.fsamp, harm_freq = 23)\n",
    "Yfreq_y,Yfft_y = extract_fft_peaks(bd_y,'y',fsamp = bd_y.fsamp, harm_freq = 23)\n",
    "Yfreq_x,Yfft_x = extract_fft_peaks(bd_y,'x',fsamp = bd_y.fsamp, harm_freq = 23)"
   ]
  },
  {
   "cell_type": "code",
   "execution_count": 17,
   "metadata": {},
   "outputs": [],
   "source": [
    "in_dict = {'fxx': Xfreq_x, 'fyy': Yfreq_y, 'fxy': Xfreq_y, 'fyx': Yfreq_x}\n",
    "out_dict = {'Oxx': Xfft_x, 'Oyy': Yfft_y, 'Oxy': Xfft_y, 'Oyx': Yfft_x}"
   ]
  },
  {
   "cell_type": "code",
   "execution_count": 10,
   "metadata": {},
   "outputs": [],
   "source": [
    "def Xmodel_x(params,fxx):\n",
    "    Axx,Ayy,Axy,Ayx,Kxx,Kyy,Kxy,Lxx,Lyy,Lxy = params\n",
    "    numerator = Axx*np.sqrt((Kyy-(2*np.pi*fxx)**2)**2 + (Lyy**2)*(2*np.pi*fxx)**2)\n",
    "    denominator = np.sqrt(((2*np.pi*fxx)**4 + (Lxy**2-Lxx*Lyy-Kxx-Kyy)*(2*np.pi*fxx)**2 + (Kxx*Kyy - Kxy**2))**2 + ((-Lxx-Lyy)*(2*np.pi*fxx)**3 + (Kxx*Lyy + Kyy*Lxx - 2*Kxy*Lxy)*(2*np.pi*fxx))**2)\n",
    "    return numerator/denominator"
   ]
  },
  {
   "cell_type": "code",
   "execution_count": 11,
   "metadata": {},
   "outputs": [],
   "source": [
    "def Xmodel_y(params,fxy):\n",
    "    Axx,Ayy,Axy,Ayx,Kxx,Kyy,Kxy,Lxx,Lyy,Lxy = params\n",
    "    numerator = Axy*np.sqrt(Kxy**2+(Lxy**2)*(2*np.pi*fxy))\n",
    "    denominator = np.sqrt(((2*np.pi*fxy)**4+(Lxy**2-Lxx*Lyy-Kxx-Kyy)*(2*np.pi*fxy)**2+(Kxx*Kyy- Kxy**2))**2 + ((-Lxx-Lyy)*(2*np.pi*fxy)**3 + (Kxx*Lyy + Kyy*Lxx - 2*Kxy*Lxy)*(2*np.pi*fxy))**2)\n",
    "    return numerator/denominator"
   ]
  },
  {
   "cell_type": "code",
   "execution_count": 12,
   "metadata": {},
   "outputs": [],
   "source": [
    "def Ymodel_x(params,fyx):\n",
    "    Axx,Ayy,Axy,Ayx,Kxx,Kyy,Kxy,Lxx,Lyy,Lxy = params\n",
    "    numerator = Ayx*np.sqrt(Kxy**2+(Lxy**2)*(2*np.pi*fyx))\n",
    "    denominator = np.sqrt(((2*np.pi*fyx)**4+(Lxy**2-Lxx*Lyy-Kxx-Kyy)*(2*np.pi*fyx)**2+(Kxx*Kyy - Kxy**2))**2 + ((-Lxx-Lyy)*(2*np.pi*fyx)**3 + (Kxx*Lyy + Kyy*Lxx - 2*Kxy*Lxy)*(2*np.pi*fyx))**2)\n",
    "    return numerator/denominator"
   ]
  },
  {
   "cell_type": "code",
   "execution_count": 13,
   "metadata": {},
   "outputs": [],
   "source": [
    "def Ymodel_y(params,fyy):\n",
    "    Axx,Ayy,Axy,Ayx,Kxx,Kyy,Kxy,Lxx,Lyy,Lxy = params\n",
    "    numerator = Ayy*sp.sqrt((Kxx-(2*np.pi*fyy)**2)**2+(Lxx**2)*(2*np.pi*fyy)**2)\n",
    "    denominator = np.sqrt(((2*np.pi*fyy)**4 + (Lxy**2-Lxx*Lyy-Kxx-Kyy)*(2*np.pi*fyy)**2 + (Kxx*Kyy - Kxy**2))**2 + ((-Lxx-Lyy)*(2*np.pi*fyy)**3 + (Kxx*Lyy + Kyy*Lxx - 2*Kxy*Lxy)*(2*np.pi*fyy))**2)\n",
    "    return numerator/denominator"
   ]
  },
  {
   "cell_type": "code",
   "execution_count": 14,
   "metadata": {},
   "outputs": [],
   "source": [
    "def residuals(params,x,y):\n",
    "    resid_1 = y['Oxx'] - Xmodel_x(params,x['fxx'])\n",
    "    resid_2 = y['Oxy'] - Xmodel_y(params,x['fxy'])\n",
    "    resid_3 = y['Oyx'] - Ymodel_x(params,x['fyx'])\n",
    "    resid_4 = y['Oyy'] - Ymodel_y(params,x['fyy'])\n",
    "    \n",
    "    return np.concatenate((resid_1,resid_2,resid_3,resid_4))"
   ]
  },
  {
   "cell_type": "code",
   "execution_count": null,
   "metadata": {},
   "outputs": [],
   "source": []
  }
 ],
 "metadata": {
  "kernelspec": {
   "display_name": "Python 3",
   "language": "python",
   "name": "python3"
  },
  "language_info": {
   "codemirror_mode": {
    "name": "ipython",
    "version": 3
   },
   "file_extension": ".py",
   "mimetype": "text/x-python",
   "name": "python",
   "nbconvert_exporter": "python",
   "pygments_lexer": "ipython3",
   "version": "3.6.7"
  }
 },
 "nbformat": 4,
 "nbformat_minor": 2
}
