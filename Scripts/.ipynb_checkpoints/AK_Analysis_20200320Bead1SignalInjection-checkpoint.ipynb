{
 "cells": [
  {
   "cell_type": "code",
   "execution_count": 1,
   "metadata": {},
   "outputs": [],
   "source": [
    "import numpy as np\n",
    "import matplotlib.pyplot as plt\n",
    "import matplotlib\n",
    "from matplotlib import mlab\n",
    "\n",
    "from scipy import signal\n",
    "import h5py, time\n"
   ]
  },
  {
   "cell_type": "code",
   "execution_count": 2,
   "metadata": {},
   "outputs": [],
   "source": [
    "%matplotlib widget"
   ]
  },
  {
   "cell_type": "code",
   "execution_count": 3,
   "metadata": {},
   "outputs": [],
   "source": [
    "import sys\n",
    "sys.path.append('/home/analysis_user/New_trap_code/Tools/')\n",
    "import BeadDataFile"
   ]
  },
  {
   "cell_type": "code",
   "execution_count": 4,
   "metadata": {},
   "outputs": [],
   "source": [
    "##Force Calibration with single freq, with xyz2"
   ]
  },
  {
   "cell_type": "code",
   "execution_count": 5,
   "metadata": {},
   "outputs": [],
   "source": [
    "Year = \"2020\"\n",
    "Month = \"03\"\n",
    "Day = \"20\"\n",
    "BeadNumber =1\n",
    "folder = r\"/data/new_trap/\"+ Year + Month + Day\n",
    "#folder = r\"/home/analysis_user/data_from_windows/\"+ Year + Month + Day"
   ]
  },
  {
   "cell_type": "code",
   "execution_count": 6,
   "metadata": {},
   "outputs": [
    {
     "name": "stdout",
     "output_type": "stream",
     "text": [
      "5.3185713932357e-05\n",
      "5.1842811720905074e-05\n",
      "5.1996097914346046e-05\n",
      "4.8568596183011135e-05\n",
      "5.419660819213425e-05\n"
     ]
    }
   ],
   "source": [
    "ResX=np.arange(0, 0.5, 0.1)\n",
    "for i in range(0,5):\n",
    "    Ndata=225+i\n",
    "    SigFreq=71\n",
    "    fname = folder+\"/Bead\"+str(BeadNumber)+\"/Discharge/Discharge_after_Mass_20200402/After_spinning_again_20200403\"+\"/Discharge_%d.h5\" % Ndata\n",
    "    BDF = BeadDataFile.BeadDataFile(fname)\n",
    "    data = BDF.xyz2\n",
    "    fsamp=5000\n",
    "    res=50000\n",
    "    data_det=signal.detrend(data)\n",
    "\n",
    "    xpsd, freqs = matplotlib.mlab.psd(data_det[0], Fs = fsamp, NFFT = res,window=mlab.window_none)\n",
    "    ResX[i]=np.sqrt(xpsd[SigFreq*10])\n",
    "    print(np.sqrt(xpsd[SigFreq*10]))\n",
    "    #print(np.sqrt(ypsd[SigFreq*10]))\n",
    "    #print(np.sqrt(zpsd[SigFreq*10]))\n",
    "    "
   ]
  },
  {
   "cell_type": "code",
   "execution_count": 7,
   "metadata": {},
   "outputs": [
    {
     "name": "stdout",
     "output_type": "stream",
     "text": [
      "7.459615175107814e-05\n",
      "7.108187292529642e-05\n",
      "6.994467719258683e-05\n",
      "6.256675237016993e-05\n",
      "6.979445574692227e-05\n"
     ]
    }
   ],
   "source": [
    "ResY=np.arange(0, 0.5, 0.1)\n",
    "for i in range(0,5):\n",
    "    Ndata=230+i\n",
    "    SigFreq=71\n",
    "    fname = folder+\"/Bead\"+str(BeadNumber)+\"/Discharge/Discharge_after_Mass_20200402/After_spinning_again_20200403\"+\"/Discharge_%d.h5\" % Ndata\n",
    "    BDF = BeadDataFile.BeadDataFile(fname)\n",
    "    data = BDF.xyz2\n",
    "    fsamp=5000\n",
    "    res=50000\n",
    "    data_det=signal.detrend(data)\n",
    "\n",
    "    xpsd, freqs = matplotlib.mlab.psd(data_det[0], Fs = fsamp, NFFT = res,window=mlab.window_none)\n",
    "    ypsd, freqs = matplotlib.mlab.psd(data_det[1], Fs = fsamp, NFFT = res,window=mlab.window_none)\n",
    "    zpsd, freqs = matplotlib.mlab.psd(data_det[2], Fs = fsamp, NFFT = res,window=mlab.window_none)\n",
    "    ResY[i]=np.sqrt(ypsd[SigFreq*10])    \n",
    "    #print(np.sqrt(xpsd[SigFreq*10]))\n",
    "    print(np.sqrt(ypsd[SigFreq*10]))\n",
    "    #print(np.sqrt(zpsd[SigFreq*10]))\n",
    "    "
   ]
  },
  {
   "cell_type": "code",
   "execution_count": 8,
   "metadata": {
    "scrolled": false
   },
   "outputs": [
    {
     "name": "stdout",
     "output_type": "stream",
     "text": [
      "593.1042094526559\n",
      "604.2796408368257\n",
      "593.7653481702566\n",
      "599.8167847192939\n",
      "610.4468798499673\n"
     ]
    }
   ],
   "source": [
    "ResZ=np.arange(0, 0.5, 0.1)\n",
    "for i in range(0,5):\n",
    "    Ndata=220+i\n",
    "    fname = folder+\"/Bead\"+str(BeadNumber)+\"/Discharge/Discharge_after_Mass_20200402/After_spinning_again_20200403\"+\"/Discharge_%d.h5\" % Ndata\n",
    "    BDF = BeadDataFile.BeadDataFile(fname)\n",
    "    data = BDF.xyz2\n",
    "    fsamp=5000\n",
    "    res=50000\n",
    "    data_det=signal.detrend(data)\n",
    "\n",
    "    xpsd, freqs = matplotlib.mlab.psd(data_det[0], Fs = fsamp, NFFT = res,window=mlab.window_none)\n",
    "    ypsd, freqs = matplotlib.mlab.psd(data_det[1], Fs = fsamp, NFFT = res,window=mlab.window_none)\n",
    "    zpsd, freqs = matplotlib.mlab.psd(data_det[2], Fs = fsamp, NFFT = res,window=mlab.window_none)\n",
    "    ResZ[i]=np.sqrt(zpsd[SigFreq*10])    \n",
    "    print(np.sqrt(zpsd[SigFreq*10]))\n",
    "    "
   ]
  },
  {
   "cell_type": "code",
   "execution_count": 9,
   "metadata": {},
   "outputs": [
    {
     "name": "stdout",
     "output_type": "stream",
     "text": [
      "3.2489547697263225e-15\n"
     ]
    }
   ],
   "source": [
    "q=6\n",
    "V=10\n",
    "F=(q*1.602e-19)*(V*2/8.6e-3*0.65)*np.sqrt(5)\n",
    "print(F)"
   ]
  },
  {
   "cell_type": "code",
   "execution_count": 10,
   "metadata": {},
   "outputs": [
    {
     "name": "stdout",
     "output_type": "stream",
     "text": [
      "6.25304461582355e-11\n",
      "4.668254302126402e-11\n",
      "5.41237563439957e-18\n"
     ]
    }
   ],
   "source": [
    "AveX=np.average(ResX)\n",
    "AveY=np.average(ResY)\n",
    "AveZ=np.average(ResZ)\n",
    "BtoFx=F/AveX\n",
    "BtoFy=F/AveY\n",
    "BtoFz=F/AveZ\n",
    "print(BtoFx)\n",
    "print(BtoFy)\n",
    "print(BtoFz)"
   ]
  },
  {
   "cell_type": "code",
   "execution_count": null,
   "metadata": {},
   "outputs": [],
   "source": [
    "#Comparison with Nadav's-file number and location is the same one as what he provided. "
   ]
  },
  {
   "cell_type": "code",
   "execution_count": 6,
   "metadata": {},
   "outputs": [
    {
     "name": "stdout",
     "output_type": "stream",
     "text": [
      "No laser power data\n",
      "0.0002710659109235403\n",
      "No laser power data\n",
      "0.0002754358247428201\n",
      "No laser power data\n",
      "0.00027374295606173607\n",
      "No laser power data\n",
      "0.00026931560399147365\n",
      "No laser power data\n",
      "0.0002774851026748514\n"
     ]
    }
   ],
   "source": [
    "ResX=np.arange(0, 0.5, 0.1)\n",
    "for i in range(0,5):\n",
    "    Ndata=5+i\n",
    "    SigFreq=71\n",
    "    fname = folder+\"/Bead\"+str(BeadNumber)+\"/Discharge/New_Discharge\"+\"/Discharge_%d.h5\" % Ndata\n",
    "    BDF = BeadDataFile.BeadDataFile(fname)\n",
    "    data = BDF.xyz2\n",
    "    fsamp=5000\n",
    "    res=50000\n",
    "    data_det=signal.detrend(data)\n",
    "\n",
    "    xpsd, freqs = matplotlib.mlab.psd(data_det[0], Fs = fsamp, NFFT = res,window=mlab.window_none)\n",
    "    ResX[i]=np.sqrt(xpsd[SigFreq*10])\n",
    "    print(np.sqrt(xpsd[SigFreq*10]))"
   ]
  },
  {
   "cell_type": "code",
   "execution_count": 7,
   "metadata": {},
   "outputs": [
    {
     "name": "stdout",
     "output_type": "stream",
     "text": [
      "No laser power data\n",
      "0.0003283005068077278\n",
      "No laser power data\n",
      "0.00033345278668207574\n",
      "No laser power data\n",
      "0.0003315063385773604\n",
      "No laser power data\n",
      "0.0003276605922930189\n",
      "No laser power data\n",
      "0.0003268623871889636\n"
     ]
    }
   ],
   "source": [
    "ResY=np.arange(0, 0.5, 0.1)\n",
    "for i in range(0,5):\n",
    "    Ndata=10+i\n",
    "    SigFreq=71\n",
    "    fname = folder+\"/Bead\"+str(BeadNumber)+\"/Discharge/New_Discharge\"+\"/Discharge_%d.h5\" % Ndata\n",
    "    BDF = BeadDataFile.BeadDataFile(fname)\n",
    "    data = BDF.xyz2\n",
    "    fsamp=5000\n",
    "    res=50000\n",
    "    data_det=signal.detrend(data)\n",
    "\n",
    "    xpsd, freqs = matplotlib.mlab.psd(data_det[0], Fs = fsamp, NFFT = res,window=mlab.window_none)\n",
    "    ypsd, freqs = matplotlib.mlab.psd(data_det[1], Fs = fsamp, NFFT = res,window=mlab.window_none)\n",
    "    zpsd, freqs = matplotlib.mlab.psd(data_det[2], Fs = fsamp, NFFT = res,window=mlab.window_none)\n",
    "    ResY[i]=np.sqrt(ypsd[SigFreq*10])    \n",
    "    print(np.sqrt(ypsd[SigFreq*10]))"
   ]
  },
  {
   "cell_type": "code",
   "execution_count": 8,
   "metadata": {},
   "outputs": [
    {
     "name": "stdout",
     "output_type": "stream",
     "text": [
      "No laser power data\n",
      "757.3256996396474\n",
      "No laser power data\n",
      "743.4378086531398\n",
      "No laser power data\n",
      "755.8859297272302\n",
      "No laser power data\n",
      "736.3401685816547\n",
      "No laser power data\n",
      "754.2909795107544\n"
     ]
    }
   ],
   "source": [
    "ResZ=np.arange(0, 0.5, 0.1)\n",
    "for i in range(0,5):\n",
    "    Ndata=0+i\n",
    "    fname = folder+\"/Bead\"+str(BeadNumber)+\"/Discharge/New_Discharge\"+\"/Discharge_%d.h5\" % Ndata\n",
    "    BDF = BeadDataFile.BeadDataFile(fname)\n",
    "    data = BDF.xyz2\n",
    "    fsamp=5000\n",
    "    res=50000\n",
    "    data_det=signal.detrend(data)\n",
    "\n",
    "    xpsd, freqs = matplotlib.mlab.psd(data_det[0], Fs = fsamp, NFFT = res,window=mlab.window_none)\n",
    "    ypsd, freqs = matplotlib.mlab.psd(data_det[1], Fs = fsamp, NFFT = res,window=mlab.window_none)\n",
    "    zpsd, freqs = matplotlib.mlab.psd(data_det[2], Fs = fsamp, NFFT = res,window=mlab.window_none)\n",
    "    ResZ[i]=np.sqrt(zpsd[SigFreq*10])    \n",
    "    print(np.sqrt(zpsd[SigFreq*10]))\n",
    "    "
   ]
  },
  {
   "cell_type": "code",
   "execution_count": 11,
   "metadata": {},
   "outputs": [
    {
     "name": "stdout",
     "output_type": "stream",
     "text": [
      "3.7904472313473764e-15\n"
     ]
    }
   ],
   "source": [
    "q=7\n",
    "V=10\n",
    "F=(q*1.602e-19)*(V*2/8.6e-3*0.65)*np.sqrt(5)\n",
    "print(F)"
   ]
  },
  {
   "cell_type": "code",
   "execution_count": 12,
   "metadata": {},
   "outputs": [
    {
     "name": "stdout",
     "output_type": "stream",
     "text": [
      "1.3863647965894956e-11\n",
      "1.1501660488405763e-11\n",
      "5.0575972952157985e-18\n"
     ]
    }
   ],
   "source": [
    "AveX=np.average(ResX)\n",
    "AveY=np.average(ResY)\n",
    "AveZ=np.average(ResZ)\n",
    "BtoFx=F/AveX\n",
    "BtoFy=F/AveY\n",
    "BtoFz=F/AveZ\n",
    "print(BtoFx)\n",
    "print(BtoFy)\n",
    "print(BtoFz)"
   ]
  },
  {
   "cell_type": "code",
   "execution_count": null,
   "metadata": {},
   "outputs": [],
   "source": []
  },
  {
   "cell_type": "code",
   "execution_count": null,
   "metadata": {},
   "outputs": [],
   "source": []
  },
  {
   "cell_type": "code",
   "execution_count": 11,
   "metadata": {},
   "outputs": [],
   "source": [
    "##code for Transfer Function- 7Hz\n",
    "#following is the code to generate transfer function with FFT"
   ]
  },
  {
   "cell_type": "code",
   "execution_count": 36,
   "metadata": {},
   "outputs": [
    {
     "name": "stdout",
     "output_type": "stream",
     "text": [
      "No height data\n",
      "No cantilever data\n",
      "Error loading spinning data\n",
      "No laser power data\n"
     ]
    }
   ],
   "source": [
    "##X preparation\n",
    "Ndata=11\n",
    "fname = folder+\"/Bead\"+str(BeadNumber)+\"/TransFunc\"+\"/TransFunc_X_m800k_150s_7hz.h5\" #% Ndata\n",
    "BDF = BeadDataFile.BeadDataFile(fname)\n",
    "data = BDF.xyz2\n",
    "tInt=150\n",
    "fsamp=5000\n",
    "res=Tmeas*fsamp\n",
    "fBase=7\n",
    "\n",
    "\n",
    "data_det=signal.detrend(data)\n",
    "x_1000=data_det[0]\n",
    "y_1000=data_det[1]\n",
    "z_1000=data_det[2]\n",
    "freqs=np.linspace(0,2500,(25000)+1)\n",
    "    \n",
    "xFFT=np.fft.rfft(x_1000)\n",
    "yFFT=np.fft.rfft(y_1000)\n",
    "zFFT=np.fft.rfft(z_1000)\n",
    "norm = np.sqrt(2 / (res* fsamp))\n",
    "xpsd = norm**2 * (xFFT * xFFT.conj()).real\n",
    "ypsd = norm**2 * (yFFT * yFFT.conj()).real\n",
    "zpsd = norm**2 * (zFFT * zFFT.conj()).real\n",
    "XphaseX=np.angle(xFFT)\n",
    "XphaseY=np.angle(yFFT)\n",
    "XphaseZ=np.angle(zFFT)\n",
    "\n",
    "XnoiseX=np.sqrt(xpsd)\n",
    "XnoiseY=np.sqrt(ypsd)\n",
    "XnoiseZ=np.sqrt(zpsd)\n"
   ]
  },
  {
   "cell_type": "code",
   "execution_count": 37,
   "metadata": {},
   "outputs": [
    {
     "name": "stdout",
     "output_type": "stream",
     "text": [
      "No height data\n",
      "No cantilever data\n",
      "Error loading spinning data\n",
      "No laser power data\n"
     ]
    }
   ],
   "source": [
    "##Y preparataion\n",
    "fname = folder+\"/Bead\"+str(BeadNumber)+\"/TransFunc\"+\"/TransFunc_Y_m800k_150s_7hz.h5\" #% Ndata\n",
    "BDF = BeadDataFile.BeadDataFile(fname)\n",
    "data = BDF.xyz2 \n",
    "data_det=signal.detrend(data)\n",
    "x_1000=data_det[0]\n",
    "y_1000=data_det[1]\n",
    "z_1000=data_det[2]\n",
    "freqs=np.linspace(0,2500,(25000)+1)\n",
    "    \n",
    "xFFT=np.fft.rfft(x_1000)\n",
    "yFFT=np.fft.rfft(y_1000)\n",
    "zFFT=np.fft.rfft(z_1000)\n",
    "norm = np.sqrt(2 / (res* fsamp))\n",
    "xpsd = norm**2 * (xFFT * xFFT.conj()).real\n",
    "ypsd = norm**2 * (yFFT * yFFT.conj()).real\n",
    "zpsd = norm**2 * (zFFT * zFFT.conj()).real\n",
    "YphaseX=np.angle(xFFT)\n",
    "YphaseY=np.angle(yFFT)\n",
    "YphaseZ=np.angle(zFFT)\n",
    "\n",
    "YnoiseX=np.sqrt(xpsd)\n",
    "YnoiseY=np.sqrt(ypsd)\n",
    "YnoiseZ=np.sqrt(zpsd)\n"
   ]
  },
  {
   "cell_type": "code",
   "execution_count": 38,
   "metadata": {},
   "outputs": [
    {
     "name": "stdout",
     "output_type": "stream",
     "text": [
      "No height data\n",
      "No cantilever data\n",
      "Error loading spinning data\n",
      "No laser power data\n"
     ]
    }
   ],
   "source": [
    "##Z preparataion\n",
    "fname = folder+\"/Bead\"+str(BeadNumber)+\"/TransFunc\"+\"/TransFunc_Z_m800k_150s_7hz.h5\" #% Ndata\n",
    "BDF = BeadDataFile.BeadDataFile(fname)\n",
    "data = BDF.xyz2 \n",
    "data_det=signal.detrend(data)\n",
    "x_1000=data_det[0]\n",
    "y_1000=data_det[1]\n",
    "z_1000=data_det[2]\n",
    "freqs=np.linspace(0,2500,(25000)+1)\n",
    "    \n",
    "xFFT=np.fft.rfft(x_1000)\n",
    "yFFT=np.fft.rfft(y_1000)\n",
    "zFFT=np.fft.rfft(z_1000)\n",
    "norm = np.sqrt(2 / (res* fsamp))\n",
    "xpsd = norm**2 * (xFFT * xFFT.conj()).real\n",
    "ypsd = norm**2 * (yFFT * yFFT.conj()).real\n",
    "zpsd = norm**2 * (zFFT * zFFT.conj()).real\n",
    "ZphaseX=np.angle(xFFT)\n",
    "ZphaseY=np.angle(yFFT)\n",
    "ZphaseZ=np.angle(zFFT)\n",
    "\n",
    "ZnoiseX=np.sqrt(xpsd)\n",
    "ZnoiseY=np.sqrt(ypsd)\n",
    "ZnoiseZ=np.sqrt(zpsd)\n",
    "\n"
   ]
  },
  {
   "cell_type": "code",
   "execution_count": 20,
   "metadata": {},
   "outputs": [],
   "source": [
    "xPha=np.zeros(100)\n",
    "yPha=np.zeros(100)\n",
    "zPha=np.zeros(100)\n",
    "xAmp=np.zeros(100)\n",
    "yAmp=np.zeros(100)\n",
    "zAmp=np.zeros(100)\n"
   ]
  },
  {
   "cell_type": "code",
   "execution_count": 72,
   "metadata": {},
   "outputs": [],
   "source": [
    "for i in range(0,100):\n",
    "    xPha[i]=XphaseX[(i+1)*tInt*fBase]-(i*i/100-round(i*i/100))*2*3.14159265+np.pi*0.5\n",
    "    if(xPha[i]>3):\n",
    "        xPha[i]-=2*np.pi\n",
    "    yPha[i]=YphaseY[(i+1)*tInt*fBase]-(i*i/100-round(i*i/100))*2*3.14159265-np.pi*0.5\n",
    "    zPha[i]=ZphaseZ[(i+1)*tInt*fBase]-(i*i/100-round(i*i/100))*2*3.14159265+np.pi*0.5\n",
    "\n",
    "for i in range(0,99):  \n",
    "    if((yPha[i+1]-yPha[i])>4):\n",
    "        yPha[i+1]-=2*np.pi\n",
    "    elif((yPha[i+1]-yPha[i])<-4):\n",
    "        yPha[i+1]+=2*np.pi\n",
    "for i in range(0,99):  \n",
    "    if((yPha[i+1]-yPha[i])>4):\n",
    "        yPha[i+1]-=2*np.pi\n",
    "    elif((yPha[i+1]-yPha[i])<-4):\n",
    "        yPha[i+1]+=2*np.pi\n",
    "        \n",
    "for i in range(0,99):  \n",
    "    if((zPha[i+1]-zPha[i])>3):\n",
    "        zPha[i+1]-=2*np.pi\n",
    "    elif((zPha[i+1]-zPha[i])<-3):\n",
    "        zPha[i+1]+=2*np.pi\n",
    "for i in range(0,99):  \n",
    "    if((zPha[i+1]-zPha[i])>4):\n",
    "        zPha[i+1]-=2*np.pi\n",
    "    elif((zPha[i+1]-zPha[i])<-4):\n",
    "        zPha[i+1]+=2*np.pi"
   ]
  },
  {
   "cell_type": "code",
   "execution_count": 73,
   "metadata": {
    "scrolled": true
   },
   "outputs": [
    {
     "data": {
      "application/vnd.jupyter.widget-view+json": {
       "model_id": "613701c738fc4f78b6c264db26d2d5d1",
       "version_major": 2,
       "version_minor": 0
      },
      "text/plain": [
       "Canvas(toolbar=Toolbar(toolitems=[('Home', 'Reset original view', 'home', 'home'), ('Back', 'Back to previous …"
      ]
     },
     "metadata": {},
     "output_type": "display_data"
    }
   ],
   "source": [
    "freqs=np.linspace(0,2500,(375000)+1)\n",
    "\n",
    "_,ax = plt.subplots()\n",
    "plt.subplots_adjust(left=0.18, right=0.96, top=0.96, bottom=0.14)\n",
    "\n",
    "ax.plot(np.linspace(7,700,100),xPha, '.-', label=\"x\",markersize=1,linewidth=1)\n",
    "ax.plot(np.linspace(7,700,100),yPha, '.-', label=\"y\",markersize=1,linewidth=1)\n",
    "ax.plot(np.linspace(7,700,100),zPha, '.-', label=\"z\",markersize=1,linewidth=1)\n",
    "ax.legend(fontsize=16)\n",
    "ax.set_xlabel('Frequency [Hz]', fontsize=18)\n",
    "ax.set_ylabel('Force NSD [N/√Hz]',fontsize=18)\n",
    "\n",
    "ax.tick_params(axis='x', labelsize=18)\n",
    "ax.tick_params(axis='y', labelsize=18)\n",
    "#plt.xlim(0.1,500)\n",
    "#plt.ylim(1e-7,1e-2)\n",
    "plt.grid(True)"
   ]
  },
  {
   "cell_type": "code",
   "execution_count": 50,
   "metadata": {},
   "outputs": [],
   "source": [
    "ofname = folder+\"/Bead\"+str(BeadNumber)+\"/TransFunc\"+\"/TransFuncPhase_XYZ_m800k_150s_7hz.txt\" \n",
    "f1 = open(ofname,\"a\")\n",
    "for k in range(0,100):\n",
    "    f1.write('%d %f %f %f\\n' % (k+1, xPha[k], yPha[k], zPha[k]))\n",
    "f1.close()"
   ]
  },
  {
   "cell_type": "code",
   "execution_count": 51,
   "metadata": {},
   "outputs": [],
   "source": [
    "#phase data with 1 Hz trans func data"
   ]
  },
  {
   "cell_type": "code",
   "execution_count": 30,
   "metadata": {},
   "outputs": [
    {
     "name": "stdout",
     "output_type": "stream",
     "text": [
      "No height data\n",
      "No cantilever data\n",
      "Error loading spinning data\n",
      "No laser power data\n"
     ]
    }
   ],
   "source": [
    "##X preparation\n",
    "Ndata=11\n",
    "fname = folder+\"/Bead\"+str(BeadNumber)+\"/TransFunc\"+\"/Repeat_TransFunc_20200104/TransFunc_Z_m300k_250s_1hz.h5\" #% Ndata\n",
    "BDF = BeadDataFile.BeadDataFile(fname)\n",
    "data = BDF.xyz2\n",
    "tInt=250\n",
    "fsamp=5000\n",
    "res=tInt*fsamp\n",
    "fBase=1\n",
    "Nharm=100\n",
    "\n",
    "data_det=signal.detrend(data)\n",
    "x_1000=data_det[0]\n",
    "y_1000=data_det[1]\n",
    "z_1000=data_det[2]\n",
    "freqs=np.linspace(0,2500,(25000)+1)\n",
    "    \n",
    "xFFT=np.fft.rfft(x_1000)\n",
    "yFFT=np.fft.rfft(y_1000)\n",
    "zFFT=np.fft.rfft(z_1000)\n",
    "norm = np.sqrt(2 / (res* fsamp))\n",
    "xpsd = norm**2 * (xFFT * xFFT.conj()).real\n",
    "ypsd = norm**2 * (yFFT * yFFT.conj()).real\n",
    "zpsd = norm**2 * (zFFT * zFFT.conj()).real\n",
    "XphaseX=np.angle(xFFT)\n",
    "XphaseY=np.angle(yFFT)\n",
    "XphaseZ=np.angle(zFFT)\n",
    "\n",
    "XnoiseX=np.sqrt(xpsd)\n",
    "XnoiseY=np.sqrt(ypsd)\n",
    "XnoiseZ=np.sqrt(zpsd)\n",
    "\n",
    "\n",
    "XrespX=np.zeros(Nharm)\n",
    "XrespY=np.zeros(Nharm)\n",
    "XrespZ=np.zeros(Nharm)\n",
    "for i in range (Nharm):\n",
    "    XrespX[i]=XnoiseX[tInt*(i+1)]\n",
    "    XrespY[i]=XnoiseY[tInt*(i+1)]\n",
    "    XrespZ[i]=XnoiseZ[tInt*(i+1)]\n",
    "    \n",
    "XtfX=np.zeros(991)\n",
    "XtfY=np.zeros(991)\n",
    "XtfZ=np.zeros(991)\n",
    "\n",
    "for i in range (99):\n",
    "    for j in range(10):\n",
    "        XtfX[i*10+j]=0.1*XrespX[i]*(10-j)+0.1*XrespX[i+1]*j\n",
    "        XtfY[i*10+j]=0.1*XrespY[i]*(10-j)+0.1*XrespY[i+1]*j\n",
    "        XtfZ[i*10+j]=0.1*XrespZ[i]*(10-j)+0.1*XrespZ[i+1]*j\n",
    "XtfX[990]=XrespX[99]\n",
    "XtfY[990]=XrespY[99]\n",
    "XtfZ[990]=XrespZ[99]"
   ]
  },
  {
   "cell_type": "code",
   "execution_count": 31,
   "metadata": {},
   "outputs": [
    {
     "name": "stdout",
     "output_type": "stream",
     "text": [
      "No height data\n",
      "No cantilever data\n",
      "Error loading spinning data\n",
      "No laser power data\n"
     ]
    }
   ],
   "source": [
    "##Y preparataion\n",
    "fname = folder+\"/Bead\"+str(BeadNumber)+\"/TransFunc\"+\"/Repeat_TransFunc_20200104/TransFunc_Z_m300k_250s_1hz.h5\" #% Ndata\n",
    "BDF = BeadDataFile.BeadDataFile(fname)\n",
    "data = BDF.xyz2 \n",
    "data_det=signal.detrend(data)\n",
    "x_1000=data_det[0]\n",
    "y_1000=data_det[1]\n",
    "z_1000=data_det[2]\n",
    "freqs=np.linspace(0,2500,(25000)+1)\n",
    "    \n",
    "xFFT=np.fft.rfft(x_1000)\n",
    "yFFT=np.fft.rfft(y_1000)\n",
    "zFFT=np.fft.rfft(z_1000)\n",
    "norm = np.sqrt(2 / (res* fsamp))\n",
    "xpsd = norm**2 * (xFFT * xFFT.conj()).real\n",
    "ypsd = norm**2 * (yFFT * yFFT.conj()).real\n",
    "zpsd = norm**2 * (zFFT * zFFT.conj()).real\n",
    "YphaseX=np.angle(xFFT)\n",
    "YphaseY=np.angle(yFFT)\n",
    "YphaseZ=np.angle(zFFT)\n",
    "\n",
    "YnoiseX=np.sqrt(xpsd)\n",
    "YnoiseY=np.sqrt(ypsd)\n",
    "YnoiseZ=np.sqrt(zpsd)\n",
    "\n",
    "\n",
    "YrespX=np.zeros(Nharm)\n",
    "YrespY=np.zeros(Nharm)\n",
    "YrespZ=np.zeros(Nharm)\n",
    "for i in range (Nharm):\n",
    "    YrespX[i]=YnoiseX[tInt*(i+1)]\n",
    "    YrespY[i]=YnoiseY[tInt*(i+1)]\n",
    "    YrespZ[i]=YnoiseZ[tInt*(i+1)]\n",
    "    \n",
    "YtfX=np.zeros(991)\n",
    "YtfY=np.zeros(991)\n",
    "YtfZ=np.zeros(991)\n",
    "\n",
    "for i in range (99):\n",
    "    for j in range(10):\n",
    "        YtfX[i*10+j]=0.1*YrespX[i]*(10-j)+0.1*YrespX[i+1]*j\n",
    "        YtfY[i*10+j]=0.1*YrespY[i]*(10-j)+0.1*YrespY[i+1]*j\n",
    "        YtfZ[i*10+j]=0.1*YrespZ[i]*(10-j)+0.1*YrespZ[i+1]*j\n",
    "YtfX[990]=YrespX[99]\n",
    "YtfY[990]=YrespY[99]\n",
    "YtfZ[990]=YrespZ[99]"
   ]
  },
  {
   "cell_type": "code",
   "execution_count": 32,
   "metadata": {},
   "outputs": [
    {
     "name": "stdout",
     "output_type": "stream",
     "text": [
      "No height data\n",
      "No cantilever data\n",
      "Error loading spinning data\n",
      "No laser power data\n"
     ]
    }
   ],
   "source": [
    "##Z preparataion\n",
    "fname = folder+\"/Bead\"+str(BeadNumber)+\"/TransFunc\"+\"/Repeat_TransFunc_20200104/TransFunc_Z_m300k_250s_1hz.h5\" #% Ndata\n",
    "BDF = BeadDataFile.BeadDataFile(fname)\n",
    "data = BDF.xyz2 \n",
    "data_det=signal.detrend(data)\n",
    "x_1000=data_det[0]\n",
    "y_1000=data_det[1]\n",
    "z_1000=data_det[2]\n",
    "freqs=np.linspace(0,2500,(25000)+1)\n",
    "    \n",
    "xFFT=np.fft.rfft(x_1000)\n",
    "yFFT=np.fft.rfft(y_1000)\n",
    "zFFT=np.fft.rfft(z_1000)\n",
    "norm = np.sqrt(2 / (res* fsamp))\n",
    "xpsd = norm**2 * (xFFT * xFFT.conj()).real\n",
    "ypsd = norm**2 * (yFFT * yFFT.conj()).real\n",
    "zpsd = norm**2 * (zFFT * zFFT.conj()).real\n",
    "ZphaseX=np.angle(xFFT)\n",
    "ZphaseY=np.angle(yFFT)\n",
    "ZphaseZ=np.angle(zFFT)\n",
    "\n",
    "ZnoiseX=np.sqrt(xpsd)\n",
    "ZnoiseY=np.sqrt(ypsd)\n",
    "ZnoiseZ=np.sqrt(zpsd)\n",
    "\n",
    "ZrespX=np.zeros(Nharm)\n",
    "ZrespY=np.zeros(Nharm)\n",
    "ZrespZ=np.zeros(Nharm)\n",
    "for i in range (Nharm):\n",
    "    ZrespX[i]=ZnoiseX[tInt*(i+1)]\n",
    "    ZrespY[i]=ZnoiseY[tInt*(i+1)]\n",
    "    ZrespZ[i]=ZnoiseZ[tInt*(i+1)]\n",
    "    \n",
    "ZtfX=np.zeros(991)\n",
    "ZtfY=np.zeros(991)\n",
    "ZtfZ=np.zeros(991)\n",
    "\n",
    "for i in range (99):\n",
    "    for j in range(10):\n",
    "        ZtfX[i*10+j]=0.1*ZrespX[i]*(10-j)+0.1*ZrespX[i+1]*j\n",
    "        ZtfY[i*10+j]=0.1*ZrespY[i]*(10-j)+0.1*ZrespY[i+1]*j\n",
    "        ZtfZ[i*10+j]=0.1*ZrespZ[i]*(10-j)+0.1*ZrespZ[i+1]*j\n",
    "ZtfX[990]=ZrespX[99]\n",
    "ZtfY[990]=ZrespY[99]\n",
    "ZtfZ[990]=ZrespZ[99]"
   ]
  },
  {
   "cell_type": "code",
   "execution_count": 21,
   "metadata": {},
   "outputs": [],
   "source": [
    "for i in range(0,100):\n",
    "    xPha[i]=XphaseX[(i+1)*tInt*fBase]-(i*i/100-round(i*i/100))*2*3.14159265-np.pi*0.5\n",
    "    xAmp[i]=XnoiseX[i]\n",
    "    if(xPha[i]<-3):\n",
    "        xPha[i]+=2*np.pi\n",
    "    yPha[i]=YphaseY[(i+1)*tInt*fBase]-(i*i/100-round(i*i/100))*2*3.14159265+np.pi*0.5\n",
    "    yAmp[i]=YnoiseY[i]\n",
    "    if(yPha[i]>3):\n",
    "        yPha[i]-=2*np.pi\n",
    "    zPha[i]=ZphaseZ[(i+1)*tInt*fBase]-(i*i/100-round(i*i/100))*2*3.14159265+np.pi*0.5\n",
    "    zAmp[i]=ZnoiseZ[i]\n",
    "\n",
    "    \n",
    "        \n",
    "for i in range(0,99):  \n",
    "    if((zPha[i+1]-zPha[i])>4):\n",
    "        zPha[i+1]-=2*np.pi\n",
    "    elif((zPha[i+1]-zPha[i])<-4):\n",
    "        zPha[i+1]+=2*np.pi\n",
    "for i in range(0,99):  \n",
    "    if((zPha[i+1]-zPha[i])>4):\n",
    "        zPha[i+1]-=2*np.pi\n",
    "    elif((zPha[i+1]-zPha[i])<-4):\n",
    "        zPha[i+1]+=2*np.pi"
   ]
  },
  {
   "cell_type": "code",
   "execution_count": 32,
   "metadata": {},
   "outputs": [
    {
     "data": {
      "application/vnd.jupyter.widget-view+json": {
       "model_id": "777f4f26a1134d1cad3148c28f12dc3d",
       "version_major": 2,
       "version_minor": 0
      },
      "text/plain": [
       "Canvas(toolbar=Toolbar(toolitems=[('Home', 'Reset original view', 'home', 'home'), ('Back', 'Back to previous …"
      ]
     },
     "metadata": {},
     "output_type": "display_data"
    }
   ],
   "source": [
    "freqs=np.linspace(0,2500,(375000)+1)\n",
    "\n",
    "_,ax = plt.subplots()\n",
    "plt.subplots_adjust(left=0.18, right=0.96, top=0.96, bottom=0.14)\n",
    "\n",
    "ax.plot(np.linspace(1,100,100),xPha, '.-', label=\"x\",markersize=1,linewidth=1)\n",
    "ax.plot(np.linspace(1,100,100),yPha, '.-', label=\"y\",markersize=1,linewidth=1)\n",
    "ax.plot(np.linspace(1,100,100),zPha, '.-', label=\"z\",markersize=1,linewidth=1)\n",
    "ax.legend(fontsize=16)\n",
    "ax.set_xlabel('Frequency [Hz]', fontsize=18)\n",
    "ax.set_ylabel('Force NSD [N/√Hz]',fontsize=18)\n",
    "\n",
    "ax.tick_params(axis='x', labelsize=18)\n",
    "ax.tick_params(axis='y', labelsize=18)\n",
    "#plt.xlim(0.1,500)\n",
    "#plt.ylim(1e-7,1e-2)\n",
    "plt.grid(True)"
   ]
  },
  {
   "cell_type": "code",
   "execution_count": 43,
   "metadata": {},
   "outputs": [
    {
     "data": {
      "application/vnd.jupyter.widget-view+json": {
       "model_id": "c7485d360f9442398d421924b52006c3",
       "version_major": 2,
       "version_minor": 0
      },
      "text/plain": [
       "Canvas(toolbar=Toolbar(toolitems=[('Home', 'Reset original view', 'home', 'home'), ('Back', 'Back to previous …"
      ]
     },
     "metadata": {},
     "output_type": "display_data"
    }
   ],
   "source": [
    "freqs=np.linspace(0,2500,(375000)+1)\n",
    "\n",
    "_,ax = plt.subplots()\n",
    "plt.subplots_adjust(left=0.18, right=0.96, top=0.96, bottom=0.14)\n",
    "\n",
    "#ax.plot(np.linspace(1,100,100),xAmp, '.-', label=\"x\",markersize=1,linewidth=1)\n",
    "#ax.plot(np.linspace(1,100,100),yAmp, '.-', label=\"y\",markersize=1,linewidth=1)\n",
    "ax.plot(np.linspace(1,100,100),zAmp, '.-', label=\"z\",markersize=1,linewidth=1)\n",
    "ax.legend(fontsize=16)\n",
    "ax.set_xlabel('Frequency [Hz]', fontsize=18)\n",
    "ax.set_ylabel('Force NSD [N/√Hz]',fontsize=18)\n",
    "\n",
    "ax.tick_params(axis='x', labelsize=18)\n",
    "ax.tick_params(axis='y', labelsize=18)\n",
    "#plt.xlim(0.1,500)\n",
    "#plt.ylim(1e-7,1e-2)\n",
    "plt.grid(True)"
   ]
  },
  {
   "cell_type": "code",
   "execution_count": 34,
   "metadata": {},
   "outputs": [],
   "source": [
    "ofname = folder+\"/Bead\"+str(BeadNumber)+\"/TransFunc\"+\"/RepeatTransFuncPhase_XYZ_m300k_250s_1hz_2.txt\"\n",
    "f1 = open(ofname,\"a\")\n",
    "for k in range(0,100):\n",
    "    f1.write('%d %f %f %f\\n' % (k+1, xPha[k], yPha[k], zPha[k]))\n",
    "f1.close()"
   ]
  },
  {
   "cell_type": "code",
   "execution_count": 44,
   "metadata": {},
   "outputs": [
    {
     "data": {
      "text/plain": [
       "array([2.19441917e-08, 1.18907331e+00, 5.79349161e-01, 8.09926192e-01,\n",
       "       1.29591587e+00, 8.31563259e-01, 6.75347791e+00, 7.80759000e-01,\n",
       "       1.20127918e+00, 3.30609651e+00, 1.96321322e+00, 1.43027159e+00,\n",
       "       1.60056130e+00, 1.99795204e+00, 2.45903080e+00, 7.85145117e-01,\n",
       "       8.35151349e-01, 1.39797137e+00, 1.01230132e+00, 2.46007833e+00,\n",
       "       1.92531544e+00, 6.37054836e-01, 2.20609202e+00, 6.98449952e-01,\n",
       "       1.89401408e+00, 1.94210632e+00, 1.61434073e+00, 2.12032721e+00,\n",
       "       1.72149162e+00, 2.68187915e+00, 8.31638396e-01, 1.38571827e+00,\n",
       "       1.35489520e+00, 1.09697556e+00, 1.45256620e+00, 8.79643165e-01,\n",
       "       2.05578486e+00, 1.48427037e+00, 1.65057510e+00, 1.19423739e+00,\n",
       "       3.16080184e+00, 1.32506995e+00, 1.47398570e+00, 1.43894903e+00,\n",
       "       4.22480960e-01, 7.56784400e-01, 2.42673703e+00, 1.69419233e+00,\n",
       "       1.06985748e+00, 1.11348013e+00, 9.61531198e-01, 4.88792933e-01,\n",
       "       1.79277737e+00, 2.47573333e-01, 1.59973469e+00, 4.85176091e-01,\n",
       "       1.92867792e+00, 3.93222874e-01, 4.45813322e-01, 1.50033597e+00,\n",
       "       2.36746116e-01, 8.83425830e-01, 5.18893310e-01, 1.25848288e+00,\n",
       "       8.16626580e-01, 1.00992581e+00, 2.97635130e-01, 1.82067293e+00,\n",
       "       1.35523741e+00, 1.06647830e+00, 8.73311126e-01, 1.48815667e+00,\n",
       "       9.10434487e-01, 1.77114536e+00, 1.37180253e+00, 4.31335388e-01,\n",
       "       9.51044206e-01, 1.30297015e+00, 5.94317174e-01, 9.31211507e-01,\n",
       "       5.58039044e-01, 7.24077795e-01, 2.00558768e+00, 8.90259052e-02,\n",
       "       5.16226768e-01, 3.57556876e-01, 1.62502550e+00, 1.34794051e+00,\n",
       "       1.79578974e+00, 4.19397631e-01, 1.16484388e+00, 8.88222130e-01,\n",
       "       1.60464459e+00, 6.47635073e-01, 1.56065836e-01, 1.78166487e+00,\n",
       "       9.65376791e-01, 1.66142974e+00, 1.15207860e+00, 3.76070503e-01])"
      ]
     },
     "execution_count": 44,
     "metadata": {},
     "output_type": "execute_result"
    }
   ],
   "source": [
    "zAmp"
   ]
  },
  {
   "cell_type": "code",
   "execution_count": 28,
   "metadata": {},
   "outputs": [],
   "source": [
    "#Obtain the information of the phase from transfer function- 1Hz"
   ]
  },
  {
   "cell_type": "code",
   "execution_count": 27,
   "metadata": {},
   "outputs": [
    {
     "data": {
      "application/vnd.jupyter.widget-view+json": {
       "model_id": "3bd24082d10447d3869b372f3c2e3e3d",
       "version_major": 2,
       "version_minor": 0
      },
      "text/plain": [
       "Canvas(toolbar=Toolbar(toolitems=[('Home', 'Reset original view', 'home', 'home'), ('Back', 'Back to previous …"
      ]
     },
     "metadata": {},
     "output_type": "display_data"
    }
   ],
   "source": [
    "_,ax = plt.subplots()\n",
    "plt.subplots_adjust(left=0.18, right=0.96, top=0.96, bottom=0.14)\n",
    "\n",
    "#ax.loglog(freqs, XnoiseX, '.-', label=\"x\",markersize=1,linewidth=1)\n",
    "#ax.loglog(freqs, XnoiseX2, '.-', label=\"x\",markersize=1,linewidth=1)\n",
    "ax.semilogx(freqs, XphaseX, '.-', label=\"y\",markersize=1,linewidth=1)\n",
    "#ax.loglog(freqs, XnoiseZ, '.-', label=\"z\",markersize=1,linewidth=1)\n",
    "ax.legend(fontsize=16)\n",
    "ax.set_xlabel('Frequency [Hz]', fontsize=18)\n",
    "ax.set_ylabel('Force NSD [N/√Hz]',fontsize=18)\n",
    "\n",
    "ax.tick_params(axis='x', labelsize=18)\n",
    "ax.tick_params(axis='y', labelsize=18)\n",
    "plt.xlim(0.1,500)\n",
    "#plt.ylim(1e-7,1e-2)\n",
    "plt.grid(True)\n",
    "ofname = folder+\"/Bead\"+str(BeadNumber)+\"/TransFunc\"+\"/ForceSensitivity%d.png\" % Ndata\n"
   ]
  },
  {
   "cell_type": "code",
   "execution_count": null,
   "metadata": {},
   "outputs": [],
   "source": []
  },
  {
   "cell_type": "code",
   "execution_count": 14,
   "metadata": {},
   "outputs": [
    {
     "name": "stdout",
     "output_type": "stream",
     "text": [
      "No height data\n",
      "No cantilever data\n",
      "Error loading spinning data\n",
      "No laser power data\n"
     ]
    }
   ],
   "source": [
    "##Y preparataion\n",
    "fname = folder+\"/Bead\"+str(BeadNumber)+\"/TransFunc\"+\"/TransFunc_%d_Y_z%de5_10s_7Hz.h5\" % (Ndata,Zset)\n",
    "BDF = BeadDataFile.BeadDataFile(fname)\n",
    "data = BDF.xyz2 \n",
    "data_det=signal.detrend(data)\n",
    "\n",
    "xpsd, freqs = matplotlib.mlab.psd(data_det[0], Fs = fsamp, NFFT = res,window=mlab.window_none) \n",
    "ypsd, freqs = matplotlib.mlab.psd(data_det[1], Fs = fsamp, NFFT = res,window=mlab.window_none) \n",
    "zpsd, freqs = matplotlib.mlab.psd(data_det[2], Fs = fsamp, NFFT = res,window=mlab.window_none) \n",
    "#Noise0Y=np.sqrt(ypsd[fbase*Tmeas]) \n",
    "YnoiseX=np.sqrt(xpsd) \n",
    "YnoiseY=np.sqrt(ypsd) \n",
    "YnoiseZ=np.sqrt(zpsd)"
   ]
  },
  {
   "cell_type": "code",
   "execution_count": 15,
   "metadata": {},
   "outputs": [
    {
     "name": "stdout",
     "output_type": "stream",
     "text": [
      "No height data\n",
      "No cantilever data\n",
      "Error loading spinning data\n",
      "No laser power data\n"
     ]
    }
   ],
   "source": [
    "##Z preparation\n",
    "\n",
    "fname = folder+\"/Bead\"+str(BeadNumber)+\"/TransFunc\"+\"/TransFunc_%d_Z_z%de5_10s_7Hz.h5\" % (Ndata,Zset)\n",
    "BDF = BeadDataFile.BeadDataFile(fname)\n",
    "data = BDF.xyz2\n",
    "data_det=signal.detrend(data)\n",
    "\n",
    "xpsd, freqs = matplotlib.mlab.psd(data_det[0], Fs = fsamp, NFFT = res,window=mlab.window_none)\n",
    "ypsd, freqs = matplotlib.mlab.psd(data_det[1], Fs = fsamp, NFFT = res,window=mlab.window_none)\n",
    "zpsd, freqs = matplotlib.mlab.psd(data_det[2], Fs = fsamp, NFFT = res,window=mlab.window_none)\n",
    "#Noise0Z=np.sqrt(zpsd[fbase*Tmeas])\n",
    "ZnoiseX=np.sqrt(xpsd)\n",
    "ZnoiseY=np.sqrt(ypsd)\n",
    "ZnoiseZ=np.sqrt(zpsd)"
   ]
  },
  {
   "cell_type": "code",
   "execution_count": 16,
   "metadata": {},
   "outputs": [],
   "source": [
    "#Here, there is no conversion factor\n",
    "q=20\n",
    "V=0.65\n",
    "F=(q*1.602e-19)*(V*2/8.6e-3*0.65)\n",
    "Nharm=100\n",
    "\n",
    "\n",
    "FnoiseXX=XnoiseX\n",
    "FnoiseXY=XnoiseY\n",
    "FnoiseXZ=XnoiseZ\n",
    "FnoiseYX=YnoiseX\n",
    "FnoiseYY=YnoiseY\n",
    "FnoiseYZ=YnoiseZ\n",
    "FnoiseZX=ZnoiseX\n",
    "FnoiseZY=ZnoiseY\n",
    "FnoiseZZ=ZnoiseZ\n",
    "\n",
    "TFXX=np.zeros(Nharm)\n",
    "TFXY=np.zeros(Nharm)\n",
    "TFXZ=np.zeros(Nharm)\n",
    "TFYX=np.zeros(Nharm)\n",
    "TFYY=np.zeros(Nharm)\n",
    "TFYZ=np.zeros(Nharm)\n",
    "TFZX=np.zeros(Nharm)\n",
    "TFZY=np.zeros(Nharm)\n",
    "TFZZ=np.zeros(Nharm)\n",
    "\n",
    "FreqTF=np.zeros(Nharm)\n",
    "for i in range(Nharm):\n",
    "    FreqTF[i]=fbase*(i+1)\n",
    "    TFXX[i]=FnoiseXX[fbase*Tmeas*(i+1)]\n",
    "    TFXY[i]=FnoiseXY[fbase*Tmeas*(i+1)]\n",
    "    TFXZ[i]=FnoiseXZ[fbase*Tmeas*(i+1)]\n",
    "    TFYX[i]=FnoiseYX[fbase*Tmeas*(i+1)]\n",
    "    TFYY[i]=FnoiseYY[fbase*Tmeas*(i+1)]\n",
    "    TFYZ[i]=FnoiseYZ[fbase*Tmeas*(i+1)]\n",
    "    TFZX[i]=FnoiseZX[fbase*Tmeas*(i+1)]\n",
    "    TFZY[i]=FnoiseZY[fbase*Tmeas*(i+1)]\n",
    "    TFZZ[i]=FnoiseZZ[fbase*Tmeas*(i+1)]"
   ]
  },
  {
   "cell_type": "code",
   "execution_count": 23,
   "metadata": {},
   "outputs": [],
   "source": [
    "ofname = folder+\"/Bead\"+str(BeadNumber)+\"/TransFunc\"+\"/TFBead%d_Bit.txt\" % (Ndata)\n",
    "\n",
    "f1 = open(ofname,\"a\")\n",
    "for i in range(Nharm):\n",
    "    f1.write('%f %e %e %e %e %e %e %e %e %e\\n' % (FreqTF[i],TFXX[i],TFXY[i],TFXZ[i],\n",
    "                                                  TFYX[i],TFYY[i],TFYZ[i],TFZX[i],TFZY[i],TFZZ[i]))\n",
    "f1.close()"
   ]
  },
  {
   "cell_type": "code",
   "execution_count": 44,
   "metadata": {},
   "outputs": [],
   "source": [
    "## Plotting the force sensitivity with transfer function compensation"
   ]
  },
  {
   "cell_type": "code",
   "execution_count": 24,
   "metadata": {},
   "outputs": [
    {
     "name": "stdout",
     "output_type": "stream",
     "text": [
      "/data/new_trap/20200924/Bead1/InitialTest/Data45.h5\n",
      "No height data\n",
      "No electrodes data\n",
      "No cantilever data\n",
      "No laser power data\n"
     ]
    }
   ],
   "source": [
    "Ndata=45\n",
    "fname = folder+\"/Bead\"+str(BeadNumber)+\"/InitialTest\"+\"/Data%d.h5\" % Ndata\n",
    "print(fname)\n",
    "BDF = BeadDataFile.BeadDataFile(fname)\n",
    "data = BDF.xyz2\n",
    "res = 50000\n",
    "data_det=signal.detrend(data)\n",
    "\n",
    "xpsd, freqs = matplotlib.mlab.psd(data_det[0], Fs = fsamp, NFFT = res,window=mlab.window_none)\n",
    "ypsd, freqs = matplotlib.mlab.psd(data_det[1], Fs = fsamp, NFFT = res,window=mlab.window_none)\n",
    "zpsd, freqs = matplotlib.mlab.psd(data_det[2], Fs = fsamp, NFFT = res,window=mlab.window_none)\n",
    "\n",
    "w0x=285.056\n",
    "gx=14.6244\n",
    "w0y=288.805\n",
    "gy=19.551\n",
    "w0z=3958.93\n",
    "gz=306701\n",
    "\n",
    "f0=71\n",
    "F0x=1/np.sqrt((f0*f0-w0x*w0x)*(f0*f0-w0x*w0x)+gx*gx*f0*f0)\n",
    "F0y=1/np.sqrt((f0*f0-w0y*w0y)*(f0*f0-w0y*w0y)+gy*gy*f0*f0)\n",
    "F0z=1/np.sqrt((f0*f0-w0z*w0z)*(f0*f0-w0z*w0z)+gz*gz*f0*f0)\n",
    "\n",
    "xnsd=np.sqrt(xpsd)*BtoFx*F0x*np.sqrt((freqs*freqs-w0x*w0x)*(freqs*freqs-w0x*w0x)+gx*gx*freqs*freqs)\n",
    "ynsd=np.sqrt(ypsd)*BtoFy*F0y*np.sqrt((freqs*freqs-w0y*w0y)*(freqs*freqs-w0y*w0y)+gy*gy*freqs*freqs)\n",
    "znsd=np.sqrt(zpsd)*BtoFz*F0z*np.sqrt((f0*f0-w0z*w0z)*(f0*f0-w0z*w0z)+gz*gz*f0*f0)"
   ]
  },
  {
   "cell_type": "code",
   "execution_count": 26,
   "metadata": {
    "scrolled": false
   },
   "outputs": [
    {
     "data": {
      "application/vnd.jupyter.widget-view+json": {
       "model_id": "c5360b4084124b1ea68f626e528b902a",
       "version_major": 2,
       "version_minor": 0
      },
      "text/plain": [
       "Canvas(toolbar=Toolbar(toolitems=[('Home', 'Reset original view', 'home', 'home'), ('Back', 'Back to previous …"
      ]
     },
     "metadata": {},
     "output_type": "display_data"
    }
   ],
   "source": [
    "_,ax = plt.subplots()\n",
    "plt.subplots_adjust(left=0.18, right=0.96, top=0.96, bottom=0.14)\n",
    "\n",
    "ax.loglog(freqs, ynsd, '.-', label=\"y\",markersize=1,linewidth=1)\n",
    "ax.loglog(freqs, znsd, '.-', label=\"z\",markersize=1,linewidth=1)\n",
    "ax.loglog(freqs, xnsd, '.-', label=\"x\",markersize=1,linewidth=1)\n",
    "ax.legend(fontsize=16)\n",
    "ax.set_xlabel('Frequency [Hz]', fontsize=18)\n",
    "ax.set_ylabel('Force NSD [N/√Hz]',fontsize=18)\n",
    "\n",
    "ax.tick_params(axis='x', labelsize=18)\n",
    "ax.tick_params(axis='y', labelsize=18)\n",
    "plt.xlim(0.1,500)\n",
    "plt.ylim(1e-18,1e-14)\n",
    "plt.grid(True)\n",
    "ofname = folder+\"/Bead\"+str(BeadNumber)+\"/TransFunc\"+\"/ForceSensitivity%d.png\" % Ndata\n",
    "\n",
    "#plt.savefig(ofname,dpi=300)"
   ]
  },
  {
   "cell_type": "code",
   "execution_count": 18,
   "metadata": {},
   "outputs": [],
   "source": [
    "## 1-100 Hz Transfer Function Test"
   ]
  },
  {
   "cell_type": "code",
   "execution_count": 17,
   "metadata": {},
   "outputs": [
    {
     "name": "stdout",
     "output_type": "stream",
     "text": [
      "/data/new_trap/20200924/Bead1/TransFunc/TransFunc_14_X_z-10e5_10s_1Hz.h5\n",
      "No height data\n",
      "No cantilever data\n",
      "Error loading spinning data\n",
      "No laser power data\n"
     ]
    }
   ],
   "source": [
    "##X preparation\n",
    "Ndata=14\n",
    "fname = folder+\"/Bead\"+str(BeadNumber)+\"/TransFunc\"+\"/TransFunc_%d_X_z%de5_10s_1Hz.h5\" % (Ndata,Zset)\n",
    "print(fname)\n",
    "BDF = BeadDataFile.BeadDataFile(fname)\n",
    "data = BDF.xyz2\n",
    "tInt=250\n",
    "Nharm=100\n",
    "fsamp=5000\n",
    "res=fsamp*tInt\n",
    "fBase=1;\n",
    "\n",
    "data_det=signal.detrend(data)\n",
    "\n",
    "xpsd, freqs = matplotlib.mlab.psd(data_det[0], Fs = fsamp, NFFT = res,window=mlab.window_none)\n",
    "ypsd, freqs = matplotlib.mlab.psd(data_det[1], Fs = fsamp, NFFT = res,window=mlab.window_none)\n",
    "zpsd, freqs = matplotlib.mlab.psd(data_det[2], Fs = fsamp, NFFT = res,window=mlab.window_none)\n",
    "XnoiseX=np.sqrt(xpsd)\n",
    "XnoiseY=np.sqrt(ypsd)\n",
    "XnoiseZ=np.sqrt(zpsd)\n",
    "XrespX=np.zeros(Nharm)\n",
    "XrespY=np.zeros(Nharm)\n",
    "XrespZ=np.zeros(Nharm)\n",
    "for i in range (Nharm):\n",
    "    XrespX[i]=XnoiseX[tInt*(i+1)]\n",
    "    XrespY[i]=XnoiseY[tInt*(i+1)]\n",
    "    XrespZ[i]=XnoiseZ[tInt*(i+1)]\n",
    "    \n",
    "XtfX=np.zeros(991)\n",
    "XtfY=np.zeros(991)\n",
    "XtfZ=np.zeros(991)\n",
    "\n",
    "for i in range (99):\n",
    "    for j in range(10):\n",
    "        XtfX[i*10+j]=0.1*XrespX[i]*(10-j)+0.1*XrespX[i+1]*j\n",
    "        XtfY[i*10+j]=0.1*XrespY[i]*(10-j)+0.1*XrespY[i+1]*j\n",
    "        XtfZ[i*10+j]=0.1*XrespZ[i]*(10-j)+0.1*XrespZ[i+1]*j\n",
    "XtfX[990]=XrespX[99]\n",
    "XtfY[990]=XrespY[99]\n",
    "XtfZ[990]=XrespZ[99]"
   ]
  },
  {
   "cell_type": "code",
   "execution_count": 18,
   "metadata": {},
   "outputs": [
    {
     "name": "stdout",
     "output_type": "stream",
     "text": [
      "/data/new_trap/20200924/Bead1/TransFunc/TransFunc_14_Y_z-10e5_10s_1Hz.h5\n",
      "No height data\n",
      "No cantilever data\n",
      "Error loading spinning data\n",
      "No laser power data\n"
     ]
    }
   ],
   "source": [
    "##Y preparation\n",
    "fname = folder+\"/Bead\"+str(BeadNumber)+\"/TransFunc\"+\"/TransFunc_%d_Y_z%de5_10s_1Hz.h5\" % (Ndata,Zset)\n",
    "print(fname)\n",
    "BDF = BeadDataFile.BeadDataFile(fname)\n",
    "data = BDF.xyz2\n",
    "\n",
    "data_det=signal.detrend(data)\n",
    "\n",
    "xpsd, freqs = matplotlib.mlab.psd(data_det[0], Fs = fsamp, NFFT = res,window=mlab.window_none)\n",
    "ypsd, freqs = matplotlib.mlab.psd(data_det[1], Fs = fsamp, NFFT = res,window=mlab.window_none)\n",
    "zpsd, freqs = matplotlib.mlab.psd(data_det[2], Fs = fsamp, NFFT = res,window=mlab.window_none)\n",
    "YnoiseX=np.sqrt(xpsd)\n",
    "YnoiseY=np.sqrt(ypsd)\n",
    "YnoiseZ=np.sqrt(zpsd)\n",
    "YrespX=np.zeros(Nharm)\n",
    "YrespY=np.zeros(Nharm)\n",
    "YrespZ=np.zeros(Nharm)\n",
    "for i in range (Nharm):\n",
    "    YrespX[i]=YnoiseX[tInt*(i+1)]\n",
    "    YrespY[i]=YnoiseY[tInt*(i+1)]\n",
    "    YrespZ[i]=YnoiseZ[tInt*(i+1)]\n",
    "    \n",
    "YtfX=np.zeros(991)\n",
    "YtfY=np.zeros(991)\n",
    "YtfZ=np.zeros(991)\n",
    "\n",
    "for i in range (99):\n",
    "    for j in range(10):\n",
    "        YtfX[i*10+j]=0.1*YrespX[i]*(10-j)+0.1*YrespX[i+1]*j\n",
    "        YtfY[i*10+j]=0.1*YrespY[i]*(10-j)+0.1*YrespY[i+1]*j\n",
    "        YtfZ[i*10+j]=0.1*YrespZ[i]*(10-j)+0.1*YrespZ[i+1]*j\n",
    "YtfX[990]=YrespX[99]\n",
    "YtfY[990]=YrespY[99]\n",
    "YtfZ[990]=YrespZ[99]"
   ]
  },
  {
   "cell_type": "code",
   "execution_count": 19,
   "metadata": {},
   "outputs": [
    {
     "name": "stdout",
     "output_type": "stream",
     "text": [
      "/data/new_trap/20200924/Bead1/TransFunc/TransFunc_14_Z_z-10e5_10s_1Hz.h5\n",
      "No height data\n",
      "No cantilever data\n",
      "Error loading spinning data\n",
      "No laser power data\n"
     ]
    }
   ],
   "source": [
    "##Z preparation\n",
    "fname = folder+\"/Bead\"+str(BeadNumber)+\"/TransFunc\"+\"/TransFunc_%d_Z_z%de5_10s_1Hz.h5\" % (Ndata,Zset)\n",
    "print(fname)\n",
    "BDF = BeadDataFile.BeadDataFile(fname)\n",
    "data = BDF.xyz2\n",
    "\n",
    "data_det=signal.detrend(data)\n",
    "\n",
    "xpsd, freqs = matplotlib.mlab.psd(data_det[0], Fs = fsamp, NFFT = res,window=mlab.window_none)\n",
    "ypsd, freqs = matplotlib.mlab.psd(data_det[1], Fs = fsamp, NFFT = res,window=mlab.window_none)\n",
    "zpsd, freqs = matplotlib.mlab.psd(data_det[2], Fs = fsamp, NFFT = res,window=mlab.window_none)\n",
    "ZnoiseX=np.sqrt(xpsd)\n",
    "ZnoiseY=np.sqrt(ypsd)\n",
    "ZnoiseZ=np.sqrt(zpsd)\n",
    "ZrespX=np.zeros(Nharm)\n",
    "ZrespY=np.zeros(Nharm)\n",
    "ZrespZ=np.zeros(Nharm)\n",
    "for i in range (Nharm):\n",
    "    ZrespX[i]=ZnoiseX[tInt*(i+1)]\n",
    "    ZrespY[i]=ZnoiseY[tInt*(i+1)]\n",
    "    ZrespZ[i]=ZnoiseZ[tInt*(i+1)]\n",
    "    \n",
    "ZtfX=np.zeros(991)\n",
    "ZtfY=np.zeros(991)\n",
    "ZtfZ=np.zeros(991)\n",
    "\n",
    "for i in range (99):\n",
    "    for j in range(10):\n",
    "        ZtfX[i*10+j]=0.1*ZrespX[i]*(10-j)+0.1*ZrespX[i+1]*j\n",
    "        ZtfY[i*10+j]=0.1*ZrespY[i]*(10-j)+0.1*ZrespY[i+1]*j\n",
    "        ZtfZ[i*10+j]=0.1*ZrespZ[i]*(10-j)+0.1*ZrespZ[i+1]*j\n",
    "ZtfX[990]=ZrespX[99]\n",
    "ZtfY[990]=ZrespY[99]\n",
    "ZtfZ[990]=ZrespZ[99]"
   ]
  },
  {
   "cell_type": "code",
   "execution_count": 33,
   "metadata": {},
   "outputs": [],
   "source": [
    "ofname = folder+\"/Bead\"+str(BeadNumber)+\"/TransFunc\"+\"/TFintBit%d.txt\" % Ndata\n",
    "\n",
    "f1 = open(ofname,\"a\")\n",
    "for i in range(991):\n",
    "    f1.write('%f %e %e %e %e %e %e %e %e %e\\n' % ((0.1*(i+10)),XtfX[i],XtfY[i],XtfZ[i],YtfX[i],YtfY[i],YtfZ[i],ZtfX[i],ZtfY[i],ZtfZ[i]))\n",
    "\n",
    "#    f1.write('%f %e %e %e %e %e %e %e %e %e\\n' % (FreqTF[i],TFXX[i],TFXY[i],TFXZ[i],\n",
    "#                                                  TFYX[i],TFYY[i],TFYZ[i],TFZX[i],TFZY[i],TFZZ[i]))\n",
    "f1.close()"
   ]
  },
  {
   "cell_type": "code",
   "execution_count": 62,
   "metadata": {},
   "outputs": [],
   "source": [
    "##force sensitivity"
   ]
  },
  {
   "cell_type": "code",
   "execution_count": 20,
   "metadata": {},
   "outputs": [
    {
     "name": "stdout",
     "output_type": "stream",
     "text": [
      "/data/new_trap/20200924/Bead1/InitialTest/Data52.h5\n",
      "No height data\n",
      "No electrodes data\n",
      "No cantilever data\n",
      "No laser power data\n"
     ]
    }
   ],
   "source": [
    "Ndata=52\n",
    "fname = folder+\"/Bead\"+str(BeadNumber)+\"/InitialTest\"+\"/Data%d.h5\" % Ndata\n",
    "print(fname)\n",
    "BDF = BeadDataFile.BeadDataFile(fname)\n",
    "data = BDF.xyz2\n",
    "res = 50000\n",
    "data_det=signal.detrend(data)\n",
    "\n",
    "xpsd, freqs = matplotlib.mlab.psd(data_det[0], Fs = fsamp, NFFT = res,window=mlab.window_none)\n",
    "ypsd, freqs = matplotlib.mlab.psd(data_det[1], Fs = fsamp, NFFT = res,window=mlab.window_none)\n",
    "zpsd, freqs = matplotlib.mlab.psd(data_det[2], Fs = fsamp, NFFT = res,window=mlab.window_none)\n",
    "xnsd=np.sqrt(xpsd)\n",
    "ynsd=np.sqrt(ypsd)\n",
    "znsd=np.sqrt(zpsd)\n",
    "f0=71\n",
    "Xsens=np.zeros(991)\n",
    "Ysens=np.zeros(991)\n",
    "Zsens=np.zeros(991)\n",
    "\n",
    "for i in range(991):\n",
    "    Xsens[i]=xnsd[10+i]*XtfX[f0*10-10]/XtfX[i]*BtoFx\n",
    "    Ysens[i]=ynsd[10+i]*YtfY[f0*10-10]/YtfY[i]*BtoFy\n",
    "    Zsens[i]=znsd[10+i]*ZtfZ[f0*10-10]/ZtfZ[i]*BtoFz"
   ]
  },
  {
   "cell_type": "code",
   "execution_count": 21,
   "metadata": {},
   "outputs": [
    {
     "data": {
      "application/vnd.jupyter.widget-view+json": {
       "model_id": "3a68276fa4474304906154f3c8c671b1",
       "version_major": 2,
       "version_minor": 0
      },
      "text/plain": [
       "Canvas(toolbar=Toolbar(toolitems=[('Home', 'Reset original view', 'home', 'home'), ('Back', 'Back to previous …"
      ]
     },
     "metadata": {},
     "output_type": "display_data"
    }
   ],
   "source": [
    "_,ax = plt.subplots()\n",
    "plt.subplots_adjust(left=0.18, right=0.96, top=0.96, bottom=0.14)\n",
    "ax.semilogy(np.linspace(1,100,991),Ysens, '.-', label=\"y\",markersize=1,linewidth=1)\n",
    "ax.semilogy(np.linspace(1,100,991),Zsens, '.-', label=\"z\",markersize=1,linewidth=1)\n",
    "ax.semilogy(np.linspace(1,100,991),Xsens, '.-', label=\"x\",markersize=1,linewidth=1)\n",
    "ax.legend(fontsize=16)\n",
    "ax.set_xlabel('Frequency [Hz]', fontsize=18)\n",
    "ax.set_ylabel('Force NSD [N/√Hz]',fontsize=18)\n",
    "ax.tick_params(axis='x', labelsize=18)\n",
    "ax.tick_params(axis='y', labelsize=18)\n",
    "#plt.xlim(1,100)\n",
    "plt.ylim(3e-18,3e-15)\n",
    "plt.grid(True)\n",
    "ofname = folder+\"/Bead\"+str(BeadNumber)+\"/TransFunc\"+\"/ForceSensitivity1-100HzSemi_%dNewDischarge.png\" % Ndata\n",
    "\n",
    "#plt.savefig(ofname,dpi=300)"
   ]
  },
  {
   "cell_type": "code",
   "execution_count": 26,
   "metadata": {},
   "outputs": [],
   "source": [
    "##combining the \"#analyzing multiple data in single number,\"  \n",
    "##\"##for Noise only analysis for sensitivity. Used bin of 3*n+0.7 Hz, Nint=0\", and SortDataTo Harmonics"
   ]
  },
  {
   "cell_type": "code",
   "execution_count": 37,
   "metadata": {},
   "outputs": [],
   "source": [
    "import scipy, sys, time"
   ]
  },
  {
   "cell_type": "code",
   "execution_count": 38,
   "metadata": {},
   "outputs": [],
   "source": [
    "#Gravity Measurement"
   ]
  },
  {
   "cell_type": "code",
   "execution_count": 41,
   "metadata": {},
   "outputs": [
    {
     "name": "stdout",
     "output_type": "stream",
     "text": [
      "0\n",
      "100\n",
      "200\n",
      "300\n",
      "400\n",
      "500\n",
      "600\n",
      "700\n",
      "800\n",
      "900\n",
      "1000\n",
      "1100\n",
      "1200\n",
      "1300\n",
      "1400\n",
      "1500\n",
      "1600\n",
      "1700\n",
      "1800\n",
      "1900\n",
      "2000\n",
      "2100\n",
      "2200\n",
      "2300\n",
      "2400\n",
      "Total run time is  41.755202293395996  s\n"
     ]
    }
   ],
   "source": [
    "import time\n",
    "start_time = time.time()\n",
    "\n",
    "#DefineParameters\n",
    "Ndata=1\n",
    "Dx=340\n",
    "Fshake=3\n",
    "DataN=2500\n",
    "HarmN=20\n",
    "Noff=3\n",
    "ArraySize=(DataN,HarmN)\n",
    "DataSpaceXSigAmp=np.zeros(ArraySize)\n",
    "DataSpaceYSigAmp=np.zeros(ArraySize)\n",
    "DataSpaceZSigAmp=np.zeros(ArraySize)\n",
    "DataSpaceXSigPha=np.zeros(ArraySize)\n",
    "DataSpaceYSigPha=np.zeros(ArraySize)\n",
    "DataSpaceZSigPha=np.zeros(ArraySize)\n",
    "\n",
    "DataSpaceXNoiAmp=np.zeros(ArraySize)\n",
    "DataSpaceYNoiAmp=np.zeros(ArraySize)\n",
    "DataSpaceZNoiAmp=np.zeros(ArraySize)\n",
    "DataSpaceXNoiPha=np.zeros(ArraySize)\n",
    "DataSpaceYNoiPha=np.zeros(ArraySize)\n",
    "DataSpaceZNoiPha=np.zeros(ArraySize)\n",
    "\n",
    "for k in range(0,DataN):\n",
    "##FFT the data\n",
    "    NSubData=k\n",
    "    fname = folder+\"/Bead\"+str(BeadNumber)+\"/Shaking\"+\"/Shaking%d/NoSpinShaking%d_%d.h5\" % (Dx,Ndata,NSubData)\n",
    "    BDF = BeadDataFile.BeadDataFile(fname)\n",
    "    data = BDF.xyz2\n",
    "    fsamp=5000\n",
    "    res=50000\n",
    "\n",
    "    data_det=signal.detrend(data)\n",
    "    x_1000=data_det[0]\n",
    "    y_1000=data_det[1]\n",
    "    z_1000=data_det[2]\n",
    "    freqs=np.linspace(0,2500,(25000)+1)\n",
    "    \n",
    "    xFFT=np.fft.rfft(x_1000)\n",
    "    yFFT=np.fft.rfft(y_1000)\n",
    "    zFFT=np.fft.rfft(z_1000)\n",
    "    norm = np.sqrt(2 / (res* fsamp))\n",
    "    xpsd = norm**2 * (xFFT * xFFT.conj()).real\n",
    "    ypsd = norm**2 * (yFFT * yFFT.conj()).real\n",
    "    zpsd = norm**2 * (zFFT * zFFT.conj()).real\n",
    "  \n",
    "    f0=71\n",
    "\n",
    "    xnsd=np.sqrt(xpsd)*BtoFx#*F0x*np.sqrt((freqs*freqs-w0x*w0x)*(freqs*freqs-w0x*w0x)+gx*gx*freqs*freqs)\n",
    "    ynsd=np.sqrt(ypsd)*BtoFy#*F0y*np.sqrt((freqs*freqs-w0y*w0y)*(freqs*freqs-w0y*w0y)+gy*gy*freqs*freqs)\n",
    "    znsd=np.sqrt(zpsd)*BtoFz#*F0z*np.sqrt((f0*f0-w0z*w0z)*(f0*f0-w0z*w0z)+gz*gz*f0*f0)\n",
    "\n",
    "##save signal bin data to the array\n",
    "    for i in range(1,(HarmN+1)):\n",
    "        DataSpaceXSigAmp[k][i-1]=xnsd[Fshake*10*i]/XtfX[Fshake*10*i-10]*XtfX[f0*10-10]\n",
    "        DataSpaceXSigPha[k][i-1]=np.angle(xFFT[Fshake*10*i]) \n",
    "        DataSpaceYSigAmp[k][i-1]=ynsd[Fshake*10*i]/YtfY[Fshake*10*i-10]*YtfY[f0*10-10]\n",
    "        DataSpaceYSigPha[k][i-1]=np.angle(yFFT[Fshake*10*i]) \n",
    "        DataSpaceZSigAmp[k][i-1]=znsd[Fshake*10*i]/ZtfZ[Fshake*10*i-10]*ZtfZ[f0*10-10]\n",
    "        DataSpaceZSigPha[k][i-1]=np.angle(zFFT[Fshake*10*i]) \n",
    "        \n",
    "##save noise bin data to the array\n",
    "    for i in range(1,(HarmN+1)):\n",
    "        DataSpaceXNoiAmp[k][i-1]=xnsd[Fshake*10*i-Noff]/XtfX[Fshake*10*i-10]*XtfX[f0*10-10]\n",
    "        DataSpaceXNoiPha[k][i-1]=np.angle(xFFT[Fshake*10*i-Noff]) \n",
    "        DataSpaceYNoiAmp[k][i-1]=ynsd[Fshake*10*i-Noff]/YtfY[Fshake*10*i-10]*YtfY[f0*10-10]\n",
    "        DataSpaceYNoiPha[k][i-1]=np.angle(yFFT[Fshake*10*i-Noff]) \n",
    "        DataSpaceZNoiAmp[k][i-1]=znsd[Fshake*10*i-Noff]/ZtfZ[Fshake*10*i-10]*ZtfZ[f0*10-10]\n",
    "        DataSpaceZNoiPha[k][i-1]=np.angle(zFFT[Fshake*10*i-Noff]) \n",
    "  \n",
    "    if (k%100)==0:\n",
    "        print(k)\n",
    "        \n",
    "##write the harmonics data\n",
    "for i in range(1,(HarmN+1)):\n",
    "    ofname = folder+\"/Bead\"+str(BeadNumber)+\"/Shaking\"+\"/Shaking%d/SignalNoSpinShaking%d_%dthHarm.txt\" % (Dx,Ndata,i)\n",
    "    f1 = open(ofname,\"a\")\n",
    "    for k in range(0,DataN):\n",
    "        f1.write('%d %e %e %e %f %f %f\\n' % (k, DataSpaceXSigAmp[k][i-1], DataSpaceYSigAmp[k][i-1], DataSpaceZSigAmp[k][i-1], \n",
    "                                            DataSpaceXSigPha[k][i-1], DataSpaceYSigPha[k][i-1], DataSpaceZSigPha[k][i-1]))\n",
    "    f1.close()\n",
    "    ofname = folder+\"/Bead\"+str(BeadNumber)+\"/Shaking\"+\"/Shaking%d/NoiseNoSpinShaking%d_%dthHarm.txt\" % (Dx,Ndata,i)\n",
    "    f1 = open(ofname,\"a\")\n",
    "    for k in range(0,DataN):\n",
    "        f1.write('%d %e %e %e %f %f %f\\n' % (k, DataSpaceXNoiAmp[k][i-1], DataSpaceYNoiAmp[k][i-1], DataSpaceZNoiAmp[k][i-1], \n",
    "                                            DataSpaceXNoiPha[k][i-1], DataSpaceYNoiPha[k][i-1], DataSpaceZNoiPha[k][i-1]))\n",
    "    f1.close()\n",
    "    \n",
    "print (\"Total run time is \", time.time() - start_time, \" s\")"
   ]
  },
  {
   "cell_type": "code",
   "execution_count": 44,
   "metadata": {},
   "outputs": [
    {
     "name": "stdout",
     "output_type": "stream",
     "text": [
      "0\n",
      "100\n",
      "200\n",
      "300\n",
      "400\n",
      "500\n",
      "600\n",
      "700\n",
      "800\n",
      "900\n",
      "1000\n",
      "1100\n",
      "1200\n",
      "1300\n",
      "1400\n",
      "1500\n",
      "1600\n",
      "1700\n",
      "1800\n",
      "1900\n",
      "2000\n",
      "2100\n",
      "2200\n",
      "2300\n",
      "2400\n",
      "Total run time is  256.05482363700867  s\n"
     ]
    }
   ],
   "source": [
    "import time\n",
    "start_time = time.time()\n",
    "\n",
    "#DefineParameters\n",
    "Ndata=0\n",
    "Dx=340\n",
    "Fshake=3\n",
    "DataN=2500\n",
    "HarmN=20\n",
    "Noff=3\n",
    "ArraySize=(DataN,HarmN)\n",
    "DataSpaceXSigAmp=np.zeros(ArraySize)\n",
    "DataSpaceYSigAmp=np.zeros(ArraySize)\n",
    "DataSpaceZSigAmp=np.zeros(ArraySize)\n",
    "DataSpaceXSigPha=np.zeros(ArraySize)\n",
    "DataSpaceYSigPha=np.zeros(ArraySize)\n",
    "DataSpaceZSigPha=np.zeros(ArraySize)\n",
    "\n",
    "DataSpaceXNoiAmp=np.zeros(ArraySize)\n",
    "DataSpaceYNoiAmp=np.zeros(ArraySize)\n",
    "DataSpaceZNoiAmp=np.zeros(ArraySize)\n",
    "DataSpaceXNoiPha=np.zeros(ArraySize)\n",
    "DataSpaceYNoiPha=np.zeros(ArraySize)\n",
    "DataSpaceZNoiPha=np.zeros(ArraySize)\n",
    "\n",
    "for k in range(0,DataN):\n",
    "##FFT the data\n",
    "    NSubData=k\n",
    "    fname = folder+\"/Bead\"+str(BeadNumber)+\"/Shaking\"+\"/Shaking%d/SpinShaking%d_%d.h5\" % (Dx,Ndata,NSubData)\n",
    "    BDF = BeadDataFile.BeadDataFile(fname)\n",
    "    data = BDF.xyz2\n",
    "    fsamp=5000\n",
    "    res=50000\n",
    "\n",
    "    data_det=signal.detrend(data)\n",
    "    x_1000=data_det[0]\n",
    "    y_1000=data_det[1]\n",
    "    z_1000=data_det[2]\n",
    "    freqs=np.linspace(0,2500,(25000)+1)\n",
    "    \n",
    "    xFFT=np.fft.rfft(x_1000)\n",
    "    yFFT=np.fft.rfft(y_1000)\n",
    "    zFFT=np.fft.rfft(z_1000)\n",
    "    norm = np.sqrt(2 / (res* fsamp))\n",
    "    xpsd = norm**2 * (xFFT * xFFT.conj()).real\n",
    "    ypsd = norm**2 * (yFFT * yFFT.conj()).real\n",
    "    zpsd = norm**2 * (zFFT * zFFT.conj()).real\n",
    "  \n",
    "    f0=71\n",
    "\n",
    "    xnsd=np.sqrt(xpsd)*BtoFx#*F0x*np.sqrt((freqs*freqs-w0x*w0x)*(freqs*freqs-w0x*w0x)+gx*gx*freqs*freqs)\n",
    "    ynsd=np.sqrt(ypsd)*BtoFy#*F0y*np.sqrt((freqs*freqs-w0y*w0y)*(freqs*freqs-w0y*w0y)+gy*gy*freqs*freqs)\n",
    "    znsd=np.sqrt(zpsd)*BtoFz#*F0z*np.sqrt((f0*f0-w0z*w0z)*(f0*f0-w0z*w0z)+gz*gz*f0*f0)\n",
    "\n",
    "##save signal bin data to the array\n",
    "    for i in range(1,(HarmN+1)):\n",
    "        DataSpaceXSigAmp[k][i-1]=xnsd[Fshake*10*i]/XtfX[Fshake*10*i-10]*XtfX[f0*10-10]\n",
    "        DataSpaceXSigPha[k][i-1]=np.angle(xFFT[Fshake*10*i]) \n",
    "        DataSpaceYSigAmp[k][i-1]=ynsd[Fshake*10*i]/YtfY[Fshake*10*i-10]*YtfY[f0*10-10]\n",
    "        DataSpaceYSigPha[k][i-1]=np.angle(yFFT[Fshake*10*i]) \n",
    "        DataSpaceZSigAmp[k][i-1]=znsd[Fshake*10*i]/ZtfZ[Fshake*10*i-10]*ZtfZ[f0*10-10]\n",
    "        DataSpaceZSigPha[k][i-1]=np.angle(zFFT[Fshake*10*i]) \n",
    "        \n",
    "##save noise bin data to the array\n",
    "    for i in range(1,(HarmN+1)):\n",
    "        DataSpaceXNoiAmp[k][i-1]=xnsd[Fshake*10*i-Noff]/XtfX[Fshake*10*i-10]*XtfX[f0*10-10]\n",
    "        DataSpaceXNoiPha[k][i-1]=np.angle(xFFT[Fshake*10*i-Noff]) \n",
    "        DataSpaceYNoiAmp[k][i-1]=ynsd[Fshake*10*i-Noff]/YtfY[Fshake*10*i-10]*YtfY[f0*10-10]\n",
    "        DataSpaceYNoiPha[k][i-1]=np.angle(yFFT[Fshake*10*i-Noff]) \n",
    "        DataSpaceZNoiAmp[k][i-1]=znsd[Fshake*10*i-Noff]/ZtfZ[Fshake*10*i-10]*ZtfZ[f0*10-10]\n",
    "        DataSpaceZNoiPha[k][i-1]=np.angle(zFFT[Fshake*10*i-Noff]) \n",
    "  \n",
    "    if (k%100)==0:\n",
    "        print(k)\n",
    "        \n",
    "##write the harmonics data\n",
    "for i in range(1,(HarmN+1)):\n",
    "    ofname = folder+\"/Bead\"+str(BeadNumber)+\"/Shaking\"+\"/Shaking%d/SignalSpinShaking%d_%dthHarm.txt\" % (Dx,Ndata,i)\n",
    "    f1 = open(ofname,\"a\")\n",
    "    for k in range(0,DataN):\n",
    "        f1.write('%d %e %e %e %f %f %f\\n' % (k, DataSpaceXSigAmp[k][i-1], DataSpaceYSigAmp[k][i-1], DataSpaceZSigAmp[k][i-1], \n",
    "                                            DataSpaceXSigPha[k][i-1], DataSpaceYSigPha[k][i-1], DataSpaceZSigPha[k][i-1]))\n",
    "    f1.close()\n",
    "    ofname = folder+\"/Bead\"+str(BeadNumber)+\"/Shaking\"+\"/Shaking%d/NoiseSpinShaking%d_%dthHarm.txt\" % (Dx,Ndata,i)\n",
    "    f1 = open(ofname,\"a\")\n",
    "    for k in range(0,DataN):\n",
    "        f1.write('%d %e %e %e %f %f %f\\n' % (k, DataSpaceXNoiAmp[k][i-1], DataSpaceYNoiAmp[k][i-1], DataSpaceZNoiAmp[k][i-1], \n",
    "                                            DataSpaceXNoiPha[k][i-1], DataSpaceYNoiPha[k][i-1], DataSpaceZNoiPha[k][i-1]))\n",
    "    f1.close()\n",
    "    \n",
    "print (\"Total run time is \", time.time() - start_time, \" s\")"
   ]
  },
  {
   "cell_type": "code",
   "execution_count": 45,
   "metadata": {},
   "outputs": [
    {
     "name": "stdout",
     "output_type": "stream",
     "text": [
      "0\n",
      "100\n",
      "200\n",
      "300\n",
      "400\n",
      "500\n",
      "600\n",
      "700\n",
      "800\n",
      "900\n",
      "1000\n",
      "1100\n",
      "1200\n",
      "1300\n",
      "1400\n",
      "1500\n",
      "1600\n",
      "1700\n",
      "1800\n",
      "1900\n",
      "2000\n",
      "2100\n",
      "2200\n",
      "2300\n",
      "2400\n",
      "2500\n",
      "2600\n",
      "2700\n",
      "2800\n",
      "2900\n",
      "Total run time is  303.73797154426575  s\n"
     ]
    }
   ],
   "source": [
    "import time\n",
    "start_time = time.time()\n",
    "\n",
    "#DefineParameters\n",
    "Ndata=1\n",
    "Dx=340\n",
    "Fshake=3\n",
    "DataN=3000\n",
    "HarmN=20\n",
    "Noff=3\n",
    "ArraySize=(DataN,HarmN)\n",
    "DataSpaceXSigAmp=np.zeros(ArraySize)\n",
    "DataSpaceYSigAmp=np.zeros(ArraySize)\n",
    "DataSpaceZSigAmp=np.zeros(ArraySize)\n",
    "DataSpaceXSigPha=np.zeros(ArraySize)\n",
    "DataSpaceYSigPha=np.zeros(ArraySize)\n",
    "DataSpaceZSigPha=np.zeros(ArraySize)\n",
    "\n",
    "DataSpaceXNoiAmp=np.zeros(ArraySize)\n",
    "DataSpaceYNoiAmp=np.zeros(ArraySize)\n",
    "DataSpaceZNoiAmp=np.zeros(ArraySize)\n",
    "DataSpaceXNoiPha=np.zeros(ArraySize)\n",
    "DataSpaceYNoiPha=np.zeros(ArraySize)\n",
    "DataSpaceZNoiPha=np.zeros(ArraySize)\n",
    "\n",
    "for k in range(0,DataN):\n",
    "##FFT the data\n",
    "    NSubData=k\n",
    "    fname = folder+\"/Bead\"+str(BeadNumber)+\"/Shaking\"+\"/Shaking%d/SpinShaking%d_%d.h5\" % (Dx,Ndata,NSubData)\n",
    "    BDF = BeadDataFile.BeadDataFile(fname)\n",
    "    data = BDF.xyz2\n",
    "    fsamp=5000\n",
    "    res=50000\n",
    "\n",
    "    data_det=signal.detrend(data)\n",
    "    x_1000=data_det[0]\n",
    "    y_1000=data_det[1]\n",
    "    z_1000=data_det[2]\n",
    "    freqs=np.linspace(0,2500,(25000)+1)\n",
    "    \n",
    "    xFFT=np.fft.rfft(x_1000)\n",
    "    yFFT=np.fft.rfft(y_1000)\n",
    "    zFFT=np.fft.rfft(z_1000)\n",
    "    norm = np.sqrt(2 / (res* fsamp))\n",
    "    xpsd = norm**2 * (xFFT * xFFT.conj()).real\n",
    "    ypsd = norm**2 * (yFFT * yFFT.conj()).real\n",
    "    zpsd = norm**2 * (zFFT * zFFT.conj()).real\n",
    "  \n",
    "    f0=71\n",
    "\n",
    "    xnsd=np.sqrt(xpsd)*BtoFx#*F0x*np.sqrt((freqs*freqs-w0x*w0x)*(freqs*freqs-w0x*w0x)+gx*gx*freqs*freqs)\n",
    "    ynsd=np.sqrt(ypsd)*BtoFy#*F0y*np.sqrt((freqs*freqs-w0y*w0y)*(freqs*freqs-w0y*w0y)+gy*gy*freqs*freqs)\n",
    "    znsd=np.sqrt(zpsd)*BtoFz#*F0z*np.sqrt((f0*f0-w0z*w0z)*(f0*f0-w0z*w0z)+gz*gz*f0*f0)\n",
    "\n",
    "##save signal bin data to the array\n",
    "    for i in range(1,(HarmN+1)):\n",
    "        DataSpaceXSigAmp[k][i-1]=xnsd[Fshake*10*i]/XtfX[Fshake*10*i-10]*XtfX[f0*10-10]\n",
    "        DataSpaceXSigPha[k][i-1]=np.angle(xFFT[Fshake*10*i]) \n",
    "        DataSpaceYSigAmp[k][i-1]=ynsd[Fshake*10*i]/YtfY[Fshake*10*i-10]*YtfY[f0*10-10]\n",
    "        DataSpaceYSigPha[k][i-1]=np.angle(yFFT[Fshake*10*i]) \n",
    "        DataSpaceZSigAmp[k][i-1]=znsd[Fshake*10*i]/ZtfZ[Fshake*10*i-10]*ZtfZ[f0*10-10]\n",
    "        DataSpaceZSigPha[k][i-1]=np.angle(zFFT[Fshake*10*i]) \n",
    "        \n",
    "##save noise bin data to the array\n",
    "    for i in range(1,(HarmN+1)):\n",
    "        DataSpaceXNoiAmp[k][i-1]=xnsd[Fshake*10*i-Noff]/XtfX[Fshake*10*i-10]*XtfX[f0*10-10]\n",
    "        DataSpaceXNoiPha[k][i-1]=np.angle(xFFT[Fshake*10*i-Noff]) \n",
    "        DataSpaceYNoiAmp[k][i-1]=ynsd[Fshake*10*i-Noff]/YtfY[Fshake*10*i-10]*YtfY[f0*10-10]\n",
    "        DataSpaceYNoiPha[k][i-1]=np.angle(yFFT[Fshake*10*i-Noff]) \n",
    "        DataSpaceZNoiAmp[k][i-1]=znsd[Fshake*10*i-Noff]/ZtfZ[Fshake*10*i-10]*ZtfZ[f0*10-10]\n",
    "        DataSpaceZNoiPha[k][i-1]=np.angle(zFFT[Fshake*10*i-Noff]) \n",
    "  \n",
    "    if (k%100)==0:\n",
    "        print(k)\n",
    "        \n",
    "##write the harmonics data\n",
    "for i in range(1,(HarmN+1)):\n",
    "    ofname = folder+\"/Bead\"+str(BeadNumber)+\"/Shaking\"+\"/Shaking%d/SignalSpinShaking%d_%dthHarm.txt\" % (Dx,Ndata,i)\n",
    "    f1 = open(ofname,\"a\")\n",
    "    for k in range(0,DataN):\n",
    "        f1.write('%d %e %e %e %f %f %f\\n' % (k, DataSpaceXSigAmp[k][i-1], DataSpaceYSigAmp[k][i-1], DataSpaceZSigAmp[k][i-1], \n",
    "                                            DataSpaceXSigPha[k][i-1], DataSpaceYSigPha[k][i-1], DataSpaceZSigPha[k][i-1]))\n",
    "    f1.close()\n",
    "    ofname = folder+\"/Bead\"+str(BeadNumber)+\"/Shaking\"+\"/Shaking%d/NoiseSpinShaking%d_%dthHarm.txt\" % (Dx,Ndata,i)\n",
    "    f1 = open(ofname,\"a\")\n",
    "    for k in range(0,DataN):\n",
    "        f1.write('%d %e %e %e %f %f %f\\n' % (k, DataSpaceXNoiAmp[k][i-1], DataSpaceYNoiAmp[k][i-1], DataSpaceZNoiAmp[k][i-1], \n",
    "                                            DataSpaceXNoiPha[k][i-1], DataSpaceYNoiPha[k][i-1], DataSpaceZNoiPha[k][i-1]))\n",
    "    f1.close()\n",
    "    \n",
    "print (\"Total run time is \", time.time() - start_time, \" s\")"
   ]
  },
  {
   "cell_type": "code",
   "execution_count": 48,
   "metadata": {},
   "outputs": [
    {
     "name": "stdout",
     "output_type": "stream",
     "text": [
      "0\n",
      "100\n",
      "200\n",
      "300\n",
      "400\n",
      "500\n",
      "600\n",
      "700\n",
      "800\n",
      "900\n",
      "1000\n",
      "1100\n",
      "1200\n",
      "1300\n",
      "1400\n",
      "1500\n",
      "1600\n",
      "1700\n",
      "1800\n",
      "1900\n",
      "2000\n",
      "2100\n",
      "2200\n",
      "2300\n",
      "2400\n",
      "2500\n",
      "2600\n",
      "2700\n",
      "2800\n",
      "2900\n",
      "Total run time is  258.24331164360046  s\n"
     ]
    }
   ],
   "source": [
    "import time\n",
    "start_time = time.time()\n",
    "\n",
    "#DefineParameters\n",
    "Ndata=0\n",
    "Dx=345\n",
    "Fshake=3\n",
    "DataN=3000\n",
    "HarmN=20\n",
    "Noff=3\n",
    "ArraySize=(DataN,HarmN)\n",
    "DataSpaceXSigAmp=np.zeros(ArraySize)\n",
    "DataSpaceYSigAmp=np.zeros(ArraySize)\n",
    "DataSpaceZSigAmp=np.zeros(ArraySize)\n",
    "DataSpaceXSigPha=np.zeros(ArraySize)\n",
    "DataSpaceYSigPha=np.zeros(ArraySize)\n",
    "DataSpaceZSigPha=np.zeros(ArraySize)\n",
    "\n",
    "DataSpaceXNoiAmp=np.zeros(ArraySize)\n",
    "DataSpaceYNoiAmp=np.zeros(ArraySize)\n",
    "DataSpaceZNoiAmp=np.zeros(ArraySize)\n",
    "DataSpaceXNoiPha=np.zeros(ArraySize)\n",
    "DataSpaceYNoiPha=np.zeros(ArraySize)\n",
    "DataSpaceZNoiPha=np.zeros(ArraySize)\n",
    "\n",
    "for k in range(0,DataN):\n",
    "##FFT the data\n",
    "    NSubData=k\n",
    "    fname = folder+\"/Bead\"+str(BeadNumber)+\"/Shaking\"+\"/Shaking%d/SpinShaking%d_%d.h5\" % (Dx,Ndata,NSubData)\n",
    "    BDF = BeadDataFile.BeadDataFile(fname)\n",
    "    data = BDF.xyz2\n",
    "    fsamp=5000\n",
    "    res=50000\n",
    "\n",
    "    data_det=signal.detrend(data)\n",
    "    x_1000=data_det[0]\n",
    "    y_1000=data_det[1]\n",
    "    z_1000=data_det[2]\n",
    "    freqs=np.linspace(0,2500,(25000)+1)\n",
    "    \n",
    "    xFFT=np.fft.rfft(x_1000)\n",
    "    yFFT=np.fft.rfft(y_1000)\n",
    "    zFFT=np.fft.rfft(z_1000)\n",
    "    norm = np.sqrt(2 / (res* fsamp))\n",
    "    xpsd = norm**2 * (xFFT * xFFT.conj()).real\n",
    "    ypsd = norm**2 * (yFFT * yFFT.conj()).real\n",
    "    zpsd = norm**2 * (zFFT * zFFT.conj()).real\n",
    "  \n",
    "    f0=71\n",
    "\n",
    "    xnsd=np.sqrt(xpsd)*BtoFx#*F0x*np.sqrt((freqs*freqs-w0x*w0x)*(freqs*freqs-w0x*w0x)+gx*gx*freqs*freqs)\n",
    "    ynsd=np.sqrt(ypsd)*BtoFy#*F0y*np.sqrt((freqs*freqs-w0y*w0y)*(freqs*freqs-w0y*w0y)+gy*gy*freqs*freqs)\n",
    "    znsd=np.sqrt(zpsd)*BtoFz#*F0z*np.sqrt((f0*f0-w0z*w0z)*(f0*f0-w0z*w0z)+gz*gz*f0*f0)\n",
    "\n",
    "##save signal bin data to the array\n",
    "    for i in range(1,(HarmN+1)):\n",
    "        DataSpaceXSigAmp[k][i-1]=xnsd[Fshake*10*i]/XtfX[Fshake*10*i-10]*XtfX[f0*10-10]\n",
    "        DataSpaceXSigPha[k][i-1]=np.angle(xFFT[Fshake*10*i]) \n",
    "        DataSpaceYSigAmp[k][i-1]=ynsd[Fshake*10*i]/YtfY[Fshake*10*i-10]*YtfY[f0*10-10]\n",
    "        DataSpaceYSigPha[k][i-1]=np.angle(yFFT[Fshake*10*i]) \n",
    "        DataSpaceZSigAmp[k][i-1]=znsd[Fshake*10*i]/ZtfZ[Fshake*10*i-10]*ZtfZ[f0*10-10]\n",
    "        DataSpaceZSigPha[k][i-1]=np.angle(zFFT[Fshake*10*i]) \n",
    "        \n",
    "##save noise bin data to the array\n",
    "    for i in range(1,(HarmN+1)):\n",
    "        DataSpaceXNoiAmp[k][i-1]=xnsd[Fshake*10*i-Noff]/XtfX[Fshake*10*i-10]*XtfX[f0*10-10]\n",
    "        DataSpaceXNoiPha[k][i-1]=np.angle(xFFT[Fshake*10*i-Noff]) \n",
    "        DataSpaceYNoiAmp[k][i-1]=ynsd[Fshake*10*i-Noff]/YtfY[Fshake*10*i-10]*YtfY[f0*10-10]\n",
    "        DataSpaceYNoiPha[k][i-1]=np.angle(yFFT[Fshake*10*i-Noff]) \n",
    "        DataSpaceZNoiAmp[k][i-1]=znsd[Fshake*10*i-Noff]/ZtfZ[Fshake*10*i-10]*ZtfZ[f0*10-10]\n",
    "        DataSpaceZNoiPha[k][i-1]=np.angle(zFFT[Fshake*10*i-Noff]) \n",
    "  \n",
    "    if (k%100)==0:\n",
    "        print(k)\n",
    "        \n",
    "##write the harmonics data\n",
    "for i in range(1,(HarmN+1)):\n",
    "    ofname = folder+\"/Bead\"+str(BeadNumber)+\"/Shaking\"+\"/Shaking%d/SignalSpinShaking%d_%dthHarm.txt\" % (Dx,Ndata,i)\n",
    "    f1 = open(ofname,\"a\")\n",
    "    for k in range(0,DataN):\n",
    "        f1.write('%d %e %e %e %f %f %f\\n' % (k, DataSpaceXSigAmp[k][i-1], DataSpaceYSigAmp[k][i-1], DataSpaceZSigAmp[k][i-1], \n",
    "                                            DataSpaceXSigPha[k][i-1], DataSpaceYSigPha[k][i-1], DataSpaceZSigPha[k][i-1]))\n",
    "    f1.close()\n",
    "    ofname = folder+\"/Bead\"+str(BeadNumber)+\"/Shaking\"+\"/Shaking%d/NoiseSpinShaking%d_%dthHarm.txt\" % (Dx,Ndata,i)\n",
    "    f1 = open(ofname,\"a\")\n",
    "    for k in range(0,DataN):\n",
    "        f1.write('%d %e %e %e %f %f %f\\n' % (k, DataSpaceXNoiAmp[k][i-1], DataSpaceYNoiAmp[k][i-1], DataSpaceZNoiAmp[k][i-1], \n",
    "                                            DataSpaceXNoiPha[k][i-1], DataSpaceYNoiPha[k][i-1], DataSpaceZNoiPha[k][i-1]))\n",
    "    f1.close()\n",
    "    \n",
    "print (\"Total run time is \", time.time() - start_time, \" s\")"
   ]
  },
  {
   "cell_type": "code",
   "execution_count": 49,
   "metadata": {},
   "outputs": [
    {
     "name": "stdout",
     "output_type": "stream",
     "text": [
      "0\n",
      "100\n",
      "200\n",
      "300\n",
      "400\n",
      "500\n",
      "600\n",
      "700\n",
      "800\n",
      "900\n",
      "Total run time is  109.43787050247192  s\n"
     ]
    }
   ],
   "source": [
    "import time\n",
    "start_time = time.time()\n",
    "\n",
    "#DefineParameters\n",
    "Ndata=0\n",
    "Dx=345\n",
    "Fshake=3\n",
    "DataN=1000\n",
    "HarmN=20\n",
    "Noff=3\n",
    "ArraySize=(DataN,HarmN)\n",
    "DataSpaceXSigAmp=np.zeros(ArraySize)\n",
    "DataSpaceYSigAmp=np.zeros(ArraySize)\n",
    "DataSpaceZSigAmp=np.zeros(ArraySize)\n",
    "DataSpaceXSigPha=np.zeros(ArraySize)\n",
    "DataSpaceYSigPha=np.zeros(ArraySize)\n",
    "DataSpaceZSigPha=np.zeros(ArraySize)\n",
    "\n",
    "DataSpaceXNoiAmp=np.zeros(ArraySize)\n",
    "DataSpaceYNoiAmp=np.zeros(ArraySize)\n",
    "DataSpaceZNoiAmp=np.zeros(ArraySize)\n",
    "DataSpaceXNoiPha=np.zeros(ArraySize)\n",
    "DataSpaceYNoiPha=np.zeros(ArraySize)\n",
    "DataSpaceZNoiPha=np.zeros(ArraySize)\n",
    "\n",
    "for k in range(0,DataN):\n",
    "##FFT the data\n",
    "    NSubData=k\n",
    "    fname = folder+\"/Bead\"+str(BeadNumber)+\"/Shaking\"+\"/Shaking%d/NoSpinShaking%d_%d.h5\" % (Dx,Ndata,NSubData)\n",
    "    BDF = BeadDataFile.BeadDataFile(fname)\n",
    "    data = BDF.xyz2\n",
    "    fsamp=5000\n",
    "    res=50000\n",
    "\n",
    "    data_det=signal.detrend(data)\n",
    "    x_1000=data_det[0]\n",
    "    y_1000=data_det[1]\n",
    "    z_1000=data_det[2]\n",
    "    freqs=np.linspace(0,2500,(25000)+1)\n",
    "    \n",
    "    xFFT=np.fft.rfft(x_1000)\n",
    "    yFFT=np.fft.rfft(y_1000)\n",
    "    zFFT=np.fft.rfft(z_1000)\n",
    "    norm = np.sqrt(2 / (res* fsamp))\n",
    "    xpsd = norm**2 * (xFFT * xFFT.conj()).real\n",
    "    ypsd = norm**2 * (yFFT * yFFT.conj()).real\n",
    "    zpsd = norm**2 * (zFFT * zFFT.conj()).real\n",
    "  \n",
    "    f0=71\n",
    "\n",
    "    xnsd=np.sqrt(xpsd)*BtoFx#*F0x*np.sqrt((freqs*freqs-w0x*w0x)*(freqs*freqs-w0x*w0x)+gx*gx*freqs*freqs)\n",
    "    ynsd=np.sqrt(ypsd)*BtoFy#*F0y*np.sqrt((freqs*freqs-w0y*w0y)*(freqs*freqs-w0y*w0y)+gy*gy*freqs*freqs)\n",
    "    znsd=np.sqrt(zpsd)*BtoFz#*F0z*np.sqrt((f0*f0-w0z*w0z)*(f0*f0-w0z*w0z)+gz*gz*f0*f0)\n",
    "\n",
    "##save signal bin data to the array\n",
    "    for i in range(1,(HarmN+1)):\n",
    "        DataSpaceXSigAmp[k][i-1]=xnsd[Fshake*10*i]/XtfX[Fshake*10*i-10]*XtfX[f0*10-10]\n",
    "        DataSpaceXSigPha[k][i-1]=np.angle(xFFT[Fshake*10*i]) \n",
    "        DataSpaceYSigAmp[k][i-1]=ynsd[Fshake*10*i]/YtfY[Fshake*10*i-10]*YtfY[f0*10-10]\n",
    "        DataSpaceYSigPha[k][i-1]=np.angle(yFFT[Fshake*10*i]) \n",
    "        DataSpaceZSigAmp[k][i-1]=znsd[Fshake*10*i]/ZtfZ[Fshake*10*i-10]*ZtfZ[f0*10-10]\n",
    "        DataSpaceZSigPha[k][i-1]=np.angle(zFFT[Fshake*10*i]) \n",
    "        \n",
    "##save noise bin data to the array\n",
    "    for i in range(1,(HarmN+1)):\n",
    "        DataSpaceXNoiAmp[k][i-1]=xnsd[Fshake*10*i-Noff]/XtfX[Fshake*10*i-10]*XtfX[f0*10-10]\n",
    "        DataSpaceXNoiPha[k][i-1]=np.angle(xFFT[Fshake*10*i-Noff]) \n",
    "        DataSpaceYNoiAmp[k][i-1]=ynsd[Fshake*10*i-Noff]/YtfY[Fshake*10*i-10]*YtfY[f0*10-10]\n",
    "        DataSpaceYNoiPha[k][i-1]=np.angle(yFFT[Fshake*10*i-Noff]) \n",
    "        DataSpaceZNoiAmp[k][i-1]=znsd[Fshake*10*i-Noff]/ZtfZ[Fshake*10*i-10]*ZtfZ[f0*10-10]\n",
    "        DataSpaceZNoiPha[k][i-1]=np.angle(zFFT[Fshake*10*i-Noff]) \n",
    "  \n",
    "    if (k%100)==0:\n",
    "        print(k)\n",
    "        \n",
    "##write the harmonics data\n",
    "for i in range(1,(HarmN+1)):\n",
    "    ofname = folder+\"/Bead\"+str(BeadNumber)+\"/Shaking\"+\"/Shaking%d/SignalNoSpinShaking%d_%dthHarm.txt\" % (Dx,Ndata,i)\n",
    "    f1 = open(ofname,\"a\")\n",
    "    for k in range(0,DataN):\n",
    "        f1.write('%d %e %e %e %f %f %f\\n' % (k, DataSpaceXSigAmp[k][i-1], DataSpaceYSigAmp[k][i-1], DataSpaceZSigAmp[k][i-1], \n",
    "                                            DataSpaceXSigPha[k][i-1], DataSpaceYSigPha[k][i-1], DataSpaceZSigPha[k][i-1]))\n",
    "    f1.close()\n",
    "    ofname = folder+\"/Bead\"+str(BeadNumber)+\"/Shaking\"+\"/Shaking%d/NoiseNoSpinShaking%d_%dthHarm.txt\" % (Dx,Ndata,i)\n",
    "    f1 = open(ofname,\"a\")\n",
    "    for k in range(0,DataN):\n",
    "        f1.write('%d %e %e %e %f %f %f\\n' % (k, DataSpaceXNoiAmp[k][i-1], DataSpaceYNoiAmp[k][i-1], DataSpaceZNoiAmp[k][i-1], \n",
    "                                            DataSpaceXNoiPha[k][i-1], DataSpaceYNoiPha[k][i-1], DataSpaceZNoiPha[k][i-1]))\n",
    "    f1.close()\n",
    "    \n",
    "print (\"Total run time is \", time.time() - start_time, \" s\")"
   ]
  },
  {
   "cell_type": "code",
   "execution_count": 50,
   "metadata": {},
   "outputs": [
    {
     "name": "stdout",
     "output_type": "stream",
     "text": [
      "0\n",
      "100\n",
      "200\n",
      "300\n",
      "400\n",
      "500\n",
      "600\n",
      "700\n",
      "800\n",
      "900\n",
      "Total run time is  84.04801392555237  s\n"
     ]
    }
   ],
   "source": [
    "import time\n",
    "start_time = time.time()\n",
    "\n",
    "#DefineParameters\n",
    "Ndata=1\n",
    "Dx=345\n",
    "Fshake=3\n",
    "DataN=1000\n",
    "HarmN=20\n",
    "Noff=3\n",
    "ArraySize=(DataN,HarmN)\n",
    "DataSpaceXSigAmp=np.zeros(ArraySize)\n",
    "DataSpaceYSigAmp=np.zeros(ArraySize)\n",
    "DataSpaceZSigAmp=np.zeros(ArraySize)\n",
    "DataSpaceXSigPha=np.zeros(ArraySize)\n",
    "DataSpaceYSigPha=np.zeros(ArraySize)\n",
    "DataSpaceZSigPha=np.zeros(ArraySize)\n",
    "\n",
    "DataSpaceXNoiAmp=np.zeros(ArraySize)\n",
    "DataSpaceYNoiAmp=np.zeros(ArraySize)\n",
    "DataSpaceZNoiAmp=np.zeros(ArraySize)\n",
    "DataSpaceXNoiPha=np.zeros(ArraySize)\n",
    "DataSpaceYNoiPha=np.zeros(ArraySize)\n",
    "DataSpaceZNoiPha=np.zeros(ArraySize)\n",
    "\n",
    "for k in range(0,DataN):\n",
    "##FFT the data\n",
    "    NSubData=k\n",
    "    fname = folder+\"/Bead\"+str(BeadNumber)+\"/Shaking\"+\"/Shaking%d/SpinShaking%d_%d.h5\" % (Dx,Ndata,NSubData)\n",
    "    BDF = BeadDataFile.BeadDataFile(fname)\n",
    "    data = BDF.xyz2\n",
    "    fsamp=5000\n",
    "    res=50000\n",
    "\n",
    "    data_det=signal.detrend(data)\n",
    "    x_1000=data_det[0]\n",
    "    y_1000=data_det[1]\n",
    "    z_1000=data_det[2]\n",
    "    freqs=np.linspace(0,2500,(25000)+1)\n",
    "    \n",
    "    xFFT=np.fft.rfft(x_1000)\n",
    "    yFFT=np.fft.rfft(y_1000)\n",
    "    zFFT=np.fft.rfft(z_1000)\n",
    "    norm = np.sqrt(2 / (res* fsamp))\n",
    "    xpsd = norm**2 * (xFFT * xFFT.conj()).real\n",
    "    ypsd = norm**2 * (yFFT * yFFT.conj()).real\n",
    "    zpsd = norm**2 * (zFFT * zFFT.conj()).real\n",
    "  \n",
    "    f0=71\n",
    "\n",
    "    xnsd=np.sqrt(xpsd)*BtoFx#*F0x*np.sqrt((freqs*freqs-w0x*w0x)*(freqs*freqs-w0x*w0x)+gx*gx*freqs*freqs)\n",
    "    ynsd=np.sqrt(ypsd)*BtoFy#*F0y*np.sqrt((freqs*freqs-w0y*w0y)*(freqs*freqs-w0y*w0y)+gy*gy*freqs*freqs)\n",
    "    znsd=np.sqrt(zpsd)*BtoFz#*F0z*np.sqrt((f0*f0-w0z*w0z)*(f0*f0-w0z*w0z)+gz*gz*f0*f0)\n",
    "\n",
    "##save signal bin data to the array\n",
    "    for i in range(1,(HarmN+1)):\n",
    "        DataSpaceXSigAmp[k][i-1]=xnsd[Fshake*10*i]/XtfX[Fshake*10*i-10]*XtfX[f0*10-10]\n",
    "        DataSpaceXSigPha[k][i-1]=np.angle(xFFT[Fshake*10*i]) \n",
    "        DataSpaceYSigAmp[k][i-1]=ynsd[Fshake*10*i]/YtfY[Fshake*10*i-10]*YtfY[f0*10-10]\n",
    "        DataSpaceYSigPha[k][i-1]=np.angle(yFFT[Fshake*10*i]) \n",
    "        DataSpaceZSigAmp[k][i-1]=znsd[Fshake*10*i]/ZtfZ[Fshake*10*i-10]*ZtfZ[f0*10-10]\n",
    "        DataSpaceZSigPha[k][i-1]=np.angle(zFFT[Fshake*10*i]) \n",
    "        \n",
    "##save noise bin data to the array\n",
    "    for i in range(1,(HarmN+1)):\n",
    "        DataSpaceXNoiAmp[k][i-1]=xnsd[Fshake*10*i-Noff]/XtfX[Fshake*10*i-10]*XtfX[f0*10-10]\n",
    "        DataSpaceXNoiPha[k][i-1]=np.angle(xFFT[Fshake*10*i-Noff]) \n",
    "        DataSpaceYNoiAmp[k][i-1]=ynsd[Fshake*10*i-Noff]/YtfY[Fshake*10*i-10]*YtfY[f0*10-10]\n",
    "        DataSpaceYNoiPha[k][i-1]=np.angle(yFFT[Fshake*10*i-Noff]) \n",
    "        DataSpaceZNoiAmp[k][i-1]=znsd[Fshake*10*i-Noff]/ZtfZ[Fshake*10*i-10]*ZtfZ[f0*10-10]\n",
    "        DataSpaceZNoiPha[k][i-1]=np.angle(zFFT[Fshake*10*i-Noff]) \n",
    "  \n",
    "    if (k%100)==0:\n",
    "        print(k)\n",
    "        \n",
    "##write the harmonics data\n",
    "for i in range(1,(HarmN+1)):\n",
    "    ofname = folder+\"/Bead\"+str(BeadNumber)+\"/Shaking\"+\"/Shaking%d/SignalSpinShaking%d_%dthHarm.txt\" % (Dx,Ndata,i)\n",
    "    f1 = open(ofname,\"a\")\n",
    "    for k in range(0,DataN):\n",
    "        f1.write('%d %e %e %e %f %f %f\\n' % (k, DataSpaceXSigAmp[k][i-1], DataSpaceYSigAmp[k][i-1], DataSpaceZSigAmp[k][i-1], \n",
    "                                            DataSpaceXSigPha[k][i-1], DataSpaceYSigPha[k][i-1], DataSpaceZSigPha[k][i-1]))\n",
    "    f1.close()\n",
    "    ofname = folder+\"/Bead\"+str(BeadNumber)+\"/Shaking\"+\"/Shaking%d/NoiseSpinShaking%d_%dthHarm.txt\" % (Dx,Ndata,i)\n",
    "    f1 = open(ofname,\"a\")\n",
    "    for k in range(0,DataN):\n",
    "        f1.write('%d %e %e %e %f %f %f\\n' % (k, DataSpaceXNoiAmp[k][i-1], DataSpaceYNoiAmp[k][i-1], DataSpaceZNoiAmp[k][i-1], \n",
    "                                            DataSpaceXNoiPha[k][i-1], DataSpaceYNoiPha[k][i-1], DataSpaceZNoiPha[k][i-1]))\n",
    "    f1.close()\n",
    "    \n",
    "print (\"Total run time is \", time.time() - start_time, \" s\")"
   ]
  },
  {
   "cell_type": "code",
   "execution_count": 22,
   "metadata": {},
   "outputs": [
    {
     "name": "stdout",
     "output_type": "stream",
     "text": [
      "0\n",
      "100\n",
      "200\n",
      "300\n",
      "400\n",
      "500\n",
      "600\n",
      "700\n",
      "800\n",
      "900\n",
      "Total run time is  107.73472094535828  s\n"
     ]
    }
   ],
   "source": [
    "import time\n",
    "start_time = time.time()\n",
    "\n",
    "#DefineParameters\n",
    "Ndata=2\n",
    "Dx=345\n",
    "Fshake=3\n",
    "DataN=1000\n",
    "HarmN=20\n",
    "Noff=3\n",
    "ArraySize=(DataN,HarmN)\n",
    "DataSpaceXSigAmp=np.zeros(ArraySize)\n",
    "DataSpaceYSigAmp=np.zeros(ArraySize)\n",
    "DataSpaceZSigAmp=np.zeros(ArraySize)\n",
    "DataSpaceXSigPha=np.zeros(ArraySize)\n",
    "DataSpaceYSigPha=np.zeros(ArraySize)\n",
    "DataSpaceZSigPha=np.zeros(ArraySize)\n",
    "\n",
    "DataSpaceXNoiAmp=np.zeros(ArraySize)\n",
    "DataSpaceYNoiAmp=np.zeros(ArraySize)\n",
    "DataSpaceZNoiAmp=np.zeros(ArraySize)\n",
    "DataSpaceXNoiPha=np.zeros(ArraySize)\n",
    "DataSpaceYNoiPha=np.zeros(ArraySize)\n",
    "DataSpaceZNoiPha=np.zeros(ArraySize)\n",
    "\n",
    "for k in range(0,DataN):\n",
    "##FFT the data\n",
    "    NSubData=k\n",
    "    fname = folder+\"/Bead\"+str(BeadNumber)+\"/Shaking\"+\"/Shaking%d/SpinShaking%d_%d.h5\" % (Dx,Ndata,NSubData)\n",
    "    BDF = BeadDataFile.BeadDataFile(fname)\n",
    "    data = BDF.xyz2\n",
    "    fsamp=5000\n",
    "    res=50000\n",
    "\n",
    "    data_det=signal.detrend(data)\n",
    "    x_1000=data_det[0]\n",
    "    y_1000=data_det[1]\n",
    "    z_1000=data_det[2]\n",
    "    freqs=np.linspace(0,2500,(25000)+1)\n",
    "    \n",
    "    xFFT=np.fft.rfft(x_1000)\n",
    "    yFFT=np.fft.rfft(y_1000)\n",
    "    zFFT=np.fft.rfft(z_1000)\n",
    "    norm = np.sqrt(2 / (res* fsamp))\n",
    "    xpsd = norm**2 * (xFFT * xFFT.conj()).real\n",
    "    ypsd = norm**2 * (yFFT * yFFT.conj()).real\n",
    "    zpsd = norm**2 * (zFFT * zFFT.conj()).real\n",
    "  \n",
    "    f0=71\n",
    "\n",
    "    xnsd=np.sqrt(xpsd)*BtoFx#*F0x*np.sqrt((freqs*freqs-w0x*w0x)*(freqs*freqs-w0x*w0x)+gx*gx*freqs*freqs)\n",
    "    ynsd=np.sqrt(ypsd)*BtoFy#*F0y*np.sqrt((freqs*freqs-w0y*w0y)*(freqs*freqs-w0y*w0y)+gy*gy*freqs*freqs)\n",
    "    znsd=np.sqrt(zpsd)*BtoFz#*F0z*np.sqrt((f0*f0-w0z*w0z)*(f0*f0-w0z*w0z)+gz*gz*f0*f0)\n",
    "\n",
    "##save signal bin data to the array\n",
    "    for i in range(1,(HarmN+1)):\n",
    "        DataSpaceXSigAmp[k][i-1]=xnsd[Fshake*10*i]/XtfX[Fshake*10*i-10]*XtfX[f0*10-10]\n",
    "        DataSpaceXSigPha[k][i-1]=np.angle(xFFT[Fshake*10*i]) \n",
    "        DataSpaceYSigAmp[k][i-1]=ynsd[Fshake*10*i]/YtfY[Fshake*10*i-10]*YtfY[f0*10-10]\n",
    "        DataSpaceYSigPha[k][i-1]=np.angle(yFFT[Fshake*10*i]) \n",
    "        DataSpaceZSigAmp[k][i-1]=znsd[Fshake*10*i]/ZtfZ[Fshake*10*i-10]*ZtfZ[f0*10-10]\n",
    "        DataSpaceZSigPha[k][i-1]=np.angle(zFFT[Fshake*10*i]) \n",
    "        \n",
    "##save noise bin data to the array\n",
    "    for i in range(1,(HarmN+1)):\n",
    "        DataSpaceXNoiAmp[k][i-1]=xnsd[Fshake*10*i-Noff]/XtfX[Fshake*10*i-10]*XtfX[f0*10-10]\n",
    "        DataSpaceXNoiPha[k][i-1]=np.angle(xFFT[Fshake*10*i-Noff]) \n",
    "        DataSpaceYNoiAmp[k][i-1]=ynsd[Fshake*10*i-Noff]/YtfY[Fshake*10*i-10]*YtfY[f0*10-10]\n",
    "        DataSpaceYNoiPha[k][i-1]=np.angle(yFFT[Fshake*10*i-Noff]) \n",
    "        DataSpaceZNoiAmp[k][i-1]=znsd[Fshake*10*i-Noff]/ZtfZ[Fshake*10*i-10]*ZtfZ[f0*10-10]\n",
    "        DataSpaceZNoiPha[k][i-1]=np.angle(zFFT[Fshake*10*i-Noff]) \n",
    "  \n",
    "    if (k%100)==0:\n",
    "        print(k)\n",
    "        \n",
    "##write the harmonics data\n",
    "for i in range(1,(HarmN+1)):\n",
    "    ofname = folder+\"/Bead\"+str(BeadNumber)+\"/Shaking\"+\"/Shaking%d/SignalSpinShaking%d_%dthHarm.txt\" % (Dx,Ndata,i)\n",
    "    f1 = open(ofname,\"a\")\n",
    "    for k in range(0,DataN):\n",
    "        f1.write('%d %e %e %e %f %f %f\\n' % (k, DataSpaceXSigAmp[k][i-1], DataSpaceYSigAmp[k][i-1], DataSpaceZSigAmp[k][i-1], \n",
    "                                            DataSpaceXSigPha[k][i-1], DataSpaceYSigPha[k][i-1], DataSpaceZSigPha[k][i-1]))\n",
    "    f1.close()\n",
    "    ofname = folder+\"/Bead\"+str(BeadNumber)+\"/Shaking\"+\"/Shaking%d/NoiseSpinShaking%d_%dthHarm.txt\" % (Dx,Ndata,i)\n",
    "    f1 = open(ofname,\"a\")\n",
    "    for k in range(0,DataN):\n",
    "        f1.write('%d %e %e %e %f %f %f\\n' % (k, DataSpaceXNoiAmp[k][i-1], DataSpaceYNoiAmp[k][i-1], DataSpaceZNoiAmp[k][i-1], \n",
    "                                            DataSpaceXNoiPha[k][i-1], DataSpaceYNoiPha[k][i-1], DataSpaceZNoiPha[k][i-1]))\n",
    "    f1.close()\n",
    "    \n",
    "print (\"Total run time is \", time.time() - start_time, \" s\")"
   ]
  },
  {
   "cell_type": "code",
   "execution_count": null,
   "metadata": {},
   "outputs": [],
   "source": []
  },
  {
   "cell_type": "code",
   "execution_count": null,
   "metadata": {},
   "outputs": [],
   "source": [
    "#test to understand how I should deal with the phase of the transfer function"
   ]
  },
  {
   "cell_type": "code",
   "execution_count": 100,
   "metadata": {},
   "outputs": [],
   "source": [
    "time=np.linspace(0,1,1000+1)"
   ]
  },
  {
   "cell_type": "code",
   "execution_count": 115,
   "metadata": {},
   "outputs": [],
   "source": [
    "drive=np.sin(2*20*np.pi*time-np.pi/2)"
   ]
  },
  {
   "cell_type": "code",
   "execution_count": 116,
   "metadata": {},
   "outputs": [
    {
     "data": {
      "application/vnd.jupyter.widget-view+json": {
       "model_id": "9120f82d02e041fb990ff421b22a3acb",
       "version_major": 2,
       "version_minor": 0
      },
      "text/plain": [
       "Canvas(toolbar=Toolbar(toolitems=[('Home', 'Reset original view', 'home', 'home'), ('Back', 'Back to previous …"
      ]
     },
     "metadata": {},
     "output_type": "display_data"
    }
   ],
   "source": [
    "_,ax = plt.subplots()\n",
    "plt.subplots_adjust(left=0.18, right=0.96, top=0.96, bottom=0.14)\n",
    "ax.plot(time, drive, '.-', label=\"z\",markersize=1,linewidth=1)\n",
    "ax.legend(fontsize=16)\n",
    "ax.set_xlabel('Frequency [Hz]', fontsize=18)\n",
    "ax.set_ylabel('Force NSD [N/√Hz]',fontsize=18)\n",
    "\n",
    "ax.tick_params(axis='x', labelsize=18)\n",
    "ax.tick_params(axis='y', labelsize=18)\n",
    "#plt.xlim(0.1,500)\n",
    "#plt.ylim(1e-7,1e-2)\n",
    "plt.grid(True)"
   ]
  },
  {
   "cell_type": "code",
   "execution_count": 117,
   "metadata": {},
   "outputs": [],
   "source": [
    "xFFT=np.fft.rfft(drive)"
   ]
  },
  {
   "cell_type": "code",
   "execution_count": 118,
   "metadata": {},
   "outputs": [],
   "source": [
    "Magnitude=norm**2 * (xFFT * xFFT.conj()).real"
   ]
  },
  {
   "cell_type": "code",
   "execution_count": 119,
   "metadata": {},
   "outputs": [
    {
     "data": {
      "application/vnd.jupyter.widget-view+json": {
       "model_id": "70894ec4dbfd48a49c5864813ced3ad5",
       "version_major": 2,
       "version_minor": 0
      },
      "text/plain": [
       "Canvas(toolbar=Toolbar(toolitems=[('Home', 'Reset original view', 'home', 'home'), ('Back', 'Back to previous …"
      ]
     },
     "metadata": {},
     "output_type": "display_data"
    }
   ],
   "source": [
    "_,ax = plt.subplots()\n",
    "plt.subplots_adjust(left=0.18, right=0.96, top=0.96, bottom=0.14)\n",
    "ax.plot(Magnitude, '.-', label=\"z\",markersize=1,linewidth=1)\n",
    "ax.legend(fontsize=16)\n",
    "ax.set_xlabel('Frequency [Hz]', fontsize=18)\n",
    "ax.set_ylabel('Force NSD [N/√Hz]',fontsize=18)\n",
    "\n",
    "ax.tick_params(axis='x', labelsize=18)\n",
    "ax.tick_params(axis='y', labelsize=18)\n",
    "#plt.xlim(0.1,500)\n",
    "#plt.ylim(1e-7,1e-2)\n",
    "plt.grid(True)"
   ]
  },
  {
   "cell_type": "code",
   "execution_count": 120,
   "metadata": {},
   "outputs": [],
   "source": [
    "Arg=np.angle(xFFT) "
   ]
  },
  {
   "cell_type": "code",
   "execution_count": 121,
   "metadata": {},
   "outputs": [
    {
     "data": {
      "application/vnd.jupyter.widget-view+json": {
       "model_id": "e46143e4390c4ec7ac4b074a40935067",
       "version_major": 2,
       "version_minor": 0
      },
      "text/plain": [
       "Canvas(toolbar=Toolbar(toolitems=[('Home', 'Reset original view', 'home', 'home'), ('Back', 'Back to previous …"
      ]
     },
     "metadata": {},
     "output_type": "display_data"
    }
   ],
   "source": [
    "_,ax = plt.subplots()\n",
    "plt.subplots_adjust(left=0.18, right=0.96, top=0.96, bottom=0.14)\n",
    "ax.plot(Arg, '.-', label=\"z\",markersize=1,linewidth=1)\n",
    "ax.legend(fontsize=16)\n",
    "ax.set_xlabel('Frequency [Hz]', fontsize=18)\n",
    "ax.set_ylabel('Force NSD [N/√Hz]',fontsize=18)\n",
    "\n",
    "ax.tick_params(axis='x', labelsize=18)\n",
    "ax.tick_params(axis='y', labelsize=18)\n",
    "#plt.xlim(0.1,500)\n",
    "#plt.ylim(1e-7,1e-2)\n",
    "plt.grid(True)"
   ]
  },
  {
   "cell_type": "code",
   "execution_count": null,
   "metadata": {},
   "outputs": [],
   "source": []
  },
  {
   "cell_type": "code",
   "execution_count": 33,
   "metadata": {},
   "outputs": [
    {
     "name": "stdout",
     "output_type": "stream",
     "text": [
      "0\n",
      "100\n",
      "200\n",
      "300\n",
      "400\n",
      "500\n",
      "600\n",
      "700\n",
      "800\n",
      "900\n",
      "1000\n",
      "1100\n",
      "1200\n",
      "1300\n",
      "1400\n",
      "1500\n",
      "1600\n",
      "1700\n",
      "1800\n",
      "1900\n",
      "2000\n",
      "2100\n",
      "2200\n",
      "2300\n",
      "2400\n",
      "2500\n",
      "2600\n",
      "2700\n",
      "2800\n",
      "2900\n",
      "3000\n",
      "3100\n",
      "3200\n",
      "3300\n",
      "3400\n",
      "3500\n",
      "3600\n",
      "3700\n",
      "3800\n",
      "3900\n",
      "4000\n",
      "4100\n",
      "4200\n",
      "4300\n",
      "4400\n",
      "4500\n",
      "4600\n",
      "4700\n",
      "4800\n",
      "4900\n",
      "Total run time is  1006.1797549724579  s\n"
     ]
    }
   ],
   "source": [
    "## noise data by no shaking\n",
    "import time\n",
    "start_time = time.time()\n",
    "\n",
    "#DefineParameters\n",
    "Ndata=1\n",
    "Dx=340\n",
    "Fshake=3\n",
    "DataN=5000\n",
    "HarmN=20\n",
    "Noff=3\n",
    "ArraySize=(DataN,HarmN)\n",
    "DataSpaceXSigAmp=np.zeros(ArraySize)\n",
    "DataSpaceYSigAmp=np.zeros(ArraySize)\n",
    "DataSpaceZSigAmp=np.zeros(ArraySize)\n",
    "DataSpaceXSigPha=np.zeros(ArraySize)\n",
    "DataSpaceYSigPha=np.zeros(ArraySize)\n",
    "DataSpaceZSigPha=np.zeros(ArraySize)\n",
    "\n",
    "DataSpaceXNoiAmp=np.zeros(ArraySize)\n",
    "DataSpaceYNoiAmp=np.zeros(ArraySize)\n",
    "DataSpaceZNoiAmp=np.zeros(ArraySize)\n",
    "DataSpaceXNoiPha=np.zeros(ArraySize)\n",
    "DataSpaceYNoiPha=np.zeros(ArraySize)\n",
    "DataSpaceZNoiPha=np.zeros(ArraySize)\n",
    "\n",
    "for k in range(0,DataN):\n",
    "##FFT the data\n",
    "    NSubData=k\n",
    "    fname = folder+\"/Bead\"+str(BeadNumber)+\"/Shaking/Shaking2_20200403\"+\"/NoShaking_%d_%d.h5\" % (Ndata,NSubData)\n",
    "    BDF = BeadDataFile.BeadDataFile(fname)\n",
    "    data = BDF.xyz2\n",
    "    fsamp=5000\n",
    "    res=50000\n",
    "\n",
    "    data_det=signal.detrend(data)\n",
    "    x_1000=data_det[0]\n",
    "    y_1000=data_det[1]\n",
    "    z_1000=data_det[2]\n",
    "    freqs=np.linspace(0,2500,(25000)+1)\n",
    "    \n",
    "    xFFT=np.fft.rfft(x_1000)\n",
    "    yFFT=np.fft.rfft(y_1000)\n",
    "    zFFT=np.fft.rfft(z_1000)\n",
    "    norm = np.sqrt(2 / (res* fsamp))\n",
    "    xpsd = norm**2 * (xFFT * xFFT.conj()).real\n",
    "    ypsd = norm**2 * (yFFT * yFFT.conj()).real\n",
    "    zpsd = norm**2 * (zFFT * zFFT.conj()).real\n",
    "  \n",
    "    f0=71\n",
    "\n",
    "    xnsd=np.sqrt(xpsd)*BtoFx#*F0x*np.sqrt((freqs*freqs-w0x*w0x)*(freqs*freqs-w0x*w0x)+gx*gx*freqs*freqs)\n",
    "    ynsd=np.sqrt(ypsd)*BtoFy#*F0y*np.sqrt((freqs*freqs-w0y*w0y)*(freqs*freqs-w0y*w0y)+gy*gy*freqs*freqs)\n",
    "    znsd=np.sqrt(zpsd)*BtoFz#*F0z*np.sqrt((f0*f0-w0z*w0z)*(f0*f0-w0z*w0z)+gz*gz*f0*f0)\n",
    "\n",
    "##save signal bin data to the array\n",
    "    for i in range(1,(HarmN+1)):\n",
    "        DataSpaceXSigAmp[k][i-1]=xnsd[Fshake*10*i]/XtfX[Fshake*10*i-10]*XtfX[f0*10-10]\n",
    "        DataSpaceXSigPha[k][i-1]=np.angle(xFFT[Fshake*10*i]) \n",
    "        DataSpaceYSigAmp[k][i-1]=ynsd[Fshake*10*i]/YtfY[Fshake*10*i-10]*YtfY[f0*10-10]\n",
    "        DataSpaceYSigPha[k][i-1]=np.angle(yFFT[Fshake*10*i]) \n",
    "        DataSpaceZSigAmp[k][i-1]=znsd[Fshake*10*i]/ZtfZ[Fshake*10*i-10]*ZtfZ[f0*10-10]\n",
    "        DataSpaceZSigPha[k][i-1]=np.angle(zFFT[Fshake*10*i]) \n",
    "        \n",
    "##save noise bin data to the array\n",
    "    for i in range(1,(HarmN+1)):\n",
    "        DataSpaceXNoiAmp[k][i-1]=xnsd[Fshake*10*i-Noff]/XtfX[Fshake*10*i-10]*XtfX[f0*10-10]\n",
    "        DataSpaceXNoiPha[k][i-1]=np.angle(xFFT[Fshake*10*i-Noff]) \n",
    "        DataSpaceYNoiAmp[k][i-1]=ynsd[Fshake*10*i-Noff]/YtfY[Fshake*10*i-10]*YtfY[f0*10-10]\n",
    "        DataSpaceYNoiPha[k][i-1]=np.angle(yFFT[Fshake*10*i-Noff]) \n",
    "        DataSpaceZNoiAmp[k][i-1]=znsd[Fshake*10*i-Noff]/ZtfZ[Fshake*10*i-10]*ZtfZ[f0*10-10]\n",
    "        DataSpaceZNoiPha[k][i-1]=np.angle(zFFT[Fshake*10*i-Noff]) \n",
    "  \n",
    "    if (k%100)==0:\n",
    "        print(k)\n",
    "        \n",
    "##write the harmonics data\n",
    "for i in range(1,(HarmN+1)):\n",
    "    ofname = folder+\"/Bead\"+str(BeadNumber)+\"/Shaking/Shaking2_20200403\"+\"/SignalNoShaking_%d_%dthHarm.txt\" % (Ndata,i)\n",
    "    f1 = open(ofname,\"a\")\n",
    "    for k in range(0,DataN):\n",
    "        f1.write('%d %e %e %e %f %f %f\\n' % (k, DataSpaceXSigAmp[k][i-1], DataSpaceYSigAmp[k][i-1], DataSpaceZSigAmp[k][i-1], \n",
    "                                            DataSpaceXSigPha[k][i-1], DataSpaceYSigPha[k][i-1], DataSpaceZSigPha[k][i-1]))\n",
    "    f1.close()\n",
    "    ofname = folder+\"/Bead\"+str(BeadNumber)+\"/Shaking/Shaking2_20200403\"+\"/NoiseNoShaking_%d_%dthHarm.txt\" % (Ndata,i)\n",
    "    f1 = open(ofname,\"a\")\n",
    "    for k in range(0,DataN):\n",
    "        f1.write('%d %e %e %e %f %f %f\\n' % (k, DataSpaceXNoiAmp[k][i-1], DataSpaceYNoiAmp[k][i-1], DataSpaceZNoiAmp[k][i-1], \n",
    "                                            DataSpaceXNoiPha[k][i-1], DataSpaceYNoiPha[k][i-1], DataSpaceZNoiPha[k][i-1]))\n",
    "    f1.close()\n",
    "    \n",
    "print (\"Total run time is \", time.time() - start_time, \" s\")"
   ]
  },
  {
   "cell_type": "code",
   "execution_count": 35,
   "metadata": {},
   "outputs": [],
   "source": [
    "ofname = folder+\"/Bead\"+str(BeadNumber)+\"/Shaking/Shaking2_20200403\"+\"/Test.txt\" % (Ndata,i)\n",
    "f1 = open(ofname,\"a\")\n",
    "for k in range(0,DataN):\n",
    "    f1.write('%d %e %e %e %f %f %f\\n' % (k, DataSpaceXSigAmp[k][i-1], DataSpaceYSigAmp[k][i-1], DataSpaceZSigAmp[k][i-1], \n",
    "                                            DataSpaceXSigPha[k][i-1], DataSpaceYSigPha[k][i-1], DataSpaceZSigPha[k][i-1]))\n",
    "f1.close()"
   ]
  },
  {
   "cell_type": "code",
   "execution_count": null,
   "metadata": {},
   "outputs": [],
   "source": []
  },
  {
   "cell_type": "code",
   "execution_count": null,
   "metadata": {},
   "outputs": [],
   "source": []
  }
 ],
 "metadata": {
  "kernelspec": {
   "display_name": "Python 3",
   "language": "python",
   "name": "python3"
  },
  "language_info": {
   "codemirror_mode": {
    "name": "ipython",
    "version": 3
   },
   "file_extension": ".py",
   "mimetype": "text/x-python",
   "name": "python",
   "nbconvert_exporter": "python",
   "pygments_lexer": "ipython3",
   "version": "3.6.9"
  }
 },
 "nbformat": 4,
 "nbformat_minor": 2
}
