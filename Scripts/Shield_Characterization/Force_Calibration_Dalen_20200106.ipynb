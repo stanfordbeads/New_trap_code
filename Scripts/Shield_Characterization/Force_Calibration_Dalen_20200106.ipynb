{
 "cells": [
  {
   "cell_type": "code",
   "execution_count": 57,
   "metadata": {},
   "outputs": [],
   "source": [
    "import numpy as np\n",
    "import matplotlib.pyplot as plt\n",
    "import matplotlib\n",
    "from matplotlib import mlab\n",
    "from scipy import signal\n",
    "import h5py, time\n",
    "import sys\n",
    "import glob\n",
    "sys.path.append('/home/analysis_user/New_trap_code/Tools/')\n",
    "import BeadDataFile\n",
    "from discharge_tools import *\n",
    "from iminuit import Minuit, describe\n",
    "from pprint import pprint # we use this to pretty print some stuff later\n",
    "from tqdm import tqdm\n",
    "\n",
    "plt.rcParams[\"figure.figsize\"] = (12,9)\n",
    "plt.rcParams[\"font.size\"] = 24\n",
    "plt.rcParams['xtick.labelsize'] = \"small\"\n",
    "plt.rcParams['ytick.labelsize'] = 36"
   ]
  },
  {
   "cell_type": "code",
   "execution_count": 3,
   "metadata": {},
   "outputs": [],
   "source": [
    "def get_force_from_discharge(folder,file_list,axis,drive_freq=151):\n",
    "    ret_value = []\n",
    "    for i in file_list:\n",
    "        fname = folder+\"/Bead\"+str(BeadNumber)+\"/Discharge\"+\"/Discharge_%d.h5\" %i\n",
    "        BDF = BeadDataFile.BeadDataFile(fname)\n",
    "        data = BDF.xyz2\n",
    "        fsamp=5000\n",
    "        res=50000\n",
    "        data_det=signal.detrend(data)     \n",
    "        xpsd, freqs = matplotlib.mlab.psd(data_det[0], Fs = fsamp, NFFT = res,window=mlab.window_none)\n",
    "        ypsd, freqs = matplotlib.mlab.psd(data_det[1], Fs = fsamp, NFFT = res,window=mlab.window_none)\n",
    "        zpsd, freqs = matplotlib.mlab.psd(data_det[2], Fs = fsamp, NFFT = res,window=mlab.window_none)\n",
    "        if(str(axis)==\"x\"):\n",
    "            ret_value.append(np.sqrt(xpsd[drive_freq*10]))\n",
    "        if(str(axis)==\"y\"):\n",
    "            ret_value.append(np.sqrt(ypsd[drive_freq*10]))\n",
    "        if(str(axis)==\"z\"):\n",
    "            ret_value.append(np.sqrt(zpsd[drive_freq*10]))\n",
    "    return ret_value\n",
    "\n",
    "def force_conversion_factor(q,V=10,conv_factor=0.65,electrode_distance=8.6e-3):\n",
    "    F=(q*1.602e-19)*(V*2/electrode_distance*conv_factor)\n",
    "    return F \n",
    "\n",
    "\n",
    "def bit_to_force_conversion_factor(file_list,axis,q,V=10):\n",
    "    bit_normal = np.mean(get_force_from_discharge(folder,file_list,axis))\n",
    "    force=force_conversion_factor(q,V)\n",
    "    bit_to_force = force/bit_normal\n",
    "    return bit_to_force"
   ]
  },
  {
   "cell_type": "code",
   "execution_count": 4,
   "metadata": {},
   "outputs": [],
   "source": [
    "# Force calibration using transfer function\n",
    "\n",
    "def transfer_func_prep(folder,axis,base_freq=7):\n",
    "    # get the file name with the convention Akio has chosen\n",
    "    res=50000\n",
    "    fsamp= 5000\n",
    "    if(axis==\"X\"):\n",
    "        x_list =[]\n",
    "        number = 1\n",
    "        fname = folder+\"/Bead\"+str(BeadNumber)+\"/TransFunc\"+\"/Transfunc%s_%d.h5\" %(axis,number)\n",
    "        BDF = BeadDataFile.BeadDataFile(fname)\n",
    "        data = BDF.xyz2\n",
    "        data_det=signal.detrend(data)\n",
    "        Xpsd, freqs = matplotlib.mlab.psd(data_det[0], Fs = fsamp, NFFT = res,window=mlab.window_none)\n",
    "        Ypsd, freqs = matplotlib.mlab.psd(data_det[1], Fs = fsamp, NFFT = res,window=mlab.window_none)\n",
    "        Zpsd, freqs = matplotlib.mlab.psd(data_det[2], Fs = fsamp, NFFT = res,window=mlab.window_none)\n",
    "        \n",
    "        x_list.append(np.sqrt(Xpsd[base_freq*10])) \n",
    "        x_list.append(np.sqrt(Xpsd)) \n",
    "        x_list.append(np.sqrt(Ypsd)) \n",
    "        x_list.append(np.sqrt(Zpsd))\n",
    "        #print(\"Returning list with Noise at base frequency,XNoise,YNoise,ZNoise\")\n",
    "        return x_list\n",
    "    if(axis==\"Y\"):\n",
    "        y_list =[]\n",
    "        number = 2\n",
    "        fname = folder+\"/Bead\"+str(BeadNumber)+\"/TransFunc\"+\"/Transfunc%s_%d.h5\" %(axis,number)\n",
    "        BDF = BeadDataFile.BeadDataFile(fname)\n",
    "        data = BDF.xyz2\n",
    "        data_det=signal.detrend(data)\n",
    "        Xpsd, freqs = matplotlib.mlab.psd(data_det[0], Fs = fsamp, NFFT = res,window=mlab.window_none)\n",
    "        Ypsd, freqs = matplotlib.mlab.psd(data_det[1], Fs = fsamp, NFFT = res,window=mlab.window_none)\n",
    "        Zpsd, freqs = matplotlib.mlab.psd(data_det[2], Fs = fsamp, NFFT = res,window=mlab.window_none)\n",
    "        y_list.append(np.sqrt(Ypsd[base_freq*10])) \n",
    "        y_list.append(np.sqrt(Xpsd)) \n",
    "        y_list.append(np.sqrt(Ypsd)) \n",
    "        y_list.append(np.sqrt(Zpsd))\n",
    "        #print(\"Returning list with Noise at base frequency,XNoise,YNoise,ZNoise\")\n",
    "        return y_list\n",
    "    if(axis==\"Z\"):\n",
    "        z_list =[]\n",
    "        number = 3\n",
    "        fname = folder+\"/Bead\"+str(BeadNumber)+\"/TransFunc\"+\"/Transfunc%s_%d.h5\" %(axis,number)\n",
    "        BDF = BeadDataFile.BeadDataFile(fname)\n",
    "        data = BDF.xyz2\n",
    "        data_det=signal.detrend(data)\n",
    "        Xpsd, freqs = matplotlib.mlab.psd(data_det[0], Fs = fsamp, NFFT = res,window=mlab.window_none)\n",
    "        Ypsd, freqs = matplotlib.mlab.psd(data_det[1], Fs = fsamp, NFFT = res,window=mlab.window_none)\n",
    "        Zpsd, freqs = matplotlib.mlab.psd(data_det[2], Fs = fsamp, NFFT = res,window=mlab.window_none)\n",
    "        z_list.append(np.sqrt(Zpsd[base_freq*10])) \n",
    "        z_list.append(np.sqrt(Xpsd)) \n",
    "        z_list.append(np.sqrt(Ypsd)) \n",
    "        z_list.append(np.sqrt(Zpsd))\n",
    "        #print(\"Returning list with Noise at base frequency,XNoise,YNoise,ZNoise\")\n",
    "        return z_list\n"
   ]
  },
  {
   "cell_type": "code",
   "execution_count": 5,
   "metadata": {},
   "outputs": [],
   "source": [
    "def transfer_func_output(folder,q,V,base_freq=7,no_harmonics=100):\n",
    "    x_list = transfer_func_prep(folder,\"X\",base_freq=base_freq)\n",
    "    y_list = transfer_func_prep(folder,\"Y\",base_freq=base_freq)\n",
    "    z_list = transfer_func_prep(folder,\"Z\",base_freq=base_freq)\n",
    "    F = force_conversion_factor(q,V)\n",
    "    \n",
    "    force_noise_in_x = []\n",
    "    force_noise_in_x.append(x_list[1]/x_list[0]*F)\n",
    "    force_noise_in_x.append(x_list[2]/y_list[0]*F)\n",
    "    force_noise_in_x.append(x_list[3]/z_list[0]*F)\n",
    "    force_noise_in_y = []\n",
    "    force_noise_in_y.append(y_list[1]/x_list[0]*F)\n",
    "    force_noise_in_y.append(y_list[2]/y_list[0]*F)\n",
    "    force_noise_in_y.append(y_list[3]/z_list[0]*F)  \n",
    "    force_noise_in_z = []\n",
    "    force_noise_in_z.append(z_list[1]/x_list[0]*F)\n",
    "    force_noise_in_z.append(z_list[2]/y_list[0]*F)\n",
    "    force_noise_in_z.append(z_list[3]/z_list[0]*F)   \n",
    "    \n",
    "    TFXX=[]\n",
    "    TFXY=[]\n",
    "    TFXZ=[]\n",
    "    TFYX=[]\n",
    "    TFYY=[]\n",
    "    TFYZ=[]\n",
    "    TFZX=[]\n",
    "    TFZY=[]\n",
    "    TFZZ=[]\n",
    "    \n",
    "    FreqTF = np.arange(base_freq,(base_freq*no_harmonics+base_freq),base_freq)\n",
    "    for i in range(no_harmonics):\n",
    "        TFXX.append(force_noise_in_x[0][base_freq*10*(i+1)])\n",
    "        TFXY.append(force_noise_in_x[1][base_freq*10*(i+1)])\n",
    "        TFXZ.append(force_noise_in_x[2][base_freq*10*(i+1)])\n",
    "        TFYX.append(force_noise_in_y[0][base_freq*10*(i+1)])\n",
    "        TFYY.append(force_noise_in_y[1][base_freq*10*(i+1)])\n",
    "        TFYZ.append(force_noise_in_y[2][base_freq*10*(i+1)])\n",
    "        TFZX.append(force_noise_in_z[0][base_freq*10*(i+1)])\n",
    "        TFZY.append(force_noise_in_z[1][base_freq*10*(i+1)])\n",
    "        TFZZ.append(force_noise_in_z[2][base_freq*10*(i+1)])\n",
    "                    \n",
    "    TFX = [TFXX,TFXY,TFXZ]\n",
    "    TFY = [TFYX,TFYY,TFYZ]\n",
    "    TFZ = [TFZX,TFZY,TFZZ]\n",
    "    TF = [TFX,TFY,TFZ]                \n",
    "    return FreqTF,TF    "
   ]
  },
  {
   "cell_type": "code",
   "execution_count": 6,
   "metadata": {},
   "outputs": [],
   "source": [
    "def transfer_function1(data_x,params=list):\n",
    "    # for normalization a 1/sigma could be needed\n",
    "    return params[0]*params[1]**2/np.sqrt((data_x*data_x-params[1]**2)**2+params[2]**2*data_x**2)+params[3]\n",
    "\n",
    "def chisquare_1d(function, data_x, data_y,data_y_error, functionparams=list):\n",
    "    chisquarevalue=np.sum(np.power(np.divide(np.subtract(function(data_x,functionparams),data_y),data_y_error),2))\n",
    "    ndf = len(data_y)-len(functionparams)\n",
    "    #print(ndf)\n",
    "    return (chisquarevalue, ndf)\n",
    "\n",
    "def chisquare_tf(a,b,c,d):\n",
    "    return chisquare_1d(function=transfer_function1,functionparams=[a,b,c,d],data_x=data_x,data_y=data_y,data_y_error=data_y_error)[0]\n",
    "\n",
    "def two_dimensional_gaussian(data_x,data_y,params=list):\n",
    "    #g1 = ((data_x-params[1])/params[2]);\n",
    "    #g2 = ((data_x-params[2])/params[4]);   \n",
    "    return params[0]*np.exp(-0.5*(np.power((((data_x-params[1])*np.cos(params[3])-(data_y-params[2])*np.sin(params[3]))/params[4]),2)+np.power((((data_x-params[1])*np.sin(params[3])+(data_y-params[2])*np.cos(params[3]))/params[5]),2)))+params[6]\n",
    "              \n"
   ]
  },
  {
   "cell_type": "code",
   "execution_count": 7,
   "metadata": {},
   "outputs": [],
   "source": [
    "def transfer_function_fits(FreqTF,TF,fix_d=False,base_freq=7):\n",
    "    parameter_list = []\n",
    "    for i in np.arange(0,3,1):\n",
    "        def chisquare_tf(a,b,c,d):\n",
    "            return chisquare_1d(function=transfer_function1,functionparams=[a,b,c,d],data_x=data_x,data_y=data_y,data_y_error=data_y_error)[0]\n",
    "        data_x = np.asarray(FreqTF)\n",
    "        data_y=np.asarray(TF[i][i])\n",
    "        data_y_error=data_y/10\n",
    "        m2=Minuit(chisquare_tf,a=1e-16,fix_a=False,b=415,fix_b=False,c=2,fix_c=False,d=0,fix_d=fix_d,errordef = 1,print_level=1)\n",
    "        m2.migrad(ncall=500000)\n",
    "        var_list=[m2.values[\"a\"],m2.values[\"b\"],m2.values[\"c\"],m2.values[\"d\"]]\n",
    "        parameter_list.append(var_list)\n",
    "        plt.title(\"%s\" %i)\n",
    "        plt.plot(FreqTF,transfer_function1(data_x,params=[m2.values[\"a\"],m2.values[\"b\"],m2.values[\"c\"],m2.values[\"d\"]]))\n",
    "        plt.plot(FreqTF,TF[i][i])\n",
    "        plt.yscale(\"log\")\n",
    "        plt.show()\n",
    "    return parameter_list    "
   ]
  },
  {
   "cell_type": "code",
   "execution_count": 8,
   "metadata": {},
   "outputs": [],
   "source": [
    "def from_data_to_force_amp_and_phase_per_harmonic(folder,data_set_list,file_list,q,V=10,shake_freq=13,no_harmonics=100,drive_freq=151,base_freq=7,no_harmonics_tf=100):\n",
    "        FreqTF,TF = transfer_func_output(folder,q,V,no_harmonics=no_harmonics_tf)\n",
    "        TF_val = transfer_function_fits(FreqTF,TF)\n",
    "        file_amp_list = []\n",
    "        file_phase_list = []\n",
    "        for data_set in tqdm(data_set_list):\n",
    "            fname = data_set#folder+\"/Bead\"+str(BeadNumber)+\"/Shaking\"+\"/Shaking%d_%d.h5\" % (data_set,0)\n",
    "            BDF = BeadDataFile.BeadDataFile(fname)\n",
    "            data = BDF.xyz2\n",
    "            res = 50000\n",
    "            fsamp=5000\n",
    "            data_det=signal.detrend(data)\n",
    "            freqs=np.linspace(0,2500,(res/2)+1)    # change\n",
    "            xFFT=np.fft.rfft(data_det[0])\n",
    "            yFFT=np.fft.rfft(data_det[1])\n",
    "            zFFT=np.fft.rfft(data_det[2])\n",
    "            norm = np.sqrt(2 / (res* fsamp))\n",
    "            xpsd = norm**2 * (xFFT * xFFT.conj()).real\n",
    "            ypsd = norm**2 * (yFFT * yFFT.conj()).real\n",
    "            zpsd = norm**2 * (zFFT * zFFT.conj()).real\n",
    "\n",
    "            w0x=TF_val[0][1]\n",
    "            gx=TF_val[0][2]\n",
    "            w0y=TF_val[1][1]\n",
    "            gy=TF_val[1][2]\n",
    "            w0z=TF_val[2][1]\n",
    "            gz=TF_val[2][2]\n",
    "            BtoFx=bit_to_force_conversion_factor(file_list[0],\"x\",q,V)#3.14E-12\n",
    "            BtoFy=bit_to_force_conversion_factor(file_list[1],\"y\",q,V)#1.57E-12\n",
    "            BtoFz=bit_to_force_conversion_factor(file_list[2],\"z\",q,V)#2.71E-19\n",
    "            const_x = TF_val[0][3]\n",
    "            const_y = TF_val[1][3]\n",
    "            const_z = TF_val[2][3]\n",
    "\n",
    "            f0=drive_freq\n",
    "            F0x=1/(np.sqrt((f0**2-w0x**2)**2+gx**2*f0**2)+const_x)\n",
    "            F0y=1/(np.sqrt((f0**2-w0y**2)**2+gy**2*f0**2)+const_y)\n",
    "            F0z=1/(np.sqrt((f0**2-w0z**2)**2+gz**2*f0**2)+const_z)\n",
    "\n",
    "            xnsd=np.sqrt(xpsd)*BtoFx*F0x*(np.sqrt((freqs**2-w0x**2)**2+gx**2*freqs**2)+const_x)\n",
    "            ynsd=np.sqrt(ypsd)*BtoFy*F0y*(np.sqrt((freqs**2-w0y**2)**2+gy**2*freqs**2)+const_y)\n",
    "            znsd=np.sqrt(zpsd)*BtoFz*F0z*(np.sqrt((f0**2-w0z**2)**2+gz**2*f0**2)+const_z)\n",
    "\n",
    "            xphase=np.angle(xFFT)\n",
    "            yphase=np.angle(yFFT)\n",
    "            zphase=np.angle(zFFT)\n",
    "\n",
    "            # now get amplitude and phase from all harmonics\n",
    "\n",
    "            no_harmonics=np.arange(1,100,1)\n",
    "            norm_factor = 10\n",
    "            frequency=13\n",
    "            response_amp=[]\n",
    "            response_phase = []\n",
    "            for i in no_harmonics:\n",
    "                a = xnsd[i*shake_freq*norm_factor] * np.cos(xphase[i*shake_freq*norm_factor]) \n",
    "                b = xnsd[i*shake_freq*norm_factor] * np.sin(xphase[i*shake_freq*norm_factor])\n",
    "                response_amp.append(a)\n",
    "                response_phase.append(b)\n",
    "            file_amp_list.append(response_amp)\n",
    "            file_phase_list.append(response_phase)\n",
    "        return file_amp_list,file_phase_list\n",
    "        "
   ]
  },
  {
   "cell_type": "code",
   "execution_count": 11,
   "metadata": {},
   "outputs": [
    {
     "name": "stdout",
     "output_type": "stream",
     "text": [
      "419  files in folder\n",
      "419  files loaded\n"
     ]
    },
    {
     "name": "stderr",
     "output_type": "stream",
     "text": [
      "/home/analysis_user/.local/lib/python3.6/site-packages/scipy/signal/_arraytools.py:45: FutureWarning: Using a non-tuple sequence for multidimensional indexing is deprecated; use `arr[tuple(seq)]` instead of `arr[seq]`. In the future this will be interpreted as an array index, `arr[np.array(seq)]`, which will result either in an error or a different result.\n",
      "  b = a[a_slice]\n"
     ]
    },
    {
     "name": "stdout",
     "output_type": "stream",
     "text": [
      "419  files in folder\n",
      "419  files loaded\n",
      "419  files in folder\n",
      "419  files loaded\n"
     ]
    }
   ],
   "source": [
    "foldername = r'/data/new_trap/20191215/Bead1/Discharge/'\n",
    "\n",
    "resp_z = discharge_response(foldername=foldername,str_axis='z',drive_freq=151)\n",
    "resp_x = discharge_response(foldername=foldername,str_axis='x',drive_freq=151)\n",
    "resp_y = discharge_response(foldername=foldername,str_axis='y',drive_freq=151)"
   ]
  },
  {
   "cell_type": "code",
   "execution_count": 87,
   "metadata": {},
   "outputs": [],
   "source": [
    "responses = [resp_z[29:-1]/np.mean(resp_z[374:379]),resp_y[29:-1]/np.mean(resp_y[379:384]),resp_x[29:-1]/np.mean(resp_x[369:374])]"
   ]
  },
  {
   "cell_type": "code",
   "execution_count": 101,
   "metadata": {},
   "outputs": [],
   "source": [
    "reshape_responses = np.reshape(responses, (3, 389)).T"
   ]
  },
  {
   "cell_type": "code",
   "execution_count": 149,
   "metadata": {},
   "outputs": [],
   "source": [
    "discharge_axis_list = []\n",
    "plot_driven_response_x, plot_driven_response_y, plot_driven_response_z=([] for i in range(3))\n",
    "x_list, y_list, z_list = ([] for i in range(3))\n",
    "for j in range(len(reshape_responses)):\n",
    "    discharge_axis_list.append(np.argmax(reshape_responses[j]))\n",
    "    if(np.argmax(reshape_responses[j])==2):\n",
    "        x_list.append(j)\n",
    "        plot_driven_response_x.append(reshape_responses[j][discharge_axis_list[j]])\n",
    "    if(np.argmax(reshape_responses[j])==1):\n",
    "        y_list.append(j)\n",
    "        plot_driven_response_y.append(reshape_responses[j][discharge_axis_list[j]])\n",
    "    if(np.argmax(reshape_responses[j])==0):\n",
    "        z_list.append(j)\n",
    "        plot_driven_response_z.append(reshape_responses[j][discharge_axis_list[j]])\n"
   ]
  },
  {
   "cell_type": "code",
   "execution_count": 184,
   "metadata": {},
   "outputs": [
    {
     "data": {
      "image/png": "[encoded data removed]",
      "text/plain": [
       "<Figure size 864x648 with 1 Axes>"
      ]
     },
     "metadata": {},
     "output_type": "display_data"
    }
   ],
   "source": [
    "plt.plot(z_list,plot_driven_response_z, linestyle = \"\", marker =\"o\", color = \"green\", label = \"Z\")\n",
    "plt.plot(y_list,plot_driven_response_y, linestyle = \"\", marker =\"o\", color = \"orange\", label =\"Y\")\n",
    "plt.plot(x_list,plot_driven_response_x, linestyle = \"\", marker =\"o\", color = \"blue\", label = \"X\")\n",
    "plt.ylabel(\"charges [e]\")\n",
    "plt.xlabel(\"data_set [#]\")\n",
    "plt.savefig(\"Results/Dalen_20200106/discharge/overview_discharge.png\", dpi=300,bbox_inches=\"tight\")\n",
    "\n",
    "plt.legend()\n",
    "plt.show()"
   ]
  },
  {
   "cell_type": "code",
   "execution_count": 183,
   "metadata": {},
   "outputs": [
    {
     "data": {
      "image/png": "[encoded data removed]",
      "text/plain": [
       "<Figure size 864x648 with 1 Axes>"
      ]
     },
     "metadata": {},
     "output_type": "display_data"
    }
   ],
   "source": [
    "plt.plot(z_list,plot_driven_response_z, linestyle = \"\", marker =\"o\", color = \"green\", label = \"Z\")\n",
    "plt.plot(y_list,plot_driven_response_y, linestyle = \"\", marker =\"o\", color = \"orange\", label =\"Y\")\n",
    "plt.plot(x_list,plot_driven_response_x, linestyle = \"\", marker =\"o\", color = \"blue\", label = \"X\")\n",
    "plt.ylabel(\"charges [e]\")\n",
    "plt.xlabel(\"data_set [#]\")\n",
    "plt.xlim(295,390)\n",
    "plt.ylim(0,5)\n",
    "plt.legend()\n",
    "plt.savefig(\"Results/Dalen_20200106/discharge/discharge.png\", dpi=300,bbox_inches=\"tight\")\n",
    "plt.show()"
   ]
  },
  {
   "cell_type": "code",
   "execution_count": 190,
   "metadata": {},
   "outputs": [],
   "source": [
    "Year = \"2019\"\n",
    "Month = \"12\"\n",
    "Day = \"15\"\n",
    "BeadNumber =1\n",
    "folder = r\"/home/data_transfer/data_from_windows/\"+ Year + Month + Day\n",
    "file_list =  range(369,374)\n",
    "axis = \"x\"\n",
    "#b_to_f = get_force_from_discharge(folder,file_list,axis,drive_freq=151)"
   ]
  },
  {
   "cell_type": "code",
   "execution_count": 194,
   "metadata": {},
   "outputs": [],
   "source": [
    "b_to_f = bit_to_force_conversion_factor(file_list,axis,q=1,V=10)\n"
   ]
  },
  {
   "cell_type": "code",
   "execution_count": 195,
   "metadata": {},
   "outputs": [
    {
     "data": {
      "text/plain": [
       "9.242334036366173e-13"
      ]
     },
     "execution_count": 195,
     "metadata": {},
     "output_type": "execute_result"
    }
   ],
   "source": [
    "b_to_f"
   ]
  },
  {
   "cell_type": "code",
   "execution_count": null,
   "metadata": {},
   "outputs": [],
   "source": []
  }
 ],
 "metadata": {
  "kernelspec": {
   "display_name": "Python 3",
   "language": "python",
   "name": "python3"
  }
 },
 "nbformat": 4,
 "nbformat_minor": 2
}
