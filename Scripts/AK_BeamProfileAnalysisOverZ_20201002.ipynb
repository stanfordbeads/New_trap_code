{
 "cells": [
  {
   "cell_type": "code",
   "execution_count": 1,
   "metadata": {},
   "outputs": [],
   "source": [
    "##This code is for 1 Hz n s files. For 1 Hz 1s files, use 20200818 code, where fitting works"
   ]
  },
  {
   "cell_type": "code",
   "execution_count": 2,
   "metadata": {},
   "outputs": [],
   "source": [
    "# import stuff\n",
    "import numpy as np\n",
    "import matplotlib.pyplot as plt\n",
    "import matplotlib\n",
    "import scipy\n",
    "from scipy import signal\n",
    "import h5py, time\n",
    "from iminuit import Minuit, describe\n",
    "from pprint import pprint # we use this to pretty print some stuff later\n",
    "\n",
    "import sys\n",
    "sys.path.append('/home/analysis_user/New_trap_code/Tools/')\n",
    "import BeadDataFile\n",
    "from discharge_tools import load_dir"
   ]
  },
  {
   "cell_type": "code",
   "execution_count": 3,
   "metadata": {},
   "outputs": [],
   "source": [
    "# calibration of the voltage - position conversion\n",
    "def voltage_to_position(voltage,slope=0.019834000085488412,offset=-0.0015000315197539749,redo=False):\n",
    "    if(redo==True):\n",
    "        pos_list=np.asarray([-0.007,4.968,9.91])\n",
    "        y_err=np.asarray([0.01,0.01,0.01])\n",
    "        val = np.asarray([0,250,500])\n",
    "        data_x=val\n",
    "        data_y=pos_list\n",
    "        data_y_error=y_err\n",
    "        m2=Minuit(chisquare_linear, \n",
    "             a = 100,\n",
    "             b=0,\n",
    "             errordef = 1,\n",
    "             print_level=1)\n",
    "        m2.migrad()\n",
    "        print(m2.values[\"a\"],m2.values[\"b\"])\n",
    "        plt.plot(val,pos_list,marker=\"*\")\n",
    "        plt.plot(val,m2.values[\"a\"]*val+m2.values[\"b\"])\n",
    "        slope = m2.values[\"a\"]\n",
    "        offset = m2.values[\"b\"]\n",
    "    position=(voltage-offset)/slope\n",
    "    return position"
   ]
  },
  {
   "cell_type": "code",
   "execution_count": 4,
   "metadata": {},
   "outputs": [],
   "source": [
    "from scipy.optimize import curve_fit\n",
    "from scipy.stats import norm"
   ]
  },
  {
   "cell_type": "code",
   "execution_count": 13,
   "metadata": {},
   "outputs": [],
   "source": [
    "# load the data\n",
    "Year = \"2020\"\n",
    "Month = \"09\"\n",
    "Day = \"30\"\n",
    "BeadNumber = 1\n",
    "#RunNumber = 144\n",
    "#folder =  r\"/home/data_transfer/data_from_windows/\" + Year + Month + Day + \"/Bead\"+str(BeadNumber)+\"/Shaking/\"\n",
    "#folder =  r\"/home/data_transfer/data_from_windows/\" + Year + Month + Day + \"/Bead\"+str(BeadNumber)+\"/BeamProfile/\"\n",
    "folder =  r\"/home/data_transfer/data_from_windows/\" + Year + Month + Day + \"/NoBead/y320/\""
   ]
  },
  {
   "cell_type": "code",
   "execution_count": 14,
   "metadata": {},
   "outputs": [
    {
     "name": "stderr",
     "output_type": "stream",
     "text": [
      "100%|██████████| 100/100 [00:19<00:00,  5.47it/s]"
     ]
    },
    {
     "name": "stdout",
     "output_type": "stream",
     "text": [
      "100  files in folder\n",
      "100  files loaded\n"
     ]
    },
    {
     "name": "stderr",
     "output_type": "stream",
     "text": [
      "\n"
     ]
    }
   ],
   "source": [
    "Fname=\"BeamProfileX0\"\n",
    "files = load_dir(folder, file_prefix = Fname, max_file=500)"
   ]
  },
  {
   "cell_type": "code",
   "execution_count": 15,
   "metadata": {},
   "outputs": [],
   "source": [
    "def get_waist(pos,pd, flip=False):\n",
    "\n",
    "    pos1 = voltage_to_position(pos)\n",
    "    if (flip):\n",
    "        pos1 *= -1\n",
    "    data1 = np.array(pd)-np.min(pd)\n",
    "    data1 = data1/np.max(data1)    \n",
    "    #noraml CDF fit\n",
    "    temp_params = curve_fit(norm.cdf, pos1, data1, p0=[pos1[2500],5])[0]\n",
    "    \n",
    "    if (flip):\n",
    "        temp_params[0] *= -1\n",
    "    return temp_params"
   ]
  },
  {
   "cell_type": "code",
   "execution_count": 16,
   "metadata": {},
   "outputs": [
    {
     "name": "stdout",
     "output_type": "stream",
     "text": [
      "0\n",
      "10\n",
      "20\n",
      "30\n",
      "40\n",
      "50\n",
      "60\n",
      "70\n",
      "80\n",
      "90\n"
     ]
    }
   ],
   "source": [
    "parX1 = []\n",
    "parX2 = []\n",
    "spin=np.zeros(5000)\n",
    "j=0\n",
    "for ff in files:\n",
    "    pos_x = ff.cant_pos[0]\n",
    "    quad_sum = ff.quad_sum\n",
    "    spintemp = ff.spin_data[0]\n",
    "    for i in range(0,5000):\n",
    "        spin[i]=np.average(spintemp[10*i:10*i+9])\n",
    "#    parX1.append(get_waist(pos_x, quad_sum, flip=True))\n",
    "#    parX2.append(get_waist(pos_x, spin))\n",
    "    \n",
    "    if (j%10)==0:\n",
    "        ofname = folder+\"/\" + Fname + \"_Output_%d.txt\" % j\n",
    "\n",
    "        f1 = open(ofname,\"a\")\n",
    "        for i in range(0,5000):\n",
    "            f1.write('%f %e %e\\n' % (pos_x[i], quad_sum[i], spin[i]))\n",
    "        f1.close()\n",
    "        print(j)\n",
    "    j=j+1\n",
    "    \n",
    "    \n",
    "parX1 = np.array(parX1)\n",
    "parX2 = np.array(parX2)\n",
    "ZrangeX = np.array([np.mean(ff.cant_pos[2])*10 for ff in files])"
   ]
  },
  {
   "cell_type": "code",
   "execution_count": 21,
   "metadata": {},
   "outputs": [],
   "source": [
    "def beamwidth_fun(t,z,w):\n",
    "    return w*np.sqrt(1+((t-z)/np.pi/w/w*1.064)**2)\n",
    "\n",
    "Zrange = np.linspace(5,95,91)\n",
    "\n",
    "def fit_waist(pars):\n",
    "    return curve_fit(beamwidth_fun, Zrange, pars[:,1],p0=[50,5])[0]"
   ]
  },
  {
   "cell_type": "code",
   "execution_count": 22,
   "metadata": {},
   "outputs": [
    {
     "ename": "ValueError",
     "evalue": "operands could not be broadcast together with shapes (91,) (100,) ",
     "output_type": "error",
     "traceback": [
      "\u001b[0;31m---------------------------------------------------------------------------\u001b[0m",
      "\u001b[0;31mValueError\u001b[0m                                Traceback (most recent call last)",
      "\u001b[0;32m<ipython-input-22-15b8256a3acc>\u001b[0m in \u001b[0;36m<module>\u001b[0;34m\u001b[0m\n\u001b[0;32m----> 1\u001b[0;31m \u001b[0mpfitX1\u001b[0m \u001b[0;34m=\u001b[0m \u001b[0mfit_waist\u001b[0m\u001b[0;34m(\u001b[0m\u001b[0mparX1\u001b[0m\u001b[0;34m)\u001b[0m\u001b[0;34m\u001b[0m\u001b[0;34m\u001b[0m\u001b[0m\n\u001b[0m\u001b[1;32m      2\u001b[0m \u001b[0mpfitX2\u001b[0m \u001b[0;34m=\u001b[0m \u001b[0mfit_waist\u001b[0m\u001b[0;34m(\u001b[0m\u001b[0mparX2\u001b[0m\u001b[0;34m)\u001b[0m\u001b[0;34m\u001b[0m\u001b[0;34m\u001b[0m\u001b[0m\n\u001b[1;32m      3\u001b[0m \u001b[0mprint\u001b[0m\u001b[0;34m(\u001b[0m\u001b[0mpfitX2\u001b[0m\u001b[0;34m)\u001b[0m\u001b[0;34m\u001b[0m\u001b[0;34m\u001b[0m\u001b[0m\n\u001b[1;32m      4\u001b[0m \u001b[0mprint\u001b[0m\u001b[0;34m(\u001b[0m\u001b[0mnp\u001b[0m\u001b[0;34m.\u001b[0m\u001b[0mmin\u001b[0m\u001b[0;34m(\u001b[0m\u001b[0mparX2\u001b[0m\u001b[0;34m[\u001b[0m\u001b[0;34m:\u001b[0m\u001b[0;34m,\u001b[0m\u001b[0;36m1\u001b[0m\u001b[0;34m]\u001b[0m\u001b[0;34m)\u001b[0m\u001b[0;34m*\u001b[0m\u001b[0;36m2\u001b[0m\u001b[0;34m)\u001b[0m\u001b[0;34m\u001b[0m\u001b[0;34m\u001b[0m\u001b[0m\n",
      "\u001b[0;32m<ipython-input-21-181ae69d1e59>\u001b[0m in \u001b[0;36mfit_waist\u001b[0;34m(pars)\u001b[0m\n\u001b[1;32m      5\u001b[0m \u001b[0;34m\u001b[0m\u001b[0m\n\u001b[1;32m      6\u001b[0m \u001b[0;32mdef\u001b[0m \u001b[0mfit_waist\u001b[0m\u001b[0;34m(\u001b[0m\u001b[0mpars\u001b[0m\u001b[0;34m)\u001b[0m\u001b[0;34m:\u001b[0m\u001b[0;34m\u001b[0m\u001b[0;34m\u001b[0m\u001b[0m\n\u001b[0;32m----> 7\u001b[0;31m     \u001b[0;32mreturn\u001b[0m \u001b[0mcurve_fit\u001b[0m\u001b[0;34m(\u001b[0m\u001b[0mbeamwidth_fun\u001b[0m\u001b[0;34m,\u001b[0m \u001b[0mZrange\u001b[0m\u001b[0;34m,\u001b[0m \u001b[0mpars\u001b[0m\u001b[0;34m[\u001b[0m\u001b[0;34m:\u001b[0m\u001b[0;34m,\u001b[0m\u001b[0;36m1\u001b[0m\u001b[0;34m]\u001b[0m\u001b[0;34m,\u001b[0m\u001b[0mp0\u001b[0m\u001b[0;34m=\u001b[0m\u001b[0;34m[\u001b[0m\u001b[0;36m50\u001b[0m\u001b[0;34m,\u001b[0m\u001b[0;36m5\u001b[0m\u001b[0;34m]\u001b[0m\u001b[0;34m)\u001b[0m\u001b[0;34m[\u001b[0m\u001b[0;36m0\u001b[0m\u001b[0;34m]\u001b[0m\u001b[0;34m\u001b[0m\u001b[0;34m\u001b[0m\u001b[0m\n\u001b[0m",
      "\u001b[0;32m~/.local/lib/python3.6/site-packages/scipy/optimize/minpack.py\u001b[0m in \u001b[0;36mcurve_fit\u001b[0;34m(f, xdata, ydata, p0, sigma, absolute_sigma, check_finite, bounds, method, jac, **kwargs)\u001b[0m\n\u001b[1;32m    782\u001b[0m         \u001b[0;31m# Remove full_output from kwargs, otherwise we're passing it in twice.\u001b[0m\u001b[0;34m\u001b[0m\u001b[0;34m\u001b[0m\u001b[0;34m\u001b[0m\u001b[0m\n\u001b[1;32m    783\u001b[0m         \u001b[0mreturn_full\u001b[0m \u001b[0;34m=\u001b[0m \u001b[0mkwargs\u001b[0m\u001b[0;34m.\u001b[0m\u001b[0mpop\u001b[0m\u001b[0;34m(\u001b[0m\u001b[0;34m'full_output'\u001b[0m\u001b[0;34m,\u001b[0m \u001b[0;32mFalse\u001b[0m\u001b[0;34m)\u001b[0m\u001b[0;34m\u001b[0m\u001b[0;34m\u001b[0m\u001b[0m\n\u001b[0;32m--> 784\u001b[0;31m         \u001b[0mres\u001b[0m \u001b[0;34m=\u001b[0m \u001b[0mleastsq\u001b[0m\u001b[0;34m(\u001b[0m\u001b[0mfunc\u001b[0m\u001b[0;34m,\u001b[0m \u001b[0mp0\u001b[0m\u001b[0;34m,\u001b[0m \u001b[0mDfun\u001b[0m\u001b[0;34m=\u001b[0m\u001b[0mjac\u001b[0m\u001b[0;34m,\u001b[0m \u001b[0mfull_output\u001b[0m\u001b[0;34m=\u001b[0m\u001b[0;36m1\u001b[0m\u001b[0;34m,\u001b[0m \u001b[0;34m**\u001b[0m\u001b[0mkwargs\u001b[0m\u001b[0;34m)\u001b[0m\u001b[0;34m\u001b[0m\u001b[0;34m\u001b[0m\u001b[0m\n\u001b[0m\u001b[1;32m    785\u001b[0m         \u001b[0mpopt\u001b[0m\u001b[0;34m,\u001b[0m \u001b[0mpcov\u001b[0m\u001b[0;34m,\u001b[0m \u001b[0minfodict\u001b[0m\u001b[0;34m,\u001b[0m \u001b[0merrmsg\u001b[0m\u001b[0;34m,\u001b[0m \u001b[0mier\u001b[0m \u001b[0;34m=\u001b[0m \u001b[0mres\u001b[0m\u001b[0;34m\u001b[0m\u001b[0;34m\u001b[0m\u001b[0m\n\u001b[1;32m    786\u001b[0m         \u001b[0mysize\u001b[0m \u001b[0;34m=\u001b[0m \u001b[0mlen\u001b[0m\u001b[0;34m(\u001b[0m\u001b[0minfodict\u001b[0m\u001b[0;34m[\u001b[0m\u001b[0;34m'fvec'\u001b[0m\u001b[0;34m]\u001b[0m\u001b[0;34m)\u001b[0m\u001b[0;34m\u001b[0m\u001b[0;34m\u001b[0m\u001b[0m\n",
      "\u001b[0;32m~/.local/lib/python3.6/site-packages/scipy/optimize/minpack.py\u001b[0m in \u001b[0;36mleastsq\u001b[0;34m(func, x0, args, Dfun, full_output, col_deriv, ftol, xtol, gtol, maxfev, epsfcn, factor, diag)\u001b[0m\n\u001b[1;32m    408\u001b[0m     \u001b[0;32mif\u001b[0m \u001b[0;32mnot\u001b[0m \u001b[0misinstance\u001b[0m\u001b[0;34m(\u001b[0m\u001b[0margs\u001b[0m\u001b[0;34m,\u001b[0m \u001b[0mtuple\u001b[0m\u001b[0;34m)\u001b[0m\u001b[0;34m:\u001b[0m\u001b[0;34m\u001b[0m\u001b[0;34m\u001b[0m\u001b[0m\n\u001b[1;32m    409\u001b[0m         \u001b[0margs\u001b[0m \u001b[0;34m=\u001b[0m \u001b[0;34m(\u001b[0m\u001b[0margs\u001b[0m\u001b[0;34m,\u001b[0m\u001b[0;34m)\u001b[0m\u001b[0;34m\u001b[0m\u001b[0;34m\u001b[0m\u001b[0m\n\u001b[0;32m--> 410\u001b[0;31m     \u001b[0mshape\u001b[0m\u001b[0;34m,\u001b[0m \u001b[0mdtype\u001b[0m \u001b[0;34m=\u001b[0m \u001b[0m_check_func\u001b[0m\u001b[0;34m(\u001b[0m\u001b[0;34m'leastsq'\u001b[0m\u001b[0;34m,\u001b[0m \u001b[0;34m'func'\u001b[0m\u001b[0;34m,\u001b[0m \u001b[0mfunc\u001b[0m\u001b[0;34m,\u001b[0m \u001b[0mx0\u001b[0m\u001b[0;34m,\u001b[0m \u001b[0margs\u001b[0m\u001b[0;34m,\u001b[0m \u001b[0mn\u001b[0m\u001b[0;34m)\u001b[0m\u001b[0;34m\u001b[0m\u001b[0;34m\u001b[0m\u001b[0m\n\u001b[0m\u001b[1;32m    411\u001b[0m     \u001b[0mm\u001b[0m \u001b[0;34m=\u001b[0m \u001b[0mshape\u001b[0m\u001b[0;34m[\u001b[0m\u001b[0;36m0\u001b[0m\u001b[0;34m]\u001b[0m\u001b[0;34m\u001b[0m\u001b[0;34m\u001b[0m\u001b[0m\n\u001b[1;32m    412\u001b[0m \u001b[0;34m\u001b[0m\u001b[0m\n",
      "\u001b[0;32m~/.local/lib/python3.6/site-packages/scipy/optimize/minpack.py\u001b[0m in \u001b[0;36m_check_func\u001b[0;34m(checker, argname, thefunc, x0, args, numinputs, output_shape)\u001b[0m\n\u001b[1;32m     22\u001b[0m def _check_func(checker, argname, thefunc, x0, args, numinputs,\n\u001b[1;32m     23\u001b[0m                 output_shape=None):\n\u001b[0;32m---> 24\u001b[0;31m     \u001b[0mres\u001b[0m \u001b[0;34m=\u001b[0m \u001b[0matleast_1d\u001b[0m\u001b[0;34m(\u001b[0m\u001b[0mthefunc\u001b[0m\u001b[0;34m(\u001b[0m\u001b[0;34m*\u001b[0m\u001b[0;34m(\u001b[0m\u001b[0;34m(\u001b[0m\u001b[0mx0\u001b[0m\u001b[0;34m[\u001b[0m\u001b[0;34m:\u001b[0m\u001b[0mnuminputs\u001b[0m\u001b[0;34m]\u001b[0m\u001b[0;34m,\u001b[0m\u001b[0;34m)\u001b[0m \u001b[0;34m+\u001b[0m \u001b[0margs\u001b[0m\u001b[0;34m)\u001b[0m\u001b[0;34m)\u001b[0m\u001b[0;34m)\u001b[0m\u001b[0;34m\u001b[0m\u001b[0;34m\u001b[0m\u001b[0m\n\u001b[0m\u001b[1;32m     25\u001b[0m     \u001b[0;32mif\u001b[0m \u001b[0;34m(\u001b[0m\u001b[0moutput_shape\u001b[0m \u001b[0;32mis\u001b[0m \u001b[0;32mnot\u001b[0m \u001b[0;32mNone\u001b[0m\u001b[0;34m)\u001b[0m \u001b[0;32mand\u001b[0m \u001b[0;34m(\u001b[0m\u001b[0mshape\u001b[0m\u001b[0;34m(\u001b[0m\u001b[0mres\u001b[0m\u001b[0;34m)\u001b[0m \u001b[0;34m!=\u001b[0m \u001b[0moutput_shape\u001b[0m\u001b[0;34m)\u001b[0m\u001b[0;34m:\u001b[0m\u001b[0;34m\u001b[0m\u001b[0;34m\u001b[0m\u001b[0m\n\u001b[1;32m     26\u001b[0m         \u001b[0;32mif\u001b[0m \u001b[0;34m(\u001b[0m\u001b[0moutput_shape\u001b[0m\u001b[0;34m[\u001b[0m\u001b[0;36m0\u001b[0m\u001b[0;34m]\u001b[0m \u001b[0;34m!=\u001b[0m \u001b[0;36m1\u001b[0m\u001b[0;34m)\u001b[0m\u001b[0;34m:\u001b[0m\u001b[0;34m\u001b[0m\u001b[0;34m\u001b[0m\u001b[0m\n",
      "\u001b[0;32m~/.local/lib/python3.6/site-packages/scipy/optimize/minpack.py\u001b[0m in \u001b[0;36mfunc_wrapped\u001b[0;34m(params)\u001b[0m\n\u001b[1;32m    482\u001b[0m     \u001b[0;32mif\u001b[0m \u001b[0mtransform\u001b[0m \u001b[0;32mis\u001b[0m \u001b[0;32mNone\u001b[0m\u001b[0;34m:\u001b[0m\u001b[0;34m\u001b[0m\u001b[0;34m\u001b[0m\u001b[0m\n\u001b[1;32m    483\u001b[0m         \u001b[0;32mdef\u001b[0m \u001b[0mfunc_wrapped\u001b[0m\u001b[0;34m(\u001b[0m\u001b[0mparams\u001b[0m\u001b[0;34m)\u001b[0m\u001b[0;34m:\u001b[0m\u001b[0;34m\u001b[0m\u001b[0;34m\u001b[0m\u001b[0m\n\u001b[0;32m--> 484\u001b[0;31m             \u001b[0;32mreturn\u001b[0m \u001b[0mfunc\u001b[0m\u001b[0;34m(\u001b[0m\u001b[0mxdata\u001b[0m\u001b[0;34m,\u001b[0m \u001b[0;34m*\u001b[0m\u001b[0mparams\u001b[0m\u001b[0;34m)\u001b[0m \u001b[0;34m-\u001b[0m \u001b[0mydata\u001b[0m\u001b[0;34m\u001b[0m\u001b[0;34m\u001b[0m\u001b[0m\n\u001b[0m\u001b[1;32m    485\u001b[0m     \u001b[0;32melif\u001b[0m \u001b[0mtransform\u001b[0m\u001b[0;34m.\u001b[0m\u001b[0mndim\u001b[0m \u001b[0;34m==\u001b[0m \u001b[0;36m1\u001b[0m\u001b[0;34m:\u001b[0m\u001b[0;34m\u001b[0m\u001b[0;34m\u001b[0m\u001b[0m\n\u001b[1;32m    486\u001b[0m         \u001b[0;32mdef\u001b[0m \u001b[0mfunc_wrapped\u001b[0m\u001b[0;34m(\u001b[0m\u001b[0mparams\u001b[0m\u001b[0;34m)\u001b[0m\u001b[0;34m:\u001b[0m\u001b[0;34m\u001b[0m\u001b[0;34m\u001b[0m\u001b[0m\n",
      "\u001b[0;31mValueError\u001b[0m: operands could not be broadcast together with shapes (91,) (100,) "
     ]
    }
   ],
   "source": [
    "pfitX1 = fit_waist(parX1)\n",
    "pfitX2 = fit_waist(parX2)\n",
    "print(pfitX2)\n",
    "print(np.min(parX2[:,1])*2)"
   ]
  },
  {
   "cell_type": "code",
   "execution_count": null,
   "metadata": {
    "scrolled": false
   },
   "outputs": [],
   "source": [
    "#draw single dataset\n",
    "_, ax = plt.subplots(2,2,figsize=(8,6))\n",
    "\n",
    "ax[0,0].scatter(ZrangeX,parX1[:,1]*2)\n",
    "#ax[0,0].plot(Zrange,beamwidth_fun(Zrange,*pfitX1),'r--')\n",
    "ax[0,0].set(title='X-profile - quad_sum', ylabel='$w_{0}$ [$\\mu$m]')\n",
    "ax[0,1].scatter(ZrangeX,parX2[:,1]*2)\n",
    "#ax[0,1].plot(Zrange,beamwidth_fun(Zrange,*pfitX2),'r--')\n",
    "ax[0,1].set(title='X-profile - spin_data')\n",
    "\n",
    "ax[1,0].scatter(ZrangeX,parX1[:,0])\n",
    "ax[1,0].set(xlabel='Z [$\\mu$m]', ylabel='$center$ [$\\mu$m]')\n",
    "ax[1,1].scatter(ZrangeX,parX2[:,0])\n",
    "ax[1,1].set(xlabel='Z [$\\mu$m]')\n",
    "ofname = folder + Fname + \"_Plot.png\" \n",
    "\n",
    "plt.savefig(ofname,dpi=300)"
   ]
  },
  {
   "cell_type": "code",
   "execution_count": 31,
   "metadata": {},
   "outputs": [
    {
     "data": {
      "text/plain": [
       "3.1322796226480705"
      ]
     },
     "execution_count": 31,
     "metadata": {},
     "output_type": "execute_result"
    }
   ],
   "source": [
    "parX2[90,0]-parX2[0,0]"
   ]
  },
  {
   "cell_type": "code",
   "execution_count": 32,
   "metadata": {},
   "outputs": [
    {
     "data": {
      "text/plain": [
       "328.0802731039483"
      ]
     },
     "execution_count": 32,
     "metadata": {},
     "output_type": "execute_result"
    }
   ],
   "source": [
    "np.average(parX2[:,0])"
   ]
  },
  {
   "cell_type": "code",
   "execution_count": 111,
   "metadata": {},
   "outputs": [],
   "source": [
    "## plot y direction"
   ]
  },
  {
   "cell_type": "code",
   "execution_count": 19,
   "metadata": {},
   "outputs": [
    {
     "name": "stderr",
     "output_type": "stream",
     "text": [
      "100%|██████████| 91/91 [00:05<00:00, 17.58it/s]"
     ]
    },
    {
     "name": "stdout",
     "output_type": "stream",
     "text": [
      "91  files in folder\n",
      "91  files loaded\n"
     ]
    },
    {
     "name": "stderr",
     "output_type": "stream",
     "text": [
      "\n"
     ]
    }
   ],
   "source": [
    "Fname=\"BeamProfileY3\"\n",
    "files = load_dir(folder, file_prefix = Fname, max_file=500)"
   ]
  },
  {
   "cell_type": "code",
   "execution_count": 20,
   "metadata": {},
   "outputs": [
    {
     "name": "stdout",
     "output_type": "stream",
     "text": [
      "0\n",
      "10\n",
      "20\n",
      "30\n",
      "40\n",
      "50\n",
      "60\n",
      "70\n",
      "80\n",
      "90\n"
     ]
    }
   ],
   "source": [
    "parY1 = []\n",
    "parY2 = []\n",
    "spin=np.zeros(5000)\n",
    "j=0\n",
    "for ff in files:\n",
    "    pos_y = ff.cant_pos[1]\n",
    "    quad_sum = ff.quad_sum\n",
    "    spintemp = ff.spin_data\n",
    "    for i in range(0,5000):\n",
    "        spin[i]=np.average(spintemp[10*i:10*i+9])\n",
    "    parY1.append(get_waist(pos_y, quad_sum))\n",
    "    parY2.append(get_waist(pos_y, spin, flip=True))\n",
    "    \n",
    "    if (j%10)==0:\n",
    "        ofname = folder+\"/\" + Fname + \"_Output_%d.txt\" % j\n",
    "\n",
    "        f1 = open(ofname,\"a\")\n",
    "        for i in range(0,5000):\n",
    "            f1.write('%f %e %e\\n' % (pos_y[i], quad_sum[i], spin[i]))\n",
    "        f1.close()\n",
    "        print(j)\n",
    "    j=j+1\n",
    "    \n",
    "parY1 = np.array(parY1)\n",
    "parY2 = np.array(parY2)\n",
    "ZrangeY = np.array([np.mean(ff.cant_pos[2])*10 for ff in files])"
   ]
  },
  {
   "cell_type": "code",
   "execution_count": 21,
   "metadata": {},
   "outputs": [],
   "source": [
    "def beamwidth_fun(t,z,w):\n",
    "    return w*np.sqrt(1+((t-z)/np.pi/w/w*1.064)**2)\n",
    "\n",
    "Zrange = np.linspace(5,95,91)\n",
    "\n",
    "def fit_waist(pars):\n",
    "    return curve_fit(beamwidth_fun, Zrange, pars[:,1],p0=[50,5])[0]"
   ]
  },
  {
   "cell_type": "code",
   "execution_count": 22,
   "metadata": {},
   "outputs": [
    {
     "name": "stdout",
     "output_type": "stream",
     "text": [
      "[49.66486265  3.02846659]\n",
      "3.8970029084261184\n"
     ]
    }
   ],
   "source": [
    "pfitY1 = fit_waist(parY1)\n",
    "pfitY2 = fit_waist(parY2)\n",
    "print(pfitY2)\n",
    "print(np.min(parY2[:,1])*2)"
   ]
  },
  {
   "cell_type": "code",
   "execution_count": 23,
   "metadata": {},
   "outputs": [
    {
     "data": {
      "image/png": "[encoded data removed]",
      "text/plain": [
       "<Figure size 576x432 with 4 Axes>"
      ]
     },
     "metadata": {
      "needs_background": "light"
     },
     "output_type": "display_data"
    }
   ],
   "source": [
    "#draw single dataset\n",
    "_, ax = plt.subplots(2,2,figsize=(8,6))\n",
    "\n",
    "ax[0,0].scatter(ZrangeY,parY1[:,1]*2)\n",
    "#ax[0,0].plot(Zrange,beamwidth_fun(Zrange,*pfitX1),'r--')\n",
    "ax[0,0].set(title='Y-profile - quad_sum', ylabel='$w_{0}$ [$\\mu$m]')\n",
    "ax[0,1].scatter(ZrangeY,parY2[:,1]*2)\n",
    "#ax[0,1].plot(Zrange,beamwidth_fun(Zrange,*pfitX2),'r--')\n",
    "ax[0,1].set(title='Y-profile - spin_data')\n",
    "\n",
    "ax[1,0].scatter(ZrangeY,parY1[:,0])\n",
    "ax[1,0].set(xlabel='Z [$\\mu$m]', ylabel='$center$ [$\\mu$m]')\n",
    "ax[1,1].scatter(ZrangeY,parY2[:,0])\n",
    "ax[1,1].set(xlabel='Z [$\\mu$m]')\n",
    "ofname = folder + Fname + \"_Plot.png\" \n",
    "plt.savefig(ofname,dpi=300)"
   ]
  },
  {
   "cell_type": "code",
   "execution_count": 24,
   "metadata": {},
   "outputs": [
    {
     "data": {
      "text/plain": [
       "-1.4028983047234647"
      ]
     },
     "execution_count": 24,
     "metadata": {},
     "output_type": "execute_result"
    }
   ],
   "source": [
    "parY2[90,0]-parY2[0,0]"
   ]
  },
  {
   "cell_type": "code",
   "execution_count": 18,
   "metadata": {},
   "outputs": [
    {
     "data": {
      "image/png": "[encoded data removed]",
      "text/plain": [
       "<Figure size 432x288 with 1 Axes>"
      ]
     },
     "metadata": {
      "needs_background": "light"
     },
     "output_type": "display_data"
    }
   ],
   "source": [
    "# plot the in-phase response\n",
    "plt.plot(pos_x,linestyle=\"\",marker=\"o\")\n",
    "#plt.ylim(-10,1)\n",
    "#plt.xlim(180,270)\n",
    "plt.grid(True)\n",
    "plt.show()"
   ]
  },
  {
   "cell_type": "code",
   "execution_count": null,
   "metadata": {},
   "outputs": [],
   "source": []
  }
 ],
 "metadata": {
  "kernelspec": {
   "display_name": "Python 3",
   "language": "python",
   "name": "python3"
  },
  "language_info": {
   "codemirror_mode": {
    "name": "ipython",
    "version": 3
   },
   "file_extension": ".py",
   "mimetype": "text/x-python",
   "name": "python",
   "nbconvert_exporter": "python",
   "pygments_lexer": "ipython3",
   "version": "3.6.9"
  },
  "widgets": {
   "application/vnd.jupyter.widget-state+json": {
    "state": {},
    "version_major": 2,
    "version_minor": 0
   }
  }
 },
 "nbformat": 4,
 "nbformat_minor": 4
}
