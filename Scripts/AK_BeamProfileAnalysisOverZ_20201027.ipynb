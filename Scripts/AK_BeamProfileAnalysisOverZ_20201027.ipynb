{
 "cells": [
  {
   "cell_type": "code",
   "execution_count": 1,
   "metadata": {},
   "outputs": [],
   "source": [
    "##This code is for 1 Hz n s files. For 1 Hz 1s files, use 20200818 code, where fitting works"
   ]
  },
  {
   "cell_type": "code",
   "execution_count": 2,
   "metadata": {},
   "outputs": [],
   "source": [
    "# import stuff\n",
    "import numpy as np\n",
    "import matplotlib.pyplot as plt\n",
    "import matplotlib\n",
    "import scipy\n",
    "from scipy import signal\n",
    "import h5py, time\n",
    "from iminuit import Minuit, describe\n",
    "from pprint import pprint # we use this to pretty print some stuff later\n",
    "\n",
    "import sys\n",
    "sys.path.append('/home/analysis_user/New_trap_code/Tools/')\n",
    "import BeadDataFile\n",
    "from discharge_tools import load_dir"
   ]
  },
  {
   "cell_type": "code",
   "execution_count": 3,
   "metadata": {},
   "outputs": [],
   "source": [
    "# calibration of the voltage - position conversion\n",
    "def voltage_to_position(voltage,slope=0.019834000085488412,offset=-0.0015000315197539749,redo=False):\n",
    "    if(redo==True):\n",
    "        pos_list=np.asarray([-0.007,4.968,9.91])\n",
    "        y_err=np.asarray([0.01,0.01,0.01])\n",
    "        val = np.asarray([0,250,500])\n",
    "        data_x=val\n",
    "        data_y=pos_list\n",
    "        data_y_error=y_err\n",
    "        m2=Minuit(chisquare_linear, \n",
    "             a = 100,\n",
    "             b=0,\n",
    "             errordef = 1,\n",
    "             print_level=1)\n",
    "        m2.migrad()\n",
    "        print(m2.values[\"a\"],m2.values[\"b\"])\n",
    "        plt.plot(val,pos_list,marker=\"*\")\n",
    "        plt.plot(val,m2.values[\"a\"]*val+m2.values[\"b\"])\n",
    "        slope = m2.values[\"a\"]\n",
    "        offset = m2.values[\"b\"]\n",
    "    position=(voltage-offset)/slope\n",
    "    return position"
   ]
  },
  {
   "cell_type": "code",
   "execution_count": 4,
   "metadata": {},
   "outputs": [],
   "source": [
    "from scipy.optimize import curve_fit\n",
    "from scipy.stats import norm"
   ]
  },
  {
   "cell_type": "code",
   "execution_count": 5,
   "metadata": {},
   "outputs": [],
   "source": [
    "# load the data\n",
    "Year = \"2020\"\n",
    "Month = \"12\"\n",
    "Day = \"15\"\n",
    "BeadNumber = 1\n",
    "#RunNumber = 144\n",
    "#folder =  r\"/home/data_transfer/data_from_windows/\" + Year + Month + Day + \"/Bead\"+str(BeadNumber)+\"/Shaking/\"\n",
    "#folder =  r\"/home/data_transfer/data_from_windows/\" + Year + Month + Day + \"/Bead\"+str(BeadNumber)+\"/BeamProfile/\"\n",
    "folder =  r\"/home/data_transfer/data_from_windows/\" + Year + Month + Day + \"/BeamProfile/\"\n",
    "#folder =  r\"/data/new_trap/\" + Year + Month + Day + \"/Bead1/Shaking/BeamProfile/\"\n",
    "#folder=r\"/data/new_trap/20201210/\""
   ]
  },
  {
   "cell_type": "code",
   "execution_count": 168,
   "metadata": {},
   "outputs": [
    {
     "name": "stderr",
     "output_type": "stream",
     "text": [
      "100%|██████████| 91/91 [00:06<00:00, 14.09it/s]"
     ]
    },
    {
     "name": "stdout",
     "output_type": "stream",
     "text": [
      "91  files in folder\n",
      "91  files loaded\n"
     ]
    },
    {
     "name": "stderr",
     "output_type": "stream",
     "text": [
      "\n"
     ]
    }
   ],
   "source": [
    "Fname=\"BeamProfileX20\"\n",
    "files = load_dir(folder, file_prefix = Fname, max_file=500)"
   ]
  },
  {
   "cell_type": "code",
   "execution_count": 169,
   "metadata": {},
   "outputs": [],
   "source": [
    "def get_waist(pos,pd, flip=False):\n",
    "\n",
    "    pos1 = voltage_to_position(pos)\n",
    "    if (flip):\n",
    "        pos1 *= -1\n",
    "    data1 = np.array(pd)-np.min(pd)\n",
    "    data1 = data1/np.max(data1)    \n",
    "    #noraml CDF fit\n",
    "    temp_params = curve_fit(norm.cdf, pos1, data1, p0=[pos1[2500],5])[0]\n",
    "    \n",
    "    if (flip):\n",
    "        temp_params[0] *= -1\n",
    "    return temp_params"
   ]
  },
  {
   "cell_type": "code",
   "execution_count": null,
   "metadata": {},
   "outputs": [],
   "source": []
  },
  {
   "cell_type": "code",
   "execution_count": 170,
   "metadata": {},
   "outputs": [
    {
     "name": "stdout",
     "output_type": "stream",
     "text": [
      "0\n",
      "10\n",
      "20\n",
      "30\n",
      "40\n",
      "50\n",
      "60\n",
      "70\n",
      "80\n",
      "90\n"
     ]
    }
   ],
   "source": [
    "#10 data points\n",
    "parX1 = []\n",
    "parX2 = []\n",
    "spin=np.zeros(5000)\n",
    "j=0\n",
    "for ff in files:\n",
    "    pos_x = ff.cant_pos[0]\n",
    "    quad_sum = ff.quad_sum\n",
    "    spintemp = ff.spin_data[0]\n",
    "    for i in range(0,5000):\n",
    "        spin[i]=np.average(spintemp[10*i:10*i+9])\n",
    "    parX1.append(get_waist(pos_x, quad_sum, flip=True))\n",
    "    parX2.append(get_waist(pos_x, spin))\n",
    "    \n",
    "    if (j%10)==0:\n",
    "        ofname = folder+\"/\" + Fname + \"_Output_%d.txt\" % j\n",
    "\n",
    "        f1 = open(ofname,\"a\")\n",
    "        for i in range(0,5000):\n",
    "            f1.write('%f %e %e\\n' % (pos_x[i], quad_sum[i], spin[i]))\n",
    "        f1.close()\n",
    "        print(j)\n",
    "    j=j+1\n",
    "    \n",
    "    \n",
    "parX1 = np.array(parX1)\n",
    "parX2 = np.array(parX2)\n",
    "ZrangeX = np.array([np.mean(ff.cant_pos[2])*10 for ff in files])"
   ]
  },
  {
   "cell_type": "code",
   "execution_count": 171,
   "metadata": {},
   "outputs": [],
   "source": [
    "#100 data points\n",
    "parX1 = []\n",
    "parX2 = []\n",
    "spin=np.zeros(5000)\n",
    "j=0\n",
    "for ff in files:\n",
    "    pos_x = ff.cant_pos[0]\n",
    "    quad_sum = ff.quad_sum\n",
    "    spintemp = ff.spin_data[0]\n",
    "    for i in range(0,5000):\n",
    "        spin[i]=np.average(spintemp[10*i:10*i+9])\n",
    "#    parX1.append(get_waist(pos_x, quad_sum, flip=True))\n",
    "#    parX2.append(get_waist(pos_x, spin))\n",
    "    \n",
    "#    if (j%10)==0:\n",
    "    ofname = folder+\"/\" + Fname + \"_Output100_%d.txt\" % j\n",
    "\n",
    "    f1 = open(ofname,\"a\")\n",
    "    for i in range(0,5000):\n",
    "        f1.write('%f %e %e\\n' % (pos_x[i], quad_sum[i], spin[i]))\n",
    "    f1.close()\n",
    "#    print(j)\n",
    "    j=j+1\n",
    "    \n",
    "    \n",
    "parX1 = np.array(parX1)\n",
    "parX2 = np.array(parX2)\n",
    "ZrangeX = np.array([np.mean(ff.cant_pos[2])*10 for ff in files])"
   ]
  },
  {
   "cell_type": "code",
   "execution_count": 172,
   "metadata": {},
   "outputs": [
    {
     "name": "stdout",
     "output_type": "stream",
     "text": [
      "0\n",
      "10\n",
      "20\n",
      "30\n",
      "40\n",
      "50\n",
      "60\n",
      "70\n",
      "80\n",
      "90\n"
     ]
    }
   ],
   "source": [
    "#100 data points, 10 Hz data\n",
    "parX1 = []\n",
    "parX2 = []\n",
    "spin=np.zeros(5000)\n",
    "j=0\n",
    "for ff in files:\n",
    "    pos_x = ff.cant_pos[0]\n",
    "    quad_sum = ff.quad_sum\n",
    "    spintemp = ff.spin_data[0]\n",
    "    for i in range(0,5000):\n",
    "        spin[i]=np.average(spintemp[10*i:10*i+9])\n",
    "    parX1.append(get_waist(pos_x, quad_sum, flip=True))\n",
    "    parX2.append(get_waist(pos_x, spin))\n",
    "    \n",
    "    if (j%10)==0:\n",
    "        ofname = folder+\"/\" + Fname + \"_Output100_%d.txt\" % j\n",
    "        print(j)\n",
    "\n",
    "    f1 = open(ofname,\"a\")\n",
    "    for i in range(0,5000):\n",
    "        f1.write('%f %e %e\\n' % (pos_x[i], quad_sum[i], spin[i]))\n",
    "    f1.close()\n",
    "#    print(j)\n",
    "    j=j+1\n",
    "    \n",
    "    \n",
    "parX1 = np.array(parX1)\n",
    "parX2 = np.array(parX2)\n",
    "ZrangeX = np.array([np.mean(ff.cant_pos[2])*10 for ff in files])"
   ]
  },
  {
   "cell_type": "code",
   "execution_count": 173,
   "metadata": {},
   "outputs": [],
   "source": [
    "def beamwidth_fun(t,z,w):\n",
    "    return w*np.sqrt(1+((t-z)/np.pi/w/w*1.064)**2)\n",
    "\n",
    "Zrange = np.linspace(5,95,91)\n",
    "\n",
    "def fit_waist(pars):\n",
    "    return curve_fit(beamwidth_fun, Zrange, pars[:,1],p0=[50,5])[0]"
   ]
  },
  {
   "cell_type": "code",
   "execution_count": 174,
   "metadata": {
    "scrolled": false
   },
   "outputs": [
    {
     "data": {
      "image/png": "[encoded data removed]",
      "text/plain": [
       "<Figure size 576x432 with 4 Axes>"
      ]
     },
     "metadata": {
      "needs_background": "light"
     },
     "output_type": "display_data"
    }
   ],
   "source": [
    "#draw single dataset\n",
    "_, ax = plt.subplots(2,2,figsize=(8,6))\n",
    "\n",
    "ax[0,0].scatter(ZrangeX,parX1[:,1]*2)\n",
    "#ax[0,0].plot(Zrange,beamwidth_fun(Zrange,*pfitX1),'r--')\n",
    "ax[0,0].set(title='X-profile - quad_sum', ylabel='$w_{0}$ [$\\mu$m]')\n",
    "ax[0,1].scatter(ZrangeX,parX2[:,1]*2)\n",
    "#ax[0,1].plot(Zrange,beamwidth_fun(Zrange,*pfitX2),'r--')\n",
    "ax[0,1].set(title='X-profile - spin_data')\n",
    "\n",
    "ax[1,0].scatter(ZrangeX,parX1[:,0])\n",
    "ax[1,0].set(xlabel='Z [$\\mu$m]', ylabel='$center$ [$\\mu$m]')\n",
    "ax[1,1].scatter(ZrangeX,parX2[:,0])\n",
    "ax[1,1].set(xlabel='Z [$\\mu$m]')\n",
    "ofname = folder + Fname + \"_Plot.png\" \n",
    "\n",
    "plt.savefig(ofname,dpi=300)"
   ]
  },
  {
   "cell_type": "code",
   "execution_count": 175,
   "metadata": {},
   "outputs": [
    {
     "name": "stdout",
     "output_type": "stream",
     "text": [
      "3.1816841311999253\n",
      "0 3.4884965098553518\n",
      "1 3.440803436233192\n",
      "2 3.399985929757816\n",
      "3 3.3664870918122936\n",
      "4 3.3391585291825594\n",
      "5 3.3157065443647706\n",
      "6 3.3115034284295346\n",
      "7 3.2725386754516337\n",
      "8 3.2596703479173414\n",
      "9 3.241033318146038\n",
      "10 3.2224136703966817\n",
      "11 3.208679657417112\n",
      "12 3.190392536267055\n",
      "13 3.204350590801548\n",
      "14 3.201375310206029\n",
      "15 3.1816841311999253\n",
      "16 3.1928961522691126\n",
      "17 3.1892054599295476\n",
      "18 3.1977258403542903\n",
      "19 3.1965649540274086\n",
      "20 3.2388712050020665\n",
      "21 3.2330000106553403\n",
      "22 3.2253096200363975\n",
      "23 3.261128412672871\n",
      "24 3.2609186256536034\n",
      "25 3.295348230470008\n",
      "26 3.313874645574851\n",
      "27 3.3279846871801446\n",
      "28 3.3517834368394905\n",
      "29 3.388441266724519\n",
      "30 3.415800096367072\n",
      "31 3.4134902105741194\n",
      "32 3.456320809236463\n",
      "33 3.5030869230555792\n",
      "34 3.539459651961186\n",
      "35 3.5534986891444285\n",
      "36 3.616635607772504\n",
      "37 3.6474861271594543\n",
      "38 3.7045787662608975\n",
      "39 3.702956445222437\n",
      "40 3.7623370309263646\n",
      "41 3.800668822208714\n",
      "42 3.852560917761124\n",
      "43 3.907011697391892\n",
      "44 3.9624891124909203\n",
      "45 4.03158966029102\n",
      "46 4.107821161248513\n",
      "47 4.195544312720817\n",
      "48 4.277166805895122\n",
      "49 4.361588850893894\n",
      "50 4.463291476948476\n",
      "51 4.546363367241369\n",
      "52 4.643629707298258\n",
      "53 4.736016892538121\n",
      "54 4.8454299020616824\n",
      "55 4.946865581009209\n",
      "56 5.054373120579157\n",
      "57 5.156653887554842\n",
      "58 5.252049453461031\n",
      "59 5.350881180142329\n",
      "60 5.4675961248406715\n",
      "61 5.583419162169505\n",
      "62 5.716697593942794\n",
      "63 5.806220792412044\n",
      "64 5.908310935783421\n",
      "65 6.030178888061153\n",
      "66 6.15905727720987\n",
      "67 6.265744532033152\n",
      "68 6.395584976654955\n",
      "69 6.525470560990729\n",
      "70 6.6449033465064655\n",
      "71 6.750129012333356\n",
      "72 6.889977558816672\n",
      "73 7.018613687005195\n",
      "74 7.159208108211125\n",
      "75 7.3305930321914685\n",
      "76 7.385893533683406\n",
      "77 7.531485629299942\n",
      "78 7.657376169977279\n",
      "79 7.815550370119044\n",
      "80 7.940195593083245\n",
      "81 8.078540724864995\n",
      "82 8.203621322846272\n",
      "83 8.342503495179251\n",
      "84 8.501021636102951\n",
      "85 8.626661802896686\n",
      "86 8.7813271165629\n",
      "87 8.915933267143323\n",
      "88 9.039249950616217\n",
      "89 9.174473720381073\n",
      "[397.30891882 397.3290643  397.36619464 397.38567241 397.41146314\n",
      " 397.43707678 397.45859591 397.48616535 397.51705982 397.54308795\n",
      " 397.57411585 397.60397175 397.63876299 397.6686896  397.68794589\n",
      " 397.73841077 397.7713839  397.80152723 397.82989918 397.87455404\n",
      " 397.89279143 397.93586756 397.98043952 398.01354796 398.05430808\n",
      " 398.0953759  398.128776   398.18080539 398.22543152 398.25693676\n",
      " 398.29920716 398.35906984 398.40216797 398.43356601 398.48391735\n",
      " 398.53667071 398.57615606 398.63626823 398.67960985 398.73976941\n",
      " 398.78677581 398.84040469 398.88961334 398.9347978  398.98887218\n",
      " 399.03414897 399.08355929 399.12092945 399.16058641 399.2075614\n",
      " 399.24492196 399.29376091 399.34198508 399.37361564 399.41490038\n",
      " 399.4665573  399.50753069 399.55155539 399.59004093 399.64364692\n",
      " 399.68385924 399.72134877 399.75480752 399.79982619 399.84730871\n",
      " 399.88818548 399.92282524 399.97094681 400.00910848 400.04842026\n",
      " 400.08812261 400.13165119 400.17566625 400.20837762 400.24708102\n",
      " 400.27707088 400.33166736 400.36723254 400.41052946 400.4366282\n",
      " 400.48795184 400.52523387 400.56616663 400.59472884 400.63974691\n",
      " 400.67250118 400.71927619 400.75265384 400.79220416 400.83177435\n",
      " 400.85413505]\n"
     ]
    }
   ],
   "source": [
    "print(np.min(parX2[:,1])*2)\n",
    "for i in range (0,90):\n",
    "    print(i,parX2[i,1]*2)\n",
    "print(ave(parX2[:,0])"
   ]
  },
  {
   "cell_type": "code",
   "execution_count": 31,
   "metadata": {},
   "outputs": [
    {
     "data": {
      "text/plain": [
       "3.1322796226480705"
      ]
     },
     "execution_count": 31,
     "metadata": {},
     "output_type": "execute_result"
    }
   ],
   "source": [
    "parX2[90,0]-parX2[0,0]"
   ]
  },
  {
   "cell_type": "code",
   "execution_count": 32,
   "metadata": {},
   "outputs": [
    {
     "data": {
      "text/plain": [
       "328.0802731039483"
      ]
     },
     "execution_count": 32,
     "metadata": {},
     "output_type": "execute_result"
    }
   ],
   "source": [
    "np.average(parX2[:,0])"
   ]
  },
  {
   "cell_type": "code",
   "execution_count": 111,
   "metadata": {},
   "outputs": [],
   "source": [
    "## plot y direction"
   ]
  },
  {
   "cell_type": "code",
   "execution_count": 176,
   "metadata": {},
   "outputs": [
    {
     "name": "stderr",
     "output_type": "stream",
     "text": [
      "100%|██████████| 91/91 [00:04<00:00, 18.67it/s]"
     ]
    },
    {
     "name": "stdout",
     "output_type": "stream",
     "text": [
      "91  files in folder\n",
      "91  files loaded\n"
     ]
    },
    {
     "name": "stderr",
     "output_type": "stream",
     "text": [
      "\n"
     ]
    }
   ],
   "source": [
    "Fname=\"BeamProfileY20_\"\n",
    "files = load_dir(folder, file_prefix = Fname, max_file=500)"
   ]
  },
  {
   "cell_type": "code",
   "execution_count": 177,
   "metadata": {},
   "outputs": [
    {
     "name": "stdout",
     "output_type": "stream",
     "text": [
      "0\n",
      "10\n",
      "20\n",
      "30\n",
      "40\n",
      "50\n",
      "60\n",
      "70\n",
      "80\n",
      "90\n"
     ]
    }
   ],
   "source": [
    "#10 data points\n",
    "parY1 = []\n",
    "parY2 = []\n",
    "spin=np.zeros(5000)\n",
    "j=0\n",
    "for ff in files:\n",
    "    pos_y = ff.cant_pos[1]\n",
    "    quad_sum = ff.quad_sum\n",
    "    spintemp = ff.spin_data[0]\n",
    "    for i in range(0,5000):\n",
    "        spin[i]=np.average(spintemp[10*i:10*i+9])\n",
    "    parY1.append(get_waist(pos_y, quad_sum))\n",
    "    parY2.append(get_waist(pos_y, spin, flip=True))\n",
    "    \n",
    "    if (j%10)==0:\n",
    "        ofname = folder+\"/\" + Fname + \"_Output_%d.txt\" % j\n",
    "\n",
    "        f1 = open(ofname,\"a\")\n",
    "        for i in range(0,5000):\n",
    "            f1.write('%f %e %e\\n' % (pos_y[i], quad_sum[i], spin[i]))\n",
    "        f1.close()\n",
    "        print(j)\n",
    "    j=j+1\n",
    "    \n",
    "parY1 = np.array(parY1)\n",
    "parY2 = np.array(parY2)\n",
    "ZrangeY = np.array([np.mean(ff.cant_pos[2])*10 for ff in files])"
   ]
  },
  {
   "cell_type": "code",
   "execution_count": 178,
   "metadata": {},
   "outputs": [
    {
     "name": "stdout",
     "output_type": "stream",
     "text": [
      "0\n",
      "1\n",
      "2\n",
      "3\n",
      "4\n",
      "5\n",
      "6\n",
      "7\n",
      "8\n",
      "9\n",
      "10\n",
      "11\n",
      "12\n",
      "13\n",
      "14\n",
      "15\n",
      "16\n",
      "17\n",
      "18\n",
      "19\n",
      "20\n",
      "21\n",
      "22\n",
      "23\n",
      "24\n",
      "25\n",
      "26\n",
      "27\n",
      "28\n",
      "29\n",
      "30\n",
      "31\n",
      "32\n",
      "33\n",
      "34\n",
      "35\n",
      "36\n",
      "37\n",
      "38\n",
      "39\n",
      "40\n",
      "41\n",
      "42\n",
      "43\n",
      "44\n",
      "45\n",
      "46\n",
      "47\n",
      "48\n",
      "49\n",
      "50\n",
      "51\n",
      "52\n",
      "53\n",
      "54\n",
      "55\n",
      "56\n",
      "57\n",
      "58\n",
      "59\n",
      "60\n",
      "61\n",
      "62\n",
      "63\n",
      "64\n",
      "65\n",
      "66\n",
      "67\n",
      "68\n",
      "69\n",
      "70\n",
      "71\n",
      "72\n",
      "73\n",
      "74\n",
      "75\n",
      "76\n",
      "77\n",
      "78\n",
      "79\n",
      "80\n",
      "81\n",
      "82\n",
      "83\n",
      "84\n",
      "85\n",
      "86\n",
      "87\n",
      "88\n",
      "89\n",
      "90\n"
     ]
    }
   ],
   "source": [
    "#100 data points\n",
    "parY1 = []\n",
    "parY2 = []\n",
    "spin=np.zeros(5000)\n",
    "j=0\n",
    "for ff in files:\n",
    "    pos_y = ff.cant_pos[1]\n",
    "    quad_sum = ff.quad_sum\n",
    "    spintemp = ff.spin_data[0]\n",
    "    for i in range(0,5000):\n",
    "        spin[i]=np.average(spintemp[10*i:10*i+9])\n",
    "#    parY1.append(get_waist(pos_y, quad_sum))\n",
    "#    parY2.append(get_waist(pos_y, spin, flip=True))\n",
    "    \n",
    "#    if (j%10)==0:\n",
    "    ofname = folder+\"/\" + Fname + \"_Output100_%d.txt\" % j\n",
    "\n",
    "    f1 = open(ofname,\"a\")\n",
    "    for i in range(0,5000):\n",
    "        f1.write('%f %e %e\\n' % (pos_y[i], quad_sum[i], spin[i]))\n",
    "    f1.close()\n",
    "    print(j)\n",
    "    j=j+1\n",
    "    \n",
    "parY1 = np.array(parY1)\n",
    "parY2 = np.array(parY2)\n",
    "ZrangeY = np.array([np.mean(ff.cant_pos[2])*10 for ff in files])"
   ]
  },
  {
   "cell_type": "code",
   "execution_count": 179,
   "metadata": {},
   "outputs": [
    {
     "name": "stdout",
     "output_type": "stream",
     "text": [
      "0\n",
      "1\n",
      "2\n",
      "3\n",
      "4\n",
      "5\n",
      "6\n",
      "7\n",
      "8\n",
      "9\n",
      "10\n",
      "11\n",
      "12\n",
      "13\n",
      "14\n",
      "15\n",
      "16\n",
      "17\n",
      "18\n",
      "19\n",
      "20\n",
      "21\n",
      "22\n",
      "23\n",
      "24\n",
      "25\n",
      "26\n",
      "27\n",
      "28\n",
      "29\n",
      "30\n",
      "31\n",
      "32\n",
      "33\n",
      "34\n",
      "35\n",
      "36\n",
      "37\n",
      "38\n",
      "39\n",
      "40\n",
      "41\n",
      "42\n",
      "43\n",
      "44\n",
      "45\n",
      "46\n",
      "47\n",
      "48\n",
      "49\n",
      "50\n",
      "51\n",
      "52\n",
      "53\n",
      "54\n",
      "55\n",
      "56\n",
      "57\n",
      "58\n",
      "59\n",
      "60\n",
      "61\n",
      "62\n",
      "63\n",
      "64\n",
      "65\n",
      "66\n",
      "67\n",
      "68\n",
      "69\n",
      "70\n",
      "71\n",
      "72\n",
      "73\n",
      "74\n",
      "75\n",
      "76\n",
      "77\n",
      "78\n",
      "79\n",
      "80\n",
      "81\n",
      "82\n",
      "83\n",
      "84\n",
      "85\n",
      "86\n",
      "87\n",
      "88\n",
      "89\n",
      "90\n"
     ]
    }
   ],
   "source": [
    "#100 data points, 10 Hz\n",
    "parY1 = []\n",
    "parY2 = []\n",
    "spin=np.zeros(5000)\n",
    "j=0\n",
    "for ff in files:\n",
    "    pos_y = ff.cant_pos[1]\n",
    "    quad_sum = ff.quad_sum\n",
    "    spintemp = ff.spin_data[0]\n",
    "    for i in range(0,5000):\n",
    "        spin[i]=np.average(spintemp[10*i:10*i+9])\n",
    "    parY1.append(get_waist(pos_y, quad_sum))\n",
    "    parY2.append(get_waist(pos_y, spin, flip=True))\n",
    "    \n",
    "#    if (j%10)==0:\n",
    "    ofname = folder+\"/\" + Fname + \"_Output100_%d.txt\" % j\n",
    "\n",
    "    f1 = open(ofname,\"a\")\n",
    "    for i in range(0,5000):\n",
    "        f1.write('%f %e %e\\n' % (pos_y[i], quad_sum[i], spin[i]))\n",
    "    f1.close()\n",
    "    print(j)\n",
    "    j=j+1\n",
    "    \n",
    "parY1 = np.array(parY1)\n",
    "parY2 = np.array(parY2)\n",
    "ZrangeY = np.array([np.mean(ff.cant_pos[2])*10 for ff in files])"
   ]
  },
  {
   "cell_type": "code",
   "execution_count": 180,
   "metadata": {},
   "outputs": [
    {
     "data": {
      "image/png": "[encoded data removed]",
      "text/plain": [
       "<Figure size 576x432 with 4 Axes>"
      ]
     },
     "metadata": {
      "needs_background": "light"
     },
     "output_type": "display_data"
    }
   ],
   "source": [
    "#draw single dataset\n",
    "_, ax = plt.subplots(2,2,figsize=(8,6))\n",
    "\n",
    "ax[0,0].scatter(ZrangeY,parY1[:,1]*2)\n",
    "#ax[0,0].plot(Zrange,beamwidth_fun(Zrange,*pfitX1),'r--')\n",
    "ax[0,0].set(title='Y-profile - quad_sum', ylabel='$w_{0}$ [$\\mu$m]')\n",
    "ax[0,1].scatter(ZrangeY,parY2[:,1]*2)\n",
    "#ax[0,1].plot(Zrange,beamwidth_fun(Zrange,*pfitX2),'r--')\n",
    "ax[0,1].set(title='Y-profile - spin_data')\n",
    "\n",
    "ax[1,0].scatter(ZrangeY,parY1[:,0])\n",
    "ax[1,0].set(xlabel='Z [$\\mu$m]', ylabel='$center$ [$\\mu$m]')\n",
    "ax[1,1].scatter(ZrangeY,parY2[:,0])\n",
    "ax[1,1].set(xlabel='Z [$\\mu$m]')\n",
    "ofname = folder + Fname + \"_Plot.png\" \n",
    "plt.savefig(ofname,dpi=300)"
   ]
  },
  {
   "cell_type": "code",
   "execution_count": 181,
   "metadata": {},
   "outputs": [
    {
     "name": "stdout",
     "output_type": "stream",
     "text": [
      "4.231246627390208\n",
      "[4.57833315 4.52392481 4.49185753 4.45725536 4.40987806 4.39464704\n",
      " 4.36963179 4.33679869 4.30523529 4.29154206 4.27691939 4.26408697\n",
      " 4.26931971 4.23350964 4.24624174 4.23124663 4.25281164 4.26161211\n",
      " 4.25798465 4.26670822 4.27629815 4.30534623 4.32328344 4.35397165\n",
      " 4.3912447  4.41203118 4.4391236  4.48567672 4.5203552  4.56570564\n",
      " 4.61271528 4.64990872 4.71041784 4.76820152 4.82101394 4.85935644\n",
      " 4.94329915 5.0037494  5.0790736  5.13277288 5.20986592 5.27228651\n",
      " 5.34467915 5.42622415 5.50447712 5.578953   5.6665026  5.71656861\n",
      " 5.7921111  5.92661275 5.99597697 6.07672032 6.13861906 6.24147733\n",
      " 6.30196571 6.40102927 6.47637921 6.58660621 6.69604525 6.75505796\n",
      " 6.84784847 6.91847252 7.03820494 7.11818128 7.21864952 7.32240977\n",
      " 7.44022525 7.51053276 7.63250935 7.69387243 7.79589683 7.88405821\n",
      " 7.97942036 8.10016704 8.20393066 8.31170822 8.3975964  8.54217687\n",
      " 8.60334143 8.72938661 8.83513352 8.95237843 9.0030027  9.11317689\n",
      " 9.21619029 9.34456114 9.45228182 9.57509269 9.65063777 9.75690411\n",
      " 9.87034989]\n",
      "[456.79309039 456.80570075 456.80967945 456.81885418 456.82825519\n",
      " 456.82780144 456.84144645 456.84871634 456.85112243 456.86142105\n",
      " 456.87190871 456.87684695 456.87827279 456.89310515 456.90081931\n",
      " 456.90550697 456.90903245 456.91522844 456.92606231 456.93812253\n",
      " 456.94104274 456.95122856 456.96221193 456.9616374  456.98338416\n",
      " 456.98971353 457.0008672  457.01196413 457.01933231 457.02309614\n",
      " 457.03224792 457.04563508 457.04836987 457.06366466 457.07084377\n",
      " 457.07737063 457.09235673 457.10982918 457.12139154 457.12350244\n",
      " 457.15342367 457.15665115 457.17340559 457.18525948 457.19474578\n",
      " 457.20301394 457.22597316 457.22857095 457.24289834 457.27043009\n",
      " 457.26839216 457.29002607 457.2917114  457.30802898 457.30989842\n",
      " 457.33353579 457.3417254  457.35751257 457.38020801 457.38699746\n",
      " 457.40663271 457.42258961 457.43076845 457.44971125 457.45489064\n",
      " 457.48247828 457.48880554 457.50418596 457.5176535  457.53174675\n",
      " 457.54367279 457.55341632 457.57337026 457.58904763 457.6046145\n",
      " 457.61359545 457.63345691 457.6500224  457.66633686 457.67696799\n",
      " 457.69241657 457.7103824  457.71509083 457.72977118 457.72826621\n",
      " 457.76753761 457.78415744 457.79288116 457.79912941 457.82045758\n",
      " 457.83206556]\n"
     ]
    }
   ],
   "source": [
    "print(np.min(parY2[:,1])*2)\n",
    "print(parY2[:,1]*2)\n",
    "print(parY2[:,0])"
   ]
  },
  {
   "cell_type": "code",
   "execution_count": 48,
   "metadata": {},
   "outputs": [],
   "source": [
    "def beamwidth_fun(t,z,w):\n",
    "    return w*np.sqrt(1+((t-z)/np.pi/w/w*1.064)**2)\n",
    "\n",
    "Zrange = np.linspace(5,95,91)\n",
    "\n",
    "def fit_waist(pars):\n",
    "    return curve_fit(beamwidth_fun, Zrange, pars[:,1],p0=[50,5])[0]"
   ]
  },
  {
   "cell_type": "code",
   "execution_count": 24,
   "metadata": {},
   "outputs": [
    {
     "data": {
      "text/plain": [
       "-1.4028983047234647"
      ]
     },
     "execution_count": 24,
     "metadata": {},
     "output_type": "execute_result"
    }
   ],
   "source": [
    "parY2[90,0]-parY2[0,0]"
   ]
  },
  {
   "cell_type": "code",
   "execution_count": 18,
   "metadata": {},
   "outputs": [
    {
     "data": {
      "image/png": "[encoded data removed]",
      "text/plain": [
       "<Figure size 432x288 with 1 Axes>"
      ]
     },
     "metadata": {
      "needs_background": "light"
     },
     "output_type": "display_data"
    }
   ],
   "source": [
    "# plot the in-phase response\n",
    "plt.plot(pos_x,linestyle=\"\",marker=\"o\")\n",
    "#plt.ylim(-10,1)\n",
    "#plt.xlim(180,270)\n",
    "plt.grid(True)\n",
    "plt.show()"
   ]
  },
  {
   "cell_type": "code",
   "execution_count": null,
   "metadata": {},
   "outputs": [],
   "source": []
  }
 ],
 "metadata": {
  "kernelspec": {
   "display_name": "Python 3",
   "language": "python",
   "name": "python3"
  },
  "language_info": {
   "codemirror_mode": {
    "name": "ipython",
    "version": 3
   },
   "file_extension": ".py",
   "mimetype": "text/x-python",
   "name": "python",
   "nbconvert_exporter": "python",
   "pygments_lexer": "ipython3",
   "version": "3.6.9"
  },
  "widgets": {
   "application/vnd.jupyter.widget-state+json": {
    "state": {},
    "version_major": 2,
    "version_minor": 0
   }
  }
 },
 "nbformat": 4,
 "nbformat_minor": 4
}
