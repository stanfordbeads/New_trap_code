{
 "cells": [
  {
   "cell_type": "code",
   "execution_count": 3,
   "metadata": {},
   "outputs": [],
   "source": [
    "import numpy as np\n",
    "import matplotlib.pyplot as plt\n",
    "import matplotlib\n",
    "from scipy import signal\n",
    "import random\n",
    "\n",
    "import h5py\n",
    "from IPython.utils import io"
   ]
  },
  {
   "cell_type": "code",
   "execution_count": 4,
   "metadata": {},
   "outputs": [],
   "source": [
    "%matplotlib widget"
   ]
  },
  {
   "cell_type": "code",
   "execution_count": 5,
   "metadata": {},
   "outputs": [],
   "source": [
    "import sys\n",
    "sys.path.append('../../../../nadavp/new_trap/Tools/')\n",
    "sys.path.append('../../../../nadavp/new_trap/Tools/StatFramework/')\n",
    "import BeadDataFile\n",
    "from discharge_tools import *"
   ]
  },
  {
   "cell_type": "code",
   "execution_count": 6,
   "metadata": {},
   "outputs": [],
   "source": [
    "%reload_ext autoreload\n",
    "%autoreload 2"
   ]
  },
  {
   "cell_type": "code",
   "execution_count": 7,
   "metadata": {},
   "outputs": [],
   "source": [
    "from likelihood_calculator import likelihood_analyser\n",
    "from likelihood_calculator import GravityFramework\n",
    "from likelihood_calculator import auxiliary_functions as aux\n",
    "gfw = GravityFramework.GravityFramework()"
   ]
  },
  {
   "cell_type": "markdown",
   "metadata": {},
   "source": [
    "## Discahrge"
   ]
  },
  {
   "cell_type": "code",
   "execution_count": 29,
   "metadata": {},
   "outputs": [
    {
     "name": "stdout",
     "output_type": "stream",
     "text": [
      "70  files in folder\n",
      "70  files loaded\n"
     ]
    }
   ],
   "source": [
    "bdf_discharge = load_dir(dirname='/data/new_trap/20200924/Bead1/Discharge/Recharge_20200925/', start_file=0)"
   ]
  },
  {
   "cell_type": "code",
   "execution_count": 11,
   "metadata": {},
   "outputs": [
    {
     "data": {
      "text/plain": [
       "array([1, 2], dtype=uint16)"
      ]
     },
     "execution_count": 11,
     "metadata": {},
     "output_type": "execute_result"
    }
   ],
   "source": [
    "bb = bdf_discharge[0]\n",
    "bb.electrode_channels"
   ]
  },
  {
   "cell_type": "code",
   "execution_count": 27,
   "metadata": {},
   "outputs": [],
   "source": [
    "dis_z = [np.std(bb.response_at_freq2('z', drive_freq=71)) for bb in bdf_discharge]"
   ]
  },
  {
   "cell_type": "code",
   "execution_count": 74,
   "metadata": {},
   "outputs": [],
   "source": [
    "ch = [bb.electrode_channels[0] for bb in bdf_discharge]"
   ]
  },
  {
   "cell_type": "code",
   "execution_count": 29,
   "metadata": {},
   "outputs": [
    {
     "data": {
      "application/vnd.jupyter.widget-view+json": {
       "model_id": "2979cc68828f4e2ab4ea0bfcbb5ce130",
       "version_major": 2,
       "version_minor": 0
      },
      "text/plain": [
       "Canvas(toolbar=Toolbar(toolitems=[('Home', 'Reset original view', 'home', 'home'), ('Back', 'Back to previous …"
      ]
     },
     "metadata": {},
     "output_type": "display_data"
    },
    {
     "data": {
      "text/plain": [
       "<matplotlib.legend.Legend at 0x7f7e7790edd8>"
      ]
     },
     "execution_count": 29,
     "metadata": {},
     "output_type": "execute_result"
    }
   ],
   "source": [
    "_,ax = plt.subplots(figsize=(9.1,4))\n",
    "ax.scatter(range(len(dis_z)), dis_z/dis_z[0], label='std')\n",
    "ax.scatter(range(len(dis_z)), amps/amps[0], label='fit')\n",
    "ax.legend()"
   ]
  },
  {
   "cell_type": "code",
   "execution_count": 75,
   "metadata": {},
   "outputs": [],
   "source": [
    "bdf_discharge_z = [bb for bb,ch_ in zip(bdf_discharge, ch)  if ch_==1 ]\n",
    "bdf_discharge_x = [bb for bb,ch_ in zip(bdf_discharge, ch)  if ch_==4 ]"
   ]
  },
  {
   "cell_type": "code",
   "execution_count": 76,
   "metadata": {},
   "outputs": [],
   "source": [
    "index_z = [bb for bb,ch_ in zip(range(len(bdf_discharge)), ch)  if ch_==1 ]\n",
    "index_x = [bb for bb,ch_ in zip(range(len(bdf_discharge)), ch)  if ch_==4 ]"
   ]
  },
  {
   "cell_type": "code",
   "execution_count": 71,
   "metadata": {
    "scrolled": true
   },
   "outputs": [
    {
     "name": "stdout",
     "output_type": "stream",
     "text": [
      "***************************************************\n",
      "Z2-amplitude:  4.34e+02\n",
      "reduced chi2:  9.318084811908948\n",
      "***************************************************\n",
      "Z2-amplitude:  4.09e+02\n",
      "reduced chi2:  9.574709644861358\n",
      "***************************************************\n",
      "Z2-amplitude:  3.72e+02\n",
      "reduced chi2:  9.824914975818828\n",
      "***************************************************\n",
      "Z2-amplitude:  4.44e+02\n",
      "reduced chi2:  9.421113095866765\n",
      "***************************************************\n",
      "Z2-amplitude:  4.25e+02\n",
      "reduced chi2:  9.44492630131021\n",
      "***************************************************\n",
      "Z2-amplitude:  3.36e+02\n",
      "reduced chi2:  9.305279518412256\n",
      "***************************************************\n",
      "Z2-amplitude:  3.18e+02\n",
      "reduced chi2:  9.293684699273042\n",
      "***************************************************\n",
      "Z2-amplitude:  3.31e+02\n",
      "reduced chi2:  9.502907961635959\n",
      "***************************************************\n",
      "Z2-amplitude:  3.22e+02\n",
      "reduced chi2:  9.184956380784522\n",
      "***************************************************\n",
      "Z2-amplitude:  3.39e+02\n",
      "reduced chi2:  9.56971812058808\n",
      "***************************************************\n",
      "Z2-amplitude:  2.45e+02\n",
      "reduced chi2:  9.543441309725834\n",
      "***************************************************\n",
      "Z2-amplitude:  2.33e+02\n",
      "reduced chi2:  9.765014289628153\n",
      "***************************************************\n",
      "Z2-amplitude:  2.34e+02\n",
      "reduced chi2:  9.499395581004048\n",
      "***************************************************\n",
      "Z2-amplitude:  2.72e+02\n",
      "reduced chi2:  9.291161605712588\n",
      "***************************************************\n",
      "Z2-amplitude:  2.48e+02\n",
      "reduced chi2:  9.483294447621782\n",
      "***************************************************\n",
      "Z2-amplitude:  2.84e+02\n",
      "reduced chi2:  9.35183176815128\n",
      "***************************************************\n",
      "Z2-amplitude:  2.84e+02\n",
      "reduced chi2:  9.743792192700138\n",
      "***************************************************\n",
      "Z2-amplitude:  2.20e+02\n",
      "reduced chi2:  9.377869993693503\n",
      "***************************************************\n",
      "Z2-amplitude:  2.38e+02\n",
      "reduced chi2:  9.051447954814899\n",
      "***************************************************\n",
      "Z2-amplitude:  2.55e+02\n",
      "reduced chi2:  9.719378446153929\n",
      "***************************************************\n",
      "Z2-amplitude:  2.84e+02\n",
      "reduced chi2:  9.804684815879313\n",
      "***************************************************\n",
      "Z2-amplitude:  2.42e+02\n",
      "reduced chi2:  9.045208020470964\n",
      "***************************************************\n",
      "Z2-amplitude:  2.97e+02\n",
      "reduced chi2:  9.579657724476865\n",
      "***************************************************\n",
      "Z2-amplitude:  2.78e+02\n",
      "reduced chi2:  9.572132685622483\n",
      "***************************************************\n",
      "Z2-amplitude:  2.81e+02\n",
      "reduced chi2:  9.581563480371397\n",
      "***************************************************\n",
      "Z2-amplitude:  2.67e+02\n",
      "reduced chi2:  9.325882960933185\n",
      "***************************************************\n",
      "Z2-amplitude:  2.20e+02\n",
      "reduced chi2:  10.552200723221663\n",
      "***************************************************\n",
      "Z2-amplitude:  2.43e+02\n",
      "reduced chi2:  9.929262622148245\n",
      "***************************************************\n",
      "Z2-amplitude:  2.44e+02\n",
      "reduced chi2:  9.51458343933037\n",
      "***************************************************\n",
      "Z2-amplitude:  2.14e+02\n",
      "reduced chi2:  9.81192605185545\n",
      "***************************************************\n",
      "Z2-amplitude:  1.60e+02\n",
      "reduced chi2:  9.531191759726292\n",
      "***************************************************\n",
      "Z2-amplitude:  1.97e+02\n",
      "reduced chi2:  9.249538477992955\n",
      "***************************************************\n",
      "Z2-amplitude:  1.91e+02\n",
      "reduced chi2:  9.625444894211268\n",
      "***************************************************\n",
      "Z2-amplitude:  1.54e+02\n",
      "reduced chi2:  9.251717567345112\n",
      "***************************************************\n",
      "Z2-amplitude:  1.75e+02\n",
      "reduced chi2:  9.230697717508463\n",
      "***************************************************\n",
      "Z2-amplitude:  4.08e+00\n",
      "reduced chi2:  9.34472369933286\n",
      "***************************************************\n",
      "Z2-amplitude:  7.84e+00\n",
      "reduced chi2:  9.24610159491355\n",
      "***************************************************\n",
      "Z2-amplitude:  2.90e+00\n",
      "reduced chi2:  9.526305384966808\n",
      "***************************************************\n",
      "Z2-amplitude:  9.44e+00\n",
      "reduced chi2:  9.577628449836606\n",
      "***************************************************\n",
      "Z2-amplitude:  2.60e+00\n",
      "reduced chi2:  9.390930036781116\n",
      "***************************************************\n",
      "Z2-amplitude:  2.42e+02\n",
      "reduced chi2:  9.612538253252414\n",
      "***************************************************\n",
      "Z2-amplitude:  2.39e+02\n",
      "reduced chi2:  9.021894580354958\n",
      "***************************************************\n",
      "Z2-amplitude:  2.50e+02\n",
      "reduced chi2:  9.837728966241695\n",
      "***************************************************\n",
      "Z2-amplitude:  2.59e+02\n",
      "reduced chi2:  9.601258694083345\n",
      "***************************************************\n",
      "Z2-amplitude:  2.39e+02\n",
      "reduced chi2:  8.846511236929707\n",
      "***************************************************\n",
      "Z2-amplitude:  1.57e+02\n",
      "reduced chi2:  9.378211271633477\n",
      "***************************************************\n",
      "Z2-amplitude:  1.58e+02\n",
      "reduced chi2:  9.54761474772762\n",
      "***************************************************\n",
      "Z2-amplitude:  1.70e+02\n",
      "reduced chi2:  9.741116152647296\n",
      "***************************************************\n",
      "Z2-amplitude:  1.71e+02\n",
      "reduced chi2:  9.726902656962816\n",
      "***************************************************\n",
      "Z2-amplitude:  1.65e+02\n",
      "reduced chi2:  9.739680098776748\n",
      "***************************************************\n",
      "Z2-amplitude:  1.90e+02\n",
      "reduced chi2:  9.751414118867311\n",
      "***************************************************\n",
      "Z2-amplitude:  1.57e+02\n",
      "reduced chi2:  9.928411727600002\n",
      "***************************************************\n",
      "Z2-amplitude:  1.58e+02\n",
      "reduced chi2:  9.855934686889105\n",
      "***************************************************\n",
      "Z2-amplitude:  1.92e+02\n",
      "reduced chi2:  9.542209202453137\n",
      "***************************************************\n",
      "Z2-amplitude:  1.79e+02\n",
      "reduced chi2:  9.132825996904435\n",
      "***************************************************\n",
      "Z2-amplitude:  1.16e+02\n",
      "reduced chi2:  9.386427925392356\n",
      "***************************************************\n",
      "Z2-amplitude:  8.14e+01\n",
      "reduced chi2:  10.030789608743117\n",
      "***************************************************\n",
      "Z2-amplitude:  5.06e+01\n",
      "reduced chi2:  9.407635093415436\n",
      "***************************************************\n",
      "Z2-amplitude:  7.31e+01\n",
      "reduced chi2:  9.569335194622228\n",
      "***************************************************\n",
      "Z2-amplitude:  1.08e+02\n",
      "reduced chi2:  9.363167752828756\n",
      "***************************************************\n",
      "Z2-amplitude:  9.42e+01\n",
      "reduced chi2:  9.684374090824662\n",
      "***************************************************\n",
      "Z2-amplitude:  5.51e+01\n",
      "reduced chi2:  9.52433237849794\n",
      "***************************************************\n",
      "Z2-amplitude:  1.04e+02\n",
      "reduced chi2:  9.170531787847603\n",
      "***************************************************\n",
      "Z2-amplitude:  9.80e+01\n",
      "reduced chi2:  9.44992688285195\n",
      "***************************************************\n",
      "Z2-amplitude:  7.44e+01\n",
      "reduced chi2:  10.041693282562202\n",
      "***************************************************\n",
      "Z2-amplitude:  4.64e+01\n",
      "reduced chi2:  9.358804457738618\n",
      "***************************************************\n",
      "Z2-amplitude:  2.21e+01\n",
      "reduced chi2:  9.49592312483645\n",
      "***************************************************\n",
      "Z2-amplitude:  2.47e+01\n",
      "reduced chi2:  9.595671141134346\n",
      "***************************************************\n",
      "Z2-amplitude:  2.45e+01\n",
      "reduced chi2:  9.806809114982764\n",
      "***************************************************\n",
      "Z2-amplitude:  1.16e+01\n",
      "reduced chi2:  9.64422460124248\n",
      "Z2 response (amplitude): 191.4833202071878\n"
     ]
    }
   ],
   "source": [
    "m1 = gfw.build_z_response(bdf_discharge, drive_freq=71, charges=1, bandwidth=2, decimate=10, include_sigma=True, bimodal=False)"
   ]
  },
  {
   "cell_type": "code",
   "execution_count": 15,
   "metadata": {
    "scrolled": true
   },
   "outputs": [
    {
     "name": "stdout",
     "output_type": "stream",
     "text": [
      "***************************************************\n",
      "X2-amplitude:  1.22e+01\n",
      "reduced chi2:  1.5077204319970472\n",
      "***************************************************\n",
      "X2-amplitude:  1.22e+01\n",
      "reduced chi2:  1.6561307426139402\n",
      "***************************************************\n",
      "X2-amplitude:  1.23e+01\n",
      "reduced chi2:  1.2313121190426974\n",
      "***************************************************\n",
      "X2-amplitude:  1.22e+01\n",
      "reduced chi2:  1.16464891136188\n",
      "***************************************************\n",
      "X2-amplitude:  1.21e+01\n",
      "reduced chi2:  1.2168587862400966\n",
      "***************************************************\n",
      "X2-amplitude:  1.22e+01\n",
      "reduced chi2:  1.2696742562620946\n",
      "***************************************************\n",
      "X2-amplitude:  1.23e+01\n",
      "reduced chi2:  1.458111243801847\n",
      "***************************************************\n",
      "X2-amplitude:  1.23e+01\n",
      "reduced chi2:  1.2708153177285613\n",
      "***************************************************\n",
      "X2-amplitude:  1.22e+01\n",
      "reduced chi2:  1.4039743199327412\n",
      "***************************************************\n",
      "X2-amplitude:  1.22e+01\n",
      "reduced chi2:  1.525153617586847\n",
      "***************************************************\n",
      "X2-amplitude:  1.05e+01\n",
      "reduced chi2:  1.1440571047175594\n",
      "***************************************************\n",
      "X2-amplitude:  1.06e+01\n",
      "reduced chi2:  1.0885389056712558\n",
      "***************************************************\n",
      "X2-amplitude:  1.06e+01\n",
      "reduced chi2:  1.1312604841331202\n",
      "***************************************************\n",
      "X2-amplitude:  1.05e+01\n",
      "reduced chi2:  1.0305679507332144\n",
      "***************************************************\n",
      "X2-amplitude:  1.06e+01\n",
      "reduced chi2:  1.0463703053093947\n",
      "***************************************************\n",
      "X2-amplitude:  9.79e+00\n",
      "reduced chi2:  1.1066244231737932\n",
      "***************************************************\n",
      "X2-amplitude:  9.89e+00\n",
      "reduced chi2:  0.991855957822837\n",
      "***************************************************\n",
      "X2-amplitude:  9.67e+00\n",
      "reduced chi2:  0.8249699573624505\n",
      "***************************************************\n",
      "X2-amplitude:  9.81e+00\n",
      "reduced chi2:  0.8997933628614184\n",
      "***************************************************\n",
      "X2-amplitude:  9.82e+00\n",
      "reduced chi2:  0.7946482834113322\n",
      "***************************************************\n",
      "X2-amplitude:  8.98e+00\n",
      "reduced chi2:  0.6979381108004898\n",
      "***************************************************\n",
      "X2-amplitude:  8.95e+00\n",
      "reduced chi2:  0.8787075812821716\n",
      "***************************************************\n",
      "X2-amplitude:  8.98e+00\n",
      "reduced chi2:  0.7789841208103151\n",
      "***************************************************\n",
      "X2-amplitude:  8.99e+00\n",
      "reduced chi2:  0.7458294886179487\n",
      "***************************************************\n",
      "X2-amplitude:  9.05e+00\n",
      "reduced chi2:  0.8447501749664127\n",
      "***************************************************\n",
      "X2-amplitude:  7.40e+00\n",
      "reduced chi2:  0.6888437668593086\n",
      "***************************************************\n",
      "X2-amplitude:  8.41e+00\n",
      "reduced chi2:  4.245718914590765\n",
      "***************************************************\n",
      "X2-amplitude:  8.62e+00\n",
      "reduced chi2:  7.217641459553545\n",
      "***************************************************\n",
      "X2-amplitude:  1.03e+01\n",
      "reduced chi2:  7.707717731868036\n",
      "***************************************************\n",
      "X2-amplitude:  9.81e+00\n",
      "reduced chi2:  5.6213547462964435\n",
      "***************************************************\n",
      "X2-amplitude:  6.25e+00\n",
      "reduced chi2:  9.105328092590772\n",
      "***************************************************\n",
      "X2-amplitude:  4.15e+00\n",
      "reduced chi2:  5.228968311989376\n",
      "***************************************************\n",
      "X2-amplitude:  4.08e+00\n",
      "reduced chi2:  4.844161228256838\n",
      "***************************************************\n",
      "X2-amplitude:  5.37e+00\n",
      "reduced chi2:  5.457173659312002\n",
      "***************************************************\n",
      "X2-amplitude:  7.68e+00\n",
      "reduced chi2:  6.655676928320853\n",
      "***************************************************\n",
      "X2-amplitude:  4.12e+00\n",
      "reduced chi2:  0.18168338031953185\n",
      "***************************************************\n",
      "X2-amplitude:  3.96e+00\n",
      "reduced chi2:  0.16046803425845296\n",
      "***************************************************\n",
      "X2-amplitude:  4.07e+00\n",
      "reduced chi2:  0.14099870734455905\n",
      "***************************************************\n",
      "X2-amplitude:  4.02e+00\n",
      "reduced chi2:  0.16253243223357014\n",
      "***************************************************\n",
      "X2-amplitude:  4.09e+00\n",
      "reduced chi2:  0.20479892073392297\n",
      "***************************************************\n",
      "X2-amplitude:  3.23e+00\n",
      "reduced chi2:  0.12261381785794696\n",
      "***************************************************\n",
      "X2-amplitude:  3.33e+00\n",
      "reduced chi2:  0.1825885671412315\n",
      "***************************************************\n",
      "X2-amplitude:  3.31e+00\n",
      "reduced chi2:  0.10920698546546513\n",
      "***************************************************\n",
      "X2-amplitude:  3.25e+00\n",
      "reduced chi2:  0.11260675099045096\n",
      "***************************************************\n",
      "X2-amplitude:  3.24e+00\n",
      "reduced chi2:  0.15114936016803948\n",
      "***************************************************\n",
      "X2-amplitude:  2.60e+00\n",
      "reduced chi2:  0.1315684419225276\n",
      "***************************************************\n",
      "X2-amplitude:  2.44e+00\n",
      "reduced chi2:  0.10903317055976645\n",
      "***************************************************\n",
      "X2-amplitude:  2.38e+00\n",
      "reduced chi2:  0.0583381296566374\n",
      "***************************************************\n",
      "X2-amplitude:  2.52e+00\n",
      "reduced chi2:  0.07532079771701763\n",
      "***************************************************\n",
      "X2-amplitude:  2.35e+00\n",
      "reduced chi2:  0.11893229265281859\n",
      "***************************************************\n",
      "X2-amplitude:  3.49e+00\n",
      "reduced chi2:  11.812108861040088\n",
      "***************************************************\n",
      "X2-amplitude:  4.97e+00\n",
      "reduced chi2:  8.454997820515338\n",
      "***************************************************\n",
      "X2-amplitude:  3.40e+00\n",
      "reduced chi2:  5.049772340032564\n",
      "***************************************************\n",
      "X2-amplitude:  6.76e+00\n",
      "reduced chi2:  6.079543094675299\n",
      "***************************************************\n",
      "X2-amplitude:  5.71e+00\n",
      "reduced chi2:  16.53178911071402\n",
      "***************************************************\n",
      "X2-amplitude:  2.50e+00\n",
      "reduced chi2:  0.10765460729612583\n",
      "***************************************************\n",
      "X2-amplitude:  2.54e+00\n",
      "reduced chi2:  0.12381333989639369\n",
      "***************************************************\n",
      "X2-amplitude:  2.44e+00\n",
      "reduced chi2:  0.09600796700160451\n",
      "***************************************************\n",
      "X2-amplitude:  2.49e+00\n",
      "reduced chi2:  0.08797950691188987\n",
      "***************************************************\n",
      "X2-amplitude:  2.35e+00\n",
      "reduced chi2:  0.06589940511427257\n",
      "***************************************************\n",
      "X2-amplitude:  1.40e+00\n",
      "reduced chi2:  0.20551986836510008\n",
      "***************************************************\n",
      "X2-amplitude:  1.52e+00\n",
      "reduced chi2:  1.5312793979725436\n",
      "***************************************************\n",
      "X2-amplitude:  4.78e+00\n",
      "reduced chi2:  8.681514336026593\n",
      "***************************************************\n",
      "X2-amplitude:  3.08e+00\n",
      "reduced chi2:  5.973730135215721\n",
      "***************************************************\n",
      "X2-amplitude:  2.37e+00\n",
      "reduced chi2:  5.677498909234125\n",
      "X3 to X2 ratio: 0.21\n",
      "X2 response (amplitude): -6.763877258009717\n",
      "X2 response (amplitude): -6.763877258009717\n"
     ]
    }
   ],
   "source": [
    "m2 = gfw.build_x_response(bdf_discharge_x, drive_freq=71, charges=1, bandwidth=1)"
   ]
  },
  {
   "cell_type": "code",
   "execution_count": 77,
   "metadata": {},
   "outputs": [],
   "source": [
    "dis_x = [np.std(bb.response_at_freq('x', drive_freq=71)) for bb in bdf_discharge_x]\n",
    "dis_z = [np.std(bb.response_at_freq2('z', drive_freq=71)) for bb in bdf_discharge]"
   ]
  },
  {
   "cell_type": "code",
   "execution_count": 72,
   "metadata": {},
   "outputs": [
    {
     "data": {
      "application/vnd.jupyter.widget-view+json": {
       "model_id": "1a357416a9db4e4f8c707ac16eed463c",
       "version_major": 2,
       "version_minor": 0
      },
      "text/plain": [
       "Canvas(toolbar=Toolbar(toolitems=[('Home', 'Reset original view', 'home', 'home'), ('Back', 'Back to previous …"
      ]
     },
     "metadata": {},
     "output_type": "display_data"
    },
    {
     "data": {
      "text/plain": [
       "71.74075198338863"
      ]
     },
     "execution_count": 72,
     "metadata": {},
     "output_type": "execute_result"
    }
   ],
   "source": [
    "amps = np.array([m_.values[0] for m_ in m1])\n",
    "phases = np.array([m_.values[3] for m_ in m1])\n",
    "_, ax = plt.subplots(1,2,figsize=(9.1,4))\n",
    "ax[0].scatter(range(len(amps)), amps)\n",
    "ax[1].scatter(range(len(amps)), phases)\n",
    "np.mean(phases[20:50])"
   ]
  },
  {
   "cell_type": "code",
   "execution_count": 80,
   "metadata": {},
   "outputs": [
    {
     "data": {
      "application/vnd.jupyter.widget-view+json": {
       "model_id": "c2e80fb0b7c94286b7911fcf218491e1",
       "version_major": 2,
       "version_minor": 0
      },
      "text/plain": [
       "Canvas(toolbar=Toolbar(toolitems=[('Home', 'Reset original view', 'home', 'home'), ('Back', 'Back to previous …"
      ]
     },
     "metadata": {},
     "output_type": "display_data"
    }
   ],
   "source": [
    "_,ax = plt.subplots(figsize=(9.5,4))\n",
    "scale = 81\n",
    "scale2 = 50\n",
    "scaleX = -0.8\n",
    "scaleX2 = 9200\n",
    "\n",
    "# Perrinf\n",
    "ax.scatter(np.arange(len(amps)), amps/scale, label='fit fixed-phase')\n",
    "# ax.scatter(range(len(dis_z)), np.array(dis_z)/scale2, label='Z response')\n",
    "# ax.scatter(range(len(dis_z)), np.array(dis_z)/scale2, label='Z response')\n",
    "# ax.scatter(index_x, ampsx/scaleX, label='X response')\n",
    "ax.scatter(index_x, np.array(dis_x)/scaleX2, label='X-pos fit fixed-phases')\n",
    "ax.scatter(np.arange(len(amps)), ch, label='channel')\n",
    "\n",
    "ax.legend()\n",
    "ax.set(xlabel='dataset', ylabel='Charges', ylim=(None,None), xlim=(None,None))\n",
    "ax.grid(axis='y')\n",
    "ax.minorticks_on()\n",
    "ax.grid(which='major', linestyle='-', linewidth='0.5', color='red')\n",
    "ax.grid(which='minor', linestyle=':', linewidth='0.5', color='black')\n",
    "ax.legend()\n",
    "from matplotlib.ticker import MaxNLocator\n",
    "ax.yaxis.set_major_locator(MaxNLocator(integer=True))"
   ]
  },
  {
   "cell_type": "markdown",
   "metadata": {},
   "source": [
    "## TF"
   ]
  },
  {
   "cell_type": "code",
   "execution_count": 6,
   "metadata": {},
   "outputs": [
    {
     "name": "stdout",
     "output_type": "stream",
     "text": [
      "No height data\n",
      "No cantilever data\n",
      "Error loading spinning data\n",
      "No laser power data\n",
      "No height data\n",
      "No cantilever data\n",
      "Error loading spinning data\n",
      "No laser power data\n",
      "No height data\n",
      "No cantilever data\n",
      "Error loading spinning data\n",
      "No laser power data\n"
     ]
    }
   ],
   "source": [
    "# 7.6um German bead\n",
    "fname = r'/home/data_transfer/data_from_windows/20200921/Bead1/TransFunc/TransFuncX2_1Hz_300s.h5'\n",
    "tf_x = BeadDataFile.BeadDataFile(fname=fname)\n",
    "fname = r'/home/data_transfer/data_from_windows/20200921/Bead1/TransFunc/TransFuncY1_1Hz_100s.h5'\n",
    "tf_y = BeadDataFile.BeadDataFile(fname=fname)\n",
    "fname = r'/home/data_transfer/data_from_windows/20200921/Bead1/TransFunc/TransFuncZ2_1Hz_300s.h5'\n",
    "tf_z = BeadDataFile.BeadDataFile(fname=fname)\n",
    "tf_list = [tf_x, tf_y, tf_z]"
   ]
  },
  {
   "cell_type": "code",
   "execution_count": 8,
   "metadata": {},
   "outputs": [
    {
     "data": {
      "application/vnd.jupyter.widget-view+json": {
       "model_id": "db42f12ea33047c4b62e3c2445085be9",
       "version_major": 2,
       "version_minor": 0
      },
      "text/plain": [
       "Canvas(toolbar=Toolbar(toolitems=[('Home', 'Reset original view', 'home', 'home'), ('Back', 'Back to previous …"
      ]
     },
     "metadata": {},
     "output_type": "display_data"
    },
    {
     "data": {
      "text/plain": [
       "[[(0.0, 100.0)], [(0.0, 100.0)], [(0.0, 100.0)]]"
      ]
     },
     "execution_count": 8,
     "metadata": {},
     "output_type": "execute_result"
    }
   ],
   "source": [
    "_,ax = plt.subplots(1,3, figsize=(9,3))\n",
    "bb = tf_z\n",
    "ax[0].semilogy(*bb.psd2('x'))\n",
    "ax[1].semilogy(*bb.psd2('y'))\n",
    "ax[2].semilogy(*bb.psd2('z'))\n",
    "[a.set(xlim=(0,100)) for a in ax]"
   ]
  },
  {
   "cell_type": "code",
   "execution_count": 50,
   "metadata": {},
   "outputs": [
    {
     "name": "stdout",
     "output_type": "stream",
     "text": [
      "No height data\n",
      "No cantilever data\n",
      "Error loading spinning data\n",
      "No laser power data\n",
      "No height data\n",
      "No cantilever data\n",
      "Error loading spinning data\n",
      "No laser power data\n",
      "No height data\n",
      "No cantilever data\n",
      "Error loading spinning data\n",
      "No laser power data\n",
      "No height data\n",
      "No cantilever data\n",
      "Error loading spinning data\n",
      "No laser power data\n"
     ]
    }
   ],
   "source": [
    "names = ['Y2', 'Y3', 'Y4', 'Y5', 'Y6', 'Y7', 'Y8', 'Y9']\n",
    "names = ['Y7', 'Y8', 'Y9', 'Y11']\n",
    "fnames = [r'/home/data_transfer/data_from_windows/20200921/Bead1/TransFunc/TransFunc'+y_+'_7Hz_10s.h5' for y_ in names]\n",
    "bbs = [BeadDataFile.BeadDataFile(fname_) for fname_ in fnames]"
   ]
  },
  {
   "cell_type": "code",
   "execution_count": 56,
   "metadata": {},
   "outputs": [
    {
     "data": {
      "application/vnd.jupyter.widget-view+json": {
       "model_id": "3626bd4e48d946e4abd35ecae63d869e",
       "version_major": 2,
       "version_minor": 0
      },
      "text/plain": [
       "Canvas(toolbar=Toolbar(toolitems=[('Home', 'Reset original view', 'home', 'home'), ('Back', 'Back to previous …"
      ]
     },
     "metadata": {},
     "output_type": "display_data"
    },
    {
     "data": {
      "text/plain": [
       "array([2.06282349])"
      ]
     },
     "execution_count": 56,
     "metadata": {},
     "output_type": "execute_result"
    }
   ],
   "source": [
    "_,ax = plt.subplots()\n",
    "[ax.semilogy(*bb.psd2('y'), label=name_) for bb,name_ in zip(bbs,names)]\n",
    "ax.legend()\n",
    "ax.set(xlim=(100,1000))\n",
    "tmp_freq, tmp_psd = bbs[-1].psd2('x')\n",
    "np.sqrt(tmp_psd[tmp_freq==71]/tmp_psd[tmp_freq==50])"
   ]
  },
  {
   "cell_type": "markdown",
   "metadata": {},
   "source": [
    "## Nois floor"
   ]
  },
  {
   "cell_type": "code",
   "execution_count": 30,
   "metadata": {},
   "outputs": [],
   "source": [
    "bdf_z = bdf_discharge[40:45]\n",
    "bdf_x = bdf_discharge[30:35]\n",
    "\n",
    "freq = bdf_z[0].psd2('z')[0]\n",
    "z_scale1 = bdf_z[0].psd2('z')[1][freq==71]\n",
    "for bb in bdf_z:\n",
    "    z_scale1 += bb.psd2('z')[1][freq==71]\n",
    "z_scale1 /= len(bdf_z)\n",
    "\n",
    "x_scale1 = bdf_x[0].psd2('x')[1][freq==71]\n",
    "for bb in bdf_x:\n",
    "    x_scale1 += bb.psd2('x')[1][freq==71]\n",
    "x_scale1 /= len(bdf_x)\n",
    "\n",
    "charges = 3\n",
    "force = charges * 1.6e-19 * 20 / 8.6e-3 * 0.63 * np.sqrt(10) # in Newtons/sqrt(Hz)\n",
    "z_scale1 = force/np.sqrt(z_scale1)\n",
    "x_scale1 = force/np.sqrt(x_scale1)"
   ]
  },
  {
   "cell_type": "code",
   "execution_count": 32,
   "metadata": {},
   "outputs": [],
   "source": [
    "del data_bdfs"
   ]
  },
  {
   "cell_type": "code",
   "execution_count": 91,
   "metadata": {},
   "outputs": [
    {
     "name": "stdout",
     "output_type": "stream",
     "text": [
      "157  files in folder\n",
      "100  files loaded\n"
     ]
    }
   ],
   "source": [
    "## 100 files of shaking data for nose floor\n",
    "num_files = 100\n",
    "data_bdfs = load_dir(dirname='/data/new_trap/20200924/Bead1/Shaking/Shaking345/',\n",
    "                         file_prefix='SpinShaking2_', start_file=0, max_file=num_files)\n",
    "freq = data_bdfs[0].psd2('x')[0]\n",
    "fftx1 = data_bdfs[0].psd2('x')[1]\n",
    "ffty1 = data_bdfs[0].psd2('y')[1]\n",
    "fftz1 = data_bdfs[0].psd2('z')[1]\n",
    "for i in range(1,num_files):\n",
    "    fftx1 += data_bdfs[i].psd2('x')[1]\n",
    "    fftz1 += data_bdfs[i].psd2('z')[1]\n",
    "    ffty1 += data_bdfs[i].psd2('y')[1]\n",
    "fftx1/=num_files\n",
    "ffty1/=num_files\n",
    "fftz1/=num_files"
   ]
  },
  {
   "cell_type": "code",
   "execution_count": 92,
   "metadata": {},
   "outputs": [
    {
     "data": {
      "application/vnd.jupyter.widget-view+json": {
       "model_id": "75ac3d0c0fb54fa3b57582c63c7bd93a",
       "version_major": 2,
       "version_minor": 0
      },
      "text/plain": [
       "Canvas(toolbar=Toolbar(toolitems=[('Home', 'Reset original view', 'home', 'home'), ('Back', 'Back to previous …"
      ]
     },
     "metadata": {},
     "output_type": "display_data"
    }
   ],
   "source": [
    "_,ax = plt.subplots(1,2,figsize=(9.1,4), sharex=True)\n",
    "# tf_freq = np.interp(freq, gfw.tf_freq, gfw.tf_ffts[2])\n",
    "ax[0].semilogy(freq, np.sqrt(fftx)*x_scale1, label='Spin')\n",
    "ax[0].semilogy(freq, np.sqrt(fftx1)*x_scale1, label='Ringdown', alpha=0.6)\n",
    "ax[1].semilogy(freq, np.sqrt(fftz)*z_scale1, label='Spin')\n",
    "ax[1].semilogy(freq, np.sqrt(fftz1)*z_scale1, label='Ringdown', alpha=0.6)\n",
    "[a.legend() for a in ax]\n",
    "ax[0].set(xlim=(1,50), ylim=(9e-18,1e-14), xlabel='Frequency [Hz.]', ylabel=r'ASD [N/$\\sqrt{Hz}$]', title='X force')\n",
    "_ = ax[1].set(xlim=(1,50), ylim=(9e-18,1e-14), xlabel='Frequency [Hz.]', title=r'Z force')\n",
    "# print(np.sqrt(fftx1[freq==18])*x_scale/np.sqrt(10), np.sqrt(fftz1[freq==18])*z_scale/np.sqrt(10))"
   ]
  },
  {
   "cell_type": "code",
   "execution_count": 63,
   "metadata": {},
   "outputs": [
    {
     "name": "stdout",
     "output_type": "stream",
     "text": [
      "2000  files in folder\n",
      "100  files loaded\n"
     ]
    },
    {
     "data": {
      "application/vnd.jupyter.widget-view+json": {
       "model_id": "ce000cbe9ccf466e9c3f3f13de41fd48",
       "version_major": 2,
       "version_minor": 0
      },
      "text/plain": [
       "Canvas(toolbar=Toolbar(toolitems=[('Home', 'Reset original view', 'home', 'home'), ('Back', 'Back to previous …"
      ]
     },
     "metadata": {},
     "output_type": "display_data"
    },
    {
     "data": {
      "text/plain": [
       "[(1.0, 5000.0)]"
      ]
     },
     "execution_count": 63,
     "metadata": {},
     "output_type": "execute_result"
    }
   ],
   "source": [
    "## 100 files of shaking data for nose floor\n",
    "num_files = 100\n",
    "data_bdfs = load_dir(dirname='/data/new_trap/20200924/Bead1/Shaking/Shaking340/',\n",
    "                         file_prefix='NoSpinNoShaking0_', start_file=500, max_file=num_files)\n",
    "bb = data_bdfs[0]\n",
    "freq = np.fft.rfftfreq(len(bb.spin_data[0]), d=1./5000/40)\n",
    "fft11 = np.abs(np.fft.rfft(bb.spin_data[0]))**2\n",
    "for i in range(1,num_files):\n",
    "    fft11 += np.abs(np.fft.rfft(data_bdfs[i].spin_data[0]))**2\n",
    "fft11/=num_files\n",
    "\n",
    "_,ax = plt.subplots()\n",
    "ax.semilogy(freq, fft)\n",
    "ax.semilogy(freq, fft11)\n",
    "ax.set(xlim=(1,5000))"
   ]
  },
  {
   "cell_type": "code",
   "execution_count": 87,
   "metadata": {},
   "outputs": [],
   "source": [
    "def func1_height(i):\n",
    "    print(i,'  ******************')\n",
    "    fname = r'/data/new_trap/20200924/Bead1/Shaking/Shaking345/SpinShaking0_'+str(i)+'.h5'\n",
    "    bb = BeadDataFile.BeadDataFile(fname=fname)\n",
    "    return np.mean(bb.bead_height)"
   ]
  },
  {
   "cell_type": "code",
   "execution_count": 88,
   "metadata": {},
   "outputs": [
    {
     "name": "stdout",
     "output_type": "stream",
     "text": [
      "101   ******************\n"
     ]
    },
    {
     "data": {
      "text/plain": [
       "180.12130227424302"
      ]
     },
     "execution_count": 88,
     "metadata": {},
     "output_type": "execute_result"
    }
   ],
   "source": [
    "func1_height(101)"
   ]
  },
  {
   "cell_type": "code",
   "execution_count": 77,
   "metadata": {
    "scrolled": true
   },
   "outputs": [
    {
     "name": "stderr",
     "output_type": "stream",
     "text": [
      "100%|██████████| 2500/2500 [00:09<00:00, 257.42it/s]\n"
     ]
    }
   ],
   "source": [
    "from joblib import Parallel, delayed\n",
    "from tqdm import tqdm\n",
    "test1_zfb = Parallel(n_jobs=20)(delayed(func1_height)(i) for i in tqdm(range(2500)))"
   ]
  },
  {
   "cell_type": "code",
   "execution_count": 79,
   "metadata": {},
   "outputs": [
    {
     "data": {
      "application/vnd.jupyter.widget-view+json": {
       "model_id": "cb8e4f51dc4a4fc886b5fee119819404",
       "version_major": 2,
       "version_minor": 0
      },
      "text/plain": [
       "Canvas(toolbar=Toolbar(toolitems=[('Home', 'Reset original view', 'home', 'home'), ('Back', 'Back to previous …"
      ]
     },
     "metadata": {},
     "output_type": "display_data"
    },
    {
     "data": {
      "text/plain": [
       "<matplotlib.collections.PathCollection at 0x7f2b732ce780>"
      ]
     },
     "execution_count": 79,
     "metadata": {},
     "output_type": "execute_result"
    }
   ],
   "source": [
    "_,ax = plt.subplots(figsize=(9.2,4))\n",
    "ax.scatter(range(2500), test1_zfb)"
   ]
  },
  {
   "cell_type": "code",
   "execution_count": 17,
   "metadata": {},
   "outputs": [],
   "source": [
    "i = 1400\n",
    "fname = r'/data/new_trap/20200921/Bead1/Discharge/HeightControl2/Discharge_'+str(i)+'.h5'\n",
    "bb = BeadDataFile.BeadDataFile(fname=fname)"
   ]
  },
  {
   "cell_type": "code",
   "execution_count": 18,
   "metadata": {},
   "outputs": [],
   "source": [
    "f = h5py.File(fname,'r')\n",
    "pos_data = np.array(f['pos_data'])\n",
    "quad_data = np.array(f['quad_data'])"
   ]
  },
  {
   "cell_type": "code",
   "execution_count": 20,
   "metadata": {},
   "outputs": [],
   "source": [
    "sync = pos_data.reshape(-1,11).T[5]"
   ]
  },
  {
   "cell_type": "code",
   "execution_count": 21,
   "metadata": {},
   "outputs": [
    {
     "data": {
      "application/vnd.jupyter.widget-view+json": {
       "model_id": "5e64824c848644aa963a0f90ffa4d4ae",
       "version_major": 2,
       "version_minor": 0
      },
      "text/plain": [
       "Canvas(toolbar=Toolbar(toolitems=[('Home', 'Reset original view', 'home', 'home'), ('Back', 'Back to previous …"
      ]
     },
     "metadata": {},
     "output_type": "display_data"
    },
    {
     "data": {
      "text/plain": [
       "[<matplotlib.lines.Line2D at 0x7fec8021be48>]"
      ]
     },
     "execution_count": 21,
     "metadata": {},
     "output_type": "execute_result"
    }
   ],
   "source": [
    "_,ax = plt.subplots(figsize=(9.5,4))\n",
    "ax.plot(range(500), sync[:500]/100)"
   ]
  },
  {
   "cell_type": "code",
   "execution_count": 62,
   "metadata": {},
   "outputs": [],
   "source": [
    "i_start = np.nonzero(sync[:500])[0][0]\n",
    "zfb = bb.feedback[2][i_start-1:]\n",
    "x_sync = bb.xyz[0][i_start-1:]"
   ]
  },
  {
   "cell_type": "code",
   "execution_count": 65,
   "metadata": {},
   "outputs": [
    {
     "data": {
      "application/vnd.jupyter.widget-view+json": {
       "model_id": "9d505f9c27104564bdd4d2c1e4cfa868",
       "version_major": 2,
       "version_minor": 0
      },
      "text/plain": [
       "Canvas(toolbar=Toolbar(toolitems=[('Home', 'Reset original view', 'home', 'home'), ('Back', 'Back to previous …"
      ]
     },
     "metadata": {},
     "output_type": "display_data"
    },
    {
     "data": {
      "text/plain": [
       "<matplotlib.legend.Legend at 0x7febd4606908>"
      ]
     },
     "execution_count": 65,
     "metadata": {},
     "output_type": "execute_result"
    }
   ],
   "source": [
    "_,ax = plt.subplots(figsize=(9.2,4))\n",
    "ax.plot(range(40000), zfb[100000:140000]/np.mean(zfb[:40000]), label='z_fb')\n",
    "ax.plot(range(40000), bb.z2[100000:140000]/np.mean(bb.z2[:40000])*50-49, 'r--',label='z', alpha=(0.5))\n",
    "ax.plot(range(40000), bb.Iz[100000:140000]/np.mean(bb.Iz[:40000])*50-49,label='Iz', alpha=(0.5))\n",
    "ax.legend()"
   ]
  },
  {
   "cell_type": "code",
   "execution_count": 58,
   "metadata": {},
   "outputs": [
    {
     "data": {
      "application/vnd.jupyter.widget-view+json": {
       "model_id": "f806c52dc09547d4b32968fe8da36c8d",
       "version_major": 2,
       "version_minor": 0
      },
      "text/plain": [
       "Canvas(toolbar=Toolbar(toolitems=[('Home', 'Reset original view', 'home', 'home'), ('Back', 'Back to previous …"
      ]
     },
     "metadata": {},
     "output_type": "display_data"
    },
    {
     "data": {
      "text/plain": [
       "<matplotlib.legend.Legend at 0x7febd6a552b0>"
      ]
     },
     "execution_count": 58,
     "metadata": {},
     "output_type": "execute_result"
    }
   ],
   "source": [
    "_,ax = plt.subplots(figsize=(9.2,4))\n",
    "# ax.plot(range(40000), x_sync[:40000]/np.mean(x_sync[:40000]), label='z_fb')\n",
    "ax.plot(range(40000), bb.z2[100000:140000]/np.mean(bb.z2[:40000]), 'r--',label='Iz', alpha=(0.5))\n",
    "ax.legend()"
   ]
  },
  {
   "cell_type": "code",
   "execution_count": null,
   "metadata": {},
   "outputs": [],
   "source": []
  },
  {
   "cell_type": "markdown",
   "metadata": {},
   "source": [
    "### Scan Y"
   ]
  },
  {
   "cell_type": "code",
   "execution_count": 12,
   "metadata": {},
   "outputs": [
    {
     "data": {
      "text/plain": [
       "213.35106397161607"
      ]
     },
     "execution_count": 12,
     "metadata": {},
     "output_type": "execute_result"
    }
   ],
   "source": [
    "i = 0\n",
    "fname = r'/data/new_trap/20200924/Bead1/Shaking/PatchCharges_345/SpinShaking0_'+str(i)+'.h5'\n",
    "bb = BeadDataFile.BeadDataFile(fname=fname)\n",
    "np.mean(bb.cant_pos[1])*50"
   ]
  },
  {
   "cell_type": "code",
   "execution_count": 20,
   "metadata": {},
   "outputs": [],
   "source": [
    "def func1_scan(i):\n",
    "    print(i,'  ******************')\n",
    "    fname = r'/data/new_trap/20200924/Bead1/Shaking/PatchCharges_345/SpinShaking0_'+str(i)+'.h5'\n",
    "    bb = BeadDataFile.BeadDataFile(fname=fname)\n",
    "    return np.mean(bb.cant_pos[1])*50"
   ]
  },
  {
   "cell_type": "code",
   "execution_count": 125,
   "metadata": {},
   "outputs": [],
   "source": [
    "def func2_scan(i):\n",
    "    print(i,'  ******************')\n",
    "    fname = r'/data/new_trap/20200924/Bead1/Shaking/PatchCharges_345/SpinShaking0_'+str(i)+'.h5'\n",
    "#     fname = r'/data/new_trap/20200924/Bead1/Shaking/Shaking345/SpinShaking0_'+str(i)+'.h5'\n",
    "\n",
    "    bb = BeadDataFile.BeadDataFile(fname=fname)\n",
    "    freq_, fft_ = bb.psd2('x')\n",
    "    return fft_[freq_==9]"
   ]
  },
  {
   "cell_type": "code",
   "execution_count": 156,
   "metadata": {},
   "outputs": [],
   "source": [
    "def func3_scan(i):\n",
    "    print(i,'  ******************')\n",
    "#     fname = r'/data/new_trap/20200924/Bead1/Shaking/PatchCharges_345/SpinShaking0_'+str(i)+'.h5'\n",
    "    fname = r'/data/new_trap/20200924/Bead1/Shaking/Shaking345/SpinShaking0_'+str(i)+'.h5'\n",
    "    bb = BeadDataFile.BeadDataFile(fname=fname)\n",
    "#     freq_, fft_ = bb.psd2('x')\n",
    "    x = bb.x2\n",
    "    fft_ = np.fft.rfft(x,norm='ortho')\n",
    "    freq_ = np.fft.rfftfreq(len(x), d=1./5000)\n",
    "    return np.angle(fft_[freq_==9])"
   ]
  },
  {
   "cell_type": "code",
   "execution_count": 124,
   "metadata": {},
   "outputs": [
    {
     "name": "stderr",
     "output_type": "stream",
     "text": [
      "100%|██████████| 4000/4000 [02:21<00:00, 26.44it/s]\n"
     ]
    }
   ],
   "source": [
    "from joblib import Parallel, delayed\n",
    "from tqdm import tqdm\n",
    "test1_zfb = Parallel(n_jobs=40)(delayed(func1_scan)(i) for i in tqdm(range(4000)))"
   ]
  },
  {
   "cell_type": "code",
   "execution_count": 127,
   "metadata": {},
   "outputs": [
    {
     "name": "stderr",
     "output_type": "stream",
     "text": [
      "100%|██████████| 4000/4000 [00:11<00:00, 351.41it/s]\n"
     ]
    }
   ],
   "source": [
    "test2_9hz = Parallel(n_jobs=40)(delayed(func2_scan)(i) for i in tqdm(range(4000)))"
   ]
  },
  {
   "cell_type": "code",
   "execution_count": 157,
   "metadata": {},
   "outputs": [
    {
     "name": "stderr",
     "output_type": "stream",
     "text": [
      "100%|██████████| 3000/3000 [01:52<00:00, 25.91it/s]\n"
     ]
    }
   ],
   "source": [
    "test3_18hz = Parallel(n_jobs=12)(delayed(func3_scan)(i) for i in tqdm(range(3000)))"
   ]
  },
  {
   "cell_type": "code",
   "execution_count": 146,
   "metadata": {},
   "outputs": [
    {
     "data": {
      "text/plain": [
       "(400,)"
      ]
     },
     "execution_count": 146,
     "metadata": {},
     "output_type": "execute_result"
    }
   ],
   "source": [
    "np.mean(np.array(test2_9hz).reshape(-1,10), axis=1).shape"
   ]
  },
  {
   "cell_type": "code",
   "execution_count": 149,
   "metadata": {},
   "outputs": [
    {
     "data": {
      "application/vnd.jupyter.widget-view+json": {
       "model_id": "7139ae1ff146407da952139f7a386e4f",
       "version_major": 2,
       "version_minor": 0
      },
      "text/plain": [
       "Canvas(toolbar=Toolbar(toolitems=[('Home', 'Reset original view', 'home', 'home'), ('Back', 'Back to previous …"
      ]
     },
     "metadata": {},
     "output_type": "display_data"
    },
    {
     "data": {
      "text/plain": [
       "[<matplotlib.lines.Line2D at 0x7f658de2ae10>]"
      ]
     },
     "execution_count": 149,
     "metadata": {},
     "output_type": "execute_result"
    }
   ],
   "source": [
    "_,ax = plt.subplots(figsize=(9,4))\n",
    "# ax.scatter(test1_zfb, np.sqrt(test2_3hz)*x_scale1)\n",
    "# ax.scatter(test1_zfb, np.sqrt(test2_6hz)*x_scale1)\n",
    "# ax.scatter(test1_zfb, np.sqrt(test22_6hz)*x_scale1)\n",
    "# ax.scatter(test1_zfb, np.sqrt(test2_9hz)*x_scale1)\n",
    "ax.semilogy(np.mean(np.array(test1_zfb).reshape(-1,5), axis=1), np.mean(np.sqrt(test2_9hz).reshape(-1,5), axis=1)*x_scale1, '.')\n",
    "# ax.scatter(test1_zfb, np.sqrt(test22_9hz)*x_scale1)"
   ]
  },
  {
   "cell_type": "code",
   "execution_count": 160,
   "metadata": {},
   "outputs": [
    {
     "data": {
      "application/vnd.jupyter.widget-view+json": {
       "model_id": "744f46a16634478e9d462ec7f04139d3",
       "version_major": 2,
       "version_minor": 0
      },
      "text/plain": [
       "Canvas(toolbar=Toolbar(toolitems=[('Home', 'Reset original view', 'home', 'home'), ('Back', 'Back to previous …"
      ]
     },
     "metadata": {},
     "output_type": "display_data"
    },
    {
     "data": {
      "text/plain": [
       "<matplotlib.legend.Legend at 0x7f658d3a9b38>"
      ]
     },
     "execution_count": 160,
     "metadata": {},
     "output_type": "execute_result"
    }
   ],
   "source": [
    "_,ax = plt.subplots(figsize=(9,4))\n",
    "# ax.scatter(test1_zfb, test3_3hz)\n",
    "# ax.scatter(test1_zfb, test3_6hz)\n",
    "# ax.scatter(test1_zfb, test3_9hz)\n",
    "# ax.scatter(test1_zfb, test33_9hz)\n",
    "ax.scatter(test1_zfb, test33_18hz, label='y scan')\n",
    "ax.scatter(test1_zfb[:3000], test3_18hz, label='constant')\n",
    "ax.legend()"
   ]
  },
  {
   "cell_type": "code",
   "execution_count": null,
   "metadata": {},
   "outputs": [],
   "source": []
  },
  {
   "cell_type": "code",
   "execution_count": null,
   "metadata": {},
   "outputs": [],
   "source": []
  },
  {
   "cell_type": "code",
   "execution_count": null,
   "metadata": {},
   "outputs": [],
   "source": []
  },
  {
   "cell_type": "code",
   "execution_count": null,
   "metadata": {},
   "outputs": [],
   "source": []
  },
  {
   "cell_type": "code",
   "execution_count": null,
   "metadata": {},
   "outputs": [],
   "source": []
  }
 ],
 "metadata": {
  "kernelspec": {
   "display_name": "Python 3",
   "language": "python",
   "name": "python3"
  },
  "language_info": {
   "codemirror_mode": {
    "name": "ipython",
    "version": 3
   },
   "file_extension": ".py",
   "mimetype": "text/x-python",
   "name": "python",
   "nbconvert_exporter": "python",
   "pygments_lexer": "ipython3",
   "version": "3.6.9"
  }
 },
 "nbformat": 4,
 "nbformat_minor": 4
}
