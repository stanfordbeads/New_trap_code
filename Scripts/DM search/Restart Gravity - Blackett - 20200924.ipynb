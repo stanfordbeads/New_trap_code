{
 "cells": [
  {
   "cell_type": "code",
   "execution_count": 2,
   "metadata": {},
   "outputs": [],
   "source": [
    "import numpy as np\n",
    "import matplotlib.pyplot as plt\n",
    "import matplotlib\n",
    "from scipy import signal\n",
    "import random\n",
    "\n",
    "import h5py\n",
    "from IPython.utils import io"
   ]
  },
  {
   "cell_type": "code",
   "execution_count": 3,
   "metadata": {},
   "outputs": [],
   "source": [
    "from joblib import Parallel, delayed\n",
    "from tqdm import tqdm"
   ]
  },
  {
   "cell_type": "code",
   "execution_count": 4,
   "metadata": {},
   "outputs": [],
   "source": [
    "%matplotlib widget"
   ]
  },
  {
   "cell_type": "code",
   "execution_count": 5,
   "metadata": {},
   "outputs": [],
   "source": [
    "import sys\n",
    "sys.path.append('../../../../nadavp/new_trap/Tools/')\n",
    "sys.path.append('../../../../nadavp/new_trap/Tools/StatFramework/')\n",
    "import BeadDataFile\n",
    "from discharge_tools import *\n",
    "\n",
    "sys.path.append('/home/analysis_user/New_trap_code/SensitivityFramework/')\n",
    "from signal_model_utilities import *"
   ]
  },
  {
   "cell_type": "code",
   "execution_count": 6,
   "metadata": {},
   "outputs": [],
   "source": [
    "%reload_ext autoreload\n",
    "%autoreload 2"
   ]
  },
  {
   "cell_type": "code",
   "execution_count": 7,
   "metadata": {},
   "outputs": [],
   "source": [
    "from likelihood_calculator import likelihood_analyser\n",
    "from likelihood_calculator import GravityFramework\n",
    "from likelihood_calculator import auxiliary_functions as aux\n",
    "gfw = GravityFramework.GravityFramework()"
   ]
  },
  {
   "cell_type": "markdown",
   "metadata": {},
   "source": [
    "## Discahrge"
   ]
  },
  {
   "cell_type": "code",
   "execution_count": 16,
   "metadata": {},
   "outputs": [
    {
     "name": "stdout",
     "output_type": "stream",
     "text": [
      "70  files in folder\n",
      "70  files loaded\n"
     ]
    }
   ],
   "source": [
    "bdf_discharge = load_dir(dirname='/data/new_trap/20200924/Bead1/Discharge/Recharge_20200925/', start_file=0)"
   ]
  },
  {
   "cell_type": "code",
   "execution_count": 11,
   "metadata": {},
   "outputs": [
    {
     "data": {
      "text/plain": [
       "array([1, 2], dtype=uint16)"
      ]
     },
     "execution_count": 11,
     "metadata": {},
     "output_type": "execute_result"
    }
   ],
   "source": [
    "bb = bdf_discharge[0]\n",
    "bb.electrode_channels"
   ]
  },
  {
   "cell_type": "code",
   "execution_count": 27,
   "metadata": {},
   "outputs": [],
   "source": [
    "dis_z = [np.std(bb.response_at_freq2('z', drive_freq=71)) for bb in bdf_discharge]"
   ]
  },
  {
   "cell_type": "code",
   "execution_count": 74,
   "metadata": {},
   "outputs": [],
   "source": [
    "ch = [bb.electrode_channels[0] for bb in bdf_discharge]"
   ]
  },
  {
   "cell_type": "code",
   "execution_count": 29,
   "metadata": {},
   "outputs": [
    {
     "data": {
      "application/vnd.jupyter.widget-view+json": {
       "model_id": "2979cc68828f4e2ab4ea0bfcbb5ce130",
       "version_major": 2,
       "version_minor": 0
      },
      "text/plain": [
       "Canvas(toolbar=Toolbar(toolitems=[('Home', 'Reset original view', 'home', 'home'), ('Back', 'Back to previous …"
      ]
     },
     "metadata": {},
     "output_type": "display_data"
    },
    {
     "data": {
      "text/plain": [
       "<matplotlib.legend.Legend at 0x7f7e7790edd8>"
      ]
     },
     "execution_count": 29,
     "metadata": {},
     "output_type": "execute_result"
    }
   ],
   "source": [
    "_,ax = plt.subplots(figsize=(9.1,4))\n",
    "ax.scatter(range(len(dis_z)), dis_z/dis_z[0], label='std')\n",
    "ax.scatter(range(len(dis_z)), amps/amps[0], label='fit')\n",
    "ax.legend()"
   ]
  },
  {
   "cell_type": "code",
   "execution_count": 75,
   "metadata": {},
   "outputs": [],
   "source": [
    "bdf_discharge_z = [bb for bb,ch_ in zip(bdf_discharge, ch)  if ch_==1 ]\n",
    "bdf_discharge_x = [bb for bb,ch_ in zip(bdf_discharge, ch)  if ch_==4 ]"
   ]
  },
  {
   "cell_type": "code",
   "execution_count": 76,
   "metadata": {},
   "outputs": [],
   "source": [
    "index_z = [bb for bb,ch_ in zip(range(len(bdf_discharge)), ch)  if ch_==1 ]\n",
    "index_x = [bb for bb,ch_ in zip(range(len(bdf_discharge)), ch)  if ch_==4 ]"
   ]
  },
  {
   "cell_type": "code",
   "execution_count": 71,
   "metadata": {
    "scrolled": true
   },
   "outputs": [
    {
     "name": "stdout",
     "output_type": "stream",
     "text": [
      "***************************************************\n",
      "Z2-amplitude:  4.34e+02\n",
      "reduced chi2:  9.318084811908948\n",
      "***************************************************\n",
      "Z2-amplitude:  4.09e+02\n",
      "reduced chi2:  9.574709644861358\n",
      "***************************************************\n",
      "Z2-amplitude:  3.72e+02\n",
      "reduced chi2:  9.824914975818828\n",
      "***************************************************\n",
      "Z2-amplitude:  4.44e+02\n",
      "reduced chi2:  9.421113095866765\n",
      "***************************************************\n",
      "Z2-amplitude:  4.25e+02\n",
      "reduced chi2:  9.44492630131021\n",
      "***************************************************\n",
      "Z2-amplitude:  3.36e+02\n",
      "reduced chi2:  9.305279518412256\n",
      "***************************************************\n",
      "Z2-amplitude:  3.18e+02\n",
      "reduced chi2:  9.293684699273042\n",
      "***************************************************\n",
      "Z2-amplitude:  3.31e+02\n",
      "reduced chi2:  9.502907961635959\n",
      "***************************************************\n",
      "Z2-amplitude:  3.22e+02\n",
      "reduced chi2:  9.184956380784522\n",
      "***************************************************\n",
      "Z2-amplitude:  3.39e+02\n",
      "reduced chi2:  9.56971812058808\n",
      "***************************************************\n",
      "Z2-amplitude:  2.45e+02\n",
      "reduced chi2:  9.543441309725834\n",
      "***************************************************\n",
      "Z2-amplitude:  2.33e+02\n",
      "reduced chi2:  9.765014289628153\n",
      "***************************************************\n",
      "Z2-amplitude:  2.34e+02\n",
      "reduced chi2:  9.499395581004048\n",
      "***************************************************\n",
      "Z2-amplitude:  2.72e+02\n",
      "reduced chi2:  9.291161605712588\n",
      "***************************************************\n",
      "Z2-amplitude:  2.48e+02\n",
      "reduced chi2:  9.483294447621782\n",
      "***************************************************\n",
      "Z2-amplitude:  2.84e+02\n",
      "reduced chi2:  9.35183176815128\n",
      "***************************************************\n",
      "Z2-amplitude:  2.84e+02\n",
      "reduced chi2:  9.743792192700138\n",
      "***************************************************\n",
      "Z2-amplitude:  2.20e+02\n",
      "reduced chi2:  9.377869993693503\n",
      "***************************************************\n",
      "Z2-amplitude:  2.38e+02\n",
      "reduced chi2:  9.051447954814899\n",
      "***************************************************\n",
      "Z2-amplitude:  2.55e+02\n",
      "reduced chi2:  9.719378446153929\n",
      "***************************************************\n",
      "Z2-amplitude:  2.84e+02\n",
      "reduced chi2:  9.804684815879313\n",
      "***************************************************\n",
      "Z2-amplitude:  2.42e+02\n",
      "reduced chi2:  9.045208020470964\n",
      "***************************************************\n",
      "Z2-amplitude:  2.97e+02\n",
      "reduced chi2:  9.579657724476865\n",
      "***************************************************\n",
      "Z2-amplitude:  2.78e+02\n",
      "reduced chi2:  9.572132685622483\n",
      "***************************************************\n",
      "Z2-amplitude:  2.81e+02\n",
      "reduced chi2:  9.581563480371397\n",
      "***************************************************\n",
      "Z2-amplitude:  2.67e+02\n",
      "reduced chi2:  9.325882960933185\n",
      "***************************************************\n",
      "Z2-amplitude:  2.20e+02\n",
      "reduced chi2:  10.552200723221663\n",
      "***************************************************\n",
      "Z2-amplitude:  2.43e+02\n",
      "reduced chi2:  9.929262622148245\n",
      "***************************************************\n",
      "Z2-amplitude:  2.44e+02\n",
      "reduced chi2:  9.51458343933037\n",
      "***************************************************\n",
      "Z2-amplitude:  2.14e+02\n",
      "reduced chi2:  9.81192605185545\n",
      "***************************************************\n",
      "Z2-amplitude:  1.60e+02\n",
      "reduced chi2:  9.531191759726292\n",
      "***************************************************\n",
      "Z2-amplitude:  1.97e+02\n",
      "reduced chi2:  9.249538477992955\n",
      "***************************************************\n",
      "Z2-amplitude:  1.91e+02\n",
      "reduced chi2:  9.625444894211268\n",
      "***************************************************\n",
      "Z2-amplitude:  1.54e+02\n",
      "reduced chi2:  9.251717567345112\n",
      "***************************************************\n",
      "Z2-amplitude:  1.75e+02\n",
      "reduced chi2:  9.230697717508463\n",
      "***************************************************\n",
      "Z2-amplitude:  4.08e+00\n",
      "reduced chi2:  9.34472369933286\n",
      "***************************************************\n",
      "Z2-amplitude:  7.84e+00\n",
      "reduced chi2:  9.24610159491355\n",
      "***************************************************\n",
      "Z2-amplitude:  2.90e+00\n",
      "reduced chi2:  9.526305384966808\n",
      "***************************************************\n",
      "Z2-amplitude:  9.44e+00\n",
      "reduced chi2:  9.577628449836606\n",
      "***************************************************\n",
      "Z2-amplitude:  2.60e+00\n",
      "reduced chi2:  9.390930036781116\n",
      "***************************************************\n",
      "Z2-amplitude:  2.42e+02\n",
      "reduced chi2:  9.612538253252414\n",
      "***************************************************\n",
      "Z2-amplitude:  2.39e+02\n",
      "reduced chi2:  9.021894580354958\n",
      "***************************************************\n",
      "Z2-amplitude:  2.50e+02\n",
      "reduced chi2:  9.837728966241695\n",
      "***************************************************\n",
      "Z2-amplitude:  2.59e+02\n",
      "reduced chi2:  9.601258694083345\n",
      "***************************************************\n",
      "Z2-amplitude:  2.39e+02\n",
      "reduced chi2:  8.846511236929707\n",
      "***************************************************\n",
      "Z2-amplitude:  1.57e+02\n",
      "reduced chi2:  9.378211271633477\n",
      "***************************************************\n",
      "Z2-amplitude:  1.58e+02\n",
      "reduced chi2:  9.54761474772762\n",
      "***************************************************\n",
      "Z2-amplitude:  1.70e+02\n",
      "reduced chi2:  9.741116152647296\n",
      "***************************************************\n",
      "Z2-amplitude:  1.71e+02\n",
      "reduced chi2:  9.726902656962816\n",
      "***************************************************\n",
      "Z2-amplitude:  1.65e+02\n",
      "reduced chi2:  9.739680098776748\n",
      "***************************************************\n",
      "Z2-amplitude:  1.90e+02\n",
      "reduced chi2:  9.751414118867311\n",
      "***************************************************\n",
      "Z2-amplitude:  1.57e+02\n",
      "reduced chi2:  9.928411727600002\n",
      "***************************************************\n",
      "Z2-amplitude:  1.58e+02\n",
      "reduced chi2:  9.855934686889105\n",
      "***************************************************\n",
      "Z2-amplitude:  1.92e+02\n",
      "reduced chi2:  9.542209202453137\n",
      "***************************************************\n",
      "Z2-amplitude:  1.79e+02\n",
      "reduced chi2:  9.132825996904435\n",
      "***************************************************\n",
      "Z2-amplitude:  1.16e+02\n",
      "reduced chi2:  9.386427925392356\n",
      "***************************************************\n",
      "Z2-amplitude:  8.14e+01\n",
      "reduced chi2:  10.030789608743117\n",
      "***************************************************\n",
      "Z2-amplitude:  5.06e+01\n",
      "reduced chi2:  9.407635093415436\n",
      "***************************************************\n",
      "Z2-amplitude:  7.31e+01\n",
      "reduced chi2:  9.569335194622228\n",
      "***************************************************\n",
      "Z2-amplitude:  1.08e+02\n",
      "reduced chi2:  9.363167752828756\n",
      "***************************************************\n",
      "Z2-amplitude:  9.42e+01\n",
      "reduced chi2:  9.684374090824662\n",
      "***************************************************\n",
      "Z2-amplitude:  5.51e+01\n",
      "reduced chi2:  9.52433237849794\n",
      "***************************************************\n",
      "Z2-amplitude:  1.04e+02\n",
      "reduced chi2:  9.170531787847603\n",
      "***************************************************\n",
      "Z2-amplitude:  9.80e+01\n",
      "reduced chi2:  9.44992688285195\n",
      "***************************************************\n",
      "Z2-amplitude:  7.44e+01\n",
      "reduced chi2:  10.041693282562202\n",
      "***************************************************\n",
      "Z2-amplitude:  4.64e+01\n",
      "reduced chi2:  9.358804457738618\n",
      "***************************************************\n",
      "Z2-amplitude:  2.21e+01\n",
      "reduced chi2:  9.49592312483645\n",
      "***************************************************\n",
      "Z2-amplitude:  2.47e+01\n",
      "reduced chi2:  9.595671141134346\n",
      "***************************************************\n",
      "Z2-amplitude:  2.45e+01\n",
      "reduced chi2:  9.806809114982764\n",
      "***************************************************\n",
      "Z2-amplitude:  1.16e+01\n",
      "reduced chi2:  9.64422460124248\n",
      "Z2 response (amplitude): 191.4833202071878\n"
     ]
    }
   ],
   "source": [
    "m1 = gfw.build_z_response(bdf_discharge, drive_freq=71, charges=1, bandwidth=2, decimate=10, include_sigma=True, bimodal=False)"
   ]
  },
  {
   "cell_type": "code",
   "execution_count": 15,
   "metadata": {
    "scrolled": true
   },
   "outputs": [
    {
     "name": "stdout",
     "output_type": "stream",
     "text": [
      "***************************************************\n",
      "X2-amplitude:  1.22e+01\n",
      "reduced chi2:  1.5077204319970472\n",
      "***************************************************\n",
      "X2-amplitude:  1.22e+01\n",
      "reduced chi2:  1.6561307426139402\n",
      "***************************************************\n",
      "X2-amplitude:  1.23e+01\n",
      "reduced chi2:  1.2313121190426974\n",
      "***************************************************\n",
      "X2-amplitude:  1.22e+01\n",
      "reduced chi2:  1.16464891136188\n",
      "***************************************************\n",
      "X2-amplitude:  1.21e+01\n",
      "reduced chi2:  1.2168587862400966\n",
      "***************************************************\n",
      "X2-amplitude:  1.22e+01\n",
      "reduced chi2:  1.2696742562620946\n",
      "***************************************************\n",
      "X2-amplitude:  1.23e+01\n",
      "reduced chi2:  1.458111243801847\n",
      "***************************************************\n",
      "X2-amplitude:  1.23e+01\n",
      "reduced chi2:  1.2708153177285613\n",
      "***************************************************\n",
      "X2-amplitude:  1.22e+01\n",
      "reduced chi2:  1.4039743199327412\n",
      "***************************************************\n",
      "X2-amplitude:  1.22e+01\n",
      "reduced chi2:  1.525153617586847\n",
      "***************************************************\n",
      "X2-amplitude:  1.05e+01\n",
      "reduced chi2:  1.1440571047175594\n",
      "***************************************************\n",
      "X2-amplitude:  1.06e+01\n",
      "reduced chi2:  1.0885389056712558\n",
      "***************************************************\n",
      "X2-amplitude:  1.06e+01\n",
      "reduced chi2:  1.1312604841331202\n",
      "***************************************************\n",
      "X2-amplitude:  1.05e+01\n",
      "reduced chi2:  1.0305679507332144\n",
      "***************************************************\n",
      "X2-amplitude:  1.06e+01\n",
      "reduced chi2:  1.0463703053093947\n",
      "***************************************************\n",
      "X2-amplitude:  9.79e+00\n",
      "reduced chi2:  1.1066244231737932\n",
      "***************************************************\n",
      "X2-amplitude:  9.89e+00\n",
      "reduced chi2:  0.991855957822837\n",
      "***************************************************\n",
      "X2-amplitude:  9.67e+00\n",
      "reduced chi2:  0.8249699573624505\n",
      "***************************************************\n",
      "X2-amplitude:  9.81e+00\n",
      "reduced chi2:  0.8997933628614184\n",
      "***************************************************\n",
      "X2-amplitude:  9.82e+00\n",
      "reduced chi2:  0.7946482834113322\n",
      "***************************************************\n",
      "X2-amplitude:  8.98e+00\n",
      "reduced chi2:  0.6979381108004898\n",
      "***************************************************\n",
      "X2-amplitude:  8.95e+00\n",
      "reduced chi2:  0.8787075812821716\n",
      "***************************************************\n",
      "X2-amplitude:  8.98e+00\n",
      "reduced chi2:  0.7789841208103151\n",
      "***************************************************\n",
      "X2-amplitude:  8.99e+00\n",
      "reduced chi2:  0.7458294886179487\n",
      "***************************************************\n",
      "X2-amplitude:  9.05e+00\n",
      "reduced chi2:  0.8447501749664127\n",
      "***************************************************\n",
      "X2-amplitude:  7.40e+00\n",
      "reduced chi2:  0.6888437668593086\n",
      "***************************************************\n",
      "X2-amplitude:  8.41e+00\n",
      "reduced chi2:  4.245718914590765\n",
      "***************************************************\n",
      "X2-amplitude:  8.62e+00\n",
      "reduced chi2:  7.217641459553545\n",
      "***************************************************\n",
      "X2-amplitude:  1.03e+01\n",
      "reduced chi2:  7.707717731868036\n",
      "***************************************************\n",
      "X2-amplitude:  9.81e+00\n",
      "reduced chi2:  5.6213547462964435\n",
      "***************************************************\n",
      "X2-amplitude:  6.25e+00\n",
      "reduced chi2:  9.105328092590772\n",
      "***************************************************\n",
      "X2-amplitude:  4.15e+00\n",
      "reduced chi2:  5.228968311989376\n",
      "***************************************************\n",
      "X2-amplitude:  4.08e+00\n",
      "reduced chi2:  4.844161228256838\n",
      "***************************************************\n",
      "X2-amplitude:  5.37e+00\n",
      "reduced chi2:  5.457173659312002\n",
      "***************************************************\n",
      "X2-amplitude:  7.68e+00\n",
      "reduced chi2:  6.655676928320853\n",
      "***************************************************\n",
      "X2-amplitude:  4.12e+00\n",
      "reduced chi2:  0.18168338031953185\n",
      "***************************************************\n",
      "X2-amplitude:  3.96e+00\n",
      "reduced chi2:  0.16046803425845296\n",
      "***************************************************\n",
      "X2-amplitude:  4.07e+00\n",
      "reduced chi2:  0.14099870734455905\n",
      "***************************************************\n",
      "X2-amplitude:  4.02e+00\n",
      "reduced chi2:  0.16253243223357014\n",
      "***************************************************\n",
      "X2-amplitude:  4.09e+00\n",
      "reduced chi2:  0.20479892073392297\n",
      "***************************************************\n",
      "X2-amplitude:  3.23e+00\n",
      "reduced chi2:  0.12261381785794696\n",
      "***************************************************\n",
      "X2-amplitude:  3.33e+00\n",
      "reduced chi2:  0.1825885671412315\n",
      "***************************************************\n",
      "X2-amplitude:  3.31e+00\n",
      "reduced chi2:  0.10920698546546513\n",
      "***************************************************\n",
      "X2-amplitude:  3.25e+00\n",
      "reduced chi2:  0.11260675099045096\n",
      "***************************************************\n",
      "X2-amplitude:  3.24e+00\n",
      "reduced chi2:  0.15114936016803948\n",
      "***************************************************\n",
      "X2-amplitude:  2.60e+00\n",
      "reduced chi2:  0.1315684419225276\n",
      "***************************************************\n",
      "X2-amplitude:  2.44e+00\n",
      "reduced chi2:  0.10903317055976645\n",
      "***************************************************\n",
      "X2-amplitude:  2.38e+00\n",
      "reduced chi2:  0.0583381296566374\n",
      "***************************************************\n",
      "X2-amplitude:  2.52e+00\n",
      "reduced chi2:  0.07532079771701763\n",
      "***************************************************\n",
      "X2-amplitude:  2.35e+00\n",
      "reduced chi2:  0.11893229265281859\n",
      "***************************************************\n",
      "X2-amplitude:  3.49e+00\n",
      "reduced chi2:  11.812108861040088\n",
      "***************************************************\n",
      "X2-amplitude:  4.97e+00\n",
      "reduced chi2:  8.454997820515338\n",
      "***************************************************\n",
      "X2-amplitude:  3.40e+00\n",
      "reduced chi2:  5.049772340032564\n",
      "***************************************************\n",
      "X2-amplitude:  6.76e+00\n",
      "reduced chi2:  6.079543094675299\n",
      "***************************************************\n",
      "X2-amplitude:  5.71e+00\n",
      "reduced chi2:  16.53178911071402\n",
      "***************************************************\n",
      "X2-amplitude:  2.50e+00\n",
      "reduced chi2:  0.10765460729612583\n",
      "***************************************************\n",
      "X2-amplitude:  2.54e+00\n",
      "reduced chi2:  0.12381333989639369\n",
      "***************************************************\n",
      "X2-amplitude:  2.44e+00\n",
      "reduced chi2:  0.09600796700160451\n",
      "***************************************************\n",
      "X2-amplitude:  2.49e+00\n",
      "reduced chi2:  0.08797950691188987\n",
      "***************************************************\n",
      "X2-amplitude:  2.35e+00\n",
      "reduced chi2:  0.06589940511427257\n",
      "***************************************************\n",
      "X2-amplitude:  1.40e+00\n",
      "reduced chi2:  0.20551986836510008\n",
      "***************************************************\n",
      "X2-amplitude:  1.52e+00\n",
      "reduced chi2:  1.5312793979725436\n",
      "***************************************************\n",
      "X2-amplitude:  4.78e+00\n",
      "reduced chi2:  8.681514336026593\n",
      "***************************************************\n",
      "X2-amplitude:  3.08e+00\n",
      "reduced chi2:  5.973730135215721\n",
      "***************************************************\n",
      "X2-amplitude:  2.37e+00\n",
      "reduced chi2:  5.677498909234125\n",
      "X3 to X2 ratio: 0.21\n",
      "X2 response (amplitude): -6.763877258009717\n",
      "X2 response (amplitude): -6.763877258009717\n"
     ]
    }
   ],
   "source": [
    "m2 = gfw.build_x_response(bdf_discharge_x, drive_freq=71, charges=1, bandwidth=1)"
   ]
  },
  {
   "cell_type": "code",
   "execution_count": 77,
   "metadata": {},
   "outputs": [],
   "source": [
    "dis_x = [np.std(bb.response_at_freq('x', drive_freq=71)) for bb in bdf_discharge_x]\n",
    "dis_z = [np.std(bb.response_at_freq2('z', drive_freq=71)) for bb in bdf_discharge]"
   ]
  },
  {
   "cell_type": "code",
   "execution_count": 72,
   "metadata": {},
   "outputs": [
    {
     "data": {
      "application/vnd.jupyter.widget-view+json": {
       "model_id": "1a357416a9db4e4f8c707ac16eed463c",
       "version_major": 2,
       "version_minor": 0
      },
      "text/plain": [
       "Canvas(toolbar=Toolbar(toolitems=[('Home', 'Reset original view', 'home', 'home'), ('Back', 'Back to previous …"
      ]
     },
     "metadata": {},
     "output_type": "display_data"
    },
    {
     "data": {
      "text/plain": [
       "71.74075198338863"
      ]
     },
     "execution_count": 72,
     "metadata": {},
     "output_type": "execute_result"
    }
   ],
   "source": [
    "amps = np.array([m_.values[0] for m_ in m1])\n",
    "phases = np.array([m_.values[3] for m_ in m1])\n",
    "_, ax = plt.subplots(1,2,figsize=(9.1,4))\n",
    "ax[0].scatter(range(len(amps)), amps)\n",
    "ax[1].scatter(range(len(amps)), phases)\n",
    "np.mean(phases[20:50])"
   ]
  },
  {
   "cell_type": "code",
   "execution_count": 80,
   "metadata": {},
   "outputs": [
    {
     "data": {
      "application/vnd.jupyter.widget-view+json": {
       "model_id": "c2e80fb0b7c94286b7911fcf218491e1",
       "version_major": 2,
       "version_minor": 0
      },
      "text/plain": [
       "Canvas(toolbar=Toolbar(toolitems=[('Home', 'Reset original view', 'home', 'home'), ('Back', 'Back to previous …"
      ]
     },
     "metadata": {},
     "output_type": "display_data"
    }
   ],
   "source": [
    "_,ax = plt.subplots(figsize=(9.5,4))\n",
    "scale = 81\n",
    "scale2 = 50\n",
    "scaleX = -0.8\n",
    "scaleX2 = 9200\n",
    "\n",
    "# Perrinf\n",
    "ax.scatter(np.arange(len(amps)), amps/scale, label='fit fixed-phase')\n",
    "# ax.scatter(range(len(dis_z)), np.array(dis_z)/scale2, label='Z response')\n",
    "# ax.scatter(range(len(dis_z)), np.array(dis_z)/scale2, label='Z response')\n",
    "# ax.scatter(index_x, ampsx/scaleX, label='X response')\n",
    "ax.scatter(index_x, np.array(dis_x)/scaleX2, label='X-pos fit fixed-phases')\n",
    "ax.scatter(np.arange(len(amps)), ch, label='channel')\n",
    "\n",
    "ax.legend()\n",
    "ax.set(xlabel='dataset', ylabel='Charges', ylim=(None,None), xlim=(None,None))\n",
    "ax.grid(axis='y')\n",
    "ax.minorticks_on()\n",
    "ax.grid(which='major', linestyle='-', linewidth='0.5', color='red')\n",
    "ax.grid(which='minor', linestyle=':', linewidth='0.5', color='black')\n",
    "ax.legend()\n",
    "from matplotlib.ticker import MaxNLocator\n",
    "ax.yaxis.set_major_locator(MaxNLocator(integer=True))"
   ]
  },
  {
   "cell_type": "markdown",
   "metadata": {},
   "source": [
    "## TF"
   ]
  },
  {
   "cell_type": "code",
   "execution_count": 15,
   "metadata": {},
   "outputs": [
    {
     "name": "stdout",
     "output_type": "stream",
     "text": [
      "No height data\n",
      "No cantilever data\n",
      "Error loading spinning data\n",
      "No laser power data\n",
      "No height data\n",
      "No cantilever data\n",
      "Error loading spinning data\n",
      "No laser power data\n",
      "No height data\n",
      "No cantilever data\n",
      "Error loading spinning data\n",
      "No laser power data\n"
     ]
    }
   ],
   "source": [
    "# 7.6um German bead\n",
    "fname = r'/home/data_transfer/data_from_windows/20200921/Bead1/TransFunc/TransFuncX2_1Hz_300s.h5'\n",
    "tf_x = BeadDataFile.BeadDataFile(fname=fname)\n",
    "fname = r'/home/data_transfer/data_from_windows/20200921/Bead1/TransFunc/TransFuncY1_1Hz_100s.h5'\n",
    "tf_y = BeadDataFile.BeadDataFile(fname=fname)\n",
    "fname = r'/home/data_transfer/data_from_windows/20200921/Bead1/TransFunc/TransFuncZ2_1Hz_300s.h5'\n",
    "tf_z = BeadDataFile.BeadDataFile(fname=fname)\n",
    "tf_list = [tf_x, tf_y, tf_z]"
   ]
  },
  {
   "cell_type": "code",
   "execution_count": 8,
   "metadata": {},
   "outputs": [
    {
     "data": {
      "application/vnd.jupyter.widget-view+json": {
       "model_id": "db42f12ea33047c4b62e3c2445085be9",
       "version_major": 2,
       "version_minor": 0
      },
      "text/plain": [
       "Canvas(toolbar=Toolbar(toolitems=[('Home', 'Reset original view', 'home', 'home'), ('Back', 'Back to previous …"
      ]
     },
     "metadata": {},
     "output_type": "display_data"
    },
    {
     "data": {
      "text/plain": [
       "[[(0.0, 100.0)], [(0.0, 100.0)], [(0.0, 100.0)]]"
      ]
     },
     "execution_count": 8,
     "metadata": {},
     "output_type": "execute_result"
    }
   ],
   "source": [
    "_,ax = plt.subplots(1,3, figsize=(9,3))\n",
    "bb = tf_z\n",
    "ax[0].semilogy(*bb.psd2('x'))\n",
    "ax[1].semilogy(*bb.psd2('y'))\n",
    "ax[2].semilogy(*bb.psd2('z'))\n",
    "[a.set(xlim=(0,100)) for a in ax]"
   ]
  },
  {
   "cell_type": "code",
   "execution_count": 50,
   "metadata": {},
   "outputs": [
    {
     "name": "stdout",
     "output_type": "stream",
     "text": [
      "No height data\n",
      "No cantilever data\n",
      "Error loading spinning data\n",
      "No laser power data\n",
      "No height data\n",
      "No cantilever data\n",
      "Error loading spinning data\n",
      "No laser power data\n",
      "No height data\n",
      "No cantilever data\n",
      "Error loading spinning data\n",
      "No laser power data\n",
      "No height data\n",
      "No cantilever data\n",
      "Error loading spinning data\n",
      "No laser power data\n"
     ]
    }
   ],
   "source": [
    "names = ['Y2', 'Y3', 'Y4', 'Y5', 'Y6', 'Y7', 'Y8', 'Y9']\n",
    "names = ['Y7', 'Y8', 'Y9', 'Y11']\n",
    "fnames = [r'/home/data_transfer/data_from_windows/20200921/Bead1/TransFunc/TransFunc'+y_+'_7Hz_10s.h5' for y_ in names]\n",
    "bbs = [BeadDataFile.BeadDataFile(fname_) for fname_ in fnames]"
   ]
  },
  {
   "cell_type": "code",
   "execution_count": 56,
   "metadata": {},
   "outputs": [
    {
     "data": {
      "application/vnd.jupyter.widget-view+json": {
       "model_id": "3626bd4e48d946e4abd35ecae63d869e",
       "version_major": 2,
       "version_minor": 0
      },
      "text/plain": [
       "Canvas(toolbar=Toolbar(toolitems=[('Home', 'Reset original view', 'home', 'home'), ('Back', 'Back to previous …"
      ]
     },
     "metadata": {},
     "output_type": "display_data"
    },
    {
     "data": {
      "text/plain": [
       "array([2.06282349])"
      ]
     },
     "execution_count": 56,
     "metadata": {},
     "output_type": "execute_result"
    }
   ],
   "source": [
    "_,ax = plt.subplots()\n",
    "[ax.semilogy(*bb.psd2('y'), label=name_) for bb,name_ in zip(bbs,names)]\n",
    "ax.legend()\n",
    "ax.set(xlim=(100,1000))\n",
    "tmp_freq, tmp_psd = bbs[-1].psd2('x')\n",
    "np.sqrt(tmp_psd[tmp_freq==71]/tmp_psd[tmp_freq==50])"
   ]
  },
  {
   "cell_type": "markdown",
   "metadata": {},
   "source": [
    "## Nois floor"
   ]
  },
  {
   "cell_type": "code",
   "execution_count": 7,
   "metadata": {},
   "outputs": [],
   "source": [
    "bdf_z = bdf_discharge[40:45]\n",
    "bdf_x = bdf_discharge[30:35]\n",
    "\n",
    "freq = bdf_z[0].psd2('z')[0]\n",
    "z_scale1 = bdf_z[0].psd2('z')[1][freq==71]\n",
    "for bb in bdf_z:\n",
    "    z_scale1 += bb.psd2('z')[1][freq==71]\n",
    "z_scale1 /= len(bdf_z)\n",
    "\n",
    "x_scale1 = bdf_x[0].psd2('x')[1][freq==71]\n",
    "for bb in bdf_x:\n",
    "    x_scale1 += bb.psd2('x')[1][freq==71]\n",
    "x_scale1 /= len(bdf_x)\n",
    "\n",
    "charges = 3\n",
    "force = charges * 1.6e-19 * 20 / 8.6e-3 * 0.63 * np.sqrt(10) # in Newtons/sqrt(Hz)\n",
    "z_scale1 = force/np.sqrt(z_scale1)\n",
    "x_scale1 = force/np.sqrt(x_scale1)"
   ]
  },
  {
   "cell_type": "code",
   "execution_count": 8,
   "metadata": {},
   "outputs": [],
   "source": [
    "del bdf_discharge"
   ]
  },
  {
   "cell_type": "code",
   "execution_count": 91,
   "metadata": {},
   "outputs": [
    {
     "name": "stdout",
     "output_type": "stream",
     "text": [
      "157  files in folder\n",
      "100  files loaded\n"
     ]
    }
   ],
   "source": [
    "## 100 files of shaking data for nose floor\n",
    "num_files = 100\n",
    "data_bdfs = load_dir(dirname='/data/new_trap/20200924/Bead1/Shaking/Shaking345/',\n",
    "                         file_prefix='SpinShaking2_', start_file=0, max_file=num_files)\n",
    "freq = data_bdfs[0].psd2('x')[0]\n",
    "fftx1 = data_bdfs[0].psd2('x')[1]\n",
    "ffty1 = data_bdfs[0].psd2('y')[1]\n",
    "fftz1 = data_bdfs[0].psd2('z')[1]\n",
    "for i in range(1,num_files):\n",
    "    fftx1 += data_bdfs[i].psd2('x')[1]\n",
    "    fftz1 += data_bdfs[i].psd2('z')[1]\n",
    "    ffty1 += data_bdfs[i].psd2('y')[1]\n",
    "fftx1/=num_files\n",
    "ffty1/=num_files\n",
    "fftz1/=num_files"
   ]
  },
  {
   "cell_type": "code",
   "execution_count": 92,
   "metadata": {},
   "outputs": [
    {
     "data": {
      "application/vnd.jupyter.widget-view+json": {
       "model_id": "75ac3d0c0fb54fa3b57582c63c7bd93a",
       "version_major": 2,
       "version_minor": 0
      },
      "text/plain": [
       "Canvas(toolbar=Toolbar(toolitems=[('Home', 'Reset original view', 'home', 'home'), ('Back', 'Back to previous …"
      ]
     },
     "metadata": {},
     "output_type": "display_data"
    }
   ],
   "source": [
    "_,ax = plt.subplots(1,2,figsize=(9.1,4), sharex=True)\n",
    "# tf_freq = np.interp(freq, gfw.tf_freq, gfw.tf_ffts[2])\n",
    "ax[0].semilogy(freq, np.sqrt(fftx)*x_scale1, label='Spin')\n",
    "ax[0].semilogy(freq, np.sqrt(fftx1)*x_scale1, label='Ringdown', alpha=0.6)\n",
    "ax[1].semilogy(freq, np.sqrt(fftz)*z_scale1, label='Spin')\n",
    "ax[1].semilogy(freq, np.sqrt(fftz1)*z_scale1, label='Ringdown', alpha=0.6)\n",
    "[a.legend() for a in ax]\n",
    "ax[0].set(xlim=(1,50), ylim=(9e-18,1e-14), xlabel='Frequency [Hz.]', ylabel=r'ASD [N/$\\sqrt{Hz}$]', title='X force')\n",
    "_ = ax[1].set(xlim=(1,50), ylim=(9e-18,1e-14), xlabel='Frequency [Hz.]', title=r'Z force')\n",
    "# print(np.sqrt(fftx1[freq==18])*x_scale/np.sqrt(10), np.sqrt(fftz1[freq==18])*z_scale/np.sqrt(10))"
   ]
  },
  {
   "cell_type": "code",
   "execution_count": 63,
   "metadata": {},
   "outputs": [
    {
     "name": "stdout",
     "output_type": "stream",
     "text": [
      "2000  files in folder\n",
      "100  files loaded\n"
     ]
    },
    {
     "data": {
      "application/vnd.jupyter.widget-view+json": {
       "model_id": "ce000cbe9ccf466e9c3f3f13de41fd48",
       "version_major": 2,
       "version_minor": 0
      },
      "text/plain": [
       "Canvas(toolbar=Toolbar(toolitems=[('Home', 'Reset original view', 'home', 'home'), ('Back', 'Back to previous …"
      ]
     },
     "metadata": {},
     "output_type": "display_data"
    },
    {
     "data": {
      "text/plain": [
       "[(1.0, 5000.0)]"
      ]
     },
     "execution_count": 63,
     "metadata": {},
     "output_type": "execute_result"
    }
   ],
   "source": [
    "## 100 files of shaking data for nose floor\n",
    "num_files = 100\n",
    "data_bdfs = load_dir(dirname='/data/new_trap/20200924/Bead1/Shaking/Shaking340/',\n",
    "                         file_prefix='NoSpinNoShaking0_', start_file=500, max_file=num_files)\n",
    "bb = data_bdfs[0]\n",
    "freq = np.fft.rfftfreq(len(bb.spin_data[0]), d=1./5000/40)\n",
    "fft11 = np.abs(np.fft.rfft(bb.spin_data[0]))**2\n",
    "for i in range(1,num_files):\n",
    "    fft11 += np.abs(np.fft.rfft(data_bdfs[i].spin_data[0]))**2\n",
    "fft11/=num_files\n",
    "\n",
    "_,ax = plt.subplots()\n",
    "ax.semilogy(freq, fft)\n",
    "ax.semilogy(freq, fft11)\n",
    "ax.set(xlim=(1,5000))"
   ]
  },
  {
   "cell_type": "code",
   "execution_count": 87,
   "metadata": {},
   "outputs": [],
   "source": [
    "def func1_height(i):\n",
    "    print(i,'  ******************')\n",
    "    fname = r'/data/new_trap/20200924/Bead1/Shaking/Shaking345/SpinShaking0_'+str(i)+'.h5'\n",
    "    bb = BeadDataFile.BeadDataFile(fname=fname)\n",
    "    return np.mean(bb.bead_height)"
   ]
  },
  {
   "cell_type": "code",
   "execution_count": 88,
   "metadata": {},
   "outputs": [
    {
     "name": "stdout",
     "output_type": "stream",
     "text": [
      "101   ******************\n"
     ]
    },
    {
     "data": {
      "text/plain": [
       "180.12130227424302"
      ]
     },
     "execution_count": 88,
     "metadata": {},
     "output_type": "execute_result"
    }
   ],
   "source": [
    "func1_height(101)"
   ]
  },
  {
   "cell_type": "code",
   "execution_count": 77,
   "metadata": {
    "scrolled": true
   },
   "outputs": [
    {
     "name": "stderr",
     "output_type": "stream",
     "text": [
      "100%|██████████| 2500/2500 [00:09<00:00, 257.42it/s]\n"
     ]
    }
   ],
   "source": [
    "from joblib import Parallel, delayed\n",
    "from tqdm import tqdm\n",
    "test1_zfb = Parallel(n_jobs=20)(delayed(func1_height)(i) for i in tqdm(range(2500)))"
   ]
  },
  {
   "cell_type": "code",
   "execution_count": 79,
   "metadata": {},
   "outputs": [
    {
     "data": {
      "application/vnd.jupyter.widget-view+json": {
       "model_id": "cb8e4f51dc4a4fc886b5fee119819404",
       "version_major": 2,
       "version_minor": 0
      },
      "text/plain": [
       "Canvas(toolbar=Toolbar(toolitems=[('Home', 'Reset original view', 'home', 'home'), ('Back', 'Back to previous …"
      ]
     },
     "metadata": {},
     "output_type": "display_data"
    },
    {
     "data": {
      "text/plain": [
       "<matplotlib.collections.PathCollection at 0x7f2b732ce780>"
      ]
     },
     "execution_count": 79,
     "metadata": {},
     "output_type": "execute_result"
    }
   ],
   "source": [
    "_,ax = plt.subplots(figsize=(9.2,4))\n",
    "ax.scatter(range(2500), test1_zfb)"
   ]
  },
  {
   "cell_type": "code",
   "execution_count": 17,
   "metadata": {},
   "outputs": [],
   "source": [
    "i = 1400\n",
    "fname = r'/data/new_trap/20200921/Bead1/Discharge/HeightControl2/Discharge_'+str(i)+'.h5'\n",
    "bb = BeadDataFile.BeadDataFile(fname=fname)"
   ]
  },
  {
   "cell_type": "code",
   "execution_count": 18,
   "metadata": {},
   "outputs": [],
   "source": [
    "f = h5py.File(fname,'r')\n",
    "pos_data = np.array(f['pos_data'])\n",
    "quad_data = np.array(f['quad_data'])"
   ]
  },
  {
   "cell_type": "code",
   "execution_count": 20,
   "metadata": {},
   "outputs": [],
   "source": [
    "sync = pos_data.reshape(-1,11).T[5]"
   ]
  },
  {
   "cell_type": "code",
   "execution_count": 21,
   "metadata": {},
   "outputs": [
    {
     "data": {
      "application/vnd.jupyter.widget-view+json": {
       "model_id": "5e64824c848644aa963a0f90ffa4d4ae",
       "version_major": 2,
       "version_minor": 0
      },
      "text/plain": [
       "Canvas(toolbar=Toolbar(toolitems=[('Home', 'Reset original view', 'home', 'home'), ('Back', 'Back to previous …"
      ]
     },
     "metadata": {},
     "output_type": "display_data"
    },
    {
     "data": {
      "text/plain": [
       "[<matplotlib.lines.Line2D at 0x7fec8021be48>]"
      ]
     },
     "execution_count": 21,
     "metadata": {},
     "output_type": "execute_result"
    }
   ],
   "source": [
    "_,ax = plt.subplots(figsize=(9.5,4))\n",
    "ax.plot(range(500), sync[:500]/100)"
   ]
  },
  {
   "cell_type": "code",
   "execution_count": 62,
   "metadata": {},
   "outputs": [],
   "source": [
    "i_start = np.nonzero(sync[:500])[0][0]\n",
    "zfb = bb.feedback[2][i_start-1:]\n",
    "x_sync = bb.xyz[0][i_start-1:]"
   ]
  },
  {
   "cell_type": "code",
   "execution_count": 65,
   "metadata": {},
   "outputs": [
    {
     "data": {
      "application/vnd.jupyter.widget-view+json": {
       "model_id": "9d505f9c27104564bdd4d2c1e4cfa868",
       "version_major": 2,
       "version_minor": 0
      },
      "text/plain": [
       "Canvas(toolbar=Toolbar(toolitems=[('Home', 'Reset original view', 'home', 'home'), ('Back', 'Back to previous …"
      ]
     },
     "metadata": {},
     "output_type": "display_data"
    },
    {
     "data": {
      "text/plain": [
       "<matplotlib.legend.Legend at 0x7febd4606908>"
      ]
     },
     "execution_count": 65,
     "metadata": {},
     "output_type": "execute_result"
    }
   ],
   "source": [
    "_,ax = plt.subplots(figsize=(9.2,4))\n",
    "ax.plot(range(40000), zfb[100000:140000]/np.mean(zfb[:40000]), label='z_fb')\n",
    "ax.plot(range(40000), bb.z2[100000:140000]/np.mean(bb.z2[:40000])*50-49, 'r--',label='z', alpha=(0.5))\n",
    "ax.plot(range(40000), bb.Iz[100000:140000]/np.mean(bb.Iz[:40000])*50-49,label='Iz', alpha=(0.5))\n",
    "ax.legend()"
   ]
  },
  {
   "cell_type": "code",
   "execution_count": 58,
   "metadata": {},
   "outputs": [
    {
     "data": {
      "application/vnd.jupyter.widget-view+json": {
       "model_id": "f806c52dc09547d4b32968fe8da36c8d",
       "version_major": 2,
       "version_minor": 0
      },
      "text/plain": [
       "Canvas(toolbar=Toolbar(toolitems=[('Home', 'Reset original view', 'home', 'home'), ('Back', 'Back to previous …"
      ]
     },
     "metadata": {},
     "output_type": "display_data"
    },
    {
     "data": {
      "text/plain": [
       "<matplotlib.legend.Legend at 0x7febd6a552b0>"
      ]
     },
     "execution_count": 58,
     "metadata": {},
     "output_type": "execute_result"
    }
   ],
   "source": [
    "_,ax = plt.subplots(figsize=(9.2,4))\n",
    "# ax.plot(range(40000), x_sync[:40000]/np.mean(x_sync[:40000]), label='z_fb')\n",
    "ax.plot(range(40000), bb.z2[100000:140000]/np.mean(bb.z2[:40000]), 'r--',label='Iz', alpha=(0.5))\n",
    "ax.legend()"
   ]
  },
  {
   "cell_type": "code",
   "execution_count": null,
   "metadata": {},
   "outputs": [],
   "source": []
  },
  {
   "cell_type": "markdown",
   "metadata": {},
   "source": [
    "### Scan Y"
   ]
  },
  {
   "cell_type": "code",
   "execution_count": 16,
   "metadata": {},
   "outputs": [
    {
     "data": {
      "text/plain": [
       "(176.17207316774534, 207.86780005340114)"
      ]
     },
     "execution_count": 16,
     "metadata": {},
     "output_type": "execute_result"
    }
   ],
   "source": [
    "i = 10\n",
    "fname = r'/data/new_trap/20200924/Bead1/Shaking/Shaking345/NoSpinShaking0_'+str(i)+'.h5'\n",
    "bb = BeadDataFile.BeadDataFile(fname=fname)\n",
    "bb.bead_height, np.mean(bb.cant_pos[1])*50"
   ]
  },
  {
   "cell_type": "code",
   "execution_count": 11,
   "metadata": {},
   "outputs": [
    {
     "data": {
      "text/plain": [
       "39.91469808346223"
      ]
     },
     "execution_count": 11,
     "metadata": {},
     "output_type": "execute_result"
    }
   ],
   "source": [
    "385.2-np.mean(bb.cant_pos[0])*50-7.6/2+1"
   ]
  },
  {
   "cell_type": "code",
   "execution_count": 28,
   "metadata": {},
   "outputs": [
    {
     "data": {
      "text/plain": [
       "(-14.11780005340114, 231.25)"
      ]
     },
     "execution_count": 28,
     "metadata": {},
     "output_type": "execute_result"
    }
   ],
   "source": [
    "431.25-25*9.5-np.mean(bb.cant_pos[1])*50, 431.25-25*8"
   ]
  },
  {
   "cell_type": "code",
   "execution_count": 8,
   "metadata": {},
   "outputs": [],
   "source": [
    "def getY_scanY(i):\n",
    "    print(i,'  ******************')\n",
    "    fname = r'/data/new_trap/20200924/Bead1/Shaking/PatchCharges_345/SpinShaking0_'+str(i)+'.h5'\n",
    "    bb = BeadDataFile.BeadDataFile(fname=fname)\n",
    "    return np.mean(bb.cant_pos[1])*50"
   ]
  },
  {
   "cell_type": "code",
   "execution_count": 30,
   "metadata": {},
   "outputs": [],
   "source": [
    "def getAmp_scanY(i):\n",
    "    print(i,'  ******************')\n",
    "#     fname = r'/data/new_trap/20200924/Bead1/Shaking/PatchCharges_345/SpinShaking0_'+str(i)+'.h5'\n",
    "    fname = r'/data/new_trap/20200924/Bead1/Shaking/Shaking345/SpinShaking0_'+str(i)+'.h5'\n",
    "\n",
    "    bb = BeadDataFile.BeadDataFile(fname=fname)\n",
    "    freq_, fft_ = bb.psd2('x')\n",
    "    return [fft_[freq==harm*3] for harm in range(1,14)]"
   ]
  },
  {
   "cell_type": "code",
   "execution_count": 418,
   "metadata": {},
   "outputs": [],
   "source": [
    "def getHeight_scanY(i):\n",
    "    print(i,'  ******************')\n",
    "    fname = r'/data/new_trap/20200924/Bead1/Shaking/PatchCharges_345/SpinShaking0_'+str(i)+'.h5'\n",
    "#     fname = r'/data/new_trap/20200924/Bead1/Shaking/Shaking345/SpinShaking0_'+str(i)+'.h5'\n",
    "#     fname = r'/data/new_trap/20200924/Bead1/Shaking/Shaking345/SpinNoShaking0_'+str(i)+'.h5'\n",
    "\n",
    "    bb = BeadDataFile.BeadDataFile(fname=fname)\n",
    "    return np.mean(bb.y2)"
   ]
  },
  {
   "cell_type": "code",
   "execution_count": 307,
   "metadata": {},
   "outputs": [
    {
     "name": "stdout",
     "output_type": "stream",
     "text": [
      "500   ******************\n"
     ]
    },
    {
     "data": {
      "text/plain": [
       "180.36127286527625"
      ]
     },
     "execution_count": 307,
     "metadata": {},
     "output_type": "execute_result"
    }
   ],
   "source": [
    "getHeight_scanY(500)"
   ]
  },
  {
   "cell_type": "code",
   "execution_count": 21,
   "metadata": {},
   "outputs": [],
   "source": [
    "def getPhase_scanY(i):\n",
    "    print(i,'  ******************')\n",
    "#     fname = r'/data/new_trap/20200924/Bead1/Shaking/PatchCharges_345/NoSpinShaking0_'+str(i)+'.h5'\n",
    "    fname = r'/data/new_trap/20200924/Bead1/Shaking/Shaking345/SpinShaking0_'+str(i)+'.h5'\n",
    "    bb = BeadDataFile.BeadDataFile(fname=fname)\n",
    "#     freq_, fft_ = bb.psd2('x')\n",
    "    x = bb.x2\n",
    "    fft_ = np.fft.rfft(x,norm='ortho')\n",
    "    freq_ = np.fft.rfftfreq(len(x), d=1./5000)\n",
    "    return [np.angle(fft_[freq==harm*3]) for harm in range(1,14)]"
   ]
  },
  {
   "cell_type": "code",
   "execution_count": 10,
   "metadata": {},
   "outputs": [],
   "source": [
    "\n",
    "# test_y = Parallel(n_jobs=20)(delayed(getY_scanY)(i) for i in tqdm(range(4000)))"
   ]
  },
  {
   "cell_type": "code",
   "execution_count": 220,
   "metadata": {},
   "outputs": [
    {
     "name": "stderr",
     "output_type": "stream",
     "text": [
      "\n",
      "  0%|          | 0/3000 [00:00<?, ?it/s]\u001b[A\n",
      "  3%|▎         | 80/3000 [00:00<00:05, 505.61it/s]\u001b[A\n",
      "  7%|▋         | 200/3000 [00:00<00:05, 519.66it/s]\u001b[A\n",
      "  9%|▉         | 280/3000 [00:00<00:05, 505.35it/s]\u001b[A\n",
      " 12%|█▏        | 360/3000 [00:00<00:06, 422.15it/s]\u001b[A\n",
      " 15%|█▍        | 440/3000 [00:01<00:06, 394.23it/s]\u001b[A\n",
      " 17%|█▋        | 520/3000 [00:01<00:06, 385.45it/s]\u001b[A\n",
      " 20%|██        | 600/3000 [00:01<00:06, 372.86it/s]\u001b[A\n",
      " 23%|██▎       | 680/3000 [00:01<00:06, 353.27it/s]\u001b[A\n",
      " 25%|██▌       | 760/3000 [00:01<00:06, 355.34it/s]\u001b[A\n",
      " 28%|██▊       | 840/3000 [00:02<00:06, 330.92it/s]\u001b[A\n",
      " 31%|███       | 920/3000 [00:02<00:06, 346.53it/s]\u001b[A\n",
      " 33%|███▎      | 1000/3000 [00:02<00:05, 338.65it/s]\u001b[A\n",
      " 36%|███▌      | 1080/3000 [00:02<00:05, 336.34it/s]\u001b[A\n",
      " 39%|███▊      | 1160/3000 [00:03<00:05, 326.41it/s]\u001b[A\n",
      " 41%|████▏     | 1240/3000 [00:03<00:05, 338.58it/s]\u001b[A\n",
      " 44%|████▍     | 1320/3000 [00:03<00:05, 328.85it/s]\u001b[A\n",
      " 47%|████▋     | 1400/3000 [00:03<00:04, 331.99it/s]\u001b[A\n",
      " 49%|████▉     | 1480/3000 [00:04<00:04, 315.94it/s]\u001b[A\n",
      " 52%|█████▏    | 1560/3000 [00:04<00:04, 326.31it/s]\u001b[A\n",
      " 55%|█████▍    | 1640/3000 [00:04<00:04, 325.27it/s]\u001b[A\n",
      " 57%|█████▋    | 1720/3000 [00:04<00:03, 331.66it/s]\u001b[A\n",
      " 60%|██████    | 1800/3000 [00:05<00:03, 331.54it/s]\u001b[A\n",
      " 63%|██████▎   | 1880/3000 [00:05<00:03, 322.44it/s]\u001b[A\n",
      " 65%|██████▌   | 1960/3000 [00:05<00:03, 325.74it/s]\u001b[A\n",
      " 68%|██████▊   | 2040/3000 [00:05<00:02, 337.95it/s]\u001b[A\n",
      " 71%|███████   | 2120/3000 [00:06<00:02, 301.07it/s]\u001b[A\n",
      " 73%|███████▎  | 2200/3000 [00:06<00:02, 309.37it/s]\u001b[A\n",
      " 76%|███████▌  | 2280/3000 [00:06<00:02, 315.91it/s]\u001b[A\n",
      " 79%|███████▊  | 2360/3000 [00:06<00:02, 303.51it/s]\u001b[A\n",
      " 81%|████████▏ | 2440/3000 [00:07<00:01, 295.86it/s]\u001b[A\n",
      " 84%|████████▍ | 2520/3000 [00:07<00:01, 302.79it/s]\u001b[A\n",
      " 87%|████████▋ | 2600/3000 [00:07<00:01, 298.21it/s]\u001b[A\n",
      " 89%|████████▉ | 2680/3000 [00:08<00:01, 301.71it/s]\u001b[A\n",
      " 92%|█████████▏| 2760/3000 [00:08<00:00, 285.65it/s]\u001b[A\n",
      " 95%|█████████▍| 2840/3000 [00:08<00:00, 285.34it/s]\u001b[A\n",
      " 97%|█████████▋| 2920/3000 [00:08<00:00, 288.03it/s]\u001b[A\n",
      "100%|██████████| 3000/3000 [00:09<00:00, 285.30it/s]\u001b[A"
     ]
    }
   ],
   "source": [
    "test_amps2 = np.array(Parallel(n_jobs=20)(delayed(getAmp_scanY)(i) for i in tqdm(range(3000)))).T[0]"
   ]
  },
  {
   "cell_type": "code",
   "execution_count": 205,
   "metadata": {},
   "outputs": [],
   "source": [
    "test_height2 = test_height"
   ]
  },
  {
   "cell_type": "code",
   "execution_count": 419,
   "metadata": {
    "scrolled": true
   },
   "outputs": [
    {
     "name": "stderr",
     "output_type": "stream",
     "text": [
      "\n",
      "\n",
      "\n",
      "  0%|          | 0/3000 [00:00<?, ?it/s]\u001b[A\u001b[A\u001b[A\n",
      "\n",
      "\n",
      "  3%|▎         | 80/3000 [00:00<00:06, 472.06it/s]\u001b[A\u001b[A\u001b[A\n",
      "\n",
      "\n",
      "  4%|▍         | 120/3000 [00:00<00:07, 395.36it/s]\u001b[A\u001b[A\u001b[A\n",
      "\n",
      "\n",
      "  8%|▊         | 240/3000 [00:00<00:06, 452.63it/s]\u001b[A\u001b[A\u001b[A\n",
      "\n",
      "\n",
      " 11%|█         | 320/3000 [00:00<00:05, 479.20it/s]\u001b[A\u001b[A\u001b[A\n",
      "\n",
      "\n",
      " 13%|█▎        | 400/3000 [00:00<00:05, 483.91it/s]\u001b[A\u001b[A\u001b[A\n",
      "\n",
      "\n",
      " 16%|█▌        | 480/3000 [00:01<00:05, 439.61it/s]\u001b[A\u001b[A\u001b[A\n",
      "\n",
      "\n",
      " 19%|█▊        | 560/3000 [00:01<00:05, 426.32it/s]\u001b[A\u001b[A\u001b[A\n",
      "\n",
      "\n",
      " 21%|██▏       | 640/3000 [00:01<00:05, 415.80it/s]\u001b[A\u001b[A\u001b[A\n",
      "\n",
      "\n",
      " 24%|██▍       | 720/3000 [00:01<00:05, 387.60it/s]\u001b[A\u001b[A\u001b[A\n",
      "\n",
      "\n",
      " 27%|██▋       | 800/3000 [00:01<00:06, 358.36it/s]\u001b[A\u001b[A\u001b[A\n",
      "\n",
      "\n",
      " 29%|██▉       | 880/3000 [00:02<00:05, 369.89it/s]\u001b[A\u001b[A\u001b[A\n",
      "\n",
      "\n",
      " 32%|███▏      | 960/3000 [00:02<00:05, 365.40it/s]\u001b[A\u001b[A\u001b[A\n",
      "\n",
      "\n",
      " 35%|███▍      | 1040/3000 [00:02<00:05, 374.85it/s]\u001b[A\u001b[A\u001b[A\n",
      "\n",
      "\n",
      " 37%|███▋      | 1120/3000 [00:02<00:04, 378.16it/s]\u001b[A\u001b[A\u001b[A\n",
      "\n",
      "\n",
      " 40%|████      | 1200/3000 [00:02<00:04, 386.30it/s]\u001b[A\u001b[A\u001b[A\n",
      "\n",
      "\n",
      " 43%|████▎     | 1280/3000 [00:03<00:04, 395.52it/s]\u001b[A\u001b[A\u001b[A\n",
      "\n",
      "\n",
      " 45%|████▌     | 1360/3000 [00:03<00:04, 384.83it/s]\u001b[A\u001b[A\u001b[A\n",
      "\n",
      "\n",
      " 48%|████▊     | 1440/3000 [00:03<00:04, 384.51it/s]\u001b[A\u001b[A\u001b[A\n",
      "\n",
      "\n",
      " 51%|█████     | 1520/3000 [00:03<00:03, 392.15it/s]\u001b[A\u001b[A\u001b[A\n",
      "\n",
      "\n",
      " 53%|█████▎    | 1600/3000 [00:04<00:03, 368.84it/s]\u001b[A\u001b[A\u001b[A\n",
      "\n",
      "\n",
      " 56%|█████▌    | 1680/3000 [00:04<00:03, 353.59it/s]\u001b[A\u001b[A\u001b[A\n",
      "\n",
      "\n",
      " 59%|█████▊    | 1760/3000 [00:04<00:03, 367.83it/s]\u001b[A\u001b[A\u001b[A\n",
      "\n",
      "\n",
      " 61%|██████▏   | 1840/3000 [00:04<00:03, 356.75it/s]\u001b[A\u001b[A\u001b[A\n",
      "\n",
      "\n",
      " 64%|██████▍   | 1920/3000 [00:04<00:03, 333.24it/s]\u001b[A\u001b[A\u001b[A\n",
      "\n",
      "\n",
      " 67%|██████▋   | 2000/3000 [00:05<00:02, 356.19it/s]\u001b[A\u001b[A\u001b[A\n",
      "\n",
      "\n",
      " 69%|██████▉   | 2080/3000 [00:05<00:02, 360.97it/s]\u001b[A\u001b[A\u001b[A\n",
      "\n",
      "\n",
      " 72%|███████▏  | 2160/3000 [00:05<00:02, 360.71it/s]\u001b[A\u001b[A\u001b[A\n",
      "\n",
      "\n",
      " 75%|███████▍  | 2240/3000 [00:05<00:02, 378.39it/s]\u001b[A\u001b[A\u001b[A\n",
      "\n",
      "\n",
      " 77%|███████▋  | 2320/3000 [00:05<00:01, 400.62it/s]\u001b[A\u001b[A\u001b[A\n",
      "\n",
      "\n",
      " 80%|████████  | 2400/3000 [00:06<00:01, 409.47it/s]\u001b[A\u001b[A\u001b[A\n",
      "\n",
      "\n",
      " 83%|████████▎ | 2480/3000 [00:06<00:01, 386.24it/s]\u001b[A\u001b[A\u001b[A\n",
      "\n",
      "\n",
      " 85%|████████▌ | 2560/3000 [00:06<00:01, 409.39it/s]\u001b[A\u001b[A\u001b[A\n",
      "\n",
      "\n",
      " 88%|████████▊ | 2640/3000 [00:06<00:00, 384.71it/s]\u001b[A\u001b[A\u001b[A\n",
      "\n",
      "\n",
      " 91%|█████████ | 2720/3000 [00:07<00:00, 375.29it/s]\u001b[A\u001b[A\u001b[A\n",
      "\n",
      "\n",
      " 93%|█████████▎| 2800/3000 [00:07<00:00, 380.69it/s]\u001b[A\u001b[A\u001b[A\n",
      "\n",
      "\n",
      " 96%|█████████▌| 2880/3000 [00:07<00:00, 403.65it/s]\u001b[A\u001b[A\u001b[A\n",
      "\n",
      "\n",
      " 99%|█████████▊| 2960/3000 [00:07<00:00, 403.37it/s]\u001b[A\u001b[A\u001b[A\n",
      "\n",
      "\n",
      "100%|██████████| 3000/3000 [00:07<00:00, 395.67it/s]\u001b[A\u001b[A\u001b[A"
     ]
    }
   ],
   "source": [
    "test_y = Parallel(n_jobs=20)(delayed(getHeight_scanY)(i) for i in tqdm(range(3000)))"
   ]
  },
  {
   "cell_type": "code",
   "execution_count": 22,
   "metadata": {},
   "outputs": [
    {
     "name": "stderr",
     "output_type": "stream",
     "text": [
      "\n",
      "  0%|          | 0/1000 [00:00<?, ?it/s]\u001b[A\n",
      "  4%|▍         | 40/1000 [00:00<00:09, 103.20it/s]\u001b[A\n",
      "  6%|▌         | 60/1000 [00:00<00:14, 63.40it/s] \u001b[A\n",
      "  8%|▊         | 80/1000 [00:01<00:19, 46.43it/s]\u001b[A\n",
      " 10%|█         | 100/1000 [00:02<00:23, 38.07it/s]\u001b[A\n",
      " 12%|█▏        | 120/1000 [00:03<00:27, 31.91it/s]\u001b[A\n",
      " 14%|█▍        | 140/1000 [00:03<00:27, 31.22it/s]\u001b[A\n",
      " 16%|█▌        | 160/1000 [00:04<00:28, 29.72it/s]\u001b[A\n",
      " 18%|█▊        | 180/1000 [00:05<00:26, 31.06it/s]\u001b[A\n",
      " 20%|██        | 200/1000 [00:05<00:26, 30.65it/s]\u001b[A\n",
      " 22%|██▏       | 220/1000 [00:06<00:26, 29.15it/s]\u001b[A\n",
      " 24%|██▍       | 240/1000 [00:07<00:25, 29.52it/s]\u001b[A\n",
      " 26%|██▌       | 260/1000 [00:08<00:25, 29.38it/s]\u001b[A\n",
      " 28%|██▊       | 280/1000 [00:08<00:24, 28.90it/s]\u001b[A\n",
      " 30%|███       | 300/1000 [00:09<00:24, 28.17it/s]\u001b[A\n",
      " 32%|███▏      | 320/1000 [00:10<00:24, 28.16it/s]\u001b[A\n",
      " 34%|███▍      | 340/1000 [00:10<00:21, 30.12it/s]\u001b[A\n",
      " 36%|███▌      | 360/1000 [00:11<00:21, 30.38it/s]\u001b[A\n",
      " 38%|███▊      | 380/1000 [00:12<00:21, 28.58it/s]\u001b[A\n",
      " 40%|████      | 400/1000 [00:12<00:21, 28.16it/s]\u001b[A\n",
      " 42%|████▏     | 420/1000 [00:13<00:19, 30.28it/s]\u001b[A\n",
      " 44%|████▍     | 440/1000 [00:14<00:18, 29.79it/s]\u001b[A\n",
      " 46%|████▌     | 460/1000 [00:14<00:18, 28.58it/s]\u001b[A\n",
      " 48%|████▊     | 480/1000 [00:15<00:18, 28.81it/s]\u001b[A\n",
      " 50%|█████     | 500/1000 [00:16<00:17, 28.09it/s]\u001b[A\n",
      " 52%|█████▏    | 520/1000 [00:17<00:17, 26.69it/s]\u001b[A\n",
      " 54%|█████▍    | 540/1000 [00:17<00:16, 27.83it/s]\u001b[A\n",
      " 56%|█████▌    | 560/1000 [00:18<00:15, 27.71it/s]\u001b[A\n",
      " 58%|█████▊    | 580/1000 [00:19<00:13, 30.09it/s]\u001b[A\n",
      " 60%|██████    | 600/1000 [00:19<00:13, 29.53it/s]\u001b[A\n",
      " 62%|██████▏   | 620/1000 [00:20<00:13, 28.59it/s]\u001b[A\n",
      " 64%|██████▍   | 640/1000 [00:21<00:12, 29.78it/s]\u001b[A\n",
      " 66%|██████▌   | 660/1000 [00:21<00:11, 29.37it/s]\u001b[A\n",
      " 68%|██████▊   | 680/1000 [00:22<00:11, 26.83it/s]\u001b[A\n",
      " 70%|███████   | 700/1000 [00:23<00:10, 27.82it/s]\u001b[A\n",
      " 72%|███████▏  | 720/1000 [00:24<00:09, 29.68it/s]\u001b[A\n",
      " 74%|███████▍  | 740/1000 [00:24<00:09, 28.54it/s]\u001b[A\n",
      " 76%|███████▌  | 760/1000 [00:25<00:08, 29.82it/s]\u001b[A\n",
      " 78%|███████▊  | 780/1000 [00:26<00:07, 28.06it/s]\u001b[A\n",
      " 80%|████████  | 800/1000 [00:26<00:07, 27.93it/s]\u001b[A\n",
      " 82%|████████▏ | 820/1000 [00:27<00:06, 27.36it/s]\u001b[A\n",
      " 84%|████████▍ | 840/1000 [00:28<00:05, 27.11it/s]\u001b[A\n",
      " 86%|████████▌ | 860/1000 [00:29<00:05, 26.88it/s]\u001b[A\n",
      " 88%|████████▊ | 880/1000 [00:29<00:04, 27.59it/s]\u001b[A\n",
      " 90%|█████████ | 900/1000 [00:30<00:03, 28.83it/s]\u001b[A\n",
      " 92%|█████████▏| 920/1000 [00:31<00:02, 29.70it/s]\u001b[A\n",
      " 94%|█████████▍| 940/1000 [00:31<00:02, 29.33it/s]\u001b[A\n",
      " 96%|█████████▌| 960/1000 [00:32<00:01, 26.09it/s]\u001b[A\n",
      " 98%|█████████▊| 980/1000 [00:33<00:00, 27.23it/s]\u001b[A\n",
      "100%|██████████| 1000/1000 [00:34<00:00, 29.62it/s]\u001b[A"
     ]
    }
   ],
   "source": [
    "test_phase = np.array(Parallel(n_jobs=20)(delayed(getPhase_scanY)(i) for i in tqdm(range(1000)))).T[0]"
   ]
  },
  {
   "cell_type": "code",
   "execution_count": 146,
   "metadata": {},
   "outputs": [
    {
     "data": {
      "text/plain": [
       "(400,)"
      ]
     },
     "execution_count": 146,
     "metadata": {},
     "output_type": "execute_result"
    }
   ],
   "source": [
    "np.mean(np.array(test2_9hz).reshape(-1,10), axis=1).shape"
   ]
  },
  {
   "cell_type": "code",
   "execution_count": 78,
   "metadata": {},
   "outputs": [
    {
     "data": {
      "application/vnd.jupyter.widget-view+json": {
       "model_id": "7d30c8e92053405d964c612c256ccf8c",
       "version_major": 2,
       "version_minor": 0
      },
      "text/plain": [
       "Canvas(toolbar=Toolbar(toolitems=[('Home', 'Reset original view', 'home', 'home'), ('Back', 'Back to previous …"
      ]
     },
     "metadata": {},
     "output_type": "display_data"
    },
    {
     "data": {
      "text/plain": [
       "array([-31.84974983, -31.28241833, -44.64879813, ..., -66.38842589,\n",
       "       -65.54251498, -63.30591768])"
      ]
     },
     "execution_count": 78,
     "metadata": {},
     "output_type": "execute_result"
    }
   ],
   "source": [
    "import obspy\n",
    "from obspy.signal.detrend import polynomial\n",
    "data = np.array(test_Iz[:3000])\n",
    "polynomial(data, order=3, plot=True)"
   ]
  },
  {
   "cell_type": "code",
   "execution_count": 421,
   "metadata": {},
   "outputs": [
    {
     "data": {
      "application/vnd.jupyter.widget-view+json": {
       "model_id": "59ff438e7f3d40ac898242e7c851279e",
       "version_major": 2,
       "version_minor": 0
      },
      "text/plain": [
       "Canvas(toolbar=Toolbar(toolitems=[('Home', 'Reset original view', 'home', 'home'), ('Back', 'Back to previous …"
      ]
     },
     "metadata": {},
     "output_type": "display_data"
    },
    {
     "data": {
      "text/plain": [
       "[<matplotlib.legend.Legend at 0x7fce82e696d8>,\n",
       " <matplotlib.legend.Legend at 0x7fce82e694e0>,\n",
       " <matplotlib.legend.Legend at 0x7fcd74f8e6d8>]"
      ]
     },
     "execution_count": 421,
     "metadata": {},
     "output_type": "execute_result"
    }
   ],
   "source": [
    "_,ax = plt.subplots(3,1,figsize=(9,9), sharex=True)\n",
    "i = 3\n",
    "# ax[0].scatter(test_y[:3000], np.sqrt(test_amps[i][:3000])*x_scale1, label=str(np.arange(1,13)[i]*3)+' y-scan')\n",
    "# ax[0].scatter(test_y[:3000], np.sqrt(test_amps2[i])*x_scale1, label=str(np.arange(1,13)[i]*3)+' constant')\n",
    "# ax[0].legend()\n",
    "\n",
    "bla = np.arange(4000)\n",
    "# bla = test_y\n",
    "ax[0].scatter(bla[:3000], test_x[:3000], label='y-scan')\n",
    "# ax[0].scatter(bla[:3000], test_phase0_2[:3000], label='y-fixed')\n",
    "# ax[0].scatter(bla[:1000], test_Iz_noshaking[:1000], label='no-shaking')\n",
    "ax[0].set(ylabel='carrier phase - one quadrant')\n",
    "\n",
    "ax[1].scatter(bla[:3000], np.array(test_y[:3000]), label='y-scan')\n",
    "# ax[1].scatter(bla[:3000], np.array(test_amp4_2[:3000])*-1, label='y-fixed')\n",
    "# ax[1].scatter(bla[:1000], np.array(test_spin_noshaking[:1000])*-1, label='no-shaking')\n",
    "ax[1].set(ylabel='Z-PD amplitude [a.u.]')\n",
    "\n",
    "ax[2].scatter(bla[:3000], test_z[:3000], label='y-scan')\n",
    "# ax[2].scatter(bla[:3000], test_z_2[:3000], label='y-fixed')\n",
    "# ax[2].scatter(bla[:1000], test_quadsum_noshaking[:1000], label='no-shaking')\n",
    "ax[2].set(ylabel='Z [a.u.]', xlabel='Y [$\\mu$m]')\n",
    "\n",
    "[a.legend() for a in ax]\n",
    "# ax[3].scatter(test_y[:3000], test_phase0[:3000])\n",
    "# ax[3].scatter(test_y[:1000], test_phase0_noshaking[:1000])\n",
    "# ax[0].scatter(test_y[:3000], test_height[:3000],label='y-scan shaking')\n",
    "# ax[0].scatter(test_y[:3000], test_height2[:3000],label='y-fixed shaking')\n",
    "# ax[0].scatter(test_y[:1000], test_height_noshaking[:1000],label='no shaking')\n",
    "\n",
    "\n",
    "# ax[1].scatter(test_y[:3000], test_Iz2[:3000])\n",
    "\n",
    "\n",
    "# ax[3].set(xlabel='Y [$\\mu$m]', ylabel='Power (from spin) [a.u.]')\n",
    "# ax[2].scatter(test_y[:3000], test_quadsum2[:3000])\n",
    "# ax.semilogy(np.mean(np.array(test1_zfb).reshape(-1,5), axis=1), np.mean(np.sqrt(test2_9hz).reshape(-1,5), axis=1)*x_scale1, '.')"
   ]
  },
  {
   "cell_type": "code",
   "execution_count": 80,
   "metadata": {},
   "outputs": [
    {
     "data": {
      "application/vnd.jupyter.widget-view+json": {
       "model_id": "01f33adda31640cb8ffb4a4527ce0739",
       "version_major": 2,
       "version_minor": 0
      },
      "text/plain": [
       "Canvas(toolbar=Toolbar(toolitems=[('Home', 'Reset original view', 'home', 'home'), ('Back', 'Back to previous …"
      ]
     },
     "metadata": {},
     "output_type": "display_data"
    },
    {
     "data": {
      "text/plain": [
       "<matplotlib.legend.Legend at 0x7fce93c58518>"
      ]
     },
     "execution_count": 80,
     "metadata": {},
     "output_type": "execute_result"
    }
   ],
   "source": [
    "_,ax = plt.subplots(figsize=(9,4))\n",
    "i = 5\n",
    "ax.semilogy(test_y[:3000], np.sqrt(test_amps[i][:3000])*x_scale1, label=str(np.arange(1,13)[i]*3)+' y-scan')\n",
    "ax.semilogy(test_y[:3000], np.sqrt(test_amps2[i])*x_scale1, label=str(np.arange(1,13)[i]*3)+' constant')\n",
    "ax.legend()"
   ]
  },
  {
   "cell_type": "code",
   "execution_count": 18,
   "metadata": {},
   "outputs": [],
   "source": [
    "test_phase2 = np.array(test_phase2).T[0]"
   ]
  },
  {
   "cell_type": "code",
   "execution_count": 23,
   "metadata": {},
   "outputs": [
    {
     "data": {
      "application/vnd.jupyter.widget-view+json": {
       "model_id": "b991500b9f5b4ddb8a437495496b66e7",
       "version_major": 2,
       "version_minor": 0
      },
      "text/plain": [
       "Canvas(toolbar=Toolbar(toolitems=[('Home', 'Reset original view', 'home', 'home'), ('Back', 'Back to previous …"
      ]
     },
     "metadata": {},
     "output_type": "display_data"
    },
    {
     "ename": "NameError",
     "evalue": "name 'test_y' is not defined",
     "output_type": "error",
     "traceback": [
      "\u001b[0;31m---------------------------------------------------------------------------\u001b[0m",
      "\u001b[0;31mNameError\u001b[0m                                 Traceback (most recent call last)",
      "\u001b[0;32m<ipython-input-23-1430a24258cc>\u001b[0m in \u001b[0;36m<module>\u001b[0;34m\u001b[0m\n\u001b[1;32m      1\u001b[0m \u001b[0m_\u001b[0m\u001b[0;34m,\u001b[0m\u001b[0max\u001b[0m \u001b[0;34m=\u001b[0m \u001b[0mplt\u001b[0m\u001b[0;34m.\u001b[0m\u001b[0msubplots\u001b[0m\u001b[0;34m(\u001b[0m\u001b[0;36m2\u001b[0m\u001b[0;34m,\u001b[0m\u001b[0;36m1\u001b[0m\u001b[0;34m,\u001b[0m\u001b[0mfigsize\u001b[0m\u001b[0;34m=\u001b[0m\u001b[0;34m(\u001b[0m\u001b[0;36m9\u001b[0m\u001b[0;34m,\u001b[0m\u001b[0;36m6\u001b[0m\u001b[0;34m)\u001b[0m\u001b[0;34m,\u001b[0m \u001b[0msharex\u001b[0m\u001b[0;34m=\u001b[0m\u001b[0;32mTrue\u001b[0m\u001b[0;34m)\u001b[0m\u001b[0;34m\u001b[0m\u001b[0;34m\u001b[0m\u001b[0m\n\u001b[1;32m      2\u001b[0m \u001b[0mi\u001b[0m \u001b[0;34m=\u001b[0m \u001b[0;36m7\u001b[0m\u001b[0;34m\u001b[0m\u001b[0;34m\u001b[0m\u001b[0m\n\u001b[0;32m----> 3\u001b[0;31m \u001b[0max\u001b[0m\u001b[0;34m[\u001b[0m\u001b[0;36m0\u001b[0m\u001b[0;34m]\u001b[0m\u001b[0;34m.\u001b[0m\u001b[0mscatter\u001b[0m\u001b[0;34m(\u001b[0m\u001b[0mtest_y\u001b[0m\u001b[0;34m[\u001b[0m\u001b[0;34m:\u001b[0m\u001b[0;36m3000\u001b[0m\u001b[0;34m]\u001b[0m\u001b[0;34m,\u001b[0m \u001b[0mtest_phase\u001b[0m\u001b[0;34m[\u001b[0m\u001b[0mi\u001b[0m\u001b[0;34m]\u001b[0m\u001b[0;34m[\u001b[0m\u001b[0;34m:\u001b[0m\u001b[0;36m3000\u001b[0m\u001b[0;34m]\u001b[0m\u001b[0;34m,\u001b[0m \u001b[0mlabel\u001b[0m\u001b[0;34m=\u001b[0m\u001b[0mstr\u001b[0m\u001b[0;34m(\u001b[0m\u001b[0mnp\u001b[0m\u001b[0;34m.\u001b[0m\u001b[0marange\u001b[0m\u001b[0;34m(\u001b[0m\u001b[0;36m1\u001b[0m\u001b[0;34m,\u001b[0m\u001b[0;36m13\u001b[0m\u001b[0;34m)\u001b[0m\u001b[0;34m[\u001b[0m\u001b[0mi\u001b[0m\u001b[0;34m]\u001b[0m\u001b[0;34m*\u001b[0m\u001b[0;36m3\u001b[0m\u001b[0;34m)\u001b[0m\u001b[0;34m+\u001b[0m\u001b[0;34m' spinning'\u001b[0m\u001b[0;34m)\u001b[0m\u001b[0;34m\u001b[0m\u001b[0;34m\u001b[0m\u001b[0m\n\u001b[0m\u001b[1;32m      4\u001b[0m \u001b[0max\u001b[0m\u001b[0;34m[\u001b[0m\u001b[0;36m0\u001b[0m\u001b[0;34m]\u001b[0m\u001b[0;34m.\u001b[0m\u001b[0mscatter\u001b[0m\u001b[0;34m(\u001b[0m\u001b[0mtest_y\u001b[0m\u001b[0;34m[\u001b[0m\u001b[0;34m:\u001b[0m\u001b[0;36m3000\u001b[0m\u001b[0;34m]\u001b[0m\u001b[0;34m,\u001b[0m \u001b[0mtest_phase2\u001b[0m\u001b[0;34m[\u001b[0m\u001b[0mi\u001b[0m\u001b[0;34m]\u001b[0m\u001b[0;34m[\u001b[0m\u001b[0;34m:\u001b[0m\u001b[0;36m3000\u001b[0m\u001b[0;34m]\u001b[0m\u001b[0;34m,\u001b[0m \u001b[0mlabel\u001b[0m\u001b[0;34m=\u001b[0m\u001b[0mstr\u001b[0m\u001b[0;34m(\u001b[0m\u001b[0mnp\u001b[0m\u001b[0;34m.\u001b[0m\u001b[0marange\u001b[0m\u001b[0;34m(\u001b[0m\u001b[0;36m1\u001b[0m\u001b[0;34m,\u001b[0m\u001b[0;36m13\u001b[0m\u001b[0;34m)\u001b[0m\u001b[0;34m[\u001b[0m\u001b[0mi\u001b[0m\u001b[0;34m]\u001b[0m\u001b[0;34m*\u001b[0m\u001b[0;36m3\u001b[0m\u001b[0;34m)\u001b[0m\u001b[0;34m+\u001b[0m\u001b[0;34m' not spinning'\u001b[0m\u001b[0;34m,\u001b[0m \u001b[0malpha\u001b[0m\u001b[0;34m=\u001b[0m\u001b[0;36m0.6\u001b[0m\u001b[0;34m)\u001b[0m\u001b[0;34m\u001b[0m\u001b[0;34m\u001b[0m\u001b[0m\n\u001b[1;32m      5\u001b[0m \u001b[0max\u001b[0m\u001b[0;34m[\u001b[0m\u001b[0;36m0\u001b[0m\u001b[0;34m]\u001b[0m\u001b[0;34m.\u001b[0m\u001b[0mlegend\u001b[0m\u001b[0;34m(\u001b[0m\u001b[0;34m)\u001b[0m\u001b[0;34m\u001b[0m\u001b[0;34m\u001b[0m\u001b[0m\n",
      "\u001b[0;31mNameError\u001b[0m: name 'test_y' is not defined"
     ]
    }
   ],
   "source": [
    "_,ax = plt.subplots(2,1,figsize=(9,6), sharex=True)\n",
    "i = 7\n",
    "ax[0].scatter(test_y[:3000], test_phase[i][:3000], label=str(np.arange(1,13)[i]*3)+' spinning')\n",
    "ax[0].scatter(test_y[:3000], test_phase2[i][:3000], label=str(np.arange(1,13)[i]*3)+' not spinning', alpha=0.6)\n",
    "ax[0].legend()\n",
    "ax[0].set(ylabel='Phase [rad]')\n",
    "# ax[1].scatter(test_y[:3000], np.sqrt(test_amps[i][:3000])*x_scale1, label=str(np.arange(1,13)[i]*3)+' y-scan')\n",
    "# ax[1].scatter(test_y[:3000], np.sqrt(test_amps2[i])*x_scale1, label=str(np.arange(1,13)[i]*3)+' y-fixed', alpha=0.6)\n",
    "ax[1].legend()\n",
    "ax[1].set(ylabel='Amplitude [N/$\\sqrt{Hz.}$]', xlabel='Y [$\\mu$m]')"
   ]
  },
  {
   "cell_type": "code",
   "execution_count": 24,
   "metadata": {},
   "outputs": [
    {
     "data": {
      "application/vnd.jupyter.widget-view+json": {
       "model_id": "f6d1d9ed2c1849228fc26bc66cdfd53f",
       "version_major": 2,
       "version_minor": 0
      },
      "text/plain": [
       "Canvas(toolbar=Toolbar(toolitems=[('Home', 'Reset original view', 'home', 'home'), ('Back', 'Back to previous …"
      ]
     },
     "metadata": {},
     "output_type": "display_data"
    }
   ],
   "source": [
    "_,ax = plt.subplots(3,4,figsize=(9,8.5), sharex=True)\n",
    "# i = 0\n",
    "_ = [a.hist(test_phase[j][:3000]%(2*np.pi), label=str(np.arange(1,13)[j]*3)+'Hz. spin', bins=60, range=(0,2*np.pi)) for j,a in enumerate(ax.flatten())]\n",
    "_ = [a.hist(test_phase2[j][:3000]%(2*np.pi), label=str(np.arange(1,13)[j]*3)+'Hz. no-spin', alpha=0.5, bins=60, range=(0,2*np.pi)) for j,a in enumerate(ax.flatten())]\n",
    "# _ = ax.hist(test_phase2[i][:3000]%(2*np.pi), label=str(np.arange(1,13)[i]*3)+' constant', alpha=0.6, bins=60, range=(0,2*np.pi))\n",
    "_ = [a.legend() for a in ax.flatten()]\n",
    "_ = [a.set(xlabel='phase [rad]') for a in ax.flatten()]"
   ]
  },
  {
   "cell_type": "markdown",
   "metadata": {},
   "source": [
    "### Look at the spin"
   ]
  },
  {
   "cell_type": "code",
   "execution_count": 394,
   "metadata": {},
   "outputs": [
    {
     "data": {
      "text/plain": [
       "(500000,)"
      ]
     },
     "execution_count": 394,
     "metadata": {},
     "output_type": "execute_result"
    }
   ],
   "source": [
    "bb.spin_data[0].shape"
   ]
  },
  {
   "cell_type": "code",
   "execution_count": 39,
   "metadata": {},
   "outputs": [
    {
     "data": {
      "application/vnd.jupyter.widget-view+json": {
       "model_id": "975d6c55cd564d05a4460439b2434afd",
       "version_major": 2,
       "version_minor": 0
      },
      "text/plain": [
       "Canvas(toolbar=Toolbar(toolitems=[('Home', 'Reset original view', 'home', 'home'), ('Back', 'Back to previous …"
      ]
     },
     "metadata": {},
     "output_type": "display_data"
    },
    {
     "data": {
      "text/plain": [
       "[(17450.0, 17550.0),\n",
       " Text(0.5, 0, 'Frequency [Hz.]'),\n",
       " Text(0, 0.5, 'spin-psd[a.u.]')]"
      ]
     },
     "execution_count": 39,
     "metadata": {},
     "output_type": "execute_result"
    }
   ],
   "source": [
    "datafile_num = 2500\n",
    "datafile_num1 = 2600\n",
    "fname = r'/data/new_trap/20200924/Bead1/Shaking/PatchCharges_345/SpinShaking0_'+str(datafile_num)+'.h5'\n",
    "bb = BeadDataFile.BeadDataFile(fname=fname)\n",
    "fname = r'/data/new_trap/20200924/Bead1/Shaking/PatchCharges_345/SpinShaking0_'+str(datafile_num1)+'.h5'\n",
    "bb1 = BeadDataFile.BeadDataFile(fname=fname)\n",
    "_,ax = plt.subplots()\n",
    "aaa2, bbb2 = matplotlib.mlab.psd(bb.spin_data[0], Fs = 50000, NFFT = 500000)\n",
    "ax.semilogy(bbb2, aaa2, label='file #: '+str(datafile_num))\n",
    "aaa1, bbb1 = matplotlib.mlab.psd(bb1.spin_data[0], Fs = 50000, NFFT = 500000)\n",
    "ax.semilogy(bbb1, aaa1, label='file #: '+str(datafile_num1), alpha=0.5)\n",
    "ax.legend()\n",
    "ax.set(xlim=(17450,17550), xlabel='Frequency [Hz.]', ylabel='spin-psd[a.u.]')\n",
    "# print(np.mean(aa[(bb>60)*(bb<82)])*1e10)\n",
    "# cutoff = int(30000/10)\n",
    "# bb[np.argmax(aa[cutoff:])+cutoff]"
   ]
  },
  {
   "cell_type": "code",
   "execution_count": null,
   "metadata": {},
   "outputs": [],
   "source": []
  },
  {
   "cell_type": "code",
   "execution_count": null,
   "metadata": {},
   "outputs": [],
   "source": []
  },
  {
   "cell_type": "code",
   "execution_count": 14,
   "metadata": {},
   "outputs": [],
   "source": [
    "## likelihood calculator stuff\n",
    "ll = likelihood_analyser.LikelihoodAnalyser()\n",
    "gravity_freqs = np.array([36, 33, 42, 18, 21, 39, 24])"
   ]
  },
  {
   "cell_type": "code",
   "execution_count": 23,
   "metadata": {},
   "outputs": [
    {
     "name": "stdout",
     "output_type": "stream",
     "text": [
      "No height data\n",
      "No cantilever data\n",
      "Error loading spinning data\n",
      "No laser power data\n",
      "No height data\n",
      "No cantilever data\n",
      "Error loading spinning data\n",
      "No laser power data\n",
      "No height data\n",
      "No cantilever data\n",
      "Error loading spinning data\n",
      "No laser power data\n"
     ]
    }
   ],
   "source": [
    "bdf_z = bdf_discharge[40:45]\n",
    "fname = r'/data/new_trap/20200320/Bead1/TransFunc/Repeat_TransFunc_20200104/TransFunc_X_m300k_250s_1hz.h5'\n",
    "tf_x = BeadDataFile.BeadDataFile(fname)\n",
    "fname = r'/data/new_trap/20200320/Bead1/TransFunc/Repeat_TransFunc_20200104/TransFunc_Y_m300k_250s_1hz.h5'\n",
    "tf_y = BeadDataFile.BeadDataFile(fname)\n",
    "fname = r'/data/new_trap/20200320/Bead1/TransFunc/Repeat_TransFunc_20200104/TransFunc_Z_m300k_250s_1hz.h5'\n",
    "tf_z = BeadDataFile.BeadDataFile(fname)\n",
    "gfw.build_transfer_function([tf_x, tf_y, tf_z], base_freq=1, number_of_harmonics=10, scale_freq=71, plot=False)"
   ]
  },
  {
   "cell_type": "code",
   "execution_count": 30,
   "metadata": {},
   "outputs": [
    {
     "name": "stdout",
     "output_type": "stream",
     "text": [
      "***************************************************\n",
      "Z2-amplitude:  2.42e+02\n",
      "reduced chi2:  5476.558157447907\n",
      "***************************************************\n",
      "Z2-amplitude:  2.39e+02\n",
      "reduced chi2:  3034.748270618688\n",
      "***************************************************\n",
      "Z2-amplitude:  2.50e+02\n",
      "reduced chi2:  6858.95396814926\n",
      "***************************************************\n",
      "Z2-amplitude:  2.59e+02\n",
      "reduced chi2:  5415.162615180254\n",
      "***************************************************\n",
      "Z2-amplitude:  2.39e+02\n",
      "reduced chi2:  2546.787668771445\n",
      "Z2 response (amplitude): 245.73717124858416\n"
     ]
    }
   ],
   "source": [
    "bandwidth = 2\n",
    "m1_zscale = gfw.build_z_response(bdf_z, drive_freq=71, charges=3, bandwidth=bandwidth, decimate=10)\n",
    "gravity_scales = np.array([gfw.scale_Z2])* np.interp(gravity_freqs, gfw.tf_freq, gfw.tf_ffts[2])\n",
    "noises_std = np.ones(len(gravity_freqs))"
   ]
  },
  {
   "cell_type": "code",
   "execution_count": 47,
   "metadata": {},
   "outputs": [],
   "source": [
    "def func2(i):\n",
    "    print(i,'  ******************')\n",
    "    fname = r'/data/new_trap/20200924/Bead1/Shaking/Shaking345/SpinShaking0_'+str(i)+'.h5'\n",
    "    bb = BeadDataFile.BeadDataFile(fname=fname)\n",
    "\n",
    "    ## force template\n",
    "    dist = 40\n",
    "    z_sep = -20\n",
    "    y_offset = 0\n",
    "    test_shaking378 = force_vs_time(dist*1e-6,z_sep*1e-6,200e-6,3,\"z\",1000e-6, yuk_or_grav=\"yuk\",offset_y=y_offset*1e-6, \n",
    "                     alpha=1e8, bead_size=3.8e-6)\n",
    "    shaking378_template = np.array(test_shaking378[1])*1.85/1.55\n",
    "\n",
    "    fit_kwargs = {'A': 0, 'phi': 0.2, 'sigma':10.7,\n",
    "              'error_A': 1, 'error_phi': 0.5, 'errordef': 1, 'error_sigma': 10,\n",
    "              'limit_phi': [0, 2 * np.pi],\n",
    "              'limit_A': [-1000, 1000], 'limit_sigma': [0, 1000000],\n",
    "              'print_level': 0, 'fix_A': False, 'fix_phi': True, 'fix_sigma': False}\n",
    "    mm_tmp = ll.find_mle_multiHarmoincs(x=bb.z2, template=shaking378_template, scales=gravity_scales, \n",
    "                                          signal_freqs=gravity_freqs, bandwidth=bandwidth, noises=noises_std,\n",
    "                                          decimate=10, **fit_kwargs)\n",
    "\n",
    "    return mm_tmp.values[0]"
   ]
  },
  {
   "cell_type": "code",
   "execution_count": 48,
   "metadata": {},
   "outputs": [
    {
     "name": "stderr",
     "output_type": "stream",
     "text": [
      "100%|██████████| 1000/1000 [00:16<00:00, 56.97it/s]\n"
     ]
    }
   ],
   "source": [
    "test_mle = np.array(Parallel(n_jobs=40)(delayed(func2)(i) for i in tqdm(range(1000))))"
   ]
  },
  {
   "cell_type": "code",
   "execution_count": 49,
   "metadata": {},
   "outputs": [
    {
     "data": {
      "text/plain": [
       "(-64.307978991231, 308.21590678043725, 9.746642765203164)"
      ]
     },
     "execution_count": 49,
     "metadata": {},
     "output_type": "execute_result"
    }
   ],
   "source": [
    "np.mean(test_mle), np.std(test_mle), np.std(test_mle)/np.sqrt(1000)"
   ]
  },
  {
   "cell_type": "code",
   "execution_count": 46,
   "metadata": {},
   "outputs": [
    {
     "data": {
      "application/vnd.jupyter.widget-view+json": {
       "model_id": "b3fe5788e0bb4246bb121a1a4b6e8c73",
       "version_major": 2,
       "version_minor": 0
      },
      "text/plain": [
       "Canvas(toolbar=Toolbar(toolitems=[('Home', 'Reset original view', 'home', 'home'), ('Back', 'Back to previous …"
      ]
     },
     "metadata": {},
     "output_type": "display_data"
    },
    {
     "name": "stdout",
     "output_type": "stream",
     "text": [
      "alpha MLE:  -0.6425047548183118 std:  0.09407395427994644\n"
     ]
    }
   ],
   "source": [
    "_,ax = plt.subplots()\n",
    "data = list(test_mle)#+list(mm_mle_A10)\n",
    "avg = np.mean(data)\n",
    "var = np.var(data)\n",
    "# From that, we know the shape of the fitted Gaussian.\n",
    "pdf_x = np.linspace(-25,25,100)\n",
    "pdf_y = 1.0/np.sqrt(2*np.pi*var)*np.exp(-0.5*(pdf_x-avg)**2/var)\n",
    "\n",
    "ax.hist(data, range=(-25,25), bins=25, density=True)\n",
    "# ax.hist(mm_mle_A10, range=(-25,25), bins=30, density=True, alpha=0.4)\n",
    "# Then we plot :\n",
    "ax.set(xlim=(-25,25), xlabel=r'$\\hat{\\alpha} \\,[10^{8}]$')\n",
    "ax.plot(pdf_x,pdf_y,'k--')\n",
    "\n",
    "print('alpha MLE: ', avg, 'std: ', np.std(data)/np.sqrt(1000))"
   ]
  },
  {
   "cell_type": "code",
   "execution_count": null,
   "metadata": {},
   "outputs": [],
   "source": []
  },
  {
   "cell_type": "code",
   "execution_count": null,
   "metadata": {},
   "outputs": [],
   "source": []
  },
  {
   "cell_type": "code",
   "execution_count": null,
   "metadata": {},
   "outputs": [],
   "source": []
  }
 ],
 "metadata": {
  "kernelspec": {
   "display_name": "Python 3",
   "language": "python",
   "name": "python3"
  },
  "language_info": {
   "codemirror_mode": {
    "name": "ipython",
    "version": 3
   },
   "file_extension": ".py",
   "mimetype": "text/x-python",
   "name": "python",
   "nbconvert_exporter": "python",
   "pygments_lexer": "ipython3",
   "version": "3.6.9"
  }
 },
 "nbformat": 4,
 "nbformat_minor": 4
}
