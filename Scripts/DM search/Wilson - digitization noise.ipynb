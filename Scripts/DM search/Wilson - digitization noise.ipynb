{
 "cells": [
  {
   "cell_type": "code",
   "execution_count": 17,
   "metadata": {},
   "outputs": [],
   "source": [
    "import numpy as np\n",
    "import matplotlib.pyplot as plt\n",
    "import matplotlib\n",
    "from scipy import signal\n",
    "import random\n",
    "\n",
    "import h5py\n",
    "from IPython.utils import io\n",
    "\n",
    "import numpy as np\n",
    "import matplotlib.pyplot as plt\n",
    "import matplotlib\n",
    "from scipy import signal\n",
    "import random\n",
    "import scipy.stats as stats\n",
    "\n",
    "import h5py\n",
    "from IPython.utils import io\n",
    "\n",
    "from joblib import Parallel, delayed\n",
    "from tqdm import tqdm\n",
    "import pandas as pd\n",
    "import copy\n"
   ]
  },
  {
   "cell_type": "code",
   "execution_count": 2,
   "metadata": {},
   "outputs": [],
   "source": [
    "import sys\n",
    "sys.path.append('../../../../nadavp/new_trap/Tools/')\n",
    "sys.path.append('../../../../nadavp/new_trap/Tools/StatFramework/')\n",
    "import BeadDataFile\n",
    "from discharge_tools import *\n",
    "\n",
    "from likelihood_calculator import likelihood_analyser\n",
    "from likelihood_calculator import GravityFramework\n",
    "from likelihood_calculator import auxiliary_functions as aux\n",
    "gfw = GravityFramework.GravityFramework()\n",
    "\n",
    "sys.path.append('/home/analysis_user/New_trap_code/SensitivityFramework/')\n",
    "from signal_model_utilities_v3b import *"
   ]
  },
  {
   "cell_type": "code",
   "execution_count": 3,
   "metadata": {},
   "outputs": [],
   "source": [
    "%matplotlib widget"
   ]
  },
  {
   "cell_type": "code",
   "execution_count": 4,
   "metadata": {},
   "outputs": [],
   "source": [
    "%reload_ext autoreload\n",
    "%autoreload 2"
   ]
  },
  {
   "cell_type": "markdown",
   "metadata": {},
   "source": [
    "### Parameters"
   ]
  },
  {
   "cell_type": "code",
   "execution_count": 5,
   "metadata": {},
   "outputs": [],
   "source": [
    "df = pd.read_pickle(\"/data/new_trap_processed/processed_files/20200320/Bead1/Shaking/Shaking378/Shaking3_aux.pkl\") #here one could put the respective file name\n",
    "height_cal = df[\"z_distance_emp\"]\n",
    "time = df['Time_Epoch']\n",
    "time -= time[0]"
   ]
  },
  {
   "cell_type": "code",
   "execution_count": 6,
   "metadata": {},
   "outputs": [
    {
     "name": "stdout",
     "output_type": "stream",
     "text": [
      "No height data\n",
      "No cantilever data\n",
      "Error loading spinning data\n",
      "No laser power data\n",
      "No height data\n",
      "No cantilever data\n",
      "Error loading spinning data\n",
      "No laser power data\n",
      "No height data\n",
      "No cantilever data\n",
      "Error loading spinning data\n",
      "No laser power data\n"
     ]
    }
   ],
   "source": [
    "fname = r'/home/data_transfer/data_from_windows/20200320/Bead1/TransFunc/Repeat_TransFunc_20200104/TransFunc_X_m300k_250s_1hz.h5'\n",
    "tf_x = BeadDataFile.BeadDataFile(fname)\n",
    "fname = r'/home/data_transfer/data_from_windows/20200320/Bead1/TransFunc/Repeat_TransFunc_20200104/TransFunc_Y_m300k_250s_1hz.h5'\n",
    "tf_y = BeadDataFile.BeadDataFile(fname)\n",
    "fname = r'/home/data_transfer/data_from_windows/20200320/Bead1/TransFunc/Repeat_TransFunc_20200104/TransFunc_Z_m300k_250s_1hz.h5'\n",
    "tf_z = BeadDataFile.BeadDataFile(fname)\n",
    "gfw.build_transfer_function([tf_x, tf_y, tf_z], base_freq=1, number_of_harmonics=90, scale_freq=71, plot=False)"
   ]
  },
  {
   "cell_type": "code",
   "execution_count": 7,
   "metadata": {},
   "outputs": [
    {
     "name": "stdout",
     "output_type": "stream",
     "text": [
      "530  files in folder\n",
      "40  files loaded\n"
     ]
    }
   ],
   "source": [
    "bdf_discharge = load_dir(dirname='/data/new_trap/20200320/Bead1/Discharge/Discharge_after_Mass_20200402/After_spinning_again_20200403/',\n",
    "                         start_file=230, max_file=40)\n",
    "bdf_z = bdf_discharge[5:35]"
   ]
  },
  {
   "cell_type": "code",
   "execution_count": 8,
   "metadata": {
    "scrolled": true
   },
   "outputs": [
    {
     "name": "stdout",
     "output_type": "stream",
     "text": [
      "***************************************************\n",
      "Z2-amplitude:  2.69e+02\n",
      "reduced chi2:  441.1817586533457\n",
      "***************************************************\n",
      "Z2-amplitude:  2.61e+02\n",
      "reduced chi2:  489.117997931911\n",
      "***************************************************\n",
      "Z2-amplitude:  2.74e+02\n",
      "reduced chi2:  367.35685535243334\n",
      "***************************************************\n",
      "Z2-amplitude:  2.79e+02\n",
      "reduced chi2:  442.30175900202806\n",
      "***************************************************\n",
      "Z2-amplitude:  2.80e+02\n",
      "reduced chi2:  462.42977088215497\n",
      "***************************************************\n",
      "Z2-amplitude:  2.75e+02\n",
      "reduced chi2:  302.2298893684773\n",
      "***************************************************\n",
      "Z2-amplitude:  2.69e+02\n",
      "reduced chi2:  554.2181314149083\n",
      "***************************************************\n",
      "Z2-amplitude:  2.65e+02\n",
      "reduced chi2:  657.0098909281799\n",
      "***************************************************\n",
      "Z2-amplitude:  2.66e+02\n",
      "reduced chi2:  512.0367862193627\n",
      "***************************************************\n",
      "Z2-amplitude:  2.69e+02\n",
      "reduced chi2:  497.2481348917369\n",
      "***************************************************\n",
      "Z2-amplitude:  2.69e+02\n",
      "reduced chi2:  493.5258332822781\n",
      "***************************************************\n",
      "Z2-amplitude:  2.69e+02\n",
      "reduced chi2:  392.3848742039196\n",
      "***************************************************\n",
      "Z2-amplitude:  2.68e+02\n",
      "reduced chi2:  324.07415184960956\n",
      "***************************************************\n",
      "Z2-amplitude:  2.60e+02\n",
      "reduced chi2:  594.9419285446916\n",
      "***************************************************\n",
      "Z2-amplitude:  2.66e+02\n",
      "reduced chi2:  413.55100130255585\n",
      "***************************************************\n",
      "Z2-amplitude:  2.59e+02\n",
      "reduced chi2:  437.986802537669\n",
      "***************************************************\n",
      "Z2-amplitude:  2.70e+02\n",
      "reduced chi2:  287.0523729300913\n",
      "***************************************************\n",
      "Z2-amplitude:  2.69e+02\n",
      "reduced chi2:  372.3493485105035\n",
      "***************************************************\n",
      "Z2-amplitude:  2.68e+02\n",
      "reduced chi2:  491.12650185370694\n",
      "***************************************************\n",
      "Z2-amplitude:  2.78e+02\n",
      "reduced chi2:  473.6407729912416\n",
      "***************************************************\n",
      "Z2-amplitude:  2.82e+02\n",
      "reduced chi2:  490.540786539088\n",
      "***************************************************\n",
      "Z2-amplitude:  2.72e+02\n",
      "reduced chi2:  539.9005190476562\n",
      "***************************************************\n",
      "Z2-amplitude:  2.77e+02\n",
      "reduced chi2:  699.5643363571255\n",
      "***************************************************\n",
      "Z2-amplitude:  2.73e+02\n",
      "reduced chi2:  463.4946356154909\n",
      "***************************************************\n",
      "Z2-amplitude:  2.71e+02\n",
      "reduced chi2:  386.1842379364792\n",
      "***************************************************\n",
      "Z2-amplitude:  2.60e+02\n",
      "reduced chi2:  231.5990030470935\n",
      "***************************************************\n",
      "Z2-amplitude:  2.65e+02\n",
      "reduced chi2:  120.72916348406551\n",
      "***************************************************\n",
      "Z2-amplitude:  2.75e+02\n",
      "reduced chi2:  401.74654501365217\n",
      "***************************************************\n",
      "Z2-amplitude:  2.67e+02\n",
      "reduced chi2:  732.6693303423617\n",
      "***************************************************\n",
      "Z2-amplitude:  2.71e+02\n",
      "reduced chi2:  441.86282179493696\n",
      "Z2 response (amplitude): 269.829047579\n"
     ]
    }
   ],
   "source": [
    "bandwidth = 2\n",
    "m1_zscale = gfw.build_z_response(bdf_z, drive_freq=71, charges=6, bandwidth=bandwidth, decimate=10)"
   ]
  },
  {
   "cell_type": "code",
   "execution_count": 9,
   "metadata": {},
   "outputs": [],
   "source": [
    "def get_Yoffset(i):\n",
    "    fname = r'/data/new_trap/20200320/Bead1/Shaking/Shaking378/Shaking3_'+str(i)+'.h5'\n",
    "    bb = BeadDataFile.BeadDataFile(fname=fname)    \n",
    "    return (437.3 - 25 * 9.5) - (aux.voltage_to_position(np.mean(bb.cant_pos[1])))\n",
    "def get_Stroke(i):\n",
    "    fname = r'/data/new_trap/20200320/Bead1/Shaking/Shaking378/Shaking3_'+str(i)+'.h5'\n",
    "    bb = BeadDataFile.BeadDataFile(fname=fname)    \n",
    "    return -np.std(aux.voltage_to_position(bb.cant_pos[1]))*np.sqrt(2)*2\n",
    "def get_Dist(i):\n",
    "    fname = r'/data/new_trap/20200320/Bead1/Shaking/Shaking378/Shaking3_'+str(i)+'.h5'\n",
    "    bb = BeadDataFile.BeadDataFile(fname=fname)    \n",
    "    return 392.2 - aux.voltage_to_position(np.mean(bb.cant_pos[0]))"
   ]
  },
  {
   "cell_type": "code",
   "execution_count": 10,
   "metadata": {},
   "outputs": [
    {
     "name": "stderr",
     "output_type": "stream",
     "text": [
      "100%|██████████| 100/100 [00:02<00:00, 64.76it/s]\n",
      "100%|██████████| 100/100 [00:00<00:00, 631.78it/s]\n",
      "100%|██████████| 100/100 [00:00<00:00, 982.09it/s]\n"
     ]
    },
    {
     "name": "stdout",
     "output_type": "stream",
     "text": [
      "-15.859100393 4.88214369679 -202.765748131 13.9887662292 10\n"
     ]
    }
   ],
   "source": [
    "z_sep = np.mean(height_cal)\n",
    "y_offset = np.mean(np.array(Parallel(n_jobs=10)(delayed(get_Yoffset)(i) for i in tqdm(range(0, 10000, 100)))))\n",
    "stroke = np.mean(np.array(Parallel(n_jobs=10)(delayed(get_Stroke)(i) for i in tqdm(range(0, 10000, 100)))))\n",
    "dist = np.mean(np.array(Parallel(n_jobs=10)(delayed(get_Dist)(i) for i in tqdm(range(0, 10000, 100)))))\n",
    "G_lambda = 10\n",
    "print(z_sep, y_offset, stroke, dist, G_lambda)"
   ]
  },
  {
   "cell_type": "code",
   "execution_count": 39,
   "metadata": {},
   "outputs": [
    {
     "name": "stdout",
     "output_type": "stream",
     "text": [
      "Loading Gravity Data... Done!\n",
      "81 9.74070978211e-06\n",
      "Loaded Yukawa Force\n"
     ]
    }
   ],
   "source": [
    "test_shaking378 = force_vs_time(dist,z_sep,stroke,3,G_lambda,\"z\", \n",
    "                                yuk_or_grav=\"yuk\",offset_y=y_offset, alpha=1e8, bead_size=7.6)\n",
    "shaking378_template = np.array(list(test_shaking378[1])*10)"
   ]
  },
  {
   "cell_type": "code",
   "execution_count": 41,
   "metadata": {},
   "outputs": [
    {
     "data": {
      "application/vnd.jupyter.widget-view+json": {
       "model_id": "b55e6cedc2ea42a49deab1300eb739ad",
       "version_major": 2,
       "version_minor": 0
      },
      "text/plain": [
       "Canvas(toolbar=Toolbar(toolitems=[('Home', 'Reset original view', 'home', 'home'), ('Back', 'Back to previous …"
      ]
     },
     "metadata": {},
     "output_type": "display_data"
    },
    {
     "name": "stdout",
     "output_type": "stream",
     "text": [
      "Z force [N] at 36Hz.: [  6.23099642e-18]\n",
      "sensitivity [alpha]: [  1.60487975e+08]\n"
     ]
    }
   ],
   "source": [
    "def fft_norm(N, fsamp):\n",
    "    \"Factor to normalize FFT to ASD units\"\n",
    "    return np.sqrt(2 / (N * fsamp))\n",
    "scale = fft_norm(5000, 50000)\n",
    "\n",
    "_,ax = plt.subplots()\n",
    "x = shaking378_template\n",
    "fft = np.abs(np.fft.rfft(x))*scale\n",
    "angles = np.angle(np.fft.rfft(x))\n",
    "freq = np.fft.rfftfreq(len(x), d=1./5000)\n",
    "ax.semilogy(freq, fft, label='7.6 $\\mu m$ sphere - Z force')\n",
    "ax.set(xlim=(1,100), ylim=(None,None), xlabel='frequency [Hz]', ylabel='Force [N/sqrt(Hz.)]', title=r'$\\alpha=1x10^{8}$')\n",
    "ax.legend()\n",
    "print('Z force [N] at 36Hz.:', fft[freq==36])\n",
    "print('sensitivity [alpha]:', 1e-17/fft[freq==36]*1e8)"
   ]
  },
  {
   "cell_type": "code",
   "execution_count": 44,
   "metadata": {},
   "outputs": [],
   "source": [
    "gravity_freqs = 3*np.arange(1,20)\n",
    "scales = np.array([gfw.scale_Z2])* np.interp(gravity_freqs, gfw.tf_freq, gfw.tf_ffts[2])"
   ]
  },
  {
   "cell_type": "code",
   "execution_count": 45,
   "metadata": {},
   "outputs": [],
   "source": [
    "fft_bits = copy.deepcopy(fft)\n",
    "for freq_,scale_ in zip(gravity_freqs,scales):\n",
    "    fft_bits[freq==freq_] *= scale_"
   ]
  },
  {
   "cell_type": "code",
   "execution_count": 54,
   "metadata": {},
   "outputs": [],
   "source": [
    "del data_bdfs2"
   ]
  },
  {
   "cell_type": "code",
   "execution_count": 55,
   "metadata": {},
   "outputs": [
    {
     "name": "stdout",
     "output_type": "stream",
     "text": [
      "6905  files in folder\n",
      "100  files loaded\n"
     ]
    }
   ],
   "source": [
    "# noise estimation\n",
    "data_bdfs2 = load_dir(dirname='/data/new_trap/20200320/Bead1/Shaking/Shaking2_20200403/',\n",
    "                         file_prefix='NoShaking_1', start_file=0, max_file=100)\n",
    "noise_x = copy.deepcopy(np.array(data_bdfs2[0].z2))\n",
    "for bb in data_bdfs2[1:]:\n",
    "    noise_x += copy.deepcopy(np.array(bb.z2))\n",
    "noise_x = noise_x/100"
   ]
  },
  {
   "cell_type": "code",
   "execution_count": 79,
   "metadata": {},
   "outputs": [],
   "source": [
    "fft_noise1 = np.abs(np.fft.rfft(data_bdfs2[50].z2))*scale\n",
    "fft_noise2 = np.abs(np.fft.rfft(noise_x))*scale"
   ]
  },
  {
   "cell_type": "code",
   "execution_count": 78,
   "metadata": {},
   "outputs": [
    {
     "data": {
      "application/vnd.jupyter.widget-view+json": {
       "model_id": "fee721196fe84ec8b35295bff77f5690",
       "version_major": 2,
       "version_minor": 0
      },
      "text/plain": [
       "Canvas(toolbar=Toolbar(toolitems=[('Home', 'Reset original view', 'home', 'home'), ('Back', 'Back to previous …"
      ]
     },
     "metadata": {},
     "output_type": "display_data"
    },
    {
     "name": "stdout",
     "output_type": "stream",
     "text": [
      "Z force [N] at 36Hz.: [  6.23099642e-18]\n",
      "sensitivity [alpha]: [  1.60487975e+08]\n"
     ]
    }
   ],
   "source": [
    "_,ax = plt.subplots()\n",
    "# ax.semilogy(freq, fft_bits, label=r'$\\alpha$=$10^8$')\n",
    "ax.semilogy(freq, fft_noise1/np.sqrt(5), label='1 file - noise')\n",
    "# ax.semilogy(freq, fft_noise2/10, label='100 files - noise')\n",
    "ax.set(xlim=(1,100), ylim=(None,None), xlabel='frequency [Hz]', ylabel='Force [bits]', title=r'$\\alpha=1x10^{8}$')\n",
    "ax.legend()\n",
    "print('Z force [N] at 36Hz.:', fft[freq==36])\n",
    "print('sensitivity [alpha]:', 1e-17/fft[freq==36]*1e8)"
   ]
  },
  {
   "cell_type": "code",
   "execution_count": 70,
   "metadata": {},
   "outputs": [
    {
     "data": {
      "text/plain": [
       "65536"
      ]
     },
     "execution_count": 70,
     "metadata": {},
     "output_type": "execute_result"
    }
   ],
   "source": [
    "2**16"
   ]
  },
  {
   "cell_type": "code",
   "execution_count": 71,
   "metadata": {},
   "outputs": [
    {
     "data": {
      "application/vnd.jupyter.widget-view+json": {
       "model_id": "684b5d3d710841239538046907104c6d",
       "version_major": 2,
       "version_minor": 0
      },
      "text/plain": [
       "Canvas(toolbar=Toolbar(toolitems=[('Home', 'Reset original view', 'home', 'home'), ('Back', 'Back to previous …"
      ]
     },
     "metadata": {},
     "output_type": "display_data"
    },
    {
     "data": {
      "text/plain": [
       "[<matplotlib.lines.Line2D at 0x7f8d1cc36fd0>]"
      ]
     },
     "execution_count": 71,
     "metadata": {},
     "output_type": "execute_result"
    }
   ],
   "source": [
    "_,ax = plt.subplots()\n",
    "ax.plot(range(1000), data_bdfs2[10].z2[:1000]-np.mean(data_bdfs2[10].z2))"
   ]
  },
  {
   "cell_type": "code",
   "execution_count": null,
   "metadata": {},
   "outputs": [],
   "source": []
  },
  {
   "cell_type": "code",
   "execution_count": null,
   "metadata": {},
   "outputs": [],
   "source": []
  }
 ],
 "metadata": {
  "kernelspec": {
   "display_name": "Python 3",
   "language": "python",
   "name": "python3"
  },
  "language_info": {
   "codemirror_mode": {
    "name": "ipython",
    "version": 3
   },
   "file_extension": ".py",
   "mimetype": "text/x-python",
   "name": "python",
   "nbconvert_exporter": "python",
   "pygments_lexer": "ipython3",
   "version": "3.6.9"
  }
 },
 "nbformat": 4,
 "nbformat_minor": 4
}
