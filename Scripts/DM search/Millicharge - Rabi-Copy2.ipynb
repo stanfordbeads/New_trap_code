{
 "cells": [
  {
   "cell_type": "code",
   "execution_count": 1,
   "metadata": {},
   "outputs": [],
   "source": [
    "import numpy as np\n",
    "import matplotlib.pyplot as plt\n",
    "import matplotlib\n",
    "from scipy import signal\n",
    "import random\n",
    "from scipy.optimize import curve_fit\n",
    "from multiprocessing import Pool\n",
    "from multiprocessing import set_start_method\n",
    "\n",
    "import h5py\n",
    "from IPython.utils import io"
   ]
  },
  {
   "cell_type": "code",
   "execution_count": 2,
   "metadata": {},
   "outputs": [],
   "source": [
    "%matplotlib widget"
   ]
  },
  {
   "cell_type": "code",
   "execution_count": 3,
   "metadata": {},
   "outputs": [],
   "source": [
    "#%reload_ext autoreload\n",
    "#%autoreload 2"
   ]
  },
  {
   "cell_type": "code",
   "execution_count": 4,
   "metadata": {},
   "outputs": [],
   "source": [
    "import sys\n",
    "sys.path.append('../../../../nadavp/new_trap/Tools/')\n",
    "sys.path.append('../../../../nadavp/new_trap/Tools/StatFramework/')\n",
    "import BeadDataFile\n",
    "from discharge_tools import *"
   ]
  },
  {
   "cell_type": "code",
   "execution_count": 5,
   "metadata": {},
   "outputs": [],
   "source": [
    "from likelihood_calculator import likelihood_analyser\n",
    "from likelihood_calculator import GravityFramework\n",
    "from likelihood_calculator import auxiliary_functions as aux\n",
    "\n",
    "sys.path.append('/home/analysis_user/New_trap_code/SensitivityFramework/')\n",
    "from signal_model_utilities import *"
   ]
  },
  {
   "cell_type": "code",
   "execution_count": 6,
   "metadata": {},
   "outputs": [
    {
     "name": "stdout",
     "output_type": "stream",
     "text": [
      "89  files in folder\n",
      "89  files loaded\n"
     ]
    }
   ],
   "source": [
    "bdf_discharge = load_dir(dirname='/data/new_trap/20200730/Bead2/Discharge/')"
   ]
  },
  {
   "cell_type": "code",
   "execution_count": 7,
   "metadata": {
    "scrolled": true
   },
   "outputs": [
    {
     "name": "stdout",
     "output_type": "stream",
     "text": [
      "***************************************************\n",
      "Z2-amplitude:  1.00e+03\n",
      "reduced chi2:  246458593.1819089\n",
      "***************************************************\n",
      "Z2-amplitude:  1.00e+03\n",
      "reduced chi2:  185840160.50690785\n",
      "***************************************************\n",
      "Z2-amplitude:  1.00e+03\n",
      "reduced chi2:  151541297.52397105\n",
      "***************************************************\n",
      "Z2-amplitude:  1.00e+03\n",
      "reduced chi2:  127098893.2578729\n",
      "***************************************************\n",
      "Z2-amplitude:  1.00e+03\n",
      "reduced chi2:  108738665.27352697\n",
      "***************************************************\n",
      "Z2-amplitude:  1.00e+03\n",
      "reduced chi2:  70056568.66589151\n",
      "***************************************************\n",
      "Z2-amplitude:  1.00e+03\n",
      "reduced chi2:  79502488.92800286\n",
      "***************************************************\n",
      "Z2-amplitude:  1.00e+03\n",
      "reduced chi2:  70078315.48128577\n",
      "***************************************************\n",
      "Z2-amplitude:  1.00e+03\n",
      "reduced chi2:  66025844.001170814\n",
      "***************************************************\n",
      "Z2-amplitude:  1.00e+03\n",
      "reduced chi2:  65700804.20224477\n",
      "***************************************************\n",
      "Z2-amplitude:  1.00e+03\n",
      "reduced chi2:  68409582.93850975\n",
      "***************************************************\n",
      "Z2-amplitude:  1.15e+04\n",
      "reduced chi2:  59502.57126405936\n",
      "***************************************************\n",
      "Z2-amplitude:  1.00e+03\n",
      "reduced chi2:  57437949.398875915\n",
      "***************************************************\n",
      "Z2-amplitude:  1.00e+03\n",
      "reduced chi2:  49987963.14224701\n",
      "***************************************************\n",
      "Z2-amplitude:  1.07e+04\n",
      "reduced chi2:  53907.87293026523\n",
      "***************************************************\n",
      "Z2-amplitude:  9.88e+03\n",
      "reduced chi2:  38319.85900181063\n",
      "***************************************************\n",
      "Z2-amplitude:  1.00e+03\n",
      "reduced chi2:  33687057.07684057\n",
      "***************************************************\n",
      "Z2-amplitude:  8.82e+03\n",
      "reduced chi2:  37795.91363577795\n",
      "***************************************************\n",
      "Z2-amplitude:  8.67e+03\n",
      "reduced chi2:  38085.90982587987\n",
      "***************************************************\n",
      "Z2-amplitude:  7.92e+03\n",
      "reduced chi2:  26438.111348869614\n",
      "***************************************************\n",
      "Z2-amplitude:  1.00e+03\n",
      "reduced chi2:  13161367.253645273\n",
      "***************************************************\n",
      "Z2-amplitude:  1.00e+03\n",
      "reduced chi2:  8030388.290616769\n",
      "***************************************************\n",
      "Z2-amplitude:  1.00e+03\n",
      "reduced chi2:  10501815.123647226\n",
      "***************************************************\n",
      "Z2-amplitude:  5.33e+03\n",
      "reduced chi2:  13237.835383005275\n",
      "***************************************************\n",
      "Z2-amplitude:  1.00e+03\n",
      "reduced chi2:  7482607.814261869\n",
      "***************************************************\n",
      "Z2-amplitude:  1.00e+03\n",
      "reduced chi2:  7793066.007401399\n",
      "***************************************************\n",
      "Z2-amplitude:  1.00e+03\n",
      "reduced chi2:  7975124.444480892\n",
      "***************************************************\n",
      "Z2-amplitude:  1.00e+03\n",
      "reduced chi2:  5482333.402290659\n",
      "***************************************************\n",
      "Z2-amplitude:  4.02e+03\n",
      "reduced chi2:  18452.66221268006\n",
      "***************************************************\n",
      "Z2-amplitude:  4.34e+03\n",
      "reduced chi2:  11151.261566595744\n",
      "***************************************************\n",
      "Z2-amplitude:  4.10e+03\n",
      "reduced chi2:  10480.36828622761\n",
      "***************************************************\n",
      "Z2-amplitude:  1.00e+03\n",
      "reduced chi2:  4988952.0888426695\n",
      "***************************************************\n",
      "Z2-amplitude:  3.92e+03\n",
      "reduced chi2:  6192.828905428829\n",
      "***************************************************\n",
      "Z2-amplitude:  3.02e+03\n",
      "reduced chi2:  8347.569092918688\n",
      "***************************************************\n",
      "Z2-amplitude:  1.00e+03\n",
      "reduced chi2:  1050936.4565810433\n",
      "***************************************************\n",
      "Z2-amplitude:  2.62e+03\n",
      "reduced chi2:  7089.446920569908\n",
      "***************************************************\n",
      "Z2-amplitude:  2.62e+03\n",
      "reduced chi2:  7418.5240671917345\n",
      "***************************************************\n",
      "Z2-amplitude:  2.73e+03\n",
      "reduced chi2:  5864.407673258963\n",
      "***************************************************\n",
      "Z2-amplitude:  2.47e+03\n",
      "reduced chi2:  5221.532646890408\n",
      "***************************************************\n",
      "Z2-amplitude:  2.40e+03\n",
      "reduced chi2:  12209.675852045599\n",
      "***************************************************\n",
      "Z2-amplitude:  1.00e+03\n",
      "reduced chi2:  912232.9109750413\n",
      "***************************************************\n",
      "Z2-amplitude:  2.61e+03\n",
      "reduced chi2:  4623.579394229511\n",
      "***************************************************\n",
      "Z2-amplitude:  2.69e+03\n",
      "reduced chi2:  7075.614820039894\n",
      "***************************************************\n",
      "Z2-amplitude:  2.62e+03\n",
      "reduced chi2:  6819.52094252555\n",
      "***************************************************\n",
      "Z2-amplitude:  2.62e+03\n",
      "reduced chi2:  9501.81991630004\n",
      "***************************************************\n",
      "Z2-amplitude:  2.64e+03\n",
      "reduced chi2:  6870.898708224326\n",
      "***************************************************\n",
      "Z2-amplitude:  2.84e+03\n",
      "reduced chi2:  7200.625539533437\n",
      "***************************************************\n",
      "Z2-amplitude:  2.94e+03\n",
      "reduced chi2:  5515.160278255831\n",
      "***************************************************\n",
      "Z2-amplitude:  2.82e+03\n",
      "reduced chi2:  6883.917423675414\n",
      "***************************************************\n",
      "Z2-amplitude:  2.17e+03\n",
      "reduced chi2:  3231.4827717636836\n",
      "***************************************************\n",
      "Z2-amplitude:  1.94e+03\n",
      "reduced chi2:  4929.627262194545\n",
      "***************************************************\n",
      "Z2-amplitude:  1.00e+03\n",
      "reduced chi2:  482606.77658431866\n",
      "***************************************************\n",
      "Z2-amplitude:  1.98e+03\n",
      "reduced chi2:  4350.1961081707805\n",
      "***************************************************\n",
      "Z2-amplitude:  1.81e+03\n",
      "reduced chi2:  4864.845158222247\n",
      "***************************************************\n",
      "Z2-amplitude:  1.50e+03\n",
      "reduced chi2:  4747.684888651366\n",
      "***************************************************\n",
      "Z2-amplitude:  4.19e+02\n",
      "reduced chi2:  4456.469482819414\n",
      "***************************************************\n",
      "Z2-amplitude:  2.56e+02\n",
      "reduced chi2:  6314.843291449871\n",
      "***************************************************\n",
      "Z2-amplitude:  1.08e+02\n",
      "reduced chi2:  1904.836661357656\n",
      "***************************************************\n",
      "Z2-amplitude:  1.09e+02\n",
      "reduced chi2:  4900.3589282827115\n",
      "***************************************************\n",
      "Z2-amplitude:  2.34e+02\n",
      "reduced chi2:  14517.99156216426\n",
      "***************************************************\n",
      "Z2-amplitude:  1.11e+03\n",
      "reduced chi2:  47151.97273721226\n",
      "***************************************************\n",
      "Z2-amplitude:  6.01e+02\n",
      "reduced chi2:  8171.313172241604\n",
      "***************************************************\n",
      "Z2-amplitude:  7.44e+02\n",
      "reduced chi2:  13484.747417426739\n",
      "***************************************************\n",
      "Z2-amplitude:  5.34e+02\n",
      "reduced chi2:  4731.440822544313\n",
      "***************************************************\n",
      "Z2-amplitude:  3.17e+02\n",
      "reduced chi2:  11354.151386455322\n",
      "***************************************************\n",
      "Z2-amplitude:  1.00e+02\n",
      "reduced chi2:  13779.615017415768\n",
      "***************************************************\n",
      "Z2-amplitude:  2.00e+02\n",
      "reduced chi2:  17510.30479877919\n",
      "***************************************************\n",
      "Z2-amplitude:  1.69e+02\n",
      "reduced chi2:  4502.176540156243\n",
      "***************************************************\n",
      "Z2-amplitude:  2.06e+02\n",
      "reduced chi2:  3719.416931459243\n",
      "***************************************************\n",
      "Z2-amplitude:  1.51e+02\n",
      "reduced chi2:  1770.2265620156284\n",
      "***************************************************\n",
      "Z2-amplitude:  1.97e+02\n",
      "reduced chi2:  6337.747520362319\n",
      "***************************************************\n",
      "Z2-amplitude:  1.91e+02\n",
      "reduced chi2:  3331.312384147412\n",
      "***************************************************\n",
      "Z2-amplitude:  2.22e+02\n",
      "reduced chi2:  7397.768646331951\n",
      "***************************************************\n",
      "Z2-amplitude:  2.28e+02\n",
      "reduced chi2:  2709.727817339331\n",
      "***************************************************\n",
      "Z2-amplitude:  1.10e+02\n",
      "reduced chi2:  2750.801404381113\n"
     ]
    },
    {
     "name": "stdout",
     "output_type": "stream",
     "text": [
      "***************************************************\n",
      "Z2-amplitude:  2.12e+02\n",
      "reduced chi2:  5788.066364833021\n",
      "***************************************************\n",
      "Z2-amplitude:  1.28e+02\n",
      "reduced chi2:  7005.879482026978\n",
      "***************************************************\n",
      "Z2-amplitude:  1.42e+02\n",
      "reduced chi2:  3181.8986968698505\n",
      "***************************************************\n",
      "Z2-amplitude:  1.24e+02\n",
      "reduced chi2:  3691.3834773341505\n",
      "***************************************************\n",
      "Z2-amplitude:  1.97e+02\n",
      "reduced chi2:  8590.128425890605\n",
      "***************************************************\n",
      "Z2-amplitude:  2.27e+02\n",
      "reduced chi2:  5173.218669228525\n",
      "***************************************************\n",
      "Z2-amplitude:  2.37e+02\n",
      "reduced chi2:  3951.323166124945\n",
      "***************************************************\n",
      "Z2-amplitude:  2.69e+02\n",
      "reduced chi2:  4670.398109903083\n",
      "***************************************************\n",
      "Z2-amplitude:  2.77e+02\n",
      "reduced chi2:  7959.296085659526\n",
      "***************************************************\n",
      "Z2-amplitude:  4.31e+02\n",
      "reduced chi2:  269620.886375561\n",
      "***************************************************\n",
      "Z2-amplitude:  2.97e+02\n",
      "reduced chi2:  12724.520950441662\n",
      "***************************************************\n",
      "Z2-amplitude:  4.66e+03\n",
      "reduced chi2:  3747048.5135871195\n",
      "***************************************************\n",
      "Z2-amplitude:  3.45e+02\n",
      "reduced chi2:  8417.835462131918\n",
      "***************************************************\n",
      "Z2-amplitude:  5.22e+01\n",
      "reduced chi2:  8807.69008641534\n",
      "Z2 response (amplitude): 1271.5327905051035\n"
     ]
    }
   ],
   "source": [
    "gfw = GravityFramework.GravityFramework()\n",
    "m1 = gfw.build_z_response(bdf_discharge, drive_freq=71, charges=10, bandwidth=1, decimate=10, bimodal=False)"
   ]
  },
  {
   "cell_type": "code",
   "execution_count": 8,
   "metadata": {
    "scrolled": true
   },
   "outputs": [
    {
     "name": "stdout",
     "output_type": "stream",
     "text": [
      "***************************************************\n",
      "X2-amplitude:  1.30e+01\n",
      "reduced chi2:  0.6042476117451665\n",
      "***************************************************\n",
      "X2-amplitude:  2.66e+01\n",
      "reduced chi2:  0.9387201325451274\n",
      "***************************************************\n",
      "X2-amplitude:  2.47e+01\n",
      "reduced chi2:  2.3331685833595723\n",
      "***************************************************\n",
      "X2-amplitude:  2.40e+01\n",
      "reduced chi2:  0.5597063926302616\n",
      "***************************************************\n",
      "X2-amplitude:  2.31e+01\n",
      "reduced chi2:  0.5701121635969646\n",
      "***************************************************\n",
      "X2-amplitude:  1.46e+01\n",
      "reduced chi2:  0.3917674932838361\n",
      "***************************************************\n",
      "X2-amplitude:  1.21e+00\n",
      "reduced chi2:  0.34587757226830484\n",
      "***************************************************\n",
      "X2-amplitude:  5.16e+00\n",
      "reduced chi2:  0.39840936728900544\n",
      "***************************************************\n",
      "X2-amplitude:  4.95e+00\n",
      "reduced chi2:  1.1002786570490792\n",
      "***************************************************\n",
      "X2-amplitude:  2.60e+00\n",
      "reduced chi2:  0.7958897119773982\n",
      "***************************************************\n",
      "X2-amplitude:  1.28e+01\n",
      "reduced chi2:  0.4819733792065114\n",
      "***************************************************\n",
      "X2-amplitude:  2.09e+01\n",
      "reduced chi2:  0.5126652902266915\n",
      "***************************************************\n",
      "X2-amplitude:  2.14e+01\n",
      "reduced chi2:  0.4572208679313369\n",
      "***************************************************\n",
      "X2-amplitude:  1.91e+01\n",
      "reduced chi2:  0.4032432556730573\n",
      "***************************************************\n",
      "X2-amplitude:  1.97e+01\n",
      "reduced chi2:  1.2230230916470517\n",
      "***************************************************\n",
      "X2-amplitude:  1.73e+01\n",
      "reduced chi2:  0.3744146391004732\n",
      "***************************************************\n",
      "X2-amplitude:  2.00e+01\n",
      "reduced chi2:  0.5947485441409145\n",
      "***************************************************\n",
      "X2-amplitude:  1.60e+01\n",
      "reduced chi2:  0.5722169612659816\n",
      "***************************************************\n",
      "X2-amplitude:  9.79e+00\n",
      "reduced chi2:  0.1857999149653679\n",
      "***************************************************\n",
      "X2-amplitude:  1.08e+01\n",
      "reduced chi2:  0.25766245747163957\n",
      "***************************************************\n",
      "X2-amplitude:  1.11e+01\n",
      "reduced chi2:  0.3183923950528761\n",
      "***************************************************\n",
      "X2-amplitude:  7.30e+00\n",
      "reduced chi2:  0.18602103784422458\n",
      "***************************************************\n",
      "X2-amplitude:  1.01e+01\n",
      "reduced chi2:  0.644133281154193\n",
      "***************************************************\n",
      "X2-amplitude:  1.01e+01\n",
      "reduced chi2:  0.37098038049519055\n",
      "***************************************************\n",
      "X2-amplitude:  8.84e+00\n",
      "reduced chi2:  0.20854487397266125\n",
      "***************************************************\n",
      "X2-amplitude:  7.96e+00\n",
      "reduced chi2:  0.11449443507519481\n",
      "***************************************************\n",
      "X2-amplitude:  7.97e+00\n",
      "reduced chi2:  0.24249474629612047\n",
      "***************************************************\n",
      "X2-amplitude:  8.33e+00\n",
      "reduced chi2:  0.3976684316991508\n",
      "***************************************************\n",
      "X2-amplitude:  6.97e+00\n",
      "reduced chi2:  0.5855893734630734\n",
      "***************************************************\n",
      "X2-amplitude:  7.61e+00\n",
      "reduced chi2:  0.11428191484158316\n",
      "***************************************************\n",
      "X2-amplitude:  4.63e+00\n",
      "reduced chi2:  1.0294258031917012\n",
      "***************************************************\n",
      "X2-amplitude:  3.40e+00\n",
      "reduced chi2:  0.3435412561822354\n",
      "***************************************************\n",
      "X2-amplitude:  3.73e+00\n",
      "reduced chi2:  0.2894940955741396\n",
      "***************************************************\n",
      "X2-amplitude:  4.48e+00\n",
      "reduced chi2:  0.08474069055195935\n",
      "***************************************************\n",
      "X2-amplitude:  4.23e+00\n",
      "reduced chi2:  0.3149546459130087\n",
      "***************************************************\n",
      "X2-amplitude:  3.93e+00\n",
      "reduced chi2:  0.18114459985850279\n",
      "***************************************************\n",
      "X2-amplitude:  5.08e+00\n",
      "reduced chi2:  0.2091047469962231\n",
      "***************************************************\n",
      "X2-amplitude:  5.46e+00\n",
      "reduced chi2:  0.11685278392356056\n",
      "***************************************************\n",
      "X2-amplitude:  3.30e+00\n",
      "reduced chi2:  0.1402419325092039\n",
      "***************************************************\n",
      "X2-amplitude:  3.16e+00\n",
      "reduced chi2:  0.10222858025515234\n",
      "***************************************************\n",
      "X2-amplitude:  2.23e+00\n",
      "reduced chi2:  0.2419468194291275\n",
      "***************************************************\n",
      "X2-amplitude:  2.31e+00\n",
      "reduced chi2:  0.18960180725797796\n",
      "***************************************************\n",
      "X2-amplitude:  5.20e+00\n",
      "reduced chi2:  0.17452604084042317\n",
      "***************************************************\n",
      "X2-amplitude:  4.31e+00\n",
      "reduced chi2:  0.12624778816295085\n",
      "***************************************************\n",
      "X2-amplitude:  5.18e+00\n",
      "reduced chi2:  0.2186377102067164\n",
      "***************************************************\n",
      "X2-amplitude:  5.32e+00\n",
      "reduced chi2:  0.13692303301749456\n",
      "***************************************************\n",
      "X2-amplitude:  4.73e+00\n",
      "reduced chi2:  0.12447117186632423\n",
      "***************************************************\n",
      "X2-amplitude:  4.39e+00\n",
      "reduced chi2:  0.09887900376238068\n",
      "***************************************************\n",
      "X2-amplitude:  4.56e+00\n",
      "reduced chi2:  0.12213527921399696\n",
      "***************************************************\n",
      "X2-amplitude:  3.00e+00\n",
      "reduced chi2:  0.056738525091123426\n",
      "***************************************************\n",
      "X2-amplitude:  2.45e+00\n",
      "reduced chi2:  0.1635958785375667\n",
      "***************************************************\n",
      "X2-amplitude:  3.70e+00\n",
      "reduced chi2:  0.14091994946581773\n",
      "***************************************************\n",
      "X2-amplitude:  2.80e+00\n",
      "reduced chi2:  0.3171495478134568\n",
      "***************************************************\n",
      "X2-amplitude:  1.65e+00\n",
      "reduced chi2:  0.15614435889855172\n",
      "***************************************************\n",
      "X2-amplitude:  2.02e+00\n",
      "reduced chi2:  0.15984282670847783\n",
      "***************************************************\n",
      "X2-amplitude:  3.74e+01\n",
      "reduced chi2:  0.6417771784096489\n",
      "***************************************************\n",
      "X2-amplitude:  2.82e+01\n",
      "reduced chi2:  0.46786406861137025\n",
      "***************************************************\n",
      "X2-amplitude:  9.60e+00\n",
      "reduced chi2:  0.204470422030134\n",
      "***************************************************\n",
      "X2-amplitude:  9.48e+00\n",
      "reduced chi2:  0.19059453301424845\n",
      "***************************************************\n",
      "X2-amplitude:  4.72e+00\n",
      "reduced chi2:  0.1890977467045928\n",
      "***************************************************\n",
      "X2-amplitude:  5.99e+00\n",
      "reduced chi2:  0.8926503253571796\n",
      "***************************************************\n",
      "X2-amplitude:  5.18e+00\n",
      "reduced chi2:  0.39292879370823025\n",
      "***************************************************\n",
      "X2-amplitude:  5.38e+00\n",
      "reduced chi2:  0.263684476465491\n",
      "***************************************************\n",
      "X2-amplitude:  5.03e+00\n",
      "reduced chi2:  0.2592777439949579\n",
      "***************************************************\n",
      "X2-amplitude:  4.99e+00\n",
      "reduced chi2:  0.41155993142176156\n",
      "***************************************************\n",
      "X2-amplitude:  1.75e+00\n",
      "reduced chi2:  0.417326804733241\n",
      "***************************************************\n",
      "X2-amplitude:  1.52e+00\n",
      "reduced chi2:  0.4859604561142655\n",
      "***************************************************\n",
      "X2-amplitude:  8.75e+00\n",
      "reduced chi2:  0.2817350840447258\n",
      "***************************************************\n",
      "X2-amplitude:  8.87e+00\n",
      "reduced chi2:  0.19936335328989138\n",
      "***************************************************\n",
      "X2-amplitude:  9.20e+00\n",
      "reduced chi2:  0.18935173034144562\n",
      "***************************************************\n",
      "X2-amplitude:  9.03e+00\n",
      "reduced chi2:  0.4312943324867001\n",
      "***************************************************\n",
      "X2-amplitude:  8.87e+00\n",
      "reduced chi2:  0.2893256285408903\n",
      "***************************************************\n",
      "X2-amplitude:  9.29e+00\n",
      "reduced chi2:  0.2579471158386707\n",
      "***************************************************\n",
      "X2-amplitude:  9.33e+00\n",
      "reduced chi2:  0.3280940117873345\n",
      "***************************************************\n",
      "X2-amplitude:  9.73e+00\n",
      "reduced chi2:  0.11994262831807279\n",
      "***************************************************\n",
      "X2-amplitude:  9.96e+00\n",
      "reduced chi2:  0.20200799815074838\n"
     ]
    },
    {
     "name": "stdout",
     "output_type": "stream",
     "text": [
      "***************************************************\n",
      "X2-amplitude:  9.63e+00\n",
      "reduced chi2:  0.2400257731662762\n",
      "***************************************************\n",
      "X2-amplitude:  9.48e+00\n",
      "reduced chi2:  0.20400984698786184\n",
      "***************************************************\n",
      "X2-amplitude:  9.88e+00\n",
      "reduced chi2:  0.22084668619396433\n",
      "***************************************************\n",
      "X2-amplitude:  9.48e+00\n",
      "reduced chi2:  0.31173676974694997\n",
      "***************************************************\n",
      "X2-amplitude:  9.37e+00\n",
      "reduced chi2:  0.15930767055499384\n",
      "***************************************************\n",
      "X2-amplitude:  9.38e+00\n",
      "reduced chi2:  0.18018628310571788\n",
      "***************************************************\n",
      "X2-amplitude:  9.36e+00\n",
      "reduced chi2:  0.27496301655437017\n",
      "***************************************************\n",
      "X2-amplitude:  9.50e+00\n",
      "reduced chi2:  0.12696727629054372\n",
      "***************************************************\n",
      "X2-amplitude:  1.04e+01\n",
      "reduced chi2:  3.5058405400487436\n",
      "***************************************************\n",
      "X2-amplitude:  9.48e+00\n",
      "reduced chi2:  0.22192653696554598\n",
      "***************************************************\n",
      "X2-amplitude:  8.14e+00\n",
      "reduced chi2:  11.253910164505845\n",
      "***************************************************\n",
      "X2-amplitude:  1.96e+00\n",
      "reduced chi2:  0.701854323220013\n",
      "***************************************************\n",
      "X2-amplitude:  1.21e-01\n",
      "reduced chi2:  0.18922362306441723\n",
      "X3 to X2 ratio: 0.074837149081062\n",
      "X2 response (amplitude): -8.737697886368121\n",
      "X2 response (amplitude): -8.737697886368121\n"
     ]
    }
   ],
   "source": [
    "m2 = gfw.build_x_response(bdf_discharge, drive_freq=71, charges=10, bandwidth=1, decimate=10)"
   ]
  },
  {
   "cell_type": "code",
   "execution_count": 9,
   "metadata": {},
   "outputs": [],
   "source": [
    "phases = [m_.values[2] for m_ in m1]\n",
    "amps = [m_.values[0] for m_ in m1]\n",
    "amps2 = [m_.values[0] for m_ in m2]"
   ]
  },
  {
   "cell_type": "code",
   "execution_count": 10,
   "metadata": {},
   "outputs": [
    {
     "data": {
      "application/vnd.jupyter.widget-view+json": {
       "model_id": "8ce17bb6cac14dbb943ce3b59a7a1f68",
       "version_major": 2,
       "version_minor": 0
      },
      "text/plain": [
       "Canvas(toolbar=Toolbar(toolitems=[('Home', 'Reset original view', 'home', 'home'), ('Back', 'Back to previous …"
      ]
     },
     "metadata": {},
     "output_type": "display_data"
    },
    {
     "name": "stdout",
     "output_type": "stream",
     "text": [
      "-0.5856775819161208\n"
     ]
    }
   ],
   "source": [
    "_,ax = plt.subplots(figsize=(9.5,4))\n",
    "ax.scatter(range(len(phases)), phases)\n",
    "ax.set(xlabel='dataset', ylabel='phase')\n",
    "print(np.mean(phases[20:100]))"
   ]
  },
  {
   "cell_type": "code",
   "execution_count": 11,
   "metadata": {},
   "outputs": [
    {
     "name": "stdout",
     "output_type": "stream",
     "text": [
      "No height data\n",
      "No cantilever data\n",
      "Error loading spinning data\n",
      "No laser power data\n",
      "No height data\n",
      "No cantilever data\n",
      "Error loading spinning data\n",
      "No laser power data\n",
      "No height data\n",
      "No cantilever data\n",
      "Error loading spinning data\n",
      "No laser power data\n"
     ]
    },
    {
     "data": {
      "application/vnd.jupyter.widget-view+json": {
       "model_id": "b748c1c771d346a48ae858191ab91b4f",
       "version_major": 2,
       "version_minor": 0
      },
      "text/plain": [
       "Canvas(toolbar=Toolbar(toolitems=[('Home', 'Reset original view', 'home', 'home'), ('Back', 'Back to previous …"
      ]
     },
     "metadata": {},
     "output_type": "display_data"
    }
   ],
   "source": [
    "fname = r'/data/new_trap/20200730/Bead2/TransFunc/TransFunc_4_X_z-7e5_250s_1Hz.h5'\n",
    "tf_x = BeadDataFile.BeadDataFile(fname)\n",
    "fname = r'/data/new_trap/20200730/Bead2/TransFunc/TransFunc_4_Y_z-7e5_250s_1Hz.h5'\n",
    "tf_y = BeadDataFile.BeadDataFile(fname)\n",
    "fname = r'/data/new_trap/20200730/Bead2/TransFunc/TransFunc_4_Z_z-7e5_250s_1Hz.h5'\n",
    "tf_z = BeadDataFile.BeadDataFile(fname)\n",
    "\n",
    "gfw = GravityFramework.GravityFramework()\n",
    "gfw.build_transfer_function([tf_x, tf_y, tf_z], base_freq=7, number_of_harmonics=50, scale_freq=71, plot=True)"
   ]
  },
  {
   "cell_type": "code",
   "execution_count": 12,
   "metadata": {},
   "outputs": [
    {
     "data": {
      "application/vnd.jupyter.widget-view+json": {
       "model_id": "c39bb45a78f84df19de5358ac35c7c4c",
       "version_major": 2,
       "version_minor": 0
      },
      "text/plain": [
       "Canvas(toolbar=Toolbar(toolitems=[('Home', 'Reset original view', 'home', 'home'), ('Back', 'Back to previous …"
      ]
     },
     "metadata": {},
     "output_type": "display_data"
    }
   ],
   "source": [
    "_,ax = plt.subplots(figsize=(9.5,4))\n",
    "scale = 45.85\n",
    "extra_scale = 10.3\n",
    "extra_scale2 = 100.3\n",
    "\n",
    "ax.scatter(range(len(amps)), np.array(amps)/scale/extra_scale, label='Discharge')\n",
    "# ax.scatter(range(len(amps2)), np.array(amps2)/scale/extra_scale2*1000, label='Discharge3 - bimodal')\n",
    "\n",
    "ax.legend()\n",
    "ax.set(xlabel='dataset', ylabel='Charges', ylim=(None,None), xlim=(None,None))\n",
    "ax.grid(axis='y')\n",
    "ax.legend()\n",
    "from matplotlib.ticker import MaxNLocator\n",
    "ax.yaxis.set_major_locator(MaxNLocator(integer=True))"
   ]
  },
  {
   "cell_type": "code",
   "execution_count": 13,
   "metadata": {},
   "outputs": [],
   "source": [
    "#from multiprocessing import Pool\n",
    "drive_freq = 71\n",
    "fit_kwargs = {'A': 0, 'f': drive_freq, 'phi': 0, 'A2': 0.13, 'f2': drive_freq,\n",
    "              'delta_phi': 0.0,\n",
    "              'error_A': 1, 'error_f': 1, 'error_phi': 0.5, 'errordef': 1,\n",
    "              'error_A2': 1, 'error_f2': 1, 'error_delta_phi': 0.1,\n",
    "              'limit_phi': [-2 * np.pi, 2 * np.pi], 'limit_delta_phi': [-2 * np.pi, 2 * np.pi],\n",
    "              'limit_A': [-1000, 1000], 'limit_A2': [0, 1000],\n",
    "              'print_level': 0, 'fix_f': True, 'fix_phi': False, 'fix_f2': True, 'fix_delta_phi': False,\n",
    "              'fix_A2': False}\n",
    "bandwidth=1\n",
    "decimate = 10\n",
    "ll = likelihood_analyser.LikelihoodAnalyser()"
   ]
  },
  {
   "cell_type": "code",
   "execution_count": 14,
   "metadata": {
    "scrolled": true
   },
   "outputs": [
    {
     "name": "stdout",
     "output_type": "stream",
     "text": [
      "yippiyippi\n",
      "\n",
      "yippi\n",
      "yippiyippi\n",
      "yippi\n",
      "yippi\n",
      "\n",
      "yippiyippiyippiyippi\n",
      "\n",
      "\n",
      "yippi\n",
      "\n",
      "yippi\n",
      "yippiyippi\n",
      "\n",
      "yippiyippi"
     ]
    }
   ],
   "source": [
    "def func1_scale(i):\n",
    "# for i,bdf_ in enumerate(data_bdfs2):\n",
    "#     print(i,'  ******************')\n",
    "    fname = r'/data/new_trap/20200730/Bead2/Discharge/Response/Discharge_'+str(i)+'.h5'\n",
    "    bb = BeadDataFile.BeadDataFile(fname=fname)\n",
    "    drive_freq = int(bb.cant_freq)\n",
    "    fit_kwargs = {'A': 0, 'f': drive_freq, 'phi': -0.056, 'A2': 0.13, 'f2': drive_freq,\n",
    "                  'delta_phi': 0.07,\n",
    "                  'error_A': 1, 'error_f': 1, 'error_phi': 0.5, 'errordef': 1,\n",
    "                  'error_A2': 1, 'error_f2': 1, 'error_delta_phi': 0.1,\n",
    "                  'limit_phi': [-2 * np.pi, 2 * np.pi], 'limit_delta_phi': [-2 * np.pi, 2 * np.pi],\n",
    "                  'limit_A': [-1000, 1000], 'limit_A2': [0, 1000],\n",
    "                  'print_level': 0, 'fix_f': True, 'fix_phi': True, 'fix_f2': True, 'fix_delta_phi': True,\n",
    "                  'fix_A2': True}\n",
    "\n",
    "    frequency = fit_kwargs['f']\n",
    "\n",
    "    xx2 = bb.response_at_freq2('x', frequency, bandwidth=bandwidth) * 50000\n",
    "    xx2 = xx2[5000:-5000:decimate]  # cut out the first and last second\n",
    "\n",
    "    xx3 = bb.response_at_freq3('x', frequency, bandwidth=bandwidth) / 6\n",
    "    xx3 = xx3[5000:-5000:decimate]  # cut out the first and last second\n",
    "\n",
    "    m1_tmp = ll.find_mle_2sin(xx2, xx3, fsamp=5000 / decimate,\n",
    "                                     noise_rms=1,\n",
    "                                     noise_rms2=1,\n",
    "                                     plot=False, suppress_print=True, **fit_kwargs)\n",
    "\n",
    "    print(\"yippi\")\n",
    "    return m1_tmp.values[0]\n",
    "\n",
    "if __name__ == '__main__':\n",
    "    pool = Pool(processes=40)                         # Create a multiprocessing Pool\n",
    "    mm_mle_scale = np.array(pool.map(func1_scale, range(100,200)))\n",
    "    pool.close()"
   ]
  },
  {
   "cell_type": "code",
   "execution_count": 14,
   "metadata": {},
   "outputs": [
    {
     "name": "stdout",
     "output_type": "stream",
     "text": [
      "12.38\n"
     ]
    }
   ],
   "source": [
    "# scaleX = np.mean(mm_mle_scale/3)*-1\n",
    "# scaleX10 = np.mean(mm_mle_scale/3)*-1\n",
    "scaleX = 12.38\n",
    "print(scaleX)"
   ]
  },
  {
   "cell_type": "code",
   "execution_count": 15,
   "metadata": {},
   "outputs": [],
   "source": [
    "bandwidth = 1"
   ]
  },
  {
   "cell_type": "code",
   "execution_count": 16,
   "metadata": {},
   "outputs": [
    {
     "data": {
      "text/plain": [
       "200.65740724308364"
      ]
     },
     "execution_count": 16,
     "metadata": {},
     "output_type": "execute_result"
    }
   ],
   "source": [
    "i = 4000\n",
    "fname = r'/data/new_trap/20200730/Bead2/Neutrality/71Hz200VNoSpin/Discharge_'+str(i)+'.h5'\n",
    "bb = BeadDataFile.BeadDataFile(fname=fname)\n",
    "np.std(bb.electrode_data[0])*np.sqrt(2)*200"
   ]
  },
  {
   "cell_type": "code",
   "execution_count": 19,
   "metadata": {
    "scrolled": true
   },
   "outputs": [],
   "source": [
    "from tqdm import tqdm\n",
    "ll = likelihood_analyser.LikelihoodAnalyser()\n",
    "bandwidth=1\n",
    "decimate = 10\n",
    "\n",
    "mm_71Hz200VNoSpin = []\n",
    "\n",
    "def func1(i):\n",
    "    for i in range(5):\n",
    "        #print(i,'  ******************')\n",
    "        fname = r'/data/new_trap/20200730/Bead2/Neutrality/71Hz200VNoSpin/Discharge_'+str(i)+'.h5'\n",
    "    #     fname = r'/data/new_trap/20200720/Bead1/Millicharge/200V71Hz50kHzSpin/Discharge_'+str(i)+'.h5'\n",
    "        bb = BeadDataFile.BeadDataFile(fname=fname)\n",
    "        drive_freq = int(bb.cant_freq)\n",
    "    #     freqs.append(drive_freq)\n",
    "        fit_kwargs = {'A': 0, 'f': drive_freq, 'phi': -0.056, 'A2': 0.13, 'f2': drive_freq,\n",
    "                      'delta_phi': 0.07,\n",
    "                      'error_A': 1, 'error_f': 1, 'error_phi': 0.5, 'errordef': 1,\n",
    "                      'error_A2': 1, 'error_f2': 1, 'error_delta_phi': 0.1,\n",
    "                      'limit_phi': [-2 * np.pi, 2 * np.pi], 'limit_delta_phi': [-2 * np.pi, 2 * np.pi],\n",
    "                      'limit_A': [-1000, 1000], 'limit_A2': [0, 1000],\n",
    "                      'print_level': 0, 'fix_f': True, 'fix_phi': True, 'fix_f2': True, 'fix_delta_phi': True,\n",
    "                      'fix_A2': True}\n",
    "\n",
    "        frequency = fit_kwargs['f']\n",
    "\n",
    "        xx2 = bb.response_at_freq2('x', frequency, bandwidth=bandwidth) * 50000\n",
    "        xx2 = xx2[5000:-5000:decimate]  # cut out the first and last second\n",
    "\n",
    "        xx3 = bb.response_at_freq3('x', frequency, bandwidth=bandwidth) / 6\n",
    "        xx3 = xx3[5000:-5000:decimate]  # cut out the first and last second\n",
    "\n",
    "        m1_tmp = ll.find_mle_2sin(xx2, xx3, fsamp=5000 / decimate,\n",
    "                                         noise_rms=1,\n",
    "                                         noise_rms2=1,\n",
    "                                         plot=False, suppress_print=True, **fit_kwargs)\n",
    "\n",
    "        mm_71Hz200VNoSpin.append(m1_tmp.values[0])\n",
    "    return m1_tmp.values[0]\n",
    "\n",
    "if __name__ == '__main__':\n",
    "    pool = Pool(processes=40)      \n",
    "    # Create a multiprocessing Pool\n",
    "    mm_71Hz50VNoSpin = np.array(pool.map(func1, range(0,100)))\n",
    "    pool.close()"
   ]
  },
  {
   "cell_type": "code",
   "execution_count": 21,
   "metadata": {},
   "outputs": [
    {
     "data": {
      "text/plain": [
       "array([-0.26495217, -0.26495217, -0.26495217, -0.26495217, -0.26495217,\n",
       "       -0.26495217, -0.26495217, -0.26495217, -0.26495217, -0.26495217,\n",
       "       -0.26495217, -0.26495217, -0.26495217, -0.26495217, -0.26495217,\n",
       "       -0.26495217, -0.26495217, -0.26495217, -0.26495217, -0.26495217,\n",
       "       -0.26495217, -0.26495217, -0.26495217, -0.26495217, -0.26495217,\n",
       "       -0.26495217, -0.26495217, -0.26495217, -0.26495217, -0.26495217,\n",
       "       -0.26495217, -0.26495217, -0.26495217, -0.26495217, -0.26495217,\n",
       "       -0.26495217, -0.26495217, -0.26495217, -0.26495217, -0.26495217,\n",
       "       -0.26495217, -0.26495217, -0.26495217, -0.26495217, -0.26495217,\n",
       "       -0.26495217, -0.26495217, -0.26495217, -0.26495217, -0.26495217,\n",
       "       -0.26495217, -0.26495217, -0.26495217, -0.26495217, -0.26495217,\n",
       "       -0.26495217, -0.26495217, -0.26495217, -0.26495217, -0.26495217,\n",
       "       -0.26495217, -0.26495217, -0.26495217, -0.26495217, -0.26495217,\n",
       "       -0.26495217, -0.26495217, -0.26495217, -0.26495217, -0.26495217,\n",
       "       -0.26495217, -0.26495217, -0.26495217, -0.26495217, -0.26495217,\n",
       "       -0.26495217, -0.26495217, -0.26495217, -0.26495217, -0.26495217,\n",
       "       -0.26495217, -0.26495217, -0.26495217, -0.26495217, -0.26495217,\n",
       "       -0.26495217, -0.26495217, -0.26495217, -0.26495217, -0.26495217,\n",
       "       -0.26495217, -0.26495217, -0.26495217, -0.26495217, -0.26495217,\n",
       "       -0.26495217, -0.26495217, -0.26495217, -0.26495217, -0.26495217])"
      ]
     },
     "execution_count": 21,
     "metadata": {},
     "output_type": "execute_result"
    }
   ],
   "source": [
    "mm_71Hz50VNoSpin"
   ]
  },
  {
   "cell_type": "code",
   "execution_count": 20,
   "metadata": {},
   "outputs": [
    {
     "data": {
      "text/plain": [
       "100"
      ]
     },
     "execution_count": 20,
     "metadata": {},
     "output_type": "execute_result"
    }
   ],
   "source": [
    "len(mm_71Hz50VNoSpin)"
   ]
  },
  {
   "cell_type": "code",
   "execution_count": 17,
   "metadata": {},
   "outputs": [],
   "source": [
    "ll = likelihood_analyser.LikelihoodAnalyser()\n",
    "bandwidth=1\n",
    "decimate = 10\n",
    "\n",
    "mm_71Hz200VNoSpin = []\n",
    "def func_partest(i):\n",
    "    #print(i,'  ******************')\n",
    "    fname = r'/data/new_trap/20200730/Bead2/Neutrality/71Hz200VNoSpin/Discharge_'+str(i)+'.h5'\n",
    "#     fname = r'/data/new_trap/20200720/Bead1/Millicharge/200V71Hz50kHzSpin/Discharge_'+str(i)+'.h5'\n",
    "    bb = BeadDataFile.BeadDataFile(fname=fname)\n",
    "    drive_freq = int(bb.cant_freq)\n",
    "#     freqs.append(drive_freq)\n",
    "    fit_kwargs = {'A': 0, 'f': drive_freq, 'phi': -0.056, 'A2': 0.13, 'f2': drive_freq,\n",
    "                  'delta_phi': 0.07,\n",
    "                  'error_A': 1, 'error_f': 1, 'error_phi': 0.5, 'errordef': 1,\n",
    "                  'error_A2': 1, 'error_f2': 1, 'error_delta_phi': 0.1,\n",
    "                  'limit_phi': [-2 * np.pi, 2 * np.pi], 'limit_delta_phi': [-2 * np.pi, 2 * np.pi],\n",
    "                  'limit_A': [-1000, 1000], 'limit_A2': [0, 1000],\n",
    "                  'print_level': 0, 'fix_f': True, 'fix_phi': True, 'fix_f2': True, 'fix_delta_phi': True,\n",
    "                  'fix_A2': True}\n",
    "\n",
    "    frequency = fit_kwargs['f']\n",
    "\n",
    "    xx2 = bb.response_at_freq2('x', frequency, bandwidth=bandwidth) * 50000\n",
    "    xx2 = xx2[5000:-5000:decimate]  # cut out the first and last second\n",
    "\n",
    "    xx3 = bb.response_at_freq3('x', frequency, bandwidth=bandwidth) / 6\n",
    "    xx3 = xx3[5000:-5000:decimate]  # cut out the first and last second\n",
    "\n",
    "    m1_tmp = ll.find_mle_2sin(xx2, xx3, fsamp=5000 / decimate,\n",
    "                                     noise_rms=1,\n",
    "                                     noise_rms2=1,\n",
    "                                     plot=False, suppress_print=True, **fit_kwargs)\n",
    "\n",
    "    mm_71Hz200VNoSpin.append(m1_tmp.values[0])\n",
    "    return m1_tmp.values[0]\n",
    "\n"
   ]
  },
  {
   "cell_type": "code",
   "execution_count": 27,
   "metadata": {},
   "outputs": [
    {
     "name": "stderr",
     "output_type": "stream",
     "text": [
      "\n",
      "\n",
      "  0%|          | 0/5000 [00:00<?, ?it/s]\u001b[A\u001b[A\n",
      "\n",
      "  0%|          | 24/5000 [00:00<02:01, 40.84it/s]\u001b[A\u001b[A\n",
      "\n",
      "  1%|          | 48/5000 [00:01<02:26, 33.89it/s]\u001b[A\u001b[A\n",
      "\n",
      "  1%|▏         | 72/5000 [00:01<01:52, 43.99it/s]\u001b[A\u001b[A\n",
      "\n",
      "  2%|▏         | 96/5000 [00:01<01:26, 56.59it/s]\u001b[A\u001b[A\n",
      "\n",
      "  2%|▏         | 120/5000 [00:02<01:07, 71.85it/s]\u001b[A\u001b[A\n",
      "\n",
      "  3%|▎         | 144/5000 [00:02<00:53, 90.34it/s]\u001b[A\u001b[A\n",
      "\n",
      "  3%|▎         | 168/5000 [00:02<01:21, 59.04it/s]\u001b[A\u001b[A\n",
      "\n",
      "  4%|▍         | 192/5000 [00:04<02:18, 34.61it/s]\u001b[A\u001b[A\n",
      "\n",
      "  4%|▍         | 216/5000 [00:05<03:07, 25.57it/s]\u001b[A\u001b[A\n",
      "\n",
      "  5%|▍         | 240/5000 [00:06<03:19, 23.90it/s]\u001b[A\u001b[A\n",
      "\n",
      "  5%|▌         | 264/5000 [00:07<03:13, 24.51it/s]\u001b[A\u001b[A\n",
      "\n",
      "  6%|▌         | 288/5000 [00:09<03:58, 19.77it/s]\u001b[A\u001b[A\n",
      "\n",
      "  6%|▌         | 312/5000 [00:10<04:07, 18.95it/s]\u001b[A\u001b[A\n",
      "\n",
      "  7%|▋         | 336/5000 [00:12<04:03, 19.19it/s]\u001b[A\u001b[A\n",
      "\n",
      "  7%|▋         | 360/5000 [00:13<04:12, 18.40it/s]\u001b[A\u001b[A\n",
      "\n",
      "  8%|▊         | 384/5000 [00:14<04:03, 18.95it/s]\u001b[A\u001b[A\n",
      "\n",
      "  8%|▊         | 408/5000 [00:16<04:09, 18.39it/s]\u001b[A\u001b[A\n",
      "\n",
      "  9%|▊         | 432/5000 [00:17<03:59, 19.04it/s]\u001b[A\u001b[A\n",
      "\n",
      "  9%|▉         | 456/5000 [00:18<04:10, 18.15it/s]\u001b[A\u001b[A\n",
      "\n",
      " 10%|▉         | 480/5000 [00:20<04:03, 18.58it/s]\u001b[A\u001b[A\n",
      "\n",
      " 10%|█         | 504/5000 [00:21<04:02, 18.51it/s]\u001b[A\u001b[A\n",
      "\n",
      " 11%|█         | 528/5000 [00:22<04:06, 18.14it/s]\u001b[A\u001b[A\n",
      "\n",
      " 11%|█         | 552/5000 [00:23<03:48, 19.44it/s]\u001b[A\u001b[A\n",
      "\n",
      " 12%|█▏        | 576/5000 [00:25<03:56, 18.68it/s]\u001b[A\u001b[A\n",
      "\n",
      " 12%|█▏        | 600/5000 [00:26<03:42, 19.79it/s]\u001b[A\u001b[A\n",
      "\n",
      " 12%|█▏        | 624/5000 [00:27<03:47, 19.26it/s]\u001b[A\u001b[A\n",
      "\n",
      " 13%|█▎        | 648/5000 [00:27<02:54, 24.99it/s]\u001b[A\u001b[A\n",
      "\n",
      " 13%|█▎        | 672/5000 [00:28<02:13, 32.30it/s]\u001b[A\u001b[A\n",
      "\n",
      " 14%|█▍        | 696/5000 [00:28<01:43, 41.58it/s]\u001b[A\u001b[A\n",
      "\n",
      " 14%|█▍        | 720/5000 [00:28<01:17, 54.92it/s]\u001b[A\u001b[A\n",
      "\n",
      " 15%|█▍        | 744/5000 [00:28<01:01, 69.51it/s]\u001b[A\u001b[A\n",
      "\n",
      " 15%|█▌        | 768/5000 [00:28<00:49, 84.82it/s]\u001b[A\u001b[A\n",
      "\n",
      " 16%|█▋        | 816/5000 [00:28<00:39, 106.82it/s]\u001b[A\u001b[A\n",
      "\n",
      " 17%|█▋        | 864/5000 [00:28<00:30, 136.66it/s]\u001b[A\u001b[A\n",
      "\n",
      " 18%|█▊        | 912/5000 [00:29<00:25, 163.04it/s]\u001b[A\u001b[A\n",
      "\n",
      " 19%|█▉        | 960/5000 [00:29<00:23, 174.43it/s]\u001b[A\u001b[A\n",
      "\n",
      " 20%|██        | 1008/5000 [00:29<00:20, 192.13it/s]\u001b[A\u001b[A\n",
      "\n",
      " 21%|██        | 1056/5000 [00:29<00:19, 197.88it/s]\u001b[A\u001b[A\n",
      "\n",
      " 22%|██▏       | 1104/5000 [00:29<00:17, 220.19it/s]\u001b[A\u001b[A\n",
      "\n",
      " 23%|██▎       | 1152/5000 [00:30<00:16, 229.45it/s]\u001b[A\u001b[A\n",
      "\n",
      " 24%|██▍       | 1200/5000 [00:30<00:15, 241.37it/s]\u001b[A\u001b[A\n",
      "\n",
      " 25%|██▍       | 1248/5000 [00:30<00:15, 240.24it/s]\u001b[A\u001b[A\n",
      "\n",
      " 26%|██▌       | 1296/5000 [00:30<00:15, 234.45it/s]\u001b[A\u001b[A\n",
      "\n",
      " 27%|██▋       | 1344/5000 [00:30<00:14, 246.89it/s]\u001b[A\u001b[A\n",
      "\n",
      " 28%|██▊       | 1392/5000 [00:30<00:13, 263.11it/s]\u001b[A\u001b[A\n",
      "\n",
      " 29%|██▉       | 1440/5000 [00:31<00:14, 240.88it/s]\u001b[A\u001b[A\n",
      "\n",
      " 30%|██▉       | 1488/5000 [00:31<00:13, 251.88it/s]\u001b[A\u001b[A\n",
      "\n",
      " 31%|███       | 1536/5000 [00:31<00:13, 252.23it/s]\u001b[A\u001b[A\n",
      "\n",
      " 32%|███▏      | 1584/5000 [00:31<00:12, 272.89it/s]\u001b[A\u001b[A\n",
      "\n",
      " 33%|███▎      | 1632/5000 [00:31<00:11, 284.16it/s]\u001b[A\u001b[A\n",
      "\n",
      " 34%|███▎      | 1680/5000 [00:32<00:13, 250.87it/s]\u001b[A\u001b[A\n",
      "\n",
      " 35%|███▍      | 1728/5000 [00:32<00:12, 259.65it/s]\u001b[A\u001b[A\n",
      "\n",
      " 36%|███▌      | 1776/5000 [00:33<00:25, 126.39it/s]\u001b[A\u001b[A"
     ]
    },
    {
     "ename": "KeyboardInterrupt",
     "evalue": "",
     "output_type": "error",
     "traceback": [
      "\u001b[0;31m---------------------------------------------------------------------------\u001b[0m",
      "\u001b[0;31mKeyboardInterrupt\u001b[0m                         Traceback (most recent call last)",
      "\u001b[0;32m<ipython-input-27-eeec8940a7c9>\u001b[0m in \u001b[0;36m<module>\u001b[0;34m\u001b[0m\n\u001b[1;32m      2\u001b[0m \u001b[0;32mfrom\u001b[0m \u001b[0mtqdm\u001b[0m \u001b[0;32mimport\u001b[0m \u001b[0mtqdm\u001b[0m\u001b[0;34m\u001b[0m\u001b[0;34m\u001b[0m\u001b[0m\n\u001b[1;32m      3\u001b[0m \u001b[0mmm_71Hz50VNoSpin\u001b[0m\u001b[0;34m=\u001b[0m\u001b[0;34m[\u001b[0m\u001b[0;34m]\u001b[0m\u001b[0;34m\u001b[0m\u001b[0;34m\u001b[0m\u001b[0m\n\u001b[0;32m----> 4\u001b[0;31m \u001b[0mtest1\u001b[0m \u001b[0;34m=\u001b[0m \u001b[0mParallel\u001b[0m\u001b[0;34m(\u001b[0m\u001b[0mn_jobs\u001b[0m\u001b[0;34m=\u001b[0m\u001b[0;36m24\u001b[0m\u001b[0;34m)\u001b[0m\u001b[0;34m(\u001b[0m\u001b[0mdelayed\u001b[0m\u001b[0;34m(\u001b[0m\u001b[0mfunc_partest\u001b[0m\u001b[0;34m)\u001b[0m\u001b[0;34m(\u001b[0m\u001b[0mi\u001b[0m\u001b[0;34m)\u001b[0m \u001b[0;32mfor\u001b[0m \u001b[0mi\u001b[0m \u001b[0;32min\u001b[0m \u001b[0mtqdm\u001b[0m\u001b[0;34m(\u001b[0m\u001b[0mrange\u001b[0m\u001b[0;34m(\u001b[0m\u001b[0;36m5000\u001b[0m\u001b[0;34m)\u001b[0m\u001b[0;34m)\u001b[0m\u001b[0;34m)\u001b[0m\u001b[0;34m\u001b[0m\u001b[0;34m\u001b[0m\u001b[0m\n\u001b[0m",
      "\u001b[0;32m~/.local/lib/python3.6/site-packages/joblib/parallel.py\u001b[0m in \u001b[0;36m__call__\u001b[0;34m(self, iterable)\u001b[0m\n\u001b[1;32m   1015\u001b[0m \u001b[0;34m\u001b[0m\u001b[0m\n\u001b[1;32m   1016\u001b[0m             \u001b[0;32mwith\u001b[0m \u001b[0mself\u001b[0m\u001b[0;34m.\u001b[0m\u001b[0m_backend\u001b[0m\u001b[0;34m.\u001b[0m\u001b[0mretrieval_context\u001b[0m\u001b[0;34m(\u001b[0m\u001b[0;34m)\u001b[0m\u001b[0;34m:\u001b[0m\u001b[0;34m\u001b[0m\u001b[0;34m\u001b[0m\u001b[0m\n\u001b[0;32m-> 1017\u001b[0;31m                 \u001b[0mself\u001b[0m\u001b[0;34m.\u001b[0m\u001b[0mretrieve\u001b[0m\u001b[0;34m(\u001b[0m\u001b[0;34m)\u001b[0m\u001b[0;34m\u001b[0m\u001b[0;34m\u001b[0m\u001b[0m\n\u001b[0m\u001b[1;32m   1018\u001b[0m             \u001b[0;31m# Make sure that we get a last message telling us we are done\u001b[0m\u001b[0;34m\u001b[0m\u001b[0;34m\u001b[0m\u001b[0;34m\u001b[0m\u001b[0m\n\u001b[1;32m   1019\u001b[0m             \u001b[0melapsed_time\u001b[0m \u001b[0;34m=\u001b[0m \u001b[0mtime\u001b[0m\u001b[0;34m.\u001b[0m\u001b[0mtime\u001b[0m\u001b[0;34m(\u001b[0m\u001b[0;34m)\u001b[0m \u001b[0;34m-\u001b[0m \u001b[0mself\u001b[0m\u001b[0;34m.\u001b[0m\u001b[0m_start_time\u001b[0m\u001b[0;34m\u001b[0m\u001b[0;34m\u001b[0m\u001b[0m\n",
      "\u001b[0;32m~/.local/lib/python3.6/site-packages/joblib/parallel.py\u001b[0m in \u001b[0;36mretrieve\u001b[0;34m(self)\u001b[0m\n\u001b[1;32m    907\u001b[0m             \u001b[0;32mtry\u001b[0m\u001b[0;34m:\u001b[0m\u001b[0;34m\u001b[0m\u001b[0;34m\u001b[0m\u001b[0m\n\u001b[1;32m    908\u001b[0m                 \u001b[0;32mif\u001b[0m \u001b[0mgetattr\u001b[0m\u001b[0;34m(\u001b[0m\u001b[0mself\u001b[0m\u001b[0;34m.\u001b[0m\u001b[0m_backend\u001b[0m\u001b[0;34m,\u001b[0m \u001b[0;34m'supports_timeout'\u001b[0m\u001b[0;34m,\u001b[0m \u001b[0;32mFalse\u001b[0m\u001b[0;34m)\u001b[0m\u001b[0;34m:\u001b[0m\u001b[0;34m\u001b[0m\u001b[0;34m\u001b[0m\u001b[0m\n\u001b[0;32m--> 909\u001b[0;31m                     \u001b[0mself\u001b[0m\u001b[0;34m.\u001b[0m\u001b[0m_output\u001b[0m\u001b[0;34m.\u001b[0m\u001b[0mextend\u001b[0m\u001b[0;34m(\u001b[0m\u001b[0mjob\u001b[0m\u001b[0;34m.\u001b[0m\u001b[0mget\u001b[0m\u001b[0;34m(\u001b[0m\u001b[0mtimeout\u001b[0m\u001b[0;34m=\u001b[0m\u001b[0mself\u001b[0m\u001b[0;34m.\u001b[0m\u001b[0mtimeout\u001b[0m\u001b[0;34m)\u001b[0m\u001b[0;34m)\u001b[0m\u001b[0;34m\u001b[0m\u001b[0;34m\u001b[0m\u001b[0m\n\u001b[0m\u001b[1;32m    910\u001b[0m                 \u001b[0;32melse\u001b[0m\u001b[0;34m:\u001b[0m\u001b[0;34m\u001b[0m\u001b[0;34m\u001b[0m\u001b[0m\n\u001b[1;32m    911\u001b[0m                     \u001b[0mself\u001b[0m\u001b[0;34m.\u001b[0m\u001b[0m_output\u001b[0m\u001b[0;34m.\u001b[0m\u001b[0mextend\u001b[0m\u001b[0;34m(\u001b[0m\u001b[0mjob\u001b[0m\u001b[0;34m.\u001b[0m\u001b[0mget\u001b[0m\u001b[0;34m(\u001b[0m\u001b[0;34m)\u001b[0m\u001b[0;34m)\u001b[0m\u001b[0;34m\u001b[0m\u001b[0;34m\u001b[0m\u001b[0m\n",
      "\u001b[0;32m~/.local/lib/python3.6/site-packages/joblib/_parallel_backends.py\u001b[0m in \u001b[0;36mwrap_future_result\u001b[0;34m(future, timeout)\u001b[0m\n\u001b[1;32m    560\u001b[0m         AsyncResults.get from multiprocessing.\"\"\"\n\u001b[1;32m    561\u001b[0m         \u001b[0;32mtry\u001b[0m\u001b[0;34m:\u001b[0m\u001b[0;34m\u001b[0m\u001b[0;34m\u001b[0m\u001b[0m\n\u001b[0;32m--> 562\u001b[0;31m             \u001b[0;32mreturn\u001b[0m \u001b[0mfuture\u001b[0m\u001b[0;34m.\u001b[0m\u001b[0mresult\u001b[0m\u001b[0;34m(\u001b[0m\u001b[0mtimeout\u001b[0m\u001b[0;34m=\u001b[0m\u001b[0mtimeout\u001b[0m\u001b[0;34m)\u001b[0m\u001b[0;34m\u001b[0m\u001b[0;34m\u001b[0m\u001b[0m\n\u001b[0m\u001b[1;32m    563\u001b[0m         \u001b[0;32mexcept\u001b[0m \u001b[0mLokyTimeoutError\u001b[0m\u001b[0;34m:\u001b[0m\u001b[0;34m\u001b[0m\u001b[0;34m\u001b[0m\u001b[0m\n\u001b[1;32m    564\u001b[0m             \u001b[0;32mraise\u001b[0m \u001b[0mTimeoutError\u001b[0m\u001b[0;34m(\u001b[0m\u001b[0;34m)\u001b[0m\u001b[0;34m\u001b[0m\u001b[0;34m\u001b[0m\u001b[0m\n",
      "\u001b[0;32m/usr/lib/python3.6/concurrent/futures/_base.py\u001b[0m in \u001b[0;36mresult\u001b[0;34m(self, timeout)\u001b[0m\n\u001b[1;32m    425\u001b[0m                 \u001b[0;32mreturn\u001b[0m \u001b[0mself\u001b[0m\u001b[0;34m.\u001b[0m\u001b[0m__get_result\u001b[0m\u001b[0;34m(\u001b[0m\u001b[0;34m)\u001b[0m\u001b[0;34m\u001b[0m\u001b[0;34m\u001b[0m\u001b[0m\n\u001b[1;32m    426\u001b[0m \u001b[0;34m\u001b[0m\u001b[0m\n\u001b[0;32m--> 427\u001b[0;31m             \u001b[0mself\u001b[0m\u001b[0;34m.\u001b[0m\u001b[0m_condition\u001b[0m\u001b[0;34m.\u001b[0m\u001b[0mwait\u001b[0m\u001b[0;34m(\u001b[0m\u001b[0mtimeout\u001b[0m\u001b[0;34m)\u001b[0m\u001b[0;34m\u001b[0m\u001b[0;34m\u001b[0m\u001b[0m\n\u001b[0m\u001b[1;32m    428\u001b[0m \u001b[0;34m\u001b[0m\u001b[0m\n\u001b[1;32m    429\u001b[0m             \u001b[0;32mif\u001b[0m \u001b[0mself\u001b[0m\u001b[0;34m.\u001b[0m\u001b[0m_state\u001b[0m \u001b[0;32min\u001b[0m \u001b[0;34m[\u001b[0m\u001b[0mCANCELLED\u001b[0m\u001b[0;34m,\u001b[0m \u001b[0mCANCELLED_AND_NOTIFIED\u001b[0m\u001b[0;34m]\u001b[0m\u001b[0;34m:\u001b[0m\u001b[0;34m\u001b[0m\u001b[0;34m\u001b[0m\u001b[0m\n",
      "\u001b[0;32m/usr/lib/python3.6/threading.py\u001b[0m in \u001b[0;36mwait\u001b[0;34m(self, timeout)\u001b[0m\n\u001b[1;32m    293\u001b[0m         \u001b[0;32mtry\u001b[0m\u001b[0;34m:\u001b[0m    \u001b[0;31m# restore state no matter what (e.g., KeyboardInterrupt)\u001b[0m\u001b[0;34m\u001b[0m\u001b[0;34m\u001b[0m\u001b[0m\n\u001b[1;32m    294\u001b[0m             \u001b[0;32mif\u001b[0m \u001b[0mtimeout\u001b[0m \u001b[0;32mis\u001b[0m \u001b[0;32mNone\u001b[0m\u001b[0;34m:\u001b[0m\u001b[0;34m\u001b[0m\u001b[0;34m\u001b[0m\u001b[0m\n\u001b[0;32m--> 295\u001b[0;31m                 \u001b[0mwaiter\u001b[0m\u001b[0;34m.\u001b[0m\u001b[0macquire\u001b[0m\u001b[0;34m(\u001b[0m\u001b[0;34m)\u001b[0m\u001b[0;34m\u001b[0m\u001b[0;34m\u001b[0m\u001b[0m\n\u001b[0m\u001b[1;32m    296\u001b[0m                 \u001b[0mgotit\u001b[0m \u001b[0;34m=\u001b[0m \u001b[0;32mTrue\u001b[0m\u001b[0;34m\u001b[0m\u001b[0;34m\u001b[0m\u001b[0m\n\u001b[1;32m    297\u001b[0m             \u001b[0;32melse\u001b[0m\u001b[0;34m:\u001b[0m\u001b[0;34m\u001b[0m\u001b[0;34m\u001b[0m\u001b[0m\n",
      "\u001b[0;31mKeyboardInterrupt\u001b[0m: "
     ]
    }
   ],
   "source": [
    "from joblib import Parallel, delayed\n",
    "from tqdm import tqdm\n",
    "mm_71Hz50VNoSpin=[]\n",
    "test1 = Parallel(n_jobs=24)(delayed(func_partest)(i) for i in tqdm(range(5000)))\n"
   ]
  },
  {
   "cell_type": "markdown",
   "metadata": {},
   "source": [
    "### 71Hz, different spin"
   ]
  },
  {
   "cell_type": "code",
   "execution_count": 22,
   "metadata": {},
   "outputs": [],
   "source": [
    "# mm_71Hz50VNoSpin = np.array(mm_71Hz50VNoSpin)\n",
    "# mm_71Hz50VNoSpin2 = np.array(mm_71Hz50VNoSpin2)\n",
    "mm_71Hz200VNoSpin = np.array(mm_71Hz200VNoSpin)"
   ]
  },
  {
   "cell_type": "code",
   "execution_count": 25,
   "metadata": {
    "scrolled": false
   },
   "outputs": [
    {
     "ename": "SyntaxError",
     "evalue": "invalid syntax (<ipython-input-25-47da2ef45a4c>, line 15)",
     "output_type": "error",
     "traceback": [
      "\u001b[0;36m  File \u001b[0;32m\"<ipython-input-25-47da2ef45a4c>\"\u001b[0;36m, line \u001b[0;32m15\u001b[0m\n\u001b[0;31m    ax.scatter(range(len(mm_71Hz50VNoSpin2)), mm_71Hz50VNoSpin2/5/scaleX, label='50V, 71Hz., NoSpin, second')\u001b[0m\n\u001b[0m     ^\u001b[0m\n\u001b[0;31mSyntaxError\u001b[0m\u001b[0;31m:\u001b[0m invalid syntax\n"
     ]
    }
   ],
   "source": [
    "_, ax= plt.subplots(figsize=(9.5,4))\n",
    "# ax.scatter(range(500), mm_200V71Hz11kHzSpin/20/scaleX, label='200V, 71Hz., 11kHzSpin')\n",
    "# ax.scatter(range(500), mm_200V71Hz14kHzSpin/20/scaleX, label='200V, 71Hz., 14kHzSpin')\n",
    "# ax.scatter(range(500), mm_200V71Hz24kHzSpin/20/scaleX, label='200V, 71Hz., 24kHzSpin')\n",
    "# ax.scatter(range(500), mm_200V71Hz32kHzSpin/20/scaleX, label='200V, 71Hz., 32kHzSpin')\n",
    "# ax.scatter(range(500), mm_200V71Hz40kHzSpin/20/scaleX, label='200V, 71Hz., 40kHzSpin')\n",
    "# ax.scatter(range(500), mm_200V71Hz50kHzSpin/20/scaleX, label='200V, 71Hz., 50kHzSpin')\n",
    "# ax.scatter(range(2000), mm_50V71Hz50kHzSpin[2000:]/5/scaleX, label='200V, 71Hz., 50V 50kHzSpin')\n",
    "# ax.scatter(range(3500), mm_Random200V50kHzSpin/5/scaleX, label='200V, Random., 50kHzSpin')\n",
    "# ax.scatter(range(2000), mm_71Hz200VNoSpin/20/scaleX, label='200V, 71Hz., NoSpin')\n",
    "ax.scatter(range(len(mm_71Hz50VNoSpin)), np.divide(mm_71Hz50VNoSpin,5,scaleX, label='50V, 71Hz., NoSpin')\n",
    "# ax.scatter(range(500), mm_71Hz20VNoSpin/2/scaleX, label='20V, 71Hz., NoSpin')\n",
    "# ax.scatter(range(500), mm_71Hz50VNoSpin_1sec/5/scaleX10/np.sqrt(10), label='50V, 71Hz., NoSpin, 1 sec. (notmalized)')\n",
    "# ax.scatter(range(500), mm_Random50VNoSpin/5/scaleX, label='50V, Random, NoSpin')\n",
    "ax.scatter(range(len(mm_71Hz50VNoSpin2)), mm_71Hz50VNoSpin2/5/scaleX, label='50V, 71Hz., NoSpin, second')\n",
    "# # ax.scatter(range(len(mm_71Hz50VNoSpin2)), mm_71Hz50VNoSpin2_out/5/scaleX, label='50V, 71Hz., NoSpin, second')\n",
    "\n",
    "# ax.scatter(range(len(mm_71Hz50VNoSpin_Y)), mm_71Hz50VNoSpin_Y/5/scaleX, label='50V, 71Hz., NoSpin, Y')\n",
    "# ax.scatter(range(len(mm_71Hz20VNoSpin_Y)), mm_71Hz20VNoSpin_Y/2/scaleX, label='20V, 71Hz., NoSpin, Y')\n",
    "ax.scatter(range(len(mm_71Hz200VNoSpin)), mm_71Hz200VNoSpin/20/scaleX, label='200V, 71Hz., NoSpin, Y')\n",
    "ax.set(xlabel='Dataset', ylabel=r'$\\epsilon$')\n",
    "ax.legend()"
   ]
  },
  {
   "cell_type": "code",
   "execution_count": null,
   "metadata": {},
   "outputs": [],
   "source": [
    "data = mm_71Hz200VNoSpin\n",
    "# data = list(mm_71Hz200VNoSpin)+list(mm_71Hz50VNoSpin)\n",
    "tmpp = [mmm for mmm in np.array(data)/20/scaleX if (mmm<0.4)&(mmm>-0.4)]\n",
    "print(np.mean(tmpp), np.std(tmpp)/np.sqrt(len(tmpp)))"
   ]
  },
  {
   "cell_type": "code",
   "execution_count": null,
   "metadata": {},
   "outputs": [],
   "source": [
    "data = mm_71Hz50VNoSpin\n",
    "tmpp = [mmm for mmm in np.array(data)/5/scaleX if (mmm<0.01)&(mmm>-0.01)]\n",
    "\n",
    "data = mm_71Hz50VNoSpin2\n",
    "tmpp23 = [mmm/5/scaleX for mmm,mm_out in zip(np.array(data), mm_71Hz50VNoSpin2_out) if (mmm<0.4)&(mmm>-0.4)&(mm_out>-0.4)&(mm_out>-0.4)]"
   ]
  },
  {
   "cell_type": "code",
   "execution_count": null,
   "metadata": {},
   "outputs": [],
   "source": [
    "print(np.mean(tmpp23), np.std(tmpp23)/np.sqrt(len(tmpp23))), print(np.mean(mm_71Hz50VNoSpin2/5/scaleX ), np.std(mm_71Hz50VNoSpin2)/5/scaleX/np.sqrt(len(mm_71Hz50VNoSpin2)))"
   ]
  },
  {
   "cell_type": "code",
   "execution_count": null,
   "metadata": {},
   "outputs": [],
   "source": [
    "mm_71Hz50VNoSpin2_out = mm_71Hz50VNoSpin2"
   ]
  },
  {
   "cell_type": "code",
   "execution_count": null,
   "metadata": {},
   "outputs": [],
   "source": [
    "_,ax = plt.subplots()\n",
    "ax.scatter(mm_71Hz50VNoSpin2, mm_71Hz50VNoSpin2_out)\n",
    "ax.set(xlabel='in-band', ylabel='side-band')"
   ]
  },
  {
   "cell_type": "code",
   "execution_count": null,
   "metadata": {},
   "outputs": [],
   "source": [
    "means = [np.mean(tmpp[j*100:(j+1)*100]) for j in range(54)]\n",
    "stds = [np.std(tmpp[j*100:(j+1)*100]) for j in range(54)]\n",
    "\n",
    "means2 = [np.mean(tmpp2[j*100:(j+1)*100]) for j in range(49)]\n",
    "stds2 = [np.std(tmpp2[j*100:(j+1)*100]) for j in range(49)]\n",
    "\n",
    "means3 = [np.mean(mm_71Hz50VNoSpin_Y[j*100:(j+1)*100]/5/scaleX) for j in range(40)]\n",
    "stds3 = [np.std(mm_71Hz50VNoSpin_Y[j*100:(j+1)*100]/5/scaleX) for j in range(40)]"
   ]
  },
  {
   "cell_type": "code",
   "execution_count": null,
   "metadata": {},
   "outputs": [],
   "source": [
    "_,ax = plt.subplots(figsize=(9.5,4))\n",
    "ax.errorbar(np.arange(0,5400,100), means, yerr=stds/np.sqrt(100),fmt='o')\n",
    "ax.errorbar(np.arange(0,4900,100), means2, yerr=stds2/np.sqrt(100),fmt='o')\n",
    "ax.errorbar(np.arange(0,4000,100), means3, yerr=stds3/np.sqrt(100),fmt='o')\n",
    "ax.plot(np.arange(0,5400,100), np.arange(0,5400,100)*0, 'r--')\n",
    "ax.set(xlabel='dataset', ylabel=r'$\\epsilon$')"
   ]
  },
  {
   "cell_type": "code",
   "execution_count": null,
   "metadata": {},
   "outputs": [],
   "source": [
    "_,ax = plt.subplots()\n",
    "_ = ax.hist(mm_71Hz50VNoSpin/5/scaleX, bins=30, range=(-0.01,0.01))"
   ]
  },
  {
   "cell_type": "code",
   "execution_count": null,
   "metadata": {},
   "outputs": [],
   "source": [
    "means = [np.mean(mm_200V71Hz11kHzSpin/20/scaleX), np.mean(mm_200V71Hz14kHzSpin/20/scaleX), \n",
    "         np.mean(mm_200V71Hz24kHzSpin/20/scaleX), np.mean(mm_200V71Hz32kHzSpin/20/scaleX), \n",
    "         np.mean(mm_200V71Hz40kHzSpin/20/scaleX), np.mean(mm_200V71Hz50kHzSpin/20/scaleX)]\n",
    "stds = [np.std(mm_200V71Hz11kHzSpin/20/scaleX)/np.sqrt(500), np.std(mm_200V71Hz14kHzSpin/20/scaleX)/np.sqrt(500)\n",
    "        ,np.std(mm_200V71Hz24kHzSpin/20/scaleX)/np.sqrt(500), np.std(mm_200V71Hz32kHzSpin/20/scaleX)/np.sqrt(500)\n",
    "       ,np.std(mm_200V71Hz40kHzSpin/20/scaleX)/np.sqrt(500),np.std(mm_200V71Hz50kHzSpin/20/scaleX)/np.sqrt(500)]\n",
    "spin_freqs = [11, 14, 24, 32, 40, 50]\n",
    "\n",
    "means2 = [np.mean(mm_50V71Hz50kHzSpin[2000:]/5/scaleX)]\n",
    "stds2 = [np.std(mm_50V71Hz50kHzSpin[2000:]/5/scaleX)/np.sqrt(2000)]\n",
    "spin_freqs2 = [50]\n",
    "\n",
    "means22 = [np.mean(mm_200V71Hz32kHzSpin_stern/20/5.08), np.mean(mm_200V71Hz40kHzSpin_stern/20/5.08), np.mean(mm_200V71Hz50kHzSpin_stern/20/5.08)]\n",
    "stds22 = [np.std(mm_200V71Hz32kHzSpin_stern/20/5.08)/np.sqrt(500),np.std(mm_200V71Hz32kHzSpin_stern/20/5.08)/np.sqrt(500),np.std(mm_200V71Hz32kHzSpin_stern/20/5.08)/np.sqrt(500)]\n",
    "spin_freqs22 = [32, 40, 50]\n",
    "\n",
    "spin_freqs = [11, 14, 24, 32, 40, 50]\n",
    "\n",
    "means3 = [np.mean(mm_Random200V50kHzSpin/20/scaleX)]\n",
    "stds3 = [np.std(mm_Random200V50kHzSpin/20/scaleX)/np.sqrt(3500)]\n",
    "spin_freqs3 = [50]\n",
    "\n",
    "\n",
    "means4 = [np.mean(mm_71Hz200VNoSpin/20/scaleX)]\n",
    "stds4 = [np.std(mm_71Hz200VNoSpin/20/scaleX)/np.sqrt(2000)]\n",
    "spin_freqs4 = [27]\n",
    "\n",
    "means5 = [np.mean(mm_71Hz50VNoSpin/5/scaleX), np.mean(mm_71Hz50VNoSpin2/5/scaleX)]\n",
    "stds5 = [np.std(mm_71Hz50VNoSpin/5/scaleX)/np.sqrt(5500), np.std(mm_71Hz50VNoSpin2/5/scaleX)/np.sqrt(5000)]\n",
    "spin_freqs5 = [1, 4]\n",
    "\n",
    "means6 = [np.mean(mm_71Hz50VNoSpin/2/scaleX)]\n",
    "stds6 = [np.std(mm_71Hz50VNoSpin/2/scaleX)/np.sqrt(500)]\n",
    "spin_freqs6 = [2]\n",
    "\n",
    "means7 = [np.mean(mm_71Hz50VNoSpin_1sec/5/scaleX10)]\n",
    "stds7 = [np.std(mm_71Hz50VNoSpin_1sec/5/scaleX10)/np.sqrt(500)]\n",
    "spin_freqs7 = [3]\n",
    "\n",
    "means8 = [np.mean(mm_Random50VNoSpin/5/scaleX10)]\n",
    "stds8 = [np.std(mm_Random50VNoSpin/5/scaleX10)/np.sqrt(500)]\n",
    "spin_freqs8 = [4]\n",
    "\n",
    "means9 = [np.mean(mm_71Hz50VNoSpin_Y[:4000]/5/scaleX)]\n",
    "stds9 = [np.std(mm_71Hz50VNoSpin_Y[:4000]/5/scaleX)/np.sqrt(4000)]\n",
    "spin_freqs9 = [5]\n",
    "\n",
    "means10 = [np.mean(mm_71Hz200VNoSpin_Y/20/scaleX)]\n",
    "stds10 = [np.std(mm_71Hz200VNoSpin_Y/20/scaleX)/np.sqrt(500)]\n",
    "spin_freqs10 = [6]\n",
    "\n",
    "means11 = [np.mean(mm_71Hz20VNoSpin_Y/2/scaleX)]\n",
    "stds11 = [np.std(mm_71Hz20VNoSpin_Y/2/scaleX)/np.sqrt(500)]\n",
    "spin_freqs11 = [7]\n",
    "\n",
    "_,ax = plt.subplots(1,2,figsize=(9.5,4), sharey=True)\n",
    "ax[0].errorbar(spin_freqs, means, yerr=stds, fmt='o', label='71Hz, 200V')\n",
    "ax[0].errorbar(spin_freqs22, means22, yerr=stds22, fmt='o', label='71Hz, 200V - stern')\n",
    "ax[0].errorbar(spin_freqs3, means3, yerr=stds3, fmt='o', label='random, 200V')\n",
    "# ax[0].errorbar(spin_freqs4, means4, yerr=stds4, fmt='o', label='71Hz, no spin')\n",
    "ax[0].plot(np.arange(5,55),np.arange(5,55)*0, 'r--')\n",
    "\n",
    "ax[1].errorbar(spin_freqs5, means5, yerr=stds5, fmt='o', label='71Hz, 50V')\n",
    "ax[1].errorbar(spin_freqs6, means6, yerr=stds6, fmt='o', label='71Hz, 20V')\n",
    "ax[1].errorbar(spin_freqs7, means7/np.sqrt(10), yerr=stds7/np.sqrt(10), fmt='o', label='71Hz, 50V, 1 sec.')\n",
    "# ax[1].errorbar(spin_freqs8, means8, yerr=stds8, fmt='o', label='Random, 50V, no spin')\n",
    "ax[1].errorbar(spin_freqs9, means9, yerr=stds9, fmt='o', label='71Hz, 50V, Y-axis')\n",
    "ax[1].errorbar(spin_freqs10, means10, yerr=stds10, fmt='o', label='71Hz, 200V, Y-axis')\n",
    "ax[1].errorbar(spin_freqs11, means11, yerr=stds11, fmt='o', label='71Hz, 20V, Y-axis')\n",
    "ax[1].plot(np.arange(0,9),np.arange(0,9)*0, 'r--')\n",
    "\n",
    "ax[0].set(xlabel='Spin frequenct [kHz.]', ylabel=r'$\\epsilon$')\n",
    "[a.legend() for a in ax]\n",
    "ax[1].xaxis.set_ticklabels([])\n",
    "ax[1].set(title='No-Spin')"
   ]
  },
  {
   "cell_type": "code",
   "execution_count": null,
   "metadata": {},
   "outputs": [],
   "source": [
    "means5 = [np.mean(mm_71Hz50VNoSpin/5/scaleX), np.mean(mm_71Hz50VNoSpin2/5/scaleX)]\n",
    "stds5 = [np.std(mm_71Hz50VNoSpin/5/scaleX)/np.sqrt(5500), np.std(mm_71Hz50VNoSpin2/5/scaleX)/np.sqrt(5000)]\n",
    "spin_freqs5 = [1, 2]\n",
    "\n",
    "means4 = [np.mean(mm_71Hz200VNoSpin/20/scaleX)]\n",
    "stds4 = [np.std(mm_71Hz200VNoSpin/20/scaleX)/np.sqrt(2000)]\n",
    "spin_freqs4 = [3]\n",
    "\n",
    "_,ax = plt.subplots()\n",
    "ax.errorbar(spin_freqs5, means5, yerr=stds5, fmt='o', label='71Hz, 50V')\n",
    "# ax.errorbar(spin_freqs4, means4, yerr=stds4, fmt='o', label='71Hz, 200V')\n",
    "# ax.errorbar(spin_freqs7, means7/np.sqrt(10), yerr=stds7/np.sqrt(10), fmt='o', label='71Hz, 50V, 1 sec.')\n",
    "# ax.errorbar(spin_freqs9, means9, yerr=stds9, fmt='o', label='71Hz, 50V, Y-axis')\n",
    "# ax.errorbar(spin_freqs10, means10, yerr=stds10, fmt='o', label='71Hz, 200V, Y-axis')\n",
    "# ax.errorbar(spin_freqs11, means11, yerr=stds11, fmt='o', label='71Hz, 20V, Y-axis')\n",
    "ax.plot(np.arange(0,4),np.arange(0,4)*0, 'r--')\n",
    "\n",
    "ax.set(ylabel=r'$\\epsilon$', title='No-Spin')\n",
    "ax.legend(ncol=2)\n",
    "ax.xaxis.set_ticklabels([])\n",
    "# print(2*stds10[0]+means10)"
   ]
  },
  {
   "cell_type": "markdown",
   "metadata": {},
   "source": [
    "### Look at the spin"
   ]
  },
  {
   "cell_type": "code",
   "execution_count": null,
   "metadata": {},
   "outputs": [],
   "source": [
    "a,b = bb.welch_psd('spin',res=5000)\n",
    "cutoff = int(1000/10)\n",
    "a[np.argmax(b[cutoff:])+cutoff]"
   ]
  },
  {
   "cell_type": "code",
   "execution_count": null,
   "metadata": {
    "scrolled": true
   },
   "outputs": [],
   "source": [
    "def funcS(i):\n",
    "    print(i,'  ******************')\n",
    "    fname = r'/data/new_trap/20200730/Bead2/Neutrality/71Hz50VNoSpin/Discharge_'+str(i)+'.h5'\n",
    "    bb = BeadDataFile.BeadDataFile(fname=fname)\n",
    "    b, a = matplotlib.mlab.psd(bb.spin_data, Fs = 200000, NFFT = 20000)\n",
    "    cutoff = int(30000/10)\n",
    "    return (a[np.argmax(b[cutoff:]-aa1[cutoff:])+cutoff])\n",
    "    \n",
    "\n",
    "if __name__ == '__main__':\n",
    "    pool = Pool(processes=40)                         # Create a multiprocessing Pool\n",
    "    observed_nospin3_Y = np.array(pool.map(funcS, range(3000)))\n",
    "    pool.close()"
   ]
  },
  {
   "cell_type": "code",
   "execution_count": null,
   "metadata": {},
   "outputs": [],
   "source": [
    "spins = []\n",
    "for i in range(0,5500,100):\n",
    "    fname = r'/data/new_trap/20200730/Bead2/Neutrality/71Hz50VNoSpin/Discharge_'+str(i)+'.h5'\n",
    "    bb = BeadDataFile.BeadDataFile(fname=fname)\n",
    "    aa, bb = matplotlib.mlab.psd(bb.spin_data, Fs = 200000, NFFT = 200000)\n",
    "    spins.append(np.mean(aa[(bb>60)*(bb<82)])*1e10)"
   ]
  },
  {
   "cell_type": "code",
   "execution_count": null,
   "metadata": {},
   "outputs": [],
   "source": [
    "datafile_num = 350\n",
    "datafile_num1 = datafile_num + 1\n",
    "fname = r'/data/new_trap/20200730/Bead2/Neutrality/71Hz50VNoSpin/Discharge_'+str(datafile_num)+'.h5'\n",
    "# fname = r'/data/new_trap/20200730/Bead2/InitialTest/Data65.h5'\n",
    "bb = BeadDataFile.BeadDataFile(fname=fname)\n",
    "fname = r'/data/new_trap/20200730/Bead2/Neutrality/71Hz200VNoSpin/Discharge_'+str(datafile_num1)+'.h5'\n",
    "bb1 = BeadDataFile.BeadDataFile(fname=fname)\n",
    "_,ax = plt.subplots()\n",
    "aaa2, bbb2 = matplotlib.mlab.psd(bb.spin_data, Fs = 200000, NFFT = 2000000)\n",
    "ax.semilogy(bbb2, aaa2, label='11kHz')\n",
    "aaa1, bbb1 = matplotlib.mlab.psd(bb1.spin_data, Fs = 200000, NFFT = 2000000)\n",
    "ax.semilogy(bbb1, aaa1, label='11kHz', alpha=0.5)\n",
    "ax.legend()\n",
    "ax.set(xlim=(10,None), xlabel='Frequency [Hz.]', ylabel='spin-psd[a.u.]', title='datafile number: '+str(datafile_num))\n",
    "# print(np.mean(aa[(bb>60)*(bb<82)])*1e10)\n",
    "# cutoff = int(30000/10)\n",
    "# bb[np.argmax(aa[cutoff:])+cutoff]"
   ]
  },
  {
   "cell_type": "code",
   "execution_count": null,
   "metadata": {},
   "outputs": [],
   "source": [
    "_,ax = plt.subplots(figsize=(9.5,4))\n",
    "# ax.scatter(range(len(observed_spin1)), observed_spin1, label='11kHz')\n",
    "# ax.scatter(range(len(observed_spin2)), observed_spin2, label='14kHz')\n",
    "# ax.scatter(range(len(observed_spin3)), observed_spin3, label='24kHz')\n",
    "# ax.scatter(range(len(observed_spin4)), observed_spin4, label='32kHz')\n",
    "# ax.scatter(range(len(observed_spin5)), observed_spin5, label='40kHz')\n",
    "# ax.scatter(range(len(observed_spin6)), observed_spin6, label='50kHz')\n",
    "# ax.plot(np.arange(5000)*10, observed_nospin1, label='50V,71Hz, X')\n",
    "# ax.plot(np.arange(5000)*10, observed_nospin2, label='50V,71Hz, X, second dataset')\n",
    "ax.semilogy(np.arange(5000)*10, observed_nospin2_Y, label='50V,71Hz, Y')\n",
    "ax.semilogy(np.arange(3000)*10, observed_nospin3_Y, label='200V,71Hz, Y')\n",
    "ax.set(xlabel='time [sec.]', ylabel='spin')\n",
    "ax.legend()"
   ]
  },
  {
   "cell_type": "code",
   "execution_count": null,
   "metadata": {},
   "outputs": [],
   "source": [
    "_,ax = plt.subplots()\n",
    "ax.scatter(mm_71Hz50VNoSpin2, observed_nospin2)\n",
    "ttt = np.array([mm for mm,mm2 in zip(mm_71Hz50VNoSpin2, observed_nospin2) if mm2>5000])\n",
    "len(ttt), np.mean(ttt/5/scaleX), np.std(ttt/5/scaleX)/np.sqrt(len(ttt))"
   ]
  },
  {
   "cell_type": "code",
   "execution_count": null,
   "metadata": {
    "scrolled": true
   },
   "outputs": [],
   "source": [
    "def func2(i, lasti):\n",
    "# for i,bdf_ in enumerate(data_bdfs2):\n",
    "    print(i,'  ******************')\n",
    "    fname = r'/data/new_trap/20200730/Bead2/Neutrality/71Hz200V32kHzSpin/Discharge_'+str(i)+'.h5'\n",
    "    bb = BeadDataFile.BeadDataFile(fname=fname)\n",
    "    drive_freq = int(bb.cant_freq)\n",
    "#     freqs.append(drive_freq)\n",
    "    fit_kwargs = {'A': 0, 'f': drive_freq, 'phi': -0.056, 'A2': 0.13, 'f2': drive_freq,\n",
    "                  'delta_phi': 0.07,\n",
    "                  'error_A': 1, 'error_f': 1, 'error_phi': 0.5, 'errordef': 1,\n",
    "                  'error_A2': 1, 'error_f2': 1, 'error_delta_phi': 0.1,\n",
    "                  'limit_phi': [-2 * np.pi, 2 * np.pi], 'limit_delta_phi': [-2 * np.pi, 2 * np.pi],\n",
    "                  'limit_A': [-1000, 1000], 'limit_A2': [0, 1000],\n",
    "                  'print_level': 0, 'fix_f': True, 'fix_phi': True, 'fix_f2': True, 'fix_delta_phi': True,\n",
    "                  'fix_A2': True}\n",
    "\n",
    "    frequency = fit_kwargs['f']\n",
    "    \n",
    "    xx2 = bb.response_at_freq2('x', frequency, bandwidth=bandwidth) * 50000\n",
    "    xx2 = xx2[20000:1*lasti:decimate]  # cut out the first and last second\n",
    "\n",
    "    xx3 = bb.response_at_freq3('x', frequency, bandwidth=bandwidth) / 6\n",
    "    xx3 = xx3[20000:1*lasti:decimate]  # cut out the first and last second\n",
    "\n",
    "    m1_tmp = ll.find_mle_2sin(xx2, xx3, fsamp=5000 / decimate,\n",
    "                                     noise_rms=1,\n",
    "                                     noise_rms2=1,\n",
    "                                     plot=False, suppress_print=True, **fit_kwargs)\n",
    "\n",
    "\n",
    "    return m1_tmp.values[0]\n",
    "\n",
    "if __name__ == '__main__':\n",
    "    pool = Pool(processes=40)                         # Create a multiprocessing Pool\n",
    "    mm_gg3 = np.array(pool.starmap(func2, ss3))\n",
    "    pool.close()"
   ]
  },
  {
   "cell_type": "code",
   "execution_count": null,
   "metadata": {
    "scrolled": false
   },
   "outputs": [],
   "source": [
    "ss3 = [(j,i) for i in range(20050, 20150) for j in range(100)]"
   ]
  },
  {
   "cell_type": "code",
   "execution_count": null,
   "metadata": {},
   "outputs": [],
   "source": [
    "len(ss2)/100"
   ]
  },
  {
   "cell_type": "code",
   "execution_count": null,
   "metadata": {},
   "outputs": [],
   "source": [
    "np.mean(mm_gg1), np.std(mm_gg1)/np.sqrt(100), len(mm_gg5000)"
   ]
  },
  {
   "cell_type": "code",
   "execution_count": null,
   "metadata": {},
   "outputs": [],
   "source": [
    "charge_mean = [np.mean(mm_gg5000[j*100:(j+1)*100])/20/scaleX for j in range(71)]\n",
    "charge_std = [np.std(mm_gg5000[j*100:(j+1)*100])/20/scaleX for j in range(71)]"
   ]
  },
  {
   "cell_type": "code",
   "execution_count": null,
   "metadata": {},
   "outputs": [],
   "source": [
    "_,ax = plt.subplots(figsize=(9.5,4))\n",
    "ax.errorbar(np.arange(5000,5071)/5000, charge_mean, yerr=charge_std/np.sqrt(100),fmt='o', label='')\n",
    "# ax.plot(np.arange(5000,5071)/5000, np.arange(5000,5071)*0, 'r--')\n",
    "ax.set(xlabel='time removed for each dataset', ylabel=r'$\\epsilon$')\n",
    "# ax.legend()"
   ]
  },
  {
   "cell_type": "code",
   "execution_count": null,
   "metadata": {},
   "outputs": [],
   "source": [
    "charge_mean2 = [np.mean(mm_gg2[j*100:(j+1)*100])/20/scaleX for j in range(100)]\n",
    "charge_std2 = [np.std(mm_gg2[j*100:(j+1)*100])/20/scaleX for j in range(100)]"
   ]
  },
  {
   "cell_type": "code",
   "execution_count": null,
   "metadata": {},
   "outputs": [],
   "source": [
    "_,ax = plt.subplots(figsize=(9.5,4))\n",
    "ax.errorbar(np.arange(5000, 25000, 200)/5000, charge_mean2, yerr=charge_std2/np.sqrt(100),fmt='o', label='')\n",
    "# ax.plot(np.arange(5000, 25000, 200)/5000, np.arange(5000, 25000, 200)*0, 'r--')\n",
    "ax.set(xlabel='time removed for each dataset', ylabel=r'$\\epsilon$')\n",
    "# ax.legend()"
   ]
  },
  {
   "cell_type": "code",
   "execution_count": null,
   "metadata": {},
   "outputs": [],
   "source": [
    "charge_mean3 = [np.mean(mm_gg2[j*100:(j+1)*100])/20/scaleX for j in range(100)]\n",
    "charge_std3 = [np.std(mm_gg2[j*100:(j+1)*100])/20/scaleX for j in range(100)]"
   ]
  },
  {
   "cell_type": "code",
   "execution_count": null,
   "metadata": {},
   "outputs": [],
   "source": [
    "_,ax = plt.subplots(figsize=(9.5,4))\n",
    "ax.errorbar(np.arange(50, 150)/5000, charge_mean3, yerr=charge_std3/np.sqrt(100),fmt='o', label='')\n",
    "# ax.plot(np.arange(5000, 25000, 200)/5000, np.arange(5000, 25000, 200)*0, 'r--')\n",
    "ax.set(xlabel='time used for each dataset', ylabel=r'$\\epsilon$')\n",
    "# ax.legend()"
   ]
  },
  {
   "cell_type": "code",
   "execution_count": null,
   "metadata": {},
   "outputs": [],
   "source": [
    "fname = r'/data/new_trap/20200730/Bead2/Neutrality/71Hz50VNoSpin_1sec/Discharge_1.h5'\n",
    "bb = BeadDataFile.BeadDataFile(fname=fname)"
   ]
  },
  {
   "cell_type": "code",
   "execution_count": null,
   "metadata": {},
   "outputs": [],
   "source": [
    "xx = bb.response_at_freq2('x', drive_freq=71, bandwidth=10)\n",
    "_,ax = plt.subplots(figsize=(9.5,4))\n",
    "ax.scatter(range(5000), xx)"
   ]
  },
  {
   "cell_type": "code",
   "execution_count": null,
   "metadata": {},
   "outputs": [],
   "source": []
  },
  {
   "cell_type": "code",
   "execution_count": null,
   "metadata": {},
   "outputs": [],
   "source": [
    "fname = r'/home/data_transfer/data_from_windows/Testdata/20200805/Discharge_4.h5'\n",
    "bb = BeadDataFile.BeadDataFile(fname)"
   ]
  },
  {
   "cell_type": "code",
   "execution_count": null,
   "metadata": {},
   "outputs": [],
   "source": [
    "_,ax = plt.subplots(1,2,figsize=(9.5,4))\n",
    "ax[0].loglog(*bb.psd('x'))\n",
    "ax[1].loglog(*bb.psd2('x'))"
   ]
  },
  {
   "cell_type": "code",
   "execution_count": null,
   "metadata": {},
   "outputs": [],
   "source": [
    "f = h5py.File(fname,'r')\n",
    "pos_data = np.array(f['pos_data'])\n",
    "quad_data = np.array(f['quad_data'])"
   ]
  },
  {
   "cell_type": "code",
   "execution_count": null,
   "metadata": {},
   "outputs": [],
   "source": [
    "sync = pos_data.reshape(-1,11).T[5]"
   ]
  },
  {
   "cell_type": "code",
   "execution_count": null,
   "metadata": {},
   "outputs": [],
   "source": [
    "_,ax = plt.subplots()\n",
    "ax.plot(range(500), sync[:500]/100)"
   ]
  },
  {
   "cell_type": "code",
   "execution_count": null,
   "metadata": {},
   "outputs": [],
   "source": [
    "trig_on = np.nonzero(sync)[0][0]\n",
    "x = bb.xyz[0][trig_on:]"
   ]
  },
  {
   "cell_type": "code",
   "execution_count": null,
   "metadata": {},
   "outputs": [],
   "source": [
    "zfb = bb.feedback[2][239:]"
   ]
  },
  {
   "cell_type": "code",
   "execution_count": null,
   "metadata": {
    "scrolled": false
   },
   "outputs": [],
   "source": [
    "xx = x[:1000]/np.mean(x[:1000])\n",
    "xx2 = bb.xyz2[0][:1000]/np.mean(bb.xyz2[0][:1000])\n",
    "_,ax = plt.subplots(figsize=(9.5,4))\n",
    "ax.semilogy(range(1000), xx)\n",
    "ax.semilogy(range(1000), xx2, alpha=0.3)\n",
    "# ax.semilogy(range(1000), xx-xx2, alpha=0.3)\n",
    "# ax.legend()"
   ]
  },
  {
   "cell_type": "code",
   "execution_count": null,
   "metadata": {},
   "outputs": [],
   "source": []
  }
 ],
 "metadata": {
  "kernelspec": {
   "display_name": "Python 3",
   "language": "python",
   "name": "python3"
  },
  "language_info": {
   "codemirror_mode": {
    "name": "ipython",
    "version": 3
   },
   "file_extension": ".py",
   "mimetype": "text/x-python",
   "name": "python",
   "nbconvert_exporter": "python",
   "pygments_lexer": "ipython3",
   "version": "3.6.9"
  }
 },
 "nbformat": 4,
 "nbformat_minor": 4
}
