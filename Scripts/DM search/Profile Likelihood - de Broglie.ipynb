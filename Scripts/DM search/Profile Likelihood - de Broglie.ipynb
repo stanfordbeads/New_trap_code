{
 "cells": [
  {
   "cell_type": "code",
   "execution_count": 1,
   "metadata": {},
   "outputs": [],
   "source": [
    "import numpy as np\n",
    "import matplotlib.pyplot as plt\n",
    "import matplotlib\n",
    "from scipy import signal\n",
    "import random\n",
    "\n",
    "import h5py\n",
    "from IPython.utils import io"
   ]
  },
  {
   "cell_type": "code",
   "execution_count": 2,
   "metadata": {},
   "outputs": [],
   "source": [
    "from joblib import Parallel, delayed\n",
    "from tqdm import tqdm"
   ]
  },
  {
   "cell_type": "code",
   "execution_count": 3,
   "metadata": {},
   "outputs": [],
   "source": [
    "import sys\n",
    "sys.path.append('../../../../nadavp/new_trap/Tools/')\n",
    "sys.path.append('../../../../nadavp/new_trap/Tools/StatFramework/')\n",
    "import BeadDataFile\n",
    "from discharge_tools import *"
   ]
  },
  {
   "cell_type": "code",
   "execution_count": 4,
   "metadata": {},
   "outputs": [],
   "source": [
    "from likelihood_calculator import likelihood_analyser\n",
    "from likelihood_calculator import GravityFramework\n",
    "from likelihood_calculator import auxiliary_functions as aux\n",
    "gfw = GravityFramework.GravityFramework()\n",
    "\n",
    "sys.path.append('/home/analysis_user/New_trap_code/SensitivityFramework/')\n",
    "from signal_model_utilities import *"
   ]
  },
  {
   "cell_type": "code",
   "execution_count": 5,
   "metadata": {},
   "outputs": [],
   "source": [
    "%matplotlib widget"
   ]
  },
  {
   "cell_type": "code",
   "execution_count": 6,
   "metadata": {},
   "outputs": [],
   "source": [
    "%reload_ext autoreload\n",
    "%autoreload 2"
   ]
  },
  {
   "cell_type": "code",
   "execution_count": 25,
   "metadata": {},
   "outputs": [
    {
     "data": {
      "text/plain": [
       "13.2"
      ]
     },
     "execution_count": 25,
     "metadata": {},
     "output_type": "execute_result"
    }
   ],
   "source": [
    "391-375-7.6/2+1"
   ]
  },
  {
   "cell_type": "code",
   "execution_count": 7,
   "metadata": {},
   "outputs": [
    {
     "name": "stdout",
     "output_type": "stream",
     "text": [
      "Your choice of lambda is not existing\n",
      "Taking 1.00e-05 for lambda\n",
      "order\n",
      "A bead size of 3.80e-06 is selected\n",
      "3.8e-06\n",
      "3.8e-06\n",
      "A bead size of 3.80e-06 is selected\n",
      "3.8e-06\n",
      "posvec\n",
      "A bead size of 3.80e-06 is selected\n",
      "3.8e-06\n",
      "A separation of 1.30e-05 is selected\n",
      "A height of -1.00e-05 is selected\n"
     ]
    }
   ],
   "source": [
    "## force template\n",
    "dist = 13.2\n",
    "z_sep = -10\n",
    "y_offset = 4\n",
    "test_shaking378 = force_vs_time(dist*1e-6,z_sep*1e-6,100e-6,3,\"z\",10e-6, yuk_or_grav=\"yuk\",offset_y=y_offset*1e-6, \n",
    "                     alpha=1e8, bead_size=3.8e-6)\n",
    "shaking378_template = np.array(test_shaking378[1])*1.85/1.55"
   ]
  },
  {
   "cell_type": "code",
   "execution_count": 23,
   "metadata": {},
   "outputs": [],
   "source": [
    "## likelihood calculator stuff\n",
    "ll = likelihood_analyser.LikelihoodAnalyser()\n",
    "gravity_freqs = np.array([36, 33, 39])\n",
    "# gravity_freqs = 3*np.arange(6,15)\n",
    "# gravity_freqs = np.array([36])\n",
    "gravity_freqs = np.array([18, 12])"
   ]
  },
  {
   "cell_type": "code",
   "execution_count": 9,
   "metadata": {},
   "outputs": [
    {
     "name": "stdout",
     "output_type": "stream",
     "text": [
      "530  files in folder\n",
      "40  files loaded\n"
     ]
    }
   ],
   "source": [
    "bdf_discharge = load_dir(dirname='/data/new_trap/20200320/Bead1/Discharge/Discharge_after_Mass_20200402/After_spinning_again_20200403/',\n",
    "                         start_file=230, max_file=40)\n",
    "bdf_z = bdf_discharge[5:35]"
   ]
  },
  {
   "cell_type": "code",
   "execution_count": 10,
   "metadata": {},
   "outputs": [
    {
     "name": "stdout",
     "output_type": "stream",
     "text": [
      "No height data\n",
      "No cantilever data\n",
      "Error loading spinning data\n",
      "No laser power data\n",
      "No height data\n",
      "No cantilever data\n",
      "Error loading spinning data\n",
      "No laser power data\n",
      "No height data\n",
      "No cantilever data\n",
      "Error loading spinning data\n",
      "No laser power data\n"
     ]
    }
   ],
   "source": [
    "fname = r'/data/new_trap/20200320/Bead1/TransFunc/Repeat_TransFunc_20200104/TransFunc_X_m300k_250s_1hz.h5'\n",
    "tf_x = BeadDataFile.BeadDataFile(fname)\n",
    "fname = r'/data/new_trap/20200320/Bead1/TransFunc/Repeat_TransFunc_20200104/TransFunc_Y_m300k_250s_1hz.h5'\n",
    "tf_y = BeadDataFile.BeadDataFile(fname)\n",
    "fname = r'/data/new_trap/20200320/Bead1/TransFunc/Repeat_TransFunc_20200104/TransFunc_Z_m300k_250s_1hz.h5'\n",
    "tf_z = BeadDataFile.BeadDataFile(fname)\n",
    "gfw.build_transfer_function([tf_x, tf_y, tf_z], base_freq=1, number_of_harmonics=90, scale_freq=71, plot=False)"
   ]
  },
  {
   "cell_type": "markdown",
   "metadata": {},
   "source": [
    "### NoShaking data"
   ]
  },
  {
   "cell_type": "code",
   "execution_count": 11,
   "metadata": {},
   "outputs": [
    {
     "name": "stdout",
     "output_type": "stream",
     "text": [
      "1000  files in folder\n",
      "100  files loaded\n"
     ]
    }
   ],
   "source": [
    "## 1000 files of shaking data for nose floor\n",
    "data_bdfs2 = load_dir(dirname='/data/new_trap/20200518/Bead2/Shaking/Shaking375/',\n",
    "                         file_prefix='Shaking375_3', start_file=0, max_file=100)"
   ]
  },
  {
   "cell_type": "code",
   "execution_count": 24,
   "metadata": {
    "scrolled": true
   },
   "outputs": [
    {
     "name": "stdout",
     "output_type": "stream",
     "text": [
      "***************************************************\n",
      "Z2-amplitude:  2.69e+02\n",
      "reduced chi2:  288.98586212705186\n",
      "***************************************************\n",
      "Z2-amplitude:  2.60e+02\n",
      "reduced chi2:  658.9340028864549\n",
      "***************************************************\n",
      "Z2-amplitude:  2.74e+02\n",
      "reduced chi2:  486.49073911245125\n",
      "***************************************************\n",
      "Z2-amplitude:  2.78e+02\n",
      "reduced chi2:  662.0476432309312\n",
      "***************************************************\n",
      "Z2-amplitude:  2.80e+02\n",
      "reduced chi2:  581.29439966364\n",
      "***************************************************\n",
      "Z2-amplitude:  2.74e+02\n",
      "reduced chi2:  610.1516298108376\n",
      "***************************************************\n",
      "Z2-amplitude:  2.70e+02\n",
      "reduced chi2:  341.72862648819574\n",
      "***************************************************\n",
      "Z2-amplitude:  2.66e+02\n",
      "reduced chi2:  319.23470715664763\n",
      "***************************************************\n",
      "Z2-amplitude:  2.66e+02\n",
      "reduced chi2:  482.87048405227034\n",
      "***************************************************\n",
      "Z2-amplitude:  2.68e+02\n",
      "reduced chi2:  572.3808781081232\n",
      "***************************************************\n",
      "Z2-amplitude:  2.69e+02\n",
      "reduced chi2:  393.3016008789175\n",
      "***************************************************\n",
      "Z2-amplitude:  2.68e+02\n",
      "reduced chi2:  651.5431890881895\n",
      "***************************************************\n",
      "Z2-amplitude:  2.66e+02\n",
      "reduced chi2:  837.3092290465291\n",
      "***************************************************\n",
      "Z2-amplitude:  2.60e+02\n",
      "reduced chi2:  533.3920790790161\n",
      "***************************************************\n",
      "Z2-amplitude:  2.66e+02\n",
      "reduced chi2:  368.5085424903292\n",
      "***************************************************\n",
      "Z2-amplitude:  2.59e+02\n",
      "reduced chi2:  555.1231537639599\n",
      "***************************************************\n",
      "Z2-amplitude:  2.68e+02\n",
      "reduced chi2:  745.6625642557611\n",
      "***************************************************\n",
      "Z2-amplitude:  2.70e+02\n",
      "reduced chi2:  347.84760405152247\n",
      "***************************************************\n",
      "Z2-amplitude:  2.68e+02\n",
      "reduced chi2:  453.97980818387003\n",
      "***************************************************\n",
      "Z2-amplitude:  2.77e+02\n",
      "reduced chi2:  561.8119183541804\n",
      "***************************************************\n",
      "Z2-amplitude:  2.82e+02\n",
      "reduced chi2:  474.20113888118\n",
      "***************************************************\n",
      "Z2-amplitude:  2.73e+02\n",
      "reduced chi2:  353.85435659878726\n",
      "***************************************************\n",
      "Z2-amplitude:  2.78e+02\n",
      "reduced chi2:  408.8805051267125\n",
      "***************************************************\n",
      "Z2-amplitude:  2.74e+02\n",
      "reduced chi2:  406.29259344214404\n",
      "***************************************************\n",
      "Z2-amplitude:  2.70e+02\n",
      "reduced chi2:  526.1643048167273\n",
      "***************************************************\n",
      "Z2-amplitude:  2.60e+02\n",
      "reduced chi2:  439.2274329734673\n",
      "***************************************************\n",
      "Z2-amplitude:  2.62e+02\n",
      "reduced chi2:  842.0440005045637\n",
      "***************************************************\n",
      "Z2-amplitude:  2.74e+02\n",
      "reduced chi2:  599.8696978333775\n",
      "***************************************************\n",
      "Z2-amplitude:  2.69e+02\n",
      "reduced chi2:  383.96223661058264\n",
      "***************************************************\n",
      "Z2-amplitude:  2.70e+02\n",
      "reduced chi2:  597.3219749580621\n",
      "Z2 response (amplitude): -269.58341993010276\n"
     ]
    }
   ],
   "source": [
    "bandwidth = 2\n",
    "m1_zscale = gfw.build_z_response(bdf_z, drive_freq=71, charges=6, bandwidth=bandwidth, decimate=10)\n",
    "gravity_scales = np.array([gfw.scale_Z2])* np.interp(gravity_freqs, gfw.tf_freq, gfw.tf_ffts[2])"
   ]
  },
  {
   "cell_type": "code",
   "execution_count": 25,
   "metadata": {},
   "outputs": [],
   "source": [
    "gravity_freqs2 = gravity_freqs"
   ]
  },
  {
   "cell_type": "code",
   "execution_count": 26,
   "metadata": {},
   "outputs": [],
   "source": [
    "noises = []\n",
    "noises_std =[]\n",
    "for freq_ in gravity_freqs2:\n",
    "    tmp_list = []\n",
    "    for bb in data_bdfs2:\n",
    "        tmp_list.append(np.std(bb.response_at_freq2('z', drive_freq=freq_, bandwidth=bandwidth)))\n",
    "    noises.append(np.mean(tmp_list))\n",
    "    noises_std.append(np.std(tmp_list))\n",
    "# noises = noises\n",
    "noises_std = np.array(noises_std)"
   ]
  },
  {
   "cell_type": "code",
   "execution_count": 27,
   "metadata": {},
   "outputs": [
    {
     "data": {
      "text/plain": [
       "(array([13.46749503, 22.14226255]), array([18, 12]))"
      ]
     },
     "execution_count": 27,
     "metadata": {},
     "output_type": "execute_result"
    }
   ],
   "source": [
    "noises_std, gravity_freqs"
   ]
  },
  {
   "cell_type": "code",
   "execution_count": 183,
   "metadata": {},
   "outputs": [
    {
     "data": {
      "text/plain": [
       "100.47219233313973"
      ]
     },
     "execution_count": 183,
     "metadata": {},
     "output_type": "execute_result"
    }
   ],
   "source": [
    "fname = r'/data/new_trap/20200518/Bead2/Shaking/Shaking374/Shaking374_12_15.h5'\n",
    "bb = BeadDataFile.BeadDataFile(fname=fname)\n",
    "np.std(bb.cant_pos[1])*np.sqrt(2)*50*2"
   ]
  },
  {
   "cell_type": "code",
   "execution_count": 31,
   "metadata": {
    "scrolled": true
   },
   "outputs": [],
   "source": [
    "def func1(i):\n",
    "# for i,bdf_ in enumerate(data_bdfs2):\n",
    "    print(i,'  ******************')\n",
    "    fname = r'/data/new_trap/20200320/Bead1/Shaking/Shaking2_20200403/NoShaking_1_'+str(i)+'.h5'\n",
    "    bb = BeadDataFile.BeadDataFile(fname=fname)\n",
    "\n",
    "    fit_kwargs = {'A': 0, 'phi': 0.2, 'sigma':13.85,\n",
    "              'error_A': 1, 'error_phi': 0.5, 'errordef': 1, 'error_sigma': 10,\n",
    "              'limit_phi': [0, 2 * np.pi],\n",
    "              'limit_A': [-1000, 1000], 'limit_sigma': [0, 1000000],\n",
    "              'print_level': 0, 'fix_A': True, 'fix_phi': True, 'fix_sigma': True}\n",
    "    mm_tmp = ll.find_mle_multiHarmoincs(x=bb.z2, template=shaking378_template, scales=gravity_scales, \n",
    "                                          signal_freqs=gravity_freqs, bandwidth=2, noises=noises_std/noises_std[0], \n",
    "                                          decimate=10, **fit_kwargs)\n",
    "#     print(mm_tmp.fval)\n",
    "    return mm_tmp.fval\n",
    "\n",
    "def func2(i):\n",
    "    print(i,'  ******************')\n",
    "    fname = r'/data/new_trap/20200518/Bead2/Shaking/Shaking375/Shaking375_7_'+str(i)+'.h5'\n",
    "    bb = BeadDataFile.BeadDataFile(fname=fname)\n",
    "\n",
    "    ## force template\n",
    "    dist = 13.2\n",
    "    z_sep = -10\n",
    "    y_offset = 0\n",
    "    test_shaking378 = force_vs_time(dist*1e-6,z_sep*1e-6,100e-6,3,\"z\",100e-6, yuk_or_grav=\"yuk\",offset_y=y_offset*1e-6, \n",
    "                     alpha=1e8, bead_size=3.8e-6)\n",
    "    shaking378_template = np.array(test_shaking378[1])*1.85/1.55\n",
    "\n",
    "    fit_kwargs = {'A': 0, 'phi': 0.2, 'sigma':10.7,\n",
    "              'error_A': 1, 'error_phi': 0.5, 'errordef': 1, 'error_sigma': 10,\n",
    "              'limit_phi': [0, 2 * np.pi],\n",
    "              'limit_A': [-1000, 1000], 'limit_sigma': [0, 1000000],\n",
    "              'print_level': 0, 'fix_A': False, 'fix_phi': True, 'fix_sigma': False}\n",
    "    mm_tmp = ll.find_mle_multiHarmoincs(x=bb.z2, template=shaking378_template, scales=gravity_scales, \n",
    "                                          signal_freqs=gravity_freqs, bandwidth=bandwidth, noises=noises_std,\n",
    "                                          decimate=10, **fit_kwargs)\n",
    "\n",
    "    return mm_tmp.values[0]\n",
    "    \n",
    "# if __name__ == '__main__':\n",
    "#     pool = Pool(processes=20)                         # Create a multiprocessing Pool\n",
    "# #     mm_fixed_A4 = np.array(pool.map(func1, range(0,10)))  # process data_inputs iterable with pool\n",
    "#     mm_mle_A13 = np.array(pool.map(func2, range(0,1000)))\n",
    "#     pool.close()"
   ]
  },
  {
   "cell_type": "code",
   "execution_count": 32,
   "metadata": {},
   "outputs": [
    {
     "name": "stderr",
     "output_type": "stream",
     "text": [
      "100%|██████████| 1000/1000 [00:03<00:00, 302.78it/s]\n"
     ]
    }
   ],
   "source": [
    "test_mle = np.array(Parallel(n_jobs=40)(delayed(func2)(i) for i in tqdm(range(1000))))"
   ]
  },
  {
   "cell_type": "code",
   "execution_count": 33,
   "metadata": {
    "scrolled": true
   },
   "outputs": [
    {
     "data": {
      "text/plain": [
       "(1.9157515073777704, 4.3087502198245975, 0.1362546456339692)"
      ]
     },
     "execution_count": 33,
     "metadata": {},
     "output_type": "execute_result"
    }
   ],
   "source": [
    "np.mean(test_mle), np.std(test_mle), np.std(test_mle)/np.sqrt(1000)"
   ]
  },
  {
   "cell_type": "code",
   "execution_count": 19,
   "metadata": {},
   "outputs": [
    {
     "data": {
      "application/vnd.jupyter.widget-view+json": {
       "model_id": "3b14fa1fe3c1444fa2572ca6bcf5602e",
       "version_major": 2,
       "version_minor": 0
      },
      "text/plain": [
       "Canvas(toolbar=Toolbar(toolitems=[('Home', 'Reset original view', 'home', 'home'), ('Back', 'Back to previous …"
      ]
     },
     "metadata": {},
     "output_type": "display_data"
    },
    {
     "name": "stdout",
     "output_type": "stream",
     "text": [
      "alpha MLE:  0.11135188961686084 std:  0.179509366522724\n"
     ]
    }
   ],
   "source": [
    "_,ax = plt.subplots()\n",
    "data = list(test_mle)#+list(mm_mle_A10)\n",
    "avg = np.mean(data)\n",
    "var = np.var(data)\n",
    "# From that, we know the shape of the fitted Gaussian.\n",
    "pdf_x = np.linspace(-25,25,100)\n",
    "pdf_y = 1.0/np.sqrt(2*np.pi*var)*np.exp(-0.5*(pdf_x-avg)**2/var)\n",
    "\n",
    "ax.hist(data, range=(-25,25), bins=25, density=True)\n",
    "# ax.hist(mm_mle_A10, range=(-25,25), bins=30, density=True, alpha=0.4)\n",
    "# Then we plot :\n",
    "ax.set(xlim=(-25,25), xlabel=r'$\\hat{\\alpha} \\,[10^{8}]$')\n",
    "ax.plot(pdf_x,pdf_y,'k--')\n",
    "\n",
    "print('alpha MLE: ', avg, 'std: ', np.std(data)/np.sqrt(1000))"
   ]
  },
  {
   "cell_type": "code",
   "execution_count": null,
   "metadata": {},
   "outputs": [],
   "source": []
  },
  {
   "cell_type": "code",
   "execution_count": null,
   "metadata": {},
   "outputs": [],
   "source": []
  },
  {
   "cell_type": "code",
   "execution_count": null,
   "metadata": {},
   "outputs": [],
   "source": []
  },
  {
   "cell_type": "code",
   "execution_count": null,
   "metadata": {},
   "outputs": [],
   "source": []
  },
  {
   "cell_type": "code",
   "execution_count": null,
   "metadata": {},
   "outputs": [],
   "source": []
  },
  {
   "cell_type": "code",
   "execution_count": null,
   "metadata": {},
   "outputs": [],
   "source": []
  }
 ],
 "metadata": {
  "kernelspec": {
   "display_name": "Python 3",
   "language": "python",
   "name": "python3"
  },
  "language_info": {
   "codemirror_mode": {
    "name": "ipython",
    "version": 3
   },
   "file_extension": ".py",
   "mimetype": "text/x-python",
   "name": "python",
   "nbconvert_exporter": "python",
   "pygments_lexer": "ipython3",
   "version": "3.6.9"
  }
 },
 "nbformat": 4,
 "nbformat_minor": 4
}
