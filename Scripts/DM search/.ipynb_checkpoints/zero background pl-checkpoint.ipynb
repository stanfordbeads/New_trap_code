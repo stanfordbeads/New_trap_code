{
 "cells": [
  {
   "cell_type": "code",
   "execution_count": 92,
   "metadata": {},
   "outputs": [],
   "source": [
    "import numpy as np\n",
    "import matplotlib.pyplot as plt\n",
    "import scipy.stats as stats"
   ]
  },
  {
   "cell_type": "code",
   "execution_count": 143,
   "metadata": {},
   "outputs": [],
   "source": [
    "%matplotlib widget"
   ]
  },
  {
   "cell_type": "code",
   "execution_count": 158,
   "metadata": {},
   "outputs": [],
   "source": [
    "# This function defines the test statistic for the counting experiment. \n",
    "# There are some \n",
    "def q_s(s,b,k):\n",
    "    \n",
    "    mask_k_zero = (k==0)\n",
    "    mask_k_lt_b = (k<=b) & np.invert(mask_k_zero)\n",
    "    mask_k_gt_b = (k>b) & np.invert(mask_k_zero)\n",
    "    \n",
    "    output = np.zeros(len(k))\n",
    "    if s+b==0:\n",
    "        return output\n",
    "    \n",
    "    k_zero = k[mask_k_zero]\n",
    "    output[mask_k_zero] = 2 * (s)\n",
    "    \n",
    "    k_lt_b = k[mask_k_lt_b]\n",
    "    output[mask_k_lt_b] = 2 * (s - k_lt_b*(np.log(s+b) - np.log(b)))\n",
    "\n",
    "    k_gt_b = k[mask_k_gt_b]\n",
    "    output[mask_k_gt_b] = 2 * (s  - (k_gt_b - b) - \\\n",
    "                                          k_gt_b*( np.log(s+b) - np.log(k_gt_b) ) )\n",
    "\n",
    "    return output\n",
    "\n",
    "\n",
    "def q_s2(s,b,k):\n",
    "    \n",
    "    s_hat = k-b\n",
    "    \n",
    "    if s_hat<s:\n",
    "        return 0\n",
    "    else:\n",
    "        return 2 * (s  - (k - b) - k*( np.log(s+b) - np.log(k)))\n",
    "\n",
    "# This function assumes k is constant; i.e. we are only looking at a single\n",
    "# \"experiment\". \n",
    "def qscan(s,b,k):\n",
    "\n",
    "    output = np.zeros(len(s))\n",
    "    \n",
    "    if k == 0:\n",
    "        output = 2*s\n",
    "        return output\n",
    "    elif k <= b:\n",
    "        sbest = 0.\n",
    "    else:\n",
    "        sbest = k-b\n",
    "        \n",
    "    output = k * (s-sbest - k*(np.log(s+b) - np.log(sbest+b)))\n",
    "    return output"
   ]
  },
  {
   "cell_type": "code",
   "execution_count": 198,
   "metadata": {
    "scrolled": false
   },
   "outputs": [
    {
     "data": {
      "application/vnd.jupyter.widget-view+json": {
       "model_id": "01f861d2e37e44d882e783b00a33d0bd",
       "version_major": 2,
       "version_minor": 0
      },
      "text/plain": [
       "Canvas(toolbar=Toolbar(toolitems=[('Home', 'Reset original view', 'home', 'home'), ('Back', 'Back to previous …"
      ]
     },
     "metadata": {},
     "output_type": "display_data"
    },
    {
     "name": "stderr",
     "output_type": "stream",
     "text": [
      "/home/analysis_user/.local/lib/python3.6/site-packages/ipykernel_launcher.py:17: RuntimeWarning: divide by zero encountered in log\n"
     ]
    },
    {
     "data": {
      "text/plain": [
       "[<matplotlib.legend.Legend at 0x7f57383038d0>,\n",
       " <matplotlib.legend.Legend at 0x7f573826cf60>]"
      ]
     },
     "execution_count": 198,
     "metadata": {},
     "output_type": "execute_result"
    }
   ],
   "source": [
    "_,ax = plt.subplots(1,2,figsize=(9.2,4), sharey=True)\n",
    "\n",
    "lamda_test = 5\n",
    "bck = 0\n",
    "test1 = np.random.poisson(lam=(lamda_test+bck),size=1000)\n",
    "qtest1 = q_s(lamda_test,bck,test1)\n",
    "qtest2 = np.array([q_s2(lamda_test,bck,k_) for k_ in test1])\n",
    "\n",
    "ax[0].hist(qtest1,bins=np.linspace(0.,10.,40),log=True,color='r',label='Original')\n",
    "ax[0].set(xlabel=r'Value of $q_s$', ylabel='Number of events (2000 total)')\n",
    "ax[1].hist(qtest2,bins=np.linspace(0.,10.,40),log=True,color='b',label=r'New $q_s$')\n",
    "ax[1].set(xlabel=r'Value of $q_s$', ylabel='Number of events (2000 total)')\n",
    "\n",
    "x = np.arange(0, 10, .05)\n",
    "[a.plot(x, 0.5*stats.chi2.pdf(x, df=1)*1000/40*10, color='r', lw=2, label='scaled chi square') for a in ax]\n",
    "[a.legend() for a in ax]\n"
   ]
  },
  {
   "cell_type": "code",
   "execution_count": 200,
   "metadata": {},
   "outputs": [
    {
     "data": {
      "application/vnd.jupyter.widget-view+json": {
       "model_id": "cb29378a4c55481e98826e8d8688cc02",
       "version_major": 2,
       "version_minor": 0
      },
      "text/plain": [
       "Canvas(toolbar=Toolbar(toolitems=[('Home', 'Reset original view', 'home', 'home'), ('Back', 'Back to previous …"
      ]
     },
     "metadata": {},
     "output_type": "display_data"
    },
    {
     "data": {
      "text/plain": [
       "<matplotlib.collections.PathCollection at 0x7f5733f7aeb8>"
      ]
     },
     "execution_count": 200,
     "metadata": {},
     "output_type": "execute_result"
    }
   ],
   "source": [
    "_,ax = plt.subplots(1,2,figsize=(9.2,4))\n",
    "ax[0].scatter(test1,qtest1)\n",
    "ax[1].scatter(test1,qtest2)"
   ]
  },
  {
   "cell_type": "code",
   "execution_count": 204,
   "metadata": {},
   "outputs": [
    {
     "name": "stdout",
     "output_type": "stream",
     "text": [
      "0\n"
     ]
    },
    {
     "name": "stderr",
     "output_type": "stream",
     "text": [
      "/home/analysis_user/.local/lib/python3.6/site-packages/ipykernel_launcher.py:33: RuntimeWarning: divide by zero encountered in log\n",
      "/home/analysis_user/.local/lib/python3.6/site-packages/ipykernel_launcher.py:33: RuntimeWarning: invalid value encountered in double_scalars\n",
      "/home/analysis_user/.local/lib/python3.6/site-packages/ipykernel_launcher.py:17: RuntimeWarning: divide by zero encountered in log\n"
     ]
    },
    {
     "name": "stdout",
     "output_type": "stream",
     "text": [
      "50\n",
      "100\n",
      "150\n",
      "200\n"
     ]
    }
   ],
   "source": [
    "num_hypotheses = 250\n",
    "\n",
    "hypotheses = np.linspace(0.,30,num_hypotheses)\n",
    "limits_prob = np.zeros(num_hypotheses)\n",
    "limits_90 = np.zeros(num_hypotheses)\n",
    "\n",
    "limits_prob_np = np.zeros(num_hypotheses)\n",
    "limits_95_np = np.zeros(num_hypotheses)\n",
    "\n",
    "num_sim = 100000\n",
    "for i in range(num_hypotheses):\n",
    "    if i % 50 == 0:\n",
    "        print(i)\n",
    "    hyp = hypotheses[i]\n",
    "    \n",
    "    test = np.random.poisson(lam=hyp,size=num_sim)\n",
    "    qtest = q_s(hyp,0.,test)\n",
    "    qtest2 = np.array([q_s2(hyp,0,k_) for k_ in test])\n",
    "\n",
    "    limits_prob[i] = sum(qtest>2.71)/num_sim\n",
    "    limits_90[i] = np.quantile(qtest,0.90)\n",
    "    \n",
    "    limits_prob_np[i] = sum(qtest2>1.64)/num_sim\n",
    "    limits_95_np[i] = np.quantile(qtest2,0.95)"
   ]
  },
  {
   "cell_type": "code",
   "execution_count": 205,
   "metadata": {},
   "outputs": [
    {
     "data": {
      "application/vnd.jupyter.widget-view+json": {
       "model_id": "f863fdf977d64f0485e131554785fc26",
       "version_major": 2,
       "version_minor": 0
      },
      "text/plain": [
       "Canvas(toolbar=Toolbar(toolitems=[('Home', 'Reset original view', 'home', 'home'), ('Back', 'Back to previous …"
      ]
     },
     "metadata": {},
     "output_type": "display_data"
    },
    {
     "data": {
      "text/plain": [
       "[(0.0, 10.0), (0.0, 0.4), Text(0.5, 0, 'Signal hypothesis (num counts)')]"
      ]
     },
     "execution_count": 205,
     "metadata": {},
     "output_type": "execute_result"
    }
   ],
   "source": [
    "_,ax = plt.subplots(1,2,figsize=(9.2,4))\n",
    "\n",
    "ax[0].plot(hypotheses,limits_prob,'b',label='90% upper limit')\n",
    "ax[0].plot(hypotheses,limits_prob_np,'r--',label='90% upper limit')\n",
    "ax[0].plot(hypotheses,hypotheses*0+0.1,'g--',label='10%')\n",
    "ax[0].legend()\n",
    "ax[0].set(xlim=(10,30),ylim=(0,0.4),xlabel='Signal hypothesis (num counts)', ylabel=r'Test statistic $q_s$')\n",
    "\n",
    "ax[1].plot(hypotheses,limits_prob,'b',label='90% upper limit')\n",
    "ax[1].plot(hypotheses,limits_prob_np,'r',label='90% upper limit')\n",
    "ax[1].plot(hypotheses,hypotheses*0+0.1,'g--',label='10%')\n",
    "ax[1].legend()\n",
    "ax[1].set(xlim=(0,10),ylim=(0,0.4),xlabel='Signal hypothesis (num counts)')"
   ]
  },
  {
   "cell_type": "code",
   "execution_count": 208,
   "metadata": {},
   "outputs": [
    {
     "data": {
      "application/vnd.jupyter.widget-view+json": {
       "model_id": "e1670d2f43e74bcdbe75531d043a28ed",
       "version_major": 2,
       "version_minor": 0
      },
      "text/plain": [
       "Canvas(toolbar=Toolbar(toolitems=[('Home', 'Reset original view', 'home', 'home'), ('Back', 'Back to previous …"
      ]
     },
     "metadata": {},
     "output_type": "display_data"
    },
    {
     "data": {
      "text/plain": [
       "<matplotlib.legend.Legend at 0x7f5733ab5c88>"
      ]
     },
     "execution_count": 208,
     "metadata": {},
     "output_type": "execute_result"
    }
   ],
   "source": [
    "_,ax = plt.subplots()\n",
    "ax.plot(hypotheses,limits_90,'g',label='90% old')\n",
    "plt.plot(hypotheses,limits_95_np,'b',label='95% new')\n",
    "plt.plot(hypotheses,limits_95_np*0+2.71,'r--',label='2.71 ')\n",
    "\n",
    "ax.set(xlim=(0.,10.), ylim=(0.,12.), xlabel='Signal hypothesis (num counts)',ylabel=r'Test statistic $q_s$')\n",
    "ax.legend()"
   ]
  },
  {
   "cell_type": "code",
   "execution_count": null,
   "metadata": {},
   "outputs": [],
   "source": []
  },
  {
   "cell_type": "code",
   "execution_count": null,
   "metadata": {},
   "outputs": [],
   "source": []
  },
  {
   "cell_type": "code",
   "execution_count": null,
   "metadata": {},
   "outputs": [],
   "source": []
  },
  {
   "cell_type": "code",
   "execution_count": null,
   "metadata": {},
   "outputs": [],
   "source": []
  },
  {
   "cell_type": "code",
   "execution_count": null,
   "metadata": {},
   "outputs": [],
   "source": []
  },
  {
   "cell_type": "code",
   "execution_count": null,
   "metadata": {},
   "outputs": [],
   "source": []
  },
  {
   "cell_type": "code",
   "execution_count": null,
   "metadata": {},
   "outputs": [],
   "source": []
  },
  {
   "cell_type": "code",
   "execution_count": null,
   "metadata": {},
   "outputs": [],
   "source": []
  },
  {
   "cell_type": "code",
   "execution_count": null,
   "metadata": {},
   "outputs": [],
   "source": []
  }
 ],
 "metadata": {
  "kernelspec": {
   "display_name": "Python 3",
   "language": "python",
   "name": "python3"
  },
  "language_info": {
   "codemirror_mode": {
    "name": "ipython",
    "version": 3
   },
   "file_extension": ".py",
   "mimetype": "text/x-python",
   "name": "python",
   "nbconvert_exporter": "python",
   "pygments_lexer": "ipython3",
   "version": "3.6.9"
  }
 },
 "nbformat": 4,
 "nbformat_minor": 4
}
