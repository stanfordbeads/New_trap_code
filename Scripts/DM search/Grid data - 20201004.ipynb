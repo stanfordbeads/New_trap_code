{
 "cells": [
  {
   "cell_type": "code",
   "execution_count": 2,
   "metadata": {},
   "outputs": [],
   "source": [
    "import numpy as np\n",
    "import matplotlib.pyplot as plt\n",
    "import matplotlib\n",
    "from scipy import signal\n",
    "import random\n",
    "\n",
    "import h5py\n",
    "from IPython.utils import io"
   ]
  },
  {
   "cell_type": "code",
   "execution_count": 3,
   "metadata": {},
   "outputs": [],
   "source": [
    "%matplotlib notebook"
   ]
  },
  {
   "cell_type": "code",
   "execution_count": 4,
   "metadata": {},
   "outputs": [],
   "source": [
    "%reload_ext autoreload\n",
    "%autoreload 2"
   ]
  },
  {
   "cell_type": "code",
   "execution_count": 5,
   "metadata": {},
   "outputs": [],
   "source": [
    "import sys\n",
    "sys.path.append('../../../../nadavp/new_trap/Tools/')\n",
    "sys.path.append('../../../../nadavp/new_trap/Tools/StatFramework/')\n",
    "import BeadDataFile\n",
    "from discharge_tools import *"
   ]
  },
  {
   "cell_type": "code",
   "execution_count": 7,
   "metadata": {},
   "outputs": [
    {
     "ename": "KeyboardInterrupt",
     "evalue": "",
     "output_type": "error",
     "traceback": [
      "\u001b[0;31m---------------------------------------------------------------------------\u001b[0m",
      "\u001b[0;31mKeyboardInterrupt\u001b[0m                         Traceback (most recent call last)",
      "\u001b[0;32m<ipython-input-7-ef9a7cf5045b>\u001b[0m in \u001b[0;36m<module>\u001b[0;34m()\u001b[0m\n\u001b[1;32m      1\u001b[0m bdf_discharge = load_dir(dirname='/data/new_trap/20200320/Bead1/Discharge/Discharge_after_Mass_20200402/After_spinning_again_20200403/', \n\u001b[0;32m----> 2\u001b[0;31m                          start_file=0, max_file=1200)\n\u001b[0m",
      "\u001b[0;32m/home/nadavp/new_trap/Tools/discharge_tools.py\u001b[0m in \u001b[0;36mload_dir\u001b[0;34m(dirname, file_prefix, start_file, max_file)\u001b[0m\n\u001b[1;32m     22\u001b[0m \u001b[0;34m\u001b[0m\u001b[0m\n\u001b[1;32m     23\u001b[0m     \u001b[0;31m# Load data into a BeadDataFile list\u001b[0m\u001b[0;34m\u001b[0m\u001b[0;34m\u001b[0m\u001b[0;34m\u001b[0m\u001b[0m\n\u001b[0;32m---> 24\u001b[0;31m     \u001b[0mBDFs\u001b[0m \u001b[0;34m=\u001b[0m \u001b[0;34m[\u001b[0m\u001b[0mBDF\u001b[0m\u001b[0;34m.\u001b[0m\u001b[0mBeadDataFile\u001b[0m\u001b[0;34m(\u001b[0m\u001b[0mdirname\u001b[0m\u001b[0;34m+\u001b[0m\u001b[0mfilename\u001b[0m\u001b[0;34m)\u001b[0m \u001b[0;32mfor\u001b[0m \u001b[0mfilename\u001b[0m \u001b[0;32min\u001b[0m \u001b[0mfiles\u001b[0m\u001b[0;34m[\u001b[0m\u001b[0mstart_file\u001b[0m\u001b[0;34m:\u001b[0m\u001b[0mstart_file\u001b[0m\u001b[0;34m+\u001b[0m\u001b[0mmax_file\u001b[0m\u001b[0;34m]\u001b[0m\u001b[0;34m]\u001b[0m\u001b[0;34m\u001b[0m\u001b[0;34m\u001b[0m\u001b[0m\n\u001b[0m\u001b[1;32m     25\u001b[0m \u001b[0;34m\u001b[0m\u001b[0m\n\u001b[1;32m     26\u001b[0m     \u001b[0mprint\u001b[0m\u001b[0;34m(\u001b[0m\u001b[0mlen\u001b[0m\u001b[0;34m(\u001b[0m\u001b[0mfiles\u001b[0m\u001b[0;34m)\u001b[0m\u001b[0;34m,\u001b[0m\u001b[0;34m' files in folder'\u001b[0m\u001b[0;34m)\u001b[0m\u001b[0;34m\u001b[0m\u001b[0;34m\u001b[0m\u001b[0m\n",
      "\u001b[0;32m/home/nadavp/new_trap/Tools/discharge_tools.py\u001b[0m in \u001b[0;36m<listcomp>\u001b[0;34m(.0)\u001b[0m\n\u001b[1;32m     22\u001b[0m \u001b[0;34m\u001b[0m\u001b[0m\n\u001b[1;32m     23\u001b[0m     \u001b[0;31m# Load data into a BeadDataFile list\u001b[0m\u001b[0;34m\u001b[0m\u001b[0;34m\u001b[0m\u001b[0;34m\u001b[0m\u001b[0m\n\u001b[0;32m---> 24\u001b[0;31m     \u001b[0mBDFs\u001b[0m \u001b[0;34m=\u001b[0m \u001b[0;34m[\u001b[0m\u001b[0mBDF\u001b[0m\u001b[0;34m.\u001b[0m\u001b[0mBeadDataFile\u001b[0m\u001b[0;34m(\u001b[0m\u001b[0mdirname\u001b[0m\u001b[0;34m+\u001b[0m\u001b[0mfilename\u001b[0m\u001b[0;34m)\u001b[0m \u001b[0;32mfor\u001b[0m \u001b[0mfilename\u001b[0m \u001b[0;32min\u001b[0m \u001b[0mfiles\u001b[0m\u001b[0;34m[\u001b[0m\u001b[0mstart_file\u001b[0m\u001b[0;34m:\u001b[0m\u001b[0mstart_file\u001b[0m\u001b[0;34m+\u001b[0m\u001b[0mmax_file\u001b[0m\u001b[0;34m]\u001b[0m\u001b[0;34m]\u001b[0m\u001b[0;34m\u001b[0m\u001b[0;34m\u001b[0m\u001b[0m\n\u001b[0m\u001b[1;32m     25\u001b[0m \u001b[0;34m\u001b[0m\u001b[0m\n\u001b[1;32m     26\u001b[0m     \u001b[0mprint\u001b[0m\u001b[0;34m(\u001b[0m\u001b[0mlen\u001b[0m\u001b[0;34m(\u001b[0m\u001b[0mfiles\u001b[0m\u001b[0;34m)\u001b[0m\u001b[0;34m,\u001b[0m\u001b[0;34m' files in folder'\u001b[0m\u001b[0;34m)\u001b[0m\u001b[0;34m\u001b[0m\u001b[0;34m\u001b[0m\u001b[0m\n",
      "\u001b[0;32m/home/nadavp/new_trap/Tools/BeadDataFile.py\u001b[0m in \u001b[0;36m__init__\u001b[0;34m(self, fname)\u001b[0m\n\u001b[1;32m     20\u001b[0m         \u001b[0mf\u001b[0m \u001b[0;34m=\u001b[0m \u001b[0mh5py\u001b[0m\u001b[0;34m.\u001b[0m\u001b[0mFile\u001b[0m\u001b[0;34m(\u001b[0m\u001b[0mfname\u001b[0m\u001b[0;34m,\u001b[0m\u001b[0;34m'r'\u001b[0m\u001b[0;34m)\u001b[0m\u001b[0;34m\u001b[0m\u001b[0;34m\u001b[0m\u001b[0m\n\u001b[1;32m     21\u001b[0m         \u001b[0mpos_data\u001b[0m \u001b[0;34m=\u001b[0m \u001b[0mnp\u001b[0m\u001b[0;34m.\u001b[0m\u001b[0marray\u001b[0m\u001b[0;34m(\u001b[0m\u001b[0mf\u001b[0m\u001b[0;34m[\u001b[0m\u001b[0;34m'pos_data'\u001b[0m\u001b[0;34m]\u001b[0m\u001b[0;34m)\u001b[0m\u001b[0;34m\u001b[0m\u001b[0;34m\u001b[0m\u001b[0m\n\u001b[0;32m---> 22\u001b[0;31m         \u001b[0mquad_data\u001b[0m \u001b[0;34m=\u001b[0m \u001b[0mnp\u001b[0m\u001b[0;34m.\u001b[0m\u001b[0marray\u001b[0m\u001b[0;34m(\u001b[0m\u001b[0mf\u001b[0m\u001b[0;34m[\u001b[0m\u001b[0;34m'quad_data'\u001b[0m\u001b[0;34m]\u001b[0m\u001b[0;34m)\u001b[0m\u001b[0;34m\u001b[0m\u001b[0;34m\u001b[0m\u001b[0m\n\u001b[0m\u001b[1;32m     23\u001b[0m         \u001b[0mself\u001b[0m\u001b[0;34m.\u001b[0m\u001b[0mfsamp\u001b[0m \u001b[0;34m=\u001b[0m \u001b[0mf\u001b[0m\u001b[0;34m.\u001b[0m\u001b[0mattrs\u001b[0m\u001b[0;34m[\u001b[0m\u001b[0;34m'Fsamp'\u001b[0m\u001b[0;34m]\u001b[0m\u001b[0;34m\u001b[0m\u001b[0;34m\u001b[0m\u001b[0m\n\u001b[1;32m     24\u001b[0m         \u001b[0mself\u001b[0m\u001b[0;34m.\u001b[0m\u001b[0mfsamp\u001b[0m \u001b[0;34m/=\u001b[0m \u001b[0mf\u001b[0m\u001b[0;34m.\u001b[0m\u001b[0mattrs\u001b[0m\u001b[0;34m[\u001b[0m\u001b[0;34m'downsamp'\u001b[0m\u001b[0;34m]\u001b[0m\u001b[0;34m\u001b[0m\u001b[0;34m\u001b[0m\u001b[0m\n",
      "\u001b[0;32mh5py/_objects.pyx\u001b[0m in \u001b[0;36mh5py._objects.with_phil.wrapper\u001b[0;34m()\u001b[0m\n",
      "\u001b[0;32mh5py/_objects.pyx\u001b[0m in \u001b[0;36mh5py._objects.with_phil.wrapper\u001b[0;34m()\u001b[0m\n",
      "\u001b[0;32m/home/analysis_user/.local/lib/python3.6/site-packages/h5py/_hl/dataset.py\u001b[0m in \u001b[0;36m__array__\u001b[0;34m(self, dtype)\u001b[0m\n\u001b[1;32m    770\u001b[0m             \u001b[0;32mreturn\u001b[0m \u001b[0marr\u001b[0m\u001b[0;34m\u001b[0m\u001b[0;34m\u001b[0m\u001b[0m\n\u001b[1;32m    771\u001b[0m \u001b[0;34m\u001b[0m\u001b[0m\n\u001b[0;32m--> 772\u001b[0;31m         \u001b[0mself\u001b[0m\u001b[0;34m.\u001b[0m\u001b[0mread_direct\u001b[0m\u001b[0;34m(\u001b[0m\u001b[0marr\u001b[0m\u001b[0;34m)\u001b[0m\u001b[0;34m\u001b[0m\u001b[0;34m\u001b[0m\u001b[0m\n\u001b[0m\u001b[1;32m    773\u001b[0m         \u001b[0;32mreturn\u001b[0m \u001b[0marr\u001b[0m\u001b[0;34m\u001b[0m\u001b[0;34m\u001b[0m\u001b[0m\n\u001b[1;32m    774\u001b[0m \u001b[0;34m\u001b[0m\u001b[0m\n",
      "\u001b[0;32m/home/analysis_user/.local/lib/python3.6/site-packages/h5py/_hl/dataset.py\u001b[0m in \u001b[0;36mread_direct\u001b[0;34m(self, dest, source_sel, dest_sel)\u001b[0m\n\u001b[1;32m    731\u001b[0m \u001b[0;34m\u001b[0m\u001b[0m\n\u001b[1;32m    732\u001b[0m             \u001b[0;32mfor\u001b[0m \u001b[0mmspace\u001b[0m \u001b[0;32min\u001b[0m \u001b[0mdest_sel\u001b[0m\u001b[0;34m.\u001b[0m\u001b[0mbroadcast\u001b[0m\u001b[0;34m(\u001b[0m\u001b[0msource_sel\u001b[0m\u001b[0;34m.\u001b[0m\u001b[0mmshape\u001b[0m\u001b[0;34m)\u001b[0m\u001b[0;34m:\u001b[0m\u001b[0;34m\u001b[0m\u001b[0;34m\u001b[0m\u001b[0m\n\u001b[0;32m--> 733\u001b[0;31m                 \u001b[0mself\u001b[0m\u001b[0;34m.\u001b[0m\u001b[0mid\u001b[0m\u001b[0;34m.\u001b[0m\u001b[0mread\u001b[0m\u001b[0;34m(\u001b[0m\u001b[0mmspace\u001b[0m\u001b[0;34m,\u001b[0m \u001b[0mfspace\u001b[0m\u001b[0;34m,\u001b[0m \u001b[0mdest\u001b[0m\u001b[0;34m,\u001b[0m \u001b[0mdxpl\u001b[0m\u001b[0;34m=\u001b[0m\u001b[0mself\u001b[0m\u001b[0;34m.\u001b[0m\u001b[0m_dxpl\u001b[0m\u001b[0;34m)\u001b[0m\u001b[0;34m\u001b[0m\u001b[0;34m\u001b[0m\u001b[0m\n\u001b[0m\u001b[1;32m    734\u001b[0m \u001b[0;34m\u001b[0m\u001b[0m\n\u001b[1;32m    735\u001b[0m     \u001b[0;32mdef\u001b[0m \u001b[0mwrite_direct\u001b[0m\u001b[0;34m(\u001b[0m\u001b[0mself\u001b[0m\u001b[0;34m,\u001b[0m \u001b[0msource\u001b[0m\u001b[0;34m,\u001b[0m \u001b[0msource_sel\u001b[0m\u001b[0;34m=\u001b[0m\u001b[0;32mNone\u001b[0m\u001b[0;34m,\u001b[0m \u001b[0mdest_sel\u001b[0m\u001b[0;34m=\u001b[0m\u001b[0;32mNone\u001b[0m\u001b[0;34m)\u001b[0m\u001b[0;34m:\u001b[0m\u001b[0;34m\u001b[0m\u001b[0;34m\u001b[0m\u001b[0m\n",
      "\u001b[0;31mKeyboardInterrupt\u001b[0m: "
     ]
    }
   ],
   "source": [
    "bdf_discharge = load_dir(dirname='/data/new_trap/20200320/Bead1/Discharge/Discharge_after_Mass_20200402/After_spinning_again_20200403/', \n",
    "                         start_file=0, max_file=1200)"
   ]
  },
  {
   "cell_type": "code",
   "execution_count": null,
   "metadata": {},
   "outputs": [],
   "source": [
    "# bdf_discharge = load_dir(dirname='/data/new_trap/20200320/Bead1/Discharge/Recharge2/', \n",
    "#                          start_file=0, max_file=190)"
   ]
  },
  {
   "cell_type": "code",
   "execution_count": null,
   "metadata": {},
   "outputs": [],
   "source": [
    "dis_z = [np.std(bb.response_at_freq2('z', drive_freq=71)) for bb in  bdf_discharge]\n",
    "dis_x = [np.std(bb.response_at_freq2('x', drive_freq=71)) for bb in  bdf_discharge]\n",
    "dis_y = [np.std(bb.response_at_freq2('y', drive_freq=71)) for bb in  bdf_discharge]"
   ]
  },
  {
   "cell_type": "code",
   "execution_count": null,
   "metadata": {},
   "outputs": [],
   "source": [
    "bb = bdf_discharge[226]\n",
    "bb1 = bdf_discharge[319]\n",
    "_, ax = plt.subplots(1,2,figsize=(9.5,4), sharex=True)\n",
    "ax[0].semilogy(*bb.psd2('x'), label='7 charges, drive in X')\n",
    "ax[0].semilogy(*bb1.psd2('x'), alpha=0.6, label='2 charges, drive in Z')\n",
    "ax[0].legend()\n",
    "\n",
    "ax[1].semilogy(*bb.welch_psd('spin', res=500000))\n",
    "ax[1].semilogy(*bb1.welch_psd('spin', res=500000), alpha=0.4)\n",
    "ax[0].set(xlim=(50,100), title='X')\n",
    "ax[1].set(xlim=(50,100), title='Spin')"
   ]
  },
  {
   "cell_type": "code",
   "execution_count": null,
   "metadata": {},
   "outputs": [],
   "source": [
    "_,ax = plt.subplots(figsize=(9.5,4))\n",
    "ax.scatter(range(len(dis_z)),np.array(amps2)/amps2[200]*8, label='Z-response from fit')\n",
    "# ax.scatter(range(len(dis_z)),np.array(dis_x)/dis_x[226]*7, label='X-response')\n",
    "# ax.scatter(range(len(dis_z)),np.abs(amps_x2)/np.abs(amps_x2[226])*7, label='X-response from fit')\n",
    "# ax.scatter(range(len(dis_z)),np.array(amps2)/amps2[200]*8, label='Z-response fit fixed phase')\n",
    "ax.set(xlabel='dataset', ylabel='Charges', ylim=(-0.1,20), xlim=(100,None))\n",
    "ax.grid(axis='y')\n",
    "ax.legend()\n",
    "from matplotlib.ticker import MaxNLocator\n",
    "ax.yaxis.set_major_locator(MaxNLocator(integer=True))"
   ]
  },
  {
   "cell_type": "code",
   "execution_count": null,
   "metadata": {},
   "outputs": [],
   "source": [
    "from likelihood_calculator import likelihood_analyser\n",
    "from likelihood_calculator import GravityFramework\n",
    "from likelihood_calculator import auxiliary_functions as aux\n",
    "gfw = GravityFramework.GravityFramework()"
   ]
  },
  {
   "cell_type": "code",
   "execution_count": null,
   "metadata": {},
   "outputs": [],
   "source": [
    "m1 = gfw.build_z_response(bdf_discharge, drive_freq=71, charges=10, bandwidth=1)"
   ]
  },
  {
   "cell_type": "code",
   "execution_count": null,
   "metadata": {},
   "outputs": [],
   "source": [
    "amps = [m_.values[0] for m_ in m1]\n",
    "phases = [m_.values[2] for m_ in m1]\n",
    "\n",
    "amps2 = [m_.values[0] for m_ in m2]\n",
    "phases2 = [m_.values[2] for m_ in m2]\n",
    "\n",
    "amps_x = [m_.values[0] for m_ in mx1]\n",
    "phases_x = [m_.values[1] for m_ in mx1]\n",
    "\n",
    "amps_x2 = [m_.values[0] for m_ in mx2]\n",
    "phases_x2 = [m_.values[1] for m_ in mx2]\n",
    "print(np.mean(phases[100:200]))"
   ]
  },
  {
   "cell_type": "code",
   "execution_count": null,
   "metadata": {},
   "outputs": [],
   "source": [
    "mx2 = gfw.build_x_response(bdf_discharge, drive_freq=71, charges=10, bandwidth=1)"
   ]
  },
  {
   "cell_type": "markdown",
   "metadata": {},
   "source": [
    "### Noise level"
   ]
  },
  {
   "cell_type": "code",
   "execution_count": null,
   "metadata": {},
   "outputs": [],
   "source": [
    "bdf_z = bdf_discharge[235:265]\n",
    "charges = 7\n",
    "\n",
    "freq = bdf_z[0].psd2('z')[0]\n",
    "z_scale = bdf_z[0].psd2('z')[1][freq==71]\n",
    "for bb in bdf_z:\n",
    "    z_scale += bb.psd2('z')[1][freq==71]\n",
    "z_scale /= len(bdf_z)\n",
    "\n",
    "force = charges * 1.6e-19 * 20 / 8e-3 * 0.63 * np.sqrt(10) # in Newtons/sqrt(Hz)\n",
    "z_scale = force/np.sqrt(z_scale)"
   ]
  },
  {
   "cell_type": "code",
   "execution_count": null,
   "metadata": {},
   "outputs": [],
   "source": [
    "force"
   ]
  },
  {
   "cell_type": "code",
   "execution_count": null,
   "metadata": {},
   "outputs": [],
   "source": [
    "_, ax = plt.subplots()\n",
    "ax.semilogy(freq, np.sqrt(bdf_z[0].psd2('z')[1])*z_scale)\n",
    "_ = ax.set(xlim=(0,100), title='7 charges', xlabel='Frequency [Hz.]', ylabel='Z force [N/$\\sqrt{Hz}$]')"
   ]
  },
  {
   "cell_type": "code",
   "execution_count": null,
   "metadata": {},
   "outputs": [],
   "source": [
    "data_bdfs = load_dir(dirname=r'/data/new_trap/20200320/Bead1/Shaking/Shaking2_20200304/Small_Grid/', file_prefix='Shaking372_0')"
   ]
  },
  {
   "cell_type": "code",
   "execution_count": null,
   "metadata": {},
   "outputs": [],
   "source": [
    "distances = [372,374,376]\n",
    "ffts_x = []\n",
    "ffts_y = []\n",
    "ffts_z = []\n",
    "for dist in distances:\n",
    "    data_bdfs = load_dir(dirname=r'/data/new_trap/20200320/Bead1/Shaking/Shaking2_20200304/Small_Grid/', \n",
    "                         file_prefix='Shaking'+str(dist)+'_0')\n",
    "    freq = data_bdfs[0].psd2('x')[0]\n",
    "    fftx1 = data_bdfs[0].psd2('x')[1]\n",
    "    ffty1 = data_bdfs[0].psd2('y')[1]\n",
    "    fftz1 = data_bdfs[0].psd2('z')[1]\n",
    "    for i in range(1,100):\n",
    "        fftx1 += data_bdfs[i].psd2('x')[1]\n",
    "        fftz1 += data_bdfs[i].psd2('z')[1]\n",
    "        ffty1 += data_bdfs[i].psd2('y')[1]\n",
    "    ffts_x.append(fftx1/100)\n",
    "    ffts_y.append(ffty1/100)\n",
    "    ffts_z.append(fftz1/100)"
   ]
  },
  {
   "cell_type": "code",
   "execution_count": null,
   "metadata": {},
   "outputs": [],
   "source": [
    "## no shaking data\n",
    "# data_bdfs = load_dir(dirname=r'/data/new_trap/20200320/Bead1/Shaking/Shaking2_20200304/', \n",
    "#                      file_prefix='NoShaking_1', max_file=1000)\n",
    "freq = data_bdfs[0].psd2('x')[0]\n",
    "fftx1 = data_bdfs[0].psd2('x')[1]\n",
    "ffty1 = data_bdfs[0].psd2('y')[1]\n",
    "fftz1 = data_bdfs[0].psd2('z')[1]\n",
    "for i in range(1,1000):\n",
    "    fftx1 += data_bdfs[i].psd2('x')[1]\n",
    "    fftz1 += data_bdfs[i].psd2('z')[1]\n",
    "    ffty1 += data_bdfs[i].psd2('y')[1]\n",
    "fftx1/=1000\n",
    "ffty1/=1000\n",
    "fftz1/=1000"
   ]
  },
  {
   "cell_type": "code",
   "execution_count": null,
   "metadata": {},
   "outputs": [],
   "source": [
    "_,ax = plt.subplots()\n",
    "tf_freq = np.interp(freq, gfw.tf_freq, gfw.tf_ffts[2])\n",
    "[ax.semilogy(freq, (1/tf_freq)*np.sqrt(fft_)*z_scale, label=r'${:0.1f}\\,\\mu m$'.format(392.4-dis-7.6/2)) for fft_,dis in zip(ffts_z, distances)]\n",
    "# [ax.semilogy(freq, np.sqrt(fft_)*z_scale, label=r'${:0.1f}\\,\\mu m$'.format(392.4-dis-7.6/2)) for fft_,dis in zip(ffts_z, distances)]\n",
    "ax.semilogy(freq, (1/tf_freq)*np.sqrt(fftz1)*z_scale, label='No shaking')\n",
    "ax.legend()\n",
    "_ = ax.set(xlim=(1,70), ylim=(9e-18,1e-14), xlabel='Frequency [Hz.]', ylabel=r'Z force [N/$\\sqrt{Hz}$]', title='Force ASD (100 files)')"
   ]
  },
  {
   "cell_type": "code",
   "execution_count": null,
   "metadata": {},
   "outputs": [],
   "source": [
    "_,ax = plt.subplots()\n",
    "tf_freq = np.interp(freq, gfw.tf_freq, gfw.tf_ffts[0])\n",
    "[ax.semilogy(freq, tf_freq*np.sqrt(fft_), label=r'${:0.1f}\\,\\mu m$'.format(392.4-dis-7.6/2)) for fft_,dis in zip(ffts_x, distances)]\n",
    "ax.legend()\n",
    "_ = ax.set(xlim=(1,70), ylim=(None,1), xlabel='Frequency [Hz.]', ylabel='X force [arb./$\\sqrt{Hz}$]')"
   ]
  },
  {
   "cell_type": "code",
   "execution_count": null,
   "metadata": {
    "scrolled": true
   },
   "outputs": [],
   "source": [
    "## with proper tf\n",
    "dirname = r'/data/new_trap/20200320/Bead1/TransFunc/Repeat_TransFunc_20200104/'\n",
    "tfs = load_dir_sorted(dirname=dirname, file_prefix='TransFunc_Y')"
   ]
  },
  {
   "cell_type": "code",
   "execution_count": null,
   "metadata": {},
   "outputs": [],
   "source": [
    "ff1 = tfs[2].psd2('y')[0]\n",
    "resp_tf = [tf_.psd2('y')[1][ff1==70] for tf_ in tfs[2::2]]\n",
    "resp_tf = np.array(resp_tf/resp_tf[0])\n",
    "omega = np.array([400, 363, 315, 261])\n",
    "\n",
    "_,ax = plt.subplots(1,2,figsize=(9.5,4))\n",
    "[ax[0].semilogy(*tf_.psd2('y'), label=tf_.fname[-18:-7], alpha=0.7) for tf_ in tfs[2::2]]\n",
    "ax[0].set(xlim=(5,500), ylim=(1e-10, 1), xlabel='Frequency [Hz.]', ylabel=r'Y ASD [arb.]')\n",
    "ax[0].legend()\n",
    "\n",
    "ax[1].scatter(omega, resp_tf)\n",
    "ax[1].set(xlabel=r'$\\omega_0$', ylabel='Y response')"
   ]
  },
  {
   "cell_type": "code",
   "execution_count": null,
   "metadata": {},
   "outputs": [],
   "source": [
    "from likelihood_calculator import likelihood_analyser\n",
    "from likelihood_calculator import GravityFramework\n",
    "from likelihood_calculator import auxiliary_functions as aux\n",
    "gfw = GravityFramework.GravityFramework()"
   ]
  },
  {
   "cell_type": "code",
   "execution_count": null,
   "metadata": {},
   "outputs": [],
   "source": [
    "fname = r'/data/new_trap/20200320/Bead1/TransFunc/Repeat_TransFunc_20200104/TransFunc_X_m300k_250s_1hz.h5'\n",
    "tf_x = BeadDataFile.BeadDataFile(fname=fname)\n",
    "fname = r'/data/new_trap/20200320/Bead1/TransFunc/Repeat_TransFunc_20200104/TransFunc_Y_m300k_250s_1hz.h5'\n",
    "tf_y = BeadDataFile.BeadDataFile(fname=fname)\n",
    "fname = r'/data/new_trap/20200320/Bead1/TransFunc/Repeat_TransFunc_20200104/TransFunc_Z_m300k_250s_1hz.h5'\n",
    "tf_z = BeadDataFile.BeadDataFile(fname=fname)\n",
    "tf_list = [tf_x, tf_y, tf_z]"
   ]
  },
  {
   "cell_type": "code",
   "execution_count": null,
   "metadata": {},
   "outputs": [],
   "source": [
    "gfw.build_transfer_function(tf_list, base_freq=1, scale_freq=71, plot=True)"
   ]
  },
  {
   "cell_type": "code",
   "execution_count": null,
   "metadata": {},
   "outputs": [],
   "source": [
    "bdf_z = bdf_discharge[235:265]"
   ]
  },
  {
   "cell_type": "code",
   "execution_count": null,
   "metadata": {
    "scrolled": true
   },
   "outputs": [],
   "source": [
    "m1_z = gfw.build_z_response(bdf_z, drive_freq=71, bandwidth=1, charges=7)"
   ]
  },
  {
   "cell_type": "markdown",
   "metadata": {},
   "source": [
    "### Force 12th harmonic"
   ]
  },
  {
   "cell_type": "code",
   "execution_count": null,
   "metadata": {},
   "outputs": [],
   "source": [
    "drive_freq = 36\n",
    "fit_kwargs = {'A': 10, 'f': 36, 'phi': 0,                           \n",
    "              'error_A': 1, 'error_f': 1, 'error_phi': 0.5, 'errordef': 1,  \n",
    "              'limit_phi': [-2 * np.pi, 2 * np.pi],                         \n",
    "              'limit_A': [0, 100000],                                       \n",
    "              'print_level': 0, 'fix_f': True, 'fix_phi': False}            "
   ]
  },
  {
   "cell_type": "code",
   "execution_count": null,
   "metadata": {},
   "outputs": [],
   "source": [
    "# data_bdfs = load_dir(dirname=r'/data/new_trap/20200320/Bead1/Shaking/Shaking2_20200304/Small_Grid/', file_prefix='Shaking372_0')\n",
    "# tmp_amp = [gfw.get_z_amplitude(bdf=bdf_, noise_rms=1, **fit_kwargs)[2] for bdf_ in data_bdfs]\n",
    "noise_36_m1 = [gfw.get_z_amplitude(bdf=bdf_, noise_rms=1, **fit_kwargs)[2] for bdf_ in data_bdfs]"
   ]
  },
  {
   "cell_type": "code",
   "execution_count": null,
   "metadata": {},
   "outputs": [],
   "source": [
    "scale = gfw.scale_Z2*np.interp(drive_freq, gfw.tf_freq, gfw.tf_ffts[2])\n",
    "force_36 = [t_.values[0]/scale for t_ in tmp_amp]\n",
    "noise_36 = [t_.values[0]/scale for t_ in noise_36_m1]"
   ]
  },
  {
   "cell_type": "code",
   "execution_count": null,
   "metadata": {},
   "outputs": [],
   "source": [
    "distances = [372,373,374,375,376]\n",
    "forces_36 = []\n",
    "for dist in distances:\n",
    "    data_bdfs = load_dir(dirname=r'/data/new_trap/20200320/Bead1/Shaking/Shaking2_20200304/Small_Grid/', \n",
    "                         file_prefix='Shaking'+str(dist)+'_0')\n",
    "    tmp_amp = [gfw.get_z_amplitude(bdf=bdf_, noise_rms=1, **fit_kwargs)[2] for bdf_ in data_bdfs]\n",
    "    forces_36.append(np.array([t_.values[0]/scale for t_ in tmp_amp]))"
   ]
  },
  {
   "cell_type": "code",
   "execution_count": null,
   "metadata": {},
   "outputs": [],
   "source": [
    "force_means = np.array([np.mean(force_36) for force_36 in forces_36])\n",
    "force_stds = np.array([np.std(force_36) for force_36 in forces_36])\n",
    "_,ax = plt.subplots()\n",
    "ax.errorbar(392.4-np.array(distances)-7.6/2, force_means, yerr=force_stds/np.sqrt(100), fmt='o', label='Shaking')\n",
    "ax.plot(np.arange(12.3,17,0.01), np.arange(12.3,17,0.01)*0+np.mean(noise_36), '--', label='noise level')\n",
    "ax.set(ylim=(1e-18, 1e-16), xlabel=r'Face to Face distance [$\\mu m$]', ylabel='Z force [N]')\n",
    "ax.legend()\n",
    "np.sum(((force_means-np.mean(noise_36))/np.std(noise_36)*np.sqrt(100))**2)\n",
    "# np.mean(force_36), np.mean(noise_36), np.std(force_36)/np.sqrt(100), np.mean(force_36)/np.sqrt(100)"
   ]
  },
  {
   "cell_type": "code",
   "execution_count": null,
   "metadata": {},
   "outputs": [],
   "source": [
    "_, ax = plt.subplots()\n",
    "ax.hist(noise_36, bins=25)\n",
    "ax.set(title='Noise distribution', xlabel='Z force [N]')"
   ]
  },
  {
   "cell_type": "code",
   "execution_count": null,
   "metadata": {},
   "outputs": [],
   "source": [
    "def get_harmonics(frequency):\n",
    "    drive_freq = frequency\n",
    "    fit_kwargs = {'A': 10, 'f': 36, 'phi': 0,                           \n",
    "              'error_A': 1, 'error_f': 1, 'error_phi': 0.5, 'errordef': 1,  \n",
    "              'limit_phi': [-2 * np.pi, 2 * np.pi],                         \n",
    "              'limit_A': [0, 100000],                                       \n",
    "              'print_level': 0, 'fix_f': True, 'fix_phi': False}  \n",
    "    data_bdfs = load_dir(dirname=r'/data/new_trap/20200320/Bead1/Shaking/Shaking2_20200304/', \n",
    "                         file_prefix='NoShaking_1', max_file=1000)\n",
    "    noise_m1 = [gfw.get_z_amplitude(bdf=bdf_, noise_rms=1, **fit_kwargs)[2] for bdf_ in data_bdfs]\n",
    "    scale = gfw.scale_Z2*np.interp(drive_freq, gfw.tf_freq, gfw.tf_ffts[2])\n",
    "    noise_tmp = [t_.values[0]/scale for t_ in noise_m1]\n",
    "    \n",
    "    distances = [372,373,374,375,376]\n",
    "    forces_m1 = []\n",
    "    for dist in distances:\n",
    "        data_bdfs = load_dir(dirname=r'/data/new_trap/20200320/Bead1/Shaking/Shaking2_20200304/Small_Grid/', \n",
    "                             file_prefix='Shaking'+str(dist)+'_0')\n",
    "        tmp_amp = [gfw.get_z_amplitude(bdf=bdf_, noise_rms=1, **fit_kwargs)[2] for bdf_ in data_bdfs]\n",
    "        forces_m1.append(np.array([t_.values[0]/scale for t_ in tmp_amp]))\n",
    "    \n",
    "    return forces_m1, noise_tmp"
   ]
  },
  {
   "cell_type": "code",
   "execution_count": null,
   "metadata": {},
   "outputs": [],
   "source": [
    "forces_24, noise_24 = get_harmonics(frequency=24)"
   ]
  },
  {
   "cell_type": "code",
   "execution_count": null,
   "metadata": {},
   "outputs": [],
   "source": [
    "force_means = np.array([np.mean(force_24) for force_24 in forces_24])\n",
    "force_stds = np.array([np.std(force_24) for force_24 in forces_24])\n",
    "_,ax = plt.subplots()\n",
    "ax.errorbar(392.4-np.array(distances)-7.6/2, force_means, yerr=force_stds/np.sqrt(100), fmt='o', label='Shaking')\n",
    "ax.plot(np.arange(12.3,17,0.01), np.arange(12.3,17,0.01)*0+np.mean(noise_24), '--', label='noise level')\n",
    "ax.set(ylim=(1e-18, 1e-16), xlabel=r'Face to Face distance [$\\mu m$]', ylabel='Z force [N]', title='8th harmonic')\n",
    "ax.legend()"
   ]
  },
  {
   "cell_type": "code",
   "execution_count": null,
   "metadata": {},
   "outputs": [],
   "source": [
    "force_means = np.array([np.mean(force_18) for force_18 in forces_18])\n",
    "force_stds = np.array([np.std(force_18) for force_18 in forces_18])\n",
    "_,ax = plt.subplots()\n",
    "ax.errorbar(392.4-np.array(distances)-7.6/2, force_means, yerr=force_stds/np.sqrt(100), fmt='o', label='Shaking')\n",
    "ax.plot(np.arange(12.3,17,0.01), np.arange(12.3,17,0.01)*0+np.mean(noise_18), '--', label='noise level')\n",
    "ax.set(ylim=(1e-18, 1e-16), xlabel=r'Face to Face distance [$\\mu m$]', ylabel='Z force [N]', title='6th harmonic')\n",
    "ax.legend()"
   ]
  },
  {
   "cell_type": "code",
   "execution_count": null,
   "metadata": {},
   "outputs": [],
   "source": [
    "fit_kwargs2 = {'alpha': 0, 'phase': 0, 'sigma': 17, 'error_alpha': 0.001, 'error_phase': 1, 'error_sigma': 1,\n",
    "              'errordef': 1,\n",
    "              'limit_alpha': [-1, 1], 'limit_phase': [-3,3], 'limit_sigma': [0,None],\n",
    "              'fix_alpha': False, 'fix_phase': False, 'fix_sigma': False, 'print_level': 0}\n",
    "\n",
    "datasets_num = 100\n",
    "bandwidth = 1\n",
    "center_freq = 36\n",
    "\n",
    "mean_36 = []\n",
    "std_36 = []\n",
    "\n",
    "for dist in distances:\n",
    "    data_bdfs = load_dir(dirname=r'/data/new_trap/20200320/Bead1/Shaking/Shaking2_20200403/Small_Grid/', \n",
    "                         file_prefix='Shaking'+str(dist)+'_0')\n",
    "    \n",
    "    min_36_z = []\n",
    "    for i,bb in enumerate(data_bdfs):\n",
    "        print(i,'/',datasets_num) \n",
    "        min_36_z.append(gfw.get_alpha_mle_pl(bdf=bb, center_freq=center_freq, noise_freq=center_freq+bandwidth, \n",
    "                                                 bandwidth=bandwidth, decimate=10, direction1='z',\n",
    "                              x_focous=392.4, frequency=3, lambda_par=0.0001, height=8e-6, suppress_print=False,large_bead=True,\n",
    "                              **fit_kwargs2)[2])\n",
    "    m_36_alpha = [m1_.values[0] for m1_ in min_36_z]\n",
    "    m_36_sigma = [m1_.values[2] for m1_ in min_36_z]\n",
    "    mean_36.append(np.mean(np.abs(m_36_alpha))) \n",
    "    std_36.append(np.std(np.abs(m_36_alpha)))"
   ]
  },
  {
   "cell_type": "code",
   "execution_count": null,
   "metadata": {},
   "outputs": [],
   "source": [
    "data_bdfs = load_dir(dirname=r'/data/new_trap/20200320/Bead1/Shaking/Shaking2_20200403/', \n",
    "                     file_prefix='NoShaking_1', max_file=100)\n",
    "\n",
    "mean_36_n = []\n",
    "std_36_n = []\n",
    "\n",
    "for dist in [376]:    \n",
    "    min_36_z = []\n",
    "    for i,bb in enumerate(data_bdfs):\n",
    "        print(i,'/',datasets_num) \n",
    "        min_36_z.append(gfw.get_alpha_mle_pl(bdf=bb, center_freq=center_freq, noise_freq=center_freq+bandwidth, \n",
    "                                                 bandwidth=bandwidth, decimate=10, direction1='z',\n",
    "                              x_focous=392.4, frequency=3, lambda_par=0.0001, height=8e-6, suppress_print=False,large_bead=True,\n",
    "                              **fit_kwargs2)[2])\n",
    "    m_36_alpha = [m1_.values[0] for m1_ in min_36_z]\n",
    "    m_36_sigma = [m1_.values[2] for m1_ in min_36_z]\n",
    "    mean_36_n = np.mean(np.abs(m_36_alpha)) \n",
    "    std_36_n = np.std(np.abs(m_36_alpha))"
   ]
  },
  {
   "cell_type": "code",
   "execution_count": null,
   "metadata": {},
   "outputs": [],
   "source": [
    "distances1=392.4-np.array(distances)-7.6/2\n",
    "bla = np.array([get_force(dist_,36) for dist_ in distances1])"
   ]
  },
  {
   "cell_type": "code",
   "execution_count": null,
   "metadata": {},
   "outputs": [],
   "source": [
    "std_36/np.sqrt(100)"
   ]
  },
  {
   "cell_type": "code",
   "execution_count": null,
   "metadata": {},
   "outputs": [],
   "source": [
    "_,ax = plt.subplots()\n",
    "ax.errorbar(392.4-np.array(distances)-7.6/2, np.array(mean_36)*1.55/1.85, yerr=std_36/np.sqrt(100), fmt='o', label='Shaking')\n",
    "ax.errorbar(392.4-np.array(distances)-7.6/2, mean_36_n/bla*bla[-1]*0.9, yerr=std_36_n/np.sqrt(1000), fmt='o', label='Noise')\n",
    "# ax.plot(np.arange(12.3,17,0.01), np.arange(12.3,17,0.01)*0+np.mean(noise_18), '--', label='noise level')\n",
    "ax.set(ylim=(None, None), xlabel=r'Face to Face distance [$\\mu m$]', ylabel=r'$\\alpha [10^{10}]$', title='12th harmonic')\n",
    "ax.legend()"
   ]
  },
  {
   "cell_type": "markdown",
   "metadata": {},
   "source": [
    "### Limit"
   ]
  },
  {
   "cell_type": "code",
   "execution_count": null,
   "metadata": {},
   "outputs": [],
   "source": [
    "sys.path.append('/home/analysis_user/New_trap_code/SensitivityFramework/')\n",
    "from signal_model_utilities import *\n",
    "\n",
    "def get_force(dist, freq0):\n",
    "    test = force_vs_time(dist*1e-6,8e-6,200e-6,3,\"z\",100e-6, yuk_or_grav=\"yuk\",alpha=1e8,bead_size=3.8e-6)\n",
    "    def fft_norm(N, fsamp):\n",
    "        \"Factor to normalize FFT to ASD units\"\n",
    "        return np.sqrt(2 / (N * fsamp))\n",
    "    scale = np.sqrt(2)*fft_norm(5000, 5000)\n",
    "\n",
    "    x = test[1]\n",
    "    fft = np.abs(np.fft.rfft(x))*scale*1.85/1.55\n",
    "    freq = np.fft.rfftfreq(len(x), d=1./5000)\n",
    "    \n",
    "    return fft[freq==freq0]"
   ]
  },
  {
   "cell_type": "code",
   "execution_count": null,
   "metadata": {},
   "outputs": [],
   "source": [
    "force_24 = np.array([np.mean(force_24) for force_24 in forces_24])\n",
    "sigma_24 = np.array([np.std(force_24) for force_24 in forces_24])\n",
    "bck_24 = np.mean(noise_24)\n",
    "sigma_24 = np.std(noise_24)/np.sqrt(1)\n",
    "sim_force_24 = sim_force[1]\n",
    "distances1=392.4-np.array(distances)-7.6/2\n",
    "def get_PL(X):\n",
    "    bla = [pow((X*get_force(dist_,24)-force_-bck_24)/sigma_24,2) for dist_,force_ in zip(distances1, force_24)] ## one freq. all distances\n",
    "    return sum(bla)"
   ]
  },
  {
   "cell_type": "code",
   "execution_count": null,
   "metadata": {},
   "outputs": [],
   "source": [
    "get_force(12,24), force_24[0], noise_24, sigma_24"
   ]
  },
  {
   "cell_type": "code",
   "execution_count": null,
   "metadata": {
    "scrolled": true
   },
   "outputs": [],
   "source": [
    "X = np.linspace(100,200,50)\n",
    "PL_X = get_PL(X)"
   ]
  },
  {
   "cell_type": "code",
   "execution_count": null,
   "metadata": {},
   "outputs": [],
   "source": [
    "_,ax = plt.subplots()\n",
    "ax.scatter(X, PL_X)"
   ]
  },
  {
   "cell_type": "code",
   "execution_count": null,
   "metadata": {},
   "outputs": [],
   "source": [
    "PL_X"
   ]
  }
 ],
 "metadata": {
  "kernelspec": {
   "display_name": "Python 3",
   "language": "python",
   "name": "python3"
  },
  "language_info": {
   "codemirror_mode": {
    "name": "ipython",
    "version": 3
   },
   "file_extension": ".py",
   "mimetype": "text/x-python",
   "name": "python",
   "nbconvert_exporter": "python",
   "pygments_lexer": "ipython3",
   "version": "3.6.9"
  }
 },
 "nbformat": 4,
 "nbformat_minor": 2
}
