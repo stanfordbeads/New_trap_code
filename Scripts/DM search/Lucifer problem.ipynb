{
 "cells": [
  {
   "cell_type": "code",
   "execution_count": 1,
   "metadata": {},
   "outputs": [],
   "source": [
    "import numpy as np"
   ]
  },
  {
   "cell_type": "code",
   "execution_count": 123,
   "metadata": {},
   "outputs": [],
   "source": [
    "sets_couples = [{(i,j),(k,l)} for i in range(2,99) for j in range(2,i+1) for k in range(2,i) for l in range(2,k+1) if (i*j==k*l)&(i!=k)]\n",
    "mult = [i*j for i in range(2,99) for j in range(2,i+1) for k in range(2,i) for l in range(2,k+1) if (i*j==k*l)&(i!=k)]\n",
    "summ = [i+j for i in range(2,99) for j in range(2,i+1) for k in range(2,i) for l in range(2,k+1) if (i*j==k*l)&(i!=k)]"
   ]
  },
  {
   "cell_type": "code",
   "execution_count": 94,
   "metadata": {},
   "outputs": [
    {
     "data": {
      "text/plain": [
       "array([ 8, 10, 11, 11, 12, 13, 13, 14, 14, 14, 15, 15, 16, 16, 17, 17, 17,\n",
       "       17, 18, 18, 18, 18, 19, 19, 19, 19, 19, 20, 20, 20, 20, 20, 21, 21,\n",
       "       21, 22, 22, 22, 22, 22, 23, 23, 23, 23, 23, 23, 23, 23, 23, 24, 24,\n",
       "       24, 24, 24, 25, 25, 25, 25, 25, 25, 26, 26, 26, 26, 26, 26, 26, 26,\n",
       "       26, 27, 27, 27, 27, 27, 27, 27, 28, 28, 28, 28, 28, 29, 29, 29, 29,\n",
       "       29, 29, 29, 30, 30, 30, 30, 31, 31, 31, 31, 32, 32, 32, 33])"
      ]
     },
     "execution_count": 94,
     "metadata": {},
     "output_type": "execute_result"
    }
   ],
   "source": [
    "np.sort(summ[:100])"
   ]
  },
  {
   "cell_type": "code",
   "execution_count": 120,
   "metadata": {},
   "outputs": [],
   "source": [
    "everything = [{'set':set_, 'mult':mult_, 'sum':sum_} for set_, mult_, sum_ in zip(sets_couples, mult, summ)]"
   ]
  },
  {
   "cell_type": "code",
   "execution_count": 124,
   "metadata": {},
   "outputs": [],
   "source": [
    "left = set()\n",
    "for number in summ:\n",
    "    flag = True\n",
    "    for i in range(2,int(number/2)+1):\n",
    "        if i*(number-i) not in mult:\n",
    "            flag = False\n",
    "    if flag:\n",
    "        left.add(number)"
   ]
  },
  {
   "cell_type": "code",
   "execution_count": 125,
   "metadata": {},
   "outputs": [
    {
     "data": {
      "text/plain": [
       "{11, 17, 23, 27, 29, 35, 37, 41, 47, 53}"
      ]
     },
     "execution_count": 125,
     "metadata": {},
     "output_type": "execute_result"
    }
   ],
   "source": [
    "left"
   ]
  },
  {
   "cell_type": "code",
   "execution_count": 115,
   "metadata": {},
   "outputs": [
    {
     "data": {
      "text/plain": [
       "[]"
      ]
     },
     "execution_count": 115,
     "metadata": {},
     "output_type": "execute_result"
    }
   ],
   "source": [
    "[print(something) for something in everything if something['mult']==53]"
   ]
  },
  {
   "cell_type": "code",
   "execution_count": 58,
   "metadata": {},
   "outputs": [
    {
     "name": "stdout",
     "output_type": "stream",
     "text": [
      "{'set': {(12, 5), (10, 6)}, 'mult': 60, 'sum': 17}\n",
      "{'set': {(14, 3), (7, 6)}, 'mult': 42, 'sum': 17}\n",
      "{'set': {(6, 5), (15, 2)}, 'mult': 30, 'sum': 17}\n",
      "{'set': {(10, 3), (15, 2)}, 'mult': 30, 'sum': 17}\n",
      "{'set': {(6, 4), (8, 3)}, 'mult': 24, 'sum': 11}\n",
      "{'set': {(9, 2), (6, 3)}, 'mult': 18, 'sum': 11}\n"
     ]
    },
    {
     "data": {
      "text/plain": [
       "[None, None]"
      ]
     },
     "execution_count": 58,
     "metadata": {},
     "output_type": "execute_result"
    }
   ],
   "source": [
    "[print(something) for something in everything if something['sum']==17]\n",
    "[print(something) for something in everything if something['sum']==11]"
   ]
  },
  {
   "cell_type": "code",
   "execution_count": 28,
   "metadata": {},
   "outputs": [
    {
     "name": "stdout",
     "output_type": "stream",
     "text": [
      "{(6, 4), (8, 3)} {(9, 2), (6, 3)}\n",
      "{(6, 4), (8, 3)} {(9, 4), (6, 6)}\n",
      "{(9, 4), (6, 6)} {(4, 4), (8, 2)}\n",
      "{(9, 4), (6, 6)} {(6, 4), (8, 3)}\n",
      "{(9, 4), (6, 6)} {(12, 10), (15, 8)}\n",
      "{(9, 4), (6, 6)} {(16, 2), (8, 4)}\n",
      "{(9, 4), (6, 6)} {(8, 6), (16, 3)}\n",
      "{(10, 3), (6, 5)} {(8, 5), (10, 4)}\n",
      "{(10, 3), (6, 5)} {(12, 2), (6, 4)}\n",
      "{(12, 2), (6, 4)} {(12, 6), (18, 4)}\n",
      "{(12, 3), (6, 6)} {(18, 3), (9, 6)}\n",
      "{(12, 3), (6, 6)} {(9, 8), (12, 6)}\n",
      "{(12, 3), (6, 6)} {(7, 4), (14, 2)}\n",
      "{(12, 3), (6, 6)} {(14, 3), (7, 6)}\n",
      "{(9, 4), (12, 3)} {(8, 6), (12, 4)}\n",
      "{(9, 4), (12, 3)} {(12, 5), (10, 6)}\n",
      "{(9, 4), (12, 3)} {(9, 8), (12, 6)}\n",
      "{(8, 6), (12, 4)} {(9, 2), (6, 3)}\n",
      "{(8, 6), (12, 4)} {(9, 4), (6, 6)}\n",
      "{(12, 5), (10, 6)} {(18, 7), (14, 9)}\n",
      "{(12, 5), (10, 6)} {(18, 8), (12, 12)}\n",
      "{(9, 8), (12, 6)} {(12, 3), (6, 6)}\n",
      "{(9, 8), (12, 6)} {(9, 4), (12, 3)}\n",
      "{(6, 5), (15, 2)} {(8, 6), (16, 3)}\n",
      "{(15, 4), (10, 6)} {(15, 6), (10, 9)}\n",
      "{(15, 6), (10, 9)} {(18, 3), (9, 6)}\n",
      "{(15, 6), (10, 9)} {(9, 8), (18, 4)}\n",
      "{(8, 6), (16, 3)} {(6, 5), (15, 2)}\n",
      "{(16, 9), (12, 12)} {(15, 4), (12, 5)}\n",
      "{(16, 9), (12, 12)} {(15, 6), (10, 9)}\n",
      "{(6, 6), (18, 2)} {(12, 5), (10, 6)}\n",
      "{(6, 6), (18, 2)} {(9, 8), (12, 6)}\n",
      "{(9, 4), (18, 2)} {(8, 6), (12, 4)}\n",
      "{(9, 8), (18, 4)} {(12, 2), (8, 3)}\n",
      "{(18, 5), (10, 9)} {(8, 5), (10, 4)}\n",
      "{(18, 8), (12, 12)} {(9, 2), (6, 3)}\n"
     ]
    },
    {
     "data": {
      "text/plain": [
       "[None,\n",
       " None,\n",
       " None,\n",
       " None,\n",
       " None,\n",
       " None,\n",
       " None,\n",
       " None,\n",
       " None,\n",
       " None,\n",
       " None,\n",
       " None,\n",
       " None,\n",
       " None,\n",
       " None,\n",
       " None,\n",
       " None,\n",
       " None,\n",
       " None,\n",
       " None,\n",
       " None,\n",
       " None,\n",
       " None,\n",
       " None,\n",
       " None,\n",
       " None,\n",
       " None,\n",
       " None,\n",
       " None,\n",
       " None,\n",
       " None,\n",
       " None,\n",
       " None,\n",
       " None,\n",
       " None,\n",
       " None]"
      ]
     },
     "execution_count": 28,
     "metadata": {},
     "output_type": "execute_result"
    }
   ],
   "source": [
    "[print(sets_couples[i],sets_couples[j-i]) for i,m1 in enumerate(mult) for j,m2 in enumerate(mult[i+1:]) if m1==m2]"
   ]
  },
  {
   "cell_type": "code",
   "execution_count": 23,
   "metadata": {},
   "outputs": [
    {
     "data": {
      "text/plain": [
       "{(6, 6), (12, 3)}"
      ]
     },
     "execution_count": 23,
     "metadata": {},
     "output_type": "execute_result"
    }
   ],
   "source": [
    "sets_couples[10]"
   ]
  },
  {
   "cell_type": "code",
   "execution_count": null,
   "metadata": {},
   "outputs": [],
   "source": []
  }
 ],
 "metadata": {
  "kernelspec": {
   "display_name": "Python 3",
   "language": "python",
   "name": "python3"
  },
  "language_info": {
   "codemirror_mode": {
    "name": "ipython",
    "version": 3
   },
   "file_extension": ".py",
   "mimetype": "text/x-python",
   "name": "python",
   "nbconvert_exporter": "python",
   "pygments_lexer": "ipython3",
   "version": "3.6.9"
  }
 },
 "nbformat": 4,
 "nbformat_minor": 2
}
