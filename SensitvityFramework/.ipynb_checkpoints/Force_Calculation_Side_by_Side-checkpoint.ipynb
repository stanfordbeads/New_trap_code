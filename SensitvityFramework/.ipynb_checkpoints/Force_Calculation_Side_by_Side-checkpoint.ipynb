{
 "cells": [
  {
   "cell_type": "markdown",
   "metadata": {},
   "source": [
    "This code is made by Chas (and AlexR) and was modified for python3"
   ]
  },
  {
   "cell_type": "code",
   "execution_count": 2,
   "metadata": {},
   "outputs": [],
   "source": [
    "import numpy as np\n",
    "import pickle as pickle\n",
    "import scipy.interpolate as interp\n",
    "import scipy.signal as signal\n",
    "import scipy.optimize as opti\n",
    "import scipy, sys, time\n",
    "import matplotlib.pyplot as plt"
   ]
  },
  {
   "cell_type": "code",
   "execution_count": 4,
   "metadata": {},
   "outputs": [
    {
     "name": "stdout",
     "output_type": "stream",
     "text": [
      "Density Loaded.\n"
     ]
    }
   ],
   "source": [
    "# bead diamater [µm]\n",
    "rbead = 4e-6 #float(sys.argv[1])\n",
    "# separation attractor [µm] - bead TODO: check if center of bead or outer surface\n",
    "sep = 10e-6 #float(sys.argv[2])\n",
    "# difference in height of attractor and bead [µm]\n",
    "height = 0 #float(sys.argv[3])\n",
    "\n",
    "# load the density profile of the attractor (took the one AlexR and Chas have produced)\n",
    "rhopath = 'rho_arr.p'\n",
    "rho, xx, yy, zz = pickle.load(open(rhopath, 'rb'), encoding=\"latin1\") # first change, encoding to latin1 instead of ASCII\n",
    "print(\"Density Loaded.\")\n",
    "sys.stdout.flush()"
   ]
  },
  {
   "cell_type": "code",
   "execution_count": null,
   "metadata": {},
   "outputs": [],
   "source": [
    "xx = np.array(xx) # maxe array for x\n",
    "yy = np.array(yy) # make array for y\n",
    "zz = np.array(zz) # make array for z\n",
    "\n",
    "xinds = np.abs(xx) <= 25.0e-6 #\n",
    "yinds = np.abs(yy) <= 80.0e-6 #\n",
    "zinds = np.abs(zz) <= 5.0e-6 #\n",
    "\n",
    "xx2 = xx[xinds] #\n",
    "yy2 = yy[yinds] #\n",
    "zz2 = zz[zinds] #\n",
    "rho2 = rho[xinds,:,:][:,yinds,:] #\n",
    "\n",
    "\n",
    "# produce empty arrays \n",
    "\n",
    "xzeros = np.zeros(len(xx))\n",
    "yzeros = np.zeros(len(yy))\n",
    "zzeros = np.zeros(len(zz))\n",
    "\n",
    "xzeros2 = np.zeros(len(xx2))\n",
    "yzeros2 = np.zeros(len(yy2))\n",
    "zzeros2 = np.zeros(len(zz2))\n",
    "\n",
    "dx = np.abs(xx[1] - xx[0])\n",
    "dy = np.abs(yy[1] - yy[0])\n",
    "dz = np.abs(zz[1] - zz[0])\n",
    "\n",
    "cell_volume = dx * dy * dz\n",
    "m = rho * cell_volume\n",
    "m2 = rho2 * cell_volume"
   ]
  },
  {
   "cell_type": "code",
   "execution_count": 6,
   "metadata": {},
   "outputs": [],
   "source": [
    "\n",
    "G = 6.67e-11     # m^3 / (kg s^2)\n",
    "rhobead = 2200.\n",
    "\n",
    "travel = 500.0e-6 # travel\n",
    "cent = 0.0e-6 # where to start\n",
    "Npoints = 1001 # how many points for each direction\n",
    "beadposvec = np.linspace(cent - travel*0.5, cent + travel*0.5, Npoints)\n",
    "beadposvec2 = np.linspace(-1.0 * travel, travel, 2*(Npoints-1) + 1)\n",
    "\n",
    "lambdas = np.logspace(-6.3, -3, 100)\n",
    "lambdas = lambdas[::-1]"
   ]
  },
  {
   "cell_type": "code",
   "execution_count": null,
   "metadata": {},
   "outputs": [],
   "source": [
    "# where to put the results and how to name them\n",
    "\n",
    "respath = 'results/'\n",
    "respath = respath + 'rbead_' + str(rbead)\n",
    "respath = respath + '_sep_' + str(sep)\n",
    "respath = respath + '_height_' + str(height)\n",
    "respath = respath + '.p'\n",
    "results_dic = {}\n",
    "results_dic['order'] = 'Rbead, Sep, Height, Yuklambda'\n",
    "\n",
    "\n",
    "\n",
    "finger_inds = np.array([-4.0, -3.0, -2.0, -1.0, 0.0, 1.0, 2.0, 3.0, 4.0])\n"
   ]
  }
 ],
 "metadata": {
  "kernelspec": {
   "display_name": "Python 3",
   "language": "python",
   "name": "python3"
  },
  "language_info": {
   "codemirror_mode": {
    "name": "ipython",
    "version": 3
   },
   "file_extension": ".py",
   "mimetype": "text/x-python",
   "name": "python",
   "nbconvert_exporter": "python",
   "pygments_lexer": "ipython3",
   "version": "3.6.7"
  }
 },
 "nbformat": 4,
 "nbformat_minor": 2
}
