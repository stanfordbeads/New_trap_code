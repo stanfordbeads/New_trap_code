{
 "cells": [
  {
   "cell_type": "markdown",
   "metadata": {},
   "source": [
    "This code is made by Chas (and AlexR) and was modified for python3 by AlexF\n",
    "In-n-Out in progress"
   ]
  },
  {
   "cell_type": "code",
   "execution_count": 1,
   "metadata": {},
   "outputs": [],
   "source": [
    "import numpy as np\n",
    "import pickle as pickle\n",
    "import scipy.interpolate as interp\n",
    "import scipy.signal as signal\n",
    "import scipy.optimize as opti\n",
    "import scipy, sys, time\n",
    "import matplotlib.pyplot as plt\n",
    "from matplotlib.mlab import psd\n",
    "from tqdm import tqdm\n",
    "import multiprocessing as mp\n"
   ]
  },
  {
   "cell_type": "code",
   "execution_count": 2,
   "metadata": {},
   "outputs": [
    {
     "name": "stdout",
     "output_type": "stream",
     "text": [
      "Density Loaded.\n"
     ]
    }
   ],
   "source": [
    "# bead radius [µm] (certain it shouldn't be diameter)\n",
    "rbead = 2.4e-6 #float(sys.argv[1])\n",
    "# position relative to the attractor center\n",
    "cent_pos = 0.0e-6 #float(sys.argv[2])\n",
    "# difference in height of attractor and bead [µm]\n",
    "height = 0 #float(sys.argv[3])\n",
    "\n",
    "# load the density profile of the attractor (took the one AlexR and Chas have produced)\n",
    "rhopath = '/home/analysis_user/Results/Sensitivity/rho_arr.p' \n",
    "rho, xx, yy, zz = pickle.load(open(rhopath, 'rb'), encoding=\"latin1\") # first change, encoding to latin1 instead of ASCII\n",
    "print(\"Density Loaded.\")\n",
    "sys.stdout.flush()"
   ]
  },
  {
   "cell_type": "code",
   "execution_count": 3,
   "metadata": {},
   "outputs": [
    {
     "data": {
      "text/plain": [
       "<matplotlib.image.AxesImage at 0x7fa993ffda90>"
      ]
     },
     "execution_count": 3,
     "metadata": {},
     "output_type": "execute_result"
    },
    {
     "data": {
      "image/png": "[encoded data removed]",
      "text/plain": [
       "<Figure size 432x288 with 1 Axes>"
      ]
     },
     "metadata": {},
     "output_type": "display_data"
    }
   ],
   "source": [
    "plt.imshow(rho[0:499,0:999,int(.5*len(zz))]) # show the attractor"
   ]
  },
  {
   "cell_type": "code",
   "execution_count": 4,
   "metadata": {},
   "outputs": [],
   "source": [
    "xx = np.array(xx) # maxe array for x\n",
    "yy = np.array(yy) # make array for y\n",
    "zz = np.array(zz) # make array for z\n",
    "\n",
    "xinds = np.abs(xx) <= 25.0e-6 # width you want to simulate (25e-6)\n",
    "yinds = np.abs(yy) <= 80.0e-6 # length of the attractor in y you want to use (~80 if only the finger)\n",
    "zinds = np.abs(zz) <= 5.0e-6 # thickness should be complete finger\n",
    "\n",
    "xinds = np.abs(xx) <= 25.0e-6 # width you want to simulate (25e-6)\n",
    "yinds = np.abs(yy) <= 80.0e-6 # length of the attractor in y you want to use (~80 if only the finger)\n",
    "zinds = np.abs(zz) <= 5.0e-6 # thickness should be complete finger\n",
    "\n",
    "\n",
    "\n",
    "xx2 = xx[xinds] # reduce the xx array to your selection (symmetric) \n",
    "yy2 = yy[yinds] # reduce the yy array to your selection\n",
    "zz2 = zz[zinds] # zz2 is the entire thickness\n",
    "rho2 = rho[xinds,:,:][:,yinds,:] # density of a finger\n",
    "\n",
    "\n",
    "# produce empty arrays \n",
    "\n",
    "xzeros = np.zeros(len(xx))\n",
    "yzeros = np.zeros(len(yy))\n",
    "zzeros = np.zeros(len(zz))\n",
    "\n",
    "xzeros2 = np.zeros(len(xx2))\n",
    "yzeros2 = np.zeros(len(yy2))\n",
    "zzeros2 = np.zeros(len(zz2))\n",
    "\n",
    "dx = np.abs(xx[1] - xx[0]) # smallest step in x\n",
    "dy = np.abs(yy[1] - yy[0]) # smallest step in y\n",
    "dz = np.abs(zz[1] - zz[0]) # smallest step in z\n",
    "\n",
    "cell_volume = dx * dy * dz # volume of a cell for the calculation\n",
    "m = rho * cell_volume # calculate into mass for the entire attractor\n",
    "m2 = rho2 * cell_volume # calculate into mass for the selection"
   ]
  },
  {
   "cell_type": "code",
   "execution_count": 5,
   "metadata": {},
   "outputs": [
    {
     "data": {
      "text/plain": [
       "<matplotlib.image.AxesImage at 0x7fa990b0c780>"
      ]
     },
     "execution_count": 5,
     "metadata": {},
     "output_type": "execute_result"
    },
    {
     "data": {
      "image/png": "[encoded data removed]",
      "text/plain": [
       "<Figure size 432x288 with 1 Axes>"
      ]
     },
     "metadata": {},
     "output_type": "display_data"
    }
   ],
   "source": [
    "plt.imshow(rho2[:, :, 5])"
   ]
  },
  {
   "cell_type": "code",
   "execution_count": 6,
   "metadata": {},
   "outputs": [],
   "source": [
    "G = 6.67e-11     # m^3 / (kg s^2)\n",
    "rhobead = 1550. # updated value from mass paper\n",
    "\n",
    "travel = 500e-6 # travel\n",
    "Npoints = 11 # how many points for each direction \n",
    "beadposvec = np.linspace(cent_pos - travel*0.5, cent_pos + travel*0.5, Npoints) # position vector for the position along the detector\n",
    "beadposvec2 = np.linspace(0, travel, (Npoints-1) + 1) # movement along the y axis for the bead\n",
    "\n",
    "lambdas = np.logspace(-6.3, -3, 100)  # make lambda for yukawa scan\n",
    "lambdas = lambdas[::-1] # make lambda"
   ]
  },
  {
   "cell_type": "code",
   "execution_count": 7,
   "metadata": {},
   "outputs": [],
   "source": [
    "# where to put the results and how to name them\n",
    "\n",
    "respath = 'results/'\n",
    "respath = respath + 'rbead_' + str(rbead)\n",
    "respath = respath + '_centpos_' + str(cent_pos)\n",
    "respath = respath + '_height_' + str(height)\n",
    "respath = respath + '.p'\n",
    "results_dic = {}\n",
    "results_dic['order'] = 'Rbead, Cent_pos, Height, Yuklambda'"
   ]
  },
  {
   "cell_type": "code",
   "execution_count": 8,
   "metadata": {},
   "outputs": [],
   "source": [
    "finger_inds = np.array([-4.0, -3.0, -2.0, -1.0, 0.0, 1.0, 2.0, 3.0, 4.0]) # indicator for the finger with\n",
    "\n",
    "def find_ind(pos): # define the boundaries of the fingers starting from the center \n",
    "    if np.abs(pos) <= 25e-6:\n",
    "        ind = 0\n",
    "    elif np.abs(pos) > 25e-6:\n",
    "        if np.abs(pos) <= 75e-6:\n",
    "            if pos > 0: # positive side\n",
    "                ind = 1.0\n",
    "            elif pos < 0:\n",
    "                ind = -1.0 #negative side\n",
    "        elif np.abs(pos) > 75e-6:\n",
    "            if np.abs(pos) <= 125e-6:\n",
    "                if pos > 0:\n",
    "                    ind = 2.0\n",
    "                if pos < 0:\n",
    "                    ind = -2.0\n",
    "            elif np.abs(pos) > 125e-6:\n",
    "                if np.abs(pos) <= 175e-6:\n",
    "                    if pos > 0:\n",
    "                        ind = 3.0\n",
    "                    if pos < 0:\n",
    "                        ind = -3.0\n",
    "                elif np.abs(pos) > 175e-6:\n",
    "                    if pos > 0:\n",
    "                        ind = 4.0\n",
    "                    if pos < 0:\n",
    "                        ind = -4.0\n",
    "\n",
    "    newpos = pos - ind * 50e-6 # define the position such that its always relative to a finger\n",
    "\n",
    "    return ind, newpos\n",
    "\n",
    "\n",
    "def dist(p1, p2): \n",
    "    return np.sqrt((p1[0] - p2[0])**2 + (p1[1] - p2[1])**2 + (p1[2] - p2[2])**2) # distance, not used in the code\n",
    "\n",
    "def dist_p_arrp(p1, xs, ys, zs): # distance in three dimensions\n",
    "    xnew = (xs - p1[0])**2\n",
    "    ynew = (ys - p1[1])**2\n",
    "    znew = (zs - p1[2])**2\n",
    "    return np.sqrt(np.add.outer(np.add.outer(xnew, ynew), znew))"
   ]
  },
  {
   "cell_type": "code",
   "execution_count": 12,
   "metadata": {},
   "outputs": [],
   "source": [
    "# initilaize the dictionaries \n",
    "results_dic[rbead] = {}\n",
    "results_dic[rbead][cent_pos] = {}\n",
    "results_dic[rbead][cent_pos][height] = {}\n",
    "\n",
    "\n",
    "Gterm = 2. * rbead**3\n",
    "\n",
    "GforcecurveX = []\n",
    "GforcecurveY = []\n",
    "GforcecurveZ = []\n",
    "    \n"
   ]
  },
  {
   "cell_type": "code",
   "execution_count": 13,
   "metadata": {
    "scrolled": false
   },
   "outputs": [
    {
     "name": "stderr",
     "output_type": "stream",
     "text": [
      "100%|██████████| 11/11 [00:04<00:00,  2.61it/s]\n"
     ]
    }
   ],
   "source": [
    "for ind, ypos in enumerate(tqdm(beadposvec2)):\n",
    "    beadpos = [cent_pos, ypos+rbead, height] # definde the bead position, only the separation can change, y is to the bead center\n",
    "    s = dist_p_arrp(beadpos, xx, yy, zz) - rbead # calculate the distance surface to surface\n",
    "\n",
    "    # These are used to compute projections and thus need to maintain sign\n",
    "    xsep = dist_p_arrp([cent_pos, 0, 0], xx, yzeros, zzeros)\n",
    "    xind = np.argmin(np.abs(xx - 0))\n",
    "    xsep[:xind,:,:] *= -1.0\n",
    "\n",
    "    # We a priori know that all yseps should be negative\n",
    "    ysep = dist_p_arrp([0, rbead+ypos, 0], xzeros, yy, zzeros)\n",
    "    ysep *= -1.0\n",
    "\n",
    "    zsep = dist_p_arrp([0, 0, height], xzeros, yzeros, zz)\n",
    "    zind = np.argmin(np.abs(zz - height))\n",
    "    zsep[:,:,:zind] *= -1.0\n",
    "\n",
    "    xprojection = xsep / (s + rbead)\n",
    "    yprojection = ysep / (s + rbead)\n",
    "    zprojection = zsep / (s + rbead)\n",
    "\n",
    "    prefac = ((2. * G * m * rhobead * np.pi) / (3. * (rbead + s)**2))\n",
    "\n",
    "    xtotforce = np.sum(prefac * Gterm * xprojection)\n",
    "    ytotforce = np.sum(prefac * Gterm * yprojection)\n",
    "    ztotforce = np.sum(prefac * Gterm * zprojection)\n",
    "\n",
    "\n",
    "    # SWAP X AND Y AXES TO MATCH DATA AXES\n",
    "    GforcecurveX.append(ytotforce)\n",
    "    GforcecurveY.append(xtotforce)\n",
    "    GforcecurveZ.append(ztotforce)\n",
    "\n",
    "GforcecurveX = np.array(GforcecurveX)\n",
    "GforcecurveY = np.array(GforcecurveY)\n",
    "GforcecurveZ = np.array(GforcecurveZ)\n",
    "\n",
    "\n"
   ]
  },
  {
   "cell_type": "code",
   "execution_count": 14,
   "metadata": {},
   "outputs": [
    {
     "name": "stderr",
     "output_type": "stream",
     "text": [
      "100%|██████████| 100/100 [09:31<00:00,  5.84s/it]"
     ]
    },
    {
     "name": "stdout",
     "output_type": "stream",
     "text": [
      "100! Done!\n"
     ]
    },
    {
     "name": "stderr",
     "output_type": "stream",
     "text": [
      "\n"
     ]
    }
   ],
   "source": [
    "for yukind, yuklambda in enumerate(tqdm(lambdas)):\n",
    "    func = np.exp(-2. * rbead / yuklambda) * (1. + rbead / yuklambda) + rbead / yuklambda - 1.\n",
    "\n",
    "    yukforcecurveX = []\n",
    "    yukforcecurveY = []\n",
    "    yukforcecurveZ = []\n",
    "    \n",
    "    for ind, ypos in enumerate(beadposvec2):\n",
    "\n",
    "        beadpos = [cent_pos, ypos+rbead, height]\n",
    "\n",
    "        s = dist_p_arrp(beadpos, xx, yy, zz) - rbead\n",
    "        # These are used to compute projections and thus need to maintain sign\n",
    "        xsep = dist_p_arrp([cent_pos, 0, 0], xx, yzeros, zzeros)\n",
    "        xind = np.argmin(np.abs(xx - cent_pos))\n",
    "        xsep[:xind,:,:] *= -1.0\n",
    "\n",
    "        # We a priori know that all yseps should be negative\n",
    "        ysep = dist_p_arrp([0, ypos+rbead, 0], xzeros, yy, zzeros)\n",
    "        ysep *= -1.0\n",
    "\n",
    "        zsep = dist_p_arrp([0, 0, height], xzeros, yzeros, zz)\n",
    "        zind = np.argmin(np.abs(zz - height))\n",
    "        zsep[:,:,:zind] *= -1.0\n",
    "\n",
    "        xprojection = xsep / (s + rbead)\n",
    "        yprojection = ysep / (s + rbead)\n",
    "        zprojection = zsep / (s + rbead)\n",
    "\n",
    "        prefac = ((2. * G * m * rhobead * np.pi) / (3. * (rbead + s)**2))\n",
    "\n",
    "        yukterm = 3 * yuklambda**2 * (rbead + s + yuklambda) * func * np.exp( - s / yuklambda )\n",
    "        #print(-s/yuklambda)\n",
    "        xtotforce = np.sum(prefac * yukterm * xprojection)\n",
    "        ytotforce = np.sum(prefac * yukterm * yprojection)\n",
    "        ztotforce = np.sum(prefac * yukterm * zprojection)\n",
    "      \n",
    "\n",
    "        # SWAP X AND Y AXES TO MATCH DATA AXES\n",
    "        yukforcecurveX.append(ytotforce) \n",
    "        yukforcecurveY.append(xtotforce)\n",
    "        yukforcecurveZ.append(ztotforce)\n",
    "        \n",
    "    yukforcecurveX = np.array(yukforcecurveX)\n",
    "    yukforcecurveY = np.array(yukforcecurveY)\n",
    "    yukforcecurveZ = np.array(yukforcecurveZ)\n",
    "\n",
    "\"\"\"   \n",
    "    yukX = interp.interp1d(beadposvec2, yukforcecurveX, kind='cubic')\n",
    "    yukY = interp.interp1d(beadposvec2, yukforcecurveY, kind='cubic')\n",
    "    yukZ = interp.interp1d(beadposvec2, yukforcecurveZ, kind='cubic')\n",
    "\n",
    "    newyukX = np.zeros(len(beadposvec))\n",
    "    newyukY = np.zeros(len(beadposvec))\n",
    "    newyukZ = np.zeros(len(beadposvec))\n",
    "\n",
    "    for ind, pos in enumerate(beadposvec):\n",
    "        if np.abs(pos) - 225e-6 > 0:\n",
    "            newyukX[ind] = 0.0\n",
    "            newyukY[ind] = 0.0\n",
    "            newyukZ[ind] = 0.0\n",
    "            continue\n",
    "\n",
    "        finger_ind, newpos = find_ind(pos)\n",
    "        width = 50.0e-6\n",
    "  \n",
    "        newyukX[ind] = np.sum(yukX(newpos + (finger_inds+finger_ind) * width))\n",
    "        newyukY[ind] = np.sum(yukY(newpos + (finger_inds+finger_ind) * width))\n",
    "        newyukZ[ind] = np.sum(yukZ(newpos + (finger_inds+finger_ind) * width))\n",
    "        #print(newyukX[ind],newyukY[ind],newyukZ[ind])\n",
    "\n",
    "\"\"\"\n",
    "\n",
    "print(\"100! Done!\")"
   ]
  },
  {
   "cell_type": "code",
   "execution_count": 18,
   "metadata": {},
   "outputs": [
    {
     "data": {
      "text/plain": [
       "[<matplotlib.lines.Line2D at 0x7fa990a35470>]"
      ]
     },
     "execution_count": 18,
     "metadata": {},
     "output_type": "execute_result"
    },
    {
     "data": {
      "image/png": "[encoded data removed]",
      "text/plain": [
       "<Figure size 432x288 with 1 Axes>"
      ]
     },
     "metadata": {},
     "output_type": "display_data"
    }
   ],
   "source": [
    "plt.plot(yukforcecurveX)"
   ]
  },
  {
   "cell_type": "code",
   "execution_count": 16,
   "metadata": {},
   "outputs": [
    {
     "ename": "NameError",
     "evalue": "name 'newGX' is not defined",
     "output_type": "error",
     "traceback": [
      "\u001b[0;31m---------------------------------------------------------------------------\u001b[0m",
      "\u001b[0;31mNameError\u001b[0m                                 Traceback (most recent call last)",
      "\u001b[0;32m<ipython-input-16-a06fb2206dd7>\u001b[0m in \u001b[0;36m<module>\u001b[0;34m()\u001b[0m\n\u001b[0;32m----> 1\u001b[0;31m \u001b[0mresults_dic\u001b[0m\u001b[0;34m[\u001b[0m\u001b[0mrbead\u001b[0m\u001b[0;34m]\u001b[0m\u001b[0;34m[\u001b[0m\u001b[0mcent_pos\u001b[0m\u001b[0;34m]\u001b[0m\u001b[0;34m[\u001b[0m\u001b[0mheight\u001b[0m\u001b[0;34m]\u001b[0m\u001b[0;34m[\u001b[0m\u001b[0myuklambda\u001b[0m\u001b[0;34m]\u001b[0m \u001b[0;34m=\u001b[0m                 \u001b[0;34m(\u001b[0m\u001b[0mnewGX\u001b[0m\u001b[0;34m,\u001b[0m \u001b[0mnewGY\u001b[0m\u001b[0;34m,\u001b[0m \u001b[0mnewGZ\u001b[0m\u001b[0;34m,\u001b[0m \u001b[0mnewyukX\u001b[0m\u001b[0;34m,\u001b[0m \u001b[0mnewyukY\u001b[0m\u001b[0;34m,\u001b[0m \u001b[0mnewyukZ\u001b[0m\u001b[0;34m)\u001b[0m\u001b[0;34m\u001b[0m\u001b[0;34m\u001b[0m\u001b[0m\n\u001b[0m\u001b[1;32m      2\u001b[0m \u001b[0;34m\u001b[0m\u001b[0m\n",
      "\u001b[0;31mNameError\u001b[0m: name 'newGX' is not defined"
     ]
    }
   ],
   "source": [
    "results_dic[rbead][cent_pos][height][yuklambda] = \\\n",
    "                (newGX, newGY, newGZ, newyukX, newyukY, newyukZ)\n",
    "\n"
   ]
  },
  {
   "cell_type": "code",
   "execution_count": 17,
   "metadata": {},
   "outputs": [
    {
     "name": "stdout",
     "output_type": "stream",
     "text": [
      "Save didn't work!\n"
     ]
    }
   ],
   "source": [
    "results_dic['posvec'] = beadposvec2\n",
    "try:\n",
    "    pickle.dump(results_dic, open(respath, 'wb') )\n",
    "    print(\"Saved: \", respath)\n",
    "except:\n",
    "    print(\"Save didn't work!\")\n"
   ]
  },
  {
   "cell_type": "code",
   "execution_count": null,
   "metadata": {},
   "outputs": [],
   "source": [
    "print(respath)"
   ]
  },
  {
   "cell_type": "code",
   "execution_count": null,
   "metadata": {},
   "outputs": [],
   "source": []
  },
  {
   "cell_type": "code",
   "execution_count": null,
   "metadata": {},
   "outputs": [],
   "source": []
  }
 ],
 "metadata": {
  "kernelspec": {
   "display_name": "Python 3",
   "language": "python",
   "name": "python3"
  },
  "language_info": {
   "codemirror_mode": {
    "name": "ipython",
    "version": 3
   },
   "file_extension": ".py",
   "mimetype": "text/x-python",
   "name": "python",
   "nbconvert_exporter": "python",
   "pygments_lexer": "ipython3",
   "version": "3.6.7"
  }
 },
 "nbformat": 4,
 "nbformat_minor": 2
}
