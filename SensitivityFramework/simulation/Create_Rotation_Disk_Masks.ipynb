{
 "cells": [
  {
   "cell_type": "code",
   "execution_count": 1,
   "metadata": {},
   "outputs": [],
   "source": [
    "import numpy as np\n",
    "import pickle as pickle\n",
    "import scipy.interpolate as interp\n",
    "import scipy.signal as signal\n",
    "import scipy.optimize as opti\n",
    "import scipy, sys, time\n",
    "import matplotlib.pyplot as plt\n",
    "from matplotlib.mlab import psd\n",
    "from tqdm import tqdm"
   ]
  },
  {
   "cell_type": "code",
   "execution_count": 2,
   "metadata": {},
   "outputs": [],
   "source": [
    "x = np.full([499,999,11],19.32)"
   ]
  },
  {
   "cell_type": "code",
   "execution_count": 3,
   "metadata": {},
   "outputs": [],
   "source": [
    "rhopath = '/home/analysis_user/New_trap_code/SensitivityFramework/results/rho_arr.p' \n",
    "rho, xx, yy, zz = pickle.load(open(rhopath, 'rb'), encoding=\"latin1\") # first change, encoding to latin1 instead of ASCII\n"
   ]
  },
  {
   "cell_type": "code",
   "execution_count": 4,
   "metadata": {},
   "outputs": [],
   "source": [
    "# xx and yy are 200x200 tables containing the x and y coordinates as values\n",
    "# mgrid is a mesh creation helper\n",
    "xx, yy = np.mgrid[:200, :200]\n",
    "# circles contains the squared distance to the (100, 100) point\n",
    "# we are just using the circle equation learnt at school\n",
    "circle = (xx - 100) ** 2 + (yy - 100) ** 2\n",
    "# donuts contains 1's and 0's organized in a donut shape\n",
    "# you apply 2 thresholds on circle to define the shape\n",
    "donut = np.logical_and(circle < (6400 + 60), circle > (6400 - 60))"
   ]
  },
  {
   "cell_type": "code",
   "execution_count": 5,
   "metadata": {},
   "outputs": [
    {
     "data": {
      "text/plain": [
       "array([[False, False, False, ..., False, False, False],\n",
       "       [False, False, False, ..., False, False, False],\n",
       "       [False, False, False, ..., False, False, False],\n",
       "       ...,\n",
       "       [False, False, False, ..., False, False, False],\n",
       "       [False, False, False, ..., False, False, False],\n",
       "       [False, False, False, ..., False, False, False]])"
      ]
     },
     "execution_count": 5,
     "metadata": {},
     "output_type": "execute_result"
    }
   ],
   "source": [
    "donut"
   ]
  },
  {
   "cell_type": "code",
   "execution_count": 17,
   "metadata": {},
   "outputs": [
    {
     "data": {
      "image/png": "[encoded data removed]",
      "text/plain": [
       "<Figure size 432x288 with 1 Axes>"
      ]
     },
     "metadata": {},
     "output_type": "display_data"
    }
   ],
   "source": [
    "import matplotlib.pyplot as plt\n",
    "from skimage import draw\n",
    "arr = np.zeros((200, 200))\n",
    "stroke = 3\n",
    "# Create an outer and inner circle. Then subtract the inner from the outer.\n",
    "radius = 80\n",
    "inner_radius = radius - (stroke // 2) + (stroke % 2) - 1 \n",
    "outer_radius = radius + ((stroke + 1) // 2)\n",
    "ri, ci = draw.circle(100, 100, radius=inner_radius, shape=arr.shape)\n",
    "ro, co = draw.circle(100, 100, radius=outer_radius, shape=arr.shape)\n",
    "arr[ro, co] = 1\n",
    "#arr[ri, ci] = 0\n",
    "plt.imshow(arr)\n",
    "plt.show()"
   ]
  },
  {
   "cell_type": "code",
   "execution_count": null,
   "metadata": {},
   "outputs": [],
   "source": []
  }
 ],
 "metadata": {
  "kernelspec": {
   "display_name": "Python 3",
   "language": "python",
   "name": "python3"
  },
  "language_info": {
   "codemirror_mode": {
    "name": "ipython",
    "version": 3
   },
   "file_extension": ".py",
   "mimetype": "text/x-python",
   "name": "python",
   "nbconvert_exporter": "python",
   "pygments_lexer": "ipython3",
   "version": "3.6.9"
  }
 },
 "nbformat": 4,
 "nbformat_minor": 2
}
