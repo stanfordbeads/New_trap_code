{
 "cells": [
  {
   "cell_type": "markdown",
   "metadata": {},
   "source": [
    "This code is made by Chas (and AlexR) and was modified for python3"
   ]
  },
  {
   "cell_type": "code",
   "execution_count": 1,
   "metadata": {},
   "outputs": [],
   "source": [
    "import numpy as np\n",
    "import pickle as pickle\n",
    "import scipy.interpolate as interp\n",
    "import scipy.signal as signal\n",
    "import scipy.optimize as opti\n",
    "import scipy, sys, time\n",
    "import matplotlib.pyplot as plt\n",
    "from matplotlib.mlab import psd\n"
   ]
  },
  {
   "cell_type": "code",
   "execution_count": 2,
   "metadata": {},
   "outputs": [
    {
     "name": "stdout",
     "output_type": "stream",
     "text": [
      "Density Loaded.\n"
     ]
    }
   ],
   "source": [
    "# bead radius [µm] (certain it shouldn't be diameter)\n",
    "rbead = 2.4e-6 #float(sys.argv[1])\n",
    "# separation attractor [µm] - to surface of the bead\n",
    "sep = 10e-6 #float(sys.argv[2])\n",
    "# difference in height of attractor and bead [µm]\n",
    "height = 0 #float(sys.argv[3])\n",
    "\n",
    "# load the density profile of the attractor (took the one AlexR and Chas have produced)\n",
    "rhopath = '/home/analysis_user/Results/Sensitivity/rho_arr.p'\n",
    "rho, xx, yy, zz = pickle.load(open(rhopath, 'rb'), encoding=\"latin1\") # first change, encoding to latin1 instead of ASCII\n",
    "print(\"Density Loaded.\")\n",
    "sys.stdout.flush()"
   ]
  },
  {
   "cell_type": "code",
   "execution_count": 3,
   "metadata": {},
   "outputs": [
    {
     "data": {
      "text/plain": [
       "(900, 980)"
      ]
     },
     "execution_count": 3,
     "metadata": {},
     "output_type": "execute_result"
    },
    {
     "data": {
      "image/png": "[encoded data removed]",
      "text/plain": [
       "<Figure size 432x288 with 1 Axes>"
      ]
     },
     "metadata": {},
     "output_type": "display_data"
    }
   ],
   "source": [
    "plt.imshow(rho[0:499,0:999,int(.5*len(zz))])\n",
    "plt.xlim(900,980)"
   ]
  },
  {
   "cell_type": "code",
   "execution_count": 4,
   "metadata": {},
   "outputs": [],
   "source": [
    "rho_sim=([],[],[])\n",
    "rho_sim=(np.arange(0,499,1),np.arange(0,999,1),np.arange(0,11,1))\n"
   ]
  },
  {
   "cell_type": "code",
   "execution_count": 5,
   "metadata": {},
   "outputs": [
    {
     "ename": "TypeError",
     "evalue": "tuple indices must be integers or slices, not tuple",
     "output_type": "error",
     "traceback": [
      "\u001b[0;31m---------------------------------------------------------------------------\u001b[0m",
      "\u001b[0;31mTypeError\u001b[0m                                 Traceback (most recent call last)",
      "\u001b[0;32m<ipython-input-5-8d5b53eb599a>\u001b[0m in \u001b[0;36m<module>\u001b[0;34m()\u001b[0m\n\u001b[0;32m----> 1\u001b[0;31m \u001b[0mplt\u001b[0m\u001b[0;34m.\u001b[0m\u001b[0mimshow\u001b[0m\u001b[0;34m(\u001b[0m\u001b[0mrho_sim\u001b[0m\u001b[0;34m[\u001b[0m\u001b[0;36m0\u001b[0m\u001b[0;34m:\u001b[0m\u001b[0;36m499\u001b[0m\u001b[0;34m,\u001b[0m\u001b[0;36m0\u001b[0m\u001b[0;34m:\u001b[0m\u001b[0;36m999\u001b[0m\u001b[0;34m,\u001b[0m\u001b[0mint\u001b[0m\u001b[0;34m(\u001b[0m\u001b[0;36m.5\u001b[0m\u001b[0;34m*\u001b[0m\u001b[0mlen\u001b[0m\u001b[0;34m(\u001b[0m\u001b[0mzz\u001b[0m\u001b[0;34m)\u001b[0m\u001b[0;34m)\u001b[0m\u001b[0;34m]\u001b[0m\u001b[0;34m)\u001b[0m\u001b[0;34m\u001b[0m\u001b[0;34m\u001b[0m\u001b[0m\n\u001b[0m",
      "\u001b[0;31mTypeError\u001b[0m: tuple indices must be integers or slices, not tuple"
     ]
    }
   ],
   "source": [
    "plt.imshow(rho_sim[0:499,0:999,int(.5*len(zz))])"
   ]
  },
  {
   "cell_type": "code",
   "execution_count": 31,
   "metadata": {},
   "outputs": [],
   "source": [
    "xx = np.array(xx) # maxe array for x\n",
    "yy = np.array(yy) # make array for y\n",
    "zz = np.array(zz) # make array for z\n",
    "\n",
    "xinds = np.abs(xx) <= 25.0e-6 #\n",
    "yinds = np.abs(yy) <= 80.0e-6 #\n",
    "zinds = np.abs(zz) <= 5.0e-6 #\n",
    "\n",
    "xx2 = xx[xinds] #\n",
    "yy2 = yy[yinds] #\n",
    "zz2 = zz[zinds] #\n",
    "rho2 = rho[xinds,:,:][:,yinds,:] #\n",
    "\n",
    "\n",
    "# produce empty arrays \n",
    "\n",
    "xzeros = np.zeros(len(xx))\n",
    "yzeros = np.zeros(len(yy))\n",
    "zzeros = np.zeros(len(zz))\n",
    "\n",
    "xzeros2 = np.zeros(len(xx2))\n",
    "yzeros2 = np.zeros(len(yy2))\n",
    "zzeros2 = np.zeros(len(zz2))\n",
    "\n",
    "dx = np.abs(xx[1] - xx[0])\n",
    "dy = np.abs(yy[1] - yy[0])\n",
    "dz = np.abs(zz[1] - zz[0])\n",
    "\n",
    "cell_volume = dx * dy * dz\n",
    "m = rho * cell_volume\n",
    "m2 = rho2 * cell_volume"
   ]
  },
  {
   "cell_type": "code",
   "execution_count": 6,
   "metadata": {},
   "outputs": [],
   "source": [
    "\n",
    "G = 6.67e-11     # m^3 / (kg s^2)\n",
    "rhobead = 1550.\n",
    "\n",
    "travel = 500e-6 # travel\n",
    "cent = 0.0e-6 # where to start\n",
    "Npoints = 1001 # how many points for each direction\n",
    "beadposvec = np.linspace(cent - travel*0.5, cent + travel*0.5, Npoints)\n",
    "beadposvec2 = np.linspace(-1.0 * travel, travel, 2*(Npoints-1) + 1)\n",
    "\n",
    "lambdas = np.logspace(-6.3, -3, 100)\n",
    "lambdas = lambdas[::-1]"
   ]
  },
  {
   "cell_type": "code",
   "execution_count": 8,
   "metadata": {},
   "outputs": [
    {
     "data": {
      "text/plain": [
       "array([-0.0005   , -0.0004995, -0.000499 , ...,  0.000499 ,  0.0004995,\n",
       "        0.0005   ])"
      ]
     },
     "execution_count": 8,
     "metadata": {},
     "output_type": "execute_result"
    }
   ],
   "source": [
    "beadposvec2"
   ]
  },
  {
   "cell_type": "code",
   "execution_count": 33,
   "metadata": {},
   "outputs": [],
   "source": [
    "# where to put the results and how to name them\n",
    "\n",
    "respath = 'results/'\n",
    "respath = respath + 'rbead_' + str(rbead)\n",
    "respath = respath + '_sep_' + str(sep)\n",
    "respath = respath + '_height_' + str(height)\n",
    "respath = respath + '.p'\n",
    "results_dic = {}\n",
    "results_dic['order'] = 'Rbead, Sep, Height, Yuklambda'\n",
    "\n",
    "\n",
    "\n",
    "finger_inds = np.array([-4.0, -3.0, -2.0, -1.0, 0.0, 1.0, 2.0, 3.0, 4.0])\n"
   ]
  },
  {
   "cell_type": "code",
   "execution_count": 34,
   "metadata": {},
   "outputs": [],
   "source": [
    "def find_ind(pos):\n",
    "    if np.abs(pos) <= 25e-6:\n",
    "        ind = 0\n",
    "    elif np.abs(pos) > 25e-6:\n",
    "        if np.abs(pos) <= 75e-6:\n",
    "            if pos > 0:\n",
    "                ind = 1.0\n",
    "            elif pos < 0:\n",
    "                ind = -1.0\n",
    "        elif np.abs(pos) > 75e-6:\n",
    "            if np.abs(pos) <= 125e-6:\n",
    "                if pos > 0:\n",
    "                    ind = 2.0\n",
    "                if pos < 0:\n",
    "                    ind = -2.0\n",
    "            elif np.abs(pos) > 125e-6:\n",
    "                if np.abs(pos) <= 175e-6:\n",
    "                    if pos > 0:\n",
    "                        ind = 3.0\n",
    "                    if pos < 0:\n",
    "                        ind = -3.0\n",
    "                elif np.abs(pos) > 175e-6:\n",
    "                    if pos > 0:\n",
    "                        ind = 4.0\n",
    "                    if pos < 0:\n",
    "                        ind = -4.0\n",
    "\n",
    "    newpos = pos - ind * 50e-6\n",
    "\n",
    "    return ind, newpos\n",
    "\n",
    "\n",
    "def dist(p1, p2):\n",
    "    return np.sqrt((p1[0] - p2[0])**2 + (p1[1] - p2[1])**2 + (p1[2] - p2[2])**2)\n",
    "\n",
    "def dist_p_arrp(p1, xs, ys, zs):\n",
    "    xnew = (xs - p1[0])**2\n",
    "    ynew = (ys - p1[1])**2\n",
    "    znew = (zs - p1[2])**2\n",
    "    return np.sqrt(np.add.outer(np.add.outer(xnew, ynew), znew))"
   ]
  },
  {
   "cell_type": "code",
   "execution_count": 35,
   "metadata": {},
   "outputs": [],
   "source": [
    "results_dic[rbead] = {}\n",
    "results_dic[rbead][sep] = {}\n",
    "results_dic[rbead][sep][height] = {}\n",
    "\n",
    "\n",
    "Gterm = 2. * rbead**3\n",
    "\n",
    "GforcecurveX = []\n",
    "GforcecurveY = []\n",
    "GforcecurveZ = []"
   ]
  },
  {
   "cell_type": "code",
   "execution_count": 36,
   "metadata": {},
   "outputs": [
    {
     "name": "stdout",
     "output_type": "stream",
     "text": [
      "Computed normal grav\n"
     ]
    }
   ],
   "source": [
    "for ind, xpos in enumerate(beadposvec2):\n",
    "    beadpos = [xpos, sep+rbead, height]\n",
    "\n",
    "    s = dist_p_arrp(beadpos, xx2, yy2, zz2) - rbead\n",
    "\n",
    "    # These are used to compute projections and thus need to maintain sign\n",
    "    xsep = dist_p_arrp([xpos, 0, 0], xx2, yzeros2, zzeros2)\n",
    "    xind = np.argmin(np.abs(xx2 - xpos))\n",
    "    xsep[:xind,:,:] *= -1.0\n",
    "\n",
    "    # We a priori know that all yseps should be negative\n",
    "    ysep = dist_p_arrp([0, sep+rbead, 0], xzeros2, yy2, zzeros2)\n",
    "    ysep *= -1.0\n",
    "\n",
    "    zsep = dist_p_arrp([0, 0, height], xzeros2, yzeros2, zz2)\n",
    "    zind = np.argmin(np.abs(zz2 - height))\n",
    "    zsep[:,:,:zind] *= -1.0\n",
    "\n",
    "    xprojection = xsep / (s + rbead)\n",
    "    yprojection = ysep / (s + rbead)\n",
    "    zprojection = zsep / (s + rbead)\n",
    "\n",
    "    prefac = ((2. * G * m2 * rhobead * np.pi) / (3. * (rbead + s)**2))\n",
    "\n",
    "    xtotforce = np.sum(prefac * Gterm * xprojection)\n",
    "    ytotforce = np.sum(prefac * Gterm * yprojection)\n",
    "    ztotforce = np.sum(prefac * Gterm * zprojection)\n",
    "\n",
    "    # SWAP X AND Y AXES TO MATCH DATA AXES\n",
    "    GforcecurveX.append(ytotforce)\n",
    "    GforcecurveY.append(xtotforce)\n",
    "    GforcecurveZ.append(ztotforce)\n",
    "\n",
    "GforcecurveX = np.array(GforcecurveX)\n",
    "GforcecurveY = np.array(GforcecurveY)\n",
    "GforcecurveZ = np.array(GforcecurveZ)\n",
    "\n",
    "GX = interp.interp1d(beadposvec2, GforcecurveX, kind='cubic')\n",
    "GY = interp.interp1d(beadposvec2, GforcecurveY, kind='cubic')\n",
    "GZ = interp.interp1d(beadposvec2, GforcecurveZ, kind='cubic')\n",
    "\n",
    "newGX = np.zeros(len(beadposvec))\n",
    "newGY = np.zeros(len(beadposvec))\n",
    "newGZ = np.zeros(len(beadposvec))\n",
    "\n",
    "for ind, pos in enumerate(beadposvec):\n",
    "    if np.abs(pos) - 225e-6 > 0:\n",
    "        newGX[ind] = 0.0\n",
    "        newGY[ind] = 0.0\n",
    "        newGZ[ind] = 0.0\n",
    "        continue\n",
    "\n",
    "    finger_ind, newpos = find_ind(pos)\n",
    "    width = 50.0e-6\n",
    "\n",
    "    newGX[ind] = np.sum(GX(newpos + (finger_inds+finger_ind) * width))\n",
    "    newGY[ind] = np.sum(GY(newpos + (finger_inds+finger_ind) * width))\n",
    "    newGZ[ind] = np.sum(GZ(newpos + (finger_inds+finger_ind) * width))  \n",
    "\n",
    "print('Computed normal grav')\n",
    "sys.stdout.flush()"
   ]
  },
  {
   "cell_type": "code",
   "execution_count": 37,
   "metadata": {},
   "outputs": [
    {
     "name": "stdout",
     "output_type": "stream",
     "text": [
      "0,\n",
      "1,\n",
      "2,\n",
      "3,\n",
      "4,\n",
      "5,\n",
      "6,\n",
      "7,\n",
      "8,\n",
      "9,\n",
      "10,\n",
      "11,\n",
      "12,\n",
      "13,\n",
      "14,\n",
      "15,\n",
      "16,\n",
      "17,\n",
      "18,\n",
      "19,\n",
      "20,\n",
      "21,\n",
      "22,\n",
      "23,\n",
      "24,\n",
      "25,\n",
      "26,\n",
      "27,\n",
      "28,\n",
      "29,\n",
      "30,\n",
      "31,\n",
      "32,\n",
      "33,\n",
      "34,\n",
      "35,\n",
      "36,\n",
      "37,\n",
      "38,\n",
      "39,\n",
      "40,\n",
      "41,\n",
      "42,\n",
      "43,\n",
      "44,\n",
      "45,\n",
      "46,\n",
      "47,\n",
      "48,\n",
      "49,\n",
      "50,\n",
      "51,\n",
      "52,\n",
      "53,\n",
      "54,\n",
      "55,\n",
      "56,\n",
      "57,\n",
      "58,\n",
      "59,\n",
      "60,\n",
      "61,\n",
      "62,\n",
      "63,\n",
      "64,\n",
      "65,\n",
      "66,\n",
      "67,\n",
      "68,\n",
      "69,\n",
      "70,\n",
      "71,\n",
      "72,\n",
      "73,\n",
      "74,\n",
      "75,\n",
      "76,\n",
      "77,\n",
      "78,\n",
      "79,\n",
      "80,\n",
      "81,\n",
      "82,\n",
      "83,\n",
      "84,\n",
      "85,\n",
      "86,\n",
      "87,\n",
      "88,\n",
      "89,\n",
      "90,\n",
      "91,\n",
      "92,\n",
      "93,\n",
      "94,\n",
      "95,\n",
      "96,\n",
      "97,\n",
      "98,\n",
      "99,\n",
      "100! Done!\n"
     ]
    }
   ],
   "source": [
    "for yukind, yuklambda in enumerate(lambdas):\n",
    "    per = int(100. * float(yukind) / float(len(lambdas)))\n",
    "    if not per % 1:\n",
    "        print(str(per) + ',',)\n",
    "    sys.stdout.flush()\n",
    "\n",
    "    func = np.exp(-2. * rbead / yuklambda) * (1. + rbead / yuklambda) + rbead / yuklambda - 1.\n",
    "\n",
    "    yukforcecurveX = []\n",
    "    yukforcecurveY = []\n",
    "    yukforcecurveZ = []\n",
    "    for ind, xpos in enumerate(beadposvec2):\n",
    "\n",
    "        beadpos = [xpos, sep+rbead, height]\n",
    "\n",
    "        s = dist_p_arrp(beadpos, xx2, yy2, zz2) - rbead\n",
    "        # These are used to compute projections and thus need to maintain sign\n",
    "        xsep = dist_p_arrp([xpos, 0, 0], xx2, yzeros2, zzeros2)\n",
    "        xind = np.argmin(np.abs(xx2 - xpos))\n",
    "        xsep[:xind,:,:] *= -1.0\n",
    "\n",
    "        # We a priori know that all yseps should be negative\n",
    "        ysep = dist_p_arrp([0, sep+rbead, 0], xzeros2, yy2, zzeros2)\n",
    "        ysep *= -1.0\n",
    "\n",
    "        zsep = dist_p_arrp([0, 0, height], xzeros2, yzeros2, zz2)\n",
    "        zind = np.argmin(np.abs(zz2 - height))\n",
    "        zsep[:,:,:zind] *= -1.0\n",
    "\n",
    "        xprojection = xsep / (s + rbead)\n",
    "        yprojection = ysep / (s + rbead)\n",
    "        zprojection = zsep / (s + rbead)\n",
    "\n",
    "        prefac = ((2. * G * m2 * rhobead * np.pi) / (3. * (rbead + s)**2))\n",
    "\n",
    "        yukterm = 3 * yuklambda**2 * (rbead + s + yuklambda) * func * np.exp( - s / yuklambda )\n",
    "        #print(-s/yuklambda)\n",
    "        xtotforce = np.sum(prefac * yukterm * xprojection)\n",
    "        ytotforce = np.sum(prefac * yukterm * yprojection)\n",
    "        ztotforce = np.sum(prefac * yukterm * zprojection)\n",
    "      \n",
    "\n",
    "        # SWAP X AND Y AXES TO MATCH DATA AXES\n",
    "        yukforcecurveX.append(ytotforce) \n",
    "        yukforcecurveY.append(xtotforce)\n",
    "        yukforcecurveZ.append(ztotforce)\n",
    "        \n",
    "    yukforcecurveX = np.array(yukforcecurveX)\n",
    "    yukforcecurveY = np.array(yukforcecurveY)\n",
    "    yukforcecurveZ = np.array(yukforcecurveZ)\n",
    "\n",
    "    yukX = interp.interp1d(beadposvec2, yukforcecurveX, kind='cubic')\n",
    "    yukY = interp.interp1d(beadposvec2, yukforcecurveY, kind='cubic')\n",
    "    yukZ = interp.interp1d(beadposvec2, yukforcecurveZ, kind='cubic')\n",
    "\n",
    "    newyukX = np.zeros(len(beadposvec))\n",
    "    newyukY = np.zeros(len(beadposvec))\n",
    "    newyukZ = np.zeros(len(beadposvec))\n",
    "\n",
    "    for ind, pos in enumerate(beadposvec):\n",
    "        if np.abs(pos) - 225e-6 > 0:\n",
    "            newyukX[ind] = 0.0\n",
    "            newyukY[ind] = 0.0\n",
    "            newyukZ[ind] = 0.0\n",
    "            continue\n",
    "\n",
    "        finger_ind, newpos = find_ind(pos)\n",
    "        width = 50.0e-6\n",
    "  \n",
    "        newyukX[ind] = np.sum(yukX(newpos + (finger_inds+finger_ind) * width))\n",
    "        newyukY[ind] = np.sum(yukY(newpos + (finger_inds+finger_ind) * width))\n",
    "        newyukZ[ind] = np.sum(yukZ(newpos + (finger_inds+finger_ind) * width))\n",
    "        #print(newyukX[ind],newyukY[ind],newyukZ[ind])\n",
    "\n",
    "\n",
    "    results_dic[rbead][sep][height][yuklambda] = \\\n",
    "                (newGX, newGY, newGZ, newyukX, newyukY, newyukZ)\n",
    "\n",
    "\n",
    "\n",
    "\n",
    "\n",
    "print(\"100! Done!\")"
   ]
  },
  {
   "cell_type": "code",
   "execution_count": 38,
   "metadata": {},
   "outputs": [
    {
     "name": "stdout",
     "output_type": "stream",
     "text": [
      "Saved:  results/rbead_2.4e-06_sep_1e-05_height_0.p\n"
     ]
    }
   ],
   "source": [
    "results_dic['posvec'] = beadposvec\n",
    "try:\n",
    "    pickle.dump(results_dic, open(respath, 'wb') )\n",
    "    print(\"Saved: \", respath)\n",
    "except:\n",
    "    print(\"Save didn't work!\")\n"
   ]
  },
  {
   "cell_type": "code",
   "execution_count": 39,
   "metadata": {},
   "outputs": [
    {
     "name": "stdout",
     "output_type": "stream",
     "text": [
      "results/rbead_2.4e-06_sep_1e-05_height_0.p\n"
     ]
    }
   ],
   "source": [
    "print(respath)"
   ]
  },
  {
   "cell_type": "code",
   "execution_count": 40,
   "metadata": {},
   "outputs": [
    {
     "ename": "NameError",
     "evalue": "name 'psd' is not defined",
     "output_type": "error",
     "traceback": [
      "\u001b[0;31m---------------------------------------------------------------------------\u001b[0m",
      "\u001b[0;31mNameError\u001b[0m                                 Traceback (most recent call last)",
      "\u001b[0;32m<ipython-input-40-961c0a167cea>\u001b[0m in \u001b[0;36m<module>\u001b[0;34m()\u001b[0m\n\u001b[0;32m----> 1\u001b[0;31m psd_dat2,freq2 = psd(osci_force_func(500e-6,time,17,pos_x,force_x_yuk), NFFT=len(osci_force_func(50e-6,time,17,pos_x,force_x_yuk)), Fs=5000, detrend=\"none\",\n\u001b[0m\u001b[1;32m      2\u001b[0m         window=mlab.window_none, noverlap=0, pad_to=None)\n\u001b[1;32m      3\u001b[0m \u001b[0;34m\u001b[0m\u001b[0m\n\u001b[1;32m      4\u001b[0m \u001b[0mplt\u001b[0m\u001b[0;34m.\u001b[0m\u001b[0mplot\u001b[0m\u001b[0;34m(\u001b[0m\u001b[0mfreq2\u001b[0m\u001b[0;34m,\u001b[0m\u001b[0mnp\u001b[0m\u001b[0;34m.\u001b[0m\u001b[0msqrt\u001b[0m\u001b[0;34m(\u001b[0m\u001b[0mpsd_dat2\u001b[0m\u001b[0;34m)\u001b[0m\u001b[0;34m)\u001b[0m\u001b[0;34m\u001b[0m\u001b[0;34m\u001b[0m\u001b[0m\n\u001b[1;32m      5\u001b[0m \u001b[0mplt\u001b[0m\u001b[0;34m.\u001b[0m\u001b[0myscale\u001b[0m\u001b[0;34m(\u001b[0m\u001b[0;34m\"log\"\u001b[0m\u001b[0;34m)\u001b[0m\u001b[0;34m\u001b[0m\u001b[0;34m\u001b[0m\u001b[0m\n",
      "\u001b[0;31mNameError\u001b[0m: name 'psd' is not defined"
     ]
    }
   ],
   "source": []
  },
  {
   "cell_type": "code",
   "execution_count": null,
   "metadata": {},
   "outputs": [],
   "source": []
  }
 ],
 "metadata": {
  "kernelspec": {
   "display_name": "Python 3",
   "language": "python",
   "name": "python3"
  },
  "language_info": {
   "codemirror_mode": {
    "name": "ipython",
    "version": 3
   },
   "file_extension": ".py",
   "mimetype": "text/x-python",
   "name": "python",
   "nbconvert_exporter": "python",
   "pygments_lexer": "ipython3",
   "version": "3.6.8"
  }
 },
 "nbformat": 4,
 "nbformat_minor": 2
}
