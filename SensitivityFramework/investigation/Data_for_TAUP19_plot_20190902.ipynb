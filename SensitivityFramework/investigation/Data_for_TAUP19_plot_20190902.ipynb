{
 "cells": [
  {
   "cell_type": "code",
   "execution_count": 1,
   "metadata": {},
   "outputs": [],
   "source": [
    "import numpy as np\n",
    "import pickle as pkl\n",
    "import scipy.interpolate as interp\n",
    "import scipy.signal as signal\n",
    "import scipy.optimize as opti\n",
    "import scipy, sys, time\n",
    "import matplotlib.pyplot as plt\n",
    "from matplotlib import mlab as mlab\n",
    "from matplotlib.mlab import psd\n",
    "from tqdm import tqdm\n",
    "import sys\n",
    "sys.path.append('/home/analysis_user/New_trap_code/Tools/')\n",
    "import BeadDataFile\n",
    "from discharge_tools import load_dir\n",
    "\n",
    "# some settings for standardized figures\n",
    "\n",
    "plt.rcParams[\"figure.figsize\"] = (8,6)\n",
    "plt.rcParams['font.size'] = (24)\n",
    "plt.rcParams['xtick.labelsize']=\"medium\"\n",
    "plt.rcParams['text.usetex'] = False"
   ]
  },
  {
   "cell_type": "code",
   "execution_count": 2,
   "metadata": {},
   "outputs": [],
   "source": [
    "# determine the center position of the attractor at a given time\n",
    "def osci_pos_func(stroke,time,frequency): \n",
    "    osci_pos = stroke/2*np.sin(2*np.pi*time*frequency)\n",
    "    return osci_pos\n",
    "\n",
    "def osci_pos_triang_func(stroke,time,frequency,width=0.5):\n",
    "    osci_pos_triang=stroke/2*signal.sawtooth(2 * np.pi * frequency * time+np.pi/2,width=width)\n",
    "    return osci_pos_triang\n",
    "\n",
    "# determine the force for a given point in time using the transformation to position\n",
    "## sinusoidal movement\n",
    "def osci_force_func(stroke,time,frequency,pos_vec,force_vec):\n",
    "    osci_pos = osci_pos_func(stroke,time,frequency)\n",
    "    return np.interp(osci_pos,pos_vec,force_vec, left=None, right=None, period=None)\n",
    "\n",
    "## triangle movement\n",
    "def osci_force_func_tri(stroke,time,frequency,pos_vec,force_vec,width=0.5):\n",
    "    osci_pos_triang = osci_pos_triang_func(stroke,time,frequency,width=width)\n",
    "    return np.interp(osci_pos_triang,pos_vec,force_vec, left=None, right=None, period=None)\n",
    "\n",
    "# little helper to get the bin of a histogram at which a certain invertall in % is reached\n",
    "def fraction_of_histo(input_histo,bins=500,intervall=0.68):\n",
    "    hist_list =[]\n",
    "    h1 = plt.hist(input_histo,bins,density=True,cumulative=True)\n",
    "    [hist_list.append(h1[1][bins]) for bins in np.arange(0,len(h1[1])-1,1) if h1[0][bins]>intervall]\n",
    "    plt.xlabel(\"ASD [Hz]\")\n",
    "    plt.ylabel(\"CDF\")\n",
    "    plt.axvline(np.min(hist_list),color=\"red\",linestyle=\"dashed\")\n",
    "    plt.axhline(intervall,color=\"red\",linestyle=\"dashed\")\n",
    "    #plt.show()\n",
    "    return np.min(hist_list)\n",
    "          \n",
    "# normalization for used ASD\n",
    "def fft_norm(N, fsamp):\n",
    "    return np.sqrt(2 / (N * fsamp))\n",
    "\n",
    "### CHECK WHITE NOISE\n",
    "def generate_white_noise(length,fs,noise_floor):\n",
    "    noise_randomized = noise_floor * np.random.randn(length)\n",
    "    fft = np.abs(np.fft.rfft(noise_randomized))\n",
    "    freq3 = np.fft.rfftfreq(length, d=1./fs)\n",
    "    ps = fft*fft.conj().real*fft_norm(length,fs)**2\n",
    "    return ps,freq3\n",
    "\n",
    "\n",
    "def generate_white_noise2(length,fs,noise_floor):\n",
    "    noise_randomized = noise_floor * np.random.randn(length)\n",
    "    psd_noise,freq_n = psd(noise_randomized,NFFT=length,Fs=fs, detrend=\"none\",window=mlab.window_none, noverlap=0, pad_to=None)\n",
    "    norm=0.5*fs\n",
    "    return psd_noise*norm,freq_n\n",
    "\n",
    "# get noise response for a number of harmonics\n",
    "def noise_response(no_harmonics,frequency,noise_floor):\n",
    "    noise_response = 0\n",
    "    noise_value = generate_white_noise(5000,5000,noise_floor)[0]\n",
    "    for j in no_harmonics:\n",
    "        noise_response += noise_value[j*frequency]\n",
    "        \n",
    "    return noise_response\n",
    "\n",
    "def noise_response_per_harmonics(no_harmonics,frequency,noise_floor):\n",
    "    noise_response = []\n",
    "    noise_value = generate_white_noise(5000,5000,noise_floor)[0]\n",
    "    for j in no_harmonics:\n",
    "        noise_response.append(noise_value[j*frequency])\n",
    "    return noise_response\n",
    "\n",
    "\n",
    "# define a function to obtain the response given a number of harmonics (normalization)\n",
    "def function_response(alpha,int_time,fs,pos_vec,force_vec,stroke,frequency,no_harmonics,plot,manual):\n",
    "    force_vec = force_vec * alpha # scale the force vector by alpha\n",
    "    time = np.arange(0,int_time,1/sampling_frequency) # make a time array, default 1s\n",
    "    length = len(osci_force_func(stroke,time,frequency,pos_vec,force_vec)) # length of the array\n",
    "    \n",
    "    # calculate the psd \"manually\"\n",
    "    fft = np.abs(np.fft.rfft(osci_force_func(stroke,time,frequency,pos_vec,force_vec))) \n",
    "    freq = np.fft.rfftfreq(length, d=1./fs)\n",
    "    psd_dat1 = fft*fft.conj().real*fft_norm(len(noise_randomized),fs)**2\n",
    "    \n",
    "    # let mlab do the job\n",
    "    psd_dat2,freq2 = psd(osci_force_func(stroke,time,frequency,pos_vec,force_vec), \n",
    "                         NFFT=length, \n",
    "                         Fs=fs, detrend=\"none\",window=mlab.window_none, noverlap=0, pad_to=None)\n",
    "    response =0\n",
    "    if(plot==True):\n",
    "        plt.plot(freq2,np.sqrt(psd_dat2))\n",
    "        plt.yscale(\"log\")\n",
    "        plt.xlim(0,340)\n",
    "    for i in no_harmonics:\n",
    "        if(manual==True):\n",
    "            response+=np.sqrt(psd_dat1[i*frequency])\n",
    "        if(manual==False):    \n",
    "            response+=np.sqrt(psd_dat2[i*frequency])\n",
    "        #print(response,i*frequency)\n",
    "    return response"
   ]
  },
  {
   "cell_type": "code",
   "execution_count": 3,
   "metadata": {},
   "outputs": [],
   "source": [
    "def function_response_2(alpha,int_time,sampling_frequency,pos_vec,force_vec,stroke,frequency,no_harmonics,bkg=False,plot=False):\n",
    "    force_vec = force_vec * alpha\n",
    "    sampling_frequency = 5000\n",
    "    time = np.arange(0,int_time,1/sampling_frequency)\n",
    "    fft_0 = np.fft.rfft(osci_force_func(stroke,time,frequency,pos_vec,force_vec))\n",
    "    fft_1 = np.abs(fft_0)\n",
    "    freq2 = np.fft.rfftfreq(5000, d=1./5000)\n",
    "    psd_dat2 = fft_1*fft_1.conj().real*fft_norm(len(osci_force_func(stroke,time,frequency,pos_vec,force_vec)),5000)**2\n",
    "    \n",
    "    response =0\n",
    "    response_list=[]\n",
    "    phase_list=[]\n",
    "    if(bkg==True):frequency=frequency+2\n",
    "    for i in np.arange(1,no_harmonics+1,1):\n",
    "        response+=np.sqrt(psd_dat2[i*frequency])\n",
    "        freq_selec = np.arange(frequency,frequency*(no_harmonics+1),frequency)\n",
    "        response_list.append(np.sqrt(psd_dat2[i*frequency]))\n",
    "        phase_list.append(np.angle(fft_0[i*frequency]))\n",
    "    if(plot==True):            \n",
    "        plt.plot(freq_selec,response_list)\n",
    "        plt.yscale(\"log\")\n",
    "        plt.xlim(0,frequency*no_harmonics+5)\n",
    "        plt.show()\n",
    "        plt.plot(freq_selec,np.divide(phase_list,np.pi),marker=\"*\")\n",
    "        plt.xlim(0,frequency*no_harmonics+5)\n",
    "        #print(response,i*frequency)\n",
    "    return (response,freq_selec,response_list,phase_list)"
   ]
  },
  {
   "cell_type": "code",
   "execution_count": 4,
   "metadata": {},
   "outputs": [],
   "source": [
    "def measurement_response(alpha,int_time,fs,pos_vec,force_vec,stroke,frequency,noise_floor,no_harmonics,plot,manual):\n",
    "    force_vec = force_vec * alpha # scale the force vector by alpha\n",
    "    time = np.arange(0,int_time,1/sampling_frequency) # make a time array, default 1s\n",
    "    length = len(osci_force_func(stroke,time,frequency,pos_vec,force_vec)) # length of the array\n",
    "    #noise_floor = 1.85*np.pi*1e-17\n",
    "    signal = osci_force_func(stroke,time,frequency,pos_x,force_vec)\n",
    "    noise = noise_floor  * np.random.randn(length)\n",
    "    background = 0 # implement later\n",
    "    measurement = noise + signal + background\n",
    "    \n",
    "    \n",
    "    # calculate the psd \"manually\"\n",
    "    fft = np.abs(np.fft.rfft(measurement)) \n",
    "    freq = np.fft.rfftfreq(length, d=1./fs)\n",
    "    psd_dat1 = fft*fft.conj().real*fft_norm(length,fs)**2\n",
    "    \n",
    "    # let mlab do the job\n",
    "    psd_dat2,freq2 = psd(measurement, \n",
    "                         NFFT=length, \n",
    "                         Fs=fs, detrend=\"none\",window=mlab.window_none, noverlap=0, pad_to=None)\n",
    "    response =0\n",
    "    if(plot==True):\n",
    "        plt.plot(freq2,np.sqrt(psd_dat2))\n",
    "        plt.yscale(\"log\")\n",
    "        plt.xlim(0,np.max(no_harmonics)*frequency)\n",
    "        plt.show()\n",
    "    for i in no_harmonics:\n",
    "        if(manual==True):\n",
    "            response+=psd_dat1[i*frequency]\n",
    "        if(manual==False):    \n",
    "            response+=psd_dat2[i*frequency]\n",
    "        #print(response,i*frequency)\n",
    "    return response"
   ]
  },
  {
   "cell_type": "code",
   "execution_count": 5,
   "metadata": {},
   "outputs": [],
   "source": [
    "def measurement_response_harmonics(alpha,int_time,fs,pos_vec,force_vec,stroke,frequency,noise_floor,no_harmonics,plot,manual):\n",
    "    force_vec = force_vec * alpha # scale the force vector by alpha\n",
    "    time = np.arange(0,int_time,1/sampling_frequency) # make a time array, default 1s\n",
    "    length = len(osci_force_func(stroke,time,frequency,pos_vec,force_vec)) # length of the array\n",
    "    #noise_floor = 1.85*np.pi*1e-17\n",
    "    signal = osci_force_func(stroke,time,frequency,pos_x,force_vec)\n",
    "    noise = noise_floor  * np.random.randn(length)\n",
    "    background = 0 # implement later\n",
    "    measurement = noise + signal + background\n",
    "    \n",
    "    \n",
    "    # calculate the psd \"manually\"\n",
    "    fft = np.abs(np.fft.rfft(measurement)) \n",
    "    freq = np.fft.rfftfreq(length, d=1./fs)\n",
    "    psd_dat1 = fft*fft.conj().real*fft_norm(length,fs)**2\n",
    "    \n",
    "    # let mlab do the job\n",
    "    psd_dat2,freq2 = psd(measurement, \n",
    "                         NFFT=length, \n",
    "                         Fs=fs, detrend=\"none\",window=mlab.window_none, noverlap=0, pad_to=None)\n",
    "    response = []\n",
    "    if(plot==True):\n",
    "        plt.plot(freq2,np.sqrt(psd_dat2))\n",
    "        plt.yscale(\"log\")\n",
    "        plt.xlim(0,np.max(no_harmonics)*frequency)\n",
    "        plt.show()\n",
    "    for i in no_harmonics:\n",
    "        if(manual==True):\n",
    "            response.append(psd_dat1[i*frequency])\n",
    "        if(manual==False):    \n",
    "            response.append(psd_dat2[i*frequency])\n",
    "        #print(response,i*frequency)\n",
    "    return response"
   ]
  },
  {
   "cell_type": "code",
   "execution_count": 13,
   "metadata": {},
   "outputs": [],
   "source": [
    "## load the data dictionary file (its usually of the form results_dic[rbead][sep][height][yuklambda])\n",
    "\n",
    "res_dict_side_by_side = pkl.load( open('/home/analysis_user/New_trap_code/SensitivityFramework/results/simulation/rbead_2.4e-06_sep_7.5e-06_height_0.p', 'rb'))\n",
    "#res_dict_side_by_side = pkl.load( open('/home/analysis_user/New_trap_code/SensitivityFramework/results/simulation/rbead_2.4e-06_sep_2.5e-06_height_0.p', 'rb'))\n"
   ]
  },
  {
   "cell_type": "code",
   "execution_count": 14,
   "metadata": {},
   "outputs": [],
   "source": [
    "## initate a few values in order to do diagnostics\n",
    "int_time = 1 # keep that 1 for now\n",
    "alpha = 1 # alpha to scale the yukawa force\n",
    "sampling_frequency = 5000 # should be 5000 \n",
    "time = np.arange(0,int_time,1/sampling_frequency) # make a time array\n",
    "separation = 7.5e-6 # separation is set by the file you load TODO automatize\n",
    "pos_x = res_dict_side_by_side[\"posvec\"] # get the position of the bead from the dictionary"
   ]
  },
  {
   "cell_type": "code",
   "execution_count": 15,
   "metadata": {},
   "outputs": [
    {
     "data": {
      "image/png": "[encoded data removed]",
      "text/plain": [
       "<Figure size 432x288 with 1 Axes>"
      ]
     },
     "metadata": {},
     "output_type": "display_data"
    }
   ],
   "source": [
    "### get noise limit list\n",
    "frequency = 13\n",
    "noise_floor = 56.5e-17\n",
    "no_harmonics = np.arange(1,100,1)\n",
    "noise_resp_list=[]\n",
    "limit_list=[]\n",
    "noise_resp_per_harmonic =0\n",
    "for k in np.arange(0,1000,1):    \n",
    "    noise_resp_list.append(noise_response_per_harmonics(no_harmonics,frequency,noise_floor))\n",
    "noise_resp_per_harmonic = np.stack(np.sqrt(noise_resp_list), axis=1)\n",
    "for j in no_harmonics-1:\n",
    "    limit_list.append(fraction_of_histo(noise_resp_per_harmonic[j],bins=100,intervall=0.9))\n",
    "cumsum_signal =[]\n",
    "cumsum_noise = np.cumsum(limit_list)    "
   ]
  },
  {
   "cell_type": "code",
   "execution_count": 16,
   "metadata": {},
   "outputs": [],
   "source": [
    "from joblib import Parallel, delayed\n",
    "import multiprocessing\n",
    "num_cores = 24\n",
    "\n",
    "def alpha_response(alpha):\n",
    "    response_list=[]\n",
    "    for k in np.arange(0,5000,1):\n",
    "        response_list.append(measurement_response_harmonics(alpha=alpha,int_time=1,fs=5000,pos_vec=pos_x,force_vec=force_x_yuk,stroke=300e-6,frequency=frequency,noise_floor=noise_floor,no_harmonics=no_harmonics,plot=False,manual=False))\n",
    "    signal_resp_per_harmonic = np.stack(np.sqrt(response_list), axis=1)\n",
    "    return np.mean(signal_resp_per_harmonic)"
   ]
  },
  {
   "cell_type": "code",
   "execution_count": 17,
   "metadata": {},
   "outputs": [
    {
     "name": "stderr",
     "output_type": "stream",
     "text": [
      " 90%|█████████ | 90/100 [1:15:52<08:50, 53.08s/it]"
     ]
    },
    {
     "ename": "StopIteration",
     "evalue": "",
     "output_type": "error",
     "traceback": [
      "\u001b[0;31m---------------------------------------------------------------------------\u001b[0m",
      "\u001b[0;31mStopIteration\u001b[0m                             Traceback (most recent call last)",
      "\u001b[0;32m<ipython-input-17-2794be91fdba>\u001b[0m in \u001b[0;36m<module>\u001b[0;34m()\u001b[0m\n\u001b[1;32m     12\u001b[0m     \u001b[0mforce_x_yuk\u001b[0m \u001b[0;34m=\u001b[0m \u001b[0mres_dict_side_by_side\u001b[0m\u001b[0;34m[\u001b[0m\u001b[0;36m2.4e-6\u001b[0m\u001b[0;34m]\u001b[0m\u001b[0;34m[\u001b[0m\u001b[0mseparation\u001b[0m\u001b[0;34m]\u001b[0m\u001b[0;34m[\u001b[0m\u001b[0;36m0\u001b[0m\u001b[0;34m]\u001b[0m\u001b[0;34m[\u001b[0m\u001b[0mlambda_yuk\u001b[0m\u001b[0;34m]\u001b[0m\u001b[0;34m[\u001b[0m\u001b[0;36m3\u001b[0m\u001b[0;34m]\u001b[0m \u001b[0;31m# force by the yukawa potential\u001b[0m\u001b[0;34m\u001b[0m\u001b[0;34m\u001b[0m\u001b[0m\n\u001b[1;32m     13\u001b[0m     \u001b[0malpha_result\u001b[0m \u001b[0;34m=\u001b[0m \u001b[0mParallel\u001b[0m\u001b[0;34m(\u001b[0m\u001b[0mn_jobs\u001b[0m\u001b[0;34m=\u001b[0m\u001b[0mnum_cores\u001b[0m\u001b[0;34m)\u001b[0m\u001b[0;34m(\u001b[0m\u001b[0mdelayed\u001b[0m\u001b[0;34m(\u001b[0m\u001b[0malpha_response\u001b[0m\u001b[0;34m)\u001b[0m\u001b[0;34m(\u001b[0m\u001b[0malpha\u001b[0m\u001b[0;34m)\u001b[0m \u001b[0;32mfor\u001b[0m \u001b[0malpha\u001b[0m \u001b[0;32min\u001b[0m \u001b[0malpha_list\u001b[0m\u001b[0;34m)\u001b[0m\u001b[0;34m\u001b[0m\u001b[0;34m\u001b[0m\u001b[0m\n\u001b[0;32m---> 14\u001b[0;31m     \u001b[0mlambda_list\u001b[0m\u001b[0;34m.\u001b[0m\u001b[0mappend\u001b[0m\u001b[0;34m(\u001b[0m\u001b[0malpha_list\u001b[0m\u001b[0;34m[\u001b[0m\u001b[0mnext\u001b[0m\u001b[0;34m(\u001b[0m\u001b[0mx\u001b[0m\u001b[0;34m[\u001b[0m\u001b[0;36m0\u001b[0m\u001b[0;34m]\u001b[0m \u001b[0;32mfor\u001b[0m \u001b[0mx\u001b[0m \u001b[0;32min\u001b[0m \u001b[0menumerate\u001b[0m\u001b[0;34m(\u001b[0m\u001b[0malpha_result\u001b[0m\u001b[0;34m)\u001b[0m \u001b[0;32mif\u001b[0m \u001b[0mx\u001b[0m\u001b[0;34m[\u001b[0m\u001b[0;36m1\u001b[0m\u001b[0;34m]\u001b[0m \u001b[0;34m>\u001b[0m \u001b[0mlimit_list\u001b[0m\u001b[0;34m[\u001b[0m\u001b[0;36m2\u001b[0m\u001b[0;34m]\u001b[0m\u001b[0;34m)\u001b[0m\u001b[0;34m]\u001b[0m\u001b[0;34m)\u001b[0m\u001b[0;34m\u001b[0m\u001b[0;34m\u001b[0m\u001b[0m\n\u001b[0m\u001b[1;32m     15\u001b[0m \u001b[0;34m\u001b[0m\u001b[0m\n\u001b[1;32m     16\u001b[0m \u001b[0;34m\u001b[0m\u001b[0m\n",
      "\u001b[0;31mStopIteration\u001b[0m: "
     ]
    }
   ],
   "source": [
    "no_harmonics = [6]\n",
    "alpha_list=[]\n",
    "lambda_list=[]\n",
    "lambda_yuk_vals= np.logspace(-6.3, -3, 100)\n",
    "lambda_yuk_vals = lambda_yuk_vals[::-1]\n",
    "\n",
    "\n",
    "for lambda_yuk in tqdm(lambda_yuk_vals[:]):\n",
    "    #print(lambda_yuk)\n",
    "    signal_list=[]\n",
    "    alpha_list=np.geomspace(1e6,1e13,250)\n",
    "    force_x_yuk = res_dict_side_by_side[2.4e-6][separation][0][lambda_yuk][3] # force by the yukawa potential\n",
    "    alpha_result = Parallel(n_jobs=num_cores)(delayed(alpha_response)(alpha) for alpha in alpha_list)\n",
    "    lambda_list.append(alpha_list[next(x[0] for x in enumerate(alpha_result) if x[1] > limit_list[2])])\n",
    "    \n",
    "\n",
    "    \n"
   ]
  },
  {
   "cell_type": "code",
   "execution_count": null,
   "metadata": {},
   "outputs": [],
   "source": [
    "plt.plot(lambda_yuk_vals[:len(lambda_list)]/1e-6,lambda_list)\n",
    "plt.yscale(\"log\")\n",
    "plt.xscale(\"log\")\n"
   ]
  },
  {
   "cell_type": "code",
   "execution_count": 94,
   "metadata": {},
   "outputs": [],
   "source": [
    "np.savetxt(\"Results/alpha_%2.2e_sep_%2.2e_stroke_%d_k_%d_harmonics_20190903.txt\" %(separation,300e-6,500,2),lambda_yuk_vals[:len(lambda_list)])"
   ]
  },
  {
   "cell_type": "code",
   "execution_count": 95,
   "metadata": {},
   "outputs": [],
   "source": [
    "np.savetxt(\"Results/lambda_%2.2e_sep_%2.2e_stroke_%d_k_%d_harmonics_20190903.txt\" %(separation,300e-6,500,2),lambda_list)"
   ]
  },
  {
   "cell_type": "code",
   "execution_count": 96,
   "metadata": {},
   "outputs": [
    {
     "name": "stdout",
     "output_type": "stream",
     "text": [
      "Results/alpha_7.50e-06_sep_3.00e-04_stroke_500_k_2_harmonics_20190903.txt\n"
     ]
    }
   ],
   "source": [
    "print(\"Results/alpha_%2.2e_sep_%2.2e_stroke_%d_k_%d_harmonics_20190903.txt\" %(separation,300e-6,500,2))"
   ]
  },
  {
   "cell_type": "code",
   "execution_count": null,
   "metadata": {},
   "outputs": [],
   "source": []
  }
 ],
 "metadata": {
  "kernelspec": {
   "display_name": "Python 3",
   "language": "python",
   "name": "python3"
  },
  "language_info": {
   "codemirror_mode": {
    "name": "ipython",
    "version": 3
   },
   "file_extension": ".py",
   "mimetype": "text/x-python",
   "name": "python",
   "nbconvert_exporter": "python",
   "pygments_lexer": "ipython3",
   "version": "3.6.8"
  }
 },
 "nbformat": 4,
 "nbformat_minor": 2
}
