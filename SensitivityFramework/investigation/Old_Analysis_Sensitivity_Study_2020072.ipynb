{
 "cells": [
  {
   "cell_type": "code",
   "execution_count": 1,
   "metadata": {},
   "outputs": [],
   "source": [
    "%run /home/analysis_user/New_trap_code/Tools/basic_packages.py\n",
    "\n",
    "plt.rcParams[\"figure.figsize\"] = (12,9)\n",
    "plt.rcParams[\"font.size\"] = 24\n",
    "plt.rcParams['xtick.labelsize'] = \"small\"\n",
    "plt.rcParams['ytick.labelsize'] = 36"
   ]
  },
  {
   "cell_type": "code",
   "execution_count": 2,
   "metadata": {},
   "outputs": [],
   "source": [
    "sys.path.append('/home/analysis_user/New_trap_code/SensitivityFramework/')\n",
    "import signal_model_utilities_v2 as sm2"
   ]
  },
  {
   "cell_type": "code",
   "execution_count": 3,
   "metadata": {},
   "outputs": [],
   "source": [
    "def osci_force_func(stroke,time,frequency,pos_vec,force_vec):\n",
    "    osci_pos = osci_pos_func(stroke,time,frequency)\n",
    "    return np.interp(osci_pos,pos_vec,force_vec, left=None, right=None, period=None)\n",
    "def osci_pos_func(stroke,time,frequency): \n",
    "    osci_pos = stroke/2*np.sin(2*np.pi*time*frequency)\n",
    "    return osci_pos\n",
    "def fft_norm(N, fsamp):\n",
    "    return np.sqrt(2 / (N * fsamp))"
   ]
  },
  {
   "cell_type": "code",
   "execution_count": 4,
   "metadata": {},
   "outputs": [],
   "source": [
    "def measurement_response_harmonics(alpha,int_time,fs,pos_vec,force_vec,stroke,frequency,noise_floor,no_harmonics,plot,manual):\n",
    "    force_vec_scaled= force_vec * alpha # scale the force vector by alpha\n",
    "    time = np.arange(0,int_time,1/fs) # make a time array, default 1s\n",
    "    print(fs,len(time),int_time)\n",
    "    length = len(osci_force_func(stroke,time,frequency,pos_vec,force_vec_scaled)) # length of the array\n",
    "    #noise_floor = 1.85*np.pi*1e-17\n",
    "    signal = osci_force_func(stroke,time,frequency,pos_vec,force_vec_scaled)\n",
    "    print(length)\n",
    "    print(time)\n",
    "    noise = noise_floor  * np.random.randn(length)\n",
    "    background = 0 # implement later\n",
    "    measurement = noise + signal + background\n",
    "    print(np.mean(measurement))\n",
    "    # calculate the psd \"manually\"\n",
    "    fft = np.abs(np.fft.rfft(measurement)) \n",
    "    freq = np.fft.rfftfreq(length, d=1./fs)\n",
    "    psd_dat1 = fft*fft.conj().real*fft_norm(length,fs)**2\n",
    "    \n",
    "    # let mlab do the job\n",
    "    psd_dat2,freq2 = psd(measurement, \n",
    "                         NFFT=length, \n",
    "                         Fs=fs, detrend=\"none\",window=mlab.window_none, noverlap=0, pad_to=None)\n",
    "    print(len(psd_dat2))\n",
    "    response = []\n",
    "    if(plot==True):\n",
    "        plt.plot(freq2,np.sqrt(psd_dat2))\n",
    "        plt.yscale(\"log\")\n",
    "        plt.xlim(0,np.max(no_harmonics)*frequency)\n",
    "        plt.show()\n",
    "    for i in no_harmonics:\n",
    "        if(manual==True):\n",
    "            response.append(psd_dat1[i*frequency])\n",
    "        if(manual==False):    \n",
    "            response.append(psd_dat2[i*frequency])\n",
    "        #print(response,i*frequency)\n",
    "    return response"
   ]
  },
  {
   "cell_type": "code",
   "execution_count": 20,
   "metadata": {},
   "outputs": [],
   "source": [
    "def alpha_response(alpha):\n",
    "    no_harmonics = [6]\n",
    "    noise_floor =  0\n",
    "    frequency = 3\n",
    "    stroke = 500e-6\n",
    "    fs = 5000\n",
    "    int_time=1\n",
    "    response_list=[]\n",
    "    for k in np.arange(0,100,1):\n",
    "        response_list.append(measurement_response_harmonics(alpha=alpha,int_time=int_time,fs=fs,pos_vec=pos_vec*1e-6,force_vec=force_vec,stroke=stroke,frequency=frequency,noise_floor=noise_floor,no_harmonics=no_harmonics,plot=False,manual=False))\n",
    "    signal_resp_per_harmonic = np.stack(np.sqrt(response_list), axis=1)\n",
    "    return np.mean(signal_resp_per_harmonic)"
   ]
  },
  {
   "cell_type": "code",
   "execution_count": 21,
   "metadata": {},
   "outputs": [],
   "source": [
    "num_cores = 24\n"
   ]
  },
  {
   "cell_type": "code",
   "execution_count": 22,
   "metadata": {},
   "outputs": [
    {
     "name": "stderr",
     "output_type": "stream",
     "text": [
      "  0%|          | 0/10 [00:00<?, ?it/s]"
     ]
    },
    {
     "name": "stdout",
     "output_type": "stream",
     "text": [
      "Loading Gravity Data... Done!\n",
      "90 1e-06\n",
      "Loaded Yukawa Force\n"
     ]
    },
    {
     "name": "stderr",
     "output_type": "stream",
     "text": [
      " 10%|█         | 1/10 [00:02<00:21,  2.40s/it]"
     ]
    },
    {
     "name": "stdout",
     "output_type": "stream",
     "text": [
      "Loading Gravity Data... Done!\n",
      "80 2.15443469003e-06\n",
      "Loaded Yukawa Force\n"
     ]
    },
    {
     "name": "stderr",
     "output_type": "stream",
     "text": [
      " 20%|██        | 2/10 [00:04<00:19,  2.42s/it]"
     ]
    },
    {
     "name": "stdout",
     "output_type": "stream",
     "text": [
      "Loading Gravity Data... Done!\n",
      "70 4.64158883361e-06\n",
      "Loaded Yukawa Force\n"
     ]
    },
    {
     "name": "stderr",
     "output_type": "stream",
     "text": [
      " 30%|███       | 3/10 [00:07<00:17,  2.47s/it]"
     ]
    },
    {
     "name": "stdout",
     "output_type": "stream",
     "text": [
      "Loading Gravity Data... Done!\n",
      "60 1e-05\n",
      "Loaded Yukawa Force\n"
     ]
    },
    {
     "name": "stderr",
     "output_type": "stream",
     "text": [
      " 40%|████      | 4/10 [00:09<00:14,  2.45s/it]"
     ]
    },
    {
     "name": "stdout",
     "output_type": "stream",
     "text": [
      "Loading Gravity Data... Done!\n",
      "50 2.15443469003e-05\n",
      "Loaded Yukawa Force\n"
     ]
    },
    {
     "name": "stderr",
     "output_type": "stream",
     "text": [
      " 50%|█████     | 5/10 [00:12<00:12,  2.44s/it]"
     ]
    },
    {
     "name": "stdout",
     "output_type": "stream",
     "text": [
      "Loading Gravity Data... Done!\n",
      "40 4.64158883361e-05\n",
      "Loaded Yukawa Force\n"
     ]
    },
    {
     "name": "stderr",
     "output_type": "stream",
     "text": [
      " 60%|██████    | 6/10 [00:14<00:09,  2.49s/it]"
     ]
    },
    {
     "name": "stdout",
     "output_type": "stream",
     "text": [
      "Loading Gravity Data... Done!\n",
      "30 0.0001\n",
      "Loaded Yukawa Force\n"
     ]
    },
    {
     "name": "stderr",
     "output_type": "stream",
     "text": [
      " 70%|███████   | 7/10 [00:17<00:07,  2.47s/it]"
     ]
    },
    {
     "name": "stdout",
     "output_type": "stream",
     "text": [
      "Loading Gravity Data... Done!\n",
      "20 0.000215443469003\n",
      "Loaded Yukawa Force\n"
     ]
    },
    {
     "name": "stderr",
     "output_type": "stream",
     "text": [
      " 80%|████████  | 8/10 [00:20<00:05,  2.59s/it]"
     ]
    },
    {
     "name": "stdout",
     "output_type": "stream",
     "text": [
      "Loading Gravity Data... Done!\n",
      "10 0.000464158883361\n",
      "Loaded Yukawa Force\n"
     ]
    },
    {
     "name": "stderr",
     "output_type": "stream",
     "text": [
      " 90%|█████████ | 9/10 [00:22<00:02,  2.54s/it]"
     ]
    },
    {
     "name": "stdout",
     "output_type": "stream",
     "text": [
      "Loading Gravity Data... Done!\n",
      "0 0.001\n",
      "Loaded Yukawa Force\n"
     ]
    },
    {
     "name": "stderr",
     "output_type": "stream",
     "text": [
      "100%|██████████| 10/10 [00:24<00:00,  2.48s/it]\n"
     ]
    }
   ],
   "source": [
    "alpha_list=[]\n",
    "lambda_list=[]\n",
    "\n",
    "x_sep = 3.8+1.5\n",
    "height_sep = 0\n",
    "  \n",
    "\n",
    "for lambda_yuk in tqdm(np.geomspace(1,1e3,10)):\n",
    "    pos_vec,force_vec = sm2.force_vs_position(x_sep=x_sep,height_sep=height_sep,lambda_val=lambda_yuk,axis=\"X\",yuk_or_grav=\"yuk\",bead_size=7.6,posvec=np.linspace(-249.5, 249.0, 501))\n",
    "    alpha_list=np.geomspace(1e2,1e12,300)\n",
    "    alpha_result = Parallel(n_jobs=num_cores)(delayed(alpha_response)(alpha) for alpha in alpha_list)\n",
    "    #print(alpha_result)\n",
    "    lambda_list.append(alpha_list[next(x[0] for x in enumerate(alpha_result) if x[1] > 1.2e-20)])\n",
    "    \n",
    "\n",
    "    \n"
   ]
  },
  {
   "cell_type": "code",
   "execution_count": 23,
   "metadata": {},
   "outputs": [
    {
     "data": {
      "text/plain": [
       "[<matplotlib.lines.Line2D at 0x7fc4aab35d68>]"
      ]
     },
     "execution_count": 23,
     "metadata": {},
     "output_type": "execute_result"
    },
    {
     "data": {
      "image/png": "[encoded data removed]",
      "text/plain": [
       "<Figure size 864x648 with 1 Axes>"
      ]
     },
     "metadata": {
      "needs_background": "light"
     },
     "output_type": "display_data"
    }
   ],
   "source": [
    "plt.loglog(np.geomspace(1e-3,1e3,10),lambda_list/np.sqrt(1000))"
   ]
  },
  {
   "cell_type": "code",
   "execution_count": null,
   "metadata": {},
   "outputs": [],
   "source": []
  },
  {
   "cell_type": "code",
   "execution_count": null,
   "metadata": {},
   "outputs": [],
   "source": []
  }
 ],
 "metadata": {
  "kernelspec": {
   "display_name": "Python 3",
   "language": "python",
   "name": "python3"
  },
  "language_info": {
   "codemirror_mode": {
    "name": "ipython",
    "version": 3
   },
   "file_extension": ".py",
   "mimetype": "text/x-python",
   "name": "python",
   "nbconvert_exporter": "python",
   "pygments_lexer": "ipython3",
   "version": "3.6.9"
  }
 },
 "nbformat": 4,
 "nbformat_minor": 4
}
