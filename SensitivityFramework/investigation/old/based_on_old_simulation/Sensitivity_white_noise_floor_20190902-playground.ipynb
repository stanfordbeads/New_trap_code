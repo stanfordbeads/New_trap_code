{
 "cells": [
  {
   "cell_type": "code",
   "execution_count": 1,
   "metadata": {},
   "outputs": [],
   "source": [
    "import numpy as np\n",
    "import pickle as pkl\n",
    "import scipy.interpolate as interp\n",
    "import scipy.signal as signal\n",
    "import scipy.optimize as opti\n",
    "import scipy, sys, time\n",
    "import matplotlib.pyplot as plt\n",
    "from matplotlib import mlab as mlab\n",
    "from matplotlib.mlab import psd\n",
    "from tqdm import tqdm\n",
    "import sys\n",
    "sys.path.append('/home/analysis_user/New_trap_code/Tools/')\n",
    "import BeadDataFile\n",
    "from discharge_tools import load_dir\n",
    "\n",
    "# some settings for standardized figures\n",
    "\n",
    "plt.rcParams[\"figure.figsize\"] = (8,6)\n",
    "plt.rcParams['font.size'] = (24)\n",
    "plt.rcParams['xtick.labelsize']=\"medium\"\n",
    "plt.rcParams['text.usetex'] = False"
   ]
  },
  {
   "cell_type": "code",
   "execution_count": 2,
   "metadata": {},
   "outputs": [],
   "source": [
    "# determine the center position of the attractor at a given time\n",
    "def osci_pos_func(stroke,time,frequency): \n",
    "    osci_pos = stroke/2*np.sin(2*np.pi*time*frequency)\n",
    "    return osci_pos\n",
    "\n",
    "def osci_pos_triang_func(stroke,time,frequency,width=0.5):\n",
    "    osci_pos_triang=stroke/2*signal.sawtooth(2 * np.pi * frequency * time+np.pi/2,width=width)\n",
    "    return osci_pos_triang\n",
    "\n",
    "# determine the force for a given point in time using the transformation to position\n",
    "## sinusoidal movement\n",
    "def osci_force_func(stroke,time,frequency,pos_vec,force_vec):\n",
    "    osci_pos = osci_pos_func(stroke,time,frequency)\n",
    "    return np.interp(osci_pos,pos_vec,force_vec, left=None, right=None, period=None)\n",
    "\n",
    "## triangle movement\n",
    "def osci_force_func_tri(stroke,time,frequency,pos_vec,force_vec,width=0.5):\n",
    "    osci_pos_triang = osci_pos_triang_func(stroke,time,frequency,width=width)\n",
    "    return np.interp(osci_pos_triang,pos_vec,force_vec, left=None, right=None, period=None)\n",
    "\n",
    "# little helper to get the bin of a histogram at which a certain invertall in % is reached\n",
    "def fraction_of_histo(input_histo,bins=500,intervall=0.68):\n",
    "    hist_list =[]\n",
    "    h1 = plt.hist(input_histo,bins,density=True,cumulative=True)\n",
    "    [hist_list.append(h1[1][bins]) for bins in np.arange(0,len(h1[1])-1,1) if h1[0][bins]>intervall]\n",
    "    plt.xlabel(\"ASD [Hz]\")\n",
    "    plt.ylabel(\"CDF\")\n",
    "    plt.axvline(np.min(hist_list),color=\"red\",linestyle=\"dashed\")\n",
    "    plt.axhline(intervall,color=\"red\",linestyle=\"dashed\")\n",
    "    #plt.show()\n",
    "    return np.min(hist_list)\n",
    "          \n",
    "# normalization for used ASD\n",
    "def fft_norm(N, fsamp):\n",
    "    return np.sqrt(2 / (N * fsamp))\n",
    "\n",
    "### CHECK WHITE NOISE\n",
    "def generate_white_noise(length,fs,noise_floor):\n",
    "    noise_randomized = noise_floor * np.random.randn(length)\n",
    "    fft = np.abs(np.fft.rfft(noise_randomized))\n",
    "    freq3 = np.fft.rfftfreq(length, d=1./fs)\n",
    "    ps = fft*fft.conj().real*fft_norm(length,fs)**2\n",
    "    return ps,freq3\n",
    "\n",
    "\n",
    "def generate_white_noise2(length,fs,noise_floor):\n",
    "    noise_randomized = noise_floor * np.random.randn(length)\n",
    "    psd_noise,freq_n = psd(noise_randomized,NFFT=length,Fs=fs, detrend=\"none\",window=mlab.window_none, noverlap=0, pad_to=None)\n",
    "    norm=0.5*fs\n",
    "    return psd_noise*norm,freq_n\n",
    "\n",
    "# get noise response for a number of harmonics\n",
    "def noise_response(no_harmonics,frequency,noise_floor):\n",
    "    noise_response = 0\n",
    "    noise_value = generate_white_noise(5000,5000,noise_floor)[0]\n",
    "    for j in no_harmonics:\n",
    "        noise_response += noise_value[j*frequency]\n",
    "        \n",
    "    return noise_response\n",
    "\n",
    "def noise_response_per_harmonics(no_harmonics,frequency,noise_floor):\n",
    "    noise_response = []\n",
    "    noise_value = generate_white_noise(5000,5000,noise_floor)[0]\n",
    "    for j in no_harmonics:\n",
    "        noise_response.append(noise_value[j*frequency])\n",
    "    return noise_response\n",
    "\n",
    "\n",
    "# define a function to obtain the response given a number of harmonics (normalization)\n",
    "def function_response(alpha,int_time,fs,pos_vec,force_vec,stroke,frequency,no_harmonics,plot,manual):\n",
    "    force_vec = force_vec * alpha # scale the force vector by alpha\n",
    "    time = np.arange(0,int_time,1/sampling_frequency) # make a time array, default 1s\n",
    "    length = len(osci_force_func(stroke,time,frequency,pos_vec,force_vec)) # length of the array\n",
    "    \n",
    "    # calculate the psd \"manually\"\n",
    "    fft = np.abs(np.fft.rfft(osci_force_func(stroke,time,frequency,pos_vec,force_vec))) \n",
    "    freq = np.fft.rfftfreq(length, d=1./fs)\n",
    "    psd_dat1 = fft*fft.conj().real*fft_norm(len(noise_randomized),fs)**2\n",
    "    \n",
    "    # let mlab do the job\n",
    "    psd_dat2,freq2 = psd(osci_force_func(stroke,time,frequency,pos_vec,force_vec), \n",
    "                         NFFT=length, \n",
    "                         Fs=fs, detrend=\"none\",window=mlab.window_none, noverlap=0, pad_to=None)\n",
    "    response =0\n",
    "    if(plot==True):\n",
    "        plt.plot(freq2,np.sqrt(psd_dat2))\n",
    "        plt.yscale(\"log\")\n",
    "        plt.xlim(0,340)\n",
    "    for i in no_harmonics:\n",
    "        if(manual==True):\n",
    "            response+=np.sqrt(psd_dat1[i*frequency])\n",
    "        if(manual==False):    \n",
    "            response+=np.sqrt(psd_dat2[i*frequency])\n",
    "        #print(response,i*frequency)\n",
    "    return response"
   ]
  },
  {
   "cell_type": "code",
   "execution_count": 3,
   "metadata": {},
   "outputs": [],
   "source": [
    "def function_response_2(alpha,int_time,sampling_frequency,pos_vec,force_vec,stroke,frequency,no_harmonics,bkg=False,plot=False):\n",
    "    force_vec = force_vec * alpha\n",
    "    sampling_frequency = 5000\n",
    "    time = np.arange(0,int_time,1/sampling_frequency)\n",
    "    fft_0 = np.fft.rfft(osci_force_func(stroke,time,frequency,pos_vec,force_vec))\n",
    "    fft_1 = np.abs(fft_0)\n",
    "    freq2 = np.fft.rfftfreq(5000, d=1./5000)\n",
    "    psd_dat2 = fft_1*fft_1.conj().real*fft_norm(len(osci_force_func(stroke,time,frequency,pos_vec,force_vec)),5000)**2\n",
    "    \n",
    "    response =0\n",
    "    response_list=[]\n",
    "    phase_list=[]\n",
    "    if(bkg==True):frequency=frequency+2\n",
    "    for i in np.arange(1,no_harmonics+1,1):\n",
    "        response+=np.sqrt(psd_dat2[i*frequency])\n",
    "        freq_selec = np.arange(frequency,frequency*(no_harmonics+1),frequency)\n",
    "        response_list.append(np.sqrt(psd_dat2[i*frequency]))\n",
    "        phase_list.append(np.angle(fft_0[i*frequency]))\n",
    "    if(plot==True):            \n",
    "        plt.plot(freq_selec,response_list)\n",
    "        plt.yscale(\"log\")\n",
    "        plt.xlim(0,frequency*no_harmonics+5)\n",
    "        plt.show()\n",
    "        plt.plot(freq_selec,np.divide(phase_list,np.pi),marker=\"*\")\n",
    "        plt.xlim(0,frequency*no_harmonics+5)\n",
    "        #print(response,i*frequency)\n",
    "    return (response,freq_selec,response_list,phase_list)"
   ]
  },
  {
   "cell_type": "code",
   "execution_count": 4,
   "metadata": {},
   "outputs": [],
   "source": [
    "def measurement_response(alpha,int_time,fs,pos_vec,force_vec,stroke,frequency,noise_floor,no_harmonics,plot,manual):\n",
    "    force_vec = force_vec * alpha # scale the force vector by alpha\n",
    "    time = np.arange(0,int_time,1/sampling_frequency) # make a time array, default 1s\n",
    "    length = len(osci_force_func(stroke,time,frequency,pos_vec,force_vec)) # length of the array\n",
    "    #noise_floor = 1.85*np.pi*1e-17\n",
    "    signal = osci_force_func(stroke,time,frequency,pos_x,force_vec)\n",
    "    noise = noise_floor  * np.random.randn(length)\n",
    "    background = 0 # implement later\n",
    "    measurement = noise + signal + background\n",
    "    \n",
    "    \n",
    "    # calculate the psd \"manually\"\n",
    "    fft = np.abs(np.fft.rfft(measurement)) \n",
    "    freq = np.fft.rfftfreq(length, d=1./fs)\n",
    "    psd_dat1 = fft*fft.conj().real*fft_norm(length,fs)**2\n",
    "    \n",
    "    # let mlab do the job\n",
    "    psd_dat2,freq2 = psd(measurement, \n",
    "                         NFFT=length, \n",
    "                         Fs=fs, detrend=\"none\",window=mlab.window_none, noverlap=0, pad_to=None)\n",
    "    response =0\n",
    "    if(plot==True):\n",
    "        plt.plot(freq2,np.sqrt(psd_dat2))\n",
    "        plt.yscale(\"log\")\n",
    "        plt.xlim(0,np.max(no_harmonics)*frequency)\n",
    "        plt.show()\n",
    "    for i in no_harmonics:\n",
    "        if(manual==True):\n",
    "            response+=psd_dat1[i*frequency]\n",
    "        if(manual==False):    \n",
    "            response+=psd_dat2[i*frequency]\n",
    "        #print(response,i*frequency)\n",
    "    return response"
   ]
  },
  {
   "cell_type": "code",
   "execution_count": 13,
   "metadata": {},
   "outputs": [],
   "source": [
    "def measurement_response_harmonics(alpha,int_time,fs,pos_vec,force_vec,stroke,frequency,noise_floor,no_harmonics,plot,manual):\n",
    "    force_vec = force_vec * alpha # scale the force vector by alpha\n",
    "    time = np.arange(0,1,1/sampling_frequency) # make a time array, default 1s\n",
    "    length = len(osci_force_func(stroke,time,frequency,pos_vec,force_vec)) # length of the array\n",
    "    #noise_floor = 1.85*np.pi*1e-17\n",
    "    signal = osci_force_func(stroke,time,frequency,pos_x,force_vec)\n",
    "    noise = noise_floor/np.sqrt(int_time)  * np.random.randn(length)\n",
    "    background = 0 # implement later\n",
    "    measurement = noise + signal + background\n",
    "    \n",
    "    \n",
    "    # calculate the psd \"manually\"\n",
    "    fft = np.abs(np.fft.rfft(measurement)) \n",
    "    freq = np.fft.rfftfreq(length, d=1./fs)\n",
    "    psd_dat1 = fft*fft.conj().real*fft_norm(length,fs)**2\n",
    "    \n",
    "    # let mlab do the job\n",
    "    psd_dat2,freq2 = psd(measurement, \n",
    "                         NFFT=length, \n",
    "                         Fs=fs, detrend=\"none\",window=mlab.window_none, noverlap=0, pad_to=None)\n",
    "    response = []\n",
    "    if(plot==True):\n",
    "        plt.plot(freq2,np.sqrt(psd_dat2))\n",
    "        plt.yscale(\"log\")\n",
    "        plt.xlim(0,np.max(no_harmonics)*frequency)\n",
    "        plt.show()\n",
    "    for i in no_harmonics:\n",
    "        if(manual==True):\n",
    "            response.append(psd_dat1[i*frequency])\n",
    "        if(manual==False):    \n",
    "            response.append(psd_dat2[i*frequency])\n",
    "        #print(response,i*frequency)\n",
    "    return response"
   ]
  },
  {
   "cell_type": "code",
   "execution_count": 6,
   "metadata": {},
   "outputs": [],
   "source": [
    "## load the data dictionary file (its usually of the form results_dic[rbead][sep][height][yuklambda])\n",
    "\n",
    "res_dict_side_by_side = pkl.load( open('/home/analysis_user/Results/Sensitivity/rbead_2.4e-06_sep_7.5e-06_height_0.p', 'rb'))\n"
   ]
  },
  {
   "cell_type": "code",
   "execution_count": 7,
   "metadata": {},
   "outputs": [],
   "source": [
    "## initate a few values in order to do diagnostics\n",
    "int_time = 1 # keep that 1 for now\n",
    "alpha = 1 # alpha to scale the yukawa force\n",
    "sampling_frequency = 5000 # should be 5000 \n",
    "time = np.arange(0,int_time,1/sampling_frequency) # make a time array\n",
    "separation = 7.5e-6 # separation is set by the file you load TODO automatize\n"
   ]
  },
  {
   "cell_type": "code",
   "execution_count": 8,
   "metadata": {},
   "outputs": [],
   "source": [
    "lambda_par= 1e-5 # pick a lambda parameter\n",
    "force_x = res_dict_side_by_side[2.4e-6][separation][0][lambda_par][0] # force in direction of the sphere\n",
    "force_x_yuk = alpha*res_dict_side_by_side[2.4e-6][separation][0][lambda_par][3] # force by the yukawa potential\n",
    "pos_x = res_dict_side_by_side[\"posvec\"] # get the position of the bead from the dictionary"
   ]
  },
  {
   "cell_type": "code",
   "execution_count": 9,
   "metadata": {},
   "outputs": [],
   "source": [
    "### calculate the best alpha\n"
   ]
  },
  {
   "cell_type": "code",
   "execution_count": 10,
   "metadata": {},
   "outputs": [
    {
     "data": {
      "image/png": "[encoded data removed]",
      "text/plain": [
       "<Figure size 432x288 with 1 Axes>"
      ]
     },
     "metadata": {},
     "output_type": "display_data"
    }
   ],
   "source": [
    "### get noise limit list\n",
    "frequency = 13\n",
    "noise_floor = 230*1e-17\n",
    "no_harmonics = np.arange(1,100,1)\n",
    "noise_resp_list=[]\n",
    "limit_list=[]\n",
    "noise_resp_per_harmonic =0\n",
    "for k in np.arange(0,1000,1):    \n",
    "    noise_resp_list.append(noise_response_per_harmonics(no_harmonics,frequency,noise_floor))\n",
    "noise_resp_per_harmonic = np.stack(np.sqrt(noise_resp_list), axis=1)\n",
    "for j in no_harmonics-1:\n",
    "    limit_list.append(fraction_of_histo(noise_resp_per_harmonic[j],bins=100,intervall=0.9))\n",
    "cumsum_signal =[]\n",
    "cumsum_noise = np.cumsum(limit_list)    "
   ]
  },
  {
   "cell_type": "code",
   "execution_count": 23,
   "metadata": {},
   "outputs": [
    {
     "name": "stderr",
     "output_type": "stream",
     "text": [
      "\n",
      "  0%|          | 0/90 [00:00<?, ?it/s]\u001b[A\n",
      "  1%|          | 1/90 [00:08<12:26,  8.39s/it]\u001b[A\n",
      "  2%|▏         | 2/90 [00:16<12:01,  8.20s/it]\u001b[A\n",
      "  3%|▎         | 3/90 [00:23<11:39,  8.04s/it]\u001b[A\n",
      "  4%|▍         | 4/90 [00:31<11:21,  7.93s/it]\u001b[A\n",
      "  6%|▌         | 5/90 [00:39<11:09,  7.88s/it]\u001b[A\n",
      "  7%|▋         | 6/90 [00:47<11:06,  7.94s/it]\u001b[A\n",
      "  8%|▊         | 7/90 [00:55<11:11,  8.09s/it]\u001b[A\n",
      "  9%|▉         | 8/90 [01:04<11:09,  8.17s/it]\u001b[A\n",
      " 10%|█         | 9/90 [01:11<10:48,  8.01s/it]\u001b[A\n",
      " 11%|█         | 10/90 [01:19<10:32,  7.91s/it]\u001b[A\n",
      " 12%|█▏        | 11/90 [01:27<10:17,  7.81s/it]\u001b[A\n",
      " 13%|█▎        | 12/90 [01:34<10:06,  7.77s/it]\u001b[A\n",
      " 14%|█▍        | 13/90 [01:42<10:01,  7.81s/it]\u001b[A\n",
      " 16%|█▌        | 14/90 [01:50<09:51,  7.78s/it]\u001b[A\n",
      " 17%|█▋        | 15/90 [01:57<09:40,  7.74s/it]\u001b[A\n",
      " 18%|█▊        | 16/90 [02:05<09:31,  7.72s/it]\u001b[A\n",
      " 19%|█▉        | 17/90 [02:13<09:22,  7.71s/it]\u001b[A\n",
      " 20%|██        | 18/90 [02:20<09:13,  7.69s/it]\u001b[A\n",
      " 21%|██        | 19/90 [02:28<09:06,  7.69s/it]\u001b[A\n",
      " 22%|██▏       | 20/90 [02:36<08:58,  7.69s/it]\u001b[A\n",
      " 23%|██▎       | 21/90 [02:44<08:50,  7.69s/it]\u001b[A\n",
      " 24%|██▍       | 22/90 [02:51<08:41,  7.67s/it]\u001b[A\n",
      " 26%|██▌       | 23/90 [02:59<08:32,  7.65s/it]\u001b[A\n",
      " 27%|██▋       | 24/90 [03:06<08:24,  7.64s/it]\u001b[A\n",
      " 28%|██▊       | 25/90 [03:14<08:16,  7.64s/it]\u001b[A\n",
      " 29%|██▉       | 26/90 [03:22<08:09,  7.64s/it]\u001b[A\n",
      " 30%|███       | 27/90 [03:29<08:01,  7.64s/it]\u001b[A\n",
      " 31%|███       | 28/90 [03:37<07:53,  7.64s/it]\u001b[A\n",
      " 32%|███▏      | 29/90 [03:45<07:47,  7.66s/it]\u001b[A\n",
      " 33%|███▎      | 30/90 [03:52<07:38,  7.65s/it]\u001b[A\n",
      " 34%|███▍      | 31/90 [04:00<07:31,  7.65s/it]\u001b[A\n",
      " 36%|███▌      | 32/90 [04:08<07:23,  7.65s/it]\u001b[A\n",
      " 37%|███▋      | 33/90 [04:15<07:15,  7.65s/it]\u001b[A\n",
      " 38%|███▊      | 34/90 [04:23<07:08,  7.64s/it]\u001b[A\n",
      " 39%|███▉      | 35/90 [04:30<07:00,  7.64s/it]\u001b[A\n",
      " 40%|████      | 36/90 [04:38<06:52,  7.64s/it]\u001b[A\n",
      " 41%|████      | 37/90 [04:46<06:44,  7.64s/it]\u001b[A\n",
      " 42%|████▏     | 38/90 [04:53<06:38,  7.66s/it]\u001b[A\n",
      " 43%|████▎     | 39/90 [05:01<06:30,  7.65s/it]\u001b[A"
     ]
    },
    {
     "ename": "KeyboardInterrupt",
     "evalue": "",
     "output_type": "error",
     "traceback": [
      "\u001b[0;31m---------------------------------------------------------------------------\u001b[0m",
      "\u001b[0;31mKeyboardInterrupt\u001b[0m                         Traceback (most recent call last)",
      "\u001b[0;32m<ipython-input-23-2dcc13c26b40>\u001b[0m in \u001b[0;36m<module>\u001b[0;34m()\u001b[0m\n\u001b[1;32m      8\u001b[0m         \u001b[0malpha_list\u001b[0m\u001b[0;34m.\u001b[0m\u001b[0mappend\u001b[0m\u001b[0;34m(\u001b[0m\u001b[0malpha\u001b[0m\u001b[0;34m)\u001b[0m\u001b[0;34m\u001b[0m\u001b[0;34m\u001b[0m\u001b[0m\n\u001b[1;32m      9\u001b[0m         \u001b[0;32mfor\u001b[0m \u001b[0mk\u001b[0m \u001b[0;32min\u001b[0m \u001b[0mnp\u001b[0m\u001b[0;34m.\u001b[0m\u001b[0marange\u001b[0m\u001b[0;34m(\u001b[0m\u001b[0;36m0\u001b[0m\u001b[0;34m,\u001b[0m\u001b[0;36m10000\u001b[0m\u001b[0;34m,\u001b[0m\u001b[0;36m1\u001b[0m\u001b[0;34m)\u001b[0m\u001b[0;34m:\u001b[0m\u001b[0;34m\u001b[0m\u001b[0;34m\u001b[0m\u001b[0m\n\u001b[0;32m---> 10\u001b[0;31m             \u001b[0mresponse_list\u001b[0m\u001b[0;34m.\u001b[0m\u001b[0mappend\u001b[0m\u001b[0;34m(\u001b[0m\u001b[0mmeasurement_response_harmonics\u001b[0m\u001b[0;34m(\u001b[0m\u001b[0malpha\u001b[0m\u001b[0;34m=\u001b[0m\u001b[0malpha\u001b[0m\u001b[0;34m,\u001b[0m\u001b[0mint_time\u001b[0m\u001b[0;34m=\u001b[0m\u001b[0;36m1\u001b[0m\u001b[0;34m,\u001b[0m\u001b[0mfs\u001b[0m\u001b[0;34m=\u001b[0m\u001b[0;36m5000\u001b[0m\u001b[0;34m,\u001b[0m\u001b[0mpos_vec\u001b[0m\u001b[0;34m=\u001b[0m\u001b[0mpos_x\u001b[0m\u001b[0;34m,\u001b[0m\u001b[0mforce_vec\u001b[0m\u001b[0;34m=\u001b[0m\u001b[0mforce_x_yuk\u001b[0m\u001b[0;34m,\u001b[0m\u001b[0mstroke\u001b[0m\u001b[0;34m=\u001b[0m\u001b[0;36m500e-6\u001b[0m\u001b[0;34m,\u001b[0m\u001b[0mfrequency\u001b[0m\u001b[0;34m=\u001b[0m\u001b[0mfrequency\u001b[0m\u001b[0;34m,\u001b[0m\u001b[0mnoise_floor\u001b[0m\u001b[0;34m=\u001b[0m\u001b[0mnoise_floor\u001b[0m\u001b[0;34m,\u001b[0m\u001b[0mno_harmonics\u001b[0m\u001b[0;34m=\u001b[0m\u001b[0mno_harmonics\u001b[0m\u001b[0;34m,\u001b[0m\u001b[0mplot\u001b[0m\u001b[0;34m=\u001b[0m\u001b[0;32mFalse\u001b[0m\u001b[0;34m,\u001b[0m\u001b[0mmanual\u001b[0m\u001b[0;34m=\u001b[0m\u001b[0;32mFalse\u001b[0m\u001b[0;34m)\u001b[0m\u001b[0;34m)\u001b[0m\u001b[0;34m\u001b[0m\u001b[0;34m\u001b[0m\u001b[0m\n\u001b[0m\u001b[1;32m     11\u001b[0m         \u001b[0msignal_resp_per_harmonic\u001b[0m \u001b[0;34m=\u001b[0m \u001b[0mnp\u001b[0m\u001b[0;34m.\u001b[0m\u001b[0mstack\u001b[0m\u001b[0;34m(\u001b[0m\u001b[0mnp\u001b[0m\u001b[0;34m.\u001b[0m\u001b[0msqrt\u001b[0m\u001b[0;34m(\u001b[0m\u001b[0mresponse_list\u001b[0m\u001b[0;34m)\u001b[0m\u001b[0;34m,\u001b[0m \u001b[0maxis\u001b[0m\u001b[0;34m=\u001b[0m\u001b[0;36m1\u001b[0m\u001b[0;34m)\u001b[0m\u001b[0;34m\u001b[0m\u001b[0;34m\u001b[0m\u001b[0m\n\u001b[1;32m     12\u001b[0m         \u001b[0;32mfor\u001b[0m \u001b[0mi\u001b[0m \u001b[0;32min\u001b[0m \u001b[0mnp\u001b[0m\u001b[0;34m.\u001b[0m\u001b[0marange\u001b[0m\u001b[0;34m(\u001b[0m\u001b[0;36m0\u001b[0m\u001b[0;34m,\u001b[0m\u001b[0mlen\u001b[0m\u001b[0;34m(\u001b[0m\u001b[0mno_harmonics\u001b[0m\u001b[0;34m)\u001b[0m\u001b[0;34m,\u001b[0m\u001b[0;36m1\u001b[0m\u001b[0;34m)\u001b[0m\u001b[0;34m:\u001b[0m\u001b[0;34m\u001b[0m\u001b[0;34m\u001b[0m\u001b[0m\n",
      "\u001b[0;32m<ipython-input-17-fde2f0b28ef1>\u001b[0m in \u001b[0;36mmeasurement_response_harmonics\u001b[0;34m(alpha, int_time, fs, pos_vec, force_vec, stroke, frequency, noise_floor, no_harmonics, plot, manual)\u001b[0m\n\u001b[1;32m      5\u001b[0m     \u001b[0;31m#noise_floor = 1.85*np.pi*1e-17\u001b[0m\u001b[0;34m\u001b[0m\u001b[0;34m\u001b[0m\u001b[0;34m\u001b[0m\u001b[0m\n\u001b[1;32m      6\u001b[0m     \u001b[0msignal\u001b[0m \u001b[0;34m=\u001b[0m \u001b[0mosci_force_func\u001b[0m\u001b[0;34m(\u001b[0m\u001b[0mstroke\u001b[0m\u001b[0;34m,\u001b[0m\u001b[0mtime\u001b[0m\u001b[0;34m,\u001b[0m\u001b[0mfrequency\u001b[0m\u001b[0;34m,\u001b[0m\u001b[0mpos_x\u001b[0m\u001b[0;34m,\u001b[0m\u001b[0mforce_vec\u001b[0m\u001b[0;34m)\u001b[0m\u001b[0;34m\u001b[0m\u001b[0;34m\u001b[0m\u001b[0m\n\u001b[0;32m----> 7\u001b[0;31m     \u001b[0mnoise\u001b[0m \u001b[0;34m=\u001b[0m \u001b[0mnoise_floor\u001b[0m\u001b[0;34m/\u001b[0m\u001b[0mnp\u001b[0m\u001b[0;34m.\u001b[0m\u001b[0msqrt\u001b[0m\u001b[0;34m(\u001b[0m\u001b[0mint_time\u001b[0m\u001b[0;34m)\u001b[0m  \u001b[0;34m*\u001b[0m \u001b[0mnp\u001b[0m\u001b[0;34m.\u001b[0m\u001b[0mrandom\u001b[0m\u001b[0;34m.\u001b[0m\u001b[0mrandn\u001b[0m\u001b[0;34m(\u001b[0m\u001b[0mlength\u001b[0m\u001b[0;34m)\u001b[0m\u001b[0;34m\u001b[0m\u001b[0;34m\u001b[0m\u001b[0m\n\u001b[0m\u001b[1;32m      8\u001b[0m     \u001b[0mbackground\u001b[0m \u001b[0;34m=\u001b[0m \u001b[0;36m0\u001b[0m \u001b[0;31m# implement later\u001b[0m\u001b[0;34m\u001b[0m\u001b[0;34m\u001b[0m\u001b[0m\n\u001b[1;32m      9\u001b[0m     \u001b[0mmeasurement\u001b[0m \u001b[0;34m=\u001b[0m \u001b[0mnoise\u001b[0m \u001b[0;34m+\u001b[0m \u001b[0msignal\u001b[0m \u001b[0;34m+\u001b[0m \u001b[0mbackground\u001b[0m\u001b[0;34m\u001b[0m\u001b[0;34m\u001b[0m\u001b[0m\n",
      "\u001b[0;31mKeyboardInterrupt\u001b[0m: "
     ]
    }
   ],
   "source": [
    "no_harmonics = [2]\n",
    "alpha_list=[]\n",
    "signal_list=[]\n",
    "signal_list2=[]\n",
    "\n",
    "for alpha in tqdm(np.geomspace(1e05,1e14,90)):\n",
    "        response_list=[]\n",
    "        alpha_list.append(alpha)\n",
    "        for k in np.arange(0,10000,1):\n",
    "            response_list.append(measurement_response_harmonics(alpha=alpha,int_time=1,fs=5000,pos_vec=pos_x,force_vec=force_x_yuk,stroke=500e-6,frequency=frequency,noise_floor=noise_floor,no_harmonics=no_harmonics,plot=False,manual=False))\n",
    "        signal_resp_per_harmonic = np.stack(np.sqrt(response_list), axis=1)\n",
    "        for i in np.arange(0,len(no_harmonics),1):\n",
    "            signal_list.append(np.mean(signal_resp_per_harmonic[i]))\n",
    "signal_list2 = np.reshape(signal_list,(90,len(no_harmonics)))\n"
   ]
  },
  {
   "cell_type": "code",
   "execution_count": null,
   "metadata": {},
   "outputs": [],
   "source": [
    "for j,signal in enumerate(signal_list):\n",
    "    if(signal>limit_list[2]):\n",
    "        print(signal,j)\n",
    "        print(alpha_list[j])\n",
    "        break"
   ]
  },
  {
   "cell_type": "code",
   "execution_count": 13,
   "metadata": {},
   "outputs": [
    {
     "data": {
      "text/plain": [
       "(1e-17, 1e-16)"
      ]
     },
     "execution_count": 13,
     "metadata": {},
     "output_type": "execute_result"
    },
    {
     "data": {
      "image/png": "[encoded data removed]",
      "text/plain": [
       "<Figure size 432x288 with 1 Axes>"
      ]
     },
     "metadata": {},
     "output_type": "display_data"
    }
   ],
   "source": [
    "plt.plot(signal_list)\n",
    "plt.axhline(limit_list[2])\n",
    "plt.yscale(\"log\")\n",
    "plt.ylim(1e-17,1e-16)"
   ]
  },
  {
   "cell_type": "code",
   "execution_count": 14,
   "metadata": {},
   "outputs": [
    {
     "data": {
      "text/plain": [
       "99"
      ]
     },
     "execution_count": 14,
     "metadata": {},
     "output_type": "execute_result"
    }
   ],
   "source": [
    "len(limit_list)"
   ]
  },
  {
   "cell_type": "code",
   "execution_count": 25,
   "metadata": {},
   "outputs": [
    {
     "name": "stderr",
     "output_type": "stream",
     "text": [
      "100%|██████████| 100/100 [54:36<00:00, 32.77s/it]\n"
     ]
    }
   ],
   "source": [
    "no_harmonics = [4]\n",
    "alpha_list=[]\n",
    "lambda_list=[]\n",
    "lambda_yuk_vals= np.logspace(-6.3, -3, 100)\n",
    "lambda_yuk_vals = lambda_yuk_vals[::-1]\n",
    "\n",
    "\n",
    "for lambda_yuk in tqdm(lambda_yuk_vals):\n",
    "    signal_list=[]\n",
    "    alpha_list=[]\n",
    "    force_x_yuk = res_dict_side_by_side[2.4e-6][separation][0][lambda_yuk][3] # force by the yukawa potential\n",
    "    for alpha in np.geomspace(1e05,1e14,90):\n",
    "        response_list=[]\n",
    "        alpha_list.append(alpha)\n",
    "        for k in np.arange(0,500,1):\n",
    "            response_list.append(measurement_response_harmonics(alpha=alpha,int_time=1,fs=5000,pos_vec=pos_x,force_vec=force_x_yuk,stroke=400e-6,frequency=frequency,noise_floor=noise_floor,no_harmonics=no_harmonics,plot=False,manual=False))\n",
    "        signal_resp_per_harmonic = np.stack(np.sqrt(response_list), axis=1)\n",
    "        for i in np.arange(0,len(no_harmonics),1):\n",
    "            signal_list.append(np.mean(signal_resp_per_harmonic[i]))\n",
    "    for j,signal in enumerate(signal_list):\n",
    "        #print(signal)\n",
    "        if(signal>limit_list[2]):\n",
    "            lambda_list.append(alpha_list[j])\n",
    "            #print(signal,alpha_list[j])\n",
    "            break\n",
    "    \n",
    "#signal_list2 = np.reshape(signal_list,(90,len(no_harmonics)))\n"
   ]
  },
  {
   "cell_type": "code",
   "execution_count": 27,
   "metadata": {},
   "outputs": [
    {
     "data": {
      "image/png": "[encoded data removed]",
      "text/plain": [
       "<Figure size 432x288 with 1 Axes>"
      ]
     },
     "metadata": {},
     "output_type": "display_data"
    }
   ],
   "source": [
    "plt.plot(lambda_yuk_vals[:len(lambda_list)],lambda_list)\n",
    "plt.yscale(\"log\")\n",
    "plt.xscale(\"log\")\n"
   ]
  },
  {
   "cell_type": "code",
   "execution_count": 28,
   "metadata": {},
   "outputs": [
    {
     "name": "stderr",
     "output_type": "stream",
     "text": [
      "100%|██████████| 100/100 [05:28<00:00,  3.29s/it]\n"
     ]
    }
   ],
   "source": [
    "no_harmonics = [4]\n",
    "alpha_list=[]\n",
    "lambda_list=[]\n",
    "lambda_yuk_vals= np.logspace(-6.3, -3, 100)\n",
    "lambda_yuk_vals = lambda_yuk_vals[::-1]\n",
    "\n",
    "\n",
    "for lambda_yuk in tqdm(lambda_yuk_vals):\n",
    "    signal_list=[]\n",
    "    alpha_list=[]\n",
    "    force_x_yuk = res_dict_side_by_side[2.4e-6][separation][0][lambda_yuk][3] # force by the yukawa potential\n",
    "    for alpha in np.geomspace(1e05,1e14,90):\n",
    "        response_list=[]\n",
    "        alpha_list.append(alpha)\n",
    "        for k in np.arange(0,50,1):\n",
    "            response_list.append(measurement_response_harmonics(alpha=alpha,int_time=1,fs=5000,pos_vec=pos_x,force_vec=force_x_yuk,stroke=400e-6,frequency=frequency,noise_floor=noise_floor,no_harmonics=no_harmonics,plot=False,manual=False))\n",
    "        signal_resp_per_harmonic = np.stack(np.sqrt(response_list), axis=1)\n",
    "        for i in np.arange(0,len(no_harmonics),1):\n",
    "            signal_list.append(np.mean(signal_resp_per_harmonic[i]))\n",
    "    for j,signal in enumerate(signal_list):\n",
    "        #print(signal)\n",
    "        if(signal>limit_list[2]):\n",
    "            lambda_list.append(alpha_list[j])\n",
    "            #print(signal,alpha_list[j])\n",
    "            break\n",
    "    \n",
    "#signal_list2 = np.reshape(signal_list,(90,len(no_harmonics)))\n"
   ]
  },
  {
   "cell_type": "code",
   "execution_count": 31,
   "metadata": {},
   "outputs": [
    {
     "data": {
      "image/png": "[encoded data removed]",
      "text/plain": [
       "<Figure size 432x288 with 1 Axes>"
      ]
     },
     "metadata": {},
     "output_type": "display_data"
    }
   ],
   "source": [
    "plt.plot(lambda_yuk_vals[:len(lambda_list)]/1e-6,lambda_list)\n",
    "plt.yscale(\"log\")\n",
    "plt.xscale(\"log\")\n"
   ]
  },
  {
   "cell_type": "code",
   "execution_count": null,
   "metadata": {},
   "outputs": [],
   "source": []
  },
  {
   "cell_type": "code",
   "execution_count": 32,
   "metadata": {},
   "outputs": [
    {
     "name": "stderr",
     "output_type": "stream",
     "text": [
      "100%|██████████| 100/100 [05:28<00:00,  3.29s/it]\n"
     ]
    }
   ],
   "source": [
    "no_harmonics = [3]\n",
    "alpha_list=[]\n",
    "lambda_list=[]\n",
    "lambda_yuk_vals= np.logspace(-6.3, -3, 100)\n",
    "lambda_yuk_vals = lambda_yuk_vals[::-1]\n",
    "\n",
    "\n",
    "for lambda_yuk in tqdm(lambda_yuk_vals):\n",
    "    signal_list=[]\n",
    "    alpha_list=[]\n",
    "    force_x_yuk = res_dict_side_by_side[2.4e-6][separation][0][lambda_yuk][3] # force by the yukawa potential\n",
    "    for alpha in np.geomspace(1e05,1e14,90):\n",
    "        response_list=[]\n",
    "        alpha_list.append(alpha)\n",
    "        for k in np.arange(0,50,1):\n",
    "            response_list.append(measurement_response_harmonics(alpha=alpha,int_time=1,fs=5000,pos_vec=pos_x,force_vec=force_x_yuk,stroke=400e-6,frequency=frequency,noise_floor=noise_floor,no_harmonics=no_harmonics,plot=False,manual=False))\n",
    "        signal_resp_per_harmonic = np.stack(np.sqrt(response_list), axis=1)\n",
    "        for i in np.arange(0,len(no_harmonics),1):\n",
    "            signal_list.append(np.mean(signal_resp_per_harmonic[i]))\n",
    "    for j,signal in enumerate(signal_list):\n",
    "        #print(signal)\n",
    "        if(signal>limit_list[2]):\n",
    "            lambda_list.append(alpha_list[j])\n",
    "            #print(signal,alpha_list[j])\n",
    "            break\n",
    "    \n",
    "#signal_list2 = np.reshape(signal_list,(90,len(no_harmonics)))\n"
   ]
  },
  {
   "cell_type": "code",
   "execution_count": 33,
   "metadata": {},
   "outputs": [
    {
     "data": {
      "image/png": "[encoded data removed]",
      "text/plain": [
       "<Figure size 432x288 with 1 Axes>"
      ]
     },
     "metadata": {},
     "output_type": "display_data"
    }
   ],
   "source": [
    "plt.plot(lambda_yuk_vals[:len(lambda_list)]/1e-6,lambda_list)\n",
    "plt.yscale(\"log\")\n",
    "plt.xscale(\"log\")\n"
   ]
  },
  {
   "cell_type": "code",
   "execution_count": 20,
   "metadata": {},
   "outputs": [],
   "source": [
    "from joblib import Parallel, delayed\n",
    "import multiprocessing\n",
    "num_cores = 24\n",
    "\n",
    "\n",
    "def alpha_response(alpha):\n",
    "    response_list=[]\n",
    "    for k in np.arange(0,500,1):\n",
    "        response_list.append(measurement_response_harmonics(alpha=alpha,int_time=1e5,fs=5000,pos_vec=pos_x,force_vec=force_x_yuk,stroke=300e-6,frequency=frequency,noise_floor=noise_floor,no_harmonics=no_harmonics,plot=False,manual=False))\n",
    "    signal_resp_per_harmonic = np.stack(np.sqrt(response_list), axis=1)\n",
    "    return np.mean(signal_resp_per_harmonic)"
   ]
  },
  {
   "cell_type": "code",
   "execution_count": 21,
   "metadata": {},
   "outputs": [
    {
     "name": "stderr",
     "output_type": "stream",
     "text": [
      "\n",
      "\n",
      "\n",
      "  0%|          | 0/100 [00:00<?, ?it/s]\u001b[A\u001b[A\u001b[A\n",
      "\n",
      "\n",
      "  1%|          | 1/100 [00:06<11:05,  6.72s/it]\u001b[A\u001b[A\u001b[A\n",
      "\n",
      "\n",
      "  2%|▏         | 2/100 [00:12<10:44,  6.58s/it]\u001b[A\u001b[A\u001b[A\n",
      "\n",
      "\n",
      "  3%|▎         | 3/100 [00:19<10:39,  6.59s/it]\u001b[A\u001b[A\u001b[A\n",
      "\n",
      "\n",
      "  4%|▍         | 4/100 [00:25<10:22,  6.49s/it]\u001b[A\u001b[A\u001b[A\n",
      "\n",
      "\n",
      "  5%|▌         | 5/100 [00:32<10:13,  6.46s/it]\u001b[A\u001b[A\u001b[A\n",
      "\n",
      "\n",
      "  6%|▌         | 6/100 [00:38<10:03,  6.42s/it]\u001b[A\u001b[A\u001b[A\n",
      "\n",
      "\n",
      "  7%|▋         | 7/100 [00:44<09:49,  6.34s/it]\u001b[A\u001b[A\u001b[A\n",
      "\n",
      "\n",
      "  8%|▊         | 8/100 [00:50<09:39,  6.30s/it]\u001b[A\u001b[A\u001b[A\n",
      "\n",
      "\n",
      "  9%|▉         | 9/100 [00:57<09:32,  6.29s/it]\u001b[A\u001b[A\u001b[A\n",
      "\n",
      "\n",
      " 10%|█         | 10/100 [01:03<09:18,  6.21s/it]\u001b[A\u001b[A\u001b[A\n",
      "\n",
      "\n",
      " 11%|█         | 11/100 [01:09<09:18,  6.28s/it]\u001b[A\u001b[A\u001b[A\n",
      "\n",
      "\n",
      " 12%|█▏        | 12/100 [01:16<09:23,  6.40s/it]\u001b[A\u001b[A\u001b[A\n",
      "\n",
      "\n",
      " 13%|█▎        | 13/100 [01:22<09:16,  6.40s/it]\u001b[A\u001b[A\u001b[A\n",
      "\n",
      "\n",
      " 14%|█▍        | 14/100 [01:28<09:06,  6.36s/it]\u001b[A\u001b[A\u001b[A\n",
      "\n",
      "\n",
      " 15%|█▌        | 15/100 [01:35<08:58,  6.33s/it]\u001b[A\u001b[A\u001b[A\n",
      "\n",
      "\n",
      " 16%|█▌        | 16/100 [01:41<08:55,  6.37s/it]\u001b[A\u001b[A\u001b[A\n",
      "\n",
      "\n",
      " 17%|█▋        | 17/100 [01:48<08:49,  6.38s/it]\u001b[A\u001b[A\u001b[A\n",
      "\n",
      "\n",
      " 18%|█▊        | 18/100 [01:54<08:40,  6.35s/it]\u001b[A\u001b[A\u001b[A\n",
      "\n",
      "\n",
      " 19%|█▉        | 19/100 [02:00<08:28,  6.28s/it]\u001b[A\u001b[A\u001b[A\n",
      "\n",
      "\n",
      " 20%|██        | 20/100 [02:06<08:19,  6.24s/it]\u001b[A\u001b[A\u001b[A\n",
      "\n",
      "\n",
      " 21%|██        | 21/100 [02:12<08:10,  6.21s/it]\u001b[A\u001b[A\u001b[A\n",
      "\n",
      "\n",
      " 22%|██▏       | 22/100 [02:19<08:07,  6.25s/it]\u001b[A\u001b[A\u001b[A\n",
      "\n",
      "\n",
      " 23%|██▎       | 23/100 [02:25<08:00,  6.23s/it]\u001b[A\u001b[A\u001b[A\n",
      "\n",
      "\n",
      " 24%|██▍       | 24/100 [02:31<07:57,  6.29s/it]\u001b[A\u001b[A\u001b[A\n",
      "\n",
      "\n",
      " 25%|██▌       | 25/100 [02:38<07:55,  6.35s/it]\u001b[A\u001b[A\u001b[A\n",
      "\n",
      "\n",
      " 26%|██▌       | 26/100 [02:45<08:01,  6.50s/it]\u001b[A\u001b[A\u001b[A\n",
      "\n",
      "\n",
      " 27%|██▋       | 27/100 [02:51<07:48,  6.42s/it]\u001b[A\u001b[A\u001b[A\n",
      "\n",
      "\n",
      " 28%|██▊       | 28/100 [02:57<07:41,  6.41s/it]\u001b[A\u001b[A\u001b[A\n",
      "\n",
      "\n",
      " 29%|██▉       | 29/100 [03:03<07:30,  6.34s/it]\u001b[A\u001b[A\u001b[A\n",
      "\n",
      "\n",
      " 30%|███       | 30/100 [03:10<07:19,  6.27s/it]\u001b[A\u001b[A\u001b[A\n",
      "\n",
      "\n",
      " 31%|███       | 31/100 [03:16<07:11,  6.25s/it]\u001b[A\u001b[A\u001b[A\n",
      "\n",
      "\n",
      " 32%|███▏      | 32/100 [03:22<07:04,  6.24s/it]\u001b[A\u001b[A\u001b[A\n",
      "\n",
      "\n",
      " 33%|███▎      | 33/100 [03:28<07:02,  6.31s/it]\u001b[A\u001b[A\u001b[A\n",
      "\n",
      "\n",
      " 34%|███▍      | 34/100 [03:35<06:54,  6.28s/it]\u001b[A\u001b[A\u001b[A\n",
      "\n",
      "\n",
      " 35%|███▌      | 35/100 [03:41<06:50,  6.31s/it]\u001b[A\u001b[A\u001b[A\n",
      "\n",
      "\n",
      " 36%|███▌      | 36/100 [03:48<06:47,  6.37s/it]\u001b[A\u001b[A\u001b[A\n",
      "\n",
      "\n",
      " 37%|███▋      | 37/100 [03:54<06:41,  6.37s/it]\u001b[A\u001b[A\u001b[A\n",
      "\n",
      "\n",
      " 38%|███▊      | 38/100 [04:00<06:34,  6.37s/it]\u001b[A\u001b[A\u001b[A\n",
      "\n",
      "\n",
      " 39%|███▉      | 39/100 [04:07<06:31,  6.42s/it]\u001b[A\u001b[A\u001b[A\n",
      "\n",
      "\n",
      " 40%|████      | 40/100 [04:13<06:21,  6.36s/it]\u001b[A\u001b[A\u001b[A\n",
      "\n",
      "\n",
      " 41%|████      | 41/100 [04:19<06:15,  6.36s/it]\u001b[A\u001b[A\u001b[A\n",
      "\n",
      "\n",
      " 42%|████▏     | 42/100 [04:26<06:10,  6.38s/it]\u001b[A\u001b[A\u001b[A\n",
      "\n",
      "\n",
      " 43%|████▎     | 43/100 [04:32<05:59,  6.30s/it]\u001b[A\u001b[A\u001b[A\n",
      "\n",
      "\n",
      " 44%|████▍     | 44/100 [04:38<05:52,  6.30s/it]\u001b[A\u001b[A\u001b[A\n",
      "\n",
      "\n",
      " 45%|████▌     | 45/100 [04:44<05:43,  6.25s/it]\u001b[A\u001b[A\u001b[A\n",
      "\n",
      "\n",
      " 46%|████▌     | 46/100 [04:51<05:39,  6.29s/it]\u001b[A\u001b[A\u001b[A\n",
      "\n",
      "\n",
      " 47%|████▋     | 47/100 [04:57<05:30,  6.23s/it]\u001b[A\u001b[A\u001b[A\n",
      "\n",
      "\n",
      " 48%|████▊     | 48/100 [05:03<05:27,  6.30s/it]\u001b[A\u001b[A\u001b[A\n",
      "\n",
      "\n",
      " 49%|████▉     | 49/100 [05:10<05:23,  6.34s/it]\u001b[A\u001b[A\u001b[A\n",
      "\n",
      "\n",
      " 50%|█████     | 50/100 [05:16<05:17,  6.35s/it]\u001b[A\u001b[A\u001b[A\n",
      "\n",
      "\n",
      " 51%|█████     | 51/100 [05:22<05:09,  6.31s/it]\u001b[A\u001b[A\u001b[A\n",
      "\n",
      "\n",
      " 52%|█████▏    | 52/100 [05:28<05:00,  6.26s/it]\u001b[A\u001b[A\u001b[A\n",
      "\n",
      "\n",
      " 53%|█████▎    | 53/100 [05:35<04:52,  6.21s/it]\u001b[A\u001b[A\u001b[A\n",
      "\n",
      "\n",
      " 54%|█████▍    | 54/100 [05:41<04:45,  6.21s/it]\u001b[A\u001b[A\u001b[A\n",
      "\n",
      "\n",
      " 55%|█████▌    | 55/100 [05:47<04:38,  6.19s/it]\u001b[A\u001b[A\u001b[A\n",
      "\n",
      "\n",
      " 56%|█████▌    | 56/100 [05:53<04:31,  6.17s/it]\u001b[A\u001b[A\u001b[A\n",
      "\n",
      "\n",
      " 57%|█████▋    | 57/100 [05:59<04:26,  6.19s/it]\u001b[A\u001b[A\u001b[A\n",
      "\n",
      "\n",
      " 58%|█████▊    | 58/100 [06:06<04:22,  6.24s/it]\u001b[A\u001b[A\u001b[A\n",
      "\n",
      "\n",
      " 59%|█████▉    | 59/100 [06:12<04:15,  6.24s/it]\u001b[A\u001b[A\u001b[A\n",
      "\n",
      "\n",
      " 60%|██████    | 60/100 [06:18<04:09,  6.24s/it]\u001b[A\u001b[A\u001b[A\n",
      "\n",
      "\n",
      " 61%|██████    | 61/100 [06:24<04:04,  6.26s/it]\u001b[A\u001b[A\u001b[A\n",
      "\n",
      "\n",
      " 62%|██████▏   | 62/100 [06:31<04:00,  6.34s/it]\u001b[A\u001b[A\u001b[A\n",
      "\n",
      "\n",
      " 63%|██████▎   | 63/100 [06:37<03:56,  6.38s/it]\u001b[A\u001b[A\u001b[A\n",
      "\n",
      "\n",
      " 64%|██████▍   | 64/100 [06:44<03:51,  6.42s/it]\u001b[A\u001b[A\u001b[A\n",
      "\n",
      "\n",
      " 65%|██████▌   | 65/100 [06:50<03:45,  6.44s/it]\u001b[A\u001b[A\u001b[A\n",
      "\n",
      "\n",
      " 66%|██████▌   | 66/100 [06:57<03:39,  6.44s/it]\u001b[A\u001b[A\u001b[A\n",
      "\n",
      "\n",
      " 67%|██████▋   | 67/100 [07:03<03:30,  6.38s/it]\u001b[A\u001b[A\u001b[A\n",
      "\n",
      "\n",
      " 68%|██████▊   | 68/100 [07:09<03:24,  6.38s/it]\u001b[A\u001b[A\u001b[A\n",
      "\n",
      "\n",
      " 69%|██████▉   | 69/100 [07:16<03:18,  6.40s/it]\u001b[A\u001b[A\u001b[A\n",
      "\n",
      "\n",
      " 70%|███████   | 70/100 [07:22<03:10,  6.36s/it]\u001b[A\u001b[A\u001b[A\n",
      "\n",
      "\n",
      " 71%|███████   | 71/100 [07:29<03:04,  6.36s/it]\u001b[A\u001b[A\u001b[A\n",
      "\n",
      "\n",
      " 72%|███████▏  | 72/100 [07:35<02:57,  6.35s/it]\u001b[A\u001b[A\u001b[A\n",
      "\n",
      "\n",
      " 73%|███████▎  | 73/100 [07:41<02:52,  6.38s/it]\u001b[A\u001b[A\u001b[A\n",
      "\n",
      "\n",
      " 74%|███████▍  | 74/100 [07:48<02:45,  6.35s/it]\u001b[A\u001b[A\u001b[A\n",
      "\n",
      "\n",
      " 75%|███████▌  | 75/100 [07:54<02:38,  6.32s/it]\u001b[A\u001b[A\u001b[A\n",
      "\n",
      "\n",
      " 76%|███████▌  | 76/100 [08:00<02:31,  6.30s/it]\u001b[A\u001b[A\u001b[A\n",
      "\n",
      "\n",
      " 77%|███████▋  | 77/100 [08:07<02:25,  6.34s/it]\u001b[A\u001b[A\u001b[A\n",
      "\n",
      "\n",
      " 78%|███████▊  | 78/100 [08:13<02:19,  6.34s/it]\u001b[A\u001b[A\u001b[A\n",
      "\n",
      "\n",
      " 79%|███████▉  | 79/100 [08:19<02:11,  6.28s/it]\u001b[A\u001b[A\u001b[A\n",
      "\n",
      "\n",
      " 80%|████████  | 80/100 [08:25<02:05,  6.29s/it]\u001b[A\u001b[A\u001b[A\n",
      "\n",
      "\n",
      " 81%|████████  | 81/100 [08:31<01:58,  6.25s/it]\u001b[A\u001b[A\u001b[A\n",
      "\n",
      "\n",
      " 82%|████████▏ | 82/100 [08:38<01:52,  6.23s/it]\u001b[A\u001b[A\u001b[A\n",
      "\n",
      "\n",
      " 83%|████████▎ | 83/100 [08:44<01:45,  6.20s/it]\u001b[A\u001b[A\u001b[A\n",
      "\n",
      "\n",
      " 84%|████████▍ | 84/100 [08:50<01:39,  6.21s/it]\u001b[A\u001b[A\u001b[A\n",
      "\n",
      "\n",
      " 85%|████████▌ | 85/100 [08:56<01:33,  6.24s/it]\u001b[A\u001b[A\u001b[A\n",
      "\n",
      "\n",
      " 86%|████████▌ | 86/100 [09:03<01:27,  6.26s/it]\u001b[A\u001b[A\u001b[A\n",
      "\n",
      "\n",
      " 87%|████████▋ | 87/100 [09:09<01:22,  6.38s/it]\u001b[A\u001b[A\u001b[A\n",
      "\n",
      "\n",
      " 88%|████████▊ | 88/100 [09:16<01:16,  6.33s/it]\u001b[A\u001b[A\u001b[A\n",
      "\n",
      "\n",
      " 89%|████████▉ | 89/100 [09:22<01:09,  6.31s/it]\u001b[A\u001b[A\u001b[A\n",
      "\n",
      "\n",
      " 90%|█████████ | 90/100 [09:28<01:03,  6.32s/it]\u001b[A\u001b[A\u001b[A\n",
      "\n",
      "\n",
      " 91%|█████████ | 91/100 [09:35<00:57,  6.37s/it]\u001b[A\u001b[A\u001b[A\n",
      "\n",
      "\n",
      " 92%|█████████▏| 92/100 [09:41<00:50,  6.34s/it]\u001b[A\u001b[A\u001b[A\n",
      "\n",
      "\n",
      " 93%|█████████▎| 93/100 [09:47<00:44,  6.31s/it]\u001b[A\u001b[A\u001b[A\n",
      "\n",
      "\n",
      " 94%|█████████▍| 94/100 [09:53<00:37,  6.33s/it]\u001b[A\u001b[A\u001b[A\n",
      "\n",
      "\n",
      " 95%|█████████▌| 95/100 [10:00<00:31,  6.33s/it]\u001b[A\u001b[A\u001b[A"
     ]
    },
    {
     "ename": "StopIteration",
     "evalue": "",
     "output_type": "error",
     "traceback": [
      "\u001b[0;31m---------------------------------------------------------------------------\u001b[0m",
      "\u001b[0;31mStopIteration\u001b[0m                             Traceback (most recent call last)",
      "\u001b[0;32m<ipython-input-21-ea71cd1d4015>\u001b[0m in \u001b[0;36m<module>\u001b[0;34m()\u001b[0m\n\u001b[1;32m     12\u001b[0m     \u001b[0mforce_x_yuk\u001b[0m \u001b[0;34m=\u001b[0m \u001b[0mres_dict_side_by_side\u001b[0m\u001b[0;34m[\u001b[0m\u001b[0;36m2.4e-6\u001b[0m\u001b[0;34m]\u001b[0m\u001b[0;34m[\u001b[0m\u001b[0mseparation\u001b[0m\u001b[0;34m]\u001b[0m\u001b[0;34m[\u001b[0m\u001b[0;36m0\u001b[0m\u001b[0;34m]\u001b[0m\u001b[0;34m[\u001b[0m\u001b[0mlambda_yuk\u001b[0m\u001b[0;34m]\u001b[0m\u001b[0;34m[\u001b[0m\u001b[0;36m3\u001b[0m\u001b[0;34m]\u001b[0m \u001b[0;31m# force by the yukawa potential\u001b[0m\u001b[0;34m\u001b[0m\u001b[0;34m\u001b[0m\u001b[0m\n\u001b[1;32m     13\u001b[0m     \u001b[0malpha_result\u001b[0m \u001b[0;34m=\u001b[0m \u001b[0mParallel\u001b[0m\u001b[0;34m(\u001b[0m\u001b[0mn_jobs\u001b[0m\u001b[0;34m=\u001b[0m\u001b[0mnum_cores\u001b[0m\u001b[0;34m)\u001b[0m\u001b[0;34m(\u001b[0m\u001b[0mdelayed\u001b[0m\u001b[0;34m(\u001b[0m\u001b[0malpha_response\u001b[0m\u001b[0;34m)\u001b[0m\u001b[0;34m(\u001b[0m\u001b[0malpha\u001b[0m\u001b[0;34m)\u001b[0m \u001b[0;32mfor\u001b[0m \u001b[0malpha\u001b[0m \u001b[0;32min\u001b[0m \u001b[0malpha_list\u001b[0m\u001b[0;34m)\u001b[0m\u001b[0;34m\u001b[0m\u001b[0;34m\u001b[0m\u001b[0m\n\u001b[0;32m---> 14\u001b[0;31m     \u001b[0mlambda_list\u001b[0m\u001b[0;34m.\u001b[0m\u001b[0mappend\u001b[0m\u001b[0;34m(\u001b[0m\u001b[0malpha_list\u001b[0m\u001b[0;34m[\u001b[0m\u001b[0mnext\u001b[0m\u001b[0;34m(\u001b[0m\u001b[0mx\u001b[0m\u001b[0;34m[\u001b[0m\u001b[0;36m0\u001b[0m\u001b[0;34m]\u001b[0m \u001b[0;32mfor\u001b[0m \u001b[0mx\u001b[0m \u001b[0;32min\u001b[0m \u001b[0menumerate\u001b[0m\u001b[0;34m(\u001b[0m\u001b[0malpha_result\u001b[0m\u001b[0;34m)\u001b[0m \u001b[0;32mif\u001b[0m \u001b[0mx\u001b[0m\u001b[0;34m[\u001b[0m\u001b[0;36m1\u001b[0m\u001b[0;34m]\u001b[0m \u001b[0;34m>\u001b[0m \u001b[0;34m(\u001b[0m\u001b[0mlimit_list\u001b[0m\u001b[0;34m[\u001b[0m\u001b[0;36m2\u001b[0m\u001b[0;34m]\u001b[0m\u001b[0;34m)\u001b[0m\u001b[0;34m/\u001b[0m\u001b[0mnp\u001b[0m\u001b[0;34m.\u001b[0m\u001b[0msqrt\u001b[0m\u001b[0;34m(\u001b[0m\u001b[0;36m1e5\u001b[0m\u001b[0;34m)\u001b[0m\u001b[0;34m)\u001b[0m\u001b[0;34m]\u001b[0m\u001b[0;34m)\u001b[0m\u001b[0;34m\u001b[0m\u001b[0;34m\u001b[0m\u001b[0m\n\u001b[0m\u001b[1;32m     15\u001b[0m \u001b[0;34m\u001b[0m\u001b[0m\n\u001b[1;32m     16\u001b[0m \u001b[0;34m\u001b[0m\u001b[0m\n",
      "\u001b[0;31mStopIteration\u001b[0m: "
     ]
    }
   ],
   "source": [
    "no_harmonics = [6]\n",
    "alpha_list=[]\n",
    "lambda_list=[]\n",
    "lambda_yuk_vals= np.logspace(-6.3, -3, 100)\n",
    "lambda_yuk_vals = lambda_yuk_vals[::-1]\n",
    "\n",
    "\n",
    "for lambda_yuk in tqdm(lambda_yuk_vals[:]):\n",
    "    #print(lambda_yuk)\n",
    "    signal_list=[]\n",
    "    alpha_list=np.geomspace(1e3,1e13,300)\n",
    "    force_x_yuk = res_dict_side_by_side[2.4e-6][separation][0][lambda_yuk][3] # force by the yukawa potential\n",
    "    alpha_result = Parallel(n_jobs=num_cores)(delayed(alpha_response)(alpha) for alpha in alpha_list)\n",
    "    lambda_list.append(alpha_list[next(x[0] for x in enumerate(alpha_result) if x[1] > (limit_list[2])/np.sqrt(1e5))])\n",
    "    \n",
    "\n",
    "    \n",
    "#signal_list2 = np.reshape(signal_list,(90,len(no_harmonics)))\n"
   ]
  },
  {
   "cell_type": "code",
   "execution_count": 22,
   "metadata": {},
   "outputs": [
    {
     "data": {
      "text/plain": [
       "[2387406.771860647,\n",
       " 2387406.771860647,\n",
       " 2210454.6299710195,\n",
       " 2387406.771860647,\n",
       " 2387406.771860647,\n",
       " 2387406.771860647,\n",
       " 2387406.771860647,\n",
       " 2387406.771860647,\n",
       " 2387406.771860647,\n",
       " 2387406.771860647,\n",
       " 2387406.771860647,\n",
       " 2387406.771860647,\n",
       " 2387406.771860647,\n",
       " 2387406.771860647,\n",
       " 2387406.771860647,\n",
       " 2387406.771860647,\n",
       " 2387406.771860647,\n",
       " 2387406.771860647,\n",
       " 2387406.771860647,\n",
       " 2387406.771860647,\n",
       " 2387406.771860647,\n",
       " 2387406.771860647,\n",
       " 2387406.771860647,\n",
       " 2387406.771860647,\n",
       " 2387406.771860647,\n",
       " 2387406.771860647,\n",
       " 2387406.771860647,\n",
       " 2387406.771860647,\n",
       " 2387406.771860647,\n",
       " 2210454.6299710195,\n",
       " 2578524.3528842763,\n",
       " 2387406.771860647,\n",
       " 2387406.771860647,\n",
       " 2387406.771860647,\n",
       " 2387406.771860647,\n",
       " 2210454.6299710195,\n",
       " 2387406.771860647,\n",
       " 2387406.771860647,\n",
       " 2387406.771860647,\n",
       " 2387406.771860647,\n",
       " 2387406.771860647,\n",
       " 2578524.3528842763,\n",
       " 2578524.3528842763,\n",
       " 2387406.771860647,\n",
       " 2387406.771860647,\n",
       " 2387406.771860647,\n",
       " 2578524.3528842763,\n",
       " 2578524.3528842763,\n",
       " 2578524.3528842763,\n",
       " 2578524.3528842763,\n",
       " 2578524.3528842763,\n",
       " 2784941.3500806442,\n",
       " 2784941.3500806442,\n",
       " 2784941.3500806442,\n",
       " 2784941.3500806442,\n",
       " 3007882.5180430957,\n",
       " 3007882.5180430957,\n",
       " 3248670.655878375,\n",
       " 3508734.4559027147,\n",
       " 3789616.980644716,\n",
       " 4092984.818452434,\n",
       " 4420637.97202853,\n",
       " 4774520.538566131,\n",
       " 4774520.538566131,\n",
       " 5569540.905800125,\n",
       " 6015395.880274832,\n",
       " 7017038.286703822,\n",
       " 8185467.30706902,\n",
       " 9548455.102782303,\n",
       " 11138398.264826182,\n",
       " 14033215.376054848,\n",
       " 16369930.01611702,\n",
       " 20624397.525140926,\n",
       " 28064708.46309839,\n",
       " 35358593.665351756,\n",
       " 48114308.390032545,\n",
       " 60618989.93497572,\n",
       " 82487465.52614582,\n",
       " 121230540.13376528,\n",
       " 178170631.95457324,\n",
       " 282816678.0230029,\n",
       " 415651255.8225988,\n",
       " 659778247.953952,\n",
       " 1131127876.5939214,\n",
       " 1795480124.6878266,\n",
       " 3590739891.0610623,\n",
       " 6648787838.417276,\n",
       " 13296759674.6621,\n",
       " 26591887445.12691,\n",
       " 57437737488.26563,\n",
       " 124063915905.88293,\n",
       " 312595900048.2272,\n",
       " 850679341636.4136,\n",
       " 2314986671851.1562,\n",
       " 6804181968927.094]"
      ]
     },
     "execution_count": 22,
     "metadata": {},
     "output_type": "execute_result"
    }
   ],
   "source": [
    "lambda_list"
   ]
  },
  {
   "cell_type": "code",
   "execution_count": 36,
   "metadata": {},
   "outputs": [
    {
     "data": {
      "image/png": "[encoded data removed]",
      "text/plain": [
       "<Figure size 432x288 with 1 Axes>"
      ]
     },
     "metadata": {},
     "output_type": "display_data"
    }
   ],
   "source": [
    "lambdas_real = np.loadtxt(\"Results/alpha_7.50e-06_sep_3.00e-04_stroke_2500_k_6_harmonics_20190902.txt\")\n",
    "alphas_real = np.loadtxt(\"Results/lambda_7.50e-06_sep_3.00e-04_stroke_2.50e+03_k_6_harmonics_20190902.txt\")\n",
    "\n",
    "plt.plot(lambda_yuk_vals[:len(lambda_list)]/1e-6,lambda_list)\n",
    "plt.plot(lambdas_real/1e-6,alphas_real/np.sqrt(1e5))\n",
    "plt.yscale(\"log\")\n",
    "plt.xscale(\"log\")\n"
   ]
  },
  {
   "cell_type": "code",
   "execution_count": 77,
   "metadata": {},
   "outputs": [],
   "source": [
    "x = np.linspace(1,1000,10000)\n",
    "x_val = lambda_yuk_vals[:len(lambda_list)]/1e-6"
   ]
  },
  {
   "cell_type": "code",
   "execution_count": 79,
   "metadata": {},
   "outputs": [],
   "source": [
    "test = np.interp(x,x_val,lambda_list, left=None, right=None, period=None)\n"
   ]
  },
  {
   "cell_type": "code",
   "execution_count": 80,
   "metadata": {},
   "outputs": [
    {
     "data": {
      "image/png": "[encoded data removed]",
      "text/plain": [
       "<Figure size 432x288 with 1 Axes>"
      ]
     },
     "metadata": {},
     "output_type": "display_data"
    }
   ],
   "source": [
    "plt.plot(x,test)\n",
    "plt.yscale(\"log\")\n",
    "plt.xscale(\"log\")"
   ]
  },
  {
   "cell_type": "code",
   "execution_count": 66,
   "metadata": {},
   "outputs": [
    {
     "data": {
      "text/plain": [
       "array([   1.        ,    1.00069108,    1.00138264, ...,  998.61926487,\n",
       "        999.30939397, 1000.        ])"
      ]
     },
     "execution_count": 66,
     "metadata": {},
     "output_type": "execute_result"
    }
   ],
   "source": [
    "x"
   ]
  },
  {
   "cell_type": "code",
   "execution_count": 71,
   "metadata": {},
   "outputs": [
    {
     "data": {
      "image/png": "[encoded data removed]",
      "text/plain": [
       "<Figure size 432x288 with 1 Axes>"
      ]
     },
     "metadata": {},
     "output_type": "display_data"
    }
   ],
   "source": [
    "plt.plot(lambda_yuk_vals[:len(lambda_list)]/1e-6,lambda_list)\n",
    "plt.yscale(\"log\")\n",
    "plt.xscale(\"log\")\n"
   ]
  },
  {
   "cell_type": "code",
   "execution_count": 100,
   "metadata": {},
   "outputs": [
    {
     "data": {
      "text/plain": [
       "array([1.00000000e+03, 9.26118728e+02, 8.57695899e+02, 7.94328235e+02,\n",
       "       7.35642254e+02, 6.81292069e+02, 6.30957344e+02, 5.84341413e+02,\n",
       "       5.41169527e+02, 5.01187234e+02, 4.64158883e+02, 4.29866235e+02,\n",
       "       3.98107171e+02, 3.68694506e+02, 3.41454887e+02, 3.16227766e+02,\n",
       "       2.92864456e+02, 2.71227258e+02, 2.51188643e+02, 2.32630507e+02,\n",
       "       2.15443469e+02, 1.99526231e+02, 1.84784980e+02, 1.71132830e+02,\n",
       "       1.58489319e+02, 1.46779927e+02, 1.35935639e+02, 1.25892541e+02,\n",
       "       1.16591440e+02, 1.07977516e+02, 1.00000000e+02, 9.26118728e+01,\n",
       "       8.57695899e+01, 7.94328235e+01, 7.35642254e+01, 6.81292069e+01,\n",
       "       6.30957344e+01, 5.84341413e+01, 5.41169527e+01, 5.01187234e+01,\n",
       "       4.64158883e+01, 4.29866235e+01, 3.98107171e+01, 3.68694506e+01,\n",
       "       3.41454887e+01, 3.16227766e+01, 2.92864456e+01, 2.71227258e+01,\n",
       "       2.51188643e+01, 2.32630507e+01, 2.15443469e+01, 1.99526231e+01,\n",
       "       1.84784980e+01, 1.71132830e+01, 1.58489319e+01, 1.46779927e+01,\n",
       "       1.35935639e+01, 1.25892541e+01, 1.16591440e+01, 1.07977516e+01,\n",
       "       1.00000000e+01, 9.26118728e+00, 8.57695899e+00, 7.94328235e+00,\n",
       "       7.35642254e+00, 6.81292069e+00, 6.30957344e+00, 5.84341413e+00,\n",
       "       5.41169527e+00, 5.01187234e+00, 4.64158883e+00, 4.29866235e+00,\n",
       "       3.98107171e+00, 3.68694506e+00, 3.41454887e+00, 3.16227766e+00,\n",
       "       2.92864456e+00, 2.71227258e+00, 2.51188643e+00, 2.32630507e+00,\n",
       "       2.15443469e+00, 1.99526231e+00, 1.84784980e+00, 1.71132830e+00,\n",
       "       1.58489319e+00, 1.46779927e+00, 1.35935639e+00, 1.25892541e+00,\n",
       "       1.16591440e+00, 1.07977516e+00, 1.00000000e+00])"
      ]
     },
     "execution_count": 100,
     "metadata": {},
     "output_type": "execute_result"
    }
   ],
   "source": [
    "x_val"
   ]
  },
  {
   "cell_type": "code",
   "execution_count": 117,
   "metadata": {},
   "outputs": [
    {
     "data": {
      "image/png": "[encoded data removed]",
      "text/plain": [
       "<Figure size 432x288 with 1 Axes>"
      ]
     },
     "metadata": {},
     "output_type": "display_data"
    }
   ],
   "source": [
    "from scipy.interpolate import make_interp_spline, BSpline\n",
    "\n",
    "xnew = np.linspace(x_val.min(),x_val.max(),3000) #300 represents number of points to make between T.min and T.max\n",
    "\n",
    "spl = make_interp_spline(sorted(x_val), lambda_list, k=3) #BSpline object\n",
    "power_smooth = spl(xnew)\n",
    "\n",
    "plt.plot(xnew,power_smooth)\n",
    "plt.yscale(\"log\")\n",
    "plt.xscale(\"log\")\n",
    "plt.show()"
   ]
  },
  {
   "cell_type": "code",
   "execution_count": null,
   "metadata": {},
   "outputs": [],
   "source": [
    "plt.plot(lambda_yuk_vals[:len(lambda_list)]/1e-6,lambda_list)\n",
    "plt.yscale(\"log\")\n",
    "plt.xscale(\"log\")"
   ]
  },
  {
   "cell_type": "code",
   "execution_count": null,
   "metadata": {},
   "outputs": [],
   "source": []
  }
 ],
 "metadata": {
  "kernelspec": {
   "display_name": "Python 3",
   "language": "python",
   "name": "python3"
  },
  "language_info": {
   "codemirror_mode": {
    "name": "ipython",
    "version": 3
   },
   "file_extension": ".py",
   "mimetype": "text/x-python",
   "name": "python",
   "nbconvert_exporter": "python",
   "pygments_lexer": "ipython3",
   "version": "3.6.9"
  }
 },
 "nbformat": 4,
 "nbformat_minor": 4
}
